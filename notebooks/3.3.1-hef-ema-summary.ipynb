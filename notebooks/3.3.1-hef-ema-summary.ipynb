{
 "cells": [
  {
   "cell_type": "markdown",
   "metadata": {},
   "source": [
    "# Exploring the UTx000 Dataset\n",
    "From the first cohort in Spring 2020"
   ]
  },
  {
   "cell_type": "code",
   "execution_count": 2,
   "metadata": {},
   "outputs": [],
   "source": [
    "import warnings\n",
    "warnings.filterwarnings('ignore')"
   ]
  },
  {
   "cell_type": "markdown",
   "metadata": {},
   "source": [
    "# EMA Summary\n",
    "This dataset was more or less a trial run, but some of these data could be useful. We need to look at what kind of data we can recover from the EMAs in addition to getting some statistics on the participation level."
   ]
  },
  {
   "cell_type": "code",
   "execution_count": 3,
   "metadata": {},
   "outputs": [],
   "source": [
    "import os\n",
    "\n",
    "import pandas as pd\n",
    "import numpy as np\n",
    "\n",
    "from datetime import datetime, timedelta\n",
    "\n",
    "import matplotlib.pyplot as plt\n",
    "import seaborn as sns"
   ]
  },
  {
   "cell_type": "markdown",
   "metadata": {},
   "source": [
    "# Data Import\n",
    "We can import the morning and evening surveys now that they have been processed."
   ]
  },
  {
   "cell_type": "code",
   "execution_count": 8,
   "metadata": {},
   "outputs": [
    {
     "name": "stdout",
     "output_type": "stream",
     "text": [
      "                           ID  Content  Stress  Lonely  Sad  Energy  \\\n",
      "2020-02-03 11:06:25  6mkypp1o        2       1     0.0    0       2   \n",
      "2020-03-01 20:01:45  6mkypp1o        2       1     0.0    0       3   \n",
      "2020-02-28 09:06:27  6mkypp1o        1       1     0.0    0       1   \n",
      "2020-02-21 08:30:11  6mkypp1o        2       0     0.0    0       1   \n",
      "2020-02-10 11:25:38  6mkypp1o        1       1     0.0    0       2   \n",
      "\n",
      "                            TST            SOL  NAW  Restful  \n",
      "2020-02-03 11:06:25   6-7 hours  10-20 minutes  NaN        2  \n",
      "2020-03-01 20:01:45  9-10 hours  10-20 minutes  NaN        2  \n",
      "2020-02-28 09:06:27   6-7 hours  10-20 minutes  2.0        1  \n",
      "2020-02-21 08:30:11   5-6 hours  10-20 minutes  2.0        1  \n",
      "2020-02-10 11:25:38   6-7 hours  10-20 minutes  NaN        1  \n",
      "                           ID  Content  Stress  Lonely  Sad  Energy\n",
      "2020-02-04 11:10:22  6mkypp1o      2.0     2.0       1    1       3\n",
      "2020-03-07 12:19:00  6mkypp1o      1.0     2.0       0    2       2\n",
      "2020-02-03 10:04:37  6mkypp1o      2.0     1.0       0    0       2\n",
      "2020-03-01 19:01:56  6mkypp1o      2.0     1.0       0    0       3\n",
      "2020-02-10 19:05:36  6mkypp1o      2.0     1.0       0    0       3\n"
     ]
    }
   ],
   "source": [
    "survey = {}\n",
    "for timing in ['morning','evening']:\n",
    "    df = pd.read_csv(f'../data/processed/bpeace1-{timing}-survey.csv',\n",
    "                     index_col=0,parse_dates=True,infer_datetime_format=True)\n",
    "    print(df.head())\n",
    "    survey[timing] = df"
   ]
  },
  {
   "cell_type": "markdown",
   "metadata": {},
   "source": [
    "# Data Inspection\n",
    "Here we do some simple visualizations to check out how much data we have available."
   ]
  },
  {
   "cell_type": "markdown",
   "metadata": {},
   "source": [
    "## By the Numbers\n"
   ]
  },
  {
   "cell_type": "code",
   "execution_count": 9,
   "metadata": {},
   "outputs": [
    {
     "name": "stdout",
     "output_type": "stream",
     "text": [
      "Number of Participants submitting morning surveys:\t73\n",
      "Number of Participants submitting evening surveys:\t73\n"
     ]
    }
   ],
   "source": [
    "for key, val in survey.items():\n",
    "    n = len(val['ID'].unique())\n",
    "    print(f'Number of Participants submitting {key} surveys:\\t{n}')"
   ]
  },
  {
   "cell_type": "markdown",
   "metadata": {},
   "source": [
    "## Heatmap\n"
   ]
  },
  {
   "cell_type": "code",
   "execution_count": null,
   "metadata": {},
   "outputs": [],
   "source": []
  }
 ],
 "metadata": {
  "kernelspec": {
   "display_name": "Python 3",
   "language": "python",
   "name": "python3"
  },
  "language_info": {
   "codemirror_mode": {
    "name": "ipython",
    "version": 3
   },
   "file_extension": ".py",
   "mimetype": "text/x-python",
   "name": "python",
   "nbconvert_exporter": "python",
   "pygments_lexer": "ipython3",
   "version": "3.7.0"
  }
 },
 "nbformat": 4,
 "nbformat_minor": 4
}
