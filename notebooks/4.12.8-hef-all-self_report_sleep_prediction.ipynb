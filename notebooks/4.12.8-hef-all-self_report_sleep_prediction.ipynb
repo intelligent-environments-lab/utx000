{
 "cells": [
  {
   "cell_type": "markdown",
   "metadata": {},
   "source": [
    "# Self-Report Sleep Prediction\n",
    "In this modified analysis, we only consider the IAQ data from the beacon as features to attempt to predict the self-reported sleep quality metrics.\n",
    "\n",
    "## Features\n",
    "In this analysis, we are going to consider the following features:\n",
    "\n",
    "**IAQ**: There are many measurements of IAQ that we consider:\n",
    "\n",
    "    * CO$_2$\n",
    "    * CO\n",
    "    * PM$_{2.5}$\n",
    "    * TVOCs\n",
    "    * Temperature\n",
    "    * Relative Humidity\n",
    "    \n",
    "## Targets\n",
    "The targets will be all metrics related to sleep quality:\n",
    "\n",
    "**Self-Report**: There are four metrics for self-report sleep quality reported via EMA:\n",
    "\n",
    "    * TST\n",
    "    * SOL\n",
    "    * NAW\n",
    "    * Restfulness"
   ]
  },
  {
   "cell_type": "code",
   "execution_count": 55,
   "metadata": {},
   "outputs": [
    {
     "name": "stdout",
     "output_type": "stream",
     "text": [
      "The autoreload extension is already loaded. To reload it, use:\n",
      "  %reload_ext autoreload\n"
     ]
    }
   ],
   "source": [
    "import warnings\n",
    "warnings.filterwarnings('ignore')\n",
    "\n",
    "%load_ext autoreload\n",
    "%autoreload 2"
   ]
  },
  {
   "cell_type": "code",
   "execution_count": 56,
   "metadata": {},
   "outputs": [],
   "source": [
    "# general\n",
    "import os\n",
    "import sys\n",
    "sys.path.append('../')\n",
    "# user-defined functions\n",
    "from src.visualization import visualize\n",
    "# basic data science\n",
    "import pandas as pd\n",
    "pd.set_option('display.max_columns', 200)\n",
    "import numpy as np\n",
    "# timeseries\n",
    "from datetime import datetime, timedelta\n",
    "# plotting\n",
    "import matplotlib.pyplot as plt\n",
    "from matplotlib import cm\n",
    "from matplotlib.colors import ListedColormap, LinearSegmentedColormap\n",
    "import seaborn as sns\n",
    "import matplotlib.dates as mdates"
   ]
  },
  {
   "cell_type": "markdown",
   "metadata": {},
   "source": [
    "<a id=\"toc\"></a>"
   ]
  },
  {
   "cell_type": "markdown",
   "metadata": {},
   "source": [
    "# Table of Contents\n",
    "1. [Data Import](#data_import)\n",
    "3. [Target Encoding](#encoding)\n",
    "4. [Feature Engineering](#feature_engineering)\n",
    "5. [Prediction](#prediction)\n",
    "    1. [Fitbit Sleep Targets](#fitbit-sleep-prediction)\n",
    "        1. TST\n",
    "        2. SOL\n",
    "        3. WASO\n",
    "        4. REM:nREM\n",
    "        5. SE\n",
    "    2. [Self-Report Sleep Targets](#self-report-sleep-prediction)\n",
    "        1. TST\n",
    "        2. SOL\n",
    "        3. NAW\n",
    "        4. Restfulness\n",
    "6. [Prediction with Encoded Features](#prediction_encoded)\n",
    "7. [Final Analysis](#final_analysis)"
   ]
  },
  {
   "cell_type": "markdown",
   "metadata": {},
   "source": [
    "<a id=\"data-import\"></a>"
   ]
  },
  {
   "cell_type": "markdown",
   "metadata": {},
   "source": [
    "---"
   ]
  },
  {
   "cell_type": "markdown",
   "metadata": {},
   "source": [
    "<a id=\"data_import\"></a>"
   ]
  },
  {
   "cell_type": "markdown",
   "metadata": {},
   "source": [
    "# Data Import\n",
    "For this analysis we want to only consider nights when we have _all_ the available data. These are also the nights that we have confirmed participants are home according to GPS traces. "
   ]
  },
  {
   "cell_type": "markdown",
   "metadata": {},
   "source": [
    "## Feature: IEQ\n",
    "We start with IEQ data beacuse from previous analysis, this dataset has already been curated to include the relevant nights. However, there are quite a few columns that are not necessary for this analysis that have to be removed."
   ]
  },
  {
   "cell_type": "code",
   "execution_count": 3,
   "metadata": {},
   "outputs": [
    {
     "data": {
      "text/html": [
       "<div>\n",
       "<style scoped>\n",
       "    .dataframe tbody tr th:only-of-type {\n",
       "        vertical-align: middle;\n",
       "    }\n",
       "\n",
       "    .dataframe tbody tr th {\n",
       "        vertical-align: top;\n",
       "    }\n",
       "\n",
       "    .dataframe thead th {\n",
       "        text-align: right;\n",
       "    }\n",
       "</style>\n",
       "<table border=\"1\" class=\"dataframe\">\n",
       "  <thead>\n",
       "    <tr style=\"text-align: right;\">\n",
       "      <th></th>\n",
       "      <th>beiwe</th>\n",
       "      <th>start_time</th>\n",
       "      <th>end_time</th>\n",
       "      <th>tvoc_median</th>\n",
       "      <th>co_median</th>\n",
       "      <th>co2_median</th>\n",
       "      <th>pm2p5_mass_median</th>\n",
       "      <th>temperature_c_median</th>\n",
       "      <th>rh_median</th>\n",
       "      <th>fitbit_median</th>\n",
       "      <th>end_date</th>\n",
       "    </tr>\n",
       "  </thead>\n",
       "  <tbody>\n",
       "    <tr>\n",
       "      <th>0</th>\n",
       "      <td>4i7679py</td>\n",
       "      <td>2020-07-06 07:29:30</td>\n",
       "      <td>2020-07-06 12:58:00</td>\n",
       "      <td>86.988188</td>\n",
       "      <td>6.887317</td>\n",
       "      <td>661.802117</td>\n",
       "      <td>23.723769</td>\n",
       "      <td>28.045646</td>\n",
       "      <td>51.900000</td>\n",
       "      <td>38.0</td>\n",
       "      <td>2020-07-06</td>\n",
       "    </tr>\n",
       "    <tr>\n",
       "      <th>1</th>\n",
       "      <td>4i7679py</td>\n",
       "      <td>2020-07-22 06:08:00</td>\n",
       "      <td>2020-07-22 09:46:30</td>\n",
       "      <td>87.556903</td>\n",
       "      <td>6.128722</td>\n",
       "      <td>634.789367</td>\n",
       "      <td>0.000000</td>\n",
       "      <td>28.045646</td>\n",
       "      <td>49.836667</td>\n",
       "      <td>38.0</td>\n",
       "      <td>2020-07-22</td>\n",
       "    </tr>\n",
       "    <tr>\n",
       "      <th>2</th>\n",
       "      <td>4i7679py</td>\n",
       "      <td>2020-07-30 05:42:30</td>\n",
       "      <td>2020-07-30 09:43:00</td>\n",
       "      <td>87.633434</td>\n",
       "      <td>6.097933</td>\n",
       "      <td>593.142571</td>\n",
       "      <td>0.000000</td>\n",
       "      <td>28.045646</td>\n",
       "      <td>51.753333</td>\n",
       "      <td>38.0</td>\n",
       "      <td>2020-07-30</td>\n",
       "    </tr>\n",
       "    <tr>\n",
       "      <th>3</th>\n",
       "      <td>4i7679py</td>\n",
       "      <td>2020-08-05 05:02:30</td>\n",
       "      <td>2020-08-05 09:52:30</td>\n",
       "      <td>59.919139</td>\n",
       "      <td>5.997469</td>\n",
       "      <td>590.241211</td>\n",
       "      <td>0.000000</td>\n",
       "      <td>28.045646</td>\n",
       "      <td>47.466667</td>\n",
       "      <td>38.0</td>\n",
       "      <td>2020-08-05</td>\n",
       "    </tr>\n",
       "    <tr>\n",
       "      <th>4</th>\n",
       "      <td>4i7679py</td>\n",
       "      <td>2020-08-06 05:53:00</td>\n",
       "      <td>2020-08-06 09:25:00</td>\n",
       "      <td>45.097536</td>\n",
       "      <td>5.981596</td>\n",
       "      <td>610.843120</td>\n",
       "      <td>35.778177</td>\n",
       "      <td>28.045646</td>\n",
       "      <td>49.030000</td>\n",
       "      <td>38.0</td>\n",
       "      <td>2020-08-06</td>\n",
       "    </tr>\n",
       "  </tbody>\n",
       "</table>\n",
       "</div>"
      ],
      "text/plain": [
       "      beiwe          start_time            end_time  tvoc_median  co_median  \\\n",
       "0  4i7679py 2020-07-06 07:29:30 2020-07-06 12:58:00    86.988188   6.887317   \n",
       "1  4i7679py 2020-07-22 06:08:00 2020-07-22 09:46:30    87.556903   6.128722   \n",
       "2  4i7679py 2020-07-30 05:42:30 2020-07-30 09:43:00    87.633434   6.097933   \n",
       "3  4i7679py 2020-08-05 05:02:30 2020-08-05 09:52:30    59.919139   5.997469   \n",
       "4  4i7679py 2020-08-06 05:53:00 2020-08-06 09:25:00    45.097536   5.981596   \n",
       "\n",
       "   co2_median  pm2p5_mass_median  temperature_c_median  rh_median  \\\n",
       "0  661.802117          23.723769             28.045646  51.900000   \n",
       "1  634.789367           0.000000             28.045646  49.836667   \n",
       "2  593.142571           0.000000             28.045646  51.753333   \n",
       "3  590.241211           0.000000             28.045646  47.466667   \n",
       "4  610.843120          35.778177             28.045646  49.030000   \n",
       "\n",
       "   fitbit_median   end_date  \n",
       "0           38.0 2020-07-06  \n",
       "1           38.0 2020-07-22  \n",
       "2           38.0 2020-07-30  \n",
       "3           38.0 2020-08-05  \n",
       "4           38.0 2020-08-06  "
      ]
     },
     "execution_count": 3,
     "metadata": {},
     "output_type": "execute_result"
    }
   ],
   "source": [
    "ieq_raw = pd.read_csv(\"../data/processed/beacon_by_night-ux_s20.csv\",parse_dates=[\"start_time\",\"end_time\",],infer_datetime_format=True)\n",
    "ieq_raw.dropna(subset=[\"tvoc\",\"co2\",\"pm2p5_mass\",\"co\"],inplace=True)\n",
    "ieq_raw = ieq_raw[(ieq_raw[\"home\"] == 1) | (ieq_raw[\"increasing_co2\"] > 0.5)]\n",
    "ieq_raw.drop([\"home\",\"increasing_co2\",\"ema\",\"pm1_number\",\"pm2p5_number\",\"pm10_number\",\"pm1_mass\",\"pm10_mass\",\"no2\",\"lux\",\"beacon\",\"redcap\"],axis=\"columns\",inplace=True)\n",
    "ieq_raw = ieq_raw.groupby([\"beiwe\",\"start_time\",\"end_time\"]).median(numeric_only=None)\n",
    "ieq_raw = ieq_raw.add_suffix(\"_median\")\n",
    "ieq_raw.reset_index(inplace=True)\n",
    "ieq = ieq_raw.copy()\n",
    "ieq[\"end_date\"] =  pd.to_datetime(ieq[\"end_time\"].dt.date)\n",
    "ieq.head()"
   ]
  },
  {
   "cell_type": "markdown",
   "metadata": {},
   "source": [
    "## Target: Self-Report Sleep Quality (SRSQ)\n",
    "The self-reported sleep quality comes from the morning EMAs."
   ]
  },
  {
   "cell_type": "code",
   "execution_count": 4,
   "metadata": {},
   "outputs": [
    {
     "data": {
      "text/html": [
       "<div>\n",
       "<style scoped>\n",
       "    .dataframe tbody tr th:only-of-type {\n",
       "        vertical-align: middle;\n",
       "    }\n",
       "\n",
       "    .dataframe tbody tr th {\n",
       "        vertical-align: top;\n",
       "    }\n",
       "\n",
       "    .dataframe thead th {\n",
       "        text-align: right;\n",
       "    }\n",
       "</style>\n",
       "<table border=\"1\" class=\"dataframe\">\n",
       "  <thead>\n",
       "    <tr style=\"text-align: right;\">\n",
       "      <th></th>\n",
       "      <th>timestamp</th>\n",
       "      <th>end_date</th>\n",
       "      <th>beiwe</th>\n",
       "      <th>redcap</th>\n",
       "      <th>beacon</th>\n",
       "      <th>tst</th>\n",
       "      <th>sol</th>\n",
       "      <th>naw</th>\n",
       "      <th>restful</th>\n",
       "    </tr>\n",
       "  </thead>\n",
       "  <tbody>\n",
       "    <tr>\n",
       "      <th>0</th>\n",
       "      <td>2020-05-13 09:10:27</td>\n",
       "      <td>2020-05-13</td>\n",
       "      <td>qh34m4r9</td>\n",
       "      <td>68</td>\n",
       "      <td>19.0</td>\n",
       "      <td>8.0</td>\n",
       "      <td>20.0</td>\n",
       "      <td>2.0</td>\n",
       "      <td>3.0</td>\n",
       "    </tr>\n",
       "    <tr>\n",
       "      <th>1</th>\n",
       "      <td>2020-05-13 09:15:49</td>\n",
       "      <td>2020-05-13</td>\n",
       "      <td>awa8uces</td>\n",
       "      <td>28</td>\n",
       "      <td>26.0</td>\n",
       "      <td>2.0</td>\n",
       "      <td>10.0</td>\n",
       "      <td>3.0</td>\n",
       "      <td>1.0</td>\n",
       "    </tr>\n",
       "    <tr>\n",
       "      <th>2</th>\n",
       "      <td>2020-05-13 09:42:19</td>\n",
       "      <td>2020-05-13</td>\n",
       "      <td>xxvnhauv</td>\n",
       "      <td>21</td>\n",
       "      <td>22.0</td>\n",
       "      <td>6.0</td>\n",
       "      <td>30.0</td>\n",
       "      <td>3.0</td>\n",
       "      <td>1.0</td>\n",
       "    </tr>\n",
       "    <tr>\n",
       "      <th>3</th>\n",
       "      <td>2020-05-13 09:43:27</td>\n",
       "      <td>2020-05-13</td>\n",
       "      <td>rvhdl2la</td>\n",
       "      <td>29</td>\n",
       "      <td>NaN</td>\n",
       "      <td>5.3</td>\n",
       "      <td>5.0</td>\n",
       "      <td>2.0</td>\n",
       "      <td>2.0</td>\n",
       "    </tr>\n",
       "    <tr>\n",
       "      <th>4</th>\n",
       "      <td>2020-05-13 10:11:51</td>\n",
       "      <td>2020-05-13</td>\n",
       "      <td>q5y11ytm</td>\n",
       "      <td>48</td>\n",
       "      <td>NaN</td>\n",
       "      <td>2.0</td>\n",
       "      <td>10.0</td>\n",
       "      <td>0.0</td>\n",
       "      <td>0.0</td>\n",
       "    </tr>\n",
       "  </tbody>\n",
       "</table>\n",
       "</div>"
      ],
      "text/plain": [
       "            timestamp   end_date     beiwe  redcap  beacon  tst   sol  naw  \\\n",
       "0 2020-05-13 09:10:27 2020-05-13  qh34m4r9      68    19.0  8.0  20.0  2.0   \n",
       "1 2020-05-13 09:15:49 2020-05-13  awa8uces      28    26.0  2.0  10.0  3.0   \n",
       "2 2020-05-13 09:42:19 2020-05-13  xxvnhauv      21    22.0  6.0  30.0  3.0   \n",
       "3 2020-05-13 09:43:27 2020-05-13  rvhdl2la      29     NaN  5.3   5.0  2.0   \n",
       "4 2020-05-13 10:11:51 2020-05-13  q5y11ytm      48     NaN  2.0  10.0  0.0   \n",
       "\n",
       "   restful  \n",
       "0      3.0  \n",
       "1      1.0  \n",
       "2      1.0  \n",
       "3      2.0  \n",
       "4      0.0  "
      ]
     },
     "execution_count": 4,
     "metadata": {},
     "output_type": "execute_result"
    }
   ],
   "source": [
    "srsq_raw = pd.read_csv(\"../data/processed/beiwe-morning_ema-ux_s20.csv\",parse_dates=[\"timestamp\"],infer_datetime_format=True)\n",
    "srsq_raw[\"end_date\"] = pd.to_datetime(srsq_raw[\"timestamp\"].dt.date)\n",
    "srsq = srsq_raw[[\"timestamp\",\"end_date\",\"beiwe\",\"redcap\",\"beacon\",\"tst\",\"sol\",\"naw\",\"restful\"]]\n",
    "srsq.head()"
   ]
  },
  {
   "cell_type": "markdown",
   "metadata": {},
   "source": [
    "[Back to Data Import](#data_import)"
   ]
  },
  {
   "cell_type": "markdown",
   "metadata": {},
   "source": [
    "---"
   ]
  },
  {
   "cell_type": "markdown",
   "metadata": {},
   "source": [
    "<a id=\"encoding\" ></a>"
   ]
  },
  {
   "cell_type": "markdown",
   "metadata": {},
   "source": [
    "[Back to ToC](#toc)\n",
    "# Target Encoding\n",
    "We will encode all the target sleep quality variables as binary where 0 represents poor/negative outcomes and 1 are good/positive outcomes."
   ]
  },
  {
   "cell_type": "code",
   "execution_count": 5,
   "metadata": {},
   "outputs": [],
   "source": [
    "def plot_distribution(df, variable,**kwargs):\n",
    "    \"\"\"plots distribution of values\"\"\"\n",
    "    fig, ax = plt.subplots(figsize=(12,4))\n",
    "    # density plot\n",
    "    sns.kdeplot(x=variable,cut=0,data=df,zorder=2,\n",
    "                linewidth=3,color=\"black\",ax=ax)\n",
    "    # x-axis\n",
    "    plt.xticks(fontsize=14)\n",
    "    ax.set_xlabel(variable.upper(),fontsize=16)\n",
    "    if \"xlim\" in kwargs.keys():\n",
    "        ax.set_xlim(kwargs[\"xlim\"])\n",
    "    else:\n",
    "        ax.set_xlim([0,max(df[variable])])\n",
    "    # cumulative\n",
    "    ax2 = ax.twinx()\n",
    "    sns.kdeplot(x=variable,cut=0,data=df,cumulative=True,zorder=1,\n",
    "                linewidth=2,color=\"firebrick\",ax=ax2)\n",
    "    # y-axis\n",
    "    ax.set_yticks([])\n",
    "    ax.set_ylabel(\"\")\n",
    "    ax2.set_ylabel(\"\")\n",
    "    ax2.set_ylim([0,1])\n",
    "    ax2.set_yticks([0,0.25,0.5,0.75,1])\n",
    "    plt.yticks(fontsize=14)\n",
    "    # remainder\n",
    "    for loc in [\"left\",\"top\"]:\n",
    "        ax.spines[loc].set_visible(False)\n",
    "        ax2.spines[loc].set_visible(False)\n",
    "    plt.show()\n",
    "    plt.close()"
   ]
  },
  {
   "cell_type": "code",
   "execution_count": 6,
   "metadata": {},
   "outputs": [],
   "source": [
    "def plot_summary_count(df,params):\n",
    "    \"\"\"\n",
    "    Plots a barplot of a binary responses\n",
    "    \n",
    "    Parameters\n",
    "    ----------\n",
    "    df : DataFrame\n",
    "        data\n",
    "    param : str\n",
    "        parameter to inspect - must correspond to a column name in df\n",
    "        \n",
    "    Returns\n",
    "    -------\n",
    "    <void>\n",
    "    \"\"\"\n",
    "    _, axes = plt.subplots(1,len(params),figsize=(4*len(params),4),sharey=True)\n",
    "    for param, ax in zip(params,axes):\n",
    "        # count\n",
    "        sns.countplot(x=param,data=df,edgecolor=\"black\",palette=[\"firebrick\",\"seagreen\"],ax=ax)\n",
    "        # stats\n",
    "        ax.text(0,len(df),f\"Mean: {round(np.nanmean(df[param]),2)}\",va=\"top\",ha=\"center\",fontsize=14)\n",
    "        # x-axis\n",
    "        ax.set_xlabel(param.split(\"_\")[0].upper(),fontsize=16)\n",
    "        # y-axis\n",
    "        ax.set_ylabel(\"\")\n",
    "        ax.set_ylim([0,len(df)])\n",
    "        # remainder\n",
    "        ax.tick_params(labelsize=14)\n",
    "        for loc in [\"top\",\"right\"]:\n",
    "            ax.spines[loc].set_visible(False)\n",
    "            \n",
    "    axes[0].set_ylabel(\"Count\",fontsize=16)\n",
    "        \n",
    "    plt.show()\n",
    "    plt.close()"
   ]
  },
  {
   "cell_type": "markdown",
   "metadata": {},
   "source": [
    "## TST\n",
    "Based on a \"traditional\" recommendations, we can lump `tst` into three categories:\n",
    "\n",
    "| TST | Rating | Value |\n",
    "| --- | --- | --- |\n",
    "| >9 h | High | 0 |\n",
    "| 7-9 h | Typical | 1 |\n",
    "| <7 h | Low | 0 |"
   ]
  },
  {
   "cell_type": "code",
   "execution_count": 7,
   "metadata": {},
   "outputs": [],
   "source": [
    "def encode_tst(value):\n",
    "    \"\"\"returns score of tsts\"\"\"\n",
    "    if value > 9:\n",
    "        return 0\n",
    "    elif value >= 7:\n",
    "        return 1\n",
    "    else:\n",
    "        return 0"
   ]
  },
  {
   "cell_type": "markdown",
   "metadata": {},
   "source": [
    "## SOL\n",
    "The National Sleep Foundation says 30 minutes or less is a marker for good sleep quality. However, looking at the distribution of values, perhaps we should alter that threshold since many of the participants fall asleep faster than that."
   ]
  },
  {
   "cell_type": "code",
   "execution_count": 8,
   "metadata": {},
   "outputs": [
    {
     "data": {
      "image/png": "[encoded data removed]",
      "text/plain": [
       "<Figure size 864x288 with 2 Axes>"
      ]
     },
     "metadata": {
      "needs_background": "light"
     },
     "output_type": "display_data"
    }
   ],
   "source": [
    "plot_distribution(srsq,\"sol\")"
   ]
  },
  {
   "cell_type": "code",
   "execution_count": 9,
   "metadata": {},
   "outputs": [],
   "source": [
    "def encode_sol(value):\n",
    "    \"\"\"returns score of sol\"\"\"\n",
    "    if value < 15:\n",
    "        return 1\n",
    "    else:\n",
    "        return 0"
   ]
  },
  {
   "cell_type": "markdown",
   "metadata": {},
   "source": [
    "## NAW\n",
    "We group NAW into a good and bad category based on [Ohayon et al., 2017](https://www.sciencedirect.com/science/article/pii/S2352721816301309?casa_token=56p9duOGsL4AAAAA:tmPWLtzq0Z9zGGq-w0qWBXJT-VEDeoZ0dOwL06G-BwbWMHA3uT_KBjxd08HPyFZWNqIpm_0m).\n",
    "\n",
    "| NAW | Rating | Value |\n",
    "| --- | --- | --- |\n",
    "| 0 or 1 | Good | 1 |\n",
    "| >1 | Bad | 0 |"
   ]
  },
  {
   "cell_type": "code",
   "execution_count": 10,
   "metadata": {},
   "outputs": [],
   "source": [
    "def encode_naw(value):\n",
    "    \"\"\"returns score of naw\"\"\"\n",
    "    if value < 2:\n",
    "        return 1\n",
    "    else:\n",
    "        return 0"
   ]
  },
  {
   "cell_type": "markdown",
   "metadata": {},
   "source": [
    "## Restfulness\n",
    "Restfulness is one of the five metrics that is rated on a 0 to 3 Likert scale. So we can create a more generic function here for later use."
   ]
  },
  {
   "cell_type": "code",
   "execution_count": 11,
   "metadata": {},
   "outputs": [],
   "source": [
    "def encode_likert(value):\n",
    "    \"\"\"returns score for a 0-3 Likert measurement\"\"\"\n",
    "    if value > 1:\n",
    "        return 1\n",
    "    else:\n",
    "        return 0"
   ]
  },
  {
   "cell_type": "markdown",
   "metadata": {},
   "source": [
    "## Encoding Self-Report Sleep Quality\n",
    "We start with self-report metrics of sleep quality."
   ]
  },
  {
   "cell_type": "code",
   "execution_count": 12,
   "metadata": {},
   "outputs": [
    {
     "data": {
      "text/html": [
       "<div>\n",
       "<style scoped>\n",
       "    .dataframe tbody tr th:only-of-type {\n",
       "        vertical-align: middle;\n",
       "    }\n",
       "\n",
       "    .dataframe tbody tr th {\n",
       "        vertical-align: top;\n",
       "    }\n",
       "\n",
       "    .dataframe thead th {\n",
       "        text-align: right;\n",
       "    }\n",
       "</style>\n",
       "<table border=\"1\" class=\"dataframe\">\n",
       "  <thead>\n",
       "    <tr style=\"text-align: right;\">\n",
       "      <th></th>\n",
       "      <th>timestamp</th>\n",
       "      <th>end_date</th>\n",
       "      <th>beiwe</th>\n",
       "      <th>redcap</th>\n",
       "      <th>beacon</th>\n",
       "      <th>tst</th>\n",
       "      <th>sol</th>\n",
       "      <th>naw</th>\n",
       "      <th>restful</th>\n",
       "      <th>tst_binary</th>\n",
       "      <th>sol_binary</th>\n",
       "      <th>naw_binary</th>\n",
       "      <th>restful_binary</th>\n",
       "    </tr>\n",
       "  </thead>\n",
       "  <tbody>\n",
       "    <tr>\n",
       "      <th>0</th>\n",
       "      <td>2020-05-13 09:10:27</td>\n",
       "      <td>2020-05-13</td>\n",
       "      <td>qh34m4r9</td>\n",
       "      <td>68</td>\n",
       "      <td>19.0</td>\n",
       "      <td>8.0</td>\n",
       "      <td>20.0</td>\n",
       "      <td>2.0</td>\n",
       "      <td>3.0</td>\n",
       "      <td>1</td>\n",
       "      <td>0</td>\n",
       "      <td>0</td>\n",
       "      <td>1</td>\n",
       "    </tr>\n",
       "    <tr>\n",
       "      <th>1</th>\n",
       "      <td>2020-05-13 09:15:49</td>\n",
       "      <td>2020-05-13</td>\n",
       "      <td>awa8uces</td>\n",
       "      <td>28</td>\n",
       "      <td>26.0</td>\n",
       "      <td>2.0</td>\n",
       "      <td>10.0</td>\n",
       "      <td>3.0</td>\n",
       "      <td>1.0</td>\n",
       "      <td>0</td>\n",
       "      <td>1</td>\n",
       "      <td>0</td>\n",
       "      <td>0</td>\n",
       "    </tr>\n",
       "    <tr>\n",
       "      <th>2</th>\n",
       "      <td>2020-05-13 09:42:19</td>\n",
       "      <td>2020-05-13</td>\n",
       "      <td>xxvnhauv</td>\n",
       "      <td>21</td>\n",
       "      <td>22.0</td>\n",
       "      <td>6.0</td>\n",
       "      <td>30.0</td>\n",
       "      <td>3.0</td>\n",
       "      <td>1.0</td>\n",
       "      <td>0</td>\n",
       "      <td>0</td>\n",
       "      <td>0</td>\n",
       "      <td>0</td>\n",
       "    </tr>\n",
       "    <tr>\n",
       "      <th>3</th>\n",
       "      <td>2020-05-13 09:43:27</td>\n",
       "      <td>2020-05-13</td>\n",
       "      <td>rvhdl2la</td>\n",
       "      <td>29</td>\n",
       "      <td>NaN</td>\n",
       "      <td>5.3</td>\n",
       "      <td>5.0</td>\n",
       "      <td>2.0</td>\n",
       "      <td>2.0</td>\n",
       "      <td>0</td>\n",
       "      <td>1</td>\n",
       "      <td>0</td>\n",
       "      <td>1</td>\n",
       "    </tr>\n",
       "    <tr>\n",
       "      <th>4</th>\n",
       "      <td>2020-05-13 10:11:51</td>\n",
       "      <td>2020-05-13</td>\n",
       "      <td>q5y11ytm</td>\n",
       "      <td>48</td>\n",
       "      <td>NaN</td>\n",
       "      <td>2.0</td>\n",
       "      <td>10.0</td>\n",
       "      <td>0.0</td>\n",
       "      <td>0.0</td>\n",
       "      <td>0</td>\n",
       "      <td>1</td>\n",
       "      <td>1</td>\n",
       "      <td>0</td>\n",
       "    </tr>\n",
       "  </tbody>\n",
       "</table>\n",
       "</div>"
      ],
      "text/plain": [
       "            timestamp   end_date     beiwe  redcap  beacon  tst   sol  naw  \\\n",
       "0 2020-05-13 09:10:27 2020-05-13  qh34m4r9      68    19.0  8.0  20.0  2.0   \n",
       "1 2020-05-13 09:15:49 2020-05-13  awa8uces      28    26.0  2.0  10.0  3.0   \n",
       "2 2020-05-13 09:42:19 2020-05-13  xxvnhauv      21    22.0  6.0  30.0  3.0   \n",
       "3 2020-05-13 09:43:27 2020-05-13  rvhdl2la      29     NaN  5.3   5.0  2.0   \n",
       "4 2020-05-13 10:11:51 2020-05-13  q5y11ytm      48     NaN  2.0  10.0  0.0   \n",
       "\n",
       "   restful  tst_binary  sol_binary  naw_binary  restful_binary  \n",
       "0      3.0           1           0           0               1  \n",
       "1      1.0           0           1           0               0  \n",
       "2      1.0           0           0           0               0  \n",
       "3      2.0           0           1           0               1  \n",
       "4      0.0           0           1           1               0  "
      ]
     },
     "execution_count": 12,
     "metadata": {},
     "output_type": "execute_result"
    }
   ],
   "source": [
    "for sm, f in zip([\"tst\",\"sol\",\"naw\",\"restful\"], [encode_tst,encode_sol,encode_naw,encode_likert]):\n",
    "    srsq[f\"{sm}_binary\"] = srsq.apply(lambda x: f(x[sm]), axis=\"columns\")\n",
    "    \n",
    "srsq.head()"
   ]
  },
  {
   "cell_type": "markdown",
   "metadata": {},
   "source": [
    "### Inspecting Distribution of Observations"
   ]
  },
  {
   "cell_type": "code",
   "execution_count": 13,
   "metadata": {},
   "outputs": [
    {
     "data": {
      "image/png": "[encoded data removed]",
      "text/plain": [
       "<Figure size 1152x288 with 4 Axes>"
      ]
     },
     "metadata": {
      "needs_background": "light"
     },
     "output_type": "display_data"
    }
   ],
   "source": [
    "plot_summary_count(srsq,[\"tst_binary\",\"sol_binary\",\"naw_binary\",\"restful_binary\"])"
   ]
  },
  {
   "cell_type": "markdown",
   "metadata": {},
   "source": [
    "[Back to Encoding](#encoding)"
   ]
  },
  {
   "cell_type": "markdown",
   "metadata": {},
   "source": [
    "---"
   ]
  },
  {
   "cell_type": "markdown",
   "metadata": {},
   "source": [
    "<a id=\"feature_engineering\" ></a>"
   ]
  },
  {
   "cell_type": "markdown",
   "metadata": {},
   "source": [
    "[Back to ToC](#toc)\n",
    "# Feature Engineering\n",
    "In the following cells, we encode the various features to binary outcomes and combine the features into one dataset. "
   ]
  },
  {
   "cell_type": "markdown",
   "metadata": {},
   "source": [
    "## Encoding IAQ\n",
    "For the IEQ data, we want to determine whether the concentrations are low or high depending on the participant's own environment. So the process will involve looking at each of the IEQ measurements from each participant, finding the mean of those nights, and then determining 1 (low) or 0 (high)."
   ]
  },
  {
   "cell_type": "code",
   "execution_count": 14,
   "metadata": {},
   "outputs": [],
   "source": [
    "def encode_ieq(value, threshold):\n",
    "    \"\"\"Scores the IEQ parameter\"\"\"\n",
    "    if value <= threshold:\n",
    "        return 1\n",
    "    else:\n",
    "        return 0"
   ]
  },
  {
   "cell_type": "markdown",
   "metadata": {},
   "source": [
    "### Thresholds"
   ]
  },
  {
   "cell_type": "code",
   "execution_count": 15,
   "metadata": {},
   "outputs": [],
   "source": [
    "thresholds = {\"co2\":1100,\"co\":4,\"tvoc\":200,\"pm2p5_mass\":6,\"temperature_c\":25.2,\"rh\":40}"
   ]
  },
  {
   "cell_type": "markdown",
   "metadata": {},
   "source": [
    "### Encoding"
   ]
  },
  {
   "cell_type": "code",
   "execution_count": 16,
   "metadata": {},
   "outputs": [
    {
     "data": {
      "text/html": [
       "<div>\n",
       "<style scoped>\n",
       "    .dataframe tbody tr th:only-of-type {\n",
       "        vertical-align: middle;\n",
       "    }\n",
       "\n",
       "    .dataframe tbody tr th {\n",
       "        vertical-align: top;\n",
       "    }\n",
       "\n",
       "    .dataframe thead th {\n",
       "        text-align: right;\n",
       "    }\n",
       "</style>\n",
       "<table border=\"1\" class=\"dataframe\">\n",
       "  <thead>\n",
       "    <tr style=\"text-align: right;\">\n",
       "      <th></th>\n",
       "      <th>beiwe</th>\n",
       "      <th>start_time</th>\n",
       "      <th>end_time</th>\n",
       "      <th>tvoc_median</th>\n",
       "      <th>co_median</th>\n",
       "      <th>co2_median</th>\n",
       "      <th>pm2p5_mass_median</th>\n",
       "      <th>temperature_c_median</th>\n",
       "      <th>rh_median</th>\n",
       "      <th>fitbit_median</th>\n",
       "      <th>end_date</th>\n",
       "      <th>co2_median_binary</th>\n",
       "      <th>co_median_binary</th>\n",
       "      <th>tvoc_median_binary</th>\n",
       "      <th>pm2p5_mass_median_binary</th>\n",
       "      <th>temperature_c_median_binary</th>\n",
       "      <th>rh_median_binary</th>\n",
       "    </tr>\n",
       "  </thead>\n",
       "  <tbody>\n",
       "    <tr>\n",
       "      <th>0</th>\n",
       "      <td>4i7679py</td>\n",
       "      <td>2020-07-06 07:29:30</td>\n",
       "      <td>2020-07-06 12:58:00</td>\n",
       "      <td>86.988188</td>\n",
       "      <td>6.887317</td>\n",
       "      <td>661.802117</td>\n",
       "      <td>23.723769</td>\n",
       "      <td>28.045646</td>\n",
       "      <td>51.900000</td>\n",
       "      <td>38.0</td>\n",
       "      <td>2020-07-06</td>\n",
       "      <td>0</td>\n",
       "      <td>0</td>\n",
       "      <td>0</td>\n",
       "      <td>0</td>\n",
       "      <td>1</td>\n",
       "      <td>0</td>\n",
       "    </tr>\n",
       "    <tr>\n",
       "      <th>1</th>\n",
       "      <td>4i7679py</td>\n",
       "      <td>2020-07-22 06:08:00</td>\n",
       "      <td>2020-07-22 09:46:30</td>\n",
       "      <td>87.556903</td>\n",
       "      <td>6.128722</td>\n",
       "      <td>634.789367</td>\n",
       "      <td>0.000000</td>\n",
       "      <td>28.045646</td>\n",
       "      <td>49.836667</td>\n",
       "      <td>38.0</td>\n",
       "      <td>2020-07-22</td>\n",
       "      <td>0</td>\n",
       "      <td>0</td>\n",
       "      <td>0</td>\n",
       "      <td>1</td>\n",
       "      <td>1</td>\n",
       "      <td>0</td>\n",
       "    </tr>\n",
       "    <tr>\n",
       "      <th>2</th>\n",
       "      <td>4i7679py</td>\n",
       "      <td>2020-07-30 05:42:30</td>\n",
       "      <td>2020-07-30 09:43:00</td>\n",
       "      <td>87.633434</td>\n",
       "      <td>6.097933</td>\n",
       "      <td>593.142571</td>\n",
       "      <td>0.000000</td>\n",
       "      <td>28.045646</td>\n",
       "      <td>51.753333</td>\n",
       "      <td>38.0</td>\n",
       "      <td>2020-07-30</td>\n",
       "      <td>1</td>\n",
       "      <td>0</td>\n",
       "      <td>0</td>\n",
       "      <td>1</td>\n",
       "      <td>1</td>\n",
       "      <td>0</td>\n",
       "    </tr>\n",
       "    <tr>\n",
       "      <th>3</th>\n",
       "      <td>4i7679py</td>\n",
       "      <td>2020-08-05 05:02:30</td>\n",
       "      <td>2020-08-05 09:52:30</td>\n",
       "      <td>59.919139</td>\n",
       "      <td>5.997469</td>\n",
       "      <td>590.241211</td>\n",
       "      <td>0.000000</td>\n",
       "      <td>28.045646</td>\n",
       "      <td>47.466667</td>\n",
       "      <td>38.0</td>\n",
       "      <td>2020-08-05</td>\n",
       "      <td>1</td>\n",
       "      <td>1</td>\n",
       "      <td>1</td>\n",
       "      <td>1</td>\n",
       "      <td>1</td>\n",
       "      <td>1</td>\n",
       "    </tr>\n",
       "    <tr>\n",
       "      <th>4</th>\n",
       "      <td>4i7679py</td>\n",
       "      <td>2020-08-06 05:53:00</td>\n",
       "      <td>2020-08-06 09:25:00</td>\n",
       "      <td>45.097536</td>\n",
       "      <td>5.981596</td>\n",
       "      <td>610.843120</td>\n",
       "      <td>35.778177</td>\n",
       "      <td>28.045646</td>\n",
       "      <td>49.030000</td>\n",
       "      <td>38.0</td>\n",
       "      <td>2020-08-06</td>\n",
       "      <td>1</td>\n",
       "      <td>1</td>\n",
       "      <td>1</td>\n",
       "      <td>0</td>\n",
       "      <td>1</td>\n",
       "      <td>1</td>\n",
       "    </tr>\n",
       "  </tbody>\n",
       "</table>\n",
       "</div>"
      ],
      "text/plain": [
       "      beiwe          start_time            end_time  tvoc_median  co_median  \\\n",
       "0  4i7679py 2020-07-06 07:29:30 2020-07-06 12:58:00    86.988188   6.887317   \n",
       "1  4i7679py 2020-07-22 06:08:00 2020-07-22 09:46:30    87.556903   6.128722   \n",
       "2  4i7679py 2020-07-30 05:42:30 2020-07-30 09:43:00    87.633434   6.097933   \n",
       "3  4i7679py 2020-08-05 05:02:30 2020-08-05 09:52:30    59.919139   5.997469   \n",
       "4  4i7679py 2020-08-06 05:53:00 2020-08-06 09:25:00    45.097536   5.981596   \n",
       "\n",
       "   co2_median  pm2p5_mass_median  temperature_c_median  rh_median  \\\n",
       "0  661.802117          23.723769             28.045646  51.900000   \n",
       "1  634.789367           0.000000             28.045646  49.836667   \n",
       "2  593.142571           0.000000             28.045646  51.753333   \n",
       "3  590.241211           0.000000             28.045646  47.466667   \n",
       "4  610.843120          35.778177             28.045646  49.030000   \n",
       "\n",
       "   fitbit_median   end_date  co2_median_binary  co_median_binary  \\\n",
       "0           38.0 2020-07-06                  0                 0   \n",
       "1           38.0 2020-07-22                  0                 0   \n",
       "2           38.0 2020-07-30                  1                 0   \n",
       "3           38.0 2020-08-05                  1                 1   \n",
       "4           38.0 2020-08-06                  1                 1   \n",
       "\n",
       "   tvoc_median_binary  pm2p5_mass_median_binary  temperature_c_median_binary  \\\n",
       "0                   0                         0                            1   \n",
       "1                   0                         1                            1   \n",
       "2                   0                         1                            1   \n",
       "3                   1                         1                            1   \n",
       "4                   1                         0                            1   \n",
       "\n",
       "   rh_median_binary  \n",
       "0                 0  \n",
       "1                 0  \n",
       "2                 0  \n",
       "3                 1  \n",
       "4                 1  "
      ]
     },
     "execution_count": 16,
     "metadata": {},
     "output_type": "execute_result"
    }
   ],
   "source": [
    "ieq_bi = pd.DataFrame()\n",
    "stat=\"median\"\n",
    "for pt in ieq[\"beiwe\"].unique():\n",
    "    ieq_pt = ieq[ieq[\"beiwe\"] == pt]\n",
    "    for pollutant in [\"co2\", \"co\",\"tvoc\",\"pm2p5_mass\",\"temperature_c\",\"rh\"]:\n",
    "        stat_per_night = np.nanmedian(ieq_pt[f\"{pollutant}_{stat}\"])\n",
    "        ieq_pt[f\"{pollutant}_{stat}_binary\"] = ieq_pt.apply(lambda x: encode_ieq(x[f\"{pollutant}_{stat}\"],stat_per_night), axis=\"columns\")\n",
    "        \n",
    "    ieq_bi = ieq_bi.append(ieq_pt)\n",
    "    \n",
    "ieq_bi.head()"
   ]
  },
  {
   "cell_type": "markdown",
   "metadata": {},
   "source": [
    "### Inspecting IAQ Outcomes"
   ]
  },
  {
   "cell_type": "code",
   "execution_count": 17,
   "metadata": {},
   "outputs": [
    {
     "data": {
      "image/png": "[encoded data removed]",
      "text/plain": [
       "<Figure size 1728x288 with 6 Axes>"
      ]
     },
     "metadata": {
      "needs_background": "light"
     },
     "output_type": "display_data"
    }
   ],
   "source": [
    "plot_summary_count(ieq_bi,[\"co2_median_binary\",\"co_median_binary\",\"tvoc_median_binary\",\"pm2p5_mass_median_binary\",\"temperature_c_median_binary\",\"rh_median_binary\"])"
   ]
  },
  {
   "cell_type": "markdown",
   "metadata": {},
   "source": [
    "[Back to Feature Engineering](#feature_engineering)"
   ]
  },
  {
   "cell_type": "markdown",
   "metadata": {},
   "source": [
    "---"
   ]
  },
  {
   "cell_type": "markdown",
   "metadata": {},
   "source": [
    "<a id=\"exploration\"></a>"
   ]
  },
  {
   "cell_type": "markdown",
   "metadata": {},
   "source": [
    "[Back to ToC](#toc)\n",
    "# Data Exploration\n",
    "Now that we have our features and targets, we can look at the data to get a better sense of what we can do with it.\n",
    "\n",
    "We have to start by combining the features and targets so that we are looking at the finalized dataset."
   ]
  },
  {
   "cell_type": "code",
   "execution_count": 18,
   "metadata": {},
   "outputs": [
    {
     "name": "stdout",
     "output_type": "stream",
     "text": [
      "745vq78e:8\n",
      "9jtzsuu8:18\n",
      "awa8uces:16\n",
      "i31pt4b4:9\n",
      "itmylz3g:11\n",
      "kyj367pi:13\n",
      "lkkjddam:39\n",
      "olaxadz5:13\n",
      "qh34m4r9:25\n",
      "rnse61g4:4\n",
      "tlmlq19s:37\n",
      "tmexej5v:22\n",
      "vr9j5rry:22\n",
      "xdbdrk6e:4\n",
      "xlw5ntd5:4\n",
      "zdpffrox:13\n",
      "Number of Observations: 258\n",
      "Number of Participants: 16\n"
     ]
    }
   ],
   "source": [
    "ieq_srsq = ieq.merge(right=srsq,on=[\"end_date\",\"beiwe\"])\n",
    "ieq_srsq = ieq_srsq[ieq_srsq[\"end_time\"] < ieq_srsq[\"timestamp\"]]\n",
    "data = pd.DataFrame()\n",
    "for pt in ieq_srsq[\"beiwe\"].unique():\n",
    "    data_pt = ieq_srsq[ieq_srsq['beiwe'] == pt]\n",
    "    if len(data_pt) > 3:\n",
    "        print(f\"{pt}:{len(data_pt)}\")\n",
    "        data = data.append(data_pt)\n",
    "print(\"Number of Observations:\", len(data))\n",
    "print(\"Number of Participants:\", len(data[\"beiwe\"].unique()))"
   ]
  },
  {
   "cell_type": "markdown",
   "metadata": {},
   "source": [
    "[Back to Data Exploration](#data_exploration)"
   ]
  },
  {
   "cell_type": "markdown",
   "metadata": {},
   "source": [
    "---"
   ]
  },
  {
   "cell_type": "markdown",
   "metadata": {},
   "source": [
    "<a id=\"prediction\"></a>"
   ]
  },
  {
   "cell_type": "markdown",
   "metadata": {},
   "source": [
    "# Prediction\n",
    "Now that we have sufficiently explored the features, we can begin to try predicting various components of sleep quality. We will try a wide-variety of classifiers to determine which is the most applicable to solving our problem. The classifiers that we use can be seen in the following cell via the `import` statements."
   ]
  },
  {
   "cell_type": "markdown",
   "metadata": {},
   "source": [
    "## Classification"
   ]
  },
  {
   "cell_type": "code",
   "execution_count": 19,
   "metadata": {},
   "outputs": [],
   "source": [
    "# Logistic Regressions\n",
    "from sklearn.linear_model import LogisticRegression\n",
    "# Decision Tree\n",
    "from sklearn.tree import DecisionTreeClassifier\n",
    "# Random Forest\n",
    "from sklearn.ensemble import RandomForestClassifier\n",
    "# Bernoulli Naive Bayes\n",
    "from sklearn.naive_bayes import BernoulliNB, GaussianNB\n",
    "# KNN\n",
    "from sklearn.neighbors import KNeighborsClassifier\n",
    "# Support Vector\n",
    "from sklearn.svm import SVC\n",
    "# Multi-Layer Perceptron\n",
    "from sklearn.neural_network import MLPClassifier\n",
    "# ADAboost\n",
    "from sklearn.ensemble import AdaBoostClassifier\n",
    "# Gradient Boost\n",
    "from sklearn.ensemble import GradientBoostingClassifier\n",
    "# Bagging\n",
    "from sklearn.ensemble import BaggingClassifier"
   ]
  },
  {
   "cell_type": "markdown",
   "metadata": {},
   "source": [
    "To automate the prediction/evaluation process, we have created the class below that utilizes the following steps:\n",
    "1. Feature and Target Data Split: The feature and target datasets are fed into the program, cross-referenced, and then split.\n",
    "2. Train/Test Split: Data are split into a training and a testing split"
   ]
  },
  {
   "cell_type": "code",
   "execution_count": 51,
   "metadata": {},
   "outputs": [],
   "source": [
    "from sklearn import metrics\n",
    "from sklearn.model_selection import train_test_split, GridSearchCV, cross_val_score, cross_val_predict, KFold, GroupKFold, LeaveOneGroupOut, StratifiedKFold\n",
    "from sklearn.metrics import roc_curve, auc, roc_auc_score, plot_roc_curve, f1_score, precision_recall_curve, plot_precision_recall_curve, accuracy_score, balanced_accuracy_score, recall_score, precision_score\n",
    "from sklearn.inspection import permutation_importance\n",
    "\n",
    "class ieq_and_sq_prediction:\n",
    "    \n",
    "    def __init__(self):\n",
    "        \"\"\"initializes the model parameters\"\"\"\n",
    "        self.classifier_model_params = {\n",
    "            \"logistic_regression\": {\n",
    "                \"model\":LogisticRegression(random_state=42,max_iter=500),\n",
    "                \"params\": {\n",
    "                    \"fit_intercept\":[True,False],\n",
    "                    \"solver\":[\"lbfgs\",\"liblinear\"],\n",
    "                }\n",
    "            },\n",
    "            \"decision_tree\":{\n",
    "                \"model\": DecisionTreeClassifier(random_state=42,criterion=\"gini\"),\n",
    "                \"params\": {\n",
    "                    \"ccp_alpha\":np.arange(0,0.1,0.005),\n",
    "                    \"max_depth\":[1,2,3,4,5,6,7,8],\n",
    "                }\n",
    "            },\n",
    "            \"random_forest\":{\n",
    "                \"model\": RandomForestClassifier(random_state=42,criterion=\"gini\"),\n",
    "                \"params\": {\n",
    "                    \"ccp_alpha\":np.arange(0,0.1,0.005),\n",
    "                    \"n_estimators\":[10,20,30,40,50],\n",
    "                    \"max_depth\":[1,2,3,4,5,6,7,8],\n",
    "                }\n",
    "            },\n",
    "            \"naive_bayes\": {\n",
    "                \"model\":GaussianNB(),\n",
    "                \"params\": {\n",
    "                }\n",
    "            }\n",
    "        }\n",
    "\n",
    "        self.tuned_models = {\"logistic_regression\":LogisticRegression(random_state=42,fit_intercept=True,solver=\"lbfgs\",max_iter=500),\n",
    "                             \"naive_bayes\":GaussianNB(),\n",
    "                             \"decision_tree\":DecisionTreeClassifier(random_state=42,max_depth=2),\n",
    "                             \"random_forest\":RandomForestClassifier(random_state=42,n_estimators=10,max_depth=2,min_samples_leaf=1,min_samples_split=2)}\n",
    "    \n",
    "    def get_features_and_targets(self, feature_set, target_set, target=\"tst\"):\n",
    "        \"\"\"gets feature set and target set for the same observations\"\"\"\n",
    "        self.target_label = target\n",
    "        print(f\"Getting Features and Target ({target})...\")\n",
    "        # selecting only important target\n",
    "        target_set_reduced = target_set[[\"beiwe\",\"end_date\",f\"{target}_binary\"]]\n",
    "        # combining datasets to get overlapping observations\n",
    "        combined = feature_set.merge(right=target_set_reduced,on=[\"beiwe\",\"end_date\"])\n",
    "        combined = combined.merge(right=combined[\"beiwe\"].value_counts().rename(\"count\"),left_on=\"beiwe\",right_index=True,how=\"left\")\n",
    "        combined = combined[combined[\"count\"] > 1]\n",
    "        combined_simple = combined[[column for column in combined.columns if column.endswith(\"binary\") or column in [\"count\",\"beiwe\"]]]\n",
    "        # splitting into features and targets\n",
    "        targets = combined_simple[[f\"{target}_binary\"]]\n",
    "        features = combined_simple.drop([f\"{target}_binary\",\"beiwe\"],axis=\"columns\")\n",
    "        self.groups = combined_simple[\"beiwe\"]\n",
    "        self.counts = features[\"count\"]\n",
    "        self.features = features.drop([\"count\"],axis=\"columns\")\n",
    "        self.targets = targets\n",
    "        \n",
    "    def split_data(self, test_size=0.33):\n",
    "        \"\"\"splits data into training and testing\"\"\"\n",
    "        print(\"Splitting Data...\")\n",
    "        self.X_train, self.X_test, self.y_train, self.y_test = train_test_split(self.features, self.targets, test_size=test_size, random_state=10, stratify=self.counts)\n",
    "        #self.X_train.drop(\"count\",axis=\"columns\",inplace=True)\n",
    "        #self.X_test.drop(\"count\",axis=\"columns\",inplace=True)\n",
    "        \n",
    "    def set_test_and_train(self,X_train,X_test,y_train,y_test):\n",
    "        \"\"\"sets the training data - use for specialized train_test_split\"\"\"\n",
    "        for dataset in [X_train,X_test,y_train,y_test]:\n",
    "            try: \n",
    "                dataset.drop([\"count\"],axis=\"columns\",inplace=True)\n",
    "            except KeyError:\n",
    "                pass\n",
    "        self.X_train = X_train\n",
    "        self.X_test = X_test\n",
    "        self.y_train = y_train\n",
    "        self.y_test = y_test\n",
    "        \n",
    "    def set_weights(self,**kwargs):\n",
    "        \"\"\"sets the weights based on the y_train data\"\"\"\n",
    "        if \"y_train\" in kwargs.keys():\n",
    "            self.y_train = kwargs[\"y_train\"]\n",
    "        try:\n",
    "            low_n = self.y_train.value_counts().sort_index().iloc[0]\n",
    "            high_n = self.y_train.value_counts().sort_index().iloc[1]\n",
    "            self.weights = [len(self.y_train) / (2 * low_n) if val == 0 else len(self.y_train) / (2 * high_n) for val in self.y_train[f\"{target}_binary\"]]\n",
    "        except Exception as e:\n",
    "            print(e)\n",
    "            self.weights = None # defaults to None so the fit() function will work\n",
    "        \n",
    "    def optimize_models(self):\n",
    "        \"\"\"runs gridsearch cv\"\"\"\n",
    "        print(\"Testing Classifiers...\")\n",
    "        try:\n",
    "            scores = []\n",
    "            params = self.classifier_model_params\n",
    "            self.set_weights()\n",
    "            for model_name, mp in params.items():\n",
    "                s = datetime.now()\n",
    "                print(f\"\\t{model_name.replace('_',' ').title()}\")\n",
    "                clf = GridSearchCV(mp[\"model\"],mp[\"params\"],cv=5,return_train_score=False)\n",
    "                clf.fit(self.X_train,self.y_train,self.weights)\n",
    "                scores.append({\n",
    "                    \"model\":model_name,\n",
    "                    \"best_score\":clf.best_score_,\n",
    "                    \"best_params\":clf.best_params_\n",
    "                })\n",
    "                print(\"\\t\\tElapsed Time:\\t\", datetime.now() - s)\n",
    "                print(f\"\\t\\tBest Score:\\t{clf.best_score_}\\n\\t\\tBest Params:\\t{clf.best_params_}\")\n",
    "\n",
    "            results = pd.DataFrame(scores,columns=[\"model\",\"best_score\",\"best_params\"])\n",
    "            # getting and saving best model\n",
    "            results.sort_values([\"best_score\"],ascending=False,inplace=True)\n",
    "            self.results = results\n",
    "            best = results.iloc[0,:]\n",
    "            # outputting results\n",
    "            print(f\"\\tBest Scoring Model:\")\n",
    "            print(f\"\\t\\tModel:\\t{best[0].replace('_',' ').title()}\\n\\t\\tScore:\\t{round(best[1],3)}\\n\\t\\tParams:\\t{best[2]}\")\n",
    "        except AttributeError:\n",
    "            print(\"Training data do not exist - run split_data()\")\n",
    "        \n",
    "    def train_model(self, model):\n",
    "        \"\"\"trains the specified model\"\"\"\n",
    "        print(\"Training...\")\n",
    "        self.model = model # necessary if running functions separately\n",
    "        try:\n",
    "            self.set_weights()\n",
    "            self.X_train = self.X_train\n",
    "            self.X_test = self.X_test\n",
    "            try:\n",
    "                self.model.fit(self.X_train,self.y_train,self.weights)\n",
    "            except TypeError:\n",
    "                self.model.fit(self.X_train,self.y_train)\n",
    "        except AttributeError:\n",
    "            print(\"Training data do not exist - run split_data()\")\n",
    "    \n",
    "    def predict(self):\n",
    "        \"\"\"gets the predicted results based on the model provided for the given target\"\"\"\n",
    "        print(\"Predicting...\")\n",
    "        try:\n",
    "            self.predictions = self.model.predict(self.X_test)\n",
    "            \n",
    "            self.score = metrics.precision_score(self.y_test,self.predictions,average=\"weighted\")\n",
    "\n",
    "            scores = cross_val_score(self.model, self.X_train, self.y_train, cv=5, scoring='precision_weighted')\n",
    "            print(\"\\tCross Validation Scores:\")\n",
    "            for scr in scores:\n",
    "                print(f\"\\t\\t{round(scr,3)}\")\n",
    "            print(f\"\\tAverage:\\t{round(scores.mean(),3)}\")\n",
    "            print(f\"\\tModel Score: {round(self.score,3)}\")\n",
    "        except AttributeError:\n",
    "            print(\"Missing attributes - make sure you split the data and trained the model\")\n",
    "        \n",
    "    def plot_confusion_matrix(self, save=False, target_label=\"\"):\n",
    "        \"\"\"plots confusion matrix\"\"\"\n",
    "        print(\"Evaluating...\")\n",
    "        # get confusion matrix\n",
    "        cm = metrics.confusion_matrix(self.y_test,self.predictions)\n",
    "        cm_df = pd.DataFrame(cm)\n",
    "        # plot confusion matrix as heatmap\n",
    "        fig, ax = plt.subplots(figsize=(5,4))\n",
    "        sns.heatmap(cm_df,annot=True,cmap=\"Blues\",ax=ax)\n",
    "        ax.set_xlabel(\"Predicted Label\",fontsize=16)\n",
    "        ax.set_ylabel(\"True Label\",fontsize=16)\n",
    "        if save:\n",
    "            plt.savefig(f\"../../../Documents/sbac_2021/project/figures/confusion_matrix-{target_label}.pdf\")\n",
    "        plt.show()\n",
    "        plt.close()\n",
    "        \n",
    "    def set_feature_importance(self,plot=False):\n",
    "        \"\"\"gets feature importance from classifier models\"\"\"\n",
    "        try:\n",
    "            # getting importance df\n",
    "            importance = pd.DataFrame(data={\"feature\":[value.split('_')[0] for value in self.features.columns],\"importance\":self.model.feature_importances_})\n",
    "            importance.sort_values(\"importance\",inplace=True)\n",
    "            self.feature_importance = importance\n",
    "            if plot:\n",
    "                # getting color map\n",
    "                my_cmap = plt.get_cmap(\"Blues\")\n",
    "                rescale = lambda y: (y - np.min(y)) / (np.max(y) - np.min(y))\n",
    "                # plotting\n",
    "                fig, ax = plt.subplots(figsize=(6,4))\n",
    "                ax.barh(importance[\"feature\"],importance[\"importance\"],color=my_cmap(rescale(importance[\"importance\"])),edgecolor=\"black\",tick_label=[visualize.get_label(label) for label in importance[\"feature\"]])\n",
    "                # x-axis\n",
    "                plt.xticks(fontsize=12)\n",
    "                ax.set_xlabel(\"Importance\",fontsize=14)\n",
    "                # y-axis\n",
    "                plt.yticks(fontsize=12)\n",
    "                ax.set_ylabel(\"Feature\",fontsize=14)\n",
    "                # remainder\n",
    "                for loc in [\"top\",\"right\"]:\n",
    "                    ax.spines[loc].set_visible(False)\n",
    "                plt.show()\n",
    "                plt.close()\n",
    "        except AttributeError as e:\n",
    "            print(e)\n",
    "            \n",
    "    def get_permutation_importance(self,scoring=\"accuracy\"):\n",
    "        \"\"\"\"\"\"\n",
    "        self.set_weights()\n",
    "        res_dict = {}\n",
    "        for model_name, mp in self.tuned_models.items():\n",
    "            try:\n",
    "                clf = mp.fit(self.X_train,self.y_train,self.weights)\n",
    "            except TypeError:\n",
    "                clf = mp.fit(self.X_train,self.y_train)\n",
    "            res = permutation_importance(clf, self.X_test, self.y_test, n_repeats=10,random_state=42,scoring=scoring)\n",
    "            vals = [0 if m < 0 else m for m in res.importances_mean]\n",
    "            res_dict[model_name] = vals\n",
    "        return res_dict\n",
    "            \n",
    "    def run(self, feature_set, target_set, target=\"tst\", test_size=0.33):\n",
    "        \"\"\"runs the class: split, test, predict, evaluate\"\"\"\n",
    "        self.get_features_and_targets(feature_set, target_set, target=target)\n",
    "        self.split_data(test_size=test_size)\n",
    "        # gridsearch on models\n",
    "        self.optimize_models()\n",
    "        # saves the best model, trains on the best model, predicts with the model, and plots the confusion matrix\n",
    "        for model_number in range(len(self.results)):\n",
    "            print(self.results.iloc[model_number,0].replace(\"_\",\" \").upper())\n",
    "            self.model = self.classifier_model_params[self.results.iloc[model_number,:][\"model\"]][\"model\"].set_params(**self.results.iloc[model_number,:][\"best_params\"])\n",
    "            self.train_model(self.model)\n",
    "            self.predict()\n",
    "            self.plot_confusion_matrix()\n",
    "            self.set_feature_importance(plot=True)\n",
    "            \n",
    "    def get_cv(self,validation=\"gkf\",splits=5):\n",
    "        \"\"\"gets cv object\"\"\"\n",
    "        if validation == \"gkf\":\n",
    "            return GroupKFold(n_splits=splits)\n",
    "        elif validation == \"logo\":\n",
    "            return LeaveOneGroupOut()\n",
    "        elif validation == \"skf\":\n",
    "            return StratifiedKFold(n_splits=splits)\n",
    "        else:\n",
    "            return KFold(n_splits=splits)        \n",
    "            \n",
    "    def plot_roc_auc(self,validation=\"gkf\",splits=5,save=False,**kwargs):\n",
    "        \"\"\"Trains the tuned models and cross-validates\"\"\"\n",
    "        cv = self.get_cv(validation,splits)\n",
    "            \n",
    "        fig, axes = plt.subplots(1,len(self.tuned_models.keys()),figsize=(6*len(self.tuned_models.keys()),6),sharey=True)\n",
    "        for (name, model), ax in zip(self.tuned_models.items(),axes.flat):\n",
    "            tprs = []\n",
    "            aucs = []\n",
    "            f1s = []\n",
    "            mean_fpr = np.linspace(0, 1, 100)\n",
    "            for i, (train, test) in enumerate(cv.split(self.features, self.targets, groups=self.groups)):\n",
    "                clf = model.fit(self.features.iloc[train],self.targets.iloc[train])\n",
    "                scores = clf.predict(self.features.iloc[test])\n",
    "                try:\n",
    "                    fpr, tpr, thresholds = roc_curve(self.targets.iloc[test], clf.predict_proba(self.features.iloc[test])[:, 1])\n",
    "                    auc_score = roc_auc_score(self.targets.iloc[test], clf.predict_proba(self.features.iloc[test])[:, 1])\n",
    "                    f1 = f1_score(self.targets.iloc[test], scores)\n",
    "                    if validation != \"logo\":\n",
    "                        ax.plot(fpr,tpr,lw=1,alpha=0.5,label=f\"Fold {i+1}\")\n",
    "                    interp_tpr = np.interp(mean_fpr, fpr, tpr)\n",
    "                    interp_tpr[0] = 0.0\n",
    "                    tprs.append(interp_tpr)\n",
    "                    aucs.append(auc_score)\n",
    "                    f1s.append(f1)\n",
    "                except ValueError as e:\n",
    "                    print(e)\n",
    "                \n",
    "            mean_tpr = np.mean(tprs, axis=0)\n",
    "            mean_tpr[-1] = 1.0\n",
    "            mean_auc = auc(mean_fpr, mean_tpr)\n",
    "            std_auc = np.std(aucs)\n",
    "            ax.plot(mean_fpr, mean_tpr, color='black',label=f'Mean ROC',lw=3, alpha=.8)#\\n')\n",
    "            ax.plot([0, 1], [0, 1], linestyle='--', lw=2, color='r', label='Chance', alpha=.8)\n",
    "            ax.set(xlim=[-0.05, 1.05], ylim=[-0.05, 1.05])\n",
    "            if name not in [\"knn\"]:\n",
    "                ax.set_title(f'{name.replace(\"_\",\" \").title()}',fontsize=16)\n",
    "            else:\n",
    "                ax.set_title(f'KNN',fontsize=16)\n",
    "            plt.rc('xtick', labelsize=14)    # fontsize of the tick labels\n",
    "            plt.rc('ytick', labelsize=14)    # fontsize of the tick labels\n",
    "            for loc in [\"top\",\"right\"]:\n",
    "                ax.spines[loc].set_visible(False)\n",
    "            ax.legend(frameon=True,loc=\"lower right\",bbox_to_anchor=(1.2,0),fontsize=12,)\n",
    "            # annotations\n",
    "            ax.text(0.0,0.9,f\"AUC = {round(mean_auc,2)} $\\pm$ {round(std_auc,2)}\",fontsize=14)\n",
    "        if save:\n",
    "            plt.savefig(f\"../reports/conferences/BuildSys_2021/{self.target_label}-{validation}cv-roc_curve.pdf\")\n",
    "            \n",
    "        if \"annote\" in kwargs.keys():\n",
    "            axes[0].text(0.05,1,kwargs[\"annote\"],va=\"bottom\",ha=\"left\",fontsize=24)\n",
    "        fig.add_subplot(111, frame_on=False)\n",
    "        plt.tick_params(labelcolor=\"none\", bottom=False, left=False)\n",
    "        plt.xlabel(\"False Positive Rate\",fontsize=15)\n",
    "        plt.ylabel(\"True Positive Rate\",fontsize=15)\n",
    "        plt.show()\n",
    "        plt.close()\n",
    "        \n",
    "    def find_accuracy_threshold(self):\n",
    "        \"\"\"\"\"\"\n",
    "        fig, axes = plt.subplots(1,len(self.tuned_models.keys()),figsize=(6*len(self.tuned_models.keys()),6),sharey=True)\n",
    "        for (name, model), ax in zip(self.tuned_models.items(),axes.flat):\n",
    "            clf = model.fit(self.X_train,self.y_train)\n",
    "            y_pred_pos = clf.predict_proba(self.X_test)[:,1]\n",
    "            thresholds = []\n",
    "            accs = []\n",
    "            for threshold in np.linspace(0,1,100):\n",
    "                thresholds.append(threshold)\n",
    "                y_pred_class = y_pred_pos > threshold\n",
    "                acc = accuracy_score(self.y_test, y_pred_class)\n",
    "                accs.append(acc)\n",
    "            ax.plot(thresholds,accs,color=\"black\",lw=2)\n",
    "            ix = np.argmax(accs)\n",
    "            ax.set_title(thresholds[ix])\n",
    "        plt.show()\n",
    "        plt.close()\n",
    "\n",
    "    def get_res(self,cv=\"gkf\",splits=5,save=False):\n",
    "        \"\"\"Gets the performance metrics of the model and prediction\"\"\"\n",
    "        # getting cross-validation funciton\n",
    "        cv = self.get_cv(cv,splits)\n",
    "        # defining result dicts\n",
    "        model_res = {\"target\":[],\"model\":[],\"accuracy\":[],\"accuracy_naive\":[],\"f1\":[],\"f1_naive\":[]}\n",
    "        pred_res = {\"target\":[],\"model\":[],\"accuracy\":[],\"accuracy_naive\":[],\"f1\":[],\"f1_naive\":[]}\n",
    "        final_feature_importances = {new_list: [] for new_list in self.tuned_models.keys()}\n",
    "        # looping through models\n",
    "        for name, model in self.tuned_models.items():\n",
    "            # pre-allocating empty metric lists\n",
    "            precisions = {\"train\":[],\"test\":[]}\n",
    "            thresholds = {\"train\":[],\"test\":[]}\n",
    "            accuracies = {\"train\":[],\"test\":[]}\n",
    "            mean_recall = np.linspace(0, 1, 100)\n",
    "            feature_importances = []\n",
    "            # looping through cv folds\n",
    "            print(\"Total:\",len(self.features))\n",
    "            for i, (train, test) in enumerate(cv.split(self.features, self.targets, groups=self.groups)):\n",
    "                print(f\"Train ({len(train)}): {len(train)/(len(train)+len(test))} - Good: {self.targets.iloc[train].sum()/len(self.targets.iloc[train])}\")\n",
    "                print(f\"Test ({len(test)}):\", len(test)/(len(train)+len(test)))\n",
    "                # training model\n",
    "                clf = model.fit(self.features.iloc[train],self.targets.iloc[train])\n",
    "                # metrics for model (train) and prediction (test)\n",
    "                for set_label,set_locs in zip([\"train\",\"test\"],[train,test]):\n",
    "                    # getting precision, thresholds, and f1_balanced (0.5 cutoff)\n",
    "                    precision, recall, threshold = precision_recall_curve(self.targets.iloc[set_locs], clf.predict_proba(self.features.iloc[set_locs])[:, 1])\n",
    "                    precisions[set_label].append(np.interp(mean_recall, np.sort(recall), precision))\n",
    "                    thresholds[set_label].append(np.interp(mean_recall, np.sort(recall), np.append(threshold,[1])))\n",
    "                    # accuracy\n",
    "                    accuracies[set_label].append(accuracy_score(self.targets.iloc[set_locs],clf.predict(self.features.iloc[set_locs])))\n",
    "            \n",
    "                # feature importances \n",
    "                if name in [\"decision_tree\",\"random_forest\"]:\n",
    "                    feature_importances.append(clf.feature_importances_)\n",
    "                elif name == \"logistic_regression\":\n",
    "                    feature_importances.append(clf.coef_[0])\n",
    "                else:\n",
    "                    feature_importances.append(np.zeros(len(self.features.columns)))\n",
    "            \n",
    "            # averaging feature importances from cv folds\n",
    "            final_feature_importances[name] = pd.DataFrame(data=feature_importances).mean(axis=0).values\n",
    "            for set_label,set_res in zip([\"train\",\"test\"],[model_res,pred_res]):\n",
    "                # getting adjusted f1 score\n",
    "                mean_precision = np.mean(precisions[set_label], axis=0)\n",
    "                mean_threshold = np.mean(thresholds[set_label], axis=0)\n",
    "                fscore = (2 * mean_precision * mean_recall[::-1]) / (mean_precision + mean_recall[::-1])\n",
    "                ix = np.argmax(fscore) # locate the index of the largest f score\n",
    "                # getting averaged metrics\n",
    "                acc_temp = round(np.mean(accuracies[set_label]),2)\n",
    "                score = round(sum(self.targets.iloc[:,0])/len(self.targets),2)\n",
    "                acc_naive_temp = score if score > 0.5 else 1-score\n",
    "                f1_temp = f\"{round(fscore[ix],2)} ({round(mean_threshold[ix],2)})\"\n",
    "                f1_naive_temp = round(f1_score(self.targets,np.ones(len(self.targets))),2)\n",
    "                # adding to dict\n",
    "                for key,val in zip(set_res.keys(),[self.targets.columns.values[0],name,acc_temp,acc_naive_temp,f1_temp,f1_naive_temp]):\n",
    "                    set_res[key].append(val)\n",
    "            \n",
    "        return pd.DataFrame(model_res), pd.DataFrame(pred_res), final_feature_importances\n",
    "    "
   ]
  },
  {
   "cell_type": "markdown",
   "metadata": {},
   "source": [
    "## Optimizing Models\n",
    "Looking at different components of:\n",
    "* classifiers\n",
    "* validation\n",
    "* hyperparameters"
   ]
  },
  {
   "cell_type": "markdown",
   "metadata": {},
   "source": [
    "### Aggregate\n",
    "All the participants' data considered and stratified according to the number of observations."
   ]
  },
  {
   "cell_type": "code",
   "execution_count": 85,
   "metadata": {
    "scrolled": true
   },
   "outputs": [
    {
     "name": "stdout",
     "output_type": "stream",
     "text": [
      "Getting Features and Target (tst)...\n",
      "Splitting Data...\n",
      "Testing Classifiers...\n",
      "\tLogistic Regression\n",
      "\t\tElapsed Time:\t 0:00:00.128173\n",
      "\t\tBest Score:\t0.6486486486486487\n",
      "\t\tBest Params:\t{'fit_intercept': True, 'solver': 'lbfgs'}\n",
      "\tDecision Tree\n",
      "\t\tElapsed Time:\t 0:00:04.379861\n",
      "\t\tBest Score:\t0.6707207207207206\n",
      "\t\tBest Params:\t{'ccp_alpha': 0.0, 'max_depth': 3}\n",
      "\tRandom Forest\n"
     ]
    },
    {
     "ename": "KeyboardInterrupt",
     "evalue": "",
     "output_type": "error",
     "traceback": [
      "\u001b[0;31m---------------------------------------------------------------------------\u001b[0m",
      "\u001b[0;31mKeyboardInterrupt\u001b[0m                         Traceback (most recent call last)",
      "\u001b[0;32m<ipython-input-85-757f185b0be9>\u001b[0m in \u001b[0;36m<module>\u001b[0;34m\u001b[0m\n\u001b[1;32m      2\u001b[0m \u001b[0magg_res\u001b[0m \u001b[0;34m=\u001b[0m \u001b[0;34m{\u001b[0m\u001b[0;34m\"target\"\u001b[0m\u001b[0;34m:\u001b[0m\u001b[0;34m[\u001b[0m\u001b[0;34m]\u001b[0m\u001b[0;34m,\u001b[0m\u001b[0;34m\"best_performing_model\"\u001b[0m\u001b[0;34m:\u001b[0m\u001b[0;34m[\u001b[0m\u001b[0;34m]\u001b[0m\u001b[0;34m,\u001b[0m\u001b[0;34m\"model\"\u001b[0m\u001b[0;34m:\u001b[0m\u001b[0;34m[\u001b[0m\u001b[0;34m]\u001b[0m\u001b[0;34m,\u001b[0m\u001b[0;34m\"model_score\"\u001b[0m\u001b[0;34m:\u001b[0m\u001b[0;34m[\u001b[0m\u001b[0;34m]\u001b[0m\u001b[0;34m,\u001b[0m\u001b[0;34m\"biased_score\"\u001b[0m\u001b[0;34m:\u001b[0m\u001b[0;34m[\u001b[0m\u001b[0;34m]\u001b[0m\u001b[0;34m,\u001b[0m\u001b[0;34m\"hyper_parameters\"\u001b[0m\u001b[0;34m:\u001b[0m\u001b[0;34m[\u001b[0m\u001b[0;34m]\u001b[0m\u001b[0;34m,\u001b[0m\u001b[0;34m\"sensitive_parameter1\"\u001b[0m\u001b[0;34m:\u001b[0m\u001b[0;34m[\u001b[0m\u001b[0;34m]\u001b[0m\u001b[0;34m,\u001b[0m\u001b[0;34m\"sensitive_parameter2\"\u001b[0m\u001b[0;34m:\u001b[0m\u001b[0;34m[\u001b[0m\u001b[0;34m]\u001b[0m\u001b[0;34m}\u001b[0m\u001b[0;34m\u001b[0m\u001b[0;34m\u001b[0m\u001b[0m\n\u001b[1;32m      3\u001b[0m \u001b[0;32mfor\u001b[0m \u001b[0mtarget\u001b[0m \u001b[0;32min\u001b[0m \u001b[0;34m[\u001b[0m\u001b[0;34m\"tst\"\u001b[0m\u001b[0;34m,\u001b[0m\u001b[0;34m\"sol\"\u001b[0m\u001b[0;34m,\u001b[0m\u001b[0;34m\"naw\"\u001b[0m\u001b[0;34m,\u001b[0m\u001b[0;34m\"restful\"\u001b[0m\u001b[0;34m]\u001b[0m\u001b[0;34m:\u001b[0m\u001b[0;34m\u001b[0m\u001b[0;34m\u001b[0m\u001b[0m\n\u001b[0;32m----> 4\u001b[0;31m     \u001b[0magg_pred\u001b[0m\u001b[0;34m.\u001b[0m\u001b[0mrun\u001b[0m\u001b[0;34m(\u001b[0m\u001b[0mieq_bi\u001b[0m\u001b[0;34m,\u001b[0m\u001b[0msrsq\u001b[0m\u001b[0;34m,\u001b[0m\u001b[0mtarget\u001b[0m\u001b[0;34m)\u001b[0m\u001b[0;34m\u001b[0m\u001b[0;34m\u001b[0m\u001b[0m\n\u001b[0m\u001b[1;32m      5\u001b[0m     \u001b[0;32mfor\u001b[0m \u001b[0mi\u001b[0m \u001b[0;32min\u001b[0m \u001b[0mrange\u001b[0m\u001b[0;34m(\u001b[0m\u001b[0mlen\u001b[0m\u001b[0;34m(\u001b[0m\u001b[0magg_pred\u001b[0m\u001b[0;34m.\u001b[0m\u001b[0mresults\u001b[0m\u001b[0;34m)\u001b[0m\u001b[0;34m)\u001b[0m\u001b[0;34m:\u001b[0m\u001b[0;34m\u001b[0m\u001b[0;34m\u001b[0m\u001b[0m\n\u001b[1;32m      6\u001b[0m         \u001b[0magg_res\u001b[0m\u001b[0;34m[\u001b[0m\u001b[0;34m\"target\"\u001b[0m\u001b[0;34m]\u001b[0m\u001b[0;34m.\u001b[0m\u001b[0mappend\u001b[0m\u001b[0;34m(\u001b[0m\u001b[0mtarget\u001b[0m\u001b[0;34m)\u001b[0m\u001b[0;34m\u001b[0m\u001b[0;34m\u001b[0m\u001b[0m\n",
      "\u001b[0;32m<ipython-input-84-9fd5b0df6d6d>\u001b[0m in \u001b[0;36mrun\u001b[0;34m(self, feature_set, target_set, target, test_size)\u001b[0m\n\u001b[1;32m    219\u001b[0m         \u001b[0mself\u001b[0m\u001b[0;34m.\u001b[0m\u001b[0msplit_data\u001b[0m\u001b[0;34m(\u001b[0m\u001b[0mtest_size\u001b[0m\u001b[0;34m=\u001b[0m\u001b[0mtest_size\u001b[0m\u001b[0;34m)\u001b[0m\u001b[0;34m\u001b[0m\u001b[0;34m\u001b[0m\u001b[0m\n\u001b[1;32m    220\u001b[0m         \u001b[0;31m# gridsearch on models\u001b[0m\u001b[0;34m\u001b[0m\u001b[0;34m\u001b[0m\u001b[0;34m\u001b[0m\u001b[0m\n\u001b[0;32m--> 221\u001b[0;31m         \u001b[0mself\u001b[0m\u001b[0;34m.\u001b[0m\u001b[0moptimize_models\u001b[0m\u001b[0;34m(\u001b[0m\u001b[0;34m)\u001b[0m\u001b[0;34m\u001b[0m\u001b[0;34m\u001b[0m\u001b[0m\n\u001b[0m\u001b[1;32m    222\u001b[0m         \u001b[0;31m# saves the best model, trains on the best model, predicts with the model, and plots the confusion matrix\u001b[0m\u001b[0;34m\u001b[0m\u001b[0;34m\u001b[0m\u001b[0;34m\u001b[0m\u001b[0m\n\u001b[1;32m    223\u001b[0m         \u001b[0;32mfor\u001b[0m \u001b[0mmodel_number\u001b[0m \u001b[0;32min\u001b[0m \u001b[0mrange\u001b[0m\u001b[0;34m(\u001b[0m\u001b[0mlen\u001b[0m\u001b[0;34m(\u001b[0m\u001b[0mself\u001b[0m\u001b[0;34m.\u001b[0m\u001b[0mresults\u001b[0m\u001b[0;34m)\u001b[0m\u001b[0;34m)\u001b[0m\u001b[0;34m:\u001b[0m\u001b[0;34m\u001b[0m\u001b[0;34m\u001b[0m\u001b[0m\n",
      "\u001b[0;32m<ipython-input-84-9fd5b0df6d6d>\u001b[0m in \u001b[0;36moptimize_models\u001b[0;34m(self)\u001b[0m\n\u001b[1;32m    104\u001b[0m                 \u001b[0mprint\u001b[0m\u001b[0;34m(\u001b[0m\u001b[0;34mf\"\\t{model_name.replace('_',' ').title()}\"\u001b[0m\u001b[0;34m)\u001b[0m\u001b[0;34m\u001b[0m\u001b[0;34m\u001b[0m\u001b[0m\n\u001b[1;32m    105\u001b[0m                 \u001b[0mclf\u001b[0m \u001b[0;34m=\u001b[0m \u001b[0mGridSearchCV\u001b[0m\u001b[0;34m(\u001b[0m\u001b[0mmp\u001b[0m\u001b[0;34m[\u001b[0m\u001b[0;34m\"model\"\u001b[0m\u001b[0;34m]\u001b[0m\u001b[0;34m,\u001b[0m\u001b[0mmp\u001b[0m\u001b[0;34m[\u001b[0m\u001b[0;34m\"params\"\u001b[0m\u001b[0;34m]\u001b[0m\u001b[0;34m,\u001b[0m\u001b[0mcv\u001b[0m\u001b[0;34m=\u001b[0m\u001b[0;36m5\u001b[0m\u001b[0;34m,\u001b[0m\u001b[0mreturn_train_score\u001b[0m\u001b[0;34m=\u001b[0m\u001b[0;32mFalse\u001b[0m\u001b[0;34m)\u001b[0m\u001b[0;34m\u001b[0m\u001b[0;34m\u001b[0m\u001b[0m\n\u001b[0;32m--> 106\u001b[0;31m                 \u001b[0mclf\u001b[0m\u001b[0;34m.\u001b[0m\u001b[0mfit\u001b[0m\u001b[0;34m(\u001b[0m\u001b[0mself\u001b[0m\u001b[0;34m.\u001b[0m\u001b[0mX_train\u001b[0m\u001b[0;34m,\u001b[0m\u001b[0mself\u001b[0m\u001b[0;34m.\u001b[0m\u001b[0my_train\u001b[0m\u001b[0;34m,\u001b[0m\u001b[0mself\u001b[0m\u001b[0;34m.\u001b[0m\u001b[0mweights\u001b[0m\u001b[0;34m)\u001b[0m\u001b[0;34m\u001b[0m\u001b[0;34m\u001b[0m\u001b[0m\n\u001b[0m\u001b[1;32m    107\u001b[0m                 scores.append({\n\u001b[1;32m    108\u001b[0m                     \u001b[0;34m\"model\"\u001b[0m\u001b[0;34m:\u001b[0m\u001b[0mmodel_name\u001b[0m\u001b[0;34m,\u001b[0m\u001b[0;34m\u001b[0m\u001b[0;34m\u001b[0m\u001b[0m\n",
      "\u001b[0;32m~/opt/anaconda3/lib/python3.8/site-packages/sklearn/utils/validation.py\u001b[0m in \u001b[0;36minner_f\u001b[0;34m(*args, **kwargs)\u001b[0m\n\u001b[1;32m     72\u001b[0m                           \"will result in an error\", FutureWarning)\n\u001b[1;32m     73\u001b[0m             \u001b[0mkwargs\u001b[0m\u001b[0;34m.\u001b[0m\u001b[0mupdate\u001b[0m\u001b[0;34m(\u001b[0m\u001b[0mzip\u001b[0m\u001b[0;34m(\u001b[0m\u001b[0msig\u001b[0m\u001b[0;34m.\u001b[0m\u001b[0mparameters\u001b[0m\u001b[0;34m,\u001b[0m \u001b[0margs\u001b[0m\u001b[0;34m)\u001b[0m\u001b[0;34m)\u001b[0m\u001b[0;34m\u001b[0m\u001b[0;34m\u001b[0m\u001b[0m\n\u001b[0;32m---> 74\u001b[0;31m             \u001b[0;32mreturn\u001b[0m \u001b[0mf\u001b[0m\u001b[0;34m(\u001b[0m\u001b[0;34m**\u001b[0m\u001b[0mkwargs\u001b[0m\u001b[0;34m)\u001b[0m\u001b[0;34m\u001b[0m\u001b[0;34m\u001b[0m\u001b[0m\n\u001b[0m\u001b[1;32m     75\u001b[0m         \u001b[0;32mreturn\u001b[0m \u001b[0minner_f\u001b[0m\u001b[0;34m\u001b[0m\u001b[0;34m\u001b[0m\u001b[0m\n\u001b[1;32m     76\u001b[0m \u001b[0;34m\u001b[0m\u001b[0m\n",
      "\u001b[0;32m~/opt/anaconda3/lib/python3.8/site-packages/sklearn/model_selection/_search.py\u001b[0m in \u001b[0;36mfit\u001b[0;34m(self, X, y, groups, **fit_params)\u001b[0m\n\u001b[1;32m    839\u001b[0m                 \u001b[0;32mreturn\u001b[0m \u001b[0mresults\u001b[0m\u001b[0;34m\u001b[0m\u001b[0;34m\u001b[0m\u001b[0m\n\u001b[1;32m    840\u001b[0m \u001b[0;34m\u001b[0m\u001b[0m\n\u001b[0;32m--> 841\u001b[0;31m             \u001b[0mself\u001b[0m\u001b[0;34m.\u001b[0m\u001b[0m_run_search\u001b[0m\u001b[0;34m(\u001b[0m\u001b[0mevaluate_candidates\u001b[0m\u001b[0;34m)\u001b[0m\u001b[0;34m\u001b[0m\u001b[0;34m\u001b[0m\u001b[0m\n\u001b[0m\u001b[1;32m    842\u001b[0m \u001b[0;34m\u001b[0m\u001b[0m\n\u001b[1;32m    843\u001b[0m             \u001b[0;31m# multimetric is determined here because in the case of a callable\u001b[0m\u001b[0;34m\u001b[0m\u001b[0;34m\u001b[0m\u001b[0;34m\u001b[0m\u001b[0m\n",
      "\u001b[0;32m~/opt/anaconda3/lib/python3.8/site-packages/sklearn/model_selection/_search.py\u001b[0m in \u001b[0;36m_run_search\u001b[0;34m(self, evaluate_candidates)\u001b[0m\n\u001b[1;32m   1286\u001b[0m     \u001b[0;32mdef\u001b[0m \u001b[0m_run_search\u001b[0m\u001b[0;34m(\u001b[0m\u001b[0mself\u001b[0m\u001b[0;34m,\u001b[0m \u001b[0mevaluate_candidates\u001b[0m\u001b[0;34m)\u001b[0m\u001b[0;34m:\u001b[0m\u001b[0;34m\u001b[0m\u001b[0;34m\u001b[0m\u001b[0m\n\u001b[1;32m   1287\u001b[0m         \u001b[0;34m\"\"\"Search all candidates in param_grid\"\"\"\u001b[0m\u001b[0;34m\u001b[0m\u001b[0;34m\u001b[0m\u001b[0m\n\u001b[0;32m-> 1288\u001b[0;31m         \u001b[0mevaluate_candidates\u001b[0m\u001b[0;34m(\u001b[0m\u001b[0mParameterGrid\u001b[0m\u001b[0;34m(\u001b[0m\u001b[0mself\u001b[0m\u001b[0;34m.\u001b[0m\u001b[0mparam_grid\u001b[0m\u001b[0;34m)\u001b[0m\u001b[0;34m)\u001b[0m\u001b[0;34m\u001b[0m\u001b[0;34m\u001b[0m\u001b[0m\n\u001b[0m\u001b[1;32m   1289\u001b[0m \u001b[0;34m\u001b[0m\u001b[0m\n\u001b[1;32m   1290\u001b[0m \u001b[0;34m\u001b[0m\u001b[0m\n",
      "\u001b[0;32m~/opt/anaconda3/lib/python3.8/site-packages/sklearn/model_selection/_search.py\u001b[0m in \u001b[0;36mevaluate_candidates\u001b[0;34m(candidate_params, cv, more_results)\u001b[0m\n\u001b[1;32m    793\u001b[0m                               n_splits, n_candidates, n_candidates * n_splits))\n\u001b[1;32m    794\u001b[0m \u001b[0;34m\u001b[0m\u001b[0m\n\u001b[0;32m--> 795\u001b[0;31m                 out = parallel(delayed(_fit_and_score)(clone(base_estimator),\n\u001b[0m\u001b[1;32m    796\u001b[0m                                                        \u001b[0mX\u001b[0m\u001b[0;34m,\u001b[0m \u001b[0my\u001b[0m\u001b[0;34m,\u001b[0m\u001b[0;34m\u001b[0m\u001b[0;34m\u001b[0m\u001b[0m\n\u001b[1;32m    797\u001b[0m                                                        \u001b[0mtrain\u001b[0m\u001b[0;34m=\u001b[0m\u001b[0mtrain\u001b[0m\u001b[0;34m,\u001b[0m \u001b[0mtest\u001b[0m\u001b[0;34m=\u001b[0m\u001b[0mtest\u001b[0m\u001b[0;34m,\u001b[0m\u001b[0;34m\u001b[0m\u001b[0;34m\u001b[0m\u001b[0m\n",
      "\u001b[0;32m~/opt/anaconda3/lib/python3.8/site-packages/joblib/parallel.py\u001b[0m in \u001b[0;36m__call__\u001b[0;34m(self, iterable)\u001b[0m\n\u001b[1;32m   1042\u001b[0m                 \u001b[0mself\u001b[0m\u001b[0;34m.\u001b[0m\u001b[0m_iterating\u001b[0m \u001b[0;34m=\u001b[0m \u001b[0mself\u001b[0m\u001b[0;34m.\u001b[0m\u001b[0m_original_iterator\u001b[0m \u001b[0;32mis\u001b[0m \u001b[0;32mnot\u001b[0m \u001b[0;32mNone\u001b[0m\u001b[0;34m\u001b[0m\u001b[0;34m\u001b[0m\u001b[0m\n\u001b[1;32m   1043\u001b[0m \u001b[0;34m\u001b[0m\u001b[0m\n\u001b[0;32m-> 1044\u001b[0;31m             \u001b[0;32mwhile\u001b[0m \u001b[0mself\u001b[0m\u001b[0;34m.\u001b[0m\u001b[0mdispatch_one_batch\u001b[0m\u001b[0;34m(\u001b[0m\u001b[0miterator\u001b[0m\u001b[0;34m)\u001b[0m\u001b[0;34m:\u001b[0m\u001b[0;34m\u001b[0m\u001b[0;34m\u001b[0m\u001b[0m\n\u001b[0m\u001b[1;32m   1045\u001b[0m                 \u001b[0;32mpass\u001b[0m\u001b[0;34m\u001b[0m\u001b[0;34m\u001b[0m\u001b[0m\n\u001b[1;32m   1046\u001b[0m \u001b[0;34m\u001b[0m\u001b[0m\n",
      "\u001b[0;32m~/opt/anaconda3/lib/python3.8/site-packages/joblib/parallel.py\u001b[0m in \u001b[0;36mdispatch_one_batch\u001b[0;34m(self, iterator)\u001b[0m\n\u001b[1;32m    857\u001b[0m                 \u001b[0;32mreturn\u001b[0m \u001b[0;32mFalse\u001b[0m\u001b[0;34m\u001b[0m\u001b[0;34m\u001b[0m\u001b[0m\n\u001b[1;32m    858\u001b[0m             \u001b[0;32melse\u001b[0m\u001b[0;34m:\u001b[0m\u001b[0;34m\u001b[0m\u001b[0;34m\u001b[0m\u001b[0m\n\u001b[0;32m--> 859\u001b[0;31m                 \u001b[0mself\u001b[0m\u001b[0;34m.\u001b[0m\u001b[0m_dispatch\u001b[0m\u001b[0;34m(\u001b[0m\u001b[0mtasks\u001b[0m\u001b[0;34m)\u001b[0m\u001b[0;34m\u001b[0m\u001b[0;34m\u001b[0m\u001b[0m\n\u001b[0m\u001b[1;32m    860\u001b[0m                 \u001b[0;32mreturn\u001b[0m \u001b[0;32mTrue\u001b[0m\u001b[0;34m\u001b[0m\u001b[0;34m\u001b[0m\u001b[0m\n\u001b[1;32m    861\u001b[0m \u001b[0;34m\u001b[0m\u001b[0m\n",
      "\u001b[0;32m~/opt/anaconda3/lib/python3.8/site-packages/joblib/parallel.py\u001b[0m in \u001b[0;36m_dispatch\u001b[0;34m(self, batch)\u001b[0m\n\u001b[1;32m    775\u001b[0m         \u001b[0;32mwith\u001b[0m \u001b[0mself\u001b[0m\u001b[0;34m.\u001b[0m\u001b[0m_lock\u001b[0m\u001b[0;34m:\u001b[0m\u001b[0;34m\u001b[0m\u001b[0;34m\u001b[0m\u001b[0m\n\u001b[1;32m    776\u001b[0m             \u001b[0mjob_idx\u001b[0m \u001b[0;34m=\u001b[0m \u001b[0mlen\u001b[0m\u001b[0;34m(\u001b[0m\u001b[0mself\u001b[0m\u001b[0;34m.\u001b[0m\u001b[0m_jobs\u001b[0m\u001b[0;34m)\u001b[0m\u001b[0;34m\u001b[0m\u001b[0;34m\u001b[0m\u001b[0m\n\u001b[0;32m--> 777\u001b[0;31m             \u001b[0mjob\u001b[0m \u001b[0;34m=\u001b[0m \u001b[0mself\u001b[0m\u001b[0;34m.\u001b[0m\u001b[0m_backend\u001b[0m\u001b[0;34m.\u001b[0m\u001b[0mapply_async\u001b[0m\u001b[0;34m(\u001b[0m\u001b[0mbatch\u001b[0m\u001b[0;34m,\u001b[0m \u001b[0mcallback\u001b[0m\u001b[0;34m=\u001b[0m\u001b[0mcb\u001b[0m\u001b[0;34m)\u001b[0m\u001b[0;34m\u001b[0m\u001b[0;34m\u001b[0m\u001b[0m\n\u001b[0m\u001b[1;32m    778\u001b[0m             \u001b[0;31m# A job can complete so quickly than its callback is\u001b[0m\u001b[0;34m\u001b[0m\u001b[0;34m\u001b[0m\u001b[0;34m\u001b[0m\u001b[0m\n\u001b[1;32m    779\u001b[0m             \u001b[0;31m# called before we get here, causing self._jobs to\u001b[0m\u001b[0;34m\u001b[0m\u001b[0;34m\u001b[0m\u001b[0;34m\u001b[0m\u001b[0m\n",
      "\u001b[0;32m~/opt/anaconda3/lib/python3.8/site-packages/joblib/_parallel_backends.py\u001b[0m in \u001b[0;36mapply_async\u001b[0;34m(self, func, callback)\u001b[0m\n\u001b[1;32m    206\u001b[0m     \u001b[0;32mdef\u001b[0m \u001b[0mapply_async\u001b[0m\u001b[0;34m(\u001b[0m\u001b[0mself\u001b[0m\u001b[0;34m,\u001b[0m \u001b[0mfunc\u001b[0m\u001b[0;34m,\u001b[0m \u001b[0mcallback\u001b[0m\u001b[0;34m=\u001b[0m\u001b[0;32mNone\u001b[0m\u001b[0;34m)\u001b[0m\u001b[0;34m:\u001b[0m\u001b[0;34m\u001b[0m\u001b[0;34m\u001b[0m\u001b[0m\n\u001b[1;32m    207\u001b[0m         \u001b[0;34m\"\"\"Schedule a func to be run\"\"\"\u001b[0m\u001b[0;34m\u001b[0m\u001b[0;34m\u001b[0m\u001b[0m\n\u001b[0;32m--> 208\u001b[0;31m         \u001b[0mresult\u001b[0m \u001b[0;34m=\u001b[0m \u001b[0mImmediateResult\u001b[0m\u001b[0;34m(\u001b[0m\u001b[0mfunc\u001b[0m\u001b[0;34m)\u001b[0m\u001b[0;34m\u001b[0m\u001b[0;34m\u001b[0m\u001b[0m\n\u001b[0m\u001b[1;32m    209\u001b[0m         \u001b[0;32mif\u001b[0m \u001b[0mcallback\u001b[0m\u001b[0;34m:\u001b[0m\u001b[0;34m\u001b[0m\u001b[0;34m\u001b[0m\u001b[0m\n\u001b[1;32m    210\u001b[0m             \u001b[0mcallback\u001b[0m\u001b[0;34m(\u001b[0m\u001b[0mresult\u001b[0m\u001b[0;34m)\u001b[0m\u001b[0;34m\u001b[0m\u001b[0;34m\u001b[0m\u001b[0m\n",
      "\u001b[0;32m~/opt/anaconda3/lib/python3.8/site-packages/joblib/_parallel_backends.py\u001b[0m in \u001b[0;36m__init__\u001b[0;34m(self, batch)\u001b[0m\n\u001b[1;32m    570\u001b[0m         \u001b[0;31m# Don't delay the application, to avoid keeping the input\u001b[0m\u001b[0;34m\u001b[0m\u001b[0;34m\u001b[0m\u001b[0;34m\u001b[0m\u001b[0m\n\u001b[1;32m    571\u001b[0m         \u001b[0;31m# arguments in memory\u001b[0m\u001b[0;34m\u001b[0m\u001b[0;34m\u001b[0m\u001b[0;34m\u001b[0m\u001b[0m\n\u001b[0;32m--> 572\u001b[0;31m         \u001b[0mself\u001b[0m\u001b[0;34m.\u001b[0m\u001b[0mresults\u001b[0m \u001b[0;34m=\u001b[0m \u001b[0mbatch\u001b[0m\u001b[0;34m(\u001b[0m\u001b[0;34m)\u001b[0m\u001b[0;34m\u001b[0m\u001b[0;34m\u001b[0m\u001b[0m\n\u001b[0m\u001b[1;32m    573\u001b[0m \u001b[0;34m\u001b[0m\u001b[0m\n\u001b[1;32m    574\u001b[0m     \u001b[0;32mdef\u001b[0m \u001b[0mget\u001b[0m\u001b[0;34m(\u001b[0m\u001b[0mself\u001b[0m\u001b[0;34m)\u001b[0m\u001b[0;34m:\u001b[0m\u001b[0;34m\u001b[0m\u001b[0;34m\u001b[0m\u001b[0m\n",
      "\u001b[0;32m~/opt/anaconda3/lib/python3.8/site-packages/joblib/parallel.py\u001b[0m in \u001b[0;36m__call__\u001b[0;34m(self)\u001b[0m\n\u001b[1;32m    260\u001b[0m         \u001b[0;31m# change the default number of processes to -1\u001b[0m\u001b[0;34m\u001b[0m\u001b[0;34m\u001b[0m\u001b[0;34m\u001b[0m\u001b[0m\n\u001b[1;32m    261\u001b[0m         \u001b[0;32mwith\u001b[0m \u001b[0mparallel_backend\u001b[0m\u001b[0;34m(\u001b[0m\u001b[0mself\u001b[0m\u001b[0;34m.\u001b[0m\u001b[0m_backend\u001b[0m\u001b[0;34m,\u001b[0m \u001b[0mn_jobs\u001b[0m\u001b[0;34m=\u001b[0m\u001b[0mself\u001b[0m\u001b[0;34m.\u001b[0m\u001b[0m_n_jobs\u001b[0m\u001b[0;34m)\u001b[0m\u001b[0;34m:\u001b[0m\u001b[0;34m\u001b[0m\u001b[0;34m\u001b[0m\u001b[0m\n\u001b[0;32m--> 262\u001b[0;31m             return [func(*args, **kwargs)\n\u001b[0m\u001b[1;32m    263\u001b[0m                     for func, args, kwargs in self.items]\n\u001b[1;32m    264\u001b[0m \u001b[0;34m\u001b[0m\u001b[0m\n",
      "\u001b[0;32m~/opt/anaconda3/lib/python3.8/site-packages/joblib/parallel.py\u001b[0m in \u001b[0;36m<listcomp>\u001b[0;34m(.0)\u001b[0m\n\u001b[1;32m    260\u001b[0m         \u001b[0;31m# change the default number of processes to -1\u001b[0m\u001b[0;34m\u001b[0m\u001b[0;34m\u001b[0m\u001b[0;34m\u001b[0m\u001b[0m\n\u001b[1;32m    261\u001b[0m         \u001b[0;32mwith\u001b[0m \u001b[0mparallel_backend\u001b[0m\u001b[0;34m(\u001b[0m\u001b[0mself\u001b[0m\u001b[0;34m.\u001b[0m\u001b[0m_backend\u001b[0m\u001b[0;34m,\u001b[0m \u001b[0mn_jobs\u001b[0m\u001b[0;34m=\u001b[0m\u001b[0mself\u001b[0m\u001b[0;34m.\u001b[0m\u001b[0m_n_jobs\u001b[0m\u001b[0;34m)\u001b[0m\u001b[0;34m:\u001b[0m\u001b[0;34m\u001b[0m\u001b[0;34m\u001b[0m\u001b[0m\n\u001b[0;32m--> 262\u001b[0;31m             return [func(*args, **kwargs)\n\u001b[0m\u001b[1;32m    263\u001b[0m                     for func, args, kwargs in self.items]\n\u001b[1;32m    264\u001b[0m \u001b[0;34m\u001b[0m\u001b[0m\n",
      "\u001b[0;32m~/opt/anaconda3/lib/python3.8/site-packages/sklearn/utils/fixes.py\u001b[0m in \u001b[0;36m__call__\u001b[0;34m(self, *args, **kwargs)\u001b[0m\n\u001b[1;32m    220\u001b[0m     \u001b[0;32mdef\u001b[0m \u001b[0m__call__\u001b[0m\u001b[0;34m(\u001b[0m\u001b[0mself\u001b[0m\u001b[0;34m,\u001b[0m \u001b[0;34m*\u001b[0m\u001b[0margs\u001b[0m\u001b[0;34m,\u001b[0m \u001b[0;34m**\u001b[0m\u001b[0mkwargs\u001b[0m\u001b[0;34m)\u001b[0m\u001b[0;34m:\u001b[0m\u001b[0;34m\u001b[0m\u001b[0;34m\u001b[0m\u001b[0m\n\u001b[1;32m    221\u001b[0m         \u001b[0;32mwith\u001b[0m \u001b[0mconfig_context\u001b[0m\u001b[0;34m(\u001b[0m\u001b[0;34m**\u001b[0m\u001b[0mself\u001b[0m\u001b[0;34m.\u001b[0m\u001b[0mconfig\u001b[0m\u001b[0;34m)\u001b[0m\u001b[0;34m:\u001b[0m\u001b[0;34m\u001b[0m\u001b[0;34m\u001b[0m\u001b[0m\n\u001b[0;32m--> 222\u001b[0;31m             \u001b[0;32mreturn\u001b[0m \u001b[0mself\u001b[0m\u001b[0;34m.\u001b[0m\u001b[0mfunction\u001b[0m\u001b[0;34m(\u001b[0m\u001b[0;34m*\u001b[0m\u001b[0margs\u001b[0m\u001b[0;34m,\u001b[0m \u001b[0;34m**\u001b[0m\u001b[0mkwargs\u001b[0m\u001b[0;34m)\u001b[0m\u001b[0;34m\u001b[0m\u001b[0;34m\u001b[0m\u001b[0m\n\u001b[0m",
      "\u001b[0;32m~/opt/anaconda3/lib/python3.8/site-packages/sklearn/model_selection/_validation.py\u001b[0m in \u001b[0;36m_fit_and_score\u001b[0;34m(estimator, X, y, scorer, train, test, verbose, parameters, fit_params, return_train_score, return_parameters, return_n_test_samples, return_times, return_estimator, split_progress, candidate_progress, error_score)\u001b[0m\n\u001b[1;32m    591\u001b[0m             \u001b[0mestimator\u001b[0m\u001b[0;34m.\u001b[0m\u001b[0mfit\u001b[0m\u001b[0;34m(\u001b[0m\u001b[0mX_train\u001b[0m\u001b[0;34m,\u001b[0m \u001b[0;34m**\u001b[0m\u001b[0mfit_params\u001b[0m\u001b[0;34m)\u001b[0m\u001b[0;34m\u001b[0m\u001b[0;34m\u001b[0m\u001b[0m\n\u001b[1;32m    592\u001b[0m         \u001b[0;32melse\u001b[0m\u001b[0;34m:\u001b[0m\u001b[0;34m\u001b[0m\u001b[0;34m\u001b[0m\u001b[0m\n\u001b[0;32m--> 593\u001b[0;31m             \u001b[0mestimator\u001b[0m\u001b[0;34m.\u001b[0m\u001b[0mfit\u001b[0m\u001b[0;34m(\u001b[0m\u001b[0mX_train\u001b[0m\u001b[0;34m,\u001b[0m \u001b[0my_train\u001b[0m\u001b[0;34m,\u001b[0m \u001b[0;34m**\u001b[0m\u001b[0mfit_params\u001b[0m\u001b[0;34m)\u001b[0m\u001b[0;34m\u001b[0m\u001b[0;34m\u001b[0m\u001b[0m\n\u001b[0m\u001b[1;32m    594\u001b[0m \u001b[0;34m\u001b[0m\u001b[0m\n\u001b[1;32m    595\u001b[0m     \u001b[0;32mexcept\u001b[0m \u001b[0mException\u001b[0m \u001b[0;32mas\u001b[0m \u001b[0me\u001b[0m\u001b[0;34m:\u001b[0m\u001b[0;34m\u001b[0m\u001b[0;34m\u001b[0m\u001b[0m\n",
      "\u001b[0;32m~/opt/anaconda3/lib/python3.8/site-packages/sklearn/ensemble/_forest.py\u001b[0m in \u001b[0;36mfit\u001b[0;34m(self, X, y, sample_weight)\u001b[0m\n\u001b[1;32m    302\u001b[0m                 \u001b[0;34m\"sparse multilabel-indicator for y is not supported.\"\u001b[0m\u001b[0;34m\u001b[0m\u001b[0;34m\u001b[0m\u001b[0m\n\u001b[1;32m    303\u001b[0m             )\n\u001b[0;32m--> 304\u001b[0;31m         X, y = self._validate_data(X, y, multi_output=True,\n\u001b[0m\u001b[1;32m    305\u001b[0m                                    accept_sparse=\"csc\", dtype=DTYPE)\n\u001b[1;32m    306\u001b[0m         \u001b[0;32mif\u001b[0m \u001b[0msample_weight\u001b[0m \u001b[0;32mis\u001b[0m \u001b[0;32mnot\u001b[0m \u001b[0;32mNone\u001b[0m\u001b[0;34m:\u001b[0m\u001b[0;34m\u001b[0m\u001b[0;34m\u001b[0m\u001b[0m\n",
      "\u001b[0;32m~/opt/anaconda3/lib/python3.8/site-packages/sklearn/base.py\u001b[0m in \u001b[0;36m_validate_data\u001b[0;34m(self, X, y, reset, validate_separately, **check_params)\u001b[0m\n\u001b[1;32m    431\u001b[0m                 \u001b[0my\u001b[0m \u001b[0;34m=\u001b[0m \u001b[0mcheck_array\u001b[0m\u001b[0;34m(\u001b[0m\u001b[0my\u001b[0m\u001b[0;34m,\u001b[0m \u001b[0;34m**\u001b[0m\u001b[0mcheck_y_params\u001b[0m\u001b[0;34m)\u001b[0m\u001b[0;34m\u001b[0m\u001b[0;34m\u001b[0m\u001b[0m\n\u001b[1;32m    432\u001b[0m             \u001b[0;32melse\u001b[0m\u001b[0;34m:\u001b[0m\u001b[0;34m\u001b[0m\u001b[0;34m\u001b[0m\u001b[0m\n\u001b[0;32m--> 433\u001b[0;31m                 \u001b[0mX\u001b[0m\u001b[0;34m,\u001b[0m \u001b[0my\u001b[0m \u001b[0;34m=\u001b[0m \u001b[0mcheck_X_y\u001b[0m\u001b[0;34m(\u001b[0m\u001b[0mX\u001b[0m\u001b[0;34m,\u001b[0m \u001b[0my\u001b[0m\u001b[0;34m,\u001b[0m \u001b[0;34m**\u001b[0m\u001b[0mcheck_params\u001b[0m\u001b[0;34m)\u001b[0m\u001b[0;34m\u001b[0m\u001b[0;34m\u001b[0m\u001b[0m\n\u001b[0m\u001b[1;32m    434\u001b[0m             \u001b[0mout\u001b[0m \u001b[0;34m=\u001b[0m \u001b[0mX\u001b[0m\u001b[0;34m,\u001b[0m \u001b[0my\u001b[0m\u001b[0;34m\u001b[0m\u001b[0;34m\u001b[0m\u001b[0m\n\u001b[1;32m    435\u001b[0m \u001b[0;34m\u001b[0m\u001b[0m\n",
      "\u001b[0;32m~/opt/anaconda3/lib/python3.8/site-packages/sklearn/utils/validation.py\u001b[0m in \u001b[0;36minner_f\u001b[0;34m(*args, **kwargs)\u001b[0m\n\u001b[1;32m     61\u001b[0m             \u001b[0mextra_args\u001b[0m \u001b[0;34m=\u001b[0m \u001b[0mlen\u001b[0m\u001b[0;34m(\u001b[0m\u001b[0margs\u001b[0m\u001b[0;34m)\u001b[0m \u001b[0;34m-\u001b[0m \u001b[0mlen\u001b[0m\u001b[0;34m(\u001b[0m\u001b[0mall_args\u001b[0m\u001b[0;34m)\u001b[0m\u001b[0;34m\u001b[0m\u001b[0;34m\u001b[0m\u001b[0m\n\u001b[1;32m     62\u001b[0m             \u001b[0;32mif\u001b[0m \u001b[0mextra_args\u001b[0m \u001b[0;34m<=\u001b[0m \u001b[0;36m0\u001b[0m\u001b[0;34m:\u001b[0m\u001b[0;34m\u001b[0m\u001b[0;34m\u001b[0m\u001b[0m\n\u001b[0;32m---> 63\u001b[0;31m                 \u001b[0;32mreturn\u001b[0m \u001b[0mf\u001b[0m\u001b[0;34m(\u001b[0m\u001b[0;34m*\u001b[0m\u001b[0margs\u001b[0m\u001b[0;34m,\u001b[0m \u001b[0;34m**\u001b[0m\u001b[0mkwargs\u001b[0m\u001b[0;34m)\u001b[0m\u001b[0;34m\u001b[0m\u001b[0;34m\u001b[0m\u001b[0m\n\u001b[0m\u001b[1;32m     64\u001b[0m \u001b[0;34m\u001b[0m\u001b[0m\n\u001b[1;32m     65\u001b[0m             \u001b[0;31m# extra_args > 0\u001b[0m\u001b[0;34m\u001b[0m\u001b[0;34m\u001b[0m\u001b[0;34m\u001b[0m\u001b[0m\n",
      "\u001b[0;32m~/opt/anaconda3/lib/python3.8/site-packages/sklearn/utils/validation.py\u001b[0m in \u001b[0;36mcheck_X_y\u001b[0;34m(X, y, accept_sparse, accept_large_sparse, dtype, order, copy, force_all_finite, ensure_2d, allow_nd, multi_output, ensure_min_samples, ensure_min_features, y_numeric, estimator)\u001b[0m\n\u001b[1;32m    821\u001b[0m                     estimator=estimator)\n\u001b[1;32m    822\u001b[0m     \u001b[0;32mif\u001b[0m \u001b[0mmulti_output\u001b[0m\u001b[0;34m:\u001b[0m\u001b[0;34m\u001b[0m\u001b[0;34m\u001b[0m\u001b[0m\n\u001b[0;32m--> 823\u001b[0;31m         y = check_array(y, accept_sparse='csr', force_all_finite=True,\n\u001b[0m\u001b[1;32m    824\u001b[0m                         ensure_2d=False, dtype=None)\n\u001b[1;32m    825\u001b[0m     \u001b[0;32melse\u001b[0m\u001b[0;34m:\u001b[0m\u001b[0;34m\u001b[0m\u001b[0;34m\u001b[0m\u001b[0m\n",
      "\u001b[0;32m~/opt/anaconda3/lib/python3.8/site-packages/sklearn/utils/validation.py\u001b[0m in \u001b[0;36minner_f\u001b[0;34m(*args, **kwargs)\u001b[0m\n\u001b[1;32m     61\u001b[0m             \u001b[0mextra_args\u001b[0m \u001b[0;34m=\u001b[0m \u001b[0mlen\u001b[0m\u001b[0;34m(\u001b[0m\u001b[0margs\u001b[0m\u001b[0;34m)\u001b[0m \u001b[0;34m-\u001b[0m \u001b[0mlen\u001b[0m\u001b[0;34m(\u001b[0m\u001b[0mall_args\u001b[0m\u001b[0;34m)\u001b[0m\u001b[0;34m\u001b[0m\u001b[0;34m\u001b[0m\u001b[0m\n\u001b[1;32m     62\u001b[0m             \u001b[0;32mif\u001b[0m \u001b[0mextra_args\u001b[0m \u001b[0;34m<=\u001b[0m \u001b[0;36m0\u001b[0m\u001b[0;34m:\u001b[0m\u001b[0;34m\u001b[0m\u001b[0;34m\u001b[0m\u001b[0m\n\u001b[0;32m---> 63\u001b[0;31m                 \u001b[0;32mreturn\u001b[0m \u001b[0mf\u001b[0m\u001b[0;34m(\u001b[0m\u001b[0;34m*\u001b[0m\u001b[0margs\u001b[0m\u001b[0;34m,\u001b[0m \u001b[0;34m**\u001b[0m\u001b[0mkwargs\u001b[0m\u001b[0;34m)\u001b[0m\u001b[0;34m\u001b[0m\u001b[0;34m\u001b[0m\u001b[0m\n\u001b[0m\u001b[1;32m     64\u001b[0m \u001b[0;34m\u001b[0m\u001b[0m\n\u001b[1;32m     65\u001b[0m             \u001b[0;31m# extra_args > 0\u001b[0m\u001b[0;34m\u001b[0m\u001b[0;34m\u001b[0m\u001b[0;34m\u001b[0m\u001b[0m\n",
      "\u001b[0;32m~/opt/anaconda3/lib/python3.8/site-packages/sklearn/utils/validation.py\u001b[0m in \u001b[0;36mcheck_array\u001b[0;34m(array, accept_sparse, accept_large_sparse, dtype, order, copy, force_all_finite, ensure_2d, allow_nd, ensure_min_samples, ensure_min_features, estimator)\u001b[0m\n\u001b[1;32m    511\u001b[0m         \u001b[0;32mwith\u001b[0m \u001b[0msuppress\u001b[0m\u001b[0;34m(\u001b[0m\u001b[0mImportError\u001b[0m\u001b[0;34m)\u001b[0m\u001b[0;34m:\u001b[0m\u001b[0;34m\u001b[0m\u001b[0;34m\u001b[0m\u001b[0m\n\u001b[1;32m    512\u001b[0m             \u001b[0;32mfrom\u001b[0m \u001b[0mpandas\u001b[0m\u001b[0;34m.\u001b[0m\u001b[0mapi\u001b[0m\u001b[0;34m.\u001b[0m\u001b[0mtypes\u001b[0m \u001b[0;32mimport\u001b[0m \u001b[0mis_sparse\u001b[0m\u001b[0;34m\u001b[0m\u001b[0;34m\u001b[0m\u001b[0m\n\u001b[0;32m--> 513\u001b[0;31m             if (not hasattr(array, 'sparse') and\n\u001b[0m\u001b[1;32m    514\u001b[0m                     array.dtypes.apply(is_sparse).any()):\n\u001b[1;32m    515\u001b[0m                 warnings.warn(\n",
      "\u001b[0;32m~/opt/anaconda3/lib/python3.8/site-packages/pandas/core/generic.py\u001b[0m in \u001b[0;36m__getattr__\u001b[0;34m(self, name)\u001b[0m\n\u001b[1;32m   5459\u001b[0m             \u001b[0;32mor\u001b[0m \u001b[0mname\u001b[0m \u001b[0;32min\u001b[0m \u001b[0mself\u001b[0m\u001b[0;34m.\u001b[0m\u001b[0m_accessors\u001b[0m\u001b[0;34m\u001b[0m\u001b[0;34m\u001b[0m\u001b[0m\n\u001b[1;32m   5460\u001b[0m         ):\n\u001b[0;32m-> 5461\u001b[0;31m             \u001b[0;32mreturn\u001b[0m \u001b[0mobject\u001b[0m\u001b[0;34m.\u001b[0m\u001b[0m__getattribute__\u001b[0m\u001b[0;34m(\u001b[0m\u001b[0mself\u001b[0m\u001b[0;34m,\u001b[0m \u001b[0mname\u001b[0m\u001b[0;34m)\u001b[0m\u001b[0;34m\u001b[0m\u001b[0;34m\u001b[0m\u001b[0m\n\u001b[0m\u001b[1;32m   5462\u001b[0m         \u001b[0;32melse\u001b[0m\u001b[0;34m:\u001b[0m\u001b[0;34m\u001b[0m\u001b[0;34m\u001b[0m\u001b[0m\n\u001b[1;32m   5463\u001b[0m             \u001b[0;32mif\u001b[0m \u001b[0mself\u001b[0m\u001b[0;34m.\u001b[0m\u001b[0m_info_axis\u001b[0m\u001b[0;34m.\u001b[0m\u001b[0m_can_hold_identifiers_and_holds_name\u001b[0m\u001b[0;34m(\u001b[0m\u001b[0mname\u001b[0m\u001b[0;34m)\u001b[0m\u001b[0;34m:\u001b[0m\u001b[0;34m\u001b[0m\u001b[0;34m\u001b[0m\u001b[0m\n",
      "\u001b[0;32m~/opt/anaconda3/lib/python3.8/site-packages/pandas/core/accessor.py\u001b[0m in \u001b[0;36m__get__\u001b[0;34m(self, obj, cls)\u001b[0m\n\u001b[1;32m    178\u001b[0m             \u001b[0;31m# we're accessing the attribute of the class, i.e., Dataset.geo\u001b[0m\u001b[0;34m\u001b[0m\u001b[0;34m\u001b[0m\u001b[0;34m\u001b[0m\u001b[0m\n\u001b[1;32m    179\u001b[0m             \u001b[0;32mreturn\u001b[0m \u001b[0mself\u001b[0m\u001b[0;34m.\u001b[0m\u001b[0m_accessor\u001b[0m\u001b[0;34m\u001b[0m\u001b[0;34m\u001b[0m\u001b[0m\n\u001b[0;32m--> 180\u001b[0;31m         \u001b[0maccessor_obj\u001b[0m \u001b[0;34m=\u001b[0m \u001b[0mself\u001b[0m\u001b[0;34m.\u001b[0m\u001b[0m_accessor\u001b[0m\u001b[0;34m(\u001b[0m\u001b[0mobj\u001b[0m\u001b[0;34m)\u001b[0m\u001b[0;34m\u001b[0m\u001b[0;34m\u001b[0m\u001b[0m\n\u001b[0m\u001b[1;32m    181\u001b[0m         \u001b[0;31m# Replace the property with the accessor object. Inspired by:\u001b[0m\u001b[0;34m\u001b[0m\u001b[0;34m\u001b[0m\u001b[0;34m\u001b[0m\u001b[0m\n\u001b[1;32m    182\u001b[0m         \u001b[0;31m# https://www.pydanny.com/cached-property.html\u001b[0m\u001b[0;34m\u001b[0m\u001b[0;34m\u001b[0m\u001b[0;34m\u001b[0m\u001b[0m\n",
      "\u001b[0;32m~/opt/anaconda3/lib/python3.8/site-packages/pandas/core/arrays/sparse/accessor.py\u001b[0m in \u001b[0;36m__init__\u001b[0;34m(self, data)\u001b[0m\n\u001b[1;32m     17\u001b[0m     \u001b[0;32mdef\u001b[0m \u001b[0m__init__\u001b[0m\u001b[0;34m(\u001b[0m\u001b[0mself\u001b[0m\u001b[0;34m,\u001b[0m \u001b[0mdata\u001b[0m\u001b[0;34m=\u001b[0m\u001b[0;32mNone\u001b[0m\u001b[0;34m)\u001b[0m\u001b[0;34m:\u001b[0m\u001b[0;34m\u001b[0m\u001b[0;34m\u001b[0m\u001b[0m\n\u001b[1;32m     18\u001b[0m         \u001b[0mself\u001b[0m\u001b[0;34m.\u001b[0m\u001b[0m_parent\u001b[0m \u001b[0;34m=\u001b[0m \u001b[0mdata\u001b[0m\u001b[0;34m\u001b[0m\u001b[0;34m\u001b[0m\u001b[0m\n\u001b[0;32m---> 19\u001b[0;31m         \u001b[0mself\u001b[0m\u001b[0;34m.\u001b[0m\u001b[0m_validate\u001b[0m\u001b[0;34m(\u001b[0m\u001b[0mdata\u001b[0m\u001b[0;34m)\u001b[0m\u001b[0;34m\u001b[0m\u001b[0;34m\u001b[0m\u001b[0m\n\u001b[0m\u001b[1;32m     20\u001b[0m \u001b[0;34m\u001b[0m\u001b[0m\n\u001b[1;32m     21\u001b[0m     \u001b[0;32mdef\u001b[0m \u001b[0m_validate\u001b[0m\u001b[0;34m(\u001b[0m\u001b[0mself\u001b[0m\u001b[0;34m,\u001b[0m \u001b[0mdata\u001b[0m\u001b[0;34m)\u001b[0m\u001b[0;34m:\u001b[0m\u001b[0;34m\u001b[0m\u001b[0;34m\u001b[0m\u001b[0m\n",
      "\u001b[0;32m~/opt/anaconda3/lib/python3.8/site-packages/pandas/core/arrays/sparse/accessor.py\u001b[0m in \u001b[0;36m_validate\u001b[0;34m(self, data)\u001b[0m\n\u001b[1;32m    219\u001b[0m \u001b[0;34m\u001b[0m\u001b[0m\n\u001b[1;32m    220\u001b[0m     \u001b[0;32mdef\u001b[0m \u001b[0m_validate\u001b[0m\u001b[0;34m(\u001b[0m\u001b[0mself\u001b[0m\u001b[0;34m,\u001b[0m \u001b[0mdata\u001b[0m\u001b[0;34m)\u001b[0m\u001b[0;34m:\u001b[0m\u001b[0;34m\u001b[0m\u001b[0;34m\u001b[0m\u001b[0m\n\u001b[0;32m--> 221\u001b[0;31m         \u001b[0mdtypes\u001b[0m \u001b[0;34m=\u001b[0m \u001b[0mdata\u001b[0m\u001b[0;34m.\u001b[0m\u001b[0mdtypes\u001b[0m\u001b[0;34m\u001b[0m\u001b[0;34m\u001b[0m\u001b[0m\n\u001b[0m\u001b[1;32m    222\u001b[0m         \u001b[0;32mif\u001b[0m \u001b[0;32mnot\u001b[0m \u001b[0mall\u001b[0m\u001b[0;34m(\u001b[0m\u001b[0misinstance\u001b[0m\u001b[0;34m(\u001b[0m\u001b[0mt\u001b[0m\u001b[0;34m,\u001b[0m \u001b[0mSparseDtype\u001b[0m\u001b[0;34m)\u001b[0m \u001b[0;32mfor\u001b[0m \u001b[0mt\u001b[0m \u001b[0;32min\u001b[0m \u001b[0mdtypes\u001b[0m\u001b[0;34m)\u001b[0m\u001b[0;34m:\u001b[0m\u001b[0;34m\u001b[0m\u001b[0;34m\u001b[0m\u001b[0m\n\u001b[1;32m    223\u001b[0m             \u001b[0;32mraise\u001b[0m \u001b[0mAttributeError\u001b[0m\u001b[0;34m(\u001b[0m\u001b[0mself\u001b[0m\u001b[0;34m.\u001b[0m\u001b[0m_validation_msg\u001b[0m\u001b[0;34m)\u001b[0m\u001b[0;34m\u001b[0m\u001b[0;34m\u001b[0m\u001b[0m\n",
      "\u001b[0;32m~/opt/anaconda3/lib/python3.8/site-packages/pandas/core/generic.py\u001b[0m in \u001b[0;36mdtypes\u001b[0;34m(self)\u001b[0m\n\u001b[1;32m   5707\u001b[0m         \"\"\"\n\u001b[1;32m   5708\u001b[0m         \u001b[0mdata\u001b[0m \u001b[0;34m=\u001b[0m \u001b[0mself\u001b[0m\u001b[0;34m.\u001b[0m\u001b[0m_mgr\u001b[0m\u001b[0;34m.\u001b[0m\u001b[0mget_dtypes\u001b[0m\u001b[0;34m(\u001b[0m\u001b[0;34m)\u001b[0m\u001b[0;34m\u001b[0m\u001b[0;34m\u001b[0m\u001b[0m\n\u001b[0;32m-> 5709\u001b[0;31m         \u001b[0;32mreturn\u001b[0m \u001b[0mself\u001b[0m\u001b[0;34m.\u001b[0m\u001b[0m_constructor_sliced\u001b[0m\u001b[0;34m(\u001b[0m\u001b[0mdata\u001b[0m\u001b[0;34m,\u001b[0m \u001b[0mindex\u001b[0m\u001b[0;34m=\u001b[0m\u001b[0mself\u001b[0m\u001b[0;34m.\u001b[0m\u001b[0m_info_axis\u001b[0m\u001b[0;34m,\u001b[0m \u001b[0mdtype\u001b[0m\u001b[0;34m=\u001b[0m\u001b[0mnp\u001b[0m\u001b[0;34m.\u001b[0m\u001b[0mobject_\u001b[0m\u001b[0;34m)\u001b[0m\u001b[0;34m\u001b[0m\u001b[0;34m\u001b[0m\u001b[0m\n\u001b[0m\u001b[1;32m   5710\u001b[0m \u001b[0;34m\u001b[0m\u001b[0m\n\u001b[1;32m   5711\u001b[0m     \u001b[0;34m@\u001b[0m\u001b[0mfinal\u001b[0m\u001b[0;34m\u001b[0m\u001b[0;34m\u001b[0m\u001b[0m\n",
      "\u001b[0;32m~/opt/anaconda3/lib/python3.8/site-packages/pandas/core/series.py\u001b[0m in \u001b[0;36m__init__\u001b[0;34m(self, data, index, dtype, name, copy, fastpath)\u001b[0m\n\u001b[1;32m    362\u001b[0m                     \u001b[0mdata\u001b[0m \u001b[0;34m=\u001b[0m \u001b[0mdata\u001b[0m\u001b[0;34m.\u001b[0m\u001b[0mcopy\u001b[0m\u001b[0;34m(\u001b[0m\u001b[0;34m)\u001b[0m\u001b[0;34m\u001b[0m\u001b[0;34m\u001b[0m\u001b[0m\n\u001b[1;32m    363\u001b[0m             \u001b[0;32melse\u001b[0m\u001b[0;34m:\u001b[0m\u001b[0;34m\u001b[0m\u001b[0;34m\u001b[0m\u001b[0m\n\u001b[0;32m--> 364\u001b[0;31m                 \u001b[0mdata\u001b[0m \u001b[0;34m=\u001b[0m \u001b[0msanitize_array\u001b[0m\u001b[0;34m(\u001b[0m\u001b[0mdata\u001b[0m\u001b[0;34m,\u001b[0m \u001b[0mindex\u001b[0m\u001b[0;34m,\u001b[0m \u001b[0mdtype\u001b[0m\u001b[0;34m,\u001b[0m \u001b[0mcopy\u001b[0m\u001b[0;34m,\u001b[0m \u001b[0mraise_cast_failure\u001b[0m\u001b[0;34m=\u001b[0m\u001b[0;32mTrue\u001b[0m\u001b[0;34m)\u001b[0m\u001b[0;34m\u001b[0m\u001b[0;34m\u001b[0m\u001b[0m\n\u001b[0m\u001b[1;32m    365\u001b[0m \u001b[0;34m\u001b[0m\u001b[0m\n\u001b[1;32m    366\u001b[0m                 \u001b[0mdata\u001b[0m \u001b[0;34m=\u001b[0m \u001b[0mSingleBlockManager\u001b[0m\u001b[0;34m.\u001b[0m\u001b[0mfrom_array\u001b[0m\u001b[0;34m(\u001b[0m\u001b[0mdata\u001b[0m\u001b[0;34m,\u001b[0m \u001b[0mindex\u001b[0m\u001b[0;34m)\u001b[0m\u001b[0;34m\u001b[0m\u001b[0;34m\u001b[0m\u001b[0m\n",
      "\u001b[0;32m~/opt/anaconda3/lib/python3.8/site-packages/pandas/core/construction.py\u001b[0m in \u001b[0;36msanitize_array\u001b[0;34m(data, index, dtype, copy, raise_cast_failure)\u001b[0m\n\u001b[1;32m    459\u001b[0m         \u001b[0;32melse\u001b[0m\u001b[0;34m:\u001b[0m\u001b[0;34m\u001b[0m\u001b[0;34m\u001b[0m\u001b[0m\n\u001b[1;32m    460\u001b[0m             \u001b[0;31m# we will try to copy be-definition here\u001b[0m\u001b[0;34m\u001b[0m\u001b[0;34m\u001b[0m\u001b[0;34m\u001b[0m\u001b[0m\n\u001b[0;32m--> 461\u001b[0;31m             \u001b[0msubarr\u001b[0m \u001b[0;34m=\u001b[0m \u001b[0m_try_cast\u001b[0m\u001b[0;34m(\u001b[0m\u001b[0mdata\u001b[0m\u001b[0;34m,\u001b[0m \u001b[0mdtype\u001b[0m\u001b[0;34m,\u001b[0m \u001b[0mcopy\u001b[0m\u001b[0;34m,\u001b[0m \u001b[0mraise_cast_failure\u001b[0m\u001b[0;34m)\u001b[0m\u001b[0;34m\u001b[0m\u001b[0;34m\u001b[0m\u001b[0m\n\u001b[0m\u001b[1;32m    462\u001b[0m \u001b[0;34m\u001b[0m\u001b[0m\n\u001b[1;32m    463\u001b[0m     \u001b[0;32melif\u001b[0m \u001b[0misinstance\u001b[0m\u001b[0;34m(\u001b[0m\u001b[0mdata\u001b[0m\u001b[0;34m,\u001b[0m \u001b[0mABCExtensionArray\u001b[0m\u001b[0;34m)\u001b[0m\u001b[0;34m:\u001b[0m\u001b[0;34m\u001b[0m\u001b[0;34m\u001b[0m\u001b[0m\n",
      "\u001b[0;32m~/opt/anaconda3/lib/python3.8/site-packages/pandas/core/construction.py\u001b[0m in \u001b[0;36m_try_cast\u001b[0;34m(arr, dtype, copy, raise_cast_failure)\u001b[0m\n\u001b[1;32m    588\u001b[0m             \u001b[0msubarr\u001b[0m \u001b[0;34m=\u001b[0m \u001b[0marr\u001b[0m\u001b[0;34m\u001b[0m\u001b[0;34m\u001b[0m\u001b[0m\n\u001b[1;32m    589\u001b[0m         \u001b[0;32melse\u001b[0m\u001b[0;34m:\u001b[0m\u001b[0;34m\u001b[0m\u001b[0;34m\u001b[0m\u001b[0m\n\u001b[0;32m--> 590\u001b[0;31m             \u001b[0msubarr\u001b[0m \u001b[0;34m=\u001b[0m \u001b[0mmaybe_cast_to_datetime\u001b[0m\u001b[0;34m(\u001b[0m\u001b[0marr\u001b[0m\u001b[0;34m,\u001b[0m \u001b[0mdtype\u001b[0m\u001b[0;34m)\u001b[0m\u001b[0;34m\u001b[0m\u001b[0;34m\u001b[0m\u001b[0m\n\u001b[0m\u001b[1;32m    591\u001b[0m \u001b[0;34m\u001b[0m\u001b[0m\n\u001b[1;32m    592\u001b[0m         \u001b[0;31m# Take care in creating object arrays (but iterators are not\u001b[0m\u001b[0;34m\u001b[0m\u001b[0;34m\u001b[0m\u001b[0;34m\u001b[0m\u001b[0m\n",
      "\u001b[0;32m~/opt/anaconda3/lib/python3.8/site-packages/pandas/core/dtypes/cast.py\u001b[0m in \u001b[0;36mmaybe_cast_to_datetime\u001b[0;34m(value, dtype)\u001b[0m\n\u001b[1;32m   1388\u001b[0m         \u001b[0mis_datetime64\u001b[0m \u001b[0;34m=\u001b[0m \u001b[0mis_datetime64_dtype\u001b[0m\u001b[0;34m(\u001b[0m\u001b[0mdtype\u001b[0m\u001b[0;34m)\u001b[0m\u001b[0;34m\u001b[0m\u001b[0;34m\u001b[0m\u001b[0m\n\u001b[1;32m   1389\u001b[0m         \u001b[0mis_datetime64tz\u001b[0m \u001b[0;34m=\u001b[0m \u001b[0mis_datetime64tz_dtype\u001b[0m\u001b[0;34m(\u001b[0m\u001b[0mdtype\u001b[0m\u001b[0;34m)\u001b[0m\u001b[0;34m\u001b[0m\u001b[0;34m\u001b[0m\u001b[0m\n\u001b[0;32m-> 1390\u001b[0;31m         \u001b[0mis_timedelta64\u001b[0m \u001b[0;34m=\u001b[0m \u001b[0mis_timedelta64_dtype\u001b[0m\u001b[0;34m(\u001b[0m\u001b[0mdtype\u001b[0m\u001b[0;34m)\u001b[0m\u001b[0;34m\u001b[0m\u001b[0;34m\u001b[0m\u001b[0m\n\u001b[0m\u001b[1;32m   1391\u001b[0m \u001b[0;34m\u001b[0m\u001b[0m\n\u001b[1;32m   1392\u001b[0m         \u001b[0;32mif\u001b[0m \u001b[0mis_datetime64\u001b[0m \u001b[0;32mor\u001b[0m \u001b[0mis_datetime64tz\u001b[0m \u001b[0;32mor\u001b[0m \u001b[0mis_timedelta64\u001b[0m\u001b[0;34m:\u001b[0m\u001b[0;34m\u001b[0m\u001b[0;34m\u001b[0m\u001b[0m\n",
      "\u001b[0;32m~/opt/anaconda3/lib/python3.8/site-packages/pandas/core/dtypes/common.py\u001b[0m in \u001b[0;36mis_timedelta64_dtype\u001b[0;34m(arr_or_dtype)\u001b[0m\n\u001b[1;32m    427\u001b[0m \u001b[0;34m\u001b[0m\u001b[0m\n\u001b[1;32m    428\u001b[0m \u001b[0;34m\u001b[0m\u001b[0m\n\u001b[0;32m--> 429\u001b[0;31m \u001b[0;32mdef\u001b[0m \u001b[0mis_timedelta64_dtype\u001b[0m\u001b[0;34m(\u001b[0m\u001b[0marr_or_dtype\u001b[0m\u001b[0;34m)\u001b[0m \u001b[0;34m->\u001b[0m \u001b[0mbool\u001b[0m\u001b[0;34m:\u001b[0m\u001b[0;34m\u001b[0m\u001b[0;34m\u001b[0m\u001b[0m\n\u001b[0m\u001b[1;32m    430\u001b[0m     \"\"\"\n\u001b[1;32m    431\u001b[0m     \u001b[0mCheck\u001b[0m \u001b[0mwhether\u001b[0m \u001b[0man\u001b[0m \u001b[0marray\u001b[0m\u001b[0;34m-\u001b[0m\u001b[0mlike\u001b[0m \u001b[0;32mor\u001b[0m \u001b[0mdtype\u001b[0m \u001b[0;32mis\u001b[0m \u001b[0mof\u001b[0m \u001b[0mthe\u001b[0m \u001b[0mtimedelta64\u001b[0m \u001b[0mdtype\u001b[0m\u001b[0;34m.\u001b[0m\u001b[0;34m\u001b[0m\u001b[0;34m\u001b[0m\u001b[0m\n",
      "\u001b[0;31mKeyboardInterrupt\u001b[0m: "
     ]
    }
   ],
   "source": [
    "agg_pred = ieq_and_sq_prediction()\n",
    "agg_res = {\"target\":[],\"best_performing_model\":[],\"model\":[],\"model_score\":[],\"biased_score\":[],\"hyper_parameters\":[],\"sensitive_parameter1\":[],\"sensitive_parameter2\":[]}\n",
    "for target in [\"tst\",\"sol\",\"naw\",\"restful\"]:\n",
    "    agg_pred.run(ieq_bi,srsq,target)\n",
    "    for i in range(len(agg_pred.results)):\n",
    "        agg_res[\"target\"].append(target)\n",
    "        agg_res[\"best_performing_model\"].append(agg_pred.results.iloc[0,0])\n",
    "        agg_res[\"model\"].append(agg_pred.results.iloc[i,0])\n",
    "        agg_res[\"model_score\"].append(agg_pred.results.iloc[i,1])\n",
    "        bs = sum(agg_pred.targets.values)/len(agg_pred.targets)\n",
    "        agg_res[\"biased_score\"].append(bs[0] if bs[0] > 0.5 else 1-bs[0])\n",
    "        agg_res[\"hyper_parameters\"].append(agg_pred.results.iloc[i,2])\n",
    "        try:\n",
    "            agg_res[\"sensitive_parameter1\"].append(agg_pred.feature_importance.sort_values(\"importance\",ascending=False).iloc[0,0])\n",
    "            agg_res[\"sensitive_parameter2\"].append(agg_pred.feature_importance.sort_values(\"importance\",ascending=False).iloc[1,0])\n",
    "        except KeyError:\n",
    "            agg_res[\"sensitive_parameter1\"].append(np.nan)\n",
    "            agg_res[\"sensitive_parameter2\"].append(np.nan)"
   ]
  },
  {
   "cell_type": "code",
   "execution_count": null,
   "metadata": {},
   "outputs": [],
   "source": [
    "agg_res_df = pd.DataFrame(agg_res)\n",
    "agg_res_df"
   ]
  },
  {
   "cell_type": "markdown",
   "metadata": {},
   "source": [
    "The following hyperparameters will be used:\n",
    "* **Logistic Regression**: (fit_intercpt=True,solver=\"lbfgs\")\n",
    "* **Decision Tree**: (ccp_alpha=0.01,max_depth=2)\n",
    "* **Naive Bayes**: None\n",
    "* **Random Forest**: (ccp_alpha=0.02,max_depth=2,n_esimators=30)"
   ]
  },
  {
   "cell_type": "markdown",
   "metadata": {},
   "source": [
    "## Model Performance "
   ]
  },
  {
   "cell_type": "markdown",
   "metadata": {},
   "source": [
    "### Summary of Measurements"
   ]
  },
  {
   "cell_type": "code",
   "execution_count": 28,
   "metadata": {},
   "outputs": [],
   "source": [
    "ieq_srsq = srsq.merge(ieq_bi,on=[\"beiwe\",\"end_date\"])"
   ]
  },
  {
   "cell_type": "code",
   "execution_count": 56,
   "metadata": {},
   "outputs": [],
   "source": [
    "def plot_summary(df_in,save=False):\n",
    "    \"\"\"\n",
    "    Plots simplifed kde plots of the variables\n",
    "    \"\"\"\n",
    "    df = df_in.copy()\n",
    "    #df = df[[col for col in df.columns if col.endswith(\"median\")]]\n",
    "    df = df[[\"co2_median\",\"pm2p5_mass_median\",\"temperature_c_median\",\"rh_median\",\"tvoc_median\",\"co_median\"]]\n",
    "    df.rename({\"co2_median\":\"CO$_2$ (ppm)\",\"pm2p5_mass_median\":\"PM$_{2.5}$ ($\\mu$g/m$^3$)\",\"temperature_c_median\":\"T ($^\\circ$C)\",\"rh_median\":\"RH (%)\",\"tvoc_median\":\"TVOC (ppb)\",\"co_median\":\"CO (ppb)\"},axis=\"columns\",inplace=True)\n",
    "    #df.rename({\"CO2_ETC_BR1\":\"CO2_BR (ppm)\", \"RH_ETC_IN1\":\"RH (%)\", \"PM_MET_IN1\":\"PM_IN ($\\mu$g/m$^3$)\", \"NO2_IAQm_ppb\":\"NO2 (ppb)\", \"FRM_IN_ppb\":\"FRM (ppb)\", \"T_ETC_IN1\":\"T_IN ($^\\circ$C)\",\n",
    "    #             \"RHD_Fan_Airflow_Adjusted_Low_cfm\":\"RHD_Low (CFM)\",\"Depressurization_Q50_cfm\":\"Q50 (CFM)\", \"EXF_BA1_Measured_cfm\":\"EXF_BA (CFM)\"},axis=\"columns\",inplace=True)\n",
    "    _, axes = plt.subplots(3,2,figsize=(4,6),gridspec_kw={\"hspace\":0.6})\n",
    "    for param, ticks, ax in zip(df.columns,[[500,1500,2500],[0,10,20,30,40,50],[15,20,25,30],[30,40,50],[0,300,600,900],[0,5,10,15]],axes.flat):\n",
    "        sns.kdeplot(df[param],cumulative=False,cut=0,common_norm=True,color=\"black\",lw=2,ax=ax)\n",
    "        for loc in [\"top\",\"left\",\"right\"]:\n",
    "            ax.set_xticks(ticks)\n",
    "            ax.spines[loc].set_visible(False)\n",
    "            ax.axes.get_yaxis().set_visible(False)\n",
    "            \n",
    "        ax.set_xlabel(ax.get_xlabel(),size=10)\n",
    "        ax.tick_params(labelsize=8)\n",
    "            \n",
    "    if save:\n",
    "        plt.savefig(\"../reports/figures/prediction/sleep_quality-distributions.pdf\",bbox_inches=\"tight\")\n",
    "\n",
    "    plt.show()\n",
    "    plt.close()"
   ]
  },
  {
   "cell_type": "code",
   "execution_count": 57,
   "metadata": {},
   "outputs": [
    {
     "data": {
      "image/png": "[encoded data removed]",
      "text/plain": [
       "<Figure size 288x432 with 6 Axes>"
      ]
     },
     "metadata": {
      "needs_background": "light"
     },
     "output_type": "display_data"
    }
   ],
   "source": [
    "plot_summary(ieq_srsq,save=True)"
   ]
  },
  {
   "cell_type": "code",
   "execution_count": 104,
   "metadata": {},
   "outputs": [
    {
     "data": {
      "text/plain": [
       "25.287313249414094"
      ]
     },
     "execution_count": 104,
     "metadata": {},
     "output_type": "execute_result"
    }
   ],
   "source": [
    "np.mean(ieq_srsq[\"temperature_c_median\"])"
   ]
  },
  {
   "cell_type": "code",
   "execution_count": 99,
   "metadata": {},
   "outputs": [
    {
     "data": {
      "text/plain": [
       "0.19047619047619047"
      ]
     },
     "execution_count": 99,
     "metadata": {},
     "output_type": "execute_result"
    }
   ],
   "source": [
    "1 - len(ieq_srsq[ieq_srsq[\"co_median\"]<=6.1])/len(ieq_srsq[\"co_median\"])"
   ]
  },
  {
   "cell_type": "code",
   "execution_count": 98,
   "metadata": {},
   "outputs": [
    {
     "data": {
      "text/plain": [
       "rnse61g4    4\n",
       "xdbdrk6e    3\n",
       "zdpffrox    1\n",
       "itmylz3g    1\n",
       "Name: beiwe, dtype: int64"
      ]
     },
     "execution_count": 98,
     "metadata": {},
     "output_type": "execute_result"
    }
   ],
   "source": [
    "ieq_srsq[ieq_srsq[\"co_median\"]>8.7][\"beiwe\"].value_counts()"
   ]
  },
  {
   "cell_type": "code",
   "execution_count": 105,
   "metadata": {},
   "outputs": [
    {
     "data": {
      "text/plain": [
       "273"
      ]
     },
     "execution_count": 105,
     "metadata": {},
     "output_type": "execute_result"
    }
   ],
   "source": [
    "len(ieq_srsq)"
   ]
  },
  {
   "cell_type": "markdown",
   "metadata": {},
   "source": [
    "### Surveys per Week"
   ]
  },
  {
   "cell_type": "code",
   "execution_count": 111,
   "metadata": {},
   "outputs": [],
   "source": [
    "week_of_year = ieq_srsq.copy()\n",
    "woy = []\n",
    "for t in week_of_year[\"timestamp\"]:\n",
    "    woy.append(t.isocalendar()[1])\n",
    "week_of_year[\"WoY\"] = woy"
   ]
  },
  {
   "cell_type": "code",
   "execution_count": 116,
   "metadata": {},
   "outputs": [
    {
     "data": {
      "text/plain": [
       "2.1496062992125986"
      ]
     },
     "execution_count": 116,
     "metadata": {},
     "output_type": "execute_result"
    }
   ],
   "source": [
    "week_of_year.groupby([\"beiwe\",\"WoY\"]).count()[\"sol\"].mean()"
   ]
  },
  {
   "cell_type": "markdown",
   "metadata": {},
   "source": [
    "### Performance Metrics"
   ]
  },
  {
   "cell_type": "code",
   "execution_count": 52,
   "metadata": {
    "scrolled": true
   },
   "outputs": [
    {
     "name": "stdout",
     "output_type": "stream",
     "text": [
      "Getting Features and Target (tst)...\n",
      "Total: 272\n",
      "Train (217): 0.7977941176470589 - Good: tst_binary    0.700461\n",
      "dtype: float64\n",
      "Test (55): 0.20220588235294118\n",
      "Train (217): 0.7977941176470589 - Good: tst_binary    0.645161\n",
      "dtype: float64\n",
      "Test (55): 0.20220588235294118\n",
      "Train (218): 0.8014705882352942 - Good: tst_binary    0.614679\n",
      "dtype: float64\n",
      "Test (54): 0.19852941176470587\n",
      "Train (218): 0.8014705882352942 - Good: tst_binary    0.62844\n",
      "dtype: float64\n",
      "Test (54): 0.19852941176470587\n",
      "Train (218): 0.8014705882352942 - Good: tst_binary    0.62844\n",
      "dtype: float64\n",
      "Test (54): 0.19852941176470587\n",
      "Total: 272\n",
      "Train (217): 0.7977941176470589 - Good: tst_binary    0.700461\n",
      "dtype: float64\n",
      "Test (55): 0.20220588235294118\n",
      "Train (217): 0.7977941176470589 - Good: tst_binary    0.645161\n",
      "dtype: float64\n",
      "Test (55): 0.20220588235294118\n",
      "Train (218): 0.8014705882352942 - Good: tst_binary    0.614679\n",
      "dtype: float64\n",
      "Test (54): 0.19852941176470587\n",
      "Train (218): 0.8014705882352942 - Good: tst_binary    0.62844\n",
      "dtype: float64\n",
      "Test (54): 0.19852941176470587\n",
      "Train (218): 0.8014705882352942 - Good: tst_binary    0.62844\n",
      "dtype: float64\n",
      "Test (54): 0.19852941176470587\n",
      "Total: 272\n",
      "Train (217): 0.7977941176470589 - Good: tst_binary    0.700461\n",
      "dtype: float64\n",
      "Test (55): 0.20220588235294118\n",
      "Train (217): 0.7977941176470589 - Good: tst_binary    0.645161\n",
      "dtype: float64\n",
      "Test (55): 0.20220588235294118\n",
      "Train (218): 0.8014705882352942 - Good: tst_binary    0.614679\n",
      "dtype: float64\n",
      "Test (54): 0.19852941176470587\n",
      "Train (218): 0.8014705882352942 - Good: tst_binary    0.62844\n",
      "dtype: float64\n",
      "Test (54): 0.19852941176470587\n",
      "Train (218): 0.8014705882352942 - Good: tst_binary    0.62844\n",
      "dtype: float64\n",
      "Test (54): 0.19852941176470587\n",
      "Total: 272\n",
      "Train (217): 0.7977941176470589 - Good: tst_binary    0.700461\n",
      "dtype: float64\n",
      "Test (55): 0.20220588235294118\n",
      "Train (217): 0.7977941176470589 - Good: tst_binary    0.645161\n",
      "dtype: float64\n",
      "Test (55): 0.20220588235294118\n",
      "Train (218): 0.8014705882352942 - Good: tst_binary    0.614679\n",
      "dtype: float64\n",
      "Test (54): 0.19852941176470587\n",
      "Train (218): 0.8014705882352942 - Good: tst_binary    0.62844\n",
      "dtype: float64\n",
      "Test (54): 0.19852941176470587\n",
      "Train (218): 0.8014705882352942 - Good: tst_binary    0.62844\n",
      "dtype: float64\n",
      "Test (54): 0.19852941176470587\n",
      "Getting Features and Target (sol)...\n",
      "Total: 272\n",
      "Train (217): 0.7977941176470589 - Good: sol_binary    0.451613\n",
      "dtype: float64\n",
      "Test (55): 0.20220588235294118\n",
      "Train (217): 0.7977941176470589 - Good: sol_binary    0.539171\n",
      "dtype: float64\n",
      "Test (55): 0.20220588235294118\n",
      "Train (218): 0.8014705882352942 - Good: sol_binary    0.59633\n",
      "dtype: float64\n",
      "Test (54): 0.19852941176470587\n",
      "Train (218): 0.8014705882352942 - Good: sol_binary    0.504587\n",
      "dtype: float64\n",
      "Test (54): 0.19852941176470587\n",
      "Train (218): 0.8014705882352942 - Good: sol_binary    0.5\n",
      "dtype: float64\n",
      "Test (54): 0.19852941176470587\n",
      "Total: 272\n",
      "Train (217): 0.7977941176470589 - Good: sol_binary    0.451613\n",
      "dtype: float64\n",
      "Test (55): 0.20220588235294118\n",
      "Train (217): 0.7977941176470589 - Good: sol_binary    0.539171\n",
      "dtype: float64\n",
      "Test (55): 0.20220588235294118\n",
      "Train (218): 0.8014705882352942 - Good: sol_binary    0.59633\n",
      "dtype: float64\n",
      "Test (54): 0.19852941176470587\n",
      "Train (218): 0.8014705882352942 - Good: sol_binary    0.504587\n",
      "dtype: float64\n",
      "Test (54): 0.19852941176470587\n",
      "Train (218): 0.8014705882352942 - Good: sol_binary    0.5\n",
      "dtype: float64\n",
      "Test (54): 0.19852941176470587\n",
      "Total: 272\n",
      "Train (217): 0.7977941176470589 - Good: sol_binary    0.451613\n",
      "dtype: float64\n",
      "Test (55): 0.20220588235294118\n",
      "Train (217): 0.7977941176470589 - Good: sol_binary    0.539171\n",
      "dtype: float64\n",
      "Test (55): 0.20220588235294118\n",
      "Train (218): 0.8014705882352942 - Good: sol_binary    0.59633\n",
      "dtype: float64\n",
      "Test (54): 0.19852941176470587\n",
      "Train (218): 0.8014705882352942 - Good: sol_binary    0.504587\n",
      "dtype: float64\n",
      "Test (54): 0.19852941176470587\n",
      "Train (218): 0.8014705882352942 - Good: sol_binary    0.5\n",
      "dtype: float64\n",
      "Test (54): 0.19852941176470587\n",
      "Total: 272\n",
      "Train (217): 0.7977941176470589 - Good: sol_binary    0.451613\n",
      "dtype: float64\n",
      "Test (55): 0.20220588235294118\n",
      "Train (217): 0.7977941176470589 - Good: sol_binary    0.539171\n",
      "dtype: float64\n",
      "Test (55): 0.20220588235294118\n",
      "Train (218): 0.8014705882352942 - Good: sol_binary    0.59633\n",
      "dtype: float64\n",
      "Test (54): 0.19852941176470587\n",
      "Train (218): 0.8014705882352942 - Good: sol_binary    0.504587\n",
      "dtype: float64\n",
      "Test (54): 0.19852941176470587\n",
      "Train (218): 0.8014705882352942 - Good: sol_binary    0.5\n",
      "dtype: float64\n",
      "Test (54): 0.19852941176470587\n",
      "Getting Features and Target (naw)...\n",
      "Total: 272\n",
      "Train (217): 0.7977941176470589 - Good: naw_binary    0.451613\n",
      "dtype: float64\n",
      "Test (55): 0.20220588235294118\n",
      "Train (217): 0.7977941176470589 - Good: naw_binary    0.56682\n",
      "dtype: float64\n",
      "Test (55): 0.20220588235294118\n",
      "Train (218): 0.8014705882352942 - Good: naw_binary    0.568807\n",
      "dtype: float64\n",
      "Test (54): 0.19852941176470587\n",
      "Train (218): 0.8014705882352942 - Good: naw_binary    0.550459\n",
      "dtype: float64\n",
      "Test (54): 0.19852941176470587\n",
      "Train (218): 0.8014705882352942 - Good: naw_binary    0.509174\n",
      "dtype: float64\n",
      "Test (54): 0.19852941176470587\n",
      "Total: 272\n",
      "Train (217): 0.7977941176470589 - Good: naw_binary    0.451613\n",
      "dtype: float64\n",
      "Test (55): 0.20220588235294118\n",
      "Train (217): 0.7977941176470589 - Good: naw_binary    0.56682\n",
      "dtype: float64\n",
      "Test (55): 0.20220588235294118\n",
      "Train (218): 0.8014705882352942 - Good: naw_binary    0.568807\n",
      "dtype: float64\n",
      "Test (54): 0.19852941176470587\n",
      "Train (218): 0.8014705882352942 - Good: naw_binary    0.550459\n",
      "dtype: float64\n",
      "Test (54): 0.19852941176470587\n",
      "Train (218): 0.8014705882352942 - Good: naw_binary    0.509174\n",
      "dtype: float64\n",
      "Test (54): 0.19852941176470587\n",
      "Total: 272\n",
      "Train (217): 0.7977941176470589 - Good: naw_binary    0.451613\n",
      "dtype: float64\n",
      "Test (55): 0.20220588235294118\n",
      "Train (217): 0.7977941176470589 - Good: naw_binary    0.56682\n",
      "dtype: float64\n",
      "Test (55): 0.20220588235294118\n",
      "Train (218): 0.8014705882352942 - Good: naw_binary    0.568807\n",
      "dtype: float64\n",
      "Test (54): 0.19852941176470587\n",
      "Train (218): 0.8014705882352942 - Good: naw_binary    0.550459\n",
      "dtype: float64\n",
      "Test (54): 0.19852941176470587\n",
      "Train (218): 0.8014705882352942 - Good: naw_binary    0.509174\n",
      "dtype: float64\n",
      "Test (54): 0.19852941176470587\n",
      "Total: 272\n",
      "Train (217): 0.7977941176470589 - Good: naw_binary    0.451613\n",
      "dtype: float64\n",
      "Test (55): 0.20220588235294118\n",
      "Train (217): 0.7977941176470589 - Good: naw_binary    0.56682\n",
      "dtype: float64\n",
      "Test (55): 0.20220588235294118\n",
      "Train (218): 0.8014705882352942 - Good: naw_binary    0.568807\n",
      "dtype: float64\n",
      "Test (54): 0.19852941176470587\n",
      "Train (218): 0.8014705882352942 - Good: naw_binary    0.550459\n",
      "dtype: float64\n",
      "Test (54): 0.19852941176470587\n",
      "Train (218): 0.8014705882352942 - Good: naw_binary    0.509174\n",
      "dtype: float64\n",
      "Test (54): 0.19852941176470587\n",
      "Getting Features and Target (restful)...\n",
      "Total: 272\n",
      "Train (217): 0.7977941176470589 - Good: restful_binary    0.83871\n",
      "dtype: float64\n",
      "Test (55): 0.20220588235294118\n",
      "Train (217): 0.7977941176470589 - Good: restful_binary    0.857143\n",
      "dtype: float64\n",
      "Test (55): 0.20220588235294118\n",
      "Train (218): 0.8014705882352942 - Good: restful_binary    0.811927\n",
      "dtype: float64\n",
      "Test (54): 0.19852941176470587\n",
      "Train (218): 0.8014705882352942 - Good: restful_binary    0.798165\n",
      "dtype: float64\n",
      "Test (54): 0.19852941176470587\n",
      "Train (218): 0.8014705882352942 - Good: restful_binary    0.830275\n",
      "dtype: float64\n",
      "Test (54): 0.19852941176470587\n",
      "Total: 272\n",
      "Train (217): 0.7977941176470589 - Good: restful_binary    0.83871\n",
      "dtype: float64\n",
      "Test (55): 0.20220588235294118\n",
      "Train (217): 0.7977941176470589 - Good: restful_binary    0.857143\n",
      "dtype: float64\n",
      "Test (55): 0.20220588235294118\n",
      "Train (218): 0.8014705882352942 - Good: restful_binary    0.811927\n",
      "dtype: float64\n",
      "Test (54): 0.19852941176470587\n",
      "Train (218): 0.8014705882352942 - Good: restful_binary    0.798165\n",
      "dtype: float64\n",
      "Test (54): 0.19852941176470587\n",
      "Train (218): 0.8014705882352942 - Good: restful_binary    0.830275\n",
      "dtype: float64\n",
      "Test (54): 0.19852941176470587\n",
      "Total: 272\n",
      "Train (217): 0.7977941176470589 - Good: restful_binary    0.83871\n",
      "dtype: float64\n",
      "Test (55): 0.20220588235294118\n",
      "Train (217): 0.7977941176470589 - Good: restful_binary    0.857143\n",
      "dtype: float64\n",
      "Test (55): 0.20220588235294118\n",
      "Train (218): 0.8014705882352942 - Good: restful_binary    0.811927\n",
      "dtype: float64\n",
      "Test (54): 0.19852941176470587\n",
      "Train (218): 0.8014705882352942 - Good: restful_binary    0.798165\n",
      "dtype: float64\n",
      "Test (54): 0.19852941176470587\n",
      "Train (218): 0.8014705882352942 - Good: restful_binary    0.830275\n",
      "dtype: float64\n",
      "Test (54): 0.19852941176470587\n",
      "Total: 272\n",
      "Train (217): 0.7977941176470589 - Good: restful_binary    0.83871\n",
      "dtype: float64\n",
      "Test (55): 0.20220588235294118\n",
      "Train (217): 0.7977941176470589 - Good: restful_binary    0.857143\n",
      "dtype: float64\n",
      "Test (55): 0.20220588235294118\n",
      "Train (218): 0.8014705882352942 - Good: restful_binary    0.811927\n",
      "dtype: float64\n",
      "Test (54): 0.19852941176470587\n",
      "Train (218): 0.8014705882352942 - Good: restful_binary    0.798165\n",
      "dtype: float64\n",
      "Test (54): 0.19852941176470587\n",
      "Train (218): 0.8014705882352942 - Good: restful_binary    0.830275\n",
      "dtype: float64\n",
      "Test (54): 0.19852941176470587\n"
     ]
    }
   ],
   "source": [
    "model_results = pd.DataFrame()\n",
    "final_results = pd.DataFrame()\n",
    "final_ft_importance = pd.DataFrame()\n",
    "for target in [\"tst\",\"sol\",\"naw\",\"restful\"]:\n",
    "    agg_pred = ieq_and_sq_prediction()\n",
    "    agg_pred.get_features_and_targets(ieq_bi,srsq,target)\n",
    "    model_res, final_res, ft_importance = agg_pred.get_res(cv=\"\")\n",
    "    model_results = model_results.append(model_res)\n",
    "    final_results = final_results.append(final_res)\n",
    "    #final_res[\"f1_naive\"] = round(f1_score(agg_pred.targets,np.ones(len(agg_pred.targets))),2)\n",
    "    temp = pd.DataFrame(ft_importance).T\n",
    "    temp.columns = [col.split(\"_\")[0] for col in agg_pred.features.columns]\n",
    "    final_ft_importance = final_ft_importance.append(temp)"
   ]
  },
  {
   "cell_type": "code",
   "execution_count": 53,
   "metadata": {},
   "outputs": [
    {
     "data": {
      "text/html": [
       "<div>\n",
       "<style scoped>\n",
       "    .dataframe tbody tr th:only-of-type {\n",
       "        vertical-align: middle;\n",
       "    }\n",
       "\n",
       "    .dataframe tbody tr th {\n",
       "        vertical-align: top;\n",
       "    }\n",
       "\n",
       "    .dataframe thead th {\n",
       "        text-align: right;\n",
       "    }\n",
       "</style>\n",
       "<table border=\"1\" class=\"dataframe\">\n",
       "  <thead>\n",
       "    <tr style=\"text-align: right;\">\n",
       "      <th></th>\n",
       "      <th>target</th>\n",
       "      <th>model</th>\n",
       "      <th>accuracy</th>\n",
       "      <th>accuracy_naive</th>\n",
       "      <th>f1</th>\n",
       "      <th>f1_naive</th>\n",
       "    </tr>\n",
       "  </thead>\n",
       "  <tbody>\n",
       "    <tr>\n",
       "      <th>0</th>\n",
       "      <td>tst_binary</td>\n",
       "      <td>logistic_regression</td>\n",
       "      <td>0.65</td>\n",
       "      <td>0.64</td>\n",
       "      <td>0.79 (0.5)</td>\n",
       "      <td>0.78</td>\n",
       "    </tr>\n",
       "    <tr>\n",
       "      <th>1</th>\n",
       "      <td>tst_binary</td>\n",
       "      <td>naive_bayes</td>\n",
       "      <td>0.65</td>\n",
       "      <td>0.64</td>\n",
       "      <td>0.78 (0.5)</td>\n",
       "      <td>0.78</td>\n",
       "    </tr>\n",
       "    <tr>\n",
       "      <th>2</th>\n",
       "      <td>tst_binary</td>\n",
       "      <td>decision_tree</td>\n",
       "      <td>0.65</td>\n",
       "      <td>0.64</td>\n",
       "      <td>0.78 (0.53)</td>\n",
       "      <td>0.78</td>\n",
       "    </tr>\n",
       "    <tr>\n",
       "      <th>3</th>\n",
       "      <td>tst_binary</td>\n",
       "      <td>random_forest</td>\n",
       "      <td>0.64</td>\n",
       "      <td>0.64</td>\n",
       "      <td>0.78 (0.57)</td>\n",
       "      <td>0.78</td>\n",
       "    </tr>\n",
       "    <tr>\n",
       "      <th>0</th>\n",
       "      <td>sol_binary</td>\n",
       "      <td>logistic_regression</td>\n",
       "      <td>0.58</td>\n",
       "      <td>0.52</td>\n",
       "      <td>0.68 (0.37)</td>\n",
       "      <td>0.68</td>\n",
       "    </tr>\n",
       "    <tr>\n",
       "      <th>1</th>\n",
       "      <td>sol_binary</td>\n",
       "      <td>naive_bayes</td>\n",
       "      <td>0.57</td>\n",
       "      <td>0.52</td>\n",
       "      <td>0.68 (0.35)</td>\n",
       "      <td>0.68</td>\n",
       "    </tr>\n",
       "    <tr>\n",
       "      <th>2</th>\n",
       "      <td>sol_binary</td>\n",
       "      <td>decision_tree</td>\n",
       "      <td>0.60</td>\n",
       "      <td>0.52</td>\n",
       "      <td>0.68 (0.38)</td>\n",
       "      <td>0.68</td>\n",
       "    </tr>\n",
       "    <tr>\n",
       "      <th>3</th>\n",
       "      <td>sol_binary</td>\n",
       "      <td>random_forest</td>\n",
       "      <td>0.59</td>\n",
       "      <td>0.52</td>\n",
       "      <td>0.69 (0.44)</td>\n",
       "      <td>0.68</td>\n",
       "    </tr>\n",
       "    <tr>\n",
       "      <th>0</th>\n",
       "      <td>naw_binary</td>\n",
       "      <td>logistic_regression</td>\n",
       "      <td>0.59</td>\n",
       "      <td>0.53</td>\n",
       "      <td>0.7 (0.34)</td>\n",
       "      <td>0.69</td>\n",
       "    </tr>\n",
       "    <tr>\n",
       "      <th>1</th>\n",
       "      <td>naw_binary</td>\n",
       "      <td>naive_bayes</td>\n",
       "      <td>0.60</td>\n",
       "      <td>0.53</td>\n",
       "      <td>0.7 (0.35)</td>\n",
       "      <td>0.69</td>\n",
       "    </tr>\n",
       "    <tr>\n",
       "      <th>2</th>\n",
       "      <td>naw_binary</td>\n",
       "      <td>decision_tree</td>\n",
       "      <td>0.61</td>\n",
       "      <td>0.53</td>\n",
       "      <td>0.69 (0.34)</td>\n",
       "      <td>0.69</td>\n",
       "    </tr>\n",
       "    <tr>\n",
       "      <th>3</th>\n",
       "      <td>naw_binary</td>\n",
       "      <td>random_forest</td>\n",
       "      <td>0.58</td>\n",
       "      <td>0.53</td>\n",
       "      <td>0.7 (0.44)</td>\n",
       "      <td>0.69</td>\n",
       "    </tr>\n",
       "    <tr>\n",
       "      <th>0</th>\n",
       "      <td>restful_binary</td>\n",
       "      <td>logistic_regression</td>\n",
       "      <td>0.83</td>\n",
       "      <td>0.83</td>\n",
       "      <td>0.91 (0.63)</td>\n",
       "      <td>0.91</td>\n",
       "    </tr>\n",
       "    <tr>\n",
       "      <th>1</th>\n",
       "      <td>restful_binary</td>\n",
       "      <td>naive_bayes</td>\n",
       "      <td>0.83</td>\n",
       "      <td>0.83</td>\n",
       "      <td>0.91 (0.65)</td>\n",
       "      <td>0.91</td>\n",
       "    </tr>\n",
       "    <tr>\n",
       "      <th>2</th>\n",
       "      <td>restful_binary</td>\n",
       "      <td>decision_tree</td>\n",
       "      <td>0.83</td>\n",
       "      <td>0.83</td>\n",
       "      <td>0.91 (0.71)</td>\n",
       "      <td>0.91</td>\n",
       "    </tr>\n",
       "    <tr>\n",
       "      <th>3</th>\n",
       "      <td>restful_binary</td>\n",
       "      <td>random_forest</td>\n",
       "      <td>0.83</td>\n",
       "      <td>0.83</td>\n",
       "      <td>0.91 (0.73)</td>\n",
       "      <td>0.91</td>\n",
       "    </tr>\n",
       "  </tbody>\n",
       "</table>\n",
       "</div>"
      ],
      "text/plain": [
       "           target                model  accuracy  accuracy_naive           f1  \\\n",
       "0      tst_binary  logistic_regression      0.65            0.64   0.79 (0.5)   \n",
       "1      tst_binary          naive_bayes      0.65            0.64   0.78 (0.5)   \n",
       "2      tst_binary        decision_tree      0.65            0.64  0.78 (0.53)   \n",
       "3      tst_binary        random_forest      0.64            0.64  0.78 (0.57)   \n",
       "0      sol_binary  logistic_regression      0.58            0.52  0.68 (0.37)   \n",
       "1      sol_binary          naive_bayes      0.57            0.52  0.68 (0.35)   \n",
       "2      sol_binary        decision_tree      0.60            0.52  0.68 (0.38)   \n",
       "3      sol_binary        random_forest      0.59            0.52  0.69 (0.44)   \n",
       "0      naw_binary  logistic_regression      0.59            0.53   0.7 (0.34)   \n",
       "1      naw_binary          naive_bayes      0.60            0.53   0.7 (0.35)   \n",
       "2      naw_binary        decision_tree      0.61            0.53  0.69 (0.34)   \n",
       "3      naw_binary        random_forest      0.58            0.53   0.7 (0.44)   \n",
       "0  restful_binary  logistic_regression      0.83            0.83  0.91 (0.63)   \n",
       "1  restful_binary          naive_bayes      0.83            0.83  0.91 (0.65)   \n",
       "2  restful_binary        decision_tree      0.83            0.83  0.91 (0.71)   \n",
       "3  restful_binary        random_forest      0.83            0.83  0.91 (0.73)   \n",
       "\n",
       "   f1_naive  \n",
       "0      0.78  \n",
       "1      0.78  \n",
       "2      0.78  \n",
       "3      0.78  \n",
       "0      0.68  \n",
       "1      0.68  \n",
       "2      0.68  \n",
       "3      0.68  \n",
       "0      0.69  \n",
       "1      0.69  \n",
       "2      0.69  \n",
       "3      0.69  \n",
       "0      0.91  \n",
       "1      0.91  \n",
       "2      0.91  \n",
       "3      0.91  "
      ]
     },
     "execution_count": 53,
     "metadata": {},
     "output_type": "execute_result"
    }
   ],
   "source": [
    "model_results"
   ]
  },
  {
   "cell_type": "code",
   "execution_count": 54,
   "metadata": {},
   "outputs": [
    {
     "name": "stdout",
     "output_type": "stream",
     "text": [
      "\\begin{tabular}{llrrrlr}\n",
      "\\toprule\n",
      "{} & model &  accuracy\\_train &  accuracy\\_test &  accuracy\\_naive &           f1 &  f1\\_naive \\\\\n",
      "target  &       &                 &                &                 &              &           \\\\\n",
      "\\midrule\n",
      "TST     &    LR &            0.65 &           0.64 &            0.64 &  0.79 (0.51) &      0.78 \\\\\n",
      "TST     &    NB &            0.65 &           0.64 &            0.64 &  0.78 (0.51) &      0.78 \\\\\n",
      "TST     &    DT &            0.65 &           0.61 &            0.64 &  0.78 (0.53) &      0.78 \\\\\n",
      "TST     &    RF &            0.64 &           0.64 &            0.64 &  0.78 (0.58) &      0.78 \\\\\n",
      "SOL     &    LR &            0.58 &           0.41 &            0.52 &  0.68 (0.38) &      0.68 \\\\\n",
      "SOL     &    NB &            0.57 &           0.44 &            0.52 &  0.68 (0.36) &      0.68 \\\\\n",
      "SOL     &    DT &            0.60 &           0.46 &            0.52 &  0.68 (0.38) &      0.68 \\\\\n",
      "SOL     &    RF &            0.59 &           0.40 &            0.52 &  0.68 (0.45) &      0.68 \\\\\n",
      "NAW     &    LR &            0.59 &           0.46 &            0.53 &   0.7 (0.35) &      0.69 \\\\\n",
      "NAW     &    NB &            0.60 &           0.46 &            0.53 &  0.69 (0.38) &      0.69 \\\\\n",
      "NAW     &    DT &            0.61 &           0.50 &            0.53 &  0.69 (0.34) &      0.69 \\\\\n",
      "NAW     &    RF &            0.58 &           0.41 &            0.53 &  0.69 (0.47) &      0.69 \\\\\n",
      "Restful &    LR &            0.83 &           0.83 &            0.83 &  0.91 (0.65) &      0.91 \\\\\n",
      "Restful &    NB &            0.83 &           0.83 &            0.83 &  0.91 (0.66) &      0.91 \\\\\n",
      "Restful &    DT &            0.83 &           0.83 &            0.83 &  0.91 (0.71) &      0.91 \\\\\n",
      "Restful &    RF &            0.83 &           0.83 &            0.83 &  0.91 (0.75) &      0.91 \\\\\n",
      "\\bottomrule\n",
      "\\end{tabular}\n",
      "\n"
     ]
    }
   ],
   "source": [
    "results = model_results[[\"model\",\"target\",\"accuracy\"]].merge(final_results,on=[\"model\",\"target\"],suffixes=[\"_train\",\"_test\"])\n",
    "print(results.replace({\"tst_binary\":\"TST\",\"sol_binary\":\"SOL\",\"naw_binary\":\"NAW\",\"restful_binary\":\"Restful\",\n",
    "                             \"logistic_regression\":\"LR\",\"naive_bayes\":\"NB\",\"decision_tree\":\"DT\",\"random_forest\":\"RF\"}).set_index(\"target\").to_latex())"
   ]
  },
  {
   "cell_type": "code",
   "execution_count": null,
   "metadata": {},
   "outputs": [],
   "source": [
    "model_results.drop([\"f1\",\"f1_naive\"],axis=\"columns\",inplace=True)\n",
    "print(model_results.replace({\"tst_binary\":\"TST\",\"sol_binary\":\"SOL\",\"naw_binary\":\"NAW\",\"restful_binary\":\"Restful\",\n",
    "                             \"logistic_regression\":\"LR\",\"decision_tree\":\"DT\",\"naive_bayes\":\"NB\",\"random_forest\":\"RF\"}).set_index(\"target\").to_latex())"
   ]
  },
  {
   "cell_type": "code",
   "execution_count": 23,
   "metadata": {},
   "outputs": [
    {
     "name": "stdout",
     "output_type": "stream",
     "text": [
      "\\begin{tabular}{llrrlr}\n",
      "\\toprule\n",
      "{} & model &  accuracy &  accuracy\\_naive &           f1 &  f1\\_naive \\\\\n",
      "target  &       &           &                 &              &           \\\\\n",
      "\\midrule\n",
      "TST     &    LR &      0.63 &            0.64 &  0.79 (0.52) &      0.78 \\\\\n",
      "TST     &    DT &      0.62 &            0.64 &  0.78 (0.53) &      0.78 \\\\\n",
      "TST     &    NB &      0.62 &            0.64 &  0.78 (0.52) &      0.78 \\\\\n",
      "TST     &    RF &      0.64 &            0.64 &  0.78 (0.55) &      0.78 \\\\\n",
      "SOL     &    LR &      0.39 &            0.52 &  0.68 (0.36) &      0.68 \\\\\n",
      "SOL     &    DT &      0.41 &            0.52 &  0.68 (0.36) &      0.68 \\\\\n",
      "SOL     &    NB &      0.44 &            0.52 &  0.68 (0.34) &      0.68 \\\\\n",
      "SOL     &    RF &      0.33 &            0.52 &  0.67 (0.45) &      0.68 \\\\\n",
      "NAW     &    LR &      0.40 &            0.53 &  0.69 (0.35) &      0.69 \\\\\n",
      "NAW     &    DT &      0.35 &            0.53 &  0.69 (0.36) &      0.69 \\\\\n",
      "NAW     &    NB &      0.38 &            0.53 &  0.69 (0.36) &      0.69 \\\\\n",
      "NAW     &    RF &      0.31 &            0.53 &  0.69 (0.45) &      0.69 \\\\\n",
      "Restful &    LR &      0.83 &            0.83 &   0.9 (0.67) &      0.91 \\\\\n",
      "Restful &    DT &      0.83 &            0.83 &   0.9 (0.72) &      0.91 \\\\\n",
      "Restful &    NB &      0.83 &            0.83 &  0.91 (0.67) &      0.91 \\\\\n",
      "Restful &    RF &      0.83 &            0.83 &   0.9 (0.73) &      0.91 \\\\\n",
      "\\bottomrule\n",
      "\\end{tabular}\n",
      "\n"
     ]
    }
   ],
   "source": [
    "print(final_results.replace({\"tst_binary\":\"TST\",\"sol_binary\":\"SOL\",\"naw_binary\":\"NAW\",\"restful_binary\":\"Restful\",\n",
    "                             \"logistic_regression\":\"LR\",\"decision_tree\":\"DT\",\"naive_bayes\":\"NB\",\"random_forest\":\"RF\"}).set_index(\"target\").to_latex())"
   ]
  },
  {
   "cell_type": "markdown",
   "metadata": {},
   "source": [
    "### Feature Importance"
   ]
  },
  {
   "cell_type": "code",
   "execution_count": 93,
   "metadata": {},
   "outputs": [
    {
     "name": "stdout",
     "output_type": "stream",
     "text": [
      "\\begin{tabular}{lrrrrrr}\n",
      "\\toprule\n",
      "{} &       co2 &        co &      tvoc &     pm2p5 &  temperature &        rh \\\\\n",
      "\\midrule\n",
      "DT &  0.205595 &  0.081152 &  0.246625 &  0.105087 &     0.199664 &  0.161877 \\\\\n",
      "RF &  0.071790 &  0.154142 &  0.190056 &  0.389888 &     0.178879 &  0.015246 \\\\\n",
      "DT &  0.054224 &  0.252726 &  0.123397 &  0.142338 &     0.182081 &  0.245234 \\\\\n",
      "RF &  0.215142 &  0.143895 &  0.148499 &  0.120216 &     0.121418 &  0.250831 \\\\\n",
      "DT &  0.154242 &  0.107117 &  0.206403 &  0.177722 &     0.194197 &  0.160318 \\\\\n",
      "RF &  0.121669 &  0.298251 &  0.034872 &  0.103571 &     0.335237 &  0.106401 \\\\\n",
      "DT &  0.227234 &  0.049883 &  0.184191 &  0.096721 &     0.279681 &  0.162289 \\\\\n",
      "RF &  0.054815 &  0.068571 &  0.207463 &  0.377368 &     0.254918 &  0.036866 \\\\\n",
      "\\bottomrule\n",
      "\\end{tabular}\n",
      "\n"
     ]
    }
   ],
   "source": [
    "print(final_ft_importance.drop([\"logistic_regression\",\"naive_bayes\"],axis=0).rename({\"decision_tree\":\"DT\",\"random_forest\":\"RF\"},axis=0).to_latex())"
   ]
  },
  {
   "cell_type": "markdown",
   "metadata": {},
   "source": [
    "## Class Distinction"
   ]
  },
  {
   "cell_type": "code",
   "execution_count": 31,
   "metadata": {},
   "outputs": [
    {
     "data": {
      "text/html": [
       "<div>\n",
       "<style scoped>\n",
       "    .dataframe tbody tr th:only-of-type {\n",
       "        vertical-align: middle;\n",
       "    }\n",
       "\n",
       "    .dataframe tbody tr th {\n",
       "        vertical-align: top;\n",
       "    }\n",
       "\n",
       "    .dataframe thead th {\n",
       "        text-align: right;\n",
       "    }\n",
       "</style>\n",
       "<table border=\"1\" class=\"dataframe\">\n",
       "  <thead>\n",
       "    <tr style=\"text-align: right;\">\n",
       "      <th></th>\n",
       "      <th>beiwe</th>\n",
       "      <th>start_time</th>\n",
       "      <th>end_time</th>\n",
       "      <th>tvoc_median</th>\n",
       "      <th>co_median</th>\n",
       "      <th>co2_median</th>\n",
       "      <th>pm2p5_mass_median</th>\n",
       "      <th>temperature_c_median</th>\n",
       "      <th>rh_median</th>\n",
       "      <th>fitbit_median</th>\n",
       "      <th>end_date</th>\n",
       "      <th>timestamp</th>\n",
       "      <th>redcap</th>\n",
       "      <th>beacon</th>\n",
       "      <th>tst</th>\n",
       "      <th>sol</th>\n",
       "      <th>naw</th>\n",
       "      <th>restful</th>\n",
       "      <th>tst_binary</th>\n",
       "      <th>sol_binary</th>\n",
       "      <th>naw_binary</th>\n",
       "      <th>restful_binary</th>\n",
       "    </tr>\n",
       "  </thead>\n",
       "  <tbody>\n",
       "    <tr>\n",
       "      <th>0</th>\n",
       "      <td>4i7679py</td>\n",
       "      <td>2020-07-22 06:08:00</td>\n",
       "      <td>2020-07-22 09:46:30</td>\n",
       "      <td>87.556903</td>\n",
       "      <td>6.128722</td>\n",
       "      <td>634.789367</td>\n",
       "      <td>0.000000</td>\n",
       "      <td>28.045646</td>\n",
       "      <td>49.836667</td>\n",
       "      <td>38.0</td>\n",
       "      <td>2020-07-22</td>\n",
       "      <td>2020-07-22 11:29:58</td>\n",
       "      <td>37</td>\n",
       "      <td>44.0</td>\n",
       "      <td>3.0</td>\n",
       "      <td>5.0</td>\n",
       "      <td>2.0</td>\n",
       "      <td>0.0</td>\n",
       "      <td>0</td>\n",
       "      <td>1</td>\n",
       "      <td>0</td>\n",
       "      <td>0</td>\n",
       "    </tr>\n",
       "    <tr>\n",
       "      <th>1</th>\n",
       "      <td>4i7679py</td>\n",
       "      <td>2020-08-05 05:02:30</td>\n",
       "      <td>2020-08-05 09:52:30</td>\n",
       "      <td>59.919139</td>\n",
       "      <td>5.997469</td>\n",
       "      <td>590.241211</td>\n",
       "      <td>0.000000</td>\n",
       "      <td>28.045646</td>\n",
       "      <td>47.466667</td>\n",
       "      <td>38.0</td>\n",
       "      <td>2020-08-05</td>\n",
       "      <td>2020-08-05 16:34:21</td>\n",
       "      <td>37</td>\n",
       "      <td>44.0</td>\n",
       "      <td>4.0</td>\n",
       "      <td>7.0</td>\n",
       "      <td>1.0</td>\n",
       "      <td>1.0</td>\n",
       "      <td>0</td>\n",
       "      <td>1</td>\n",
       "      <td>1</td>\n",
       "      <td>0</td>\n",
       "    </tr>\n",
       "    <tr>\n",
       "      <th>2</th>\n",
       "      <td>745vq78e</td>\n",
       "      <td>2020-06-15 03:45:00</td>\n",
       "      <td>2020-06-15 10:02:30</td>\n",
       "      <td>241.392272</td>\n",
       "      <td>3.170915</td>\n",
       "      <td>1487.851814</td>\n",
       "      <td>17.101568</td>\n",
       "      <td>26.892072</td>\n",
       "      <td>40.281667</td>\n",
       "      <td>47.0</td>\n",
       "      <td>2020-06-15</td>\n",
       "      <td>2020-06-15 16:32:19</td>\n",
       "      <td>55</td>\n",
       "      <td>5.0</td>\n",
       "      <td>5.5</td>\n",
       "      <td>0.0</td>\n",
       "      <td>0.0</td>\n",
       "      <td>2.0</td>\n",
       "      <td>0</td>\n",
       "      <td>1</td>\n",
       "      <td>1</td>\n",
       "      <td>1</td>\n",
       "    </tr>\n",
       "    <tr>\n",
       "      <th>3</th>\n",
       "      <td>745vq78e</td>\n",
       "      <td>2020-06-19 05:00:00</td>\n",
       "      <td>2020-06-19 12:27:30</td>\n",
       "      <td>352.362719</td>\n",
       "      <td>3.085837</td>\n",
       "      <td>1497.211708</td>\n",
       "      <td>23.513718</td>\n",
       "      <td>27.666598</td>\n",
       "      <td>40.117544</td>\n",
       "      <td>47.0</td>\n",
       "      <td>2020-06-19</td>\n",
       "      <td>2020-06-19 12:31:11</td>\n",
       "      <td>55</td>\n",
       "      <td>5.0</td>\n",
       "      <td>6.6</td>\n",
       "      <td>0.0</td>\n",
       "      <td>1.0</td>\n",
       "      <td>2.0</td>\n",
       "      <td>0</td>\n",
       "      <td>1</td>\n",
       "      <td>1</td>\n",
       "      <td>1</td>\n",
       "    </tr>\n",
       "    <tr>\n",
       "      <th>4</th>\n",
       "      <td>745vq78e</td>\n",
       "      <td>2020-06-21 05:31:00</td>\n",
       "      <td>2020-06-21 11:11:30</td>\n",
       "      <td>170.356582</td>\n",
       "      <td>2.940209</td>\n",
       "      <td>1688.836099</td>\n",
       "      <td>4.212862</td>\n",
       "      <td>27.457523</td>\n",
       "      <td>40.273333</td>\n",
       "      <td>47.0</td>\n",
       "      <td>2020-06-21</td>\n",
       "      <td>2020-06-21 23:38:53</td>\n",
       "      <td>55</td>\n",
       "      <td>5.0</td>\n",
       "      <td>5.0</td>\n",
       "      <td>0.0</td>\n",
       "      <td>0.0</td>\n",
       "      <td>2.0</td>\n",
       "      <td>0</td>\n",
       "      <td>1</td>\n",
       "      <td>1</td>\n",
       "      <td>1</td>\n",
       "    </tr>\n",
       "  </tbody>\n",
       "</table>\n",
       "</div>"
      ],
      "text/plain": [
       "      beiwe          start_time            end_time  tvoc_median  co_median  \\\n",
       "0  4i7679py 2020-07-22 06:08:00 2020-07-22 09:46:30    87.556903   6.128722   \n",
       "1  4i7679py 2020-08-05 05:02:30 2020-08-05 09:52:30    59.919139   5.997469   \n",
       "2  745vq78e 2020-06-15 03:45:00 2020-06-15 10:02:30   241.392272   3.170915   \n",
       "3  745vq78e 2020-06-19 05:00:00 2020-06-19 12:27:30   352.362719   3.085837   \n",
       "4  745vq78e 2020-06-21 05:31:00 2020-06-21 11:11:30   170.356582   2.940209   \n",
       "\n",
       "    co2_median  pm2p5_mass_median  temperature_c_median  rh_median  \\\n",
       "0   634.789367           0.000000             28.045646  49.836667   \n",
       "1   590.241211           0.000000             28.045646  47.466667   \n",
       "2  1487.851814          17.101568             26.892072  40.281667   \n",
       "3  1497.211708          23.513718             27.666598  40.117544   \n",
       "4  1688.836099           4.212862             27.457523  40.273333   \n",
       "\n",
       "   fitbit_median   end_date           timestamp  redcap  beacon  tst  sol  \\\n",
       "0           38.0 2020-07-22 2020-07-22 11:29:58      37    44.0  3.0  5.0   \n",
       "1           38.0 2020-08-05 2020-08-05 16:34:21      37    44.0  4.0  7.0   \n",
       "2           47.0 2020-06-15 2020-06-15 16:32:19      55     5.0  5.5  0.0   \n",
       "3           47.0 2020-06-19 2020-06-19 12:31:11      55     5.0  6.6  0.0   \n",
       "4           47.0 2020-06-21 2020-06-21 23:38:53      55     5.0  5.0  0.0   \n",
       "\n",
       "   naw  restful  tst_binary  sol_binary  naw_binary  restful_binary  \n",
       "0  2.0      0.0           0           1           0               0  \n",
       "1  1.0      1.0           0           1           1               0  \n",
       "2  0.0      2.0           0           1           1               1  \n",
       "3  1.0      2.0           0           1           1               1  \n",
       "4  0.0      2.0           0           1           1               1  "
      ]
     },
     "execution_count": 31,
     "metadata": {},
     "output_type": "execute_result"
    }
   ],
   "source": [
    "comb = ieq.merge(right=srsq,on=[\"beiwe\",\"end_date\"])\n",
    "comb.head()"
   ]
  },
  {
   "cell_type": "code",
   "execution_count": 21,
   "metadata": {},
   "outputs": [],
   "source": [
    "def plot_feature_relationships(df,iaq_p1=\"co2\",iaq_p2=\"co\",target=\"tst\",save=False):\n",
    "    \"\"\"\n",
    "    Plots the relationship between three features\n",
    "    \n",
    "    Parameters\n",
    "    ----------\n",
    "    \n",
    "    Returns\n",
    "    -------\n",
    "    <void>\n",
    "    \"\"\"\n",
    "    # defining arrays\n",
    "    x = df.loc[:,f\"{iaq_p1}_median\"]\n",
    "    y = df.loc[:,f\"{iaq_p2}_median\"]\n",
    "    z = df.loc[:,f\"{target}_binary\"]\n",
    "    \n",
    "    fig, ax = plt.subplots(frameon=False)\n",
    "    fig.set_size_inches(6,6)\n",
    "    \n",
    "    im0=ax.scatter(x[z==0], y[z==0], alpha=0.6, marker='o',s=100,color=\"cornflowerblue\",edgecolor=\"black\",label = 'Class 0')\n",
    "    im=ax.scatter(x[z==1], y[z==1], alpha=0.6,marker='^',s=100,color=\"firebrick\",edgecolor=\"black\", label = 'Class 1')\n",
    "    \n",
    "    ax.set_xlabel(f'{visualize.get_label(iaq_p1)} ({visualize.get_units(iaq_p1)})',fontsize=18)\n",
    "    ax.set_ylabel(f'{visualize.get_label(iaq_p2)} ({visualize.get_units(iaq_p2)})',fontsize=18)\n",
    "    ax.legend([im0,im],[\"Class 0\",\"Class 1\"],fontsize=18,loc='upper right',frameon=False)\n",
    "    ax.tick_params(axis='both', which='major', labelsize=14)\n",
    "    \n",
    "    for loc in [\"top\",\"right\"]:\n",
    "        ax.spines[loc].set_visible(False)\n",
    "    \n",
    "    if save:\n",
    "        plt.savefig(f\"../reports/figures/prediction/sleep_quality-feature_relationship-{iaq_p1}-{iaq_p2}-{target}.pdf\",bbox_inches=\"tight\")\n",
    "    \n",
    "    plt.show()\n",
    "    plt.close()"
   ]
  },
  {
   "cell_type": "code",
   "execution_count": 22,
   "metadata": {},
   "outputs": [
    {
     "ename": "NameError",
     "evalue": "name 'comb' is not defined",
     "output_type": "error",
     "traceback": [
      "\u001b[0;31m---------------------------------------------------------------------------\u001b[0m",
      "\u001b[0;31mNameError\u001b[0m                                 Traceback (most recent call last)",
      "\u001b[0;32m<ipython-input-22-5d1e57558e3a>\u001b[0m in \u001b[0;36m<module>\u001b[0;34m\u001b[0m\n\u001b[0;32m----> 1\u001b[0;31m \u001b[0mplot_feature_relationships\u001b[0m\u001b[0;34m(\u001b[0m\u001b[0mcomb\u001b[0m\u001b[0;34m,\u001b[0m\u001b[0;34m\"pm2p5_mass\"\u001b[0m\u001b[0;34m,\u001b[0m\u001b[0;34m\"tvoc\"\u001b[0m\u001b[0;34m)\u001b[0m\u001b[0;34m\u001b[0m\u001b[0;34m\u001b[0m\u001b[0m\n\u001b[0m",
      "\u001b[0;31mNameError\u001b[0m: name 'comb' is not defined"
     ]
    }
   ],
   "source": [
    "plot_feature_relationships(comb,\"pm2p5_mass\",\"tvoc\")"
   ]
  },
  {
   "cell_type": "code",
   "execution_count": 23,
   "metadata": {},
   "outputs": [
    {
     "ename": "NameError",
     "evalue": "name 'comb' is not defined",
     "output_type": "error",
     "traceback": [
      "\u001b[0;31m---------------------------------------------------------------------------\u001b[0m",
      "\u001b[0;31mNameError\u001b[0m                                 Traceback (most recent call last)",
      "\u001b[0;32m<ipython-input-23-a99bd62af358>\u001b[0m in \u001b[0;36m<module>\u001b[0;34m\u001b[0m\n\u001b[0;32m----> 1\u001b[0;31m \u001b[0mplot_feature_relationships\u001b[0m\u001b[0;34m(\u001b[0m\u001b[0mcomb\u001b[0m\u001b[0;34m,\u001b[0m\u001b[0;34m\"rh\"\u001b[0m\u001b[0;34m,\u001b[0m\u001b[0;34m\"co2\"\u001b[0m\u001b[0;34m,\u001b[0m\u001b[0;34m\"sol\"\u001b[0m\u001b[0;34m)\u001b[0m\u001b[0;34m\u001b[0m\u001b[0;34m\u001b[0m\u001b[0m\n\u001b[0m",
      "\u001b[0;31mNameError\u001b[0m: name 'comb' is not defined"
     ]
    }
   ],
   "source": [
    "plot_feature_relationships(comb,\"rh\",\"co2\",\"sol\")"
   ]
  },
  {
   "cell_type": "code",
   "execution_count": 24,
   "metadata": {},
   "outputs": [
    {
     "ename": "NameError",
     "evalue": "name 'comb' is not defined",
     "output_type": "error",
     "traceback": [
      "\u001b[0;31m---------------------------------------------------------------------------\u001b[0m",
      "\u001b[0;31mNameError\u001b[0m                                 Traceback (most recent call last)",
      "\u001b[0;32m<ipython-input-24-208042d36955>\u001b[0m in \u001b[0;36m<module>\u001b[0;34m\u001b[0m\n\u001b[0;32m----> 1\u001b[0;31m \u001b[0mplot_feature_relationships\u001b[0m\u001b[0;34m(\u001b[0m\u001b[0mcomb\u001b[0m\u001b[0;34m,\u001b[0m\u001b[0;34m\"co\"\u001b[0m\u001b[0;34m,\u001b[0m\u001b[0;34m\"temperature_c\"\u001b[0m\u001b[0;34m,\u001b[0m\u001b[0;34m\"naw\"\u001b[0m\u001b[0;34m)\u001b[0m\u001b[0;34m\u001b[0m\u001b[0;34m\u001b[0m\u001b[0m\n\u001b[0m",
      "\u001b[0;31mNameError\u001b[0m: name 'comb' is not defined"
     ]
    }
   ],
   "source": [
    "plot_feature_relationships(comb,\"co\",\"temperature_c\",\"naw\")"
   ]
  },
  {
   "cell_type": "code",
   "execution_count": 25,
   "metadata": {},
   "outputs": [
    {
     "ename": "NameError",
     "evalue": "name 'comb' is not defined",
     "output_type": "error",
     "traceback": [
      "\u001b[0;31m---------------------------------------------------------------------------\u001b[0m",
      "\u001b[0;31mNameError\u001b[0m                                 Traceback (most recent call last)",
      "\u001b[0;32m<ipython-input-25-4242f7060308>\u001b[0m in \u001b[0;36m<module>\u001b[0;34m\u001b[0m\n\u001b[0;32m----> 1\u001b[0;31m \u001b[0mplot_feature_relationships\u001b[0m\u001b[0;34m(\u001b[0m\u001b[0mcomb\u001b[0m\u001b[0;34m,\u001b[0m\u001b[0;34m\"pm2p5_mass\"\u001b[0m\u001b[0;34m,\u001b[0m\u001b[0;34m\"tvoc\"\u001b[0m\u001b[0;34m,\u001b[0m\u001b[0;34m\"restful\"\u001b[0m\u001b[0;34m)\u001b[0m\u001b[0;34m\u001b[0m\u001b[0;34m\u001b[0m\u001b[0m\n\u001b[0m",
      "\u001b[0;31mNameError\u001b[0m: name 'comb' is not defined"
     ]
    }
   ],
   "source": [
    "plot_feature_relationships(comb,\"pm2p5_mass\",\"tvoc\",\"restful\")"
   ]
  },
  {
   "cell_type": "code",
   "execution_count": 39,
   "metadata": {},
   "outputs": [],
   "source": [
    "def plot_feature_relationships_binary(df,iaq_p1=\"co2\",iaq_p2=\"co\",target=\"tst\",save=False):\n",
    "    \"\"\"\n",
    "    Plots the relationship between three features\n",
    "    \n",
    "    Parameters\n",
    "    ----------\n",
    "    \n",
    "    Returns\n",
    "    -------\n",
    "    <void>\n",
    "    \"\"\"\n",
    "    #df_important = df[[f\"{iaq_p1}_median_binary\",f\"{iaq_p2}_median_binary\",f\"{target}_binary\"]]\n",
    "    class0 = []\n",
    "    class1 = []\n",
    "    for i in [1,0]:\n",
    "        for j in [1,0]:\n",
    "            reduced = df[(df[f\"{iaq_p1}_median_binary\"] == i) & (df[f\"{iaq_p2}_median_binary\"] == j)]\n",
    "            class0.append(len(reduced[reduced[f\"{target}_binary\"] == 0]))#/len(reduced)*100)\n",
    "            class1.append(len(reduced[reduced[f\"{target}_binary\"] == 1]))#/len(reduced)*100)\n",
    "    \n",
    "    labels = [\"$\\ell$, $\\ell$\",\"$\\ell$, h\",\"h, $\\ell$\",\"h, h\",]\n",
    "    \n",
    "    fig, ax = plt.subplots(frameon=False)\n",
    "    fig.set_size_inches(6,6)\n",
    "    \n",
    "    im0=ax.bar(labels,class0,color=\"firebrick\",edgecolor=\"black\",label = 'Poor')\n",
    "    im=ax.bar(labels,class1,bottom=class0,color=\"cornflowerblue\",edgecolor=\"black\", label = 'Satisfactory')\n",
    "    \n",
    "    ax.set_xlabel(f'{visualize.get_label(iaq_p1)}, {visualize.get_label(iaq_p2)}',fontsize=18)\n",
    "    ax.set_ylabel(f'Count',fontsize=18)\n",
    "    #ax.set_ylim([0,100])\n",
    "    ax.legend([im0,im],[\"Poor\",\"Satisfactory\"],title=target.upper(),title_fontsize=16,fontsize=14,loc='upper center',bbox_to_anchor=(1.2,0.9),frameon=False)\n",
    "    ax.tick_params(axis='both', which='major', labelsize=14)\n",
    "    \n",
    "    for loc in [\"top\",\"right\"]:\n",
    "        ax.spines[loc].set_visible(False)\n",
    "    \n",
    "    if save:\n",
    "        plt.savefig(f\"../reports/figures/prediction/sleep_quality-feature_relationship-{iaq_p1}-{iaq_p2}-{target}.pdf\",bbox_inches=\"tight\")\n",
    "    \n",
    "    plt.show()\n",
    "    plt.close()"
   ]
  },
  {
   "cell_type": "code",
   "execution_count": 40,
   "metadata": {},
   "outputs": [],
   "source": [
    "comb2 = ieq_bi.merge(right=srsq,on=[\"beiwe\",\"end_date\"])"
   ]
  },
  {
   "cell_type": "code",
   "execution_count": 41,
   "metadata": {},
   "outputs": [
    {
     "data": {
      "image/png": "[encoded data removed]",
      "text/plain": [
       "<Figure size 432x432 with 1 Axes>"
      ]
     },
     "metadata": {
      "needs_background": "light"
     },
     "output_type": "display_data"
    }
   ],
   "source": [
    "plot_feature_relationships_binary(comb2,\"pm2p5_mass\",\"tvoc\",\"tst\",save=True)"
   ]
  },
  {
   "cell_type": "code",
   "execution_count": 44,
   "metadata": {},
   "outputs": [
    {
     "data": {
      "image/png": "[encoded data removed]",
      "text/plain": [
       "<Figure size 432x432 with 1 Axes>"
      ]
     },
     "metadata": {
      "needs_background": "light"
     },
     "output_type": "display_data"
    }
   ],
   "source": [
    "plot_feature_relationships_binary(comb2,\"rh\",\"co2\",\"sol\",save=True)"
   ]
  },
  {
   "cell_type": "code",
   "execution_count": 45,
   "metadata": {},
   "outputs": [
    {
     "data": {
      "image/png": "[encoded data removed]",
      "text/plain": [
       "<Figure size 432x432 with 1 Axes>"
      ]
     },
     "metadata": {
      "needs_background": "light"
     },
     "output_type": "display_data"
    }
   ],
   "source": [
    "plot_feature_relationships_binary(comb2,\"co\",\"temperature_c\",\"naw\",save=True)"
   ]
  },
  {
   "cell_type": "code",
   "execution_count": 46,
   "metadata": {},
   "outputs": [
    {
     "data": {
      "image/png": "[encoded data removed]",
      "text/plain": [
       "<Figure size 432x432 with 1 Axes>"
      ]
     },
     "metadata": {
      "needs_background": "light"
     },
     "output_type": "display_data"
    }
   ],
   "source": [
    "plot_feature_relationships_binary(comb2,\"pm2p5_mass\",\"tvoc\",\"restful\",save=True)"
   ]
  },
  {
   "cell_type": "code",
   "execution_count": null,
   "metadata": {},
   "outputs": [],
   "source": []
  }
 ],
 "metadata": {
  "kernelspec": {
   "display_name": "Python 3",
   "language": "python",
   "name": "python3"
  },
  "language_info": {
   "codemirror_mode": {
    "name": "ipython",
    "version": 3
   },
   "file_extension": ".py",
   "mimetype": "text/x-python",
   "name": "python",
   "nbconvert_exporter": "python",
   "pygments_lexer": "ipython3",
   "version": "3.8.8"
  },
  "toc": {
   "base_numbering": 1,
   "nav_menu": {},
   "number_sections": false,
   "sideBar": false,
   "skip_h1_title": false,
   "title_cell": "Table of Contents",
   "title_sidebar": "Contents",
   "toc_cell": false,
   "toc_position": {},
   "toc_section_display": false,
   "toc_window_display": false
  }
 },
 "nbformat": 4,
 "nbformat_minor": 4
}
