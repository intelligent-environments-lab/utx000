{
 "cells": [
  {
   "cell_type": "markdown",
   "metadata": {},
   "source": [
    "# Self-Report Sleep Prediction\n",
    "In this modified analysis, we only consider the IAQ data from the beacon as features to attempt to predict the self-reported sleep quality metrics.\n",
    "\n",
    "## Features\n",
    "In this analysis, we are going to consider the following features:\n",
    "\n",
    "**IAQ**: There are many measurements of IAQ that we consider:\n",
    "\n",
    "    * CO$_2$\n",
    "    * CO\n",
    "    * PM$_{2.5}$\n",
    "    * TVOCs\n",
    "    * Temperature\n",
    "    * Relative Humidity\n",
    "    \n",
    "## Targets\n",
    "The targets will be all metrics related to sleep quality:\n",
    "\n",
    "**Self-Report**: There are four metrics for self-report sleep quality reported via EMA:\n",
    "\n",
    "    * TST\n",
    "    * SOL\n",
    "    * NAW\n",
    "    * Restfulness"
   ]
  },
  {
   "cell_type": "code",
   "execution_count": 11,
   "metadata": {},
   "outputs": [
    {
     "name": "stdout",
     "output_type": "stream",
     "text": [
      "The autoreload extension is already loaded. To reload it, use:\n",
      "  %reload_ext autoreload\n"
     ]
    }
   ],
   "source": [
    "import warnings\n",
    "warnings.filterwarnings('ignore')\n",
    "\n",
    "%load_ext autoreload\n",
    "%autoreload 2"
   ]
  },
  {
   "cell_type": "code",
   "execution_count": 12,
   "metadata": {},
   "outputs": [],
   "source": [
    "# general\n",
    "import os\n",
    "import sys\n",
    "sys.path.append('../')\n",
    "# user-defined functions\n",
    "from src.visualization import visualize\n",
    "# basic data science\n",
    "import pandas as pd\n",
    "pd.set_option('display.max_columns', 200)\n",
    "import numpy as np\n",
    "# timeseries\n",
    "from datetime import datetime, timedelta\n",
    "# plotting\n",
    "import matplotlib.pyplot as plt\n",
    "from matplotlib import cm\n",
    "from matplotlib.colors import ListedColormap, LinearSegmentedColormap\n",
    "import seaborn as sns\n",
    "import matplotlib.dates as mdates"
   ]
  },
  {
   "cell_type": "markdown",
   "metadata": {},
   "source": [
    "<a id=\"toc\"></a>"
   ]
  },
  {
   "cell_type": "markdown",
   "metadata": {},
   "source": [
    "# Table of Contents\n",
    "1. [Data Import](#data_import)\n",
    "3. [Target Encoding](#encoding)\n",
    "4. [Feature Engineering](#feature_engineering)\n",
    "5. [Prediction](#prediction)\n",
    "    1. [Fitbit Sleep Targets](#fitbit-sleep-prediction)\n",
    "        1. TST\n",
    "        2. SOL\n",
    "        3. WASO\n",
    "        4. REM:nREM\n",
    "        5. SE\n",
    "    2. [Self-Report Sleep Targets](#self-report-sleep-prediction)\n",
    "        1. TST\n",
    "        2. SOL\n",
    "        3. NAW\n",
    "        4. Restfulness\n",
    "6. [Prediction with Encoded Features](#prediction_encoded)\n",
    "7. [Final Analysis](#final_analysis)"
   ]
  },
  {
   "cell_type": "markdown",
   "metadata": {},
   "source": [
    "<a id=\"data-import\"></a>"
   ]
  },
  {
   "cell_type": "markdown",
   "metadata": {},
   "source": [
    "---"
   ]
  },
  {
   "cell_type": "markdown",
   "metadata": {},
   "source": [
    "<a id=\"data_import\"></a>"
   ]
  },
  {
   "cell_type": "markdown",
   "metadata": {},
   "source": [
    "# Data Import\n",
    "For this analysis we want to only consider nights when we have _all_ the available data. These are also the nights that we have confirmed participants are home according to GPS traces. "
   ]
  },
  {
   "cell_type": "markdown",
   "metadata": {},
   "source": [
    "## Feature: IEQ\n",
    "We start with IEQ data beacuse from previous analysis, this dataset has already been curated to include the relevant nights. However, there are quite a few columns that are not necessary for this analysis that have to be removed."
   ]
  },
  {
   "cell_type": "code",
   "execution_count": 13,
   "metadata": {},
   "outputs": [
    {
     "data": {
      "text/html": [
       "<div>\n",
       "<style scoped>\n",
       "    .dataframe tbody tr th:only-of-type {\n",
       "        vertical-align: middle;\n",
       "    }\n",
       "\n",
       "    .dataframe tbody tr th {\n",
       "        vertical-align: top;\n",
       "    }\n",
       "\n",
       "    .dataframe thead th {\n",
       "        text-align: right;\n",
       "    }\n",
       "</style>\n",
       "<table border=\"1\" class=\"dataframe\">\n",
       "  <thead>\n",
       "    <tr style=\"text-align: right;\">\n",
       "      <th></th>\n",
       "      <th>beiwe</th>\n",
       "      <th>start_time</th>\n",
       "      <th>end_time</th>\n",
       "      <th>tvoc_median</th>\n",
       "      <th>co_median</th>\n",
       "      <th>co2_median</th>\n",
       "      <th>pm2p5_mass_median</th>\n",
       "      <th>temperature_c_median</th>\n",
       "      <th>rh_median</th>\n",
       "      <th>fitbit_median</th>\n",
       "      <th>end_date</th>\n",
       "    </tr>\n",
       "  </thead>\n",
       "  <tbody>\n",
       "    <tr>\n",
       "      <th>0</th>\n",
       "      <td>4i7679py</td>\n",
       "      <td>2020-07-06 07:29:30</td>\n",
       "      <td>2020-07-06 12:58:00</td>\n",
       "      <td>86.988188</td>\n",
       "      <td>6.887317</td>\n",
       "      <td>661.802117</td>\n",
       "      <td>23.723769</td>\n",
       "      <td>28.045646</td>\n",
       "      <td>51.900000</td>\n",
       "      <td>38.0</td>\n",
       "      <td>2020-07-06</td>\n",
       "    </tr>\n",
       "    <tr>\n",
       "      <th>1</th>\n",
       "      <td>4i7679py</td>\n",
       "      <td>2020-07-22 06:08:00</td>\n",
       "      <td>2020-07-22 09:46:30</td>\n",
       "      <td>87.556903</td>\n",
       "      <td>6.128722</td>\n",
       "      <td>634.789367</td>\n",
       "      <td>0.000000</td>\n",
       "      <td>28.045646</td>\n",
       "      <td>49.836667</td>\n",
       "      <td>38.0</td>\n",
       "      <td>2020-07-22</td>\n",
       "    </tr>\n",
       "    <tr>\n",
       "      <th>2</th>\n",
       "      <td>4i7679py</td>\n",
       "      <td>2020-07-30 05:42:30</td>\n",
       "      <td>2020-07-30 09:43:00</td>\n",
       "      <td>87.633434</td>\n",
       "      <td>6.097933</td>\n",
       "      <td>593.142571</td>\n",
       "      <td>0.000000</td>\n",
       "      <td>28.045646</td>\n",
       "      <td>51.753333</td>\n",
       "      <td>38.0</td>\n",
       "      <td>2020-07-30</td>\n",
       "    </tr>\n",
       "    <tr>\n",
       "      <th>3</th>\n",
       "      <td>4i7679py</td>\n",
       "      <td>2020-08-05 05:02:30</td>\n",
       "      <td>2020-08-05 09:52:30</td>\n",
       "      <td>59.919139</td>\n",
       "      <td>5.997469</td>\n",
       "      <td>590.241211</td>\n",
       "      <td>0.000000</td>\n",
       "      <td>28.045646</td>\n",
       "      <td>47.466667</td>\n",
       "      <td>38.0</td>\n",
       "      <td>2020-08-05</td>\n",
       "    </tr>\n",
       "    <tr>\n",
       "      <th>4</th>\n",
       "      <td>4i7679py</td>\n",
       "      <td>2020-08-06 05:53:00</td>\n",
       "      <td>2020-08-06 09:25:00</td>\n",
       "      <td>45.097536</td>\n",
       "      <td>5.981596</td>\n",
       "      <td>610.843120</td>\n",
       "      <td>35.778177</td>\n",
       "      <td>28.045646</td>\n",
       "      <td>49.030000</td>\n",
       "      <td>38.0</td>\n",
       "      <td>2020-08-06</td>\n",
       "    </tr>\n",
       "  </tbody>\n",
       "</table>\n",
       "</div>"
      ],
      "text/plain": [
       "      beiwe          start_time            end_time  tvoc_median  co_median  \\\n",
       "0  4i7679py 2020-07-06 07:29:30 2020-07-06 12:58:00    86.988188   6.887317   \n",
       "1  4i7679py 2020-07-22 06:08:00 2020-07-22 09:46:30    87.556903   6.128722   \n",
       "2  4i7679py 2020-07-30 05:42:30 2020-07-30 09:43:00    87.633434   6.097933   \n",
       "3  4i7679py 2020-08-05 05:02:30 2020-08-05 09:52:30    59.919139   5.997469   \n",
       "4  4i7679py 2020-08-06 05:53:00 2020-08-06 09:25:00    45.097536   5.981596   \n",
       "\n",
       "   co2_median  pm2p5_mass_median  temperature_c_median  rh_median  \\\n",
       "0  661.802117          23.723769             28.045646  51.900000   \n",
       "1  634.789367           0.000000             28.045646  49.836667   \n",
       "2  593.142571           0.000000             28.045646  51.753333   \n",
       "3  590.241211           0.000000             28.045646  47.466667   \n",
       "4  610.843120          35.778177             28.045646  49.030000   \n",
       "\n",
       "   fitbit_median   end_date  \n",
       "0           38.0 2020-07-06  \n",
       "1           38.0 2020-07-22  \n",
       "2           38.0 2020-07-30  \n",
       "3           38.0 2020-08-05  \n",
       "4           38.0 2020-08-06  "
      ]
     },
     "execution_count": 13,
     "metadata": {},
     "output_type": "execute_result"
    }
   ],
   "source": [
    "ieq_raw = pd.read_csv(\"../data/processed/beacon_by_night-ux_s20.csv\",parse_dates=[\"start_time\",\"end_time\",],infer_datetime_format=True)\n",
    "ieq_raw.dropna(subset=[\"tvoc\",\"co2\",\"pm2p5_mass\",\"co\"],inplace=True)\n",
    "ieq_raw = ieq_raw[(ieq_raw[\"home\"] == 1) | (ieq_raw[\"increasing_co2\"] > 0.5)]\n",
    "ieq_raw.drop([\"home\",\"increasing_co2\",\"ema\",\"pm1_number\",\"pm2p5_number\",\"pm10_number\",\"pm1_mass\",\"pm10_mass\",\"no2\",\"lux\",\"beacon\",\"redcap\"],axis=\"columns\",inplace=True)\n",
    "ieq_raw = ieq_raw.groupby([\"beiwe\",\"start_time\",\"end_time\"]).median(numeric_only=None)\n",
    "ieq_raw = ieq_raw.add_suffix(\"_median\")\n",
    "ieq_raw.reset_index(inplace=True)\n",
    "ieq = ieq_raw.copy()\n",
    "ieq[\"end_date\"] =  pd.to_datetime(ieq[\"end_time\"].dt.date)\n",
    "ieq.head()"
   ]
  },
  {
   "cell_type": "markdown",
   "metadata": {},
   "source": [
    "## Target: Self-Report Sleep Quality (SRSQ)\n",
    "The self-reported sleep quality comes from the morning EMAs."
   ]
  },
  {
   "cell_type": "code",
   "execution_count": 14,
   "metadata": {},
   "outputs": [
    {
     "data": {
      "text/html": [
       "<div>\n",
       "<style scoped>\n",
       "    .dataframe tbody tr th:only-of-type {\n",
       "        vertical-align: middle;\n",
       "    }\n",
       "\n",
       "    .dataframe tbody tr th {\n",
       "        vertical-align: top;\n",
       "    }\n",
       "\n",
       "    .dataframe thead th {\n",
       "        text-align: right;\n",
       "    }\n",
       "</style>\n",
       "<table border=\"1\" class=\"dataframe\">\n",
       "  <thead>\n",
       "    <tr style=\"text-align: right;\">\n",
       "      <th></th>\n",
       "      <th>timestamp</th>\n",
       "      <th>end_date</th>\n",
       "      <th>beiwe</th>\n",
       "      <th>redcap</th>\n",
       "      <th>beacon</th>\n",
       "      <th>tst</th>\n",
       "      <th>sol</th>\n",
       "      <th>naw</th>\n",
       "      <th>restful</th>\n",
       "    </tr>\n",
       "  </thead>\n",
       "  <tbody>\n",
       "    <tr>\n",
       "      <th>0</th>\n",
       "      <td>2020-05-13 09:10:27</td>\n",
       "      <td>2020-05-13</td>\n",
       "      <td>qh34m4r9</td>\n",
       "      <td>68</td>\n",
       "      <td>19.0</td>\n",
       "      <td>8.0</td>\n",
       "      <td>20.0</td>\n",
       "      <td>2.0</td>\n",
       "      <td>3.0</td>\n",
       "    </tr>\n",
       "    <tr>\n",
       "      <th>1</th>\n",
       "      <td>2020-05-13 09:15:49</td>\n",
       "      <td>2020-05-13</td>\n",
       "      <td>awa8uces</td>\n",
       "      <td>28</td>\n",
       "      <td>26.0</td>\n",
       "      <td>2.0</td>\n",
       "      <td>10.0</td>\n",
       "      <td>3.0</td>\n",
       "      <td>1.0</td>\n",
       "    </tr>\n",
       "    <tr>\n",
       "      <th>2</th>\n",
       "      <td>2020-05-13 09:42:19</td>\n",
       "      <td>2020-05-13</td>\n",
       "      <td>xxvnhauv</td>\n",
       "      <td>21</td>\n",
       "      <td>22.0</td>\n",
       "      <td>6.0</td>\n",
       "      <td>30.0</td>\n",
       "      <td>3.0</td>\n",
       "      <td>1.0</td>\n",
       "    </tr>\n",
       "    <tr>\n",
       "      <th>3</th>\n",
       "      <td>2020-05-13 09:43:27</td>\n",
       "      <td>2020-05-13</td>\n",
       "      <td>rvhdl2la</td>\n",
       "      <td>29</td>\n",
       "      <td>NaN</td>\n",
       "      <td>5.3</td>\n",
       "      <td>5.0</td>\n",
       "      <td>2.0</td>\n",
       "      <td>2.0</td>\n",
       "    </tr>\n",
       "    <tr>\n",
       "      <th>4</th>\n",
       "      <td>2020-05-13 10:11:51</td>\n",
       "      <td>2020-05-13</td>\n",
       "      <td>q5y11ytm</td>\n",
       "      <td>48</td>\n",
       "      <td>NaN</td>\n",
       "      <td>2.0</td>\n",
       "      <td>10.0</td>\n",
       "      <td>0.0</td>\n",
       "      <td>0.0</td>\n",
       "    </tr>\n",
       "  </tbody>\n",
       "</table>\n",
       "</div>"
      ],
      "text/plain": [
       "            timestamp   end_date     beiwe  redcap  beacon  tst   sol  naw  \\\n",
       "0 2020-05-13 09:10:27 2020-05-13  qh34m4r9      68    19.0  8.0  20.0  2.0   \n",
       "1 2020-05-13 09:15:49 2020-05-13  awa8uces      28    26.0  2.0  10.0  3.0   \n",
       "2 2020-05-13 09:42:19 2020-05-13  xxvnhauv      21    22.0  6.0  30.0  3.0   \n",
       "3 2020-05-13 09:43:27 2020-05-13  rvhdl2la      29     NaN  5.3   5.0  2.0   \n",
       "4 2020-05-13 10:11:51 2020-05-13  q5y11ytm      48     NaN  2.0  10.0  0.0   \n",
       "\n",
       "   restful  \n",
       "0      3.0  \n",
       "1      1.0  \n",
       "2      1.0  \n",
       "3      2.0  \n",
       "4      0.0  "
      ]
     },
     "execution_count": 14,
     "metadata": {},
     "output_type": "execute_result"
    }
   ],
   "source": [
    "srsq_raw = pd.read_csv(\"../data/processed/beiwe-morning_ema-ux_s20.csv\",parse_dates=[\"timestamp\"],infer_datetime_format=True)\n",
    "srsq_raw[\"end_date\"] = pd.to_datetime(srsq_raw[\"timestamp\"].dt.date)\n",
    "srsq = srsq_raw[[\"timestamp\",\"end_date\",\"beiwe\",\"redcap\",\"beacon\",\"tst\",\"sol\",\"naw\",\"restful\"]]\n",
    "srsq.head()"
   ]
  },
  {
   "cell_type": "markdown",
   "metadata": {},
   "source": [
    "[Back to Data Import](#data_import)"
   ]
  },
  {
   "cell_type": "markdown",
   "metadata": {},
   "source": [
    "---"
   ]
  },
  {
   "cell_type": "markdown",
   "metadata": {},
   "source": [
    "<a id=\"encoding\" ></a>"
   ]
  },
  {
   "cell_type": "markdown",
   "metadata": {},
   "source": [
    "[Back to ToC](#toc)\n",
    "# Target Encoding\n",
    "We will encode all the target sleep quality variables as binary where 0 represents poor/negative outcomes and 1 are good/positive outcomes."
   ]
  },
  {
   "cell_type": "code",
   "execution_count": 15,
   "metadata": {},
   "outputs": [],
   "source": [
    "def plot_distribution(df, variable,**kwargs):\n",
    "    \"\"\"plots distribution of values\"\"\"\n",
    "    fig, ax = plt.subplots(figsize=(12,4))\n",
    "    # density plot\n",
    "    sns.kdeplot(x=variable,cut=0,data=df,zorder=2,\n",
    "                linewidth=3,color=\"black\",ax=ax)\n",
    "    # x-axis\n",
    "    plt.xticks(fontsize=14)\n",
    "    ax.set_xlabel(variable.upper(),fontsize=16)\n",
    "    if \"xlim\" in kwargs.keys():\n",
    "        ax.set_xlim(kwargs[\"xlim\"])\n",
    "    else:\n",
    "        ax.set_xlim([0,max(df[variable])])\n",
    "    # cumulative\n",
    "    ax2 = ax.twinx()\n",
    "    sns.kdeplot(x=variable,cut=0,data=df,cumulative=True,zorder=1,\n",
    "                linewidth=2,color=\"firebrick\",ax=ax2)\n",
    "    # y-axis\n",
    "    ax.set_yticks([])\n",
    "    ax.set_ylabel(\"\")\n",
    "    ax2.set_ylabel(\"\")\n",
    "    ax2.set_ylim([0,1])\n",
    "    ax2.set_yticks([0,0.25,0.5,0.75,1])\n",
    "    plt.yticks(fontsize=14)\n",
    "    # remainder\n",
    "    for loc in [\"left\",\"top\"]:\n",
    "        ax.spines[loc].set_visible(False)\n",
    "        ax2.spines[loc].set_visible(False)\n",
    "    plt.show()\n",
    "    plt.close()"
   ]
  },
  {
   "cell_type": "code",
   "execution_count": 16,
   "metadata": {},
   "outputs": [],
   "source": [
    "def plot_summary_count(df,params):\n",
    "    \"\"\"\n",
    "    Plots a barplot of a binary responses\n",
    "    \n",
    "    Parameters\n",
    "    ----------\n",
    "    df : DataFrame\n",
    "        data\n",
    "    param : str\n",
    "        parameter to inspect - must correspond to a column name in df\n",
    "        \n",
    "    Returns\n",
    "    -------\n",
    "    <void>\n",
    "    \"\"\"\n",
    "    _, axes = plt.subplots(1,len(params),figsize=(4*len(params),4),sharey=True)\n",
    "    for param, ax in zip(params,axes):\n",
    "        # count\n",
    "        sns.countplot(x=param,data=df,edgecolor=\"black\",palette=[\"firebrick\",\"seagreen\"],ax=ax)\n",
    "        # stats\n",
    "        ax.text(0,len(df),f\"Mean: {round(np.nanmean(df[param]),2)}\",va=\"top\",ha=\"center\",fontsize=14)\n",
    "        # x-axis\n",
    "        ax.set_xlabel(param.split(\"_\")[0].upper(),fontsize=16)\n",
    "        # y-axis\n",
    "        ax.set_ylabel(\"\")\n",
    "        ax.set_ylim([0,len(df)])\n",
    "        # remainder\n",
    "        ax.tick_params(labelsize=14)\n",
    "        for loc in [\"top\",\"right\"]:\n",
    "            ax.spines[loc].set_visible(False)\n",
    "            \n",
    "    axes[0].set_ylabel(\"Count\",fontsize=16)\n",
    "        \n",
    "    plt.show()\n",
    "    plt.close()"
   ]
  },
  {
   "cell_type": "markdown",
   "metadata": {},
   "source": [
    "## TST\n",
    "Based on a \"traditional\" recommendations, we can lump `tst` into three categories:\n",
    "\n",
    "| TST | Rating | Value |\n",
    "| --- | --- | --- |\n",
    "| >9 h | High | 0 |\n",
    "| 7-9 h | Typical | 1 |\n",
    "| <7 h | Low | 0 |"
   ]
  },
  {
   "cell_type": "code",
   "execution_count": 17,
   "metadata": {},
   "outputs": [],
   "source": [
    "def encode_tst(value):\n",
    "    \"\"\"returns score of tsts\"\"\"\n",
    "    if value > 9:\n",
    "        return 0\n",
    "    elif value >= 7:\n",
    "        return 1\n",
    "    else:\n",
    "        return 0"
   ]
  },
  {
   "cell_type": "markdown",
   "metadata": {},
   "source": [
    "## SOL\n",
    "The National Sleep Foundation says 30 minutes or less is a marker for good sleep quality. However, looking at the distribution of values, perhaps we should alter that threshold since many of the participants fall asleep faster than that."
   ]
  },
  {
   "cell_type": "code",
   "execution_count": 18,
   "metadata": {},
   "outputs": [
    {
     "data": {
      "image/png": "[encoded data removed]",
      "text/plain": [
       "<Figure size 864x288 with 2 Axes>"
      ]
     },
     "metadata": {
      "needs_background": "light"
     },
     "output_type": "display_data"
    }
   ],
   "source": [
    "plot_distribution(srsq,\"sol\")"
   ]
  },
  {
   "cell_type": "code",
   "execution_count": 19,
   "metadata": {},
   "outputs": [],
   "source": [
    "def encode_sol(value):\n",
    "    \"\"\"returns score of sol\"\"\"\n",
    "    if value < 15:\n",
    "        return 1\n",
    "    else:\n",
    "        return 0"
   ]
  },
  {
   "cell_type": "markdown",
   "metadata": {},
   "source": [
    "## NAW\n",
    "We group NAW into a good and bad category based on [Ohayon et al., 2017](https://www.sciencedirect.com/science/article/pii/S2352721816301309?casa_token=56p9duOGsL4AAAAA:tmPWLtzq0Z9zGGq-w0qWBXJT-VEDeoZ0dOwL06G-BwbWMHA3uT_KBjxd08HPyFZWNqIpm_0m).\n",
    "\n",
    "| NAW | Rating | Value |\n",
    "| --- | --- | --- |\n",
    "| 0 or 1 | Good | 1 |\n",
    "| >1 | Bad | 0 |"
   ]
  },
  {
   "cell_type": "code",
   "execution_count": 20,
   "metadata": {},
   "outputs": [],
   "source": [
    "def encode_naw(value):\n",
    "    \"\"\"returns score of naw\"\"\"\n",
    "    if value < 2:\n",
    "        return 1\n",
    "    else:\n",
    "        return 0"
   ]
  },
  {
   "cell_type": "markdown",
   "metadata": {},
   "source": [
    "## Restfulness\n",
    "Restfulness is one of the five metrics that is rated on a 0 to 3 Likert scale. So we can create a more generic function here for later use."
   ]
  },
  {
   "cell_type": "code",
   "execution_count": 21,
   "metadata": {},
   "outputs": [],
   "source": [
    "def encode_likert(value):\n",
    "    \"\"\"returns score for a 0-3 Likert measurement\"\"\"\n",
    "    if value > 1:\n",
    "        return 1\n",
    "    else:\n",
    "        return 0"
   ]
  },
  {
   "cell_type": "markdown",
   "metadata": {},
   "source": [
    "## Encoding Self-Report Sleep Quality\n",
    "We start with self-report metrics of sleep quality."
   ]
  },
  {
   "cell_type": "code",
   "execution_count": 22,
   "metadata": {},
   "outputs": [
    {
     "data": {
      "text/html": [
       "<div>\n",
       "<style scoped>\n",
       "    .dataframe tbody tr th:only-of-type {\n",
       "        vertical-align: middle;\n",
       "    }\n",
       "\n",
       "    .dataframe tbody tr th {\n",
       "        vertical-align: top;\n",
       "    }\n",
       "\n",
       "    .dataframe thead th {\n",
       "        text-align: right;\n",
       "    }\n",
       "</style>\n",
       "<table border=\"1\" class=\"dataframe\">\n",
       "  <thead>\n",
       "    <tr style=\"text-align: right;\">\n",
       "      <th></th>\n",
       "      <th>timestamp</th>\n",
       "      <th>end_date</th>\n",
       "      <th>beiwe</th>\n",
       "      <th>redcap</th>\n",
       "      <th>beacon</th>\n",
       "      <th>tst</th>\n",
       "      <th>sol</th>\n",
       "      <th>naw</th>\n",
       "      <th>restful</th>\n",
       "      <th>tst_binary</th>\n",
       "      <th>sol_binary</th>\n",
       "      <th>naw_binary</th>\n",
       "      <th>restful_binary</th>\n",
       "    </tr>\n",
       "  </thead>\n",
       "  <tbody>\n",
       "    <tr>\n",
       "      <th>0</th>\n",
       "      <td>2020-05-13 09:10:27</td>\n",
       "      <td>2020-05-13</td>\n",
       "      <td>qh34m4r9</td>\n",
       "      <td>68</td>\n",
       "      <td>19.0</td>\n",
       "      <td>8.0</td>\n",
       "      <td>20.0</td>\n",
       "      <td>2.0</td>\n",
       "      <td>3.0</td>\n",
       "      <td>1</td>\n",
       "      <td>0</td>\n",
       "      <td>0</td>\n",
       "      <td>1</td>\n",
       "    </tr>\n",
       "    <tr>\n",
       "      <th>1</th>\n",
       "      <td>2020-05-13 09:15:49</td>\n",
       "      <td>2020-05-13</td>\n",
       "      <td>awa8uces</td>\n",
       "      <td>28</td>\n",
       "      <td>26.0</td>\n",
       "      <td>2.0</td>\n",
       "      <td>10.0</td>\n",
       "      <td>3.0</td>\n",
       "      <td>1.0</td>\n",
       "      <td>0</td>\n",
       "      <td>1</td>\n",
       "      <td>0</td>\n",
       "      <td>0</td>\n",
       "    </tr>\n",
       "    <tr>\n",
       "      <th>2</th>\n",
       "      <td>2020-05-13 09:42:19</td>\n",
       "      <td>2020-05-13</td>\n",
       "      <td>xxvnhauv</td>\n",
       "      <td>21</td>\n",
       "      <td>22.0</td>\n",
       "      <td>6.0</td>\n",
       "      <td>30.0</td>\n",
       "      <td>3.0</td>\n",
       "      <td>1.0</td>\n",
       "      <td>0</td>\n",
       "      <td>0</td>\n",
       "      <td>0</td>\n",
       "      <td>0</td>\n",
       "    </tr>\n",
       "    <tr>\n",
       "      <th>3</th>\n",
       "      <td>2020-05-13 09:43:27</td>\n",
       "      <td>2020-05-13</td>\n",
       "      <td>rvhdl2la</td>\n",
       "      <td>29</td>\n",
       "      <td>NaN</td>\n",
       "      <td>5.3</td>\n",
       "      <td>5.0</td>\n",
       "      <td>2.0</td>\n",
       "      <td>2.0</td>\n",
       "      <td>0</td>\n",
       "      <td>1</td>\n",
       "      <td>0</td>\n",
       "      <td>1</td>\n",
       "    </tr>\n",
       "    <tr>\n",
       "      <th>4</th>\n",
       "      <td>2020-05-13 10:11:51</td>\n",
       "      <td>2020-05-13</td>\n",
       "      <td>q5y11ytm</td>\n",
       "      <td>48</td>\n",
       "      <td>NaN</td>\n",
       "      <td>2.0</td>\n",
       "      <td>10.0</td>\n",
       "      <td>0.0</td>\n",
       "      <td>0.0</td>\n",
       "      <td>0</td>\n",
       "      <td>1</td>\n",
       "      <td>1</td>\n",
       "      <td>0</td>\n",
       "    </tr>\n",
       "  </tbody>\n",
       "</table>\n",
       "</div>"
      ],
      "text/plain": [
       "            timestamp   end_date     beiwe  redcap  beacon  tst   sol  naw  \\\n",
       "0 2020-05-13 09:10:27 2020-05-13  qh34m4r9      68    19.0  8.0  20.0  2.0   \n",
       "1 2020-05-13 09:15:49 2020-05-13  awa8uces      28    26.0  2.0  10.0  3.0   \n",
       "2 2020-05-13 09:42:19 2020-05-13  xxvnhauv      21    22.0  6.0  30.0  3.0   \n",
       "3 2020-05-13 09:43:27 2020-05-13  rvhdl2la      29     NaN  5.3   5.0  2.0   \n",
       "4 2020-05-13 10:11:51 2020-05-13  q5y11ytm      48     NaN  2.0  10.0  0.0   \n",
       "\n",
       "   restful  tst_binary  sol_binary  naw_binary  restful_binary  \n",
       "0      3.0           1           0           0               1  \n",
       "1      1.0           0           1           0               0  \n",
       "2      1.0           0           0           0               0  \n",
       "3      2.0           0           1           0               1  \n",
       "4      0.0           0           1           1               0  "
      ]
     },
     "execution_count": 22,
     "metadata": {},
     "output_type": "execute_result"
    }
   ],
   "source": [
    "for sm, f in zip([\"tst\",\"sol\",\"naw\",\"restful\"], [encode_tst,encode_sol,encode_naw,encode_likert]):\n",
    "    srsq[f\"{sm}_binary\"] = srsq.apply(lambda x: f(x[sm]), axis=\"columns\")\n",
    "    \n",
    "srsq.head()"
   ]
  },
  {
   "cell_type": "markdown",
   "metadata": {},
   "source": [
    "### Inspecting Distribution of Observations"
   ]
  },
  {
   "cell_type": "code",
   "execution_count": 23,
   "metadata": {},
   "outputs": [
    {
     "data": {
      "image/png": "[encoded data removed]",
      "text/plain": [
       "<Figure size 1152x288 with 4 Axes>"
      ]
     },
     "metadata": {
      "needs_background": "light"
     },
     "output_type": "display_data"
    }
   ],
   "source": [
    "plot_summary_count(srsq,[\"tst_binary\",\"sol_binary\",\"naw_binary\",\"restful_binary\"])"
   ]
  },
  {
   "cell_type": "markdown",
   "metadata": {},
   "source": [
    "[Back to Encoding](#encoding)"
   ]
  },
  {
   "cell_type": "markdown",
   "metadata": {},
   "source": [
    "---"
   ]
  },
  {
   "cell_type": "markdown",
   "metadata": {},
   "source": [
    "<a id=\"feature_engineering\" ></a>"
   ]
  },
  {
   "cell_type": "markdown",
   "metadata": {},
   "source": [
    "[Back to ToC](#toc)\n",
    "# Feature Engineering\n",
    "In the following cells, we encode the various features to binary outcomes and combine the features into one dataset. "
   ]
  },
  {
   "cell_type": "markdown",
   "metadata": {},
   "source": [
    "## Encoding IAQ\n",
    "For the IEQ data, we want to determine whether the concentrations are low or high depending on the participant's own environment. So the process will involve looking at each of the IEQ measurements from each participant, finding the mean of those nights, and then determining 1 (low) or 0 (high)."
   ]
  },
  {
   "cell_type": "code",
   "execution_count": 24,
   "metadata": {},
   "outputs": [],
   "source": [
    "def encode_ieq(value, threshold):\n",
    "    \"\"\"Scores the IEQ parameter\"\"\"\n",
    "    if value <= threshold:\n",
    "        return 1\n",
    "    else:\n",
    "        return 0"
   ]
  },
  {
   "cell_type": "markdown",
   "metadata": {},
   "source": [
    "### Thresholds"
   ]
  },
  {
   "cell_type": "code",
   "execution_count": 25,
   "metadata": {},
   "outputs": [],
   "source": [
    "thresholds = {\"co2\":1100,\"co\":4,\"tvoc\":200,\"pm2p5_mass\":6,\"temperature_c\":25.2,\"rh\":40}"
   ]
  },
  {
   "cell_type": "markdown",
   "metadata": {},
   "source": [
    "### Encoding"
   ]
  },
  {
   "cell_type": "code",
   "execution_count": 26,
   "metadata": {},
   "outputs": [
    {
     "data": {
      "text/html": [
       "<div>\n",
       "<style scoped>\n",
       "    .dataframe tbody tr th:only-of-type {\n",
       "        vertical-align: middle;\n",
       "    }\n",
       "\n",
       "    .dataframe tbody tr th {\n",
       "        vertical-align: top;\n",
       "    }\n",
       "\n",
       "    .dataframe thead th {\n",
       "        text-align: right;\n",
       "    }\n",
       "</style>\n",
       "<table border=\"1\" class=\"dataframe\">\n",
       "  <thead>\n",
       "    <tr style=\"text-align: right;\">\n",
       "      <th></th>\n",
       "      <th>beiwe</th>\n",
       "      <th>start_time</th>\n",
       "      <th>end_time</th>\n",
       "      <th>tvoc_median</th>\n",
       "      <th>co_median</th>\n",
       "      <th>co2_median</th>\n",
       "      <th>pm2p5_mass_median</th>\n",
       "      <th>temperature_c_median</th>\n",
       "      <th>rh_median</th>\n",
       "      <th>fitbit_median</th>\n",
       "      <th>end_date</th>\n",
       "      <th>co2_median_binary</th>\n",
       "      <th>co_median_binary</th>\n",
       "      <th>tvoc_median_binary</th>\n",
       "      <th>pm2p5_mass_median_binary</th>\n",
       "      <th>temperature_c_median_binary</th>\n",
       "      <th>rh_median_binary</th>\n",
       "    </tr>\n",
       "  </thead>\n",
       "  <tbody>\n",
       "    <tr>\n",
       "      <th>0</th>\n",
       "      <td>4i7679py</td>\n",
       "      <td>2020-07-06 07:29:30</td>\n",
       "      <td>2020-07-06 12:58:00</td>\n",
       "      <td>86.988188</td>\n",
       "      <td>6.887317</td>\n",
       "      <td>661.802117</td>\n",
       "      <td>23.723769</td>\n",
       "      <td>28.045646</td>\n",
       "      <td>51.900000</td>\n",
       "      <td>38.0</td>\n",
       "      <td>2020-07-06</td>\n",
       "      <td>0</td>\n",
       "      <td>0</td>\n",
       "      <td>0</td>\n",
       "      <td>0</td>\n",
       "      <td>1</td>\n",
       "      <td>0</td>\n",
       "    </tr>\n",
       "    <tr>\n",
       "      <th>1</th>\n",
       "      <td>4i7679py</td>\n",
       "      <td>2020-07-22 06:08:00</td>\n",
       "      <td>2020-07-22 09:46:30</td>\n",
       "      <td>87.556903</td>\n",
       "      <td>6.128722</td>\n",
       "      <td>634.789367</td>\n",
       "      <td>0.000000</td>\n",
       "      <td>28.045646</td>\n",
       "      <td>49.836667</td>\n",
       "      <td>38.0</td>\n",
       "      <td>2020-07-22</td>\n",
       "      <td>0</td>\n",
       "      <td>0</td>\n",
       "      <td>0</td>\n",
       "      <td>1</td>\n",
       "      <td>1</td>\n",
       "      <td>0</td>\n",
       "    </tr>\n",
       "    <tr>\n",
       "      <th>2</th>\n",
       "      <td>4i7679py</td>\n",
       "      <td>2020-07-30 05:42:30</td>\n",
       "      <td>2020-07-30 09:43:00</td>\n",
       "      <td>87.633434</td>\n",
       "      <td>6.097933</td>\n",
       "      <td>593.142571</td>\n",
       "      <td>0.000000</td>\n",
       "      <td>28.045646</td>\n",
       "      <td>51.753333</td>\n",
       "      <td>38.0</td>\n",
       "      <td>2020-07-30</td>\n",
       "      <td>1</td>\n",
       "      <td>0</td>\n",
       "      <td>0</td>\n",
       "      <td>1</td>\n",
       "      <td>1</td>\n",
       "      <td>0</td>\n",
       "    </tr>\n",
       "    <tr>\n",
       "      <th>3</th>\n",
       "      <td>4i7679py</td>\n",
       "      <td>2020-08-05 05:02:30</td>\n",
       "      <td>2020-08-05 09:52:30</td>\n",
       "      <td>59.919139</td>\n",
       "      <td>5.997469</td>\n",
       "      <td>590.241211</td>\n",
       "      <td>0.000000</td>\n",
       "      <td>28.045646</td>\n",
       "      <td>47.466667</td>\n",
       "      <td>38.0</td>\n",
       "      <td>2020-08-05</td>\n",
       "      <td>1</td>\n",
       "      <td>1</td>\n",
       "      <td>1</td>\n",
       "      <td>1</td>\n",
       "      <td>1</td>\n",
       "      <td>1</td>\n",
       "    </tr>\n",
       "    <tr>\n",
       "      <th>4</th>\n",
       "      <td>4i7679py</td>\n",
       "      <td>2020-08-06 05:53:00</td>\n",
       "      <td>2020-08-06 09:25:00</td>\n",
       "      <td>45.097536</td>\n",
       "      <td>5.981596</td>\n",
       "      <td>610.843120</td>\n",
       "      <td>35.778177</td>\n",
       "      <td>28.045646</td>\n",
       "      <td>49.030000</td>\n",
       "      <td>38.0</td>\n",
       "      <td>2020-08-06</td>\n",
       "      <td>1</td>\n",
       "      <td>1</td>\n",
       "      <td>1</td>\n",
       "      <td>0</td>\n",
       "      <td>1</td>\n",
       "      <td>1</td>\n",
       "    </tr>\n",
       "  </tbody>\n",
       "</table>\n",
       "</div>"
      ],
      "text/plain": [
       "      beiwe          start_time            end_time  tvoc_median  co_median  \\\n",
       "0  4i7679py 2020-07-06 07:29:30 2020-07-06 12:58:00    86.988188   6.887317   \n",
       "1  4i7679py 2020-07-22 06:08:00 2020-07-22 09:46:30    87.556903   6.128722   \n",
       "2  4i7679py 2020-07-30 05:42:30 2020-07-30 09:43:00    87.633434   6.097933   \n",
       "3  4i7679py 2020-08-05 05:02:30 2020-08-05 09:52:30    59.919139   5.997469   \n",
       "4  4i7679py 2020-08-06 05:53:00 2020-08-06 09:25:00    45.097536   5.981596   \n",
       "\n",
       "   co2_median  pm2p5_mass_median  temperature_c_median  rh_median  \\\n",
       "0  661.802117          23.723769             28.045646  51.900000   \n",
       "1  634.789367           0.000000             28.045646  49.836667   \n",
       "2  593.142571           0.000000             28.045646  51.753333   \n",
       "3  590.241211           0.000000             28.045646  47.466667   \n",
       "4  610.843120          35.778177             28.045646  49.030000   \n",
       "\n",
       "   fitbit_median   end_date  co2_median_binary  co_median_binary  \\\n",
       "0           38.0 2020-07-06                  0                 0   \n",
       "1           38.0 2020-07-22                  0                 0   \n",
       "2           38.0 2020-07-30                  1                 0   \n",
       "3           38.0 2020-08-05                  1                 1   \n",
       "4           38.0 2020-08-06                  1                 1   \n",
       "\n",
       "   tvoc_median_binary  pm2p5_mass_median_binary  temperature_c_median_binary  \\\n",
       "0                   0                         0                            1   \n",
       "1                   0                         1                            1   \n",
       "2                   0                         1                            1   \n",
       "3                   1                         1                            1   \n",
       "4                   1                         0                            1   \n",
       "\n",
       "   rh_median_binary  \n",
       "0                 0  \n",
       "1                 0  \n",
       "2                 0  \n",
       "3                 1  \n",
       "4                 1  "
      ]
     },
     "execution_count": 26,
     "metadata": {},
     "output_type": "execute_result"
    }
   ],
   "source": [
    "ieq_bi = pd.DataFrame()\n",
    "stat=\"median\"\n",
    "for pt in ieq[\"beiwe\"].unique():\n",
    "    ieq_pt = ieq[ieq[\"beiwe\"] == pt]\n",
    "    for pollutant in [\"co2\", \"co\",\"tvoc\",\"pm2p5_mass\",\"temperature_c\",\"rh\"]:\n",
    "        stat_per_night = np.nanmedian(ieq_pt[f\"{pollutant}_{stat}\"])\n",
    "        ieq_pt[f\"{pollutant}_{stat}_binary\"] = ieq_pt.apply(lambda x: encode_ieq(x[f\"{pollutant}_{stat}\"],stat_per_night), axis=\"columns\")\n",
    "        \n",
    "    ieq_bi = ieq_bi.append(ieq_pt)\n",
    "    \n",
    "ieq_bi.head()"
   ]
  },
  {
   "cell_type": "markdown",
   "metadata": {},
   "source": [
    "### Inspecting IAQ Outcomes"
   ]
  },
  {
   "cell_type": "code",
   "execution_count": 27,
   "metadata": {},
   "outputs": [
    {
     "data": {
      "image/png": "[encoded data removed]",
      "text/plain": [
       "<Figure size 1728x288 with 6 Axes>"
      ]
     },
     "metadata": {
      "needs_background": "light"
     },
     "output_type": "display_data"
    }
   ],
   "source": [
    "plot_summary_count(ieq_bi,[\"co2_median_binary\",\"co_median_binary\",\"tvoc_median_binary\",\"pm2p5_mass_median_binary\",\"temperature_c_median_binary\",\"rh_median_binary\"])"
   ]
  },
  {
   "cell_type": "markdown",
   "metadata": {},
   "source": [
    "[Back to Feature Engineering](#feature_engineering)"
   ]
  },
  {
   "cell_type": "markdown",
   "metadata": {},
   "source": [
    "---"
   ]
  },
  {
   "cell_type": "markdown",
   "metadata": {},
   "source": [
    "<a id=\"exploration\"></a>"
   ]
  },
  {
   "cell_type": "markdown",
   "metadata": {},
   "source": [
    "[Back to ToC](#toc)\n",
    "# Data Exploration\n",
    "Now that we have our features and targets, we can look at the data to get a better sense of what we can do with it.\n",
    "\n",
    "We have to start by combining the features and targets so that we are looking at the finalized dataset."
   ]
  },
  {
   "cell_type": "code",
   "execution_count": 28,
   "metadata": {},
   "outputs": [
    {
     "name": "stdout",
     "output_type": "stream",
     "text": [
      "745vq78e:8\n",
      "9jtzsuu8:18\n",
      "awa8uces:16\n",
      "i31pt4b4:9\n",
      "itmylz3g:11\n",
      "kyj367pi:13\n",
      "lkkjddam:39\n",
      "olaxadz5:13\n",
      "qh34m4r9:25\n",
      "rnse61g4:4\n",
      "tlmlq19s:37\n",
      "tmexej5v:22\n",
      "vr9j5rry:22\n",
      "xdbdrk6e:4\n",
      "xlw5ntd5:4\n",
      "zdpffrox:13\n",
      "Number of Observations: 258\n",
      "Number of Participants: 16\n"
     ]
    }
   ],
   "source": [
    "ieq_srsq = ieq.merge(right=srsq,on=[\"end_date\",\"beiwe\"])\n",
    "ieq_srsq = ieq_srsq[ieq_srsq[\"end_time\"] < ieq_srsq[\"timestamp\"]]\n",
    "data = pd.DataFrame()\n",
    "for pt in ieq_srsq[\"beiwe\"].unique():\n",
    "    data_pt = ieq_srsq[ieq_srsq['beiwe'] == pt]\n",
    "    if len(data_pt) > 3:\n",
    "        print(f\"{pt}:{len(data_pt)}\")\n",
    "        data = data.append(data_pt)\n",
    "print(\"Number of Observations:\", len(data))\n",
    "print(\"Number of Participants:\", len(data[\"beiwe\"].unique()))"
   ]
  },
  {
   "cell_type": "markdown",
   "metadata": {},
   "source": [
    "[Back to Data Exploration](#data_exploration)"
   ]
  },
  {
   "cell_type": "markdown",
   "metadata": {},
   "source": [
    "---"
   ]
  },
  {
   "cell_type": "markdown",
   "metadata": {},
   "source": [
    "<a id=\"prediction\"></a>"
   ]
  },
  {
   "cell_type": "markdown",
   "metadata": {},
   "source": [
    "# Prediction\n",
    "Now that we have sufficiently explored the features, we can begin to try predicting various components of sleep quality. We will try a wide-variety of classifiers to determine which is the most applicable to solving our problem. The classifiers that we use can be seen in the following cell via the `import` statements."
   ]
  },
  {
   "cell_type": "markdown",
   "metadata": {},
   "source": [
    "## Classification"
   ]
  },
  {
   "cell_type": "code",
   "execution_count": 29,
   "metadata": {},
   "outputs": [],
   "source": [
    "# Logistic Regressions\n",
    "from sklearn.linear_model import LogisticRegression\n",
    "# Decision Tree\n",
    "from sklearn.tree import DecisionTreeClassifier\n",
    "# Random Forest\n",
    "from sklearn.ensemble import RandomForestClassifier\n",
    "# Bernoulli Naive Bayes\n",
    "from sklearn.naive_bayes import BernoulliNB, GaussianNB\n",
    "# KNN\n",
    "from sklearn.neighbors import KNeighborsClassifier\n",
    "# Support Vector\n",
    "from sklearn.svm import SVC\n",
    "# Multi-Layer Perceptron\n",
    "from sklearn.neural_network import MLPClassifier\n",
    "# ADAboost\n",
    "from sklearn.ensemble import AdaBoostClassifier\n",
    "# Gradient Boost\n",
    "from sklearn.ensemble import GradientBoostingClassifier\n",
    "# Bagging\n",
    "from sklearn.ensemble import BaggingClassifier"
   ]
  },
  {
   "cell_type": "markdown",
   "metadata": {},
   "source": [
    "To automate the prediction/evaluation process, we have created the class below that utilizes the following steps:\n",
    "1. Feature and Target Data Split: The feature and target datasets are fed into the program, cross-referenced, and then split.\n",
    "2. Train/Test Split: Data are split into a training and a testing split"
   ]
  },
  {
   "cell_type": "code",
   "execution_count": 75,
   "metadata": {},
   "outputs": [],
   "source": [
    "from sklearn import metrics\n",
    "from sklearn.model_selection import train_test_split, GridSearchCV, cross_val_score, cross_val_predict, KFold, GroupKFold, LeaveOneGroupOut, StratifiedKFold\n",
    "from sklearn.metrics import roc_curve, auc, roc_auc_score, plot_roc_curve, f1_score, precision_recall_curve, plot_precision_recall_curve, accuracy_score, balanced_accuracy_score, recall_score, precision_score\n",
    "from sklearn.inspection import permutation_importance\n",
    "\n",
    "class ieq_and_sq_prediction:\n",
    "    \n",
    "    def __init__(self):\n",
    "        \"\"\"initializes the model parameters\"\"\"\n",
    "        self.classifier_model_params = {\n",
    "            \"logistic_regression\": {\n",
    "                \"model\":LogisticRegression(random_state=42,max_iter=500),\n",
    "                \"params\": {\n",
    "                    \"fit_intercept\":[True,False],\n",
    "                    \"solver\":[\"lbfgs\",\"liblinear\"],\n",
    "                }\n",
    "            },\n",
    "            \"decision_tree\":{\n",
    "                \"model\": DecisionTreeClassifier(random_state=42,criterion=\"gini\"),\n",
    "                \"params\": {\n",
    "                    \"ccp_alpha\":np.arange(0,0.1,0.005),\n",
    "                    \"max_depth\":[1,2,3,4,5,6,7,8],\n",
    "                }\n",
    "            },\n",
    "            \"random_forest\":{\n",
    "                \"model\": RandomForestClassifier(random_state=42,criterion=\"gini\"),\n",
    "                \"params\": {\n",
    "                    \"criterion\":[\"gini\",\"entropy\"],\n",
    "                    \"ccp_alpha\":np.arange(0,0.1,0.01),\n",
    "                    \"n_estimators\":[10,20,30,40,50],\n",
    "                    \"max_depth\":[1,2,3,4,5,6],\n",
    "                }\n",
    "            },\n",
    "            \"naive_bayes\": {\n",
    "                \"model\":GaussianNB(),\n",
    "                \"params\": {\n",
    "                }\n",
    "            }\n",
    "        }\n",
    "\n",
    "        self.tuned_models = {\"logistic_regression\":LogisticRegression(random_state=42,fit_intercept=True,solver=\"lbfgs\",max_iter=500),\n",
    "                             \"naive_bayes\":GaussianNB(),\n",
    "                             \"decision_tree\":DecisionTreeClassifier(random_state=42,ccp_alpha=0,max_depth=6),\n",
    "                             \"random_forest\":RandomForestClassifier(random_state=42,ccp_alpha=0,n_estimators=10,max_depth=6)}\n",
    "    \n",
    "    def get_features_and_targets(self, feature_set, target_set, target=\"tst\"):\n",
    "        \"\"\"gets feature set and target set for the same observations\"\"\"\n",
    "        self.target_label = target\n",
    "        print(f\"Getting Features and Target ({target})...\")\n",
    "        # selecting only important target\n",
    "        target_set_reduced = target_set[[\"beiwe\",\"end_date\",f\"{target}_binary\"]]\n",
    "        # combining datasets to get overlapping observations\n",
    "        combined = feature_set.merge(right=target_set_reduced,on=[\"beiwe\",\"end_date\"])\n",
    "        combined = combined.merge(right=combined[\"beiwe\"].value_counts().rename(\"count\"),left_on=\"beiwe\",right_index=True,how=\"left\")\n",
    "        combined = combined[combined[\"count\"] > 1]\n",
    "        combined_simple = combined[[column for column in combined.columns if column.endswith(\"binary\") or column in [\"count\",\"beiwe\"]]]\n",
    "        # splitting into features and targets\n",
    "        targets = combined_simple[[f\"{target}_binary\"]]\n",
    "        features = combined_simple.drop([f\"{target}_binary\",\"beiwe\"],axis=\"columns\")\n",
    "        self.groups = combined_simple[\"beiwe\"]\n",
    "        self.counts = features[\"count\"]\n",
    "        self.features = features.drop([\"count\"],axis=\"columns\")\n",
    "        self.targets = targets\n",
    "        \n",
    "    def split_data(self, test_size=0.33):\n",
    "        \"\"\"splits data into training and testing\"\"\"\n",
    "        print(\"Splitting Data...\")\n",
    "        self.X_train, self.X_test, self.y_train, self.y_test = train_test_split(self.features, self.targets, test_size=test_size, random_state=10, stratify=self.counts)\n",
    "        #self.X_train.drop(\"count\",axis=\"columns\",inplace=True)\n",
    "        #self.X_test.drop(\"count\",axis=\"columns\",inplace=True)\n",
    "        \n",
    "    def set_test_and_train(self,X_train,X_test,y_train,y_test):\n",
    "        \"\"\"sets the training data - use for specialized train_test_split\"\"\"\n",
    "        for dataset in [X_train,X_test,y_train,y_test]:\n",
    "            try: \n",
    "                dataset.drop([\"count\"],axis=\"columns\",inplace=True)\n",
    "            except KeyError:\n",
    "                pass\n",
    "        self.X_train = X_train\n",
    "        self.X_test = X_test\n",
    "        self.y_train = y_train\n",
    "        self.y_test = y_test\n",
    "        \n",
    "    def set_weights(self,**kwargs):\n",
    "        \"\"\"sets the weights based on the y_train data\"\"\"\n",
    "        if \"y_train\" in kwargs.keys():\n",
    "            self.y_train = kwargs[\"y_train\"]\n",
    "        try:\n",
    "            low_n = self.y_train.value_counts().sort_index().iloc[0]\n",
    "            high_n = self.y_train.value_counts().sort_index().iloc[1]\n",
    "            self.weights = [len(self.y_train) / (2 * low_n) if val == 0 else len(self.y_train) / (2 * high_n) for val in self.y_train[f\"{target}_binary\"]]\n",
    "        except Exception as e:\n",
    "            print(e)\n",
    "            self.weights = None # defaults to None so the fit() function will work\n",
    "        \n",
    "    def optimize_models(self):\n",
    "        \"\"\"runs gridsearch cv\"\"\"\n",
    "        print(\"Testing Classifiers...\")\n",
    "        try:\n",
    "            scores = []\n",
    "            params = self.classifier_model_params\n",
    "            self.set_weights()\n",
    "            for model_name, mp in params.items():\n",
    "                s = datetime.now()\n",
    "                print(f\"\\t{model_name.replace('_',' ').title()}\")\n",
    "                clf = GridSearchCV(mp[\"model\"],mp[\"params\"],cv=5,return_train_score=False)\n",
    "                clf.fit(self.X_train,self.y_train,self.weights)\n",
    "                scores.append({\n",
    "                    \"model\":model_name,\n",
    "                    \"best_score\":clf.best_score_,\n",
    "                    \"best_params\":clf.best_params_\n",
    "                })\n",
    "                print(\"\\t\\tElapsed Time:\\t\", datetime.now() - s)\n",
    "                print(f\"\\t\\tBest Score:\\t{clf.best_score_}\\n\\t\\tBest Params:\\t{clf.best_params_}\")\n",
    "\n",
    "            results = pd.DataFrame(scores,columns=[\"model\",\"best_score\",\"best_params\"])\n",
    "            # getting and saving best model\n",
    "            results.sort_values([\"best_score\"],ascending=False,inplace=True)\n",
    "            self.results = results\n",
    "            best = results.iloc[0,:]\n",
    "            # outputting results\n",
    "            print(f\"\\tBest Scoring Model:\")\n",
    "            print(f\"\\t\\tModel:\\t{best[0].replace('_',' ').title()}\\n\\t\\tScore:\\t{round(best[1],3)}\\n\\t\\tParams:\\t{best[2]}\")\n",
    "        except AttributeError:\n",
    "            print(\"Training data do not exist - run split_data()\")\n",
    "        \n",
    "    def train_model(self, model):\n",
    "        \"\"\"trains the specified model\"\"\"\n",
    "        print(\"Training...\")\n",
    "        self.model = model # necessary if running functions separately\n",
    "        try:\n",
    "            self.set_weights()\n",
    "            self.X_train = self.X_train\n",
    "            self.X_test = self.X_test\n",
    "            try:\n",
    "                self.model.fit(self.X_train,self.y_train,self.weights)\n",
    "            except TypeError:\n",
    "                self.model.fit(self.X_train,self.y_train)\n",
    "        except AttributeError:\n",
    "            print(\"Training data do not exist - run split_data()\")\n",
    "    \n",
    "    def predict(self):\n",
    "        \"\"\"gets the predicted results based on the model provided for the given target\"\"\"\n",
    "        print(\"Predicting...\")\n",
    "        try:\n",
    "            self.predictions = self.model.predict(self.X_test)\n",
    "            \n",
    "            self.score = metrics.precision_score(self.y_test,self.predictions,average=\"weighted\")\n",
    "\n",
    "            scores = cross_val_score(self.model, self.X_train, self.y_train, cv=5, scoring='precision_weighted')\n",
    "            print(\"\\tCross Validation Scores:\")\n",
    "            for scr in scores:\n",
    "                print(f\"\\t\\t{round(scr,3)}\")\n",
    "            print(f\"\\tAverage:\\t{round(scores.mean(),3)}\")\n",
    "            print(f\"\\tModel Score: {round(self.score,3)}\")\n",
    "        except AttributeError:\n",
    "            print(\"Missing attributes - make sure you split the data and trained the model\")\n",
    "        \n",
    "    def plot_confusion_matrix(self, save=False, target_label=\"\"):\n",
    "        \"\"\"plots confusion matrix\"\"\"\n",
    "        print(\"Evaluating...\")\n",
    "        # get confusion matrix\n",
    "        cm = metrics.confusion_matrix(self.y_test,self.predictions)\n",
    "        cm_df = pd.DataFrame(cm)\n",
    "        # plot confusion matrix as heatmap\n",
    "        fig, ax = plt.subplots(figsize=(5,4))\n",
    "        sns.heatmap(cm_df,annot=True,cmap=\"Blues\",ax=ax)\n",
    "        ax.set_xlabel(\"Predicted Label\",fontsize=16)\n",
    "        ax.set_ylabel(\"True Label\",fontsize=16)\n",
    "        if save:\n",
    "            plt.savefig(f\"../../../Documents/sbac_2021/project/figures/confusion_matrix-{target_label}.pdf\")\n",
    "        plt.show()\n",
    "        plt.close()\n",
    "        \n",
    "    def set_feature_importance(self,plot=False):\n",
    "        \"\"\"gets feature importance from classifier models\"\"\"\n",
    "        try:\n",
    "            # getting importance df\n",
    "            importance = pd.DataFrame(data={\"feature\":[value.split('_')[0] for value in self.features.columns],\"importance\":self.model.feature_importances_})\n",
    "            importance.sort_values(\"importance\",inplace=True)\n",
    "            self.feature_importance = importance\n",
    "            if plot:\n",
    "                # getting color map\n",
    "                my_cmap = plt.get_cmap(\"Blues\")\n",
    "                rescale = lambda y: (y - np.min(y)) / (np.max(y) - np.min(y))\n",
    "                # plotting\n",
    "                fig, ax = plt.subplots(figsize=(6,4))\n",
    "                ax.barh(importance[\"feature\"],importance[\"importance\"],color=my_cmap(rescale(importance[\"importance\"])),edgecolor=\"black\",tick_label=[visualize.get_label(label) for label in importance[\"feature\"]])\n",
    "                # x-axis\n",
    "                plt.xticks(fontsize=12)\n",
    "                ax.set_xlabel(\"Importance\",fontsize=14)\n",
    "                # y-axis\n",
    "                plt.yticks(fontsize=12)\n",
    "                ax.set_ylabel(\"Feature\",fontsize=14)\n",
    "                # remainder\n",
    "                for loc in [\"top\",\"right\"]:\n",
    "                    ax.spines[loc].set_visible(False)\n",
    "                plt.show()\n",
    "                plt.close()\n",
    "        except AttributeError as e:\n",
    "            print(e)\n",
    "            \n",
    "    def get_permutation_importance(self,scoring=\"accuracy\"):\n",
    "        \"\"\"\"\"\"\n",
    "        self.set_weights()\n",
    "        res_dict = {}\n",
    "        for model_name, mp in self.tuned_models.items():\n",
    "            try:\n",
    "                clf = mp.fit(self.X_train,self.y_train,self.weights)\n",
    "            except TypeError:\n",
    "                clf = mp.fit(self.X_train,self.y_train)\n",
    "            res = permutation_importance(clf, self.X_test, self.y_test, n_repeats=10,random_state=42,scoring=scoring)\n",
    "            vals = [0 if m < 0 else m for m in res.importances_mean]\n",
    "            res_dict[model_name] = vals\n",
    "        return res_dict\n",
    "            \n",
    "    def run(self, feature_set, target_set, target=\"tst\", test_size=0.33):\n",
    "        \"\"\"runs the class: split, test, predict, evaluate\"\"\"\n",
    "        self.get_features_and_targets(feature_set, target_set, target=target)\n",
    "        self.split_data(test_size=test_size)\n",
    "        # gridsearch on models\n",
    "        self.optimize_models()\n",
    "        # saves the best model, trains on the best model, predicts with the model, and plots the confusion matrix\n",
    "        for model_number in range(len(self.results)):\n",
    "            print(self.results.iloc[model_number,0].replace(\"_\",\" \").upper())\n",
    "            self.model = self.classifier_model_params[self.results.iloc[model_number,:][\"model\"]][\"model\"].set_params(**self.results.iloc[model_number,:][\"best_params\"])\n",
    "            self.train_model(self.model)\n",
    "            self.predict()\n",
    "            self.plot_confusion_matrix()\n",
    "            self.set_feature_importance(plot=True)\n",
    "            \n",
    "    def get_cv(self,validation=\"\",splits=5):\n",
    "        \"\"\"gets cv object\"\"\"\n",
    "        if validation == \"gkf\":\n",
    "            return GroupKFold(n_splits=splits)\n",
    "        elif validation == \"logo\":\n",
    "            return LeaveOneGroupOut()\n",
    "        elif validation == \"skf\":\n",
    "            return StratifiedKFold(n_splits=splits)\n",
    "        else:\n",
    "            return KFold(n_splits=splits)        \n",
    "            \n",
    "    def plot_roc_auc(self,validation=\"gkf\",splits=5,save=False,**kwargs):\n",
    "        \"\"\"Trains the tuned models and cross-validates\"\"\"\n",
    "        cv = self.get_cv(validation,splits)\n",
    "            \n",
    "        fig, axes = plt.subplots(1,len(self.tuned_models.keys()),figsize=(6*len(self.tuned_models.keys()),6),sharey=True)\n",
    "        for (name, model), ax in zip(self.tuned_models.items(),axes.flat):\n",
    "            tprs = []\n",
    "            aucs = []\n",
    "            f1s = []\n",
    "            mean_fpr = np.linspace(0, 1, 100)\n",
    "            for i, (train, test) in enumerate(cv.split(self.features, self.targets, groups=self.groups)):\n",
    "                clf = model.fit(self.features.iloc[train],self.targets.iloc[train])\n",
    "                scores = clf.predict(self.features.iloc[test])\n",
    "                try:\n",
    "                    fpr, tpr, thresholds = roc_curve(self.targets.iloc[test], clf.predict_proba(self.features.iloc[test])[:, 1])\n",
    "                    auc_score = roc_auc_score(self.targets.iloc[test], clf.predict_proba(self.features.iloc[test])[:, 1])\n",
    "                    f1 = f1_score(self.targets.iloc[test], scores)\n",
    "                    if validation != \"logo\":\n",
    "                        ax.plot(fpr,tpr,lw=1,alpha=0.5,label=f\"Fold {i+1}\")\n",
    "                    interp_tpr = np.interp(mean_fpr, fpr, tpr)\n",
    "                    interp_tpr[0] = 0.0\n",
    "                    tprs.append(interp_tpr)\n",
    "                    aucs.append(auc_score)\n",
    "                    f1s.append(f1)\n",
    "                except ValueError as e:\n",
    "                    print(e)\n",
    "                \n",
    "            mean_tpr = np.mean(tprs, axis=0)\n",
    "            mean_tpr[-1] = 1.0\n",
    "            mean_auc = auc(mean_fpr, mean_tpr)\n",
    "            std_auc = np.std(aucs)\n",
    "            ax.plot(mean_fpr, mean_tpr, color='black',label=f'Mean ROC',lw=3, alpha=.8)#\\n')\n",
    "            ax.plot([0, 1], [0, 1], linestyle='--', lw=2, color='r', label='Chance', alpha=.8)\n",
    "            ax.set(xlim=[-0.05, 1.05], ylim=[-0.05, 1.05])\n",
    "            if name not in [\"knn\"]:\n",
    "                ax.set_title(f'{name.replace(\"_\",\" \").title()}',fontsize=16)\n",
    "            else:\n",
    "                ax.set_title(f'KNN',fontsize=16)\n",
    "            plt.rc('xtick', labelsize=14)    # fontsize of the tick labels\n",
    "            plt.rc('ytick', labelsize=14)    # fontsize of the tick labels\n",
    "            for loc in [\"top\",\"right\"]:\n",
    "                ax.spines[loc].set_visible(False)\n",
    "            ax.legend(frameon=True,loc=\"lower right\",bbox_to_anchor=(1.2,0),fontsize=12,)\n",
    "            # annotations\n",
    "            ax.text(0.0,0.9,f\"AUC = {round(mean_auc,2)} $\\pm$ {round(std_auc,2)}\",fontsize=14)\n",
    "        if save:\n",
    "            plt.savefig(f\"../reports/conferences/BuildSys_2021/{self.target_label}-{validation}cv-roc_curve.pdf\")\n",
    "            \n",
    "        if \"annote\" in kwargs.keys():\n",
    "            axes[0].text(0.05,1,kwargs[\"annote\"],va=\"bottom\",ha=\"left\",fontsize=24)\n",
    "        fig.add_subplot(111, frame_on=False)\n",
    "        plt.tick_params(labelcolor=\"none\", bottom=False, left=False)\n",
    "        plt.xlabel(\"False Positive Rate\",fontsize=15)\n",
    "        plt.ylabel(\"True Positive Rate\",fontsize=15)\n",
    "        plt.show()\n",
    "        plt.close()\n",
    "        \n",
    "    def find_accuracy_threshold(self):\n",
    "        \"\"\"\"\"\"\n",
    "        fig, axes = plt.subplots(1,len(self.tuned_models.keys()),figsize=(6*len(self.tuned_models.keys()),6),sharey=True)\n",
    "        for (name, model), ax in zip(self.tuned_models.items(),axes.flat):\n",
    "            clf = model.fit(self.X_train,self.y_train)\n",
    "            y_pred_pos = clf.predict_proba(self.X_test)[:,1]\n",
    "            thresholds = []\n",
    "            accs = []\n",
    "            for threshold in np.linspace(0,1,100):\n",
    "                thresholds.append(threshold)\n",
    "                y_pred_class = y_pred_pos > threshold\n",
    "                acc = accuracy_score(self.y_test, y_pred_class)\n",
    "                accs.append(acc)\n",
    "            ax.plot(thresholds,accs,color=\"black\",lw=2)\n",
    "            ix = np.argmax(accs)\n",
    "            ax.set_title(thresholds[ix])\n",
    "        plt.show()\n",
    "        plt.close()\n",
    "\n",
    "    def get_res(self,cv=\"gkf\",splits=5,save=False):\n",
    "        \"\"\"Gets the performance metrics of the model and prediction\"\"\"\n",
    "        # getting cross-validation funciton\n",
    "        cv = self.get_cv(cv,splits)\n",
    "        # defining result dicts\n",
    "        model_res = {\"target\":[],\"model\":[],\"accuracy\":[],\"accuracy_naive\":[],\"f1\":[],\"f1_naive\":[]}\n",
    "        pred_res = {\"target\":[],\"model\":[],\"accuracy\":[],\"accuracy_naive\":[],\"f1\":[],\"f1_naive\":[]}\n",
    "        final_feature_importances = {new_list: [] for new_list in self.tuned_models.keys()}\n",
    "        # looping through models\n",
    "        for name, model in self.tuned_models.items():\n",
    "            # pre-allocating empty metric lists\n",
    "            precisions = {\"train\":[],\"test\":[]}\n",
    "            thresholds = {\"train\":[],\"test\":[]}\n",
    "            accuracies = {\"train\":[],\"test\":[]}\n",
    "            mean_recall = np.linspace(0, 1, 100)\n",
    "            feature_importances = []\n",
    "            # looping through cv folds\n",
    "            print(\"Total:\",len(self.features))\n",
    "            for i, (train, test) in enumerate(cv.split(self.features, self.targets, groups=self.groups)):\n",
    "                #print(f\"Train ({len(train)}): {len(train)/(len(train)+len(test))} - Good: {self.targets.iloc[train].sum()/len(self.targets.iloc[train])}\")\n",
    "                #print(f\"Test ({len(test)}):\", len(test)/(len(train)+len(test)))\n",
    "                # training model\n",
    "                clf = model.fit(self.features.iloc[train],self.targets.iloc[train])\n",
    "                # metrics for model (train) and prediction (test)\n",
    "                for set_label,set_locs in zip([\"train\",\"test\"],[train,test]):\n",
    "                    # getting precision, thresholds, and f1_balanced (0.5 cutoff)\n",
    "                    precision, recall, threshold = precision_recall_curve(self.targets.iloc[set_locs], clf.predict_proba(self.features.iloc[set_locs])[:, 1])\n",
    "                    precisions[set_label].append(np.interp(mean_recall, np.sort(recall), precision))\n",
    "                    thresholds[set_label].append(np.interp(mean_recall, np.sort(recall), np.append(threshold,[1])))\n",
    "                    # accuracy\n",
    "                    accuracies[set_label].append(accuracy_score(self.targets.iloc[set_locs],clf.predict(self.features.iloc[set_locs])))\n",
    "            \n",
    "                # feature importances \n",
    "                if name in [\"decision_tree\",\"random_forest\"]:\n",
    "                    feature_importances.append(clf.feature_importances_)\n",
    "                elif name == \"logistic_regression\":\n",
    "                    feature_importances.append(clf.coef_[0])\n",
    "                else:\n",
    "                    feature_importances.append(np.zeros(len(self.features.columns)))\n",
    "            \n",
    "            # averaging feature importances from cv folds\n",
    "            final_feature_importances[name] = pd.DataFrame(data=feature_importances).mean(axis=0).values\n",
    "            for set_label,set_res in zip([\"train\",\"test\"],[model_res,pred_res]):\n",
    "                # getting adjusted f1 score\n",
    "                mean_precision = np.mean(precisions[set_label], axis=0)\n",
    "                mean_threshold = np.mean(thresholds[set_label], axis=0)\n",
    "                fscore = (2 * mean_precision * mean_recall[::-1]) / (mean_precision + mean_recall[::-1])\n",
    "                ix = np.argmax(fscore) # locate the index of the largest f score\n",
    "                # getting averaged metrics\n",
    "                acc_temp = round(np.mean(accuracies[set_label]),2)\n",
    "                score = round(sum(self.targets.iloc[:,0])/len(self.targets),2)\n",
    "                acc_naive_temp = score if score > 0.5 else 1-score\n",
    "                f1_temp = f\"{round(fscore[ix],2)} ({round(mean_threshold[ix],2)})\"\n",
    "                f1_naive_temp = round(f1_score(self.targets,np.ones(len(self.targets))),2)\n",
    "                # adding to dict\n",
    "                for key,val in zip(set_res.keys(),[self.targets.columns.values[0],name,acc_temp,acc_naive_temp,f1_temp,f1_naive_temp]):\n",
    "                    set_res[key].append(val)\n",
    "            \n",
    "        return pd.DataFrame(model_res), pd.DataFrame(pred_res), final_feature_importances\n",
    "    "
   ]
  },
  {
   "cell_type": "markdown",
   "metadata": {},
   "source": [
    "## Optimizing Models\n",
    "Looking at different components of:\n",
    "* classifiers\n",
    "* validation\n",
    "* hyperparameters"
   ]
  },
  {
   "cell_type": "markdown",
   "metadata": {},
   "source": [
    "### Aggregate\n",
    "All the participants' data considered and stratified according to the number of observations."
   ]
  },
  {
   "cell_type": "code",
   "execution_count": 43,
   "metadata": {
    "scrolled": true
   },
   "outputs": [
    {
     "name": "stdout",
     "output_type": "stream",
     "text": [
      "Getting Features and Target (tst)...\n",
      "Splitting Data...\n",
      "Testing Classifiers...\n",
      "\tLogistic Regression\n",
      "\t\tElapsed Time:\t 0:00:00.104268\n",
      "\t\tBest Score:\t0.6486486486486487\n",
      "\t\tBest Params:\t{'fit_intercept': True, 'solver': 'lbfgs'}\n",
      "\tDecision Tree\n",
      "\t\tElapsed Time:\t 0:00:03.778599\n",
      "\t\tBest Score:\t0.6707207207207206\n",
      "\t\tBest Params:\t{'ccp_alpha': 0.0, 'max_depth': 3}\n",
      "\tRandom Forest\n",
      "\t\tElapsed Time:\t 0:01:59.873726\n",
      "\t\tBest Score:\t0.6594594594594595\n",
      "\t\tBest Params:\t{'ccp_alpha': 0.0, 'criterion': 'gini', 'max_depth': 4, 'n_estimators': 40}\n",
      "\tNaive Bayes\n",
      "\t\tElapsed Time:\t 0:00:00.022433\n",
      "\t\tBest Score:\t0.6430930930930931\n",
      "\t\tBest Params:\t{}\n",
      "\tBest Scoring Model:\n",
      "\t\tModel:\tDecision Tree\n",
      "\t\tScore:\t0.671\n",
      "\t\tParams:\t{'ccp_alpha': 0.0, 'max_depth': 3}\n",
      "DECISION TREE\n",
      "Training...\n",
      "Predicting...\n",
      "\tCross Validation Scores:\n",
      "\t\t0.501\n",
      "\t\t0.657\n",
      "\t\t0.687\n",
      "\t\t0.688\n",
      "\t\t0.71\n",
      "\tAverage:\t0.648\n",
      "\tModel Score: 0.53\n",
      "Evaluating...\n"
     ]
    },
    {
     "data": {
      "image/png": "[encoded data removed]",
      "text/plain": [
       "<Figure size 360x288 with 2 Axes>"
      ]
     },
     "metadata": {
      "needs_background": "light"
     },
     "output_type": "display_data"
    },
    {
     "data": {
      "image/png": "[encoded data removed]",
      "text/plain": [
       "<Figure size 432x288 with 1 Axes>"
      ]
     },
     "metadata": {
      "needs_background": "light"
     },
     "output_type": "display_data"
    },
    {
     "name": "stdout",
     "output_type": "stream",
     "text": [
      "RANDOM FOREST\n",
      "Training...\n",
      "Predicting...\n",
      "\tCross Validation Scores:\n",
      "\t\t0.501\n",
      "\t\t0.695\n",
      "\t\t0.556\n",
      "\t\t0.71\n",
      "\t\t0.688\n",
      "\tAverage:\t0.63\n",
      "\tModel Score: 0.491\n",
      "Evaluating...\n"
     ]
    },
    {
     "data": {
      "image/png": "[encoded data removed]",
      "text/plain": [
       "<Figure size 360x288 with 2 Axes>"
      ]
     },
     "metadata": {
      "needs_background": "light"
     },
     "output_type": "display_data"
    },
    {
     "data": {
      "image/png": "[encoded data removed]",
      "text/plain": [
       "<Figure size 432x288 with 1 Axes>"
      ]
     },
     "metadata": {
      "needs_background": "light"
     },
     "output_type": "display_data"
    },
    {
     "name": "stdout",
     "output_type": "stream",
     "text": [
      "LOGISTIC REGRESSION\n",
      "Training...\n",
      "Predicting...\n",
      "\tCross Validation Scores:\n",
      "\t\t0.501\n",
      "\t\t0.421\n",
      "\t\t0.804\n",
      "\t\t0.408\n",
      "\t\t0.408\n",
      "\tAverage:\t0.508\n",
      "\tModel Score: 0.502\n",
      "Evaluating...\n"
     ]
    },
    {
     "data": {
      "image/png": "[encoded data removed]",
      "text/plain": [
       "<Figure size 360x288 with 2 Axes>"
      ]
     },
     "metadata": {
      "needs_background": "light"
     },
     "output_type": "display_data"
    },
    {
     "name": "stdout",
     "output_type": "stream",
     "text": [
      "'LogisticRegression' object has no attribute 'feature_importances_'\n",
      "NAIVE BAYES\n",
      "Training...\n",
      "Predicting...\n",
      "\tCross Validation Scores:\n",
      "\t\t0.501\n",
      "\t\t0.421\n",
      "\t\t0.79\n",
      "\t\t0.408\n",
      "\t\t0.408\n",
      "\tAverage:\t0.506\n",
      "\tModel Score: 0.494\n",
      "Evaluating...\n"
     ]
    },
    {
     "data": {
      "image/png": "[encoded data removed]",
      "text/plain": [
       "<Figure size 360x288 with 2 Axes>"
      ]
     },
     "metadata": {
      "needs_background": "light"
     },
     "output_type": "display_data"
    },
    {
     "name": "stdout",
     "output_type": "stream",
     "text": [
      "'GaussianNB' object has no attribute 'feature_importances_'\n",
      "Getting Features and Target (sol)...\n",
      "Splitting Data...\n",
      "Testing Classifiers...\n",
      "\tLogistic Regression\n",
      "\t\tElapsed Time:\t 0:00:00.097894\n",
      "\t\tBest Score:\t0.4774774774774775\n",
      "\t\tBest Params:\t{'fit_intercept': True, 'solver': 'liblinear'}\n",
      "\tDecision Tree\n",
      "\t\tElapsed Time:\t 0:00:03.611119\n",
      "\t\tBest Score:\t0.543993993993994\n",
      "\t\tBest Params:\t{'ccp_alpha': 0.015, 'max_depth': 1}\n",
      "\tRandom Forest\n",
      "\t\tElapsed Time:\t 0:01:56.741849\n",
      "\t\tBest Score:\t0.5495495495495496\n",
      "\t\tBest Params:\t{'ccp_alpha': 0.02, 'criterion': 'entropy', 'max_depth': 1, 'n_estimators': 20}\n",
      "\tNaive Bayes\n",
      "\t\tElapsed Time:\t 0:00:00.028326\n",
      "\t\tBest Score:\t0.47762762762762756\n",
      "\t\tBest Params:\t{}\n",
      "\tBest Scoring Model:\n",
      "\t\tModel:\tRandom Forest\n",
      "\t\tScore:\t0.55\n",
      "\t\tParams:\t{'ccp_alpha': 0.02, 'criterion': 'entropy', 'max_depth': 1, 'n_estimators': 20}\n",
      "RANDOM FOREST\n",
      "Training...\n",
      "Predicting...\n",
      "\tCross Validation Scores:\n",
      "\t\t0.292\n",
      "\t\t0.292\n",
      "\t\t0.279\n",
      "\t\t0.309\n",
      "\t\t0.762\n",
      "\tAverage:\t0.387\n",
      "\tModel Score: 0.498\n",
      "Evaluating...\n"
     ]
    },
    {
     "data": {
      "image/png": "[encoded data removed]",
      "text/plain": [
       "<Figure size 360x288 with 2 Axes>"
      ]
     },
     "metadata": {
      "needs_background": "light"
     },
     "output_type": "display_data"
    },
    {
     "data": {
      "image/png": "[encoded data removed]",
      "text/plain": [
       "<Figure size 432x288 with 1 Axes>"
      ]
     },
     "metadata": {
      "needs_background": "light"
     },
     "output_type": "display_data"
    },
    {
     "name": "stdout",
     "output_type": "stream",
     "text": [
      "DECISION TREE\n",
      "Training...\n",
      "Predicting...\n",
      "\tCross Validation Scores:\n",
      "\t\t0.292\n",
      "\t\t0.292\n",
      "\t\t0.279\n",
      "\t\t0.309\n",
      "\t\t0.309\n",
      "\tAverage:\t0.296\n",
      "\tModel Score: 0.284\n",
      "Evaluating...\n"
     ]
    },
    {
     "data": {
      "image/png": "[encoded data removed]",
      "text/plain": [
       "<Figure size 360x288 with 2 Axes>"
      ]
     },
     "metadata": {
      "needs_background": "light"
     },
     "output_type": "display_data"
    },
    {
     "data": {
      "image/png": "[encoded data removed]",
      "text/plain": [
       "<Figure size 432x288 with 1 Axes>"
      ]
     },
     "metadata": {
      "needs_background": "light"
     },
     "output_type": "display_data"
    },
    {
     "name": "stdout",
     "output_type": "stream",
     "text": [
      "NAIVE BAYES\n",
      "Training...\n",
      "Predicting...\n",
      "\tCross Validation Scores:\n",
      "\t\t0.509\n",
      "\t\t0.505\n",
      "\t\t0.453\n",
      "\t\t0.469\n",
      "\t\t0.388\n",
      "\tAverage:\t0.465\n",
      "\tModel Score: 0.577\n",
      "Evaluating...\n"
     ]
    },
    {
     "data": {
      "image/png": "[encoded data removed]",
      "text/plain": [
       "<Figure size 360x288 with 2 Axes>"
      ]
     },
     "metadata": {
      "needs_background": "light"
     },
     "output_type": "display_data"
    },
    {
     "name": "stdout",
     "output_type": "stream",
     "text": [
      "'GaussianNB' object has no attribute 'feature_importances_'\n",
      "LOGISTIC REGRESSION\n",
      "Training...\n",
      "Predicting...\n",
      "\tCross Validation Scores:\n",
      "\t\t0.509\n",
      "\t\t0.528\n",
      "\t\t0.304\n",
      "\t\t0.469\n",
      "\t\t0.436\n",
      "\tAverage:\t0.449\n",
      "\tModel Score: 0.576\n",
      "Evaluating...\n"
     ]
    },
    {
     "data": {
      "image/png": "[encoded data removed]",
      "text/plain": [
       "<Figure size 360x288 with 2 Axes>"
      ]
     },
     "metadata": {
      "needs_background": "light"
     },
     "output_type": "display_data"
    },
    {
     "name": "stdout",
     "output_type": "stream",
     "text": [
      "'LogisticRegression' object has no attribute 'feature_importances_'\n",
      "Getting Features and Target (naw)...\n",
      "Splitting Data...\n",
      "Testing Classifiers...\n",
      "\tLogistic Regression\n",
      "\t\tElapsed Time:\t 0:00:00.168129\n",
      "\t\tBest Score:\t0.5498498498498499\n",
      "\t\tBest Params:\t{'fit_intercept': False, 'solver': 'lbfgs'}\n",
      "\tDecision Tree\n",
      "\t\tElapsed Time:\t 0:00:03.767243\n",
      "\t\tBest Score:\t0.5495495495495495\n",
      "\t\tBest Params:\t{'ccp_alpha': 0.01, 'max_depth': 1}\n",
      "\tRandom Forest\n",
      "\t\tElapsed Time:\t 0:01:57.717663\n",
      "\t\tBest Score:\t0.5495495495495495\n",
      "\t\tBest Params:\t{'ccp_alpha': 0.0, 'criterion': 'gini', 'max_depth': 1, 'n_estimators': 30}\n",
      "\tNaive Bayes\n",
      "\t\tElapsed Time:\t 0:00:00.024437\n",
      "\t\tBest Score:\t0.47822822822822825\n",
      "\t\tBest Params:\t{}\n",
      "\tBest Scoring Model:\n",
      "\t\tModel:\tLogistic Regression\n",
      "\t\tScore:\t0.55\n",
      "\t\tParams:\t{'fit_intercept': False, 'solver': 'lbfgs'}\n",
      "LOGISTIC REGRESSION\n",
      "Training...\n",
      "Predicting...\n",
      "\tCross Validation Scores:\n",
      "\t\t0.532\n",
      "\t\t0.278\n",
      "\t\t0.638\n",
      "\t\t0.486\n",
      "\t\t0.576\n",
      "\tAverage:\t0.502\n",
      "\tModel Score: 0.567\n",
      "Evaluating...\n"
     ]
    },
    {
     "data": {
      "image/png": "[encoded data removed]",
      "text/plain": [
       "<Figure size 360x288 with 2 Axes>"
      ]
     },
     "metadata": {
      "needs_background": "light"
     },
     "output_type": "display_data"
    },
    {
     "name": "stdout",
     "output_type": "stream",
     "text": [
      "'LogisticRegression' object has no attribute 'feature_importances_'\n",
      "DECISION TREE\n",
      "Training...\n",
      "Predicting...\n",
      "\tCross Validation Scores:\n",
      "\t\t0.292\n",
      "\t\t0.292\n",
      "\t\t0.309\n",
      "\t\t0.309\n",
      "\t\t0.309\n",
      "\tAverage:\t0.302\n",
      "\tModel Score: 0.261\n",
      "Evaluating...\n"
     ]
    },
    {
     "data": {
      "image/png": "[encoded data removed]",
      "text/plain": [
       "<Figure size 360x288 with 2 Axes>"
      ]
     },
     "metadata": {
      "needs_background": "light"
     },
     "output_type": "display_data"
    },
    {
     "data": {
      "image/png": "[encoded data removed]",
      "text/plain": [
       "<Figure size 432x288 with 1 Axes>"
      ]
     },
     "metadata": {
      "needs_background": "light"
     },
     "output_type": "display_data"
    },
    {
     "name": "stdout",
     "output_type": "stream",
     "text": [
      "RANDOM FOREST\n",
      "Training...\n",
      "Predicting...\n",
      "\tCross Validation Scores:\n",
      "\t\t0.292\n",
      "\t\t0.292\n",
      "\t\t0.309\n",
      "\t\t0.309\n",
      "\t\t0.309\n",
      "\tAverage:\t0.302\n",
      "\tModel Score: 0.525\n",
      "Evaluating...\n"
     ]
    },
    {
     "data": {
      "image/png": "[encoded data removed]",
      "text/plain": [
       "<Figure size 360x288 with 2 Axes>"
      ]
     },
     "metadata": {
      "needs_background": "light"
     },
     "output_type": "display_data"
    },
    {
     "data": {
      "image/png": "[encoded data removed]",
      "text/plain": [
       "<Figure size 432x288 with 1 Axes>"
      ]
     },
     "metadata": {
      "needs_background": "light"
     },
     "output_type": "display_data"
    },
    {
     "name": "stdout",
     "output_type": "stream",
     "text": [
      "NAIVE BAYES\n",
      "Training...\n",
      "Predicting...\n",
      "\tCross Validation Scores:\n",
      "\t\t0.423\n",
      "\t\t0.27\n",
      "\t\t0.497\n",
      "\t\t0.486\n",
      "\t\t0.389\n",
      "\tAverage:\t0.413\n",
      "\tModel Score: 0.535\n",
      "Evaluating...\n"
     ]
    },
    {
     "data": {
      "image/png": "[encoded data removed]",
      "text/plain": [
       "<Figure size 360x288 with 2 Axes>"
      ]
     },
     "metadata": {
      "needs_background": "light"
     },
     "output_type": "display_data"
    },
    {
     "name": "stdout",
     "output_type": "stream",
     "text": [
      "'GaussianNB' object has no attribute 'feature_importances_'\n",
      "Getting Features and Target (restful)...\n",
      "Splitting Data...\n",
      "Testing Classifiers...\n",
      "\tLogistic Regression\n",
      "\t\tElapsed Time:\t 0:00:00.173462\n",
      "\t\tBest Score:\t0.8406906906906908\n",
      "\t\tBest Params:\t{'fit_intercept': True, 'solver': 'lbfgs'}\n",
      "\tDecision Tree\n",
      "\t\tElapsed Time:\t 0:00:04.038945\n",
      "\t\tBest Score:\t0.8406906906906908\n",
      "\t\tBest Params:\t{'ccp_alpha': 0.0, 'max_depth': 1}\n",
      "\tRandom Forest\n",
      "\t\tElapsed Time:\t 0:01:51.770804\n",
      "\t\tBest Score:\t0.8406906906906908\n",
      "\t\tBest Params:\t{'ccp_alpha': 0.0, 'criterion': 'gini', 'max_depth': 1, 'n_estimators': 10}\n",
      "\tNaive Bayes\n",
      "\t\tElapsed Time:\t 0:00:00.024810\n",
      "\t\tBest Score:\t0.8406906906906908\n",
      "\t\tBest Params:\t{}\n",
      "\tBest Scoring Model:\n",
      "\t\tModel:\tLogistic Regression\n",
      "\t\tScore:\t0.841\n",
      "\t\tParams:\t{'fit_intercept': True, 'solver': 'lbfgs'}\n",
      "LOGISTIC REGRESSION\n",
      "Training...\n",
      "Predicting...\n",
      "\tCross Validation Scores:\n",
      "\t\t0.702\n",
      "\t\t0.702\n",
      "\t\t0.742\n",
      "\t\t0.694\n",
      "\t\t0.694\n",
      "\tAverage:\t0.707\n",
      "\tModel Score: 0.724\n",
      "Evaluating...\n"
     ]
    },
    {
     "data": {
      "image/png": "[encoded data removed]",
      "text/plain": [
       "<Figure size 360x288 with 2 Axes>"
      ]
     },
     "metadata": {
      "needs_background": "light"
     },
     "output_type": "display_data"
    },
    {
     "name": "stdout",
     "output_type": "stream",
     "text": [
      "'LogisticRegression' object has no attribute 'feature_importances_'\n",
      "DECISION TREE\n",
      "Training...\n",
      "Predicting...\n",
      "\tCross Validation Scores:\n",
      "\t\t0.702\n",
      "\t\t0.702\n",
      "\t\t0.742\n",
      "\t\t0.694\n",
      "\t\t0.694\n",
      "\tAverage:\t0.707\n",
      "\tModel Score: 0.717\n",
      "Evaluating...\n"
     ]
    },
    {
     "data": {
      "image/png": "[encoded data removed]",
      "text/plain": [
       "<Figure size 360x288 with 2 Axes>"
      ]
     },
     "metadata": {
      "needs_background": "light"
     },
     "output_type": "display_data"
    },
    {
     "data": {
      "image/png": "[encoded data removed]",
      "text/plain": [
       "<Figure size 432x288 with 1 Axes>"
      ]
     },
     "metadata": {
      "needs_background": "light"
     },
     "output_type": "display_data"
    },
    {
     "name": "stdout",
     "output_type": "stream",
     "text": [
      "RANDOM FOREST\n",
      "Training...\n",
      "Predicting...\n",
      "\tCross Validation Scores:\n",
      "\t\t0.702\n",
      "\t\t0.702\n",
      "\t\t0.742\n",
      "\t\t0.694\n",
      "\t\t0.694\n",
      "\tAverage:\t0.707\n",
      "\tModel Score: 0.717\n",
      "Evaluating...\n"
     ]
    },
    {
     "data": {
      "image/png": "[encoded data removed]",
      "text/plain": [
       "<Figure size 360x288 with 2 Axes>"
      ]
     },
     "metadata": {
      "needs_background": "light"
     },
     "output_type": "display_data"
    },
    {
     "data": {
      "image/png": "[encoded data removed]",
      "text/plain": [
       "<Figure size 432x288 with 1 Axes>"
      ]
     },
     "metadata": {
      "needs_background": "light"
     },
     "output_type": "display_data"
    },
    {
     "name": "stdout",
     "output_type": "stream",
     "text": [
      "NAIVE BAYES\n",
      "Training...\n",
      "Predicting...\n",
      "\tCross Validation Scores:\n",
      "\t\t0.702\n",
      "\t\t0.702\n",
      "\t\t0.742\n",
      "\t\t0.694\n",
      "\t\t0.694\n",
      "\tAverage:\t0.707\n",
      "\tModel Score: 0.717\n",
      "Evaluating...\n"
     ]
    },
    {
     "data": {
      "image/png": "[encoded data removed]",
      "text/plain": [
       "<Figure size 360x288 with 2 Axes>"
      ]
     },
     "metadata": {
      "needs_background": "light"
     },
     "output_type": "display_data"
    },
    {
     "name": "stdout",
     "output_type": "stream",
     "text": [
      "'GaussianNB' object has no attribute 'feature_importances_'\n"
     ]
    }
   ],
   "source": [
    "agg_pred = ieq_and_sq_prediction()\n",
    "agg_res = {\"target\":[],\"best_performing_model\":[],\"model\":[],\"model_score\":[],\"biased_score\":[],\"hyper_parameters\":[],\"sensitive_parameter1\":[],\"sensitive_parameter2\":[]}\n",
    "for target in [\"tst\",\"sol\",\"naw\",\"restful\"]:\n",
    "    agg_pred.run(ieq_bi,srsq,target)\n",
    "    for i in range(len(agg_pred.results)):\n",
    "        agg_res[\"target\"].append(target)\n",
    "        agg_res[\"best_performing_model\"].append(agg_pred.results.iloc[0,0])\n",
    "        agg_res[\"model\"].append(agg_pred.results.iloc[i,0])\n",
    "        agg_res[\"model_score\"].append(agg_pred.results.iloc[i,1])\n",
    "        bs = sum(agg_pred.targets.values)/len(agg_pred.targets)\n",
    "        agg_res[\"biased_score\"].append(bs[0] if bs[0] > 0.5 else 1-bs[0])\n",
    "        agg_res[\"hyper_parameters\"].append(agg_pred.results.iloc[i,2])\n",
    "        try:\n",
    "            agg_res[\"sensitive_parameter1\"].append(agg_pred.feature_importance.sort_values(\"importance\",ascending=False).iloc[0,0])\n",
    "            agg_res[\"sensitive_parameter2\"].append(agg_pred.feature_importance.sort_values(\"importance\",ascending=False).iloc[1,0])\n",
    "        except KeyError:\n",
    "            agg_res[\"sensitive_parameter1\"].append(np.nan)\n",
    "            agg_res[\"sensitive_parameter2\"].append(np.nan)"
   ]
  },
  {
   "cell_type": "code",
   "execution_count": 32,
   "metadata": {},
   "outputs": [
    {
     "data": {
      "text/html": [
       "<div>\n",
       "<style scoped>\n",
       "    .dataframe tbody tr th:only-of-type {\n",
       "        vertical-align: middle;\n",
       "    }\n",
       "\n",
       "    .dataframe tbody tr th {\n",
       "        vertical-align: top;\n",
       "    }\n",
       "\n",
       "    .dataframe thead th {\n",
       "        text-align: right;\n",
       "    }\n",
       "</style>\n",
       "<table border=\"1\" class=\"dataframe\">\n",
       "  <thead>\n",
       "    <tr style=\"text-align: right;\">\n",
       "      <th></th>\n",
       "      <th>target</th>\n",
       "      <th>best_performing_model</th>\n",
       "      <th>model</th>\n",
       "      <th>model_score</th>\n",
       "      <th>biased_score</th>\n",
       "      <th>hyper_parameters</th>\n",
       "      <th>sensitive_parameter1</th>\n",
       "      <th>sensitive_parameter2</th>\n",
       "    </tr>\n",
       "  </thead>\n",
       "  <tbody>\n",
       "    <tr>\n",
       "      <th>0</th>\n",
       "      <td>tst</td>\n",
       "      <td>decision_tree</td>\n",
       "      <td>decision_tree</td>\n",
       "      <td>0.670721</td>\n",
       "      <td>0.643382</td>\n",
       "      <td>{'ccp_alpha': 0.0, 'max_depth': 3}</td>\n",
       "      <td>pm2p5</td>\n",
       "      <td>temperature</td>\n",
       "    </tr>\n",
       "    <tr>\n",
       "      <th>1</th>\n",
       "      <td>tst</td>\n",
       "      <td>decision_tree</td>\n",
       "      <td>random_forest</td>\n",
       "      <td>0.659459</td>\n",
       "      <td>0.643382</td>\n",
       "      <td>{'ccp_alpha': 0.0, 'max_depth': 4, 'n_estimato...</td>\n",
       "      <td>pm2p5</td>\n",
       "      <td>temperature</td>\n",
       "    </tr>\n",
       "    <tr>\n",
       "      <th>2</th>\n",
       "      <td>tst</td>\n",
       "      <td>decision_tree</td>\n",
       "      <td>logistic_regression</td>\n",
       "      <td>0.648649</td>\n",
       "      <td>0.643382</td>\n",
       "      <td>{'fit_intercept': True, 'solver': 'lbfgs'}</td>\n",
       "      <td>pm2p5</td>\n",
       "      <td>temperature</td>\n",
       "    </tr>\n",
       "    <tr>\n",
       "      <th>3</th>\n",
       "      <td>tst</td>\n",
       "      <td>decision_tree</td>\n",
       "      <td>naive_bayes</td>\n",
       "      <td>0.643093</td>\n",
       "      <td>0.643382</td>\n",
       "      <td>{}</td>\n",
       "      <td>pm2p5</td>\n",
       "      <td>temperature</td>\n",
       "    </tr>\n",
       "    <tr>\n",
       "      <th>4</th>\n",
       "      <td>sol</td>\n",
       "      <td>random_forest</td>\n",
       "      <td>random_forest</td>\n",
       "      <td>0.549399</td>\n",
       "      <td>0.518382</td>\n",
       "      <td>{'ccp_alpha': 0.0, 'max_depth': 1, 'n_estimato...</td>\n",
       "      <td>co2</td>\n",
       "      <td>co</td>\n",
       "    </tr>\n",
       "    <tr>\n",
       "      <th>5</th>\n",
       "      <td>sol</td>\n",
       "      <td>random_forest</td>\n",
       "      <td>decision_tree</td>\n",
       "      <td>0.543994</td>\n",
       "      <td>0.518382</td>\n",
       "      <td>{'ccp_alpha': 0.015, 'max_depth': 1}</td>\n",
       "      <td>co2</td>\n",
       "      <td>co</td>\n",
       "    </tr>\n",
       "    <tr>\n",
       "      <th>6</th>\n",
       "      <td>sol</td>\n",
       "      <td>random_forest</td>\n",
       "      <td>naive_bayes</td>\n",
       "      <td>0.477628</td>\n",
       "      <td>0.518382</td>\n",
       "      <td>{}</td>\n",
       "      <td>co2</td>\n",
       "      <td>co</td>\n",
       "    </tr>\n",
       "    <tr>\n",
       "      <th>7</th>\n",
       "      <td>sol</td>\n",
       "      <td>random_forest</td>\n",
       "      <td>logistic_regression</td>\n",
       "      <td>0.477477</td>\n",
       "      <td>0.518382</td>\n",
       "      <td>{'fit_intercept': True, 'solver': 'liblinear'}</td>\n",
       "      <td>co2</td>\n",
       "      <td>co</td>\n",
       "    </tr>\n",
       "    <tr>\n",
       "      <th>8</th>\n",
       "      <td>naw</td>\n",
       "      <td>logistic_regression</td>\n",
       "      <td>logistic_regression</td>\n",
       "      <td>0.549850</td>\n",
       "      <td>0.529412</td>\n",
       "      <td>{'fit_intercept': False, 'solver': 'lbfgs'}</td>\n",
       "      <td>co2</td>\n",
       "      <td>co</td>\n",
       "    </tr>\n",
       "    <tr>\n",
       "      <th>9</th>\n",
       "      <td>naw</td>\n",
       "      <td>logistic_regression</td>\n",
       "      <td>decision_tree</td>\n",
       "      <td>0.549550</td>\n",
       "      <td>0.529412</td>\n",
       "      <td>{'ccp_alpha': 0.01, 'max_depth': 1}</td>\n",
       "      <td>co2</td>\n",
       "      <td>co</td>\n",
       "    </tr>\n",
       "    <tr>\n",
       "      <th>10</th>\n",
       "      <td>naw</td>\n",
       "      <td>logistic_regression</td>\n",
       "      <td>random_forest</td>\n",
       "      <td>0.549550</td>\n",
       "      <td>0.529412</td>\n",
       "      <td>{'ccp_alpha': 0.0, 'max_depth': 1, 'n_estimato...</td>\n",
       "      <td>co2</td>\n",
       "      <td>co</td>\n",
       "    </tr>\n",
       "    <tr>\n",
       "      <th>11</th>\n",
       "      <td>naw</td>\n",
       "      <td>logistic_regression</td>\n",
       "      <td>naive_bayes</td>\n",
       "      <td>0.478228</td>\n",
       "      <td>0.529412</td>\n",
       "      <td>{}</td>\n",
       "      <td>co2</td>\n",
       "      <td>co</td>\n",
       "    </tr>\n",
       "    <tr>\n",
       "      <th>12</th>\n",
       "      <td>restful</td>\n",
       "      <td>logistic_regression</td>\n",
       "      <td>logistic_regression</td>\n",
       "      <td>0.840691</td>\n",
       "      <td>0.827206</td>\n",
       "      <td>{'fit_intercept': True, 'solver': 'lbfgs'}</td>\n",
       "      <td>pm2p5</td>\n",
       "      <td>rh</td>\n",
       "    </tr>\n",
       "    <tr>\n",
       "      <th>13</th>\n",
       "      <td>restful</td>\n",
       "      <td>logistic_regression</td>\n",
       "      <td>decision_tree</td>\n",
       "      <td>0.840691</td>\n",
       "      <td>0.827206</td>\n",
       "      <td>{'ccp_alpha': 0.0, 'max_depth': 1}</td>\n",
       "      <td>pm2p5</td>\n",
       "      <td>rh</td>\n",
       "    </tr>\n",
       "    <tr>\n",
       "      <th>14</th>\n",
       "      <td>restful</td>\n",
       "      <td>logistic_regression</td>\n",
       "      <td>random_forest</td>\n",
       "      <td>0.840691</td>\n",
       "      <td>0.827206</td>\n",
       "      <td>{'ccp_alpha': 0.0, 'max_depth': 1, 'n_estimato...</td>\n",
       "      <td>pm2p5</td>\n",
       "      <td>rh</td>\n",
       "    </tr>\n",
       "    <tr>\n",
       "      <th>15</th>\n",
       "      <td>restful</td>\n",
       "      <td>logistic_regression</td>\n",
       "      <td>naive_bayes</td>\n",
       "      <td>0.840691</td>\n",
       "      <td>0.827206</td>\n",
       "      <td>{}</td>\n",
       "      <td>pm2p5</td>\n",
       "      <td>rh</td>\n",
       "    </tr>\n",
       "  </tbody>\n",
       "</table>\n",
       "</div>"
      ],
      "text/plain": [
       "     target best_performing_model                model  model_score  \\\n",
       "0       tst         decision_tree        decision_tree     0.670721   \n",
       "1       tst         decision_tree        random_forest     0.659459   \n",
       "2       tst         decision_tree  logistic_regression     0.648649   \n",
       "3       tst         decision_tree          naive_bayes     0.643093   \n",
       "4       sol         random_forest        random_forest     0.549399   \n",
       "5       sol         random_forest        decision_tree     0.543994   \n",
       "6       sol         random_forest          naive_bayes     0.477628   \n",
       "7       sol         random_forest  logistic_regression     0.477477   \n",
       "8       naw   logistic_regression  logistic_regression     0.549850   \n",
       "9       naw   logistic_regression        decision_tree     0.549550   \n",
       "10      naw   logistic_regression        random_forest     0.549550   \n",
       "11      naw   logistic_regression          naive_bayes     0.478228   \n",
       "12  restful   logistic_regression  logistic_regression     0.840691   \n",
       "13  restful   logistic_regression        decision_tree     0.840691   \n",
       "14  restful   logistic_regression        random_forest     0.840691   \n",
       "15  restful   logistic_regression          naive_bayes     0.840691   \n",
       "\n",
       "    biased_score                                   hyper_parameters  \\\n",
       "0       0.643382                 {'ccp_alpha': 0.0, 'max_depth': 3}   \n",
       "1       0.643382  {'ccp_alpha': 0.0, 'max_depth': 4, 'n_estimato...   \n",
       "2       0.643382         {'fit_intercept': True, 'solver': 'lbfgs'}   \n",
       "3       0.643382                                                 {}   \n",
       "4       0.518382  {'ccp_alpha': 0.0, 'max_depth': 1, 'n_estimato...   \n",
       "5       0.518382               {'ccp_alpha': 0.015, 'max_depth': 1}   \n",
       "6       0.518382                                                 {}   \n",
       "7       0.518382     {'fit_intercept': True, 'solver': 'liblinear'}   \n",
       "8       0.529412        {'fit_intercept': False, 'solver': 'lbfgs'}   \n",
       "9       0.529412                {'ccp_alpha': 0.01, 'max_depth': 1}   \n",
       "10      0.529412  {'ccp_alpha': 0.0, 'max_depth': 1, 'n_estimato...   \n",
       "11      0.529412                                                 {}   \n",
       "12      0.827206         {'fit_intercept': True, 'solver': 'lbfgs'}   \n",
       "13      0.827206                 {'ccp_alpha': 0.0, 'max_depth': 1}   \n",
       "14      0.827206  {'ccp_alpha': 0.0, 'max_depth': 1, 'n_estimato...   \n",
       "15      0.827206                                                 {}   \n",
       "\n",
       "   sensitive_parameter1 sensitive_parameter2  \n",
       "0                 pm2p5          temperature  \n",
       "1                 pm2p5          temperature  \n",
       "2                 pm2p5          temperature  \n",
       "3                 pm2p5          temperature  \n",
       "4                   co2                   co  \n",
       "5                   co2                   co  \n",
       "6                   co2                   co  \n",
       "7                   co2                   co  \n",
       "8                   co2                   co  \n",
       "9                   co2                   co  \n",
       "10                  co2                   co  \n",
       "11                  co2                   co  \n",
       "12                pm2p5                   rh  \n",
       "13                pm2p5                   rh  \n",
       "14                pm2p5                   rh  \n",
       "15                pm2p5                   rh  "
      ]
     },
     "execution_count": 32,
     "metadata": {},
     "output_type": "execute_result"
    }
   ],
   "source": [
    "agg_res_df = pd.DataFrame(agg_res)\n",
    "agg_res_df"
   ]
  },
  {
   "cell_type": "markdown",
   "metadata": {},
   "source": [
    "The following hyperparameters will be used:\n",
    "* **Logistic Regression**: (fit_intercpt=True,solver=\"lbfgs\")\n",
    "* **Decision Tree**: (ccp_alpha=0.01,max_depth=2)\n",
    "* **Naive Bayes**: None\n",
    "* **Random Forest**: (ccp_alpha=0.02,max_depth=2,n_esimators=30)"
   ]
  },
  {
   "cell_type": "markdown",
   "metadata": {},
   "source": [
    "## Model Performance "
   ]
  },
  {
   "cell_type": "markdown",
   "metadata": {},
   "source": [
    "### Summary of Measurements"
   ]
  },
  {
   "cell_type": "code",
   "execution_count": 28,
   "metadata": {},
   "outputs": [],
   "source": [
    "ieq_srsq = srsq.merge(ieq_bi,on=[\"beiwe\",\"end_date\"])"
   ]
  },
  {
   "cell_type": "code",
   "execution_count": 56,
   "metadata": {},
   "outputs": [],
   "source": [
    "def plot_summary(df_in,save=False):\n",
    "    \"\"\"\n",
    "    Plots simplifed kde plots of the variables\n",
    "    \"\"\"\n",
    "    df = df_in.copy()\n",
    "    #df = df[[col for col in df.columns if col.endswith(\"median\")]]\n",
    "    df = df[[\"co2_median\",\"pm2p5_mass_median\",\"temperature_c_median\",\"rh_median\",\"tvoc_median\",\"co_median\"]]\n",
    "    df.rename({\"co2_median\":\"CO$_2$ (ppm)\",\"pm2p5_mass_median\":\"PM$_{2.5}$ ($\\mu$g/m$^3$)\",\"temperature_c_median\":\"T ($^\\circ$C)\",\"rh_median\":\"RH (%)\",\"tvoc_median\":\"TVOC (ppb)\",\"co_median\":\"CO (ppb)\"},axis=\"columns\",inplace=True)\n",
    "    #df.rename({\"CO2_ETC_BR1\":\"CO2_BR (ppm)\", \"RH_ETC_IN1\":\"RH (%)\", \"PM_MET_IN1\":\"PM_IN ($\\mu$g/m$^3$)\", \"NO2_IAQm_ppb\":\"NO2 (ppb)\", \"FRM_IN_ppb\":\"FRM (ppb)\", \"T_ETC_IN1\":\"T_IN ($^\\circ$C)\",\n",
    "    #             \"RHD_Fan_Airflow_Adjusted_Low_cfm\":\"RHD_Low (CFM)\",\"Depressurization_Q50_cfm\":\"Q50 (CFM)\", \"EXF_BA1_Measured_cfm\":\"EXF_BA (CFM)\"},axis=\"columns\",inplace=True)\n",
    "    _, axes = plt.subplots(3,2,figsize=(4,6),gridspec_kw={\"hspace\":0.6})\n",
    "    for param, ticks, ax in zip(df.columns,[[500,1500,2500],[0,10,20,30,40,50],[15,20,25,30],[30,40,50],[0,300,600,900],[0,5,10,15]],axes.flat):\n",
    "        sns.kdeplot(df[param],cumulative=False,cut=0,common_norm=True,color=\"black\",lw=2,ax=ax)\n",
    "        for loc in [\"top\",\"left\",\"right\"]:\n",
    "            ax.set_xticks(ticks)\n",
    "            ax.spines[loc].set_visible(False)\n",
    "            ax.axes.get_yaxis().set_visible(False)\n",
    "            \n",
    "        ax.set_xlabel(ax.get_xlabel(),size=10)\n",
    "        ax.tick_params(labelsize=8)\n",
    "            \n",
    "    if save:\n",
    "        plt.savefig(\"../reports/figures/prediction/sleep_quality-distributions.pdf\",bbox_inches=\"tight\")\n",
    "\n",
    "    plt.show()\n",
    "    plt.close()"
   ]
  },
  {
   "cell_type": "code",
   "execution_count": 57,
   "metadata": {},
   "outputs": [
    {
     "data": {
      "image/png": "[encoded data removed]",
      "text/plain": [
       "<Figure size 288x432 with 6 Axes>"
      ]
     },
     "metadata": {
      "needs_background": "light"
     },
     "output_type": "display_data"
    }
   ],
   "source": [
    "plot_summary(ieq_srsq,save=True)"
   ]
  },
  {
   "cell_type": "code",
   "execution_count": 104,
   "metadata": {},
   "outputs": [
    {
     "data": {
      "text/plain": [
       "25.287313249414094"
      ]
     },
     "execution_count": 104,
     "metadata": {},
     "output_type": "execute_result"
    }
   ],
   "source": [
    "np.mean(ieq_srsq[\"temperature_c_median\"])"
   ]
  },
  {
   "cell_type": "code",
   "execution_count": 99,
   "metadata": {},
   "outputs": [
    {
     "data": {
      "text/plain": [
       "0.19047619047619047"
      ]
     },
     "execution_count": 99,
     "metadata": {},
     "output_type": "execute_result"
    }
   ],
   "source": [
    "1 - len(ieq_srsq[ieq_srsq[\"co_median\"]<=6.1])/len(ieq_srsq[\"co_median\"])"
   ]
  },
  {
   "cell_type": "code",
   "execution_count": 98,
   "metadata": {},
   "outputs": [
    {
     "data": {
      "text/plain": [
       "rnse61g4    4\n",
       "xdbdrk6e    3\n",
       "zdpffrox    1\n",
       "itmylz3g    1\n",
       "Name: beiwe, dtype: int64"
      ]
     },
     "execution_count": 98,
     "metadata": {},
     "output_type": "execute_result"
    }
   ],
   "source": [
    "ieq_srsq[ieq_srsq[\"co_median\"]>8.7][\"beiwe\"].value_counts()"
   ]
  },
  {
   "cell_type": "code",
   "execution_count": 105,
   "metadata": {},
   "outputs": [
    {
     "data": {
      "text/plain": [
       "273"
      ]
     },
     "execution_count": 105,
     "metadata": {},
     "output_type": "execute_result"
    }
   ],
   "source": [
    "len(ieq_srsq)"
   ]
  },
  {
   "cell_type": "markdown",
   "metadata": {},
   "source": [
    "### Surveys per Week"
   ]
  },
  {
   "cell_type": "code",
   "execution_count": 111,
   "metadata": {},
   "outputs": [],
   "source": [
    "week_of_year = ieq_srsq.copy()\n",
    "woy = []\n",
    "for t in week_of_year[\"timestamp\"]:\n",
    "    woy.append(t.isocalendar()[1])\n",
    "week_of_year[\"WoY\"] = woy"
   ]
  },
  {
   "cell_type": "code",
   "execution_count": 116,
   "metadata": {},
   "outputs": [
    {
     "data": {
      "text/plain": [
       "2.1496062992125986"
      ]
     },
     "execution_count": 116,
     "metadata": {},
     "output_type": "execute_result"
    }
   ],
   "source": [
    "week_of_year.groupby([\"beiwe\",\"WoY\"]).count()[\"sol\"].mean()"
   ]
  },
  {
   "cell_type": "markdown",
   "metadata": {},
   "source": [
    "### Performance Metrics"
   ]
  },
  {
   "cell_type": "code",
   "execution_count": 76,
   "metadata": {
    "scrolled": true
   },
   "outputs": [
    {
     "name": "stdout",
     "output_type": "stream",
     "text": [
      "Getting Features and Target (tst)...\n",
      "Total: 272\n",
      "Total: 272\n",
      "Total: 272\n",
      "Total: 272\n",
      "Getting Features and Target (sol)...\n",
      "Total: 272\n",
      "Total: 272\n",
      "Total: 272\n",
      "Total: 272\n",
      "Getting Features and Target (naw)...\n",
      "Total: 272\n",
      "Total: 272\n",
      "Total: 272\n",
      "Total: 272\n",
      "Getting Features and Target (restful)...\n",
      "Total: 272\n",
      "Total: 272\n",
      "Total: 272\n",
      "Total: 272\n"
     ]
    }
   ],
   "source": [
    "model_results = pd.DataFrame()\n",
    "final_results = pd.DataFrame()\n",
    "final_ft_importance = pd.DataFrame()\n",
    "for target in [\"tst\",\"sol\",\"naw\",\"restful\"]:\n",
    "    agg_pred = ieq_and_sq_prediction()\n",
    "    agg_pred.get_features_and_targets(ieq_bi,srsq,target)\n",
    "    model_res, final_res, ft_importance = agg_pred.get_res(cv=\"\")\n",
    "    model_results = model_results.append(model_res)\n",
    "    final_results = final_results.append(final_res)\n",
    "    #final_res[\"f1_naive\"] = round(f1_score(agg_pred.targets,np.ones(len(agg_pred.targets))),2)\n",
    "    temp = pd.DataFrame(ft_importance).T\n",
    "    temp.columns = [col.split(\"_\")[0] for col in agg_pred.features.columns]\n",
    "    final_ft_importance = final_ft_importance.append(temp)"
   ]
  },
  {
   "cell_type": "code",
   "execution_count": 77,
   "metadata": {},
   "outputs": [
    {
     "name": "stdout",
     "output_type": "stream",
     "text": [
      "\\begin{tabular}{llrrrlr}\n",
      "\\toprule\n",
      "{} & model &  accuracy\\_train &  accuracy\\_test &  accuracy\\_naive &           f1 &  f1\\_naive \\\\\n",
      "target  &       &                 &                &                 &              &           \\\\\n",
      "\\midrule\n",
      "TST     &    LR &            0.65 &           0.64 &            0.64 &  0.79 (0.51) &      0.78 \\\\\n",
      "TST     &    NB &            0.65 &           0.64 &            0.64 &  0.78 (0.51) &      0.78 \\\\\n",
      "TST     &    DT &            0.72 &           0.54 &            0.64 &  0.78 (0.05) &      0.78 \\\\\n",
      "TST     &    RF &            0.71 &           0.54 &            0.64 &  0.78 (0.11) &      0.78 \\\\\n",
      "SOL     &    LR &            0.58 &           0.41 &            0.52 &  0.68 (0.38) &      0.68 \\\\\n",
      "SOL     &    NB &            0.57 &           0.44 &            0.52 &  0.68 (0.36) &      0.68 \\\\\n",
      "SOL     &    DT &            0.70 &           0.46 &            0.52 &  0.69 (0.04) &      0.68 \\\\\n",
      "SOL     &    RF &            0.69 &           0.47 &            0.52 &   0.69 (0.1) &      0.68 \\\\\n",
      "NAW     &    LR &            0.59 &           0.46 &            0.53 &   0.7 (0.35) &      0.69 \\\\\n",
      "NAW     &    NB &            0.60 &           0.46 &            0.53 &  0.69 (0.38) &      0.69 \\\\\n",
      "NAW     &    DT &            0.72 &           0.49 &            0.53 &   0.69 (0.0) &      0.69 \\\\\n",
      "NAW     &    RF &            0.71 &           0.50 &            0.53 &   0.7 (0.06) &      0.69 \\\\\n",
      "Restful &    LR &            0.83 &           0.83 &            0.83 &  0.91 (0.65) &      0.91 \\\\\n",
      "Restful &    NB &            0.83 &           0.83 &            0.83 &  0.91 (0.66) &      0.91 \\\\\n",
      "Restful &    DT &            0.84 &           0.78 &            0.83 &  0.91 (0.19) &      0.91 \\\\\n",
      "Restful &    RF &            0.84 &           0.78 &            0.83 &  0.91 (0.26) &      0.91 \\\\\n",
      "\\bottomrule\n",
      "\\end{tabular}\n",
      "\n"
     ]
    }
   ],
   "source": [
    "results = model_results[[\"model\",\"target\",\"accuracy\"]].merge(final_results,on=[\"model\",\"target\"],suffixes=[\"_train\",\"_test\"])\n",
    "print(results.replace({\"tst_binary\":\"TST\",\"sol_binary\":\"SOL\",\"naw_binary\":\"NAW\",\"restful_binary\":\"Restful\",\n",
    "                             \"logistic_regression\":\"LR\",\"naive_bayes\":\"NB\",\"decision_tree\":\"DT\",\"random_forest\":\"RF\"}).set_index(\"target\").to_latex())"
   ]
  },
  {
   "cell_type": "markdown",
   "metadata": {},
   "source": [
    "### Feature Importance"
   ]
  },
  {
   "cell_type": "code",
   "execution_count": 78,
   "metadata": {},
   "outputs": [
    {
     "name": "stdout",
     "output_type": "stream",
     "text": [
      "\\begin{tabular}{lrrrrrr}\n",
      "\\toprule\n",
      "{} &       co2 &        co &      tvoc &     pm2p5 &  temperature &        rh \\\\\n",
      "\\midrule\n",
      "DT &  0.176660 &  0.100194 &  0.236781 &  0.158222 &     0.154267 &  0.173876 \\\\\n",
      "RF &  0.169217 &  0.212763 &  0.151445 &  0.151484 &     0.153916 &  0.161176 \\\\\n",
      "DT &  0.103315 &  0.212703 &  0.160102 &  0.148000 &     0.222572 &  0.153309 \\\\\n",
      "RF &  0.217519 &  0.202073 &  0.117290 &  0.133096 &     0.144318 &  0.185704 \\\\\n",
      "DT &  0.115892 &  0.224538 &  0.229465 &  0.182624 &     0.145569 &  0.101911 \\\\\n",
      "RF &  0.182363 &  0.175702 &  0.183205 &  0.140324 &     0.129403 &  0.189004 \\\\\n",
      "DT &  0.195758 &  0.142405 &  0.160355 &  0.112575 &     0.151779 &  0.237127 \\\\\n",
      "RF &  0.183335 &  0.174558 &  0.167147 &  0.133697 &     0.180371 &  0.160892 \\\\\n",
      "\\bottomrule\n",
      "\\end{tabular}\n",
      "\n"
     ]
    }
   ],
   "source": [
    "print(final_ft_importance.drop([\"logistic_regression\",\"naive_bayes\"],axis=0).rename({\"decision_tree\":\"DT\",\"random_forest\":\"RF\"},axis=0).to_latex())"
   ]
  },
  {
   "cell_type": "markdown",
   "metadata": {},
   "source": [
    "## Class Distinction"
   ]
  },
  {
   "cell_type": "code",
   "execution_count": 31,
   "metadata": {},
   "outputs": [
    {
     "data": {
      "text/html": [
       "<div>\n",
       "<style scoped>\n",
       "    .dataframe tbody tr th:only-of-type {\n",
       "        vertical-align: middle;\n",
       "    }\n",
       "\n",
       "    .dataframe tbody tr th {\n",
       "        vertical-align: top;\n",
       "    }\n",
       "\n",
       "    .dataframe thead th {\n",
       "        text-align: right;\n",
       "    }\n",
       "</style>\n",
       "<table border=\"1\" class=\"dataframe\">\n",
       "  <thead>\n",
       "    <tr style=\"text-align: right;\">\n",
       "      <th></th>\n",
       "      <th>beiwe</th>\n",
       "      <th>start_time</th>\n",
       "      <th>end_time</th>\n",
       "      <th>tvoc_median</th>\n",
       "      <th>co_median</th>\n",
       "      <th>co2_median</th>\n",
       "      <th>pm2p5_mass_median</th>\n",
       "      <th>temperature_c_median</th>\n",
       "      <th>rh_median</th>\n",
       "      <th>fitbit_median</th>\n",
       "      <th>end_date</th>\n",
       "      <th>timestamp</th>\n",
       "      <th>redcap</th>\n",
       "      <th>beacon</th>\n",
       "      <th>tst</th>\n",
       "      <th>sol</th>\n",
       "      <th>naw</th>\n",
       "      <th>restful</th>\n",
       "      <th>tst_binary</th>\n",
       "      <th>sol_binary</th>\n",
       "      <th>naw_binary</th>\n",
       "      <th>restful_binary</th>\n",
       "    </tr>\n",
       "  </thead>\n",
       "  <tbody>\n",
       "    <tr>\n",
       "      <th>0</th>\n",
       "      <td>4i7679py</td>\n",
       "      <td>2020-07-22 06:08:00</td>\n",
       "      <td>2020-07-22 09:46:30</td>\n",
       "      <td>87.556903</td>\n",
       "      <td>6.128722</td>\n",
       "      <td>634.789367</td>\n",
       "      <td>0.000000</td>\n",
       "      <td>28.045646</td>\n",
       "      <td>49.836667</td>\n",
       "      <td>38.0</td>\n",
       "      <td>2020-07-22</td>\n",
       "      <td>2020-07-22 11:29:58</td>\n",
       "      <td>37</td>\n",
       "      <td>44.0</td>\n",
       "      <td>3.0</td>\n",
       "      <td>5.0</td>\n",
       "      <td>2.0</td>\n",
       "      <td>0.0</td>\n",
       "      <td>0</td>\n",
       "      <td>1</td>\n",
       "      <td>0</td>\n",
       "      <td>0</td>\n",
       "    </tr>\n",
       "    <tr>\n",
       "      <th>1</th>\n",
       "      <td>4i7679py</td>\n",
       "      <td>2020-08-05 05:02:30</td>\n",
       "      <td>2020-08-05 09:52:30</td>\n",
       "      <td>59.919139</td>\n",
       "      <td>5.997469</td>\n",
       "      <td>590.241211</td>\n",
       "      <td>0.000000</td>\n",
       "      <td>28.045646</td>\n",
       "      <td>47.466667</td>\n",
       "      <td>38.0</td>\n",
       "      <td>2020-08-05</td>\n",
       "      <td>2020-08-05 16:34:21</td>\n",
       "      <td>37</td>\n",
       "      <td>44.0</td>\n",
       "      <td>4.0</td>\n",
       "      <td>7.0</td>\n",
       "      <td>1.0</td>\n",
       "      <td>1.0</td>\n",
       "      <td>0</td>\n",
       "      <td>1</td>\n",
       "      <td>1</td>\n",
       "      <td>0</td>\n",
       "    </tr>\n",
       "    <tr>\n",
       "      <th>2</th>\n",
       "      <td>745vq78e</td>\n",
       "      <td>2020-06-15 03:45:00</td>\n",
       "      <td>2020-06-15 10:02:30</td>\n",
       "      <td>241.392272</td>\n",
       "      <td>3.170915</td>\n",
       "      <td>1487.851814</td>\n",
       "      <td>17.101568</td>\n",
       "      <td>26.892072</td>\n",
       "      <td>40.281667</td>\n",
       "      <td>47.0</td>\n",
       "      <td>2020-06-15</td>\n",
       "      <td>2020-06-15 16:32:19</td>\n",
       "      <td>55</td>\n",
       "      <td>5.0</td>\n",
       "      <td>5.5</td>\n",
       "      <td>0.0</td>\n",
       "      <td>0.0</td>\n",
       "      <td>2.0</td>\n",
       "      <td>0</td>\n",
       "      <td>1</td>\n",
       "      <td>1</td>\n",
       "      <td>1</td>\n",
       "    </tr>\n",
       "    <tr>\n",
       "      <th>3</th>\n",
       "      <td>745vq78e</td>\n",
       "      <td>2020-06-19 05:00:00</td>\n",
       "      <td>2020-06-19 12:27:30</td>\n",
       "      <td>352.362719</td>\n",
       "      <td>3.085837</td>\n",
       "      <td>1497.211708</td>\n",
       "      <td>23.513718</td>\n",
       "      <td>27.666598</td>\n",
       "      <td>40.117544</td>\n",
       "      <td>47.0</td>\n",
       "      <td>2020-06-19</td>\n",
       "      <td>2020-06-19 12:31:11</td>\n",
       "      <td>55</td>\n",
       "      <td>5.0</td>\n",
       "      <td>6.6</td>\n",
       "      <td>0.0</td>\n",
       "      <td>1.0</td>\n",
       "      <td>2.0</td>\n",
       "      <td>0</td>\n",
       "      <td>1</td>\n",
       "      <td>1</td>\n",
       "      <td>1</td>\n",
       "    </tr>\n",
       "    <tr>\n",
       "      <th>4</th>\n",
       "      <td>745vq78e</td>\n",
       "      <td>2020-06-21 05:31:00</td>\n",
       "      <td>2020-06-21 11:11:30</td>\n",
       "      <td>170.356582</td>\n",
       "      <td>2.940209</td>\n",
       "      <td>1688.836099</td>\n",
       "      <td>4.212862</td>\n",
       "      <td>27.457523</td>\n",
       "      <td>40.273333</td>\n",
       "      <td>47.0</td>\n",
       "      <td>2020-06-21</td>\n",
       "      <td>2020-06-21 23:38:53</td>\n",
       "      <td>55</td>\n",
       "      <td>5.0</td>\n",
       "      <td>5.0</td>\n",
       "      <td>0.0</td>\n",
       "      <td>0.0</td>\n",
       "      <td>2.0</td>\n",
       "      <td>0</td>\n",
       "      <td>1</td>\n",
       "      <td>1</td>\n",
       "      <td>1</td>\n",
       "    </tr>\n",
       "  </tbody>\n",
       "</table>\n",
       "</div>"
      ],
      "text/plain": [
       "      beiwe          start_time            end_time  tvoc_median  co_median  \\\n",
       "0  4i7679py 2020-07-22 06:08:00 2020-07-22 09:46:30    87.556903   6.128722   \n",
       "1  4i7679py 2020-08-05 05:02:30 2020-08-05 09:52:30    59.919139   5.997469   \n",
       "2  745vq78e 2020-06-15 03:45:00 2020-06-15 10:02:30   241.392272   3.170915   \n",
       "3  745vq78e 2020-06-19 05:00:00 2020-06-19 12:27:30   352.362719   3.085837   \n",
       "4  745vq78e 2020-06-21 05:31:00 2020-06-21 11:11:30   170.356582   2.940209   \n",
       "\n",
       "    co2_median  pm2p5_mass_median  temperature_c_median  rh_median  \\\n",
       "0   634.789367           0.000000             28.045646  49.836667   \n",
       "1   590.241211           0.000000             28.045646  47.466667   \n",
       "2  1487.851814          17.101568             26.892072  40.281667   \n",
       "3  1497.211708          23.513718             27.666598  40.117544   \n",
       "4  1688.836099           4.212862             27.457523  40.273333   \n",
       "\n",
       "   fitbit_median   end_date           timestamp  redcap  beacon  tst  sol  \\\n",
       "0           38.0 2020-07-22 2020-07-22 11:29:58      37    44.0  3.0  5.0   \n",
       "1           38.0 2020-08-05 2020-08-05 16:34:21      37    44.0  4.0  7.0   \n",
       "2           47.0 2020-06-15 2020-06-15 16:32:19      55     5.0  5.5  0.0   \n",
       "3           47.0 2020-06-19 2020-06-19 12:31:11      55     5.0  6.6  0.0   \n",
       "4           47.0 2020-06-21 2020-06-21 23:38:53      55     5.0  5.0  0.0   \n",
       "\n",
       "   naw  restful  tst_binary  sol_binary  naw_binary  restful_binary  \n",
       "0  2.0      0.0           0           1           0               0  \n",
       "1  1.0      1.0           0           1           1               0  \n",
       "2  0.0      2.0           0           1           1               1  \n",
       "3  1.0      2.0           0           1           1               1  \n",
       "4  0.0      2.0           0           1           1               1  "
      ]
     },
     "execution_count": 31,
     "metadata": {},
     "output_type": "execute_result"
    }
   ],
   "source": [
    "comb = ieq.merge(right=srsq,on=[\"beiwe\",\"end_date\"])\n",
    "comb.head()"
   ]
  },
  {
   "cell_type": "code",
   "execution_count": 21,
   "metadata": {},
   "outputs": [],
   "source": [
    "def plot_feature_relationships(df,iaq_p1=\"co2\",iaq_p2=\"co\",target=\"tst\",save=False):\n",
    "    \"\"\"\n",
    "    Plots the relationship between three features\n",
    "    \n",
    "    Parameters\n",
    "    ----------\n",
    "    \n",
    "    Returns\n",
    "    -------\n",
    "    <void>\n",
    "    \"\"\"\n",
    "    # defining arrays\n",
    "    x = df.loc[:,f\"{iaq_p1}_median\"]\n",
    "    y = df.loc[:,f\"{iaq_p2}_median\"]\n",
    "    z = df.loc[:,f\"{target}_binary\"]\n",
    "    \n",
    "    fig, ax = plt.subplots(frameon=False)\n",
    "    fig.set_size_inches(6,6)\n",
    "    \n",
    "    im0=ax.scatter(x[z==0], y[z==0], alpha=0.6, marker='o',s=100,color=\"cornflowerblue\",edgecolor=\"black\",label = 'Class 0')\n",
    "    im=ax.scatter(x[z==1], y[z==1], alpha=0.6,marker='^',s=100,color=\"firebrick\",edgecolor=\"black\", label = 'Class 1')\n",
    "    \n",
    "    ax.set_xlabel(f'{visualize.get_label(iaq_p1)} ({visualize.get_units(iaq_p1)})',fontsize=18)\n",
    "    ax.set_ylabel(f'{visualize.get_label(iaq_p2)} ({visualize.get_units(iaq_p2)})',fontsize=18)\n",
    "    ax.legend([im0,im],[\"Class 0\",\"Class 1\"],fontsize=18,loc='upper right',frameon=False)\n",
    "    ax.tick_params(axis='both', which='major', labelsize=14)\n",
    "    \n",
    "    for loc in [\"top\",\"right\"]:\n",
    "        ax.spines[loc].set_visible(False)\n",
    "    \n",
    "    if save:\n",
    "        plt.savefig(f\"../reports/figures/prediction/sleep_quality-feature_relationship-{iaq_p1}-{iaq_p2}-{target}.pdf\",bbox_inches=\"tight\")\n",
    "    \n",
    "    plt.show()\n",
    "    plt.close()"
   ]
  },
  {
   "cell_type": "code",
   "execution_count": 22,
   "metadata": {},
   "outputs": [
    {
     "ename": "NameError",
     "evalue": "name 'comb' is not defined",
     "output_type": "error",
     "traceback": [
      "\u001b[0;31m---------------------------------------------------------------------------\u001b[0m",
      "\u001b[0;31mNameError\u001b[0m                                 Traceback (most recent call last)",
      "\u001b[0;32m<ipython-input-22-5d1e57558e3a>\u001b[0m in \u001b[0;36m<module>\u001b[0;34m\u001b[0m\n\u001b[0;32m----> 1\u001b[0;31m \u001b[0mplot_feature_relationships\u001b[0m\u001b[0;34m(\u001b[0m\u001b[0mcomb\u001b[0m\u001b[0;34m,\u001b[0m\u001b[0;34m\"pm2p5_mass\"\u001b[0m\u001b[0;34m,\u001b[0m\u001b[0;34m\"tvoc\"\u001b[0m\u001b[0;34m)\u001b[0m\u001b[0;34m\u001b[0m\u001b[0;34m\u001b[0m\u001b[0m\n\u001b[0m",
      "\u001b[0;31mNameError\u001b[0m: name 'comb' is not defined"
     ]
    }
   ],
   "source": [
    "plot_feature_relationships(comb,\"pm2p5_mass\",\"tvoc\")"
   ]
  },
  {
   "cell_type": "code",
   "execution_count": 23,
   "metadata": {},
   "outputs": [
    {
     "ename": "NameError",
     "evalue": "name 'comb' is not defined",
     "output_type": "error",
     "traceback": [
      "\u001b[0;31m---------------------------------------------------------------------------\u001b[0m",
      "\u001b[0;31mNameError\u001b[0m                                 Traceback (most recent call last)",
      "\u001b[0;32m<ipython-input-23-a99bd62af358>\u001b[0m in \u001b[0;36m<module>\u001b[0;34m\u001b[0m\n\u001b[0;32m----> 1\u001b[0;31m \u001b[0mplot_feature_relationships\u001b[0m\u001b[0;34m(\u001b[0m\u001b[0mcomb\u001b[0m\u001b[0;34m,\u001b[0m\u001b[0;34m\"rh\"\u001b[0m\u001b[0;34m,\u001b[0m\u001b[0;34m\"co2\"\u001b[0m\u001b[0;34m,\u001b[0m\u001b[0;34m\"sol\"\u001b[0m\u001b[0;34m)\u001b[0m\u001b[0;34m\u001b[0m\u001b[0;34m\u001b[0m\u001b[0m\n\u001b[0m",
      "\u001b[0;31mNameError\u001b[0m: name 'comb' is not defined"
     ]
    }
   ],
   "source": [
    "plot_feature_relationships(comb,\"rh\",\"co2\",\"sol\")"
   ]
  },
  {
   "cell_type": "code",
   "execution_count": 24,
   "metadata": {},
   "outputs": [
    {
     "ename": "NameError",
     "evalue": "name 'comb' is not defined",
     "output_type": "error",
     "traceback": [
      "\u001b[0;31m---------------------------------------------------------------------------\u001b[0m",
      "\u001b[0;31mNameError\u001b[0m                                 Traceback (most recent call last)",
      "\u001b[0;32m<ipython-input-24-208042d36955>\u001b[0m in \u001b[0;36m<module>\u001b[0;34m\u001b[0m\n\u001b[0;32m----> 1\u001b[0;31m \u001b[0mplot_feature_relationships\u001b[0m\u001b[0;34m(\u001b[0m\u001b[0mcomb\u001b[0m\u001b[0;34m,\u001b[0m\u001b[0;34m\"co\"\u001b[0m\u001b[0;34m,\u001b[0m\u001b[0;34m\"temperature_c\"\u001b[0m\u001b[0;34m,\u001b[0m\u001b[0;34m\"naw\"\u001b[0m\u001b[0;34m)\u001b[0m\u001b[0;34m\u001b[0m\u001b[0;34m\u001b[0m\u001b[0m\n\u001b[0m",
      "\u001b[0;31mNameError\u001b[0m: name 'comb' is not defined"
     ]
    }
   ],
   "source": [
    "plot_feature_relationships(comb,\"co\",\"temperature_c\",\"naw\")"
   ]
  },
  {
   "cell_type": "code",
   "execution_count": 25,
   "metadata": {},
   "outputs": [
    {
     "ename": "NameError",
     "evalue": "name 'comb' is not defined",
     "output_type": "error",
     "traceback": [
      "\u001b[0;31m---------------------------------------------------------------------------\u001b[0m",
      "\u001b[0;31mNameError\u001b[0m                                 Traceback (most recent call last)",
      "\u001b[0;32m<ipython-input-25-4242f7060308>\u001b[0m in \u001b[0;36m<module>\u001b[0;34m\u001b[0m\n\u001b[0;32m----> 1\u001b[0;31m \u001b[0mplot_feature_relationships\u001b[0m\u001b[0;34m(\u001b[0m\u001b[0mcomb\u001b[0m\u001b[0;34m,\u001b[0m\u001b[0;34m\"pm2p5_mass\"\u001b[0m\u001b[0;34m,\u001b[0m\u001b[0;34m\"tvoc\"\u001b[0m\u001b[0;34m,\u001b[0m\u001b[0;34m\"restful\"\u001b[0m\u001b[0;34m)\u001b[0m\u001b[0;34m\u001b[0m\u001b[0;34m\u001b[0m\u001b[0m\n\u001b[0m",
      "\u001b[0;31mNameError\u001b[0m: name 'comb' is not defined"
     ]
    }
   ],
   "source": [
    "plot_feature_relationships(comb,\"pm2p5_mass\",\"tvoc\",\"restful\")"
   ]
  },
  {
   "cell_type": "code",
   "execution_count": 39,
   "metadata": {},
   "outputs": [],
   "source": [
    "def plot_feature_relationships_binary(df,iaq_p1=\"co2\",iaq_p2=\"co\",target=\"tst\",save=False):\n",
    "    \"\"\"\n",
    "    Plots the relationship between three features\n",
    "    \n",
    "    Parameters\n",
    "    ----------\n",
    "    \n",
    "    Returns\n",
    "    -------\n",
    "    <void>\n",
    "    \"\"\"\n",
    "    #df_important = df[[f\"{iaq_p1}_median_binary\",f\"{iaq_p2}_median_binary\",f\"{target}_binary\"]]\n",
    "    class0 = []\n",
    "    class1 = []\n",
    "    for i in [1,0]:\n",
    "        for j in [1,0]:\n",
    "            reduced = df[(df[f\"{iaq_p1}_median_binary\"] == i) & (df[f\"{iaq_p2}_median_binary\"] == j)]\n",
    "            class0.append(len(reduced[reduced[f\"{target}_binary\"] == 0]))#/len(reduced)*100)\n",
    "            class1.append(len(reduced[reduced[f\"{target}_binary\"] == 1]))#/len(reduced)*100)\n",
    "    \n",
    "    labels = [\"$\\ell$, $\\ell$\",\"$\\ell$, h\",\"h, $\\ell$\",\"h, h\",]\n",
    "    \n",
    "    fig, ax = plt.subplots(frameon=False)\n",
    "    fig.set_size_inches(6,6)\n",
    "    \n",
    "    im0=ax.bar(labels,class0,color=\"firebrick\",edgecolor=\"black\",label = 'Poor')\n",
    "    im=ax.bar(labels,class1,bottom=class0,color=\"cornflowerblue\",edgecolor=\"black\", label = 'Satisfactory')\n",
    "    \n",
    "    ax.set_xlabel(f'{visualize.get_label(iaq_p1)}, {visualize.get_label(iaq_p2)}',fontsize=18)\n",
    "    ax.set_ylabel(f'Count',fontsize=18)\n",
    "    #ax.set_ylim([0,100])\n",
    "    ax.legend([im0,im],[\"Poor\",\"Satisfactory\"],title=target.upper(),title_fontsize=16,fontsize=14,loc='upper center',bbox_to_anchor=(1.2,0.9),frameon=False)\n",
    "    ax.tick_params(axis='both', which='major', labelsize=14)\n",
    "    \n",
    "    for loc in [\"top\",\"right\"]:\n",
    "        ax.spines[loc].set_visible(False)\n",
    "    \n",
    "    if save:\n",
    "        plt.savefig(f\"../reports/figures/prediction/sleep_quality-feature_relationship-{iaq_p1}-{iaq_p2}-{target}.pdf\",bbox_inches=\"tight\")\n",
    "    \n",
    "    plt.show()\n",
    "    plt.close()"
   ]
  },
  {
   "cell_type": "code",
   "execution_count": 40,
   "metadata": {},
   "outputs": [],
   "source": [
    "comb2 = ieq_bi.merge(right=srsq,on=[\"beiwe\",\"end_date\"])"
   ]
  },
  {
   "cell_type": "code",
   "execution_count": 41,
   "metadata": {},
   "outputs": [
    {
     "data": {
      "image/png": "[encoded data removed]",
      "text/plain": [
       "<Figure size 432x432 with 1 Axes>"
      ]
     },
     "metadata": {
      "needs_background": "light"
     },
     "output_type": "display_data"
    }
   ],
   "source": [
    "plot_feature_relationships_binary(comb2,\"pm2p5_mass\",\"tvoc\",\"tst\",save=True)"
   ]
  },
  {
   "cell_type": "code",
   "execution_count": 44,
   "metadata": {},
   "outputs": [
    {
     "data": {
      "image/png": "[encoded data removed]",
      "text/plain": [
       "<Figure size 432x432 with 1 Axes>"
      ]
     },
     "metadata": {
      "needs_background": "light"
     },
     "output_type": "display_data"
    }
   ],
   "source": [
    "plot_feature_relationships_binary(comb2,\"rh\",\"co2\",\"sol\",save=True)"
   ]
  },
  {
   "cell_type": "code",
   "execution_count": 45,
   "metadata": {},
   "outputs": [
    {
     "data": {
      "image/png": "[encoded data removed]",
      "text/plain": [
       "<Figure size 432x432 with 1 Axes>"
      ]
     },
     "metadata": {
      "needs_background": "light"
     },
     "output_type": "display_data"
    }
   ],
   "source": [
    "plot_feature_relationships_binary(comb2,\"co\",\"temperature_c\",\"naw\",save=True)"
   ]
  },
  {
   "cell_type": "code",
   "execution_count": 46,
   "metadata": {},
   "outputs": [
    {
     "data": {
      "image/png": "[encoded data removed]",
      "text/plain": [
       "<Figure size 432x432 with 1 Axes>"
      ]
     },
     "metadata": {
      "needs_background": "light"
     },
     "output_type": "display_data"
    }
   ],
   "source": [
    "plot_feature_relationships_binary(comb2,\"pm2p5_mass\",\"tvoc\",\"restful\",save=True)"
   ]
  },
  {
   "cell_type": "code",
   "execution_count": null,
   "metadata": {},
   "outputs": [],
   "source": []
  }
 ],
 "metadata": {
  "kernelspec": {
   "display_name": "Python 3",
   "language": "python",
   "name": "python3"
  },
  "language_info": {
   "codemirror_mode": {
    "name": "ipython",
    "version": 3
   },
   "file_extension": ".py",
   "mimetype": "text/x-python",
   "name": "python",
   "nbconvert_exporter": "python",
   "pygments_lexer": "ipython3",
   "version": "3.8.8"
  },
  "toc": {
   "base_numbering": 1,
   "nav_menu": {},
   "number_sections": false,
   "sideBar": false,
   "skip_h1_title": false,
   "title_cell": "Table of Contents",
   "title_sidebar": "Contents",
   "toc_cell": false,
   "toc_position": {},
   "toc_section_display": false,
   "toc_window_display": false
  }
 },
 "nbformat": 4,
 "nbformat_minor": 4
}
