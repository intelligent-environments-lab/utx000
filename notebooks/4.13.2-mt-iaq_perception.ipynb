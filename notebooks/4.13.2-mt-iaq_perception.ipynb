{
 "cells": [
  {
   "cell_type": "markdown",
   "metadata": {
    "id": "tznNec-stI0V"
   },
   "source": [
    "# Predicting Perception of IAQ\n",
    "Adaptation of Mengjia Tang's analysis"
   ]
  },
  {
   "cell_type": "markdown",
   "metadata": {
    "id": "9F5Qp4E1tI0Y"
   },
   "source": [
    "# Library Import"
   ]
  },
  {
   "cell_type": "markdown",
   "metadata": {},
   "source": [
    "## Basics"
   ]
  },
  {
   "cell_type": "code",
   "execution_count": 1,
   "metadata": {
    "id": "IzJ7UKmttI0Y"
   },
   "outputs": [],
   "source": [
    "import pandas as pd\n",
    "import seaborn as sns\n",
    "import numpy as np\n",
    "import matplotlib.pyplot as plt\n",
    "import matplotlib\n",
    "import time\n",
    "import random"
   ]
  },
  {
   "cell_type": "markdown",
   "metadata": {},
   "source": [
    "## SkLearn"
   ]
  },
  {
   "cell_type": "code",
   "execution_count": 2,
   "metadata": {},
   "outputs": [],
   "source": [
    "from sklearn.model_selection import train_test_split, GridSearchCV, cross_val_score, StratifiedKFold, KFold\n",
    "from sklearn import preprocessing\n",
    "from sklearn.impute import SimpleImputer\n",
    "from sklearn.cluster import KMeans\n",
    "from sklearn import tree\n",
    "from sklearn.tree import DecisionTreeClassifier\n",
    "from sklearn.neighbors import KNeighborsClassifier\n",
    "from sklearn.svm import SVC\n",
    "from sklearn.neural_network import MLPClassifier\n",
    "from sklearn.naive_bayes import GaussianNB\n",
    "from sklearn.linear_model import LinearRegression, LogisticRegression, LogisticRegressionCV\n",
    "from sklearn.ensemble import RandomForestClassifier\n",
    "from sklearn.metrics import accuracy_score, cohen_kappa_score, confusion_matrix, precision_recall_curve, f1_score, auc"
   ]
  },
  {
   "cell_type": "markdown",
   "metadata": {},
   "source": [
    "## Other"
   ]
  },
  {
   "cell_type": "code",
   "execution_count": 3,
   "metadata": {},
   "outputs": [],
   "source": [
    "import shap\n",
    "%load_ext autoreload\n",
    "%autoreload 2"
   ]
  },
  {
   "cell_type": "markdown",
   "metadata": {},
   "source": [
    "# Data Summary"
   ]
  },
  {
   "cell_type": "code",
   "execution_count": 4,
   "metadata": {
    "id": "8SeHgSaKtI0Y"
   },
   "outputs": [
    {
     "data": {
      "text/html": [
       "<div>\n",
       "<style scoped>\n",
       "    .dataframe tbody tr th:only-of-type {\n",
       "        vertical-align: middle;\n",
       "    }\n",
       "\n",
       "    .dataframe tbody tr th {\n",
       "        vertical-align: top;\n",
       "    }\n",
       "\n",
       "    .dataframe thead th {\n",
       "        text-align: right;\n",
       "    }\n",
       "</style>\n",
       "<table border=\"1\" class=\"dataframe\">\n",
       "  <thead>\n",
       "    <tr style=\"text-align: right;\">\n",
       "      <th></th>\n",
       "      <th>Home_ID</th>\n",
       "      <th>FloorArea_sqft</th>\n",
       "      <th>CeilingHgt_ft</th>\n",
       "      <th>N_Bedrm</th>\n",
       "      <th>N_FullBath</th>\n",
       "      <th>N_HalfBath</th>\n",
       "      <th>Oven_Fuel</th>\n",
       "      <th>Num_Occupant</th>\n",
       "      <th>WHV_AsFound</th>\n",
       "      <th>AF1_Condition</th>\n",
       "      <th>...</th>\n",
       "      <th>NO2_AQL_IN1</th>\n",
       "      <th>FRM_ADJ_IN1</th>\n",
       "      <th>FRM_ADJ_BR1</th>\n",
       "      <th>T_ETC_IN1</th>\n",
       "      <th>RH_ETC_IN1</th>\n",
       "      <th>FRM_IN_ppb</th>\n",
       "      <th>NO2_IAQm_ppb</th>\n",
       "      <th>NOx_IAQm_ppb</th>\n",
       "      <th>Satisfaction_3points</th>\n",
       "      <th>Satisfaction_2points</th>\n",
       "    </tr>\n",
       "  </thead>\n",
       "  <tbody>\n",
       "    <tr>\n",
       "      <th>0</th>\n",
       "      <td>1</td>\n",
       "      <td>2001</td>\n",
       "      <td>9</td>\n",
       "      <td>3</td>\n",
       "      <td>2</td>\n",
       "      <td>1</td>\n",
       "      <td>1</td>\n",
       "      <td>4.0</td>\n",
       "      <td>0.0</td>\n",
       "      <td>3.0</td>\n",
       "      <td>...</td>\n",
       "      <td>0.021302</td>\n",
       "      <td>10.522139</td>\n",
       "      <td>12.337049</td>\n",
       "      <td>23.269313</td>\n",
       "      <td>39.705435</td>\n",
       "      <td>14.252478</td>\n",
       "      <td>4.874853</td>\n",
       "      <td>20.336480</td>\n",
       "      <td>0</td>\n",
       "      <td>0</td>\n",
       "    </tr>\n",
       "    <tr>\n",
       "      <th>1</th>\n",
       "      <td>3</td>\n",
       "      <td>3104</td>\n",
       "      <td>10</td>\n",
       "      <td>4</td>\n",
       "      <td>3</td>\n",
       "      <td>0</td>\n",
       "      <td>0</td>\n",
       "      <td>2.0</td>\n",
       "      <td>1.0</td>\n",
       "      <td>1.0</td>\n",
       "      <td>...</td>\n",
       "      <td>0.048584</td>\n",
       "      <td>39.239283</td>\n",
       "      <td>42.685868</td>\n",
       "      <td>24.420784</td>\n",
       "      <td>45.021151</td>\n",
       "      <td>NaN</td>\n",
       "      <td>NaN</td>\n",
       "      <td>NaN</td>\n",
       "      <td>1</td>\n",
       "      <td>1</td>\n",
       "    </tr>\n",
       "    <tr>\n",
       "      <th>2</th>\n",
       "      <td>4</td>\n",
       "      <td>3248</td>\n",
       "      <td>11</td>\n",
       "      <td>3</td>\n",
       "      <td>3</td>\n",
       "      <td>1</td>\n",
       "      <td>0</td>\n",
       "      <td>2.0</td>\n",
       "      <td>0.0</td>\n",
       "      <td>1.0</td>\n",
       "      <td>...</td>\n",
       "      <td>0.153633</td>\n",
       "      <td>16.158558</td>\n",
       "      <td>16.637428</td>\n",
       "      <td>20.264354</td>\n",
       "      <td>45.067446</td>\n",
       "      <td>20.250339</td>\n",
       "      <td>1.708403</td>\n",
       "      <td>2.617361</td>\n",
       "      <td>1</td>\n",
       "      <td>1</td>\n",
       "    </tr>\n",
       "    <tr>\n",
       "      <th>3</th>\n",
       "      <td>5</td>\n",
       "      <td>2317</td>\n",
       "      <td>9</td>\n",
       "      <td>4</td>\n",
       "      <td>2</td>\n",
       "      <td>0</td>\n",
       "      <td>1</td>\n",
       "      <td>3.0</td>\n",
       "      <td>0.0</td>\n",
       "      <td>1.0</td>\n",
       "      <td>...</td>\n",
       "      <td>0.049589</td>\n",
       "      <td>23.635695</td>\n",
       "      <td>27.127771</td>\n",
       "      <td>25.372127</td>\n",
       "      <td>37.459627</td>\n",
       "      <td>NaN</td>\n",
       "      <td>2.776921</td>\n",
       "      <td>7.139446</td>\n",
       "      <td>0</td>\n",
       "      <td>0</td>\n",
       "    </tr>\n",
       "    <tr>\n",
       "      <th>4</th>\n",
       "      <td>6</td>\n",
       "      <td>3108</td>\n",
       "      <td>11</td>\n",
       "      <td>3</td>\n",
       "      <td>2</td>\n",
       "      <td>1</td>\n",
       "      <td>0</td>\n",
       "      <td>2.0</td>\n",
       "      <td>0.0</td>\n",
       "      <td>1.0</td>\n",
       "      <td>...</td>\n",
       "      <td>0.250460</td>\n",
       "      <td>27.351496</td>\n",
       "      <td>43.769564</td>\n",
       "      <td>25.585127</td>\n",
       "      <td>38.000461</td>\n",
       "      <td>44.742541</td>\n",
       "      <td>5.076926</td>\n",
       "      <td>25.850207</td>\n",
       "      <td>0</td>\n",
       "      <td>0</td>\n",
       "    </tr>\n",
       "  </tbody>\n",
       "</table>\n",
       "<p>5 rows × 29 columns</p>\n",
       "</div>"
      ],
      "text/plain": [
       "   Home_ID  FloorArea_sqft  CeilingHgt_ft  N_Bedrm   N_FullBath  N_HalfBath  \\\n",
       "0        1            2001              9         3           2           1   \n",
       "1        3            3104             10         4           3           0   \n",
       "2        4            3248             11         3           3           1   \n",
       "3        5            2317              9         4           2           0   \n",
       "4        6            3108             11         3           2           1   \n",
       "\n",
       "   Oven_Fuel  Num_Occupant  WHV_AsFound  AF1_Condition  ...  NO2_AQL_IN1  \\\n",
       "0          1           4.0          0.0            3.0  ...     0.021302   \n",
       "1          0           2.0          1.0            1.0  ...     0.048584   \n",
       "2          0           2.0          0.0            1.0  ...     0.153633   \n",
       "3          1           3.0          0.0            1.0  ...     0.049589   \n",
       "4          0           2.0          0.0            1.0  ...     0.250460   \n",
       "\n",
       "   FRM_ADJ_IN1  FRM_ADJ_BR1  T_ETC_IN1  RH_ETC_IN1  FRM_IN_ppb  NO2_IAQm_ppb  \\\n",
       "0    10.522139    12.337049  23.269313   39.705435   14.252478      4.874853   \n",
       "1    39.239283    42.685868  24.420784   45.021151         NaN           NaN   \n",
       "2    16.158558    16.637428  20.264354   45.067446   20.250339      1.708403   \n",
       "3    23.635695    27.127771  25.372127   37.459627         NaN      2.776921   \n",
       "4    27.351496    43.769564  25.585127   38.000461   44.742541      5.076926   \n",
       "\n",
       "   NOx_IAQm_ppb  Satisfaction_3points  Satisfaction_2points  \n",
       "0     20.336480                     0                     0  \n",
       "1           NaN                     1                     1  \n",
       "2      2.617361                     1                     1  \n",
       "3      7.139446                     0                     0  \n",
       "4     25.850207                     0                     0  \n",
       "\n",
       "[5 rows x 29 columns]"
      ]
     },
     "execution_count": 4,
     "metadata": {},
     "output_type": "execute_result"
    }
   ],
   "source": [
    "df = pd.read_csv(\"../data/processed/iaq_perception-mt.csv\")\n",
    "df.head()"
   ]
  },
  {
   "cell_type": "code",
   "execution_count": 5,
   "metadata": {},
   "outputs": [],
   "source": [
    "# Imputation with median\n",
    "imp_median = SimpleImputer(missing_values=np.nan, strategy='median')\n",
    "df_m = pd.DataFrame(data=imp_median.fit_transform(df),columns=df.columns)"
   ]
  },
  {
   "cell_type": "markdown",
   "metadata": {},
   "source": [
    "## Building Characteristics"
   ]
  },
  {
   "cell_type": "code",
   "execution_count": 6,
   "metadata": {},
   "outputs": [
    {
     "data": {
      "text/html": [
       "<div>\n",
       "<style scoped>\n",
       "    .dataframe tbody tr th:only-of-type {\n",
       "        vertical-align: middle;\n",
       "    }\n",
       "\n",
       "    .dataframe tbody tr th {\n",
       "        vertical-align: top;\n",
       "    }\n",
       "\n",
       "    .dataframe thead th {\n",
       "        text-align: right;\n",
       "    }\n",
       "</style>\n",
       "<table border=\"1\" class=\"dataframe\">\n",
       "  <thead>\n",
       "    <tr style=\"text-align: right;\">\n",
       "      <th></th>\n",
       "      <th>FloorArea_sqft</th>\n",
       "      <th>CeilingHgt_ft</th>\n",
       "      <th>N_Bedrm</th>\n",
       "      <th>N_FullBath</th>\n",
       "      <th>N_HalfBath</th>\n",
       "      <th>Oven_Fuel</th>\n",
       "      <th>Num_Occupant</th>\n",
       "      <th>WHV_AsFound</th>\n",
       "      <th>AF1_Condition</th>\n",
       "      <th>RHD_Grease_Screen_Condition</th>\n",
       "      <th>RHD_Fan_Airflow_Adjusted_Low_cfm</th>\n",
       "      <th>RHD_Fan_Airflow_Adjusted_High_cfm</th>\n",
       "      <th>EXF_BA1_Measured_cfm</th>\n",
       "      <th>Depressurization_Q50_cfm</th>\n",
       "    </tr>\n",
       "  </thead>\n",
       "  <tbody>\n",
       "    <tr>\n",
       "      <th>0</th>\n",
       "      <td>2001.0</td>\n",
       "      <td>9.0</td>\n",
       "      <td>3.0</td>\n",
       "      <td>2.0</td>\n",
       "      <td>1.0</td>\n",
       "      <td>1.0</td>\n",
       "      <td>4.0</td>\n",
       "      <td>0.0</td>\n",
       "      <td>3.0</td>\n",
       "      <td>2.0</td>\n",
       "      <td>88.505747</td>\n",
       "      <td>133.333333</td>\n",
       "      <td>91.0</td>\n",
       "      <td>1006.0</td>\n",
       "    </tr>\n",
       "    <tr>\n",
       "      <th>1</th>\n",
       "      <td>3104.0</td>\n",
       "      <td>10.0</td>\n",
       "      <td>4.0</td>\n",
       "      <td>3.0</td>\n",
       "      <td>0.0</td>\n",
       "      <td>0.0</td>\n",
       "      <td>2.0</td>\n",
       "      <td>1.0</td>\n",
       "      <td>1.0</td>\n",
       "      <td>1.0</td>\n",
       "      <td>107.000000</td>\n",
       "      <td>326.000000</td>\n",
       "      <td>49.0</td>\n",
       "      <td>1548.5</td>\n",
       "    </tr>\n",
       "    <tr>\n",
       "      <th>2</th>\n",
       "      <td>3248.0</td>\n",
       "      <td>11.0</td>\n",
       "      <td>3.0</td>\n",
       "      <td>3.0</td>\n",
       "      <td>1.0</td>\n",
       "      <td>0.0</td>\n",
       "      <td>2.0</td>\n",
       "      <td>0.0</td>\n",
       "      <td>1.0</td>\n",
       "      <td>2.0</td>\n",
       "      <td>310.000000</td>\n",
       "      <td>1046.000000</td>\n",
       "      <td>101.0</td>\n",
       "      <td>2224.0</td>\n",
       "    </tr>\n",
       "    <tr>\n",
       "      <th>3</th>\n",
       "      <td>2317.0</td>\n",
       "      <td>9.0</td>\n",
       "      <td>4.0</td>\n",
       "      <td>2.0</td>\n",
       "      <td>0.0</td>\n",
       "      <td>1.0</td>\n",
       "      <td>3.0</td>\n",
       "      <td>0.0</td>\n",
       "      <td>1.0</td>\n",
       "      <td>1.0</td>\n",
       "      <td>81.609195</td>\n",
       "      <td>143.678161</td>\n",
       "      <td>81.5</td>\n",
       "      <td>1548.5</td>\n",
       "    </tr>\n",
       "    <tr>\n",
       "      <th>4</th>\n",
       "      <td>3108.0</td>\n",
       "      <td>11.0</td>\n",
       "      <td>3.0</td>\n",
       "      <td>2.0</td>\n",
       "      <td>1.0</td>\n",
       "      <td>0.0</td>\n",
       "      <td>2.0</td>\n",
       "      <td>0.0</td>\n",
       "      <td>1.0</td>\n",
       "      <td>1.0</td>\n",
       "      <td>360.000000</td>\n",
       "      <td>806.000000</td>\n",
       "      <td>81.0</td>\n",
       "      <td>1548.5</td>\n",
       "    </tr>\n",
       "  </tbody>\n",
       "</table>\n",
       "</div>"
      ],
      "text/plain": [
       "   FloorArea_sqft  CeilingHgt_ft  N_Bedrm   N_FullBath  N_HalfBath  Oven_Fuel  \\\n",
       "0          2001.0            9.0       3.0         2.0         1.0        1.0   \n",
       "1          3104.0           10.0       4.0         3.0         0.0        0.0   \n",
       "2          3248.0           11.0       3.0         3.0         1.0        0.0   \n",
       "3          2317.0            9.0       4.0         2.0         0.0        1.0   \n",
       "4          3108.0           11.0       3.0         2.0         1.0        0.0   \n",
       "\n",
       "   Num_Occupant  WHV_AsFound  AF1_Condition  RHD_Grease_Screen_Condition  \\\n",
       "0           4.0          0.0            3.0                          2.0   \n",
       "1           2.0          1.0            1.0                          1.0   \n",
       "2           2.0          0.0            1.0                          2.0   \n",
       "3           3.0          0.0            1.0                          1.0   \n",
       "4           2.0          0.0            1.0                          1.0   \n",
       "\n",
       "   RHD_Fan_Airflow_Adjusted_Low_cfm  RHD_Fan_Airflow_Adjusted_High_cfm  \\\n",
       "0                         88.505747                         133.333333   \n",
       "1                        107.000000                         326.000000   \n",
       "2                        310.000000                        1046.000000   \n",
       "3                         81.609195                         143.678161   \n",
       "4                        360.000000                         806.000000   \n",
       "\n",
       "   EXF_BA1_Measured_cfm  Depressurization_Q50_cfm  \n",
       "0                  91.0                    1006.0  \n",
       "1                  49.0                    1548.5  \n",
       "2                 101.0                    2224.0  \n",
       "3                  81.5                    1548.5  \n",
       "4                  81.0                    1548.5  "
      ]
     },
     "execution_count": 6,
     "metadata": {},
     "output_type": "execute_result"
    }
   ],
   "source": [
    "X1 = df_m.iloc[:,1:15]\n",
    "X1.head()"
   ]
  },
  {
   "cell_type": "markdown",
   "metadata": {},
   "source": [
    "## Air Quality"
   ]
  },
  {
   "cell_type": "code",
   "execution_count": 7,
   "metadata": {},
   "outputs": [
    {
     "data": {
      "text/html": [
       "<div>\n",
       "<style scoped>\n",
       "    .dataframe tbody tr th:only-of-type {\n",
       "        vertical-align: middle;\n",
       "    }\n",
       "\n",
       "    .dataframe tbody tr th {\n",
       "        vertical-align: top;\n",
       "    }\n",
       "\n",
       "    .dataframe thead th {\n",
       "        text-align: right;\n",
       "    }\n",
       "</style>\n",
       "<table border=\"1\" class=\"dataframe\">\n",
       "  <thead>\n",
       "    <tr style=\"text-align: right;\">\n",
       "      <th></th>\n",
       "      <th>PM_MET_IN1</th>\n",
       "      <th>PM_MET_OUT</th>\n",
       "      <th>CO2_ETC_IN1</th>\n",
       "      <th>CO2_ETC_BR1</th>\n",
       "      <th>NO2_AQL_IN1</th>\n",
       "      <th>FRM_ADJ_IN1</th>\n",
       "      <th>FRM_ADJ_BR1</th>\n",
       "      <th>T_ETC_IN1</th>\n",
       "      <th>RH_ETC_IN1</th>\n",
       "      <th>FRM_IN_ppb</th>\n",
       "      <th>NO2_IAQm_ppb</th>\n",
       "      <th>NOx_IAQm_ppb</th>\n",
       "    </tr>\n",
       "  </thead>\n",
       "  <tbody>\n",
       "    <tr>\n",
       "      <th>0</th>\n",
       "      <td>2.011464</td>\n",
       "      <td>8.855427</td>\n",
       "      <td>640.476489</td>\n",
       "      <td>727.076213</td>\n",
       "      <td>0.021302</td>\n",
       "      <td>10.522139</td>\n",
       "      <td>12.337049</td>\n",
       "      <td>23.269313</td>\n",
       "      <td>39.705435</td>\n",
       "      <td>14.252478</td>\n",
       "      <td>4.874853</td>\n",
       "      <td>20.336480</td>\n",
       "    </tr>\n",
       "    <tr>\n",
       "      <th>1</th>\n",
       "      <td>5.959333</td>\n",
       "      <td>2.406069</td>\n",
       "      <td>830.593753</td>\n",
       "      <td>846.815114</td>\n",
       "      <td>0.048584</td>\n",
       "      <td>39.239283</td>\n",
       "      <td>42.685868</td>\n",
       "      <td>24.420784</td>\n",
       "      <td>45.021151</td>\n",
       "      <td>18.010887</td>\n",
       "      <td>5.502727</td>\n",
       "      <td>18.359575</td>\n",
       "    </tr>\n",
       "    <tr>\n",
       "      <th>2</th>\n",
       "      <td>11.291269</td>\n",
       "      <td>4.427615</td>\n",
       "      <td>512.227439</td>\n",
       "      <td>605.783042</td>\n",
       "      <td>0.153633</td>\n",
       "      <td>16.158558</td>\n",
       "      <td>16.637428</td>\n",
       "      <td>20.264354</td>\n",
       "      <td>45.067446</td>\n",
       "      <td>20.250339</td>\n",
       "      <td>1.708403</td>\n",
       "      <td>2.617361</td>\n",
       "    </tr>\n",
       "    <tr>\n",
       "      <th>3</th>\n",
       "      <td>1.074514</td>\n",
       "      <td>3.324214</td>\n",
       "      <td>671.966967</td>\n",
       "      <td>734.965862</td>\n",
       "      <td>0.049589</td>\n",
       "      <td>23.635695</td>\n",
       "      <td>27.127771</td>\n",
       "      <td>25.372127</td>\n",
       "      <td>37.459627</td>\n",
       "      <td>18.010887</td>\n",
       "      <td>2.776921</td>\n",
       "      <td>7.139446</td>\n",
       "    </tr>\n",
       "    <tr>\n",
       "      <th>4</th>\n",
       "      <td>3.883027</td>\n",
       "      <td>4.623322</td>\n",
       "      <td>603.374908</td>\n",
       "      <td>684.653495</td>\n",
       "      <td>0.250460</td>\n",
       "      <td>27.351496</td>\n",
       "      <td>43.769564</td>\n",
       "      <td>25.585127</td>\n",
       "      <td>38.000461</td>\n",
       "      <td>44.742541</td>\n",
       "      <td>5.076926</td>\n",
       "      <td>25.850207</td>\n",
       "    </tr>\n",
       "  </tbody>\n",
       "</table>\n",
       "</div>"
      ],
      "text/plain": [
       "   PM_MET_IN1  PM_MET_OUT  CO2_ETC_IN1  CO2_ETC_BR1  NO2_AQL_IN1  FRM_ADJ_IN1  \\\n",
       "0    2.011464    8.855427   640.476489   727.076213     0.021302    10.522139   \n",
       "1    5.959333    2.406069   830.593753   846.815114     0.048584    39.239283   \n",
       "2   11.291269    4.427615   512.227439   605.783042     0.153633    16.158558   \n",
       "3    1.074514    3.324214   671.966967   734.965862     0.049589    23.635695   \n",
       "4    3.883027    4.623322   603.374908   684.653495     0.250460    27.351496   \n",
       "\n",
       "   FRM_ADJ_BR1  T_ETC_IN1  RH_ETC_IN1  FRM_IN_ppb  NO2_IAQm_ppb  NOx_IAQm_ppb  \n",
       "0    12.337049  23.269313   39.705435   14.252478      4.874853     20.336480  \n",
       "1    42.685868  24.420784   45.021151   18.010887      5.502727     18.359575  \n",
       "2    16.637428  20.264354   45.067446   20.250339      1.708403      2.617361  \n",
       "3    27.127771  25.372127   37.459627   18.010887      2.776921      7.139446  \n",
       "4    43.769564  25.585127   38.000461   44.742541      5.076926     25.850207  "
      ]
     },
     "execution_count": 7,
     "metadata": {},
     "output_type": "execute_result"
    }
   ],
   "source": [
    "X2 = df_m.iloc[:,15:27]\n",
    "X2.head()"
   ]
  },
  {
   "cell_type": "markdown",
   "metadata": {},
   "source": [
    "## Target"
   ]
  },
  {
   "cell_type": "code",
   "execution_count": 8,
   "metadata": {},
   "outputs": [],
   "source": [
    "Y1 = df_m.iloc[:,28]"
   ]
  },
  {
   "cell_type": "markdown",
   "metadata": {},
   "source": [
    "---"
   ]
  },
  {
   "cell_type": "markdown",
   "metadata": {},
   "source": [
    "# Feature Selection"
   ]
  },
  {
   "cell_type": "code",
   "execution_count": 9,
   "metadata": {},
   "outputs": [],
   "source": [
    "def get_feature_importance(model,X_train,y_train):\n",
    "    \"\"\"\n",
    "    Gets a DataFrame of the feature importances\n",
    "    \"\"\"\n",
    "    try:\n",
    "        model.fit(X_train,y_train)\n",
    "        importances = pd.DataFrame(data={\n",
    "            'Feature': X_train.columns,\n",
    "            'Importance': model.feature_importances_\n",
    "        })\n",
    "        importances = importances.sort_values(by='Importance', ascending=False)\n",
    "        return importances\n",
    "    except:\n",
    "        print(\"Not a valid model\")\n",
    "        return"
   ]
  },
  {
   "cell_type": "markdown",
   "metadata": {},
   "source": [
    "## Standardizing Features"
   ]
  },
  {
   "cell_type": "code",
   "execution_count": 10,
   "metadata": {},
   "outputs": [],
   "source": [
    "def scale_x(x,verbose=False):\n",
    "    \"\"\"\n",
    "    Scales the given array\n",
    "    \"\"\"\n",
    "    # scaling\n",
    "    scaler = preprocessing.StandardScaler().fit(x)\n",
    "    X_scaled = scaler.transform(x)\n",
    "    \n",
    "    # checking\n",
    "    if verbose:\n",
    "        print(\"Should be approximately zero:\", X_scaled.mean(axis=0))\n",
    "        print(\"Should be approximately one:\",X_scaled.std(axis=0))\n",
    "    \n",
    "    return pd.DataFrame(data=X_scaled,columns=x.columns)"
   ]
  },
  {
   "cell_type": "markdown",
   "metadata": {},
   "source": [
    "## Getting Complete Featureset\n",
    "We include the features that Mengjia found relevant"
   ]
  },
  {
   "cell_type": "code",
   "execution_count": 11,
   "metadata": {},
   "outputs": [
    {
     "data": {
      "text/html": [
       "<div>\n",
       "<style scoped>\n",
       "    .dataframe tbody tr th:only-of-type {\n",
       "        vertical-align: middle;\n",
       "    }\n",
       "\n",
       "    .dataframe tbody tr th {\n",
       "        vertical-align: top;\n",
       "    }\n",
       "\n",
       "    .dataframe thead th {\n",
       "        text-align: right;\n",
       "    }\n",
       "</style>\n",
       "<table border=\"1\" class=\"dataframe\">\n",
       "  <thead>\n",
       "    <tr style=\"text-align: right;\">\n",
       "      <th></th>\n",
       "      <th>FloorArea_sqft</th>\n",
       "      <th>CeilingHgt_ft</th>\n",
       "      <th>N_Bedrm</th>\n",
       "      <th>N_FullBath</th>\n",
       "      <th>N_HalfBath</th>\n",
       "      <th>Oven_Fuel</th>\n",
       "      <th>Num_Occupant</th>\n",
       "      <th>WHV_AsFound</th>\n",
       "      <th>AF1_Condition</th>\n",
       "      <th>RHD_Grease_Screen_Condition</th>\n",
       "      <th>...</th>\n",
       "      <th>Depressurization_Q50_cfm</th>\n",
       "      <th>PM_MET_IN1</th>\n",
       "      <th>PM_MET_OUT</th>\n",
       "      <th>CO2_ETC_IN1</th>\n",
       "      <th>CO2_ETC_BR1</th>\n",
       "      <th>T_ETC_IN1</th>\n",
       "      <th>RH_ETC_IN1</th>\n",
       "      <th>FRM_IN_ppb</th>\n",
       "      <th>NO2_IAQm_ppb</th>\n",
       "      <th>NOx_IAQm_ppb</th>\n",
       "    </tr>\n",
       "  </thead>\n",
       "  <tbody>\n",
       "    <tr>\n",
       "      <th>0</th>\n",
       "      <td>2001.0</td>\n",
       "      <td>9.0</td>\n",
       "      <td>3.0</td>\n",
       "      <td>2.0</td>\n",
       "      <td>1.0</td>\n",
       "      <td>1.0</td>\n",
       "      <td>4.0</td>\n",
       "      <td>0.0</td>\n",
       "      <td>3.0</td>\n",
       "      <td>2.0</td>\n",
       "      <td>...</td>\n",
       "      <td>1006.0</td>\n",
       "      <td>2.011464</td>\n",
       "      <td>8.855427</td>\n",
       "      <td>640.476489</td>\n",
       "      <td>727.076213</td>\n",
       "      <td>23.269313</td>\n",
       "      <td>39.705435</td>\n",
       "      <td>14.252478</td>\n",
       "      <td>4.874853</td>\n",
       "      <td>20.336480</td>\n",
       "    </tr>\n",
       "    <tr>\n",
       "      <th>1</th>\n",
       "      <td>3104.0</td>\n",
       "      <td>10.0</td>\n",
       "      <td>4.0</td>\n",
       "      <td>3.0</td>\n",
       "      <td>0.0</td>\n",
       "      <td>0.0</td>\n",
       "      <td>2.0</td>\n",
       "      <td>1.0</td>\n",
       "      <td>1.0</td>\n",
       "      <td>1.0</td>\n",
       "      <td>...</td>\n",
       "      <td>1548.5</td>\n",
       "      <td>5.959333</td>\n",
       "      <td>2.406069</td>\n",
       "      <td>830.593753</td>\n",
       "      <td>846.815114</td>\n",
       "      <td>24.420784</td>\n",
       "      <td>45.021151</td>\n",
       "      <td>18.010887</td>\n",
       "      <td>5.502727</td>\n",
       "      <td>18.359575</td>\n",
       "    </tr>\n",
       "    <tr>\n",
       "      <th>2</th>\n",
       "      <td>3248.0</td>\n",
       "      <td>11.0</td>\n",
       "      <td>3.0</td>\n",
       "      <td>3.0</td>\n",
       "      <td>1.0</td>\n",
       "      <td>0.0</td>\n",
       "      <td>2.0</td>\n",
       "      <td>0.0</td>\n",
       "      <td>1.0</td>\n",
       "      <td>2.0</td>\n",
       "      <td>...</td>\n",
       "      <td>2224.0</td>\n",
       "      <td>11.291269</td>\n",
       "      <td>4.427615</td>\n",
       "      <td>512.227439</td>\n",
       "      <td>605.783042</td>\n",
       "      <td>20.264354</td>\n",
       "      <td>45.067446</td>\n",
       "      <td>20.250339</td>\n",
       "      <td>1.708403</td>\n",
       "      <td>2.617361</td>\n",
       "    </tr>\n",
       "    <tr>\n",
       "      <th>3</th>\n",
       "      <td>2317.0</td>\n",
       "      <td>9.0</td>\n",
       "      <td>4.0</td>\n",
       "      <td>2.0</td>\n",
       "      <td>0.0</td>\n",
       "      <td>1.0</td>\n",
       "      <td>3.0</td>\n",
       "      <td>0.0</td>\n",
       "      <td>1.0</td>\n",
       "      <td>1.0</td>\n",
       "      <td>...</td>\n",
       "      <td>1548.5</td>\n",
       "      <td>1.074514</td>\n",
       "      <td>3.324214</td>\n",
       "      <td>671.966967</td>\n",
       "      <td>734.965862</td>\n",
       "      <td>25.372127</td>\n",
       "      <td>37.459627</td>\n",
       "      <td>18.010887</td>\n",
       "      <td>2.776921</td>\n",
       "      <td>7.139446</td>\n",
       "    </tr>\n",
       "    <tr>\n",
       "      <th>4</th>\n",
       "      <td>3108.0</td>\n",
       "      <td>11.0</td>\n",
       "      <td>3.0</td>\n",
       "      <td>2.0</td>\n",
       "      <td>1.0</td>\n",
       "      <td>0.0</td>\n",
       "      <td>2.0</td>\n",
       "      <td>0.0</td>\n",
       "      <td>1.0</td>\n",
       "      <td>1.0</td>\n",
       "      <td>...</td>\n",
       "      <td>1548.5</td>\n",
       "      <td>3.883027</td>\n",
       "      <td>4.623322</td>\n",
       "      <td>603.374908</td>\n",
       "      <td>684.653495</td>\n",
       "      <td>25.585127</td>\n",
       "      <td>38.000461</td>\n",
       "      <td>44.742541</td>\n",
       "      <td>5.076926</td>\n",
       "      <td>25.850207</td>\n",
       "    </tr>\n",
       "  </tbody>\n",
       "</table>\n",
       "<p>5 rows × 23 columns</p>\n",
       "</div>"
      ],
      "text/plain": [
       "   FloorArea_sqft  CeilingHgt_ft  N_Bedrm   N_FullBath  N_HalfBath  Oven_Fuel  \\\n",
       "0          2001.0            9.0       3.0         2.0         1.0        1.0   \n",
       "1          3104.0           10.0       4.0         3.0         0.0        0.0   \n",
       "2          3248.0           11.0       3.0         3.0         1.0        0.0   \n",
       "3          2317.0            9.0       4.0         2.0         0.0        1.0   \n",
       "4          3108.0           11.0       3.0         2.0         1.0        0.0   \n",
       "\n",
       "   Num_Occupant  WHV_AsFound  AF1_Condition  RHD_Grease_Screen_Condition  ...  \\\n",
       "0           4.0          0.0            3.0                          2.0  ...   \n",
       "1           2.0          1.0            1.0                          1.0  ...   \n",
       "2           2.0          0.0            1.0                          2.0  ...   \n",
       "3           3.0          0.0            1.0                          1.0  ...   \n",
       "4           2.0          0.0            1.0                          1.0  ...   \n",
       "\n",
       "   Depressurization_Q50_cfm  PM_MET_IN1  PM_MET_OUT  CO2_ETC_IN1  CO2_ETC_BR1  \\\n",
       "0                    1006.0    2.011464    8.855427   640.476489   727.076213   \n",
       "1                    1548.5    5.959333    2.406069   830.593753   846.815114   \n",
       "2                    2224.0   11.291269    4.427615   512.227439   605.783042   \n",
       "3                    1548.5    1.074514    3.324214   671.966967   734.965862   \n",
       "4                    1548.5    3.883027    4.623322   603.374908   684.653495   \n",
       "\n",
       "   T_ETC_IN1  RH_ETC_IN1  FRM_IN_ppb  NO2_IAQm_ppb  NOx_IAQm_ppb  \n",
       "0  23.269313   39.705435   14.252478      4.874853     20.336480  \n",
       "1  24.420784   45.021151   18.010887      5.502727     18.359575  \n",
       "2  20.264354   45.067446   20.250339      1.708403      2.617361  \n",
       "3  25.372127   37.459627   18.010887      2.776921      7.139446  \n",
       "4  25.585127   38.000461   44.742541      5.076926     25.850207  \n",
       "\n",
       "[5 rows x 23 columns]"
      ]
     },
     "execution_count": 11,
     "metadata": {},
     "output_type": "execute_result"
    }
   ],
   "source": [
    "X_all = df_m.iloc[:,np.r_[1:15,15:19,22:27]]\n",
    "X_all.head()"
   ]
  },
  {
   "cell_type": "markdown",
   "metadata": {},
   "source": [
    "#### Splitting"
   ]
  },
  {
   "cell_type": "code",
   "execution_count": 12,
   "metadata": {},
   "outputs": [],
   "source": [
    "X_scaled_all = scale_x(X_all)\n",
    "X_train_all, X_test_all, y_train_all, y_test_all = train_test_split(X_scaled_all, Y1, test_size = 0.1, random_state=0)"
   ]
  },
  {
   "cell_type": "markdown",
   "metadata": {},
   "source": [
    "## Gridsearch for Optimal DT and RF Parameters\n",
    "We need to somewhat optimize the DT and RF models to the entire featureset so that we are at more aptly determining the important features."
   ]
  },
  {
   "cell_type": "markdown",
   "metadata": {},
   "source": [
    "### DT"
   ]
  },
  {
   "cell_type": "code",
   "execution_count": 13,
   "metadata": {},
   "outputs": [],
   "source": [
    "#fs_DT = DecisionTreeClassifier(random_state=42)\n",
    "#parameters = {'ccp_alpha':np.arange(0,0.1,0.005),'criterion':['entropy',\"gini\"],'max_depth':np.arange(3,9,1)}\n",
    "#fs_DT_grid = GridSearchCV(fs_DT, parameters, cv=10, refit=True, scoring='accuracy')\n",
    "#fs_DT_grid.fit(X_train_all, y_train_all)\n",
    "#for key, val in fs_DT_grid.best_params_.items():\n",
    "#    print(f\"{key}: {val}\")\n",
    "#print(\"score:\",fs_DT_grid.best_score_)"
   ]
  },
  {
   "cell_type": "markdown",
   "metadata": {},
   "source": [
    "### RF"
   ]
  },
  {
   "cell_type": "code",
   "execution_count": 14,
   "metadata": {},
   "outputs": [],
   "source": [
    "#fs_RF = RandomForestClassifier(random_state=42)\n",
    "#parameters = {'ccp_alpha':np.arange(0,0.05,0.005),'criterion':['entropy','gini'],'max_depth':np.arange(3,9,1),'n_estimators':[10,20,50,100]}\n",
    "#fs_RF_grid = GridSearchCV(fs_RF, parameters, cv=10, refit=True,scoring='accuracy')\n",
    "#fs_RF_grid.fit(X_train_all, y_train_all)\n",
    "#for key, val in fs_RF_grid.best_params_.items():\n",
    "#    print(f\"{key}: {val}\")\n",
    "#print(\"score:\",fs_RF_grid.best_score_)"
   ]
  },
  {
   "cell_type": "markdown",
   "metadata": {},
   "source": [
    "## Feature Importances\n",
    "Using the optimized models from above to get the important features\n",
    "\n",
    "See some good articles here about SHAP values - **NOT USED**:\n",
    "* [RF Models](https://towardsdatascience.com/explain-your-model-with-the-shap-values-bc36aac4de3d)\n",
    "* [Other Models](https://towardsdatascience.com/explain-any-models-with-the-shap-values-use-the-kernelexplainer-79de9464897a)\n",
    "\n",
    "And the [Github](https://github.com/slundberg/shap) for this library."
   ]
  },
  {
   "cell_type": "markdown",
   "metadata": {},
   "source": [
    "### DT"
   ]
  },
  {
   "cell_type": "code",
   "execution_count": 15,
   "metadata": {},
   "outputs": [
    {
     "data": {
      "text/html": [
       "<div>\n",
       "<style scoped>\n",
       "    .dataframe tbody tr th:only-of-type {\n",
       "        vertical-align: middle;\n",
       "    }\n",
       "\n",
       "    .dataframe tbody tr th {\n",
       "        vertical-align: top;\n",
       "    }\n",
       "\n",
       "    .dataframe thead th {\n",
       "        text-align: right;\n",
       "    }\n",
       "</style>\n",
       "<table border=\"1\" class=\"dataframe\">\n",
       "  <thead>\n",
       "    <tr style=\"text-align: right;\">\n",
       "      <th></th>\n",
       "      <th>Feature</th>\n",
       "      <th>Importance</th>\n",
       "      <th>Rank</th>\n",
       "    </tr>\n",
       "  </thead>\n",
       "  <tbody>\n",
       "    <tr>\n",
       "      <th>0</th>\n",
       "      <td>CO2_ETC_BR1</td>\n",
       "      <td>0.266724</td>\n",
       "      <td>0</td>\n",
       "    </tr>\n",
       "    <tr>\n",
       "      <th>1</th>\n",
       "      <td>RH_ETC_IN1</td>\n",
       "      <td>0.225970</td>\n",
       "      <td>1</td>\n",
       "    </tr>\n",
       "    <tr>\n",
       "      <th>2</th>\n",
       "      <td>RHD_Fan_Airflow_Adjusted_Low_cfm</td>\n",
       "      <td>0.149999</td>\n",
       "      <td>2</td>\n",
       "    </tr>\n",
       "    <tr>\n",
       "      <th>3</th>\n",
       "      <td>PM_MET_IN1</td>\n",
       "      <td>0.110046</td>\n",
       "      <td>3</td>\n",
       "    </tr>\n",
       "    <tr>\n",
       "      <th>4</th>\n",
       "      <td>FRM_IN_ppb</td>\n",
       "      <td>0.103581</td>\n",
       "      <td>4</td>\n",
       "    </tr>\n",
       "  </tbody>\n",
       "</table>\n",
       "</div>"
      ],
      "text/plain": [
       "                            Feature  Importance  Rank\n",
       "0                       CO2_ETC_BR1    0.266724     0\n",
       "1                        RH_ETC_IN1    0.225970     1\n",
       "2  RHD_Fan_Airflow_Adjusted_Low_cfm    0.149999     2\n",
       "3                        PM_MET_IN1    0.110046     3\n",
       "4                        FRM_IN_ppb    0.103581     4"
      ]
     },
     "execution_count": 15,
     "metadata": {},
     "output_type": "execute_result"
    }
   ],
   "source": [
    "fs_DT_imp = get_feature_importance(DecisionTreeClassifier(random_state=42,ccp_alpha=0.0,criterion=\"entropy\",max_depth=8),\n",
    "                                   X_train_all,y_train_all)\n",
    "fs_DT_imp.reset_index(drop=True,inplace=True)\n",
    "fs_DT_imp[\"Rank\"] = fs_DT_imp.index\n",
    "fs_DT_imp[:5]"
   ]
  },
  {
   "cell_type": "markdown",
   "metadata": {},
   "source": [
    "### RF"
   ]
  },
  {
   "cell_type": "code",
   "execution_count": 16,
   "metadata": {},
   "outputs": [
    {
     "data": {
      "text/html": [
       "<div>\n",
       "<style scoped>\n",
       "    .dataframe tbody tr th:only-of-type {\n",
       "        vertical-align: middle;\n",
       "    }\n",
       "\n",
       "    .dataframe tbody tr th {\n",
       "        vertical-align: top;\n",
       "    }\n",
       "\n",
       "    .dataframe thead th {\n",
       "        text-align: right;\n",
       "    }\n",
       "</style>\n",
       "<table border=\"1\" class=\"dataframe\">\n",
       "  <thead>\n",
       "    <tr style=\"text-align: right;\">\n",
       "      <th></th>\n",
       "      <th>Feature</th>\n",
       "      <th>Importance</th>\n",
       "      <th>Rank</th>\n",
       "    </tr>\n",
       "  </thead>\n",
       "  <tbody>\n",
       "    <tr>\n",
       "      <th>0</th>\n",
       "      <td>Depressurization_Q50_cfm</td>\n",
       "      <td>0.090587</td>\n",
       "      <td>0</td>\n",
       "    </tr>\n",
       "    <tr>\n",
       "      <th>1</th>\n",
       "      <td>RHD_Fan_Airflow_Adjusted_Low_cfm</td>\n",
       "      <td>0.085150</td>\n",
       "      <td>1</td>\n",
       "    </tr>\n",
       "    <tr>\n",
       "      <th>2</th>\n",
       "      <td>CO2_ETC_IN1</td>\n",
       "      <td>0.079898</td>\n",
       "      <td>2</td>\n",
       "    </tr>\n",
       "    <tr>\n",
       "      <th>3</th>\n",
       "      <td>FRM_IN_ppb</td>\n",
       "      <td>0.069125</td>\n",
       "      <td>3</td>\n",
       "    </tr>\n",
       "    <tr>\n",
       "      <th>4</th>\n",
       "      <td>EXF_BA1_Measured_cfm</td>\n",
       "      <td>0.062588</td>\n",
       "      <td>4</td>\n",
       "    </tr>\n",
       "  </tbody>\n",
       "</table>\n",
       "</div>"
      ],
      "text/plain": [
       "                            Feature  Importance  Rank\n",
       "0          Depressurization_Q50_cfm    0.090587     0\n",
       "1  RHD_Fan_Airflow_Adjusted_Low_cfm    0.085150     1\n",
       "2                       CO2_ETC_IN1    0.079898     2\n",
       "3                        FRM_IN_ppb    0.069125     3\n",
       "4              EXF_BA1_Measured_cfm    0.062588     4"
      ]
     },
     "execution_count": 16,
     "metadata": {},
     "output_type": "execute_result"
    }
   ],
   "source": [
    "fs_RF_imp = get_feature_importance(RandomForestClassifier(random_state=42,ccp_alpha=0.0,criterion=\"gini\",max_depth=6,n_estimators=50),\n",
    "                                   X_train_all,y_train_all)\n",
    "fs_RF_imp.reset_index(drop=True,inplace=True)\n",
    "fs_RF_imp[\"Rank\"] = fs_RF_imp.index\n",
    "fs_RF_imp[:5]"
   ]
  },
  {
   "cell_type": "markdown",
   "metadata": {},
   "source": [
    "### Getting Top Feature"
   ]
  },
  {
   "cell_type": "code",
   "execution_count": 17,
   "metadata": {},
   "outputs": [
    {
     "data": {
      "text/html": [
       "<div>\n",
       "<style scoped>\n",
       "    .dataframe tbody tr th:only-of-type {\n",
       "        vertical-align: middle;\n",
       "    }\n",
       "\n",
       "    .dataframe tbody tr th {\n",
       "        vertical-align: top;\n",
       "    }\n",
       "\n",
       "    .dataframe thead th {\n",
       "        text-align: right;\n",
       "    }\n",
       "</style>\n",
       "<table border=\"1\" class=\"dataframe\">\n",
       "  <thead>\n",
       "    <tr style=\"text-align: right;\">\n",
       "      <th></th>\n",
       "      <th>Feature</th>\n",
       "      <th>Importance_RF</th>\n",
       "      <th>Rank_RF</th>\n",
       "      <th>Importance_DT</th>\n",
       "      <th>Rank_DT</th>\n",
       "      <th>Importance</th>\n",
       "      <th>Rank</th>\n",
       "    </tr>\n",
       "  </thead>\n",
       "  <tbody>\n",
       "    <tr>\n",
       "      <th>1</th>\n",
       "      <td>RHD_Fan_Airflow_Adjusted_Low_cfm</td>\n",
       "      <td>0.085150</td>\n",
       "      <td>1</td>\n",
       "      <td>0.149999</td>\n",
       "      <td>2</td>\n",
       "      <td>1.764851</td>\n",
       "      <td>3</td>\n",
       "    </tr>\n",
       "    <tr>\n",
       "      <th>6</th>\n",
       "      <td>CO2_ETC_BR1</td>\n",
       "      <td>0.054882</td>\n",
       "      <td>6</td>\n",
       "      <td>0.266724</td>\n",
       "      <td>0</td>\n",
       "      <td>1.678394</td>\n",
       "      <td>6</td>\n",
       "    </tr>\n",
       "    <tr>\n",
       "      <th>3</th>\n",
       "      <td>FRM_IN_ppb</td>\n",
       "      <td>0.069125</td>\n",
       "      <td>3</td>\n",
       "      <td>0.103581</td>\n",
       "      <td>4</td>\n",
       "      <td>1.827294</td>\n",
       "      <td>7</td>\n",
       "    </tr>\n",
       "    <tr>\n",
       "      <th>7</th>\n",
       "      <td>RH_ETC_IN1</td>\n",
       "      <td>0.054273</td>\n",
       "      <td>7</td>\n",
       "      <td>0.225970</td>\n",
       "      <td>1</td>\n",
       "      <td>1.719757</td>\n",
       "      <td>8</td>\n",
       "    </tr>\n",
       "    <tr>\n",
       "      <th>0</th>\n",
       "      <td>Depressurization_Q50_cfm</td>\n",
       "      <td>0.090587</td>\n",
       "      <td>0</td>\n",
       "      <td>0.000000</td>\n",
       "      <td>11</td>\n",
       "      <td>1.909413</td>\n",
       "      <td>11</td>\n",
       "    </tr>\n",
       "    <tr>\n",
       "      <th>2</th>\n",
       "      <td>CO2_ETC_IN1</td>\n",
       "      <td>0.079898</td>\n",
       "      <td>2</td>\n",
       "      <td>0.000000</td>\n",
       "      <td>9</td>\n",
       "      <td>1.920102</td>\n",
       "      <td>11</td>\n",
       "    </tr>\n",
       "    <tr>\n",
       "      <th>4</th>\n",
       "      <td>EXF_BA1_Measured_cfm</td>\n",
       "      <td>0.062588</td>\n",
       "      <td>4</td>\n",
       "      <td>0.000000</td>\n",
       "      <td>7</td>\n",
       "      <td>1.937412</td>\n",
       "      <td>11</td>\n",
       "    </tr>\n",
       "    <tr>\n",
       "      <th>9</th>\n",
       "      <td>PM_MET_IN1</td>\n",
       "      <td>0.048619</td>\n",
       "      <td>9</td>\n",
       "      <td>0.110046</td>\n",
       "      <td>3</td>\n",
       "      <td>1.841335</td>\n",
       "      <td>12</td>\n",
       "    </tr>\n",
       "    <tr>\n",
       "      <th>5</th>\n",
       "      <td>NO2_IAQm_ppb</td>\n",
       "      <td>0.061923</td>\n",
       "      <td>5</td>\n",
       "      <td>0.000000</td>\n",
       "      <td>8</td>\n",
       "      <td>1.938077</td>\n",
       "      <td>13</td>\n",
       "    </tr>\n",
       "    <tr>\n",
       "      <th>12</th>\n",
       "      <td>NOx_IAQm_ppb</td>\n",
       "      <td>0.042312</td>\n",
       "      <td>12</td>\n",
       "      <td>0.077674</td>\n",
       "      <td>5</td>\n",
       "      <td>1.880014</td>\n",
       "      <td>17</td>\n",
       "    </tr>\n",
       "    <tr>\n",
       "      <th>11</th>\n",
       "      <td>T_ETC_IN1</td>\n",
       "      <td>0.044151</td>\n",
       "      <td>11</td>\n",
       "      <td>0.066006</td>\n",
       "      <td>6</td>\n",
       "      <td>1.889843</td>\n",
       "      <td>17</td>\n",
       "    </tr>\n",
       "  </tbody>\n",
       "</table>\n",
       "</div>"
      ],
      "text/plain": [
       "                             Feature  Importance_RF  Rank_RF  Importance_DT  \\\n",
       "1   RHD_Fan_Airflow_Adjusted_Low_cfm       0.085150        1       0.149999   \n",
       "6                        CO2_ETC_BR1       0.054882        6       0.266724   \n",
       "3                         FRM_IN_ppb       0.069125        3       0.103581   \n",
       "7                         RH_ETC_IN1       0.054273        7       0.225970   \n",
       "0           Depressurization_Q50_cfm       0.090587        0       0.000000   \n",
       "2                        CO2_ETC_IN1       0.079898        2       0.000000   \n",
       "4               EXF_BA1_Measured_cfm       0.062588        4       0.000000   \n",
       "9                         PM_MET_IN1       0.048619        9       0.110046   \n",
       "5                       NO2_IAQm_ppb       0.061923        5       0.000000   \n",
       "12                      NOx_IAQm_ppb       0.042312       12       0.077674   \n",
       "11                         T_ETC_IN1       0.044151       11       0.066006   \n",
       "\n",
       "    Rank_DT  Importance  Rank  \n",
       "1         2    1.764851     3  \n",
       "6         0    1.678394     6  \n",
       "3         4    1.827294     7  \n",
       "7         1    1.719757     8  \n",
       "0        11    1.909413    11  \n",
       "2         9    1.920102    11  \n",
       "4         7    1.937412    11  \n",
       "9         3    1.841335    12  \n",
       "5         8    1.938077    13  \n",
       "12        5    1.880014    17  \n",
       "11        6    1.889843    17  "
      ]
     },
     "execution_count": 17,
     "metadata": {},
     "output_type": "execute_result"
    }
   ],
   "source": [
    "comb_imp = fs_RF_imp.merge(right=fs_DT_imp,on=\"Feature\",suffixes=[\"_RF\",\"_DT\"])\n",
    "comb_imp[\"Importance\"] = (1 - comb_imp[\"Importance_RF\"]) + (1- comb_imp[\"Importance_DT\"])\n",
    "comb_imp[\"Rank\"] = comb_imp[\"Rank_RF\"] + comb_imp[\"Rank_DT\"]\n",
    "comb_imp.sort_values([\"Rank\",\"Importance\"],ascending=True)[:11]"
   ]
  },
  {
   "cell_type": "markdown",
   "metadata": {},
   "source": [
    "We will include the top nine features but exclude the `CO2_ETC_IN1` since we already have a measure of CO$_2$ from the bedroom which is more telling. We will also include `T_ETC_IN1` since this variable is included in the other analysis."
   ]
  },
  {
   "cell_type": "markdown",
   "metadata": {},
   "source": [
    "## Defining Important Features as ```X```\n",
    "From the results above, we get the important features:"
   ]
  },
  {
   "cell_type": "code",
   "execution_count": 18,
   "metadata": {},
   "outputs": [
    {
     "data": {
      "text/html": [
       "<div>\n",
       "<style scoped>\n",
       "    .dataframe tbody tr th:only-of-type {\n",
       "        vertical-align: middle;\n",
       "    }\n",
       "\n",
       "    .dataframe tbody tr th {\n",
       "        vertical-align: top;\n",
       "    }\n",
       "\n",
       "    .dataframe thead th {\n",
       "        text-align: right;\n",
       "    }\n",
       "</style>\n",
       "<table border=\"1\" class=\"dataframe\">\n",
       "  <thead>\n",
       "    <tr style=\"text-align: right;\">\n",
       "      <th></th>\n",
       "      <th>CO2_ETC_BR1</th>\n",
       "      <th>RH_ETC_IN1</th>\n",
       "      <th>PM_MET_IN1</th>\n",
       "      <th>NO2_IAQm_ppb</th>\n",
       "      <th>FRM_IN_ppb</th>\n",
       "      <th>T_ETC_IN1</th>\n",
       "      <th>RHD_Fan_Airflow_Adjusted_Low_cfm</th>\n",
       "      <th>Depressurization_Q50_cfm</th>\n",
       "      <th>EXF_BA1_Measured_cfm</th>\n",
       "    </tr>\n",
       "  </thead>\n",
       "  <tbody>\n",
       "    <tr>\n",
       "      <th>0</th>\n",
       "      <td>727.076213</td>\n",
       "      <td>39.705435</td>\n",
       "      <td>2.011464</td>\n",
       "      <td>4.874853</td>\n",
       "      <td>14.252478</td>\n",
       "      <td>23.269313</td>\n",
       "      <td>88.505747</td>\n",
       "      <td>1006.0</td>\n",
       "      <td>91.0</td>\n",
       "    </tr>\n",
       "    <tr>\n",
       "      <th>1</th>\n",
       "      <td>846.815114</td>\n",
       "      <td>45.021151</td>\n",
       "      <td>5.959333</td>\n",
       "      <td>5.502727</td>\n",
       "      <td>18.010887</td>\n",
       "      <td>24.420784</td>\n",
       "      <td>107.000000</td>\n",
       "      <td>1548.5</td>\n",
       "      <td>49.0</td>\n",
       "    </tr>\n",
       "    <tr>\n",
       "      <th>2</th>\n",
       "      <td>605.783042</td>\n",
       "      <td>45.067446</td>\n",
       "      <td>11.291269</td>\n",
       "      <td>1.708403</td>\n",
       "      <td>20.250339</td>\n",
       "      <td>20.264354</td>\n",
       "      <td>310.000000</td>\n",
       "      <td>2224.0</td>\n",
       "      <td>101.0</td>\n",
       "    </tr>\n",
       "    <tr>\n",
       "      <th>3</th>\n",
       "      <td>734.965862</td>\n",
       "      <td>37.459627</td>\n",
       "      <td>1.074514</td>\n",
       "      <td>2.776921</td>\n",
       "      <td>18.010887</td>\n",
       "      <td>25.372127</td>\n",
       "      <td>81.609195</td>\n",
       "      <td>1548.5</td>\n",
       "      <td>81.5</td>\n",
       "    </tr>\n",
       "    <tr>\n",
       "      <th>4</th>\n",
       "      <td>684.653495</td>\n",
       "      <td>38.000461</td>\n",
       "      <td>3.883027</td>\n",
       "      <td>5.076926</td>\n",
       "      <td>44.742541</td>\n",
       "      <td>25.585127</td>\n",
       "      <td>360.000000</td>\n",
       "      <td>1548.5</td>\n",
       "      <td>81.0</td>\n",
       "    </tr>\n",
       "  </tbody>\n",
       "</table>\n",
       "</div>"
      ],
      "text/plain": [
       "   CO2_ETC_BR1  RH_ETC_IN1  PM_MET_IN1  NO2_IAQm_ppb  FRM_IN_ppb  T_ETC_IN1  \\\n",
       "0   727.076213   39.705435    2.011464      4.874853   14.252478  23.269313   \n",
       "1   846.815114   45.021151    5.959333      5.502727   18.010887  24.420784   \n",
       "2   605.783042   45.067446   11.291269      1.708403   20.250339  20.264354   \n",
       "3   734.965862   37.459627    1.074514      2.776921   18.010887  25.372127   \n",
       "4   684.653495   38.000461    3.883027      5.076926   44.742541  25.585127   \n",
       "\n",
       "   RHD_Fan_Airflow_Adjusted_Low_cfm  Depressurization_Q50_cfm  \\\n",
       "0                         88.505747                    1006.0   \n",
       "1                        107.000000                    1548.5   \n",
       "2                        310.000000                    2224.0   \n",
       "3                         81.609195                    1548.5   \n",
       "4                        360.000000                    1548.5   \n",
       "\n",
       "   EXF_BA1_Measured_cfm  \n",
       "0                  91.0  \n",
       "1                  49.0  \n",
       "2                 101.0  \n",
       "3                  81.5  \n",
       "4                  81.0  "
      ]
     },
     "execution_count": 18,
     "metadata": {},
     "output_type": "execute_result"
    }
   ],
   "source": [
    "X = df_m[[col for col in [\"CO2_ETC_BR1\",\"RH_ETC_IN1\",\"PM_MET_IN1\",\"NO2_IAQm_ppb\",\"FRM_IN_ppb\",\"T_ETC_IN1\",\n",
    "                          \"RHD_Fan_Airflow_Adjusted_Low_cfm\",\"Depressurization_Q50_cfm\",\"EXF_BA1_Measured_cfm\"]]]\n",
    "X.head()"
   ]
  },
  {
   "cell_type": "markdown",
   "metadata": {},
   "source": [
    "<div class=\"alert alert-block alert-info\">\n",
    " \n",
    "We have 9 features to include:\n",
    "* IAQ: CO2 (bedroom), RH, PM, NO2, HCHO, T\n",
    "* HVAC: Fan airflow, Q50, Exfiltration (bathroom)\n",
    "    \n",
    "</div>"
   ]
  },
  {
   "cell_type": "code",
   "execution_count": 19,
   "metadata": {},
   "outputs": [],
   "source": [
    "X_scaled = scale_x(X)\n",
    "X_train, X_test, y_train, y_test = train_test_split(X_scaled, Y1, test_size = 0.1, random_state=0)"
   ]
  },
  {
   "cell_type": "markdown",
   "metadata": {},
   "source": [
    "### Summarizing Feature Values\n",
    "Here we summarize the measurements we have."
   ]
  },
  {
   "cell_type": "code",
   "execution_count": 20,
   "metadata": {},
   "outputs": [],
   "source": [
    "def plot_summary(df_in,save=False):\n",
    "    \"\"\"\n",
    "    Plots simplifed kde plots of the variables\n",
    "    \"\"\"\n",
    "    df = df_in.copy()\n",
    "    df.rename({\"CO2_ETC_BR1\":\"CO2_BR (ppm)\", \"PM_MET_IN1\":\"PM_IN ($\\mu$g/m$^3$)\", \"T_ETC_IN1\":\"T_IN ($^\\circ$C)\", \"RH_ETC_IN1\":\"RH (%)\", \"NO2_IAQm_ppb\":\"NO2 (ppb)\", \"FRM_IN_ppb\":\"FRM (ppb)\",\n",
    "                 \"RHD_Fan_Airflow_Adjusted_Low_cfm\":\"RHD_Low (CFM)\",\"Depressurization_Q50_cfm\":\"Q50 (CFM)\", \"EXF_BA1_Measured_cfm\":\"EXF_BA (CFM)\"},axis=\"columns\",inplace=True)\n",
    "    df = df[[\"CO2_BR (ppm)\",\"PM_IN ($\\mu$g/m$^3$)\",\"T_IN ($^\\circ$C)\",\"RH (%)\",\"NO2 (ppb)\",\"FRM (ppb)\",\"RHD_Low (CFM)\",\"Q50 (CFM)\",\"EXF_BA (CFM)\"]]\n",
    "    _, axes = plt.subplots(5,2,figsize=(4,8),gridspec_kw={\"hspace\":0.8})\n",
    "    for param, ticks, ax in zip(df.columns,[[500,1000,1500],[0,10,20,30,40],[15,20,25],[30,40,50,60,70],[0,10,20,30],[0,10,20,30,40],[0,100,200,300],[0,1000,2000,3000],[0,50,100]],axes.flat):\n",
    "        if param in [\"RHD_Low (CFM)\",\"Q50 (CFM)\",\"EXF_BA (CFM)\"]:\n",
    "            sns.kdeplot(df[param],cut=0,common_norm=True,color=\"blue\",lw=2,ax=ax)\n",
    "        else:\n",
    "            sns.kdeplot(df[param],cut=0,common_norm=True,color=\"black\",lw=2,ax=ax)\n",
    "        for loc in [\"top\",\"left\",\"right\"]:\n",
    "            ax.set_xticks(ticks)\n",
    "            ax.spines[loc].set_visible(False)\n",
    "            ax.axes.get_yaxis().set_visible(False)\n",
    "            \n",
    "        ax.set_xlabel(ax.get_xlabel(),size=12)\n",
    "        ax.tick_params(labelsize=10)\n",
    "            \n",
    "    axes[-1][-1].set_axis_off()\n",
    "    if save:\n",
    "        plt.savefig(\"../reports/figures/prediction/iaq_perception-distributions.pdf\",bbox_inches=\"tight\")\n",
    "\n",
    "    plt.show()\n",
    "    plt.close()"
   ]
  },
  {
   "cell_type": "code",
   "execution_count": 21,
   "metadata": {},
   "outputs": [
    {
     "data": {
      "image/png": "[encoded data removed]",
      "text/plain": [
       "<Figure size 288x576 with 10 Axes>"
      ]
     },
     "metadata": {
      "needs_background": "light"
     },
     "output_type": "display_data"
    }
   ],
   "source": [
    "li = plot_summary(X,save=False)"
   ]
  },
  {
   "cell_type": "code",
   "execution_count": 22,
   "metadata": {},
   "outputs": [],
   "source": [
    "def plot_split_summary(df_in,save=False):\n",
    "    \"\"\"\n",
    "    Plots simplifed kde plots of the variables split by the study\n",
    "    \"\"\"\n",
    "    df = df_in.copy()\n",
    "    df.rename({\"CO2_ETC_BR1\":\"CO2_BR (ppm)\", \"PM_MET_IN1\":\"PM_IN ($\\mu$g/m$^3$)\", \"T_ETC_IN1\":\"T_IN ($^\\circ$C)\", \"RH_ETC_IN1\":\"RH (%)\", \"NO2_IAQm_ppb\":\"NO2 (ppb)\", \"FRM_IN_ppb\":\"FRM (ppb)\",\n",
    "                 \"RHD_Fan_Airflow_Adjusted_Low_cfm\":\"RHD_Low (CFM)\",\"Depressurization_Q50_cfm\":\"Q50 (CFM)\", \"EXF_BA1_Measured_cfm\":\"EXF_BA (CFM)\"},axis=\"columns\",inplace=True)\n",
    "    df.set_index(\"Home_ID\",inplace=True)\n",
    "    df = df[[\"CO2_BR (ppm)\",\"PM_IN ($\\mu$g/m$^3$)\",\"T_IN ($^\\circ$C)\",\"RH (%)\",\"NO2 (ppb)\",\"FRM (ppb)\",\"RHD_Low (CFM)\",\"Q50 (CFM)\",\"EXF_BA (CFM)\"]]\n",
    "    df1 = df[df.index < 900]\n",
    "    df2 = df[df.index > 900]\n",
    "    fig, axes = plt.subplots(5,2,figsize=(4,8),gridspec_kw={\"hspace\":0.8})\n",
    "    for param, ticks, ax in zip(df.columns,[[500,1000,1500],[0,10,20,30,40],[15,20,25],[30,40,50,60,70],[0,10,20,30],[0,10,20,30,40],[0,100,200,300],[0,1000,2000,3000],[0,50,100]],axes.flat):\n",
    "        sns.kdeplot(df[param],cut=0,common_norm=True,color=\"black\",lw=2,ls=\"dashed\",ax=ax,label=f\"Home ({len(df1)})\")\n",
    "        sns.kdeplot(df2[param],cut=0,common_norm=True,color=\"grey\",lw=2,ls=\"solid\",ax=ax,label=f\"Apt ({len(df2)})\")\n",
    "        for loc in [\"top\",\"left\",\"right\"]:\n",
    "            ax.set_xticks(ticks)\n",
    "            ax.spines[loc].set_visible(False)\n",
    "            ax.axes.get_yaxis().set_visible(False)\n",
    "            \n",
    "        ax.set_xlabel(ax.get_xlabel(),size=10)\n",
    "        ax.tick_params(labelsize=8)\n",
    "            \n",
    "    axes[-1][-1].set_axis_off()\n",
    "    ax.legend(bbox_to_anchor=(1.7,1),loc=\"upper center\",frameon=False,fontsize=8)\n",
    "    if save:\n",
    "        plt.savefig(\"../reports/figures/prediction/iaq_perception-split_distributions.pdf\",bbox_inches=\"tight\")\n",
    "\n",
    "    plt.show()\n",
    "    plt.close()"
   ]
  },
  {
   "cell_type": "code",
   "execution_count": 23,
   "metadata": {},
   "outputs": [
    {
     "data": {
      "image/png": "[encoded data removed]",
      "text/plain": [
       "<Figure size 288x576 with 10 Axes>"
      ]
     },
     "metadata": {
      "needs_background": "light"
     },
     "output_type": "display_data"
    }
   ],
   "source": [
    "plot_split_summary(df_m,save=False)"
   ]
  },
  {
   "cell_type": "markdown",
   "metadata": {},
   "source": [
    "---"
   ]
  },
  {
   "cell_type": "markdown",
   "metadata": {},
   "source": [
    "# Defining Full Model\n",
    "To compare, we need to generate the full model"
   ]
  },
  {
   "cell_type": "markdown",
   "metadata": {},
   "source": [
    "## Tuning Hyperparameters"
   ]
  },
  {
   "cell_type": "markdown",
   "metadata": {},
   "source": [
    "### LR"
   ]
  },
  {
   "cell_type": "code",
   "execution_count": 24,
   "metadata": {},
   "outputs": [],
   "source": [
    "def optimize_lr(X,y):\n",
    "    \"\"\"\n",
    "    optimizes the LR parameters\n",
    "    \"\"\"\n",
    "    test_LR = LogisticRegression(random_state=0)\n",
    "    parameters = {'fit_intercept':[True,False],\"solver\":[\"lbfgs\",\"liblinear\"]}\n",
    "    test_LR_grid = GridSearchCV(test_LR, parameters, cv=5, refit=True, scoring='accuracy')\n",
    "    test_LR_grid.fit(X, y)\n",
    "    for key, val in test_LR_grid.best_params_.items():\n",
    "        print(f\"{key}: {val}\")"
   ]
  },
  {
   "cell_type": "code",
   "execution_count": 25,
   "metadata": {},
   "outputs": [],
   "source": [
    "#optimize_lr(X_train_all,y_train_all)"
   ]
  },
  {
   "cell_type": "code",
   "execution_count": 26,
   "metadata": {},
   "outputs": [],
   "source": [
    "model_LR_full = LogisticRegression(random_state=42,fit_intercept=False,solver=\"lbfgs\")"
   ]
  },
  {
   "cell_type": "markdown",
   "metadata": {},
   "source": [
    "### DT"
   ]
  },
  {
   "cell_type": "code",
   "execution_count": 57,
   "metadata": {},
   "outputs": [],
   "source": [
    "def optimize_dt(X,y):\n",
    "    \"\"\"\n",
    "    optimizes parameters for DT model\n",
    "    \"\"\"\n",
    "    test_DT = DecisionTreeClassifier(random_state=0)\n",
    "    parameters = {'ccp_alpha':np.arange(0,0.1,0.005),'criterion':['entropy',\"gini\"],'max_depth':np.arange(2,11,1)}\n",
    "    test_DT_grid = GridSearchCV(test_DT, parameters, cv=5, refit=True,scoring='accuracy')\n",
    "    test_DT_grid.fit(X, y)\n",
    "    for key, val in test_DT_grid.best_params_.items():\n",
    "        print(f\"{key}: {val}\")\n",
    "    print(\"score:\", test_DT_grid.best_score_)"
   ]
  },
  {
   "cell_type": "code",
   "execution_count": 28,
   "metadata": {},
   "outputs": [],
   "source": [
    "#optimize_dt(X_train_all,y_train_all)"
   ]
  },
  {
   "cell_type": "code",
   "execution_count": 159,
   "metadata": {},
   "outputs": [],
   "source": [
    "model_DT_full = DecisionTreeClassifier(random_state=42,ccp_alpha=0.04,criterion=\"entropy\",max_depth=5)"
   ]
  },
  {
   "cell_type": "markdown",
   "metadata": {},
   "source": [
    "### RF"
   ]
  },
  {
   "cell_type": "code",
   "execution_count": 58,
   "metadata": {},
   "outputs": [],
   "source": [
    "def optimize_rf(X,y):\n",
    "    \"\"\"\n",
    "    optimizes parameters for RF model\n",
    "    \"\"\"\n",
    "    test_RF = RandomForestClassifier(random_state=0)\n",
    "    parameters = {'ccp_alpha':np.arange(0,0.05,0.005),'criterion':['gini','entropy'],'max_depth':np.arange(3,9,1),'n_estimators':[10,20,50,100]}\n",
    "    test_RF_grid = GridSearchCV(test_RF, parameters, cv=5, refit=True,scoring='accuracy')\n",
    "    test_RF_grid.fit(X, y)\n",
    "    for key, val in test_RF_grid.best_params_.items():\n",
    "        print(f\"{key}: {val}\")\n",
    "    print(\"score:\",test_RF_grid.best_score_)"
   ]
  },
  {
   "cell_type": "code",
   "execution_count": 31,
   "metadata": {},
   "outputs": [],
   "source": [
    "#optimize_rf(X_train_all,y_train_all)"
   ]
  },
  {
   "cell_type": "code",
   "execution_count": 160,
   "metadata": {},
   "outputs": [],
   "source": [
    "model_RF_full = RandomForestClassifier(random_state=42,ccp_alpha=0.0,criterion=\"gini\",max_depth=3,n_estimators=50)"
   ]
  },
  {
   "cell_type": "markdown",
   "metadata": {},
   "source": [
    "## Defining"
   ]
  },
  {
   "cell_type": "code",
   "execution_count": 161,
   "metadata": {},
   "outputs": [],
   "source": [
    "models_full = {\"LR\":model_LR_full,\"DT\":model_DT_full,\"NB\":GaussianNB(),\"RF\":model_RF_full}"
   ]
  },
  {
   "cell_type": "markdown",
   "metadata": {},
   "source": [
    "---"
   ]
  },
  {
   "cell_type": "markdown",
   "metadata": {
    "id": "y6ILWOuUtI0b"
   },
   "source": [
    "# Defining Lite Model\n",
    "Now that we have the important features, we need to tune the models"
   ]
  },
  {
   "cell_type": "markdown",
   "metadata": {},
   "source": [
    "## Tuning Hyperparameters"
   ]
  },
  {
   "cell_type": "markdown",
   "metadata": {},
   "source": [
    "### Logistic Regression"
   ]
  },
  {
   "cell_type": "code",
   "execution_count": 34,
   "metadata": {},
   "outputs": [],
   "source": [
    "#optimize_lr(X_train,y_train)"
   ]
  },
  {
   "cell_type": "code",
   "execution_count": 35,
   "metadata": {},
   "outputs": [],
   "source": [
    "model_LR_lite = LogisticRegression(random_state=42,fit_intercept=False,solver=\"lbfgs\",max_iter=1000)"
   ]
  },
  {
   "cell_type": "markdown",
   "metadata": {},
   "source": [
    "### Decision Tree"
   ]
  },
  {
   "cell_type": "code",
   "execution_count": 59,
   "metadata": {},
   "outputs": [
    {
     "name": "stdout",
     "output_type": "stream",
     "text": [
      "ccp_alpha: 0.0\n",
      "criterion: entropy\n",
      "max_depth: 5\n",
      "score: 0.625\n"
     ]
    }
   ],
   "source": [
    "optimize_dt(X_train,y_train)"
   ]
  },
  {
   "cell_type": "code",
   "execution_count": 150,
   "metadata": {},
   "outputs": [],
   "source": [
    "model_DT_lite = DecisionTreeClassifier(random_state=42,ccp_alpha=0.0,criterion=\"entropy\",max_depth=5)"
   ]
  },
  {
   "cell_type": "markdown",
   "metadata": {},
   "source": [
    "### Random Forest"
   ]
  },
  {
   "cell_type": "code",
   "execution_count": 151,
   "metadata": {},
   "outputs": [
    {
     "ename": "KeyboardInterrupt",
     "evalue": "",
     "output_type": "error",
     "traceback": [
      "\u001b[0;31m---------------------------------------------------------------------------\u001b[0m",
      "\u001b[0;31mKeyboardInterrupt\u001b[0m                         Traceback (most recent call last)",
      "\u001b[0;32m<ipython-input-151-881bfd1f76f5>\u001b[0m in \u001b[0;36m<module>\u001b[0;34m\u001b[0m\n\u001b[0;32m----> 1\u001b[0;31m \u001b[0moptimize_rf\u001b[0m\u001b[0;34m(\u001b[0m\u001b[0mX_train\u001b[0m\u001b[0;34m,\u001b[0m\u001b[0my_train\u001b[0m\u001b[0;34m)\u001b[0m\u001b[0;34m\u001b[0m\u001b[0;34m\u001b[0m\u001b[0m\n\u001b[0m",
      "\u001b[0;32m<ipython-input-58-7f35f6dff1a6>\u001b[0m in \u001b[0;36moptimize_rf\u001b[0;34m(X, y)\u001b[0m\n\u001b[1;32m      6\u001b[0m     \u001b[0mparameters\u001b[0m \u001b[0;34m=\u001b[0m \u001b[0;34m{\u001b[0m\u001b[0;34m'ccp_alpha'\u001b[0m\u001b[0;34m:\u001b[0m\u001b[0mnp\u001b[0m\u001b[0;34m.\u001b[0m\u001b[0marange\u001b[0m\u001b[0;34m(\u001b[0m\u001b[0;36m0\u001b[0m\u001b[0;34m,\u001b[0m\u001b[0;36m0.05\u001b[0m\u001b[0;34m,\u001b[0m\u001b[0;36m0.005\u001b[0m\u001b[0;34m)\u001b[0m\u001b[0;34m,\u001b[0m\u001b[0;34m'criterion'\u001b[0m\u001b[0;34m:\u001b[0m\u001b[0;34m[\u001b[0m\u001b[0;34m'gini'\u001b[0m\u001b[0;34m,\u001b[0m\u001b[0;34m'entropy'\u001b[0m\u001b[0;34m]\u001b[0m\u001b[0;34m,\u001b[0m\u001b[0;34m'max_depth'\u001b[0m\u001b[0;34m:\u001b[0m\u001b[0mnp\u001b[0m\u001b[0;34m.\u001b[0m\u001b[0marange\u001b[0m\u001b[0;34m(\u001b[0m\u001b[0;36m3\u001b[0m\u001b[0;34m,\u001b[0m\u001b[0;36m9\u001b[0m\u001b[0;34m,\u001b[0m\u001b[0;36m1\u001b[0m\u001b[0;34m)\u001b[0m\u001b[0;34m,\u001b[0m\u001b[0;34m'n_estimators'\u001b[0m\u001b[0;34m:\u001b[0m\u001b[0;34m[\u001b[0m\u001b[0;36m10\u001b[0m\u001b[0;34m,\u001b[0m\u001b[0;36m20\u001b[0m\u001b[0;34m,\u001b[0m\u001b[0;36m50\u001b[0m\u001b[0;34m,\u001b[0m\u001b[0;36m100\u001b[0m\u001b[0;34m]\u001b[0m\u001b[0;34m}\u001b[0m\u001b[0;34m\u001b[0m\u001b[0;34m\u001b[0m\u001b[0m\n\u001b[1;32m      7\u001b[0m     \u001b[0mtest_RF_grid\u001b[0m \u001b[0;34m=\u001b[0m \u001b[0mGridSearchCV\u001b[0m\u001b[0;34m(\u001b[0m\u001b[0mtest_RF\u001b[0m\u001b[0;34m,\u001b[0m \u001b[0mparameters\u001b[0m\u001b[0;34m,\u001b[0m \u001b[0mcv\u001b[0m\u001b[0;34m=\u001b[0m\u001b[0;36m5\u001b[0m\u001b[0;34m,\u001b[0m \u001b[0mrefit\u001b[0m\u001b[0;34m=\u001b[0m\u001b[0;32mTrue\u001b[0m\u001b[0;34m,\u001b[0m\u001b[0mscoring\u001b[0m\u001b[0;34m=\u001b[0m\u001b[0;34m'accuracy'\u001b[0m\u001b[0;34m)\u001b[0m\u001b[0;34m\u001b[0m\u001b[0;34m\u001b[0m\u001b[0m\n\u001b[0;32m----> 8\u001b[0;31m     \u001b[0mtest_RF_grid\u001b[0m\u001b[0;34m.\u001b[0m\u001b[0mfit\u001b[0m\u001b[0;34m(\u001b[0m\u001b[0mX\u001b[0m\u001b[0;34m,\u001b[0m \u001b[0my\u001b[0m\u001b[0;34m)\u001b[0m\u001b[0;34m\u001b[0m\u001b[0;34m\u001b[0m\u001b[0m\n\u001b[0m\u001b[1;32m      9\u001b[0m     \u001b[0;32mfor\u001b[0m \u001b[0mkey\u001b[0m\u001b[0;34m,\u001b[0m \u001b[0mval\u001b[0m \u001b[0;32min\u001b[0m \u001b[0mtest_RF_grid\u001b[0m\u001b[0;34m.\u001b[0m\u001b[0mbest_params_\u001b[0m\u001b[0;34m.\u001b[0m\u001b[0mitems\u001b[0m\u001b[0;34m(\u001b[0m\u001b[0;34m)\u001b[0m\u001b[0;34m:\u001b[0m\u001b[0;34m\u001b[0m\u001b[0;34m\u001b[0m\u001b[0m\n\u001b[1;32m     10\u001b[0m         \u001b[0mprint\u001b[0m\u001b[0;34m(\u001b[0m\u001b[0;34mf\"{key}: {val}\"\u001b[0m\u001b[0;34m)\u001b[0m\u001b[0;34m\u001b[0m\u001b[0;34m\u001b[0m\u001b[0m\n",
      "\u001b[0;32m~/opt/anaconda3/lib/python3.8/site-packages/sklearn/utils/validation.py\u001b[0m in \u001b[0;36minner_f\u001b[0;34m(*args, **kwargs)\u001b[0m\n\u001b[1;32m     61\u001b[0m             \u001b[0mextra_args\u001b[0m \u001b[0;34m=\u001b[0m \u001b[0mlen\u001b[0m\u001b[0;34m(\u001b[0m\u001b[0margs\u001b[0m\u001b[0;34m)\u001b[0m \u001b[0;34m-\u001b[0m \u001b[0mlen\u001b[0m\u001b[0;34m(\u001b[0m\u001b[0mall_args\u001b[0m\u001b[0;34m)\u001b[0m\u001b[0;34m\u001b[0m\u001b[0;34m\u001b[0m\u001b[0m\n\u001b[1;32m     62\u001b[0m             \u001b[0;32mif\u001b[0m \u001b[0mextra_args\u001b[0m \u001b[0;34m<=\u001b[0m \u001b[0;36m0\u001b[0m\u001b[0;34m:\u001b[0m\u001b[0;34m\u001b[0m\u001b[0;34m\u001b[0m\u001b[0m\n\u001b[0;32m---> 63\u001b[0;31m                 \u001b[0;32mreturn\u001b[0m \u001b[0mf\u001b[0m\u001b[0;34m(\u001b[0m\u001b[0;34m*\u001b[0m\u001b[0margs\u001b[0m\u001b[0;34m,\u001b[0m \u001b[0;34m**\u001b[0m\u001b[0mkwargs\u001b[0m\u001b[0;34m)\u001b[0m\u001b[0;34m\u001b[0m\u001b[0;34m\u001b[0m\u001b[0m\n\u001b[0m\u001b[1;32m     64\u001b[0m \u001b[0;34m\u001b[0m\u001b[0m\n\u001b[1;32m     65\u001b[0m             \u001b[0;31m# extra_args > 0\u001b[0m\u001b[0;34m\u001b[0m\u001b[0;34m\u001b[0m\u001b[0;34m\u001b[0m\u001b[0m\n",
      "\u001b[0;32m~/opt/anaconda3/lib/python3.8/site-packages/sklearn/model_selection/_search.py\u001b[0m in \u001b[0;36mfit\u001b[0;34m(self, X, y, groups, **fit_params)\u001b[0m\n\u001b[1;32m    839\u001b[0m                 \u001b[0;32mreturn\u001b[0m \u001b[0mresults\u001b[0m\u001b[0;34m\u001b[0m\u001b[0;34m\u001b[0m\u001b[0m\n\u001b[1;32m    840\u001b[0m \u001b[0;34m\u001b[0m\u001b[0m\n\u001b[0;32m--> 841\u001b[0;31m             \u001b[0mself\u001b[0m\u001b[0;34m.\u001b[0m\u001b[0m_run_search\u001b[0m\u001b[0;34m(\u001b[0m\u001b[0mevaluate_candidates\u001b[0m\u001b[0;34m)\u001b[0m\u001b[0;34m\u001b[0m\u001b[0;34m\u001b[0m\u001b[0m\n\u001b[0m\u001b[1;32m    842\u001b[0m \u001b[0;34m\u001b[0m\u001b[0m\n\u001b[1;32m    843\u001b[0m             \u001b[0;31m# multimetric is determined here because in the case of a callable\u001b[0m\u001b[0;34m\u001b[0m\u001b[0;34m\u001b[0m\u001b[0;34m\u001b[0m\u001b[0m\n",
      "\u001b[0;32m~/opt/anaconda3/lib/python3.8/site-packages/sklearn/model_selection/_search.py\u001b[0m in \u001b[0;36m_run_search\u001b[0;34m(self, evaluate_candidates)\u001b[0m\n\u001b[1;32m   1286\u001b[0m     \u001b[0;32mdef\u001b[0m \u001b[0m_run_search\u001b[0m\u001b[0;34m(\u001b[0m\u001b[0mself\u001b[0m\u001b[0;34m,\u001b[0m \u001b[0mevaluate_candidates\u001b[0m\u001b[0;34m)\u001b[0m\u001b[0;34m:\u001b[0m\u001b[0;34m\u001b[0m\u001b[0;34m\u001b[0m\u001b[0m\n\u001b[1;32m   1287\u001b[0m         \u001b[0;34m\"\"\"Search all candidates in param_grid\"\"\"\u001b[0m\u001b[0;34m\u001b[0m\u001b[0;34m\u001b[0m\u001b[0m\n\u001b[0;32m-> 1288\u001b[0;31m         \u001b[0mevaluate_candidates\u001b[0m\u001b[0;34m(\u001b[0m\u001b[0mParameterGrid\u001b[0m\u001b[0;34m(\u001b[0m\u001b[0mself\u001b[0m\u001b[0;34m.\u001b[0m\u001b[0mparam_grid\u001b[0m\u001b[0;34m)\u001b[0m\u001b[0;34m)\u001b[0m\u001b[0;34m\u001b[0m\u001b[0;34m\u001b[0m\u001b[0m\n\u001b[0m\u001b[1;32m   1289\u001b[0m \u001b[0;34m\u001b[0m\u001b[0m\n\u001b[1;32m   1290\u001b[0m \u001b[0;34m\u001b[0m\u001b[0m\n",
      "\u001b[0;32m~/opt/anaconda3/lib/python3.8/site-packages/sklearn/model_selection/_search.py\u001b[0m in \u001b[0;36mevaluate_candidates\u001b[0;34m(candidate_params, cv, more_results)\u001b[0m\n\u001b[1;32m    793\u001b[0m                               n_splits, n_candidates, n_candidates * n_splits))\n\u001b[1;32m    794\u001b[0m \u001b[0;34m\u001b[0m\u001b[0m\n\u001b[0;32m--> 795\u001b[0;31m                 out = parallel(delayed(_fit_and_score)(clone(base_estimator),\n\u001b[0m\u001b[1;32m    796\u001b[0m                                                        \u001b[0mX\u001b[0m\u001b[0;34m,\u001b[0m \u001b[0my\u001b[0m\u001b[0;34m,\u001b[0m\u001b[0;34m\u001b[0m\u001b[0;34m\u001b[0m\u001b[0m\n\u001b[1;32m    797\u001b[0m                                                        \u001b[0mtrain\u001b[0m\u001b[0;34m=\u001b[0m\u001b[0mtrain\u001b[0m\u001b[0;34m,\u001b[0m \u001b[0mtest\u001b[0m\u001b[0;34m=\u001b[0m\u001b[0mtest\u001b[0m\u001b[0;34m,\u001b[0m\u001b[0;34m\u001b[0m\u001b[0;34m\u001b[0m\u001b[0m\n",
      "\u001b[0;32m~/opt/anaconda3/lib/python3.8/site-packages/joblib/parallel.py\u001b[0m in \u001b[0;36m__call__\u001b[0;34m(self, iterable)\u001b[0m\n\u001b[1;32m   1042\u001b[0m                 \u001b[0mself\u001b[0m\u001b[0;34m.\u001b[0m\u001b[0m_iterating\u001b[0m \u001b[0;34m=\u001b[0m \u001b[0mself\u001b[0m\u001b[0;34m.\u001b[0m\u001b[0m_original_iterator\u001b[0m \u001b[0;32mis\u001b[0m \u001b[0;32mnot\u001b[0m \u001b[0;32mNone\u001b[0m\u001b[0;34m\u001b[0m\u001b[0;34m\u001b[0m\u001b[0m\n\u001b[1;32m   1043\u001b[0m \u001b[0;34m\u001b[0m\u001b[0m\n\u001b[0;32m-> 1044\u001b[0;31m             \u001b[0;32mwhile\u001b[0m \u001b[0mself\u001b[0m\u001b[0;34m.\u001b[0m\u001b[0mdispatch_one_batch\u001b[0m\u001b[0;34m(\u001b[0m\u001b[0miterator\u001b[0m\u001b[0;34m)\u001b[0m\u001b[0;34m:\u001b[0m\u001b[0;34m\u001b[0m\u001b[0;34m\u001b[0m\u001b[0m\n\u001b[0m\u001b[1;32m   1045\u001b[0m                 \u001b[0;32mpass\u001b[0m\u001b[0;34m\u001b[0m\u001b[0;34m\u001b[0m\u001b[0m\n\u001b[1;32m   1046\u001b[0m \u001b[0;34m\u001b[0m\u001b[0m\n",
      "\u001b[0;32m~/opt/anaconda3/lib/python3.8/site-packages/joblib/parallel.py\u001b[0m in \u001b[0;36mdispatch_one_batch\u001b[0;34m(self, iterator)\u001b[0m\n\u001b[1;32m    857\u001b[0m                 \u001b[0;32mreturn\u001b[0m \u001b[0;32mFalse\u001b[0m\u001b[0;34m\u001b[0m\u001b[0;34m\u001b[0m\u001b[0m\n\u001b[1;32m    858\u001b[0m             \u001b[0;32melse\u001b[0m\u001b[0;34m:\u001b[0m\u001b[0;34m\u001b[0m\u001b[0;34m\u001b[0m\u001b[0m\n\u001b[0;32m--> 859\u001b[0;31m                 \u001b[0mself\u001b[0m\u001b[0;34m.\u001b[0m\u001b[0m_dispatch\u001b[0m\u001b[0;34m(\u001b[0m\u001b[0mtasks\u001b[0m\u001b[0;34m)\u001b[0m\u001b[0;34m\u001b[0m\u001b[0;34m\u001b[0m\u001b[0m\n\u001b[0m\u001b[1;32m    860\u001b[0m                 \u001b[0;32mreturn\u001b[0m \u001b[0;32mTrue\u001b[0m\u001b[0;34m\u001b[0m\u001b[0;34m\u001b[0m\u001b[0m\n\u001b[1;32m    861\u001b[0m \u001b[0;34m\u001b[0m\u001b[0m\n",
      "\u001b[0;32m~/opt/anaconda3/lib/python3.8/site-packages/joblib/parallel.py\u001b[0m in \u001b[0;36m_dispatch\u001b[0;34m(self, batch)\u001b[0m\n\u001b[1;32m    775\u001b[0m         \u001b[0;32mwith\u001b[0m \u001b[0mself\u001b[0m\u001b[0;34m.\u001b[0m\u001b[0m_lock\u001b[0m\u001b[0;34m:\u001b[0m\u001b[0;34m\u001b[0m\u001b[0;34m\u001b[0m\u001b[0m\n\u001b[1;32m    776\u001b[0m             \u001b[0mjob_idx\u001b[0m \u001b[0;34m=\u001b[0m \u001b[0mlen\u001b[0m\u001b[0;34m(\u001b[0m\u001b[0mself\u001b[0m\u001b[0;34m.\u001b[0m\u001b[0m_jobs\u001b[0m\u001b[0;34m)\u001b[0m\u001b[0;34m\u001b[0m\u001b[0;34m\u001b[0m\u001b[0m\n\u001b[0;32m--> 777\u001b[0;31m             \u001b[0mjob\u001b[0m \u001b[0;34m=\u001b[0m \u001b[0mself\u001b[0m\u001b[0;34m.\u001b[0m\u001b[0m_backend\u001b[0m\u001b[0;34m.\u001b[0m\u001b[0mapply_async\u001b[0m\u001b[0;34m(\u001b[0m\u001b[0mbatch\u001b[0m\u001b[0;34m,\u001b[0m \u001b[0mcallback\u001b[0m\u001b[0;34m=\u001b[0m\u001b[0mcb\u001b[0m\u001b[0;34m)\u001b[0m\u001b[0;34m\u001b[0m\u001b[0;34m\u001b[0m\u001b[0m\n\u001b[0m\u001b[1;32m    778\u001b[0m             \u001b[0;31m# A job can complete so quickly than its callback is\u001b[0m\u001b[0;34m\u001b[0m\u001b[0;34m\u001b[0m\u001b[0;34m\u001b[0m\u001b[0m\n\u001b[1;32m    779\u001b[0m             \u001b[0;31m# called before we get here, causing self._jobs to\u001b[0m\u001b[0;34m\u001b[0m\u001b[0;34m\u001b[0m\u001b[0;34m\u001b[0m\u001b[0m\n",
      "\u001b[0;32m~/opt/anaconda3/lib/python3.8/site-packages/joblib/_parallel_backends.py\u001b[0m in \u001b[0;36mapply_async\u001b[0;34m(self, func, callback)\u001b[0m\n\u001b[1;32m    206\u001b[0m     \u001b[0;32mdef\u001b[0m \u001b[0mapply_async\u001b[0m\u001b[0;34m(\u001b[0m\u001b[0mself\u001b[0m\u001b[0;34m,\u001b[0m \u001b[0mfunc\u001b[0m\u001b[0;34m,\u001b[0m \u001b[0mcallback\u001b[0m\u001b[0;34m=\u001b[0m\u001b[0;32mNone\u001b[0m\u001b[0;34m)\u001b[0m\u001b[0;34m:\u001b[0m\u001b[0;34m\u001b[0m\u001b[0;34m\u001b[0m\u001b[0m\n\u001b[1;32m    207\u001b[0m         \u001b[0;34m\"\"\"Schedule a func to be run\"\"\"\u001b[0m\u001b[0;34m\u001b[0m\u001b[0;34m\u001b[0m\u001b[0m\n\u001b[0;32m--> 208\u001b[0;31m         \u001b[0mresult\u001b[0m \u001b[0;34m=\u001b[0m \u001b[0mImmediateResult\u001b[0m\u001b[0;34m(\u001b[0m\u001b[0mfunc\u001b[0m\u001b[0;34m)\u001b[0m\u001b[0;34m\u001b[0m\u001b[0;34m\u001b[0m\u001b[0m\n\u001b[0m\u001b[1;32m    209\u001b[0m         \u001b[0;32mif\u001b[0m \u001b[0mcallback\u001b[0m\u001b[0;34m:\u001b[0m\u001b[0;34m\u001b[0m\u001b[0;34m\u001b[0m\u001b[0m\n\u001b[1;32m    210\u001b[0m             \u001b[0mcallback\u001b[0m\u001b[0;34m(\u001b[0m\u001b[0mresult\u001b[0m\u001b[0;34m)\u001b[0m\u001b[0;34m\u001b[0m\u001b[0;34m\u001b[0m\u001b[0m\n",
      "\u001b[0;32m~/opt/anaconda3/lib/python3.8/site-packages/joblib/_parallel_backends.py\u001b[0m in \u001b[0;36m__init__\u001b[0;34m(self, batch)\u001b[0m\n\u001b[1;32m    570\u001b[0m         \u001b[0;31m# Don't delay the application, to avoid keeping the input\u001b[0m\u001b[0;34m\u001b[0m\u001b[0;34m\u001b[0m\u001b[0;34m\u001b[0m\u001b[0m\n\u001b[1;32m    571\u001b[0m         \u001b[0;31m# arguments in memory\u001b[0m\u001b[0;34m\u001b[0m\u001b[0;34m\u001b[0m\u001b[0;34m\u001b[0m\u001b[0m\n\u001b[0;32m--> 572\u001b[0;31m         \u001b[0mself\u001b[0m\u001b[0;34m.\u001b[0m\u001b[0mresults\u001b[0m \u001b[0;34m=\u001b[0m \u001b[0mbatch\u001b[0m\u001b[0;34m(\u001b[0m\u001b[0;34m)\u001b[0m\u001b[0;34m\u001b[0m\u001b[0;34m\u001b[0m\u001b[0m\n\u001b[0m\u001b[1;32m    573\u001b[0m \u001b[0;34m\u001b[0m\u001b[0m\n\u001b[1;32m    574\u001b[0m     \u001b[0;32mdef\u001b[0m \u001b[0mget\u001b[0m\u001b[0;34m(\u001b[0m\u001b[0mself\u001b[0m\u001b[0;34m)\u001b[0m\u001b[0;34m:\u001b[0m\u001b[0;34m\u001b[0m\u001b[0;34m\u001b[0m\u001b[0m\n",
      "\u001b[0;32m~/opt/anaconda3/lib/python3.8/site-packages/joblib/parallel.py\u001b[0m in \u001b[0;36m__call__\u001b[0;34m(self)\u001b[0m\n\u001b[1;32m    260\u001b[0m         \u001b[0;31m# change the default number of processes to -1\u001b[0m\u001b[0;34m\u001b[0m\u001b[0;34m\u001b[0m\u001b[0;34m\u001b[0m\u001b[0m\n\u001b[1;32m    261\u001b[0m         \u001b[0;32mwith\u001b[0m \u001b[0mparallel_backend\u001b[0m\u001b[0;34m(\u001b[0m\u001b[0mself\u001b[0m\u001b[0;34m.\u001b[0m\u001b[0m_backend\u001b[0m\u001b[0;34m,\u001b[0m \u001b[0mn_jobs\u001b[0m\u001b[0;34m=\u001b[0m\u001b[0mself\u001b[0m\u001b[0;34m.\u001b[0m\u001b[0m_n_jobs\u001b[0m\u001b[0;34m)\u001b[0m\u001b[0;34m:\u001b[0m\u001b[0;34m\u001b[0m\u001b[0;34m\u001b[0m\u001b[0m\n\u001b[0;32m--> 262\u001b[0;31m             return [func(*args, **kwargs)\n\u001b[0m\u001b[1;32m    263\u001b[0m                     for func, args, kwargs in self.items]\n\u001b[1;32m    264\u001b[0m \u001b[0;34m\u001b[0m\u001b[0m\n",
      "\u001b[0;32m~/opt/anaconda3/lib/python3.8/site-packages/joblib/parallel.py\u001b[0m in \u001b[0;36m<listcomp>\u001b[0;34m(.0)\u001b[0m\n\u001b[1;32m    260\u001b[0m         \u001b[0;31m# change the default number of processes to -1\u001b[0m\u001b[0;34m\u001b[0m\u001b[0;34m\u001b[0m\u001b[0;34m\u001b[0m\u001b[0m\n\u001b[1;32m    261\u001b[0m         \u001b[0;32mwith\u001b[0m \u001b[0mparallel_backend\u001b[0m\u001b[0;34m(\u001b[0m\u001b[0mself\u001b[0m\u001b[0;34m.\u001b[0m\u001b[0m_backend\u001b[0m\u001b[0;34m,\u001b[0m \u001b[0mn_jobs\u001b[0m\u001b[0;34m=\u001b[0m\u001b[0mself\u001b[0m\u001b[0;34m.\u001b[0m\u001b[0m_n_jobs\u001b[0m\u001b[0;34m)\u001b[0m\u001b[0;34m:\u001b[0m\u001b[0;34m\u001b[0m\u001b[0;34m\u001b[0m\u001b[0m\n\u001b[0;32m--> 262\u001b[0;31m             return [func(*args, **kwargs)\n\u001b[0m\u001b[1;32m    263\u001b[0m                     for func, args, kwargs in self.items]\n\u001b[1;32m    264\u001b[0m \u001b[0;34m\u001b[0m\u001b[0m\n",
      "\u001b[0;32m~/opt/anaconda3/lib/python3.8/site-packages/sklearn/utils/fixes.py\u001b[0m in \u001b[0;36m__call__\u001b[0;34m(self, *args, **kwargs)\u001b[0m\n\u001b[1;32m    220\u001b[0m     \u001b[0;32mdef\u001b[0m \u001b[0m__call__\u001b[0m\u001b[0;34m(\u001b[0m\u001b[0mself\u001b[0m\u001b[0;34m,\u001b[0m \u001b[0;34m*\u001b[0m\u001b[0margs\u001b[0m\u001b[0;34m,\u001b[0m \u001b[0;34m**\u001b[0m\u001b[0mkwargs\u001b[0m\u001b[0;34m)\u001b[0m\u001b[0;34m:\u001b[0m\u001b[0;34m\u001b[0m\u001b[0;34m\u001b[0m\u001b[0m\n\u001b[1;32m    221\u001b[0m         \u001b[0;32mwith\u001b[0m \u001b[0mconfig_context\u001b[0m\u001b[0;34m(\u001b[0m\u001b[0;34m**\u001b[0m\u001b[0mself\u001b[0m\u001b[0;34m.\u001b[0m\u001b[0mconfig\u001b[0m\u001b[0;34m)\u001b[0m\u001b[0;34m:\u001b[0m\u001b[0;34m\u001b[0m\u001b[0;34m\u001b[0m\u001b[0m\n\u001b[0;32m--> 222\u001b[0;31m             \u001b[0;32mreturn\u001b[0m \u001b[0mself\u001b[0m\u001b[0;34m.\u001b[0m\u001b[0mfunction\u001b[0m\u001b[0;34m(\u001b[0m\u001b[0;34m*\u001b[0m\u001b[0margs\u001b[0m\u001b[0;34m,\u001b[0m \u001b[0;34m**\u001b[0m\u001b[0mkwargs\u001b[0m\u001b[0;34m)\u001b[0m\u001b[0;34m\u001b[0m\u001b[0;34m\u001b[0m\u001b[0m\n\u001b[0m",
      "\u001b[0;32m~/opt/anaconda3/lib/python3.8/site-packages/sklearn/model_selection/_validation.py\u001b[0m in \u001b[0;36m_fit_and_score\u001b[0;34m(estimator, X, y, scorer, train, test, verbose, parameters, fit_params, return_train_score, return_parameters, return_n_test_samples, return_times, return_estimator, split_progress, candidate_progress, error_score)\u001b[0m\n\u001b[1;32m    591\u001b[0m             \u001b[0mestimator\u001b[0m\u001b[0;34m.\u001b[0m\u001b[0mfit\u001b[0m\u001b[0;34m(\u001b[0m\u001b[0mX_train\u001b[0m\u001b[0;34m,\u001b[0m \u001b[0;34m**\u001b[0m\u001b[0mfit_params\u001b[0m\u001b[0;34m)\u001b[0m\u001b[0;34m\u001b[0m\u001b[0;34m\u001b[0m\u001b[0m\n\u001b[1;32m    592\u001b[0m         \u001b[0;32melse\u001b[0m\u001b[0;34m:\u001b[0m\u001b[0;34m\u001b[0m\u001b[0;34m\u001b[0m\u001b[0m\n\u001b[0;32m--> 593\u001b[0;31m             \u001b[0mestimator\u001b[0m\u001b[0;34m.\u001b[0m\u001b[0mfit\u001b[0m\u001b[0;34m(\u001b[0m\u001b[0mX_train\u001b[0m\u001b[0;34m,\u001b[0m \u001b[0my_train\u001b[0m\u001b[0;34m,\u001b[0m \u001b[0;34m**\u001b[0m\u001b[0mfit_params\u001b[0m\u001b[0;34m)\u001b[0m\u001b[0;34m\u001b[0m\u001b[0;34m\u001b[0m\u001b[0m\n\u001b[0m\u001b[1;32m    594\u001b[0m \u001b[0;34m\u001b[0m\u001b[0m\n\u001b[1;32m    595\u001b[0m     \u001b[0;32mexcept\u001b[0m \u001b[0mException\u001b[0m \u001b[0;32mas\u001b[0m \u001b[0me\u001b[0m\u001b[0;34m:\u001b[0m\u001b[0;34m\u001b[0m\u001b[0;34m\u001b[0m\u001b[0m\n",
      "\u001b[0;32m~/opt/anaconda3/lib/python3.8/site-packages/sklearn/ensemble/_forest.py\u001b[0m in \u001b[0;36mfit\u001b[0;34m(self, X, y, sample_weight)\u001b[0m\n\u001b[1;32m    385\u001b[0m             \u001b[0;31m# parallel_backend contexts set at a higher level,\u001b[0m\u001b[0;34m\u001b[0m\u001b[0;34m\u001b[0m\u001b[0;34m\u001b[0m\u001b[0m\n\u001b[1;32m    386\u001b[0m             \u001b[0;31m# since correctness does not rely on using threads.\u001b[0m\u001b[0;34m\u001b[0m\u001b[0;34m\u001b[0m\u001b[0;34m\u001b[0m\u001b[0m\n\u001b[0;32m--> 387\u001b[0;31m             trees = Parallel(n_jobs=self.n_jobs, verbose=self.verbose,\n\u001b[0m\u001b[1;32m    388\u001b[0m                              \u001b[0;34m**\u001b[0m\u001b[0m_joblib_parallel_args\u001b[0m\u001b[0;34m(\u001b[0m\u001b[0mprefer\u001b[0m\u001b[0;34m=\u001b[0m\u001b[0;34m'threads'\u001b[0m\u001b[0;34m)\u001b[0m\u001b[0;34m)\u001b[0m\u001b[0;34m(\u001b[0m\u001b[0;34m\u001b[0m\u001b[0;34m\u001b[0m\u001b[0m\n\u001b[1;32m    389\u001b[0m                 delayed(_parallel_build_trees)(\n",
      "\u001b[0;32m~/opt/anaconda3/lib/python3.8/site-packages/joblib/parallel.py\u001b[0m in \u001b[0;36m__call__\u001b[0;34m(self, iterable)\u001b[0m\n\u001b[1;32m   1042\u001b[0m                 \u001b[0mself\u001b[0m\u001b[0;34m.\u001b[0m\u001b[0m_iterating\u001b[0m \u001b[0;34m=\u001b[0m \u001b[0mself\u001b[0m\u001b[0;34m.\u001b[0m\u001b[0m_original_iterator\u001b[0m \u001b[0;32mis\u001b[0m \u001b[0;32mnot\u001b[0m \u001b[0;32mNone\u001b[0m\u001b[0;34m\u001b[0m\u001b[0;34m\u001b[0m\u001b[0m\n\u001b[1;32m   1043\u001b[0m \u001b[0;34m\u001b[0m\u001b[0m\n\u001b[0;32m-> 1044\u001b[0;31m             \u001b[0;32mwhile\u001b[0m \u001b[0mself\u001b[0m\u001b[0;34m.\u001b[0m\u001b[0mdispatch_one_batch\u001b[0m\u001b[0;34m(\u001b[0m\u001b[0miterator\u001b[0m\u001b[0;34m)\u001b[0m\u001b[0;34m:\u001b[0m\u001b[0;34m\u001b[0m\u001b[0;34m\u001b[0m\u001b[0m\n\u001b[0m\u001b[1;32m   1045\u001b[0m                 \u001b[0;32mpass\u001b[0m\u001b[0;34m\u001b[0m\u001b[0;34m\u001b[0m\u001b[0m\n\u001b[1;32m   1046\u001b[0m \u001b[0;34m\u001b[0m\u001b[0m\n",
      "\u001b[0;32m~/opt/anaconda3/lib/python3.8/site-packages/joblib/parallel.py\u001b[0m in \u001b[0;36mdispatch_one_batch\u001b[0;34m(self, iterator)\u001b[0m\n\u001b[1;32m    857\u001b[0m                 \u001b[0;32mreturn\u001b[0m \u001b[0;32mFalse\u001b[0m\u001b[0;34m\u001b[0m\u001b[0;34m\u001b[0m\u001b[0m\n\u001b[1;32m    858\u001b[0m             \u001b[0;32melse\u001b[0m\u001b[0;34m:\u001b[0m\u001b[0;34m\u001b[0m\u001b[0;34m\u001b[0m\u001b[0m\n\u001b[0;32m--> 859\u001b[0;31m                 \u001b[0mself\u001b[0m\u001b[0;34m.\u001b[0m\u001b[0m_dispatch\u001b[0m\u001b[0;34m(\u001b[0m\u001b[0mtasks\u001b[0m\u001b[0;34m)\u001b[0m\u001b[0;34m\u001b[0m\u001b[0;34m\u001b[0m\u001b[0m\n\u001b[0m\u001b[1;32m    860\u001b[0m                 \u001b[0;32mreturn\u001b[0m \u001b[0;32mTrue\u001b[0m\u001b[0;34m\u001b[0m\u001b[0;34m\u001b[0m\u001b[0m\n\u001b[1;32m    861\u001b[0m \u001b[0;34m\u001b[0m\u001b[0m\n",
      "\u001b[0;32m~/opt/anaconda3/lib/python3.8/site-packages/joblib/parallel.py\u001b[0m in \u001b[0;36m_dispatch\u001b[0;34m(self, batch)\u001b[0m\n\u001b[1;32m    775\u001b[0m         \u001b[0;32mwith\u001b[0m \u001b[0mself\u001b[0m\u001b[0;34m.\u001b[0m\u001b[0m_lock\u001b[0m\u001b[0;34m:\u001b[0m\u001b[0;34m\u001b[0m\u001b[0;34m\u001b[0m\u001b[0m\n\u001b[1;32m    776\u001b[0m             \u001b[0mjob_idx\u001b[0m \u001b[0;34m=\u001b[0m \u001b[0mlen\u001b[0m\u001b[0;34m(\u001b[0m\u001b[0mself\u001b[0m\u001b[0;34m.\u001b[0m\u001b[0m_jobs\u001b[0m\u001b[0;34m)\u001b[0m\u001b[0;34m\u001b[0m\u001b[0;34m\u001b[0m\u001b[0m\n\u001b[0;32m--> 777\u001b[0;31m             \u001b[0mjob\u001b[0m \u001b[0;34m=\u001b[0m \u001b[0mself\u001b[0m\u001b[0;34m.\u001b[0m\u001b[0m_backend\u001b[0m\u001b[0;34m.\u001b[0m\u001b[0mapply_async\u001b[0m\u001b[0;34m(\u001b[0m\u001b[0mbatch\u001b[0m\u001b[0;34m,\u001b[0m \u001b[0mcallback\u001b[0m\u001b[0;34m=\u001b[0m\u001b[0mcb\u001b[0m\u001b[0;34m)\u001b[0m\u001b[0;34m\u001b[0m\u001b[0;34m\u001b[0m\u001b[0m\n\u001b[0m\u001b[1;32m    778\u001b[0m             \u001b[0;31m# A job can complete so quickly than its callback is\u001b[0m\u001b[0;34m\u001b[0m\u001b[0;34m\u001b[0m\u001b[0;34m\u001b[0m\u001b[0m\n\u001b[1;32m    779\u001b[0m             \u001b[0;31m# called before we get here, causing self._jobs to\u001b[0m\u001b[0;34m\u001b[0m\u001b[0;34m\u001b[0m\u001b[0;34m\u001b[0m\u001b[0m\n",
      "\u001b[0;32m~/opt/anaconda3/lib/python3.8/site-packages/joblib/_parallel_backends.py\u001b[0m in \u001b[0;36mapply_async\u001b[0;34m(self, func, callback)\u001b[0m\n\u001b[1;32m    206\u001b[0m     \u001b[0;32mdef\u001b[0m \u001b[0mapply_async\u001b[0m\u001b[0;34m(\u001b[0m\u001b[0mself\u001b[0m\u001b[0;34m,\u001b[0m \u001b[0mfunc\u001b[0m\u001b[0;34m,\u001b[0m \u001b[0mcallback\u001b[0m\u001b[0;34m=\u001b[0m\u001b[0;32mNone\u001b[0m\u001b[0;34m)\u001b[0m\u001b[0;34m:\u001b[0m\u001b[0;34m\u001b[0m\u001b[0;34m\u001b[0m\u001b[0m\n\u001b[1;32m    207\u001b[0m         \u001b[0;34m\"\"\"Schedule a func to be run\"\"\"\u001b[0m\u001b[0;34m\u001b[0m\u001b[0;34m\u001b[0m\u001b[0m\n\u001b[0;32m--> 208\u001b[0;31m         \u001b[0mresult\u001b[0m \u001b[0;34m=\u001b[0m \u001b[0mImmediateResult\u001b[0m\u001b[0;34m(\u001b[0m\u001b[0mfunc\u001b[0m\u001b[0;34m)\u001b[0m\u001b[0;34m\u001b[0m\u001b[0;34m\u001b[0m\u001b[0m\n\u001b[0m\u001b[1;32m    209\u001b[0m         \u001b[0;32mif\u001b[0m \u001b[0mcallback\u001b[0m\u001b[0;34m:\u001b[0m\u001b[0;34m\u001b[0m\u001b[0;34m\u001b[0m\u001b[0m\n\u001b[1;32m    210\u001b[0m             \u001b[0mcallback\u001b[0m\u001b[0;34m(\u001b[0m\u001b[0mresult\u001b[0m\u001b[0;34m)\u001b[0m\u001b[0;34m\u001b[0m\u001b[0;34m\u001b[0m\u001b[0m\n",
      "\u001b[0;32m~/opt/anaconda3/lib/python3.8/site-packages/joblib/_parallel_backends.py\u001b[0m in \u001b[0;36m__init__\u001b[0;34m(self, batch)\u001b[0m\n\u001b[1;32m    570\u001b[0m         \u001b[0;31m# Don't delay the application, to avoid keeping the input\u001b[0m\u001b[0;34m\u001b[0m\u001b[0;34m\u001b[0m\u001b[0;34m\u001b[0m\u001b[0m\n\u001b[1;32m    571\u001b[0m         \u001b[0;31m# arguments in memory\u001b[0m\u001b[0;34m\u001b[0m\u001b[0;34m\u001b[0m\u001b[0;34m\u001b[0m\u001b[0m\n\u001b[0;32m--> 572\u001b[0;31m         \u001b[0mself\u001b[0m\u001b[0;34m.\u001b[0m\u001b[0mresults\u001b[0m \u001b[0;34m=\u001b[0m \u001b[0mbatch\u001b[0m\u001b[0;34m(\u001b[0m\u001b[0;34m)\u001b[0m\u001b[0;34m\u001b[0m\u001b[0;34m\u001b[0m\u001b[0m\n\u001b[0m\u001b[1;32m    573\u001b[0m \u001b[0;34m\u001b[0m\u001b[0m\n\u001b[1;32m    574\u001b[0m     \u001b[0;32mdef\u001b[0m \u001b[0mget\u001b[0m\u001b[0;34m(\u001b[0m\u001b[0mself\u001b[0m\u001b[0;34m)\u001b[0m\u001b[0;34m:\u001b[0m\u001b[0;34m\u001b[0m\u001b[0;34m\u001b[0m\u001b[0m\n",
      "\u001b[0;32m~/opt/anaconda3/lib/python3.8/site-packages/joblib/parallel.py\u001b[0m in \u001b[0;36m__call__\u001b[0;34m(self)\u001b[0m\n\u001b[1;32m    260\u001b[0m         \u001b[0;31m# change the default number of processes to -1\u001b[0m\u001b[0;34m\u001b[0m\u001b[0;34m\u001b[0m\u001b[0;34m\u001b[0m\u001b[0m\n\u001b[1;32m    261\u001b[0m         \u001b[0;32mwith\u001b[0m \u001b[0mparallel_backend\u001b[0m\u001b[0;34m(\u001b[0m\u001b[0mself\u001b[0m\u001b[0;34m.\u001b[0m\u001b[0m_backend\u001b[0m\u001b[0;34m,\u001b[0m \u001b[0mn_jobs\u001b[0m\u001b[0;34m=\u001b[0m\u001b[0mself\u001b[0m\u001b[0;34m.\u001b[0m\u001b[0m_n_jobs\u001b[0m\u001b[0;34m)\u001b[0m\u001b[0;34m:\u001b[0m\u001b[0;34m\u001b[0m\u001b[0;34m\u001b[0m\u001b[0m\n\u001b[0;32m--> 262\u001b[0;31m             return [func(*args, **kwargs)\n\u001b[0m\u001b[1;32m    263\u001b[0m                     for func, args, kwargs in self.items]\n\u001b[1;32m    264\u001b[0m \u001b[0;34m\u001b[0m\u001b[0m\n",
      "\u001b[0;32m~/opt/anaconda3/lib/python3.8/site-packages/joblib/parallel.py\u001b[0m in \u001b[0;36m<listcomp>\u001b[0;34m(.0)\u001b[0m\n\u001b[1;32m    260\u001b[0m         \u001b[0;31m# change the default number of processes to -1\u001b[0m\u001b[0;34m\u001b[0m\u001b[0;34m\u001b[0m\u001b[0;34m\u001b[0m\u001b[0m\n\u001b[1;32m    261\u001b[0m         \u001b[0;32mwith\u001b[0m \u001b[0mparallel_backend\u001b[0m\u001b[0;34m(\u001b[0m\u001b[0mself\u001b[0m\u001b[0;34m.\u001b[0m\u001b[0m_backend\u001b[0m\u001b[0;34m,\u001b[0m \u001b[0mn_jobs\u001b[0m\u001b[0;34m=\u001b[0m\u001b[0mself\u001b[0m\u001b[0;34m.\u001b[0m\u001b[0m_n_jobs\u001b[0m\u001b[0;34m)\u001b[0m\u001b[0;34m:\u001b[0m\u001b[0;34m\u001b[0m\u001b[0;34m\u001b[0m\u001b[0m\n\u001b[0;32m--> 262\u001b[0;31m             return [func(*args, **kwargs)\n\u001b[0m\u001b[1;32m    263\u001b[0m                     for func, args, kwargs in self.items]\n\u001b[1;32m    264\u001b[0m \u001b[0;34m\u001b[0m\u001b[0m\n",
      "\u001b[0;32m~/opt/anaconda3/lib/python3.8/site-packages/sklearn/utils/fixes.py\u001b[0m in \u001b[0;36m__call__\u001b[0;34m(self, *args, **kwargs)\u001b[0m\n\u001b[1;32m    220\u001b[0m     \u001b[0;32mdef\u001b[0m \u001b[0m__call__\u001b[0m\u001b[0;34m(\u001b[0m\u001b[0mself\u001b[0m\u001b[0;34m,\u001b[0m \u001b[0;34m*\u001b[0m\u001b[0margs\u001b[0m\u001b[0;34m,\u001b[0m \u001b[0;34m**\u001b[0m\u001b[0mkwargs\u001b[0m\u001b[0;34m)\u001b[0m\u001b[0;34m:\u001b[0m\u001b[0;34m\u001b[0m\u001b[0;34m\u001b[0m\u001b[0m\n\u001b[1;32m    221\u001b[0m         \u001b[0;32mwith\u001b[0m \u001b[0mconfig_context\u001b[0m\u001b[0;34m(\u001b[0m\u001b[0;34m**\u001b[0m\u001b[0mself\u001b[0m\u001b[0;34m.\u001b[0m\u001b[0mconfig\u001b[0m\u001b[0;34m)\u001b[0m\u001b[0;34m:\u001b[0m\u001b[0;34m\u001b[0m\u001b[0;34m\u001b[0m\u001b[0m\n\u001b[0;32m--> 222\u001b[0;31m             \u001b[0;32mreturn\u001b[0m \u001b[0mself\u001b[0m\u001b[0;34m.\u001b[0m\u001b[0mfunction\u001b[0m\u001b[0;34m(\u001b[0m\u001b[0;34m*\u001b[0m\u001b[0margs\u001b[0m\u001b[0;34m,\u001b[0m \u001b[0;34m**\u001b[0m\u001b[0mkwargs\u001b[0m\u001b[0;34m)\u001b[0m\u001b[0;34m\u001b[0m\u001b[0;34m\u001b[0m\u001b[0m\n\u001b[0m",
      "\u001b[0;32m~/opt/anaconda3/lib/python3.8/site-packages/sklearn/ensemble/_forest.py\u001b[0m in \u001b[0;36m_parallel_build_trees\u001b[0;34m(tree, forest, X, y, sample_weight, tree_idx, n_trees, verbose, class_weight, n_samples_bootstrap)\u001b[0m\n\u001b[1;32m    153\u001b[0m             \u001b[0mcurr_sample_weight\u001b[0m \u001b[0;34m=\u001b[0m \u001b[0msample_weight\u001b[0m\u001b[0;34m.\u001b[0m\u001b[0mcopy\u001b[0m\u001b[0;34m(\u001b[0m\u001b[0;34m)\u001b[0m\u001b[0;34m\u001b[0m\u001b[0;34m\u001b[0m\u001b[0m\n\u001b[1;32m    154\u001b[0m \u001b[0;34m\u001b[0m\u001b[0m\n\u001b[0;32m--> 155\u001b[0;31m         indices = _generate_sample_indices(tree.random_state, n_samples,\n\u001b[0m\u001b[1;32m    156\u001b[0m                                            n_samples_bootstrap)\n\u001b[1;32m    157\u001b[0m         \u001b[0msample_counts\u001b[0m \u001b[0;34m=\u001b[0m \u001b[0mnp\u001b[0m\u001b[0;34m.\u001b[0m\u001b[0mbincount\u001b[0m\u001b[0;34m(\u001b[0m\u001b[0mindices\u001b[0m\u001b[0;34m,\u001b[0m \u001b[0mminlength\u001b[0m\u001b[0;34m=\u001b[0m\u001b[0mn_samples\u001b[0m\u001b[0;34m)\u001b[0m\u001b[0;34m\u001b[0m\u001b[0;34m\u001b[0m\u001b[0m\n",
      "\u001b[0;32m~/opt/anaconda3/lib/python3.8/site-packages/sklearn/ensemble/_forest.py\u001b[0m in \u001b[0;36m_generate_sample_indices\u001b[0;34m(random_state, n_samples, n_samples_bootstrap)\u001b[0m\n\u001b[1;32m    119\u001b[0m     Private function used to _parallel_build_trees function.\"\"\"\n\u001b[1;32m    120\u001b[0m \u001b[0;34m\u001b[0m\u001b[0m\n\u001b[0;32m--> 121\u001b[0;31m     \u001b[0mrandom_instance\u001b[0m \u001b[0;34m=\u001b[0m \u001b[0mcheck_random_state\u001b[0m\u001b[0;34m(\u001b[0m\u001b[0mrandom_state\u001b[0m\u001b[0;34m)\u001b[0m\u001b[0;34m\u001b[0m\u001b[0;34m\u001b[0m\u001b[0m\n\u001b[0m\u001b[1;32m    122\u001b[0m     \u001b[0msample_indices\u001b[0m \u001b[0;34m=\u001b[0m \u001b[0mrandom_instance\u001b[0m\u001b[0;34m.\u001b[0m\u001b[0mrandint\u001b[0m\u001b[0;34m(\u001b[0m\u001b[0;36m0\u001b[0m\u001b[0;34m,\u001b[0m \u001b[0mn_samples\u001b[0m\u001b[0;34m,\u001b[0m \u001b[0mn_samples_bootstrap\u001b[0m\u001b[0;34m)\u001b[0m\u001b[0;34m\u001b[0m\u001b[0;34m\u001b[0m\u001b[0m\n\u001b[1;32m    123\u001b[0m \u001b[0;34m\u001b[0m\u001b[0m\n",
      "\u001b[0;32m~/opt/anaconda3/lib/python3.8/site-packages/sklearn/utils/validation.py\u001b[0m in \u001b[0;36mcheck_random_state\u001b[0;34m(seed)\u001b[0m\n\u001b[1;32m    881\u001b[0m         \u001b[0;32mreturn\u001b[0m \u001b[0mnp\u001b[0m\u001b[0;34m.\u001b[0m\u001b[0mrandom\u001b[0m\u001b[0;34m.\u001b[0m\u001b[0mmtrand\u001b[0m\u001b[0;34m.\u001b[0m\u001b[0m_rand\u001b[0m\u001b[0;34m\u001b[0m\u001b[0;34m\u001b[0m\u001b[0m\n\u001b[1;32m    882\u001b[0m     \u001b[0;32mif\u001b[0m \u001b[0misinstance\u001b[0m\u001b[0;34m(\u001b[0m\u001b[0mseed\u001b[0m\u001b[0;34m,\u001b[0m \u001b[0mnumbers\u001b[0m\u001b[0;34m.\u001b[0m\u001b[0mIntegral\u001b[0m\u001b[0;34m)\u001b[0m\u001b[0;34m:\u001b[0m\u001b[0;34m\u001b[0m\u001b[0;34m\u001b[0m\u001b[0m\n\u001b[0;32m--> 883\u001b[0;31m         \u001b[0;32mreturn\u001b[0m \u001b[0mnp\u001b[0m\u001b[0;34m.\u001b[0m\u001b[0mrandom\u001b[0m\u001b[0;34m.\u001b[0m\u001b[0mRandomState\u001b[0m\u001b[0;34m(\u001b[0m\u001b[0mseed\u001b[0m\u001b[0;34m)\u001b[0m\u001b[0;34m\u001b[0m\u001b[0;34m\u001b[0m\u001b[0m\n\u001b[0m\u001b[1;32m    884\u001b[0m     \u001b[0;32mif\u001b[0m \u001b[0misinstance\u001b[0m\u001b[0;34m(\u001b[0m\u001b[0mseed\u001b[0m\u001b[0;34m,\u001b[0m \u001b[0mnp\u001b[0m\u001b[0;34m.\u001b[0m\u001b[0mrandom\u001b[0m\u001b[0;34m.\u001b[0m\u001b[0mRandomState\u001b[0m\u001b[0;34m)\u001b[0m\u001b[0;34m:\u001b[0m\u001b[0;34m\u001b[0m\u001b[0;34m\u001b[0m\u001b[0m\n\u001b[1;32m    885\u001b[0m         \u001b[0;32mreturn\u001b[0m \u001b[0mseed\u001b[0m\u001b[0;34m\u001b[0m\u001b[0;34m\u001b[0m\u001b[0m\n",
      "\u001b[0;31mKeyboardInterrupt\u001b[0m: "
     ]
    }
   ],
   "source": [
    "optimize_rf(X_train,y_train)"
   ]
  },
  {
   "cell_type": "code",
   "execution_count": 152,
   "metadata": {},
   "outputs": [],
   "source": [
    "model_RF_lite = RandomForestClassifier(random_state=42,ccp_alpha=0.03,criterion=\"entropy\",max_depth=3,n_estimators=50)"
   ]
  },
  {
   "cell_type": "markdown",
   "metadata": {},
   "source": [
    "## Defining"
   ]
  },
  {
   "cell_type": "code",
   "execution_count": 153,
   "metadata": {},
   "outputs": [],
   "source": [
    "models_lite = {\"LR\":model_LR_lite,\"DT\":model_DT_lite,\"NB\":GaussianNB(),\"RF\":model_RF_lite}"
   ]
  },
  {
   "cell_type": "markdown",
   "metadata": {},
   "source": [
    "---"
   ]
  },
  {
   "cell_type": "markdown",
   "metadata": {},
   "source": [
    "# Comparing Lite and Full Models\n",
    "Following Mengjia's analysis, we compare the accuracy and CV from the lite and full models."
   ]
  },
  {
   "cell_type": "markdown",
   "metadata": {},
   "source": [
    "## Lite"
   ]
  },
  {
   "cell_type": "code",
   "execution_count": 79,
   "metadata": {},
   "outputs": [
    {
     "name": "stdout",
     "output_type": "stream",
     "text": [
      "LR LogisticRegression(fit_intercept=False, max_iter=1000, random_state=42)\n",
      "DT DecisionTreeClassifier(criterion='entropy', max_depth=8, random_state=42)\n",
      "NB GaussianNB()\n",
      "RF RandomForestClassifier(ccp_alpha=0.03, criterion='entropy', max_depth=8,\n",
      "                       n_estimators=50, random_state=42)\n"
     ]
    }
   ],
   "source": [
    "for label, model in models_lite.items(): \n",
    "    print(label,model)"
   ]
  },
  {
   "cell_type": "code",
   "execution_count": 80,
   "metadata": {},
   "outputs": [],
   "source": [
    "res_lite = {\"model\":[],\"cv_mean\":[],\"cv_std\":[],\"accuracy\":[]}\n",
    "preds_lite = {\"model\":[],\"predictions\":[]}\n",
    "for label, model in models_lite.items():\n",
    "    # CV score\n",
    "    cv_score = cross_val_score(model, X_train, y_train, cv=5, scoring='accuracy')\n",
    "    \n",
    "    # Prediction accuracy\n",
    "    model.fit(X_train, y_train)\n",
    "    pred_lite = model.predict(X_test)\n",
    "    ## saving to dict\n",
    "    preds_lite[\"model\"].append(label)\n",
    "    preds_lite[\"predictions\"].append(pred_lite)\n",
    "    \n",
    "    # Updating comparison dict\n",
    "    for key, val in zip(res_lite.keys(),[label,cv_score.mean(),cv_score.std(),accuracy_score(pred_lite,y_test)]):\n",
    "        res_lite[key].append(val)\n",
    "        \n",
    "res_lite_df = pd.DataFrame(res_lite)"
   ]
  },
  {
   "cell_type": "code",
   "execution_count": 123,
   "metadata": {},
   "outputs": [],
   "source": [
    "res_lite = {\"model\":[],\"cv_mean\":[],\"cv_std\":[],\"accuracy\":[]}\n",
    "for label, model in models_lite.items():\n",
    "    accuracies = {\"train\":[],\"test\":[]}\n",
    "    for i, (train, test) in enumerate(KFold(n_splits=5).split(X_scaled, Y1)):\n",
    "        clf = model.fit(X_scaled.iloc[train],Y1.iloc[train])\n",
    "        for set_label,set_locs in zip([\"train\",\"test\"],[train,test]):\n",
    "            accuracies[set_label].append(accuracy_score(Y1.iloc[set_locs],clf.predict(X_scaled.iloc[set_locs])))\n",
    "    \n",
    "    # Updating comparison dict\n",
    "    for key, val in zip(res_lite.keys(),[label,np.mean(accuracies[\"train\"]),np.std(accuracies[\"train\"]),np.mean(accuracies[\"test\"]),np.std(accuracies[\"test\"])]):\n",
    "        res_lite[key].append(val)\n",
    "        \n",
    "res_lite_df = pd.DataFrame(res_lite)"
   ]
  },
  {
   "cell_type": "code",
   "execution_count": 124,
   "metadata": {},
   "outputs": [],
   "source": [
    "def get_cv(X, y, models=models_lite):\n",
    "    \"\"\"\"\"\"\n",
    "    \n",
    "    res = {\"model\":[],\"cv_mean\":[],\"cv_std\":[],\"accuracy_mean\":[],\"accuracy_std\":[]}\n",
    "    for label, model in models.items():\n",
    "        accuracies = {\"train\":[],\"test\":[]}\n",
    "        for i, (train, test) in enumerate(KFold(n_splits=5).split(X, y)):\n",
    "            #print(len(train)/(len(train)+len(test))) # debugging train test split\n",
    "            clf = model.fit(X.iloc[train],y.iloc[train])\n",
    "            for set_label,set_locs in zip([\"train\",\"test\"],[train,test]):\n",
    "                accuracies[set_label].append(accuracy_score(y.iloc[set_locs],clf.predict(X.iloc[set_locs])))\n",
    "\n",
    "        # Updating comparison dict\n",
    "        for key, val in zip(res.keys(),[label,np.mean(accuracies[\"train\"]),np.std(accuracies[\"train\"]),np.mean(accuracies[\"test\"]),np.std(accuracies[\"test\"])]):\n",
    "            res[key].append(val)\n",
    "\n",
    "    return pd.DataFrame(res)"
   ]
  },
  {
   "cell_type": "markdown",
   "metadata": {},
   "source": [
    "## Full"
   ]
  },
  {
   "cell_type": "code",
   "execution_count": 117,
   "metadata": {},
   "outputs": [],
   "source": [
    "res_full = {\"model\":[],\"cv_mean\":[],\"cv_std\":[],\"accuracy\":[]}\n",
    "for label, model in models_full.items():\n",
    "    # CV score\n",
    "    cv_score = cross_val_score(model, X_train_all, y_train_all, cv=5, scoring='accuracy')\n",
    "    \n",
    "    # Prediction accuracy\n",
    "    model.fit(X_train_all, y_train_all)\n",
    "    pred_full = model.predict(X_test_all)\n",
    "    \n",
    "    # Updating comparison dict\n",
    "    for key, val in zip(res_lite.keys(),[label,cv_score.mean(),cv_score.std(),accuracy_score(pred_full,y_test)]):\n",
    "        res_full[key].append(val)\n",
    "        \n",
    "res_full_df = pd.DataFrame(res_full)"
   ]
  },
  {
   "cell_type": "markdown",
   "metadata": {},
   "source": [
    "## Comparison"
   ]
  },
  {
   "cell_type": "code",
   "execution_count": 165,
   "metadata": {},
   "outputs": [
    {
     "data": {
      "text/plain": [
       "{'LR': LogisticRegression(fit_intercept=False, random_state=42),\n",
       " 'DT': DecisionTreeClassifier(ccp_alpha=0.04, criterion='entropy', max_depth=5,\n",
       "                        random_state=42),\n",
       " 'NB': GaussianNB(),\n",
       " 'RF': RandomForestClassifier(max_depth=3, n_estimators=50, random_state=42)}"
      ]
     },
     "execution_count": 165,
     "metadata": {},
     "output_type": "execute_result"
    }
   ],
   "source": [
    "models_full"
   ]
  },
  {
   "cell_type": "code",
   "execution_count": 162,
   "metadata": {},
   "outputs": [
    {
     "data": {
      "text/html": [
       "<div>\n",
       "<style scoped>\n",
       "    .dataframe tbody tr th:only-of-type {\n",
       "        vertical-align: middle;\n",
       "    }\n",
       "\n",
       "    .dataframe tbody tr th {\n",
       "        vertical-align: top;\n",
       "    }\n",
       "\n",
       "    .dataframe thead th {\n",
       "        text-align: right;\n",
       "    }\n",
       "</style>\n",
       "<table border=\"1\" class=\"dataframe\">\n",
       "  <thead>\n",
       "    <tr style=\"text-align: right;\">\n",
       "      <th></th>\n",
       "      <th>model</th>\n",
       "      <th>cv_mean</th>\n",
       "      <th>cv_std</th>\n",
       "      <th>accuracy_mean</th>\n",
       "      <th>accuracy_std</th>\n",
       "    </tr>\n",
       "  </thead>\n",
       "  <tbody>\n",
       "    <tr>\n",
       "      <th>0</th>\n",
       "      <td>LR</td>\n",
       "      <td>0.688106</td>\n",
       "      <td>0.023638</td>\n",
       "      <td>0.596732</td>\n",
       "      <td>0.084529</td>\n",
       "    </tr>\n",
       "    <tr>\n",
       "      <th>1</th>\n",
       "      <td>DT</td>\n",
       "      <td>0.994366</td>\n",
       "      <td>0.011268</td>\n",
       "      <td>0.639216</td>\n",
       "      <td>0.081963</td>\n",
       "    </tr>\n",
       "    <tr>\n",
       "      <th>2</th>\n",
       "      <td>NB</td>\n",
       "      <td>0.682551</td>\n",
       "      <td>0.027915</td>\n",
       "      <td>0.574510</td>\n",
       "      <td>0.139973</td>\n",
       "    </tr>\n",
       "    <tr>\n",
       "      <th>3</th>\n",
       "      <td>RF</td>\n",
       "      <td>0.997183</td>\n",
       "      <td>0.005634</td>\n",
       "      <td>0.686928</td>\n",
       "      <td>0.093977</td>\n",
       "    </tr>\n",
       "  </tbody>\n",
       "</table>\n",
       "</div>"
      ],
      "text/plain": [
       "  model   cv_mean    cv_std  accuracy_mean  accuracy_std\n",
       "0    LR  0.688106  0.023638       0.596732      0.084529\n",
       "1    DT  0.994366  0.011268       0.639216      0.081963\n",
       "2    NB  0.682551  0.027915       0.574510      0.139973\n",
       "3    RF  0.997183  0.005634       0.686928      0.093977"
      ]
     },
     "execution_count": 162,
     "metadata": {},
     "output_type": "execute_result"
    }
   ],
   "source": [
    "res_lite_df = get_cv(X_scaled,Y1)\n",
    "res_lite_df"
   ]
  },
  {
   "cell_type": "code",
   "execution_count": 163,
   "metadata": {},
   "outputs": [
    {
     "data": {
      "text/html": [
       "<div>\n",
       "<style scoped>\n",
       "    .dataframe tbody tr th:only-of-type {\n",
       "        vertical-align: middle;\n",
       "    }\n",
       "\n",
       "    .dataframe tbody tr th {\n",
       "        vertical-align: top;\n",
       "    }\n",
       "\n",
       "    .dataframe thead th {\n",
       "        text-align: right;\n",
       "    }\n",
       "</style>\n",
       "<table border=\"1\" class=\"dataframe\">\n",
       "  <thead>\n",
       "    <tr style=\"text-align: right;\">\n",
       "      <th></th>\n",
       "      <th>model</th>\n",
       "      <th>cv_mean</th>\n",
       "      <th>cv_std</th>\n",
       "      <th>accuracy_mean</th>\n",
       "      <th>accuracy_std</th>\n",
       "    </tr>\n",
       "  </thead>\n",
       "  <tbody>\n",
       "    <tr>\n",
       "      <th>0</th>\n",
       "      <td>LR</td>\n",
       "      <td>0.749883</td>\n",
       "      <td>0.023569</td>\n",
       "      <td>0.494771</td>\n",
       "      <td>0.044694</td>\n",
       "    </tr>\n",
       "    <tr>\n",
       "      <th>1</th>\n",
       "      <td>DT</td>\n",
       "      <td>0.935407</td>\n",
       "      <td>0.056741</td>\n",
       "      <td>0.640523</td>\n",
       "      <td>0.055652</td>\n",
       "    </tr>\n",
       "    <tr>\n",
       "      <th>2</th>\n",
       "      <td>NB</td>\n",
       "      <td>0.707786</td>\n",
       "      <td>0.030732</td>\n",
       "      <td>0.564052</td>\n",
       "      <td>0.151242</td>\n",
       "    </tr>\n",
       "    <tr>\n",
       "      <th>3</th>\n",
       "      <td>RF</td>\n",
       "      <td>0.915728</td>\n",
       "      <td>0.015436</td>\n",
       "      <td>0.584967</td>\n",
       "      <td>0.100343</td>\n",
       "    </tr>\n",
       "  </tbody>\n",
       "</table>\n",
       "</div>"
      ],
      "text/plain": [
       "  model   cv_mean    cv_std  accuracy_mean  accuracy_std\n",
       "0    LR  0.749883  0.023569       0.494771      0.044694\n",
       "1    DT  0.935407  0.056741       0.640523      0.055652\n",
       "2    NB  0.707786  0.030732       0.564052      0.151242\n",
       "3    RF  0.915728  0.015436       0.584967      0.100343"
      ]
     },
     "execution_count": 163,
     "metadata": {},
     "output_type": "execute_result"
    }
   ],
   "source": [
    "res_full_df = get_cv(X_scaled_all,Y1,models_full)\n",
    "res_full_df"
   ]
  },
  {
   "cell_type": "markdown",
   "metadata": {},
   "source": [
    "## Check with Random Targets"
   ]
  },
  {
   "cell_type": "code",
   "execution_count": 121,
   "metadata": {},
   "outputs": [],
   "source": [
    "def check_against_randomized_targets(X, y, cv=5):\n",
    "    \"\"\"\n",
    "    Checks the performance of the model against randomized targets\n",
    "    \"\"\"\n",
    "    res_random_full = {\"model\":[],\"cv_mean\":[],\"accuracy\":[]}\n",
    "\n",
    "    for i in range(cv):\n",
    "        Y_random = np.array(random.sample(list(Y1), len(Y1)))\n",
    "        X_train_rand, X_test_rand, y_train_rand, y_test_rand = train_test_split(X, Y_random, test_size=0.1)\n",
    "        for label, model in models_full.items():\n",
    "\n",
    "            # train model\n",
    "            model.fit(X_train_rand,y_train_rand)\n",
    "\n",
    "            # cross validate model with 10-fold cv\n",
    "            cv_mean = cross_val_score(model, X_train_rand, y_train_rand, cv=10).mean()\n",
    "\n",
    "            # accuracy\n",
    "            acc = model.score(X_test_rand,y_test_rand)\n",
    "\n",
    "            # update dict\n",
    "            for key, val in zip(res_random_full.keys(),[label,cv_mean,acc]):\n",
    "                res_random_full[key].append(val)\n",
    "                \n",
    "    return pd.DataFrame(res_random_full).groupby(\"model\").mean()"
   ]
  },
  {
   "cell_type": "code",
   "execution_count": 122,
   "metadata": {},
   "outputs": [
    {
     "data": {
      "text/html": [
       "<div>\n",
       "<style scoped>\n",
       "    .dataframe tbody tr th:only-of-type {\n",
       "        vertical-align: middle;\n",
       "    }\n",
       "\n",
       "    .dataframe tbody tr th {\n",
       "        vertical-align: top;\n",
       "    }\n",
       "\n",
       "    .dataframe thead th {\n",
       "        text-align: right;\n",
       "    }\n",
       "</style>\n",
       "<table border=\"1\" class=\"dataframe\">\n",
       "  <thead>\n",
       "    <tr style=\"text-align: right;\">\n",
       "      <th></th>\n",
       "      <th>cv_mean</th>\n",
       "      <th>accuracy</th>\n",
       "    </tr>\n",
       "    <tr>\n",
       "      <th>model</th>\n",
       "      <th></th>\n",
       "      <th></th>\n",
       "    </tr>\n",
       "  </thead>\n",
       "  <tbody>\n",
       "    <tr>\n",
       "      <th>DT</th>\n",
       "      <td>0.5225</td>\n",
       "      <td>0.555556</td>\n",
       "    </tr>\n",
       "    <tr>\n",
       "      <th>LR</th>\n",
       "      <td>0.4525</td>\n",
       "      <td>0.644444</td>\n",
       "    </tr>\n",
       "    <tr>\n",
       "      <th>NB</th>\n",
       "      <td>0.4600</td>\n",
       "      <td>0.600000</td>\n",
       "    </tr>\n",
       "    <tr>\n",
       "      <th>RF</th>\n",
       "      <td>0.4500</td>\n",
       "      <td>0.511111</td>\n",
       "    </tr>\n",
       "  </tbody>\n",
       "</table>\n",
       "</div>"
      ],
      "text/plain": [
       "       cv_mean  accuracy\n",
       "model                   \n",
       "DT      0.5225  0.555556\n",
       "LR      0.4525  0.644444\n",
       "NB      0.4600  0.600000\n",
       "RF      0.4500  0.511111"
      ]
     },
     "execution_count": 122,
     "metadata": {},
     "output_type": "execute_result"
    }
   ],
   "source": [
    "res_random_full_avg = check_against_randomized_targets(X_scaled_all, Y1)\n",
    "res_random_full_avg"
   ]
  },
  {
   "cell_type": "markdown",
   "metadata": {},
   "source": [
    "---"
   ]
  },
  {
   "cell_type": "markdown",
   "metadata": {},
   "source": [
    "# Evaluation"
   ]
  },
  {
   "cell_type": "code",
   "execution_count": 91,
   "metadata": {},
   "outputs": [
    {
     "data": {
      "text/plain": [
       "{'LR': LogisticRegression(fit_intercept=False, max_iter=1000, random_state=42),\n",
       " 'DT': DecisionTreeClassifier(criterion='entropy', max_depth=8, random_state=42),\n",
       " 'NB': GaussianNB(),\n",
       " 'RF': RandomForestClassifier(ccp_alpha=0.03, criterion='entropy', max_depth=8,\n",
       "                        n_estimators=50, random_state=42)}"
      ]
     },
     "execution_count": 91,
     "metadata": {},
     "output_type": "execute_result"
    }
   ],
   "source": [
    "models_lite"
   ]
  },
  {
   "cell_type": "markdown",
   "metadata": {},
   "source": [
    "## Metrics"
   ]
  },
  {
   "cell_type": "code",
   "execution_count": 154,
   "metadata": {},
   "outputs": [],
   "source": [
    "splits=5\n",
    "#cv = StratifiedKFold(n_splits=splits)\n",
    "cv = KFold(n_splits=splits)\n",
    "model_res = {\"model\":[],\"accuracy\":[],\"accuracy_naive\":[],\"f1\":[],\"f1_naive\":[]}\n",
    "pred_res = {\"model\":[],\"accuracy\":[],\"accuracy_naive\":[],\"f1\":[],\"f1_naive\":[]}\n",
    "final_feature_importances = {new_list: [] for new_list in models_lite.keys()}\n",
    "for name, model in models_lite.items():\n",
    "    precisions = {\"train\":[],\"test\":[]}\n",
    "    thresholds = {\"train\":[],\"test\":[]}\n",
    "    accuracies = {\"train\":[],\"test\":[]}\n",
    "    mean_recall = np.linspace(0, 1, 100)\n",
    "    feature_importances = []\n",
    "    for i, (train, test) in enumerate(cv.split(X_scaled, Y1)):\n",
    "        clf = model.fit(X_scaled.iloc[train],Y1.iloc[train])\n",
    "        for set_label,set_locs in zip([\"train\",\"test\"],[train,test]):\n",
    "            precision, recall, threshold = precision_recall_curve(Y1.iloc[set_locs], clf.predict_proba(X_scaled.iloc[set_locs])[:, 1])\n",
    "            precisions[set_label].append(np.interp(mean_recall, np.sort(recall), precision))\n",
    "            thresholds[set_label].append(np.interp(mean_recall, np.sort(recall), np.append(threshold,[1])))\n",
    "            accuracies[set_label].append(accuracy_score(Y1.iloc[set_locs],clf.predict(X_scaled.iloc[set_locs])))\n",
    "            \n",
    "        if name in [\"DT\",\"RF\"]:\n",
    "            feature_importances.append(clf.feature_importances_)\n",
    "        elif name == \"LR\":\n",
    "            feature_importances.append(clf.coef_[0])\n",
    "        else:\n",
    "            feature_importances.append(np.zeros(len(X_scaled.columns)))\n",
    "\n",
    "    final_feature_importances[name] = pd.DataFrame(data=feature_importances).mean(axis=0).values\n",
    "    for set_label,set_res in zip([\"train\",\"test\"],[model_res,pred_res]):\n",
    "        mean_precision = np.mean(precisions[set_label], axis=0)\n",
    "        mean_threshold = np.mean(thresholds[set_label], axis=0)\n",
    "        fscore = (2 * mean_precision * mean_recall[::-1]) / (mean_precision + mean_recall[::-1])\n",
    "        # locate the index of the largest f score\n",
    "        ix = np.argmax(fscore)\n",
    "        acc_temp = round(np.mean(accuracies[set_label]),2)\n",
    "        score = round(sum(Y1)/len(Y1),2)\n",
    "        acc_naive_temp = score if score > 0.5 else 1-score\n",
    "        f1_temp = f\"{round(fscore[ix],2)} ({round(mean_threshold[ix],2)})\"\n",
    "        f1_naive_temp = round(f1_score(Y1,np.ones(len(Y1))),2)\n",
    "        # adding to dict\n",
    "        for key,val in zip(set_res.keys(),[name,acc_temp,acc_naive_temp,f1_temp,f1_naive_temp]):\n",
    "            set_res[key].append(val)\n",
    "\n",
    "metrics_model_lite, metrics_pred_lite, feature_importances = pd.DataFrame(model_res), pd.DataFrame(pred_res), final_feature_importances\n"
   ]
  },
  {
   "cell_type": "code",
   "execution_count": 155,
   "metadata": {},
   "outputs": [
    {
     "data": {
      "text/html": [
       "<div>\n",
       "<style scoped>\n",
       "    .dataframe tbody tr th:only-of-type {\n",
       "        vertical-align: middle;\n",
       "    }\n",
       "\n",
       "    .dataframe tbody tr th {\n",
       "        vertical-align: top;\n",
       "    }\n",
       "\n",
       "    .dataframe thead th {\n",
       "        text-align: right;\n",
       "    }\n",
       "</style>\n",
       "<table border=\"1\" class=\"dataframe\">\n",
       "  <thead>\n",
       "    <tr style=\"text-align: right;\">\n",
       "      <th></th>\n",
       "      <th>model</th>\n",
       "      <th>accuracy</th>\n",
       "      <th>accuracy_naive</th>\n",
       "      <th>f1</th>\n",
       "      <th>f1_naive</th>\n",
       "    </tr>\n",
       "  </thead>\n",
       "  <tbody>\n",
       "    <tr>\n",
       "      <th>0</th>\n",
       "      <td>LR</td>\n",
       "      <td>0.69</td>\n",
       "      <td>0.52</td>\n",
       "      <td>0.73 (0.23)</td>\n",
       "      <td>0.65</td>\n",
       "    </tr>\n",
       "    <tr>\n",
       "      <th>1</th>\n",
       "      <td>DT</td>\n",
       "      <td>0.95</td>\n",
       "      <td>0.52</td>\n",
       "      <td>0.93 (0.5)</td>\n",
       "      <td>0.65</td>\n",
       "    </tr>\n",
       "    <tr>\n",
       "      <th>2</th>\n",
       "      <td>NB</td>\n",
       "      <td>0.68</td>\n",
       "      <td>0.52</td>\n",
       "      <td>0.73 (0.04)</td>\n",
       "      <td>0.65</td>\n",
       "    </tr>\n",
       "    <tr>\n",
       "      <th>3</th>\n",
       "      <td>RF</td>\n",
       "      <td>0.94</td>\n",
       "      <td>0.52</td>\n",
       "      <td>0.95 (0.48)</td>\n",
       "      <td>0.65</td>\n",
       "    </tr>\n",
       "  </tbody>\n",
       "</table>\n",
       "</div>"
      ],
      "text/plain": [
       "  model  accuracy  accuracy_naive           f1  f1_naive\n",
       "0    LR      0.69            0.52  0.73 (0.23)      0.65\n",
       "1    DT      0.95            0.52   0.93 (0.5)      0.65\n",
       "2    NB      0.68            0.52  0.73 (0.04)      0.65\n",
       "3    RF      0.94            0.52  0.95 (0.48)      0.65"
      ]
     },
     "execution_count": 155,
     "metadata": {},
     "output_type": "execute_result"
    }
   ],
   "source": [
    "metrics_model_lite"
   ]
  },
  {
   "cell_type": "code",
   "execution_count": 156,
   "metadata": {},
   "outputs": [
    {
     "data": {
      "text/html": [
       "<div>\n",
       "<style scoped>\n",
       "    .dataframe tbody tr th:only-of-type {\n",
       "        vertical-align: middle;\n",
       "    }\n",
       "\n",
       "    .dataframe tbody tr th {\n",
       "        vertical-align: top;\n",
       "    }\n",
       "\n",
       "    .dataframe thead th {\n",
       "        text-align: right;\n",
       "    }\n",
       "</style>\n",
       "<table border=\"1\" class=\"dataframe\">\n",
       "  <thead>\n",
       "    <tr style=\"text-align: right;\">\n",
       "      <th></th>\n",
       "      <th>model</th>\n",
       "      <th>accuracy</th>\n",
       "      <th>accuracy_naive</th>\n",
       "      <th>f1</th>\n",
       "      <th>f1_naive</th>\n",
       "    </tr>\n",
       "  </thead>\n",
       "  <tbody>\n",
       "    <tr>\n",
       "      <th>0</th>\n",
       "      <td>LR</td>\n",
       "      <td>0.60</td>\n",
       "      <td>0.52</td>\n",
       "      <td>0.65 (0.29)</td>\n",
       "      <td>0.65</td>\n",
       "    </tr>\n",
       "    <tr>\n",
       "      <th>1</th>\n",
       "      <td>DT</td>\n",
       "      <td>0.66</td>\n",
       "      <td>0.52</td>\n",
       "      <td>0.65 (0.34)</td>\n",
       "      <td>0.65</td>\n",
       "    </tr>\n",
       "    <tr>\n",
       "      <th>2</th>\n",
       "      <td>NB</td>\n",
       "      <td>0.57</td>\n",
       "      <td>0.52</td>\n",
       "      <td>0.66 (0.21)</td>\n",
       "      <td>0.65</td>\n",
       "    </tr>\n",
       "    <tr>\n",
       "      <th>3</th>\n",
       "      <td>RF</td>\n",
       "      <td>0.69</td>\n",
       "      <td>0.52</td>\n",
       "      <td>0.76 (0.4)</td>\n",
       "      <td>0.65</td>\n",
       "    </tr>\n",
       "  </tbody>\n",
       "</table>\n",
       "</div>"
      ],
      "text/plain": [
       "  model  accuracy  accuracy_naive           f1  f1_naive\n",
       "0    LR      0.60            0.52  0.65 (0.29)      0.65\n",
       "1    DT      0.66            0.52  0.65 (0.34)      0.65\n",
       "2    NB      0.57            0.52  0.66 (0.21)      0.65\n",
       "3    RF      0.69            0.52   0.76 (0.4)      0.65"
      ]
     },
     "execution_count": 156,
     "metadata": {},
     "output_type": "execute_result"
    }
   ],
   "source": [
    "metrics_pred_lite"
   ]
  },
  {
   "cell_type": "code",
   "execution_count": 158,
   "metadata": {},
   "outputs": [
    {
     "name": "stdout",
     "output_type": "stream",
     "text": [
      "\\begin{tabular}{lrrrlr}\n",
      "\\toprule\n",
      "{} &  accuracy\\_test &  accuracy\\_train &  accuracy\\_naive &           f1 &  f1\\_naive \\\\\n",
      "model &                &                 &                 &              &           \\\\\n",
      "\\midrule\n",
      "LR    &           0.69 &            0.60 &            0.52 &  0.65 (0.29) &      0.65 \\\\\n",
      "DT    &           0.95 &            0.66 &            0.52 &  0.65 (0.34) &      0.65 \\\\\n",
      "NB    &           0.68 &            0.57 &            0.52 &  0.66 (0.21) &      0.65 \\\\\n",
      "RF    &           0.94 &            0.69 &            0.52 &   0.76 (0.4) &      0.65 \\\\\n",
      "\\bottomrule\n",
      "\\end{tabular}\n",
      "\n"
     ]
    }
   ],
   "source": [
    "comb = metrics_model_lite[[\"model\",\"accuracy\"]].merge(metrics_pred_lite,on=\"model\",suffixes=[\"_test\",\"_train\"])\n",
    "comb.set_index(\"model\",inplace=True)\n",
    "print(comb.to_latex())"
   ]
  },
  {
   "cell_type": "markdown",
   "metadata": {},
   "source": [
    "---"
   ]
  },
  {
   "cell_type": "markdown",
   "metadata": {},
   "source": [
    "# Figures"
   ]
  },
  {
   "cell_type": "markdown",
   "metadata": {},
   "source": [
    "## Feature Importances"
   ]
  },
  {
   "cell_type": "code",
   "execution_count": 166,
   "metadata": {},
   "outputs": [
    {
     "data": {
      "image/png": "[encoded data removed]",
      "text/plain": [
       "<Figure size 576x576 with 1 Axes>"
      ]
     },
     "metadata": {},
     "output_type": "display_data"
    }
   ],
   "source": [
    "temp = pd.DataFrame(feature_importances).T\n",
    "temp.columns = [X.columns]\n",
    "temp.rename({\"CO2_ETC_BR1\":\"CO2_BR\", \"RH_ETC_IN1\":\"RH\", \"PM_MET_IN1\":\"PM\", \"NO2_IAQm_ppb\":\"NO2\", \"FRM_IN_ppb\":\"FRM\", \"T_ETC_IN1\":\"T\",\n",
    "             \"RHD_Fan_Airflow_Adjusted_Low_cfm\":\"RHD_Low\",\"Depressurization_Q50_cfm\":\"Q50\", \"EXF_BA1_Measured_cfm\":\"EXF_BA\"},axis=\"columns\",inplace=True)\n",
    "\n",
    "categories = [col[0] for col in temp.columns]\n",
    "categories = [*categories, categories[0]]\n",
    "\n",
    "ft_imp_dt = temp.loc[\"DT\",:].values\n",
    "ft_imp_rf = temp.loc[\"RF\",:].values\n",
    "ft_imp_dt = [*ft_imp_dt, ft_imp_dt[0]]\n",
    "ft_imp_rf = [*ft_imp_rf, ft_imp_rf[0]]\n",
    "\n",
    "label_loc = np.linspace(start=0, stop=2 * np.pi, num=len(ft_imp_dt))\n",
    "\n",
    "fig, ax = plt.subplots(subplot_kw={'projection': 'polar'},figsize=(8, 8))\n",
    "ax.plot(label_loc, ft_imp_dt, lw=4, color=\"cornflowerblue\",label='DT',zorder=2)\n",
    "ax.plot(label_loc, ft_imp_rf, lw=4,color=\"firebrick\",label='RF',zorder=3)\n",
    "ax.set_title('Feature Importance', size=20, y=1.05)\n",
    "ax.set_rticks([0.1,0.15,0.2,0.25])\n",
    "ax.tick_params(labelsize=12)\n",
    "ax.set_rlabel_position(-22.5)\n",
    "lines, labels = plt.thetagrids(np.degrees(label_loc),zorder=10, color=\"white\",fontsize=12,fontweight=100,backgroundcolor=\"white\", alpha=1)#,labels=categories)\n",
    "plt.legend(loc=\"upper center\", bbox_to_anchor=(0.95,1.05),frameon=False,ncol=1,fontsize=16)\n",
    "\n",
    "for label, loc in zip([col[0] for col in temp.columns],np.linspace(start=0, stop=2 * np.pi, num=10)):\n",
    "    ax.text(loc,0.25,label,zorder=100,bbox={\"facecolor\":\"white\",\"edgecolor\":\"white\"},fontsize=16,ha=\"center\",va=\"center\")\n",
    "\n",
    "plt.savefig(\"../reports/figures/prediction/iaq_perception-feature_importance.pdf\")\n",
    "plt.show()"
   ]
  },
  {
   "cell_type": "markdown",
   "metadata": {},
   "source": [
    "## Feature Relationships"
   ]
  },
  {
   "cell_type": "code",
   "execution_count": 53,
   "metadata": {},
   "outputs": [],
   "source": [
    "def plot_feature_relationships(x_loc,y_loc,z_loc,target_loc=28,save=False):\n",
    "    \"\"\"\n",
    "    Plots the relationship between three features\n",
    "    \n",
    "    Parameters\n",
    "    ----------\n",
    "    \n",
    "    Returns\n",
    "    -------\n",
    "    <void>\n",
    "    \"\"\"\n",
    "    try:\n",
    "        # features\n",
    "        x = df.iloc[:,x_loc] #Depression\n",
    "        y = df.iloc[:,y_loc] #RHD_Low\n",
    "        z = df.iloc[:,z_loc] #RH\n",
    "        # target\n",
    "        target = df.iloc[:,target_loc] \n",
    "    except ValueError:\n",
    "        print(\"Use the `iloc` locations\")\n",
    "        return\n",
    "    \n",
    "    fig, ax = plt.subplots(frameon=False)\n",
    "    fig.set_size_inches(8,6)\n",
    "    mi = np.min(z)\n",
    "    ma = np.max(z)\n",
    "    norm = matplotlib.colors.Normalize(vmin=mi,vmax=ma)\n",
    "    im0=ax.scatter(x[target==0], y[target==0], alpha=0.6, c=z[target==0], cmap='jet',marker='o',s=100,norm=norm,edgecolor=\"black\",label = 'Class 0')\n",
    "    im=ax.scatter(x[target==1], y[target==1], alpha=0.6, c=z[target==1], cmap='jet',marker='^',s=100,norm=norm,edgecolor=\"black\", label = 'Class 1')\n",
    "    cbar = fig.colorbar(im, ax=ax)\n",
    "    cbar.solids.set(alpha=0.6)\n",
    "    cbar.ax.set_ylabel('RH (%)',fontsize=18)\n",
    "    cbar.ax.tick_params(labelsize=14)\n",
    "    plt.xlabel('Q50 (cfm)',fontsize=18)\n",
    "    plt.ylabel('RHD_Low (cfm)',fontsize=18)\n",
    "    ax.legend([im0,im],[\"Class 0\",\"Class 1\"],fontsize=18,loc='upper left',frameon=False)\n",
    "    ax.tick_params(axis='both', which='major', labelsize=14)\n",
    "    plt.xlim(0,  3500)\n",
    "    plt.ylim(-5,  350)\n",
    "    for loc in [\"top\",\"right\"]:\n",
    "        ax.spines[loc].set_visible(False)\n",
    "    \n",
    "    if save:\n",
    "        plt.savefig(f\"../reports/figures/prediction/iaq_perception-feature_relationship-{x_loc}_{y_loc}_{z_loc}.pdf\",bbox_inches=\"tight\")\n",
    "    \n",
    "    plt.show()\n",
    "    plt.close()"
   ]
  },
  {
   "cell_type": "code",
   "execution_count": 54,
   "metadata": {},
   "outputs": [
    {
     "data": {
      "image/png": "[encoded data removed]",
      "text/plain": [
       "<Figure size 576x432 with 2 Axes>"
      ]
     },
     "metadata": {
      "needs_background": "light"
     },
     "output_type": "display_data"
    }
   ],
   "source": [
    "plot_feature_relationships(14,11,23,save=False)"
   ]
  },
  {
   "cell_type": "markdown",
   "metadata": {},
   "source": [
    "## Feature Correlation"
   ]
  },
  {
   "cell_type": "code",
   "execution_count": 167,
   "metadata": {},
   "outputs": [
    {
     "data": {
      "image/png": "[encoded data removed]",
      "text/plain": [
       "<Figure size 576x432 with 2 Axes>"
      ]
     },
     "metadata": {
      "needs_background": "light"
     },
     "output_type": "display_data"
    }
   ],
   "source": [
    "_, ax = plt.subplots(figsize=(8,6)) \n",
    "X_df = X.copy()\n",
    "X_df.rename({\"CO2_ETC_BR1\":\"CO2_BR\", \"RH_ETC_IN1\":\"RH\", \"PM_MET_IN1\":\"PM\", \"NO2_IAQm_ppb\":\"NO2\", \"FRM_IN_ppb\":\"FRM\", \"T_ETC_IN1\":\"T\",\n",
    "             \"RHD_Fan_Airflow_Adjusted_Low_cfm\":\"RHD_Low\",\"Depressurization_Q50_cfm\":\"Q50\", \"EXF_BA1_Measured_cfm\":\"EXF_BA\"},axis=\"columns\",inplace=True)\n",
    "corr = X_df.corr()\n",
    "# generating a mask for upper only\n",
    "mask = np.zeros_like(corr)\n",
    "mask[np.triu_indices_from(mask)] = True\n",
    "# plotting\n",
    "sns.heatmap(corr,vmin=-1,vmax=1,lw=2,mask=mask,square=True,\n",
    "            annot_kws={'size':12},fmt=\".2f\",annot=True,\n",
    "            cmap=\"coolwarm_r\",cbar_kws={\"ticks\":np.arange(-1,1.5,0.5),\"pad\":-0.05},ax=ax)\n",
    "# formatting x\n",
    "ax.set_xticks(np.arange(0.5,len(X_df.columns)-1,1))\n",
    "ax.set_xticklabels(X_df.columns[:-1],rotation=-30,ha=\"left\",fontsize=14)\n",
    "# formatting y\n",
    "ax.set_yticks(np.arange(1.5,len(X_df.columns),1))\n",
    "ax.set_yticklabels(X_df.columns[1:],fontsize=14)\n",
    "# colorbar\n",
    "cbar = ax.collections[0].colorbar\n",
    "cbar.ax.tick_params(labelsize=12)\n",
    "cbar.outline.set_color('black')\n",
    "cbar.outline.set_linewidth(0.5)\n",
    "\n",
    "plt.savefig(\"../reports/figures/prediction/iaq_perception-feature_correlation.pdf\",bbox_inches=\"tight\")\n",
    "plt.show()\n",
    "plt.close()"
   ]
  },
  {
   "cell_type": "markdown",
   "metadata": {},
   "source": [
    "---"
   ]
  },
  {
   "cell_type": "code",
   "execution_count": null,
   "metadata": {},
   "outputs": [],
   "source": []
  }
 ],
 "metadata": {
  "anaconda-cloud": {},
  "colab": {
   "collapsed_sections": [],
   "name": "lastname_ExamPart2.ipynb",
   "provenance": []
  },
  "kernelspec": {
   "display_name": "Python 3",
   "language": "python",
   "name": "python3"
  },
  "language_info": {
   "codemirror_mode": {
    "name": "ipython",
    "version": 3
   },
   "file_extension": ".py",
   "mimetype": "text/x-python",
   "name": "python",
   "nbconvert_exporter": "python",
   "pygments_lexer": "ipython3",
   "version": "3.8.8"
  }
 },
 "nbformat": 4,
 "nbformat_minor": 2
}
