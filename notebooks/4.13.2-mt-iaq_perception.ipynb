{
 "cells": [
  {
   "cell_type": "markdown",
   "metadata": {
    "id": "tznNec-stI0V"
   },
   "source": [
    "## Spring 2021 - Smart Buildings and Cities - Project"
   ]
  },
  {
   "cell_type": "markdown",
   "metadata": {
    "id": "7WN1gzENtI0X"
   },
   "source": [
    "### Steps\n",
    "\n",
    "1. Imputing missing values\n",
    "\n"
   ]
  },
  {
   "cell_type": "markdown",
   "metadata": {
    "id": "9F5Qp4E1tI0Y"
   },
   "source": [
    "** 1. Imputing missing values **"
   ]
  },
  {
   "cell_type": "code",
   "execution_count": 1,
   "metadata": {
    "collapsed": true,
    "id": "IzJ7UKmttI0Y"
   },
   "outputs": [],
   "source": [
    "# 1.1 read basic libraries\n",
    "import pandas as pd\n",
    "import seaborn as sns\n",
    "import numpy as np\n",
    "import matplotlib.pyplot as plt\n",
    "import matplotlib\n",
    "import time\n",
    "import random\n",
    "from sklearn.model_selection import train_test_split\n",
    "from sklearn import preprocessing"
   ]
  },
  {
   "cell_type": "code",
   "execution_count": 2,
   "metadata": {},
   "outputs": [],
   "source": [
    "from sklearn.impute import SimpleImputer\n",
    "from sklearn.cluster import KMeans\n",
    "from sklearn import tree\n",
    "from sklearn.tree import DecisionTreeClassifier\n",
    "from sklearn.neighbors import KNeighborsClassifier\n",
    "from sklearn.svm import SVC\n",
    "from sklearn.neural_network import MLPClassifier\n",
    "from sklearn.model_selection import cross_val_score\n",
    "from sklearn.naive_bayes import GaussianNB\n",
    "from sklearn.linear_model import LinearRegression\n",
    "from sklearn.linear_model import LogisticRegression\n",
    "from sklearn.linear_model import LogisticRegressionCV\n",
    "from sklearn.model_selection import GridSearchCV\n",
    "from sklearn.ensemble import RandomForestClassifier\n",
    "from sklearn.metrics import accuracy_score, cohen_kappa_score\n",
    "from sklearn.metrics import confusion_matrix"
   ]
  },
  {
   "cell_type": "code",
   "execution_count": 3,
   "metadata": {
    "id": "yxpxxvFOtI0Y"
   },
   "outputs": [],
   "source": [
    "# 1.2 read csv data as pandas dataframe\n",
    "df = pd.read_csv('reprocess_remove no survey.csv')"
   ]
  },
  {
   "cell_type": "code",
   "execution_count": 4,
   "metadata": {
    "id": "8SeHgSaKtI0Y"
   },
   "outputs": [
    {
     "data": {
      "text/html": [
       "<div>\n",
       "<style scoped>\n",
       "    .dataframe tbody tr th:only-of-type {\n",
       "        vertical-align: middle;\n",
       "    }\n",
       "\n",
       "    .dataframe tbody tr th {\n",
       "        vertical-align: top;\n",
       "    }\n",
       "\n",
       "    .dataframe thead th {\n",
       "        text-align: right;\n",
       "    }\n",
       "</style>\n",
       "<table border=\"1\" class=\"dataframe\">\n",
       "  <thead>\n",
       "    <tr style=\"text-align: right;\">\n",
       "      <th></th>\n",
       "      <th>Home_ID</th>\n",
       "      <th>FloorArea_sqft</th>\n",
       "      <th>CeilingHgt_ft</th>\n",
       "      <th>N_Bedrm</th>\n",
       "      <th>N_FullBath</th>\n",
       "      <th>N_HalfBath</th>\n",
       "      <th>Oven_Fuel</th>\n",
       "      <th>Num_Occupant</th>\n",
       "      <th>WHV_AsFound</th>\n",
       "      <th>AF1_Condition</th>\n",
       "      <th>...</th>\n",
       "      <th>NO2_AQL_IN1</th>\n",
       "      <th>FRM_ADJ_IN1</th>\n",
       "      <th>FRM_ADJ_BR1</th>\n",
       "      <th>T_ETC_IN1</th>\n",
       "      <th>RH_ETC_IN1</th>\n",
       "      <th>FRM_IN_ppb</th>\n",
       "      <th>NO2_IAQm_ppb</th>\n",
       "      <th>NOx_IAQm_ppb</th>\n",
       "      <th>Satisfaction_3points</th>\n",
       "      <th>Satisfaction_2points</th>\n",
       "    </tr>\n",
       "  </thead>\n",
       "  <tbody>\n",
       "    <tr>\n",
       "      <th>0</th>\n",
       "      <td>1</td>\n",
       "      <td>2001</td>\n",
       "      <td>9</td>\n",
       "      <td>3</td>\n",
       "      <td>2</td>\n",
       "      <td>1</td>\n",
       "      <td>1</td>\n",
       "      <td>4.0</td>\n",
       "      <td>0.0</td>\n",
       "      <td>3.0</td>\n",
       "      <td>...</td>\n",
       "      <td>0.021302</td>\n",
       "      <td>10.522139</td>\n",
       "      <td>12.337049</td>\n",
       "      <td>23.269313</td>\n",
       "      <td>39.705435</td>\n",
       "      <td>14.252478</td>\n",
       "      <td>4.874853</td>\n",
       "      <td>20.336480</td>\n",
       "      <td>0</td>\n",
       "      <td>0</td>\n",
       "    </tr>\n",
       "    <tr>\n",
       "      <th>1</th>\n",
       "      <td>3</td>\n",
       "      <td>3104</td>\n",
       "      <td>10</td>\n",
       "      <td>4</td>\n",
       "      <td>3</td>\n",
       "      <td>0</td>\n",
       "      <td>0</td>\n",
       "      <td>2.0</td>\n",
       "      <td>1.0</td>\n",
       "      <td>1.0</td>\n",
       "      <td>...</td>\n",
       "      <td>0.048584</td>\n",
       "      <td>39.239283</td>\n",
       "      <td>42.685868</td>\n",
       "      <td>24.420784</td>\n",
       "      <td>45.021151</td>\n",
       "      <td>NaN</td>\n",
       "      <td>NaN</td>\n",
       "      <td>NaN</td>\n",
       "      <td>1</td>\n",
       "      <td>1</td>\n",
       "    </tr>\n",
       "    <tr>\n",
       "      <th>2</th>\n",
       "      <td>4</td>\n",
       "      <td>3248</td>\n",
       "      <td>11</td>\n",
       "      <td>3</td>\n",
       "      <td>3</td>\n",
       "      <td>1</td>\n",
       "      <td>0</td>\n",
       "      <td>2.0</td>\n",
       "      <td>0.0</td>\n",
       "      <td>1.0</td>\n",
       "      <td>...</td>\n",
       "      <td>0.153633</td>\n",
       "      <td>16.158558</td>\n",
       "      <td>16.637428</td>\n",
       "      <td>20.264354</td>\n",
       "      <td>45.067446</td>\n",
       "      <td>20.250339</td>\n",
       "      <td>1.708403</td>\n",
       "      <td>2.617361</td>\n",
       "      <td>1</td>\n",
       "      <td>1</td>\n",
       "    </tr>\n",
       "    <tr>\n",
       "      <th>3</th>\n",
       "      <td>5</td>\n",
       "      <td>2317</td>\n",
       "      <td>9</td>\n",
       "      <td>4</td>\n",
       "      <td>2</td>\n",
       "      <td>0</td>\n",
       "      <td>1</td>\n",
       "      <td>3.0</td>\n",
       "      <td>0.0</td>\n",
       "      <td>1.0</td>\n",
       "      <td>...</td>\n",
       "      <td>0.049589</td>\n",
       "      <td>23.635695</td>\n",
       "      <td>27.127771</td>\n",
       "      <td>25.372127</td>\n",
       "      <td>37.459627</td>\n",
       "      <td>NaN</td>\n",
       "      <td>2.776921</td>\n",
       "      <td>7.139446</td>\n",
       "      <td>0</td>\n",
       "      <td>0</td>\n",
       "    </tr>\n",
       "    <tr>\n",
       "      <th>4</th>\n",
       "      <td>6</td>\n",
       "      <td>3108</td>\n",
       "      <td>11</td>\n",
       "      <td>3</td>\n",
       "      <td>2</td>\n",
       "      <td>1</td>\n",
       "      <td>0</td>\n",
       "      <td>2.0</td>\n",
       "      <td>0.0</td>\n",
       "      <td>1.0</td>\n",
       "      <td>...</td>\n",
       "      <td>0.250460</td>\n",
       "      <td>27.351496</td>\n",
       "      <td>43.769564</td>\n",
       "      <td>25.585127</td>\n",
       "      <td>38.000461</td>\n",
       "      <td>44.742541</td>\n",
       "      <td>5.076926</td>\n",
       "      <td>25.850207</td>\n",
       "      <td>0</td>\n",
       "      <td>0</td>\n",
       "    </tr>\n",
       "  </tbody>\n",
       "</table>\n",
       "<p>5 rows × 29 columns</p>\n",
       "</div>"
      ],
      "text/plain": [
       "   Home_ID  FloorArea_sqft  CeilingHgt_ft  N_Bedrm   N_FullBath  N_HalfBath  \\\n",
       "0        1            2001              9         3           2           1   \n",
       "1        3            3104             10         4           3           0   \n",
       "2        4            3248             11         3           3           1   \n",
       "3        5            2317              9         4           2           0   \n",
       "4        6            3108             11         3           2           1   \n",
       "\n",
       "   Oven_Fuel  Num_Occupant  WHV_AsFound  AF1_Condition  ...  NO2_AQL_IN1  \\\n",
       "0          1           4.0          0.0            3.0  ...     0.021302   \n",
       "1          0           2.0          1.0            1.0  ...     0.048584   \n",
       "2          0           2.0          0.0            1.0  ...     0.153633   \n",
       "3          1           3.0          0.0            1.0  ...     0.049589   \n",
       "4          0           2.0          0.0            1.0  ...     0.250460   \n",
       "\n",
       "   FRM_ADJ_IN1  FRM_ADJ_BR1  T_ETC_IN1  RH_ETC_IN1  FRM_IN_ppb  NO2_IAQm_ppb  \\\n",
       "0    10.522139    12.337049  23.269313   39.705435   14.252478      4.874853   \n",
       "1    39.239283    42.685868  24.420784   45.021151         NaN           NaN   \n",
       "2    16.158558    16.637428  20.264354   45.067446   20.250339      1.708403   \n",
       "3    23.635695    27.127771  25.372127   37.459627         NaN      2.776921   \n",
       "4    27.351496    43.769564  25.585127   38.000461   44.742541      5.076926   \n",
       "\n",
       "   NOx_IAQm_ppb  Satisfaction_3points  Satisfaction_2points  \n",
       "0     20.336480                     0                     0  \n",
       "1           NaN                     1                     1  \n",
       "2      2.617361                     1                     1  \n",
       "3      7.139446                     0                     0  \n",
       "4     25.850207                     0                     0  \n",
       "\n",
       "[5 rows x 29 columns]"
      ]
     },
     "execution_count": 4,
     "metadata": {},
     "output_type": "execute_result"
    }
   ],
   "source": [
    "# 1.2 print first five rows\n",
    "df.head()"
   ]
  },
  {
   "cell_type": "code",
   "execution_count": 5,
   "metadata": {
    "id": "cNRYuIsYtI0Z"
   },
   "outputs": [
    {
     "data": {
      "text/plain": [
       "89"
      ]
     },
     "execution_count": 5,
     "metadata": {},
     "output_type": "execute_result"
    }
   ],
   "source": [
    "# 1.3 how many buildings in this dataset? \n",
    "len(df)"
   ]
  },
  {
   "cell_type": "code",
   "execution_count": 6,
   "metadata": {},
   "outputs": [],
   "source": [
    "# Imputation with median\n",
    "imp_median = SimpleImputer(missing_values=np.nan, strategy='median')\n",
    "imp_median.fit(df)\n",
    "df_m = imp_median.transform(df)"
   ]
  },
  {
   "cell_type": "markdown",
   "metadata": {},
   "source": [
    "** 2. Assign Features **"
   ]
  },
  {
   "cell_type": "code",
   "execution_count": 7,
   "metadata": {},
   "outputs": [
    {
     "data": {
      "text/html": [
       "<div>\n",
       "<style scoped>\n",
       "    .dataframe tbody tr th:only-of-type {\n",
       "        vertical-align: middle;\n",
       "    }\n",
       "\n",
       "    .dataframe tbody tr th {\n",
       "        vertical-align: top;\n",
       "    }\n",
       "\n",
       "    .dataframe thead th {\n",
       "        text-align: right;\n",
       "    }\n",
       "</style>\n",
       "<table border=\"1\" class=\"dataframe\">\n",
       "  <thead>\n",
       "    <tr style=\"text-align: right;\">\n",
       "      <th></th>\n",
       "      <th>FloorArea_sqft</th>\n",
       "      <th>CeilingHgt_ft</th>\n",
       "      <th>N_Bedrm</th>\n",
       "      <th>N_FullBath</th>\n",
       "      <th>N_HalfBath</th>\n",
       "      <th>Oven_Fuel</th>\n",
       "      <th>Num_Occupant</th>\n",
       "      <th>WHV_AsFound</th>\n",
       "      <th>AF1_Condition</th>\n",
       "      <th>RHD_Grease_Screen_Condition</th>\n",
       "      <th>RHD_Fan_Airflow_Adjusted_Low_cfm</th>\n",
       "      <th>RHD_Fan_Airflow_Adjusted_High_cfm</th>\n",
       "      <th>EXF_BA1_Measured_cfm</th>\n",
       "      <th>Depressurization_Q50_cfm</th>\n",
       "    </tr>\n",
       "  </thead>\n",
       "  <tbody>\n",
       "    <tr>\n",
       "      <th>0</th>\n",
       "      <td>2001</td>\n",
       "      <td>9</td>\n",
       "      <td>3</td>\n",
       "      <td>2</td>\n",
       "      <td>1</td>\n",
       "      <td>1</td>\n",
       "      <td>4.0</td>\n",
       "      <td>0.0</td>\n",
       "      <td>3.0</td>\n",
       "      <td>2.0</td>\n",
       "      <td>88.505747</td>\n",
       "      <td>133.333333</td>\n",
       "      <td>91.0</td>\n",
       "      <td>1006.0</td>\n",
       "    </tr>\n",
       "    <tr>\n",
       "      <th>1</th>\n",
       "      <td>3104</td>\n",
       "      <td>10</td>\n",
       "      <td>4</td>\n",
       "      <td>3</td>\n",
       "      <td>0</td>\n",
       "      <td>0</td>\n",
       "      <td>2.0</td>\n",
       "      <td>1.0</td>\n",
       "      <td>1.0</td>\n",
       "      <td>NaN</td>\n",
       "      <td>107.000000</td>\n",
       "      <td>326.000000</td>\n",
       "      <td>49.0</td>\n",
       "      <td>NaN</td>\n",
       "    </tr>\n",
       "    <tr>\n",
       "      <th>2</th>\n",
       "      <td>3248</td>\n",
       "      <td>11</td>\n",
       "      <td>3</td>\n",
       "      <td>3</td>\n",
       "      <td>1</td>\n",
       "      <td>0</td>\n",
       "      <td>2.0</td>\n",
       "      <td>0.0</td>\n",
       "      <td>1.0</td>\n",
       "      <td>2.0</td>\n",
       "      <td>310.000000</td>\n",
       "      <td>1046.000000</td>\n",
       "      <td>101.0</td>\n",
       "      <td>2224.0</td>\n",
       "    </tr>\n",
       "    <tr>\n",
       "      <th>3</th>\n",
       "      <td>2317</td>\n",
       "      <td>9</td>\n",
       "      <td>4</td>\n",
       "      <td>2</td>\n",
       "      <td>0</td>\n",
       "      <td>1</td>\n",
       "      <td>3.0</td>\n",
       "      <td>0.0</td>\n",
       "      <td>1.0</td>\n",
       "      <td>NaN</td>\n",
       "      <td>81.609195</td>\n",
       "      <td>143.678161</td>\n",
       "      <td>NaN</td>\n",
       "      <td>NaN</td>\n",
       "    </tr>\n",
       "    <tr>\n",
       "      <th>4</th>\n",
       "      <td>3108</td>\n",
       "      <td>11</td>\n",
       "      <td>3</td>\n",
       "      <td>2</td>\n",
       "      <td>1</td>\n",
       "      <td>0</td>\n",
       "      <td>2.0</td>\n",
       "      <td>0.0</td>\n",
       "      <td>1.0</td>\n",
       "      <td>NaN</td>\n",
       "      <td>360.000000</td>\n",
       "      <td>806.000000</td>\n",
       "      <td>81.0</td>\n",
       "      <td>NaN</td>\n",
       "    </tr>\n",
       "  </tbody>\n",
       "</table>\n",
       "</div>"
      ],
      "text/plain": [
       "   FloorArea_sqft  CeilingHgt_ft  N_Bedrm   N_FullBath  N_HalfBath  Oven_Fuel  \\\n",
       "0            2001              9         3           2           1          1   \n",
       "1            3104             10         4           3           0          0   \n",
       "2            3248             11         3           3           1          0   \n",
       "3            2317              9         4           2           0          1   \n",
       "4            3108             11         3           2           1          0   \n",
       "\n",
       "   Num_Occupant  WHV_AsFound  AF1_Condition  RHD_Grease_Screen_Condition  \\\n",
       "0           4.0          0.0            3.0                          2.0   \n",
       "1           2.0          1.0            1.0                          NaN   \n",
       "2           2.0          0.0            1.0                          2.0   \n",
       "3           3.0          0.0            1.0                          NaN   \n",
       "4           2.0          0.0            1.0                          NaN   \n",
       "\n",
       "   RHD_Fan_Airflow_Adjusted_Low_cfm  RHD_Fan_Airflow_Adjusted_High_cfm  \\\n",
       "0                         88.505747                         133.333333   \n",
       "1                        107.000000                         326.000000   \n",
       "2                        310.000000                        1046.000000   \n",
       "3                         81.609195                         143.678161   \n",
       "4                        360.000000                         806.000000   \n",
       "\n",
       "   EXF_BA1_Measured_cfm  Depressurization_Q50_cfm  \n",
       "0                  91.0                    1006.0  \n",
       "1                  49.0                       NaN  \n",
       "2                 101.0                    2224.0  \n",
       "3                   NaN                       NaN  \n",
       "4                  81.0                       NaN  "
      ]
     },
     "execution_count": 7,
     "metadata": {},
     "output_type": "execute_result"
    }
   ],
   "source": [
    "# building characteristics\n",
    "X1 = df_m[:,np.r_[1:15]]\n",
    "df.iloc[:,np.r_[1:15]].head()"
   ]
  },
  {
   "cell_type": "code",
   "execution_count": 26,
   "metadata": {},
   "outputs": [
    {
     "data": {
      "text/html": [
       "<div>\n",
       "<style scoped>\n",
       "    .dataframe tbody tr th:only-of-type {\n",
       "        vertical-align: middle;\n",
       "    }\n",
       "\n",
       "    .dataframe tbody tr th {\n",
       "        vertical-align: top;\n",
       "    }\n",
       "\n",
       "    .dataframe thead th {\n",
       "        text-align: right;\n",
       "    }\n",
       "</style>\n",
       "<table border=\"1\" class=\"dataframe\">\n",
       "  <thead>\n",
       "    <tr style=\"text-align: right;\">\n",
       "      <th></th>\n",
       "      <th>PM_MET_IN1</th>\n",
       "      <th>PM_MET_OUT</th>\n",
       "      <th>CO2_ETC_IN1</th>\n",
       "      <th>CO2_ETC_BR1</th>\n",
       "      <th>T_ETC_IN1</th>\n",
       "      <th>RH_ETC_IN1</th>\n",
       "      <th>FRM_IN_ppb</th>\n",
       "      <th>NO2_IAQm_ppb</th>\n",
       "      <th>NOx_IAQm_ppb</th>\n",
       "    </tr>\n",
       "  </thead>\n",
       "  <tbody>\n",
       "    <tr>\n",
       "      <th>0</th>\n",
       "      <td>2.011464</td>\n",
       "      <td>8.855427</td>\n",
       "      <td>640.476489</td>\n",
       "      <td>727.076213</td>\n",
       "      <td>23.269313</td>\n",
       "      <td>39.705435</td>\n",
       "      <td>14.252478</td>\n",
       "      <td>4.874853</td>\n",
       "      <td>20.336480</td>\n",
       "    </tr>\n",
       "    <tr>\n",
       "      <th>1</th>\n",
       "      <td>5.959333</td>\n",
       "      <td>2.406069</td>\n",
       "      <td>830.593753</td>\n",
       "      <td>846.815114</td>\n",
       "      <td>24.420784</td>\n",
       "      <td>45.021151</td>\n",
       "      <td>NaN</td>\n",
       "      <td>NaN</td>\n",
       "      <td>NaN</td>\n",
       "    </tr>\n",
       "    <tr>\n",
       "      <th>2</th>\n",
       "      <td>11.291269</td>\n",
       "      <td>4.427615</td>\n",
       "      <td>512.227439</td>\n",
       "      <td>605.783042</td>\n",
       "      <td>20.264354</td>\n",
       "      <td>45.067446</td>\n",
       "      <td>20.250339</td>\n",
       "      <td>1.708403</td>\n",
       "      <td>2.617361</td>\n",
       "    </tr>\n",
       "    <tr>\n",
       "      <th>3</th>\n",
       "      <td>1.074514</td>\n",
       "      <td>3.324214</td>\n",
       "      <td>671.966967</td>\n",
       "      <td>734.965862</td>\n",
       "      <td>25.372127</td>\n",
       "      <td>37.459627</td>\n",
       "      <td>NaN</td>\n",
       "      <td>2.776921</td>\n",
       "      <td>7.139446</td>\n",
       "    </tr>\n",
       "    <tr>\n",
       "      <th>4</th>\n",
       "      <td>NaN</td>\n",
       "      <td>4.623322</td>\n",
       "      <td>603.374908</td>\n",
       "      <td>684.653495</td>\n",
       "      <td>25.585127</td>\n",
       "      <td>38.000461</td>\n",
       "      <td>44.742541</td>\n",
       "      <td>5.076926</td>\n",
       "      <td>25.850207</td>\n",
       "    </tr>\n",
       "  </tbody>\n",
       "</table>\n",
       "</div>"
      ],
      "text/plain": [
       "   PM_MET_IN1  PM_MET_OUT  CO2_ETC_IN1  CO2_ETC_BR1  T_ETC_IN1  RH_ETC_IN1  \\\n",
       "0    2.011464    8.855427   640.476489   727.076213  23.269313   39.705435   \n",
       "1    5.959333    2.406069   830.593753   846.815114  24.420784   45.021151   \n",
       "2   11.291269    4.427615   512.227439   605.783042  20.264354   45.067446   \n",
       "3    1.074514    3.324214   671.966967   734.965862  25.372127   37.459627   \n",
       "4         NaN    4.623322   603.374908   684.653495  25.585127   38.000461   \n",
       "\n",
       "   FRM_IN_ppb  NO2_IAQm_ppb  NOx_IAQm_ppb  \n",
       "0   14.252478      4.874853     20.336480  \n",
       "1         NaN           NaN           NaN  \n",
       "2   20.250339      1.708403      2.617361  \n",
       "3         NaN      2.776921      7.139446  \n",
       "4   44.742541      5.076926     25.850207  "
      ]
     },
     "execution_count": 26,
     "metadata": {},
     "output_type": "execute_result"
    }
   ],
   "source": [
    "# air quality measurement\n",
    "X2 = df_m[:,np.r_[15:19,22:27]]\n",
    "df.iloc[:,np.r_[15:19,22:27]].head()"
   ]
  },
  {
   "cell_type": "code",
   "execution_count": 31,
   "metadata": {},
   "outputs": [
    {
     "data": {
      "text/html": [
       "<div>\n",
       "<style scoped>\n",
       "    .dataframe tbody tr th:only-of-type {\n",
       "        vertical-align: middle;\n",
       "    }\n",
       "\n",
       "    .dataframe tbody tr th {\n",
       "        vertical-align: top;\n",
       "    }\n",
       "\n",
       "    .dataframe thead th {\n",
       "        text-align: right;\n",
       "    }\n",
       "</style>\n",
       "<table border=\"1\" class=\"dataframe\">\n",
       "  <thead>\n",
       "    <tr style=\"text-align: right;\">\n",
       "      <th></th>\n",
       "      <th>RHD_Fan_Airflow_Adjusted_Low_cfm</th>\n",
       "      <th>EXF_BA1_Measured_cfm</th>\n",
       "      <th>Depressurization_Q50_cfm</th>\n",
       "      <th>CO2_ETC_BR1</th>\n",
       "      <th>RH_ETC_IN1</th>\n",
       "      <th>NOx_IAQm_ppb</th>\n",
       "    </tr>\n",
       "  </thead>\n",
       "  <tbody>\n",
       "    <tr>\n",
       "      <th>0</th>\n",
       "      <td>88.505747</td>\n",
       "      <td>91.0</td>\n",
       "      <td>1006.0</td>\n",
       "      <td>727.076213</td>\n",
       "      <td>39.705435</td>\n",
       "      <td>20.336480</td>\n",
       "    </tr>\n",
       "    <tr>\n",
       "      <th>1</th>\n",
       "      <td>107.000000</td>\n",
       "      <td>49.0</td>\n",
       "      <td>NaN</td>\n",
       "      <td>846.815114</td>\n",
       "      <td>45.021151</td>\n",
       "      <td>NaN</td>\n",
       "    </tr>\n",
       "    <tr>\n",
       "      <th>2</th>\n",
       "      <td>310.000000</td>\n",
       "      <td>101.0</td>\n",
       "      <td>2224.0</td>\n",
       "      <td>605.783042</td>\n",
       "      <td>45.067446</td>\n",
       "      <td>2.617361</td>\n",
       "    </tr>\n",
       "    <tr>\n",
       "      <th>3</th>\n",
       "      <td>81.609195</td>\n",
       "      <td>NaN</td>\n",
       "      <td>NaN</td>\n",
       "      <td>734.965862</td>\n",
       "      <td>37.459627</td>\n",
       "      <td>7.139446</td>\n",
       "    </tr>\n",
       "    <tr>\n",
       "      <th>4</th>\n",
       "      <td>360.000000</td>\n",
       "      <td>81.0</td>\n",
       "      <td>NaN</td>\n",
       "      <td>684.653495</td>\n",
       "      <td>38.000461</td>\n",
       "      <td>25.850207</td>\n",
       "    </tr>\n",
       "  </tbody>\n",
       "</table>\n",
       "</div>"
      ],
      "text/plain": [
       "   RHD_Fan_Airflow_Adjusted_Low_cfm  EXF_BA1_Measured_cfm  \\\n",
       "0                         88.505747                  91.0   \n",
       "1                        107.000000                  49.0   \n",
       "2                        310.000000                 101.0   \n",
       "3                         81.609195                   NaN   \n",
       "4                        360.000000                  81.0   \n",
       "\n",
       "   Depressurization_Q50_cfm  CO2_ETC_BR1  RH_ETC_IN1  NOx_IAQm_ppb  \n",
       "0                    1006.0   727.076213   39.705435     20.336480  \n",
       "1                       NaN   846.815114   45.021151           NaN  \n",
       "2                    2224.0   605.783042   45.067446      2.617361  \n",
       "3                       NaN   734.965862   37.459627      7.139446  \n",
       "4                       NaN   684.653495   38.000461     25.850207  "
      ]
     },
     "execution_count": 31,
     "metadata": {},
     "output_type": "execute_result"
    }
   ],
   "source": [
    "# Combination of building characteristics and air quality measurement\n",
    "X3 = df_m[:,np.r_[11,13,14,18,23,26]]\n",
    "df.iloc[:,np.r_[11,13,14,18,23,26]].head()"
   ]
  },
  {
   "cell_type": "code",
   "execution_count": 7,
   "metadata": {
    "collapsed": true,
    "id": "v4v6FndWtI0a"
   },
   "outputs": [],
   "source": [
    "# Target\n",
    "Y1 = df_m[:,28]\n"
   ]
  },
  {
   "cell_type": "code",
   "execution_count": 8,
   "metadata": {},
   "outputs": [
    {
     "data": {
      "text/html": [
       "<div>\n",
       "<style scoped>\n",
       "    .dataframe tbody tr th:only-of-type {\n",
       "        vertical-align: middle;\n",
       "    }\n",
       "\n",
       "    .dataframe tbody tr th {\n",
       "        vertical-align: top;\n",
       "    }\n",
       "\n",
       "    .dataframe thead th {\n",
       "        text-align: right;\n",
       "    }\n",
       "</style>\n",
       "<table border=\"1\" class=\"dataframe\">\n",
       "  <thead>\n",
       "    <tr style=\"text-align: right;\">\n",
       "      <th></th>\n",
       "      <th>FloorArea_sqft</th>\n",
       "      <th>CeilingHgt_ft</th>\n",
       "      <th>N_Bedrm</th>\n",
       "      <th>N_FullBath</th>\n",
       "      <th>N_HalfBath</th>\n",
       "      <th>Oven_Fuel</th>\n",
       "      <th>Num_Occupant</th>\n",
       "      <th>WHV_AsFound</th>\n",
       "      <th>AF1_Condition</th>\n",
       "      <th>RHD_Grease_Screen_Condition</th>\n",
       "      <th>...</th>\n",
       "      <th>Depressurization_Q50_cfm</th>\n",
       "      <th>PM_MET_IN1</th>\n",
       "      <th>PM_MET_OUT</th>\n",
       "      <th>CO2_ETC_IN1</th>\n",
       "      <th>CO2_ETC_BR1</th>\n",
       "      <th>T_ETC_IN1</th>\n",
       "      <th>RH_ETC_IN1</th>\n",
       "      <th>FRM_IN_ppb</th>\n",
       "      <th>NO2_IAQm_ppb</th>\n",
       "      <th>NOx_IAQm_ppb</th>\n",
       "    </tr>\n",
       "  </thead>\n",
       "  <tbody>\n",
       "    <tr>\n",
       "      <th>0</th>\n",
       "      <td>2001</td>\n",
       "      <td>9</td>\n",
       "      <td>3</td>\n",
       "      <td>2</td>\n",
       "      <td>1</td>\n",
       "      <td>1</td>\n",
       "      <td>4.0</td>\n",
       "      <td>0.0</td>\n",
       "      <td>3.0</td>\n",
       "      <td>2.0</td>\n",
       "      <td>...</td>\n",
       "      <td>1006.0</td>\n",
       "      <td>2.011464</td>\n",
       "      <td>8.855427</td>\n",
       "      <td>640.476489</td>\n",
       "      <td>727.076213</td>\n",
       "      <td>23.269313</td>\n",
       "      <td>39.705435</td>\n",
       "      <td>14.252478</td>\n",
       "      <td>4.874853</td>\n",
       "      <td>20.336480</td>\n",
       "    </tr>\n",
       "    <tr>\n",
       "      <th>1</th>\n",
       "      <td>3104</td>\n",
       "      <td>10</td>\n",
       "      <td>4</td>\n",
       "      <td>3</td>\n",
       "      <td>0</td>\n",
       "      <td>0</td>\n",
       "      <td>2.0</td>\n",
       "      <td>1.0</td>\n",
       "      <td>1.0</td>\n",
       "      <td>NaN</td>\n",
       "      <td>...</td>\n",
       "      <td>NaN</td>\n",
       "      <td>5.959333</td>\n",
       "      <td>2.406069</td>\n",
       "      <td>830.593753</td>\n",
       "      <td>846.815114</td>\n",
       "      <td>24.420784</td>\n",
       "      <td>45.021151</td>\n",
       "      <td>NaN</td>\n",
       "      <td>NaN</td>\n",
       "      <td>NaN</td>\n",
       "    </tr>\n",
       "    <tr>\n",
       "      <th>2</th>\n",
       "      <td>3248</td>\n",
       "      <td>11</td>\n",
       "      <td>3</td>\n",
       "      <td>3</td>\n",
       "      <td>1</td>\n",
       "      <td>0</td>\n",
       "      <td>2.0</td>\n",
       "      <td>0.0</td>\n",
       "      <td>1.0</td>\n",
       "      <td>2.0</td>\n",
       "      <td>...</td>\n",
       "      <td>2224.0</td>\n",
       "      <td>11.291269</td>\n",
       "      <td>4.427615</td>\n",
       "      <td>512.227439</td>\n",
       "      <td>605.783042</td>\n",
       "      <td>20.264354</td>\n",
       "      <td>45.067446</td>\n",
       "      <td>20.250339</td>\n",
       "      <td>1.708403</td>\n",
       "      <td>2.617361</td>\n",
       "    </tr>\n",
       "    <tr>\n",
       "      <th>3</th>\n",
       "      <td>2317</td>\n",
       "      <td>9</td>\n",
       "      <td>4</td>\n",
       "      <td>2</td>\n",
       "      <td>0</td>\n",
       "      <td>1</td>\n",
       "      <td>3.0</td>\n",
       "      <td>0.0</td>\n",
       "      <td>1.0</td>\n",
       "      <td>NaN</td>\n",
       "      <td>...</td>\n",
       "      <td>NaN</td>\n",
       "      <td>1.074514</td>\n",
       "      <td>3.324214</td>\n",
       "      <td>671.966967</td>\n",
       "      <td>734.965862</td>\n",
       "      <td>25.372127</td>\n",
       "      <td>37.459627</td>\n",
       "      <td>NaN</td>\n",
       "      <td>2.776921</td>\n",
       "      <td>7.139446</td>\n",
       "    </tr>\n",
       "    <tr>\n",
       "      <th>4</th>\n",
       "      <td>3108</td>\n",
       "      <td>11</td>\n",
       "      <td>3</td>\n",
       "      <td>2</td>\n",
       "      <td>1</td>\n",
       "      <td>0</td>\n",
       "      <td>2.0</td>\n",
       "      <td>0.0</td>\n",
       "      <td>1.0</td>\n",
       "      <td>NaN</td>\n",
       "      <td>...</td>\n",
       "      <td>NaN</td>\n",
       "      <td>NaN</td>\n",
       "      <td>4.623322</td>\n",
       "      <td>603.374908</td>\n",
       "      <td>684.653495</td>\n",
       "      <td>25.585127</td>\n",
       "      <td>38.000461</td>\n",
       "      <td>44.742541</td>\n",
       "      <td>5.076926</td>\n",
       "      <td>25.850207</td>\n",
       "    </tr>\n",
       "  </tbody>\n",
       "</table>\n",
       "<p>5 rows × 23 columns</p>\n",
       "</div>"
      ],
      "text/plain": [
       "   FloorArea_sqft  CeilingHgt_ft  N_Bedrm   N_FullBath  N_HalfBath  Oven_Fuel  \\\n",
       "0            2001              9         3           2           1          1   \n",
       "1            3104             10         4           3           0          0   \n",
       "2            3248             11         3           3           1          0   \n",
       "3            2317              9         4           2           0          1   \n",
       "4            3108             11         3           2           1          0   \n",
       "\n",
       "   Num_Occupant  WHV_AsFound  AF1_Condition  RHD_Grease_Screen_Condition  ...  \\\n",
       "0           4.0          0.0            3.0                          2.0  ...   \n",
       "1           2.0          1.0            1.0                          NaN  ...   \n",
       "2           2.0          0.0            1.0                          2.0  ...   \n",
       "3           3.0          0.0            1.0                          NaN  ...   \n",
       "4           2.0          0.0            1.0                          NaN  ...   \n",
       "\n",
       "   Depressurization_Q50_cfm  PM_MET_IN1  PM_MET_OUT  CO2_ETC_IN1  CO2_ETC_BR1  \\\n",
       "0                    1006.0    2.011464    8.855427   640.476489   727.076213   \n",
       "1                       NaN    5.959333    2.406069   830.593753   846.815114   \n",
       "2                    2224.0   11.291269    4.427615   512.227439   605.783042   \n",
       "3                       NaN    1.074514    3.324214   671.966967   734.965862   \n",
       "4                       NaN         NaN    4.623322   603.374908   684.653495   \n",
       "\n",
       "   T_ETC_IN1  RH_ETC_IN1  FRM_IN_ppb  NO2_IAQm_ppb  NOx_IAQm_ppb  \n",
       "0  23.269313   39.705435   14.252478      4.874853     20.336480  \n",
       "1  24.420784   45.021151         NaN           NaN           NaN  \n",
       "2  20.264354   45.067446   20.250339      1.708403      2.617361  \n",
       "3  25.372127   37.459627         NaN      2.776921      7.139446  \n",
       "4  25.585127   38.000461   44.742541      5.076926     25.850207  \n",
       "\n",
       "[5 rows x 23 columns]"
      ]
     },
     "execution_count": 8,
     "metadata": {},
     "output_type": "execute_result"
    }
   ],
   "source": [
    "X4 = df_m[:,np.r_[1:15,15:19,22:27]]\n",
    "df.iloc[:,np.r_[1:15,15:19,22:27]].head()"
   ]
  },
  {
   "cell_type": "markdown",
   "metadata": {
    "id": "y6ILWOuUtI0b"
   },
   "source": [
    "** 3. Use X1, X2, X3 to fit target satisfaction **"
   ]
  },
  {
   "cell_type": "code",
   "execution_count": 9,
   "metadata": {
    "collapsed": true,
    "id": "9D9-WjNTtI0c"
   },
   "outputs": [],
   "source": [
    "# X1, Y1\n",
    "X_train, X_test, y_train, y_test = train_test_split(X1, Y1, test_size = 0.1, random_state=0)"
   ]
  },
  {
   "cell_type": "code",
   "execution_count": 28,
   "metadata": {},
   "outputs": [],
   "source": [
    "# X2, Y1\n",
    "X_train, X_test, y_train, y_test = train_test_split(X2, Y1, test_size = 0.1, random_state=0)"
   ]
  },
  {
   "cell_type": "code",
   "execution_count": 32,
   "metadata": {},
   "outputs": [],
   "source": [
    "# X3, Y1\n",
    "X_train, X_test, y_train, y_test = train_test_split(X3, Y1, test_size = 0.1, random_state=0)"
   ]
  },
  {
   "cell_type": "code",
   "execution_count": 9,
   "metadata": {},
   "outputs": [],
   "source": [
    "# X4, Y1\n",
    "X_train, X_test, y_train, y_test = train_test_split(X4, Y1, test_size = 0.1, random_state=0)"
   ]
  },
  {
   "cell_type": "code",
   "execution_count": 125,
   "metadata": {
    "collapsed": true,
    "id": "rTe9OBiXtI0c"
   },
   "outputs": [],
   "source": [
    "# Assign six different classification models (decision tree, knn, svm (use SVC), MLP, NB, RF)\n",
    "model1_DT = DecisionTreeClassifier(criterion = 'entropy',random_state=0)\n",
    "model2_KNN = KNeighborsClassifier(n_neighbors = 5)\n",
    "model3_SVM = SVC()\n",
    "model4_MLP = MLPClassifier(max_iter = 2000)\n",
    "model5_NB = GaussianNB()\n",
    "model6_RF = RandomForestClassifier(criterion = 'entropy',random_state=0,max_depth=4,n_estimators=30)\n",
    "model7_LR = LogisticRegressionCV(cv=10,random_state=0)\n"
   ]
  },
  {
   "cell_type": "code",
   "execution_count": 34,
   "metadata": {
    "id": "Wi_SoQFZtI0d"
   },
   "outputs": [
    {
     "data": {
      "text/plain": [
       "array([1., 1., 1., 1., 1., 1.])"
      ]
     },
     "execution_count": 34,
     "metadata": {},
     "output_type": "execute_result"
    }
   ],
   "source": [
    "# standardization of X train\n",
    "scaler = preprocessing.StandardScaler().fit(X_train)\n",
    "X_scaled = scaler.transform(X_train)\n",
    "X_scaled.mean(axis=0)\n",
    "X_scaled.std(axis=0)"
   ]
  },
  {
   "cell_type": "code",
   "execution_count": 35,
   "metadata": {},
   "outputs": [],
   "source": [
    "# train your models\n",
    "model1_DT = model1_DT.fit(X_scaled, y_train)\n",
    "model2_KNN = model2_KNN.fit(X_scaled, y_train)\n",
    "model3_SVM = model3_SVM.fit(X_scaled, y_train)\n",
    "model4_MLP = model4_MLP.fit(X_scaled, y_train)\n",
    "model5_NB = model5_NB.fit(X_scaled, y_train)\n",
    "model6_RF = model6_RF.fit(X_scaled, y_train)\n",
    "model7_LR = model7_LR.fit(X_scaled, y_train)"
   ]
  },
  {
   "cell_type": "code",
   "execution_count": 126,
   "metadata": {
    "id": "n7-UA-nJtI0d",
    "scrolled": true
   },
   "outputs": [
    {
     "name": "stdout",
     "output_type": "stream",
     "text": [
      "[0.625 0.875 0.75  0.75  0.75  0.625 0.375 0.375 0.5   0.625]\n",
      "[0.75  0.5   0.625 0.75  0.5   0.375 0.375 0.375 0.5   0.625]\n",
      "[0.5   0.75  0.625 0.5   0.625 0.75  0.625 0.625 0.5   0.5  ]\n",
      "[0.75  0.875 0.75  0.625 0.375 0.625 0.5   0.375 0.375 0.5  ]\n",
      "[0.25  0.875 0.375 0.375 0.875 0.375 0.375 0.625 0.5   0.625]\n",
      "[0.625 0.75  0.625 0.5   0.625 0.875 0.375 0.875 0.5   0.625]\n",
      "[0.5   0.5   0.5   0.5   0.625 0.375 0.5   0.625 1.    0.75 ]\n"
     ]
    }
   ],
   "source": [
    "# cross validate your models with 10-fold cross validation\n",
    "model1_DT_cv = cross_val_score(model1_DT, X_scaled, y_train,cv=10,scoring='accuracy')\n",
    "model2_KNN_cv = cross_val_score(model2_KNN, X_scaled, y_train,cv=10,scoring='accuracy')\n",
    "model3_SVM_cv = cross_val_score(model3_SVM, X_scaled, y_train,cv=10,scoring='accuracy')\n",
    "model4_MLP_cv = cross_val_score(model4_MLP, X_scaled, y_train,cv=10,scoring='accuracy')\n",
    "model5_NB_cv = cross_val_score(model5_NB, X_scaled, y_train,cv=10,scoring='accuracy')\n",
    "model6_RF_cv = cross_val_score(model6_RF, X_scaled, y_train,cv=10,scoring='accuracy')\n",
    "model7_LR_cv = cross_val_score(model7_LR, X_scaled, y_train,cv=10,scoring='accuracy')\n",
    "print(model1_DT_cv)\n",
    "print(model2_KNN_cv)\n",
    "print(model3_SVM_cv)\n",
    "print(model4_MLP_cv)\n",
    "print(model5_NB_cv)\n",
    "print(model6_RF_cv)\n",
    "print(model7_LR_cv)"
   ]
  },
  {
   "cell_type": "code",
   "execution_count": 127,
   "metadata": {
    "id": "C_LWE5VRtI0d"
   },
   "outputs": [
    {
     "name": "stdout",
     "output_type": "stream",
     "text": [
      "The averaged CV scores for the decision tree model is 0.62 with a standard deviation of 0.16 \n",
      "The averaged CV scores for the KNN model is 0.54 with a standard deviation of 0.14\n",
      "The averaged CV scores for the SVM model is 0.60 with a standard deviation of 0.09\n",
      "The averaged CV scores for the MLP model is 0.57 with a standard deviation of 0.17\n",
      "The averaged CV scores for the NB model is 0.53 with a standard deviation of 0.21\n",
      "The averaged CV scores for the RF model is 0.64 with a standard deviation of 0.15\n",
      "The averaged CV scores for the LR model is 0.59 with a standard deviation of 0.17\n"
     ]
    }
   ],
   "source": [
    "# print the averaged CV scores for each model \n",
    "print(\"The averaged CV scores for the decision tree model is %0.2f with a standard deviation of %0.2f \" % (model1_DT_cv.mean(),model1_DT_cv.std() ))\n",
    "print(\"The averaged CV scores for the KNN model is %0.2f with a standard deviation of %0.2f\" % (model2_KNN_cv.mean(),model2_KNN_cv.std()))\n",
    "print(\"The averaged CV scores for the SVM model is %0.2f with a standard deviation of %0.2f\" % (model3_SVM_cv.mean(),model3_SVM_cv.std()))\n",
    "print(\"The averaged CV scores for the MLP model is %0.2f with a standard deviation of %0.2f\" % (model4_MLP_cv.mean(),model4_MLP_cv.std()))\n",
    "print(\"The averaged CV scores for the NB model is %0.2f with a standard deviation of %0.2f\" % (model5_NB_cv.mean(),model5_NB_cv.std()))\n",
    "print(\"The averaged CV scores for the RF model is %0.2f with a standard deviation of %0.2f\" % (model6_RF_cv.mean(),model6_RF_cv.std()))\n",
    "print(\"The averaged CV scores for the LR model is %0.2f with a standard deviation of %0.2f\" % (model7_LR_cv.mean(),model7_LR_cv.std()))"
   ]
  },
  {
   "cell_type": "code",
   "execution_count": 38,
   "metadata": {},
   "outputs": [
    {
     "name": "stdout",
     "output_type": "stream",
     "text": [
      "0.7777777777777778\n",
      "0.5555555555555556\n",
      "0.5555555555555556\n",
      "0.5555555555555556\n",
      "0.7777777777777778\n",
      "0.7777777777777778\n",
      "0.4444444444444444\n"
     ]
    }
   ],
   "source": [
    "# standardization of X test\n",
    "X_test_scaled = scaler.transform(X_test)\n",
    "\n",
    "print(model1_DT.score(X_test_scaled,y_test))\n",
    "print(model2_KNN.score(X_test_scaled,y_test))\n",
    "print(model3_SVM.score(X_test_scaled,y_test))\n",
    "print(model4_MLP.score(X_test_scaled,y_test))\n",
    "print(model5_NB.score(X_test_scaled,y_test))\n",
    "print(model6_RF.score(X_test_scaled,y_test))\n",
    "print(model7_LR.score(X_test_scaled,y_test))"
   ]
  },
  {
   "cell_type": "code",
   "execution_count": 16,
   "metadata": {},
   "outputs": [
    {
     "name": "stdout",
     "output_type": "stream",
     "text": [
      "0.6666666666666666\n",
      "0.6666666666666666\n",
      "0.6666666666666666\n",
      "0.7777777777777778\n",
      "0.6666666666666666\n",
      "0.5555555555555556\n",
      "0.5555555555555556\n"
     ]
    }
   ],
   "source": [
    "predict1_DT = model1_DT.predict(X_test_scaled)\n",
    "predict2_KNN = model2_KNN.predict(X_test_scaled)\n",
    "predict3_SVM = model3_SVM.predict(X_test_scaled)\n",
    "predict4_MLP = model4_MLP.predict(X_test_scaled)\n",
    "predict5_NB = model5_NB.predict(X_test_scaled)\n",
    "predict6_RF = model6_RF.predict(X_test_scaled)\n",
    "predict7_LR = model7_LR.predict(X_test_scaled)\n",
    "print(accuracy_score(predict1_DT,y_test))\n",
    "print(accuracy_score(predict2_KNN,y_test))\n",
    "print(accuracy_score(predict3_SVM,y_test))\n",
    "print(accuracy_score(predict4_MLP,y_test))\n",
    "print(accuracy_score(predict5_NB,y_test))\n",
    "print(accuracy_score(predict6_RF,y_test))\n",
    "print(accuracy_score(predict7_LR,y_test))"
   ]
  },
  {
   "cell_type": "code",
   "execution_count": 19,
   "metadata": {},
   "outputs": [
    {
     "data": {
      "text/plain": [
       "array([ 0.07622333,  0.18508249, -0.1338151 ,  0.00744055, -0.11118423,\n",
       "       -0.01399868, -0.46774709, -0.69734145, -0.44530399,  0.01565753,\n",
       "       -0.00598034,  0.41230896,  0.38462569,  0.01379957])"
      ]
     },
     "execution_count": 19,
     "metadata": {},
     "output_type": "execute_result"
    }
   ],
   "source": [
    "X_test_scaled.mean(axis=0)\n"
   ]
  },
  {
   "cell_type": "code",
   "execution_count": 20,
   "metadata": {},
   "outputs": [
    {
     "data": {
      "text/plain": [
       "array([0.65457034, 0.8634925 , 0.47310782, 0.53240244, 0.96762002,\n",
       "       1.0016643 , 0.63278981, 0.63497126, 0.91600718, 1.18096458,\n",
       "       1.37267701, 1.88449919, 0.95012894, 0.92386194])"
      ]
     },
     "execution_count": 20,
     "metadata": {},
     "output_type": "execute_result"
    }
   ],
   "source": [
    "X_test_scaled.std(axis=0)"
   ]
  },
  {
   "cell_type": "code",
   "execution_count": 39,
   "metadata": {},
   "outputs": [
    {
     "data": {
      "text/plain": [
       "array([0.2068194 , 0.15030621, 0.18723814, 0.19247763, 0.16568242,\n",
       "       0.0974762 ])"
      ]
     },
     "execution_count": 39,
     "metadata": {},
     "output_type": "execute_result"
    }
   ],
   "source": [
    "model6_RF.feature_importances_"
   ]
  },
  {
   "cell_type": "code",
   "execution_count": 22,
   "metadata": {},
   "outputs": [
    {
     "data": {
      "image/png": "[encoded data removed]",
      "text/plain": [
       "<Figure size 432x288 with 1 Axes>"
      ]
     },
     "metadata": {
      "needs_background": "light"
     },
     "output_type": "display_data"
    }
   ],
   "source": [
    "std = np.std([tree.feature_importances_ for tree in model6_RF.estimators_], axis=0)\n",
    "importances = model6_RF.feature_importances_\n",
    "forest_importances = pd.Series(importances)\n",
    "fig, ax = plt.subplots()\n",
    "forest_importances.plot.bar(yerr=std, ax=ax)\n",
    "ax.set_title(\"Feature importances using MDI\")\n",
    "ax.set_ylabel(\"Mean decrease in impurity\")\n",
    "fig.tight_layout()"
   ]
  },
  {
   "cell_type": "code",
   "execution_count": 18,
   "metadata": {},
   "outputs": [
    {
     "data": {
      "text/plain": [
       "array([False, False, False, False, False, False, False, False, False,\n",
       "       False,  True, False,  True,  True, False, False, False,  True,\n",
       "       False, False,  True, False, False])"
      ]
     },
     "execution_count": 18,
     "metadata": {},
     "output_type": "execute_result"
    }
   ],
   "source": [
    "model6_RF.feature_importances_>0.068"
   ]
  },
  {
   "cell_type": "code",
   "execution_count": 19,
   "metadata": {},
   "outputs": [
    {
     "data": {
      "text/plain": [
       "array([[ 0.05497153,  0.11478658,  0.04228553,  0.06013758,  0.10146957,\n",
       "        -0.06253339, -0.00985173,  0.01575927,  0.16083979, -0.17426301,\n",
       "         0.06573832,  0.08725023,  0.07994005,  0.13089971,  0.07395939,\n",
       "         0.06727979, -0.07050415, -0.05231991,  0.10865046, -0.17946336,\n",
       "        -0.23543069,  0.02121065, -0.02147091]])"
      ]
     },
     "execution_count": 19,
     "metadata": {},
     "output_type": "execute_result"
    }
   ],
   "source": [
    "model7_LR.coef_"
   ]
  },
  {
   "cell_type": "code",
   "execution_count": 291,
   "metadata": {},
   "outputs": [
    {
     "data": {
      "text/plain": [
       "array([[False, False, False, False, False, False, False, False,  True,\n",
       "         True, False, False, False,  True, False, False, False, False,\n",
       "        False,  True,  True, False, False]])"
      ]
     },
     "execution_count": 291,
     "metadata": {},
     "output_type": "execute_result"
    }
   ],
   "source": [
    "np.abs(model7_LR.coef_)>0.1148"
   ]
  },
  {
   "cell_type": "code",
   "execution_count": 40,
   "metadata": {},
   "outputs": [
    {
     "data": {
      "text/plain": [
       "array([0.06927387, 0.10519919, 0.21068747, 0.22422884, 0.24128041,\n",
       "       0.14933021])"
      ]
     },
     "execution_count": 40,
     "metadata": {},
     "output_type": "execute_result"
    }
   ],
   "source": [
    "model1_DT.feature_importances_"
   ]
  },
  {
   "cell_type": "markdown",
   "metadata": {
    "id": "-lo2qVhWtI0d"
   },
   "source": [
    "** find the best hyperparameters **"
   ]
  },
  {
   "cell_type": "code",
   "execution_count": 41,
   "metadata": {
    "id": "Hp3yWIvNtI0e"
   },
   "outputs": [
    {
     "data": {
      "text/plain": [
       "GridSearchCV(cv=10, estimator=DecisionTreeClassifier(random_state=0),\n",
       "             param_grid={'ccp_alpha': array([0.   , 0.005, 0.01 , 0.015, 0.02 , 0.025, 0.03 , 0.035, 0.04 ,\n",
       "       0.045, 0.05 , 0.055, 0.06 , 0.065, 0.07 , 0.075, 0.08 , 0.085,\n",
       "       0.09 , 0.095]),\n",
       "                         'criterion': ['entropy'],\n",
       "                         'max_depth': array([3, 4, 5, 6, 7, 8])})"
      ]
     },
     "execution_count": 41,
     "metadata": {},
     "output_type": "execute_result"
    }
   ],
   "source": [
    "model1_DT = DecisionTreeClassifier(random_state=0)\n",
    "parameters = {'ccp_alpha':np.arange(0,0.1,0.005),'criterion':['entropy'],'max_depth':np.arange(3,9,1)}\n",
    "model1_DT_grid = GridSearchCV(model1_DT, parameters, cv=10, refit=True,scoring='accuracy')\n",
    "model1_DT_grid.fit(X_scaled, y_train)"
   ]
  },
  {
   "cell_type": "code",
   "execution_count": 42,
   "metadata": {
    "id": "DCocr4gxtI0e"
   },
   "outputs": [
    {
     "data": {
      "text/plain": [
       "{'ccp_alpha': 0.045, 'criterion': 'entropy', 'max_depth': 8}"
      ]
     },
     "execution_count": 42,
     "metadata": {},
     "output_type": "execute_result"
    }
   ],
   "source": [
    "# 4.2 what is the best parameter setting you find? (5 pt)\n",
    "model1_DT_grid.best_params_\n"
   ]
  },
  {
   "cell_type": "code",
   "execution_count": 43,
   "metadata": {
    "id": "PVGux43otI0e"
   },
   "outputs": [
    {
     "data": {
      "text/plain": [
       "0.6625"
      ]
     },
     "execution_count": 43,
     "metadata": {},
     "output_type": "execute_result"
    }
   ],
   "source": [
    "# 4.3 what is the best CV accuracy you find? (5 pt)\n",
    "model1_DT_grid.best_score_\n"
   ]
  },
  {
   "cell_type": "code",
   "execution_count": 44,
   "metadata": {},
   "outputs": [
    {
     "data": {
      "text/plain": [
       "0.6666666666666666"
      ]
     },
     "execution_count": 44,
     "metadata": {},
     "output_type": "execute_result"
    }
   ],
   "source": [
    "model1_DT_grid.score(X_test_scaled,y_test)"
   ]
  },
  {
   "cell_type": "code",
   "execution_count": 81,
   "metadata": {},
   "outputs": [
    {
     "name": "stdout",
     "output_type": "stream",
     "text": [
      "0.6625\n",
      "0.6666666666666666\n"
     ]
    }
   ],
   "source": [
    "model1_DT = DecisionTreeClassifier(criterion = 'entropy', ccp_alpha=0.045,random_state=0,max_depth=8)\n",
    "model1_DT = model1_DT.fit(X_scaled, y_train)\n",
    "model1_DT_cv = cross_val_score(model1_DT, X_scaled, y_train,cv=10)\n",
    "print(model1_DT_cv.mean())\n",
    "print(model1_DT.score(X_test_scaled,y_test))"
   ]
  },
  {
   "cell_type": "code",
   "execution_count": 82,
   "metadata": {},
   "outputs": [
    {
     "data": {
      "image/png": "[encoded data removed]",
      "text/plain": [
       "<Figure size 1152x864 with 1 Axes>"
      ]
     },
     "metadata": {
      "needs_background": "light"
     },
     "output_type": "display_data"
    }
   ],
   "source": [
    "# plot tree\n",
    "plt.figure(figsize=(16,12))  # set plot size (denoted in inches)\n",
    "_=tree.plot_tree(model1_DT, fontsize=10,filled = True,feature_names=['RHD_Low','EXF_BA','Depressurization_Q50','CO2_BR','RH','NOX'],class_names=['lower satisfaction','high satisfaction'])\n",
    "plt.show()"
   ]
  },
  {
   "cell_type": "code",
   "execution_count": 47,
   "metadata": {},
   "outputs": [
    {
     "data": {
      "text/plain": [
       "GridSearchCV(cv=10,\n",
       "             estimator=RandomForestClassifier(n_estimators=30, random_state=0),\n",
       "             param_grid={'ccp_alpha': array([0.   , 0.005, 0.01 , 0.015, 0.02 , 0.025, 0.03 , 0.035, 0.04 ,\n",
       "       0.045, 0.05 , 0.055, 0.06 , 0.065, 0.07 , 0.075, 0.08 , 0.085,\n",
       "       0.09 , 0.095]),\n",
       "                         'criterion': ['entropy'],\n",
       "                         'max_depth': array([3, 4, 5, 6, 7, 8])})"
      ]
     },
     "execution_count": 47,
     "metadata": {},
     "output_type": "execute_result"
    }
   ],
   "source": [
    "model6_RF = RandomForestClassifier(random_state=0,n_estimators=30)\n",
    "parameters = {'ccp_alpha':np.arange(0,0.1,0.005),'criterion':['entropy'],'max_depth':np.arange(3,9,1)}\n",
    "model6_RF_grid = GridSearchCV(model6_RF, parameters, cv=10, refit=True,scoring='accuracy')\n",
    "model6_RF_grid.fit(X_scaled, y_train)"
   ]
  },
  {
   "cell_type": "code",
   "execution_count": 48,
   "metadata": {},
   "outputs": [
    {
     "data": {
      "text/plain": [
       "{'ccp_alpha': 0.06, 'criterion': 'entropy', 'max_depth': 6}"
      ]
     },
     "execution_count": 48,
     "metadata": {},
     "output_type": "execute_result"
    }
   ],
   "source": [
    "model6_RF_grid.best_params_"
   ]
  },
  {
   "cell_type": "code",
   "execution_count": 49,
   "metadata": {},
   "outputs": [
    {
     "data": {
      "text/plain": [
       "0.725"
      ]
     },
     "execution_count": 49,
     "metadata": {},
     "output_type": "execute_result"
    }
   ],
   "source": [
    "model6_RF_grid.best_score_"
   ]
  },
  {
   "cell_type": "code",
   "execution_count": 50,
   "metadata": {},
   "outputs": [
    {
     "data": {
      "text/plain": [
       "0.7777777777777778"
      ]
     },
     "execution_count": 50,
     "metadata": {},
     "output_type": "execute_result"
    }
   ],
   "source": [
    "model6_RF_grid.score(X_test_scaled,y_test)"
   ]
  },
  {
   "cell_type": "code",
   "execution_count": 123,
   "metadata": {},
   "outputs": [
    {
     "name": "stdout",
     "output_type": "stream",
     "text": [
      "0.725\n",
      "0.7777777777777778\n"
     ]
    }
   ],
   "source": [
    "model6_RF_best = RandomForestClassifier(criterion = 'entropy', random_state=0,max_depth=6,n_estimators=30,ccp_alpha=0.06)\n",
    "model6_RF_best = model6_RF_best.fit(X_scaled, y_train)\n",
    "model6_RF_best_cv = cross_val_score(model6_RF_best, X_scaled, y_train,cv=10,scoring='accuracy')\n",
    "print(model6_RF_best_cv.mean())\n",
    "print(model6_RF_best.score(X_test_scaled,y_test))"
   ]
  },
  {
   "cell_type": "code",
   "execution_count": 131,
   "metadata": {},
   "outputs": [
    {
     "data": {
      "text/plain": [
       "array([0.23337128, 0.15047238, 0.20479479, 0.1566761 , 0.16178532,\n",
       "       0.09290012])"
      ]
     },
     "execution_count": 131,
     "metadata": {},
     "output_type": "execute_result"
    }
   ],
   "source": [
    "model6_RF_best.feature_importances_"
   ]
  },
  {
   "cell_type": "code",
   "execution_count": 119,
   "metadata": {},
   "outputs": [
    {
     "data": {
      "image/png": "[encoded data removed]",
      "text/plain": [
       "<Figure size 1152x864 with 1 Axes>"
      ]
     },
     "metadata": {
      "needs_background": "light"
     },
     "output_type": "display_data"
    }
   ],
   "source": [
    "plt.figure(figsize=(16,12))  # set plot size (denoted in inches)\n",
    "_=tree.plot_tree(model6_RF_best.estimators_[29], fontsize=10,filled = True,feature_names=['RHD_Low','EXF_BA','Depressurization_Q50','CO2_BR','RH','NOX'],class_names=['lower satisfaction','high satisfaction'])\n",
    "plt.show()\n"
   ]
  },
  {
   "cell_type": "markdown",
   "metadata": {},
   "source": [
    "** Check with random targets **"
   ]
  },
  {
   "cell_type": "code",
   "execution_count": null,
   "metadata": {},
   "outputs": [],
   "source": [
    "# linear regression\n",
    "X_L = df_m[:,np.r_[1,11,13,14]]\n",
    "scaler_L = preprocessing.StandardScaler().fit(X_L)\n",
    "X_L_scaled = scaler_L.transform(X_L)\n",
    "Y_L = df_m[:,np.r_[27]]\n",
    "reg = LinearRegression().fit(X_L_scaled, Y_L)\n",
    "reg.score(X_L_scaled, Y_L)"
   ]
  },
  {
   "cell_type": "code",
   "execution_count": 23,
   "metadata": {},
   "outputs": [
    {
     "name": "stderr",
     "output_type": "stream",
     "text": [
      "C:\\Users\\mtang\\anaconda3\\lib\\site-packages\\sklearn\\linear_model\\_logistic.py:762: ConvergenceWarning: lbfgs failed to converge (status=1):\n",
      "STOP: TOTAL NO. of ITERATIONS REACHED LIMIT.\n",
      "\n",
      "Increase the number of iterations (max_iter) or scale the data as shown in:\n",
      "    https://scikit-learn.org/stable/modules/preprocessing.html\n",
      "Please also refer to the documentation for alternative solver options:\n",
      "    https://scikit-learn.org/stable/modules/linear_model.html#logistic-regression\n",
      "  n_iter_i = _check_optimize_result(\n",
      "C:\\Users\\mtang\\anaconda3\\lib\\site-packages\\sklearn\\linear_model\\_logistic.py:762: ConvergenceWarning: lbfgs failed to converge (status=1):\n",
      "STOP: TOTAL NO. of ITERATIONS REACHED LIMIT.\n",
      "\n",
      "Increase the number of iterations (max_iter) or scale the data as shown in:\n",
      "    https://scikit-learn.org/stable/modules/preprocessing.html\n",
      "Please also refer to the documentation for alternative solver options:\n",
      "    https://scikit-learn.org/stable/modules/linear_model.html#logistic-regression\n",
      "  n_iter_i = _check_optimize_result(\n",
      "C:\\Users\\mtang\\anaconda3\\lib\\site-packages\\sklearn\\linear_model\\_logistic.py:762: ConvergenceWarning: lbfgs failed to converge (status=1):\n",
      "STOP: TOTAL NO. of ITERATIONS REACHED LIMIT.\n",
      "\n",
      "Increase the number of iterations (max_iter) or scale the data as shown in:\n",
      "    https://scikit-learn.org/stable/modules/preprocessing.html\n",
      "Please also refer to the documentation for alternative solver options:\n",
      "    https://scikit-learn.org/stable/modules/linear_model.html#logistic-regression\n",
      "  n_iter_i = _check_optimize_result(\n",
      "C:\\Users\\mtang\\anaconda3\\lib\\site-packages\\sklearn\\linear_model\\_logistic.py:762: ConvergenceWarning: lbfgs failed to converge (status=1):\n",
      "STOP: TOTAL NO. of ITERATIONS REACHED LIMIT.\n",
      "\n",
      "Increase the number of iterations (max_iter) or scale the data as shown in:\n",
      "    https://scikit-learn.org/stable/modules/preprocessing.html\n",
      "Please also refer to the documentation for alternative solver options:\n",
      "    https://scikit-learn.org/stable/modules/linear_model.html#logistic-regression\n",
      "  n_iter_i = _check_optimize_result(\n",
      "C:\\Users\\mtang\\anaconda3\\lib\\site-packages\\sklearn\\linear_model\\_logistic.py:762: ConvergenceWarning: lbfgs failed to converge (status=1):\n",
      "STOP: TOTAL NO. of ITERATIONS REACHED LIMIT.\n",
      "\n",
      "Increase the number of iterations (max_iter) or scale the data as shown in:\n",
      "    https://scikit-learn.org/stable/modules/preprocessing.html\n",
      "Please also refer to the documentation for alternative solver options:\n",
      "    https://scikit-learn.org/stable/modules/linear_model.html#logistic-regression\n",
      "  n_iter_i = _check_optimize_result(\n",
      "C:\\Users\\mtang\\anaconda3\\lib\\site-packages\\sklearn\\linear_model\\_logistic.py:762: ConvergenceWarning: lbfgs failed to converge (status=1):\n",
      "STOP: TOTAL NO. of ITERATIONS REACHED LIMIT.\n",
      "\n",
      "Increase the number of iterations (max_iter) or scale the data as shown in:\n",
      "    https://scikit-learn.org/stable/modules/preprocessing.html\n",
      "Please also refer to the documentation for alternative solver options:\n",
      "    https://scikit-learn.org/stable/modules/linear_model.html#logistic-regression\n",
      "  n_iter_i = _check_optimize_result(\n",
      "C:\\Users\\mtang\\anaconda3\\lib\\site-packages\\sklearn\\linear_model\\_logistic.py:762: ConvergenceWarning: lbfgs failed to converge (status=1):\n",
      "STOP: TOTAL NO. of ITERATIONS REACHED LIMIT.\n",
      "\n",
      "Increase the number of iterations (max_iter) or scale the data as shown in:\n",
      "    https://scikit-learn.org/stable/modules/preprocessing.html\n",
      "Please also refer to the documentation for alternative solver options:\n",
      "    https://scikit-learn.org/stable/modules/linear_model.html#logistic-regression\n",
      "  n_iter_i = _check_optimize_result(\n",
      "C:\\Users\\mtang\\anaconda3\\lib\\site-packages\\sklearn\\linear_model\\_logistic.py:762: ConvergenceWarning: lbfgs failed to converge (status=1):\n",
      "STOP: TOTAL NO. of ITERATIONS REACHED LIMIT.\n",
      "\n",
      "Increase the number of iterations (max_iter) or scale the data as shown in:\n",
      "    https://scikit-learn.org/stable/modules/preprocessing.html\n",
      "Please also refer to the documentation for alternative solver options:\n",
      "    https://scikit-learn.org/stable/modules/linear_model.html#logistic-regression\n",
      "  n_iter_i = _check_optimize_result(\n",
      "C:\\Users\\mtang\\anaconda3\\lib\\site-packages\\sklearn\\linear_model\\_logistic.py:762: ConvergenceWarning: lbfgs failed to converge (status=1):\n",
      "STOP: TOTAL NO. of ITERATIONS REACHED LIMIT.\n",
      "\n",
      "Increase the number of iterations (max_iter) or scale the data as shown in:\n",
      "    https://scikit-learn.org/stable/modules/preprocessing.html\n",
      "Please also refer to the documentation for alternative solver options:\n",
      "    https://scikit-learn.org/stable/modules/linear_model.html#logistic-regression\n",
      "  n_iter_i = _check_optimize_result(\n",
      "C:\\Users\\mtang\\anaconda3\\lib\\site-packages\\sklearn\\linear_model\\_logistic.py:762: ConvergenceWarning: lbfgs failed to converge (status=1):\n",
      "STOP: TOTAL NO. of ITERATIONS REACHED LIMIT.\n",
      "\n",
      "Increase the number of iterations (max_iter) or scale the data as shown in:\n",
      "    https://scikit-learn.org/stable/modules/preprocessing.html\n",
      "Please also refer to the documentation for alternative solver options:\n",
      "    https://scikit-learn.org/stable/modules/linear_model.html#logistic-regression\n",
      "  n_iter_i = _check_optimize_result(\n",
      "C:\\Users\\mtang\\anaconda3\\lib\\site-packages\\sklearn\\linear_model\\_logistic.py:762: ConvergenceWarning: lbfgs failed to converge (status=1):\n",
      "STOP: TOTAL NO. of ITERATIONS REACHED LIMIT.\n",
      "\n",
      "Increase the number of iterations (max_iter) or scale the data as shown in:\n",
      "    https://scikit-learn.org/stable/modules/preprocessing.html\n",
      "Please also refer to the documentation for alternative solver options:\n",
      "    https://scikit-learn.org/stable/modules/linear_model.html#logistic-regression\n",
      "  n_iter_i = _check_optimize_result(\n",
      "C:\\Users\\mtang\\anaconda3\\lib\\site-packages\\sklearn\\linear_model\\_logistic.py:762: ConvergenceWarning: lbfgs failed to converge (status=1):\n",
      "STOP: TOTAL NO. of ITERATIONS REACHED LIMIT.\n",
      "\n",
      "Increase the number of iterations (max_iter) or scale the data as shown in:\n",
      "    https://scikit-learn.org/stable/modules/preprocessing.html\n",
      "Please also refer to the documentation for alternative solver options:\n",
      "    https://scikit-learn.org/stable/modules/linear_model.html#logistic-regression\n",
      "  n_iter_i = _check_optimize_result(\n",
      "C:\\Users\\mtang\\anaconda3\\lib\\site-packages\\sklearn\\linear_model\\_logistic.py:762: ConvergenceWarning: lbfgs failed to converge (status=1):\n",
      "STOP: TOTAL NO. of ITERATIONS REACHED LIMIT.\n",
      "\n",
      "Increase the number of iterations (max_iter) or scale the data as shown in:\n",
      "    https://scikit-learn.org/stable/modules/preprocessing.html\n",
      "Please also refer to the documentation for alternative solver options:\n",
      "    https://scikit-learn.org/stable/modules/linear_model.html#logistic-regression\n",
      "  n_iter_i = _check_optimize_result(\n",
      "C:\\Users\\mtang\\anaconda3\\lib\\site-packages\\sklearn\\linear_model\\_logistic.py:762: ConvergenceWarning: lbfgs failed to converge (status=1):\n",
      "STOP: TOTAL NO. of ITERATIONS REACHED LIMIT.\n",
      "\n",
      "Increase the number of iterations (max_iter) or scale the data as shown in:\n",
      "    https://scikit-learn.org/stable/modules/preprocessing.html\n",
      "Please also refer to the documentation for alternative solver options:\n",
      "    https://scikit-learn.org/stable/modules/linear_model.html#logistic-regression\n",
      "  n_iter_i = _check_optimize_result(\n",
      "C:\\Users\\mtang\\anaconda3\\lib\\site-packages\\sklearn\\linear_model\\_logistic.py:762: ConvergenceWarning: lbfgs failed to converge (status=1):\n",
      "STOP: TOTAL NO. of ITERATIONS REACHED LIMIT.\n",
      "\n",
      "Increase the number of iterations (max_iter) or scale the data as shown in:\n",
      "    https://scikit-learn.org/stable/modules/preprocessing.html\n",
      "Please also refer to the documentation for alternative solver options:\n",
      "    https://scikit-learn.org/stable/modules/linear_model.html#logistic-regression\n",
      "  n_iter_i = _check_optimize_result(\n",
      "C:\\Users\\mtang\\anaconda3\\lib\\site-packages\\sklearn\\linear_model\\_logistic.py:762: ConvergenceWarning: lbfgs failed to converge (status=1):\n",
      "STOP: TOTAL NO. of ITERATIONS REACHED LIMIT.\n",
      "\n",
      "Increase the number of iterations (max_iter) or scale the data as shown in:\n",
      "    https://scikit-learn.org/stable/modules/preprocessing.html\n",
      "Please also refer to the documentation for alternative solver options:\n",
      "    https://scikit-learn.org/stable/modules/linear_model.html#logistic-regression\n",
      "  n_iter_i = _check_optimize_result(\n",
      "C:\\Users\\mtang\\anaconda3\\lib\\site-packages\\sklearn\\linear_model\\_logistic.py:762: ConvergenceWarning: lbfgs failed to converge (status=1):\n",
      "STOP: TOTAL NO. of ITERATIONS REACHED LIMIT.\n",
      "\n",
      "Increase the number of iterations (max_iter) or scale the data as shown in:\n",
      "    https://scikit-learn.org/stable/modules/preprocessing.html\n",
      "Please also refer to the documentation for alternative solver options:\n",
      "    https://scikit-learn.org/stable/modules/linear_model.html#logistic-regression\n",
      "  n_iter_i = _check_optimize_result(\n"
     ]
    }
   ],
   "source": [
    "# Random shuffled target\n",
    "score1_cv = []\n",
    "score1_test = []\n",
    "score2_cv = []\n",
    "score2_test = []\n",
    "score3_cv = []\n",
    "score3_test = []\n",
    "score4_cv = []\n",
    "score4_test = []\n",
    "score5_cv = []\n",
    "score5_test = []\n",
    "score6_cv = []\n",
    "score6_test = []\n",
    "score7_cv = []\n",
    "score7_test = []\n",
    "\n",
    "for i in range(10):\n",
    "    Y_random = np.array(random.sample(list(Y1), len(Y1)))\n",
    "    X_train, X_test, y_train, y_test = train_test_split(X4, Y_random, test_size = 0.1)\n",
    "    # Assign 7 different classification models (decision tree, knn, svm (use SVC), MLP, NB, RF)\n",
    "    model1_DT = DecisionTreeClassifier(criterion = 'entropy', random_state=0)\n",
    "    model2_KNN = KNeighborsClassifier(n_neighbors = 5)\n",
    "    model3_SVM = SVC()\n",
    "    model4_MLP = MLPClassifier(max_iter = 2000)\n",
    "    model5_NB = GaussianNB()\n",
    "    model6_RF = RandomForestClassifier(criterion = 'entropy', random_state=0,max_depth=4,n_estimators=30)\n",
    "    model7_LR = LogisticRegressionCV(cv=10,random_state=0)\n",
    "\n",
    "    # standardization of X train\n",
    "    scaler = preprocessing.StandardScaler().fit(X_train)\n",
    "    X_scaled = scaler.transform(X_train)\n",
    "\n",
    "    # train your models\n",
    "    model1_DT = model1_DT.fit(X_scaled, y_train)\n",
    "    model2_KNN = model2_KNN.fit(X_scaled, y_train)\n",
    "    model3_SVM = model3_SVM.fit(X_scaled, y_train)\n",
    "    model4_MLP = model4_MLP.fit(X_scaled, y_train)\n",
    "    model5_NB = model5_NB.fit(X_scaled, y_train)\n",
    "    model6_RF = model6_RF.fit(X_scaled, y_train)\n",
    "    model7_LR = model7_LR.fit(X_scaled, y_train)\n",
    "\n",
    "    # cross validate your models with 10-fold cross validation\n",
    "    score1_cv.append(cross_val_score(model1_DT, X_scaled, y_train,cv=10).mean())\n",
    "    score2_cv.append(cross_val_score(model2_KNN, X_scaled, y_train,cv=10).mean())\n",
    "    score3_cv.append(cross_val_score(model3_SVM, X_scaled, y_train,cv=10).mean())\n",
    "    score4_cv.append(cross_val_score(model4_MLP, X_scaled, y_train,cv=10).mean())\n",
    "    score5_cv.append(cross_val_score(model5_NB, X_scaled, y_train,cv=10).mean())\n",
    "    score6_cv.append(cross_val_score(model6_RF, X_scaled, y_train,cv=10).mean())\n",
    "    score7_cv.append(cross_val_score(model7_LR, X_scaled, y_train,cv=10).mean())\n",
    "\n",
    "    # standardization of X test\n",
    "    X_test_scaled = scaler.transform(X_test)\n",
    "\n",
    "    score1_test.append(model1_DT.score(X_test_scaled,y_test))\n",
    "    score2_test.append(model2_KNN.score(X_test_scaled,y_test))\n",
    "    score3_test.append(model3_SVM.score(X_test_scaled,y_test))\n",
    "    score4_test.append(model4_MLP.score(X_test_scaled,y_test))\n",
    "    score5_test.append(model5_NB.score(X_test_scaled,y_test))\n",
    "    score6_test.append(model6_RF.score(X_test_scaled,y_test))\n",
    "    score7_test.append(model7_LR.score(X_test_scaled,y_test))\n",
    "    \n"
   ]
  },
  {
   "cell_type": "code",
   "execution_count": 24,
   "metadata": {},
   "outputs": [
    {
     "name": "stdout",
     "output_type": "stream",
     "text": [
      "0.51\n",
      "0.44444444444444436\n"
     ]
    }
   ],
   "source": [
    "# Decision Tree\n",
    "print(np.mean(score1_cv))\n",
    "print(np.mean(score1_test))"
   ]
  },
  {
   "cell_type": "code",
   "execution_count": 25,
   "metadata": {},
   "outputs": [
    {
     "name": "stdout",
     "output_type": "stream",
     "text": [
      "0.5075000000000001\n",
      "0.4444444444444445\n"
     ]
    }
   ],
   "source": [
    "print(np.mean(score2_cv))\n",
    "print(np.mean(score2_test))"
   ]
  },
  {
   "cell_type": "code",
   "execution_count": 26,
   "metadata": {},
   "outputs": [
    {
     "name": "stdout",
     "output_type": "stream",
     "text": [
      "0.5450000000000002\n",
      "0.4222222222222222\n"
     ]
    }
   ],
   "source": [
    "print(np.mean(score3_cv))\n",
    "print(np.mean(score3_test))"
   ]
  },
  {
   "cell_type": "code",
   "execution_count": 27,
   "metadata": {},
   "outputs": [
    {
     "name": "stdout",
     "output_type": "stream",
     "text": [
      "0.51875\n",
      "0.44444444444444436\n"
     ]
    }
   ],
   "source": [
    "print(np.mean(score4_cv))\n",
    "print(np.mean(score4_test))"
   ]
  },
  {
   "cell_type": "code",
   "execution_count": 28,
   "metadata": {},
   "outputs": [
    {
     "name": "stdout",
     "output_type": "stream",
     "text": [
      "0.52\n",
      "0.4888888888888888\n"
     ]
    }
   ],
   "source": [
    "print(np.mean(score5_cv))\n",
    "print(np.mean(score5_test))"
   ]
  },
  {
   "cell_type": "code",
   "execution_count": 29,
   "metadata": {},
   "outputs": [
    {
     "name": "stdout",
     "output_type": "stream",
     "text": [
      "0.495\n",
      "0.41111111111111115\n"
     ]
    }
   ],
   "source": [
    "print(np.mean(score6_cv))\n",
    "print(np.mean(score6_test))"
   ]
  },
  {
   "cell_type": "code",
   "execution_count": 30,
   "metadata": {},
   "outputs": [
    {
     "name": "stdout",
     "output_type": "stream",
     "text": [
      "0.50625\n",
      "0.4999999999999999\n"
     ]
    }
   ],
   "source": [
    "print(np.mean(score7_cv))\n",
    "print(np.mean(score7_test))"
   ]
  },
  {
   "cell_type": "markdown",
   "metadata": {
    "id": "6qXz_oSCtI0e"
   },
   "source": [
    "** problem 5 (10 points) **"
   ]
  },
  {
   "cell_type": "code",
   "execution_count": 51,
   "metadata": {
    "collapsed": true,
    "id": "d1KWOyqetI0e"
   },
   "outputs": [],
   "source": [
    "# 5.1 assign your prediction result from test set (2 pt)\n",
    "\n",
    "final_predict = model6_RF_grid.predict(X_test_scaled)"
   ]
  },
  {
   "cell_type": "code",
   "execution_count": 54,
   "metadata": {
    "id": "Cu5h5zjHtI0f"
   },
   "outputs": [
    {
     "data": {
      "text/plain": [
       "0.7777777777777778"
      ]
     },
     "execution_count": 54,
     "metadata": {},
     "output_type": "execute_result"
    }
   ],
   "source": [
    "# 5.2 calculate the accuracy score from test set (4 pt)\n",
    "# is the final accuracy different from your best CV accuracy? \n",
    "# explain why they are different.\n",
    "# student answer is ... Yes, they are different because the final score was calculated using the test set and the model trained on all training data, while the best CV accuracy was calculated using part of the training data and the model trained on the remaining training data.\n",
    "model6_RF_grid.score(X_test_scaled,y_test)\n"
   ]
  },
  {
   "cell_type": "code",
   "execution_count": null,
   "metadata": {},
   "outputs": [],
   "source": []
  },
  {
   "cell_type": "code",
   "execution_count": 53,
   "metadata": {
    "id": "T-48yh9ytI0f"
   },
   "outputs": [
    {
     "data": {
      "text/plain": [
       "array([[3, 0],\n",
       "       [2, 4]], dtype=int64)"
      ]
     },
     "execution_count": 53,
     "metadata": {},
     "output_type": "execute_result"
    }
   ],
   "source": [
    "# 5.3 report confusion matrix and interprete it in one sentence (4 pt)\n",
    "# student answer is ... 932 of the samples belonging to Category 0 and 8 belonging to Category 1 are classified correctly, the number of false positives is 11, and the number of false negatives is 187.\n",
    "confusion_matrix(y_test, final_predict)\n"
   ]
  },
  {
   "cell_type": "code",
   "execution_count": 140,
   "metadata": {},
   "outputs": [
    {
     "data": {
      "image/png": "[encoded data removed]",
      "text/plain": [
       "<Figure size 576x432 with 2 Axes>"
      ]
     },
     "metadata": {
      "needs_background": "light"
     },
     "output_type": "display_data"
    }
   ],
   "source": [
    "# plot\n",
    "x = df.iloc[:,14] #Depression\n",
    "y = df.iloc[:,11] #RHD_Low\n",
    "z = df.iloc[:,23] #RH\n",
    "target = df.iloc[:,28]\n",
    "fig, ax = plt.subplots(frameon=False)\n",
    "fig.set_size_inches(8,6)\n",
    "mi = np.min(z)\n",
    "ma = np.max(z)\n",
    "norm = matplotlib.colors.Normalize(vmin=mi,vmax=ma)\n",
    "ax.scatter(x[target==0], y[target==0], alpha=0.6, c=z[target==0], cmap='jet',marker='o',s=100,norm=norm, label = 'Class 0')\n",
    "im=ax.scatter(x[target==1], y[target==1], alpha=0.6, c=z[target==1], cmap='jet',marker='^',s=100,norm=norm, label = 'Class 1')\n",
    "cbar = fig.colorbar(im, ax=ax)\n",
    "cbar.solids.set(alpha=0.6)\n",
    "cbar.ax.set_ylabel('RH (%)',fontsize=18)\n",
    "cbar.ax.tick_params(labelsize=14)\n",
    "plt.xlabel('Q50 (cfm)',fontsize=18)\n",
    "plt.ylabel('RHD_Low (cfm)',fontsize=18)\n",
    "ax.legend(fontsize=18,loc='upper left')\n",
    "ax.tick_params(axis='both', which='major', labelsize=14)\n",
    "plt.xlim(0,  3500)\n",
    "plt.ylim(-5,  350)\n",
    "plt.savefig('pic2.png', dpi=150)"
   ]
  },
  {
   "cell_type": "code",
   "execution_count": 323,
   "metadata": {},
   "outputs": [
    {
     "data": {
      "text/plain": [
       "0     0\n",
       "1     1\n",
       "2     1\n",
       "3     0\n",
       "4     0\n",
       "     ..\n",
       "84    0\n",
       "85    0\n",
       "86    0\n",
       "87    1\n",
       "88    1\n",
       "Name: Satisfaction_2points, Length: 89, dtype: int64"
      ]
     },
     "execution_count": 323,
     "metadata": {},
     "output_type": "execute_result"
    }
   ],
   "source": [
    "df.iloc[:,28]"
   ]
  },
  {
   "cell_type": "code",
   "execution_count": null,
   "metadata": {},
   "outputs": [],
   "source": []
  },
  {
   "cell_type": "code",
   "execution_count": 143,
   "metadata": {},
   "outputs": [
    {
     "data": {
      "image/png": "[encoded data removed]",
      "text/plain": [
       "<Figure size 576x432 with 2 Axes>"
      ]
     },
     "metadata": {},
     "output_type": "display_data"
    }
   ],
   "source": [
    "fig, ax = plt.subplots(figsize=(8,6)) \n",
    "X3_df = pd.DataFrame(X3,columns = ['RHD_Low','EXF_BA','Q50','CO2_BR','RH','NOX'])\n",
    "corr = X3_df.corr()\n",
    "sns.heatmap(corr,annot=True,cmap=\"YlGnBu\",annot_kws={'size':16})\n",
    "plt.savefig('heatmap.png', dpi=150)"
   ]
  }
 ],
 "metadata": {
  "anaconda-cloud": {},
  "colab": {
   "collapsed_sections": [],
   "name": "lastname_ExamPart2.ipynb",
   "provenance": []
  },
  "kernelspec": {
   "display_name": "Python 3",
   "language": "python",
   "name": "python3"
  },
  "language_info": {
   "codemirror_mode": {
    "name": "ipython",
    "version": 3
   },
   "file_extension": ".py",
   "mimetype": "text/x-python",
   "name": "python",
   "nbconvert_exporter": "python",
   "pygments_lexer": "ipython3",
   "version": "3.8.8"
  }
 },
 "nbformat": 4,
 "nbformat_minor": 2
}
