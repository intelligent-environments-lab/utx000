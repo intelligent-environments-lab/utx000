{
 "cells": [
  {
   "cell_type": "markdown",
   "metadata": {
    "id": "tznNec-stI0V"
   },
   "source": [
    "# Predicting Perception of IAQ\n",
    "Adaptation of Mengjia Tang's analysis"
   ]
  },
  {
   "cell_type": "markdown",
   "metadata": {
    "id": "9F5Qp4E1tI0Y"
   },
   "source": [
    "# Library Import"
   ]
  },
  {
   "cell_type": "markdown",
   "metadata": {},
   "source": [
    "## Basics"
   ]
  },
  {
   "cell_type": "code",
   "execution_count": 1,
   "metadata": {
    "id": "IzJ7UKmttI0Y"
   },
   "outputs": [],
   "source": [
    "import pandas as pd\n",
    "import seaborn as sns\n",
    "import numpy as np\n",
    "import matplotlib.pyplot as plt\n",
    "import matplotlib\n",
    "import time\n",
    "import random"
   ]
  },
  {
   "cell_type": "markdown",
   "metadata": {},
   "source": [
    "## SkLearn"
   ]
  },
  {
   "cell_type": "code",
   "execution_count": 2,
   "metadata": {},
   "outputs": [],
   "source": [
    "from sklearn.model_selection import train_test_split, GridSearchCV, cross_val_score\n",
    "from sklearn import preprocessing\n",
    "from sklearn.impute import SimpleImputer\n",
    "from sklearn.cluster import KMeans\n",
    "from sklearn import tree\n",
    "from sklearn.tree import DecisionTreeClassifier\n",
    "from sklearn.neighbors import KNeighborsClassifier\n",
    "from sklearn.svm import SVC\n",
    "from sklearn.neural_network import MLPClassifier\n",
    "from sklearn.naive_bayes import GaussianNB\n",
    "from sklearn.linear_model import LinearRegression, LogisticRegression, LogisticRegressionCV\n",
    "from sklearn.ensemble import RandomForestClassifier\n",
    "from sklearn.metrics import accuracy_score, cohen_kappa_score, confusion_matrix"
   ]
  },
  {
   "cell_type": "markdown",
   "metadata": {},
   "source": [
    "## Other"
   ]
  },
  {
   "cell_type": "code",
   "execution_count": 3,
   "metadata": {},
   "outputs": [],
   "source": [
    "import shap"
   ]
  },
  {
   "cell_type": "markdown",
   "metadata": {},
   "source": [
    "# Data Summary"
   ]
  },
  {
   "cell_type": "code",
   "execution_count": 4,
   "metadata": {
    "id": "8SeHgSaKtI0Y"
   },
   "outputs": [
    {
     "data": {
      "text/html": [
       "<div>\n",
       "<style scoped>\n",
       "    .dataframe tbody tr th:only-of-type {\n",
       "        vertical-align: middle;\n",
       "    }\n",
       "\n",
       "    .dataframe tbody tr th {\n",
       "        vertical-align: top;\n",
       "    }\n",
       "\n",
       "    .dataframe thead th {\n",
       "        text-align: right;\n",
       "    }\n",
       "</style>\n",
       "<table border=\"1\" class=\"dataframe\">\n",
       "  <thead>\n",
       "    <tr style=\"text-align: right;\">\n",
       "      <th></th>\n",
       "      <th>Home_ID</th>\n",
       "      <th>FloorArea_sqft</th>\n",
       "      <th>CeilingHgt_ft</th>\n",
       "      <th>N_Bedrm</th>\n",
       "      <th>N_FullBath</th>\n",
       "      <th>N_HalfBath</th>\n",
       "      <th>Oven_Fuel</th>\n",
       "      <th>Num_Occupant</th>\n",
       "      <th>WHV_AsFound</th>\n",
       "      <th>AF1_Condition</th>\n",
       "      <th>...</th>\n",
       "      <th>NO2_AQL_IN1</th>\n",
       "      <th>FRM_ADJ_IN1</th>\n",
       "      <th>FRM_ADJ_BR1</th>\n",
       "      <th>T_ETC_IN1</th>\n",
       "      <th>RH_ETC_IN1</th>\n",
       "      <th>FRM_IN_ppb</th>\n",
       "      <th>NO2_IAQm_ppb</th>\n",
       "      <th>NOx_IAQm_ppb</th>\n",
       "      <th>Satisfaction_3points</th>\n",
       "      <th>Satisfaction_2points</th>\n",
       "    </tr>\n",
       "  </thead>\n",
       "  <tbody>\n",
       "    <tr>\n",
       "      <th>0</th>\n",
       "      <td>1</td>\n",
       "      <td>2001</td>\n",
       "      <td>9</td>\n",
       "      <td>3</td>\n",
       "      <td>2</td>\n",
       "      <td>1</td>\n",
       "      <td>1</td>\n",
       "      <td>4.0</td>\n",
       "      <td>0.0</td>\n",
       "      <td>3.0</td>\n",
       "      <td>...</td>\n",
       "      <td>0.021302</td>\n",
       "      <td>10.522139</td>\n",
       "      <td>12.337049</td>\n",
       "      <td>23.269313</td>\n",
       "      <td>39.705435</td>\n",
       "      <td>14.252478</td>\n",
       "      <td>4.874853</td>\n",
       "      <td>20.336480</td>\n",
       "      <td>0</td>\n",
       "      <td>0</td>\n",
       "    </tr>\n",
       "    <tr>\n",
       "      <th>1</th>\n",
       "      <td>3</td>\n",
       "      <td>3104</td>\n",
       "      <td>10</td>\n",
       "      <td>4</td>\n",
       "      <td>3</td>\n",
       "      <td>0</td>\n",
       "      <td>0</td>\n",
       "      <td>2.0</td>\n",
       "      <td>1.0</td>\n",
       "      <td>1.0</td>\n",
       "      <td>...</td>\n",
       "      <td>0.048584</td>\n",
       "      <td>39.239283</td>\n",
       "      <td>42.685868</td>\n",
       "      <td>24.420784</td>\n",
       "      <td>45.021151</td>\n",
       "      <td>NaN</td>\n",
       "      <td>NaN</td>\n",
       "      <td>NaN</td>\n",
       "      <td>1</td>\n",
       "      <td>1</td>\n",
       "    </tr>\n",
       "    <tr>\n",
       "      <th>2</th>\n",
       "      <td>4</td>\n",
       "      <td>3248</td>\n",
       "      <td>11</td>\n",
       "      <td>3</td>\n",
       "      <td>3</td>\n",
       "      <td>1</td>\n",
       "      <td>0</td>\n",
       "      <td>2.0</td>\n",
       "      <td>0.0</td>\n",
       "      <td>1.0</td>\n",
       "      <td>...</td>\n",
       "      <td>0.153633</td>\n",
       "      <td>16.158558</td>\n",
       "      <td>16.637428</td>\n",
       "      <td>20.264354</td>\n",
       "      <td>45.067446</td>\n",
       "      <td>20.250339</td>\n",
       "      <td>1.708403</td>\n",
       "      <td>2.617361</td>\n",
       "      <td>1</td>\n",
       "      <td>1</td>\n",
       "    </tr>\n",
       "    <tr>\n",
       "      <th>3</th>\n",
       "      <td>5</td>\n",
       "      <td>2317</td>\n",
       "      <td>9</td>\n",
       "      <td>4</td>\n",
       "      <td>2</td>\n",
       "      <td>0</td>\n",
       "      <td>1</td>\n",
       "      <td>3.0</td>\n",
       "      <td>0.0</td>\n",
       "      <td>1.0</td>\n",
       "      <td>...</td>\n",
       "      <td>0.049589</td>\n",
       "      <td>23.635695</td>\n",
       "      <td>27.127771</td>\n",
       "      <td>25.372127</td>\n",
       "      <td>37.459627</td>\n",
       "      <td>NaN</td>\n",
       "      <td>2.776921</td>\n",
       "      <td>7.139446</td>\n",
       "      <td>0</td>\n",
       "      <td>0</td>\n",
       "    </tr>\n",
       "    <tr>\n",
       "      <th>4</th>\n",
       "      <td>6</td>\n",
       "      <td>3108</td>\n",
       "      <td>11</td>\n",
       "      <td>3</td>\n",
       "      <td>2</td>\n",
       "      <td>1</td>\n",
       "      <td>0</td>\n",
       "      <td>2.0</td>\n",
       "      <td>0.0</td>\n",
       "      <td>1.0</td>\n",
       "      <td>...</td>\n",
       "      <td>0.250460</td>\n",
       "      <td>27.351496</td>\n",
       "      <td>43.769564</td>\n",
       "      <td>25.585127</td>\n",
       "      <td>38.000461</td>\n",
       "      <td>44.742541</td>\n",
       "      <td>5.076926</td>\n",
       "      <td>25.850207</td>\n",
       "      <td>0</td>\n",
       "      <td>0</td>\n",
       "    </tr>\n",
       "  </tbody>\n",
       "</table>\n",
       "<p>5 rows × 29 columns</p>\n",
       "</div>"
      ],
      "text/plain": [
       "   Home_ID  FloorArea_sqft  CeilingHgt_ft  N_Bedrm   N_FullBath  N_HalfBath  \\\n",
       "0        1            2001              9         3           2           1   \n",
       "1        3            3104             10         4           3           0   \n",
       "2        4            3248             11         3           3           1   \n",
       "3        5            2317              9         4           2           0   \n",
       "4        6            3108             11         3           2           1   \n",
       "\n",
       "   Oven_Fuel  Num_Occupant  WHV_AsFound  AF1_Condition  ...  NO2_AQL_IN1  \\\n",
       "0          1           4.0          0.0            3.0  ...     0.021302   \n",
       "1          0           2.0          1.0            1.0  ...     0.048584   \n",
       "2          0           2.0          0.0            1.0  ...     0.153633   \n",
       "3          1           3.0          0.0            1.0  ...     0.049589   \n",
       "4          0           2.0          0.0            1.0  ...     0.250460   \n",
       "\n",
       "   FRM_ADJ_IN1  FRM_ADJ_BR1  T_ETC_IN1  RH_ETC_IN1  FRM_IN_ppb  NO2_IAQm_ppb  \\\n",
       "0    10.522139    12.337049  23.269313   39.705435   14.252478      4.874853   \n",
       "1    39.239283    42.685868  24.420784   45.021151         NaN           NaN   \n",
       "2    16.158558    16.637428  20.264354   45.067446   20.250339      1.708403   \n",
       "3    23.635695    27.127771  25.372127   37.459627         NaN      2.776921   \n",
       "4    27.351496    43.769564  25.585127   38.000461   44.742541      5.076926   \n",
       "\n",
       "   NOx_IAQm_ppb  Satisfaction_3points  Satisfaction_2points  \n",
       "0     20.336480                     0                     0  \n",
       "1           NaN                     1                     1  \n",
       "2      2.617361                     1                     1  \n",
       "3      7.139446                     0                     0  \n",
       "4     25.850207                     0                     0  \n",
       "\n",
       "[5 rows x 29 columns]"
      ]
     },
     "execution_count": 4,
     "metadata": {},
     "output_type": "execute_result"
    }
   ],
   "source": [
    "df = pd.read_csv(\"../data/processed/iaq_perception-mt.csv\")\n",
    "df.head()"
   ]
  },
  {
   "cell_type": "code",
   "execution_count": 5,
   "metadata": {},
   "outputs": [],
   "source": [
    "# Imputation with median\n",
    "imp_median = SimpleImputer(missing_values=np.nan, strategy='median')\n",
    "df_m = pd.DataFrame(data=imp_median.fit_transform(df),columns=df.columns)"
   ]
  },
  {
   "cell_type": "markdown",
   "metadata": {},
   "source": [
    "## Building Characteristics"
   ]
  },
  {
   "cell_type": "code",
   "execution_count": 10,
   "metadata": {},
   "outputs": [
    {
     "data": {
      "text/html": [
       "<div>\n",
       "<style scoped>\n",
       "    .dataframe tbody tr th:only-of-type {\n",
       "        vertical-align: middle;\n",
       "    }\n",
       "\n",
       "    .dataframe tbody tr th {\n",
       "        vertical-align: top;\n",
       "    }\n",
       "\n",
       "    .dataframe thead th {\n",
       "        text-align: right;\n",
       "    }\n",
       "</style>\n",
       "<table border=\"1\" class=\"dataframe\">\n",
       "  <thead>\n",
       "    <tr style=\"text-align: right;\">\n",
       "      <th></th>\n",
       "      <th>FloorArea_sqft</th>\n",
       "      <th>CeilingHgt_ft</th>\n",
       "      <th>N_Bedrm</th>\n",
       "      <th>N_FullBath</th>\n",
       "      <th>N_HalfBath</th>\n",
       "      <th>Oven_Fuel</th>\n",
       "      <th>Num_Occupant</th>\n",
       "      <th>WHV_AsFound</th>\n",
       "      <th>AF1_Condition</th>\n",
       "      <th>RHD_Grease_Screen_Condition</th>\n",
       "      <th>RHD_Fan_Airflow_Adjusted_Low_cfm</th>\n",
       "      <th>RHD_Fan_Airflow_Adjusted_High_cfm</th>\n",
       "      <th>EXF_BA1_Measured_cfm</th>\n",
       "      <th>Depressurization_Q50_cfm</th>\n",
       "    </tr>\n",
       "  </thead>\n",
       "  <tbody>\n",
       "    <tr>\n",
       "      <th>0</th>\n",
       "      <td>2001.0</td>\n",
       "      <td>9.0</td>\n",
       "      <td>3.0</td>\n",
       "      <td>2.0</td>\n",
       "      <td>1.0</td>\n",
       "      <td>1.0</td>\n",
       "      <td>4.0</td>\n",
       "      <td>0.0</td>\n",
       "      <td>3.0</td>\n",
       "      <td>2.0</td>\n",
       "      <td>88.505747</td>\n",
       "      <td>133.333333</td>\n",
       "      <td>91.0</td>\n",
       "      <td>1006.0</td>\n",
       "    </tr>\n",
       "    <tr>\n",
       "      <th>1</th>\n",
       "      <td>3104.0</td>\n",
       "      <td>10.0</td>\n",
       "      <td>4.0</td>\n",
       "      <td>3.0</td>\n",
       "      <td>0.0</td>\n",
       "      <td>0.0</td>\n",
       "      <td>2.0</td>\n",
       "      <td>1.0</td>\n",
       "      <td>1.0</td>\n",
       "      <td>1.0</td>\n",
       "      <td>107.000000</td>\n",
       "      <td>326.000000</td>\n",
       "      <td>49.0</td>\n",
       "      <td>1548.5</td>\n",
       "    </tr>\n",
       "    <tr>\n",
       "      <th>2</th>\n",
       "      <td>3248.0</td>\n",
       "      <td>11.0</td>\n",
       "      <td>3.0</td>\n",
       "      <td>3.0</td>\n",
       "      <td>1.0</td>\n",
       "      <td>0.0</td>\n",
       "      <td>2.0</td>\n",
       "      <td>0.0</td>\n",
       "      <td>1.0</td>\n",
       "      <td>2.0</td>\n",
       "      <td>310.000000</td>\n",
       "      <td>1046.000000</td>\n",
       "      <td>101.0</td>\n",
       "      <td>2224.0</td>\n",
       "    </tr>\n",
       "    <tr>\n",
       "      <th>3</th>\n",
       "      <td>2317.0</td>\n",
       "      <td>9.0</td>\n",
       "      <td>4.0</td>\n",
       "      <td>2.0</td>\n",
       "      <td>0.0</td>\n",
       "      <td>1.0</td>\n",
       "      <td>3.0</td>\n",
       "      <td>0.0</td>\n",
       "      <td>1.0</td>\n",
       "      <td>1.0</td>\n",
       "      <td>81.609195</td>\n",
       "      <td>143.678161</td>\n",
       "      <td>81.5</td>\n",
       "      <td>1548.5</td>\n",
       "    </tr>\n",
       "    <tr>\n",
       "      <th>4</th>\n",
       "      <td>3108.0</td>\n",
       "      <td>11.0</td>\n",
       "      <td>3.0</td>\n",
       "      <td>2.0</td>\n",
       "      <td>1.0</td>\n",
       "      <td>0.0</td>\n",
       "      <td>2.0</td>\n",
       "      <td>0.0</td>\n",
       "      <td>1.0</td>\n",
       "      <td>1.0</td>\n",
       "      <td>360.000000</td>\n",
       "      <td>806.000000</td>\n",
       "      <td>81.0</td>\n",
       "      <td>1548.5</td>\n",
       "    </tr>\n",
       "  </tbody>\n",
       "</table>\n",
       "</div>"
      ],
      "text/plain": [
       "   FloorArea_sqft  CeilingHgt_ft  N_Bedrm   N_FullBath  N_HalfBath  Oven_Fuel  \\\n",
       "0          2001.0            9.0       3.0         2.0         1.0        1.0   \n",
       "1          3104.0           10.0       4.0         3.0         0.0        0.0   \n",
       "2          3248.0           11.0       3.0         3.0         1.0        0.0   \n",
       "3          2317.0            9.0       4.0         2.0         0.0        1.0   \n",
       "4          3108.0           11.0       3.0         2.0         1.0        0.0   \n",
       "\n",
       "   Num_Occupant  WHV_AsFound  AF1_Condition  RHD_Grease_Screen_Condition  \\\n",
       "0           4.0          0.0            3.0                          2.0   \n",
       "1           2.0          1.0            1.0                          1.0   \n",
       "2           2.0          0.0            1.0                          2.0   \n",
       "3           3.0          0.0            1.0                          1.0   \n",
       "4           2.0          0.0            1.0                          1.0   \n",
       "\n",
       "   RHD_Fan_Airflow_Adjusted_Low_cfm  RHD_Fan_Airflow_Adjusted_High_cfm  \\\n",
       "0                         88.505747                         133.333333   \n",
       "1                        107.000000                         326.000000   \n",
       "2                        310.000000                        1046.000000   \n",
       "3                         81.609195                         143.678161   \n",
       "4                        360.000000                         806.000000   \n",
       "\n",
       "   EXF_BA1_Measured_cfm  Depressurization_Q50_cfm  \n",
       "0                  91.0                    1006.0  \n",
       "1                  49.0                    1548.5  \n",
       "2                 101.0                    2224.0  \n",
       "3                  81.5                    1548.5  \n",
       "4                  81.0                    1548.5  "
      ]
     },
     "execution_count": 10,
     "metadata": {},
     "output_type": "execute_result"
    }
   ],
   "source": [
    "X1 = df_m.iloc[:,1:15]\n",
    "X1.head()"
   ]
  },
  {
   "cell_type": "markdown",
   "metadata": {},
   "source": [
    "## Air Quality"
   ]
  },
  {
   "cell_type": "code",
   "execution_count": 12,
   "metadata": {},
   "outputs": [
    {
     "data": {
      "text/html": [
       "<div>\n",
       "<style scoped>\n",
       "    .dataframe tbody tr th:only-of-type {\n",
       "        vertical-align: middle;\n",
       "    }\n",
       "\n",
       "    .dataframe tbody tr th {\n",
       "        vertical-align: top;\n",
       "    }\n",
       "\n",
       "    .dataframe thead th {\n",
       "        text-align: right;\n",
       "    }\n",
       "</style>\n",
       "<table border=\"1\" class=\"dataframe\">\n",
       "  <thead>\n",
       "    <tr style=\"text-align: right;\">\n",
       "      <th></th>\n",
       "      <th>PM_MET_IN1</th>\n",
       "      <th>PM_MET_OUT</th>\n",
       "      <th>CO2_ETC_IN1</th>\n",
       "      <th>CO2_ETC_BR1</th>\n",
       "      <th>NO2_AQL_IN1</th>\n",
       "      <th>FRM_ADJ_IN1</th>\n",
       "      <th>FRM_ADJ_BR1</th>\n",
       "      <th>T_ETC_IN1</th>\n",
       "      <th>RH_ETC_IN1</th>\n",
       "      <th>FRM_IN_ppb</th>\n",
       "      <th>NO2_IAQm_ppb</th>\n",
       "      <th>NOx_IAQm_ppb</th>\n",
       "    </tr>\n",
       "  </thead>\n",
       "  <tbody>\n",
       "    <tr>\n",
       "      <th>0</th>\n",
       "      <td>2.011464</td>\n",
       "      <td>8.855427</td>\n",
       "      <td>640.476489</td>\n",
       "      <td>727.076213</td>\n",
       "      <td>0.021302</td>\n",
       "      <td>10.522139</td>\n",
       "      <td>12.337049</td>\n",
       "      <td>23.269313</td>\n",
       "      <td>39.705435</td>\n",
       "      <td>14.252478</td>\n",
       "      <td>4.874853</td>\n",
       "      <td>20.336480</td>\n",
       "    </tr>\n",
       "    <tr>\n",
       "      <th>1</th>\n",
       "      <td>5.959333</td>\n",
       "      <td>2.406069</td>\n",
       "      <td>830.593753</td>\n",
       "      <td>846.815114</td>\n",
       "      <td>0.048584</td>\n",
       "      <td>39.239283</td>\n",
       "      <td>42.685868</td>\n",
       "      <td>24.420784</td>\n",
       "      <td>45.021151</td>\n",
       "      <td>18.010887</td>\n",
       "      <td>5.502727</td>\n",
       "      <td>18.359575</td>\n",
       "    </tr>\n",
       "    <tr>\n",
       "      <th>2</th>\n",
       "      <td>11.291269</td>\n",
       "      <td>4.427615</td>\n",
       "      <td>512.227439</td>\n",
       "      <td>605.783042</td>\n",
       "      <td>0.153633</td>\n",
       "      <td>16.158558</td>\n",
       "      <td>16.637428</td>\n",
       "      <td>20.264354</td>\n",
       "      <td>45.067446</td>\n",
       "      <td>20.250339</td>\n",
       "      <td>1.708403</td>\n",
       "      <td>2.617361</td>\n",
       "    </tr>\n",
       "    <tr>\n",
       "      <th>3</th>\n",
       "      <td>1.074514</td>\n",
       "      <td>3.324214</td>\n",
       "      <td>671.966967</td>\n",
       "      <td>734.965862</td>\n",
       "      <td>0.049589</td>\n",
       "      <td>23.635695</td>\n",
       "      <td>27.127771</td>\n",
       "      <td>25.372127</td>\n",
       "      <td>37.459627</td>\n",
       "      <td>18.010887</td>\n",
       "      <td>2.776921</td>\n",
       "      <td>7.139446</td>\n",
       "    </tr>\n",
       "    <tr>\n",
       "      <th>4</th>\n",
       "      <td>3.883027</td>\n",
       "      <td>4.623322</td>\n",
       "      <td>603.374908</td>\n",
       "      <td>684.653495</td>\n",
       "      <td>0.250460</td>\n",
       "      <td>27.351496</td>\n",
       "      <td>43.769564</td>\n",
       "      <td>25.585127</td>\n",
       "      <td>38.000461</td>\n",
       "      <td>44.742541</td>\n",
       "      <td>5.076926</td>\n",
       "      <td>25.850207</td>\n",
       "    </tr>\n",
       "  </tbody>\n",
       "</table>\n",
       "</div>"
      ],
      "text/plain": [
       "   PM_MET_IN1  PM_MET_OUT  CO2_ETC_IN1  CO2_ETC_BR1  NO2_AQL_IN1  FRM_ADJ_IN1  \\\n",
       "0    2.011464    8.855427   640.476489   727.076213     0.021302    10.522139   \n",
       "1    5.959333    2.406069   830.593753   846.815114     0.048584    39.239283   \n",
       "2   11.291269    4.427615   512.227439   605.783042     0.153633    16.158558   \n",
       "3    1.074514    3.324214   671.966967   734.965862     0.049589    23.635695   \n",
       "4    3.883027    4.623322   603.374908   684.653495     0.250460    27.351496   \n",
       "\n",
       "   FRM_ADJ_BR1  T_ETC_IN1  RH_ETC_IN1  FRM_IN_ppb  NO2_IAQm_ppb  NOx_IAQm_ppb  \n",
       "0    12.337049  23.269313   39.705435   14.252478      4.874853     20.336480  \n",
       "1    42.685868  24.420784   45.021151   18.010887      5.502727     18.359575  \n",
       "2    16.637428  20.264354   45.067446   20.250339      1.708403      2.617361  \n",
       "3    27.127771  25.372127   37.459627   18.010887      2.776921      7.139446  \n",
       "4    43.769564  25.585127   38.000461   44.742541      5.076926     25.850207  "
      ]
     },
     "execution_count": 12,
     "metadata": {},
     "output_type": "execute_result"
    }
   ],
   "source": [
    "X2 = df_m.iloc[:,15:27]\n",
    "X2.head()"
   ]
  },
  {
   "cell_type": "markdown",
   "metadata": {},
   "source": [
    "## Target"
   ]
  },
  {
   "cell_type": "code",
   "execution_count": 13,
   "metadata": {},
   "outputs": [],
   "source": [
    "Y1 = df_m.iloc[:,28]"
   ]
  },
  {
   "cell_type": "markdown",
   "metadata": {},
   "source": [
    "---"
   ]
  },
  {
   "cell_type": "markdown",
   "metadata": {},
   "source": [
    "# Feature Selection"
   ]
  },
  {
   "cell_type": "code",
   "execution_count": 21,
   "metadata": {},
   "outputs": [],
   "source": [
    "def get_feature_importance(model,X_train,y_train):\n",
    "    \"\"\"\n",
    "    Gets a DataFrame of the feature importances\n",
    "    \"\"\"\n",
    "    try:\n",
    "        model.fit(X_train,y_train)\n",
    "        importances = pd.DataFrame(data={\n",
    "            'Feature': X_train.columns,\n",
    "            'Importance': model.feature_importances_\n",
    "        })\n",
    "        importances = importances.sort_values(by='Importance', ascending=False)\n",
    "        return importances\n",
    "    except:\n",
    "        print(\"Not a valid model\")\n",
    "        return"
   ]
  },
  {
   "cell_type": "markdown",
   "metadata": {},
   "source": [
    "## Standardizing Features"
   ]
  },
  {
   "cell_type": "code",
   "execution_count": 14,
   "metadata": {},
   "outputs": [],
   "source": [
    "def scale_x(x,verbose=False):\n",
    "    \"\"\"\n",
    "    Scales the given array\n",
    "    \"\"\"\n",
    "    # scaling\n",
    "    scaler = preprocessing.StandardScaler().fit(x)\n",
    "    X_scaled = scaler.transform(x)\n",
    "    \n",
    "    # checking\n",
    "    if verbose:\n",
    "        print(\"Should be approximately zero:\", X_scaled.mean(axis=0))\n",
    "        print(\"Should be approximately one:\",X_scaled.std(axis=0))\n",
    "    \n",
    "    return pd.DataFrame(data=X_scaled,columns=x.columns)"
   ]
  },
  {
   "cell_type": "markdown",
   "metadata": {},
   "source": [
    "## Getting Complete Featureset\n",
    "We include the features that Mengjia found relevant"
   ]
  },
  {
   "cell_type": "code",
   "execution_count": 15,
   "metadata": {},
   "outputs": [
    {
     "data": {
      "text/html": [
       "<div>\n",
       "<style scoped>\n",
       "    .dataframe tbody tr th:only-of-type {\n",
       "        vertical-align: middle;\n",
       "    }\n",
       "\n",
       "    .dataframe tbody tr th {\n",
       "        vertical-align: top;\n",
       "    }\n",
       "\n",
       "    .dataframe thead th {\n",
       "        text-align: right;\n",
       "    }\n",
       "</style>\n",
       "<table border=\"1\" class=\"dataframe\">\n",
       "  <thead>\n",
       "    <tr style=\"text-align: right;\">\n",
       "      <th></th>\n",
       "      <th>FloorArea_sqft</th>\n",
       "      <th>CeilingHgt_ft</th>\n",
       "      <th>N_Bedrm</th>\n",
       "      <th>N_FullBath</th>\n",
       "      <th>N_HalfBath</th>\n",
       "      <th>Oven_Fuel</th>\n",
       "      <th>Num_Occupant</th>\n",
       "      <th>WHV_AsFound</th>\n",
       "      <th>AF1_Condition</th>\n",
       "      <th>RHD_Grease_Screen_Condition</th>\n",
       "      <th>...</th>\n",
       "      <th>Depressurization_Q50_cfm</th>\n",
       "      <th>PM_MET_IN1</th>\n",
       "      <th>PM_MET_OUT</th>\n",
       "      <th>CO2_ETC_IN1</th>\n",
       "      <th>CO2_ETC_BR1</th>\n",
       "      <th>T_ETC_IN1</th>\n",
       "      <th>RH_ETC_IN1</th>\n",
       "      <th>FRM_IN_ppb</th>\n",
       "      <th>NO2_IAQm_ppb</th>\n",
       "      <th>NOx_IAQm_ppb</th>\n",
       "    </tr>\n",
       "  </thead>\n",
       "  <tbody>\n",
       "    <tr>\n",
       "      <th>0</th>\n",
       "      <td>2001.0</td>\n",
       "      <td>9.0</td>\n",
       "      <td>3.0</td>\n",
       "      <td>2.0</td>\n",
       "      <td>1.0</td>\n",
       "      <td>1.0</td>\n",
       "      <td>4.0</td>\n",
       "      <td>0.0</td>\n",
       "      <td>3.0</td>\n",
       "      <td>2.0</td>\n",
       "      <td>...</td>\n",
       "      <td>1006.0</td>\n",
       "      <td>2.011464</td>\n",
       "      <td>8.855427</td>\n",
       "      <td>640.476489</td>\n",
       "      <td>727.076213</td>\n",
       "      <td>23.269313</td>\n",
       "      <td>39.705435</td>\n",
       "      <td>14.252478</td>\n",
       "      <td>4.874853</td>\n",
       "      <td>20.336480</td>\n",
       "    </tr>\n",
       "    <tr>\n",
       "      <th>1</th>\n",
       "      <td>3104.0</td>\n",
       "      <td>10.0</td>\n",
       "      <td>4.0</td>\n",
       "      <td>3.0</td>\n",
       "      <td>0.0</td>\n",
       "      <td>0.0</td>\n",
       "      <td>2.0</td>\n",
       "      <td>1.0</td>\n",
       "      <td>1.0</td>\n",
       "      <td>1.0</td>\n",
       "      <td>...</td>\n",
       "      <td>1548.5</td>\n",
       "      <td>5.959333</td>\n",
       "      <td>2.406069</td>\n",
       "      <td>830.593753</td>\n",
       "      <td>846.815114</td>\n",
       "      <td>24.420784</td>\n",
       "      <td>45.021151</td>\n",
       "      <td>18.010887</td>\n",
       "      <td>5.502727</td>\n",
       "      <td>18.359575</td>\n",
       "    </tr>\n",
       "    <tr>\n",
       "      <th>2</th>\n",
       "      <td>3248.0</td>\n",
       "      <td>11.0</td>\n",
       "      <td>3.0</td>\n",
       "      <td>3.0</td>\n",
       "      <td>1.0</td>\n",
       "      <td>0.0</td>\n",
       "      <td>2.0</td>\n",
       "      <td>0.0</td>\n",
       "      <td>1.0</td>\n",
       "      <td>2.0</td>\n",
       "      <td>...</td>\n",
       "      <td>2224.0</td>\n",
       "      <td>11.291269</td>\n",
       "      <td>4.427615</td>\n",
       "      <td>512.227439</td>\n",
       "      <td>605.783042</td>\n",
       "      <td>20.264354</td>\n",
       "      <td>45.067446</td>\n",
       "      <td>20.250339</td>\n",
       "      <td>1.708403</td>\n",
       "      <td>2.617361</td>\n",
       "    </tr>\n",
       "    <tr>\n",
       "      <th>3</th>\n",
       "      <td>2317.0</td>\n",
       "      <td>9.0</td>\n",
       "      <td>4.0</td>\n",
       "      <td>2.0</td>\n",
       "      <td>0.0</td>\n",
       "      <td>1.0</td>\n",
       "      <td>3.0</td>\n",
       "      <td>0.0</td>\n",
       "      <td>1.0</td>\n",
       "      <td>1.0</td>\n",
       "      <td>...</td>\n",
       "      <td>1548.5</td>\n",
       "      <td>1.074514</td>\n",
       "      <td>3.324214</td>\n",
       "      <td>671.966967</td>\n",
       "      <td>734.965862</td>\n",
       "      <td>25.372127</td>\n",
       "      <td>37.459627</td>\n",
       "      <td>18.010887</td>\n",
       "      <td>2.776921</td>\n",
       "      <td>7.139446</td>\n",
       "    </tr>\n",
       "    <tr>\n",
       "      <th>4</th>\n",
       "      <td>3108.0</td>\n",
       "      <td>11.0</td>\n",
       "      <td>3.0</td>\n",
       "      <td>2.0</td>\n",
       "      <td>1.0</td>\n",
       "      <td>0.0</td>\n",
       "      <td>2.0</td>\n",
       "      <td>0.0</td>\n",
       "      <td>1.0</td>\n",
       "      <td>1.0</td>\n",
       "      <td>...</td>\n",
       "      <td>1548.5</td>\n",
       "      <td>3.883027</td>\n",
       "      <td>4.623322</td>\n",
       "      <td>603.374908</td>\n",
       "      <td>684.653495</td>\n",
       "      <td>25.585127</td>\n",
       "      <td>38.000461</td>\n",
       "      <td>44.742541</td>\n",
       "      <td>5.076926</td>\n",
       "      <td>25.850207</td>\n",
       "    </tr>\n",
       "  </tbody>\n",
       "</table>\n",
       "<p>5 rows × 23 columns</p>\n",
       "</div>"
      ],
      "text/plain": [
       "   FloorArea_sqft  CeilingHgt_ft  N_Bedrm   N_FullBath  N_HalfBath  Oven_Fuel  \\\n",
       "0          2001.0            9.0       3.0         2.0         1.0        1.0   \n",
       "1          3104.0           10.0       4.0         3.0         0.0        0.0   \n",
       "2          3248.0           11.0       3.0         3.0         1.0        0.0   \n",
       "3          2317.0            9.0       4.0         2.0         0.0        1.0   \n",
       "4          3108.0           11.0       3.0         2.0         1.0        0.0   \n",
       "\n",
       "   Num_Occupant  WHV_AsFound  AF1_Condition  RHD_Grease_Screen_Condition  ...  \\\n",
       "0           4.0          0.0            3.0                          2.0  ...   \n",
       "1           2.0          1.0            1.0                          1.0  ...   \n",
       "2           2.0          0.0            1.0                          2.0  ...   \n",
       "3           3.0          0.0            1.0                          1.0  ...   \n",
       "4           2.0          0.0            1.0                          1.0  ...   \n",
       "\n",
       "   Depressurization_Q50_cfm  PM_MET_IN1  PM_MET_OUT  CO2_ETC_IN1  CO2_ETC_BR1  \\\n",
       "0                    1006.0    2.011464    8.855427   640.476489   727.076213   \n",
       "1                    1548.5    5.959333    2.406069   830.593753   846.815114   \n",
       "2                    2224.0   11.291269    4.427615   512.227439   605.783042   \n",
       "3                    1548.5    1.074514    3.324214   671.966967   734.965862   \n",
       "4                    1548.5    3.883027    4.623322   603.374908   684.653495   \n",
       "\n",
       "   T_ETC_IN1  RH_ETC_IN1  FRM_IN_ppb  NO2_IAQm_ppb  NOx_IAQm_ppb  \n",
       "0  23.269313   39.705435   14.252478      4.874853     20.336480  \n",
       "1  24.420784   45.021151   18.010887      5.502727     18.359575  \n",
       "2  20.264354   45.067446   20.250339      1.708403      2.617361  \n",
       "3  25.372127   37.459627   18.010887      2.776921      7.139446  \n",
       "4  25.585127   38.000461   44.742541      5.076926     25.850207  \n",
       "\n",
       "[5 rows x 23 columns]"
      ]
     },
     "execution_count": 15,
     "metadata": {},
     "output_type": "execute_result"
    }
   ],
   "source": [
    "X_all = df_m.iloc[:,np.r_[1:15,15:19,22:27]]\n",
    "X_all.head()"
   ]
  },
  {
   "cell_type": "markdown",
   "metadata": {},
   "source": [
    "#### Splitting"
   ]
  },
  {
   "cell_type": "code",
   "execution_count": 82,
   "metadata": {},
   "outputs": [],
   "source": [
    "X_scaled_all = scale_x(X_all)\n",
    "X_train_all, X_test_all, y_train_all, y_test_all = train_test_split(X_scaled_all, Y1, test_size = 0.1, random_state=0)"
   ]
  },
  {
   "cell_type": "markdown",
   "metadata": {},
   "source": [
    "## Gridsearch for Optimal DT and RF Parameters\n",
    "We need to somewhat optimize the DT and RF models to the entire featureset so that we are at more aptly determining the important features."
   ]
  },
  {
   "cell_type": "markdown",
   "metadata": {},
   "source": [
    "### DT"
   ]
  },
  {
   "cell_type": "code",
   "execution_count": 18,
   "metadata": {},
   "outputs": [
    {
     "name": "stdout",
     "output_type": "stream",
     "text": [
      "ccp_alpha: 0.0\n",
      "criterion: entropy\n",
      "max_depth: 8\n"
     ]
    }
   ],
   "source": [
    "fs_DT = DecisionTreeClassifier(random_state=42)\n",
    "parameters = {'ccp_alpha':np.arange(0,0.1,0.005),'criterion':['entropy',\"gini\"],'max_depth':np.arange(3,9,1)}\n",
    "fs_DT_grid = GridSearchCV(fs_DT, parameters, cv=10, refit=True, scoring='accuracy')\n",
    "fs_DT_grid.fit(X_train_all, y_train_all)\n",
    "for key, val in fs_DT.best_params_.items():\n",
    "    print(f\"{key}: {val}\")"
   ]
  },
  {
   "cell_type": "markdown",
   "metadata": {},
   "source": [
    "### RF"
   ]
  },
  {
   "cell_type": "code",
   "execution_count": 19,
   "metadata": {},
   "outputs": [
    {
     "name": "stdout",
     "output_type": "stream",
     "text": [
      "ccp_alpha: 0.0\n",
      "criterion: gini\n",
      "max_depth: 6\n",
      "n_estimators: 50\n"
     ]
    }
   ],
   "source": [
    "fs_RF = RandomForestClassifier(random_state=42)\n",
    "parameters = {'ccp_alpha':np.arange(0,0.05,0.005),'criterion':['entropy','gini'],'max_depth':np.arange(3,9,1),'n_estimators':[10,20,50,100]}\n",
    "fs_RF_grid = GridSearchCV(fs_RF, parameters, cv=10, refit=True,scoring='accuracy')\n",
    "fs_RF_grid.fit(X_train_all, y_train_all)\n",
    "for key, val in fs_RF_grid.best_params_.items():\n",
    "    print(f\"{key}: {val}\")"
   ]
  },
  {
   "cell_type": "markdown",
   "metadata": {},
   "source": [
    "## Feature Importances\n",
    "Using the optimized models from above to get the important features\n",
    "\n",
    "See some good articles here about SHAP values - **NOT USED**:\n",
    "* [RF Models](https://towardsdatascience.com/explain-your-model-with-the-shap-values-bc36aac4de3d)\n",
    "* [Other Models](https://towardsdatascience.com/explain-any-models-with-the-shap-values-use-the-kernelexplainer-79de9464897a)\n",
    "\n",
    "And the [Github](https://github.com/slundberg/shap) for this library."
   ]
  },
  {
   "cell_type": "markdown",
   "metadata": {},
   "source": [
    "### DT"
   ]
  },
  {
   "cell_type": "code",
   "execution_count": 24,
   "metadata": {},
   "outputs": [
    {
     "data": {
      "text/html": [
       "<div>\n",
       "<style scoped>\n",
       "    .dataframe tbody tr th:only-of-type {\n",
       "        vertical-align: middle;\n",
       "    }\n",
       "\n",
       "    .dataframe tbody tr th {\n",
       "        vertical-align: top;\n",
       "    }\n",
       "\n",
       "    .dataframe thead th {\n",
       "        text-align: right;\n",
       "    }\n",
       "</style>\n",
       "<table border=\"1\" class=\"dataframe\">\n",
       "  <thead>\n",
       "    <tr style=\"text-align: right;\">\n",
       "      <th></th>\n",
       "      <th>Feature</th>\n",
       "      <th>Importance</th>\n",
       "    </tr>\n",
       "  </thead>\n",
       "  <tbody>\n",
       "    <tr>\n",
       "      <th>17</th>\n",
       "      <td>CO2_ETC_BR1</td>\n",
       "      <td>0.266724</td>\n",
       "    </tr>\n",
       "    <tr>\n",
       "      <th>19</th>\n",
       "      <td>RH_ETC_IN1</td>\n",
       "      <td>0.225970</td>\n",
       "    </tr>\n",
       "    <tr>\n",
       "      <th>10</th>\n",
       "      <td>RHD_Fan_Airflow_Adjusted_Low_cfm</td>\n",
       "      <td>0.149999</td>\n",
       "    </tr>\n",
       "    <tr>\n",
       "      <th>14</th>\n",
       "      <td>PM_MET_IN1</td>\n",
       "      <td>0.110046</td>\n",
       "    </tr>\n",
       "    <tr>\n",
       "      <th>20</th>\n",
       "      <td>FRM_IN_ppb</td>\n",
       "      <td>0.103581</td>\n",
       "    </tr>\n",
       "    <tr>\n",
       "      <th>22</th>\n",
       "      <td>NOx_IAQm_ppb</td>\n",
       "      <td>0.077674</td>\n",
       "    </tr>\n",
       "    <tr>\n",
       "      <th>18</th>\n",
       "      <td>T_ETC_IN1</td>\n",
       "      <td>0.066006</td>\n",
       "    </tr>\n",
       "    <tr>\n",
       "      <th>12</th>\n",
       "      <td>EXF_BA1_Measured_cfm</td>\n",
       "      <td>0.000000</td>\n",
       "    </tr>\n",
       "    <tr>\n",
       "      <th>21</th>\n",
       "      <td>NO2_IAQm_ppb</td>\n",
       "      <td>0.000000</td>\n",
       "    </tr>\n",
       "    <tr>\n",
       "      <th>16</th>\n",
       "      <td>CO2_ETC_IN1</td>\n",
       "      <td>0.000000</td>\n",
       "    </tr>\n",
       "  </tbody>\n",
       "</table>\n",
       "</div>"
      ],
      "text/plain": [
       "                             Feature  Importance\n",
       "17                       CO2_ETC_BR1    0.266724\n",
       "19                        RH_ETC_IN1    0.225970\n",
       "10  RHD_Fan_Airflow_Adjusted_Low_cfm    0.149999\n",
       "14                        PM_MET_IN1    0.110046\n",
       "20                        FRM_IN_ppb    0.103581\n",
       "22                      NOx_IAQm_ppb    0.077674\n",
       "18                         T_ETC_IN1    0.066006\n",
       "12              EXF_BA1_Measured_cfm    0.000000\n",
       "21                      NO2_IAQm_ppb    0.000000\n",
       "16                       CO2_ETC_IN1    0.000000"
      ]
     },
     "execution_count": 24,
     "metadata": {},
     "output_type": "execute_result"
    }
   ],
   "source": [
    "fs_DT_imp = get_feature_importance(DecisionTreeClassifier(random_state=42,ccp_alpha=0.0,criterion=\"entropy\",max_depth=8),\n",
    "                                   X_train_all,y_train_all)\n",
    "fs_DT_imp[:10]"
   ]
  },
  {
   "cell_type": "markdown",
   "metadata": {},
   "source": [
    "### RF"
   ]
  },
  {
   "cell_type": "code",
   "execution_count": 26,
   "metadata": {},
   "outputs": [
    {
     "data": {
      "text/html": [
       "<div>\n",
       "<style scoped>\n",
       "    .dataframe tbody tr th:only-of-type {\n",
       "        vertical-align: middle;\n",
       "    }\n",
       "\n",
       "    .dataframe tbody tr th {\n",
       "        vertical-align: top;\n",
       "    }\n",
       "\n",
       "    .dataframe thead th {\n",
       "        text-align: right;\n",
       "    }\n",
       "</style>\n",
       "<table border=\"1\" class=\"dataframe\">\n",
       "  <thead>\n",
       "    <tr style=\"text-align: right;\">\n",
       "      <th></th>\n",
       "      <th>Feature</th>\n",
       "      <th>Importance</th>\n",
       "    </tr>\n",
       "  </thead>\n",
       "  <tbody>\n",
       "    <tr>\n",
       "      <th>13</th>\n",
       "      <td>Depressurization_Q50_cfm</td>\n",
       "      <td>0.090587</td>\n",
       "    </tr>\n",
       "    <tr>\n",
       "      <th>10</th>\n",
       "      <td>RHD_Fan_Airflow_Adjusted_Low_cfm</td>\n",
       "      <td>0.085150</td>\n",
       "    </tr>\n",
       "    <tr>\n",
       "      <th>16</th>\n",
       "      <td>CO2_ETC_IN1</td>\n",
       "      <td>0.079898</td>\n",
       "    </tr>\n",
       "    <tr>\n",
       "      <th>20</th>\n",
       "      <td>FRM_IN_ppb</td>\n",
       "      <td>0.069125</td>\n",
       "    </tr>\n",
       "    <tr>\n",
       "      <th>12</th>\n",
       "      <td>EXF_BA1_Measured_cfm</td>\n",
       "      <td>0.062588</td>\n",
       "    </tr>\n",
       "    <tr>\n",
       "      <th>21</th>\n",
       "      <td>NO2_IAQm_ppb</td>\n",
       "      <td>0.061923</td>\n",
       "    </tr>\n",
       "    <tr>\n",
       "      <th>17</th>\n",
       "      <td>CO2_ETC_BR1</td>\n",
       "      <td>0.054882</td>\n",
       "    </tr>\n",
       "    <tr>\n",
       "      <th>19</th>\n",
       "      <td>RH_ETC_IN1</td>\n",
       "      <td>0.054273</td>\n",
       "    </tr>\n",
       "    <tr>\n",
       "      <th>0</th>\n",
       "      <td>FloorArea_sqft</td>\n",
       "      <td>0.050950</td>\n",
       "    </tr>\n",
       "    <tr>\n",
       "      <th>14</th>\n",
       "      <td>PM_MET_IN1</td>\n",
       "      <td>0.048619</td>\n",
       "    </tr>\n",
       "  </tbody>\n",
       "</table>\n",
       "</div>"
      ],
      "text/plain": [
       "                             Feature  Importance\n",
       "13          Depressurization_Q50_cfm    0.090587\n",
       "10  RHD_Fan_Airflow_Adjusted_Low_cfm    0.085150\n",
       "16                       CO2_ETC_IN1    0.079898\n",
       "20                        FRM_IN_ppb    0.069125\n",
       "12              EXF_BA1_Measured_cfm    0.062588\n",
       "21                      NO2_IAQm_ppb    0.061923\n",
       "17                       CO2_ETC_BR1    0.054882\n",
       "19                        RH_ETC_IN1    0.054273\n",
       "0                     FloorArea_sqft    0.050950\n",
       "14                        PM_MET_IN1    0.048619"
      ]
     },
     "execution_count": 26,
     "metadata": {},
     "output_type": "execute_result"
    }
   ],
   "source": [
    "fs_RF_imp = get_feature_importance(RandomForestClassifier(random_state=42,ccp_alpha=0.0,criterion=\"gini\",max_depth=6,n_estimators=50),\n",
    "                                   X_train_all,y_train_all)\n",
    "fs_RF_imp[:10]"
   ]
  },
  {
   "cell_type": "markdown",
   "metadata": {},
   "source": [
    "## Defining Important Features as ```X```\n",
    "From the results above, we get the important features:"
   ]
  },
  {
   "cell_type": "code",
   "execution_count": 27,
   "metadata": {},
   "outputs": [
    {
     "data": {
      "text/html": [
       "<div>\n",
       "<style scoped>\n",
       "    .dataframe tbody tr th:only-of-type {\n",
       "        vertical-align: middle;\n",
       "    }\n",
       "\n",
       "    .dataframe tbody tr th {\n",
       "        vertical-align: top;\n",
       "    }\n",
       "\n",
       "    .dataframe thead th {\n",
       "        text-align: right;\n",
       "    }\n",
       "</style>\n",
       "<table border=\"1\" class=\"dataframe\">\n",
       "  <thead>\n",
       "    <tr style=\"text-align: right;\">\n",
       "      <th></th>\n",
       "      <th>CO2_ETC_BR1</th>\n",
       "      <th>RH_ETC_IN1</th>\n",
       "      <th>PM_MET_IN1</th>\n",
       "      <th>NO2_IAQm_ppb</th>\n",
       "      <th>FRM_IN_ppb</th>\n",
       "      <th>T_ETC_IN1</th>\n",
       "      <th>RHD_Fan_Airflow_Adjusted_Low_cfm</th>\n",
       "      <th>Depressurization_Q50_cfm</th>\n",
       "      <th>EXF_BA1_Measured_cfm</th>\n",
       "    </tr>\n",
       "  </thead>\n",
       "  <tbody>\n",
       "    <tr>\n",
       "      <th>0</th>\n",
       "      <td>727.076213</td>\n",
       "      <td>39.705435</td>\n",
       "      <td>2.011464</td>\n",
       "      <td>4.874853</td>\n",
       "      <td>14.252478</td>\n",
       "      <td>23.269313</td>\n",
       "      <td>88.505747</td>\n",
       "      <td>1006.0</td>\n",
       "      <td>91.0</td>\n",
       "    </tr>\n",
       "    <tr>\n",
       "      <th>1</th>\n",
       "      <td>846.815114</td>\n",
       "      <td>45.021151</td>\n",
       "      <td>5.959333</td>\n",
       "      <td>5.502727</td>\n",
       "      <td>18.010887</td>\n",
       "      <td>24.420784</td>\n",
       "      <td>107.000000</td>\n",
       "      <td>1548.5</td>\n",
       "      <td>49.0</td>\n",
       "    </tr>\n",
       "    <tr>\n",
       "      <th>2</th>\n",
       "      <td>605.783042</td>\n",
       "      <td>45.067446</td>\n",
       "      <td>11.291269</td>\n",
       "      <td>1.708403</td>\n",
       "      <td>20.250339</td>\n",
       "      <td>20.264354</td>\n",
       "      <td>310.000000</td>\n",
       "      <td>2224.0</td>\n",
       "      <td>101.0</td>\n",
       "    </tr>\n",
       "    <tr>\n",
       "      <th>3</th>\n",
       "      <td>734.965862</td>\n",
       "      <td>37.459627</td>\n",
       "      <td>1.074514</td>\n",
       "      <td>2.776921</td>\n",
       "      <td>18.010887</td>\n",
       "      <td>25.372127</td>\n",
       "      <td>81.609195</td>\n",
       "      <td>1548.5</td>\n",
       "      <td>81.5</td>\n",
       "    </tr>\n",
       "    <tr>\n",
       "      <th>4</th>\n",
       "      <td>684.653495</td>\n",
       "      <td>38.000461</td>\n",
       "      <td>3.883027</td>\n",
       "      <td>5.076926</td>\n",
       "      <td>44.742541</td>\n",
       "      <td>25.585127</td>\n",
       "      <td>360.000000</td>\n",
       "      <td>1548.5</td>\n",
       "      <td>81.0</td>\n",
       "    </tr>\n",
       "  </tbody>\n",
       "</table>\n",
       "</div>"
      ],
      "text/plain": [
       "   CO2_ETC_BR1  RH_ETC_IN1  PM_MET_IN1  NO2_IAQm_ppb  FRM_IN_ppb  T_ETC_IN1  \\\n",
       "0   727.076213   39.705435    2.011464      4.874853   14.252478  23.269313   \n",
       "1   846.815114   45.021151    5.959333      5.502727   18.010887  24.420784   \n",
       "2   605.783042   45.067446   11.291269      1.708403   20.250339  20.264354   \n",
       "3   734.965862   37.459627    1.074514      2.776921   18.010887  25.372127   \n",
       "4   684.653495   38.000461    3.883027      5.076926   44.742541  25.585127   \n",
       "\n",
       "   RHD_Fan_Airflow_Adjusted_Low_cfm  Depressurization_Q50_cfm  \\\n",
       "0                         88.505747                    1006.0   \n",
       "1                        107.000000                    1548.5   \n",
       "2                        310.000000                    2224.0   \n",
       "3                         81.609195                    1548.5   \n",
       "4                        360.000000                    1548.5   \n",
       "\n",
       "   EXF_BA1_Measured_cfm  \n",
       "0                  91.0  \n",
       "1                  49.0  \n",
       "2                 101.0  \n",
       "3                  81.5  \n",
       "4                  81.0  "
      ]
     },
     "execution_count": 27,
     "metadata": {},
     "output_type": "execute_result"
    }
   ],
   "source": [
    "X = df_m[[col for col in [\"CO2_ETC_BR1\",\"RH_ETC_IN1\",\"PM_MET_IN1\",\"NO2_IAQm_ppb\",\"FRM_IN_ppb\",\"T_ETC_IN1\",\n",
    "                          \"RHD_Fan_Airflow_Adjusted_Low_cfm\",\"Depressurization_Q50_cfm\",\"EXF_BA1_Measured_cfm\"]]]\n",
    "X.head()"
   ]
  },
  {
   "cell_type": "markdown",
   "metadata": {},
   "source": [
    "<div class=\"alert alert-block alert-info\">\n",
    " \n",
    "We have 9 features to include:\n",
    "* IAQ: CO2 (bedroom), RH, PM, NO2, HCHO, T\n",
    "* HVAC: Fan airflow, Q50, Exfiltration (bathroom)\n",
    "    \n",
    "</div>"
   ]
  },
  {
   "cell_type": "code",
   "execution_count": 28,
   "metadata": {},
   "outputs": [],
   "source": [
    "X_scaled = scale_x(X)\n",
    "X_train, X_test, y_train, y_test = train_test_split(X_scaled, Y1, test_size = 0.1, random_state=0)"
   ]
  },
  {
   "cell_type": "markdown",
   "metadata": {},
   "source": [
    "---"
   ]
  },
  {
   "cell_type": "markdown",
   "metadata": {},
   "source": [
    "# Defining Full Model\n",
    "To compare, we need to generate the full model"
   ]
  },
  {
   "cell_type": "markdown",
   "metadata": {},
   "source": [
    "## Tuning Hyperparameters"
   ]
  },
  {
   "cell_type": "markdown",
   "metadata": {},
   "source": [
    "### LR"
   ]
  },
  {
   "cell_type": "code",
   "execution_count": 34,
   "metadata": {},
   "outputs": [],
   "source": [
    "def optimize_lr(X,y):\n",
    "    \"\"\"\n",
    "    optimizes the LR parameters\n",
    "    \"\"\"\n",
    "    test_LR = LogisticRegression(random_state=0)\n",
    "    parameters = {'fit_intercept':[True,False],\"solver\":[\"lbfgs\",\"liblinear\"]}\n",
    "    test_LR_grid = GridSearchCV(test_LR, parameters, cv=10, refit=True, scoring='accuracy')\n",
    "    test_LR_grid.fit(X, y)\n",
    "    for key, val in test_LR_grid.best_params_.items():\n",
    "        print(f\"{key}: {val}\")"
   ]
  },
  {
   "cell_type": "code",
   "execution_count": 35,
   "metadata": {},
   "outputs": [
    {
     "name": "stdout",
     "output_type": "stream",
     "text": [
      "fit_intercept: False\n",
      "solver: lbfgs\n"
     ]
    }
   ],
   "source": [
    "optimize_lr(X_train_all,y_train_all)"
   ]
  },
  {
   "cell_type": "code",
   "execution_count": 36,
   "metadata": {},
   "outputs": [],
   "source": [
    "model_LR_full = LogisticRegression(random_state=42,fit_intercept=False,solver=\"lbfgs\")"
   ]
  },
  {
   "cell_type": "markdown",
   "metadata": {},
   "source": [
    "### DT"
   ]
  },
  {
   "cell_type": "code",
   "execution_count": 44,
   "metadata": {},
   "outputs": [],
   "source": [
    "def optimize_dt(X,y):\n",
    "    \"\"\"\n",
    "    optimizes parameters for DT model\n",
    "    \"\"\"\n",
    "    test_DT = DecisionTreeClassifier(random_state=0)\n",
    "    parameters = {'ccp_alpha':np.arange(0,0.1,0.005),'criterion':['entropy',\"gini\"],'max_depth':np.arange(2,11,1)}\n",
    "    test_DT_grid = GridSearchCV(test_DT, parameters, cv=10, refit=True,scoring='accuracy')\n",
    "    test_DT_grid.fit(X, y)\n",
    "    for key, val in test_DT_grid.best_params_.items():\n",
    "        print(f\"{key}: {val}\")"
   ]
  },
  {
   "cell_type": "code",
   "execution_count": 45,
   "metadata": {},
   "outputs": [
    {
     "name": "stdout",
     "output_type": "stream",
     "text": [
      "ccp_alpha: 0.04\n",
      "criterion: entropy\n",
      "max_depth: 9\n"
     ]
    }
   ],
   "source": [
    "optimize_dt(X_train_all,y_train_all)"
   ]
  },
  {
   "cell_type": "code",
   "execution_count": 52,
   "metadata": {},
   "outputs": [],
   "source": [
    "model_DT_full = DecisionTreeClassifier(random_state=42,ccp_alpha=0.04,criterion=\"entropy\",max_depth=9)"
   ]
  },
  {
   "cell_type": "markdown",
   "metadata": {},
   "source": [
    "### RF"
   ]
  },
  {
   "cell_type": "code",
   "execution_count": 50,
   "metadata": {},
   "outputs": [],
   "source": [
    "def optimize_rf(X,y):\n",
    "    \"\"\"\n",
    "    optimizes parameters for RF model\n",
    "    \"\"\"\n",
    "    test_RF = RandomForestClassifier(random_state=0)\n",
    "    parameters = {'ccp_alpha':np.arange(0,0.05,0.005),'criterion':['entropy','gini'],'max_depth':np.arange(3,9,1),'n_estimators':[10,20,50,100]}\n",
    "    test_RF_grid = GridSearchCV(test_RF, parameters, cv=10, refit=True,scoring='accuracy')\n",
    "    test_RF_grid.fit(X, y)\n",
    "    for key, val in test_RF_grid.best_params_.items():\n",
    "        print(f\"{key}: {val}\")"
   ]
  },
  {
   "cell_type": "code",
   "execution_count": 51,
   "metadata": {},
   "outputs": [
    {
     "name": "stdout",
     "output_type": "stream",
     "text": [
      "ccp_alpha: 0.0\n",
      "criterion: gini\n",
      "max_depth: 6\n",
      "n_estimators: 50\n"
     ]
    }
   ],
   "source": [
    "optimize_rf(X_train_all,y_train_all)"
   ]
  },
  {
   "cell_type": "code",
   "execution_count": 53,
   "metadata": {},
   "outputs": [],
   "source": [
    "model_RF_full = RandomForestClassifier(random_state=42,ccp_alpha=0.0,criterion=\"gini\",max_depth=6,n_estimators=50)"
   ]
  },
  {
   "cell_type": "markdown",
   "metadata": {},
   "source": [
    "## Defining"
   ]
  },
  {
   "cell_type": "code",
   "execution_count": 54,
   "metadata": {},
   "outputs": [],
   "source": [
    "models_full = {\"LR\":model_LR_full,\"DT\":model_DT_full,\"NB\":GaussianNB(),\"RF\":model_RF_full}"
   ]
  },
  {
   "cell_type": "markdown",
   "metadata": {},
   "source": [
    "---"
   ]
  },
  {
   "cell_type": "markdown",
   "metadata": {
    "id": "y6ILWOuUtI0b"
   },
   "source": [
    "# Defining Lite Model\n",
    "Now that we have the important features, we need to tune the models"
   ]
  },
  {
   "cell_type": "markdown",
   "metadata": {},
   "source": [
    "## Tuning Hyperparameters"
   ]
  },
  {
   "cell_type": "markdown",
   "metadata": {},
   "source": [
    "### Logistic Regression"
   ]
  },
  {
   "cell_type": "code",
   "execution_count": 55,
   "metadata": {},
   "outputs": [
    {
     "name": "stdout",
     "output_type": "stream",
     "text": [
      "fit_intercept: False\n",
      "solver: lbfgs\n"
     ]
    }
   ],
   "source": [
    "optimize_lr(X_train,y_train)"
   ]
  },
  {
   "cell_type": "code",
   "execution_count": 56,
   "metadata": {},
   "outputs": [],
   "source": [
    "model_LR_lite = LogisticRegression(random_state=42,fit_intercept=False,solver=\"lbfgs\")"
   ]
  },
  {
   "cell_type": "markdown",
   "metadata": {},
   "source": [
    "### Decision Tree"
   ]
  },
  {
   "cell_type": "code",
   "execution_count": 57,
   "metadata": {},
   "outputs": [
    {
     "name": "stdout",
     "output_type": "stream",
     "text": [
      "ccp_alpha: 0.0\n",
      "criterion: entropy\n",
      "max_depth: 8\n"
     ]
    }
   ],
   "source": [
    "optimize_dt(X_train,y_train)"
   ]
  },
  {
   "cell_type": "code",
   "execution_count": 58,
   "metadata": {},
   "outputs": [],
   "source": [
    "model_DT_lite = DecisionTreeClassifier(random_state=42,ccp_alpha=0.0,criterion=\"entropy\",max_depth=8)"
   ]
  },
  {
   "cell_type": "markdown",
   "metadata": {},
   "source": [
    "### Random Forest"
   ]
  },
  {
   "cell_type": "code",
   "execution_count": 59,
   "metadata": {},
   "outputs": [
    {
     "name": "stdout",
     "output_type": "stream",
     "text": [
      "ccp_alpha: 0.0\n",
      "criterion: entropy\n",
      "max_depth: 8\n",
      "n_estimators: 20\n"
     ]
    }
   ],
   "source": [
    "optimize_rf(X_train,y_train)"
   ]
  },
  {
   "cell_type": "code",
   "execution_count": 60,
   "metadata": {},
   "outputs": [],
   "source": [
    "model_RF_lite = RandomForestClassifier(random_state=42,ccp_alpha=0.0,criterion=\"entropy\",max_depth=8,n_estimators=20)"
   ]
  },
  {
   "cell_type": "markdown",
   "metadata": {},
   "source": [
    "## Defining"
   ]
  },
  {
   "cell_type": "code",
   "execution_count": 61,
   "metadata": {},
   "outputs": [],
   "source": [
    "models_lite = {\"LR\":model_LR_lite,\"DT\":model_DT_lite,\"NB\":GaussianNB(),\"RF\":model_RF_lite}"
   ]
  },
  {
   "cell_type": "markdown",
   "metadata": {},
   "source": [
    "---"
   ]
  },
  {
   "cell_type": "markdown",
   "metadata": {},
   "source": [
    "# Comparing Lite and Full Models\n",
    "Following Mengjia's analysis, we compare the accuracy and CV from the lite and full models."
   ]
  },
  {
   "cell_type": "markdown",
   "metadata": {},
   "source": [
    "## Lite"
   ]
  },
  {
   "cell_type": "code",
   "execution_count": 69,
   "metadata": {},
   "outputs": [
    {
     "name": "stdout",
     "output_type": "stream",
     "text": [
      "LR LogisticRegression(fit_intercept=False, random_state=42)\n",
      "DT DecisionTreeClassifier(criterion='entropy', max_depth=8, random_state=42)\n",
      "NB GaussianNB()\n",
      "RF RandomForestClassifier(criterion='entropy', max_depth=8, n_estimators=20,\n",
      "                       random_state=42)\n"
     ]
    }
   ],
   "source": [
    "for label, model in models_lite.items(): \n",
    "    print(label,model)"
   ]
  },
  {
   "cell_type": "code",
   "execution_count": 81,
   "metadata": {},
   "outputs": [],
   "source": [
    "res_lite = {\"model\":[],\"cv_mean\":[],\"cv_std\":[],\"accuracy\":[]}\n",
    "preds_lite = {\"model\":[],\"predictions\":[]}\n",
    "for label, model in models_lite.items():\n",
    "    # CV score\n",
    "    cv_score = cross_val_score(model, X_train, y_train, cv=10, scoring='accuracy')\n",
    "    \n",
    "    # Prediction accuracy\n",
    "    model.fit(X_train, y_train)\n",
    "    pred_lite = model.predict(X_test)\n",
    "    ## saving to dict\n",
    "    preds_lite[\"model\"].append(label)\n",
    "    preds_lite[\"predictions\"].append(pred_lite)\n",
    "    \n",
    "    # Updating comparison dict\n",
    "    for key, val in zip(res_lite.keys(),[label,cv_score.mean(),cv_score.std(),accuracy_score(pred_lite,y_test)]):\n",
    "        res_lite[key].append(val)\n",
    "        \n",
    "res_lite_df = pd.DataFrame(res_lite)"
   ]
  },
  {
   "cell_type": "markdown",
   "metadata": {},
   "source": [
    "## Full"
   ]
  },
  {
   "cell_type": "code",
   "execution_count": 78,
   "metadata": {},
   "outputs": [],
   "source": [
    "res_full = {\"model\":[],\"cv_mean\":[],\"cv_std\":[],\"accuracy\":[]}\n",
    "for label, model in models_full.items():\n",
    "    # CV score\n",
    "    cv_score = cross_val_score(model, X_train_all, y_train_all, cv=10, scoring='accuracy')\n",
    "    \n",
    "    # Prediction accuracy\n",
    "    model.fit(X_train_all, y_train_all)\n",
    "    pred_full = model.predict(X_test_all)\n",
    "    \n",
    "    # Updating comparison dict\n",
    "    for key, val in zip(res_lite.keys(),[label,cv_score.mean(),cv_score.std(),accuracy_score(pred_full,y_test)]):\n",
    "        res_full[key].append(val)\n",
    "        \n",
    "res_full_df = pd.DataFrame(res_full)"
   ]
  },
  {
   "cell_type": "markdown",
   "metadata": {},
   "source": [
    "## Comparison"
   ]
  },
  {
   "cell_type": "code",
   "execution_count": 79,
   "metadata": {},
   "outputs": [
    {
     "data": {
      "text/html": [
       "<div>\n",
       "<style scoped>\n",
       "    .dataframe tbody tr th:only-of-type {\n",
       "        vertical-align: middle;\n",
       "    }\n",
       "\n",
       "    .dataframe tbody tr th {\n",
       "        vertical-align: top;\n",
       "    }\n",
       "\n",
       "    .dataframe thead th {\n",
       "        text-align: right;\n",
       "    }\n",
       "</style>\n",
       "<table border=\"1\" class=\"dataframe\">\n",
       "  <thead>\n",
       "    <tr style=\"text-align: right;\">\n",
       "      <th></th>\n",
       "      <th>model</th>\n",
       "      <th>cv_mean</th>\n",
       "      <th>cv_std</th>\n",
       "      <th>accuracy</th>\n",
       "    </tr>\n",
       "  </thead>\n",
       "  <tbody>\n",
       "    <tr>\n",
       "      <th>0</th>\n",
       "      <td>LR</td>\n",
       "      <td>0.5750</td>\n",
       "      <td>0.150000</td>\n",
       "      <td>0.555556</td>\n",
       "    </tr>\n",
       "    <tr>\n",
       "      <th>1</th>\n",
       "      <td>DT</td>\n",
       "      <td>0.7125</td>\n",
       "      <td>0.194052</td>\n",
       "      <td>0.666667</td>\n",
       "    </tr>\n",
       "    <tr>\n",
       "      <th>2</th>\n",
       "      <td>NB</td>\n",
       "      <td>0.5750</td>\n",
       "      <td>0.217945</td>\n",
       "      <td>0.777778</td>\n",
       "    </tr>\n",
       "    <tr>\n",
       "      <th>3</th>\n",
       "      <td>RF</td>\n",
       "      <td>0.5875</td>\n",
       "      <td>0.216867</td>\n",
       "      <td>0.888889</td>\n",
       "    </tr>\n",
       "  </tbody>\n",
       "</table>\n",
       "</div>"
      ],
      "text/plain": [
       "  model  cv_mean    cv_std  accuracy\n",
       "0    LR   0.5750  0.150000  0.555556\n",
       "1    DT   0.7125  0.194052  0.666667\n",
       "2    NB   0.5750  0.217945  0.777778\n",
       "3    RF   0.5875  0.216867  0.888889"
      ]
     },
     "execution_count": 79,
     "metadata": {},
     "output_type": "execute_result"
    }
   ],
   "source": [
    "res_lite_df"
   ]
  },
  {
   "cell_type": "code",
   "execution_count": 80,
   "metadata": {},
   "outputs": [
    {
     "data": {
      "text/html": [
       "<div>\n",
       "<style scoped>\n",
       "    .dataframe tbody tr th:only-of-type {\n",
       "        vertical-align: middle;\n",
       "    }\n",
       "\n",
       "    .dataframe tbody tr th {\n",
       "        vertical-align: top;\n",
       "    }\n",
       "\n",
       "    .dataframe thead th {\n",
       "        text-align: right;\n",
       "    }\n",
       "</style>\n",
       "<table border=\"1\" class=\"dataframe\">\n",
       "  <thead>\n",
       "    <tr style=\"text-align: right;\">\n",
       "      <th></th>\n",
       "      <th>model</th>\n",
       "      <th>cv_mean</th>\n",
       "      <th>cv_std</th>\n",
       "      <th>accuracy</th>\n",
       "    </tr>\n",
       "  </thead>\n",
       "  <tbody>\n",
       "    <tr>\n",
       "      <th>0</th>\n",
       "      <td>LR</td>\n",
       "      <td>0.5500</td>\n",
       "      <td>0.150000</td>\n",
       "      <td>0.555556</td>\n",
       "    </tr>\n",
       "    <tr>\n",
       "      <th>1</th>\n",
       "      <td>DT</td>\n",
       "      <td>0.6625</td>\n",
       "      <td>0.185826</td>\n",
       "      <td>0.777778</td>\n",
       "    </tr>\n",
       "    <tr>\n",
       "      <th>2</th>\n",
       "      <td>NB</td>\n",
       "      <td>0.6250</td>\n",
       "      <td>0.185405</td>\n",
       "      <td>0.666667</td>\n",
       "    </tr>\n",
       "    <tr>\n",
       "      <th>3</th>\n",
       "      <td>RF</td>\n",
       "      <td>0.5750</td>\n",
       "      <td>0.139194</td>\n",
       "      <td>0.777778</td>\n",
       "    </tr>\n",
       "  </tbody>\n",
       "</table>\n",
       "</div>"
      ],
      "text/plain": [
       "  model  cv_mean    cv_std  accuracy\n",
       "0    LR   0.5500  0.150000  0.555556\n",
       "1    DT   0.6625  0.185826  0.777778\n",
       "2    NB   0.6250  0.185405  0.666667\n",
       "3    RF   0.5750  0.139194  0.777778"
      ]
     },
     "execution_count": 80,
     "metadata": {},
     "output_type": "execute_result"
    }
   ],
   "source": [
    "res_full_df"
   ]
  },
  {
   "cell_type": "markdown",
   "metadata": {},
   "source": [
    "## Check with Random Targets"
   ]
  },
  {
   "cell_type": "code",
   "execution_count": 85,
   "metadata": {},
   "outputs": [],
   "source": [
    "res_random_full = {\"model\":[],\"cv_mean\":[],\"accuracy\":[]}\n",
    "\n",
    "for i in range(10):\n",
    "    Y_random = np.array(random.sample(list(Y1), len(Y1)))\n",
    "    X_train_rand, X_test_rand, y_train_rand, y_test_rand = train_test_split(X_scaled_all, Y_random, test_size=0.1)\n",
    "    for label, model in models_full.items():\n",
    "\n",
    "        # train model\n",
    "        model.fit(X_train_rand,y_train_rand)\n",
    "\n",
    "        # cross validate model with 10-fold cv\n",
    "        cv_mean = cross_val_score(model, X_train_rand, y_train_rand, cv=10).mean()\n",
    "\n",
    "        # accuracy\n",
    "        acc = model.score(X_test_rand,y_test_rand)\n",
    "        \n",
    "        # update dict\n",
    "        for key, val in zip(res_random_full.keys(),[label,cv_mean,acc]):\n",
    "            res_random_full[key].append(val)"
   ]
  },
  {
   "cell_type": "code",
   "execution_count": 94,
   "metadata": {},
   "outputs": [
    {
     "data": {
      "text/html": [
       "<div>\n",
       "<style scoped>\n",
       "    .dataframe tbody tr th:only-of-type {\n",
       "        vertical-align: middle;\n",
       "    }\n",
       "\n",
       "    .dataframe tbody tr th {\n",
       "        vertical-align: top;\n",
       "    }\n",
       "\n",
       "    .dataframe thead th {\n",
       "        text-align: right;\n",
       "    }\n",
       "</style>\n",
       "<table border=\"1\" class=\"dataframe\">\n",
       "  <thead>\n",
       "    <tr style=\"text-align: right;\">\n",
       "      <th></th>\n",
       "      <th>cv_mean</th>\n",
       "      <th>accuracy</th>\n",
       "    </tr>\n",
       "    <tr>\n",
       "      <th>model</th>\n",
       "      <th></th>\n",
       "      <th></th>\n",
       "    </tr>\n",
       "  </thead>\n",
       "  <tbody>\n",
       "    <tr>\n",
       "      <th>DT</th>\n",
       "      <td>0.47250</td>\n",
       "      <td>0.422222</td>\n",
       "    </tr>\n",
       "    <tr>\n",
       "      <th>LR</th>\n",
       "      <td>0.48250</td>\n",
       "      <td>0.511111</td>\n",
       "    </tr>\n",
       "    <tr>\n",
       "      <th>NB</th>\n",
       "      <td>0.47625</td>\n",
       "      <td>0.533333</td>\n",
       "    </tr>\n",
       "    <tr>\n",
       "      <th>RF</th>\n",
       "      <td>0.49875</td>\n",
       "      <td>0.455556</td>\n",
       "    </tr>\n",
       "  </tbody>\n",
       "</table>\n",
       "</div>"
      ],
      "text/plain": [
       "       cv_mean  accuracy\n",
       "model                   \n",
       "DT     0.47250  0.422222\n",
       "LR     0.48250  0.511111\n",
       "NB     0.47625  0.533333\n",
       "RF     0.49875  0.455556"
      ]
     },
     "execution_count": 94,
     "metadata": {},
     "output_type": "execute_result"
    }
   ],
   "source": [
    "res_random_full_avg = pd.DataFrame(res_random_full).groupby(\"model\").mean()\n",
    "res_random_full_avg"
   ]
  },
  {
   "cell_type": "markdown",
   "metadata": {},
   "source": [
    "---"
   ]
  },
  {
   "cell_type": "markdown",
   "metadata": {},
   "source": [
    "# Evaluation"
   ]
  },
  {
   "cell_type": "markdown",
   "metadata": {},
   "source": [
    "## Metrics"
   ]
  },
  {
   "cell_type": "code",
   "execution_count": 185,
   "metadata": {},
   "outputs": [
    {
     "name": "stdout",
     "output_type": "stream",
     "text": [
      "LR 0.6666666666666666\n",
      "DT 0.7777777777777778\n",
      "NB 0.4444444444444444\n",
      "RF 0.7777777777777778\n"
     ]
    }
   ],
   "source": [
    "for label, predictions in res.items():\n",
    "    print(label,accuracy_score(predictions,y_test))"
   ]
  },
  {
   "cell_type": "markdown",
   "metadata": {},
   "source": [
    "---"
   ]
  },
  {
   "cell_type": "markdown",
   "metadata": {},
   "source": [
    "# Figures"
   ]
  },
  {
   "cell_type": "code",
   "execution_count": 95,
   "metadata": {},
   "outputs": [],
   "source": [
    "# plot\n",
    "archive = True\n",
    "if not archive:\n",
    "    x = df.iloc[:,14] #Depression\n",
    "    y = df.iloc[:,11] #RHD_Low\n",
    "    z = df.iloc[:,23] #RH\n",
    "    target = df.iloc[:,28]\n",
    "    fig, ax = plt.subplots(frameon=False)\n",
    "    fig.set_size_inches(8,6)\n",
    "    mi = np.min(z)\n",
    "    ma = np.max(z)\n",
    "    norm = matplotlib.colors.Normalize(vmin=mi,vmax=ma)\n",
    "    ax.scatter(x[target==0], y[target==0], alpha=0.6, c=z[target==0], cmap='jet',marker='o',s=100,norm=norm, label = 'Class 0')\n",
    "    im=ax.scatter(x[target==1], y[target==1], alpha=0.6, c=z[target==1], cmap='jet',marker='^',s=100,norm=norm, label = 'Class 1')\n",
    "    cbar = fig.colorbar(im, ax=ax)\n",
    "    cbar.solids.set(alpha=0.6)\n",
    "    cbar.ax.set_ylabel('RH (%)',fontsize=18)\n",
    "    cbar.ax.tick_params(labelsize=14)\n",
    "    plt.xlabel('Q50 (cfm)',fontsize=18)\n",
    "    plt.ylabel('RHD_Low (cfm)',fontsize=18)\n",
    "    ax.legend(fontsize=18,loc='upper left')\n",
    "    ax.tick_params(axis='both', which='major', labelsize=14)\n",
    "    plt.xlim(0,  3500)\n",
    "    plt.ylim(-5,  350)\n",
    "    #plt.savefig('pic2.png', dpi=150)"
   ]
  },
  {
   "cell_type": "markdown",
   "metadata": {},
   "source": [
    "## Feature Correlation"
   ]
  },
  {
   "cell_type": "code",
   "execution_count": 97,
   "metadata": {},
   "outputs": [
    {
     "data": {
      "text/html": [
       "<div>\n",
       "<style scoped>\n",
       "    .dataframe tbody tr th:only-of-type {\n",
       "        vertical-align: middle;\n",
       "    }\n",
       "\n",
       "    .dataframe tbody tr th {\n",
       "        vertical-align: top;\n",
       "    }\n",
       "\n",
       "    .dataframe thead th {\n",
       "        text-align: right;\n",
       "    }\n",
       "</style>\n",
       "<table border=\"1\" class=\"dataframe\">\n",
       "  <thead>\n",
       "    <tr style=\"text-align: right;\">\n",
       "      <th></th>\n",
       "      <th>CO2_ETC_BR1</th>\n",
       "      <th>RH_ETC_IN1</th>\n",
       "      <th>PM_MET_IN1</th>\n",
       "      <th>NO2_IAQm_ppb</th>\n",
       "      <th>FRM_IN_ppb</th>\n",
       "      <th>T_ETC_IN1</th>\n",
       "      <th>RHD_Fan_Airflow_Adjusted_Low_cfm</th>\n",
       "      <th>Depressurization_Q50_cfm</th>\n",
       "      <th>EXF_BA1_Measured_cfm</th>\n",
       "    </tr>\n",
       "  </thead>\n",
       "  <tbody>\n",
       "    <tr>\n",
       "      <th>0</th>\n",
       "      <td>727.076213</td>\n",
       "      <td>39.705435</td>\n",
       "      <td>2.011464</td>\n",
       "      <td>4.874853</td>\n",
       "      <td>14.252478</td>\n",
       "      <td>23.269313</td>\n",
       "      <td>88.505747</td>\n",
       "      <td>1006.0</td>\n",
       "      <td>91.0</td>\n",
       "    </tr>\n",
       "    <tr>\n",
       "      <th>1</th>\n",
       "      <td>846.815114</td>\n",
       "      <td>45.021151</td>\n",
       "      <td>5.959333</td>\n",
       "      <td>5.502727</td>\n",
       "      <td>18.010887</td>\n",
       "      <td>24.420784</td>\n",
       "      <td>107.000000</td>\n",
       "      <td>1548.5</td>\n",
       "      <td>49.0</td>\n",
       "    </tr>\n",
       "    <tr>\n",
       "      <th>2</th>\n",
       "      <td>605.783042</td>\n",
       "      <td>45.067446</td>\n",
       "      <td>11.291269</td>\n",
       "      <td>1.708403</td>\n",
       "      <td>20.250339</td>\n",
       "      <td>20.264354</td>\n",
       "      <td>310.000000</td>\n",
       "      <td>2224.0</td>\n",
       "      <td>101.0</td>\n",
       "    </tr>\n",
       "    <tr>\n",
       "      <th>3</th>\n",
       "      <td>734.965862</td>\n",
       "      <td>37.459627</td>\n",
       "      <td>1.074514</td>\n",
       "      <td>2.776921</td>\n",
       "      <td>18.010887</td>\n",
       "      <td>25.372127</td>\n",
       "      <td>81.609195</td>\n",
       "      <td>1548.5</td>\n",
       "      <td>81.5</td>\n",
       "    </tr>\n",
       "    <tr>\n",
       "      <th>4</th>\n",
       "      <td>684.653495</td>\n",
       "      <td>38.000461</td>\n",
       "      <td>3.883027</td>\n",
       "      <td>5.076926</td>\n",
       "      <td>44.742541</td>\n",
       "      <td>25.585127</td>\n",
       "      <td>360.000000</td>\n",
       "      <td>1548.5</td>\n",
       "      <td>81.0</td>\n",
       "    </tr>\n",
       "  </tbody>\n",
       "</table>\n",
       "</div>"
      ],
      "text/plain": [
       "   CO2_ETC_BR1  RH_ETC_IN1  PM_MET_IN1  NO2_IAQm_ppb  FRM_IN_ppb  T_ETC_IN1  \\\n",
       "0   727.076213   39.705435    2.011464      4.874853   14.252478  23.269313   \n",
       "1   846.815114   45.021151    5.959333      5.502727   18.010887  24.420784   \n",
       "2   605.783042   45.067446   11.291269      1.708403   20.250339  20.264354   \n",
       "3   734.965862   37.459627    1.074514      2.776921   18.010887  25.372127   \n",
       "4   684.653495   38.000461    3.883027      5.076926   44.742541  25.585127   \n",
       "\n",
       "   RHD_Fan_Airflow_Adjusted_Low_cfm  Depressurization_Q50_cfm  \\\n",
       "0                         88.505747                    1006.0   \n",
       "1                        107.000000                    1548.5   \n",
       "2                        310.000000                    2224.0   \n",
       "3                         81.609195                    1548.5   \n",
       "4                        360.000000                    1548.5   \n",
       "\n",
       "   EXF_BA1_Measured_cfm  \n",
       "0                  91.0  \n",
       "1                  49.0  \n",
       "2                 101.0  \n",
       "3                  81.5  \n",
       "4                  81.0  "
      ]
     },
     "execution_count": 97,
     "metadata": {},
     "output_type": "execute_result"
    }
   ],
   "source": [
    "X.head()"
   ]
  },
  {
   "cell_type": "code",
   "execution_count": 101,
   "metadata": {},
   "outputs": [
    {
     "data": {
      "text/html": [
       "<div>\n",
       "<style scoped>\n",
       "    .dataframe tbody tr th:only-of-type {\n",
       "        vertical-align: middle;\n",
       "    }\n",
       "\n",
       "    .dataframe tbody tr th {\n",
       "        vertical-align: top;\n",
       "    }\n",
       "\n",
       "    .dataframe thead th {\n",
       "        text-align: right;\n",
       "    }\n",
       "</style>\n",
       "<table border=\"1\" class=\"dataframe\">\n",
       "  <thead>\n",
       "    <tr style=\"text-align: right;\">\n",
       "      <th></th>\n",
       "      <th>CO$_2$ (BR)</th>\n",
       "      <th>RH</th>\n",
       "      <th>PM</th>\n",
       "      <th>NO$_2$</th>\n",
       "      <th>FRM</th>\n",
       "      <th>T</th>\n",
       "      <th>Fan Airflow</th>\n",
       "      <th>Q50</th>\n",
       "      <th>Exfiltration (BA)</th>\n",
       "    </tr>\n",
       "  </thead>\n",
       "  <tbody>\n",
       "    <tr>\n",
       "      <th>0</th>\n",
       "      <td>NaN</td>\n",
       "      <td>NaN</td>\n",
       "      <td>NaN</td>\n",
       "      <td>NaN</td>\n",
       "      <td>NaN</td>\n",
       "      <td>NaN</td>\n",
       "      <td>NaN</td>\n",
       "      <td>NaN</td>\n",
       "      <td>NaN</td>\n",
       "    </tr>\n",
       "    <tr>\n",
       "      <th>1</th>\n",
       "      <td>NaN</td>\n",
       "      <td>NaN</td>\n",
       "      <td>NaN</td>\n",
       "      <td>NaN</td>\n",
       "      <td>NaN</td>\n",
       "      <td>NaN</td>\n",
       "      <td>NaN</td>\n",
       "      <td>NaN</td>\n",
       "      <td>NaN</td>\n",
       "    </tr>\n",
       "    <tr>\n",
       "      <th>2</th>\n",
       "      <td>NaN</td>\n",
       "      <td>NaN</td>\n",
       "      <td>NaN</td>\n",
       "      <td>NaN</td>\n",
       "      <td>NaN</td>\n",
       "      <td>NaN</td>\n",
       "      <td>NaN</td>\n",
       "      <td>NaN</td>\n",
       "      <td>NaN</td>\n",
       "    </tr>\n",
       "    <tr>\n",
       "      <th>3</th>\n",
       "      <td>NaN</td>\n",
       "      <td>NaN</td>\n",
       "      <td>NaN</td>\n",
       "      <td>NaN</td>\n",
       "      <td>NaN</td>\n",
       "      <td>NaN</td>\n",
       "      <td>NaN</td>\n",
       "      <td>NaN</td>\n",
       "      <td>NaN</td>\n",
       "    </tr>\n",
       "    <tr>\n",
       "      <th>4</th>\n",
       "      <td>NaN</td>\n",
       "      <td>NaN</td>\n",
       "      <td>NaN</td>\n",
       "      <td>NaN</td>\n",
       "      <td>NaN</td>\n",
       "      <td>NaN</td>\n",
       "      <td>NaN</td>\n",
       "      <td>NaN</td>\n",
       "      <td>NaN</td>\n",
       "    </tr>\n",
       "    <tr>\n",
       "      <th>...</th>\n",
       "      <td>...</td>\n",
       "      <td>...</td>\n",
       "      <td>...</td>\n",
       "      <td>...</td>\n",
       "      <td>...</td>\n",
       "      <td>...</td>\n",
       "      <td>...</td>\n",
       "      <td>...</td>\n",
       "      <td>...</td>\n",
       "    </tr>\n",
       "    <tr>\n",
       "      <th>84</th>\n",
       "      <td>NaN</td>\n",
       "      <td>NaN</td>\n",
       "      <td>NaN</td>\n",
       "      <td>NaN</td>\n",
       "      <td>NaN</td>\n",
       "      <td>NaN</td>\n",
       "      <td>NaN</td>\n",
       "      <td>NaN</td>\n",
       "      <td>NaN</td>\n",
       "    </tr>\n",
       "    <tr>\n",
       "      <th>85</th>\n",
       "      <td>NaN</td>\n",
       "      <td>NaN</td>\n",
       "      <td>NaN</td>\n",
       "      <td>NaN</td>\n",
       "      <td>NaN</td>\n",
       "      <td>NaN</td>\n",
       "      <td>NaN</td>\n",
       "      <td>NaN</td>\n",
       "      <td>NaN</td>\n",
       "    </tr>\n",
       "    <tr>\n",
       "      <th>86</th>\n",
       "      <td>NaN</td>\n",
       "      <td>NaN</td>\n",
       "      <td>NaN</td>\n",
       "      <td>NaN</td>\n",
       "      <td>NaN</td>\n",
       "      <td>NaN</td>\n",
       "      <td>NaN</td>\n",
       "      <td>NaN</td>\n",
       "      <td>NaN</td>\n",
       "    </tr>\n",
       "    <tr>\n",
       "      <th>87</th>\n",
       "      <td>NaN</td>\n",
       "      <td>NaN</td>\n",
       "      <td>NaN</td>\n",
       "      <td>NaN</td>\n",
       "      <td>NaN</td>\n",
       "      <td>NaN</td>\n",
       "      <td>NaN</td>\n",
       "      <td>NaN</td>\n",
       "      <td>NaN</td>\n",
       "    </tr>\n",
       "    <tr>\n",
       "      <th>88</th>\n",
       "      <td>NaN</td>\n",
       "      <td>NaN</td>\n",
       "      <td>NaN</td>\n",
       "      <td>NaN</td>\n",
       "      <td>NaN</td>\n",
       "      <td>NaN</td>\n",
       "      <td>NaN</td>\n",
       "      <td>NaN</td>\n",
       "      <td>NaN</td>\n",
       "    </tr>\n",
       "  </tbody>\n",
       "</table>\n",
       "<p>89 rows × 9 columns</p>\n",
       "</div>"
      ],
      "text/plain": [
       "    CO$_2$ (BR)  RH  PM  NO$_2$  FRM   T  Fan Airflow  Q50  Exfiltration (BA)\n",
       "0           NaN NaN NaN     NaN  NaN NaN          NaN  NaN                NaN\n",
       "1           NaN NaN NaN     NaN  NaN NaN          NaN  NaN                NaN\n",
       "2           NaN NaN NaN     NaN  NaN NaN          NaN  NaN                NaN\n",
       "3           NaN NaN NaN     NaN  NaN NaN          NaN  NaN                NaN\n",
       "4           NaN NaN NaN     NaN  NaN NaN          NaN  NaN                NaN\n",
       "..          ...  ..  ..     ...  ...  ..          ...  ...                ...\n",
       "84          NaN NaN NaN     NaN  NaN NaN          NaN  NaN                NaN\n",
       "85          NaN NaN NaN     NaN  NaN NaN          NaN  NaN                NaN\n",
       "86          NaN NaN NaN     NaN  NaN NaN          NaN  NaN                NaN\n",
       "87          NaN NaN NaN     NaN  NaN NaN          NaN  NaN                NaN\n",
       "88          NaN NaN NaN     NaN  NaN NaN          NaN  NaN                NaN\n",
       "\n",
       "[89 rows x 9 columns]"
      ]
     },
     "execution_count": 101,
     "metadata": {},
     "output_type": "execute_result"
    }
   ],
   "source": [
    "X_df"
   ]
  },
  {
   "cell_type": "code",
   "execution_count": 158,
   "metadata": {},
   "outputs": [
    {
     "data": {
      "image/png": "[encoded data removed]",
      "text/plain": [
       "<Figure size 576x432 with 2 Axes>"
      ]
     },
     "metadata": {
      "needs_background": "light"
     },
     "output_type": "display_data"
    }
   ],
   "source": [
    "_, ax = plt.subplots(figsize=(8,6)) \n",
    "X_df = X.copy()\n",
    "X_df.columns = [\"CO$_2$ (BR)\", \"RH\", \"PM\", \"NO$_2$\", \"FRM\", \"T\", \"Fan Airflow\",\"Q50\", \"Exfiltration (BA)\"]\n",
    "corr = X_df.corr()\n",
    "# generating a mask for upper only\n",
    "mask = np.zeros_like(corr)\n",
    "mask[np.triu_indices_from(mask)] = True\n",
    "# plotting\n",
    "sns.heatmap(corr,vmin=-1,vmax=1,lw=2,mask=mask,square=True,\n",
    "            annot_kws={'size':12},fmt=\".2f\",annot=True,\n",
    "            cmap=\"coolwarm_r\",cbar_kws={\"ticks\":np.arange(-1,1.5,0.5),\"pad\":-0.05},ax=ax)\n",
    "# formatting x\n",
    "ax.set_xticks(np.arange(0.5,len(X_df.columns)-1,1))\n",
    "ax.set_xticklabels(X_df.columns[:-1],rotation=-30,ha=\"left\",fontsize=14)\n",
    "# formatting y\n",
    "ax.set_yticks(np.arange(1.5,len(X_df.columns),1))\n",
    "ax.set_yticklabels(X_df.columns[1:],fontsize=14)\n",
    "# colorbar\n",
    "cbar = ax.collections[0].colorbar\n",
    "cbar.ax.tick_params(labelsize=12)\n",
    "cbar.outline.set_color('black')\n",
    "cbar.outline.set_linewidth(0.5)\n",
    "\n",
    "#plt.savefig('heatmap.png', dpi=150)\n",
    "plt.show()\n",
    "plt.close()"
   ]
  },
  {
   "cell_type": "code",
   "execution_count": null,
   "metadata": {},
   "outputs": [],
   "source": []
  }
 ],
 "metadata": {
  "anaconda-cloud": {},
  "colab": {
   "collapsed_sections": [],
   "name": "lastname_ExamPart2.ipynb",
   "provenance": []
  },
  "kernelspec": {
   "display_name": "Python 3",
   "language": "python",
   "name": "python3"
  },
  "language_info": {
   "codemirror_mode": {
    "name": "ipython",
    "version": 3
   },
   "file_extension": ".py",
   "mimetype": "text/x-python",
   "name": "python",
   "nbconvert_exporter": "python",
   "pygments_lexer": "ipython3",
   "version": "3.8.8"
  }
 },
 "nbformat": 4,
 "nbformat_minor": 2
}
