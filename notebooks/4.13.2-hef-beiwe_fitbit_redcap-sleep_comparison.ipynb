{
 "cells": [
  {
   "cell_type": "markdown",
   "metadata": {},
   "source": [
    "# Beiwe, Fitbit, and REDCap\n",
    "Analysis across all three modalities"
   ]
  },
  {
   "cell_type": "code",
   "execution_count": 3,
   "metadata": {},
   "outputs": [
    {
     "name": "stdout",
     "output_type": "stream",
     "text": [
      "The autoreload extension is already loaded. To reload it, use:\n",
      "  %reload_ext autoreload\n"
     ]
    }
   ],
   "source": [
    "import warnings\n",
    "warnings.filterwarnings('ignore')\n",
    "\n",
    "%load_ext autoreload\n",
    "%autoreload 2"
   ]
  },
  {
   "cell_type": "markdown",
   "metadata": {},
   "source": [
    "# Sleep Comparison\n",
    "All three of these modalities provide a measurement of the Total Sleep Time (TST) for our participants:\n",
    "* Beiwe: Question on the morning EMA\n",
    "* Fitbit: Derived from sleep stage measurements\n",
    "* REDCap: As part of the CRISIS surveys\n",
    "\n",
    "There are obvious trends in TST from the CRISIS surveys at the three distinct time points so we can see if these trends hold when observing the other modalities. "
   ]
  },
  {
   "cell_type": "code",
   "execution_count": 2,
   "metadata": {},
   "outputs": [],
   "source": [
    "# general\n",
    "import os\n",
    "import sys\n",
    "sys.path.append('../')\n",
    "# user-defined functions\n",
    "from src.visualization import visualize\n",
    "# basic data science\n",
    "import pandas as pd\n",
    "pd.set_option('display.max_columns', 200)\n",
    "import numpy as np\n",
    "# timeseries\n",
    "from datetime import datetime, timedelta\n",
    "# plotting\n",
    "import matplotlib.pyplot as plt\n",
    "from matplotlib import cm\n",
    "from matplotlib.colors import ListedColormap, LinearSegmentedColormap\n",
    "import seaborn as sns\n",
    "import matplotlib.dates as mdates"
   ]
  },
  {
   "cell_type": "markdown",
   "metadata": {},
   "source": [
    "# Data Import"
   ]
  },
  {
   "cell_type": "markdown",
   "metadata": {},
   "source": [
    "## Beiwe"
   ]
  },
  {
   "cell_type": "code",
   "execution_count": 35,
   "metadata": {},
   "outputs": [
    {
     "data": {
      "text/html": [
       "<div>\n",
       "<style scoped>\n",
       "    .dataframe tbody tr th:only-of-type {\n",
       "        vertical-align: middle;\n",
       "    }\n",
       "\n",
       "    .dataframe tbody tr th {\n",
       "        vertical-align: top;\n",
       "    }\n",
       "\n",
       "    .dataframe thead th {\n",
       "        text-align: right;\n",
       "    }\n",
       "</style>\n",
       "<table border=\"1\" class=\"dataframe\">\n",
       "  <thead>\n",
       "    <tr style=\"text-align: right;\">\n",
       "      <th></th>\n",
       "      <th>redcap</th>\n",
       "      <th>tst</th>\n",
       "      <th>date</th>\n",
       "    </tr>\n",
       "  </thead>\n",
       "  <tbody>\n",
       "    <tr>\n",
       "      <th>0</th>\n",
       "      <td>68</td>\n",
       "      <td>8.0</td>\n",
       "      <td>2020-05-13</td>\n",
       "    </tr>\n",
       "    <tr>\n",
       "      <th>1</th>\n",
       "      <td>28</td>\n",
       "      <td>2.0</td>\n",
       "      <td>2020-05-13</td>\n",
       "    </tr>\n",
       "    <tr>\n",
       "      <th>2</th>\n",
       "      <td>21</td>\n",
       "      <td>6.0</td>\n",
       "      <td>2020-05-13</td>\n",
       "    </tr>\n",
       "    <tr>\n",
       "      <th>3</th>\n",
       "      <td>29</td>\n",
       "      <td>5.3</td>\n",
       "      <td>2020-05-13</td>\n",
       "    </tr>\n",
       "    <tr>\n",
       "      <th>4</th>\n",
       "      <td>48</td>\n",
       "      <td>2.0</td>\n",
       "      <td>2020-05-13</td>\n",
       "    </tr>\n",
       "  </tbody>\n",
       "</table>\n",
       "</div>"
      ],
      "text/plain": [
       "   redcap  tst        date\n",
       "0      68  8.0  2020-05-13\n",
       "1      28  2.0  2020-05-13\n",
       "2      21  6.0  2020-05-13\n",
       "3      29  5.3  2020-05-13\n",
       "4      48  2.0  2020-05-13"
      ]
     },
     "execution_count": 35,
     "metadata": {},
     "output_type": "execute_result"
    }
   ],
   "source": [
    "bw = pd.read_csv(\"../data/processed/beiwe-morning_ema-ux_s20.csv\",parse_dates=[\"timestamp\"],infer_datetime_format=True)\n",
    "bw = bw[[\"timestamp\",\"redcap\",\"tst\"]]\n",
    "bw[\"date\"] = bw[\"timestamp\"].dt.date\n",
    "bw.drop(\"timestamp\",axis=\"columns\",inplace=True)\n",
    "bw.head()"
   ]
  },
  {
   "cell_type": "markdown",
   "metadata": {},
   "source": [
    "## Fitbit"
   ]
  },
  {
   "cell_type": "code",
   "execution_count": 36,
   "metadata": {
    "scrolled": true
   },
   "outputs": [
    {
     "data": {
      "text/html": [
       "<div>\n",
       "<style scoped>\n",
       "    .dataframe tbody tr th:only-of-type {\n",
       "        vertical-align: middle;\n",
       "    }\n",
       "\n",
       "    .dataframe tbody tr th {\n",
       "        vertical-align: top;\n",
       "    }\n",
       "\n",
       "    .dataframe thead th {\n",
       "        text-align: right;\n",
       "    }\n",
       "</style>\n",
       "<table border=\"1\" class=\"dataframe\">\n",
       "  <thead>\n",
       "    <tr style=\"text-align: right;\">\n",
       "      <th></th>\n",
       "      <th>tst_fb</th>\n",
       "      <th>redcap</th>\n",
       "      <th>end_date</th>\n",
       "    </tr>\n",
       "  </thead>\n",
       "  <tbody>\n",
       "    <tr>\n",
       "      <th>0</th>\n",
       "      <td>6.316667</td>\n",
       "      <td>NaN</td>\n",
       "      <td>2020-05-14</td>\n",
       "    </tr>\n",
       "    <tr>\n",
       "      <th>1</th>\n",
       "      <td>6.533333</td>\n",
       "      <td>NaN</td>\n",
       "      <td>2020-05-15</td>\n",
       "    </tr>\n",
       "    <tr>\n",
       "      <th>2</th>\n",
       "      <td>4.783333</td>\n",
       "      <td>NaN</td>\n",
       "      <td>2020-05-16</td>\n",
       "    </tr>\n",
       "    <tr>\n",
       "      <th>3</th>\n",
       "      <td>6.716667</td>\n",
       "      <td>NaN</td>\n",
       "      <td>2020-05-17</td>\n",
       "    </tr>\n",
       "    <tr>\n",
       "      <th>4</th>\n",
       "      <td>5.850000</td>\n",
       "      <td>NaN</td>\n",
       "      <td>2020-05-18</td>\n",
       "    </tr>\n",
       "  </tbody>\n",
       "</table>\n",
       "</div>"
      ],
      "text/plain": [
       "     tst_fb  redcap   end_date\n",
       "0  6.316667     NaN 2020-05-14\n",
       "1  6.533333     NaN 2020-05-15\n",
       "2  4.783333     NaN 2020-05-16\n",
       "3  6.716667     NaN 2020-05-17\n",
       "4  5.850000     NaN 2020-05-18"
      ]
     },
     "execution_count": 36,
     "metadata": {},
     "output_type": "execute_result"
    }
   ],
   "source": [
    "fb = pd.read_csv(\"../data/processed/fitbit-sleep_summary-ux_s20.csv\",parse_dates=[\"start_date\",\"end_date\",\"end_time\",\"start_time\"],infer_datetime_format=True)\n",
    "fb = fb[[\"tst_fb\",\"redcap\",\"end_date\"]]\n",
    "fb.head()"
   ]
  },
  {
   "cell_type": "markdown",
   "metadata": {},
   "source": [
    "## REDCap"
   ]
  },
  {
   "cell_type": "code",
   "execution_count": 64,
   "metadata": {},
   "outputs": [
    {
     "data": {
      "text/html": [
       "<div>\n",
       "<style scoped>\n",
       "    .dataframe tbody tr th:only-of-type {\n",
       "        vertical-align: middle;\n",
       "    }\n",
       "\n",
       "    .dataframe tbody tr th {\n",
       "        vertical-align: top;\n",
       "    }\n",
       "\n",
       "    .dataframe thead th {\n",
       "        text-align: right;\n",
       "    }\n",
       "</style>\n",
       "<table border=\"1\" class=\"dataframe\">\n",
       "  <thead>\n",
       "    <tr style=\"text-align: right;\">\n",
       "      <th></th>\n",
       "      <th>redcap</th>\n",
       "      <th>period</th>\n",
       "      <th>tst_rating</th>\n",
       "    </tr>\n",
       "  </thead>\n",
       "  <tbody>\n",
       "    <tr>\n",
       "      <th>0</th>\n",
       "      <td>1</td>\n",
       "      <td>pre</td>\n",
       "      <td>1.0</td>\n",
       "    </tr>\n",
       "    <tr>\n",
       "      <th>1</th>\n",
       "      <td>2</td>\n",
       "      <td>pre</td>\n",
       "      <td>1.0</td>\n",
       "    </tr>\n",
       "    <tr>\n",
       "      <th>2</th>\n",
       "      <td>4</td>\n",
       "      <td>pre</td>\n",
       "      <td>3.0</td>\n",
       "    </tr>\n",
       "    <tr>\n",
       "      <th>3</th>\n",
       "      <td>5</td>\n",
       "      <td>pre</td>\n",
       "      <td>2.0</td>\n",
       "    </tr>\n",
       "    <tr>\n",
       "      <th>4</th>\n",
       "      <td>6</td>\n",
       "      <td>pre</td>\n",
       "      <td>2.0</td>\n",
       "    </tr>\n",
       "  </tbody>\n",
       "</table>\n",
       "</div>"
      ],
      "text/plain": [
       "  redcap period  tst_rating\n",
       "0      1    pre         1.0\n",
       "1      2    pre         1.0\n",
       "2      4    pre         3.0\n",
       "3      5    pre         2.0\n",
       "4      6    pre         2.0"
      ]
     },
     "execution_count": 64,
     "metadata": {},
     "output_type": "execute_result"
    }
   ],
   "source": [
    "rc = pd.read_csv(\"../data/raw/utx000/surveys/CRISIS_all_raw.csv\",usecols=[0,1,2,42],names=[\"pre\",\"during\",\"followup\",\"redcap\"],skiprows=1)\n",
    "rc = rc.melt(id_vars=\"redcap\",value_vars=[\"pre\",\"during\",\"followup\"],var_name=\"period\",value_name=\"tst_rating\")\n",
    "rc.head()"
   ]
  },
  {
   "cell_type": "markdown",
   "metadata": {},
   "source": [
    "# Encoding\n",
    "The continuous measurements/reports from Fitbit/Beiwe need to be encoded to the same scale as the REDCap surveys.\n",
    "\n",
    "4: TST > 10 <br>\n",
    "3: 10 > TST > 8 <br>\n",
    "2: 8 > TST > 6 <br>\n",
    "1: TST < 6 <br>"
   ]
  },
  {
   "cell_type": "code",
   "execution_count": 20,
   "metadata": {},
   "outputs": [],
   "source": [
    "def encode_sleep(tst):\n",
    "    \"\"\"encodes tst as a value\"\"\"\n",
    "    if tst > 10:\n",
    "        return 4\n",
    "    elif tst > 8:\n",
    "        return 3\n",
    "    elif tst > 6:\n",
    "        return 2\n",
    "    else:\n",
    "        return 1"
   ]
  },
  {
   "cell_type": "code",
   "execution_count": 44,
   "metadata": {},
   "outputs": [],
   "source": [
    "bw[\"tst_rating\"] = bw.apply(lambda x: encode_sleep(x[\"tst\"]), axis=\"columns\")\n",
    "fb[\"tst_rating\"] = fb.apply(lambda x: encode_sleep(x[\"tst_fb\"]), axis=\"columns\")"
   ]
  },
  {
   "cell_type": "markdown",
   "metadata": {},
   "source": [
    "# CRISIS Survey Period\n",
    "Based on the timestamps from the surveys and Fitbit, we can determine which REDCap survey the reported/measured values correspond to."
   ]
  },
  {
   "cell_type": "code",
   "execution_count": 52,
   "metadata": {},
   "outputs": [],
   "source": [
    "def get_period(t):\n",
    "    \"\"\"gets the CRISIS period based on the given time t\"\"\"\n",
    "    if t > datetime(2020,3,1).date() and t < datetime(2020,3,15).date():\n",
    "        return \"pre\"\n",
    "    elif t > datetime(2020,5,5).date() and t < datetime(2020,5,19).date():\n",
    "        return \"during\"\n",
    "    elif t > datetime(2020,6,10).date() and t < datetime(2020,6,24).date():\n",
    "        return \"followup\"\n",
    "    else:\n",
    "        return np.nan"
   ]
  },
  {
   "cell_type": "code",
   "execution_count": 53,
   "metadata": {},
   "outputs": [],
   "source": [
    "bw[\"period\"] = bw.apply(lambda x: get_period(x[\"date\"]), axis=\"columns\")\n",
    "fb[\"period\"] = fb.apply(lambda x: get_period(x[\"end_date\"]), axis=\"columns\")"
   ]
  },
  {
   "cell_type": "markdown",
   "metadata": {},
   "source": [
    "# Aggregate\n",
    "We compare the aggregated TSTs."
   ]
  },
  {
   "cell_type": "code",
   "execution_count": 88,
   "metadata": {},
   "outputs": [
    {
     "data": {
      "image/png": "[encoded data removed]",
      "text/plain": [
       "<Figure size 864x288 with 3 Axes>"
      ]
     },
     "metadata": {
      "needs_background": "light"
     },
     "output_type": "display_data"
    }
   ],
   "source": [
    "fig, axes = plt.subplots(1,3,figsize=(12,4),sharey=True,gridspec_kw={\"wspace\":0.1})\n",
    "for df, ax in zip([bw,fb,rc],axes.flat):\n",
    "    sns.histplot(x=\"tst_rating\",hue=\"period\",multiple=\"dodge\",data=df,stat=\"probability\",bins=[1,2,3,4],ax=ax)\n",
    "    "
   ]
  },
  {
   "cell_type": "markdown",
   "metadata": {},
   "source": [
    "# Individual\n",
    "Now we look for and compare participants who reported answers for each of the three periods."
   ]
  },
  {
   "cell_type": "code",
   "execution_count": null,
   "metadata": {},
   "outputs": [],
   "source": []
  }
 ],
 "metadata": {
  "kernelspec": {
   "display_name": "Python 3",
   "language": "python",
   "name": "python3"
  },
  "language_info": {
   "codemirror_mode": {
    "name": "ipython",
    "version": 3
   },
   "file_extension": ".py",
   "mimetype": "text/x-python",
   "name": "python",
   "nbconvert_exporter": "python",
   "pygments_lexer": "ipython3",
   "version": "3.7.0"
  },
  "toc": {
   "base_numbering": 1,
   "nav_menu": {},
   "number_sections": false,
   "sideBar": false,
   "skip_h1_title": false,
   "title_cell": "Table of Contents",
   "title_sidebar": "Contents",
   "toc_cell": false,
   "toc_position": {},
   "toc_section_display": false,
   "toc_window_display": false
  }
 },
 "nbformat": 4,
 "nbformat_minor": 4
}
