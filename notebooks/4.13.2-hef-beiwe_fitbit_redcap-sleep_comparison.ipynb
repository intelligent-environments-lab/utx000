{
 "cells": [
  {
   "cell_type": "markdown",
   "metadata": {},
   "source": [
    "# Beiwe, Fitbit, and REDCap\n",
    "Analysis across all three modalities"
   ]
  },
  {
   "cell_type": "code",
   "execution_count": 1,
   "metadata": {},
   "outputs": [],
   "source": [
    "import warnings\n",
    "warnings.filterwarnings('ignore')\n",
    "\n",
    "%load_ext autoreload\n",
    "%autoreload 2"
   ]
  },
  {
   "cell_type": "markdown",
   "metadata": {},
   "source": [
    "# Sleep Comparison\n",
    "All three of these modalities provide a measurement of the Total Sleep Time (TST) for our participants:\n",
    "* Beiwe: Question on the morning EMA\n",
    "* Fitbit: Derived from sleep stage measurements\n",
    "* REDCap: As part of the CRISIS surveys\n",
    "\n",
    "There are obvious trends in TST from the CRISIS surveys at the three distinct time points so we can see if these trends hold when observing the other modalities. "
   ]
  },
  {
   "cell_type": "code",
   "execution_count": 2,
   "metadata": {},
   "outputs": [],
   "source": [
    "# general\n",
    "import os\n",
    "import sys\n",
    "sys.path.append('../')\n",
    "# user-defined functions\n",
    "from src.visualization import visualize\n",
    "# basic data science\n",
    "import pandas as pd\n",
    "pd.set_option('display.max_columns', 200)\n",
    "import numpy as np\n",
    "# timeseries\n",
    "from datetime import datetime, timedelta\n",
    "# plotting\n",
    "import matplotlib.pyplot as plt\n",
    "from matplotlib import cm\n",
    "from matplotlib.colors import ListedColormap, LinearSegmentedColormap\n",
    "import seaborn as sns\n",
    "import matplotlib.dates as mdates"
   ]
  },
  {
   "cell_type": "markdown",
   "metadata": {},
   "source": [
    "# Data Import\n",
    "Since the REDCap surveys ask about sleep for the past month in addition to the past two weeks, we have to include data from the BPEACE study in order to have Fitbit/EMA data from the \"past month\""
   ]
  },
  {
   "cell_type": "markdown",
   "metadata": {},
   "source": [
    "## Beiwe\n",
    "EMA data"
   ]
  },
  {
   "cell_type": "markdown",
   "metadata": {},
   "source": [
    "### UTx000"
   ]
  },
  {
   "cell_type": "code",
   "execution_count": 3,
   "metadata": {},
   "outputs": [
    {
     "data": {
      "text/html": [
       "<div>\n",
       "<style scoped>\n",
       "    .dataframe tbody tr th:only-of-type {\n",
       "        vertical-align: middle;\n",
       "    }\n",
       "\n",
       "    .dataframe tbody tr th {\n",
       "        vertical-align: top;\n",
       "    }\n",
       "\n",
       "    .dataframe thead th {\n",
       "        text-align: right;\n",
       "    }\n",
       "</style>\n",
       "<table border=\"1\" class=\"dataframe\">\n",
       "  <thead>\n",
       "    <tr style=\"text-align: right;\">\n",
       "      <th></th>\n",
       "      <th>redcap</th>\n",
       "      <th>tst</th>\n",
       "      <th>date</th>\n",
       "    </tr>\n",
       "  </thead>\n",
       "  <tbody>\n",
       "    <tr>\n",
       "      <th>0</th>\n",
       "      <td>68</td>\n",
       "      <td>8.0</td>\n",
       "      <td>2020-05-13</td>\n",
       "    </tr>\n",
       "    <tr>\n",
       "      <th>1</th>\n",
       "      <td>28</td>\n",
       "      <td>2.0</td>\n",
       "      <td>2020-05-13</td>\n",
       "    </tr>\n",
       "    <tr>\n",
       "      <th>2</th>\n",
       "      <td>21</td>\n",
       "      <td>6.0</td>\n",
       "      <td>2020-05-13</td>\n",
       "    </tr>\n",
       "    <tr>\n",
       "      <th>3</th>\n",
       "      <td>29</td>\n",
       "      <td>5.3</td>\n",
       "      <td>2020-05-13</td>\n",
       "    </tr>\n",
       "    <tr>\n",
       "      <th>4</th>\n",
       "      <td>48</td>\n",
       "      <td>2.0</td>\n",
       "      <td>2020-05-13</td>\n",
       "    </tr>\n",
       "  </tbody>\n",
       "</table>\n",
       "</div>"
      ],
      "text/plain": [
       "   redcap  tst        date\n",
       "0      68  8.0  2020-05-13\n",
       "1      28  2.0  2020-05-13\n",
       "2      21  6.0  2020-05-13\n",
       "3      29  5.3  2020-05-13\n",
       "4      48  2.0  2020-05-13"
      ]
     },
     "execution_count": 3,
     "metadata": {},
     "output_type": "execute_result"
    }
   ],
   "source": [
    "bw = pd.read_csv(\"../data/processed/beiwe-morning_ema-ux_s20.csv\",parse_dates=[\"timestamp\"],infer_datetime_format=True)\n",
    "bw = bw[[\"timestamp\",\"redcap\",\"tst\"]]\n",
    "bw[\"date\"] = bw[\"timestamp\"].dt.date\n",
    "bw.drop(\"timestamp\",axis=\"columns\",inplace=True)\n",
    "bw.head()"
   ]
  },
  {
   "cell_type": "markdown",
   "metadata": {},
   "source": [
    "### BPEACE"
   ]
  },
  {
   "cell_type": "code",
   "execution_count": 4,
   "metadata": {},
   "outputs": [
    {
     "data": {
      "text/html": [
       "<div>\n",
       "<style scoped>\n",
       "    .dataframe tbody tr th:only-of-type {\n",
       "        vertical-align: middle;\n",
       "    }\n",
       "\n",
       "    .dataframe tbody tr th {\n",
       "        vertical-align: top;\n",
       "    }\n",
       "\n",
       "    .dataframe thead th {\n",
       "        text-align: right;\n",
       "    }\n",
       "</style>\n",
       "<table border=\"1\" class=\"dataframe\">\n",
       "  <thead>\n",
       "    <tr style=\"text-align: right;\">\n",
       "      <th></th>\n",
       "      <th>tst</th>\n",
       "      <th>beiwe</th>\n",
       "      <th>date</th>\n",
       "    </tr>\n",
       "  </thead>\n",
       "  <tbody>\n",
       "    <tr>\n",
       "      <th>2020-02-03 10:06:25</th>\n",
       "      <td>6.5</td>\n",
       "      <td>6mkypp1o</td>\n",
       "      <td>2020-02-03</td>\n",
       "    </tr>\n",
       "    <tr>\n",
       "      <th>2020-03-01 19:01:45</th>\n",
       "      <td>9.5</td>\n",
       "      <td>6mkypp1o</td>\n",
       "      <td>2020-03-01</td>\n",
       "    </tr>\n",
       "    <tr>\n",
       "      <th>2020-02-28 08:06:27</th>\n",
       "      <td>6.5</td>\n",
       "      <td>6mkypp1o</td>\n",
       "      <td>2020-02-28</td>\n",
       "    </tr>\n",
       "    <tr>\n",
       "      <th>2020-02-21 07:30:11</th>\n",
       "      <td>5.5</td>\n",
       "      <td>6mkypp1o</td>\n",
       "      <td>2020-02-21</td>\n",
       "    </tr>\n",
       "    <tr>\n",
       "      <th>2020-02-10 10:25:38</th>\n",
       "      <td>6.5</td>\n",
       "      <td>6mkypp1o</td>\n",
       "      <td>2020-02-10</td>\n",
       "    </tr>\n",
       "  </tbody>\n",
       "</table>\n",
       "</div>"
      ],
      "text/plain": [
       "                     tst     beiwe        date\n",
       "2020-02-03 10:06:25  6.5  6mkypp1o  2020-02-03\n",
       "2020-03-01 19:01:45  9.5  6mkypp1o  2020-03-01\n",
       "2020-02-28 08:06:27  6.5  6mkypp1o  2020-02-28\n",
       "2020-02-21 07:30:11  5.5  6mkypp1o  2020-02-21\n",
       "2020-02-10 10:25:38  6.5  6mkypp1o  2020-02-10"
      ]
     },
     "execution_count": 4,
     "metadata": {},
     "output_type": "execute_result"
    }
   ],
   "source": [
    "bw_bp = pd.read_csv(\"../data/processed/bpeace-morning-survey.csv\",index_col=0,parse_dates=True,infer_datetime_format=True)\n",
    "bw_bp[\"date\"] = bw_bp.index.date\n",
    "bw_bp = bw_bp[[\"tst\",\"beiwe\",\"date\"]]\n",
    "bw_bp.head()"
   ]
  },
  {
   "cell_type": "markdown",
   "metadata": {},
   "source": [
    "### Aggregate\n",
    "We don't care about the IDs and the crossover between the participants (yet...) so we can just group everything into one dataframe"
   ]
  },
  {
   "cell_type": "code",
   "execution_count": 5,
   "metadata": {},
   "outputs": [
    {
     "data": {
      "text/html": [
       "<div>\n",
       "<style scoped>\n",
       "    .dataframe tbody tr th:only-of-type {\n",
       "        vertical-align: middle;\n",
       "    }\n",
       "\n",
       "    .dataframe tbody tr th {\n",
       "        vertical-align: top;\n",
       "    }\n",
       "\n",
       "    .dataframe thead th {\n",
       "        text-align: right;\n",
       "    }\n",
       "</style>\n",
       "<table border=\"1\" class=\"dataframe\">\n",
       "  <thead>\n",
       "    <tr style=\"text-align: right;\">\n",
       "      <th></th>\n",
       "      <th>tst</th>\n",
       "      <th>date</th>\n",
       "    </tr>\n",
       "  </thead>\n",
       "  <tbody>\n",
       "    <tr>\n",
       "      <th>0</th>\n",
       "      <td>8.0</td>\n",
       "      <td>2020-05-13</td>\n",
       "    </tr>\n",
       "    <tr>\n",
       "      <th>1</th>\n",
       "      <td>2.0</td>\n",
       "      <td>2020-05-13</td>\n",
       "    </tr>\n",
       "    <tr>\n",
       "      <th>2</th>\n",
       "      <td>6.0</td>\n",
       "      <td>2020-05-13</td>\n",
       "    </tr>\n",
       "    <tr>\n",
       "      <th>3</th>\n",
       "      <td>5.3</td>\n",
       "      <td>2020-05-13</td>\n",
       "    </tr>\n",
       "    <tr>\n",
       "      <th>4</th>\n",
       "      <td>2.0</td>\n",
       "      <td>2020-05-13</td>\n",
       "    </tr>\n",
       "  </tbody>\n",
       "</table>\n",
       "</div>"
      ],
      "text/plain": [
       "   tst        date\n",
       "0  8.0  2020-05-13\n",
       "1  2.0  2020-05-13\n",
       "2  6.0  2020-05-13\n",
       "3  5.3  2020-05-13\n",
       "4  2.0  2020-05-13"
      ]
     },
     "execution_count": 5,
     "metadata": {},
     "output_type": "execute_result"
    }
   ],
   "source": [
    "bw_agg = bw[[\"tst\",\"date\"]].append(bw_bp[[\"tst\",\"date\"]]).reset_index(drop=True)\n",
    "bw_agg.head()"
   ]
  },
  {
   "cell_type": "markdown",
   "metadata": {},
   "source": [
    "## Fitbit"
   ]
  },
  {
   "cell_type": "markdown",
   "metadata": {},
   "source": [
    "### UTx000"
   ]
  },
  {
   "cell_type": "code",
   "execution_count": 6,
   "metadata": {
    "scrolled": true
   },
   "outputs": [
    {
     "data": {
      "text/html": [
       "<div>\n",
       "<style scoped>\n",
       "    .dataframe tbody tr th:only-of-type {\n",
       "        vertical-align: middle;\n",
       "    }\n",
       "\n",
       "    .dataframe tbody tr th {\n",
       "        vertical-align: top;\n",
       "    }\n",
       "\n",
       "    .dataframe thead th {\n",
       "        text-align: right;\n",
       "    }\n",
       "</style>\n",
       "<table border=\"1\" class=\"dataframe\">\n",
       "  <thead>\n",
       "    <tr style=\"text-align: right;\">\n",
       "      <th></th>\n",
       "      <th>tst</th>\n",
       "      <th>redcap</th>\n",
       "      <th>date</th>\n",
       "    </tr>\n",
       "  </thead>\n",
       "  <tbody>\n",
       "    <tr>\n",
       "      <th>0</th>\n",
       "      <td>6.316667</td>\n",
       "      <td>NaN</td>\n",
       "      <td>2020-05-14</td>\n",
       "    </tr>\n",
       "    <tr>\n",
       "      <th>1</th>\n",
       "      <td>6.533333</td>\n",
       "      <td>NaN</td>\n",
       "      <td>2020-05-15</td>\n",
       "    </tr>\n",
       "    <tr>\n",
       "      <th>2</th>\n",
       "      <td>4.783333</td>\n",
       "      <td>NaN</td>\n",
       "      <td>2020-05-16</td>\n",
       "    </tr>\n",
       "    <tr>\n",
       "      <th>3</th>\n",
       "      <td>6.716667</td>\n",
       "      <td>NaN</td>\n",
       "      <td>2020-05-17</td>\n",
       "    </tr>\n",
       "    <tr>\n",
       "      <th>4</th>\n",
       "      <td>5.850000</td>\n",
       "      <td>NaN</td>\n",
       "      <td>2020-05-18</td>\n",
       "    </tr>\n",
       "  </tbody>\n",
       "</table>\n",
       "</div>"
      ],
      "text/plain": [
       "        tst  redcap       date\n",
       "0  6.316667     NaN 2020-05-14\n",
       "1  6.533333     NaN 2020-05-15\n",
       "2  4.783333     NaN 2020-05-16\n",
       "3  6.716667     NaN 2020-05-17\n",
       "4  5.850000     NaN 2020-05-18"
      ]
     },
     "execution_count": 6,
     "metadata": {},
     "output_type": "execute_result"
    }
   ],
   "source": [
    "fb = pd.read_csv(\"../data/processed/fitbit-sleep_summary-ux_s20.csv\",parse_dates=[\"start_date\",\"end_date\",\"end_time\",\"start_time\"],infer_datetime_format=True)\n",
    "fb = fb[[\"tst_fb\",\"redcap\",\"end_date\"]]\n",
    "fb.columns = [\"tst\",\"redcap\",\"date\"]\n",
    "fb.head()"
   ]
  },
  {
   "cell_type": "markdown",
   "metadata": {},
   "source": [
    "### BPEACE"
   ]
  },
  {
   "cell_type": "code",
   "execution_count": 7,
   "metadata": {},
   "outputs": [
    {
     "data": {
      "text/html": [
       "<div>\n",
       "<style scoped>\n",
       "    .dataframe tbody tr th:only-of-type {\n",
       "        vertical-align: middle;\n",
       "    }\n",
       "\n",
       "    .dataframe tbody tr th {\n",
       "        vertical-align: top;\n",
       "    }\n",
       "\n",
       "    .dataframe thead th {\n",
       "        text-align: right;\n",
       "    }\n",
       "</style>\n",
       "<table border=\"1\" class=\"dataframe\">\n",
       "  <thead>\n",
       "    <tr style=\"text-align: right;\">\n",
       "      <th></th>\n",
       "      <th>redcap</th>\n",
       "      <th>date</th>\n",
       "      <th>tst</th>\n",
       "    </tr>\n",
       "  </thead>\n",
       "  <tbody>\n",
       "    <tr>\n",
       "      <th>0</th>\n",
       "      <td>101</td>\n",
       "      <td>2020-02-08</td>\n",
       "      <td>7.950000</td>\n",
       "    </tr>\n",
       "    <tr>\n",
       "      <th>1</th>\n",
       "      <td>101</td>\n",
       "      <td>2020-02-09</td>\n",
       "      <td>5.950000</td>\n",
       "    </tr>\n",
       "    <tr>\n",
       "      <th>2</th>\n",
       "      <td>101</td>\n",
       "      <td>2020-02-10</td>\n",
       "      <td>7.983333</td>\n",
       "    </tr>\n",
       "    <tr>\n",
       "      <th>3</th>\n",
       "      <td>101</td>\n",
       "      <td>2020-02-11</td>\n",
       "      <td>6.133333</td>\n",
       "    </tr>\n",
       "    <tr>\n",
       "      <th>4</th>\n",
       "      <td>101</td>\n",
       "      <td>2020-02-12</td>\n",
       "      <td>5.900000</td>\n",
       "    </tr>\n",
       "  </tbody>\n",
       "</table>\n",
       "</div>"
      ],
      "text/plain": [
       "   redcap        date       tst\n",
       "0     101  2020-02-08  7.950000\n",
       "1     101  2020-02-09  5.950000\n",
       "2     101  2020-02-10  7.983333\n",
       "3     101  2020-02-11  6.133333\n",
       "4     101  2020-02-12  5.900000"
      ]
     },
     "execution_count": 7,
     "metadata": {},
     "output_type": "execute_result"
    }
   ],
   "source": [
    "fb_bp = pd.read_csv(\"../data/raw/bpeace/fitbit/sleepDay_merged.csv\",parse_dates=[\"SleepDay\"],infer_datetime_format=True)\n",
    "fb_bp[\"date\"] = fb_bp[\"SleepDay\"].dt.date\n",
    "fb_bp = fb_bp[[\"Id\",\"date\",\"TotalMinutesAsleep\"]]\n",
    "fb_bp.columns = [\"redcap\",\"date\",\"tst\"]\n",
    "fb_bp[\"tst\"] /= 60\n",
    "fb_bp.head()"
   ]
  },
  {
   "cell_type": "markdown",
   "metadata": {},
   "source": [
    "### Aggregate\n",
    "We don't care about the IDs and the crossover between the participants (yet...) so we can just group everything into one dataframe"
   ]
  },
  {
   "cell_type": "code",
   "execution_count": 8,
   "metadata": {},
   "outputs": [
    {
     "data": {
      "text/html": [
       "<div>\n",
       "<style scoped>\n",
       "    .dataframe tbody tr th:only-of-type {\n",
       "        vertical-align: middle;\n",
       "    }\n",
       "\n",
       "    .dataframe tbody tr th {\n",
       "        vertical-align: top;\n",
       "    }\n",
       "\n",
       "    .dataframe thead th {\n",
       "        text-align: right;\n",
       "    }\n",
       "</style>\n",
       "<table border=\"1\" class=\"dataframe\">\n",
       "  <thead>\n",
       "    <tr style=\"text-align: right;\">\n",
       "      <th></th>\n",
       "      <th>tst</th>\n",
       "      <th>date</th>\n",
       "    </tr>\n",
       "  </thead>\n",
       "  <tbody>\n",
       "    <tr>\n",
       "      <th>0</th>\n",
       "      <td>6.316667</td>\n",
       "      <td>2020-05-14</td>\n",
       "    </tr>\n",
       "    <tr>\n",
       "      <th>1</th>\n",
       "      <td>6.533333</td>\n",
       "      <td>2020-05-15</td>\n",
       "    </tr>\n",
       "    <tr>\n",
       "      <th>2</th>\n",
       "      <td>4.783333</td>\n",
       "      <td>2020-05-16</td>\n",
       "    </tr>\n",
       "    <tr>\n",
       "      <th>3</th>\n",
       "      <td>6.716667</td>\n",
       "      <td>2020-05-17</td>\n",
       "    </tr>\n",
       "    <tr>\n",
       "      <th>4</th>\n",
       "      <td>5.850000</td>\n",
       "      <td>2020-05-18</td>\n",
       "    </tr>\n",
       "  </tbody>\n",
       "</table>\n",
       "</div>"
      ],
      "text/plain": [
       "        tst       date\n",
       "0  6.316667 2020-05-14\n",
       "1  6.533333 2020-05-15\n",
       "2  4.783333 2020-05-16\n",
       "3  6.716667 2020-05-17\n",
       "4  5.850000 2020-05-18"
      ]
     },
     "execution_count": 8,
     "metadata": {},
     "output_type": "execute_result"
    }
   ],
   "source": [
    "fb_agg = fb[[\"tst\",\"date\"]].append(fb_bp[[\"tst\",\"date\"]]).reset_index(drop=True)\n",
    "fb_agg[\"date\"] = pd.to_datetime(fb_agg[\"date\"])\n",
    "fb_agg.head()"
   ]
  },
  {
   "cell_type": "markdown",
   "metadata": {},
   "source": [
    "## REDCap"
   ]
  },
  {
   "cell_type": "code",
   "execution_count": 9,
   "metadata": {},
   "outputs": [
    {
     "data": {
      "text/html": [
       "<div>\n",
       "<style scoped>\n",
       "    .dataframe tbody tr th:only-of-type {\n",
       "        vertical-align: middle;\n",
       "    }\n",
       "\n",
       "    .dataframe tbody tr th {\n",
       "        vertical-align: top;\n",
       "    }\n",
       "\n",
       "    .dataframe thead th {\n",
       "        text-align: right;\n",
       "    }\n",
       "</style>\n",
       "<table border=\"1\" class=\"dataframe\">\n",
       "  <thead>\n",
       "    <tr style=\"text-align: right;\">\n",
       "      <th></th>\n",
       "      <th>redcap</th>\n",
       "      <th>period</th>\n",
       "      <th>tst_rating</th>\n",
       "    </tr>\n",
       "  </thead>\n",
       "  <tbody>\n",
       "    <tr>\n",
       "      <th>0</th>\n",
       "      <td>1</td>\n",
       "      <td>pre</td>\n",
       "      <td>1.0</td>\n",
       "    </tr>\n",
       "    <tr>\n",
       "      <th>1</th>\n",
       "      <td>2</td>\n",
       "      <td>pre</td>\n",
       "      <td>1.0</td>\n",
       "    </tr>\n",
       "    <tr>\n",
       "      <th>2</th>\n",
       "      <td>4</td>\n",
       "      <td>pre</td>\n",
       "      <td>3.0</td>\n",
       "    </tr>\n",
       "    <tr>\n",
       "      <th>3</th>\n",
       "      <td>5</td>\n",
       "      <td>pre</td>\n",
       "      <td>2.0</td>\n",
       "    </tr>\n",
       "    <tr>\n",
       "      <th>4</th>\n",
       "      <td>6</td>\n",
       "      <td>pre</td>\n",
       "      <td>2.0</td>\n",
       "    </tr>\n",
       "  </tbody>\n",
       "</table>\n",
       "</div>"
      ],
      "text/plain": [
       "  redcap period  tst_rating\n",
       "0      1    pre         1.0\n",
       "1      2    pre         1.0\n",
       "2      4    pre         3.0\n",
       "3      5    pre         2.0\n",
       "4      6    pre         2.0"
      ]
     },
     "execution_count": 9,
     "metadata": {},
     "output_type": "execute_result"
    }
   ],
   "source": [
    "rc = pd.read_csv(\"../data/raw/utx000/surveys/CRISIS_all_raw.csv\",usecols=[0,1,2,42],names=[\"pre\",\"during\",\"followup\",\"redcap\"],skiprows=1)\n",
    "rc = rc.melt(id_vars=\"redcap\",value_vars=[\"pre\",\"during\",\"followup\"],var_name=\"period\",value_name=\"tst_rating\")\n",
    "rc.head()"
   ]
  },
  {
   "cell_type": "code",
   "execution_count": 10,
   "metadata": {},
   "outputs": [],
   "source": [
    "rc_agg = rc[[\"tst_rating\",\"period\"]]"
   ]
  },
  {
   "cell_type": "markdown",
   "metadata": {},
   "source": [
    "# Encoding\n",
    "Encoding the TST and Period values"
   ]
  },
  {
   "cell_type": "markdown",
   "metadata": {},
   "source": [
    "## TST\n",
    "The continuous measurements/reports from Fitbit/Beiwe need to be encoded to the same scale as the REDCap surveys.\n",
    "\n",
    "4: TST > 10 <br>\n",
    "3: 10 > TST > 8 <br>\n",
    "2: 8 > TST > 6 <br>\n",
    "1: TST < 6 <br>"
   ]
  },
  {
   "cell_type": "code",
   "execution_count": 11,
   "metadata": {},
   "outputs": [],
   "source": [
    "def encode_sleep(tst):\n",
    "    \"\"\"encodes tst as a value\"\"\"\n",
    "    if tst > 10:\n",
    "        return 4\n",
    "    elif tst > 8:\n",
    "        return 3\n",
    "    elif tst > 6:\n",
    "        return 2\n",
    "    else:\n",
    "        return 1"
   ]
  },
  {
   "cell_type": "code",
   "execution_count": 12,
   "metadata": {},
   "outputs": [],
   "source": [
    "bw_agg[\"tst_rating\"] = bw_agg.apply(lambda x: encode_sleep(x[\"tst\"]), axis=\"columns\")\n",
    "fb_agg[\"tst_rating\"] = fb_agg.apply(lambda x: encode_sleep(x[\"tst\"]), axis=\"columns\")"
   ]
  },
  {
   "cell_type": "markdown",
   "metadata": {},
   "source": [
    "## CRISIS Survey Period\n",
    "Based on the timestamps from the surveys and Fitbit, we can determine which REDCap survey the reported/measured values correspond to."
   ]
  },
  {
   "cell_type": "code",
   "execution_count": 13,
   "metadata": {},
   "outputs": [],
   "source": [
    "def get_period(t):\n",
    "    \"\"\"gets the CRISIS period based on the given time t\"\"\"\n",
    "    if t < datetime(2020,5,5).date():\n",
    "        return \"pre\"\n",
    "    elif t > datetime(2020,5,5).date() and t < datetime(2020,5,19).date():\n",
    "        return \"during\"\n",
    "    elif t > datetime(2020,6,10).date() and t < datetime(2020,6,24).date():\n",
    "        return \"followup\"\n",
    "    else:\n",
    "        return np.nan"
   ]
  },
  {
   "cell_type": "code",
   "execution_count": 14,
   "metadata": {},
   "outputs": [],
   "source": [
    "bw_agg[\"period\"] = bw_agg.apply(lambda x: get_period(x[\"date\"]), axis=\"columns\")\n",
    "fb_agg[\"period\"] = fb_agg.apply(lambda x: get_period(x[\"date\"]), axis=\"columns\")"
   ]
  },
  {
   "cell_type": "markdown",
   "metadata": {},
   "source": [
    "## Single DataFrames"
   ]
  },
  {
   "cell_type": "code",
   "execution_count": 15,
   "metadata": {},
   "outputs": [],
   "source": [
    "for df in [fb,fb_bp,bw,bw_bp]:\n",
    "    df[\"tst_rating\"] = df.apply(lambda x: encode_sleep(x[\"tst\"]), axis=\"columns\")\n",
    "    df[\"date\"] = pd.to_datetime(df[\"date\"])\n",
    "    df[\"period\"] = df.apply(lambda x: get_period(x[\"date\"]), axis=\"columns\")\n",
    "    df.dropna(inplace=True)\n",
    "    #df.drop([\"tst\",\"date\"],axis=\"columns\",inplace=True)"
   ]
  },
  {
   "cell_type": "markdown",
   "metadata": {},
   "source": [
    "# Aggregate\n",
    "We compare the aggregated TSTs."
   ]
  },
  {
   "cell_type": "code",
   "execution_count": 16,
   "metadata": {},
   "outputs": [],
   "source": [
    "def plot_tst_device(df,device=\"beiwe\"):\n",
    "    \"\"\"Plots bar plot of TSTs from a certain device\"\"\"\n",
    "    if device not in [\"redcap\"]:\n",
    "        df_grouped = df.groupby([\"period\",\"tst_rating\"]).count().drop(\"date\",axis=\"columns\").reset_index()\n",
    "    else:\n",
    "        df[\"tst\"] = 1\n",
    "        df_grouped = df.groupby([\"period\",\"tst_rating\"]).count().reset_index()\n",
    "    df_grouped.columns = [\"period\",\"tst_rating\",\"n\"]\n",
    "    totals = df_grouped.groupby([\"period\"]).sum().drop(\"tst_rating\",axis=\"columns\").reset_index()\n",
    "    df_grouped = df_grouped.merge(right=totals,on=\"period\",how=\"left\",suffixes=(\"_ind\",\"_all\"))\n",
    "    df_grouped[\"p\"] = df_grouped[\"n_ind\"]/df_grouped[\"n_all\"]\n",
    "    \n",
    "    fig, ax = plt.subplots(figsize=(20,5))\n",
    "    bars = sns.barplot(x=\"tst_rating\",y=\"p\",hue=\"period\",data=df_grouped,\n",
    "                hue_order=[\"pre\",\"during\",\"followup\"],palette=[\"seagreen\",\"goldenrod\",\"firebrick\"],edgecolor=\"black\",)\n",
    "    # x-axis\n",
    "    bars.set_xlabel(\"Total Sleep Time\",fontsize=16)\n",
    "    bars.set_xticklabels([\"< 6 Hours\",\"6-8 Hours\",\"8-10 Hours\", \" > 10 Hours\"],fontsize=14)\n",
    "    #plt.xticks(fontsize=14)\n",
    "    # y-axis\n",
    "    bars.set_ylabel(\"Relative Percentage\", fontsize=16)\n",
    "    bars.set_ylim([0,1])\n",
    "    plt.yticks(fontsize=14)\n",
    "    # remainder\n",
    "    for loc in [\"top\",\"right\"]:\n",
    "        ax.spines[loc].set_visible(False)\n",
    "    bars.legend(loc=\"upper left\",title=\"Survey Period\",title_fontsize=14,fontsize=12,frameon=False)\n",
    "    \n",
    "    plt.show()\n",
    "    plt.close()\n",
    "    \n",
    "    return df_grouped"
   ]
  },
  {
   "cell_type": "markdown",
   "metadata": {},
   "source": [
    "## Beiwe EMAs"
   ]
  },
  {
   "cell_type": "code",
   "execution_count": 17,
   "metadata": {},
   "outputs": [
    {
     "data": {
      "image/png": "[encoded data removed]",
      "text/plain": [
       "<Figure size 1440x360 with 1 Axes>"
      ]
     },
     "metadata": {
      "needs_background": "light"
     },
     "output_type": "display_data"
    }
   ],
   "source": [
    "bw_comp = plot_tst_device(bw_agg)"
   ]
  },
  {
   "cell_type": "markdown",
   "metadata": {},
   "source": [
    "## Fitbit"
   ]
  },
  {
   "cell_type": "code",
   "execution_count": 18,
   "metadata": {},
   "outputs": [
    {
     "data": {
      "image/png": "[encoded data removed]",
      "text/plain": [
       "<Figure size 1440x360 with 1 Axes>"
      ]
     },
     "metadata": {
      "needs_background": "light"
     },
     "output_type": "display_data"
    }
   ],
   "source": [
    "fb_comp = plot_tst_device(fb_agg)"
   ]
  },
  {
   "cell_type": "markdown",
   "metadata": {},
   "source": [
    "## REDCap"
   ]
  },
  {
   "cell_type": "code",
   "execution_count": 19,
   "metadata": {},
   "outputs": [
    {
     "data": {
      "image/png": "[encoded data removed]",
      "text/plain": [
       "<Figure size 1440x360 with 1 Axes>"
      ]
     },
     "metadata": {
      "needs_background": "light"
     },
     "output_type": "display_data"
    }
   ],
   "source": [
    "rc_comp = plot_tst_device(rc_agg, device=\"redcap\")"
   ]
  },
  {
   "cell_type": "markdown",
   "metadata": {},
   "source": [
    "<div class=\"alert alert-block alert-info\">\n",
    "\n",
    "There is a trend of sleeping more during the `during` sampling period from REDCap, but that same trend is not illustrated in the Fitbit and Beiwe data.\n",
    "    \n",
    "</div>"
   ]
  },
  {
   "cell_type": "markdown",
   "metadata": {},
   "source": [
    "## Direct Device Measurement Comparison"
   ]
  },
  {
   "cell_type": "code",
   "execution_count": 20,
   "metadata": {},
   "outputs": [],
   "source": [
    "# adding device columns\n",
    "rc_comp[\"device\"] = \"redcap\"\n",
    "fb_comp[\"device\"] = \"fitbit\"\n",
    "bw_comp[\"device\"] = \"beiwe\"\n",
    "# combining\n",
    "all_agg = pd.concat([rc_comp,fb_comp,bw_comp])"
   ]
  },
  {
   "cell_type": "markdown",
   "metadata": {},
   "source": [
    "## Plotting"
   ]
  },
  {
   "cell_type": "code",
   "execution_count": 21,
   "metadata": {},
   "outputs": [
    {
     "data": {
      "image/png": "[encoded data removed]",
      "text/plain": [
       "<Figure size 1440x1080 with 3 Axes>"
      ]
     },
     "metadata": {
      "needs_background": "light"
     },
     "output_type": "display_data"
    }
   ],
   "source": [
    "fig, axes = plt.subplots(3,1,figsize=(20,15),sharex=True,gridspec_kw={\"hspace\":0.2})\n",
    "for period, ax in zip([\"pre\",\"during\",\"followup\"],axes.flat):\n",
    "    temp = all_agg[all_agg[\"period\"] == period]\n",
    "    bars = sns.barplot(x=\"tst_rating\",y=\"p\",hue=\"device\",data=temp,\n",
    "                       palette=[\"firebrick\",\"cornflowerblue\",\"black\"],edgecolor=\"black\",ax=ax)\n",
    "    # x-axis\n",
    "    bars.set_xlabel(\"\",fontsize=15)\n",
    "    bars.set_xticklabels([\"< 6 Hours\",\"6-8 Hours\",\"8-10 Hours\", \" > 10 Hours\"],fontsize=14)\n",
    "    #plt.xticks(fontsize=14)\n",
    "    # y-axis\n",
    "    bars.set_ylabel(\"Relative Percentage\", fontsize=15)\n",
    "    bars.set_ylim([0,1])\n",
    "    plt.yticks(fontsize=14)\n",
    "    # remainder\n",
    "    for loc in [\"top\",\"right\"]:\n",
    "        ax.spines[loc].set_visible(False)\n",
    "    ax.set_title(period.upper(),fontsize=17)\n",
    "    bars.legend(loc=\"upper left\",title=\"Device\",title_fontsize=14,fontsize=12,frameon=False)"
   ]
  },
  {
   "cell_type": "markdown",
   "metadata": {},
   "source": [
    "<div class=\"alert alert-block alert-info\">\n",
    "\n",
    "Based on the percentage of responses in the `< 6 Hour` bin, participants seem to be under-reporting their TST.\n",
    "    \n",
    "</div>"
   ]
  },
  {
   "cell_type": "markdown",
   "metadata": {},
   "source": [
    "# Individual\n",
    "Now we look for and compare participants who reported answers for each of the three periods."
   ]
  },
  {
   "cell_type": "markdown",
   "metadata": {},
   "source": [
    "## Identifiers\n",
    "We need to get the IDs for participants from each study and cross-reference them so that we can include the relevant data from each study."
   ]
  },
  {
   "cell_type": "code",
   "execution_count": 22,
   "metadata": {},
   "outputs": [
    {
     "data": {
      "text/html": [
       "<div>\n",
       "<style scoped>\n",
       "    .dataframe tbody tr th:only-of-type {\n",
       "        vertical-align: middle;\n",
       "    }\n",
       "\n",
       "    .dataframe tbody tr th {\n",
       "        vertical-align: top;\n",
       "    }\n",
       "\n",
       "    .dataframe thead th {\n",
       "        text-align: right;\n",
       "    }\n",
       "</style>\n",
       "<table border=\"1\" class=\"dataframe\">\n",
       "  <thead>\n",
       "    <tr style=\"text-align: right;\">\n",
       "      <th></th>\n",
       "      <th>redcap_ux</th>\n",
       "      <th>beiwe_ux</th>\n",
       "      <th>redcap_bp</th>\n",
       "      <th>beiwe_bp</th>\n",
       "      <th>analysis_id</th>\n",
       "    </tr>\n",
       "  </thead>\n",
       "  <tbody>\n",
       "    <tr>\n",
       "      <th>0</th>\n",
       "      <td>1</td>\n",
       "      <td>y1tvkx14</td>\n",
       "      <td>18</td>\n",
       "      <td>g46wfzjn</td>\n",
       "      <td>1</td>\n",
       "    </tr>\n",
       "    <tr>\n",
       "      <th>1</th>\n",
       "      <td>2</td>\n",
       "      <td>pgvvwyvh</td>\n",
       "      <td>58</td>\n",
       "      <td>qozylvnz</td>\n",
       "      <td>2</td>\n",
       "    </tr>\n",
       "    <tr>\n",
       "      <th>2</th>\n",
       "      <td>4</td>\n",
       "      <td>idbkjh8u</td>\n",
       "      <td>110</td>\n",
       "      <td>jj1do3qt</td>\n",
       "      <td>3</td>\n",
       "    </tr>\n",
       "    <tr>\n",
       "      <th>3</th>\n",
       "      <td>5</td>\n",
       "      <td>eyf8oqwl</td>\n",
       "      <td>112</td>\n",
       "      <td>8spjm55e</td>\n",
       "      <td>4</td>\n",
       "    </tr>\n",
       "    <tr>\n",
       "      <th>4</th>\n",
       "      <td>6</td>\n",
       "      <td>789gcb6u</td>\n",
       "      <td>54</td>\n",
       "      <td>o48dlm7l</td>\n",
       "      <td>5</td>\n",
       "    </tr>\n",
       "  </tbody>\n",
       "</table>\n",
       "</div>"
      ],
      "text/plain": [
       "   redcap_ux  beiwe_ux  redcap_bp  beiwe_bp  analysis_id\n",
       "0          1  y1tvkx14         18  g46wfzjn            1\n",
       "1          2  pgvvwyvh         58  qozylvnz            2\n",
       "2          4  idbkjh8u        110  jj1do3qt            3\n",
       "3          5  eyf8oqwl        112  8spjm55e            4\n",
       "4          6  789gcb6u         54  o48dlm7l            5"
      ]
     },
     "execution_count": 22,
     "metadata": {},
     "output_type": "execute_result"
    }
   ],
   "source": [
    "ids_ux = pd.read_excel(\"../data/raw/utx000/admin/id_crossover.xlsx\")\n",
    "ids_bp = pd.read_excel(\"../data/raw/bpeace/admin/id_crossover.xlsx\")\n",
    "ids_bp.columns = [column.lower() for column in ids_bp.columns]\n",
    "ids_bp.rename(columns={\"id\":\"redcap\"},inplace=True)\n",
    "ids = ids_ux.merge(right=ids_bp,on=[\"last\",\"first\"],suffixes=(\"_ux\",\"_bp\"))\n",
    "ids.drop([\"first\",\"last\",\"eid\",\"sex\",\"fitbit_ux\",\"fitbit_bp\",\"beacon_ux\",\"beacon_bp\"],axis=\"columns\",inplace=True)\n",
    "ids.reset_index(drop=True,inplace=True)\n",
    "ids[\"analysis_id\"] = ids.index + 1 # non-identifiable ID \n",
    "ids.head()"
   ]
  },
  {
   "cell_type": "markdown",
   "metadata": {},
   "source": [
    "## Getting the Data\n",
    "Now that we have an ID list, we can get merge the datasets from each device"
   ]
  },
  {
   "cell_type": "markdown",
   "metadata": {},
   "source": [
    "### Fitbit"
   ]
  },
  {
   "cell_type": "code",
   "execution_count": 23,
   "metadata": {},
   "outputs": [
    {
     "data": {
      "text/html": [
       "<div>\n",
       "<style scoped>\n",
       "    .dataframe tbody tr th:only-of-type {\n",
       "        vertical-align: middle;\n",
       "    }\n",
       "\n",
       "    .dataframe tbody tr th {\n",
       "        vertical-align: top;\n",
       "    }\n",
       "\n",
       "    .dataframe thead th {\n",
       "        text-align: right;\n",
       "    }\n",
       "</style>\n",
       "<table border=\"1\" class=\"dataframe\">\n",
       "  <thead>\n",
       "    <tr style=\"text-align: right;\">\n",
       "      <th></th>\n",
       "      <th>redcap</th>\n",
       "      <th>date</th>\n",
       "      <th>tst</th>\n",
       "      <th>tst_rating</th>\n",
       "      <th>period</th>\n",
       "      <th>redcap_ux</th>\n",
       "      <th>beiwe_ux</th>\n",
       "      <th>redcap_bp</th>\n",
       "      <th>beiwe_bp</th>\n",
       "      <th>analysis_id</th>\n",
       "    </tr>\n",
       "  </thead>\n",
       "  <tbody>\n",
       "    <tr>\n",
       "      <th>0</th>\n",
       "      <td>101.0</td>\n",
       "      <td>2020-02-08</td>\n",
       "      <td>7.950000</td>\n",
       "      <td>2</td>\n",
       "      <td>pre</td>\n",
       "      <td>23.0</td>\n",
       "      <td>xdbdrk6e</td>\n",
       "      <td>101.0</td>\n",
       "      <td>9l7wmsc3</td>\n",
       "      <td>14.0</td>\n",
       "    </tr>\n",
       "    <tr>\n",
       "      <th>1</th>\n",
       "      <td>101.0</td>\n",
       "      <td>2020-02-09</td>\n",
       "      <td>5.950000</td>\n",
       "      <td>1</td>\n",
       "      <td>pre</td>\n",
       "      <td>23.0</td>\n",
       "      <td>xdbdrk6e</td>\n",
       "      <td>101.0</td>\n",
       "      <td>9l7wmsc3</td>\n",
       "      <td>14.0</td>\n",
       "    </tr>\n",
       "    <tr>\n",
       "      <th>2</th>\n",
       "      <td>101.0</td>\n",
       "      <td>2020-02-10</td>\n",
       "      <td>7.983333</td>\n",
       "      <td>2</td>\n",
       "      <td>pre</td>\n",
       "      <td>23.0</td>\n",
       "      <td>xdbdrk6e</td>\n",
       "      <td>101.0</td>\n",
       "      <td>9l7wmsc3</td>\n",
       "      <td>14.0</td>\n",
       "    </tr>\n",
       "    <tr>\n",
       "      <th>3</th>\n",
       "      <td>101.0</td>\n",
       "      <td>2020-02-11</td>\n",
       "      <td>6.133333</td>\n",
       "      <td>2</td>\n",
       "      <td>pre</td>\n",
       "      <td>23.0</td>\n",
       "      <td>xdbdrk6e</td>\n",
       "      <td>101.0</td>\n",
       "      <td>9l7wmsc3</td>\n",
       "      <td>14.0</td>\n",
       "    </tr>\n",
       "    <tr>\n",
       "      <th>4</th>\n",
       "      <td>101.0</td>\n",
       "      <td>2020-02-12</td>\n",
       "      <td>5.900000</td>\n",
       "      <td>1</td>\n",
       "      <td>pre</td>\n",
       "      <td>23.0</td>\n",
       "      <td>xdbdrk6e</td>\n",
       "      <td>101.0</td>\n",
       "      <td>9l7wmsc3</td>\n",
       "      <td>14.0</td>\n",
       "    </tr>\n",
       "  </tbody>\n",
       "</table>\n",
       "</div>"
      ],
      "text/plain": [
       "   redcap       date       tst  tst_rating period  redcap_ux  beiwe_ux  \\\n",
       "0   101.0 2020-02-08  7.950000           2    pre       23.0  xdbdrk6e   \n",
       "1   101.0 2020-02-09  5.950000           1    pre       23.0  xdbdrk6e   \n",
       "2   101.0 2020-02-10  7.983333           2    pre       23.0  xdbdrk6e   \n",
       "3   101.0 2020-02-11  6.133333           2    pre       23.0  xdbdrk6e   \n",
       "4   101.0 2020-02-12  5.900000           1    pre       23.0  xdbdrk6e   \n",
       "\n",
       "   redcap_bp  beiwe_bp  analysis_id  \n",
       "0      101.0  9l7wmsc3         14.0  \n",
       "1      101.0  9l7wmsc3         14.0  \n",
       "2      101.0  9l7wmsc3         14.0  \n",
       "3      101.0  9l7wmsc3         14.0  \n",
       "4      101.0  9l7wmsc3         14.0  "
      ]
     },
     "execution_count": 23,
     "metadata": {},
     "output_type": "execute_result"
    }
   ],
   "source": [
    "fb_ux_id = fb.merge(ids,left_on=[\"redcap\"],right_on=[\"redcap_ux\"],how=\"left\")\n",
    "fb_bp_id = fb_bp.merge(ids,left_on=\"redcap\",right_on=\"redcap_bp\",how=\"left\")\n",
    "fb_id = fb_bp_id.append(fb_ux_id)\n",
    "fb_id.head()"
   ]
  },
  {
   "cell_type": "markdown",
   "metadata": {},
   "source": [
    "### Beiwe"
   ]
  },
  {
   "cell_type": "code",
   "execution_count": 24,
   "metadata": {},
   "outputs": [
    {
     "data": {
      "text/html": [
       "<div>\n",
       "<style scoped>\n",
       "    .dataframe tbody tr th:only-of-type {\n",
       "        vertical-align: middle;\n",
       "    }\n",
       "\n",
       "    .dataframe tbody tr th {\n",
       "        vertical-align: top;\n",
       "    }\n",
       "\n",
       "    .dataframe thead th {\n",
       "        text-align: right;\n",
       "    }\n",
       "</style>\n",
       "<table border=\"1\" class=\"dataframe\">\n",
       "  <thead>\n",
       "    <tr style=\"text-align: right;\">\n",
       "      <th></th>\n",
       "      <th>tst</th>\n",
       "      <th>beiwe</th>\n",
       "      <th>date</th>\n",
       "      <th>tst_rating</th>\n",
       "      <th>period</th>\n",
       "      <th>redcap_ux</th>\n",
       "      <th>beiwe_ux</th>\n",
       "      <th>redcap_bp</th>\n",
       "      <th>beiwe_bp</th>\n",
       "      <th>analysis_id</th>\n",
       "      <th>redcap</th>\n",
       "    </tr>\n",
       "  </thead>\n",
       "  <tbody>\n",
       "    <tr>\n",
       "      <th>22</th>\n",
       "      <td>2.5</td>\n",
       "      <td>edgir25v</td>\n",
       "      <td>2020-02-17</td>\n",
       "      <td>1</td>\n",
       "      <td>pre</td>\n",
       "      <td>24.0</td>\n",
       "      <td>mv14b8aj</td>\n",
       "      <td>125.0</td>\n",
       "      <td>edgir25v</td>\n",
       "      <td>15.0</td>\n",
       "      <td>NaN</td>\n",
       "    </tr>\n",
       "    <tr>\n",
       "      <th>23</th>\n",
       "      <td>5.5</td>\n",
       "      <td>edgir25v</td>\n",
       "      <td>2020-02-12</td>\n",
       "      <td>1</td>\n",
       "      <td>pre</td>\n",
       "      <td>24.0</td>\n",
       "      <td>mv14b8aj</td>\n",
       "      <td>125.0</td>\n",
       "      <td>edgir25v</td>\n",
       "      <td>15.0</td>\n",
       "      <td>NaN</td>\n",
       "    </tr>\n",
       "    <tr>\n",
       "      <th>24</th>\n",
       "      <td>0.0</td>\n",
       "      <td>edgir25v</td>\n",
       "      <td>2020-02-14</td>\n",
       "      <td>1</td>\n",
       "      <td>pre</td>\n",
       "      <td>24.0</td>\n",
       "      <td>mv14b8aj</td>\n",
       "      <td>125.0</td>\n",
       "      <td>edgir25v</td>\n",
       "      <td>15.0</td>\n",
       "      <td>NaN</td>\n",
       "    </tr>\n",
       "    <tr>\n",
       "      <th>25</th>\n",
       "      <td>0.0</td>\n",
       "      <td>edgir25v</td>\n",
       "      <td>2020-02-23</td>\n",
       "      <td>1</td>\n",
       "      <td>pre</td>\n",
       "      <td>24.0</td>\n",
       "      <td>mv14b8aj</td>\n",
       "      <td>125.0</td>\n",
       "      <td>edgir25v</td>\n",
       "      <td>15.0</td>\n",
       "      <td>NaN</td>\n",
       "    </tr>\n",
       "    <tr>\n",
       "      <th>26</th>\n",
       "      <td>6.5</td>\n",
       "      <td>edgir25v</td>\n",
       "      <td>2020-02-07</td>\n",
       "      <td>2</td>\n",
       "      <td>pre</td>\n",
       "      <td>24.0</td>\n",
       "      <td>mv14b8aj</td>\n",
       "      <td>125.0</td>\n",
       "      <td>edgir25v</td>\n",
       "      <td>15.0</td>\n",
       "      <td>NaN</td>\n",
       "    </tr>\n",
       "  </tbody>\n",
       "</table>\n",
       "</div>"
      ],
      "text/plain": [
       "    tst     beiwe       date  tst_rating period  redcap_ux  beiwe_ux  \\\n",
       "22  2.5  edgir25v 2020-02-17           1    pre       24.0  mv14b8aj   \n",
       "23  5.5  edgir25v 2020-02-12           1    pre       24.0  mv14b8aj   \n",
       "24  0.0  edgir25v 2020-02-14           1    pre       24.0  mv14b8aj   \n",
       "25  0.0  edgir25v 2020-02-23           1    pre       24.0  mv14b8aj   \n",
       "26  6.5  edgir25v 2020-02-07           2    pre       24.0  mv14b8aj   \n",
       "\n",
       "    redcap_bp  beiwe_bp  analysis_id  redcap  \n",
       "22      125.0  edgir25v         15.0     NaN  \n",
       "23      125.0  edgir25v         15.0     NaN  \n",
       "24      125.0  edgir25v         15.0     NaN  \n",
       "25      125.0  edgir25v         15.0     NaN  \n",
       "26      125.0  edgir25v         15.0     NaN  "
      ]
     },
     "execution_count": 24,
     "metadata": {},
     "output_type": "execute_result"
    }
   ],
   "source": [
    "bw_ux_id = bw.merge(ids,left_on=[\"redcap\"],right_on=[\"redcap_ux\"],how=\"left\").dropna()\n",
    "bw_bp_id = bw_bp.merge(ids,left_on=[\"beiwe\"],right_on=[\"beiwe_bp\"],how=\"left\").dropna()\n",
    "bw_id = bw_bp_id.append(bw_ux_id)\n",
    "bw_id.head()"
   ]
  },
  {
   "cell_type": "markdown",
   "metadata": {},
   "source": [
    "### REDCap"
   ]
  },
  {
   "cell_type": "code",
   "execution_count": 25,
   "metadata": {},
   "outputs": [
    {
     "data": {
      "text/html": [
       "<div>\n",
       "<style scoped>\n",
       "    .dataframe tbody tr th:only-of-type {\n",
       "        vertical-align: middle;\n",
       "    }\n",
       "\n",
       "    .dataframe tbody tr th {\n",
       "        vertical-align: top;\n",
       "    }\n",
       "\n",
       "    .dataframe thead th {\n",
       "        text-align: right;\n",
       "    }\n",
       "</style>\n",
       "<table border=\"1\" class=\"dataframe\">\n",
       "  <thead>\n",
       "    <tr style=\"text-align: right;\">\n",
       "      <th></th>\n",
       "      <th>redcap</th>\n",
       "      <th>period</th>\n",
       "      <th>tst_rating</th>\n",
       "    </tr>\n",
       "  </thead>\n",
       "  <tbody>\n",
       "    <tr>\n",
       "      <th>0</th>\n",
       "      <td>1</td>\n",
       "      <td>pre</td>\n",
       "      <td>1.0</td>\n",
       "    </tr>\n",
       "    <tr>\n",
       "      <th>1</th>\n",
       "      <td>2</td>\n",
       "      <td>pre</td>\n",
       "      <td>1.0</td>\n",
       "    </tr>\n",
       "    <tr>\n",
       "      <th>2</th>\n",
       "      <td>4</td>\n",
       "      <td>pre</td>\n",
       "      <td>3.0</td>\n",
       "    </tr>\n",
       "    <tr>\n",
       "      <th>3</th>\n",
       "      <td>5</td>\n",
       "      <td>pre</td>\n",
       "      <td>2.0</td>\n",
       "    </tr>\n",
       "    <tr>\n",
       "      <th>4</th>\n",
       "      <td>6</td>\n",
       "      <td>pre</td>\n",
       "      <td>2.0</td>\n",
       "    </tr>\n",
       "  </tbody>\n",
       "</table>\n",
       "</div>"
      ],
      "text/plain": [
       "  redcap period  tst_rating\n",
       "0      1    pre         1.0\n",
       "1      2    pre         1.0\n",
       "2      4    pre         3.0\n",
       "3      5    pre         2.0\n",
       "4      6    pre         2.0"
      ]
     },
     "execution_count": 25,
     "metadata": {},
     "output_type": "execute_result"
    }
   ],
   "source": [
    "rc.head()"
   ]
  },
  {
   "cell_type": "markdown",
   "metadata": {},
   "source": [
    "## Visualizing\n",
    "We can look at the changes in the TST from each of the participants by device."
   ]
  },
  {
   "cell_type": "code",
   "execution_count": 26,
   "metadata": {},
   "outputs": [],
   "source": [
    "def plot_individual_tst_change(df_left,df_right):\n",
    "    \"\"\"\"\"\"\n",
    "    \n",
    "    for pt in df_left[\"analysis_id\"].unique():\n",
    "        fig, axes = plt.subplots(1,2,figsize=(20,4),gridspec_kw={\"wspace\":0.5})\n",
    "        for df_in, ax in zip([df_left,df_right],axes.flat):\n",
    "            try:\n",
    "                df = df_in.groupby([\"analysis_id\",\"period\",\"tst_rating\"]).count().reset_index()\n",
    "                df[\"n\"] = df[\"redcap_ux\"]\n",
    "                df_by_pt = df[df[\"analysis_id\"] == pt]\n",
    "                totals = df_by_pt.groupby([\"period\"]).sum().drop(\"tst_rating\",axis=\"columns\").reset_index()\n",
    "                df_by_pt = df_by_pt.merge(right=totals,on=\"period\",how=\"left\",suffixes=(\"_ind\",\"_all\"))\n",
    "                df_by_pt[\"p\"] = df_by_pt[\"n_ind\"]/df_by_pt[\"n_all\"]\n",
    "                points = sns.barplot(x=\"period\",y=\"p\",hue=\"tst_rating\",order=[\"pre\",\"during\",\"followup\"],data=df_by_pt,\n",
    "                                     palette=\"RdYlGn\",edgecolor=\"black\",ax=ax)\n",
    "                # x-axis\n",
    "                ax.set_xticklabels([\"pre\",\"during\",\"followup\"],fontsize=14)\n",
    "                ax.set_xlabel(\"Survey Period\",fontsize=16)\n",
    "                # y-axis\n",
    "                ax.set_ylim([0,1])\n",
    "                ax.set_ylabel(\"Relative Percentage\",fontsize=16)\n",
    "                ax.set_yticklabels([str(round(tick,1)) for tick in ax.get_yticks()],fontsize=14)\n",
    "                # remainder\n",
    "                for loc in [\"top\",\"right\"]:\n",
    "                    ax.spines[loc].set_visible(False)\n",
    "                ax.legend(loc=\"upper center\",bbox_to_anchor=(1.05,1),title=\"TST Rating\",title_fontsize=14,fontsize=12,frameon=False,ncol=1)\n",
    "                ax.set_title(f\"Participant: {int(pt)}\", fontsize=14,pad=0)\n",
    "            except ValueError:\n",
    "                ax.axis('off')\n",
    "\n",
    "        plt.show()\n",
    "        plt.close()"
   ]
  },
  {
   "cell_type": "code",
   "execution_count": 27,
   "metadata": {},
   "outputs": [],
   "source": [
    "def plot_individual_tst_change(df_left,df_mid,df_right):\n",
    "    \"\"\"\"\"\"\n",
    "    \n",
    "    for pt in df_left[\"analysis_id\"].unique():\n",
    "        fig, axes = plt.subplots(1,3,figsize=(24,4),gridspec_kw={\"wspace\":0.5})\n",
    "        for df_in, ax in zip([df_left,df_mid,df_right],axes.flat):\n",
    "            try:\n",
    "                df = df_in.groupby([\"analysis_id\",\"period\",\"tst_rating\"]).count().reset_index()\n",
    "                df[\"n\"] = df[\"redcap_ux\"]\n",
    "                df_by_pt = df[df[\"analysis_id\"] == pt]\n",
    "                totals = df_by_pt.groupby([\"period\"]).sum().drop(\"tst_rating\",axis=\"columns\").reset_index()\n",
    "                df_by_pt = df_by_pt.merge(right=totals,on=\"period\",how=\"left\",suffixes=(\"_ind\",\"_all\"))\n",
    "                df_by_pt[\"p\"] = df_by_pt[\"n_ind\"]/df_by_pt[\"n_all\"]\n",
    "                points = sns.barplot(x=\"period\",y=\"p\",hue=\"tst_rating\",order=[\"pre\",\"during\",\"followup\"],data=df_by_pt,\n",
    "                                     palette=\"RdYlGn\",edgecolor=\"black\",ax=ax)\n",
    "                # x-axis\n",
    "                ax.set_xticklabels([\"pre\",\"during\",\"followup\"],fontsize=14)\n",
    "                ax.set_xlabel(\"Survey Period\",fontsize=16)\n",
    "                # y-axis\n",
    "                ax.set_ylim([0,1])\n",
    "                ax.set_ylabel(\"Relative Percentage\",fontsize=16)\n",
    "                ax.set_yticklabels([str(round(tick,1)) for tick in ax.get_yticks()],fontsize=14)\n",
    "                # remainder\n",
    "                for loc in [\"top\",\"right\"]:\n",
    "                    ax.spines[loc].set_visible(False)\n",
    "                ax.legend(loc=\"upper center\",bbox_to_anchor=(1.05,1),title=\"TST Rating\",title_fontsize=14,fontsize=12,frameon=False,ncol=1)\n",
    "                ax.set_title(f\"Participant: {int(pt)}\", fontsize=14,pad=0)\n",
    "            except ValueError:\n",
    "                ax.axis('off')\n",
    "\n",
    "        plt.show()\n",
    "        plt.close()"
   ]
  },
  {
   "cell_type": "code",
   "execution_count": 29,
   "metadata": {},
   "outputs": [
    {
     "ename": "KeyError",
     "evalue": "'analysis_id'",
     "output_type": "error",
     "traceback": [
      "\u001b[0;31m---------------------------------------------------------------------------\u001b[0m",
      "\u001b[0;31mKeyError\u001b[0m                                  Traceback (most recent call last)",
      "\u001b[0;32m/Library/Frameworks/Python.framework/Versions/3.7/lib/python3.7/site-packages/pandas/core/indexes/base.py\u001b[0m in \u001b[0;36mget_loc\u001b[0;34m(self, key, method, tolerance)\u001b[0m\n\u001b[1;32m   2897\u001b[0m             \u001b[0;32mtry\u001b[0m\u001b[0;34m:\u001b[0m\u001b[0;34m\u001b[0m\u001b[0m\n\u001b[0;32m-> 2898\u001b[0;31m                 \u001b[0;32mreturn\u001b[0m \u001b[0mself\u001b[0m\u001b[0;34m.\u001b[0m\u001b[0m_engine\u001b[0m\u001b[0;34m.\u001b[0m\u001b[0mget_loc\u001b[0m\u001b[0;34m(\u001b[0m\u001b[0mcasted_key\u001b[0m\u001b[0;34m)\u001b[0m\u001b[0;34m\u001b[0m\u001b[0m\n\u001b[0m\u001b[1;32m   2899\u001b[0m             \u001b[0;32mexcept\u001b[0m \u001b[0mKeyError\u001b[0m \u001b[0;32mas\u001b[0m \u001b[0merr\u001b[0m\u001b[0;34m:\u001b[0m\u001b[0;34m\u001b[0m\u001b[0m\n",
      "\u001b[0;32mpandas/_libs/index.pyx\u001b[0m in \u001b[0;36mpandas._libs.index.IndexEngine.get_loc\u001b[0;34m()\u001b[0m\n",
      "\u001b[0;32mpandas/_libs/index.pyx\u001b[0m in \u001b[0;36mpandas._libs.index.IndexEngine.get_loc\u001b[0;34m()\u001b[0m\n",
      "\u001b[0;32mpandas/_libs/hashtable_class_helper.pxi\u001b[0m in \u001b[0;36mpandas._libs.hashtable.PyObjectHashTable.get_item\u001b[0;34m()\u001b[0m\n",
      "\u001b[0;32mpandas/_libs/hashtable_class_helper.pxi\u001b[0m in \u001b[0;36mpandas._libs.hashtable.PyObjectHashTable.get_item\u001b[0;34m()\u001b[0m\n",
      "\u001b[0;31mKeyError\u001b[0m: 'analysis_id'",
      "\nThe above exception was the direct cause of the following exception:\n",
      "\u001b[0;31mKeyError\u001b[0m                                  Traceback (most recent call last)",
      "\u001b[0;32m<ipython-input-29-6cc14d3c7ba9>\u001b[0m in \u001b[0;36m<module>\u001b[0;34m\u001b[0m\n\u001b[0;32m----> 1\u001b[0;31m \u001b[0mplot_individual_tst_change\u001b[0m\u001b[0;34m(\u001b[0m\u001b[0mrc\u001b[0m\u001b[0;34m,\u001b[0m\u001b[0mfb_id\u001b[0m\u001b[0;34m,\u001b[0m\u001b[0mbw_id\u001b[0m\u001b[0;34m)\u001b[0m\u001b[0;34m\u001b[0m\u001b[0m\n\u001b[0m",
      "\u001b[0;32m<ipython-input-27-f1032b99ebab>\u001b[0m in \u001b[0;36mplot_individual_tst_change\u001b[0;34m(df_left, df_mid, df_right)\u001b[0m\n\u001b[1;32m      2\u001b[0m     \u001b[0;34m\"\"\"\"\"\"\u001b[0m\u001b[0;34m\u001b[0m\u001b[0m\n\u001b[1;32m      3\u001b[0m \u001b[0;34m\u001b[0m\u001b[0m\n\u001b[0;32m----> 4\u001b[0;31m     \u001b[0;32mfor\u001b[0m \u001b[0mpt\u001b[0m \u001b[0;32min\u001b[0m \u001b[0mdf_left\u001b[0m\u001b[0;34m[\u001b[0m\u001b[0;34m\"analysis_id\"\u001b[0m\u001b[0;34m]\u001b[0m\u001b[0;34m.\u001b[0m\u001b[0munique\u001b[0m\u001b[0;34m(\u001b[0m\u001b[0;34m)\u001b[0m\u001b[0;34m:\u001b[0m\u001b[0;34m\u001b[0m\u001b[0m\n\u001b[0m\u001b[1;32m      5\u001b[0m         \u001b[0mfig\u001b[0m\u001b[0;34m,\u001b[0m \u001b[0maxes\u001b[0m \u001b[0;34m=\u001b[0m \u001b[0mplt\u001b[0m\u001b[0;34m.\u001b[0m\u001b[0msubplots\u001b[0m\u001b[0;34m(\u001b[0m\u001b[0;36m1\u001b[0m\u001b[0;34m,\u001b[0m\u001b[0;36m3\u001b[0m\u001b[0;34m,\u001b[0m\u001b[0mfigsize\u001b[0m\u001b[0;34m=\u001b[0m\u001b[0;34m(\u001b[0m\u001b[0;36m24\u001b[0m\u001b[0;34m,\u001b[0m\u001b[0;36m4\u001b[0m\u001b[0;34m)\u001b[0m\u001b[0;34m,\u001b[0m\u001b[0mgridspec_kw\u001b[0m\u001b[0;34m=\u001b[0m\u001b[0;34m{\u001b[0m\u001b[0;34m\"wspace\"\u001b[0m\u001b[0;34m:\u001b[0m\u001b[0;36m0.5\u001b[0m\u001b[0;34m}\u001b[0m\u001b[0;34m)\u001b[0m\u001b[0;34m\u001b[0m\u001b[0m\n\u001b[1;32m      6\u001b[0m         \u001b[0;32mfor\u001b[0m \u001b[0mdf_in\u001b[0m\u001b[0;34m,\u001b[0m \u001b[0max\u001b[0m \u001b[0;32min\u001b[0m \u001b[0mzip\u001b[0m\u001b[0;34m(\u001b[0m\u001b[0;34m[\u001b[0m\u001b[0mdf_left\u001b[0m\u001b[0;34m,\u001b[0m\u001b[0mdf_mid\u001b[0m\u001b[0;34m,\u001b[0m\u001b[0mdf_right\u001b[0m\u001b[0;34m]\u001b[0m\u001b[0;34m,\u001b[0m\u001b[0maxes\u001b[0m\u001b[0;34m.\u001b[0m\u001b[0mflat\u001b[0m\u001b[0;34m)\u001b[0m\u001b[0;34m:\u001b[0m\u001b[0;34m\u001b[0m\u001b[0m\n",
      "\u001b[0;32m/Library/Frameworks/Python.framework/Versions/3.7/lib/python3.7/site-packages/pandas/core/frame.py\u001b[0m in \u001b[0;36m__getitem__\u001b[0;34m(self, key)\u001b[0m\n\u001b[1;32m   2904\u001b[0m             \u001b[0;32mif\u001b[0m \u001b[0mself\u001b[0m\u001b[0;34m.\u001b[0m\u001b[0mcolumns\u001b[0m\u001b[0;34m.\u001b[0m\u001b[0mnlevels\u001b[0m \u001b[0;34m>\u001b[0m \u001b[0;36m1\u001b[0m\u001b[0;34m:\u001b[0m\u001b[0;34m\u001b[0m\u001b[0m\n\u001b[1;32m   2905\u001b[0m                 \u001b[0;32mreturn\u001b[0m \u001b[0mself\u001b[0m\u001b[0;34m.\u001b[0m\u001b[0m_getitem_multilevel\u001b[0m\u001b[0;34m(\u001b[0m\u001b[0mkey\u001b[0m\u001b[0;34m)\u001b[0m\u001b[0;34m\u001b[0m\u001b[0m\n\u001b[0;32m-> 2906\u001b[0;31m             \u001b[0mindexer\u001b[0m \u001b[0;34m=\u001b[0m \u001b[0mself\u001b[0m\u001b[0;34m.\u001b[0m\u001b[0mcolumns\u001b[0m\u001b[0;34m.\u001b[0m\u001b[0mget_loc\u001b[0m\u001b[0;34m(\u001b[0m\u001b[0mkey\u001b[0m\u001b[0;34m)\u001b[0m\u001b[0;34m\u001b[0m\u001b[0m\n\u001b[0m\u001b[1;32m   2907\u001b[0m             \u001b[0;32mif\u001b[0m \u001b[0mis_integer\u001b[0m\u001b[0;34m(\u001b[0m\u001b[0mindexer\u001b[0m\u001b[0;34m)\u001b[0m\u001b[0;34m:\u001b[0m\u001b[0;34m\u001b[0m\u001b[0m\n\u001b[1;32m   2908\u001b[0m                 \u001b[0mindexer\u001b[0m \u001b[0;34m=\u001b[0m \u001b[0;34m[\u001b[0m\u001b[0mindexer\u001b[0m\u001b[0;34m]\u001b[0m\u001b[0;34m\u001b[0m\u001b[0m\n",
      "\u001b[0;32m/Library/Frameworks/Python.framework/Versions/3.7/lib/python3.7/site-packages/pandas/core/indexes/base.py\u001b[0m in \u001b[0;36mget_loc\u001b[0;34m(self, key, method, tolerance)\u001b[0m\n\u001b[1;32m   2898\u001b[0m                 \u001b[0;32mreturn\u001b[0m \u001b[0mself\u001b[0m\u001b[0;34m.\u001b[0m\u001b[0m_engine\u001b[0m\u001b[0;34m.\u001b[0m\u001b[0mget_loc\u001b[0m\u001b[0;34m(\u001b[0m\u001b[0mcasted_key\u001b[0m\u001b[0;34m)\u001b[0m\u001b[0;34m\u001b[0m\u001b[0m\n\u001b[1;32m   2899\u001b[0m             \u001b[0;32mexcept\u001b[0m \u001b[0mKeyError\u001b[0m \u001b[0;32mas\u001b[0m \u001b[0merr\u001b[0m\u001b[0;34m:\u001b[0m\u001b[0;34m\u001b[0m\u001b[0m\n\u001b[0;32m-> 2900\u001b[0;31m                 \u001b[0;32mraise\u001b[0m \u001b[0mKeyError\u001b[0m\u001b[0;34m(\u001b[0m\u001b[0mkey\u001b[0m\u001b[0;34m)\u001b[0m \u001b[0;32mfrom\u001b[0m \u001b[0merr\u001b[0m\u001b[0;34m\u001b[0m\u001b[0m\n\u001b[0m\u001b[1;32m   2901\u001b[0m \u001b[0;34m\u001b[0m\u001b[0m\n\u001b[1;32m   2902\u001b[0m         \u001b[0;32mif\u001b[0m \u001b[0mtolerance\u001b[0m \u001b[0;32mis\u001b[0m \u001b[0;32mnot\u001b[0m \u001b[0;32mNone\u001b[0m\u001b[0;34m:\u001b[0m\u001b[0;34m\u001b[0m\u001b[0m\n",
      "\u001b[0;31mKeyError\u001b[0m: 'analysis_id'"
     ]
    }
   ],
   "source": [
    "plot_individual_tst_change(rc,fb_id,bw_id)"
   ]
  },
  {
   "cell_type": "markdown",
   "metadata": {},
   "source": [
    "### Fitbit"
   ]
  },
  {
   "cell_type": "code",
   "execution_count": null,
   "metadata": {
    "scrolled": true
   },
   "outputs": [],
   "source": [
    "plot_individual_tst_change(fb_id,bw_id)"
   ]
  },
  {
   "cell_type": "markdown",
   "metadata": {},
   "source": [
    "### Beiwe"
   ]
  },
  {
   "cell_type": "code",
   "execution_count": null,
   "metadata": {
    "scrolled": true
   },
   "outputs": [],
   "source": [
    "plot_individual_tst_change(bw_id,fb_id)"
   ]
  },
  {
   "cell_type": "code",
   "execution_count": null,
   "metadata": {},
   "outputs": [],
   "source": []
  }
 ],
 "metadata": {
  "kernelspec": {
   "display_name": "Python 3",
   "language": "python",
   "name": "python3"
  },
  "language_info": {
   "codemirror_mode": {
    "name": "ipython",
    "version": 3
   },
   "file_extension": ".py",
   "mimetype": "text/x-python",
   "name": "python",
   "nbconvert_exporter": "python",
   "pygments_lexer": "ipython3",
   "version": "3.7.0"
  },
  "toc": {
   "base_numbering": 1,
   "nav_menu": {},
   "number_sections": false,
   "sideBar": false,
   "skip_h1_title": false,
   "title_cell": "Table of Contents",
   "title_sidebar": "Contents",
   "toc_cell": false,
   "toc_position": {},
   "toc_section_display": false,
   "toc_window_display": false
  }
 },
 "nbformat": 4,
 "nbformat_minor": 4
}
