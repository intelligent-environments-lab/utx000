{
 "cells": [
  {
   "cell_type": "markdown",
   "metadata": {},
   "source": [
    "# Fitbit Exploratory Analysis\n",
    "This notebook explores Fitbit metrics as outcomes to some explanatory variable. Again, we explore all the different modalities, but always with some Fitbit metric as the target value - and in some cases as both the explanatory and target variables. \n",
    "\n",
    "The notebook is organized as follows:\n",
    "1. [Data Import and Pre-Processing](#data_import)\n",
    "2. [Further Data Cleaning]()\n",
    "3. [Visualization and Analysis]()"
   ]
  },
  {
   "cell_type": "markdown",
   "metadata": {},
   "source": [
    "<a id='data_import'></a>\n",
    "# Data Import\n",
    "The following cells import the various data to help with visualization and analysis"
   ]
  },
  {
   "cell_type": "code",
   "execution_count": 1,
   "metadata": {},
   "outputs": [],
   "source": [
    "import pandas as pd\n",
    "import numpy as np\n",
    "import os\n",
    "from datetime import datetime"
   ]
  },
  {
   "cell_type": "markdown",
   "metadata": {},
   "source": [
    "# Fitbit Data"
   ]
  }
 ],
 "metadata": {
  "kernelspec": {
   "display_name": "Python 3",
   "language": "python",
   "name": "python3"
  },
  "language_info": {
   "codemirror_mode": {
    "name": "ipython",
    "version": 3
   },
   "file_extension": ".py",
   "mimetype": "text/x-python",
   "name": "python",
   "nbconvert_exporter": "python",
   "pygments_lexer": "ipython3",
   "version": "3.7.6"
  }
 },
 "nbformat": 4,
 "nbformat_minor": 4
}
