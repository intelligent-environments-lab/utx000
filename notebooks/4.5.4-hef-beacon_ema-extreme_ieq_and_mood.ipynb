{
 "cells": [
  {
   "cell_type": "markdown",
   "metadata": {},
   "source": [
    "# IEQ and Survey Response Analysis\n",
    "Exploring the relationship between the categorical survey responses from the EMA and the IEQ measurements from the Beacon"
   ]
  },
  {
   "cell_type": "code",
   "execution_count": 1,
   "metadata": {},
   "outputs": [],
   "source": [
    "import warnings\n",
    "warnings.filterwarnings('ignore')"
   ]
  },
  {
   "cell_type": "markdown",
   "metadata": {},
   "source": [
    "# Extreme IEQ's Affect on Mood Reports\n",
    "Do more extreme measurements influence survey results?"
   ]
  },
  {
   "cell_type": "code",
   "execution_count": 2,
   "metadata": {},
   "outputs": [],
   "source": [
    "import os\n",
    "import sys\n",
    "sys.path.append('../')\n",
    "\n",
    "from src.visualization import visualize\n",
    "\n",
    "import pandas as pd\n",
    "pd.set_option('display.max_columns', 200)\n",
    "import numpy as np\n",
    "\n",
    "from datetime import datetime, timedelta\n",
    "\n",
    "import matplotlib.pyplot as plt\n",
    "import seaborn as sns\n",
    "import matplotlib.dates as mdates\n",
    "\n",
    "from scipy import stats\n",
    "from sklearn.linear_model import LinearRegression"
   ]
  },
  {
   "cell_type": "markdown",
   "metadata": {},
   "source": [
    "<a id='toc'></a>"
   ]
  },
  {
   "cell_type": "markdown",
   "metadata": {},
   "source": [
    "# Table of Contents"
   ]
  },
  {
   "cell_type": "markdown",
   "metadata": {},
   "source": [
    "1. [Data Import](#data_import)\n",
    "2. [Pre-Processing](#pre_processing)\n",
    "3. [Inspection](#inspection)\n",
    "4. [Analysis](#analysis)"
   ]
  },
  {
   "cell_type": "markdown",
   "metadata": {},
   "source": [
    "---"
   ]
  },
  {
   "cell_type": "markdown",
   "metadata": {},
   "source": [
    "<a id='data_import'></a>"
   ]
  },
  {
   "cell_type": "markdown",
   "metadata": {},
   "source": [
    "[Back to ToC](#toc)\n",
    "# Data Import\n",
    "We have two datasets to import:"
   ]
  },
  {
   "cell_type": "markdown",
   "metadata": {},
   "source": [
    "## EMAs Completed at Home\n",
    "Intersection between GPS coordinates, home address, and the completion of the EMAs."
   ]
  },
  {
   "cell_type": "code",
   "execution_count": 3,
   "metadata": {},
   "outputs": [
    {
     "data": {
      "text/html": [
       "<div>\n",
       "<style scoped>\n",
       "    .dataframe tbody tr th:only-of-type {\n",
       "        vertical-align: middle;\n",
       "    }\n",
       "\n",
       "    .dataframe tbody tr th {\n",
       "        vertical-align: top;\n",
       "    }\n",
       "\n",
       "    .dataframe thead th {\n",
       "        text-align: right;\n",
       "    }\n",
       "</style>\n",
       "<table border=\"1\" class=\"dataframe\">\n",
       "  <thead>\n",
       "    <tr style=\"text-align: right;\">\n",
       "      <th></th>\n",
       "      <th>beiwe</th>\n",
       "      <th>content</th>\n",
       "      <th>stress</th>\n",
       "      <th>lonely</th>\n",
       "      <th>sad</th>\n",
       "      <th>energy</th>\n",
       "      <th>redcap</th>\n",
       "      <th>beacon</th>\n",
       "      <th>time_at_home</th>\n",
       "      <th>discontent</th>\n",
       "    </tr>\n",
       "    <tr>\n",
       "      <th>timestamp</th>\n",
       "      <th></th>\n",
       "      <th></th>\n",
       "      <th></th>\n",
       "      <th></th>\n",
       "      <th></th>\n",
       "      <th></th>\n",
       "      <th></th>\n",
       "      <th></th>\n",
       "      <th></th>\n",
       "      <th></th>\n",
       "    </tr>\n",
       "  </thead>\n",
       "  <tbody>\n",
       "    <tr>\n",
       "      <th>2020-05-15 09:21:05</th>\n",
       "      <td>mm69prai</td>\n",
       "      <td>1.0</td>\n",
       "      <td>0.0</td>\n",
       "      <td>1.0</td>\n",
       "      <td>1.0</td>\n",
       "      <td>1.0</td>\n",
       "      <td>62</td>\n",
       "      <td>13.0</td>\n",
       "      <td>10412.0</td>\n",
       "      <td>2.0</td>\n",
       "    </tr>\n",
       "    <tr>\n",
       "      <th>2020-05-15 09:25:04</th>\n",
       "      <td>vr9j5rry</td>\n",
       "      <td>2.0</td>\n",
       "      <td>0.0</td>\n",
       "      <td>0.0</td>\n",
       "      <td>0.0</td>\n",
       "      <td>3.0</td>\n",
       "      <td>34</td>\n",
       "      <td>25.0</td>\n",
       "      <td>29405.0</td>\n",
       "      <td>1.0</td>\n",
       "    </tr>\n",
       "    <tr>\n",
       "      <th>2020-05-15 12:02:43</th>\n",
       "      <td>kyj367pi</td>\n",
       "      <td>2.0</td>\n",
       "      <td>0.0</td>\n",
       "      <td>1.0</td>\n",
       "      <td>0.0</td>\n",
       "      <td>2.0</td>\n",
       "      <td>10</td>\n",
       "      <td>1.0</td>\n",
       "      <td>3774.0</td>\n",
       "      <td>1.0</td>\n",
       "    </tr>\n",
       "    <tr>\n",
       "      <th>2020-05-15 12:59:31</th>\n",
       "      <td>lkkjddam</td>\n",
       "      <td>1.0</td>\n",
       "      <td>1.0</td>\n",
       "      <td>2.0</td>\n",
       "      <td>1.0</td>\n",
       "      <td>2.0</td>\n",
       "      <td>12</td>\n",
       "      <td>21.0</td>\n",
       "      <td>5536.0</td>\n",
       "      <td>2.0</td>\n",
       "    </tr>\n",
       "    <tr>\n",
       "      <th>2020-05-15 17:28:54</th>\n",
       "      <td>9jtzsuu8</td>\n",
       "      <td>2.0</td>\n",
       "      <td>1.0</td>\n",
       "      <td>0.0</td>\n",
       "      <td>0.0</td>\n",
       "      <td>2.0</td>\n",
       "      <td>36</td>\n",
       "      <td>15.0</td>\n",
       "      <td>31643.0</td>\n",
       "      <td>1.0</td>\n",
       "    </tr>\n",
       "  </tbody>\n",
       "</table>\n",
       "</div>"
      ],
      "text/plain": [
       "                        beiwe  content  stress  lonely  sad  energy  redcap  \\\n",
       "timestamp                                                                     \n",
       "2020-05-15 09:21:05  mm69prai      1.0     0.0     1.0  1.0     1.0      62   \n",
       "2020-05-15 09:25:04  vr9j5rry      2.0     0.0     0.0  0.0     3.0      34   \n",
       "2020-05-15 12:02:43  kyj367pi      2.0     0.0     1.0  0.0     2.0      10   \n",
       "2020-05-15 12:59:31  lkkjddam      1.0     1.0     2.0  1.0     2.0      12   \n",
       "2020-05-15 17:28:54  9jtzsuu8      2.0     1.0     0.0  0.0     2.0      36   \n",
       "\n",
       "                     beacon  time_at_home  discontent  \n",
       "timestamp                                              \n",
       "2020-05-15 09:21:05    13.0       10412.0         2.0  \n",
       "2020-05-15 09:25:04    25.0       29405.0         1.0  \n",
       "2020-05-15 12:02:43     1.0        3774.0         1.0  \n",
       "2020-05-15 12:59:31    21.0        5536.0         2.0  \n",
       "2020-05-15 17:28:54    15.0       31643.0         1.0  "
      ]
     },
     "execution_count": 3,
     "metadata": {},
     "output_type": "execute_result"
    }
   ],
   "source": [
    "ema = pd.read_csv(\"../data/processed/beiwe-ema_at_home_v2-ux_s20.csv\",index_col=\"timestamp\",parse_dates=[\"timestamp\"],infer_datetime_format=True)\n",
    "for column in ema.columns:\n",
    "    if column != \"beiwe\":\n",
    "        ema[column] = pd.to_numeric(ema[column])\n",
    "ema[\"discontent\"] = 3 - ema[\"content\"]\n",
    "ema.head()"
   ]
  },
  {
   "cell_type": "markdown",
   "metadata": {},
   "source": [
    "## IEQ Data\n",
    "We will be using all of the IEQ data to identify these extreme events."
   ]
  },
  {
   "cell_type": "code",
   "execution_count": 4,
   "metadata": {},
   "outputs": [
    {
     "data": {
      "text/html": [
       "<div>\n",
       "<style scoped>\n",
       "    .dataframe tbody tr th:only-of-type {\n",
       "        vertical-align: middle;\n",
       "    }\n",
       "\n",
       "    .dataframe tbody tr th {\n",
       "        vertical-align: top;\n",
       "    }\n",
       "\n",
       "    .dataframe thead th {\n",
       "        text-align: right;\n",
       "    }\n",
       "</style>\n",
       "<table border=\"1\" class=\"dataframe\">\n",
       "  <thead>\n",
       "    <tr style=\"text-align: right;\">\n",
       "      <th></th>\n",
       "      <th>tvoc</th>\n",
       "      <th>co2</th>\n",
       "      <th>pm2p5_mass</th>\n",
       "      <th>temperature_c</th>\n",
       "      <th>rh</th>\n",
       "      <th>beiwe</th>\n",
       "      <th>fitbit</th>\n",
       "    </tr>\n",
       "    <tr>\n",
       "      <th>timestamp</th>\n",
       "      <th></th>\n",
       "      <th></th>\n",
       "      <th></th>\n",
       "      <th></th>\n",
       "      <th></th>\n",
       "      <th></th>\n",
       "      <th></th>\n",
       "    </tr>\n",
       "  </thead>\n",
       "  <tbody>\n",
       "    <tr>\n",
       "      <th>2020-06-08 13:00:00</th>\n",
       "      <td>65.783786</td>\n",
       "      <td>NaN</td>\n",
       "      <td>24.767709</td>\n",
       "      <td>16.244700</td>\n",
       "      <td>46.586667</td>\n",
       "      <td>kyj367pi</td>\n",
       "      <td>24.0</td>\n",
       "    </tr>\n",
       "    <tr>\n",
       "      <th>2020-06-08 13:02:00</th>\n",
       "      <td>65.973889</td>\n",
       "      <td>NaN</td>\n",
       "      <td>25.379307</td>\n",
       "      <td>16.257887</td>\n",
       "      <td>46.581250</td>\n",
       "      <td>kyj367pi</td>\n",
       "      <td>24.0</td>\n",
       "    </tr>\n",
       "    <tr>\n",
       "      <th>2020-06-08 13:04:00</th>\n",
       "      <td>66.832566</td>\n",
       "      <td>NaN</td>\n",
       "      <td>24.874103</td>\n",
       "      <td>16.269523</td>\n",
       "      <td>46.597059</td>\n",
       "      <td>kyj367pi</td>\n",
       "      <td>24.0</td>\n",
       "    </tr>\n",
       "    <tr>\n",
       "      <th>2020-06-08 13:06:00</th>\n",
       "      <td>67.746837</td>\n",
       "      <td>NaN</td>\n",
       "      <td>24.503767</td>\n",
       "      <td>16.279865</td>\n",
       "      <td>46.619444</td>\n",
       "      <td>kyj367pi</td>\n",
       "      <td>24.0</td>\n",
       "    </tr>\n",
       "    <tr>\n",
       "      <th>2020-06-08 13:08:00</th>\n",
       "      <td>68.488233</td>\n",
       "      <td>NaN</td>\n",
       "      <td>24.824221</td>\n",
       "      <td>16.289119</td>\n",
       "      <td>46.639474</td>\n",
       "      <td>kyj367pi</td>\n",
       "      <td>24.0</td>\n",
       "    </tr>\n",
       "  </tbody>\n",
       "</table>\n",
       "</div>"
      ],
      "text/plain": [
       "                          tvoc  co2  pm2p5_mass  temperature_c         rh  \\\n",
       "timestamp                                                                   \n",
       "2020-06-08 13:00:00  65.783786  NaN   24.767709      16.244700  46.586667   \n",
       "2020-06-08 13:02:00  65.973889  NaN   25.379307      16.257887  46.581250   \n",
       "2020-06-08 13:04:00  66.832566  NaN   24.874103      16.269523  46.597059   \n",
       "2020-06-08 13:06:00  67.746837  NaN   24.503767      16.279865  46.619444   \n",
       "2020-06-08 13:08:00  68.488233  NaN   24.824221      16.289119  46.639474   \n",
       "\n",
       "                        beiwe  fitbit  \n",
       "timestamp                              \n",
       "2020-06-08 13:00:00  kyj367pi    24.0  \n",
       "2020-06-08 13:02:00  kyj367pi    24.0  \n",
       "2020-06-08 13:04:00  kyj367pi    24.0  \n",
       "2020-06-08 13:06:00  kyj367pi    24.0  \n",
       "2020-06-08 13:08:00  kyj367pi    24.0  "
      ]
     },
     "execution_count": 4,
     "metadata": {},
     "output_type": "execute_result"
    }
   ],
   "source": [
    "ieq = pd.read_csv('../data/processed/beacon-ux_s20.csv',index_col=\"timestamp\",parse_dates=[\"timestamp\"],infer_datetime_format=True)\n",
    "ieq.drop([\"beacon\",\"redcap\",\"pm1_number\",\"pm2p5_number\",\"pm10_number\",\"pm1_mass\",\"pm10_mass\",\"no2\",\"lux\",\"co\"],axis=1,inplace=True)\n",
    "for column in ieq.columns:\n",
    "    if column != \"beiwe\":\n",
    "        ieq[column] = pd.to_numeric(ieq[column])\n",
    "ieq.head()"
   ]
  },
  {
   "cell_type": "markdown",
   "metadata": {},
   "source": [
    "[Back to Data Import](#data_import)"
   ]
  },
  {
   "cell_type": "markdown",
   "metadata": {},
   "source": [
    "---"
   ]
  },
  {
   "cell_type": "markdown",
   "metadata": {},
   "source": [
    "<a id='pre_processing'></a>"
   ]
  },
  {
   "cell_type": "markdown",
   "metadata": {},
   "source": [
    "[Back to ToC](#toc)\n",
    "# Pre-Processing"
   ]
  },
  {
   "cell_type": "markdown",
   "metadata": {},
   "source": [
    "## Getting Periods with Extreme IEQ Measurements\n",
    "Looking for periods in the IEQ data that are above or below a certain threshold."
   ]
  },
  {
   "cell_type": "code",
   "execution_count": 13,
   "metadata": {},
   "outputs": [],
   "source": [
    "def get_extreme(df_in,ieq_param,n_std=2,above=True):\n",
    "    \"\"\"\n",
    "    Gets the periods of IEQ measurements for the given parameter above or below a certain threshold\n",
    "    \n",
    "    Parameters\n",
    "    ----------\n",
    "    df_in : DataFrame\n",
    "        IEQ data for all participants\n",
    "    ieq_param : string\n",
    "        specifies which column in df_in to consider\n",
    "    n_std : int or float\n",
    "        number of standard deviations to consider for extreme\n",
    "    above : boolean\n",
    "        whether to look for measurements above or below the mean - if None, considers both\n",
    "        \n",
    "    Returns\n",
    "    -------\n",
    "    df_extreme : \n",
    "    \"\"\"\n",
    "    df = df_in.copy()\n",
    "    df_extreme = pd.DataFrame()\n",
    "    for pt in df[\"beiwe\"].unique():\n",
    "        df_pt = df[df[\"beiwe\"] == pt]\n",
    "        try:\n",
    "            df_pt_ieq = df_pt[[ieq_param,\"beiwe\"]]\n",
    "        except KeyError:\n",
    "            print(\"IEQ parameter not given in dataframe\")\n",
    "            return\n",
    "        \n",
    "        avg = np.nanmean(df_pt_ieq[ieq_param])\n",
    "        std = np.nanstd(df_pt_ieq[ieq_param])\n",
    "        if above == True:\n",
    "            df_pt_extreme = df_pt_ieq[df_pt_ieq[ieq_param] > avg + n_std*std]\n",
    "        elif above == False:\n",
    "            df_pt_extreme = df_pt_ieq[df_pt_ieq[ieq_param] < avg - n_std*std]\n",
    "        else:\n",
    "            df_pt_extreme = df_pt_ieq[(df_pt_ieq[ieq_param] < avg - n_std*std) | (df_pt_ieq[ieq_param] > avg + n_std*std)]\n",
    "            \n",
    "        df_agg = df_pt_extreme.reset_index()\n",
    "        df_agg[\"start\"] = df_agg[\"timestamp\"]\n",
    "        df_agg.drop(\"beiwe\",axis=\"columns\",inplace=True)\n",
    "        df_agg = (\n",
    "            df_agg.groupby(\n",
    "                df_agg['timestamp'].diff().gt(pd.Timedelta(minutes=2)).cumsum()\n",
    "            ).agg({\n",
    "                'timestamp': 'last', ieq_param: 'mean','start': 'first'\n",
    "            }).set_index('timestamp').rename_axis(index=\"end_time\")\n",
    "        )\n",
    "        df_agg[\"beiwe\"] = pt\n",
    "        df_agg[\"extreme_minutes\"] = (df_agg.index - df_agg[\"start\"]).dt.total_seconds()/60\n",
    "        df_agg[\"mean\"] = avg\n",
    "        df_agg[\"std\"] = std\n",
    "        df_agg.drop(\"start\",axis=\"columns\",inplace=True)\n",
    "        df_extreme = df_extreme.append(df_agg)\n",
    "    \n",
    "    return df_extreme"
   ]
  },
  {
   "cell_type": "markdown",
   "metadata": {},
   "source": [
    "## Combining Extreme IEQ events with Surveys\n",
    "Now that we have periods with the extreme IEQ measurements, we can merge them with the surveys to get a sense of how the two relate."
   ]
  },
  {
   "cell_type": "code",
   "execution_count": 20,
   "metadata": {},
   "outputs": [],
   "source": [
    "def combine_ieq_with_ema(ieq_in, ema_in, day_threshold=0.25):\n",
    "    \"\"\"\n",
    "    Combines ieq and ema data based on timestamps of extreme events and ema submissions\n",
    "    \"\"\"\n",
    "    ieq = ieq_in.reset_index()\n",
    "    ema = ema_in.reset_index()\n",
    "    df = pd.DataFrame()\n",
    "    for pt in ieq_in[\"beiwe\"].unique():\n",
    "        ieq_pt = ieq[ieq[\"beiwe\"] == pt]\n",
    "        ema_pt = ema[ema[\"beiwe\"] == pt]\n",
    "        for event in ieq_pt[\"end_time\"]:\n",
    "            for submission in ema_pt[\"timestamp\"]:\n",
    "                delay = (submission - event).total_seconds() / 60 / 60 / 24\n",
    "                if submission > event and delay < day_threshold:\n",
    "                    ieq_pt[\"delay_days\"] = delay\n",
    "                    df = df.append(ieq_pt[ieq_pt[\"end_time\"] == event].merge(ema_pt[ema_pt[\"timestamp\"] == submission],on=[\"beiwe\"]))\n",
    "                    break\n",
    "    \n",
    "    df.drop_duplicates(subset=[\"timestamp\"],keep=\"last\",inplace=True)\n",
    "    return df"
   ]
  },
  {
   "cell_type": "code",
   "execution_count": 21,
   "metadata": {},
   "outputs": [],
   "source": [
    "combine_test = combine_ieq_with_ema(extreme,ema)"
   ]
  },
  {
   "cell_type": "markdown",
   "metadata": {},
   "source": [
    "## Evaluating\n",
    "Now that we have the link between the mood and the extreme IEQ events, we can loop through each of the IEQ parameters and see if the _extreme_ events lead to any differences.\n",
    "\n",
    "Some tests to evaluate the differences in the responses:\n",
    "* Mann-Whitney U-Test\n",
    "* Ordinal Regression"
   ]
  },
  {
   "cell_type": "code",
   "execution_count": 23,
   "metadata": {},
   "outputs": [],
   "source": [
    "def compare_mood_scores(extreme_in,ema_in,moods=[\"discontent\",\"stress\",\"sad\",\"lonely\",\"energy\"],f=np.nanmean):\n",
    "    \"\"\"\n",
    "    Compares the mood scores between the extreme and non-extreme cases\n",
    "    \"\"\"\n",
    "    res = {\"mean_normal\":[],\"mean_ext\":[],\"p\":[]}\n",
    "    extreme = extreme_in.copy()\n",
    "    ema = ema_in.copy()\n",
    "    normal_ema = ema[~ema.index.isin(extreme[\"timestamp\"])]\n",
    "    normal_ema = normal_ema[normal_ema[\"beiwe\"].isin(extreme[\"beiwe\"].unique())].sort_values(\"beiwe\")\n",
    "    print(f\"Normal: \\t{len(normal_ema)}\\nExtreme:\\t{len(extreme)}\")\n",
    "    for mood in moods:\n",
    "        ext_mean = round(np.nanmean(extreme[mood]),2)\n",
    "        norm_mean = round(np.nanmean(normal_ema[mood]),2)\n",
    "        ext_std = round(np.nanstd(extreme[mood]),2)\n",
    "        norm_std = round(np.nanstd(normal_ema[mood]),2)\n",
    "        u, p = stats.mannwhitneyu(normal_ema[mood].values,extreme[mood].values)\n",
    "        if p < 0.05:\n",
    "            p = f\"{round(p,3)}*\"\n",
    "        elif p < 0.1:\n",
    "            p = f\"{round(p,3)}**\"\n",
    "        else:\n",
    "            p = f\"{round(p,3)}\"\n",
    "        for key, val in zip(res.keys(),[(norm_mean,norm_std),(ext_mean,ext_std),p]):\n",
    "            if len(val) == 2:\n",
    "                res[key].append(f\"{val[0]} ({val[1]})\")\n",
    "            else:\n",
    "                res[key].append(val)\n",
    "        #print(f\"\\tExtreme ({len(extreme[mood])}):\\t{ext_response}\\n\\tNormal ({len(normal_ema[mood])}):\\t{norm_response}\")\n",
    "        #print(f\"\\tStatistic:\\t{round(p,3)}\")\n",
    "    print(pd.DataFrame(data=res,index=moods).to_latex())"
   ]
  },
  {
   "cell_type": "code",
   "execution_count": 24,
   "metadata": {},
   "outputs": [
    {
     "name": "stdout",
     "output_type": "stream",
     "text": [
      "Normal: \t495\n",
      "Extreme:\t43\n",
      "\\begin{tabular}{llll}\n",
      "\\toprule\n",
      "{} &  mean\\_normal &     mean\\_ext &        p \\\\\n",
      "\\midrule\n",
      "discontent &  0.96 (0.89) &  1.16 (0.96) &  0.094** \\\\\n",
      "stress     &  0.81 (0.85) &   1.0 (0.89) &  0.082** \\\\\n",
      "sad        &  0.45 (0.77) &  0.47 (0.69) &    0.298 \\\\\n",
      "lonely     &  0.44 (0.75) &   0.3 (0.59) &     0.16 \\\\\n",
      "energy     &  2.19 (1.03) &  2.26 (0.92) &    0.361 \\\\\n",
      "\\bottomrule\n",
      "\\end{tabular}\n",
      "\n"
     ]
    }
   ],
   "source": [
    "compare_mood_scores(combine_test,ema)"
   ]
  },
  {
   "cell_type": "markdown",
   "metadata": {},
   "source": [
    "[Back to Pre-Processing](#pre_processing)"
   ]
  },
  {
   "cell_type": "markdown",
   "metadata": {},
   "source": [
    "---"
   ]
  },
  {
   "cell_type": "markdown",
   "metadata": {},
   "source": [
    "<a id='inspection'></a>"
   ]
  },
  {
   "cell_type": "markdown",
   "metadata": {},
   "source": [
    "[Back to ToC](#toc)\n",
    "# Inspection\n",
    "Various functions and initial looks at the raw and pre-processed data."
   ]
  },
  {
   "cell_type": "markdown",
   "metadata": {},
   "source": [
    "[Back to Inspection](#inspection)"
   ]
  },
  {
   "cell_type": "markdown",
   "metadata": {},
   "source": [
    "---"
   ]
  },
  {
   "cell_type": "markdown",
   "metadata": {},
   "source": [
    "<a id='analysis'></a>"
   ]
  },
  {
   "cell_type": "markdown",
   "metadata": {},
   "source": [
    "[Back to ToC](#toc)\n",
    "# Analysis\n"
   ]
  },
  {
   "cell_type": "markdown",
   "metadata": {},
   "source": [
    "<a id='effecs'></a>"
   ]
  },
  {
   "cell_type": "markdown",
   "metadata": {},
   "source": [
    "## Effect of Extreme IEQ on Mood"
   ]
  },
  {
   "cell_type": "code",
   "execution_count": 25,
   "metadata": {},
   "outputs": [
    {
     "name": "stdout",
     "output_type": "stream",
     "text": [
      "CO2 \n",
      "\n",
      "Normal: \t495\n",
      "Extreme:\t43\n",
      "\\begin{tabular}{llll}\n",
      "\\toprule\n",
      "{} &  mean\\_normal &     mean\\_ext &        p \\\\\n",
      "\\midrule\n",
      "discontent &  0.96 (0.89) &  1.16 (0.96) &  0.094** \\\\\n",
      "stress     &  0.81 (0.85) &   1.0 (0.89) &  0.082** \\\\\n",
      "sad        &  0.45 (0.77) &  0.47 (0.69) &    0.298 \\\\\n",
      "lonely     &  0.44 (0.75) &   0.3 (0.59) &     0.16 \\\\\n",
      "energy     &  2.19 (1.03) &  2.26 (0.92) &    0.361 \\\\\n",
      "\\bottomrule\n",
      "\\end{tabular}\n",
      "\n",
      "PM2P5_MASS \n",
      "\n",
      "Normal: \t541\n",
      "Extreme:\t52\n",
      "\\begin{tabular}{llll}\n",
      "\\toprule\n",
      "{} &  mean\\_normal &     mean\\_ext &       p \\\\\n",
      "\\midrule\n",
      "discontent &  0.93 (0.87) &  1.31 (0.89) &  0.002* \\\\\n",
      "stress     &  0.76 (0.84) &  1.02 (0.89) &  0.016* \\\\\n",
      "sad        &   0.39 (0.7) &  0.65 (0.92) &  0.011* \\\\\n",
      "lonely     &  0.42 (0.72) &   0.6 (0.79) &  0.042* \\\\\n",
      "energy     &  2.14 (1.05) &  1.92 (1.02) &     0.1 \\\\\n",
      "\\bottomrule\n",
      "\\end{tabular}\n",
      "\n",
      "TVOC \n",
      "\n",
      "Normal: \t500\n",
      "Extreme:\t42\n",
      "\\begin{tabular}{llll}\n",
      "\\toprule\n",
      "{} &  mean\\_normal &     mean\\_ext &       p \\\\\n",
      "\\midrule\n",
      "discontent &  0.93 (0.89) &  0.79 (0.91) &   0.135 \\\\\n",
      "stress     &  0.79 (0.87) &  0.62 (0.75) &   0.123 \\\\\n",
      "sad        &  0.43 (0.73) &  0.43 (0.88) &   0.231 \\\\\n",
      "lonely     &   0.5 (0.77) &  0.38 (0.72) &    0.11 \\\\\n",
      "energy     &  2.09 (1.06) &  2.62 (1.05) &  0.001* \\\\\n",
      "\\bottomrule\n",
      "\\end{tabular}\n",
      "\n",
      "TEMPERATURE_C \n",
      "\n",
      "Normal: \t423\n",
      "Extreme:\t33\n",
      "\\begin{tabular}{llll}\n",
      "\\toprule\n",
      "{} &  mean\\_normal &     mean\\_ext &        p \\\\\n",
      "\\midrule\n",
      "discontent &  0.93 (0.84) &  1.15 (0.89) &  0.077** \\\\\n",
      "stress     &   0.75 (0.8) &  0.82 (0.72) &    0.227 \\\\\n",
      "sad        &  0.34 (0.65) &  0.33 (0.64) &    0.446 \\\\\n",
      "lonely     &  0.45 (0.76) &  0.48 (0.78) &    0.471 \\\\\n",
      "energy     &  2.17 (1.12) &  2.33 (0.97) &    0.254 \\\\\n",
      "\\bottomrule\n",
      "\\end{tabular}\n",
      "\n"
     ]
    }
   ],
   "source": [
    "for ieq_param in [\"co2\",\"pm2p5_mass\",\"tvoc\",\"temperature_c\"]:\n",
    "    print(ieq_param.upper(),\"\\n\")\n",
    "    extreme = get_extreme(ieq,ieq_param,above=True)\n",
    "    combined = combine_ieq_with_ema(extreme,ema)\n",
    "    compare_mood_scores(combined,ema)"
   ]
  },
  {
   "cell_type": "markdown",
   "metadata": {},
   "source": [
    "[Back to Analysis](#analysis)"
   ]
  },
  {
   "cell_type": "markdown",
   "metadata": {},
   "source": [
    "---"
   ]
  },
  {
   "cell_type": "markdown",
   "metadata": {},
   "source": [
    "<a id='ieq_and_mood'></a>"
   ]
  }
 ],
 "metadata": {
  "kernelspec": {
   "display_name": "Python 3",
   "language": "python",
   "name": "python3"
  },
  "language_info": {
   "codemirror_mode": {
    "name": "ipython",
    "version": 3
   },
   "file_extension": ".py",
   "mimetype": "text/x-python",
   "name": "python",
   "nbconvert_exporter": "python",
   "pygments_lexer": "ipython3",
   "version": "3.8.8"
  },
  "toc": {
   "base_numbering": 1,
   "nav_menu": {},
   "number_sections": false,
   "sideBar": false,
   "skip_h1_title": false,
   "title_cell": "Table of Contents",
   "title_sidebar": "Contents",
   "toc_cell": false,
   "toc_position": {},
   "toc_section_display": false,
   "toc_window_display": false
  }
 },
 "nbformat": 4,
 "nbformat_minor": 4
}
