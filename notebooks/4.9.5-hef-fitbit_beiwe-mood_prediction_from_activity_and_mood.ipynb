{
 "cells": [
  {
   "cell_type": "markdown",
   "metadata": {},
   "source": [
    "<a id='top'></a>"
   ]
  },
  {
   "cell_type": "code",
   "execution_count": 2,
   "metadata": {},
   "outputs": [],
   "source": [
    "import warnings\n",
    "warnings.filterwarnings('ignore')"
   ]
  },
  {
   "cell_type": "markdown",
   "metadata": {},
   "source": [
    "# Predicting Nightly Mood Scores from Previously Submitted Mood and Daily Activity\n",
    "Seeing if we can improve our predictive ability by including activity data. \n",
    "\n",
    "Some good information can be found [here](https://towardsdatascience.com/comprehensive-guide-to-multiclass-classification-with-sklearn-127cc500f362) on the general process."
   ]
  },
  {
   "cell_type": "code",
   "execution_count": 1,
   "metadata": {
    "scrolled": true
   },
   "outputs": [],
   "source": [
    "import sys\n",
    "sys.path.append('../')\n",
    "%load_ext autoreload\n",
    "%autoreload 2\n",
    "from src.analysis import mood_prediction\n",
    "\n",
    "import pandas as pd\n",
    "pd.set_option('display.max_columns', 200)\n",
    "import numpy as np\n",
    "from scipy import stats\n",
    "\n",
    "from datetime import datetime, timedelta\n",
    "\n",
    "import matplotlib.pyplot as plt\n",
    "from matplotlib import cm\n",
    "from matplotlib.colors import ListedColormap, LinearSegmentedColormap\n",
    "import seaborn as sns\n",
    "import matplotlib.dates as mdates"
   ]
  },
  {
   "cell_type": "code",
   "execution_count": 3,
   "metadata": {},
   "outputs": [],
   "source": [
    "from sklearn.ensemble import RandomForestClassifier\n",
    "from sklearn.naive_bayes import GaussianNB\n",
    "from sklearn.neighbors import KNeighborsClassifier\n",
    "from sklearn.svm import SVC\n",
    "from sklearn.ensemble import GradientBoostingClassifier\n",
    "from sklearn.linear_model import LogisticRegression"
   ]
  },
  {
   "cell_type": "markdown",
   "metadata": {},
   "source": [
    "# Table of Contents\n",
    "1. [Data Import](#data_import)\n",
    "2. [Inspection](#inspection)\n",
    "3. [Modeling](#modeling)\n",
    "4. [Evaluation](#evaluation)"
   ]
  },
  {
   "cell_type": "markdown",
   "metadata": {},
   "source": [
    "---"
   ]
  },
  {
   "cell_type": "markdown",
   "metadata": {},
   "source": [
    "<a id='data_import'></a>"
   ]
  },
  {
   "cell_type": "markdown",
   "metadata": {},
   "source": [
    "# Data Import\n",
    "We use the `ImportProcessing` to get the relevant data."
   ]
  },
  {
   "cell_type": "code",
   "execution_count": 4,
   "metadata": {},
   "outputs": [],
   "source": [
    "data = mood_prediction.ImportProcessing(data_dir=\"../data/\")"
   ]
  },
  {
   "cell_type": "code",
   "execution_count": 5,
   "metadata": {},
   "outputs": [],
   "source": [
    "data.mood_and_activity = data.remove_participant(data.mood_and_activity,\"oxcpr7e3\")"
   ]
  },
  {
   "cell_type": "markdown",
   "metadata": {},
   "source": [
    "---"
   ]
  },
  {
   "cell_type": "markdown",
   "metadata": {},
   "source": [
    "<a id='inspection'></a>"
   ]
  },
  {
   "cell_type": "markdown",
   "metadata": {},
   "source": [
    "# Inspection\n",
    "Doing some higher-level inspection of the data."
   ]
  },
  {
   "cell_type": "markdown",
   "metadata": {},
   "source": [
    "## Score Distribution\n",
    "To aid in binarizing the data more appropriately."
   ]
  },
  {
   "cell_type": "code",
   "execution_count": null,
   "metadata": {
    "scrolled": false
   },
   "outputs": [],
   "source": [
    "inspection = mood_prediction.Inspection()\n",
    "_  = inspection.get_mood_distribution(data.mood_and_activity,plot=True)"
   ]
  },
  {
   "cell_type": "markdown",
   "metadata": {},
   "source": [
    "## Difference in Scores (Evening - Morning)\n",
    "The simplest way to understand the difference in mood scores is to simply subtract them from one another. The more identical the scores, the greater the instance of zero."
   ]
  },
  {
   "cell_type": "code",
   "execution_count": null,
   "metadata": {},
   "outputs": [],
   "source": [
    "_ = inspection.get_mood_difference(data.mood_and_activity,plot=True)"
   ]
  },
  {
   "cell_type": "markdown",
   "metadata": {},
   "source": [
    "<div class=\"alert alert-block alert-info\">\n",
    "    \n",
    "As expected, many of the differences between the mood scores are zero. This finding is less apparent when considering `energy` which makes sense since the energy of the participants should change. However, I would expect this change to be skewed towards a positive difference (indicating participants were _more_ tired in the evening) but that is not the case. Although they could have low energy in the mornings when they initially wake up. \n",
    "    \n",
    "</div>"
   ]
  },
  {
   "cell_type": "markdown",
   "metadata": {},
   "source": [
    "<div class=\"alert alert-block alert-info\">\n",
    "    \n",
    "The maximum percentages also highlight a sort of upper bound on the accuracy of the model. Just like with our previous analysis, the model might be biased to simply report the same mood score since that is the most influential factor it seems.\n",
    "    \n",
    "</div>"
   ]
  },
  {
   "cell_type": "code",
   "execution_count": null,
   "metadata": {},
   "outputs": [],
   "source": [
    "def plot_mood_violin_per_act(df_in,act_params=[\"steps\",\"distance\"],base_moods=[\"discontent\",\"stress\",\"lonely\",\"sad\",\"energy\"],timing=\"\",label=\"\",save=False):\n",
    "    \"\"\"\"\"\"\n",
    "    legend_fs = 22\n",
    "    tick_fs = 24\n",
    "    label_fs = 26\n",
    "    title_fs = 32\n",
    "    # creating dictionary to store p-values\n",
    "    ttest_results = {}\n",
    "    moods = [mood + timing for mood in base_moods]\n",
    "    fig, axes = plt.subplots(len(act_params),1,figsize=(4*len(moods),4*len(act_params)),sharex=True)\n",
    "    for act_param, title, ax in zip(act_params,[\"a\",\"b\",\"c\",\"d\",\"e\",\"f\"],axes.flat):\n",
    "        df_expanded = df_in.melt(id_vars=act_params,value_vars=moods)\n",
    "        g = sns.violinplot(x=\"variable\",y=f\"{act_param}\",hue=\"value\",data=df_expanded,\n",
    "                       split=True,inner=None,hue_order=[0,1],palette={0:\"white\",1:\"#bf5700\"},cut=0,ax=ax,legend_out=False)\n",
    "        # x-axis\n",
    "        ax.set_xticklabels([mood.title() for mood in base_moods],fontsize=tick_fs)\n",
    "        ax.set_xlabel(\"\")\n",
    "        # y-axis\n",
    "        plt.setp(ax.get_yticklabels(), ha=\"right\", rotation=0, fontsize=tick_fs)\n",
    "        ax.set_ylabel(act_param.title(),fontsize=label_fs)\n",
    "        # remainder\n",
    "        for loc in [\"top\",\"right\"]:\n",
    "            ax.spines[loc].set_visible(False)\n",
    "        if act_param == \"distance\":\n",
    "            ax.legend(handles=g.get_children(),labels=[\"Low\",\"High\"],loc=\"upper center\",bbox_to_anchor=(0.5,-0.075),frameon=False,ncol=2,fontsize=legend_fs,title_fontsize=tick_fs,title=\"Mood Score\")\n",
    "        else:\n",
    "            ax.get_legend().remove()\n",
    "        \n",
    "        pvals = pd.DataFrame()\n",
    "        for mood in moods:\n",
    "            df = df_expanded[df_expanded[\"variable\"] == mood]\n",
    "            low_vals = df[df[\"value\"] == 0]\n",
    "            high_vals = df[df[\"value\"] == 1]\n",
    "            #print(f\"Number of high:\\t{len(high_vals)}\\nNumber of low:\\t{len(low_vals)}\")\n",
    "            _, p = stats.ttest_ind(low_vals[f\"{act_param}\"],high_vals[f\"{act_param}\"], equal_var=True, nan_policy=\"omit\")\n",
    "            pvals = pvals.append(pd.DataFrame({\"mood\":[mood.title()],\"low\":[len(low_vals)],\"high\":[len(high_vals)],\n",
    "                                               \"mean_low\":[np.nanmean(low_vals[f\"{act_param}\"])],\"mean_high\":np.nanmean(high_vals[f\"{act_param}\"]),\"p\":[p]}))\n",
    "\n",
    "        ttest_results[act_param] = pvals.set_index(\"mood\")\n",
    "\n",
    "        # Annotating with p-values\n",
    "        xlocs = ax.get_xticks()\n",
    "        ax.text(ax.get_xlim()[0],ax.get_ylim()[1],\"          p:\",ha=\"center\",va=\"bottom\",fontsize=tick_fs)\n",
    "        for xloc, p in zip(xlocs,ttest_results[act_param][\"p\"]):\n",
    "            weight=\"bold\" if p < 0.05 else \"normal\"\n",
    "            val = round(p,3) if p > 0.001 else \"< 0.001\"\n",
    "            ax.text(xloc,ax.get_ylim()[1],val,fontsize=tick_fs,ha=\"center\",va=\"bottom\",weight=weight)\n",
    "        \n",
    "    if save:\n",
    "        plt.savefig(f\"../reports/figures/beiwe-fitbit-mood_bi{'_'+label}-act{'_'+label}-violin-ux_s20.pdf\",bbox_inches=\"tight\")\n",
    "    plt.show()\n",
    "    plt.close()\n",
    "    \n",
    "    return ttest_results"
   ]
  },
  {
   "cell_type": "markdown",
   "metadata": {},
   "source": [
    "---"
   ]
  },
  {
   "cell_type": "markdown",
   "metadata": {},
   "source": [
    "<a id='modeling'></a>"
   ]
  },
  {
   "cell_type": "markdown",
   "metadata": {},
   "source": [
    "# Modeling"
   ]
  },
  {
   "cell_type": "code",
   "execution_count": null,
   "metadata": {},
   "outputs": [],
   "source": [
    "modeling = mood_prediction.Model()"
   ]
  },
  {
   "cell_type": "markdown",
   "metadata": {},
   "source": [
    "## Adding Features\n",
    "We add the `step_goal` feature which determine whether or not the participant was able to reach the 10K (default) step goal."
   ]
  },
  {
   "cell_type": "code",
   "execution_count": null,
   "metadata": {},
   "outputs": [],
   "source": [
    "data.mood_and_activity = modeling.binarize_steps(data.mood_and_activity)"
   ]
  },
  {
   "cell_type": "code",
   "execution_count": null,
   "metadata": {},
   "outputs": [],
   "source": [
    "data.mood_and_activity.head()"
   ]
  },
  {
   "cell_type": "markdown",
   "metadata": {},
   "source": [
    "## BIinarizing Datasets"
   ]
  },
  {
   "cell_type": "code",
   "execution_count": null,
   "metadata": {},
   "outputs": [],
   "source": [
    "data_bi = modeling.binarize_mood(data.mood_and_activity)\n",
    "data_bi_targets = modeling.binarize_mood(data.mood_and_activity,binarize_features=False)"
   ]
  },
  {
   "cell_type": "markdown",
   "metadata": {},
   "source": [
    "### Inspecting Activity Relationships with Binary Data"
   ]
  },
  {
   "cell_type": "code",
   "execution_count": null,
   "metadata": {},
   "outputs": [],
   "source": [
    "act_dist_ttest = plot_mood_violin_per_act(data_bi,act_params=[\"steps\",\"distance\"],base_moods=[\"discontent\",\"stress\",\"lonely\",\"sad\",\"energy\"],timing=\"_e\")\n",
    "res = act_dist_ttest[\"steps\"]\n",
    "res[\"Delta steps\"] = round(res[\"mean_high\"] - res[\"mean_low\"],2)\n",
    "res.drop([\"mean_low\",\"mean_high\"],axis=\"columns\",inplace=True)\n",
    "res=res.reindex(columns=[\"low\",\"high\",\"Delta steps\",\"p\"])\n",
    "res[\"p\"] = round(res[\"p\"],3)\n",
    "for act_param in [\"distance\"]:\n",
    "    temp = act_dist_ttest[act_param]\n",
    "    temp[f\"Delta {act_param}\"] = round(temp[\"mean_high\"] - temp[\"mean_low\"],2)\n",
    "    temp.drop([\"low\",\"high\",\"mean_low\",\"mean_high\"],axis=\"columns\",inplace=True)\n",
    "    temp = temp.reindex(columns=[f\"Delta {act_param}\",\"p\"])\n",
    "    temp[\"p\"] = round(temp[\"p\"],3)\n",
    "    res = res.merge(temp,left_index=True,right_index=True)"
   ]
  },
  {
   "cell_type": "code",
   "execution_count": null,
   "metadata": {},
   "outputs": [],
   "source": [
    "print(res.to_latex())"
   ]
  },
  {
   "cell_type": "markdown",
   "metadata": {},
   "source": [
    "<div class=\"alert alert-block alert-info\">\n",
    "    \n",
    "The relationship between both distance metrics and mood are nearly identical which makes sense given the relationship between `steps` and `distance`. Therefore, we can just consider one of the two metrics.\n",
    "    \n",
    "</div>"
   ]
  },
  {
   "cell_type": "markdown",
   "metadata": {},
   "source": [
    "## Comparing and Tuning Models\n",
    "We test a slew of classification schemes to get the best model"
   ]
  },
  {
   "cell_type": "markdown",
   "metadata": {},
   "source": [
    "### Defining Models and Hyperparameters to Tune\n",
    "We use some common classifiers to predict the mood scores that should work for multi-class and binary outcomes."
   ]
  },
  {
   "cell_type": "markdown",
   "metadata": {},
   "source": [
    "### Grid Search\n",
    "Using our favorite, we examine the scores for using these models using 5-fold cross-validation"
   ]
  },
  {
   "cell_type": "markdown",
   "metadata": {},
   "source": [
    "### Multi-Class Classification"
   ]
  },
  {
   "cell_type": "code",
   "execution_count": null,
   "metadata": {
    "scrolled": true
   },
   "outputs": [],
   "source": [
    "opt_res = modeling.optimize_models(data.mood_and_activity,modeling.model_params,additional_features=[\"step_goal\"])"
   ]
  },
  {
   "cell_type": "code",
   "execution_count": 43,
   "metadata": {},
   "outputs": [
    {
     "data": {
      "text/html": [
       "<div>\n",
       "<style scoped>\n",
       "    .dataframe tbody tr th:only-of-type {\n",
       "        vertical-align: middle;\n",
       "    }\n",
       "\n",
       "    .dataframe tbody tr th {\n",
       "        vertical-align: top;\n",
       "    }\n",
       "\n",
       "    .dataframe thead th {\n",
       "        text-align: right;\n",
       "    }\n",
       "</style>\n",
       "<table border=\"1\" class=\"dataframe\">\n",
       "  <thead>\n",
       "    <tr style=\"text-align: right;\">\n",
       "      <th></th>\n",
       "      <th>mood</th>\n",
       "      <th>model</th>\n",
       "      <th>best_score</th>\n",
       "      <th>best_params</th>\n",
       "    </tr>\n",
       "  </thead>\n",
       "  <tbody>\n",
       "    <tr>\n",
       "      <th>0</th>\n",
       "      <td>content</td>\n",
       "      <td>random_forest</td>\n",
       "      <td>64.819163</td>\n",
       "      <td>{'max_depth': 5, 'min_samples_leaf': 1, 'min_s...</td>\n",
       "    </tr>\n",
       "    <tr>\n",
       "      <th>1</th>\n",
       "      <td>content</td>\n",
       "      <td>svc</td>\n",
       "      <td>65.940522</td>\n",
       "      <td>{'kernel': 'linear'}</td>\n",
       "    </tr>\n",
       "    <tr>\n",
       "      <th>2</th>\n",
       "      <td>content</td>\n",
       "      <td>gradientboost</td>\n",
       "      <td>66.164962</td>\n",
       "      <td>{'max_depth': 1, 'min_samples_leaf': 1, 'min_s...</td>\n",
       "    </tr>\n",
       "    <tr>\n",
       "      <th>3</th>\n",
       "      <td>content</td>\n",
       "      <td>logistic_regression</td>\n",
       "      <td>64.368886</td>\n",
       "      <td>{'fit_intercept': True, 'solver': 'lbfgs'}</td>\n",
       "    </tr>\n",
       "    <tr>\n",
       "      <th>4</th>\n",
       "      <td>stress</td>\n",
       "      <td>random_forest</td>\n",
       "      <td>66.463349</td>\n",
       "      <td>{'max_depth': 5, 'min_samples_leaf': 1, 'min_s...</td>\n",
       "    </tr>\n",
       "    <tr>\n",
       "      <th>5</th>\n",
       "      <td>stress</td>\n",
       "      <td>svc</td>\n",
       "      <td>68.115514</td>\n",
       "      <td>{'kernel': 'rbf'}</td>\n",
       "    </tr>\n",
       "    <tr>\n",
       "      <th>6</th>\n",
       "      <td>stress</td>\n",
       "      <td>gradientboost</td>\n",
       "      <td>68.415702</td>\n",
       "      <td>{'max_depth': 1, 'min_samples_leaf': 2, 'min_s...</td>\n",
       "    </tr>\n",
       "    <tr>\n",
       "      <th>7</th>\n",
       "      <td>stress</td>\n",
       "      <td>logistic_regression</td>\n",
       "      <td>66.240883</td>\n",
       "      <td>{'fit_intercept': True, 'solver': 'lbfgs'}</td>\n",
       "    </tr>\n",
       "    <tr>\n",
       "      <th>8</th>\n",
       "      <td>lonely</td>\n",
       "      <td>random_forest</td>\n",
       "      <td>79.325843</td>\n",
       "      <td>{'max_depth': 4, 'min_samples_leaf': 1, 'min_s...</td>\n",
       "    </tr>\n",
       "    <tr>\n",
       "      <th>9</th>\n",
       "      <td>lonely</td>\n",
       "      <td>svc</td>\n",
       "      <td>79.550562</td>\n",
       "      <td>{'kernel': 'linear'}</td>\n",
       "    </tr>\n",
       "    <tr>\n",
       "      <th>10</th>\n",
       "      <td>lonely</td>\n",
       "      <td>gradientboost</td>\n",
       "      <td>79.550562</td>\n",
       "      <td>{'max_depth': 2, 'min_samples_leaf': 2, 'min_s...</td>\n",
       "    </tr>\n",
       "    <tr>\n",
       "      <th>11</th>\n",
       "      <td>lonely</td>\n",
       "      <td>logistic_regression</td>\n",
       "      <td>78.277154</td>\n",
       "      <td>{'fit_intercept': True, 'solver': 'lbfgs'}</td>\n",
       "    </tr>\n",
       "    <tr>\n",
       "      <th>12</th>\n",
       "      <td>sad</td>\n",
       "      <td>random_forest</td>\n",
       "      <td>79.340377</td>\n",
       "      <td>{'max_depth': 5, 'min_samples_leaf': 1, 'min_s...</td>\n",
       "    </tr>\n",
       "    <tr>\n",
       "      <th>13</th>\n",
       "      <td>sad</td>\n",
       "      <td>svc</td>\n",
       "      <td>78.666219</td>\n",
       "      <td>{'kernel': 'rbf'}</td>\n",
       "    </tr>\n",
       "    <tr>\n",
       "      <th>14</th>\n",
       "      <td>sad</td>\n",
       "      <td>gradientboost</td>\n",
       "      <td>79.414445</td>\n",
       "      <td>{'max_depth': 1, 'min_samples_leaf': 1, 'min_s...</td>\n",
       "    </tr>\n",
       "    <tr>\n",
       "      <th>15</th>\n",
       "      <td>sad</td>\n",
       "      <td>logistic_regression</td>\n",
       "      <td>77.544021</td>\n",
       "      <td>{'fit_intercept': True, 'solver': 'lbfgs'}</td>\n",
       "    </tr>\n",
       "    <tr>\n",
       "      <th>16</th>\n",
       "      <td>energy</td>\n",
       "      <td>random_forest</td>\n",
       "      <td>53.809045</td>\n",
       "      <td>{'max_depth': 5, 'min_samples_leaf': 1, 'min_s...</td>\n",
       "    </tr>\n",
       "    <tr>\n",
       "      <th>17</th>\n",
       "      <td>energy</td>\n",
       "      <td>svc</td>\n",
       "      <td>53.957180</td>\n",
       "      <td>{'kernel': 'rbf'}</td>\n",
       "    </tr>\n",
       "    <tr>\n",
       "      <th>18</th>\n",
       "      <td>energy</td>\n",
       "      <td>gradientboost</td>\n",
       "      <td>55.826765</td>\n",
       "      <td>{'max_depth': 1, 'min_samples_leaf': 1, 'min_s...</td>\n",
       "    </tr>\n",
       "    <tr>\n",
       "      <th>19</th>\n",
       "      <td>energy</td>\n",
       "      <td>logistic_regression</td>\n",
       "      <td>51.266980</td>\n",
       "      <td>{'fit_intercept': True, 'solver': 'lbfgs'}</td>\n",
       "    </tr>\n",
       "  </tbody>\n",
       "</table>\n",
       "</div>"
      ],
      "text/plain": [
       "       mood                model  best_score  \\\n",
       "0   content        random_forest   64.819163   \n",
       "1   content                  svc   65.940522   \n",
       "2   content        gradientboost   66.164962   \n",
       "3   content  logistic_regression   64.368886   \n",
       "4    stress        random_forest   66.463349   \n",
       "5    stress                  svc   68.115514   \n",
       "6    stress        gradientboost   68.415702   \n",
       "7    stress  logistic_regression   66.240883   \n",
       "8    lonely        random_forest   79.325843   \n",
       "9    lonely                  svc   79.550562   \n",
       "10   lonely        gradientboost   79.550562   \n",
       "11   lonely  logistic_regression   78.277154   \n",
       "12      sad        random_forest   79.340377   \n",
       "13      sad                  svc   78.666219   \n",
       "14      sad        gradientboost   79.414445   \n",
       "15      sad  logistic_regression   77.544021   \n",
       "16   energy        random_forest   53.809045   \n",
       "17   energy                  svc   53.957180   \n",
       "18   energy        gradientboost   55.826765   \n",
       "19   energy  logistic_regression   51.266980   \n",
       "\n",
       "                                          best_params  \n",
       "0   {'max_depth': 5, 'min_samples_leaf': 1, 'min_s...  \n",
       "1                                {'kernel': 'linear'}  \n",
       "2   {'max_depth': 1, 'min_samples_leaf': 1, 'min_s...  \n",
       "3          {'fit_intercept': True, 'solver': 'lbfgs'}  \n",
       "4   {'max_depth': 5, 'min_samples_leaf': 1, 'min_s...  \n",
       "5                                   {'kernel': 'rbf'}  \n",
       "6   {'max_depth': 1, 'min_samples_leaf': 2, 'min_s...  \n",
       "7          {'fit_intercept': True, 'solver': 'lbfgs'}  \n",
       "8   {'max_depth': 4, 'min_samples_leaf': 1, 'min_s...  \n",
       "9                                {'kernel': 'linear'}  \n",
       "10  {'max_depth': 2, 'min_samples_leaf': 2, 'min_s...  \n",
       "11         {'fit_intercept': True, 'solver': 'lbfgs'}  \n",
       "12  {'max_depth': 5, 'min_samples_leaf': 1, 'min_s...  \n",
       "13                                  {'kernel': 'rbf'}  \n",
       "14  {'max_depth': 1, 'min_samples_leaf': 1, 'min_s...  \n",
       "15         {'fit_intercept': True, 'solver': 'lbfgs'}  \n",
       "16  {'max_depth': 5, 'min_samples_leaf': 1, 'min_s...  \n",
       "17                                  {'kernel': 'rbf'}  \n",
       "18  {'max_depth': 1, 'min_samples_leaf': 1, 'min_s...  \n",
       "19         {'fit_intercept': True, 'solver': 'lbfgs'}  "
      ]
     },
     "execution_count": 43,
     "metadata": {},
     "output_type": "execute_result"
    }
   ],
   "source": [
    "opt_res"
   ]
  },
  {
   "cell_type": "markdown",
   "metadata": {},
   "source": [
    "The table below highlights the results from running the tests on all moods.\n",
    "\n",
    "| Mood    | Naive | Random Forest | SVC  | Gradient | Logistic Regression |\n",
    "|---------|-------|---------------|------|----------|---------------------|\n",
    "| Content | 67.3  | 67.1          | 67.4 | 67.5     | 67.3                |\n",
    "| Stress  | 68.0  | 66.7          | 68.0 | 68.3     | 65.7                |\n",
    "| Lonely  | 78.8  | 78.4          | 78.5 | 78.7     | 76.8                |\n",
    "| Sad     | 79.5  | 78.9          | 78.3 | 79.2     | 78.2                |\n",
    "| Energy  | 56.4  | 55.4          | 55.6 | 56.7     | 52.4                |"
   ]
  },
  {
   "cell_type": "markdown",
   "metadata": {},
   "source": [
    "<div class=\"alert alert-block alert-info\">\n",
    "    \n",
    "From this analysis, the models that we should consider are:\n",
    "    \n",
    "* Logistic Regression\n",
    "* Support Vector\n",
    "* Gradient Boost \n",
    "    \n",
    "These models were the best-performing and operate on different principles which increases the diversity and strength of our results.\n",
    "    \n",
    "</div>"
   ]
  },
  {
   "cell_type": "code",
   "execution_count": 128,
   "metadata": {},
   "outputs": [],
   "source": [
    "tuned_models = {\"lr\":LogisticRegression(random_state=42,fit_intercept=True,solver=\"lbfgs\"),\n",
    "                \"svc\":SVC(probability=True,kernel=\"rbf\"),\n",
    "                \"grad\":GradientBoostingClassifier(random_state=42,n_estimators=100,max_depth=1,min_samples_leaf=2,min_samples_split=2)}\n",
    "modeling.set_tuned_models(tuned_models)"
   ]
  },
  {
   "cell_type": "markdown",
   "metadata": {},
   "source": [
    "#### Binary Classsification\n",
    "We conduct two binary classification models to understand the effect of binarizing the mood features."
   ]
  },
  {
   "cell_type": "code",
   "execution_count": 83,
   "metadata": {
    "scrolled": true
   },
   "outputs": [
    {
     "name": "stdout",
     "output_type": "stream",
     "text": [
      "\tRandom Forest\n",
      "\t\tElapsed Time:\t 0:00:19.842987\n",
      "\t\tBest Score:\t79.0\n",
      "\t\tBest Params:\t{'max_depth': 4, 'min_samples_leaf': 2, 'min_samples_split': 2, 'n_estimators': 10}\n",
      "\tSvc\n",
      "\t\tElapsed Time:\t 0:00:00.622056\n",
      "\t\tBest Score:\t80.3\n",
      "\t\tBest Params:\t{'kernel': 'linear'}\n",
      "\tGradientboost\n",
      "\t\tElapsed Time:\t 0:00:12.825590\n",
      "\t\tBest Score:\t80.9\n",
      "\t\tBest Params:\t{'max_depth': 2, 'min_samples_leaf': 1, 'min_samples_split': 2, 'n_estimators': 50}\n",
      "\tLogistic Regression\n",
      "\t\tElapsed Time:\t 0:00:00.154385\n",
      "\t\tBest Score:\t80.3\n",
      "\t\tBest Params:\t{'fit_intercept': True, 'solver': 'lbfgs'}\n",
      "\tRandom Forest\n",
      "\t\tElapsed Time:\t 0:00:23.849009\n",
      "\t\tBest Score:\t81.3\n",
      "\t\tBest Params:\t{'max_depth': 1, 'min_samples_leaf': 1, 'min_samples_split': 2, 'n_estimators': 10}\n",
      "\tSvc\n",
      "\t\tElapsed Time:\t 0:00:00.868476\n",
      "\t\tBest Score:\t81.3\n",
      "\t\tBest Params:\t{'kernel': 'linear'}\n",
      "\tGradientboost\n",
      "\t\tElapsed Time:\t 0:00:15.848893\n",
      "\t\tBest Score:\t81.4\n",
      "\t\tBest Params:\t{'max_depth': 1, 'min_samples_leaf': 1, 'min_samples_split': 2, 'n_estimators': 100}\n",
      "\tLogistic Regression\n",
      "\t\tElapsed Time:\t 0:00:00.104311\n",
      "\t\tBest Score:\t81.2\n",
      "\t\tBest Params:\t{'fit_intercept': True, 'solver': 'lbfgs'}\n",
      "\tRandom Forest\n",
      "\t\tElapsed Time:\t 0:00:22.061037\n",
      "\t\tBest Score:\t85.7\n",
      "\t\tBest Params:\t{'max_depth': 4, 'min_samples_leaf': 1, 'min_samples_split': 2, 'n_estimators': 100}\n",
      "\tSvc\n",
      "\t\tElapsed Time:\t 0:00:00.594402\n",
      "\t\tBest Score:\t85.7\n",
      "\t\tBest Params:\t{'kernel': 'linear'}\n",
      "\tGradientboost\n",
      "\t\tElapsed Time:\t 0:00:12.608787\n",
      "\t\tBest Score:\t85.7\n",
      "\t\tBest Params:\t{'max_depth': 1, 'min_samples_leaf': 1, 'min_samples_split': 2, 'n_estimators': 10}\n",
      "\tLogistic Regression\n",
      "\t\tElapsed Time:\t 0:00:00.080966\n",
      "\t\tBest Score:\t85.7\n",
      "\t\tBest Params:\t{'fit_intercept': True, 'solver': 'liblinear'}\n",
      "\tRandom Forest\n",
      "\t\tElapsed Time:\t 0:00:20.292200\n",
      "\t\tBest Score:\t81.8\n",
      "\t\tBest Params:\t{'max_depth': 4, 'min_samples_leaf': 1, 'min_samples_split': 4, 'n_estimators': 100}\n",
      "\tSvc\n",
      "\t\tElapsed Time:\t 0:00:00.555342\n",
      "\t\tBest Score:\t81.8\n",
      "\t\tBest Params:\t{'kernel': 'linear'}\n",
      "\tGradientboost\n",
      "\t\tElapsed Time:\t 0:00:12.318793\n",
      "\t\tBest Score:\t81.8\n",
      "\t\tBest Params:\t{'max_depth': 3, 'min_samples_leaf': 1, 'min_samples_split': 2, 'n_estimators': 50}\n",
      "\tLogistic Regression\n",
      "\t\tElapsed Time:\t 0:00:00.085530\n",
      "\t\tBest Score:\t81.8\n",
      "\t\tBest Params:\t{'fit_intercept': True, 'solver': 'lbfgs'}\n",
      "\tRandom Forest\n",
      "\t\tElapsed Time:\t 0:00:20.250808\n",
      "\t\tBest Score:\t77.1\n",
      "\t\tBest Params:\t{'max_depth': 4, 'min_samples_leaf': 1, 'min_samples_split': 2, 'n_estimators': 100}\n",
      "\tSvc\n",
      "\t\tElapsed Time:\t 0:00:00.748112\n",
      "\t\tBest Score:\t77.0\n",
      "\t\tBest Params:\t{'kernel': 'rbf'}\n",
      "\tGradientboost\n",
      "\t\tElapsed Time:\t 0:00:11.901235\n",
      "\t\tBest Score:\t76.8\n",
      "\t\tBest Params:\t{'max_depth': 5, 'min_samples_leaf': 1, 'min_samples_split': 2, 'n_estimators': 10}\n",
      "\tLogistic Regression\n",
      "\t\tElapsed Time:\t 0:00:00.073976\n",
      "\t\tBest Score:\t77.0\n",
      "\t\tBest Params:\t{'fit_intercept': False, 'solver': 'lbfgs'}\n"
     ]
    }
   ],
   "source": [
    "opt_res_binary = modeling.optimize_models(data_bi,modeling.model_params,additional_features=[\"step_goal\"])"
   ]
  },
  {
   "cell_type": "code",
   "execution_count": 84,
   "metadata": {
    "scrolled": true
   },
   "outputs": [
    {
     "data": {
      "text/html": [
       "<div>\n",
       "<style scoped>\n",
       "    .dataframe tbody tr th:only-of-type {\n",
       "        vertical-align: middle;\n",
       "    }\n",
       "\n",
       "    .dataframe tbody tr th {\n",
       "        vertical-align: top;\n",
       "    }\n",
       "\n",
       "    .dataframe thead th {\n",
       "        text-align: right;\n",
       "    }\n",
       "</style>\n",
       "<table border=\"1\" class=\"dataframe\">\n",
       "  <thead>\n",
       "    <tr style=\"text-align: right;\">\n",
       "      <th></th>\n",
       "      <th>mood</th>\n",
       "      <th>model</th>\n",
       "      <th>best_score</th>\n",
       "      <th>best_params</th>\n",
       "    </tr>\n",
       "  </thead>\n",
       "  <tbody>\n",
       "    <tr>\n",
       "      <th>0</th>\n",
       "      <td>content</td>\n",
       "      <td>random_forest</td>\n",
       "      <td>79.015560</td>\n",
       "      <td>{'max_depth': 4, 'min_samples_leaf': 2, 'min_s...</td>\n",
       "    </tr>\n",
       "    <tr>\n",
       "      <th>1</th>\n",
       "      <td>content</td>\n",
       "      <td>svc</td>\n",
       "      <td>80.346473</td>\n",
       "      <td>{'kernel': 'linear'}</td>\n",
       "    </tr>\n",
       "    <tr>\n",
       "      <th>2</th>\n",
       "      <td>content</td>\n",
       "      <td>gradientboost</td>\n",
       "      <td>80.929806</td>\n",
       "      <td>{'max_depth': 2, 'min_samples_leaf': 1, 'min_s...</td>\n",
       "    </tr>\n",
       "    <tr>\n",
       "      <th>3</th>\n",
       "      <td>content</td>\n",
       "      <td>logistic_regression</td>\n",
       "      <td>80.348893</td>\n",
       "      <td>{'fit_intercept': True, 'solver': 'lbfgs'}</td>\n",
       "    </tr>\n",
       "    <tr>\n",
       "      <th>4</th>\n",
       "      <td>stress</td>\n",
       "      <td>random_forest</td>\n",
       "      <td>81.262448</td>\n",
       "      <td>{'max_depth': 1, 'min_samples_leaf': 1, 'min_s...</td>\n",
       "    </tr>\n",
       "    <tr>\n",
       "      <th>5</th>\n",
       "      <td>stress</td>\n",
       "      <td>svc</td>\n",
       "      <td>81.262448</td>\n",
       "      <td>{'kernel': 'linear'}</td>\n",
       "    </tr>\n",
       "    <tr>\n",
       "      <th>6</th>\n",
       "      <td>stress</td>\n",
       "      <td>gradientboost</td>\n",
       "      <td>81.428423</td>\n",
       "      <td>{'max_depth': 1, 'min_samples_leaf': 1, 'min_s...</td>\n",
       "    </tr>\n",
       "    <tr>\n",
       "      <th>7</th>\n",
       "      <td>stress</td>\n",
       "      <td>logistic_regression</td>\n",
       "      <td>81.178077</td>\n",
       "      <td>{'fit_intercept': True, 'solver': 'lbfgs'}</td>\n",
       "    </tr>\n",
       "    <tr>\n",
       "      <th>8</th>\n",
       "      <td>lonely</td>\n",
       "      <td>random_forest</td>\n",
       "      <td>85.676694</td>\n",
       "      <td>{'max_depth': 4, 'min_samples_leaf': 1, 'min_s...</td>\n",
       "    </tr>\n",
       "    <tr>\n",
       "      <th>9</th>\n",
       "      <td>lonely</td>\n",
       "      <td>svc</td>\n",
       "      <td>85.676694</td>\n",
       "      <td>{'kernel': 'linear'}</td>\n",
       "    </tr>\n",
       "    <tr>\n",
       "      <th>10</th>\n",
       "      <td>lonely</td>\n",
       "      <td>gradientboost</td>\n",
       "      <td>85.676694</td>\n",
       "      <td>{'max_depth': 1, 'min_samples_leaf': 1, 'min_s...</td>\n",
       "    </tr>\n",
       "    <tr>\n",
       "      <th>11</th>\n",
       "      <td>lonely</td>\n",
       "      <td>logistic_regression</td>\n",
       "      <td>85.676694</td>\n",
       "      <td>{'fit_intercept': True, 'solver': 'liblinear'}</td>\n",
       "    </tr>\n",
       "    <tr>\n",
       "      <th>12</th>\n",
       "      <td>sad</td>\n",
       "      <td>random_forest</td>\n",
       "      <td>81.847165</td>\n",
       "      <td>{'max_depth': 4, 'min_samples_leaf': 1, 'min_s...</td>\n",
       "    </tr>\n",
       "    <tr>\n",
       "      <th>13</th>\n",
       "      <td>sad</td>\n",
       "      <td>svc</td>\n",
       "      <td>81.763831</td>\n",
       "      <td>{'kernel': 'linear'}</td>\n",
       "    </tr>\n",
       "    <tr>\n",
       "      <th>14</th>\n",
       "      <td>sad</td>\n",
       "      <td>gradientboost</td>\n",
       "      <td>81.764523</td>\n",
       "      <td>{'max_depth': 3, 'min_samples_leaf': 1, 'min_s...</td>\n",
       "    </tr>\n",
       "    <tr>\n",
       "      <th>15</th>\n",
       "      <td>sad</td>\n",
       "      <td>logistic_regression</td>\n",
       "      <td>81.763485</td>\n",
       "      <td>{'fit_intercept': True, 'solver': 'lbfgs'}</td>\n",
       "    </tr>\n",
       "    <tr>\n",
       "      <th>16</th>\n",
       "      <td>energy</td>\n",
       "      <td>random_forest</td>\n",
       "      <td>77.102006</td>\n",
       "      <td>{'max_depth': 4, 'min_samples_leaf': 1, 'min_s...</td>\n",
       "    </tr>\n",
       "    <tr>\n",
       "      <th>17</th>\n",
       "      <td>energy</td>\n",
       "      <td>svc</td>\n",
       "      <td>77.019018</td>\n",
       "      <td>{'kernel': 'rbf'}</td>\n",
       "    </tr>\n",
       "    <tr>\n",
       "      <th>18</th>\n",
       "      <td>energy</td>\n",
       "      <td>gradientboost</td>\n",
       "      <td>76.769710</td>\n",
       "      <td>{'max_depth': 5, 'min_samples_leaf': 1, 'min_s...</td>\n",
       "    </tr>\n",
       "    <tr>\n",
       "      <th>19</th>\n",
       "      <td>energy</td>\n",
       "      <td>logistic_regression</td>\n",
       "      <td>77.018672</td>\n",
       "      <td>{'fit_intercept': False, 'solver': 'lbfgs'}</td>\n",
       "    </tr>\n",
       "  </tbody>\n",
       "</table>\n",
       "</div>"
      ],
      "text/plain": [
       "       mood                model  best_score  \\\n",
       "0   content        random_forest   79.015560   \n",
       "1   content                  svc   80.346473   \n",
       "2   content        gradientboost   80.929806   \n",
       "3   content  logistic_regression   80.348893   \n",
       "4    stress        random_forest   81.262448   \n",
       "5    stress                  svc   81.262448   \n",
       "6    stress        gradientboost   81.428423   \n",
       "7    stress  logistic_regression   81.178077   \n",
       "8    lonely        random_forest   85.676694   \n",
       "9    lonely                  svc   85.676694   \n",
       "10   lonely        gradientboost   85.676694   \n",
       "11   lonely  logistic_regression   85.676694   \n",
       "12      sad        random_forest   81.847165   \n",
       "13      sad                  svc   81.763831   \n",
       "14      sad        gradientboost   81.764523   \n",
       "15      sad  logistic_regression   81.763485   \n",
       "16   energy        random_forest   77.102006   \n",
       "17   energy                  svc   77.019018   \n",
       "18   energy        gradientboost   76.769710   \n",
       "19   energy  logistic_regression   77.018672   \n",
       "\n",
       "                                          best_params  \n",
       "0   {'max_depth': 4, 'min_samples_leaf': 2, 'min_s...  \n",
       "1                                {'kernel': 'linear'}  \n",
       "2   {'max_depth': 2, 'min_samples_leaf': 1, 'min_s...  \n",
       "3          {'fit_intercept': True, 'solver': 'lbfgs'}  \n",
       "4   {'max_depth': 1, 'min_samples_leaf': 1, 'min_s...  \n",
       "5                                {'kernel': 'linear'}  \n",
       "6   {'max_depth': 1, 'min_samples_leaf': 1, 'min_s...  \n",
       "7          {'fit_intercept': True, 'solver': 'lbfgs'}  \n",
       "8   {'max_depth': 4, 'min_samples_leaf': 1, 'min_s...  \n",
       "9                                {'kernel': 'linear'}  \n",
       "10  {'max_depth': 1, 'min_samples_leaf': 1, 'min_s...  \n",
       "11     {'fit_intercept': True, 'solver': 'liblinear'}  \n",
       "12  {'max_depth': 4, 'min_samples_leaf': 1, 'min_s...  \n",
       "13                               {'kernel': 'linear'}  \n",
       "14  {'max_depth': 3, 'min_samples_leaf': 1, 'min_s...  \n",
       "15         {'fit_intercept': True, 'solver': 'lbfgs'}  \n",
       "16  {'max_depth': 4, 'min_samples_leaf': 1, 'min_s...  \n",
       "17                                  {'kernel': 'rbf'}  \n",
       "18  {'max_depth': 5, 'min_samples_leaf': 1, 'min_s...  \n",
       "19        {'fit_intercept': False, 'solver': 'lbfgs'}  "
      ]
     },
     "execution_count": 84,
     "metadata": {},
     "output_type": "execute_result"
    }
   ],
   "source": [
    "opt_res_binary"
   ]
  },
  {
   "cell_type": "markdown",
   "metadata": {},
   "source": [
    "The table below highlights the results from running the tests on all moods.\n",
    "\n",
    "| Mood    | Naive | Random Forest | SVC  | Gradient | Logistic Regression |\n",
    "|---------|-------|---------------|------|----------|---------------------|\n",
    "| Content | 67.3  | 67.1          | 67.4 | 67.5     | 67.3                |\n",
    "| Stress  | 68.0  | 66.7          | 68.0 | 68.3     | 65.7                |\n",
    "| Lonely  | 78.8  | 78.4          | 78.5 | 78.7     | 76.8                |\n",
    "| Sad     | 79.5  | 78.9          | 78.3 | 79.2     | 78.2                |\n",
    "| Energy  | 56.4  | 55.4          | 55.6 | 56.7     | 52.4                |"
   ]
  },
  {
   "cell_type": "code",
   "execution_count": 85,
   "metadata": {
    "scrolled": true
   },
   "outputs": [
    {
     "name": "stdout",
     "output_type": "stream",
     "text": [
      "\tRandom Forest\n",
      "\t\tElapsed Time:\t 0:00:19.412598\n",
      "\t\tBest Score:\t79.9\n",
      "\t\tBest Params:\t{'max_depth': 3, 'min_samples_leaf': 1, 'min_samples_split': 2, 'n_estimators': 50}\n",
      "\tSvc\n",
      "\t\tElapsed Time:\t 0:00:00.660510\n",
      "\t\tBest Score:\t80.3\n",
      "\t\tBest Params:\t{'kernel': 'linear'}\n",
      "\tGradientboost\n",
      "\t\tElapsed Time:\t 0:00:14.699207\n",
      "\t\tBest Score:\t79.5\n",
      "\t\tBest Params:\t{'max_depth': 1, 'min_samples_leaf': 1, 'min_samples_split': 2, 'n_estimators': 100}\n",
      "\tLogistic Regression\n",
      "\t\tElapsed Time:\t 0:00:00.100917\n",
      "\t\tBest Score:\t78.8\n",
      "\t\tBest Params:\t{'fit_intercept': True, 'solver': 'lbfgs'}\n",
      "\tRandom Forest\n",
      "\t\tElapsed Time:\t 0:00:22.221775\n",
      "\t\tBest Score:\t81.7\n",
      "\t\tBest Params:\t{'max_depth': 3, 'min_samples_leaf': 2, 'min_samples_split': 2, 'n_estimators': 10}\n",
      "\tSvc\n",
      "\t\tElapsed Time:\t 0:00:00.778840\n",
      "\t\tBest Score:\t81.5\n",
      "\t\tBest Params:\t{'kernel': 'linear'}\n",
      "\tGradientboost\n",
      "\t\tElapsed Time:\t 0:00:13.592168\n",
      "\t\tBest Score:\t81.5\n",
      "\t\tBest Params:\t{'max_depth': 1, 'min_samples_leaf': 1, 'min_samples_split': 2, 'n_estimators': 10}\n",
      "\tLogistic Regression\n",
      "\t\tElapsed Time:\t 0:00:00.119978\n",
      "\t\tBest Score:\t81.0\n",
      "\t\tBest Params:\t{'fit_intercept': True, 'solver': 'lbfgs'}\n",
      "\tRandom Forest\n",
      "\t\tElapsed Time:\t 0:00:19.721396\n",
      "\t\tBest Score:\t86.1\n",
      "\t\tBest Params:\t{'max_depth': 5, 'min_samples_leaf': 1, 'min_samples_split': 2, 'n_estimators': 100}\n",
      "\tSvc\n",
      "\t\tElapsed Time:\t 0:00:00.889221\n",
      "\t\tBest Score:\t86.1\n",
      "\t\tBest Params:\t{'kernel': 'linear'}\n",
      "\tGradientboost\n",
      "\t\tElapsed Time:\t 0:00:12.422881\n",
      "\t\tBest Score:\t86.1\n",
      "\t\tBest Params:\t{'max_depth': 1, 'min_samples_leaf': 1, 'min_samples_split': 2, 'n_estimators': 10}\n",
      "\tLogistic Regression\n",
      "\t\tElapsed Time:\t 0:00:00.100604\n",
      "\t\tBest Score:\t85.9\n",
      "\t\tBest Params:\t{'fit_intercept': True, 'solver': 'lbfgs'}\n",
      "\tRandom Forest\n",
      "\t\tElapsed Time:\t 0:00:19.792739\n",
      "\t\tBest Score:\t82.1\n",
      "\t\tBest Params:\t{'max_depth': 4, 'min_samples_leaf': 1, 'min_samples_split': 4, 'n_estimators': 10}\n",
      "\tSvc\n",
      "\t\tElapsed Time:\t 0:00:00.751544\n",
      "\t\tBest Score:\t82.1\n",
      "\t\tBest Params:\t{'kernel': 'linear'}\n",
      "\tGradientboost\n",
      "\t\tElapsed Time:\t 0:00:13.204736\n",
      "\t\tBest Score:\t82.4\n",
      "\t\tBest Params:\t{'max_depth': 1, 'min_samples_leaf': 1, 'min_samples_split': 2, 'n_estimators': 50}\n",
      "\tLogistic Regression\n",
      "\t\tElapsed Time:\t 0:00:00.270165\n",
      "\t\tBest Score:\t81.3\n",
      "\t\tBest Params:\t{'fit_intercept': True, 'solver': 'liblinear'}\n",
      "\tRandom Forest\n",
      "\t\tElapsed Time:\t 0:00:26.603805\n",
      "\t\tBest Score:\t76.9\n",
      "\t\tBest Params:\t{'max_depth': 5, 'min_samples_leaf': 2, 'min_samples_split': 2, 'n_estimators': 10}\n",
      "\tSvc\n",
      "\t\tElapsed Time:\t 0:00:02.161985\n",
      "\t\tBest Score:\t77.8\n",
      "\t\tBest Params:\t{'kernel': 'rbf'}\n",
      "\tGradientboost\n",
      "\t\tElapsed Time:\t 0:00:18.263374\n",
      "\t\tBest Score:\t77.4\n",
      "\t\tBest Params:\t{'max_depth': 2, 'min_samples_leaf': 1, 'min_samples_split': 2, 'n_estimators': 50}\n",
      "\tLogistic Regression\n",
      "\t\tElapsed Time:\t 0:00:00.130203\n",
      "\t\tBest Score:\t77.3\n",
      "\t\tBest Params:\t{'fit_intercept': True, 'solver': 'lbfgs'}\n"
     ]
    }
   ],
   "source": [
    "opt_res_binary_2 = modeling.optimize_models(data_bi_targets,modeling.model_params,additional_features=[\"step_goal\"])"
   ]
  },
  {
   "cell_type": "code",
   "execution_count": 86,
   "metadata": {},
   "outputs": [
    {
     "data": {
      "text/html": [
       "<div>\n",
       "<style scoped>\n",
       "    .dataframe tbody tr th:only-of-type {\n",
       "        vertical-align: middle;\n",
       "    }\n",
       "\n",
       "    .dataframe tbody tr th {\n",
       "        vertical-align: top;\n",
       "    }\n",
       "\n",
       "    .dataframe thead th {\n",
       "        text-align: right;\n",
       "    }\n",
       "</style>\n",
       "<table border=\"1\" class=\"dataframe\">\n",
       "  <thead>\n",
       "    <tr style=\"text-align: right;\">\n",
       "      <th></th>\n",
       "      <th>mood</th>\n",
       "      <th>model</th>\n",
       "      <th>best_score</th>\n",
       "      <th>best_params</th>\n",
       "    </tr>\n",
       "  </thead>\n",
       "  <tbody>\n",
       "    <tr>\n",
       "      <th>0</th>\n",
       "      <td>content</td>\n",
       "      <td>random_forest</td>\n",
       "      <td>79.882000</td>\n",
       "      <td>{'max_depth': 3, 'min_samples_leaf': 1, 'min_s...</td>\n",
       "    </tr>\n",
       "    <tr>\n",
       "      <th>1</th>\n",
       "      <td>content</td>\n",
       "      <td>svc</td>\n",
       "      <td>80.302510</td>\n",
       "      <td>{'kernel': 'linear'}</td>\n",
       "    </tr>\n",
       "    <tr>\n",
       "      <th>2</th>\n",
       "      <td>content</td>\n",
       "      <td>gradientboost</td>\n",
       "      <td>79.543732</td>\n",
       "      <td>{'max_depth': 1, 'min_samples_leaf': 1, 'min_s...</td>\n",
       "    </tr>\n",
       "    <tr>\n",
       "      <th>3</th>\n",
       "      <td>content</td>\n",
       "      <td>logistic_regression</td>\n",
       "      <td>78.784596</td>\n",
       "      <td>{'fit_intercept': True, 'solver': 'lbfgs'}</td>\n",
       "    </tr>\n",
       "    <tr>\n",
       "      <th>4</th>\n",
       "      <td>stress</td>\n",
       "      <td>random_forest</td>\n",
       "      <td>81.741043</td>\n",
       "      <td>{'max_depth': 3, 'min_samples_leaf': 2, 'min_s...</td>\n",
       "    </tr>\n",
       "    <tr>\n",
       "      <th>5</th>\n",
       "      <td>stress</td>\n",
       "      <td>svc</td>\n",
       "      <td>81.486805</td>\n",
       "      <td>{'kernel': 'linear'}</td>\n",
       "    </tr>\n",
       "    <tr>\n",
       "      <th>6</th>\n",
       "      <td>stress</td>\n",
       "      <td>gradientboost</td>\n",
       "      <td>81.486805</td>\n",
       "      <td>{'max_depth': 1, 'min_samples_leaf': 1, 'min_s...</td>\n",
       "    </tr>\n",
       "    <tr>\n",
       "      <th>7</th>\n",
       "      <td>stress</td>\n",
       "      <td>logistic_regression</td>\n",
       "      <td>80.979761</td>\n",
       "      <td>{'fit_intercept': True, 'solver': 'lbfgs'}</td>\n",
       "    </tr>\n",
       "    <tr>\n",
       "      <th>8</th>\n",
       "      <td>lonely</td>\n",
       "      <td>random_forest</td>\n",
       "      <td>86.052349</td>\n",
       "      <td>{'max_depth': 5, 'min_samples_leaf': 1, 'min_s...</td>\n",
       "    </tr>\n",
       "    <tr>\n",
       "      <th>9</th>\n",
       "      <td>lonely</td>\n",
       "      <td>svc</td>\n",
       "      <td>86.052349</td>\n",
       "      <td>{'kernel': 'linear'}</td>\n",
       "    </tr>\n",
       "    <tr>\n",
       "      <th>10</th>\n",
       "      <td>lonely</td>\n",
       "      <td>gradientboost</td>\n",
       "      <td>86.052349</td>\n",
       "      <td>{'max_depth': 1, 'min_samples_leaf': 1, 'min_s...</td>\n",
       "    </tr>\n",
       "    <tr>\n",
       "      <th>11</th>\n",
       "      <td>lonely</td>\n",
       "      <td>logistic_regression</td>\n",
       "      <td>85.883573</td>\n",
       "      <td>{'fit_intercept': True, 'solver': 'lbfgs'}</td>\n",
       "    </tr>\n",
       "    <tr>\n",
       "      <th>12</th>\n",
       "      <td>sad</td>\n",
       "      <td>random_forest</td>\n",
       "      <td>82.082529</td>\n",
       "      <td>{'max_depth': 4, 'min_samples_leaf': 1, 'min_s...</td>\n",
       "    </tr>\n",
       "    <tr>\n",
       "      <th>13</th>\n",
       "      <td>sad</td>\n",
       "      <td>svc</td>\n",
       "      <td>82.083244</td>\n",
       "      <td>{'kernel': 'linear'}</td>\n",
       "    </tr>\n",
       "    <tr>\n",
       "      <th>14</th>\n",
       "      <td>sad</td>\n",
       "      <td>gradientboost</td>\n",
       "      <td>82.421154</td>\n",
       "      <td>{'max_depth': 1, 'min_samples_leaf': 1, 'min_s...</td>\n",
       "    </tr>\n",
       "    <tr>\n",
       "      <th>15</th>\n",
       "      <td>sad</td>\n",
       "      <td>logistic_regression</td>\n",
       "      <td>81.321962</td>\n",
       "      <td>{'fit_intercept': True, 'solver': 'liblinear'}</td>\n",
       "    </tr>\n",
       "    <tr>\n",
       "      <th>16</th>\n",
       "      <td>energy</td>\n",
       "      <td>random_forest</td>\n",
       "      <td>76.924837</td>\n",
       "      <td>{'max_depth': 5, 'min_samples_leaf': 2, 'min_s...</td>\n",
       "    </tr>\n",
       "    <tr>\n",
       "      <th>17</th>\n",
       "      <td>energy</td>\n",
       "      <td>svc</td>\n",
       "      <td>77.766216</td>\n",
       "      <td>{'kernel': 'rbf'}</td>\n",
       "    </tr>\n",
       "    <tr>\n",
       "      <th>18</th>\n",
       "      <td>energy</td>\n",
       "      <td>gradientboost</td>\n",
       "      <td>77.430094</td>\n",
       "      <td>{'max_depth': 2, 'min_samples_leaf': 1, 'min_s...</td>\n",
       "    </tr>\n",
       "    <tr>\n",
       "      <th>19</th>\n",
       "      <td>energy</td>\n",
       "      <td>logistic_regression</td>\n",
       "      <td>77.345348</td>\n",
       "      <td>{'fit_intercept': True, 'solver': 'lbfgs'}</td>\n",
       "    </tr>\n",
       "  </tbody>\n",
       "</table>\n",
       "</div>"
      ],
      "text/plain": [
       "       mood                model  best_score  \\\n",
       "0   content        random_forest   79.882000   \n",
       "1   content                  svc   80.302510   \n",
       "2   content        gradientboost   79.543732   \n",
       "3   content  logistic_regression   78.784596   \n",
       "4    stress        random_forest   81.741043   \n",
       "5    stress                  svc   81.486805   \n",
       "6    stress        gradientboost   81.486805   \n",
       "7    stress  logistic_regression   80.979761   \n",
       "8    lonely        random_forest   86.052349   \n",
       "9    lonely                  svc   86.052349   \n",
       "10   lonely        gradientboost   86.052349   \n",
       "11   lonely  logistic_regression   85.883573   \n",
       "12      sad        random_forest   82.082529   \n",
       "13      sad                  svc   82.083244   \n",
       "14      sad        gradientboost   82.421154   \n",
       "15      sad  logistic_regression   81.321962   \n",
       "16   energy        random_forest   76.924837   \n",
       "17   energy                  svc   77.766216   \n",
       "18   energy        gradientboost   77.430094   \n",
       "19   energy  logistic_regression   77.345348   \n",
       "\n",
       "                                          best_params  \n",
       "0   {'max_depth': 3, 'min_samples_leaf': 1, 'min_s...  \n",
       "1                                {'kernel': 'linear'}  \n",
       "2   {'max_depth': 1, 'min_samples_leaf': 1, 'min_s...  \n",
       "3          {'fit_intercept': True, 'solver': 'lbfgs'}  \n",
       "4   {'max_depth': 3, 'min_samples_leaf': 2, 'min_s...  \n",
       "5                                {'kernel': 'linear'}  \n",
       "6   {'max_depth': 1, 'min_samples_leaf': 1, 'min_s...  \n",
       "7          {'fit_intercept': True, 'solver': 'lbfgs'}  \n",
       "8   {'max_depth': 5, 'min_samples_leaf': 1, 'min_s...  \n",
       "9                                {'kernel': 'linear'}  \n",
       "10  {'max_depth': 1, 'min_samples_leaf': 1, 'min_s...  \n",
       "11         {'fit_intercept': True, 'solver': 'lbfgs'}  \n",
       "12  {'max_depth': 4, 'min_samples_leaf': 1, 'min_s...  \n",
       "13                               {'kernel': 'linear'}  \n",
       "14  {'max_depth': 1, 'min_samples_leaf': 1, 'min_s...  \n",
       "15     {'fit_intercept': True, 'solver': 'liblinear'}  \n",
       "16  {'max_depth': 5, 'min_samples_leaf': 2, 'min_s...  \n",
       "17                                  {'kernel': 'rbf'}  \n",
       "18  {'max_depth': 2, 'min_samples_leaf': 1, 'min_s...  \n",
       "19         {'fit_intercept': True, 'solver': 'lbfgs'}  "
      ]
     },
     "execution_count": 86,
     "metadata": {},
     "output_type": "execute_result"
    }
   ],
   "source": [
    "opt_res_binary_2"
   ]
  },
  {
   "cell_type": "markdown",
   "metadata": {},
   "source": [
    "<div class=\"alert alert-block alert-info\">\n",
    "    \n",
    "From this analysis, we consider the same models as before despite random forest performing equally as well:\n",
    "    \n",
    "* Logistic Regression\n",
    "* Support Vector\n",
    "* Gradient Boost\n",
    "    \n",
    "</div>"
   ]
  },
  {
   "cell_type": "code",
   "execution_count": 129,
   "metadata": {},
   "outputs": [],
   "source": [
    "tuned_models_bi = {\"lr\":LogisticRegression(random_state=42,fit_intercept=True,solver=\"lbfgs\"),\n",
    "                \"svc\":SVC(probability=True,kernel=\"linear\"),\n",
    "                \"grad\":GradientBoostingClassifier(random_state=42,n_estimators=10,max_depth=1,min_samples_leaf=1,min_samples_split=2)}\n",
    "modeling.set_tuned_models_bi(tuned_models_bi)"
   ]
  },
  {
   "cell_type": "markdown",
   "metadata": {},
   "source": [
    "## Cross-Validation\n",
    "We will use three different techniques of cross-validation to compare and understand the sensitivity of our models to different sets of the data:\n",
    "1. **Stratified K-Fold**: This method will ensure that the same ratio of the target classes are preserved which is important especially considering we have four classes in this instance compared to our binary evaluations in the past.\n",
    "2. **Group K-Fold**: This method will help test the sensitivity to any particular participant groups.\n",
    "3. **Leave One Group Out**: The most extreme method to understand the sensitivity of the model to a particular participant."
   ]
  },
  {
   "cell_type": "code",
   "execution_count": 49,
   "metadata": {},
   "outputs": [],
   "source": [
    "from sklearn.model_selection import StratifiedKFold, GroupKFold, LeaveOneGroupOut, cross_val_score"
   ]
  },
  {
   "cell_type": "code",
   "execution_count": 50,
   "metadata": {},
   "outputs": [],
   "source": [
    "def cross_validate(df,models,cv_label=\"skf\",moods=[\"content\",\"stress\",\"lonely\",\"sad\",\"energy\"],n_splits=5,verbose=False):\n",
    "    \"\"\"\n",
    "    Runs various cross-validation techniques on the provided models\n",
    "    \n",
    "    Parameters\n",
    "    ----------\n",
    "    df : DataFrame\n",
    "    models : dict\n",
    "        sklearn ML models to consider with keys corresponding to the string of the model name and the keys of the sklearn\n",
    "        model with provided hyperparameters\n",
    "    cv_label : {\"skf\",\"gkf\",\"logo\"}, default \"skf\"\n",
    "        Specifies the type of cross-validation technique:\n",
    "        \"skf\":stratified k-fold, \"gkf\":group k-fold, \"logo\":leave one group out\n",
    "    moods : list-like of default [\"content\",\"stress\",\"lonely\",\"sad\",\"energy\"]\n",
    "        moods to consider for the cross-validation - must be column(s) in df\n",
    "    n_splits : int, default 5\n",
    "        number of splits to perform for k-fold cross-validation techniques\n",
    "    verbose : boolean, default False\n",
    "        verbose mode for debugging primarily leave one group out cross-validation\n",
    "    \n",
    "    Returns\n",
    "    -------\n",
    "    <results> : DataFrame\n",
    "        Cross-validation scores from each split and the average per each mood and model\n",
    "    \"\"\"\n",
    "    if cv_label == \"skf\":\n",
    "        cv = StratifiedKFold(n_splits=n_splits)\n",
    "        groups = None # for consistency\n",
    "        res = {key: [] for key in [\"mood\",\"model\"] + [f\"split_{i+1}\" for i in range(n_splits)] + [\"mean\"]}\n",
    "    elif cv_label == \"gkf\":\n",
    "        cv = GroupKFold(n_splits=n_splits)\n",
    "        res = {key: [] for key in [\"mood\",\"model\"] + [f\"split_{i+1}\" for i in range(n_splits)] + [\"mean\"]}\n",
    "    elif cv_label == \"logo\":\n",
    "        cv = LeaveOneGroupOut()\n",
    "        X,y,groups = get_x_and_y(df)\n",
    "        if verbose:\n",
    "            for train_index, test_index in cv.split(X, y, groups):\n",
    "                print(\"TRAIN:\", train_index, \"TEST:\", test_index)\n",
    "                X_train, X_test = groups.iloc[train_index], groups.iloc[test_index]\n",
    "                print(X_train, X_test)\n",
    "        res = {key: [] for key in [\"mood\",\"model\"] + [f\"{pt} ({n})\" for pt, n in zip(groups.unique(),groups.value_counts().sort_index())] + [\"mean\"]}\n",
    "    else:\n",
    "        raise NameError(f\"{cv_label} is an invalid option - choose one of ['skf','gkf','logo']\")\n",
    "        \n",
    "    for mood in moods:\n",
    "        for model in models.keys():\n",
    "            X, y, groups = get_x_and_y(df,mood=mood)\n",
    "            clf = models[model]\n",
    "            scores = cross_val_score(clf, X, y, cv=cv, groups=groups)\n",
    "            values = [mood,model]+list(scores)+[np.mean(scores)]\n",
    "            for key, value in zip(res.keys(),values):\n",
    "                res[key].append(value)\n",
    "                \n",
    "    return pd.DataFrame(data=res)"
   ]
  },
  {
   "cell_type": "markdown",
   "metadata": {},
   "source": [
    "### Results: Stratified K-Fold"
   ]
  },
  {
   "cell_type": "code",
   "execution_count": 51,
   "metadata": {},
   "outputs": [
    {
     "ename": "NameError",
     "evalue": "name 'res_skf' is not defined",
     "output_type": "error",
     "traceback": [
      "\u001b[0;31m---------------------------------------------------------------------------\u001b[0m",
      "\u001b[0;31mNameError\u001b[0m                                 Traceback (most recent call last)",
      "\u001b[0;32m<ipython-input-51-49c528e07da1>\u001b[0m in \u001b[0;36m<module>\u001b[0;34m\u001b[0m\n\u001b[1;32m      1\u001b[0m \u001b[0;31m#res_skf = cross_validate(data,tuned_models,cv_label=\"skf\")\u001b[0m\u001b[0;34m\u001b[0m\u001b[0;34m\u001b[0m\u001b[0;34m\u001b[0m\u001b[0m\n\u001b[0;32m----> 2\u001b[0;31m \u001b[0mres_skf\u001b[0m\u001b[0;34m\u001b[0m\u001b[0;34m\u001b[0m\u001b[0m\n\u001b[0m",
      "\u001b[0;31mNameError\u001b[0m: name 'res_skf' is not defined"
     ]
    }
   ],
   "source": [
    "#res_skf = cross_validate(data,tuned_models,cv_label=\"skf\")\n",
    "#res_skf"
   ]
  },
  {
   "cell_type": "markdown",
   "metadata": {},
   "source": [
    "<div class=\"alert alert-block alert-success\">\n",
    "    \n",
    "Models tend to be rather consistent amongst the various splits - varying by ~0.5 at the most.\n",
    "    \n",
    "</div>"
   ]
  },
  {
   "cell_type": "markdown",
   "metadata": {},
   "source": [
    "### Group K-Fold"
   ]
  },
  {
   "cell_type": "code",
   "execution_count": 52,
   "metadata": {},
   "outputs": [
    {
     "ename": "NameError",
     "evalue": "name 'res_gkf' is not defined",
     "output_type": "error",
     "traceback": [
      "\u001b[0;31m---------------------------------------------------------------------------\u001b[0m",
      "\u001b[0;31mNameError\u001b[0m                                 Traceback (most recent call last)",
      "\u001b[0;32m<ipython-input-52-9e503c1537c7>\u001b[0m in \u001b[0;36m<module>\u001b[0;34m\u001b[0m\n\u001b[1;32m      1\u001b[0m \u001b[0;31m#res_gkf = cross_validate(data,tuned_models,cv_label=\"gkf\")\u001b[0m\u001b[0;34m\u001b[0m\u001b[0;34m\u001b[0m\u001b[0;34m\u001b[0m\u001b[0m\n\u001b[0;32m----> 2\u001b[0;31m \u001b[0mres_gkf\u001b[0m\u001b[0;34m\u001b[0m\u001b[0;34m\u001b[0m\u001b[0m\n\u001b[0m",
      "\u001b[0;31mNameError\u001b[0m: name 'res_gkf' is not defined"
     ]
    }
   ],
   "source": [
    "#res_gkf = cross_validate(data,tuned_models,cv_label=\"gkf\")\n",
    "#res_gkf"
   ]
  },
  {
   "cell_type": "markdown",
   "metadata": {},
   "source": [
    "<div class=\"alert alert-block alert-success\">\n",
    "    \n",
    "Similar results to the stratified split both in terms of variation and average scores.\n",
    "    \n",
    "</div>"
   ]
  },
  {
   "cell_type": "code",
   "execution_count": 53,
   "metadata": {
    "scrolled": true
   },
   "outputs": [
    {
     "ename": "NameError",
     "evalue": "name 'res_logo' is not defined",
     "output_type": "error",
     "traceback": [
      "\u001b[0;31m---------------------------------------------------------------------------\u001b[0m",
      "\u001b[0;31mNameError\u001b[0m                                 Traceback (most recent call last)",
      "\u001b[0;32m<ipython-input-53-c0c7b6bbd7ae>\u001b[0m in \u001b[0;36m<module>\u001b[0;34m\u001b[0m\n\u001b[1;32m      1\u001b[0m \u001b[0;31m#res_logo = cross_validate(data,tuned_models,cv_label=\"logo\")\u001b[0m\u001b[0;34m\u001b[0m\u001b[0;34m\u001b[0m\u001b[0;34m\u001b[0m\u001b[0m\n\u001b[0;32m----> 2\u001b[0;31m \u001b[0mres_logo\u001b[0m\u001b[0;34m\u001b[0m\u001b[0;34m\u001b[0m\u001b[0m\n\u001b[0m",
      "\u001b[0;31mNameError\u001b[0m: name 'res_logo' is not defined"
     ]
    }
   ],
   "source": [
    "#res_logo = cross_validate(data,tuned_models,cv_label=\"logo\")\n",
    "#res_logo"
   ]
  },
  {
   "cell_type": "markdown",
   "metadata": {},
   "source": [
    "<div class=\"alert alert-block alert-warning\">\n",
    "    \n",
    "The scores vary widely most likely influenced by the number of datapoints that each participant provides. If those values are low, then the results could either be very _low_ indicating dramatically different responses are very _high_ indicating the same response. Further scrutiny is warranted and condcuted in the [Inspection](#inspection) section.\n",
    "    \n",
    "</div>"
   ]
  },
  {
   "cell_type": "markdown",
   "metadata": {},
   "source": [
    "# Prediction\n",
    "Since our models seemed to pass the test with the cross-validation, now we can use them to predict the outcomes. "
   ]
  },
  {
   "cell_type": "code",
   "execution_count": 91,
   "metadata": {},
   "outputs": [],
   "source": [
    "predictor = mood_prediction.Prediction()"
   ]
  },
  {
   "cell_type": "code",
   "execution_count": 93,
   "metadata": {},
   "outputs": [],
   "source": [
    "def get_predictions(df,mood,model,probability=False, include_evening=False):\n",
    "    \"\"\"\n",
    "    Gets the predictions for the given mood\n",
    "    \n",
    "    \"\"\"\n",
    "    X, y, _ = get_x_and_y(df,mood,include_evening=include_evening,additional_features=additional_features)\n",
    "    X_train, X_test, y_train, y_test = train_test_split(X, y, test_size=0.3, random_state=42)\n",
    "    clf = model.fit(X_train,y_train)\n",
    "    \n",
    "    if probability:\n",
    "        pred = clf.predict_proba(X_test)[:, 1]\n",
    "    else:\n",
    "        pred = clf.predict(X_test)\n",
    "    return y_test, pred"
   ]
  },
  {
   "cell_type": "code",
   "execution_count": 93,
   "metadata": {},
   "outputs": [
    {
     "data": {
      "text/html": [
       "<div>\n",
       "<style scoped>\n",
       "    .dataframe tbody tr th:only-of-type {\n",
       "        vertical-align: middle;\n",
       "    }\n",
       "\n",
       "    .dataframe tbody tr th {\n",
       "        vertical-align: top;\n",
       "    }\n",
       "\n",
       "    .dataframe thead th {\n",
       "        text-align: right;\n",
       "    }\n",
       "</style>\n",
       "<table border=\"1\" class=\"dataframe\">\n",
       "  <thead>\n",
       "    <tr style=\"text-align: right;\">\n",
       "      <th></th>\n",
       "      <th>beiwe</th>\n",
       "      <th>content_e</th>\n",
       "      <th>stress_e</th>\n",
       "      <th>lonely_e</th>\n",
       "      <th>sad_e</th>\n",
       "      <th>energy_e</th>\n",
       "      <th>redcap</th>\n",
       "      <th>date</th>\n",
       "      <th>content_m</th>\n",
       "      <th>stress_m</th>\n",
       "      <th>lonely_m</th>\n",
       "      <th>sad_m</th>\n",
       "      <th>energy_m</th>\n",
       "      <th>tst</th>\n",
       "      <th>sol</th>\n",
       "      <th>naw</th>\n",
       "      <th>restful</th>\n",
       "      <th>steps</th>\n",
       "      <th>distance</th>\n",
       "      <th>discontent_m</th>\n",
       "      <th>discontent_e</th>\n",
       "      <th>step_goal</th>\n",
       "    </tr>\n",
       "  </thead>\n",
       "  <tbody>\n",
       "    <tr>\n",
       "      <th>2</th>\n",
       "      <td>rvhdl2la</td>\n",
       "      <td>1</td>\n",
       "      <td>1</td>\n",
       "      <td>0</td>\n",
       "      <td>0</td>\n",
       "      <td>0</td>\n",
       "      <td>29</td>\n",
       "      <td>2020-05-13</td>\n",
       "      <td>0</td>\n",
       "      <td>1</td>\n",
       "      <td>1</td>\n",
       "      <td>1</td>\n",
       "      <td>0</td>\n",
       "      <td>5.3</td>\n",
       "      <td>5.0</td>\n",
       "      <td>2.0</td>\n",
       "      <td>2.0</td>\n",
       "      <td>4722.0</td>\n",
       "      <td>1.853799</td>\n",
       "      <td>1</td>\n",
       "      <td>1</td>\n",
       "      <td>0</td>\n",
       "    </tr>\n",
       "    <tr>\n",
       "      <th>4</th>\n",
       "      <td>xdbdrk6e</td>\n",
       "      <td>1</td>\n",
       "      <td>1</td>\n",
       "      <td>1</td>\n",
       "      <td>1</td>\n",
       "      <td>1</td>\n",
       "      <td>23</td>\n",
       "      <td>2020-05-13</td>\n",
       "      <td>1</td>\n",
       "      <td>1</td>\n",
       "      <td>1</td>\n",
       "      <td>1</td>\n",
       "      <td>1</td>\n",
       "      <td>8.0</td>\n",
       "      <td>20.0</td>\n",
       "      <td>3.0</td>\n",
       "      <td>2.0</td>\n",
       "      <td>4199.0</td>\n",
       "      <td>1.720204</td>\n",
       "      <td>1</td>\n",
       "      <td>1</td>\n",
       "      <td>0</td>\n",
       "    </tr>\n",
       "    <tr>\n",
       "      <th>6</th>\n",
       "      <td>qh34m4r9</td>\n",
       "      <td>1</td>\n",
       "      <td>1</td>\n",
       "      <td>0</td>\n",
       "      <td>0</td>\n",
       "      <td>1</td>\n",
       "      <td>68</td>\n",
       "      <td>2020-05-13</td>\n",
       "      <td>1</td>\n",
       "      <td>0</td>\n",
       "      <td>0</td>\n",
       "      <td>0</td>\n",
       "      <td>0</td>\n",
       "      <td>8.0</td>\n",
       "      <td>20.0</td>\n",
       "      <td>2.0</td>\n",
       "      <td>3.0</td>\n",
       "      <td>11632.0</td>\n",
       "      <td>5.302906</td>\n",
       "      <td>0</td>\n",
       "      <td>0</td>\n",
       "      <td>1</td>\n",
       "    </tr>\n",
       "    <tr>\n",
       "      <th>8</th>\n",
       "      <td>tmexej5v</td>\n",
       "      <td>1</td>\n",
       "      <td>1</td>\n",
       "      <td>1</td>\n",
       "      <td>0</td>\n",
       "      <td>1</td>\n",
       "      <td>42</td>\n",
       "      <td>2020-05-13</td>\n",
       "      <td>1</td>\n",
       "      <td>1</td>\n",
       "      <td>1</td>\n",
       "      <td>0</td>\n",
       "      <td>1</td>\n",
       "      <td>6.0</td>\n",
       "      <td>15.0</td>\n",
       "      <td>0.0</td>\n",
       "      <td>2.0</td>\n",
       "      <td>521.0</td>\n",
       "      <td>0.202008</td>\n",
       "      <td>1</td>\n",
       "      <td>1</td>\n",
       "      <td>0</td>\n",
       "    </tr>\n",
       "    <tr>\n",
       "      <th>9</th>\n",
       "      <td>vpy1a985</td>\n",
       "      <td>1</td>\n",
       "      <td>1</td>\n",
       "      <td>1</td>\n",
       "      <td>1</td>\n",
       "      <td>1</td>\n",
       "      <td>50</td>\n",
       "      <td>2020-05-13</td>\n",
       "      <td>1</td>\n",
       "      <td>1</td>\n",
       "      <td>1</td>\n",
       "      <td>1</td>\n",
       "      <td>1</td>\n",
       "      <td>7.0</td>\n",
       "      <td>10.0</td>\n",
       "      <td>1.0</td>\n",
       "      <td>2.0</td>\n",
       "      <td>553.0</td>\n",
       "      <td>0.237737</td>\n",
       "      <td>1</td>\n",
       "      <td>1</td>\n",
       "      <td>0</td>\n",
       "    </tr>\n",
       "    <tr>\n",
       "      <th>...</th>\n",
       "      <td>...</td>\n",
       "      <td>...</td>\n",
       "      <td>...</td>\n",
       "      <td>...</td>\n",
       "      <td>...</td>\n",
       "      <td>...</td>\n",
       "      <td>...</td>\n",
       "      <td>...</td>\n",
       "      <td>...</td>\n",
       "      <td>...</td>\n",
       "      <td>...</td>\n",
       "      <td>...</td>\n",
       "      <td>...</td>\n",
       "      <td>...</td>\n",
       "      <td>...</td>\n",
       "      <td>...</td>\n",
       "      <td>...</td>\n",
       "      <td>...</td>\n",
       "      <td>...</td>\n",
       "      <td>...</td>\n",
       "      <td>...</td>\n",
       "      <td>...</td>\n",
       "    </tr>\n",
       "    <tr>\n",
       "      <th>2143</th>\n",
       "      <td>7dhu3pn7</td>\n",
       "      <td>1</td>\n",
       "      <td>1</td>\n",
       "      <td>0</td>\n",
       "      <td>0</td>\n",
       "      <td>1</td>\n",
       "      <td>64</td>\n",
       "      <td>2020-09-01</td>\n",
       "      <td>1</td>\n",
       "      <td>1</td>\n",
       "      <td>0</td>\n",
       "      <td>0</td>\n",
       "      <td>1</td>\n",
       "      <td>8.0</td>\n",
       "      <td>5.0</td>\n",
       "      <td>0.0</td>\n",
       "      <td>3.0</td>\n",
       "      <td>3775.0</td>\n",
       "      <td>1.517451</td>\n",
       "      <td>1</td>\n",
       "      <td>0</td>\n",
       "      <td>0</td>\n",
       "    </tr>\n",
       "    <tr>\n",
       "      <th>2145</th>\n",
       "      <td>745vq78e</td>\n",
       "      <td>1</td>\n",
       "      <td>0</td>\n",
       "      <td>0</td>\n",
       "      <td>0</td>\n",
       "      <td>1</td>\n",
       "      <td>55</td>\n",
       "      <td>2020-09-01</td>\n",
       "      <td>1</td>\n",
       "      <td>0</td>\n",
       "      <td>0</td>\n",
       "      <td>0</td>\n",
       "      <td>1</td>\n",
       "      <td>7.6</td>\n",
       "      <td>0.0</td>\n",
       "      <td>1.0</td>\n",
       "      <td>2.0</td>\n",
       "      <td>723.0</td>\n",
       "      <td>0.280425</td>\n",
       "      <td>0</td>\n",
       "      <td>0</td>\n",
       "      <td>0</td>\n",
       "    </tr>\n",
       "    <tr>\n",
       "      <th>2146</th>\n",
       "      <td>rkem5aou</td>\n",
       "      <td>1</td>\n",
       "      <td>1</td>\n",
       "      <td>1</td>\n",
       "      <td>1</td>\n",
       "      <td>1</td>\n",
       "      <td>85</td>\n",
       "      <td>2020-09-01</td>\n",
       "      <td>1</td>\n",
       "      <td>1</td>\n",
       "      <td>1</td>\n",
       "      <td>1</td>\n",
       "      <td>1</td>\n",
       "      <td>6.0</td>\n",
       "      <td>10.0</td>\n",
       "      <td>0.0</td>\n",
       "      <td>2.0</td>\n",
       "      <td>1742.0</td>\n",
       "      <td>0.684192</td>\n",
       "      <td>1</td>\n",
       "      <td>1</td>\n",
       "      <td>0</td>\n",
       "    </tr>\n",
       "    <tr>\n",
       "      <th>2147</th>\n",
       "      <td>axk49ssu</td>\n",
       "      <td>1</td>\n",
       "      <td>1</td>\n",
       "      <td>0</td>\n",
       "      <td>1</td>\n",
       "      <td>0</td>\n",
       "      <td>52</td>\n",
       "      <td>2020-09-01</td>\n",
       "      <td>1</td>\n",
       "      <td>1</td>\n",
       "      <td>0</td>\n",
       "      <td>1</td>\n",
       "      <td>0</td>\n",
       "      <td>7.0</td>\n",
       "      <td>40.0</td>\n",
       "      <td>3.0</td>\n",
       "      <td>1.0</td>\n",
       "      <td>3333.0</td>\n",
       "      <td>1.425239</td>\n",
       "      <td>1</td>\n",
       "      <td>1</td>\n",
       "      <td>0</td>\n",
       "    </tr>\n",
       "    <tr>\n",
       "      <th>2148</th>\n",
       "      <td>y1tvkx14</td>\n",
       "      <td>0</td>\n",
       "      <td>1</td>\n",
       "      <td>0</td>\n",
       "      <td>0</td>\n",
       "      <td>0</td>\n",
       "      <td>1</td>\n",
       "      <td>2020-09-01</td>\n",
       "      <td>0</td>\n",
       "      <td>1</td>\n",
       "      <td>0</td>\n",
       "      <td>0</td>\n",
       "      <td>0</td>\n",
       "      <td>8.0</td>\n",
       "      <td>0.0</td>\n",
       "      <td>0.0</td>\n",
       "      <td>3.0</td>\n",
       "      <td>3725.0</td>\n",
       "      <td>1.696343</td>\n",
       "      <td>1</td>\n",
       "      <td>1</td>\n",
       "      <td>0</td>\n",
       "    </tr>\n",
       "  </tbody>\n",
       "</table>\n",
       "<p>1201 rows × 22 columns</p>\n",
       "</div>"
      ],
      "text/plain": [
       "         beiwe  content_e  stress_e  lonely_e  sad_e  energy_e  redcap  \\\n",
       "2     rvhdl2la          1         1         0      0         0      29   \n",
       "4     xdbdrk6e          1         1         1      1         1      23   \n",
       "6     qh34m4r9          1         1         0      0         1      68   \n",
       "8     tmexej5v          1         1         1      0         1      42   \n",
       "9     vpy1a985          1         1         1      1         1      50   \n",
       "...        ...        ...       ...       ...    ...       ...     ...   \n",
       "2143  7dhu3pn7          1         1         0      0         1      64   \n",
       "2145  745vq78e          1         0         0      0         1      55   \n",
       "2146  rkem5aou          1         1         1      1         1      85   \n",
       "2147  axk49ssu          1         1         0      1         0      52   \n",
       "2148  y1tvkx14          0         1         0      0         0       1   \n",
       "\n",
       "           date  content_m  stress_m  lonely_m  sad_m  energy_m  tst   sol  \\\n",
       "2    2020-05-13          0         1         1      1         0  5.3   5.0   \n",
       "4    2020-05-13          1         1         1      1         1  8.0  20.0   \n",
       "6    2020-05-13          1         0         0      0         0  8.0  20.0   \n",
       "8    2020-05-13          1         1         1      0         1  6.0  15.0   \n",
       "9    2020-05-13          1         1         1      1         1  7.0  10.0   \n",
       "...         ...        ...       ...       ...    ...       ...  ...   ...   \n",
       "2143 2020-09-01          1         1         0      0         1  8.0   5.0   \n",
       "2145 2020-09-01          1         0         0      0         1  7.6   0.0   \n",
       "2146 2020-09-01          1         1         1      1         1  6.0  10.0   \n",
       "2147 2020-09-01          1         1         0      1         0  7.0  40.0   \n",
       "2148 2020-09-01          0         1         0      0         0  8.0   0.0   \n",
       "\n",
       "      naw  restful    steps  distance  discontent_m  discontent_e  step_goal  \n",
       "2     2.0      2.0   4722.0  1.853799             1             1          0  \n",
       "4     3.0      2.0   4199.0  1.720204             1             1          0  \n",
       "6     2.0      3.0  11632.0  5.302906             0             0          1  \n",
       "8     0.0      2.0    521.0  0.202008             1             1          0  \n",
       "9     1.0      2.0    553.0  0.237737             1             1          0  \n",
       "...   ...      ...      ...       ...           ...           ...        ...  \n",
       "2143  0.0      3.0   3775.0  1.517451             1             0          0  \n",
       "2145  1.0      2.0    723.0  0.280425             0             0          0  \n",
       "2146  0.0      2.0   1742.0  0.684192             1             1          0  \n",
       "2147  3.0      1.0   3333.0  1.425239             1             1          0  \n",
       "2148  0.0      3.0   3725.0  1.696343             1             1          0  \n",
       "\n",
       "[1201 rows x 22 columns]"
      ]
     },
     "execution_count": 93,
     "metadata": {},
     "output_type": "execute_result"
    }
   ],
   "source": [
    "data_bi"
   ]
  },
  {
   "cell_type": "code",
   "execution_count": 95,
   "metadata": {},
   "outputs": [],
   "source": [
    "y_true, y_pred = predictor.get_predictions(data_bi,mood=\"content\",model=modeling.tuned_models[\"logistic_regression\"],include_evening=False,additional_features=[\"step_goal\"])"
   ]
  },
  {
   "cell_type": "markdown",
   "metadata": {},
   "source": [
    "# Evaluation\n",
    "[Here](https://towardsdatascience.com/comprehensive-guide-on-multiclass-classification-metrics-af94cfb83fbd) is a nice article regarding various metrics to consider."
   ]
  },
  {
   "cell_type": "code",
   "execution_count": 97,
   "metadata": {},
   "outputs": [],
   "source": [
    "evaluator = mood_prediction.Evaluation()"
   ]
  },
  {
   "cell_type": "markdown",
   "metadata": {},
   "source": [
    "## Confusion Matrices\n",
    "We can look at how well our models perform by considering the confusion matrices."
   ]
  },
  {
   "cell_type": "code",
   "execution_count": 65,
   "metadata": {},
   "outputs": [],
   "source": [
    "def get_cm(y_true,y_pred,plot=False):\n",
    "    \"\"\"\n",
    "    Returns confusion matrix\n",
    "    \n",
    "    Parameters\n",
    "    ----------\n",
    "    y_true : list\n",
    "        the actual values\n",
    "    y_pred : list\n",
    "        the predicted values\n",
    "    plot : boolean\n",
    "        whether or not to dispaly the confusion matrices\n",
    "        \n",
    "    Returns\n",
    "    -------\n",
    "    cm : list of lists\n",
    "        the confusion matrix\n",
    "    \"\"\"\n",
    "    cm = confusion_matrix(y_true, y_pred)\n",
    "    \n",
    "    if plot:\n",
    "        _, ax = plt.subplots(figsize=(5,5))\n",
    "        sns.heatmap(pd.DataFrame(cm),vmin=0,\n",
    "                    linecolor=\"black\",linewidth=1,cmap=\"viridis\",     \n",
    "                    square=True,annot=True,fmt='d',ax=ax)\n",
    "        ax.set_xticklabels(np.arange(len(np.unique(y_true))),fontsize=12,rotation=0)\n",
    "        ax.set_xlabel(\"Predicted Value\",fontsize=14)\n",
    "        ax.set_yticklabels(np.arange(len(np.unique(y_true))),fontsize=12,rotation=0)\n",
    "        ax.set_ylabel(\"True Value\",fontsize=14)\n",
    "        plt.show()\n",
    "        plt.close()\n",
    "    \n",
    "    return cm"
   ]
  },
  {
   "cell_type": "code",
   "execution_count": 98,
   "metadata": {
    "scrolled": true
   },
   "outputs": [
    {
     "data": {
      "image/png": "[encoded data removed]",
      "text/plain": [
       "<Figure size 360x360 with 2 Axes>"
      ]
     },
     "metadata": {
      "needs_background": "light"
     },
     "output_type": "display_data"
    },
    {
     "data": {
      "image/png": "[encoded data removed]",
      "text/plain": [
       "<Figure size 360x360 with 2 Axes>"
      ]
     },
     "metadata": {
      "needs_background": "light"
     },
     "output_type": "display_data"
    },
    {
     "data": {
      "image/png": "[encoded data removed]",
      "text/plain": [
       "<Figure size 360x360 with 2 Axes>"
      ]
     },
     "metadata": {
      "needs_background": "light"
     },
     "output_type": "display_data"
    },
    {
     "data": {
      "image/png": "[encoded data removed]",
      "text/plain": [
       "<Figure size 360x360 with 2 Axes>"
      ]
     },
     "metadata": {
      "needs_background": "light"
     },
     "output_type": "display_data"
    },
    {
     "data": {
      "image/png": "[encoded data removed]",
      "text/plain": [
       "<Figure size 360x360 with 2 Axes>"
      ]
     },
     "metadata": {
      "needs_background": "light"
     },
     "output_type": "display_data"
    }
   ],
   "source": [
    "for mood in [\"content\",\"stress\",\"lonely\",\"sad\",\"energy\"]:\n",
    "    y_true, y_pred = predictor.get_predictions(data_bi,mood,tuned_models[\"logistic_regression\"],include_evening=True,additional_features=[\"step_goal\"])\n",
    "    _ = evaluator.get_cm(y_true, y_pred, plot=True)"
   ]
  },
  {
   "cell_type": "markdown",
   "metadata": {},
   "source": [
    "### Defining the Confusion Matrix\n",
    "* **Positive Classes**: 2 and 3\n",
    "* **Negative Classes**: 0 and 1"
   ]
  },
  {
   "cell_type": "markdown",
   "metadata": {},
   "source": [
    "## All the metrics\n",
    "Who knew there was a fancy function for all this? In addition, we borrow some advice from the TDS crew."
   ]
  },
  {
   "cell_type": "code",
   "execution_count": 132,
   "metadata": {},
   "outputs": [
    {
     "ename": "ValueError",
     "evalue": "y should be a 1d array, got an array of shape (361, 2) instead.",
     "output_type": "error",
     "traceback": [
      "\u001b[0;31m---------------------------------------------------------------------------\u001b[0m",
      "\u001b[0;31mValueError\u001b[0m                                Traceback (most recent call last)",
      "\u001b[0;32m<ipython-input-132-ea42237718a4>\u001b[0m in \u001b[0;36m<module>\u001b[0;34m\u001b[0m\n\u001b[0;32m----> 1\u001b[0;31m \u001b[0mevaluator\u001b[0m\u001b[0;34m.\u001b[0m\u001b[0mget_scoring_metrics\u001b[0m\u001b[0;34m(\u001b[0m\u001b[0mdata_bi\u001b[0m\u001b[0;34m,\u001b[0m\u001b[0mtuned_models\u001b[0m\u001b[0;34m[\u001b[0m\u001b[0;34m\"lr\"\u001b[0m\u001b[0;34m]\u001b[0m\u001b[0;34m,\u001b[0m\u001b[0minclude_evening\u001b[0m\u001b[0;34m=\u001b[0m\u001b[0;32mFalse\u001b[0m\u001b[0;34m,\u001b[0m\u001b[0madditional_features\u001b[0m\u001b[0;34m=\u001b[0m\u001b[0;34m[\u001b[0m\u001b[0;34m\"step_goal\"\u001b[0m\u001b[0;34m]\u001b[0m\u001b[0;34m)\u001b[0m\u001b[0;34m\u001b[0m\u001b[0;34m\u001b[0m\u001b[0m\n\u001b[0m",
      "\u001b[0;32m~/Projects/utx000/src/analysis/mood_prediction.py\u001b[0m in \u001b[0;36mget_scoring_metrics\u001b[0;34m(self, df_in, model, binary, moods, include_evening, additional_features)\u001b[0m\n\u001b[1;32m    540\u001b[0m             \u001b[0;32melse\u001b[0m\u001b[0;34m:\u001b[0m\u001b[0;34m\u001b[0m\u001b[0;34m\u001b[0m\u001b[0m\n\u001b[1;32m    541\u001b[0m                 \u001b[0mres\u001b[0m\u001b[0;34m[\u001b[0m\u001b[0;34m\"log-loss\"\u001b[0m\u001b[0;34m]\u001b[0m\u001b[0;34m.\u001b[0m\u001b[0mappend\u001b[0m\u001b[0;34m(\u001b[0m\u001b[0mlog_loss\u001b[0m\u001b[0;34m(\u001b[0m\u001b[0my_true\u001b[0m\u001b[0;34m,\u001b[0m\u001b[0my_pred_prob\u001b[0m\u001b[0;34m)\u001b[0m\u001b[0;34m)\u001b[0m\u001b[0;34m\u001b[0m\u001b[0;34m\u001b[0m\u001b[0m\n\u001b[0;32m--> 542\u001b[0;31m                 \u001b[0mres\u001b[0m\u001b[0;34m[\u001b[0m\u001b[0;34m\"roc_auc\"\u001b[0m\u001b[0;34m]\u001b[0m\u001b[0;34m.\u001b[0m\u001b[0mappend\u001b[0m\u001b[0;34m(\u001b[0m\u001b[0mroc_auc_score\u001b[0m\u001b[0;34m(\u001b[0m\u001b[0my_true\u001b[0m\u001b[0;34m,\u001b[0m \u001b[0my_pred_prob\u001b[0m\u001b[0;34m,\u001b[0m \u001b[0mmulti_class\u001b[0m\u001b[0;34m=\u001b[0m\u001b[0;34m\"ovr\"\u001b[0m\u001b[0;34m,\u001b[0m \u001b[0maverage\u001b[0m\u001b[0;34m=\u001b[0m\u001b[0;34m\"weighted\"\u001b[0m\u001b[0;34m)\u001b[0m\u001b[0;34m)\u001b[0m\u001b[0;34m\u001b[0m\u001b[0;34m\u001b[0m\u001b[0m\n\u001b[0m\u001b[1;32m    543\u001b[0m \u001b[0;34m\u001b[0m\u001b[0m\n\u001b[1;32m    544\u001b[0m         \u001b[0;32mreturn\u001b[0m \u001b[0mpd\u001b[0m\u001b[0;34m.\u001b[0m\u001b[0mDataFrame\u001b[0m\u001b[0;34m(\u001b[0m\u001b[0mres\u001b[0m\u001b[0;34m)\u001b[0m\u001b[0;34m\u001b[0m\u001b[0;34m\u001b[0m\u001b[0m\n",
      "\u001b[0;32m~/opt/anaconda3/lib/python3.8/site-packages/sklearn/utils/validation.py\u001b[0m in \u001b[0;36minner_f\u001b[0;34m(*args, **kwargs)\u001b[0m\n\u001b[1;32m     61\u001b[0m             \u001b[0mextra_args\u001b[0m \u001b[0;34m=\u001b[0m \u001b[0mlen\u001b[0m\u001b[0;34m(\u001b[0m\u001b[0margs\u001b[0m\u001b[0;34m)\u001b[0m \u001b[0;34m-\u001b[0m \u001b[0mlen\u001b[0m\u001b[0;34m(\u001b[0m\u001b[0mall_args\u001b[0m\u001b[0;34m)\u001b[0m\u001b[0;34m\u001b[0m\u001b[0;34m\u001b[0m\u001b[0m\n\u001b[1;32m     62\u001b[0m             \u001b[0;32mif\u001b[0m \u001b[0mextra_args\u001b[0m \u001b[0;34m<=\u001b[0m \u001b[0;36m0\u001b[0m\u001b[0;34m:\u001b[0m\u001b[0;34m\u001b[0m\u001b[0;34m\u001b[0m\u001b[0m\n\u001b[0;32m---> 63\u001b[0;31m                 \u001b[0;32mreturn\u001b[0m \u001b[0mf\u001b[0m\u001b[0;34m(\u001b[0m\u001b[0;34m*\u001b[0m\u001b[0margs\u001b[0m\u001b[0;34m,\u001b[0m \u001b[0;34m**\u001b[0m\u001b[0mkwargs\u001b[0m\u001b[0;34m)\u001b[0m\u001b[0;34m\u001b[0m\u001b[0;34m\u001b[0m\u001b[0m\n\u001b[0m\u001b[1;32m     64\u001b[0m \u001b[0;34m\u001b[0m\u001b[0m\n\u001b[1;32m     65\u001b[0m             \u001b[0;31m# extra_args > 0\u001b[0m\u001b[0;34m\u001b[0m\u001b[0;34m\u001b[0m\u001b[0;34m\u001b[0m\u001b[0m\n",
      "\u001b[0;32m~/opt/anaconda3/lib/python3.8/site-packages/sklearn/metrics/_ranking.py\u001b[0m in \u001b[0;36mroc_auc_score\u001b[0;34m(y_true, y_score, average, sample_weight, max_fpr, multi_class, labels)\u001b[0m\n\u001b[1;32m    540\u001b[0m         \u001b[0mlabels\u001b[0m \u001b[0;34m=\u001b[0m \u001b[0mnp\u001b[0m\u001b[0;34m.\u001b[0m\u001b[0munique\u001b[0m\u001b[0;34m(\u001b[0m\u001b[0my_true\u001b[0m\u001b[0;34m)\u001b[0m\u001b[0;34m\u001b[0m\u001b[0;34m\u001b[0m\u001b[0m\n\u001b[1;32m    541\u001b[0m         \u001b[0my_true\u001b[0m \u001b[0;34m=\u001b[0m \u001b[0mlabel_binarize\u001b[0m\u001b[0;34m(\u001b[0m\u001b[0my_true\u001b[0m\u001b[0;34m,\u001b[0m \u001b[0mclasses\u001b[0m\u001b[0;34m=\u001b[0m\u001b[0mlabels\u001b[0m\u001b[0;34m)\u001b[0m\u001b[0;34m[\u001b[0m\u001b[0;34m:\u001b[0m\u001b[0;34m,\u001b[0m \u001b[0;36m0\u001b[0m\u001b[0;34m]\u001b[0m\u001b[0;34m\u001b[0m\u001b[0;34m\u001b[0m\u001b[0m\n\u001b[0;32m--> 542\u001b[0;31m         return _average_binary_score(partial(_binary_roc_auc_score,\n\u001b[0m\u001b[1;32m    543\u001b[0m                                              max_fpr=max_fpr),\n\u001b[1;32m    544\u001b[0m                                      \u001b[0my_true\u001b[0m\u001b[0;34m,\u001b[0m \u001b[0my_score\u001b[0m\u001b[0;34m,\u001b[0m \u001b[0maverage\u001b[0m\u001b[0;34m,\u001b[0m\u001b[0;34m\u001b[0m\u001b[0;34m\u001b[0m\u001b[0m\n",
      "\u001b[0;32m~/opt/anaconda3/lib/python3.8/site-packages/sklearn/metrics/_base.py\u001b[0m in \u001b[0;36m_average_binary_score\u001b[0;34m(binary_metric, y_true, y_score, average, sample_weight)\u001b[0m\n\u001b[1;32m     75\u001b[0m \u001b[0;34m\u001b[0m\u001b[0m\n\u001b[1;32m     76\u001b[0m     \u001b[0;32mif\u001b[0m \u001b[0my_type\u001b[0m \u001b[0;34m==\u001b[0m \u001b[0;34m\"binary\"\u001b[0m\u001b[0;34m:\u001b[0m\u001b[0;34m\u001b[0m\u001b[0;34m\u001b[0m\u001b[0m\n\u001b[0;32m---> 77\u001b[0;31m         \u001b[0;32mreturn\u001b[0m \u001b[0mbinary_metric\u001b[0m\u001b[0;34m(\u001b[0m\u001b[0my_true\u001b[0m\u001b[0;34m,\u001b[0m \u001b[0my_score\u001b[0m\u001b[0;34m,\u001b[0m \u001b[0msample_weight\u001b[0m\u001b[0;34m=\u001b[0m\u001b[0msample_weight\u001b[0m\u001b[0;34m)\u001b[0m\u001b[0;34m\u001b[0m\u001b[0;34m\u001b[0m\u001b[0m\n\u001b[0m\u001b[1;32m     78\u001b[0m \u001b[0;34m\u001b[0m\u001b[0m\n\u001b[1;32m     79\u001b[0m     \u001b[0mcheck_consistent_length\u001b[0m\u001b[0;34m(\u001b[0m\u001b[0my_true\u001b[0m\u001b[0;34m,\u001b[0m \u001b[0my_score\u001b[0m\u001b[0;34m,\u001b[0m \u001b[0msample_weight\u001b[0m\u001b[0;34m)\u001b[0m\u001b[0;34m\u001b[0m\u001b[0;34m\u001b[0m\u001b[0m\n",
      "\u001b[0;32m~/opt/anaconda3/lib/python3.8/site-packages/sklearn/metrics/_ranking.py\u001b[0m in \u001b[0;36m_binary_roc_auc_score\u001b[0;34m(y_true, y_score, sample_weight, max_fpr)\u001b[0m\n\u001b[1;32m    328\u001b[0m                          \"is not defined in that case.\")\n\u001b[1;32m    329\u001b[0m \u001b[0;34m\u001b[0m\u001b[0m\n\u001b[0;32m--> 330\u001b[0;31m     fpr, tpr, _ = roc_curve(y_true, y_score,\n\u001b[0m\u001b[1;32m    331\u001b[0m                             sample_weight=sample_weight)\n\u001b[1;32m    332\u001b[0m     \u001b[0;32mif\u001b[0m \u001b[0mmax_fpr\u001b[0m \u001b[0;32mis\u001b[0m \u001b[0;32mNone\u001b[0m \u001b[0;32mor\u001b[0m \u001b[0mmax_fpr\u001b[0m \u001b[0;34m==\u001b[0m \u001b[0;36m1\u001b[0m\u001b[0;34m:\u001b[0m\u001b[0;34m\u001b[0m\u001b[0;34m\u001b[0m\u001b[0m\n",
      "\u001b[0;32m~/opt/anaconda3/lib/python3.8/site-packages/sklearn/utils/validation.py\u001b[0m in \u001b[0;36minner_f\u001b[0;34m(*args, **kwargs)\u001b[0m\n\u001b[1;32m     61\u001b[0m             \u001b[0mextra_args\u001b[0m \u001b[0;34m=\u001b[0m \u001b[0mlen\u001b[0m\u001b[0;34m(\u001b[0m\u001b[0margs\u001b[0m\u001b[0;34m)\u001b[0m \u001b[0;34m-\u001b[0m \u001b[0mlen\u001b[0m\u001b[0;34m(\u001b[0m\u001b[0mall_args\u001b[0m\u001b[0;34m)\u001b[0m\u001b[0;34m\u001b[0m\u001b[0;34m\u001b[0m\u001b[0m\n\u001b[1;32m     62\u001b[0m             \u001b[0;32mif\u001b[0m \u001b[0mextra_args\u001b[0m \u001b[0;34m<=\u001b[0m \u001b[0;36m0\u001b[0m\u001b[0;34m:\u001b[0m\u001b[0;34m\u001b[0m\u001b[0;34m\u001b[0m\u001b[0m\n\u001b[0;32m---> 63\u001b[0;31m                 \u001b[0;32mreturn\u001b[0m \u001b[0mf\u001b[0m\u001b[0;34m(\u001b[0m\u001b[0;34m*\u001b[0m\u001b[0margs\u001b[0m\u001b[0;34m,\u001b[0m \u001b[0;34m**\u001b[0m\u001b[0mkwargs\u001b[0m\u001b[0;34m)\u001b[0m\u001b[0;34m\u001b[0m\u001b[0;34m\u001b[0m\u001b[0m\n\u001b[0m\u001b[1;32m     64\u001b[0m \u001b[0;34m\u001b[0m\u001b[0m\n\u001b[1;32m     65\u001b[0m             \u001b[0;31m# extra_args > 0\u001b[0m\u001b[0;34m\u001b[0m\u001b[0;34m\u001b[0m\u001b[0;34m\u001b[0m\u001b[0m\n",
      "\u001b[0;32m~/opt/anaconda3/lib/python3.8/site-packages/sklearn/metrics/_ranking.py\u001b[0m in \u001b[0;36mroc_curve\u001b[0;34m(y_true, y_score, pos_label, sample_weight, drop_intermediate)\u001b[0m\n\u001b[1;32m    911\u001b[0m \u001b[0;34m\u001b[0m\u001b[0m\n\u001b[1;32m    912\u001b[0m     \"\"\"\n\u001b[0;32m--> 913\u001b[0;31m     fps, tps, thresholds = _binary_clf_curve(\n\u001b[0m\u001b[1;32m    914\u001b[0m         y_true, y_score, pos_label=pos_label, sample_weight=sample_weight)\n\u001b[1;32m    915\u001b[0m \u001b[0;34m\u001b[0m\u001b[0m\n",
      "\u001b[0;32m~/opt/anaconda3/lib/python3.8/site-packages/sklearn/metrics/_ranking.py\u001b[0m in \u001b[0;36m_binary_clf_curve\u001b[0;34m(y_true, y_score, pos_label, sample_weight)\u001b[0m\n\u001b[1;32m    693\u001b[0m     \u001b[0mcheck_consistent_length\u001b[0m\u001b[0;34m(\u001b[0m\u001b[0my_true\u001b[0m\u001b[0;34m,\u001b[0m \u001b[0my_score\u001b[0m\u001b[0;34m,\u001b[0m \u001b[0msample_weight\u001b[0m\u001b[0;34m)\u001b[0m\u001b[0;34m\u001b[0m\u001b[0;34m\u001b[0m\u001b[0m\n\u001b[1;32m    694\u001b[0m     \u001b[0my_true\u001b[0m \u001b[0;34m=\u001b[0m \u001b[0mcolumn_or_1d\u001b[0m\u001b[0;34m(\u001b[0m\u001b[0my_true\u001b[0m\u001b[0;34m)\u001b[0m\u001b[0;34m\u001b[0m\u001b[0;34m\u001b[0m\u001b[0m\n\u001b[0;32m--> 695\u001b[0;31m     \u001b[0my_score\u001b[0m \u001b[0;34m=\u001b[0m \u001b[0mcolumn_or_1d\u001b[0m\u001b[0;34m(\u001b[0m\u001b[0my_score\u001b[0m\u001b[0;34m)\u001b[0m\u001b[0;34m\u001b[0m\u001b[0;34m\u001b[0m\u001b[0m\n\u001b[0m\u001b[1;32m    696\u001b[0m     \u001b[0massert_all_finite\u001b[0m\u001b[0;34m(\u001b[0m\u001b[0my_true\u001b[0m\u001b[0;34m)\u001b[0m\u001b[0;34m\u001b[0m\u001b[0;34m\u001b[0m\u001b[0m\n\u001b[1;32m    697\u001b[0m     \u001b[0massert_all_finite\u001b[0m\u001b[0;34m(\u001b[0m\u001b[0my_score\u001b[0m\u001b[0;34m)\u001b[0m\u001b[0;34m\u001b[0m\u001b[0;34m\u001b[0m\u001b[0m\n",
      "\u001b[0;32m~/opt/anaconda3/lib/python3.8/site-packages/sklearn/utils/validation.py\u001b[0m in \u001b[0;36minner_f\u001b[0;34m(*args, **kwargs)\u001b[0m\n\u001b[1;32m     61\u001b[0m             \u001b[0mextra_args\u001b[0m \u001b[0;34m=\u001b[0m \u001b[0mlen\u001b[0m\u001b[0;34m(\u001b[0m\u001b[0margs\u001b[0m\u001b[0;34m)\u001b[0m \u001b[0;34m-\u001b[0m \u001b[0mlen\u001b[0m\u001b[0;34m(\u001b[0m\u001b[0mall_args\u001b[0m\u001b[0;34m)\u001b[0m\u001b[0;34m\u001b[0m\u001b[0;34m\u001b[0m\u001b[0m\n\u001b[1;32m     62\u001b[0m             \u001b[0;32mif\u001b[0m \u001b[0mextra_args\u001b[0m \u001b[0;34m<=\u001b[0m \u001b[0;36m0\u001b[0m\u001b[0;34m:\u001b[0m\u001b[0;34m\u001b[0m\u001b[0;34m\u001b[0m\u001b[0m\n\u001b[0;32m---> 63\u001b[0;31m                 \u001b[0;32mreturn\u001b[0m \u001b[0mf\u001b[0m\u001b[0;34m(\u001b[0m\u001b[0;34m*\u001b[0m\u001b[0margs\u001b[0m\u001b[0;34m,\u001b[0m \u001b[0;34m**\u001b[0m\u001b[0mkwargs\u001b[0m\u001b[0;34m)\u001b[0m\u001b[0;34m\u001b[0m\u001b[0;34m\u001b[0m\u001b[0m\n\u001b[0m\u001b[1;32m     64\u001b[0m \u001b[0;34m\u001b[0m\u001b[0m\n\u001b[1;32m     65\u001b[0m             \u001b[0;31m# extra_args > 0\u001b[0m\u001b[0;34m\u001b[0m\u001b[0;34m\u001b[0m\u001b[0;34m\u001b[0m\u001b[0m\n",
      "\u001b[0;32m~/opt/anaconda3/lib/python3.8/site-packages/sklearn/utils/validation.py\u001b[0m in \u001b[0;36mcolumn_or_1d\u001b[0;34m(y, warn)\u001b[0m\n\u001b[1;32m    862\u001b[0m         \u001b[0;32mreturn\u001b[0m \u001b[0mnp\u001b[0m\u001b[0;34m.\u001b[0m\u001b[0mravel\u001b[0m\u001b[0;34m(\u001b[0m\u001b[0my\u001b[0m\u001b[0;34m)\u001b[0m\u001b[0;34m\u001b[0m\u001b[0;34m\u001b[0m\u001b[0m\n\u001b[1;32m    863\u001b[0m \u001b[0;34m\u001b[0m\u001b[0m\n\u001b[0;32m--> 864\u001b[0;31m     raise ValueError(\n\u001b[0m\u001b[1;32m    865\u001b[0m         \u001b[0;34m\"y should be a 1d array, \"\u001b[0m\u001b[0;34m\u001b[0m\u001b[0;34m\u001b[0m\u001b[0m\n\u001b[1;32m    866\u001b[0m         \"got an array of shape {} instead.\".format(shape))\n",
      "\u001b[0;31mValueError\u001b[0m: y should be a 1d array, got an array of shape (361, 2) instead."
     ]
    }
   ],
   "source": [
    "evaluator.get_scoring_metrics(data_bi,tuned_models[\"lr\"],include_evening=False,additional_features=[\"step_goal\"])"
   ]
  },
  {
   "cell_type": "code",
   "execution_count": 134,
   "metadata": {},
   "outputs": [
    {
     "ename": "ValueError",
     "evalue": "y should be a 1d array, got an array of shape (361, 2) instead.",
     "output_type": "error",
     "traceback": [
      "\u001b[0;31m---------------------------------------------------------------------------\u001b[0m",
      "\u001b[0;31mValueError\u001b[0m                                Traceback (most recent call last)",
      "\u001b[0;32m<ipython-input-134-892668d9c032>\u001b[0m in \u001b[0;36m<module>\u001b[0;34m\u001b[0m\n\u001b[0;32m----> 1\u001b[0;31m \u001b[0mevaluator\u001b[0m\u001b[0;34m.\u001b[0m\u001b[0mget_scoring_metrics\u001b[0m\u001b[0;34m(\u001b[0m\u001b[0mdata_bi\u001b[0m\u001b[0;34m,\u001b[0m\u001b[0mtuned_models\u001b[0m\u001b[0;34m[\u001b[0m\u001b[0;34m\"lr\"\u001b[0m\u001b[0;34m]\u001b[0m\u001b[0;34m,\u001b[0m\u001b[0minclude_evening\u001b[0m\u001b[0;34m=\u001b[0m\u001b[0;32mTrue\u001b[0m\u001b[0;34m,\u001b[0m\u001b[0madditional_features\u001b[0m\u001b[0;34m=\u001b[0m\u001b[0;34m[\u001b[0m\u001b[0;34m\"step_goal\"\u001b[0m\u001b[0;34m]\u001b[0m\u001b[0;34m)\u001b[0m\u001b[0;34m\u001b[0m\u001b[0;34m\u001b[0m\u001b[0m\n\u001b[0m",
      "\u001b[0;32m~/Projects/utx000/src/analysis/mood_prediction.py\u001b[0m in \u001b[0;36mget_scoring_metrics\u001b[0;34m(self, df_in, model, binary, moods, include_evening, additional_features)\u001b[0m\n\u001b[1;32m    540\u001b[0m             \u001b[0;32melse\u001b[0m\u001b[0;34m:\u001b[0m\u001b[0;34m\u001b[0m\u001b[0;34m\u001b[0m\u001b[0m\n\u001b[1;32m    541\u001b[0m                 \u001b[0mres\u001b[0m\u001b[0;34m[\u001b[0m\u001b[0;34m\"log-loss\"\u001b[0m\u001b[0;34m]\u001b[0m\u001b[0;34m.\u001b[0m\u001b[0mappend\u001b[0m\u001b[0;34m(\u001b[0m\u001b[0mlog_loss\u001b[0m\u001b[0;34m(\u001b[0m\u001b[0my_true\u001b[0m\u001b[0;34m,\u001b[0m\u001b[0my_pred_prob\u001b[0m\u001b[0;34m)\u001b[0m\u001b[0;34m)\u001b[0m\u001b[0;34m\u001b[0m\u001b[0;34m\u001b[0m\u001b[0m\n\u001b[0;32m--> 542\u001b[0;31m                 \u001b[0mres\u001b[0m\u001b[0;34m[\u001b[0m\u001b[0;34m\"roc_auc\"\u001b[0m\u001b[0;34m]\u001b[0m\u001b[0;34m.\u001b[0m\u001b[0mappend\u001b[0m\u001b[0;34m(\u001b[0m\u001b[0mroc_auc_score\u001b[0m\u001b[0;34m(\u001b[0m\u001b[0my_true\u001b[0m\u001b[0;34m,\u001b[0m \u001b[0my_pred_prob\u001b[0m\u001b[0;34m,\u001b[0m \u001b[0mmulti_class\u001b[0m\u001b[0;34m=\u001b[0m\u001b[0;34m\"ovr\"\u001b[0m\u001b[0;34m,\u001b[0m \u001b[0maverage\u001b[0m\u001b[0;34m=\u001b[0m\u001b[0;34m\"weighted\"\u001b[0m\u001b[0;34m)\u001b[0m\u001b[0;34m)\u001b[0m\u001b[0;34m\u001b[0m\u001b[0;34m\u001b[0m\u001b[0m\n\u001b[0m\u001b[1;32m    543\u001b[0m \u001b[0;34m\u001b[0m\u001b[0m\n\u001b[1;32m    544\u001b[0m         \u001b[0;32mreturn\u001b[0m \u001b[0mpd\u001b[0m\u001b[0;34m.\u001b[0m\u001b[0mDataFrame\u001b[0m\u001b[0;34m(\u001b[0m\u001b[0mres\u001b[0m\u001b[0;34m)\u001b[0m\u001b[0;34m\u001b[0m\u001b[0;34m\u001b[0m\u001b[0m\n",
      "\u001b[0;32m~/opt/anaconda3/lib/python3.8/site-packages/sklearn/utils/validation.py\u001b[0m in \u001b[0;36minner_f\u001b[0;34m(*args, **kwargs)\u001b[0m\n\u001b[1;32m     61\u001b[0m             \u001b[0mextra_args\u001b[0m \u001b[0;34m=\u001b[0m \u001b[0mlen\u001b[0m\u001b[0;34m(\u001b[0m\u001b[0margs\u001b[0m\u001b[0;34m)\u001b[0m \u001b[0;34m-\u001b[0m \u001b[0mlen\u001b[0m\u001b[0;34m(\u001b[0m\u001b[0mall_args\u001b[0m\u001b[0;34m)\u001b[0m\u001b[0;34m\u001b[0m\u001b[0;34m\u001b[0m\u001b[0m\n\u001b[1;32m     62\u001b[0m             \u001b[0;32mif\u001b[0m \u001b[0mextra_args\u001b[0m \u001b[0;34m<=\u001b[0m \u001b[0;36m0\u001b[0m\u001b[0;34m:\u001b[0m\u001b[0;34m\u001b[0m\u001b[0;34m\u001b[0m\u001b[0m\n\u001b[0;32m---> 63\u001b[0;31m                 \u001b[0;32mreturn\u001b[0m \u001b[0mf\u001b[0m\u001b[0;34m(\u001b[0m\u001b[0;34m*\u001b[0m\u001b[0margs\u001b[0m\u001b[0;34m,\u001b[0m \u001b[0;34m**\u001b[0m\u001b[0mkwargs\u001b[0m\u001b[0;34m)\u001b[0m\u001b[0;34m\u001b[0m\u001b[0;34m\u001b[0m\u001b[0m\n\u001b[0m\u001b[1;32m     64\u001b[0m \u001b[0;34m\u001b[0m\u001b[0m\n\u001b[1;32m     65\u001b[0m             \u001b[0;31m# extra_args > 0\u001b[0m\u001b[0;34m\u001b[0m\u001b[0;34m\u001b[0m\u001b[0;34m\u001b[0m\u001b[0m\n",
      "\u001b[0;32m~/opt/anaconda3/lib/python3.8/site-packages/sklearn/metrics/_ranking.py\u001b[0m in \u001b[0;36mroc_auc_score\u001b[0;34m(y_true, y_score, average, sample_weight, max_fpr, multi_class, labels)\u001b[0m\n\u001b[1;32m    540\u001b[0m         \u001b[0mlabels\u001b[0m \u001b[0;34m=\u001b[0m \u001b[0mnp\u001b[0m\u001b[0;34m.\u001b[0m\u001b[0munique\u001b[0m\u001b[0;34m(\u001b[0m\u001b[0my_true\u001b[0m\u001b[0;34m)\u001b[0m\u001b[0;34m\u001b[0m\u001b[0;34m\u001b[0m\u001b[0m\n\u001b[1;32m    541\u001b[0m         \u001b[0my_true\u001b[0m \u001b[0;34m=\u001b[0m \u001b[0mlabel_binarize\u001b[0m\u001b[0;34m(\u001b[0m\u001b[0my_true\u001b[0m\u001b[0;34m,\u001b[0m \u001b[0mclasses\u001b[0m\u001b[0;34m=\u001b[0m\u001b[0mlabels\u001b[0m\u001b[0;34m)\u001b[0m\u001b[0;34m[\u001b[0m\u001b[0;34m:\u001b[0m\u001b[0;34m,\u001b[0m \u001b[0;36m0\u001b[0m\u001b[0;34m]\u001b[0m\u001b[0;34m\u001b[0m\u001b[0;34m\u001b[0m\u001b[0m\n\u001b[0;32m--> 542\u001b[0;31m         return _average_binary_score(partial(_binary_roc_auc_score,\n\u001b[0m\u001b[1;32m    543\u001b[0m                                              max_fpr=max_fpr),\n\u001b[1;32m    544\u001b[0m                                      \u001b[0my_true\u001b[0m\u001b[0;34m,\u001b[0m \u001b[0my_score\u001b[0m\u001b[0;34m,\u001b[0m \u001b[0maverage\u001b[0m\u001b[0;34m,\u001b[0m\u001b[0;34m\u001b[0m\u001b[0;34m\u001b[0m\u001b[0m\n",
      "\u001b[0;32m~/opt/anaconda3/lib/python3.8/site-packages/sklearn/metrics/_base.py\u001b[0m in \u001b[0;36m_average_binary_score\u001b[0;34m(binary_metric, y_true, y_score, average, sample_weight)\u001b[0m\n\u001b[1;32m     75\u001b[0m \u001b[0;34m\u001b[0m\u001b[0m\n\u001b[1;32m     76\u001b[0m     \u001b[0;32mif\u001b[0m \u001b[0my_type\u001b[0m \u001b[0;34m==\u001b[0m \u001b[0;34m\"binary\"\u001b[0m\u001b[0;34m:\u001b[0m\u001b[0;34m\u001b[0m\u001b[0;34m\u001b[0m\u001b[0m\n\u001b[0;32m---> 77\u001b[0;31m         \u001b[0;32mreturn\u001b[0m \u001b[0mbinary_metric\u001b[0m\u001b[0;34m(\u001b[0m\u001b[0my_true\u001b[0m\u001b[0;34m,\u001b[0m \u001b[0my_score\u001b[0m\u001b[0;34m,\u001b[0m \u001b[0msample_weight\u001b[0m\u001b[0;34m=\u001b[0m\u001b[0msample_weight\u001b[0m\u001b[0;34m)\u001b[0m\u001b[0;34m\u001b[0m\u001b[0;34m\u001b[0m\u001b[0m\n\u001b[0m\u001b[1;32m     78\u001b[0m \u001b[0;34m\u001b[0m\u001b[0m\n\u001b[1;32m     79\u001b[0m     \u001b[0mcheck_consistent_length\u001b[0m\u001b[0;34m(\u001b[0m\u001b[0my_true\u001b[0m\u001b[0;34m,\u001b[0m \u001b[0my_score\u001b[0m\u001b[0;34m,\u001b[0m \u001b[0msample_weight\u001b[0m\u001b[0;34m)\u001b[0m\u001b[0;34m\u001b[0m\u001b[0;34m\u001b[0m\u001b[0m\n",
      "\u001b[0;32m~/opt/anaconda3/lib/python3.8/site-packages/sklearn/metrics/_ranking.py\u001b[0m in \u001b[0;36m_binary_roc_auc_score\u001b[0;34m(y_true, y_score, sample_weight, max_fpr)\u001b[0m\n\u001b[1;32m    328\u001b[0m                          \"is not defined in that case.\")\n\u001b[1;32m    329\u001b[0m \u001b[0;34m\u001b[0m\u001b[0m\n\u001b[0;32m--> 330\u001b[0;31m     fpr, tpr, _ = roc_curve(y_true, y_score,\n\u001b[0m\u001b[1;32m    331\u001b[0m                             sample_weight=sample_weight)\n\u001b[1;32m    332\u001b[0m     \u001b[0;32mif\u001b[0m \u001b[0mmax_fpr\u001b[0m \u001b[0;32mis\u001b[0m \u001b[0;32mNone\u001b[0m \u001b[0;32mor\u001b[0m \u001b[0mmax_fpr\u001b[0m \u001b[0;34m==\u001b[0m \u001b[0;36m1\u001b[0m\u001b[0;34m:\u001b[0m\u001b[0;34m\u001b[0m\u001b[0;34m\u001b[0m\u001b[0m\n",
      "\u001b[0;32m~/opt/anaconda3/lib/python3.8/site-packages/sklearn/utils/validation.py\u001b[0m in \u001b[0;36minner_f\u001b[0;34m(*args, **kwargs)\u001b[0m\n\u001b[1;32m     61\u001b[0m             \u001b[0mextra_args\u001b[0m \u001b[0;34m=\u001b[0m \u001b[0mlen\u001b[0m\u001b[0;34m(\u001b[0m\u001b[0margs\u001b[0m\u001b[0;34m)\u001b[0m \u001b[0;34m-\u001b[0m \u001b[0mlen\u001b[0m\u001b[0;34m(\u001b[0m\u001b[0mall_args\u001b[0m\u001b[0;34m)\u001b[0m\u001b[0;34m\u001b[0m\u001b[0;34m\u001b[0m\u001b[0m\n\u001b[1;32m     62\u001b[0m             \u001b[0;32mif\u001b[0m \u001b[0mextra_args\u001b[0m \u001b[0;34m<=\u001b[0m \u001b[0;36m0\u001b[0m\u001b[0;34m:\u001b[0m\u001b[0;34m\u001b[0m\u001b[0;34m\u001b[0m\u001b[0m\n\u001b[0;32m---> 63\u001b[0;31m                 \u001b[0;32mreturn\u001b[0m \u001b[0mf\u001b[0m\u001b[0;34m(\u001b[0m\u001b[0;34m*\u001b[0m\u001b[0margs\u001b[0m\u001b[0;34m,\u001b[0m \u001b[0;34m**\u001b[0m\u001b[0mkwargs\u001b[0m\u001b[0;34m)\u001b[0m\u001b[0;34m\u001b[0m\u001b[0;34m\u001b[0m\u001b[0m\n\u001b[0m\u001b[1;32m     64\u001b[0m \u001b[0;34m\u001b[0m\u001b[0m\n\u001b[1;32m     65\u001b[0m             \u001b[0;31m# extra_args > 0\u001b[0m\u001b[0;34m\u001b[0m\u001b[0;34m\u001b[0m\u001b[0;34m\u001b[0m\u001b[0m\n",
      "\u001b[0;32m~/opt/anaconda3/lib/python3.8/site-packages/sklearn/metrics/_ranking.py\u001b[0m in \u001b[0;36mroc_curve\u001b[0;34m(y_true, y_score, pos_label, sample_weight, drop_intermediate)\u001b[0m\n\u001b[1;32m    911\u001b[0m \u001b[0;34m\u001b[0m\u001b[0m\n\u001b[1;32m    912\u001b[0m     \"\"\"\n\u001b[0;32m--> 913\u001b[0;31m     fps, tps, thresholds = _binary_clf_curve(\n\u001b[0m\u001b[1;32m    914\u001b[0m         y_true, y_score, pos_label=pos_label, sample_weight=sample_weight)\n\u001b[1;32m    915\u001b[0m \u001b[0;34m\u001b[0m\u001b[0m\n",
      "\u001b[0;32m~/opt/anaconda3/lib/python3.8/site-packages/sklearn/metrics/_ranking.py\u001b[0m in \u001b[0;36m_binary_clf_curve\u001b[0;34m(y_true, y_score, pos_label, sample_weight)\u001b[0m\n\u001b[1;32m    693\u001b[0m     \u001b[0mcheck_consistent_length\u001b[0m\u001b[0;34m(\u001b[0m\u001b[0my_true\u001b[0m\u001b[0;34m,\u001b[0m \u001b[0my_score\u001b[0m\u001b[0;34m,\u001b[0m \u001b[0msample_weight\u001b[0m\u001b[0;34m)\u001b[0m\u001b[0;34m\u001b[0m\u001b[0;34m\u001b[0m\u001b[0m\n\u001b[1;32m    694\u001b[0m     \u001b[0my_true\u001b[0m \u001b[0;34m=\u001b[0m \u001b[0mcolumn_or_1d\u001b[0m\u001b[0;34m(\u001b[0m\u001b[0my_true\u001b[0m\u001b[0;34m)\u001b[0m\u001b[0;34m\u001b[0m\u001b[0;34m\u001b[0m\u001b[0m\n\u001b[0;32m--> 695\u001b[0;31m     \u001b[0my_score\u001b[0m \u001b[0;34m=\u001b[0m \u001b[0mcolumn_or_1d\u001b[0m\u001b[0;34m(\u001b[0m\u001b[0my_score\u001b[0m\u001b[0;34m)\u001b[0m\u001b[0;34m\u001b[0m\u001b[0;34m\u001b[0m\u001b[0m\n\u001b[0m\u001b[1;32m    696\u001b[0m     \u001b[0massert_all_finite\u001b[0m\u001b[0;34m(\u001b[0m\u001b[0my_true\u001b[0m\u001b[0;34m)\u001b[0m\u001b[0;34m\u001b[0m\u001b[0;34m\u001b[0m\u001b[0m\n\u001b[1;32m    697\u001b[0m     \u001b[0massert_all_finite\u001b[0m\u001b[0;34m(\u001b[0m\u001b[0my_score\u001b[0m\u001b[0;34m)\u001b[0m\u001b[0;34m\u001b[0m\u001b[0;34m\u001b[0m\u001b[0m\n",
      "\u001b[0;32m~/opt/anaconda3/lib/python3.8/site-packages/sklearn/utils/validation.py\u001b[0m in \u001b[0;36minner_f\u001b[0;34m(*args, **kwargs)\u001b[0m\n\u001b[1;32m     61\u001b[0m             \u001b[0mextra_args\u001b[0m \u001b[0;34m=\u001b[0m \u001b[0mlen\u001b[0m\u001b[0;34m(\u001b[0m\u001b[0margs\u001b[0m\u001b[0;34m)\u001b[0m \u001b[0;34m-\u001b[0m \u001b[0mlen\u001b[0m\u001b[0;34m(\u001b[0m\u001b[0mall_args\u001b[0m\u001b[0;34m)\u001b[0m\u001b[0;34m\u001b[0m\u001b[0;34m\u001b[0m\u001b[0m\n\u001b[1;32m     62\u001b[0m             \u001b[0;32mif\u001b[0m \u001b[0mextra_args\u001b[0m \u001b[0;34m<=\u001b[0m \u001b[0;36m0\u001b[0m\u001b[0;34m:\u001b[0m\u001b[0;34m\u001b[0m\u001b[0;34m\u001b[0m\u001b[0m\n\u001b[0;32m---> 63\u001b[0;31m                 \u001b[0;32mreturn\u001b[0m \u001b[0mf\u001b[0m\u001b[0;34m(\u001b[0m\u001b[0;34m*\u001b[0m\u001b[0margs\u001b[0m\u001b[0;34m,\u001b[0m \u001b[0;34m**\u001b[0m\u001b[0mkwargs\u001b[0m\u001b[0;34m)\u001b[0m\u001b[0;34m\u001b[0m\u001b[0;34m\u001b[0m\u001b[0m\n\u001b[0m\u001b[1;32m     64\u001b[0m \u001b[0;34m\u001b[0m\u001b[0m\n\u001b[1;32m     65\u001b[0m             \u001b[0;31m# extra_args > 0\u001b[0m\u001b[0;34m\u001b[0m\u001b[0;34m\u001b[0m\u001b[0;34m\u001b[0m\u001b[0m\n",
      "\u001b[0;32m~/opt/anaconda3/lib/python3.8/site-packages/sklearn/utils/validation.py\u001b[0m in \u001b[0;36mcolumn_or_1d\u001b[0;34m(y, warn)\u001b[0m\n\u001b[1;32m    862\u001b[0m         \u001b[0;32mreturn\u001b[0m \u001b[0mnp\u001b[0m\u001b[0;34m.\u001b[0m\u001b[0mravel\u001b[0m\u001b[0;34m(\u001b[0m\u001b[0my\u001b[0m\u001b[0;34m)\u001b[0m\u001b[0;34m\u001b[0m\u001b[0;34m\u001b[0m\u001b[0m\n\u001b[1;32m    863\u001b[0m \u001b[0;34m\u001b[0m\u001b[0m\n\u001b[0;32m--> 864\u001b[0;31m     raise ValueError(\n\u001b[0m\u001b[1;32m    865\u001b[0m         \u001b[0;34m\"y should be a 1d array, \"\u001b[0m\u001b[0;34m\u001b[0m\u001b[0;34m\u001b[0m\u001b[0m\n\u001b[1;32m    866\u001b[0m         \"got an array of shape {} instead.\".format(shape))\n",
      "\u001b[0;31mValueError\u001b[0m: y should be a 1d array, got an array of shape (361, 2) instead."
     ]
    }
   ],
   "source": [
    "evaluator.get_scoring_metrics(data_bi,tuned_models[\"lr\"],include_evening=True,additional_features=[\"step_goal\"])"
   ]
  },
  {
   "cell_type": "code",
   "execution_count": null,
   "metadata": {},
   "outputs": [],
   "source": [
    "def get_report(df,model,mood=\"content\"):\n",
    "    \"\"\"\n",
    "    Gets the classification report and prints it\n",
    "    \n",
    "    \"\"\"\n",
    "    y_true, y_pred = get_predictions(df,mood,model)\n",
    "    print(mood)\n",
    "    print(classification_report(y_true, y_pred))"
   ]
  },
  {
   "cell_type": "code",
   "execution_count": null,
   "metadata": {},
   "outputs": [],
   "source": [
    "get_report(data,tuned_models[\"logistic_regression\"],\"lonely\")"
   ]
  },
  {
   "cell_type": "markdown",
   "metadata": {},
   "source": [
    "[Back to Evaluation](#evaluation)"
   ]
  },
  {
   "cell_type": "markdown",
   "metadata": {},
   "source": [
    "---"
   ]
  },
  {
   "cell_type": "markdown",
   "metadata": {},
   "source": [
    "# Saving"
   ]
  },
  {
   "cell_type": "markdown",
   "metadata": {},
   "source": [
    "## Results"
   ]
  },
  {
   "cell_type": "code",
   "execution_count": 135,
   "metadata": {},
   "outputs": [
    {
     "name": "stdout",
     "output_type": "stream",
     "text": [
      "LR - Include Evening: False\n",
      "\tMulticlass\n",
      "\tBinary\n",
      "LR - Include Evening: True\n",
      "\tMulticlass\n",
      "\tBinary\n",
      "SVC - Include Evening: False\n",
      "\tMulticlass\n",
      "\tBinary\n",
      "SVC - Include Evening: True\n",
      "\tMulticlass\n",
      "\tBinary\n",
      "GRAD - Include Evening: False\n",
      "\tMulticlass\n",
      "\tBinary\n",
      "GRAD - Include Evening: True\n",
      "\tMulticlass\n",
      "\tBinary\n"
     ]
    }
   ],
   "source": [
    "with pd.ExcelWriter('../data/interim/mood_prediction/results-mood_and_activity_on_mood.xlsx') as writer:  \n",
    "    for model,model_bi in zip(modeling.tuned_models.keys(),modeling.tuned_models_bi.keys()):\n",
    "        for include_evening in [False,True]:\n",
    "            print(f\"{model.upper()} - Include Evening: {include_evening}\")\n",
    "            print(\"\\tMulticlass\")\n",
    "            res = evaluator.get_scoring_metrics(data.mood_and_activity,modeling.tuned_models[model],include_evening=include_evening,additional_features=[\"step_goal\"])\n",
    "            res.to_excel(writer, sheet_name=f\"{model}-multiclass-evening_{str(include_evening).lower()}\")\n",
    "            print(\"\\tBinary\")\n",
    "            res_bi = evaluator.get_scoring_metrics(data_bi,modeling.tuned_models_bi[model_bi],binary=True,include_evening=include_evening,additional_features=[\"step_goal\"])\n",
    "            res_bi.to_excel(writer, sheet_name=f\"{model}-binary-evening_{str(include_evening).lower()}\")"
   ]
  },
  {
   "cell_type": "markdown",
   "metadata": {},
   "source": [
    "[Back to Top](#top)"
   ]
  }
 ],
 "metadata": {
  "kernelspec": {
   "display_name": "Python 3",
   "language": "python",
   "name": "python3"
  },
  "language_info": {
   "codemirror_mode": {
    "name": "ipython",
    "version": 3
   },
   "file_extension": ".py",
   "mimetype": "text/x-python",
   "name": "python",
   "nbconvert_exporter": "python",
   "pygments_lexer": "ipython3",
   "version": "3.8.8"
  },
  "toc": {
   "base_numbering": 1,
   "nav_menu": {},
   "number_sections": false,
   "sideBar": false,
   "skip_h1_title": false,
   "title_cell": "Table of Contents",
   "title_sidebar": "Contents",
   "toc_cell": false,
   "toc_position": {},
   "toc_section_display": false,
   "toc_window_display": false
  }
 },
 "nbformat": 4,
 "nbformat_minor": 4
}
