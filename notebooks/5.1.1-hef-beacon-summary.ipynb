{
 "cells": [
  {
   "cell_type": "markdown",
   "metadata": {},
   "source": [
    "# Exploring the WCWH Ambassador Family Beacon IAQ Data\n",
    "(See [GH repo](https://github.com/intelligent-environments-lab/utx000))"
   ]
  },
  {
   "cell_type": "markdown",
   "metadata": {},
   "source": [
    "# Summary\n",
    "This notebook helps look at the measurements taken during the study period for the various sensors on the beacons."
   ]
  },
  {
   "cell_type": "code",
   "execution_count": 1,
   "metadata": {},
   "outputs": [],
   "source": [
    "import warnings\n",
    "warnings.filterwarnings('ignore')\n",
    "\n",
    "%load_ext autoreload\n",
    "%autoreload 2"
   ]
  },
  {
   "cell_type": "markdown",
   "metadata": {},
   "source": [
    "# Package Import"
   ]
  },
  {
   "cell_type": "code",
   "execution_count": 2,
   "metadata": {},
   "outputs": [],
   "source": [
    "import sys\n",
    "sys.path.append('../')\n",
    "\n",
    "from src.visualization import visualize\n",
    "from src.data import wcwh\n",
    "from src.exploration import beacon_summary\n",
    "\n",
    "import pandas as pd\n",
    "import numpy as np\n",
    "pd.set_option('display.max_columns', 200)\n",
    "\n",
    "import matplotlib.pyplot as plt\n",
    "import matplotlib.dates as mdates\n",
    "\n",
    "import seaborn as sns\n",
    "\n",
    "from datetime import datetime, timedelta"
   ]
  },
  {
   "cell_type": "markdown",
   "metadata": {},
   "source": [
    "# Table of Contents\n",
    "1. [Notes on Analysis and References](#refs)\n",
    "2. [Data Notes and Import](#import)\n",
    "3. [Operation and Available Data](#operation)\n",
    "4. [Aggregated Summary](#aggregated)\n",
    "5. [Participant Based](#pt-based)"
   ]
  },
  {
   "cell_type": "markdown",
   "metadata": {},
   "source": [
    "---"
   ]
  },
  {
   "cell_type": "markdown",
   "metadata": {},
   "source": [
    "<a id=\"refs\"></a>"
   ]
  },
  {
   "cell_type": "markdown",
   "metadata": {},
   "source": [
    "# Notes on Analysis and References\n",
    "The analyses in this notebook are primarily surface-level, but are described briefly below."
   ]
  },
  {
   "cell_type": "markdown",
   "metadata": {},
   "source": [
    "## References\n",
    "Some of the references used for analysis as well as for programming."
   ]
  },
  {
   "cell_type": "markdown",
   "metadata": {},
   "source": [
    "### Programming\n",
    "1. [How to Replace Negative Numbers with 0](https://stackoverflow.com/questions/27759084/how-to-replace-negative-numbers-in-pandas-data-frame-by-zero/27759140): For corrected beacon data that corrected values to negatives.\n",
    "2. [Add Missing Dates to DataFrame Index](https://stackoverflow.com/questions/19324453/add-missing-dates-to-pandas-dataframe): To fill in missing timestamps when the beacon would have gone offline so we can accurately understand reliability."
   ]
  },
  {
   "cell_type": "markdown",
   "metadata": {},
   "source": [
    "---"
   ]
  },
  {
   "cell_type": "markdown",
   "metadata": {},
   "source": [
    "<a id=\"import\"></a>"
   ]
  },
  {
   "cell_type": "markdown",
   "metadata": {},
   "source": [
    "# Data Notes and Import\n",
    "Some notes on the data we use and then importing the actual data to look at."
   ]
  },
  {
   "cell_type": "markdown",
   "metadata": {},
   "source": [
    "## WCWH Ambassador Families\n",
    "The ambassador families represent those that signed on for a beta test of all our protocol including the BEVO Beacon. The following devices were included in the rollout:\n",
    "\n",
    "```python\n",
    "beacon_list = [1,16,30,36]\n",
    "```"
   ]
  },
  {
   "cell_type": "markdown",
   "metadata": {},
   "source": [
    "## TEST IMPORT"
   ]
  },
  {
   "cell_type": "markdown",
   "metadata": {},
   "source": [
    "<div class=\"alert alert-block alert-info\">\n",
    " \n",
    "Testing the functionality of the beacon data import class for the WCWH pilot family era.\n",
    "    \n",
    "</div>"
   ]
  },
  {
   "cell_type": "code",
   "execution_count": 3,
   "metadata": {},
   "outputs": [
    {
     "name": "stdout",
     "output_type": "stream",
     "text": [
      "\tProcessing beacon data...\n",
      "\n",
      "\t\tReading for beacon:\n",
      "\t\t01\n",
      "\t\t\tNo NO2 sensor - switch NO2 headers to CO\n",
      "\t\t\tRemoving negative values\n",
      "\t\t\tRetaining NaN values\n",
      "\t\t02\n",
      "\t\t\tNo data available for Beacon 2 between 2022-01-01 00:00:00 - 2022-01-24 00:00:00\n",
      "\t\t03\n",
      "\t\t\tNo data available for Beacon 3 between 2022-01-01 00:00:00 - 2022-01-24 00:00:00\n",
      "\t\t04\n",
      "\t\t\tNo data available for Beacon 4 between 2022-01-01 00:00:00 - 2022-01-24 00:00:00\n",
      "\t\t05\n",
      "\t\t\tNo data available for Beacon 5 between 2022-01-01 00:00:00 - 2022-01-24 00:00:00\n",
      "\t\t06\n",
      "\t\t\tNo data available for Beacon 6 between 2022-01-01 00:00:00 - 2022-01-24 00:00:00\n",
      "\t\t07\n",
      "\t\t\tNo data available for Beacon 7 between 2022-01-01 00:00:00 - 2022-01-24 00:00:00\n",
      "\t\t08\n",
      "\t\t\tNo data available for Beacon 8 between 2022-01-01 00:00:00 - 2022-01-24 00:00:00\n",
      "\t\t09\n",
      "\t\t\tNo data available for Beacon 9 between 2022-01-01 00:00:00 - 2022-01-24 00:00:00\n",
      "\t\t10\n",
      "\t\t\tNo data available for Beacon 10 between 2022-01-01 00:00:00 - 2022-01-24 00:00:00\n",
      "\t\t11\n",
      "\t\t\tNo data available for Beacon 11 between 2022-01-01 00:00:00 - 2022-01-24 00:00:00\n",
      "\t\t12\n",
      "\t\t\tNo data available for Beacon 12 between 2022-01-01 00:00:00 - 2022-01-24 00:00:00\n",
      "\t\t13\n",
      "\t\t\tNo data available for Beacon 13 between 2022-01-01 00:00:00 - 2022-01-24 00:00:00\n",
      "\t\t14\n",
      "\t\t\tNo data available for Beacon 14 between 2022-01-01 00:00:00 - 2022-01-24 00:00:00\n",
      "\t\t15\n",
      "\t\t\tNo data available for Beacon 15 between 2022-01-01 00:00:00 - 2022-01-24 00:00:00\n",
      "\t\t16\n",
      "\t\t\tNo NO2 sensor - switch NO2 headers to CO\n",
      "\t\t\tRemoving negative values\n",
      "\t\t\tRetaining NaN values\n",
      "\t\t17\n",
      "\t\t\tNo data available for Beacon 17 between 2022-01-01 00:00:00 - 2022-01-24 00:00:00\n",
      "\t\t18\n",
      "\t\t\tNo data available for Beacon 18 between 2022-01-01 00:00:00 - 2022-01-24 00:00:00\n",
      "\t\t19\n",
      "\t\t\tNo data available for Beacon 19 between 2022-01-01 00:00:00 - 2022-01-24 00:00:00\n",
      "\t\t20\n",
      "\t\t\tNo data available for Beacon 20 between 2022-01-01 00:00:00 - 2022-01-24 00:00:00\n",
      "\t\t21\n",
      "\t\t\tNo data available for Beacon 21 between 2022-01-01 00:00:00 - 2022-01-24 00:00:00\n",
      "\t\t22\n",
      "\t\t\tNo data available for Beacon 22 between 2022-01-01 00:00:00 - 2022-01-24 00:00:00\n",
      "\t\t23\n",
      "\t\t\tNo data available for Beacon 23 between 2022-01-01 00:00:00 - 2022-01-24 00:00:00\n",
      "\t\t24\n",
      "\t\t\tNo data available for Beacon 24 between 2022-01-01 00:00:00 - 2022-01-24 00:00:00\n",
      "\t\t25\n",
      "\t\t\tNo data available for Beacon 25 between 2022-01-01 00:00:00 - 2022-01-24 00:00:00\n",
      "\t\t26\n",
      "\t\t\tNo data available for Beacon 26 between 2022-01-01 00:00:00 - 2022-01-24 00:00:00\n",
      "\t\t27\n",
      "\t\t\tNo data available for Beacon 27 between 2022-01-01 00:00:00 - 2022-01-24 00:00:00\n",
      "\t\t28\n",
      "\t\t\tNo data available for Beacon 28 between 2022-01-01 00:00:00 - 2022-01-24 00:00:00\n",
      "\t\t29\n",
      "\t\t\tNo data available for Beacon 29 between 2022-01-01 00:00:00 - 2022-01-24 00:00:00\n",
      "\t\t30\n",
      "\t\t\tNo NO2 sensor - switch NO2 headers to CO\n",
      "\t\t\tNo column Visible in dataframe\n",
      "\t\t\tNo column Infrared in dataframe\n",
      "No column lux in DataFrame\n",
      "\t\t\tRemoving negative values\n",
      "\t\t\tRetaining NaN values\n",
      "\t\t31\n",
      "\t\t\tNo data available for Beacon 31 between 2022-01-01 00:00:00 - 2022-01-24 00:00:00\n",
      "\t\t32\n",
      "\t\t\tNo data available for Beacon 32 between 2022-01-01 00:00:00 - 2022-01-24 00:00:00\n",
      "\t\t33\n",
      "\t\t\tNo data available for Beacon 33 between 2022-01-01 00:00:00 - 2022-01-24 00:00:00\n",
      "\t\t34\n",
      "\t\t\tNo data available for Beacon 34 between 2022-01-01 00:00:00 - 2022-01-24 00:00:00\n",
      "\t\t35\n",
      "\t\t\tNo data available for Beacon 35 between 2022-01-01 00:00:00 - 2022-01-24 00:00:00\n",
      "\t\t36\n",
      "\t\t\tNo NO2 sensor - switch NO2 headers to CO\n",
      "\t\t\tRemoving negative values\n",
      "\t\t\tRetaining NaN values\n",
      "\t\t37\n",
      "\t\t\tNo data available for Beacon 37 between 2022-01-01 00:00:00 - 2022-01-24 00:00:00\n",
      "\t\t38\n",
      "\t\t\tNo data available for Beacon 38 between 2022-01-01 00:00:00 - 2022-01-24 00:00:00\n",
      "\t\t39\n",
      "\t\t\tNo data available for Beacon 39 between 2022-01-01 00:00:00 - 2022-01-24 00:00:00\n",
      "\t\t40\n",
      "\t\t\tNo data available for Beacon 40 between 2022-01-01 00:00:00 - 2022-01-24 00:00:00\n",
      "\t\t41\n",
      "\t\t\tNo data available for Beacon 41 between 2022-01-01 00:00:00 - 2022-01-24 00:00:00\n",
      "\t\t42\n",
      "\t\t\tNo data available for Beacon 42 between 2022-01-01 00:00:00 - 2022-01-24 00:00:00\n",
      "\t\t43\n",
      "\t\t\tNo data available for Beacon 43 between 2022-01-01 00:00:00 - 2022-01-24 00:00:00\n",
      "\t\t44\n",
      "\t\t\tNo data available for Beacon 44 between 2022-01-01 00:00:00 - 2022-01-24 00:00:00\n",
      "\t\t45\n",
      "\t\t\tNo data available for Beacon 45 between 2022-01-01 00:00:00 - 2022-01-24 00:00:00\n",
      "\t\t46\n",
      "\t\t\tNo data available for Beacon 46 between 2022-01-01 00:00:00 - 2022-01-24 00:00:00\n",
      "\t\t47\n",
      "\t\t\tNo data available for Beacon 47 between 2022-01-01 00:00:00 - 2022-01-24 00:00:00\n",
      "\t\t48\n",
      "\t\t\tNo data available for Beacon 48 between 2022-01-01 00:00:00 - 2022-01-24 00:00:00\n",
      "\t\t49\n",
      "\t\t\tNo data available for Beacon 49 between 2022-01-01 00:00:00 - 2022-01-24 00:00:00\n",
      "\t\t50\n",
      "\t\t\tNo data available for Beacon 50 between 2022-01-01 00:00:00 - 2022-01-24 00:00:00\n",
      "DONE\n"
     ]
    },
    {
     "data": {
      "text/plain": [
       "True"
      ]
     },
     "execution_count": 3,
     "metadata": {},
     "output_type": "execute_result"
    }
   ],
   "source": [
    "test_import = wcwh.wcwh(study=\"wcwh_pilot\",suffix=\"wcwh_s21\",data_dir=\"../data\",verbose=2,start_time=datetime(2022,1,1),end_time=datetime(2022,1,24))\n",
    "test_import.process_beacon(extreme=\"zscore\",retain_negative=False)"
   ]
  },
  {
   "cell_type": "code",
   "execution_count": 4,
   "metadata": {},
   "outputs": [
    {
     "data": {
      "text/html": [
       "<div>\n",
       "<style scoped>\n",
       "    .dataframe tbody tr th:only-of-type {\n",
       "        vertical-align: middle;\n",
       "    }\n",
       "\n",
       "    .dataframe tbody tr th {\n",
       "        vertical-align: top;\n",
       "    }\n",
       "\n",
       "    .dataframe thead th {\n",
       "        text-align: right;\n",
       "    }\n",
       "</style>\n",
       "<table border=\"1\" class=\"dataframe\">\n",
       "  <thead>\n",
       "    <tr style=\"text-align: right;\">\n",
       "      <th></th>\n",
       "      <th>co</th>\n",
       "      <th>co2</th>\n",
       "      <th>lux</th>\n",
       "      <th>no2</th>\n",
       "      <th>pm1_mass</th>\n",
       "      <th>pm10_mass</th>\n",
       "      <th>pm2p5_mass</th>\n",
       "      <th>pm1_number</th>\n",
       "      <th>pm10_number</th>\n",
       "      <th>pm2p5_number</th>\n",
       "      <th>tvoc</th>\n",
       "      <th>temperature_c</th>\n",
       "      <th>rh</th>\n",
       "      <th>beacon</th>\n",
       "    </tr>\n",
       "    <tr>\n",
       "      <th>timestamp</th>\n",
       "      <th></th>\n",
       "      <th></th>\n",
       "      <th></th>\n",
       "      <th></th>\n",
       "      <th></th>\n",
       "      <th></th>\n",
       "      <th></th>\n",
       "      <th></th>\n",
       "      <th></th>\n",
       "      <th></th>\n",
       "      <th></th>\n",
       "      <th></th>\n",
       "      <th></th>\n",
       "      <th></th>\n",
       "    </tr>\n",
       "  </thead>\n",
       "  <tbody>\n",
       "    <tr>\n",
       "      <th>2022-01-01 00:00:00</th>\n",
       "      <td>5.610029</td>\n",
       "      <td>1263.794555</td>\n",
       "      <td>2.04</td>\n",
       "      <td>NaN</td>\n",
       "      <td>0.873541</td>\n",
       "      <td>2.202672</td>\n",
       "      <td>33.302178</td>\n",
       "      <td>52.450571</td>\n",
       "      <td>61.236338</td>\n",
       "      <td>59.706638</td>\n",
       "      <td>1.164888</td>\n",
       "      <td>6.508968</td>\n",
       "      <td>48.0</td>\n",
       "      <td>1</td>\n",
       "    </tr>\n",
       "    <tr>\n",
       "      <th>2022-01-01 00:01:00</th>\n",
       "      <td>5.610029</td>\n",
       "      <td>1534.013224</td>\n",
       "      <td>2.04</td>\n",
       "      <td>NaN</td>\n",
       "      <td>0.495397</td>\n",
       "      <td>0.443060</td>\n",
       "      <td>3.427843</td>\n",
       "      <td>28.680209</td>\n",
       "      <td>30.005432</td>\n",
       "      <td>29.787674</td>\n",
       "      <td>8.736656</td>\n",
       "      <td>6.508968</td>\n",
       "      <td>48.0</td>\n",
       "      <td>1</td>\n",
       "    </tr>\n",
       "    <tr>\n",
       "      <th>2022-01-01 00:02:00</th>\n",
       "      <td>5.610029</td>\n",
       "      <td>1488.203104</td>\n",
       "      <td>2.04</td>\n",
       "      <td>NaN</td>\n",
       "      <td>0.479096</td>\n",
       "      <td>0.731879</td>\n",
       "      <td>7.145036</td>\n",
       "      <td>25.903811</td>\n",
       "      <td>28.902724</td>\n",
       "      <td>28.385579</td>\n",
       "      <td>13.396206</td>\n",
       "      <td>6.508968</td>\n",
       "      <td>48.0</td>\n",
       "      <td>1</td>\n",
       "    </tr>\n",
       "    <tr>\n",
       "      <th>2022-01-01 00:03:00</th>\n",
       "      <td>5.613689</td>\n",
       "      <td>1493.921690</td>\n",
       "      <td>2.04</td>\n",
       "      <td>NaN</td>\n",
       "      <td>0.687357</td>\n",
       "      <td>1.351086</td>\n",
       "      <td>18.796054</td>\n",
       "      <td>40.675984</td>\n",
       "      <td>45.869332</td>\n",
       "      <td>44.971157</td>\n",
       "      <td>2.523923</td>\n",
       "      <td>6.508968</td>\n",
       "      <td>48.0</td>\n",
       "      <td>1</td>\n",
       "    </tr>\n",
       "    <tr>\n",
       "      <th>2022-01-01 00:04:00</th>\n",
       "      <td>5.615153</td>\n",
       "      <td>1505.806971</td>\n",
       "      <td>2.04</td>\n",
       "      <td>NaN</td>\n",
       "      <td>0.591876</td>\n",
       "      <td>1.686079</td>\n",
       "      <td>21.948349</td>\n",
       "      <td>30.930529</td>\n",
       "      <td>38.503994</td>\n",
       "      <td>37.176445</td>\n",
       "      <td>13.784502</td>\n",
       "      <td>6.508968</td>\n",
       "      <td>48.0</td>\n",
       "      <td>1</td>\n",
       "    </tr>\n",
       "  </tbody>\n",
       "</table>\n",
       "</div>"
      ],
      "text/plain": [
       "                           co          co2   lux  no2  pm1_mass  pm10_mass  \\\n",
       "timestamp                                                                    \n",
       "2022-01-01 00:00:00  5.610029  1263.794555  2.04  NaN  0.873541   2.202672   \n",
       "2022-01-01 00:01:00  5.610029  1534.013224  2.04  NaN  0.495397   0.443060   \n",
       "2022-01-01 00:02:00  5.610029  1488.203104  2.04  NaN  0.479096   0.731879   \n",
       "2022-01-01 00:03:00  5.613689  1493.921690  2.04  NaN  0.687357   1.351086   \n",
       "2022-01-01 00:04:00  5.615153  1505.806971  2.04  NaN  0.591876   1.686079   \n",
       "\n",
       "                     pm2p5_mass  pm1_number  pm10_number  pm2p5_number  \\\n",
       "timestamp                                                                \n",
       "2022-01-01 00:00:00   33.302178   52.450571    61.236338     59.706638   \n",
       "2022-01-01 00:01:00    3.427843   28.680209    30.005432     29.787674   \n",
       "2022-01-01 00:02:00    7.145036   25.903811    28.902724     28.385579   \n",
       "2022-01-01 00:03:00   18.796054   40.675984    45.869332     44.971157   \n",
       "2022-01-01 00:04:00   21.948349   30.930529    38.503994     37.176445   \n",
       "\n",
       "                          tvoc  temperature_c    rh  beacon  \n",
       "timestamp                                                    \n",
       "2022-01-01 00:00:00   1.164888       6.508968  48.0       1  \n",
       "2022-01-01 00:01:00   8.736656       6.508968  48.0       1  \n",
       "2022-01-01 00:02:00  13.396206       6.508968  48.0       1  \n",
       "2022-01-01 00:03:00   2.523923       6.508968  48.0       1  \n",
       "2022-01-01 00:04:00  13.784502       6.508968  48.0       1  "
      ]
     },
     "execution_count": 4,
     "metadata": {},
     "output_type": "execute_result"
    }
   ],
   "source": [
    "test_import.beacon_data.head()"
   ]
  },
  {
   "cell_type": "markdown",
   "metadata": {},
   "source": [
    "<div class=\"alert alert-block alert-success\">\n",
    " \n",
    "Looks like, at least at this time, that the `wcwh` class is able to successfully import and clean the beacon data from the devices out in the field.\n",
    "    \n",
    "</div>"
   ]
  },
  {
   "cell_type": "markdown",
   "metadata": {},
   "source": [
    "## Complete Beacon\n",
    "The complete set of beacon data represented by the object `beacon`"
   ]
  },
  {
   "cell_type": "code",
   "execution_count": 5,
   "metadata": {},
   "outputs": [
    {
     "data": {
      "text/html": [
       "<div>\n",
       "<style scoped>\n",
       "    .dataframe tbody tr th:only-of-type {\n",
       "        vertical-align: middle;\n",
       "    }\n",
       "\n",
       "    .dataframe tbody tr th {\n",
       "        vertical-align: top;\n",
       "    }\n",
       "\n",
       "    .dataframe thead th {\n",
       "        text-align: right;\n",
       "    }\n",
       "</style>\n",
       "<table border=\"1\" class=\"dataframe\">\n",
       "  <thead>\n",
       "    <tr style=\"text-align: right;\">\n",
       "      <th></th>\n",
       "      <th>co</th>\n",
       "      <th>co2</th>\n",
       "      <th>lux</th>\n",
       "      <th>no2</th>\n",
       "      <th>pm1_mass</th>\n",
       "      <th>pm10_mass</th>\n",
       "      <th>pm2p5_mass</th>\n",
       "      <th>pm1_number</th>\n",
       "      <th>pm10_number</th>\n",
       "      <th>pm2p5_number</th>\n",
       "      <th>tvoc</th>\n",
       "      <th>temperature_c</th>\n",
       "      <th>rh</th>\n",
       "      <th>beacon</th>\n",
       "    </tr>\n",
       "    <tr>\n",
       "      <th>timestamp</th>\n",
       "      <th></th>\n",
       "      <th></th>\n",
       "      <th></th>\n",
       "      <th></th>\n",
       "      <th></th>\n",
       "      <th></th>\n",
       "      <th></th>\n",
       "      <th></th>\n",
       "      <th></th>\n",
       "      <th></th>\n",
       "      <th></th>\n",
       "      <th></th>\n",
       "      <th></th>\n",
       "      <th></th>\n",
       "    </tr>\n",
       "  </thead>\n",
       "  <tbody>\n",
       "    <tr>\n",
       "      <th>2022-01-01 00:00:00</th>\n",
       "      <td>5.610029</td>\n",
       "      <td>1263.794555</td>\n",
       "      <td>2.04</td>\n",
       "      <td>NaN</td>\n",
       "      <td>0.873541</td>\n",
       "      <td>2.202672</td>\n",
       "      <td>33.302178</td>\n",
       "      <td>52.450571</td>\n",
       "      <td>61.236338</td>\n",
       "      <td>59.706638</td>\n",
       "      <td>1.164888</td>\n",
       "      <td>6.508968</td>\n",
       "      <td>48.0</td>\n",
       "      <td>1</td>\n",
       "    </tr>\n",
       "    <tr>\n",
       "      <th>2022-01-01 00:01:00</th>\n",
       "      <td>5.610029</td>\n",
       "      <td>1534.013224</td>\n",
       "      <td>2.04</td>\n",
       "      <td>NaN</td>\n",
       "      <td>0.495397</td>\n",
       "      <td>0.443060</td>\n",
       "      <td>3.427843</td>\n",
       "      <td>28.680209</td>\n",
       "      <td>30.005432</td>\n",
       "      <td>29.787674</td>\n",
       "      <td>8.736656</td>\n",
       "      <td>6.508968</td>\n",
       "      <td>48.0</td>\n",
       "      <td>1</td>\n",
       "    </tr>\n",
       "    <tr>\n",
       "      <th>2022-01-01 00:02:00</th>\n",
       "      <td>5.610029</td>\n",
       "      <td>1488.203104</td>\n",
       "      <td>2.04</td>\n",
       "      <td>NaN</td>\n",
       "      <td>0.479096</td>\n",
       "      <td>0.731879</td>\n",
       "      <td>7.145036</td>\n",
       "      <td>25.903811</td>\n",
       "      <td>28.902724</td>\n",
       "      <td>28.385579</td>\n",
       "      <td>13.396206</td>\n",
       "      <td>6.508968</td>\n",
       "      <td>48.0</td>\n",
       "      <td>1</td>\n",
       "    </tr>\n",
       "    <tr>\n",
       "      <th>2022-01-01 00:03:00</th>\n",
       "      <td>5.613689</td>\n",
       "      <td>1493.921690</td>\n",
       "      <td>2.04</td>\n",
       "      <td>NaN</td>\n",
       "      <td>0.687357</td>\n",
       "      <td>1.351086</td>\n",
       "      <td>18.796054</td>\n",
       "      <td>40.675984</td>\n",
       "      <td>45.869332</td>\n",
       "      <td>44.971157</td>\n",
       "      <td>2.523923</td>\n",
       "      <td>6.508968</td>\n",
       "      <td>48.0</td>\n",
       "      <td>1</td>\n",
       "    </tr>\n",
       "    <tr>\n",
       "      <th>2022-01-01 00:04:00</th>\n",
       "      <td>5.615153</td>\n",
       "      <td>1505.806971</td>\n",
       "      <td>2.04</td>\n",
       "      <td>NaN</td>\n",
       "      <td>0.591876</td>\n",
       "      <td>1.686079</td>\n",
       "      <td>21.948349</td>\n",
       "      <td>30.930529</td>\n",
       "      <td>38.503994</td>\n",
       "      <td>37.176445</td>\n",
       "      <td>13.784502</td>\n",
       "      <td>6.508968</td>\n",
       "      <td>48.0</td>\n",
       "      <td>1</td>\n",
       "    </tr>\n",
       "  </tbody>\n",
       "</table>\n",
       "</div>"
      ],
      "text/plain": [
       "                           co          co2   lux  no2  pm1_mass  pm10_mass  \\\n",
       "timestamp                                                                    \n",
       "2022-01-01 00:00:00  5.610029  1263.794555  2.04  NaN  0.873541   2.202672   \n",
       "2022-01-01 00:01:00  5.610029  1534.013224  2.04  NaN  0.495397   0.443060   \n",
       "2022-01-01 00:02:00  5.610029  1488.203104  2.04  NaN  0.479096   0.731879   \n",
       "2022-01-01 00:03:00  5.613689  1493.921690  2.04  NaN  0.687357   1.351086   \n",
       "2022-01-01 00:04:00  5.615153  1505.806971  2.04  NaN  0.591876   1.686079   \n",
       "\n",
       "                     pm2p5_mass  pm1_number  pm10_number  pm2p5_number  \\\n",
       "timestamp                                                                \n",
       "2022-01-01 00:00:00   33.302178   52.450571    61.236338     59.706638   \n",
       "2022-01-01 00:01:00    3.427843   28.680209    30.005432     29.787674   \n",
       "2022-01-01 00:02:00    7.145036   25.903811    28.902724     28.385579   \n",
       "2022-01-01 00:03:00   18.796054   40.675984    45.869332     44.971157   \n",
       "2022-01-01 00:04:00   21.948349   30.930529    38.503994     37.176445   \n",
       "\n",
       "                          tvoc  temperature_c    rh  beacon  \n",
       "timestamp                                                    \n",
       "2022-01-01 00:00:00   1.164888       6.508968  48.0       1  \n",
       "2022-01-01 00:01:00   8.736656       6.508968  48.0       1  \n",
       "2022-01-01 00:02:00  13.396206       6.508968  48.0       1  \n",
       "2022-01-01 00:03:00   2.523923       6.508968  48.0       1  \n",
       "2022-01-01 00:04:00  13.784502       6.508968  48.0       1  "
      ]
     },
     "execution_count": 5,
     "metadata": {},
     "output_type": "execute_result"
    }
   ],
   "source": [
    "beacon = beacon_summary.Summarize(study=\"wcwh_pilot\",suffix=\"wcwh_s21\",data_dir=\"../data/\")\n",
    "beacon.data.head()"
   ]
  },
  {
   "cell_type": "markdown",
   "metadata": {},
   "source": [
    "---"
   ]
  },
  {
   "cell_type": "markdown",
   "metadata": {},
   "source": [
    "<a id=\"operation\"></a>"
   ]
  },
  {
   "cell_type": "markdown",
   "metadata": {},
   "source": [
    "# Operation/Reliability and Available Data\n",
    "A look at how reliably the beacons have be monitoring the space and what data are available."
   ]
  },
  {
   "cell_type": "markdown",
   "metadata": {},
   "source": [
    "## Sensor Operation\n",
    "Operation break-down by sensor"
   ]
  },
  {
   "cell_type": "code",
   "execution_count": 27,
   "metadata": {
    "scrolled": false
   },
   "outputs": [
    {
     "data": {
      "image/png": "[encoded data removed]",
      "text/plain": [
       "<Figure size 1152x648 with 12 Axes>"
      ]
     },
     "metadata": {
      "needs_background": "light"
     },
     "output_type": "display_data"
    },
    {
     "data": {
      "image/png": "[encoded data removed]",
      "text/plain": [
       "<Figure size 1152x648 with 12 Axes>"
      ]
     },
     "metadata": {
      "needs_background": "light"
     },
     "output_type": "display_data"
    },
    {
     "data": {
      "image/png": "[encoded data removed]",
      "text/plain": [
       "<Figure size 1152x648 with 12 Axes>"
      ]
     },
     "metadata": {
      "needs_background": "light"
     },
     "output_type": "display_data"
    },
    {
     "data": {
      "image/png": "[encoded data removed]",
      "text/plain": [
       "<Figure size 1152x648 with 12 Axes>"
      ]
     },
     "metadata": {
      "needs_background": "light"
     },
     "output_type": "display_data"
    }
   ],
   "source": [
    "beacon.plot_sensor_operation()"
   ]
  },
  {
   "cell_type": "markdown",
   "metadata": {},
   "source": [
    "<div class=\"alert alert-block alert-warning\">\n",
    " \n",
    "Beacon 30 seems to have periods where data are missing at every other timestamp and merits a closer look.\n",
    "    \n",
    "</div>"
   ]
  },
  {
   "cell_type": "markdown",
   "metadata": {},
   "source": [
    "### Beacon 30\n",
    "These are some of the periods where Beacon 30 exhibits extensive missing data:\n",
    "* 01/01/22 - 01/02/22\n",
    "* 01/09/22 - 01/11/22\n",
    "\n",
    "These periods are also consistent across all sensors. However, the PM sensors seems to go offline a bit more often during these periods:\n",
    "* 01/05/22 - 01/06/22\n",
    "* 01/13/22 12:00 - 01/14/22"
   ]
  },
  {
   "cell_type": "code",
   "execution_count": 28,
   "metadata": {},
   "outputs": [],
   "source": [
    "b30 = beacon.get_beacon(30)"
   ]
  },
  {
   "cell_type": "markdown",
   "metadata": {},
   "source": [
    "---"
   ]
  },
  {
   "cell_type": "markdown",
   "metadata": {},
   "source": [
    "<a id=\"aggregated\"></a>"
   ]
  },
  {
   "cell_type": "markdown",
   "metadata": {},
   "source": [
    "# Aggregated Summary\n",
    "Starting with a summary of all the available data"
   ]
  },
  {
   "cell_type": "code",
   "execution_count": null,
   "metadata": {},
   "outputs": [],
   "source": [
    "beacon.get_summary_stats()"
   ]
  },
  {
   "cell_type": "code",
   "execution_count": null,
   "metadata": {},
   "outputs": [],
   "source": [
    "beacon.plot_aggregate_distributions()"
   ]
  },
  {
   "cell_type": "markdown",
   "metadata": {},
   "source": [
    "For the most part, the beacons appear to be behaving normally with measurements within normal ranges with the occasional extreme measurements consistent with activity like cooking and cleaning."
   ]
  },
  {
   "cell_type": "markdown",
   "metadata": {},
   "source": [
    "<div class=\"alert alert-block alert-danger\">\n",
    " \n",
    "The temperature measurements are very low and cannot be accurate. The likely cause is the correction file that we are using so I should first re-examine if I am using the right file and then if so, look at the raw data prior to correcting. \n",
    "    \n",
    "</div>"
   ]
  },
  {
   "cell_type": "markdown",
   "metadata": {},
   "source": [
    "---"
   ]
  },
  {
   "cell_type": "markdown",
   "metadata": {},
   "source": [
    "<a id=\"pt-based\"></a>"
   ]
  },
  {
   "cell_type": "markdown",
   "metadata": {},
   "source": [
    "# Participant-Based Summary"
   ]
  },
  {
   "cell_type": "code",
   "execution_count": null,
   "metadata": {
    "scrolled": false
   },
   "outputs": [],
   "source": [
    "beacon.plot_beacon_joyplots_by_stat()"
   ]
  },
  {
   "cell_type": "code",
   "execution_count": null,
   "metadata": {},
   "outputs": [],
   "source": [
    "def plot_beacon_boxplots_by_stat(df,by_var='beacon',by_stat=\"mean\",save=False,study_suffix=\"ux_s20\",figure_note=\"\"):\n",
    "    '''\n",
    "    Plots joyplots for the major sensors on the beacon. \n",
    "    \n",
    "    Input:\n",
    "    - df: DataFrame with data columns of data to plot\n",
    "    - by_var: string of column used to separate the individual distributions by\n",
    "    - by_stat: summary stat to order joyplots by\n",
    "    \n",
    "    Returns void\n",
    "    '''\n",
    "    variables = ['co2','pm2p5_mass','lux','no2','co','tvoc']\n",
    "    units = [\"Carbon Dioxide (ppm)\",\"PM2.5 ($\\mu$g/m$^3$)\",\"Light Level (lux)\",\"Nitrogen Dioxide (ppb)\",\"Carbon Monoxide (ppm)\",\" TVOC (ppb)\"]\n",
    "    titles = [\"a\",\"b\",\"c\",\"d\",\"e\",\"f\"]\n",
    "    colors = ['cornflowerblue','grey','goldenrod','firebrick','pink','seagreen']\n",
    "    limits = [[400,3000],[0,10],[0,100],[0,700],[0,12,46],[0,800]]\n",
    "    \n",
    "    for var, color, limit, unit, title in zip(variables, colors, limits, units, titles):\n",
    "        df_filtered = pd.DataFrame()\n",
    "        for bb in df[by_var].unique():\n",
    "            temp = df[df[by_var] == bb]\n",
    "            temp['stat'] = temp[var].median() + 0.0001*int(bb)\n",
    "\n",
    "            if len(temp) > 0:\n",
    "                df_filtered = df_filtered.append(temp)\n",
    "                \n",
    "        fig, ax = plt.subplots(figsize=(20,8))\n",
    "        df_filtered.sort_values(\"stat\",inplace=True,ascending=False)\n",
    "        sns.boxplot(x=\"stat\",y=var,order=df_filtered[\"stat\"].unique(),data=df_filtered)\n",
    "        ax.set_xticklabels(df_filtered[\"beacon\"].unique(),fontsize=14)\n",
    "        ax.set_xlabel(\"\")\n",
    "        plt.yticks(fontsize=14)\n",
    "        ax.set_ylabel(unit,fontsize=16)\n",
    "        for loc in [\"top\",\"right\"]:\n",
    "            ax.spines[loc].set_visible(False)\n",
    "            \n",
    "        if save == True:\n",
    "            plt.savefig(f'../reports/figures/beacon_summary/beacon-{var}-joyplot{figure_note}-{study_suffix}.pdf',bbox_inches=\"tight\")\n",
    "        plt.show()\n",
    "        plt.close()"
   ]
  },
  {
   "cell_type": "code",
   "execution_count": null,
   "metadata": {},
   "outputs": [],
   "source": [
    "def plot_correlation_matrix_filtered(df,name=\"partially_filtered\",variables=['lux','temperature_c','rh','tvoc','co2','co','no2','pm2p5_mass'], save=False):\n",
    "    \"\"\"plots correlation matrix between variables\"\"\"\n",
    "    df = df[variables]\n",
    "    df.columns = [visualize.get_label(col) for col in df.columns]\n",
    "    corr = df.corr()\n",
    "    corr = round(corr,2)\n",
    "    mask = np.triu(np.ones_like(corr, dtype=bool))\n",
    "    fig, ax = plt.subplots(figsize=(7, 5))\n",
    "    sns.heatmap(corr, mask=mask, \n",
    "                     vmin=-1, vmax=1, center=0, \n",
    "                     cmap=sns.diverging_palette(20, 220, n=200),cbar_kws={'ticks':[-1,-0.5,0,0.5,1],\"pad\":-0.07,\"shrink\":0.8,\"anchor\":(0.0,0.0)},fmt=\".2f\",\n",
    "                     square=True,linewidths=1,annot=True,annot_kws={\"size\":12},ax=ax)\n",
    "    # colorbar\n",
    "    cbar = ax.collections[0].colorbar\n",
    "    cbar.ax.tick_params(labelsize=14)\n",
    "    cbar.outline.set_color('black')\n",
    "    cbar.outline.set_linewidth(0.5)\n",
    "    \n",
    "    yticklabels = ax.get_yticklabels()\n",
    "    yticklabels[0] = ' '\n",
    "    ax.set_yticklabels(yticklabels,rotation=0,ha='right',fontsize=14)\n",
    "\n",
    "    xticklabels = ax.get_xticklabels()\n",
    "    xticklabels[-1] = ' '\n",
    "    ax.set_xticklabels(xticklabels,rotation=0,ha='center',fontsize=14)\n",
    "    ax.tick_params(axis=u'both', which=u'both',length=0)\n",
    "    if save:\n",
    "        plt.savefig(f'../reports/figures/beacon_{name}-correlation_matrix-ux_s20.pdf',bbox_inches='tight')\n",
    "        #plt.savefig(f'../../papers/60a81c09c88429592190c90b/figures/beacon_{name}-correlation_matrix-ux_s20.pdf',bbox_inches=\"tight\")\n",
    "    plt.show()\n",
    "    plt.close()"
   ]
  },
  {
   "cell_type": "code",
   "execution_count": null,
   "metadata": {},
   "outputs": [],
   "source": [
    "def ts_inspection(df_in,variable,start_time,end_time,re=False,**kwargs):\n",
    "    \"\"\"plots timeseries data for certain variable\"\"\"\n",
    "    df = df_in.copy()\n",
    "    if \"beacon\" in kwargs.keys():\n",
    "        df = df[df[\"beacon\"] == kwargs[\"beacon\"]]\n",
    "        \n",
    "    df.index = pd.to_datetime(df.index)\n",
    "    fig, ax = plt.subplots(figsize=(24,4))\n",
    "    df = df[start_time:end_time]\n",
    "    ax.scatter(df.index,df[variable],color=\"black\",s=5)\n",
    "    # formatting\n",
    "    for loc in [\"top\",\"right\"]:\n",
    "        ax.spines[loc].set_visible(False)\n",
    "\n",
    "    if re:\n",
    "        return ax\n",
    "    \n",
    "    plt.show()\n",
    "    plt.close()"
   ]
  },
  {
   "cell_type": "code",
   "execution_count": null,
   "metadata": {},
   "outputs": [],
   "source": [
    "def plot_data_availability_heatmap(df, df_filter='not', save=False, save_dir='../reports/figures/'):\n",
    "    '''\n",
    "    Plots a heatmap showing number of nights the various beacons measured for each sensor\n",
    "    \n",
    "    Inputs\n",
    "    - df: dataframe with columns in columns_to_use\n",
    "    - df_filter: the naming convention of the filtering applied to the beacon - used when saving\n",
    "    - savefig: boolean specifying whether or not to save the file\n",
    "    - save_dir: string of the location to save the figure\n",
    "    \n",
    "    Returns the count dataframe used to generate the heatmap\n",
    "    '''\n",
    "    legend_fs = 14\n",
    "    tick_fs = 16\n",
    "    label_fs = 18\n",
    "    title_fs = 24\n",
    "    # filtering the dataframe to only include import vars\n",
    "    columns_to_use = ['lux','tvoc','co2','co','pm2p5_mass','beacon','start_time']\n",
    "    df_filtered = df[columns_to_use]\n",
    "    # dict to store the values\n",
    "    data = {'lux':[],'tvoc':[],'co2':[],'co':[],'pm2p5_mass':[],'beacon':[]}\n",
    "    # looping through the dataframe to get the number of nights each beacon measured\n",
    "    for bb in df_filtered['beacon'].unique():\n",
    "        df_by_bb = df_filtered[df_filtered['beacon'] == bb]\n",
    "        df_by_bb_by_night = df_by_bb.groupby('start_time').mean()\n",
    "        for var in columns_to_use:\n",
    "            if var == 'start_time':\n",
    "                pass\n",
    "            elif var == 'beacon':\n",
    "                data['beacon'].append(bb)\n",
    "            else:\n",
    "                data[var].append(df_by_bb_by_night.count()[var])\n",
    "\n",
    "    # formatting dataframe\n",
    "    df_count = pd.DataFrame(data=data,index=data['beacon'])\n",
    "    df_count.drop('beacon',axis=1,inplace=True)\n",
    "    df_count.sort_index(inplace=True)\n",
    "    \n",
    "    # plotting heatmap\n",
    "    fig, ax = plt.subplots(figsize=(12,5))\n",
    "    sns.heatmap(df_count.sort_values(by='lux').T,square=True,annot=True,fmt=\"d\",linewidths=.5,cmap=\"Blues\",vmin=0,vmax=70,cbar_kws={\"shrink\":0.5,\"pad\":0.02,\"ticks\":range(0,80,10)},annot_kws={\"fontsize\":legend_fs-4},ax=ax)\n",
    "    cbar = ax.collections[0].colorbar\n",
    "    cbar.ax.tick_params(labelsize=legend_fs)\n",
    "    # reformatting figure labels\n",
    "    ax.tick_params(axis=\"x\",labelsize=tick_fs)\n",
    "    ax.set_yticklabels(['Light','TVOC','CO$_2$','CO','PM$_{2.5}$'],rotation=0,fontsize=tick_fs)\n",
    "    ax.set_xlabel('Participant/Beacon Number',fontsize=label_fs)\n",
    "    #ax.set_title('Number of Nights Measured by BEVO Beacon')\n",
    "    \n",
    "    # saving and showing\n",
    "    if save:\n",
    "        plt.savefig(f'{save_dir}beacon_{df_filter}_filtered-data_availability-heatmap-ux_s20.pdf',bbox_inches='tight')\n",
    "    plt.show()\n",
    "    plt.close()\n",
    "    \n",
    "    return df_count"
   ]
  },
  {
   "cell_type": "code",
   "execution_count": null,
   "metadata": {},
   "outputs": [],
   "source": [
    "def get_number_nights_by_device(df_in, by_id=\"beacon\",start_date=datetime(2020,5,1), end_date=datetime(2020,10,1), save=False):\n",
    "    \"\"\"\n",
    "    Plots the number of nights per participant that were logged by the beacon\n",
    "    \n",
    "    Parameters\n",
    "    ----------\n",
    "    df : DataFrame\n",
    "        \n",
    "    by_id : str, default \"beacon\"\n",
    "    \n",
    "    start_date : Datetime, default datetime(2020,10,1)\n",
    "    \n",
    "    end_date : Datetime, default datetime(2020,5,1)\n",
    "    \n",
    "    save : boolean, default False\n",
    "    \n",
    "    Returns\n",
    "    -------\n",
    "    df_to_plot : DataFrame\n",
    "        \n",
    "    \"\"\"\n",
    "    legend_fs = 22\n",
    "    tick_fs = 24\n",
    "    label_fs = 26\n",
    "    title_fs = 32\n",
    "    # Adding Date column\n",
    "    df = df_in.copy()\n",
    "    df[\"date\"] = pd.to_datetime(df[\"end_time\"].dt.date)\n",
    "    # Number of nights recorded\n",
    "    pids = []\n",
    "    nights_recorded = []\n",
    "    # Looping through participants\n",
    "    grouped = df.groupby([\"beacon\",\"date\"]).count().reset_index()\n",
    "    for pt in grouped[by_id].unique():\n",
    "        sleep_by_pt = grouped[grouped[by_id] == pt]\n",
    "        sleep_by_pt.set_index(\"date\",inplace=True)\n",
    "        sleep_by_pt = sleep_by_pt[start_date:end_date]\n",
    "        if len(sleep_by_pt) > 0:\n",
    "            pids.append(pt)\n",
    "            nights_recorded.append(len(sleep_by_pt))\n",
    "\n",
    "    _, ax = plt.subplots(figsize=(16,5))\n",
    "    df_to_plot = pd.DataFrame(data={\"id\":pids,\"nights\":nights_recorded})\n",
    "    df_to_plot[\"id\"] = df_to_plot[\"id\"].astype(int).astype(str)\n",
    "    df_to_plot.sort_values([\"nights\"],ascending=False,inplace=True)\n",
    "    # scattering number of nights recorded eper participant\n",
    "    ax.scatter(df_to_plot[\"id\"],df_to_plot[\"nights\"],s=125,color=\"black\", zorder=10)\n",
    "    # average line\n",
    "    ax.axhline(np.mean(df_to_plot[\"nights\"]),color=\"black\",linewidth=2,linestyle=\"dashed\")\n",
    "    # x-axis\n",
    "    ax.set_xlabel(\"Participant ID\",fontsize=label_fs)\n",
    "    plt.setp(ax.get_xticklabels(), ha=\"center\", rotation=0, fontsize=tick_fs-4)\n",
    "    # y-axis\n",
    "    ax.set_ylabel(\"Nights Measured by\\nBEVO Beacon\",fontsize=label_fs)\n",
    "    plt.setp(ax.get_yticklabels(), ha=\"right\", rotation=0, fontsize=tick_fs)\n",
    "    ax.set_yticks(np.arange(0,110,10))\n",
    "    # remaining\n",
    "    for loc in [\"top\",\"right\"]:\n",
    "        ax.spines[loc].set_visible(False)\n",
    "    \n",
    "    if save:\n",
    "        plt.savefig(\"../reports/figures/beacon_summary/beacon-number_nights_recorded-ux_s20.png\",bbox_inches=\"tight\")\n",
    "        plt.savefig('../../papers/5eea5276044b790001ee5687/figures/beacon-number_nights_recorded-ux_s20.pdf',bbox_inches=\"tight\")\n",
    "    plt.show()\n",
    "    plt.close()\n",
    "    \n",
    "    return df_to_plot"
   ]
  },
  {
   "cell_type": "code",
   "execution_count": null,
   "metadata": {},
   "outputs": [],
   "source": [
    "_ = get_number_nights_by_device(beacon_night_occupied,save=False)"
   ]
  },
  {
   "cell_type": "code",
   "execution_count": null,
   "metadata": {},
   "outputs": [],
   "source": [
    "temp = beacon_night_occupied.copy()\n",
    "temp[\"date\"] = temp[\"end_time\"].dt.date"
   ]
  },
  {
   "cell_type": "code",
   "execution_count": null,
   "metadata": {},
   "outputs": [],
   "source": [
    "temp.groupby([\"beacon\",\"date\"]).count()"
   ]
  },
  {
   "cell_type": "code",
   "execution_count": null,
   "metadata": {},
   "outputs": [],
   "source": [
    "def plot_ts(df,param=\"co2\",beacon=\"all\",**kwargs):\n",
    "    \"\"\"\n",
    "    Plots the timeseries of the data\n",
    "    \"\"\"\n",
    "    _, ax = plt.subplots(figsize=(20,6))\n",
    "    if beacon == \"all\":\n",
    "        for beacon in df[\"beacon\"].unique():\n",
    "            df_bb = df[df[\"beacon\"] == beacon]\n",
    "            ax.plot(df.index,df[param],lw=2,marker=visualize.get_marker(beacon), label=beacon)\n",
    "    else:\n",
    "        df_bb = df[df[\"beacon\"] == beacon]\n",
    "        ax.plot(df_bb.index,df_bb[param],lw=2,color=\"black\", label=\"beacon\")\n",
    "    \n",
    "    if \"start_time\" in kwargs.keys():\n",
    "        ax.set_xlim(left=kwargs[\"start_time\"])\n",
    "    if \"end_time\" in kwargs.keys():\n",
    "        ax.set_xlim(right=kwargs[\"end_time\"])\n",
    "    \n",
    "    for loc in [\"top\",\"right\"]:\n",
    "        ax.spines[loc].set_visible(False)\n",
    "    ax.legend(frameon=False)\n",
    "    \n",
    "    plt.show()\n",
    "    plt.close()"
   ]
  },
  {
   "cell_type": "code",
   "execution_count": null,
   "metadata": {},
   "outputs": [],
   "source": [
    "def get_percent_le(df,ieq_param,threshold):\n",
    "    \"\"\"\n",
    "    Gets the percent of data less than or equal to the given threshold \n",
    "    \"\"\"\n",
    "    df_less = df[df[ieq_param] <= threshold]\n",
    "    return len(df_less)/len(df)"
   ]
  },
  {
   "cell_type": "markdown",
   "metadata": {},
   "source": [
    "### Complete Dataset\n",
    "Now we look at the summary of data from the complete dataset."
   ]
  },
  {
   "cell_type": "code",
   "execution_count": null,
   "metadata": {},
   "outputs": [],
   "source": [
    "beacon_20 = beacon[beacon[\"beacon\"].isin([1, 5, 6, 7, 10, 11, 15, 16, 19, 21, 24, 25, 26, 29, 30, 34, 36, 38, 44, 46])]\n",
    "get_summary_stats(beacon_20, variables=['temperature_c','rh','tvoc','co2','co','pm2p5_mass',\"lux\"],save=False)"
   ]
  },
  {
   "cell_type": "markdown",
   "metadata": {},
   "source": [
    "#### Summarizing Number of Measurements"
   ]
  },
  {
   "cell_type": "code",
   "execution_count": null,
   "metadata": {
    "scrolled": false
   },
   "outputs": [],
   "source": [
    "def get_param_n(df,params=['temperature_c','rh','tvoc','co2','co','pm2p5_mass',\"lux\"]):\n",
    "    \"\"\"\"\"\"\n",
    "    summary_dict = {\"beacon\":[],\"param\":[],\"n\":[],\"days\":[]}\n",
    "    for param in params:\n",
    "        #print(\"Paramter:\",param)\n",
    "        for bb in df[\"beacon\"].unique():\n",
    "            data_bb = df[df[\"beacon\"] == bb]\n",
    "            data_bb = data_bb[datetime(2020,6,15):datetime(2020,9,1)]\n",
    "            summary_dict[\"beacon\"].append(bb)\n",
    "            summary_dict[\"n\"].append(len(data_bb[param].dropna()))\n",
    "            summary_dict[\"param\"].append(param)\n",
    "            summary_dict[\"days\"].append((len(data_bb[param].dropna())-1)*2/60/24)\n",
    "\n",
    "    return pd.DataFrame(summary_dict)"
   ]
  },
  {
   "cell_type": "code",
   "execution_count": null,
   "metadata": {},
   "outputs": [],
   "source": [
    "n_b20 = get_param_n(beacon_20)\n",
    "n_b20[n_b20[\"param\"] == \"co\"].sort_values([\"n\"]).mean()"
   ]
  },
  {
   "cell_type": "code",
   "execution_count": null,
   "metadata": {},
   "outputs": [],
   "source": [
    "b30 = beacon_20[beacon_20[\"beacon\"] == 30]\n",
    "b30.dropna(subset=[\"tvoc\",\"lux\",\"no2\",\"co\",\"co2\",\"pm2p5_mass\",\"temperature_c\",\"rh\"],how=\"all\",inplace=True)\n",
    "_, ax = plt.subplots(figsize=(24,6))\n",
    "ax.plot(b30.index,b30[\"co\"])"
   ]
  },
  {
   "cell_type": "markdown",
   "metadata": {},
   "source": [
    "#### Plots"
   ]
  },
  {
   "cell_type": "code",
   "execution_count": null,
   "metadata": {
    "scrolled": true
   },
   "outputs": [],
   "source": [
    "plot_beacon_joyplots_by_stat(beacon_20,by_stat=\"mean\",save=False,figure_note=\"all\")"
   ]
  },
  {
   "cell_type": "code",
   "execution_count": null,
   "metadata": {
    "scrolled": true
   },
   "outputs": [],
   "source": [
    "#plot_beacon_boxplots_by_stat(beacon, save=False)"
   ]
  },
  {
   "cell_type": "markdown",
   "metadata": {},
   "source": [
    "##### Aggregate Correlation"
   ]
  },
  {
   "cell_type": "code",
   "execution_count": null,
   "metadata": {},
   "outputs": [],
   "source": [
    "plot_correlation_matrix_filtered(beacon, name=\"all\", variables = ['temperature_c','rh','tvoc','co2','co','pm2p5_mass'], save=False)"
   ]
  },
  {
   "cell_type": "markdown",
   "metadata": {},
   "source": [
    "##### Correlation by Device"
   ]
  },
  {
   "cell_type": "code",
   "execution_count": null,
   "metadata": {
    "scrolled": false
   },
   "outputs": [],
   "source": [
    "for bb in beacon[\"beacon\"].unique():\n",
    "    print(bb)\n",
    "    df_bb = beacon[beacon[\"beacon\"] == bb]\n",
    "    plot_correlation_matrix_filtered(df_bb, name=\"all\", variables = ['temperature_c','rh','tvoc','co2','co','pm2p5_mass'], save=False)"
   ]
  },
  {
   "cell_type": "code",
   "execution_count": null,
   "metadata": {},
   "outputs": [],
   "source": [
    "plot_ts(beacon,param=\"co\",beacon=24,start_time=datetime(2020,6,15),end_time=datetime(2020,6,25))"
   ]
  },
  {
   "cell_type": "markdown",
   "metadata": {},
   "source": [
    "### Occupied Data Summary\n",
    "The same analysis as above but only for time when the occupant is occupying the space."
   ]
  },
  {
   "cell_type": "code",
   "execution_count": null,
   "metadata": {},
   "outputs": [],
   "source": [
    "print(\"Beacons:\",sorted(beacon_night_occupied[\"beacon\"].unique()))"
   ]
  },
  {
   "cell_type": "code",
   "execution_count": null,
   "metadata": {},
   "outputs": [],
   "source": [
    "temp = beacon_night_occupied.groupby([\"beacon\",\"start_time\"]).median().reset_index()\n",
    "print(\"Number of nights:\", len(temp))\n",
    "print(\"Number of individuals:\", len(temp[\"beacon\"].unique()))"
   ]
  },
  {
   "cell_type": "markdown",
   "metadata": {},
   "source": [
    "#### Data Completeness"
   ]
  },
  {
   "cell_type": "code",
   "execution_count": null,
   "metadata": {},
   "outputs": [],
   "source": [
    "partially_filtered_nights = plot_data_availability_heatmap(beacon_night_occupied, df_filter='partially', save=False, save_dir=\"../../papers/5eea5276044b790001ee5687/figures/\")"
   ]
  },
  {
   "cell_type": "markdown",
   "metadata": {},
   "source": [
    "#### Summary Statistics/Distributions"
   ]
  },
  {
   "cell_type": "code",
   "execution_count": null,
   "metadata": {},
   "outputs": [],
   "source": [
    "get_summary_stats(beacon_night_occupied)"
   ]
  },
  {
   "cell_type": "code",
   "execution_count": null,
   "metadata": {
    "scrolled": false
   },
   "outputs": [],
   "source": [
    "plot_beacon_joyplots_by_stat(beacon_night_occupied, save=False, figure_note=\"_partially_filtered\")"
   ]
  },
  {
   "cell_type": "code",
   "execution_count": null,
   "metadata": {},
   "outputs": [],
   "source": [
    "plot_beacon_boxplots_by_stat(beacon_night_occupied, save=False)"
   ]
  },
  {
   "cell_type": "markdown",
   "metadata": {},
   "source": [
    "#### Correlation"
   ]
  },
  {
   "cell_type": "markdown",
   "metadata": {},
   "source": [
    "Checking correlation for individual devices"
   ]
  },
  {
   "cell_type": "code",
   "execution_count": null,
   "metadata": {
    "scrolled": false
   },
   "outputs": [],
   "source": [
    "for bb in beacon_night_occupied[\"beacon\"].unique():\n",
    "    df_bb = beacon_night_occupied[beacon_night_occupied[\"beacon\"] == bb]\n",
    "    print(bb)\n",
    "    plot_correlation_matrix_filtered(df_bb,variables=[\"tvoc\",\"co2\",\"co\",\"pm2p5_mass\",\"temperature_c\"],save=False)"
   ]
  },
  {
   "cell_type": "markdown",
   "metadata": {},
   "source": [
    "Aggregate correlation "
   ]
  },
  {
   "cell_type": "code",
   "execution_count": null,
   "metadata": {},
   "outputs": [],
   "source": [
    "plot_correlation_matrix_filtered(beacon_night_occupied,variables=[\"tvoc\",\"co2\",\"co\",\"pm2p5_mass\",\"temperature_c\"],save=False)"
   ]
  },
  {
   "cell_type": "markdown",
   "metadata": {},
   "source": [
    "#### Inspecting\n",
    "There were some odd results, primarily the `lux` readings for participant 38 and `no2` for participant 6."
   ]
  },
  {
   "cell_type": "code",
   "execution_count": null,
   "metadata": {},
   "outputs": [],
   "source": [
    "ts_inspection(beacon_night_occupied,start_time=datetime(2020,6,26),end_time=datetime(2020,7,1),variable=\"lux\",beacon=38)"
   ]
  },
  {
   "cell_type": "code",
   "execution_count": null,
   "metadata": {},
   "outputs": [],
   "source": [
    "ts_inspection(beacon_night_occupied,start_time=datetime(2020,6,1),end_time=datetime(2020,9,1),variable=\"no2\",beacon=26)"
   ]
  },
  {
   "cell_type": "markdown",
   "metadata": {},
   "source": [
    "### Occupied Beacon Data for Nights when Participants Complete the EMA"
   ]
  },
  {
   "cell_type": "code",
   "execution_count": null,
   "metadata": {},
   "outputs": [],
   "source": [
    "get_summary_stats(beacon_night_occupied, save=False)"
   ]
  },
  {
   "cell_type": "code",
   "execution_count": null,
   "metadata": {},
   "outputs": [],
   "source": [
    "plot_beacon_joyplots_by_stat(beacon_night_occupied, save=False, figure_note=\"_fully_filtered\")"
   ]
  },
  {
   "cell_type": "code",
   "execution_count": null,
   "metadata": {},
   "outputs": [],
   "source": [
    "plot_beacon_boxplots_by_stat(beacon_night_occupied,save=False)"
   ]
  },
  {
   "cell_type": "code",
   "execution_count": null,
   "metadata": {},
   "outputs": [],
   "source": [
    "plot_correlation_matrix_filtered(beacon_night_occupied,name=\"fully_filtered\",save=False)"
   ]
  },
  {
   "cell_type": "markdown",
   "metadata": {},
   "source": [
    "# Data Completeness\n",
    "We can also look at how complete the datasets are. There are two ways to summarize the completeness:\n",
    "1. Percent of possible data collected over the study period i.e. while the participants had their respective devices\n",
    "2. Percent of possible data collected while the beacon was actually operating. \n",
    "3. Percent of possible data collected when participants are home and asleep.\n",
    "4. Percent of possible data collected when participants are home, asleep, and answered the survey the following morning. \n"
   ]
  },
  {
   "cell_type": "markdown",
   "metadata": {},
   "source": [
    "## Percent of Possible Data During Study Period\n",
    "We first need to ensure that we have the correct start and stop periods for each individual. This information is housed in the ```details``` dataframe. \n",
    "\n",
    "We want to cross-reference the arrival date of the beacon to the individual and assume that is the start date. The end date can be changed to correspond to Sept. 1st or the return date - whatever happened first.  "
   ]
  },
  {
   "cell_type": "code",
   "execution_count": null,
   "metadata": {},
   "outputs": [],
   "source": [
    "overall_op = {}"
   ]
  },
  {
   "cell_type": "markdown",
   "metadata": {},
   "source": [
    "### Number of Possible Nights\n",
    "Another, related metric, is how many nights out of the possible we recorded data for each individual. We can use the same loop to determine the maximum number of nights."
   ]
  },
  {
   "cell_type": "code",
   "execution_count": null,
   "metadata": {},
   "outputs": [],
   "source": [
    "variables = ['beacon','lux','tvoc','co2','co','no2','pm2p5_mass']\n",
    "beacon_df = beacon[variables].sort_index()[:datetime(2020,9,1)]\n",
    "\n",
    "max_n = 0\n",
    "max_n_no2 = 0\n",
    "no2_beacons = []\n",
    "n_nights_max = 0\n",
    "for bb in beacon_df['beacon'].unique():\n",
    "    if bb not in [22,26,46]: # beacons with no Fitbit data or GPS data\n",
    "        beacon_pt = beacon_df[beacon_df['beacon'] == bb]\n",
    "        starting_date = pd.to_datetime(details[details['beacon'] == bb]['start_date'].values[0])\n",
    "        ending_date = pd.to_datetime(details[details['beacon'] == bb]['end_date'].values[0])\n",
    "        if ending_date > datetime(2020,9,1):\n",
    "            ending_date = datetime(2020,9,1)\n",
    "\n",
    "        max_n += (ending_date - starting_date).total_seconds()/60/5\n",
    "        n_nights_max += (ending_date.date() - starting_date.date()).days\n",
    "        # Add no2 count\n",
    "        if details[details['beacon'] == bb]['no2_sensor'].values[0] == 'Yes':\n",
    "            max_n_no2 += (ending_date - starting_date).total_seconds()/60/5\n",
    "            no2_beacons.append(bb)\n",
    "        else:\n",
    "            print(f'{bb}: no NO2 data')\n",
    "        \n",
    "print(f'Number of Beacons with NO2 Sensors: {len(no2_beacons)}')"
   ]
  },
  {
   "cell_type": "markdown",
   "metadata": {},
   "source": [
    "Now that we have the max number of data points possible, we can divide the number of actual measurments by the count. We have to take special consideration for the NO2 sensor though since not all devices had one. "
   ]
  },
  {
   "cell_type": "code",
   "execution_count": null,
   "metadata": {},
   "outputs": [],
   "source": [
    "op_period_df = pd.DataFrame()\n",
    "op_period_df['n'] = beacon_df.count()\n",
    "op_period_df['max_n'] = max_n\n",
    "op_period_df['percent'] = beacon_df.count()/max_n\n",
    "op_period_df.loc['no2','max_n'] = max_n_no2\n",
    "op_period_df.loc['no2','percent'] = op_period_df.loc['no2','n'] / max_n_no2\n",
    "op_period_df.drop('beacon',inplace=True)\n",
    "op_period_df"
   ]
  },
  {
   "cell_type": "code",
   "execution_count": null,
   "metadata": {},
   "outputs": [],
   "source": [
    "total_n = op_period_df['n'].sum()\n",
    "total_max_n = op_period_df['max_n'].sum()\n",
    "print(f'Total Percent Complete: {total_n/total_max_n}')"
   ]
  },
  {
   "cell_type": "markdown",
   "metadata": {},
   "source": [
    "Adding to overall operation"
   ]
  },
  {
   "cell_type": "code",
   "execution_count": null,
   "metadata": {},
   "outputs": [],
   "source": [
    "overall_op['During Study'] = list(np.around(op_period_df['percent'].values*100,1))\n",
    "overall_op['During Study'].append(round(total_n/total_max_n*100,1))"
   ]
  },
  {
   "cell_type": "markdown",
   "metadata": {},
   "source": [
    "Also with the max number of nights, we can look at the unique ending times of a person's sleep schedule to to get an idea of how many nights we did record."
   ]
  },
  {
   "cell_type": "code",
   "execution_count": null,
   "metadata": {},
   "outputs": [],
   "source": [
    "print(f'Number of Possible Nights: {n_nights_max}')"
   ]
  },
  {
   "cell_type": "markdown",
   "metadata": {},
   "source": [
    "## Percent of Possible Data while Operating\n",
    "Now we look at when the beacon is powered on and see how much data was gathered"
   ]
  },
  {
   "cell_type": "code",
   "execution_count": null,
   "metadata": {},
   "outputs": [],
   "source": [
    "temp = beacon_df.drop(['beacon'],axis=1).dropna(how='all')\n",
    "op_df = pd.DataFrame()\n",
    "op_df['n'] = temp.count()\n",
    "op_df['max_n'] = len(temp)\n",
    "op_df['percent'] = temp.count()/len(temp)"
   ]
  },
  {
   "cell_type": "markdown",
   "metadata": {},
   "source": [
    "Have to change up the approach for the NO2 sensor and only consider beacons with the sensor for ```max_n```"
   ]
  },
  {
   "cell_type": "code",
   "execution_count": null,
   "metadata": {},
   "outputs": [],
   "source": [
    "# dataframe with only beacons with NO2 sensors and removing times when all sensors measured nothing\n",
    "no2_temp = beacon_df[beacon_df['beacon'].isin(no2_beacons)].drop(['beacon'],axis=1).dropna(how='all')\n",
    "op_df.loc['no2','max_n'] = len(no2_temp)\n",
    "op_df.loc['no2','percent'] = op_df.loc['no2','n'] / len(no2_temp)\n",
    "op_df"
   ]
  },
  {
   "cell_type": "code",
   "execution_count": null,
   "metadata": {},
   "outputs": [],
   "source": [
    "total_n = op_df['n'].sum()\n",
    "total_max_n = op_df['max_n'].sum()\n",
    "print(f'Total Percent Complete: {total_n/total_max_n}')"
   ]
  },
  {
   "cell_type": "markdown",
   "metadata": {},
   "source": [
    "Adding to overall op"
   ]
  },
  {
   "cell_type": "code",
   "execution_count": null,
   "metadata": {},
   "outputs": [],
   "source": [
    "overall_op['While Operating'] = list(np.around(op_df['percent'].values*100,1))\n",
    "overall_op['While Operating'].append(round(total_n/total_max_n*100,1))"
   ]
  },
  {
   "cell_type": "markdown",
   "metadata": {},
   "source": [
    "The number of nights recorded will be the same reported above:"
   ]
  },
  {
   "cell_type": "code",
   "execution_count": null,
   "metadata": {},
   "outputs": [],
   "source": [
    "print(f'Number of Possible Nights: {n_nights_max}')"
   ]
  },
  {
   "cell_type": "markdown",
   "metadata": {},
   "source": [
    "## Percent of Possible Data while Asleep and At Homes\n",
    "Now we look at an even smaller window of the nightly measured values - filtered by GPS and Fitbit"
   ]
  },
  {
   "cell_type": "code",
   "execution_count": null,
   "metadata": {},
   "outputs": [],
   "source": [
    "beacon_fitbit_important = beacon_fitbit[variables]\n",
    "temp = beacon_fitbit_important.drop(['beacon'],axis=1).dropna(how='all')\n",
    "night_op_df = pd.DataFrame()\n",
    "night_op_df['n'] = temp.count()\n",
    "night_op_df['max_n'] = len(temp)\n",
    "night_op_df['percent'] = temp.count()/len(temp)"
   ]
  },
  {
   "cell_type": "markdown",
   "metadata": {},
   "source": [
    "Considering NO2 only now"
   ]
  },
  {
   "cell_type": "code",
   "execution_count": null,
   "metadata": {},
   "outputs": [],
   "source": [
    "no2_temp = beacon_fitbit_important[beacon_fitbit_important['beacon'].isin(no2_beacons)].dropna(how='all')\n",
    "no2_temp.drop(['beacon'],axis=1,inplace=True)\n",
    "night_op_df.loc['no2','max_n'] = len(no2_temp)\n",
    "night_op_df.loc['no2','percent'] = night_op_df.loc['no2','n'] / len(no2_temp)\n",
    "night_op_df"
   ]
  },
  {
   "cell_type": "code",
   "execution_count": null,
   "metadata": {},
   "outputs": [],
   "source": [
    "total_n = night_op_df['n'].sum()\n",
    "total_max_n = night_op_df['max_n'].sum()\n",
    "print(f'Total Percent Complete: {total_n/total_max_n}')"
   ]
  },
  {
   "cell_type": "markdown",
   "metadata": {},
   "source": [
    "Adding to overall operation"
   ]
  },
  {
   "cell_type": "code",
   "execution_count": null,
   "metadata": {},
   "outputs": [],
   "source": [
    "overall_op['Asleep and Home'] = list(np.around(night_op_df['percent'].values*100,1))\n",
    "overall_op['Asleep and Home'].append(round(total_n/total_max_n*100,1))"
   ]
  },
  {
   "cell_type": "markdown",
   "metadata": {},
   "source": [
    "### Number of nights recorded under this scheme"
   ]
  },
  {
   "cell_type": "markdown",
   "metadata": {},
   "source": [
    "#### Aggregate\n",
    "Number of nights measured considering all participants"
   ]
  },
  {
   "cell_type": "code",
   "execution_count": null,
   "metadata": {},
   "outputs": [],
   "source": [
    "df = beacon_fitbit.groupby(['start_time']).mean()\n",
    "df = df[variables]\n",
    "df.drop('beacon',axis=1,inplace=True)\n",
    "print('Total Number of Nights Measured:',len(df.dropna(how='all')))"
   ]
  },
  {
   "cell_type": "markdown",
   "metadata": {},
   "source": [
    "Aggregate number of nights per sensor and how many sensors contributed to these nights."
   ]
  },
  {
   "cell_type": "code",
   "execution_count": null,
   "metadata": {},
   "outputs": [],
   "source": [
    "vars_to_check = ['lux','tvoc','co2','co','no2','pm2p5_mass']\n",
    "\n",
    "for variable in vars_to_check:\n",
    "    sensor_df = beacon_fitbit[[variable,'start_time','beacon']]\n",
    "    sensor_df.dropna(inplace=True)\n",
    "    print(f'Number of Nights for {variable}:',len(sensor_df['start_time'].unique()))\n",
    "    print(f'Number of Beacons:', len(sensor_df['beacon'].unique()))"
   ]
  },
  {
   "cell_type": "markdown",
   "metadata": {},
   "source": [
    "Visual inspection to see when some of the sensors are operating"
   ]
  },
  {
   "cell_type": "code",
   "execution_count": null,
   "metadata": {},
   "outputs": [],
   "source": [
    "fig, ax = plt.subplots(figsize=(17,1))\n",
    "colors = ['seagreen','firebrick','grey','yellow']\n",
    "jitter = -0.2\n",
    "for variable, c in zip(['tvoc','no2','pm2p5_mass','lux'],colors):\n",
    "    temp = df[df[variable] > -1000]\n",
    "    temp['values'] = np.ones(len(temp))\n",
    "    temp.index = pd.to_datetime(temp.index)\n",
    "    bad = df[np.isnan(df[variable])]\n",
    "    bad['values'] = np.zeros(len(bad))\n",
    "    bad.index = pd.to_datetime(bad.index)\n",
    "    ax.scatter(temp.index,temp['values']+jitter,color=c,s=5)\n",
    "    ax.scatter(bad.index,bad['values']+jitter,color=c,s=5)\n",
    "    jitter += 0.1\n",
    "\n",
    "ax.set_ylim([-0.5,1.5])\n",
    "ax.set_yticks([0,1])\n",
    "ax.set_yticklabels(['OFF','ON'])\n",
    "plt.show()\n",
    "plt.close()"
   ]
  },
  {
   "cell_type": "markdown",
   "metadata": {},
   "source": [
    "#### Per Participant\n",
    "Now we see how many nights were recorded for each beacon."
   ]
  },
  {
   "cell_type": "code",
   "execution_count": null,
   "metadata": {},
   "outputs": [],
   "source": [
    "def plot_data_availability_by_beacon(df):\n",
    "    '''\n",
    "    Plots a stripplot plot of the number of nights each beacon was operating for by sensor\n",
    "    \n",
    "    Inputs:\n",
    "    - df: dataframe with columns in columns_to_use\n",
    "    \n",
    "    Returns void\n",
    "    '''\n",
    "    columns_to_use = ['lux','tvoc','co2','co','no2','pm1_mass','pm2p5_mass','pm10_mass','beacon','start_time']\n",
    "    df_filtered = df[columns_to_use]\n",
    "    data = {'lux':[],'tvoc':[],'co2':[],'co':[],'no2':[],'pm1_mass':[],'pm2p5_mass':[],'pm10_mass':[],'beacon':[]}\n",
    "    for bb in df_filtered['beacon'].unique():\n",
    "        df_by_bb = df_filtered[df_filtered['beacon'] == bb]\n",
    "        df_by_bb_by_night = df_by_bb.groupby('start_time').mean()\n",
    "        for var in columns_to_use:\n",
    "            if var == 'start_time':\n",
    "                pass\n",
    "            elif var == 'beacon':\n",
    "                data['beacon'].append(bb)\n",
    "            else:\n",
    "                data[var].append(df_by_bb_by_night.count()[var])\n",
    "\n",
    "    df_count = pd.DataFrame(data)\n",
    "    df_to_plot = df_count.melt(id_vars=['beacon'],value_vars=['lux','tvoc','co2','co','no2','pm1_mass','pm2p5_mass','pm10_mass'],\n",
    "                              var_name='Variable', value_name='Number of Nights')\n",
    "    fig, ax = plt.subplots(figsize=(12,6))\n",
    "    sns.stripplot(x='Variable',y='Number of Nights',hue='beacon',data=df_to_plot,size=7.5,jitter=0.25,ax=ax,\n",
    "                 marker='o')\n",
    "    \n",
    "    ax.set_xticklabels(['Light','TVOC','CO$_2$','CO','NO$_2$','PM$_1$','PM$_{2.5}$','PM$_{10}$'])\n",
    "    for loc in ['right','top','bottom']:\n",
    "        ax.spines[loc].set_visible(False)\n",
    "    \n",
    "    ax.legend(bbox_to_anchor=(1.08,1),frameon=False)\n",
    "        \n",
    "    plt.show()\n",
    "    plt.close()\n",
    "    "
   ]
  },
  {
   "cell_type": "code",
   "execution_count": null,
   "metadata": {},
   "outputs": [],
   "source": [
    "plot_data_availability_by_beacon(beacon_fitbit)"
   ]
  },
  {
   "cell_type": "markdown",
   "metadata": {},
   "source": [
    "## Percent of Possible Data while Asleep, At Home, and Completed Survey\n",
    "Now we look at the smallest window of the nightly measured values."
   ]
  },
  {
   "cell_type": "code",
   "execution_count": null,
   "metadata": {},
   "outputs": [],
   "source": [
    "beacon_filtered_important = beacon_filtered[variables]\n",
    "temp = beacon_filtered_important.drop(['beacon'],axis=1).dropna(how='all')\n",
    "night_op_df = pd.DataFrame()\n",
    "night_op_df['n'] = temp.count()\n",
    "night_op_df['max_n'] = len(temp)\n",
    "night_op_df['percent'] = temp.count()/len(temp)"
   ]
  },
  {
   "cell_type": "markdown",
   "metadata": {},
   "source": [
    "Again, considering NO2"
   ]
  },
  {
   "cell_type": "code",
   "execution_count": null,
   "metadata": {},
   "outputs": [],
   "source": [
    "no2_temp = beacon_filtered_important[beacon_filtered_important['beacon'].isin(no2_beacons)].drop(['beacon'],axis=1).dropna(how='all')\n",
    "night_op_df.loc['no2','max_n'] = len(no2_temp)\n",
    "night_op_df.loc['no2','percent'] = night_op_df.loc['no2','n'] / len(no2_temp)\n",
    "night_op_df"
   ]
  },
  {
   "cell_type": "code",
   "execution_count": null,
   "metadata": {},
   "outputs": [],
   "source": [
    "total_n = night_op_df['n'].sum()\n",
    "total_max_n = night_op_df['max_n'].sum()\n",
    "print(f'Total Percent Complete: {total_n/total_max_n}')"
   ]
  },
  {
   "cell_type": "markdown",
   "metadata": {},
   "source": [
    "Adding to overall operation"
   ]
  },
  {
   "cell_type": "code",
   "execution_count": null,
   "metadata": {},
   "outputs": [],
   "source": [
    "overall_op['Asleep, Home, and EMA'] = list(np.around(night_op_df['percent'].values*100,1))\n",
    "overall_op['Asleep, Home, and EMA'].append(round(total_n/total_max_n*100,1))"
   ]
  },
  {
   "cell_type": "markdown",
   "metadata": {},
   "source": [
    "### Number of nights recorded under this scheme"
   ]
  },
  {
   "cell_type": "markdown",
   "metadata": {},
   "source": [
    "#### Aggregate\n",
    "Overall number of nights measured when EMAs are added the mix"
   ]
  },
  {
   "cell_type": "code",
   "execution_count": null,
   "metadata": {},
   "outputs": [],
   "source": [
    "df = beacon_filtered.groupby(['start_time']).mean()\n",
    "df = df[variables]\n",
    "df.drop('beacon',axis=1,inplace=True)\n",
    "print('Number of Nights Measured:',len(df.dropna(how='all')))"
   ]
  },
  {
   "cell_type": "markdown",
   "metadata": {},
   "source": [
    "Number of nights and beacons capturing data when considering EMAs in addition to Fitbit and GPS"
   ]
  }
 ],
 "metadata": {
  "kernelspec": {
   "display_name": "Python 3",
   "language": "python",
   "name": "python3"
  },
  "language_info": {
   "codemirror_mode": {
    "name": "ipython",
    "version": 3
   },
   "file_extension": ".py",
   "mimetype": "text/x-python",
   "name": "python",
   "nbconvert_exporter": "python",
   "pygments_lexer": "ipython3",
   "version": "3.8.8"
  },
  "toc": {
   "base_numbering": 1,
   "nav_menu": {},
   "number_sections": false,
   "sideBar": false,
   "skip_h1_title": false,
   "title_cell": "Table of Contents",
   "title_sidebar": "Contents",
   "toc_cell": false,
   "toc_position": {},
   "toc_section_display": false,
   "toc_window_display": false
  }
 },
 "nbformat": 4,
 "nbformat_minor": 4
}
