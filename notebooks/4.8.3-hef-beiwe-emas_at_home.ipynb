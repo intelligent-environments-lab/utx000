{
 "cells": [
  {
   "cell_type": "markdown",
   "metadata": {},
   "source": [
    "# Exploring the UTx000 Extension Beiwe Data\n",
    "(Known as BPEACE2 in the [GH repo](https://github.com/intelligent-environments-lab/utx000))"
   ]
  },
  {
   "cell_type": "markdown",
   "metadata": {},
   "source": [
    "# Determining if participants were home when completing EMAs\n",
    "We want to use the GPS data and timestamps of completed EMAs to see if the participant was home when they submitted their EMA. "
   ]
  },
  {
   "cell_type": "code",
   "execution_count": 1,
   "metadata": {},
   "outputs": [],
   "source": [
    "import warnings\n",
    "warnings.filterwarnings('ignore')"
   ]
  },
  {
   "cell_type": "markdown",
   "metadata": {},
   "source": [
    "# Package Import"
   ]
  },
  {
   "cell_type": "code",
   "execution_count": 2,
   "metadata": {},
   "outputs": [],
   "source": [
    "import sys\n",
    "sys.path.append('../')\n",
    "\n",
    "from src.features import build_features\n",
    "from src.visualization import visualize\n",
    "\n",
    "import pandas as pd\n",
    "pd.set_option('display.max_columns', 200)\n",
    "import numpy as np\n",
    "\n",
    "from datetime import datetime, timedelta\n",
    "import math\n",
    "\n",
    "import matplotlib.pyplot as plt\n",
    "import matplotlib.dates as mdates\n",
    "\n",
    "import geopy.distance"
   ]
  },
  {
   "cell_type": "markdown",
   "metadata": {},
   "source": [
    "# Data Import\n",
    "\n",
    "## GPS Data\n",
    "The GPS data are available in the ```processed``` directory and already downsampled to 1-minute increments."
   ]
  },
  {
   "cell_type": "code",
   "execution_count": 3,
   "metadata": {},
   "outputs": [
    {
     "data": {
      "text/html": [
       "<div>\n",
       "<style scoped>\n",
       "    .dataframe tbody tr th:only-of-type {\n",
       "        vertical-align: middle;\n",
       "    }\n",
       "\n",
       "    .dataframe tbody tr th {\n",
       "        vertical-align: top;\n",
       "    }\n",
       "\n",
       "    .dataframe thead th {\n",
       "        text-align: right;\n",
       "    }\n",
       "</style>\n",
       "<table border=\"1\" class=\"dataframe\">\n",
       "  <thead>\n",
       "    <tr style=\"text-align: right;\">\n",
       "      <th></th>\n",
       "      <th>lat</th>\n",
       "      <th>long</th>\n",
       "      <th>beiwe</th>\n",
       "    </tr>\n",
       "    <tr>\n",
       "      <th>timestamp</th>\n",
       "      <th></th>\n",
       "      <th></th>\n",
       "      <th></th>\n",
       "    </tr>\n",
       "  </thead>\n",
       "  <tbody>\n",
       "    <tr>\n",
       "      <th>2020-09-02 04:16:00</th>\n",
       "      <td>30.36721</td>\n",
       "      <td>-97.79321</td>\n",
       "      <td>zdpffrox</td>\n",
       "    </tr>\n",
       "    <tr>\n",
       "      <th>2020-09-02 04:26:00</th>\n",
       "      <td>30.36725</td>\n",
       "      <td>-97.79324</td>\n",
       "      <td>zdpffrox</td>\n",
       "    </tr>\n",
       "    <tr>\n",
       "      <th>2020-09-02 04:27:00</th>\n",
       "      <td>30.36728</td>\n",
       "      <td>-97.79331</td>\n",
       "      <td>zdpffrox</td>\n",
       "    </tr>\n",
       "    <tr>\n",
       "      <th>2020-09-02 04:29:00</th>\n",
       "      <td>30.36718</td>\n",
       "      <td>-97.79324</td>\n",
       "      <td>zdpffrox</td>\n",
       "    </tr>\n",
       "    <tr>\n",
       "      <th>2020-09-02 04:37:00</th>\n",
       "      <td>30.36718</td>\n",
       "      <td>-97.79324</td>\n",
       "      <td>zdpffrox</td>\n",
       "    </tr>\n",
       "  </tbody>\n",
       "</table>\n",
       "</div>"
      ],
      "text/plain": [
       "                          lat      long     beiwe\n",
       "timestamp                                        \n",
       "2020-09-02 04:16:00  30.36721 -97.79321  zdpffrox\n",
       "2020-09-02 04:26:00  30.36725 -97.79324  zdpffrox\n",
       "2020-09-02 04:27:00  30.36728 -97.79331  zdpffrox\n",
       "2020-09-02 04:29:00  30.36718 -97.79324  zdpffrox\n",
       "2020-09-02 04:37:00  30.36718 -97.79324  zdpffrox"
      ]
     },
     "execution_count": 3,
     "metadata": {},
     "output_type": "execute_result"
    }
   ],
   "source": [
    "gps = pd.read_csv('../data/processed/beiwe-gps-ux_s20.csv', index_col=\"timestamp\", parse_dates=True, infer_datetime_format=True)\n",
    "gps.drop([\"utc\",\"altitude\",\"accuracy\"],axis=\"columns\",inplace=True)\n",
    "gps.dropna(inplace=True)\n",
    "gps.tail()"
   ]
  },
  {
   "cell_type": "code",
   "execution_count": 4,
   "metadata": {},
   "outputs": [
    {
     "name": "stdout",
     "output_type": "stream",
     "text": [
      "Number of participants: 52\n"
     ]
    }
   ],
   "source": [
    "print(f\"Number of participants: {len(gps['beiwe'].unique())}\")"
   ]
  },
  {
   "cell_type": "markdown",
   "metadata": {},
   "source": [
    "## Address Information\n",
    "We will need the address information from participants in order to determine if the participant is home or not."
   ]
  },
  {
   "cell_type": "code",
   "execution_count": 5,
   "metadata": {},
   "outputs": [
    {
     "data": {
      "text/html": [
       "<div>\n",
       "<style scoped>\n",
       "    .dataframe tbody tr th:only-of-type {\n",
       "        vertical-align: middle;\n",
       "    }\n",
       "\n",
       "    .dataframe tbody tr th {\n",
       "        vertical-align: top;\n",
       "    }\n",
       "\n",
       "    .dataframe thead th {\n",
       "        text-align: right;\n",
       "    }\n",
       "</style>\n",
       "<table border=\"1\" class=\"dataframe\">\n",
       "  <thead>\n",
       "    <tr style=\"text-align: right;\">\n",
       "      <th></th>\n",
       "      <th>redcap</th>\n",
       "      <th>beiwe</th>\n",
       "      <th>beacon</th>\n",
       "      <th>start_date</th>\n",
       "      <th>end_date</th>\n",
       "      <th>move_date</th>\n",
       "      <th>lat</th>\n",
       "      <th>long</th>\n",
       "      <th>lat2</th>\n",
       "      <th>long2</th>\n",
       "    </tr>\n",
       "  </thead>\n",
       "  <tbody>\n",
       "    <tr>\n",
       "      <th>0</th>\n",
       "      <td>70.0</td>\n",
       "      <td>2xtqkfz1</td>\n",
       "      <td>32.0</td>\n",
       "      <td>2020-06-12 10:57:00</td>\n",
       "      <td>2020-06-29</td>\n",
       "      <td>NaT</td>\n",
       "      <td>32.92309</td>\n",
       "      <td>-96.962800</td>\n",
       "      <td>NaN</td>\n",
       "      <td>NaN</td>\n",
       "    </tr>\n",
       "    <tr>\n",
       "      <th>1</th>\n",
       "      <td>37.0</td>\n",
       "      <td>4i7679py</td>\n",
       "      <td>44.0</td>\n",
       "      <td>2020-06-16 15:28:00</td>\n",
       "      <td>2020-08-22</td>\n",
       "      <td>2020-08-21</td>\n",
       "      <td>33.03598</td>\n",
       "      <td>-96.653690</td>\n",
       "      <td>30.288375</td>\n",
       "      <td>-97.743444</td>\n",
       "    </tr>\n",
       "    <tr>\n",
       "      <th>2</th>\n",
       "      <td>38.0</td>\n",
       "      <td>5fvmg226</td>\n",
       "      <td>23.0</td>\n",
       "      <td>2020-06-04 11:52:00</td>\n",
       "      <td>2020-09-30</td>\n",
       "      <td>NaT</td>\n",
       "      <td>30.24150</td>\n",
       "      <td>-97.715470</td>\n",
       "      <td>NaN</td>\n",
       "      <td>NaN</td>\n",
       "    </tr>\n",
       "    <tr>\n",
       "      <th>3</th>\n",
       "      <td>55.0</td>\n",
       "      <td>745vq78e</td>\n",
       "      <td>5.0</td>\n",
       "      <td>2020-06-09 10:21:00</td>\n",
       "      <td>2020-08-23</td>\n",
       "      <td>NaT</td>\n",
       "      <td>30.28798</td>\n",
       "      <td>-97.749045</td>\n",
       "      <td>NaN</td>\n",
       "      <td>NaN</td>\n",
       "    </tr>\n",
       "    <tr>\n",
       "      <th>4</th>\n",
       "      <td>36.0</td>\n",
       "      <td>9jtzsuu8</td>\n",
       "      <td>15.0</td>\n",
       "      <td>2020-06-08 15:08:00</td>\n",
       "      <td>2020-09-09</td>\n",
       "      <td>2020-08-24</td>\n",
       "      <td>33.14200</td>\n",
       "      <td>-97.113500</td>\n",
       "      <td>30.291221</td>\n",
       "      <td>-97.746498</td>\n",
       "    </tr>\n",
       "  </tbody>\n",
       "</table>\n",
       "</div>"
      ],
      "text/plain": [
       "   redcap     beiwe  beacon          start_date   end_date  move_date  \\\n",
       "0    70.0  2xtqkfz1    32.0 2020-06-12 10:57:00 2020-06-29        NaT   \n",
       "1    37.0  4i7679py    44.0 2020-06-16 15:28:00 2020-08-22 2020-08-21   \n",
       "2    38.0  5fvmg226    23.0 2020-06-04 11:52:00 2020-09-30        NaT   \n",
       "3    55.0  745vq78e     5.0 2020-06-09 10:21:00 2020-08-23        NaT   \n",
       "4    36.0  9jtzsuu8    15.0 2020-06-08 15:08:00 2020-09-09 2020-08-24   \n",
       "\n",
       "        lat       long       lat2      long2  \n",
       "0  32.92309 -96.962800        NaN        NaN  \n",
       "1  33.03598 -96.653690  30.288375 -97.743444  \n",
       "2  30.24150 -97.715470        NaN        NaN  \n",
       "3  30.28798 -97.749045        NaN        NaN  \n",
       "4  33.14200 -97.113500  30.291221 -97.746498  "
      ]
     },
     "execution_count": 5,
     "metadata": {},
     "output_type": "execute_result"
    }
   ],
   "source": [
    "info = pd.read_excel('../data/raw/utx000/admin/id_crossover.xlsx',sheet_name='beacon')\n",
    "info.drop([\"return_date\",\"volume\",\"housemates\",\"roommates\",\"n_rooms\",\"no2_sensor\",\"original_start\",\"original_end\",\"original_move\",\"original_address\",\"second address\",\"lat3\",\"long3\",\"third address\"],axis=\"columns\",inplace=True)\n",
    "info.dropna(subset=[\"beacon\",\"lat\",\"long\"],inplace=True)\n",
    "info.head()"
   ]
  },
  {
   "cell_type": "code",
   "execution_count": 6,
   "metadata": {},
   "outputs": [],
   "source": [
    "info = info[info[\"lat2\"].isnull()].drop([\"lat2\",\"long2\"],axis=\"columns\")\n",
    "info.sort_values(\"redcap\",inplace=True)"
   ]
  },
  {
   "cell_type": "code",
   "execution_count": 7,
   "metadata": {},
   "outputs": [
    {
     "name": "stdout",
     "output_type": "stream",
     "text": [
      "Number of participants: 14\n"
     ]
    }
   ],
   "source": [
    "print(f\"Number of participants: {len(info['beiwe'].unique())}\")"
   ]
  },
  {
   "cell_type": "markdown",
   "metadata": {},
   "source": [
    "## EMA Data\n",
    "We need the morning and evening EMAs because we are interested in mood, not sleep quality this time ;) "
   ]
  },
  {
   "cell_type": "code",
   "execution_count": 4,
   "metadata": {},
   "outputs": [
    {
     "data": {
      "text/html": [
       "<div>\n",
       "<style scoped>\n",
       "    .dataframe tbody tr th:only-of-type {\n",
       "        vertical-align: middle;\n",
       "    }\n",
       "\n",
       "    .dataframe tbody tr th {\n",
       "        vertical-align: top;\n",
       "    }\n",
       "\n",
       "    .dataframe thead th {\n",
       "        text-align: right;\n",
       "    }\n",
       "</style>\n",
       "<table border=\"1\" class=\"dataframe\">\n",
       "  <thead>\n",
       "    <tr style=\"text-align: right;\">\n",
       "      <th></th>\n",
       "      <th>timestamp</th>\n",
       "      <th>beiwe</th>\n",
       "      <th>content</th>\n",
       "      <th>stress</th>\n",
       "      <th>lonely</th>\n",
       "      <th>sad</th>\n",
       "      <th>energy</th>\n",
       "      <th>redcap</th>\n",
       "      <th>beacon</th>\n",
       "    </tr>\n",
       "  </thead>\n",
       "  <tbody>\n",
       "    <tr>\n",
       "      <th>0</th>\n",
       "      <td>2020-05-13 09:10:27</td>\n",
       "      <td>qh34m4r9</td>\n",
       "      <td>3</td>\n",
       "      <td>0.0</td>\n",
       "      <td>0.0</td>\n",
       "      <td>0.0</td>\n",
       "      <td>1.0</td>\n",
       "      <td>68</td>\n",
       "      <td>19.0</td>\n",
       "    </tr>\n",
       "    <tr>\n",
       "      <th>1</th>\n",
       "      <td>2020-05-13 09:15:49</td>\n",
       "      <td>awa8uces</td>\n",
       "      <td>0.0</td>\n",
       "      <td>2.0</td>\n",
       "      <td>1.0</td>\n",
       "      <td>1.0</td>\n",
       "      <td>1.0</td>\n",
       "      <td>28</td>\n",
       "      <td>26.0</td>\n",
       "    </tr>\n",
       "    <tr>\n",
       "      <th>2</th>\n",
       "      <td>2020-05-13 09:42:19</td>\n",
       "      <td>xxvnhauv</td>\n",
       "      <td>1</td>\n",
       "      <td>1.0</td>\n",
       "      <td>1.0</td>\n",
       "      <td>3.0</td>\n",
       "      <td>0.0</td>\n",
       "      <td>21</td>\n",
       "      <td>22.0</td>\n",
       "    </tr>\n",
       "    <tr>\n",
       "      <th>5</th>\n",
       "      <td>2020-05-13 10:32:23</td>\n",
       "      <td>mm69prai</td>\n",
       "      <td>1</td>\n",
       "      <td>0.0</td>\n",
       "      <td>1.0</td>\n",
       "      <td>1.0</td>\n",
       "      <td>1.0</td>\n",
       "      <td>62</td>\n",
       "      <td>13.0</td>\n",
       "    </tr>\n",
       "    <tr>\n",
       "      <th>6</th>\n",
       "      <td>2020-05-13 10:35:08</td>\n",
       "      <td>tlmlq19s</td>\n",
       "      <td>2</td>\n",
       "      <td>1.0</td>\n",
       "      <td>0.0</td>\n",
       "      <td>0.0</td>\n",
       "      <td>3.0</td>\n",
       "      <td>47</td>\n",
       "      <td>36.0</td>\n",
       "    </tr>\n",
       "  </tbody>\n",
       "</table>\n",
       "</div>"
      ],
      "text/plain": [
       "            timestamp     beiwe content  stress  lonely  sad  energy  redcap  \\\n",
       "0 2020-05-13 09:10:27  qh34m4r9       3     0.0     0.0  0.0     1.0      68   \n",
       "1 2020-05-13 09:15:49  awa8uces     0.0     2.0     1.0  1.0     1.0      28   \n",
       "2 2020-05-13 09:42:19  xxvnhauv       1     1.0     1.0  3.0     0.0      21   \n",
       "5 2020-05-13 10:32:23  mm69prai       1     0.0     1.0  1.0     1.0      62   \n",
       "6 2020-05-13 10:35:08  tlmlq19s       2     1.0     0.0  0.0     3.0      47   \n",
       "\n",
       "   beacon  \n",
       "0    19.0  \n",
       "1    26.0  \n",
       "2    22.0  \n",
       "5    13.0  \n",
       "6    36.0  "
      ]
     },
     "execution_count": 4,
     "metadata": {},
     "output_type": "execute_result"
    }
   ],
   "source": [
    "morning_ema = pd.read_csv(\"../data/processed/beiwe-morning_ema-ux_s20.csv\",parse_dates=[\"timestamp\"],infer_datetime_format=True)\n",
    "morning_ema.drop([\"tst\",\"sol\",\"naw\",\"restful\"],axis=\"columns\",inplace=True) # don't need and dropping to combine\n",
    "evening_ema = pd.read_csv(\"../data/processed/beiwe-evening_ema-ux_s20.csv\",parse_dates=[\"timestamp\"],infer_datetime_format=True)\n",
    "ema = morning_ema.append(evening_ema)\n",
    "ema.reset_index(inplace=True,drop=True)\n",
    "ema.dropna(inplace=True)\n",
    "ema.head()"
   ]
  },
  {
   "cell_type": "markdown",
   "metadata": {},
   "source": [
    "## Homestay\n",
    "Data from Peter"
   ]
  },
  {
   "cell_type": "code",
   "execution_count": 8,
   "metadata": {},
   "outputs": [
    {
     "data": {
      "text/html": [
       "<div>\n",
       "<style scoped>\n",
       "    .dataframe tbody tr th:only-of-type {\n",
       "        vertical-align: middle;\n",
       "    }\n",
       "\n",
       "    .dataframe tbody tr th {\n",
       "        vertical-align: top;\n",
       "    }\n",
       "\n",
       "    .dataframe thead th {\n",
       "        text-align: right;\n",
       "    }\n",
       "</style>\n",
       "<table border=\"1\" class=\"dataframe\">\n",
       "  <thead>\n",
       "    <tr style=\"text-align: right;\">\n",
       "      <th></th>\n",
       "      <th>home.lat</th>\n",
       "      <th>home.long</th>\n",
       "      <th>start</th>\n",
       "      <th>end</th>\n",
       "      <th>nth.stay</th>\n",
       "      <th>beiwe</th>\n",
       "      <th>when</th>\n",
       "      <th>t</th>\n",
       "    </tr>\n",
       "  </thead>\n",
       "  <tbody>\n",
       "    <tr>\n",
       "      <th>0</th>\n",
       "      <td>30.288063</td>\n",
       "      <td>-97.748945</td>\n",
       "      <td>2020-06-09 21:08:03</td>\n",
       "      <td>2020-06-09 23:03:48</td>\n",
       "      <td>1</td>\n",
       "      <td>745vq78e</td>\n",
       "      <td>nomove</td>\n",
       "      <td>6945.0</td>\n",
       "    </tr>\n",
       "    <tr>\n",
       "      <th>1</th>\n",
       "      <td>30.288063</td>\n",
       "      <td>-97.748945</td>\n",
       "      <td>2020-06-10 00:00:33</td>\n",
       "      <td>2020-06-10 11:25:42</td>\n",
       "      <td>2</td>\n",
       "      <td>745vq78e</td>\n",
       "      <td>nomove</td>\n",
       "      <td>41109.0</td>\n",
       "    </tr>\n",
       "    <tr>\n",
       "      <th>2</th>\n",
       "      <td>30.288063</td>\n",
       "      <td>-97.748945</td>\n",
       "      <td>2020-06-10 12:51:43</td>\n",
       "      <td>2020-06-12 00:34:05</td>\n",
       "      <td>3</td>\n",
       "      <td>745vq78e</td>\n",
       "      <td>nomove</td>\n",
       "      <td>128542.0</td>\n",
       "    </tr>\n",
       "    <tr>\n",
       "      <th>3</th>\n",
       "      <td>30.288063</td>\n",
       "      <td>-97.748945</td>\n",
       "      <td>2020-06-12 01:01:25</td>\n",
       "      <td>2020-06-12 02:29:20</td>\n",
       "      <td>4</td>\n",
       "      <td>745vq78e</td>\n",
       "      <td>nomove</td>\n",
       "      <td>5275.0</td>\n",
       "    </tr>\n",
       "    <tr>\n",
       "      <th>4</th>\n",
       "      <td>30.288063</td>\n",
       "      <td>-97.748945</td>\n",
       "      <td>2020-06-12 03:02:26</td>\n",
       "      <td>2020-06-12 03:55:25</td>\n",
       "      <td>5</td>\n",
       "      <td>745vq78e</td>\n",
       "      <td>nomove</td>\n",
       "      <td>3179.0</td>\n",
       "    </tr>\n",
       "  </tbody>\n",
       "</table>\n",
       "</div>"
      ],
      "text/plain": [
       "    home.lat  home.long               start                 end  nth.stay  \\\n",
       "0  30.288063 -97.748945 2020-06-09 21:08:03 2020-06-09 23:03:48         1   \n",
       "1  30.288063 -97.748945 2020-06-10 00:00:33 2020-06-10 11:25:42         2   \n",
       "2  30.288063 -97.748945 2020-06-10 12:51:43 2020-06-12 00:34:05         3   \n",
       "3  30.288063 -97.748945 2020-06-12 01:01:25 2020-06-12 02:29:20         4   \n",
       "4  30.288063 -97.748945 2020-06-12 03:02:26 2020-06-12 03:55:25         5   \n",
       "\n",
       "      beiwe    when         t  \n",
       "0  745vq78e  nomove    6945.0  \n",
       "1  745vq78e  nomove   41109.0  \n",
       "2  745vq78e  nomove  128542.0  \n",
       "3  745vq78e  nomove    5275.0  \n",
       "4  745vq78e  nomove    3179.0  "
      ]
     },
     "execution_count": 8,
     "metadata": {},
     "output_type": "execute_result"
    }
   ],
   "source": [
    "homestay = pd.read_csv(\"../data/processed/beiwe-homestay-ux_s20.csv\",index_col=0,parse_dates=[\"start\",\"end\"],infer_datetime_format=True)\n",
    "homestay.head()"
   ]
  },
  {
   "cell_type": "markdown",
   "metadata": {},
   "source": [
    "# Getting Location When EMA is Completed\n",
    "We can create a function that gets the coordinates of the participants' locations at a time `t`."
   ]
  },
  {
   "cell_type": "markdown",
   "metadata": {},
   "source": [
    "## My Algorithm"
   ]
  },
  {
   "cell_type": "code",
   "execution_count": 10,
   "metadata": {},
   "outputs": [],
   "source": [
    "def get_coordinates(t, gps, pt, id_var=\"beiwe\", window=10):\n",
    "    \"\"\"\n",
    "    Gets GPS coordinates for a given participant\n",
    "    \n",
    "    Inputs:\n",
    "    - t: datetime corresponding to the time point of interest\n",
    "    - gps: dataframe of GPS coordinates for all participants\n",
    "    - pt: string of participant\n",
    "    - id_var: string of identifying variable\n",
    "    - window: integer of plus/minus time to look for GPS coordinates\n",
    "    \n",
    "    Returns mean coordinates during plus/minus window as [lat,long] and gps timepoint\n",
    "    \"\"\"\n",
    "    gps_by_pt = gps[gps[id_var] == pt] # gps data for given participant\n",
    "    if len(gps_by_pt) > 0:\n",
    "        timeframe = [t - timedelta(minutes=window),t + timedelta(minutes=window)] # getting timeframe to average gps coordinates over\n",
    "        gps_by_pt_in_window = gps_by_pt[timeframe[0]:timeframe[-1]] # restricting to timeframe\n",
    "        if len(gps_by_pt_in_window) > 0:\n",
    "            return [np.nanmean(gps_by_pt_in_window[\"lat\"]), np.nanmean(gps_by_pt_in_window[\"long\"])], gps_by_pt_in_window.index[-1] # returning mean lat/long coordinates\n",
    "        \n",
    "    return [np.nan, np.nan], np.nan"
   ]
  },
  {
   "cell_type": "markdown",
   "metadata": {},
   "source": [
    "# Getting Time Only When Participants are Home\n",
    "We can use the GPS coordinates from Beiwe and the addresses to filter out the data so that we can determine the time that participants are home."
   ]
  },
  {
   "cell_type": "markdown",
   "metadata": {},
   "source": [
    "## My Algorithm"
   ]
  },
  {
   "cell_type": "code",
   "execution_count": 11,
   "metadata": {},
   "outputs": [],
   "source": [
    "def get_time_when_home(gps_df,info_df,radius=100,verbose=False):\n",
    "    \"\"\"returns gps data only from times when participants are home\"\"\"\n",
    "    gps_with_distance = pd.DataFrame()\n",
    "    for pt in info[\"beiwe\"].unique():\n",
    "        # getting data by pt\n",
    "        gps_pt = gps_df[gps_df['beiwe'] == pt]\n",
    "        info_pt = info_df[info_df['beiwe'] == pt]\n",
    "        if verbose:\n",
    "            print(f'Working for Participant {pt} - Beacon', int(info_pt['beacon'].values[0]))\n",
    "        # getting pt address points\n",
    "        lat_pt1 = info_pt['lat'].values[0]\n",
    "        long_pt1 = info_pt['long'].values[0]\n",
    "        coords_add_1 = (lat_pt1, long_pt1)\n",
    "        # Getting distances to address from coordinates\n",
    "        d1 = []\n",
    "        for lat, long in zip(gps_pt[\"lat\"].values,gps_pt[\"long\"].values):\n",
    "            d1.append(geopy.distance.distance(coords_add_1, (lat,long)).m)\n",
    "            \n",
    "        gps_pt[\"d1\"] = d1\n",
    "        gps_with_distance = gps_with_distance.append(gps_pt)\n",
    "        \n",
    "    return gps_with_distance[(gps_with_distance[\"d1\"] < radius)], gps_with_distance"
   ]
  },
  {
   "cell_type": "code",
   "execution_count": 12,
   "metadata": {},
   "outputs": [
    {
     "name": "stdout",
     "output_type": "stream",
     "text": [
      "Working for Participant rnse61g4 - Beacon 34\n",
      "Working for Participant hxj6brwj - Beacon 28\n",
      "Working for Participant xdbdrk6e - Beacon 24\n",
      "Working for Participant awa8uces - Beacon 26\n",
      "Working for Participant rj4lxgvp - Beacon 48\n",
      "Working for Participant nvtfpaor - Beacon 46\n",
      "Working for Participant vr9j5rry - Beacon 25\n",
      "Working for Participant 5fvmg226 - Beacon 23\n",
      "Working for Participant tmexej5v - Beacon 29\n",
      "Working for Participant xlw5ntd5 - Beacon 10\n",
      "Working for Participant 745vq78e - Beacon 5\n",
      "Working for Participant mm69prai - Beacon 13\n",
      "Working for Participant 2xtqkfz1 - Beacon 32\n",
      "Working for Participant i31pt4b4 - Beacon 11\n",
      "Number of datapoints: 88911\n"
     ]
    }
   ],
   "source": [
    "gps_home, gps_dist = get_time_when_home(gps,info,verbose=True)\n",
    "print(\"Number of datapoints:\",len(gps_home))"
   ]
  },
  {
   "cell_type": "markdown",
   "metadata": {},
   "source": [
    "# Checking if Participant was Home When Survey was Submitted"
   ]
  },
  {
   "cell_type": "markdown",
   "metadata": {},
   "source": [
    "## My Algorithm"
   ]
  },
  {
   "cell_type": "code",
   "execution_count": 13,
   "metadata": {},
   "outputs": [],
   "source": [
    "def get_ema_location(gps_df,ema_df):\n",
    "    \"\"\"appends the location to the ema dataframe\"\"\"\n",
    "    ema_with_loc = pd.DataFrame()\n",
    "    # looping through each participant\n",
    "    for pt in gps_df[\"beiwe\"].unique():\n",
    "        # gps\n",
    "        gps_home_by_pt = gps_df[gps_df[\"beiwe\"] == pt]\n",
    "        gps_home_by_pt[\"time\"] = gps_home_by_pt.index\n",
    "        gps_home_by_pt[\"dt\"] = (gps_home_by_pt[\"time\"] - gps_home_by_pt[\"time\"].shift(1)).dt.total_seconds() / 60\n",
    "        # ema\n",
    "        ema_by_pt = ema_df[ema_df[\"beiwe\"] == pt]\n",
    "        lats = []\n",
    "        longs = []\n",
    "        # looping through participant EMA submissions\n",
    "        for submission in ema_by_pt[\"timestamp\"]:\n",
    "            loc, timestamp = get_coordinates(submission,gps_home_by_pt,pt)\n",
    "            # if one of the loc coordinates is NaN, then the pt had no home gps data - this works because we are passing home gps ONLY\n",
    "            if math.isnan(loc[0]):\n",
    "                lats.append(np.nan)\n",
    "                longs.append(np.nan)\n",
    "            else:\n",
    "                lats.append(loc[0])\n",
    "                longs.append(loc[1])\n",
    "        # appending location and adding to overall df\n",
    "        ema_by_pt[\"lat\"] = lats\n",
    "        ema_by_pt[\"long\"] = longs\n",
    "        ema_with_loc = ema_with_loc.append(ema_by_pt.dropna())\n",
    "        \n",
    "    return ema_with_loc"
   ]
  },
  {
   "cell_type": "markdown",
   "metadata": {},
   "source": [
    "### Getting the Numbers"
   ]
  },
  {
   "cell_type": "code",
   "execution_count": 14,
   "metadata": {},
   "outputs": [
    {
     "data": {
      "text/html": [
       "<div>\n",
       "<style scoped>\n",
       "    .dataframe tbody tr th:only-of-type {\n",
       "        vertical-align: middle;\n",
       "    }\n",
       "\n",
       "    .dataframe tbody tr th {\n",
       "        vertical-align: top;\n",
       "    }\n",
       "\n",
       "    .dataframe thead th {\n",
       "        text-align: right;\n",
       "    }\n",
       "</style>\n",
       "<table border=\"1\" class=\"dataframe\">\n",
       "  <thead>\n",
       "    <tr style=\"text-align: right;\">\n",
       "      <th></th>\n",
       "      <th>timestamp</th>\n",
       "      <th>beiwe</th>\n",
       "      <th>content</th>\n",
       "      <th>stress</th>\n",
       "      <th>lonely</th>\n",
       "      <th>sad</th>\n",
       "      <th>energy</th>\n",
       "      <th>redcap</th>\n",
       "      <th>beacon</th>\n",
       "      <th>lat</th>\n",
       "      <th>long</th>\n",
       "    </tr>\n",
       "  </thead>\n",
       "  <tbody>\n",
       "    <tr>\n",
       "      <th>57</th>\n",
       "      <td>2020-05-17 09:54:09</td>\n",
       "      <td>rnse61g4</td>\n",
       "      <td>3</td>\n",
       "      <td>0.0</td>\n",
       "      <td>0.0</td>\n",
       "      <td>0.0</td>\n",
       "      <td>2.0</td>\n",
       "      <td>15</td>\n",
       "      <td>34.0</td>\n",
       "      <td>30.285750</td>\n",
       "      <td>-97.744063</td>\n",
       "    </tr>\n",
       "    <tr>\n",
       "      <th>331</th>\n",
       "      <td>2020-05-31 20:54:26</td>\n",
       "      <td>rnse61g4</td>\n",
       "      <td>2</td>\n",
       "      <td>0.0</td>\n",
       "      <td>0.0</td>\n",
       "      <td>1.0</td>\n",
       "      <td>2.0</td>\n",
       "      <td>15</td>\n",
       "      <td>34.0</td>\n",
       "      <td>30.285645</td>\n",
       "      <td>-97.744165</td>\n",
       "    </tr>\n",
       "    <tr>\n",
       "      <th>931</th>\n",
       "      <td>2020-06-24 10:30:45</td>\n",
       "      <td>rnse61g4</td>\n",
       "      <td>2</td>\n",
       "      <td>1.0</td>\n",
       "      <td>0.0</td>\n",
       "      <td>0.0</td>\n",
       "      <td>2.0</td>\n",
       "      <td>15</td>\n",
       "      <td>34.0</td>\n",
       "      <td>30.285702</td>\n",
       "      <td>-97.744122</td>\n",
       "    </tr>\n",
       "    <tr>\n",
       "      <th>1187</th>\n",
       "      <td>2020-07-05 11:07:38</td>\n",
       "      <td>rnse61g4</td>\n",
       "      <td>2</td>\n",
       "      <td>0.0</td>\n",
       "      <td>0.0</td>\n",
       "      <td>0.0</td>\n",
       "      <td>1.0</td>\n",
       "      <td>15</td>\n",
       "      <td>34.0</td>\n",
       "      <td>30.285700</td>\n",
       "      <td>-97.744100</td>\n",
       "    </tr>\n",
       "    <tr>\n",
       "      <th>1649</th>\n",
       "      <td>2020-07-24 11:13:19</td>\n",
       "      <td>rnse61g4</td>\n",
       "      <td>3</td>\n",
       "      <td>0.0</td>\n",
       "      <td>0.0</td>\n",
       "      <td>0.0</td>\n",
       "      <td>3.0</td>\n",
       "      <td>15</td>\n",
       "      <td>34.0</td>\n",
       "      <td>30.285650</td>\n",
       "      <td>-97.744207</td>\n",
       "    </tr>\n",
       "  </tbody>\n",
       "</table>\n",
       "</div>"
      ],
      "text/plain": [
       "               timestamp     beiwe content  stress  lonely  sad  energy  \\\n",
       "57   2020-05-17 09:54:09  rnse61g4       3     0.0     0.0  0.0     2.0   \n",
       "331  2020-05-31 20:54:26  rnse61g4       2     0.0     0.0  1.0     2.0   \n",
       "931  2020-06-24 10:30:45  rnse61g4       2     1.0     0.0  0.0     2.0   \n",
       "1187 2020-07-05 11:07:38  rnse61g4       2     0.0     0.0  0.0     1.0   \n",
       "1649 2020-07-24 11:13:19  rnse61g4       3     0.0     0.0  0.0     3.0   \n",
       "\n",
       "      redcap  beacon        lat       long  \n",
       "57        15    34.0  30.285750 -97.744063  \n",
       "331       15    34.0  30.285645 -97.744165  \n",
       "931       15    34.0  30.285702 -97.744122  \n",
       "1187      15    34.0  30.285700 -97.744100  \n",
       "1649      15    34.0  30.285650 -97.744207  "
      ]
     },
     "execution_count": 14,
     "metadata": {},
     "output_type": "execute_result"
    }
   ],
   "source": [
    "ema_loc = get_ema_location(gps_home,ema)\n",
    "ema_loc.head()"
   ]
  },
  {
   "cell_type": "code",
   "execution_count": 15,
   "metadata": {},
   "outputs": [
    {
     "name": "stdout",
     "output_type": "stream",
     "text": [
      "Number of Participants: 12\n",
      "Number of Surveys Completed at Home: 661\n",
      "Breakdown:\n",
      "\txdbdrk6e - 92\n",
      "\thxj6brwj - 81\n",
      "\tawa8uces - 75\n",
      "\ttmexej5v - 63\n",
      "\tmm69prai - 58\n",
      "\t745vq78e - 54\n",
      "\txlw5ntd5 - 49\n",
      "\tvr9j5rry - 47\n",
      "\t5fvmg226 - 45\n",
      "\ti31pt4b4 - 39\n",
      "\t2xtqkfz1 - 37\n",
      "\trnse61g4 - 21\n"
     ]
    }
   ],
   "source": [
    "print(\"Number of Participants:\", len(ema_loc[\"beiwe\"].unique()))\n",
    "print(\"Number of Surveys Completed at Home:\",len(ema_loc))\n",
    "print(\"Breakdown:\")\n",
    "n = ema_loc[\"beiwe\"].value_counts()\n",
    "for index, val in zip(n.index,n.values):\n",
    "    print(f\"\\t{index} - {val}\")"
   ]
  },
  {
   "cell_type": "markdown",
   "metadata": {},
   "source": [
    "### Saving Results"
   ]
  },
  {
   "cell_type": "code",
   "execution_count": 16,
   "metadata": {},
   "outputs": [],
   "source": [
    "ema_loc.to_csv(\"../data/processed/beiwe-ema_at_home-ux_s20.csv\",index=False)"
   ]
  },
  {
   "cell_type": "markdown",
   "metadata": {},
   "source": [
    "## With Peter's Data"
   ]
  },
  {
   "cell_type": "code",
   "execution_count": 6,
   "metadata": {},
   "outputs": [],
   "source": [
    "def get_emas_when_home(ema_df,homestay_df):\n",
    "    \"\"\"\n",
    "    Returns only the emas that were completed at home\n",
    "    \"\"\"\n",
    "    df_ema = ema_df.copy()\n",
    "    df_home = homestay_df.copy()\n",
    "    home = []\n",
    "    time_at_home = []\n",
    "    for pt in df_ema[\"beiwe\"].unique():\n",
    "        ema_pt = df_ema[df_ema[\"beiwe\"] == pt]\n",
    "        homestay_pt = homestay_df[homestay_df[\"beiwe\"] == pt]\n",
    "        for submission in ema_pt[\"timestamp\"]:\n",
    "            found = False\n",
    "            for s, e in zip(homestay_pt[\"start\"],homestay_pt[\"end\"]):\n",
    "                if submission > s and submission < e:\n",
    "                    home.append(1)\n",
    "                    found = True\n",
    "                    time_at_home.append((submission - s).total_seconds())\n",
    "                    break\n",
    "\n",
    "            if found == False:\n",
    "                home.append(0)\n",
    "                time_at_home.append(0)\n",
    "\n",
    "\n",
    "    df_ema[\"home\"] = home\n",
    "    df_ema[\"time_at_home\"] = time_at_home\n",
    "    ema_loc_homestay = df_ema[df_ema[\"home\"] == 1]\n",
    "    ema_loc_homestay.drop([\"home\"],axis=\"columns\",inplace=True)\n",
    "    return ema_loc_homestay"
   ]
  },
  {
   "cell_type": "markdown",
   "metadata": {},
   "source": [
    "### Saving Results"
   ]
  },
  {
   "cell_type": "code",
   "execution_count": 13,
   "metadata": {},
   "outputs": [],
   "source": [
    "ema_loc_homestay = get_emas_when_home(ema,homestay)\n",
    "ema_loc_homestay.to_csv(\"../data/processed/beiwe-ema_at_home_v2-ux_s20.csv\",index=False)"
   ]
  },
  {
   "cell_type": "code",
   "execution_count": 15,
   "metadata": {},
   "outputs": [],
   "source": [
    "ema_evening_homestay = get_emas_when_home(evening_ema,homestay)\n",
    "ema_evening_homestay.to_csv(\"../data/processed/beiwe-ema_evening_at_home-ux_s20.csv\",index=False)"
   ]
  },
  {
   "cell_type": "code",
   "execution_count": 16,
   "metadata": {},
   "outputs": [],
   "source": [
    "ema_morning_homestay = get_emas_when_home(morning_ema,homestay)\n",
    "ema_morning_homestay.to_csv(\"../data/processed/beiwe-ema_morning_at_home-ux_s20.csv\",index=False)"
   ]
  },
  {
   "cell_type": "markdown",
   "metadata": {},
   "source": [
    "## Comparison"
   ]
  },
  {
   "cell_type": "code",
   "execution_count": 19,
   "metadata": {},
   "outputs": [
    {
     "name": "stdout",
     "output_type": "stream",
     "text": [
      "Number of surveys from my algorithm: 661\n",
      "Number of surveys from Peter's algorithm: 821\n",
      "Number of merged surveys: 225\n"
     ]
    }
   ],
   "source": [
    "print(\"Number of surveys from my algorithm:\", len(ema_loc))\n",
    "print(\"Number of surveys from Peter's algorithm:\", len(ema_loc_homestay))\n",
    "emas_at_home = ema_loc.merge(right=ema_loc_homestay,on=\"timestamp\")\n",
    "print(\"Number of merged surveys:\", len(emas_at_home))"
   ]
  },
  {
   "cell_type": "markdown",
   "metadata": {},
   "source": [
    "<div class=\"alert alert-block alert-warning\">\n",
    "\n",
    "The two algorithms seem to return a different set of EMAs which is interesting although I trust Peter's algorithm more than mine :) \n",
    "    \n",
    "</div>"
   ]
  },
  {
   "cell_type": "markdown",
   "metadata": {},
   "source": [
    "# Related Analysis"
   ]
  },
  {
   "cell_type": "markdown",
   "metadata": {},
   "source": [
    "## Inspecting Distances and Coordinates of Addresses\n",
    "Checking to see if the address coordinates really make sense..."
   ]
  },
  {
   "cell_type": "code",
   "execution_count": 20,
   "metadata": {},
   "outputs": [],
   "source": [
    "def get_common_coordinates(gps_df,pt):\n",
    "    \"\"\"gets the commonly occuring GPS coordinates\"\"\"\n",
    "    gps_by_pt = gps_df[gps_df[\"beiwe\"] == pt]\n",
    "    \n",
    "    try:\n",
    "        lats = list(gps_by_pt[\"lat\"].values)\n",
    "        lat_mode = max(set(lats), key=lats.count)\n",
    "        longs = list(gps_by_pt[\"long\"].values)\n",
    "        long_mode = max(set(longs), key=longs.count)\n",
    "    except ValueError as e:\n",
    "        print(e)\n",
    "        return [np.nan,np.nan]\n",
    "    \n",
    "    return [lat_mode,long_mode]"
   ]
  },
  {
   "cell_type": "code",
   "execution_count": 21,
   "metadata": {},
   "outputs": [],
   "source": [
    "def inpsect_distances(gps_with_d, pt, byvar=\"beiwe\",ylim=1000):\n",
    "    \"\"\"Plots distances for participant\"\"\"\n",
    "    df_to_plot = gps_with_d[gps_with_d[byvar] == pt]\n",
    "    fig, ax = plt.subplots(figsize=(24,6))\n",
    "    ax.scatter(df_to_plot.index,df_to_plot[\"d1\"],s=5,color=\"black\")\n",
    "    # x-axis\n",
    "    ax.set_xlim([datetime(2020,5,1),datetime(2020,9,1)])\n",
    "    # y-axis\n",
    "    ax.set_ylim([0,ylim])\n",
    "    for loc in [\"top\",\"right\"]:\n",
    "        ax.spines[loc].set_visible(False)\n",
    "        \n",
    "    plt.show()\n",
    "    plt.close()"
   ]
  },
  {
   "cell_type": "code",
   "execution_count": 22,
   "metadata": {},
   "outputs": [
    {
     "name": "stdout",
     "output_type": "stream",
     "text": [
      "Participant rnse61g4:\n",
      "\tFrom Address:\t(30.2857,-97.7441)\n",
      "\tEstimate:\t(30.2857,-97.74433)\n",
      "Participant hxj6brwj:\n",
      "\tFrom Address:\t(30.28007,-97.74115)\n",
      "\tEstimate:\t(30.28007,-97.74115)\n",
      "Participant xdbdrk6e:\n",
      "\tFrom Address:\t(33.13661,-96.62536)\n",
      "\tEstimate:\t(33.13661,-96.62536)\n",
      "Participant awa8uces:\n",
      "\tFrom Address:\t(30.04939,-95.5055)\n",
      "\tEstimate:\t(30.04939,-95.5055)\n",
      "max() arg is an empty sequence\n",
      "Participant rj4lxgvp:\n",
      "\tFrom Address:\t(30.286894,-97.748909)\n",
      "\tEstimate:\t(nan,nan)\n",
      "max() arg is an empty sequence\n",
      "Participant nvtfpaor:\n",
      "\tFrom Address:\t(27.602539,-99.463737)\n",
      "\tEstimate:\t(nan,nan)\n",
      "Participant vr9j5rry:\n",
      "\tFrom Address:\t(30.35748,-97.75179)\n",
      "\tEstimate:\t(30.35748,-97.75179)\n",
      "Participant 5fvmg226:\n",
      "\tFrom Address:\t(30.2415,-97.71547)\n",
      "\tEstimate:\t(30.2415,-97.71547)\n",
      "Participant tmexej5v:\n",
      "\tFrom Address:\t(30.39634,-97.64425)\n",
      "\tEstimate:\t(30.39634,-97.64424)\n",
      "Participant xlw5ntd5:\n",
      "\tFrom Address:\t(30.35162,-97.61234)\n",
      "\tEstimate:\t(30.35162,-97.61234)\n",
      "Participant 745vq78e:\n",
      "\tFrom Address:\t(30.28798,-97.749045)\n",
      "\tEstimate:\t(29.61562,-98.64457)\n",
      "Participant mm69prai:\n",
      "\tFrom Address:\t(30.28607,-97.71076)\n",
      "\tEstimate:\t(30.28608,-97.71076)\n",
      "Participant 2xtqkfz1:\n",
      "\tFrom Address:\t(32.92309,-96.9628)\n",
      "\tEstimate:\t(32.92309,-96.9628)\n",
      "Participant i31pt4b4:\n",
      "\tFrom Address:\t(30.29036,-97.75066)\n",
      "\tEstimate:\t(30.29036,-97.75062)\n"
     ]
    }
   ],
   "source": [
    "for pt in info[\"beiwe\"].unique():\n",
    "    coords = get_common_coordinates(gps,pt)\n",
    "    info_by_pt = info[info[\"beiwe\"] == pt]\n",
    "    print(f\"Participant {pt}:\\n\\tFrom Address:\\t({round(info_by_pt['lat'].values[0],6)},{round(info_by_pt['long'].values[0],6)})\\n\\tEstimate:\\t({round(coords[0],6)},{round(coords[1],6)})\")\n",
    "    #inpsect_distances(gps_dist,pt,ylim=400)"
   ]
  },
  {
   "cell_type": "code",
   "execution_count": null,
   "metadata": {},
   "outputs": [],
   "source": []
  }
 ],
 "metadata": {
  "kernelspec": {
   "display_name": "Python 3",
   "language": "python",
   "name": "python3"
  },
  "language_info": {
   "codemirror_mode": {
    "name": "ipython",
    "version": 3
   },
   "file_extension": ".py",
   "mimetype": "text/x-python",
   "name": "python",
   "nbconvert_exporter": "python",
   "pygments_lexer": "ipython3",
   "version": "3.8.8"
  },
  "toc": {
   "base_numbering": 1,
   "nav_menu": {},
   "number_sections": false,
   "sideBar": false,
   "skip_h1_title": false,
   "title_cell": "Table of Contents",
   "title_sidebar": "Contents",
   "toc_cell": false,
   "toc_position": {},
   "toc_section_display": false,
   "toc_window_display": false
  }
 },
 "nbformat": 4,
 "nbformat_minor": 4
}
