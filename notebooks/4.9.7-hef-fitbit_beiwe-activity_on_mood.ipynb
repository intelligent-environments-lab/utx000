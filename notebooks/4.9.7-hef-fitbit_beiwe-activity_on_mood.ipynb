{
 "cells": [
  {
   "cell_type": "markdown",
   "id": "05765b48",
   "metadata": {},
   "source": [
    "# Effects of Fitbit Monitored Activity on Evening Mood\n",
    "Using the activity data to see the relationship with end-of-day mood"
   ]
  },
  {
   "cell_type": "code",
   "execution_count": 15,
   "id": "8cfdab80",
   "metadata": {},
   "outputs": [],
   "source": [
    "import warnings\n",
    "warnings.filterwarnings('ignore')\n",
    "\n",
    "import pandas as pd\n",
    "import numpy as np\n",
    "\n",
    "from scipy import stats"
   ]
  },
  {
   "cell_type": "markdown",
   "id": "837c9abf",
   "metadata": {},
   "source": [
    "# Data Import"
   ]
  },
  {
   "cell_type": "code",
   "execution_count": 16,
   "id": "019587f2",
   "metadata": {},
   "outputs": [
    {
     "data": {
      "text/html": [
       "<div>\n",
       "<style scoped>\n",
       "    .dataframe tbody tr th:only-of-type {\n",
       "        vertical-align: middle;\n",
       "    }\n",
       "\n",
       "    .dataframe tbody tr th {\n",
       "        vertical-align: top;\n",
       "    }\n",
       "\n",
       "    .dataframe thead th {\n",
       "        text-align: right;\n",
       "    }\n",
       "</style>\n",
       "<table border=\"1\" class=\"dataframe\">\n",
       "  <thead>\n",
       "    <tr style=\"text-align: right;\">\n",
       "      <th></th>\n",
       "      <th>beiwe</th>\n",
       "      <th>content</th>\n",
       "      <th>stress</th>\n",
       "      <th>lonely</th>\n",
       "      <th>sad</th>\n",
       "      <th>energy</th>\n",
       "      <th>steps</th>\n",
       "    </tr>\n",
       "  </thead>\n",
       "  <tbody>\n",
       "    <tr>\n",
       "      <th>0</th>\n",
       "      <td>rvhdl2la</td>\n",
       "      <td>2.0</td>\n",
       "      <td>1.0</td>\n",
       "      <td>0.0</td>\n",
       "      <td>0.0</td>\n",
       "      <td>1.0</td>\n",
       "      <td>4722.0</td>\n",
       "    </tr>\n",
       "    <tr>\n",
       "      <th>1</th>\n",
       "      <td>xdbdrk6e</td>\n",
       "      <td>2.0</td>\n",
       "      <td>1.0</td>\n",
       "      <td>2.0</td>\n",
       "      <td>1.0</td>\n",
       "      <td>3.0</td>\n",
       "      <td>4199.0</td>\n",
       "    </tr>\n",
       "    <tr>\n",
       "      <th>2</th>\n",
       "      <td>qh34m4r9</td>\n",
       "      <td>3.0</td>\n",
       "      <td>1.0</td>\n",
       "      <td>0.0</td>\n",
       "      <td>0.0</td>\n",
       "      <td>4.0</td>\n",
       "      <td>11632.0</td>\n",
       "    </tr>\n",
       "    <tr>\n",
       "      <th>3</th>\n",
       "      <td>tmexej5v</td>\n",
       "      <td>2.0</td>\n",
       "      <td>1.0</td>\n",
       "      <td>1.0</td>\n",
       "      <td>0.0</td>\n",
       "      <td>3.0</td>\n",
       "      <td>521.0</td>\n",
       "    </tr>\n",
       "    <tr>\n",
       "      <th>4</th>\n",
       "      <td>vpy1a985</td>\n",
       "      <td>2.0</td>\n",
       "      <td>1.0</td>\n",
       "      <td>2.0</td>\n",
       "      <td>1.0</td>\n",
       "      <td>2.0</td>\n",
       "      <td>553.0</td>\n",
       "    </tr>\n",
       "  </tbody>\n",
       "</table>\n",
       "</div>"
      ],
      "text/plain": [
       "      beiwe  content  stress  lonely  sad  energy    steps\n",
       "0  rvhdl2la      2.0     1.0     0.0  0.0     1.0   4722.0\n",
       "1  xdbdrk6e      2.0     1.0     2.0  1.0     3.0   4199.0\n",
       "2  qh34m4r9      3.0     1.0     0.0  0.0     4.0  11632.0\n",
       "3  tmexej5v      2.0     1.0     1.0  0.0     3.0    521.0\n",
       "4  vpy1a985      2.0     1.0     2.0  1.0     2.0    553.0"
      ]
     },
     "execution_count": 16,
     "metadata": {},
     "output_type": "execute_result"
    }
   ],
   "source": [
    "data = pd.read_csv(\"../data/interim/mood_prediction/fitbit-beiwe-activity-ema_evening.csv\",index_col=0,parse_dates=[\"timestamp\",\"date\"],infer_datetime_format=True)\n",
    "data.drop([\"timestamp\",\"redcap\",\"beacon\",\"date\"],axis=\"columns\",inplace=True)\n",
    "data.head()"
   ]
  },
  {
   "cell_type": "markdown",
   "id": "cc61ef8d",
   "metadata": {},
   "source": [
    "# Pre-Processing"
   ]
  },
  {
   "cell_type": "markdown",
   "id": "f9fc00d4",
   "metadata": {},
   "source": [
    "## Adding Step Goal"
   ]
  },
  {
   "cell_type": "code",
   "execution_count": 17,
   "id": "9ac768ea",
   "metadata": {},
   "outputs": [],
   "source": [
    "data[\"step_goal\"] = [1 if steps>10000 else 0 for steps in data[\"steps\"]]"
   ]
  },
  {
   "cell_type": "markdown",
   "id": "c267c24a",
   "metadata": {},
   "source": [
    "## Adding Discontent"
   ]
  },
  {
   "cell_type": "code",
   "execution_count": 18,
   "id": "799359ba",
   "metadata": {},
   "outputs": [],
   "source": [
    "data[\"discontent\"] = 3 - data[\"content\"] "
   ]
  },
  {
   "cell_type": "markdown",
   "id": "aa814b6f",
   "metadata": {},
   "source": [
    "# Analyzing"
   ]
  },
  {
   "cell_type": "code",
   "execution_count": 19,
   "id": "052d55e1",
   "metadata": {},
   "outputs": [],
   "source": [
    "def compare_mood_scores(df_in,act_param=\"step_goal\",moods=[\"discontent\",\"stress\",\"sad\",\"lonely\",\"energy\"],f=np.nanmean):\n",
    "    \"\"\"\n",
    "    Compares the mood scores between the extreme and non-extreme cases\n",
    "    \"\"\"\n",
    "    df = df_in.copy()\n",
    "    res = {\"mean_low\":[],\"mean_high\":[],\"p\":[]}\n",
    "    \n",
    "    high_steps = df[df[act_param] == 1]\n",
    "    low_steps = df[df[act_param] == 0]\n",
    "    print(f\"High: \\t{len(high_steps)}\\nLow:\\t{len(low_steps)}\")\n",
    "    \n",
    "    for mood in moods:\n",
    "        high_mean = round(np.nanmean(high_steps[mood]),2)\n",
    "        low_mean = round(np.nanmean(low_steps[mood]),2)\n",
    "        high_std = round(np.nanstd(high_steps[mood]),2)\n",
    "        low_std = round(np.nanstd(low_steps[mood]),2)\n",
    "        u, p = stats.mannwhitneyu(low_steps[mood].values,high_steps[mood].values)\n",
    "        if p < 0.05:\n",
    "            p = f\"{round(p,3)}*\"\n",
    "        elif p < 0.1:\n",
    "            p = f\"{round(p,3)}**\"\n",
    "        else:\n",
    "            p = f\"{round(p,3)}\"\n",
    "        for key, val in zip(res.keys(),[(low_mean,low_std),(high_mean,high_std),p]):\n",
    "            if len(val) == 2:\n",
    "                res[key].append(f\"{val[0]} ({val[1]})\")\n",
    "            else:\n",
    "                res[key].append(val)\n",
    "                \n",
    "    Moods = [mood.title() for mood in moods]\n",
    "    print(pd.DataFrame(data=res,index=Moods).to_latex())"
   ]
  },
  {
   "cell_type": "code",
   "execution_count": 20,
   "id": "d6426ff8",
   "metadata": {},
   "outputs": [
    {
     "name": "stdout",
     "output_type": "stream",
     "text": [
      "High: \t141\n",
      "Low:\t1858\n",
      "\\begin{tabular}{llll}\n",
      "\\toprule\n",
      "{} &     mean\\_low &    mean\\_high &       p \\\\\n",
      "\\midrule\n",
      "Discontent &  0.98 (0.83) &  0.79 (0.69) &  0.006* \\\\\n",
      "Stress     &   0.85 (0.9) &  0.61 (0.72) &  0.003* \\\\\n",
      "Sad        &   0.44 (0.7) &  0.27 (0.57) &  0.001* \\\\\n",
      "Lonely     &  0.48 (0.75) &  0.48 (0.66) &   0.271 \\\\\n",
      "Energy     &  1.98 (1.03) &  2.16 (0.98) &  0.038* \\\\\n",
      "\\bottomrule\n",
      "\\end{tabular}\n",
      "\n"
     ]
    }
   ],
   "source": [
    "compare_mood_scores(data)"
   ]
  },
  {
   "cell_type": "code",
   "execution_count": null,
   "id": "3bb1d0e1",
   "metadata": {},
   "outputs": [],
   "source": []
  }
 ],
 "metadata": {
  "kernelspec": {
   "display_name": "Python 3",
   "language": "python",
   "name": "python3"
  },
  "language_info": {
   "codemirror_mode": {
    "name": "ipython",
    "version": 3
   },
   "file_extension": ".py",
   "mimetype": "text/x-python",
   "name": "python",
   "nbconvert_exporter": "python",
   "pygments_lexer": "ipython3",
   "version": "3.8.8"
  }
 },
 "nbformat": 4,
 "nbformat_minor": 5
}
