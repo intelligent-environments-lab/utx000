{
 "cells": [
  {
   "cell_type": "code",
   "execution_count": 160,
   "metadata": {},
   "outputs": [],
   "source": [
    "import warnings\n",
    "warnings.filterwarnings('ignore')"
   ]
  },
  {
   "cell_type": "markdown",
   "metadata": {},
   "source": [
    "# Activity and Sleep\n",
    "In this notebook we focus on the Fitbit activity data as a means to unearth some questions about the self-report sleep metrics from Beiwe"
   ]
  },
  {
   "cell_type": "code",
   "execution_count": 161,
   "metadata": {
    "scrolled": true
   },
   "outputs": [],
   "source": [
    "import pandas as pd\n",
    "pd.set_option('display.max_columns', 200)\n",
    "import numpy as np\n",
    "\n",
    "from datetime import datetime, timedelta\n",
    "\n",
    "import matplotlib.pyplot as plt\n",
    "from matplotlib import cm\n",
    "from matplotlib.colors import ListedColormap, LinearSegmentedColormap\n",
    "import seaborn as sns\n",
    "import matplotlib.dates as mdates\n",
    "\n",
    "from scipy import stats\n",
    "from scipy.stats import linregress"
   ]
  },
  {
   "cell_type": "markdown",
   "metadata": {},
   "source": [
    "# Table of Contents\n",
    "1. [Data Import](#data_import)\n",
    "    1. [Target Data: Fitbit Sleep](#targets)\n",
    "    2. [Feature Data: Fitbit Activity](#features)\n",
    "2. [Pre-Processing](#preprocessing)\n",
    "    1. [Target Data](#target_data)\n",
    "        1. Summary\n",
    "        1. Scaling\n",
    "    2. [Feature Data](#feature_data)\n",
    "3. [Analyzing Relationships](#analysis)"
   ]
  },
  {
   "cell_type": "code",
   "execution_count": 162,
   "metadata": {},
   "outputs": [
    {
     "name": "stdout",
     "output_type": "stream",
     "text": [
      "The autoreload extension is already loaded. To reload it, use:\n",
      "  %reload_ext autoreload\n"
     ]
    }
   ],
   "source": [
    "import sys\n",
    "sys.path.append('../')\n",
    "%load_ext autoreload\n",
    "%autoreload 2"
   ]
  },
  {
   "cell_type": "markdown",
   "metadata": {},
   "source": [
    "<a id='data_import'></a>"
   ]
  },
  {
   "cell_type": "markdown",
   "metadata": {},
   "source": [
    "# Data Import\n",
    "Data are simply imported from the Fitbit daily dataset and Fitbit sleep summary dataset - both of each include data summarized on a daily basis."
   ]
  },
  {
   "cell_type": "markdown",
   "metadata": {},
   "source": [
    "<a id='targets'></a>"
   ]
  },
  {
   "cell_type": "markdown",
   "metadata": {},
   "source": [
    "## Target Data: Self-Report Sleep"
   ]
  },
  {
   "cell_type": "code",
   "execution_count": 163,
   "metadata": {
    "scrolled": true
   },
   "outputs": [
    {
     "data": {
      "text/html": [
       "<div>\n",
       "<style scoped>\n",
       "    .dataframe tbody tr th:only-of-type {\n",
       "        vertical-align: middle;\n",
       "    }\n",
       "\n",
       "    .dataframe tbody tr th {\n",
       "        vertical-align: top;\n",
       "    }\n",
       "\n",
       "    .dataframe thead th {\n",
       "        text-align: right;\n",
       "    }\n",
       "</style>\n",
       "<table border=\"1\" class=\"dataframe\">\n",
       "  <thead>\n",
       "    <tr style=\"text-align: right;\">\n",
       "      <th></th>\n",
       "      <th>timestamp</th>\n",
       "      <th>beiwe</th>\n",
       "      <th>tst</th>\n",
       "      <th>sol</th>\n",
       "      <th>naw</th>\n",
       "      <th>restful</th>\n",
       "      <th>redcap</th>\n",
       "      <th>activity_date</th>\n",
       "    </tr>\n",
       "  </thead>\n",
       "  <tbody>\n",
       "    <tr>\n",
       "      <th>0</th>\n",
       "      <td>2020-05-13 09:10:27</td>\n",
       "      <td>qh34m4r9</td>\n",
       "      <td>8.0</td>\n",
       "      <td>20.0</td>\n",
       "      <td>2.0</td>\n",
       "      <td>3.0</td>\n",
       "      <td>68</td>\n",
       "      <td>2020-05-12</td>\n",
       "    </tr>\n",
       "    <tr>\n",
       "      <th>1</th>\n",
       "      <td>2020-05-13 09:15:49</td>\n",
       "      <td>awa8uces</td>\n",
       "      <td>2.0</td>\n",
       "      <td>10.0</td>\n",
       "      <td>3.0</td>\n",
       "      <td>1.0</td>\n",
       "      <td>28</td>\n",
       "      <td>2020-05-12</td>\n",
       "    </tr>\n",
       "    <tr>\n",
       "      <th>2</th>\n",
       "      <td>2020-05-13 09:42:19</td>\n",
       "      <td>xxvnhauv</td>\n",
       "      <td>6.0</td>\n",
       "      <td>30.0</td>\n",
       "      <td>3.0</td>\n",
       "      <td>1.0</td>\n",
       "      <td>21</td>\n",
       "      <td>2020-05-12</td>\n",
       "    </tr>\n",
       "    <tr>\n",
       "      <th>3</th>\n",
       "      <td>2020-05-13 09:43:27</td>\n",
       "      <td>rvhdl2la</td>\n",
       "      <td>5.3</td>\n",
       "      <td>5.0</td>\n",
       "      <td>2.0</td>\n",
       "      <td>2.0</td>\n",
       "      <td>29</td>\n",
       "      <td>2020-05-12</td>\n",
       "    </tr>\n",
       "    <tr>\n",
       "      <th>4</th>\n",
       "      <td>2020-05-13 10:11:51</td>\n",
       "      <td>q5y11ytm</td>\n",
       "      <td>2.0</td>\n",
       "      <td>10.0</td>\n",
       "      <td>0.0</td>\n",
       "      <td>0.0</td>\n",
       "      <td>48</td>\n",
       "      <td>2020-05-12</td>\n",
       "    </tr>\n",
       "  </tbody>\n",
       "</table>\n",
       "</div>"
      ],
      "text/plain": [
       "            timestamp     beiwe  tst   sol  naw  restful  redcap activity_date\n",
       "0 2020-05-13 09:10:27  qh34m4r9  8.0  20.0  2.0      3.0      68    2020-05-12\n",
       "1 2020-05-13 09:15:49  awa8uces  2.0  10.0  3.0      1.0      28    2020-05-12\n",
       "2 2020-05-13 09:42:19  xxvnhauv  6.0  30.0  3.0      1.0      21    2020-05-12\n",
       "3 2020-05-13 09:43:27  rvhdl2la  5.3   5.0  2.0      2.0      29    2020-05-12\n",
       "4 2020-05-13 10:11:51  q5y11ytm  2.0  10.0  0.0      0.0      48    2020-05-12"
      ]
     },
     "execution_count": 163,
     "metadata": {},
     "output_type": "execute_result"
    }
   ],
   "source": [
    "targets = pd.read_csv(\"../data/processed/beiwe-morning_ema-ux_s20.csv\",parse_dates=[\"timestamp\"])\n",
    "targets[\"activity_date\"] = pd.to_datetime(targets[\"timestamp\"].dt.date - timedelta(days=1))\n",
    "targets.drop([\"content\",\"stress\",\"lonely\",\"sad\",\"energy\",\"beacon\"],axis=\"columns\",inplace=True)\n",
    "targets.dropna(subset=[\"tst\",\"sol\",\"naw\",\"restful\"],inplace=True)\n",
    "targets.drop_duplicates(subset=[\"activity_date\",\"beiwe\"],inplace=True)\n",
    "targets = targets[targets[\"sol\"] <= 100]\n",
    "targets.head()"
   ]
  },
  {
   "cell_type": "markdown",
   "metadata": {},
   "source": [
    "<a id='features'></a>"
   ]
  },
  {
   "cell_type": "markdown",
   "metadata": {},
   "source": [
    "## Feature Data: Fitbit Activity"
   ]
  },
  {
   "cell_type": "code",
   "execution_count": 164,
   "metadata": {},
   "outputs": [
    {
     "data": {
      "text/html": [
       "<div>\n",
       "<style scoped>\n",
       "    .dataframe tbody tr th:only-of-type {\n",
       "        vertical-align: middle;\n",
       "    }\n",
       "\n",
       "    .dataframe tbody tr th {\n",
       "        vertical-align: top;\n",
       "    }\n",
       "\n",
       "    .dataframe thead th {\n",
       "        text-align: right;\n",
       "    }\n",
       "</style>\n",
       "<table border=\"1\" class=\"dataframe\">\n",
       "  <thead>\n",
       "    <tr style=\"text-align: right;\">\n",
       "      <th></th>\n",
       "      <th>timestamp</th>\n",
       "      <th>calories</th>\n",
       "      <th>steps</th>\n",
       "      <th>distance</th>\n",
       "      <th>sedentary_minutes</th>\n",
       "      <th>lightly_active_minutes</th>\n",
       "      <th>fairly_active_minutes</th>\n",
       "      <th>very_active_minutes</th>\n",
       "      <th>calories_from_activities</th>\n",
       "      <th>bmi</th>\n",
       "      <th>weight</th>\n",
       "      <th>beiwe</th>\n",
       "    </tr>\n",
       "  </thead>\n",
       "  <tbody>\n",
       "    <tr>\n",
       "      <th>0</th>\n",
       "      <td>2020-05-13</td>\n",
       "      <td>2781.0</td>\n",
       "      <td>9207</td>\n",
       "      <td>4.396294</td>\n",
       "      <td>1241</td>\n",
       "      <td>70</td>\n",
       "      <td>118</td>\n",
       "      <td>11</td>\n",
       "      <td>1097.0</td>\n",
       "      <td>23.754</td>\n",
       "      <td>180.0</td>\n",
       "      <td>hfttkth7</td>\n",
       "    </tr>\n",
       "    <tr>\n",
       "      <th>1</th>\n",
       "      <td>2020-05-14</td>\n",
       "      <td>3727.0</td>\n",
       "      <td>15207</td>\n",
       "      <td>7.261114</td>\n",
       "      <td>614</td>\n",
       "      <td>263</td>\n",
       "      <td>134</td>\n",
       "      <td>23</td>\n",
       "      <td>2234.0</td>\n",
       "      <td>23.754</td>\n",
       "      <td>180.0</td>\n",
       "      <td>hfttkth7</td>\n",
       "    </tr>\n",
       "    <tr>\n",
       "      <th>2</th>\n",
       "      <td>2020-05-15</td>\n",
       "      <td>3909.0</td>\n",
       "      <td>14556</td>\n",
       "      <td>8.028501</td>\n",
       "      <td>577</td>\n",
       "      <td>205</td>\n",
       "      <td>57</td>\n",
       "      <td>108</td>\n",
       "      <td>2381.0</td>\n",
       "      <td>23.754</td>\n",
       "      <td>180.0</td>\n",
       "      <td>hfttkth7</td>\n",
       "    </tr>\n",
       "    <tr>\n",
       "      <th>3</th>\n",
       "      <td>2020-05-16</td>\n",
       "      <td>3927.0</td>\n",
       "      <td>18453</td>\n",
       "      <td>8.748670</td>\n",
       "      <td>760</td>\n",
       "      <td>176</td>\n",
       "      <td>24</td>\n",
       "      <td>151</td>\n",
       "      <td>2364.0</td>\n",
       "      <td>23.754</td>\n",
       "      <td>180.0</td>\n",
       "      <td>hfttkth7</td>\n",
       "    </tr>\n",
       "    <tr>\n",
       "      <th>4</th>\n",
       "      <td>2020-05-17</td>\n",
       "      <td>4180.0</td>\n",
       "      <td>15425</td>\n",
       "      <td>7.973149</td>\n",
       "      <td>605</td>\n",
       "      <td>207</td>\n",
       "      <td>50</td>\n",
       "      <td>131</td>\n",
       "      <td>2652.0</td>\n",
       "      <td>23.754</td>\n",
       "      <td>180.0</td>\n",
       "      <td>hfttkth7</td>\n",
       "    </tr>\n",
       "  </tbody>\n",
       "</table>\n",
       "</div>"
      ],
      "text/plain": [
       "   timestamp  calories  steps  distance  sedentary_minutes  \\\n",
       "0 2020-05-13    2781.0   9207  4.396294               1241   \n",
       "1 2020-05-14    3727.0  15207  7.261114                614   \n",
       "2 2020-05-15    3909.0  14556  8.028501                577   \n",
       "3 2020-05-16    3927.0  18453  8.748670                760   \n",
       "4 2020-05-17    4180.0  15425  7.973149                605   \n",
       "\n",
       "   lightly_active_minutes  fairly_active_minutes  very_active_minutes  \\\n",
       "0                      70                    118                   11   \n",
       "1                     263                    134                   23   \n",
       "2                     205                     57                  108   \n",
       "3                     176                     24                  151   \n",
       "4                     207                     50                  131   \n",
       "\n",
       "   calories_from_activities     bmi  weight     beiwe  \n",
       "0                    1097.0  23.754   180.0  hfttkth7  \n",
       "1                    2234.0  23.754   180.0  hfttkth7  \n",
       "2                    2381.0  23.754   180.0  hfttkth7  \n",
       "3                    2364.0  23.754   180.0  hfttkth7  \n",
       "4                    2652.0  23.754   180.0  hfttkth7  "
      ]
     },
     "execution_count": 164,
     "metadata": {},
     "output_type": "execute_result"
    }
   ],
   "source": [
    "features_activity = pd.read_csv(\"../data/processed/fitbit-daily-ux_s20.csv\",parse_dates=[\"timestamp\"])\n",
    "# cleaning\n",
    "features_activity.drop([\"water_logged\",\"food_calories_logged\",\"fat\",\"bmr\"],axis=\"columns\",inplace=True)\n",
    "#features_activity = features_activity[features_activity[\"efficiency\"] > 75]\n",
    "features_activity.head()"
   ]
  },
  {
   "cell_type": "markdown",
   "metadata": {},
   "source": [
    "## Merging Data"
   ]
  },
  {
   "cell_type": "code",
   "execution_count": 165,
   "metadata": {},
   "outputs": [
    {
     "data": {
      "text/html": [
       "<div>\n",
       "<style scoped>\n",
       "    .dataframe tbody tr th:only-of-type {\n",
       "        vertical-align: middle;\n",
       "    }\n",
       "\n",
       "    .dataframe tbody tr th {\n",
       "        vertical-align: top;\n",
       "    }\n",
       "\n",
       "    .dataframe thead th {\n",
       "        text-align: right;\n",
       "    }\n",
       "</style>\n",
       "<table border=\"1\" class=\"dataframe\">\n",
       "  <thead>\n",
       "    <tr style=\"text-align: right;\">\n",
       "      <th></th>\n",
       "      <th>timestamp_x</th>\n",
       "      <th>beiwe</th>\n",
       "      <th>tst</th>\n",
       "      <th>sol</th>\n",
       "      <th>naw</th>\n",
       "      <th>restful</th>\n",
       "      <th>redcap</th>\n",
       "      <th>activity_date</th>\n",
       "      <th>timestamp_y</th>\n",
       "      <th>calories</th>\n",
       "      <th>steps</th>\n",
       "      <th>distance</th>\n",
       "      <th>sedentary_minutes</th>\n",
       "      <th>lightly_active_minutes</th>\n",
       "      <th>fairly_active_minutes</th>\n",
       "      <th>very_active_minutes</th>\n",
       "      <th>calories_from_activities</th>\n",
       "      <th>bmi</th>\n",
       "      <th>weight</th>\n",
       "    </tr>\n",
       "  </thead>\n",
       "  <tbody>\n",
       "    <tr>\n",
       "      <th>0</th>\n",
       "      <td>2020-05-13 09:10:27</td>\n",
       "      <td>qh34m4r9</td>\n",
       "      <td>8.0</td>\n",
       "      <td>20.0</td>\n",
       "      <td>2.0</td>\n",
       "      <td>3.0</td>\n",
       "      <td>68</td>\n",
       "      <td>2020-05-12</td>\n",
       "      <td>2020-05-12</td>\n",
       "      <td>2876.0</td>\n",
       "      <td>8109</td>\n",
       "      <td>3.700731</td>\n",
       "      <td>627</td>\n",
       "      <td>144</td>\n",
       "      <td>31</td>\n",
       "      <td>44</td>\n",
       "      <td>1196.0</td>\n",
       "      <td>26.785088</td>\n",
       "      <td>185.0</td>\n",
       "    </tr>\n",
       "    <tr>\n",
       "      <th>1</th>\n",
       "      <td>2020-05-13 09:43:27</td>\n",
       "      <td>rvhdl2la</td>\n",
       "      <td>5.3</td>\n",
       "      <td>5.0</td>\n",
       "      <td>2.0</td>\n",
       "      <td>2.0</td>\n",
       "      <td>29</td>\n",
       "      <td>2020-05-12</td>\n",
       "      <td>2020-05-12</td>\n",
       "      <td>2046.0</td>\n",
       "      <td>7453</td>\n",
       "      <td>2.981196</td>\n",
       "      <td>642</td>\n",
       "      <td>297</td>\n",
       "      <td>15</td>\n",
       "      <td>12</td>\n",
       "      <td>973.0</td>\n",
       "      <td>24.069941</td>\n",
       "      <td>130.8</td>\n",
       "    </tr>\n",
       "    <tr>\n",
       "      <th>2</th>\n",
       "      <td>2020-05-13 10:32:23</td>\n",
       "      <td>mm69prai</td>\n",
       "      <td>7.0</td>\n",
       "      <td>30.0</td>\n",
       "      <td>5.0</td>\n",
       "      <td>0.0</td>\n",
       "      <td>62</td>\n",
       "      <td>2020-05-12</td>\n",
       "      <td>2020-05-12</td>\n",
       "      <td>1351.0</td>\n",
       "      <td>1148</td>\n",
       "      <td>0.471702</td>\n",
       "      <td>1363</td>\n",
       "      <td>77</td>\n",
       "      <td>0</td>\n",
       "      <td>0</td>\n",
       "      <td>178.0</td>\n",
       "      <td>20.376562</td>\n",
       "      <td>115.0</td>\n",
       "    </tr>\n",
       "    <tr>\n",
       "      <th>3</th>\n",
       "      <td>2020-05-13 10:35:08</td>\n",
       "      <td>tlmlq19s</td>\n",
       "      <td>6.0</td>\n",
       "      <td>7.0</td>\n",
       "      <td>2.0</td>\n",
       "      <td>2.0</td>\n",
       "      <td>47</td>\n",
       "      <td>2020-05-12</td>\n",
       "      <td>2020-05-12</td>\n",
       "      <td>2113.0</td>\n",
       "      <td>5854</td>\n",
       "      <td>2.529844</td>\n",
       "      <td>677</td>\n",
       "      <td>138</td>\n",
       "      <td>8</td>\n",
       "      <td>61</td>\n",
       "      <td>915.0</td>\n",
       "      <td>20.818245</td>\n",
       "      <td>128.0</td>\n",
       "    </tr>\n",
       "    <tr>\n",
       "      <th>4</th>\n",
       "      <td>2020-05-13 18:16:29</td>\n",
       "      <td>xdbdrk6e</td>\n",
       "      <td>8.0</td>\n",
       "      <td>20.0</td>\n",
       "      <td>3.0</td>\n",
       "      <td>2.0</td>\n",
       "      <td>23</td>\n",
       "      <td>2020-05-12</td>\n",
       "      <td>2020-05-12</td>\n",
       "      <td>1620.0</td>\n",
       "      <td>3342</td>\n",
       "      <td>1.373131</td>\n",
       "      <td>812</td>\n",
       "      <td>175</td>\n",
       "      <td>0</td>\n",
       "      <td>0</td>\n",
       "      <td>455.0</td>\n",
       "      <td>20.021873</td>\n",
       "      <td>113.0</td>\n",
       "    </tr>\n",
       "  </tbody>\n",
       "</table>\n",
       "</div>"
      ],
      "text/plain": [
       "          timestamp_x     beiwe  tst   sol  naw  restful  redcap  \\\n",
       "0 2020-05-13 09:10:27  qh34m4r9  8.0  20.0  2.0      3.0      68   \n",
       "1 2020-05-13 09:43:27  rvhdl2la  5.3   5.0  2.0      2.0      29   \n",
       "2 2020-05-13 10:32:23  mm69prai  7.0  30.0  5.0      0.0      62   \n",
       "3 2020-05-13 10:35:08  tlmlq19s  6.0   7.0  2.0      2.0      47   \n",
       "4 2020-05-13 18:16:29  xdbdrk6e  8.0  20.0  3.0      2.0      23   \n",
       "\n",
       "  activity_date timestamp_y  calories  steps  distance  sedentary_minutes  \\\n",
       "0    2020-05-12  2020-05-12    2876.0   8109  3.700731                627   \n",
       "1    2020-05-12  2020-05-12    2046.0   7453  2.981196                642   \n",
       "2    2020-05-12  2020-05-12    1351.0   1148  0.471702               1363   \n",
       "3    2020-05-12  2020-05-12    2113.0   5854  2.529844                677   \n",
       "4    2020-05-12  2020-05-12    1620.0   3342  1.373131                812   \n",
       "\n",
       "   lightly_active_minutes  fairly_active_minutes  very_active_minutes  \\\n",
       "0                     144                     31                   44   \n",
       "1                     297                     15                   12   \n",
       "2                      77                      0                    0   \n",
       "3                     138                      8                   61   \n",
       "4                     175                      0                    0   \n",
       "\n",
       "   calories_from_activities        bmi  weight  \n",
       "0                    1196.0  26.785088   185.0  \n",
       "1                     973.0  24.069941   130.8  \n",
       "2                     178.0  20.376562   115.0  \n",
       "3                     915.0  20.818245   128.0  \n",
       "4                     455.0  20.021873   113.0  "
      ]
     },
     "execution_count": 165,
     "metadata": {},
     "output_type": "execute_result"
    }
   ],
   "source": [
    "merged = targets.merge(right=features_activity,left_on=[\"activity_date\",\"beiwe\"],right_on=[\"timestamp\",\"beiwe\"])\n",
    "merged.head()"
   ]
  },
  {
   "cell_type": "markdown",
   "metadata": {},
   "source": [
    "<div class=\"alert alert-block alert-success\">\n",
    "    \n",
    "Datasets have been merged for a total of 1600 observations.\n",
    "    \n",
    "</div>"
   ]
  },
  {
   "cell_type": "markdown",
   "metadata": {},
   "source": [
    "<a id='preprocessing'></a>"
   ]
  },
  {
   "cell_type": "markdown",
   "metadata": {},
   "source": [
    "# Pre-Processing\n",
    "The analysis section is outlined as followed:\n",
    "\n",
    "- [Target Data](#target_data)\n",
    "- [Feature Data](#feature_data)\n",
    "\n",
    "Much of this code has been refractured into the `processing` source code and we import that module below so that we can simplify the code presented in this notebook."
   ]
  },
  {
   "cell_type": "code",
   "execution_count": 166,
   "metadata": {},
   "outputs": [],
   "source": [
    "from src.processing import process\n",
    "# defining feature engineering object\n",
    "pp = process.preprocess()"
   ]
  },
  {
   "cell_type": "markdown",
   "metadata": {},
   "source": [
    "<a id='target_data'></a>"
   ]
  },
  {
   "cell_type": "markdown",
   "metadata": {},
   "source": [
    "## Target Data"
   ]
  },
  {
   "cell_type": "markdown",
   "metadata": {},
   "source": [
    "<a id=\"feature_data\"></a>"
   ]
  },
  {
   "cell_type": "markdown",
   "metadata": {},
   "source": [
    "## Feature Data\n",
    "We can now look more closely at the activity data."
   ]
  },
  {
   "cell_type": "markdown",
   "metadata": {},
   "source": [
    "## Summary\n",
    "First we need to see with the data that we are working with"
   ]
  },
  {
   "cell_type": "code",
   "execution_count": 167,
   "metadata": {},
   "outputs": [
    {
     "data": {
      "image/png": "[encoded data removed]",
      "text/plain": [
       "<Figure size 1440x360 with 4 Axes>"
      ]
     },
     "metadata": {
      "needs_background": "light"
     },
     "output_type": "display_data"
    }
   ],
   "source": [
    "pp.plot_hist(merged[[\"sedentary_minutes\",\"lightly_active_minutes\",\"fairly_active_minutes\",\"very_active_minutes\"]])"
   ]
  },
  {
   "cell_type": "markdown",
   "metadata": {},
   "source": [
    "<div class=\"alert alert-block alert-info\">\n",
    "    \n",
    "Overall we can see that our participants tend to have very low amounts of `fairly_active` and `very_active` minutes.\n",
    "    \n",
    "</div>"
   ]
  },
  {
   "cell_type": "markdown",
   "metadata": {},
   "source": [
    "## Clustering by Activity Level\n",
    "We can use guidelines developed by the American College of Sports Medicine (ACSM) to determine low versus high activity nights. ACSM states that adults should do:\n",
    "* Moderate Intensity: 150 - 300 minutes per week, or\n",
    "* Vigorous: 75 - 150 minutes per week, or\n",
    "* Combination\n",
    "\n",
    "Fitbit divides activity level into multiple categories. While the cutoff points are not very clear, they are most likely:\n",
    "* Sedentary: MET < 1\n",
    "* Light: MET < 3\n",
    "* Fairly: MET < 6\n",
    "* Very: > 6\n",
    "\n",
    "Regardless, we can try including various components of the activity metrics to see if they change the results."
   ]
  },
  {
   "cell_type": "code",
   "execution_count": 168,
   "metadata": {},
   "outputs": [],
   "source": [
    "from src.analysis import activity_and_sleep\n",
    "act = activity_and_sleep.activity()"
   ]
  },
  {
   "cell_type": "markdown",
   "metadata": {},
   "source": [
    "### Activity by Week\n",
    "The guidelines are really _per week_ so perhaps we can include a rolling average of 7 days per participant to get at the true guideline."
   ]
  },
  {
   "cell_type": "code",
   "execution_count": 169,
   "metadata": {
    "scrolled": false
   },
   "outputs": [],
   "source": [
    "weekly = act.get_active_minutes_per_week(merged,index_col=\"activity_date\",id_col=\"beiwe\")"
   ]
  },
  {
   "cell_type": "markdown",
   "metadata": {},
   "source": [
    "With the rolling averages column, we now can include columns to see if the recommendations were met just like before."
   ]
  },
  {
   "cell_type": "code",
   "execution_count": 170,
   "metadata": {},
   "outputs": [],
   "source": [
    "levels = [\"moderately\",\"combined\",\"vigorously\"]\n",
    "thresholds = [150,150,75]\n",
    "for level, threshold in zip(levels, thresholds):\n",
    "    act.add_guidelines_met(weekly,level,threshold)"
   ]
  },
  {
   "cell_type": "markdown",
   "metadata": {},
   "source": [
    "<a id=\"analysis\"></a>"
   ]
  },
  {
   "cell_type": "markdown",
   "metadata": {},
   "source": [
    "# Analyzing Relationships"
   ]
  },
  {
   "cell_type": "markdown",
   "metadata": {},
   "source": [
    "## Activity and Sleep (Aggregate)\n",
    "The meat-and-potatoes of our analylsis, we can see if any of the activity categories we developed show clear differences in sleep metrics."
   ]
  },
  {
   "cell_type": "markdown",
   "metadata": {},
   "source": [
    "### Violin\n",
    "Rather than look for relationships within the scatter plots, we can instead see if there are any differences in the distributions of sleep metrics for these categories."
   ]
  },
  {
   "cell_type": "code",
   "execution_count": 173,
   "metadata": {},
   "outputs": [
    {
     "data": {
      "image/png": "[encoded data removed]",
      "text/plain": [
       "<Figure size 864x288 with 1 Axes>"
      ]
     },
     "metadata": {
      "needs_background": "light"
     },
     "output_type": "display_data"
    },
    {
     "data": {
      "image/png": "[encoded data removed]",
      "text/plain": [
       "<Figure size 864x288 with 1 Axes>"
      ]
     },
     "metadata": {
      "needs_background": "light"
     },
     "output_type": "display_data"
    },
    {
     "data": {
      "image/png": "[encoded data removed]",
      "text/plain": [
       "<Figure size 864x288 with 1 Axes>"
      ]
     },
     "metadata": {
      "needs_background": "light"
     },
     "output_type": "display_data"
    }
   ],
   "source": [
    "act.plot_violins(weekly,sleep_metrics=[\"sol\",\"naw\",\"tst\"], annotate=True, save=True, save_dir=\"../reports/figures/ema_fitbit\")"
   ]
  },
  {
   "cell_type": "markdown",
   "metadata": {},
   "source": [
    "## Activity and Sleep (Individual)\n",
    "Perhaps if we look on an individual level, we can get a better sense of the relationship that we should be seeing."
   ]
  },
  {
   "cell_type": "code",
   "execution_count": 174,
   "metadata": {},
   "outputs": [
    {
     "name": "stdout",
     "output_type": "stream",
     "text": [
      "Number of Participants: 46\n"
     ]
    }
   ],
   "source": [
    "print(\"Number of Participants:\", len(weekly[\"beiwe\"].unique()))"
   ]
  },
  {
   "cell_type": "code",
   "execution_count": 176,
   "metadata": {},
   "outputs": [],
   "source": [
    "def get_cleaned_activity_df(df, activity_level, sleep_metric, order=1, id_col=\"redcap\", min_points=3):\n",
    "    \"\"\"\n",
    "    Removes participants from dataframe and orders according to a given column\n",
    "    \"\"\"\n",
    "    df_cleaned = pd.DataFrame()\n",
    "    for pt in df[id_col].unique():\n",
    "        df_by_pt = df[df[id_col] == pt]\n",
    "        if len(df_by_pt) >= 7:\n",
    "            df_by_pt_no_zeros = df_by_pt[df_by_pt[f\"{activity_level}_active_minutes\"] > 0]\n",
    "            if len(df_by_pt_no_zeros) >= min_points:\n",
    "                df_by_pt_no_zeros[\"n\"] = len(df_by_pt_no_zeros)\n",
    "                df_by_pt_no_zeros[\"slope\"] = np.polyfit(df_by_pt_no_zeros[f\"{activity_level}_active_minutes\"],df_by_pt_no_zeros[sleep_metric],deg=order)[0]\n",
    "                df_by_pt_no_zeros[\"r\"] = abs(np.polyfit(df_by_pt_no_zeros[f\"{activity_level}_active_minutes\"],df_by_pt_no_zeros[sleep_metric],deg=order,full=True)[1][0])\n",
    "                df_cleaned = df_cleaned.append(df_by_pt_no_zeros)\n",
    "                \n",
    "    return df_cleaned.sort_values(\"r\",ascending=True)"
   ]
  },
  {
   "cell_type": "code",
   "execution_count": 179,
   "metadata": {
    "scrolled": false
   },
   "outputs": [],
   "source": [
    "def plot_indvidual_responses(df, sleep_metrics = [\"rem_percent\",\"wake_percent\",\"nrem_percent\",\"rem2nrem_percent\",\"efficiency\",\"tst_fb\"]):\n",
    "    for sleep_metric in sleep_metrics:\n",
    "        for activity_level in [\"moderately\",\"combined\",\"vigorously\"]:\n",
    "            df_to_plot = get_cleaned_activity_df(df,activity_level,sleep_metric)\n",
    "            fig, axes = plt.subplots(4,11,figsize=(22,8),sharey=True,sharex=True,gridspec_kw={\"wspace\":0,\"hspace\":0})\n",
    "            for pt, ax in zip(df_to_plot[\"redcap\"].unique(),axes.flat):\n",
    "                df_to_plot_by_pt = df_to_plot[df_to_plot[\"redcap\"] == pt]\n",
    "                sns.regplot(x=f\"{activity_level}_active_minutes\",y=sleep_metric,data=df_to_plot_by_pt,ci=None,truncate=True,order=1,\n",
    "                            scatter_kws={\"s\": 20, \"alpha\":0.7,\"color\":\"cornflowerblue\"},\n",
    "                            line_kws={\"linewidth\":1,\"color\":\"black\"},ax=ax)\n",
    "                ax.set_xlabel(\"\")\n",
    "                ax.set_ylabel(\"\")\n",
    "                ax.set_title(int(pt),y=1.0)\n",
    "\n",
    "                ax.get_xaxis().set_visible(False)\n",
    "                ax.get_yaxis().set_visible(False)\n",
    "\n",
    "            fig.text(0.1,0.5,sleep_metric.replace(\"_\",\" \").replace(\"2\",\":\").title(), ha='center', va='center', rotation='vertical',size=16)\n",
    "            fig.text(0.5, 0.07, f\"{activity_level.title()} Active Minutes per Day\", ha='center', va='center',size=16)\n",
    "\n",
    "            axes[3,0].get_xaxis().set_visible(True)\n",
    "            axes[3,0].get_yaxis().set_visible(True)\n",
    "            plt.show()\n",
    "            plt.close()"
   ]
  },
  {
   "cell_type": "code",
   "execution_count": 180,
   "metadata": {
    "scrolled": false
   },
   "outputs": [
    {
     "ename": "KeyError",
     "evalue": "'r'",
     "output_type": "error",
     "traceback": [
      "\u001b[0;31m---------------------------------------------------------------------------\u001b[0m",
      "\u001b[0;31mKeyError\u001b[0m                                  Traceback (most recent call last)",
      "\u001b[0;32m/Library/Frameworks/Python.framework/Versions/3.7/lib/python3.7/site-packages/pandas/core/indexes/base.py\u001b[0m in \u001b[0;36mget_loc\u001b[0;34m(self, key, method, tolerance)\u001b[0m\n\u001b[1;32m   2897\u001b[0m             \u001b[0;32mtry\u001b[0m\u001b[0;34m:\u001b[0m\u001b[0;34m\u001b[0m\u001b[0m\n\u001b[0;32m-> 2898\u001b[0;31m                 \u001b[0;32mreturn\u001b[0m \u001b[0mself\u001b[0m\u001b[0;34m.\u001b[0m\u001b[0m_engine\u001b[0m\u001b[0;34m.\u001b[0m\u001b[0mget_loc\u001b[0m\u001b[0;34m(\u001b[0m\u001b[0mcasted_key\u001b[0m\u001b[0;34m)\u001b[0m\u001b[0;34m\u001b[0m\u001b[0m\n\u001b[0m\u001b[1;32m   2899\u001b[0m             \u001b[0;32mexcept\u001b[0m \u001b[0mKeyError\u001b[0m \u001b[0;32mas\u001b[0m \u001b[0merr\u001b[0m\u001b[0;34m:\u001b[0m\u001b[0;34m\u001b[0m\u001b[0m\n",
      "\u001b[0;32mpandas/_libs/index.pyx\u001b[0m in \u001b[0;36mpandas._libs.index.IndexEngine.get_loc\u001b[0;34m()\u001b[0m\n",
      "\u001b[0;32mpandas/_libs/index.pyx\u001b[0m in \u001b[0;36mpandas._libs.index.IndexEngine.get_loc\u001b[0;34m()\u001b[0m\n",
      "\u001b[0;32mpandas/_libs/hashtable_class_helper.pxi\u001b[0m in \u001b[0;36mpandas._libs.hashtable.PyObjectHashTable.get_item\u001b[0;34m()\u001b[0m\n",
      "\u001b[0;32mpandas/_libs/hashtable_class_helper.pxi\u001b[0m in \u001b[0;36mpandas._libs.hashtable.PyObjectHashTable.get_item\u001b[0;34m()\u001b[0m\n",
      "\u001b[0;31mKeyError\u001b[0m: 'r'",
      "\nThe above exception was the direct cause of the following exception:\n",
      "\u001b[0;31mKeyError\u001b[0m                                  Traceback (most recent call last)",
      "\u001b[0;32m<ipython-input-180-efed4a98d02d>\u001b[0m in \u001b[0;36m<module>\u001b[0;34m\u001b[0m\n\u001b[0;32m----> 1\u001b[0;31m \u001b[0mplot_indvidual_responses\u001b[0m\u001b[0;34m(\u001b[0m\u001b[0mweekly\u001b[0m\u001b[0;34m,\u001b[0m \u001b[0msleep_metrics\u001b[0m\u001b[0;34m=\u001b[0m\u001b[0;34m\"restful\"\u001b[0m\u001b[0;34m)\u001b[0m\u001b[0;34m\u001b[0m\u001b[0m\n\u001b[0m",
      "\u001b[0;32m<ipython-input-179-327a291727e4>\u001b[0m in \u001b[0;36mplot_indvidual_responses\u001b[0;34m(df, sleep_metrics)\u001b[0m\n\u001b[1;32m      2\u001b[0m     \u001b[0;32mfor\u001b[0m \u001b[0msleep_metric\u001b[0m \u001b[0;32min\u001b[0m \u001b[0msleep_metrics\u001b[0m\u001b[0;34m:\u001b[0m\u001b[0;34m\u001b[0m\u001b[0m\n\u001b[1;32m      3\u001b[0m         \u001b[0;32mfor\u001b[0m \u001b[0mactivity_level\u001b[0m \u001b[0;32min\u001b[0m \u001b[0;34m[\u001b[0m\u001b[0;34m\"moderately\"\u001b[0m\u001b[0;34m,\u001b[0m\u001b[0;34m\"combined\"\u001b[0m\u001b[0;34m,\u001b[0m\u001b[0;34m\"vigorously\"\u001b[0m\u001b[0;34m]\u001b[0m\u001b[0;34m:\u001b[0m\u001b[0;34m\u001b[0m\u001b[0m\n\u001b[0;32m----> 4\u001b[0;31m             \u001b[0mdf_to_plot\u001b[0m \u001b[0;34m=\u001b[0m \u001b[0mget_cleaned_activity_df\u001b[0m\u001b[0;34m(\u001b[0m\u001b[0mdf\u001b[0m\u001b[0;34m,\u001b[0m\u001b[0mactivity_level\u001b[0m\u001b[0;34m,\u001b[0m\u001b[0msleep_metric\u001b[0m\u001b[0;34m)\u001b[0m\u001b[0;34m\u001b[0m\u001b[0m\n\u001b[0m\u001b[1;32m      5\u001b[0m             \u001b[0mfig\u001b[0m\u001b[0;34m,\u001b[0m \u001b[0maxes\u001b[0m \u001b[0;34m=\u001b[0m \u001b[0mplt\u001b[0m\u001b[0;34m.\u001b[0m\u001b[0msubplots\u001b[0m\u001b[0;34m(\u001b[0m\u001b[0;36m4\u001b[0m\u001b[0;34m,\u001b[0m\u001b[0;36m11\u001b[0m\u001b[0;34m,\u001b[0m\u001b[0mfigsize\u001b[0m\u001b[0;34m=\u001b[0m\u001b[0;34m(\u001b[0m\u001b[0;36m22\u001b[0m\u001b[0;34m,\u001b[0m\u001b[0;36m8\u001b[0m\u001b[0;34m)\u001b[0m\u001b[0;34m,\u001b[0m\u001b[0msharey\u001b[0m\u001b[0;34m=\u001b[0m\u001b[0;32mTrue\u001b[0m\u001b[0;34m,\u001b[0m\u001b[0msharex\u001b[0m\u001b[0;34m=\u001b[0m\u001b[0;32mTrue\u001b[0m\u001b[0;34m,\u001b[0m\u001b[0mgridspec_kw\u001b[0m\u001b[0;34m=\u001b[0m\u001b[0;34m{\u001b[0m\u001b[0;34m\"wspace\"\u001b[0m\u001b[0;34m:\u001b[0m\u001b[0;36m0\u001b[0m\u001b[0;34m,\u001b[0m\u001b[0;34m\"hspace\"\u001b[0m\u001b[0;34m:\u001b[0m\u001b[0;36m0\u001b[0m\u001b[0;34m}\u001b[0m\u001b[0;34m)\u001b[0m\u001b[0;34m\u001b[0m\u001b[0m\n\u001b[1;32m      6\u001b[0m             \u001b[0;32mfor\u001b[0m \u001b[0mpt\u001b[0m\u001b[0;34m,\u001b[0m \u001b[0max\u001b[0m \u001b[0;32min\u001b[0m \u001b[0mzip\u001b[0m\u001b[0;34m(\u001b[0m\u001b[0mdf_to_plot\u001b[0m\u001b[0;34m[\u001b[0m\u001b[0;34m\"redcap\"\u001b[0m\u001b[0;34m]\u001b[0m\u001b[0;34m.\u001b[0m\u001b[0munique\u001b[0m\u001b[0;34m(\u001b[0m\u001b[0;34m)\u001b[0m\u001b[0;34m,\u001b[0m\u001b[0maxes\u001b[0m\u001b[0;34m.\u001b[0m\u001b[0mflat\u001b[0m\u001b[0;34m)\u001b[0m\u001b[0;34m:\u001b[0m\u001b[0;34m\u001b[0m\u001b[0m\n",
      "\u001b[0;32m<ipython-input-176-fcd046344ad2>\u001b[0m in \u001b[0;36mget_cleaned_activity_df\u001b[0;34m(df, activity_level, sleep_metric, order, id_col, min_points)\u001b[0m\n\u001b[1;32m     10\u001b[0m             \u001b[0;32mif\u001b[0m \u001b[0mlen\u001b[0m\u001b[0;34m(\u001b[0m\u001b[0mdf_by_pt_no_zeros\u001b[0m\u001b[0;34m)\u001b[0m \u001b[0;34m>=\u001b[0m \u001b[0mmin_points\u001b[0m\u001b[0;34m:\u001b[0m\u001b[0;34m\u001b[0m\u001b[0m\n\u001b[1;32m     11\u001b[0m                 \u001b[0mdf_by_pt_no_zeros\u001b[0m\u001b[0;34m[\u001b[0m\u001b[0;34m\"n\"\u001b[0m\u001b[0;34m]\u001b[0m \u001b[0;34m=\u001b[0m \u001b[0mlen\u001b[0m\u001b[0;34m(\u001b[0m\u001b[0mdf_by_pt_no_zeros\u001b[0m\u001b[0;34m)\u001b[0m\u001b[0;34m\u001b[0m\u001b[0m\n\u001b[0;32m---> 12\u001b[0;31m                 \u001b[0mdf_by_pt_no_zeros\u001b[0m\u001b[0;34m[\u001b[0m\u001b[0;34m\"slope\"\u001b[0m\u001b[0;34m]\u001b[0m \u001b[0;34m=\u001b[0m \u001b[0mnp\u001b[0m\u001b[0;34m.\u001b[0m\u001b[0mpolyfit\u001b[0m\u001b[0;34m(\u001b[0m\u001b[0mdf_by_pt_no_zeros\u001b[0m\u001b[0;34m[\u001b[0m\u001b[0;34mf\"{activity_level}_active_minutes\"\u001b[0m\u001b[0;34m]\u001b[0m\u001b[0;34m,\u001b[0m\u001b[0mdf_by_pt_no_zeros\u001b[0m\u001b[0;34m[\u001b[0m\u001b[0msleep_metric\u001b[0m\u001b[0;34m]\u001b[0m\u001b[0;34m,\u001b[0m\u001b[0mdeg\u001b[0m\u001b[0;34m=\u001b[0m\u001b[0morder\u001b[0m\u001b[0;34m)\u001b[0m\u001b[0;34m[\u001b[0m\u001b[0;36m0\u001b[0m\u001b[0;34m]\u001b[0m\u001b[0;34m\u001b[0m\u001b[0m\n\u001b[0m\u001b[1;32m     13\u001b[0m                 \u001b[0mdf_by_pt_no_zeros\u001b[0m\u001b[0;34m[\u001b[0m\u001b[0;34m\"r\"\u001b[0m\u001b[0;34m]\u001b[0m \u001b[0;34m=\u001b[0m \u001b[0mabs\u001b[0m\u001b[0;34m(\u001b[0m\u001b[0mnp\u001b[0m\u001b[0;34m.\u001b[0m\u001b[0mpolyfit\u001b[0m\u001b[0;34m(\u001b[0m\u001b[0mdf_by_pt_no_zeros\u001b[0m\u001b[0;34m[\u001b[0m\u001b[0;34mf\"{activity_level}_active_minutes\"\u001b[0m\u001b[0;34m]\u001b[0m\u001b[0;34m,\u001b[0m\u001b[0mdf_by_pt_no_zeros\u001b[0m\u001b[0;34m[\u001b[0m\u001b[0msleep_metric\u001b[0m\u001b[0;34m]\u001b[0m\u001b[0;34m,\u001b[0m\u001b[0mdeg\u001b[0m\u001b[0;34m=\u001b[0m\u001b[0morder\u001b[0m\u001b[0;34m,\u001b[0m\u001b[0mfull\u001b[0m\u001b[0;34m=\u001b[0m\u001b[0;32mTrue\u001b[0m\u001b[0;34m)\u001b[0m\u001b[0;34m[\u001b[0m\u001b[0;36m1\u001b[0m\u001b[0;34m]\u001b[0m\u001b[0;34m[\u001b[0m\u001b[0;36m0\u001b[0m\u001b[0;34m]\u001b[0m\u001b[0;34m)\u001b[0m\u001b[0;34m\u001b[0m\u001b[0m\n\u001b[1;32m     14\u001b[0m                 \u001b[0mdf_cleaned\u001b[0m \u001b[0;34m=\u001b[0m \u001b[0mdf_cleaned\u001b[0m\u001b[0;34m.\u001b[0m\u001b[0mappend\u001b[0m\u001b[0;34m(\u001b[0m\u001b[0mdf_by_pt_no_zeros\u001b[0m\u001b[0;34m)\u001b[0m\u001b[0;34m\u001b[0m\u001b[0m\n",
      "\u001b[0;32m/Library/Frameworks/Python.framework/Versions/3.7/lib/python3.7/site-packages/pandas/core/frame.py\u001b[0m in \u001b[0;36m__getitem__\u001b[0;34m(self, key)\u001b[0m\n\u001b[1;32m   2904\u001b[0m             \u001b[0;32mif\u001b[0m \u001b[0mself\u001b[0m\u001b[0;34m.\u001b[0m\u001b[0mcolumns\u001b[0m\u001b[0;34m.\u001b[0m\u001b[0mnlevels\u001b[0m \u001b[0;34m>\u001b[0m \u001b[0;36m1\u001b[0m\u001b[0;34m:\u001b[0m\u001b[0;34m\u001b[0m\u001b[0m\n\u001b[1;32m   2905\u001b[0m                 \u001b[0;32mreturn\u001b[0m \u001b[0mself\u001b[0m\u001b[0;34m.\u001b[0m\u001b[0m_getitem_multilevel\u001b[0m\u001b[0;34m(\u001b[0m\u001b[0mkey\u001b[0m\u001b[0;34m)\u001b[0m\u001b[0;34m\u001b[0m\u001b[0m\n\u001b[0;32m-> 2906\u001b[0;31m             \u001b[0mindexer\u001b[0m \u001b[0;34m=\u001b[0m \u001b[0mself\u001b[0m\u001b[0;34m.\u001b[0m\u001b[0mcolumns\u001b[0m\u001b[0;34m.\u001b[0m\u001b[0mget_loc\u001b[0m\u001b[0;34m(\u001b[0m\u001b[0mkey\u001b[0m\u001b[0;34m)\u001b[0m\u001b[0;34m\u001b[0m\u001b[0m\n\u001b[0m\u001b[1;32m   2907\u001b[0m             \u001b[0;32mif\u001b[0m \u001b[0mis_integer\u001b[0m\u001b[0;34m(\u001b[0m\u001b[0mindexer\u001b[0m\u001b[0;34m)\u001b[0m\u001b[0;34m:\u001b[0m\u001b[0;34m\u001b[0m\u001b[0m\n\u001b[1;32m   2908\u001b[0m                 \u001b[0mindexer\u001b[0m \u001b[0;34m=\u001b[0m \u001b[0;34m[\u001b[0m\u001b[0mindexer\u001b[0m\u001b[0;34m]\u001b[0m\u001b[0;34m\u001b[0m\u001b[0m\n",
      "\u001b[0;32m/Library/Frameworks/Python.framework/Versions/3.7/lib/python3.7/site-packages/pandas/core/indexes/base.py\u001b[0m in \u001b[0;36mget_loc\u001b[0;34m(self, key, method, tolerance)\u001b[0m\n\u001b[1;32m   2898\u001b[0m                 \u001b[0;32mreturn\u001b[0m \u001b[0mself\u001b[0m\u001b[0;34m.\u001b[0m\u001b[0m_engine\u001b[0m\u001b[0;34m.\u001b[0m\u001b[0mget_loc\u001b[0m\u001b[0;34m(\u001b[0m\u001b[0mcasted_key\u001b[0m\u001b[0;34m)\u001b[0m\u001b[0;34m\u001b[0m\u001b[0m\n\u001b[1;32m   2899\u001b[0m             \u001b[0;32mexcept\u001b[0m \u001b[0mKeyError\u001b[0m \u001b[0;32mas\u001b[0m \u001b[0merr\u001b[0m\u001b[0;34m:\u001b[0m\u001b[0;34m\u001b[0m\u001b[0m\n\u001b[0;32m-> 2900\u001b[0;31m                 \u001b[0;32mraise\u001b[0m \u001b[0mKeyError\u001b[0m\u001b[0;34m(\u001b[0m\u001b[0mkey\u001b[0m\u001b[0;34m)\u001b[0m \u001b[0;32mfrom\u001b[0m \u001b[0merr\u001b[0m\u001b[0;34m\u001b[0m\u001b[0m\n\u001b[0m\u001b[1;32m   2901\u001b[0m \u001b[0;34m\u001b[0m\u001b[0m\n\u001b[1;32m   2902\u001b[0m         \u001b[0;32mif\u001b[0m \u001b[0mtolerance\u001b[0m \u001b[0;32mis\u001b[0m \u001b[0;32mnot\u001b[0m \u001b[0;32mNone\u001b[0m\u001b[0;34m:\u001b[0m\u001b[0;34m\u001b[0m\u001b[0m\n",
      "\u001b[0;31mKeyError\u001b[0m: 'r'"
     ]
    }
   ],
   "source": [
    "plot_indvidual_responses(weekly, sleep_metrics=\"restful\")"
   ]
  },
  {
   "cell_type": "code",
   "execution_count": null,
   "metadata": {},
   "outputs": [],
   "source": []
  }
 ],
 "metadata": {
  "kernelspec": {
   "display_name": "Python 3",
   "language": "python",
   "name": "python3"
  },
  "language_info": {
   "codemirror_mode": {
    "name": "ipython",
    "version": 3
   },
   "file_extension": ".py",
   "mimetype": "text/x-python",
   "name": "python",
   "nbconvert_exporter": "python",
   "pygments_lexer": "ipython3",
   "version": "3.7.0"
  },
  "toc": {
   "base_numbering": 1,
   "nav_menu": {},
   "number_sections": false,
   "sideBar": false,
   "skip_h1_title": false,
   "title_cell": "Table of Contents",
   "title_sidebar": "Contents",
   "toc_cell": false,
   "toc_position": {},
   "toc_section_display": false,
   "toc_window_display": false
  }
 },
 "nbformat": 4,
 "nbformat_minor": 4
}
