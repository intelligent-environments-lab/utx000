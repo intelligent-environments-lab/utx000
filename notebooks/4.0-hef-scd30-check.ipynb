{
 "cells": [
  {
   "cell_type": "markdown",
   "metadata": {},
   "source": [
    "# SCD30 Check\n",
    "This notebook is simply to check how well the scd30 sensors are working on a select few beacons. \n",
    "\n",
    "[Data Import](#Data-Import)\n",
    "\n",
    "[Data Visualization](#Data-Visualization)\n",
    " - [Time Series](#Time-Series)\n",
    " - [Heatmaps](#Heatmaps)"
   ]
  },
  {
   "cell_type": "code",
   "execution_count": 3,
   "metadata": {},
   "outputs": [],
   "source": [
    "import pandas as pd\n",
    "import numpy as np\n",
    "from datetime import datetime\n",
    "import os"
   ]
  },
  {
   "cell_type": "markdown",
   "metadata": {},
   "source": [
    "# Data Import"
   ]
  },
  {
   "cell_type": "code",
   "execution_count": 5,
   "metadata": {},
   "outputs": [],
   "source": [
    "# Beacon batch test 1\n",
    "beacon_list = [14,37,43]\n",
    "start_time = datetime(2020,7,9,16)\n",
    "end_time = datetime(2020,7,10,12)"
   ]
  },
  {
   "cell_type": "code",
   "execution_count": 4,
   "metadata": {},
   "outputs": [],
   "source": [
    "# Beacon batch test 2\n",
    "beacon_list = [4,9,45]\n",
    "start_time = datetime(2020,7,10,11,45)\n",
    "#end_time = datetime(2020,7,10,12)"
   ]
  },
  {
   "cell_type": "code",
   "execution_count": 6,
   "metadata": {},
   "outputs": [
    {
     "name": "stdout",
     "output_type": "stream",
     "text": [
      "Reading for beacon:\n",
      "\t14\n",
      "'Timestamp' is not in list; filename: b14_2020-03-22.csv\n",
      "\t37\n",
      "\t43\n"
     ]
    }
   ],
   "source": [
    "beacon_data = pd.DataFrame()\n",
    "print('Reading for beacon:')\n",
    "for beacon in beacon_list:\n",
    "    print(f'\\t{beacon}')\n",
    "    beacon_df = pd.DataFrame()\n",
    "    if beacon < 10:\n",
    "        number = f'0{beacon}'\n",
    "    else:\n",
    "        number = f'{beacon}'\n",
    "    py3_df = pd.DataFrame()\n",
    "    for file in os.listdir(f'/Users/hagenfritz/Projects/utx000/data/raw/bpeace2/beacon/B{number}/adafruit/'):\n",
    "        try:\n",
    "            day_df = pd.read_csv(f'/Users/hagenfritz/Projects/utx000/data/raw/bpeace2/beacon/B{number}/adafruit/{file}',\n",
    "                                index_col='Timestamp',parse_dates=True,infer_datetime_format=True)\n",
    "            py3_df = pd.concat([py3_df,day_df])\n",
    "        except Exception as inst:\n",
    "            print(f'{inst}; filename: {file}')\n",
    "    py3_df = py3_df.resample('5T').mean()\n",
    "    py2_df = pd.DataFrame()\n",
    "    for file in os.listdir(f'/Users/hagenfritz/Projects/utx000/data/raw/bpeace2/beacon/B{number}/sensirion/'):\n",
    "        try:\n",
    "            day_df = pd.read_csv(f'/Users/hagenfritz/Projects/utx000/data/raw/bpeace2/beacon/B{number}/sensirion/{file}',\n",
    "                            index_col='Timestamp',parse_dates=True,infer_datetime_format=True)\n",
    "        except Exception as inst:\n",
    "            print(f'{inst}; filename: {file}')\n",
    "        py2_df = pd.concat([py2_df,day_df])\n",
    "        \n",
    "    py2_df = py2_df.resample('5T').mean()\n",
    "        \n",
    "    beacon_df = py3_df.merge(right=py2_df,left_index=True,right_index=True,how='outer')\n",
    "    beacon_df['Beacon'] = beacon\n",
    "    \n",
    "    beacon_data = pd.concat([beacon_data,beacon_df])"
   ]
  },
  {
   "cell_type": "code",
   "execution_count": 7,
   "metadata": {},
   "outputs": [
    {
     "data": {
      "text/html": [
       "<div>\n",
       "<style scoped>\n",
       "    .dataframe tbody tr th:only-of-type {\n",
       "        vertical-align: middle;\n",
       "    }\n",
       "\n",
       "    .dataframe tbody tr th {\n",
       "        vertical-align: top;\n",
       "    }\n",
       "\n",
       "    .dataframe thead th {\n",
       "        text-align: right;\n",
       "    }\n",
       "</style>\n",
       "<table border=\"1\" class=\"dataframe\">\n",
       "  <thead>\n",
       "    <tr style=\"text-align: right;\">\n",
       "      <th></th>\n",
       "      <th>TVOC</th>\n",
       "      <th>eCO2</th>\n",
       "      <th>Lux</th>\n",
       "      <th>Visible</th>\n",
       "      <th>Infrared</th>\n",
       "      <th>NO2</th>\n",
       "      <th>T_NO2</th>\n",
       "      <th>RH_NO2</th>\n",
       "      <th>CO</th>\n",
       "      <th>T_CO</th>\n",
       "      <th>...</th>\n",
       "      <th>PM_N_0p5</th>\n",
       "      <th>PM_N_1</th>\n",
       "      <th>PM_N_2p5</th>\n",
       "      <th>PM_N_4</th>\n",
       "      <th>PM_N_10</th>\n",
       "      <th>PM_C_1</th>\n",
       "      <th>PM_C_2p5</th>\n",
       "      <th>PM_C_4</th>\n",
       "      <th>PM_C_10</th>\n",
       "      <th>Beacon</th>\n",
       "    </tr>\n",
       "    <tr>\n",
       "      <th>Timestamp</th>\n",
       "      <th></th>\n",
       "      <th></th>\n",
       "      <th></th>\n",
       "      <th></th>\n",
       "      <th></th>\n",
       "      <th></th>\n",
       "      <th></th>\n",
       "      <th></th>\n",
       "      <th></th>\n",
       "      <th></th>\n",
       "      <th></th>\n",
       "      <th></th>\n",
       "      <th></th>\n",
       "      <th></th>\n",
       "      <th></th>\n",
       "      <th></th>\n",
       "      <th></th>\n",
       "      <th></th>\n",
       "      <th></th>\n",
       "      <th></th>\n",
       "      <th></th>\n",
       "    </tr>\n",
       "  </thead>\n",
       "  <tbody>\n",
       "    <tr>\n",
       "      <th>2019-02-14 04:10:00</th>\n",
       "      <td>NaN</td>\n",
       "      <td>NaN</td>\n",
       "      <td>NaN</td>\n",
       "      <td>NaN</td>\n",
       "      <td>NaN</td>\n",
       "      <td>NaN</td>\n",
       "      <td>NaN</td>\n",
       "      <td>NaN</td>\n",
       "      <td>NaN</td>\n",
       "      <td>NaN</td>\n",
       "      <td>...</td>\n",
       "      <td>34.483556</td>\n",
       "      <td>46.110766</td>\n",
       "      <td>49.995009</td>\n",
       "      <td>50.471410</td>\n",
       "      <td>50.544718</td>\n",
       "      <td>6.315450</td>\n",
       "      <td>10.187140</td>\n",
       "      <td>12.84728</td>\n",
       "      <td>13.073631</td>\n",
       "      <td>14</td>\n",
       "    </tr>\n",
       "    <tr>\n",
       "      <th>2019-02-14 04:15:00</th>\n",
       "      <td>NaN</td>\n",
       "      <td>NaN</td>\n",
       "      <td>NaN</td>\n",
       "      <td>NaN</td>\n",
       "      <td>NaN</td>\n",
       "      <td>NaN</td>\n",
       "      <td>NaN</td>\n",
       "      <td>NaN</td>\n",
       "      <td>NaN</td>\n",
       "      <td>NaN</td>\n",
       "      <td>...</td>\n",
       "      <td>19.257784</td>\n",
       "      <td>34.122705</td>\n",
       "      <td>41.230414</td>\n",
       "      <td>42.119971</td>\n",
       "      <td>42.255432</td>\n",
       "      <td>5.346603</td>\n",
       "      <td>12.279961</td>\n",
       "      <td>17.26664</td>\n",
       "      <td>17.690962</td>\n",
       "      <td>14</td>\n",
       "    </tr>\n",
       "    <tr>\n",
       "      <th>2019-02-14 04:20:00</th>\n",
       "      <td>NaN</td>\n",
       "      <td>NaN</td>\n",
       "      <td>NaN</td>\n",
       "      <td>NaN</td>\n",
       "      <td>NaN</td>\n",
       "      <td>NaN</td>\n",
       "      <td>NaN</td>\n",
       "      <td>NaN</td>\n",
       "      <td>NaN</td>\n",
       "      <td>NaN</td>\n",
       "      <td>...</td>\n",
       "      <td>NaN</td>\n",
       "      <td>NaN</td>\n",
       "      <td>NaN</td>\n",
       "      <td>NaN</td>\n",
       "      <td>NaN</td>\n",
       "      <td>NaN</td>\n",
       "      <td>NaN</td>\n",
       "      <td>NaN</td>\n",
       "      <td>NaN</td>\n",
       "      <td>14</td>\n",
       "    </tr>\n",
       "    <tr>\n",
       "      <th>2019-02-14 04:25:00</th>\n",
       "      <td>NaN</td>\n",
       "      <td>NaN</td>\n",
       "      <td>NaN</td>\n",
       "      <td>NaN</td>\n",
       "      <td>NaN</td>\n",
       "      <td>NaN</td>\n",
       "      <td>NaN</td>\n",
       "      <td>NaN</td>\n",
       "      <td>NaN</td>\n",
       "      <td>NaN</td>\n",
       "      <td>...</td>\n",
       "      <td>NaN</td>\n",
       "      <td>NaN</td>\n",
       "      <td>NaN</td>\n",
       "      <td>NaN</td>\n",
       "      <td>NaN</td>\n",
       "      <td>NaN</td>\n",
       "      <td>NaN</td>\n",
       "      <td>NaN</td>\n",
       "      <td>NaN</td>\n",
       "      <td>14</td>\n",
       "    </tr>\n",
       "    <tr>\n",
       "      <th>2019-02-14 04:30:00</th>\n",
       "      <td>NaN</td>\n",
       "      <td>NaN</td>\n",
       "      <td>NaN</td>\n",
       "      <td>NaN</td>\n",
       "      <td>NaN</td>\n",
       "      <td>NaN</td>\n",
       "      <td>NaN</td>\n",
       "      <td>NaN</td>\n",
       "      <td>NaN</td>\n",
       "      <td>NaN</td>\n",
       "      <td>...</td>\n",
       "      <td>NaN</td>\n",
       "      <td>NaN</td>\n",
       "      <td>NaN</td>\n",
       "      <td>NaN</td>\n",
       "      <td>NaN</td>\n",
       "      <td>NaN</td>\n",
       "      <td>NaN</td>\n",
       "      <td>NaN</td>\n",
       "      <td>NaN</td>\n",
       "      <td>14</td>\n",
       "    </tr>\n",
       "  </tbody>\n",
       "</table>\n",
       "<p>5 rows × 24 columns</p>\n",
       "</div>"
      ],
      "text/plain": [
       "                     TVOC  eCO2  Lux  Visible  Infrared  NO2  T_NO2  RH_NO2  \\\n",
       "Timestamp                                                                     \n",
       "2019-02-14 04:10:00   NaN   NaN  NaN      NaN       NaN  NaN    NaN     NaN   \n",
       "2019-02-14 04:15:00   NaN   NaN  NaN      NaN       NaN  NaN    NaN     NaN   \n",
       "2019-02-14 04:20:00   NaN   NaN  NaN      NaN       NaN  NaN    NaN     NaN   \n",
       "2019-02-14 04:25:00   NaN   NaN  NaN      NaN       NaN  NaN    NaN     NaN   \n",
       "2019-02-14 04:30:00   NaN   NaN  NaN      NaN       NaN  NaN    NaN     NaN   \n",
       "\n",
       "                     CO  T_CO  ...   PM_N_0p5     PM_N_1   PM_N_2p5  \\\n",
       "Timestamp                      ...                                    \n",
       "2019-02-14 04:10:00 NaN   NaN  ...  34.483556  46.110766  49.995009   \n",
       "2019-02-14 04:15:00 NaN   NaN  ...  19.257784  34.122705  41.230414   \n",
       "2019-02-14 04:20:00 NaN   NaN  ...        NaN        NaN        NaN   \n",
       "2019-02-14 04:25:00 NaN   NaN  ...        NaN        NaN        NaN   \n",
       "2019-02-14 04:30:00 NaN   NaN  ...        NaN        NaN        NaN   \n",
       "\n",
       "                        PM_N_4    PM_N_10    PM_C_1   PM_C_2p5    PM_C_4  \\\n",
       "Timestamp                                                                  \n",
       "2019-02-14 04:10:00  50.471410  50.544718  6.315450  10.187140  12.84728   \n",
       "2019-02-14 04:15:00  42.119971  42.255432  5.346603  12.279961  17.26664   \n",
       "2019-02-14 04:20:00        NaN        NaN       NaN        NaN       NaN   \n",
       "2019-02-14 04:25:00        NaN        NaN       NaN        NaN       NaN   \n",
       "2019-02-14 04:30:00        NaN        NaN       NaN        NaN       NaN   \n",
       "\n",
       "                       PM_C_10  Beacon  \n",
       "Timestamp                               \n",
       "2019-02-14 04:10:00  13.073631      14  \n",
       "2019-02-14 04:15:00  17.690962      14  \n",
       "2019-02-14 04:20:00        NaN      14  \n",
       "2019-02-14 04:25:00        NaN      14  \n",
       "2019-02-14 04:30:00        NaN      14  \n",
       "\n",
       "[5 rows x 24 columns]"
      ]
     },
     "execution_count": 7,
     "metadata": {},
     "output_type": "execute_result"
    }
   ],
   "source": [
    "beacon_data.head()"
   ]
  },
  {
   "cell_type": "markdown",
   "metadata": {},
   "source": [
    "# Data Visualization\n",
    "Now we visually inspect the data."
   ]
  },
  {
   "cell_type": "code",
   "execution_count": 8,
   "metadata": {},
   "outputs": [],
   "source": [
    "import matplotlib.pyplot as plt\n",
    "import seaborn as sns"
   ]
  },
  {
   "cell_type": "markdown",
   "metadata": {},
   "source": [
    "## Time Series"
   ]
  },
  {
   "cell_type": "code",
   "execution_count": 9,
   "metadata": {},
   "outputs": [
    {
     "data": {
      "image/png": "[encoded data removed]",
      "text/plain": [
       "<Figure size 864x432 with 1 Axes>"
      ]
     },
     "metadata": {
      "needs_background": "light"
     },
     "output_type": "display_data"
    }
   ],
   "source": [
    "fig, ax = plt.subplots(figsize=(12,6))\n",
    "for num in beacon_data['Beacon'].unique():\n",
    "    df_to_plot = beacon_data[beacon_data['Beacon'] == num]\n",
    "    ax.plot(df_to_plot.index,df_to_plot['CO2'],linewidth=2,label=num)\n",
    "    \n",
    "ax.set_xlim([start_time,end_time])\n",
    "ax.set_ylabel('CO2 Concentration (ppm)')\n",
    "ax.legend()\n",
    "\n",
    "plt.show()\n",
    "plt.close()"
   ]
  },
  {
   "cell_type": "markdown",
   "metadata": {},
   "source": [
    "## Heatmaps"
   ]
  },
  {
   "cell_type": "code",
   "execution_count": 10,
   "metadata": {},
   "outputs": [
    {
     "name": "stderr",
     "output_type": "stream",
     "text": [
      "/Library/Frameworks/Python.framework/Versions/3.7/lib/python3.7/site-packages/ipykernel_launcher.py:8: SettingWithCopyWarning: \n",
      "A value is trying to be set on a copy of a slice from a DataFrame.\n",
      "Try using .loc[row_indexer,col_indexer] = value instead\n",
      "\n",
      "See the caveats in the documentation: https://pandas.pydata.org/pandas-docs/stable/user_guide/indexing.html#returning-a-view-versus-a-copy\n",
      "  \n",
      "/Library/Frameworks/Python.framework/Versions/3.7/lib/python3.7/site-packages/ipykernel_launcher.py:9: SettingWithCopyWarning: \n",
      "A value is trying to be set on a copy of a slice from a DataFrame.\n",
      "Try using .loc[row_indexer,col_indexer] = value instead\n",
      "\n",
      "See the caveats in the documentation: https://pandas.pydata.org/pandas-docs/stable/user_guide/indexing.html#returning-a-view-versus-a-copy\n",
      "  if __name__ == '__main__':\n"
     ]
    },
    {
     "data": {
      "image/png": "[encoded data removed]",
      "text/plain": [
       "<Figure size 1296x288 with 6 Axes>"
      ]
     },
     "metadata": {
      "needs_background": "light"
     },
     "output_type": "display_data"
    }
   ],
   "source": [
    "fig,ax = plt.subplots(1,3,figsize=(18,4))\n",
    "loc = 0\n",
    "for num in beacon_data['Beacon'].unique():\n",
    "    # Getting dataframe for beacon in correct timeframe\n",
    "    df_beacon = beacon_data[beacon_data['Beacon'] == num]\n",
    "    df_beacon_timeframe = df_beacon[start_time:end_time]\n",
    "    # Getting columns to pivot on\n",
    "    df_beacon_timeframe['Hour'] = df_beacon_timeframe.index.hour\n",
    "    df_beacon_timeframe['Day'] = df_beacon_timeframe.index.date\n",
    "    # pivoting and plotting\n",
    "    df_to_plot = df_beacon_timeframe.pivot_table(index='Day',columns='Hour',values='CO2')\n",
    "    sns.heatmap(df_to_plot,vmin=400,vmax=2500,ax=ax[loc])\n",
    "    ax[loc].set_title(num)\n",
    "    \n",
    "    loc += 1\n",
    "    \n",
    "plt.show()\n",
    "plt.close()"
   ]
  }
 ],
 "metadata": {
  "kernelspec": {
   "display_name": "Python 3",
   "language": "python",
   "name": "python3"
  },
  "language_info": {
   "codemirror_mode": {
    "name": "ipython",
    "version": 3
   },
   "file_extension": ".py",
   "mimetype": "text/x-python",
   "name": "python",
   "nbconvert_exporter": "python",
   "pygments_lexer": "ipython3",
   "version": "3.7.0"
  }
 },
 "nbformat": 4,
 "nbformat_minor": 4
}
