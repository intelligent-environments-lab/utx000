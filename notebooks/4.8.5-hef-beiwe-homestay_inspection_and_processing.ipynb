{
 "cells": [
  {
   "cell_type": "markdown",
   "metadata": {},
   "source": [
    "# Beiwe Homestay Data from GPS Traces\n",
    "Peter provided the homestay data from the GPS traces and this notebook just helps take a look at it and process it for later use."
   ]
  },
  {
   "cell_type": "code",
   "execution_count": 1,
   "metadata": {},
   "outputs": [],
   "source": [
    "import warnings\n",
    "warnings.filterwarnings('ignore')"
   ]
  },
  {
   "cell_type": "markdown",
   "metadata": {},
   "source": [
    "# Package Import"
   ]
  },
  {
   "cell_type": "code",
   "execution_count": 2,
   "metadata": {},
   "outputs": [],
   "source": [
    "import sys\n",
    "import os\n",
    "sys.path.append('../')\n",
    "\n",
    "from src.visualization import visualize\n",
    "\n",
    "import pandas as pd\n",
    "pd.set_option('display.max_columns', 200)\n",
    "import numpy as np\n",
    "\n",
    "from datetime import datetime, timedelta\n",
    "\n",
    "import matplotlib.pyplot as plt\n",
    "import matplotlib.dates as mdates"
   ]
  },
  {
   "cell_type": "markdown",
   "metadata": {},
   "source": [
    "# Data Import\n",
    "We have the files stored in the `interim` directory so we can import them by participant."
   ]
  },
  {
   "cell_type": "code",
   "execution_count": 17,
   "metadata": {},
   "outputs": [],
   "source": [
    "data_dir = \"../\"\n",
    "data = pd.DataFrame()\n",
    "for pt in os.listdir(f\"{data_dir}data/interim/utx000-beiwe-homestay/\"):\n",
    "    temp = pd.read_csv(f\"{data_dir}data/interim/utx000-beiwe-homestay/{pt}\",parse_dates=[\"start\",\"end\"],infer_datetime_format=True)\n",
    "    temp = temp.iloc[:,1:]\n",
    "    temp[\"beiwe\"] = pt.split(\"_\")[1].split(\".\")[0]\n",
    "    data = data.append(temp)"
   ]
  },
  {
   "cell_type": "code",
   "execution_count": 18,
   "metadata": {},
   "outputs": [
    {
     "data": {
      "text/html": [
       "<div>\n",
       "<style scoped>\n",
       "    .dataframe tbody tr th:only-of-type {\n",
       "        vertical-align: middle;\n",
       "    }\n",
       "\n",
       "    .dataframe tbody tr th {\n",
       "        vertical-align: top;\n",
       "    }\n",
       "\n",
       "    .dataframe thead th {\n",
       "        text-align: right;\n",
       "    }\n",
       "</style>\n",
       "<table border=\"1\" class=\"dataframe\">\n",
       "  <thead>\n",
       "    <tr style=\"text-align: right;\">\n",
       "      <th></th>\n",
       "      <th>home.lat</th>\n",
       "      <th>home.long</th>\n",
       "      <th>start</th>\n",
       "      <th>end</th>\n",
       "      <th>nth.stay</th>\n",
       "      <th>beiwe</th>\n",
       "    </tr>\n",
       "  </thead>\n",
       "  <tbody>\n",
       "    <tr>\n",
       "      <th>0</th>\n",
       "      <td>30.290428</td>\n",
       "      <td>-97.750645</td>\n",
       "      <td>2020-07-13 20:30:46</td>\n",
       "      <td>2020-07-14 05:08:52</td>\n",
       "      <td>1</td>\n",
       "      <td>i31pt4b4</td>\n",
       "    </tr>\n",
       "    <tr>\n",
       "      <th>1</th>\n",
       "      <td>30.290428</td>\n",
       "      <td>-97.750645</td>\n",
       "      <td>2020-07-14 05:48:53</td>\n",
       "      <td>2020-07-14 06:40:53</td>\n",
       "      <td>2</td>\n",
       "      <td>i31pt4b4</td>\n",
       "    </tr>\n",
       "    <tr>\n",
       "      <th>2</th>\n",
       "      <td>30.290428</td>\n",
       "      <td>-97.750645</td>\n",
       "      <td>2020-07-14 07:08:57</td>\n",
       "      <td>2020-07-14 07:39:15</td>\n",
       "      <td>3</td>\n",
       "      <td>i31pt4b4</td>\n",
       "    </tr>\n",
       "    <tr>\n",
       "      <th>3</th>\n",
       "      <td>30.290428</td>\n",
       "      <td>-97.750645</td>\n",
       "      <td>2020-07-14 08:14:59</td>\n",
       "      <td>2020-07-14 09:32:53</td>\n",
       "      <td>4</td>\n",
       "      <td>i31pt4b4</td>\n",
       "    </tr>\n",
       "    <tr>\n",
       "      <th>4</th>\n",
       "      <td>30.290428</td>\n",
       "      <td>-97.750645</td>\n",
       "      <td>2020-07-14 20:16:46</td>\n",
       "      <td>2020-07-15 08:36:58</td>\n",
       "      <td>5</td>\n",
       "      <td>i31pt4b4</td>\n",
       "    </tr>\n",
       "  </tbody>\n",
       "</table>\n",
       "</div>"
      ],
      "text/plain": [
       "    home.lat  home.long               start                 end  nth.stay  \\\n",
       "0  30.290428 -97.750645 2020-07-13 20:30:46 2020-07-14 05:08:52         1   \n",
       "1  30.290428 -97.750645 2020-07-14 05:48:53 2020-07-14 06:40:53         2   \n",
       "2  30.290428 -97.750645 2020-07-14 07:08:57 2020-07-14 07:39:15         3   \n",
       "3  30.290428 -97.750645 2020-07-14 08:14:59 2020-07-14 09:32:53         4   \n",
       "4  30.290428 -97.750645 2020-07-14 20:16:46 2020-07-15 08:36:58         5   \n",
       "\n",
       "      beiwe  \n",
       "0  i31pt4b4  \n",
       "1  i31pt4b4  \n",
       "2  i31pt4b4  \n",
       "3  i31pt4b4  \n",
       "4  i31pt4b4  "
      ]
     },
     "execution_count": 18,
     "metadata": {},
     "output_type": "execute_result"
    }
   ],
   "source": [
    "data.head()"
   ]
  },
  {
   "cell_type": "markdown",
   "metadata": {},
   "source": [
    "# Inspection\n",
    "We can look at a few derivatives."
   ]
  },
  {
   "cell_type": "code",
   "execution_count": 26,
   "metadata": {},
   "outputs": [],
   "source": [
    "data[\"t\"] = (data[\"end\"] - data[\"start\"]).dt.total_seconds()"
   ]
  },
  {
   "cell_type": "markdown",
   "metadata": {},
   "source": [
    "## Comparing Lat/Long from Beiwe to Provided Address"
   ]
  },
  {
   "cell_type": "code",
   "execution_count": null,
   "metadata": {},
   "outputs": [],
   "source": []
  },
  {
   "cell_type": "markdown",
   "metadata": {},
   "source": [
    "# Saving"
   ]
  },
  {
   "cell_type": "code",
   "execution_count": 29,
   "metadata": {},
   "outputs": [],
   "source": [
    "data.to_csv(\"../data/processed/beiwe-homestay-ux_s20.csv\")"
   ]
  }
 ],
 "metadata": {
  "kernelspec": {
   "display_name": "Python 3",
   "language": "python",
   "name": "python3"
  },
  "language_info": {
   "codemirror_mode": {
    "name": "ipython",
    "version": 3
   },
   "file_extension": ".py",
   "mimetype": "text/x-python",
   "name": "python",
   "nbconvert_exporter": "python",
   "pygments_lexer": "ipython3",
   "version": "3.8.8"
  },
  "toc": {
   "base_numbering": 1,
   "nav_menu": {},
   "number_sections": false,
   "sideBar": false,
   "skip_h1_title": false,
   "title_cell": "Table of Contents",
   "title_sidebar": "Contents",
   "toc_cell": false,
   "toc_position": {},
   "toc_section_display": false,
   "toc_window_display": false
  }
 },
 "nbformat": 4,
 "nbformat_minor": 4
}
