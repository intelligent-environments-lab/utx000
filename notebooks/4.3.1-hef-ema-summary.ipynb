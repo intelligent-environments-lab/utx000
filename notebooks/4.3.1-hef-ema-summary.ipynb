{
 "cells": [
  {
   "cell_type": "markdown",
   "metadata": {},
   "source": [
    "# Exploring the UTx000 Extension EMA Data\n",
    "(See the [GH repo](https://github.com/intelligent-environments-lab/utx000))"
   ]
  },
  {
   "cell_type": "markdown",
   "metadata": {},
   "source": [
    "# EMA Summary\n",
    "In this notebook we look at the various EMA data with a focus on the sleep data from the morning EMAs."
   ]
  },
  {
   "cell_type": "code",
   "execution_count": 1,
   "metadata": {},
   "outputs": [],
   "source": [
    "import warnings\n",
    "warnings.filterwarnings('ignore')"
   ]
  },
  {
   "cell_type": "markdown",
   "metadata": {},
   "source": [
    "## Package Import"
   ]
  },
  {
   "cell_type": "code",
   "execution_count": 2,
   "metadata": {},
   "outputs": [],
   "source": [
    "import sys\n",
    "sys.path.append('../')\n",
    "\n",
    "from src.features import build_features\n",
    "from src.visualization import visualize\n",
    "from src.reports import make_report\n",
    "\n",
    "import pandas as pd\n",
    "import numpy as np\n",
    "import scipy.stats as st\n",
    "\n",
    "import matplotlib.pyplot as plt\n",
    "import seaborn as sns\n",
    "import matplotlib.dates as mdates\n",
    "from matplotlib import cm\n",
    "from matplotlib.colors import ListedColormap, LinearSegmentedColormap\n",
    "\n",
    "from datetime import datetime, timedelta\n",
    "import math"
   ]
  },
  {
   "cell_type": "markdown",
   "metadata": {},
   "source": [
    "## Data Import"
   ]
  },
  {
   "cell_type": "markdown",
   "metadata": {},
   "source": [
    "### Morning Survey Data"
   ]
  },
  {
   "cell_type": "code",
   "execution_count": 3,
   "metadata": {},
   "outputs": [
    {
     "data": {
      "text/html": [
       "<div>\n",
       "<style scoped>\n",
       "    .dataframe tbody tr th:only-of-type {\n",
       "        vertical-align: middle;\n",
       "    }\n",
       "\n",
       "    .dataframe tbody tr th {\n",
       "        vertical-align: top;\n",
       "    }\n",
       "\n",
       "    .dataframe thead th {\n",
       "        text-align: right;\n",
       "    }\n",
       "</style>\n",
       "<table border=\"1\" class=\"dataframe\">\n",
       "  <thead>\n",
       "    <tr style=\"text-align: right;\">\n",
       "      <th></th>\n",
       "      <th>beiwe</th>\n",
       "      <th>content</th>\n",
       "      <th>stress</th>\n",
       "      <th>lonely</th>\n",
       "      <th>sad</th>\n",
       "      <th>energy</th>\n",
       "      <th>tst</th>\n",
       "      <th>sol</th>\n",
       "      <th>naw</th>\n",
       "      <th>restful</th>\n",
       "    </tr>\n",
       "    <tr>\n",
       "      <th>timestamp</th>\n",
       "      <th></th>\n",
       "      <th></th>\n",
       "      <th></th>\n",
       "      <th></th>\n",
       "      <th></th>\n",
       "      <th></th>\n",
       "      <th></th>\n",
       "      <th></th>\n",
       "      <th></th>\n",
       "      <th></th>\n",
       "    </tr>\n",
       "  </thead>\n",
       "  <tbody>\n",
       "    <tr>\n",
       "      <th>2020-05-13 09:10:27</th>\n",
       "      <td>qh34m4r9</td>\n",
       "      <td>3.0</td>\n",
       "      <td>0.0</td>\n",
       "      <td>0.0</td>\n",
       "      <td>0.0</td>\n",
       "      <td>1.0</td>\n",
       "      <td>8.0</td>\n",
       "      <td>20.0</td>\n",
       "      <td>2.0</td>\n",
       "      <td>3.0</td>\n",
       "    </tr>\n",
       "    <tr>\n",
       "      <th>2020-05-13 09:15:49</th>\n",
       "      <td>awa8uces</td>\n",
       "      <td>0.0</td>\n",
       "      <td>2.0</td>\n",
       "      <td>1.0</td>\n",
       "      <td>1.0</td>\n",
       "      <td>1.0</td>\n",
       "      <td>2.0</td>\n",
       "      <td>10.0</td>\n",
       "      <td>3.0</td>\n",
       "      <td>1.0</td>\n",
       "    </tr>\n",
       "    <tr>\n",
       "      <th>2020-05-13 09:42:19</th>\n",
       "      <td>xxvnhauv</td>\n",
       "      <td>1.0</td>\n",
       "      <td>1.0</td>\n",
       "      <td>1.0</td>\n",
       "      <td>3.0</td>\n",
       "      <td>0.0</td>\n",
       "      <td>6.0</td>\n",
       "      <td>30.0</td>\n",
       "      <td>3.0</td>\n",
       "      <td>1.0</td>\n",
       "    </tr>\n",
       "    <tr>\n",
       "      <th>2020-05-13 09:43:27</th>\n",
       "      <td>rvhdl2la</td>\n",
       "      <td>1.0</td>\n",
       "      <td>1.0</td>\n",
       "      <td>2.0</td>\n",
       "      <td>3.0</td>\n",
       "      <td>0.0</td>\n",
       "      <td>5.3</td>\n",
       "      <td>5.0</td>\n",
       "      <td>2.0</td>\n",
       "      <td>2.0</td>\n",
       "    </tr>\n",
       "    <tr>\n",
       "      <th>2020-05-13 10:11:51</th>\n",
       "      <td>q5y11ytm</td>\n",
       "      <td>3.0</td>\n",
       "      <td>1.0</td>\n",
       "      <td>0.0</td>\n",
       "      <td>1.0</td>\n",
       "      <td>2.0</td>\n",
       "      <td>2.0</td>\n",
       "      <td>10.0</td>\n",
       "      <td>0.0</td>\n",
       "      <td>0.0</td>\n",
       "    </tr>\n",
       "  </tbody>\n",
       "</table>\n",
       "</div>"
      ],
      "text/plain": [
       "                        beiwe  content  stress  lonely  sad  energy  tst  \\\n",
       "timestamp                                                                  \n",
       "2020-05-13 09:10:27  qh34m4r9      3.0     0.0     0.0  0.0     1.0  8.0   \n",
       "2020-05-13 09:15:49  awa8uces      0.0     2.0     1.0  1.0     1.0  2.0   \n",
       "2020-05-13 09:42:19  xxvnhauv      1.0     1.0     1.0  3.0     0.0  6.0   \n",
       "2020-05-13 09:43:27  rvhdl2la      1.0     1.0     2.0  3.0     0.0  5.3   \n",
       "2020-05-13 10:11:51  q5y11ytm      3.0     1.0     0.0  1.0     2.0  2.0   \n",
       "\n",
       "                      sol  naw  restful  \n",
       "timestamp                                \n",
       "2020-05-13 09:10:27  20.0  2.0      3.0  \n",
       "2020-05-13 09:15:49  10.0  3.0      1.0  \n",
       "2020-05-13 09:42:19  30.0  3.0      1.0  \n",
       "2020-05-13 09:43:27   5.0  2.0      2.0  \n",
       "2020-05-13 10:11:51  10.0  0.0      0.0  "
      ]
     },
     "execution_count": 3,
     "metadata": {},
     "output_type": "execute_result"
    }
   ],
   "source": [
    "sleep_survey = pd.read_csv('../data/processed/beiwe-morning_ema-ux_s20.csv',\n",
    "                           index_col=0,parse_dates=True,infer_datetime_format=True)\n",
    "sleep_survey.head()"
   ]
  },
  {
   "cell_type": "markdown",
   "metadata": {},
   "source": [
    "### Evening Survey Data"
   ]
  },
  {
   "cell_type": "code",
   "execution_count": 4,
   "metadata": {},
   "outputs": [
    {
     "data": {
      "text/html": [
       "<div>\n",
       "<style scoped>\n",
       "    .dataframe tbody tr th:only-of-type {\n",
       "        vertical-align: middle;\n",
       "    }\n",
       "\n",
       "    .dataframe tbody tr th {\n",
       "        vertical-align: top;\n",
       "    }\n",
       "\n",
       "    .dataframe thead th {\n",
       "        text-align: right;\n",
       "    }\n",
       "</style>\n",
       "<table border=\"1\" class=\"dataframe\">\n",
       "  <thead>\n",
       "    <tr style=\"text-align: right;\">\n",
       "      <th></th>\n",
       "      <th>beiwe</th>\n",
       "      <th>content</th>\n",
       "      <th>stress</th>\n",
       "      <th>lonely</th>\n",
       "      <th>sad</th>\n",
       "      <th>energy</th>\n",
       "    </tr>\n",
       "    <tr>\n",
       "      <th>timestamp</th>\n",
       "      <th></th>\n",
       "      <th></th>\n",
       "      <th></th>\n",
       "      <th></th>\n",
       "      <th></th>\n",
       "      <th></th>\n",
       "    </tr>\n",
       "  </thead>\n",
       "  <tbody>\n",
       "    <tr>\n",
       "      <th>2020-05-13 19:00:23</th>\n",
       "      <td>awa8uces</td>\n",
       "      <td>1.0</td>\n",
       "      <td>1</td>\n",
       "      <td>1.0</td>\n",
       "      <td>3</td>\n",
       "      <td>2</td>\n",
       "    </tr>\n",
       "    <tr>\n",
       "      <th>2020-05-13 19:21:32</th>\n",
       "      <td>lkkjddam</td>\n",
       "      <td>0.0</td>\n",
       "      <td>2</td>\n",
       "      <td>3.0</td>\n",
       "      <td>1</td>\n",
       "      <td>0</td>\n",
       "    </tr>\n",
       "    <tr>\n",
       "      <th>2020-05-13 19:30:38</th>\n",
       "      <td>rvhdl2la</td>\n",
       "      <td>2.0</td>\n",
       "      <td>1</td>\n",
       "      <td>0.0</td>\n",
       "      <td>0</td>\n",
       "      <td>1</td>\n",
       "    </tr>\n",
       "    <tr>\n",
       "      <th>2020-05-13 20:07:04</th>\n",
       "      <td>xxvnhauv</td>\n",
       "      <td>1.0</td>\n",
       "      <td>3</td>\n",
       "      <td>1.0</td>\n",
       "      <td>2</td>\n",
       "      <td>0</td>\n",
       "    </tr>\n",
       "    <tr>\n",
       "      <th>2020-05-13 20:25:07</th>\n",
       "      <td>xdbdrk6e</td>\n",
       "      <td>2.0</td>\n",
       "      <td>1</td>\n",
       "      <td>2.0</td>\n",
       "      <td>1</td>\n",
       "      <td>3</td>\n",
       "    </tr>\n",
       "  </tbody>\n",
       "</table>\n",
       "</div>"
      ],
      "text/plain": [
       "                        beiwe  content  stress  lonely  sad  energy\n",
       "timestamp                                                          \n",
       "2020-05-13 19:00:23  awa8uces      1.0       1     1.0    3       2\n",
       "2020-05-13 19:21:32  lkkjddam      0.0       2     3.0    1       0\n",
       "2020-05-13 19:30:38  rvhdl2la      2.0       1     0.0    0       1\n",
       "2020-05-13 20:07:04  xxvnhauv      1.0       3     1.0    2       0\n",
       "2020-05-13 20:25:07  xdbdrk6e      2.0       1     2.0    1       3"
      ]
     },
     "execution_count": 4,
     "metadata": {},
     "output_type": "execute_result"
    }
   ],
   "source": [
    "evening_survey = pd.read_csv('../data/processed/beiwe-evening_ema-ux_s20.csv',\n",
    "                             index_col=0,parse_dates=True,infer_datetime_format=True)\n",
    "evening_survey.head()"
   ]
  },
  {
   "cell_type": "markdown",
   "metadata": {},
   "source": [
    "### Weekly Survey Data"
   ]
  },
  {
   "cell_type": "code",
   "execution_count": 5,
   "metadata": {},
   "outputs": [
    {
     "data": {
      "text/html": [
       "<div>\n",
       "<style scoped>\n",
       "    .dataframe tbody tr th:only-of-type {\n",
       "        vertical-align: middle;\n",
       "    }\n",
       "\n",
       "    .dataframe tbody tr th {\n",
       "        vertical-align: top;\n",
       "    }\n",
       "\n",
       "    .dataframe thead th {\n",
       "        text-align: right;\n",
       "    }\n",
       "</style>\n",
       "<table border=\"1\" class=\"dataframe\">\n",
       "  <thead>\n",
       "    <tr style=\"text-align: right;\">\n",
       "      <th></th>\n",
       "      <th>beiwe</th>\n",
       "      <th>upset</th>\n",
       "      <th>unable</th>\n",
       "      <th>stressed</th>\n",
       "      <th>confident</th>\n",
       "      <th>your_way</th>\n",
       "      <th>cope</th>\n",
       "      <th>able</th>\n",
       "      <th>top</th>\n",
       "      <th>angered</th>\n",
       "      <th>overcome</th>\n",
       "    </tr>\n",
       "    <tr>\n",
       "      <th>timestamp</th>\n",
       "      <th></th>\n",
       "      <th></th>\n",
       "      <th></th>\n",
       "      <th></th>\n",
       "      <th></th>\n",
       "      <th></th>\n",
       "      <th></th>\n",
       "      <th></th>\n",
       "      <th></th>\n",
       "      <th></th>\n",
       "      <th></th>\n",
       "    </tr>\n",
       "  </thead>\n",
       "  <tbody>\n",
       "    <tr>\n",
       "      <th>2020-05-14 11:29:37</th>\n",
       "      <td>hcpu5myv</td>\n",
       "      <td>2</td>\n",
       "      <td>2.0</td>\n",
       "      <td>2</td>\n",
       "      <td>2</td>\n",
       "      <td>2.0</td>\n",
       "      <td>1</td>\n",
       "      <td>2</td>\n",
       "      <td>1</td>\n",
       "      <td>1</td>\n",
       "      <td>1</td>\n",
       "    </tr>\n",
       "    <tr>\n",
       "      <th>2020-05-16 06:28:30</th>\n",
       "      <td>shi1ykro</td>\n",
       "      <td>2</td>\n",
       "      <td>0.0</td>\n",
       "      <td>3</td>\n",
       "      <td>3</td>\n",
       "      <td>2.0</td>\n",
       "      <td>0</td>\n",
       "      <td>4</td>\n",
       "      <td>1</td>\n",
       "      <td>0</td>\n",
       "      <td>0</td>\n",
       "    </tr>\n",
       "    <tr>\n",
       "      <th>2020-05-16 06:40:30</th>\n",
       "      <td>9xmhtq74</td>\n",
       "      <td>0</td>\n",
       "      <td>0.0</td>\n",
       "      <td>2</td>\n",
       "      <td>4</td>\n",
       "      <td>4.0</td>\n",
       "      <td>0</td>\n",
       "      <td>3</td>\n",
       "      <td>3</td>\n",
       "      <td>0</td>\n",
       "      <td>0</td>\n",
       "    </tr>\n",
       "    <tr>\n",
       "      <th>2020-05-16 07:38:51</th>\n",
       "      <td>awa8uces</td>\n",
       "      <td>3</td>\n",
       "      <td>3.0</td>\n",
       "      <td>4</td>\n",
       "      <td>2</td>\n",
       "      <td>2.0</td>\n",
       "      <td>3</td>\n",
       "      <td>2</td>\n",
       "      <td>1</td>\n",
       "      <td>1</td>\n",
       "      <td>4</td>\n",
       "    </tr>\n",
       "    <tr>\n",
       "      <th>2020-05-16 07:46:55</th>\n",
       "      <td>rvhdl2la</td>\n",
       "      <td>2</td>\n",
       "      <td>2.0</td>\n",
       "      <td>3</td>\n",
       "      <td>2</td>\n",
       "      <td>2.0</td>\n",
       "      <td>3</td>\n",
       "      <td>1</td>\n",
       "      <td>2</td>\n",
       "      <td>3</td>\n",
       "      <td>2</td>\n",
       "    </tr>\n",
       "  </tbody>\n",
       "</table>\n",
       "</div>"
      ],
      "text/plain": [
       "                        beiwe  upset  unable  stressed  confident  your_way  \\\n",
       "timestamp                                                                     \n",
       "2020-05-14 11:29:37  hcpu5myv      2     2.0         2          2       2.0   \n",
       "2020-05-16 06:28:30  shi1ykro      2     0.0         3          3       2.0   \n",
       "2020-05-16 06:40:30  9xmhtq74      0     0.0         2          4       4.0   \n",
       "2020-05-16 07:38:51  awa8uces      3     3.0         4          2       2.0   \n",
       "2020-05-16 07:46:55  rvhdl2la      2     2.0         3          2       2.0   \n",
       "\n",
       "                     cope  able  top  angered  overcome  \n",
       "timestamp                                                \n",
       "2020-05-14 11:29:37     1     2    1        1         1  \n",
       "2020-05-16 06:28:30     0     4    1        0         0  \n",
       "2020-05-16 06:40:30     0     3    3        0         0  \n",
       "2020-05-16 07:38:51     3     2    1        1         4  \n",
       "2020-05-16 07:46:55     3     1    2        3         2  "
      ]
     },
     "execution_count": 5,
     "metadata": {},
     "output_type": "execute_result"
    }
   ],
   "source": [
    "weekly_survey = pd.read_csv('../data/processed/beiwe-weekly_ema-ux_s20.csv',index_col=0,parse_dates=True)\n",
    "weekly_survey.head()"
   ]
  },
  {
   "cell_type": "markdown",
   "metadata": {},
   "source": [
    "# Survey Data Overview\n",
    "Here we get a sense of the data we are using for the EMAs"
   ]
  },
  {
   "cell_type": "markdown",
   "metadata": {},
   "source": [
    "## Available Data\n",
    "We can take a look at how many submission for a particular questions were made in addition to how many participants submitted at least one answer to that category."
   ]
  },
  {
   "cell_type": "code",
   "execution_count": 6,
   "metadata": {},
   "outputs": [
    {
     "name": "stdout",
     "output_type": "stream",
     "text": [
      "Working for Morning EMAs\n",
      "\t2014\tcontent\t50 participants\n",
      "\t2014\tstress\t50 participants\n",
      "\t2013\tlonely\t50 participants\n",
      "\t2014\tsad\t50 participants\n",
      "\t2014\tenergy\t50 participants\n",
      "\t2003\ttst\t50 participants\n",
      "\t2014\tsol\t50 participants\n",
      "\t2013\tnaw\t50 participants\n",
      "\t2014\trestful\t50 participants\n",
      "Working for Evening EMAs\n",
      "\t1974\tcontent\t50 participants\n",
      "\t1991\tstress\t50 participants\n",
      "\t1990\tlonely\t50 participants\n",
      "\t1991\tsad\t50 participants\n",
      "\t1991\tenergy\t50 participants\n",
      "Working for Weekly EMAs\n",
      "\t616\tupset\t50 participants\n",
      "\t614\tunable\t50 participants\n",
      "\t616\tstressed\t50 participants\n",
      "\t616\tconfident\t50 participants\n",
      "\t615\tyour_way\t50 participants\n",
      "\t616\tcope\t50 participants\n",
      "\t616\table\t50 participants\n",
      "\t616\ttop\t50 participants\n",
      "\t616\tangered\t50 participants\n",
      "\t616\tovercome\t50 participants\n"
     ]
    }
   ],
   "source": [
    "for df, survey_type in zip([sleep_survey,evening_survey,weekly_survey],[\"Morning\",\"Evening\",\"Weekly\"]):\n",
    "    print(f\"Working for {survey_type} EMAs\")\n",
    "    for col in df.columns:\n",
    "        if col not in [\"beiwe\",\"DoW\"]:\n",
    "            temp = df[[\"beiwe\",col]]\n",
    "            temp.dropna(subset=[col],inplace=True)\n",
    "            n_responses = len(temp)\n",
    "            n_pts = len(temp[\"beiwe\"].unique())\n",
    "            print(f\"\\t{n_responses}\\t{col}\\t{n_pts} participants\")"
   ]
  },
  {
   "cell_type": "markdown",
   "metadata": {},
   "source": [
    "## Submission\n",
    "Various aspects related to the participants' submissions are summarized below"
   ]
  },
  {
   "cell_type": "markdown",
   "metadata": {},
   "source": [
    "### Time Frame"
   ]
  },
  {
   "cell_type": "markdown",
   "metadata": {},
   "source": [
    "It is important to note that the survey period has been restricted from datetime(2020,5,13) to datetime(2020,9,1) since the corrected surveys were sent out on May 13th and the first appointment to return devices was on September 1st. We can check that assumption here by checking the earliest and latest date:"
   ]
  },
  {
   "cell_type": "code",
   "execution_count": 7,
   "metadata": {},
   "outputs": [
    {
     "name": "stdout",
     "output_type": "stream",
     "text": [
      "Earliest Submission: 2020-05-13 09:10:27\n",
      "Last Submission 2020-09-01 21:45:26\n"
     ]
    }
   ],
   "source": [
    "temp = sleep_survey.sort_index()\n",
    "print(\"Earliest Submission:\", temp.index[0])\n",
    "print(\"Last Submission\", temp.index[-1])"
   ]
  },
  {
   "cell_type": "markdown",
   "metadata": {},
   "source": [
    "<div class=\"alert alert-block alert-success\">\n",
    "    Submission dates match the study window\n",
    "</div>"
   ]
  },
  {
   "cell_type": "markdown",
   "metadata": {},
   "source": [
    "### Possible Submissions\n",
    "Based on the time frame of EMA submission, we can determine the maximum amount of surveys that might have been submitted by counting the weekdays that those EMAs were sent out on."
   ]
  },
  {
   "cell_type": "code",
   "execution_count": 8,
   "metadata": {},
   "outputs": [
    {
     "name": "stdout",
     "output_type": "stream",
     "text": [
      "Maximum \"Daily\" Surveys: 65\n",
      "Maximum Weekly Surveys: 16\n"
     ]
    }
   ],
   "source": [
    "first_date = datetime(2020,5,13) # beiwe surveys were fixed this day\n",
    "end_date = datetime(2020,9,3) # this was the first sampling appointment - some pts might have turned off beiwe\n",
    "maxDailySurveys = np.busday_count(first_date.date(), end_date.date(), weekmask='Mon Wed Fri Sun')\n",
    "print(f'Maximum \\\"Daily\\\" Surveys: {maxDailySurveys}')\n",
    "maxWeeklySurveys = np.busday_count(first_date.date(), end_date.date(), weekmask='Sat')\n",
    "print(f'Maximum Weekly Surveys: {maxWeeklySurveys}')"
   ]
  },
  {
   "cell_type": "code",
   "execution_count": 9,
   "metadata": {},
   "outputs": [],
   "source": [
    "def get_number_surveys_submitted(df):\n",
    "    \"\"\"\n",
    "    Gets the number of submissions per participant\n",
    "    \"\"\"\n",
    "    df.sort_values(\"beiwe\",inplace=True)\n",
    "    temp_dict = {\"beiwe\":[],\"n\":[]}\n",
    "    new_df = pd.DataFrame()\n",
    "    for pt in df['beiwe'].unique():\n",
    "        survey_by_pt = df[df['beiwe'] == pt]\n",
    "        # adding to original df\n",
    "        survey_by_pt[\"n\"] = len(survey_by_pt)\n",
    "        new_df = new_df.append(survey_by_pt)\n",
    "        # adding to new dictionary\n",
    "        temp_dict[\"beiwe\"].append(pt)\n",
    "        temp_dict[\"n\"].append(len(survey_by_pt))\n",
    "\n",
    "    return new_df.sort_values(\"n\",ascending=False), pd.DataFrame(temp_dict).sort_values(\"n\",ascending=False)"
   ]
  },
  {
   "cell_type": "markdown",
   "metadata": {},
   "source": [
    "Knowing these are the maximum possible submissions, now we can look at the total number of morning and evening survyes that were submitted by each participant."
   ]
  },
  {
   "cell_type": "code",
   "execution_count": 14,
   "metadata": {},
   "outputs": [],
   "source": [
    "def plot_total_submissions(morning=sleep_survey, evening=evening_survey, max_daily_surveys=maxDailySurveys, save=False):\n",
    "    \"\"\"\n",
    "    Plots the number of surveys submitted for morning and evening\n",
    "    \"\"\"\n",
    "    fig, ax = plt.subplots(figsize=(16,5))\n",
    "    temp_dict = {\"beiwe\":[],\"orange\":[],\"black\":[]}\n",
    "    morning.sort_values(\"beiwe\",inplace=True)\n",
    "    evening.sort_values(\"beiwe\",inplace=True)\n",
    "    for df, color, size in zip([morning,evening],['orange','black'],[100,50]):\n",
    "        # Looping through beacon participants only\n",
    "        for beiwe in df['beiwe'].unique():\n",
    "            survey_by_beiwe = df[df['beiwe'] == beiwe]\n",
    "            temp_dict[color].append(len(survey_by_beiwe))\n",
    "\n",
    "    temp_dict[\"beiwe\"] = morning[\"beiwe\"].unique()\n",
    "    df_to_plot = pd.DataFrame(temp_dict)\n",
    "    df_to_plot.sort_values(\"orange\",inplace=True)\n",
    "    df_to_plot.set_index(\"beiwe\",inplace=True)\n",
    "    for color, size, label in zip(df_to_plot.columns,[100,50],[\"Morning\",\"Evening\"]):\n",
    "        # scattering number of surveys submitted per participant\n",
    "        ax.scatter(df_to_plot.index,df_to_plot[color]/max_daily_surveys*100,s=size,color=color,label=label)\n",
    "        \n",
    "    # Average Line\n",
    "    ax.axhline(np.nanmean(df_to_plot[\"black\"]),color=\"black\",linewidth=2,linestyle=\"dashed\")\n",
    "    ax.axhline(np.nanmean(df_to_plot[\"orange\"]),color=\"orange\",linewidth=2,linestyle=\"dashed\")\n",
    "\n",
    "    ax.set_yticks(np.arange(0,110,10))\n",
    "    plt.setp(ax.get_xticklabels(), ha=\"left\", rotation=-35)\n",
    "    ax.legend(frameon=False)\n",
    "    for loc in [\"top\",\"right\"]:\n",
    "        ax.spines[loc].set_visible(False)\n",
    "    ax.set_ylabel(\"Percent of Possible Surveys Submitted\")\n",
    "    if save:\n",
    "        plt.savefig('../reports/figures/ema_summary/beiwe-number_weekly_surveys_ordered-ux_s20.pdf')\n",
    "    plt.show()\n",
    "    plt.close()"
   ]
  },
  {
   "cell_type": "code",
   "execution_count": 15,
   "metadata": {},
   "outputs": [
    {
     "data": {
      "image/png": "[encoded data removed]",
      "text/plain": [
       "<Figure size 1152x360 with 1 Axes>"
      ]
     },
     "metadata": {
      "needs_background": "light"
     },
     "output_type": "display_data"
    }
   ],
   "source": [
    "test = plot_total_submissions(save=True)"
   ]
  },
  {
   "cell_type": "markdown",
   "metadata": {},
   "source": [
    "<div class=\"alert alert-block alert-info\">\n",
    "    <b>Possible Submissions</b><br> There are two participants who managed to turn in all possible morning surveys for the and one of those participants also turned in all evening surveys. The average line for the morning and evening submission averages are given and are nearly identical.\n",
    "</div>"
   ]
  },
  {
   "cell_type": "markdown",
   "metadata": {},
   "source": [
    "### Submissions Over Time\n",
    "Here we look at the fallout and see how participation wanes during the study."
   ]
  },
  {
   "cell_type": "code",
   "execution_count": 16,
   "metadata": {},
   "outputs": [],
   "source": [
    "def plot_submission_timeline(morning=sleep_survey, evening=evening_survey, save=False):\n",
    "    \"\"\"\n",
    "    \n",
    "    \"\"\"\n",
    "    fig, ax = plt.subplots(figsize=(16,5))\n",
    "    for df, color, size, label in zip([sleep_survey,evening_survey],[\"orange\",\"black\"],[100,50],[\"Morning\",\"Evening\"]):\n",
    "        df[\"date\"] = df.index.date\n",
    "        WoY = []\n",
    "        for d in df[\"date\"]:\n",
    "            WoY.append(d.isocalendar()[1])\n",
    "        df[\"WoY\"] = WoY\n",
    "        counts_by_date = df.groupby(\"WoY\").count()\n",
    "        ax.scatter(counts_by_date.index,counts_by_date[\"beiwe\"],color=color,s=size,label=label,zorder=2)\n",
    "\n",
    "    ax.legend(frameon=False)\n",
    "    for loc in [\"top\",\"right\"]:\n",
    "        ax.spines[loc].set_visible(False)\n",
    "\n",
    "    # x-axis\n",
    "    ax.set_xticks(counts_by_date.index)\n",
    "    ax.set_xticklabels(np.arange(1,len(counts_by_date)+1))\n",
    "    ax.set_xlabel(\"Week of Study\")\n",
    "\n",
    "    # y-axis\n",
    "    ax.set_ylabel(\"Number of Surveys Submitted\")\n",
    "    ax.set_yticks(np.arange(0,165,15))\n",
    "    ax.set_ylim([0,150])\n",
    "    if save:\n",
    "        plt.savefig(\"../reports/figures/ema_summary/beiwe-submission_timeline_by_week-ux_s20.pdf\")\n",
    "    plt.show()\n",
    "    plt.close()"
   ]
  },
  {
   "cell_type": "code",
   "execution_count": 17,
   "metadata": {},
   "outputs": [
    {
     "data": {
      "image/png": "[encoded data removed]",
      "text/plain": [
       "<Figure size 1152x360 with 1 Axes>"
      ]
     },
     "metadata": {
      "needs_background": "light"
     },
     "output_type": "display_data"
    }
   ],
   "source": [
    "plot_submission_timeline(save=True)"
   ]
  },
  {
   "cell_type": "markdown",
   "metadata": {},
   "source": [
    "<div class=\"alert alert-block alert-info\">\n",
    "    <b>Submission Timeline</b><br> As the study progresses, the number of surveys does seem to diminish slightly. \n",
    "</div>"
   ]
  },
  {
   "cell_type": "markdown",
   "metadata": {},
   "source": [
    "### Submission Timestamps\n",
    "Here we look at the actual timestamps that the surveys were submitted for both the morning and evening surveys."
   ]
  },
  {
   "cell_type": "code",
   "execution_count": 18,
   "metadata": {},
   "outputs": [],
   "source": [
    "def plot_submission_timestamp_strips(morning=sleep_survey, evening=evening_survey, save=False):\n",
    "    \"\"\"\n",
    "    \n",
    "    \"\"\"\n",
    "    morning[\"Survey\"] = \"Morning\"\n",
    "    evening[\"Survey\"] = \"Evening\"\n",
    "    daily_survey = morning.append(evening)\n",
    "    daily_survey[\"hour\"] = daily_survey.index.hour + daily_survey.index.minute/60\n",
    "    fig, ax = plt.subplots(figsize=(6,6))\n",
    "    sns.stripplot(x=daily_survey[\"Survey\"],y=daily_survey[\"hour\"], alpha=0.1,jitter=0.15,palette=[\"black\",\"black\"],ax=ax,zorder=3)\n",
    "    for loc in [\"top\",\"right\"]:\n",
    "        ax.spines[loc].set_visible(False)\n",
    "\n",
    "    ax.set_ylim([-0.5,24.5])\n",
    "    ax.set_yticks(np.arange(0,28,4))\n",
    "    ax.set_ylabel(\"Hour of Day\")\n",
    "\n",
    "    ax.axhline(9,zorder=2,linestyle=\"dashed\",color=\"cornflowerblue\",alpha=0.5)\n",
    "    ax.axhline(19,zorder=1,linestyle=\"dashed\",color=\"cornflowerblue\",alpha=0.5)\n",
    "    \n",
    "    if save:\n",
    "        plt.savefig(\"../reports/figures/ema_summary/beiwe-submission_timestamp-stripplot-ux_s20.pdf\")\n",
    "    plt.show()\n",
    "    plt.close()"
   ]
  },
  {
   "cell_type": "code",
   "execution_count": 19,
   "metadata": {},
   "outputs": [
    {
     "data": {
      "image/png": "[encoded data removed]",
      "text/plain": [
       "<Figure size 432x432 with 1 Axes>"
      ]
     },
     "metadata": {
      "needs_background": "light"
     },
     "output_type": "display_data"
    }
   ],
   "source": [
    "plot_submission_timestamp_strips(save=True)"
   ]
  },
  {
   "cell_type": "markdown",
   "metadata": {},
   "source": [
    "<div class=\"alert alert-block alert-info\">\n",
    "    <b>Submission Timestamps Stripplot</b><br> Looks like the majority of students submitted the corresponding survey at the time it was sent out (9:00 for morning, 19:00 for evening). There is also a small, but noticeable increase in the morning survey submissions at 19:00 corresponding to the evening surveys.\n",
    "</div>"
   ]
  },
  {
   "cell_type": "code",
   "execution_count": 20,
   "metadata": {},
   "outputs": [],
   "source": [
    "def plot_submission_timestamp_histogram(morning=sleep_survey, evening=evening_survey, save=False):\n",
    "    \"\"\"\n",
    "    \n",
    "    \"\"\"\n",
    "    fig, axes = plt.subplots(1,2,figsize=(16,4),sharey=\"row\")\n",
    "    for df, ax, survey_type in zip([morning,evening], axes.flat, [\"Morning\", \"Evening\"]):\n",
    "        df[\"hour\"] = df.index.hour + df.index.minute/60\n",
    "        n,bins,patches = ax.hist(df[\"hour\"],bins=np.arange(0,25,1),rwidth=0.9,color=\"cornflowerblue\",edgecolor=\"black\",)\n",
    "        ax.set_xticks(np.arange(0,25,2))\n",
    "\n",
    "        for loc in [\"top\",\"right\"]:\n",
    "            ax.spines[loc].set_visible(False)\n",
    "\n",
    "        ax.set_xlabel(survey_type)\n",
    "        ax.set_ylabel(\"Count\")\n",
    "        \n",
    "    plt.subplots_adjust(wspace=0.05)\n",
    "    if save:\n",
    "        plt.savefig(\"../reports/figures/ema_summary/beiwe-submission_timestamp-histogram-ux_s20.pdf\")\n",
    "    plt.show()\n",
    "    plt.close()"
   ]
  },
  {
   "cell_type": "code",
   "execution_count": 21,
   "metadata": {},
   "outputs": [
    {
     "data": {
      "image/png": "[encoded data removed]",
      "text/plain": [
       "<Figure size 1152x288 with 2 Axes>"
      ]
     },
     "metadata": {
      "needs_background": "light"
     },
     "output_type": "display_data"
    }
   ],
   "source": [
    "plot_submission_timestamp_histogram(save=True)"
   ]
  },
  {
   "cell_type": "markdown",
   "metadata": {},
   "source": [
    "<div class=\"alert alert-block alert-info\">\n",
    "    <b>Submission Timestamps Histogram</b><br> Similar outcomes to the above figure\n",
    "</div>"
   ]
  },
  {
   "cell_type": "markdown",
   "metadata": {},
   "source": [
    "# Mood\n",
    "We take a look at the mood data from the morning and evening surveys. The moods measured on these surveys are:\n",
    "- content\n",
    "- loneliness\n",
    "- sadness\n",
    "- stress\n",
    "- energy level"
   ]
  },
  {
   "cell_type": "markdown",
   "metadata": {},
   "source": [
    "## Summary\n",
    "Starting with summarizing the data similar to the basics summarized above. "
   ]
  },
  {
   "cell_type": "markdown",
   "metadata": {},
   "source": [
    "### Aggregate Histogram"
   ]
  },
  {
   "cell_type": "code",
   "execution_count": 22,
   "metadata": {},
   "outputs": [],
   "source": [
    "def label_hist(n, bins, ax):\n",
    "    '''\n",
    "    Labels the histogram with values above the bars\n",
    "    \n",
    "    Inputs:\n",
    "    - n: the counts for each bin\n",
    "    - bins: the actual bins limits\n",
    "    \n",
    "    Returns void\n",
    "    '''\n",
    "    k = []\n",
    "    # calculate the relative frequency of each bin\n",
    "    for i in range(0,len(n)):\n",
    "        k.append(round((bins[i+1]-bins[i])*n[i],0))\n",
    "\n",
    "    # plot the label/text to each bin\n",
    "    for i in range(0, len(n)):\n",
    "        x_pos = bins[i] + (bins[i+1] - bins[i]) / 2\n",
    "        y_pos = n[i]\n",
    "        label = str(k[i])[:-2] # relative frequency of each bin\n",
    "        ax.text(x_pos, y_pos, label, ha='center', va='bottom')"
   ]
  },
  {
   "cell_type": "code",
   "execution_count": 23,
   "metadata": {
    "scrolled": false
   },
   "outputs": [],
   "source": [
    "def plot_mood_comparison_histogram(save=False):\n",
    "    \"\"\"\n",
    "    Plots side-by-side histogram comparisions of the mood reportings for the morning and evening surveys. \n",
    "    \"\"\"\n",
    "    fig, axes = plt.subplots(5,2,figsize=(16,14),sharey='row')\n",
    "    c = 0\n",
    "    for df in [sleep_survey,evening_survey]:\n",
    "        r = 0\n",
    "        for question, color in zip(['content','stress','lonely','sad','energy'],['goldenrod','firebrick','violet','cornflowerblue','seagreen']):\n",
    "            ax = axes[r,c]\n",
    "            n,bins,patches = ax.hist(df[question],bins=[-0.5,0.5,1.5,2.5,3.5,4.5],rwidth=0.9,color=color,edgecolor=\"black\")\n",
    "            ax.set_xlabel(question)\n",
    "            if c == 0:\n",
    "                ax.set_ylabel('Frequency')\n",
    "            ax.set_ylim([0,1500])\n",
    "\n",
    "            ax.text(3.5,1000,f'n: {len(df[question])}')\n",
    "            ax.text(3.5,800,f'Median: {np.nanmedian(df[question])}')\n",
    "\n",
    "            label_hist(n, bins, ax)\n",
    "            for loc in [\"top\",\"right\"]:\n",
    "                ax.spines[loc].set_visible(False)\n",
    "\n",
    "            r += 1\n",
    "\n",
    "        c += 1\n",
    "        \n",
    "\n",
    "    plt.subplots_adjust(wspace=0,hspace=0.35)\n",
    "    if save:\n",
    "        plt.savefig(\"../reports/figures/ema_summary/beiwe-all_moods-histogram-ux_s20.pdf\")\n",
    "    plt.show()\n",
    "    plt.close()"
   ]
  },
  {
   "cell_type": "code",
   "execution_count": 24,
   "metadata": {},
   "outputs": [
    {
     "data": {
      "image/png": "[encoded data removed]",
      "text/plain": [
       "<Figure size 1152x1008 with 10 Axes>"
      ]
     },
     "metadata": {
      "needs_background": "light"
     },
     "output_type": "display_data"
    }
   ],
   "source": [
    "plot_mood_comparison_histogram(save=True)"
   ]
  },
  {
   "cell_type": "markdown",
   "metadata": {},
   "source": [
    "# Sleep\n",
    "Sleep portions of the survey includes:\n",
    "- TST: total sleep time\n",
    "- SOL: sleep onset latency\n",
    "- NAW: number of awakenings\n",
    "- Restful: Likert scale 0-3"
   ]
  },
  {
   "cell_type": "markdown",
   "metadata": {},
   "source": [
    "## Summary\n",
    "The following cells look at summarizing the results from the EMA surveys used to ask about sleep (distributed at 9:00 am every morning)."
   ]
  },
  {
   "cell_type": "markdown",
   "metadata": {},
   "source": [
    "### Aggregate Histogram\n",
    "Combining all participants across all question types"
   ]
  },
  {
   "cell_type": "code",
   "execution_count": 25,
   "metadata": {
    "scrolled": false
   },
   "outputs": [],
   "source": [
    "def plot_sleep_histogram(morning=sleep_survey,save=False):\n",
    "    \"\"\"\n",
    "    \n",
    "    \"\"\"\n",
    "    questions = ['tst','sol','naw','restful']\n",
    "    xlabels = [\"hours\",\"minutes\",\"count\",\"score\"]\n",
    "    bin_list = [np.arange(0,15,1),\n",
    "               np.arange(0,120,10),\n",
    "               np.arange(-0.5,11.5,1),\n",
    "               [-0.5,0.5,1.5,2.5,3.5,4.5]]\n",
    "\n",
    "    fig, axes = plt.subplots(1,4,figsize=(24,4),sharey=\"row\")\n",
    "    for question, bins, ax, xlabel in zip(questions, bin_list, axes.flat, xlabels):\n",
    "        n,bins,patches = ax.hist(morning[question],bins=bins,color=\"cornflowerblue\",edgecolor=\"black\", rwidth=0.9,align='mid')\n",
    "        ax.set_xlabel(xlabel)\n",
    "        ax.set_ylabel('Frequency')\n",
    "        ax.set_ylim([0,1000])\n",
    "\n",
    "        ax.set_title(f'Median Response for {question}: {np.nanmedian(morning[question])}')\n",
    "\n",
    "        label_hist(n, bins, ax)\n",
    "        for loc in [\"top\",\"right\"]:\n",
    "            ax.spines[loc].set_visible(False)\n",
    "\n",
    "    plt.subplots_adjust(wspace=0.05)\n",
    "    if save:\n",
    "        plt.savefig(\"../reports/figures/ema_summary/beiwe-sleep_metrics-histogram-ux_s20.pdf\")\n",
    "    plt.show()\n",
    "    plt.close()"
   ]
  },
  {
   "cell_type": "code",
   "execution_count": 26,
   "metadata": {},
   "outputs": [
    {
     "data": {
      "image/png": "[encoded data removed]",
      "text/plain": [
       "<Figure size 1728x288 with 4 Axes>"
      ]
     },
     "metadata": {
      "needs_background": "light"
     },
     "output_type": "display_data"
    }
   ],
   "source": [
    "plot_sleep_histogram(save=True)"
   ]
  },
  {
   "cell_type": "markdown",
   "metadata": {},
   "source": [
    "### Individual Histograms\n",
    "A subplot of all participants with the bottom row corresponding to the aggregate."
   ]
  },
  {
   "cell_type": "markdown",
   "metadata": {},
   "source": [
    "<div class=\"alert alert-block alert-danger\">\n",
    "    A plot with 51x4 subplots seems a bit excessive to try\n",
    "</div>"
   ]
  },
  {
   "cell_type": "markdown",
   "metadata": {},
   "source": [
    "### Differences in the Day of the Week\n",
    "Sleep metrics might vary by the day of the week, most notably the weekends."
   ]
  },
  {
   "cell_type": "code",
   "execution_count": 27,
   "metadata": {
    "scrolled": true
   },
   "outputs": [],
   "source": [
    "def plot_sleep_metrics_by_day(morning=sleep_survey, save=False):\n",
    "    \"\"\"\n",
    "    Plots the mean sleep metric for the day of the week with error bars\n",
    "    \"\"\"\n",
    "    # grouping by night sleep (survey date - 1 day)\n",
    "    morning['DoW'] = (morning.index - timedelta(days=1)).strftime('%a')\n",
    "    # all participants\n",
    "    sleep_survey_dow = morning.groupby(['DoW']).mean()\n",
    "    sleep_survey_dow = sleep_survey_dow.reindex([\"Mon\", \"Tue\", \"Wed\",\"Thu\",\"Fri\",\"Sat\",'Sun'])\n",
    "    # looping through both dataframes\n",
    "    fig, axes = plt.subplots(4,1,figsize=(12,10),sharex=True)\n",
    "    limits = [[5,9],[10,30],[0,3],[0,3]]\n",
    "    for question, limit, ylabel, ax in zip(['tst','sol','naw','restful'],limits,['Hours','Minutes','Number','Score'],axes.flat):\n",
    "\n",
    "        sleep_survey_dow_plot = sleep_survey_dow[sleep_survey_dow[question] >= 0]\n",
    "        # Scattering for day of week\n",
    "        ax.scatter(sleep_survey_dow_plot.index,sleep_survey_dow_plot[question],s=50,color='black',zorder=10)\n",
    "        ax.set_title(question.upper())\n",
    "        ax.set_ylim(limit)\n",
    "        ax.set_ylabel(ylabel)\n",
    "\n",
    "        # Adding 95% CI\n",
    "        for day in sleep_survey['DoW'].unique():\n",
    "            sleep_survey_by_day = sleep_survey[sleep_survey['DoW'] == day]\n",
    "            sleep_survey_by_day = sleep_survey_by_day[sleep_survey_by_day[question] >= 0]\n",
    "            ci = st.t.interval(0.95, len(sleep_survey_by_day[question])-1,\n",
    "                          loc=np.mean(sleep_survey_by_day[question]),\n",
    "                          scale=st.sem(sleep_survey_by_day[question]))\n",
    "\n",
    "            ax.plot([day,day],ci,color='red',zorder=1) \n",
    "            # adding number of surveys on top figure\n",
    "            if question == 'tst':\n",
    "                ax.text('Mon',8,'n:   ',ha='right')\n",
    "                ax.text(day,8,len(sleep_survey_by_day))\n",
    "                \n",
    "        for loc in [\"top\",\"right\"]:\n",
    "            ax.spines[loc].set_visible(False)\n",
    "\n",
    "    plt.subplots_adjust(wspace=0,hspace=0.2)\n",
    "    if save:\n",
    "        plt.savefig(\"../reports/figures/ema_summary/beiwe-sleep_metrics_by_day-scatter-ux_s20.pdf\")\n",
    "    plt.show()\n",
    "    plt.close()"
   ]
  },
  {
   "cell_type": "code",
   "execution_count": 28,
   "metadata": {},
   "outputs": [
    {
     "data": {
      "image/png": "[encoded data removed]",
      "text/plain": [
       "<Figure size 864x720 with 4 Axes>"
      ]
     },
     "metadata": {
      "needs_background": "light"
     },
     "output_type": "display_data"
    }
   ],
   "source": [
    "plot_sleep_metrics_by_day(save=True)"
   ]
  },
  {
   "cell_type": "markdown",
   "metadata": {},
   "source": [
    "# Analysis on Fully Filtered Dataset\n",
    "In the following cells, we only consider the data from the fully filtered dataset - that is data from nights when we have GPS confirming pts are home, Fitbit data confirming pts are asleep, and beacon data from their environment."
   ]
  },
  {
   "cell_type": "markdown",
   "metadata": {},
   "source": [
    "## Pre-Processing\n",
    "We have the nights we need to consider, so first we have to filter the overall EMA dataframe by the nights present in the fully filtered beacon data."
   ]
  },
  {
   "cell_type": "code",
   "execution_count": 29,
   "metadata": {},
   "outputs": [],
   "source": [
    "ff_df = pd.read_csv('../data/processed/beacon-fb_ema_and_gps_filtered-ux_s20.csv',\n",
    "                                 index_col=\"timestamp\", parse_dates=[\"timestamp\",\"start_time\",\"end_time\"], infer_datetime_format=True)"
   ]
  },
  {
   "cell_type": "markdown",
   "metadata": {},
   "source": [
    "Adding date columns to eventually merge on"
   ]
  },
  {
   "cell_type": "code",
   "execution_count": 30,
   "metadata": {},
   "outputs": [],
   "source": [
    "ff_df['date'] = ff_df['end_time'].dt.date\n",
    "sleep_survey['date'] = sleep_survey.index.date"
   ]
  },
  {
   "cell_type": "markdown",
   "metadata": {},
   "source": [
    "Merging the two dataframes to get the correct number of nights."
   ]
  },
  {
   "cell_type": "code",
   "execution_count": 31,
   "metadata": {},
   "outputs": [
    {
     "name": "stdout",
     "output_type": "stream",
     "text": [
      "Number of nights with EMAs completed: 160\n",
      "Number of participants: 16\n"
     ]
    }
   ],
   "source": [
    "ff_sleep_survey_df = pd.DataFrame() # dataframe to hold the relevant sleep EMAs\n",
    "# looping through fully filtered data and merging dataframes on common start times\n",
    "for pt in ff_df['beiwe'].unique():\n",
    "    ff_sleep_pt = sleep_survey[sleep_survey['beiwe'] == pt]\n",
    "    ff_pt = ff_df[ff_df['beiwe'] == pt]\n",
    "    ff_pt_summary = ff_pt.groupby('date').mean()\n",
    "    \n",
    "    ff_sleep_survey_df = ff_sleep_survey_df.append(pd.merge(left=ff_sleep_pt,right=ff_pt_summary,left_on='date',right_on='date',how='inner'))\n",
    "\n",
    "print('Number of nights with EMAs completed:', len(ff_sleep_survey_df))\n",
    "print(\"Number of participants:\",len(ff_sleep_survey_df[\"beiwe\"].unique()))"
   ]
  },
  {
   "cell_type": "code",
   "execution_count": 32,
   "metadata": {},
   "outputs": [
    {
     "data": {
      "text/html": [
       "<div>\n",
       "<style scoped>\n",
       "    .dataframe tbody tr th:only-of-type {\n",
       "        vertical-align: middle;\n",
       "    }\n",
       "\n",
       "    .dataframe tbody tr th {\n",
       "        vertical-align: top;\n",
       "    }\n",
       "\n",
       "    .dataframe thead th {\n",
       "        text-align: right;\n",
       "    }\n",
       "</style>\n",
       "<table border=\"1\" class=\"dataframe\">\n",
       "  <thead>\n",
       "    <tr style=\"text-align: right;\">\n",
       "      <th></th>\n",
       "      <th>beiwe</th>\n",
       "      <th>content</th>\n",
       "      <th>stress</th>\n",
       "      <th>lonely</th>\n",
       "      <th>sad</th>\n",
       "      <th>energy</th>\n",
       "      <th>tst</th>\n",
       "      <th>sol</th>\n",
       "      <th>naw</th>\n",
       "      <th>restful</th>\n",
       "      <th>...</th>\n",
       "      <th>pm2p5_number</th>\n",
       "      <th>pm10_number</th>\n",
       "      <th>pm1_mass</th>\n",
       "      <th>pm2p5_mass</th>\n",
       "      <th>pm10_mass</th>\n",
       "      <th>temperature_c</th>\n",
       "      <th>rh</th>\n",
       "      <th>beacon</th>\n",
       "      <th>fitbit</th>\n",
       "      <th>redcap</th>\n",
       "    </tr>\n",
       "  </thead>\n",
       "  <tbody>\n",
       "    <tr>\n",
       "      <th>0</th>\n",
       "      <td>lkkjddam</td>\n",
       "      <td>2.0</td>\n",
       "      <td>3.0</td>\n",
       "      <td>0.0</td>\n",
       "      <td>0.0</td>\n",
       "      <td>2.0</td>\n",
       "      <td>8.0</td>\n",
       "      <td>10.0</td>\n",
       "      <td>3.0</td>\n",
       "      <td>2.0</td>\n",
       "      <td>...</td>\n",
       "      <td>15.485342</td>\n",
       "      <td>16.517596</td>\n",
       "      <td>1.979420</td>\n",
       "      <td>6.900948</td>\n",
       "      <td>11.570201</td>\n",
       "      <td>24.000000</td>\n",
       "      <td>33.194773</td>\n",
       "      <td>21</td>\n",
       "      <td>25</td>\n",
       "      <td>12</td>\n",
       "    </tr>\n",
       "    <tr>\n",
       "      <th>1</th>\n",
       "      <td>lkkjddam</td>\n",
       "      <td>2.0</td>\n",
       "      <td>1.0</td>\n",
       "      <td>1.0</td>\n",
       "      <td>1.0</td>\n",
       "      <td>2.0</td>\n",
       "      <td>8.0</td>\n",
       "      <td>15.0</td>\n",
       "      <td>3.0</td>\n",
       "      <td>2.0</td>\n",
       "      <td>...</td>\n",
       "      <td>16.289839</td>\n",
       "      <td>17.374364</td>\n",
       "      <td>2.082203</td>\n",
       "      <td>7.253055</td>\n",
       "      <td>12.158711</td>\n",
       "      <td>26.374000</td>\n",
       "      <td>33.596833</td>\n",
       "      <td>21</td>\n",
       "      <td>25</td>\n",
       "      <td>12</td>\n",
       "    </tr>\n",
       "    <tr>\n",
       "      <th>2</th>\n",
       "      <td>lkkjddam</td>\n",
       "      <td>1.0</td>\n",
       "      <td>2.0</td>\n",
       "      <td>1.0</td>\n",
       "      <td>1.0</td>\n",
       "      <td>1.0</td>\n",
       "      <td>6.0</td>\n",
       "      <td>25.0</td>\n",
       "      <td>2.0</td>\n",
       "      <td>1.0</td>\n",
       "      <td>...</td>\n",
       "      <td>16.597960</td>\n",
       "      <td>17.730164</td>\n",
       "      <td>2.122624</td>\n",
       "      <td>7.518730</td>\n",
       "      <td>12.640895</td>\n",
       "      <td>23.365388</td>\n",
       "      <td>33.086796</td>\n",
       "      <td>21</td>\n",
       "      <td>25</td>\n",
       "      <td>12</td>\n",
       "    </tr>\n",
       "    <tr>\n",
       "      <th>3</th>\n",
       "      <td>lkkjddam</td>\n",
       "      <td>1.0</td>\n",
       "      <td>2.0</td>\n",
       "      <td>0.0</td>\n",
       "      <td>0.0</td>\n",
       "      <td>2.0</td>\n",
       "      <td>6.0</td>\n",
       "      <td>15.0</td>\n",
       "      <td>5.0</td>\n",
       "      <td>0.0</td>\n",
       "      <td>...</td>\n",
       "      <td>13.129002</td>\n",
       "      <td>14.148411</td>\n",
       "      <td>1.683721</td>\n",
       "      <td>6.533025</td>\n",
       "      <td>11.148637</td>\n",
       "      <td>23.404079</td>\n",
       "      <td>33.039254</td>\n",
       "      <td>21</td>\n",
       "      <td>25</td>\n",
       "      <td>12</td>\n",
       "    </tr>\n",
       "    <tr>\n",
       "      <th>4</th>\n",
       "      <td>lkkjddam</td>\n",
       "      <td>1.0</td>\n",
       "      <td>2.0</td>\n",
       "      <td>1.0</td>\n",
       "      <td>2.0</td>\n",
       "      <td>1.0</td>\n",
       "      <td>6.0</td>\n",
       "      <td>20.0</td>\n",
       "      <td>4.0</td>\n",
       "      <td>1.0</td>\n",
       "      <td>...</td>\n",
       "      <td>13.030803</td>\n",
       "      <td>14.052236</td>\n",
       "      <td>1.671495</td>\n",
       "      <td>6.529800</td>\n",
       "      <td>11.154836</td>\n",
       "      <td>23.946000</td>\n",
       "      <td>33.972000</td>\n",
       "      <td>21</td>\n",
       "      <td>25</td>\n",
       "      <td>12</td>\n",
       "    </tr>\n",
       "  </tbody>\n",
       "</table>\n",
       "<p>5 rows × 35 columns</p>\n",
       "</div>"
      ],
      "text/plain": [
       "      beiwe  content  stress  lonely  sad  energy  tst   sol  naw  restful  \\\n",
       "0  lkkjddam      2.0     3.0     0.0  0.0     2.0  8.0  10.0  3.0      2.0   \n",
       "1  lkkjddam      2.0     1.0     1.0  1.0     2.0  8.0  15.0  3.0      2.0   \n",
       "2  lkkjddam      1.0     2.0     1.0  1.0     1.0  6.0  25.0  2.0      1.0   \n",
       "3  lkkjddam      1.0     2.0     0.0  0.0     2.0  6.0  15.0  5.0      0.0   \n",
       "4  lkkjddam      1.0     2.0     1.0  2.0     1.0  6.0  20.0  4.0      1.0   \n",
       "\n",
       "   ... pm2p5_number  pm10_number  pm1_mass  pm2p5_mass  pm10_mass  \\\n",
       "0  ...    15.485342    16.517596  1.979420    6.900948  11.570201   \n",
       "1  ...    16.289839    17.374364  2.082203    7.253055  12.158711   \n",
       "2  ...    16.597960    17.730164  2.122624    7.518730  12.640895   \n",
       "3  ...    13.129002    14.148411  1.683721    6.533025  11.148637   \n",
       "4  ...    13.030803    14.052236  1.671495    6.529800  11.154836   \n",
       "\n",
       "   temperature_c         rh  beacon  fitbit  redcap  \n",
       "0      24.000000  33.194773      21      25      12  \n",
       "1      26.374000  33.596833      21      25      12  \n",
       "2      23.365388  33.086796      21      25      12  \n",
       "3      23.404079  33.039254      21      25      12  \n",
       "4      23.946000  33.972000      21      25      12  \n",
       "\n",
       "[5 rows x 35 columns]"
      ]
     },
     "execution_count": 32,
     "metadata": {},
     "output_type": "execute_result"
    }
   ],
   "source": [
    "ff_sleep_survey_df.head()"
   ]
  },
  {
   "cell_type": "markdown",
   "metadata": {},
   "source": [
    "## Summary\n",
    "The following cells highlight some summary information and illustrate it with figures."
   ]
  },
  {
   "cell_type": "code",
   "execution_count": 33,
   "metadata": {},
   "outputs": [],
   "source": [
    "def plot_individual_sleep_metric_histograms(df=ff_sleep_survey_df,save=False):\n",
    "    \"\"\"\n",
    "    \n",
    "    \"\"\"\n",
    "    fig, axes = plt.subplots(len(df[\"beiwe\"].unique())+1,4,figsize=(17,15),sharex=\"col\")#,sharey=\"row\")\n",
    "    df,_ = get_number_surveys_submitted(df)\n",
    "    # Plotting individual histograms\n",
    "    for i, pt in enumerate(df[\"beiwe\"].unique()):\n",
    "        # getting sleep metrics per pt\n",
    "        df_pt = df[df[\"beiwe\"] == pt]\n",
    "        # plotting each histogram per pt\n",
    "        for j, metric, xlimits, width in zip(np.arange(4),[\"tst\",\"sol\",\"naw\",\"restful\"],[[3,12],[0,40],[0,10],[0,4]],[1,5,1,1]):\n",
    "            n, bins, _ = axes[i,j].hist(df_pt[metric],bins=np.arange(xlimits[0],xlimits[1]+width,width),rwidth=0.9,color=\"cornflowerblue\",edgecolor='black')\n",
    "\n",
    "            axes[i,j].set_ylim([0,20])\n",
    "            for loc in [\"top\",\"right\"]:\n",
    "                axes[i,j].spines[loc].set_visible(False)\n",
    "            if j != 0:\n",
    "                axes[i,j].spines[\"left\"].set_visible(False)\n",
    "                axes[i,j].set_yticks([])\n",
    "    \n",
    "    # Plotting aggregate histogram (last row)\n",
    "    for j, metric, xlimits, width in zip(np.arange(4),[\"tst\",\"sol\",\"naw\",\"restful\"],[[3,12],[0,40],[0,10],[0,4]],[1,2,1,1]):\n",
    "        n, bins, _ = axes[len(df[\"beiwe\"].unique()),j].hist(df[metric],bins=np.arange(xlimits[0],xlimits[1]+width,width),rwidth=0.9,color=\"navy\",edgecolor='black')\n",
    "        axes[len(df[\"beiwe\"].unique()),j].set_ylim([0,120])\n",
    "        for loc in [\"top\",\"right\"]:\n",
    "            axes[len(df[\"beiwe\"].unique()),j].spines[loc].set_visible(False)\n",
    "        if j != 0:\n",
    "            axes[len(df[\"beiwe\"].unique()),j].spines[\"left\"].set_visible(False)\n",
    "            axes[len(df[\"beiwe\"].unique()),j].set_yticks([])\n",
    "\n",
    "    for k, label in enumerate([\"TST (hours)\",\"SOL (minutes)\",\"NAW\",\"Restful\"]):\n",
    "        axes[len(df[\"beiwe\"].unique()),k].set_xlabel(label)\n",
    "\n",
    "    plt.subplots_adjust(hspace=0.225,wspace=0.075)\n",
    "    if save:\n",
    "        plt.savefig(\"../reports/figures/ema_ff_summary/beiwe-sleep_metrics-histogram_by_pt-ux_s20.pdf\")\n",
    "    plt.show()\n",
    "    plt.close()"
   ]
  },
  {
   "cell_type": "code",
   "execution_count": 34,
   "metadata": {},
   "outputs": [
    {
     "data": {
      "image/png": "[encoded data removed]",
      "text/plain": [
       "<Figure size 1224x1080 with 68 Axes>"
      ]
     },
     "metadata": {
      "needs_background": "light"
     },
     "output_type": "display_data"
    }
   ],
   "source": [
    "plot_individual_sleep_metric_histograms(save=True)"
   ]
  },
  {
   "cell_type": "markdown",
   "metadata": {},
   "source": [
    "## Individual Sleep Metric Summary"
   ]
  },
  {
   "cell_type": "code",
   "execution_count": 36,
   "metadata": {},
   "outputs": [],
   "source": [
    "def plot_stacked_hist(df,var,limits,width=1,cmap='coolwarm',by_var='beiwe',save=False,save_dir='../reports/figures/ema_ff_summary/'):\n",
    "    '''\n",
    "    Plots a stacked histogram with each color representing a unique individual.\n",
    "    \n",
    "    Inputs:\n",
    "    - df: dataframe of the data\n",
    "    - var: string specifying the column in the dataframe to plot\n",
    "    - limits: tuple representing the lower and upper bound on the x-axis\n",
    "    - width: integer/float for the width of each bin\n",
    "    - by_var: string specifying the column to color the stacks by\n",
    "    - save: boolean to save or not\n",
    "    - save_dr: string representing the location to save the figure if save is True\n",
    "    \n",
    "    Returns the axes with the histogram\n",
    "    '''\n",
    "    list_to_plot = []\n",
    "    for pt in df[by_var].unique():\n",
    "        temp_df = df[df[by_var] == pt]\n",
    "        list_to_plot.append(temp_df[var].to_list())\n",
    "    \n",
    "    colors = cm.get_cmap(cmap, len(list_to_plot))\n",
    "    fig, ax = plt.subplots(figsize=(8,4))\n",
    "    n, bins, _ = ax.hist(list_to_plot,bins=np.arange(limits[0],limits[1]+width,width),stacked=True,rwidth=0.9,\n",
    "            color=colors(np.linspace(0, 1, len(list_to_plot))),edgecolor='black')\n",
    "    \n",
    "    for loc in ['right','top']:\n",
    "        ax.spines[loc].set_visible(False)\n",
    "    ax.set_ylabel('Count')\n",
    "\n",
    "    if save:\n",
    "        plt.savefig(f'{save_dir}/{var}-stacked_hist-ux_s20.pdf')\n",
    "        \n",
    "    return ax\n",
    "    "
   ]
  },
  {
   "cell_type": "markdown",
   "metadata": {},
   "source": [
    "### TST\n",
    "Total Sleep Time as reported by the participants"
   ]
  },
  {
   "cell_type": "code",
   "execution_count": 37,
   "metadata": {},
   "outputs": [
    {
     "data": {
      "image/png": "[encoded data removed]",
      "text/plain": [
       "<Figure size 576x288 with 1 Axes>"
      ]
     },
     "metadata": {
      "needs_background": "light"
     },
     "output_type": "display_data"
    }
   ],
   "source": [
    "ax = plot_stacked_hist(ff_sleep_survey_df,'tst',[2,12],by_var='beiwe')\n",
    "ax.set_ylim([0,100])\n",
    "ax.set_xlabel('Hours')\n",
    "\n",
    "ax.axvline(7,color='black',linestyle='dashed',linewidth=2)\n",
    "ax.axvline(9,color='black',linestyle='dashed',linewidth=2)\n",
    "ax.text(8,90,\"Recommended\",ha='center',va='center')\n",
    "\n",
    "#plt.savefig('../reports/figures/beiwe_sleep_duration-stacked_hist-ux_s20.pdf')\n",
    "plt.show()\n",
    "plt.close()"
   ]
  },
  {
   "cell_type": "code",
   "execution_count": 38,
   "metadata": {},
   "outputs": [
    {
     "name": "stdout",
     "output_type": "stream",
     "text": [
      "Number of nights between 7 and 9 hours of sleep:\t 63.125\n",
      "Number of nights between 6 and 7 hours of sleep:\t 21.875\n",
      "Number of nights greater than 7 hours of sleep:\t\t 66.875\n",
      "Number of nights greater than 9 hours of sleep:\t\t 3.75\n",
      "Number of nights less than 7 hours of sleep:\t\t 33.125\n"
     ]
    }
   ],
   "source": [
    "p_7to9 = len(ff_sleep_survey_df[(ff_sleep_survey_df['tst'] >= 7) & (ff_sleep_survey_df['tst'] <= 9)])/len(ff_sleep_survey_df['tst'])\n",
    "print('Number of nights between 7 and 9 hours of sleep:\\t', p_7to9*100)\n",
    "\n",
    "p_6to7 = len(ff_sleep_survey_df[(ff_sleep_survey_df['tst'] >= 6) & (ff_sleep_survey_df['tst'] < 7)])/len(ff_sleep_survey_df['tst'])\n",
    "print('Number of nights between 6 and 7 hours of sleep:\\t', p_6to7*100)\n",
    "\n",
    "p_gt_7 = len(ff_sleep_survey_df[(ff_sleep_survey_df['tst'] >= 7)])/len(ff_sleep_survey_df['tst'])\n",
    "print('Number of nights greater than 7 hours of sleep:\\t\\t', p_gt_7*100)\n",
    "\n",
    "p_gt_9 = len(ff_sleep_survey_df[(ff_sleep_survey_df['tst'] > 9)])/len(ff_sleep_survey_df['tst'])\n",
    "print('Number of nights greater than 9 hours of sleep:\\t\\t', p_gt_9*100)\n",
    "\n",
    "p_lt_7 = len(ff_sleep_survey_df[(ff_sleep_survey_df['tst'] < 7)])/len(ff_sleep_survey_df['tst'])\n",
    "print('Number of nights less than 7 hours of sleep:\\t\\t', p_lt_7*100)"
   ]
  },
  {
   "cell_type": "markdown",
   "metadata": {},
   "source": [
    "Looking at the reported TSTs to see how participants tend to report TST."
   ]
  },
  {
   "cell_type": "code",
   "execution_count": 69,
   "metadata": {},
   "outputs": [],
   "source": [
    "def plot_tst_raw_values(df=ff_sleep_survey_df,save=False):\n",
    "    \"\"\"\n",
    "    \n",
    "    \"\"\"\n",
    "    fig, ax = plt.subplots(figsize=(12,6))\n",
    "    ff_sleep_survey_df.sort_values(['tst'],inplace=True)\n",
    "    sns.swarmplot(df[\"tst\"],size=5,color=\"cornflowerblue\",ax=ax)\n",
    "    for loc in [\"top\",\"right\",\"left\"]:\n",
    "        ax.spines[loc].set_visible(False)\n",
    "\n",
    "    ax.set_xticks(np.arange(3,13,1))\n",
    "    ax.set_yticks([])\n",
    "    ax.grid(axis=\"x\")\n",
    "    if save:\n",
    "        plt.savefig(\"../reports/figures/ema_ff_summary/beiwe-tst-swarmplot-ux_s20.pdf\")\n",
    "    plt.show()\n",
    "    plt.close()"
   ]
  },
  {
   "cell_type": "code",
   "execution_count": 70,
   "metadata": {},
   "outputs": [
    {
     "data": {
      "image/png": "[encoded data removed]",
      "text/plain": [
       "<Figure size 864x432 with 1 Axes>"
      ]
     },
     "metadata": {
      "needs_background": "light"
     },
     "output_type": "display_data"
    }
   ],
   "source": [
    "plot_tst_raw_values()"
   ]
  },
  {
   "cell_type": "markdown",
   "metadata": {},
   "source": [
    "<div class=\"alert alert-block alert-success\">\n",
    "    Participants tend to report their TST at half-hour increments with two exceptions.\n",
    "</div>"
   ]
  },
  {
   "cell_type": "markdown",
   "metadata": {},
   "source": [
    "### SOL\n",
    "We have SOL reported by the pts."
   ]
  },
  {
   "cell_type": "code",
   "execution_count": 71,
   "metadata": {},
   "outputs": [
    {
     "data": {
      "image/png": "[encoded data removed]",
      "text/plain": [
       "<Figure size 576x288 with 1 Axes>"
      ]
     },
     "metadata": {
      "needs_background": "light"
     },
     "output_type": "display_data"
    }
   ],
   "source": [
    "ax = plot_stacked_hist(ff_sleep_survey_df,'sol',[0,60],width=5,by_var='beiwe')\n",
    "ax.set_ylim([0,100])\n",
    "ax.set_xlabel('Minutes')\n",
    "\n",
    "ax.axvline(15,color='black',linestyle='dashed',linewidth=2)\n",
    "ax.axvline(30,color='black',linestyle='dashed',linewidth=2)\n",
    "ax.axvline(45,color='black',linestyle='dashed',linewidth=2)\n",
    "ax.text(7.5,80,\"Great\",ha='center',va='center')\n",
    "ax.text(22.5,80,\"Good\",ha='center',va='center')\n",
    "ax.text(52.5,80,\"Poor\",ha='center',va='center')\n",
    "\n",
    "#plt.savefig('../reports/figures/beiwe_sleep_sol-stacked_hist-ux_s20.pdf')\n",
    "plt.show()\n",
    "plt.close()"
   ]
  },
  {
   "cell_type": "code",
   "execution_count": 72,
   "metadata": {},
   "outputs": [
    {
     "name": "stdout",
     "output_type": "stream",
     "text": [
      "Percent of SOL less than 15 minutes: 60.6\n",
      "Percent of SOL less than 30 minutes: 96.9\n",
      "Percent of SOL less than 50 minutes: 100.0\n"
     ]
    }
   ],
   "source": [
    "cutoffs = [15,30,50]\n",
    "for cutoff in cutoffs:\n",
    "    p_lt_cutoff = ff_sleep_survey_df[ff_sleep_survey_df['sol'] < cutoff]\n",
    "    print(f'Percent of SOL less than {cutoff} minutes:', round(len(p_lt_cutoff)/len(ff_sleep_survey_df)*100,1))"
   ]
  },
  {
   "cell_type": "code",
   "execution_count": 73,
   "metadata": {},
   "outputs": [
    {
     "data": {
      "text/html": [
       "<div>\n",
       "<style scoped>\n",
       "    .dataframe tbody tr th:only-of-type {\n",
       "        vertical-align: middle;\n",
       "    }\n",
       "\n",
       "    .dataframe tbody tr th {\n",
       "        vertical-align: top;\n",
       "    }\n",
       "\n",
       "    .dataframe thead th {\n",
       "        text-align: right;\n",
       "    }\n",
       "</style>\n",
       "<table border=\"1\" class=\"dataframe\">\n",
       "  <thead>\n",
       "    <tr style=\"text-align: right;\">\n",
       "      <th></th>\n",
       "      <th>beiwe</th>\n",
       "      <th>content</th>\n",
       "      <th>stress</th>\n",
       "      <th>lonely</th>\n",
       "      <th>sad</th>\n",
       "      <th>energy</th>\n",
       "      <th>tst</th>\n",
       "      <th>sol</th>\n",
       "      <th>naw</th>\n",
       "      <th>restful</th>\n",
       "      <th>...</th>\n",
       "      <th>pm2p5_number</th>\n",
       "      <th>pm10_number</th>\n",
       "      <th>pm1_mass</th>\n",
       "      <th>pm2p5_mass</th>\n",
       "      <th>pm10_mass</th>\n",
       "      <th>temperature_c</th>\n",
       "      <th>rh</th>\n",
       "      <th>beacon</th>\n",
       "      <th>fitbit</th>\n",
       "      <th>redcap</th>\n",
       "    </tr>\n",
       "  </thead>\n",
       "  <tbody>\n",
       "    <tr>\n",
       "      <th>12</th>\n",
       "      <td>qh34m4r9</td>\n",
       "      <td>3.0</td>\n",
       "      <td>1.0</td>\n",
       "      <td>0.0</td>\n",
       "      <td>0.0</td>\n",
       "      <td>2.0</td>\n",
       "      <td>7.0</td>\n",
       "      <td>40.0</td>\n",
       "      <td>0.0</td>\n",
       "      <td>3.0</td>\n",
       "      <td>...</td>\n",
       "      <td>16.735496</td>\n",
       "      <td>17.729396</td>\n",
       "      <td>2.129496</td>\n",
       "      <td>6.252126</td>\n",
       "      <td>10.137124</td>\n",
       "      <td>24.149250</td>\n",
       "      <td>40.936350</td>\n",
       "      <td>19</td>\n",
       "      <td>16</td>\n",
       "      <td>68</td>\n",
       "    </tr>\n",
       "    <tr>\n",
       "      <th>5</th>\n",
       "      <td>xlw5ntd5</td>\n",
       "      <td>1.0</td>\n",
       "      <td>0.0</td>\n",
       "      <td>0.0</td>\n",
       "      <td>0.0</td>\n",
       "      <td>0.0</td>\n",
       "      <td>7.0</td>\n",
       "      <td>30.0</td>\n",
       "      <td>2.0</td>\n",
       "      <td>3.0</td>\n",
       "      <td>...</td>\n",
       "      <td>29.486814</td>\n",
       "      <td>30.562668</td>\n",
       "      <td>3.728705</td>\n",
       "      <td>8.123860</td>\n",
       "      <td>12.184284</td>\n",
       "      <td>29.220110</td>\n",
       "      <td>39.149286</td>\n",
       "      <td>10</td>\n",
       "      <td>41</td>\n",
       "      <td>43</td>\n",
       "    </tr>\n",
       "    <tr>\n",
       "      <th>11</th>\n",
       "      <td>qh34m4r9</td>\n",
       "      <td>3.0</td>\n",
       "      <td>1.0</td>\n",
       "      <td>0.0</td>\n",
       "      <td>0.0</td>\n",
       "      <td>3.0</td>\n",
       "      <td>7.0</td>\n",
       "      <td>30.0</td>\n",
       "      <td>6.0</td>\n",
       "      <td>3.0</td>\n",
       "      <td>...</td>\n",
       "      <td>20.557188</td>\n",
       "      <td>21.695720</td>\n",
       "      <td>2.613075</td>\n",
       "      <td>7.343986</td>\n",
       "      <td>11.658996</td>\n",
       "      <td>25.209502</td>\n",
       "      <td>40.366907</td>\n",
       "      <td>19</td>\n",
       "      <td>16</td>\n",
       "      <td>68</td>\n",
       "    </tr>\n",
       "    <tr>\n",
       "      <th>3</th>\n",
       "      <td>9jtzsuu8</td>\n",
       "      <td>2.0</td>\n",
       "      <td>0.0</td>\n",
       "      <td>0.0</td>\n",
       "      <td>0.0</td>\n",
       "      <td>2.0</td>\n",
       "      <td>9.0</td>\n",
       "      <td>30.0</td>\n",
       "      <td>1.0</td>\n",
       "      <td>2.0</td>\n",
       "      <td>...</td>\n",
       "      <td>26.243694</td>\n",
       "      <td>27.556259</td>\n",
       "      <td>3.339617</td>\n",
       "      <td>9.836216</td>\n",
       "      <td>15.959246</td>\n",
       "      <td>29.819158</td>\n",
       "      <td>43.090632</td>\n",
       "      <td>15</td>\n",
       "      <td>37</td>\n",
       "      <td>36</td>\n",
       "    </tr>\n",
       "    <tr>\n",
       "      <th>0</th>\n",
       "      <td>xlw5ntd5</td>\n",
       "      <td>3.0</td>\n",
       "      <td>1.0</td>\n",
       "      <td>1.0</td>\n",
       "      <td>0.0</td>\n",
       "      <td>2.0</td>\n",
       "      <td>12.0</td>\n",
       "      <td>30.0</td>\n",
       "      <td>0.0</td>\n",
       "      <td>3.0</td>\n",
       "      <td>...</td>\n",
       "      <td>11.299684</td>\n",
       "      <td>12.230360</td>\n",
       "      <td>1.445488</td>\n",
       "      <td>5.172248</td>\n",
       "      <td>8.710955</td>\n",
       "      <td>27.560625</td>\n",
       "      <td>43.745417</td>\n",
       "      <td>10</td>\n",
       "      <td>41</td>\n",
       "      <td>43</td>\n",
       "    </tr>\n",
       "  </tbody>\n",
       "</table>\n",
       "<p>5 rows × 35 columns</p>\n",
       "</div>"
      ],
      "text/plain": [
       "       beiwe  content  stress  lonely  sad  energy   tst   sol  naw  restful  \\\n",
       "12  qh34m4r9      3.0     1.0     0.0  0.0     2.0   7.0  40.0  0.0      3.0   \n",
       "5   xlw5ntd5      1.0     0.0     0.0  0.0     0.0   7.0  30.0  2.0      3.0   \n",
       "11  qh34m4r9      3.0     1.0     0.0  0.0     3.0   7.0  30.0  6.0      3.0   \n",
       "3   9jtzsuu8      2.0     0.0     0.0  0.0     2.0   9.0  30.0  1.0      2.0   \n",
       "0   xlw5ntd5      3.0     1.0     1.0  0.0     2.0  12.0  30.0  0.0      3.0   \n",
       "\n",
       "    ... pm2p5_number  pm10_number  pm1_mass  pm2p5_mass  pm10_mass  \\\n",
       "12  ...    16.735496    17.729396  2.129496    6.252126  10.137124   \n",
       "5   ...    29.486814    30.562668  3.728705    8.123860  12.184284   \n",
       "11  ...    20.557188    21.695720  2.613075    7.343986  11.658996   \n",
       "3   ...    26.243694    27.556259  3.339617    9.836216  15.959246   \n",
       "0   ...    11.299684    12.230360  1.445488    5.172248   8.710955   \n",
       "\n",
       "    temperature_c         rh  beacon  fitbit  redcap  \n",
       "12      24.149250  40.936350      19      16      68  \n",
       "5       29.220110  39.149286      10      41      43  \n",
       "11      25.209502  40.366907      19      16      68  \n",
       "3       29.819158  43.090632      15      37      36  \n",
       "0       27.560625  43.745417      10      41      43  \n",
       "\n",
       "[5 rows x 35 columns]"
      ]
     },
     "execution_count": 73,
     "metadata": {},
     "output_type": "execute_result"
    }
   ],
   "source": [
    "high_sol = ff_sleep_survey_df[ff_sleep_survey_df['sol'] >= 30]\n",
    "high_sol"
   ]
  },
  {
   "cell_type": "markdown",
   "metadata": {},
   "source": [
    "###  Awakenings"
   ]
  },
  {
   "cell_type": "code",
   "execution_count": 74,
   "metadata": {},
   "outputs": [
    {
     "data": {
      "image/png": "[encoded data removed]",
      "text/plain": [
       "<Figure size 576x288 with 1 Axes>"
      ]
     },
     "metadata": {
      "needs_background": "light"
     },
     "output_type": "display_data"
    }
   ],
   "source": [
    "ax = plot_stacked_hist(ff_sleep_survey_df,'naw',[0,11],width=1,by_var='beiwe')\n",
    "ax.set_ylim([0,100])\n",
    "ax.set_xlabel('Number')\n",
    "\n",
    "# resetting xtick-labels\n",
    "ax.set_xticks(np.arange(0.5,11.5,1))\n",
    "ax.set_xticklabels(np.arange(0,11,1))\n",
    "\n",
    "ax.axvline(2,color='black',linestyle='dashed',linewidth=2)\n",
    "ax.axvline(4,color='black',linestyle='dashed',linewidth=2)\n",
    "ax.text(1,80,\"Good\",ha='center',va='center')\n",
    "ax.text(5,80,\"Poor\",ha='center',va='center')\n",
    "\n",
    "#plt.savefig('../reports/figures/beiwe_sleep_awakenings-stacked_hist-ux_s20.pdf')\n",
    "plt.show()\n",
    "plt.close()"
   ]
  },
  {
   "cell_type": "code",
   "execution_count": 75,
   "metadata": {},
   "outputs": [
    {
     "name": "stdout",
     "output_type": "stream",
     "text": [
      "Percent of NAW less than 2: 55.0\n",
      "Percent of NAW less than 4: 95.6\n"
     ]
    }
   ],
   "source": [
    "cutoffs = [2,4]\n",
    "for cutoff in cutoffs:\n",
    "    p_lt_cutoff = ff_sleep_survey_df[ff_sleep_survey_df['naw'] < cutoff]\n",
    "    print(f'Percent of NAW less than {cutoff}:', round(len(p_lt_cutoff)/len(ff_sleep_survey_df)*100,1))"
   ]
  },
  {
   "cell_type": "markdown",
   "metadata": {},
   "source": [
    "### Restful Score\n",
    "On a scale of 0-3 (not at all to very much)"
   ]
  },
  {
   "cell_type": "code",
   "execution_count": 76,
   "metadata": {},
   "outputs": [
    {
     "data": {
      "image/png": "[encoded data removed]",
      "text/plain": [
       "<Figure size 576x288 with 1 Axes>"
      ]
     },
     "metadata": {
      "needs_background": "light"
     },
     "output_type": "display_data"
    }
   ],
   "source": [
    "ax = plot_stacked_hist(ff_sleep_survey_df,'restful',[0,4],width=1,by_var='beiwe')\n",
    "ax.set_ylim([0,100])\n",
    "ax.set_xticks([0.5,1.5,2.5,3.5])\n",
    "ax.set_xticklabels(['0: Not at all','1: A little bit','2: Quite a bit','3: Very much'])\n",
    "ax.set_xlabel('Response')\n",
    "\n",
    "#plt.savefig('../reports/figures/beiwe_sleep_restful-stacked_hist-ux_s20.pdf')\n",
    "plt.show()\n",
    "plt.close()"
   ]
  },
  {
   "cell_type": "code",
   "execution_count": 77,
   "metadata": {},
   "outputs": [
    {
     "name": "stdout",
     "output_type": "stream",
     "text": [
      "Percent of Participants who rated their restfullness 0: 2.5\n",
      "Percent of Participants who rated their restfullness 1: 11.2\n",
      "Percent of Participants who rated their restfullness 2: 50.6\n",
      "Percent of Participants who rated their restfullness 3: 35.6\n"
     ]
    }
   ],
   "source": [
    "for val in [0,1,2,3]:\n",
    "    p = round(len(ff_sleep_survey_df[ff_sleep_survey_df['restful'] == val])/len(ff_sleep_survey_df)*100,1)\n",
    "    print(f'Percent of Participants who rated their restfullness {val}: {p}')"
   ]
  },
  {
   "cell_type": "markdown",
   "metadata": {},
   "source": [
    "Looking at the sleep summaries for those participants who had bad restfulness scores."
   ]
  },
  {
   "cell_type": "code",
   "execution_count": 78,
   "metadata": {},
   "outputs": [
    {
     "data": {
      "text/html": [
       "<div>\n",
       "<style scoped>\n",
       "    .dataframe tbody tr th:only-of-type {\n",
       "        vertical-align: middle;\n",
       "    }\n",
       "\n",
       "    .dataframe tbody tr th {\n",
       "        vertical-align: top;\n",
       "    }\n",
       "\n",
       "    .dataframe thead th {\n",
       "        text-align: right;\n",
       "    }\n",
       "</style>\n",
       "<table border=\"1\" class=\"dataframe\">\n",
       "  <thead>\n",
       "    <tr style=\"text-align: right;\">\n",
       "      <th></th>\n",
       "      <th>beiwe</th>\n",
       "      <th>content</th>\n",
       "      <th>stress</th>\n",
       "      <th>lonely</th>\n",
       "      <th>sad</th>\n",
       "      <th>energy</th>\n",
       "      <th>tst</th>\n",
       "      <th>sol</th>\n",
       "      <th>naw</th>\n",
       "      <th>restful</th>\n",
       "      <th>...</th>\n",
       "      <th>pm2p5_number</th>\n",
       "      <th>pm10_number</th>\n",
       "      <th>pm1_mass</th>\n",
       "      <th>pm2p5_mass</th>\n",
       "      <th>pm10_mass</th>\n",
       "      <th>temperature_c</th>\n",
       "      <th>rh</th>\n",
       "      <th>beacon</th>\n",
       "      <th>fitbit</th>\n",
       "      <th>redcap</th>\n",
       "    </tr>\n",
       "  </thead>\n",
       "  <tbody>\n",
       "    <tr>\n",
       "      <th>9</th>\n",
       "      <td>4i7679py</td>\n",
       "      <td>0.0</td>\n",
       "      <td>3.0</td>\n",
       "      <td>0.0</td>\n",
       "      <td>0.0</td>\n",
       "      <td>1.0</td>\n",
       "      <td>3.0</td>\n",
       "      <td>5.0</td>\n",
       "      <td>2.0</td>\n",
       "      <td>0.0</td>\n",
       "      <td>...</td>\n",
       "      <td>0.000000</td>\n",
       "      <td>0.000000</td>\n",
       "      <td>0.000000</td>\n",
       "      <td>0.000000</td>\n",
       "      <td>0.000000</td>\n",
       "      <td>27.000000</td>\n",
       "      <td>49.830909</td>\n",
       "      <td>44</td>\n",
       "      <td>38</td>\n",
       "      <td>37</td>\n",
       "    </tr>\n",
       "    <tr>\n",
       "      <th>1</th>\n",
       "      <td>xlw5ntd5</td>\n",
       "      <td>0.0</td>\n",
       "      <td>3.0</td>\n",
       "      <td>2.0</td>\n",
       "      <td>3.0</td>\n",
       "      <td>0.0</td>\n",
       "      <td>5.0</td>\n",
       "      <td>0.0</td>\n",
       "      <td>0.0</td>\n",
       "      <td>0.0</td>\n",
       "      <td>...</td>\n",
       "      <td>13.280597</td>\n",
       "      <td>14.346978</td>\n",
       "      <td>1.698013</td>\n",
       "      <td>5.969952</td>\n",
       "      <td>10.024037</td>\n",
       "      <td>29.760000</td>\n",
       "      <td>41.000000</td>\n",
       "      <td>10</td>\n",
       "      <td>41</td>\n",
       "      <td>43</td>\n",
       "    </tr>\n",
       "    <tr>\n",
       "      <th>6</th>\n",
       "      <td>xlw5ntd5</td>\n",
       "      <td>0.0</td>\n",
       "      <td>3.0</td>\n",
       "      <td>3.0</td>\n",
       "      <td>3.0</td>\n",
       "      <td>0.0</td>\n",
       "      <td>5.0</td>\n",
       "      <td>0.0</td>\n",
       "      <td>0.0</td>\n",
       "      <td>0.0</td>\n",
       "      <td>...</td>\n",
       "      <td>20.343006</td>\n",
       "      <td>21.464651</td>\n",
       "      <td>2.584594</td>\n",
       "      <td>7.111702</td>\n",
       "      <td>11.364126</td>\n",
       "      <td>28.189725</td>\n",
       "      <td>39.749541</td>\n",
       "      <td>10</td>\n",
       "      <td>41</td>\n",
       "      <td>43</td>\n",
       "    </tr>\n",
       "    <tr>\n",
       "      <th>3</th>\n",
       "      <td>lkkjddam</td>\n",
       "      <td>1.0</td>\n",
       "      <td>2.0</td>\n",
       "      <td>0.0</td>\n",
       "      <td>0.0</td>\n",
       "      <td>2.0</td>\n",
       "      <td>6.0</td>\n",
       "      <td>15.0</td>\n",
       "      <td>5.0</td>\n",
       "      <td>0.0</td>\n",
       "      <td>...</td>\n",
       "      <td>13.129002</td>\n",
       "      <td>14.148411</td>\n",
       "      <td>1.683721</td>\n",
       "      <td>6.533025</td>\n",
       "      <td>11.148637</td>\n",
       "      <td>23.404079</td>\n",
       "      <td>33.039254</td>\n",
       "      <td>21</td>\n",
       "      <td>25</td>\n",
       "      <td>12</td>\n",
       "    </tr>\n",
       "  </tbody>\n",
       "</table>\n",
       "<p>4 rows × 35 columns</p>\n",
       "</div>"
      ],
      "text/plain": [
       "      beiwe  content  stress  lonely  sad  energy  tst   sol  naw  restful  \\\n",
       "9  4i7679py      0.0     3.0     0.0  0.0     1.0  3.0   5.0  2.0      0.0   \n",
       "1  xlw5ntd5      0.0     3.0     2.0  3.0     0.0  5.0   0.0  0.0      0.0   \n",
       "6  xlw5ntd5      0.0     3.0     3.0  3.0     0.0  5.0   0.0  0.0      0.0   \n",
       "3  lkkjddam      1.0     2.0     0.0  0.0     2.0  6.0  15.0  5.0      0.0   \n",
       "\n",
       "   ... pm2p5_number  pm10_number  pm1_mass  pm2p5_mass  pm10_mass  \\\n",
       "9  ...     0.000000     0.000000  0.000000    0.000000   0.000000   \n",
       "1  ...    13.280597    14.346978  1.698013    5.969952  10.024037   \n",
       "6  ...    20.343006    21.464651  2.584594    7.111702  11.364126   \n",
       "3  ...    13.129002    14.148411  1.683721    6.533025  11.148637   \n",
       "\n",
       "   temperature_c         rh  beacon  fitbit  redcap  \n",
       "9      27.000000  49.830909      44      38      37  \n",
       "1      29.760000  41.000000      10      41      43  \n",
       "6      28.189725  39.749541      10      41      43  \n",
       "3      23.404079  33.039254      21      25      12  \n",
       "\n",
       "[4 rows x 35 columns]"
      ]
     },
     "execution_count": 78,
     "metadata": {},
     "output_type": "execute_result"
    }
   ],
   "source": [
    "rest_0 = ff_sleep_survey_df[ff_sleep_survey_df['restful'] == 0]\n",
    "rest_0"
   ]
  },
  {
   "cell_type": "markdown",
   "metadata": {},
   "source": [
    "### Comparing Poor Sleep Results\n",
    "There are a few outlying individuals and it would be interesting to see how many of these individuals are present as outliers. "
   ]
  },
  {
   "cell_type": "markdown",
   "metadata": {},
   "source": [
    "#### Bad Everything\n",
    "Here we check to see if any participant was poor in all four categories."
   ]
  },
  {
   "cell_type": "code",
   "execution_count": 99,
   "metadata": {},
   "outputs": [],
   "source": [
    "def check_sleep_results(df=ff_sleep_survey_df):\n",
    "    \"\"\"\n",
    "    Used to check how many participants responded a certain way to each of the four sleep metric questions\n",
    "    \"\"\"\n",
    "    print(\"Inequalities:\\n\\t1. <\\n\\t2. >\\n\\t3. <=\\n\\t4. >=\\n\\t5. ==\")\n",
    "    for metric in [\"tst\",\"sol\",\"naw\",\"restful\"]:\n",
    "        try:\n",
    "            value = float(input(f\"Value to check for {metric}: \"))\n",
    "            inequality = int(input(\"Inequality: \"))\n",
    "        except ValueError:\n",
    "            value = -1\n",
    "            inequality = -1\n",
    "            \n",
    "        if inequality == 1:\n",
    "            print(f\"{metric} < {value}\")\n",
    "            df = df[df[metric] < value]\n",
    "        elif inequality == 2:\n",
    "            print(f\"{metric} > {value}\")\n",
    "            df = df[df[metric] > value]\n",
    "        elif inequality == 3:\n",
    "            print(f\"{metric} <= {value}\")\n",
    "            df = df[df[metric] <= value]\n",
    "        elif inequality == 4:\n",
    "            print(f\"{metric} >= {value}\")\n",
    "            df = df[df[metric] >= value]\n",
    "        elif inequality == 5:\n",
    "            print(f\"{metric} = {value}\")\n",
    "            df = df[df[metric] == value]\n",
    "        else:\n",
    "            print(f\"No test for {metric}\")\n",
    "            \n",
    "    return df"
   ]
  },
  {
   "cell_type": "code",
   "execution_count": 91,
   "metadata": {},
   "outputs": [
    {
     "name": "stdout",
     "output_type": "stream",
     "text": [
      "Inequalities:\n",
      "\t1. <\n",
      "\t2. >\n",
      "\t3. <=\n",
      "\t4. >=\n",
      "\t5. ==\n",
      "Value to check for tst: 6\n",
      "Inequality: 1\n",
      "tst < 6.0\n",
      "Value to check for sol: 30\n",
      "Inequality: 4\n",
      "sol >= 30.0\n",
      "Value to check for naw: 4\n",
      "Inequality: 4\n",
      "naw >= 4.0\n",
      "Value to check for restful: 0\n",
      "Inequality: 5\n",
      "restful = 0.0\n"
     ]
    },
    {
     "data": {
      "text/html": [
       "<div>\n",
       "<style scoped>\n",
       "    .dataframe tbody tr th:only-of-type {\n",
       "        vertical-align: middle;\n",
       "    }\n",
       "\n",
       "    .dataframe tbody tr th {\n",
       "        vertical-align: top;\n",
       "    }\n",
       "\n",
       "    .dataframe thead th {\n",
       "        text-align: right;\n",
       "    }\n",
       "</style>\n",
       "<table border=\"1\" class=\"dataframe\">\n",
       "  <thead>\n",
       "    <tr style=\"text-align: right;\">\n",
       "      <th></th>\n",
       "      <th>beiwe</th>\n",
       "      <th>content</th>\n",
       "      <th>stress</th>\n",
       "      <th>lonely</th>\n",
       "      <th>sad</th>\n",
       "      <th>energy</th>\n",
       "      <th>tst</th>\n",
       "      <th>sol</th>\n",
       "      <th>naw</th>\n",
       "      <th>restful</th>\n",
       "      <th>...</th>\n",
       "      <th>pm2p5_number</th>\n",
       "      <th>pm10_number</th>\n",
       "      <th>pm1_mass</th>\n",
       "      <th>pm2p5_mass</th>\n",
       "      <th>pm10_mass</th>\n",
       "      <th>temperature_c</th>\n",
       "      <th>rh</th>\n",
       "      <th>beacon</th>\n",
       "      <th>fitbit</th>\n",
       "      <th>redcap</th>\n",
       "    </tr>\n",
       "  </thead>\n",
       "  <tbody>\n",
       "  </tbody>\n",
       "</table>\n",
       "<p>0 rows × 35 columns</p>\n",
       "</div>"
      ],
      "text/plain": [
       "Empty DataFrame\n",
       "Columns: [beiwe, content, stress, lonely, sad, energy, tst, sol, naw, restful, date, WoY, Survey, hour, DoW, lat, long, altitude, accuracy, tvoc, lux, no2, co, co2, pm1_number, pm2p5_number, pm10_number, pm1_mass, pm2p5_mass, pm10_mass, temperature_c, rh, beacon, fitbit, redcap]\n",
       "Index: []\n",
       "\n",
       "[0 rows x 35 columns]"
      ]
     },
     "execution_count": 91,
     "metadata": {},
     "output_type": "execute_result"
    }
   ],
   "source": [
    "check_sleep_results()"
   ]
  },
  {
   "cell_type": "code",
   "execution_count": 96,
   "metadata": {},
   "outputs": [
    {
     "name": "stdout",
     "output_type": "stream",
     "text": [
      "[ 5  6 10 29 44]\n",
      "[10 15 19]\n",
      "[ 6 19 21]\n",
      "[10 21 44]\n"
     ]
    }
   ],
   "source": [
    "tst_lt6 = ff_sleep_survey_df[ff_sleep_survey_df['tst'] < 6]\n",
    "print(tst_lt6.sort_values([\"beacon\"])['beacon'].unique())\n",
    "\n",
    "sol_gt30 = ff_sleep_survey_df[ff_sleep_survey_df['sol'] >= 30]\n",
    "print(sol_gt30.sort_values([\"beacon\"])['beacon'].unique())\n",
    "\n",
    "naw_gt4 = ff_sleep_survey_df[ff_sleep_survey_df['naw'] >= 4]\n",
    "print(naw_gt4.sort_values([\"beacon\"])['beacon'].unique())\n",
    "\n",
    "rest_0 = ff_sleep_survey_df[ff_sleep_survey_df['restful'] == 0]\n",
    "print(rest_0.sort_values([\"beacon\"])['beacon'].unique())\n"
   ]
  },
  {
   "cell_type": "markdown",
   "metadata": {},
   "source": [
    "<div class=\"alert alert-block alert-success\">\n",
    "    None of the participants scored poorly in all self-report sleep metrics.\n",
    "</div>"
   ]
  },
  {
   "cell_type": "markdown",
   "metadata": {},
   "source": [
    "#### Bad Restful and High NAW"
   ]
  },
  {
   "cell_type": "code",
   "execution_count": 100,
   "metadata": {},
   "outputs": [
    {
     "name": "stdout",
     "output_type": "stream",
     "text": [
      "Inequalities:\n",
      "\t1. <\n",
      "\t2. >\n",
      "\t3. <=\n",
      "\t4. >=\n",
      "\t5. ==\n",
      "Value to check for tst: \n",
      "No test for tst\n",
      "Value to check for sol: \n",
      "No test for sol\n",
      "Value to check for naw: 4\n",
      "Inequality: 4\n",
      "naw >= 4.0\n",
      "Value to check for restful: 0\n",
      "Inequality: 5\n",
      "restful = 0.0\n"
     ]
    },
    {
     "data": {
      "text/html": [
       "<div>\n",
       "<style scoped>\n",
       "    .dataframe tbody tr th:only-of-type {\n",
       "        vertical-align: middle;\n",
       "    }\n",
       "\n",
       "    .dataframe tbody tr th {\n",
       "        vertical-align: top;\n",
       "    }\n",
       "\n",
       "    .dataframe thead th {\n",
       "        text-align: right;\n",
       "    }\n",
       "</style>\n",
       "<table border=\"1\" class=\"dataframe\">\n",
       "  <thead>\n",
       "    <tr style=\"text-align: right;\">\n",
       "      <th></th>\n",
       "      <th>beiwe</th>\n",
       "      <th>content</th>\n",
       "      <th>stress</th>\n",
       "      <th>lonely</th>\n",
       "      <th>sad</th>\n",
       "      <th>energy</th>\n",
       "      <th>tst</th>\n",
       "      <th>sol</th>\n",
       "      <th>naw</th>\n",
       "      <th>restful</th>\n",
       "      <th>...</th>\n",
       "      <th>pm2p5_number</th>\n",
       "      <th>pm10_number</th>\n",
       "      <th>pm1_mass</th>\n",
       "      <th>pm2p5_mass</th>\n",
       "      <th>pm10_mass</th>\n",
       "      <th>temperature_c</th>\n",
       "      <th>rh</th>\n",
       "      <th>beacon</th>\n",
       "      <th>fitbit</th>\n",
       "      <th>redcap</th>\n",
       "    </tr>\n",
       "  </thead>\n",
       "  <tbody>\n",
       "    <tr>\n",
       "      <th>3</th>\n",
       "      <td>lkkjddam</td>\n",
       "      <td>1.0</td>\n",
       "      <td>2.0</td>\n",
       "      <td>0.0</td>\n",
       "      <td>0.0</td>\n",
       "      <td>2.0</td>\n",
       "      <td>6.0</td>\n",
       "      <td>15.0</td>\n",
       "      <td>5.0</td>\n",
       "      <td>0.0</td>\n",
       "      <td>...</td>\n",
       "      <td>13.129002</td>\n",
       "      <td>14.148411</td>\n",
       "      <td>1.683721</td>\n",
       "      <td>6.533025</td>\n",
       "      <td>11.148637</td>\n",
       "      <td>23.404079</td>\n",
       "      <td>33.039254</td>\n",
       "      <td>21</td>\n",
       "      <td>25</td>\n",
       "      <td>12</td>\n",
       "    </tr>\n",
       "  </tbody>\n",
       "</table>\n",
       "<p>1 rows × 35 columns</p>\n",
       "</div>"
      ],
      "text/plain": [
       "      beiwe  content  stress  lonely  sad  energy  tst   sol  naw  restful  \\\n",
       "3  lkkjddam      1.0     2.0     0.0  0.0     2.0  6.0  15.0  5.0      0.0   \n",
       "\n",
       "   ... pm2p5_number  pm10_number  pm1_mass  pm2p5_mass  pm10_mass  \\\n",
       "3  ...    13.129002    14.148411  1.683721    6.533025  11.148637   \n",
       "\n",
       "   temperature_c         rh  beacon  fitbit  redcap  \n",
       "3      23.404079  33.039254      21      25      12  \n",
       "\n",
       "[1 rows x 35 columns]"
      ]
     },
     "execution_count": 100,
     "metadata": {},
     "output_type": "execute_result"
    }
   ],
   "source": [
    "check_sleep_results()"
   ]
  },
  {
   "cell_type": "markdown",
   "metadata": {},
   "source": [
    "<div class=\"alert alert-block alert-success\">\n",
    "    Only one person reported poor restfulness scores when considering their number of awakenings.\n",
    "</div>"
   ]
  },
  {
   "cell_type": "markdown",
   "metadata": {},
   "source": [
    "## Predictors for Poor Restful Scores\n",
    "We want to see which other self-report sleep measures are the best predictors for a poor or good restful sleep score."
   ]
  },
  {
   "cell_type": "code",
   "execution_count": 104,
   "metadata": {},
   "outputs": [],
   "source": [
    "from sklearn.linear_model import LogisticRegression\n",
    "from sklearn.model_selection import train_test_split\n",
    "\n",
    "import statsmodels.api as sm"
   ]
  },
  {
   "cell_type": "markdown",
   "metadata": {},
   "source": [
    "### Binary Classification - All Restful Scores\n",
    "Here we consider all restful scores, but classify them as either bad (0,1) or good (2,3) to create a binary classification problem."
   ]
  },
  {
   "cell_type": "markdown",
   "metadata": {},
   "source": [
    "Massaging the data"
   ]
  },
  {
   "cell_type": "code",
   "execution_count": 114,
   "metadata": {},
   "outputs": [],
   "source": [
    "x = ff_sleep_survey_df[['tst','sol','naw']]\n",
    "# rescaling SOL to hours so we have similar magnitudes\n",
    "x['sol'] /= 60\n",
    "y = ff_sleep_survey_df[['restful']]\n",
    "y['score'] = np.where(y['restful'] < 2, 0, 1)\n",
    "y.drop(['restful'],axis=1,inplace=True)"
   ]
  },
  {
   "cell_type": "markdown",
   "metadata": {},
   "source": [
    "Fitting the model and getting the coefficients"
   ]
  },
  {
   "cell_type": "code",
   "execution_count": 131,
   "metadata": {},
   "outputs": [],
   "source": [
    "# SciKit\n",
    "model = LogisticRegression(solver='lbfgs')\n",
    "model.fit(x,y)\n",
    "# StatsModels\n",
    "x_sm = sm.add_constant(x)\n",
    "log_reg = sm.Logit(y, x_sm).fit(method='lbfgs')"
   ]
  },
  {
   "cell_type": "markdown",
   "metadata": {},
   "source": [
    "Comparing results from the two models"
   ]
  },
  {
   "cell_type": "code",
   "execution_count": 132,
   "metadata": {},
   "outputs": [
    {
     "name": "stdout",
     "output_type": "stream",
     "text": [
      "\tSKL\tSM\n",
      "tst:\t1.369\t1.487\n",
      "sol:\t0.021\t-0.087\n",
      "naw:\t0.056\t0.064\n",
      "y-int:\t-7.012\t-7.727\n"
     ]
    }
   ],
   "source": [
    "print(\"\\tSKL\\tSM\")\n",
    "for sleep_metric, sklearn_c, sm_c in zip(x.columns.values,model.coef_[0],log_reg.params[1:]):\n",
    "    print(f'{sleep_metric}:\\t{round(sklearn_c,3)}\\t{round(sm_c,3)}')\n",
    "    \n",
    "print(f'y-int:\\t{round(model.intercept_[0],3)}\\t{round(log_reg.params[0],3)}')"
   ]
  },
  {
   "cell_type": "markdown",
   "metadata": {},
   "source": [
    "<div class=\"alert alert-block alert-info\">\n",
    "    The TST seems to be the greatest predictor of restful sleep scores. \n",
    "<div>"
   ]
  },
  {
   "cell_type": "markdown",
   "metadata": {},
   "source": [
    "We can look at the individual contributions to the restful score but plotting a one-var logit."
   ]
  },
  {
   "cell_type": "code",
   "execution_count": 133,
   "metadata": {
    "scrolled": false
   },
   "outputs": [
    {
     "data": {
      "image/png": "[encoded data removed]",
      "text/plain": [
       "<Figure size 864x864 with 3 Axes>"
      ]
     },
     "metadata": {
      "needs_background": "light"
     },
     "output_type": "display_data"
    }
   ],
   "source": [
    "fig, axes = plt.subplots(3,1,figsize=(12,12))\n",
    "xs = np.arange(0,14.1,0.1)\n",
    "ys = {'full':[],'tst':[],'sol':[],'naw':[]}\n",
    "for x_val in xs:\n",
    "    ys['full'].append(1 / (1+math.exp(-1*(model.intercept_[0]+x_val*model.coef_[0][0]+x_val*model.coef_[0][1]+x_val*model.coef_[0][2]))))\n",
    "    ys['tst'].append(1 / (1+math.exp(-1*(model.intercept_[0]+x_val*model.coef_[0][0]))))\n",
    "    ys['sol'].append(1 / (1+math.exp(-1*(model.intercept_[0]+x_val*model.coef_[0][1]))))\n",
    "    ys['naw'].append(1 / (1+math.exp(-1*(model.intercept_[0]+x_val*model.coef_[0][2]))))\n",
    "    \n",
    "ax = axes[0]\n",
    "ax.scatter(x['tst'],y['score'],color='cornflowerblue',edgecolor='black',s=50,label='Raw Data Points')\n",
    "ax.plot(xs,ys['tst'],color='firebrick',linewidth=1,label='TST Only')\n",
    "ax.set_xlabel('TST (hours)')\n",
    "\n",
    "ax = axes[1]\n",
    "ax.scatter(x['sol'],y['score'],color='cornflowerblue',edgecolor='black',s=50,label='Raw Data Points')\n",
    "ax.plot(xs,ys['sol'],color='firebrick',linewidth=1,label='SOL Only')\n",
    "ax.set_xlim([0,2])\n",
    "ax.set_xlabel('SOL (hours)')\n",
    "\n",
    "ax = axes[2]\n",
    "ax.scatter(x['naw'],y['score'],color='cornflowerblue',edgecolor='black',s=50,label='Raw Data Points')\n",
    "ax.plot(xs,ys['naw'],color='firebrick',linewidth=1,label='NAW Only')\n",
    "ax.set_xlabel('Number of Awakenings')\n",
    "\n",
    "for ax in axes:\n",
    "    ax.set_ylim([-0.1,1.1])\n",
    "    ax.set_yticks([0,1])\n",
    "\n",
    "plt.subplots_adjust(hspace=0.2)\n",
    "plt.show()\n",
    "plt.close()\n"
   ]
  },
  {
   "cell_type": "markdown",
   "metadata": {},
   "source": [
    "#### TST Only\n",
    "Since TST seems to be the greatest predictor, we can create a model that takes into account only this parameter."
   ]
  },
  {
   "cell_type": "code",
   "execution_count": 108,
   "metadata": {},
   "outputs": [
    {
     "name": "stdout",
     "output_type": "stream",
     "text": [
      "TST: 1.366\n",
      "Intercept: -6.906\n"
     ]
    }
   ],
   "source": [
    "# sklearn\n",
    "model = LogisticRegression()\n",
    "model.fit(x['tst'].values.reshape(-1, 1),y)\n",
    "\n",
    "print(f'TST:', round(model.coef_[0][0],3))\n",
    "print(f'Intercept: {round(model.intercept_[0],3)}')"
   ]
  },
  {
   "cell_type": "markdown",
   "metadata": {},
   "source": [
    "Similar results to when we included the other sleep metrics."
   ]
  }
 ],
 "metadata": {
  "kernelspec": {
   "display_name": "Python 3",
   "language": "python",
   "name": "python3"
  },
  "language_info": {
   "codemirror_mode": {
    "name": "ipython",
    "version": 3
   },
   "file_extension": ".py",
   "mimetype": "text/x-python",
   "name": "python",
   "nbconvert_exporter": "python",
   "pygments_lexer": "ipython3",
   "version": "3.7.0"
  },
  "toc": {
   "base_numbering": 1,
   "nav_menu": {},
   "number_sections": false,
   "sideBar": false,
   "skip_h1_title": false,
   "title_cell": "Table of Contents",
   "title_sidebar": "Contents",
   "toc_cell": false,
   "toc_position": {},
   "toc_section_display": false,
   "toc_window_display": false
  }
 },
 "nbformat": 4,
 "nbformat_minor": 4
}
