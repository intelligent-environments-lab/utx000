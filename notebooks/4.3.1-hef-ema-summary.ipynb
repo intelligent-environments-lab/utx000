{
 "cells": [
  {
   "cell_type": "markdown",
   "metadata": {},
   "source": [
    "# Exploring the UTx000 Extension EMA Data\n",
    "(See the [GH repo](https://github.com/intelligent-environments-lab/utx000))"
   ]
  },
  {
   "cell_type": "markdown",
   "metadata": {},
   "source": [
    "# EMA Summary\n",
    "In this notebook we look at the various EMA data with a focus on the sleep data from the morning EMAs."
   ]
  },
  {
   "cell_type": "code",
   "execution_count": 1,
   "metadata": {},
   "outputs": [],
   "source": [
    "import warnings\n",
    "warnings.filterwarnings('ignore')"
   ]
  },
  {
   "cell_type": "markdown",
   "metadata": {},
   "source": [
    "## Package Import"
   ]
  },
  {
   "cell_type": "code",
   "execution_count": 2,
   "metadata": {},
   "outputs": [],
   "source": [
    "import sys\n",
    "sys.path.append('../')\n",
    "\n",
    "from src.features import build_features\n",
    "from src.visualization import visualize\n",
    "from src.reports import make_report\n",
    "\n",
    "import pandas as pd\n",
    "import numpy as np\n",
    "import scipy.stats as st\n",
    "\n",
    "import matplotlib.pyplot as plt\n",
    "import seaborn as sns\n",
    "import matplotlib.dates as mdates\n",
    "from matplotlib import cm\n",
    "from matplotlib.colors import ListedColormap, LinearSegmentedColormap\n",
    "\n",
    "from datetime import datetime, timedelta\n",
    "import math"
   ]
  },
  {
   "cell_type": "markdown",
   "metadata": {},
   "source": [
    "## Data Import"
   ]
  },
  {
   "cell_type": "markdown",
   "metadata": {},
   "source": [
    "### Morning Survey Data"
   ]
  },
  {
   "cell_type": "code",
   "execution_count": 3,
   "metadata": {},
   "outputs": [
    {
     "data": {
      "text/html": [
       "<div>\n",
       "<style scoped>\n",
       "    .dataframe tbody tr th:only-of-type {\n",
       "        vertical-align: middle;\n",
       "    }\n",
       "\n",
       "    .dataframe tbody tr th {\n",
       "        vertical-align: top;\n",
       "    }\n",
       "\n",
       "    .dataframe thead th {\n",
       "        text-align: right;\n",
       "    }\n",
       "</style>\n",
       "<table border=\"1\" class=\"dataframe\">\n",
       "  <thead>\n",
       "    <tr style=\"text-align: right;\">\n",
       "      <th></th>\n",
       "      <th>beiwe</th>\n",
       "      <th>content</th>\n",
       "      <th>stress</th>\n",
       "      <th>lonely</th>\n",
       "      <th>sad</th>\n",
       "      <th>energy</th>\n",
       "      <th>tst</th>\n",
       "      <th>sol</th>\n",
       "      <th>naw</th>\n",
       "      <th>restful</th>\n",
       "      <th>redcap</th>\n",
       "      <th>beacon</th>\n",
       "    </tr>\n",
       "    <tr>\n",
       "      <th>timestamp</th>\n",
       "      <th></th>\n",
       "      <th></th>\n",
       "      <th></th>\n",
       "      <th></th>\n",
       "      <th></th>\n",
       "      <th></th>\n",
       "      <th></th>\n",
       "      <th></th>\n",
       "      <th></th>\n",
       "      <th></th>\n",
       "      <th></th>\n",
       "      <th></th>\n",
       "    </tr>\n",
       "  </thead>\n",
       "  <tbody>\n",
       "    <tr>\n",
       "      <th>2020-05-13 09:10:27</th>\n",
       "      <td>qh34m4r9</td>\n",
       "      <td>3</td>\n",
       "      <td>0.0</td>\n",
       "      <td>0.0</td>\n",
       "      <td>0.0</td>\n",
       "      <td>1.0</td>\n",
       "      <td>8.0</td>\n",
       "      <td>20.0</td>\n",
       "      <td>2.0</td>\n",
       "      <td>3.0</td>\n",
       "      <td>68</td>\n",
       "      <td>19.0</td>\n",
       "    </tr>\n",
       "    <tr>\n",
       "      <th>2020-05-13 09:15:49</th>\n",
       "      <td>awa8uces</td>\n",
       "      <td>0.0</td>\n",
       "      <td>2.0</td>\n",
       "      <td>1.0</td>\n",
       "      <td>1.0</td>\n",
       "      <td>1.0</td>\n",
       "      <td>2.0</td>\n",
       "      <td>10.0</td>\n",
       "      <td>3.0</td>\n",
       "      <td>1.0</td>\n",
       "      <td>28</td>\n",
       "      <td>26.0</td>\n",
       "    </tr>\n",
       "    <tr>\n",
       "      <th>2020-05-13 09:42:19</th>\n",
       "      <td>xxvnhauv</td>\n",
       "      <td>1</td>\n",
       "      <td>1.0</td>\n",
       "      <td>1.0</td>\n",
       "      <td>3.0</td>\n",
       "      <td>0.0</td>\n",
       "      <td>6.0</td>\n",
       "      <td>30.0</td>\n",
       "      <td>3.0</td>\n",
       "      <td>1.0</td>\n",
       "      <td>21</td>\n",
       "      <td>22.0</td>\n",
       "    </tr>\n",
       "    <tr>\n",
       "      <th>2020-05-13 09:43:27</th>\n",
       "      <td>rvhdl2la</td>\n",
       "      <td>1</td>\n",
       "      <td>1.0</td>\n",
       "      <td>2.0</td>\n",
       "      <td>3.0</td>\n",
       "      <td>0.0</td>\n",
       "      <td>5.3</td>\n",
       "      <td>5.0</td>\n",
       "      <td>2.0</td>\n",
       "      <td>2.0</td>\n",
       "      <td>29</td>\n",
       "      <td>NaN</td>\n",
       "    </tr>\n",
       "    <tr>\n",
       "      <th>2020-05-13 10:11:51</th>\n",
       "      <td>q5y11ytm</td>\n",
       "      <td>3</td>\n",
       "      <td>1.0</td>\n",
       "      <td>0.0</td>\n",
       "      <td>1.0</td>\n",
       "      <td>2.0</td>\n",
       "      <td>2.0</td>\n",
       "      <td>10.0</td>\n",
       "      <td>0.0</td>\n",
       "      <td>0.0</td>\n",
       "      <td>48</td>\n",
       "      <td>NaN</td>\n",
       "    </tr>\n",
       "  </tbody>\n",
       "</table>\n",
       "</div>"
      ],
      "text/plain": [
       "                        beiwe content  stress  lonely  sad  energy  tst   sol  \\\n",
       "timestamp                                                                       \n",
       "2020-05-13 09:10:27  qh34m4r9       3     0.0     0.0  0.0     1.0  8.0  20.0   \n",
       "2020-05-13 09:15:49  awa8uces     0.0     2.0     1.0  1.0     1.0  2.0  10.0   \n",
       "2020-05-13 09:42:19  xxvnhauv       1     1.0     1.0  3.0     0.0  6.0  30.0   \n",
       "2020-05-13 09:43:27  rvhdl2la       1     1.0     2.0  3.0     0.0  5.3   5.0   \n",
       "2020-05-13 10:11:51  q5y11ytm       3     1.0     0.0  1.0     2.0  2.0  10.0   \n",
       "\n",
       "                     naw  restful  redcap  beacon  \n",
       "timestamp                                          \n",
       "2020-05-13 09:10:27  2.0      3.0      68    19.0  \n",
       "2020-05-13 09:15:49  3.0      1.0      28    26.0  \n",
       "2020-05-13 09:42:19  3.0      1.0      21    22.0  \n",
       "2020-05-13 09:43:27  2.0      2.0      29     NaN  \n",
       "2020-05-13 10:11:51  0.0      0.0      48     NaN  "
      ]
     },
     "execution_count": 3,
     "metadata": {},
     "output_type": "execute_result"
    }
   ],
   "source": [
    "sleep_survey = pd.read_csv('../data/processed/beiwe-morning_ema-ux_s20.csv',\n",
    "                           index_col=0,parse_dates=True,infer_datetime_format=True)\n",
    "sleep_survey.head()"
   ]
  },
  {
   "cell_type": "markdown",
   "metadata": {},
   "source": [
    "### Evening Survey Data"
   ]
  },
  {
   "cell_type": "code",
   "execution_count": 4,
   "metadata": {},
   "outputs": [
    {
     "data": {
      "text/html": [
       "<div>\n",
       "<style scoped>\n",
       "    .dataframe tbody tr th:only-of-type {\n",
       "        vertical-align: middle;\n",
       "    }\n",
       "\n",
       "    .dataframe tbody tr th {\n",
       "        vertical-align: top;\n",
       "    }\n",
       "\n",
       "    .dataframe thead th {\n",
       "        text-align: right;\n",
       "    }\n",
       "</style>\n",
       "<table border=\"1\" class=\"dataframe\">\n",
       "  <thead>\n",
       "    <tr style=\"text-align: right;\">\n",
       "      <th></th>\n",
       "      <th>beiwe</th>\n",
       "      <th>content</th>\n",
       "      <th>stress</th>\n",
       "      <th>lonely</th>\n",
       "      <th>sad</th>\n",
       "      <th>energy</th>\n",
       "      <th>redcap</th>\n",
       "      <th>beacon</th>\n",
       "    </tr>\n",
       "    <tr>\n",
       "      <th>timestamp</th>\n",
       "      <th></th>\n",
       "      <th></th>\n",
       "      <th></th>\n",
       "      <th></th>\n",
       "      <th></th>\n",
       "      <th></th>\n",
       "      <th></th>\n",
       "      <th></th>\n",
       "    </tr>\n",
       "  </thead>\n",
       "  <tbody>\n",
       "    <tr>\n",
       "      <th>2020-05-13 19:00:23</th>\n",
       "      <td>awa8uces</td>\n",
       "      <td>1.0</td>\n",
       "      <td>1.0</td>\n",
       "      <td>1.0</td>\n",
       "      <td>3.0</td>\n",
       "      <td>2.0</td>\n",
       "      <td>28</td>\n",
       "      <td>26.0</td>\n",
       "    </tr>\n",
       "    <tr>\n",
       "      <th>2020-05-13 19:21:32</th>\n",
       "      <td>lkkjddam</td>\n",
       "      <td>0.0</td>\n",
       "      <td>2.0</td>\n",
       "      <td>3.0</td>\n",
       "      <td>1.0</td>\n",
       "      <td>0.0</td>\n",
       "      <td>12</td>\n",
       "      <td>21.0</td>\n",
       "    </tr>\n",
       "    <tr>\n",
       "      <th>2020-05-13 19:30:38</th>\n",
       "      <td>rvhdl2la</td>\n",
       "      <td>2.0</td>\n",
       "      <td>1.0</td>\n",
       "      <td>0.0</td>\n",
       "      <td>0.0</td>\n",
       "      <td>1.0</td>\n",
       "      <td>29</td>\n",
       "      <td>NaN</td>\n",
       "    </tr>\n",
       "    <tr>\n",
       "      <th>2020-05-13 20:07:04</th>\n",
       "      <td>xxvnhauv</td>\n",
       "      <td>1.0</td>\n",
       "      <td>3.0</td>\n",
       "      <td>1.0</td>\n",
       "      <td>2.0</td>\n",
       "      <td>0.0</td>\n",
       "      <td>21</td>\n",
       "      <td>22.0</td>\n",
       "    </tr>\n",
       "    <tr>\n",
       "      <th>2020-05-13 20:25:07</th>\n",
       "      <td>xdbdrk6e</td>\n",
       "      <td>2.0</td>\n",
       "      <td>1.0</td>\n",
       "      <td>2.0</td>\n",
       "      <td>1.0</td>\n",
       "      <td>3.0</td>\n",
       "      <td>23</td>\n",
       "      <td>24.0</td>\n",
       "    </tr>\n",
       "  </tbody>\n",
       "</table>\n",
       "</div>"
      ],
      "text/plain": [
       "                        beiwe  content  stress  lonely  sad  energy  redcap  \\\n",
       "timestamp                                                                     \n",
       "2020-05-13 19:00:23  awa8uces      1.0     1.0     1.0  3.0     2.0      28   \n",
       "2020-05-13 19:21:32  lkkjddam      0.0     2.0     3.0  1.0     0.0      12   \n",
       "2020-05-13 19:30:38  rvhdl2la      2.0     1.0     0.0  0.0     1.0      29   \n",
       "2020-05-13 20:07:04  xxvnhauv      1.0     3.0     1.0  2.0     0.0      21   \n",
       "2020-05-13 20:25:07  xdbdrk6e      2.0     1.0     2.0  1.0     3.0      23   \n",
       "\n",
       "                     beacon  \n",
       "timestamp                    \n",
       "2020-05-13 19:00:23    26.0  \n",
       "2020-05-13 19:21:32    21.0  \n",
       "2020-05-13 19:30:38     NaN  \n",
       "2020-05-13 20:07:04    22.0  \n",
       "2020-05-13 20:25:07    24.0  "
      ]
     },
     "execution_count": 4,
     "metadata": {},
     "output_type": "execute_result"
    }
   ],
   "source": [
    "evening_survey = pd.read_csv('../data/processed/beiwe-evening_ema-ux_s20.csv',\n",
    "                             index_col=0,parse_dates=True,infer_datetime_format=True)\n",
    "evening_survey.head()"
   ]
  },
  {
   "cell_type": "markdown",
   "metadata": {},
   "source": [
    "### Weekly Survey Data"
   ]
  },
  {
   "cell_type": "code",
   "execution_count": 5,
   "metadata": {},
   "outputs": [
    {
     "data": {
      "text/html": [
       "<div>\n",
       "<style scoped>\n",
       "    .dataframe tbody tr th:only-of-type {\n",
       "        vertical-align: middle;\n",
       "    }\n",
       "\n",
       "    .dataframe tbody tr th {\n",
       "        vertical-align: top;\n",
       "    }\n",
       "\n",
       "    .dataframe thead th {\n",
       "        text-align: right;\n",
       "    }\n",
       "</style>\n",
       "<table border=\"1\" class=\"dataframe\">\n",
       "  <thead>\n",
       "    <tr style=\"text-align: right;\">\n",
       "      <th></th>\n",
       "      <th>beiwe</th>\n",
       "      <th>upset</th>\n",
       "      <th>unable</th>\n",
       "      <th>stressed</th>\n",
       "      <th>confident</th>\n",
       "      <th>your_way</th>\n",
       "      <th>cope</th>\n",
       "      <th>able</th>\n",
       "      <th>top</th>\n",
       "      <th>angered</th>\n",
       "      <th>overcome</th>\n",
       "      <th>redcap</th>\n",
       "      <th>beacon</th>\n",
       "    </tr>\n",
       "    <tr>\n",
       "      <th>timestamp</th>\n",
       "      <th></th>\n",
       "      <th></th>\n",
       "      <th></th>\n",
       "      <th></th>\n",
       "      <th></th>\n",
       "      <th></th>\n",
       "      <th></th>\n",
       "      <th></th>\n",
       "      <th></th>\n",
       "      <th></th>\n",
       "      <th></th>\n",
       "      <th></th>\n",
       "      <th></th>\n",
       "    </tr>\n",
       "  </thead>\n",
       "  <tbody>\n",
       "    <tr>\n",
       "      <th>2020-05-14 11:29:37</th>\n",
       "      <td>hcpu5myv</td>\n",
       "      <td>2.0</td>\n",
       "      <td>2.0</td>\n",
       "      <td>2.0</td>\n",
       "      <td>2.0</td>\n",
       "      <td>2.0</td>\n",
       "      <td>1.0</td>\n",
       "      <td>2.0</td>\n",
       "      <td>1.0</td>\n",
       "      <td>1.0</td>\n",
       "      <td>1.0</td>\n",
       "      <td>27</td>\n",
       "      <td>41.0</td>\n",
       "    </tr>\n",
       "    <tr>\n",
       "      <th>2020-05-16 06:28:30</th>\n",
       "      <td>shi1ykro</td>\n",
       "      <td>2.0</td>\n",
       "      <td>0.0</td>\n",
       "      <td>3.0</td>\n",
       "      <td>3.0</td>\n",
       "      <td>2.0</td>\n",
       "      <td>0.0</td>\n",
       "      <td>4.0</td>\n",
       "      <td>1.0</td>\n",
       "      <td>0.0</td>\n",
       "      <td>0.0</td>\n",
       "      <td>44</td>\n",
       "      <td>NaN</td>\n",
       "    </tr>\n",
       "    <tr>\n",
       "      <th>2020-05-16 06:40:30</th>\n",
       "      <td>9xmhtq74</td>\n",
       "      <td>0.0</td>\n",
       "      <td>0.0</td>\n",
       "      <td>2.0</td>\n",
       "      <td>4.0</td>\n",
       "      <td>4.0</td>\n",
       "      <td>0.0</td>\n",
       "      <td>3.0</td>\n",
       "      <td>3.0</td>\n",
       "      <td>0.0</td>\n",
       "      <td>0.0</td>\n",
       "      <td>59</td>\n",
       "      <td>17.0</td>\n",
       "    </tr>\n",
       "    <tr>\n",
       "      <th>2020-05-16 07:38:51</th>\n",
       "      <td>awa8uces</td>\n",
       "      <td>3.0</td>\n",
       "      <td>3.0</td>\n",
       "      <td>4.0</td>\n",
       "      <td>2.0</td>\n",
       "      <td>2.0</td>\n",
       "      <td>3.0</td>\n",
       "      <td>2.0</td>\n",
       "      <td>1.0</td>\n",
       "      <td>1.0</td>\n",
       "      <td>4.0</td>\n",
       "      <td>28</td>\n",
       "      <td>26.0</td>\n",
       "    </tr>\n",
       "    <tr>\n",
       "      <th>2020-05-16 07:46:55</th>\n",
       "      <td>rvhdl2la</td>\n",
       "      <td>2.0</td>\n",
       "      <td>2.0</td>\n",
       "      <td>3.0</td>\n",
       "      <td>2.0</td>\n",
       "      <td>2.0</td>\n",
       "      <td>3.0</td>\n",
       "      <td>1.0</td>\n",
       "      <td>2.0</td>\n",
       "      <td>3.0</td>\n",
       "      <td>2.0</td>\n",
       "      <td>29</td>\n",
       "      <td>NaN</td>\n",
       "    </tr>\n",
       "  </tbody>\n",
       "</table>\n",
       "</div>"
      ],
      "text/plain": [
       "                        beiwe  upset  unable  stressed  confident  your_way  \\\n",
       "timestamp                                                                     \n",
       "2020-05-14 11:29:37  hcpu5myv    2.0     2.0       2.0        2.0       2.0   \n",
       "2020-05-16 06:28:30  shi1ykro    2.0     0.0       3.0        3.0       2.0   \n",
       "2020-05-16 06:40:30  9xmhtq74    0.0     0.0       2.0        4.0       4.0   \n",
       "2020-05-16 07:38:51  awa8uces    3.0     3.0       4.0        2.0       2.0   \n",
       "2020-05-16 07:46:55  rvhdl2la    2.0     2.0       3.0        2.0       2.0   \n",
       "\n",
       "                     cope  able  top  angered  overcome  redcap  beacon  \n",
       "timestamp                                                                \n",
       "2020-05-14 11:29:37   1.0   2.0  1.0      1.0       1.0      27    41.0  \n",
       "2020-05-16 06:28:30   0.0   4.0  1.0      0.0       0.0      44     NaN  \n",
       "2020-05-16 06:40:30   0.0   3.0  3.0      0.0       0.0      59    17.0  \n",
       "2020-05-16 07:38:51   3.0   2.0  1.0      1.0       4.0      28    26.0  \n",
       "2020-05-16 07:46:55   3.0   1.0  2.0      3.0       2.0      29     NaN  "
      ]
     },
     "execution_count": 5,
     "metadata": {},
     "output_type": "execute_result"
    }
   ],
   "source": [
    "weekly_survey = pd.read_csv('../data/processed/beiwe-weekly_ema-ux_s20.csv',index_col=0,parse_dates=True)\n",
    "weekly_survey.head()"
   ]
  },
  {
   "cell_type": "markdown",
   "metadata": {},
   "source": [
    "# Survey Data Overview\n",
    "Here we get a sense of the data we are using for the EMAs"
   ]
  },
  {
   "cell_type": "code",
   "execution_count": 6,
   "metadata": {},
   "outputs": [],
   "source": [
    "def limit_dataset(df,byvar=\"beacon\",id_list=range(0,51,1)):\n",
    "    \"\"\"limits datasets to only including observations from certain participants\"\"\"\n",
    "    return df[df[byvar].isin(id_list)]"
   ]
  },
  {
   "cell_type": "code",
   "execution_count": 7,
   "metadata": {},
   "outputs": [],
   "source": [
    "id_list=[1, 5, 6, 7, 10, 11, 15, 16, 17, 19, 21, 24, 25, 26, 28, 29, 34, 36, 38, 44]\n",
    "sleep_survey = limit_dataset(sleep_survey,id_list=id_list)\n",
    "evening_survey = limit_dataset(evening_survey,id_list=id_list)\n",
    "weekly_survey = limit_dataset(weekly_survey,id_list=id_list)"
   ]
  },
  {
   "cell_type": "markdown",
   "metadata": {},
   "source": [
    "## Available Data\n",
    "We can take a look at how many submission for a particular questions were made in addition to how many participants submitted at least one answer to that category."
   ]
  },
  {
   "cell_type": "code",
   "execution_count": 8,
   "metadata": {},
   "outputs": [
    {
     "name": "stdout",
     "output_type": "stream",
     "text": [
      "Working for Morning EMAs - Total of 1086\n",
      "\t1079\tcontent\t20 participants\n",
      "\t1078\tstress\t20 participants\n",
      "\t1078\tlonely\t20 participants\n",
      "\t1076\tsad\t20 participants\n",
      "\t1079\tenergy\t20 participants\n",
      "\t1078\ttst\t20 participants\n",
      "\t1076\tsol\t20 participants\n",
      "\t1078\tnaw\t20 participants\n",
      "\t1075\trestful\t20 participants\n",
      "\t1086\tredcap\t20 participants\n",
      "\t1086\tbeacon\t20 participants\n",
      "Working for Evening EMAs - Total of 1066\n",
      "\t1046\tcontent\t20 participants\n",
      "\t1047\tstress\t20 participants\n",
      "\t1047\tlonely\t20 participants\n",
      "\t1050\tsad\t20 participants\n",
      "\t1049\tenergy\t20 participants\n",
      "\t1066\tredcap\t20 participants\n",
      "\t1066\tbeacon\t20 participants\n",
      "Working for Weekly EMAs - Total of 306\n",
      "\t306\tupset\t20 participants\n",
      "\t305\tunable\t20 participants\n",
      "\t305\tstressed\t20 participants\n",
      "\t305\tconfident\t20 participants\n",
      "\t305\tyour_way\t20 participants\n",
      "\t304\tcope\t20 participants\n",
      "\t305\table\t20 participants\n",
      "\t305\ttop\t20 participants\n",
      "\t304\tangered\t20 participants\n",
      "\t302\tovercome\t20 participants\n",
      "\t306\tredcap\t20 participants\n",
      "\t306\tbeacon\t20 participants\n"
     ]
    }
   ],
   "source": [
    "for df, survey_type in zip([sleep_survey,evening_survey,weekly_survey],[\"Morning\",\"Evening\",\"Weekly\"]):\n",
    "    print(f\"Working for {survey_type} EMAs - Total of\",len(df))\n",
    "    for col in df.columns:\n",
    "        if col not in [\"beiwe\",\"DoW\"]:\n",
    "            temp = df[[\"beiwe\",col]]\n",
    "            temp.dropna(subset=[col],inplace=True)\n",
    "            n_responses = len(temp)\n",
    "            n_pts = len(temp[\"beiwe\"].unique())\n",
    "            print(f\"\\t{n_responses}\\t{col}\\t{n_pts} participants\")"
   ]
  },
  {
   "cell_type": "markdown",
   "metadata": {},
   "source": [
    "## Submission\n",
    "Various aspects related to the participants' submissions are summarized below"
   ]
  },
  {
   "cell_type": "markdown",
   "metadata": {},
   "source": [
    "### Time Frame"
   ]
  },
  {
   "cell_type": "markdown",
   "metadata": {},
   "source": [
    "It is important to note that the survey period has been restricted from datetime(2020,5,13) to datetime(2020,9,1) since the corrected surveys were sent out on May 13th and the first appointment to return devices was on September 1st. We can check that assumption here by checking the earliest and latest date:"
   ]
  },
  {
   "cell_type": "code",
   "execution_count": 9,
   "metadata": {},
   "outputs": [
    {
     "name": "stdout",
     "output_type": "stream",
     "text": [
      "Earliest Submission: 2020-05-13 09:10:27\n",
      "Last Submission 2020-09-01 14:14:17\n"
     ]
    }
   ],
   "source": [
    "temp = sleep_survey.sort_index()\n",
    "print(\"Earliest Submission:\", temp.index[0])\n",
    "print(\"Last Submission\", temp.index[-1])\n",
    "first_date = temp.index[0] - timedelta(days=1)\n",
    "end_date = temp.index[-1]"
   ]
  },
  {
   "cell_type": "markdown",
   "metadata": {},
   "source": [
    "<div class=\"alert alert-block alert-success\">\n",
    "    Submission dates match the study window\n",
    "</div>"
   ]
  },
  {
   "cell_type": "markdown",
   "metadata": {},
   "source": [
    "### Possible Submissions\n",
    "Based on the time frame of EMA submission, we can determine the maximum amount of surveys that might have been submitted by counting the weekdays that those EMAs were sent out on."
   ]
  },
  {
   "cell_type": "code",
   "execution_count": 10,
   "metadata": {},
   "outputs": [
    {
     "name": "stdout",
     "output_type": "stream",
     "text": [
      "Maximum \"Daily\" Surveys: 65\n",
      "Total number of morning surveys: 1086\n",
      "Total number of evening surveys: 1066\n",
      "Maximum Weekly Surveys: 16\n",
      "Total number of weekly surveys: 306\n"
     ]
    }
   ],
   "source": [
    "maxDailySurveys = np.busday_count(first_date.date(), end_date.date(), weekmask='Mon Wed Fri Sun') + 1\n",
    "print(f'Maximum \\\"Daily\\\" Surveys: {maxDailySurveys}')\n",
    "print(\"Total number of morning surveys:\", len(sleep_survey))\n",
    "print(\"Total number of evening surveys:\", len(evening_survey))\n",
    "maxWeeklySurveys = np.busday_count(first_date.date(), end_date.date(), weekmask='Sat')\n",
    "print(f'Maximum Weekly Surveys: {maxWeeklySurveys}')\n",
    "print(\"Total number of weekly surveys:\", len(weekly_survey))"
   ]
  },
  {
   "cell_type": "code",
   "execution_count": 11,
   "metadata": {},
   "outputs": [],
   "source": [
    "def get_number_surveys_submitted(df):\n",
    "    \"\"\"\n",
    "    Gets the number of submissions per participant\n",
    "    \"\"\"\n",
    "    df.sort_values(\"beiwe\",inplace=True)\n",
    "    temp_dict = {\"beiwe\":[],\"n\":[]}\n",
    "    new_df = pd.DataFrame()\n",
    "    for pt in df['beiwe'].unique():\n",
    "        survey_by_pt = df[df['beiwe'] == pt]\n",
    "        # adding to original df\n",
    "        survey_by_pt[\"n\"] = len(survey_by_pt)\n",
    "        new_df = new_df.append(survey_by_pt)\n",
    "        # adding to new dictionary\n",
    "        temp_dict[\"beiwe\"].append(pt)\n",
    "        temp_dict[\"n\"].append(len(survey_by_pt))\n",
    "\n",
    "    return new_df.sort_values(\"n\",ascending=False), pd.DataFrame(temp_dict).sort_values(\"n\",ascending=False)"
   ]
  },
  {
   "cell_type": "markdown",
   "metadata": {},
   "source": [
    "Knowing these are the maximum possible submissions, now we can look at the total number of morning and evening survyes that were submitted by each participant."
   ]
  },
  {
   "cell_type": "code",
   "execution_count": 41,
   "metadata": {},
   "outputs": [],
   "source": [
    "def plot_total_submissions(morning=sleep_survey, evening=evening_survey, max_daily_surveys=maxDailySurveys, first_date=first_date, end_date=end_date, by_id=\"beacon\", save=False):\n",
    "    \"\"\"\n",
    "    Plots the number of surveys submitted for morning and evening\n",
    "    \"\"\"\n",
    "    legend_fs = 22\n",
    "    tick_fs = 24\n",
    "    label_fs = 26\n",
    "    title_fs = 32\n",
    "    fig, ax = plt.subplots(figsize=(16,5))\n",
    "    temp_dict = {by_id:[],\"orange\":[],\"black\":[]}\n",
    "    morning.sort_values(by_id,inplace=True)\n",
    "    evening.sort_values(by_id,inplace=True)\n",
    "    for df, color, size in zip([morning,evening],['orange','black'],[100,50]):\n",
    "        # Looping through beacon participants only\n",
    "        for beiwe in df[by_id].unique():\n",
    "            survey_by_beiwe = df[df[by_id] == beiwe]\n",
    "            survey_by_beiwe = survey_by_beiwe.sort_index()[first_date.date():end_date.date()]\n",
    "            temp_dict[color].append(len(survey_by_beiwe))\n",
    "\n",
    "    temp_dict[by_id] = df[by_id].unique()\n",
    "    df_to_plot = pd.DataFrame(temp_dict)\n",
    "    df_to_plot[by_id] = df_to_plot[by_id].astype(str)\n",
    "    df_to_plot.sort_values(\"orange\",ascending=False,inplace=True)\n",
    "    df_to_plot.set_index(by_id,inplace=True)\n",
    "    for color, size, label in zip(df_to_plot.columns,[100,50],[\"Morning\",\"Evening\"]):\n",
    "        # scattering number of surveys submitted per participant\n",
    "        ax.scatter(df_to_plot.index,df_to_plot[color]/max_daily_surveys*100,s=size,color=color,label=label,zorder=10)\n",
    "        \n",
    "    # Average Line\n",
    "    ax.axhline(np.mean(df_to_plot[\"black\"])/max_daily_surveys*100,color=\"black\",linewidth=2,linestyle=\"dashed\",zorder=2)\n",
    "    print(np.mean(df_to_plot[\"black\"])/max_daily_surveys*100)\n",
    "    ax.axhline(np.mean(df_to_plot[\"orange\"])/max_daily_surveys*100,color=\"orange\",linewidth=2,linestyle=\"dashed\",zorder=1)\n",
    "    print(np.mean(df_to_plot[\"orange\"])/max_daily_surveys*100)\n",
    "    \n",
    "    # y-axis\n",
    "    ax.set_yticks(np.arange(0,110,10))\n",
    "    ax.set_ylabel(\"Percent of Possible\\nSurveys Submitted\",fontsize=label_fs)\n",
    "    plt.setp(ax.get_yticklabels(), ha=\"right\", rotation=0, fontsize=tick_fs)\n",
    "    # x-axis\n",
    "    ax.set_xticks(df_to_plot.index.unique())\n",
    "    ax.set_xticklabels([num[:-2] for num in df_to_plot.index.unique()], ha=\"center\", rotation=0, fontsize=tick_fs-4)\n",
    "    ax.set_xlabel(\"Participant ID\",fontsize=label_fs)\n",
    "    \n",
    "    #ax.legend(frameon=False,fontsize=legend_fs,title=\"EMA Timing\",title_fontsize=legend_fs)\n",
    "    for loc in [\"top\",\"right\"]:\n",
    "        ax.spines[loc].set_visible(False)\n",
    "    if save:\n",
    "        plt.savefig('../../papers/5eea5276044b790001ee5687/figures/beiwe-number_weekly_surveys_ordered-ux_s20.pdf',bbox_inches=\"tight\")\n",
    "    plt.show()\n",
    "    plt.close()\n",
    "    return df_to_plot"
   ]
  },
  {
   "cell_type": "code",
   "execution_count": 42,
   "metadata": {},
   "outputs": [
    {
     "name": "stdout",
     "output_type": "stream",
     "text": [
      "81.61538461538461\n",
      "83.38461538461539\n"
     ]
    },
    {
     "data": {
      "image/png": "[encoded data removed]",
      "text/plain": [
       "<Figure size 1152x360 with 1 Axes>"
      ]
     },
     "metadata": {
      "needs_background": "light"
     },
     "output_type": "display_data"
    }
   ],
   "source": [
    "temp = plot_total_submissions(save=True)"
   ]
  },
  {
   "cell_type": "code",
   "execution_count": 89,
   "metadata": {},
   "outputs": [
    {
     "data": {
      "text/html": [
       "<div>\n",
       "<style scoped>\n",
       "    .dataframe tbody tr th:only-of-type {\n",
       "        vertical-align: middle;\n",
       "    }\n",
       "\n",
       "    .dataframe tbody tr th {\n",
       "        vertical-align: top;\n",
       "    }\n",
       "\n",
       "    .dataframe thead th {\n",
       "        text-align: right;\n",
       "    }\n",
       "</style>\n",
       "<table border=\"1\" class=\"dataframe\">\n",
       "  <thead>\n",
       "    <tr style=\"text-align: right;\">\n",
       "      <th></th>\n",
       "      <th>beiwe</th>\n",
       "      <th>content</th>\n",
       "      <th>stress</th>\n",
       "      <th>lonely</th>\n",
       "      <th>sad</th>\n",
       "      <th>energy</th>\n",
       "      <th>redcap</th>\n",
       "    </tr>\n",
       "    <tr>\n",
       "      <th>beacon</th>\n",
       "      <th></th>\n",
       "      <th></th>\n",
       "      <th></th>\n",
       "      <th></th>\n",
       "      <th></th>\n",
       "      <th></th>\n",
       "      <th></th>\n",
       "    </tr>\n",
       "  </thead>\n",
       "  <tbody>\n",
       "    <tr>\n",
       "      <th>16.0</th>\n",
       "      <td>10</td>\n",
       "      <td>10</td>\n",
       "      <td>10</td>\n",
       "      <td>10</td>\n",
       "      <td>10</td>\n",
       "      <td>10</td>\n",
       "      <td>10</td>\n",
       "    </tr>\n",
       "    <tr>\n",
       "      <th>44.0</th>\n",
       "      <td>38</td>\n",
       "      <td>31</td>\n",
       "      <td>31</td>\n",
       "      <td>31</td>\n",
       "      <td>31</td>\n",
       "      <td>31</td>\n",
       "      <td>38</td>\n",
       "    </tr>\n",
       "    <tr>\n",
       "      <th>7.0</th>\n",
       "      <td>44</td>\n",
       "      <td>37</td>\n",
       "      <td>37</td>\n",
       "      <td>37</td>\n",
       "      <td>37</td>\n",
       "      <td>37</td>\n",
       "      <td>44</td>\n",
       "    </tr>\n",
       "    <tr>\n",
       "      <th>10.0</th>\n",
       "      <td>43</td>\n",
       "      <td>41</td>\n",
       "      <td>43</td>\n",
       "      <td>43</td>\n",
       "      <td>43</td>\n",
       "      <td>43</td>\n",
       "      <td>43</td>\n",
       "    </tr>\n",
       "    <tr>\n",
       "      <th>38.0</th>\n",
       "      <td>45</td>\n",
       "      <td>45</td>\n",
       "      <td>45</td>\n",
       "      <td>45</td>\n",
       "      <td>45</td>\n",
       "      <td>45</td>\n",
       "      <td>45</td>\n",
       "    </tr>\n",
       "    <tr>\n",
       "      <th>1.0</th>\n",
       "      <td>48</td>\n",
       "      <td>47</td>\n",
       "      <td>48</td>\n",
       "      <td>47</td>\n",
       "      <td>48</td>\n",
       "      <td>47</td>\n",
       "      <td>48</td>\n",
       "    </tr>\n",
       "    <tr>\n",
       "      <th>11.0</th>\n",
       "      <td>52</td>\n",
       "      <td>52</td>\n",
       "      <td>52</td>\n",
       "      <td>52</td>\n",
       "      <td>52</td>\n",
       "      <td>52</td>\n",
       "      <td>52</td>\n",
       "    </tr>\n",
       "    <tr>\n",
       "      <th>6.0</th>\n",
       "      <td>53</td>\n",
       "      <td>53</td>\n",
       "      <td>53</td>\n",
       "      <td>53</td>\n",
       "      <td>53</td>\n",
       "      <td>53</td>\n",
       "      <td>53</td>\n",
       "    </tr>\n",
       "    <tr>\n",
       "      <th>15.0</th>\n",
       "      <td>54</td>\n",
       "      <td>54</td>\n",
       "      <td>54</td>\n",
       "      <td>54</td>\n",
       "      <td>54</td>\n",
       "      <td>54</td>\n",
       "      <td>54</td>\n",
       "    </tr>\n",
       "    <tr>\n",
       "      <th>5.0</th>\n",
       "      <td>55</td>\n",
       "      <td>55</td>\n",
       "      <td>55</td>\n",
       "      <td>55</td>\n",
       "      <td>55</td>\n",
       "      <td>54</td>\n",
       "      <td>55</td>\n",
       "    </tr>\n",
       "    <tr>\n",
       "      <th>24.0</th>\n",
       "      <td>58</td>\n",
       "      <td>57</td>\n",
       "      <td>56</td>\n",
       "      <td>57</td>\n",
       "      <td>57</td>\n",
       "      <td>57</td>\n",
       "      <td>58</td>\n",
       "    </tr>\n",
       "    <tr>\n",
       "      <th>34.0</th>\n",
       "      <td>57</td>\n",
       "      <td>57</td>\n",
       "      <td>57</td>\n",
       "      <td>57</td>\n",
       "      <td>57</td>\n",
       "      <td>57</td>\n",
       "      <td>57</td>\n",
       "    </tr>\n",
       "    <tr>\n",
       "      <th>17.0</th>\n",
       "      <td>62</td>\n",
       "      <td>62</td>\n",
       "      <td>61</td>\n",
       "      <td>60</td>\n",
       "      <td>61</td>\n",
       "      <td>62</td>\n",
       "      <td>62</td>\n",
       "    </tr>\n",
       "    <tr>\n",
       "      <th>25.0</th>\n",
       "      <td>63</td>\n",
       "      <td>63</td>\n",
       "      <td>63</td>\n",
       "      <td>63</td>\n",
       "      <td>63</td>\n",
       "      <td>63</td>\n",
       "      <td>63</td>\n",
       "    </tr>\n",
       "    <tr>\n",
       "      <th>28.0</th>\n",
       "      <td>64</td>\n",
       "      <td>63</td>\n",
       "      <td>64</td>\n",
       "      <td>64</td>\n",
       "      <td>64</td>\n",
       "      <td>64</td>\n",
       "      <td>64</td>\n",
       "    </tr>\n",
       "    <tr>\n",
       "      <th>29.0</th>\n",
       "      <td>64</td>\n",
       "      <td>63</td>\n",
       "      <td>63</td>\n",
       "      <td>64</td>\n",
       "      <td>64</td>\n",
       "      <td>64</td>\n",
       "      <td>64</td>\n",
       "    </tr>\n",
       "    <tr>\n",
       "      <th>36.0</th>\n",
       "      <td>63</td>\n",
       "      <td>63</td>\n",
       "      <td>63</td>\n",
       "      <td>63</td>\n",
       "      <td>63</td>\n",
       "      <td>63</td>\n",
       "      <td>63</td>\n",
       "    </tr>\n",
       "    <tr>\n",
       "      <th>21.0</th>\n",
       "      <td>64</td>\n",
       "      <td>64</td>\n",
       "      <td>63</td>\n",
       "      <td>63</td>\n",
       "      <td>64</td>\n",
       "      <td>64</td>\n",
       "      <td>64</td>\n",
       "    </tr>\n",
       "    <tr>\n",
       "      <th>19.0</th>\n",
       "      <td>64</td>\n",
       "      <td>64</td>\n",
       "      <td>64</td>\n",
       "      <td>64</td>\n",
       "      <td>64</td>\n",
       "      <td>64</td>\n",
       "      <td>64</td>\n",
       "    </tr>\n",
       "    <tr>\n",
       "      <th>26.0</th>\n",
       "      <td>65</td>\n",
       "      <td>65</td>\n",
       "      <td>65</td>\n",
       "      <td>65</td>\n",
       "      <td>65</td>\n",
       "      <td>65</td>\n",
       "      <td>65</td>\n",
       "    </tr>\n",
       "  </tbody>\n",
       "</table>\n",
       "</div>"
      ],
      "text/plain": [
       "        beiwe  content  stress  lonely  sad  energy  redcap\n",
       "beacon                                                     \n",
       "16.0       10       10      10      10   10      10      10\n",
       "44.0       38       31      31      31   31      31      38\n",
       "7.0        44       37      37      37   37      37      44\n",
       "10.0       43       41      43      43   43      43      43\n",
       "38.0       45       45      45      45   45      45      45\n",
       "1.0        48       47      48      47   48      47      48\n",
       "11.0       52       52      52      52   52      52      52\n",
       "6.0        53       53      53      53   53      53      53\n",
       "15.0       54       54      54      54   54      54      54\n",
       "5.0        55       55      55      55   55      54      55\n",
       "24.0       58       57      56      57   57      57      58\n",
       "34.0       57       57      57      57   57      57      57\n",
       "17.0       62       62      61      60   61      62      62\n",
       "25.0       63       63      63      63   63      63      63\n",
       "28.0       64       63      64      64   64      64      64\n",
       "29.0       64       63      63      64   64      64      64\n",
       "36.0       63       63      63      63   63      63      63\n",
       "21.0       64       64      63      63   64      64      64\n",
       "19.0       64       64      64      64   64      64      64\n",
       "26.0       65       65      65      65   65      65      65"
      ]
     },
     "execution_count": 89,
     "metadata": {},
     "output_type": "execute_result"
    }
   ],
   "source": [
    "evening_survey.groupby([\"beacon\"]).count().sort_values([\"content\"])"
   ]
  },
  {
   "cell_type": "code",
   "execution_count": 87,
   "metadata": {},
   "outputs": [
    {
     "data": {
      "text/html": [
       "<div>\n",
       "<style scoped>\n",
       "    .dataframe tbody tr th:only-of-type {\n",
       "        vertical-align: middle;\n",
       "    }\n",
       "\n",
       "    .dataframe tbody tr th {\n",
       "        vertical-align: top;\n",
       "    }\n",
       "\n",
       "    .dataframe thead th {\n",
       "        text-align: right;\n",
       "    }\n",
       "</style>\n",
       "<table border=\"1\" class=\"dataframe\">\n",
       "  <thead>\n",
       "    <tr style=\"text-align: right;\">\n",
       "      <th></th>\n",
       "      <th>beiwe</th>\n",
       "      <th>content</th>\n",
       "      <th>stress</th>\n",
       "      <th>lonely</th>\n",
       "      <th>sad</th>\n",
       "      <th>energy</th>\n",
       "      <th>tst</th>\n",
       "      <th>sol</th>\n",
       "      <th>naw</th>\n",
       "      <th>restful</th>\n",
       "      <th>redcap</th>\n",
       "    </tr>\n",
       "    <tr>\n",
       "      <th>beacon</th>\n",
       "      <th></th>\n",
       "      <th></th>\n",
       "      <th></th>\n",
       "      <th></th>\n",
       "      <th></th>\n",
       "      <th></th>\n",
       "      <th></th>\n",
       "      <th></th>\n",
       "      <th></th>\n",
       "      <th></th>\n",
       "      <th></th>\n",
       "    </tr>\n",
       "  </thead>\n",
       "  <tbody>\n",
       "    <tr>\n",
       "      <th>16.0</th>\n",
       "      <td>10</td>\n",
       "      <td>9</td>\n",
       "      <td>9</td>\n",
       "      <td>9</td>\n",
       "      <td>9</td>\n",
       "      <td>9</td>\n",
       "      <td>9</td>\n",
       "      <td>9</td>\n",
       "      <td>9</td>\n",
       "      <td>9</td>\n",
       "      <td>10</td>\n",
       "    </tr>\n",
       "    <tr>\n",
       "      <th>10.0</th>\n",
       "      <td>43</td>\n",
       "      <td>43</td>\n",
       "      <td>43</td>\n",
       "      <td>43</td>\n",
       "      <td>43</td>\n",
       "      <td>43</td>\n",
       "      <td>43</td>\n",
       "      <td>43</td>\n",
       "      <td>43</td>\n",
       "      <td>43</td>\n",
       "      <td>43</td>\n",
       "    </tr>\n",
       "    <tr>\n",
       "      <th>44.0</th>\n",
       "      <td>47</td>\n",
       "      <td>44</td>\n",
       "      <td>44</td>\n",
       "      <td>44</td>\n",
       "      <td>44</td>\n",
       "      <td>44</td>\n",
       "      <td>44</td>\n",
       "      <td>44</td>\n",
       "      <td>44</td>\n",
       "      <td>44</td>\n",
       "      <td>47</td>\n",
       "    </tr>\n",
       "    <tr>\n",
       "      <th>38.0</th>\n",
       "      <td>48</td>\n",
       "      <td>48</td>\n",
       "      <td>48</td>\n",
       "      <td>48</td>\n",
       "      <td>48</td>\n",
       "      <td>48</td>\n",
       "      <td>48</td>\n",
       "      <td>48</td>\n",
       "      <td>48</td>\n",
       "      <td>48</td>\n",
       "      <td>48</td>\n",
       "    </tr>\n",
       "    <tr>\n",
       "      <th>1.0</th>\n",
       "      <td>50</td>\n",
       "      <td>48</td>\n",
       "      <td>49</td>\n",
       "      <td>50</td>\n",
       "      <td>48</td>\n",
       "      <td>50</td>\n",
       "      <td>49</td>\n",
       "      <td>50</td>\n",
       "      <td>50</td>\n",
       "      <td>48</td>\n",
       "      <td>50</td>\n",
       "    </tr>\n",
       "    <tr>\n",
       "      <th>6.0</th>\n",
       "      <td>50</td>\n",
       "      <td>50</td>\n",
       "      <td>50</td>\n",
       "      <td>50</td>\n",
       "      <td>50</td>\n",
       "      <td>50</td>\n",
       "      <td>50</td>\n",
       "      <td>50</td>\n",
       "      <td>50</td>\n",
       "      <td>50</td>\n",
       "      <td>50</td>\n",
       "    </tr>\n",
       "    <tr>\n",
       "      <th>7.0</th>\n",
       "      <td>50</td>\n",
       "      <td>50</td>\n",
       "      <td>50</td>\n",
       "      <td>50</td>\n",
       "      <td>50</td>\n",
       "      <td>50</td>\n",
       "      <td>50</td>\n",
       "      <td>50</td>\n",
       "      <td>50</td>\n",
       "      <td>50</td>\n",
       "      <td>50</td>\n",
       "    </tr>\n",
       "    <tr>\n",
       "      <th>11.0</th>\n",
       "      <td>55</td>\n",
       "      <td>54</td>\n",
       "      <td>54</td>\n",
       "      <td>53</td>\n",
       "      <td>54</td>\n",
       "      <td>54</td>\n",
       "      <td>54</td>\n",
       "      <td>54</td>\n",
       "      <td>54</td>\n",
       "      <td>54</td>\n",
       "      <td>55</td>\n",
       "    </tr>\n",
       "    <tr>\n",
       "      <th>15.0</th>\n",
       "      <td>54</td>\n",
       "      <td>54</td>\n",
       "      <td>54</td>\n",
       "      <td>54</td>\n",
       "      <td>54</td>\n",
       "      <td>54</td>\n",
       "      <td>54</td>\n",
       "      <td>54</td>\n",
       "      <td>54</td>\n",
       "      <td>54</td>\n",
       "      <td>54</td>\n",
       "    </tr>\n",
       "    <tr>\n",
       "      <th>5.0</th>\n",
       "      <td>56</td>\n",
       "      <td>56</td>\n",
       "      <td>56</td>\n",
       "      <td>56</td>\n",
       "      <td>56</td>\n",
       "      <td>56</td>\n",
       "      <td>56</td>\n",
       "      <td>55</td>\n",
       "      <td>55</td>\n",
       "      <td>54</td>\n",
       "      <td>56</td>\n",
       "    </tr>\n",
       "    <tr>\n",
       "      <th>24.0</th>\n",
       "      <td>57</td>\n",
       "      <td>57</td>\n",
       "      <td>57</td>\n",
       "      <td>57</td>\n",
       "      <td>56</td>\n",
       "      <td>56</td>\n",
       "      <td>56</td>\n",
       "      <td>57</td>\n",
       "      <td>56</td>\n",
       "      <td>57</td>\n",
       "      <td>57</td>\n",
       "    </tr>\n",
       "    <tr>\n",
       "      <th>34.0</th>\n",
       "      <td>58</td>\n",
       "      <td>58</td>\n",
       "      <td>58</td>\n",
       "      <td>58</td>\n",
       "      <td>58</td>\n",
       "      <td>58</td>\n",
       "      <td>58</td>\n",
       "      <td>58</td>\n",
       "      <td>58</td>\n",
       "      <td>58</td>\n",
       "      <td>58</td>\n",
       "    </tr>\n",
       "    <tr>\n",
       "      <th>17.0</th>\n",
       "      <td>62</td>\n",
       "      <td>62</td>\n",
       "      <td>60</td>\n",
       "      <td>61</td>\n",
       "      <td>60</td>\n",
       "      <td>61</td>\n",
       "      <td>61</td>\n",
       "      <td>60</td>\n",
       "      <td>62</td>\n",
       "      <td>60</td>\n",
       "      <td>62</td>\n",
       "    </tr>\n",
       "    <tr>\n",
       "      <th>36.0</th>\n",
       "      <td>61</td>\n",
       "      <td>61</td>\n",
       "      <td>61</td>\n",
       "      <td>61</td>\n",
       "      <td>61</td>\n",
       "      <td>61</td>\n",
       "      <td>61</td>\n",
       "      <td>61</td>\n",
       "      <td>61</td>\n",
       "      <td>61</td>\n",
       "      <td>61</td>\n",
       "    </tr>\n",
       "    <tr>\n",
       "      <th>25.0</th>\n",
       "      <td>63</td>\n",
       "      <td>63</td>\n",
       "      <td>63</td>\n",
       "      <td>63</td>\n",
       "      <td>63</td>\n",
       "      <td>63</td>\n",
       "      <td>63</td>\n",
       "      <td>63</td>\n",
       "      <td>63</td>\n",
       "      <td>63</td>\n",
       "      <td>63</td>\n",
       "    </tr>\n",
       "    <tr>\n",
       "      <th>28.0</th>\n",
       "      <td>64</td>\n",
       "      <td>64</td>\n",
       "      <td>64</td>\n",
       "      <td>63</td>\n",
       "      <td>64</td>\n",
       "      <td>64</td>\n",
       "      <td>64</td>\n",
       "      <td>63</td>\n",
       "      <td>64</td>\n",
       "      <td>64</td>\n",
       "      <td>64</td>\n",
       "    </tr>\n",
       "    <tr>\n",
       "      <th>29.0</th>\n",
       "      <td>64</td>\n",
       "      <td>64</td>\n",
       "      <td>64</td>\n",
       "      <td>64</td>\n",
       "      <td>64</td>\n",
       "      <td>64</td>\n",
       "      <td>64</td>\n",
       "      <td>63</td>\n",
       "      <td>64</td>\n",
       "      <td>64</td>\n",
       "      <td>64</td>\n",
       "    </tr>\n",
       "    <tr>\n",
       "      <th>19.0</th>\n",
       "      <td>64</td>\n",
       "      <td>64</td>\n",
       "      <td>64</td>\n",
       "      <td>64</td>\n",
       "      <td>64</td>\n",
       "      <td>64</td>\n",
       "      <td>64</td>\n",
       "      <td>64</td>\n",
       "      <td>64</td>\n",
       "      <td>64</td>\n",
       "      <td>64</td>\n",
       "    </tr>\n",
       "    <tr>\n",
       "      <th>21.0</th>\n",
       "      <td>65</td>\n",
       "      <td>65</td>\n",
       "      <td>65</td>\n",
       "      <td>65</td>\n",
       "      <td>65</td>\n",
       "      <td>65</td>\n",
       "      <td>65</td>\n",
       "      <td>65</td>\n",
       "      <td>65</td>\n",
       "      <td>65</td>\n",
       "      <td>65</td>\n",
       "    </tr>\n",
       "    <tr>\n",
       "      <th>26.0</th>\n",
       "      <td>65</td>\n",
       "      <td>65</td>\n",
       "      <td>65</td>\n",
       "      <td>65</td>\n",
       "      <td>65</td>\n",
       "      <td>65</td>\n",
       "      <td>65</td>\n",
       "      <td>65</td>\n",
       "      <td>64</td>\n",
       "      <td>65</td>\n",
       "      <td>65</td>\n",
       "    </tr>\n",
       "  </tbody>\n",
       "</table>\n",
       "</div>"
      ],
      "text/plain": [
       "        beiwe  content  stress  lonely  sad  energy  tst  sol  naw  restful  \\\n",
       "beacon                                                                        \n",
       "16.0       10        9       9       9    9       9    9    9    9        9   \n",
       "10.0       43       43      43      43   43      43   43   43   43       43   \n",
       "44.0       47       44      44      44   44      44   44   44   44       44   \n",
       "38.0       48       48      48      48   48      48   48   48   48       48   \n",
       "1.0        50       48      49      50   48      50   49   50   50       48   \n",
       "6.0        50       50      50      50   50      50   50   50   50       50   \n",
       "7.0        50       50      50      50   50      50   50   50   50       50   \n",
       "11.0       55       54      54      53   54      54   54   54   54       54   \n",
       "15.0       54       54      54      54   54      54   54   54   54       54   \n",
       "5.0        56       56      56      56   56      56   56   55   55       54   \n",
       "24.0       57       57      57      57   56      56   56   57   56       57   \n",
       "34.0       58       58      58      58   58      58   58   58   58       58   \n",
       "17.0       62       62      60      61   60      61   61   60   62       60   \n",
       "36.0       61       61      61      61   61      61   61   61   61       61   \n",
       "25.0       63       63      63      63   63      63   63   63   63       63   \n",
       "28.0       64       64      64      63   64      64   64   63   64       64   \n",
       "29.0       64       64      64      64   64      64   64   63   64       64   \n",
       "19.0       64       64      64      64   64      64   64   64   64       64   \n",
       "21.0       65       65      65      65   65      65   65   65   65       65   \n",
       "26.0       65       65      65      65   65      65   65   65   64       65   \n",
       "\n",
       "        redcap  \n",
       "beacon          \n",
       "16.0        10  \n",
       "10.0        43  \n",
       "44.0        47  \n",
       "38.0        48  \n",
       "1.0         50  \n",
       "6.0         50  \n",
       "7.0         50  \n",
       "11.0        55  \n",
       "15.0        54  \n",
       "5.0         56  \n",
       "24.0        57  \n",
       "34.0        58  \n",
       "17.0        62  \n",
       "36.0        61  \n",
       "25.0        63  \n",
       "28.0        64  \n",
       "29.0        64  \n",
       "19.0        64  \n",
       "21.0        65  \n",
       "26.0        65  "
      ]
     },
     "execution_count": 87,
     "metadata": {},
     "output_type": "execute_result"
    }
   ],
   "source": [
    "sleep_survey.groupby([\"beacon\"]).count().sort_values([\"tst\"])"
   ]
  },
  {
   "cell_type": "markdown",
   "metadata": {},
   "source": [
    "<div class=\"alert alert-block alert-info\">\n",
    "    <b>Possible Submissions</b><br> There are two participants who managed to turn in all possible morning surveys for the and one of those participants also turned in all evening surveys. The average line for the morning and evening submission averages are given and are nearly identical.\n",
    "</div>"
   ]
  },
  {
   "cell_type": "markdown",
   "metadata": {},
   "source": [
    "### Submissions Over Time\n",
    "Here we look at the fallout and see how participation wanes during the study."
   ]
  },
  {
   "cell_type": "code",
   "execution_count": 13,
   "metadata": {},
   "outputs": [],
   "source": [
    "def plot_submission_timeline(morning=sleep_survey, evening=evening_survey, save=False):\n",
    "    \"\"\"\n",
    "    \n",
    "    \"\"\"\n",
    "    fig, ax = plt.subplots(figsize=(16,5))\n",
    "    for df, color, size, label in zip([sleep_survey,evening_survey],[\"orange\",\"black\"],[100,50],[\"Morning\",\"Evening\"]):\n",
    "        df[\"date\"] = df.index.date\n",
    "        WoY = []\n",
    "        for d in df[\"date\"]:\n",
    "            WoY.append(d.isocalendar()[1])\n",
    "        df[\"WoY\"] = WoY\n",
    "        counts_by_date = df.groupby(\"WoY\").count()\n",
    "        ax.scatter(counts_by_date.index,counts_by_date[\"beiwe\"],color=color,s=size,label=label,zorder=2)\n",
    "\n",
    "    ax.legend(frameon=False)\n",
    "    for loc in [\"top\",\"right\"]:\n",
    "        ax.spines[loc].set_visible(False)\n",
    "\n",
    "    # x-axis\n",
    "    ax.set_xticks(counts_by_date.index)\n",
    "    ax.set_xticklabels(np.arange(1,len(counts_by_date)+1))\n",
    "    ax.set_xlabel(\"Week of Study\")\n",
    "\n",
    "    # y-axis\n",
    "    ax.set_ylabel(\"Number of Surveys Submitted\")\n",
    "    ax.set_yticks(np.arange(0,165,15))\n",
    "    ax.set_ylim([0,200])\n",
    "    if save:\n",
    "        plt.savefig(\"../reports/figures/ema_summary/beiwe-submission_timeline_by_week-ux_s20.pdf\")\n",
    "    plt.show()\n",
    "    plt.close()"
   ]
  },
  {
   "cell_type": "code",
   "execution_count": 14,
   "metadata": {},
   "outputs": [
    {
     "data": {
      "image/png": "[encoded data removed]",
      "text/plain": [
       "<Figure size 1152x360 with 1 Axes>"
      ]
     },
     "metadata": {
      "needs_background": "light"
     },
     "output_type": "display_data"
    }
   ],
   "source": [
    "plot_submission_timeline(save=False)"
   ]
  },
  {
   "cell_type": "markdown",
   "metadata": {},
   "source": [
    "<div class=\"alert alert-block alert-info\">\n",
    "    <b>Submission Timeline</b><br> As the study progresses, the number of surveys does seem to diminish slightly. \n",
    "</div>"
   ]
  },
  {
   "cell_type": "markdown",
   "metadata": {},
   "source": [
    "### Submission Timestamps\n",
    "Here we look at the actual timestamps that the surveys were submitted for both the morning and evening surveys."
   ]
  },
  {
   "cell_type": "code",
   "execution_count": 15,
   "metadata": {},
   "outputs": [],
   "source": [
    "def plot_submission_timestamp_strips(morning=sleep_survey, evening=evening_survey, save=False):\n",
    "    \"\"\"\n",
    "    \n",
    "    \"\"\"\n",
    "    morning[\"Survey\"] = \"Morning\"\n",
    "    evening[\"Survey\"] = \"Evening\"\n",
    "    daily_survey = morning.append(evening)\n",
    "    daily_survey[\"hour\"] = daily_survey.index.hour + daily_survey.index.minute/60\n",
    "    fig, ax = plt.subplots(figsize=(6,6))\n",
    "    sns.stripplot(x=daily_survey[\"Survey\"],y=daily_survey[\"hour\"], alpha=0.1,jitter=0.15,palette=[\"black\",\"black\"],ax=ax,zorder=3)\n",
    "    for loc in [\"top\",\"right\"]:\n",
    "        ax.spines[loc].set_visible(False)\n",
    "\n",
    "    ax.set_ylim([-0.5,24.5])\n",
    "    ax.set_yticks(np.arange(0,28,4))\n",
    "    ax.set_ylabel(\"Hour of Day\")\n",
    "\n",
    "    ax.axhline(9,zorder=2,linestyle=\"dashed\",color=\"cornflowerblue\",alpha=0.5)\n",
    "    ax.axhline(19,zorder=1,linestyle=\"dashed\",color=\"cornflowerblue\",alpha=0.5)\n",
    "    \n",
    "    if save:\n",
    "        plt.savefig(\"../reports/figures/ema_summary/beiwe-submission_timestamp-stripplot-ux_s20.pdf\")\n",
    "    plt.show()\n",
    "    plt.close()"
   ]
  },
  {
   "cell_type": "code",
   "execution_count": 16,
   "metadata": {},
   "outputs": [
    {
     "data": {
      "image/png": "[encoded data removed]",
      "text/plain": [
       "<Figure size 432x432 with 1 Axes>"
      ]
     },
     "metadata": {
      "needs_background": "light"
     },
     "output_type": "display_data"
    }
   ],
   "source": [
    "plot_submission_timestamp_strips(save=False)"
   ]
  },
  {
   "cell_type": "markdown",
   "metadata": {},
   "source": [
    "<div class=\"alert alert-block alert-info\">\n",
    "    <b>Submission Timestamps Stripplot</b><br> Looks like the majority of students submitted the corresponding survey at the time it was sent out (9:00 for morning, 19:00 for evening). There is also a small, but noticeable increase in the morning survey submissions at 19:00 corresponding to the evening surveys.\n",
    "</div>"
   ]
  },
  {
   "cell_type": "code",
   "execution_count": 17,
   "metadata": {},
   "outputs": [],
   "source": [
    "def plot_submission_timestamp_histogram(morning=sleep_survey, evening=evening_survey, save=False):\n",
    "    \"\"\"\n",
    "    \n",
    "    \"\"\"\n",
    "    fig, axes = plt.subplots(1,2,figsize=(16,4),sharey=\"row\")\n",
    "    for df, ax, survey_type in zip([morning,evening], axes.flat, [\"Morning\", \"Evening\"]):\n",
    "        df[\"hour\"] = df.index.hour + df.index.minute/60\n",
    "        n,bins,patches = ax.hist(df[\"hour\"],bins=np.arange(0,25,1),rwidth=0.9,color=\"cornflowerblue\",edgecolor=\"black\",)\n",
    "        ax.set_xticks(np.arange(0,25,2))\n",
    "\n",
    "        for loc in [\"top\",\"right\"]:\n",
    "            ax.spines[loc].set_visible(False)\n",
    "\n",
    "        ax.set_xlabel(survey_type)\n",
    "        ax.set_ylabel(\"Count\")\n",
    "        \n",
    "    plt.subplots_adjust(wspace=0.05)\n",
    "    if save:\n",
    "        plt.savefig(\"../reports/figures/ema_summary/beiwe-submission_timestamp-histogram-ux_s20.pdf\")\n",
    "    plt.show()\n",
    "    plt.close()"
   ]
  },
  {
   "cell_type": "code",
   "execution_count": 18,
   "metadata": {},
   "outputs": [
    {
     "data": {
      "image/png": "[encoded data removed]",
      "text/plain": [
       "<Figure size 1152x288 with 2 Axes>"
      ]
     },
     "metadata": {
      "needs_background": "light"
     },
     "output_type": "display_data"
    }
   ],
   "source": [
    "plot_submission_timestamp_histogram(save=False)"
   ]
  },
  {
   "cell_type": "markdown",
   "metadata": {},
   "source": [
    "<div class=\"alert alert-block alert-info\">\n",
    "    <b>Submission Timestamps Histogram</b><br> Similar outcomes to the above figure\n",
    "</div>"
   ]
  },
  {
   "cell_type": "markdown",
   "metadata": {},
   "source": [
    "# Mood\n",
    "We take a look at the mood data from the morning and evening surveys. The moods measured on these surveys are:\n",
    "- content\n",
    "- loneliness\n",
    "- sadness\n",
    "- stress\n",
    "- energy level"
   ]
  },
  {
   "cell_type": "markdown",
   "metadata": {},
   "source": [
    "## Summary\n",
    "Starting with summarizing the data similar to the basics summarized above. "
   ]
  },
  {
   "cell_type": "markdown",
   "metadata": {},
   "source": [
    "### Aggregate Histogram"
   ]
  },
  {
   "cell_type": "code",
   "execution_count": 19,
   "metadata": {},
   "outputs": [],
   "source": [
    "def label_hist(n, bins, ax):\n",
    "    '''\n",
    "    Labels the histogram with values above the bars\n",
    "    \n",
    "    Inputs:\n",
    "    - n: the counts for each bin\n",
    "    - bins: the actual bins limits\n",
    "    \n",
    "    Returns void\n",
    "    '''\n",
    "    k = []\n",
    "    # calculate the relative frequency of each bin\n",
    "    for i in range(0,len(n)):\n",
    "        k.append(round((bins[i+1]-bins[i])*n[i],0))\n",
    "\n",
    "    # plot the label/text to each bin\n",
    "    for i in range(0, len(n)):\n",
    "        x_pos = bins[i] + (bins[i+1] - bins[i]) / 2\n",
    "        y_pos = n[i]\n",
    "        label = str(k[i])[:-2] # relative frequency of each bin\n",
    "        ax.text(x_pos, y_pos, label, ha='center', va='bottom')"
   ]
  },
  {
   "cell_type": "code",
   "execution_count": 20,
   "metadata": {
    "scrolled": false
   },
   "outputs": [],
   "source": [
    "def plot_mood_comparison_histogram(save=False):\n",
    "    \"\"\"\n",
    "    Plots side-by-side histogram comparisions of the mood reportings for the morning and evening surveys. \n",
    "    \"\"\"\n",
    "    fig, axes = plt.subplots(5,2,figsize=(16,14),sharey='row')\n",
    "    c = 0\n",
    "    for df in [sleep_survey,evening_survey]:\n",
    "        r = 0\n",
    "        for question, color in zip(['content','stress','lonely','sad','energy'],['goldenrod','firebrick','violet','cornflowerblue','seagreen']):\n",
    "            ax = axes[r,c]\n",
    "            n,bins,patches = ax.hist(df[question],bins=[-0.5,0.5,1.5,2.5,3.5,4.5],rwidth=0.9,color=color,edgecolor=\"black\")\n",
    "            ax.set_xlabel(question)\n",
    "            if c == 0:\n",
    "                ax.set_ylabel('Frequency')\n",
    "            ax.set_ylim([0,1500])\n",
    "\n",
    "            ax.text(3.5,1000,f'n: {len(df[question])}')\n",
    "            ax.text(3.5,800,f'Median: {np.median(df[question])}')\n",
    "\n",
    "            label_hist(n, bins, ax)\n",
    "            for loc in [\"top\",\"right\"]:\n",
    "                ax.spines[loc].set_visible(False)\n",
    "\n",
    "            r += 1\n",
    "\n",
    "        c += 1\n",
    "        \n",
    "\n",
    "    plt.subplots_adjust(wspace=0,hspace=0.35)\n",
    "    if save:\n",
    "        plt.savefig(\"../reports/figures/ema_summary/beiwe-all_moods-histogram-ux_s20.pdf\")\n",
    "    plt.show()\n",
    "    plt.close()"
   ]
  },
  {
   "cell_type": "code",
   "execution_count": 21,
   "metadata": {},
   "outputs": [
    {
     "ename": "TypeError",
     "evalue": "'value' must be an instance of str or bytes, not a float",
     "output_type": "error",
     "traceback": [
      "\u001b[0;31m---------------------------------------------------------------------------\u001b[0m",
      "\u001b[0;31mTypeError\u001b[0m                                 Traceback (most recent call last)",
      "\u001b[0;32m<ipython-input-21-116d4aa048de>\u001b[0m in \u001b[0;36m<module>\u001b[0;34m\u001b[0m\n\u001b[0;32m----> 1\u001b[0;31m \u001b[0mplot_mood_comparison_histogram\u001b[0m\u001b[0;34m(\u001b[0m\u001b[0msave\u001b[0m\u001b[0;34m=\u001b[0m\u001b[0;32mFalse\u001b[0m\u001b[0;34m)\u001b[0m\u001b[0;34m\u001b[0m\u001b[0m\n\u001b[0m",
      "\u001b[0;32m<ipython-input-20-e6b7715aa518>\u001b[0m in \u001b[0;36mplot_mood_comparison_histogram\u001b[0;34m(save)\u001b[0m\n\u001b[1;32m      9\u001b[0m         \u001b[0;32mfor\u001b[0m \u001b[0mquestion\u001b[0m\u001b[0;34m,\u001b[0m \u001b[0mcolor\u001b[0m \u001b[0;32min\u001b[0m \u001b[0mzip\u001b[0m\u001b[0;34m(\u001b[0m\u001b[0;34m[\u001b[0m\u001b[0;34m'content'\u001b[0m\u001b[0;34m,\u001b[0m\u001b[0;34m'stress'\u001b[0m\u001b[0;34m,\u001b[0m\u001b[0;34m'lonely'\u001b[0m\u001b[0;34m,\u001b[0m\u001b[0;34m'sad'\u001b[0m\u001b[0;34m,\u001b[0m\u001b[0;34m'energy'\u001b[0m\u001b[0;34m]\u001b[0m\u001b[0;34m,\u001b[0m\u001b[0;34m[\u001b[0m\u001b[0;34m'goldenrod'\u001b[0m\u001b[0;34m,\u001b[0m\u001b[0;34m'firebrick'\u001b[0m\u001b[0;34m,\u001b[0m\u001b[0;34m'violet'\u001b[0m\u001b[0;34m,\u001b[0m\u001b[0;34m'cornflowerblue'\u001b[0m\u001b[0;34m,\u001b[0m\u001b[0;34m'seagreen'\u001b[0m\u001b[0;34m]\u001b[0m\u001b[0;34m)\u001b[0m\u001b[0;34m:\u001b[0m\u001b[0;34m\u001b[0m\u001b[0m\n\u001b[1;32m     10\u001b[0m             \u001b[0max\u001b[0m \u001b[0;34m=\u001b[0m \u001b[0maxes\u001b[0m\u001b[0;34m[\u001b[0m\u001b[0mr\u001b[0m\u001b[0;34m,\u001b[0m\u001b[0mc\u001b[0m\u001b[0;34m]\u001b[0m\u001b[0;34m\u001b[0m\u001b[0m\n\u001b[0;32m---> 11\u001b[0;31m             \u001b[0mn\u001b[0m\u001b[0;34m,\u001b[0m\u001b[0mbins\u001b[0m\u001b[0;34m,\u001b[0m\u001b[0mpatches\u001b[0m \u001b[0;34m=\u001b[0m \u001b[0max\u001b[0m\u001b[0;34m.\u001b[0m\u001b[0mhist\u001b[0m\u001b[0;34m(\u001b[0m\u001b[0mdf\u001b[0m\u001b[0;34m[\u001b[0m\u001b[0mquestion\u001b[0m\u001b[0;34m]\u001b[0m\u001b[0;34m,\u001b[0m\u001b[0mbins\u001b[0m\u001b[0;34m=\u001b[0m\u001b[0;34m[\u001b[0m\u001b[0;34m-\u001b[0m\u001b[0;36m0.5\u001b[0m\u001b[0;34m,\u001b[0m\u001b[0;36m0.5\u001b[0m\u001b[0;34m,\u001b[0m\u001b[0;36m1.5\u001b[0m\u001b[0;34m,\u001b[0m\u001b[0;36m2.5\u001b[0m\u001b[0;34m,\u001b[0m\u001b[0;36m3.5\u001b[0m\u001b[0;34m,\u001b[0m\u001b[0;36m4.5\u001b[0m\u001b[0;34m]\u001b[0m\u001b[0;34m,\u001b[0m\u001b[0mrwidth\u001b[0m\u001b[0;34m=\u001b[0m\u001b[0;36m0.9\u001b[0m\u001b[0;34m,\u001b[0m\u001b[0mcolor\u001b[0m\u001b[0;34m=\u001b[0m\u001b[0mcolor\u001b[0m\u001b[0;34m,\u001b[0m\u001b[0medgecolor\u001b[0m\u001b[0;34m=\u001b[0m\u001b[0;34m\"black\"\u001b[0m\u001b[0;34m)\u001b[0m\u001b[0;34m\u001b[0m\u001b[0m\n\u001b[0m\u001b[1;32m     12\u001b[0m             \u001b[0max\u001b[0m\u001b[0;34m.\u001b[0m\u001b[0mset_xlabel\u001b[0m\u001b[0;34m(\u001b[0m\u001b[0mquestion\u001b[0m\u001b[0;34m)\u001b[0m\u001b[0;34m\u001b[0m\u001b[0m\n\u001b[1;32m     13\u001b[0m             \u001b[0;32mif\u001b[0m \u001b[0mc\u001b[0m \u001b[0;34m==\u001b[0m \u001b[0;36m0\u001b[0m\u001b[0;34m:\u001b[0m\u001b[0;34m\u001b[0m\u001b[0m\n",
      "\u001b[0;32m/Library/Frameworks/Python.framework/Versions/3.7/lib/python3.7/site-packages/matplotlib/__init__.py\u001b[0m in \u001b[0;36minner\u001b[0;34m(ax, data, *args, **kwargs)\u001b[0m\n\u001b[1;32m   1563\u001b[0m     \u001b[0;32mdef\u001b[0m \u001b[0minner\u001b[0m\u001b[0;34m(\u001b[0m\u001b[0max\u001b[0m\u001b[0;34m,\u001b[0m \u001b[0;34m*\u001b[0m\u001b[0margs\u001b[0m\u001b[0;34m,\u001b[0m \u001b[0mdata\u001b[0m\u001b[0;34m=\u001b[0m\u001b[0;32mNone\u001b[0m\u001b[0;34m,\u001b[0m \u001b[0;34m**\u001b[0m\u001b[0mkwargs\u001b[0m\u001b[0;34m)\u001b[0m\u001b[0;34m:\u001b[0m\u001b[0;34m\u001b[0m\u001b[0m\n\u001b[1;32m   1564\u001b[0m         \u001b[0;32mif\u001b[0m \u001b[0mdata\u001b[0m \u001b[0;32mis\u001b[0m \u001b[0;32mNone\u001b[0m\u001b[0;34m:\u001b[0m\u001b[0;34m\u001b[0m\u001b[0m\n\u001b[0;32m-> 1565\u001b[0;31m             \u001b[0;32mreturn\u001b[0m \u001b[0mfunc\u001b[0m\u001b[0;34m(\u001b[0m\u001b[0max\u001b[0m\u001b[0;34m,\u001b[0m \u001b[0;34m*\u001b[0m\u001b[0mmap\u001b[0m\u001b[0;34m(\u001b[0m\u001b[0msanitize_sequence\u001b[0m\u001b[0;34m,\u001b[0m \u001b[0margs\u001b[0m\u001b[0;34m)\u001b[0m\u001b[0;34m,\u001b[0m \u001b[0;34m**\u001b[0m\u001b[0mkwargs\u001b[0m\u001b[0;34m)\u001b[0m\u001b[0;34m\u001b[0m\u001b[0m\n\u001b[0m\u001b[1;32m   1566\u001b[0m \u001b[0;34m\u001b[0m\u001b[0m\n\u001b[1;32m   1567\u001b[0m         \u001b[0mbound\u001b[0m \u001b[0;34m=\u001b[0m \u001b[0mnew_sig\u001b[0m\u001b[0;34m.\u001b[0m\u001b[0mbind\u001b[0m\u001b[0;34m(\u001b[0m\u001b[0max\u001b[0m\u001b[0;34m,\u001b[0m \u001b[0;34m*\u001b[0m\u001b[0margs\u001b[0m\u001b[0;34m,\u001b[0m \u001b[0;34m**\u001b[0m\u001b[0mkwargs\u001b[0m\u001b[0;34m)\u001b[0m\u001b[0;34m\u001b[0m\u001b[0m\n",
      "\u001b[0;32m/Library/Frameworks/Python.framework/Versions/3.7/lib/python3.7/site-packages/matplotlib/axes/_axes.py\u001b[0m in \u001b[0;36mhist\u001b[0;34m(self, x, bins, range, density, weights, cumulative, bottom, histtype, align, orientation, rwidth, log, color, label, stacked, **kwargs)\u001b[0m\n\u001b[1;32m   6572\u001b[0m         \u001b[0;31m# Process unit information\u001b[0m\u001b[0;34m\u001b[0m\u001b[0;34m\u001b[0m\u001b[0m\n\u001b[1;32m   6573\u001b[0m         \u001b[0;31m# Unit conversion is done individually on each dataset\u001b[0m\u001b[0;34m\u001b[0m\u001b[0;34m\u001b[0m\u001b[0m\n\u001b[0;32m-> 6574\u001b[0;31m         \u001b[0mself\u001b[0m\u001b[0;34m.\u001b[0m\u001b[0m_process_unit_info\u001b[0m\u001b[0;34m(\u001b[0m\u001b[0mxdata\u001b[0m\u001b[0;34m=\u001b[0m\u001b[0mx\u001b[0m\u001b[0;34m[\u001b[0m\u001b[0;36m0\u001b[0m\u001b[0;34m]\u001b[0m\u001b[0;34m,\u001b[0m \u001b[0mkwargs\u001b[0m\u001b[0;34m=\u001b[0m\u001b[0mkwargs\u001b[0m\u001b[0;34m)\u001b[0m\u001b[0;34m\u001b[0m\u001b[0m\n\u001b[0m\u001b[1;32m   6575\u001b[0m         \u001b[0mx\u001b[0m \u001b[0;34m=\u001b[0m \u001b[0;34m[\u001b[0m\u001b[0mself\u001b[0m\u001b[0;34m.\u001b[0m\u001b[0mconvert_xunits\u001b[0m\u001b[0;34m(\u001b[0m\u001b[0mxi\u001b[0m\u001b[0;34m)\u001b[0m \u001b[0;32mfor\u001b[0m \u001b[0mxi\u001b[0m \u001b[0;32min\u001b[0m \u001b[0mx\u001b[0m\u001b[0;34m]\u001b[0m\u001b[0;34m\u001b[0m\u001b[0m\n\u001b[1;32m   6576\u001b[0m \u001b[0;34m\u001b[0m\u001b[0m\n",
      "\u001b[0;32m/Library/Frameworks/Python.framework/Versions/3.7/lib/python3.7/site-packages/matplotlib/axes/_base.py\u001b[0m in \u001b[0;36m_process_unit_info\u001b[0;34m(self, xdata, ydata, kwargs)\u001b[0m\n\u001b[1;32m   2071\u001b[0m             \u001b[0;32mreturn\u001b[0m \u001b[0mkwargs\u001b[0m\u001b[0;34m\u001b[0m\u001b[0m\n\u001b[1;32m   2072\u001b[0m \u001b[0;34m\u001b[0m\u001b[0m\n\u001b[0;32m-> 2073\u001b[0;31m         \u001b[0mkwargs\u001b[0m \u001b[0;34m=\u001b[0m \u001b[0m_process_single_axis\u001b[0m\u001b[0;34m(\u001b[0m\u001b[0mxdata\u001b[0m\u001b[0;34m,\u001b[0m \u001b[0mself\u001b[0m\u001b[0;34m.\u001b[0m\u001b[0mxaxis\u001b[0m\u001b[0;34m,\u001b[0m \u001b[0;34m'xunits'\u001b[0m\u001b[0;34m,\u001b[0m \u001b[0mkwargs\u001b[0m\u001b[0;34m)\u001b[0m\u001b[0;34m\u001b[0m\u001b[0m\n\u001b[0m\u001b[1;32m   2074\u001b[0m         \u001b[0mkwargs\u001b[0m \u001b[0;34m=\u001b[0m \u001b[0m_process_single_axis\u001b[0m\u001b[0;34m(\u001b[0m\u001b[0mydata\u001b[0m\u001b[0;34m,\u001b[0m \u001b[0mself\u001b[0m\u001b[0;34m.\u001b[0m\u001b[0myaxis\u001b[0m\u001b[0;34m,\u001b[0m \u001b[0;34m'yunits'\u001b[0m\u001b[0;34m,\u001b[0m \u001b[0mkwargs\u001b[0m\u001b[0;34m)\u001b[0m\u001b[0;34m\u001b[0m\u001b[0m\n\u001b[1;32m   2075\u001b[0m         \u001b[0;32mreturn\u001b[0m \u001b[0mkwargs\u001b[0m\u001b[0;34m\u001b[0m\u001b[0m\n",
      "\u001b[0;32m/Library/Frameworks/Python.framework/Versions/3.7/lib/python3.7/site-packages/matplotlib/axes/_base.py\u001b[0m in \u001b[0;36m_process_single_axis\u001b[0;34m(data, axis, unit_name, kwargs)\u001b[0m\n\u001b[1;32m   2054\u001b[0m                 \u001b[0;31m# We only need to update if there is nothing set yet.\u001b[0m\u001b[0;34m\u001b[0m\u001b[0;34m\u001b[0m\u001b[0m\n\u001b[1;32m   2055\u001b[0m                 \u001b[0;32mif\u001b[0m \u001b[0;32mnot\u001b[0m \u001b[0maxis\u001b[0m\u001b[0;34m.\u001b[0m\u001b[0mhave_units\u001b[0m\u001b[0;34m(\u001b[0m\u001b[0;34m)\u001b[0m\u001b[0;34m:\u001b[0m\u001b[0;34m\u001b[0m\u001b[0m\n\u001b[0;32m-> 2056\u001b[0;31m                     \u001b[0maxis\u001b[0m\u001b[0;34m.\u001b[0m\u001b[0mupdate_units\u001b[0m\u001b[0;34m(\u001b[0m\u001b[0mdata\u001b[0m\u001b[0;34m)\u001b[0m\u001b[0;34m\u001b[0m\u001b[0m\n\u001b[0m\u001b[1;32m   2057\u001b[0m \u001b[0;34m\u001b[0m\u001b[0m\n\u001b[1;32m   2058\u001b[0m             \u001b[0;31m# Check for units in the kwargs, and if present update axis\u001b[0m\u001b[0;34m\u001b[0m\u001b[0;34m\u001b[0m\u001b[0m\n",
      "\u001b[0;32m/Library/Frameworks/Python.framework/Versions/3.7/lib/python3.7/site-packages/matplotlib/axis.py\u001b[0m in \u001b[0;36mupdate_units\u001b[0;34m(self, data)\u001b[0m\n\u001b[1;32m   1514\u001b[0m         \u001b[0mneednew\u001b[0m \u001b[0;34m=\u001b[0m \u001b[0mself\u001b[0m\u001b[0;34m.\u001b[0m\u001b[0mconverter\u001b[0m \u001b[0;34m!=\u001b[0m \u001b[0mconverter\u001b[0m\u001b[0;34m\u001b[0m\u001b[0m\n\u001b[1;32m   1515\u001b[0m         \u001b[0mself\u001b[0m\u001b[0;34m.\u001b[0m\u001b[0mconverter\u001b[0m \u001b[0;34m=\u001b[0m \u001b[0mconverter\u001b[0m\u001b[0;34m\u001b[0m\u001b[0m\n\u001b[0;32m-> 1516\u001b[0;31m         \u001b[0mdefault\u001b[0m \u001b[0;34m=\u001b[0m \u001b[0mself\u001b[0m\u001b[0;34m.\u001b[0m\u001b[0mconverter\u001b[0m\u001b[0;34m.\u001b[0m\u001b[0mdefault_units\u001b[0m\u001b[0;34m(\u001b[0m\u001b[0mdata\u001b[0m\u001b[0;34m,\u001b[0m \u001b[0mself\u001b[0m\u001b[0;34m)\u001b[0m\u001b[0;34m\u001b[0m\u001b[0m\n\u001b[0m\u001b[1;32m   1517\u001b[0m         \u001b[0;32mif\u001b[0m \u001b[0mdefault\u001b[0m \u001b[0;32mis\u001b[0m \u001b[0;32mnot\u001b[0m \u001b[0;32mNone\u001b[0m \u001b[0;32mand\u001b[0m \u001b[0mself\u001b[0m\u001b[0;34m.\u001b[0m\u001b[0munits\u001b[0m \u001b[0;32mis\u001b[0m \u001b[0;32mNone\u001b[0m\u001b[0;34m:\u001b[0m\u001b[0;34m\u001b[0m\u001b[0m\n\u001b[1;32m   1518\u001b[0m             \u001b[0mself\u001b[0m\u001b[0;34m.\u001b[0m\u001b[0mset_units\u001b[0m\u001b[0;34m(\u001b[0m\u001b[0mdefault\u001b[0m\u001b[0;34m)\u001b[0m\u001b[0;34m\u001b[0m\u001b[0m\n",
      "\u001b[0;32m/Library/Frameworks/Python.framework/Versions/3.7/lib/python3.7/site-packages/matplotlib/category.py\u001b[0m in \u001b[0;36mdefault_units\u001b[0;34m(data, axis)\u001b[0m\n\u001b[1;32m    105\u001b[0m         \u001b[0;31m# the conversion call stack is default_units -> axis_info -> convert\u001b[0m\u001b[0;34m\u001b[0m\u001b[0;34m\u001b[0m\u001b[0m\n\u001b[1;32m    106\u001b[0m         \u001b[0;32mif\u001b[0m \u001b[0maxis\u001b[0m\u001b[0;34m.\u001b[0m\u001b[0munits\u001b[0m \u001b[0;32mis\u001b[0m \u001b[0;32mNone\u001b[0m\u001b[0;34m:\u001b[0m\u001b[0;34m\u001b[0m\u001b[0m\n\u001b[0;32m--> 107\u001b[0;31m             \u001b[0maxis\u001b[0m\u001b[0;34m.\u001b[0m\u001b[0mset_units\u001b[0m\u001b[0;34m(\u001b[0m\u001b[0mUnitData\u001b[0m\u001b[0;34m(\u001b[0m\u001b[0mdata\u001b[0m\u001b[0;34m)\u001b[0m\u001b[0;34m)\u001b[0m\u001b[0;34m\u001b[0m\u001b[0m\n\u001b[0m\u001b[1;32m    108\u001b[0m         \u001b[0;32melse\u001b[0m\u001b[0;34m:\u001b[0m\u001b[0;34m\u001b[0m\u001b[0m\n\u001b[1;32m    109\u001b[0m             \u001b[0maxis\u001b[0m\u001b[0;34m.\u001b[0m\u001b[0munits\u001b[0m\u001b[0;34m.\u001b[0m\u001b[0mupdate\u001b[0m\u001b[0;34m(\u001b[0m\u001b[0mdata\u001b[0m\u001b[0;34m)\u001b[0m\u001b[0;34m\u001b[0m\u001b[0m\n",
      "\u001b[0;32m/Library/Frameworks/Python.framework/Versions/3.7/lib/python3.7/site-packages/matplotlib/category.py\u001b[0m in \u001b[0;36m__init__\u001b[0;34m(self, data)\u001b[0m\n\u001b[1;32m    173\u001b[0m         \u001b[0mself\u001b[0m\u001b[0;34m.\u001b[0m\u001b[0m_counter\u001b[0m \u001b[0;34m=\u001b[0m \u001b[0mitertools\u001b[0m\u001b[0;34m.\u001b[0m\u001b[0mcount\u001b[0m\u001b[0;34m(\u001b[0m\u001b[0;34m)\u001b[0m\u001b[0;34m\u001b[0m\u001b[0m\n\u001b[1;32m    174\u001b[0m         \u001b[0;32mif\u001b[0m \u001b[0mdata\u001b[0m \u001b[0;32mis\u001b[0m \u001b[0;32mnot\u001b[0m \u001b[0;32mNone\u001b[0m\u001b[0;34m:\u001b[0m\u001b[0;34m\u001b[0m\u001b[0m\n\u001b[0;32m--> 175\u001b[0;31m             \u001b[0mself\u001b[0m\u001b[0;34m.\u001b[0m\u001b[0mupdate\u001b[0m\u001b[0;34m(\u001b[0m\u001b[0mdata\u001b[0m\u001b[0;34m)\u001b[0m\u001b[0;34m\u001b[0m\u001b[0m\n\u001b[0m\u001b[1;32m    176\u001b[0m \u001b[0;34m\u001b[0m\u001b[0m\n\u001b[1;32m    177\u001b[0m     \u001b[0;34m@\u001b[0m\u001b[0mstaticmethod\u001b[0m\u001b[0;34m\u001b[0m\u001b[0m\n",
      "\u001b[0;32m/Library/Frameworks/Python.framework/Versions/3.7/lib/python3.7/site-packages/matplotlib/category.py\u001b[0m in \u001b[0;36mupdate\u001b[0;34m(self, data)\u001b[0m\n\u001b[1;32m    210\u001b[0m         \u001b[0;32mfor\u001b[0m \u001b[0mval\u001b[0m \u001b[0;32min\u001b[0m \u001b[0mOrderedDict\u001b[0m\u001b[0;34m.\u001b[0m\u001b[0mfromkeys\u001b[0m\u001b[0;34m(\u001b[0m\u001b[0mdata\u001b[0m\u001b[0;34m)\u001b[0m\u001b[0;34m:\u001b[0m\u001b[0;34m\u001b[0m\u001b[0m\n\u001b[1;32m    211\u001b[0m             \u001b[0;31m# OrderedDict just iterates over unique values in data.\u001b[0m\u001b[0;34m\u001b[0m\u001b[0;34m\u001b[0m\u001b[0m\n\u001b[0;32m--> 212\u001b[0;31m             \u001b[0mcbook\u001b[0m\u001b[0;34m.\u001b[0m\u001b[0m_check_isinstance\u001b[0m\u001b[0;34m(\u001b[0m\u001b[0;34m(\u001b[0m\u001b[0mstr\u001b[0m\u001b[0;34m,\u001b[0m \u001b[0mbytes\u001b[0m\u001b[0;34m)\u001b[0m\u001b[0;34m,\u001b[0m \u001b[0mvalue\u001b[0m\u001b[0;34m=\u001b[0m\u001b[0mval\u001b[0m\u001b[0;34m)\u001b[0m\u001b[0;34m\u001b[0m\u001b[0m\n\u001b[0m\u001b[1;32m    213\u001b[0m             \u001b[0;32mif\u001b[0m \u001b[0mconvertible\u001b[0m\u001b[0;34m:\u001b[0m\u001b[0;34m\u001b[0m\u001b[0m\n\u001b[1;32m    214\u001b[0m                 \u001b[0;31m# this will only be called so long as convertible is True.\u001b[0m\u001b[0;34m\u001b[0m\u001b[0;34m\u001b[0m\u001b[0m\n",
      "\u001b[0;32m/Library/Frameworks/Python.framework/Versions/3.7/lib/python3.7/site-packages/matplotlib/cbook/__init__.py\u001b[0m in \u001b[0;36m_check_isinstance\u001b[0;34m(_types, **kwargs)\u001b[0m\n\u001b[1;32m   2126\u001b[0m                     \u001b[0;34m\", \"\u001b[0m\u001b[0;34m.\u001b[0m\u001b[0mjoin\u001b[0m\u001b[0;34m(\u001b[0m\u001b[0mnames\u001b[0m\u001b[0;34m[\u001b[0m\u001b[0;34m:\u001b[0m\u001b[0;34m-\u001b[0m\u001b[0;36m1\u001b[0m\u001b[0;34m]\u001b[0m\u001b[0;34m)\u001b[0m \u001b[0;34m+\u001b[0m \u001b[0;34m\" or \"\u001b[0m \u001b[0;34m+\u001b[0m \u001b[0mnames\u001b[0m\u001b[0;34m[\u001b[0m\u001b[0;34m-\u001b[0m\u001b[0;36m1\u001b[0m\u001b[0;34m]\u001b[0m\u001b[0;34m\u001b[0m\u001b[0m\n\u001b[1;32m   2127\u001b[0m                     \u001b[0;32mif\u001b[0m \u001b[0mlen\u001b[0m\u001b[0;34m(\u001b[0m\u001b[0mnames\u001b[0m\u001b[0;34m)\u001b[0m \u001b[0;34m>\u001b[0m \u001b[0;36m1\u001b[0m \u001b[0;32melse\u001b[0m \u001b[0mnames\u001b[0m\u001b[0;34m[\u001b[0m\u001b[0;36m0\u001b[0m\u001b[0;34m]\u001b[0m\u001b[0;34m,\u001b[0m\u001b[0;34m\u001b[0m\u001b[0m\n\u001b[0;32m-> 2128\u001b[0;31m                     type_name(type(v))))\n\u001b[0m\u001b[1;32m   2129\u001b[0m \u001b[0;34m\u001b[0m\u001b[0m\n\u001b[1;32m   2130\u001b[0m \u001b[0;34m\u001b[0m\u001b[0m\n",
      "\u001b[0;31mTypeError\u001b[0m: 'value' must be an instance of str or bytes, not a float"
     ]
    },
    {
     "data": {
      "image/png": "[encoded data removed]",
      "text/plain": [
       "<Figure size 1152x1008 with 10 Axes>"
      ]
     },
     "metadata": {
      "needs_background": "light"
     },
     "output_type": "display_data"
    }
   ],
   "source": [
    "plot_mood_comparison_histogram(save=False)"
   ]
  },
  {
   "cell_type": "markdown",
   "metadata": {},
   "source": [
    "# Sleep\n",
    "Sleep portions of the survey includes:\n",
    "- TST: total sleep time\n",
    "- SOL: sleep onset latency\n",
    "- NAW: number of awakenings\n",
    "- Restful: Likert scale 0-3"
   ]
  },
  {
   "cell_type": "markdown",
   "metadata": {},
   "source": [
    "## Summary\n",
    "The following cells look at summarizing the results from the EMA surveys used to ask about sleep (distributed at 9:00 am every morning)."
   ]
  },
  {
   "cell_type": "markdown",
   "metadata": {},
   "source": [
    "### Aggregate Histogram\n",
    "Combining all participants across all question types"
   ]
  },
  {
   "cell_type": "code",
   "execution_count": 47,
   "metadata": {
    "scrolled": false
   },
   "outputs": [],
   "source": [
    "def plot_sleep_histogram(morning=sleep_survey,save=False):\n",
    "    \"\"\"\n",
    "    \n",
    "    \"\"\"\n",
    "    legend_fs = 22\n",
    "    tick_fs = 24\n",
    "    label_fs = 26\n",
    "    title_fs = 32\n",
    "    questions = ['tst','sol','naw','restful']\n",
    "    xlabels = [\"TST (hours)\",\"SOL (minutes)\",\"Number of Awakenings\",\"Restful Score\"]\n",
    "    bin_list = [np.arange(0,15,1),\n",
    "               np.arange(0,120,10),\n",
    "               np.arange(-0.5,11.5,1),\n",
    "               [-0.5,0.5,1.5,2.5,3.5]]\n",
    "    titles = [\"a\",\"b\",\"c\",\"d\"]\n",
    "\n",
    "    fig, axes = plt.subplots(1,4,figsize=(20,4),sharey=\"row\",gridspec_kw={'width_ratios': [5,5,5,3]})\n",
    "    for question, bins, ax, xlabel, title in zip(questions, bin_list, axes.flat, xlabels, titles):\n",
    "        n,bins,patches = ax.hist(morning[question],bins=bins,color=\"black\", rwidth=0.9,align='mid')\n",
    "        \n",
    "        # x-axis\n",
    "        ax.set_xlabel(xlabel,fontsize=label_fs-2)\n",
    "        plt.setp(ax.get_xticklabels(), ha=\"center\", rotation=0, fontsize=tick_fs-2)\n",
    "        # y-axis\n",
    "        ax.set_ylim([0,600])\n",
    "        if question == \"restful\":\n",
    "            ax.set_xticks([0,1,2,3])\n",
    "        plt.setp(ax.get_yticklabels(), ha=\"right\", rotation=0, fontsize=label_fs)\n",
    "        # remainder\n",
    "        for loc in [\"top\",\"right\"]:\n",
    "            ax.spines[loc].set_visible(False)\n",
    "        #ax.set_title(title,fontsize=16)\n",
    "        \n",
    "    axes[0].set_ylabel('Count',fontsize=label_fs)\n",
    "    plt.subplots_adjust(wspace=0.05)\n",
    "    if save:\n",
    "        plt.savefig(\"../../papers/5eea5276044b790001ee5687/figures/beiwe-sleep_metrics-histogram-ux_s20.pdf\",bbox_inches=\"tight\")\n",
    "        plt.savefig(\"../reports/figures/ema_summary/beiwe-sleep_metrics-histogram-ux_s20.pdf\",bbox_inches=\"tight\")\n",
    "    plt.show()\n",
    "    plt.close()"
   ]
  },
  {
   "cell_type": "code",
   "execution_count": 48,
   "metadata": {},
   "outputs": [
    {
     "data": {
      "image/png": "[encoded data removed]",
      "text/plain": [
       "<Figure size 1440x288 with 4 Axes>"
      ]
     },
     "metadata": {
      "needs_background": "light"
     },
     "output_type": "display_data"
    }
   ],
   "source": [
    "plot_sleep_histogram(save=True)"
   ]
  },
  {
   "cell_type": "markdown",
   "metadata": {},
   "source": [
    "#### TST"
   ]
  },
  {
   "cell_type": "code",
   "execution_count": 28,
   "metadata": {},
   "outputs": [
    {
     "name": "stdout",
     "output_type": "stream",
     "text": [
      "Maximum: 12.0\n"
     ]
    }
   ],
   "source": [
    "print(\"Maximum:\", np.nanmax(sleep_survey['tst']))"
   ]
  },
  {
   "cell_type": "code",
   "execution_count": 94,
   "metadata": {},
   "outputs": [
    {
     "name": "stdout",
     "output_type": "stream",
     "text": [
      "Mean: 6.824350649350649\n"
     ]
    }
   ],
   "source": [
    "print(\"Mean:\", np.nanmean(sleep_survey['tst']))"
   ]
  },
  {
   "cell_type": "code",
   "execution_count": 99,
   "metadata": {},
   "outputs": [
    {
     "data": {
      "text/html": [
       "<div>\n",
       "<style scoped>\n",
       "    .dataframe tbody tr th:only-of-type {\n",
       "        vertical-align: middle;\n",
       "    }\n",
       "\n",
       "    .dataframe tbody tr th {\n",
       "        vertical-align: top;\n",
       "    }\n",
       "\n",
       "    .dataframe thead th {\n",
       "        text-align: right;\n",
       "    }\n",
       "</style>\n",
       "<table border=\"1\" class=\"dataframe\">\n",
       "  <thead>\n",
       "    <tr style=\"text-align: right;\">\n",
       "      <th></th>\n",
       "      <th>beiwe</th>\n",
       "      <th>content</th>\n",
       "      <th>stress</th>\n",
       "      <th>lonely</th>\n",
       "      <th>sad</th>\n",
       "      <th>energy</th>\n",
       "      <th>tst</th>\n",
       "      <th>sol</th>\n",
       "      <th>naw</th>\n",
       "      <th>restful</th>\n",
       "      <th>redcap</th>\n",
       "      <th>beacon</th>\n",
       "    </tr>\n",
       "    <tr>\n",
       "      <th>timestamp</th>\n",
       "      <th></th>\n",
       "      <th></th>\n",
       "      <th></th>\n",
       "      <th></th>\n",
       "      <th></th>\n",
       "      <th></th>\n",
       "      <th></th>\n",
       "      <th></th>\n",
       "      <th></th>\n",
       "      <th></th>\n",
       "      <th></th>\n",
       "      <th></th>\n",
       "    </tr>\n",
       "  </thead>\n",
       "  <tbody>\n",
       "    <tr>\n",
       "      <th>2020-07-05 10:05:08</th>\n",
       "      <td>745vq78e</td>\n",
       "      <td>3</td>\n",
       "      <td>0.0</td>\n",
       "      <td>0.0</td>\n",
       "      <td>0.0</td>\n",
       "      <td>3.0</td>\n",
       "      <td>0.0</td>\n",
       "      <td>NaN</td>\n",
       "      <td>NaN</td>\n",
       "      <td>NaN</td>\n",
       "      <td>55</td>\n",
       "      <td>5.0</td>\n",
       "    </tr>\n",
       "    <tr>\n",
       "      <th>2020-05-26 07:33:29</th>\n",
       "      <td>745vq78e</td>\n",
       "      <td>3</td>\n",
       "      <td>0.0</td>\n",
       "      <td>0.0</td>\n",
       "      <td>0.0</td>\n",
       "      <td>2.0</td>\n",
       "      <td>0.0</td>\n",
       "      <td>0.0</td>\n",
       "      <td>0.0</td>\n",
       "      <td>NaN</td>\n",
       "      <td>55</td>\n",
       "      <td>5.0</td>\n",
       "    </tr>\n",
       "  </tbody>\n",
       "</table>\n",
       "</div>"
      ],
      "text/plain": [
       "                        beiwe content  stress  lonely  sad  energy  tst  sol  \\\n",
       "timestamp                                                                      \n",
       "2020-07-05 10:05:08  745vq78e       3     0.0     0.0  0.0     3.0  0.0  NaN   \n",
       "2020-05-26 07:33:29  745vq78e       3     0.0     0.0  0.0     2.0  0.0  0.0   \n",
       "\n",
       "                     naw  restful  redcap  beacon  \n",
       "timestamp                                          \n",
       "2020-07-05 10:05:08  NaN      NaN      55     5.0  \n",
       "2020-05-26 07:33:29  0.0      NaN      55     5.0  "
      ]
     },
     "execution_count": 99,
     "metadata": {},
     "output_type": "execute_result"
    }
   ],
   "source": [
    "sleep_survey[sleep_survey['tst'] == 0]"
   ]
  },
  {
   "cell_type": "code",
   "execution_count": 97,
   "metadata": {},
   "outputs": [
    {
     "name": "stdout",
     "output_type": "stream",
     "text": [
      "Number of nights between 7 and 9 hours of sleep:\t 59.11602209944752\n",
      "Number of nights between 7 and 8 hours of sleep:\t 32.96500920810313\n",
      "Number of nights greater than 7 hours of sleep:\t\t 62.338858195211785\n",
      "Number of nights greater than 9 hours of sleep:\t\t 3.2228360957642725\n",
      "Number of nights less than 7 hours of sleep:\t\t 36.92449355432781\n"
     ]
    }
   ],
   "source": [
    "p_7to9 = len(sleep_survey[(sleep_survey['tst'] >= 7) & (sleep_survey['tst'] <= 9)])/len(sleep_survey['tst'])\n",
    "print('Number of nights between 7 and 9 hours of sleep:\\t', p_7to9*100)\n",
    "\n",
    "p_7to8 = len(sleep_survey[(sleep_survey['tst'] >= 7) & (sleep_survey['tst'] < 8)])/len(sleep_survey['tst'])\n",
    "print('Number of nights between 7 and 8 hours of sleep:\\t', p_7to8*100)\n",
    "\n",
    "p_gt_7 = len(sleep_survey[(sleep_survey['tst'] >= 7)])/len(sleep_survey['tst'])\n",
    "print('Number of nights greater than 7 hours of sleep:\\t\\t', p_gt_7*100)\n",
    "\n",
    "p_gt_9 = len(sleep_survey[(sleep_survey['tst'] > 9)])/len(sleep_survey['tst'])\n",
    "print('Number of nights greater than 9 hours of sleep:\\t\\t', p_gt_9*100)\n",
    "\n",
    "p_lt_7 = len(sleep_survey[(sleep_survey['tst'] < 7)])/len(sleep_survey['tst'])\n",
    "print('Number of nights less than 7 hours of sleep:\\t\\t', p_lt_7*100)"
   ]
  },
  {
   "cell_type": "markdown",
   "metadata": {},
   "source": [
    "#### SOL"
   ]
  },
  {
   "cell_type": "code",
   "execution_count": 102,
   "metadata": {},
   "outputs": [
    {
     "name": "stdout",
     "output_type": "stream",
     "text": [
      "Percent of SOL less than 5 minutaes: 7.9\n",
      "Percent of SOL less than 10 minutaes: 25.4\n",
      "Percent of SOL less than 15 minutaes: 47.2\n",
      "Percent of SOL less than 20 minutaes: 65.5\n",
      "Percent of SOL less than 30 minutaes: 83.4\n",
      "Percent of SOL less than 45 minutaes: 91.1\n"
     ]
    }
   ],
   "source": [
    "cutoffs = [5,10,15,20,30,45]\n",
    "for cutoff in cutoffs:\n",
    "    p_lt_cutoff = sleep_survey[sleep_survey['sol'] < cutoff]\n",
    "    print(f'Percent of SOL less than {cutoff} minutaes:', round(len(p_lt_cutoff)/len(sleep_survey)*100,1))"
   ]
  },
  {
   "cell_type": "markdown",
   "metadata": {},
   "source": [
    "#### NAWs"
   ]
  },
  {
   "cell_type": "code",
   "execution_count": 32,
   "metadata": {},
   "outputs": [
    {
     "name": "stdout",
     "output_type": "stream",
     "text": [
      "Percent of NAW less than 1: 59.8\n",
      "Percent of NAW less than 4: 94.4\n"
     ]
    }
   ],
   "source": [
    "cutoffs = [1,4]\n",
    "for cutoff in cutoffs:\n",
    "    p_lt_cutoff = sleep_survey[sleep_survey['naw'] <= cutoff]\n",
    "    print(f'Percent of NAW less than {cutoff}:', round(len(p_lt_cutoff)/len(sleep_survey)*100,1))"
   ]
  },
  {
   "cell_type": "code",
   "execution_count": 33,
   "metadata": {},
   "outputs": [
    {
     "data": {
      "text/html": [
       "<div>\n",
       "<style scoped>\n",
       "    .dataframe tbody tr th:only-of-type {\n",
       "        vertical-align: middle;\n",
       "    }\n",
       "\n",
       "    .dataframe tbody tr th {\n",
       "        vertical-align: top;\n",
       "    }\n",
       "\n",
       "    .dataframe thead th {\n",
       "        text-align: right;\n",
       "    }\n",
       "</style>\n",
       "<table border=\"1\" class=\"dataframe\">\n",
       "  <thead>\n",
       "    <tr style=\"text-align: right;\">\n",
       "      <th></th>\n",
       "      <th>beiwe</th>\n",
       "      <th>content</th>\n",
       "      <th>stress</th>\n",
       "      <th>lonely</th>\n",
       "      <th>sad</th>\n",
       "      <th>energy</th>\n",
       "      <th>tst</th>\n",
       "      <th>sol</th>\n",
       "      <th>naw</th>\n",
       "      <th>restful</th>\n",
       "      <th>redcap</th>\n",
       "      <th>beacon</th>\n",
       "      <th>date</th>\n",
       "      <th>WoY</th>\n",
       "      <th>Survey</th>\n",
       "      <th>hour</th>\n",
       "    </tr>\n",
       "    <tr>\n",
       "      <th>timestamp</th>\n",
       "      <th></th>\n",
       "      <th></th>\n",
       "      <th></th>\n",
       "      <th></th>\n",
       "      <th></th>\n",
       "      <th></th>\n",
       "      <th></th>\n",
       "      <th></th>\n",
       "      <th></th>\n",
       "      <th></th>\n",
       "      <th></th>\n",
       "      <th></th>\n",
       "      <th></th>\n",
       "      <th></th>\n",
       "      <th></th>\n",
       "      <th></th>\n",
       "    </tr>\n",
       "  </thead>\n",
       "  <tbody>\n",
       "    <tr>\n",
       "      <th>2020-07-30 20:21:15</th>\n",
       "      <td>cnpj2xu4</td>\n",
       "      <td>3</td>\n",
       "      <td>0.0</td>\n",
       "      <td>0.0</td>\n",
       "      <td>0.0</td>\n",
       "      <td>3.0</td>\n",
       "      <td>8.5</td>\n",
       "      <td>10.0</td>\n",
       "      <td>12.0</td>\n",
       "      <td>2.0</td>\n",
       "      <td>7</td>\n",
       "      <td>NaN</td>\n",
       "      <td>2020-07-30</td>\n",
       "      <td>31</td>\n",
       "      <td>Morning</td>\n",
       "      <td>20.350000</td>\n",
       "    </tr>\n",
       "    <tr>\n",
       "      <th>2020-05-24 11:37:51</th>\n",
       "      <td>hcpu5myv</td>\n",
       "      <td>3</td>\n",
       "      <td>1.0</td>\n",
       "      <td>1.0</td>\n",
       "      <td>1.0</td>\n",
       "      <td>2.0</td>\n",
       "      <td>9.0</td>\n",
       "      <td>5.0</td>\n",
       "      <td>15.0</td>\n",
       "      <td>3.0</td>\n",
       "      <td>27</td>\n",
       "      <td>41.0</td>\n",
       "      <td>2020-05-24</td>\n",
       "      <td>21</td>\n",
       "      <td>Morning</td>\n",
       "      <td>11.616667</td>\n",
       "    </tr>\n",
       "    <tr>\n",
       "      <th>2020-07-29 20:21:40</th>\n",
       "      <td>o6xwrota</td>\n",
       "      <td>1</td>\n",
       "      <td>3.0</td>\n",
       "      <td>0.0</td>\n",
       "      <td>1.0</td>\n",
       "      <td>2.0</td>\n",
       "      <td>4.0</td>\n",
       "      <td>120.0</td>\n",
       "      <td>12.0</td>\n",
       "      <td>0.0</td>\n",
       "      <td>31</td>\n",
       "      <td>NaN</td>\n",
       "      <td>2020-07-29</td>\n",
       "      <td>31</td>\n",
       "      <td>Morning</td>\n",
       "      <td>20.350000</td>\n",
       "    </tr>\n",
       "    <tr>\n",
       "      <th>2020-07-31 10:21:44</th>\n",
       "      <td>o6xwrota</td>\n",
       "      <td>0</td>\n",
       "      <td>3.0</td>\n",
       "      <td>0.0</td>\n",
       "      <td>0.0</td>\n",
       "      <td>1.0</td>\n",
       "      <td>5.0</td>\n",
       "      <td>18.0</td>\n",
       "      <td>12.0</td>\n",
       "      <td>0.0</td>\n",
       "      <td>31</td>\n",
       "      <td>NaN</td>\n",
       "      <td>2020-07-31</td>\n",
       "      <td>31</td>\n",
       "      <td>Morning</td>\n",
       "      <td>10.350000</td>\n",
       "    </tr>\n",
       "    <tr>\n",
       "      <th>2020-06-05 15:49:53</th>\n",
       "      <td>15tejjtw</td>\n",
       "      <td>2</td>\n",
       "      <td>2.0</td>\n",
       "      <td>1.0</td>\n",
       "      <td>0.0</td>\n",
       "      <td>2.0</td>\n",
       "      <td>9.0</td>\n",
       "      <td>10.0</td>\n",
       "      <td>15.0</td>\n",
       "      <td>2.0</td>\n",
       "      <td>45</td>\n",
       "      <td>NaN</td>\n",
       "      <td>2020-06-05</td>\n",
       "      <td>23</td>\n",
       "      <td>Morning</td>\n",
       "      <td>15.816667</td>\n",
       "    </tr>\n",
       "    <tr>\n",
       "      <th>2020-05-16 07:41:08</th>\n",
       "      <td>9xmhtq74</td>\n",
       "      <td>3</td>\n",
       "      <td>0.0</td>\n",
       "      <td>0.0</td>\n",
       "      <td>0.0</td>\n",
       "      <td>4.0</td>\n",
       "      <td>6.0</td>\n",
       "      <td>NaN</td>\n",
       "      <td>14.0</td>\n",
       "      <td>2.0</td>\n",
       "      <td>59</td>\n",
       "      <td>17.0</td>\n",
       "      <td>2020-05-16</td>\n",
       "      <td>20</td>\n",
       "      <td>Morning</td>\n",
       "      <td>7.683333</td>\n",
       "    </tr>\n",
       "    <tr>\n",
       "      <th>2020-05-19 05:37:02</th>\n",
       "      <td>9xmhtq74</td>\n",
       "      <td>2</td>\n",
       "      <td>1.0</td>\n",
       "      <td>0.0</td>\n",
       "      <td>NaN</td>\n",
       "      <td>2.0</td>\n",
       "      <td>6.0</td>\n",
       "      <td>60.0</td>\n",
       "      <td>13.0</td>\n",
       "      <td>2.0</td>\n",
       "      <td>59</td>\n",
       "      <td>17.0</td>\n",
       "      <td>2020-05-19</td>\n",
       "      <td>21</td>\n",
       "      <td>Morning</td>\n",
       "      <td>5.616667</td>\n",
       "    </tr>\n",
       "  </tbody>\n",
       "</table>\n",
       "</div>"
      ],
      "text/plain": [
       "                        beiwe content  stress  lonely  sad  energy  tst  \\\n",
       "timestamp                                                                 \n",
       "2020-07-30 20:21:15  cnpj2xu4       3     0.0     0.0  0.0     3.0  8.5   \n",
       "2020-05-24 11:37:51  hcpu5myv       3     1.0     1.0  1.0     2.0  9.0   \n",
       "2020-07-29 20:21:40  o6xwrota       1     3.0     0.0  1.0     2.0  4.0   \n",
       "2020-07-31 10:21:44  o6xwrota       0     3.0     0.0  0.0     1.0  5.0   \n",
       "2020-06-05 15:49:53  15tejjtw       2     2.0     1.0  0.0     2.0  9.0   \n",
       "2020-05-16 07:41:08  9xmhtq74       3     0.0     0.0  0.0     4.0  6.0   \n",
       "2020-05-19 05:37:02  9xmhtq74       2     1.0     0.0  NaN     2.0  6.0   \n",
       "\n",
       "                       sol   naw  restful  redcap  beacon        date  WoY  \\\n",
       "timestamp                                                                    \n",
       "2020-07-30 20:21:15   10.0  12.0      2.0       7     NaN  2020-07-30   31   \n",
       "2020-05-24 11:37:51    5.0  15.0      3.0      27    41.0  2020-05-24   21   \n",
       "2020-07-29 20:21:40  120.0  12.0      0.0      31     NaN  2020-07-29   31   \n",
       "2020-07-31 10:21:44   18.0  12.0      0.0      31     NaN  2020-07-31   31   \n",
       "2020-06-05 15:49:53   10.0  15.0      2.0      45     NaN  2020-06-05   23   \n",
       "2020-05-16 07:41:08    NaN  14.0      2.0      59    17.0  2020-05-16   20   \n",
       "2020-05-19 05:37:02   60.0  13.0      2.0      59    17.0  2020-05-19   21   \n",
       "\n",
       "                      Survey       hour  \n",
       "timestamp                                \n",
       "2020-07-30 20:21:15  Morning  20.350000  \n",
       "2020-05-24 11:37:51  Morning  11.616667  \n",
       "2020-07-29 20:21:40  Morning  20.350000  \n",
       "2020-07-31 10:21:44  Morning  10.350000  \n",
       "2020-06-05 15:49:53  Morning  15.816667  \n",
       "2020-05-16 07:41:08  Morning   7.683333  \n",
       "2020-05-19 05:37:02  Morning   5.616667  "
      ]
     },
     "execution_count": 33,
     "metadata": {},
     "output_type": "execute_result"
    }
   ],
   "source": [
    "sleep_survey[sleep_survey['naw'] > 10]"
   ]
  },
  {
   "cell_type": "markdown",
   "metadata": {},
   "source": [
    "#### Restful"
   ]
  },
  {
   "cell_type": "code",
   "execution_count": 34,
   "metadata": {},
   "outputs": [
    {
     "name": "stdout",
     "output_type": "stream",
     "text": [
      "Percent of Participants who rated their restfullness 0: 4.3\n",
      "Percent of Participants who rated their restfullness 1: 21.3\n",
      "Percent of Participants who rated their restfullness 2: 48.8\n",
      "Percent of Participants who rated their restfullness 3: 24.5\n"
     ]
    }
   ],
   "source": [
    "for val in [0,1,2,3]:\n",
    "    p = round(len(sleep_survey[sleep_survey['restful'] == val])/len(sleep_survey)*100,1)\n",
    "    print(f'Percent of Participants who rated their restfullness {val}: {p}')"
   ]
  },
  {
   "cell_type": "code",
   "execution_count": 35,
   "metadata": {},
   "outputs": [
    {
     "data": {
      "image/png": "[encoded data removed]",
      "text/plain": [
       "<Figure size 1728x288 with 4 Axes>"
      ]
     },
     "metadata": {
      "needs_background": "light"
     },
     "output_type": "display_data"
    }
   ],
   "source": [
    "plot_sleep_histogram(sleep_survey[sleep_survey['restful'] == 0])"
   ]
  },
  {
   "cell_type": "code",
   "execution_count": 36,
   "metadata": {},
   "outputs": [
    {
     "data": {
      "image/png": "[encoded data removed]",
      "text/plain": [
       "<Figure size 1296x288 with 3 Axes>"
      ]
     },
     "metadata": {
      "needs_background": "light"
     },
     "output_type": "display_data"
    }
   ],
   "source": [
    "fig, axes = plt.subplots(1,3,figsize=(18,4))\n",
    "for metric, ax in zip([\"tst\",\"sol\",\"naw\"],axes.flat):\n",
    "    df_to_plot = sleep_survey[sleep_survey[\"restful\"] >= 0]\n",
    "    sns.stripplot(x=\"restful\",y=metric,data=df_to_plot,ax=ax)\n",
    "    \n",
    "plt.show()\n",
    "plt.close()"
   ]
  },
  {
   "cell_type": "markdown",
   "metadata": {},
   "source": [
    "### Individual Histograms\n",
    "A subplot of all participants with the bottom row corresponding to the aggregate."
   ]
  },
  {
   "cell_type": "markdown",
   "metadata": {},
   "source": [
    "<div class=\"alert alert-block alert-danger\">\n",
    "    A plot with 51x4 subplots seems a bit excessive to try\n",
    "</div>"
   ]
  },
  {
   "cell_type": "markdown",
   "metadata": {},
   "source": [
    "### Differences in the Day of the Week\n",
    "Sleep metrics might vary by the day of the week, most notably the weekends."
   ]
  },
  {
   "cell_type": "code",
   "execution_count": null,
   "metadata": {
    "scrolled": true
   },
   "outputs": [],
   "source": [
    "def plot_sleep_metrics_by_day(morning=sleep_survey, save=False):\n",
    "    \"\"\"\n",
    "    Plots the mean sleep metric for the day of the week with error bars\n",
    "    \"\"\"\n",
    "    # grouping by night sleep (survey date - 1 day)\n",
    "    morning['DoW'] = (morning.index - timedelta(days=1)).strftime('%a')\n",
    "    # all participants\n",
    "    sleep_survey_dow = morning.groupby(['DoW']).mean()\n",
    "    sleep_survey_dow = sleep_survey_dow.reindex([\"Mon\", \"Tue\", \"Wed\",\"Thu\",\"Fri\",\"Sat\",'Sun'])\n",
    "    # looping through both dataframes\n",
    "    fig, axes = plt.subplots(4,1,figsize=(12,10),sharex=True)\n",
    "    limits = [[5,9],[10,30],[0,3],[0,3]]\n",
    "    for question, limit, ylabel, ax in zip(['tst','sol','naw','restful'],limits,['Hours','Minutes','Number','Score'],axes.flat):\n",
    "\n",
    "        sleep_survey_dow_plot = sleep_survey_dow[sleep_survey_dow[question] >= 0]\n",
    "        # Scattering for day of week\n",
    "        ax.scatter(sleep_survey_dow_plot.index,sleep_survey_dow_plot[question],s=50,color='black',zorder=10)\n",
    "        ax.set_title(question.upper())\n",
    "        ax.set_ylim(limit)\n",
    "        ax.set_ylabel(ylabel)\n",
    "\n",
    "        # Adding 95% CI\n",
    "        for day in sleep_survey['DoW'].unique():\n",
    "            sleep_survey_by_day = sleep_survey[sleep_survey['DoW'] == day]\n",
    "            sleep_survey_by_day = sleep_survey_by_day[sleep_survey_by_day[question] >= 0]\n",
    "            ci = st.t.interval(0.95, len(sleep_survey_by_day[question])-1,\n",
    "                          loc=np.mean(sleep_survey_by_day[question]),\n",
    "                          scale=st.sem(sleep_survey_by_day[question]))\n",
    "\n",
    "            ax.plot([day,day],ci,color='red',zorder=1) \n",
    "            # adding number of surveys on top figure\n",
    "            if question == 'tst':\n",
    "                ax.text('Mon',8,'n:   ',ha='right')\n",
    "                ax.text(day,8,len(sleep_survey_by_day))\n",
    "                \n",
    "        for loc in [\"top\",\"right\"]:\n",
    "            ax.spines[loc].set_visible(False)\n",
    "\n",
    "    plt.subplots_adjust(wspace=0,hspace=0.2)\n",
    "    if save:\n",
    "        plt.savefig(\"../reports/figures/ema_summary/beiwe-sleep_metrics_by_day-scatter-ux_s20.pdf\")\n",
    "    plt.show()\n",
    "    plt.close()"
   ]
  },
  {
   "cell_type": "code",
   "execution_count": null,
   "metadata": {},
   "outputs": [],
   "source": [
    "plot_sleep_metrics_by_day(save=False)"
   ]
  },
  {
   "cell_type": "markdown",
   "metadata": {},
   "source": [
    "# Analysis on Fully Filtered Dataset\n",
    "In the following cells, we only consider the data from the fully filtered dataset - that is data from nights when we have GPS confirming pts are home, Fitbit data confirming pts are asleep, and beacon data from their environment."
   ]
  },
  {
   "cell_type": "markdown",
   "metadata": {},
   "source": [
    "## Pre-Processing\n",
    "We have the nights we need to consider, so first we have to filter the overall EMA dataframe by the nights present in the fully filtered beacon data."
   ]
  },
  {
   "cell_type": "code",
   "execution_count": null,
   "metadata": {},
   "outputs": [],
   "source": [
    "ff_df = pd.read_csv('../data/processed/beacon-fb_ema_and_gps_filtered-ux_s20.csv',\n",
    "                                 index_col=\"timestamp\", parse_dates=[\"timestamp\",\"start_time\",\"end_time\"], infer_datetime_format=True)"
   ]
  },
  {
   "cell_type": "markdown",
   "metadata": {},
   "source": [
    "Adding date columns to eventually merge on"
   ]
  },
  {
   "cell_type": "code",
   "execution_count": null,
   "metadata": {},
   "outputs": [],
   "source": [
    "ff_df['date'] = ff_df['end_time'].dt.date\n",
    "sleep_survey['date'] = sleep_survey.index.date"
   ]
  },
  {
   "cell_type": "markdown",
   "metadata": {},
   "source": [
    "Merging the two dataframes to get the correct number of nights."
   ]
  },
  {
   "cell_type": "code",
   "execution_count": null,
   "metadata": {},
   "outputs": [],
   "source": [
    "ff_sleep_survey_df = pd.DataFrame() # dataframe to hold the relevant sleep EMAs\n",
    "# looping through fully filtered data and merging dataframes on common start times\n",
    "for pt in ff_df['beiwe'].unique():\n",
    "    ff_sleep_pt = sleep_survey[sleep_survey['beiwe'] == pt]\n",
    "    ff_pt = ff_df[ff_df['beiwe'] == pt]\n",
    "    ff_pt_summary = ff_pt.groupby('date').mean()\n",
    "    \n",
    "    ff_sleep_survey_df = ff_sleep_survey_df.append(pd.merge(left=ff_sleep_pt,right=ff_pt_summary,left_on='date',right_on='date',how='inner'))\n",
    "\n",
    "print('Number of nights with EMAs completed:', len(ff_sleep_survey_df))\n",
    "print(\"Number of participants:\",len(ff_sleep_survey_df[\"beiwe\"].unique()))"
   ]
  },
  {
   "cell_type": "code",
   "execution_count": null,
   "metadata": {},
   "outputs": [],
   "source": [
    "ff_sleep_survey_df.head()"
   ]
  },
  {
   "cell_type": "markdown",
   "metadata": {},
   "source": [
    "## Summary\n",
    "The following cells highlight some summary information and illustrate it with figures."
   ]
  },
  {
   "cell_type": "code",
   "execution_count": null,
   "metadata": {},
   "outputs": [],
   "source": [
    "def plot_individual_sleep_metric_histograms(df=ff_sleep_survey_df,save=False):\n",
    "    \"\"\"\n",
    "    \n",
    "    \"\"\"\n",
    "    fig, axes = plt.subplots(len(df[\"beiwe\"].unique())+1,4,figsize=(17,15),sharex=\"col\")#,sharey=\"row\")\n",
    "    df,_ = get_number_surveys_submitted(df)\n",
    "    # Plotting individual histograms\n",
    "    for i, pt in enumerate(df[\"beiwe\"].unique()):\n",
    "        # getting sleep metrics per pt\n",
    "        df_pt = df[df[\"beiwe\"] == pt]\n",
    "        # plotting each histogram per pt\n",
    "        for j, metric, xlimits, width in zip(np.arange(4),[\"tst\",\"sol\",\"naw\",\"restful\"],[[3,12],[0,40],[0,10],[0,4]],[1,5,1,1]):\n",
    "            n, bins, _ = axes[i,j].hist(df_pt[metric],bins=np.arange(xlimits[0],xlimits[1]+width,width),rwidth=0.9,color=\"cornflowerblue\",edgecolor='black')\n",
    "\n",
    "            axes[i,j].set_ylim([0,20])\n",
    "            for loc in [\"top\",\"right\"]:\n",
    "                axes[i,j].spines[loc].set_visible(False)\n",
    "            if j != 0:\n",
    "                axes[i,j].spines[\"left\"].set_visible(False)\n",
    "                axes[i,j].set_yticks([])\n",
    "    \n",
    "    # Plotting aggregate histogram (last row)\n",
    "    for j, metric, xlimits, width in zip(np.arange(4),[\"tst\",\"sol\",\"naw\",\"restful\"],[[3,12],[0,40],[0,10],[0,4]],[1,2,1,1]):\n",
    "        n, bins, _ = axes[len(df[\"beiwe\"].unique()),j].hist(df[metric],bins=np.arange(xlimits[0],xlimits[1]+width,width),rwidth=0.9,color=\"navy\",edgecolor='black')\n",
    "        axes[len(df[\"beiwe\"].unique()),j].set_ylim([0,120])\n",
    "        for loc in [\"top\",\"right\"]:\n",
    "            axes[len(df[\"beiwe\"].unique()),j].spines[loc].set_visible(False)\n",
    "        if j != 0:\n",
    "            axes[len(df[\"beiwe\"].unique()),j].spines[\"left\"].set_visible(False)\n",
    "            axes[len(df[\"beiwe\"].unique()),j].set_yticks([])\n",
    "\n",
    "    for k, label in enumerate([\"TST (hours)\",\"SOL (minutes)\",\"NAW\",\"Restful\"]):\n",
    "        axes[len(df[\"beiwe\"].unique()),k].set_xlabel(label)\n",
    "\n",
    "    plt.subplots_adjust(hspace=0.225,wspace=0.075)\n",
    "    if save:\n",
    "        plt.savefig(\"../reports/figures/ema_ff_summary/beiwe-sleep_metrics-histogram_by_pt-ux_s20.pdf\")\n",
    "    plt.show()\n",
    "    plt.close()"
   ]
  },
  {
   "cell_type": "code",
   "execution_count": null,
   "metadata": {},
   "outputs": [],
   "source": [
    "plot_individual_sleep_metric_histograms(save=False)"
   ]
  },
  {
   "cell_type": "markdown",
   "metadata": {},
   "source": [
    "## Individual Sleep Metric Summary"
   ]
  },
  {
   "cell_type": "code",
   "execution_count": null,
   "metadata": {},
   "outputs": [],
   "source": [
    "def plot_stacked_hist(df,var,limits,width=1,cmap='coolwarm',by_var='beiwe',save=False,save_dir='../reports/figures/ema_ff_summary/'):\n",
    "    '''\n",
    "    Plots a stacked histogram with each color representing a unique individual.\n",
    "    \n",
    "    Inputs:\n",
    "    - df: dataframe of the data\n",
    "    - var: string specifying the column in the dataframe to plot\n",
    "    - limits: tuple representing the lower and upper bound on the x-axis\n",
    "    - width: integer/float for the width of each bin\n",
    "    - by_var: string specifying the column to color the stacks by\n",
    "    - save: boolean to save or not\n",
    "    - save_dr: string representing the location to save the figure if save is True\n",
    "    \n",
    "    Returns the axes with the histogram\n",
    "    '''\n",
    "    list_to_plot = []\n",
    "    for pt in df[by_var].unique():\n",
    "        temp_df = df[df[by_var] == pt]\n",
    "        list_to_plot.append(temp_df[var].to_list())\n",
    "    \n",
    "    colors = cm.get_cmap(cmap, len(list_to_plot))\n",
    "    fig, ax = plt.subplots(figsize=(8,4))\n",
    "    n, bins, _ = ax.hist(list_to_plot,bins=np.arange(limits[0],limits[1]+width,width),stacked=True,rwidth=0.9,\n",
    "            color=colors(np.linspace(0, 1, len(list_to_plot))),edgecolor='black')\n",
    "    \n",
    "    for loc in ['right','top']:\n",
    "        ax.spines[loc].set_visible(False)\n",
    "    ax.set_ylabel('Count')\n",
    "\n",
    "    if save:\n",
    "        plt.savefig(f'{save_dir}/{var}-stacked_hist-ux_s20.pdf')\n",
    "        \n",
    "    return ax\n",
    "    "
   ]
  },
  {
   "cell_type": "markdown",
   "metadata": {},
   "source": [
    "### TST\n",
    "Total Sleep Time as reported by the participants"
   ]
  },
  {
   "cell_type": "code",
   "execution_count": null,
   "metadata": {},
   "outputs": [],
   "source": [
    "ax = plot_stacked_hist(ff_sleep_survey_df,'tst',[2,12],by_var='beiwe')\n",
    "ax.set_ylim([0,100])\n",
    "ax.set_xlabel('Hours')\n",
    "\n",
    "ax.axvline(7,color='black',linestyle='dashed',linewidth=2)\n",
    "ax.axvline(9,color='black',linestyle='dashed',linewidth=2)\n",
    "ax.text(8,90,\"Recommended\",ha='center',va='center')\n",
    "\n",
    "#plt.savefig('../reports/figures/beiwe_sleep_duration-stacked_hist-ux_s20.pdf')\n",
    "plt.show()\n",
    "plt.close()"
   ]
  },
  {
   "cell_type": "code",
   "execution_count": null,
   "metadata": {},
   "outputs": [],
   "source": [
    "p_7to9 = len(ff_sleep_survey_df[(ff_sleep_survey_df['tst'] >= 7) & (ff_sleep_survey_df['tst'] <= 9)])/len(ff_sleep_survey_df['tst'])\n",
    "print('Number of nights between 7 and 9 hours of sleep:\\t', p_7to9*100)\n",
    "\n",
    "p_6to7 = len(ff_sleep_survey_df[(ff_sleep_survey_df['tst'] >= 6) & (ff_sleep_survey_df['tst'] < 7)])/len(ff_sleep_survey_df['tst'])\n",
    "print('Number of nights between 6 and 7 hours of sleep:\\t', p_6to7*100)\n",
    "\n",
    "p_gt_7 = len(ff_sleep_survey_df[(ff_sleep_survey_df['tst'] >= 7)])/len(ff_sleep_survey_df['tst'])\n",
    "print('Number of nights greater than 7 hours of sleep:\\t\\t', p_gt_7*100)\n",
    "\n",
    "p_gt_9 = len(ff_sleep_survey_df[(ff_sleep_survey_df['tst'] > 9)])/len(ff_sleep_survey_df['tst'])\n",
    "print('Number of nights greater than 9 hours of sleep:\\t\\t', p_gt_9*100)\n",
    "\n",
    "p_lt_7 = len(ff_sleep_survey_df[(ff_sleep_survey_df['tst'] < 7)])/len(ff_sleep_survey_df['tst'])\n",
    "print('Number of nights less than 7 hours of sleep:\\t\\t', p_lt_7*100)"
   ]
  },
  {
   "cell_type": "markdown",
   "metadata": {},
   "source": [
    "Looking at the reported TSTs to see how participants tend to report TST."
   ]
  },
  {
   "cell_type": "code",
   "execution_count": null,
   "metadata": {},
   "outputs": [],
   "source": [
    "def plot_tst_raw_values(df=ff_sleep_survey_df,save=False):\n",
    "    \"\"\"\n",
    "    \n",
    "    \"\"\"\n",
    "    fig, ax = plt.subplots(figsize=(12,6))\n",
    "    ff_sleep_survey_df.sort_values(['tst'],inplace=True)\n",
    "    sns.swarmplot(df[\"tst\"],size=5,color=\"cornflowerblue\",ax=ax)\n",
    "    for loc in [\"top\",\"right\",\"left\"]:\n",
    "        ax.spines[loc].set_visible(False)\n",
    "\n",
    "    ax.set_xticks(np.arange(3,13,1))\n",
    "    ax.set_yticks([])\n",
    "    ax.grid(axis=\"x\")\n",
    "    if save:\n",
    "        plt.savefig(\"../reports/figures/ema_ff_summary/beiwe-tst-swarmplot-ux_s20.pdf\")\n",
    "    plt.show()\n",
    "    plt.close()"
   ]
  },
  {
   "cell_type": "code",
   "execution_count": null,
   "metadata": {},
   "outputs": [],
   "source": [
    "plot_tst_raw_values()"
   ]
  },
  {
   "cell_type": "markdown",
   "metadata": {},
   "source": [
    "<div class=\"alert alert-block alert-success\">\n",
    "    Participants tend to report their TST at half-hour increments with two exceptions.\n",
    "</div>"
   ]
  },
  {
   "cell_type": "markdown",
   "metadata": {},
   "source": [
    "### SOL\n",
    "We have SOL reported by the pts."
   ]
  },
  {
   "cell_type": "code",
   "execution_count": null,
   "metadata": {},
   "outputs": [],
   "source": [
    "ax = plot_stacked_hist(ff_sleep_survey_df,'sol',[0,60],width=5,by_var='beiwe')\n",
    "ax.set_ylim([0,100])\n",
    "ax.set_xlabel('Minutes')\n",
    "\n",
    "ax.axvline(15,color='black',linestyle='dashed',linewidth=2)\n",
    "ax.axvline(30,color='black',linestyle='dashed',linewidth=2)\n",
    "ax.axvline(45,color='black',linestyle='dashed',linewidth=2)\n",
    "ax.text(7.5,80,\"Great\",ha='center',va='center')\n",
    "ax.text(22.5,80,\"Good\",ha='center',va='center')\n",
    "ax.text(52.5,80,\"Poor\",ha='center',va='center')\n",
    "\n",
    "#plt.savefig('../reports/figures/beiwe_sleep_sol-stacked_hist-ux_s20.pdf')\n",
    "plt.show()\n",
    "plt.close()"
   ]
  },
  {
   "cell_type": "code",
   "execution_count": null,
   "metadata": {},
   "outputs": [],
   "source": [
    "cutoffs = [15,30,50]\n",
    "for cutoff in cutoffs:\n",
    "    p_lt_cutoff = ff_sleep_survey_df[ff_sleep_survey_df['sol'] < cutoff]\n",
    "    print(f'Percent of SOL less than {cutoff} minutes:', round(len(p_lt_cutoff)/len(ff_sleep_survey_df)*100,1))"
   ]
  },
  {
   "cell_type": "code",
   "execution_count": null,
   "metadata": {},
   "outputs": [],
   "source": [
    "high_sol = ff_sleep_survey_df[ff_sleep_survey_df['sol'] >= 30]\n",
    "high_sol"
   ]
  },
  {
   "cell_type": "markdown",
   "metadata": {},
   "source": [
    "###  Awakenings"
   ]
  },
  {
   "cell_type": "code",
   "execution_count": null,
   "metadata": {},
   "outputs": [],
   "source": [
    "ax = plot_stacked_hist(ff_sleep_survey_df,'naw',[0,11],width=1,by_var='beiwe')\n",
    "ax.set_ylim([0,100])\n",
    "ax.set_xlabel('Number')\n",
    "\n",
    "# resetting xtick-labels\n",
    "ax.set_xticks(np.arange(0.5,11.5,1))\n",
    "ax.set_xticklabels(np.arange(0,11,1))\n",
    "\n",
    "ax.axvline(2,color='black',linestyle='dashed',linewidth=2)\n",
    "ax.axvline(4,color='black',linestyle='dashed',linewidth=2)\n",
    "ax.text(1,80,\"Good\",ha='center',va='center')\n",
    "ax.text(5,80,\"Poor\",ha='center',va='center')\n",
    "\n",
    "#plt.savefig('../reports/figures/beiwe_sleep_awakenings-stacked_hist-ux_s20.pdf')\n",
    "plt.show()\n",
    "plt.close()"
   ]
  },
  {
   "cell_type": "code",
   "execution_count": null,
   "metadata": {},
   "outputs": [],
   "source": [
    "cutoffs = [2,4]\n",
    "for cutoff in cutoffs:\n",
    "    p_lt_cutoff = ff_sleep_survey_df[ff_sleep_survey_df['naw'] < cutoff]\n",
    "    print(f'Percent of NAW less than {cutoff}:', round(len(p_lt_cutoff)/len(ff_sleep_survey_df)*100,1))"
   ]
  },
  {
   "cell_type": "markdown",
   "metadata": {},
   "source": [
    "### Restful Score\n",
    "On a scale of 0-3 (not at all to very much)"
   ]
  },
  {
   "cell_type": "code",
   "execution_count": null,
   "metadata": {},
   "outputs": [],
   "source": [
    "ax = plot_stacked_hist(ff_sleep_survey_df,'restful',[0,4],width=1,by_var='beiwe')\n",
    "ax.set_ylim([0,100])\n",
    "ax.set_xticks([0.5,1.5,2.5,3.5])\n",
    "ax.set_xticklabels(['0: Not at all','1: A little bit','2: Quite a bit','3: Very much'])\n",
    "ax.set_xlabel('Response')\n",
    "\n",
    "#plt.savefig('../reports/figures/beiwe_sleep_restful-stacked_hist-ux_s20.pdf')\n",
    "plt.show()\n",
    "plt.close()"
   ]
  },
  {
   "cell_type": "code",
   "execution_count": null,
   "metadata": {},
   "outputs": [],
   "source": [
    "for val in [0,1,2,3]:\n",
    "    p = round(len(ff_sleep_survey_df[ff_sleep_survey_df['restful'] == val])/len(ff_sleep_survey_df)*100,1)\n",
    "    print(f'Percent of Participants who rated their restfullness {val}: {p}')"
   ]
  },
  {
   "cell_type": "markdown",
   "metadata": {},
   "source": [
    "Looking at the sleep summaries for those participants who had bad restfulness scores."
   ]
  },
  {
   "cell_type": "code",
   "execution_count": null,
   "metadata": {},
   "outputs": [],
   "source": [
    "rest_0 = ff_sleep_survey_df[ff_sleep_survey_df['restful'] == 0]\n",
    "rest_0"
   ]
  },
  {
   "cell_type": "markdown",
   "metadata": {},
   "source": [
    "### Comparing Poor Sleep Results\n",
    "There are a few outlying individuals and it would be interesting to see how many of these individuals are present as outliers. "
   ]
  },
  {
   "cell_type": "markdown",
   "metadata": {},
   "source": [
    "#### Bad Everything\n",
    "Here we check to see if any participant was poor in all four categories."
   ]
  },
  {
   "cell_type": "code",
   "execution_count": null,
   "metadata": {},
   "outputs": [],
   "source": [
    "def check_sleep_results(df=ff_sleep_survey_df):\n",
    "    \"\"\"\n",
    "    Used to check how many participants responded a certain way to each of the four sleep metric questions\n",
    "    \"\"\"\n",
    "    print(\"Inequalities:\\n\\t1. <\\n\\t2. >\\n\\t3. <=\\n\\t4. >=\\n\\t5. ==\")\n",
    "    for metric in [\"tst\",\"sol\",\"naw\",\"restful\"]:\n",
    "        try:\n",
    "            value = float(input(f\"Value to check for {metric}: \"))\n",
    "            inequality = int(input(\"Inequality: \"))\n",
    "        except ValueError:\n",
    "            value = -1\n",
    "            inequality = -1\n",
    "            \n",
    "        if inequality == 1:\n",
    "            print(f\"{metric} < {value}\")\n",
    "            df = df[df[metric] < value]\n",
    "        elif inequality == 2:\n",
    "            print(f\"{metric} > {value}\")\n",
    "            df = df[df[metric] > value]\n",
    "        elif inequality == 3:\n",
    "            print(f\"{metric} <= {value}\")\n",
    "            df = df[df[metric] <= value]\n",
    "        elif inequality == 4:\n",
    "            print(f\"{metric} >= {value}\")\n",
    "            df = df[df[metric] >= value]\n",
    "        elif inequality == 5:\n",
    "            print(f\"{metric} = {value}\")\n",
    "            df = df[df[metric] == value]\n",
    "        else:\n",
    "            print(f\"No test for {metric}\")\n",
    "            \n",
    "    return df"
   ]
  },
  {
   "cell_type": "code",
   "execution_count": null,
   "metadata": {},
   "outputs": [],
   "source": [
    "check_sleep_results()"
   ]
  },
  {
   "cell_type": "code",
   "execution_count": null,
   "metadata": {},
   "outputs": [],
   "source": [
    "tst_lt6 = ff_sleep_survey_df[ff_sleep_survey_df['tst'] < 6]\n",
    "print(tst_lt6.sort_values([\"beacon\"])['beacon'].unique())\n",
    "\n",
    "sol_gt30 = ff_sleep_survey_df[ff_sleep_survey_df['sol'] >= 30]\n",
    "print(sol_gt30.sort_values([\"beacon\"])['beacon'].unique())\n",
    "\n",
    "naw_gt4 = ff_sleep_survey_df[ff_sleep_survey_df['naw'] >= 4]\n",
    "print(naw_gt4.sort_values([\"beacon\"])['beacon'].unique())\n",
    "\n",
    "rest_0 = ff_sleep_survey_df[ff_sleep_survey_df['restful'] == 0]\n",
    "print(rest_0.sort_values([\"beacon\"])['beacon'].unique())\n"
   ]
  },
  {
   "cell_type": "markdown",
   "metadata": {},
   "source": [
    "<div class=\"alert alert-block alert-success\">\n",
    "    None of the participants scored poorly in all self-report sleep metrics.\n",
    "</div>"
   ]
  },
  {
   "cell_type": "markdown",
   "metadata": {},
   "source": [
    "#### Bad Restful and High NAW"
   ]
  },
  {
   "cell_type": "code",
   "execution_count": null,
   "metadata": {},
   "outputs": [],
   "source": [
    "check_sleep_results()"
   ]
  },
  {
   "cell_type": "markdown",
   "metadata": {},
   "source": [
    "<div class=\"alert alert-block alert-success\">\n",
    "    Only one person reported poor restfulness scores when considering their number of awakenings.\n",
    "</div>"
   ]
  },
  {
   "cell_type": "markdown",
   "metadata": {},
   "source": [
    "## Predictors for Poor Restful Scores\n",
    "We want to see which other self-report sleep measures are the best predictors for a poor or good restful sleep score."
   ]
  },
  {
   "cell_type": "code",
   "execution_count": null,
   "metadata": {},
   "outputs": [],
   "source": [
    "from sklearn.linear_model import LogisticRegression\n",
    "from sklearn.model_selection import train_test_split\n",
    "\n",
    "import statsmodels.api as sm"
   ]
  },
  {
   "cell_type": "markdown",
   "metadata": {},
   "source": [
    "### Binary Classification - All Restful Scores\n",
    "Here we consider all restful scores, but classify them as either bad (0,1) or good (2,3) to create a binary classification problem."
   ]
  },
  {
   "cell_type": "markdown",
   "metadata": {},
   "source": [
    "Massaging the data"
   ]
  },
  {
   "cell_type": "code",
   "execution_count": null,
   "metadata": {},
   "outputs": [],
   "source": [
    "x = ff_sleep_survey_df[['tst','sol','naw']]\n",
    "# rescaling SOL to hours so we have similar magnitudes\n",
    "x['sol'] /= 60\n",
    "y = ff_sleep_survey_df[['restful']]\n",
    "y['score'] = np.where(y['restful'] < 2, 0, 1)\n",
    "y.drop(['restful'],axis=1,inplace=True)"
   ]
  },
  {
   "cell_type": "markdown",
   "metadata": {},
   "source": [
    "Fitting the model and getting the coefficients"
   ]
  },
  {
   "cell_type": "code",
   "execution_count": null,
   "metadata": {},
   "outputs": [],
   "source": [
    "# SciKit\n",
    "model = LogisticRegression(solver='lbfgs')\n",
    "model.fit(x,y)\n",
    "# StatsModels\n",
    "x_sm = sm.add_constant(x)\n",
    "log_reg = sm.Logit(y, x_sm).fit(method='lbfgs')"
   ]
  },
  {
   "cell_type": "markdown",
   "metadata": {},
   "source": [
    "Comparing results from the two models"
   ]
  },
  {
   "cell_type": "code",
   "execution_count": null,
   "metadata": {},
   "outputs": [],
   "source": [
    "print(\"\\tSKL\\tSM\")\n",
    "for sleep_metric, sklearn_c, sm_c in zip(x.columns.values,model.coef_[0],log_reg.params[1:]):\n",
    "    print(f'{sleep_metric}:\\t{round(sklearn_c,3)}\\t{round(sm_c,3)}')\n",
    "    \n",
    "print(f'y-int:\\t{round(model.intercept_[0],3)}\\t{round(log_reg.params[0],3)}')"
   ]
  },
  {
   "cell_type": "markdown",
   "metadata": {},
   "source": [
    "<div class=\"alert alert-block alert-info\">\n",
    "    The TST seems to be the greatest predictor of restful sleep scores. \n",
    "<div>"
   ]
  },
  {
   "cell_type": "markdown",
   "metadata": {},
   "source": [
    "We can look at the individual contributions to the restful score but plotting a one-var logit."
   ]
  },
  {
   "cell_type": "code",
   "execution_count": null,
   "metadata": {
    "scrolled": false
   },
   "outputs": [],
   "source": [
    "fig, axes = plt.subplots(3,1,figsize=(12,12))\n",
    "xs = np.arange(0,14.1,0.1)\n",
    "ys = {'full':[],'tst':[],'sol':[],'naw':[]}\n",
    "for x_val in xs:\n",
    "    ys['full'].append(1 / (1+math.exp(-1*(model.intercept_[0]+x_val*model.coef_[0][0]+x_val*model.coef_[0][1]+x_val*model.coef_[0][2]))))\n",
    "    ys['tst'].append(1 / (1+math.exp(-1*(model.intercept_[0]+x_val*model.coef_[0][0]))))\n",
    "    ys['sol'].append(1 / (1+math.exp(-1*(model.intercept_[0]+x_val*model.coef_[0][1]))))\n",
    "    ys['naw'].append(1 / (1+math.exp(-1*(model.intercept_[0]+x_val*model.coef_[0][2]))))\n",
    "    \n",
    "ax = axes[0]\n",
    "ax.scatter(x['tst'],y['score'],color='cornflowerblue',edgecolor='black',s=50,label='Raw Data Points')\n",
    "ax.plot(xs,ys['tst'],color='firebrick',linewidth=1,label='TST Only')\n",
    "ax.set_xlabel('TST (hours)')\n",
    "\n",
    "ax = axes[1]\n",
    "ax.scatter(x['sol'],y['score'],color='cornflowerblue',edgecolor='black',s=50,label='Raw Data Points')\n",
    "ax.plot(xs,ys['sol'],color='firebrick',linewidth=1,label='SOL Only')\n",
    "ax.set_xlim([0,2])\n",
    "ax.set_xlabel('SOL (hours)')\n",
    "\n",
    "ax = axes[2]\n",
    "ax.scatter(x['naw'],y['score'],color='cornflowerblue',edgecolor='black',s=50,label='Raw Data Points')\n",
    "ax.plot(xs,ys['naw'],color='firebrick',linewidth=1,label='NAW Only')\n",
    "ax.set_xlabel('Number of Awakenings')\n",
    "\n",
    "for ax in axes:\n",
    "    ax.set_ylim([-0.1,1.1])\n",
    "    ax.set_yticks([0,1])\n",
    "    ax.set_yticklabels([\"Not Restful (0/1)\",\"Restful (3/4)\"])\n",
    "\n",
    "plt.subplots_adjust(hspace=0.2)\n",
    "plt.show()\n",
    "plt.close()\n"
   ]
  },
  {
   "cell_type": "markdown",
   "metadata": {},
   "source": [
    "#### TST Only\n",
    "Since TST seems to be the greatest predictor, we can create a model that takes into account only this parameter."
   ]
  },
  {
   "cell_type": "code",
   "execution_count": null,
   "metadata": {},
   "outputs": [],
   "source": [
    "# sklearn\n",
    "model = LogisticRegression()\n",
    "model.fit(x['tst'].values.reshape(-1, 1),y)\n",
    "\n",
    "print(f'TST:', round(model.coef_[0][0],3))\n",
    "print(f'Intercept: {round(model.intercept_[0],3)}')"
   ]
  },
  {
   "cell_type": "markdown",
   "metadata": {},
   "source": [
    "Similar results to when we included the other sleep metrics."
   ]
  }
 ],
 "metadata": {
  "kernelspec": {
   "display_name": "Python 3",
   "language": "python",
   "name": "python3"
  },
  "language_info": {
   "codemirror_mode": {
    "name": "ipython",
    "version": 3
   },
   "file_extension": ".py",
   "mimetype": "text/x-python",
   "name": "python",
   "nbconvert_exporter": "python",
   "pygments_lexer": "ipython3",
   "version": "3.7.0"
  },
  "toc": {
   "base_numbering": 1,
   "nav_menu": {},
   "number_sections": false,
   "sideBar": false,
   "skip_h1_title": false,
   "title_cell": "Table of Contents",
   "title_sidebar": "Contents",
   "toc_cell": false,
   "toc_position": {},
   "toc_section_display": false,
   "toc_window_display": false
  }
 },
 "nbformat": 4,
 "nbformat_minor": 4
}
