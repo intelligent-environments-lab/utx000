{
 "cells": [
  {
   "cell_type": "markdown",
   "metadata": {},
   "source": [
    "# Exploring the UTx000 Extension Beiwe Data\n",
    "(Known as BPEACE2 in the [GH repo](https://github.com/intelligent-environments-lab/utx000))"
   ]
  },
  {
   "cell_type": "markdown",
   "metadata": {},
   "source": [
    "# Summary\n",
    "Here we look at the Beiwe data that do not include the EMAs."
   ]
  },
  {
   "cell_type": "code",
   "execution_count": 1,
   "metadata": {},
   "outputs": [],
   "source": [
    "import warnings\n",
    "warnings.filterwarnings('ignore')"
   ]
  },
  {
   "cell_type": "markdown",
   "metadata": {},
   "source": [
    "# Package Import"
   ]
  },
  {
   "cell_type": "code",
   "execution_count": 2,
   "metadata": {},
   "outputs": [],
   "source": [
    "import sys\n",
    "sys.path.append('../')\n",
    "\n",
    "from src.features import build_features\n",
    "from src.visualization import visualize\n",
    "from src.reports import make_report\n",
    "\n",
    "import pandas as pd\n",
    "import numpy as np\n",
    "\n",
    "from datetime import datetime, timedelta\n",
    "\n",
    "import matplotlib.pyplot as plt"
   ]
  },
  {
   "cell_type": "markdown",
   "metadata": {},
   "source": [
    "# Data Import"
   ]
  },
  {
   "cell_type": "code",
   "execution_count": 13,
   "metadata": {},
   "outputs": [
    {
     "name": "stdout",
     "output_type": "stream",
     "text": [
      "'Beiwe' - using ID instead\n",
      "Number of morning-survey participants: 50\n",
      "'Beiwe' - using ID instead\n",
      "Number of evening-survey participants: 50\n",
      "'Beiwe' - using ID instead\n",
      "Number of weekly-survey participants: 49\n",
      "Number of gps participants: 52\n",
      "Number of accelerometer participants: 52\n",
      "Number of wifi participants: 10\n",
      "Number of bluetooth participants: 9\n"
     ]
    }
   ],
   "source": [
    "beiwe = {}\n",
    "for var in ['morning-survey','evening-survey','weekly-survey','gps','accelerometer','wifi','bluetooth',]:#'power_state','reachability']:\n",
    "    df = pd.read_csv(f'../data/processed/bpeace2-{var}.csv', index_col=0, parse_dates=True, infer_datetime_format=True)\n",
    "    try:\n",
    "        n = len(df['Beiwe'].unique())\n",
    "    except Exception as inst:\n",
    "        n = len(df['ID'].unique())\n",
    "    print(f'Number of {var} participants: {n}')\n",
    "    beiwe[var] = df"
   ]
  },
  {
   "cell_type": "code",
   "execution_count": null,
   "metadata": {},
   "outputs": [],
   "source": []
  }
 ],
 "metadata": {
  "kernelspec": {
   "display_name": "Python 3",
   "language": "python",
   "name": "python3"
  },
  "language_info": {
   "codemirror_mode": {
    "name": "ipython",
    "version": 3
   },
   "file_extension": ".py",
   "mimetype": "text/x-python",
   "name": "python",
   "nbconvert_exporter": "python",
   "pygments_lexer": "ipython3",
   "version": "3.7.0"
  }
 },
 "nbformat": 4,
 "nbformat_minor": 4
}
