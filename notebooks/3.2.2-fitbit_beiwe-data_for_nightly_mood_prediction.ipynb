{
 "cells": [
  {
   "cell_type": "markdown",
   "metadata": {},
   "source": [
    "# Data Preparation for UT3000 Nightly Mood Prediction"
   ]
  },
  {
   "cell_type": "code",
   "execution_count": 1,
   "metadata": {},
   "outputs": [],
   "source": [
    "import warnings\n",
    "warnings.filterwarnings('ignore')"
   ]
  },
  {
   "cell_type": "code",
   "execution_count": 3,
   "metadata": {},
   "outputs": [],
   "source": [
    "import os\n",
    "import sys\n",
    "sys.path.append('../')\n",
    "\n",
    "from src.visualization import visualize\n",
    "\n",
    "import pandas as pd\n",
    "pd.set_option('display.max_columns', 200)\n",
    "import numpy as np\n",
    "\n",
    "from datetime import datetime, timedelta\n",
    "\n",
    "import matplotlib.pyplot as plt\n",
    "import seaborn as sns\n",
    "import matplotlib.dates as mdates\n",
    "from matplotlib.cm import ScalarMappable\n",
    "\n",
    "from scipy import stats\n",
    "from sklearn.linear_model import LinearRegression"
   ]
  },
  {
   "cell_type": "markdown",
   "metadata": {},
   "source": [
    "<a id='toc'></a>"
   ]
  },
  {
   "cell_type": "markdown",
   "metadata": {},
   "source": [
    "# Table of Contents"
   ]
  },
  {
   "cell_type": "markdown",
   "metadata": {},
   "source": [
    "1. [Data Import](#data_import)\n",
    "2. [Pre-Processing](#pre_processing)\n",
    "3. [Inspection](#inspection)\n",
    "4. [Analysis](#analysis)"
   ]
  },
  {
   "cell_type": "markdown",
   "metadata": {},
   "source": [
    "---"
   ]
  },
  {
   "cell_type": "markdown",
   "metadata": {},
   "source": [
    "<a id='data_import'></a>"
   ]
  },
  {
   "cell_type": "markdown",
   "metadata": {},
   "source": [
    "[Back to ToC](#toc)\n",
    "# Data Import\n",
    "We have two datasets to import:"
   ]
  },
  {
   "cell_type": "markdown",
   "metadata": {},
   "source": [
    "## EMAs"
   ]
  },
  {
   "cell_type": "code",
   "execution_count": 67,
   "metadata": {},
   "outputs": [
    {
     "name": "stdout",
     "output_type": "stream",
     "text": [
      "energy\n",
      "15832\n",
      "lonely\n",
      "15754\n",
      "refreshed\n",
      "13429\n",
      "restful\n",
      "13386\n",
      "sad\n",
      "13351\n",
      "sleep\n",
      "13351\n",
      "stress\n",
      "13316\n"
     ]
    }
   ],
   "source": [
    "ema_1000 = pd.read_csv(\"/Volumes/HEF_Dissertation_Research/utx000/data/raw/ut1000/beiwe/content.csv\",index_col=0,parse_dates=[\"date\",\"datetime\"],infer_datetime_format=True)\n",
    "ema_1000.rename({\"answer\":\"answer_content\"},axis=\"columns\",inplace=True)\n",
    "for file in os.listdir(\"/Volumes/HEF_Dissertation_Research/utx000/data/raw/ut1000/beiwe/\"):\n",
    "    temp = pd.read_csv(f\"/Volumes/HEF_Dissertation_Research/utx000/data/raw/ut1000/beiwe/{file}\",index_col=0,parse_dates=[\"date\",\"datetime\"],infer_datetime_format=True)\n",
    "    mood = file.split(\".\")[0]\n",
    "    if mood != \"content\":\n",
    "        temp.rename({\"answer\":f\"answer_{mood}\"},axis=\"columns\",inplace=True)\n",
    "        if mood in [\"sleep\",\"refreshed\",\"restful\"]:\n",
    "            temp.sort_values([\"pid\",\"date\"],inplace=True)\n",
    "            temp.drop([\"datetime\"],axis=\"columns\",inplace=True)\n",
    "            temp.drop_duplicates(subset=[\"date\",\"pid\"],keep=\"first\",inplace=True)\n",
    "            ema_1000 = ema_1000.merge(temp,on=[\"date\",\"pid\"])\n",
    "        else:\n",
    "            ema_1000 = ema_1000.merge(temp,on=[\"date\",\"datetime\",\"pid\"])\n",
    "        print(mood)\n",
    "        print(len(ema_1000))"
   ]
  },
  {
   "cell_type": "code",
   "execution_count": 68,
   "metadata": {},
   "outputs": [
    {
     "data": {
      "text/html": [
       "<div>\n",
       "<style scoped>\n",
       "    .dataframe tbody tr th:only-of-type {\n",
       "        vertical-align: middle;\n",
       "    }\n",
       "\n",
       "    .dataframe tbody tr th {\n",
       "        vertical-align: top;\n",
       "    }\n",
       "\n",
       "    .dataframe thead th {\n",
       "        text-align: right;\n",
       "    }\n",
       "</style>\n",
       "<table border=\"1\" class=\"dataframe\">\n",
       "  <thead>\n",
       "    <tr style=\"text-align: right;\">\n",
       "      <th></th>\n",
       "      <th>date</th>\n",
       "      <th>datetime</th>\n",
       "      <th>answer_content</th>\n",
       "      <th>pid</th>\n",
       "      <th>answer_energy</th>\n",
       "      <th>answer_lonely</th>\n",
       "      <th>answer_refreshed</th>\n",
       "      <th>answer_restful</th>\n",
       "      <th>answer_sad</th>\n",
       "      <th>answer_sleep</th>\n",
       "      <th>answer_stress</th>\n",
       "    </tr>\n",
       "  </thead>\n",
       "  <tbody>\n",
       "    <tr>\n",
       "      <th>0</th>\n",
       "      <td>2018-10-17</td>\n",
       "      <td>2018-10-17 14:15:51</td>\n",
       "      <td>2</td>\n",
       "      <td>11i3mr4n</td>\n",
       "      <td>2</td>\n",
       "      <td>1</td>\n",
       "      <td>2</td>\n",
       "      <td>2</td>\n",
       "      <td>0</td>\n",
       "      <td>7.0</td>\n",
       "      <td>1</td>\n",
       "    </tr>\n",
       "    <tr>\n",
       "      <th>1</th>\n",
       "      <td>2018-10-19</td>\n",
       "      <td>2018-10-19 19:06:20</td>\n",
       "      <td>2</td>\n",
       "      <td>11i3mr4n</td>\n",
       "      <td>2</td>\n",
       "      <td>1</td>\n",
       "      <td>1</td>\n",
       "      <td>1</td>\n",
       "      <td>0</td>\n",
       "      <td>7.0</td>\n",
       "      <td>1</td>\n",
       "    </tr>\n",
       "    <tr>\n",
       "      <th>2</th>\n",
       "      <td>2018-10-23</td>\n",
       "      <td>2018-10-23 13:01:16</td>\n",
       "      <td>2</td>\n",
       "      <td>11i3mr4n</td>\n",
       "      <td>2</td>\n",
       "      <td>0</td>\n",
       "      <td>1</td>\n",
       "      <td>1</td>\n",
       "      <td>0</td>\n",
       "      <td>5.0</td>\n",
       "      <td>1</td>\n",
       "    </tr>\n",
       "    <tr>\n",
       "      <th>3</th>\n",
       "      <td>2018-10-27</td>\n",
       "      <td>2018-10-27 23:29:35</td>\n",
       "      <td>2</td>\n",
       "      <td>11i3mr4n</td>\n",
       "      <td>2</td>\n",
       "      <td>0</td>\n",
       "      <td>1</td>\n",
       "      <td>2</td>\n",
       "      <td>0</td>\n",
       "      <td>9.0</td>\n",
       "      <td>0</td>\n",
       "    </tr>\n",
       "    <tr>\n",
       "      <th>4</th>\n",
       "      <td>2018-10-11</td>\n",
       "      <td>2018-10-11 21:41:02</td>\n",
       "      <td>1</td>\n",
       "      <td>11jbbat5</td>\n",
       "      <td>2</td>\n",
       "      <td>0</td>\n",
       "      <td>2</td>\n",
       "      <td>3</td>\n",
       "      <td>2</td>\n",
       "      <td>5.0</td>\n",
       "      <td>3</td>\n",
       "    </tr>\n",
       "    <tr>\n",
       "      <th>5</th>\n",
       "      <td>2018-10-12</td>\n",
       "      <td>2018-10-12 23:26:33</td>\n",
       "      <td>1</td>\n",
       "      <td>11jbbat5</td>\n",
       "      <td>1</td>\n",
       "      <td>1</td>\n",
       "      <td>0</td>\n",
       "      <td>1</td>\n",
       "      <td>2</td>\n",
       "      <td>4.0</td>\n",
       "      <td>3</td>\n",
       "    </tr>\n",
       "    <tr>\n",
       "      <th>6</th>\n",
       "      <td>2018-10-14</td>\n",
       "      <td>2018-10-14 23:36:56</td>\n",
       "      <td>2</td>\n",
       "      <td>11jbbat5</td>\n",
       "      <td>3</td>\n",
       "      <td>0</td>\n",
       "      <td>1</td>\n",
       "      <td>2</td>\n",
       "      <td>1</td>\n",
       "      <td>12.0</td>\n",
       "      <td>3</td>\n",
       "    </tr>\n",
       "    <tr>\n",
       "      <th>7</th>\n",
       "      <td>2018-10-15</td>\n",
       "      <td>2018-10-15 22:38:02</td>\n",
       "      <td>2</td>\n",
       "      <td>11jbbat5</td>\n",
       "      <td>1</td>\n",
       "      <td>0</td>\n",
       "      <td>1</td>\n",
       "      <td>1</td>\n",
       "      <td>0</td>\n",
       "      <td>NaN</td>\n",
       "      <td>1</td>\n",
       "    </tr>\n",
       "    <tr>\n",
       "      <th>8</th>\n",
       "      <td>2018-10-16</td>\n",
       "      <td>2018-10-16 22:36:20</td>\n",
       "      <td>2</td>\n",
       "      <td>11jbbat5</td>\n",
       "      <td>2</td>\n",
       "      <td>0</td>\n",
       "      <td>2</td>\n",
       "      <td>2</td>\n",
       "      <td>1</td>\n",
       "      <td>3.0</td>\n",
       "      <td>2</td>\n",
       "    </tr>\n",
       "    <tr>\n",
       "      <th>9</th>\n",
       "      <td>2018-10-17</td>\n",
       "      <td>2018-10-18 09:49:38</td>\n",
       "      <td>1</td>\n",
       "      <td>11jbbat5</td>\n",
       "      <td>0</td>\n",
       "      <td>0</td>\n",
       "      <td>2</td>\n",
       "      <td>2</td>\n",
       "      <td>3</td>\n",
       "      <td>7.0</td>\n",
       "      <td>3</td>\n",
       "    </tr>\n",
       "    <tr>\n",
       "      <th>10</th>\n",
       "      <td>2018-10-18</td>\n",
       "      <td>2018-10-19 00:58:38</td>\n",
       "      <td>3</td>\n",
       "      <td>11jbbat5</td>\n",
       "      <td>3</td>\n",
       "      <td>0</td>\n",
       "      <td>2</td>\n",
       "      <td>1</td>\n",
       "      <td>3</td>\n",
       "      <td>6.0</td>\n",
       "      <td>0</td>\n",
       "    </tr>\n",
       "    <tr>\n",
       "      <th>11</th>\n",
       "      <td>2018-10-20</td>\n",
       "      <td>2018-10-20 16:04:53</td>\n",
       "      <td>1</td>\n",
       "      <td>11jbbat5</td>\n",
       "      <td>1</td>\n",
       "      <td>0</td>\n",
       "      <td>2</td>\n",
       "      <td>2</td>\n",
       "      <td>1</td>\n",
       "      <td>12.0</td>\n",
       "      <td>2</td>\n",
       "    </tr>\n",
       "    <tr>\n",
       "      <th>12</th>\n",
       "      <td>2018-10-21</td>\n",
       "      <td>2018-10-21 22:37:21</td>\n",
       "      <td>0</td>\n",
       "      <td>11jbbat5</td>\n",
       "      <td>1</td>\n",
       "      <td>0</td>\n",
       "      <td>2</td>\n",
       "      <td>2</td>\n",
       "      <td>3</td>\n",
       "      <td>4.0</td>\n",
       "      <td>3</td>\n",
       "    </tr>\n",
       "    <tr>\n",
       "      <th>13</th>\n",
       "      <td>2018-10-23</td>\n",
       "      <td>2018-10-23 23:11:40</td>\n",
       "      <td>1</td>\n",
       "      <td>11jbbat5</td>\n",
       "      <td>1</td>\n",
       "      <td>0</td>\n",
       "      <td>2</td>\n",
       "      <td>2</td>\n",
       "      <td>0</td>\n",
       "      <td>NaN</td>\n",
       "      <td>0</td>\n",
       "    </tr>\n",
       "    <tr>\n",
       "      <th>14</th>\n",
       "      <td>2018-10-24</td>\n",
       "      <td>2018-10-24 21:16:09</td>\n",
       "      <td>1</td>\n",
       "      <td>11jbbat5</td>\n",
       "      <td>1</td>\n",
       "      <td>0</td>\n",
       "      <td>3</td>\n",
       "      <td>2</td>\n",
       "      <td>0</td>\n",
       "      <td>NaN</td>\n",
       "      <td>2</td>\n",
       "    </tr>\n",
       "    <tr>\n",
       "      <th>15</th>\n",
       "      <td>2018-10-25</td>\n",
       "      <td>2018-10-25 23:22:01</td>\n",
       "      <td>2</td>\n",
       "      <td>11jbbat5</td>\n",
       "      <td>2</td>\n",
       "      <td>0</td>\n",
       "      <td>1</td>\n",
       "      <td>1</td>\n",
       "      <td>1</td>\n",
       "      <td>11.0</td>\n",
       "      <td>1</td>\n",
       "    </tr>\n",
       "    <tr>\n",
       "      <th>16</th>\n",
       "      <td>2018-10-26</td>\n",
       "      <td>2018-10-27 00:21:00</td>\n",
       "      <td>3</td>\n",
       "      <td>11jbbat5</td>\n",
       "      <td>2</td>\n",
       "      <td>0</td>\n",
       "      <td>2</td>\n",
       "      <td>0</td>\n",
       "      <td>0</td>\n",
       "      <td>0.0</td>\n",
       "      <td>0</td>\n",
       "    </tr>\n",
       "    <tr>\n",
       "      <th>17</th>\n",
       "      <td>2018-10-28</td>\n",
       "      <td>2018-10-28 22:29:53</td>\n",
       "      <td>1</td>\n",
       "      <td>11jbbat5</td>\n",
       "      <td>1</td>\n",
       "      <td>0</td>\n",
       "      <td>2</td>\n",
       "      <td>3</td>\n",
       "      <td>2</td>\n",
       "      <td>NaN</td>\n",
       "      <td>0</td>\n",
       "    </tr>\n",
       "    <tr>\n",
       "      <th>18</th>\n",
       "      <td>2018-10-29</td>\n",
       "      <td>2018-10-29 22:37:20</td>\n",
       "      <td>2</td>\n",
       "      <td>11jbbat5</td>\n",
       "      <td>1</td>\n",
       "      <td>0</td>\n",
       "      <td>1</td>\n",
       "      <td>1</td>\n",
       "      <td>2</td>\n",
       "      <td>7.0</td>\n",
       "      <td>1</td>\n",
       "    </tr>\n",
       "    <tr>\n",
       "      <th>19</th>\n",
       "      <td>2018-10-30</td>\n",
       "      <td>2018-10-30 23:07:54</td>\n",
       "      <td>0</td>\n",
       "      <td>11jbbat5</td>\n",
       "      <td>0</td>\n",
       "      <td>3</td>\n",
       "      <td>1</td>\n",
       "      <td>1</td>\n",
       "      <td>3</td>\n",
       "      <td>2.0</td>\n",
       "      <td>3</td>\n",
       "    </tr>\n",
       "  </tbody>\n",
       "</table>\n",
       "</div>"
      ],
      "text/plain": [
       "         date            datetime  answer_content       pid  answer_energy  \\\n",
       "0  2018-10-17 2018-10-17 14:15:51               2  11i3mr4n              2   \n",
       "1  2018-10-19 2018-10-19 19:06:20               2  11i3mr4n              2   \n",
       "2  2018-10-23 2018-10-23 13:01:16               2  11i3mr4n              2   \n",
       "3  2018-10-27 2018-10-27 23:29:35               2  11i3mr4n              2   \n",
       "4  2018-10-11 2018-10-11 21:41:02               1  11jbbat5              2   \n",
       "5  2018-10-12 2018-10-12 23:26:33               1  11jbbat5              1   \n",
       "6  2018-10-14 2018-10-14 23:36:56               2  11jbbat5              3   \n",
       "7  2018-10-15 2018-10-15 22:38:02               2  11jbbat5              1   \n",
       "8  2018-10-16 2018-10-16 22:36:20               2  11jbbat5              2   \n",
       "9  2018-10-17 2018-10-18 09:49:38               1  11jbbat5              0   \n",
       "10 2018-10-18 2018-10-19 00:58:38               3  11jbbat5              3   \n",
       "11 2018-10-20 2018-10-20 16:04:53               1  11jbbat5              1   \n",
       "12 2018-10-21 2018-10-21 22:37:21               0  11jbbat5              1   \n",
       "13 2018-10-23 2018-10-23 23:11:40               1  11jbbat5              1   \n",
       "14 2018-10-24 2018-10-24 21:16:09               1  11jbbat5              1   \n",
       "15 2018-10-25 2018-10-25 23:22:01               2  11jbbat5              2   \n",
       "16 2018-10-26 2018-10-27 00:21:00               3  11jbbat5              2   \n",
       "17 2018-10-28 2018-10-28 22:29:53               1  11jbbat5              1   \n",
       "18 2018-10-29 2018-10-29 22:37:20               2  11jbbat5              1   \n",
       "19 2018-10-30 2018-10-30 23:07:54               0  11jbbat5              0   \n",
       "\n",
       "    answer_lonely  answer_refreshed  answer_restful  answer_sad  answer_sleep  \\\n",
       "0               1                 2               2           0           7.0   \n",
       "1               1                 1               1           0           7.0   \n",
       "2               0                 1               1           0           5.0   \n",
       "3               0                 1               2           0           9.0   \n",
       "4               0                 2               3           2           5.0   \n",
       "5               1                 0               1           2           4.0   \n",
       "6               0                 1               2           1          12.0   \n",
       "7               0                 1               1           0           NaN   \n",
       "8               0                 2               2           1           3.0   \n",
       "9               0                 2               2           3           7.0   \n",
       "10              0                 2               1           3           6.0   \n",
       "11              0                 2               2           1          12.0   \n",
       "12              0                 2               2           3           4.0   \n",
       "13              0                 2               2           0           NaN   \n",
       "14              0                 3               2           0           NaN   \n",
       "15              0                 1               1           1          11.0   \n",
       "16              0                 2               0           0           0.0   \n",
       "17              0                 2               3           2           NaN   \n",
       "18              0                 1               1           2           7.0   \n",
       "19              3                 1               1           3           2.0   \n",
       "\n",
       "    answer_stress  \n",
       "0               1  \n",
       "1               1  \n",
       "2               1  \n",
       "3               0  \n",
       "4               3  \n",
       "5               3  \n",
       "6               3  \n",
       "7               1  \n",
       "8               2  \n",
       "9               3  \n",
       "10              0  \n",
       "11              2  \n",
       "12              3  \n",
       "13              0  \n",
       "14              2  \n",
       "15              1  \n",
       "16              0  \n",
       "17              0  \n",
       "18              1  \n",
       "19              3  "
      ]
     },
     "execution_count": 68,
     "metadata": {},
     "output_type": "execute_result"
    }
   ],
   "source": [
    "ema_1000.sort_values([\"pid\",\"date\"])[:20]"
   ]
  },
  {
   "cell_type": "code",
   "execution_count": null,
   "metadata": {},
   "outputs": [],
   "source": []
  },
  {
   "cell_type": "markdown",
   "metadata": {},
   "source": [
    "[Back to Data Import](#data_import)"
   ]
  },
  {
   "cell_type": "markdown",
   "metadata": {},
   "source": [
    "---"
   ]
  },
  {
   "cell_type": "markdown",
   "metadata": {},
   "source": [
    "<a id='pre_processing'></a>"
   ]
  },
  {
   "cell_type": "markdown",
   "metadata": {},
   "source": [
    "[Back to ToC](#toc)\n",
    "# Pre-Processing"
   ]
  },
  {
   "cell_type": "markdown",
   "metadata": {},
   "source": [
    "[Back to Pre-Processing](#pre_processing)"
   ]
  },
  {
   "cell_type": "markdown",
   "metadata": {},
   "source": [
    "---"
   ]
  },
  {
   "cell_type": "markdown",
   "metadata": {},
   "source": [
    "<a id='inspection'></a>"
   ]
  },
  {
   "cell_type": "markdown",
   "metadata": {},
   "source": [
    "[Back to ToC](#toc)\n",
    "# Inspection\n",
    "Various functions and initial looks at the raw and pre-processed data."
   ]
  },
  {
   "cell_type": "markdown",
   "metadata": {},
   "source": [
    "[Back to Inspection](#inspection)"
   ]
  },
  {
   "cell_type": "markdown",
   "metadata": {},
   "source": [
    "---"
   ]
  },
  {
   "cell_type": "markdown",
   "metadata": {},
   "source": [
    "<a id='analysis'></a>"
   ]
  },
  {
   "cell_type": "markdown",
   "metadata": {},
   "source": [
    "[Back to ToC](#toc)\n",
    "# Analysis\n",
    "The following is the general analysis that follows:"
   ]
  },
  {
   "cell_type": "markdown",
   "metadata": {},
   "source": [
    "[Back to Analysis](#analysis)"
   ]
  },
  {
   "cell_type": "markdown",
   "metadata": {},
   "source": [
    "---"
   ]
  },
  {
   "cell_type": "markdown",
   "metadata": {},
   "source": [
    "<a id='time_dependence'></a>"
   ]
  }
 ],
 "metadata": {
  "kernelspec": {
   "display_name": "Python 3",
   "language": "python",
   "name": "python3"
  },
  "language_info": {
   "codemirror_mode": {
    "name": "ipython",
    "version": 3
   },
   "file_extension": ".py",
   "mimetype": "text/x-python",
   "name": "python",
   "nbconvert_exporter": "python",
   "pygments_lexer": "ipython3",
   "version": "3.8.8"
  },
  "toc": {
   "base_numbering": 1,
   "nav_menu": {},
   "number_sections": false,
   "sideBar": false,
   "skip_h1_title": false,
   "title_cell": "Table of Contents",
   "title_sidebar": "Contents",
   "toc_cell": false,
   "toc_position": {},
   "toc_section_display": false,
   "toc_window_display": false
  }
 },
 "nbformat": 4,
 "nbformat_minor": 4
}
