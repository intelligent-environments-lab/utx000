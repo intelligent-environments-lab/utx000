{
 "cells": [
  {
   "cell_type": "markdown",
   "metadata": {},
   "source": [
    "# WCWH Community Rollout Preparation - BEVO Beacon Design\n",
    "For the upcoming rollout, we need to ensure proper aspects of the beacon are working correctly."
   ]
  },
  {
   "cell_type": "code",
   "execution_count": 3,
   "metadata": {},
   "outputs": [],
   "source": [
    "import warnings\n",
    "warnings.filterwarnings('ignore')"
   ]
  },
  {
   "cell_type": "markdown",
   "metadata": {},
   "source": [
    "# Internal Temperature\n",
    "The purpose of this notebook is to analyze the data from a few beacons to see how the temperature readings change depending on various design considerations."
   ]
  },
  {
   "cell_type": "code",
   "execution_count": 31,
   "metadata": {},
   "outputs": [],
   "source": [
    "import os\n",
    "import sys\n",
    "sys.path.append('../')\n",
    "\n",
    "import pandas as pd\n",
    "import numpy as np\n",
    "\n",
    "from datetime import datetime, timedelta\n",
    "\n",
    "import matplotlib.pyplot as plt\n",
    "import seaborn as sns\n",
    "import matplotlib.dates as mdates\n",
    "\n",
    "import statsmodels.api as sm"
   ]
  },
  {
   "cell_type": "markdown",
   "metadata": {},
   "source": [
    "## Design Considerations\n",
    "The design considerations are as follows and analyzed separately:\n",
    "1. **As-Is**: The do-nothing approach that might be fine based on the temperatures since not much analysis has been done with the temperature up to this point\n",
    "2. **Double Fans**: Adding an extra fan might increase the air flow and reduce the amount of hot air trapped in the beacon\n",
    "3. **Heat Sinks**: Adding heat sinks on the processor might be enough to dissipate the heat effectively\n",
    "4. **Fans and Heat Sinks**: Of course the final, and most comprehensive idea would be to combine ideas 2 and 3."
   ]
  },
  {
   "cell_type": "markdown",
   "metadata": {},
   "source": [
    "### Analysis Class\n",
    "The class below provides the framework to do the majority of the analysis."
   ]
  },
  {
   "cell_type": "code",
   "execution_count": 38,
   "metadata": {},
   "outputs": [],
   "source": [
    "class Internal_Temperature_Analysis:\n",
    "    \n",
    "    def __init__(self,beacon_list,ref_beacon,exp_start_datetime=datetime(2021,1,1,0,0),exp_end_datetime=datetime(2022,1,1,0,0),var=\"temperature_c\"):\n",
    "        # getting beacon data\n",
    "        self.test_beacons = beacon_list\n",
    "        self.ref_beacons = ref_beacon\n",
    "        self.all_beacons = beacon_list + ref_beacon\n",
    "        beacon = pd.read_csv(\"../data/processed/beacon-wcwh_0.csv\",index_col=0,parse_dates=True,infer_datetime_format=True)\n",
    "        self.data = beacon[beacon[\"beacon\"].isin(beacon_list)] # experiment data\n",
    "        self.ref = beacon[beacon[\"beacon\"].isin(ref_beacon)] # reference beacon\n",
    "        self.ref = self.ref.groupby(self.ref.index).mean() # averaging the ref beacon(s) data\n",
    "        \n",
    "        # other important paramters\n",
    "        self.starting = exp_start_datetime\n",
    "        self.ending = exp_end_datetime\n",
    "        self.var = var\n",
    "    \n",
    "    def compare_timeseries(self):\n",
    "        \"\"\"\n",
    "        Compares the time series measurements of the list of beacons\n",
    "        \"\"\"\n",
    "        fig, ax = plt.subplots(figsize=(12,6))\n",
    "        for bb in self.test_beacons:\n",
    "            data_by_bb = self.data[self.data[\"beacon\"] == bb]\n",
    "            ax.plot(data_by_bb.index,data_by_bb[self.var],label=bb,zorder=bb) # test lines\n",
    "        \n",
    "        ax.plot(self.ref.index,self.ref[self.var],linewidth=2,color=\"black\",label=\"Reference\",zorder=0) # reference line\n",
    "            \n",
    "        ax.set_xlim([self.starting,self.ending])\n",
    "        ax.legend()\n",
    "        plt.show()\n",
    "        plt.close()\n",
    "        \n",
    "    def get_delta(self):\n",
    "        \"\"\"\n",
    "        Gets the mean and median temperature differences\n",
    "        \"\"\"\n",
    "        delta_dict = {\"beacon\":[],\"mean\":[],\"median\":[]}\n",
    "        for bb in self.test_beacons:\n",
    "            data_by_bb = self.data[self.data[\"beacon\"] == bb]\n",
    "            avg = np.nanmean(data_by_bb[self.var]) - np.nanmean(self.ref[self.var])\n",
    "            med = np.nanmedian(data_by_bb[self.var]) - np.nanmedian(self.ref[self.var])\n",
    "            for key, val in zip(delta_dict.keys(),[bb,avg,med]):\n",
    "                delta_dict[key] = val\n",
    "                \n",
    "        return delta_dict"
   ]
  },
  {
   "cell_type": "markdown",
   "metadata": {},
   "source": [
    "### As-Is\n",
    "Here is the analysis from the first analysis."
   ]
  },
  {
   "cell_type": "code",
   "execution_count": 43,
   "metadata": {},
   "outputs": [
    {
     "ename": "TypeError",
     "evalue": "__init__() missing 1 required positional argument: 'ref_beacon'",
     "output_type": "error",
     "traceback": [
      "\u001b[0;31m---------------------------------------------------------------------------\u001b[0m",
      "\u001b[0;31mTypeError\u001b[0m                                 Traceback (most recent call last)",
      "\u001b[0;32m<ipython-input-43-b6e9c294639b>\u001b[0m in \u001b[0;36m<module>\u001b[0;34m\u001b[0m\n\u001b[0;32m----> 1\u001b[0;31m \u001b[0mexp1\u001b[0m \u001b[0;34m=\u001b[0m \u001b[0mInternal_Temperature_Analysis\u001b[0m\u001b[0;34m(\u001b[0m\u001b[0mbeacon_list\u001b[0m\u001b[0;34m=\u001b[0m\u001b[0;34m[\u001b[0m\u001b[0;36m7\u001b[0m\u001b[0;34m,\u001b[0m\u001b[0;36m24\u001b[0m\u001b[0;34m]\u001b[0m\u001b[0;34m)\u001b[0m\u001b[0;34m\u001b[0m\u001b[0m\n\u001b[0m\u001b[1;32m      2\u001b[0m \u001b[0mexp1\u001b[0m\u001b[0;34m.\u001b[0m\u001b[0mcompare_timeseries\u001b[0m\u001b[0;34m(\u001b[0m\u001b[0;34m)\u001b[0m\u001b[0;34m\u001b[0m\u001b[0m\n",
      "\u001b[0;31mTypeError\u001b[0m: __init__() missing 1 required positional argument: 'ref_beacon'"
     ]
    }
   ],
   "source": [
    "exp1 = Internal_Temperature_Analysis(beacon_list=[7,24])\n",
    "exp1.compare_timeseries()"
   ]
  },
  {
   "cell_type": "markdown",
   "metadata": {},
   "source": [
    "### Double Fans\n",
    "Adding an extra fan should provide more ventilation and therefore cooler temperatures inside the RPi. "
   ]
  },
  {
   "cell_type": "code",
   "execution_count": 40,
   "metadata": {},
   "outputs": [],
   "source": [
    "exp2 = Internal_Temperature_Analysis([20],[8],datetime(2021,1,19,18,0),datetime(2021,1,20,8,30))"
   ]
  },
  {
   "cell_type": "code",
   "execution_count": 42,
   "metadata": {},
   "outputs": [
    {
     "data": {
      "text/plain": [
       "{'beacon': 20, 'mean': -2.675643154341344, 'median': -2.5}"
      ]
     },
     "execution_count": 42,
     "metadata": {},
     "output_type": "execute_result"
    }
   ],
   "source": [
    "d = exp2.get_delta()\n",
    "d"
   ]
  },
  {
   "cell_type": "code",
   "execution_count": null,
   "metadata": {},
   "outputs": [],
   "source": []
  },
  {
   "cell_type": "code",
   "execution_count": null,
   "metadata": {},
   "outputs": [],
   "source": []
  }
 ],
 "metadata": {
  "kernelspec": {
   "display_name": "Python 3",
   "language": "python",
   "name": "python3"
  },
  "language_info": {
   "codemirror_mode": {
    "name": "ipython",
    "version": 3
   },
   "file_extension": ".py",
   "mimetype": "text/x-python",
   "name": "python",
   "nbconvert_exporter": "python",
   "pygments_lexer": "ipython3",
   "version": "3.7.0"
  },
  "toc": {
   "base_numbering": 1,
   "nav_menu": {},
   "number_sections": false,
   "sideBar": false,
   "skip_h1_title": false,
   "title_cell": "Table of Contents",
   "title_sidebar": "Contents",
   "toc_cell": false,
   "toc_position": {},
   "toc_section_display": false,
   "toc_window_display": false
  }
 },
 "nbformat": 4,
 "nbformat_minor": 4
}
