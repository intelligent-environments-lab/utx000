{
 "cells": [
  {
   "cell_type": "markdown",
   "metadata": {},
   "source": [
    "# WCWH Community Rollout Preparation - BEVO Beacon Design\n",
    "For the upcoming rollout, we need to ensure proper aspects of the beacon are working correctly."
   ]
  },
  {
   "cell_type": "code",
   "execution_count": 1,
   "metadata": {},
   "outputs": [],
   "source": [
    "import warnings\n",
    "warnings.filterwarnings('ignore')"
   ]
  },
  {
   "cell_type": "markdown",
   "metadata": {},
   "source": [
    "# Internal Temperature\n",
    "The purpose of this notebook is to analyze the data from a few beacons to see how the temperature readings change depending on various design considerations."
   ]
  },
  {
   "cell_type": "code",
   "execution_count": 2,
   "metadata": {},
   "outputs": [],
   "source": [
    "import os\n",
    "import sys\n",
    "sys.path.append('../')\n",
    "\n",
    "from src.features import build_features\n",
    "from src.visualization import visualize\n",
    "from src.reports import make_report\n",
    "\n",
    "import pandas as pd\n",
    "import numpy as np\n",
    "\n",
    "from datetime import datetime, timedelta\n",
    "\n",
    "import matplotlib.pyplot as plt\n",
    "import seaborn as sns\n",
    "import matplotlib.dates as mdates\n",
    "\n",
    "import statsmodels.api as sm"
   ]
  },
  {
   "cell_type": "markdown",
   "metadata": {},
   "source": [
    "## Design Considerations\n",
    "The design considerations are as follows and analyzed separately:\n",
    "1. **As-Is**: The do-nothing approach that might be fine based on the temperatures since not much analysis has been done with the temperature up to this point\n",
    "2. **Double Fans**: Adding an extra fan might increase the air flow and reduce the amount of hot air trapped in the beacon\n",
    "3. **Heat Sinks**: Adding heat sinks on the processor might be enough to dissipate the heat effectively\n",
    "4. **Fans and Heat Sinks**: Of course the final, and most comprehensive idea would be to combine ideas 2 and 3."
   ]
  },
  {
   "cell_type": "code",
   "execution_count": 52,
   "metadata": {},
   "outputs": [],
   "source": [
    "class Internal_Temperature_Analysis:\n",
    "    \n",
    "    def __init__(self,beacon_list,exp_start_datetime=datetime(2021,1,1,0,0),exp_end_datetime=datetime(2022,1,1,0,0),var=\"temperature_c\"):\n",
    "        # getting beacon data\n",
    "        beacon = pd.read_csv(\"../data/processed/beacon-wcwh_0.csv\",index_col=0,parse_dates=True,infer_datetime_format=True)\n",
    "        self.data = beacon[beacon[\"beacon\"].isin(beacon_list)]\n",
    "        \n",
    "        # other important paramters\n",
    "        self.starting = exp_start_datetime\n",
    "        self.ending = exp_end_datetime\n",
    "        self.var = var\n",
    "    \n",
    "    def compare_timeseries(self):\n",
    "        \"\"\"\n",
    "        Compares the time series measurements of the list of beacons\n",
    "        \"\"\"\n",
    "        fig, ax = plt.subplots(figsize=(12,6))\n",
    "        for bb in self.data[\"beacon\"].unique():\n",
    "            data_by_bb = self.data[self.data[\"beacon\"] == bb]\n",
    "            ax.plot(data_by_bb.index,data_by_bb[self.var],label=bb)\n",
    "            \n",
    "        ax.set_xlim([self.starting,self.ending])\n",
    "        ax.legend()\n",
    "        plt.show()\n",
    "        plt.close()"
   ]
  },
  {
   "cell_type": "markdown",
   "metadata": {},
   "source": [
    "### As-Is\n",
    "Here is the analysis from the first analysis."
   ]
  },
  {
   "cell_type": "code",
   "execution_count": 53,
   "metadata": {},
   "outputs": [
    {
     "data": {
      "image/png": "[encoded data removed]",
      "text/plain": [
       "<Figure size 864x432 with 1 Axes>"
      ]
     },
     "metadata": {
      "needs_background": "light"
     },
     "output_type": "display_data"
    }
   ],
   "source": [
    "exp1 = Internal_Temperature_Analysis(beacon_list=[7,24])\n",
    "exp1.compare_timeseries()"
   ]
  }
 ],
 "metadata": {
  "kernelspec": {
   "display_name": "Python 3",
   "language": "python",
   "name": "python3"
  },
  "language_info": {
   "codemirror_mode": {
    "name": "ipython",
    "version": 3
   },
   "file_extension": ".py",
   "mimetype": "text/x-python",
   "name": "python",
   "nbconvert_exporter": "python",
   "pygments_lexer": "ipython3",
   "version": "3.7.0"
  },
  "toc": {
   "base_numbering": 1,
   "nav_menu": {},
   "number_sections": false,
   "sideBar": false,
   "skip_h1_title": false,
   "title_cell": "Table of Contents",
   "title_sidebar": "Contents",
   "toc_cell": false,
   "toc_position": {},
   "toc_section_display": false,
   "toc_window_display": false
  }
 },
 "nbformat": 4,
 "nbformat_minor": 4
}
