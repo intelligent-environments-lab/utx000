{
 "cells": [
  {
   "cell_type": "markdown",
   "metadata": {},
   "source": [
    "# IAQ and Fitbit-Measured Sleep Exploration\n",
    "Arguably the main attraction (for me at least), we explore the effect of IAQ parameters on Fitbit-measured sleep parameters."
   ]
  },
  {
   "cell_type": "markdown",
   "metadata": {},
   "source": [
    "## Percent Change in Nightly Pollutants and Fitbit-Measured SE/REM:NREM"
   ]
  },
  {
   "cell_type": "markdown",
   "metadata": {},
   "source": [
    "At the writing of this notebook, the beacons have not been post-calibrated. Therefore the pollutant metric to consider is the percent change or some differencing approach because the changes are correct, while the values might not be."
   ]
  },
  {
   "cell_type": "code",
   "execution_count": 15,
   "metadata": {},
   "outputs": [],
   "source": [
    "import os\n",
    "import sys\n",
    "sys.path.append('../')\n",
    "\n",
    "from src.features import build_features\n",
    "from src.visualization import visualize\n",
    "from src.reports import make_report\n",
    "\n",
    "import pandas as pd\n",
    "import numpy as np\n",
    "\n",
    "from datetime import datetime, timedelta\n",
    "\n",
    "import matplotlib.pyplot as plt\n",
    "import seaborn as sns\n",
    "import matplotlib.dates as mdates\n",
    "\n",
    "import statsmodels.api as sm\n",
    "\n",
    "import warnings\n",
    "warnings.filterwarnings('ignore')"
   ]
  },
  {
   "cell_type": "markdown",
   "metadata": {},
   "source": [
    "## Data Import\n",
    "For this analysis we need both daily Fitbit sleep summary and the sleep stages summary files"
   ]
  },
  {
   "cell_type": "markdown",
   "metadata": {},
   "source": [
    "### Fitbit Sleep Summary"
   ]
  },
  {
   "cell_type": "code",
   "execution_count": 3,
   "metadata": {},
   "outputs": [
    {
     "data": {
      "text/html": [
       "<div>\n",
       "<style scoped>\n",
       "    .dataframe tbody tr th:only-of-type {\n",
       "        vertical-align: middle;\n",
       "    }\n",
       "\n",
       "    .dataframe tbody tr th {\n",
       "        vertical-align: top;\n",
       "    }\n",
       "\n",
       "    .dataframe thead th {\n",
       "        text-align: right;\n",
       "    }\n",
       "</style>\n",
       "<table border=\"1\" class=\"dataframe\">\n",
       "  <thead>\n",
       "    <tr style=\"text-align: right;\">\n",
       "      <th></th>\n",
       "      <th>date</th>\n",
       "      <th>dateOfSleep</th>\n",
       "      <th>duration</th>\n",
       "      <th>efficiency</th>\n",
       "      <th>endTime</th>\n",
       "      <th>infoCode</th>\n",
       "      <th>isMainSleep</th>\n",
       "      <th>logId</th>\n",
       "      <th>minutesAfterWakeup</th>\n",
       "      <th>minutesAsleep</th>\n",
       "      <th>minutesAwake</th>\n",
       "      <th>minutesToFallAsleep</th>\n",
       "      <th>startTime</th>\n",
       "      <th>timeInBed</th>\n",
       "      <th>beiwe</th>\n",
       "      <th>endDate</th>\n",
       "    </tr>\n",
       "  </thead>\n",
       "  <tbody>\n",
       "    <tr>\n",
       "      <th>0</th>\n",
       "      <td>2020-05-01</td>\n",
       "      <td>2020-05-01</td>\n",
       "      <td>38400000</td>\n",
       "      <td>92</td>\n",
       "      <td>2020-05-01 12:12:30</td>\n",
       "      <td>0</td>\n",
       "      <td>True</td>\n",
       "      <td>26980914882</td>\n",
       "      <td>0</td>\n",
       "      <td>567</td>\n",
       "      <td>73</td>\n",
       "      <td>0</td>\n",
       "      <td>2020-05-01 01:32:30</td>\n",
       "      <td>640</td>\n",
       "      <td>15tejjtw</td>\n",
       "      <td>2020-05-01</td>\n",
       "    </tr>\n",
       "    <tr>\n",
       "      <th>1</th>\n",
       "      <td>2020-05-02</td>\n",
       "      <td>2020-05-02</td>\n",
       "      <td>39060000</td>\n",
       "      <td>91</td>\n",
       "      <td>2020-05-02 13:13:00</td>\n",
       "      <td>0</td>\n",
       "      <td>True</td>\n",
       "      <td>26996086598</td>\n",
       "      <td>0</td>\n",
       "      <td>557</td>\n",
       "      <td>94</td>\n",
       "      <td>0</td>\n",
       "      <td>2020-05-02 02:21:30</td>\n",
       "      <td>651</td>\n",
       "      <td>15tejjtw</td>\n",
       "      <td>2020-05-02</td>\n",
       "    </tr>\n",
       "    <tr>\n",
       "      <th>2</th>\n",
       "      <td>2020-05-03</td>\n",
       "      <td>2020-05-03</td>\n",
       "      <td>21660000</td>\n",
       "      <td>88</td>\n",
       "      <td>2020-05-03 08:01:00</td>\n",
       "      <td>0</td>\n",
       "      <td>True</td>\n",
       "      <td>27009771663</td>\n",
       "      <td>1</td>\n",
       "      <td>301</td>\n",
       "      <td>60</td>\n",
       "      <td>0</td>\n",
       "      <td>2020-05-03 01:59:30</td>\n",
       "      <td>361</td>\n",
       "      <td>15tejjtw</td>\n",
       "      <td>2020-05-03</td>\n",
       "    </tr>\n",
       "    <tr>\n",
       "      <th>3</th>\n",
       "      <td>2020-05-04</td>\n",
       "      <td>2020-05-04</td>\n",
       "      <td>36480000</td>\n",
       "      <td>89</td>\n",
       "      <td>2020-05-04 14:13:30</td>\n",
       "      <td>0</td>\n",
       "      <td>True</td>\n",
       "      <td>27022238683</td>\n",
       "      <td>0</td>\n",
       "      <td>515</td>\n",
       "      <td>93</td>\n",
       "      <td>0</td>\n",
       "      <td>2020-05-04 04:05:00</td>\n",
       "      <td>608</td>\n",
       "      <td>15tejjtw</td>\n",
       "      <td>2020-05-04</td>\n",
       "    </tr>\n",
       "    <tr>\n",
       "      <th>4</th>\n",
       "      <td>2020-05-06</td>\n",
       "      <td>2020-05-06</td>\n",
       "      <td>30420000</td>\n",
       "      <td>87</td>\n",
       "      <td>2020-05-06 10:24:00</td>\n",
       "      <td>0</td>\n",
       "      <td>True</td>\n",
       "      <td>27052041978</td>\n",
       "      <td>0</td>\n",
       "      <td>433</td>\n",
       "      <td>74</td>\n",
       "      <td>0</td>\n",
       "      <td>2020-05-06 01:56:30</td>\n",
       "      <td>507</td>\n",
       "      <td>15tejjtw</td>\n",
       "      <td>2020-05-06</td>\n",
       "    </tr>\n",
       "  </tbody>\n",
       "</table>\n",
       "</div>"
      ],
      "text/plain": [
       "        date dateOfSleep  duration  efficiency             endTime  infoCode  \\\n",
       "0 2020-05-01  2020-05-01  38400000          92 2020-05-01 12:12:30         0   \n",
       "1 2020-05-02  2020-05-02  39060000          91 2020-05-02 13:13:00         0   \n",
       "2 2020-05-03  2020-05-03  21660000          88 2020-05-03 08:01:00         0   \n",
       "3 2020-05-04  2020-05-04  36480000          89 2020-05-04 14:13:30         0   \n",
       "4 2020-05-06  2020-05-06  30420000          87 2020-05-06 10:24:00         0   \n",
       "\n",
       "   isMainSleep        logId  minutesAfterWakeup  minutesAsleep  minutesAwake  \\\n",
       "0         True  26980914882                   0            567            73   \n",
       "1         True  26996086598                   0            557            94   \n",
       "2         True  27009771663                   1            301            60   \n",
       "3         True  27022238683                   0            515            93   \n",
       "4         True  27052041978                   0            433            74   \n",
       "\n",
       "   minutesToFallAsleep           startTime  timeInBed     beiwe     endDate  \n",
       "0                    0 2020-05-01 01:32:30        640  15tejjtw  2020-05-01  \n",
       "1                    0 2020-05-02 02:21:30        651  15tejjtw  2020-05-02  \n",
       "2                    0 2020-05-03 01:59:30        361  15tejjtw  2020-05-03  \n",
       "3                    0 2020-05-04 04:05:00        608  15tejjtw  2020-05-04  \n",
       "4                    0 2020-05-06 01:56:30        507  15tejjtw  2020-05-06  "
      ]
     },
     "execution_count": 3,
     "metadata": {},
     "output_type": "execute_result"
    }
   ],
   "source": [
    "sleep = pd.read_csv(\"../data/processed/bpeace2-fitbit-sleep-daily.csv\",\n",
    "                    parse_dates=['date','startTime','endTime'],infer_datetime_format=True)\n",
    "end_dates = []\n",
    "for d in sleep['endTime']:\n",
    "    end_dates.append(d.date())\n",
    "sleep['endDate'] = end_dates\n",
    "sleep.head()"
   ]
  },
  {
   "cell_type": "markdown",
   "metadata": {},
   "source": [
    "### Fitbit Sleep Stage Summary"
   ]
  },
  {
   "cell_type": "code",
   "execution_count": 4,
   "metadata": {},
   "outputs": [
    {
     "data": {
      "text/html": [
       "<div>\n",
       "<style scoped>\n",
       "    .dataframe tbody tr th:only-of-type {\n",
       "        vertical-align: middle;\n",
       "    }\n",
       "\n",
       "    .dataframe tbody tr th {\n",
       "        vertical-align: top;\n",
       "    }\n",
       "\n",
       "    .dataframe thead th {\n",
       "        text-align: right;\n",
       "    }\n",
       "</style>\n",
       "<table border=\"1\" class=\"dataframe\">\n",
       "  <thead>\n",
       "    <tr style=\"text-align: right;\">\n",
       "      <th></th>\n",
       "      <th>startDate</th>\n",
       "      <th>endDate</th>\n",
       "      <th>deep_count</th>\n",
       "      <th>deep_minutes</th>\n",
       "      <th>light_count</th>\n",
       "      <th>light_minutes</th>\n",
       "      <th>rem_count</th>\n",
       "      <th>rem_minutes</th>\n",
       "      <th>wake_count</th>\n",
       "      <th>wake_minutes</th>\n",
       "      <th>beiwe</th>\n",
       "    </tr>\n",
       "  </thead>\n",
       "  <tbody>\n",
       "    <tr>\n",
       "      <th>0</th>\n",
       "      <td>2020-05-01</td>\n",
       "      <td>2020-05-01</td>\n",
       "      <td>5</td>\n",
       "      <td>119</td>\n",
       "      <td>43</td>\n",
       "      <td>313</td>\n",
       "      <td>18</td>\n",
       "      <td>135</td>\n",
       "      <td>53</td>\n",
       "      <td>73</td>\n",
       "      <td>15tejjtw</td>\n",
       "    </tr>\n",
       "    <tr>\n",
       "      <th>1</th>\n",
       "      <td>2020-05-02</td>\n",
       "      <td>2020-05-02</td>\n",
       "      <td>4</td>\n",
       "      <td>115</td>\n",
       "      <td>46</td>\n",
       "      <td>336</td>\n",
       "      <td>12</td>\n",
       "      <td>106</td>\n",
       "      <td>47</td>\n",
       "      <td>94</td>\n",
       "      <td>15tejjtw</td>\n",
       "    </tr>\n",
       "    <tr>\n",
       "      <th>2</th>\n",
       "      <td>2020-05-03</td>\n",
       "      <td>2020-05-03</td>\n",
       "      <td>4</td>\n",
       "      <td>90</td>\n",
       "      <td>22</td>\n",
       "      <td>157</td>\n",
       "      <td>5</td>\n",
       "      <td>54</td>\n",
       "      <td>20</td>\n",
       "      <td>60</td>\n",
       "      <td>15tejjtw</td>\n",
       "    </tr>\n",
       "    <tr>\n",
       "      <th>3</th>\n",
       "      <td>2020-05-04</td>\n",
       "      <td>2020-05-04</td>\n",
       "      <td>5</td>\n",
       "      <td>104</td>\n",
       "      <td>40</td>\n",
       "      <td>323</td>\n",
       "      <td>8</td>\n",
       "      <td>88</td>\n",
       "      <td>37</td>\n",
       "      <td>93</td>\n",
       "      <td>15tejjtw</td>\n",
       "    </tr>\n",
       "    <tr>\n",
       "      <th>4</th>\n",
       "      <td>2020-05-06</td>\n",
       "      <td>2020-05-06</td>\n",
       "      <td>4</td>\n",
       "      <td>101</td>\n",
       "      <td>30</td>\n",
       "      <td>211</td>\n",
       "      <td>19</td>\n",
       "      <td>121</td>\n",
       "      <td>34</td>\n",
       "      <td>74</td>\n",
       "      <td>15tejjtw</td>\n",
       "    </tr>\n",
       "  </tbody>\n",
       "</table>\n",
       "</div>"
      ],
      "text/plain": [
       "   startDate     endDate  deep_count  deep_minutes  light_count  \\\n",
       "0 2020-05-01  2020-05-01           5           119           43   \n",
       "1 2020-05-02  2020-05-02           4           115           46   \n",
       "2 2020-05-03  2020-05-03           4            90           22   \n",
       "3 2020-05-04  2020-05-04           5           104           40   \n",
       "4 2020-05-06  2020-05-06           4           101           30   \n",
       "\n",
       "   light_minutes  rem_count  rem_minutes  wake_count  wake_minutes     beiwe  \n",
       "0            313         18          135          53            73  15tejjtw  \n",
       "1            336         12          106          47            94  15tejjtw  \n",
       "2            157          5           54          20            60  15tejjtw  \n",
       "3            323          8           88          37            93  15tejjtw  \n",
       "4            211         19          121          34            74  15tejjtw  "
      ]
     },
     "execution_count": 4,
     "metadata": {},
     "output_type": "execute_result"
    }
   ],
   "source": [
    "stages = pd.read_csv(\"../data/processed/bpeace2-fitbit-sleep-stages-summary.csv\",\n",
    "                     index_col=0,parse_dates=['startDate','endDate'],infer_datetime_format=True)\n",
    "end_dates = []\n",
    "for d in stages['endDate']:\n",
    "    end_dates.append(d.date())\n",
    "stages['endDate'] = end_dates\n",
    "stages.head()"
   ]
  },
  {
   "cell_type": "markdown",
   "metadata": {},
   "source": [
    "### Beacon IAQ\n",
    "And lastly the IAQ measurements courtesy of the beacons"
   ]
  },
  {
   "cell_type": "code",
   "execution_count": 5,
   "metadata": {},
   "outputs": [
    {
     "data": {
      "text/html": [
       "<div>\n",
       "<style scoped>\n",
       "    .dataframe tbody tr th:only-of-type {\n",
       "        vertical-align: middle;\n",
       "    }\n",
       "\n",
       "    .dataframe tbody tr th {\n",
       "        vertical-align: top;\n",
       "    }\n",
       "\n",
       "    .dataframe thead th {\n",
       "        text-align: right;\n",
       "    }\n",
       "</style>\n",
       "<table border=\"1\" class=\"dataframe\">\n",
       "  <thead>\n",
       "    <tr style=\"text-align: right;\">\n",
       "      <th></th>\n",
       "      <th>TVOC</th>\n",
       "      <th>eCO2</th>\n",
       "      <th>Lux</th>\n",
       "      <th>Visible</th>\n",
       "      <th>Infrared</th>\n",
       "      <th>NO2</th>\n",
       "      <th>T_NO2</th>\n",
       "      <th>RH_NO2</th>\n",
       "      <th>CO</th>\n",
       "      <th>T_CO</th>\n",
       "      <th>...</th>\n",
       "      <th>PM_N_10</th>\n",
       "      <th>PM_C_1</th>\n",
       "      <th>PM_C_2p5</th>\n",
       "      <th>PM_C_4</th>\n",
       "      <th>PM_C_10</th>\n",
       "      <th>z</th>\n",
       "      <th>Beacon</th>\n",
       "      <th>Beiwe</th>\n",
       "      <th>Fitbit</th>\n",
       "      <th>REDCap</th>\n",
       "    </tr>\n",
       "    <tr>\n",
       "      <th>Timestamp</th>\n",
       "      <th></th>\n",
       "      <th></th>\n",
       "      <th></th>\n",
       "      <th></th>\n",
       "      <th></th>\n",
       "      <th></th>\n",
       "      <th></th>\n",
       "      <th></th>\n",
       "      <th></th>\n",
       "      <th></th>\n",
       "      <th></th>\n",
       "      <th></th>\n",
       "      <th></th>\n",
       "      <th></th>\n",
       "      <th></th>\n",
       "      <th></th>\n",
       "      <th></th>\n",
       "      <th></th>\n",
       "      <th></th>\n",
       "      <th></th>\n",
       "      <th></th>\n",
       "    </tr>\n",
       "  </thead>\n",
       "  <tbody>\n",
       "    <tr>\n",
       "      <th>2020-06-11 00:00:00</th>\n",
       "      <td>NaN</td>\n",
       "      <td>NaN</td>\n",
       "      <td>NaN</td>\n",
       "      <td>NaN</td>\n",
       "      <td>NaN</td>\n",
       "      <td>NaN</td>\n",
       "      <td>NaN</td>\n",
       "      <td>NaN</td>\n",
       "      <td>NaN</td>\n",
       "      <td>NaN</td>\n",
       "      <td>...</td>\n",
       "      <td>NaN</td>\n",
       "      <td>NaN</td>\n",
       "      <td>NaN</td>\n",
       "      <td>NaN</td>\n",
       "      <td>NaN</td>\n",
       "      <td>NaN</td>\n",
       "      <td>30</td>\n",
       "      <td>idbkjh8u</td>\n",
       "      <td>22</td>\n",
       "      <td>4</td>\n",
       "    </tr>\n",
       "    <tr>\n",
       "      <th>2020-06-11 00:05:00</th>\n",
       "      <td>NaN</td>\n",
       "      <td>NaN</td>\n",
       "      <td>NaN</td>\n",
       "      <td>NaN</td>\n",
       "      <td>NaN</td>\n",
       "      <td>NaN</td>\n",
       "      <td>NaN</td>\n",
       "      <td>NaN</td>\n",
       "      <td>NaN</td>\n",
       "      <td>NaN</td>\n",
       "      <td>...</td>\n",
       "      <td>NaN</td>\n",
       "      <td>NaN</td>\n",
       "      <td>NaN</td>\n",
       "      <td>NaN</td>\n",
       "      <td>NaN</td>\n",
       "      <td>NaN</td>\n",
       "      <td>30</td>\n",
       "      <td>idbkjh8u</td>\n",
       "      <td>22</td>\n",
       "      <td>4</td>\n",
       "    </tr>\n",
       "    <tr>\n",
       "      <th>2020-06-11 00:10:00</th>\n",
       "      <td>NaN</td>\n",
       "      <td>NaN</td>\n",
       "      <td>NaN</td>\n",
       "      <td>NaN</td>\n",
       "      <td>NaN</td>\n",
       "      <td>NaN</td>\n",
       "      <td>NaN</td>\n",
       "      <td>NaN</td>\n",
       "      <td>NaN</td>\n",
       "      <td>NaN</td>\n",
       "      <td>...</td>\n",
       "      <td>NaN</td>\n",
       "      <td>NaN</td>\n",
       "      <td>NaN</td>\n",
       "      <td>NaN</td>\n",
       "      <td>NaN</td>\n",
       "      <td>NaN</td>\n",
       "      <td>30</td>\n",
       "      <td>idbkjh8u</td>\n",
       "      <td>22</td>\n",
       "      <td>4</td>\n",
       "    </tr>\n",
       "    <tr>\n",
       "      <th>2020-06-11 00:15:00</th>\n",
       "      <td>NaN</td>\n",
       "      <td>NaN</td>\n",
       "      <td>NaN</td>\n",
       "      <td>NaN</td>\n",
       "      <td>NaN</td>\n",
       "      <td>NaN</td>\n",
       "      <td>NaN</td>\n",
       "      <td>NaN</td>\n",
       "      <td>NaN</td>\n",
       "      <td>NaN</td>\n",
       "      <td>...</td>\n",
       "      <td>NaN</td>\n",
       "      <td>NaN</td>\n",
       "      <td>NaN</td>\n",
       "      <td>NaN</td>\n",
       "      <td>NaN</td>\n",
       "      <td>NaN</td>\n",
       "      <td>30</td>\n",
       "      <td>idbkjh8u</td>\n",
       "      <td>22</td>\n",
       "      <td>4</td>\n",
       "    </tr>\n",
       "    <tr>\n",
       "      <th>2020-06-11 00:20:00</th>\n",
       "      <td>NaN</td>\n",
       "      <td>NaN</td>\n",
       "      <td>NaN</td>\n",
       "      <td>NaN</td>\n",
       "      <td>NaN</td>\n",
       "      <td>NaN</td>\n",
       "      <td>NaN</td>\n",
       "      <td>NaN</td>\n",
       "      <td>NaN</td>\n",
       "      <td>NaN</td>\n",
       "      <td>...</td>\n",
       "      <td>NaN</td>\n",
       "      <td>NaN</td>\n",
       "      <td>NaN</td>\n",
       "      <td>NaN</td>\n",
       "      <td>NaN</td>\n",
       "      <td>NaN</td>\n",
       "      <td>30</td>\n",
       "      <td>idbkjh8u</td>\n",
       "      <td>22</td>\n",
       "      <td>4</td>\n",
       "    </tr>\n",
       "  </tbody>\n",
       "</table>\n",
       "<p>5 rows × 28 columns</p>\n",
       "</div>"
      ],
      "text/plain": [
       "                     TVOC  eCO2  Lux  Visible  Infrared  NO2  T_NO2  RH_NO2  \\\n",
       "Timestamp                                                                     \n",
       "2020-06-11 00:00:00   NaN   NaN  NaN      NaN       NaN  NaN    NaN     NaN   \n",
       "2020-06-11 00:05:00   NaN   NaN  NaN      NaN       NaN  NaN    NaN     NaN   \n",
       "2020-06-11 00:10:00   NaN   NaN  NaN      NaN       NaN  NaN    NaN     NaN   \n",
       "2020-06-11 00:15:00   NaN   NaN  NaN      NaN       NaN  NaN    NaN     NaN   \n",
       "2020-06-11 00:20:00   NaN   NaN  NaN      NaN       NaN  NaN    NaN     NaN   \n",
       "\n",
       "                     CO  T_CO  ...  PM_N_10  PM_C_1  PM_C_2p5  PM_C_4  \\\n",
       "Timestamp                      ...                                      \n",
       "2020-06-11 00:00:00 NaN   NaN  ...      NaN     NaN       NaN     NaN   \n",
       "2020-06-11 00:05:00 NaN   NaN  ...      NaN     NaN       NaN     NaN   \n",
       "2020-06-11 00:10:00 NaN   NaN  ...      NaN     NaN       NaN     NaN   \n",
       "2020-06-11 00:15:00 NaN   NaN  ...      NaN     NaN       NaN     NaN   \n",
       "2020-06-11 00:20:00 NaN   NaN  ...      NaN     NaN       NaN     NaN   \n",
       "\n",
       "                     PM_C_10   z  Beacon     Beiwe  Fitbit  REDCap  \n",
       "Timestamp                                                           \n",
       "2020-06-11 00:00:00      NaN NaN      30  idbkjh8u      22       4  \n",
       "2020-06-11 00:05:00      NaN NaN      30  idbkjh8u      22       4  \n",
       "2020-06-11 00:10:00      NaN NaN      30  idbkjh8u      22       4  \n",
       "2020-06-11 00:15:00      NaN NaN      30  idbkjh8u      22       4  \n",
       "2020-06-11 00:20:00      NaN NaN      30  idbkjh8u      22       4  \n",
       "\n",
       "[5 rows x 28 columns]"
      ]
     },
     "execution_count": 5,
     "metadata": {},
     "output_type": "execute_result"
    }
   ],
   "source": [
    "beacon = pd.read_csv('../data/processed/bpeace2-beacon.csv',index_col=0,parse_dates=True)\n",
    "beacon.head()"
   ]
  },
  {
   "cell_type": "markdown",
   "metadata": {},
   "source": [
    "## Pre-processing\n",
    "The new Fitbit files nicely summarize the sleep data for us and also give the start and stop times for the sleep events (SO convenient!). The only thing we have to pre-process is the beacon data by removing all data for each participant that is not in their daily sleep windows. \n",
    "\n",
    "However, since the stages summary and sleep summary come from different files, I need to make sure that they have the same number of nights per participant."
   ]
  },
  {
   "cell_type": "code",
   "execution_count": 6,
   "metadata": {
    "scrolled": false
   },
   "outputs": [],
   "source": [
    "for pt in sleep['beiwe'].unique():\n",
    "    sleep_pt = sleep[sleep['beiwe'] == pt]\n",
    "    stage_pt = stages[stages['beiwe'] == pt]\n",
    "    if len(sleep_pt) != len(stage_pt):\n",
    "        print('{pt}: different lengths')"
   ]
  },
  {
   "cell_type": "markdown",
   "metadata": {},
   "source": [
    "Nothing was printed so they seem to be the same length!"
   ]
  },
  {
   "cell_type": "markdown",
   "metadata": {},
   "source": [
    "### IAQ and Sleep Summary per Night\n",
    "Now we can loop through the start and stop times for sleep, get the IAQ data, summarize it, and then combine the three dataframes into one. Might as well save this datafile too for future use."
   ]
  },
  {
   "cell_type": "code",
   "execution_count": 7,
   "metadata": {
    "scrolled": true
   },
   "outputs": [
    {
     "name": "stderr",
     "output_type": "stream",
     "text": [
      "/Library/Frameworks/Python.framework/Versions/3.7/lib/python3.7/site-packages/ipykernel_launcher.py:14: RuntimeWarning: All-NaN axis encountered\n",
      "  \n",
      "/Library/Frameworks/Python.framework/Versions/3.7/lib/python3.7/site-packages/ipykernel_launcher.py:15: RuntimeWarning: All-NaN axis encountered\n",
      "  from ipykernel import kernelapp as app\n",
      "/Library/Frameworks/Python.framework/Versions/3.7/lib/python3.7/site-packages/ipykernel_launcher.py:16: RuntimeWarning: Mean of empty slice\n",
      "  app.launch_new_instance()\n",
      "/Library/Frameworks/Python.framework/Versions/3.7/lib/python3.7/site-packages/numpy/lib/nanfunctions.py:1116: RuntimeWarning: All-NaN slice encountered\n",
      "  overwrite_input=overwrite_input)\n",
      "/Library/Frameworks/Python.framework/Versions/3.7/lib/python3.7/site-packages/numpy/lib/nanfunctions.py:1667: RuntimeWarning: Degrees of freedom <= 0 for slice.\n",
      "  keepdims=keepdims)\n"
     ]
    }
   ],
   "source": [
    "iaq_sleep = pd.DataFrame()\n",
    "for pt in sleep['beiwe'].unique():\n",
    "    # getting data per participant\n",
    "    beacon_pt = beacon[beacon['Beiwe'] == pt]\n",
    "    sleep_pt = sleep[sleep['beiwe'] == pt]\n",
    "    stages_pt = stages[stages['beiwe'] == pt]\n",
    "    # summarizing beacon data per night\n",
    "    beacon_summary = pd.DataFrame()\n",
    "    for start_time, end_time in zip(sleep_pt['startTime'],sleep_pt['endTime']):\n",
    "        beacon_pt_night = beacon_pt[start_time:end_time]\n",
    "        if len(beacon_pt_night) > 0:\n",
    "            summary_dict = {'start_date':[start_time.date()],'end_date':[end_time.date()]}\n",
    "            for variable in ['CO2','PM_C_2p5','CO','NO2','TVOC']:\n",
    "                summary_dict[f'{variable}_min'] = np.nanmin(beacon_pt_night[variable])\n",
    "                summary_dict[f'{variable}_max'] = np.nanmax(beacon_pt_night[variable])\n",
    "                summary_dict[f'{variable}_mean'] = np.nanmean(beacon_pt_night[variable])\n",
    "                summary_dict[f'{variable}_med'] = np.nanmedian(beacon_pt_night[variable])\n",
    "                summary_dict[f'{variable}_25'] = np.percentile(beacon_pt_night[variable],25)\n",
    "                summary_dict[f'{variable}_75'] = np.percentile(beacon_pt_night[variable],75)\n",
    "                summary_dict[f'{variable}_std'] = np.nanstd(beacon_pt_night[variable])\n",
    "                summary_dict[f'{variable}_initial'] = beacon_pt_night[variable][0]\n",
    "                summary_dict[f'{variable}_final'] = beacon_pt_night[variable][-1]\n",
    "                \n",
    "            beacon_summary = beacon_summary.append(pd.DataFrame(summary_dict))\n",
    "    if len(beacon_summary) > 0:\n",
    "        temp = pd.merge(left=beacon_summary,right=sleep_pt,left_on='end_date',right_on='endDate',how='inner')\n",
    "        iaq_sleep_pt = pd.merge(left=temp,right=stages_pt,left_on='end_date',right_on='endDate',how='inner')\n",
    "        iaq_sleep = iaq_sleep.append(iaq_sleep_pt)\n",
    "        \n",
    "# adding in REM:nREM\n",
    "iaq_sleep['rem2nrem'] = iaq_sleep['rem_minutes'] / (iaq_sleep['light_minutes'] + iaq_sleep['deep_minutes'])"
   ]
  },
  {
   "cell_type": "markdown",
   "metadata": {},
   "source": [
    "This dataframe contains a lot of important data, so we might as well save it to the processed folder."
   ]
  },
  {
   "cell_type": "code",
   "execution_count": 8,
   "metadata": {},
   "outputs": [],
   "source": [
    "iaq_sleep.to_csv('../data/processed/bpeace2-fitbit-beacon-sleep-iaq.csv')"
   ]
  },
  {
   "cell_type": "markdown",
   "metadata": {},
   "source": [
    "## Analyzing"
   ]
  },
  {
   "cell_type": "code",
   "execution_count": 38,
   "metadata": {},
   "outputs": [],
   "source": [
    "from scipy import stats"
   ]
  },
  {
   "cell_type": "markdown",
   "metadata": {},
   "source": [
    "We can start to analyze by looking at the differences in the means of different sleep parameters under low and high concentration nights. We can define a low and high concentration night however we see fit."
   ]
  },
  {
   "cell_type": "markdown",
   "metadata": {},
   "source": [
    "### Lower 50th and Upper 50th percentiles"
   ]
  },
  {
   "cell_type": "code",
   "execution_count": 61,
   "metadata": {},
   "outputs": [
    {
     "name": "stdout",
     "output_type": "stream",
     "text": [
      "Pollutant: CO2:\n",
      "\tEfficiency P: 0.8535957156402284\n",
      "\tREM:nREM P: 0.38681732011480685\n",
      "Pollutant: PM_C_2p5:\n",
      "\tEfficiency P: 0.36792634811376035\n",
      "\tREM:nREM P: 0.5909594785811236\n",
      "Pollutant: NO2:\n",
      "\tEfficiency P: 0.3179610080979422\n",
      "\tREM:nREM P: 0.7168143558857094\n",
      "Pollutant: CO:\n",
      "\tEfficiency P: 0.8895547840076244\n",
      "\tREM:nREM P: 0.20221561873950755\n",
      "Pollutant: TVOC:\n",
      "\tEfficiency P: 0.8271772220387186\n",
      "\tREM:nREM P: 0.666178568040511\n"
     ]
    }
   ],
   "source": [
    "for pollutant in ['CO2','PM_C_2p5','NO2','CO','TVOC']:\n",
    "    high = pd.DataFrame()\n",
    "    low = pd.DataFrame()\n",
    "    for pt in iaq_sleep['beiwe_x'].unique():\n",
    "        iaq_sleep_pt = iaq_sleep[iaq_sleep['beiwe_x'] == pt]\n",
    "        iaq_sleep_pt['percentile'] = iaq_sleep_pt[f'{pollutant}_med'].rank(pct=True)\n",
    "        low = low.append(iaq_sleep_pt[iaq_sleep_pt['percentile'] < 0.5])\n",
    "        high = high.append(iaq_sleep_pt[iaq_sleep_pt['percentile'] >= 0.5])\n",
    "    \n",
    "    print(f'Pollutant: {pollutant}:')\n",
    "    stat, pval = stats.ttest_ind(low['efficiency'],high['efficiency'],equal_var=False)\n",
    "    print(f'\\tEfficiency P: {pval}')\n",
    "    stat, pval = stats.ttest_ind(low['rem2nrem'],high['rem2nrem'],equal_var=False)\n",
    "    print(f'\\tREM:nREM P: {pval}')"
   ]
  },
  {
   "cell_type": "markdown",
   "metadata": {},
   "source": [
    "### Nights above high concentrations"
   ]
  },
  {
   "cell_type": "code",
   "execution_count": 99,
   "metadata": {},
   "outputs": [
    {
     "name": "stdout",
     "output_type": "stream",
     "text": [
      "Pollutant: CO2:\n",
      "\tEfficiency P: 0.00665166949436337\n",
      "\tREM:nREM P: 0.4987688568260774\n",
      "Pollutant: PM_C_2p5:\n",
      "\tEfficiency P: 0.7875446760329126\n",
      "\tREM:nREM P: 0.11148443242500526\n",
      "Pollutant: NO2:\n",
      "\tEfficiency P: 8.741029315955564e-06\n",
      "\tREM:nREM P: 0.0780160511561187\n",
      "Pollutant: CO:\n",
      "\tEfficiency P: 0.0015532875681003445\n",
      "\tREM:nREM P: 0.28806036990031847\n",
      "Pollutant: TVOC:\n",
      "\tEfficiency P: 0.0321304027898712\n",
      "\tREM:nREM P: 0.004325486044466498\n"
     ]
    }
   ],
   "source": [
    "overall = pd.DataFrame()\n",
    "iaq_sleep_analysis = iaq_sleep[iaq_sleep['efficiency'] > 65]\n",
    "for pollutant, threshold in zip(['CO2','PM_C_2p5','NO2','CO','TVOC'],[1000,12,200,5,250]):\n",
    "    high = pd.DataFrame()\n",
    "    low = pd.DataFrame()\n",
    "    for pt in iaq_sleep['beiwe_x'].unique():\n",
    "        iaq_sleep_pt = iaq_sleep_analysis[iaq_sleep_analysis['beiwe_x'] == pt]\n",
    "        low = low.append(iaq_sleep_pt[iaq_sleep_pt[f'{pollutant}_med'] < threshold])\n",
    "        high = high.append(iaq_sleep_pt[iaq_sleep_pt[f'{pollutant}_med'] >= threshold])\n",
    "    \n",
    "    print(f'Pollutant: {pollutant}:')\n",
    "    stat, pval = stats.ttest_ind(low['efficiency'],high['efficiency'],equal_var=False)\n",
    "    print(f'\\tEfficiency P: {pval}')\n",
    "    stat, pval = stats.ttest_ind(low['rem2nrem'],high['rem2nrem'],equal_var=False)\n",
    "    print(f'\\tREM:nREM P: {pval}')\n",
    "    \n",
    "    low['cat'] = 'Low'\n",
    "    high['cat'] = 'High'\n",
    "    comb = low.append(high)\n",
    "    comb['Pollutant'] = pollutant\n",
    "    overall = overall.append(comb)"
   ]
  },
  {
   "cell_type": "code",
   "execution_count": 121,
   "metadata": {},
   "outputs": [
    {
     "data": {
      "image/png": "[encoded data removed]",
      "text/plain": [
       "<Figure size 720x360 with 1 Axes>"
      ]
     },
     "metadata": {
      "needs_background": "light"
     },
     "output_type": "display_data"
    }
   ],
   "source": [
    "fig, ax = plt.subplots(figsize=(10,5))\n",
    "sns.violinplot(x='Pollutant',y='efficiency',hue='cat',data=overall,cut=0,split=True,inner='quartile',palette=['white','#BF5700'],ax=ax)\n",
    "ax.set_ylim([80,100])\n",
    "ax.set_yticks(np.arange(80,102,2.5))\n",
    "ax.legend(title='Nightly Concentration Profile',loc='center',bbox_to_anchor=(0.5,-.2),ncol=2)\n",
    "ax.set_ylabel('Sleep Efficiency')\n",
    "ax.set_xticklabels(['CO$_2$','PM$_{2.5}$','NO$_2$','CO','TVOC'])\n",
    "\n",
    "plt.savefig('../reports/figures/beacon-fitbit-median_pollutant-efficiency.pdf')\n",
    "plt.show()\n",
    "plt.close()"
   ]
  },
  {
   "cell_type": "code",
   "execution_count": 113,
   "metadata": {},
   "outputs": [
    {
     "data": {
      "image/png": "[encoded data removed]",
      "text/plain": [
       "<Figure size 864x432 with 1 Axes>"
      ]
     },
     "metadata": {
      "needs_background": "light"
     },
     "output_type": "display_data"
    }
   ],
   "source": [
    "fig, ax = plt.subplots(figsize=(10,5))\n",
    "sns.violinplot(x='Pollutant',y='rem2nrem',hue='cat',data=overall,cut=0,split=True,inner='quartile',palette=['white','#BF5700'],ax=ax)\n",
    "ax.legend(title='Nightly Concentration Profile',loc='center',bbox_to_anchor=(0.5,-.2),ncol=2)\n",
    "ax.set_ylabel('Sleep Efficiency')\n",
    "ax.set_xticklabels(['CO$_2$','PM$_{2.5}$','NO$_2$','CO','TVOC'])\n",
    "\n",
    "plt.show()\n",
    "plt.close()"
   ]
  },
  {
   "cell_type": "markdown",
   "metadata": {},
   "source": [
    "## Visualizing\n",
    "With these data summamrized, we can start to look at the relationship between sleep and IAQ.\n",
    "\n",
    "We can start simple by looking at one variable and it's effect on sleep efficiency. Then the code we develop here can be adapted for analysis on other variables. "
   ]
  },
  {
   "cell_type": "markdown",
   "metadata": {},
   "source": [
    "### CO2 and Sleep Efficiency\n",
    "We can look at a scatterplot comparing multiple summary statistics of CO2 with sleep efficiency."
   ]
  },
  {
   "cell_type": "code",
   "execution_count": 11,
   "metadata": {},
   "outputs": [
    {
     "data": {
      "image/png": "[encoded data removed]",
      "text/plain": [
       "<Figure size 864x288 with 4 Axes>"
      ]
     },
     "metadata": {
      "needs_background": "light"
     },
     "output_type": "display_data"
    }
   ],
   "source": [
    "fig, ax = plt.subplots(1,4,figsize=(12,4))\n",
    "co2 = iaq_sleep\n",
    "co2['diff'] = co2['CO2_max'] - co2['CO2_min']\n",
    "co2['delta'] = co2['CO2_final'] - co2['CO2_initial']\n",
    "i = 0\n",
    "for stat in ['diff','delta','CO2_med','CO2_std']:\n",
    "    ax[i].scatter(co2[stat],co2['efficiency'])\n",
    "    i += 1"
   ]
  },
  {
   "cell_type": "code",
   "execution_count": null,
   "metadata": {},
   "outputs": [],
   "source": []
  },
  {
   "cell_type": "code",
   "execution_count": null,
   "metadata": {},
   "outputs": [],
   "source": []
  },
  {
   "cell_type": "code",
   "execution_count": null,
   "metadata": {},
   "outputs": [],
   "source": []
  },
  {
   "cell_type": "code",
   "execution_count": null,
   "metadata": {},
   "outputs": [],
   "source": []
  },
  {
   "cell_type": "code",
   "execution_count": null,
   "metadata": {},
   "outputs": [],
   "source": []
  },
  {
   "cell_type": "code",
   "execution_count": null,
   "metadata": {},
   "outputs": [],
   "source": []
  },
  {
   "cell_type": "code",
   "execution_count": null,
   "metadata": {},
   "outputs": [],
   "source": []
  },
  {
   "cell_type": "code",
   "execution_count": null,
   "metadata": {},
   "outputs": [],
   "source": []
  },
  {
   "cell_type": "code",
   "execution_count": null,
   "metadata": {},
   "outputs": [],
   "source": []
  },
  {
   "cell_type": "code",
   "execution_count": null,
   "metadata": {},
   "outputs": [],
   "source": []
  },
  {
   "cell_type": "code",
   "execution_count": null,
   "metadata": {},
   "outputs": [],
   "source": []
  },
  {
   "cell_type": "code",
   "execution_count": null,
   "metadata": {},
   "outputs": [],
   "source": []
  },
  {
   "cell_type": "code",
   "execution_count": null,
   "metadata": {},
   "outputs": [],
   "source": []
  },
  {
   "cell_type": "code",
   "execution_count": null,
   "metadata": {},
   "outputs": [],
   "source": []
  },
  {
   "cell_type": "code",
   "execution_count": null,
   "metadata": {},
   "outputs": [],
   "source": []
  },
  {
   "cell_type": "markdown",
   "metadata": {},
   "source": [
    "# Old"
   ]
  },
  {
   "cell_type": "markdown",
   "metadata": {},
   "source": [
    "### Percent Change Histogram\n",
    "The first thing to do is create a histogram of the percentage change values for each pollutant."
   ]
  },
  {
   "cell_type": "code",
   "execution_count": 221,
   "metadata": {},
   "outputs": [
    {
     "data": {
      "text/plain": [
       "Index(['start_date', 'end_date', 'CO2_min', 'CO2_max', 'CO2_mean', 'CO2_med',\n",
       "       'CO2_25', 'CO2_75', 'CO2_std', 'CO2_initial', 'CO2_final',\n",
       "       'PM_C_2p5_min', 'PM_C_2p5_max', 'PM_C_2p5_mean', 'PM_C_2p5_med',\n",
       "       'PM_C_2p5_25', 'PM_C_2p5_75', 'PM_C_2p5_std', 'PM_C_2p5_initial',\n",
       "       'PM_C_2p5_final', 'CO_min', 'CO_max', 'CO_mean', 'CO_med', 'CO_25',\n",
       "       'CO_75', 'CO_std', 'CO_initial', 'CO_final', 'NO2_min', 'NO2_max',\n",
       "       'NO2_mean', 'NO2_med', 'NO2_25', 'NO2_75', 'NO2_std', 'NO2_initial',\n",
       "       'NO2_final', 'TVOC_min', 'TVOC_max', 'TVOC_mean', 'TVOC_med', 'TVOC_25',\n",
       "       'TVOC_75', 'TVOC_std', 'TVOC_initial', 'TVOC_final', 'date',\n",
       "       'dateOfSleep', 'duration', 'efficiency', 'endTime', 'infoCode',\n",
       "       'isMainSleep', 'logId', 'minutesAfterWakeup', 'minutesAsleep',\n",
       "       'minutesAwake', 'minutesToFallAsleep', 'startTime', 'timeInBed',\n",
       "       'beiwe_x', 'endDate_x', 'startDate', 'endDate_y', 'deep_count',\n",
       "       'deep_minutes', 'light_count', 'light_minutes', 'rem_count',\n",
       "       'rem_minutes', 'wake_count', 'wake_minutes', 'beiwe_y', 'rem2nrem', 'z',\n",
       "       'diff'],\n",
       "      dtype='object')"
      ]
     },
     "execution_count": 221,
     "metadata": {},
     "output_type": "execute_result"
    }
   ],
   "source": [
    "iaq_sleep.columns"
   ]
  },
  {
   "cell_type": "code",
   "execution_count": 258,
   "metadata": {},
   "outputs": [
    {
     "data": {
      "image/png": "[encoded data removed]",
      "text/plain": [
       "<Figure size 1152x432 with 20 Axes>"
      ]
     },
     "metadata": {
      "needs_background": "light"
     },
     "output_type": "display_data"
    }
   ],
   "source": [
    "fig, axes = plt.subplots(2,5,figsize=(16,6),sharex='col',sharey='row')\n",
    "r = 0\n",
    "for sleep_metric in ['efficiency','rem2nrem']:\n",
    "    c = 0\n",
    "    for variable in ['CO2','PM_C_2p5','CO','NO2','TVOC']:\n",
    "        ax = axes[r,c]\n",
    "        temp = iaq_sleep\n",
    "        diff = (iaq_sleep[f'{variable}_final']-iaq_sleep[f'{variable}_initial']) \n",
    "        temp['z'] = (diff - np.nanmean(diff)) / np.nanstd(diff)\n",
    "        temp[abs(temp['z']) > 5] = np.nan\n",
    "        for pt in temp['beiwe_x'].unique():\n",
    "            temp_pt = temp[temp['beiwe_x'] == pt]\n",
    "            temp_pt = temp_pt.dropna(subset=['z',sleep_metric])\n",
    "            x = temp_pt['z'].values\n",
    "            y = temp_pt[sleep_metric].values\n",
    "            if len(x) > 1:\n",
    "                # OLS - intercept at origin\n",
    "                pt_model = sm.OLS(y,sm.add_constant(x)).fit()\n",
    "\n",
    "                if pt_model.params[0]*-5 < -4:\n",
    "                    pass\n",
    "                else:\n",
    "                    ax.plot([-5,5],[pt_model.params[0]+pt_model.params[0]*-5,pt_model.params[0]+pt_model.params[0]*5],color='cornflowerblue',alpha=0.75)\n",
    "        \n",
    "        ax2 = ax.twinx()\n",
    "        ax2.hist(temp['z'],color='gray',bins=np.arange(-5,6,1),rwidth=0.9,alpha=0.5,zorder=1)\n",
    "        ax2.set_xlim([-5,5])\n",
    "        ax2.set_ylim([0,350])\n",
    "        if r == 1:\n",
    "            ax.set_xlabel(f'{variable}')\n",
    "        if c == 4:\n",
    "            pass\n",
    "        else:\n",
    "            ax2.set_yticklabels([''])\n",
    "        c += 1\n",
    "        \n",
    "    r += 1\n",
    "    \n",
    "plt.subplots_adjust(hspace=0,wspace=0)\n",
    "plt.show()\n",
    "plt.close()"
   ]
  },
  {
   "cell_type": "code",
   "execution_count": null,
   "metadata": {},
   "outputs": [],
   "source": []
  }
 ],
 "metadata": {
  "kernelspec": {
   "display_name": "Python 3",
   "language": "python",
   "name": "python3"
  },
  "language_info": {
   "codemirror_mode": {
    "name": "ipython",
    "version": 3
   },
   "file_extension": ".py",
   "mimetype": "text/x-python",
   "name": "python",
   "nbconvert_exporter": "python",
   "pygments_lexer": "ipython3",
   "version": "3.7.0"
  }
 },
 "nbformat": 4,
 "nbformat_minor": 4
}
