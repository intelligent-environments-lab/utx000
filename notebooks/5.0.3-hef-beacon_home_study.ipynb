{
 "cells": [
  {
   "cell_type": "markdown",
   "metadata": {},
   "source": [
    "# Beacon Home Study"
   ]
  },
  {
   "cell_type": "code",
   "execution_count": 13,
   "metadata": {},
   "outputs": [],
   "source": [
    "import pandas as pd\n",
    "from datetime import datetime"
   ]
  },
  {
   "cell_type": "code",
   "execution_count": 14,
   "metadata": {},
   "outputs": [],
   "source": [
    "beacons_tested = [7, 20]"
   ]
  },
  {
   "cell_type": "code",
   "execution_count": 16,
   "metadata": {},
   "outputs": [
    {
     "data": {
      "text/plain": [
       "pandas._libs.tslibs.timestamps.Timestamp"
      ]
     },
     "execution_count": 16,
     "metadata": {},
     "output_type": "execute_result"
    }
   ],
   "source": [
    "type(beacon.index[0])"
   ]
  },
  {
   "cell_type": "code",
   "execution_count": 17,
   "metadata": {},
   "outputs": [
    {
     "name": "stderr",
     "output_type": "stream",
     "text": [
      "/Library/Frameworks/Python.framework/Versions/3.7/lib/python3.7/site-packages/ipykernel_launcher.py:7: SettingWithCopyWarning: \n",
      "A value is trying to be set on a copy of a slice from a DataFrame.\n",
      "Try using .loc[row_indexer,col_indexer] = value instead\n",
      "\n",
      "See the caveats in the documentation: https://pandas.pydata.org/pandas-docs/stable/user_guide/indexing.html#returning-a-view-versus-a-copy\n",
      "  import sys\n",
      "/Library/Frameworks/Python.framework/Versions/3.7/lib/python3.7/site-packages/ipykernel_launcher.py:7: SettingWithCopyWarning: \n",
      "A value is trying to be set on a copy of a slice from a DataFrame.\n",
      "Try using .loc[row_indexer,col_indexer] = value instead\n",
      "\n",
      "See the caveats in the documentation: https://pandas.pydata.org/pandas-docs/stable/user_guide/indexing.html#returning-a-view-versus-a-copy\n",
      "  import sys\n"
     ]
    },
    {
     "data": {
      "text/html": [
       "<div>\n",
       "<style scoped>\n",
       "    .dataframe tbody tr th:only-of-type {\n",
       "        vertical-align: middle;\n",
       "    }\n",
       "\n",
       "    .dataframe tbody tr th {\n",
       "        vertical-align: top;\n",
       "    }\n",
       "\n",
       "    .dataframe thead th {\n",
       "        text-align: right;\n",
       "    }\n",
       "</style>\n",
       "<table border=\"1\" class=\"dataframe\">\n",
       "  <thead>\n",
       "    <tr style=\"text-align: right;\">\n",
       "      <th></th>\n",
       "      <th>tvoc</th>\n",
       "      <th>lux</th>\n",
       "      <th>no2</th>\n",
       "      <th>co</th>\n",
       "      <th>co2</th>\n",
       "      <th>pm1_number</th>\n",
       "      <th>pm2p5_number</th>\n",
       "      <th>pm10_number</th>\n",
       "      <th>pm1_mass</th>\n",
       "      <th>pm2p5_mass</th>\n",
       "      <th>pm10_mass</th>\n",
       "      <th>temperature_c</th>\n",
       "      <th>rh</th>\n",
       "      <th>beacon</th>\n",
       "      <th>location</th>\n",
       "    </tr>\n",
       "    <tr>\n",
       "      <th>timestamp</th>\n",
       "      <th></th>\n",
       "      <th></th>\n",
       "      <th></th>\n",
       "      <th></th>\n",
       "      <th></th>\n",
       "      <th></th>\n",
       "      <th></th>\n",
       "      <th></th>\n",
       "      <th></th>\n",
       "      <th></th>\n",
       "      <th></th>\n",
       "      <th></th>\n",
       "      <th></th>\n",
       "      <th></th>\n",
       "      <th></th>\n",
       "    </tr>\n",
       "  </thead>\n",
       "  <tbody>\n",
       "    <tr>\n",
       "      <th>2021-03-01 12:38:00</th>\n",
       "      <td>0.0</td>\n",
       "      <td>116.76960</td>\n",
       "      <td>416.6</td>\n",
       "      <td>1530.8408</td>\n",
       "      <td>0.0</td>\n",
       "      <td>22.787742</td>\n",
       "      <td>0.0</td>\n",
       "      <td>28.564069</td>\n",
       "      <td>3.687647</td>\n",
       "      <td>0.0</td>\n",
       "      <td>12.144579</td>\n",
       "      <td>22.00</td>\n",
       "      <td>54.5</td>\n",
       "      <td>7</td>\n",
       "      <td>bedroom</td>\n",
       "    </tr>\n",
       "    <tr>\n",
       "      <th>2021-03-01 12:40:00</th>\n",
       "      <td>0.0</td>\n",
       "      <td>114.96624</td>\n",
       "      <td>312.5</td>\n",
       "      <td>171.5842</td>\n",
       "      <td>0.0</td>\n",
       "      <td>12.837126</td>\n",
       "      <td>0.0</td>\n",
       "      <td>16.457386</td>\n",
       "      <td>2.137058</td>\n",
       "      <td>0.0</td>\n",
       "      <td>7.437008</td>\n",
       "      <td>22.00</td>\n",
       "      <td>54.5</td>\n",
       "      <td>7</td>\n",
       "      <td>bedroom</td>\n",
       "    </tr>\n",
       "    <tr>\n",
       "      <th>2021-03-01 12:42:00</th>\n",
       "      <td>0.0</td>\n",
       "      <td>120.48240</td>\n",
       "      <td>245.2</td>\n",
       "      <td>79.7570</td>\n",
       "      <td>0.0</td>\n",
       "      <td>23.536913</td>\n",
       "      <td>0.0</td>\n",
       "      <td>27.396519</td>\n",
       "      <td>3.465624</td>\n",
       "      <td>0.0</td>\n",
       "      <td>9.118387</td>\n",
       "      <td>22.25</td>\n",
       "      <td>53.5</td>\n",
       "      <td>7</td>\n",
       "      <td>bedroom</td>\n",
       "    </tr>\n",
       "    <tr>\n",
       "      <th>2021-03-01 12:44:00</th>\n",
       "      <td>0.0</td>\n",
       "      <td>122.40000</td>\n",
       "      <td>205.7</td>\n",
       "      <td>53.2396</td>\n",
       "      <td>0.0</td>\n",
       "      <td>20.211934</td>\n",
       "      <td>0.0</td>\n",
       "      <td>23.321911</td>\n",
       "      <td>2.942743</td>\n",
       "      <td>0.0</td>\n",
       "      <td>7.497910</td>\n",
       "      <td>23.00</td>\n",
       "      <td>53.0</td>\n",
       "      <td>7</td>\n",
       "      <td>bedroom</td>\n",
       "    </tr>\n",
       "    <tr>\n",
       "      <th>2021-03-01 12:46:00</th>\n",
       "      <td>0.0</td>\n",
       "      <td>120.62112</td>\n",
       "      <td>176.7</td>\n",
       "      <td>40.0959</td>\n",
       "      <td>0.0</td>\n",
       "      <td>15.948992</td>\n",
       "      <td>0.0</td>\n",
       "      <td>19.505578</td>\n",
       "      <td>2.501733</td>\n",
       "      <td>0.0</td>\n",
       "      <td>7.709287</td>\n",
       "      <td>23.00</td>\n",
       "      <td>52.5</td>\n",
       "      <td>7</td>\n",
       "      <td>bedroom</td>\n",
       "    </tr>\n",
       "  </tbody>\n",
       "</table>\n",
       "</div>"
      ],
      "text/plain": [
       "                     tvoc        lux    no2         co  co2  pm1_number  \\\n",
       "timestamp                                                                 \n",
       "2021-03-01 12:38:00   0.0  116.76960  416.6  1530.8408  0.0   22.787742   \n",
       "2021-03-01 12:40:00   0.0  114.96624  312.5   171.5842  0.0   12.837126   \n",
       "2021-03-01 12:42:00   0.0  120.48240  245.2    79.7570  0.0   23.536913   \n",
       "2021-03-01 12:44:00   0.0  122.40000  205.7    53.2396  0.0   20.211934   \n",
       "2021-03-01 12:46:00   0.0  120.62112  176.7    40.0959  0.0   15.948992   \n",
       "\n",
       "                     pm2p5_number  pm10_number  pm1_mass  pm2p5_mass  \\\n",
       "timestamp                                                              \n",
       "2021-03-01 12:38:00           0.0    28.564069  3.687647         0.0   \n",
       "2021-03-01 12:40:00           0.0    16.457386  2.137058         0.0   \n",
       "2021-03-01 12:42:00           0.0    27.396519  3.465624         0.0   \n",
       "2021-03-01 12:44:00           0.0    23.321911  2.942743         0.0   \n",
       "2021-03-01 12:46:00           0.0    19.505578  2.501733         0.0   \n",
       "\n",
       "                     pm10_mass  temperature_c    rh  beacon location  \n",
       "timestamp                                                             \n",
       "2021-03-01 12:38:00  12.144579          22.00  54.5       7  bedroom  \n",
       "2021-03-01 12:40:00   7.437008          22.00  54.5       7  bedroom  \n",
       "2021-03-01 12:42:00   9.118387          22.25  53.5       7  bedroom  \n",
       "2021-03-01 12:44:00   7.497910          23.00  53.0       7  bedroom  \n",
       "2021-03-01 12:46:00   7.709287          23.00  52.5       7  bedroom  "
      ]
     },
     "execution_count": 17,
     "metadata": {},
     "output_type": "execute_result"
    }
   ],
   "source": [
    "beacon = pd.read_csv(\"../data/processed/beacon-wcwh_s20.csv\", index_col=\"timestamp\", parse_dates=True)\n",
    "beacon = beacon[beacon[\"beacon\"].isin(beacons_tested)]\n",
    "beacon.drop([\"beiwe\",\"fitbit\",\"redcap\"],axis=\"columns\",inplace=True)\n",
    "beacon_restricted = pd.DataFrame()\n",
    "for bb, loc in zip(beacons_tested,[\"bedroom\",\"kitchen\"]):\n",
    "    beacon_by_beacon = beacon[beacon[\"beacon\"] == bb]\n",
    "    beacon_by_beacon[\"location\"] = loc\n",
    "    beacon_by_beacon = beacon_by_beacon[datetime(2021,3,1):]\n",
    "    beacon_restricted = beacon_restricted.append(beacon_by_beacon)\n",
    "    \n",
    "beacon_restricted.head()"
   ]
  },
  {
   "cell_type": "code",
   "execution_count": 18,
   "metadata": {},
   "outputs": [],
   "source": [
    "beacon_restricted.to_csv(\"/Users/hagenfritz/Desktop/beacon-processed-home_study.csv\",index=True)"
   ]
  },
  {
   "cell_type": "code",
   "execution_count": null,
   "metadata": {},
   "outputs": [],
   "source": []
  }
 ],
 "metadata": {
  "kernelspec": {
   "display_name": "Python 3",
   "language": "python",
   "name": "python3"
  },
  "language_info": {
   "codemirror_mode": {
    "name": "ipython",
    "version": 3
   },
   "file_extension": ".py",
   "mimetype": "text/x-python",
   "name": "python",
   "nbconvert_exporter": "python",
   "pygments_lexer": "ipython3",
   "version": "3.7.0"
  },
  "toc": {
   "base_numbering": 1,
   "nav_menu": {},
   "number_sections": false,
   "sideBar": false,
   "skip_h1_title": false,
   "title_cell": "Table of Contents",
   "title_sidebar": "Contents",
   "toc_cell": false,
   "toc_position": {},
   "toc_section_display": false,
   "toc_window_display": false
  }
 },
 "nbformat": 4,
 "nbformat_minor": 4
}
