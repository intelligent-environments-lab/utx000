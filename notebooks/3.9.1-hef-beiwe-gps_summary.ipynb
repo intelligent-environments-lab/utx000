{
 "cells": [
  {
   "cell_type": "markdown",
   "metadata": {},
   "source": [
    "# Exploring the UTx000 Dataset\n",
    "From the first cohort in Spring 2020"
   ]
  },
  {
   "cell_type": "code",
   "execution_count": 1,
   "metadata": {},
   "outputs": [],
   "source": [
    "import warnings\n",
    "warnings.filterwarnings('ignore')"
   ]
  },
  {
   "cell_type": "markdown",
   "metadata": {},
   "source": [
    "# Power State Summary\n",
    "An undervalued data set that could provide some valuable insight."
   ]
  },
  {
   "cell_type": "code",
   "execution_count": 2,
   "metadata": {},
   "outputs": [],
   "source": [
    "import os\n",
    "\n",
    "import pandas as pd\n",
    "import numpy as np\n",
    "\n",
    "from datetime import datetime, timedelta\n",
    "\n",
    "import matplotlib.pyplot as plt\n",
    "import seaborn as sns"
   ]
  },
  {
   "cell_type": "markdown",
   "metadata": {},
   "source": [
    "# Data Import\n",
    "Importing the \"processed\" file - really it is just a fille that has all participants aggregated."
   ]
  },
  {
   "cell_type": "code",
   "execution_count": 3,
   "metadata": {},
   "outputs": [
    {
     "data": {
      "text/html": [
       "<div>\n",
       "<style scoped>\n",
       "    .dataframe tbody tr th:only-of-type {\n",
       "        vertical-align: middle;\n",
       "    }\n",
       "\n",
       "    .dataframe tbody tr th {\n",
       "        vertical-align: top;\n",
       "    }\n",
       "\n",
       "    .dataframe thead th {\n",
       "        text-align: right;\n",
       "    }\n",
       "</style>\n",
       "<table border=\"1\" class=\"dataframe\">\n",
       "  <thead>\n",
       "    <tr style=\"text-align: right;\">\n",
       "      <th></th>\n",
       "      <th>UTC Time</th>\n",
       "      <th>Lat</th>\n",
       "      <th>Long</th>\n",
       "      <th>Alt</th>\n",
       "      <th>Accuracy</th>\n",
       "      <th>Beiwe</th>\n",
       "    </tr>\n",
       "    <tr>\n",
       "      <th>Time</th>\n",
       "      <th></th>\n",
       "      <th></th>\n",
       "      <th></th>\n",
       "      <th></th>\n",
       "      <th></th>\n",
       "      <th></th>\n",
       "    </tr>\n",
       "  </thead>\n",
       "  <tbody>\n",
       "    <tr>\n",
       "      <th>2020-01-24 17:42:00</th>\n",
       "      <td>2020-01-24T23:42:41.518</td>\n",
       "      <td>30.28995</td>\n",
       "      <td>-97.73764</td>\n",
       "      <td>157.30000</td>\n",
       "      <td>21.116</td>\n",
       "      <td>25rlmdr1</td>\n",
       "    </tr>\n",
       "    <tr>\n",
       "      <th>2020-01-24 17:43:00</th>\n",
       "      <td>2020-01-24T23:43:00.470</td>\n",
       "      <td>30.28995</td>\n",
       "      <td>-97.73764</td>\n",
       "      <td>157.30000</td>\n",
       "      <td>21.116</td>\n",
       "      <td>25rlmdr1</td>\n",
       "    </tr>\n",
       "    <tr>\n",
       "      <th>2020-01-24 17:48:00</th>\n",
       "      <td>2020-01-24T23:48:41.994</td>\n",
       "      <td>30.28995</td>\n",
       "      <td>-97.73764</td>\n",
       "      <td>157.30000</td>\n",
       "      <td>21.247</td>\n",
       "      <td>25rlmdr1</td>\n",
       "    </tr>\n",
       "    <tr>\n",
       "      <th>2020-01-24 17:49:00</th>\n",
       "      <td>2020-01-24T23:49:03.703</td>\n",
       "      <td>30.28995</td>\n",
       "      <td>-97.73764</td>\n",
       "      <td>157.30000</td>\n",
       "      <td>20.882</td>\n",
       "      <td>25rlmdr1</td>\n",
       "    </tr>\n",
       "    <tr>\n",
       "      <th>2020-01-24 17:54:00</th>\n",
       "      <td>2020-01-24T23:54:43.388</td>\n",
       "      <td>30.28960</td>\n",
       "      <td>-97.73542</td>\n",
       "      <td>159.95239</td>\n",
       "      <td>7.504</td>\n",
       "      <td>25rlmdr1</td>\n",
       "    </tr>\n",
       "  </tbody>\n",
       "</table>\n",
       "</div>"
      ],
      "text/plain": [
       "                                    UTC Time       Lat      Long        Alt  \\\n",
       "Time                                                                          \n",
       "2020-01-24 17:42:00  2020-01-24T23:42:41.518  30.28995 -97.73764  157.30000   \n",
       "2020-01-24 17:43:00  2020-01-24T23:43:00.470  30.28995 -97.73764  157.30000   \n",
       "2020-01-24 17:48:00  2020-01-24T23:48:41.994  30.28995 -97.73764  157.30000   \n",
       "2020-01-24 17:49:00  2020-01-24T23:49:03.703  30.28995 -97.73764  157.30000   \n",
       "2020-01-24 17:54:00  2020-01-24T23:54:43.388  30.28960 -97.73542  159.95239   \n",
       "\n",
       "                     Accuracy     Beiwe  \n",
       "Time                                     \n",
       "2020-01-24 17:42:00    21.116  25rlmdr1  \n",
       "2020-01-24 17:43:00    21.116  25rlmdr1  \n",
       "2020-01-24 17:48:00    21.247  25rlmdr1  \n",
       "2020-01-24 17:49:00    20.882  25rlmdr1  \n",
       "2020-01-24 17:54:00     7.504  25rlmdr1  "
      ]
     },
     "execution_count": 3,
     "metadata": {},
     "output_type": "execute_result"
    }
   ],
   "source": [
    "ps = pd.read_csv('../data/processed/bpeace1-gps.csv',parse_dates=True,infer_datetime_format=True,index_col=0)\n",
    "ps.head()"
   ]
  },
  {
   "cell_type": "markdown",
   "metadata": {},
   "source": [
    "# Analysis"
   ]
  },
  {
   "cell_type": "markdown",
   "metadata": {},
   "source": [
    "## By the numbers"
   ]
  },
  {
   "cell_type": "code",
   "execution_count": 4,
   "metadata": {},
   "outputs": [
    {
     "name": "stdout",
     "output_type": "stream",
     "text": [
      "Number of BT users: 75\n"
     ]
    }
   ],
   "source": [
    "n = len(ps['Beiwe'].unique())\n",
    "print(f'Number of BT users: {n}')"
   ]
  },
  {
   "cell_type": "code",
   "execution_count": null,
   "metadata": {},
   "outputs": [],
   "source": []
  }
 ],
 "metadata": {
  "kernelspec": {
   "display_name": "Python 3",
   "language": "python",
   "name": "python3"
  },
  "language_info": {
   "codemirror_mode": {
    "name": "ipython",
    "version": 3
   },
   "file_extension": ".py",
   "mimetype": "text/x-python",
   "name": "python",
   "nbconvert_exporter": "python",
   "pygments_lexer": "ipython3",
   "version": "3.7.0"
  }
 },
 "nbformat": 4,
 "nbformat_minor": 4
}
