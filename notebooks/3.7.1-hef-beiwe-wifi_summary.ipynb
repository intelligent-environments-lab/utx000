{
 "cells": [
  {
   "cell_type": "markdown",
   "metadata": {},
   "source": [
    "# Exploring the UTx000 Dataset\n",
    "From the first cohort in Spring 2020"
   ]
  },
  {
   "cell_type": "code",
   "execution_count": 2,
   "metadata": {},
   "outputs": [],
   "source": [
    "import warnings\n",
    "warnings.filterwarnings('ignore')"
   ]
  },
  {
   "cell_type": "markdown",
   "metadata": {},
   "source": [
    "# WiFi Summary\n",
    "The wifi summary"
   ]
  },
  {
   "cell_type": "code",
   "execution_count": 1,
   "metadata": {},
   "outputs": [],
   "source": [
    "import os\n",
    "\n",
    "import pandas as pd\n",
    "import numpy as np\n",
    "\n",
    "from datetime import datetime, timedelta\n",
    "\n",
    "import matplotlib.pyplot as plt\n",
    "import seaborn as sns"
   ]
  },
  {
   "cell_type": "markdown",
   "metadata": {},
   "source": [
    "# Data Import\n",
    "Importing the \"processed\" file - really it is just a fille that has all participants aggregated."
   ]
  },
  {
   "cell_type": "code",
   "execution_count": 3,
   "metadata": {},
   "outputs": [
    {
     "data": {
      "text/html": [
       "<div>\n",
       "<style scoped>\n",
       "    .dataframe tbody tr th:only-of-type {\n",
       "        vertical-align: middle;\n",
       "    }\n",
       "\n",
       "    .dataframe tbody tr th {\n",
       "        vertical-align: top;\n",
       "    }\n",
       "\n",
       "    .dataframe thead th {\n",
       "        text-align: right;\n",
       "    }\n",
       "</style>\n",
       "<table border=\"1\" class=\"dataframe\">\n",
       "  <thead>\n",
       "    <tr style=\"text-align: right;\">\n",
       "      <th></th>\n",
       "      <th>timestamp</th>\n",
       "      <th>UTC time</th>\n",
       "      <th>hashed MAC</th>\n",
       "      <th>frequency</th>\n",
       "      <th>RSSI</th>\n",
       "      <th>Beiwe</th>\n",
       "    </tr>\n",
       "    <tr>\n",
       "      <th>Time</th>\n",
       "      <th></th>\n",
       "      <th></th>\n",
       "      <th></th>\n",
       "      <th></th>\n",
       "      <th></th>\n",
       "      <th></th>\n",
       "    </tr>\n",
       "  </thead>\n",
       "  <tbody>\n",
       "    <tr>\n",
       "      <th>2020-01-24 17:55:40.390</th>\n",
       "      <td>1579910140390</td>\n",
       "      <td>2020-01-24 23:55:40.390</td>\n",
       "      <td>EBpL7C3UotUEnmksG3SobZ4ufh8ewiKkaChppb-Y-MIPmF...</td>\n",
       "      <td>2412</td>\n",
       "      <td>-48</td>\n",
       "      <td>25rlmdr1</td>\n",
       "    </tr>\n",
       "    <tr>\n",
       "      <th>2020-01-24 17:55:40.390</th>\n",
       "      <td>1579910140390</td>\n",
       "      <td>2020-01-24 23:55:40.390</td>\n",
       "      <td>xPcpw2nB0PnWZbFGyPwrTidPu7oRExfQY9cNAYeuryzcq2...</td>\n",
       "      <td>2412</td>\n",
       "      <td>-68</td>\n",
       "      <td>25rlmdr1</td>\n",
       "    </tr>\n",
       "    <tr>\n",
       "      <th>2020-01-24 17:55:40.390</th>\n",
       "      <td>1579910140390</td>\n",
       "      <td>2020-01-24 23:55:40.390</td>\n",
       "      <td>q-2TNyVanaqmSXeriT_Mn6CYEBGsp_-Sixx2ujznv4M6Uc...</td>\n",
       "      <td>2412</td>\n",
       "      <td>-70</td>\n",
       "      <td>25rlmdr1</td>\n",
       "    </tr>\n",
       "    <tr>\n",
       "      <th>2020-01-24 17:55:40.390</th>\n",
       "      <td>1579910140390</td>\n",
       "      <td>2020-01-24 23:55:40.390</td>\n",
       "      <td>0wEjjgnOEZFKNo84GG9leveCuLed04Z0xjjOxS4dSVqK0y...</td>\n",
       "      <td>5745</td>\n",
       "      <td>-72</td>\n",
       "      <td>25rlmdr1</td>\n",
       "    </tr>\n",
       "    <tr>\n",
       "      <th>2020-01-24 17:55:40.390</th>\n",
       "      <td>1579910140390</td>\n",
       "      <td>2020-01-24 23:55:40.390</td>\n",
       "      <td>lDduH3QeHBp2GXZkYqijloQHrK_HMauoiGHYMwqlN2Sy9_...</td>\n",
       "      <td>5745</td>\n",
       "      <td>-72</td>\n",
       "      <td>25rlmdr1</td>\n",
       "    </tr>\n",
       "  </tbody>\n",
       "</table>\n",
       "</div>"
      ],
      "text/plain": [
       "                             timestamp                 UTC time  \\\n",
       "Time                                                              \n",
       "2020-01-24 17:55:40.390  1579910140390  2020-01-24 23:55:40.390   \n",
       "2020-01-24 17:55:40.390  1579910140390  2020-01-24 23:55:40.390   \n",
       "2020-01-24 17:55:40.390  1579910140390  2020-01-24 23:55:40.390   \n",
       "2020-01-24 17:55:40.390  1579910140390  2020-01-24 23:55:40.390   \n",
       "2020-01-24 17:55:40.390  1579910140390  2020-01-24 23:55:40.390   \n",
       "\n",
       "                                                                hashed MAC  \\\n",
       "Time                                                                         \n",
       "2020-01-24 17:55:40.390  EBpL7C3UotUEnmksG3SobZ4ufh8ewiKkaChppb-Y-MIPmF...   \n",
       "2020-01-24 17:55:40.390  xPcpw2nB0PnWZbFGyPwrTidPu7oRExfQY9cNAYeuryzcq2...   \n",
       "2020-01-24 17:55:40.390  q-2TNyVanaqmSXeriT_Mn6CYEBGsp_-Sixx2ujznv4M6Uc...   \n",
       "2020-01-24 17:55:40.390  0wEjjgnOEZFKNo84GG9leveCuLed04Z0xjjOxS4dSVqK0y...   \n",
       "2020-01-24 17:55:40.390  lDduH3QeHBp2GXZkYqijloQHrK_HMauoiGHYMwqlN2Sy9_...   \n",
       "\n",
       "                         frequency  RSSI     Beiwe  \n",
       "Time                                                \n",
       "2020-01-24 17:55:40.390       2412   -48  25rlmdr1  \n",
       "2020-01-24 17:55:40.390       2412   -68  25rlmdr1  \n",
       "2020-01-24 17:55:40.390       2412   -70  25rlmdr1  \n",
       "2020-01-24 17:55:40.390       5745   -72  25rlmdr1  \n",
       "2020-01-24 17:55:40.390       5745   -72  25rlmdr1  "
      ]
     },
     "execution_count": 3,
     "metadata": {},
     "output_type": "execute_result"
    }
   ],
   "source": [
    "wifi = pd.read_csv('../data/processed/bpeace1-wifi.csv',parse_dates=True,infer_datetime_format=True,index_col=0)\n",
    "wifi.head()"
   ]
  },
  {
   "cell_type": "markdown",
   "metadata": {},
   "source": [
    "# Analysis"
   ]
  },
  {
   "cell_type": "markdown",
   "metadata": {},
   "source": [
    "## By the numbers"
   ]
  },
  {
   "cell_type": "code",
   "execution_count": 5,
   "metadata": {},
   "outputs": [
    {
     "name": "stdout",
     "output_type": "stream",
     "text": [
      "Number of Wifi users: 16\n"
     ]
    }
   ],
   "source": [
    "n = len(wifi['Beiwe'].unique())\n",
    "print(f'Number of Wifi users: {n}')"
   ]
  },
  {
   "cell_type": "code",
   "execution_count": null,
   "metadata": {},
   "outputs": [],
   "source": []
  }
 ],
 "metadata": {
  "kernelspec": {
   "display_name": "Python 3",
   "language": "python",
   "name": "python3"
  },
  "language_info": {
   "codemirror_mode": {
    "name": "ipython",
    "version": 3
   },
   "file_extension": ".py",
   "mimetype": "text/x-python",
   "name": "python",
   "nbconvert_exporter": "python",
   "pygments_lexer": "ipython3",
   "version": "3.7.0"
  }
 },
 "nbformat": 4,
 "nbformat_minor": 4
}
