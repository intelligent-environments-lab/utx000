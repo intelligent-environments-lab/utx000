{
 "cells": [
  {
   "cell_type": "markdown",
   "metadata": {},
   "source": [
    "# Beacon, Fitbit, and EMA Analysis\n",
    "We look at the BIG three and see what things we can see when considering multiple modalities."
   ]
  },
  {
   "cell_type": "code",
   "execution_count": 1,
   "metadata": {},
   "outputs": [],
   "source": [
    "import warnings\n",
    "warnings.filterwarnings('ignore')"
   ]
  },
  {
   "cell_type": "markdown",
   "metadata": {},
   "source": [
    "## Initial Exploration\n",
    "The start to a more complex analysis, here we just look through the data we have for the combined modalities."
   ]
  },
  {
   "cell_type": "code",
   "execution_count": 2,
   "metadata": {},
   "outputs": [],
   "source": [
    "import os\n",
    "import sys\n",
    "sys.path.append('../')\n",
    "\n",
    "from src.features import build_features\n",
    "from src.visualization import visualize\n",
    "from src.reports import make_report\n",
    "\n",
    "import pandas as pd\n",
    "import numpy as np\n",
    "\n",
    "from datetime import datetime, timedelta\n",
    "\n",
    "import matplotlib.pyplot as plt\n",
    "import seaborn as sns\n",
    "import matplotlib.dates as mdates\n",
    "\n",
    "import itertools"
   ]
  },
  {
   "cell_type": "markdown",
   "metadata": {},
   "source": [
    "## Data Import"
   ]
  },
  {
   "cell_type": "markdown",
   "metadata": {},
   "source": [
    "### Evening IAQ Data\n",
    "We start by importing the IAQ data from the beacon that has been restricted fully by Fitbit and EMAs"
   ]
  },
  {
   "cell_type": "code",
   "execution_count": 3,
   "metadata": {},
   "outputs": [
    {
     "data": {
      "text/html": [
       "<div>\n",
       "<style scoped>\n",
       "    .dataframe tbody tr th:only-of-type {\n",
       "        vertical-align: middle;\n",
       "    }\n",
       "\n",
       "    .dataframe tbody tr th {\n",
       "        vertical-align: top;\n",
       "    }\n",
       "\n",
       "    .dataframe thead th {\n",
       "        text-align: right;\n",
       "    }\n",
       "</style>\n",
       "<table border=\"1\" class=\"dataframe\">\n",
       "  <thead>\n",
       "    <tr style=\"text-align: right;\">\n",
       "      <th></th>\n",
       "      <th>TVOC</th>\n",
       "      <th>eCO2</th>\n",
       "      <th>Lux</th>\n",
       "      <th>Visible</th>\n",
       "      <th>Infrared</th>\n",
       "      <th>NO2</th>\n",
       "      <th>T_NO2</th>\n",
       "      <th>RH_NO2</th>\n",
       "      <th>CO</th>\n",
       "      <th>T_CO</th>\n",
       "      <th>...</th>\n",
       "      <th>PM_C_4</th>\n",
       "      <th>PM_C_10</th>\n",
       "      <th>z</th>\n",
       "      <th>Beacon</th>\n",
       "      <th>Beiwe</th>\n",
       "      <th>Fitbit</th>\n",
       "      <th>REDCap</th>\n",
       "      <th>start_time</th>\n",
       "      <th>end_time</th>\n",
       "      <th>beiwe</th>\n",
       "    </tr>\n",
       "    <tr>\n",
       "      <th>Timestamp</th>\n",
       "      <th></th>\n",
       "      <th></th>\n",
       "      <th></th>\n",
       "      <th></th>\n",
       "      <th></th>\n",
       "      <th></th>\n",
       "      <th></th>\n",
       "      <th></th>\n",
       "      <th></th>\n",
       "      <th></th>\n",
       "      <th></th>\n",
       "      <th></th>\n",
       "      <th></th>\n",
       "      <th></th>\n",
       "      <th></th>\n",
       "      <th></th>\n",
       "      <th></th>\n",
       "      <th></th>\n",
       "      <th></th>\n",
       "      <th></th>\n",
       "      <th></th>\n",
       "    </tr>\n",
       "  </thead>\n",
       "  <tbody>\n",
       "    <tr>\n",
       "      <th>2020-07-04 07:10:00</th>\n",
       "      <td>128.04</td>\n",
       "      <td>400.0</td>\n",
       "      <td>6.2832</td>\n",
       "      <td>196613.0</td>\n",
       "      <td>3.0</td>\n",
       "      <td>NaN</td>\n",
       "      <td>27.0</td>\n",
       "      <td>52.0</td>\n",
       "      <td>-0.91648</td>\n",
       "      <td>NaN</td>\n",
       "      <td>...</td>\n",
       "      <td>16.368654</td>\n",
       "      <td>16.581035</td>\n",
       "      <td>0.154553</td>\n",
       "      <td>44</td>\n",
       "      <td>4i7679py</td>\n",
       "      <td>38</td>\n",
       "      <td>37</td>\n",
       "      <td>2020-07-04 07:07:00</td>\n",
       "      <td>2020-07-04 16:10:00</td>\n",
       "      <td>4i7679py</td>\n",
       "    </tr>\n",
       "    <tr>\n",
       "      <th>2020-07-04 07:15:00</th>\n",
       "      <td>124.52</td>\n",
       "      <td>400.0</td>\n",
       "      <td>5.8752</td>\n",
       "      <td>196612.8</td>\n",
       "      <td>3.0</td>\n",
       "      <td>NaN</td>\n",
       "      <td>27.0</td>\n",
       "      <td>52.0</td>\n",
       "      <td>-0.81324</td>\n",
       "      <td>NaN</td>\n",
       "      <td>...</td>\n",
       "      <td>17.515252</td>\n",
       "      <td>17.739183</td>\n",
       "      <td>0.159092</td>\n",
       "      <td>44</td>\n",
       "      <td>4i7679py</td>\n",
       "      <td>38</td>\n",
       "      <td>37</td>\n",
       "      <td>2020-07-04 07:07:00</td>\n",
       "      <td>2020-07-04 16:10:00</td>\n",
       "      <td>4i7679py</td>\n",
       "    </tr>\n",
       "    <tr>\n",
       "      <th>2020-07-04 07:20:00</th>\n",
       "      <td>97.08</td>\n",
       "      <td>400.0</td>\n",
       "      <td>4.2432</td>\n",
       "      <td>196612.0</td>\n",
       "      <td>3.0</td>\n",
       "      <td>NaN</td>\n",
       "      <td>27.0</td>\n",
       "      <td>51.0</td>\n",
       "      <td>-0.71760</td>\n",
       "      <td>NaN</td>\n",
       "      <td>...</td>\n",
       "      <td>17.275952</td>\n",
       "      <td>17.501635</td>\n",
       "      <td>0.298510</td>\n",
       "      <td>44</td>\n",
       "      <td>4i7679py</td>\n",
       "      <td>38</td>\n",
       "      <td>37</td>\n",
       "      <td>2020-07-04 07:07:00</td>\n",
       "      <td>2020-07-04 16:10:00</td>\n",
       "      <td>4i7679py</td>\n",
       "    </tr>\n",
       "    <tr>\n",
       "      <th>2020-07-04 07:25:00</th>\n",
       "      <td>102.24</td>\n",
       "      <td>400.0</td>\n",
       "      <td>4.2432</td>\n",
       "      <td>196612.0</td>\n",
       "      <td>3.0</td>\n",
       "      <td>NaN</td>\n",
       "      <td>27.0</td>\n",
       "      <td>51.0</td>\n",
       "      <td>-0.73624</td>\n",
       "      <td>NaN</td>\n",
       "      <td>...</td>\n",
       "      <td>15.176323</td>\n",
       "      <td>15.371221</td>\n",
       "      <td>0.287511</td>\n",
       "      <td>44</td>\n",
       "      <td>4i7679py</td>\n",
       "      <td>38</td>\n",
       "      <td>37</td>\n",
       "      <td>2020-07-04 07:07:00</td>\n",
       "      <td>2020-07-04 16:10:00</td>\n",
       "      <td>4i7679py</td>\n",
       "    </tr>\n",
       "    <tr>\n",
       "      <th>2020-07-04 07:30:00</th>\n",
       "      <td>106.84</td>\n",
       "      <td>400.0</td>\n",
       "      <td>4.6512</td>\n",
       "      <td>196612.2</td>\n",
       "      <td>3.0</td>\n",
       "      <td>NaN</td>\n",
       "      <td>27.0</td>\n",
       "      <td>51.0</td>\n",
       "      <td>-0.74156</td>\n",
       "      <td>NaN</td>\n",
       "      <td>...</td>\n",
       "      <td>19.510833</td>\n",
       "      <td>19.767971</td>\n",
       "      <td>0.263813</td>\n",
       "      <td>44</td>\n",
       "      <td>4i7679py</td>\n",
       "      <td>38</td>\n",
       "      <td>37</td>\n",
       "      <td>2020-07-04 07:07:00</td>\n",
       "      <td>2020-07-04 16:10:00</td>\n",
       "      <td>4i7679py</td>\n",
       "    </tr>\n",
       "  </tbody>\n",
       "</table>\n",
       "<p>5 rows × 31 columns</p>\n",
       "</div>"
      ],
      "text/plain": [
       "                       TVOC   eCO2     Lux   Visible  Infrared  NO2  T_NO2  \\\n",
       "Timestamp                                                                    \n",
       "2020-07-04 07:10:00  128.04  400.0  6.2832  196613.0       3.0  NaN   27.0   \n",
       "2020-07-04 07:15:00  124.52  400.0  5.8752  196612.8       3.0  NaN   27.0   \n",
       "2020-07-04 07:20:00   97.08  400.0  4.2432  196612.0       3.0  NaN   27.0   \n",
       "2020-07-04 07:25:00  102.24  400.0  4.2432  196612.0       3.0  NaN   27.0   \n",
       "2020-07-04 07:30:00  106.84  400.0  4.6512  196612.2       3.0  NaN   27.0   \n",
       "\n",
       "                     RH_NO2       CO  T_CO  ...     PM_C_4    PM_C_10  \\\n",
       "Timestamp                                   ...                         \n",
       "2020-07-04 07:10:00    52.0 -0.91648   NaN  ...  16.368654  16.581035   \n",
       "2020-07-04 07:15:00    52.0 -0.81324   NaN  ...  17.515252  17.739183   \n",
       "2020-07-04 07:20:00    51.0 -0.71760   NaN  ...  17.275952  17.501635   \n",
       "2020-07-04 07:25:00    51.0 -0.73624   NaN  ...  15.176323  15.371221   \n",
       "2020-07-04 07:30:00    51.0 -0.74156   NaN  ...  19.510833  19.767971   \n",
       "\n",
       "                            z  Beacon     Beiwe  Fitbit  REDCap  \\\n",
       "Timestamp                                                         \n",
       "2020-07-04 07:10:00  0.154553      44  4i7679py      38      37   \n",
       "2020-07-04 07:15:00  0.159092      44  4i7679py      38      37   \n",
       "2020-07-04 07:20:00  0.298510      44  4i7679py      38      37   \n",
       "2020-07-04 07:25:00  0.287511      44  4i7679py      38      37   \n",
       "2020-07-04 07:30:00  0.263813      44  4i7679py      38      37   \n",
       "\n",
       "                             start_time            end_time     beiwe  \n",
       "Timestamp                                                              \n",
       "2020-07-04 07:10:00 2020-07-04 07:07:00 2020-07-04 16:10:00  4i7679py  \n",
       "2020-07-04 07:15:00 2020-07-04 07:07:00 2020-07-04 16:10:00  4i7679py  \n",
       "2020-07-04 07:20:00 2020-07-04 07:07:00 2020-07-04 16:10:00  4i7679py  \n",
       "2020-07-04 07:25:00 2020-07-04 07:07:00 2020-07-04 16:10:00  4i7679py  \n",
       "2020-07-04 07:30:00 2020-07-04 07:07:00 2020-07-04 16:10:00  4i7679py  \n",
       "\n",
       "[5 rows x 31 columns]"
      ]
     },
     "execution_count": 3,
     "metadata": {},
     "output_type": "execute_result"
    }
   ],
   "source": [
    "iaq_evening_restricted = pd.read_csv('../data/processed/bpeace2-fitbit-beacon-iaq-evening-restricted.csv',\n",
    "                                    index_col=0,parse_dates=['Timestamp','start_time','end_time'],infer_datetime_format=True)\n",
    "iaq_evening_restricted.head()"
   ]
  },
  {
   "cell_type": "markdown",
   "metadata": {},
   "source": [
    "### Morning EMAs\n",
    "We also want the actual EMA data from the sleep surveys"
   ]
  },
  {
   "cell_type": "code",
   "execution_count": 4,
   "metadata": {},
   "outputs": [
    {
     "data": {
      "text/html": [
       "<div>\n",
       "<style scoped>\n",
       "    .dataframe tbody tr th:only-of-type {\n",
       "        vertical-align: middle;\n",
       "    }\n",
       "\n",
       "    .dataframe tbody tr th {\n",
       "        vertical-align: top;\n",
       "    }\n",
       "\n",
       "    .dataframe thead th {\n",
       "        text-align: right;\n",
       "    }\n",
       "</style>\n",
       "<table border=\"1\" class=\"dataframe\">\n",
       "  <thead>\n",
       "    <tr style=\"text-align: right;\">\n",
       "      <th></th>\n",
       "      <th>ID</th>\n",
       "      <th>Content</th>\n",
       "      <th>Stress</th>\n",
       "      <th>Lonely</th>\n",
       "      <th>Sad</th>\n",
       "      <th>Energy</th>\n",
       "      <th>TST</th>\n",
       "      <th>SOL</th>\n",
       "      <th>NAW</th>\n",
       "      <th>Restful</th>\n",
       "    </tr>\n",
       "  </thead>\n",
       "  <tbody>\n",
       "    <tr>\n",
       "      <th>2020-07-31 09:25:41</th>\n",
       "      <td>hfttkth7</td>\n",
       "      <td>1.0</td>\n",
       "      <td>2.0</td>\n",
       "      <td>1.0</td>\n",
       "      <td>3.0</td>\n",
       "      <td>0.0</td>\n",
       "      <td>6.0</td>\n",
       "      <td>10.0</td>\n",
       "      <td>3.0</td>\n",
       "      <td>0.0</td>\n",
       "    </tr>\n",
       "    <tr>\n",
       "      <th>2020-08-19 22:49:04</th>\n",
       "      <td>hfttkth7</td>\n",
       "      <td>1.0</td>\n",
       "      <td>1.0</td>\n",
       "      <td>0.0</td>\n",
       "      <td>1.0</td>\n",
       "      <td>2.0</td>\n",
       "      <td>7.0</td>\n",
       "      <td>20.0</td>\n",
       "      <td>1.0</td>\n",
       "      <td>1.0</td>\n",
       "    </tr>\n",
       "    <tr>\n",
       "      <th>2020-08-23 10:58:26</th>\n",
       "      <td>hfttkth7</td>\n",
       "      <td>1.0</td>\n",
       "      <td>1.0</td>\n",
       "      <td>1.0</td>\n",
       "      <td>2.0</td>\n",
       "      <td>0.0</td>\n",
       "      <td>6.0</td>\n",
       "      <td>25.0</td>\n",
       "      <td>0.0</td>\n",
       "      <td>0.0</td>\n",
       "    </tr>\n",
       "    <tr>\n",
       "      <th>2020-07-17 09:52:16</th>\n",
       "      <td>hfttkth7</td>\n",
       "      <td>1.0</td>\n",
       "      <td>1.0</td>\n",
       "      <td>0.0</td>\n",
       "      <td>1.0</td>\n",
       "      <td>2.0</td>\n",
       "      <td>7.0</td>\n",
       "      <td>20.0</td>\n",
       "      <td>3.0</td>\n",
       "      <td>2.0</td>\n",
       "    </tr>\n",
       "    <tr>\n",
       "      <th>2020-08-12 12:32:54</th>\n",
       "      <td>hfttkth7</td>\n",
       "      <td>1.0</td>\n",
       "      <td>3.0</td>\n",
       "      <td>1.0</td>\n",
       "      <td>2.0</td>\n",
       "      <td>2.0</td>\n",
       "      <td>6.0</td>\n",
       "      <td>20.0</td>\n",
       "      <td>0.0</td>\n",
       "      <td>1.0</td>\n",
       "    </tr>\n",
       "  </tbody>\n",
       "</table>\n",
       "</div>"
      ],
      "text/plain": [
       "                           ID  Content  Stress  Lonely  Sad  Energy  TST  \\\n",
       "2020-07-31 09:25:41  hfttkth7      1.0     2.0     1.0  3.0     0.0  6.0   \n",
       "2020-08-19 22:49:04  hfttkth7      1.0     1.0     0.0  1.0     2.0  7.0   \n",
       "2020-08-23 10:58:26  hfttkth7      1.0     1.0     1.0  2.0     0.0  6.0   \n",
       "2020-07-17 09:52:16  hfttkth7      1.0     1.0     0.0  1.0     2.0  7.0   \n",
       "2020-08-12 12:32:54  hfttkth7      1.0     3.0     1.0  2.0     2.0  6.0   \n",
       "\n",
       "                      SOL  NAW  Restful  \n",
       "2020-07-31 09:25:41  10.0  3.0      0.0  \n",
       "2020-08-19 22:49:04  20.0  1.0      1.0  \n",
       "2020-08-23 10:58:26  25.0  0.0      0.0  \n",
       "2020-07-17 09:52:16  20.0  3.0      2.0  \n",
       "2020-08-12 12:32:54  20.0  0.0      1.0  "
      ]
     },
     "execution_count": 4,
     "metadata": {},
     "output_type": "execute_result"
    }
   ],
   "source": [
    "ema = pd.read_csv('../data/processed/bpeace2-morning-survey.csv',\n",
    "                  index_col=0,parse_dates=True,infer_datetime_format=True)\n",
    "ema.head()"
   ]
  },
  {
   "cell_type": "markdown",
   "metadata": {},
   "source": [
    "### Fitbit Sleep Stages\n",
    "We also need the recorded Fitbit data."
   ]
  },
  {
   "cell_type": "code",
   "execution_count": 5,
   "metadata": {},
   "outputs": [
    {
     "data": {
      "text/html": [
       "<div>\n",
       "<style scoped>\n",
       "    .dataframe tbody tr th:only-of-type {\n",
       "        vertical-align: middle;\n",
       "    }\n",
       "\n",
       "    .dataframe tbody tr th {\n",
       "        vertical-align: top;\n",
       "    }\n",
       "\n",
       "    .dataframe thead th {\n",
       "        text-align: right;\n",
       "    }\n",
       "</style>\n",
       "<table border=\"1\" class=\"dataframe\">\n",
       "  <thead>\n",
       "    <tr style=\"text-align: right;\">\n",
       "      <th></th>\n",
       "      <th>Unnamed: 0</th>\n",
       "      <th>start_date</th>\n",
       "      <th>end_date</th>\n",
       "      <th>stage</th>\n",
       "      <th>time_at_stage</th>\n",
       "      <th>beiwe</th>\n",
       "      <th>value</th>\n",
       "    </tr>\n",
       "    <tr>\n",
       "      <th>time</th>\n",
       "      <th></th>\n",
       "      <th></th>\n",
       "      <th></th>\n",
       "      <th></th>\n",
       "      <th></th>\n",
       "      <th></th>\n",
       "      <th></th>\n",
       "    </tr>\n",
       "  </thead>\n",
       "  <tbody>\n",
       "    <tr>\n",
       "      <th>2020-05-14 00:27:00</th>\n",
       "      <td>0</td>\n",
       "      <td>2020-05-14</td>\n",
       "      <td>2020-05-14</td>\n",
       "      <td>wake</td>\n",
       "      <td>510</td>\n",
       "      <td>hfttkth7</td>\n",
       "      <td>0</td>\n",
       "    </tr>\n",
       "    <tr>\n",
       "      <th>2020-05-14 00:35:30</th>\n",
       "      <td>1</td>\n",
       "      <td>2020-05-14</td>\n",
       "      <td>2020-05-14</td>\n",
       "      <td>light</td>\n",
       "      <td>420</td>\n",
       "      <td>hfttkth7</td>\n",
       "      <td>1</td>\n",
       "    </tr>\n",
       "    <tr>\n",
       "      <th>2020-05-14 00:42:30</th>\n",
       "      <td>2</td>\n",
       "      <td>2020-05-14</td>\n",
       "      <td>2020-05-14</td>\n",
       "      <td>deep</td>\n",
       "      <td>1590</td>\n",
       "      <td>hfttkth7</td>\n",
       "      <td>2</td>\n",
       "    </tr>\n",
       "    <tr>\n",
       "      <th>2020-05-14 01:09:00</th>\n",
       "      <td>3</td>\n",
       "      <td>2020-05-14</td>\n",
       "      <td>2020-05-14</td>\n",
       "      <td>light</td>\n",
       "      <td>1290</td>\n",
       "      <td>hfttkth7</td>\n",
       "      <td>1</td>\n",
       "    </tr>\n",
       "    <tr>\n",
       "      <th>2020-05-14 01:30:30</th>\n",
       "      <td>4</td>\n",
       "      <td>2020-05-14</td>\n",
       "      <td>2020-05-14</td>\n",
       "      <td>rem</td>\n",
       "      <td>840</td>\n",
       "      <td>hfttkth7</td>\n",
       "      <td>3</td>\n",
       "    </tr>\n",
       "  </tbody>\n",
       "</table>\n",
       "</div>"
      ],
      "text/plain": [
       "                     Unnamed: 0 start_date   end_date  stage  time_at_stage  \\\n",
       "time                                                                          \n",
       "2020-05-14 00:27:00           0 2020-05-14 2020-05-14   wake            510   \n",
       "2020-05-14 00:35:30           1 2020-05-14 2020-05-14  light            420   \n",
       "2020-05-14 00:42:30           2 2020-05-14 2020-05-14   deep           1590   \n",
       "2020-05-14 01:09:00           3 2020-05-14 2020-05-14  light           1290   \n",
       "2020-05-14 01:30:30           4 2020-05-14 2020-05-14    rem            840   \n",
       "\n",
       "                        beiwe  value  \n",
       "time                                  \n",
       "2020-05-14 00:27:00  hfttkth7      0  \n",
       "2020-05-14 00:35:30  hfttkth7      1  \n",
       "2020-05-14 00:42:30  hfttkth7      2  \n",
       "2020-05-14 01:09:00  hfttkth7      1  \n",
       "2020-05-14 01:30:30  hfttkth7      3  "
      ]
     },
     "execution_count": 5,
     "metadata": {},
     "output_type": "execute_result"
    }
   ],
   "source": [
    "fitbit = pd.read_csv('../data/processed/bpeace2-fitbit-sleep-stages.csv',\n",
    "                     index_col='time',parse_dates=['time','start_date','end_date'],infer_datetime_format=True)\n",
    "fitbit.head()"
   ]
  },
  {
   "cell_type": "markdown",
   "metadata": {},
   "source": [
    "## Visualization"
   ]
  },
  {
   "cell_type": "code",
   "execution_count": 6,
   "metadata": {},
   "outputs": [],
   "source": [
    "from matplotlib import cm\n",
    "from matplotlib.colors import ListedColormap, LinearSegmentedColormap"
   ]
  },
  {
   "cell_type": "markdown",
   "metadata": {},
   "source": [
    "### Nightly Time Series\n",
    "We want to look at a nice time series that shows some pollutant concentrations, the sleep stages, and when the survey was submitted.\n",
    "\n",
    "Before that, a cursory analysis shows that we have to consider nights when we have both the beacon and EMA response the next day."
   ]
  },
  {
   "cell_type": "markdown",
   "metadata": {},
   "source": [
    "#### Checking Survey and IAQ Overlap"
   ]
  },
  {
   "cell_type": "code",
   "execution_count": 7,
   "metadata": {},
   "outputs": [
    {
     "data": {
      "image/png": "[encoded data removed]",
      "text/plain": [
       "<Figure size 864x288 with 1 Axes>"
      ]
     },
     "metadata": {
      "needs_background": "light"
     },
     "output_type": "display_data"
    }
   ],
   "source": [
    "pt = '4i7679py'\n",
    "iaq_pt = iaq_evening_restricted[iaq_evening_restricted['beiwe'] == pt]\n",
    "ema_pt = ema[ema['ID'] == pt]\n",
    "fig,ax = plt.subplots(figsize=(12,4))\n",
    "ax.scatter(iaq_pt.index,iaq_pt['CO2'],color='seagreen')\n",
    "for i in range(len(ema_pt)):\n",
    "    ax.axvline(ema_pt.index[i],color='black',linestyle='dashed')"
   ]
  },
  {
   "cell_type": "markdown",
   "metadata": {},
   "source": [
    "#### First Attempt"
   ]
  },
  {
   "cell_type": "code",
   "execution_count": 8,
   "metadata": {
    "scrolled": false
   },
   "outputs": [
    {
     "name": "stdout",
     "output_type": "stream",
     "text": [
      "zdpffrox\n"
     ]
    },
    {
     "data": {
      "image/png": "[encoded data removed]",
      "text/plain": [
       "<Figure size 864x720 with 2 Axes>"
      ]
     },
     "metadata": {
      "needs_background": "light"
     },
     "output_type": "display_data"
    }
   ],
   "source": [
    "for pt in ['zdpffrox']:#iaq_evening_restricted['beiwe'].unique():\n",
    "    # restricting to patient\n",
    "    iaq_pt = iaq_evening_restricted[iaq_evening_restricted['beiwe'] == pt]\n",
    "    ema_pt = ema[ema['ID'] == pt]\n",
    "    fb_pt = fitbit[fitbit['beiwe'] == pt]\n",
    "    print(pt)\n",
    "    for i in range(len(ema_pt)):\n",
    "        iaq_pt_night = iaq_pt[iaq_pt['end_time'].dt.date == ema_pt.index[i]]\n",
    "        fb_pt_night = fb_pt[fb_pt['end_date'].dt.date == ema_pt.index[i]]\n",
    "        if len(iaq_pt_night['CO2']) > 0 and len(fb_pt_night) > 0:\n",
    "            # targeting a specific day\n",
    "            if ema_pt.index[i].date() == datetime(2020,7,16).date():\n",
    "                fig, axes = plt.subplots(2,1,figsize=(12,10),sharex=True)\n",
    "                # beacon plot\n",
    "                ax = axes[0]\n",
    "                ax.plot(iaq_pt_night.index,iaq_pt_night['CO2'],color='cornflowerblue',linewidth=2)\n",
    "                ## timeline events\n",
    "                ax.axvline(ema_pt.index[i],color='firebrick',linewidth=2,linestyle='dashed')\n",
    "                ax.axvline(iaq_pt_night.index[0],color='black',linewidth=2,linestyle='dashed')\n",
    "                ax.axvline(iaq_pt_night.index[-1],color='black',linewidth=2,linestyle='dashed')\n",
    "                ax.set_ylim([0,1500])\n",
    "\n",
    "                # fitbit plot\n",
    "                ax = axes[1]\n",
    "                ## Getting fitbit times\n",
    "                fb_times = [None]*(len(fb_pt_night.index)+len(fb_pt_night.index)-1)\n",
    "                fb_times[::2] = fb_pt_night.index\n",
    "                fb_times[1::2] = fb_pt_night.index[1:]\n",
    "                fb_times.append(iaq_pt_night['CO2'].index[-1])\n",
    "                ## Getting fitbit values\n",
    "                fb_vals = [None]*(len(fb_pt_night['value'])+len(fb_pt_night['value']))\n",
    "                fb_vals[::2] = fb_pt_night['value']\n",
    "                fb_vals[1::2] = fb_pt_night['value']\n",
    "                ## Plotting\n",
    "                ax.plot(fb_times,fb_vals,color='black',linewidth=2)\n",
    "                ax.axvline(ema_pt.index[i],color='firebrick',linewidth=2,linestyle='dashed')\n",
    "                ax.axvline(iaq_pt_night.index[0],color='black',linewidth=2,linestyle='dashed')\n",
    "                t = f'{iaq_pt_night.index[0].hour}:{iaq_pt_night.index[0].minute}'\n",
    "                ax.text(iaq_pt_night.index[0],1.5,f'Fitbit detects sleep start: {t}',rotation=90,ha='right',va='center')\n",
    "                ax.axvline(iaq_pt_night.index[-1],color='black',linewidth=2,linestyle='dashed')\n",
    "                t = f'{iaq_pt_night.index[-1].hour}:{iaq_pt_night.index[-1].minute}'\n",
    "                ax.text(iaq_pt_night.index[-1]+timedelta(minutes=3),1.5,f'Fitbit detects sleep end: {t}',rotation=90,ha='left',va='center')\n",
    "                ema_tst = ema_pt['TST'][i]\n",
    "                ax.text(ema_pt.index[i],1.5,f'Survey Submitted - Sleep Time: {ema_tst}',rotation=90,color='firebrick',ha='right',va='center')\n",
    "\n",
    "                ax.set_yticks([0,1,2,3])\n",
    "                ax.set_yticklabels(['Awake','Light','Deep','REM'])\n",
    "\n",
    "                ax.xaxis.set_major_formatter(mdates.DateFormatter('%m/%d %H'))\n",
    "                ax.xaxis.set_major_locator(mdates.HourLocator())\n",
    "\n",
    "                plt.subplots_adjust(hspace=0)\n",
    "                plt.savefig('../reports/3mt2020/all-modalities-sleep-window.pdf')\n",
    "                plt.show()\n",
    "                plt.close()"
   ]
  },
  {
   "cell_type": "markdown",
   "metadata": {},
   "source": [
    "#### Second Attempt"
   ]
  },
  {
   "cell_type": "code",
   "execution_count": 9,
   "metadata": {},
   "outputs": [
    {
     "name": "stdout",
     "output_type": "stream",
     "text": [
      "zdpffrox\n"
     ]
    },
    {
     "data": {
      "image/png": "[encoded data removed]",
      "text/plain": [
       "<Figure size 864x432 with 1 Axes>"
      ]
     },
     "metadata": {
      "needs_background": "light"
     },
     "output_type": "display_data"
    }
   ],
   "source": [
    "for pt in ['zdpffrox']:#iaq_evening_restricted['beiwe'].unique():\n",
    "    # restricting to patient\n",
    "    iaq_pt = iaq_evening_restricted[iaq_evening_restricted['beiwe'] == pt]\n",
    "    ema_pt = ema[ema['ID'] == pt]\n",
    "    fb_pt = fitbit[fitbit['beiwe'] == pt]\n",
    "    print(pt)\n",
    "    for i in range(len(ema_pt)):\n",
    "        iaq_pt_night = iaq_pt[iaq_pt['end_time'].dt.date == ema_pt.index[i]]\n",
    "        fb_pt_night = fb_pt[fb_pt['end_date'].dt.date == ema_pt.index[i]]\n",
    "        if len(iaq_pt_night['CO2']) > 0 and len(fb_pt_night) > 0:\n",
    "            # targeting a specific day\n",
    "            if ema_pt.index[i].date() == datetime(2020,7,16).date():\n",
    "                fig, ax = plt.subplots(figsize=(12,6),sharex=True)\n",
    "                # beacon plot\n",
    "                ax.plot(iaq_pt_night.index,iaq_pt_night['CO2'],color='cornflowerblue',linewidth=2)\n",
    "                ## timeline events\n",
    "                ax.axvline(ema_pt.index[i],color='firebrick',linewidth=2,linestyle='dashed')\n",
    "                ax.axvline(iaq_pt_night.index[0],color='black',linewidth=2,linestyle='dashed')\n",
    "                ax.axvline(iaq_pt_night.index[-1],color='black',linewidth=2,linestyle='dashed')\n",
    "                ax.set_ylim([0,1500])\n",
    "\n",
    "                # fitbit plot\n",
    "                ## Getting fitbit times\n",
    "                fb_times = [None]*(len(fb_pt_night.index)+len(fb_pt_night.index)-1)\n",
    "                fb_times[::2] = fb_pt_night.index\n",
    "                fb_times[1::2] = fb_pt_night.index[1:]\n",
    "                fb_times.append(iaq_pt_night['CO2'].index[-1])\n",
    "                ## Getting fitbit values\n",
    "                fb_vals = [None]*(len(fb_pt_night['value'])+len(fb_pt_night['value']))\n",
    "                fb_vals[::2] = fb_pt_night['value']\n",
    "                fb_vals[1::2] = fb_pt_night['value']\n",
    "                ## Plotting\n",
    "                for j in np.arange(0,len(fb_times),2):\n",
    "                    if fb_vals[j] == 0:\n",
    "                        color='pink'\n",
    "                    elif fb_vals[j] == 1:\n",
    "                        color='cyan'\n",
    "                    elif fb_vals[j] == 2:\n",
    "                        color='blue'\n",
    "                    else:\n",
    "                        color='navy'\n",
    "                    ax.axvspan(fb_times[j],fb_times[j+1],color=color)\n",
    "                ax.axvline(ema_pt.index[i],color='firebrick',linewidth=2,linestyle='dashed')\n",
    "                ax.axvline(iaq_pt_night.index[0],color='black',linewidth=2,linestyle='dashed')\n",
    "                t = f'{iaq_pt_night.index[0].hour}:{iaq_pt_night.index[0].minute}'\n",
    "                ax.text(iaq_pt_night.index[0],500,f'Fitbit detects sleep start: {t}',rotation=90,ha='right',va='center')\n",
    "                ax.axvline(iaq_pt_night.index[-1],color='black',linewidth=2,linestyle='dashed')\n",
    "                t = f'{iaq_pt_night.index[-1].hour}:{iaq_pt_night.index[-1].minute}'\n",
    "                ax.text(iaq_pt_night.index[-1]+timedelta(minutes=3),500,f'Fitbit detects sleep end: {t}',rotation=90,ha='left',va='center')\n",
    "                ema_tst = ema_pt['TST'][i]\n",
    "                ax.text(ema_pt.index[i],500,f'Survey Submitted - Sleep Time: {ema_tst}',rotation=90,color='firebrick',ha='right',va='center')\n",
    "\n",
    "                ax.xaxis.set_major_formatter(mdates.DateFormatter('%m/%d %H'))\n",
    "                ax.xaxis.set_major_locator(mdates.HourLocator())\n",
    "\n",
    "                plt.subplots_adjust(hspace=0)\n",
    "                #plt.savefig('../reports/3mt2020/all-modalities-sleep-window.pdf')\n",
    "                plt.show()\n",
    "                plt.close()"
   ]
  },
  {
   "cell_type": "markdown",
   "metadata": {},
   "source": [
    "#### Final Attempt\n",
    "The figure below is by no means a final product, but usable in illustrator for a final edition."
   ]
  },
  {
   "cell_type": "code",
   "execution_count": 10,
   "metadata": {},
   "outputs": [],
   "source": [
    "def create_cmap(colors,nodes):\n",
    "    cmap = LinearSegmentedColormap.from_list(\"mycmap\", list(zip(nodes, colors)))\n",
    "    return cmap"
   ]
  },
  {
   "cell_type": "code",
   "execution_count": 11,
   "metadata": {
    "scrolled": false
   },
   "outputs": [
    {
     "name": "stdout",
     "output_type": "stream",
     "text": [
      "vr9j5rry\n"
     ]
    },
    {
     "data": {
      "image/png": "[encoded data removed]",
      "text/plain": [
       "<Figure size 864x576 with 10 Axes>"
      ]
     },
     "metadata": {
      "needs_background": "light"
     },
     "output_type": "display_data"
    }
   ],
   "source": [
    "for pt in ['vr9j5rry',]:# iaq_evening_restricted['beiwe'].unique():\n",
    "    # restricting to patient\n",
    "    iaq_pt = iaq_evening_restricted[iaq_evening_restricted['beiwe'] == pt]\n",
    "    ema_pt = ema[ema['ID'] == pt]\n",
    "    fb_pt = fitbit[fitbit['beiwe'] == pt]\n",
    "    print(pt)\n",
    "    for i in range(len(ema_pt)):\n",
    "        iaq_pt_night = iaq_pt[iaq_pt['end_time'].dt.date == ema_pt.index[i]]\n",
    "        fb_pt_night = fb_pt[fb_pt['end_date'].dt.date == ema_pt.index[i]]\n",
    "        if len(iaq_pt_night['CO2']) > 0 and len(fb_pt_night) > 0:\n",
    "            # target a specific day\n",
    "            if ema_pt.index[i].date() == datetime(2020,7,13).date():\n",
    "                ss_wide = pd.DataFrame(data={'time':fb_pt_night.index,'value':fb_pt_night['value']})\n",
    "                ss_wide.set_index('time',inplace=True)\n",
    "                ss_wide = ss_wide.resample('5T').ffill()\n",
    "                iaq_ss = pd.merge(right=iaq_pt_night,left=ss_wide,right_index=True,left_index=True,how='inner')\n",
    "                iaq_ss = iaq_ss[['CO2','PM_C_2p5','NO2','Lux','value']]\n",
    "\n",
    "                fig, axes = plt.subplots(5,1,figsize=(12,8),sharex=True)\n",
    "                ylabels = ['Carbon Dioxide','Particles','Nitrogen Dioxide','Light Level','Sleep Stage']\n",
    "                cbar_ticks = [np.arange(400,900,100),np.arange(0,40,10),np.arange(0,120,20),np.arange(0,250,50),np.arange(0,4,1)]\n",
    "                cmaps = [create_cmap([\"green\", \"yellow\", \"orange\", \"red\",],[0.0, 0.4, 0.6, 1]),\n",
    "                         create_cmap([\"green\", \"yellow\", \"red\"],[0.0, 0.34, 1]),\n",
    "                         create_cmap([\"green\", \"yellow\", \"orange\"],[0.0, 0.53, 1]),\n",
    "                         create_cmap([\"black\",\"purple\",\"red\",\"orange\",\"yellow\",\"green\"],[0.0, 0.1, 0.16, 0.2, 0.64, 1]),\n",
    "                         'Blues']\n",
    "                for ax, var, low, high, ylabel, ticks, cmap in zip(axes,iaq_ss.columns,[400,0,0,0,-1],[800,30,100,200,3],ylabels,cbar_ticks,cmaps):\n",
    "                    sns.heatmap(iaq_ss[[var]].T,vmin=low,vmax=high,ax=ax,cbar_kws={'ticks':ticks},cmap=cmap)\n",
    "                    ax.set_ylabel(ylabel)\n",
    "                    ax.set_yticklabels([''])\n",
    "                    ax.set_xlabel('')\n",
    "\n",
    "                xlabels = ax.get_xticklabels()\n",
    "                new_xlabels = []\n",
    "                for label in xlabels:\n",
    "                    new_xlabels.append(label.get_text()[11:16])\n",
    "\n",
    "                ax.set_xticklabels(new_xlabels)\n",
    "                plt.subplots_adjust(hspace=0.5)\n",
    "                plt.savefig('../reports/3mt2020/all-modalities-sleep-window-example.pdf')\n",
    "                plt.show()\n",
    "                plt.close()"
   ]
  },
  {
   "cell_type": "markdown",
   "metadata": {},
   "source": [
    "#### Some Summary Info"
   ]
  },
  {
   "cell_type": "code",
   "execution_count": 28,
   "metadata": {},
   "outputs": [
    {
     "name": "stdout",
     "output_type": "stream",
     "text": [
      "TST: 0 days 08:10:00\n"
     ]
    }
   ],
   "source": [
    "print(f'TST: {iaq_ss.index[-1] - iaq_ss.index[0]}')"
   ]
  },
  {
   "cell_type": "code",
   "execution_count": 27,
   "metadata": {},
   "outputs": [
    {
     "data": {
      "text/html": [
       "<div>\n",
       "<style scoped>\n",
       "    .dataframe tbody tr th:only-of-type {\n",
       "        vertical-align: middle;\n",
       "    }\n",
       "\n",
       "    .dataframe tbody tr th {\n",
       "        vertical-align: top;\n",
       "    }\n",
       "\n",
       "    .dataframe thead th {\n",
       "        text-align: right;\n",
       "    }\n",
       "</style>\n",
       "<table border=\"1\" class=\"dataframe\">\n",
       "  <thead>\n",
       "    <tr style=\"text-align: right;\">\n",
       "      <th></th>\n",
       "      <th>ID</th>\n",
       "      <th>Content</th>\n",
       "      <th>Stress</th>\n",
       "      <th>Lonely</th>\n",
       "      <th>Sad</th>\n",
       "      <th>Energy</th>\n",
       "      <th>TST</th>\n",
       "      <th>SOL</th>\n",
       "      <th>NAW</th>\n",
       "      <th>Restful</th>\n",
       "      <th>date</th>\n",
       "    </tr>\n",
       "  </thead>\n",
       "  <tbody>\n",
       "    <tr>\n",
       "      <th>2020-07-13 09:37:27</th>\n",
       "      <td>vr9j5rry</td>\n",
       "      <td>2.0</td>\n",
       "      <td>1.0</td>\n",
       "      <td>0.0</td>\n",
       "      <td>0.0</td>\n",
       "      <td>3.0</td>\n",
       "      <td>7.5</td>\n",
       "      <td>25.0</td>\n",
       "      <td>1.0</td>\n",
       "      <td>2.0</td>\n",
       "      <td>2020-07-13</td>\n",
       "    </tr>\n",
       "  </tbody>\n",
       "</table>\n",
       "</div>"
      ],
      "text/plain": [
       "                           ID  Content  Stress  Lonely  Sad  Energy  TST  \\\n",
       "2020-07-13 09:37:27  vr9j5rry      2.0     1.0     0.0  0.0     3.0  7.5   \n",
       "\n",
       "                      SOL  NAW  Restful        date  \n",
       "2020-07-13 09:37:27  25.0  1.0      2.0  2020-07-13  "
      ]
     },
     "execution_count": 27,
     "metadata": {},
     "output_type": "execute_result"
    }
   ],
   "source": [
    "ema_pt['date'] = ema_pt.index.date\n",
    "ema_pt[ema_pt['date'] == datetime(2020,7,13).date()]"
   ]
  },
  {
   "cell_type": "markdown",
   "metadata": {},
   "source": [
    "The survey says 7.5 hours and 1 awakening while Fitbit says 8.2 hours and 2 awakenings (don't count the last awakening)."
   ]
  },
  {
   "cell_type": "code",
   "execution_count": null,
   "metadata": {},
   "outputs": [],
   "source": []
  }
 ],
 "metadata": {
  "kernelspec": {
   "display_name": "Python 3",
   "language": "python",
   "name": "python3"
  },
  "language_info": {
   "codemirror_mode": {
    "name": "ipython",
    "version": 3
   },
   "file_extension": ".py",
   "mimetype": "text/x-python",
   "name": "python",
   "nbconvert_exporter": "python",
   "pygments_lexer": "ipython3",
   "version": "3.7.0"
  }
 },
 "nbformat": 4,
 "nbformat_minor": 4
}
