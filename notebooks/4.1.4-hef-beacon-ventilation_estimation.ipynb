{
 "cells": [
  {
   "cell_type": "markdown",
   "metadata": {},
   "source": [
    "# Exploring the UTx000 Extension Beacon Data\n",
    "(Known as BPEACE2 in the [GH repo](https://github.com/intelligent-environments-lab/utx000))"
   ]
  },
  {
   "cell_type": "code",
   "execution_count": 1,
   "metadata": {},
   "outputs": [],
   "source": [
    "import warnings\n",
    "warnings.filterwarnings('ignore')"
   ]
  },
  {
   "cell_type": "markdown",
   "metadata": {},
   "source": [
    "# Evening IEQ Measurements\n",
    "Now that we have parsed the beacon data into time periods corresponding to when participants were asleep, it would be interesting to analyze what concentrations are being experienced during the evening."
   ]
  },
  {
   "cell_type": "markdown",
   "metadata": {},
   "source": [
    "## Package Import"
   ]
  },
  {
   "cell_type": "code",
   "execution_count": 2,
   "metadata": {},
   "outputs": [],
   "source": [
    "import os\n",
    "import sys\n",
    "sys.path.append('../')\n",
    "\n",
    "from src.features import build_features\n",
    "from src.visualization import visualize\n",
    "from src.reports import make_report\n",
    "\n",
    "import pandas as pd\n",
    "import numpy as np\n",
    "\n",
    "from datetime import datetime, timedelta\n",
    "\n",
    "import matplotlib.pyplot as plt\n",
    "import seaborn as sns\n",
    "import matplotlib.dates as mdates\n",
    "from matplotlib.colors import ListedColormap, LinearSegmentedColormap"
   ]
  },
  {
   "cell_type": "markdown",
   "metadata": {},
   "source": [
    "# Data Import\n",
    "We are only concerned with the beacon data when participants are asleep since that is the only time we can be sure participants are home in their bedrooms."
   ]
  },
  {
   "cell_type": "code",
   "execution_count": 5,
   "metadata": {},
   "outputs": [
    {
     "data": {
      "text/html": [
       "<div>\n",
       "<style scoped>\n",
       "    .dataframe tbody tr th:only-of-type {\n",
       "        vertical-align: middle;\n",
       "    }\n",
       "\n",
       "    .dataframe tbody tr th {\n",
       "        vertical-align: top;\n",
       "    }\n",
       "\n",
       "    .dataframe thead th {\n",
       "        text-align: right;\n",
       "    }\n",
       "</style>\n",
       "<table border=\"1\" class=\"dataframe\">\n",
       "  <thead>\n",
       "    <tr style=\"text-align: right;\">\n",
       "      <th></th>\n",
       "      <th>Lat</th>\n",
       "      <th>Long</th>\n",
       "      <th>Alt</th>\n",
       "      <th>Accuracy</th>\n",
       "      <th>TVOC</th>\n",
       "      <th>eCO2</th>\n",
       "      <th>Lux</th>\n",
       "      <th>Visible</th>\n",
       "      <th>Infrared</th>\n",
       "      <th>NO2</th>\n",
       "      <th>...</th>\n",
       "      <th>PM_C_2p5</th>\n",
       "      <th>PM_C_4</th>\n",
       "      <th>PM_C_10</th>\n",
       "      <th>z</th>\n",
       "      <th>Beacon</th>\n",
       "      <th>Beiwe</th>\n",
       "      <th>Fitbit</th>\n",
       "      <th>REDCap</th>\n",
       "      <th>start_time</th>\n",
       "      <th>end_time</th>\n",
       "    </tr>\n",
       "  </thead>\n",
       "  <tbody>\n",
       "    <tr>\n",
       "      <th>2020-08-10 05:10:00</th>\n",
       "      <td>30.58838</td>\n",
       "      <td>-97.42591</td>\n",
       "      <td>113.98145</td>\n",
       "      <td>5.29684</td>\n",
       "      <td>185.50</td>\n",
       "      <td>750.25</td>\n",
       "      <td>2.04</td>\n",
       "      <td>1.0</td>\n",
       "      <td>0.0</td>\n",
       "      <td>288.95</td>\n",
       "      <td>...</td>\n",
       "      <td>6.748117</td>\n",
       "      <td>10.714056</td>\n",
       "      <td>11.507244</td>\n",
       "      <td>1.441551</td>\n",
       "      <td>21</td>\n",
       "      <td>lkkjddam</td>\n",
       "      <td>25</td>\n",
       "      <td>12</td>\n",
       "      <td>2020-08-10 04:42:30</td>\n",
       "      <td>2020-08-10 12:35:30</td>\n",
       "    </tr>\n",
       "    <tr>\n",
       "      <th>2020-08-10 05:15:00</th>\n",
       "      <td>NaN</td>\n",
       "      <td>NaN</td>\n",
       "      <td>NaN</td>\n",
       "      <td>NaN</td>\n",
       "      <td>166.08</td>\n",
       "      <td>706.48</td>\n",
       "      <td>2.04</td>\n",
       "      <td>1.0</td>\n",
       "      <td>0.0</td>\n",
       "      <td>277.12</td>\n",
       "      <td>...</td>\n",
       "      <td>6.515844</td>\n",
       "      <td>10.288899</td>\n",
       "      <td>11.043510</td>\n",
       "      <td>1.468756</td>\n",
       "      <td>21</td>\n",
       "      <td>lkkjddam</td>\n",
       "      <td>25</td>\n",
       "      <td>12</td>\n",
       "      <td>2020-08-10 04:42:30</td>\n",
       "      <td>2020-08-10 12:35:30</td>\n",
       "    </tr>\n",
       "    <tr>\n",
       "      <th>2020-08-10 05:20:00</th>\n",
       "      <td>NaN</td>\n",
       "      <td>NaN</td>\n",
       "      <td>NaN</td>\n",
       "      <td>NaN</td>\n",
       "      <td>151.40</td>\n",
       "      <td>666.48</td>\n",
       "      <td>2.04</td>\n",
       "      <td>1.0</td>\n",
       "      <td>0.0</td>\n",
       "      <td>277.44</td>\n",
       "      <td>...</td>\n",
       "      <td>6.215933</td>\n",
       "      <td>9.795078</td>\n",
       "      <td>10.510907</td>\n",
       "      <td>1.492578</td>\n",
       "      <td>21</td>\n",
       "      <td>lkkjddam</td>\n",
       "      <td>25</td>\n",
       "      <td>12</td>\n",
       "      <td>2020-08-10 04:42:30</td>\n",
       "      <td>2020-08-10 12:35:30</td>\n",
       "    </tr>\n",
       "    <tr>\n",
       "      <th>2020-08-10 05:25:00</th>\n",
       "      <td>NaN</td>\n",
       "      <td>NaN</td>\n",
       "      <td>NaN</td>\n",
       "      <td>NaN</td>\n",
       "      <td>158.84</td>\n",
       "      <td>686.92</td>\n",
       "      <td>2.04</td>\n",
       "      <td>1.0</td>\n",
       "      <td>0.0</td>\n",
       "      <td>282.44</td>\n",
       "      <td>...</td>\n",
       "      <td>6.486098</td>\n",
       "      <td>10.357869</td>\n",
       "      <td>11.132223</td>\n",
       "      <td>1.457762</td>\n",
       "      <td>21</td>\n",
       "      <td>lkkjddam</td>\n",
       "      <td>25</td>\n",
       "      <td>12</td>\n",
       "      <td>2020-08-10 04:42:30</td>\n",
       "      <td>2020-08-10 12:35:30</td>\n",
       "    </tr>\n",
       "    <tr>\n",
       "      <th>2020-08-10 05:30:00</th>\n",
       "      <td>NaN</td>\n",
       "      <td>NaN</td>\n",
       "      <td>NaN</td>\n",
       "      <td>NaN</td>\n",
       "      <td>146.15</td>\n",
       "      <td>669.20</td>\n",
       "      <td>2.04</td>\n",
       "      <td>1.0</td>\n",
       "      <td>0.0</td>\n",
       "      <td>272.80</td>\n",
       "      <td>...</td>\n",
       "      <td>6.721101</td>\n",
       "      <td>10.739605</td>\n",
       "      <td>11.543306</td>\n",
       "      <td>1.430890</td>\n",
       "      <td>21</td>\n",
       "      <td>lkkjddam</td>\n",
       "      <td>25</td>\n",
       "      <td>12</td>\n",
       "      <td>2020-08-10 04:42:30</td>\n",
       "      <td>2020-08-10 12:35:30</td>\n",
       "    </tr>\n",
       "  </tbody>\n",
       "</table>\n",
       "<p>5 rows × 34 columns</p>\n",
       "</div>"
      ],
      "text/plain": [
       "                          Lat      Long        Alt  Accuracy    TVOC    eCO2  \\\n",
       "2020-08-10 05:10:00  30.58838 -97.42591  113.98145   5.29684  185.50  750.25   \n",
       "2020-08-10 05:15:00       NaN       NaN        NaN       NaN  166.08  706.48   \n",
       "2020-08-10 05:20:00       NaN       NaN        NaN       NaN  151.40  666.48   \n",
       "2020-08-10 05:25:00       NaN       NaN        NaN       NaN  158.84  686.92   \n",
       "2020-08-10 05:30:00       NaN       NaN        NaN       NaN  146.15  669.20   \n",
       "\n",
       "                      Lux  Visible  Infrared     NO2  ...  PM_C_2p5  \\\n",
       "2020-08-10 05:10:00  2.04      1.0       0.0  288.95  ...  6.748117   \n",
       "2020-08-10 05:15:00  2.04      1.0       0.0  277.12  ...  6.515844   \n",
       "2020-08-10 05:20:00  2.04      1.0       0.0  277.44  ...  6.215933   \n",
       "2020-08-10 05:25:00  2.04      1.0       0.0  282.44  ...  6.486098   \n",
       "2020-08-10 05:30:00  2.04      1.0       0.0  272.80  ...  6.721101   \n",
       "\n",
       "                        PM_C_4    PM_C_10         z  Beacon     Beiwe  Fitbit  \\\n",
       "2020-08-10 05:10:00  10.714056  11.507244  1.441551      21  lkkjddam      25   \n",
       "2020-08-10 05:15:00  10.288899  11.043510  1.468756      21  lkkjddam      25   \n",
       "2020-08-10 05:20:00   9.795078  10.510907  1.492578      21  lkkjddam      25   \n",
       "2020-08-10 05:25:00  10.357869  11.132223  1.457762      21  lkkjddam      25   \n",
       "2020-08-10 05:30:00  10.739605  11.543306  1.430890      21  lkkjddam      25   \n",
       "\n",
       "                     REDCap          start_time            end_time  \n",
       "2020-08-10 05:10:00      12 2020-08-10 04:42:30 2020-08-10 12:35:30  \n",
       "2020-08-10 05:15:00      12 2020-08-10 04:42:30 2020-08-10 12:35:30  \n",
       "2020-08-10 05:20:00      12 2020-08-10 04:42:30 2020-08-10 12:35:30  \n",
       "2020-08-10 05:25:00      12 2020-08-10 04:42:30 2020-08-10 12:35:30  \n",
       "2020-08-10 05:30:00      12 2020-08-10 04:42:30 2020-08-10 12:35:30  \n",
       "\n",
       "[5 rows x 34 columns]"
      ]
     },
     "execution_count": 5,
     "metadata": {},
     "output_type": "execute_result"
    }
   ],
   "source": [
    "beacon = pd.read_csv('../data/processed/bpeace2-beacon-fb_ema_and_gps_restricted.csv',\n",
    "                    index_col=0,parse_dates=[0,-1,-2],infer_datetime_format=True)\n",
    "beacon.head()"
   ]
  },
  {
   "cell_type": "markdown",
   "metadata": {},
   "source": [
    "# Finding Nights with Constant CO2 Concentration\n",
    "We need to find nights when the CO2 concentration is constant for at least an hour."
   ]
  },
  {
   "cell_type": "code",
   "execution_count": 18,
   "metadata": {},
   "outputs": [
    {
     "ename": "ValueError",
     "evalue": "Can only compare identically-labeled Series objects",
     "output_type": "error",
     "traceback": [
      "\u001b[0;31m---------------------------------------------------------------------------\u001b[0m",
      "\u001b[0;31mValueError\u001b[0m                                Traceback (most recent call last)",
      "\u001b[0;32m<ipython-input-18-46744c9399cb>\u001b[0m in \u001b[0;36m<module>\u001b[0;34m\u001b[0m\n\u001b[1;32m     11\u001b[0m                 \u001b[0mdiffs\u001b[0m\u001b[0;34m.\u001b[0m\u001b[0mappend\u001b[0m\u001b[0;34m(\u001b[0m\u001b[0mdiff\u001b[0m\u001b[0;34m)\u001b[0m\u001b[0;34m\u001b[0m\u001b[0m\n\u001b[1;32m     12\u001b[0m             \u001b[0mbeacon_pt_night\u001b[0m\u001b[0;34m[\u001b[0m\u001b[0;34m'differences'\u001b[0m\u001b[0;34m]\u001b[0m \u001b[0;34m=\u001b[0m \u001b[0mdiffs\u001b[0m\u001b[0;34m\u001b[0m\u001b[0m\n\u001b[0;32m---> 13\u001b[0;31m             \u001b[0mno_change\u001b[0m \u001b[0;34m=\u001b[0m \u001b[0mbeacon_pt_night\u001b[0m\u001b[0;34m[\u001b[0m\u001b[0mbeacon_pt_night\u001b[0m\u001b[0;34m[\u001b[0m\u001b[0;34m'differences'\u001b[0m\u001b[0;34m]\u001b[0m \u001b[0;34m<\u001b[0m \u001b[0mstd\u001b[0m\u001b[0;34m]\u001b[0m\u001b[0;34m\u001b[0m\u001b[0m\n\u001b[0m\u001b[1;32m     14\u001b[0m             \u001b[0mnum_mins\u001b[0m \u001b[0;34m=\u001b[0m \u001b[0;34m[\u001b[0m\u001b[0;34m]\u001b[0m\u001b[0;34m\u001b[0m\u001b[0m\n\u001b[1;32m     15\u001b[0m             \u001b[0;32mfor\u001b[0m \u001b[0mi\u001b[0m \u001b[0;32min\u001b[0m \u001b[0mrange\u001b[0m\u001b[0;34m(\u001b[0m\u001b[0mlen\u001b[0m\u001b[0;34m(\u001b[0m\u001b[0mno_change\u001b[0m\u001b[0;34m)\u001b[0m\u001b[0;34m)\u001b[0m\u001b[0;34m:\u001b[0m\u001b[0;34m\u001b[0m\u001b[0m\n",
      "\u001b[0;32m/Library/Frameworks/Python.framework/Versions/3.7/lib/python3.7/site-packages/pandas/core/ops/common.py\u001b[0m in \u001b[0;36mnew_method\u001b[0;34m(self, other)\u001b[0m\n\u001b[1;32m     62\u001b[0m         \u001b[0mother\u001b[0m \u001b[0;34m=\u001b[0m \u001b[0mitem_from_zerodim\u001b[0m\u001b[0;34m(\u001b[0m\u001b[0mother\u001b[0m\u001b[0;34m)\u001b[0m\u001b[0;34m\u001b[0m\u001b[0m\n\u001b[1;32m     63\u001b[0m \u001b[0;34m\u001b[0m\u001b[0m\n\u001b[0;32m---> 64\u001b[0;31m         \u001b[0;32mreturn\u001b[0m \u001b[0mmethod\u001b[0m\u001b[0;34m(\u001b[0m\u001b[0mself\u001b[0m\u001b[0;34m,\u001b[0m \u001b[0mother\u001b[0m\u001b[0;34m)\u001b[0m\u001b[0;34m\u001b[0m\u001b[0m\n\u001b[0m\u001b[1;32m     65\u001b[0m \u001b[0;34m\u001b[0m\u001b[0m\n\u001b[1;32m     66\u001b[0m     \u001b[0;32mreturn\u001b[0m \u001b[0mnew_method\u001b[0m\u001b[0;34m\u001b[0m\u001b[0m\n",
      "\u001b[0;32m/Library/Frameworks/Python.framework/Versions/3.7/lib/python3.7/site-packages/pandas/core/ops/__init__.py\u001b[0m in \u001b[0;36mwrapper\u001b[0;34m(self, other)\u001b[0m\n\u001b[1;32m    522\u001b[0m \u001b[0;34m\u001b[0m\u001b[0m\n\u001b[1;32m    523\u001b[0m         \u001b[0;32mif\u001b[0m \u001b[0misinstance\u001b[0m\u001b[0;34m(\u001b[0m\u001b[0mother\u001b[0m\u001b[0;34m,\u001b[0m \u001b[0mABCSeries\u001b[0m\u001b[0;34m)\u001b[0m \u001b[0;32mand\u001b[0m \u001b[0;32mnot\u001b[0m \u001b[0mself\u001b[0m\u001b[0;34m.\u001b[0m\u001b[0m_indexed_same\u001b[0m\u001b[0;34m(\u001b[0m\u001b[0mother\u001b[0m\u001b[0;34m)\u001b[0m\u001b[0;34m:\u001b[0m\u001b[0;34m\u001b[0m\u001b[0m\n\u001b[0;32m--> 524\u001b[0;31m             \u001b[0;32mraise\u001b[0m \u001b[0mValueError\u001b[0m\u001b[0;34m(\u001b[0m\u001b[0;34m\"Can only compare identically-labeled Series objects\"\u001b[0m\u001b[0;34m)\u001b[0m\u001b[0;34m\u001b[0m\u001b[0m\n\u001b[0m\u001b[1;32m    525\u001b[0m \u001b[0;34m\u001b[0m\u001b[0m\n\u001b[1;32m    526\u001b[0m         \u001b[0mlvalues\u001b[0m \u001b[0;34m=\u001b[0m \u001b[0mextract_array\u001b[0m\u001b[0;34m(\u001b[0m\u001b[0mself\u001b[0m\u001b[0;34m,\u001b[0m \u001b[0mextract_numpy\u001b[0m\u001b[0;34m=\u001b[0m\u001b[0;32mTrue\u001b[0m\u001b[0;34m)\u001b[0m\u001b[0;34m\u001b[0m\u001b[0m\n",
      "\u001b[0;31mValueError\u001b[0m: Can only compare identically-labeled Series objects"
     ]
    }
   ],
   "source": [
    "good_nights = pd.DataFrame()\n",
    "for pt in beacon['Beiwe'].unique():\n",
    "    beacon_pt = beacon[beacon['Beiwe'] == pt]\n",
    "    for start, end in zip(beacon_pt['start_time'],beacon_pt['end_time']):\n",
    "        if (end - start).total_seconds()/3600 > 5: # sleeping longer than 5 hours\n",
    "            beacon_pt_night = beacon_pt[start:end] # iaq data during sleep\n",
    "            std = np.std(beacon_pt_night)\n",
    "            diffs = [0]\n",
    "            for i in range(len(beacon_pt_night)-1):\n",
    "                diff = abs(beacon_pt_night['CO2'][i+1] - beacon_pt_night['CO2'][i])\n",
    "                diffs.append(diff)\n",
    "            beacon_pt_night['differences'] = diffs\n",
    "            no_change = beacon_pt_night[beacon_pt_night['differences'] < std]\n",
    "            num_mins = []\n",
    "            for i in range(len(no_change)):\n",
    "                dts = []\n",
    "                "
   ]
  },
  {
   "cell_type": "code",
   "execution_count": 17,
   "metadata": {},
   "outputs": [
    {
     "ename": "NameError",
     "evalue": "name 'beacon_pt_night' is not defined",
     "output_type": "error",
     "traceback": [
      "\u001b[0;31m---------------------------------------------------------------------------\u001b[0m",
      "\u001b[0;31mNameError\u001b[0m                                 Traceback (most recent call last)",
      "\u001b[0;32m<ipython-input-17-c040b3f1a262>\u001b[0m in \u001b[0;36m<module>\u001b[0;34m\u001b[0m\n\u001b[0;32m----> 1\u001b[0;31m \u001b[0mbeacon_pt_night\u001b[0m\u001b[0;34m\u001b[0m\u001b[0m\n\u001b[0m",
      "\u001b[0;31mNameError\u001b[0m: name 'beacon_pt_night' is not defined"
     ]
    }
   ],
   "source": [
    "beacon_pt_night"
   ]
  },
  {
   "cell_type": "code",
   "execution_count": null,
   "metadata": {},
   "outputs": [],
   "source": []
  }
 ],
 "metadata": {
  "kernelspec": {
   "display_name": "Python 3",
   "language": "python",
   "name": "python3"
  },
  "language_info": {
   "codemirror_mode": {
    "name": "ipython",
    "version": 3
   },
   "file_extension": ".py",
   "mimetype": "text/x-python",
   "name": "python",
   "nbconvert_exporter": "python",
   "pygments_lexer": "ipython3",
   "version": "3.7.0"
  }
 },
 "nbformat": 4,
 "nbformat_minor": 4
}
