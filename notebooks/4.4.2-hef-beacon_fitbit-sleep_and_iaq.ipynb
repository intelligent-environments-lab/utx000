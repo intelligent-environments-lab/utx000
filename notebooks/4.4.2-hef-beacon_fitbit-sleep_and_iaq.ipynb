{
 "cells": [
  {
   "cell_type": "markdown",
   "metadata": {},
   "source": [
    "# IAQ and Fitbit-Measured Sleep Exploration\n",
    "Arguably the main attraction (for me at least), we explore the effect of IAQ parameters on Fitbit-measured sleep parameters."
   ]
  },
  {
   "cell_type": "code",
   "execution_count": 1,
   "metadata": {},
   "outputs": [],
   "source": [
    "import warnings\n",
    "warnings.filterwarnings('ignore')"
   ]
  },
  {
   "cell_type": "markdown",
   "metadata": {},
   "source": [
    "## Percent Change in Nightly Pollutants and Fitbit-Measured SE/REM:NREM"
   ]
  },
  {
   "cell_type": "markdown",
   "metadata": {},
   "source": [
    "At the writing of this notebook, the beacons have not been post-calibrated. Therefore the pollutant metric to consider is the percent change or some differencing approach because the changes are correct, while the values might not be."
   ]
  },
  {
   "cell_type": "code",
   "execution_count": 2,
   "metadata": {},
   "outputs": [],
   "source": [
    "import os\n",
    "import sys\n",
    "sys.path.append('../')\n",
    "\n",
    "from src.features import build_features\n",
    "from src.visualization import visualize\n",
    "from src.reports import make_report\n",
    "\n",
    "import pandas as pd\n",
    "import numpy as np\n",
    "\n",
    "from datetime import datetime, timedelta\n",
    "\n",
    "import matplotlib.pyplot as plt\n",
    "import seaborn as sns\n",
    "import matplotlib.dates as mdates\n",
    "\n",
    "import statsmodels.api as sm"
   ]
  },
  {
   "cell_type": "markdown",
   "metadata": {},
   "source": [
    "## Data Import\n",
    "For this analysis we need both daily Fitbit sleep summary and the sleep stages summary files"
   ]
  },
  {
   "cell_type": "markdown",
   "metadata": {},
   "source": [
    "### Fitbit Sleep Summary"
   ]
  },
  {
   "cell_type": "code",
   "execution_count": 3,
   "metadata": {},
   "outputs": [
    {
     "data": {
      "text/html": [
       "<div>\n",
       "<style scoped>\n",
       "    .dataframe tbody tr th:only-of-type {\n",
       "        vertical-align: middle;\n",
       "    }\n",
       "\n",
       "    .dataframe tbody tr th {\n",
       "        vertical-align: top;\n",
       "    }\n",
       "\n",
       "    .dataframe thead th {\n",
       "        text-align: right;\n",
       "    }\n",
       "</style>\n",
       "<table border=\"1\" class=\"dataframe\">\n",
       "  <thead>\n",
       "    <tr style=\"text-align: right;\">\n",
       "      <th></th>\n",
       "      <th>date</th>\n",
       "      <th>dateOfSleep</th>\n",
       "      <th>duration</th>\n",
       "      <th>efficiency</th>\n",
       "      <th>endTime</th>\n",
       "      <th>infoCode</th>\n",
       "      <th>isMainSleep</th>\n",
       "      <th>logId</th>\n",
       "      <th>minutesAfterWakeup</th>\n",
       "      <th>minutesAsleep</th>\n",
       "      <th>minutesAwake</th>\n",
       "      <th>minutesToFallAsleep</th>\n",
       "      <th>startTime</th>\n",
       "      <th>timeInBed</th>\n",
       "      <th>beiwe</th>\n",
       "      <th>endDate</th>\n",
       "    </tr>\n",
       "  </thead>\n",
       "  <tbody>\n",
       "    <tr>\n",
       "      <th>0</th>\n",
       "      <td>2020-05-14</td>\n",
       "      <td>2020-05-14</td>\n",
       "      <td>24360000</td>\n",
       "      <td>97</td>\n",
       "      <td>2020-05-14 07:13:00</td>\n",
       "      <td>0</td>\n",
       "      <td>True</td>\n",
       "      <td>27170628887</td>\n",
       "      <td>0</td>\n",
       "      <td>379</td>\n",
       "      <td>27</td>\n",
       "      <td>0</td>\n",
       "      <td>2020-05-14 00:27:00</td>\n",
       "      <td>406</td>\n",
       "      <td>hfttkth7</td>\n",
       "      <td>2020-05-14</td>\n",
       "    </tr>\n",
       "    <tr>\n",
       "      <th>1</th>\n",
       "      <td>2020-05-15</td>\n",
       "      <td>2020-05-15</td>\n",
       "      <td>29580000</td>\n",
       "      <td>87</td>\n",
       "      <td>2020-05-15 08:06:30</td>\n",
       "      <td>0</td>\n",
       "      <td>True</td>\n",
       "      <td>27187368950</td>\n",
       "      <td>8</td>\n",
       "      <td>392</td>\n",
       "      <td>101</td>\n",
       "      <td>0</td>\n",
       "      <td>2020-05-14 23:53:30</td>\n",
       "      <td>493</td>\n",
       "      <td>hfttkth7</td>\n",
       "      <td>2020-05-15</td>\n",
       "    </tr>\n",
       "    <tr>\n",
       "      <th>2</th>\n",
       "      <td>2020-05-16</td>\n",
       "      <td>2020-05-16</td>\n",
       "      <td>19740000</td>\n",
       "      <td>95</td>\n",
       "      <td>2020-05-16 04:57:00</td>\n",
       "      <td>0</td>\n",
       "      <td>True</td>\n",
       "      <td>27197675883</td>\n",
       "      <td>7</td>\n",
       "      <td>287</td>\n",
       "      <td>42</td>\n",
       "      <td>0</td>\n",
       "      <td>2020-05-15 23:28:00</td>\n",
       "      <td>329</td>\n",
       "      <td>hfttkth7</td>\n",
       "      <td>2020-05-16</td>\n",
       "    </tr>\n",
       "    <tr>\n",
       "      <th>3</th>\n",
       "      <td>2020-05-17</td>\n",
       "      <td>2020-05-17</td>\n",
       "      <td>26820000</td>\n",
       "      <td>96</td>\n",
       "      <td>2020-05-17 09:28:30</td>\n",
       "      <td>0</td>\n",
       "      <td>True</td>\n",
       "      <td>27214680283</td>\n",
       "      <td>8</td>\n",
       "      <td>403</td>\n",
       "      <td>44</td>\n",
       "      <td>0</td>\n",
       "      <td>2020-05-17 02:01:30</td>\n",
       "      <td>447</td>\n",
       "      <td>hfttkth7</td>\n",
       "      <td>2020-05-17</td>\n",
       "    </tr>\n",
       "    <tr>\n",
       "      <th>4</th>\n",
       "      <td>2020-05-18</td>\n",
       "      <td>2020-05-18</td>\n",
       "      <td>24960000</td>\n",
       "      <td>92</td>\n",
       "      <td>2020-05-18 07:20:00</td>\n",
       "      <td>0</td>\n",
       "      <td>True</td>\n",
       "      <td>27227113904</td>\n",
       "      <td>0</td>\n",
       "      <td>351</td>\n",
       "      <td>65</td>\n",
       "      <td>0</td>\n",
       "      <td>2020-05-18 00:24:00</td>\n",
       "      <td>416</td>\n",
       "      <td>hfttkth7</td>\n",
       "      <td>2020-05-18</td>\n",
       "    </tr>\n",
       "  </tbody>\n",
       "</table>\n",
       "</div>"
      ],
      "text/plain": [
       "        date dateOfSleep  duration  efficiency             endTime  infoCode  \\\n",
       "0 2020-05-14  2020-05-14  24360000          97 2020-05-14 07:13:00         0   \n",
       "1 2020-05-15  2020-05-15  29580000          87 2020-05-15 08:06:30         0   \n",
       "2 2020-05-16  2020-05-16  19740000          95 2020-05-16 04:57:00         0   \n",
       "3 2020-05-17  2020-05-17  26820000          96 2020-05-17 09:28:30         0   \n",
       "4 2020-05-18  2020-05-18  24960000          92 2020-05-18 07:20:00         0   \n",
       "\n",
       "   isMainSleep        logId  minutesAfterWakeup  minutesAsleep  minutesAwake  \\\n",
       "0         True  27170628887                   0            379            27   \n",
       "1         True  27187368950                   8            392           101   \n",
       "2         True  27197675883                   7            287            42   \n",
       "3         True  27214680283                   8            403            44   \n",
       "4         True  27227113904                   0            351            65   \n",
       "\n",
       "   minutesToFallAsleep           startTime  timeInBed     beiwe     endDate  \n",
       "0                    0 2020-05-14 00:27:00        406  hfttkth7  2020-05-14  \n",
       "1                    0 2020-05-14 23:53:30        493  hfttkth7  2020-05-15  \n",
       "2                    0 2020-05-15 23:28:00        329  hfttkth7  2020-05-16  \n",
       "3                    0 2020-05-17 02:01:30        447  hfttkth7  2020-05-17  \n",
       "4                    0 2020-05-18 00:24:00        416  hfttkth7  2020-05-18  "
      ]
     },
     "execution_count": 3,
     "metadata": {},
     "output_type": "execute_result"
    }
   ],
   "source": [
    "sleep = pd.read_csv(\"../data/processed/bpeace2-fitbit-sleep-daily.csv\",\n",
    "                    parse_dates=['date','startTime','endTime'],infer_datetime_format=True)\n",
    "end_dates = []\n",
    "for d in sleep['endTime']:\n",
    "    end_dates.append(d.date())\n",
    "sleep['endDate'] = end_dates\n",
    "sleep.head()"
   ]
  },
  {
   "cell_type": "markdown",
   "metadata": {},
   "source": [
    "### Fitbit Sleep Stage Summary"
   ]
  },
  {
   "cell_type": "code",
   "execution_count": 4,
   "metadata": {},
   "outputs": [
    {
     "data": {
      "text/html": [
       "<div>\n",
       "<style scoped>\n",
       "    .dataframe tbody tr th:only-of-type {\n",
       "        vertical-align: middle;\n",
       "    }\n",
       "\n",
       "    .dataframe tbody tr th {\n",
       "        vertical-align: top;\n",
       "    }\n",
       "\n",
       "    .dataframe thead th {\n",
       "        text-align: right;\n",
       "    }\n",
       "</style>\n",
       "<table border=\"1\" class=\"dataframe\">\n",
       "  <thead>\n",
       "    <tr style=\"text-align: right;\">\n",
       "      <th></th>\n",
       "      <th>startDate</th>\n",
       "      <th>endDate</th>\n",
       "      <th>deep_count</th>\n",
       "      <th>deep_minutes</th>\n",
       "      <th>light_count</th>\n",
       "      <th>light_minutes</th>\n",
       "      <th>rem_count</th>\n",
       "      <th>rem_minutes</th>\n",
       "      <th>wake_count</th>\n",
       "      <th>wake_minutes</th>\n",
       "      <th>beiwe</th>\n",
       "    </tr>\n",
       "  </thead>\n",
       "  <tbody>\n",
       "    <tr>\n",
       "      <th>0</th>\n",
       "      <td>2020-05-14</td>\n",
       "      <td>2020-05-14</td>\n",
       "      <td>5</td>\n",
       "      <td>84</td>\n",
       "      <td>20</td>\n",
       "      <td>213</td>\n",
       "      <td>10</td>\n",
       "      <td>82</td>\n",
       "      <td>21</td>\n",
       "      <td>27</td>\n",
       "      <td>hfttkth7</td>\n",
       "    </tr>\n",
       "    <tr>\n",
       "      <th>1</th>\n",
       "      <td>2020-05-14</td>\n",
       "      <td>2020-05-15</td>\n",
       "      <td>4</td>\n",
       "      <td>95</td>\n",
       "      <td>31</td>\n",
       "      <td>250</td>\n",
       "      <td>6</td>\n",
       "      <td>47</td>\n",
       "      <td>33</td>\n",
       "      <td>101</td>\n",
       "      <td>hfttkth7</td>\n",
       "    </tr>\n",
       "    <tr>\n",
       "      <th>2</th>\n",
       "      <td>2020-05-15</td>\n",
       "      <td>2020-05-16</td>\n",
       "      <td>2</td>\n",
       "      <td>47</td>\n",
       "      <td>17</td>\n",
       "      <td>190</td>\n",
       "      <td>8</td>\n",
       "      <td>50</td>\n",
       "      <td>20</td>\n",
       "      <td>42</td>\n",
       "      <td>hfttkth7</td>\n",
       "    </tr>\n",
       "    <tr>\n",
       "      <th>3</th>\n",
       "      <td>2020-05-17</td>\n",
       "      <td>2020-05-17</td>\n",
       "      <td>5</td>\n",
       "      <td>78</td>\n",
       "      <td>21</td>\n",
       "      <td>242</td>\n",
       "      <td>11</td>\n",
       "      <td>83</td>\n",
       "      <td>25</td>\n",
       "      <td>44</td>\n",
       "      <td>hfttkth7</td>\n",
       "    </tr>\n",
       "    <tr>\n",
       "      <th>4</th>\n",
       "      <td>2020-05-18</td>\n",
       "      <td>2020-05-18</td>\n",
       "      <td>5</td>\n",
       "      <td>96</td>\n",
       "      <td>20</td>\n",
       "      <td>167</td>\n",
       "      <td>14</td>\n",
       "      <td>88</td>\n",
       "      <td>28</td>\n",
       "      <td>65</td>\n",
       "      <td>hfttkth7</td>\n",
       "    </tr>\n",
       "  </tbody>\n",
       "</table>\n",
       "</div>"
      ],
      "text/plain": [
       "   startDate     endDate  deep_count  deep_minutes  light_count  \\\n",
       "0 2020-05-14  2020-05-14           5            84           20   \n",
       "1 2020-05-14  2020-05-15           4            95           31   \n",
       "2 2020-05-15  2020-05-16           2            47           17   \n",
       "3 2020-05-17  2020-05-17           5            78           21   \n",
       "4 2020-05-18  2020-05-18           5            96           20   \n",
       "\n",
       "   light_minutes  rem_count  rem_minutes  wake_count  wake_minutes     beiwe  \n",
       "0            213         10           82          21            27  hfttkth7  \n",
       "1            250          6           47          33           101  hfttkth7  \n",
       "2            190          8           50          20            42  hfttkth7  \n",
       "3            242         11           83          25            44  hfttkth7  \n",
       "4            167         14           88          28            65  hfttkth7  "
      ]
     },
     "execution_count": 4,
     "metadata": {},
     "output_type": "execute_result"
    }
   ],
   "source": [
    "stages = pd.read_csv(\"../data/processed/bpeace2-fitbit-sleep-stages-summary.csv\",\n",
    "                     index_col=0,parse_dates=['startDate','endDate'],infer_datetime_format=True)\n",
    "end_dates = []\n",
    "for d in stages['endDate']:\n",
    "    end_dates.append(d.date())\n",
    "stages['endDate'] = end_dates\n",
    "stages.head()"
   ]
  },
  {
   "cell_type": "markdown",
   "metadata": {},
   "source": [
    "### Beacon IAQ\n",
    "And lastly the IAQ measurements courtesy of the beacons"
   ]
  },
  {
   "cell_type": "code",
   "execution_count": 5,
   "metadata": {},
   "outputs": [
    {
     "data": {
      "text/html": [
       "<div>\n",
       "<style scoped>\n",
       "    .dataframe tbody tr th:only-of-type {\n",
       "        vertical-align: middle;\n",
       "    }\n",
       "\n",
       "    .dataframe tbody tr th {\n",
       "        vertical-align: top;\n",
       "    }\n",
       "\n",
       "    .dataframe thead th {\n",
       "        text-align: right;\n",
       "    }\n",
       "</style>\n",
       "<table border=\"1\" class=\"dataframe\">\n",
       "  <thead>\n",
       "    <tr style=\"text-align: right;\">\n",
       "      <th></th>\n",
       "      <th>TVOC</th>\n",
       "      <th>eCO2</th>\n",
       "      <th>Lux</th>\n",
       "      <th>Visible</th>\n",
       "      <th>Infrared</th>\n",
       "      <th>NO2</th>\n",
       "      <th>T_NO2</th>\n",
       "      <th>RH_NO2</th>\n",
       "      <th>CO</th>\n",
       "      <th>T_CO</th>\n",
       "      <th>...</th>\n",
       "      <th>PM_N_10</th>\n",
       "      <th>PM_C_1</th>\n",
       "      <th>PM_C_2p5</th>\n",
       "      <th>PM_C_4</th>\n",
       "      <th>PM_C_10</th>\n",
       "      <th>z</th>\n",
       "      <th>Beacon</th>\n",
       "      <th>Beiwe</th>\n",
       "      <th>Fitbit</th>\n",
       "      <th>REDCap</th>\n",
       "    </tr>\n",
       "    <tr>\n",
       "      <th>Timestamp</th>\n",
       "      <th></th>\n",
       "      <th></th>\n",
       "      <th></th>\n",
       "      <th></th>\n",
       "      <th></th>\n",
       "      <th></th>\n",
       "      <th></th>\n",
       "      <th></th>\n",
       "      <th></th>\n",
       "      <th></th>\n",
       "      <th></th>\n",
       "      <th></th>\n",
       "      <th></th>\n",
       "      <th></th>\n",
       "      <th></th>\n",
       "      <th></th>\n",
       "      <th></th>\n",
       "      <th></th>\n",
       "      <th></th>\n",
       "      <th></th>\n",
       "      <th></th>\n",
       "    </tr>\n",
       "  </thead>\n",
       "  <tbody>\n",
       "    <tr>\n",
       "      <th>2020-06-11 00:00:00</th>\n",
       "      <td>NaN</td>\n",
       "      <td>NaN</td>\n",
       "      <td>NaN</td>\n",
       "      <td>NaN</td>\n",
       "      <td>NaN</td>\n",
       "      <td>NaN</td>\n",
       "      <td>NaN</td>\n",
       "      <td>NaN</td>\n",
       "      <td>NaN</td>\n",
       "      <td>NaN</td>\n",
       "      <td>...</td>\n",
       "      <td>NaN</td>\n",
       "      <td>NaN</td>\n",
       "      <td>NaN</td>\n",
       "      <td>NaN</td>\n",
       "      <td>NaN</td>\n",
       "      <td>NaN</td>\n",
       "      <td>30</td>\n",
       "      <td>idbkjh8u</td>\n",
       "      <td>22</td>\n",
       "      <td>4</td>\n",
       "    </tr>\n",
       "    <tr>\n",
       "      <th>2020-06-11 00:05:00</th>\n",
       "      <td>NaN</td>\n",
       "      <td>NaN</td>\n",
       "      <td>NaN</td>\n",
       "      <td>NaN</td>\n",
       "      <td>NaN</td>\n",
       "      <td>NaN</td>\n",
       "      <td>NaN</td>\n",
       "      <td>NaN</td>\n",
       "      <td>NaN</td>\n",
       "      <td>NaN</td>\n",
       "      <td>...</td>\n",
       "      <td>NaN</td>\n",
       "      <td>NaN</td>\n",
       "      <td>NaN</td>\n",
       "      <td>NaN</td>\n",
       "      <td>NaN</td>\n",
       "      <td>NaN</td>\n",
       "      <td>30</td>\n",
       "      <td>idbkjh8u</td>\n",
       "      <td>22</td>\n",
       "      <td>4</td>\n",
       "    </tr>\n",
       "    <tr>\n",
       "      <th>2020-06-11 00:10:00</th>\n",
       "      <td>NaN</td>\n",
       "      <td>NaN</td>\n",
       "      <td>NaN</td>\n",
       "      <td>NaN</td>\n",
       "      <td>NaN</td>\n",
       "      <td>NaN</td>\n",
       "      <td>NaN</td>\n",
       "      <td>NaN</td>\n",
       "      <td>NaN</td>\n",
       "      <td>NaN</td>\n",
       "      <td>...</td>\n",
       "      <td>NaN</td>\n",
       "      <td>NaN</td>\n",
       "      <td>NaN</td>\n",
       "      <td>NaN</td>\n",
       "      <td>NaN</td>\n",
       "      <td>NaN</td>\n",
       "      <td>30</td>\n",
       "      <td>idbkjh8u</td>\n",
       "      <td>22</td>\n",
       "      <td>4</td>\n",
       "    </tr>\n",
       "    <tr>\n",
       "      <th>2020-06-11 00:15:00</th>\n",
       "      <td>NaN</td>\n",
       "      <td>NaN</td>\n",
       "      <td>NaN</td>\n",
       "      <td>NaN</td>\n",
       "      <td>NaN</td>\n",
       "      <td>NaN</td>\n",
       "      <td>NaN</td>\n",
       "      <td>NaN</td>\n",
       "      <td>NaN</td>\n",
       "      <td>NaN</td>\n",
       "      <td>...</td>\n",
       "      <td>NaN</td>\n",
       "      <td>NaN</td>\n",
       "      <td>NaN</td>\n",
       "      <td>NaN</td>\n",
       "      <td>NaN</td>\n",
       "      <td>NaN</td>\n",
       "      <td>30</td>\n",
       "      <td>idbkjh8u</td>\n",
       "      <td>22</td>\n",
       "      <td>4</td>\n",
       "    </tr>\n",
       "    <tr>\n",
       "      <th>2020-06-11 00:20:00</th>\n",
       "      <td>NaN</td>\n",
       "      <td>NaN</td>\n",
       "      <td>NaN</td>\n",
       "      <td>NaN</td>\n",
       "      <td>NaN</td>\n",
       "      <td>NaN</td>\n",
       "      <td>NaN</td>\n",
       "      <td>NaN</td>\n",
       "      <td>NaN</td>\n",
       "      <td>NaN</td>\n",
       "      <td>...</td>\n",
       "      <td>NaN</td>\n",
       "      <td>NaN</td>\n",
       "      <td>NaN</td>\n",
       "      <td>NaN</td>\n",
       "      <td>NaN</td>\n",
       "      <td>NaN</td>\n",
       "      <td>30</td>\n",
       "      <td>idbkjh8u</td>\n",
       "      <td>22</td>\n",
       "      <td>4</td>\n",
       "    </tr>\n",
       "  </tbody>\n",
       "</table>\n",
       "<p>5 rows × 28 columns</p>\n",
       "</div>"
      ],
      "text/plain": [
       "                     TVOC  eCO2  Lux  Visible  Infrared  NO2  T_NO2  RH_NO2  \\\n",
       "Timestamp                                                                     \n",
       "2020-06-11 00:00:00   NaN   NaN  NaN      NaN       NaN  NaN    NaN     NaN   \n",
       "2020-06-11 00:05:00   NaN   NaN  NaN      NaN       NaN  NaN    NaN     NaN   \n",
       "2020-06-11 00:10:00   NaN   NaN  NaN      NaN       NaN  NaN    NaN     NaN   \n",
       "2020-06-11 00:15:00   NaN   NaN  NaN      NaN       NaN  NaN    NaN     NaN   \n",
       "2020-06-11 00:20:00   NaN   NaN  NaN      NaN       NaN  NaN    NaN     NaN   \n",
       "\n",
       "                     CO  T_CO  ...  PM_N_10  PM_C_1  PM_C_2p5  PM_C_4  \\\n",
       "Timestamp                      ...                                      \n",
       "2020-06-11 00:00:00 NaN   NaN  ...      NaN     NaN       NaN     NaN   \n",
       "2020-06-11 00:05:00 NaN   NaN  ...      NaN     NaN       NaN     NaN   \n",
       "2020-06-11 00:10:00 NaN   NaN  ...      NaN     NaN       NaN     NaN   \n",
       "2020-06-11 00:15:00 NaN   NaN  ...      NaN     NaN       NaN     NaN   \n",
       "2020-06-11 00:20:00 NaN   NaN  ...      NaN     NaN       NaN     NaN   \n",
       "\n",
       "                     PM_C_10   z  Beacon     Beiwe  Fitbit  REDCap  \n",
       "Timestamp                                                           \n",
       "2020-06-11 00:00:00      NaN NaN      30  idbkjh8u      22       4  \n",
       "2020-06-11 00:05:00      NaN NaN      30  idbkjh8u      22       4  \n",
       "2020-06-11 00:10:00      NaN NaN      30  idbkjh8u      22       4  \n",
       "2020-06-11 00:15:00      NaN NaN      30  idbkjh8u      22       4  \n",
       "2020-06-11 00:20:00      NaN NaN      30  idbkjh8u      22       4  \n",
       "\n",
       "[5 rows x 28 columns]"
      ]
     },
     "execution_count": 5,
     "metadata": {},
     "output_type": "execute_result"
    }
   ],
   "source": [
    "beacon = pd.read_csv('../data/processed/bpeace2-beacon.csv',index_col=0,parse_dates=True)\n",
    "beacon.head()"
   ]
  },
  {
   "cell_type": "markdown",
   "metadata": {},
   "source": [
    "## Pre-processing\n",
    "The new Fitbit files nicely summarize the sleep data for us and also give the start and stop times for the sleep events (SO convenient!). The only thing we have to pre-process is the beacon data by removing all data for each participant that is not in their daily sleep windows. \n",
    "\n",
    "However, since the stages summary and sleep summary come from different files, I need to make sure that they have the same number of nights per participant."
   ]
  },
  {
   "cell_type": "code",
   "execution_count": 6,
   "metadata": {
    "scrolled": false
   },
   "outputs": [],
   "source": [
    "for pt in sleep['beiwe'].unique():\n",
    "    sleep_pt = sleep[sleep['beiwe'] == pt]\n",
    "    stage_pt = stages[stages['beiwe'] == pt]\n",
    "    if len(sleep_pt) != len(stage_pt):\n",
    "        print('{pt}: different lengths')"
   ]
  },
  {
   "cell_type": "markdown",
   "metadata": {},
   "source": [
    "Nothing was printed so they seem to be the same length!"
   ]
  },
  {
   "cell_type": "markdown",
   "metadata": {},
   "source": [
    "### IAQ and Sleep Summary per Night\n",
    "Now we can loop through the start and stop times for sleep, get the IAQ data, summarize it, and then combine the three dataframes into one.\n",
    "\n",
    "In addition, we will save a dataframe that has the unaltered measurements during the evening in case we want to take a look at the trends, measurements, distributions, etc."
   ]
  },
  {
   "cell_type": "code",
   "execution_count": 7,
   "metadata": {
    "scrolled": true
   },
   "outputs": [],
   "source": [
    "iaq_sleep = pd.DataFrame() # summary dataframe holding the nightly sleep measurements and summarized IAQ data\n",
    "nightly_iaq = pd.DataFrame() # dataframe holding the measured IAQ values for each pt\n",
    "for pt in sleep['beiwe'].unique():\n",
    "    # getting data per participant\n",
    "    beacon_pt = beacon[beacon['Beiwe'] == pt]\n",
    "    sleep_pt = sleep[sleep['beiwe'] == pt]\n",
    "    stages_pt = stages[stages['beiwe'] == pt]\n",
    "    # summarizing beacon data per night\n",
    "    beacon_summary = pd.DataFrame()\n",
    "    for start_time, end_time in zip(sleep_pt['startTime'],sleep_pt['endTime']):\n",
    "        beacon_pt_night = beacon_pt[start_time:end_time]\n",
    "        if len(beacon_pt_night) > 0:\n",
    "            nightly_temp = beacon_pt_night\n",
    "            nightly_temp['start_time'] = start_time\n",
    "            nightly_temp['end_time'] = end_time\n",
    "            nightly_temp['beiwe'] = pt\n",
    "            nightly_iaq = nightly_iaq.append(nightly_temp)\n",
    "            summary_dict = {'start_date':[start_time.date()],'end_date':[end_time.date()]}\n",
    "            for variable in ['CO2','PM_C_2p5','CO','NO2','TVOC']:\n",
    "                summary_dict[f'{variable}_min'] = np.nanmin(beacon_pt_night[variable])\n",
    "                summary_dict[f'{variable}_max'] = np.nanmax(beacon_pt_night[variable])\n",
    "                summary_dict[f'{variable}_mean'] = np.nanmean(beacon_pt_night[variable])\n",
    "                summary_dict[f'{variable}_med'] = np.nanmedian(beacon_pt_night[variable])\n",
    "                summary_dict[f'{variable}_25'] = np.percentile(beacon_pt_night[variable],25)\n",
    "                summary_dict[f'{variable}_75'] = np.percentile(beacon_pt_night[variable],75)\n",
    "                summary_dict[f'{variable}_std'] = np.nanstd(beacon_pt_night[variable])\n",
    "                summary_dict[f'{variable}_initial'] = beacon_pt_night[variable][0]\n",
    "                summary_dict[f'{variable}_final'] = beacon_pt_night[variable][-1]\n",
    "                \n",
    "            beacon_summary = beacon_summary.append(pd.DataFrame(summary_dict))\n",
    "    if len(beacon_summary) > 0:\n",
    "        temp = pd.merge(left=beacon_summary,right=sleep_pt,left_on='end_date',right_on='endDate',how='inner')\n",
    "        iaq_sleep_pt = pd.merge(left=temp,right=stages_pt,left_on='end_date',right_on='endDate',how='inner')\n",
    "        iaq_sleep = iaq_sleep.append(iaq_sleep_pt)\n",
    "        \n",
    "# adding in REM:nREM\n",
    "iaq_sleep['rem2nrem'] = iaq_sleep['rem_minutes'] / (iaq_sleep['light_minutes'] + iaq_sleep['deep_minutes'])"
   ]
  },
  {
   "cell_type": "markdown",
   "metadata": {},
   "source": [
    "Now we save both dataframes to the processed folder."
   ]
  },
  {
   "cell_type": "code",
   "execution_count": 8,
   "metadata": {},
   "outputs": [],
   "source": [
    "iaq_sleep.to_csv('../data/processed/bpeace2-fitbit-beacon-iaq-evening-summary.csv')\n",
    "nightly_iaq.to_csv('../data/processed/bpeace2-fitbit-beacon-iaq-evening-full.csv')"
   ]
  },
  {
   "cell_type": "markdown",
   "metadata": {},
   "source": [
    "## Analyzing"
   ]
  },
  {
   "cell_type": "code",
   "execution_count": 9,
   "metadata": {},
   "outputs": [],
   "source": [
    "from scipy import stats"
   ]
  },
  {
   "cell_type": "markdown",
   "metadata": {},
   "source": [
    "We can start to analyze by looking at the differences in the means of different sleep parameters under low and high concentration nights. We can define a low and high concentration night however we see fit."
   ]
  },
  {
   "cell_type": "markdown",
   "metadata": {},
   "source": [
    "### Lower 50th and Upper 50th percentiles"
   ]
  },
  {
   "cell_type": "code",
   "execution_count": 10,
   "metadata": {},
   "outputs": [
    {
     "name": "stdout",
     "output_type": "stream",
     "text": [
      "Pollutant: CO2:\n",
      "\tEfficiency P: 0.8973645223800049\n",
      "\tREM:nREM P: 0.6552877145163892\n",
      "Pollutant: PM_C_2p5:\n",
      "\tEfficiency P: 0.6353365990572633\n",
      "\tREM:nREM P: 0.7232021352590277\n",
      "Pollutant: NO2:\n",
      "\tEfficiency P: 0.40352931426044647\n",
      "\tREM:nREM P: 0.6458572261329246\n",
      "Pollutant: CO:\n",
      "\tEfficiency P: 0.880831050553105\n",
      "\tREM:nREM P: 0.20676648516856747\n",
      "Pollutant: TVOC:\n",
      "\tEfficiency P: 0.9019744408744841\n",
      "\tREM:nREM P: 0.9860573555066388\n"
     ]
    }
   ],
   "source": [
    "for pollutant in ['CO2','PM_C_2p5','NO2','CO','TVOC']:\n",
    "    high = pd.DataFrame()\n",
    "    low = pd.DataFrame()\n",
    "    for pt in iaq_sleep['beiwe_x'].unique():\n",
    "        iaq_sleep_pt = iaq_sleep[iaq_sleep['beiwe_x'] == pt]\n",
    "        iaq_sleep_pt['percentile'] = iaq_sleep_pt[f'{pollutant}_med'].rank(pct=True)\n",
    "        low = low.append(iaq_sleep_pt[iaq_sleep_pt['percentile'] < 0.5])\n",
    "        high = high.append(iaq_sleep_pt[iaq_sleep_pt['percentile'] >= 0.5])\n",
    "    \n",
    "    print(f'Pollutant: {pollutant}:')\n",
    "    stat, pval = stats.ttest_ind(low['efficiency'],high['efficiency'],equal_var=False)\n",
    "    print(f'\\tEfficiency P: {pval}')\n",
    "    stat, pval = stats.ttest_ind(low['rem2nrem'],high['rem2nrem'],equal_var=False)\n",
    "    print(f'\\tREM:nREM P: {pval}')"
   ]
  },
  {
   "cell_type": "markdown",
   "metadata": {},
   "source": [
    "### Nights above high concentrations"
   ]
  },
  {
   "cell_type": "code",
   "execution_count": 11,
   "metadata": {},
   "outputs": [
    {
     "name": "stdout",
     "output_type": "stream",
     "text": [
      "Pollutant: CO2:\n",
      "\tEfficiency P: 0.0003324933346446932\n",
      "\tREM:nREM P: 0.8315509382716626\n",
      "Pollutant: PM_C_2p5:\n",
      "\tEfficiency P: 0.9180832600704968\n",
      "\tREM:nREM P: 0.014824270386284331\n",
      "Pollutant: NO2:\n",
      "\tEfficiency P: 8.16294047467952e-09\n",
      "\tREM:nREM P: 0.05763361072328754\n",
      "Pollutant: CO:\n",
      "\tEfficiency P: 0.0002540309911583198\n",
      "\tREM:nREM P: 0.2424019456324223\n",
      "Pollutant: TVOC:\n",
      "\tEfficiency P: 0.10618331000664241\n",
      "\tREM:nREM P: 0.0029866191958005392\n"
     ]
    }
   ],
   "source": [
    "overall = pd.DataFrame()\n",
    "iaq_sleep_analysis = iaq_sleep[iaq_sleep['efficiency'] > 65]\n",
    "for pollutant, threshold in zip(['CO2','PM_C_2p5','NO2','CO','TVOC'],[1000,12,200,5,250]):\n",
    "    high = pd.DataFrame()\n",
    "    low = pd.DataFrame()\n",
    "    for pt in iaq_sleep['beiwe_x'].unique():\n",
    "        iaq_sleep_pt = iaq_sleep_analysis[iaq_sleep_analysis['beiwe_x'] == pt]\n",
    "        low = low.append(iaq_sleep_pt[iaq_sleep_pt[f'{pollutant}_med'] < threshold])\n",
    "        high = high.append(iaq_sleep_pt[iaq_sleep_pt[f'{pollutant}_med'] >= threshold])\n",
    "    \n",
    "    print(f'Pollutant: {pollutant}:')\n",
    "    stat, pval = stats.ttest_ind(low['efficiency'],high['efficiency'],equal_var=False)\n",
    "    print(f'\\tEfficiency P: {pval}')\n",
    "    stat, pval = stats.ttest_ind(low['rem2nrem'],high['rem2nrem'],equal_var=False)\n",
    "    print(f'\\tREM:nREM P: {pval}')\n",
    "    \n",
    "    low['cat'] = 'Low'\n",
    "    high['cat'] = 'High'\n",
    "    comb = low.append(high)\n",
    "    comb['Pollutant'] = pollutant\n",
    "    overall = overall.append(comb)"
   ]
  },
  {
   "cell_type": "code",
   "execution_count": 12,
   "metadata": {},
   "outputs": [],
   "source": [
    "plt.rcParams['font.sans-serif'] = \"Arial\"\n",
    "# Then, \"ALWAYS use sans-serif fonts\"\n",
    "plt.rcParams['font.family'] = \"sans-serif\""
   ]
  },
  {
   "cell_type": "code",
   "execution_count": 13,
   "metadata": {
    "scrolled": false
   },
   "outputs": [
    {
     "data": {
      "image/png": "[encoded data removed]",
      "text/plain": [
       "<Figure size 720x360 with 1 Axes>"
      ]
     },
     "metadata": {
      "needs_background": "light"
     },
     "output_type": "display_data"
    }
   ],
   "source": [
    "fig, ax = plt.subplots(figsize=(10,5))\n",
    "sns.violinplot(x='Pollutant',y='efficiency',hue='cat',data=overall,cut=0,split=True,inner='quartile',palette=['white','#BF5700'],ax=ax)\n",
    "ax.set_ylim([80,100])\n",
    "ax.set_yticks(np.arange(80,102,2.5))\n",
    "ax.legend(title='Nightly Concentration Profile',loc='center',bbox_to_anchor=(0.5,-.2),ncol=2)\n",
    "ax.set_ylabel('Sleep Efficiency')\n",
    "ax.set_xticklabels(['CO$_2$','PM$_{2.5}$','NO$_2$','CO','TVOC'])\n",
    "\n",
    "plt.savefig('../reports/IA2020_poster/beacon-fitbit-median_pollutant-efficiency.pdf')\n",
    "plt.show()\n",
    "plt.close()"
   ]
  },
  {
   "cell_type": "code",
   "execution_count": 14,
   "metadata": {},
   "outputs": [
    {
     "data": {
      "image/png": "[encoded data removed]",
      "text/plain": [
       "<Figure size 720x360 with 1 Axes>"
      ]
     },
     "metadata": {
      "needs_background": "light"
     },
     "output_type": "display_data"
    }
   ],
   "source": [
    "fig, ax = plt.subplots(figsize=(10,5))\n",
    "sns.violinplot(x='Pollutant',y='rem2nrem',hue='cat',data=overall,cut=0,split=True,inner='quartile',palette=['white','#BF5700'],ax=ax)\n",
    "ax.legend(title='Nightly Concentration Profile',loc='center',bbox_to_anchor=(0.5,-.2),ncol=2)\n",
    "ax.set_ylabel('REM:nREM')\n",
    "ax.set_xticklabels(['CO$_2$','PM$_{2.5}$','NO$_2$','CO','TVOC'])\n",
    "\n",
    "plt.savefig('../reports/IA2020_poster/beacon-fitbit-median_pollutant-rem2nrem.pdf')\n",
    "plt.show()\n",
    "plt.close()"
   ]
  },
  {
   "cell_type": "markdown",
   "metadata": {},
   "source": [
    "## Visualizing\n",
    "With these data summamrized, we can start to look at the relationship between sleep and IAQ.\n",
    "\n",
    "We can start simple by looking at one variable and it's effect on sleep efficiency. Then the code we develop here can be adapted for analysis on other variables. "
   ]
  },
  {
   "cell_type": "code",
   "execution_count": 15,
   "metadata": {},
   "outputs": [
    {
     "data": {
      "text/plain": [
       "array(['CO2', 'PM_C_2p5', 'NO2', 'CO', 'TVOC'], dtype=object)"
      ]
     },
     "execution_count": 15,
     "metadata": {},
     "output_type": "execute_result"
    }
   ],
   "source": [
    "overall['Pollutant'].unique()"
   ]
  },
  {
   "cell_type": "code",
   "execution_count": 16,
   "metadata": {},
   "outputs": [
    {
     "name": "stdout",
     "output_type": "stream",
     "text": [
      "CO2:\n",
      "\tn (high): 154\n",
      "\tn (low): 544\n",
      "\ttotal: 698\n",
      "PM_C_2p5:\n",
      "\tn (high): 67\n",
      "\tn (low): 643\n",
      "\ttotal: 710\n",
      "NO2:\n",
      "\tn (high): 117\n",
      "\tn (low): 331\n",
      "\ttotal: 448\n",
      "CO:\n",
      "\tn (high): 42\n",
      "\tn (low): 641\n",
      "\ttotal: 683\n",
      "TVOC:\n",
      "\tn (high): 342\n",
      "\tn (low): 340\n",
      "\ttotal: 682\n"
     ]
    }
   ],
   "source": [
    "for pollutant in overall['Pollutant'].unique():\n",
    "    df = overall[overall['Pollutant'] == pollutant]\n",
    "    n_low = len(df[df['cat'] == 'Low'])\n",
    "    n_high = len(df[df['cat'] == 'High'])\n",
    "    print(f'{pollutant}:\\n\\tn (high): {n_high}\\n\\tn (low): {n_low}\\n\\ttotal: {n_low+n_high}')"
   ]
  },
  {
   "cell_type": "markdown",
   "metadata": {},
   "source": [
    "### CO2 and Sleep Efficiency\n",
    "We can look at a scatterplot comparing multiple summary statistics of CO2 with sleep efficiency."
   ]
  },
  {
   "cell_type": "code",
   "execution_count": 17,
   "metadata": {},
   "outputs": [
    {
     "data": {
      "image/png": "[encoded data removed]",
      "text/plain": [
       "<Figure size 864x288 with 4 Axes>"
      ]
     },
     "metadata": {
      "needs_background": "light"
     },
     "output_type": "display_data"
    }
   ],
   "source": [
    "fig, ax = plt.subplots(1,4,figsize=(12,4))\n",
    "co2 = iaq_sleep\n",
    "co2['diff'] = co2['CO2_max'] - co2['CO2_min']\n",
    "co2['delta'] = co2['CO2_final'] - co2['CO2_initial']\n",
    "i = 0\n",
    "for stat in ['diff','delta','CO2_med','CO2_std']:\n",
    "    ax[i].scatter(co2[stat],co2['efficiency'])\n",
    "    i += 1"
   ]
  },
  {
   "cell_type": "code",
   "execution_count": null,
   "metadata": {},
   "outputs": [],
   "source": []
  },
  {
   "cell_type": "code",
   "execution_count": null,
   "metadata": {},
   "outputs": [],
   "source": []
  },
  {
   "cell_type": "code",
   "execution_count": null,
   "metadata": {},
   "outputs": [],
   "source": []
  },
  {
   "cell_type": "code",
   "execution_count": null,
   "metadata": {},
   "outputs": [],
   "source": []
  },
  {
   "cell_type": "code",
   "execution_count": null,
   "metadata": {},
   "outputs": [],
   "source": []
  },
  {
   "cell_type": "code",
   "execution_count": null,
   "metadata": {},
   "outputs": [],
   "source": []
  },
  {
   "cell_type": "code",
   "execution_count": null,
   "metadata": {},
   "outputs": [],
   "source": []
  },
  {
   "cell_type": "code",
   "execution_count": null,
   "metadata": {},
   "outputs": [],
   "source": []
  },
  {
   "cell_type": "code",
   "execution_count": null,
   "metadata": {},
   "outputs": [],
   "source": []
  },
  {
   "cell_type": "code",
   "execution_count": null,
   "metadata": {},
   "outputs": [],
   "source": []
  },
  {
   "cell_type": "code",
   "execution_count": null,
   "metadata": {},
   "outputs": [],
   "source": []
  },
  {
   "cell_type": "code",
   "execution_count": null,
   "metadata": {},
   "outputs": [],
   "source": []
  },
  {
   "cell_type": "code",
   "execution_count": null,
   "metadata": {},
   "outputs": [],
   "source": []
  },
  {
   "cell_type": "code",
   "execution_count": null,
   "metadata": {},
   "outputs": [],
   "source": []
  },
  {
   "cell_type": "code",
   "execution_count": null,
   "metadata": {},
   "outputs": [],
   "source": []
  },
  {
   "cell_type": "markdown",
   "metadata": {},
   "source": [
    "# Old"
   ]
  },
  {
   "cell_type": "markdown",
   "metadata": {},
   "source": [
    "### Percent Change Histogram\n",
    "The first thing to do is create a histogram of the percentage change values for each pollutant."
   ]
  },
  {
   "cell_type": "code",
   "execution_count": 18,
   "metadata": {},
   "outputs": [
    {
     "data": {
      "text/plain": [
       "Index(['start_date', 'end_date', 'CO2_min', 'CO2_max', 'CO2_mean', 'CO2_med',\n",
       "       'CO2_25', 'CO2_75', 'CO2_std', 'CO2_initial', 'CO2_final',\n",
       "       'PM_C_2p5_min', 'PM_C_2p5_max', 'PM_C_2p5_mean', 'PM_C_2p5_med',\n",
       "       'PM_C_2p5_25', 'PM_C_2p5_75', 'PM_C_2p5_std', 'PM_C_2p5_initial',\n",
       "       'PM_C_2p5_final', 'CO_min', 'CO_max', 'CO_mean', 'CO_med', 'CO_25',\n",
       "       'CO_75', 'CO_std', 'CO_initial', 'CO_final', 'NO2_min', 'NO2_max',\n",
       "       'NO2_mean', 'NO2_med', 'NO2_25', 'NO2_75', 'NO2_std', 'NO2_initial',\n",
       "       'NO2_final', 'TVOC_min', 'TVOC_max', 'TVOC_mean', 'TVOC_med', 'TVOC_25',\n",
       "       'TVOC_75', 'TVOC_std', 'TVOC_initial', 'TVOC_final', 'date',\n",
       "       'dateOfSleep', 'duration', 'efficiency', 'endTime', 'infoCode',\n",
       "       'isMainSleep', 'logId', 'minutesAfterWakeup', 'minutesAsleep',\n",
       "       'minutesAwake', 'minutesToFallAsleep', 'startTime', 'timeInBed',\n",
       "       'beiwe_x', 'endDate_x', 'startDate', 'endDate_y', 'deep_count',\n",
       "       'deep_minutes', 'light_count', 'light_minutes', 'rem_count',\n",
       "       'rem_minutes', 'wake_count', 'wake_minutes', 'beiwe_y', 'rem2nrem',\n",
       "       'diff', 'delta'],\n",
       "      dtype='object')"
      ]
     },
     "execution_count": 18,
     "metadata": {},
     "output_type": "execute_result"
    }
   ],
   "source": [
    "iaq_sleep.columns"
   ]
  },
  {
   "cell_type": "code",
   "execution_count": 19,
   "metadata": {},
   "outputs": [
    {
     "data": {
      "image/png": "[encoded data removed]",
      "text/plain": [
       "<Figure size 1152x432 with 20 Axes>"
      ]
     },
     "metadata": {
      "needs_background": "light"
     },
     "output_type": "display_data"
    }
   ],
   "source": [
    "fig, axes = plt.subplots(2,5,figsize=(16,6),sharex='col',sharey='row')\n",
    "r = 0\n",
    "for sleep_metric in ['efficiency','rem2nrem']:\n",
    "    c = 0\n",
    "    for variable in ['CO2','PM_C_2p5','CO','NO2','TVOC']:\n",
    "        ax = axes[r,c]\n",
    "        temp = iaq_sleep\n",
    "        diff = (iaq_sleep[f'{variable}_final']-iaq_sleep[f'{variable}_initial']) \n",
    "        temp['z'] = (diff - np.nanmean(diff)) / np.nanstd(diff)\n",
    "        temp[abs(temp['z']) > 5] = np.nan\n",
    "        for pt in temp['beiwe_x'].unique():\n",
    "            temp_pt = temp[temp['beiwe_x'] == pt]\n",
    "            temp_pt = temp_pt.dropna(subset=['z',sleep_metric])\n",
    "            x = temp_pt['z'].values\n",
    "            y = temp_pt[sleep_metric].values\n",
    "            if len(x) > 1:\n",
    "                # OLS - intercept at origin\n",
    "                pt_model = sm.OLS(y,sm.add_constant(x)).fit()\n",
    "\n",
    "                if pt_model.params[0]*-5 < -4:\n",
    "                    pass\n",
    "                else:\n",
    "                    ax.plot([-5,5],[pt_model.params[0]+pt_model.params[0]*-5,pt_model.params[0]+pt_model.params[0]*5],color='cornflowerblue',alpha=0.75)\n",
    "        \n",
    "        ax2 = ax.twinx()\n",
    "        ax2.hist(temp['z'],color='gray',bins=np.arange(-5,6,1),rwidth=0.9,alpha=0.5,zorder=1)\n",
    "        ax2.set_xlim([-5,5])\n",
    "        ax2.set_ylim([0,350])\n",
    "        if r == 1:\n",
    "            ax.set_xlabel(f'{variable}')\n",
    "        if c == 4:\n",
    "            pass\n",
    "        else:\n",
    "            ax2.set_yticklabels([''])\n",
    "        c += 1\n",
    "        \n",
    "    r += 1\n",
    "    \n",
    "plt.subplots_adjust(hspace=0,wspace=0)\n",
    "plt.show()\n",
    "plt.close()"
   ]
  },
  {
   "cell_type": "code",
   "execution_count": null,
   "metadata": {},
   "outputs": [],
   "source": []
  }
 ],
 "metadata": {
  "kernelspec": {
   "display_name": "Python 3",
   "language": "python",
   "name": "python3"
  },
  "language_info": {
   "codemirror_mode": {
    "name": "ipython",
    "version": 3
   },
   "file_extension": ".py",
   "mimetype": "text/x-python",
   "name": "python",
   "nbconvert_exporter": "python",
   "pygments_lexer": "ipython3",
   "version": "3.7.0"
  }
 },
 "nbformat": 4,
 "nbformat_minor": 4
}
