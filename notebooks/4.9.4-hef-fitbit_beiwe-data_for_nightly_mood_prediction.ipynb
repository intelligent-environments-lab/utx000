{
 "cells": [
  {
   "cell_type": "markdown",
   "metadata": {},
   "source": [
    "<a id='top'></a>"
   ]
  },
  {
   "cell_type": "code",
   "execution_count": 2,
   "metadata": {},
   "outputs": [],
   "source": [
    "import warnings\n",
    "warnings.filterwarnings('ignore')"
   ]
  },
  {
   "cell_type": "markdown",
   "metadata": {},
   "source": [
    "# Data Availability for Predicting Nightly Mood Scores\n",
    "This notebook explores the available data that we can use to predict the mood scores as reported on the evening EMA. We focus on the overlap between the Fitbit and Beiwe data."
   ]
  },
  {
   "cell_type": "code",
   "execution_count": 3,
   "metadata": {
    "scrolled": true
   },
   "outputs": [],
   "source": [
    "import sys\n",
    "sys.path.append('../')\n",
    "%load_ext autoreload\n",
    "%autoreload 2\n",
    "\n",
    "import pandas as pd\n",
    "pd.set_option('display.max_columns', 200)\n",
    "import numpy as np\n",
    "\n",
    "from datetime import datetime, timedelta\n",
    "\n",
    "import matplotlib.pyplot as plt\n",
    "from matplotlib import cm\n",
    "from matplotlib.colors import ListedColormap, LinearSegmentedColormap\n",
    "import seaborn as sns\n",
    "import matplotlib.dates as mdates"
   ]
  },
  {
   "cell_type": "markdown",
   "metadata": {},
   "source": [
    "# Table of Contents\n",
    "1. [Data Import](#data_import)\n",
    "    1. [Targets](#targets)\n",
    "    2. [Features](#features)\n",
    "2. [Pre-Processing](#preprocessing)\n",
    "3. [Summary](#summary)"
   ]
  },
  {
   "cell_type": "markdown",
   "metadata": {},
   "source": [
    "---"
   ]
  },
  {
   "cell_type": "markdown",
   "metadata": {},
   "source": [
    "<a id='data_import'></a>"
   ]
  },
  {
   "cell_type": "markdown",
   "metadata": {},
   "source": [
    "# Data Import\n",
    "Data are simply imported from the Fitbit daily dataset and Fitbit sleep summary dataset - both of each include data summarized on a daily basis."
   ]
  },
  {
   "cell_type": "markdown",
   "metadata": {},
   "source": [
    "<a id='targets'></a>"
   ]
  },
  {
   "cell_type": "markdown",
   "metadata": {},
   "source": [
    "## Target Data"
   ]
  },
  {
   "cell_type": "markdown",
   "metadata": {},
   "source": [
    "### Evening EMAs"
   ]
  },
  {
   "cell_type": "code",
   "execution_count": 4,
   "metadata": {
    "scrolled": true
   },
   "outputs": [
    {
     "data": {
      "text/html": [
       "<div>\n",
       "<style scoped>\n",
       "    .dataframe tbody tr th:only-of-type {\n",
       "        vertical-align: middle;\n",
       "    }\n",
       "\n",
       "    .dataframe tbody tr th {\n",
       "        vertical-align: top;\n",
       "    }\n",
       "\n",
       "    .dataframe thead th {\n",
       "        text-align: right;\n",
       "    }\n",
       "</style>\n",
       "<table border=\"1\" class=\"dataframe\">\n",
       "  <thead>\n",
       "    <tr style=\"text-align: right;\">\n",
       "      <th></th>\n",
       "      <th>timestamp</th>\n",
       "      <th>beiwe</th>\n",
       "      <th>content</th>\n",
       "      <th>stress</th>\n",
       "      <th>lonely</th>\n",
       "      <th>sad</th>\n",
       "      <th>energy</th>\n",
       "      <th>redcap</th>\n",
       "      <th>beacon</th>\n",
       "      <th>date</th>\n",
       "    </tr>\n",
       "  </thead>\n",
       "  <tbody>\n",
       "    <tr>\n",
       "      <th>0</th>\n",
       "      <td>2020-05-13 19:00:23</td>\n",
       "      <td>awa8uces</td>\n",
       "      <td>1.0</td>\n",
       "      <td>1.0</td>\n",
       "      <td>1.0</td>\n",
       "      <td>3.0</td>\n",
       "      <td>2.0</td>\n",
       "      <td>28</td>\n",
       "      <td>26.0</td>\n",
       "      <td>2020-05-13</td>\n",
       "    </tr>\n",
       "    <tr>\n",
       "      <th>1</th>\n",
       "      <td>2020-05-13 19:21:32</td>\n",
       "      <td>lkkjddam</td>\n",
       "      <td>0.0</td>\n",
       "      <td>2.0</td>\n",
       "      <td>3.0</td>\n",
       "      <td>1.0</td>\n",
       "      <td>0.0</td>\n",
       "      <td>12</td>\n",
       "      <td>21.0</td>\n",
       "      <td>2020-05-13</td>\n",
       "    </tr>\n",
       "    <tr>\n",
       "      <th>2</th>\n",
       "      <td>2020-05-13 19:30:38</td>\n",
       "      <td>rvhdl2la</td>\n",
       "      <td>2.0</td>\n",
       "      <td>1.0</td>\n",
       "      <td>0.0</td>\n",
       "      <td>0.0</td>\n",
       "      <td>1.0</td>\n",
       "      <td>29</td>\n",
       "      <td>NaN</td>\n",
       "      <td>2020-05-13</td>\n",
       "    </tr>\n",
       "    <tr>\n",
       "      <th>3</th>\n",
       "      <td>2020-05-13 20:07:04</td>\n",
       "      <td>xxvnhauv</td>\n",
       "      <td>1.0</td>\n",
       "      <td>3.0</td>\n",
       "      <td>1.0</td>\n",
       "      <td>2.0</td>\n",
       "      <td>0.0</td>\n",
       "      <td>21</td>\n",
       "      <td>22.0</td>\n",
       "      <td>2020-05-13</td>\n",
       "    </tr>\n",
       "    <tr>\n",
       "      <th>4</th>\n",
       "      <td>2020-05-13 20:25:07</td>\n",
       "      <td>xdbdrk6e</td>\n",
       "      <td>2.0</td>\n",
       "      <td>1.0</td>\n",
       "      <td>2.0</td>\n",
       "      <td>1.0</td>\n",
       "      <td>3.0</td>\n",
       "      <td>23</td>\n",
       "      <td>24.0</td>\n",
       "      <td>2020-05-13</td>\n",
       "    </tr>\n",
       "  </tbody>\n",
       "</table>\n",
       "</div>"
      ],
      "text/plain": [
       "            timestamp     beiwe  content  stress  lonely  sad  energy  redcap  \\\n",
       "0 2020-05-13 19:00:23  awa8uces      1.0     1.0     1.0  3.0     2.0      28   \n",
       "1 2020-05-13 19:21:32  lkkjddam      0.0     2.0     3.0  1.0     0.0      12   \n",
       "2 2020-05-13 19:30:38  rvhdl2la      2.0     1.0     0.0  0.0     1.0      29   \n",
       "3 2020-05-13 20:07:04  xxvnhauv      1.0     3.0     1.0  2.0     0.0      21   \n",
       "4 2020-05-13 20:25:07  xdbdrk6e      2.0     1.0     2.0  1.0     3.0      23   \n",
       "\n",
       "   beacon        date  \n",
       "0    26.0  2020-05-13  \n",
       "1    21.0  2020-05-13  \n",
       "2     NaN  2020-05-13  \n",
       "3    22.0  2020-05-13  \n",
       "4    24.0  2020-05-13  "
      ]
     },
     "execution_count": 4,
     "metadata": {},
     "output_type": "execute_result"
    }
   ],
   "source": [
    "ema_e = pd.read_csv(\"../data/processed/beiwe-evening_ema-ux_s20.csv\",parse_dates=[\"timestamp\"])\n",
    "ema_e[\"date\"] = ema_e[\"timestamp\"].dt.date\n",
    "ema_e.head()"
   ]
  },
  {
   "cell_type": "code",
   "execution_count": 5,
   "metadata": {},
   "outputs": [
    {
     "name": "stdout",
     "output_type": "stream",
     "text": [
      "Number of Datapoints: 2460\n"
     ]
    }
   ],
   "source": [
    "print(\"Number of Datapoints:\", len(ema_e))"
   ]
  },
  {
   "cell_type": "markdown",
   "metadata": {},
   "source": [
    "<a id='features'></a>"
   ]
  },
  {
   "cell_type": "markdown",
   "metadata": {},
   "source": [
    "## Feature Data\n",
    "The feature data is compromised of:\n",
    "* morning EMA mood (Beiwe)\n",
    "* morning EMA sleep (Beiwe)\n",
    "* current daily acitivity (Fitbit)\n",
    "* previous night's sleep (Fitbit)"
   ]
  },
  {
   "cell_type": "code",
   "execution_count": 6,
   "metadata": {},
   "outputs": [
    {
     "data": {
      "text/html": [
       "<div>\n",
       "<style scoped>\n",
       "    .dataframe tbody tr th:only-of-type {\n",
       "        vertical-align: middle;\n",
       "    }\n",
       "\n",
       "    .dataframe tbody tr th {\n",
       "        vertical-align: top;\n",
       "    }\n",
       "\n",
       "    .dataframe thead th {\n",
       "        text-align: right;\n",
       "    }\n",
       "</style>\n",
       "<table border=\"1\" class=\"dataframe\">\n",
       "  <thead>\n",
       "    <tr style=\"text-align: right;\">\n",
       "      <th></th>\n",
       "      <th>timestamp</th>\n",
       "      <th>beiwe</th>\n",
       "      <th>content</th>\n",
       "      <th>stress</th>\n",
       "      <th>lonely</th>\n",
       "      <th>sad</th>\n",
       "      <th>energy</th>\n",
       "      <th>tst</th>\n",
       "      <th>sol</th>\n",
       "      <th>naw</th>\n",
       "      <th>restful</th>\n",
       "      <th>redcap</th>\n",
       "      <th>beacon</th>\n",
       "      <th>date</th>\n",
       "    </tr>\n",
       "  </thead>\n",
       "  <tbody>\n",
       "    <tr>\n",
       "      <th>0</th>\n",
       "      <td>2020-05-13 09:10:27</td>\n",
       "      <td>qh34m4r9</td>\n",
       "      <td>3</td>\n",
       "      <td>0.0</td>\n",
       "      <td>0.0</td>\n",
       "      <td>0.0</td>\n",
       "      <td>1.0</td>\n",
       "      <td>8.0</td>\n",
       "      <td>20.0</td>\n",
       "      <td>2.0</td>\n",
       "      <td>3.0</td>\n",
       "      <td>68</td>\n",
       "      <td>19.0</td>\n",
       "      <td>2020-05-13</td>\n",
       "    </tr>\n",
       "    <tr>\n",
       "      <th>1</th>\n",
       "      <td>2020-05-13 09:15:49</td>\n",
       "      <td>awa8uces</td>\n",
       "      <td>0.0</td>\n",
       "      <td>2.0</td>\n",
       "      <td>1.0</td>\n",
       "      <td>1.0</td>\n",
       "      <td>1.0</td>\n",
       "      <td>2.0</td>\n",
       "      <td>10.0</td>\n",
       "      <td>3.0</td>\n",
       "      <td>1.0</td>\n",
       "      <td>28</td>\n",
       "      <td>26.0</td>\n",
       "      <td>2020-05-13</td>\n",
       "    </tr>\n",
       "    <tr>\n",
       "      <th>2</th>\n",
       "      <td>2020-05-13 09:42:19</td>\n",
       "      <td>xxvnhauv</td>\n",
       "      <td>1</td>\n",
       "      <td>1.0</td>\n",
       "      <td>1.0</td>\n",
       "      <td>3.0</td>\n",
       "      <td>0.0</td>\n",
       "      <td>6.0</td>\n",
       "      <td>30.0</td>\n",
       "      <td>3.0</td>\n",
       "      <td>1.0</td>\n",
       "      <td>21</td>\n",
       "      <td>22.0</td>\n",
       "      <td>2020-05-13</td>\n",
       "    </tr>\n",
       "    <tr>\n",
       "      <th>3</th>\n",
       "      <td>2020-05-13 09:43:27</td>\n",
       "      <td>rvhdl2la</td>\n",
       "      <td>1</td>\n",
       "      <td>1.0</td>\n",
       "      <td>2.0</td>\n",
       "      <td>3.0</td>\n",
       "      <td>0.0</td>\n",
       "      <td>5.3</td>\n",
       "      <td>5.0</td>\n",
       "      <td>2.0</td>\n",
       "      <td>2.0</td>\n",
       "      <td>29</td>\n",
       "      <td>NaN</td>\n",
       "      <td>2020-05-13</td>\n",
       "    </tr>\n",
       "    <tr>\n",
       "      <th>4</th>\n",
       "      <td>2020-05-13 10:11:51</td>\n",
       "      <td>q5y11ytm</td>\n",
       "      <td>3</td>\n",
       "      <td>1.0</td>\n",
       "      <td>0.0</td>\n",
       "      <td>1.0</td>\n",
       "      <td>2.0</td>\n",
       "      <td>2.0</td>\n",
       "      <td>10.0</td>\n",
       "      <td>0.0</td>\n",
       "      <td>0.0</td>\n",
       "      <td>48</td>\n",
       "      <td>NaN</td>\n",
       "      <td>2020-05-13</td>\n",
       "    </tr>\n",
       "  </tbody>\n",
       "</table>\n",
       "</div>"
      ],
      "text/plain": [
       "            timestamp     beiwe content  stress  lonely  sad  energy  tst  \\\n",
       "0 2020-05-13 09:10:27  qh34m4r9       3     0.0     0.0  0.0     1.0  8.0   \n",
       "1 2020-05-13 09:15:49  awa8uces     0.0     2.0     1.0  1.0     1.0  2.0   \n",
       "2 2020-05-13 09:42:19  xxvnhauv       1     1.0     1.0  3.0     0.0  6.0   \n",
       "3 2020-05-13 09:43:27  rvhdl2la       1     1.0     2.0  3.0     0.0  5.3   \n",
       "4 2020-05-13 10:11:51  q5y11ytm       3     1.0     0.0  1.0     2.0  2.0   \n",
       "\n",
       "    sol  naw  restful  redcap  beacon        date  \n",
       "0  20.0  2.0      3.0      68    19.0  2020-05-13  \n",
       "1  10.0  3.0      1.0      28    26.0  2020-05-13  \n",
       "2  30.0  3.0      1.0      21    22.0  2020-05-13  \n",
       "3   5.0  2.0      2.0      29     NaN  2020-05-13  \n",
       "4  10.0  0.0      0.0      48     NaN  2020-05-13  "
      ]
     },
     "execution_count": 6,
     "metadata": {},
     "output_type": "execute_result"
    }
   ],
   "source": [
    "ema_m = pd.read_csv(\"../data/processed/beiwe-morning_ema-ux_s20.csv\",parse_dates=[\"timestamp\"])\n",
    "ema_m[\"date\"] = ema_m[\"timestamp\"].dt.date\n",
    "ema_m.head()"
   ]
  },
  {
   "cell_type": "code",
   "execution_count": 7,
   "metadata": {},
   "outputs": [
    {
     "name": "stdout",
     "output_type": "stream",
     "text": [
      "Number of Datapoints: 2470\n"
     ]
    }
   ],
   "source": [
    "print(\"Number of Datapoints:\", len(ema_m))"
   ]
  },
  {
   "cell_type": "markdown",
   "metadata": {},
   "source": [
    "### Fitbit Activity\n",
    "We need two sets of activity data:\n",
    "1. **Daily Activity**: so we can see if the participant was wearing their Fitbit the entire day\n",
    "2. **Hourly Activity**: to get the activity level prior to submission time"
   ]
  },
  {
   "cell_type": "code",
   "execution_count": 8,
   "metadata": {},
   "outputs": [
    {
     "data": {
      "text/html": [
       "<div>\n",
       "<style scoped>\n",
       "    .dataframe tbody tr th:only-of-type {\n",
       "        vertical-align: middle;\n",
       "    }\n",
       "\n",
       "    .dataframe tbody tr th {\n",
       "        vertical-align: top;\n",
       "    }\n",
       "\n",
       "    .dataframe thead th {\n",
       "        text-align: right;\n",
       "    }\n",
       "</style>\n",
       "<table border=\"1\" class=\"dataframe\">\n",
       "  <thead>\n",
       "    <tr style=\"text-align: right;\">\n",
       "      <th></th>\n",
       "      <th>timestamp</th>\n",
       "      <th>calories</th>\n",
       "      <th>bmr</th>\n",
       "      <th>steps</th>\n",
       "      <th>distance</th>\n",
       "      <th>sedentary_minutes</th>\n",
       "      <th>lightly_active_minutes</th>\n",
       "      <th>fairly_active_minutes</th>\n",
       "      <th>very_active_minutes</th>\n",
       "      <th>calories_from_activities</th>\n",
       "      <th>bmi</th>\n",
       "      <th>fat</th>\n",
       "      <th>weight</th>\n",
       "      <th>food_calories_logged</th>\n",
       "      <th>water_logged</th>\n",
       "      <th>beiwe</th>\n",
       "      <th>date</th>\n",
       "    </tr>\n",
       "  </thead>\n",
       "  <tbody>\n",
       "    <tr>\n",
       "      <th>0</th>\n",
       "      <td>2020-05-13</td>\n",
       "      <td>2781.0</td>\n",
       "      <td>1876.0</td>\n",
       "      <td>9207</td>\n",
       "      <td>4.396294</td>\n",
       "      <td>1241</td>\n",
       "      <td>70</td>\n",
       "      <td>118</td>\n",
       "      <td>11</td>\n",
       "      <td>1097.0</td>\n",
       "      <td>23.754</td>\n",
       "      <td>0.0</td>\n",
       "      <td>180.0</td>\n",
       "      <td>0.0</td>\n",
       "      <td>0.0</td>\n",
       "      <td>hfttkth7</td>\n",
       "      <td>2020-05-13</td>\n",
       "    </tr>\n",
       "    <tr>\n",
       "      <th>1</th>\n",
       "      <td>2020-05-14</td>\n",
       "      <td>3727.0</td>\n",
       "      <td>1876.0</td>\n",
       "      <td>15207</td>\n",
       "      <td>7.261114</td>\n",
       "      <td>614</td>\n",
       "      <td>263</td>\n",
       "      <td>134</td>\n",
       "      <td>23</td>\n",
       "      <td>2234.0</td>\n",
       "      <td>23.754</td>\n",
       "      <td>0.0</td>\n",
       "      <td>180.0</td>\n",
       "      <td>0.0</td>\n",
       "      <td>0.0</td>\n",
       "      <td>hfttkth7</td>\n",
       "      <td>2020-05-14</td>\n",
       "    </tr>\n",
       "    <tr>\n",
       "      <th>2</th>\n",
       "      <td>2020-05-15</td>\n",
       "      <td>3909.0</td>\n",
       "      <td>1876.0</td>\n",
       "      <td>14556</td>\n",
       "      <td>8.028501</td>\n",
       "      <td>577</td>\n",
       "      <td>205</td>\n",
       "      <td>57</td>\n",
       "      <td>108</td>\n",
       "      <td>2381.0</td>\n",
       "      <td>23.754</td>\n",
       "      <td>0.0</td>\n",
       "      <td>180.0</td>\n",
       "      <td>0.0</td>\n",
       "      <td>0.0</td>\n",
       "      <td>hfttkth7</td>\n",
       "      <td>2020-05-15</td>\n",
       "    </tr>\n",
       "    <tr>\n",
       "      <th>3</th>\n",
       "      <td>2020-05-16</td>\n",
       "      <td>3927.0</td>\n",
       "      <td>1876.0</td>\n",
       "      <td>18453</td>\n",
       "      <td>8.748670</td>\n",
       "      <td>760</td>\n",
       "      <td>176</td>\n",
       "      <td>24</td>\n",
       "      <td>151</td>\n",
       "      <td>2364.0</td>\n",
       "      <td>23.754</td>\n",
       "      <td>0.0</td>\n",
       "      <td>180.0</td>\n",
       "      <td>0.0</td>\n",
       "      <td>0.0</td>\n",
       "      <td>hfttkth7</td>\n",
       "      <td>2020-05-16</td>\n",
       "    </tr>\n",
       "    <tr>\n",
       "      <th>4</th>\n",
       "      <td>2020-05-17</td>\n",
       "      <td>4180.0</td>\n",
       "      <td>1876.0</td>\n",
       "      <td>15425</td>\n",
       "      <td>7.973149</td>\n",
       "      <td>605</td>\n",
       "      <td>207</td>\n",
       "      <td>50</td>\n",
       "      <td>131</td>\n",
       "      <td>2652.0</td>\n",
       "      <td>23.754</td>\n",
       "      <td>0.0</td>\n",
       "      <td>180.0</td>\n",
       "      <td>0.0</td>\n",
       "      <td>0.0</td>\n",
       "      <td>hfttkth7</td>\n",
       "      <td>2020-05-17</td>\n",
       "    </tr>\n",
       "  </tbody>\n",
       "</table>\n",
       "</div>"
      ],
      "text/plain": [
       "   timestamp  calories     bmr  steps  distance  sedentary_minutes  \\\n",
       "0 2020-05-13    2781.0  1876.0   9207  4.396294               1241   \n",
       "1 2020-05-14    3727.0  1876.0  15207  7.261114                614   \n",
       "2 2020-05-15    3909.0  1876.0  14556  8.028501                577   \n",
       "3 2020-05-16    3927.0  1876.0  18453  8.748670                760   \n",
       "4 2020-05-17    4180.0  1876.0  15425  7.973149                605   \n",
       "\n",
       "   lightly_active_minutes  fairly_active_minutes  very_active_minutes  \\\n",
       "0                      70                    118                   11   \n",
       "1                     263                    134                   23   \n",
       "2                     205                     57                  108   \n",
       "3                     176                     24                  151   \n",
       "4                     207                     50                  131   \n",
       "\n",
       "   calories_from_activities     bmi  fat  weight  food_calories_logged  \\\n",
       "0                    1097.0  23.754  0.0   180.0                   0.0   \n",
       "1                    2234.0  23.754  0.0   180.0                   0.0   \n",
       "2                    2381.0  23.754  0.0   180.0                   0.0   \n",
       "3                    2364.0  23.754  0.0   180.0                   0.0   \n",
       "4                    2652.0  23.754  0.0   180.0                   0.0   \n",
       "\n",
       "   water_logged     beiwe        date  \n",
       "0           0.0  hfttkth7  2020-05-13  \n",
       "1           0.0  hfttkth7  2020-05-14  \n",
       "2           0.0  hfttkth7  2020-05-15  \n",
       "3           0.0  hfttkth7  2020-05-16  \n",
       "4           0.0  hfttkth7  2020-05-17  "
      ]
     },
     "execution_count": 8,
     "metadata": {},
     "output_type": "execute_result"
    }
   ],
   "source": [
    "act_daily = pd.read_csv(\"../data/processed/fitbit-daily-ux_s20.csv\",parse_dates=[\"timestamp\"],infer_datetime_format=True)\n",
    "act_daily[\"date\"] = act_daily[\"timestamp\"].dt.date\n",
    "act_daily.head()"
   ]
  },
  {
   "cell_type": "code",
   "execution_count": 9,
   "metadata": {},
   "outputs": [
    {
     "data": {
      "text/html": [
       "<div>\n",
       "<style scoped>\n",
       "    .dataframe tbody tr th:only-of-type {\n",
       "        vertical-align: middle;\n",
       "    }\n",
       "\n",
       "    .dataframe tbody tr th {\n",
       "        vertical-align: top;\n",
       "    }\n",
       "\n",
       "    .dataframe thead th {\n",
       "        text-align: right;\n",
       "    }\n",
       "</style>\n",
       "<table border=\"1\" class=\"dataframe\">\n",
       "  <thead>\n",
       "    <tr style=\"text-align: right;\">\n",
       "      <th></th>\n",
       "      <th>timestamp</th>\n",
       "      <th>calories</th>\n",
       "      <th>steps</th>\n",
       "      <th>distance</th>\n",
       "      <th>heartrate</th>\n",
       "      <th>beiwe</th>\n",
       "    </tr>\n",
       "  </thead>\n",
       "  <tbody>\n",
       "    <tr>\n",
       "      <th>0</th>\n",
       "      <td>2020-05-13 17:39:00</td>\n",
       "      <td>1.69377</td>\n",
       "      <td>NaN</td>\n",
       "      <td>NaN</td>\n",
       "      <td>77.333333</td>\n",
       "      <td>hfttkth7</td>\n",
       "    </tr>\n",
       "    <tr>\n",
       "      <th>1</th>\n",
       "      <td>2020-05-13 17:40:00</td>\n",
       "      <td>1.69377</td>\n",
       "      <td>NaN</td>\n",
       "      <td>NaN</td>\n",
       "      <td>77.600000</td>\n",
       "      <td>hfttkth7</td>\n",
       "    </tr>\n",
       "    <tr>\n",
       "      <th>2</th>\n",
       "      <td>2020-05-13 17:41:00</td>\n",
       "      <td>4.42986</td>\n",
       "      <td>33.0</td>\n",
       "      <td>0.015721</td>\n",
       "      <td>79.000000</td>\n",
       "      <td>hfttkth7</td>\n",
       "    </tr>\n",
       "    <tr>\n",
       "      <th>3</th>\n",
       "      <td>2020-05-13 17:42:00</td>\n",
       "      <td>1.69377</td>\n",
       "      <td>NaN</td>\n",
       "      <td>NaN</td>\n",
       "      <td>83.416667</td>\n",
       "      <td>hfttkth7</td>\n",
       "    </tr>\n",
       "    <tr>\n",
       "      <th>4</th>\n",
       "      <td>2020-05-13 17:43:00</td>\n",
       "      <td>1.43319</td>\n",
       "      <td>NaN</td>\n",
       "      <td>NaN</td>\n",
       "      <td>63.666667</td>\n",
       "      <td>hfttkth7</td>\n",
       "    </tr>\n",
       "  </tbody>\n",
       "</table>\n",
       "</div>"
      ],
      "text/plain": [
       "            timestamp  calories  steps  distance  heartrate     beiwe\n",
       "0 2020-05-13 17:39:00   1.69377    NaN       NaN  77.333333  hfttkth7\n",
       "1 2020-05-13 17:40:00   1.69377    NaN       NaN  77.600000  hfttkth7\n",
       "2 2020-05-13 17:41:00   4.42986   33.0  0.015721  79.000000  hfttkth7\n",
       "3 2020-05-13 17:42:00   1.69377    NaN       NaN  83.416667  hfttkth7\n",
       "4 2020-05-13 17:43:00   1.43319    NaN       NaN  63.666667  hfttkth7"
      ]
     },
     "execution_count": 9,
     "metadata": {},
     "output_type": "execute_result"
    }
   ],
   "source": [
    "act_hourly = pd.read_csv(\"../data/processed/fitbit-intraday-ux_s20.csv\",parse_dates=[\"timestamp\"],infer_datetime_format=True)\n",
    "act_hourly.head()"
   ]
  },
  {
   "cell_type": "markdown",
   "metadata": {},
   "source": [
    "### Fitbit Sleep"
   ]
  },
  {
   "cell_type": "code",
   "execution_count": 10,
   "metadata": {},
   "outputs": [
    {
     "data": {
      "text/html": [
       "<div>\n",
       "<style scoped>\n",
       "    .dataframe tbody tr th:only-of-type {\n",
       "        vertical-align: middle;\n",
       "    }\n",
       "\n",
       "    .dataframe tbody tr th {\n",
       "        vertical-align: top;\n",
       "    }\n",
       "\n",
       "    .dataframe thead th {\n",
       "        text-align: right;\n",
       "    }\n",
       "</style>\n",
       "<table border=\"1\" class=\"dataframe\">\n",
       "  <thead>\n",
       "    <tr style=\"text-align: right;\">\n",
       "      <th></th>\n",
       "      <th>start_date</th>\n",
       "      <th>end_date</th>\n",
       "      <th>deep_count</th>\n",
       "      <th>deep_minutes</th>\n",
       "      <th>light_count</th>\n",
       "      <th>light_minutes</th>\n",
       "      <th>rem_count</th>\n",
       "      <th>rem_minutes</th>\n",
       "      <th>wake_count</th>\n",
       "      <th>wake_minutes</th>\n",
       "      <th>beiwe</th>\n",
       "      <th>efficiency</th>\n",
       "      <th>end_time</th>\n",
       "      <th>start_time</th>\n",
       "      <th>redcap</th>\n",
       "      <th>beacon</th>\n",
       "      <th>nrem_count</th>\n",
       "      <th>nrem_minutes</th>\n",
       "      <th>rem2nrem</th>\n",
       "      <th>tst_fb</th>\n",
       "      <th>rem_percent</th>\n",
       "      <th>nrem_percent</th>\n",
       "      <th>light_percent</th>\n",
       "      <th>deep_percent</th>\n",
       "      <th>waso</th>\n",
       "      <th>sol_fb</th>\n",
       "      <th>wol_fb</th>\n",
       "      <th>date</th>\n",
       "    </tr>\n",
       "  </thead>\n",
       "  <tbody>\n",
       "    <tr>\n",
       "      <th>0</th>\n",
       "      <td>2020-05-14</td>\n",
       "      <td>2020-05-14</td>\n",
       "      <td>5.0</td>\n",
       "      <td>84.0</td>\n",
       "      <td>20.0</td>\n",
       "      <td>213.0</td>\n",
       "      <td>10.0</td>\n",
       "      <td>82.0</td>\n",
       "      <td>21.0</td>\n",
       "      <td>27.0</td>\n",
       "      <td>hfttkth7</td>\n",
       "      <td>93.349754</td>\n",
       "      <td>2020-05-14 07:13:00</td>\n",
       "      <td>2020-05-14 00:27:00</td>\n",
       "      <td>NaN</td>\n",
       "      <td>NaN</td>\n",
       "      <td>25.0</td>\n",
       "      <td>297.0</td>\n",
       "      <td>0.276094</td>\n",
       "      <td>6.316667</td>\n",
       "      <td>0.216359</td>\n",
       "      <td>0.783641</td>\n",
       "      <td>0.562005</td>\n",
       "      <td>0.221636</td>\n",
       "      <td>18.5</td>\n",
       "      <td>8.5</td>\n",
       "      <td>0.0</td>\n",
       "      <td>2020-05-14</td>\n",
       "    </tr>\n",
       "    <tr>\n",
       "      <th>1</th>\n",
       "      <td>2020-05-14</td>\n",
       "      <td>2020-05-15</td>\n",
       "      <td>4.0</td>\n",
       "      <td>95.0</td>\n",
       "      <td>31.0</td>\n",
       "      <td>250.0</td>\n",
       "      <td>6.0</td>\n",
       "      <td>47.0</td>\n",
       "      <td>33.0</td>\n",
       "      <td>101.0</td>\n",
       "      <td>hfttkth7</td>\n",
       "      <td>79.513185</td>\n",
       "      <td>2020-05-15 08:06:30</td>\n",
       "      <td>2020-05-14 23:53:30</td>\n",
       "      <td>NaN</td>\n",
       "      <td>NaN</td>\n",
       "      <td>35.0</td>\n",
       "      <td>345.0</td>\n",
       "      <td>0.136232</td>\n",
       "      <td>6.533333</td>\n",
       "      <td>0.119898</td>\n",
       "      <td>0.880102</td>\n",
       "      <td>0.637755</td>\n",
       "      <td>0.242347</td>\n",
       "      <td>68.5</td>\n",
       "      <td>0.0</td>\n",
       "      <td>32.5</td>\n",
       "      <td>2020-05-15</td>\n",
       "    </tr>\n",
       "    <tr>\n",
       "      <th>2</th>\n",
       "      <td>2020-05-15</td>\n",
       "      <td>2020-05-16</td>\n",
       "      <td>2.0</td>\n",
       "      <td>47.0</td>\n",
       "      <td>17.0</td>\n",
       "      <td>190.0</td>\n",
       "      <td>8.0</td>\n",
       "      <td>50.0</td>\n",
       "      <td>20.0</td>\n",
       "      <td>42.0</td>\n",
       "      <td>hfttkth7</td>\n",
       "      <td>87.234043</td>\n",
       "      <td>2020-05-16 04:57:00</td>\n",
       "      <td>2020-05-15 23:28:00</td>\n",
       "      <td>NaN</td>\n",
       "      <td>NaN</td>\n",
       "      <td>19.0</td>\n",
       "      <td>237.0</td>\n",
       "      <td>0.210970</td>\n",
       "      <td>4.783333</td>\n",
       "      <td>0.174216</td>\n",
       "      <td>0.825784</td>\n",
       "      <td>0.662021</td>\n",
       "      <td>0.163763</td>\n",
       "      <td>19.5</td>\n",
       "      <td>11.5</td>\n",
       "      <td>11.0</td>\n",
       "      <td>2020-05-16</td>\n",
       "    </tr>\n",
       "    <tr>\n",
       "      <th>3</th>\n",
       "      <td>2020-05-17</td>\n",
       "      <td>2020-05-17</td>\n",
       "      <td>5.0</td>\n",
       "      <td>78.0</td>\n",
       "      <td>21.0</td>\n",
       "      <td>242.0</td>\n",
       "      <td>11.0</td>\n",
       "      <td>83.0</td>\n",
       "      <td>25.0</td>\n",
       "      <td>44.0</td>\n",
       "      <td>hfttkth7</td>\n",
       "      <td>90.156600</td>\n",
       "      <td>2020-05-17 09:28:30</td>\n",
       "      <td>2020-05-17 02:01:30</td>\n",
       "      <td>NaN</td>\n",
       "      <td>NaN</td>\n",
       "      <td>26.0</td>\n",
       "      <td>320.0</td>\n",
       "      <td>0.259375</td>\n",
       "      <td>6.716667</td>\n",
       "      <td>0.205955</td>\n",
       "      <td>0.794045</td>\n",
       "      <td>0.600496</td>\n",
       "      <td>0.193548</td>\n",
       "      <td>23.0</td>\n",
       "      <td>12.5</td>\n",
       "      <td>8.5</td>\n",
       "      <td>2020-05-17</td>\n",
       "    </tr>\n",
       "    <tr>\n",
       "      <th>4</th>\n",
       "      <td>2020-05-18</td>\n",
       "      <td>2020-05-18</td>\n",
       "      <td>5.0</td>\n",
       "      <td>96.0</td>\n",
       "      <td>20.0</td>\n",
       "      <td>167.0</td>\n",
       "      <td>14.0</td>\n",
       "      <td>88.0</td>\n",
       "      <td>28.0</td>\n",
       "      <td>65.0</td>\n",
       "      <td>hfttkth7</td>\n",
       "      <td>84.375000</td>\n",
       "      <td>2020-05-18 07:20:00</td>\n",
       "      <td>2020-05-18 00:24:00</td>\n",
       "      <td>NaN</td>\n",
       "      <td>NaN</td>\n",
       "      <td>25.0</td>\n",
       "      <td>263.0</td>\n",
       "      <td>0.334601</td>\n",
       "      <td>5.850000</td>\n",
       "      <td>0.250712</td>\n",
       "      <td>0.749288</td>\n",
       "      <td>0.475783</td>\n",
       "      <td>0.273504</td>\n",
       "      <td>53.5</td>\n",
       "      <td>11.5</td>\n",
       "      <td>0.0</td>\n",
       "      <td>2020-05-18</td>\n",
       "    </tr>\n",
       "  </tbody>\n",
       "</table>\n",
       "</div>"
      ],
      "text/plain": [
       "  start_date   end_date  deep_count  deep_minutes  light_count  light_minutes  \\\n",
       "0 2020-05-14 2020-05-14         5.0          84.0         20.0          213.0   \n",
       "1 2020-05-14 2020-05-15         4.0          95.0         31.0          250.0   \n",
       "2 2020-05-15 2020-05-16         2.0          47.0         17.0          190.0   \n",
       "3 2020-05-17 2020-05-17         5.0          78.0         21.0          242.0   \n",
       "4 2020-05-18 2020-05-18         5.0          96.0         20.0          167.0   \n",
       "\n",
       "   rem_count  rem_minutes  wake_count  wake_minutes     beiwe  efficiency  \\\n",
       "0       10.0         82.0        21.0          27.0  hfttkth7   93.349754   \n",
       "1        6.0         47.0        33.0         101.0  hfttkth7   79.513185   \n",
       "2        8.0         50.0        20.0          42.0  hfttkth7   87.234043   \n",
       "3       11.0         83.0        25.0          44.0  hfttkth7   90.156600   \n",
       "4       14.0         88.0        28.0          65.0  hfttkth7   84.375000   \n",
       "\n",
       "             end_time          start_time  redcap  beacon  nrem_count  \\\n",
       "0 2020-05-14 07:13:00 2020-05-14 00:27:00     NaN     NaN        25.0   \n",
       "1 2020-05-15 08:06:30 2020-05-14 23:53:30     NaN     NaN        35.0   \n",
       "2 2020-05-16 04:57:00 2020-05-15 23:28:00     NaN     NaN        19.0   \n",
       "3 2020-05-17 09:28:30 2020-05-17 02:01:30     NaN     NaN        26.0   \n",
       "4 2020-05-18 07:20:00 2020-05-18 00:24:00     NaN     NaN        25.0   \n",
       "\n",
       "   nrem_minutes  rem2nrem    tst_fb  rem_percent  nrem_percent  light_percent  \\\n",
       "0         297.0  0.276094  6.316667     0.216359      0.783641       0.562005   \n",
       "1         345.0  0.136232  6.533333     0.119898      0.880102       0.637755   \n",
       "2         237.0  0.210970  4.783333     0.174216      0.825784       0.662021   \n",
       "3         320.0  0.259375  6.716667     0.205955      0.794045       0.600496   \n",
       "4         263.0  0.334601  5.850000     0.250712      0.749288       0.475783   \n",
       "\n",
       "   deep_percent  waso  sol_fb  wol_fb        date  \n",
       "0      0.221636  18.5     8.5     0.0  2020-05-14  \n",
       "1      0.242347  68.5     0.0    32.5  2020-05-15  \n",
       "2      0.163763  19.5    11.5    11.0  2020-05-16  \n",
       "3      0.193548  23.0    12.5     8.5  2020-05-17  \n",
       "4      0.273504  53.5    11.5     0.0  2020-05-18  "
      ]
     },
     "execution_count": 10,
     "metadata": {},
     "output_type": "execute_result"
    }
   ],
   "source": [
    "sleep_fb = pd.read_csv(\"../data/processed/fitbit-sleep_summary-ux_s20.csv\",\n",
    "                       parse_dates=[\"start_date\",\"end_date\",\"end_time\",\"start_time\"],infer_datetime_format=True)\n",
    "sleep_fb[\"date\"] = sleep_fb[\"end_date\"].dt.date\n",
    "sleep_fb.head()"
   ]
  },
  {
   "cell_type": "markdown",
   "metadata": {},
   "source": [
    "---"
   ]
  },
  {
   "cell_type": "markdown",
   "metadata": {},
   "source": [
    "<a id='preprocessing'></a>"
   ]
  },
  {
   "cell_type": "markdown",
   "metadata": {},
   "source": [
    "# Pre-Processing"
   ]
  },
  {
   "cell_type": "markdown",
   "metadata": {},
   "source": [
    "## Combining EMAs\n",
    "Combining EMAs completed on the same day."
   ]
  },
  {
   "cell_type": "code",
   "execution_count": 11,
   "metadata": {},
   "outputs": [
    {
     "data": {
      "text/html": [
       "<div>\n",
       "<style scoped>\n",
       "    .dataframe tbody tr th:only-of-type {\n",
       "        vertical-align: middle;\n",
       "    }\n",
       "\n",
       "    .dataframe tbody tr th {\n",
       "        vertical-align: top;\n",
       "    }\n",
       "\n",
       "    .dataframe thead th {\n",
       "        text-align: right;\n",
       "    }\n",
       "</style>\n",
       "<table border=\"1\" class=\"dataframe\">\n",
       "  <thead>\n",
       "    <tr style=\"text-align: right;\">\n",
       "      <th></th>\n",
       "      <th>timestamp_e</th>\n",
       "      <th>beiwe</th>\n",
       "      <th>content_e</th>\n",
       "      <th>stress_e</th>\n",
       "      <th>lonely_e</th>\n",
       "      <th>sad_e</th>\n",
       "      <th>energy_e</th>\n",
       "      <th>redcap</th>\n",
       "      <th>beacon</th>\n",
       "      <th>date</th>\n",
       "      <th>timestamp_m</th>\n",
       "      <th>content_m</th>\n",
       "      <th>stress_m</th>\n",
       "      <th>lonely_m</th>\n",
       "      <th>sad_m</th>\n",
       "      <th>energy_m</th>\n",
       "      <th>tst</th>\n",
       "      <th>sol</th>\n",
       "      <th>naw</th>\n",
       "      <th>restful</th>\n",
       "    </tr>\n",
       "  </thead>\n",
       "  <tbody>\n",
       "    <tr>\n",
       "      <th>0</th>\n",
       "      <td>2020-05-13 19:00:23</td>\n",
       "      <td>awa8uces</td>\n",
       "      <td>1.0</td>\n",
       "      <td>1.0</td>\n",
       "      <td>1.0</td>\n",
       "      <td>3.0</td>\n",
       "      <td>2.0</td>\n",
       "      <td>28</td>\n",
       "      <td>26.0</td>\n",
       "      <td>2020-05-13</td>\n",
       "      <td>2020-05-13 09:15:49</td>\n",
       "      <td>0.0</td>\n",
       "      <td>2.0</td>\n",
       "      <td>1.0</td>\n",
       "      <td>1.0</td>\n",
       "      <td>1.0</td>\n",
       "      <td>2.0</td>\n",
       "      <td>10.0</td>\n",
       "      <td>3.0</td>\n",
       "      <td>1.0</td>\n",
       "    </tr>\n",
       "    <tr>\n",
       "      <th>1</th>\n",
       "      <td>2020-05-13 19:21:32</td>\n",
       "      <td>lkkjddam</td>\n",
       "      <td>0.0</td>\n",
       "      <td>2.0</td>\n",
       "      <td>3.0</td>\n",
       "      <td>1.0</td>\n",
       "      <td>0.0</td>\n",
       "      <td>12</td>\n",
       "      <td>21.0</td>\n",
       "      <td>2020-05-13</td>\n",
       "      <td>2020-05-13 12:30:38</td>\n",
       "      <td>1</td>\n",
       "      <td>1.0</td>\n",
       "      <td>3.0</td>\n",
       "      <td>3.0</td>\n",
       "      <td>2.0</td>\n",
       "      <td>7.0</td>\n",
       "      <td>45.0</td>\n",
       "      <td>2.0</td>\n",
       "      <td>1.0</td>\n",
       "    </tr>\n",
       "    <tr>\n",
       "      <th>2</th>\n",
       "      <td>2020-05-13 19:30:38</td>\n",
       "      <td>rvhdl2la</td>\n",
       "      <td>2.0</td>\n",
       "      <td>1.0</td>\n",
       "      <td>0.0</td>\n",
       "      <td>0.0</td>\n",
       "      <td>1.0</td>\n",
       "      <td>29</td>\n",
       "      <td>NaN</td>\n",
       "      <td>2020-05-13</td>\n",
       "      <td>2020-05-13 09:43:27</td>\n",
       "      <td>1</td>\n",
       "      <td>1.0</td>\n",
       "      <td>2.0</td>\n",
       "      <td>3.0</td>\n",
       "      <td>0.0</td>\n",
       "      <td>5.3</td>\n",
       "      <td>5.0</td>\n",
       "      <td>2.0</td>\n",
       "      <td>2.0</td>\n",
       "    </tr>\n",
       "    <tr>\n",
       "      <th>3</th>\n",
       "      <td>2020-05-13 20:07:04</td>\n",
       "      <td>xxvnhauv</td>\n",
       "      <td>1.0</td>\n",
       "      <td>3.0</td>\n",
       "      <td>1.0</td>\n",
       "      <td>2.0</td>\n",
       "      <td>0.0</td>\n",
       "      <td>21</td>\n",
       "      <td>22.0</td>\n",
       "      <td>2020-05-13</td>\n",
       "      <td>2020-05-13 09:42:19</td>\n",
       "      <td>1</td>\n",
       "      <td>1.0</td>\n",
       "      <td>1.0</td>\n",
       "      <td>3.0</td>\n",
       "      <td>0.0</td>\n",
       "      <td>6.0</td>\n",
       "      <td>30.0</td>\n",
       "      <td>3.0</td>\n",
       "      <td>1.0</td>\n",
       "    </tr>\n",
       "    <tr>\n",
       "      <th>4</th>\n",
       "      <td>2020-05-13 20:25:07</td>\n",
       "      <td>xdbdrk6e</td>\n",
       "      <td>2.0</td>\n",
       "      <td>1.0</td>\n",
       "      <td>2.0</td>\n",
       "      <td>1.0</td>\n",
       "      <td>3.0</td>\n",
       "      <td>23</td>\n",
       "      <td>24.0</td>\n",
       "      <td>2020-05-13</td>\n",
       "      <td>2020-05-13 18:16:29</td>\n",
       "      <td>2</td>\n",
       "      <td>1.0</td>\n",
       "      <td>2.0</td>\n",
       "      <td>1.0</td>\n",
       "      <td>2.0</td>\n",
       "      <td>8.0</td>\n",
       "      <td>20.0</td>\n",
       "      <td>3.0</td>\n",
       "      <td>2.0</td>\n",
       "    </tr>\n",
       "  </tbody>\n",
       "</table>\n",
       "</div>"
      ],
      "text/plain": [
       "          timestamp_e     beiwe  content_e  stress_e  lonely_e  sad_e  \\\n",
       "0 2020-05-13 19:00:23  awa8uces        1.0       1.0       1.0    3.0   \n",
       "1 2020-05-13 19:21:32  lkkjddam        0.0       2.0       3.0    1.0   \n",
       "2 2020-05-13 19:30:38  rvhdl2la        2.0       1.0       0.0    0.0   \n",
       "3 2020-05-13 20:07:04  xxvnhauv        1.0       3.0       1.0    2.0   \n",
       "4 2020-05-13 20:25:07  xdbdrk6e        2.0       1.0       2.0    1.0   \n",
       "\n",
       "   energy_e  redcap  beacon        date         timestamp_m content_m  \\\n",
       "0       2.0      28    26.0  2020-05-13 2020-05-13 09:15:49       0.0   \n",
       "1       0.0      12    21.0  2020-05-13 2020-05-13 12:30:38         1   \n",
       "2       1.0      29     NaN  2020-05-13 2020-05-13 09:43:27         1   \n",
       "3       0.0      21    22.0  2020-05-13 2020-05-13 09:42:19         1   \n",
       "4       3.0      23    24.0  2020-05-13 2020-05-13 18:16:29         2   \n",
       "\n",
       "   stress_m  lonely_m  sad_m  energy_m  tst   sol  naw  restful  \n",
       "0       2.0       1.0    1.0       1.0  2.0  10.0  3.0      1.0  \n",
       "1       1.0       3.0    3.0       2.0  7.0  45.0  2.0      1.0  \n",
       "2       1.0       2.0    3.0       0.0  5.3   5.0  2.0      2.0  \n",
       "3       1.0       1.0    3.0       0.0  6.0  30.0  3.0      1.0  \n",
       "4       1.0       2.0    1.0       2.0  8.0  20.0  3.0      2.0  "
      ]
     },
     "execution_count": 11,
     "metadata": {},
     "output_type": "execute_result"
    }
   ],
   "source": [
    "ema = ema_e.merge(ema_m,on=[\"beiwe\",\"redcap\",\"beacon\",\"date\"],suffixes=[\"_e\",\"_m\"])\n",
    "ema.head()"
   ]
  },
  {
   "cell_type": "markdown",
   "metadata": {},
   "source": [
    "## Integrating Activity Data"
   ]
  },
  {
   "cell_type": "code",
   "execution_count": 12,
   "metadata": {},
   "outputs": [],
   "source": [
    "def add_fb_activity(df,fb_df,fb_label=\"steps\"):\n",
    "    \"\"\"\n",
    "    Adds the given Fitbit metric to the provided df\n",
    "    \n",
    "    \"\"\"\n",
    "    fb_df[\"date\"] = fb_df[\"timestamp\"].dt.date\n",
    "    merged = fb_df.merge(df,on=[\"beiwe\",\"date\"],how=\"inner\",suffixes=[\"_fb\",\"_ema\"])\n",
    "    data = {\"beiwe\":[],\"date\":[],fb_label:[]}\n",
    "    for pt in merged[\"beiwe\"].unique():\n",
    "        merged_pt = merged[merged[\"beiwe\"] == pt]\n",
    "        for d in merged_pt[\"date\"].unique():\n",
    "            merged_pt_d = merged_pt[merged_pt[\"date\"] == d]\n",
    "            try:\n",
    "                merged_pt_d.set_index(\"timestamp\",inplace=True)\n",
    "                merged_pt_d = merged_pt_d[:merged_pt_d[\"timestamp_e\"][0]]\n",
    "            except KeyError:\n",
    "                merged_pt_d.set_index(\"timestamp_fb\",inplace=True)\n",
    "                merged_pt_d = merged_pt_d[:merged_pt_d[\"timestamp_ema\"][0]]\n",
    "            for key, val in zip(data.keys(),[pt,d,merged_pt_d[fb_label].sum()]):\n",
    "                data[key].append(val)\n",
    "                \n",
    "    return df.merge(right=pd.DataFrame(data=data),on=[\"beiwe\",\"date\"])"
   ]
  },
  {
   "cell_type": "code",
   "execution_count": 13,
   "metadata": {},
   "outputs": [],
   "source": [
    "def add_fb_percentage(df,df_fb):\n",
    "    \"\"\"\n",
    "    Adds the percentage of time the participant was wearing their Fitbit based on the activity minutes per day\n",
    "    \n",
    "    \"\"\"\n",
    "    df_fb[\"active_minutes\"] = df_fb[[col for col in df_fb.columns if col.endswith(\"minutes\")]].sum(axis=1)\n",
    "    df_fb[\"active_percent\"] = df_fb[\"active_minutes\"] / 1440\n",
    "    \n",
    "    return df.merge(right=df_fb[[\"beiwe\",\"date\",\"active_percent\"]],on=[\"beiwe\",\"date\"])"
   ]
  },
  {
   "cell_type": "code",
   "execution_count": 14,
   "metadata": {},
   "outputs": [],
   "source": [
    "temp = add_fb_activity(ema,act_hourly)\n",
    "ema_activity = add_fb_percentage(temp,act_daily)"
   ]
  },
  {
   "cell_type": "markdown",
   "metadata": {},
   "source": [
    "## Integrating Objective Sleep Data"
   ]
  },
  {
   "cell_type": "code",
   "execution_count": 15,
   "metadata": {},
   "outputs": [],
   "source": [
    "def add_fb_sleep(df,df_fb):\n",
    "    \"\"\"\n",
    "    Adds the objective sleep data from Fitbit to the give dataframe\n",
    "    \n",
    "    \"\"\"\n",
    "    return df.merge(right=df_fb,on=[\"beiwe\",\"redcap\",\"beacon\",\"date\"])"
   ]
  },
  {
   "cell_type": "code",
   "execution_count": 16,
   "metadata": {},
   "outputs": [],
   "source": [
    "data = add_fb_sleep(ema_activity,sleep_fb)"
   ]
  },
  {
   "cell_type": "markdown",
   "metadata": {},
   "source": [
    "<div class=\"alert alert-block alert-success\">\n",
    "    \n",
    "We have 974 observations when combining all datasets together: previous mood, activity, and sleep before filtering of any kind.  \n",
    "    \n",
    "</div>"
   ]
  },
  {
   "cell_type": "markdown",
   "metadata": {},
   "source": [
    "---"
   ]
  },
  {
   "cell_type": "markdown",
   "metadata": {},
   "source": [
    "<a id='summary'></a>"
   ]
  },
  {
   "cell_type": "markdown",
   "metadata": {},
   "source": [
    "# Summary\n",
    "The following cells summarize the available data for analysis and save them to the `processed` directory for future analysis."
   ]
  },
  {
   "cell_type": "markdown",
   "metadata": {},
   "source": [
    "## Daily EMAs\n",
    "We have actually already saved these data to a file. We can compare just to make sure."
   ]
  },
  {
   "cell_type": "code",
   "execution_count": 17,
   "metadata": {},
   "outputs": [
    {
     "name": "stdout",
     "output_type": "stream",
     "text": [
      "True\n"
     ]
    }
   ],
   "source": [
    "emas = pd.read_csv(\"../data/processed/beiwe-daily_ema-ux_s20.csv\")\n",
    "print(len(ema) == len(emas))"
   ]
  },
  {
   "cell_type": "markdown",
   "metadata": {},
   "source": [
    "<div class=\"alert alert-block alert-success\">\n",
    "    \n",
    "Just considering the EMAs, we have a total of **2149** observations constituting both mood and morning sleep reports.\n",
    "    \n",
    "</div>"
   ]
  },
  {
   "cell_type": "code",
   "execution_count": 18,
   "metadata": {},
   "outputs": [],
   "source": [
    "ema.to_csv(\"../data/interim/mood_prediction/beiwe-beiwe-ema_morning-ema_evening.csv\")"
   ]
  },
  {
   "cell_type": "markdown",
   "metadata": {},
   "source": [
    "## Activity and Evening EMA"
   ]
  },
  {
   "cell_type": "code",
   "execution_count": 19,
   "metadata": {},
   "outputs": [],
   "source": [
    "act_ema_e = add_fb_activity(ema_e,act_hourly)"
   ]
  },
  {
   "cell_type": "markdown",
   "metadata": {},
   "source": [
    "<div class=\"alert alert-block alert-success\">\n",
    "    \n",
    "Now looking at the activity data and evening EMAs, we have **1999** observations.\n",
    "    \n",
    "</div>"
   ]
  },
  {
   "cell_type": "code",
   "execution_count": 20,
   "metadata": {},
   "outputs": [],
   "source": [
    "act_ema_e.to_csv(\"../data/interim/mood_prediction/fitbit-beiwe-activity-ema_evening.csv\")"
   ]
  },
  {
   "cell_type": "markdown",
   "metadata": {},
   "source": [
    "## Sleep and Evening EMA"
   ]
  },
  {
   "cell_type": "code",
   "execution_count": 21,
   "metadata": {},
   "outputs": [],
   "source": [
    "sleep_ema_e = add_fb_sleep(ema_e,sleep_fb)"
   ]
  },
  {
   "cell_type": "markdown",
   "metadata": {},
   "source": [
    "<div class=\"alert alert-block alert-success\">\n",
    "    \n",
    "We have **1108** observations.\n",
    "    \n",
    "</div>"
   ]
  },
  {
   "cell_type": "code",
   "execution_count": 22,
   "metadata": {},
   "outputs": [],
   "source": [
    "sleep_ema_e.to_csv(\"../data/interim/mood_prediction/fitbit-beiwe-sleep-ema_evening.csv\")"
   ]
  },
  {
   "cell_type": "markdown",
   "metadata": {},
   "source": [
    "## Activity and EMAs"
   ]
  },
  {
   "cell_type": "code",
   "execution_count": 45,
   "metadata": {},
   "outputs": [
    {
     "name": "stdout",
     "output_type": "stream",
     "text": [
      "Number of Observations: 1402\n",
      "Number of Pariticpants: 51\n"
     ]
    }
   ],
   "source": [
    "print(\"Number of Observations:\",len(ema_activity))\n",
    "print(\"Number of Pariticpants:\",len(ema_activity[\"beiwe\"].unique()))"
   ]
  },
  {
   "cell_type": "markdown",
   "metadata": {},
   "source": [
    "<div class=\"alert alert-block alert-success\">\n",
    "    \n",
    "We have **1402** observations.\n",
    "    \n",
    "</div>"
   ]
  },
  {
   "cell_type": "code",
   "execution_count": 24,
   "metadata": {},
   "outputs": [],
   "source": [
    "ema_activity.to_csv(\"../data/interim/mood_prediction/fitbit-beiwe-beiwe-activity-ema_morning-ema_evening.csv\")"
   ]
  },
  {
   "cell_type": "markdown",
   "metadata": {},
   "source": [
    "## Sleep and EMAs"
   ]
  },
  {
   "cell_type": "code",
   "execution_count": 25,
   "metadata": {},
   "outputs": [],
   "source": [
    "ema_sleep = add_fb_sleep(ema,sleep_fb)"
   ]
  },
  {
   "cell_type": "markdown",
   "metadata": {},
   "source": [
    "<div class=\"alert alert-block alert-success\">\n",
    "    \n",
    "We have **976** observations.\n",
    "    \n",
    "</div>"
   ]
  },
  {
   "cell_type": "code",
   "execution_count": 26,
   "metadata": {},
   "outputs": [],
   "source": [
    "ema_sleep.to_csv(\"../data/interim/mood_prediction/fitbit-beiwe-beiwe-sleep-ema_morning-ema_evening.csv\")"
   ]
  },
  {
   "cell_type": "markdown",
   "metadata": {},
   "source": [
    "## Activity, Sleep, and Evening EMA"
   ]
  },
  {
   "cell_type": "code",
   "execution_count": 27,
   "metadata": {},
   "outputs": [],
   "source": [
    "act_sleep_ema_e = add_fb_sleep(act_ema_e,sleep_fb)"
   ]
  },
  {
   "cell_type": "markdown",
   "metadata": {},
   "source": [
    "<div class=\"alert alert-block alert-success\">\n",
    "    \n",
    "We have **1106** observations - only two fewer than when we consider just sleep and the evening EMA.\n",
    "    \n",
    "</div>"
   ]
  },
  {
   "cell_type": "code",
   "execution_count": 28,
   "metadata": {},
   "outputs": [],
   "source": [
    "act_sleep_ema_e.to_csv(\"../data/interim/mood_prediction/fitbit-fitbit-beiwe-activity-sleep-ema_evening.csv\")"
   ]
  },
  {
   "cell_type": "markdown",
   "metadata": {},
   "source": [
    "## Combined\n",
    "All the datasets combined"
   ]
  },
  {
   "cell_type": "code",
   "execution_count": 29,
   "metadata": {},
   "outputs": [
    {
     "name": "stdout",
     "output_type": "stream",
     "text": [
      "Number of Observations: 974\n"
     ]
    }
   ],
   "source": [
    "print(\"Number of Observations:\",len(data))"
   ]
  },
  {
   "cell_type": "markdown",
   "metadata": {},
   "source": [
    "<div class=\"alert alert-block alert-success\">\n",
    "    \n",
    "We have **974** observations - again just two fewer than when we include activity with the EMAs and sleep.\n",
    "    \n",
    "</div>"
   ]
  },
  {
   "cell_type": "code",
   "execution_count": 30,
   "metadata": {},
   "outputs": [],
   "source": [
    "data.to_csv(\"../data/interim/mood_prediction/fitbit-fitbit-beiwe-beiwe-activity-sleep-ema_morning-ema_evening.csv\")"
   ]
  },
  {
   "cell_type": "markdown",
   "metadata": {},
   "source": [
    "---"
   ]
  },
  {
   "cell_type": "markdown",
   "metadata": {},
   "source": [
    "[Back to Top](#top)"
   ]
  }
 ],
 "metadata": {
  "kernelspec": {
   "display_name": "Python 3",
   "language": "python",
   "name": "python3"
  },
  "language_info": {
   "codemirror_mode": {
    "name": "ipython",
    "version": 3
   },
   "file_extension": ".py",
   "mimetype": "text/x-python",
   "name": "python",
   "nbconvert_exporter": "python",
   "pygments_lexer": "ipython3",
   "version": "3.8.8"
  },
  "toc": {
   "base_numbering": 1,
   "nav_menu": {},
   "number_sections": false,
   "sideBar": false,
   "skip_h1_title": false,
   "title_cell": "Table of Contents",
   "title_sidebar": "Contents",
   "toc_cell": false,
   "toc_position": {},
   "toc_section_display": false,
   "toc_window_display": false
  }
 },
 "nbformat": 4,
 "nbformat_minor": 4
}
