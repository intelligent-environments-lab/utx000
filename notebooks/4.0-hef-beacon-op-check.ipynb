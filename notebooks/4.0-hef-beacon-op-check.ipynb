{
 "cells": [
  {
   "cell_type": "markdown",
   "metadata": {},
   "source": [
    "# Beacon Operation Check-Up\n",
    "The purpose of this notebook is to check on the beacons and make sure they are operating before sending them out to participants."
   ]
  },
  {
   "cell_type": "code",
   "execution_count": 22,
   "metadata": {},
   "outputs": [],
   "source": [
    "import pandas as pd\n",
    "import numpy as np\n",
    "import os"
   ]
  },
  {
   "cell_type": "markdown",
   "metadata": {},
   "source": [
    "# Data Import\n",
    "Import data for each beacon can concatenate it to one single dataframe."
   ]
  },
  {
   "cell_type": "code",
   "execution_count": 30,
   "metadata": {
    "scrolled": true
   },
   "outputs": [
    {
     "name": "stdout",
     "output_type": "stream",
     "text": [
      "Reading for beacon:\n",
      "\t1\n",
      "\t2\n",
      "\t4\n",
      "No columns to parse from file; filename: b04_2020-03-22.csv\n",
      "\t5\n",
      "\t7\n",
      "\t9\n",
      "\t10\n",
      "No columns to parse from file; filename: b10_2020-03-21.csv\n",
      "No columns to parse from file; filename: b10_2020-03-21.csv\n",
      "\t11\n",
      "\t13\n",
      "\t14\n",
      "'Timestamp' is not in list; filename: b14_2020-03-22.csv\n",
      "\t15\n",
      "\t16\n",
      "No columns to parse from file; filename: b16_2020-03-21.csv\n",
      "\t17\n",
      "\t18\n",
      "\t19\n",
      "\t21\n",
      "\t22\n",
      "\t23\n",
      "\t24\n",
      "\t25\n",
      "\t26\n",
      "\t27\n",
      "\t28\n",
      "\t29\n",
      "No columns to parse from file; filename: b29_2020-03-21.csv\n",
      "\t30\n",
      "\t31\n",
      "\t32\n",
      "No columns to parse from file; filename: b32_2020-02-07.csv\n",
      "\t33\n",
      "\t34\n",
      "\t36\n",
      "\t37\n",
      "\t38\n",
      "\t40\n",
      "\t41\n",
      "\t43\n",
      "\t44\n",
      "No columns to parse from file; filename: b44_2020-03-23.csv\n",
      "\t45\n",
      "\t46\n",
      "\t48\n",
      "\t49\n"
     ]
    }
   ],
   "source": [
    "beacon_data = pd.DataFrame()\n",
    "beacon_list = [1,2,4,5,7,9,10,11,13,14,15,16,17,18,19,21,22,23,24,25,26,27,28,29,30,31,32,33,34,36,37,38,40,41,43,44,45,46,48,49]\n",
    "print('Reading for beacon:')\n",
    "for beacon in beacon_list:\n",
    "    print(f'\\t{beacon}')\n",
    "    beacon_df = pd.DataFrame()\n",
    "    if beacon < 10:\n",
    "        number = f'0{beacon}'\n",
    "    else:\n",
    "        number = f'{beacon}'\n",
    "    py3_df = pd.DataFrame()\n",
    "    for file in os.listdir(f'/Users/hagenfritz/Projects/utx000/data/raw/bpeace2/beacon/B{number}/adafruit/'):\n",
    "        try:\n",
    "            day_df = pd.read_csv(f'/Users/hagenfritz/Projects/utx000/data/raw/bpeace2/beacon/B{number}/adafruit/{file}',\n",
    "                                index_col='Timestamp',parse_dates=True,infer_datetime_format=True)\n",
    "            py3_df = pd.concat([py3_df,day_df])\n",
    "        except Exception as inst:\n",
    "            print(f'{inst}; filename: {file}')\n",
    "    py3_df = py3_df.resample('5T').mean()\n",
    "    py2_df = pd.DataFrame()\n",
    "    for file in os.listdir(f'/Users/hagenfritz/Projects/utx000/data/raw/bpeace2/beacon/B{number}/sensirion/'):\n",
    "        try:\n",
    "            day_df = pd.read_csv(f'/Users/hagenfritz/Projects/utx000/data/raw/bpeace2/beacon/B{number}/sensirion/{file}',\n",
    "                            index_col='Timestamp',parse_dates=True,infer_datetime_format=True)\n",
    "        except Exception as inst:\n",
    "            print(f'{inst}; filename: {file}')\n",
    "        py2_df = pd.concat([py2_df,day_df])\n",
    "        \n",
    "    py2_df = py2_df.resample('5T').mean()\n",
    "        \n",
    "    beacon_df = py3_df.merge(right=py2_df,left_index=True,right_index=True,how='outer')\n",
    "    beacon_df['Beacon'] = beacon\n",
    "    \n",
    "    beacon_data = pd.concat([beacon_data,beacon_df])"
   ]
  },
  {
   "cell_type": "markdown",
   "metadata": {},
   "source": [
    "# Data Cleanup"
   ]
  },
  {
   "cell_type": "code",
   "execution_count": 31,
   "metadata": {},
   "outputs": [],
   "source": [
    "from datetime import datetime"
   ]
  },
  {
   "cell_type": "code",
   "execution_count": 32,
   "metadata": {},
   "outputs": [],
   "source": [
    "beacon_data['CO'] /= 1000\n",
    "for beacon in beacon_list:\n",
    "    if beacon > 27:\n",
    "        beacon_data['NO2'] /= 1000"
   ]
  },
  {
   "cell_type": "markdown",
   "metadata": {},
   "source": [
    "# Visualization"
   ]
  },
  {
   "cell_type": "code",
   "execution_count": null,
   "metadata": {},
   "outputs": [],
   "source": [
    "import seaborn as sns\n",
    "import matplotlib.pyplot as plt\n",
    "import matplotlib.dates as mdates"
   ]
  },
  {
   "cell_type": "markdown",
   "metadata": {},
   "source": [
    "## PPB Sensors: Time Series"
   ]
  },
  {
   "cell_type": "code",
   "execution_count": null,
   "metadata": {},
   "outputs": [],
   "source": [
    "def plot_squares(x,y,ax,loc,xlim,ylim):\n",
    "    '''\n",
    "    \n",
    "    '''\n",
    "    axis = ax[loc[0],loc[1]]\n",
    "    axis.plot(x,y,color='black',)\n",
    "    axis.set_xlim([xlim[0],xlim[1]])\n",
    "    axis.set_ylim([ylim[0],ylim[1]])\n",
    "    axis.xaxis.set_major_formatter(mdates.DateFormatter('%m/%d'))\n",
    "    axis.xaxis.set_major_locator(mdates.DayLocator())\n",
    "    \n",
    "    return axis"
   ]
  },
  {
   "cell_type": "code",
   "execution_count": null,
   "metadata": {
    "scrolled": true
   },
   "outputs": [],
   "source": [
    "var_list = ['TVOC','NO2','CO','T_NO2','RH_NO2','Lux','CO2','PM_C_2p5']\n",
    "lim_list = [1000,100,100,30,80,5000,1000,50]\n",
    "for v,lim in zip(var_list,lim_list):\n",
    "    fig, ax = plt.subplots(6,5,figsize=(20,20),sharey='row',sharex='col')\n",
    "    print(f'Graphing for variable: {v}')\n",
    "    for beacon in beacon_list:\n",
    "        df = beacon_data[beacon_data['Beacon'] == beacon]\n",
    "        df = df[datetime(2020,5,25):]\n",
    "        if beacon < 6:\n",
    "            axis = plot_squares(df.index,df[v],ax,[0,beacon-1],[datetime(2020,5,25),datetime(2020,6,1)],[0,lim])\n",
    "        elif beacon < 11:\n",
    "            axis = plot_squares(df.index,df[v],ax,[1,beacon-6],[datetime(2020,5,25),datetime(2020,6,1)],[0,lim])\n",
    "        elif beacon < 16:\n",
    "            axis = plot_squares(df.index,df[v],ax,[2,beacon-11],[datetime(2020,5,25),datetime(2020,6,1)],[0,lim])\n",
    "        elif beacon < 21:\n",
    "            axis = plot_squares(df.index,df[v],ax,[3,beacon-16],[datetime(2020,5,25),datetime(2020,6,1)],[0,lim])\n",
    "        elif beacon < 26:\n",
    "            axis = plot_squares(df.index,df[v],ax,[4,beacon-21],[datetime(2020,5,25),datetime(2020,6,1)],[0,lim])\n",
    "        elif beacon < 31:\n",
    "            axis = plot_squares(df.index,df[v],ax,[5,beacon-26],[datetime(2020,5,25),datetime(2020,6,1)],[0,lim])\n",
    "            \n",
    "        axis.set_title(beacon)\n",
    "    plt.subplots_adjust(left=None, bottom=None, right=None, top=None, wspace=0, hspace=0)\n",
    "\n",
    "    plt.show()\n",
    "    plt.close()"
   ]
  },
  {
   "cell_type": "code",
   "execution_count": null,
   "metadata": {
    "scrolled": true
   },
   "outputs": [],
   "source": [
    "var_list = ['TVOC','NO2','CO','T_NO2','RH_NO2','Lux','CO2','PM_C_2p5']\n",
    "lim_list = [1000,100,20,30,80,5000,1000,50]\n",
    "for v,lim in zip(var_list,lim_list):\n",
    "    fig, ax = plt.subplots(figsize=(16,8))\n",
    "    fig_kde, ax_kde = plt.subplots(figsize=(16,8))\n",
    "    print(f'Graphing for variable: {v}')\n",
    "    for beacon in beacon_list:\n",
    "        df = beacon_data[beacon_data['Beacon'] == beacon]\n",
    "        df = df[datetime(2020,5,25):datetime(2020,6,1)]\n",
    "        \n",
    "        # Time series\n",
    "        ax.plot(df.index,df[v],linewidth=3,alpha=0.1,color='red')\n",
    "        ax.xaxis.set_major_formatter(mdates.DateFormatter('%m/%d'))\n",
    "        ax.xaxis.set_major_locator(mdates.DayLocator())\n",
    "        ax.set_xlim([datetime(2020,5,25),datetime(2020,6,1)])\n",
    "        ax.set_ylim([-20,lim])\n",
    "        \n",
    "        # KDE\n",
    "        df[v] = pd.to_numeric(df[v],errors='coerce')\n",
    "        kde_df = df[df[v] < lim]\n",
    "        try:\n",
    "            sns.kdeplot(kde_df[v],shade=True,alpha=0.2,ax=ax_kde,label=beacon)\n",
    "        except Exception as inst:\n",
    "            print(inst)\n",
    "            \n",
    "        \n",
    "    plt.show()\n",
    "    plt.close()"
   ]
  },
  {
   "cell_type": "markdown",
   "metadata": {},
   "source": [
    "# Specific Beacons\n",
    "Now that we look at other beacons that seem to be operating poorly."
   ]
  },
  {
   "cell_type": "code",
   "execution_count": 33,
   "metadata": {},
   "outputs": [],
   "source": [
    "poor_beacons = [2,4,5,10,11,13,14,17,19,21,25]\n",
    "good_beacons_1 = [11,13,22,23,25]\n",
    "good_beacons_2 = [1,10,15,16,17]\n",
    "good_beacons_3 = [5,21,24,26,28]\n",
    "good_beacons_4 = [29,30,32,34,38]\n",
    "good_beacons_5 = [41,44]\n",
    "potentials = [46]"
   ]
  },
  {
   "cell_type": "markdown",
   "metadata": {},
   "source": [
    "Notes on next delivery:\n",
    "- Beacon 28\n",
    "- Beacon 5:\n",
    "    - CO: zero\n",
    "    - PM: check\n",
    "- Beacon 21\n",
    "    CO: zero\n",
    "- Beacon 24\n",
    "    CO: zoer\n",
    "- Beacon 26\n",
    "    - CO zero\n",
    "    - PM check"
   ]
  },
  {
   "cell_type": "code",
   "execution_count": 34,
   "metadata": {
    "scrolled": false
   },
   "outputs": [
    {
     "data": {
      "image/png": "[encoded data removed]",
      "text/plain": [
       "<Figure size 1152x576 with 1 Axes>"
      ]
     },
     "metadata": {
      "needs_background": "light"
     },
     "output_type": "display_data"
    },
    {
     "data": {
      "image/png": "[encoded data removed]",
      "text/plain": [
       "<Figure size 1152x576 with 1 Axes>"
      ]
     },
     "metadata": {
      "needs_background": "light"
     },
     "output_type": "display_data"
    },
    {
     "data": {
      "image/png": "[encoded data removed]",
      "text/plain": [
       "<Figure size 1152x576 with 1 Axes>"
      ]
     },
     "metadata": {
      "needs_background": "light"
     },
     "output_type": "display_data"
    },
    {
     "data": {
      "image/png": "[encoded data removed]",
      "text/plain": [
       "<Figure size 1152x576 with 1 Axes>"
      ]
     },
     "metadata": {
      "needs_background": "light"
     },
     "output_type": "display_data"
    },
    {
     "data": {
      "image/png": "[encoded data removed]",
      "text/plain": [
       "<Figure size 1152x576 with 1 Axes>"
      ]
     },
     "metadata": {
      "needs_background": "light"
     },
     "output_type": "display_data"
    },
    {
     "data": {
      "image/png": "[encoded data removed]",
      "text/plain": [
       "<Figure size 1152x576 with 1 Axes>"
      ]
     },
     "metadata": {
      "needs_background": "light"
     },
     "output_type": "display_data"
    },
    {
     "data": {
      "image/png": "[encoded data removed]",
      "text/plain": [
       "<Figure size 1152x576 with 1 Axes>"
      ]
     },
     "metadata": {
      "needs_background": "light"
     },
     "output_type": "display_data"
    },
    {
     "data": {
      "image/png": "[encoded data removed]",
      "text/plain": [
       "<Figure size 1152x576 with 1 Axes>"
      ]
     },
     "metadata": {
      "needs_background": "light"
     },
     "output_type": "display_data"
    }
   ],
   "source": [
    "var_list = ['TVOC','NO2','CO','T_NO2','RH_NO2','Lux','CO2','PM_C_2p5']\n",
    "lim_list = [1000,20,20,30,80,5000,1000,50]\n",
    "for v,lim in zip(var_list,lim_list):\n",
    "    fig, ax = plt.subplots(figsize=(16,8))\n",
    "    for beacon in potentials:\n",
    "        df = beacon_data[beacon_data['Beacon'] == beacon]\n",
    "        df = df[datetime(2020,5,25):]\n",
    "        ax.plot(df.index,df[v],label=beacon)\n",
    "        ax.xaxis.set_major_formatter(mdates.DateFormatter('%m/%d'))\n",
    "        ax.xaxis.set_major_locator(mdates.DayLocator())\n",
    "        #ax.set_xlim([datetime(2020,5,25),datetime(2020,6,1)])\n",
    "        ax.set_ylim([-10,lim])\n",
    "        ax.set_title(v)\n",
    "        ax.legend(title='Beacon No:')\n",
    "        \n",
    "    plt.show()\n",
    "    plt.close()"
   ]
  },
  {
   "cell_type": "markdown",
   "metadata": {},
   "source": [
    "# CO2 Comparison\n",
    "We have CO2 data from the fancy Licor instrument that we can compare our readings against."
   ]
  },
  {
   "cell_type": "markdown",
   "metadata": {},
   "source": [
    "## Data Import"
   ]
  },
  {
   "cell_type": "code",
   "execution_count": null,
   "metadata": {},
   "outputs": [],
   "source": [
    "co2_standard = pd.read_csv('/Users/hagenfritz/Projects/utx000_old/studies/cohort2/calibration/co2_0526.csv',\n",
    "                           skiprows=2,usecols=[0,1,2],names=['Day','Hour','ppm'])\n",
    "dt = []\n",
    "for i in range(len(co2_standard)):\n",
    "    dt.append(datetime.strptime(co2_standard['Day'][i]+' '+co2_standard['Hour'][i],'%m/%d/%y %H:%M:%S'))\n",
    "co2_standard['datetime'] = dt\n",
    "co2_standard = co2_standard.set_index('datetime')\n",
    "co2_standard = co2_standard.resample('5T').mean()"
   ]
  },
  {
   "cell_type": "markdown",
   "metadata": {},
   "source": [
    "## Visualizing"
   ]
  },
  {
   "cell_type": "code",
   "execution_count": null,
   "metadata": {},
   "outputs": [],
   "source": [
    "fig, ax = plt.subplots(figsize=(16,8))\n",
    "start = co2_standard.index[0]\n",
    "final = co2_standard.index[-1]\n",
    "ax.plot(co2_standard.index,co2_standard['ppm'],color='black',linewidth=5,alpha=0.7,label='standard')\n",
    "print('Difference in Measurement:')\n",
    "for beacon in beacon_list:\n",
    "    df = beacon_data[beacon_data['Beacon'] == beacon]\n",
    "    df = df[start:final]\n",
    "    \n",
    "    delta = abs(df['CO2'] - co2_standard['ppm'])\n",
    "    print(f'\\tBeacon {beacon}: {np.nanmean(delta)}')\n",
    "    \n",
    "    if np.mean(delta) < 200:\n",
    "        ax.plot(df.index,df['CO2'],linewidth=2,label=beacon)\n",
    "        \n",
    "ax.xaxis.set_major_formatter(mdates.DateFormatter('%m/%d'))\n",
    "ax.xaxis.set_major_locator(mdates.DayLocator())\n",
    "ax.set_xlim([start,final])\n",
    "ax.set_ylim(-10,1000)\n",
    "ax.legend(title='Beacon No:',loc='upper center',bbox_to_anchor=(0.5,-0.05),ncol=10)\n",
    "\n",
    "plt.show()\n",
    "plt.close()"
   ]
  },
  {
   "cell_type": "code",
   "execution_count": null,
   "metadata": {},
   "outputs": [],
   "source": [
    "df = beacon_data[beacon_data['Beacon'] == 10]"
   ]
  },
  {
   "cell_type": "code",
   "execution_count": null,
   "metadata": {},
   "outputs": [],
   "source": [
    "df = df[start:final]"
   ]
  },
  {
   "cell_type": "code",
   "execution_count": null,
   "metadata": {},
   "outputs": [],
   "source": [
    "fig, ax = plt.subplots(figsize=(12,6))\n",
    "ax.plot(df.index,df['CO2'])\n",
    "ax.set_ylim([0,1000])"
   ]
  },
  {
   "cell_type": "code",
   "execution_count": null,
   "metadata": {},
   "outputs": [],
   "source": []
  }
 ],
 "metadata": {
  "kernelspec": {
   "display_name": "Python 3",
   "language": "python",
   "name": "python3"
  },
  "language_info": {
   "codemirror_mode": {
    "name": "ipython",
    "version": 3
   },
   "file_extension": ".py",
   "mimetype": "text/x-python",
   "name": "python",
   "nbconvert_exporter": "python",
   "pygments_lexer": "ipython3",
   "version": "3.7.6"
  }
 },
 "nbformat": 4,
 "nbformat_minor": 4
}
