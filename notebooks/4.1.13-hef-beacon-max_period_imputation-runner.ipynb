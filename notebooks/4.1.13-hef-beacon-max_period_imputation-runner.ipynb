{
 "cells": [
  {
   "cell_type": "markdown",
   "metadata": {},
   "source": [
    "# Imputing Missing Data\n",
    "Using the three methods we landed on:\n",
    "- Mutliple Iterations with Chained Equations\n",
    "- missForest\n",
    "- Autoregressive Integrated Moving Average"
   ]
  },
  {
   "cell_type": "code",
   "execution_count": 1,
   "metadata": {},
   "outputs": [],
   "source": [
    "import warnings\n",
    "warnings.filterwarnings('ignore')\n",
    "from statsmodels.tools.sm_exceptions import ConvergenceWarning\n",
    "warnings.simplefilter('ignore', ConvergenceWarning)\n",
    "\n",
    "import sys\n",
    "sys.path.append('../')\n",
    "\n",
    "from src.visualization import visualize\n",
    "from src.processing import impute, process\n",
    "\n",
    "%load_ext autoreload\n",
    "%autoreload 2\n",
    "\n",
    "import matplotlib.pyplot as plt\n",
    "import matplotlib.dates as mdates\n",
    "from matplotlib.colors import LogNorm, ListedColormap, LinearSegmentedColormap\n",
    "\n",
    "import seaborn as sns\n",
    "\n",
    "import pandas as pd\n",
    "import numpy as np\n",
    "pd.set_option('display.max_columns', 200)\n",
    "import scipy\n",
    "import math\n",
    "import statsmodels.api as sm\n",
    "\n",
    "from datetime import datetime, timedelta"
   ]
  },
  {
   "cell_type": "markdown",
   "metadata": {},
   "source": [
    "# Data Import\n",
    "For each imputation method, we have two datasets we consider:\n",
    "1. Example data to test the accuracy of the model\n",
    "2. Remaining participant data that we can apply the model to. "
   ]
  },
  {
   "cell_type": "code",
   "execution_count": 3,
   "metadata": {},
   "outputs": [
    {
     "name": "stdout",
     "output_type": "stream",
     "text": [
      "Percent: 10\n",
      "Parameter: co2\n",
      "Period (in minutes): 60\n"
     ]
    }
   ],
   "source": [
    "imp = impute.Impute(\"rnse61g4\",\"../\",prompt=True,consecutive=True,start_time=datetime(2020,6,15),end_time=datetime(2020,7,15))"
   ]
  },
  {
   "cell_type": "markdown",
   "metadata": {},
   "source": [
    "# Finding Max Missing Period\n",
    "Determining what is the maximum length of data that we can remove and still get viable results."
   ]
  },
  {
   "cell_type": "code",
   "execution_count": 10,
   "metadata": {
    "scrolled": false
   },
   "outputs": [
    {
     "name": "stdout",
     "output_type": "stream",
     "text": [
      "ARIMA\n",
      "\t125\n",
      "\t\tIteration: 0 - 10.4\n",
      "\t\tIteration: 1 - 2.2\n",
      "\t\tIteration: 2 - 9.5\n",
      "\t\tIteration: 3 - 9.8\n",
      "\t\tIteration: 4 - 10.2\n",
      "\t130\n",
      "\t\tIteration: 0 - 10.2\n",
      "\t\tIteration: 1 - 10.2\n",
      "\t\tIteration: 2 - 29.5\n",
      "\t\tIteration: 3 - 10.1\n",
      "\t\tIteration: 4 - 10.4\n"
     ]
    },
    {
     "data": {
      "image/png": "[encoded data removed]",
      "text/plain": [
       "<Figure size 1296x288 with 5 Axes>"
      ]
     },
     "metadata": {
      "needs_background": "light"
     },
     "output_type": "display_data"
    }
   ],
   "source": [
    "for param, order in zip([\"temperature_c\"],[(3,0,2)]):#,\"co\",\"tvoc\",\"temperature_c\"],[(3,0,3),(3,0,2),(3,0,3),(3,0,2)]):  #[\"co2\"],[(2,0,3)]\n",
    "    imp.set_arima_order(order)\n",
    "    #[5,10,15,30,45,60,75,90,105,120,135,150,180,195,210,240,300,360,420,450,480,510,540,600,630,660,690,720]\n",
    "    res = imp.find_max_period(start_time=datetime(2020,6,15),end_time=datetime(2020,7,15),param=param,methods=[\"ARIMA\"],n_cv=5,\n",
    "                              periods=[125,130],\n",
    "                              verbose=True,save=True,plot=False)\n",
    "    imp.compare_methods(res,xlim=[0,720],xlabel=\"Periods of Missing Data (minutes)\",save=True,annot=f\"{param}_max_periods\")"
   ]
  },
  {
   "cell_type": "code",
   "execution_count": 3,
   "metadata": {},
   "outputs": [
    {
     "name": "stdout",
     "output_type": "stream",
     "text": [
      "hello\n"
     ]
    }
   ],
   "source": [
    "data_import = process.preprocess()"
   ]
  },
  {
   "cell_type": "code",
   "execution_count": 4,
   "metadata": {
    "scrolled": false
   },
   "outputs": [
    {
     "name": "stdout",
     "output_type": "stream",
     "text": [
      "2021-11-22\n",
      "             Timestamp         CO         CO2      NO2    PM_C_1    PM_C_10  \\\n",
      "0  2021-11-22 12:51:16  1388815.0  498.373489  1379.25  1.571302   3.975997   \n",
      "1  2021-11-22 12:54:30  1387683.0  438.170553   734.00  2.299372   3.944142   \n",
      "2  2021-11-22 12:55:16   207296.4  453.643135   668.60  2.329868  10.440415   \n",
      "3  2021-11-22 12:56:17   104516.6  426.374512   549.20  1.948856   7.287395   \n",
      "4  2021-11-22 12:57:16    74088.8  313.621704   487.40  1.538301   3.568608   \n",
      "\n",
      "   PM_C_2p5     PM_C_4   PM_N_0p5     PM_N_1    PM_N_10   PM_N_2p5     PM_N_4  \\\n",
      "0  2.933760   3.893847   7.496359  10.936520  12.517953  12.320141  12.491757   \n",
      "1  3.258592   3.890106  13.779490  17.393874  18.469009  18.337822  18.451394   \n",
      "2  6.858905  10.158120   4.301703  12.845739  18.195447  17.518292  18.106359   \n",
      "3  4.939232   7.102312   5.765505  11.817123  15.336200  14.891877  15.277663   \n",
      "4  2.693360   3.499621   7.824477  10.947022  12.281112  12.114808  12.259047   \n",
      "\n",
      "   RH_CO  RH_NO2  Relative Humidity  TVOC  T_CO  T_NO2  Temperature [C]   eCO2  \n",
      "0   38.0    37.0          35.449219   0.0  22.0   22.0        22.783628  400.0  \n",
      "1   38.0    37.0          34.606934   5.2  22.0   22.0        23.145014  401.0  \n",
      "2   38.0    36.0          33.827591   0.0  22.0   22.0        23.459888  400.0  \n",
      "3   38.0    36.0          33.278402   0.0  22.0   22.0        23.728920  400.0  \n",
      "4   37.0    36.0          33.475240   0.0  22.0   22.0        23.671064  404.6  \n",
      "                            co         co2      no2  pm1_mass  pm10_mass  \\\n",
      "Timestamp                                                                  \n",
      "2021-11-22 12:51:00  1388815.0  498.373489  1379.25  1.571302   3.975997   \n",
      "2021-11-22 12:52:00        NaN         NaN      NaN       NaN        NaN   \n",
      "2021-11-22 12:53:00        NaN         NaN      NaN       NaN        NaN   \n",
      "2021-11-22 12:54:00  1387683.0  438.170553   734.00  2.299372   3.944142   \n",
      "2021-11-22 12:55:00   207296.4  453.643135   668.60  2.329868  10.440415   \n",
      "\n",
      "                     pm2p5_mass     PM_C_4   PM_N_0p5  pm1_number  \\\n",
      "Timestamp                                                           \n",
      "2021-11-22 12:51:00    2.933760   3.893847   7.496359   10.936520   \n",
      "2021-11-22 12:52:00         NaN        NaN        NaN         NaN   \n",
      "2021-11-22 12:53:00         NaN        NaN        NaN         NaN   \n",
      "2021-11-22 12:54:00    3.258592   3.890106  13.779490   17.393874   \n",
      "2021-11-22 12:55:00    6.858905  10.158120   4.301703   12.845739   \n",
      "\n",
      "                     pm10_number  pm2p5_number     PM_N_4  RH_CO  RH_NO2  \\\n",
      "Timestamp                                                                  \n",
      "2021-11-22 12:51:00    12.517953     12.320141  12.491757   38.0    37.0   \n",
      "2021-11-22 12:52:00          NaN           NaN        NaN    NaN     NaN   \n",
      "2021-11-22 12:53:00          NaN           NaN        NaN    NaN     NaN   \n",
      "2021-11-22 12:54:00    18.469009     18.337822  18.451394   38.0    37.0   \n",
      "2021-11-22 12:55:00    18.195447     17.518292  18.106359   38.0    36.0   \n",
      "\n",
      "                     Relative Humidity  tvoc  T_CO  T_NO2  Temperature [C]  \\\n",
      "Timestamp                                                                    \n",
      "2021-11-22 12:51:00          35.449219   0.0  22.0   22.0        22.783628   \n",
      "2021-11-22 12:52:00                NaN   NaN   NaN    NaN              NaN   \n",
      "2021-11-22 12:53:00                NaN   NaN   NaN    NaN              NaN   \n",
      "2021-11-22 12:54:00          34.606934   5.2  22.0   22.0        23.145014   \n",
      "2021-11-22 12:55:00          33.827591   0.0  22.0   22.0        23.459888   \n",
      "\n",
      "                      eCO2  beacon  temperature_c  \n",
      "Timestamp                                          \n",
      "2021-11-22 12:51:00  400.0      11           22.0  \n",
      "2021-11-22 12:52:00    NaN      11            NaN  \n",
      "2021-11-22 12:53:00    NaN      11            NaN  \n",
      "2021-11-22 12:54:00  401.0      11           22.0  \n",
      "2021-11-22 12:55:00  400.0      11           22.0  \n"
     ]
    }
   ],
   "source": [
    "data_import.process(beacons=[11],start_time=datetime(2021,11,21),end_time=datetime(2021,11,23))"
   ]
  },
  {
   "cell_type": "code",
   "execution_count": 5,
   "metadata": {},
   "outputs": [],
   "source": [
    "data_import.save_data(annot=\"sam\")"
   ]
  },
  {
   "cell_type": "code",
   "execution_count": null,
   "metadata": {},
   "outputs": [],
   "source": []
  }
 ],
 "metadata": {
  "kernelspec": {
   "display_name": "Python 3",
   "language": "python",
   "name": "python3"
  },
  "language_info": {
   "codemirror_mode": {
    "name": "ipython",
    "version": 3
   },
   "file_extension": ".py",
   "mimetype": "text/x-python",
   "name": "python",
   "nbconvert_exporter": "python",
   "pygments_lexer": "ipython3",
   "version": "3.8.8"
  },
  "toc": {
   "base_numbering": 1,
   "nav_menu": {},
   "number_sections": false,
   "sideBar": false,
   "skip_h1_title": false,
   "title_cell": "Table of Contents",
   "title_sidebar": "Contents",
   "toc_cell": false,
   "toc_position": {},
   "toc_section_display": false,
   "toc_window_display": false
  }
 },
 "nbformat": 4,
 "nbformat_minor": 4
}
