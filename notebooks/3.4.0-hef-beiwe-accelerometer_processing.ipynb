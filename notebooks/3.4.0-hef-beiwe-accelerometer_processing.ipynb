{
 "cells": [
  {
   "cell_type": "markdown",
   "metadata": {},
   "source": [
    "# Exploring the UTx000 Dataset\n",
    "From the first cohort in Spring 2020"
   ]
  },
  {
   "cell_type": "code",
   "execution_count": 2,
   "metadata": {},
   "outputs": [],
   "source": [
    "import warnings\n",
    "warnings.filterwarnings('ignore')"
   ]
  },
  {
   "cell_type": "markdown",
   "metadata": {},
   "source": [
    "# Accelerometer Processing\n",
    "The largest dataset by far that contains the highest resolution of data. This data can be used a proxy for Beiwe/phone operation."
   ]
  },
  {
   "cell_type": "code",
   "execution_count": 3,
   "metadata": {},
   "outputs": [],
   "source": [
    "import os\n",
    "\n",
    "import pandas as pd\n",
    "import numpy as np\n",
    "\n",
    "from datetime import datetime, timedelta\n",
    "\n",
    "import matplotlib.pyplot as plt\n",
    "import seaborn as sns"
   ]
  },
  {
   "cell_type": "markdown",
   "metadata": {},
   "source": [
    "# Test Data Import\n",
    "We want to import some data from participants so that we can understand it a little bit more."
   ]
  },
  {
   "cell_type": "markdown",
   "metadata": {},
   "source": [
    "## One datafile"
   ]
  },
  {
   "cell_type": "code",
   "execution_count": 4,
   "metadata": {},
   "outputs": [
    {
     "data": {
      "text/html": [
       "<div>\n",
       "<style scoped>\n",
       "    .dataframe tbody tr th:only-of-type {\n",
       "        vertical-align: middle;\n",
       "    }\n",
       "\n",
       "    .dataframe tbody tr th {\n",
       "        vertical-align: top;\n",
       "    }\n",
       "\n",
       "    .dataframe thead th {\n",
       "        text-align: right;\n",
       "    }\n",
       "</style>\n",
       "<table border=\"1\" class=\"dataframe\">\n",
       "  <thead>\n",
       "    <tr style=\"text-align: right;\">\n",
       "      <th></th>\n",
       "      <th>timestamp</th>\n",
       "      <th>UTC time</th>\n",
       "      <th>accuracy</th>\n",
       "      <th>x</th>\n",
       "      <th>y</th>\n",
       "      <th>z</th>\n",
       "    </tr>\n",
       "  </thead>\n",
       "  <tbody>\n",
       "    <tr>\n",
       "      <th>0</th>\n",
       "      <td>1579907340562</td>\n",
       "      <td>2020-01-24T23:09:00.562</td>\n",
       "      <td>3</td>\n",
       "      <td>-0.187937</td>\n",
       "      <td>6.176775</td>\n",
       "      <td>8.001079</td>\n",
       "    </tr>\n",
       "    <tr>\n",
       "      <th>1</th>\n",
       "      <td>1579907340565</td>\n",
       "      <td>2020-01-24T23:09:00.565</td>\n",
       "      <td>3</td>\n",
       "      <td>-0.395026</td>\n",
       "      <td>6.160016</td>\n",
       "      <td>8.356602</td>\n",
       "    </tr>\n",
       "    <tr>\n",
       "      <th>2</th>\n",
       "      <td>1579907340565</td>\n",
       "      <td>2020-01-24T23:09:00.565</td>\n",
       "      <td>3</td>\n",
       "      <td>-0.593737</td>\n",
       "      <td>6.114528</td>\n",
       "      <td>8.244080</td>\n",
       "    </tr>\n",
       "    <tr>\n",
       "      <th>3</th>\n",
       "      <td>1579907340565</td>\n",
       "      <td>2020-01-24T23:09:00.565</td>\n",
       "      <td>3</td>\n",
       "      <td>-0.828358</td>\n",
       "      <td>6.380273</td>\n",
       "      <td>8.422440</td>\n",
       "    </tr>\n",
       "    <tr>\n",
       "      <th>4</th>\n",
       "      <td>1579907340565</td>\n",
       "      <td>2020-01-24T23:09:00.565</td>\n",
       "      <td>3</td>\n",
       "      <td>-0.949260</td>\n",
       "      <td>6.569407</td>\n",
       "      <td>8.628332</td>\n",
       "    </tr>\n",
       "    <tr>\n",
       "      <th>...</th>\n",
       "      <td>...</td>\n",
       "      <td>...</td>\n",
       "      <td>...</td>\n",
       "      <td>...</td>\n",
       "      <td>...</td>\n",
       "      <td>...</td>\n",
       "    </tr>\n",
       "    <tr>\n",
       "      <th>3083</th>\n",
       "      <td>1579907400271</td>\n",
       "      <td>2020-01-24T23:10:00.271</td>\n",
       "      <td>3</td>\n",
       "      <td>-0.219060</td>\n",
       "      <td>4.420703</td>\n",
       "      <td>7.861023</td>\n",
       "    </tr>\n",
       "    <tr>\n",
       "      <th>3084</th>\n",
       "      <td>1579907400272</td>\n",
       "      <td>2020-01-24T23:10:00.272</td>\n",
       "      <td>3</td>\n",
       "      <td>-0.052670</td>\n",
       "      <td>4.403945</td>\n",
       "      <td>7.515076</td>\n",
       "    </tr>\n",
       "    <tr>\n",
       "      <th>3085</th>\n",
       "      <td>1579907400283</td>\n",
       "      <td>2020-01-24T23:10:00.283</td>\n",
       "      <td>3</td>\n",
       "      <td>-0.243001</td>\n",
       "      <td>4.493724</td>\n",
       "      <td>7.523456</td>\n",
       "    </tr>\n",
       "    <tr>\n",
       "      <th>3086</th>\n",
       "      <td>1579907400324</td>\n",
       "      <td>2020-01-24T23:10:00.324</td>\n",
       "      <td>3</td>\n",
       "      <td>-0.501564</td>\n",
       "      <td>4.664902</td>\n",
       "      <td>7.633584</td>\n",
       "    </tr>\n",
       "    <tr>\n",
       "      <th>3087</th>\n",
       "      <td>1579907400325</td>\n",
       "      <td>2020-01-24T23:10:00.325</td>\n",
       "      <td>3</td>\n",
       "      <td>-0.876240</td>\n",
       "      <td>4.891144</td>\n",
       "      <td>8.040581</td>\n",
       "    </tr>\n",
       "  </tbody>\n",
       "</table>\n",
       "<p>3088 rows × 6 columns</p>\n",
       "</div>"
      ],
      "text/plain": [
       "          timestamp                 UTC time  accuracy         x         y  \\\n",
       "0     1579907340562  2020-01-24T23:09:00.562         3 -0.187937  6.176775   \n",
       "1     1579907340565  2020-01-24T23:09:00.565         3 -0.395026  6.160016   \n",
       "2     1579907340565  2020-01-24T23:09:00.565         3 -0.593737  6.114528   \n",
       "3     1579907340565  2020-01-24T23:09:00.565         3 -0.828358  6.380273   \n",
       "4     1579907340565  2020-01-24T23:09:00.565         3 -0.949260  6.569407   \n",
       "...             ...                      ...       ...       ...       ...   \n",
       "3083  1579907400271  2020-01-24T23:10:00.271         3 -0.219060  4.420703   \n",
       "3084  1579907400272  2020-01-24T23:10:00.272         3 -0.052670  4.403945   \n",
       "3085  1579907400283  2020-01-24T23:10:00.283         3 -0.243001  4.493724   \n",
       "3086  1579907400324  2020-01-24T23:10:00.324         3 -0.501564  4.664902   \n",
       "3087  1579907400325  2020-01-24T23:10:00.325         3 -0.876240  4.891144   \n",
       "\n",
       "             z  \n",
       "0     8.001079  \n",
       "1     8.356602  \n",
       "2     8.244080  \n",
       "3     8.422440  \n",
       "4     8.628332  \n",
       "...        ...  \n",
       "3083  7.861023  \n",
       "3084  7.515076  \n",
       "3085  7.523456  \n",
       "3086  7.633584  \n",
       "3087  8.040581  \n",
       "\n",
       "[3088 rows x 6 columns]"
      ]
     },
     "execution_count": 4,
     "metadata": {},
     "output_type": "execute_result"
    }
   ],
   "source": [
    "raw = pd.read_csv('/Volumes/HEF_Dissertation_Research/utx000/bpeace1/beiwe/accelerometer/25rlmdr1/accelerometer/2020-01-24 23_00_00.csv')\n",
    "raw"
   ]
  },
  {
   "cell_type": "markdown",
   "metadata": {},
   "source": [
    "Looking at just one data file which spans only one hour, we have over 3000 entries. The timestamps don't seem consistent either but are much less than 1-minute which is probaly the finest resolution that we need in the processed data."
   ]
  },
  {
   "cell_type": "markdown",
   "metadata": {},
   "source": [
    "## One participant"
   ]
  },
  {
   "cell_type": "code",
   "execution_count": 5,
   "metadata": {},
   "outputs": [
    {
     "data": {
      "text/html": [
       "<div>\n",
       "<style scoped>\n",
       "    .dataframe tbody tr th:only-of-type {\n",
       "        vertical-align: middle;\n",
       "    }\n",
       "\n",
       "    .dataframe tbody tr th {\n",
       "        vertical-align: top;\n",
       "    }\n",
       "\n",
       "    .dataframe thead th {\n",
       "        text-align: right;\n",
       "    }\n",
       "</style>\n",
       "<table border=\"1\" class=\"dataframe\">\n",
       "  <thead>\n",
       "    <tr style=\"text-align: right;\">\n",
       "      <th></th>\n",
       "      <th>timestamp</th>\n",
       "      <th>accuracy</th>\n",
       "      <th>x</th>\n",
       "      <th>y</th>\n",
       "      <th>z</th>\n",
       "    </tr>\n",
       "    <tr>\n",
       "      <th>UTC time</th>\n",
       "      <th></th>\n",
       "      <th></th>\n",
       "      <th></th>\n",
       "      <th></th>\n",
       "      <th></th>\n",
       "    </tr>\n",
       "  </thead>\n",
       "  <tbody>\n",
       "    <tr>\n",
       "      <th>2020-01-24 23:09:00.562</th>\n",
       "      <td>1579907340562</td>\n",
       "      <td>3</td>\n",
       "      <td>-0.187937</td>\n",
       "      <td>6.176775</td>\n",
       "      <td>8.001079</td>\n",
       "    </tr>\n",
       "    <tr>\n",
       "      <th>2020-01-24 23:09:00.565</th>\n",
       "      <td>1579907340565</td>\n",
       "      <td>3</td>\n",
       "      <td>-0.395026</td>\n",
       "      <td>6.160016</td>\n",
       "      <td>8.356602</td>\n",
       "    </tr>\n",
       "    <tr>\n",
       "      <th>2020-01-24 23:09:00.565</th>\n",
       "      <td>1579907340565</td>\n",
       "      <td>3</td>\n",
       "      <td>-0.593737</td>\n",
       "      <td>6.114528</td>\n",
       "      <td>8.244080</td>\n",
       "    </tr>\n",
       "    <tr>\n",
       "      <th>2020-01-24 23:09:00.565</th>\n",
       "      <td>1579907340565</td>\n",
       "      <td>3</td>\n",
       "      <td>-0.828358</td>\n",
       "      <td>6.380273</td>\n",
       "      <td>8.422440</td>\n",
       "    </tr>\n",
       "    <tr>\n",
       "      <th>2020-01-24 23:09:00.565</th>\n",
       "      <td>1579907340565</td>\n",
       "      <td>3</td>\n",
       "      <td>-0.949260</td>\n",
       "      <td>6.569407</td>\n",
       "      <td>8.628332</td>\n",
       "    </tr>\n",
       "  </tbody>\n",
       "</table>\n",
       "</div>"
      ],
      "text/plain": [
       "                             timestamp  accuracy         x         y         z\n",
       "UTC time                                                                      \n",
       "2020-01-24 23:09:00.562  1579907340562         3 -0.187937  6.176775  8.001079\n",
       "2020-01-24 23:09:00.565  1579907340565         3 -0.395026  6.160016  8.356602\n",
       "2020-01-24 23:09:00.565  1579907340565         3 -0.593737  6.114528  8.244080\n",
       "2020-01-24 23:09:00.565  1579907340565         3 -0.828358  6.380273  8.422440\n",
       "2020-01-24 23:09:00.565  1579907340565         3 -0.949260  6.569407  8.628332"
      ]
     },
     "execution_count": 5,
     "metadata": {},
     "output_type": "execute_result"
    }
   ],
   "source": [
    "pt_dir = '/Volumes/HEF_Dissertation_Research/utx000/bpeace1/beiwe/accelerometer/25rlmdr1/accelerometer/'\n",
    "pt_df = pd.DataFrame()\n",
    "for file in os.listdir(pt_dir):\n",
    "    temp = pd.read_csv(f'{pt_dir}{file}',parse_dates = [1],infer_datetime_format=True,index_col=1)\n",
    "    pt_df = pt_df.append(temp)\n",
    "    \n",
    "pt_df.head()"
   ]
  },
  {
   "cell_type": "markdown",
   "metadata": {},
   "source": [
    "### Visualizing to see gaps"
   ]
  },
  {
   "cell_type": "code",
   "execution_count": 6,
   "metadata": {},
   "outputs": [
    {
     "data": {
      "image/png": "[encoded data removed]",
      "text/plain": [
       "<Figure size 864x288 with 1 Axes>"
      ]
     },
     "metadata": {
      "needs_background": "light"
     },
     "output_type": "display_data"
    }
   ],
   "source": [
    "pt_df['time'] = pd.to_datetime(pt_df.index) - timedelta(hours=6)\n",
    "fig, ax = plt.subplots(figsize=(12,4))\n",
    "ax.scatter(pt_df.index,pt_df['x'])\n",
    "plt.show()\n",
    "plt.close()"
   ]
  },
  {
   "cell_type": "markdown",
   "metadata": {},
   "source": [
    "Data seem rather sparse actually. I was expecting something a little more continuous. Regardless, we can upsample to at least seconds to see what we get:"
   ]
  },
  {
   "cell_type": "markdown",
   "metadata": {},
   "source": [
    "### Upsampling analysis"
   ]
  },
  {
   "cell_type": "code",
   "execution_count": 7,
   "metadata": {},
   "outputs": [
    {
     "name": "stdout",
     "output_type": "stream",
     "text": [
      "Number of raw datapoints:\t\t104861\n",
      "Number of upsampled 500ms datapoints:\t4845 - 4.620402246783837% of original data\n"
     ]
    },
    {
     "data": {
      "image/png": "[encoded data removed]",
      "text/plain": [
       "<Figure size 864x288 with 1 Axes>"
      ]
     },
     "metadata": {
      "needs_background": "light"
     },
     "output_type": "display_data"
    },
    {
     "name": "stdout",
     "output_type": "stream",
     "text": [
      "Number of upsampled 1000ms datapoints:\t2459 - 2.3450091072944184% of original data\n"
     ]
    },
    {
     "data": {
      "image/png": "[encoded data removed]",
      "text/plain": [
       "<Figure size 864x288 with 1 Axes>"
      ]
     },
     "metadata": {
      "needs_background": "light"
     },
     "output_type": "display_data"
    }
   ],
   "source": [
    "n_raw = len(pt_df)\n",
    "print(f'Number of raw datapoints:\\t\\t{n_raw}')\n",
    "for seconds in [500,1000]:\n",
    "    pt_df_s = pt_df.resample(f'{seconds}ms').mean()\n",
    "    pt_df_s.dropna(inplace=True)\n",
    "    n_s = len(pt_df_s)\n",
    "    print(f'Number of upsampled {seconds}ms datapoints:\\t{n_s} - {n_s/n_raw*100}% of original data')\n",
    "    fig, ax = plt.subplots(figsize=(12,4))\n",
    "    ax.scatter(pt_df_s.index,pt_df_s['x'])\n",
    "    plt.show()\n",
    "    plt.close()"
   ]
  },
  {
   "cell_type": "markdown",
   "metadata": {},
   "source": [
    "Seems like 500 ms is a good enough resampling rate"
   ]
  },
  {
   "cell_type": "markdown",
   "metadata": {},
   "source": [
    "# Processing Pipeline"
   ]
  },
  {
   "cell_type": "code",
   "execution_count": 10,
   "metadata": {},
   "outputs": [
    {
     "data": {
      "text/html": [
       "<div>\n",
       "<style scoped>\n",
       "    .dataframe tbody tr th:only-of-type {\n",
       "        vertical-align: middle;\n",
       "    }\n",
       "\n",
       "    .dataframe tbody tr th {\n",
       "        vertical-align: top;\n",
       "    }\n",
       "\n",
       "    .dataframe thead th {\n",
       "        text-align: right;\n",
       "    }\n",
       "</style>\n",
       "<table border=\"1\" class=\"dataframe\">\n",
       "  <thead>\n",
       "    <tr style=\"text-align: right;\">\n",
       "      <th></th>\n",
       "      <th>timestamp</th>\n",
       "      <th>accuracy</th>\n",
       "      <th>x</th>\n",
       "      <th>y</th>\n",
       "      <th>z</th>\n",
       "      <th>beiwe</th>\n",
       "      <th>CST time</th>\n",
       "    </tr>\n",
       "    <tr>\n",
       "      <th>UTC time</th>\n",
       "      <th></th>\n",
       "      <th></th>\n",
       "      <th></th>\n",
       "      <th></th>\n",
       "      <th></th>\n",
       "      <th></th>\n",
       "      <th></th>\n",
       "    </tr>\n",
       "  </thead>\n",
       "  <tbody>\n",
       "    <tr>\n",
       "      <th>2020-01-24 23:09:00.500</th>\n",
       "      <td>1.579907e+12</td>\n",
       "      <td>3.0</td>\n",
       "      <td>-0.589397</td>\n",
       "      <td>6.408553</td>\n",
       "      <td>8.307074</td>\n",
       "      <td>25rlmdr1</td>\n",
       "      <td>2020-01-24 17:09:00.500</td>\n",
       "    </tr>\n",
       "    <tr>\n",
       "      <th>2020-01-24 23:09:00.600</th>\n",
       "      <td>1.579907e+12</td>\n",
       "      <td>3.0</td>\n",
       "      <td>0.317697</td>\n",
       "      <td>6.457363</td>\n",
       "      <td>8.652752</td>\n",
       "      <td>25rlmdr1</td>\n",
       "      <td>2020-01-24 17:09:00.600</td>\n",
       "    </tr>\n",
       "    <tr>\n",
       "      <th>2020-01-24 23:09:00.700</th>\n",
       "      <td>1.579907e+12</td>\n",
       "      <td>3.0</td>\n",
       "      <td>2.435653</td>\n",
       "      <td>5.860412</td>\n",
       "      <td>6.722800</td>\n",
       "      <td>25rlmdr1</td>\n",
       "      <td>2020-01-24 17:09:00.700</td>\n",
       "    </tr>\n",
       "    <tr>\n",
       "      <th>2020-01-24 23:09:00.900</th>\n",
       "      <td>1.579907e+12</td>\n",
       "      <td>3.0</td>\n",
       "      <td>4.351601</td>\n",
       "      <td>5.880342</td>\n",
       "      <td>5.957606</td>\n",
       "      <td>25rlmdr1</td>\n",
       "      <td>2020-01-24 17:09:00.900</td>\n",
       "    </tr>\n",
       "    <tr>\n",
       "      <th>2020-01-24 23:09:01.100</th>\n",
       "      <td>1.579907e+12</td>\n",
       "      <td>3.0</td>\n",
       "      <td>3.631967</td>\n",
       "      <td>6.610585</td>\n",
       "      <td>6.287502</td>\n",
       "      <td>25rlmdr1</td>\n",
       "      <td>2020-01-24 17:09:01.100</td>\n",
       "    </tr>\n",
       "  </tbody>\n",
       "</table>\n",
       "</div>"
      ],
      "text/plain": [
       "                            timestamp  accuracy         x         y         z  \\\n",
       "UTC time                                                                        \n",
       "2020-01-24 23:09:00.500  1.579907e+12       3.0 -0.589397  6.408553  8.307074   \n",
       "2020-01-24 23:09:00.600  1.579907e+12       3.0  0.317697  6.457363  8.652752   \n",
       "2020-01-24 23:09:00.700  1.579907e+12       3.0  2.435653  5.860412  6.722800   \n",
       "2020-01-24 23:09:00.900  1.579907e+12       3.0  4.351601  5.880342  5.957606   \n",
       "2020-01-24 23:09:01.100  1.579907e+12       3.0  3.631967  6.610585  6.287502   \n",
       "\n",
       "                            beiwe                CST time  \n",
       "UTC time                                                   \n",
       "2020-01-24 23:09:00.500  25rlmdr1 2020-01-24 17:09:00.500  \n",
       "2020-01-24 23:09:00.600  25rlmdr1 2020-01-24 17:09:00.600  \n",
       "2020-01-24 23:09:00.700  25rlmdr1 2020-01-24 17:09:00.700  \n",
       "2020-01-24 23:09:00.900  25rlmdr1 2020-01-24 17:09:00.900  \n",
       "2020-01-24 23:09:01.100  25rlmdr1 2020-01-24 17:09:01.100  "
      ]
     },
     "execution_count": 10,
     "metadata": {},
     "output_type": "execute_result"
    }
   ],
   "source": [
    "pt_dir = '/Volumes/HEF_Dissertation_Research/utx000/bpeace1/beiwe/accelerometer/'\n",
    "resample_rate = 100 #ms\n",
    "accel_df = pd.DataFrame()\n",
    "for pt in os.listdir(pt_dir)[:3]:\n",
    "    if len(pt) == 8:\n",
    "        pt_df = pd.DataFrame()\n",
    "        for file in os.listdir(f'{pt_dir}{pt}/accelerometer/'):\n",
    "            file_df = pd.read_csv(f'{pt_dir}{pt}/accelerometer/{file}',parse_dates = [1],infer_datetime_format=True)\n",
    "            pt_df = pt_df.append(file_df)\n",
    "        \n",
    "        pt_df.set_index(['UTC time'],inplace=True)\n",
    "        pt_df.sort_index(inplace=True)\n",
    "        pt_df = pt_df.resample(f'{resample_rate}ms').mean()\n",
    "        pt_df.dropna(inplace=True)\n",
    "        pt_df['beiwe'] = pt\n",
    "        \n",
    "        accel_df = accel_df.append(pt_df)\n",
    "    \n",
    "accel_df['CST time'] = accel_df.index - timedelta(hours=6)\n",
    "accel_df.head()"
   ]
  },
  {
   "cell_type": "code",
   "execution_count": null,
   "metadata": {},
   "outputs": [],
   "source": []
  }
 ],
 "metadata": {
  "kernelspec": {
   "display_name": "Python 3",
   "language": "python",
   "name": "python3"
  },
  "language_info": {
   "codemirror_mode": {
    "name": "ipython",
    "version": 3
   },
   "file_extension": ".py",
   "mimetype": "text/x-python",
   "name": "python",
   "nbconvert_exporter": "python",
   "pygments_lexer": "ipython3",
   "version": "3.7.0"
  }
 },
 "nbformat": 4,
 "nbformat_minor": 4
}
