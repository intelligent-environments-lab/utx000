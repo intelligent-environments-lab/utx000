{
 "cells": [
  {
   "cell_type": "markdown",
   "metadata": {},
   "source": [
    "# Exploring the UTx000 Extension EMA Data\n",
    "(See the [GH repo](https://github.com/intelligent-environments-lab/utx000))"
   ]
  },
  {
   "cell_type": "markdown",
   "metadata": {},
   "source": [
    "## Self-Report vs Measured Sleep\n",
    "In this notebook we take a more in-depth look at self-report vs Fitbit-measure sleep metrics."
   ]
  },
  {
   "cell_type": "code",
   "execution_count": 129,
   "metadata": {},
   "outputs": [],
   "source": [
    "import os\n",
    "import sys\n",
    "sys.path.append('../')\n",
    "\n",
    "from src.features import build_features\n",
    "from src.visualization import visualize\n",
    "from src.reports import make_report\n",
    "\n",
    "import pandas as pd\n",
    "import numpy as np\n",
    "\n",
    "from datetime import datetime, timedelta\n",
    "\n",
    "import matplotlib.pyplot as plt\n",
    "import seaborn as sns\n",
    "import matplotlib.dates as mdates\n",
    "\n",
    "import statsmodels.api as sm"
   ]
  },
  {
   "cell_type": "markdown",
   "metadata": {},
   "source": [
    "## Data Import\n",
    "Here we import the morning surveys and the daily Fitbit data"
   ]
  },
  {
   "cell_type": "markdown",
   "metadata": {},
   "source": [
    "### Morning Sleep Surveys"
   ]
  },
  {
   "cell_type": "code",
   "execution_count": 130,
   "metadata": {},
   "outputs": [
    {
     "name": "stdout",
     "output_type": "stream",
     "text": [
      "Length before removing NaNs:\t2014\n",
      "Length after removing NaNs:\t1977\n"
     ]
    },
    {
     "data": {
      "text/html": [
       "<div>\n",
       "<style scoped>\n",
       "    .dataframe tbody tr th:only-of-type {\n",
       "        vertical-align: middle;\n",
       "    }\n",
       "\n",
       "    .dataframe tbody tr th {\n",
       "        vertical-align: top;\n",
       "    }\n",
       "\n",
       "    .dataframe thead th {\n",
       "        text-align: right;\n",
       "    }\n",
       "</style>\n",
       "<table border=\"1\" class=\"dataframe\">\n",
       "  <thead>\n",
       "    <tr style=\"text-align: right;\">\n",
       "      <th></th>\n",
       "      <th>beiwe</th>\n",
       "      <th>content</th>\n",
       "      <th>stress</th>\n",
       "      <th>lonely</th>\n",
       "      <th>sad</th>\n",
       "      <th>energy</th>\n",
       "      <th>tst</th>\n",
       "      <th>sol</th>\n",
       "      <th>naw</th>\n",
       "      <th>restful</th>\n",
       "    </tr>\n",
       "    <tr>\n",
       "      <th>timestamp</th>\n",
       "      <th></th>\n",
       "      <th></th>\n",
       "      <th></th>\n",
       "      <th></th>\n",
       "      <th></th>\n",
       "      <th></th>\n",
       "      <th></th>\n",
       "      <th></th>\n",
       "      <th></th>\n",
       "      <th></th>\n",
       "    </tr>\n",
       "  </thead>\n",
       "  <tbody>\n",
       "    <tr>\n",
       "      <th>2020-05-13 09:10:27</th>\n",
       "      <td>qh34m4r9</td>\n",
       "      <td>3.0</td>\n",
       "      <td>0.0</td>\n",
       "      <td>0.0</td>\n",
       "      <td>0.0</td>\n",
       "      <td>1.0</td>\n",
       "      <td>8.0</td>\n",
       "      <td>20.0</td>\n",
       "      <td>2.0</td>\n",
       "      <td>3.0</td>\n",
       "    </tr>\n",
       "    <tr>\n",
       "      <th>2020-05-13 09:15:49</th>\n",
       "      <td>awa8uces</td>\n",
       "      <td>0.0</td>\n",
       "      <td>2.0</td>\n",
       "      <td>1.0</td>\n",
       "      <td>1.0</td>\n",
       "      <td>1.0</td>\n",
       "      <td>2.0</td>\n",
       "      <td>10.0</td>\n",
       "      <td>3.0</td>\n",
       "      <td>1.0</td>\n",
       "    </tr>\n",
       "    <tr>\n",
       "      <th>2020-05-13 09:42:19</th>\n",
       "      <td>xxvnhauv</td>\n",
       "      <td>1.0</td>\n",
       "      <td>1.0</td>\n",
       "      <td>1.0</td>\n",
       "      <td>3.0</td>\n",
       "      <td>0.0</td>\n",
       "      <td>6.0</td>\n",
       "      <td>30.0</td>\n",
       "      <td>3.0</td>\n",
       "      <td>1.0</td>\n",
       "    </tr>\n",
       "    <tr>\n",
       "      <th>2020-05-13 09:43:27</th>\n",
       "      <td>rvhdl2la</td>\n",
       "      <td>1.0</td>\n",
       "      <td>1.0</td>\n",
       "      <td>2.0</td>\n",
       "      <td>3.0</td>\n",
       "      <td>0.0</td>\n",
       "      <td>5.3</td>\n",
       "      <td>5.0</td>\n",
       "      <td>2.0</td>\n",
       "      <td>2.0</td>\n",
       "    </tr>\n",
       "    <tr>\n",
       "      <th>2020-05-13 10:11:51</th>\n",
       "      <td>q5y11ytm</td>\n",
       "      <td>3.0</td>\n",
       "      <td>1.0</td>\n",
       "      <td>0.0</td>\n",
       "      <td>1.0</td>\n",
       "      <td>2.0</td>\n",
       "      <td>2.0</td>\n",
       "      <td>10.0</td>\n",
       "      <td>0.0</td>\n",
       "      <td>0.0</td>\n",
       "    </tr>\n",
       "  </tbody>\n",
       "</table>\n",
       "</div>"
      ],
      "text/plain": [
       "                        beiwe  content  stress  lonely  sad  energy  tst  \\\n",
       "timestamp                                                                  \n",
       "2020-05-13 09:10:27  qh34m4r9      3.0     0.0     0.0  0.0     1.0  8.0   \n",
       "2020-05-13 09:15:49  awa8uces      0.0     2.0     1.0  1.0     1.0  2.0   \n",
       "2020-05-13 09:42:19  xxvnhauv      1.0     1.0     1.0  3.0     0.0  6.0   \n",
       "2020-05-13 09:43:27  rvhdl2la      1.0     1.0     2.0  3.0     0.0  5.3   \n",
       "2020-05-13 10:11:51  q5y11ytm      3.0     1.0     0.0  1.0     2.0  2.0   \n",
       "\n",
       "                      sol  naw  restful  \n",
       "timestamp                                \n",
       "2020-05-13 09:10:27  20.0  2.0      3.0  \n",
       "2020-05-13 09:15:49  10.0  3.0      1.0  \n",
       "2020-05-13 09:42:19  30.0  3.0      1.0  \n",
       "2020-05-13 09:43:27   5.0  2.0      2.0  \n",
       "2020-05-13 10:11:51  10.0  0.0      0.0  "
      ]
     },
     "execution_count": 130,
     "metadata": {},
     "output_type": "execute_result"
    }
   ],
   "source": [
    "sr_sleep = pd.read_csv('../data/processed/beiwe-morning_ema-ux_s20.csv',index_col=0,parse_dates=True)\n",
    "print(f'Length before removing NaNs:\\t{len(sr_sleep)}')\n",
    "for column in ['tst','sol','naw','restful']:\n",
    "    sr_sleep = sr_sleep[sr_sleep[column].notna()]\n",
    "    sr_sleep = sr_sleep[sr_sleep[column] > -0.5]\n",
    "print(f'Length after removing NaNs:\\t{len(sr_sleep)}')\n",
    "sr_sleep.head()"
   ]
  },
  {
   "cell_type": "markdown",
   "metadata": {},
   "source": [
    "### Daily Fitbit Metrics"
   ]
  },
  {
   "cell_type": "code",
   "execution_count": 131,
   "metadata": {},
   "outputs": [
    {
     "data": {
      "text/html": [
       "<div>\n",
       "<style scoped>\n",
       "    .dataframe tbody tr th:only-of-type {\n",
       "        vertical-align: middle;\n",
       "    }\n",
       "\n",
       "    .dataframe tbody tr th {\n",
       "        vertical-align: top;\n",
       "    }\n",
       "\n",
       "    .dataframe thead th {\n",
       "        text-align: right;\n",
       "    }\n",
       "</style>\n",
       "<table border=\"1\" class=\"dataframe\">\n",
       "  <thead>\n",
       "    <tr style=\"text-align: right;\">\n",
       "      <th></th>\n",
       "      <th>duration_ms</th>\n",
       "      <th>efficiency</th>\n",
       "      <th>end_time</th>\n",
       "      <th>main_sleep</th>\n",
       "      <th>minutes_after_wakeup</th>\n",
       "      <th>minutes_asleep</th>\n",
       "      <th>minutes_awake</th>\n",
       "      <th>minutes_to_sleep</th>\n",
       "      <th>start_time</th>\n",
       "      <th>time_in_bed</th>\n",
       "      <th>beiwe</th>\n",
       "    </tr>\n",
       "    <tr>\n",
       "      <th>date</th>\n",
       "      <th></th>\n",
       "      <th></th>\n",
       "      <th></th>\n",
       "      <th></th>\n",
       "      <th></th>\n",
       "      <th></th>\n",
       "      <th></th>\n",
       "      <th></th>\n",
       "      <th></th>\n",
       "      <th></th>\n",
       "      <th></th>\n",
       "    </tr>\n",
       "  </thead>\n",
       "  <tbody>\n",
       "    <tr>\n",
       "      <th>2020-05-14</th>\n",
       "      <td>24360000</td>\n",
       "      <td>97</td>\n",
       "      <td>2020-05-14T07:13:00.000</td>\n",
       "      <td>True</td>\n",
       "      <td>0</td>\n",
       "      <td>379</td>\n",
       "      <td>27</td>\n",
       "      <td>0</td>\n",
       "      <td>2020-05-14T00:27:00.000</td>\n",
       "      <td>406</td>\n",
       "      <td>hfttkth7</td>\n",
       "    </tr>\n",
       "    <tr>\n",
       "      <th>2020-05-15</th>\n",
       "      <td>29580000</td>\n",
       "      <td>87</td>\n",
       "      <td>2020-05-15T08:06:30.000</td>\n",
       "      <td>True</td>\n",
       "      <td>8</td>\n",
       "      <td>392</td>\n",
       "      <td>101</td>\n",
       "      <td>0</td>\n",
       "      <td>2020-05-14T23:53:30.000</td>\n",
       "      <td>493</td>\n",
       "      <td>hfttkth7</td>\n",
       "    </tr>\n",
       "    <tr>\n",
       "      <th>2020-05-16</th>\n",
       "      <td>19740000</td>\n",
       "      <td>95</td>\n",
       "      <td>2020-05-16T04:57:00.000</td>\n",
       "      <td>True</td>\n",
       "      <td>7</td>\n",
       "      <td>287</td>\n",
       "      <td>42</td>\n",
       "      <td>0</td>\n",
       "      <td>2020-05-15T23:28:00.000</td>\n",
       "      <td>329</td>\n",
       "      <td>hfttkth7</td>\n",
       "    </tr>\n",
       "    <tr>\n",
       "      <th>2020-05-17</th>\n",
       "      <td>26820000</td>\n",
       "      <td>96</td>\n",
       "      <td>2020-05-17T09:28:30.000</td>\n",
       "      <td>True</td>\n",
       "      <td>8</td>\n",
       "      <td>403</td>\n",
       "      <td>44</td>\n",
       "      <td>0</td>\n",
       "      <td>2020-05-17T02:01:30.000</td>\n",
       "      <td>447</td>\n",
       "      <td>hfttkth7</td>\n",
       "    </tr>\n",
       "    <tr>\n",
       "      <th>2020-05-18</th>\n",
       "      <td>24960000</td>\n",
       "      <td>92</td>\n",
       "      <td>2020-05-18T07:20:00.000</td>\n",
       "      <td>True</td>\n",
       "      <td>0</td>\n",
       "      <td>351</td>\n",
       "      <td>65</td>\n",
       "      <td>0</td>\n",
       "      <td>2020-05-18T00:24:00.000</td>\n",
       "      <td>416</td>\n",
       "      <td>hfttkth7</td>\n",
       "    </tr>\n",
       "  </tbody>\n",
       "</table>\n",
       "</div>"
      ],
      "text/plain": [
       "            duration_ms  efficiency                 end_time  main_sleep  \\\n",
       "date                                                                       \n",
       "2020-05-14     24360000          97  2020-05-14T07:13:00.000        True   \n",
       "2020-05-15     29580000          87  2020-05-15T08:06:30.000        True   \n",
       "2020-05-16     19740000          95  2020-05-16T04:57:00.000        True   \n",
       "2020-05-17     26820000          96  2020-05-17T09:28:30.000        True   \n",
       "2020-05-18     24960000          92  2020-05-18T07:20:00.000        True   \n",
       "\n",
       "            minutes_after_wakeup  minutes_asleep  minutes_awake  \\\n",
       "date                                                              \n",
       "2020-05-14                     0             379             27   \n",
       "2020-05-15                     8             392            101   \n",
       "2020-05-16                     7             287             42   \n",
       "2020-05-17                     8             403             44   \n",
       "2020-05-18                     0             351             65   \n",
       "\n",
       "            minutes_to_sleep               start_time  time_in_bed     beiwe  \n",
       "date                                                                          \n",
       "2020-05-14                 0  2020-05-14T00:27:00.000          406  hfttkth7  \n",
       "2020-05-15                 0  2020-05-14T23:53:30.000          493  hfttkth7  \n",
       "2020-05-16                 0  2020-05-15T23:28:00.000          329  hfttkth7  \n",
       "2020-05-17                 0  2020-05-17T02:01:30.000          447  hfttkth7  \n",
       "2020-05-18                 0  2020-05-18T00:24:00.000          416  hfttkth7  "
      ]
     },
     "execution_count": 131,
     "metadata": {},
     "output_type": "execute_result"
    }
   ],
   "source": [
    "fb_sleep = pd.read_csv(\"../data/processed/fitbit-sleep_daily-ux_s20.csv\",index_col=\"date\",parse_dates=True,infer_datetime_format=[\"date\",\"start_time\",\"end_time\"])\n",
    "fb_sleep = fb_sleep[fb_sleep[\"main_sleep\"] == True]\n",
    "hrs = []\n",
    "for dt in pd.to_datetime(fb_sleep[\"start_time\"]):\n",
    "    hrs.append(dt.hour)\n",
    "fb_sleep[\"hour\"] = hrs\n",
    "fb_sleep = fb_sleep[~fb_sleep[\"hour\"].isin(np.arange(10,18,1))]\n",
    "fb_sleep.drop([\"hour\"],axis=1,inplace=True)\n",
    "fb_sleep.head()"
   ]
  },
  {
   "cell_type": "markdown",
   "metadata": {},
   "source": [
    "<div class=\"alert alert-block alert-warning\">\n",
    "    \n",
    "Have to be sure to remove any sleep measured by Fitbit that is not ```main_sleep```"
   ]
  },
  {
   "cell_type": "markdown",
   "metadata": {},
   "source": [
    "# Data Summary and Comparison\n",
    "Since both the survey and fitbit-recorded sleep are on the same resolution, we can easily compare their overall statistics."
   ]
  },
  {
   "cell_type": "markdown",
   "metadata": {},
   "source": [
    "## Sleep Metric Overview - Fitbit and EMA\n",
    "Here we look at the aggregated data across all participants for the two data modalities."
   ]
  },
  {
   "cell_type": "markdown",
   "metadata": {},
   "source": [
    "### Available Data"
   ]
  },
  {
   "cell_type": "code",
   "execution_count": 132,
   "metadata": {},
   "outputs": [
    {
     "name": "stdout",
     "output_type": "stream",
     "text": [
      "Number of sleep surveys:\t1977\n",
      "Number of fitbit records:\t2975\n"
     ]
    }
   ],
   "source": [
    "print(f'Number of sleep surveys:\\t{len(sr_sleep)}')\n",
    "print(f'Number of fitbit records:\\t{len(fb_sleep)}')"
   ]
  },
  {
   "cell_type": "markdown",
   "metadata": {},
   "source": [
    "<div class=\"alert alert-block alert-warning\">\n",
    "\n",
    "There seem to be quite a few records to look at, however we have to see how many nightly records actually overlap. \n",
    "\n",
    "- The sleep surveys are indexed by the day that the participant woke up - for the most part\n",
    "- Fitabase data dictionary does not have a record for ```dateOfSleep``` although they do have ```sleepDate```, however these seem to be different variables. Looking at the data, ```dateOfSleep``` seems to correspond to the date of the ```endTime``` label not the ```startTime``` label which Fitabase suggests.\n",
    "\n",
    "Based on the points above, we just have to check the overlap between the **date of the sleep survey data** and the **date of the fitbit sleep data** per participant to see the combined records that are available.\n",
    "    \n",
    "</div>"
   ]
  },
  {
   "cell_type": "code",
   "execution_count": 133,
   "metadata": {},
   "outputs": [],
   "source": [
    "# creating date column\n",
    "dates = []\n",
    "for d in sr_sleep.index:\n",
    "    if d.hour >= 0 and d.hour + d.minute/60 < 8.5:\n",
    "        dates.append(d.date()- timedelta(days=1))\n",
    "    else:\n",
    "        dates.append(d.date())\n",
    "sr_sleep['date'] = pd.to_datetime(dates)"
   ]
  },
  {
   "cell_type": "markdown",
   "metadata": {},
   "source": [
    "<div class=\"alert alert-block alert-warning\">\n",
    "\n",
    "Participants who filled out their sleep survey prior to 3:00 are _most likely_ responding to the previous day's sleep. This is taken into account in the previous cell."
   ]
  },
  {
   "cell_type": "markdown",
   "metadata": {},
   "source": [
    "### Available Participants"
   ]
  },
  {
   "cell_type": "markdown",
   "metadata": {},
   "source": [
    "First, let's check that we have the same participants for both modalities:"
   ]
  },
  {
   "cell_type": "code",
   "execution_count": 134,
   "metadata": {},
   "outputs": [
    {
     "name": "stdout",
     "output_type": "stream",
     "text": [
      "Number of Fitbit Participants:\t44\n",
      "Number of Survey Participants:\t50\n"
     ]
    }
   ],
   "source": [
    "# Pts with fitbits\n",
    "fb_beiwe = fb_sleep['beiwe'].unique()\n",
    "# Pts who took surveys\n",
    "sr_beiwe = sr_sleep['beiwe'].unique()\n",
    "print(f'Number of Fitbit Participants:\\t{len(fb_beiwe)}\\nNumber of Survey Participants:\\t{len(sr_beiwe)}')"
   ]
  },
  {
   "cell_type": "code",
   "execution_count": 135,
   "metadata": {},
   "outputs": [
    {
     "name": "stdout",
     "output_type": "stream",
     "text": [
      "Length of Intersecting Participants:\t40\n",
      "['15tejjtw' '1a9udoc5' '2xtqkfz1' '43b1cd5m' '4i7679py' '5fvmg226'\n",
      " '745vq78e' '7dhu3pn7' '9jtzsuu8' '9xmhtq74' 'axk49ssu' 'e73a1pd5'\n",
      " 'e8js2jdf' 'eyf8oqwl' 'h8aoiyhv' 'hcpu5myv' 'hfttkth7' 'hxj6brwj'\n",
      " 'i31pt4b4' 'i4w8dx6l' 'idbkjh8u' 'itmylz3g' 'kyj367pi' 'lkkjddam'\n",
      " 'mm69prai' 'o6xwrota' 'olaxadz5' 'oxcpr7e3' 'qh34m4r9' 'rnse61g4'\n",
      " 'rvhdl2la' 't4jphih6' 'tlmlq19s' 'tmexej5v' 'vpy1a985' 'vr9j5rry'\n",
      " 'xdbdrk6e' 'xlw5ntd5' 'y1tvkx14' 'zdpffrox']\n"
     ]
    }
   ],
   "source": [
    "# list of pts from both\n",
    "pt_list = np.intersect1d(fb_beiwe,sr_beiwe)\n",
    "print(f'Length of Intersecting Participants:\\t{len(pt_list)}')\n",
    "print(pt_list)"
   ]
  },
  {
   "cell_type": "markdown",
   "metadata": {},
   "source": [
    "## Combining Sleep Data\n",
    "Now we can loop through the participants, combining days of self-report and measured sleep metrics when both records exist. "
   ]
  },
  {
   "cell_type": "code",
   "execution_count": 136,
   "metadata": {},
   "outputs": [],
   "source": [
    "combined_sleep = pd.DataFrame() # dataframe to append to\n",
    "for pt in pt_list:\n",
    "    sr_sleep_beiwe = sr_sleep[sr_sleep['beiwe'] == pt]\n",
    "    fb_sleep_beiwe = fb_sleep[fb_sleep['beiwe'] == pt]\n",
    "    temp = pd.merge(left=sr_sleep_beiwe,right=fb_sleep_beiwe,left_on='date',right_index=True,how='inner')\n",
    "    temp.drop([\"beiwe_x\",\"beiwe_y\"],axis=1,inplace=True)\n",
    "    temp[\"beiwe\"] = pt\n",
    "    combined_sleep = combined_sleep.append(temp)\n"
   ]
  },
  {
   "cell_type": "markdown",
   "metadata": {},
   "source": [
    "Now we can see how many nights of data we have from both modalities in addition to if we lost any participants due to lack of overlap."
   ]
  },
  {
   "cell_type": "code",
   "execution_count": 137,
   "metadata": {},
   "outputs": [
    {
     "name": "stdout",
     "output_type": "stream",
     "text": [
      "Number of overlapping nights: 948\n",
      "\tFrom 40 participants\n"
     ]
    }
   ],
   "source": [
    "print(f'Number of overlapping nights: {len(combined_sleep)}')\n",
    "n = len(combined_sleep['beiwe'].unique())\n",
    "print(f'\\tFrom {n} participants')"
   ]
  },
  {
   "cell_type": "markdown",
   "metadata": {},
   "source": [
    "Renaming columns for easier use"
   ]
  },
  {
   "cell_type": "code",
   "execution_count": 138,
   "metadata": {},
   "outputs": [],
   "source": [
    "combined_sleep.drop(['content', 'stress', 'lonely', 'sad', 'energy',\"main_sleep\"],axis=1,inplace=True)\n",
    "combined_sleep.columns = ['tst_ema', 'sol_ema', 'naw_ema',\n",
    "       'restful_ema', 'date', 'tst_fb', 'efficiency_fb', 'end_time', 'minutes_after_wakeup', 'minutes_asleep', 'naw_fb',\n",
    "       'sol_fb', 'start_time', 'time_in_bed', 'beiwe']\n",
    "# some more cleaning\n",
    "combined_sleep[\"tst_fb\"] /= 3600000"
   ]
  },
  {
   "cell_type": "markdown",
   "metadata": {},
   "source": [
    "# Sleep Metric Comparison\n",
    "The following cells look at similar sleep metrics measured across platforms."
   ]
  },
  {
   "cell_type": "code",
   "execution_count": 139,
   "metadata": {},
   "outputs": [],
   "source": [
    "def plot_tst_comparision_histograms(df=combined_sleep,sleep_metric=\"tst\",save=False,figure_note=\"all\"):\n",
    "    \"\"\"\n",
    "    \n",
    "    \"\"\"\n",
    "    fig, axes = plt.subplots(1,3,figsize=(18,6),sharey='row')\n",
    "    for vals, b, color, title, ax in zip([df[f'{sleep_metric}_ema'],df[f'{sleep_metric}_fb'],df[f'{sleep_metric}_ema']-df[f'{sleep_metric}_fb']],\n",
    "                                        [np.arange(0,15,1),np.arange(0,15,1),np.arange(-8,9,1)],\n",
    "                                        [\"cornflowerblue\",\"firebrick\",\"seagreen\"],[\"Self-Report\",\"Fitbit-Measured\",\"Difference (Self-Report - Fitbit-Measured)\"],axes.flat):\n",
    "        ax.hist(vals,bins=b,density=True,rwidth=0.9,color=color,edgecolor='black')\n",
    "        ax.set_title(title)\n",
    "        for loc in [\"top\",\"right\"]:\n",
    "            ax.spines[loc].set_visible(False)\n",
    "\n",
    "    plt.subplots_adjust(wspace=0)\n",
    "    if save:\n",
    "        plt.savefig(f\"../reports/figures/ema_vs_fitbit/beiwe-fitbit-tst-tst-histogram_comparison_{figure_note}-ux_s20.pdf\")\n",
    "    plt.show()\n",
    "    plt.close()"
   ]
  },
  {
   "cell_type": "markdown",
   "metadata": {},
   "source": [
    "## Total Sleep Time\n",
    "Total sleep time (TST) in hours"
   ]
  },
  {
   "cell_type": "markdown",
   "metadata": {},
   "source": [
    "### Comparing All Available Data"
   ]
  },
  {
   "cell_type": "code",
   "execution_count": 140,
   "metadata": {},
   "outputs": [
    {
     "data": {
      "image/png": "[encoded data removed]",
      "text/plain": [
       "<Figure size 1296x432 with 3 Axes>"
      ]
     },
     "metadata": {
      "needs_background": "light"
     },
     "output_type": "display_data"
    }
   ],
   "source": [
    "plot_tst_comparision_histograms()"
   ]
  },
  {
   "cell_type": "markdown",
   "metadata": {},
   "source": [
    "<div class=\"alert alert-block alert-info\">\n",
    "    \n",
    "**TST Comparison - All Data**\n",
    "    \n",
    "Results are interesting particularly when analyzing the difference histrogram (green). \n",
    "\n",
    "When looking at the differences, the mean value is shifted left meaning one of two things:\n",
    "1. On average, Fitbit **over-estimates** the TST\n",
    "2. On average, participants **under-estimate** their TST\n",
    "    \n",
    "Zooming out, the differences show values of up to 7 hours. These make little sense and should be further investigated."
   ]
  },
  {
   "cell_type": "markdown",
   "metadata": {},
   "source": [
    "### TST Outliers\n",
    "In the following cells we look at the nights when participants reported dramatically different TST."
   ]
  },
  {
   "cell_type": "code",
   "execution_count": 141,
   "metadata": {},
   "outputs": [],
   "source": [
    "def check_sleep_outliers(df=combined_sleep,sleep_metric=\"tst\",threshold=3):\n",
    "    \"\"\"\n",
    "    Returns a dataframe of the outlying data from the given dataframte based on the sleep metric and the threshold\n",
    "    \"\"\"\n",
    "    # creating a tst_difference column and checking the nights with abs(tst) greater than 3 hours\n",
    "    df[\"difference\"] = abs(df[f\"{sleep_metric}_fb\"] - df[f\"{sleep_metric}_ema\"])\n",
    "    df_outlier = df[df[\"difference\"] >= threshold]\n",
    "    return df_outlier"
   ]
  },
  {
   "cell_type": "code",
   "execution_count": 142,
   "metadata": {},
   "outputs": [
    {
     "data": {
      "text/html": [
       "<div>\n",
       "<style scoped>\n",
       "    .dataframe tbody tr th:only-of-type {\n",
       "        vertical-align: middle;\n",
       "    }\n",
       "\n",
       "    .dataframe tbody tr th {\n",
       "        vertical-align: top;\n",
       "    }\n",
       "\n",
       "    .dataframe thead th {\n",
       "        text-align: right;\n",
       "    }\n",
       "</style>\n",
       "<table border=\"1\" class=\"dataframe\">\n",
       "  <thead>\n",
       "    <tr style=\"text-align: right;\">\n",
       "      <th></th>\n",
       "      <th>tst_ema</th>\n",
       "      <th>sol_ema</th>\n",
       "      <th>naw_ema</th>\n",
       "      <th>restful_ema</th>\n",
       "      <th>date</th>\n",
       "      <th>tst_fb</th>\n",
       "      <th>efficiency_fb</th>\n",
       "      <th>end_time</th>\n",
       "      <th>minutes_after_wakeup</th>\n",
       "      <th>minutes_asleep</th>\n",
       "      <th>naw_fb</th>\n",
       "      <th>sol_fb</th>\n",
       "      <th>start_time</th>\n",
       "      <th>time_in_bed</th>\n",
       "      <th>beiwe</th>\n",
       "      <th>difference</th>\n",
       "    </tr>\n",
       "    <tr>\n",
       "      <th>timestamp</th>\n",
       "      <th></th>\n",
       "      <th></th>\n",
       "      <th></th>\n",
       "      <th></th>\n",
       "      <th></th>\n",
       "      <th></th>\n",
       "      <th></th>\n",
       "      <th></th>\n",
       "      <th></th>\n",
       "      <th></th>\n",
       "      <th></th>\n",
       "      <th></th>\n",
       "      <th></th>\n",
       "      <th></th>\n",
       "      <th></th>\n",
       "      <th></th>\n",
       "    </tr>\n",
       "  </thead>\n",
       "  <tbody>\n",
       "    <tr>\n",
       "      <th>2020-05-27 09:02:19</th>\n",
       "      <td>6.5</td>\n",
       "      <td>10.0</td>\n",
       "      <td>1.0</td>\n",
       "      <td>2.0</td>\n",
       "      <td>2020-05-27</td>\n",
       "      <td>11.566667</td>\n",
       "      <td>97</td>\n",
       "      <td>2020-05-27T08:18:30.000</td>\n",
       "      <td>0</td>\n",
       "      <td>630</td>\n",
       "      <td>64</td>\n",
       "      <td>0</td>\n",
       "      <td>2020-05-26T20:44:30.000</td>\n",
       "      <td>694</td>\n",
       "      <td>5fvmg226</td>\n",
       "      <td>5.066667</td>\n",
       "    </tr>\n",
       "    <tr>\n",
       "      <th>2020-08-17 09:31:55</th>\n",
       "      <td>1.0</td>\n",
       "      <td>0.0</td>\n",
       "      <td>0.0</td>\n",
       "      <td>2.0</td>\n",
       "      <td>2020-08-17</td>\n",
       "      <td>6.583333</td>\n",
       "      <td>77</td>\n",
       "      <td>2020-08-17T09:30:30.000</td>\n",
       "      <td>0</td>\n",
       "      <td>292</td>\n",
       "      <td>103</td>\n",
       "      <td>0</td>\n",
       "      <td>2020-08-17T02:55:00.000</td>\n",
       "      <td>395</td>\n",
       "      <td>5fvmg226</td>\n",
       "      <td>5.583333</td>\n",
       "    </tr>\n",
       "    <tr>\n",
       "      <th>2020-08-16 11:13:23</th>\n",
       "      <td>11.7</td>\n",
       "      <td>0.0</td>\n",
       "      <td>0.0</td>\n",
       "      <td>3.0</td>\n",
       "      <td>2020-08-16</td>\n",
       "      <td>6.200000</td>\n",
       "      <td>97</td>\n",
       "      <td>2020-08-16T04:55:30.000</td>\n",
       "      <td>0</td>\n",
       "      <td>317</td>\n",
       "      <td>55</td>\n",
       "      <td>0</td>\n",
       "      <td>2020-08-15T22:43:30.000</td>\n",
       "      <td>372</td>\n",
       "      <td>745vq78e</td>\n",
       "      <td>5.500000</td>\n",
       "    </tr>\n",
       "    <tr>\n",
       "      <th>2020-08-30 05:44:35</th>\n",
       "      <td>5.0</td>\n",
       "      <td>136.0</td>\n",
       "      <td>5.0</td>\n",
       "      <td>1.0</td>\n",
       "      <td>2020-08-29</td>\n",
       "      <td>9.683333</td>\n",
       "      <td>91</td>\n",
       "      <td>2020-08-29T07:11:00.000</td>\n",
       "      <td>0</td>\n",
       "      <td>498</td>\n",
       "      <td>83</td>\n",
       "      <td>0</td>\n",
       "      <td>2020-08-28T21:29:30.000</td>\n",
       "      <td>581</td>\n",
       "      <td>9xmhtq74</td>\n",
       "      <td>4.683333</td>\n",
       "    </tr>\n",
       "    <tr>\n",
       "      <th>2020-06-07 21:21:32</th>\n",
       "      <td>7.0</td>\n",
       "      <td>30.0</td>\n",
       "      <td>2.0</td>\n",
       "      <td>2.0</td>\n",
       "      <td>2020-06-07</td>\n",
       "      <td>11.133333</td>\n",
       "      <td>92</td>\n",
       "      <td>2020-06-07T09:50:00.000</td>\n",
       "      <td>0</td>\n",
       "      <td>566</td>\n",
       "      <td>102</td>\n",
       "      <td>0</td>\n",
       "      <td>2020-06-06T22:42:00.000</td>\n",
       "      <td>668</td>\n",
       "      <td>eyf8oqwl</td>\n",
       "      <td>4.133333</td>\n",
       "    </tr>\n",
       "    <tr>\n",
       "      <th>2020-07-01 10:37:08</th>\n",
       "      <td>4.0</td>\n",
       "      <td>45.0</td>\n",
       "      <td>4.0</td>\n",
       "      <td>0.0</td>\n",
       "      <td>2020-07-01</td>\n",
       "      <td>8.983333</td>\n",
       "      <td>92</td>\n",
       "      <td>2020-07-01T08:11:30.000</td>\n",
       "      <td>0</td>\n",
       "      <td>474</td>\n",
       "      <td>65</td>\n",
       "      <td>0</td>\n",
       "      <td>2020-06-30T23:12:00.000</td>\n",
       "      <td>539</td>\n",
       "      <td>eyf8oqwl</td>\n",
       "      <td>4.983333</td>\n",
       "    </tr>\n",
       "    <tr>\n",
       "      <th>2020-08-16 11:41:51</th>\n",
       "      <td>6.0</td>\n",
       "      <td>45.0</td>\n",
       "      <td>3.0</td>\n",
       "      <td>1.0</td>\n",
       "      <td>2020-08-16</td>\n",
       "      <td>10.100000</td>\n",
       "      <td>90</td>\n",
       "      <td>2020-08-16T09:55:30.000</td>\n",
       "      <td>0</td>\n",
       "      <td>495</td>\n",
       "      <td>111</td>\n",
       "      <td>0</td>\n",
       "      <td>2020-08-15T23:49:00.000</td>\n",
       "      <td>606</td>\n",
       "      <td>eyf8oqwl</td>\n",
       "      <td>4.100000</td>\n",
       "    </tr>\n",
       "    <tr>\n",
       "      <th>2020-06-15 12:56:45</th>\n",
       "      <td>5.0</td>\n",
       "      <td>15.0</td>\n",
       "      <td>2.0</td>\n",
       "      <td>2.0</td>\n",
       "      <td>2020-06-15</td>\n",
       "      <td>9.200000</td>\n",
       "      <td>91</td>\n",
       "      <td>2020-06-15T12:37:00.000</td>\n",
       "      <td>4</td>\n",
       "      <td>478</td>\n",
       "      <td>74</td>\n",
       "      <td>0</td>\n",
       "      <td>2020-06-15T03:24:30.000</td>\n",
       "      <td>552</td>\n",
       "      <td>itmylz3g</td>\n",
       "      <td>4.200000</td>\n",
       "    </tr>\n",
       "    <tr>\n",
       "      <th>2020-08-17 21:20:24</th>\n",
       "      <td>8.0</td>\n",
       "      <td>60.0</td>\n",
       "      <td>3.0</td>\n",
       "      <td>1.0</td>\n",
       "      <td>2020-08-17</td>\n",
       "      <td>3.150000</td>\n",
       "      <td>92</td>\n",
       "      <td>2020-08-17T07:12:30.000</td>\n",
       "      <td>0</td>\n",
       "      <td>163</td>\n",
       "      <td>26</td>\n",
       "      <td>0</td>\n",
       "      <td>2020-08-17T04:03:30.000</td>\n",
       "      <td>189</td>\n",
       "      <td>xdbdrk6e</td>\n",
       "      <td>4.850000</td>\n",
       "    </tr>\n",
       "  </tbody>\n",
       "</table>\n",
       "</div>"
      ],
      "text/plain": [
       "                     tst_ema  sol_ema  naw_ema  restful_ema       date  \\\n",
       "timestamp                                                                \n",
       "2020-05-27 09:02:19      6.5     10.0      1.0          2.0 2020-05-27   \n",
       "2020-08-17 09:31:55      1.0      0.0      0.0          2.0 2020-08-17   \n",
       "2020-08-16 11:13:23     11.7      0.0      0.0          3.0 2020-08-16   \n",
       "2020-08-30 05:44:35      5.0    136.0      5.0          1.0 2020-08-29   \n",
       "2020-06-07 21:21:32      7.0     30.0      2.0          2.0 2020-06-07   \n",
       "2020-07-01 10:37:08      4.0     45.0      4.0          0.0 2020-07-01   \n",
       "2020-08-16 11:41:51      6.0     45.0      3.0          1.0 2020-08-16   \n",
       "2020-06-15 12:56:45      5.0     15.0      2.0          2.0 2020-06-15   \n",
       "2020-08-17 21:20:24      8.0     60.0      3.0          1.0 2020-08-17   \n",
       "\n",
       "                        tst_fb  efficiency_fb                 end_time  \\\n",
       "timestamp                                                                \n",
       "2020-05-27 09:02:19  11.566667             97  2020-05-27T08:18:30.000   \n",
       "2020-08-17 09:31:55   6.583333             77  2020-08-17T09:30:30.000   \n",
       "2020-08-16 11:13:23   6.200000             97  2020-08-16T04:55:30.000   \n",
       "2020-08-30 05:44:35   9.683333             91  2020-08-29T07:11:00.000   \n",
       "2020-06-07 21:21:32  11.133333             92  2020-06-07T09:50:00.000   \n",
       "2020-07-01 10:37:08   8.983333             92  2020-07-01T08:11:30.000   \n",
       "2020-08-16 11:41:51  10.100000             90  2020-08-16T09:55:30.000   \n",
       "2020-06-15 12:56:45   9.200000             91  2020-06-15T12:37:00.000   \n",
       "2020-08-17 21:20:24   3.150000             92  2020-08-17T07:12:30.000   \n",
       "\n",
       "                     minutes_after_wakeup  minutes_asleep  naw_fb  sol_fb  \\\n",
       "timestamp                                                                   \n",
       "2020-05-27 09:02:19                     0             630      64       0   \n",
       "2020-08-17 09:31:55                     0             292     103       0   \n",
       "2020-08-16 11:13:23                     0             317      55       0   \n",
       "2020-08-30 05:44:35                     0             498      83       0   \n",
       "2020-06-07 21:21:32                     0             566     102       0   \n",
       "2020-07-01 10:37:08                     0             474      65       0   \n",
       "2020-08-16 11:41:51                     0             495     111       0   \n",
       "2020-06-15 12:56:45                     4             478      74       0   \n",
       "2020-08-17 21:20:24                     0             163      26       0   \n",
       "\n",
       "                                  start_time  time_in_bed     beiwe  \\\n",
       "timestamp                                                             \n",
       "2020-05-27 09:02:19  2020-05-26T20:44:30.000          694  5fvmg226   \n",
       "2020-08-17 09:31:55  2020-08-17T02:55:00.000          395  5fvmg226   \n",
       "2020-08-16 11:13:23  2020-08-15T22:43:30.000          372  745vq78e   \n",
       "2020-08-30 05:44:35  2020-08-28T21:29:30.000          581  9xmhtq74   \n",
       "2020-06-07 21:21:32  2020-06-06T22:42:00.000          668  eyf8oqwl   \n",
       "2020-07-01 10:37:08  2020-06-30T23:12:00.000          539  eyf8oqwl   \n",
       "2020-08-16 11:41:51  2020-08-15T23:49:00.000          606  eyf8oqwl   \n",
       "2020-06-15 12:56:45  2020-06-15T03:24:30.000          552  itmylz3g   \n",
       "2020-08-17 21:20:24  2020-08-17T04:03:30.000          189  xdbdrk6e   \n",
       "\n",
       "                     difference  \n",
       "timestamp                        \n",
       "2020-05-27 09:02:19    5.066667  \n",
       "2020-08-17 09:31:55    5.583333  \n",
       "2020-08-16 11:13:23    5.500000  \n",
       "2020-08-30 05:44:35    4.683333  \n",
       "2020-06-07 21:21:32    4.133333  \n",
       "2020-07-01 10:37:08    4.983333  \n",
       "2020-08-16 11:41:51    4.100000  \n",
       "2020-06-15 12:56:45    4.200000  \n",
       "2020-08-17 21:20:24    4.850000  "
      ]
     },
     "execution_count": 142,
     "metadata": {},
     "output_type": "execute_result"
    }
   ],
   "source": [
    "check_sleep_outliers(threshold=4)"
   ]
  },
  {
   "cell_type": "markdown",
   "metadata": {},
   "source": [
    "<div class=\"alert alert-block alert-danger\">\n",
    "What is the best way to deal with TST differences that are so largely negative and/or positive?"
   ]
  },
  {
   "cell_type": "markdown",
   "metadata": {},
   "source": [
    "### Removing Outliers"
   ]
  },
  {
   "cell_type": "markdown",
   "metadata": {},
   "source": [
    "We try two methods to remove values of TST that don't agree. We have to start by creating a new variable that is the absolute value of the difference between the two measurements. Then we can do outlier detection on that distribution. \n",
    "1. Z-Score: We calculate the z-score of the differences and only use TST values where the z-score is less than 2.5 for the difference\n",
    "2. IQR: We calculate the IQR for the difference in TST between modalities and remove values that are $1.5*IQR$ greater than the 75% percentile and $1.5*IQR$ less than the 25% percentile."
   ]
  },
  {
   "cell_type": "code",
   "execution_count": 143,
   "metadata": {},
   "outputs": [
    {
     "name": "stdout",
     "output_type": "stream",
     "text": [
      "N for Complete Dataset:\t\t\t948\n",
      "N for Reduced Dataset (z-score):\t919\n",
      "N for Reduced Dataset (iqr):\t\t880\n"
     ]
    }
   ],
   "source": [
    "combined_sleep['TST_Difference'] = combined_sleep['tst_ema'] - combined_sleep['tst_fb']\n",
    "combined_sleep['Difference_Z'] = (combined_sleep['TST_Difference'] - np.mean(combined_sleep['TST_Difference'])) / np.std(combined_sleep['TST_Difference'])\n",
    "reduced_sleep_z = combined_sleep[abs(combined_sleep['Difference_Z']) < 2.5]\n",
    "\n",
    "iqr = np.percentile(combined_sleep['TST_Difference'],75) - np.percentile(combined_sleep['TST_Difference'],25)\n",
    "reduced_sleep_iqr = combined_sleep[(combined_sleep['TST_Difference'] < np.percentile(combined_sleep['TST_Difference'],75) + 1.5*iqr) & (combined_sleep['TST_Difference'] > np.percentile(combined_sleep['TST_Difference'],25) - 1.5*iqr)]\n",
    "\n",
    "print(f'N for Complete Dataset:\\t\\t\\t{len(combined_sleep)}')\n",
    "print(f'N for Reduced Dataset (z-score):\\t{len(reduced_sleep_z)}')\n",
    "print(f'N for Reduced Dataset (iqr):\\t\\t{len(reduced_sleep_iqr)}')"
   ]
  },
  {
   "cell_type": "code",
   "execution_count": 144,
   "metadata": {},
   "outputs": [
    {
     "name": "stdout",
     "output_type": "stream",
     "text": [
      "OLS for Complete Dataset\n",
      "\tSlope Model\n",
      "\t\tParams:\t[0.87438262]\n",
      "\t\tR^2:\t0.9819099976174517\n",
      "\tFull Model\n",
      "\t\tParams:\t[2.11519235 0.61412342]\n",
      "\t\tR^2:\t0.5284121381164313\n",
      "OLS for Reduced by Z-Score Dataset\n",
      "\tSlope Model\n",
      "\t\tParams:\t[0.87773787]\n",
      "\t\tR^2:\t0.9885260496975342\n",
      "\tFull Model\n",
      "\t\tParams:\t[1.474781   0.69595539]\n",
      "\t\tR^2:\t0.6682059825676978\n",
      "OLS for Reduced by 1.5xIQR Dataset\n",
      "\tSlope Model\n",
      "\t\tParams:\t[0.87880732]\n",
      "\t\tR^2:\t0.9916229228553205\n",
      "\tFull Model\n",
      "\t\tParams:\t[1.05315526 0.74866399]\n",
      "\t\tR^2:\t0.7384076867761074\n"
     ]
    }
   ],
   "source": [
    "slope_models = []\n",
    "full_models = []\n",
    "dataset_labels = ['Complete','Reduced by Z-Score','Reduced by 1.5xIQR']\n",
    "for df, dataset in zip([combined_sleep,reduced_sleep_z,reduced_sleep_iqr],dataset_labels):\n",
    "    print(f'OLS for {dataset} Dataset')\n",
    "    x = df['tst_fb'].values\n",
    "    y = df['tst_ema'].values\n",
    "    # OLS - intercept at origin\n",
    "    slope_model = sm.OLS(y,x).fit()\n",
    "    print(\"\\tSlope Model\")\n",
    "    print(f\"\\t\\tParams:\\t{slope_model.params}\\n\\t\\tR^2:\\t{slope_model.rsquared}\")\n",
    "    slope_models.append(slope_model)\n",
    "    # OLS - intercept included\n",
    "    full_model = sm.OLS(y,sm.add_constant(x)).fit()\n",
    "    print(\"\\tFull Model\")\n",
    "    print(f\"\\t\\tParams:\\t{full_model.params}\\n\\t\\tR^2:\\t{full_model.rsquared}\")\n",
    "    full_models.append(full_model)"
   ]
  },
  {
   "cell_type": "code",
   "execution_count": 145,
   "metadata": {},
   "outputs": [
    {
     "data": {
      "image/png": "[encoded data removed]",
      "text/plain": [
       "<Figure size 1080x360 with 3 Axes>"
      ]
     },
     "metadata": {
      "needs_background": "light"
     },
     "output_type": "display_data"
    }
   ],
   "source": [
    "fig, axes = plt.subplots(1,3,figsize=(15,5),sharey='row')\n",
    "dfs = [combined_sleep,reduced_sleep_z,reduced_sleep_iqr]\n",
    "for i in range(3):\n",
    "    ax = axes[i]\n",
    "    df = dfs[i]\n",
    "    # data\n",
    "    ax.scatter(df['tst_fb'],df['tst_ema'],color='black',zorder=10,label='Measured')\n",
    "    # one-to-one\n",
    "    ax.plot([0,15],[0,15],color='gray',linestyle='dashed',zorder=1,label='One-to-One')\n",
    "    # slope\n",
    "    ax.plot(df['tst_fb'].values,slope_models[i].fittedvalues,color='cornflowerblue',label='Slope-Only')\n",
    "    # full\n",
    "    ax.plot(df['tst_fb'].values,full_models[i].fittedvalues,color='seagreen',label='Slope-Intercept')\n",
    "\n",
    "    ax.set_xlim([0,15])\n",
    "    ax.set_ylim([0,15])\n",
    "    ax.set_xticks(np.arange(0,15,1))\n",
    "    ax.set_yticks(np.arange(0,16,1))\n",
    "    ax.set_title(dataset_labels[i])\n",
    "    if i == 1:\n",
    "        ax.set_xlabel('Fitbit-Measured TST')\n",
    "    if i == 2:\n",
    "        ax.legend(bbox_to_anchor=(0.25,-0.12),ncol=4,frameon=False)\n",
    "\n",
    "ax.set_ylabel('Self-Report TST')\n",
    "plt.subplots_adjust(wspace=0,hspace=0.15)\n",
    "plt.show()\n",
    "plt.close()"
   ]
  },
  {
   "cell_type": "code",
   "execution_count": 146,
   "metadata": {},
   "outputs": [
    {
     "data": {
      "image/png": "[encoded data removed]",
      "text/plain": [
       "<Figure size 1296x432 with 3 Axes>"
      ]
     },
     "metadata": {
      "needs_background": "light"
     },
     "output_type": "display_data"
    }
   ],
   "source": [
    "plot_tst_comparision_histograms(reduced_sleep_iqr)"
   ]
  },
  {
   "cell_type": "markdown",
   "metadata": {},
   "source": [
    "### Participant Comparison Across Platforms\n",
    "Now we look at individual participants and how they compared across the different modalities. With these figures it is important to highlight the individuals if possible. Some ideas include:\n",
    "- Scatter with color for participants\n",
    "- m-by-n figure that includes all participants with dots colored and line of best fit included where the other dots are monocolor (I like this one)"
   ]
  },
  {
   "cell_type": "code",
   "execution_count": 147,
   "metadata": {},
   "outputs": [],
   "source": [
    "def plot_sleep_metric_vs_all(df=combined_sleep,var=\"tst\",save=False,figure_note=\"\"):\n",
    "    \"\"\"\n",
    "    Plots a sleep metric for each participant over the aggregate scatter\n",
    "    \"\"\"\n",
    "    fig, axes = plt.subplots(5,8,figsize=(14,10),sharex='col',sharey='row')\n",
    "    for pt, ax in zip(combined_sleep['beiwe'].unique(),axes.flat):\n",
    "        pt_df = combined_sleep[combined_sleep['beiwe'] == pt]\n",
    "        nonpt_df = combined_sleep[combined_sleep['beiwe'] != pt]\n",
    "        ax.scatter(nonpt_df['tst_fb'],nonpt_df['tst_ema'],s=15,color='lightgray',zorder=1)\n",
    "        ax.scatter(pt_df['tst_fb'],pt_df['tst_ema'],s=15,color='navy',zorder=2)\n",
    "        ax.set_xlim([0,15])\n",
    "        ax.set_ylim([0,15])\n",
    "        ax.axis('off')\n",
    "\n",
    "    # Hard-code annotating\n",
    "    axes[4,0].axis('on')\n",
    "    axes[4,0].set_xticks([0,5,10,15])\n",
    "    axes[4,0].set_yticks([0,5,10,15])\n",
    "    for loc in [\"top\",\"right\"]:\n",
    "        axes[4,0].spines[loc].set_visible(False)\n",
    "    axes[2,0].text(-3.5,7.5,'Self-Report Sleep Time',rotation=90,ha='center',va='center')\n",
    "    axes[4,3].text(7.5,-3.5,'Fitbit-Measured Sleep Time',ha='center',va='top')\n",
    "    plt.subplots_adjust(wspace=0,hspace=0)\n",
    "    plt.axis('off')\n",
    "    if save:\n",
    "        plt.savefig(f'../reports/figures/ema_vs_fitbit/fitbit-beiwe-{var}-{var}-comprehensive-scatter.pdf')\n",
    "    plt.show()\n",
    "    plt.close()"
   ]
  },
  {
   "cell_type": "code",
   "execution_count": 148,
   "metadata": {},
   "outputs": [
    {
     "data": {
      "image/png": "[encoded data removed]",
      "text/plain": [
       "<Figure size 1008x720 with 40 Axes>"
      ]
     },
     "metadata": {
      "needs_background": "light"
     },
     "output_type": "display_data"
    }
   ],
   "source": [
    "plot_sleep_metric_vs_all()"
   ]
  },
  {
   "cell_type": "markdown",
   "metadata": {},
   "source": [
    "## Awakenings\n",
    "While we can't compre awakenings directly across platforms, we can compare the number of awakenings reported through EMAs to the ```awake_time``` measured by the Fitbit."
   ]
  },
  {
   "cell_type": "code",
   "execution_count": 168,
   "metadata": {},
   "outputs": [],
   "source": [
    "def scatter_sleep_metrics(df=combined_sleep,var=\"naw\",save=False):\n",
    "    \"\"\"\n",
    "    Simple scatter plot to show the sleep metrics relationship\n",
    "    \"\"\"\n",
    "    fig, ax = plt.subplots(figsize=(8,8))\n",
    "    ax.scatter(df[f\"{var}_fb\"],df[f\"{var}_ema\"],color=\"cornflowerblue\",edgecolor=\"black\")\n",
    "    \n",
    "    if save:\n",
    "        plt.savefig(f\"../reports/figures/ema_vs_fitbit/fitbit-beiwe-{var}-{var}-scatter-ux_s20.pdf\")\n",
    "    plt.show()\n",
    "    plt.close()"
   ]
  },
  {
   "cell_type": "code",
   "execution_count": 169,
   "metadata": {},
   "outputs": [
    {
     "data": {
      "image/png": "[encoded data removed]",
      "text/plain": [
       "<Figure size 576x576 with 1 Axes>"
      ]
     },
     "metadata": {
      "needs_background": "light"
     },
     "output_type": "display_data"
    }
   ],
   "source": [
    "scatter_sleep_metrics()"
   ]
  },
  {
   "cell_type": "markdown",
   "metadata": {},
   "source": [
    "# Filtered Dataset Analysis\n",
    "These next cells take a closer look at the sleep metrics from Fitbit and the EMAs for the filtered datasets rather than any night that we have data from both."
   ]
  },
  {
   "cell_type": "code",
   "execution_count": 29,
   "metadata": {},
   "outputs": [
    {
     "data": {
      "text/plain": [
       "Index(['duration_ms', 'efficiency', 'end_time', 'main_sleep',\n",
       "       'minutes_after_wakeup', 'minutes_asleep', 'minutes_awake',\n",
       "       'minutes_to_sleep', 'start_time', 'time_in_bed', 'content', 'stress',\n",
       "       'lonely', 'sad', 'energy', 'tst', 'sol', 'naw', 'restful', 'beiwe',\n",
       "       'beacon', 'fitbit', 'redcap'],\n",
       "      dtype='object')"
      ]
     },
     "execution_count": 29,
     "metadata": {},
     "output_type": "execute_result"
    }
   ],
   "source": [
    "ff_sleep = pd.read_csv('../data/processed/fitbit_beiwe_beacon-sleep_summary-ux_s20.csv',\n",
    "                      index_col=0,parse_dates=True,infer_datetime_format=True)\n",
    "ff_sleep.columns"
   ]
  },
  {
   "cell_type": "markdown",
   "metadata": {},
   "source": [
    "## Aggregate Comparison\n",
    "We want to see how sleep metrics vary in bulk."
   ]
  },
  {
   "cell_type": "markdown",
   "metadata": {},
   "source": [
    "### Bland Altman Difference Plot\n",
    "See [here](https://www.statsmodels.org/devel/generated/statsmodels.graphics.agreement.mean_diff_plot.html) for some more information."
   ]
  },
  {
   "cell_type": "code",
   "execution_count": 33,
   "metadata": {},
   "outputs": [],
   "source": [
    "def plot_bland_altman(df, baseline, alternate, by_var='Beacon'):\n",
    "    '''\n",
    "    Plots a difference plot for given vars\n",
    "    \n",
    "    Inputs:\n",
    "    - df: dataframe with columns corresponding to the baseline and alternate measurements\n",
    "    - baseline: string specifying baseline var\n",
    "    - alternate: string specifying alternate var\n",
    "    - by_var: string specifying how to color points\n",
    "    \n",
    "    Returns axes of the plot\n",
    "    '''\n",
    "    df['mean'] = (df[alternate] + df[baseline])/2\n",
    "    df['delta'] = df[alternate] - df[baseline]\n",
    "\n",
    "    fig, ax = plt.subplots(figsize=(12,6))\n",
    "    sns.scatterplot(data=df, x='mean', y='delta', hue='beacon', palette='coolwarm',\n",
    "                    legend=None, s=80, alpha=0.8, zorder=10)\n",
    "\n",
    "    # Mean and CI lines\n",
    "    u = ff_sleep['delta'].mean()\n",
    "    ax.axhline(u, color='black', linewidth=0.75)\n",
    "    ax.text(11,u,f'mean: {round(u,2)}',va='bottom',ha='left')\n",
    "    \n",
    "    std = ff_sleep['delta'].std()\n",
    "    ax.axhline(u+1.96*std, color='black', linewidth=0.75, linestyle='dashed')\n",
    "    ax.text(11,u+1.96*std,f'95% CI: {round(u+1.96*std,2)}',va='bottom',ha='left')\n",
    "    ax.axhline(u-1.96*std, color='black', linewidth=0.75, linestyle='dashed')\n",
    "    ax.text(11,u-1.96*std,f'95% CI: {round(u-1.96*std,2)}',va='bottom',ha='left')\n",
    "\n",
    "    for loc in ['right','top']:\n",
    "        ax.spines[loc].set_visible(False)\n",
    "        \n",
    "    return ax"
   ]
  },
  {
   "cell_type": "markdown",
   "metadata": {},
   "source": [
    "Creating plot"
   ]
  },
  {
   "cell_type": "code",
   "execution_count": 34,
   "metadata": {},
   "outputs": [
    {
     "data": {
      "image/png": "[encoded data removed]",
      "text/plain": [
       "<Figure size 864x432 with 1 Axes>"
      ]
     },
     "metadata": {
      "needs_background": "light"
     },
     "output_type": "display_data"
    }
   ],
   "source": [
    "ff_sleep['durationHours'] = ff_sleep['duration_ms']/3600000\n",
    "ax = plot_bland_altman(ff_sleep, 'durationHours', 'tst')\n",
    "\n",
    "# Labelling\n",
    "ax.set_xlabel('Mean TST (hours)')\n",
    "ax.set_ylabel('Self-Reported TST - Fitbit TST (hours)')\n",
    "ax.set_xlim([2,12])\n",
    "ax.set_ylim([-5,8])\n",
    "\n",
    "plt.savefig('../reports/figures/fitbit-beiwe-tst-tst-bland_altman-ux_s20.pdf',bbox_to_anchor='tight')\n",
    "plt.show()\n",
    "plt.close()"
   ]
  },
  {
   "cell_type": "markdown",
   "metadata": {},
   "source": [
    "## Participant Comparison\n",
    "We want to show how the participant sleep metric measurements vary across devices"
   ]
  },
  {
   "cell_type": "markdown",
   "metadata": {},
   "source": [
    "### Scatter Plot - Participant versus the Study\n",
    "Similar to the scatter plots shown above, but with a different dataset. "
   ]
  },
  {
   "cell_type": "code",
   "execution_count": 35,
   "metadata": {},
   "outputs": [],
   "source": [
    "def scatter_tst_comparison(df, by_var='beacon', save=False, save_dir='../reports/figures/'):\n",
    "    '''\n",
    "    Creates a scatter plot with participant level data over aggregate data\n",
    "    \n",
    "    Inputs:\n",
    "    - df: dataframe with Fitbit and EMA sleep metrics\n",
    "    - by_var: variable to separate by\n",
    "    \n",
    "    Returns void\n",
    "    '''\n",
    "    df_to_plot = pd.DataFrame()\n",
    "    for pt in df[by_var].unique():\n",
    "        df_pt = df[df[by_var] == pt]\n",
    "        df_pt['count'] = len(df_pt)\n",
    "        df_to_plot = df_to_plot.append(df_pt)\n",
    "        \n",
    "    df_to_plot.sort_values('count',inplace=True)\n",
    "    \n",
    "    fig, ax = plt.subplots(3,6,figsize=(14,7),sharex='col',sharey='row')\n",
    "    i = 0\n",
    "    rows = [0,0,0,0,0,0,1,1,1,1,1,1,2,2,2,2,2,2]\n",
    "    cols = [0,1,2,3,4,5]*3\n",
    "    for pt, r, c in zip(df_to_plot[by_var].unique(),rows,cols):\n",
    "        pt_df = df_to_plot[df_to_plot[by_var] == pt]\n",
    "        nonpt_df = df_to_plot[df_to_plot[by_var] != pt]\n",
    "        ax[r,c].scatter(nonpt_df['duration_ms']/3600000,nonpt_df['tst'],s=15,color='lightgray',zorder=1)\n",
    "        ax[r,c].scatter(pt_df['duration_ms']/3600000,pt_df['tst'],s=15,color='navy',zorder=2)\n",
    "        ax[r,c].set_xlim([0,15])\n",
    "        ax[r,c].set_ylim([0,15])\n",
    "        ax[r,c].set_title(pt)\n",
    "        if r == max(rows) and c == min(cols):\n",
    "            ax[r,c].set_xticks([0,5,10,15])\n",
    "            ax[r,c].set_yticks([0,5,10,15])\n",
    "            for loc in ['right','top']:\n",
    "                ax[r,c].spines[loc].set_visible(False)\n",
    "        else:\n",
    "            ax[r,c].axis('off')\n",
    "\n",
    "        i+=1\n",
    "    ax[1,0].text(-2.5,7.5,'Self-Report Sleep Time',rotation=90,ha='center',va='center')\n",
    "    ax[2,3].text(0,-2.5,'Fitbit-Measured Sleep Time',ha='center',va='top')\n",
    "    plt.subplots_adjust(wspace=0,hspace=0)\n",
    "    plt.axis('off')\n",
    "    if save:\n",
    "        plt.savefig(f'{save_dir}fitbit-beiwe-tst-tst-scatter-ux_s20.pdf',bbox_to_anchor='tight')\n",
    "        \n",
    "    plt.show()\n",
    "    plt.close()"
   ]
  },
  {
   "cell_type": "markdown",
   "metadata": {},
   "source": [
    "Now creating the scatterplot"
   ]
  },
  {
   "cell_type": "code",
   "execution_count": 36,
   "metadata": {},
   "outputs": [
    {
     "name": "stderr",
     "output_type": "stream",
     "text": [
      "/Library/Frameworks/Python.framework/Versions/3.7/lib/python3.7/site-packages/ipykernel_launcher.py:14: SettingWithCopyWarning: \n",
      "A value is trying to be set on a copy of a slice from a DataFrame.\n",
      "Try using .loc[row_indexer,col_indexer] = value instead\n",
      "\n",
      "See the caveats in the documentation: https://pandas.pydata.org/pandas-docs/stable/user_guide/indexing.html#returning-a-view-versus-a-copy\n",
      "  \n"
     ]
    },
    {
     "data": {
      "image/png": "[encoded data removed]",
      "text/plain": [
       "<Figure size 1008x504 with 18 Axes>"
      ]
     },
     "metadata": {
      "needs_background": "light"
     },
     "output_type": "display_data"
    }
   ],
   "source": [
    "scatter_tst_comparison(ff_sleep)"
   ]
  },
  {
   "cell_type": "code",
   "execution_count": null,
   "metadata": {},
   "outputs": [],
   "source": []
  }
 ],
 "metadata": {
  "kernelspec": {
   "display_name": "Python 3",
   "language": "python",
   "name": "python3"
  },
  "language_info": {
   "codemirror_mode": {
    "name": "ipython",
    "version": 3
   },
   "file_extension": ".py",
   "mimetype": "text/x-python",
   "name": "python",
   "nbconvert_exporter": "python",
   "pygments_lexer": "ipython3",
   "version": "3.7.0"
  },
  "toc": {
   "base_numbering": 1,
   "nav_menu": {},
   "number_sections": false,
   "sideBar": false,
   "skip_h1_title": false,
   "title_cell": "Table of Contents",
   "title_sidebar": "Contents",
   "toc_cell": false,
   "toc_position": {},
   "toc_section_display": false,
   "toc_window_display": false
  }
 },
 "nbformat": 4,
 "nbformat_minor": 4
}
