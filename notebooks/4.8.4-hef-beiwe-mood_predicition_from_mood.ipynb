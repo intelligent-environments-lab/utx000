{
 "cells": [
  {
   "cell_type": "markdown",
   "metadata": {},
   "source": [
    "<a id='top'></a>"
   ]
  },
  {
   "cell_type": "code",
   "execution_count": 1,
   "metadata": {},
   "outputs": [],
   "source": [
    "import warnings\n",
    "warnings.filterwarnings('ignore')"
   ]
  },
  {
   "cell_type": "markdown",
   "metadata": {},
   "source": [
    "# Predicting Nightly Mood Scores from Previously Submitted Mood\n",
    "This notebook explores the affect that the previously reported mood has on the evening/later reported mood."
   ]
  },
  {
   "cell_type": "code",
   "execution_count": 1,
   "metadata": {
    "scrolled": true
   },
   "outputs": [],
   "source": [
    "import sys\n",
    "sys.path.append('../')\n",
    "%load_ext autoreload\n",
    "%autoreload 2\n",
    "\n",
    "import pandas as pd\n",
    "pd.set_option('display.max_columns', 200)\n",
    "import numpy as np\n",
    "\n",
    "from datetime import datetime, timedelta\n",
    "\n",
    "import matplotlib.pyplot as plt\n",
    "from matplotlib import cm\n",
    "from matplotlib.colors import ListedColormap, LinearSegmentedColormap\n",
    "import seaborn as sns\n",
    "import matplotlib.dates as mdates"
   ]
  },
  {
   "cell_type": "markdown",
   "metadata": {},
   "source": [
    "# Table of Contents\n",
    "1. [Data Import](#data_import)\n",
    "2. [Inspection](#inspection)\n",
    "2. [Classification](#classification)"
   ]
  },
  {
   "cell_type": "markdown",
   "metadata": {},
   "source": [
    "---"
   ]
  },
  {
   "cell_type": "markdown",
   "metadata": {},
   "source": [
    "<a id='data_import'></a>"
   ]
  },
  {
   "cell_type": "markdown",
   "metadata": {},
   "source": [
    "# Data Import\n",
    "Data are simply imported from the Fitbit daily dataset and Fitbit sleep summary dataset - both of each include data summarized on a daily basis."
   ]
  },
  {
   "cell_type": "code",
   "execution_count": 45,
   "metadata": {},
   "outputs": [
    {
     "data": {
      "text/html": [
       "<div>\n",
       "<style scoped>\n",
       "    .dataframe tbody tr th:only-of-type {\n",
       "        vertical-align: middle;\n",
       "    }\n",
       "\n",
       "    .dataframe tbody tr th {\n",
       "        vertical-align: top;\n",
       "    }\n",
       "\n",
       "    .dataframe thead th {\n",
       "        text-align: right;\n",
       "    }\n",
       "</style>\n",
       "<table border=\"1\" class=\"dataframe\">\n",
       "  <thead>\n",
       "    <tr style=\"text-align: right;\">\n",
       "      <th></th>\n",
       "      <th>timestamp_e</th>\n",
       "      <th>beiwe</th>\n",
       "      <th>content_e</th>\n",
       "      <th>stress_e</th>\n",
       "      <th>lonely_e</th>\n",
       "      <th>sad_e</th>\n",
       "      <th>energy_e</th>\n",
       "      <th>redcap</th>\n",
       "      <th>beacon</th>\n",
       "      <th>date</th>\n",
       "      <th>timestamp_m</th>\n",
       "      <th>content_m</th>\n",
       "      <th>stress_m</th>\n",
       "      <th>lonely_m</th>\n",
       "      <th>sad_m</th>\n",
       "      <th>energy_m</th>\n",
       "      <th>tst</th>\n",
       "      <th>sol</th>\n",
       "      <th>naw</th>\n",
       "      <th>restful</th>\n",
       "    </tr>\n",
       "  </thead>\n",
       "  <tbody>\n",
       "    <tr>\n",
       "      <th>0</th>\n",
       "      <td>2020-05-13 19:00:23</td>\n",
       "      <td>awa8uces</td>\n",
       "      <td>1.0</td>\n",
       "      <td>1.0</td>\n",
       "      <td>1.0</td>\n",
       "      <td>3.0</td>\n",
       "      <td>2.0</td>\n",
       "      <td>28</td>\n",
       "      <td>26.0</td>\n",
       "      <td>2020-05-13</td>\n",
       "      <td>2020-05-13 09:15:49</td>\n",
       "      <td>0.0</td>\n",
       "      <td>2.0</td>\n",
       "      <td>1.0</td>\n",
       "      <td>1.0</td>\n",
       "      <td>1.0</td>\n",
       "      <td>2.0</td>\n",
       "      <td>10.0</td>\n",
       "      <td>3.0</td>\n",
       "      <td>1.0</td>\n",
       "    </tr>\n",
       "    <tr>\n",
       "      <th>1</th>\n",
       "      <td>2020-05-13 19:21:32</td>\n",
       "      <td>lkkjddam</td>\n",
       "      <td>0.0</td>\n",
       "      <td>2.0</td>\n",
       "      <td>3.0</td>\n",
       "      <td>1.0</td>\n",
       "      <td>0.0</td>\n",
       "      <td>12</td>\n",
       "      <td>21.0</td>\n",
       "      <td>2020-05-13</td>\n",
       "      <td>2020-05-13 12:30:38</td>\n",
       "      <td>1</td>\n",
       "      <td>1.0</td>\n",
       "      <td>3.0</td>\n",
       "      <td>3.0</td>\n",
       "      <td>2.0</td>\n",
       "      <td>7.0</td>\n",
       "      <td>45.0</td>\n",
       "      <td>2.0</td>\n",
       "      <td>1.0</td>\n",
       "    </tr>\n",
       "    <tr>\n",
       "      <th>2</th>\n",
       "      <td>2020-05-13 19:30:38</td>\n",
       "      <td>rvhdl2la</td>\n",
       "      <td>2.0</td>\n",
       "      <td>1.0</td>\n",
       "      <td>0.0</td>\n",
       "      <td>0.0</td>\n",
       "      <td>1.0</td>\n",
       "      <td>29</td>\n",
       "      <td>NaN</td>\n",
       "      <td>2020-05-13</td>\n",
       "      <td>2020-05-13 09:43:27</td>\n",
       "      <td>1</td>\n",
       "      <td>1.0</td>\n",
       "      <td>2.0</td>\n",
       "      <td>3.0</td>\n",
       "      <td>0.0</td>\n",
       "      <td>5.3</td>\n",
       "      <td>5.0</td>\n",
       "      <td>2.0</td>\n",
       "      <td>2.0</td>\n",
       "    </tr>\n",
       "    <tr>\n",
       "      <th>3</th>\n",
       "      <td>2020-05-13 20:07:04</td>\n",
       "      <td>xxvnhauv</td>\n",
       "      <td>1.0</td>\n",
       "      <td>3.0</td>\n",
       "      <td>1.0</td>\n",
       "      <td>2.0</td>\n",
       "      <td>0.0</td>\n",
       "      <td>21</td>\n",
       "      <td>22.0</td>\n",
       "      <td>2020-05-13</td>\n",
       "      <td>2020-05-13 09:42:19</td>\n",
       "      <td>1</td>\n",
       "      <td>1.0</td>\n",
       "      <td>1.0</td>\n",
       "      <td>3.0</td>\n",
       "      <td>0.0</td>\n",
       "      <td>6.0</td>\n",
       "      <td>30.0</td>\n",
       "      <td>3.0</td>\n",
       "      <td>1.0</td>\n",
       "    </tr>\n",
       "    <tr>\n",
       "      <th>4</th>\n",
       "      <td>2020-05-13 20:25:07</td>\n",
       "      <td>xdbdrk6e</td>\n",
       "      <td>2.0</td>\n",
       "      <td>1.0</td>\n",
       "      <td>2.0</td>\n",
       "      <td>1.0</td>\n",
       "      <td>3.0</td>\n",
       "      <td>23</td>\n",
       "      <td>24.0</td>\n",
       "      <td>2020-05-13</td>\n",
       "      <td>2020-05-13 18:16:29</td>\n",
       "      <td>2</td>\n",
       "      <td>1.0</td>\n",
       "      <td>2.0</td>\n",
       "      <td>1.0</td>\n",
       "      <td>2.0</td>\n",
       "      <td>8.0</td>\n",
       "      <td>20.0</td>\n",
       "      <td>3.0</td>\n",
       "      <td>2.0</td>\n",
       "    </tr>\n",
       "  </tbody>\n",
       "</table>\n",
       "</div>"
      ],
      "text/plain": [
       "           timestamp_e     beiwe  content_e  stress_e  lonely_e  sad_e  \\\n",
       "0  2020-05-13 19:00:23  awa8uces        1.0       1.0       1.0    3.0   \n",
       "1  2020-05-13 19:21:32  lkkjddam        0.0       2.0       3.0    1.0   \n",
       "2  2020-05-13 19:30:38  rvhdl2la        2.0       1.0       0.0    0.0   \n",
       "3  2020-05-13 20:07:04  xxvnhauv        1.0       3.0       1.0    2.0   \n",
       "4  2020-05-13 20:25:07  xdbdrk6e        2.0       1.0       2.0    1.0   \n",
       "\n",
       "   energy_e  redcap  beacon        date          timestamp_m content_m  \\\n",
       "0       2.0      28    26.0  2020-05-13  2020-05-13 09:15:49       0.0   \n",
       "1       0.0      12    21.0  2020-05-13  2020-05-13 12:30:38         1   \n",
       "2       1.0      29     NaN  2020-05-13  2020-05-13 09:43:27         1   \n",
       "3       0.0      21    22.0  2020-05-13  2020-05-13 09:42:19         1   \n",
       "4       3.0      23    24.0  2020-05-13  2020-05-13 18:16:29         2   \n",
       "\n",
       "   stress_m  lonely_m  sad_m  energy_m  tst   sol  naw  restful  \n",
       "0       2.0       1.0    1.0       1.0  2.0  10.0  3.0      1.0  \n",
       "1       1.0       3.0    3.0       2.0  7.0  45.0  2.0      1.0  \n",
       "2       1.0       2.0    3.0       0.0  5.3   5.0  2.0      2.0  \n",
       "3       1.0       1.0    3.0       0.0  6.0  30.0  3.0      1.0  \n",
       "4       1.0       2.0    1.0       2.0  8.0  20.0  3.0      2.0  "
      ]
     },
     "execution_count": 45,
     "metadata": {},
     "output_type": "execute_result"
    }
   ],
   "source": [
    "data = pd.read_csv(\"../data/interim/mood_prediction/beiwe-beiwe-ema_morning-ema_evening.csv\",index_col=0)\n",
    "data.replace(\"Very much\",3,inplace=True)\n",
    "data.head()"
   ]
  },
  {
   "cell_type": "markdown",
   "metadata": {},
   "source": [
    "---"
   ]
  },
  {
   "cell_type": "markdown",
   "metadata": {},
   "source": [
    "<a id='inspection'></a>"
   ]
  },
  {
   "cell_type": "markdown",
   "metadata": {},
   "source": [
    "# Inspection\n",
    "Doing some higher-level inspection of the data."
   ]
  },
  {
   "cell_type": "markdown",
   "metadata": {},
   "source": [
    "## Difference in Scores (Evening - Morning)\n",
    "The simplest way to understand the difference in mood scores is to simply subtract them from one another. The more identical the scores, the greater the instance of zero."
   ]
  },
  {
   "cell_type": "code",
   "execution_count": 135,
   "metadata": {},
   "outputs": [],
   "source": [
    "def get_mood_difference(df_in,moods=[\"content\",\"stress\",\"lonely\",\"sad\",\"energy\"],plot=False):\n",
    "    \"\"\"\n",
    "    Calculates the score difference between mood scores ofthe same name.\n",
    "    \n",
    "    Parameters\n",
    "    ----------\n",
    "    df_in : DataFrame\n",
    "        Original data with columns corresponding to the provided moods\n",
    "    moods : list-like, default [\"content\",\"stress\",\"lonely\",\"sad\",\"energy\"]\n",
    "        Strings of the moods to consider - must be columns in df_in\n",
    "    plot : boolean\n",
    "        whether or not to output the histograms of the differences for each\n",
    "        mood\n",
    "        \n",
    "    Returns\n",
    "    -------\n",
    "    df : DataFrame\n",
    "        Original dataset with the mood scores removed and replaced with the \n",
    "        differences\n",
    "    \"\"\"\n",
    "    df = df_in.copy()\n",
    "    for mood in moods:\n",
    "        df[f\"{mood}_diff\"] = pd.to_numeric(df[f\"{mood}_e\"]) - pd.to_numeric(df[f\"{mood}_m\"])\n",
    "        \n",
    "    df.drop([col for col in df.columns if col[-2:] in [\"_e\",\"_m\"]],axis=\"columns\",inplace=True)\n",
    "    \n",
    "    if plot:\n",
    "        _, axes = plt.subplots(1,len(moods),figsize=(len(moods)*5,3),sharey=True)\n",
    "        for i, (mood, ax) in enumerate(zip(moods,axes)):\n",
    "            temp = pd.DataFrame(data=mood_diff[f\"{mood}_diff\"].value_counts())\n",
    "            temp[\"percent\"] = temp[f\"{mood}_diff\"] / temp[f\"{mood}_diff\"].sum()\n",
    "            temp.sort_index(ascending=False,inplace=True)\n",
    "            rects = ax.bar(temp.index,temp[\"percent\"],edgecolor=\"black\",color=\"lightgray\")\n",
    "            # x-axis\n",
    "            if i == 4:\n",
    "                ax.set_xlim([-4.5,4.5])\n",
    "                ax.set_xticks(np.arange(-4,5,1))\n",
    "            else:\n",
    "                ax.set_xlim([-3.5,3.5])\n",
    "                ax.set_xticks(np.arange(-3,4,1))\n",
    "            if i == 2:\n",
    "                ax.set_xlabel(\"Score Difference (E - M)\")\n",
    "            # y-axis\n",
    "            ax.set_ylim([0,1])\n",
    "            # remainder\n",
    "            ax.set_title(mood.title())\n",
    "            for score, height in zip(temp.index,temp[\"percent\"]):\n",
    "                ax.text(score,height+0.05,round(height*100,1),ha=\"center\")\n",
    "            \n",
    "            \n",
    "        axes[0].set_ylabel(\"Percent\")\n",
    "        plt.show()\n",
    "        plt.close()\n",
    "        \n",
    "    return df"
   ]
  },
  {
   "cell_type": "code",
   "execution_count": 136,
   "metadata": {},
   "outputs": [
    {
     "data": {
      "image/png": "[encoded data removed]",
      "text/plain": [
       "<Figure size 1800x216 with 5 Axes>"
      ]
     },
     "metadata": {
      "needs_background": "light"
     },
     "output_type": "display_data"
    }
   ],
   "source": [
    "mood_diff = get_mood_difference(data,plot=True)"
   ]
  },
  {
   "cell_type": "markdown",
   "metadata": {},
   "source": [
    "<div class=\"alert alert-block alert-info\">\n",
    "    \n",
    "As expected, many of the differences between the mood scores are zero. This finding is less apparent when considering `energy` which makes sense since the energy of the participants should change. However, I would expect this change to be skewed towards a positive difference (indicating participants were _more_ tired in the evening) but that is not the case. Although they could have low energy in the mornings when they initially wake up. \n",
    "    \n",
    "</div>"
   ]
  },
  {
   "cell_type": "markdown",
   "metadata": {},
   "source": [
    "<div class=\"alert alert-block alert-info\">\n",
    "    \n",
    "The maximum percentages also highlight a sort of upper bound on the accuracy of the model. Just like with our previous analysis, the model might be biased to simply report the same mood score since that is the most influential factor it seems.\n",
    "    \n",
    "</div>"
   ]
  },
  {
   "cell_type": "markdown",
   "metadata": {},
   "source": [
    "---"
   ]
  },
  {
   "cell_type": "markdown",
   "metadata": {},
   "source": [
    "<a id='classification'></a>"
   ]
  },
  {
   "cell_type": "markdown",
   "metadata": {},
   "source": [
    "# Classification"
   ]
  },
  {
   "cell_type": "code",
   "execution_count": 97,
   "metadata": {},
   "outputs": [],
   "source": [
    "from sklearn.model_selection import train_test_split, GridSearchCV\n",
    "\n",
    "# Random Forest\n",
    "from sklearn.ensemble import RandomForestClassifier\n",
    "# Bernoulli Naive Bayes\n",
    "from sklearn.naive_bayes import GaussianNB\n",
    "# KNN\n",
    "from sklearn.neighbors import KNeighborsClassifier\n",
    "# Support Vector\n",
    "from sklearn.svm import SVC\n",
    "# Gradient Boost\n",
    "from sklearn.ensemble import GradientBoostingClassifier\n",
    "# Logistic Regressions\n",
    "from sklearn.linear_model import LogisticRegression"
   ]
  },
  {
   "cell_type": "code",
   "execution_count": 140,
   "metadata": {},
   "outputs": [],
   "source": [
    "def get_x_and_y(df_in,mood=\"content\"):\n",
    "    \"\"\"\n",
    "    Gets the feature and target datasets corresponding to the target\n",
    "    \n",
    "    Parameters\n",
    "    ----------\n",
    "    df_in : DataFrame\n",
    "        Original data with columns corresponding to the provided moods\n",
    "    mood : {\"content\",\"stress\",\"lonely\",\"sad\",\"energy\"}, default \"content\"\n",
    "        Mood to consider - must be a column in df_in\n",
    "        \n",
    "    Returns\n",
    "    -------\n",
    "    X : array of floats\n",
    "        Morning EMA mood reports\n",
    "    y : list of floats\n",
    "        Evening EMA mood reports corresponding to the input mood\n",
    "    \"\"\"\n",
    "    df = df_in.copy()\n",
    "    df.dropna(subset=[f\"{mood}_e\"],axis=\"rows\",inplace=True)\n",
    "    df.dropna(subset=[col for col in data.columns if col.endswith(\"_m\") and col[:4] != \"time\"],axis=\"rows\",inplace=True)\n",
    "    X = df[[col for col in data.columns if col.endswith(\"_m\") and col[:4] != \"time\"]].values\n",
    "    y = df[f\"{mood}_e\"].values\n",
    "    return X, y"
   ]
  },
  {
   "cell_type": "markdown",
   "metadata": {},
   "source": [
    "## Comparing and Tuning Models\n",
    "We test a slew of classification schemes to get the best model"
   ]
  },
  {
   "cell_type": "markdown",
   "metadata": {},
   "source": [
    "### Defining Models and Hyperparameters to Tune\n",
    "We use some common classifiers to predict the mood scores."
   ]
  },
  {
   "cell_type": "code",
   "execution_count": 137,
   "metadata": {},
   "outputs": [],
   "source": [
    "model_params = {\n",
    "    \"random_forest\": {\n",
    "        \"model\":RandomForestClassifier(random_state=42),\n",
    "        \"params\": {\n",
    "            \"n_estimators\":[10,50,100],\n",
    "            \"max_depth\":[1,2,3,4,5],\n",
    "            \"min_samples_split\":[2,4],\n",
    "            \"min_samples_leaf\":[1,2],\n",
    "        }\n",
    "    },\n",
    "    \"naive_bayes\": {\n",
    "        \"model\":GaussianNB(),\n",
    "        \"params\": {\n",
    "            \n",
    "        }\n",
    "    },\n",
    "    \"k-nearest_neighbor\": {\n",
    "        \"model\":KNeighborsClassifier(),\n",
    "        \"params\": {\n",
    "            \"n_neighbors\":[3,5,7],\n",
    "            \"weights\":[\"uniform\",\"distance\"],\n",
    "            \"metric\":[\"euclidean\",\"manhattan\",\"minkowski\",\"jaccard\",\"matching\"],\n",
    "            \"p\":[1,2],\n",
    "        }\n",
    "    },\n",
    "    \"svc\": {\n",
    "        \"model\": SVC(),\n",
    "        \"params\": {\n",
    "            \"kernel\":[\"linear\",\"poly\",\"sigmoid\",\"rbf\"],\n",
    "        }\n",
    "    },\n",
    "    \"gradientboost\":{\n",
    "        \"model\": GradientBoostingClassifier(random_state=42),\n",
    "        \"params\": {\n",
    "            \"n_estimators\":[10,50,100],\n",
    "            \"max_depth\":[1,2,3,4,5],\n",
    "            \"min_samples_split\":[2,4],\n",
    "            \"min_samples_leaf\":[1,2],\n",
    "        }\n",
    "    },\n",
    "    \"logistic_regression\": {\n",
    "        \"model\":LogisticRegression(random_state=42,max_iter=500),\n",
    "        \"params\": {\n",
    "            \"fit_intercept\":[True,False],\n",
    "            \"solver\":[\"lbfgs\",\"liblinear\"],\n",
    "        }\n",
    "    },\n",
    "}"
   ]
  },
  {
   "cell_type": "markdown",
   "metadata": {},
   "source": [
    "### Grid Search\n",
    "Using our favorite, we examine the scores for using these models using 5-fold cross-validation"
   ]
  },
  {
   "cell_type": "code",
   "execution_count": null,
   "metadata": {},
   "outputs": [],
   "source": [
    "agg_pred = ieq_and_sq_prediction()\n",
    "agg_res = {\"target\":[],\"best_performing_model\":[],\"model\":[],\"model_score\":[],\"biased_score\":[],\"hyper_parameters\":[],\"sensitive_parameter1\":[],\"sensitive_parameter2\":[]}\n",
    "for target_set, targets in zip([fbsq,srsq],[[\"se\",\"tst\",\"light_percent\",\"deep_percent\",\"rem_percent\"],[\"tst\",\"sol\",\"naw\",\"restful\"]]):\n",
    "    for target in targets:\n",
    "        agg_pred.run(ieq_activity_and_fb_select,target_set,target)\n",
    "        for i in range(len(agg_pred.results)):\n",
    "            agg_res[\"target\"].append(target)\n",
    "            agg_res[\"best_performing_model\"].append(agg_pred.results.iloc[0,0])\n",
    "            agg_res[\"model\"].append(agg_pred.results.iloc[i,0])\n",
    "            agg_res[\"model_score\"].append(agg_pred.results.iloc[i,1])\n",
    "            bs = sum(agg_pred.targets.values)/len(agg_pred.targets)\n",
    "            agg_res[\"biased_score\"].append(bs[0] if bs[0] > 0.5 else 1-bs[0])\n",
    "            agg_res[\"hyper_parameters\"].append(agg_pred.results.iloc[i,2])\n",
    "            try:\n",
    "                agg_res[\"sensitive_parameter1\"].append(agg_pred.feature_importance.sort_values(\"importance\",ascending=False).iloc[0,0])\n",
    "                agg_res[\"sensitive_parameter2\"].append(agg_pred.feature_importance.sort_values(\"importance\",ascending=False).iloc[1,0])\n",
    "            except KeyError:\n",
    "                agg_res[\"sensitive_parameter1\"].append(np.nan)\n",
    "                agg_res[\"sensitive_parameter2\"].append(np.nan)"
   ]
  },
  {
   "cell_type": "code",
   "execution_count": 145,
   "metadata": {},
   "outputs": [
    {
     "name": "stdout",
     "output_type": "stream",
     "text": [
      "\tRandom Forest\n",
      "\t\tElapsed Time:\t 0:00:24.451735\n",
      "\t\tBest Score:\t55.4\n",
      "\t\tBest Params:\t{'max_depth': 5, 'min_samples_leaf': 1, 'min_samples_split': 2, 'n_estimators': 50}\n",
      "\tNaive Bayes\n",
      "\t\tElapsed Time:\t 0:00:00.019173\n",
      "\t\tBest Score:\t45.1\n",
      "\t\tBest Params:\t{}\n",
      "\tK-Nearest Neighbor\n",
      "\t\tElapsed Time:\t 0:00:03.476047\n",
      "\t\tBest Score:\t49.0\n",
      "\t\tBest Params:\t{'metric': 'manhattan', 'n_neighbors': 5, 'p': 1, 'weights': 'distance'}\n",
      "\tSvc\n",
      "\t\tElapsed Time:\t 0:00:05.227339\n",
      "\t\tBest Score:\t55.6\n",
      "\t\tBest Params:\t{'kernel': 'rbf'}\n",
      "\tGradientboost\n",
      "\t\tElapsed Time:\t 0:01:35.136574\n",
      "\t\tBest Score:\t56.7\n",
      "\t\tBest Params:\t{'max_depth': 1, 'min_samples_leaf': 2, 'min_samples_split': 2, 'n_estimators': 100}\n",
      "\tLogistic Regression\n",
      "\t\tElapsed Time:\t 0:00:00.716440\n",
      "\t\tBest Score:\t52.4\n",
      "\t\tBest Params:\t{'fit_intercept': True, 'solver': 'lbfgs'}\n",
      "\tRandom Forest\n",
      "\t\tElapsed Time:\t 0:00:25.091687\n",
      "\t\tBest Score:\t55.4\n",
      "\t\tBest Params:\t{'max_depth': 5, 'min_samples_leaf': 1, 'min_samples_split': 2, 'n_estimators': 50}\n",
      "\tNaive Bayes\n",
      "\t\tElapsed Time:\t 0:00:00.027627\n",
      "\t\tBest Score:\t45.1\n",
      "\t\tBest Params:\t{}\n",
      "\tK-Nearest Neighbor\n",
      "\t\tElapsed Time:\t 0:00:04.892476\n",
      "\t\tBest Score:\t49.0\n",
      "\t\tBest Params:\t{'metric': 'manhattan', 'n_neighbors': 5, 'p': 1, 'weights': 'distance'}\n",
      "\tSvc\n",
      "\t\tElapsed Time:\t 0:00:06.067119\n",
      "\t\tBest Score:\t55.6\n",
      "\t\tBest Params:\t{'kernel': 'rbf'}\n",
      "\tGradientboost\n",
      "\t\tElapsed Time:\t 0:01:51.306063\n",
      "\t\tBest Score:\t56.7\n",
      "\t\tBest Params:\t{'max_depth': 1, 'min_samples_leaf': 2, 'min_samples_split': 2, 'n_estimators': 100}\n",
      "\tLogistic Regression\n",
      "\t\tElapsed Time:\t 0:00:00.793631\n",
      "\t\tBest Score:\t52.4\n",
      "\t\tBest Params:\t{'fit_intercept': True, 'solver': 'lbfgs'}\n",
      "\tRandom Forest\n",
      "\t\tElapsed Time:\t 0:00:25.746504\n",
      "\t\tBest Score:\t55.4\n",
      "\t\tBest Params:\t{'max_depth': 5, 'min_samples_leaf': 1, 'min_samples_split': 2, 'n_estimators': 50}\n",
      "\tNaive Bayes\n",
      "\t\tElapsed Time:\t 0:00:00.023019\n",
      "\t\tBest Score:\t45.1\n",
      "\t\tBest Params:\t{}\n",
      "\tK-Nearest Neighbor\n",
      "\t\tElapsed Time:\t 0:00:04.170610\n",
      "\t\tBest Score:\t49.0\n",
      "\t\tBest Params:\t{'metric': 'manhattan', 'n_neighbors': 5, 'p': 1, 'weights': 'distance'}\n",
      "\tSvc\n",
      "\t\tElapsed Time:\t 0:00:05.888778\n",
      "\t\tBest Score:\t55.6\n",
      "\t\tBest Params:\t{'kernel': 'rbf'}\n",
      "\tGradientboost\n",
      "\t\tElapsed Time:\t 0:01:50.840359\n",
      "\t\tBest Score:\t56.7\n",
      "\t\tBest Params:\t{'max_depth': 1, 'min_samples_leaf': 2, 'min_samples_split': 2, 'n_estimators': 100}\n",
      "\tLogistic Regression\n",
      "\t\tElapsed Time:\t 0:00:00.740194\n",
      "\t\tBest Score:\t52.4\n",
      "\t\tBest Params:\t{'fit_intercept': True, 'solver': 'lbfgs'}\n",
      "\tRandom Forest\n",
      "\t\tElapsed Time:\t 0:00:26.103897\n",
      "\t\tBest Score:\t55.4\n",
      "\t\tBest Params:\t{'max_depth': 5, 'min_samples_leaf': 1, 'min_samples_split': 2, 'n_estimators': 50}\n",
      "\tNaive Bayes\n",
      "\t\tElapsed Time:\t 0:00:00.031447\n",
      "\t\tBest Score:\t45.1\n",
      "\t\tBest Params:\t{}\n",
      "\tK-Nearest Neighbor\n",
      "\t\tElapsed Time:\t 0:00:04.700246\n",
      "\t\tBest Score:\t49.0\n",
      "\t\tBest Params:\t{'metric': 'manhattan', 'n_neighbors': 5, 'p': 1, 'weights': 'distance'}\n",
      "\tSvc\n",
      "\t\tElapsed Time:\t 0:00:06.244560\n",
      "\t\tBest Score:\t55.6\n",
      "\t\tBest Params:\t{'kernel': 'rbf'}\n",
      "\tGradientboost\n",
      "\t\tElapsed Time:\t 0:01:50.971121\n",
      "\t\tBest Score:\t56.7\n",
      "\t\tBest Params:\t{'max_depth': 1, 'min_samples_leaf': 2, 'min_samples_split': 2, 'n_estimators': 100}\n",
      "\tLogistic Regression\n",
      "\t\tElapsed Time:\t 0:00:00.761803\n",
      "\t\tBest Score:\t52.4\n",
      "\t\tBest Params:\t{'fit_intercept': True, 'solver': 'lbfgs'}\n",
      "\tRandom Forest\n",
      "\t\tElapsed Time:\t 0:00:25.588530\n",
      "\t\tBest Score:\t55.4\n",
      "\t\tBest Params:\t{'max_depth': 5, 'min_samples_leaf': 1, 'min_samples_split': 2, 'n_estimators': 50}\n",
      "\tNaive Bayes\n",
      "\t\tElapsed Time:\t 0:00:00.024946\n",
      "\t\tBest Score:\t45.1\n",
      "\t\tBest Params:\t{}\n",
      "\tK-Nearest Neighbor\n",
      "\t\tElapsed Time:\t 0:00:04.143483\n",
      "\t\tBest Score:\t49.0\n",
      "\t\tBest Params:\t{'metric': 'manhattan', 'n_neighbors': 5, 'p': 1, 'weights': 'distance'}\n",
      "\tSvc\n",
      "\t\tElapsed Time:\t 0:00:05.838280\n",
      "\t\tBest Score:\t55.6\n",
      "\t\tBest Params:\t{'kernel': 'rbf'}\n",
      "\tGradientboost\n",
      "\t\tElapsed Time:\t 0:01:51.450486\n",
      "\t\tBest Score:\t56.7\n",
      "\t\tBest Params:\t{'max_depth': 1, 'min_samples_leaf': 2, 'min_samples_split': 2, 'n_estimators': 100}\n",
      "\tLogistic Regression\n",
      "\t\tElapsed Time:\t 0:00:00.746327\n",
      "\t\tBest Score:\t52.4\n",
      "\t\tBest Params:\t{'fit_intercept': True, 'solver': 'lbfgs'}\n"
     ]
    }
   ],
   "source": [
    "params = model_params\n",
    "scores = []\n",
    "for mood in [\"content\",\"stress\",\"lonely\",\"sad\",\"energy\"]:\n",
    "    for model_name, mp in params.items():\n",
    "        s = datetime.now()\n",
    "        print(f\"\\t{model_name.replace('_',' ').title()}\")\n",
    "        clf = GridSearchCV(mp[\"model\"],mp[\"params\"],cv=5,return_train_score=False)\n",
    "        X, y = get_x_and_y(data,mood=\"energy\")\n",
    "        clf.fit(X, y)\n",
    "        scores.append({\n",
    "            \"mood\":mood,\n",
    "            \"model\":model_name,\n",
    "            \"best_score\":clf.best_score_,\n",
    "            \"best_params\":clf.best_params_\n",
    "        })\n",
    "        print(\"\\t\\tElapsed Time:\\t\", datetime.now() - s)\n",
    "        print(f\"\\t\\tBest Score:\\t{round(clf.best_score_*100,1)}\\n\\t\\tBest Params:\\t{clf.best_params_}\")\n",
    "\n",
    "results = pd.DataFrame(scores,columns=[\"mood\",\"model\",\"best_score\",\"best_params\"])"
   ]
  },
  {
   "cell_type": "markdown",
   "metadata": {},
   "source": [
    "### Results from Model Comparison\n",
    "The table below highlights the results from running the tests on all moods.\n",
    "\n",
    "| Mood    | Naive | Random Forest | Naive Bayes | KNN  | SVC  | Gradient | Logistic Regression |\n",
    "|---------|-------|---------------|-------------|------|------|----------|---------------------|\n",
    "| Content | 67.3  | 67.1          | 56.6        | 63.3 | 67.4 | 67.5     | 67.3                |\n",
    "| Stress  | 68.0  | 66.7          | 62.2        | 64.2 | 68.0 | 68.3     | 65.7                |\n",
    "| Lonely  | 78.8  | 78.4          | 75.2        | 75.1 | 78.5 | 78.7     | 76.8                |\n",
    "| Sad     | 79.5  | 78.9          | 76.4        | 78.2 | 78.3 | 79.2     | 78.2                |\n",
    "| Energy  | 56.4  | 55.4          | 45.1        | 49.0 | 55.6 | 56.7     | 52.4                |"
   ]
  },
  {
   "cell_type": "markdown",
   "metadata": {},
   "source": [
    "<div class=\"alert alert-block alert-info\">\n",
    "    \n",
    "From this analysis, the models that we should consider are:\n",
    "    \n",
    "* Logistic Regression\n",
    "* Support Vector\n",
    "* Gradient Boost \n",
    "    \n",
    "These models were the best-performing and operate on different principles which increases the diversity and strength of our results.\n",
    "    \n",
    "</div>"
   ]
  },
  {
   "cell_type": "code",
   "execution_count": 162,
   "metadata": {},
   "outputs": [],
   "source": [
    "tuned_models = {\"logistic_regression\":LogisticRegression(random_state=42,fit_intercept=True,solver=\"lbfgs\"),\n",
    "                \"svc\":SVC(kernel=\"rbf\"),\n",
    "                \"gradient\":GradientBoostingClassifier(random_state=42,n_estimators=100,max_depth=1,min_samples_leaf=2,min_samples_split=2)}"
   ]
  },
  {
   "cell_type": "markdown",
   "metadata": {},
   "source": [
    "---"
   ]
  },
  {
   "cell_type": "markdown",
   "metadata": {},
   "source": [
    "[Back to Top](#top)"
   ]
  }
 ],
 "metadata": {
  "kernelspec": {
   "display_name": "Python 3",
   "language": "python",
   "name": "python3"
  },
  "language_info": {
   "codemirror_mode": {
    "name": "ipython",
    "version": 3
   },
   "file_extension": ".py",
   "mimetype": "text/x-python",
   "name": "python",
   "nbconvert_exporter": "python",
   "pygments_lexer": "ipython3",
   "version": "3.8.8"
  },
  "toc": {
   "base_numbering": 1,
   "nav_menu": {},
   "number_sections": false,
   "sideBar": false,
   "skip_h1_title": false,
   "title_cell": "Table of Contents",
   "title_sidebar": "Contents",
   "toc_cell": false,
   "toc_position": {},
   "toc_section_display": false,
   "toc_window_display": false
  }
 },
 "nbformat": 4,
 "nbformat_minor": 4
}
