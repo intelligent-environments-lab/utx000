{
 "cells": [
  {
   "cell_type": "markdown",
   "metadata": {},
   "source": [
    "# Exploring the WCWH Ambassador Family Beacon IAQ Data\n",
    "(See [GH repo](https://github.com/intelligent-environments-lab/utx000))"
   ]
  },
  {
   "cell_type": "markdown",
   "metadata": {},
   "source": [
    "# Comparing Ambassador Family Data to UTx000 Data\n",
    "A look ath the differences in measurements made between the two cohorts."
   ]
  },
  {
   "cell_type": "code",
   "execution_count": 1,
   "metadata": {},
   "outputs": [],
   "source": [
    "import warnings\n",
    "warnings.filterwarnings('ignore')\n",
    "\n",
    "%load_ext autoreload\n",
    "%autoreload 2"
   ]
  },
  {
   "cell_type": "markdown",
   "metadata": {},
   "source": [
    "# Package Import"
   ]
  },
  {
   "cell_type": "code",
   "execution_count": 2,
   "metadata": {},
   "outputs": [],
   "source": [
    "import sys\n",
    "sys.path.append('../')\n",
    "\n",
    "from src.visualization import visualize\n",
    "from src.data import wcwh\n",
    "from src.exploration import beacon_summary\n",
    "\n",
    "import pandas as pd\n",
    "import numpy as np\n",
    "pd.set_option('display.max_columns', 200)\n",
    "\n",
    "import matplotlib.pyplot as plt\n",
    "import matplotlib.dates as mdates\n",
    "\n",
    "import seaborn as sns\n",
    "\n",
    "from datetime import datetime, timedelta\n",
    "\n",
    "from pymer4.models import Lmer"
   ]
  },
  {
   "cell_type": "markdown",
   "metadata": {},
   "source": [
    "# Table of Contents\n",
    "1. [Notes on Analysis and References](#refs)\n",
    "2. [Data Notes and Import](#import)\n",
    "3. [Operation and Available Data](#operation)\n",
    "4. [Aggregated Summary](#aggregated)\n",
    "5. [Participant Based](#pt-based)"
   ]
  },
  {
   "cell_type": "markdown",
   "metadata": {},
   "source": [
    "---"
   ]
  },
  {
   "cell_type": "markdown",
   "metadata": {},
   "source": [
    "<a id=\"refs\"></a>"
   ]
  },
  {
   "cell_type": "markdown",
   "metadata": {},
   "source": [
    "# Notes on Analysis and References\n",
    "The analyses in this notebook are primarily surface-level, but are described briefly below."
   ]
  },
  {
   "cell_type": "markdown",
   "metadata": {},
   "source": [
    "## UTx000 Participants to Consider\n",
    "We only want to consider participants that collected data in Austin, namely in Central Austin. This limits the beacon data to the following devices:\n",
    "\n",
    "```python\n",
    "beacon_ux_aus = [1, 5, 10, 11, 13, 22, 23, 25, 28, 29, 30, 34, 40, 48]\n",
    "```"
   ]
  },
  {
   "cell_type": "markdown",
   "metadata": {},
   "source": [
    "## WCWH Ambassador Families to Consider\n",
    "The ambassador families represent those that signed on for a beta test of all our protocol including the BEVO Beacon. The following devices were included in the rollout:\n",
    "\n",
    "```python\n",
    "beacon_af = [1,16,30,36]\n",
    "```"
   ]
  },
  {
   "cell_type": "markdown",
   "metadata": {},
   "source": [
    "## References\n",
    "Some of the references used for analysis as well as for programming."
   ]
  },
  {
   "cell_type": "markdown",
   "metadata": {},
   "source": [
    "### Programming\n",
    "1. [Legend on Seaborn Plots](https://stackoverflow.com/questions/64014746/how-do-you-create-a-legend-for-kde-plot-in-seaborn)\n",
    "2. [Remove Legend](https://stackoverflow.com/questions/5735208/remove-the-legend-on-a-matplotlib-figure)\n",
    "1. [Running Linear Mixed Effects Models in Python](https://towardsdatascience.com/how-to-run-linear-mixed-effects-models-in-python-jupyter-notebooks-4f8079c4b589): For the LME analysis."
   ]
  },
  {
   "cell_type": "markdown",
   "metadata": {},
   "source": [
    "---"
   ]
  },
  {
   "cell_type": "markdown",
   "metadata": {},
   "source": [
    "<a id=\"import\"></a>"
   ]
  },
  {
   "cell_type": "markdown",
   "metadata": {},
   "source": [
    "# Data Notes and Import\n",
    "Some notes on the data we use and then importing the actual data to look at."
   ]
  },
  {
   "cell_type": "markdown",
   "metadata": {},
   "source": [
    "<div class=\"alert alert-block alert-info\">\n",
    " \n",
    "Testing the functionality of the beacon data import class for the WCWH pilot family era.\n",
    "    \n",
    "</div>"
   ]
  },
  {
   "cell_type": "code",
   "execution_count": 3,
   "metadata": {},
   "outputs": [],
   "source": [
    "def resample_data(df,resample_rate=1):\n",
    "    \"\"\"Resamples data per participant\"\"\"\n",
    "    df_resampled = pd.DataFrame()\n",
    "    for bb in df[\"beacon\"].unique():\n",
    "        df_bb = df[df[\"beacon\"] == bb]\n",
    "        df_bb_resampled = df_bb.resample(f\"{resample_rate}T\").mean()\n",
    "        df_bb_resampled[\"beacon\"] = bb\n",
    "        df_resampled = df_resampled.append(df_bb_resampled)\n",
    "        \n",
    "    return df_resampled"
   ]
  },
  {
   "cell_type": "code",
   "execution_count": 4,
   "metadata": {},
   "outputs": [],
   "source": [
    "def get_data(study_suffix, beacon_list, params=[\"tvoc\",\"co\",\"co2\",\"pm2p5_mass\"], resample_rate=1, remove_outliers=False):\n",
    "    \"\"\"\n",
    "    Gets beacon data from the provided study\n",
    "    \n",
    "    Parameters\n",
    "    ----------\n",
    "    study_suffix : str\n",
    "    \n",
    "    beacon_list : list of int\n",
    "    \n",
    "    params : list of str, default [\"tvoc\",\"co\",\"co2\",\"pm2p5_mass\"]\n",
    "    \n",
    "    resample_rate : int, default 1\n",
    "        resmapling time in minutes\n",
    "    remove_outliers : boolean, default False\n",
    "        whether to remove outliers outside zscore of 2.5\n",
    "    \"\"\"\n",
    "    try:\n",
    "        temp = pd.read_csv(f\"../data/processed/beacon-{study_suffix}.csv\",index_col=0,parse_dates=[\"timestamp\"],infer_datetime_format=True)\n",
    "    except FileNotFoundError:\n",
    "        print(\"No beacon found from study\", study_suffix)\n",
    "        return\n",
    "    \n",
    "    temp_restricted = temp[temp[\"beacon\"].isin(beacon_list)]\n",
    "    temp_restricted_filtered = temp_restricted[params+[\"beacon\"]]\n",
    "    temp_restricted_filtered_resampled = resample_data(temp_restricted_filtered, resample_rate=resample_rate)\n",
    "    if remove_outliers:\n",
    "        for param in params:\n",
    "            temp_restricted_filtered_resampled['z'] = abs(temp_restricted_filtered_resampled[param] - temp_restricted_filtered_resampled[param].mean()) / temp_restricted_filtered_resampled[param].std(ddof=0)\n",
    "            temp_restricted_filtered_resampled.loc[temp_restricted_filtered_resampled['z'] > 2.5, param] = np.nan\n",
    "            \n",
    "        temp_restricted_filtered_resampled.drop([\"z\"],axis=1,inplace=True)\n",
    "        \n",
    "    temp_restricted_filtered.dropna(how=\"all\",subset=params,inplace=True)\n",
    "    \n",
    "    return temp_restricted_filtered_resampled\n",
    "    "
   ]
  },
  {
   "cell_type": "markdown",
   "metadata": {},
   "source": [
    "## UTx000 Data"
   ]
  },
  {
   "cell_type": "code",
   "execution_count": 5,
   "metadata": {
    "scrolled": true
   },
   "outputs": [],
   "source": [
    "beacon_ux_aus = [1, 5, 10, 11, 13, 22, 23, 25, 28, 29, 30, 34, 40, 48]\n",
    "data_ux = get_data(\"ux_s20\", beacon_ux_aus, resample_rate=60, remove_outliers=True)"
   ]
  },
  {
   "cell_type": "code",
   "execution_count": 6,
   "metadata": {},
   "outputs": [
    {
     "data": {
      "text/html": [
       "<div>\n",
       "<style scoped>\n",
       "    .dataframe tbody tr th:only-of-type {\n",
       "        vertical-align: middle;\n",
       "    }\n",
       "\n",
       "    .dataframe tbody tr th {\n",
       "        vertical-align: top;\n",
       "    }\n",
       "\n",
       "    .dataframe thead th {\n",
       "        text-align: right;\n",
       "    }\n",
       "</style>\n",
       "<table border=\"1\" class=\"dataframe\">\n",
       "  <thead>\n",
       "    <tr style=\"text-align: right;\">\n",
       "      <th></th>\n",
       "      <th>tvoc</th>\n",
       "      <th>co</th>\n",
       "      <th>co2</th>\n",
       "      <th>pm2p5_mass</th>\n",
       "      <th>beacon</th>\n",
       "    </tr>\n",
       "    <tr>\n",
       "      <th>timestamp</th>\n",
       "      <th></th>\n",
       "      <th></th>\n",
       "      <th></th>\n",
       "      <th></th>\n",
       "      <th></th>\n",
       "    </tr>\n",
       "  </thead>\n",
       "  <tbody>\n",
       "    <tr>\n",
       "      <th>2020-06-08 13:00:00</th>\n",
       "      <td>69.624578</td>\n",
       "      <td>NaN</td>\n",
       "      <td>NaN</td>\n",
       "      <td>25.280929</td>\n",
       "      <td>1</td>\n",
       "    </tr>\n",
       "    <tr>\n",
       "      <th>2020-06-08 14:00:00</th>\n",
       "      <td>57.937945</td>\n",
       "      <td>NaN</td>\n",
       "      <td>NaN</td>\n",
       "      <td>28.375054</td>\n",
       "      <td>1</td>\n",
       "    </tr>\n",
       "    <tr>\n",
       "      <th>2020-06-08 15:00:00</th>\n",
       "      <td>94.477662</td>\n",
       "      <td>NaN</td>\n",
       "      <td>NaN</td>\n",
       "      <td>27.696586</td>\n",
       "      <td>1</td>\n",
       "    </tr>\n",
       "    <tr>\n",
       "      <th>2020-06-08 16:00:00</th>\n",
       "      <td>124.160613</td>\n",
       "      <td>NaN</td>\n",
       "      <td>NaN</td>\n",
       "      <td>26.217002</td>\n",
       "      <td>1</td>\n",
       "    </tr>\n",
       "    <tr>\n",
       "      <th>2020-06-08 17:00:00</th>\n",
       "      <td>55.539679</td>\n",
       "      <td>NaN</td>\n",
       "      <td>NaN</td>\n",
       "      <td>25.921108</td>\n",
       "      <td>1</td>\n",
       "    </tr>\n",
       "  </tbody>\n",
       "</table>\n",
       "</div>"
      ],
      "text/plain": [
       "                           tvoc  co  co2  pm2p5_mass  beacon\n",
       "timestamp                                                   \n",
       "2020-06-08 13:00:00   69.624578 NaN  NaN   25.280929       1\n",
       "2020-06-08 14:00:00   57.937945 NaN  NaN   28.375054       1\n",
       "2020-06-08 15:00:00   94.477662 NaN  NaN   27.696586       1\n",
       "2020-06-08 16:00:00  124.160613 NaN  NaN   26.217002       1\n",
       "2020-06-08 17:00:00   55.539679 NaN  NaN   25.921108       1"
      ]
     },
     "execution_count": 6,
     "metadata": {},
     "output_type": "execute_result"
    }
   ],
   "source": [
    "data_ux.head()"
   ]
  },
  {
   "cell_type": "code",
   "execution_count": 7,
   "metadata": {},
   "outputs": [
    {
     "name": "stdout",
     "output_type": "stream",
     "text": [
      "Number of participants: 14\n"
     ]
    }
   ],
   "source": [
    "print(\"Number of participants:\",len(beacon_ux_aus))"
   ]
  },
  {
   "cell_type": "markdown",
   "metadata": {},
   "source": [
    "## Ambassador Family Data"
   ]
  },
  {
   "cell_type": "code",
   "execution_count": 8,
   "metadata": {},
   "outputs": [],
   "source": [
    "beacon_af = [1,16,30,36]\n",
    "data_af = get_data(\"wcwh_s21\", beacon_af, resample_rate=60, remove_outliers=True)"
   ]
  },
  {
   "cell_type": "code",
   "execution_count": 9,
   "metadata": {},
   "outputs": [
    {
     "data": {
      "text/html": [
       "<div>\n",
       "<style scoped>\n",
       "    .dataframe tbody tr th:only-of-type {\n",
       "        vertical-align: middle;\n",
       "    }\n",
       "\n",
       "    .dataframe tbody tr th {\n",
       "        vertical-align: top;\n",
       "    }\n",
       "\n",
       "    .dataframe thead th {\n",
       "        text-align: right;\n",
       "    }\n",
       "</style>\n",
       "<table border=\"1\" class=\"dataframe\">\n",
       "  <thead>\n",
       "    <tr style=\"text-align: right;\">\n",
       "      <th></th>\n",
       "      <th>tvoc</th>\n",
       "      <th>co</th>\n",
       "      <th>co2</th>\n",
       "      <th>pm2p5_mass</th>\n",
       "      <th>beacon</th>\n",
       "    </tr>\n",
       "    <tr>\n",
       "      <th>timestamp</th>\n",
       "      <th></th>\n",
       "      <th></th>\n",
       "      <th></th>\n",
       "      <th></th>\n",
       "      <th></th>\n",
       "    </tr>\n",
       "  </thead>\n",
       "  <tbody>\n",
       "    <tr>\n",
       "      <th>2022-01-01 00:00:00</th>\n",
       "      <td>18.324328</td>\n",
       "      <td>10.859942</td>\n",
       "      <td>1391.159192</td>\n",
       "      <td>20.439477</td>\n",
       "      <td>1</td>\n",
       "    </tr>\n",
       "    <tr>\n",
       "      <th>2022-01-01 01:00:00</th>\n",
       "      <td>205.609116</td>\n",
       "      <td>9.905834</td>\n",
       "      <td>1498.373232</td>\n",
       "      <td>22.147823</td>\n",
       "      <td>1</td>\n",
       "    </tr>\n",
       "    <tr>\n",
       "      <th>2022-01-01 02:00:00</th>\n",
       "      <td>71.329945</td>\n",
       "      <td>9.386053</td>\n",
       "      <td>1661.465081</td>\n",
       "      <td>17.802431</td>\n",
       "      <td>1</td>\n",
       "    </tr>\n",
       "    <tr>\n",
       "      <th>2022-01-01 03:00:00</th>\n",
       "      <td>8.859617</td>\n",
       "      <td>9.344003</td>\n",
       "      <td>1948.414239</td>\n",
       "      <td>14.846197</td>\n",
       "      <td>1</td>\n",
       "    </tr>\n",
       "    <tr>\n",
       "      <th>2022-01-01 04:00:00</th>\n",
       "      <td>7.406743</td>\n",
       "      <td>9.015256</td>\n",
       "      <td>1954.098824</td>\n",
       "      <td>13.029589</td>\n",
       "      <td>1</td>\n",
       "    </tr>\n",
       "  </tbody>\n",
       "</table>\n",
       "</div>"
      ],
      "text/plain": [
       "                           tvoc         co          co2  pm2p5_mass  beacon\n",
       "timestamp                                                                  \n",
       "2022-01-01 00:00:00   18.324328  10.859942  1391.159192   20.439477       1\n",
       "2022-01-01 01:00:00  205.609116   9.905834  1498.373232   22.147823       1\n",
       "2022-01-01 02:00:00   71.329945   9.386053  1661.465081   17.802431       1\n",
       "2022-01-01 03:00:00    8.859617   9.344003  1948.414239   14.846197       1\n",
       "2022-01-01 04:00:00    7.406743   9.015256  1954.098824   13.029589       1"
      ]
     },
     "execution_count": 9,
     "metadata": {},
     "output_type": "execute_result"
    }
   ],
   "source": [
    "data_af.head()"
   ]
  },
  {
   "cell_type": "markdown",
   "metadata": {},
   "source": [
    "---"
   ]
  },
  {
   "cell_type": "markdown",
   "metadata": {},
   "source": [
    "<a id=\"operation\"></a>"
   ]
  },
  {
   "cell_type": "markdown",
   "metadata": {},
   "source": [
    "# Visualizations\n",
    "A look at the differences between measurements"
   ]
  },
  {
   "cell_type": "markdown",
   "metadata": {},
   "source": [
    "## KDE"
   ]
  },
  {
   "cell_type": "code",
   "execution_count": 10,
   "metadata": {},
   "outputs": [],
   "source": [
    "def plot_kde(df1, df2, param, study1=\"UTx000\", study2=\"Ambassador Families\"):\n",
    "    \"\"\"\n",
    "    Plots the KDE for each parameter\n",
    "    \"\"\"\n",
    "    _, ax = plt.subplots(figsize=(16,4))\n",
    "    s1_kde = sns.kdeplot(param,cut=0,data=df1,ax=ax,\n",
    "              linewidth=2,color=\"seagreen\",label=study1)\n",
    "    s2_kde = sns.kdeplot(param,cut=0,data=df2,ax=ax,\n",
    "              linewidth=2,color=\"cornflowerblue\",label=study2)\n",
    "    \n",
    "    # x-axis\n",
    "    ax.set_xlabel(f\"{visualize.get_label(param)} ({visualize.get_units(param)})\",fontsize=16)\n",
    "    # y-axis\n",
    "    ax.set_ylabel(\"Density\",fontsize=16)\n",
    "    # remainder\n",
    "    ax.tick_params(labelsize=14)\n",
    "    plt.legend(frameon=False,fontsize=14)\n",
    "    \n",
    "    plt.show()\n",
    "    plt.close()"
   ]
  },
  {
   "cell_type": "code",
   "execution_count": 11,
   "metadata": {},
   "outputs": [
    {
     "data": {
      "image/png": "[encoded data removed]",
      "text/plain": [
       "<Figure size 1152x288 with 1 Axes>"
      ]
     },
     "metadata": {
      "needs_background": "light"
     },
     "output_type": "display_data"
    }
   ],
   "source": [
    "plot_kde(data_ux,data_af,\"co2\")"
   ]
  },
  {
   "cell_type": "markdown",
   "metadata": {},
   "source": [
    "## Boxplot"
   ]
  },
  {
   "cell_type": "code",
   "execution_count": 12,
   "metadata": {},
   "outputs": [],
   "source": [
    "def plot_boxplot_comparison(df1,df2,params=[\"tvoc\",\"co\",\"co2\",\"pm2p5_mass\"],study1=\"UTx000\",study2=\"Ambassador\\nFamilies\",save=False,**kwargs):\n",
    "    \"\"\"\n",
    "    Plots boxplots to compare distributions of values\n",
    "    \n",
    "    Parameters\n",
    "    ----------\n",
    "    \n",
    "    Returns\n",
    "    -------\n",
    "    <void>\n",
    "    \"\"\"\n",
    "        \n",
    "    # getting df in order\n",
    "    df1[\"study\"] = study1\n",
    "    df2[\"study\"] = study2\n",
    "    df = df1.append(df2)\n",
    "    \n",
    "    # plotting\n",
    "    _, axes = plt.subplots(1,len(params),figsize=(14,5),gridspec_kw={\"wspace\":0.5})\n",
    "    for param, ax in zip(params,axes):\n",
    "        df[\"parameter\"] = visualize.get_label(param)\n",
    "        sns.boxplot(x=\"parameter\",y=param,hue=\"study\",data=df,ax=ax,\n",
    "                   palette=[\"seagreen\",\"cornflowerblue\"],whis=1.5)\n",
    "        #x-axis\n",
    "        ax.set_xlabel(\"\")\n",
    "        # y-axis\n",
    "        ax.set_ylim(bottom=0)\n",
    "        ax.set_ylabel(visualize.get_units(param),fontsize=16)\n",
    "        # remainder\n",
    "        ax.tick_params(labelsize=14)\n",
    "        if param == params[-1]:\n",
    "            ax.legend(bbox_to_anchor=(-0.25,-0.08),frameon=False,fontsize=14,ncol=2)\n",
    "        else:\n",
    "            ax.get_legend().remove()\n",
    "        for loc in [\"top\",\"right\"]:\n",
    "            ax.spines[loc].set_visible(False)\n",
    "    \n",
    "    if save:\n",
    "        s1 = study1.replace('\\n','_').lower()\n",
    "        s2 = study2.replace('\\n','_').lower()\n",
    "        plt.savefig(f\"../reports/figures/beacon_summary/boxplot_comparison-{s1}-{s2}.pdf\",layout=\"tight\")\n",
    "    plt.show()\n",
    "    plt.close()"
   ]
  },
  {
   "cell_type": "code",
   "execution_count": 13,
   "metadata": {},
   "outputs": [
    {
     "data": {
      "image/png": "[encoded data removed]",
      "text/plain": [
       "<Figure size 1008x360 with 4 Axes>"
      ]
     },
     "metadata": {
      "needs_background": "light"
     },
     "output_type": "display_data"
    }
   ],
   "source": [
    "plot_boxplot_comparison(data_ux,data_af,study1=\"Central Austin (Students)\", study2=\"East Austin (Families)\",save=False)"
   ]
  },
  {
   "cell_type": "markdown",
   "metadata": {},
   "source": [
    "## Violins"
   ]
  },
  {
   "cell_type": "code",
   "execution_count": 14,
   "metadata": {},
   "outputs": [],
   "source": [
    "def plot_violin_comparison(df1,df2,params=[\"tvoc\",\"co\",\"co2\",\"pm2p5_mass\"],study1=\"UTx000\",study2=\"Ambassador\\nFamilies\",save=False,**kwargs):\n",
    "    \"\"\"\n",
    "    Plots violins to compare distributions of values\n",
    "    \n",
    "    Parameters\n",
    "    ----------\n",
    "    \n",
    "    Returns\n",
    "    -------\n",
    "    <void>\n",
    "    \"\"\"\n",
    "    \n",
    "    # resampling\n",
    "    if \"resample\" in kwargs.keys():\n",
    "        df1 = resample_data(df1,kwargs['resample'])\n",
    "        df2 = resample_data(df2,kwargs['resample'])\n",
    "        \n",
    "    # getting df in order\n",
    "    df1[\"study\"] = study1\n",
    "    df2[\"study\"] = study2\n",
    "    df = df1.append(df2)\n",
    "    \n",
    "    # plotting\n",
    "    _, axes = plt.subplots(1,len(params),figsize=(14,5),gridspec_kw={\"wspace\":0.5})\n",
    "    for param, ax in zip(params,axes):\n",
    "        df[\"parameter\"] = visualize.get_label(param)\n",
    "        sns.violinplot(x=\"parameter\",y=param,hue=\"study\",data=df,cut=0,split=True,ax=ax,\n",
    "                   palette=[\"seagreen\",\"cornflowerblue\"],inner=\"quartile\")\n",
    "        #x-axis\n",
    "        ax.set_xlabel(\"\")\n",
    "        # y-axis\n",
    "        ax.set_ylim(bottom=0)\n",
    "        ax.set_ylabel(visualize.get_units(param),fontsize=16)\n",
    "        # remainder\n",
    "        ax.tick_params(labelsize=14)\n",
    "        if param == params[-1]:\n",
    "            ax.legend(bbox_to_anchor=(-0.25,-0.08),frameon=False,fontsize=14,ncol=2)\n",
    "        else:\n",
    "            ax.get_legend().remove()\n",
    "        for loc in [\"top\",\"right\"]:\n",
    "            ax.spines[loc].set_visible(False)\n",
    "    \n",
    "    if save:\n",
    "        s1 = study1.replace('\\n','_').replace(' ','_').lower()\n",
    "        s2 = study2.replace('\\n','_').replace(' ','_').lower()\n",
    "        plt.savefig(f\"../reports/figures/beacon_summary/violin_comparison-{s1}-{s2}.pdf\",layout=\"tight\")\n",
    "    plt.show()\n",
    "    plt.close()"
   ]
  },
  {
   "cell_type": "code",
   "execution_count": 15,
   "metadata": {},
   "outputs": [
    {
     "data": {
      "image/png": "[encoded data removed]",
      "text/plain": [
       "<Figure size 1008x360 with 4 Axes>"
      ]
     },
     "metadata": {
      "needs_background": "light"
     },
     "output_type": "display_data"
    }
   ],
   "source": [
    "plot_violin_comparison(data_ux,data_af,study1=\"Central Austin (Students)\", study2=\"East Austin (Families)\", save=False)"
   ]
  },
  {
   "cell_type": "markdown",
   "metadata": {},
   "source": [
    "<div class=\"alert alert-block alert-info\">\n",
    " \n",
    "IAQ seems to be worse in the homes of the ambassador families except when considering `tvoc` although there is a wider range and more extreme outliers.\n",
    "    \n",
    "</div>"
   ]
  },
  {
   "cell_type": "markdown",
   "metadata": {},
   "source": [
    "---"
   ]
  },
  {
   "cell_type": "markdown",
   "metadata": {},
   "source": [
    "<a id=\"aggregated\"></a>"
   ]
  },
  {
   "cell_type": "markdown",
   "metadata": {},
   "source": [
    "# Statistics\n",
    "Summary stats and some more involved analysis"
   ]
  },
  {
   "cell_type": "markdown",
   "metadata": {},
   "source": [
    "## Summary\n",
    "Summary statistics from the two studies"
   ]
  },
  {
   "cell_type": "code",
   "execution_count": 16,
   "metadata": {},
   "outputs": [],
   "source": [
    "def get_summary_stats(df,params=[\"tvoc\",\"co\",\"co2\",\"pm2p5_mass\"],resample=1):\n",
    "    \"\"\"Gets summary statistics for the given dataframe\"\"\"\n",
    "    \n",
    "    df = resample_data(df,resample_rate=resample)\n",
    "    \n",
    "    res = {\"n\":[],\"min\":[],\"25\":[],\"median\":[],\"75\":[],\"max\":[]}\n",
    "    for param in params:\n",
    "        for key, val in zip(res.keys(),[len(df[param].dropna()),np.nanmin(df[param]),np.nanpercentile(df[param],25),\n",
    "                                        np.nanmedian(df[param]),np.nanpercentile(df[param],75),\n",
    "                                        np.nanmax(df[param])]):\n",
    "            res[key].append(val)\n",
    "        \n",
    "    return pd.DataFrame(res,index=params)"
   ]
  },
  {
   "cell_type": "markdown",
   "metadata": {},
   "source": [
    "### UTx000"
   ]
  },
  {
   "cell_type": "code",
   "execution_count": 17,
   "metadata": {},
   "outputs": [
    {
     "data": {
      "text/html": [
       "<div>\n",
       "<style scoped>\n",
       "    .dataframe tbody tr th:only-of-type {\n",
       "        vertical-align: middle;\n",
       "    }\n",
       "\n",
       "    .dataframe tbody tr th {\n",
       "        vertical-align: top;\n",
       "    }\n",
       "\n",
       "    .dataframe thead th {\n",
       "        text-align: right;\n",
       "    }\n",
       "</style>\n",
       "<table border=\"1\" class=\"dataframe\">\n",
       "  <thead>\n",
       "    <tr style=\"text-align: right;\">\n",
       "      <th></th>\n",
       "      <th>n</th>\n",
       "      <th>min</th>\n",
       "      <th>25</th>\n",
       "      <th>median</th>\n",
       "      <th>75</th>\n",
       "      <th>max</th>\n",
       "    </tr>\n",
       "  </thead>\n",
       "  <tbody>\n",
       "    <tr>\n",
       "      <th>tvoc</th>\n",
       "      <td>16266</td>\n",
       "      <td>0.000000</td>\n",
       "      <td>149.172600</td>\n",
       "      <td>246.062059</td>\n",
       "      <td>349.980061</td>\n",
       "      <td>703.436190</td>\n",
       "    </tr>\n",
       "    <tr>\n",
       "      <th>co</th>\n",
       "      <td>16225</td>\n",
       "      <td>0.000000</td>\n",
       "      <td>0.000000</td>\n",
       "      <td>0.580360</td>\n",
       "      <td>4.452989</td>\n",
       "      <td>14.623800</td>\n",
       "    </tr>\n",
       "    <tr>\n",
       "      <th>co2</th>\n",
       "      <td>15927</td>\n",
       "      <td>202.742629</td>\n",
       "      <td>618.474295</td>\n",
       "      <td>889.280057</td>\n",
       "      <td>1232.561756</td>\n",
       "      <td>2208.409480</td>\n",
       "    </tr>\n",
       "    <tr>\n",
       "      <th>pm2p5_mass</th>\n",
       "      <td>17268</td>\n",
       "      <td>0.000000</td>\n",
       "      <td>6.788126</td>\n",
       "      <td>11.058977</td>\n",
       "      <td>17.644154</td>\n",
       "      <td>51.751534</td>\n",
       "    </tr>\n",
       "  </tbody>\n",
       "</table>\n",
       "</div>"
      ],
      "text/plain": [
       "                n         min          25      median           75  \\\n",
       "tvoc        16266    0.000000  149.172600  246.062059   349.980061   \n",
       "co          16225    0.000000    0.000000    0.580360     4.452989   \n",
       "co2         15927  202.742629  618.474295  889.280057  1232.561756   \n",
       "pm2p5_mass  17268    0.000000    6.788126   11.058977    17.644154   \n",
       "\n",
       "                    max  \n",
       "tvoc         703.436190  \n",
       "co            14.623800  \n",
       "co2         2208.409480  \n",
       "pm2p5_mass    51.751534  "
      ]
     },
     "execution_count": 17,
     "metadata": {},
     "output_type": "execute_result"
    }
   ],
   "source": [
    "get_summary_stats(data_ux,resample=60)"
   ]
  },
  {
   "cell_type": "markdown",
   "metadata": {},
   "source": [
    "### Ambassador Families"
   ]
  },
  {
   "cell_type": "code",
   "execution_count": 18,
   "metadata": {},
   "outputs": [
    {
     "data": {
      "text/html": [
       "<div>\n",
       "<style scoped>\n",
       "    .dataframe tbody tr th:only-of-type {\n",
       "        vertical-align: middle;\n",
       "    }\n",
       "\n",
       "    .dataframe tbody tr th {\n",
       "        vertical-align: top;\n",
       "    }\n",
       "\n",
       "    .dataframe thead th {\n",
       "        text-align: right;\n",
       "    }\n",
       "</style>\n",
       "<table border=\"1\" class=\"dataframe\">\n",
       "  <thead>\n",
       "    <tr style=\"text-align: right;\">\n",
       "      <th></th>\n",
       "      <th>n</th>\n",
       "      <th>min</th>\n",
       "      <th>25</th>\n",
       "      <th>median</th>\n",
       "      <th>75</th>\n",
       "      <th>max</th>\n",
       "    </tr>\n",
       "  </thead>\n",
       "  <tbody>\n",
       "    <tr>\n",
       "      <th>tvoc</th>\n",
       "      <td>2124</td>\n",
       "      <td>0.000000</td>\n",
       "      <td>10.531583</td>\n",
       "      <td>43.565094</td>\n",
       "      <td>183.711776</td>\n",
       "      <td>1152.441687</td>\n",
       "    </tr>\n",
       "    <tr>\n",
       "      <th>co</th>\n",
       "      <td>2095</td>\n",
       "      <td>1.992005</td>\n",
       "      <td>6.985268</td>\n",
       "      <td>8.178781</td>\n",
       "      <td>11.588883</td>\n",
       "      <td>24.210876</td>\n",
       "    </tr>\n",
       "    <tr>\n",
       "      <th>co2</th>\n",
       "      <td>2179</td>\n",
       "      <td>460.068032</td>\n",
       "      <td>1097.534854</td>\n",
       "      <td>1510.040688</td>\n",
       "      <td>1910.834365</td>\n",
       "      <td>3085.989046</td>\n",
       "    </tr>\n",
       "    <tr>\n",
       "      <th>pm2p5_mass</th>\n",
       "      <td>2114</td>\n",
       "      <td>-0.550154</td>\n",
       "      <td>4.033529</td>\n",
       "      <td>6.763708</td>\n",
       "      <td>17.709463</td>\n",
       "      <td>122.738504</td>\n",
       "    </tr>\n",
       "  </tbody>\n",
       "</table>\n",
       "</div>"
      ],
      "text/plain": [
       "               n         min           25       median           75  \\\n",
       "tvoc        2124    0.000000    10.531583    43.565094   183.711776   \n",
       "co          2095    1.992005     6.985268     8.178781    11.588883   \n",
       "co2         2179  460.068032  1097.534854  1510.040688  1910.834365   \n",
       "pm2p5_mass  2114   -0.550154     4.033529     6.763708    17.709463   \n",
       "\n",
       "                    max  \n",
       "tvoc        1152.441687  \n",
       "co            24.210876  \n",
       "co2         3085.989046  \n",
       "pm2p5_mass   122.738504  "
      ]
     },
     "execution_count": 18,
     "metadata": {},
     "output_type": "execute_result"
    }
   ],
   "source": [
    "get_summary_stats(data_af,resample=60)"
   ]
  },
  {
   "cell_type": "markdown",
   "metadata": {},
   "source": [
    "## Mood's Median Test\n",
    "Like Welch's t-Test, but on the medians of the distributions rather than the means."
   ]
  },
  {
   "cell_type": "code",
   "execution_count": 19,
   "metadata": {},
   "outputs": [],
   "source": [
    "from scipy.stats import median_test"
   ]
  },
  {
   "cell_type": "code",
   "execution_count": 20,
   "metadata": {},
   "outputs": [
    {
     "name": "stdout",
     "output_type": "stream",
     "text": [
      "tvoc: 9.499493970918892e-194\n",
      "co: 0.0\n",
      "co2: 1.6175505146876563e-204\n",
      "pm2p5_mass: 1.8799873891128544e-44\n"
     ]
    }
   ],
   "source": [
    "params=[\"tvoc\",\"co\",\"co2\",\"pm2p5_mass\"]\n",
    "for param in params:\n",
    "    stat, p, m, table = median_test(data_ux[param].values, data_af[param].values,nan_policy=\"omit\")\n",
    "    print(f\"{param}: {p}\")"
   ]
  },
  {
   "cell_type": "markdown",
   "metadata": {},
   "source": [
    "<div class=\"alert alert-block alert-success\">\n",
    " \n",
    "The medians are _significantly_ different between distributions.\n",
    "    \n",
    "</div>"
   ]
  },
  {
   "cell_type": "markdown",
   "metadata": {},
   "source": [
    "## Welch's t-Test"
   ]
  },
  {
   "cell_type": "code",
   "execution_count": 21,
   "metadata": {},
   "outputs": [],
   "source": [
    "from scipy.stats import ttest_ind"
   ]
  },
  {
   "cell_type": "code",
   "execution_count": 22,
   "metadata": {},
   "outputs": [
    {
     "name": "stdout",
     "output_type": "stream",
     "text": [
      "tvoc: 1.5706456469130414e-162\n",
      "co: 0.0\n",
      "co2: 0.0\n",
      "pm2p5_mass: 2.2332582031131395e-18\n"
     ]
    }
   ],
   "source": [
    "params=[\"tvoc\",\"co\",\"co2\",\"pm2p5_mass\"]\n",
    "for param in params:\n",
    "    t, p = ttest_ind(data_ux[param].values, data_af[param].values,equal_var=False,nan_policy=\"omit\")\n",
    "    print(f\"{param}: {p}\")"
   ]
  },
  {
   "cell_type": "markdown",
   "metadata": {},
   "source": [
    "<div class=\"alert alert-block alert-success\">\n",
    " \n",
    "Even more so, the means of the distributions are _significantly_ different between distributions.\n",
    "    \n",
    "</div>"
   ]
  },
  {
   "cell_type": "markdown",
   "metadata": {},
   "source": [
    "## Mixed ANOVA/Split-Plot ANOVA\n",
    "Learn more [here](https://statistics.laerd.com/spss-tutorials/mixed-anova-using-spss-statistics.php)"
   ]
  },
  {
   "cell_type": "code",
   "execution_count": 23,
   "metadata": {},
   "outputs": [],
   "source": [
    "def combine_and_resample(df1, df2, study1=\"UTx000\", study2=\"Ambassador Families\", resample_rate=1, remove_na=True):\n",
    "    \"\"\"\n",
    "    Combines, adds labels, resamples, and [maybe] drops NaN\n",
    "    \n",
    "    Parameters\n",
    "    ----------\n",
    "    \n",
    "    Returns\n",
    "    -------\n",
    "    df : DataFrame\n",
    "        cleaned dataframe\n",
    "    \"\"\"\n",
    "    # Resampling\n",
    "    # ----------\n",
    "    ## Have to separate by beacon so that I don't resample the beacon number...\n",
    "    ## Study 1\n",
    "    df1_resampled = pd.DataFrame()\n",
    "    for bb in df1[\"beacon\"].unique():\n",
    "        df_bb = df1[df1[\"beacon\"] == bb]\n",
    "        df_bb_resampled = df_bb.resample(f\"{resample_rate}T\").mean()\n",
    "        df_bb_resampled[\"beacon\"] = bb\n",
    "        df1_resampled = df1_resampled.append(df_bb_resampled)\n",
    "    ## Study 2\n",
    "    df2_resampled = pd.DataFrame()\n",
    "    for bb in df2[\"beacon\"].unique():\n",
    "        df_bb = df2[df2[\"beacon\"] == bb]\n",
    "        df_bb_resampled = df_bb.resample(f\"{resample_rate}T\").mean()\n",
    "        df_bb_resampled[\"beacon\"] = bb\n",
    "        df2_resampled = df2_resampled.append(df_bb_resampled)\n",
    "        \n",
    "    # Labeling\n",
    "    df1_resampled[\"study\"] = study1\n",
    "    df2_resampled[\"study\"] = study2\n",
    "    \n",
    "    # Combining\n",
    "    df = df1_resampled.append(df2_resampled)\n",
    "    \n",
    "    # Removing NaN\n",
    "    if remove_na:\n",
    "        df.dropna(how=\"any\",inplace=True)\n",
    "    \n",
    "    return df"
   ]
  },
  {
   "cell_type": "code",
   "execution_count": 24,
   "metadata": {},
   "outputs": [],
   "source": [
    "data = combine_and_resample(data_ux, data_af, resample_rate=60)"
   ]
  },
  {
   "cell_type": "code",
   "execution_count": 25,
   "metadata": {},
   "outputs": [
    {
     "data": {
      "text/html": [
       "<div>\n",
       "<style scoped>\n",
       "    .dataframe tbody tr th:only-of-type {\n",
       "        vertical-align: middle;\n",
       "    }\n",
       "\n",
       "    .dataframe tbody tr th {\n",
       "        vertical-align: top;\n",
       "    }\n",
       "\n",
       "    .dataframe thead th {\n",
       "        text-align: right;\n",
       "    }\n",
       "</style>\n",
       "<table border=\"1\" class=\"dataframe\">\n",
       "  <thead>\n",
       "    <tr style=\"text-align: right;\">\n",
       "      <th></th>\n",
       "      <th>tvoc</th>\n",
       "      <th>co</th>\n",
       "      <th>co2</th>\n",
       "      <th>pm2p5_mass</th>\n",
       "      <th>beacon</th>\n",
       "      <th>study</th>\n",
       "    </tr>\n",
       "    <tr>\n",
       "      <th>timestamp</th>\n",
       "      <th></th>\n",
       "      <th></th>\n",
       "      <th></th>\n",
       "      <th></th>\n",
       "      <th></th>\n",
       "      <th></th>\n",
       "    </tr>\n",
       "  </thead>\n",
       "  <tbody>\n",
       "    <tr>\n",
       "      <th>2020-06-09 11:00:00</th>\n",
       "      <td>0.000000</td>\n",
       "      <td>14.306310</td>\n",
       "      <td>615.663016</td>\n",
       "      <td>32.940397</td>\n",
       "      <td>1</td>\n",
       "      <td>UTx000</td>\n",
       "    </tr>\n",
       "    <tr>\n",
       "      <th>2020-06-09 12:00:00</th>\n",
       "      <td>0.135472</td>\n",
       "      <td>13.013227</td>\n",
       "      <td>636.839059</td>\n",
       "      <td>31.332884</td>\n",
       "      <td>1</td>\n",
       "      <td>UTx000</td>\n",
       "    </tr>\n",
       "    <tr>\n",
       "      <th>2020-06-09 13:00:00</th>\n",
       "      <td>3.064409</td>\n",
       "      <td>11.913453</td>\n",
       "      <td>633.773553</td>\n",
       "      <td>31.026540</td>\n",
       "      <td>1</td>\n",
       "      <td>UTx000</td>\n",
       "    </tr>\n",
       "    <tr>\n",
       "      <th>2020-06-09 14:00:00</th>\n",
       "      <td>9.153643</td>\n",
       "      <td>11.171782</td>\n",
       "      <td>659.136100</td>\n",
       "      <td>45.666537</td>\n",
       "      <td>1</td>\n",
       "      <td>UTx000</td>\n",
       "    </tr>\n",
       "    <tr>\n",
       "      <th>2020-06-09 15:00:00</th>\n",
       "      <td>14.175602</td>\n",
       "      <td>10.744059</td>\n",
       "      <td>667.008284</td>\n",
       "      <td>43.505947</td>\n",
       "      <td>1</td>\n",
       "      <td>UTx000</td>\n",
       "    </tr>\n",
       "  </tbody>\n",
       "</table>\n",
       "</div>"
      ],
      "text/plain": [
       "                          tvoc         co         co2  pm2p5_mass  beacon  \\\n",
       "timestamp                                                                   \n",
       "2020-06-09 11:00:00   0.000000  14.306310  615.663016   32.940397       1   \n",
       "2020-06-09 12:00:00   0.135472  13.013227  636.839059   31.332884       1   \n",
       "2020-06-09 13:00:00   3.064409  11.913453  633.773553   31.026540       1   \n",
       "2020-06-09 14:00:00   9.153643  11.171782  659.136100   45.666537       1   \n",
       "2020-06-09 15:00:00  14.175602  10.744059  667.008284   43.505947       1   \n",
       "\n",
       "                      study  \n",
       "timestamp                    \n",
       "2020-06-09 11:00:00  UTx000  \n",
       "2020-06-09 12:00:00  UTx000  \n",
       "2020-06-09 13:00:00  UTx000  \n",
       "2020-06-09 14:00:00  UTx000  \n",
       "2020-06-09 15:00:00  UTx000  "
      ]
     },
     "execution_count": 25,
     "metadata": {},
     "output_type": "execute_result"
    }
   ],
   "source": [
    "data.head()"
   ]
  },
  {
   "cell_type": "markdown",
   "metadata": {},
   "source": [
    "---"
   ]
  },
  {
   "cell_type": "markdown",
   "metadata": {},
   "source": [
    "<a id=\"pt-based\"></a>"
   ]
  },
  {
   "cell_type": "markdown",
   "metadata": {},
   "source": [
    "# Participant-Based Summary"
   ]
  },
  {
   "cell_type": "markdown",
   "metadata": {},
   "source": [
    "---"
   ]
  }
 ],
 "metadata": {
  "kernelspec": {
   "display_name": "Python 3",
   "language": "python",
   "name": "python3"
  },
  "language_info": {
   "codemirror_mode": {
    "name": "ipython",
    "version": 3
   },
   "file_extension": ".py",
   "mimetype": "text/x-python",
   "name": "python",
   "nbconvert_exporter": "python",
   "pygments_lexer": "ipython3",
   "version": "3.8.8"
  },
  "toc": {
   "base_numbering": 1,
   "nav_menu": {},
   "number_sections": false,
   "sideBar": false,
   "skip_h1_title": false,
   "title_cell": "Table of Contents",
   "title_sidebar": "Contents",
   "toc_cell": false,
   "toc_position": {},
   "toc_section_display": false,
   "toc_window_display": false
  }
 },
 "nbformat": 4,
 "nbformat_minor": 4
}
