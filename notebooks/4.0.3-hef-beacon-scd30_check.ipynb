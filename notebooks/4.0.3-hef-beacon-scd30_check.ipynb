{
 "cells": [
  {
   "cell_type": "markdown",
   "metadata": {},
   "source": [
    "# SCD30 Check\n",
    "This notebook is simply to check how well the scd30 sensors are working on a select few beacons. \n",
    "\n",
    "[Data Import](#Data-Import)\n",
    "\n",
    "[Data Visualization](#Data-Visualization)\n",
    " - [Time Series](#Time-Series)\n",
    " - [Heatmaps](#Heatmaps)"
   ]
  },
  {
   "cell_type": "code",
   "execution_count": 1,
   "metadata": {},
   "outputs": [],
   "source": [
    "import pandas as pd\n",
    "import numpy as np\n",
    "from datetime import datetime\n",
    "import os"
   ]
  },
  {
   "cell_type": "markdown",
   "metadata": {},
   "source": [
    "# Data Import"
   ]
  },
  {
   "cell_type": "code",
   "execution_count": 2,
   "metadata": {},
   "outputs": [],
   "source": [
    "# Beacon batch test 1\n",
    "beacon_list = [14,37,43]\n",
    "start_time = datetime(2020,7,9,16)\n",
    "end_time = datetime(2020,7,10,12)"
   ]
  },
  {
   "cell_type": "code",
   "execution_count": 16,
   "metadata": {},
   "outputs": [],
   "source": [
    "# Beacon batch test 2\n",
    "beacon_list = [4,9,45]\n",
    "start_time = datetime(2020,7,10,11)\n",
    "end_time = datetime(2020,7,11,9)"
   ]
  },
  {
   "cell_type": "code",
   "execution_count": 10,
   "metadata": {},
   "outputs": [
    {
     "name": "stdout",
     "output_type": "stream",
     "text": [
      "Reading for beacon:\n",
      "\t4\n",
      "No columns to parse from file; filename: b04_2020-03-22.csv\n",
      "\t9\n",
      "\t45\n"
     ]
    }
   ],
   "source": [
    "beacon_data = pd.DataFrame()\n",
    "print('Reading for beacon:')\n",
    "for beacon in beacon_list:\n",
    "    print(f'\\t{beacon}')\n",
    "    beacon_df = pd.DataFrame()\n",
    "    if beacon < 10:\n",
    "        number = f'0{beacon}'\n",
    "    else:\n",
    "        number = f'{beacon}'\n",
    "    py3_df = pd.DataFrame()\n",
    "    for file in os.listdir(f'/Users/hagenfritz/Projects/utx000/data/raw/bpeace2/beacon/B{number}/adafruit/'):\n",
    "        try:\n",
    "            day_df = pd.read_csv(f'/Users/hagenfritz/Projects/utx000/data/raw/bpeace2/beacon/B{number}/adafruit/{file}',\n",
    "                                index_col='Timestamp',parse_dates=True,infer_datetime_format=True)\n",
    "            py3_df = pd.concat([py3_df,day_df])\n",
    "        except Exception as inst:\n",
    "            print(f'{inst}; filename: {file}')\n",
    "    py3_df = py3_df.resample('5T').mean()\n",
    "    py2_df = pd.DataFrame()\n",
    "    for file in os.listdir(f'/Users/hagenfritz/Projects/utx000/data/raw/bpeace2/beacon/B{number}/sensirion/'):\n",
    "        try:\n",
    "            day_df = pd.read_csv(f'/Users/hagenfritz/Projects/utx000/data/raw/bpeace2/beacon/B{number}/sensirion/{file}',\n",
    "                            index_col='Timestamp',parse_dates=True,infer_datetime_format=True)\n",
    "        except Exception as inst:\n",
    "            print(f'{inst}; filename: {file}')\n",
    "        py2_df = pd.concat([py2_df,day_df])\n",
    "        \n",
    "    py2_df = py2_df.resample('5T').mean()\n",
    "        \n",
    "    beacon_df = py3_df.merge(right=py2_df,left_index=True,right_index=True,how='outer')\n",
    "    beacon_df['Beacon'] = beacon\n",
    "    \n",
    "    beacon_data = pd.concat([beacon_data,beacon_df])"
   ]
  },
  {
   "cell_type": "code",
   "execution_count": 11,
   "metadata": {},
   "outputs": [
    {
     "data": {
      "text/html": [
       "<div>\n",
       "<style scoped>\n",
       "    .dataframe tbody tr th:only-of-type {\n",
       "        vertical-align: middle;\n",
       "    }\n",
       "\n",
       "    .dataframe tbody tr th {\n",
       "        vertical-align: top;\n",
       "    }\n",
       "\n",
       "    .dataframe thead th {\n",
       "        text-align: right;\n",
       "    }\n",
       "</style>\n",
       "<table border=\"1\" class=\"dataframe\">\n",
       "  <thead>\n",
       "    <tr style=\"text-align: right;\">\n",
       "      <th></th>\n",
       "      <th>TVOC</th>\n",
       "      <th>eCO2</th>\n",
       "      <th>Lux</th>\n",
       "      <th>Visible</th>\n",
       "      <th>Infrared</th>\n",
       "      <th>NO2</th>\n",
       "      <th>T_NO2</th>\n",
       "      <th>RH_NO2</th>\n",
       "      <th>CO</th>\n",
       "      <th>T_CO</th>\n",
       "      <th>...</th>\n",
       "      <th>PM_N_0p5</th>\n",
       "      <th>PM_N_1</th>\n",
       "      <th>PM_N_2p5</th>\n",
       "      <th>PM_N_4</th>\n",
       "      <th>PM_N_10</th>\n",
       "      <th>PM_C_1</th>\n",
       "      <th>PM_C_2p5</th>\n",
       "      <th>PM_C_4</th>\n",
       "      <th>PM_C_10</th>\n",
       "      <th>Beacon</th>\n",
       "    </tr>\n",
       "    <tr>\n",
       "      <th>Timestamp</th>\n",
       "      <th></th>\n",
       "      <th></th>\n",
       "      <th></th>\n",
       "      <th></th>\n",
       "      <th></th>\n",
       "      <th></th>\n",
       "      <th></th>\n",
       "      <th></th>\n",
       "      <th></th>\n",
       "      <th></th>\n",
       "      <th></th>\n",
       "      <th></th>\n",
       "      <th></th>\n",
       "      <th></th>\n",
       "      <th></th>\n",
       "      <th></th>\n",
       "      <th></th>\n",
       "      <th></th>\n",
       "      <th></th>\n",
       "      <th></th>\n",
       "      <th></th>\n",
       "    </tr>\n",
       "  </thead>\n",
       "  <tbody>\n",
       "    <tr>\n",
       "      <th>2020-05-23 20:20:00</th>\n",
       "      <td>0.0</td>\n",
       "      <td>400.0</td>\n",
       "      <td>6.96864</td>\n",
       "      <td>39325.40</td>\n",
       "      <td>0.6</td>\n",
       "      <td>2776.25</td>\n",
       "      <td>31.0</td>\n",
       "      <td>41.0</td>\n",
       "      <td>1287869.25</td>\n",
       "      <td>31.00</td>\n",
       "      <td>...</td>\n",
       "      <td>24.644667</td>\n",
       "      <td>32.622219</td>\n",
       "      <td>35.201699</td>\n",
       "      <td>35.513169</td>\n",
       "      <td>35.560278</td>\n",
       "      <td>4.410649</td>\n",
       "      <td>6.925734</td>\n",
       "      <td>8.648939</td>\n",
       "      <td>8.715139</td>\n",
       "      <td>4</td>\n",
       "    </tr>\n",
       "    <tr>\n",
       "      <th>2020-05-23 20:25:00</th>\n",
       "      <td>0.0</td>\n",
       "      <td>400.0</td>\n",
       "      <td>3.50880</td>\n",
       "      <td>1.72</td>\n",
       "      <td>0.0</td>\n",
       "      <td>947.76</td>\n",
       "      <td>30.2</td>\n",
       "      <td>39.2</td>\n",
       "      <td>356681.40</td>\n",
       "      <td>30.60</td>\n",
       "      <td>...</td>\n",
       "      <td>17.959422</td>\n",
       "      <td>27.713981</td>\n",
       "      <td>31.826716</td>\n",
       "      <td>32.330659</td>\n",
       "      <td>32.406328</td>\n",
       "      <td>4.105203</td>\n",
       "      <td>8.069461</td>\n",
       "      <td>10.865770</td>\n",
       "      <td>10.973190</td>\n",
       "      <td>4</td>\n",
       "    </tr>\n",
       "    <tr>\n",
       "      <th>2020-05-23 20:30:00</th>\n",
       "      <td>0.0</td>\n",
       "      <td>400.0</td>\n",
       "      <td>2.04000</td>\n",
       "      <td>1.00</td>\n",
       "      <td>0.0</td>\n",
       "      <td>480.12</td>\n",
       "      <td>29.0</td>\n",
       "      <td>39.0</td>\n",
       "      <td>52500.64</td>\n",
       "      <td>29.52</td>\n",
       "      <td>...</td>\n",
       "      <td>24.484275</td>\n",
       "      <td>40.843789</td>\n",
       "      <td>48.185089</td>\n",
       "      <td>49.087238</td>\n",
       "      <td>49.222508</td>\n",
       "      <td>6.288719</td>\n",
       "      <td>13.348722</td>\n",
       "      <td>18.357510</td>\n",
       "      <td>18.549922</td>\n",
       "      <td>4</td>\n",
       "    </tr>\n",
       "    <tr>\n",
       "      <th>2020-05-23 20:35:00</th>\n",
       "      <td>0.0</td>\n",
       "      <td>400.0</td>\n",
       "      <td>2.04000</td>\n",
       "      <td>1.00</td>\n",
       "      <td>0.0</td>\n",
       "      <td>322.60</td>\n",
       "      <td>28.9</td>\n",
       "      <td>39.0</td>\n",
       "      <td>36968.35</td>\n",
       "      <td>29.00</td>\n",
       "      <td>...</td>\n",
       "      <td>21.263273</td>\n",
       "      <td>33.083248</td>\n",
       "      <td>38.106089</td>\n",
       "      <td>38.721779</td>\n",
       "      <td>38.814212</td>\n",
       "      <td>4.921662</td>\n",
       "      <td>9.761729</td>\n",
       "      <td>13.178366</td>\n",
       "      <td>13.309617</td>\n",
       "      <td>4</td>\n",
       "    </tr>\n",
       "    <tr>\n",
       "      <th>2020-05-23 20:40:00</th>\n",
       "      <td>0.0</td>\n",
       "      <td>400.0</td>\n",
       "      <td>2.04000</td>\n",
       "      <td>1.00</td>\n",
       "      <td>0.0</td>\n",
       "      <td>246.36</td>\n",
       "      <td>28.0</td>\n",
       "      <td>39.0</td>\n",
       "      <td>30278.68</td>\n",
       "      <td>28.40</td>\n",
       "      <td>...</td>\n",
       "      <td>17.834598</td>\n",
       "      <td>29.564854</td>\n",
       "      <td>34.806843</td>\n",
       "      <td>35.450893</td>\n",
       "      <td>35.547473</td>\n",
       "      <td>4.538675</td>\n",
       "      <td>9.580561</td>\n",
       "      <td>13.156236</td>\n",
       "      <td>13.293595</td>\n",
       "      <td>4</td>\n",
       "    </tr>\n",
       "  </tbody>\n",
       "</table>\n",
       "<p>5 rows × 24 columns</p>\n",
       "</div>"
      ],
      "text/plain": [
       "                     TVOC   eCO2      Lux   Visible  Infrared      NO2  T_NO2  \\\n",
       "Timestamp                                                                       \n",
       "2020-05-23 20:20:00   0.0  400.0  6.96864  39325.40       0.6  2776.25   31.0   \n",
       "2020-05-23 20:25:00   0.0  400.0  3.50880      1.72       0.0   947.76   30.2   \n",
       "2020-05-23 20:30:00   0.0  400.0  2.04000      1.00       0.0   480.12   29.0   \n",
       "2020-05-23 20:35:00   0.0  400.0  2.04000      1.00       0.0   322.60   28.9   \n",
       "2020-05-23 20:40:00   0.0  400.0  2.04000      1.00       0.0   246.36   28.0   \n",
       "\n",
       "                     RH_NO2          CO   T_CO  ...   PM_N_0p5     PM_N_1  \\\n",
       "Timestamp                                       ...                         \n",
       "2020-05-23 20:20:00    41.0  1287869.25  31.00  ...  24.644667  32.622219   \n",
       "2020-05-23 20:25:00    39.2   356681.40  30.60  ...  17.959422  27.713981   \n",
       "2020-05-23 20:30:00    39.0    52500.64  29.52  ...  24.484275  40.843789   \n",
       "2020-05-23 20:35:00    39.0    36968.35  29.00  ...  21.263273  33.083248   \n",
       "2020-05-23 20:40:00    39.0    30278.68  28.40  ...  17.834598  29.564854   \n",
       "\n",
       "                      PM_N_2p5     PM_N_4    PM_N_10    PM_C_1   PM_C_2p5  \\\n",
       "Timestamp                                                                   \n",
       "2020-05-23 20:20:00  35.201699  35.513169  35.560278  4.410649   6.925734   \n",
       "2020-05-23 20:25:00  31.826716  32.330659  32.406328  4.105203   8.069461   \n",
       "2020-05-23 20:30:00  48.185089  49.087238  49.222508  6.288719  13.348722   \n",
       "2020-05-23 20:35:00  38.106089  38.721779  38.814212  4.921662   9.761729   \n",
       "2020-05-23 20:40:00  34.806843  35.450893  35.547473  4.538675   9.580561   \n",
       "\n",
       "                        PM_C_4    PM_C_10  Beacon  \n",
       "Timestamp                                          \n",
       "2020-05-23 20:20:00   8.648939   8.715139       4  \n",
       "2020-05-23 20:25:00  10.865770  10.973190       4  \n",
       "2020-05-23 20:30:00  18.357510  18.549922       4  \n",
       "2020-05-23 20:35:00  13.178366  13.309617       4  \n",
       "2020-05-23 20:40:00  13.156236  13.293595       4  \n",
       "\n",
       "[5 rows x 24 columns]"
      ]
     },
     "execution_count": 11,
     "metadata": {},
     "output_type": "execute_result"
    }
   ],
   "source": [
    "beacon_data.head()"
   ]
  },
  {
   "cell_type": "markdown",
   "metadata": {},
   "source": [
    "# Data Visualization\n",
    "Now we visually inspect the data."
   ]
  },
  {
   "cell_type": "code",
   "execution_count": 12,
   "metadata": {},
   "outputs": [],
   "source": [
    "import matplotlib.pyplot as plt\n",
    "import seaborn as sns"
   ]
  },
  {
   "cell_type": "markdown",
   "metadata": {},
   "source": [
    "## Time Series"
   ]
  },
  {
   "cell_type": "code",
   "execution_count": 17,
   "metadata": {},
   "outputs": [
    {
     "data": {
      "image/png": "[encoded data removed]",
      "text/plain": [
       "<Figure size 864x432 with 1 Axes>"
      ]
     },
     "metadata": {
      "needs_background": "light"
     },
     "output_type": "display_data"
    }
   ],
   "source": [
    "fig, ax = plt.subplots(figsize=(12,6))\n",
    "for num in beacon_data['Beacon'].unique():\n",
    "    df_to_plot = beacon_data[beacon_data['Beacon'] == num]\n",
    "    ax.plot(df_to_plot.index,df_to_plot['CO2'],linewidth=2,label=num)\n",
    "    \n",
    "ax.set_xlim([start_time,end_time])\n",
    "ax.set_ylabel('CO2 Concentration (ppm)')\n",
    "ax.legend()\n",
    "\n",
    "plt.show()\n",
    "plt.close()"
   ]
  },
  {
   "cell_type": "markdown",
   "metadata": {},
   "source": [
    "## Heatmaps"
   ]
  },
  {
   "cell_type": "code",
   "execution_count": 18,
   "metadata": {},
   "outputs": [
    {
     "name": "stderr",
     "output_type": "stream",
     "text": [
      "/Library/Frameworks/Python.framework/Versions/3.7/lib/python3.7/site-packages/ipykernel_launcher.py:8: SettingWithCopyWarning: \n",
      "A value is trying to be set on a copy of a slice from a DataFrame.\n",
      "Try using .loc[row_indexer,col_indexer] = value instead\n",
      "\n",
      "See the caveats in the documentation: https://pandas.pydata.org/pandas-docs/stable/user_guide/indexing.html#returning-a-view-versus-a-copy\n",
      "  \n",
      "/Library/Frameworks/Python.framework/Versions/3.7/lib/python3.7/site-packages/ipykernel_launcher.py:9: SettingWithCopyWarning: \n",
      "A value is trying to be set on a copy of a slice from a DataFrame.\n",
      "Try using .loc[row_indexer,col_indexer] = value instead\n",
      "\n",
      "See the caveats in the documentation: https://pandas.pydata.org/pandas-docs/stable/user_guide/indexing.html#returning-a-view-versus-a-copy\n",
      "  if __name__ == '__main__':\n"
     ]
    },
    {
     "data": {
      "image/png": "[encoded data removed]",
      "text/plain": [
       "<Figure size 1296x288 with 6 Axes>"
      ]
     },
     "metadata": {
      "needs_background": "light"
     },
     "output_type": "display_data"
    }
   ],
   "source": [
    "fig,ax = plt.subplots(1,3,figsize=(18,4))\n",
    "loc = 0\n",
    "for num in beacon_data['Beacon'].unique():\n",
    "    # Getting dataframe for beacon in correct timeframe\n",
    "    df_beacon = beacon_data[beacon_data['Beacon'] == num]\n",
    "    df_beacon_timeframe = df_beacon[start_time:end_time]\n",
    "    # Getting columns to pivot on\n",
    "    df_beacon_timeframe['Hour'] = df_beacon_timeframe.index.hour\n",
    "    df_beacon_timeframe['Day'] = df_beacon_timeframe.index.date\n",
    "    # pivoting and plotting\n",
    "    df_to_plot = df_beacon_timeframe.pivot_table(index='Day',columns='Hour',values='CO2')\n",
    "    sns.heatmap(df_to_plot,vmin=400,vmax=2500,ax=ax[loc])\n",
    "    ax[loc].set_title(num)\n",
    "    \n",
    "    loc += 1\n",
    "    \n",
    "plt.show()\n",
    "plt.close()"
   ]
  },
  {
   "cell_type": "code",
   "execution_count": null,
   "metadata": {},
   "outputs": [],
   "source": []
  }
 ],
 "metadata": {
  "kernelspec": {
   "display_name": "Python 3",
   "language": "python",
   "name": "python3"
  },
  "language_info": {
   "codemirror_mode": {
    "name": "ipython",
    "version": 3
   },
   "file_extension": ".py",
   "mimetype": "text/x-python",
   "name": "python",
   "nbconvert_exporter": "python",
   "pygments_lexer": "ipython3",
   "version": "3.7.0"
  }
 },
 "nbformat": 4,
 "nbformat_minor": 4
}
