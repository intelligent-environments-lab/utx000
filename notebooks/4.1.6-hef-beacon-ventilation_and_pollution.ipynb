{
 "cells": [
  {
   "cell_type": "markdown",
   "metadata": {},
   "source": [
    "# Exploring the UTx000 Extension Beacon Data\n",
    "(See the [GH repo](https://github.com/intelligent-environments-lab/utx000))"
   ]
  },
  {
   "cell_type": "code",
   "execution_count": 2,
   "metadata": {},
   "outputs": [],
   "source": [
    "import warnings\n",
    "warnings.filterwarnings('ignore')"
   ]
  },
  {
   "cell_type": "markdown",
   "metadata": {},
   "source": [
    "# Ventilation Rates and Pollutant Concentrations\n",
    "After having estimated ventilation rates using the constant and decay methods, we can perhaps see how the concentration of pollutants varies according to the ventilation rates. "
   ]
  },
  {
   "cell_type": "markdown",
   "metadata": {},
   "source": [
    "## Package Import"
   ]
  },
  {
   "cell_type": "code",
   "execution_count": 3,
   "metadata": {},
   "outputs": [],
   "source": [
    "import os\n",
    "import sys\n",
    "sys.path.append('../')\n",
    "\n",
    "from src.features import build_features\n",
    "from src.visualization import visualize\n",
    "from src.reports import make_report\n",
    "\n",
    "import pandas as pd\n",
    "import numpy as np\n",
    "\n",
    "from datetime import datetime, timedelta\n",
    "\n",
    "import math\n",
    "import statsmodels.api as sm\n",
    "\n",
    "import matplotlib.pyplot as plt\n",
    "import seaborn as sns\n",
    "import matplotlib.dates as mdates\n",
    "from matplotlib.colors import ListedColormap, LinearSegmentedColormap"
   ]
  },
  {
   "cell_type": "markdown",
   "metadata": {},
   "source": [
    "# Data Import"
   ]
  },
  {
   "cell_type": "code",
   "execution_count": 4,
   "metadata": {},
   "outputs": [],
   "source": [
    "data_dir = \"../data\"\n",
    "study = \"utx000\"\n",
    "suffix = \"ux_s20\""
   ]
  },
  {
   "cell_type": "markdown",
   "metadata": {},
   "source": [
    "## Beacon Data\n",
    "Here we import:\n",
    "* `beacon_all`: All beacon data from the study\n",
    "* `beacon_nightly`: Beacon data from just the evenings when we have Fitbit and GPS traces"
   ]
  },
  {
   "cell_type": "code",
   "execution_count": 5,
   "metadata": {},
   "outputs": [
    {
     "data": {
      "text/html": [
       "<div>\n",
       "<style scoped>\n",
       "    .dataframe tbody tr th:only-of-type {\n",
       "        vertical-align: middle;\n",
       "    }\n",
       "\n",
       "    .dataframe tbody tr th {\n",
       "        vertical-align: top;\n",
       "    }\n",
       "\n",
       "    .dataframe thead th {\n",
       "        text-align: right;\n",
       "    }\n",
       "</style>\n",
       "<table border=\"1\" class=\"dataframe\">\n",
       "  <thead>\n",
       "    <tr style=\"text-align: right;\">\n",
       "      <th></th>\n",
       "      <th>tvoc</th>\n",
       "      <th>lux</th>\n",
       "      <th>no2</th>\n",
       "      <th>co</th>\n",
       "      <th>co2</th>\n",
       "      <th>pm1_number</th>\n",
       "      <th>pm2p5_number</th>\n",
       "      <th>pm10_number</th>\n",
       "      <th>pm1_mass</th>\n",
       "      <th>pm2p5_mass</th>\n",
       "      <th>pm10_mass</th>\n",
       "      <th>temperature_c</th>\n",
       "      <th>rh</th>\n",
       "      <th>beacon</th>\n",
       "      <th>beiwe</th>\n",
       "      <th>fitbit</th>\n",
       "      <th>redcap</th>\n",
       "    </tr>\n",
       "    <tr>\n",
       "      <th>timestamp</th>\n",
       "      <th></th>\n",
       "      <th></th>\n",
       "      <th></th>\n",
       "      <th></th>\n",
       "      <th></th>\n",
       "      <th></th>\n",
       "      <th></th>\n",
       "      <th></th>\n",
       "      <th></th>\n",
       "      <th></th>\n",
       "      <th></th>\n",
       "      <th></th>\n",
       "      <th></th>\n",
       "      <th></th>\n",
       "      <th></th>\n",
       "      <th></th>\n",
       "      <th></th>\n",
       "    </tr>\n",
       "  </thead>\n",
       "  <tbody>\n",
       "    <tr>\n",
       "      <th>2020-06-08 13:00:00</th>\n",
       "      <td>81.2</td>\n",
       "      <td>2.77440</td>\n",
       "      <td>0.775262</td>\n",
       "      <td>13.9663</td>\n",
       "      <td>NaN</td>\n",
       "      <td>11.900343</td>\n",
       "      <td>11.320369</td>\n",
       "      <td>11.075540</td>\n",
       "      <td>0.733881</td>\n",
       "      <td>1.149634</td>\n",
       "      <td>1.935875</td>\n",
       "      <td>27.5</td>\n",
       "      <td>47.00</td>\n",
       "      <td>1</td>\n",
       "      <td>kyj367pi</td>\n",
       "      <td>24</td>\n",
       "      <td>10</td>\n",
       "    </tr>\n",
       "    <tr>\n",
       "      <th>2020-06-08 13:02:00</th>\n",
       "      <td>82.8</td>\n",
       "      <td>2.77440</td>\n",
       "      <td>0.798162</td>\n",
       "      <td>13.9555</td>\n",
       "      <td>NaN</td>\n",
       "      <td>12.730011</td>\n",
       "      <td>12.184753</td>\n",
       "      <td>11.910685</td>\n",
       "      <td>0.800211</td>\n",
       "      <td>1.198782</td>\n",
       "      <td>1.979986</td>\n",
       "      <td>27.5</td>\n",
       "      <td>47.00</td>\n",
       "      <td>1</td>\n",
       "      <td>kyj367pi</td>\n",
       "      <td>24</td>\n",
       "      <td>10</td>\n",
       "    </tr>\n",
       "    <tr>\n",
       "      <th>2020-06-08 13:04:00</th>\n",
       "      <td>84.2</td>\n",
       "      <td>2.77440</td>\n",
       "      <td>0.770355</td>\n",
       "      <td>13.8341</td>\n",
       "      <td>NaN</td>\n",
       "      <td>13.183286</td>\n",
       "      <td>12.706129</td>\n",
       "      <td>12.422126</td>\n",
       "      <td>0.840419</td>\n",
       "      <td>1.234695</td>\n",
       "      <td>2.013414</td>\n",
       "      <td>27.5</td>\n",
       "      <td>47.00</td>\n",
       "      <td>1</td>\n",
       "      <td>kyj367pi</td>\n",
       "      <td>24</td>\n",
       "      <td>10</td>\n",
       "    </tr>\n",
       "    <tr>\n",
       "      <th>2020-06-08 13:06:00</th>\n",
       "      <td>82.0</td>\n",
       "      <td>2.77440</td>\n",
       "      <td>0.780169</td>\n",
       "      <td>14.0344</td>\n",
       "      <td>NaN</td>\n",
       "      <td>12.301532</td>\n",
       "      <td>11.367415</td>\n",
       "      <td>11.062862</td>\n",
       "      <td>0.735991</td>\n",
       "      <td>1.104990</td>\n",
       "      <td>1.886775</td>\n",
       "      <td>27.5</td>\n",
       "      <td>47.00</td>\n",
       "      <td>1</td>\n",
       "      <td>kyj367pi</td>\n",
       "      <td>24</td>\n",
       "      <td>10</td>\n",
       "    </tr>\n",
       "    <tr>\n",
       "      <th>2020-06-08 13:08:00</th>\n",
       "      <td>86.6</td>\n",
       "      <td>4.07184</td>\n",
       "      <td>0.781805</td>\n",
       "      <td>13.7661</td>\n",
       "      <td>NaN</td>\n",
       "      <td>12.932402</td>\n",
       "      <td>11.947330</td>\n",
       "      <td>11.611038</td>\n",
       "      <td>0.780179</td>\n",
       "      <td>1.128095</td>\n",
       "      <td>1.905629</td>\n",
       "      <td>27.5</td>\n",
       "      <td>47.05</td>\n",
       "      <td>1</td>\n",
       "      <td>kyj367pi</td>\n",
       "      <td>24</td>\n",
       "      <td>10</td>\n",
       "    </tr>\n",
       "  </tbody>\n",
       "</table>\n",
       "</div>"
      ],
      "text/plain": [
       "                     tvoc      lux       no2       co  co2  pm1_number  \\\n",
       "timestamp                                                                \n",
       "2020-06-08 13:00:00  81.2  2.77440  0.775262  13.9663  NaN   11.900343   \n",
       "2020-06-08 13:02:00  82.8  2.77440  0.798162  13.9555  NaN   12.730011   \n",
       "2020-06-08 13:04:00  84.2  2.77440  0.770355  13.8341  NaN   13.183286   \n",
       "2020-06-08 13:06:00  82.0  2.77440  0.780169  14.0344  NaN   12.301532   \n",
       "2020-06-08 13:08:00  86.6  4.07184  0.781805  13.7661  NaN   12.932402   \n",
       "\n",
       "                     pm2p5_number  pm10_number  pm1_mass  pm2p5_mass  \\\n",
       "timestamp                                                              \n",
       "2020-06-08 13:00:00     11.320369    11.075540  0.733881    1.149634   \n",
       "2020-06-08 13:02:00     12.184753    11.910685  0.800211    1.198782   \n",
       "2020-06-08 13:04:00     12.706129    12.422126  0.840419    1.234695   \n",
       "2020-06-08 13:06:00     11.367415    11.062862  0.735991    1.104990   \n",
       "2020-06-08 13:08:00     11.947330    11.611038  0.780179    1.128095   \n",
       "\n",
       "                     pm10_mass  temperature_c     rh  beacon     beiwe  \\\n",
       "timestamp                                                                \n",
       "2020-06-08 13:00:00   1.935875           27.5  47.00       1  kyj367pi   \n",
       "2020-06-08 13:02:00   1.979986           27.5  47.00       1  kyj367pi   \n",
       "2020-06-08 13:04:00   2.013414           27.5  47.00       1  kyj367pi   \n",
       "2020-06-08 13:06:00   1.886775           27.5  47.00       1  kyj367pi   \n",
       "2020-06-08 13:08:00   1.905629           27.5  47.05       1  kyj367pi   \n",
       "\n",
       "                     fitbit  redcap  \n",
       "timestamp                            \n",
       "2020-06-08 13:00:00      24      10  \n",
       "2020-06-08 13:02:00      24      10  \n",
       "2020-06-08 13:04:00      24      10  \n",
       "2020-06-08 13:06:00      24      10  \n",
       "2020-06-08 13:08:00      24      10  "
      ]
     },
     "execution_count": 5,
     "metadata": {},
     "output_type": "execute_result"
    }
   ],
   "source": [
    "beacon_all = pd.read_csv(f'{data_dir}/processed/beacon-{suffix}.csv',\n",
    "                    index_col=\"timestamp\",parse_dates=True,infer_datetime_format=True)\n",
    "beacon_all.head()"
   ]
  },
  {
   "cell_type": "code",
   "execution_count": 6,
   "metadata": {},
   "outputs": [
    {
     "data": {
      "text/html": [
       "<div>\n",
       "<style scoped>\n",
       "    .dataframe tbody tr th:only-of-type {\n",
       "        vertical-align: middle;\n",
       "    }\n",
       "\n",
       "    .dataframe tbody tr th {\n",
       "        vertical-align: top;\n",
       "    }\n",
       "\n",
       "    .dataframe thead th {\n",
       "        text-align: right;\n",
       "    }\n",
       "</style>\n",
       "<table border=\"1\" class=\"dataframe\">\n",
       "  <thead>\n",
       "    <tr style=\"text-align: right;\">\n",
       "      <th></th>\n",
       "      <th>lat</th>\n",
       "      <th>long</th>\n",
       "      <th>altitude</th>\n",
       "      <th>accuracy</th>\n",
       "      <th>tvoc</th>\n",
       "      <th>lux</th>\n",
       "      <th>no2</th>\n",
       "      <th>co</th>\n",
       "      <th>co2</th>\n",
       "      <th>pm1_number</th>\n",
       "      <th>...</th>\n",
       "      <th>pm2p5_mass</th>\n",
       "      <th>pm10_mass</th>\n",
       "      <th>temperature_c</th>\n",
       "      <th>rh</th>\n",
       "      <th>beacon</th>\n",
       "      <th>beiwe</th>\n",
       "      <th>fitbit</th>\n",
       "      <th>redcap</th>\n",
       "      <th>start_time</th>\n",
       "      <th>end_time</th>\n",
       "    </tr>\n",
       "    <tr>\n",
       "      <th>timestamp</th>\n",
       "      <th></th>\n",
       "      <th></th>\n",
       "      <th></th>\n",
       "      <th></th>\n",
       "      <th></th>\n",
       "      <th></th>\n",
       "      <th></th>\n",
       "      <th></th>\n",
       "      <th></th>\n",
       "      <th></th>\n",
       "      <th></th>\n",
       "      <th></th>\n",
       "      <th></th>\n",
       "      <th></th>\n",
       "      <th></th>\n",
       "      <th></th>\n",
       "      <th></th>\n",
       "      <th></th>\n",
       "      <th></th>\n",
       "      <th></th>\n",
       "      <th></th>\n",
       "    </tr>\n",
       "  </thead>\n",
       "  <tbody>\n",
       "    <tr>\n",
       "      <th>2020-08-10 05:10:00</th>\n",
       "      <td>30.58838</td>\n",
       "      <td>-97.42591</td>\n",
       "      <td>113.98145</td>\n",
       "      <td>5.29684</td>\n",
       "      <td>184.700000</td>\n",
       "      <td>2.04</td>\n",
       "      <td>NaN</td>\n",
       "      <td>10.742600</td>\n",
       "      <td>1816.486399</td>\n",
       "      <td>0.145358</td>\n",
       "      <td>...</td>\n",
       "      <td>0.891251</td>\n",
       "      <td>1.901793</td>\n",
       "      <td>24.0</td>\n",
       "      <td>33.183333</td>\n",
       "      <td>21</td>\n",
       "      <td>lkkjddam</td>\n",
       "      <td>25</td>\n",
       "      <td>12</td>\n",
       "      <td>2020-08-10 04:42:30</td>\n",
       "      <td>2020-08-10 12:35:30</td>\n",
       "    </tr>\n",
       "    <tr>\n",
       "      <th>2020-08-10 05:15:00</th>\n",
       "      <td>NaN</td>\n",
       "      <td>NaN</td>\n",
       "      <td>NaN</td>\n",
       "      <td>NaN</td>\n",
       "      <td>164.000000</td>\n",
       "      <td>2.04</td>\n",
       "      <td>NaN</td>\n",
       "      <td>10.678200</td>\n",
       "      <td>1795.248136</td>\n",
       "      <td>0.178794</td>\n",
       "      <td>...</td>\n",
       "      <td>0.903066</td>\n",
       "      <td>1.919541</td>\n",
       "      <td>24.0</td>\n",
       "      <td>33.000000</td>\n",
       "      <td>21</td>\n",
       "      <td>lkkjddam</td>\n",
       "      <td>25</td>\n",
       "      <td>12</td>\n",
       "      <td>2020-08-10 04:42:30</td>\n",
       "      <td>2020-08-10 12:35:30</td>\n",
       "    </tr>\n",
       "    <tr>\n",
       "      <th>2020-08-10 05:20:00</th>\n",
       "      <td>NaN</td>\n",
       "      <td>NaN</td>\n",
       "      <td>NaN</td>\n",
       "      <td>NaN</td>\n",
       "      <td>152.433333</td>\n",
       "      <td>2.04</td>\n",
       "      <td>NaN</td>\n",
       "      <td>10.676133</td>\n",
       "      <td>1763.231375</td>\n",
       "      <td>0.186363</td>\n",
       "      <td>...</td>\n",
       "      <td>0.847057</td>\n",
       "      <td>1.861326</td>\n",
       "      <td>24.0</td>\n",
       "      <td>33.000000</td>\n",
       "      <td>21</td>\n",
       "      <td>lkkjddam</td>\n",
       "      <td>25</td>\n",
       "      <td>12</td>\n",
       "      <td>2020-08-10 04:42:30</td>\n",
       "      <td>2020-08-10 12:35:30</td>\n",
       "    </tr>\n",
       "    <tr>\n",
       "      <th>2020-08-10 05:25:00</th>\n",
       "      <td>NaN</td>\n",
       "      <td>NaN</td>\n",
       "      <td>NaN</td>\n",
       "      <td>NaN</td>\n",
       "      <td>159.150000</td>\n",
       "      <td>2.04</td>\n",
       "      <td>NaN</td>\n",
       "      <td>10.703900</td>\n",
       "      <td>1724.723961</td>\n",
       "      <td>NaN</td>\n",
       "      <td>...</td>\n",
       "      <td>0.808707</td>\n",
       "      <td>1.833923</td>\n",
       "      <td>24.0</td>\n",
       "      <td>33.050000</td>\n",
       "      <td>21</td>\n",
       "      <td>lkkjddam</td>\n",
       "      <td>25</td>\n",
       "      <td>12</td>\n",
       "      <td>2020-08-10 04:42:30</td>\n",
       "      <td>2020-08-10 12:35:30</td>\n",
       "    </tr>\n",
       "    <tr>\n",
       "      <th>2020-08-10 05:30:00</th>\n",
       "      <td>NaN</td>\n",
       "      <td>NaN</td>\n",
       "      <td>NaN</td>\n",
       "      <td>NaN</td>\n",
       "      <td>143.933333</td>\n",
       "      <td>2.04</td>\n",
       "      <td>NaN</td>\n",
       "      <td>10.667433</td>\n",
       "      <td>1772.028385</td>\n",
       "      <td>1.646941</td>\n",
       "      <td>...</td>\n",
       "      <td>0.947046</td>\n",
       "      <td>1.964887</td>\n",
       "      <td>24.0</td>\n",
       "      <td>32.983333</td>\n",
       "      <td>21</td>\n",
       "      <td>lkkjddam</td>\n",
       "      <td>25</td>\n",
       "      <td>12</td>\n",
       "      <td>2020-08-10 04:42:30</td>\n",
       "      <td>2020-08-10 12:35:30</td>\n",
       "    </tr>\n",
       "  </tbody>\n",
       "</table>\n",
       "<p>5 rows × 23 columns</p>\n",
       "</div>"
      ],
      "text/plain": [
       "                          lat      long   altitude  accuracy        tvoc  \\\n",
       "timestamp                                                                  \n",
       "2020-08-10 05:10:00  30.58838 -97.42591  113.98145   5.29684  184.700000   \n",
       "2020-08-10 05:15:00       NaN       NaN        NaN       NaN  164.000000   \n",
       "2020-08-10 05:20:00       NaN       NaN        NaN       NaN  152.433333   \n",
       "2020-08-10 05:25:00       NaN       NaN        NaN       NaN  159.150000   \n",
       "2020-08-10 05:30:00       NaN       NaN        NaN       NaN  143.933333   \n",
       "\n",
       "                      lux  no2         co          co2  pm1_number  ...  \\\n",
       "timestamp                                                           ...   \n",
       "2020-08-10 05:10:00  2.04  NaN  10.742600  1816.486399    0.145358  ...   \n",
       "2020-08-10 05:15:00  2.04  NaN  10.678200  1795.248136    0.178794  ...   \n",
       "2020-08-10 05:20:00  2.04  NaN  10.676133  1763.231375    0.186363  ...   \n",
       "2020-08-10 05:25:00  2.04  NaN  10.703900  1724.723961         NaN  ...   \n",
       "2020-08-10 05:30:00  2.04  NaN  10.667433  1772.028385    1.646941  ...   \n",
       "\n",
       "                     pm2p5_mass  pm10_mass  temperature_c         rh  beacon  \\\n",
       "timestamp                                                                      \n",
       "2020-08-10 05:10:00    0.891251   1.901793           24.0  33.183333      21   \n",
       "2020-08-10 05:15:00    0.903066   1.919541           24.0  33.000000      21   \n",
       "2020-08-10 05:20:00    0.847057   1.861326           24.0  33.000000      21   \n",
       "2020-08-10 05:25:00    0.808707   1.833923           24.0  33.050000      21   \n",
       "2020-08-10 05:30:00    0.947046   1.964887           24.0  32.983333      21   \n",
       "\n",
       "                        beiwe  fitbit  redcap          start_time  \\\n",
       "timestamp                                                           \n",
       "2020-08-10 05:10:00  lkkjddam      25      12 2020-08-10 04:42:30   \n",
       "2020-08-10 05:15:00  lkkjddam      25      12 2020-08-10 04:42:30   \n",
       "2020-08-10 05:20:00  lkkjddam      25      12 2020-08-10 04:42:30   \n",
       "2020-08-10 05:25:00  lkkjddam      25      12 2020-08-10 04:42:30   \n",
       "2020-08-10 05:30:00  lkkjddam      25      12 2020-08-10 04:42:30   \n",
       "\n",
       "                               end_time  \n",
       "timestamp                                \n",
       "2020-08-10 05:10:00 2020-08-10 12:35:30  \n",
       "2020-08-10 05:15:00 2020-08-10 12:35:30  \n",
       "2020-08-10 05:20:00 2020-08-10 12:35:30  \n",
       "2020-08-10 05:25:00 2020-08-10 12:35:30  \n",
       "2020-08-10 05:30:00 2020-08-10 12:35:30  \n",
       "\n",
       "[5 rows x 23 columns]"
      ]
     },
     "execution_count": 6,
     "metadata": {},
     "output_type": "execute_result"
    }
   ],
   "source": [
    "beacon_nightly = pd.read_csv('../data/processed/beacon-fb_and_gps_filtered-ux_s20.csv',\n",
    "                    index_col=\"timestamp\",parse_dates=[\"timestamp\",\"start_time\",\"end_time\"],infer_datetime_format=True)\n",
    "beacon_nightly.head()"
   ]
  },
  {
   "cell_type": "markdown",
   "metadata": {},
   "source": [
    "### Participants in the Nightly Data\n",
    "For other purposes, it is worthwhile to see which participants had `beacon_nightly` data."
   ]
  },
  {
   "cell_type": "code",
   "execution_count": 7,
   "metadata": {},
   "outputs": [
    {
     "data": {
      "text/plain": [
       "qh34m4r9    4559\n",
       "tmexej5v    2999\n",
       "tlmlq19s    2568\n",
       "awa8uces    2338\n",
       "9jtzsuu8    2030\n",
       "4i7679py    1863\n",
       "olaxadz5    1639\n",
       "kyj367pi    1527\n",
       "vr9j5rry    1052\n",
       "lkkjddam    1022\n",
       "745vq78e     922\n",
       "xlw5ntd5     907\n",
       "9xmhtq74     644\n",
       "xdbdrk6e     461\n",
       "rnse61g4     277\n",
       "e73a1pd5     206\n",
       "hxj6brwj      89\n",
       "Name: beiwe, dtype: int64"
      ]
     },
     "execution_count": 7,
     "metadata": {},
     "output_type": "execute_result"
    }
   ],
   "source": [
    "beacon_nightly[\"beiwe\"].value_counts()"
   ]
  },
  {
   "cell_type": "markdown",
   "metadata": {},
   "source": [
    "## Ventilation Rates\n",
    "Now the ventilation rates are imported. We import all available data, but primarily care about the last dataset:\n",
    "* `ach_from_ss`: ventilation from steady-state analysis\n",
    "* `ach_from_decay`: ventilation from decay method analysis\n",
    "* `ach`: previous two datasets combined with less information"
   ]
  },
  {
   "cell_type": "code",
   "execution_count": 8,
   "metadata": {},
   "outputs": [
    {
     "data": {
      "text/html": [
       "<div>\n",
       "<style scoped>\n",
       "    .dataframe tbody tr th:only-of-type {\n",
       "        vertical-align: middle;\n",
       "    }\n",
       "\n",
       "    .dataframe tbody tr th {\n",
       "        vertical-align: top;\n",
       "    }\n",
       "\n",
       "    .dataframe thead th {\n",
       "        text-align: right;\n",
       "    }\n",
       "</style>\n",
       "<table border=\"1\" class=\"dataframe\">\n",
       "  <thead>\n",
       "    <tr style=\"text-align: right;\">\n",
       "      <th></th>\n",
       "      <th>beacon</th>\n",
       "      <th>beiwe</th>\n",
       "      <th>start</th>\n",
       "      <th>end</th>\n",
       "      <th>ach</th>\n",
       "      <th>method</th>\n",
       "    </tr>\n",
       "  </thead>\n",
       "  <tbody>\n",
       "    <tr>\n",
       "      <th>0</th>\n",
       "      <td>21.0</td>\n",
       "      <td>lkkjddam</td>\n",
       "      <td>2020-08-12 13:16:00</td>\n",
       "      <td>2020-08-12 13:38:00</td>\n",
       "      <td>0.151</td>\n",
       "      <td>decay</td>\n",
       "    </tr>\n",
       "    <tr>\n",
       "      <th>1</th>\n",
       "      <td>21.0</td>\n",
       "      <td>lkkjddam</td>\n",
       "      <td>2020-08-16 13:36:00</td>\n",
       "      <td>2020-08-16 14:08:00</td>\n",
       "      <td>0.143</td>\n",
       "      <td>decay</td>\n",
       "    </tr>\n",
       "    <tr>\n",
       "      <th>2</th>\n",
       "      <td>21.0</td>\n",
       "      <td>lkkjddam</td>\n",
       "      <td>2020-08-18 12:48:00</td>\n",
       "      <td>2020-08-18 13:22:00</td>\n",
       "      <td>0.202</td>\n",
       "      <td>decay</td>\n",
       "    </tr>\n",
       "    <tr>\n",
       "      <th>3</th>\n",
       "      <td>21.0</td>\n",
       "      <td>lkkjddam</td>\n",
       "      <td>2020-08-20 12:26:00</td>\n",
       "      <td>2020-08-20 12:52:00</td>\n",
       "      <td>0.078</td>\n",
       "      <td>decay</td>\n",
       "    </tr>\n",
       "    <tr>\n",
       "      <th>4</th>\n",
       "      <td>21.0</td>\n",
       "      <td>lkkjddam</td>\n",
       "      <td>2020-08-20 14:14:00</td>\n",
       "      <td>2020-08-20 14:44:00</td>\n",
       "      <td>0.062</td>\n",
       "      <td>decay</td>\n",
       "    </tr>\n",
       "  </tbody>\n",
       "</table>\n",
       "</div>"
      ],
      "text/plain": [
       "   beacon     beiwe               start                 end    ach method\n",
       "0    21.0  lkkjddam 2020-08-12 13:16:00 2020-08-12 13:38:00  0.151  decay\n",
       "1    21.0  lkkjddam 2020-08-16 13:36:00 2020-08-16 14:08:00  0.143  decay\n",
       "2    21.0  lkkjddam 2020-08-18 12:48:00 2020-08-18 13:22:00  0.202  decay\n",
       "3    21.0  lkkjddam 2020-08-20 12:26:00 2020-08-20 12:52:00  0.078  decay\n",
       "4    21.0  lkkjddam 2020-08-20 14:14:00 2020-08-20 14:44:00  0.062  decay"
      ]
     },
     "execution_count": 8,
     "metadata": {},
     "output_type": "execute_result"
    }
   ],
   "source": [
    "ach_from_ss = pd.read_csv(f\"../data/processed/beacon-ventilation_from_ss.csv\")\n",
    "ach_from_decay = pd.read_csv(f\"../data/processed/beacon-ventilation_from_decay.csv\")\n",
    "ach = pd.read_csv(f\"../data/processed/beacon-ventilation.csv\",parse_dates=[\"start\",\"end\"],infer_datetime_format=True)\n",
    "ach.head()"
   ]
  },
  {
   "cell_type": "markdown",
   "metadata": {},
   "source": [
    "### A Deeper Look\n",
    "There are nights when we get multiple measurements of ventilation for the same participant so we want to check those out. If the values are similar, we should just average the measurements for that evening."
   ]
  },
  {
   "cell_type": "code",
   "execution_count": 20,
   "metadata": {
    "scrolled": false
   },
   "outputs": [
    {
     "data": {
      "image/png": "[encoded data removed]",
      "text/plain": [
       "<Figure size 288x288 with 1 Axes>"
      ]
     },
     "metadata": {
      "needs_background": "light"
     },
     "output_type": "display_data"
    },
    {
     "data": {
      "image/png": "[encoded data removed]",
      "text/plain": [
       "<Figure size 432x288 with 1 Axes>"
      ]
     },
     "metadata": {
      "needs_background": "light"
     },
     "output_type": "display_data"
    },
    {
     "data": {
      "image/png": "[encoded data removed]",
      "text/plain": [
       "<Figure size 144x288 with 1 Axes>"
      ]
     },
     "metadata": {
      "needs_background": "light"
     },
     "output_type": "display_data"
    },
    {
     "data": {
      "image/png": "[encoded data removed]",
      "text/plain": [
       "<Figure size 360x288 with 1 Axes>"
      ]
     },
     "metadata": {
      "needs_background": "light"
     },
     "output_type": "display_data"
    },
    {
     "data": {
      "image/png": "[encoded data removed]",
      "text/plain": [
       "<Figure size 216x288 with 1 Axes>"
      ]
     },
     "metadata": {
      "needs_background": "light"
     },
     "output_type": "display_data"
    },
    {
     "data": {
      "image/png": "[encoded data removed]",
      "text/plain": [
       "<Figure size 1800x288 with 1 Axes>"
      ]
     },
     "metadata": {
      "needs_background": "light"
     },
     "output_type": "display_data"
    },
    {
     "data": {
      "image/png": "[encoded data removed]",
      "text/plain": [
       "<Figure size 720x288 with 1 Axes>"
      ]
     },
     "metadata": {
      "needs_background": "light"
     },
     "output_type": "display_data"
    },
    {
     "data": {
      "image/png": "[encoded data removed]",
      "text/plain": [
       "<Figure size 144x288 with 1 Axes>"
      ]
     },
     "metadata": {
      "needs_background": "light"
     },
     "output_type": "display_data"
    },
    {
     "data": {
      "image/png": "[encoded data removed]",
      "text/plain": [
       "<Figure size 288x288 with 1 Axes>"
      ]
     },
     "metadata": {
      "needs_background": "light"
     },
     "output_type": "display_data"
    }
   ],
   "source": [
    "ach[\"date\"] = pd.to_datetime(ach[\"end\"].dt.date)\n",
    "for pt in ach[\"beiwe\"].unique():\n",
    "    ach_by_pt = ach[ach[\"beiwe\"] == pt]\n",
    "    duplicates = ach_by_pt[ach_by_pt.duplicated(subset=[\"date\"], keep=False)]\n",
    "    if len(duplicates) > 0:\n",
    "        fig, ax = plt.subplots(figsize=(len(duplicates)*1,4))\n",
    "        sns.stripplot(x=\"date\",y=\"ach\",hue=\"method\", data=duplicates, ax=ax)\n",
    "        ax.set_ylim([0,1])"
   ]
  },
  {
   "cell_type": "markdown",
   "metadata": {},
   "source": [
    "# Analysis\n",
    "The cells below are an attempt to analysis the pollution profiles in relation to the ventilation."
   ]
  },
  {
   "cell_type": "markdown",
   "metadata": {},
   "source": [
    "## Pollutant Mean During Ventilation Estimation Period\n",
    "Can't get more specific than that."
   ]
  },
  {
   "cell_type": "markdown",
   "metadata": {},
   "source": [
    "### Building the DataFrame"
   ]
  },
  {
   "cell_type": "code",
   "execution_count": 14,
   "metadata": {},
   "outputs": [],
   "source": [
    "def get_pollutant_profile(ach_estimate, beacon_data, aggregate=\"mean\", save=False, save_dir=\"../data\"):\n",
    "    \"\"\"\"\"\"\n",
    "    # pre-allocating dictionary\n",
    "    data = {\"beiwe\":[],\"start\":[],\"end\":[],\"n\":[],\"ach\":[],\"tvoc\":[],\"lux\":[],\"no2\":[],\"co\":[],\"co2\":[],\"pm2p5_mass\":[],\"temperature_c\":[],\"rh\":[]}\n",
    "    # looping through participants\n",
    "    for pt in ach_estimate[\"beiwe\"].unique():\n",
    "        # data by participant\n",
    "        ach_by_pt = ach_estimate[ach_estimate[\"beiwe\"] == pt]\n",
    "        beacon_by_pt = beacon_data[beacon_data[\"beiwe\"] == pt]\n",
    "        # looping through ventilation estimation periods\n",
    "        for s, e, ach in zip(ach_by_pt[\"start\"], ach_by_pt[\"end\"], ach_by_pt[\"ach\"]):\n",
    "            # beacon data by period\n",
    "            beacon_by_period = beacon_by_pt[pd.to_datetime(s):pd.to_datetime(e)]\n",
    "            # adding informational data to dictionary\n",
    "            data[\"start\"].append(s)\n",
    "            data[\"end\"].append(e)\n",
    "            data[\"beiwe\"].append(pt)\n",
    "            data[\"n\"].append(len(beacon_by_period))\n",
    "            # adding ventilation (ach) and beacon aggregates \n",
    "            data[\"ach\"].append(ach)\n",
    "            for key in data.keys():\n",
    "                if key not in [\"beiwe\",\"ach\",\"n\",\"start\",\"end\"]:\n",
    "                    if aggregate==\"median\":\n",
    "                        data[key].append(np.nanmedian(beacon_by_period[key]))\n",
    "                    else: #median\n",
    "                        data[key].append(np.nanmean(beacon_by_period[key]))\n",
    "        \n",
    "    df = pd.DataFrame(data=data) # dataframe of ach and summarized pollutant profiles\n",
    "    if save:\n",
    "        df.to_csv(f\"{save_dir}/processed/beacon-ventilation_and_{aggregate}_iaq.csv\",index=False)\n",
    "        \n",
    "    return df"
   ]
  },
  {
   "cell_type": "markdown",
   "metadata": {},
   "source": [
    "<div class=\"alert alert-block alert-warning\">\n",
    "    \n",
    "As a reminder, the decay ventilation rates are calculated using data from periods _after_ the participant has woken up. So rather than pull pollution data from the Fitbit and GPS beacon dataframe, we should use the `beacon_all` dataframe. This dataframe will still be fine for the constant period since `beacon_all` encompasses `beacon_nightly`. \n",
    "    \n",
    "</div>"
   ]
  },
  {
   "cell_type": "code",
   "execution_count": 15,
   "metadata": {},
   "outputs": [],
   "source": [
    "pollution_and_ach = get_pollutant_profile(ach,beacon_all,save=True)"
   ]
  },
  {
   "cell_type": "markdown",
   "metadata": {},
   "source": [
    "### Visualizing"
   ]
  },
  {
   "cell_type": "code",
   "execution_count": 10,
   "metadata": {},
   "outputs": [
    {
     "data": {
      "image/png": "[encoded data removed]",
      "text/plain": [
       "<Figure size 1728x288 with 6 Axes>"
      ]
     },
     "metadata": {
      "needs_background": "light"
     },
     "output_type": "display_data"
    }
   ],
   "source": [
    "fig, axes = plt.subplots(1,6,figsize=(24,4))\n",
    "for pollutant, ax in zip([\"tvoc\",\"no2\",\"co\",\"co2\",\"pm2p5_mass\",\"temperature_c\"],axes.flat):\n",
    "    ax.scatter(pollution_and_ach[\"ach\"],pollution_and_ach[pollutant])\n",
    "    for loc in [\"right\",\"top\"]:\n",
    "        ax.spines[loc].set_visible(False)\n",
    "    ax.set_title(pollutant.upper().replace(\"_\",\" \"),pad=0)\n",
    "    \n",
    "plt.show()\n",
    "plt.close()"
   ]
  },
  {
   "cell_type": "markdown",
   "metadata": {},
   "source": [
    "<div class=\"alert alert-block alert-success\">\n",
    "    \n",
    "There appears to be a relationship between pollutants like `tvoc`, `co`, and `co2` and the ventilation rate. There could be something more if we eliminate some low concentration nights because there are points concentration in the lower left for most of the pollutants.\n",
    "    \n",
    "</div>"
   ]
  },
  {
   "cell_type": "markdown",
   "metadata": {},
   "source": [
    "## Processing\n",
    "Based on the visualizations above, there are some processing steps that we might implement to improve the relationship:\n",
    "1. **Remove Bad Values**: There are a bad values like zeros or negatives that can be removed from the dataset \n",
    "2. **Clustering**: Perhaps we can split the episodes into various clusters based on the combination of ach and concetration"
   ]
  },
  {
   "cell_type": "code",
   "execution_count": 16,
   "metadata": {},
   "outputs": [
    {
     "data": {
      "text/html": [
       "<div>\n",
       "<style scoped>\n",
       "    .dataframe tbody tr th:only-of-type {\n",
       "        vertical-align: middle;\n",
       "    }\n",
       "\n",
       "    .dataframe tbody tr th {\n",
       "        vertical-align: top;\n",
       "    }\n",
       "\n",
       "    .dataframe thead th {\n",
       "        text-align: right;\n",
       "    }\n",
       "</style>\n",
       "<table border=\"1\" class=\"dataframe\">\n",
       "  <thead>\n",
       "    <tr style=\"text-align: right;\">\n",
       "      <th></th>\n",
       "      <th>beiwe</th>\n",
       "      <th>start</th>\n",
       "      <th>end</th>\n",
       "      <th>n</th>\n",
       "      <th>ach</th>\n",
       "      <th>tvoc</th>\n",
       "      <th>lux</th>\n",
       "      <th>no2</th>\n",
       "      <th>co</th>\n",
       "      <th>co2</th>\n",
       "      <th>pm2p5_mass</th>\n",
       "      <th>temperature_c</th>\n",
       "      <th>rh</th>\n",
       "    </tr>\n",
       "  </thead>\n",
       "  <tbody>\n",
       "    <tr>\n",
       "      <th>0</th>\n",
       "      <td>lkkjddam</td>\n",
       "      <td>2020-08-12 13:16:00</td>\n",
       "      <td>2020-08-12 13:38:00</td>\n",
       "      <td>12</td>\n",
       "      <td>0.151</td>\n",
       "      <td>579.975000</td>\n",
       "      <td>2.398360</td>\n",
       "      <td>NaN</td>\n",
       "      <td>6.020350</td>\n",
       "      <td>1418.692060</td>\n",
       "      <td>1.828164</td>\n",
       "      <td>25.000000</td>\n",
       "      <td>34.845833</td>\n",
       "    </tr>\n",
       "    <tr>\n",
       "      <th>1</th>\n",
       "      <td>lkkjddam</td>\n",
       "      <td>2020-08-16 13:36:00</td>\n",
       "      <td>2020-08-16 14:08:00</td>\n",
       "      <td>17</td>\n",
       "      <td>0.143</td>\n",
       "      <td>260.564706</td>\n",
       "      <td>2.028000</td>\n",
       "      <td>NaN</td>\n",
       "      <td>10.542635</td>\n",
       "      <td>1208.009206</td>\n",
       "      <td>0.948970</td>\n",
       "      <td>23.870588</td>\n",
       "      <td>35.297059</td>\n",
       "    </tr>\n",
       "    <tr>\n",
       "      <th>2</th>\n",
       "      <td>lkkjddam</td>\n",
       "      <td>2020-08-18 12:48:00</td>\n",
       "      <td>2020-08-18 13:22:00</td>\n",
       "      <td>18</td>\n",
       "      <td>0.202</td>\n",
       "      <td>748.261111</td>\n",
       "      <td>2.017333</td>\n",
       "      <td>NaN</td>\n",
       "      <td>5.279867</td>\n",
       "      <td>1570.245386</td>\n",
       "      <td>1.450185</td>\n",
       "      <td>26.075000</td>\n",
       "      <td>36.500000</td>\n",
       "    </tr>\n",
       "    <tr>\n",
       "      <th>3</th>\n",
       "      <td>lkkjddam</td>\n",
       "      <td>2020-08-20 12:26:00</td>\n",
       "      <td>2020-08-20 12:52:00</td>\n",
       "      <td>14</td>\n",
       "      <td>0.078</td>\n",
       "      <td>1247.014286</td>\n",
       "      <td>5.423486</td>\n",
       "      <td>NaN</td>\n",
       "      <td>7.360236</td>\n",
       "      <td>1844.834520</td>\n",
       "      <td>1.165038</td>\n",
       "      <td>25.000000</td>\n",
       "      <td>33.446429</td>\n",
       "    </tr>\n",
       "    <tr>\n",
       "      <th>4</th>\n",
       "      <td>lkkjddam</td>\n",
       "      <td>2020-08-20 14:14:00</td>\n",
       "      <td>2020-08-20 14:44:00</td>\n",
       "      <td>16</td>\n",
       "      <td>0.062</td>\n",
       "      <td>735.318750</td>\n",
       "      <td>2.774400</td>\n",
       "      <td>NaN</td>\n",
       "      <td>7.437844</td>\n",
       "      <td>1645.914722</td>\n",
       "      <td>1.186790</td>\n",
       "      <td>25.000000</td>\n",
       "      <td>33.168750</td>\n",
       "    </tr>\n",
       "  </tbody>\n",
       "</table>\n",
       "</div>"
      ],
      "text/plain": [
       "      beiwe               start                 end   n    ach         tvoc  \\\n",
       "0  lkkjddam 2020-08-12 13:16:00 2020-08-12 13:38:00  12  0.151   579.975000   \n",
       "1  lkkjddam 2020-08-16 13:36:00 2020-08-16 14:08:00  17  0.143   260.564706   \n",
       "2  lkkjddam 2020-08-18 12:48:00 2020-08-18 13:22:00  18  0.202   748.261111   \n",
       "3  lkkjddam 2020-08-20 12:26:00 2020-08-20 12:52:00  14  0.078  1247.014286   \n",
       "4  lkkjddam 2020-08-20 14:14:00 2020-08-20 14:44:00  16  0.062   735.318750   \n",
       "\n",
       "        lux  no2         co          co2  pm2p5_mass  temperature_c         rh  \n",
       "0  2.398360  NaN   6.020350  1418.692060    1.828164      25.000000  34.845833  \n",
       "1  2.028000  NaN  10.542635  1208.009206    0.948970      23.870588  35.297059  \n",
       "2  2.017333  NaN   5.279867  1570.245386    1.450185      26.075000  36.500000  \n",
       "3  5.423486  NaN   7.360236  1844.834520    1.165038      25.000000  33.446429  \n",
       "4  2.774400  NaN   7.437844  1645.914722    1.186790      25.000000  33.168750  "
      ]
     },
     "execution_count": 16,
     "metadata": {},
     "output_type": "execute_result"
    }
   ],
   "source": [
    "pollution_and_ach.head()"
   ]
  },
  {
   "cell_type": "code",
   "execution_count": null,
   "metadata": {},
   "outputs": [],
   "source": []
  }
 ],
 "metadata": {
  "kernelspec": {
   "display_name": "Python 3",
   "language": "python",
   "name": "python3"
  },
  "language_info": {
   "codemirror_mode": {
    "name": "ipython",
    "version": 3
   },
   "file_extension": ".py",
   "mimetype": "text/x-python",
   "name": "python",
   "nbconvert_exporter": "python",
   "pygments_lexer": "ipython3",
   "version": "3.7.0"
  },
  "toc": {
   "base_numbering": 1,
   "nav_menu": {},
   "number_sections": false,
   "sideBar": false,
   "skip_h1_title": false,
   "title_cell": "Table of Contents",
   "title_sidebar": "Contents",
   "toc_cell": false,
   "toc_position": {},
   "toc_section_display": false,
   "toc_window_display": false
  }
 },
 "nbformat": 4,
 "nbformat_minor": 4
}
