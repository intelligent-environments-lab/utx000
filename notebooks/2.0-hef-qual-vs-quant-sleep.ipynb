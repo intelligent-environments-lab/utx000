{
 "cells": [
  {
   "cell_type": "markdown",
   "metadata": {},
   "source": [
    "# Qualitative vs Quantitative Sleep\n",
    "This notebook looks exclusively at sleep quality as reported by the participants versus what Fitbit was able to measure.\n",
    "\n",
    "The notebook is organized as follows:\n",
    "1. [Data Import and Pre-Processing](#import)\n",
    "2. [Processing](#process)\n",
    "3. [Visualization and Analysis](#visualize)"
   ]
  },
  {
   "cell_type": "markdown",
   "metadata": {},
   "source": [
    "# Data Import"
   ]
  },
  {
   "cell_type": "code",
   "execution_count": 1,
   "metadata": {},
   "outputs": [],
   "source": [
    "import pandas as pd\n",
    "import numpy as np\n",
    "from datetime import datetime\n",
    "import os"
   ]
  },
  {
   "cell_type": "markdown",
   "metadata": {},
   "source": [
    "## Fitbit Data\n",
    "Luckily, the fitbit data as already been processed and stored in ```/data/processed/```."
   ]
  },
  {
   "cell_type": "code",
   "execution_count": 2,
   "metadata": {},
   "outputs": [
    {
     "data": {
      "text/html": [
       "<div>\n",
       "<style scoped>\n",
       "    .dataframe tbody tr th:only-of-type {\n",
       "        vertical-align: middle;\n",
       "    }\n",
       "\n",
       "    .dataframe tbody tr th {\n",
       "        vertical-align: top;\n",
       "    }\n",
       "\n",
       "    .dataframe thead th {\n",
       "        text-align: right;\n",
       "    }\n",
       "</style>\n",
       "<table border=\"1\" class=\"dataframe\">\n",
       "  <thead>\n",
       "    <tr style=\"text-align: right;\">\n",
       "      <th></th>\n",
       "      <th>Id</th>\n",
       "      <th>TotalSleepRecords</th>\n",
       "      <th>TotalMinutesAsleep</th>\n",
       "      <th>TotalTimeInBed</th>\n",
       "      <th>TotalTimeAwake</th>\n",
       "      <th>TotalMinutesLight</th>\n",
       "      <th>TotalMinutesDeep</th>\n",
       "      <th>TotalMinutesREM</th>\n",
       "      <th>study</th>\n",
       "      <th>record</th>\n",
       "      <th>beiwe</th>\n",
       "      <th>beacon</th>\n",
       "      <th>TotalMinutesNREM</th>\n",
       "      <th>REM:NREM</th>\n",
       "      <th>TotalHoursAsleep</th>\n",
       "      <th>TotalHoursREM</th>\n",
       "      <th>TotalHoursNREM</th>\n",
       "    </tr>\n",
       "    <tr>\n",
       "      <th>SleepDay</th>\n",
       "      <th></th>\n",
       "      <th></th>\n",
       "      <th></th>\n",
       "      <th></th>\n",
       "      <th></th>\n",
       "      <th></th>\n",
       "      <th></th>\n",
       "      <th></th>\n",
       "      <th></th>\n",
       "      <th></th>\n",
       "      <th></th>\n",
       "      <th></th>\n",
       "      <th></th>\n",
       "      <th></th>\n",
       "      <th></th>\n",
       "      <th></th>\n",
       "      <th></th>\n",
       "    </tr>\n",
       "  </thead>\n",
       "  <tbody>\n",
       "    <tr>\n",
       "      <th>2018-10-30</th>\n",
       "      <td>1025</td>\n",
       "      <td>1</td>\n",
       "      <td>293</td>\n",
       "      <td>346</td>\n",
       "      <td>53</td>\n",
       "      <td>203</td>\n",
       "      <td>45</td>\n",
       "      <td>45</td>\n",
       "      <td>ut1000</td>\n",
       "      <td>1025</td>\n",
       "      <td>2qki3fim</td>\n",
       "      <td>NaN</td>\n",
       "      <td>248</td>\n",
       "      <td>0.181452</td>\n",
       "      <td>4.883333</td>\n",
       "      <td>0.750000</td>\n",
       "      <td>4.133333</td>\n",
       "    </tr>\n",
       "    <tr>\n",
       "      <th>2018-10-31</th>\n",
       "      <td>1025</td>\n",
       "      <td>1</td>\n",
       "      <td>523</td>\n",
       "      <td>575</td>\n",
       "      <td>52</td>\n",
       "      <td>308</td>\n",
       "      <td>113</td>\n",
       "      <td>102</td>\n",
       "      <td>ut1000</td>\n",
       "      <td>1025</td>\n",
       "      <td>2qki3fim</td>\n",
       "      <td>NaN</td>\n",
       "      <td>421</td>\n",
       "      <td>0.242280</td>\n",
       "      <td>8.716667</td>\n",
       "      <td>1.700000</td>\n",
       "      <td>7.016667</td>\n",
       "    </tr>\n",
       "    <tr>\n",
       "      <th>2018-11-01</th>\n",
       "      <td>1025</td>\n",
       "      <td>1</td>\n",
       "      <td>288</td>\n",
       "      <td>326</td>\n",
       "      <td>38</td>\n",
       "      <td>169</td>\n",
       "      <td>47</td>\n",
       "      <td>72</td>\n",
       "      <td>ut1000</td>\n",
       "      <td>1025</td>\n",
       "      <td>2qki3fim</td>\n",
       "      <td>NaN</td>\n",
       "      <td>216</td>\n",
       "      <td>0.333333</td>\n",
       "      <td>4.800000</td>\n",
       "      <td>1.200000</td>\n",
       "      <td>3.600000</td>\n",
       "    </tr>\n",
       "    <tr>\n",
       "      <th>2018-11-02</th>\n",
       "      <td>1025</td>\n",
       "      <td>1</td>\n",
       "      <td>529</td>\n",
       "      <td>592</td>\n",
       "      <td>63</td>\n",
       "      <td>316</td>\n",
       "      <td>99</td>\n",
       "      <td>114</td>\n",
       "      <td>ut1000</td>\n",
       "      <td>1025</td>\n",
       "      <td>2qki3fim</td>\n",
       "      <td>NaN</td>\n",
       "      <td>415</td>\n",
       "      <td>0.274699</td>\n",
       "      <td>8.816667</td>\n",
       "      <td>1.900000</td>\n",
       "      <td>6.916667</td>\n",
       "    </tr>\n",
       "    <tr>\n",
       "      <th>2018-11-03</th>\n",
       "      <td>1025</td>\n",
       "      <td>1</td>\n",
       "      <td>415</td>\n",
       "      <td>480</td>\n",
       "      <td>65</td>\n",
       "      <td>237</td>\n",
       "      <td>96</td>\n",
       "      <td>82</td>\n",
       "      <td>ut1000</td>\n",
       "      <td>1025</td>\n",
       "      <td>2qki3fim</td>\n",
       "      <td>NaN</td>\n",
       "      <td>333</td>\n",
       "      <td>0.246246</td>\n",
       "      <td>6.916667</td>\n",
       "      <td>1.366667</td>\n",
       "      <td>5.550000</td>\n",
       "    </tr>\n",
       "  </tbody>\n",
       "</table>\n",
       "</div>"
      ],
      "text/plain": [
       "              Id  TotalSleepRecords  TotalMinutesAsleep  TotalTimeInBed  \\\n",
       "SleepDay                                                                  \n",
       "2018-10-30  1025                  1                 293             346   \n",
       "2018-10-31  1025                  1                 523             575   \n",
       "2018-11-01  1025                  1                 288             326   \n",
       "2018-11-02  1025                  1                 529             592   \n",
       "2018-11-03  1025                  1                 415             480   \n",
       "\n",
       "            TotalTimeAwake  TotalMinutesLight  TotalMinutesDeep  \\\n",
       "SleepDay                                                          \n",
       "2018-10-30              53                203                45   \n",
       "2018-10-31              52                308               113   \n",
       "2018-11-01              38                169                47   \n",
       "2018-11-02              63                316                99   \n",
       "2018-11-03              65                237                96   \n",
       "\n",
       "            TotalMinutesREM   study  record     beiwe  beacon  \\\n",
       "SleepDay                                                        \n",
       "2018-10-30               45  ut1000    1025  2qki3fim     NaN   \n",
       "2018-10-31              102  ut1000    1025  2qki3fim     NaN   \n",
       "2018-11-01               72  ut1000    1025  2qki3fim     NaN   \n",
       "2018-11-02              114  ut1000    1025  2qki3fim     NaN   \n",
       "2018-11-03               82  ut1000    1025  2qki3fim     NaN   \n",
       "\n",
       "            TotalMinutesNREM  REM:NREM  TotalHoursAsleep  TotalHoursREM  \\\n",
       "SleepDay                                                                  \n",
       "2018-10-30               248  0.181452          4.883333       0.750000   \n",
       "2018-10-31               421  0.242280          8.716667       1.700000   \n",
       "2018-11-01               216  0.333333          4.800000       1.200000   \n",
       "2018-11-02               415  0.274699          8.816667       1.900000   \n",
       "2018-11-03               333  0.246246          6.916667       1.366667   \n",
       "\n",
       "            TotalHoursNREM  \n",
       "SleepDay                    \n",
       "2018-10-30        4.133333  \n",
       "2018-10-31        7.016667  \n",
       "2018-11-01        3.600000  \n",
       "2018-11-02        6.916667  \n",
       "2018-11-03        5.550000  "
      ]
     },
     "execution_count": 2,
     "metadata": {},
     "output_type": "execute_result"
    }
   ],
   "source": [
    "sleepSummary = pd.read_csv('/Users/hagenfritz/Projects/utx000/data/processed/ut3000-fitbit-sleepstagesummary.csv',\n",
    "                          index_col=0,parse_dates=True,infer_datetime_format=True)\n",
    "\n",
    "sleepSummary['TotalHoursAsleep'] = sleepSummary['TotalMinutesAsleep']/60\n",
    "sleepSummary['TotalHoursREM'] = sleepSummary['TotalMinutesREM']/60\n",
    "sleepSummary['TotalHoursNREM'] = sleepSummary['TotalMinutesNREM']/60\n",
    "\n",
    "sleepSummary.head()"
   ]
  },
  {
   "cell_type": "markdown",
   "metadata": {},
   "source": [
    "## Beiwe Data\n",
    "The beiwe data have been processed to different extents depending on the study. Peter Wu has summarized the sleep data nicely for the UT2000 study."
   ]
  },
  {
   "cell_type": "code",
   "execution_count": 3,
   "metadata": {},
   "outputs": [],
   "source": [
    "def combine_beiwe_studies(fileString='sleep'):\n",
    "    '''\n",
    "    \n",
    "    '''\n",
    "    df = pd.DataFrame()\n",
    "    for i in range(2):\n",
    "        temp = pd.read_csv(f'/Users/hagenfritz/Projects/utx000/data/raw/ut{i+1}000/beiwe/{fileString}.csv')\n",
    "        temp['study'] = f'ut{i+1}000'\n",
    "\n",
    "        crossover = pd.read_csv(f'/Users/hagenfritz/Projects/utx000/data/raw/ut{i+1}000/admin/id_crossover.csv')\n",
    "        temp = pd.merge(left=temp,right=crossover,left_on='pid',right_on='beiwe',how='left')\n",
    "        df = pd.concat([df,temp])\n",
    "        \n",
    "    df['date'] = pd.to_datetime(df['date'])\n",
    "    df.set_index('date',inplace=True)\n",
    "    df.drop('Unnamed: 0',axis=1,inplace=True)\n",
    "    if fileString == 'sleep':\n",
    "        df['hours'] = df['answer']\n",
    "        df.drop('answer',axis=1,inplace=True)\n",
    "    elif fileString == 'refreshed':\n",
    "        df['refreshed'] = df['answer']\n",
    "        df.drop('answer',axis=1,inplace=True)\n",
    "    elif fileString == 'restful':\n",
    "        df['restful'] = df['answer']\n",
    "        df.drop('answer',axis=1,inplace=True)\n",
    "    else:\n",
    "        pass\n",
    "        \n",
    "    return df"
   ]
  },
  {
   "cell_type": "markdown",
   "metadata": {},
   "source": [
    "Getting Beiwe dataframes. Unfortunately they are not the same length so we cannot combined them into a single dataframe. "
   ]
  },
  {
   "cell_type": "code",
   "execution_count": 4,
   "metadata": {},
   "outputs": [],
   "source": [
    "sleep = combine_beiwe_studies()\n",
    "refreshed = combine_beiwe_studies('refreshed')\n",
    "restful = combine_beiwe_studies('restful')"
   ]
  },
  {
   "cell_type": "markdown",
   "metadata": {},
   "source": [
    "# Processing \n",
    "Processing involves combining the dataframes."
   ]
  },
  {
   "cell_type": "code",
   "execution_count": 5,
   "metadata": {},
   "outputs": [],
   "source": [
    "def merge_fitbit_with_beiwe(fb_df, bw_df, bw_col):\n",
    "    '''\n",
    "    \n",
    "    '''\n",
    "    df = pd.DataFrame()\n",
    "    for bid in fb_df['beiwe'].unique():\n",
    "        fb_by_id = fb_df[fb_df['beiwe'] == bid]\n",
    "        bw_by_id = bw_df[bw_df['beiwe'] == bid]\n",
    "        temp = pd.merge(left=fb_by_id,left_index=True,right=bw_by_id[bw_col],right_index=True,how='inner')\n",
    "        df = pd.concat([df,temp])\n",
    "        \n",
    "    return df"
   ]
  },
  {
   "cell_type": "code",
   "execution_count": 6,
   "metadata": {},
   "outputs": [],
   "source": [
    "sleepTime = merge_fitbit_with_beiwe(sleepSummary, sleep, 'hours')\n",
    "sleepTime = sleepTime[sleepTime['hours'] >= 3]\n",
    "sleepTime = sleepTime[sleepTime['TotalHoursAsleep'] >= 3]\n",
    "sleepRefreshed = merge_fitbit_with_beiwe(sleepSummary, refreshed, 'refreshed')\n",
    "sleepRestful = merge_fitbit_with_beiwe(sleepSummary, restful, 'restful')"
   ]
  },
  {
   "cell_type": "markdown",
   "metadata": {},
   "source": [
    "<a id='visualize'></a>\n",
    "# Visualization and Analysis"
   ]
  },
  {
   "cell_type": "code",
   "execution_count": 7,
   "metadata": {},
   "outputs": [],
   "source": [
    "import matplotlib.pyplot as plt\n",
    "import matplotlib.dates as mdates\n",
    "import seaborn as sns\n",
    "\n",
    "from scipy import stats\n",
    "import statsmodels.api as sm"
   ]
  },
  {
   "cell_type": "markdown",
   "metadata": {},
   "source": [
    "## Sleep Time\n",
    "Here we use a scatter plot to see how well participants are able to estimate their total sleep time. "
   ]
  },
  {
   "cell_type": "markdown",
   "metadata": {},
   "source": [
    "Averaging values for each participant so we don't have a mixed-effect model"
   ]
  },
  {
   "cell_type": "code",
   "execution_count": 19,
   "metadata": {},
   "outputs": [
    {
     "data": {
      "image/png": "[encoded data removed]",
      "text/plain": [
       "<Figure size 1008x504 with 2 Axes>"
      ]
     },
     "metadata": {
      "needs_background": "light"
     },
     "output_type": "display_data"
    }
   ],
   "source": [
    "fig, axes = plt.subplots(1,2,figsize=(14,7))\n",
    "ax = axes[0]\n",
    "# ------------------------------------------\n",
    "# No mixed effect\n",
    "dfToUse = sleepTime.groupby('record').mean()\n",
    "# Mixed effect\n",
    "#dfToUse = sleepTime\n",
    "# ------------------------------------------\n",
    "sns.scatterplot(x='TotalHoursAsleep',y='hours',color='black',alpha=0.5,s=150,data=dfToUse,ax=ax)\n",
    "# y=x\n",
    "ax.plot([0,11],[0,11],linestyle='dashed',alpha=0.8,color='black')\n",
    "# x-axis\n",
    "ax.set_xlim([3,10])\n",
    "ax.set_xticks(np.arange(3,11))\n",
    "ax.set_xlabel('Fitbit-Measured Sleep Time (hours)')\n",
    "# y-axis\n",
    "ax.set_ylim([3,10])\n",
    "ax.set_yticks(np.arange(3,11))\n",
    "ax.set_ylabel('Self-Reported Sleep Time (hours)')\n",
    "\n",
    "X = dfToUse['TotalHoursAsleep'].values\n",
    "Y = dfToUse['hours'].values\n",
    "t = np.arange(len(X))\n",
    "X = sm.add_constant(X)\n",
    "model = sm.OLS(Y, X).fit()\n",
    "predictions = model.predict(X) # make the predictions by the model\n",
    "\n",
    "## Line of Best Fit\n",
    "ax.plot(X[:,1],predictions,color='red')\n",
    "\n",
    "## Formatting Remainder of Axis\n",
    "xlim = [3,10]\n",
    "ylim = [3,10]\n",
    "ax.set_xlim(xlim)\n",
    "ax.set_ylim(ylim)\n",
    "### Print out the statistics\n",
    "loc_x = max(xlim)-0.2*(max(xlim)-min(xlim))\n",
    "loc_y = min(ylim)+0.01*(max(ylim)-min(ylim))\n",
    "#ax.text(loc_x,loc_y+0.1*(max(ylim)-min(ylim)),'Intercept: ' + str(round(model.params[0],2)))\n",
    "ax.text(loc_x,loc_y+0.05*(max(ylim)-min(ylim)),'p-val: ' + str(round(model.f_pvalue,4)))\n",
    "ax.text(loc_x,loc_y,'r$^2$: ' + str(round(model.rsquared,4)))\n",
    "\n",
    "ax = axes[1]\n",
    "dfToUse['TotalHoursREM'] = dfToUse['TotalMinutesREM']/60\n",
    "sns.scatterplot(x='TotalHoursREM',y='hours',color='black',alpha=0.5,s=150,data=dfToUse,ax=ax)\n",
    "# x-axis\n",
    "ax.set_xlim([0,3])\n",
    "ax.set_xticks(np.arange(0,4))\n",
    "ax.set_xlabel('Fitbit-Measured REM Time (hours)')\n",
    "# y-axis\n",
    "ax.set_ylim([3,10])\n",
    "ax.set_yticks(np.arange(3,11))\n",
    "ax.set_ylabel('')\n",
    "\n",
    "X = dfToUse['TotalHoursREM'].values\n",
    "Y = dfToUse['hours'].values\n",
    "t = np.arange(len(X))\n",
    "X = sm.add_constant(X)\n",
    "model = sm.OLS(Y, X).fit()\n",
    "predictions = model.predict(X) # make the predictions by the model\n",
    "\n",
    "## Line of Best Fit\n",
    "ax.plot(X[:,1],predictions,color='red')\n",
    "\n",
    "## Formatting Remainder of Axis\n",
    "xlim = [0,3]\n",
    "ylim = [3,10]\n",
    "ax.set_xlim(xlim)\n",
    "ax.set_ylim(ylim)\n",
    "### Print out the statistics\n",
    "loc_x = max(xlim)-0.2*(max(xlim)-min(xlim))\n",
    "loc_y = min(ylim)+0.01*(max(ylim)-min(ylim))\n",
    "#ax.text(loc_x,loc_y+0.1*(max(ylim)-min(ylim)),'Intercept: ' + str(round(model.params[0],2)))\n",
    "ax.text(loc_x,loc_y+0.05*(max(ylim)-min(ylim)),'p-val: ' + str(round(model.f_pvalue,4)))\n",
    "ax.text(loc_x,loc_y,'r$^2$: ' + str(round(model.rsquared,4)))\n",
    "\n",
    "#\n",
    "plt.subplots_adjust(wspace=0.1)\n",
    "plt.savefig('/Users/hagenfritz/Projects/utx000/reports/figures/framework_paper/ut3000-fitbit-beiwe-tst-tst-scatter.png')\n",
    "\n",
    "plt.show()\n",
    "plt.close()"
   ]
  },
  {
   "cell_type": "markdown",
   "metadata": {},
   "source": [
    "## Restful Sleep\n",
    "There should be some relationship between REM sleep and how restful the participants felt their sleep was."
   ]
  },
  {
   "cell_type": "code",
   "execution_count": 12,
   "metadata": {},
   "outputs": [
    {
     "data": {
      "image/png": "[encoded data removed]",
      "text/plain": [
       "<Figure size 1008x504 with 2 Axes>"
      ]
     },
     "metadata": {
      "needs_background": "light"
     },
     "output_type": "display_data"
    }
   ],
   "source": [
    "fig, axes = plt.subplots(1,2,figsize=(14,7))\n",
    "ax = axes[0]\n",
    "# ------------------------------------------\n",
    "# No mixed effect\n",
    "dfToUse = sleepRestful.groupby('record').mean()\n",
    "# Mixed effect\n",
    "#dfToUse = sleepRestful\n",
    "# ------------------------------------------\n",
    "sns.scatterplot(x='TotalMinutesREM',y='restful',color='black',alpha=0.5,s=150,data=dfToUse,ax=ax)\n",
    "# x-axis\n",
    "xlim = [0,150]\n",
    "ax.set_xlim(xlim)\n",
    "ax.set_xlabel('Fitbit-Measured REM Sleep (mins)')\n",
    "# y-axis\n",
    "ylim = [0,3]\n",
    "ax.set_ylim(ylim)\n",
    "ax.set_ylabel('Self-Reported Restful Score')\n",
    "\n",
    "X = dfToUse['TotalMinutesREM'].values\n",
    "Y = dfToUse['restful'].values\n",
    "t = np.arange(len(X))\n",
    "X = sm.add_constant(X)\n",
    "model = sm.OLS(Y, X).fit()\n",
    "predictions = model.predict(X) # make the predictions by the model\n",
    "\n",
    "## Line of Best Fit\n",
    "ax.plot(X[:,1],predictions,color='red')\n",
    "\n",
    "top = 0\n",
    "bot = 0 np.mean(Y))**2\n",
    "rsqrd = top/bot\n",
    "\n",
    "### Print out the statistics\n",
    "loc_x = max(xlim)-0.2*(max(xlim)-min(xlim))\n",
    "loc_y = min(ylim)+0.01*(max(ylim)-min(ylim))\n",
    "#ax.text(loc_x,loc_y+0.1*(max(ylim)-min(ylim)),'Intercept: ' + str(round(model.params[0],2)))\n",
    "#ax.text(loc_x,loc_y+0.05*(max(ylim)-min(ylim)),'Slope: ' + str(round(model.params[1],2)))\n",
    "ax.text(loc_x,loc_y,'r$^2$: ' + str(round(model.rsquared,4)))\n",
    "\n",
    "ax = axes[1]\n",
    "sns.scatterplot(x='TotalMinutesNREM',y='restful',color='black',alpha=0.5,s=150,data=dfToUse,ax=ax)\n",
    "# x-axis\n",
    "xlim = [100,500]\n",
    "ax.set_xlim(xlim)\n",
    "ax.set_xlabel('Fitbit-Measured Non-REM Sleep (mins)')\n",
    "# y-axis\n",
    "ax.set_ylim(ylim)\n",
    "ax.set_ylabel('')\n",
    "\n",
    "X = dfToUse['TotalMinutesNREM'].values\n",
    "Y = dfToUse['restful'].values\n",
    "t = np.arange(len(X))\n",
    "X = sm.add_constant(X)\n",
    "model = sm.OLS(Y, X).fit()\n",
    "predictions = model.predict(X) # make the predictions by the model\n",
    "\n",
    "## Line of Best Fit\n",
    "ax.plot(X[:,1],predictions,color='red')\n",
    "\n",
    "### Print out the statistics\n",
    "loc_x = max(xlim)-0.2*(max(xlim)-min(xlim))\n",
    "loc_y = min(ylim)+0.01*(max(ylim)-min(ylim))\n",
    "#ax.text(loc_x,loc_y+0.1*(max(ylim)-min(ylim)),'Intercept: ' + str(round(model.params[0],2)))\n",
    "#ax.text(loc_x,loc_y+0.05*(max(ylim)-min(ylim)),'Slope: ' + str(round(model.params[1],2)))\n",
    "ax.text(loc_x,loc_y,'r$^2$: ' + str(round(model.rsquared,4)))\n",
    "\n",
    "#\n",
    "plt.subplots_adjust(wspace=0.1)\n",
    "plt.savefig('/Users/hagenfritz/Projects/utx000/reports/figures/framework_paper/ut3000-fitbit-beiwe-REMandNREM-restful-scatter.png')\n",
    "\n",
    "plt.show()\n",
    "plt.close()"
   ]
  },
  {
   "cell_type": "code",
   "execution_count": 10,
   "metadata": {},
   "outputs": [
    {
     "name": "stderr",
     "output_type": "stream",
     "text": [
      "/Users/hagenfritz/opt/anaconda3/lib/python3.7/site-packages/seaborn/distributions.py:437: UserWarning: The following kwargs were not used by contour: 'edgecolor'\n",
      "  cset = contour_func(xx, yy, z, n_levels, **kwargs)\n"
     ]
    },
    {
     "data": {
      "image/png": "[encoded data removed]",
      "text/plain": [
       "<Figure size 720x360 with 2 Axes>"
      ]
     },
     "metadata": {
      "needs_background": "light"
     },
     "output_type": "display_data"
    }
   ],
   "source": [
    "fig, axes = plt.subplots(1,2,figsize=(10,5),sharey=True)\n",
    "# ------------------------------------------\n",
    "# No mixed effect\n",
    "dfToUse = sleepRestful.groupby('record').mean()\n",
    "# Mixed effect\n",
    "#dfToUse = sleepRestful\n",
    "# ------------------------------------------\n",
    "#REM\n",
    "ax = axes[0]\n",
    "\n",
    "#sns.kdeplot(sleepRestful['TotalMinutesREM'],sleepRestful['restful'],color='black',edgecolor='black',cut=0,shade=True,ax=ax)\n",
    "# x-axis\n",
    "ax.set_xlabel('Fitbit Measured REM Sleep (mins)')\n",
    "# y-axis\n",
    "ax.set_yticks(np.arange(4))\n",
    "ax.set_ylabel('Self-Report Restful Score')\n",
    "#NREM\n",
    "ax = axes[1]\n",
    "sns.kdeplot(sleepRestful['TotalMinutesNREM'],sleepRestful['restful'],color='black',edgecolor='black',cut=0,shade=True,ax=ax)\n",
    "# x-axis\n",
    "ax.set_xlabel('Fitbit Measured REM Sleep (mins)')\n",
    "# y-axis\n",
    "ax.set_yticks(np.arange(4))\n",
    "ax.set_ylabel('')\n",
    "# \n",
    "plt.subplots_adjust(wspace=0)\n",
    "plt.savefig('/Users/hagenfritz/Projects/utx000/reports/figures/framework_paper/ut3000-fitbit-beiwe-REMandNREM-restful-density.png')\n",
    "plt.show()\n",
    "plt.close()"
   ]
  },
  {
   "cell_type": "markdown",
   "metadata": {},
   "source": [
    "## Restful and Refreshed\n",
    "They seem so similar - surely they are related."
   ]
  },
  {
   "cell_type": "code",
   "execution_count": 11,
   "metadata": {},
   "outputs": [
    {
     "data": {
      "image/png": "[encoded data removed]",
      "text/plain": [
       "<Figure size 576x576 with 1 Axes>"
      ]
     },
     "metadata": {
      "needs_background": "light"
     },
     "output_type": "display_data"
    }
   ],
   "source": [
    "fig, ax = plt.subplots(figsize=(8,8))\n",
    "sns.kdeplot(sleepRestful['restful'],sleepRefreshed['refreshed'],color='black',cut=0,shade=True,ax=ax)\n",
    "# x-axis\n",
    "ax.set_xlim([0,3])\n",
    "ax.set_xticks(np.arange(4))\n",
    "ax.set_xlabel('Self-Reported Restful Score')\n",
    "# y-axis\n",
    "ax.set_ylim([0,3])\n",
    "ax.set_yticks(np.arange(4))\n",
    "ax.set_ylabel('Self-Reported Refreshed Score')\n",
    "# \n",
    "plt.savefig('/Users/hagenfritz/Projects/utx000/reports/figures/framework_paper/ut3000-beiwe-beiwe-restful-refreshed-density.png')\n",
    "plt.show()\n",
    "plt.close()"
   ]
  },
  {
   "cell_type": "markdown",
   "metadata": {},
   "source": [
    "Author: Hagen Fritz <br> \n",
    "Date Created: 06/11/2020"
   ]
  }
 ],
 "metadata": {
  "kernelspec": {
   "display_name": "Python 3",
   "language": "python",
   "name": "python3"
  },
  "language_info": {
   "codemirror_mode": {
    "name": "ipython",
    "version": 3
   },
   "file_extension": ".py",
   "mimetype": "text/x-python",
   "name": "python",
   "nbconvert_exporter": "python",
   "pygments_lexer": "ipython3",
   "version": "3.7.6"
  }
 },
 "nbformat": 4,
 "nbformat_minor": 4
}
