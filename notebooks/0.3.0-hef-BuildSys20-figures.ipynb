{
 "cells": [
  {
   "cell_type": "markdown",
   "metadata": {},
   "source": [
    "# BuildSys 2020 Figures\n",
    "The point of this notebook is to generate good quality figures for the BuildSys 2020 conference."
   ]
  },
  {
   "cell_type": "code",
   "execution_count": 1,
   "metadata": {},
   "outputs": [],
   "source": [
    "import warnings\n",
    "warnings.filterwarnings('ignore')"
   ]
  },
  {
   "cell_type": "markdown",
   "metadata": {},
   "source": [
    "# Package Import"
   ]
  },
  {
   "cell_type": "code",
   "execution_count": 2,
   "metadata": {},
   "outputs": [],
   "source": [
    "import os\n",
    "import sys\n",
    "sys.path.append('../')\n",
    "\n",
    "from src.features import build_features\n",
    "from src.visualization import visualize\n",
    "from src.reports import make_report\n",
    "\n",
    "import pandas as pd\n",
    "import numpy as np\n",
    "\n",
    "from datetime import datetime, timedelta\n",
    "\n",
    "import matplotlib.pyplot as plt\n",
    "import seaborn as sns\n",
    "import matplotlib\n",
    "import matplotlib.dates as mdates\n",
    "from matplotlib.colors import ListedColormap, LinearSegmentedColormap\n",
    "import matplotlib.animation as animation"
   ]
  },
  {
   "cell_type": "markdown",
   "metadata": {},
   "source": [
    "# Overview of Figures\n",
    "There are few figures we want to create for the poster. In general, we want to create four figures:\n",
    "1. Beacon\n",
    "2. Fitbit\n",
    "3. Beiwe\n",
    "4. Combination of the previous three\n",
    "\n",
    "Zoltan is also very adamant about animating our figures, so we need to look into that. He sent a [link](https://towardsdatascience.com/how-to-create-animated-graphs-in-python-bb619cc2dec1) that has some promising information. "
   ]
  },
  {
   "cell_type": "markdown",
   "metadata": {},
   "source": [
    "## Animation Test\n",
    "More information on animation can be found using these blog posts:\n",
    "- [Somewhat Helpful](https://towardsdatascience.com/how-to-create-animated-graphs-in-python-bb619cc2dec1)\n",
    "- [More Helpful](https://towardsdatascience.com/animations-with-matplotlib-d96375c5442c)\n",
    "\n",
    "And documentation on the main animate function is [here](https://matplotlib.org/3.3.2/api/_as_gen/matplotlib.animation.FuncAnimation.html)"
   ]
  },
  {
   "cell_type": "code",
   "execution_count": 3,
   "metadata": {},
   "outputs": [
    {
     "data": {
      "text/html": [
       "<div>\n",
       "<style scoped>\n",
       "    .dataframe tbody tr th:only-of-type {\n",
       "        vertical-align: middle;\n",
       "    }\n",
       "\n",
       "    .dataframe tbody tr th {\n",
       "        vertical-align: top;\n",
       "    }\n",
       "\n",
       "    .dataframe thead th {\n",
       "        text-align: right;\n",
       "    }\n",
       "</style>\n",
       "<table border=\"1\" class=\"dataframe\">\n",
       "  <thead>\n",
       "    <tr style=\"text-align: right;\">\n",
       "      <th></th>\n",
       "      <th>TVOC</th>\n",
       "      <th>eCO2</th>\n",
       "      <th>Lux</th>\n",
       "      <th>Visible</th>\n",
       "      <th>Infrared</th>\n",
       "      <th>NO2</th>\n",
       "      <th>T_NO2</th>\n",
       "      <th>RH_NO2</th>\n",
       "      <th>CO</th>\n",
       "      <th>T_CO</th>\n",
       "      <th>...</th>\n",
       "      <th>PM_N_10</th>\n",
       "      <th>PM_C_1</th>\n",
       "      <th>PM_C_2p5</th>\n",
       "      <th>PM_C_4</th>\n",
       "      <th>PM_C_10</th>\n",
       "      <th>z</th>\n",
       "      <th>Beacon</th>\n",
       "      <th>Beiwe</th>\n",
       "      <th>Fitbit</th>\n",
       "      <th>REDCap</th>\n",
       "    </tr>\n",
       "    <tr>\n",
       "      <th>Timestamp</th>\n",
       "      <th></th>\n",
       "      <th></th>\n",
       "      <th></th>\n",
       "      <th></th>\n",
       "      <th></th>\n",
       "      <th></th>\n",
       "      <th></th>\n",
       "      <th></th>\n",
       "      <th></th>\n",
       "      <th></th>\n",
       "      <th></th>\n",
       "      <th></th>\n",
       "      <th></th>\n",
       "      <th></th>\n",
       "      <th></th>\n",
       "      <th></th>\n",
       "      <th></th>\n",
       "      <th></th>\n",
       "      <th></th>\n",
       "      <th></th>\n",
       "      <th></th>\n",
       "    </tr>\n",
       "  </thead>\n",
       "  <tbody>\n",
       "    <tr>\n",
       "      <th>2020-06-11 00:00:00</th>\n",
       "      <td>NaN</td>\n",
       "      <td>NaN</td>\n",
       "      <td>NaN</td>\n",
       "      <td>NaN</td>\n",
       "      <td>NaN</td>\n",
       "      <td>NaN</td>\n",
       "      <td>NaN</td>\n",
       "      <td>NaN</td>\n",
       "      <td>NaN</td>\n",
       "      <td>NaN</td>\n",
       "      <td>...</td>\n",
       "      <td>NaN</td>\n",
       "      <td>NaN</td>\n",
       "      <td>NaN</td>\n",
       "      <td>NaN</td>\n",
       "      <td>NaN</td>\n",
       "      <td>NaN</td>\n",
       "      <td>30</td>\n",
       "      <td>idbkjh8u</td>\n",
       "      <td>22</td>\n",
       "      <td>4</td>\n",
       "    </tr>\n",
       "    <tr>\n",
       "      <th>2020-06-11 00:05:00</th>\n",
       "      <td>NaN</td>\n",
       "      <td>NaN</td>\n",
       "      <td>NaN</td>\n",
       "      <td>NaN</td>\n",
       "      <td>NaN</td>\n",
       "      <td>NaN</td>\n",
       "      <td>NaN</td>\n",
       "      <td>NaN</td>\n",
       "      <td>NaN</td>\n",
       "      <td>NaN</td>\n",
       "      <td>...</td>\n",
       "      <td>NaN</td>\n",
       "      <td>NaN</td>\n",
       "      <td>NaN</td>\n",
       "      <td>NaN</td>\n",
       "      <td>NaN</td>\n",
       "      <td>NaN</td>\n",
       "      <td>30</td>\n",
       "      <td>idbkjh8u</td>\n",
       "      <td>22</td>\n",
       "      <td>4</td>\n",
       "    </tr>\n",
       "    <tr>\n",
       "      <th>2020-06-11 00:10:00</th>\n",
       "      <td>NaN</td>\n",
       "      <td>NaN</td>\n",
       "      <td>NaN</td>\n",
       "      <td>NaN</td>\n",
       "      <td>NaN</td>\n",
       "      <td>NaN</td>\n",
       "      <td>NaN</td>\n",
       "      <td>NaN</td>\n",
       "      <td>NaN</td>\n",
       "      <td>NaN</td>\n",
       "      <td>...</td>\n",
       "      <td>NaN</td>\n",
       "      <td>NaN</td>\n",
       "      <td>NaN</td>\n",
       "      <td>NaN</td>\n",
       "      <td>NaN</td>\n",
       "      <td>NaN</td>\n",
       "      <td>30</td>\n",
       "      <td>idbkjh8u</td>\n",
       "      <td>22</td>\n",
       "      <td>4</td>\n",
       "    </tr>\n",
       "    <tr>\n",
       "      <th>2020-06-11 00:15:00</th>\n",
       "      <td>NaN</td>\n",
       "      <td>NaN</td>\n",
       "      <td>NaN</td>\n",
       "      <td>NaN</td>\n",
       "      <td>NaN</td>\n",
       "      <td>NaN</td>\n",
       "      <td>NaN</td>\n",
       "      <td>NaN</td>\n",
       "      <td>NaN</td>\n",
       "      <td>NaN</td>\n",
       "      <td>...</td>\n",
       "      <td>NaN</td>\n",
       "      <td>NaN</td>\n",
       "      <td>NaN</td>\n",
       "      <td>NaN</td>\n",
       "      <td>NaN</td>\n",
       "      <td>NaN</td>\n",
       "      <td>30</td>\n",
       "      <td>idbkjh8u</td>\n",
       "      <td>22</td>\n",
       "      <td>4</td>\n",
       "    </tr>\n",
       "    <tr>\n",
       "      <th>2020-06-11 00:20:00</th>\n",
       "      <td>NaN</td>\n",
       "      <td>NaN</td>\n",
       "      <td>NaN</td>\n",
       "      <td>NaN</td>\n",
       "      <td>NaN</td>\n",
       "      <td>NaN</td>\n",
       "      <td>NaN</td>\n",
       "      <td>NaN</td>\n",
       "      <td>NaN</td>\n",
       "      <td>NaN</td>\n",
       "      <td>...</td>\n",
       "      <td>NaN</td>\n",
       "      <td>NaN</td>\n",
       "      <td>NaN</td>\n",
       "      <td>NaN</td>\n",
       "      <td>NaN</td>\n",
       "      <td>NaN</td>\n",
       "      <td>30</td>\n",
       "      <td>idbkjh8u</td>\n",
       "      <td>22</td>\n",
       "      <td>4</td>\n",
       "    </tr>\n",
       "  </tbody>\n",
       "</table>\n",
       "<p>5 rows × 28 columns</p>\n",
       "</div>"
      ],
      "text/plain": [
       "                     TVOC  eCO2  Lux  Visible  Infrared  NO2  T_NO2  RH_NO2  \\\n",
       "Timestamp                                                                     \n",
       "2020-06-11 00:00:00   NaN   NaN  NaN      NaN       NaN  NaN    NaN     NaN   \n",
       "2020-06-11 00:05:00   NaN   NaN  NaN      NaN       NaN  NaN    NaN     NaN   \n",
       "2020-06-11 00:10:00   NaN   NaN  NaN      NaN       NaN  NaN    NaN     NaN   \n",
       "2020-06-11 00:15:00   NaN   NaN  NaN      NaN       NaN  NaN    NaN     NaN   \n",
       "2020-06-11 00:20:00   NaN   NaN  NaN      NaN       NaN  NaN    NaN     NaN   \n",
       "\n",
       "                     CO  T_CO  ...  PM_N_10  PM_C_1  PM_C_2p5  PM_C_4  \\\n",
       "Timestamp                      ...                                      \n",
       "2020-06-11 00:00:00 NaN   NaN  ...      NaN     NaN       NaN     NaN   \n",
       "2020-06-11 00:05:00 NaN   NaN  ...      NaN     NaN       NaN     NaN   \n",
       "2020-06-11 00:10:00 NaN   NaN  ...      NaN     NaN       NaN     NaN   \n",
       "2020-06-11 00:15:00 NaN   NaN  ...      NaN     NaN       NaN     NaN   \n",
       "2020-06-11 00:20:00 NaN   NaN  ...      NaN     NaN       NaN     NaN   \n",
       "\n",
       "                     PM_C_10   z  Beacon     Beiwe  Fitbit  REDCap  \n",
       "Timestamp                                                           \n",
       "2020-06-11 00:00:00      NaN NaN      30  idbkjh8u      22       4  \n",
       "2020-06-11 00:05:00      NaN NaN      30  idbkjh8u      22       4  \n",
       "2020-06-11 00:10:00      NaN NaN      30  idbkjh8u      22       4  \n",
       "2020-06-11 00:15:00      NaN NaN      30  idbkjh8u      22       4  \n",
       "2020-06-11 00:20:00      NaN NaN      30  idbkjh8u      22       4  \n",
       "\n",
       "[5 rows x 28 columns]"
      ]
     },
     "execution_count": 3,
     "metadata": {},
     "output_type": "execute_result"
    }
   ],
   "source": [
    "beacon_data = pd.read_csv('../data/processed/bpeace2-beacon.csv',index_col=0,parse_dates=True)\n",
    "# show it off:\n",
    "beacon_data.head()"
   ]
  },
  {
   "cell_type": "code",
   "execution_count": 4,
   "metadata": {},
   "outputs": [],
   "source": [
    "beacon_bb = beacon_data[beacon_data['Beacon'] == 19][datetime(2020,7,6):datetime(2020,7,14)]\n",
    "beacon_bb = beacon_bb.resample('60T').mean()\n",
    "beacon_bb_pollutants = beacon_bb[['CO2','PM_C_2p5','NO2','CO','TVOC','Lux','T_CO']]\n",
    "\n",
    "normalized_df = (beacon_bb_pollutants-beacon_bb_pollutants.min())/(beacon_bb_pollutants.max()-beacon_bb_pollutants.min())"
   ]
  },
  {
   "cell_type": "code",
   "execution_count": 5,
   "metadata": {},
   "outputs": [],
   "source": [
    "Writer = animation.writers['ffmpeg']\n",
    "writer = Writer(fps=20, metadata=dict(artist='Me'), bitrate=1800)"
   ]
  },
  {
   "cell_type": "code",
   "execution_count": 6,
   "metadata": {
    "scrolled": false
   },
   "outputs": [
    {
     "data": {
      "image/png": "[encoded data removed]",
      "text/plain": [
       "<Figure size 432x288 with 1 Axes>"
      ]
     },
     "metadata": {
      "needs_background": "light"
     },
     "output_type": "display_data"
    }
   ],
   "source": [
    "#%matplotlib notebook\n",
    "import numpy as np\n",
    "import seaborn as sns\n",
    "import matplotlib.pyplot as plt\n",
    "from matplotlib import animation\n",
    "\n",
    "fig = plt.figure()\n",
    "\n",
    "def init():\n",
    "    initial = normalized_df.T\n",
    "    initial = initial.replace(initial, 0)\n",
    "    sns.heatmap(initial, vmax=1, cbar=False)\n",
    "\n",
    "def animate(i):\n",
    "    data = normalized_df.T[normalized_df.T < i/10]\n",
    "    sns.heatmap(data, vmax=1, cbar=False)\n",
    "\n",
    "anim = animation.FuncAnimation(fig, animate, init_func=init, frames=10, repeat = False)\n",
    "anim.save('../test_heatmap.mp4', writer=writer)"
   ]
  },
  {
   "cell_type": "markdown",
   "metadata": {},
   "source": [
    "# Beacon "
   ]
  },
  {
   "cell_type": "markdown",
   "metadata": {},
   "source": [
    "<div class=\"alert alert-block alert-success\">\n",
    "    We are looking for a good summary of a week's worth of data. Looks:\n",
    "    <ul>\n",
    "        <li>week of July 6 is a good place to start</li>\n",
    "        <li>Beacon 19</li>\n",
    "    </ul>\n",
    "    </div>"
   ]
  },
  {
   "cell_type": "code",
   "execution_count": 7,
   "metadata": {},
   "outputs": [],
   "source": [
    "def create_cmap(colors,nodes):\n",
    "    cmap = LinearSegmentedColormap.from_list(\"mycmap\", list(zip(nodes, colors)))\n",
    "    return cmap"
   ]
  },
  {
   "cell_type": "markdown",
   "metadata": {},
   "source": [
    "## Static Plot"
   ]
  },
  {
   "cell_type": "code",
   "execution_count": 14,
   "metadata": {},
   "outputs": [
    {
     "data": {
      "image/png": "[encoded data removed]",
      "text/plain": [
       "<Figure size 864x576 with 14 Axes>"
      ]
     },
     "metadata": {
      "needs_background": "light"
     },
     "output_type": "display_data"
    }
   ],
   "source": [
    "# Creating the dataframe\n",
    "beacon_bb = beacon_data[beacon_data['Beacon'] == 19][datetime(2020,7,6):datetime(2020,7,14)]\n",
    "beacon_bb = beacon_bb.resample('60T').mean()\n",
    "beacon_bb_pollutants = beacon_bb[['CO2','PM_C_2p5','NO2','CO','TVOC','Lux','T_CO']]\n",
    "fig, axes = plt.subplots(7,1,figsize=(12,8),sharex=True)\n",
    "ylabels = ['CO$_2$',\n",
    "           'PM$_{2.5}$',\n",
    "           'NO$_2$',\n",
    "           'CO',\n",
    "           'TVOC',\n",
    "           'Light',\n",
    "           'T']\n",
    "cbar_ticks = [np.arange(400,1200,200),\n",
    "          np.arange(0,40,10),\n",
    "          np.arange(0,120,50),\n",
    "          np.arange(0,15,4),\n",
    "          np.arange(0,800,100),\n",
    "          np.arange(0,250,50),\n",
    "          np.arange(18,32,4)]\n",
    "cmaps = [create_cmap([\"green\", \"yellow\", \"orange\", \"red\",],[0.0, 0.33, 0.66, 1]),\n",
    "         create_cmap([\"green\", \"yellow\", \"orange\", \"red\"],[0.0, 0.2, 0.4, 1]),\n",
    "         create_cmap([\"green\", \"yellow\", \"orange\", \"red\"],[0.0, 0.33, 0.66, 1]),\n",
    "         create_cmap([\"green\", \"yellow\", \"orange\", \"red\"],[0.0, 0.375, 0.75, 1]),\n",
    "         create_cmap([\"green\", \"yellow\", \"orange\", \"red\"],[0.0, 0.1, 0.31, 1]),\n",
    "         create_cmap([\"black\",\"purple\",\"red\",\"orange\",\"yellow\",\"green\"],[0.0, 0.1, 0.16, 0.2, 0.64, 1]),\n",
    "         create_cmap([\"cyan\",\"blue\",\"green\",\"orange\",\"red\"],[0.0, 0.2, 0.4, 0.7, 1])]\n",
    "for ax, var, low, high, ylabel, ticks, cmap in zip(axes,beacon_bb_pollutants.columns,[400,0,0,0,0,0,18],[1000,30,100,12,700,200,30],ylabels,cbar_ticks,cmaps):\n",
    "    sns.heatmap(beacon_bb_pollutants[[var]].T,vmin=low,vmax=high,ax=ax,cbar_kws={'ticks':ticks},cmap=cmap)\n",
    "    ax.set_ylabel(ylabel)\n",
    "    ax.set_yticklabels([''])\n",
    "    ax.set_xlabel('')\n",
    "\n",
    "xlabels = ax.get_xticklabels()\n",
    "new_xlabels = []\n",
    "for label in xlabels:\n",
    "    new_xlabels.append(label.get_text()[11:16])\n",
    "\n",
    "ax.set_xticklabels(new_xlabels)\n",
    "\n",
    "plt.savefig('../reports/BuildSys2020/beacon_heatmap.pdf')\n",
    "plt.show()\n",
    "plt.close()"
   ]
  },
  {
   "cell_type": "markdown",
   "metadata": {},
   "source": [
    "## Animation"
   ]
  },
  {
   "cell_type": "code",
   "execution_count": 8,
   "metadata": {
    "scrolled": false
   },
   "outputs": [
    {
     "data": {
      "image/png": "[encoded data removed]",
      "text/plain": [
       "<Figure size 864x576 with 14 Axes>"
      ]
     },
     "metadata": {
      "needs_background": "light"
     },
     "output_type": "display_data"
    }
   ],
   "source": [
    "#%matplotlib notebook\n",
    "# Creating the dataframe\n",
    "beacon_bb = beacon_data[beacon_data['Beacon'] == 19][datetime(2020,7,6):datetime(2020,7,14)]\n",
    "beacon_bb = beacon_bb.resample('60T').mean()\n",
    "beacon_bb_pollutants = beacon_bb[['CO2','PM_C_2p5','NO2','CO','TVOC','Lux','T_CO']]\n",
    "# creating the figure\n",
    "fig, axes = plt.subplots(7,1,figsize=(12,8),sharex=True)\n",
    "ylabels = ['CO$_2$',\n",
    "               'PM$_{2.5}$',\n",
    "               'NO$_2$',\n",
    "               'CO',\n",
    "               'TVOC',\n",
    "               'Light',\n",
    "               'T']\n",
    "cbar_ticks = [np.arange(400,1200,200),\n",
    "              np.arange(0,40,10),\n",
    "              np.arange(0,120,50),\n",
    "              np.arange(0,15,4),\n",
    "              np.arange(0,800,100),\n",
    "              np.arange(0,250,50),\n",
    "              np.arange(18,32,4)]\n",
    "cmaps = [create_cmap([\"green\", \"yellow\", \"orange\", \"red\",],[0.0, 0.33, 0.66, 1]),\n",
    "         create_cmap([\"green\", \"yellow\", \"orange\", \"red\"],[0.0, 0.2, 0.4, 1]),\n",
    "         create_cmap([\"green\", \"yellow\", \"orange\", \"red\"],[0.0, 0.33, 0.66, 1]),\n",
    "         create_cmap([\"green\", \"yellow\", \"orange\", \"red\"],[0.0, 0.375, 0.75, 1]),\n",
    "         create_cmap([\"green\", \"yellow\", \"orange\", \"red\"],[0.0, 0.1, 0.31, 1]),\n",
    "         create_cmap([\"black\",\"purple\",\"red\",\"orange\",\"yellow\",\"green\"],[0.0, 0.1, 0.16, 0.2, 0.64, 1]),\n",
    "         create_cmap([\"cyan\",\"blue\",\"green\",\"orange\",\"red\"],[0.0, 0.2, 0.4, 0.7, 1])]\n",
    "for ax, var, low, high, ylabel, ticks, cmap in zip(axes,beacon_bb_pollutants.columns,[400,0,0,0,0,0,18],[1000,30,100,12,700,200,30],ylabels,cbar_ticks,cmaps):\n",
    "    sns.heatmap(beacon_bb_pollutants[[var]].T,vmin=low,vmax=high,ax=ax,cbar_kws={'ticks':ticks},cmap=cmap)\n",
    "    ax.set_ylabel(ylabel)\n",
    "    ax.set_yticklabels([''])\n",
    "    ax.set_xlabel('')\n",
    "    \n",
    "xlabels = ax.get_xticklabels()\n",
    "new_xlabels = []\n",
    "for label in xlabels:\n",
    "    new_xlabels.append(label.get_text()[11:16])\n",
    "\n",
    "ax.set_xticklabels(new_xlabels)\n",
    "\n",
    "# Animation\n",
    "frames = 50\n",
    "Writer = animation.writers['ffmpeg']\n",
    "writer = Writer(fps=20, metadata=dict(artist='Me'), bitrate=1800)\n",
    "def init():\n",
    "    initial = beacon_bb_pollutants\n",
    "    initial = initial.replace(initial, np.nan)\n",
    "    for ax, var in zip(axes,beacon_bb_pollutants.columns):\n",
    "        sns.heatmap(initial[[var]].T, cbar=False, ax=ax)\n",
    "def animate(i):\n",
    "    ylabels = ['CO$_2$',\n",
    "               'PM$_{2.5}$',\n",
    "               'NO$_2$',\n",
    "               'CO',\n",
    "               'TVOC',\n",
    "               'Light',\n",
    "               'T']\n",
    "    cbar_ticks = [np.arange(400,1200,200),\n",
    "              np.arange(0,40,10),\n",
    "              np.arange(0,120,50),\n",
    "              np.arange(0,15,4),\n",
    "              np.arange(0,800,100),\n",
    "              np.arange(0,250,50),\n",
    "              np.arange(18,32,4)]\n",
    "    cmaps = [create_cmap([\"green\", \"yellow\", \"orange\", \"red\",],[0.0, 0.33, 0.66, 1]),\n",
    "             create_cmap([\"green\", \"yellow\", \"orange\", \"red\"],[0.0, 0.2, 0.4, 1]),\n",
    "             create_cmap([\"green\", \"yellow\", \"orange\", \"red\"],[0.0, 0.33, 0.66, 1]),\n",
    "             create_cmap([\"green\", \"yellow\", \"orange\", \"red\"],[0.0, 0.375, 0.75, 1]),\n",
    "             create_cmap([\"green\", \"yellow\", \"orange\", \"red\"],[0.0, 0.1, 0.31, 1]),\n",
    "             create_cmap([\"black\",\"purple\",\"red\",\"orange\",\"yellow\",\"green\"],[0.0, 0.1, 0.16, 0.2, 0.64, 1]),\n",
    "             create_cmap([\"cyan\",\"blue\",\"green\",\"orange\",\"red\"],[0.0, 0.2, 0.4, 0.7, 1])]\n",
    "    for ax, var, low, high, ylabel, ticks, cmap in zip(axes,beacon_bb_pollutants.columns,[400,0,0,0,0,0,18],[1000,30,100,12,700,200,30],ylabels,cbar_ticks,cmaps):\n",
    "        df = beacon_bb_pollutants[[var]].T\n",
    "        df = df[df <= np.nanmax(df)*((i+1)/frames)]\n",
    "        sns.heatmap(df,vmin=low,vmax=high,ax=ax,cbar=False,cmap=cmap)\n",
    "        ax.set_ylabel(ylabel)\n",
    "        ax.set_yticklabels([''])\n",
    "        ax.set_xlabel('')\n",
    "        \n",
    "    xlabels = ax.get_xticklabels()\n",
    "    new_xlabels = []\n",
    "    for label in xlabels:\n",
    "        new_xlabels.append(label.get_text()[11:16])\n",
    "\n",
    "ax.set_xticklabels(new_xlabels)\n",
    "anim = animation.FuncAnimation(fig, animate, init_func=init, frames=frames, interval=1000, repeat = False)\n",
    "anim.save('../reports/BuildSys2020/beacon_heatmap.mp4', writer=writer)\n"
   ]
  },
  {
   "cell_type": "code",
   "execution_count": null,
   "metadata": {},
   "outputs": [],
   "source": []
  }
 ],
 "metadata": {
  "kernelspec": {
   "display_name": "Python 3",
   "language": "python",
   "name": "python3"
  },
  "language_info": {
   "codemirror_mode": {
    "name": "ipython",
    "version": 3
   },
   "file_extension": ".py",
   "mimetype": "text/x-python",
   "name": "python",
   "nbconvert_exporter": "python",
   "pygments_lexer": "ipython3",
   "version": "3.7.0"
  }
 },
 "nbformat": 4,
 "nbformat_minor": 4
}
