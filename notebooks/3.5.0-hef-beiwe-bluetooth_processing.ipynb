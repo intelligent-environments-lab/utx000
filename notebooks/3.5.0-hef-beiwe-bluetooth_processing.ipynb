{
 "cells": [
  {
   "cell_type": "markdown",
   "metadata": {},
   "source": [
    "# Exploring the UTx000 Dataset\n",
    "From the first cohort in Spring 2020"
   ]
  },
  {
   "cell_type": "code",
   "execution_count": 2,
   "metadata": {},
   "outputs": [],
   "source": [
    "import warnings\n",
    "warnings.filterwarnings('ignore')"
   ]
  },
  {
   "cell_type": "markdown",
   "metadata": {},
   "source": [
    "# Bluetooth Processing\n",
    "I don't even know what to expect with this dataset."
   ]
  },
  {
   "cell_type": "code",
   "execution_count": 3,
   "metadata": {},
   "outputs": [],
   "source": [
    "import os\n",
    "\n",
    "import pandas as pd\n",
    "import numpy as np\n",
    "\n",
    "from datetime import datetime, timedelta\n",
    "\n",
    "import matplotlib.pyplot as plt\n",
    "import seaborn as sns"
   ]
  },
  {
   "cell_type": "markdown",
   "metadata": {},
   "source": [
    "# Test Data Import\n",
    "We want to import some data from participants so that we can understand it a little bit more."
   ]
  },
  {
   "cell_type": "markdown",
   "metadata": {},
   "source": [
    "## One datafile"
   ]
  },
  {
   "cell_type": "code",
   "execution_count": 3,
   "metadata": {},
   "outputs": [
    {
     "data": {
      "text/html": [
       "<div>\n",
       "<style scoped>\n",
       "    .dataframe tbody tr th:only-of-type {\n",
       "        vertical-align: middle;\n",
       "    }\n",
       "\n",
       "    .dataframe tbody tr th {\n",
       "        vertical-align: top;\n",
       "    }\n",
       "\n",
       "    .dataframe thead th {\n",
       "        text-align: right;\n",
       "    }\n",
       "</style>\n",
       "<table border=\"1\" class=\"dataframe\">\n",
       "  <thead>\n",
       "    <tr style=\"text-align: right;\">\n",
       "      <th></th>\n",
       "      <th>timestamp</th>\n",
       "      <th>UTC time</th>\n",
       "      <th>hashed MAC</th>\n",
       "      <th>RSSI</th>\n",
       "    </tr>\n",
       "  </thead>\n",
       "  <tbody>\n",
       "    <tr>\n",
       "      <th>0</th>\n",
       "      <td>1579910140611</td>\n",
       "      <td>2020-01-24T23:55:40.611</td>\n",
       "      <td>73cZ5pb4-8mNifVfF2Gx3j9MfKnzAU8iqlU_2YIJgcZ9jN...</td>\n",
       "      <td>-63</td>\n",
       "    </tr>\n",
       "    <tr>\n",
       "      <th>1</th>\n",
       "      <td>1579910140628</td>\n",
       "      <td>2020-01-24T23:55:40.628</td>\n",
       "      <td>B2WF8gAcWO3tdIThKp9OJ4TTNKs9QgYNE5TqV3XUgahEOJ...</td>\n",
       "      <td>-75</td>\n",
       "    </tr>\n",
       "    <tr>\n",
       "      <th>2</th>\n",
       "      <td>1579910140654</td>\n",
       "      <td>2020-01-24T23:55:40.654</td>\n",
       "      <td>ae3cw_kBKVrrusCFKPGkda5FGFA83A7WlLdT32m38lzdQH...</td>\n",
       "      <td>-95</td>\n",
       "    </tr>\n",
       "    <tr>\n",
       "      <th>3</th>\n",
       "      <td>1579910140663</td>\n",
       "      <td>2020-01-24T23:55:40.663</td>\n",
       "      <td>0osgqY-O4Mduw-qC5ngxdGOwWv0hlRXoOBzFeZQWyZFlHY...</td>\n",
       "      <td>-77</td>\n",
       "    </tr>\n",
       "    <tr>\n",
       "      <th>4</th>\n",
       "      <td>1579910140686</td>\n",
       "      <td>2020-01-24T23:55:40.686</td>\n",
       "      <td>sOtvApjVl7yKK94lnUFWyFhTQPdGTT7ZthQcjB-U3tMUhY...</td>\n",
       "      <td>-60</td>\n",
       "    </tr>\n",
       "    <tr>\n",
       "      <th>...</th>\n",
       "      <td>...</td>\n",
       "      <td>...</td>\n",
       "      <td>...</td>\n",
       "      <td>...</td>\n",
       "    </tr>\n",
       "    <tr>\n",
       "      <th>1089</th>\n",
       "      <td>1579910199895</td>\n",
       "      <td>2020-01-24T23:56:39.895</td>\n",
       "      <td>QqRCZy3KCJrxJvIXojGUcchF-4kYZlo7cgbBa_gVapESbD...</td>\n",
       "      <td>-64</td>\n",
       "    </tr>\n",
       "    <tr>\n",
       "      <th>1090</th>\n",
       "      <td>1579910199904</td>\n",
       "      <td>2020-01-24T23:56:39.904</td>\n",
       "      <td>RiAYxRmV6GuDmm2BSxyLoLjbkqObmVhjKlJRuP_DiLZrzH...</td>\n",
       "      <td>-77</td>\n",
       "    </tr>\n",
       "    <tr>\n",
       "      <th>1091</th>\n",
       "      <td>1579910199937</td>\n",
       "      <td>2020-01-24T23:56:39.937</td>\n",
       "      <td>b32KTplp0NIdrTAIpBfW_coQ6S--0jepIFp2xncW4PmFE4...</td>\n",
       "      <td>-68</td>\n",
       "    </tr>\n",
       "    <tr>\n",
       "      <th>1092</th>\n",
       "      <td>1579910200154</td>\n",
       "      <td>2020-01-24T23:56:40.154</td>\n",
       "      <td>sOtvApjVl7yKK94lnUFWyFhTQPdGTT7ZthQcjB-U3tMUhY...</td>\n",
       "      <td>-83</td>\n",
       "    </tr>\n",
       "    <tr>\n",
       "      <th>1093</th>\n",
       "      <td>1579910200534</td>\n",
       "      <td>2020-01-24T23:56:40.534</td>\n",
       "      <td>sOtvApjVl7yKK94lnUFWyFhTQPdGTT7ZthQcjB-U3tMUhY...</td>\n",
       "      <td>-82</td>\n",
       "    </tr>\n",
       "  </tbody>\n",
       "</table>\n",
       "<p>1094 rows × 4 columns</p>\n",
       "</div>"
      ],
      "text/plain": [
       "          timestamp                 UTC time  \\\n",
       "0     1579910140611  2020-01-24T23:55:40.611   \n",
       "1     1579910140628  2020-01-24T23:55:40.628   \n",
       "2     1579910140654  2020-01-24T23:55:40.654   \n",
       "3     1579910140663  2020-01-24T23:55:40.663   \n",
       "4     1579910140686  2020-01-24T23:55:40.686   \n",
       "...             ...                      ...   \n",
       "1089  1579910199895  2020-01-24T23:56:39.895   \n",
       "1090  1579910199904  2020-01-24T23:56:39.904   \n",
       "1091  1579910199937  2020-01-24T23:56:39.937   \n",
       "1092  1579910200154  2020-01-24T23:56:40.154   \n",
       "1093  1579910200534  2020-01-24T23:56:40.534   \n",
       "\n",
       "                                             hashed MAC  RSSI  \n",
       "0     73cZ5pb4-8mNifVfF2Gx3j9MfKnzAU8iqlU_2YIJgcZ9jN...   -63  \n",
       "1     B2WF8gAcWO3tdIThKp9OJ4TTNKs9QgYNE5TqV3XUgahEOJ...   -75  \n",
       "2     ae3cw_kBKVrrusCFKPGkda5FGFA83A7WlLdT32m38lzdQH...   -95  \n",
       "3     0osgqY-O4Mduw-qC5ngxdGOwWv0hlRXoOBzFeZQWyZFlHY...   -77  \n",
       "4     sOtvApjVl7yKK94lnUFWyFhTQPdGTT7ZthQcjB-U3tMUhY...   -60  \n",
       "...                                                 ...   ...  \n",
       "1089  QqRCZy3KCJrxJvIXojGUcchF-4kYZlo7cgbBa_gVapESbD...   -64  \n",
       "1090  RiAYxRmV6GuDmm2BSxyLoLjbkqObmVhjKlJRuP_DiLZrzH...   -77  \n",
       "1091  b32KTplp0NIdrTAIpBfW_coQ6S--0jepIFp2xncW4PmFE4...   -68  \n",
       "1092  sOtvApjVl7yKK94lnUFWyFhTQPdGTT7ZthQcjB-U3tMUhY...   -83  \n",
       "1093  sOtvApjVl7yKK94lnUFWyFhTQPdGTT7ZthQcjB-U3tMUhY...   -82  \n",
       "\n",
       "[1094 rows x 4 columns]"
      ]
     },
     "execution_count": 3,
     "metadata": {},
     "output_type": "execute_result"
    }
   ],
   "source": [
    "raw = pd.read_csv('/Volumes/HEF_Dissertation_Research/utx000/bpeace1/beiwe/bluetooth/25rlmdr1/bluetooth/2020-01-24 23_00_00.csv')\n",
    "raw"
   ]
  },
  {
   "cell_type": "markdown",
   "metadata": {},
   "source": [
    "## One participant"
   ]
  },
  {
   "cell_type": "code",
   "execution_count": 4,
   "metadata": {},
   "outputs": [
    {
     "data": {
      "text/html": [
       "<div>\n",
       "<style scoped>\n",
       "    .dataframe tbody tr th:only-of-type {\n",
       "        vertical-align: middle;\n",
       "    }\n",
       "\n",
       "    .dataframe tbody tr th {\n",
       "        vertical-align: top;\n",
       "    }\n",
       "\n",
       "    .dataframe thead th {\n",
       "        text-align: right;\n",
       "    }\n",
       "</style>\n",
       "<table border=\"1\" class=\"dataframe\">\n",
       "  <thead>\n",
       "    <tr style=\"text-align: right;\">\n",
       "      <th></th>\n",
       "      <th>timestamp</th>\n",
       "      <th>hashed MAC</th>\n",
       "      <th>RSSI</th>\n",
       "    </tr>\n",
       "    <tr>\n",
       "      <th>UTC time</th>\n",
       "      <th></th>\n",
       "      <th></th>\n",
       "      <th></th>\n",
       "    </tr>\n",
       "  </thead>\n",
       "  <tbody>\n",
       "    <tr>\n",
       "      <th>2020-01-24 23:55:40.611</th>\n",
       "      <td>1579910140611</td>\n",
       "      <td>73cZ5pb4-8mNifVfF2Gx3j9MfKnzAU8iqlU_2YIJgcZ9jN...</td>\n",
       "      <td>-63</td>\n",
       "    </tr>\n",
       "    <tr>\n",
       "      <th>2020-01-24 23:55:40.628</th>\n",
       "      <td>1579910140628</td>\n",
       "      <td>B2WF8gAcWO3tdIThKp9OJ4TTNKs9QgYNE5TqV3XUgahEOJ...</td>\n",
       "      <td>-75</td>\n",
       "    </tr>\n",
       "    <tr>\n",
       "      <th>2020-01-24 23:55:40.654</th>\n",
       "      <td>1579910140654</td>\n",
       "      <td>ae3cw_kBKVrrusCFKPGkda5FGFA83A7WlLdT32m38lzdQH...</td>\n",
       "      <td>-95</td>\n",
       "    </tr>\n",
       "    <tr>\n",
       "      <th>2020-01-24 23:55:40.663</th>\n",
       "      <td>1579910140663</td>\n",
       "      <td>0osgqY-O4Mduw-qC5ngxdGOwWv0hlRXoOBzFeZQWyZFlHY...</td>\n",
       "      <td>-77</td>\n",
       "    </tr>\n",
       "    <tr>\n",
       "      <th>2020-01-24 23:55:40.686</th>\n",
       "      <td>1579910140686</td>\n",
       "      <td>sOtvApjVl7yKK94lnUFWyFhTQPdGTT7ZthQcjB-U3tMUhY...</td>\n",
       "      <td>-60</td>\n",
       "    </tr>\n",
       "  </tbody>\n",
       "</table>\n",
       "</div>"
      ],
      "text/plain": [
       "                             timestamp  \\\n",
       "UTC time                                 \n",
       "2020-01-24 23:55:40.611  1579910140611   \n",
       "2020-01-24 23:55:40.628  1579910140628   \n",
       "2020-01-24 23:55:40.654  1579910140654   \n",
       "2020-01-24 23:55:40.663  1579910140663   \n",
       "2020-01-24 23:55:40.686  1579910140686   \n",
       "\n",
       "                                                                hashed MAC  \\\n",
       "UTC time                                                                     \n",
       "2020-01-24 23:55:40.611  73cZ5pb4-8mNifVfF2Gx3j9MfKnzAU8iqlU_2YIJgcZ9jN...   \n",
       "2020-01-24 23:55:40.628  B2WF8gAcWO3tdIThKp9OJ4TTNKs9QgYNE5TqV3XUgahEOJ...   \n",
       "2020-01-24 23:55:40.654  ae3cw_kBKVrrusCFKPGkda5FGFA83A7WlLdT32m38lzdQH...   \n",
       "2020-01-24 23:55:40.663  0osgqY-O4Mduw-qC5ngxdGOwWv0hlRXoOBzFeZQWyZFlHY...   \n",
       "2020-01-24 23:55:40.686  sOtvApjVl7yKK94lnUFWyFhTQPdGTT7ZthQcjB-U3tMUhY...   \n",
       "\n",
       "                         RSSI  \n",
       "UTC time                       \n",
       "2020-01-24 23:55:40.611   -63  \n",
       "2020-01-24 23:55:40.628   -75  \n",
       "2020-01-24 23:55:40.654   -95  \n",
       "2020-01-24 23:55:40.663   -77  \n",
       "2020-01-24 23:55:40.686   -60  "
      ]
     },
     "execution_count": 4,
     "metadata": {},
     "output_type": "execute_result"
    }
   ],
   "source": [
    "pt_dir = '/Volumes/HEF_Dissertation_Research/utx000/bpeace1/beiwe/bluetooth/25rlmdr1/bluetooth/'\n",
    "pt_df = pd.DataFrame()\n",
    "for file in os.listdir(pt_dir):\n",
    "    temp = pd.read_csv(f'{pt_dir}{file}',parse_dates = [1],infer_datetime_format=True,index_col=1)\n",
    "    pt_df = pt_df.append(temp)\n",
    "    \n",
    "pt_df.head()"
   ]
  },
  {
   "cell_type": "markdown",
   "metadata": {},
   "source": [
    "### Visualizing to see gaps"
   ]
  },
  {
   "cell_type": "code",
   "execution_count": 6,
   "metadata": {},
   "outputs": [
    {
     "data": {
      "image/png": "[encoded data removed]",
      "text/plain": [
       "<Figure size 1152x288 with 1 Axes>"
      ]
     },
     "metadata": {
      "needs_background": "light"
     },
     "output_type": "display_data"
    }
   ],
   "source": [
    "fig, ax = plt.subplots(figsize=(16,4))\n",
    "ax.scatter(pt_df.index, pt_df['RSSI'],s=10,color='black')\n",
    "plt.show()\n",
    "plt.close()"
   ]
  },
  {
   "cell_type": "markdown",
   "metadata": {},
   "source": [
    "### Downsampling analysis"
   ]
  },
  {
   "cell_type": "markdown",
   "metadata": {},
   "source": [
    "Can't really do any downsampling because the bluetooth addresses seem unique at each time step. So, the processing will simply be appending the data together into one giant file."
   ]
  },
  {
   "cell_type": "markdown",
   "metadata": {},
   "source": [
    "# Processing Pipeline"
   ]
  },
  {
   "cell_type": "code",
   "execution_count": 11,
   "metadata": {},
   "outputs": [
    {
     "name": "stdout",
     "output_type": "stream",
     "text": [
      "\t\tWorking for participant 25rlmdr1\n",
      "\t\tWorking for participant 3onrr6vt\n",
      "\t\tWorking for participant 63uo1uuj\n",
      "\t\tWorking for participant 7373cjon\n"
     ]
    },
    {
     "data": {
      "text/html": [
       "<div>\n",
       "<style scoped>\n",
       "    .dataframe tbody tr th:only-of-type {\n",
       "        vertical-align: middle;\n",
       "    }\n",
       "\n",
       "    .dataframe tbody tr th {\n",
       "        vertical-align: top;\n",
       "    }\n",
       "\n",
       "    .dataframe thead th {\n",
       "        text-align: right;\n",
       "    }\n",
       "</style>\n",
       "<table border=\"1\" class=\"dataframe\">\n",
       "  <thead>\n",
       "    <tr style=\"text-align: right;\">\n",
       "      <th></th>\n",
       "      <th>timestamp</th>\n",
       "      <th>UTC time</th>\n",
       "      <th>hashed MAC</th>\n",
       "      <th>RSSI</th>\n",
       "      <th>Beiwe</th>\n",
       "    </tr>\n",
       "    <tr>\n",
       "      <th>Time</th>\n",
       "      <th></th>\n",
       "      <th></th>\n",
       "      <th></th>\n",
       "      <th></th>\n",
       "      <th></th>\n",
       "    </tr>\n",
       "  </thead>\n",
       "  <tbody>\n",
       "    <tr>\n",
       "      <th>2020-01-24 17:55:40.611</th>\n",
       "      <td>1579910140611</td>\n",
       "      <td>2020-01-24 23:55:40.611</td>\n",
       "      <td>73cZ5pb4-8mNifVfF2Gx3j9MfKnzAU8iqlU_2YIJgcZ9jN...</td>\n",
       "      <td>-63</td>\n",
       "      <td>25rlmdr1</td>\n",
       "    </tr>\n",
       "    <tr>\n",
       "      <th>2020-01-24 17:55:40.628</th>\n",
       "      <td>1579910140628</td>\n",
       "      <td>2020-01-24 23:55:40.628</td>\n",
       "      <td>B2WF8gAcWO3tdIThKp9OJ4TTNKs9QgYNE5TqV3XUgahEOJ...</td>\n",
       "      <td>-75</td>\n",
       "      <td>25rlmdr1</td>\n",
       "    </tr>\n",
       "    <tr>\n",
       "      <th>2020-01-24 17:55:40.654</th>\n",
       "      <td>1579910140654</td>\n",
       "      <td>2020-01-24 23:55:40.654</td>\n",
       "      <td>ae3cw_kBKVrrusCFKPGkda5FGFA83A7WlLdT32m38lzdQH...</td>\n",
       "      <td>-95</td>\n",
       "      <td>25rlmdr1</td>\n",
       "    </tr>\n",
       "    <tr>\n",
       "      <th>2020-01-24 17:55:40.663</th>\n",
       "      <td>1579910140663</td>\n",
       "      <td>2020-01-24 23:55:40.663</td>\n",
       "      <td>0osgqY-O4Mduw-qC5ngxdGOwWv0hlRXoOBzFeZQWyZFlHY...</td>\n",
       "      <td>-77</td>\n",
       "      <td>25rlmdr1</td>\n",
       "    </tr>\n",
       "    <tr>\n",
       "      <th>2020-01-24 17:55:40.686</th>\n",
       "      <td>1579910140686</td>\n",
       "      <td>2020-01-24 23:55:40.686</td>\n",
       "      <td>sOtvApjVl7yKK94lnUFWyFhTQPdGTT7ZthQcjB-U3tMUhY...</td>\n",
       "      <td>-60</td>\n",
       "      <td>25rlmdr1</td>\n",
       "    </tr>\n",
       "  </tbody>\n",
       "</table>\n",
       "</div>"
      ],
      "text/plain": [
       "                             timestamp                UTC time  \\\n",
       "Time                                                             \n",
       "2020-01-24 17:55:40.611  1579910140611 2020-01-24 23:55:40.611   \n",
       "2020-01-24 17:55:40.628  1579910140628 2020-01-24 23:55:40.628   \n",
       "2020-01-24 17:55:40.654  1579910140654 2020-01-24 23:55:40.654   \n",
       "2020-01-24 17:55:40.663  1579910140663 2020-01-24 23:55:40.663   \n",
       "2020-01-24 17:55:40.686  1579910140686 2020-01-24 23:55:40.686   \n",
       "\n",
       "                                                                hashed MAC  \\\n",
       "Time                                                                         \n",
       "2020-01-24 17:55:40.611  73cZ5pb4-8mNifVfF2Gx3j9MfKnzAU8iqlU_2YIJgcZ9jN...   \n",
       "2020-01-24 17:55:40.628  B2WF8gAcWO3tdIThKp9OJ4TTNKs9QgYNE5TqV3XUgahEOJ...   \n",
       "2020-01-24 17:55:40.654  ae3cw_kBKVrrusCFKPGkda5FGFA83A7WlLdT32m38lzdQH...   \n",
       "2020-01-24 17:55:40.663  0osgqY-O4Mduw-qC5ngxdGOwWv0hlRXoOBzFeZQWyZFlHY...   \n",
       "2020-01-24 17:55:40.686  sOtvApjVl7yKK94lnUFWyFhTQPdGTT7ZthQcjB-U3tMUhY...   \n",
       "\n",
       "                         RSSI     Beiwe  \n",
       "Time                                     \n",
       "2020-01-24 17:55:40.611   -63  25rlmdr1  \n",
       "2020-01-24 17:55:40.628   -75  25rlmdr1  \n",
       "2020-01-24 17:55:40.654   -95  25rlmdr1  \n",
       "2020-01-24 17:55:40.663   -77  25rlmdr1  \n",
       "2020-01-24 17:55:40.686   -60  25rlmdr1  "
      ]
     },
     "execution_count": 11,
     "metadata": {},
     "output_type": "execute_result"
    }
   ],
   "source": [
    "data_dir = '/Volumes/HEF_Dissertation_Research/utx000/bpeace1/beiwe/bluetooth/'\n",
    "bt_df = pd.DataFrame()\n",
    "for pt in os.listdir(data_dir)[:4]:\n",
    "    if len(pt) == 8:\n",
    "        print(f'\\t\\tWorking for participant {pt}')\n",
    "        pt_df = pd.DataFrame()\n",
    "        for file in os.listdir(f'{data_dir}{pt}/bluetooth/'):\n",
    "            if file[-1] == 'v':\n",
    "                temp = pd.read_csv(f'{data_dir}{pt}/bluetooth/{file}',parse_dates=[1],infer_datetime_format=True,engine='python')\n",
    "                pt_df = pt_df.append(temp)\n",
    "            \n",
    "        pt_df['UTC time'] = pd.to_datetime(pt_df['UTC time'])\n",
    "        pt_df['Time'] = pt_df['UTC time'] - timedelta(hours=6)\n",
    "        pt_df.set_index('Time',inplace=True)\n",
    "        pt_df['Beiwe'] = pt\n",
    "        \n",
    "        bt_df = bt_df.append(pt_df)\n",
    "    \n",
    "bt_df.head()"
   ]
  },
  {
   "cell_type": "code",
   "execution_count": 12,
   "metadata": {},
   "outputs": [],
   "source": [
    "temp = pd.read_csv('../data/processed/bpeace1-gps.csv')"
   ]
  },
  {
   "cell_type": "code",
   "execution_count": 13,
   "metadata": {},
   "outputs": [
    {
     "data": {
      "text/html": [
       "<div>\n",
       "<style scoped>\n",
       "    .dataframe tbody tr th:only-of-type {\n",
       "        vertical-align: middle;\n",
       "    }\n",
       "\n",
       "    .dataframe tbody tr th {\n",
       "        vertical-align: top;\n",
       "    }\n",
       "\n",
       "    .dataframe thead th {\n",
       "        text-align: right;\n",
       "    }\n",
       "</style>\n",
       "<table border=\"1\" class=\"dataframe\">\n",
       "  <thead>\n",
       "    <tr style=\"text-align: right;\">\n",
       "      <th></th>\n",
       "      <th>Time</th>\n",
       "      <th>Lat</th>\n",
       "      <th>Long</th>\n",
       "      <th>Alt</th>\n",
       "      <th>Accuracy</th>\n",
       "      <th>UTC</th>\n",
       "      <th>Beiwe</th>\n",
       "    </tr>\n",
       "  </thead>\n",
       "  <tbody>\n",
       "  </tbody>\n",
       "</table>\n",
       "</div>"
      ],
      "text/plain": [
       "Empty DataFrame\n",
       "Columns: [Time, Lat, Long, Alt, Accuracy, UTC, Beiwe]\n",
       "Index: []"
      ]
     },
     "execution_count": 13,
     "metadata": {},
     "output_type": "execute_result"
    }
   ],
   "source": [
    "temp"
   ]
  },
  {
   "cell_type": "code",
   "execution_count": null,
   "metadata": {},
   "outputs": [],
   "source": []
  }
 ],
 "metadata": {
  "kernelspec": {
   "display_name": "Python 3",
   "language": "python",
   "name": "python3"
  },
  "language_info": {
   "codemirror_mode": {
    "name": "ipython",
    "version": 3
   },
   "file_extension": ".py",
   "mimetype": "text/x-python",
   "name": "python",
   "nbconvert_exporter": "python",
   "pygments_lexer": "ipython3",
   "version": "3.7.0"
  }
 },
 "nbformat": 4,
 "nbformat_minor": 4
}
