{
 "cells": [
  {
   "cell_type": "markdown",
   "metadata": {},
   "source": [
    "# Sleep Prediction\n",
    "Here we try to use environemntal parameter in addition to mood characteristics to see if we are able to predict sleep quality."
   ]
  },
  {
   "cell_type": "code",
   "execution_count": 1,
   "metadata": {},
   "outputs": [],
   "source": [
    "import warnings\n",
    "warnings.filterwarnings('ignore')\n",
    "\n",
    "%load_ext autoreload\n",
    "%autoreload 2"
   ]
  },
  {
   "cell_type": "code",
   "execution_count": 2,
   "metadata": {},
   "outputs": [],
   "source": [
    "# general\n",
    "import os\n",
    "import sys\n",
    "sys.path.append('../')\n",
    "# user-defined functions\n",
    "from src.visualization import visualize\n",
    "# basic data science\n",
    "import pandas as pd\n",
    "pd.set_option('display.max_columns', 200)\n",
    "import numpy as np\n",
    "# timeseries\n",
    "from datetime import datetime, timedelta\n",
    "# plotting\n",
    "import matplotlib.pyplot as plt\n",
    "from matplotlib import cm\n",
    "from matplotlib.colors import ListedColormap, LinearSegmentedColormap\n",
    "import seaborn as sns\n",
    "import matplotlib.dates as mdates"
   ]
  },
  {
   "cell_type": "markdown",
   "metadata": {},
   "source": [
    "# Table of Contents\n",
    "1. [Data Import](#data-import)\n",
    "    1. Fitbit Sleep\n",
    "    2. Self-Report Sleep (Beiwe App)\n",
    "    3. IEQ (BEVO Beacon)\n",
    "    4. Mood (Beiwe App)\n",
    "2. [Summary and Feature/Target Identification](#summary)\n",
    "    1. Feature: IEQ\n",
    "    2. Feature: Mood\n",
    "    3. Target: Fitbit Sleep\n",
    "    4. Target: Self-Report Sleep\n",
    "3. [Feature Engineering](#feature_engineering)"
   ]
  },
  {
   "cell_type": "markdown",
   "metadata": {},
   "source": [
    "<a id=\"data-import\"></a>"
   ]
  },
  {
   "cell_type": "markdown",
   "metadata": {},
   "source": [
    "# Data Import\n",
    "For this analysis we need all reports of sleep quality in addition to the IEQ and mood data."
   ]
  },
  {
   "cell_type": "markdown",
   "metadata": {},
   "source": [
    "### Fitbit Sleep Summary\n",
    "The data included are all possible observations of sleep measurements. The data has **not** been altered from its original state recorded by Fitbit, but a few new variables have been defined:\n",
    "\n",
    "* `nrem`: We have defined a aggregated value for `light`+`deep` sleep recorded by Fitbit in order to improve the accuracy of our sleep measurements. We include both a `count`, `minutes`, and `percent` metric for this variable referencing the number of times the participant transitioned into that state, the total amount of minutes per night spent in that state, and the percentage of the TST was spent in the state, respectively.\n",
    "* `rem2nrem`: This new variable represents the ratio of time spent in REM sleep to the newly defined `nrem` sleep. \n",
    "* `waso`: Acronym for Wake After Sleep Onset and refers to the amount of time (in minutes) spent awake after initially falling asleep. Calculated by multiplying the TST by (1 - sleep efficiency) - efficiency does not take the initial sleep period into account. \n",
    "* `sol`: Acronym got Sleep Onset Latency and refers to the amount of time it takes for the participant to fall asleep. Calculated by taking the `wake_minutes` measured by Fitbit and subtracting the newly calculated `waso`. "
   ]
  },
  {
   "cell_type": "code",
   "execution_count": 3,
   "metadata": {},
   "outputs": [
    {
     "data": {
      "text/html": [
       "<div>\n",
       "<style scoped>\n",
       "    .dataframe tbody tr th:only-of-type {\n",
       "        vertical-align: middle;\n",
       "    }\n",
       "\n",
       "    .dataframe tbody tr th {\n",
       "        vertical-align: top;\n",
       "    }\n",
       "\n",
       "    .dataframe thead th {\n",
       "        text-align: right;\n",
       "    }\n",
       "</style>\n",
       "<table border=\"1\" class=\"dataframe\">\n",
       "  <thead>\n",
       "    <tr style=\"text-align: right;\">\n",
       "      <th></th>\n",
       "      <th>start_date</th>\n",
       "      <th>end_date</th>\n",
       "      <th>deep_count</th>\n",
       "      <th>deep_minutes</th>\n",
       "      <th>light_count</th>\n",
       "      <th>light_minutes</th>\n",
       "      <th>rem_count</th>\n",
       "      <th>rem_minutes</th>\n",
       "      <th>wake_count</th>\n",
       "      <th>wake_minutes</th>\n",
       "      <th>beiwe</th>\n",
       "      <th>efficiency</th>\n",
       "      <th>end_time</th>\n",
       "      <th>start_time</th>\n",
       "      <th>redcap</th>\n",
       "      <th>beacon</th>\n",
       "      <th>nrem_count</th>\n",
       "      <th>rem2nrem_count</th>\n",
       "      <th>nrem_minutes</th>\n",
       "      <th>rem2nrem_minutes</th>\n",
       "      <th>tst_fb</th>\n",
       "      <th>rem_percent</th>\n",
       "      <th>nrem_percent</th>\n",
       "      <th>waso</th>\n",
       "      <th>sol_fb</th>\n",
       "    </tr>\n",
       "  </thead>\n",
       "  <tbody>\n",
       "    <tr>\n",
       "      <th>0</th>\n",
       "      <td>2020-05-14</td>\n",
       "      <td>2020-05-14</td>\n",
       "      <td>5</td>\n",
       "      <td>84</td>\n",
       "      <td>20</td>\n",
       "      <td>213</td>\n",
       "      <td>10</td>\n",
       "      <td>82</td>\n",
       "      <td>21</td>\n",
       "      <td>27</td>\n",
       "      <td>hfttkth7</td>\n",
       "      <td>97</td>\n",
       "      <td>2020-05-14 07:13:00</td>\n",
       "      <td>2020-05-14 00:27:00</td>\n",
       "      <td>NaN</td>\n",
       "      <td>NaN</td>\n",
       "      <td>25</td>\n",
       "      <td>0.400000</td>\n",
       "      <td>297</td>\n",
       "      <td>0.276094</td>\n",
       "      <td>6.766667</td>\n",
       "      <td>0.201970</td>\n",
       "      <td>0.731527</td>\n",
       "      <td>12.18</td>\n",
       "      <td>14.82</td>\n",
       "    </tr>\n",
       "    <tr>\n",
       "      <th>1</th>\n",
       "      <td>2020-05-14</td>\n",
       "      <td>2020-05-15</td>\n",
       "      <td>4</td>\n",
       "      <td>95</td>\n",
       "      <td>31</td>\n",
       "      <td>250</td>\n",
       "      <td>6</td>\n",
       "      <td>47</td>\n",
       "      <td>33</td>\n",
       "      <td>101</td>\n",
       "      <td>hfttkth7</td>\n",
       "      <td>87</td>\n",
       "      <td>2020-05-15 08:06:30</td>\n",
       "      <td>2020-05-14 23:53:30</td>\n",
       "      <td>NaN</td>\n",
       "      <td>NaN</td>\n",
       "      <td>35</td>\n",
       "      <td>0.171429</td>\n",
       "      <td>345</td>\n",
       "      <td>0.136232</td>\n",
       "      <td>8.216667</td>\n",
       "      <td>0.095335</td>\n",
       "      <td>0.699797</td>\n",
       "      <td>64.09</td>\n",
       "      <td>36.91</td>\n",
       "    </tr>\n",
       "    <tr>\n",
       "      <th>2</th>\n",
       "      <td>2020-05-15</td>\n",
       "      <td>2020-05-16</td>\n",
       "      <td>2</td>\n",
       "      <td>47</td>\n",
       "      <td>17</td>\n",
       "      <td>190</td>\n",
       "      <td>8</td>\n",
       "      <td>50</td>\n",
       "      <td>20</td>\n",
       "      <td>42</td>\n",
       "      <td>hfttkth7</td>\n",
       "      <td>95</td>\n",
       "      <td>2020-05-16 04:57:00</td>\n",
       "      <td>2020-05-15 23:28:00</td>\n",
       "      <td>NaN</td>\n",
       "      <td>NaN</td>\n",
       "      <td>19</td>\n",
       "      <td>0.421053</td>\n",
       "      <td>237</td>\n",
       "      <td>0.210970</td>\n",
       "      <td>5.483333</td>\n",
       "      <td>0.151976</td>\n",
       "      <td>0.720365</td>\n",
       "      <td>16.45</td>\n",
       "      <td>25.55</td>\n",
       "    </tr>\n",
       "    <tr>\n",
       "      <th>3</th>\n",
       "      <td>2020-05-17</td>\n",
       "      <td>2020-05-17</td>\n",
       "      <td>5</td>\n",
       "      <td>78</td>\n",
       "      <td>21</td>\n",
       "      <td>242</td>\n",
       "      <td>11</td>\n",
       "      <td>83</td>\n",
       "      <td>25</td>\n",
       "      <td>44</td>\n",
       "      <td>hfttkth7</td>\n",
       "      <td>96</td>\n",
       "      <td>2020-05-17 09:28:30</td>\n",
       "      <td>2020-05-17 02:01:30</td>\n",
       "      <td>NaN</td>\n",
       "      <td>NaN</td>\n",
       "      <td>26</td>\n",
       "      <td>0.423077</td>\n",
       "      <td>320</td>\n",
       "      <td>0.259375</td>\n",
       "      <td>7.450000</td>\n",
       "      <td>0.185682</td>\n",
       "      <td>0.715884</td>\n",
       "      <td>17.88</td>\n",
       "      <td>26.12</td>\n",
       "    </tr>\n",
       "    <tr>\n",
       "      <th>4</th>\n",
       "      <td>2020-05-18</td>\n",
       "      <td>2020-05-18</td>\n",
       "      <td>5</td>\n",
       "      <td>96</td>\n",
       "      <td>20</td>\n",
       "      <td>167</td>\n",
       "      <td>14</td>\n",
       "      <td>88</td>\n",
       "      <td>28</td>\n",
       "      <td>65</td>\n",
       "      <td>hfttkth7</td>\n",
       "      <td>92</td>\n",
       "      <td>2020-05-18 07:20:00</td>\n",
       "      <td>2020-05-18 00:24:00</td>\n",
       "      <td>NaN</td>\n",
       "      <td>NaN</td>\n",
       "      <td>25</td>\n",
       "      <td>0.560000</td>\n",
       "      <td>263</td>\n",
       "      <td>0.334601</td>\n",
       "      <td>6.933333</td>\n",
       "      <td>0.211538</td>\n",
       "      <td>0.632212</td>\n",
       "      <td>33.28</td>\n",
       "      <td>31.72</td>\n",
       "    </tr>\n",
       "  </tbody>\n",
       "</table>\n",
       "</div>"
      ],
      "text/plain": [
       "  start_date   end_date  deep_count  deep_minutes  light_count  light_minutes  \\\n",
       "0 2020-05-14 2020-05-14           5            84           20            213   \n",
       "1 2020-05-14 2020-05-15           4            95           31            250   \n",
       "2 2020-05-15 2020-05-16           2            47           17            190   \n",
       "3 2020-05-17 2020-05-17           5            78           21            242   \n",
       "4 2020-05-18 2020-05-18           5            96           20            167   \n",
       "\n",
       "   rem_count  rem_minutes  wake_count  wake_minutes     beiwe  efficiency  \\\n",
       "0         10           82          21            27  hfttkth7          97   \n",
       "1          6           47          33           101  hfttkth7          87   \n",
       "2          8           50          20            42  hfttkth7          95   \n",
       "3         11           83          25            44  hfttkth7          96   \n",
       "4         14           88          28            65  hfttkth7          92   \n",
       "\n",
       "             end_time          start_time  redcap  beacon  nrem_count  \\\n",
       "0 2020-05-14 07:13:00 2020-05-14 00:27:00     NaN     NaN          25   \n",
       "1 2020-05-15 08:06:30 2020-05-14 23:53:30     NaN     NaN          35   \n",
       "2 2020-05-16 04:57:00 2020-05-15 23:28:00     NaN     NaN          19   \n",
       "3 2020-05-17 09:28:30 2020-05-17 02:01:30     NaN     NaN          26   \n",
       "4 2020-05-18 07:20:00 2020-05-18 00:24:00     NaN     NaN          25   \n",
       "\n",
       "   rem2nrem_count  nrem_minutes  rem2nrem_minutes    tst_fb  rem_percent  \\\n",
       "0        0.400000           297          0.276094  6.766667     0.201970   \n",
       "1        0.171429           345          0.136232  8.216667     0.095335   \n",
       "2        0.421053           237          0.210970  5.483333     0.151976   \n",
       "3        0.423077           320          0.259375  7.450000     0.185682   \n",
       "4        0.560000           263          0.334601  6.933333     0.211538   \n",
       "\n",
       "   nrem_percent   waso  sol_fb  \n",
       "0      0.731527  12.18   14.82  \n",
       "1      0.699797  64.09   36.91  \n",
       "2      0.720365  16.45   25.55  \n",
       "3      0.715884  17.88   26.12  \n",
       "4      0.632212  33.28   31.72  "
      ]
     },
     "execution_count": 3,
     "metadata": {},
     "output_type": "execute_result"
    }
   ],
   "source": [
    "fb_sleep = pd.read_csv(\"../data/processed/fitbit-sleep_summary-ux_s20.csv\",parse_dates=[\"start_time\",\"end_time\",\"start_date\",\"end_date\"],infer_datetime_format=True)#,index_col=[\"beiwe\",\"start_time\"])\n",
    "fb_sleep.head()"
   ]
  },
  {
   "cell_type": "markdown",
   "metadata": {},
   "source": [
    "### Self-Report Sleep\n",
    "Again, all the data from the morning EMA adminisited by Beiwe is included. Since the sleep questions were curated for this study, now new variables are defined from these."
   ]
  },
  {
   "cell_type": "code",
   "execution_count": 4,
   "metadata": {},
   "outputs": [
    {
     "data": {
      "text/html": [
       "<div>\n",
       "<style scoped>\n",
       "    .dataframe tbody tr th:only-of-type {\n",
       "        vertical-align: middle;\n",
       "    }\n",
       "\n",
       "    .dataframe tbody tr th {\n",
       "        vertical-align: top;\n",
       "    }\n",
       "\n",
       "    .dataframe thead th {\n",
       "        text-align: right;\n",
       "    }\n",
       "</style>\n",
       "<table border=\"1\" class=\"dataframe\">\n",
       "  <thead>\n",
       "    <tr style=\"text-align: right;\">\n",
       "      <th></th>\n",
       "      <th>timestamp</th>\n",
       "      <th>beiwe</th>\n",
       "      <th>content</th>\n",
       "      <th>stress</th>\n",
       "      <th>lonely</th>\n",
       "      <th>sad</th>\n",
       "      <th>energy</th>\n",
       "      <th>tst</th>\n",
       "      <th>sol</th>\n",
       "      <th>naw</th>\n",
       "      <th>restful</th>\n",
       "      <th>redcap</th>\n",
       "      <th>beacon</th>\n",
       "      <th>date</th>\n",
       "    </tr>\n",
       "  </thead>\n",
       "  <tbody>\n",
       "    <tr>\n",
       "      <th>0</th>\n",
       "      <td>2020-05-13 09:10:27</td>\n",
       "      <td>qh34m4r9</td>\n",
       "      <td>3</td>\n",
       "      <td>0.0</td>\n",
       "      <td>0.0</td>\n",
       "      <td>0.0</td>\n",
       "      <td>1.0</td>\n",
       "      <td>8.0</td>\n",
       "      <td>20.0</td>\n",
       "      <td>2.0</td>\n",
       "      <td>3.0</td>\n",
       "      <td>68</td>\n",
       "      <td>19.0</td>\n",
       "      <td>2020-05-13</td>\n",
       "    </tr>\n",
       "    <tr>\n",
       "      <th>1</th>\n",
       "      <td>2020-05-13 09:15:49</td>\n",
       "      <td>awa8uces</td>\n",
       "      <td>0.0</td>\n",
       "      <td>2.0</td>\n",
       "      <td>1.0</td>\n",
       "      <td>1.0</td>\n",
       "      <td>1.0</td>\n",
       "      <td>2.0</td>\n",
       "      <td>10.0</td>\n",
       "      <td>3.0</td>\n",
       "      <td>1.0</td>\n",
       "      <td>28</td>\n",
       "      <td>26.0</td>\n",
       "      <td>2020-05-13</td>\n",
       "    </tr>\n",
       "    <tr>\n",
       "      <th>2</th>\n",
       "      <td>2020-05-13 09:42:19</td>\n",
       "      <td>xxvnhauv</td>\n",
       "      <td>1</td>\n",
       "      <td>1.0</td>\n",
       "      <td>1.0</td>\n",
       "      <td>3.0</td>\n",
       "      <td>0.0</td>\n",
       "      <td>6.0</td>\n",
       "      <td>30.0</td>\n",
       "      <td>3.0</td>\n",
       "      <td>1.0</td>\n",
       "      <td>21</td>\n",
       "      <td>22.0</td>\n",
       "      <td>2020-05-13</td>\n",
       "    </tr>\n",
       "    <tr>\n",
       "      <th>3</th>\n",
       "      <td>2020-05-13 09:43:27</td>\n",
       "      <td>rvhdl2la</td>\n",
       "      <td>1</td>\n",
       "      <td>1.0</td>\n",
       "      <td>2.0</td>\n",
       "      <td>3.0</td>\n",
       "      <td>0.0</td>\n",
       "      <td>5.3</td>\n",
       "      <td>5.0</td>\n",
       "      <td>2.0</td>\n",
       "      <td>2.0</td>\n",
       "      <td>29</td>\n",
       "      <td>NaN</td>\n",
       "      <td>2020-05-13</td>\n",
       "    </tr>\n",
       "    <tr>\n",
       "      <th>4</th>\n",
       "      <td>2020-05-13 10:11:51</td>\n",
       "      <td>q5y11ytm</td>\n",
       "      <td>3</td>\n",
       "      <td>1.0</td>\n",
       "      <td>0.0</td>\n",
       "      <td>1.0</td>\n",
       "      <td>2.0</td>\n",
       "      <td>2.0</td>\n",
       "      <td>10.0</td>\n",
       "      <td>0.0</td>\n",
       "      <td>0.0</td>\n",
       "      <td>48</td>\n",
       "      <td>NaN</td>\n",
       "      <td>2020-05-13</td>\n",
       "    </tr>\n",
       "  </tbody>\n",
       "</table>\n",
       "</div>"
      ],
      "text/plain": [
       "            timestamp     beiwe content  stress  lonely  sad  energy  tst  \\\n",
       "0 2020-05-13 09:10:27  qh34m4r9       3     0.0     0.0  0.0     1.0  8.0   \n",
       "1 2020-05-13 09:15:49  awa8uces     0.0     2.0     1.0  1.0     1.0  2.0   \n",
       "2 2020-05-13 09:42:19  xxvnhauv       1     1.0     1.0  3.0     0.0  6.0   \n",
       "3 2020-05-13 09:43:27  rvhdl2la       1     1.0     2.0  3.0     0.0  5.3   \n",
       "4 2020-05-13 10:11:51  q5y11ytm       3     1.0     0.0  1.0     2.0  2.0   \n",
       "\n",
       "    sol  naw  restful  redcap  beacon       date  \n",
       "0  20.0  2.0      3.0      68    19.0 2020-05-13  \n",
       "1  10.0  3.0      1.0      28    26.0 2020-05-13  \n",
       "2  30.0  3.0      1.0      21    22.0 2020-05-13  \n",
       "3   5.0  2.0      2.0      29     NaN 2020-05-13  \n",
       "4  10.0  0.0      0.0      48     NaN 2020-05-13  "
      ]
     },
     "execution_count": 4,
     "metadata": {},
     "output_type": "execute_result"
    }
   ],
   "source": [
    "bw_sleep = pd.read_csv(\"../data/processed/beiwe-morning_ema-ux_s20.csv\",parse_dates=[\"timestamp\"],infer_datetime_format=True)\n",
    "bw_sleep[\"date\"] = pd.to_datetime(bw_sleep[\"timestamp\"].dt.date)\n",
    "bw_sleep.head()"
   ]
  },
  {
   "cell_type": "markdown",
   "metadata": {},
   "source": [
    "### Beacon IAQ\n",
    "The BEVO Beacon data that is included corresponds to nights when Fitbit has detected a sleep event and `gps` data from Beiwe confirms that the participant is home. Since the beacon data is the most restricted and includes all of our (most) relevant features, we can use this dataset to subset the sleep target datasets. "
   ]
  },
  {
   "cell_type": "code",
   "execution_count": 5,
   "metadata": {},
   "outputs": [
    {
     "data": {
      "text/html": [
       "<div>\n",
       "<style scoped>\n",
       "    .dataframe tbody tr th:only-of-type {\n",
       "        vertical-align: middle;\n",
       "    }\n",
       "\n",
       "    .dataframe tbody tr th {\n",
       "        vertical-align: top;\n",
       "    }\n",
       "\n",
       "    .dataframe thead th {\n",
       "        text-align: right;\n",
       "    }\n",
       "</style>\n",
       "<table border=\"1\" class=\"dataframe\">\n",
       "  <thead>\n",
       "    <tr style=\"text-align: right;\">\n",
       "      <th></th>\n",
       "      <th>start_time</th>\n",
       "      <th>end_time</th>\n",
       "      <th>beacon</th>\n",
       "      <th>beiwe</th>\n",
       "      <th>fitbit</th>\n",
       "      <th>redcap</th>\n",
       "      <th>tvoc_median</th>\n",
       "      <th>lux_median</th>\n",
       "      <th>no2_median</th>\n",
       "      <th>co_median</th>\n",
       "      <th>co2_median</th>\n",
       "      <th>pm2p5_number_median</th>\n",
       "      <th>pm2p5_mass_median</th>\n",
       "      <th>temperature_c_median</th>\n",
       "      <th>rh_median</th>\n",
       "      <th>tvoc_delta</th>\n",
       "      <th>lux_delta</th>\n",
       "      <th>no2_delta</th>\n",
       "      <th>co_delta</th>\n",
       "      <th>co2_delta</th>\n",
       "      <th>pm2p5_number_delta</th>\n",
       "      <th>pm2p5_mass_delta</th>\n",
       "      <th>temperature_c_delta</th>\n",
       "      <th>rh_delta</th>\n",
       "      <th>date</th>\n",
       "    </tr>\n",
       "  </thead>\n",
       "  <tbody>\n",
       "    <tr>\n",
       "      <th>0</th>\n",
       "      <td>2020-08-10 04:42:30</td>\n",
       "      <td>2020-08-10 12:35:30</td>\n",
       "      <td>21</td>\n",
       "      <td>lkkjddam</td>\n",
       "      <td>25</td>\n",
       "      <td>12</td>\n",
       "      <td>126.658333</td>\n",
       "      <td>2.040</td>\n",
       "      <td>NaN</td>\n",
       "      <td>10.359917</td>\n",
       "      <td>1600.754959</td>\n",
       "      <td>0.914249</td>\n",
       "      <td>0.895571</td>\n",
       "      <td>23.337500</td>\n",
       "      <td>33.0</td>\n",
       "      <td>91.90</td>\n",
       "      <td>0.136</td>\n",
       "      <td>NaN</td>\n",
       "      <td>0.731650</td>\n",
       "      <td>304.035761</td>\n",
       "      <td>1.960803</td>\n",
       "      <td>0.620298</td>\n",
       "      <td>1.000</td>\n",
       "      <td>0.950</td>\n",
       "      <td>2020-08-10</td>\n",
       "    </tr>\n",
       "    <tr>\n",
       "      <th>1</th>\n",
       "      <td>2020-08-11 03:35:00</td>\n",
       "      <td>2020-08-11 12:36:30</td>\n",
       "      <td>21</td>\n",
       "      <td>lkkjddam</td>\n",
       "      <td>25</td>\n",
       "      <td>12</td>\n",
       "      <td>233.566667</td>\n",
       "      <td>2.040</td>\n",
       "      <td>NaN</td>\n",
       "      <td>6.429275</td>\n",
       "      <td>1628.474180</td>\n",
       "      <td>1.287357</td>\n",
       "      <td>0.847762</td>\n",
       "      <td>25.000000</td>\n",
       "      <td>34.0</td>\n",
       "      <td>160.45</td>\n",
       "      <td>0.204</td>\n",
       "      <td>NaN</td>\n",
       "      <td>5.565250</td>\n",
       "      <td>202.651343</td>\n",
       "      <td>6.086460</td>\n",
       "      <td>0.665257</td>\n",
       "      <td>1.650</td>\n",
       "      <td>2.000</td>\n",
       "      <td>2020-08-11</td>\n",
       "    </tr>\n",
       "    <tr>\n",
       "      <th>2</th>\n",
       "      <td>2020-08-12 02:59:30</td>\n",
       "      <td>2020-08-12 10:52:30</td>\n",
       "      <td>21</td>\n",
       "      <td>lkkjddam</td>\n",
       "      <td>25</td>\n",
       "      <td>12</td>\n",
       "      <td>252.016667</td>\n",
       "      <td>2.040</td>\n",
       "      <td>NaN</td>\n",
       "      <td>10.271850</td>\n",
       "      <td>1596.122408</td>\n",
       "      <td>2.879650</td>\n",
       "      <td>0.939256</td>\n",
       "      <td>24.000000</td>\n",
       "      <td>33.0</td>\n",
       "      <td>108.60</td>\n",
       "      <td>0.204</td>\n",
       "      <td>NaN</td>\n",
       "      <td>0.512533</td>\n",
       "      <td>146.009840</td>\n",
       "      <td>5.472740</td>\n",
       "      <td>0.702017</td>\n",
       "      <td>0.000</td>\n",
       "      <td>1.500</td>\n",
       "      <td>2020-08-12</td>\n",
       "    </tr>\n",
       "    <tr>\n",
       "      <th>3</th>\n",
       "      <td>2020-08-14 03:05:00</td>\n",
       "      <td>2020-08-14 11:23:30</td>\n",
       "      <td>21</td>\n",
       "      <td>lkkjddam</td>\n",
       "      <td>25</td>\n",
       "      <td>12</td>\n",
       "      <td>223.700000</td>\n",
       "      <td>1.938</td>\n",
       "      <td>NaN</td>\n",
       "      <td>7.232700</td>\n",
       "      <td>1301.449844</td>\n",
       "      <td>1.232406</td>\n",
       "      <td>0.886675</td>\n",
       "      <td>25.000000</td>\n",
       "      <td>33.0</td>\n",
       "      <td>81.80</td>\n",
       "      <td>2.040</td>\n",
       "      <td>NaN</td>\n",
       "      <td>5.108383</td>\n",
       "      <td>233.372161</td>\n",
       "      <td>3.742991</td>\n",
       "      <td>0.736714</td>\n",
       "      <td>1.175</td>\n",
       "      <td>1.250</td>\n",
       "      <td>2020-08-14</td>\n",
       "    </tr>\n",
       "    <tr>\n",
       "      <th>4</th>\n",
       "      <td>2020-08-15 06:51:30</td>\n",
       "      <td>2020-08-15 11:30:00</td>\n",
       "      <td>21</td>\n",
       "      <td>lkkjddam</td>\n",
       "      <td>25</td>\n",
       "      <td>12</td>\n",
       "      <td>209.600000</td>\n",
       "      <td>2.040</td>\n",
       "      <td>NaN</td>\n",
       "      <td>10.886100</td>\n",
       "      <td>1274.110350</td>\n",
       "      <td>2.017288</td>\n",
       "      <td>1.046326</td>\n",
       "      <td>23.333333</td>\n",
       "      <td>34.0</td>\n",
       "      <td>149.30</td>\n",
       "      <td>0.136</td>\n",
       "      <td>NaN</td>\n",
       "      <td>0.684917</td>\n",
       "      <td>125.544723</td>\n",
       "      <td>43.415611</td>\n",
       "      <td>2.880943</td>\n",
       "      <td>1.000</td>\n",
       "      <td>2.575</td>\n",
       "      <td>2020-08-15</td>\n",
       "    </tr>\n",
       "  </tbody>\n",
       "</table>\n",
       "</div>"
      ],
      "text/plain": [
       "           start_time            end_time  beacon     beiwe  fitbit  redcap  \\\n",
       "0 2020-08-10 04:42:30 2020-08-10 12:35:30      21  lkkjddam      25      12   \n",
       "1 2020-08-11 03:35:00 2020-08-11 12:36:30      21  lkkjddam      25      12   \n",
       "2 2020-08-12 02:59:30 2020-08-12 10:52:30      21  lkkjddam      25      12   \n",
       "3 2020-08-14 03:05:00 2020-08-14 11:23:30      21  lkkjddam      25      12   \n",
       "4 2020-08-15 06:51:30 2020-08-15 11:30:00      21  lkkjddam      25      12   \n",
       "\n",
       "   tvoc_median  lux_median  no2_median  co_median   co2_median  \\\n",
       "0   126.658333       2.040         NaN  10.359917  1600.754959   \n",
       "1   233.566667       2.040         NaN   6.429275  1628.474180   \n",
       "2   252.016667       2.040         NaN  10.271850  1596.122408   \n",
       "3   223.700000       1.938         NaN   7.232700  1301.449844   \n",
       "4   209.600000       2.040         NaN  10.886100  1274.110350   \n",
       "\n",
       "   pm2p5_number_median  pm2p5_mass_median  temperature_c_median  rh_median  \\\n",
       "0             0.914249           0.895571             23.337500       33.0   \n",
       "1             1.287357           0.847762             25.000000       34.0   \n",
       "2             2.879650           0.939256             24.000000       33.0   \n",
       "3             1.232406           0.886675             25.000000       33.0   \n",
       "4             2.017288           1.046326             23.333333       34.0   \n",
       "\n",
       "   tvoc_delta  lux_delta  no2_delta  co_delta   co2_delta  pm2p5_number_delta  \\\n",
       "0       91.90      0.136        NaN  0.731650  304.035761            1.960803   \n",
       "1      160.45      0.204        NaN  5.565250  202.651343            6.086460   \n",
       "2      108.60      0.204        NaN  0.512533  146.009840            5.472740   \n",
       "3       81.80      2.040        NaN  5.108383  233.372161            3.742991   \n",
       "4      149.30      0.136        NaN  0.684917  125.544723           43.415611   \n",
       "\n",
       "   pm2p5_mass_delta  temperature_c_delta  rh_delta       date  \n",
       "0          0.620298                1.000     0.950 2020-08-10  \n",
       "1          0.665257                1.650     2.000 2020-08-11  \n",
       "2          0.702017                0.000     1.500 2020-08-12  \n",
       "3          0.736714                1.175     1.250 2020-08-14  \n",
       "4          2.880943                1.000     2.575 2020-08-15  "
      ]
     },
     "execution_count": 5,
     "metadata": {},
     "output_type": "execute_result"
    }
   ],
   "source": [
    "ieq_raw = pd.read_csv(\"../data/processed/beacon-fb_and_gps_filtered_summary-ux_s20.csv\",parse_dates=[\"start_time\",\"end_time\",],infer_datetime_format=True)\n",
    "ieq_raw.drop([c for c in ieq_raw.columns if c.endswith(\"percent\") or c.endswith(\"mean\")],axis=\"columns\",inplace=True)\n",
    "for bad_label in [\"long\",\"lat\",\"accuracy\",\"altitude\",\"pm1\",\"number\"]:\n",
    "    ieq_raw.drop([c for c in ieq_raw.columns if c.startswith(bad_label)],axis=\"columns\",inplace=True)\n",
    "\n",
    "ieq = ieq_raw.copy()\n",
    "ieq[\"date\"] = pd.to_datetime(ieq[\"end_time\"].dt.date)\n",
    "ieq.head()"
   ]
  },
  {
   "cell_type": "markdown",
   "metadata": {},
   "source": [
    "### Beiwe Mood\n",
    "Mood data as reported by participants on the EMAs."
   ]
  },
  {
   "cell_type": "code",
   "execution_count": 6,
   "metadata": {},
   "outputs": [
    {
     "data": {
      "text/html": [
       "<div>\n",
       "<style scoped>\n",
       "    .dataframe tbody tr th:only-of-type {\n",
       "        vertical-align: middle;\n",
       "    }\n",
       "\n",
       "    .dataframe tbody tr th {\n",
       "        vertical-align: top;\n",
       "    }\n",
       "\n",
       "    .dataframe thead th {\n",
       "        text-align: right;\n",
       "    }\n",
       "</style>\n",
       "<table border=\"1\" class=\"dataframe\">\n",
       "  <thead>\n",
       "    <tr style=\"text-align: right;\">\n",
       "      <th></th>\n",
       "      <th>timestamp_morning</th>\n",
       "      <th>beiwe</th>\n",
       "      <th>content_morning</th>\n",
       "      <th>stress_morning</th>\n",
       "      <th>lonely_morning</th>\n",
       "      <th>sad_morning</th>\n",
       "      <th>energy_morning</th>\n",
       "      <th>tst</th>\n",
       "      <th>sol</th>\n",
       "      <th>naw</th>\n",
       "      <th>restful</th>\n",
       "      <th>redcap</th>\n",
       "      <th>beacon</th>\n",
       "      <th>date</th>\n",
       "      <th>timestamp_evening</th>\n",
       "      <th>content_evening</th>\n",
       "      <th>stress_evening</th>\n",
       "      <th>lonely_evening</th>\n",
       "      <th>sad_evening</th>\n",
       "      <th>energy_evening</th>\n",
       "      <th>content_mean</th>\n",
       "      <th>stress_mean</th>\n",
       "      <th>lonely_mean</th>\n",
       "      <th>sad_mean</th>\n",
       "      <th>energy_mean</th>\n",
       "    </tr>\n",
       "  </thead>\n",
       "  <tbody>\n",
       "    <tr>\n",
       "      <th>0</th>\n",
       "      <td>2020-05-13 09:10:27</td>\n",
       "      <td>qh34m4r9</td>\n",
       "      <td>3</td>\n",
       "      <td>0.0</td>\n",
       "      <td>0.0</td>\n",
       "      <td>0.0</td>\n",
       "      <td>1.0</td>\n",
       "      <td>8.0</td>\n",
       "      <td>20.0</td>\n",
       "      <td>2.0</td>\n",
       "      <td>3.0</td>\n",
       "      <td>68</td>\n",
       "      <td>19.0</td>\n",
       "      <td>2020-05-13</td>\n",
       "      <td>2020-05-13 21:00:18</td>\n",
       "      <td>3.0</td>\n",
       "      <td>1.0</td>\n",
       "      <td>0.0</td>\n",
       "      <td>0.0</td>\n",
       "      <td>4.0</td>\n",
       "      <td>3.0</td>\n",
       "      <td>0.5</td>\n",
       "      <td>0.0</td>\n",
       "      <td>0.0</td>\n",
       "      <td>2.5</td>\n",
       "    </tr>\n",
       "    <tr>\n",
       "      <th>1</th>\n",
       "      <td>2020-05-13 09:15:49</td>\n",
       "      <td>awa8uces</td>\n",
       "      <td>0.0</td>\n",
       "      <td>2.0</td>\n",
       "      <td>1.0</td>\n",
       "      <td>1.0</td>\n",
       "      <td>1.0</td>\n",
       "      <td>2.0</td>\n",
       "      <td>10.0</td>\n",
       "      <td>3.0</td>\n",
       "      <td>1.0</td>\n",
       "      <td>28</td>\n",
       "      <td>26.0</td>\n",
       "      <td>2020-05-13</td>\n",
       "      <td>2020-05-13 19:00:23</td>\n",
       "      <td>1.0</td>\n",
       "      <td>1.0</td>\n",
       "      <td>1.0</td>\n",
       "      <td>3.0</td>\n",
       "      <td>2.0</td>\n",
       "      <td>1.0</td>\n",
       "      <td>1.5</td>\n",
       "      <td>1.0</td>\n",
       "      <td>2.0</td>\n",
       "      <td>1.5</td>\n",
       "    </tr>\n",
       "    <tr>\n",
       "      <th>2</th>\n",
       "      <td>2020-05-13 09:42:19</td>\n",
       "      <td>xxvnhauv</td>\n",
       "      <td>1</td>\n",
       "      <td>1.0</td>\n",
       "      <td>1.0</td>\n",
       "      <td>3.0</td>\n",
       "      <td>0.0</td>\n",
       "      <td>6.0</td>\n",
       "      <td>30.0</td>\n",
       "      <td>3.0</td>\n",
       "      <td>1.0</td>\n",
       "      <td>21</td>\n",
       "      <td>22.0</td>\n",
       "      <td>2020-05-13</td>\n",
       "      <td>2020-05-13 20:07:04</td>\n",
       "      <td>1.0</td>\n",
       "      <td>3.0</td>\n",
       "      <td>1.0</td>\n",
       "      <td>2.0</td>\n",
       "      <td>0.0</td>\n",
       "      <td>1.0</td>\n",
       "      <td>2.0</td>\n",
       "      <td>1.0</td>\n",
       "      <td>2.5</td>\n",
       "      <td>0.0</td>\n",
       "    </tr>\n",
       "    <tr>\n",
       "      <th>3</th>\n",
       "      <td>2020-05-13 09:43:27</td>\n",
       "      <td>rvhdl2la</td>\n",
       "      <td>1</td>\n",
       "      <td>1.0</td>\n",
       "      <td>2.0</td>\n",
       "      <td>3.0</td>\n",
       "      <td>0.0</td>\n",
       "      <td>5.3</td>\n",
       "      <td>5.0</td>\n",
       "      <td>2.0</td>\n",
       "      <td>2.0</td>\n",
       "      <td>29</td>\n",
       "      <td>NaN</td>\n",
       "      <td>2020-05-13</td>\n",
       "      <td>2020-05-13 19:30:38</td>\n",
       "      <td>2.0</td>\n",
       "      <td>1.0</td>\n",
       "      <td>0.0</td>\n",
       "      <td>0.0</td>\n",
       "      <td>1.0</td>\n",
       "      <td>2.0</td>\n",
       "      <td>1.0</td>\n",
       "      <td>1.0</td>\n",
       "      <td>1.5</td>\n",
       "      <td>0.5</td>\n",
       "    </tr>\n",
       "    <tr>\n",
       "      <th>4</th>\n",
       "      <td>2020-05-13 12:30:38</td>\n",
       "      <td>lkkjddam</td>\n",
       "      <td>1</td>\n",
       "      <td>1.0</td>\n",
       "      <td>3.0</td>\n",
       "      <td>3.0</td>\n",
       "      <td>2.0</td>\n",
       "      <td>7.0</td>\n",
       "      <td>45.0</td>\n",
       "      <td>2.0</td>\n",
       "      <td>1.0</td>\n",
       "      <td>12</td>\n",
       "      <td>21.0</td>\n",
       "      <td>2020-05-13</td>\n",
       "      <td>2020-05-13 19:21:32</td>\n",
       "      <td>0.0</td>\n",
       "      <td>2.0</td>\n",
       "      <td>3.0</td>\n",
       "      <td>1.0</td>\n",
       "      <td>0.0</td>\n",
       "      <td>0.0</td>\n",
       "      <td>1.5</td>\n",
       "      <td>3.0</td>\n",
       "      <td>2.0</td>\n",
       "      <td>1.0</td>\n",
       "    </tr>\n",
       "  </tbody>\n",
       "</table>\n",
       "</div>"
      ],
      "text/plain": [
       "    timestamp_morning     beiwe content_morning  stress_morning  \\\n",
       "0 2020-05-13 09:10:27  qh34m4r9               3             0.0   \n",
       "1 2020-05-13 09:15:49  awa8uces             0.0             2.0   \n",
       "2 2020-05-13 09:42:19  xxvnhauv               1             1.0   \n",
       "3 2020-05-13 09:43:27  rvhdl2la               1             1.0   \n",
       "4 2020-05-13 12:30:38  lkkjddam               1             1.0   \n",
       "\n",
       "   lonely_morning  sad_morning  energy_morning  tst   sol  naw  restful  \\\n",
       "0             0.0          0.0             1.0  8.0  20.0  2.0      3.0   \n",
       "1             1.0          1.0             1.0  2.0  10.0  3.0      1.0   \n",
       "2             1.0          3.0             0.0  6.0  30.0  3.0      1.0   \n",
       "3             2.0          3.0             0.0  5.3   5.0  2.0      2.0   \n",
       "4             3.0          3.0             2.0  7.0  45.0  2.0      1.0   \n",
       "\n",
       "   redcap  beacon       date   timestamp_evening  content_evening  \\\n",
       "0      68    19.0 2020-05-13 2020-05-13 21:00:18              3.0   \n",
       "1      28    26.0 2020-05-13 2020-05-13 19:00:23              1.0   \n",
       "2      21    22.0 2020-05-13 2020-05-13 20:07:04              1.0   \n",
       "3      29     NaN 2020-05-13 2020-05-13 19:30:38              2.0   \n",
       "4      12    21.0 2020-05-13 2020-05-13 19:21:32              0.0   \n",
       "\n",
       "   stress_evening  lonely_evening  sad_evening  energy_evening  content_mean  \\\n",
       "0             1.0             0.0          0.0             4.0           3.0   \n",
       "1             1.0             1.0          3.0             2.0           1.0   \n",
       "2             3.0             1.0          2.0             0.0           1.0   \n",
       "3             1.0             0.0          0.0             1.0           2.0   \n",
       "4             2.0             3.0          1.0             0.0           0.0   \n",
       "\n",
       "   stress_mean  lonely_mean  sad_mean  energy_mean  \n",
       "0          0.5          0.0       0.0          2.5  \n",
       "1          1.5          1.0       2.0          1.5  \n",
       "2          2.0          1.0       2.5          0.0  \n",
       "3          1.0          1.0       1.5          0.5  \n",
       "4          1.5          3.0       2.0          1.0  "
      ]
     },
     "execution_count": 6,
     "metadata": {},
     "output_type": "execute_result"
    }
   ],
   "source": [
    "bw_mood = pd.read_csv(\"../data/processed/beiwe-daily_ema-ux_s20.csv\",parse_dates=[\"date\",\"timestamp_morning\",\"timestamp_evening\"],infer_datetime_format=True)\n",
    "bw_mood.head()"
   ]
  },
  {
   "cell_type": "markdown",
   "metadata": {},
   "source": [
    "<a id=\"summary\"></a>"
   ]
  },
  {
   "cell_type": "markdown",
   "metadata": {},
   "source": [
    "# Data Summary and Feature/Target Identification\n",
    "The primary features are related to the IEQ dataset measured by the BEVO Beacons while the primary targets are both the Fitbit-measured and self-reported sleep quality metrics. However some features might be more or less pertinent than others. In these sections we summarize the data and identify which are the important variables to include in the subsequent analysis."
   ]
  },
  {
   "cell_type": "markdown",
   "metadata": {},
   "source": [
    "## Feature Identification\n",
    "We start with the features which consist primarily from the IEQ dataset, but might also include data from the mood EMAs. "
   ]
  },
  {
   "cell_type": "code",
   "execution_count": 7,
   "metadata": {},
   "outputs": [],
   "source": [
    "def plot_pollutant(df,pollutant=\"co2\"):\n",
    "    \"\"\"plots median and delta concentrations of the given pollutant\"\"\"\n",
    "    fig, axes = plt.subplots(1,2,figsize=(24,3),gridspec_kw={\"wspace\":0.1})\n",
    "    for aggregate, ax in zip([\"median\",\"delta\"],axes.flat):\n",
    "        sns.kdeplot(df[f\"{pollutant}_{aggregate}\"],cut=0,linewidth=2,color=\"black\",ax=ax)\n",
    "        # improving graph\n",
    "        for loc in [\"left\",\"top\",\"right\"]:\n",
    "            ax.spines[loc].set_visible(False)\n",
    "        ax.set_xlabel(aggregate.title() + \" \" + visualize.get_pollutant_label(pollutant))\n",
    "        ax.set_yticks([])\n",
    "        ax.set_ylabel(\"\")\n",
    "\n",
    "    plt.show()\n",
    "    plt.close()"
   ]
  },
  {
   "cell_type": "markdown",
   "metadata": {},
   "source": [
    "### IEQ Data\n",
    "There are a few pollutants and environmental parameters that we can consider:\n",
    "1. CO$_2$\n",
    "2. CO\n",
    "3. PM$_{2.5}$ (mass)\n",
    "3. PM$_{2.5}$ (number)\n",
    "4. NO$_2$\n",
    "5. TVOCs\n",
    "6. Temperature\n",
    "7. RH\n",
    "\n",
    "And two main aggregates to summarize the evening:\n",
    "1. Median (more typical in IAQ field versus mean)\n",
    "2. Delta\n",
    "\n",
    "The following cells will try to determine to what features are good candidates, both aggregates and pollutants."
   ]
  },
  {
   "cell_type": "code",
   "execution_count": 8,
   "metadata": {},
   "outputs": [
    {
     "name": "stdout",
     "output_type": "stream",
     "text": [
      "Number of observations:\n",
      "\tCO$_2$     332\n",
      "\tCO         332\n",
      "\tPM$_{2.5}$ 318\n",
      "\tPM$_{2.5}$ 318\n",
      "\tNO$_2$     139\n",
      "\tTVOC       331\n"
     ]
    }
   ],
   "source": [
    "pollutants_for_consideration = [\"co2\",\"co\",\"pm2p5_mass\",\"pm2p5_number\",\"no2\",\"tvoc\"]\n",
    "print(\"Number of observations:\")\n",
    "for pollutant in pollutants_for_consideration:\n",
    "    print(f\"\\t{visualize.get_pollutant_label(pollutant):<10s} {len(ieq[f'{pollutant}_median'].dropna())}\")"
   ]
  },
  {
   "cell_type": "markdown",
   "metadata": {},
   "source": [
    "#### CO$_2$\n",
    "Carbon dioxide is implicated in nearly all studies relating IAQ and sleep quality, is one of the most robust sensors on the beacon, and can be used as a proxy for other pollutants."
   ]
  },
  {
   "cell_type": "markdown",
   "metadata": {},
   "source": [
    "<div class=\"alert alert-block alert-success\">\n",
    " \n",
    "CO$_2$ is a good candidate pollutant to include because of its history in the field.\n",
    "    \n",
    "</div>"
   ]
  },
  {
   "cell_type": "markdown",
   "metadata": {},
   "source": [
    "#### CO\n",
    "We start by plotting all the measured values."
   ]
  },
  {
   "cell_type": "code",
   "execution_count": 9,
   "metadata": {},
   "outputs": [
    {
     "data": {
      "image/png": "[encoded data removed]",
      "text/plain": [
       "<Figure size 1728x216 with 2 Axes>"
      ]
     },
     "metadata": {
      "needs_background": "light"
     },
     "output_type": "display_data"
    }
   ],
   "source": [
    "plot_pollutant(ieq,\"co\")"
   ]
  },
  {
   "cell_type": "markdown",
   "metadata": {},
   "source": [
    "<div class=\"alert alert-block alert-success\">\n",
    " \n",
    "CO, while the measurements are slightly elevated from what is typically found in apartments (see [Jo and Lee, 2016](https://www.sciencedirect.com/science/article/pii/S1352231006005176?casa_token=htmTQdXyFpYAAAAA:rsTEojfxlUHuYI7AlBt5I16TZSsbc2t2Wyd-Wd9sAg6TR7RGzs1XLeaI50udw1NU10BIUhXA)), is still a good candidate since we are primarily concerned with how changes in concentration might affect sleep quality, not the accuracy of our measurements.\n",
    "    \n",
    "</div>"
   ]
  },
  {
   "cell_type": "markdown",
   "metadata": {},
   "source": [
    "#### PM$_{2.5}$\n",
    "We consider both number and mass here and start by examining the relationship between the two"
   ]
  },
  {
   "cell_type": "code",
   "execution_count": 10,
   "metadata": {},
   "outputs": [],
   "source": [
    "def plot_correlation(df_in,x=\"pm2p5_mass_median\",y=\"pm2p5_number_median\"):\n",
    "    \"\"\"Plots the correlation between two pollutant median\"\"\"\n",
    "    df = df_in[[x,y]].dropna()\n",
    "    fig, ax = plt.subplots(figsize=(4,4))\n",
    "    sns.regplot(x=x,y=y,data=df,ax=ax)\n",
    "    for loc in [\"top\",\"right\"]:\n",
    "        ax.spines[loc].set_visible(False)\n",
    "\n",
    "    ax.set_xlabel(f\"{visualize.get_pollutant_label(x.split('_median')[0])} ({visualize.get_pollutant_units(x.split('_median')[0])})\")\n",
    "    ax.set_ylabel(f\"{visualize.get_pollutant_label(y.split('_median')[0])} ({visualize.get_pollutant_units(y.split('_median')[0])})\")\n",
    "\n",
    "    r = np.corrcoef(df[x].values,df[y].values)\n",
    "    ax.set_title(f\"r$^2$: {round(r[1,0],2)}\")\n",
    "\n",
    "    plt.show()\n",
    "    plt.close()"
   ]
  },
  {
   "cell_type": "code",
   "execution_count": 11,
   "metadata": {},
   "outputs": [
    {
     "data": {
      "image/png": "[encoded data removed]",
      "text/plain": [
       "<Figure size 288x288 with 1 Axes>"
      ]
     },
     "metadata": {
      "needs_background": "light"
     },
     "output_type": "display_data"
    }
   ],
   "source": [
    "plot_correlation(ieq,x=\"pm2p5_mass_median\",y=\"pm2p5_number_median\")"
   ]
  },
  {
   "cell_type": "markdown",
   "metadata": {},
   "source": [
    "<div class=\"alert alert-block alert-success\">\n",
    " \n",
    "PM$_{2.5}$ (mass), like CO$_2$ has been implicated in multiple studies to affect sleep quality and we can also _more_ readily trust the measurements from this sensor therefore this measurement is a good candidate. \n",
    "    \n",
    "</div>"
   ]
  },
  {
   "cell_type": "markdown",
   "metadata": {},
   "source": [
    "<div class=\"alert alert-block alert-danger\">\n",
    " \n",
    "PM$_{2.5}$ (number) is an important variable to measure but has a significant correlation with the mass concentration. Rather than complicate the model with an additional feature, we can remove this one in favor of simplifying the model. The mass concentration is also easier to converse about rather than the number concentration. \n",
    "    \n",
    "</div>"
   ]
  },
  {
   "cell_type": "markdown",
   "metadata": {},
   "source": [
    "#### NO$_2$\n",
    "A promising, new candidate. We start by visualizing the data we have."
   ]
  },
  {
   "cell_type": "code",
   "execution_count": 12,
   "metadata": {},
   "outputs": [
    {
     "data": {
      "image/png": "[encoded data removed]",
      "text/plain": [
       "<Figure size 1728x216 with 2 Axes>"
      ]
     },
     "metadata": {
      "needs_background": "light"
     },
     "output_type": "display_data"
    }
   ],
   "source": [
    "plot_pollutant(ieq,\"no2\")"
   ]
  },
  {
   "cell_type": "markdown",
   "metadata": {},
   "source": [
    "<div class=\"alert alert-block alert-danger\">\n",
    " \n",
    "There are a few reasons not to include the NO$_2$ measurements:\n",
    "* We have a limited number of observations\n",
    "* There are negative values present after calibration\n",
    "* The measured differences are less than 1 ppb. Those different are _highly_ unlikely to be noticed by the human body.\n",
    "    \n",
    "</div>"
   ]
  },
  {
   "cell_type": "markdown",
   "metadata": {},
   "source": [
    "#### TVOC\n",
    "TVOCs are already a controversial pollutant to include, but we can start by visualizing the measured concentrations."
   ]
  },
  {
   "cell_type": "code",
   "execution_count": 13,
   "metadata": {},
   "outputs": [
    {
     "data": {
      "image/png": "[encoded data removed]",
      "text/plain": [
       "<Figure size 1728x216 with 2 Axes>"
      ]
     },
     "metadata": {
      "needs_background": "light"
     },
     "output_type": "display_data"
    }
   ],
   "source": [
    "plot_pollutant(ieq,\"tvoc\")"
   ]
  },
  {
   "cell_type": "markdown",
   "metadata": {},
   "source": [
    "<div class=\"alert alert-block alert-success\">\n",
    " \n",
    "These values seem reasonable given similar measurements made in the literature so we can include TVOCs as a potential candidate. \n",
    "    \n",
    "</div>"
   ]
  },
  {
   "cell_type": "markdown",
   "metadata": {},
   "source": [
    "#### Temperature and Relative Humidity\n",
    "Often taken together, we consider both here."
   ]
  },
  {
   "cell_type": "code",
   "execution_count": 14,
   "metadata": {},
   "outputs": [
    {
     "data": {
      "image/png": "[encoded data removed]",
      "text/plain": [
       "<Figure size 288x288 with 1 Axes>"
      ]
     },
     "metadata": {
      "needs_background": "light"
     },
     "output_type": "display_data"
    }
   ],
   "source": [
    "plot_correlation(ieq,x=\"temperature_c_median\",y=\"rh_median\")"
   ]
  },
  {
   "cell_type": "code",
   "execution_count": 15,
   "metadata": {},
   "outputs": [
    {
     "data": {
      "image/png": "[encoded data removed]",
      "text/plain": [
       "<Figure size 1728x216 with 2 Axes>"
      ]
     },
     "metadata": {
      "needs_background": "light"
     },
     "output_type": "display_data"
    }
   ],
   "source": [
    "plot_pollutant(ieq,\"temperature_c\")"
   ]
  },
  {
   "cell_type": "markdown",
   "metadata": {},
   "source": [
    "<div class=\"alert alert-block alert-success\">\n",
    " \n",
    "Although our temperatures are probably 1 or 2$^\\circ$C higher than normal, they are still in a decent range and temperature is an important component of sleep quality so we should include it. \n",
    "    \n",
    "</div>"
   ]
  },
  {
   "cell_type": "code",
   "execution_count": 16,
   "metadata": {},
   "outputs": [
    {
     "data": {
      "image/png": "[encoded data removed]",
      "text/plain": [
       "<Figure size 1728x216 with 2 Axes>"
      ]
     },
     "metadata": {
      "needs_background": "light"
     },
     "output_type": "display_data"
    }
   ],
   "source": [
    "plot_pollutant(ieq,\"rh\")"
   ]
  },
  {
   "cell_type": "markdown",
   "metadata": {},
   "source": [
    "<div class=\"alert alert-block alert-success\">\n",
    " \n",
    "Relative Humidity, unlike temperature, is a bit lower than expected by 5-10% assuming 50% is common in indoor environments during summer. However, we should also include this metric since it might be key in determining sleep quality.\n",
    "    \n",
    "</div>"
   ]
  },
  {
   "cell_type": "markdown",
   "metadata": {},
   "source": [
    "### Mood\n",
    "While not the main feature to include, there might be components of mood that are relevant for sleep, primarily:\n",
    "1. content\n",
    "2. stress\n",
    "3. energy\n",
    "4. sad\n",
    "\n",
    "The mood scores we use should be those from the nightly EMAs filled out the night prior to the sleep event. These data have already been processed and are imported here. The process is not as straightforward since the participant might fill the EMA out around 21:00 on Day 1 but sleep at 1:00 on Day 2. That EMA would consist of data relevant for the sleep event that happened in the early morning. The process of investigating situations like these have already been completed and included in the following dataset."
   ]
  },
  {
   "cell_type": "code",
   "execution_count": 17,
   "metadata": {},
   "outputs": [
    {
     "name": "stdout",
     "output_type": "stream",
     "text": [
      "Number of observations: 736\n"
     ]
    }
   ],
   "source": [
    "mood_evening = pd.read_csv(\"../data/processed/beiwe_fitbit-evening_mood_and_sleep-ux_s20.csv\")\n",
    "print(f\"Number of observations:\", len(mood_evening))"
   ]
  },
  {
   "cell_type": "code",
   "execution_count": 73,
   "metadata": {},
   "outputs": [],
   "source": [
    "def plot_mood_bar(df, mood=\"content\",annotate=True):\n",
    "    \"\"\"Creates a bar plot for the given mood\"\"\"\n",
    "    \n",
    "    df_to_plot = df[mood]\n",
    "    fig, ax = plt.subplots(figsize=(8,3))\n",
    "    ns = dict(mood_evening[mood].value_counts())\n",
    "    ax.bar(ns.keys(),ns.values(),color=\"cornflowerblue\",edgecolor=\"black\")\n",
    "    # x-axis\n",
    "    ax.set_xticks(list(ns.keys()))\n",
    "    ax.set_xticklabels(list(ns.keys()),fontsize=12)\n",
    "    ax.set_xlabel(mood.title(),fontsize=14)\n",
    "    # y-axis\n",
    "    plt.yticks(fontsize=12)\n",
    "    ax.set_ylabel(\"Count\",fontsize=14)\n",
    "    for loc in [\"top\",\"right\"]:\n",
    "        ax.spines[loc].set_visible(False)\n",
    "    if annotate:\n",
    "        for score, n in ns.items():\n",
    "            ax.text(score,n*1.1,n,ha=\"center\",va=\"bottom\",fontsize=12)"
   ]
  },
  {
   "cell_type": "markdown",
   "metadata": {},
   "source": [
    "#### Content"
   ]
  },
  {
   "cell_type": "code",
   "execution_count": 69,
   "metadata": {},
   "outputs": [
    {
     "data": {
      "image/png": "[encoded data removed]",
      "text/plain": [
       "<Figure size 576x216 with 1 Axes>"
      ]
     },
     "metadata": {
      "needs_background": "light"
     },
     "output_type": "display_data"
    }
   ],
   "source": [
    "plot_mood_bar(mood_evening)"
   ]
  },
  {
   "cell_type": "markdown",
   "metadata": {},
   "source": [
    "#### Stress"
   ]
  },
  {
   "cell_type": "code",
   "execution_count": 70,
   "metadata": {},
   "outputs": [
    {
     "data": {
      "image/png": "[encoded data removed]",
      "text/plain": [
       "<Figure size 576x216 with 1 Axes>"
      ]
     },
     "metadata": {
      "needs_background": "light"
     },
     "output_type": "display_data"
    }
   ],
   "source": [
    "plot_mood_bar(mood_evening,\"stress\")"
   ]
  },
  {
   "cell_type": "markdown",
   "metadata": {},
   "source": [
    "#### Energy"
   ]
  },
  {
   "cell_type": "code",
   "execution_count": 71,
   "metadata": {},
   "outputs": [
    {
     "data": {
      "image/png": "[encoded data removed]",
      "text/plain": [
       "<Figure size 576x216 with 1 Axes>"
      ]
     },
     "metadata": {
      "needs_background": "light"
     },
     "output_type": "display_data"
    }
   ],
   "source": [
    "plot_mood_bar(mood_evening,\"energy\")"
   ]
  },
  {
   "cell_type": "markdown",
   "metadata": {},
   "source": [
    "#### Sad"
   ]
  },
  {
   "cell_type": "code",
   "execution_count": 72,
   "metadata": {},
   "outputs": [
    {
     "data": {
      "image/png": "[encoded data removed]",
      "text/plain": [
       "<Figure size 576x216 with 1 Axes>"
      ]
     },
     "metadata": {
      "needs_background": "light"
     },
     "output_type": "display_data"
    }
   ],
   "source": [
    "plot_mood_bar(mood_evening,\"sad\")"
   ]
  },
  {
   "cell_type": "markdown",
   "metadata": {},
   "source": [
    "## Target Identification\n",
    "The primary target variables are going to be those associated with sleep. "
   ]
  },
  {
   "cell_type": "markdown",
   "metadata": {},
   "source": [
    "### Fitbit-Monitored Sleep\n",
    "There is quite a bit of sleep-related information from Fitbit, raw or otherwise. Here we look at the various variables to see which is important for sleep prediction. The variables we are interested in, at least initially, are:\n",
    "1. efficiency\n",
    "2. REM:nREM\n",
    "3. TST\n",
    "4. REM\n",
    "5. nREM\n",
    "6. WASO\n",
    "7. SOL\n",
    "\n",
    "We also want to explore this relationship between the `count` and the `minutes` measurements to see how strong the relationship is and whether or not included the `count` measurements make sense."
   ]
  },
  {
   "cell_type": "code",
   "execution_count": 75,
   "metadata": {},
   "outputs": [
    {
     "data": {
      "text/html": [
       "<div>\n",
       "<style scoped>\n",
       "    .dataframe tbody tr th:only-of-type {\n",
       "        vertical-align: middle;\n",
       "    }\n",
       "\n",
       "    .dataframe tbody tr th {\n",
       "        vertical-align: top;\n",
       "    }\n",
       "\n",
       "    .dataframe thead th {\n",
       "        text-align: right;\n",
       "    }\n",
       "</style>\n",
       "<table border=\"1\" class=\"dataframe\">\n",
       "  <thead>\n",
       "    <tr style=\"text-align: right;\">\n",
       "      <th></th>\n",
       "      <th>start_date</th>\n",
       "      <th>end_date</th>\n",
       "      <th>deep_count</th>\n",
       "      <th>deep_minutes</th>\n",
       "      <th>light_count</th>\n",
       "      <th>light_minutes</th>\n",
       "      <th>rem_count</th>\n",
       "      <th>rem_minutes</th>\n",
       "      <th>wake_count</th>\n",
       "      <th>wake_minutes</th>\n",
       "      <th>beiwe</th>\n",
       "      <th>efficiency</th>\n",
       "      <th>end_time</th>\n",
       "      <th>start_time</th>\n",
       "      <th>redcap</th>\n",
       "      <th>beacon</th>\n",
       "      <th>nrem_count</th>\n",
       "      <th>rem2nrem_count</th>\n",
       "      <th>nrem_minutes</th>\n",
       "      <th>rem2nrem_minutes</th>\n",
       "      <th>tst_fb</th>\n",
       "      <th>rem_percent</th>\n",
       "      <th>nrem_percent</th>\n",
       "      <th>waso</th>\n",
       "      <th>sol_fb</th>\n",
       "    </tr>\n",
       "  </thead>\n",
       "  <tbody>\n",
       "    <tr>\n",
       "      <th>0</th>\n",
       "      <td>2020-05-14</td>\n",
       "      <td>2020-05-14</td>\n",
       "      <td>5</td>\n",
       "      <td>84</td>\n",
       "      <td>20</td>\n",
       "      <td>213</td>\n",
       "      <td>10</td>\n",
       "      <td>82</td>\n",
       "      <td>21</td>\n",
       "      <td>27</td>\n",
       "      <td>hfttkth7</td>\n",
       "      <td>97</td>\n",
       "      <td>2020-05-14 07:13:00</td>\n",
       "      <td>2020-05-14 00:27:00</td>\n",
       "      <td>NaN</td>\n",
       "      <td>NaN</td>\n",
       "      <td>25</td>\n",
       "      <td>0.400000</td>\n",
       "      <td>297</td>\n",
       "      <td>0.276094</td>\n",
       "      <td>6.766667</td>\n",
       "      <td>0.201970</td>\n",
       "      <td>0.731527</td>\n",
       "      <td>12.18</td>\n",
       "      <td>14.82</td>\n",
       "    </tr>\n",
       "    <tr>\n",
       "      <th>1</th>\n",
       "      <td>2020-05-14</td>\n",
       "      <td>2020-05-15</td>\n",
       "      <td>4</td>\n",
       "      <td>95</td>\n",
       "      <td>31</td>\n",
       "      <td>250</td>\n",
       "      <td>6</td>\n",
       "      <td>47</td>\n",
       "      <td>33</td>\n",
       "      <td>101</td>\n",
       "      <td>hfttkth7</td>\n",
       "      <td>87</td>\n",
       "      <td>2020-05-15 08:06:30</td>\n",
       "      <td>2020-05-14 23:53:30</td>\n",
       "      <td>NaN</td>\n",
       "      <td>NaN</td>\n",
       "      <td>35</td>\n",
       "      <td>0.171429</td>\n",
       "      <td>345</td>\n",
       "      <td>0.136232</td>\n",
       "      <td>8.216667</td>\n",
       "      <td>0.095335</td>\n",
       "      <td>0.699797</td>\n",
       "      <td>64.09</td>\n",
       "      <td>36.91</td>\n",
       "    </tr>\n",
       "    <tr>\n",
       "      <th>2</th>\n",
       "      <td>2020-05-15</td>\n",
       "      <td>2020-05-16</td>\n",
       "      <td>2</td>\n",
       "      <td>47</td>\n",
       "      <td>17</td>\n",
       "      <td>190</td>\n",
       "      <td>8</td>\n",
       "      <td>50</td>\n",
       "      <td>20</td>\n",
       "      <td>42</td>\n",
       "      <td>hfttkth7</td>\n",
       "      <td>95</td>\n",
       "      <td>2020-05-16 04:57:00</td>\n",
       "      <td>2020-05-15 23:28:00</td>\n",
       "      <td>NaN</td>\n",
       "      <td>NaN</td>\n",
       "      <td>19</td>\n",
       "      <td>0.421053</td>\n",
       "      <td>237</td>\n",
       "      <td>0.210970</td>\n",
       "      <td>5.483333</td>\n",
       "      <td>0.151976</td>\n",
       "      <td>0.720365</td>\n",
       "      <td>16.45</td>\n",
       "      <td>25.55</td>\n",
       "    </tr>\n",
       "    <tr>\n",
       "      <th>3</th>\n",
       "      <td>2020-05-17</td>\n",
       "      <td>2020-05-17</td>\n",
       "      <td>5</td>\n",
       "      <td>78</td>\n",
       "      <td>21</td>\n",
       "      <td>242</td>\n",
       "      <td>11</td>\n",
       "      <td>83</td>\n",
       "      <td>25</td>\n",
       "      <td>44</td>\n",
       "      <td>hfttkth7</td>\n",
       "      <td>96</td>\n",
       "      <td>2020-05-17 09:28:30</td>\n",
       "      <td>2020-05-17 02:01:30</td>\n",
       "      <td>NaN</td>\n",
       "      <td>NaN</td>\n",
       "      <td>26</td>\n",
       "      <td>0.423077</td>\n",
       "      <td>320</td>\n",
       "      <td>0.259375</td>\n",
       "      <td>7.450000</td>\n",
       "      <td>0.185682</td>\n",
       "      <td>0.715884</td>\n",
       "      <td>17.88</td>\n",
       "      <td>26.12</td>\n",
       "    </tr>\n",
       "    <tr>\n",
       "      <th>4</th>\n",
       "      <td>2020-05-18</td>\n",
       "      <td>2020-05-18</td>\n",
       "      <td>5</td>\n",
       "      <td>96</td>\n",
       "      <td>20</td>\n",
       "      <td>167</td>\n",
       "      <td>14</td>\n",
       "      <td>88</td>\n",
       "      <td>28</td>\n",
       "      <td>65</td>\n",
       "      <td>hfttkth7</td>\n",
       "      <td>92</td>\n",
       "      <td>2020-05-18 07:20:00</td>\n",
       "      <td>2020-05-18 00:24:00</td>\n",
       "      <td>NaN</td>\n",
       "      <td>NaN</td>\n",
       "      <td>25</td>\n",
       "      <td>0.560000</td>\n",
       "      <td>263</td>\n",
       "      <td>0.334601</td>\n",
       "      <td>6.933333</td>\n",
       "      <td>0.211538</td>\n",
       "      <td>0.632212</td>\n",
       "      <td>33.28</td>\n",
       "      <td>31.72</td>\n",
       "    </tr>\n",
       "  </tbody>\n",
       "</table>\n",
       "</div>"
      ],
      "text/plain": [
       "  start_date   end_date  deep_count  deep_minutes  light_count  light_minutes  \\\n",
       "0 2020-05-14 2020-05-14           5            84           20            213   \n",
       "1 2020-05-14 2020-05-15           4            95           31            250   \n",
       "2 2020-05-15 2020-05-16           2            47           17            190   \n",
       "3 2020-05-17 2020-05-17           5            78           21            242   \n",
       "4 2020-05-18 2020-05-18           5            96           20            167   \n",
       "\n",
       "   rem_count  rem_minutes  wake_count  wake_minutes     beiwe  efficiency  \\\n",
       "0         10           82          21            27  hfttkth7          97   \n",
       "1          6           47          33           101  hfttkth7          87   \n",
       "2          8           50          20            42  hfttkth7          95   \n",
       "3         11           83          25            44  hfttkth7          96   \n",
       "4         14           88          28            65  hfttkth7          92   \n",
       "\n",
       "             end_time          start_time  redcap  beacon  nrem_count  \\\n",
       "0 2020-05-14 07:13:00 2020-05-14 00:27:00     NaN     NaN          25   \n",
       "1 2020-05-15 08:06:30 2020-05-14 23:53:30     NaN     NaN          35   \n",
       "2 2020-05-16 04:57:00 2020-05-15 23:28:00     NaN     NaN          19   \n",
       "3 2020-05-17 09:28:30 2020-05-17 02:01:30     NaN     NaN          26   \n",
       "4 2020-05-18 07:20:00 2020-05-18 00:24:00     NaN     NaN          25   \n",
       "\n",
       "   rem2nrem_count  nrem_minutes  rem2nrem_minutes    tst_fb  rem_percent  \\\n",
       "0        0.400000           297          0.276094  6.766667     0.201970   \n",
       "1        0.171429           345          0.136232  8.216667     0.095335   \n",
       "2        0.421053           237          0.210970  5.483333     0.151976   \n",
       "3        0.423077           320          0.259375  7.450000     0.185682   \n",
       "4        0.560000           263          0.334601  6.933333     0.211538   \n",
       "\n",
       "   nrem_percent   waso  sol_fb  \n",
       "0      0.731527  12.18   14.82  \n",
       "1      0.699797  64.09   36.91  \n",
       "2      0.720365  16.45   25.55  \n",
       "3      0.715884  17.88   26.12  \n",
       "4      0.632212  33.28   31.72  "
      ]
     },
     "execution_count": 75,
     "metadata": {},
     "output_type": "execute_result"
    }
   ],
   "source": [
    "fb_sleep.head()"
   ]
  },
  {
   "cell_type": "markdown",
   "metadata": {},
   "source": [
    "#### Efficiency, TST, WASO, SOL\n",
    "These metrics are used time and time again in the sleep literature and help to fully understand multiple aspects of a person's sleep."
   ]
  },
  {
   "cell_type": "markdown",
   "metadata": {},
   "source": [
    "<div class=\"alert alert-block alert-success\">\n",
    " \n",
    "These variables are automatically included because of their relevance in the sleep world.\n",
    "    \n",
    "</div>"
   ]
  },
  {
   "cell_type": "markdown",
   "metadata": {},
   "source": [
    "#### REM, nREM, REM:nREM\n",
    "I think there is merit including all three of these variables since although the ratio might capture a lot of the behavior."
   ]
  },
  {
   "cell_type": "code",
   "execution_count": 77,
   "metadata": {},
   "outputs": [
    {
     "data": {
      "image/png": "[encoded data removed]",
      "text/plain": [
       "<Figure size 288x288 with 1 Axes>"
      ]
     },
     "metadata": {
      "needs_background": "light"
     },
     "output_type": "display_data"
    }
   ],
   "source": [
    "plot_correlation(fb_sleep,x=\"rem2nrem_minutes\",y=\"rem_percent\")"
   ]
  },
  {
   "cell_type": "code",
   "execution_count": 78,
   "metadata": {},
   "outputs": [
    {
     "data": {
      "image/png": "[encoded data removed]",
      "text/plain": [
       "<Figure size 288x288 with 1 Axes>"
      ]
     },
     "metadata": {
      "needs_background": "light"
     },
     "output_type": "display_data"
    }
   ],
   "source": [
    "plot_correlation(fb_sleep,x=\"rem2nrem_minutes\",y=\"nrem_percent\")"
   ]
  },
  {
   "cell_type": "markdown",
   "metadata": {},
   "source": [
    "### Self-Report Sleep\n"
   ]
  },
  {
   "cell_type": "markdown",
   "metadata": {},
   "source": [
    "# IEQ Clustering\n",
    "It would be interesting to see if there are any clusters that arise from the data by looking at the median concentrations of a few pollutants"
   ]
  },
  {
   "cell_type": "code",
   "execution_count": 18,
   "metadata": {},
   "outputs": [],
   "source": [
    "from sklearn.cluster import KMeans"
   ]
  },
  {
   "cell_type": "markdown",
   "metadata": {},
   "source": [
    "## Getting Features for Cluster"
   ]
  },
  {
   "cell_type": "code",
   "execution_count": 19,
   "metadata": {},
   "outputs": [],
   "source": [
    "X = ieq[[column for column in ieq.columns if column.endswith(\"median\") and not column.startswith(\"no2\")]]\n",
    "X.dropna(inplace=True)\n",
    "X_norm = (X-X.min())/(X.max()-X.min())"
   ]
  },
  {
   "cell_type": "markdown",
   "metadata": {},
   "source": [
    "## Elbow Method for Determining k"
   ]
  },
  {
   "cell_type": "code",
   "execution_count": 20,
   "metadata": {},
   "outputs": [
    {
     "data": {
      "image/png": "[encoded data removed]",
      "text/plain": [
       "<Figure size 360x360 with 1 Axes>"
      ]
     },
     "metadata": {
      "needs_background": "light"
     },
     "output_type": "display_data"
    }
   ],
   "source": [
    "# getting sum of squared distance for different k\n",
    "errors = []\n",
    "for k in range(2,11,1):\n",
    "    model = KMeans(n_clusters=k)\n",
    "    model.fit(X)\n",
    "    errors.append(model.inertia_)\n",
    "    \n",
    "# plotting\n",
    "fig, ax = plt.subplots(figsize=(5,5))\n",
    "ax.plot(range(2,11,1),errors,linewidth=2,color=\"cornflowerblue\")\n",
    "## x-axis\n",
    "ax.set_xlabel(\"Number of Clusters\",fontsize=16)\n",
    "plt.xticks(fontsize=14)\n",
    "## y-axis\n",
    "ax.set_ylabel(\"Sum of Squared Distance\",fontsize=16)\n",
    "plt.yticks(fontsize=14)\n",
    "## remainder\n",
    "for loc in [\"top\",\"right\"]:\n",
    "    ax.spines[loc].set_visible(False)\n",
    "    \n",
    "plt.show()\n",
    "plt.close()"
   ]
  },
  {
   "cell_type": "markdown",
   "metadata": {},
   "source": [
    "<div class=\"alert alert-block alert-success\">\n",
    " \n",
    "Looks like the optimal number of clusters is close to **3**.\n",
    "    \n",
    "</div>"
   ]
  },
  {
   "cell_type": "markdown",
   "metadata": {},
   "source": [
    "## Creating the model"
   ]
  },
  {
   "cell_type": "code",
   "execution_count": 21,
   "metadata": {},
   "outputs": [
    {
     "name": "stdout",
     "output_type": "stream",
     "text": [
      "Number of points in Cluster 0: 175\n",
      "Number of points in Cluster 1: 25\n",
      "Number of points in Cluster 2: 115\n"
     ]
    }
   ],
   "source": [
    "k=3\n",
    "kmeans = KMeans(n_clusters=k)\n",
    "cluster = kmeans.fit(X_norm)\n",
    "for c in range(k):\n",
    "    n_points = len(cluster.labels_[cluster.labels_ == c])\n",
    "    print(f\"Number of points in Cluster {c}: {n_points}\")\n",
    "X_norm[\"cluster\"] = cluster.labels_"
   ]
  },
  {
   "cell_type": "markdown",
   "metadata": {},
   "source": [
    "## Checking Distributions of Features to Visually Inspect Clusters"
   ]
  },
  {
   "cell_type": "code",
   "execution_count": 22,
   "metadata": {
    "scrolled": false
   },
   "outputs": [
    {
     "data": {
      "image/png": "[encoded data removed]",
      "text/plain": [
       "<Figure size 864x216 with 1 Axes>"
      ]
     },
     "metadata": {
      "needs_background": "light"
     },
     "output_type": "display_data"
    },
    {
     "data": {
      "image/png": "[encoded data removed]",
      "text/plain": [
       "<Figure size 864x216 with 1 Axes>"
      ]
     },
     "metadata": {
      "needs_background": "light"
     },
     "output_type": "display_data"
    },
    {
     "data": {
      "image/png": "[encoded data removed]",
      "text/plain": [
       "<Figure size 864x216 with 1 Axes>"
      ]
     },
     "metadata": {
      "needs_background": "light"
     },
     "output_type": "display_data"
    },
    {
     "data": {
      "image/png": "[encoded data removed]",
      "text/plain": [
       "<Figure size 864x216 with 1 Axes>"
      ]
     },
     "metadata": {
      "needs_background": "light"
     },
     "output_type": "display_data"
    },
    {
     "data": {
      "image/png": "[encoded data removed]",
      "text/plain": [
       "<Figure size 864x216 with 1 Axes>"
      ]
     },
     "metadata": {
      "needs_background": "light"
     },
     "output_type": "display_data"
    },
    {
     "data": {
      "image/png": "[encoded data removed]",
      "text/plain": [
       "<Figure size 864x216 with 1 Axes>"
      ]
     },
     "metadata": {
      "needs_background": "light"
     },
     "output_type": "display_data"
    },
    {
     "data": {
      "image/png": "[encoded data removed]",
      "text/plain": [
       "<Figure size 864x216 with 1 Axes>"
      ]
     },
     "metadata": {
      "needs_background": "light"
     },
     "output_type": "display_data"
    },
    {
     "data": {
      "image/png": "[encoded data removed]",
      "text/plain": [
       "<Figure size 864x216 with 1 Axes>"
      ]
     },
     "metadata": {
      "needs_background": "light"
     },
     "output_type": "display_data"
    }
   ],
   "source": [
    "for var in X_norm.columns:\n",
    "    if var not in [\"cluster\"]:\n",
    "        fig, ax = plt.subplots(figsize=(12,3))\n",
    "        for c in X_norm[\"cluster\"].unique():\n",
    "            to_plot = X_norm[X_norm[\"cluster\"] == c]\n",
    "            sns.kdeplot(to_plot[var],ax=ax,label=c)\n",
    "        # improving graph\n",
    "        for loc in [\"left\",\"top\",\"right\"]:\n",
    "            ax.spines[loc].set_visible(False)\n",
    "        ax.set_xlabel(\"Normalized \" + visualize.get_pollutant_label(var.split(\"_median\")[0]))\n",
    "        ax.set_yticks([])\n",
    "        \n",
    "        plt.show()\n",
    "        plt.close()"
   ]
  },
  {
   "cell_type": "markdown",
   "metadata": {},
   "source": [
    "Looks like the following algorithm identified the clusters based on `temperature_c` measurements for the most part, but with some other considerations:\n",
    "\n",
    "**0**: Largest cluster of 174 data points characterized by high `temperature_c` and typical `co2` and `co` concentrations.\n",
    "\n",
    "**1**: Smallest cluster of 25 data points characterized by low `rh` and `temperature_c` and high `co2` and `co`.\n",
    "\n",
    "**2**: Cluster of 116 datapoints with typical `temperature_c` and low `co2`. \n",
    "\n",
    "Some other important notes:\n",
    "* The clusters seem to be nearly no weight on `tvoc` with all distributions peaking around 0.2 normalized TVOC.\n",
    "* Similarly, little information can be gained from the `pm2p5` measurements."
   ]
  },
  {
   "cell_type": "markdown",
   "metadata": {},
   "source": [
    "# Predicting Restfulness from IEQ\n",
    "We start with trying to predict `restfulness` by only considering the IEQ data from the BEVO Beacon."
   ]
  },
  {
   "cell_type": "markdown",
   "metadata": {},
   "source": [
    "## Creating the Dataset\n",
    "We start by merging the Fitbit and GPS filtered IEQ data with the EMA data from Beiwe"
   ]
  },
  {
   "cell_type": "code",
   "execution_count": 23,
   "metadata": {},
   "outputs": [
    {
     "data": {
      "text/html": [
       "<div>\n",
       "<style scoped>\n",
       "    .dataframe tbody tr th:only-of-type {\n",
       "        vertical-align: middle;\n",
       "    }\n",
       "\n",
       "    .dataframe tbody tr th {\n",
       "        vertical-align: top;\n",
       "    }\n",
       "\n",
       "    .dataframe thead th {\n",
       "        text-align: right;\n",
       "    }\n",
       "</style>\n",
       "<table border=\"1\" class=\"dataframe\">\n",
       "  <thead>\n",
       "    <tr style=\"text-align: right;\">\n",
       "      <th></th>\n",
       "      <th>start_time</th>\n",
       "      <th>end_time</th>\n",
       "      <th>beacon</th>\n",
       "      <th>beiwe</th>\n",
       "      <th>fitbit</th>\n",
       "      <th>redcap</th>\n",
       "      <th>tvoc_median</th>\n",
       "      <th>co_median</th>\n",
       "      <th>co2_median</th>\n",
       "      <th>pm2p5_number_median</th>\n",
       "      <th>pm2p5_mass_median</th>\n",
       "      <th>temperature_c_median</th>\n",
       "      <th>rh_median</th>\n",
       "      <th>tvoc_delta</th>\n",
       "      <th>co_delta</th>\n",
       "      <th>co2_delta</th>\n",
       "      <th>pm2p5_number_delta</th>\n",
       "      <th>pm2p5_mass_delta</th>\n",
       "      <th>temperature_c_delta</th>\n",
       "      <th>rh_delta</th>\n",
       "      <th>date</th>\n",
       "      <th>timestamp</th>\n",
       "      <th>content</th>\n",
       "      <th>stress</th>\n",
       "      <th>lonely</th>\n",
       "      <th>sad</th>\n",
       "      <th>energy</th>\n",
       "      <th>tst</th>\n",
       "      <th>sol</th>\n",
       "      <th>naw</th>\n",
       "      <th>restful</th>\n",
       "      <th>restful_binary</th>\n",
       "    </tr>\n",
       "  </thead>\n",
       "  <tbody>\n",
       "    <tr>\n",
       "      <th>0</th>\n",
       "      <td>2020-08-10 04:42:30</td>\n",
       "      <td>2020-08-10 12:35:30</td>\n",
       "      <td>21</td>\n",
       "      <td>lkkjddam</td>\n",
       "      <td>25</td>\n",
       "      <td>12</td>\n",
       "      <td>126.658333</td>\n",
       "      <td>10.359917</td>\n",
       "      <td>1600.754959</td>\n",
       "      <td>0.914249</td>\n",
       "      <td>0.895571</td>\n",
       "      <td>23.337500</td>\n",
       "      <td>33.0</td>\n",
       "      <td>91.900000</td>\n",
       "      <td>0.731650</td>\n",
       "      <td>304.035761</td>\n",
       "      <td>1.960803</td>\n",
       "      <td>0.620298</td>\n",
       "      <td>1.000</td>\n",
       "      <td>0.950000</td>\n",
       "      <td>2020-08-10</td>\n",
       "      <td>2020-08-10 12:56:38</td>\n",
       "      <td>1</td>\n",
       "      <td>2.0</td>\n",
       "      <td>0.0</td>\n",
       "      <td>0.0</td>\n",
       "      <td>2.0</td>\n",
       "      <td>6.0</td>\n",
       "      <td>15.0</td>\n",
       "      <td>5.0</td>\n",
       "      <td>0.0</td>\n",
       "      <td>0</td>\n",
       "    </tr>\n",
       "    <tr>\n",
       "      <th>1</th>\n",
       "      <td>2020-08-12 02:59:30</td>\n",
       "      <td>2020-08-12 10:52:30</td>\n",
       "      <td>21</td>\n",
       "      <td>lkkjddam</td>\n",
       "      <td>25</td>\n",
       "      <td>12</td>\n",
       "      <td>252.016667</td>\n",
       "      <td>10.271850</td>\n",
       "      <td>1596.122408</td>\n",
       "      <td>2.879650</td>\n",
       "      <td>0.939256</td>\n",
       "      <td>24.000000</td>\n",
       "      <td>33.0</td>\n",
       "      <td>108.600000</td>\n",
       "      <td>0.512533</td>\n",
       "      <td>146.009840</td>\n",
       "      <td>5.472740</td>\n",
       "      <td>0.702017</td>\n",
       "      <td>0.000</td>\n",
       "      <td>1.500000</td>\n",
       "      <td>2020-08-12</td>\n",
       "      <td>2020-08-12 11:11:42</td>\n",
       "      <td>2</td>\n",
       "      <td>3.0</td>\n",
       "      <td>0.0</td>\n",
       "      <td>0.0</td>\n",
       "      <td>2.0</td>\n",
       "      <td>8.0</td>\n",
       "      <td>10.0</td>\n",
       "      <td>3.0</td>\n",
       "      <td>2.0</td>\n",
       "      <td>1</td>\n",
       "    </tr>\n",
       "    <tr>\n",
       "      <th>2</th>\n",
       "      <td>2020-08-14 03:05:00</td>\n",
       "      <td>2020-08-14 11:23:30</td>\n",
       "      <td>21</td>\n",
       "      <td>lkkjddam</td>\n",
       "      <td>25</td>\n",
       "      <td>12</td>\n",
       "      <td>223.700000</td>\n",
       "      <td>7.232700</td>\n",
       "      <td>1301.449844</td>\n",
       "      <td>1.232406</td>\n",
       "      <td>0.886675</td>\n",
       "      <td>25.000000</td>\n",
       "      <td>33.0</td>\n",
       "      <td>81.800000</td>\n",
       "      <td>5.108383</td>\n",
       "      <td>233.372161</td>\n",
       "      <td>3.742991</td>\n",
       "      <td>0.736714</td>\n",
       "      <td>1.175</td>\n",
       "      <td>1.250000</td>\n",
       "      <td>2020-08-14</td>\n",
       "      <td>2020-08-14 15:02:44</td>\n",
       "      <td>2</td>\n",
       "      <td>3.0</td>\n",
       "      <td>1.0</td>\n",
       "      <td>2.0</td>\n",
       "      <td>3.0</td>\n",
       "      <td>8.0</td>\n",
       "      <td>10.0</td>\n",
       "      <td>3.0</td>\n",
       "      <td>3.0</td>\n",
       "      <td>1</td>\n",
       "    </tr>\n",
       "    <tr>\n",
       "      <th>3</th>\n",
       "      <td>2020-08-16 04:21:30</td>\n",
       "      <td>2020-08-16 11:53:00</td>\n",
       "      <td>21</td>\n",
       "      <td>lkkjddam</td>\n",
       "      <td>25</td>\n",
       "      <td>12</td>\n",
       "      <td>268.650000</td>\n",
       "      <td>10.486333</td>\n",
       "      <td>1319.535880</td>\n",
       "      <td>1.256692</td>\n",
       "      <td>0.884277</td>\n",
       "      <td>24.000000</td>\n",
       "      <td>34.0</td>\n",
       "      <td>88.216667</td>\n",
       "      <td>0.312050</td>\n",
       "      <td>96.153213</td>\n",
       "      <td>3.655915</td>\n",
       "      <td>0.471061</td>\n",
       "      <td>0.500</td>\n",
       "      <td>0.583333</td>\n",
       "      <td>2020-08-16</td>\n",
       "      <td>2020-08-16 12:25:03</td>\n",
       "      <td>1</td>\n",
       "      <td>2.0</td>\n",
       "      <td>1.0</td>\n",
       "      <td>2.0</td>\n",
       "      <td>1.0</td>\n",
       "      <td>6.0</td>\n",
       "      <td>20.0</td>\n",
       "      <td>4.0</td>\n",
       "      <td>1.0</td>\n",
       "      <td>0</td>\n",
       "    </tr>\n",
       "    <tr>\n",
       "      <th>4</th>\n",
       "      <td>2020-08-17 03:00:00</td>\n",
       "      <td>2020-08-17 11:30:30</td>\n",
       "      <td>21</td>\n",
       "      <td>lkkjddam</td>\n",
       "      <td>25</td>\n",
       "      <td>12</td>\n",
       "      <td>327.166667</td>\n",
       "      <td>11.025200</td>\n",
       "      <td>1412.926806</td>\n",
       "      <td>2.952962</td>\n",
       "      <td>1.113030</td>\n",
       "      <td>23.333333</td>\n",
       "      <td>33.0</td>\n",
       "      <td>249.066667</td>\n",
       "      <td>0.819100</td>\n",
       "      <td>331.097623</td>\n",
       "      <td>7.407653</td>\n",
       "      <td>1.358703</td>\n",
       "      <td>1.750</td>\n",
       "      <td>1.500000</td>\n",
       "      <td>2020-08-17</td>\n",
       "      <td>2020-08-17 11:41:47</td>\n",
       "      <td>1</td>\n",
       "      <td>2.0</td>\n",
       "      <td>1.0</td>\n",
       "      <td>1.0</td>\n",
       "      <td>1.0</td>\n",
       "      <td>6.0</td>\n",
       "      <td>25.0</td>\n",
       "      <td>2.0</td>\n",
       "      <td>1.0</td>\n",
       "      <td>0</td>\n",
       "    </tr>\n",
       "  </tbody>\n",
       "</table>\n",
       "</div>"
      ],
      "text/plain": [
       "           start_time            end_time  beacon     beiwe  fitbit  redcap  \\\n",
       "0 2020-08-10 04:42:30 2020-08-10 12:35:30      21  lkkjddam      25      12   \n",
       "1 2020-08-12 02:59:30 2020-08-12 10:52:30      21  lkkjddam      25      12   \n",
       "2 2020-08-14 03:05:00 2020-08-14 11:23:30      21  lkkjddam      25      12   \n",
       "3 2020-08-16 04:21:30 2020-08-16 11:53:00      21  lkkjddam      25      12   \n",
       "4 2020-08-17 03:00:00 2020-08-17 11:30:30      21  lkkjddam      25      12   \n",
       "\n",
       "   tvoc_median  co_median   co2_median  pm2p5_number_median  \\\n",
       "0   126.658333  10.359917  1600.754959             0.914249   \n",
       "1   252.016667  10.271850  1596.122408             2.879650   \n",
       "2   223.700000   7.232700  1301.449844             1.232406   \n",
       "3   268.650000  10.486333  1319.535880             1.256692   \n",
       "4   327.166667  11.025200  1412.926806             2.952962   \n",
       "\n",
       "   pm2p5_mass_median  temperature_c_median  rh_median  tvoc_delta  co_delta  \\\n",
       "0           0.895571             23.337500       33.0   91.900000  0.731650   \n",
       "1           0.939256             24.000000       33.0  108.600000  0.512533   \n",
       "2           0.886675             25.000000       33.0   81.800000  5.108383   \n",
       "3           0.884277             24.000000       34.0   88.216667  0.312050   \n",
       "4           1.113030             23.333333       33.0  249.066667  0.819100   \n",
       "\n",
       "    co2_delta  pm2p5_number_delta  pm2p5_mass_delta  temperature_c_delta  \\\n",
       "0  304.035761            1.960803          0.620298                1.000   \n",
       "1  146.009840            5.472740          0.702017                0.000   \n",
       "2  233.372161            3.742991          0.736714                1.175   \n",
       "3   96.153213            3.655915          0.471061                0.500   \n",
       "4  331.097623            7.407653          1.358703                1.750   \n",
       "\n",
       "   rh_delta       date           timestamp content  stress  lonely  sad  \\\n",
       "0  0.950000 2020-08-10 2020-08-10 12:56:38       1     2.0     0.0  0.0   \n",
       "1  1.500000 2020-08-12 2020-08-12 11:11:42       2     3.0     0.0  0.0   \n",
       "2  1.250000 2020-08-14 2020-08-14 15:02:44       2     3.0     1.0  2.0   \n",
       "3  0.583333 2020-08-16 2020-08-16 12:25:03       1     2.0     1.0  2.0   \n",
       "4  1.500000 2020-08-17 2020-08-17 11:41:47       1     2.0     1.0  1.0   \n",
       "\n",
       "   energy  tst   sol  naw  restful  restful_binary  \n",
       "0     2.0  6.0  15.0  5.0      0.0               0  \n",
       "1     2.0  8.0  10.0  3.0      2.0               1  \n",
       "2     3.0  8.0  10.0  3.0      3.0               1  \n",
       "3     1.0  6.0  20.0  4.0      1.0               0  \n",
       "4     1.0  6.0  25.0  2.0      1.0               0  "
      ]
     },
     "execution_count": 23,
     "metadata": {},
     "output_type": "execute_result"
    }
   ],
   "source": [
    "bw_sleep_and_ieq = ieq.merge(right=bw_sleep,on=[\"beiwe\",\"beacon\",\"redcap\",\"date\"])\n",
    "bw_sleep_and_ieq[\"restful_binary\"] = [1 if score > 1 else 0 for score in bw_sleep_and_ieq[\"restful\"]]\n",
    "bw_sleep_and_ieq.drop([\"no2_median\",\"no2_delta\",\"lux_median\",\"lux_delta\"],axis=\"columns\",inplace=True)\n",
    "bw_sleep_and_ieq.dropna(inplace=True)\n",
    "bw_sleep_and_ieq.head()"
   ]
  },
  {
   "cell_type": "code",
   "execution_count": 24,
   "metadata": {},
   "outputs": [
    {
     "name": "stdout",
     "output_type": "stream",
     "text": [
      "Number of observations: 182\n"
     ]
    }
   ],
   "source": [
    "print(\"Number of observations:\", len(bw_sleep_and_ieq))"
   ]
  },
  {
   "cell_type": "code",
   "execution_count": 25,
   "metadata": {},
   "outputs": [
    {
     "name": "stdout",
     "output_type": "stream",
     "text": [
      "Number of `Positive` restfulness scores: 156\n",
      "Number of `Negative` restfulness scores: 26\n"
     ]
    }
   ],
   "source": [
    "print(\"Number of `Positive` restfulness scores:\", len(bw_sleep_and_ieq[bw_sleep_and_ieq[\"restful_binary\"] == 1]))\n",
    "print(\"Number of `Negative` restfulness scores:\", len(bw_sleep_and_ieq[bw_sleep_and_ieq[\"restful_binary\"] == 0]))"
   ]
  },
  {
   "cell_type": "markdown",
   "metadata": {},
   "source": [
    "## Defining Features and Targets\n",
    "The feature set will include all possible `median` and `delta` measurements for the pollutants while the target value will simply by the `restfulness` score."
   ]
  },
  {
   "cell_type": "code",
   "execution_count": 26,
   "metadata": {},
   "outputs": [
    {
     "data": {
      "text/html": [
       "<div>\n",
       "<style scoped>\n",
       "    .dataframe tbody tr th:only-of-type {\n",
       "        vertical-align: middle;\n",
       "    }\n",
       "\n",
       "    .dataframe tbody tr th {\n",
       "        vertical-align: top;\n",
       "    }\n",
       "\n",
       "    .dataframe thead th {\n",
       "        text-align: right;\n",
       "    }\n",
       "</style>\n",
       "<table border=\"1\" class=\"dataframe\">\n",
       "  <thead>\n",
       "    <tr style=\"text-align: right;\">\n",
       "      <th></th>\n",
       "      <th>tvoc_median</th>\n",
       "      <th>co_median</th>\n",
       "      <th>co2_median</th>\n",
       "      <th>pm2p5_number_median</th>\n",
       "      <th>pm2p5_mass_median</th>\n",
       "      <th>temperature_c_median</th>\n",
       "      <th>rh_median</th>\n",
       "    </tr>\n",
       "  </thead>\n",
       "  <tbody>\n",
       "    <tr>\n",
       "      <th>0</th>\n",
       "      <td>126.658333</td>\n",
       "      <td>10.359917</td>\n",
       "      <td>1600.754959</td>\n",
       "      <td>0.914249</td>\n",
       "      <td>0.895571</td>\n",
       "      <td>23.337500</td>\n",
       "      <td>33.0</td>\n",
       "    </tr>\n",
       "    <tr>\n",
       "      <th>1</th>\n",
       "      <td>252.016667</td>\n",
       "      <td>10.271850</td>\n",
       "      <td>1596.122408</td>\n",
       "      <td>2.879650</td>\n",
       "      <td>0.939256</td>\n",
       "      <td>24.000000</td>\n",
       "      <td>33.0</td>\n",
       "    </tr>\n",
       "    <tr>\n",
       "      <th>2</th>\n",
       "      <td>223.700000</td>\n",
       "      <td>7.232700</td>\n",
       "      <td>1301.449844</td>\n",
       "      <td>1.232406</td>\n",
       "      <td>0.886675</td>\n",
       "      <td>25.000000</td>\n",
       "      <td>33.0</td>\n",
       "    </tr>\n",
       "    <tr>\n",
       "      <th>3</th>\n",
       "      <td>268.650000</td>\n",
       "      <td>10.486333</td>\n",
       "      <td>1319.535880</td>\n",
       "      <td>1.256692</td>\n",
       "      <td>0.884277</td>\n",
       "      <td>24.000000</td>\n",
       "      <td>34.0</td>\n",
       "    </tr>\n",
       "    <tr>\n",
       "      <th>4</th>\n",
       "      <td>327.166667</td>\n",
       "      <td>11.025200</td>\n",
       "      <td>1412.926806</td>\n",
       "      <td>2.952962</td>\n",
       "      <td>1.113030</td>\n",
       "      <td>23.333333</td>\n",
       "      <td>33.0</td>\n",
       "    </tr>\n",
       "  </tbody>\n",
       "</table>\n",
       "</div>"
      ],
      "text/plain": [
       "   tvoc_median  co_median   co2_median  pm2p5_number_median  \\\n",
       "0   126.658333  10.359917  1600.754959             0.914249   \n",
       "1   252.016667  10.271850  1596.122408             2.879650   \n",
       "2   223.700000   7.232700  1301.449844             1.232406   \n",
       "3   268.650000  10.486333  1319.535880             1.256692   \n",
       "4   327.166667  11.025200  1412.926806             2.952962   \n",
       "\n",
       "   pm2p5_mass_median  temperature_c_median  rh_median  \n",
       "0           0.895571             23.337500       33.0  \n",
       "1           0.939256             24.000000       33.0  \n",
       "2           0.886675             25.000000       33.0  \n",
       "3           0.884277             24.000000       34.0  \n",
       "4           1.113030             23.333333       33.0  "
      ]
     },
     "execution_count": 26,
     "metadata": {},
     "output_type": "execute_result"
    }
   ],
   "source": [
    "features = bw_sleep_and_ieq[[column for column in bw_sleep_and_ieq.columns if column.endswith(\"median\")]]\n",
    "features.head()"
   ]
  },
  {
   "cell_type": "code",
   "execution_count": 27,
   "metadata": {},
   "outputs": [
    {
     "data": {
      "text/html": [
       "<div>\n",
       "<style scoped>\n",
       "    .dataframe tbody tr th:only-of-type {\n",
       "        vertical-align: middle;\n",
       "    }\n",
       "\n",
       "    .dataframe tbody tr th {\n",
       "        vertical-align: top;\n",
       "    }\n",
       "\n",
       "    .dataframe thead th {\n",
       "        text-align: right;\n",
       "    }\n",
       "</style>\n",
       "<table border=\"1\" class=\"dataframe\">\n",
       "  <thead>\n",
       "    <tr style=\"text-align: right;\">\n",
       "      <th></th>\n",
       "      <th>restful_binary</th>\n",
       "    </tr>\n",
       "  </thead>\n",
       "  <tbody>\n",
       "    <tr>\n",
       "      <th>0</th>\n",
       "      <td>0</td>\n",
       "    </tr>\n",
       "    <tr>\n",
       "      <th>1</th>\n",
       "      <td>1</td>\n",
       "    </tr>\n",
       "    <tr>\n",
       "      <th>2</th>\n",
       "      <td>1</td>\n",
       "    </tr>\n",
       "    <tr>\n",
       "      <th>3</th>\n",
       "      <td>0</td>\n",
       "    </tr>\n",
       "    <tr>\n",
       "      <th>4</th>\n",
       "      <td>0</td>\n",
       "    </tr>\n",
       "  </tbody>\n",
       "</table>\n",
       "</div>"
      ],
      "text/plain": [
       "   restful_binary\n",
       "0               0\n",
       "1               1\n",
       "2               1\n",
       "3               0\n",
       "4               0"
      ]
     },
     "execution_count": 27,
     "metadata": {},
     "output_type": "execute_result"
    }
   ],
   "source": [
    "target = bw_sleep_and_ieq[[\"restful_binary\"]]\n",
    "target.head()"
   ]
  },
  {
   "cell_type": "markdown",
   "metadata": {},
   "source": [
    "## Testing Different Models\n",
    "Using `GridSearchCV`, we can see which models perform best.\n",
    "\n",
    "The models we will test are:\n",
    "* Multi-Layer Perceptron Neural Network\n",
    "* Random Forest Classifier\n",
    "* K-Nearest Neighbots Classifier\n",
    "\n",
    "The associated models are imported below."
   ]
  },
  {
   "cell_type": "code",
   "execution_count": 28,
   "metadata": {},
   "outputs": [],
   "source": [
    "from sklearn.neural_network import MLPClassifier\n",
    "from sklearn.ensemble import RandomForestClassifier\n",
    "from sklearn.neighbors import KNeighborsClassifier"
   ]
  },
  {
   "cell_type": "markdown",
   "metadata": {},
   "source": [
    "### Definining the Models' Parameters to Test\n",
    "The following cell outlines the hyper-parameters that will be tested. The values have been tuned after a few iterations of `GridSearchCV`."
   ]
  },
  {
   "cell_type": "code",
   "execution_count": 29,
   "metadata": {},
   "outputs": [],
   "source": [
    "model_params = {\n",
    "    \"mlp\": {\n",
    "        \"model\":MLPClassifier(max_iter=10000,activation=\"logistic\",solver=\"sgd\"),\n",
    "        \"params\": {\n",
    "            \"hidden_layer_sizes\": [0,1,2,3,4],\n",
    "        }\n",
    "    },\n",
    "    \"random_forest\": {\n",
    "        \"model\":RandomForestClassifier(),\n",
    "        \"params\": {\n",
    "            \"n_estimators\":[15,20,25],\n",
    "            \"max_depth\":[2,3,4],\n",
    "        }\n",
    "    },\n",
    "    \"knn\": {\n",
    "        \"model\":KNeighborsClassifier(),\n",
    "        \"params\": {\n",
    "            \"n_neighbors\":[3,5,7],\n",
    "        }\n",
    "    }\n",
    "}"
   ]
  },
  {
   "cell_type": "markdown",
   "metadata": {},
   "source": [
    "### Splitting the Data\n",
    "The features and targets are split and stratified to preserve the proportion of `positive` and `negative` `restfulness` scores. This stratification seemed important since there are fewer `negative` scores relative to `positive`. "
   ]
  },
  {
   "cell_type": "code",
   "execution_count": 30,
   "metadata": {},
   "outputs": [],
   "source": [
    "from sklearn.model_selection import train_test_split, cross_val_score, cross_val_predict\n",
    "# getting training and testing data\n",
    "X_train, X_test, y_train, y_test = train_test_split(features, target, test_size=0.33, random_state=10, stratify=target)"
   ]
  },
  {
   "cell_type": "markdown",
   "metadata": {},
   "source": [
    "### Grid Search\n",
    "Now we run the `GridSearchCV` to understand how we can fine-tune some of the more imiportant parameters defined earlier."
   ]
  },
  {
   "cell_type": "code",
   "execution_count": 31,
   "metadata": {},
   "outputs": [
    {
     "data": {
      "text/html": [
       "<div>\n",
       "<style scoped>\n",
       "    .dataframe tbody tr th:only-of-type {\n",
       "        vertical-align: middle;\n",
       "    }\n",
       "\n",
       "    .dataframe tbody tr th {\n",
       "        vertical-align: top;\n",
       "    }\n",
       "\n",
       "    .dataframe thead th {\n",
       "        text-align: right;\n",
       "    }\n",
       "</style>\n",
       "<table border=\"1\" class=\"dataframe\">\n",
       "  <thead>\n",
       "    <tr style=\"text-align: right;\">\n",
       "      <th></th>\n",
       "      <th>model</th>\n",
       "      <th>best_score</th>\n",
       "      <th>best_params</th>\n",
       "    </tr>\n",
       "  </thead>\n",
       "  <tbody>\n",
       "    <tr>\n",
       "      <th>0</th>\n",
       "      <td>mlp</td>\n",
       "      <td>0.859667</td>\n",
       "      <td>{'hidden_layer_sizes': 1}</td>\n",
       "    </tr>\n",
       "    <tr>\n",
       "      <th>1</th>\n",
       "      <td>random_forest</td>\n",
       "      <td>0.851333</td>\n",
       "      <td>{'max_depth': 2, 'n_estimators': 25}</td>\n",
       "    </tr>\n",
       "    <tr>\n",
       "      <th>2</th>\n",
       "      <td>knn</td>\n",
       "      <td>0.851333</td>\n",
       "      <td>{'n_neighbors': 5}</td>\n",
       "    </tr>\n",
       "  </tbody>\n",
       "</table>\n",
       "</div>"
      ],
      "text/plain": [
       "           model  best_score                           best_params\n",
       "0            mlp    0.859667             {'hidden_layer_sizes': 1}\n",
       "1  random_forest    0.851333  {'max_depth': 2, 'n_estimators': 25}\n",
       "2            knn    0.851333                    {'n_neighbors': 5}"
      ]
     },
     "execution_count": 31,
     "metadata": {},
     "output_type": "execute_result"
    }
   ],
   "source": [
    "from sklearn.model_selection import GridSearchCV\n",
    "\n",
    "scores = []\n",
    "\n",
    "for model_name, mp in model_params.items():\n",
    "    clf = GridSearchCV(mp[\"model\"],mp[\"params\"],cv=5,return_train_score=False)\n",
    "    clf.fit(X_train,y_train)\n",
    "    scores.append({\n",
    "        \"model\":model_name,\n",
    "        \"best_score\":clf.best_score_,\n",
    "        \"best_params\":clf.best_params_\n",
    "    })\n",
    "    \n",
    "results = pd.DataFrame(scores,columns=[\"model\",\"best_score\",\"best_params\"])\n",
    "results"
   ]
  },
  {
   "cell_type": "markdown",
   "metadata": {},
   "source": [
    "<div class=\"alert alert-block alert-success\">\n",
    " \n",
    "While there were iterations where the random forest model performed better, the MLP NN was consistent with its results and therefore will be the model that we explore further.\n",
    "    \n",
    "</div>"
   ]
  },
  {
   "cell_type": "markdown",
   "metadata": {},
   "source": [
    "## Multilayer Perceptron NN Classifier\n",
    "Here we use a MLP classifier to understand how well we can predict the restfulness score from IEQ parameters experienced during the night. More on the MLP classifier can be found on SKlearn's documentation:\n",
    "* [General Discussion on MLP](https://scikit-learn.org/stable/modules/neural_networks_supervised.html)\n",
    "* [MLP Documentation](https://scikit-learn.org/stable/modules/generated/sklearn.neural_network.MLPClassifier.html#sklearn.neural_network.MLPClassifier)"
   ]
  },
  {
   "cell_type": "code",
   "execution_count": 32,
   "metadata": {},
   "outputs": [],
   "source": [
    "from sklearn import metrics"
   ]
  },
  {
   "cell_type": "code",
   "execution_count": 33,
   "metadata": {},
   "outputs": [],
   "source": [
    "class restful_mlp():\n",
    "    def __init__(self, features, target):\n",
    "        self.X = features\n",
    "        self.y = target\n",
    "        \n",
    "    def split_data(test_size=0.33):\n",
    "        pass\n",
    "        \n",
    "    def fit_model(self):\n",
    "        pass\n",
    "    \n",
    "    def confusion_matrix(self,y_true,y_pred):\n",
    "        \"\"\"plots confusion matrix\"\"\"\n",
    "        # get confusion matrix\n",
    "        cm = metrics.confusion_matrix(y_true,y_pred)\n",
    "        cm_df = pd.DataFrame(cm)\n",
    "        # plot confusion matrix as heatmap\n",
    "        fig, ax = plt.subplots(figsize=(5,4))\n",
    "        sns.heatmap(cm_df,annot=True,cmap=\"Blues\",ax=ax)\n",
    "        ax.set_xlabel(\"Predicted Label\",fontsize=16)\n",
    "        ax.set_xticklabels([\"Negative\",\"Positive\"],fontsize=14)\n",
    "        ax.set_ylabel(\"True Label\",fontsize=16)\n",
    "        ax.set_yticklabels([\"Negative\",\"Positive\"],fontsize=14)\n",
    "\n",
    "        plt.show()\n",
    "        plt.close()\n",
    "        "
   ]
  },
  {
   "cell_type": "markdown",
   "metadata": {},
   "source": [
    "### Fitting Model\n",
    "We fit the MLP and cross-validate."
   ]
  },
  {
   "cell_type": "code",
   "execution_count": 34,
   "metadata": {},
   "outputs": [
    {
     "name": "stdout",
     "output_type": "stream",
     "text": [
      "Model Score: 0.7697008915731952\n",
      "Cross Validation Scores:\n",
      "\t0.701972242512783\n",
      "\t0.8262133100842778\n",
      "\t0.7175925925925927\n",
      "\t0.738095238095238\n",
      "\t0.7306397306397306\n",
      "Average:0.7429026227849244\n"
     ]
    }
   ],
   "source": [
    "# fitting and reporting weighted score\n",
    "mlp_clf = MLPClassifier(max_iter=500, activation=\"logistic\", random_state=42)\n",
    "model = mlp_clf.fit(X_train, y_train)\n",
    "y_pred = model.predict(X_test)\n",
    "score = metrics.precision_score(y_test,y_pred,average=\"weighted\")\n",
    "print(f\"Model Score: {score}\")\n",
    "\n",
    "scores = cross_val_score(mlp_clf, features, target, cv=5, scoring='precision_weighted')\n",
    "print(\"Cross Validation Scores:\")\n",
    "for scr in scores:\n",
    "    print(f\"\\t{scr}\")\n",
    "print(f\"Average:{scores.mean()}\")"
   ]
  },
  {
   "cell_type": "markdown",
   "metadata": {},
   "source": [
    "### Evaluating the Model"
   ]
  },
  {
   "cell_type": "code",
   "execution_count": 35,
   "metadata": {},
   "outputs": [],
   "source": [
    "def plot_confusion_matrix(y_true,y_pred):\n",
    "    \"\"\"plots confusion matrix\"\"\"\n",
    "    # get confusion matrix\n",
    "    cm = metrics.confusion_matrix(y_true,y_pred)\n",
    "    cm_df = pd.DataFrame(cm)\n",
    "    # plot confusion matrix as heatmap\n",
    "    fig, ax = plt.subplots(figsize=(5,4))\n",
    "    sns.heatmap(cm_df,annot=True,cmap=\"Blues\",ax=ax)\n",
    "    ax.set_xlabel(\"Predicted Label\",fontsize=16)\n",
    "    ax.set_xticklabels([\"Negative\",\"Positive\"],fontsize=14)\n",
    "    ax.set_ylabel(\"True Label\",fontsize=16)\n",
    "    ax.set_yticklabels([\"Negative\",\"Positive\"],fontsize=14)\n",
    "    \n",
    "    plt.show()\n",
    "    plt.close()"
   ]
  },
  {
   "cell_type": "code",
   "execution_count": 36,
   "metadata": {},
   "outputs": [
    {
     "data": {
      "image/png": "[encoded data removed]",
      "text/plain": [
       "<Figure size 360x288 with 2 Axes>"
      ]
     },
     "metadata": {
      "needs_background": "light"
     },
     "output_type": "display_data"
    }
   ],
   "source": [
    "plot_confusion_matrix(y_test,y_pred)"
   ]
  },
  {
   "cell_type": "markdown",
   "metadata": {},
   "source": [
    "More can be found here: https://towardsdatascience.com/introduction-to-decision-tree-classifiers-from-scikit-learn-32cd5d23f4d"
   ]
  },
  {
   "cell_type": "markdown",
   "metadata": {},
   "source": [
    "Next steps:\n",
    "- gridsearchcv to tun hyperparameters\n",
    "- vary the features used to tune the model"
   ]
  },
  {
   "cell_type": "code",
   "execution_count": null,
   "metadata": {},
   "outputs": [],
   "source": []
  }
 ],
 "metadata": {
  "kernelspec": {
   "display_name": "Python 3",
   "language": "python",
   "name": "python3"
  },
  "language_info": {
   "codemirror_mode": {
    "name": "ipython",
    "version": 3
   },
   "file_extension": ".py",
   "mimetype": "text/x-python",
   "name": "python",
   "nbconvert_exporter": "python",
   "pygments_lexer": "ipython3",
   "version": "3.7.0"
  },
  "toc": {
   "base_numbering": 1,
   "nav_menu": {},
   "number_sections": false,
   "sideBar": false,
   "skip_h1_title": false,
   "title_cell": "Table of Contents",
   "title_sidebar": "Contents",
   "toc_cell": false,
   "toc_position": {},
   "toc_section_display": false,
   "toc_window_display": false
  }
 },
 "nbformat": 4,
 "nbformat_minor": 4
}
