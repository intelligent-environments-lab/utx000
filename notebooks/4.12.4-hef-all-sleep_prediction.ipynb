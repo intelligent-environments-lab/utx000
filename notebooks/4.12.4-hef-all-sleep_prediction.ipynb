{
 "cells": [
  {
   "cell_type": "markdown",
   "metadata": {},
   "source": [
    "# Sleep Prediction\n",
    "Here we try to use environmental parameters in addition to mood and activity characteristics to see if we are able to predict sleep quality.\n",
    "\n",
    "## Features\n",
    "In this analysis, we are going to consider the following features:\n",
    "1. **Acitivity**: The main metrics for activity that we will use are:\n",
    "    * Daily Steps\n",
    "    * Intensity Levels\n",
    "2. **Mood**: We have five metrics for mood:\n",
    "    * Content\n",
    "    * Lonely\n",
    "    * Sadness\n",
    "    * Stress\n",
    "    * Energy Level \n",
    "3. **IEQ**: There are many measurements of IEQ that we consider:\n",
    "    * CO$_2$\n",
    "    * CO\n",
    "    * PM$_{2.5}$\n",
    "    * NO$_2$\n",
    "    * TVOCs\n",
    "    * Temperature\n",
    "    * Relative Humidity\n",
    "    \n",
    "## Targets\n",
    "The targets will be all metrics related to sleep quality:\n",
    "1. **Self-Report**: There are four metrics for self-report sleep quality reported via EMA:\n",
    "    * TST\n",
    "    * SOL\n",
    "    * NAW\n",
    "    * Restfulness\n",
    "2. **Fitbit-Measured**: There are also four metrics of sleep quality that we can use from Fitbit:\n",
    "    * TST\n",
    "    * SE\n",
    "    * REM Percentage\n",
    "    * Light Percentage\n",
    "    * Deep Percentage"
   ]
  },
  {
   "cell_type": "code",
   "execution_count": 4,
   "metadata": {},
   "outputs": [],
   "source": [
    "import warnings\n",
    "warnings.filterwarnings('ignore')\n",
    "\n",
    "%load_ext autoreload\n",
    "%autoreload 2"
   ]
  },
  {
   "cell_type": "code",
   "execution_count": 5,
   "metadata": {},
   "outputs": [],
   "source": [
    "# general\n",
    "import os\n",
    "import sys\n",
    "sys.path.append('../')\n",
    "# user-defined functions\n",
    "from src.visualization import visualize\n",
    "# basic data science\n",
    "import pandas as pd\n",
    "pd.set_option('display.max_columns', 200)\n",
    "import numpy as np\n",
    "# timeseries\n",
    "from datetime import datetime, timedelta\n",
    "# plottings\n",
    "import matplotlib.pyplot as plt\n",
    "from matplotlib import cm\n",
    "from matplotlib.colors import ListedColormap, LinearSegmentedColormap\n",
    "import seaborn as sns\n",
    "import matplotlib.dates as mdates"
   ]
  },
  {
   "cell_type": "markdown",
   "metadata": {},
   "source": [
    "# Table of Contents\n",
    "1. [Data Import](#data-import)\n",
    "3. [Target Encoding](#encoding)\n",
    "4. [Feature Engineering](#feature_engineering)\n",
    "5. [Prediction](#prediction)\n",
    "    1. [Fitbit Sleep Targets](#fitbit-sleep-prediction)\n",
    "        1. TST\n",
    "        2. SOL\n",
    "        3. WASO\n",
    "        4. REM:nREM\n",
    "        5. SE\n",
    "    2. [Self-Report Sleep Targets](#self-report-sleep-prediction)\n",
    "        1. TST\n",
    "        2. SOL\n",
    "        3. NAW\n",
    "        4. Restfulness\n",
    "6. [Prediction with Encoded Features](#prediction_encoded)\n",
    "7. [Final Analysis](#final_analysis)"
   ]
  },
  {
   "cell_type": "markdown",
   "metadata": {},
   "source": [
    "<a id=\"data-import\"></a>"
   ]
  },
  {
   "cell_type": "markdown",
   "metadata": {},
   "source": [
    "# Data Import\n",
    "For this analysis we want to only consider nights when we have _all_ the available data. These are also the nights that we have confirmed participants are home according to GPS traces. "
   ]
  },
  {
   "cell_type": "markdown",
   "metadata": {},
   "source": [
    "## Feature: IEQ\n",
    "We start with IEQ data beacuse from previous analysis, this dataset has already been curated to include the relevant nights. However, there are quite a few columns that are not necessary for this analysis that have to be removed."
   ]
  },
  {
   "cell_type": "code",
   "execution_count": 6,
   "metadata": {},
   "outputs": [
    {
     "data": {
      "text/html": [
       "<div>\n",
       "<style scoped>\n",
       "    .dataframe tbody tr th:only-of-type {\n",
       "        vertical-align: middle;\n",
       "    }\n",
       "\n",
       "    .dataframe tbody tr th {\n",
       "        vertical-align: top;\n",
       "    }\n",
       "\n",
       "    .dataframe thead th {\n",
       "        text-align: right;\n",
       "    }\n",
       "</style>\n",
       "<table border=\"1\" class=\"dataframe\">\n",
       "  <thead>\n",
       "    <tr style=\"text-align: right;\">\n",
       "      <th></th>\n",
       "      <th>beacon</th>\n",
       "      <th>beiwe</th>\n",
       "      <th>redcap</th>\n",
       "      <th>start_time</th>\n",
       "      <th>end_time</th>\n",
       "      <th>tvoc_median</th>\n",
       "      <th>lux_median</th>\n",
       "      <th>co_median</th>\n",
       "      <th>co2_median</th>\n",
       "      <th>pm2p5_mass_median</th>\n",
       "      <th>temperature_c_median</th>\n",
       "      <th>rh_median</th>\n",
       "      <th>fitbit_median</th>\n",
       "    </tr>\n",
       "  </thead>\n",
       "  <tbody>\n",
       "    <tr>\n",
       "      <th>0</th>\n",
       "      <td>1</td>\n",
       "      <td>kyj367pi</td>\n",
       "      <td>10</td>\n",
       "      <td>2020-06-10 23:05:00</td>\n",
       "      <td>2020-06-11 09:14:00</td>\n",
       "      <td>69.472597</td>\n",
       "      <td>0.0</td>\n",
       "      <td>4.809835</td>\n",
       "      <td>607.609765</td>\n",
       "      <td>16.515731</td>\n",
       "      <td>17.359939</td>\n",
       "      <td>39.483333</td>\n",
       "      <td>24</td>\n",
       "    </tr>\n",
       "    <tr>\n",
       "      <th>1</th>\n",
       "      <td>1</td>\n",
       "      <td>kyj367pi</td>\n",
       "      <td>10</td>\n",
       "      <td>2020-06-11 23:12:00</td>\n",
       "      <td>2020-06-12 09:14:00</td>\n",
       "      <td>210.569596</td>\n",
       "      <td>0.0</td>\n",
       "      <td>4.275798</td>\n",
       "      <td>630.040491</td>\n",
       "      <td>34.128077</td>\n",
       "      <td>16.455691</td>\n",
       "      <td>40.436667</td>\n",
       "      <td>24</td>\n",
       "    </tr>\n",
       "    <tr>\n",
       "      <th>2</th>\n",
       "      <td>1</td>\n",
       "      <td>kyj367pi</td>\n",
       "      <td>10</td>\n",
       "      <td>2020-06-17 22:55:00</td>\n",
       "      <td>2020-06-18 08:51:00</td>\n",
       "      <td>310.293674</td>\n",
       "      <td>0.0</td>\n",
       "      <td>3.570167</td>\n",
       "      <td>616.201568</td>\n",
       "      <td>20.605142</td>\n",
       "      <td>16.615442</td>\n",
       "      <td>45.706667</td>\n",
       "      <td>24</td>\n",
       "    </tr>\n",
       "    <tr>\n",
       "      <th>3</th>\n",
       "      <td>1</td>\n",
       "      <td>kyj367pi</td>\n",
       "      <td>10</td>\n",
       "      <td>2020-06-18 22:13:00</td>\n",
       "      <td>2020-06-19 08:42:00</td>\n",
       "      <td>300.139737</td>\n",
       "      <td>0.0</td>\n",
       "      <td>2.922652</td>\n",
       "      <td>598.332358</td>\n",
       "      <td>20.834074</td>\n",
       "      <td>18.173762</td>\n",
       "      <td>46.830000</td>\n",
       "      <td>24</td>\n",
       "    </tr>\n",
       "    <tr>\n",
       "      <th>4</th>\n",
       "      <td>1</td>\n",
       "      <td>kyj367pi</td>\n",
       "      <td>10</td>\n",
       "      <td>2020-06-20 23:06:00</td>\n",
       "      <td>2020-06-21 07:43:00</td>\n",
       "      <td>307.701799</td>\n",
       "      <td>0.0</td>\n",
       "      <td>3.140130</td>\n",
       "      <td>585.162549</td>\n",
       "      <td>15.928621</td>\n",
       "      <td>17.359939</td>\n",
       "      <td>47.862500</td>\n",
       "      <td>24</td>\n",
       "    </tr>\n",
       "  </tbody>\n",
       "</table>\n",
       "</div>"
      ],
      "text/plain": [
       "   beacon     beiwe  redcap          start_time            end_time  \\\n",
       "0       1  kyj367pi      10 2020-06-10 23:05:00 2020-06-11 09:14:00   \n",
       "1       1  kyj367pi      10 2020-06-11 23:12:00 2020-06-12 09:14:00   \n",
       "2       1  kyj367pi      10 2020-06-17 22:55:00 2020-06-18 08:51:00   \n",
       "3       1  kyj367pi      10 2020-06-18 22:13:00 2020-06-19 08:42:00   \n",
       "4       1  kyj367pi      10 2020-06-20 23:06:00 2020-06-21 07:43:00   \n",
       "\n",
       "   tvoc_median  lux_median  co_median  co2_median  pm2p5_mass_median  \\\n",
       "0    69.472597         0.0   4.809835  607.609765          16.515731   \n",
       "1   210.569596         0.0   4.275798  630.040491          34.128077   \n",
       "2   310.293674         0.0   3.570167  616.201568          20.605142   \n",
       "3   300.139737         0.0   2.922652  598.332358          20.834074   \n",
       "4   307.701799         0.0   3.140130  585.162549          15.928621   \n",
       "\n",
       "   temperature_c_median  rh_median  fitbit_median  \n",
       "0             17.359939  39.483333             24  \n",
       "1             16.455691  40.436667             24  \n",
       "2             16.615442  45.706667             24  \n",
       "3             18.173762  46.830000             24  \n",
       "4             17.359939  47.862500             24  "
      ]
     },
     "execution_count": 6,
     "metadata": {},
     "output_type": "execute_result"
    }
   ],
   "source": [
    "ieq_raw = pd.read_csv(\"../data/processed/beacon_by_night-ux_s20.csv\",parse_dates=[\"start_time\",\"end_time\",],infer_datetime_format=True)\n",
    "ieq_raw = ieq_raw[(ieq_raw[\"home\"] == 1) | (ieq_raw[\"increasing_co2\"] > 0.5)]\n",
    "ieq_raw.drop([\"home\",\"increasing_co2\",\"ema\",\"pm1_number\",\"pm2p5_number\",\"pm10_number\",\"pm1_mass\",\"pm10_mass\",\"no2\"],axis=\"columns\",inplace=True)\n",
    "ieq_raw = ieq_raw.groupby([\"beacon\",\"beiwe\",\"redcap\",\"start_time\",\"end_time\"]).median()\n",
    "ieq_raw = ieq_raw.add_suffix(\"_median\")\n",
    "ieq_raw.reset_index(inplace=True)\n",
    "ieq = ieq_raw.copy()\n",
    "ieq.head()"
   ]
  },
  {
   "cell_type": "markdown",
   "metadata": {},
   "source": [
    "<div class=\"alert alert-block alert-danger\">\n",
    " \n",
    "Since we have so many `nan` values and even the values we have are not very exciting, we leave out the `no2` measurements.\n",
    "    \n",
    "</div>"
   ]
  },
  {
   "cell_type": "markdown",
   "metadata": {},
   "source": [
    "## Feature: Activity\n",
    "Activity data are essentially untouched from the raw format"
   ]
  },
  {
   "cell_type": "code",
   "execution_count": 7,
   "metadata": {},
   "outputs": [
    {
     "data": {
      "text/html": [
       "<div>\n",
       "<style scoped>\n",
       "    .dataframe tbody tr th:only-of-type {\n",
       "        vertical-align: middle;\n",
       "    }\n",
       "\n",
       "    .dataframe tbody tr th {\n",
       "        vertical-align: top;\n",
       "    }\n",
       "\n",
       "    .dataframe thead th {\n",
       "        text-align: right;\n",
       "    }\n",
       "</style>\n",
       "<table border=\"1\" class=\"dataframe\">\n",
       "  <thead>\n",
       "    <tr style=\"text-align: right;\">\n",
       "      <th></th>\n",
       "      <th>date</th>\n",
       "      <th>beiwe</th>\n",
       "      <th>steps</th>\n",
       "      <th>sedentary_minutes</th>\n",
       "      <th>lightly_active_minutes</th>\n",
       "      <th>fairly_active_minutes</th>\n",
       "      <th>very_active_minutes</th>\n",
       "    </tr>\n",
       "  </thead>\n",
       "  <tbody>\n",
       "    <tr>\n",
       "      <th>0</th>\n",
       "      <td>2020-05-13</td>\n",
       "      <td>hfttkth7</td>\n",
       "      <td>9207</td>\n",
       "      <td>1241</td>\n",
       "      <td>70</td>\n",
       "      <td>118</td>\n",
       "      <td>11</td>\n",
       "    </tr>\n",
       "    <tr>\n",
       "      <th>1</th>\n",
       "      <td>2020-05-14</td>\n",
       "      <td>hfttkth7</td>\n",
       "      <td>15207</td>\n",
       "      <td>614</td>\n",
       "      <td>263</td>\n",
       "      <td>134</td>\n",
       "      <td>23</td>\n",
       "    </tr>\n",
       "    <tr>\n",
       "      <th>2</th>\n",
       "      <td>2020-05-15</td>\n",
       "      <td>hfttkth7</td>\n",
       "      <td>14556</td>\n",
       "      <td>577</td>\n",
       "      <td>205</td>\n",
       "      <td>57</td>\n",
       "      <td>108</td>\n",
       "    </tr>\n",
       "    <tr>\n",
       "      <th>3</th>\n",
       "      <td>2020-05-16</td>\n",
       "      <td>hfttkth7</td>\n",
       "      <td>18453</td>\n",
       "      <td>760</td>\n",
       "      <td>176</td>\n",
       "      <td>24</td>\n",
       "      <td>151</td>\n",
       "    </tr>\n",
       "    <tr>\n",
       "      <th>4</th>\n",
       "      <td>2020-05-17</td>\n",
       "      <td>hfttkth7</td>\n",
       "      <td>15425</td>\n",
       "      <td>605</td>\n",
       "      <td>207</td>\n",
       "      <td>50</td>\n",
       "      <td>131</td>\n",
       "    </tr>\n",
       "  </tbody>\n",
       "</table>\n",
       "</div>"
      ],
      "text/plain": [
       "        date     beiwe  steps  sedentary_minutes  lightly_active_minutes  \\\n",
       "0 2020-05-13  hfttkth7   9207               1241                      70   \n",
       "1 2020-05-14  hfttkth7  15207                614                     263   \n",
       "2 2020-05-15  hfttkth7  14556                577                     205   \n",
       "3 2020-05-16  hfttkth7  18453                760                     176   \n",
       "4 2020-05-17  hfttkth7  15425                605                     207   \n",
       "\n",
       "   fairly_active_minutes  very_active_minutes  \n",
       "0                    118                   11  \n",
       "1                    134                   23  \n",
       "2                     57                  108  \n",
       "3                     24                  151  \n",
       "4                     50                  131  "
      ]
     },
     "execution_count": 7,
     "metadata": {},
     "output_type": "execute_result"
    }
   ],
   "source": [
    "activity_raw = pd.read_csv(\"../data/processed/fitbit-daily-ux_s20.csv\",parse_dates=[\"timestamp\"],infer_datetime_format=True)\n",
    "activity = activity_raw[[\"timestamp\",\"beiwe\",\"steps\",\"sedentary_minutes\",\"lightly_active_minutes\",\"fairly_active_minutes\",\"very_active_minutes\"]]\n",
    "activity.rename({\"timestamp\":\"date\"},axis=\"columns\",inplace=True)\n",
    "activity.head()"
   ]
  },
  {
   "cell_type": "markdown",
   "metadata": {},
   "source": [
    "## Feature: Mood\n",
    "We only want to consider mood data from the latest survey prior to the participant going to sleep so we only important the evening EMAs."
   ]
  },
  {
   "cell_type": "code",
   "execution_count": 8,
   "metadata": {},
   "outputs": [
    {
     "data": {
      "text/html": [
       "<div>\n",
       "<style scoped>\n",
       "    .dataframe tbody tr th:only-of-type {\n",
       "        vertical-align: middle;\n",
       "    }\n",
       "\n",
       "    .dataframe tbody tr th {\n",
       "        vertical-align: top;\n",
       "    }\n",
       "\n",
       "    .dataframe thead th {\n",
       "        text-align: right;\n",
       "    }\n",
       "</style>\n",
       "<table border=\"1\" class=\"dataframe\">\n",
       "  <thead>\n",
       "    <tr style=\"text-align: right;\">\n",
       "      <th></th>\n",
       "      <th>timestamp</th>\n",
       "      <th>beiwe</th>\n",
       "      <th>content</th>\n",
       "      <th>stress</th>\n",
       "      <th>lonely</th>\n",
       "      <th>sad</th>\n",
       "      <th>energy</th>\n",
       "      <th>redcap</th>\n",
       "      <th>beacon</th>\n",
       "      <th>date</th>\n",
       "    </tr>\n",
       "  </thead>\n",
       "  <tbody>\n",
       "    <tr>\n",
       "      <th>0</th>\n",
       "      <td>2020-05-13 19:00:23</td>\n",
       "      <td>awa8uces</td>\n",
       "      <td>1.0</td>\n",
       "      <td>1.0</td>\n",
       "      <td>1.0</td>\n",
       "      <td>3.0</td>\n",
       "      <td>2.0</td>\n",
       "      <td>28</td>\n",
       "      <td>26.0</td>\n",
       "      <td>2020-05-13</td>\n",
       "    </tr>\n",
       "    <tr>\n",
       "      <th>1</th>\n",
       "      <td>2020-05-13 19:21:32</td>\n",
       "      <td>lkkjddam</td>\n",
       "      <td>0.0</td>\n",
       "      <td>2.0</td>\n",
       "      <td>3.0</td>\n",
       "      <td>1.0</td>\n",
       "      <td>0.0</td>\n",
       "      <td>12</td>\n",
       "      <td>21.0</td>\n",
       "      <td>2020-05-13</td>\n",
       "    </tr>\n",
       "    <tr>\n",
       "      <th>2</th>\n",
       "      <td>2020-05-13 19:30:38</td>\n",
       "      <td>rvhdl2la</td>\n",
       "      <td>2.0</td>\n",
       "      <td>1.0</td>\n",
       "      <td>0.0</td>\n",
       "      <td>0.0</td>\n",
       "      <td>1.0</td>\n",
       "      <td>29</td>\n",
       "      <td>NaN</td>\n",
       "      <td>2020-05-13</td>\n",
       "    </tr>\n",
       "    <tr>\n",
       "      <th>3</th>\n",
       "      <td>2020-05-13 20:07:04</td>\n",
       "      <td>xxvnhauv</td>\n",
       "      <td>1.0</td>\n",
       "      <td>3.0</td>\n",
       "      <td>1.0</td>\n",
       "      <td>2.0</td>\n",
       "      <td>0.0</td>\n",
       "      <td>21</td>\n",
       "      <td>22.0</td>\n",
       "      <td>2020-05-13</td>\n",
       "    </tr>\n",
       "    <tr>\n",
       "      <th>4</th>\n",
       "      <td>2020-05-13 20:25:07</td>\n",
       "      <td>xdbdrk6e</td>\n",
       "      <td>2.0</td>\n",
       "      <td>1.0</td>\n",
       "      <td>2.0</td>\n",
       "      <td>1.0</td>\n",
       "      <td>3.0</td>\n",
       "      <td>23</td>\n",
       "      <td>24.0</td>\n",
       "      <td>2020-05-13</td>\n",
       "    </tr>\n",
       "  </tbody>\n",
       "</table>\n",
       "</div>"
      ],
      "text/plain": [
       "            timestamp     beiwe  content  stress  lonely  sad  energy  redcap  \\\n",
       "0 2020-05-13 19:00:23  awa8uces      1.0     1.0     1.0  3.0     2.0      28   \n",
       "1 2020-05-13 19:21:32  lkkjddam      0.0     2.0     3.0  1.0     0.0      12   \n",
       "2 2020-05-13 19:30:38  rvhdl2la      2.0     1.0     0.0  0.0     1.0      29   \n",
       "3 2020-05-13 20:07:04  xxvnhauv      1.0     3.0     1.0  2.0     0.0      21   \n",
       "4 2020-05-13 20:25:07  xdbdrk6e      2.0     1.0     2.0  1.0     3.0      23   \n",
       "\n",
       "   beacon       date  \n",
       "0    26.0 2020-05-13  \n",
       "1    21.0 2020-05-13  \n",
       "2     NaN 2020-05-13  \n",
       "3    22.0 2020-05-13  \n",
       "4    24.0 2020-05-13  "
      ]
     },
     "execution_count": 8,
     "metadata": {},
     "output_type": "execute_result"
    }
   ],
   "source": [
    "mood = pd.read_csv(\"../data/processed/beiwe-evening_ema-ux_s20.csv\",parse_dates=[\"timestamp\"],infer_datetime_format=True)\n",
    "mood[\"date\"] = pd.to_datetime(mood[\"timestamp\"].dt.date)\n",
    "mood.head()"
   ]
  },
  {
   "cell_type": "markdown",
   "metadata": {},
   "source": [
    "## Target: Self-Report Sleep Quality (SRSQ)\n",
    "The self-reported sleep quality comes from the morning EMAs."
   ]
  },
  {
   "cell_type": "code",
   "execution_count": 9,
   "metadata": {},
   "outputs": [
    {
     "data": {
      "text/html": [
       "<div>\n",
       "<style scoped>\n",
       "    .dataframe tbody tr th:only-of-type {\n",
       "        vertical-align: middle;\n",
       "    }\n",
       "\n",
       "    .dataframe tbody tr th {\n",
       "        vertical-align: top;\n",
       "    }\n",
       "\n",
       "    .dataframe thead th {\n",
       "        text-align: right;\n",
       "    }\n",
       "</style>\n",
       "<table border=\"1\" class=\"dataframe\">\n",
       "  <thead>\n",
       "    <tr style=\"text-align: right;\">\n",
       "      <th></th>\n",
       "      <th>timestamp</th>\n",
       "      <th>end_date</th>\n",
       "      <th>beiwe</th>\n",
       "      <th>redcap</th>\n",
       "      <th>beacon</th>\n",
       "      <th>tst</th>\n",
       "      <th>sol</th>\n",
       "      <th>naw</th>\n",
       "      <th>restful</th>\n",
       "    </tr>\n",
       "  </thead>\n",
       "  <tbody>\n",
       "    <tr>\n",
       "      <th>0</th>\n",
       "      <td>2020-05-13 09:10:00</td>\n",
       "      <td>2020-05-13</td>\n",
       "      <td>qh34m4r9</td>\n",
       "      <td>68.0</td>\n",
       "      <td>19.0</td>\n",
       "      <td>8.0</td>\n",
       "      <td>20.0</td>\n",
       "      <td>2.0</td>\n",
       "      <td>3.0</td>\n",
       "    </tr>\n",
       "    <tr>\n",
       "      <th>1</th>\n",
       "      <td>2020-05-13 09:15:00</td>\n",
       "      <td>2020-05-13</td>\n",
       "      <td>awa8uces</td>\n",
       "      <td>28.0</td>\n",
       "      <td>26.0</td>\n",
       "      <td>2.0</td>\n",
       "      <td>10.0</td>\n",
       "      <td>3.0</td>\n",
       "      <td>1.0</td>\n",
       "    </tr>\n",
       "    <tr>\n",
       "      <th>2</th>\n",
       "      <td>2020-05-13 09:42:00</td>\n",
       "      <td>2020-05-13</td>\n",
       "      <td>xxvnhauv</td>\n",
       "      <td>21.0</td>\n",
       "      <td>22.0</td>\n",
       "      <td>6.0</td>\n",
       "      <td>30.0</td>\n",
       "      <td>3.0</td>\n",
       "      <td>1.0</td>\n",
       "    </tr>\n",
       "    <tr>\n",
       "      <th>3</th>\n",
       "      <td>2020-05-13 09:43:00</td>\n",
       "      <td>2020-05-13</td>\n",
       "      <td>rvhdl2la</td>\n",
       "      <td>29.0</td>\n",
       "      <td>NaN</td>\n",
       "      <td>5.3</td>\n",
       "      <td>5.0</td>\n",
       "      <td>2.0</td>\n",
       "      <td>2.0</td>\n",
       "    </tr>\n",
       "    <tr>\n",
       "      <th>4</th>\n",
       "      <td>2020-05-13 10:11:00</td>\n",
       "      <td>2020-05-13</td>\n",
       "      <td>q5y11ytm</td>\n",
       "      <td>48.0</td>\n",
       "      <td>NaN</td>\n",
       "      <td>2.0</td>\n",
       "      <td>10.0</td>\n",
       "      <td>0.0</td>\n",
       "      <td>0.0</td>\n",
       "    </tr>\n",
       "  </tbody>\n",
       "</table>\n",
       "</div>"
      ],
      "text/plain": [
       "            timestamp   end_date     beiwe  redcap  beacon  tst   sol  naw  \\\n",
       "0 2020-05-13 09:10:00 2020-05-13  qh34m4r9    68.0    19.0  8.0  20.0  2.0   \n",
       "1 2020-05-13 09:15:00 2020-05-13  awa8uces    28.0    26.0  2.0  10.0  3.0   \n",
       "2 2020-05-13 09:42:00 2020-05-13  xxvnhauv    21.0    22.0  6.0  30.0  3.0   \n",
       "3 2020-05-13 09:43:00 2020-05-13  rvhdl2la    29.0     NaN  5.3   5.0  2.0   \n",
       "4 2020-05-13 10:11:00 2020-05-13  q5y11ytm    48.0     NaN  2.0  10.0  0.0   \n",
       "\n",
       "   restful  \n",
       "0      3.0  \n",
       "1      1.0  \n",
       "2      1.0  \n",
       "3      2.0  \n",
       "4      0.0  "
      ]
     },
     "execution_count": 9,
     "metadata": {},
     "output_type": "execute_result"
    }
   ],
   "source": [
    "srsq_raw = pd.read_csv(\"../data/processed/beiwe-morning_ema-ux_s20.csv\",parse_dates=[\"timestamp\"],infer_datetime_format=True)\n",
    "srsq_raw[\"date\"] = pd.to_datetime(srsq_raw[\"timestamp\"].dt.date)\n",
    "srsq = srsq_raw[[\"timestamp\",\"date\",\"beiwe\",\"redcap\",\"beacon\",\"tst\",\"sol\",\"naw\",\"restful\"]]\n",
    "srsq.rename({\"date\":\"end_date\"},axis=\"columns\",inplace=True)\n",
    "srsq.head()"
   ]
  },
  {
   "cell_type": "markdown",
   "metadata": {},
   "source": [
    "## Target: Fitbit Sleep Quality (FBSQ)\n",
    "Fitbit sleep summary data is imported below."
   ]
  },
  {
   "cell_type": "code",
   "execution_count": 10,
   "metadata": {},
   "outputs": [
    {
     "data": {
      "text/html": [
       "<div>\n",
       "<style scoped>\n",
       "    .dataframe tbody tr th:only-of-type {\n",
       "        vertical-align: middle;\n",
       "    }\n",
       "\n",
       "    .dataframe tbody tr th {\n",
       "        vertical-align: top;\n",
       "    }\n",
       "\n",
       "    .dataframe thead th {\n",
       "        text-align: right;\n",
       "    }\n",
       "</style>\n",
       "<table border=\"1\" class=\"dataframe\">\n",
       "  <thead>\n",
       "    <tr style=\"text-align: right;\">\n",
       "      <th></th>\n",
       "      <th>start_time</th>\n",
       "      <th>end_time</th>\n",
       "      <th>start_date</th>\n",
       "      <th>end_date</th>\n",
       "      <th>beiwe</th>\n",
       "      <th>redcap</th>\n",
       "      <th>beacon</th>\n",
       "      <th>tst</th>\n",
       "      <th>se</th>\n",
       "      <th>rem_percent</th>\n",
       "      <th>light_percent</th>\n",
       "      <th>deep_percent</th>\n",
       "    </tr>\n",
       "  </thead>\n",
       "  <tbody>\n",
       "    <tr>\n",
       "      <th>0</th>\n",
       "      <td>2020-05-14 00:27:00</td>\n",
       "      <td>2020-05-14 07:13:00</td>\n",
       "      <td>2020-05-14</td>\n",
       "      <td>2020-05-14</td>\n",
       "      <td>hfttkth7</td>\n",
       "      <td>NaN</td>\n",
       "      <td>NaN</td>\n",
       "      <td>6.316667</td>\n",
       "      <td>93.349754</td>\n",
       "      <td>0.216359</td>\n",
       "      <td>0.562005</td>\n",
       "      <td>0.221636</td>\n",
       "    </tr>\n",
       "    <tr>\n",
       "      <th>1</th>\n",
       "      <td>2020-05-14 23:53:30</td>\n",
       "      <td>2020-05-15 08:06:30</td>\n",
       "      <td>2020-05-14</td>\n",
       "      <td>2020-05-15</td>\n",
       "      <td>hfttkth7</td>\n",
       "      <td>NaN</td>\n",
       "      <td>NaN</td>\n",
       "      <td>6.533333</td>\n",
       "      <td>79.513185</td>\n",
       "      <td>0.119898</td>\n",
       "      <td>0.637755</td>\n",
       "      <td>0.242347</td>\n",
       "    </tr>\n",
       "    <tr>\n",
       "      <th>2</th>\n",
       "      <td>2020-05-15 23:28:00</td>\n",
       "      <td>2020-05-16 04:57:00</td>\n",
       "      <td>2020-05-15</td>\n",
       "      <td>2020-05-16</td>\n",
       "      <td>hfttkth7</td>\n",
       "      <td>NaN</td>\n",
       "      <td>NaN</td>\n",
       "      <td>4.783333</td>\n",
       "      <td>87.234043</td>\n",
       "      <td>0.174216</td>\n",
       "      <td>0.662021</td>\n",
       "      <td>0.163763</td>\n",
       "    </tr>\n",
       "    <tr>\n",
       "      <th>3</th>\n",
       "      <td>2020-05-17 02:01:30</td>\n",
       "      <td>2020-05-17 09:28:30</td>\n",
       "      <td>2020-05-17</td>\n",
       "      <td>2020-05-17</td>\n",
       "      <td>hfttkth7</td>\n",
       "      <td>NaN</td>\n",
       "      <td>NaN</td>\n",
       "      <td>6.716667</td>\n",
       "      <td>90.156600</td>\n",
       "      <td>0.205955</td>\n",
       "      <td>0.600496</td>\n",
       "      <td>0.193548</td>\n",
       "    </tr>\n",
       "    <tr>\n",
       "      <th>4</th>\n",
       "      <td>2020-05-18 00:24:00</td>\n",
       "      <td>2020-05-18 07:20:00</td>\n",
       "      <td>2020-05-18</td>\n",
       "      <td>2020-05-18</td>\n",
       "      <td>hfttkth7</td>\n",
       "      <td>NaN</td>\n",
       "      <td>NaN</td>\n",
       "      <td>5.850000</td>\n",
       "      <td>84.375000</td>\n",
       "      <td>0.250712</td>\n",
       "      <td>0.475783</td>\n",
       "      <td>0.273504</td>\n",
       "    </tr>\n",
       "  </tbody>\n",
       "</table>\n",
       "</div>"
      ],
      "text/plain": [
       "           start_time            end_time start_date   end_date     beiwe  \\\n",
       "0 2020-05-14 00:27:00 2020-05-14 07:13:00 2020-05-14 2020-05-14  hfttkth7   \n",
       "1 2020-05-14 23:53:30 2020-05-15 08:06:30 2020-05-14 2020-05-15  hfttkth7   \n",
       "2 2020-05-15 23:28:00 2020-05-16 04:57:00 2020-05-15 2020-05-16  hfttkth7   \n",
       "3 2020-05-17 02:01:30 2020-05-17 09:28:30 2020-05-17 2020-05-17  hfttkth7   \n",
       "4 2020-05-18 00:24:00 2020-05-18 07:20:00 2020-05-18 2020-05-18  hfttkth7   \n",
       "\n",
       "   redcap  beacon       tst         se  rem_percent  light_percent  \\\n",
       "0     NaN     NaN  6.316667  93.349754     0.216359       0.562005   \n",
       "1     NaN     NaN  6.533333  79.513185     0.119898       0.637755   \n",
       "2     NaN     NaN  4.783333  87.234043     0.174216       0.662021   \n",
       "3     NaN     NaN  6.716667  90.156600     0.205955       0.600496   \n",
       "4     NaN     NaN  5.850000  84.375000     0.250712       0.475783   \n",
       "\n",
       "   deep_percent  \n",
       "0      0.221636  \n",
       "1      0.242347  \n",
       "2      0.163763  \n",
       "3      0.193548  \n",
       "4      0.273504  "
      ]
     },
     "execution_count": 10,
     "metadata": {},
     "output_type": "execute_result"
    }
   ],
   "source": [
    "fbsq_raw = pd.read_csv(\"../data/processed/fitbit-sleep_summary-ux_s20.csv\",parse_dates=[\"start_time\",\"end_time\",\"start_date\",\"end_date\"],infer_datetime_format=True)\n",
    "fbsq = fbsq_raw[[\"start_time\",\"end_time\",\"start_date\",\"end_date\",\"beiwe\",\"redcap\",\"beacon\",\"tst_fb\",\"efficiency\",\"rem_percent\",\"light_percent\",\"deep_percent\"]]\n",
    "fbsq.rename({\"tst_fb\":\"tst\",\"efficiency\":\"se\"},axis=\"columns\",inplace=True)\n",
    "fbsq.head()"
   ]
  },
  {
   "cell_type": "markdown",
   "metadata": {},
   "source": [
    "## Target: Combined Sleep Quality (CSQ)\n",
    "The sleep quality dataset has already been created from a previous analysis so we simply just have to import it.\n",
    "\n",
    "I don't think we will be using this dataset, but we might as well keep it here."
   ]
  },
  {
   "cell_type": "code",
   "execution_count": 11,
   "metadata": {},
   "outputs": [
    {
     "data": {
      "text/html": [
       "<div>\n",
       "<style scoped>\n",
       "    .dataframe tbody tr th:only-of-type {\n",
       "        vertical-align: middle;\n",
       "    }\n",
       "\n",
       "    .dataframe tbody tr th {\n",
       "        vertical-align: top;\n",
       "    }\n",
       "\n",
       "    .dataframe thead th {\n",
       "        text-align: right;\n",
       "    }\n",
       "</style>\n",
       "<table border=\"1\" class=\"dataframe\">\n",
       "  <thead>\n",
       "    <tr style=\"text-align: right;\">\n",
       "      <th></th>\n",
       "      <th>start_time</th>\n",
       "      <th>end_time</th>\n",
       "      <th>start_date</th>\n",
       "      <th>end_date</th>\n",
       "      <th>date</th>\n",
       "      <th>beiwe</th>\n",
       "      <th>redcap</th>\n",
       "      <th>beacon</th>\n",
       "      <th>tst_ema</th>\n",
       "      <th>sol_ema</th>\n",
       "      <th>naw_ema</th>\n",
       "      <th>restful_ema</th>\n",
       "      <th>tst_fb</th>\n",
       "      <th>efficiency</th>\n",
       "      <th>rem_percent</th>\n",
       "      <th>nrem_percent</th>\n",
       "    </tr>\n",
       "  </thead>\n",
       "  <tbody>\n",
       "    <tr>\n",
       "      <th>0</th>\n",
       "      <td>2020-05-14 01:06:00</td>\n",
       "      <td>2020-05-14 11:39:30</td>\n",
       "      <td>2020-05-14</td>\n",
       "      <td>2020-05-14</td>\n",
       "      <td>2020-05-14</td>\n",
       "      <td>15tejjtw</td>\n",
       "      <td>45.0</td>\n",
       "      <td>NaN</td>\n",
       "      <td>9.0</td>\n",
       "      <td>30.0</td>\n",
       "      <td>5.0</td>\n",
       "      <td>2.0</td>\n",
       "      <td>8.766667</td>\n",
       "      <td>83.096367</td>\n",
       "      <td>0.231939</td>\n",
       "      <td>0.768061</td>\n",
       "    </tr>\n",
       "    <tr>\n",
       "      <th>1</th>\n",
       "      <td>2020-05-16 02:19:00</td>\n",
       "      <td>2020-05-16 10:00:30</td>\n",
       "      <td>2020-05-16</td>\n",
       "      <td>2020-05-16</td>\n",
       "      <td>2020-05-16</td>\n",
       "      <td>15tejjtw</td>\n",
       "      <td>45.0</td>\n",
       "      <td>NaN</td>\n",
       "      <td>9.0</td>\n",
       "      <td>15.0</td>\n",
       "      <td>2.0</td>\n",
       "      <td>2.0</td>\n",
       "      <td>6.600000</td>\n",
       "      <td>85.900217</td>\n",
       "      <td>0.123737</td>\n",
       "      <td>0.876263</td>\n",
       "    </tr>\n",
       "    <tr>\n",
       "      <th>2</th>\n",
       "      <td>2020-05-17 00:27:00</td>\n",
       "      <td>2020-05-17 10:28:00</td>\n",
       "      <td>2020-05-17</td>\n",
       "      <td>2020-05-17</td>\n",
       "      <td>2020-05-17</td>\n",
       "      <td>15tejjtw</td>\n",
       "      <td>45.0</td>\n",
       "      <td>NaN</td>\n",
       "      <td>9.0</td>\n",
       "      <td>30.0</td>\n",
       "      <td>1.0</td>\n",
       "      <td>2.0</td>\n",
       "      <td>8.850000</td>\n",
       "      <td>88.352745</td>\n",
       "      <td>0.254237</td>\n",
       "      <td>0.745763</td>\n",
       "    </tr>\n",
       "    <tr>\n",
       "      <th>3</th>\n",
       "      <td>2020-05-18 01:37:00</td>\n",
       "      <td>2020-05-18 10:59:30</td>\n",
       "      <td>2020-05-18</td>\n",
       "      <td>2020-05-18</td>\n",
       "      <td>2020-05-18</td>\n",
       "      <td>15tejjtw</td>\n",
       "      <td>45.0</td>\n",
       "      <td>NaN</td>\n",
       "      <td>9.0</td>\n",
       "      <td>25.0</td>\n",
       "      <td>2.0</td>\n",
       "      <td>1.0</td>\n",
       "      <td>7.966667</td>\n",
       "      <td>85.053381</td>\n",
       "      <td>0.207113</td>\n",
       "      <td>0.792887</td>\n",
       "    </tr>\n",
       "    <tr>\n",
       "      <th>4</th>\n",
       "      <td>2020-05-21 23:59:30</td>\n",
       "      <td>2020-05-22 09:27:30</td>\n",
       "      <td>2020-05-21</td>\n",
       "      <td>2020-05-22</td>\n",
       "      <td>2020-05-22</td>\n",
       "      <td>15tejjtw</td>\n",
       "      <td>45.0</td>\n",
       "      <td>NaN</td>\n",
       "      <td>9.0</td>\n",
       "      <td>20.0</td>\n",
       "      <td>2.0</td>\n",
       "      <td>2.0</td>\n",
       "      <td>8.316667</td>\n",
       "      <td>87.852113</td>\n",
       "      <td>0.264529</td>\n",
       "      <td>0.735471</td>\n",
       "    </tr>\n",
       "  </tbody>\n",
       "</table>\n",
       "</div>"
      ],
      "text/plain": [
       "           start_time            end_time start_date   end_date       date  \\\n",
       "0 2020-05-14 01:06:00 2020-05-14 11:39:30 2020-05-14 2020-05-14 2020-05-14   \n",
       "1 2020-05-16 02:19:00 2020-05-16 10:00:30 2020-05-16 2020-05-16 2020-05-16   \n",
       "2 2020-05-17 00:27:00 2020-05-17 10:28:00 2020-05-17 2020-05-17 2020-05-17   \n",
       "3 2020-05-18 01:37:00 2020-05-18 10:59:30 2020-05-18 2020-05-18 2020-05-18   \n",
       "4 2020-05-21 23:59:30 2020-05-22 09:27:30 2020-05-21 2020-05-22 2020-05-22   \n",
       "\n",
       "      beiwe  redcap  beacon  tst_ema  sol_ema  naw_ema  restful_ema    tst_fb  \\\n",
       "0  15tejjtw    45.0     NaN      9.0     30.0      5.0          2.0  8.766667   \n",
       "1  15tejjtw    45.0     NaN      9.0     15.0      2.0          2.0  6.600000   \n",
       "2  15tejjtw    45.0     NaN      9.0     30.0      1.0          2.0  8.850000   \n",
       "3  15tejjtw    45.0     NaN      9.0     25.0      2.0          1.0  7.966667   \n",
       "4  15tejjtw    45.0     NaN      9.0     20.0      2.0          2.0  8.316667   \n",
       "\n",
       "   efficiency  rem_percent  nrem_percent  \n",
       "0   83.096367     0.231939      0.768061  \n",
       "1   85.900217     0.123737      0.876263  \n",
       "2   88.352745     0.254237      0.745763  \n",
       "3   85.053381     0.207113      0.792887  \n",
       "4   87.852113     0.264529      0.735471  "
      ]
     },
     "execution_count": 11,
     "metadata": {},
     "output_type": "execute_result"
    }
   ],
   "source": [
    "sleep_quality = pd.read_csv(\"../data/processed/beiwe_fitbit-sleep_summary-ux_s20.csv\",parse_dates=[\"start_time\",\"end_time\",\"start_date\",\"end_date\",\"date\"],infer_datetime_format=True)\n",
    "csq = sleep_quality[[\"start_time\",\"end_time\",\"start_date\",\"end_date\",\"date\",\"beiwe\",\"redcap\",\"beacon\",\"tst_ema\",\"sol_ema\",\"naw_ema\",\"restful_ema\",\"tst_fb\",\"efficiency\",\"rem_percent\",\"nrem_percent\"]]\n",
    "csq.head() # Combined Sleep Quality (csq)"
   ]
  },
  {
   "cell_type": "markdown",
   "metadata": {},
   "source": [
    "<a id=\"encoding\" ></a>"
   ]
  },
  {
   "cell_type": "markdown",
   "metadata": {},
   "source": [
    "# Target Encoding\n",
    "We will encode all the target sleep quality variables as binary where 0 represents poor/negative outcomes and 1 are good/positive outcomes."
   ]
  },
  {
   "cell_type": "code",
   "execution_count": 12,
   "metadata": {},
   "outputs": [],
   "source": [
    "def plot_distribution(df, variable,**kwargs):\n",
    "    \"\"\"plots distribution of values\"\"\"\n",
    "    fig, ax = plt.subplots(figsize=(12,4))\n",
    "    # density plot\n",
    "    sns.kdeplot(x=variable,cut=0,data=df,zorder=2,\n",
    "                linewidth=3,color=\"black\",ax=ax)\n",
    "    # x-axis\n",
    "    plt.xticks(fontsize=14)\n",
    "    ax.set_xlabel(variable.upper(),fontsize=16)\n",
    "    if \"xlim\" in kwargs.keys():\n",
    "        ax.set_xlim(kwargs[\"xlim\"])\n",
    "    else:\n",
    "        ax.set_xlim([0,max(df[variable])])\n",
    "    # cumulative\n",
    "    ax2 = ax.twinx()\n",
    "    sns.kdeplot(x=variable,cut=0,data=df,cumulative=True,zorder=1,\n",
    "                linewidth=2,color=\"firebrick\",ax=ax2)\n",
    "    # y-axis\n",
    "    ax.set_yticks([])\n",
    "    ax.set_ylabel(\"\")\n",
    "    ax2.set_ylabel(\"\")\n",
    "    ax2.set_ylim([0,1])\n",
    "    ax2.set_yticks([0,0.25,0.5,0.75,1])\n",
    "    plt.yticks(fontsize=14)\n",
    "    # remainder\n",
    "    for loc in [\"left\",\"top\"]:\n",
    "        ax.spines[loc].set_visible(False)\n",
    "        ax2.spines[loc].set_visible(False)\n",
    "    plt.show()\n",
    "    plt.close()"
   ]
  },
  {
   "cell_type": "markdown",
   "metadata": {},
   "source": [
    "## SE\n",
    "Based on a discussion with Dr. Schnyer, he suggested this scale (with some minor tweaks in language from me):\n",
    "\n",
    "| SE | Rating | Value |\n",
    "| --- | --- | --- |\n",
    "| >90% | Excellent | 3 |\n",
    "| 85% - 90% | Good | 2 |\n",
    "| 80% - 85% | Typical | 1 |\n",
    "| <80% | Poor | 0 |\n",
    "\n"
   ]
  },
  {
   "cell_type": "code",
   "execution_count": 13,
   "metadata": {},
   "outputs": [
    {
     "data": {
      "image/png": "[encoded data removed]",
      "text/plain": [
       "<Figure size 864x288 with 2 Axes>"
      ]
     },
     "metadata": {
      "needs_background": "light"
     },
     "output_type": "display_data"
    }
   ],
   "source": [
    "plot_distribution(fbsq,\"se\",xlim=[60,100])"
   ]
  },
  {
   "cell_type": "markdown",
   "metadata": {},
   "source": [
    "Here, we just say the SE is good (1) when above 85%, otherwise it is bad (0)."
   ]
  },
  {
   "cell_type": "code",
   "execution_count": 14,
   "metadata": {},
   "outputs": [],
   "source": [
    "def encode_se(value):\n",
    "    \"\"\"returns encoded value for se\"\"\"\n",
    "    if value >= 85:\n",
    "        return 1\n",
    "    else:\n",
    "        return 0"
   ]
  },
  {
   "cell_type": "markdown",
   "metadata": {},
   "source": [
    "## TST\n",
    "Based on a \"traditional\" recommendations, we can lump `tst` into three categories:\n",
    "\n",
    "| TST | Rating | Value |\n",
    "| --- | --- | --- |\n",
    "| >9 h | High | 0 |\n",
    "| 7-9 h | Typical | 1 |\n",
    "| <7 h | Low | 0 |"
   ]
  },
  {
   "cell_type": "code",
   "execution_count": 15,
   "metadata": {},
   "outputs": [],
   "source": [
    "def encode_tst(value):\n",
    "    \"\"\"returns score of tsts\"\"\"\n",
    "    if value > 9:\n",
    "        return 0\n",
    "    elif value >= 7:\n",
    "        return 1\n",
    "    else:\n",
    "        return 0"
   ]
  },
  {
   "cell_type": "markdown",
   "metadata": {},
   "source": [
    "## REM\n",
    "Ideally you should be spending between 20% and 25% of your night in REM sleep."
   ]
  },
  {
   "cell_type": "code",
   "execution_count": 16,
   "metadata": {},
   "outputs": [],
   "source": [
    "def encode_rem(value):\n",
    "    \"\"\"returns score of REM percent\"\"\"\n",
    "    if value >= 0.2 and value <= 0.25:\n",
    "        return 1\n",
    "    else:\n",
    "        return 0"
   ]
  },
  {
   "cell_type": "markdown",
   "metadata": {},
   "source": [
    "## Light Sleep\n",
    "Light Sleep should be a maximum of about 60% but we also don't want too little. "
   ]
  },
  {
   "cell_type": "code",
   "execution_count": 17,
   "metadata": {},
   "outputs": [],
   "source": [
    "def encode_light(value):\n",
    "    \"\"\"returns score of light percent\"\"\"\n",
    "    if value >= 0.4 and value <= 0.6:\n",
    "        return 1\n",
    "    else:\n",
    "        return 0"
   ]
  },
  {
   "cell_type": "markdown",
   "metadata": {},
   "source": [
    "## Deep Sleep\n",
    "Deep sleep should encompass about 12% to 23% of your night."
   ]
  },
  {
   "cell_type": "code",
   "execution_count": 18,
   "metadata": {},
   "outputs": [],
   "source": [
    "def encode_deep(value):\n",
    "    \"\"\"returns score of deep percent\"\"\"\n",
    "    if value >= 0.12 and value <= 0.23:\n",
    "        return 1\n",
    "    else:\n",
    "        return 0"
   ]
  },
  {
   "cell_type": "markdown",
   "metadata": {},
   "source": [
    "## SOL\n",
    "The National Sleep Foundation says 30 minutes or less is a marker for good sleep quality. However, looking at the distribution of values, perhaps we should alter that threshold since many of the participants fall asleep faster than that."
   ]
  },
  {
   "cell_type": "code",
   "execution_count": 19,
   "metadata": {},
   "outputs": [
    {
     "data": {
      "image/png": "[encoded data removed]",
      "text/plain": [
       "<Figure size 864x288 with 2 Axes>"
      ]
     },
     "metadata": {
      "needs_background": "light"
     },
     "output_type": "display_data"
    }
   ],
   "source": [
    "plot_distribution(srsq,\"sol\")"
   ]
  },
  {
   "cell_type": "code",
   "execution_count": 20,
   "metadata": {},
   "outputs": [],
   "source": [
    "def encode_sol(value):\n",
    "    \"\"\"returns score of sol\"\"\"\n",
    "    if value < 15:\n",
    "        return 1\n",
    "    else:\n",
    "        return 0"
   ]
  },
  {
   "cell_type": "markdown",
   "metadata": {},
   "source": [
    "## NAW\n",
    "We group NAW into a good and bad category based on [Ohayon et al., 2017](https://www.sciencedirect.com/science/article/pii/S2352721816301309?casa_token=56p9duOGsL4AAAAA:tmPWLtzq0Z9zGGq-w0qWBXJT-VEDeoZ0dOwL06G-BwbWMHA3uT_KBjxd08HPyFZWNqIpm_0m).\n",
    "\n",
    "| NAW | Rating | Value |\n",
    "| --- | --- | --- |\n",
    "| 0 or 1 | Good | 1 |\n",
    "| >1 | Bad | 0 |"
   ]
  },
  {
   "cell_type": "code",
   "execution_count": 21,
   "metadata": {},
   "outputs": [],
   "source": [
    "def encode_naw(value):\n",
    "    \"\"\"returns score of naw\"\"\"\n",
    "    if value < 2:\n",
    "        return 1\n",
    "    else:\n",
    "        return 0"
   ]
  },
  {
   "cell_type": "markdown",
   "metadata": {},
   "source": [
    "## Restfulness\n",
    "Restfulness is one of the five metrics that is rated on a 0 to 3 Likert scale. So we can create a more generic function here for later use."
   ]
  },
  {
   "cell_type": "code",
   "execution_count": 22,
   "metadata": {},
   "outputs": [],
   "source": [
    "def encode_likert(value):\n",
    "    \"\"\"returns score for a 0-3 Likert measurement\"\"\"\n",
    "    if value > 1:\n",
    "        return 1\n",
    "    else:\n",
    "        return 0"
   ]
  },
  {
   "cell_type": "markdown",
   "metadata": {},
   "source": [
    "## Encoding Sleep Quality"
   ]
  },
  {
   "cell_type": "markdown",
   "metadata": {},
   "source": [
    "### Self-Report Sleep\n",
    "We start with self-report metrics of sleep quality."
   ]
  },
  {
   "cell_type": "code",
   "execution_count": 23,
   "metadata": {},
   "outputs": [
    {
     "data": {
      "text/html": [
       "<div>\n",
       "<style scoped>\n",
       "    .dataframe tbody tr th:only-of-type {\n",
       "        vertical-align: middle;\n",
       "    }\n",
       "\n",
       "    .dataframe tbody tr th {\n",
       "        vertical-align: top;\n",
       "    }\n",
       "\n",
       "    .dataframe thead th {\n",
       "        text-align: right;\n",
       "    }\n",
       "</style>\n",
       "<table border=\"1\" class=\"dataframe\">\n",
       "  <thead>\n",
       "    <tr style=\"text-align: right;\">\n",
       "      <th></th>\n",
       "      <th>timestamp</th>\n",
       "      <th>end_date</th>\n",
       "      <th>beiwe</th>\n",
       "      <th>redcap</th>\n",
       "      <th>beacon</th>\n",
       "      <th>tst</th>\n",
       "      <th>sol</th>\n",
       "      <th>naw</th>\n",
       "      <th>restful</th>\n",
       "      <th>tst_binary</th>\n",
       "      <th>sol_binary</th>\n",
       "      <th>naw_binary</th>\n",
       "      <th>restful_binary</th>\n",
       "    </tr>\n",
       "  </thead>\n",
       "  <tbody>\n",
       "    <tr>\n",
       "      <th>0</th>\n",
       "      <td>2020-05-13 09:10:00</td>\n",
       "      <td>2020-05-13</td>\n",
       "      <td>qh34m4r9</td>\n",
       "      <td>68.0</td>\n",
       "      <td>19.0</td>\n",
       "      <td>8.0</td>\n",
       "      <td>20.0</td>\n",
       "      <td>2.0</td>\n",
       "      <td>3.0</td>\n",
       "      <td>1</td>\n",
       "      <td>0</td>\n",
       "      <td>0</td>\n",
       "      <td>1</td>\n",
       "    </tr>\n",
       "    <tr>\n",
       "      <th>1</th>\n",
       "      <td>2020-05-13 09:15:00</td>\n",
       "      <td>2020-05-13</td>\n",
       "      <td>awa8uces</td>\n",
       "      <td>28.0</td>\n",
       "      <td>26.0</td>\n",
       "      <td>2.0</td>\n",
       "      <td>10.0</td>\n",
       "      <td>3.0</td>\n",
       "      <td>1.0</td>\n",
       "      <td>0</td>\n",
       "      <td>1</td>\n",
       "      <td>0</td>\n",
       "      <td>0</td>\n",
       "    </tr>\n",
       "    <tr>\n",
       "      <th>2</th>\n",
       "      <td>2020-05-13 09:42:00</td>\n",
       "      <td>2020-05-13</td>\n",
       "      <td>xxvnhauv</td>\n",
       "      <td>21.0</td>\n",
       "      <td>22.0</td>\n",
       "      <td>6.0</td>\n",
       "      <td>30.0</td>\n",
       "      <td>3.0</td>\n",
       "      <td>1.0</td>\n",
       "      <td>0</td>\n",
       "      <td>0</td>\n",
       "      <td>0</td>\n",
       "      <td>0</td>\n",
       "    </tr>\n",
       "    <tr>\n",
       "      <th>3</th>\n",
       "      <td>2020-05-13 09:43:00</td>\n",
       "      <td>2020-05-13</td>\n",
       "      <td>rvhdl2la</td>\n",
       "      <td>29.0</td>\n",
       "      <td>NaN</td>\n",
       "      <td>5.3</td>\n",
       "      <td>5.0</td>\n",
       "      <td>2.0</td>\n",
       "      <td>2.0</td>\n",
       "      <td>0</td>\n",
       "      <td>1</td>\n",
       "      <td>0</td>\n",
       "      <td>1</td>\n",
       "    </tr>\n",
       "    <tr>\n",
       "      <th>4</th>\n",
       "      <td>2020-05-13 10:11:00</td>\n",
       "      <td>2020-05-13</td>\n",
       "      <td>q5y11ytm</td>\n",
       "      <td>48.0</td>\n",
       "      <td>NaN</td>\n",
       "      <td>2.0</td>\n",
       "      <td>10.0</td>\n",
       "      <td>0.0</td>\n",
       "      <td>0.0</td>\n",
       "      <td>0</td>\n",
       "      <td>1</td>\n",
       "      <td>1</td>\n",
       "      <td>0</td>\n",
       "    </tr>\n",
       "  </tbody>\n",
       "</table>\n",
       "</div>"
      ],
      "text/plain": [
       "            timestamp   end_date     beiwe  redcap  beacon  tst   sol  naw  \\\n",
       "0 2020-05-13 09:10:00 2020-05-13  qh34m4r9    68.0    19.0  8.0  20.0  2.0   \n",
       "1 2020-05-13 09:15:00 2020-05-13  awa8uces    28.0    26.0  2.0  10.0  3.0   \n",
       "2 2020-05-13 09:42:00 2020-05-13  xxvnhauv    21.0    22.0  6.0  30.0  3.0   \n",
       "3 2020-05-13 09:43:00 2020-05-13  rvhdl2la    29.0     NaN  5.3   5.0  2.0   \n",
       "4 2020-05-13 10:11:00 2020-05-13  q5y11ytm    48.0     NaN  2.0  10.0  0.0   \n",
       "\n",
       "   restful  tst_binary  sol_binary  naw_binary  restful_binary  \n",
       "0      3.0           1           0           0               1  \n",
       "1      1.0           0           1           0               0  \n",
       "2      1.0           0           0           0               0  \n",
       "3      2.0           0           1           0               1  \n",
       "4      0.0           0           1           1               0  "
      ]
     },
     "execution_count": 23,
     "metadata": {},
     "output_type": "execute_result"
    }
   ],
   "source": [
    "for sm, f in zip([\"tst\",\"sol\",\"naw\",\"restful\"], [encode_tst,encode_sol,encode_naw,encode_likert]):\n",
    "    srsq[f\"{sm}_binary\"] = srsq.apply(lambda x: f(x[sm]), axis=\"columns\")\n",
    "    \n",
    "srsq.head()"
   ]
  },
  {
   "cell_type": "markdown",
   "metadata": {},
   "source": [
    "### Fitbit Sleep\n",
    "And now Fitbit-measured sleep quality."
   ]
  },
  {
   "cell_type": "code",
   "execution_count": 24,
   "metadata": {},
   "outputs": [
    {
     "data": {
      "text/html": [
       "<div>\n",
       "<style scoped>\n",
       "    .dataframe tbody tr th:only-of-type {\n",
       "        vertical-align: middle;\n",
       "    }\n",
       "\n",
       "    .dataframe tbody tr th {\n",
       "        vertical-align: top;\n",
       "    }\n",
       "\n",
       "    .dataframe thead th {\n",
       "        text-align: right;\n",
       "    }\n",
       "</style>\n",
       "<table border=\"1\" class=\"dataframe\">\n",
       "  <thead>\n",
       "    <tr style=\"text-align: right;\">\n",
       "      <th></th>\n",
       "      <th>start_time</th>\n",
       "      <th>end_time</th>\n",
       "      <th>start_date</th>\n",
       "      <th>end_date</th>\n",
       "      <th>beiwe</th>\n",
       "      <th>redcap</th>\n",
       "      <th>beacon</th>\n",
       "      <th>tst</th>\n",
       "      <th>se</th>\n",
       "      <th>rem_percent</th>\n",
       "      <th>light_percent</th>\n",
       "      <th>deep_percent</th>\n",
       "      <th>tst_binary</th>\n",
       "      <th>se_binary</th>\n",
       "      <th>rem_percent_binary</th>\n",
       "      <th>light_percent_binary</th>\n",
       "      <th>deep_percent_binary</th>\n",
       "    </tr>\n",
       "  </thead>\n",
       "  <tbody>\n",
       "    <tr>\n",
       "      <th>0</th>\n",
       "      <td>2020-05-14 00:27:00</td>\n",
       "      <td>2020-05-14 07:13:00</td>\n",
       "      <td>2020-05-14</td>\n",
       "      <td>2020-05-14</td>\n",
       "      <td>hfttkth7</td>\n",
       "      <td>NaN</td>\n",
       "      <td>NaN</td>\n",
       "      <td>6.316667</td>\n",
       "      <td>93.349754</td>\n",
       "      <td>0.216359</td>\n",
       "      <td>0.562005</td>\n",
       "      <td>0.221636</td>\n",
       "      <td>0</td>\n",
       "      <td>1</td>\n",
       "      <td>1</td>\n",
       "      <td>1</td>\n",
       "      <td>1</td>\n",
       "    </tr>\n",
       "    <tr>\n",
       "      <th>1</th>\n",
       "      <td>2020-05-14 23:53:30</td>\n",
       "      <td>2020-05-15 08:06:30</td>\n",
       "      <td>2020-05-14</td>\n",
       "      <td>2020-05-15</td>\n",
       "      <td>hfttkth7</td>\n",
       "      <td>NaN</td>\n",
       "      <td>NaN</td>\n",
       "      <td>6.533333</td>\n",
       "      <td>79.513185</td>\n",
       "      <td>0.119898</td>\n",
       "      <td>0.637755</td>\n",
       "      <td>0.242347</td>\n",
       "      <td>0</td>\n",
       "      <td>0</td>\n",
       "      <td>0</td>\n",
       "      <td>0</td>\n",
       "      <td>0</td>\n",
       "    </tr>\n",
       "    <tr>\n",
       "      <th>2</th>\n",
       "      <td>2020-05-15 23:28:00</td>\n",
       "      <td>2020-05-16 04:57:00</td>\n",
       "      <td>2020-05-15</td>\n",
       "      <td>2020-05-16</td>\n",
       "      <td>hfttkth7</td>\n",
       "      <td>NaN</td>\n",
       "      <td>NaN</td>\n",
       "      <td>4.783333</td>\n",
       "      <td>87.234043</td>\n",
       "      <td>0.174216</td>\n",
       "      <td>0.662021</td>\n",
       "      <td>0.163763</td>\n",
       "      <td>0</td>\n",
       "      <td>1</td>\n",
       "      <td>0</td>\n",
       "      <td>0</td>\n",
       "      <td>1</td>\n",
       "    </tr>\n",
       "    <tr>\n",
       "      <th>3</th>\n",
       "      <td>2020-05-17 02:01:30</td>\n",
       "      <td>2020-05-17 09:28:30</td>\n",
       "      <td>2020-05-17</td>\n",
       "      <td>2020-05-17</td>\n",
       "      <td>hfttkth7</td>\n",
       "      <td>NaN</td>\n",
       "      <td>NaN</td>\n",
       "      <td>6.716667</td>\n",
       "      <td>90.156600</td>\n",
       "      <td>0.205955</td>\n",
       "      <td>0.600496</td>\n",
       "      <td>0.193548</td>\n",
       "      <td>0</td>\n",
       "      <td>1</td>\n",
       "      <td>1</td>\n",
       "      <td>0</td>\n",
       "      <td>1</td>\n",
       "    </tr>\n",
       "    <tr>\n",
       "      <th>4</th>\n",
       "      <td>2020-05-18 00:24:00</td>\n",
       "      <td>2020-05-18 07:20:00</td>\n",
       "      <td>2020-05-18</td>\n",
       "      <td>2020-05-18</td>\n",
       "      <td>hfttkth7</td>\n",
       "      <td>NaN</td>\n",
       "      <td>NaN</td>\n",
       "      <td>5.850000</td>\n",
       "      <td>84.375000</td>\n",
       "      <td>0.250712</td>\n",
       "      <td>0.475783</td>\n",
       "      <td>0.273504</td>\n",
       "      <td>0</td>\n",
       "      <td>0</td>\n",
       "      <td>0</td>\n",
       "      <td>1</td>\n",
       "      <td>0</td>\n",
       "    </tr>\n",
       "  </tbody>\n",
       "</table>\n",
       "</div>"
      ],
      "text/plain": [
       "           start_time            end_time start_date   end_date     beiwe  \\\n",
       "0 2020-05-14 00:27:00 2020-05-14 07:13:00 2020-05-14 2020-05-14  hfttkth7   \n",
       "1 2020-05-14 23:53:30 2020-05-15 08:06:30 2020-05-14 2020-05-15  hfttkth7   \n",
       "2 2020-05-15 23:28:00 2020-05-16 04:57:00 2020-05-15 2020-05-16  hfttkth7   \n",
       "3 2020-05-17 02:01:30 2020-05-17 09:28:30 2020-05-17 2020-05-17  hfttkth7   \n",
       "4 2020-05-18 00:24:00 2020-05-18 07:20:00 2020-05-18 2020-05-18  hfttkth7   \n",
       "\n",
       "   redcap  beacon       tst         se  rem_percent  light_percent  \\\n",
       "0     NaN     NaN  6.316667  93.349754     0.216359       0.562005   \n",
       "1     NaN     NaN  6.533333  79.513185     0.119898       0.637755   \n",
       "2     NaN     NaN  4.783333  87.234043     0.174216       0.662021   \n",
       "3     NaN     NaN  6.716667  90.156600     0.205955       0.600496   \n",
       "4     NaN     NaN  5.850000  84.375000     0.250712       0.475783   \n",
       "\n",
       "   deep_percent  tst_binary  se_binary  rem_percent_binary  \\\n",
       "0      0.221636           0          1                   1   \n",
       "1      0.242347           0          0                   0   \n",
       "2      0.163763           0          1                   0   \n",
       "3      0.193548           0          1                   1   \n",
       "4      0.273504           0          0                   0   \n",
       "\n",
       "   light_percent_binary  deep_percent_binary  \n",
       "0                     1                    1  \n",
       "1                     0                    0  \n",
       "2                     0                    1  \n",
       "3                     0                    1  \n",
       "4                     1                    0  "
      ]
     },
     "execution_count": 24,
     "metadata": {},
     "output_type": "execute_result"
    }
   ],
   "source": [
    "for sm, f in zip([\"tst\",\"se\",\"rem_percent\",\"light_percent\",\"deep_percent\"], [encode_tst,encode_se,encode_rem,encode_light,encode_deep]):\n",
    "    fbsq[f\"{sm}_binary\"] = fbsq.apply(lambda x: f(x[sm]), axis=\"columns\")\n",
    "    \n",
    "fbsq.head()"
   ]
  },
  {
   "cell_type": "markdown",
   "metadata": {},
   "source": [
    "<a id=\"feature_engineering\" ></a>"
   ]
  },
  {
   "cell_type": "markdown",
   "metadata": {},
   "source": [
    "# Feature Engineering\n",
    "In the following cells, we encode the various features to binary outcomes and combine the features into one dataset. "
   ]
  },
  {
   "cell_type": "markdown",
   "metadata": {},
   "source": [
    "## Encoding\n",
    "We encode each of the features into a binary outcome."
   ]
  },
  {
   "cell_type": "markdown",
   "metadata": {},
   "source": [
    "### Activity\n",
    "\n",
    "#### Activity Level\n",
    "Encoding the activity levels can be accomplished by looking at recommendations from the American College of Sports Medicine. ACSM states that adults should do:\n",
    "* Moderate Intensity: 150 - 300 minutes per week, or\n",
    "* Vigorous: 75 - 150 minutes per week, or\n",
    "* Combination\n",
    "\n",
    "Fitbit divides activity level into multiple categories that are not exactly the same label as what the ACSM states. While the cutoff points are not very clear, they are most likely:\n",
    "* Sedentary: MET < 1\n",
    "* Light: MET < 3\n",
    "* Fairly: MET < 6 (ACSM Moderate)\n",
    "* Very: > 6 (ACSM Vigorous)\n",
    "\n",
    "We look on a per-day basis so the cutoffs discussed above can be altered:\n",
    "* Moderate: 21 - 43 minutes per day\n",
    "* Vigorous: 11 - 21 minutes per day\n",
    "\n",
    "We will start with what seems the most straightforward separation: getting enough moderate and vigorous activity per day. Based on the guidelines, one needs twice as many moderate minutes as vigorous minutes of activity. In order to address the \"combination\" category, we can multiply the number of vigorous minutes by 2 and add this value to the moderately active minutes which will allow us to compare this value to the moderately active minutes threshold. "
   ]
  },
  {
   "cell_type": "code",
   "execution_count": 25,
   "metadata": {},
   "outputs": [],
   "source": [
    "def encode_activity_level(row, moderate_threshold=30):\n",
    "    \"\"\"returns score of activity level\"\"\"\n",
    "    if row[\"fairly_active_minutes\"] + row[\"very_active_minutes\"]*2 > moderate_threshold:\n",
    "        return 1\n",
    "    else:\n",
    "        return 0"
   ]
  },
  {
   "cell_type": "markdown",
   "metadata": {},
   "source": [
    "#### Number of Steps\n",
    "An attainable goal that all adults should strive for is about 10,000 steps a day"
   ]
  },
  {
   "cell_type": "code",
   "execution_count": 26,
   "metadata": {},
   "outputs": [],
   "source": [
    "def econde_steps(value):\n",
    "    if value > 10000:\n",
    "        return 1\n",
    "    else:\n",
    "        return 0"
   ]
  },
  {
   "cell_type": "code",
   "execution_count": 27,
   "metadata": {},
   "outputs": [
    {
     "data": {
      "text/html": [
       "<div>\n",
       "<style scoped>\n",
       "    .dataframe tbody tr th:only-of-type {\n",
       "        vertical-align: middle;\n",
       "    }\n",
       "\n",
       "    .dataframe tbody tr th {\n",
       "        vertical-align: top;\n",
       "    }\n",
       "\n",
       "    .dataframe thead th {\n",
       "        text-align: right;\n",
       "    }\n",
       "</style>\n",
       "<table border=\"1\" class=\"dataframe\">\n",
       "  <thead>\n",
       "    <tr style=\"text-align: right;\">\n",
       "      <th></th>\n",
       "      <th>date</th>\n",
       "      <th>beiwe</th>\n",
       "      <th>steps</th>\n",
       "      <th>sedentary_minutes</th>\n",
       "      <th>lightly_active_minutes</th>\n",
       "      <th>fairly_active_minutes</th>\n",
       "      <th>very_active_minutes</th>\n",
       "      <th>active_binary</th>\n",
       "      <th>steps_binary</th>\n",
       "    </tr>\n",
       "  </thead>\n",
       "  <tbody>\n",
       "    <tr>\n",
       "      <th>0</th>\n",
       "      <td>2020-05-13</td>\n",
       "      <td>hfttkth7</td>\n",
       "      <td>9207</td>\n",
       "      <td>1241</td>\n",
       "      <td>70</td>\n",
       "      <td>118</td>\n",
       "      <td>11</td>\n",
       "      <td>1</td>\n",
       "      <td>0</td>\n",
       "    </tr>\n",
       "    <tr>\n",
       "      <th>1</th>\n",
       "      <td>2020-05-14</td>\n",
       "      <td>hfttkth7</td>\n",
       "      <td>15207</td>\n",
       "      <td>614</td>\n",
       "      <td>263</td>\n",
       "      <td>134</td>\n",
       "      <td>23</td>\n",
       "      <td>1</td>\n",
       "      <td>1</td>\n",
       "    </tr>\n",
       "    <tr>\n",
       "      <th>2</th>\n",
       "      <td>2020-05-15</td>\n",
       "      <td>hfttkth7</td>\n",
       "      <td>14556</td>\n",
       "      <td>577</td>\n",
       "      <td>205</td>\n",
       "      <td>57</td>\n",
       "      <td>108</td>\n",
       "      <td>1</td>\n",
       "      <td>1</td>\n",
       "    </tr>\n",
       "    <tr>\n",
       "      <th>3</th>\n",
       "      <td>2020-05-16</td>\n",
       "      <td>hfttkth7</td>\n",
       "      <td>18453</td>\n",
       "      <td>760</td>\n",
       "      <td>176</td>\n",
       "      <td>24</td>\n",
       "      <td>151</td>\n",
       "      <td>1</td>\n",
       "      <td>1</td>\n",
       "    </tr>\n",
       "    <tr>\n",
       "      <th>4</th>\n",
       "      <td>2020-05-17</td>\n",
       "      <td>hfttkth7</td>\n",
       "      <td>15425</td>\n",
       "      <td>605</td>\n",
       "      <td>207</td>\n",
       "      <td>50</td>\n",
       "      <td>131</td>\n",
       "      <td>1</td>\n",
       "      <td>1</td>\n",
       "    </tr>\n",
       "  </tbody>\n",
       "</table>\n",
       "</div>"
      ],
      "text/plain": [
       "        date     beiwe  steps  sedentary_minutes  lightly_active_minutes  \\\n",
       "0 2020-05-13  hfttkth7   9207               1241                      70   \n",
       "1 2020-05-14  hfttkth7  15207                614                     263   \n",
       "2 2020-05-15  hfttkth7  14556                577                     205   \n",
       "3 2020-05-16  hfttkth7  18453                760                     176   \n",
       "4 2020-05-17  hfttkth7  15425                605                     207   \n",
       "\n",
       "   fairly_active_minutes  very_active_minutes  active_binary  steps_binary  \n",
       "0                    118                   11              1             0  \n",
       "1                    134                   23              1             1  \n",
       "2                     57                  108              1             1  \n",
       "3                     24                  151              1             1  \n",
       "4                     50                  131              1             1  "
      ]
     },
     "execution_count": 27,
     "metadata": {},
     "output_type": "execute_result"
    }
   ],
   "source": [
    "activity[\"active_binary\"] = activity.apply(lambda row: encode_activity_level(row), axis=\"columns\")\n",
    "activity[\"steps_binary\"] = activity.apply(lambda x: econde_steps(x[\"steps\"]), axis=\"columns\")\n",
    "activity.head()"
   ]
  },
  {
   "cell_type": "markdown",
   "metadata": {},
   "source": [
    "### Mood\n",
    "Each of the mood scores (except for `energy`) are on the same Likert scale as `restful` so we can just use that function to encode the mood scores. For `energy`, there are only two negative responses so we will consider the `Neutral` response as a positive score which allows us to use the same function."
   ]
  },
  {
   "cell_type": "code",
   "execution_count": 28,
   "metadata": {},
   "outputs": [
    {
     "data": {
      "text/html": [
       "<div>\n",
       "<style scoped>\n",
       "    .dataframe tbody tr th:only-of-type {\n",
       "        vertical-align: middle;\n",
       "    }\n",
       "\n",
       "    .dataframe tbody tr th {\n",
       "        vertical-align: top;\n",
       "    }\n",
       "\n",
       "    .dataframe thead th {\n",
       "        text-align: right;\n",
       "    }\n",
       "</style>\n",
       "<table border=\"1\" class=\"dataframe\">\n",
       "  <thead>\n",
       "    <tr style=\"text-align: right;\">\n",
       "      <th></th>\n",
       "      <th>timestamp</th>\n",
       "      <th>beiwe</th>\n",
       "      <th>content</th>\n",
       "      <th>stress</th>\n",
       "      <th>lonely</th>\n",
       "      <th>sad</th>\n",
       "      <th>energy</th>\n",
       "      <th>redcap</th>\n",
       "      <th>beacon</th>\n",
       "      <th>date</th>\n",
       "      <th>content_binary</th>\n",
       "      <th>stress_binary</th>\n",
       "      <th>lonely_binary</th>\n",
       "      <th>sad_binary</th>\n",
       "      <th>energy_binary</th>\n",
       "    </tr>\n",
       "  </thead>\n",
       "  <tbody>\n",
       "    <tr>\n",
       "      <th>0</th>\n",
       "      <td>2020-05-13 19:00:23</td>\n",
       "      <td>awa8uces</td>\n",
       "      <td>1.0</td>\n",
       "      <td>1.0</td>\n",
       "      <td>1.0</td>\n",
       "      <td>3.0</td>\n",
       "      <td>2.0</td>\n",
       "      <td>28</td>\n",
       "      <td>26.0</td>\n",
       "      <td>2020-05-13</td>\n",
       "      <td>0</td>\n",
       "      <td>0</td>\n",
       "      <td>0</td>\n",
       "      <td>1</td>\n",
       "      <td>1</td>\n",
       "    </tr>\n",
       "    <tr>\n",
       "      <th>1</th>\n",
       "      <td>2020-05-13 19:21:32</td>\n",
       "      <td>lkkjddam</td>\n",
       "      <td>0.0</td>\n",
       "      <td>2.0</td>\n",
       "      <td>3.0</td>\n",
       "      <td>1.0</td>\n",
       "      <td>0.0</td>\n",
       "      <td>12</td>\n",
       "      <td>21.0</td>\n",
       "      <td>2020-05-13</td>\n",
       "      <td>0</td>\n",
       "      <td>1</td>\n",
       "      <td>1</td>\n",
       "      <td>0</td>\n",
       "      <td>0</td>\n",
       "    </tr>\n",
       "    <tr>\n",
       "      <th>2</th>\n",
       "      <td>2020-05-13 19:30:38</td>\n",
       "      <td>rvhdl2la</td>\n",
       "      <td>2.0</td>\n",
       "      <td>1.0</td>\n",
       "      <td>0.0</td>\n",
       "      <td>0.0</td>\n",
       "      <td>1.0</td>\n",
       "      <td>29</td>\n",
       "      <td>NaN</td>\n",
       "      <td>2020-05-13</td>\n",
       "      <td>1</td>\n",
       "      <td>0</td>\n",
       "      <td>0</td>\n",
       "      <td>0</td>\n",
       "      <td>0</td>\n",
       "    </tr>\n",
       "    <tr>\n",
       "      <th>3</th>\n",
       "      <td>2020-05-13 20:07:04</td>\n",
       "      <td>xxvnhauv</td>\n",
       "      <td>1.0</td>\n",
       "      <td>3.0</td>\n",
       "      <td>1.0</td>\n",
       "      <td>2.0</td>\n",
       "      <td>0.0</td>\n",
       "      <td>21</td>\n",
       "      <td>22.0</td>\n",
       "      <td>2020-05-13</td>\n",
       "      <td>0</td>\n",
       "      <td>1</td>\n",
       "      <td>0</td>\n",
       "      <td>1</td>\n",
       "      <td>0</td>\n",
       "    </tr>\n",
       "    <tr>\n",
       "      <th>4</th>\n",
       "      <td>2020-05-13 20:25:07</td>\n",
       "      <td>xdbdrk6e</td>\n",
       "      <td>2.0</td>\n",
       "      <td>1.0</td>\n",
       "      <td>2.0</td>\n",
       "      <td>1.0</td>\n",
       "      <td>3.0</td>\n",
       "      <td>23</td>\n",
       "      <td>24.0</td>\n",
       "      <td>2020-05-13</td>\n",
       "      <td>1</td>\n",
       "      <td>0</td>\n",
       "      <td>1</td>\n",
       "      <td>0</td>\n",
       "      <td>1</td>\n",
       "    </tr>\n",
       "  </tbody>\n",
       "</table>\n",
       "</div>"
      ],
      "text/plain": [
       "            timestamp     beiwe  content  stress  lonely  sad  energy  redcap  \\\n",
       "0 2020-05-13 19:00:23  awa8uces      1.0     1.0     1.0  3.0     2.0      28   \n",
       "1 2020-05-13 19:21:32  lkkjddam      0.0     2.0     3.0  1.0     0.0      12   \n",
       "2 2020-05-13 19:30:38  rvhdl2la      2.0     1.0     0.0  0.0     1.0      29   \n",
       "3 2020-05-13 20:07:04  xxvnhauv      1.0     3.0     1.0  2.0     0.0      21   \n",
       "4 2020-05-13 20:25:07  xdbdrk6e      2.0     1.0     2.0  1.0     3.0      23   \n",
       "\n",
       "   beacon       date  content_binary  stress_binary  lonely_binary  \\\n",
       "0    26.0 2020-05-13               0              0              0   \n",
       "1    21.0 2020-05-13               0              1              1   \n",
       "2     NaN 2020-05-13               1              0              0   \n",
       "3    22.0 2020-05-13               0              1              0   \n",
       "4    24.0 2020-05-13               1              0              1   \n",
       "\n",
       "   sad_binary  energy_binary  \n",
       "0           1              1  \n",
       "1           0              0  \n",
       "2           0              0  \n",
       "3           1              0  \n",
       "4           0              1  "
      ]
     },
     "execution_count": 28,
     "metadata": {},
     "output_type": "execute_result"
    }
   ],
   "source": [
    "for variable in [\"content\",\"stress\",\"lonely\",\"sad\",\"energy\"]:\n",
    "    mood[f\"{variable}_binary\"] = mood.apply(lambda x: encode_likert(x[variable]), axis=\"columns\")\n",
    "    \n",
    "mood.head()"
   ]
  },
  {
   "cell_type": "markdown",
   "metadata": {},
   "source": [
    "### IEQ\n",
    "For the IEQ data, we want to determine whether the concentrations are low or high depending on the participant's own environment. So the process will involve looking at each of the IEQ measurements from each participant, finding the mean of those nights, and then determining 1 (low) or 0 (high)."
   ]
  },
  {
   "cell_type": "code",
   "execution_count": 29,
   "metadata": {},
   "outputs": [],
   "source": [
    "def encode_ieq(value, threshold):\n",
    "    \"\"\"Scores the IEQ parameter\"\"\"\n",
    "    if value <= threshold:\n",
    "        return 1\n",
    "    else:\n",
    "        return 0"
   ]
  },
  {
   "cell_type": "code",
   "execution_count": 30,
   "metadata": {},
   "outputs": [
    {
     "data": {
      "text/html": [
       "<div>\n",
       "<style scoped>\n",
       "    .dataframe tbody tr th:only-of-type {\n",
       "        vertical-align: middle;\n",
       "    }\n",
       "\n",
       "    .dataframe tbody tr th {\n",
       "        vertical-align: top;\n",
       "    }\n",
       "\n",
       "    .dataframe thead th {\n",
       "        text-align: right;\n",
       "    }\n",
       "</style>\n",
       "<table border=\"1\" class=\"dataframe\">\n",
       "  <thead>\n",
       "    <tr style=\"text-align: right;\">\n",
       "      <th></th>\n",
       "      <th>beacon</th>\n",
       "      <th>beiwe</th>\n",
       "      <th>redcap</th>\n",
       "      <th>start_time</th>\n",
       "      <th>end_time</th>\n",
       "      <th>tvoc_median</th>\n",
       "      <th>lux_median</th>\n",
       "      <th>co_median</th>\n",
       "      <th>co2_median</th>\n",
       "      <th>pm2p5_mass_median</th>\n",
       "      <th>temperature_c_median</th>\n",
       "      <th>rh_median</th>\n",
       "      <th>fitbit_median</th>\n",
       "      <th>co2_median_binary</th>\n",
       "      <th>co_median_binary</th>\n",
       "      <th>tvoc_median_binary</th>\n",
       "      <th>pm2p5_mass_median_binary</th>\n",
       "      <th>temperature_c_median_binary</th>\n",
       "      <th>rh_median_binary</th>\n",
       "    </tr>\n",
       "  </thead>\n",
       "  <tbody>\n",
       "    <tr>\n",
       "      <th>0</th>\n",
       "      <td>1</td>\n",
       "      <td>kyj367pi</td>\n",
       "      <td>10</td>\n",
       "      <td>2020-06-10 23:05:00</td>\n",
       "      <td>2020-06-11 09:14:00</td>\n",
       "      <td>69.472597</td>\n",
       "      <td>0.0</td>\n",
       "      <td>4.809835</td>\n",
       "      <td>607.609765</td>\n",
       "      <td>16.515731</td>\n",
       "      <td>17.359939</td>\n",
       "      <td>39.483333</td>\n",
       "      <td>24</td>\n",
       "      <td>1</td>\n",
       "      <td>0</td>\n",
       "      <td>1</td>\n",
       "      <td>1</td>\n",
       "      <td>1</td>\n",
       "      <td>1</td>\n",
       "    </tr>\n",
       "    <tr>\n",
       "      <th>1</th>\n",
       "      <td>1</td>\n",
       "      <td>kyj367pi</td>\n",
       "      <td>10</td>\n",
       "      <td>2020-06-11 23:12:00</td>\n",
       "      <td>2020-06-12 09:14:00</td>\n",
       "      <td>210.569596</td>\n",
       "      <td>0.0</td>\n",
       "      <td>4.275798</td>\n",
       "      <td>630.040491</td>\n",
       "      <td>34.128077</td>\n",
       "      <td>16.455691</td>\n",
       "      <td>40.436667</td>\n",
       "      <td>24</td>\n",
       "      <td>1</td>\n",
       "      <td>0</td>\n",
       "      <td>1</td>\n",
       "      <td>0</td>\n",
       "      <td>1</td>\n",
       "      <td>1</td>\n",
       "    </tr>\n",
       "    <tr>\n",
       "      <th>2</th>\n",
       "      <td>1</td>\n",
       "      <td>kyj367pi</td>\n",
       "      <td>10</td>\n",
       "      <td>2020-06-17 22:55:00</td>\n",
       "      <td>2020-06-18 08:51:00</td>\n",
       "      <td>310.293674</td>\n",
       "      <td>0.0</td>\n",
       "      <td>3.570167</td>\n",
       "      <td>616.201568</td>\n",
       "      <td>20.605142</td>\n",
       "      <td>16.615442</td>\n",
       "      <td>45.706667</td>\n",
       "      <td>24</td>\n",
       "      <td>1</td>\n",
       "      <td>1</td>\n",
       "      <td>0</td>\n",
       "      <td>1</td>\n",
       "      <td>1</td>\n",
       "      <td>1</td>\n",
       "    </tr>\n",
       "    <tr>\n",
       "      <th>3</th>\n",
       "      <td>1</td>\n",
       "      <td>kyj367pi</td>\n",
       "      <td>10</td>\n",
       "      <td>2020-06-18 22:13:00</td>\n",
       "      <td>2020-06-19 08:42:00</td>\n",
       "      <td>300.139737</td>\n",
       "      <td>0.0</td>\n",
       "      <td>2.922652</td>\n",
       "      <td>598.332358</td>\n",
       "      <td>20.834074</td>\n",
       "      <td>18.173762</td>\n",
       "      <td>46.830000</td>\n",
       "      <td>24</td>\n",
       "      <td>1</td>\n",
       "      <td>1</td>\n",
       "      <td>0</td>\n",
       "      <td>1</td>\n",
       "      <td>0</td>\n",
       "      <td>1</td>\n",
       "    </tr>\n",
       "    <tr>\n",
       "      <th>4</th>\n",
       "      <td>1</td>\n",
       "      <td>kyj367pi</td>\n",
       "      <td>10</td>\n",
       "      <td>2020-06-20 23:06:00</td>\n",
       "      <td>2020-06-21 07:43:00</td>\n",
       "      <td>307.701799</td>\n",
       "      <td>0.0</td>\n",
       "      <td>3.140130</td>\n",
       "      <td>585.162549</td>\n",
       "      <td>15.928621</td>\n",
       "      <td>17.359939</td>\n",
       "      <td>47.862500</td>\n",
       "      <td>24</td>\n",
       "      <td>1</td>\n",
       "      <td>1</td>\n",
       "      <td>0</td>\n",
       "      <td>1</td>\n",
       "      <td>1</td>\n",
       "      <td>0</td>\n",
       "    </tr>\n",
       "  </tbody>\n",
       "</table>\n",
       "</div>"
      ],
      "text/plain": [
       "   beacon     beiwe  redcap          start_time            end_time  \\\n",
       "0       1  kyj367pi      10 2020-06-10 23:05:00 2020-06-11 09:14:00   \n",
       "1       1  kyj367pi      10 2020-06-11 23:12:00 2020-06-12 09:14:00   \n",
       "2       1  kyj367pi      10 2020-06-17 22:55:00 2020-06-18 08:51:00   \n",
       "3       1  kyj367pi      10 2020-06-18 22:13:00 2020-06-19 08:42:00   \n",
       "4       1  kyj367pi      10 2020-06-20 23:06:00 2020-06-21 07:43:00   \n",
       "\n",
       "   tvoc_median  lux_median  co_median  co2_median  pm2p5_mass_median  \\\n",
       "0    69.472597         0.0   4.809835  607.609765          16.515731   \n",
       "1   210.569596         0.0   4.275798  630.040491          34.128077   \n",
       "2   310.293674         0.0   3.570167  616.201568          20.605142   \n",
       "3   300.139737         0.0   2.922652  598.332358          20.834074   \n",
       "4   307.701799         0.0   3.140130  585.162549          15.928621   \n",
       "\n",
       "   temperature_c_median  rh_median  fitbit_median  co2_median_binary  \\\n",
       "0             17.359939  39.483333             24                  1   \n",
       "1             16.455691  40.436667             24                  1   \n",
       "2             16.615442  45.706667             24                  1   \n",
       "3             18.173762  46.830000             24                  1   \n",
       "4             17.359939  47.862500             24                  1   \n",
       "\n",
       "   co_median_binary  tvoc_median_binary  pm2p5_mass_median_binary  \\\n",
       "0                 0                   1                         1   \n",
       "1                 0                   1                         0   \n",
       "2                 1                   0                         1   \n",
       "3                 1                   0                         1   \n",
       "4                 1                   0                         1   \n",
       "\n",
       "   temperature_c_median_binary  rh_median_binary  \n",
       "0                            1                 1  \n",
       "1                            1                 1  \n",
       "2                            1                 1  \n",
       "3                            0                 1  \n",
       "4                            1                 0  "
      ]
     },
     "execution_count": 30,
     "metadata": {},
     "output_type": "execute_result"
    }
   ],
   "source": [
    "ieq_bi = pd.DataFrame()\n",
    "stat=\"median\"\n",
    "for pt in ieq[\"beiwe\"].unique():\n",
    "    ieq_pt = ieq[ieq[\"beiwe\"] == pt]\n",
    "    for pollutant in [\"co2\", \"co\",\"tvoc\",\"pm2p5_mass\",\"temperature_c\",\"rh\"]:#\"no2\"\n",
    "        mean_night = np.nanmean(ieq_pt[f\"{pollutant}_{stat}\"])\n",
    "        ieq_pt[f\"{pollutant}_{stat}_binary\"] = ieq_pt.apply(lambda x: encode_ieq(x[f\"{pollutant}_{stat}\"],mean_night), axis=\"columns\")\n",
    "        \n",
    "    ieq_bi = ieq_bi.append(ieq_pt)\n",
    "    \n",
    "ieq_bi.head()"
   ]
  },
  {
   "cell_type": "markdown",
   "metadata": {},
   "source": [
    "## Correcting EMA Timestamp\n",
    "The EMAs are tricky because they can be submitted at any time. So we need to make sure that the `date` column we merge along corresponds to the correct end date of the Fitbit sleep event. "
   ]
  },
  {
   "cell_type": "code",
   "execution_count": 31,
   "metadata": {},
   "outputs": [],
   "source": [
    "def correct_ema_date(ema, fbs, threshold=3, verbose=True):\n",
    "    \"\"\"adds new column corresponding to the day when the participant woke\"\"\"\n",
    "    ema_with_dates = pd.DataFrame()\n",
    "    for pt in ema[\"beiwe\"].unique():\n",
    "        end_dates = []\n",
    "        if verbose:\n",
    "            print(\"Participant:\", pt)\n",
    "        # getting data per participant\n",
    "        ema_pt = ema[ema[\"beiwe\"] == pt]\n",
    "        try:\n",
    "            fb_pt = fbs[fbs[\"beiwe\"] == pt]\n",
    "        except KeyError:\n",
    "            if verbose:\n",
    "                print(\"\\tNo Fitbit Data\")\n",
    "            continue\n",
    "        # looping through submission times\n",
    "        for submission_time in ema_pt[\"timestamp\"]:\n",
    "            end_dates.append(np.nan) # appending to keep same length\n",
    "            fb_since = fb_pt[fb_pt[\"start_time\"] > submission_time] # Fitbit sleep data since the EMA was submitted\n",
    "            try:\n",
    "                dt = fb_since[\"start_time\"].iloc[0] - submission_time # get time difference between when the EMA was submitted and the Fitbit started logging data\n",
    "            except IndexError:\n",
    "                if verbose:\n",
    "                    print(\"\\tNo Fitbit Data after EMA submission of\", submission_time.date())\n",
    "                continue\n",
    "            if dt < timedelta(hours=threshold): # if the EMA was submitted a certain time before the sleep event, add the actual date\n",
    "                if submission_time.hour > 12:\n",
    "                    end_dates[-1] = submission_time.date() + timedelta(days=1)\n",
    "                else:\n",
    "                    end_dates[-1] = submission_time.date()\n",
    "                    \n",
    "        ema_pt[\"end_date\"] = pd.to_datetime(end_dates)\n",
    "        if verbose:\n",
    "            print((ema_pt[\"date\"] == ema_pt[\"end_date\"]).value_counts())\n",
    "            print()\n",
    "        ema_with_dates = ema_with_dates.append(ema_pt)\n",
    "        \n",
    "    return ema_with_dates"
   ]
  },
  {
   "cell_type": "markdown",
   "metadata": {},
   "source": [
    "We get a new mood dataframe with the `end_date` column which we will merge along."
   ]
  },
  {
   "cell_type": "code",
   "execution_count": 32,
   "metadata": {
    "scrolled": false
   },
   "outputs": [],
   "source": [
    "new_mood = correct_ema_date(mood, fbsq, threshold=5, verbose=False)"
   ]
  },
  {
   "cell_type": "markdown",
   "metadata": {},
   "source": [
    "## Correcting Activity Date\n",
    "The activity date corresponds to the day on which the participant was that active. Since all the other dates are relative to when the participant wakes up, we have to add a day to the activity data."
   ]
  },
  {
   "cell_type": "code",
   "execution_count": 33,
   "metadata": {},
   "outputs": [],
   "source": [
    "activity[\"end_date\"] = activity[\"date\"] + timedelta(days=1)"
   ]
  },
  {
   "cell_type": "markdown",
   "metadata": {},
   "source": [
    "## Combining\n",
    "Now that we have encoded all the target variables, we can combine them in different datasets to get a better sense of the available data for prediction. The common link between all the datasets will be the IEQ dataset since we are aiming to use those variables as a novel approach to prediction."
   ]
  },
  {
   "cell_type": "markdown",
   "metadata": {},
   "source": [
    "### IEQ Only\n",
    "Considering the base case: just IEQ observations."
   ]
  },
  {
   "cell_type": "code",
   "execution_count": 34,
   "metadata": {},
   "outputs": [
    {
     "name": "stdout",
     "output_type": "stream",
     "text": [
      "Number of observations: 584\n"
     ]
    }
   ],
   "source": [
    "print(\"Number of observations:\",len(ieq_bi))"
   ]
  },
  {
   "cell_type": "markdown",
   "metadata": {},
   "source": [
    "### Activity and IEQ"
   ]
  },
  {
   "cell_type": "code",
   "execution_count": 35,
   "metadata": {},
   "outputs": [
    {
     "name": "stdout",
     "output_type": "stream",
     "text": [
      "Number of observations: 541\n"
     ]
    }
   ],
   "source": [
    "ieq_bi[\"end_date\"] = pd.to_datetime(ieq_bi[\"end_time\"].dt.date)\n",
    "ieq_and_activity = ieq_bi.merge(right=activity,on=[\"end_date\",\"beiwe\"])\n",
    "print(\"Number of observations:\",len(ieq_and_activity))"
   ]
  },
  {
   "cell_type": "markdown",
   "metadata": {},
   "source": [
    "<div class=\"alert alert-block alert-success\">\n",
    " \n",
    "By including activity data, we lose 43 observations from the original target dataset. This percent loss might even be smaller considering we haven't combined the data with the target datasets yet.\n",
    "    \n",
    "</div>"
   ]
  },
  {
   "cell_type": "markdown",
   "metadata": {},
   "source": [
    "### Mood and IEQ"
   ]
  },
  {
   "cell_type": "code",
   "execution_count": 36,
   "metadata": {},
   "outputs": [
    {
     "name": "stdout",
     "output_type": "stream",
     "text": [
      "Number of observations: 116\n"
     ]
    }
   ],
   "source": [
    "ieq_and_mood = ieq_bi.merge(right=new_mood,on=[\"end_date\",\"beiwe\",\"redcap\",\"beacon\"])\n",
    "print(\"Number of observations:\",len(ieq_and_mood))"
   ]
  },
  {
   "cell_type": "markdown",
   "metadata": {},
   "source": [
    "<div class=\"alert alert-block alert-danger\">\n",
    " \n",
    "Unfortunately the mood data is too sparsely represented and _dramatically_ reduces the amount of observations that we have.\n",
    "    \n",
    "</div>"
   ]
  },
  {
   "cell_type": "markdown",
   "metadata": {},
   "source": [
    "### Activity, Mood, and IEQ"
   ]
  },
  {
   "cell_type": "code",
   "execution_count": 37,
   "metadata": {},
   "outputs": [
    {
     "name": "stdout",
     "output_type": "stream",
     "text": [
      "Number of observations: 104\n"
     ]
    }
   ],
   "source": [
    "features_all = ieq_and_activity.merge(right=new_mood, on=[\"end_date\",\"beiwe\",\"redcap\",\"beacon\"])\n",
    "print(\"Number of observations:\",len(features_all))"
   ]
  },
  {
   "cell_type": "markdown",
   "metadata": {},
   "source": [
    "<div class=\"alert alert-block alert-danger\">\n",
    " \n",
    "Now looping in all three feature sets, we see that we only hae 70 observations to work with and this is before merging with the target datasets which would cut down our dataset even more. \n",
    "    \n",
    "</div>"
   ]
  },
  {
   "cell_type": "markdown",
   "metadata": {},
   "source": [
    "<a id=\"exploration\"></a>"
   ]
  },
  {
   "cell_type": "markdown",
   "metadata": {},
   "source": [
    "# Data Exploration\n",
    "Now that we have our features and targets, we can look at the data to get a better sense of what we can do with it.\n",
    "\n",
    "We have to start by combining the features and targets so that we are looking at the finalized dataset."
   ]
  },
  {
   "cell_type": "code",
   "execution_count": 38,
   "metadata": {},
   "outputs": [],
   "source": [
    "# Fitbit\n",
    "combined_fb = ieq_and_activity.merge(right=fbsq,on=[\"beiwe\",\"end_date\"])\n",
    "combined_fb_simple = combined_fb[[column for column in combined_fb.columns if column.endswith(\"binary\")]]\n",
    "# Beiwe\n",
    "combined_sr = ieq_and_activity.merge(right=srsq,on=[\"beiwe\",\"end_date\"])\n",
    "combined_sr_simple = combined_sr[[column for column in combined_sr.columns if column.endswith(\"binary\")]]"
   ]
  },
  {
   "cell_type": "code",
   "execution_count": 39,
   "metadata": {},
   "outputs": [],
   "source": [
    "def plot_summary_count(df,variable):\n",
    "    \"\"\"plots the stripplot of a binary variable\"\"\"\n",
    "    figure, ax = plt.subplots(figsize=(4,4))\n",
    "    # count\n",
    "    sns.countplot(x=variable,data=df,\n",
    "                  edgecolor=\"black\",ax=ax)\n",
    "    # stats\n",
    "    ax.text(0,len(df),f\"Mean: {round(np.nanmean(df[variable]),2)}\",va=\"top\",ha=\"center\",fontsize=14)\n",
    "    # x-axis\n",
    "    plt.xticks(fontsize=14)\n",
    "    ax.set_xlabel(variable.split(\"_\")[0].upper(),fontsize=16)\n",
    "    # y-axis\n",
    "    plt.yticks(fontsize=14)\n",
    "    ax.set_ylabel(\"Count\",fontsize=16)\n",
    "    ax.set_ylim([0,len(df)])\n",
    "    # remainder\n",
    "    for loc in [\"top\",\"right\"]:\n",
    "        ax.spines[loc].set_visible(False)\n",
    "    plt.show()\n",
    "    plt.close()"
   ]
  },
  {
   "cell_type": "markdown",
   "metadata": {},
   "source": [
    "## Summary of Features\n",
    "We start with the features"
   ]
  },
  {
   "cell_type": "markdown",
   "metadata": {},
   "source": [
    "## Summary of Targets\n",
    "For the targets, our main concern is that we are getting equal representation from each of the responses. A lack of observations might lead to poorly performing models."
   ]
  },
  {
   "cell_type": "markdown",
   "metadata": {},
   "source": [
    "### Fitbit\n",
    "Fitbit sleep targets and distribution of responses."
   ]
  },
  {
   "cell_type": "code",
   "execution_count": 40,
   "metadata": {
    "scrolled": true
   },
   "outputs": [
    {
     "data": {
      "image/png": "[encoded data removed]",
      "text/plain": [
       "<Figure size 288x288 with 1 Axes>"
      ]
     },
     "metadata": {
      "needs_background": "light"
     },
     "output_type": "display_data"
    },
    {
     "data": {
      "image/png": "[encoded data removed]",
      "text/plain": [
       "<Figure size 288x288 with 1 Axes>"
      ]
     },
     "metadata": {
      "needs_background": "light"
     },
     "output_type": "display_data"
    },
    {
     "data": {
      "image/png": "[encoded data removed]",
      "text/plain": [
       "<Figure size 288x288 with 1 Axes>"
      ]
     },
     "metadata": {
      "needs_background": "light"
     },
     "output_type": "display_data"
    },
    {
     "data": {
      "image/png": "[encoded data removed]",
      "text/plain": [
       "<Figure size 288x288 with 1 Axes>"
      ]
     },
     "metadata": {
      "needs_background": "light"
     },
     "output_type": "display_data"
    },
    {
     "data": {
      "image/png": "[encoded data removed]",
      "text/plain": [
       "<Figure size 288x288 with 1 Axes>"
      ]
     },
     "metadata": {
      "needs_background": "light"
     },
     "output_type": "display_data"
    }
   ],
   "source": [
    "for fb_target in [\"se\",\"tst\",\"light_percent\",\"deep_percent\",\"rem_percent\"]:\n",
    "    plot_summary_count(combined_fb_simple,f\"{fb_target}_binary\")"
   ]
  },
  {
   "cell_type": "markdown",
   "metadata": {},
   "source": [
    "### Self-Report\n",
    "And now for the self-report metrics"
   ]
  },
  {
   "cell_type": "code",
   "execution_count": 41,
   "metadata": {
    "scrolled": true
   },
   "outputs": [
    {
     "data": {
      "image/png": "[encoded data removed]",
      "text/plain": [
       "<Figure size 288x288 with 1 Axes>"
      ]
     },
     "metadata": {
      "needs_background": "light"
     },
     "output_type": "display_data"
    },
    {
     "data": {
      "image/png": "[encoded data removed]",
      "text/plain": [
       "<Figure size 288x288 with 1 Axes>"
      ]
     },
     "metadata": {
      "needs_background": "light"
     },
     "output_type": "display_data"
    },
    {
     "data": {
      "image/png": "[encoded data removed]",
      "text/plain": [
       "<Figure size 288x288 with 1 Axes>"
      ]
     },
     "metadata": {
      "needs_background": "light"
     },
     "output_type": "display_data"
    },
    {
     "data": {
      "image/png": "[encoded data removed]",
      "text/plain": [
       "<Figure size 288x288 with 1 Axes>"
      ]
     },
     "metadata": {
      "needs_background": "light"
     },
     "output_type": "display_data"
    }
   ],
   "source": [
    "for sr_target in [\"tst\",\"sol\",\"naw\",\"restful\"]:\n",
    "    plot_summary_count(combined_sr_simple,f\"{sr_target}_binary\")"
   ]
  },
  {
   "cell_type": "markdown",
   "metadata": {},
   "source": [
    "<a id=\"prediction\"></a>"
   ]
  },
  {
   "cell_type": "markdown",
   "metadata": {},
   "source": [
    "# Prediction\n",
    "Now that we have sufficiently explored the features, we can begin to try predicting various components of sleep quality. We will try a wide-variety of classifiers to determine which is the most applicable to solving our problem. The classifiers that we use can be seen in the following cell via the `import` statements."
   ]
  },
  {
   "cell_type": "markdown",
   "metadata": {},
   "source": [
    "## Linear Regression\n",
    "We use linear regression as a first step in the analysis."
   ]
  },
  {
   "cell_type": "code",
   "execution_count": 42,
   "metadata": {},
   "outputs": [],
   "source": [
    "from sklearn.linear_model import LinearRegression"
   ]
  },
  {
   "cell_type": "code",
   "execution_count": 43,
   "metadata": {},
   "outputs": [],
   "source": [
    "class linear_model:\n",
    "    \n",
    "    def __init__(self):\n",
    "        pass\n",
    "    \n",
    "    def set_x_and_y(self, feature_set, target_set, features=[\"co2_median\",\"co_median\",\"pm2p5_mass_median\",\"no2_median\",\"temperature_c_median\",\"rh_median\",\"steps\",\"sedentary_minutes\",\"lightly_active_minutes\",\"fairly_active_minutes\",\"very_active_minutes\"], target=\"tst\"):\n",
    "        \"\"\"sets the x and y parameters\"\"\"\n",
    "        # for reference\n",
    "        self.target_label = target\n",
    "        self.feature_labels = features\n",
    "        combined = feature_set.merge(right=target_set,on=[\"beiwe\",\"end_date\"])\n",
    "        combined_simple = combined[[column for column in combined.columns if not column.endswith(\"binary\") and not column.endswith(\"x\") and not column.endswith(\"y\")]]\n",
    "        combined_simple.dropna(inplace=True)\n",
    "        # getting x and y\n",
    "        self.y = combined_simple[[f\"{target}\"]]\n",
    "        self.X = combined_simple[[column for column in combined.columns if column.endswith(\"median\") or column.endswith(\"minutes\") or column == \"steps\"]]\n",
    "        self.X = self.X[features]\n",
    "\n",
    "    def set_model(self):\n",
    "        \"\"\"runs a linear leasts-squares regression model\"\"\"\n",
    "        self.model = LinearRegression(normalize=True).fit(self.X,self.y)\n",
    "        temp = pd.DataFrame(data={\"feature\":self.feature_labels,\"coefficient\":self.model.coef_[0]})\n",
    "        self.coefficients = temp.sort_values(\"coefficient\")\n",
    "    \n",
    "    def run(self, feature_set, target_set, features=[\"co2_median\",\"co_median\",\"pm2p5_mass_median\",\"no2_median\",\"temperature_c_median\",\"rh_median\",\"steps\",\"sedentary_minutes\",\"lightly_active_minutes\",\"fairly_active_minutes\",\"very_active_minutes\"], target=\"tst\"):\n",
    "        \"\"\"runs the linear model\"\"\"\n",
    "        self.set_x_and_y(feature_set, target_set, features, target)\n",
    "        self.set_model()\n",
    "        print(self)\n",
    "        \n",
    "    def get_r2(self):\n",
    "        \"\"\"gets r2\"\"\"\n",
    "        return round(self.model.score(self.X, self.y),3)\n",
    "    \n",
    "    def get_coefs(self):\n",
    "        \"\"\"gets coefficients of the model\"\"\"\n",
    "        return self.coefficients\n",
    "    \n",
    "    def __str__(self):\n",
    "        \"\"\"output\"\"\"\n",
    "        print(\"Linear Model\")\n",
    "        try:\n",
    "            print(\"Observations:\", len(self.X))\n",
    "            print(\"Score:\", self.get_r2())\n",
    "            print(\"Coefficients:\")\n",
    "            for feature, c in zip(self.get_coefs().iloc[:,0], self.get_coefs().iloc[:,1]):\n",
    "                print(f\"\\t{feature}:\\t{round(c,4)}\")\n",
    "        except AttributeError:\n",
    "            print(\"No Model found\")\n",
    "            \n",
    "        return \"\""
   ]
  },
  {
   "cell_type": "markdown",
   "metadata": {},
   "source": [
    "### Aggregate\n",
    "All the participants' data considered"
   ]
  },
  {
   "cell_type": "code",
   "execution_count": 44,
   "metadata": {},
   "outputs": [
    {
     "name": "stdout",
     "output_type": "stream",
     "text": [
      "Linear Model\n",
      "Observations: 427\n",
      "Score: 0.089\n",
      "Coefficients:\n",
      "\ttemperature_c_median:\t-0.0482\n",
      "\tlightly_active_minutes:\t-0.0024\n",
      "\tsedentary_minutes:\t-0.0005\n",
      "\tco2_median:\t-0.0\n",
      "\tsteps:\t-0.0\n",
      "\tfairly_active_minutes:\t0.0008\n",
      "\tvery_active_minutes:\t0.0081\n",
      "\tco_median:\t0.0085\n",
      "\trh_median:\t0.0113\n",
      "\tpm2p5_mass_median:\t0.0124\n",
      "\n"
     ]
    }
   ],
   "source": [
    "lm = linear_model()\n",
    "lm.run(ieq_and_activity, fbsq, features=[\"co2_median\",\"co_median\",\"pm2p5_mass_median\",\"temperature_c_median\",\"rh_median\",\"steps\",\"sedentary_minutes\",\"lightly_active_minutes\",\"fairly_active_minutes\",\"very_active_minutes\"])"
   ]
  },
  {
   "cell_type": "markdown",
   "metadata": {},
   "source": [
    "## Classification"
   ]
  },
  {
   "cell_type": "code",
   "execution_count": 45,
   "metadata": {},
   "outputs": [],
   "source": [
    "# Logistic Regressions\n",
    "from sklearn.linear_model import LogisticRegression\n",
    "# Decision Tree\n",
    "from sklearn.tree import DecisionTreeClassifier\n",
    "# Random Forest\n",
    "from sklearn.ensemble import RandomForestClassifier\n",
    "# Bernoulli Naive Bayes\n",
    "from sklearn.naive_bayes import BernoulliNB\n",
    "# KNN\n",
    "from sklearn.neighbors import KNeighborsClassifier\n",
    "# Support Vector\n",
    "from sklearn.svm import SVC\n",
    "# Multi-Layer Perceptron\n",
    "from sklearn.neural_network import MLPClassifier\n",
    "# ADAboost\n",
    "from sklearn.ensemble import AdaBoostClassifier\n",
    "# Gradient Boost\n",
    "from sklearn.ensemble import GradientBoostingClassifier\n",
    "# Bagging\n",
    "from sklearn.ensemble import BaggingClassifier"
   ]
  },
  {
   "cell_type": "markdown",
   "metadata": {},
   "source": [
    "To automate the prediction/evaluation process, we have created the class below that utilizes the following steps:\n",
    "1. Feature and Target Data Split: The feature and target datasets are fed into the program, cross-referenced, and then split.\n",
    "2. Train/Test Split: Data are split into a training and a testing split"
   ]
  },
  {
   "cell_type": "code",
   "execution_count": 46,
   "metadata": {},
   "outputs": [],
   "source": [
    "from sklearn import metrics, tree\n",
    "from sklearn.model_selection import train_test_split, GridSearchCV, cross_val_score, cross_val_predict, GroupKFold, LeaveOneGroupOut, StratifiedKFold\n",
    "from sklearn.metrics import roc_curve, auc, roc_auc_score, plot_roc_curve, f1_score, precision_recall_curve, plot_precision_recall_curve, accuracy_score, balanced_accuracy_score\n",
    "from sklearn.inspection import permutation_importance\n",
    "\n",
    "\n",
    "class ieq_and_sq_prediction:\n",
    "    \n",
    "    def __init__(self):\n",
    "        \"\"\"initializes the model parameters\"\"\"\n",
    "        self.classifier_model_params_complete = {\n",
    "            \"logistic_regression\": {\n",
    "                \"model\":LogisticRegression(random_state=42,max_iter=500),\n",
    "                \"params\": {\n",
    "                    \"fit_intercept\":[True,False],\n",
    "                    \"solver\":[\"lbfgs\",\"liblinear\"],\n",
    "                }\n",
    "            },\n",
    "            \"random_forest\": {\n",
    "                \"model\":RandomForestClassifier(random_state=42),\n",
    "                \"params\": {\n",
    "                    \"n_estimators\":[10,50,100],\n",
    "                    \"max_depth\":[1,2,3,4,5],\n",
    "                    \"min_samples_split\":[2,4],\n",
    "                    \"min_samples_leaf\":[1,2],\n",
    "                }\n",
    "            },\n",
    "            \"bernoulli_naive_bayes\": {\n",
    "                \"model\":BernoulliNB(binarize=None),\n",
    "                \"params\": {\n",
    "                    \"alpha\":[0,0.5,1],\n",
    "                }\n",
    "            },\n",
    "            \"k-nearest_neighbor\": {\n",
    "                \"model\":KNeighborsClassifier(),\n",
    "                \"params\": {\n",
    "                    \"n_neighbors\":[3,5,7],\n",
    "                    \"weights\":[\"uniform\",\"distance\"],\n",
    "                    \"p\":[1,2],\n",
    "                }\n",
    "            },\n",
    "            \"support_vector\": {\n",
    "                \"model\":SVC(random_state=42),\n",
    "                \"params\": {\n",
    "                    \"kernel\":[\"linear\",\"poly\",\"sigmoid\",\"rbf\"],\n",
    "                }\n",
    "            }\n",
    "        }\n",
    "        self.classifier_model_params_test = {\n",
    "            \"gradientboost\":{\n",
    "                \"model\": GradientBoostingClassifier(random_state=42),\n",
    "                \"params\": {\n",
    "                    \"n_estimators\":[10,50,100],\n",
    "                    \"max_depth\":[1,2,3,4,5],\n",
    "                    \"min_samples_split\":[2,4],\n",
    "                    \"min_samples_leaf\":[1,2],\n",
    "                }\n",
    "            }\n",
    "        }\n",
    "        self.classifier_model_params = {\n",
    "            \"logistic_regression\": {\n",
    "                \"model\":LogisticRegression(random_state=42,max_iter=500),\n",
    "                \"params\": {\n",
    "                    \"fit_intercept\":[True,False],\n",
    "                    \"solver\":[\"lbfgs\",\"liblinear\"],\n",
    "                }\n",
    "            },\n",
    "            \"gradientboost\":{\n",
    "                \"model\": GradientBoostingClassifier(random_state=42),\n",
    "                \"params\": {\n",
    "                    \"n_estimators\":[10,50,100],\n",
    "                    \"max_depth\":[1,2,3,4,5],\n",
    "                    \"min_samples_split\":[2,4],\n",
    "                    \"min_samples_leaf\":[1,2],\n",
    "                }\n",
    "            },\n",
    "            \"k-nearest_neighbor\": {\n",
    "                \"model\":KNeighborsClassifier(),\n",
    "                \"params\": {\n",
    "                    \"n_neighbors\":[3,5,7],\n",
    "                    \"weights\":[\"uniform\",\"distance\"],\n",
    "                    \"metric\":[\"euclidean\",\"manhattan\",\"minkowski\",\"jaccard\",\"matching\"],\n",
    "                    \"p\":[1,2],\n",
    "                }\n",
    "            }\n",
    "        }\n",
    "        #decision_tree = DecisionTreeClassifier(max_depth=2,min_samples_leaf=2,min_samples_split=2)\n",
    "        self.tuned_models = {\"logistic_regression\":LogisticRegression(random_state=42,fit_intercept=True,solver=\"lbfgs\",max_iter=500),\n",
    "                             \"knn\":KNeighborsClassifier(n_neighbors=7,metric=\"euclidean\",weights=\"uniform\",p=1),\n",
    "                             \"random_forest\":GradientBoostingClassifier(random_state=42,n_estimators=10,max_depth=1,min_samples_leaf=1,min_samples_split=2)}\n",
    "    \n",
    "    #\"random_forest\":AdaBoostClassifier(decision_tree,random_state=42,n_estimators=10)\n",
    "    def get_features_and_targets(self, feature_set, target_set, target=\"tst\"):\n",
    "        \"\"\"gets feature set and target set for the same observations\"\"\"\n",
    "        self.target_label = target\n",
    "        print(f\"Getting Features and Target ({target})...\")\n",
    "        # selecting only important target\n",
    "        target_set_reduced = target_set[[\"beiwe\",\"end_date\",f\"{target}_binary\"]]\n",
    "        # combining datasets to get overlapping observations\n",
    "        combined = feature_set.merge(right=target_set_reduced,on=[\"beiwe\",\"end_date\"])\n",
    "        combined = combined.merge(right=combined[\"beiwe\"].value_counts().rename(\"count\"),left_on=\"beiwe\",right_index=True,how=\"left\")\n",
    "        combined = combined[combined[\"count\"] > 1]\n",
    "        combined_simple = combined[[column for column in combined.columns if column.endswith(\"binary\") or column in [\"count\",\"beiwe\"]]]\n",
    "        # splitting into features and targets\n",
    "        targets = combined_simple[[f\"{target}_binary\"]]\n",
    "        features = combined_simple.drop([f\"{target}_binary\",\"beiwe\"],axis=\"columns\")\n",
    "        self.groups = combined_simple[\"beiwe\"]\n",
    "        self.counts = features[\"count\"]\n",
    "        self.features = features.drop([\"count\"],axis=\"columns\")\n",
    "        self.targets = targets\n",
    "        \n",
    "    def split_data(self, test_size=0.33):\n",
    "        \"\"\"splits data into training and testing\"\"\"\n",
    "        print(\"Splitting Data...\")\n",
    "        self.X_train, self.X_test, self.y_train, self.y_test = train_test_split(self.features, self.targets, test_size=test_size, random_state=10, stratify=self.counts)\n",
    "        #self.X_train.drop(\"count\",axis=\"columns\",inplace=True)\n",
    "        #self.X_test.drop(\"count\",axis=\"columns\",inplace=True)\n",
    "        \n",
    "    def set_test_and_train(self,X_train,X_test,y_train,y_test):\n",
    "        \"\"\"sets the training data - use for specialized train_test_split\"\"\"\n",
    "        for dataset in [X_train,X_test,y_train,y_test]:\n",
    "            try: \n",
    "                dataset.drop([\"count\"],axis=\"columns\",inplace=True)\n",
    "            except KeyError:\n",
    "                pass\n",
    "        self.X_train = X_train\n",
    "        self.X_test = X_test\n",
    "        self.y_train = y_train\n",
    "        self.y_test = y_test\n",
    "        \n",
    "    def set_weights(self,**kwargs):\n",
    "        \"\"\"sets the weights based on the y_train data\"\"\"\n",
    "        if \"y_train\" in kwargs.keys():\n",
    "            self.y_train = kwargs[\"y_train\"]\n",
    "        try:\n",
    "            low_n = self.y_train.value_counts().sort_index().iloc[0]\n",
    "            high_n = self.y_train.value_counts().sort_index().iloc[1]\n",
    "            self.weights = [len(self.y_train) / (2 * low_n) if val == 0 else len(self.y_train) / (2 * high_n) for val in self.y_train[f\"{target}_binary\"]]\n",
    "        except Exception as e:\n",
    "            print(e)\n",
    "            self.weights = None # defaults to None so the fit() function will work\n",
    "        \n",
    "    def optimize_models(self):\n",
    "        \"\"\"runs gridsearch cv\"\"\"\n",
    "        print(\"Testing Classifiers...\")\n",
    "        try:\n",
    "            scores = []\n",
    "            params = self.classifier_model_params\n",
    "            self.set_weights()\n",
    "            for model_name, mp in params.items():\n",
    "                s = datetime.now()\n",
    "                print(f\"\\t{model_name.replace('_',' ').title()}\")\n",
    "                clf = GridSearchCV(mp[\"model\"],mp[\"params\"],cv=5,return_train_score=False)\n",
    "                clf.fit(self.X_train,self.y_train,self.weights)\n",
    "                scores.append({\n",
    "                    \"model\":model_name,\n",
    "                    \"best_score\":clf.best_score_,\n",
    "                    \"best_params\":clf.best_params_\n",
    "                })\n",
    "                print(\"\\t\\tElapsed Time:\\t\", datetime.now() - s)\n",
    "                print(f\"\\t\\tBest Score:\\t{clf.best_score_}\\n\\t\\tBest Params:\\t{clf.best_params_}\")\n",
    "\n",
    "            results = pd.DataFrame(scores,columns=[\"model\",\"best_score\",\"best_params\"])\n",
    "            # getting and saving best model\n",
    "            results.sort_values([\"best_score\"],ascending=False,inplace=True)\n",
    "            self.results = results\n",
    "            best = results.iloc[0,:]\n",
    "            # outputting results\n",
    "            print(f\"\\tBest Scoring Model:\")\n",
    "            print(f\"\\t\\tModel:\\t{best[0].replace('_',' ').title()}\\n\\t\\tScore:\\t{round(best[1],3)}\\n\\t\\tParams:\\t{best[2]}\")\n",
    "        except AttributeError:\n",
    "            print(\"Training data do not exist - run split_data()\")\n",
    "        \n",
    "    def train_model(self, model):\n",
    "        \"\"\"trains the specified model\"\"\"\n",
    "        print(\"Training...\")\n",
    "        self.model = model # necessary if running functions separately\n",
    "        try:\n",
    "            self.set_weights()\n",
    "            self.X_train = self.X_train\n",
    "            self.X_test = self.X_test\n",
    "            try:\n",
    "                self.model.fit(self.X_train,self.y_train,self.weights)\n",
    "            except TypeError:\n",
    "                self.model.fit(self.X_train,self.y_train)\n",
    "        except AttributeError:\n",
    "            print(\"Training data do not exist - run split_data()\")\n",
    "    \n",
    "    def predict(self):\n",
    "        \"\"\"gets the predicted results based on the model provided for the given target\"\"\"\n",
    "        print(\"Predicting...\")\n",
    "        try:\n",
    "            self.predictions = self.model.predict(self.X_test)\n",
    "            \n",
    "            self.score = metrics.precision_score(self.y_test,self.predictions,average=\"weighted\")\n",
    "\n",
    "            scores = cross_val_score(self.model, self.X_train, self.y_train, cv=5, scoring='precision_weighted')\n",
    "            print(\"\\tCross Validation Scores:\")\n",
    "            for scr in scores:\n",
    "                print(f\"\\t\\t{round(scr,3)}\")\n",
    "            print(f\"\\tAverage:\\t{round(scores.mean(),3)}\")\n",
    "            print(f\"\\tModel Score: {round(self.score,3)}\")\n",
    "        except AttributeError:\n",
    "            print(\"Missing attributes - make sure you split the data and trained the model\")\n",
    "        \n",
    "    def plot_confusion_matrix(self, save=False, target_label=\"\"):\n",
    "        \"\"\"plots confusion matrix\"\"\"\n",
    "        print(\"Evaluating...\")\n",
    "        # get confusion matrix\n",
    "        cm = metrics.confusion_matrix(self.y_test,self.predictions)\n",
    "        cm_df = pd.DataFrame(cm)\n",
    "        # plot confusion matrix as heatmap\n",
    "        fig, ax = plt.subplots(figsize=(5,4))\n",
    "        sns.heatmap(cm_df,annot=True,cmap=\"Blues\",ax=ax)\n",
    "        ax.set_xlabel(\"Predicted Label\",fontsize=16)\n",
    "        ax.set_ylabel(\"True Label\",fontsize=16)\n",
    "        if save:\n",
    "            plt.savefig(f\"../../../Documents/sbac_2021/project/figures/confusion_matrix-{target_label}.pdf\")\n",
    "        plt.show()\n",
    "        plt.close()\n",
    "        \n",
    "    def set_feature_importance(self,plot=False):\n",
    "        \"\"\"gets feature importance from classifier models\"\"\"\n",
    "        try:\n",
    "            # getting importance df\n",
    "            importance = pd.DataFrame(data={\"feature\":[value.split('_')[0] for value in self.features.columns],\"importance\":self.model.feature_importances_})\n",
    "            importance.sort_values(\"importance\",inplace=True)\n",
    "            self.feature_importance = importance\n",
    "            if plot:\n",
    "                # getting color map\n",
    "                my_cmap = plt.get_cmap(\"Blues\")\n",
    "                rescale = lambda y: (y - np.min(y)) / (np.max(y) - np.min(y))\n",
    "                # plotting\n",
    "                fig, ax = plt.subplots(figsize=(6,4))\n",
    "                ax.barh(importance[\"feature\"],importance[\"importance\"],color=my_cmap(rescale(importance[\"importance\"])),edgecolor=\"black\",tick_label=[visualize.get_label(label) for label in importance[\"feature\"]])\n",
    "                # x-axis\n",
    "                plt.xticks(fontsize=12)\n",
    "                ax.set_xlabel(\"Importance\",fontsize=14)\n",
    "                # y-axis\n",
    "                plt.yticks(fontsize=12)\n",
    "                ax.set_ylabel(\"Feature\",fontsize=14)\n",
    "                # remainder\n",
    "                for loc in [\"top\",\"right\"]:\n",
    "                    ax.spines[loc].set_visible(False)\n",
    "                plt.show()\n",
    "                plt.close()\n",
    "        except AttributeError as e:\n",
    "            print(e)\n",
    "            \n",
    "    def get_permutation_importance(self,scoring=\"accuracy\"):\n",
    "        \"\"\"\"\"\"\n",
    "        self.set_weights()\n",
    "        res_dict = {}\n",
    "        for model_name, mp in self.tuned_models.items():\n",
    "            try:\n",
    "                clf = mp.fit(self.X_train,self.y_train,self.weights)\n",
    "            except TypeError:\n",
    "                clf = mp.fit(self.X_train,self.y_train)\n",
    "            res = permutation_importance(clf, self.X_test, self.y_test, n_repeats=10,random_state=42,scoring=scoring)\n",
    "            vals = [0 if m < 0 else m for m in res.importances_mean]\n",
    "            res_dict[model_name] = vals\n",
    "        return res_dict\n",
    "            \n",
    "    def run(self, feature_set, target_set, target=\"tst\", test_size=0.33):\n",
    "        \"\"\"runs the class: split, test, predict, evaluate\"\"\"\n",
    "        self.get_features_and_targets(feature_set, target_set, target=target)\n",
    "        self.split_data(test_size=test_size)\n",
    "        # gridsearch on models\n",
    "        self.optimize_models()\n",
    "        # saves the best model, trains on the best model, predicts with the model, and plots the confusion matrix\n",
    "        for model_number in range(len(self.results)):\n",
    "            print(self.results.iloc[model_number,0].replace(\"_\",\" \").upper())\n",
    "            self.model = self.classifier_model_params[self.results.iloc[model_number,:][\"model\"]][\"model\"].set_params(**self.results.iloc[model_number,:][\"best_params\"])\n",
    "            self.train_model(self.model)\n",
    "            self.predict()\n",
    "            self.plot_confusion_matrix()\n",
    "            self.set_feature_importance(plot=True)\n",
    "            \n",
    "    def get_cv(self,validation=\"gkf\",splits=5):\n",
    "        \"\"\"gets cv object\"\"\"\n",
    "        if validation == \"gkf\":\n",
    "            return GroupKFold(n_splits=splits)\n",
    "        elif validation == \"logo\":\n",
    "            return LeaveOneGroupOut()\n",
    "        elif validation == \"skf\":\n",
    "            return StratifiedKFold(n_splits=splits)\n",
    "        else:\n",
    "            return KFold(n_splits=splits)        \n",
    "            \n",
    "    def plot_roc_auc(self,validation=\"gkf\",splits=5,save=False,**kwargs):\n",
    "        \"\"\"Trains the tuned models and cross-validates\"\"\"\n",
    "        cv = self.get_cv(validation,splits)\n",
    "            \n",
    "        fig, axes = plt.subplots(1,len(self.tuned_models.keys()),figsize=(6*len(self.tuned_models.keys()),6),sharey=True)\n",
    "        for (name, model), ax in zip(self.tuned_models.items(),axes.flat):\n",
    "            tprs = []\n",
    "            aucs = []\n",
    "            f1s = []\n",
    "            mean_fpr = np.linspace(0, 1, 100)\n",
    "            for i, (train, test) in enumerate(cv.split(self.features, self.targets, groups=self.groups)):\n",
    "                clf = model.fit(self.features.iloc[train],self.targets.iloc[train])\n",
    "                scores = clf.predict(self.features.iloc[test])\n",
    "                try:\n",
    "                    fpr, tpr, thresholds = roc_curve(self.targets.iloc[test], clf.predict_proba(self.features.iloc[test])[:, 1])\n",
    "                    auc_score = roc_auc_score(self.targets.iloc[test], clf.predict_proba(self.features.iloc[test])[:, 1])\n",
    "                    f1 = f1_score(self.targets.iloc[test], scores)\n",
    "                    if validation != \"logo\":\n",
    "                        ax.plot(fpr,tpr,lw=1,alpha=0.5,label=f\"Fold {i+1}\")\n",
    "                    interp_tpr = np.interp(mean_fpr, fpr, tpr)\n",
    "                    interp_tpr[0] = 0.0\n",
    "                    tprs.append(interp_tpr)\n",
    "                    aucs.append(auc_score)\n",
    "                    f1s.append(f1)\n",
    "                except ValueError as e:\n",
    "                    print(e)\n",
    "                \n",
    "            mean_tpr = np.mean(tprs, axis=0)\n",
    "            mean_tpr[-1] = 1.0\n",
    "            mean_auc = auc(mean_fpr, mean_tpr)\n",
    "            std_auc = np.std(aucs)\n",
    "            ax.plot(mean_fpr, mean_tpr, color='black',label=f'Mean ROC',lw=3, alpha=.8)#\\n')\n",
    "            ax.plot([0, 1], [0, 1], linestyle='--', lw=2, color='r', label='Chance', alpha=.8)\n",
    "            ax.set(xlim=[-0.05, 1.05], ylim=[-0.05, 1.05])\n",
    "            if name not in [\"knn\"]:\n",
    "                ax.set_title(f'{name.replace(\"_\",\" \").title()}',fontsize=16)\n",
    "            else:\n",
    "                ax.set_title(f'KNN',fontsize=16)\n",
    "            plt.rc('xtick', labelsize=14)    # fontsize of the tick labels\n",
    "            plt.rc('ytick', labelsize=14)    # fontsize of the tick labels\n",
    "            for loc in [\"top\",\"right\"]:\n",
    "                ax.spines[loc].set_visible(False)\n",
    "            ax.legend(frameon=True,loc=\"lower right\",bbox_to_anchor=(1.2,0),fontsize=12,)\n",
    "            # annotations\n",
    "            ax.text(0.0,0.9,f\"AUC = {round(mean_auc,2)} $\\pm$ {round(std_auc,2)}\",fontsize=14)\n",
    "        if save:\n",
    "            plt.savefig(f\"../reports/conferences/BuildSys_2021/{self.target_label}-{validation}cv-roc_curve.pdf\")\n",
    "            \n",
    "        if \"annote\" in kwargs.keys():\n",
    "            axes[0].text(0.05,1,kwargs[\"annote\"],va=\"bottom\",ha=\"left\",fontsize=24)\n",
    "        fig.add_subplot(111, frame_on=False)\n",
    "        plt.tick_params(labelcolor=\"none\", bottom=False, left=False)\n",
    "        plt.xlabel(\"False Positive Rate\",fontsize=15)\n",
    "        plt.ylabel(\"True Positive Rate\",fontsize=15)\n",
    "        plt.show()\n",
    "        plt.close()\n",
    "        \n",
    "    def find_accuracy_threshold(self):\n",
    "        \"\"\"\"\"\"\n",
    "        fig, axes = plt.subplots(1,len(self.tuned_models.keys()),figsize=(6*len(self.tuned_models.keys()),6),sharey=True)\n",
    "        for (name, model), ax in zip(self.tuned_models.items(),axes.flat):\n",
    "            clf = model.fit(self.X_train,self.y_train)\n",
    "            y_pred_pos = clf.predict_proba(self.X_test)[:,1]\n",
    "            thresholds = []\n",
    "            accs = []\n",
    "            for threshold in np.linspace(0,1,100):\n",
    "                thresholds.append(threshold)\n",
    "                y_pred_class = y_pred_pos > threshold\n",
    "                acc = accuracy_score(self.y_test, y_pred_class)\n",
    "                accs.append(acc)\n",
    "            ax.plot(thresholds,accs,color=\"black\",lw=2)\n",
    "            ix = np.argmax(accs)\n",
    "            ax.set_title(thresholds[ix])\n",
    "        plt.show()\n",
    "        plt.close()\n",
    "\n",
    "    def plot_pr_auc(self,cv=\"gkf\",splits=5,save=False):\n",
    "        \"\"\"plots the precision-recall curve\"\"\"\n",
    "        cv = self.get_cv(cv,splits)\n",
    "        \n",
    "        fig, axes = plt.subplots(1,len(self.tuned_models.keys()),figsize=(6*len(self.tuned_models.keys()),6),sharey=True)\n",
    "        final_accuracies = []\n",
    "        final_fscores = []\n",
    "        final_thresholds = []\n",
    "        final_aucs = []\n",
    "        final_naives = []\n",
    "        final_feature_importances = {new_list: [] for new_list in self.tuned_models.keys()}\n",
    "        for (name, model), ax in zip(self.tuned_models.items(),axes.flat):\n",
    "            precisions = []\n",
    "            thresholds = []\n",
    "            accuracies = []\n",
    "            mean_recall = np.linspace(0, 1, 100)\n",
    "            feature_importances = []\n",
    "            fscores_balanced = []\n",
    "            for i, (train, test) in enumerate(cv.split(self.features, self.targets, groups=self.groups)):\n",
    "                clf = model.fit(self.features.iloc[train],self.targets.iloc[train])\n",
    "                precision, recall, threshold = precision_recall_curve(self.targets.iloc[test], clf.predict_proba(self.features.iloc[test])[:, 1])\n",
    "                if cv != \"logo\":\n",
    "                    ax.plot(recall,precision,lw=1,alpha=0.5,label=f\"Fold {i+1}\")\n",
    "                    \n",
    "                precisions.append(np.interp(mean_recall, np.sort(recall), precision))\n",
    "                thresholds.append(np.interp(mean_recall, np.sort(recall), np.append(threshold,[1])))\n",
    "                fscores_balanced.append(f1_score(self.targets.iloc[test],clf.predict(self.features.iloc[test])))\n",
    "                accuracies.append(accuracy_score(self.targets.iloc[test],clf.predict(self.features.iloc[test])))\n",
    "                if name == \"random_forest\":\n",
    "                    feature_importances.append(clf.feature_importances_)\n",
    "                elif name == \"logistic_regression\":\n",
    "                    feature_importances.append(clf.coef_[0])\n",
    "                else:\n",
    "                    feature_importances.append(np.zeros(len(self.features.columns)))\n",
    "            \n",
    "            final_feature_importances[name] = pd.DataFrame(data=feature_importances).mean(axis=0).values\n",
    "            mean_precision = np.mean(precisions, axis=0)\n",
    "            mean_threshold = np.mean(thresholds, axis=0)\n",
    "            mean_auc = auc(mean_recall,mean_precision)\n",
    "            fscore = (2 * mean_precision * mean_recall[::-1]) / (mean_precision + mean_recall[::-1])\n",
    "            # locate the index of the largest f score\n",
    "            ix = np.argmax(fscore)\n",
    "            score = round(sum(self.targets.iloc[:,0])/len(self.targets),2)\n",
    "            print(f'Model={name}\\n\\tAccuracy = {round(np.mean(accuracies),2)}\\n\\tF-Score (adjusted) = {round(fscore[ix],2)} ({round(mean_threshold[ix],2)})\\n\\tPR_AUC = {round(mean_auc,2)}\\n\\tNaive Score = {score if score > 0.5 else 1-score}')\n",
    "            \n",
    "            for val, li in zip([round(np.mean(accuracies),2),round(fscore[ix],2),round(mean_threshold[ix],2),round(mean_auc,2),score if score > 0.5 else 1-score],[final_accuracies,final_fscores,final_thresholds,final_aucs,final_naives]):\n",
    "                li.append(val)\n",
    "            ax.plot(mean_recall[::-1], mean_precision, color='black',lw=3, alpha=.8)#,label=f'Mean ROC\\nAUC = {round(mean_auc,2)} $\\pm$ {round(std_auc,2)}'\n",
    "            ax.set(xlim=[-0.05, 1.05], ylim=[-0.05, 1.05])\n",
    "            # remainder\n",
    "            if name not in [\"knn\"]:\n",
    "                ax.set_title(f'{name.replace(\"_\",\" \").title()}',fontsize=16)\n",
    "            else:\n",
    "                ax.set_title(f'KNN',fontsize=16)\n",
    "            plt.rc('xtick', labelsize=14)    # fontsize of the tick labels\n",
    "            plt.rc('ytick', labelsize=14)    # fontsize of the tick labels\n",
    "            for loc in [\"top\",\"right\"]:\n",
    "                ax.spines[loc].set_visible(False)\n",
    "            ax.legend(frameon=False,loc=\"lower right\",bbox_to_anchor=(1.2,0),fontsize=12,)\n",
    "        if save:\n",
    "            plt.savefig(f\"../reports/conferences/BuildSys_2021/{self.target_label}-{validation}cv-roc_curve.pdf\")\n",
    "            \n",
    "        fig.add_subplot(111, frame_on=False)\n",
    "        plt.tick_params(labelcolor=\"none\", bottom=False, left=False)\n",
    "        plt.xlabel(\"Recall\",fontsize=15)\n",
    "        plt.ylabel(\"Precision\",fontsize=15)\n",
    "        plt.show()\n",
    "        plt.close()\n",
    "            \n",
    "        return pd.DataFrame(data={\"accuracy\":final_accuracies,\"f1\":final_fscores,\"threshold\":final_thresholds,\"pr_auc\":final_aucs,\"naive\":final_naives}), final_feature_importances\n",
    "    \n",
    "    def get_performance(self,cv=\"gkf\",splits=5,save=False):\n",
    "        \"\"\"gest performance metrics for the model and prediction\"\"\"\n",
    "        cv = self.get_cv(cv,splits)\n",
    "        # defining result dicts\n",
    "        model_res = {\"target\":[],\"model\":[],\"accuracy\":[],\"accuracy_naive\":[],\"f1\":[],\"f1_naive\":[]}\n",
    "        pred_res = {\"target\":[],\"model\":[],\"accuracy\":[],\"accuracy_naive\":[],\"f1\":[],\"f1_naive\":[]}\n",
    "        final_feature_importances = {new_list: [] for new_list in self.tuned_models.keys()}\n",
    "        # looping through models\n",
    "        for name, model in self.tuned_models.items():\n",
    "            # pre-allocating empty metric lists\n",
    "            precisions = {\"train\":[],\"test\":[]}\n",
    "            thresholds = {\"train\":[],\"test\":[]}\n",
    "            accuracies = {\"train\":[],\"test\":[]}\n",
    "            mean_recall = np.linspace(0, 1, 100)\n",
    "            feature_importances = []\n",
    "            # looping through cv folds\n",
    "            for i, (train, test) in enumerate(cv.split(self.features, self.targets, groups=self.groups)):\n",
    "                # training model\n",
    "                clf = model.fit(self.features.iloc[train],self.targets.iloc[train])\n",
    "                # metrics for model (train) and prediction (test)\n",
    "                for set_label,set_locs in zip([\"train\",\"test\"],[train,test]):\n",
    "                    # getting precision, thresholds, and f1_balanced (0.5 cutoff)\n",
    "                    precision, recall, threshold = precision_recall_curve(self.targets.iloc[set_locs], clf.predict_proba(self.features.iloc[set_locs])[:, 1])\n",
    "                    precisions[set_label].append(np.interp(mean_recall, np.sort(recall), precision))\n",
    "                    thresholds[set_label].append(np.interp(mean_recall, np.sort(recall), np.append(threshold,[1])))\n",
    "                    # accuracy\n",
    "                    accuracies[set_label].append(accuracy_score(self.targets.iloc[set_locs],clf.predict(self.features.iloc[set_locs])))\n",
    "                \n",
    "                # features importances\n",
    "                if name == \"random_forest\":\n",
    "                    feature_importances.append(clf.feature_importances_)\n",
    "                elif name == \"logistic_regression\":\n",
    "                    feature_importances.append(clf.coef_[0])\n",
    "                else:\n",
    "                    feature_importances.append(np.zeros(len(self.features.columns)))\n",
    "            \n",
    "            # averaging feature importances from cv folds\n",
    "            final_feature_importances[name] = pd.DataFrame(data=feature_importances).mean(axis=0).values\n",
    "            for set_label,set_res in zip([\"train\",\"test\"],[model_res,pred_res]):\n",
    "                # getting adjusted f1 score\n",
    "                mean_precision = np.mean(precisions[set_label], axis=0)\n",
    "                mean_threshold = np.mean(thresholds[set_label], axis=0)\n",
    "                fscore = (2 * mean_precision * mean_recall[::-1]) / (mean_precision + mean_recall[::-1])\n",
    "                ix = np.argmax(fscore) # locate the index of the largest f score\n",
    "                # getting averaged metrics\n",
    "                acc_temp = round(np.mean(accuracies[set_label]),2)\n",
    "                score = round(sum(self.targets.iloc[:,0])/len(self.targets),2)\n",
    "                acc_naive_temp = score if score > 0.5 else 1-score\n",
    "                f1_temp = f\"{round(fscore[ix],2)} ({round(mean_threshold[ix],2)})\"\n",
    "                f1_naive_temp = round(f1_score(self.targets,np.ones(len(self.targets))),2)\n",
    "                # adding to dict\n",
    "                for key,val in zip(set_res.keys(),[self.targets.columns.values[0].split(\"_\")[0],name,acc_temp,acc_naive_temp,f1_temp,f1_naive_temp]):\n",
    "                    set_res[key].append(val)\n",
    "            \n",
    "        return pd.DataFrame(model_res), pd.DataFrame(pred_res), final_feature_importances\n",
    "    "
   ]
  },
  {
   "cell_type": "markdown",
   "metadata": {},
   "source": [
    "### Scoring\n",
    "Now that we have determined which models and hyperparameters to use, we can go forward and calculate some scoring metrics.\n",
    "\n",
    "Check out this article [here](https://neptune.ai/blog/f1-score-accuracy-roc-auc-pr-auc) for more."
   ]
  },
  {
   "cell_type": "markdown",
   "metadata": {},
   "source": [
    "#### Restricting Dataset to a Select Number"
   ]
  },
  {
   "cell_type": "code",
   "execution_count": 47,
   "metadata": {},
   "outputs": [],
   "source": [
    "n_nights_by_pt = ieq_and_activity[[\"start_time\",\"beiwe\"]].groupby(\"beiwe\").count().sort_values(\"start_time\",ascending=False)\n",
    "n_nights_select = n_nights_by_pt[n_nights_by_pt[\"start_time\"] >= 20]\n",
    "ieq_activity_and_fb_select = ieq_and_activity[ieq_and_activity[\"beiwe\"].isin(n_nights_select.index)]"
   ]
  },
  {
   "cell_type": "markdown",
   "metadata": {},
   "source": [
    "#### Plotting and Measuring"
   ]
  },
  {
   "cell_type": "code",
   "execution_count": 49,
   "metadata": {
    "scrolled": true
   },
   "outputs": [
    {
     "name": "stdout",
     "output_type": "stream",
     "text": [
      "Getting Features and Target (se)...\n",
      "Splitting Data...\n",
      "Getting Features and Target (rem_percent)...\n",
      "Splitting Data...\n",
      "Getting Features and Target (tst)...\n",
      "Splitting Data...\n",
      "Getting Features and Target (sol)...\n",
      "Splitting Data...\n",
      "Getting Features and Target (naw)...\n",
      "Splitting Data...\n",
      "Getting Features and Target (restful)...\n",
      "Splitting Data...\n",
      "Getting Features and Target (tst)...\n",
      "Splitting Data...\n"
     ]
    }
   ],
   "source": [
    "temp = ieq_and_sq_prediction()\n",
    "model_scores = pd.DataFrame()\n",
    "pred_scores = pd.DataFrame()\n",
    "fis = pd.DataFrame()\n",
    "validation_method=\"gkf\"\n",
    "for target_set, targets, label in zip([fbsq,srsq],[[\"se\",\"rem_percent\",\"tst\"],[\"sol\",\"naw\",\"restful\",\"tst\"]],[\"Fitbit\",\"EMA\"]):\n",
    "    for target, letter in zip(targets,[\"a\",\"b\",\"c\",\"d\",\"e\"]):\n",
    "        temp.get_features_and_targets(ieq_activity_and_fb_select, target_set, target=target)\n",
    "        temp.split_data()\n",
    "\n",
    "        #temp.plot_roc_auc(validation_method,save=True)#,annote=letter)\n",
    "        df_model, df_pred, fi = temp.get_performance(validation_method)\n",
    "        df_model[\"modality\"] = label\n",
    "        model_scores = model_scores.append(df_model)\n",
    "        df_pred[\"modality\"] = label\n",
    "        pred_scores = pred_scores.append(df_pred)\n",
    "        fi_df = pd.DataFrame.from_dict(fi,orient=\"index\")\n",
    "        fi_df.columns = temp.features.columns.values\n",
    "        fi_df[\"metric\"] = target\n",
    "        fis = fis.append(fi_df)\n",
    "\n",
    "        #temp.find_accuracy_threshold()"
   ]
  },
  {
   "cell_type": "code",
   "execution_count": 50,
   "metadata": {},
   "outputs": [],
   "source": [
    "combined_scores = model_scores.merge(pred_scores,on=[\"target\",\"model\",\"modality\"],suffixes=[\"_model\",\"_pred\"])\n",
    "combined_scores.drop([\"modality\",\"accuracy_naive_model\"],axis=\"columns\",inplace=True)"
   ]
  },
  {
   "cell_type": "code",
   "execution_count": 51,
   "metadata": {},
   "outputs": [
    {
     "name": "stdout",
     "output_type": "stream",
     "text": [
      "\\begin{tabular}{llrrrlr}\n",
      "\\toprule\n",
      "{} & model &  accuracy\\_model &  accuracy\\_pred &  accuracy\\_naive\\_pred &      f1\\_pred &  f1\\_naive\\_pred \\\\\n",
      "target  &       &                 &                &                      &              &                \\\\\n",
      "\\midrule\n",
      "SE      &    LR &            0.79 &           0.78 &                 0.79 &  0.89 (0.46) &           0.89 \\\\\n",
      "SE      &   kNN &            0.81 &           0.75 &                 0.79 &  0.89 (0.34) &           0.89 \\\\\n",
      "SE      &    RF &            0.79 &           0.80 &                 0.79 &  0.89 (0.71) &           0.89 \\\\\n",
      "REM     &    LR &            0.63 &           0.63 &                 0.64 &  0.54 (0.29) &           0.53 \\\\\n",
      "REM     &   kNN &            0.68 &           0.58 &                 0.64 &  0.52 (0.09) &           0.53 \\\\\n",
      "REM     &    RF &            0.64 &           0.64 &                 0.64 &  0.53 (0.34) &           0.53 \\\\\n",
      "TST     &    LR &            0.65 &           0.61 &                 0.65 &  0.52 (0.23) &           0.52 \\\\\n",
      "TST     &   kNN &            0.71 &           0.60 &                 0.65 &  0.52 (0.03) &           0.52 \\\\\n",
      "TST     &    RF &            0.65 &           0.65 &                 0.65 &  0.52 (0.32) &           0.52 \\\\\n",
      "SOL     &    LR &            0.62 &           0.48 &                 0.56 &  0.71 (0.37) &           0.71 \\\\\n",
      "SOL     &   kNN &            0.67 &           0.50 &                 0.56 &  0.72 (0.31) &           0.71 \\\\\n",
      "SOL     &    RF &            0.59 &           0.49 &                 0.56 &   0.72 (0.5) &           0.71 \\\\\n",
      "NAW     &    LR &            0.62 &           0.30 &                 0.52 &   0.7 (0.36) &           0.69 \\\\\n",
      "NAW     &   kNN &            0.70 &           0.38 &                 0.52 &  0.69 (0.17) &           0.69 \\\\\n",
      "NAW     &    RF &            0.59 &           0.25 &                 0.52 &   0.7 (0.48) &           0.69 \\\\\n",
      "Restful &    LR &            0.82 &           0.82 &                 0.82 &  0.91 (0.55) &           0.90 \\\\\n",
      "Restful &   kNN &            0.83 &           0.81 &                 0.82 &  0.91 (0.54) &           0.90 \\\\\n",
      "Restful &    RF &            0.82 &           0.82 &                 0.82 &   0.9 (0.76) &           0.90 \\\\\n",
      "TST     &    LR &            0.68 &           0.61 &                 0.64 &  0.79 (0.43) &           0.78 \\\\\n",
      "TST     &   kNN &            0.69 &           0.61 &                 0.64 &  0.78 (0.23) &           0.78 \\\\\n",
      "TST     &    RF &            0.64 &           0.64 &                 0.64 &  0.78 (0.56) &           0.78 \\\\\n",
      "\\bottomrule\n",
      "\\end{tabular}\n",
      "\n"
     ]
    }
   ],
   "source": [
    "print(combined_scores.replace({\"se\":\"SE\",\"rem\":\"REM\",\"tst\":\"TST\",\"sol\":\"SOL\",\"naw\":\"NAW\",\"restful\":\"Restful\",\n",
    "                     \"logistic_regression\":\"LR\",\"knn\":\"kNN\",\"random_forest\":\"RF\"}).drop([\"f1_model\",\"f1_naive_model\"],axis=1).set_index(\"target\").to_latex())"
   ]
  },
  {
   "cell_type": "code",
   "execution_count": 56,
   "metadata": {
    "scrolled": true
   },
   "outputs": [
    {
     "name": "stdout",
     "output_type": "stream",
     "text": [
      "logistic_regression se\n"
     ]
    },
    {
     "data": {
      "image/png": "[encoded data removed]",
      "text/plain": [
       "<Figure size 144x72 with 1 Axes>"
      ]
     },
     "metadata": {
      "needs_background": "light"
     },
     "output_type": "display_data"
    },
    {
     "name": "stdout",
     "output_type": "stream",
     "text": [
      "logistic_regression rem_percent\n"
     ]
    },
    {
     "data": {
      "image/png": "[encoded data removed]",
      "text/plain": [
       "<Figure size 144x72 with 1 Axes>"
      ]
     },
     "metadata": {
      "needs_background": "light"
     },
     "output_type": "display_data"
    },
    {
     "name": "stdout",
     "output_type": "stream",
     "text": [
      "logistic_regression tst\n"
     ]
    },
    {
     "data": {
      "image/png": "[encoded data removed]",
      "text/plain": [
       "<Figure size 144x72 with 1 Axes>"
      ]
     },
     "metadata": {
      "needs_background": "light"
     },
     "output_type": "display_data"
    },
    {
     "name": "stdout",
     "output_type": "stream",
     "text": [
      "logistic_regression sol\n"
     ]
    },
    {
     "data": {
      "image/png": "[encoded data removed]",
      "text/plain": [
       "<Figure size 144x72 with 1 Axes>"
      ]
     },
     "metadata": {
      "needs_background": "light"
     },
     "output_type": "display_data"
    },
    {
     "name": "stdout",
     "output_type": "stream",
     "text": [
      "logistic_regression naw\n"
     ]
    },
    {
     "data": {
      "image/png": "[encoded data removed]",
      "text/plain": [
       "<Figure size 144x72 with 1 Axes>"
      ]
     },
     "metadata": {
      "needs_background": "light"
     },
     "output_type": "display_data"
    },
    {
     "name": "stdout",
     "output_type": "stream",
     "text": [
      "logistic_regression restful\n"
     ]
    },
    {
     "data": {
      "image/png": "[encoded data removed]",
      "text/plain": [
       "<Figure size 144x72 with 1 Axes>"
      ]
     },
     "metadata": {
      "needs_background": "light"
     },
     "output_type": "display_data"
    },
    {
     "name": "stdout",
     "output_type": "stream",
     "text": [
      "logistic_regression tst\n"
     ]
    },
    {
     "data": {
      "image/png": "[encoded data removed]",
      "text/plain": [
       "<Figure size 144x72 with 1 Axes>"
      ]
     },
     "metadata": {
      "needs_background": "light"
     },
     "output_type": "display_data"
    },
    {
     "name": "stdout",
     "output_type": "stream",
     "text": [
      "random_forest se\n"
     ]
    },
    {
     "data": {
      "image/png": "[encoded data removed]",
      "text/plain": [
       "<Figure size 144x72 with 1 Axes>"
      ]
     },
     "metadata": {
      "needs_background": "light"
     },
     "output_type": "display_data"
    },
    {
     "name": "stdout",
     "output_type": "stream",
     "text": [
      "random_forest rem_percent\n"
     ]
    },
    {
     "data": {
      "image/png": "[encoded data removed]",
      "text/plain": [
       "<Figure size 144x72 with 1 Axes>"
      ]
     },
     "metadata": {
      "needs_background": "light"
     },
     "output_type": "display_data"
    },
    {
     "name": "stdout",
     "output_type": "stream",
     "text": [
      "random_forest tst\n"
     ]
    },
    {
     "data": {
      "image/png": "[encoded data removed]",
      "text/plain": [
       "<Figure size 144x72 with 1 Axes>"
      ]
     },
     "metadata": {
      "needs_background": "light"
     },
     "output_type": "display_data"
    },
    {
     "name": "stdout",
     "output_type": "stream",
     "text": [
      "random_forest sol\n"
     ]
    },
    {
     "data": {
      "image/png": "[encoded data removed]",
      "text/plain": [
       "<Figure size 144x72 with 1 Axes>"
      ]
     },
     "metadata": {
      "needs_background": "light"
     },
     "output_type": "display_data"
    },
    {
     "name": "stdout",
     "output_type": "stream",
     "text": [
      "random_forest naw\n"
     ]
    },
    {
     "data": {
      "image/png": "[encoded data removed]",
      "text/plain": [
       "<Figure size 144x72 with 1 Axes>"
      ]
     },
     "metadata": {
      "needs_background": "light"
     },
     "output_type": "display_data"
    },
    {
     "name": "stdout",
     "output_type": "stream",
     "text": [
      "random_forest restful\n"
     ]
    },
    {
     "data": {
      "image/png": "[encoded data removed]",
      "text/plain": [
       "<Figure size 144x72 with 1 Axes>"
      ]
     },
     "metadata": {
      "needs_background": "light"
     },
     "output_type": "display_data"
    },
    {
     "name": "stdout",
     "output_type": "stream",
     "text": [
      "random_forest tst\n"
     ]
    },
    {
     "data": {
      "image/png": "[encoded data removed]",
      "text/plain": [
       "<Figure size 144x72 with 1 Axes>"
      ]
     },
     "metadata": {
      "needs_background": "light"
     },
     "output_type": "display_data"
    }
   ],
   "source": [
    "fis_important = fis.loc[[\"logistic_regression\",\"random_forest\"],:]\n",
    "for row in range(len(fis_important)):\n",
    "    print(fis_important.index[row],fis_important[\"metric\"][row])\n",
    "    best = fis_important.iloc[:,:-1].iloc[row,:].sort_values(ascending=False)\n",
    "    new_ix = []\n",
    "    for ix in best.index.values:\n",
    "        new_ix.append(ix.split(\"_\")[0])\n",
    "    best.index = new_ix\n",
    "    best.rename({\"rh\":\"RH\",\"temperature\":\"T\",\"active\":\"Active\",\"tvoc\":\"TVOC\",\"steps\":\"Steps\",\"pm2p5\":\"PM$_{2.5}$\",\"co\":\"CO\",\"co2\":\"CO$_2$\"},inplace=True)\n",
    "    best_normal = (best - min(best))/(max(best) - min(best))\n",
    "    _, ax = plt.subplots(figsize=(2,1))\n",
    "    labels = list(best_normal.index[:2])\n",
    "    labels.reverse()\n",
    "    vals = list(best_normal[:2])\n",
    "    vals.reverse()\n",
    "    ax.barh(y=labels,width=vals,color=\"black\")\n",
    "    ax.set_yticklabels(labels,fontsize=18)\n",
    "    for loc in [\"top\",\"right\",\"bottom\"]:\n",
    "        ax.spines[loc].set_visible(False)\n",
    "    ax.get_xaxis().set_visible(False)\n",
    "    if row in [2,9]:\n",
    "        annot = \"_fb\"\n",
    "    else:\n",
    "        annot= \"\"\n",
    "    plt.savefig(f\"../reports/conferences/BuildSys_2021/feature_importance-{fis_important.index[row]}-{fis_important['metric'][row]}{annot}.pdf\",bbox_inches=\"tight\")\n",
    "    plt.show()\n",
    "    plt.close()"
   ]
  },
  {
   "cell_type": "code",
   "execution_count": 57,
   "metadata": {},
   "outputs": [
    {
     "data": {
      "text/html": [
       "<div>\n",
       "<style scoped>\n",
       "    .dataframe tbody tr th:only-of-type {\n",
       "        vertical-align: middle;\n",
       "    }\n",
       "\n",
       "    .dataframe tbody tr th {\n",
       "        vertical-align: top;\n",
       "    }\n",
       "\n",
       "    .dataframe thead th {\n",
       "        text-align: right;\n",
       "    }\n",
       "</style>\n",
       "<table border=\"1\" class=\"dataframe\">\n",
       "  <thead>\n",
       "    <tr style=\"text-align: right;\">\n",
       "      <th></th>\n",
       "      <th>0</th>\n",
       "      <th>1</th>\n",
       "      <th>2</th>\n",
       "      <th>3</th>\n",
       "      <th>4</th>\n",
       "      <th>5</th>\n",
       "    </tr>\n",
       "  </thead>\n",
       "  <tbody>\n",
       "    <tr>\n",
       "      <th>(SE, Logistic Regression)</th>\n",
       "      <td>RH</td>\n",
       "      <td>-1.0=</td>\n",
       "      <td>TEMPERATURE</td>\n",
       "      <td>-0.845=</td>\n",
       "      <td>ACTIVE</td>\n",
       "      <td>-0.603=</td>\n",
       "    </tr>\n",
       "    <tr>\n",
       "      <th>(SE, Knn)</th>\n",
       "      <td>CO2</td>\n",
       "      <td>-nan=</td>\n",
       "      <td>CO</td>\n",
       "      <td>-nan=</td>\n",
       "      <td>TVOC</td>\n",
       "      <td>-nan=</td>\n",
       "    </tr>\n",
       "    <tr>\n",
       "      <th>(SE, Random Forest)</th>\n",
       "      <td>STEPS</td>\n",
       "      <td>-1.0=</td>\n",
       "      <td>CO</td>\n",
       "      <td>-0.181=</td>\n",
       "      <td>RH</td>\n",
       "      <td>-0.144=</td>\n",
       "    </tr>\n",
       "    <tr>\n",
       "      <th>(REM_PERCENT, Logistic Regression)</th>\n",
       "      <td>ACTIVE</td>\n",
       "      <td>-1.0=</td>\n",
       "      <td>PM2P5</td>\n",
       "      <td>-0.924=</td>\n",
       "      <td>RH</td>\n",
       "      <td>-0.823=</td>\n",
       "    </tr>\n",
       "    <tr>\n",
       "      <th>(REM_PERCENT, Knn)</th>\n",
       "      <td>CO2</td>\n",
       "      <td>-nan=</td>\n",
       "      <td>CO</td>\n",
       "      <td>-nan=</td>\n",
       "      <td>TVOC</td>\n",
       "      <td>-nan=</td>\n",
       "    </tr>\n",
       "    <tr>\n",
       "      <th>(REM_PERCENT, Random Forest)</th>\n",
       "      <td>ACTIVE</td>\n",
       "      <td>-1.0=</td>\n",
       "      <td>RH</td>\n",
       "      <td>-0.621=</td>\n",
       "      <td>PM2P5</td>\n",
       "      <td>-0.581=</td>\n",
       "    </tr>\n",
       "    <tr>\n",
       "      <th>(TST, Logistic Regression)</th>\n",
       "      <td>ACTIVE</td>\n",
       "      <td>-1.0=</td>\n",
       "      <td>RH</td>\n",
       "      <td>-0.688=</td>\n",
       "      <td>CO2</td>\n",
       "      <td>-0.485=</td>\n",
       "    </tr>\n",
       "    <tr>\n",
       "      <th>(TST, Knn)</th>\n",
       "      <td>CO2</td>\n",
       "      <td>-nan=</td>\n",
       "      <td>CO</td>\n",
       "      <td>-nan=</td>\n",
       "      <td>TVOC</td>\n",
       "      <td>-nan=</td>\n",
       "    </tr>\n",
       "    <tr>\n",
       "      <th>(TST, Random Forest)</th>\n",
       "      <td>ACTIVE</td>\n",
       "      <td>-1.0=</td>\n",
       "      <td>PM2P5</td>\n",
       "      <td>-0.105=</td>\n",
       "      <td>RH</td>\n",
       "      <td>-0.079=</td>\n",
       "    </tr>\n",
       "    <tr>\n",
       "      <th>(SOL, Logistic Regression)</th>\n",
       "      <td>TEMPERATURE</td>\n",
       "      <td>-1.0=</td>\n",
       "      <td>STEPS</td>\n",
       "      <td>-0.925=</td>\n",
       "      <td>CO</td>\n",
       "      <td>-0.845=</td>\n",
       "    </tr>\n",
       "    <tr>\n",
       "      <th>(SOL, Knn)</th>\n",
       "      <td>CO2</td>\n",
       "      <td>-nan=</td>\n",
       "      <td>CO</td>\n",
       "      <td>-nan=</td>\n",
       "      <td>TVOC</td>\n",
       "      <td>-nan=</td>\n",
       "    </tr>\n",
       "    <tr>\n",
       "      <th>(SOL, Random Forest)</th>\n",
       "      <td>ACTIVE</td>\n",
       "      <td>-1.0=</td>\n",
       "      <td>CO2</td>\n",
       "      <td>-0.624=</td>\n",
       "      <td>RH</td>\n",
       "      <td>-0.327=</td>\n",
       "    </tr>\n",
       "    <tr>\n",
       "      <th>(NAW, Logistic Regression)</th>\n",
       "      <td>CO</td>\n",
       "      <td>-1.0=</td>\n",
       "      <td>TEMPERATURE</td>\n",
       "      <td>-0.84=</td>\n",
       "      <td>STEPS</td>\n",
       "      <td>-0.582=</td>\n",
       "    </tr>\n",
       "    <tr>\n",
       "      <th>(NAW, Knn)</th>\n",
       "      <td>CO2</td>\n",
       "      <td>-nan=</td>\n",
       "      <td>CO</td>\n",
       "      <td>-nan=</td>\n",
       "      <td>TVOC</td>\n",
       "      <td>-nan=</td>\n",
       "    </tr>\n",
       "    <tr>\n",
       "      <th>(NAW, Random Forest)</th>\n",
       "      <td>TVOC</td>\n",
       "      <td>-1.0=</td>\n",
       "      <td>CO2</td>\n",
       "      <td>-0.796=</td>\n",
       "      <td>CO</td>\n",
       "      <td>-0.587=</td>\n",
       "    </tr>\n",
       "    <tr>\n",
       "      <th>(RESTFUL, Logistic Regression)</th>\n",
       "      <td>CO</td>\n",
       "      <td>-1.0=</td>\n",
       "      <td>RH</td>\n",
       "      <td>-0.841=</td>\n",
       "      <td>ACTIVE</td>\n",
       "      <td>-0.792=</td>\n",
       "    </tr>\n",
       "    <tr>\n",
       "      <th>(RESTFUL, Knn)</th>\n",
       "      <td>CO2</td>\n",
       "      <td>-nan=</td>\n",
       "      <td>CO</td>\n",
       "      <td>-nan=</td>\n",
       "      <td>TVOC</td>\n",
       "      <td>-nan=</td>\n",
       "    </tr>\n",
       "    <tr>\n",
       "      <th>(RESTFUL, Random Forest)</th>\n",
       "      <td>CO</td>\n",
       "      <td>-1.0=</td>\n",
       "      <td>RH</td>\n",
       "      <td>-0.325=</td>\n",
       "      <td>PM2P5</td>\n",
       "      <td>-0.302=</td>\n",
       "    </tr>\n",
       "  </tbody>\n",
       "</table>\n",
       "</div>"
      ],
      "text/plain": [
       "                                              0      1            2        3  \\\n",
       "(SE, Logistic Regression)                    RH  -1.0=  TEMPERATURE  -0.845=   \n",
       "(SE, Knn)                                   CO2  -nan=           CO    -nan=   \n",
       "(SE, Random Forest)                       STEPS  -1.0=           CO  -0.181=   \n",
       "(REM_PERCENT, Logistic Regression)       ACTIVE  -1.0=        PM2P5  -0.924=   \n",
       "(REM_PERCENT, Knn)                          CO2  -nan=           CO    -nan=   \n",
       "(REM_PERCENT, Random Forest)             ACTIVE  -1.0=           RH  -0.621=   \n",
       "(TST, Logistic Regression)               ACTIVE  -1.0=           RH  -0.688=   \n",
       "(TST, Knn)                                  CO2  -nan=           CO    -nan=   \n",
       "(TST, Random Forest)                     ACTIVE  -1.0=        PM2P5  -0.105=   \n",
       "(SOL, Logistic Regression)          TEMPERATURE  -1.0=        STEPS  -0.925=   \n",
       "(SOL, Knn)                                  CO2  -nan=           CO    -nan=   \n",
       "(SOL, Random Forest)                     ACTIVE  -1.0=          CO2  -0.624=   \n",
       "(NAW, Logistic Regression)                   CO  -1.0=  TEMPERATURE   -0.84=   \n",
       "(NAW, Knn)                                  CO2  -nan=           CO    -nan=   \n",
       "(NAW, Random Forest)                       TVOC  -1.0=          CO2  -0.796=   \n",
       "(RESTFUL, Logistic Regression)               CO  -1.0=           RH  -0.841=   \n",
       "(RESTFUL, Knn)                              CO2  -nan=           CO    -nan=   \n",
       "(RESTFUL, Random Forest)                     CO  -1.0=           RH  -0.325=   \n",
       "\n",
       "                                         4        5  \n",
       "(SE, Logistic Regression)           ACTIVE  -0.603=  \n",
       "(SE, Knn)                             TVOC    -nan=  \n",
       "(SE, Random Forest)                     RH  -0.144=  \n",
       "(REM_PERCENT, Logistic Regression)      RH  -0.823=  \n",
       "(REM_PERCENT, Knn)                    TVOC    -nan=  \n",
       "(REM_PERCENT, Random Forest)         PM2P5  -0.581=  \n",
       "(TST, Logistic Regression)             CO2  -0.485=  \n",
       "(TST, Knn)                            TVOC    -nan=  \n",
       "(TST, Random Forest)                    RH  -0.079=  \n",
       "(SOL, Logistic Regression)              CO  -0.845=  \n",
       "(SOL, Knn)                            TVOC    -nan=  \n",
       "(SOL, Random Forest)                    RH  -0.327=  \n",
       "(NAW, Logistic Regression)           STEPS  -0.582=  \n",
       "(NAW, Knn)                            TVOC    -nan=  \n",
       "(NAW, Random Forest)                    CO  -0.587=  \n",
       "(RESTFUL, Logistic Regression)      ACTIVE  -0.792=  \n",
       "(RESTFUL, Knn)                        TVOC    -nan=  \n",
       "(RESTFUL, Random Forest)             PM2P5  -0.302=  "
      ]
     },
     "execution_count": 57,
     "metadata": {},
     "output_type": "execute_result"
    }
   ],
   "source": [
    "d = {}\n",
    "for row in range(len(fis)):\n",
    "    #print(fis.iloc[row,-1].upper(), fis.index[row].replace(\"_\",\" \").title())\n",
    "    best = fis.iloc[:,:-1].iloc[row,:].sort_values(ascending=False)\n",
    "    best_normal = (best - min(best))/(max(best) - min(best))\n",
    "    #print(best.index[:3].values,\"\\n\")\n",
    "    best_vars = [var.split(\"_\")[0].upper() for var in best_normal.index[:3].values]\n",
    "    best_scores = [f\"-{round(score,3)}=\" for score in best_normal[:3].values]\n",
    "    vars_and_score = [a for b in zip(best_vars, best_scores) for a in b]\n",
    "    d[fis.iloc[row,-1].upper(), fis.index[row].replace(\"_\",\" \").title()] = vars_and_score\n",
    "pd.DataFrame.from_dict(d,orient=\"index\")"
   ]
  },
  {
   "cell_type": "markdown",
   "metadata": {},
   "source": [
    "## Optimizing Models\n",
    "Looking at different components of:\n",
    "* classifiers\n",
    "* validation\n",
    "* hyperparameters"
   ]
  },
  {
   "cell_type": "markdown",
   "metadata": {},
   "source": [
    "### Aggregate\n",
    "All the participants' data considered and stratified according to the number of observations."
   ]
  },
  {
   "cell_type": "code",
   "execution_count": 58,
   "metadata": {
    "scrolled": true
   },
   "outputs": [
    {
     "name": "stdout",
     "output_type": "stream",
     "text": [
      "Getting Features and Target (se)...\n",
      "Splitting Data...\n",
      "Testing Classifiers...\n",
      "\tLogistic Regression\n",
      "\t\tElapsed Time:\t 0:00:00.124879\n",
      "\t\tBest Score:\t0.7836805555555555\n",
      "\t\tBest Params:\t{'fit_intercept': True, 'solver': 'lbfgs'}\n",
      "\tGradientboost\n",
      "\t\tElapsed Time:\t 0:00:10.099867\n",
      "\t\tBest Score:\t0.7962301587301587\n",
      "\t\tBest Params:\t{'max_depth': 1, 'min_samples_leaf': 1, 'min_samples_split': 2, 'n_estimators': 10}\n",
      "\tK-Nearest Neighbor\n",
      "\t\tElapsed Time:\t 0:00:01.670955\n",
      "\t\tBest Score:\t0.7711805555555555\n",
      "\t\tBest Params:\t{'metric': 'matching', 'n_neighbors': 7, 'p': 1, 'weights': 'uniform'}\n",
      "\tBest Scoring Model:\n",
      "\t\tModel:\tGradientboost\n",
      "\t\tScore:\t0.796\n",
      "\t\tParams:\t{'max_depth': 1, 'min_samples_leaf': 1, 'min_samples_split': 2, 'n_estimators': 10}\n",
      "GRADIENTBOOST\n",
      "Training...\n",
      "Predicting...\n",
      "\tCross Validation Scores:\n",
      "\t\t0.635\n",
      "\t\t0.635\n",
      "\t\t0.635\n",
      "\t\t0.635\n",
      "\t\t0.63\n",
      "\tAverage:\t0.634\n",
      "\tModel Score: 0.719\n",
      "Evaluating...\n"
     ]
    },
    {
     "data": {
      "image/png": "[encoded data removed]",
      "text/plain": [
       "<Figure size 360x288 with 2 Axes>"
      ]
     },
     "metadata": {
      "needs_background": "light"
     },
     "output_type": "display_data"
    },
    {
     "data": {
      "image/png": "[encoded data removed]",
      "text/plain": [
       "<Figure size 432x288 with 1 Axes>"
      ]
     },
     "metadata": {
      "needs_background": "light"
     },
     "output_type": "display_data"
    },
    {
     "name": "stdout",
     "output_type": "stream",
     "text": [
      "LOGISTIC REGRESSION\n",
      "Training...\n",
      "Predicting...\n",
      "\tCross Validation Scores:\n",
      "\t\t0.632\n",
      "\t\t0.708\n",
      "\t\t0.632\n",
      "\t\t0.635\n",
      "\t\t0.726\n",
      "\tAverage:\t0.667\n",
      "\tModel Score: 0.712\n",
      "Evaluating...\n"
     ]
    },
    {
     "data": {
      "image/png": "[encoded data removed]",
      "text/plain": [
       "<Figure size 360x288 with 2 Axes>"
      ]
     },
     "metadata": {
      "needs_background": "light"
     },
     "output_type": "display_data"
    },
    {
     "name": "stdout",
     "output_type": "stream",
     "text": [
      "'LogisticRegression' object has no attribute 'feature_importances_'\n",
      "K-NEAREST NEIGHBOR\n",
      "Training...\n",
      "Predicting...\n",
      "\tCross Validation Scores:\n",
      "\t\t0.666\n",
      "\t\t0.688\n",
      "\t\t0.708\n",
      "\t\t0.744\n",
      "\t\t0.627\n",
      "\tAverage:\t0.687\n",
      "\tModel Score: 0.624\n",
      "Evaluating...\n"
     ]
    },
    {
     "data": {
      "image/png": "[encoded data removed]",
      "text/plain": [
       "<Figure size 360x288 with 2 Axes>"
      ]
     },
     "metadata": {
      "needs_background": "light"
     },
     "output_type": "display_data"
    },
    {
     "name": "stdout",
     "output_type": "stream",
     "text": [
      "'KNeighborsClassifier' object has no attribute 'feature_importances_'\n",
      "Getting Features and Target (tst)...\n",
      "Splitting Data...\n",
      "Testing Classifiers...\n",
      "\tLogistic Regression\n",
      "\t\tElapsed Time:\t 0:00:00.200191\n",
      "\t\tBest Score:\t0.6740079365079366\n",
      "\t\tBest Params:\t{'fit_intercept': True, 'solver': 'liblinear'}\n",
      "\tGradientboost\n",
      "\t\tElapsed Time:\t 0:00:10.930820\n",
      "\t\tBest Score:\t0.6740079365079366\n",
      "\t\tBest Params:\t{'max_depth': 1, 'min_samples_leaf': 1, 'min_samples_split': 2, 'n_estimators': 10}\n",
      "\tK-Nearest Neighbor\n",
      "\t\tElapsed Time:\t 0:00:01.808175\n",
      "\t\tBest Score:\t0.6426587301587301\n",
      "\t\tBest Params:\t{'metric': 'matching', 'n_neighbors': 5, 'p': 1, 'weights': 'distance'}\n",
      "\tBest Scoring Model:\n",
      "\t\tModel:\tLogistic Regression\n",
      "\t\tScore:\t0.674\n",
      "\t\tParams:\t{'fit_intercept': True, 'solver': 'liblinear'}\n",
      "LOGISTIC REGRESSION\n",
      "Training...\n",
      "Predicting...\n",
      "\tCross Validation Scores:\n",
      "\t\t0.451\n",
      "\t\t0.451\n",
      "\t\t0.451\n",
      "\t\t0.451\n",
      "\t\t0.466\n",
      "\tAverage:\t0.454\n",
      "\tModel Score: 0.572\n",
      "Evaluating...\n"
     ]
    },
    {
     "data": {
      "image/png": "[encoded data removed]",
      "text/plain": [
       "<Figure size 360x288 with 2 Axes>"
      ]
     },
     "metadata": {
      "needs_background": "light"
     },
     "output_type": "display_data"
    },
    {
     "name": "stdout",
     "output_type": "stream",
     "text": [
      "'LogisticRegression' object has no attribute 'feature_importances_'\n",
      "GRADIENTBOOST\n",
      "Training...\n",
      "Predicting...\n",
      "\tCross Validation Scores:\n",
      "\t\t0.451\n",
      "\t\t0.451\n",
      "\t\t0.451\n",
      "\t\t0.451\n",
      "\t\t0.466\n",
      "\tAverage:\t0.454\n",
      "\tModel Score: 0.496\n",
      "Evaluating...\n"
     ]
    },
    {
     "data": {
      "image/png": "[encoded data removed]",
      "text/plain": [
       "<Figure size 360x288 with 2 Axes>"
      ]
     },
     "metadata": {
      "needs_background": "light"
     },
     "output_type": "display_data"
    },
    {
     "data": {
      "image/png": "[encoded data removed]",
      "text/plain": [
       "<Figure size 432x288 with 1 Axes>"
      ]
     },
     "metadata": {
      "needs_background": "light"
     },
     "output_type": "display_data"
    },
    {
     "name": "stdout",
     "output_type": "stream",
     "text": [
      "K-NEAREST NEIGHBOR\n",
      "Training...\n",
      "Predicting...\n",
      "\tCross Validation Scores:\n",
      "\t\t0.562\n",
      "\t\t0.561\n",
      "\t\t0.595\n",
      "\t\t0.718\n",
      "\t\t0.603\n",
      "\tAverage:\t0.608\n",
      "\tModel Score: 0.565\n",
      "Evaluating...\n"
     ]
    },
    {
     "data": {
      "image/png": "[encoded data removed]",
      "text/plain": [
       "<Figure size 360x288 with 2 Axes>"
      ]
     },
     "metadata": {
      "needs_background": "light"
     },
     "output_type": "display_data"
    },
    {
     "name": "stdout",
     "output_type": "stream",
     "text": [
      "'KNeighborsClassifier' object has no attribute 'feature_importances_'\n",
      "Getting Features and Target (light_percent)...\n",
      "Splitting Data...\n",
      "Testing Classifiers...\n",
      "\tLogistic Regression\n",
      "\t\tElapsed Time:\t 0:00:00.105649\n",
      "\t\tBest Score:\t0.5926091269841269\n",
      "\t\tBest Params:\t{'fit_intercept': False, 'solver': 'lbfgs'}\n",
      "\tGradientboost\n",
      "\t\tElapsed Time:\t 0:00:12.464415\n",
      "\t\tBest Score:\t0.5737103174603175\n",
      "\t\tBest Params:\t{'max_depth': 3, 'min_samples_leaf': 1, 'min_samples_split': 2, 'n_estimators': 10}\n",
      "\tK-Nearest Neighbor\n",
      "\t\tElapsed Time:\t 0:00:02.151998\n",
      "\t\tBest Score:\t0.5550595238095238\n",
      "\t\tBest Params:\t{'metric': 'jaccard', 'n_neighbors': 3, 'p': 1, 'weights': 'uniform'}\n",
      "\tBest Scoring Model:\n",
      "\t\tModel:\tLogistic Regression\n",
      "\t\tScore:\t0.593\n",
      "\t\tParams:\t{'fit_intercept': False, 'solver': 'lbfgs'}\n",
      "LOGISTIC REGRESSION\n",
      "Training...\n",
      "Predicting...\n",
      "\tCross Validation Scores:\n",
      "\t\t0.562\n",
      "\t\t0.653\n",
      "\t\t0.58\n",
      "\t\t0.548\n",
      "\t\t0.635\n",
      "\tAverage:\t0.596\n",
      "\tModel Score: 0.5\n",
      "Evaluating...\n"
     ]
    },
    {
     "data": {
      "image/png": "[encoded data removed]",
      "text/plain": [
       "<Figure size 360x288 with 2 Axes>"
      ]
     },
     "metadata": {
      "needs_background": "light"
     },
     "output_type": "display_data"
    },
    {
     "name": "stdout",
     "output_type": "stream",
     "text": [
      "'LogisticRegression' object has no attribute 'feature_importances_'\n",
      "GRADIENTBOOST\n",
      "Training...\n",
      "Predicting...\n",
      "\tCross Validation Scores:\n",
      "\t\t0.562\n",
      "\t\t0.597\n",
      "\t\t0.585\n",
      "\t\t0.549\n",
      "\t\t0.59\n",
      "\tAverage:\t0.577\n",
      "\tModel Score: 0.513\n",
      "Evaluating...\n"
     ]
    },
    {
     "data": {
      "image/png": "[encoded data removed]",
      "text/plain": [
       "<Figure size 360x288 with 2 Axes>"
      ]
     },
     "metadata": {
      "needs_background": "light"
     },
     "output_type": "display_data"
    },
    {
     "data": {
      "image/png": "[encoded data removed]",
      "text/plain": [
       "<Figure size 432x288 with 1 Axes>"
      ]
     },
     "metadata": {
      "needs_background": "light"
     },
     "output_type": "display_data"
    },
    {
     "name": "stdout",
     "output_type": "stream",
     "text": [
      "K-NEAREST NEIGHBOR\n",
      "Training...\n",
      "Predicting...\n",
      "\tCross Validation Scores:\n",
      "\t\t0.562\n",
      "\t\t0.516\n",
      "\t\t0.484\n",
      "\t\t0.597\n",
      "\t\t0.629\n",
      "\tAverage:\t0.558\n",
      "\tModel Score: 0.507\n",
      "Evaluating...\n"
     ]
    },
    {
     "data": {
      "image/png": "[encoded data removed]",
      "text/plain": [
       "<Figure size 360x288 with 2 Axes>"
      ]
     },
     "metadata": {
      "needs_background": "light"
     },
     "output_type": "display_data"
    },
    {
     "name": "stdout",
     "output_type": "stream",
     "text": [
      "'KNeighborsClassifier' object has no attribute 'feature_importances_'\n",
      "Getting Features and Target (deep_percent)...\n",
      "Splitting Data...\n",
      "Testing Classifiers...\n",
      "\tLogistic Regression\n",
      "\t\tElapsed Time:\t 0:00:00.145798\n",
      "\t\tBest Score:\t0.5454365079365079\n",
      "\t\tBest Params:\t{'fit_intercept': True, 'solver': 'lbfgs'}\n",
      "\tGradientboost\n",
      "\t\tElapsed Time:\t 0:00:11.725541\n",
      "\t\tBest Score:\t0.5830853174603174\n",
      "\t\tBest Params:\t{'max_depth': 1, 'min_samples_leaf': 1, 'min_samples_split': 2, 'n_estimators': 10}\n",
      "\tK-Nearest Neighbor\n",
      "\t\tElapsed Time:\t 0:00:02.072014\n",
      "\t\tBest Score:\t0.5549603174603175\n",
      "\t\tBest Params:\t{'metric': 'jaccard', 'n_neighbors': 7, 'p': 1, 'weights': 'uniform'}\n",
      "\tBest Scoring Model:\n",
      "\t\tModel:\tGradientboost\n",
      "\t\tScore:\t0.583\n",
      "\t\tParams:\t{'max_depth': 1, 'min_samples_leaf': 1, 'min_samples_split': 2, 'n_estimators': 10}\n",
      "GRADIENTBOOST\n",
      "Training...\n",
      "Predicting...\n",
      "\tCross Validation Scores:\n",
      "\t\t0.353\n",
      "\t\t0.334\n",
      "\t\t0.334\n",
      "\t\t0.334\n",
      "\t\t0.345\n",
      "\tAverage:\t0.34\n",
      "\tModel Score: 0.59\n",
      "Evaluating...\n"
     ]
    },
    {
     "data": {
      "image/png": "[encoded data removed]",
      "text/plain": [
       "<Figure size 360x288 with 2 Axes>"
      ]
     },
     "metadata": {
      "needs_background": "light"
     },
     "output_type": "display_data"
    },
    {
     "data": {
      "image/png": "[encoded data removed]",
      "text/plain": [
       "<Figure size 432x288 with 1 Axes>"
      ]
     },
     "metadata": {
      "needs_background": "light"
     },
     "output_type": "display_data"
    },
    {
     "name": "stdout",
     "output_type": "stream",
     "text": [
      "K-NEAREST NEIGHBOR\n",
      "Training...\n",
      "Predicting...\n",
      "\tCross Validation Scores:\n",
      "\t\t0.557\n",
      "\t\t0.566\n",
      "\t\t0.517\n",
      "\t\t0.523\n",
      "\t\t0.566\n",
      "\tAverage:\t0.546\n",
      "\tModel Score: 0.471\n",
      "Evaluating...\n"
     ]
    },
    {
     "data": {
      "image/png": "[encoded data removed]",
      "text/plain": [
       "<Figure size 360x288 with 2 Axes>"
      ]
     },
     "metadata": {
      "needs_background": "light"
     },
     "output_type": "display_data"
    },
    {
     "name": "stdout",
     "output_type": "stream",
     "text": [
      "'KNeighborsClassifier' object has no attribute 'feature_importances_'\n",
      "LOGISTIC REGRESSION\n",
      "Training...\n",
      "Predicting...\n",
      "\tCross Validation Scores:\n",
      "\t\t0.77\n",
      "\t\t0.552\n",
      "\t\t0.37\n",
      "\t\t0.408\n",
      "\t\t0.475\n",
      "\tAverage:\t0.515\n",
      "\tModel Score: 0.645\n",
      "Evaluating...\n"
     ]
    },
    {
     "data": {
      "image/png": "[encoded data removed]",
      "text/plain": [
       "<Figure size 360x288 with 2 Axes>"
      ]
     },
     "metadata": {
      "needs_background": "light"
     },
     "output_type": "display_data"
    },
    {
     "name": "stdout",
     "output_type": "stream",
     "text": [
      "'LogisticRegression' object has no attribute 'feature_importances_'\n",
      "Getting Features and Target (rem_percent)...\n",
      "Splitting Data...\n",
      "Testing Classifiers...\n",
      "\tLogistic Regression\n",
      "\t\tElapsed Time:\t 0:00:00.134524\n",
      "\t\tBest Score:\t0.6456845238095238\n",
      "\t\tBest Params:\t{'fit_intercept': True, 'solver': 'liblinear'}\n",
      "\tGradientboost\n",
      "\t\tElapsed Time:\t 0:00:13.553241\n",
      "\t\tBest Score:\t0.6520337301587301\n",
      "\t\tBest Params:\t{'max_depth': 1, 'min_samples_leaf': 1, 'min_samples_split': 2, 'n_estimators': 10}\n",
      "\tK-Nearest Neighbor\n",
      "\t\tElapsed Time:\t 0:00:02.493028\n",
      "\t\tBest Score:\t0.6332837301587302\n",
      "\t\tBest Params:\t{'metric': 'jaccard', 'n_neighbors': 3, 'p': 1, 'weights': 'uniform'}\n",
      "\tBest Scoring Model:\n",
      "\t\tModel:\tGradientboost\n",
      "\t\tScore:\t0.652\n",
      "\t\tParams:\t{'max_depth': 1, 'min_samples_leaf': 1, 'min_samples_split': 2, 'n_estimators': 10}\n",
      "GRADIENTBOOST\n",
      "Training...\n",
      "Predicting...\n",
      "\tCross Validation Scores:\n",
      "\t\t0.41\n",
      "\t\t0.431\n",
      "\t\t0.431\n",
      "\t\t0.431\n",
      "\t\t0.424\n",
      "\tAverage:\t0.425\n",
      "\tModel Score: 0.495\n",
      "Evaluating...\n"
     ]
    },
    {
     "data": {
      "image/png": "[encoded data removed]",
      "text/plain": [
       "<Figure size 360x288 with 2 Axes>"
      ]
     },
     "metadata": {
      "needs_background": "light"
     },
     "output_type": "display_data"
    },
    {
     "data": {
      "image/png": "[encoded data removed]",
      "text/plain": [
       "<Figure size 432x288 with 1 Axes>"
      ]
     },
     "metadata": {
      "needs_background": "light"
     },
     "output_type": "display_data"
    },
    {
     "name": "stdout",
     "output_type": "stream",
     "text": [
      "LOGISTIC REGRESSION\n",
      "Training...\n",
      "Predicting...\n",
      "\tCross Validation Scores:\n",
      "\t\t0.407\n",
      "\t\t0.431\n",
      "\t\t0.431\n",
      "\t\t0.67\n",
      "\t\t0.416\n",
      "\tAverage:\t0.471\n",
      "\tModel Score: 0.505\n",
      "Evaluating...\n"
     ]
    },
    {
     "data": {
      "image/png": "[encoded data removed]",
      "text/plain": [
       "<Figure size 360x288 with 2 Axes>"
      ]
     },
     "metadata": {
      "needs_background": "light"
     },
     "output_type": "display_data"
    },
    {
     "name": "stdout",
     "output_type": "stream",
     "text": [
      "'LogisticRegression' object has no attribute 'feature_importances_'\n",
      "K-NEAREST NEIGHBOR\n",
      "Training...\n",
      "Predicting...\n",
      "\tCross Validation Scores:\n",
      "\t\t0.64\n",
      "\t\t0.691\n",
      "\t\t0.553\n",
      "\t\t0.508\n",
      "\t\t0.632\n",
      "\tAverage:\t0.605\n",
      "\tModel Score: 0.531\n",
      "Evaluating...\n"
     ]
    },
    {
     "data": {
      "image/png": "[encoded data removed]",
      "text/plain": [
       "<Figure size 360x288 with 2 Axes>"
      ]
     },
     "metadata": {
      "needs_background": "light"
     },
     "output_type": "display_data"
    },
    {
     "name": "stdout",
     "output_type": "stream",
     "text": [
      "'KNeighborsClassifier' object has no attribute 'feature_importances_'\n",
      "Getting Features and Target (tst)...\n",
      "Splitting Data...\n",
      "Testing Classifiers...\n",
      "\tLogistic Regression\n",
      "\t\tElapsed Time:\t 0:00:00.150886\n",
      "\t\tBest Score:\t0.6397727272727273\n",
      "\t\tBest Params:\t{'fit_intercept': True, 'solver': 'lbfgs'}\n",
      "\tGradientboost\n",
      "\t\tElapsed Time:\t 0:00:10.568336\n",
      "\t\tBest Score:\t0.6585227272727272\n",
      "\t\tBest Params:\t{'max_depth': 2, 'min_samples_leaf': 1, 'min_samples_split': 2, 'n_estimators': 10}\n",
      "\tK-Nearest Neighbor\n",
      "\t\tElapsed Time:\t 0:00:01.929564\n",
      "\t\tBest Score:\t0.6270833333333333\n",
      "\t\tBest Params:\t{'metric': 'jaccard', 'n_neighbors': 7, 'p': 1, 'weights': 'uniform'}\n",
      "\tBest Scoring Model:\n",
      "\t\tModel:\tGradientboost\n",
      "\t\tScore:\t0.659\n",
      "\t\tParams:\t{'max_depth': 2, 'min_samples_leaf': 1, 'min_samples_split': 2, 'n_estimators': 10}\n",
      "GRADIENTBOOST\n",
      "Training...\n",
      "Predicting...\n",
      "\tCross Validation Scores:\n",
      "\t\t0.405\n",
      "\t\t0.431\n",
      "\t\t0.431\n",
      "\t\t0.788\n",
      "\t\t0.431\n",
      "\tAverage:\t0.497\n",
      "\tModel Score: 0.656\n",
      "Evaluating...\n"
     ]
    },
    {
     "data": {
      "image/png": "[encoded data removed]",
      "text/plain": [
       "<Figure size 360x288 with 2 Axes>"
      ]
     },
     "metadata": {
      "needs_background": "light"
     },
     "output_type": "display_data"
    },
    {
     "data": {
      "image/png": "[encoded data removed]",
      "text/plain": [
       "<Figure size 432x288 with 1 Axes>"
      ]
     },
     "metadata": {
      "needs_background": "light"
     },
     "output_type": "display_data"
    },
    {
     "name": "stdout",
     "output_type": "stream",
     "text": [
      "LOGISTIC REGRESSION\n",
      "Training...\n",
      "Predicting...\n",
      "\tCross Validation Scores:\n",
      "\t\t0.405\n",
      "\t\t0.423\n",
      "\t\t0.609\n",
      "\t\t0.431\n",
      "\t\t0.423\n",
      "\tAverage:\t0.458\n",
      "\tModel Score: 0.687\n",
      "Evaluating...\n"
     ]
    },
    {
     "data": {
      "image/png": "[encoded data removed]",
      "text/plain": [
       "<Figure size 360x288 with 2 Axes>"
      ]
     },
     "metadata": {
      "needs_background": "light"
     },
     "output_type": "display_data"
    },
    {
     "name": "stdout",
     "output_type": "stream",
     "text": [
      "'LogisticRegression' object has no attribute 'feature_importances_'\n",
      "K-NEAREST NEIGHBOR\n",
      "Training...\n",
      "Predicting...\n",
      "\tCross Validation Scores:\n",
      "\t\t0.65\n",
      "\t\t0.777\n",
      "\t\t0.566\n",
      "\t\t0.518\n",
      "\t\t0.496\n",
      "\tAverage:\t0.602\n",
      "\tModel Score: 0.636\n",
      "Evaluating...\n"
     ]
    },
    {
     "data": {
      "image/png": "[encoded data removed]",
      "text/plain": [
       "<Figure size 360x288 with 2 Axes>"
      ]
     },
     "metadata": {
      "needs_background": "light"
     },
     "output_type": "display_data"
    },
    {
     "name": "stdout",
     "output_type": "stream",
     "text": [
      "'KNeighborsClassifier' object has no attribute 'feature_importances_'\n",
      "Getting Features and Target (sol)...\n",
      "Splitting Data...\n",
      "Testing Classifiers...\n",
      "\tLogistic Regression\n",
      "\t\tElapsed Time:\t 0:00:00.109984\n",
      "\t\tBest Score:\t0.5399621212121212\n",
      "\t\tBest Params:\t{'fit_intercept': True, 'solver': 'liblinear'}\n",
      "\tGradientboost\n",
      "\t\tElapsed Time:\t 0:00:10.617477\n",
      "\t\tBest Score:\t0.5839015151515151\n",
      "\t\tBest Params:\t{'max_depth': 5, 'min_samples_leaf': 1, 'min_samples_split': 2, 'n_estimators': 10}\n",
      "\tK-Nearest Neighbor\n",
      "\t\tElapsed Time:\t 0:00:01.854667\n",
      "\t\tBest Score:\t0.5587121212121212\n",
      "\t\tBest Params:\t{'metric': 'euclidean', 'n_neighbors': 3, 'p': 1, 'weights': 'uniform'}\n",
      "\tBest Scoring Model:\n",
      "\t\tModel:\tGradientboost\n",
      "\t\tScore:\t0.584\n",
      "\t\tParams:\t{'max_depth': 5, 'min_samples_leaf': 1, 'min_samples_split': 2, 'n_estimators': 10}\n",
      "GRADIENTBOOST\n",
      "Training...\n",
      "Predicting...\n",
      "\tCross Validation Scores:\n",
      "\t\t0.57\n",
      "\t\t0.585\n",
      "\t\t0.591\n",
      "\t\t0.656\n",
      "\t\t0.496\n",
      "\tAverage:\t0.58\n",
      "\tModel Score: 0.503\n",
      "Evaluating...\n"
     ]
    },
    {
     "data": {
      "image/png": "[encoded data removed]",
      "text/plain": [
       "<Figure size 360x288 with 2 Axes>"
      ]
     },
     "metadata": {
      "needs_background": "light"
     },
     "output_type": "display_data"
    },
    {
     "data": {
      "image/png": "[encoded data removed]",
      "text/plain": [
       "<Figure size 432x288 with 1 Axes>"
      ]
     },
     "metadata": {
      "needs_background": "light"
     },
     "output_type": "display_data"
    },
    {
     "name": "stdout",
     "output_type": "stream",
     "text": [
      "K-NEAREST NEIGHBOR\n",
      "Training...\n",
      "Predicting...\n",
      "\tCross Validation Scores:\n",
      "\t\t0.604\n",
      "\t\t0.551\n",
      "\t\t0.591\n",
      "\t\t0.593\n",
      "\t\t0.423\n",
      "\tAverage:\t0.552\n",
      "\tModel Score: 0.604\n",
      "Evaluating...\n"
     ]
    },
    {
     "data": {
      "image/png": "[encoded data removed]",
      "text/plain": [
       "<Figure size 360x288 with 2 Axes>"
      ]
     },
     "metadata": {
      "needs_background": "light"
     },
     "output_type": "display_data"
    },
    {
     "name": "stdout",
     "output_type": "stream",
     "text": [
      "'KNeighborsClassifier' object has no attribute 'feature_importances_'\n",
      "LOGISTIC REGRESSION\n",
      "Training...\n",
      "Predicting...\n",
      "\tCross Validation Scores:\n",
      "\t\t0.603\n",
      "\t\t0.62\n",
      "\t\t0.556\n",
      "\t\t0.538\n",
      "\t\t0.368\n",
      "\tAverage:\t0.537\n",
      "\tModel Score: 0.465\n",
      "Evaluating...\n"
     ]
    },
    {
     "data": {
      "image/png": "[encoded data removed]",
      "text/plain": [
       "<Figure size 360x288 with 2 Axes>"
      ]
     },
     "metadata": {
      "needs_background": "light"
     },
     "output_type": "display_data"
    },
    {
     "name": "stdout",
     "output_type": "stream",
     "text": [
      "'LogisticRegression' object has no attribute 'feature_importances_'\n",
      "Getting Features and Target (naw)...\n",
      "Splitting Data...\n",
      "Testing Classifiers...\n",
      "\tLogistic Regression\n",
      "\t\tElapsed Time:\t 0:00:00.110104\n",
      "\t\tBest Score:\t0.459469696969697\n",
      "\t\tBest Params:\t{'fit_intercept': True, 'solver': 'lbfgs'}\n",
      "\tGradientboost\n",
      "\t\tElapsed Time:\t 0:00:10.407011\n",
      "\t\tBest Score:\t0.6337121212121212\n",
      "\t\tBest Params:\t{'max_depth': 5, 'min_samples_leaf': 1, 'min_samples_split': 2, 'n_estimators': 10}\n",
      "\tK-Nearest Neighbor\n",
      "\t\tElapsed Time:\t 0:00:01.892318\n",
      "\t\tBest Score:\t0.5905303030303031\n",
      "\t\tBest Params:\t{'metric': 'matching', 'n_neighbors': 5, 'p': 1, 'weights': 'uniform'}\n",
      "\tBest Scoring Model:\n",
      "\t\tModel:\tGradientboost\n",
      "\t\tScore:\t0.634\n",
      "\t\tParams:\t{'max_depth': 5, 'min_samples_leaf': 1, 'min_samples_split': 2, 'n_estimators': 10}\n",
      "GRADIENTBOOST\n",
      "Training...\n",
      "Predicting...\n",
      "\tCross Validation Scores:\n",
      "\t\t0.607\n",
      "\t\t0.597\n",
      "\t\t0.594\n",
      "\t\t0.688\n",
      "\t\t0.69\n",
      "\tAverage:\t0.635\n",
      "\tModel Score: 0.645\n",
      "Evaluating...\n"
     ]
    },
    {
     "data": {
      "image/png": "[encoded data removed]",
      "text/plain": [
       "<Figure size 360x288 with 2 Axes>"
      ]
     },
     "metadata": {
      "needs_background": "light"
     },
     "output_type": "display_data"
    },
    {
     "data": {
      "image/png": "[encoded data removed]",
      "text/plain": [
       "<Figure size 432x288 with 1 Axes>"
      ]
     },
     "metadata": {
      "needs_background": "light"
     },
     "output_type": "display_data"
    },
    {
     "name": "stdout",
     "output_type": "stream",
     "text": [
      "K-NEAREST NEIGHBOR\n",
      "Training...\n",
      "Predicting...\n",
      "\tCross Validation Scores:\n",
      "\t\t0.523\n",
      "\t\t0.5\n",
      "\t\t0.594\n",
      "\t\t0.727\n",
      "\t\t0.627\n",
      "\tAverage:\t0.594\n",
      "\tModel Score: 0.536\n",
      "Evaluating...\n"
     ]
    },
    {
     "data": {
      "image/png": "[encoded data removed]",
      "text/plain": [
       "<Figure size 360x288 with 2 Axes>"
      ]
     },
     "metadata": {
      "needs_background": "light"
     },
     "output_type": "display_data"
    },
    {
     "name": "stdout",
     "output_type": "stream",
     "text": [
      "'KNeighborsClassifier' object has no attribute 'feature_importances_'\n",
      "LOGISTIC REGRESSION\n",
      "Training...\n",
      "Predicting...\n",
      "\tCross Validation Scores:\n",
      "\t\t0.488\n",
      "\t\t0.438\n",
      "\t\t0.469\n",
      "\t\t0.468\n",
      "\t\t0.437\n",
      "\tAverage:\t0.46\n",
      "\tModel Score: 0.592\n",
      "Evaluating...\n"
     ]
    },
    {
     "data": {
      "image/png": "[encoded data removed]",
      "text/plain": [
       "<Figure size 360x288 with 2 Axes>"
      ]
     },
     "metadata": {
      "needs_background": "light"
     },
     "output_type": "display_data"
    },
    {
     "name": "stdout",
     "output_type": "stream",
     "text": [
      "'LogisticRegression' object has no attribute 'feature_importances_'\n",
      "Getting Features and Target (restful)...\n",
      "Splitting Data...\n",
      "Testing Classifiers...\n",
      "\tLogistic Regression\n",
      "\t\tElapsed Time:\t 0:00:00.113240\n",
      "\t\tBest Score:\t0.8261363636363637\n",
      "\t\tBest Params:\t{'fit_intercept': True, 'solver': 'lbfgs'}\n",
      "\tGradientboost\n",
      "\t\tElapsed Time:\t 0:00:09.719644\n",
      "\t\tBest Score:\t0.8323863636363636\n",
      "\t\tBest Params:\t{'max_depth': 1, 'min_samples_leaf': 1, 'min_samples_split': 2, 'n_estimators': 10}\n",
      "\tK-Nearest Neighbor\n",
      "\t\tElapsed Time:\t 0:00:02.302804\n",
      "\t\tBest Score:\t0.8323863636363636\n",
      "\t\tBest Params:\t{'metric': 'euclidean', 'n_neighbors': 7, 'p': 1, 'weights': 'uniform'}\n",
      "\tBest Scoring Model:\n",
      "\t\tModel:\tGradientboost\n",
      "\t\tScore:\t0.832\n",
      "\t\tParams:\t{'max_depth': 1, 'min_samples_leaf': 1, 'min_samples_split': 2, 'n_estimators': 10}\n",
      "GRADIENTBOOST\n",
      "Training...\n",
      "Predicting...\n",
      "\tCross Validation Scores:\n",
      "\t\t0.669\n",
      "\t\t0.712\n",
      "\t\t0.712\n",
      "\t\t0.712\n",
      "\t\t0.66\n",
      "\tAverage:\t0.693\n",
      "\tModel Score: 0.68\n",
      "Evaluating...\n"
     ]
    },
    {
     "data": {
      "image/png": "[encoded data removed]",
      "text/plain": [
       "<Figure size 360x288 with 2 Axes>"
      ]
     },
     "metadata": {
      "needs_background": "light"
     },
     "output_type": "display_data"
    },
    {
     "data": {
      "image/png": "[encoded data removed]",
      "text/plain": [
       "<Figure size 432x288 with 1 Axes>"
      ]
     },
     "metadata": {
      "needs_background": "light"
     },
     "output_type": "display_data"
    },
    {
     "name": "stdout",
     "output_type": "stream",
     "text": [
      "K-NEAREST NEIGHBOR\n",
      "Training...\n",
      "Predicting...\n",
      "\tCross Validation Scores:\n",
      "\t\t0.669\n",
      "\t\t0.712\n",
      "\t\t0.712\n",
      "\t\t0.712\n",
      "\t\t0.66\n",
      "\tAverage:\t0.693\n",
      "\tModel Score: 0.715\n",
      "Evaluating...\n"
     ]
    },
    {
     "data": {
      "image/png": "[encoded data removed]",
      "text/plain": [
       "<Figure size 360x288 with 2 Axes>"
      ]
     },
     "metadata": {
      "needs_background": "light"
     },
     "output_type": "display_data"
    },
    {
     "name": "stdout",
     "output_type": "stream",
     "text": [
      "'KNeighborsClassifier' object has no attribute 'feature_importances_'\n",
      "LOGISTIC REGRESSION\n",
      "Training...\n",
      "Predicting...\n",
      "\tCross Validation Scores:\n",
      "\t\t0.669\n",
      "\t\t0.712\n",
      "\t\t0.708\n",
      "\t\t0.712\n",
      "\t\t0.66\n",
      "\tAverage:\t0.692\n",
      "\tModel Score: 0.773\n",
      "Evaluating...\n"
     ]
    },
    {
     "data": {
      "image/png": "[encoded data removed]",
      "text/plain": [
       "<Figure size 360x288 with 2 Axes>"
      ]
     },
     "metadata": {
      "needs_background": "light"
     },
     "output_type": "display_data"
    },
    {
     "name": "stdout",
     "output_type": "stream",
     "text": [
      "'LogisticRegression' object has no attribute 'feature_importances_'\n"
     ]
    }
   ],
   "source": [
    "agg_pred = ieq_and_sq_prediction()\n",
    "agg_res = {\"target\":[],\"best_performing_model\":[],\"model\":[],\"model_score\":[],\"biased_score\":[],\"hyper_parameters\":[],\"sensitive_parameter1\":[],\"sensitive_parameter2\":[]}\n",
    "for target_set, targets in zip([fbsq,srsq],[[\"se\",\"tst\",\"light_percent\",\"deep_percent\",\"rem_percent\"],[\"tst\",\"sol\",\"naw\",\"restful\"]]):\n",
    "    for target in targets:\n",
    "        agg_pred.run(ieq_activity_and_fb_select,target_set,target)\n",
    "        for i in range(len(agg_pred.results)):\n",
    "            agg_res[\"target\"].append(target)\n",
    "            agg_res[\"best_performing_model\"].append(agg_pred.results.iloc[0,0])\n",
    "            agg_res[\"model\"].append(agg_pred.results.iloc[i,0])\n",
    "            agg_res[\"model_score\"].append(agg_pred.results.iloc[i,1])\n",
    "            bs = sum(agg_pred.targets.values)/len(agg_pred.targets)\n",
    "            agg_res[\"biased_score\"].append(bs[0] if bs[0] > 0.5 else 1-bs[0])\n",
    "            agg_res[\"hyper_parameters\"].append(agg_pred.results.iloc[i,2])\n",
    "            try:\n",
    "                agg_res[\"sensitive_parameter1\"].append(agg_pred.feature_importance.sort_values(\"importance\",ascending=False).iloc[0,0])\n",
    "                agg_res[\"sensitive_parameter2\"].append(agg_pred.feature_importance.sort_values(\"importance\",ascending=False).iloc[1,0])\n",
    "            except KeyError:\n",
    "                agg_res[\"sensitive_parameter1\"].append(np.nan)\n",
    "                agg_res[\"sensitive_parameter2\"].append(np.nan)"
   ]
  },
  {
   "cell_type": "code",
   "execution_count": null,
   "metadata": {},
   "outputs": [],
   "source": [
    "agg_res_df = pd.DataFrame(agg_res)\n",
    "#agg_res_df.to_csv(\"/Users/hagenfritz/Desktop/sleep_prediction-aggregate-results.csv\")\n",
    "agg_res_df"
   ]
  },
  {
   "cell_type": "markdown",
   "metadata": {},
   "source": [
    "### Per Participant\n",
    "Now we try another model where we considering only 1 participant, train on a subset of their data and see about predicting their sleep quality.\n",
    "\n",
    "We first have to identify applicable participants. After an initial inspection, there seems to be a good cutoff of about **30 nights** that would give us a minimum of 20 nights for training and 10 for testing."
   ]
  },
  {
   "cell_type": "markdown",
   "metadata": {},
   "source": [
    "#### Self-Report"
   ]
  },
  {
   "cell_type": "code",
   "execution_count": null,
   "metadata": {},
   "outputs": [],
   "source": [
    "ieq_and_srsq = ieq_and_activity.merge(right=srsq,on=[\"beiwe\",\"redcap\",\"beacon\",\"end_date\"])\n",
    "n_nights_sr = ieq_and_srsq[[\"start_time\",\"beiwe\"]].groupby(\"beiwe\").count().sort_values(\"start_time\",ascending=False)\n",
    "n_nights_gt20 = n_nights_sr[n_nights_sr[\"start_time\"] >= 20]\n",
    "n_nights_gt20"
   ]
  },
  {
   "cell_type": "markdown",
   "metadata": {},
   "source": [
    "<div class=\"alert alert-block alert-warning\">\n",
    "\n",
    "There really aren't that many available nights of data. Perhaps we can use the participants with at least 20 nights of data?\n",
    "    \n",
    "</div>"
   ]
  },
  {
   "cell_type": "code",
   "execution_count": null,
   "metadata": {},
   "outputs": [],
   "source": [
    "ieq_activity_and_sr_gt20 = ieq_and_activity[ieq_and_activity[\"beiwe\"].isin(n_nights_gt20.index)]"
   ]
  },
  {
   "cell_type": "markdown",
   "metadata": {},
   "source": [
    "#### Classification\n",
    "Now that we have the 8 participants identified, we can run the classification models."
   ]
  },
  {
   "cell_type": "code",
   "execution_count": null,
   "metadata": {
    "scrolled": true
   },
   "outputs": [],
   "source": [
    "ind_pred = ieq_and_sq_prediction()\n",
    "ind_res = {\"beiwe\":[],\"n\":[],\"target\":[],\"best_performing_model\":[],\"model_score\":[],\"biased_score\":[],\"sensitive_parameter1\":[],\"sensitive_parameter2\":[]}\n",
    "for dataset, target_set, targets in zip([ieq_activity_and_fb_gt30,ieq_activity_and_sr_gt20],[fbsq,srsq],[[\"se\",\"tst\",\"light_percent\",\"deep_percent\",\"rem_percent\"],[\"tst\",\"sol\",\"naw\",\"restful\"]]):\n",
    "    for pt in dataset[\"beiwe\"].unique():\n",
    "        print(pt.upper())\n",
    "        fts = dataset[dataset[\"beiwe\"] == pt]\n",
    "        tgts = target_set[target_set[\"beiwe\"] == pt]\n",
    "        for target in targets:\n",
    "            if len(tgts[f\"{target}_binary\"].unique()) > 1:\n",
    "                try:\n",
    "                    ind_pred.run(fts,tgts,target)\n",
    "                    # adding results\n",
    "                    ind_res[\"beiwe\"].append(pt)\n",
    "                    ind_res[\"n\"].append(len(ind_pred.features))\n",
    "                    ind_res[\"target\"].append(target)\n",
    "                    ind_res[\"best_performing_model\"].append(ind_pred.results.iloc[0,0])\n",
    "                    ind_res[\"model_score\"].append(ind_pred.results.iloc[0,1])\n",
    "                    bs = sum(ind_pred.targets.values)/len(ind_pred.targets)\n",
    "                    ind_res[\"biased_score\"].append(bs[0] if bs[0] > 0.5 else 1-bs[0])\n",
    "                    try:\n",
    "                        ind_res[\"sensitive_parameter1\"].append(ind_pred.feature_importance.sort_values(\"importance\",ascending=False).iloc[0,0])\n",
    "                        ind_res[\"sensitive_parameter2\"].append(ind_pred.feature_importance.sort_values(\"importance\",ascending=False).iloc[1,0])\n",
    "                    except KeyError:\n",
    "                        ind_res[\"sensitive_parameter1\"].append(np.nan)\n",
    "                        ind_res[\"sensitive_parameter2\"].append(np.nan)\n",
    "                except ValueError as e:\n",
    "                    print(e)\n",
    "            else:\n",
    "                print(\"Only 1 unique value for\", target.replace(\"_\",\" \"))"
   ]
  },
  {
   "cell_type": "code",
   "execution_count": null,
   "metadata": {},
   "outputs": [],
   "source": [
    "ind_res_df = pd.DataFrame(ind_res)\n",
    "ind_res_df.to_csv(\"/Users/hagenfritz/Desktop/sleep_prediction-individual-results.csv\")"
   ]
  },
  {
   "cell_type": "markdown",
   "metadata": {},
   "source": [
    "### Predicting other Participant Sleep Quality\n",
    "We can also create a scheme where we predict the sleep quality of a few participants by training on a larger subset of the participants. \n",
    "\n",
    "We have two tools for model selection:\n",
    "1. GroupKFold: Here we specify a certain number of splits to be made and a leave a subset of participants out of the training set to use as the test set. \n",
    "2. LeaveOneGroupOut: This cross-validation goes as far as to include all but one participant in the training set. Then we try to predict the sleep quality of that left-out individual."
   ]
  },
  {
   "cell_type": "code",
   "execution_count": null,
   "metadata": {
    "scrolled": true
   },
   "outputs": [],
   "source": [
    "from sklearn.model_selection import GroupKFold, LeaveOneGroupOut\n",
    "\n",
    "group_pred = ieq_and_sq_prediction()\n",
    "\n",
    "gkf = GroupKFold(n_splits=4)#len(test.features[\"count\"].unique()))\n",
    "res_group = {\"split\":[],\"n_train\":[],\"n_test\":[],\"target\":[],\"best_performing_model\":[],\"model_score\":[],\"biased_score\":[],\"sensitive_parameter1\":[],\"sensitive_parameter2\":[]}\n",
    "for target_set, targets in zip([fbsq,srsq],[[\"se\",\"tst\",\"light_percent\",\"deep_percent\",\"rem_percent\"],[\"tst\",\"sol\",\"naw\",\"restful\"]]):\n",
    "    for target in targets: \n",
    "        group_pred.get_features_and_targets(ieq_and_activity,target_set,target)\n",
    "        i = 1\n",
    "        for train, test in gkf.split(group_pred.features, group_pred.targets, groups=group_pred.features[\"count\"]):\n",
    "            print(\"SPLIT\", i)\n",
    "            print(f\"\\tTrain:\\t{len(train)}\\n\\tTest:\\t{len(test)}\\n\")\n",
    "            group_pred.set_test_and_train(group_pred.features.iloc[train,:],group_pred.features.iloc[test,:],group_pred.targets.iloc[train,:],group_pred.targets.iloc[test,:])\n",
    "            group_pred.optimize_models()\n",
    "            # saves the best model, trains on the best model, predicts with the model, and plots the confusion matrix\n",
    "            for model_number in range(len(group_pred.results)):\n",
    "                print(group_pred.results.iloc[model_number,0].replace(\"_\",\" \").upper())\n",
    "                group_pred.model = group_pred.classifier_model_params[group_pred.results.iloc[model_number,:][\"model\"]][\"model\"].set_params(**group_pred.results.iloc[model_number,:][\"best_params\"])\n",
    "                group_pred.train_model(group_pred.model)\n",
    "                group_pred.predict()\n",
    "                group_pred.plot_confusion_matrix()\n",
    "                group_pred.set_feature_importance(plot=True)\n",
    "\n",
    "            res_group[\"split\"].append(i)\n",
    "            res_group[\"n_train\"].append(len(train))\n",
    "            res_group[\"n_test\"].append(len(test))\n",
    "            res_group[\"target\"].append(target)\n",
    "            res_group[\"best_performing_model\"].append(group_pred.results.iloc[0,0])\n",
    "            res_group[\"model_score\"].append(group_pred.results.iloc[0,1])\n",
    "            bs = sum(group_pred.targets.values)/len(group_pred.targets)\n",
    "            res_group[\"biased_score\"].append(bs[0] if bs[0] > 0.5 else 1-bs[0])\n",
    "            try:\n",
    "                res_group[\"sensitive_parameter1\"].append(group_pred.feature_importance.sort_values(\"importance\",ascending=False).iloc[0,0])\n",
    "                res_group[\"sensitive_parameter2\"].append(group_pred.feature_importance.sort_values(\"importance\",ascending=False).iloc[1,0])\n",
    "            except KeyError:\n",
    "                res_group[\"sensitive_parameter1\"].append(np.nan)\n",
    "                res_group[\"sensitive_parameter2\"].append(np.nan)\n",
    "\n",
    "            i += 1"
   ]
  },
  {
   "cell_type": "code",
   "execution_count": null,
   "metadata": {},
   "outputs": [],
   "source": [
    "group_res_df = pd.DataFrame(res_group)\n",
    "group_res_df.to_csv(\"/Users/hagenfritz/Desktop/sleep_prediction-groups-results.csv\")"
   ]
  },
  {
   "cell_type": "markdown",
   "metadata": {},
   "source": [
    "## Summary of Prediction Models\n",
    "Now we look more in-depth at the different prediction models."
   ]
  },
  {
   "cell_type": "code",
   "execution_count": null,
   "metadata": {},
   "outputs": [],
   "source": [
    "def plot_hist(var):\n",
    "    \"\"\"plots histogram of variable\"\"\"\n",
    "    fig, axes = plt.subplots(1,3,figsize=(21,4))\n",
    "    for data, title, ax in zip([agg_res_df,ind_res_df,group_res_df],[\"aggregated\",\"per participant\",\"grouped\"],axes.flat):\n",
    "        data.sort_values(var,inplace=True)\n",
    "        sns.histplot(x=var,data=data, shrink=0.8, stat=\"probability\", color=\"cornflowerblue\", discrete=True, linewidth=2, ax=ax)\n",
    "        # y-axis\n",
    "        ax.set_ylim([0,1])\n",
    "        # remainder\n",
    "        for loc in [\"top\",\"right\"]:\n",
    "            ax.spines[loc].set_visible(False)\n",
    "        ax.set_title(title.title())\n",
    "        \n",
    "        ax.tick_params(\"x\",rotation=-15,labelsize=10)\n",
    "    plt.show()\n",
    "    plt.close()"
   ]
  },
  {
   "cell_type": "markdown",
   "metadata": {},
   "source": [
    "### Hyperparameter Tuning\n",
    "Included in the results are the hyperparameters that produced the greatest score per model. We can summarize those here."
   ]
  },
  {
   "cell_type": "code",
   "execution_count": null,
   "metadata": {},
   "outputs": [],
   "source": [
    "from collections import defaultdict\n",
    "res = agg_res_df\n",
    "for m in res[\"model\"].unique():\n",
    "    print(m)\n",
    "    dd = defaultdict(list)\n",
    "    res_by_model = res[res[\"model\"] == m]\n",
    "    for d in res_by_model[\"hyper_parameters\"]: # you can list as many input dicts as you want here\n",
    "        for key, value in d.items():\n",
    "            dd[key].append(value)\n",
    "    print(pd.DataFrame(dd))"
   ]
  },
  {
   "cell_type": "markdown",
   "metadata": {},
   "source": [
    "The following hyperparameters should be used:\n",
    "* **Logistic Regression**: (fit_intercpt=True,solver=\"lbfgs\")\n",
    "* **Random Forest**: (max_depth=2,min_samples_leaf=1,min_samples_split=2,n_esimators=10)\n",
    "* **Naive Bayes**: (alpha=0.0)\n",
    "* **KNN**: (n_neighbors=7,p=1,weights=uniform)"
   ]
  },
  {
   "cell_type": "markdown",
   "metadata": {},
   "source": [
    "### Best Performing Model\n",
    "We take a look at the model that tended to produce the best score."
   ]
  },
  {
   "cell_type": "code",
   "execution_count": null,
   "metadata": {},
   "outputs": [],
   "source": [
    "plot_hist(\"best_performing_model\")"
   ]
  },
  {
   "cell_type": "markdown",
   "metadata": {},
   "source": [
    "#### Winner\n",
    "In all three cases, the **Random Forest Model** produced the highest scores, on average, compared to the other three.\n",
    "\n",
    "#### Loser(s)\n",
    "* **KNN** only showed up a few times in the per participant procedure but not in either of the other two procedures\n",
    "* **Naive-Bayes** showed the opposite behavior: showing up in only the first and third procedures despite being better equiped to handle smaller datasets which was the case for the per participant procedure."
   ]
  },
  {
   "cell_type": "markdown",
   "metadata": {},
   "source": [
    "### Variable Contribution\n",
    "We can also look at which variable tended to be the most useful in the model development."
   ]
  },
  {
   "cell_type": "code",
   "execution_count": null,
   "metadata": {},
   "outputs": [],
   "source": [
    "plot_hist(\"sensitive_parameter1\")"
   ]
  },
  {
   "cell_type": "code",
   "execution_count": null,
   "metadata": {},
   "outputs": [],
   "source": [
    "plot_hist(\"sensitive_parameter2\")"
   ]
  },
  {
   "cell_type": "markdown",
   "metadata": {},
   "source": [
    "#### Winner\n",
    "**TVOCs** are the only variable that shows a consistent effect on the model development whether that be the first or second most influential parameter. \n",
    "\n",
    "#### Per Participant\n",
    "* **PM2.5** seems to affect this procedure more so than the either two\n",
    "\n",
    "#### Grouped\n",
    "* **Activity** seems to have a somewhat large effect especially when considering the **steps** variable in conjunction"
   ]
  },
  {
   "cell_type": "markdown",
   "metadata": {},
   "source": [
    "### Comparing Scores\n",
    "We can look at the model scores compared to the \"biased\" score to see how well our models performed."
   ]
  },
  {
   "cell_type": "code",
   "execution_count": null,
   "metadata": {},
   "outputs": [],
   "source": [
    "def plot_bar():\n",
    "    \"\"\"plots histogram of variable\"\"\"\n",
    "    fig, axes = plt.subplots(1,3,figsize=(21,4))\n",
    "    for data, title, ax in zip([agg_res_df,ind_res_df,group_res_df],[\"aggregated\",\"per participant\",\"grouped\"],axes.flat):\n",
    "        df_to_plot = pd.melt(data,id_vars=[\"target\"],value_vars=[\"model_score\",\"biased_score\"])\n",
    "        sns.barplot(x=\"target\",y=\"value\",hue=\"variable\",data=df_to_plot, hue_order=[\"biased_score\",\"model_score\"],palette=[\"gray\",\"seagreen\"], edgecolor=\"black\",linewidth=2, ax=ax)\n",
    "        # y-axis\n",
    "        ax.set_ylim([0,1])\n",
    "        ax.set_ylabel(\"Score\")\n",
    "        # remainder\n",
    "        for loc in [\"top\",\"right\"]:\n",
    "            ax.spines[loc].set_visible(False)\n",
    "        ax.set_title(title.title())\n",
    "        ax.legend(loc=\"lower left\",framealpha=1)\n",
    "        \n",
    "        ax.tick_params(\"x\",rotation=-15,labelsize=10)\n",
    "    plt.show()\n",
    "    plt.close()"
   ]
  },
  {
   "cell_type": "code",
   "execution_count": null,
   "metadata": {},
   "outputs": [],
   "source": [
    "plot_bar()"
   ]
  },
  {
   "cell_type": "markdown",
   "metadata": {},
   "source": [
    "#### Aggregated\n",
    "In all cases but `restful` and `rem_percent`, the model out-performed the biased score most noteably for:\n",
    "* `naw`\n",
    "* `light_percent`\n",
    "\n",
    "#### Per Participant\n",
    "On average, the models were able to out-perform the biased score except in the case of `light_percent`, most notably:\n",
    "* `rem_percent`\n",
    "* `restful`\n",
    "\n",
    "#### Grouped\n",
    "The worst-performing procedure where the majority of the scores are similar between the biased and model performance. Only the estimation of `naw` seems to be signficiantly different."
   ]
  },
  {
   "cell_type": "markdown",
   "metadata": {},
   "source": [
    "### Aggregate: Deep Dive"
   ]
  },
  {
   "cell_type": "code",
   "execution_count": null,
   "metadata": {},
   "outputs": [],
   "source": [
    "agg_res_df[\"dScore\"] = agg_res_df[\"model_score\"] - agg_res_df[\"biased_score\"]\n",
    "agg_res_df.sort_values(\"dScore\",ascending=False)"
   ]
  },
  {
   "cell_type": "markdown",
   "metadata": {},
   "source": [
    "Using this procedure, we are able to see noticeable differences in the scores between `naw` and `tst` targets."
   ]
  },
  {
   "cell_type": "markdown",
   "metadata": {},
   "source": [
    "### Per Participant: Deep Dive"
   ]
  },
  {
   "cell_type": "code",
   "execution_count": null,
   "metadata": {},
   "outputs": [],
   "source": [
    "ind_res_df[\"dScore\"] = ind_res_df[\"model_score\"] - ind_res_df[\"biased_score\"]\n",
    "ind_res_df.groupby(\"target\").mean().sort_values(\"dScore\", ascending=False)"
   ]
  },
  {
   "cell_type": "markdown",
   "metadata": {},
   "source": [
    "By looking at the mean difference in the scores across the participants sleep targets, we can predict `rem_percent` and `restful` more accurately than a biased score. "
   ]
  },
  {
   "cell_type": "code",
   "execution_count": null,
   "metadata": {},
   "outputs": [],
   "source": [
    "high_scoring_ind = ind_res_df.sort_values(\"dScore\",ascending=False)[ind_res_df[\"dScore\"] > 0.05]\n",
    "high_scoring_ind"
   ]
  },
  {
   "cell_type": "code",
   "execution_count": null,
   "metadata": {},
   "outputs": [],
   "source": [
    "fig, ax = plt.subplots(figsize=(8,4))\n",
    "sns.histplot(x=\"sensitive_parameter2\",data=high_scoring_ind, shrink=0.8, stat=\"probability\", color=\"cornflowerblue\", discrete=True, linewidth=2, ax=ax)\n",
    "# y-axis\n",
    "ax.set_ylim([0,1])\n",
    "# remainder\n",
    "for loc in [\"top\",\"right\"]:\n",
    "    ax.spines[loc].set_visible(False)\n",
    "\n",
    "ax.tick_params(\"x\",rotation=-15,labelsize=10)\n",
    "plt.show()\n",
    "plt.close()"
   ]
  },
  {
   "cell_type": "markdown",
   "metadata": {},
   "source": [
    "By looking at the top scoring models, we can see they are primarily:\n",
    "* random forest (and even those that are logistic regression might have scores equal to random forest but were selected since they came first)\n",
    "* `rem_percent`\n",
    "* sensitive to `pm2p5`, `temperature`, and `tvoc`"
   ]
  },
  {
   "cell_type": "markdown",
   "metadata": {},
   "source": [
    "### Grouped: Deep Dive"
   ]
  },
  {
   "cell_type": "code",
   "execution_count": null,
   "metadata": {},
   "outputs": [],
   "source": [
    "group_res_df[\"dScore\"] = group_res_df[\"model_score\"] - group_res_df[\"biased_score\"]\n",
    "group_res_df.sort_values([\"split\",\"dScore\"],ascending=False)\n",
    "#group_res_df.groupby([\"split\",\"target\"]).mean()"
   ]
  },
  {
   "cell_type": "markdown",
   "metadata": {},
   "source": [
    "There seem to be significant differences in the performance of the models based on the splits."
   ]
  },
  {
   "cell_type": "markdown",
   "metadata": {},
   "source": [
    "Leave One Group Out\n",
    "\n",
    "Stratified K-Fold"
   ]
  },
  {
   "cell_type": "code",
   "execution_count": null,
   "metadata": {},
   "outputs": [],
   "source": [
    "dd"
   ]
  }
 ],
 "metadata": {
  "kernelspec": {
   "display_name": "Python 3",
   "language": "python",
   "name": "python3"
  },
  "language_info": {
   "codemirror_mode": {
    "name": "ipython",
    "version": 3
   },
   "file_extension": ".py",
   "mimetype": "text/x-python",
   "name": "python",
   "nbconvert_exporter": "python",
   "pygments_lexer": "ipython3",
   "version": "3.8.8"
  },
  "toc": {
   "base_numbering": 1,
   "nav_menu": {},
   "number_sections": false,
   "sideBar": false,
   "skip_h1_title": false,
   "title_cell": "Table of Contents",
   "title_sidebar": "Contents",
   "toc_cell": false,
   "toc_position": {},
   "toc_section_display": false,
   "toc_window_display": false
  }
 },
 "nbformat": 4,
 "nbformat_minor": 4
}
