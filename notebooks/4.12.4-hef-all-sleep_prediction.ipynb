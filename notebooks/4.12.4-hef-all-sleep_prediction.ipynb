{
 "cells": [
  {
   "cell_type": "markdown",
   "metadata": {},
   "source": [
    "# Sleep Prediction\n",
    "Here we try to use environmental parameters in addition to mood and activity characteristics to see if we are able to predict sleep quality.\n",
    "\n",
    "## Features\n",
    "In this analysis, we are going to consider the following features:\n",
    "1. **Acitivity**: The main metrics for activity that we will use are:\n",
    "    * Daily Steps\n",
    "    * Intensity Levels\n",
    "2. **Mood**: We have five metrics for mood:\n",
    "    * Content\n",
    "    * Lonely\n",
    "    * Sadness\n",
    "    * Stress\n",
    "    * Energy Level \n",
    "3. **IEQ**: There are many measurements of IEQ that we consider:\n",
    "    * CO$_2$\n",
    "    * CO\n",
    "    * PM$_{2.5}$\n",
    "    * NO$_2$\n",
    "    * TVOCs\n",
    "    * Temperature\n",
    "    * Relative Humidity\n",
    "    \n",
    "## Targets\n",
    "The targets will be all metrics related to sleep quality:\n",
    "1. **Self-Report**: There are four metrics for self-report sleep quality reported via EMA:\n",
    "    * TST\n",
    "    * SOL\n",
    "    * NAW\n",
    "    * Restfulness\n",
    "2. **Fitbit-Measured**: There are also four metrics of sleep quality that we can use from Fitbit:\n",
    "    * TST\n",
    "    * SE\n",
    "    * REM Percentage\n",
    "    * Light Percentage\n",
    "    * Deep Percentage"
   ]
  },
  {
   "cell_type": "code",
   "execution_count": 1,
   "metadata": {},
   "outputs": [],
   "source": [
    "import warnings\n",
    "warnings.filterwarnings('ignore')\n",
    "\n",
    "%load_ext autoreload\n",
    "%autoreload 2"
   ]
  },
  {
   "cell_type": "code",
   "execution_count": 2,
   "metadata": {},
   "outputs": [],
   "source": [
    "# general\n",
    "import os\n",
    "import sys\n",
    "sys.path.append('../')\n",
    "# user-defined functions\n",
    "from src.visualization import visualize\n",
    "# basic data science\n",
    "import pandas as pd\n",
    "pd.set_option('display.max_columns', 200)\n",
    "import numpy as np\n",
    "# timeseries\n",
    "from datetime import datetime, timedelta\n",
    "# plotting\n",
    "import matplotlib.pyplot as plt\n",
    "from matplotlib import cm\n",
    "from matplotlib.colors import ListedColormap, LinearSegmentedColormap\n",
    "import seaborn as sns\n",
    "import matplotlib.dates as mdates"
   ]
  },
  {
   "cell_type": "markdown",
   "metadata": {},
   "source": [
    "# Table of Contents\n",
    "1. [Data Import](#data-import)\n",
    "3. [Target Encoding](#encoding)\n",
    "4. [Feature Engineering](#feature_engineering)\n",
    "5. [Prediction](#prediction)\n",
    "    1. [Fitbit Sleep Targets](#fitbit-sleep-prediction)\n",
    "        1. TST\n",
    "        2. SOL\n",
    "        3. WASO\n",
    "        4. REM:nREM\n",
    "        5. SE\n",
    "    2. [Self-Report Sleep Targets](#self-report-sleep-prediction)\n",
    "        1. TST\n",
    "        2. SOL\n",
    "        3. NAW\n",
    "        4. Restfulness\n",
    "6. [Prediction with Encoded Features](#prediction_encoded)\n",
    "7. [Final Analysis](#final_analysis)"
   ]
  },
  {
   "cell_type": "markdown",
   "metadata": {},
   "source": [
    "<a id=\"data-import\"></a>"
   ]
  },
  {
   "cell_type": "markdown",
   "metadata": {},
   "source": [
    "# Data Import\n",
    "For this analysis we want to only consider nights when we have _all_ the available data. These are also the nights that we have confirmed participants are home according to GPS traces. "
   ]
  },
  {
   "cell_type": "markdown",
   "metadata": {},
   "source": [
    "## Feature: IEQ\n",
    "We start with IEQ data beacuse from previous analysis, this dataset has already been curated to include the relevant nights. However, there are quite a few columns that are not necessary for this analysis that have to be removed."
   ]
  },
  {
   "cell_type": "code",
   "execution_count": 3,
   "metadata": {},
   "outputs": [
    {
     "data": {
      "text/html": [
       "<div>\n",
       "<style scoped>\n",
       "    .dataframe tbody tr th:only-of-type {\n",
       "        vertical-align: middle;\n",
       "    }\n",
       "\n",
       "    .dataframe tbody tr th {\n",
       "        vertical-align: top;\n",
       "    }\n",
       "\n",
       "    .dataframe thead th {\n",
       "        text-align: right;\n",
       "    }\n",
       "</style>\n",
       "<table border=\"1\" class=\"dataframe\">\n",
       "  <thead>\n",
       "    <tr style=\"text-align: right;\">\n",
       "      <th></th>\n",
       "      <th>start_time</th>\n",
       "      <th>end_time</th>\n",
       "      <th>end_date</th>\n",
       "      <th>beiwe</th>\n",
       "      <th>redcap</th>\n",
       "      <th>beacon</th>\n",
       "      <th>co2_median</th>\n",
       "      <th>co_median</th>\n",
       "      <th>pm2p5_mass_median</th>\n",
       "      <th>no2_median</th>\n",
       "      <th>temperature_c_median</th>\n",
       "      <th>rh_median</th>\n",
       "    </tr>\n",
       "  </thead>\n",
       "  <tbody>\n",
       "    <tr>\n",
       "      <th>0</th>\n",
       "      <td>2020-08-10 04:42:30</td>\n",
       "      <td>2020-08-10 12:35:30</td>\n",
       "      <td>2020-08-10</td>\n",
       "      <td>lkkjddam</td>\n",
       "      <td>12</td>\n",
       "      <td>21</td>\n",
       "      <td>1600.754959</td>\n",
       "      <td>10.359917</td>\n",
       "      <td>1.848583</td>\n",
       "      <td>1.593768</td>\n",
       "      <td>23.337500</td>\n",
       "      <td>33.0</td>\n",
       "    </tr>\n",
       "    <tr>\n",
       "      <th>1</th>\n",
       "      <td>2020-08-11 03:35:00</td>\n",
       "      <td>2020-08-11 12:36:30</td>\n",
       "      <td>2020-08-11</td>\n",
       "      <td>lkkjddam</td>\n",
       "      <td>12</td>\n",
       "      <td>21</td>\n",
       "      <td>1628.474180</td>\n",
       "      <td>6.429275</td>\n",
       "      <td>1.655522</td>\n",
       "      <td>1.597845</td>\n",
       "      <td>25.000000</td>\n",
       "      <td>34.0</td>\n",
       "    </tr>\n",
       "    <tr>\n",
       "      <th>2</th>\n",
       "      <td>2020-08-12 02:59:30</td>\n",
       "      <td>2020-08-12 10:52:30</td>\n",
       "      <td>2020-08-12</td>\n",
       "      <td>lkkjddam</td>\n",
       "      <td>12</td>\n",
       "      <td>21</td>\n",
       "      <td>1596.122408</td>\n",
       "      <td>10.271850</td>\n",
       "      <td>2.024990</td>\n",
       "      <td>1.603469</td>\n",
       "      <td>24.000000</td>\n",
       "      <td>33.0</td>\n",
       "    </tr>\n",
       "    <tr>\n",
       "      <th>3</th>\n",
       "      <td>2020-08-14 03:05:00</td>\n",
       "      <td>2020-08-14 11:23:30</td>\n",
       "      <td>2020-08-14</td>\n",
       "      <td>lkkjddam</td>\n",
       "      <td>12</td>\n",
       "      <td>21</td>\n",
       "      <td>1301.449844</td>\n",
       "      <td>7.232700</td>\n",
       "      <td>1.812659</td>\n",
       "      <td>1.592935</td>\n",
       "      <td>25.000000</td>\n",
       "      <td>33.0</td>\n",
       "    </tr>\n",
       "    <tr>\n",
       "      <th>4</th>\n",
       "      <td>2020-08-15 06:51:30</td>\n",
       "      <td>2020-08-15 11:30:00</td>\n",
       "      <td>2020-08-15</td>\n",
       "      <td>lkkjddam</td>\n",
       "      <td>12</td>\n",
       "      <td>21</td>\n",
       "      <td>1274.110350</td>\n",
       "      <td>10.886100</td>\n",
       "      <td>2.457356</td>\n",
       "      <td>1.606745</td>\n",
       "      <td>23.333333</td>\n",
       "      <td>34.0</td>\n",
       "    </tr>\n",
       "  </tbody>\n",
       "</table>\n",
       "</div>"
      ],
      "text/plain": [
       "           start_time            end_time   end_date     beiwe  redcap  \\\n",
       "0 2020-08-10 04:42:30 2020-08-10 12:35:30 2020-08-10  lkkjddam      12   \n",
       "1 2020-08-11 03:35:00 2020-08-11 12:36:30 2020-08-11  lkkjddam      12   \n",
       "2 2020-08-12 02:59:30 2020-08-12 10:52:30 2020-08-12  lkkjddam      12   \n",
       "3 2020-08-14 03:05:00 2020-08-14 11:23:30 2020-08-14  lkkjddam      12   \n",
       "4 2020-08-15 06:51:30 2020-08-15 11:30:00 2020-08-15  lkkjddam      12   \n",
       "\n",
       "   beacon   co2_median  co_median  pm2p5_mass_median  no2_median  \\\n",
       "0      21  1600.754959  10.359917           1.848583    1.593768   \n",
       "1      21  1628.474180   6.429275           1.655522    1.597845   \n",
       "2      21  1596.122408  10.271850           2.024990    1.603469   \n",
       "3      21  1301.449844   7.232700           1.812659    1.592935   \n",
       "4      21  1274.110350  10.886100           2.457356    1.606745   \n",
       "\n",
       "   temperature_c_median  rh_median  \n",
       "0             23.337500       33.0  \n",
       "1             25.000000       34.0  \n",
       "2             24.000000       33.0  \n",
       "3             25.000000       33.0  \n",
       "4             23.333333       34.0  "
      ]
     },
     "execution_count": 3,
     "metadata": {},
     "output_type": "execute_result"
    }
   ],
   "source": [
    "ieq_raw = pd.read_csv(\"../data/processed/beacon-fb_and_gps_filtered_summary-ux_s20.csv\",parse_dates=[\"start_time\",\"end_time\"],infer_datetime_format=True)\n",
    "ieq_raw[\"date\"] = pd.to_datetime(ieq_raw[\"end_time\"].dt.date)\n",
    "ieq = ieq_raw[[\"start_time\",\"end_time\",\"date\",\"beiwe\",\"redcap\",\"beacon\",\"co2_median\",\"co_median\",\"pm2p5_mass_median\",\"no2_median\",\"temperature_c_median\",\"rh_median\"]]\n",
    "ieq.rename({\"date\":\"end_date\"},axis=\"columns\",inplace=True)\n",
    "ieq.head()"
   ]
  },
  {
   "cell_type": "markdown",
   "metadata": {},
   "source": [
    "## Feature: Activity\n",
    "Activity data are essentially untouched from the raw format"
   ]
  },
  {
   "cell_type": "code",
   "execution_count": 4,
   "metadata": {},
   "outputs": [
    {
     "data": {
      "text/html": [
       "<div>\n",
       "<style scoped>\n",
       "    .dataframe tbody tr th:only-of-type {\n",
       "        vertical-align: middle;\n",
       "    }\n",
       "\n",
       "    .dataframe tbody tr th {\n",
       "        vertical-align: top;\n",
       "    }\n",
       "\n",
       "    .dataframe thead th {\n",
       "        text-align: right;\n",
       "    }\n",
       "</style>\n",
       "<table border=\"1\" class=\"dataframe\">\n",
       "  <thead>\n",
       "    <tr style=\"text-align: right;\">\n",
       "      <th></th>\n",
       "      <th>date</th>\n",
       "      <th>beiwe</th>\n",
       "      <th>steps</th>\n",
       "      <th>sedentary_minutes</th>\n",
       "      <th>lightly_active_minutes</th>\n",
       "      <th>fairly_active_minutes</th>\n",
       "      <th>very_active_minutes</th>\n",
       "    </tr>\n",
       "  </thead>\n",
       "  <tbody>\n",
       "    <tr>\n",
       "      <th>0</th>\n",
       "      <td>2020-05-13</td>\n",
       "      <td>hfttkth7</td>\n",
       "      <td>9207</td>\n",
       "      <td>1241</td>\n",
       "      <td>70</td>\n",
       "      <td>118</td>\n",
       "      <td>11</td>\n",
       "    </tr>\n",
       "    <tr>\n",
       "      <th>1</th>\n",
       "      <td>2020-05-14</td>\n",
       "      <td>hfttkth7</td>\n",
       "      <td>15207</td>\n",
       "      <td>614</td>\n",
       "      <td>263</td>\n",
       "      <td>134</td>\n",
       "      <td>23</td>\n",
       "    </tr>\n",
       "    <tr>\n",
       "      <th>2</th>\n",
       "      <td>2020-05-15</td>\n",
       "      <td>hfttkth7</td>\n",
       "      <td>14556</td>\n",
       "      <td>577</td>\n",
       "      <td>205</td>\n",
       "      <td>57</td>\n",
       "      <td>108</td>\n",
       "    </tr>\n",
       "    <tr>\n",
       "      <th>3</th>\n",
       "      <td>2020-05-16</td>\n",
       "      <td>hfttkth7</td>\n",
       "      <td>18453</td>\n",
       "      <td>760</td>\n",
       "      <td>176</td>\n",
       "      <td>24</td>\n",
       "      <td>151</td>\n",
       "    </tr>\n",
       "    <tr>\n",
       "      <th>4</th>\n",
       "      <td>2020-05-17</td>\n",
       "      <td>hfttkth7</td>\n",
       "      <td>15425</td>\n",
       "      <td>605</td>\n",
       "      <td>207</td>\n",
       "      <td>50</td>\n",
       "      <td>131</td>\n",
       "    </tr>\n",
       "  </tbody>\n",
       "</table>\n",
       "</div>"
      ],
      "text/plain": [
       "        date     beiwe  steps  sedentary_minutes  lightly_active_minutes  \\\n",
       "0 2020-05-13  hfttkth7   9207               1241                      70   \n",
       "1 2020-05-14  hfttkth7  15207                614                     263   \n",
       "2 2020-05-15  hfttkth7  14556                577                     205   \n",
       "3 2020-05-16  hfttkth7  18453                760                     176   \n",
       "4 2020-05-17  hfttkth7  15425                605                     207   \n",
       "\n",
       "   fairly_active_minutes  very_active_minutes  \n",
       "0                    118                   11  \n",
       "1                    134                   23  \n",
       "2                     57                  108  \n",
       "3                     24                  151  \n",
       "4                     50                  131  "
      ]
     },
     "execution_count": 4,
     "metadata": {},
     "output_type": "execute_result"
    }
   ],
   "source": [
    "activity_raw = pd.read_csv(\"../data/processed/fitbit-daily-ux_s20.csv\",parse_dates=[\"timestamp\"],infer_datetime_format=True)\n",
    "activity = activity_raw[[\"timestamp\",\"beiwe\",\"steps\",\"sedentary_minutes\",\"lightly_active_minutes\",\"fairly_active_minutes\",\"very_active_minutes\"]]\n",
    "activity.rename({\"timestamp\":\"date\"},axis=\"columns\",inplace=True)\n",
    "activity.head()"
   ]
  },
  {
   "cell_type": "markdown",
   "metadata": {},
   "source": [
    "## Feature: Mood\n",
    "We only want to consider mood data from the latest survey prior to the participant going to sleep so we only important the evening EMAs."
   ]
  },
  {
   "cell_type": "code",
   "execution_count": 5,
   "metadata": {},
   "outputs": [
    {
     "data": {
      "text/html": [
       "<div>\n",
       "<style scoped>\n",
       "    .dataframe tbody tr th:only-of-type {\n",
       "        vertical-align: middle;\n",
       "    }\n",
       "\n",
       "    .dataframe tbody tr th {\n",
       "        vertical-align: top;\n",
       "    }\n",
       "\n",
       "    .dataframe thead th {\n",
       "        text-align: right;\n",
       "    }\n",
       "</style>\n",
       "<table border=\"1\" class=\"dataframe\">\n",
       "  <thead>\n",
       "    <tr style=\"text-align: right;\">\n",
       "      <th></th>\n",
       "      <th>timestamp</th>\n",
       "      <th>beiwe</th>\n",
       "      <th>content</th>\n",
       "      <th>stress</th>\n",
       "      <th>lonely</th>\n",
       "      <th>sad</th>\n",
       "      <th>energy</th>\n",
       "      <th>redcap</th>\n",
       "      <th>beacon</th>\n",
       "      <th>date</th>\n",
       "    </tr>\n",
       "  </thead>\n",
       "  <tbody>\n",
       "    <tr>\n",
       "      <th>0</th>\n",
       "      <td>2020-05-13 19:00:23</td>\n",
       "      <td>awa8uces</td>\n",
       "      <td>1.0</td>\n",
       "      <td>1.0</td>\n",
       "      <td>1.0</td>\n",
       "      <td>3.0</td>\n",
       "      <td>2.0</td>\n",
       "      <td>28</td>\n",
       "      <td>26.0</td>\n",
       "      <td>2020-05-13</td>\n",
       "    </tr>\n",
       "    <tr>\n",
       "      <th>1</th>\n",
       "      <td>2020-05-13 19:21:32</td>\n",
       "      <td>lkkjddam</td>\n",
       "      <td>0.0</td>\n",
       "      <td>2.0</td>\n",
       "      <td>3.0</td>\n",
       "      <td>1.0</td>\n",
       "      <td>0.0</td>\n",
       "      <td>12</td>\n",
       "      <td>21.0</td>\n",
       "      <td>2020-05-13</td>\n",
       "    </tr>\n",
       "    <tr>\n",
       "      <th>2</th>\n",
       "      <td>2020-05-13 19:30:38</td>\n",
       "      <td>rvhdl2la</td>\n",
       "      <td>2.0</td>\n",
       "      <td>1.0</td>\n",
       "      <td>0.0</td>\n",
       "      <td>0.0</td>\n",
       "      <td>1.0</td>\n",
       "      <td>29</td>\n",
       "      <td>NaN</td>\n",
       "      <td>2020-05-13</td>\n",
       "    </tr>\n",
       "    <tr>\n",
       "      <th>3</th>\n",
       "      <td>2020-05-13 20:07:04</td>\n",
       "      <td>xxvnhauv</td>\n",
       "      <td>1.0</td>\n",
       "      <td>3.0</td>\n",
       "      <td>1.0</td>\n",
       "      <td>2.0</td>\n",
       "      <td>0.0</td>\n",
       "      <td>21</td>\n",
       "      <td>22.0</td>\n",
       "      <td>2020-05-13</td>\n",
       "    </tr>\n",
       "    <tr>\n",
       "      <th>4</th>\n",
       "      <td>2020-05-13 20:25:07</td>\n",
       "      <td>xdbdrk6e</td>\n",
       "      <td>2.0</td>\n",
       "      <td>1.0</td>\n",
       "      <td>2.0</td>\n",
       "      <td>1.0</td>\n",
       "      <td>3.0</td>\n",
       "      <td>23</td>\n",
       "      <td>24.0</td>\n",
       "      <td>2020-05-13</td>\n",
       "    </tr>\n",
       "  </tbody>\n",
       "</table>\n",
       "</div>"
      ],
      "text/plain": [
       "            timestamp     beiwe  content  stress  lonely  sad  energy  redcap  \\\n",
       "0 2020-05-13 19:00:23  awa8uces      1.0     1.0     1.0  3.0     2.0      28   \n",
       "1 2020-05-13 19:21:32  lkkjddam      0.0     2.0     3.0  1.0     0.0      12   \n",
       "2 2020-05-13 19:30:38  rvhdl2la      2.0     1.0     0.0  0.0     1.0      29   \n",
       "3 2020-05-13 20:07:04  xxvnhauv      1.0     3.0     1.0  2.0     0.0      21   \n",
       "4 2020-05-13 20:25:07  xdbdrk6e      2.0     1.0     2.0  1.0     3.0      23   \n",
       "\n",
       "   beacon       date  \n",
       "0    26.0 2020-05-13  \n",
       "1    21.0 2020-05-13  \n",
       "2     NaN 2020-05-13  \n",
       "3    22.0 2020-05-13  \n",
       "4    24.0 2020-05-13  "
      ]
     },
     "execution_count": 5,
     "metadata": {},
     "output_type": "execute_result"
    }
   ],
   "source": [
    "mood = pd.read_csv(\"../data/processed/beiwe-evening_ema-ux_s20.csv\",parse_dates=[\"timestamp\"],infer_datetime_format=True)\n",
    "mood[\"date\"] = pd.to_datetime(mood[\"timestamp\"].dt.date)\n",
    "mood.head()"
   ]
  },
  {
   "cell_type": "markdown",
   "metadata": {},
   "source": [
    "## Target: Self-Report Sleep Quality (SRSQ)\n",
    "The self-reported sleep quality comes from the morning EMAs."
   ]
  },
  {
   "cell_type": "code",
   "execution_count": 6,
   "metadata": {},
   "outputs": [
    {
     "data": {
      "text/html": [
       "<div>\n",
       "<style scoped>\n",
       "    .dataframe tbody tr th:only-of-type {\n",
       "        vertical-align: middle;\n",
       "    }\n",
       "\n",
       "    .dataframe tbody tr th {\n",
       "        vertical-align: top;\n",
       "    }\n",
       "\n",
       "    .dataframe thead th {\n",
       "        text-align: right;\n",
       "    }\n",
       "</style>\n",
       "<table border=\"1\" class=\"dataframe\">\n",
       "  <thead>\n",
       "    <tr style=\"text-align: right;\">\n",
       "      <th></th>\n",
       "      <th>timestamp</th>\n",
       "      <th>end_date</th>\n",
       "      <th>beiwe</th>\n",
       "      <th>redcap</th>\n",
       "      <th>beacon</th>\n",
       "      <th>tst</th>\n",
       "      <th>sol</th>\n",
       "      <th>naw</th>\n",
       "      <th>restful</th>\n",
       "    </tr>\n",
       "  </thead>\n",
       "  <tbody>\n",
       "    <tr>\n",
       "      <th>0</th>\n",
       "      <td>2020-05-13 09:10:27</td>\n",
       "      <td>2020-05-13</td>\n",
       "      <td>qh34m4r9</td>\n",
       "      <td>68</td>\n",
       "      <td>19.0</td>\n",
       "      <td>8.0</td>\n",
       "      <td>20.0</td>\n",
       "      <td>2.0</td>\n",
       "      <td>3.0</td>\n",
       "    </tr>\n",
       "    <tr>\n",
       "      <th>1</th>\n",
       "      <td>2020-05-13 09:15:49</td>\n",
       "      <td>2020-05-13</td>\n",
       "      <td>awa8uces</td>\n",
       "      <td>28</td>\n",
       "      <td>26.0</td>\n",
       "      <td>2.0</td>\n",
       "      <td>10.0</td>\n",
       "      <td>3.0</td>\n",
       "      <td>1.0</td>\n",
       "    </tr>\n",
       "    <tr>\n",
       "      <th>2</th>\n",
       "      <td>2020-05-13 09:42:19</td>\n",
       "      <td>2020-05-13</td>\n",
       "      <td>xxvnhauv</td>\n",
       "      <td>21</td>\n",
       "      <td>22.0</td>\n",
       "      <td>6.0</td>\n",
       "      <td>30.0</td>\n",
       "      <td>3.0</td>\n",
       "      <td>1.0</td>\n",
       "    </tr>\n",
       "    <tr>\n",
       "      <th>3</th>\n",
       "      <td>2020-05-13 09:43:27</td>\n",
       "      <td>2020-05-13</td>\n",
       "      <td>rvhdl2la</td>\n",
       "      <td>29</td>\n",
       "      <td>NaN</td>\n",
       "      <td>5.3</td>\n",
       "      <td>5.0</td>\n",
       "      <td>2.0</td>\n",
       "      <td>2.0</td>\n",
       "    </tr>\n",
       "    <tr>\n",
       "      <th>4</th>\n",
       "      <td>2020-05-13 10:11:51</td>\n",
       "      <td>2020-05-13</td>\n",
       "      <td>q5y11ytm</td>\n",
       "      <td>48</td>\n",
       "      <td>NaN</td>\n",
       "      <td>2.0</td>\n",
       "      <td>10.0</td>\n",
       "      <td>0.0</td>\n",
       "      <td>0.0</td>\n",
       "    </tr>\n",
       "  </tbody>\n",
       "</table>\n",
       "</div>"
      ],
      "text/plain": [
       "            timestamp   end_date     beiwe  redcap  beacon  tst   sol  naw  \\\n",
       "0 2020-05-13 09:10:27 2020-05-13  qh34m4r9      68    19.0  8.0  20.0  2.0   \n",
       "1 2020-05-13 09:15:49 2020-05-13  awa8uces      28    26.0  2.0  10.0  3.0   \n",
       "2 2020-05-13 09:42:19 2020-05-13  xxvnhauv      21    22.0  6.0  30.0  3.0   \n",
       "3 2020-05-13 09:43:27 2020-05-13  rvhdl2la      29     NaN  5.3   5.0  2.0   \n",
       "4 2020-05-13 10:11:51 2020-05-13  q5y11ytm      48     NaN  2.0  10.0  0.0   \n",
       "\n",
       "   restful  \n",
       "0      3.0  \n",
       "1      1.0  \n",
       "2      1.0  \n",
       "3      2.0  \n",
       "4      0.0  "
      ]
     },
     "execution_count": 6,
     "metadata": {},
     "output_type": "execute_result"
    }
   ],
   "source": [
    "srsq_raw = pd.read_csv(\"../data/processed/beiwe-morning_ema-ux_s20.csv\",parse_dates=[\"timestamp\"],infer_datetime_format=True)\n",
    "srsq_raw[\"date\"] = pd.to_datetime(srsq_raw[\"timestamp\"].dt.date)\n",
    "srsq = srsq_raw[[\"timestamp\",\"date\",\"beiwe\",\"redcap\",\"beacon\",\"tst\",\"sol\",\"naw\",\"restful\"]]\n",
    "srsq.rename({\"date\":\"end_date\"},axis=\"columns\",inplace=True)\n",
    "srsq.head()"
   ]
  },
  {
   "cell_type": "markdown",
   "metadata": {},
   "source": [
    "## Target: Fitbit Sleep Quality (FBSQ)\n",
    "Fitbit sleep summary data is imported below."
   ]
  },
  {
   "cell_type": "code",
   "execution_count": 7,
   "metadata": {},
   "outputs": [
    {
     "data": {
      "text/html": [
       "<div>\n",
       "<style scoped>\n",
       "    .dataframe tbody tr th:only-of-type {\n",
       "        vertical-align: middle;\n",
       "    }\n",
       "\n",
       "    .dataframe tbody tr th {\n",
       "        vertical-align: top;\n",
       "    }\n",
       "\n",
       "    .dataframe thead th {\n",
       "        text-align: right;\n",
       "    }\n",
       "</style>\n",
       "<table border=\"1\" class=\"dataframe\">\n",
       "  <thead>\n",
       "    <tr style=\"text-align: right;\">\n",
       "      <th></th>\n",
       "      <th>start_time</th>\n",
       "      <th>end_time</th>\n",
       "      <th>start_date</th>\n",
       "      <th>end_date</th>\n",
       "      <th>beiwe</th>\n",
       "      <th>redcap</th>\n",
       "      <th>beacon</th>\n",
       "      <th>tst</th>\n",
       "      <th>se</th>\n",
       "      <th>rem_percent</th>\n",
       "      <th>light_percent</th>\n",
       "      <th>deep_percent</th>\n",
       "    </tr>\n",
       "  </thead>\n",
       "  <tbody>\n",
       "    <tr>\n",
       "      <th>0</th>\n",
       "      <td>2020-05-14 00:27:00</td>\n",
       "      <td>2020-05-14 07:13:00</td>\n",
       "      <td>2020-05-14</td>\n",
       "      <td>2020-05-14</td>\n",
       "      <td>hfttkth7</td>\n",
       "      <td>NaN</td>\n",
       "      <td>NaN</td>\n",
       "      <td>6.316667</td>\n",
       "      <td>93.349754</td>\n",
       "      <td>0.216359</td>\n",
       "      <td>0.562005</td>\n",
       "      <td>0.221636</td>\n",
       "    </tr>\n",
       "    <tr>\n",
       "      <th>1</th>\n",
       "      <td>2020-05-14 23:53:30</td>\n",
       "      <td>2020-05-15 08:06:30</td>\n",
       "      <td>2020-05-14</td>\n",
       "      <td>2020-05-15</td>\n",
       "      <td>hfttkth7</td>\n",
       "      <td>NaN</td>\n",
       "      <td>NaN</td>\n",
       "      <td>6.533333</td>\n",
       "      <td>79.513185</td>\n",
       "      <td>0.119898</td>\n",
       "      <td>0.637755</td>\n",
       "      <td>0.242347</td>\n",
       "    </tr>\n",
       "    <tr>\n",
       "      <th>2</th>\n",
       "      <td>2020-05-15 23:28:00</td>\n",
       "      <td>2020-05-16 04:57:00</td>\n",
       "      <td>2020-05-15</td>\n",
       "      <td>2020-05-16</td>\n",
       "      <td>hfttkth7</td>\n",
       "      <td>NaN</td>\n",
       "      <td>NaN</td>\n",
       "      <td>4.783333</td>\n",
       "      <td>87.234043</td>\n",
       "      <td>0.174216</td>\n",
       "      <td>0.662021</td>\n",
       "      <td>0.163763</td>\n",
       "    </tr>\n",
       "    <tr>\n",
       "      <th>3</th>\n",
       "      <td>2020-05-17 02:01:30</td>\n",
       "      <td>2020-05-17 09:28:30</td>\n",
       "      <td>2020-05-17</td>\n",
       "      <td>2020-05-17</td>\n",
       "      <td>hfttkth7</td>\n",
       "      <td>NaN</td>\n",
       "      <td>NaN</td>\n",
       "      <td>6.716667</td>\n",
       "      <td>90.156600</td>\n",
       "      <td>0.205955</td>\n",
       "      <td>0.600496</td>\n",
       "      <td>0.193548</td>\n",
       "    </tr>\n",
       "    <tr>\n",
       "      <th>4</th>\n",
       "      <td>2020-05-18 00:24:00</td>\n",
       "      <td>2020-05-18 07:20:00</td>\n",
       "      <td>2020-05-18</td>\n",
       "      <td>2020-05-18</td>\n",
       "      <td>hfttkth7</td>\n",
       "      <td>NaN</td>\n",
       "      <td>NaN</td>\n",
       "      <td>5.850000</td>\n",
       "      <td>84.375000</td>\n",
       "      <td>0.250712</td>\n",
       "      <td>0.475783</td>\n",
       "      <td>0.273504</td>\n",
       "    </tr>\n",
       "  </tbody>\n",
       "</table>\n",
       "</div>"
      ],
      "text/plain": [
       "           start_time            end_time start_date   end_date     beiwe  \\\n",
       "0 2020-05-14 00:27:00 2020-05-14 07:13:00 2020-05-14 2020-05-14  hfttkth7   \n",
       "1 2020-05-14 23:53:30 2020-05-15 08:06:30 2020-05-14 2020-05-15  hfttkth7   \n",
       "2 2020-05-15 23:28:00 2020-05-16 04:57:00 2020-05-15 2020-05-16  hfttkth7   \n",
       "3 2020-05-17 02:01:30 2020-05-17 09:28:30 2020-05-17 2020-05-17  hfttkth7   \n",
       "4 2020-05-18 00:24:00 2020-05-18 07:20:00 2020-05-18 2020-05-18  hfttkth7   \n",
       "\n",
       "   redcap  beacon       tst         se  rem_percent  light_percent  \\\n",
       "0     NaN     NaN  6.316667  93.349754     0.216359       0.562005   \n",
       "1     NaN     NaN  6.533333  79.513185     0.119898       0.637755   \n",
       "2     NaN     NaN  4.783333  87.234043     0.174216       0.662021   \n",
       "3     NaN     NaN  6.716667  90.156600     0.205955       0.600496   \n",
       "4     NaN     NaN  5.850000  84.375000     0.250712       0.475783   \n",
       "\n",
       "   deep_percent  \n",
       "0      0.221636  \n",
       "1      0.242347  \n",
       "2      0.163763  \n",
       "3      0.193548  \n",
       "4      0.273504  "
      ]
     },
     "execution_count": 7,
     "metadata": {},
     "output_type": "execute_result"
    }
   ],
   "source": [
    "fbsq_raw = pd.read_csv(\"../data/processed/fitbit-sleep_summary-ux_s20.csv\",parse_dates=[\"start_time\",\"end_time\",\"start_date\",\"end_date\"],infer_datetime_format=True)\n",
    "fbsq = fbsq_raw[[\"start_time\",\"end_time\",\"start_date\",\"end_date\",\"beiwe\",\"redcap\",\"beacon\",\"tst_fb\",\"efficiency\",\"rem_percent\",\"light_percent\",\"deep_percent\"]]\n",
    "fbsq.rename({\"tst_fb\":\"tst\",\"efficiency\":\"se\"},axis=\"columns\",inplace=True)\n",
    "fbsq.head()"
   ]
  },
  {
   "cell_type": "markdown",
   "metadata": {},
   "source": [
    "## Target: Combined Sleep Quality (CSQ)\n",
    "The sleep quality dataset has already been created from a previous analysis so we simply just have to import it.\n",
    "\n",
    "I don't think we will be using this dataset, but we might as well keep it here."
   ]
  },
  {
   "cell_type": "code",
   "execution_count": 8,
   "metadata": {},
   "outputs": [
    {
     "data": {
      "text/html": [
       "<div>\n",
       "<style scoped>\n",
       "    .dataframe tbody tr th:only-of-type {\n",
       "        vertical-align: middle;\n",
       "    }\n",
       "\n",
       "    .dataframe tbody tr th {\n",
       "        vertical-align: top;\n",
       "    }\n",
       "\n",
       "    .dataframe thead th {\n",
       "        text-align: right;\n",
       "    }\n",
       "</style>\n",
       "<table border=\"1\" class=\"dataframe\">\n",
       "  <thead>\n",
       "    <tr style=\"text-align: right;\">\n",
       "      <th></th>\n",
       "      <th>start_time</th>\n",
       "      <th>end_time</th>\n",
       "      <th>start_date</th>\n",
       "      <th>end_date</th>\n",
       "      <th>date</th>\n",
       "      <th>beiwe</th>\n",
       "      <th>redcap</th>\n",
       "      <th>beacon</th>\n",
       "      <th>tst_ema</th>\n",
       "      <th>sol_ema</th>\n",
       "      <th>naw_ema</th>\n",
       "      <th>restful_ema</th>\n",
       "      <th>tst_fb</th>\n",
       "      <th>efficiency</th>\n",
       "      <th>rem_percent</th>\n",
       "      <th>nrem_percent</th>\n",
       "    </tr>\n",
       "  </thead>\n",
       "  <tbody>\n",
       "    <tr>\n",
       "      <th>0</th>\n",
       "      <td>2020-05-14 01:06:00</td>\n",
       "      <td>2020-05-14 11:39:30</td>\n",
       "      <td>2020-05-14</td>\n",
       "      <td>2020-05-14</td>\n",
       "      <td>2020-05-14</td>\n",
       "      <td>15tejjtw</td>\n",
       "      <td>45.0</td>\n",
       "      <td>NaN</td>\n",
       "      <td>9.0</td>\n",
       "      <td>30.0</td>\n",
       "      <td>5.0</td>\n",
       "      <td>2.0</td>\n",
       "      <td>8.766667</td>\n",
       "      <td>83.096367</td>\n",
       "      <td>0.231939</td>\n",
       "      <td>0.768061</td>\n",
       "    </tr>\n",
       "    <tr>\n",
       "      <th>1</th>\n",
       "      <td>2020-05-16 02:19:00</td>\n",
       "      <td>2020-05-16 10:00:30</td>\n",
       "      <td>2020-05-16</td>\n",
       "      <td>2020-05-16</td>\n",
       "      <td>2020-05-16</td>\n",
       "      <td>15tejjtw</td>\n",
       "      <td>45.0</td>\n",
       "      <td>NaN</td>\n",
       "      <td>9.0</td>\n",
       "      <td>15.0</td>\n",
       "      <td>2.0</td>\n",
       "      <td>2.0</td>\n",
       "      <td>6.600000</td>\n",
       "      <td>85.900217</td>\n",
       "      <td>0.123737</td>\n",
       "      <td>0.876263</td>\n",
       "    </tr>\n",
       "    <tr>\n",
       "      <th>2</th>\n",
       "      <td>2020-05-17 00:27:00</td>\n",
       "      <td>2020-05-17 10:28:00</td>\n",
       "      <td>2020-05-17</td>\n",
       "      <td>2020-05-17</td>\n",
       "      <td>2020-05-17</td>\n",
       "      <td>15tejjtw</td>\n",
       "      <td>45.0</td>\n",
       "      <td>NaN</td>\n",
       "      <td>9.0</td>\n",
       "      <td>30.0</td>\n",
       "      <td>1.0</td>\n",
       "      <td>2.0</td>\n",
       "      <td>8.850000</td>\n",
       "      <td>88.352745</td>\n",
       "      <td>0.254237</td>\n",
       "      <td>0.745763</td>\n",
       "    </tr>\n",
       "    <tr>\n",
       "      <th>3</th>\n",
       "      <td>2020-05-18 01:37:00</td>\n",
       "      <td>2020-05-18 10:59:30</td>\n",
       "      <td>2020-05-18</td>\n",
       "      <td>2020-05-18</td>\n",
       "      <td>2020-05-18</td>\n",
       "      <td>15tejjtw</td>\n",
       "      <td>45.0</td>\n",
       "      <td>NaN</td>\n",
       "      <td>9.0</td>\n",
       "      <td>25.0</td>\n",
       "      <td>2.0</td>\n",
       "      <td>1.0</td>\n",
       "      <td>7.966667</td>\n",
       "      <td>85.053381</td>\n",
       "      <td>0.207113</td>\n",
       "      <td>0.792887</td>\n",
       "    </tr>\n",
       "    <tr>\n",
       "      <th>4</th>\n",
       "      <td>2020-05-21 23:59:30</td>\n",
       "      <td>2020-05-22 09:27:30</td>\n",
       "      <td>2020-05-21</td>\n",
       "      <td>2020-05-22</td>\n",
       "      <td>2020-05-22</td>\n",
       "      <td>15tejjtw</td>\n",
       "      <td>45.0</td>\n",
       "      <td>NaN</td>\n",
       "      <td>9.0</td>\n",
       "      <td>20.0</td>\n",
       "      <td>2.0</td>\n",
       "      <td>2.0</td>\n",
       "      <td>8.316667</td>\n",
       "      <td>87.852113</td>\n",
       "      <td>0.264529</td>\n",
       "      <td>0.735471</td>\n",
       "    </tr>\n",
       "  </tbody>\n",
       "</table>\n",
       "</div>"
      ],
      "text/plain": [
       "           start_time            end_time start_date   end_date       date  \\\n",
       "0 2020-05-14 01:06:00 2020-05-14 11:39:30 2020-05-14 2020-05-14 2020-05-14   \n",
       "1 2020-05-16 02:19:00 2020-05-16 10:00:30 2020-05-16 2020-05-16 2020-05-16   \n",
       "2 2020-05-17 00:27:00 2020-05-17 10:28:00 2020-05-17 2020-05-17 2020-05-17   \n",
       "3 2020-05-18 01:37:00 2020-05-18 10:59:30 2020-05-18 2020-05-18 2020-05-18   \n",
       "4 2020-05-21 23:59:30 2020-05-22 09:27:30 2020-05-21 2020-05-22 2020-05-22   \n",
       "\n",
       "      beiwe  redcap  beacon  tst_ema  sol_ema  naw_ema  restful_ema    tst_fb  \\\n",
       "0  15tejjtw    45.0     NaN      9.0     30.0      5.0          2.0  8.766667   \n",
       "1  15tejjtw    45.0     NaN      9.0     15.0      2.0          2.0  6.600000   \n",
       "2  15tejjtw    45.0     NaN      9.0     30.0      1.0          2.0  8.850000   \n",
       "3  15tejjtw    45.0     NaN      9.0     25.0      2.0          1.0  7.966667   \n",
       "4  15tejjtw    45.0     NaN      9.0     20.0      2.0          2.0  8.316667   \n",
       "\n",
       "   efficiency  rem_percent  nrem_percent  \n",
       "0   83.096367     0.231939      0.768061  \n",
       "1   85.900217     0.123737      0.876263  \n",
       "2   88.352745     0.254237      0.745763  \n",
       "3   85.053381     0.207113      0.792887  \n",
       "4   87.852113     0.264529      0.735471  "
      ]
     },
     "execution_count": 8,
     "metadata": {},
     "output_type": "execute_result"
    }
   ],
   "source": [
    "sleep_quality = pd.read_csv(\"../data/processed/beiwe_fitbit-sleep_summary-ux_s20.csv\",parse_dates=[\"start_time\",\"end_time\",\"start_date\",\"end_date\",\"date\"],infer_datetime_format=True)\n",
    "csq = sleep_quality[[\"start_time\",\"end_time\",\"start_date\",\"end_date\",\"date\",\"beiwe\",\"redcap\",\"beacon\",\"tst_ema\",\"sol_ema\",\"naw_ema\",\"restful_ema\",\"tst_fb\",\"efficiency\",\"rem_percent\",\"nrem_percent\"]]\n",
    "csq.head() # Combined Sleep Quality (csq)"
   ]
  },
  {
   "cell_type": "markdown",
   "metadata": {},
   "source": [
    "<a id=\"encoding\" ></a>"
   ]
  },
  {
   "cell_type": "markdown",
   "metadata": {},
   "source": [
    "# Target Encoding\n",
    "We will encode all the target sleep quality variables as binary where 0 represents poor/negative outcomes and 1 are good/positive outcomes."
   ]
  },
  {
   "cell_type": "markdown",
   "metadata": {},
   "source": [
    "## SE\n",
    "Based on a discussion with Dr. Schnyer, he suggested this scale (with some minor tweaks in language from me):\n",
    "\n",
    "| SE | Rating | Value |\n",
    "| --- | --- | --- |\n",
    "| >90% | Excellent | 3 |\n",
    "| 85% - 90% | Good | 2 |\n",
    "| 80% - 85% | Typical | 1 |\n",
    "| <80% | Poor | 0 |\n",
    "\n",
    "Here, we just say the SE is good (1) when above 85%, otherwise it is bad (0)."
   ]
  },
  {
   "cell_type": "code",
   "execution_count": 9,
   "metadata": {},
   "outputs": [],
   "source": [
    "def encode_se(value):\n",
    "    \"\"\"returns encoded value for se\"\"\"\n",
    "    if value >= 85:\n",
    "        return 1\n",
    "    else:\n",
    "        return 0"
   ]
  },
  {
   "cell_type": "markdown",
   "metadata": {},
   "source": [
    "## TST\n",
    "Based on a \"traditional\" recommendations, we can lump `tst` into three categories:\n",
    "\n",
    "| TST | Rating | Value |\n",
    "| --- | --- | --- |\n",
    "| >9 h | High | 0 |\n",
    "| 7-9 h | Typical | 1 |\n",
    "| <7 h | Low | 0 |"
   ]
  },
  {
   "cell_type": "code",
   "execution_count": 10,
   "metadata": {},
   "outputs": [],
   "source": [
    "def encode_tst(value):\n",
    "    \"\"\"returns score of tsts\"\"\"\n",
    "    if value > 9:\n",
    "        return 0\n",
    "    elif value >= 7:\n",
    "        return 1\n",
    "    else:\n",
    "        return 0"
   ]
  },
  {
   "cell_type": "markdown",
   "metadata": {},
   "source": [
    "## REM\n",
    "Ideally you should be spending between 20% and 25% of your night in REM sleep."
   ]
  },
  {
   "cell_type": "code",
   "execution_count": 11,
   "metadata": {},
   "outputs": [],
   "source": [
    "def encode_rem(value):\n",
    "    \"\"\"returns score of REM percent\"\"\"\n",
    "    if value >= 0.2 and value <= 0.25:\n",
    "        return 1\n",
    "    else:\n",
    "        return 0"
   ]
  },
  {
   "cell_type": "markdown",
   "metadata": {},
   "source": [
    "## Light Sleep\n",
    "Light Sleep should be a maximum of about 60% but we also don't want too little. "
   ]
  },
  {
   "cell_type": "code",
   "execution_count": 12,
   "metadata": {},
   "outputs": [],
   "source": [
    "def encode_light(value):\n",
    "    \"\"\"returns score of light percent\"\"\"\n",
    "    if value >= 0.4 and value <= 0.6:\n",
    "        return 1\n",
    "    else:\n",
    "        return 0"
   ]
  },
  {
   "cell_type": "markdown",
   "metadata": {},
   "source": [
    "## Deep Sleep\n",
    "Deep sleep should encompass about 12% to 23% of your night."
   ]
  },
  {
   "cell_type": "code",
   "execution_count": 13,
   "metadata": {},
   "outputs": [],
   "source": [
    "def encode_deep(value):\n",
    "    \"\"\"returns score of deep percent\"\"\"\n",
    "    if value >= 0.12 and value <= 0.23:\n",
    "        return 1\n",
    "    else:\n",
    "        return 0"
   ]
  },
  {
   "cell_type": "markdown",
   "metadata": {},
   "source": [
    "## SOL\n",
    "The National Sleep Foundation says 30 minutes or less is a marker for good sleep quality."
   ]
  },
  {
   "cell_type": "code",
   "execution_count": 14,
   "metadata": {},
   "outputs": [],
   "source": [
    "def encode_sol(value):\n",
    "    \"\"\"returns score of sol\"\"\"\n",
    "    if value < 30:\n",
    "        return 1\n",
    "    else:\n",
    "        return 0"
   ]
  },
  {
   "cell_type": "markdown",
   "metadata": {},
   "source": [
    "## NAW\n",
    "We group NAW into a good and bad category based on [Ohayon et al., 2017](https://www.sciencedirect.com/science/article/pii/S2352721816301309?casa_token=56p9duOGsL4AAAAA:tmPWLtzq0Z9zGGq-w0qWBXJT-VEDeoZ0dOwL06G-BwbWMHA3uT_KBjxd08HPyFZWNqIpm_0m).\n",
    "\n",
    "| NAW | Rating | Value |\n",
    "| --- | --- | --- |\n",
    "| 0 or 1 | Good | 1 |\n",
    "| >1 | Bad | 0 |"
   ]
  },
  {
   "cell_type": "code",
   "execution_count": 15,
   "metadata": {},
   "outputs": [],
   "source": [
    "def encode_naw(value):\n",
    "    \"\"\"returns score of naw\"\"\"\n",
    "    if value < 2:\n",
    "        return 1\n",
    "    else:\n",
    "        return 0"
   ]
  },
  {
   "cell_type": "markdown",
   "metadata": {},
   "source": [
    "## Restfulness\n",
    "Restfulness is one of the five metrics that is rated on a 0 to 3 Likert scale. So we can create a more generic function here for later use."
   ]
  },
  {
   "cell_type": "code",
   "execution_count": 16,
   "metadata": {},
   "outputs": [],
   "source": [
    "def encode_likert(value):\n",
    "    \"\"\"returns score for a 0-3 Likert measurement\"\"\"\n",
    "    if value > 1:\n",
    "        return 1\n",
    "    else:\n",
    "        return 0"
   ]
  },
  {
   "cell_type": "markdown",
   "metadata": {},
   "source": [
    "## Encoding Sleep Quality"
   ]
  },
  {
   "cell_type": "markdown",
   "metadata": {},
   "source": [
    "### Self-Report Sleep\n",
    "We start with self-report metrics of sleep quality."
   ]
  },
  {
   "cell_type": "code",
   "execution_count": 17,
   "metadata": {},
   "outputs": [
    {
     "data": {
      "text/html": [
       "<div>\n",
       "<style scoped>\n",
       "    .dataframe tbody tr th:only-of-type {\n",
       "        vertical-align: middle;\n",
       "    }\n",
       "\n",
       "    .dataframe tbody tr th {\n",
       "        vertical-align: top;\n",
       "    }\n",
       "\n",
       "    .dataframe thead th {\n",
       "        text-align: right;\n",
       "    }\n",
       "</style>\n",
       "<table border=\"1\" class=\"dataframe\">\n",
       "  <thead>\n",
       "    <tr style=\"text-align: right;\">\n",
       "      <th></th>\n",
       "      <th>timestamp</th>\n",
       "      <th>end_date</th>\n",
       "      <th>beiwe</th>\n",
       "      <th>redcap</th>\n",
       "      <th>beacon</th>\n",
       "      <th>tst</th>\n",
       "      <th>sol</th>\n",
       "      <th>naw</th>\n",
       "      <th>restful</th>\n",
       "      <th>tst_binary</th>\n",
       "      <th>sol_binary</th>\n",
       "      <th>naw_binary</th>\n",
       "      <th>restful_binary</th>\n",
       "    </tr>\n",
       "  </thead>\n",
       "  <tbody>\n",
       "    <tr>\n",
       "      <th>0</th>\n",
       "      <td>2020-05-13 09:10:27</td>\n",
       "      <td>2020-05-13</td>\n",
       "      <td>qh34m4r9</td>\n",
       "      <td>68</td>\n",
       "      <td>19.0</td>\n",
       "      <td>8.0</td>\n",
       "      <td>20.0</td>\n",
       "      <td>2.0</td>\n",
       "      <td>3.0</td>\n",
       "      <td>1</td>\n",
       "      <td>1</td>\n",
       "      <td>0</td>\n",
       "      <td>1</td>\n",
       "    </tr>\n",
       "    <tr>\n",
       "      <th>1</th>\n",
       "      <td>2020-05-13 09:15:49</td>\n",
       "      <td>2020-05-13</td>\n",
       "      <td>awa8uces</td>\n",
       "      <td>28</td>\n",
       "      <td>26.0</td>\n",
       "      <td>2.0</td>\n",
       "      <td>10.0</td>\n",
       "      <td>3.0</td>\n",
       "      <td>1.0</td>\n",
       "      <td>0</td>\n",
       "      <td>1</td>\n",
       "      <td>0</td>\n",
       "      <td>0</td>\n",
       "    </tr>\n",
       "    <tr>\n",
       "      <th>2</th>\n",
       "      <td>2020-05-13 09:42:19</td>\n",
       "      <td>2020-05-13</td>\n",
       "      <td>xxvnhauv</td>\n",
       "      <td>21</td>\n",
       "      <td>22.0</td>\n",
       "      <td>6.0</td>\n",
       "      <td>30.0</td>\n",
       "      <td>3.0</td>\n",
       "      <td>1.0</td>\n",
       "      <td>0</td>\n",
       "      <td>0</td>\n",
       "      <td>0</td>\n",
       "      <td>0</td>\n",
       "    </tr>\n",
       "    <tr>\n",
       "      <th>3</th>\n",
       "      <td>2020-05-13 09:43:27</td>\n",
       "      <td>2020-05-13</td>\n",
       "      <td>rvhdl2la</td>\n",
       "      <td>29</td>\n",
       "      <td>NaN</td>\n",
       "      <td>5.3</td>\n",
       "      <td>5.0</td>\n",
       "      <td>2.0</td>\n",
       "      <td>2.0</td>\n",
       "      <td>0</td>\n",
       "      <td>1</td>\n",
       "      <td>0</td>\n",
       "      <td>1</td>\n",
       "    </tr>\n",
       "    <tr>\n",
       "      <th>4</th>\n",
       "      <td>2020-05-13 10:11:51</td>\n",
       "      <td>2020-05-13</td>\n",
       "      <td>q5y11ytm</td>\n",
       "      <td>48</td>\n",
       "      <td>NaN</td>\n",
       "      <td>2.0</td>\n",
       "      <td>10.0</td>\n",
       "      <td>0.0</td>\n",
       "      <td>0.0</td>\n",
       "      <td>0</td>\n",
       "      <td>1</td>\n",
       "      <td>1</td>\n",
       "      <td>0</td>\n",
       "    </tr>\n",
       "  </tbody>\n",
       "</table>\n",
       "</div>"
      ],
      "text/plain": [
       "            timestamp   end_date     beiwe  redcap  beacon  tst   sol  naw  \\\n",
       "0 2020-05-13 09:10:27 2020-05-13  qh34m4r9      68    19.0  8.0  20.0  2.0   \n",
       "1 2020-05-13 09:15:49 2020-05-13  awa8uces      28    26.0  2.0  10.0  3.0   \n",
       "2 2020-05-13 09:42:19 2020-05-13  xxvnhauv      21    22.0  6.0  30.0  3.0   \n",
       "3 2020-05-13 09:43:27 2020-05-13  rvhdl2la      29     NaN  5.3   5.0  2.0   \n",
       "4 2020-05-13 10:11:51 2020-05-13  q5y11ytm      48     NaN  2.0  10.0  0.0   \n",
       "\n",
       "   restful  tst_binary  sol_binary  naw_binary  restful_binary  \n",
       "0      3.0           1           1           0               1  \n",
       "1      1.0           0           1           0               0  \n",
       "2      1.0           0           0           0               0  \n",
       "3      2.0           0           1           0               1  \n",
       "4      0.0           0           1           1               0  "
      ]
     },
     "execution_count": 17,
     "metadata": {},
     "output_type": "execute_result"
    }
   ],
   "source": [
    "for sm, f in zip([\"tst\",\"sol\",\"naw\",\"restful\"], [encode_tst,encode_sol,encode_naw,encode_likert]):\n",
    "    srsq[f\"{sm}_binary\"] = srsq.apply(lambda x: f(x[sm]), axis=\"columns\")\n",
    "    \n",
    "srsq.head()"
   ]
  },
  {
   "cell_type": "markdown",
   "metadata": {},
   "source": [
    "### Fitbit Sleep\n",
    "And now Fitbit-measured sleep quality."
   ]
  },
  {
   "cell_type": "code",
   "execution_count": 18,
   "metadata": {},
   "outputs": [
    {
     "data": {
      "text/html": [
       "<div>\n",
       "<style scoped>\n",
       "    .dataframe tbody tr th:only-of-type {\n",
       "        vertical-align: middle;\n",
       "    }\n",
       "\n",
       "    .dataframe tbody tr th {\n",
       "        vertical-align: top;\n",
       "    }\n",
       "\n",
       "    .dataframe thead th {\n",
       "        text-align: right;\n",
       "    }\n",
       "</style>\n",
       "<table border=\"1\" class=\"dataframe\">\n",
       "  <thead>\n",
       "    <tr style=\"text-align: right;\">\n",
       "      <th></th>\n",
       "      <th>start_time</th>\n",
       "      <th>end_time</th>\n",
       "      <th>start_date</th>\n",
       "      <th>end_date</th>\n",
       "      <th>beiwe</th>\n",
       "      <th>redcap</th>\n",
       "      <th>beacon</th>\n",
       "      <th>tst</th>\n",
       "      <th>se</th>\n",
       "      <th>rem_percent</th>\n",
       "      <th>light_percent</th>\n",
       "      <th>deep_percent</th>\n",
       "      <th>tst_binary</th>\n",
       "      <th>se_binary</th>\n",
       "      <th>rem_percent_binary</th>\n",
       "      <th>light_percent_binary</th>\n",
       "      <th>deep_percent_binary</th>\n",
       "    </tr>\n",
       "  </thead>\n",
       "  <tbody>\n",
       "    <tr>\n",
       "      <th>0</th>\n",
       "      <td>2020-05-14 00:27:00</td>\n",
       "      <td>2020-05-14 07:13:00</td>\n",
       "      <td>2020-05-14</td>\n",
       "      <td>2020-05-14</td>\n",
       "      <td>hfttkth7</td>\n",
       "      <td>NaN</td>\n",
       "      <td>NaN</td>\n",
       "      <td>6.316667</td>\n",
       "      <td>93.349754</td>\n",
       "      <td>0.216359</td>\n",
       "      <td>0.562005</td>\n",
       "      <td>0.221636</td>\n",
       "      <td>0</td>\n",
       "      <td>1</td>\n",
       "      <td>1</td>\n",
       "      <td>1</td>\n",
       "      <td>1</td>\n",
       "    </tr>\n",
       "    <tr>\n",
       "      <th>1</th>\n",
       "      <td>2020-05-14 23:53:30</td>\n",
       "      <td>2020-05-15 08:06:30</td>\n",
       "      <td>2020-05-14</td>\n",
       "      <td>2020-05-15</td>\n",
       "      <td>hfttkth7</td>\n",
       "      <td>NaN</td>\n",
       "      <td>NaN</td>\n",
       "      <td>6.533333</td>\n",
       "      <td>79.513185</td>\n",
       "      <td>0.119898</td>\n",
       "      <td>0.637755</td>\n",
       "      <td>0.242347</td>\n",
       "      <td>0</td>\n",
       "      <td>0</td>\n",
       "      <td>0</td>\n",
       "      <td>0</td>\n",
       "      <td>0</td>\n",
       "    </tr>\n",
       "    <tr>\n",
       "      <th>2</th>\n",
       "      <td>2020-05-15 23:28:00</td>\n",
       "      <td>2020-05-16 04:57:00</td>\n",
       "      <td>2020-05-15</td>\n",
       "      <td>2020-05-16</td>\n",
       "      <td>hfttkth7</td>\n",
       "      <td>NaN</td>\n",
       "      <td>NaN</td>\n",
       "      <td>4.783333</td>\n",
       "      <td>87.234043</td>\n",
       "      <td>0.174216</td>\n",
       "      <td>0.662021</td>\n",
       "      <td>0.163763</td>\n",
       "      <td>0</td>\n",
       "      <td>1</td>\n",
       "      <td>0</td>\n",
       "      <td>0</td>\n",
       "      <td>1</td>\n",
       "    </tr>\n",
       "    <tr>\n",
       "      <th>3</th>\n",
       "      <td>2020-05-17 02:01:30</td>\n",
       "      <td>2020-05-17 09:28:30</td>\n",
       "      <td>2020-05-17</td>\n",
       "      <td>2020-05-17</td>\n",
       "      <td>hfttkth7</td>\n",
       "      <td>NaN</td>\n",
       "      <td>NaN</td>\n",
       "      <td>6.716667</td>\n",
       "      <td>90.156600</td>\n",
       "      <td>0.205955</td>\n",
       "      <td>0.600496</td>\n",
       "      <td>0.193548</td>\n",
       "      <td>0</td>\n",
       "      <td>1</td>\n",
       "      <td>1</td>\n",
       "      <td>0</td>\n",
       "      <td>1</td>\n",
       "    </tr>\n",
       "    <tr>\n",
       "      <th>4</th>\n",
       "      <td>2020-05-18 00:24:00</td>\n",
       "      <td>2020-05-18 07:20:00</td>\n",
       "      <td>2020-05-18</td>\n",
       "      <td>2020-05-18</td>\n",
       "      <td>hfttkth7</td>\n",
       "      <td>NaN</td>\n",
       "      <td>NaN</td>\n",
       "      <td>5.850000</td>\n",
       "      <td>84.375000</td>\n",
       "      <td>0.250712</td>\n",
       "      <td>0.475783</td>\n",
       "      <td>0.273504</td>\n",
       "      <td>0</td>\n",
       "      <td>0</td>\n",
       "      <td>0</td>\n",
       "      <td>1</td>\n",
       "      <td>0</td>\n",
       "    </tr>\n",
       "  </tbody>\n",
       "</table>\n",
       "</div>"
      ],
      "text/plain": [
       "           start_time            end_time start_date   end_date     beiwe  \\\n",
       "0 2020-05-14 00:27:00 2020-05-14 07:13:00 2020-05-14 2020-05-14  hfttkth7   \n",
       "1 2020-05-14 23:53:30 2020-05-15 08:06:30 2020-05-14 2020-05-15  hfttkth7   \n",
       "2 2020-05-15 23:28:00 2020-05-16 04:57:00 2020-05-15 2020-05-16  hfttkth7   \n",
       "3 2020-05-17 02:01:30 2020-05-17 09:28:30 2020-05-17 2020-05-17  hfttkth7   \n",
       "4 2020-05-18 00:24:00 2020-05-18 07:20:00 2020-05-18 2020-05-18  hfttkth7   \n",
       "\n",
       "   redcap  beacon       tst         se  rem_percent  light_percent  \\\n",
       "0     NaN     NaN  6.316667  93.349754     0.216359       0.562005   \n",
       "1     NaN     NaN  6.533333  79.513185     0.119898       0.637755   \n",
       "2     NaN     NaN  4.783333  87.234043     0.174216       0.662021   \n",
       "3     NaN     NaN  6.716667  90.156600     0.205955       0.600496   \n",
       "4     NaN     NaN  5.850000  84.375000     0.250712       0.475783   \n",
       "\n",
       "   deep_percent  tst_binary  se_binary  rem_percent_binary  \\\n",
       "0      0.221636           0          1                   1   \n",
       "1      0.242347           0          0                   0   \n",
       "2      0.163763           0          1                   0   \n",
       "3      0.193548           0          1                   1   \n",
       "4      0.273504           0          0                   0   \n",
       "\n",
       "   light_percent_binary  deep_percent_binary  \n",
       "0                     1                    1  \n",
       "1                     0                    0  \n",
       "2                     0                    1  \n",
       "3                     0                    1  \n",
       "4                     1                    0  "
      ]
     },
     "execution_count": 18,
     "metadata": {},
     "output_type": "execute_result"
    }
   ],
   "source": [
    "for sm, f in zip([\"tst\",\"se\",\"rem_percent\",\"light_percent\",\"deep_percent\"], [encode_tst,encode_se,encode_rem,encode_light,encode_deep]):\n",
    "    fbsq[f\"{sm}_binary\"] = fbsq.apply(lambda x: f(x[sm]), axis=\"columns\")\n",
    "    \n",
    "fbsq.head()"
   ]
  },
  {
   "cell_type": "markdown",
   "metadata": {},
   "source": [
    "<a id=\"feature_engineering\" ></a>"
   ]
  },
  {
   "cell_type": "markdown",
   "metadata": {},
   "source": [
    "# Feature Engineering\n",
    "In the following cells, we encode the various features to binary outcomes and combine the features into one dataset. "
   ]
  },
  {
   "cell_type": "markdown",
   "metadata": {},
   "source": [
    "## Encoding\n",
    "We encode each of the features into a binary outcome."
   ]
  },
  {
   "cell_type": "markdown",
   "metadata": {},
   "source": [
    "### Activity\n",
    "\n",
    "#### Activity Level\n",
    "Encoding the activity levels can be accomplished by looking at recommendations from the American College of Sports Medicine. ACSM states that adults should do:\n",
    "* Moderate Intensity: 150 - 300 minutes per week, or\n",
    "* Vigorous: 75 - 150 minutes per week, or\n",
    "* Combination\n",
    "\n",
    "Fitbit divides activity level into multiple categories that are not exactly the same label as what the ACSM states. While the cutoff points are not very clear, they are most likely:\n",
    "* Sedentary: MET < 1\n",
    "* Light: MET < 3\n",
    "* Fairly: MET < 6 (ACSM Moderate)\n",
    "* Very: > 6 (ACSM Vigorous)\n",
    "\n",
    "We look on a per-day basis so the cutoffs discussed above can be altered:\n",
    "* Moderate: 21 - 43 minutes per day\n",
    "* Vigorous: 11 - 21 minutes per day\n",
    "\n",
    "We will start with what seems the most straightforward separation: getting enough moderate and vigorous activity per day. Based on the guidelines, one needs twice as many moderate minutes as vigorous minutes of activity. In order to address the \"combination\" category, we can multiply the number of vigorous minutes by 2 and add this value to the moderately active minutes which will allow us to compare this value to the moderately active minutes threshold. "
   ]
  },
  {
   "cell_type": "code",
   "execution_count": 19,
   "metadata": {},
   "outputs": [],
   "source": [
    "def encode_activity_level(row, moderate_threshold=21):\n",
    "    \"\"\"returns score of activity level\"\"\"\n",
    "    if row[\"fairly_active_minutes\"] + row[\"very_active_minutes\"]*2 > moderate_threshold:\n",
    "        return 1\n",
    "    else:\n",
    "        return 0"
   ]
  },
  {
   "cell_type": "markdown",
   "metadata": {},
   "source": [
    "#### Number of Steps\n",
    "An attainable goal that all adults should strive for is about 10,000 steps a day"
   ]
  },
  {
   "cell_type": "code",
   "execution_count": 20,
   "metadata": {},
   "outputs": [],
   "source": [
    "def econde_steps(value):\n",
    "    if value > 10000:\n",
    "        return 1\n",
    "    else:\n",
    "        return 0"
   ]
  },
  {
   "cell_type": "code",
   "execution_count": 21,
   "metadata": {},
   "outputs": [
    {
     "data": {
      "text/html": [
       "<div>\n",
       "<style scoped>\n",
       "    .dataframe tbody tr th:only-of-type {\n",
       "        vertical-align: middle;\n",
       "    }\n",
       "\n",
       "    .dataframe tbody tr th {\n",
       "        vertical-align: top;\n",
       "    }\n",
       "\n",
       "    .dataframe thead th {\n",
       "        text-align: right;\n",
       "    }\n",
       "</style>\n",
       "<table border=\"1\" class=\"dataframe\">\n",
       "  <thead>\n",
       "    <tr style=\"text-align: right;\">\n",
       "      <th></th>\n",
       "      <th>date</th>\n",
       "      <th>beiwe</th>\n",
       "      <th>steps</th>\n",
       "      <th>sedentary_minutes</th>\n",
       "      <th>lightly_active_minutes</th>\n",
       "      <th>fairly_active_minutes</th>\n",
       "      <th>very_active_minutes</th>\n",
       "      <th>active_binary</th>\n",
       "      <th>steps_binary</th>\n",
       "    </tr>\n",
       "  </thead>\n",
       "  <tbody>\n",
       "    <tr>\n",
       "      <th>0</th>\n",
       "      <td>2020-05-13</td>\n",
       "      <td>hfttkth7</td>\n",
       "      <td>9207</td>\n",
       "      <td>1241</td>\n",
       "      <td>70</td>\n",
       "      <td>118</td>\n",
       "      <td>11</td>\n",
       "      <td>1</td>\n",
       "      <td>0</td>\n",
       "    </tr>\n",
       "    <tr>\n",
       "      <th>1</th>\n",
       "      <td>2020-05-14</td>\n",
       "      <td>hfttkth7</td>\n",
       "      <td>15207</td>\n",
       "      <td>614</td>\n",
       "      <td>263</td>\n",
       "      <td>134</td>\n",
       "      <td>23</td>\n",
       "      <td>1</td>\n",
       "      <td>1</td>\n",
       "    </tr>\n",
       "    <tr>\n",
       "      <th>2</th>\n",
       "      <td>2020-05-15</td>\n",
       "      <td>hfttkth7</td>\n",
       "      <td>14556</td>\n",
       "      <td>577</td>\n",
       "      <td>205</td>\n",
       "      <td>57</td>\n",
       "      <td>108</td>\n",
       "      <td>1</td>\n",
       "      <td>1</td>\n",
       "    </tr>\n",
       "    <tr>\n",
       "      <th>3</th>\n",
       "      <td>2020-05-16</td>\n",
       "      <td>hfttkth7</td>\n",
       "      <td>18453</td>\n",
       "      <td>760</td>\n",
       "      <td>176</td>\n",
       "      <td>24</td>\n",
       "      <td>151</td>\n",
       "      <td>1</td>\n",
       "      <td>1</td>\n",
       "    </tr>\n",
       "    <tr>\n",
       "      <th>4</th>\n",
       "      <td>2020-05-17</td>\n",
       "      <td>hfttkth7</td>\n",
       "      <td>15425</td>\n",
       "      <td>605</td>\n",
       "      <td>207</td>\n",
       "      <td>50</td>\n",
       "      <td>131</td>\n",
       "      <td>1</td>\n",
       "      <td>1</td>\n",
       "    </tr>\n",
       "  </tbody>\n",
       "</table>\n",
       "</div>"
      ],
      "text/plain": [
       "        date     beiwe  steps  sedentary_minutes  lightly_active_minutes  \\\n",
       "0 2020-05-13  hfttkth7   9207               1241                      70   \n",
       "1 2020-05-14  hfttkth7  15207                614                     263   \n",
       "2 2020-05-15  hfttkth7  14556                577                     205   \n",
       "3 2020-05-16  hfttkth7  18453                760                     176   \n",
       "4 2020-05-17  hfttkth7  15425                605                     207   \n",
       "\n",
       "   fairly_active_minutes  very_active_minutes  active_binary  steps_binary  \n",
       "0                    118                   11              1             0  \n",
       "1                    134                   23              1             1  \n",
       "2                     57                  108              1             1  \n",
       "3                     24                  151              1             1  \n",
       "4                     50                  131              1             1  "
      ]
     },
     "execution_count": 21,
     "metadata": {},
     "output_type": "execute_result"
    }
   ],
   "source": [
    "activity[\"active_binary\"] = activity.apply(lambda row: encode_activity_level(row), axis=\"columns\")\n",
    "activity[\"steps_binary\"] = activity.apply(lambda x: econde_steps(x[\"steps\"]), axis=\"columns\")\n",
    "activity.head()"
   ]
  },
  {
   "cell_type": "markdown",
   "metadata": {},
   "source": [
    "### Mood\n",
    "Each of the mood scores (except for `energy`) are on the same Likert scale as `restful` so we can just use that function to encode the mood scores. For `energy`, there are only two negative responses so we will consider the `Neutral` response as a positive score which allows us to use the same function."
   ]
  },
  {
   "cell_type": "code",
   "execution_count": 22,
   "metadata": {},
   "outputs": [
    {
     "data": {
      "text/html": [
       "<div>\n",
       "<style scoped>\n",
       "    .dataframe tbody tr th:only-of-type {\n",
       "        vertical-align: middle;\n",
       "    }\n",
       "\n",
       "    .dataframe tbody tr th {\n",
       "        vertical-align: top;\n",
       "    }\n",
       "\n",
       "    .dataframe thead th {\n",
       "        text-align: right;\n",
       "    }\n",
       "</style>\n",
       "<table border=\"1\" class=\"dataframe\">\n",
       "  <thead>\n",
       "    <tr style=\"text-align: right;\">\n",
       "      <th></th>\n",
       "      <th>timestamp</th>\n",
       "      <th>beiwe</th>\n",
       "      <th>content</th>\n",
       "      <th>stress</th>\n",
       "      <th>lonely</th>\n",
       "      <th>sad</th>\n",
       "      <th>energy</th>\n",
       "      <th>redcap</th>\n",
       "      <th>beacon</th>\n",
       "      <th>date</th>\n",
       "      <th>content_binary</th>\n",
       "      <th>stress_binary</th>\n",
       "      <th>lonely_binary</th>\n",
       "      <th>sad_binary</th>\n",
       "      <th>energy_binary</th>\n",
       "    </tr>\n",
       "  </thead>\n",
       "  <tbody>\n",
       "    <tr>\n",
       "      <th>0</th>\n",
       "      <td>2020-05-13 19:00:23</td>\n",
       "      <td>awa8uces</td>\n",
       "      <td>1.0</td>\n",
       "      <td>1.0</td>\n",
       "      <td>1.0</td>\n",
       "      <td>3.0</td>\n",
       "      <td>2.0</td>\n",
       "      <td>28</td>\n",
       "      <td>26.0</td>\n",
       "      <td>2020-05-13</td>\n",
       "      <td>0</td>\n",
       "      <td>0</td>\n",
       "      <td>0</td>\n",
       "      <td>1</td>\n",
       "      <td>1</td>\n",
       "    </tr>\n",
       "    <tr>\n",
       "      <th>1</th>\n",
       "      <td>2020-05-13 19:21:32</td>\n",
       "      <td>lkkjddam</td>\n",
       "      <td>0.0</td>\n",
       "      <td>2.0</td>\n",
       "      <td>3.0</td>\n",
       "      <td>1.0</td>\n",
       "      <td>0.0</td>\n",
       "      <td>12</td>\n",
       "      <td>21.0</td>\n",
       "      <td>2020-05-13</td>\n",
       "      <td>0</td>\n",
       "      <td>1</td>\n",
       "      <td>1</td>\n",
       "      <td>0</td>\n",
       "      <td>0</td>\n",
       "    </tr>\n",
       "    <tr>\n",
       "      <th>2</th>\n",
       "      <td>2020-05-13 19:30:38</td>\n",
       "      <td>rvhdl2la</td>\n",
       "      <td>2.0</td>\n",
       "      <td>1.0</td>\n",
       "      <td>0.0</td>\n",
       "      <td>0.0</td>\n",
       "      <td>1.0</td>\n",
       "      <td>29</td>\n",
       "      <td>NaN</td>\n",
       "      <td>2020-05-13</td>\n",
       "      <td>1</td>\n",
       "      <td>0</td>\n",
       "      <td>0</td>\n",
       "      <td>0</td>\n",
       "      <td>0</td>\n",
       "    </tr>\n",
       "    <tr>\n",
       "      <th>3</th>\n",
       "      <td>2020-05-13 20:07:04</td>\n",
       "      <td>xxvnhauv</td>\n",
       "      <td>1.0</td>\n",
       "      <td>3.0</td>\n",
       "      <td>1.0</td>\n",
       "      <td>2.0</td>\n",
       "      <td>0.0</td>\n",
       "      <td>21</td>\n",
       "      <td>22.0</td>\n",
       "      <td>2020-05-13</td>\n",
       "      <td>0</td>\n",
       "      <td>1</td>\n",
       "      <td>0</td>\n",
       "      <td>1</td>\n",
       "      <td>0</td>\n",
       "    </tr>\n",
       "    <tr>\n",
       "      <th>4</th>\n",
       "      <td>2020-05-13 20:25:07</td>\n",
       "      <td>xdbdrk6e</td>\n",
       "      <td>2.0</td>\n",
       "      <td>1.0</td>\n",
       "      <td>2.0</td>\n",
       "      <td>1.0</td>\n",
       "      <td>3.0</td>\n",
       "      <td>23</td>\n",
       "      <td>24.0</td>\n",
       "      <td>2020-05-13</td>\n",
       "      <td>1</td>\n",
       "      <td>0</td>\n",
       "      <td>1</td>\n",
       "      <td>0</td>\n",
       "      <td>1</td>\n",
       "    </tr>\n",
       "  </tbody>\n",
       "</table>\n",
       "</div>"
      ],
      "text/plain": [
       "            timestamp     beiwe  content  stress  lonely  sad  energy  redcap  \\\n",
       "0 2020-05-13 19:00:23  awa8uces      1.0     1.0     1.0  3.0     2.0      28   \n",
       "1 2020-05-13 19:21:32  lkkjddam      0.0     2.0     3.0  1.0     0.0      12   \n",
       "2 2020-05-13 19:30:38  rvhdl2la      2.0     1.0     0.0  0.0     1.0      29   \n",
       "3 2020-05-13 20:07:04  xxvnhauv      1.0     3.0     1.0  2.0     0.0      21   \n",
       "4 2020-05-13 20:25:07  xdbdrk6e      2.0     1.0     2.0  1.0     3.0      23   \n",
       "\n",
       "   beacon       date  content_binary  stress_binary  lonely_binary  \\\n",
       "0    26.0 2020-05-13               0              0              0   \n",
       "1    21.0 2020-05-13               0              1              1   \n",
       "2     NaN 2020-05-13               1              0              0   \n",
       "3    22.0 2020-05-13               0              1              0   \n",
       "4    24.0 2020-05-13               1              0              1   \n",
       "\n",
       "   sad_binary  energy_binary  \n",
       "0           1              1  \n",
       "1           0              0  \n",
       "2           0              0  \n",
       "3           1              0  \n",
       "4           0              1  "
      ]
     },
     "execution_count": 22,
     "metadata": {},
     "output_type": "execute_result"
    }
   ],
   "source": [
    "for variable in [\"content\",\"stress\",\"lonely\",\"sad\",\"energy\"]:\n",
    "    mood[f\"{variable}_binary\"] = mood.apply(lambda x: encode_likert(x[variable]), axis=\"columns\")\n",
    "    \n",
    "mood.head()"
   ]
  },
  {
   "cell_type": "markdown",
   "metadata": {},
   "source": [
    "### IEQ\n",
    "For the IEQ data, we want to determine whether the concentrations are low or high depending on the participant's own environment. So the process will involve looking at each of the IEQ measurements from each participant, finding the mean of those nights, and then determining 1 (low) or 0 (high)."
   ]
  },
  {
   "cell_type": "code",
   "execution_count": 23,
   "metadata": {},
   "outputs": [],
   "source": [
    "def encode_ieq(value, threshold):\n",
    "    \"\"\"Scores the IEQ parameter\"\"\"\n",
    "    if value <= threshold:\n",
    "        return 1\n",
    "    else:\n",
    "        return 0"
   ]
  },
  {
   "cell_type": "code",
   "execution_count": 24,
   "metadata": {},
   "outputs": [
    {
     "data": {
      "text/html": [
       "<div>\n",
       "<style scoped>\n",
       "    .dataframe tbody tr th:only-of-type {\n",
       "        vertical-align: middle;\n",
       "    }\n",
       "\n",
       "    .dataframe tbody tr th {\n",
       "        vertical-align: top;\n",
       "    }\n",
       "\n",
       "    .dataframe thead th {\n",
       "        text-align: right;\n",
       "    }\n",
       "</style>\n",
       "<table border=\"1\" class=\"dataframe\">\n",
       "  <thead>\n",
       "    <tr style=\"text-align: right;\">\n",
       "      <th></th>\n",
       "      <th>start_time</th>\n",
       "      <th>end_time</th>\n",
       "      <th>end_date</th>\n",
       "      <th>beiwe</th>\n",
       "      <th>redcap</th>\n",
       "      <th>beacon</th>\n",
       "      <th>co2_median</th>\n",
       "      <th>co_median</th>\n",
       "      <th>pm2p5_mass_median</th>\n",
       "      <th>no2_median</th>\n",
       "      <th>temperature_c_median</th>\n",
       "      <th>rh_median</th>\n",
       "      <th>co2_median_binary</th>\n",
       "      <th>co_median_binary</th>\n",
       "      <th>pm2p5_mass_median_binary</th>\n",
       "      <th>no2_median_binary</th>\n",
       "      <th>temperature_c_median_binary</th>\n",
       "      <th>rh_median_binary</th>\n",
       "    </tr>\n",
       "  </thead>\n",
       "  <tbody>\n",
       "    <tr>\n",
       "      <th>0</th>\n",
       "      <td>2020-08-10 04:42:30</td>\n",
       "      <td>2020-08-10 12:35:30</td>\n",
       "      <td>2020-08-10</td>\n",
       "      <td>lkkjddam</td>\n",
       "      <td>12</td>\n",
       "      <td>21</td>\n",
       "      <td>1600.754959</td>\n",
       "      <td>10.359917</td>\n",
       "      <td>1.848583</td>\n",
       "      <td>1.593768</td>\n",
       "      <td>23.337500</td>\n",
       "      <td>33.0</td>\n",
       "      <td>0</td>\n",
       "      <td>0</td>\n",
       "      <td>1</td>\n",
       "      <td>1</td>\n",
       "      <td>1</td>\n",
       "      <td>1</td>\n",
       "    </tr>\n",
       "    <tr>\n",
       "      <th>1</th>\n",
       "      <td>2020-08-11 03:35:00</td>\n",
       "      <td>2020-08-11 12:36:30</td>\n",
       "      <td>2020-08-11</td>\n",
       "      <td>lkkjddam</td>\n",
       "      <td>12</td>\n",
       "      <td>21</td>\n",
       "      <td>1628.474180</td>\n",
       "      <td>6.429275</td>\n",
       "      <td>1.655522</td>\n",
       "      <td>1.597845</td>\n",
       "      <td>25.000000</td>\n",
       "      <td>34.0</td>\n",
       "      <td>0</td>\n",
       "      <td>1</td>\n",
       "      <td>1</td>\n",
       "      <td>1</td>\n",
       "      <td>0</td>\n",
       "      <td>0</td>\n",
       "    </tr>\n",
       "    <tr>\n",
       "      <th>2</th>\n",
       "      <td>2020-08-12 02:59:30</td>\n",
       "      <td>2020-08-12 10:52:30</td>\n",
       "      <td>2020-08-12</td>\n",
       "      <td>lkkjddam</td>\n",
       "      <td>12</td>\n",
       "      <td>21</td>\n",
       "      <td>1596.122408</td>\n",
       "      <td>10.271850</td>\n",
       "      <td>2.024990</td>\n",
       "      <td>1.603469</td>\n",
       "      <td>24.000000</td>\n",
       "      <td>33.0</td>\n",
       "      <td>0</td>\n",
       "      <td>0</td>\n",
       "      <td>1</td>\n",
       "      <td>0</td>\n",
       "      <td>1</td>\n",
       "      <td>1</td>\n",
       "    </tr>\n",
       "    <tr>\n",
       "      <th>3</th>\n",
       "      <td>2020-08-14 03:05:00</td>\n",
       "      <td>2020-08-14 11:23:30</td>\n",
       "      <td>2020-08-14</td>\n",
       "      <td>lkkjddam</td>\n",
       "      <td>12</td>\n",
       "      <td>21</td>\n",
       "      <td>1301.449844</td>\n",
       "      <td>7.232700</td>\n",
       "      <td>1.812659</td>\n",
       "      <td>1.592935</td>\n",
       "      <td>25.000000</td>\n",
       "      <td>33.0</td>\n",
       "      <td>1</td>\n",
       "      <td>1</td>\n",
       "      <td>1</td>\n",
       "      <td>1</td>\n",
       "      <td>0</td>\n",
       "      <td>1</td>\n",
       "    </tr>\n",
       "    <tr>\n",
       "      <th>4</th>\n",
       "      <td>2020-08-15 06:51:30</td>\n",
       "      <td>2020-08-15 11:30:00</td>\n",
       "      <td>2020-08-15</td>\n",
       "      <td>lkkjddam</td>\n",
       "      <td>12</td>\n",
       "      <td>21</td>\n",
       "      <td>1274.110350</td>\n",
       "      <td>10.886100</td>\n",
       "      <td>2.457356</td>\n",
       "      <td>1.606745</td>\n",
       "      <td>23.333333</td>\n",
       "      <td>34.0</td>\n",
       "      <td>1</td>\n",
       "      <td>0</td>\n",
       "      <td>0</td>\n",
       "      <td>0</td>\n",
       "      <td>1</td>\n",
       "      <td>0</td>\n",
       "    </tr>\n",
       "  </tbody>\n",
       "</table>\n",
       "</div>"
      ],
      "text/plain": [
       "           start_time            end_time   end_date     beiwe  redcap  \\\n",
       "0 2020-08-10 04:42:30 2020-08-10 12:35:30 2020-08-10  lkkjddam      12   \n",
       "1 2020-08-11 03:35:00 2020-08-11 12:36:30 2020-08-11  lkkjddam      12   \n",
       "2 2020-08-12 02:59:30 2020-08-12 10:52:30 2020-08-12  lkkjddam      12   \n",
       "3 2020-08-14 03:05:00 2020-08-14 11:23:30 2020-08-14  lkkjddam      12   \n",
       "4 2020-08-15 06:51:30 2020-08-15 11:30:00 2020-08-15  lkkjddam      12   \n",
       "\n",
       "   beacon   co2_median  co_median  pm2p5_mass_median  no2_median  \\\n",
       "0      21  1600.754959  10.359917           1.848583    1.593768   \n",
       "1      21  1628.474180   6.429275           1.655522    1.597845   \n",
       "2      21  1596.122408  10.271850           2.024990    1.603469   \n",
       "3      21  1301.449844   7.232700           1.812659    1.592935   \n",
       "4      21  1274.110350  10.886100           2.457356    1.606745   \n",
       "\n",
       "   temperature_c_median  rh_median  co2_median_binary  co_median_binary  \\\n",
       "0             23.337500       33.0                  0                 0   \n",
       "1             25.000000       34.0                  0                 1   \n",
       "2             24.000000       33.0                  0                 0   \n",
       "3             25.000000       33.0                  1                 1   \n",
       "4             23.333333       34.0                  1                 0   \n",
       "\n",
       "   pm2p5_mass_median_binary  no2_median_binary  temperature_c_median_binary  \\\n",
       "0                         1                  1                            1   \n",
       "1                         1                  1                            0   \n",
       "2                         1                  0                            1   \n",
       "3                         1                  1                            0   \n",
       "4                         0                  0                            1   \n",
       "\n",
       "   rh_median_binary  \n",
       "0                 1  \n",
       "1                 0  \n",
       "2                 1  \n",
       "3                 1  \n",
       "4                 0  "
      ]
     },
     "execution_count": 24,
     "metadata": {},
     "output_type": "execute_result"
    }
   ],
   "source": [
    "ieq_bi = pd.DataFrame()\n",
    "stat=\"median\"\n",
    "for pt in ieq[\"beiwe\"].unique():\n",
    "    ieq_pt = ieq[ieq[\"beiwe\"] == pt]\n",
    "    for pollutant in [\"co2\", \"co\",\"pm2p5_mass\",\"no2\",\"temperature_c\",\"rh\"]:\n",
    "        mean_night = np.nanmean(ieq_pt[f\"{pollutant}_{stat}\"])\n",
    "        ieq_pt[f\"{pollutant}_{stat}_binary\"] = ieq_pt.apply(lambda x: encode_ieq(x[f\"{pollutant}_{stat}\"],mean_night), axis=\"columns\")\n",
    "        \n",
    "    ieq_bi = ieq_bi.append(ieq_pt)\n",
    "    \n",
    "ieq_bi.head()"
   ]
  },
  {
   "cell_type": "markdown",
   "metadata": {},
   "source": [
    "## Correcting EMA Timestamp\n",
    "The EMAs are tricky because they can be submitted at any time. So we need to make sure that the `date` column we merge along corresponds to the correct end date of the Fitbit sleep event. "
   ]
  },
  {
   "cell_type": "code",
   "execution_count": 25,
   "metadata": {},
   "outputs": [],
   "source": [
    "def correct_ema_date(ema, fbs, threshold=3, verbose=True):\n",
    "    \"\"\"adds new column corresponding to the day when the participant woke\"\"\"\n",
    "    ema_with_dates = pd.DataFrame()\n",
    "    for pt in ema[\"beiwe\"].unique():\n",
    "        end_dates = []\n",
    "        if verbose:\n",
    "            print(\"Participant:\", pt)\n",
    "        # getting data per participant\n",
    "        ema_pt = ema[ema[\"beiwe\"] == pt]\n",
    "        try:\n",
    "            fb_pt = fbs[fbs[\"beiwe\"] == pt]\n",
    "        except KeyError:\n",
    "            if verbose:\n",
    "                print(\"\\tNo Fitbit Data\")\n",
    "            continue\n",
    "        # looping through submission times\n",
    "        for submission_time in ema_pt[\"timestamp\"]:\n",
    "            end_dates.append(np.nan) # appending to keep same length\n",
    "            fb_since = fb_pt[fb_pt[\"start_time\"] > submission_time] # Fitbit sleep data since the EMA was submitted\n",
    "            try:\n",
    "                dt = fb_since[\"start_time\"].iloc[0] - submission_time # get time difference between when the EMA was submitted and the Fitbit started logging data\n",
    "            except IndexError:\n",
    "                if verbose:\n",
    "                    print(\"\\tNo Fitbit Data after EMA submission of\", submission_time.date())\n",
    "                continue\n",
    "            if dt < timedelta(hours=threshold): # if the EMA was submitted a certain time before the sleep event, add the actual date\n",
    "                if submission_time.hour > 12:\n",
    "                    end_dates[-1] = submission_time.date() + timedelta(days=1)\n",
    "                else:\n",
    "                    end_dates[-1] = submission_time.date()\n",
    "                    \n",
    "        ema_pt[\"end_date\"] = pd.to_datetime(end_dates)\n",
    "        if verbose:\n",
    "            print((ema_pt[\"date\"] == ema_pt[\"end_date\"]).value_counts())\n",
    "            print()\n",
    "        ema_with_dates = ema_with_dates.append(ema_pt)\n",
    "        \n",
    "    return ema_with_dates"
   ]
  },
  {
   "cell_type": "markdown",
   "metadata": {},
   "source": [
    "We get a new mood dataframe with the `end_date` column which we will merge along."
   ]
  },
  {
   "cell_type": "code",
   "execution_count": 26,
   "metadata": {
    "scrolled": false
   },
   "outputs": [],
   "source": [
    "new_mood = correct_ema_date(mood, fbsq, threshold=5, verbose=False)"
   ]
  },
  {
   "cell_type": "markdown",
   "metadata": {},
   "source": [
    "## Correcting Activity Date\n",
    "The activity date corresponds to the day on which the participant was that active. Since all the other dates are relative to when the participant wakes up, we have to add a day to the activity data."
   ]
  },
  {
   "cell_type": "code",
   "execution_count": 27,
   "metadata": {},
   "outputs": [],
   "source": [
    "activity[\"end_date\"] = activity[\"date\"] + timedelta(days=1)"
   ]
  },
  {
   "cell_type": "markdown",
   "metadata": {},
   "source": [
    "## Combining\n",
    "Now that we have encoded all the target variables, we can combine them in different datasets to get a better sense of the available data for prediction. The common link between all the datasets will be the IEQ dataset since we are aiming to use those variables as a novel approach to prediction."
   ]
  },
  {
   "cell_type": "markdown",
   "metadata": {},
   "source": [
    "### IEQ Only\n",
    "Considering the base case: just IEQ observations."
   ]
  },
  {
   "cell_type": "code",
   "execution_count": 28,
   "metadata": {},
   "outputs": [
    {
     "name": "stdout",
     "output_type": "stream",
     "text": [
      "Number of observations: 395\n"
     ]
    }
   ],
   "source": [
    "print(\"Number of observations:\",len(ieq_bi))"
   ]
  },
  {
   "cell_type": "markdown",
   "metadata": {},
   "source": [
    "### Activity and IEQ"
   ]
  },
  {
   "cell_type": "code",
   "execution_count": 29,
   "metadata": {},
   "outputs": [
    {
     "name": "stdout",
     "output_type": "stream",
     "text": [
      "Number of observations: 374\n"
     ]
    },
    {
     "data": {
      "text/html": [
       "<div>\n",
       "<style scoped>\n",
       "    .dataframe tbody tr th:only-of-type {\n",
       "        vertical-align: middle;\n",
       "    }\n",
       "\n",
       "    .dataframe tbody tr th {\n",
       "        vertical-align: top;\n",
       "    }\n",
       "\n",
       "    .dataframe thead th {\n",
       "        text-align: right;\n",
       "    }\n",
       "</style>\n",
       "<table border=\"1\" class=\"dataframe\">\n",
       "  <thead>\n",
       "    <tr style=\"text-align: right;\">\n",
       "      <th></th>\n",
       "      <th>start_time</th>\n",
       "      <th>end_time</th>\n",
       "      <th>end_date</th>\n",
       "      <th>beiwe</th>\n",
       "      <th>redcap</th>\n",
       "      <th>beacon</th>\n",
       "      <th>co2_median</th>\n",
       "      <th>co_median</th>\n",
       "      <th>pm2p5_mass_median</th>\n",
       "      <th>no2_median</th>\n",
       "      <th>temperature_c_median</th>\n",
       "      <th>rh_median</th>\n",
       "      <th>co2_median_binary</th>\n",
       "      <th>co_median_binary</th>\n",
       "      <th>pm2p5_mass_median_binary</th>\n",
       "      <th>no2_median_binary</th>\n",
       "      <th>temperature_c_median_binary</th>\n",
       "      <th>rh_median_binary</th>\n",
       "      <th>date</th>\n",
       "      <th>steps</th>\n",
       "      <th>sedentary_minutes</th>\n",
       "      <th>lightly_active_minutes</th>\n",
       "      <th>fairly_active_minutes</th>\n",
       "      <th>very_active_minutes</th>\n",
       "      <th>active_binary</th>\n",
       "      <th>steps_binary</th>\n",
       "    </tr>\n",
       "  </thead>\n",
       "  <tbody>\n",
       "    <tr>\n",
       "      <th>0</th>\n",
       "      <td>2020-08-10 04:42:30</td>\n",
       "      <td>2020-08-10 12:35:30</td>\n",
       "      <td>2020-08-10</td>\n",
       "      <td>lkkjddam</td>\n",
       "      <td>12</td>\n",
       "      <td>21</td>\n",
       "      <td>1600.754959</td>\n",
       "      <td>10.359917</td>\n",
       "      <td>1.848583</td>\n",
       "      <td>1.593768</td>\n",
       "      <td>23.337500</td>\n",
       "      <td>33.0</td>\n",
       "      <td>0</td>\n",
       "      <td>0</td>\n",
       "      <td>1</td>\n",
       "      <td>1</td>\n",
       "      <td>1</td>\n",
       "      <td>1</td>\n",
       "      <td>2020-08-09</td>\n",
       "      <td>7975</td>\n",
       "      <td>715</td>\n",
       "      <td>320</td>\n",
       "      <td>13</td>\n",
       "      <td>0</td>\n",
       "      <td>0</td>\n",
       "      <td>0</td>\n",
       "    </tr>\n",
       "    <tr>\n",
       "      <th>1</th>\n",
       "      <td>2020-08-11 03:35:00</td>\n",
       "      <td>2020-08-11 12:36:30</td>\n",
       "      <td>2020-08-11</td>\n",
       "      <td>lkkjddam</td>\n",
       "      <td>12</td>\n",
       "      <td>21</td>\n",
       "      <td>1628.474180</td>\n",
       "      <td>6.429275</td>\n",
       "      <td>1.655522</td>\n",
       "      <td>1.597845</td>\n",
       "      <td>25.000000</td>\n",
       "      <td>34.0</td>\n",
       "      <td>0</td>\n",
       "      <td>1</td>\n",
       "      <td>1</td>\n",
       "      <td>1</td>\n",
       "      <td>0</td>\n",
       "      <td>0</td>\n",
       "      <td>2020-08-10</td>\n",
       "      <td>6247</td>\n",
       "      <td>656</td>\n",
       "      <td>311</td>\n",
       "      <td>0</td>\n",
       "      <td>0</td>\n",
       "      <td>0</td>\n",
       "      <td>0</td>\n",
       "    </tr>\n",
       "    <tr>\n",
       "      <th>2</th>\n",
       "      <td>2020-08-12 02:59:30</td>\n",
       "      <td>2020-08-12 10:52:30</td>\n",
       "      <td>2020-08-12</td>\n",
       "      <td>lkkjddam</td>\n",
       "      <td>12</td>\n",
       "      <td>21</td>\n",
       "      <td>1596.122408</td>\n",
       "      <td>10.271850</td>\n",
       "      <td>2.024990</td>\n",
       "      <td>1.603469</td>\n",
       "      <td>24.000000</td>\n",
       "      <td>33.0</td>\n",
       "      <td>0</td>\n",
       "      <td>0</td>\n",
       "      <td>1</td>\n",
       "      <td>0</td>\n",
       "      <td>1</td>\n",
       "      <td>1</td>\n",
       "      <td>2020-08-11</td>\n",
       "      <td>18556</td>\n",
       "      <td>499</td>\n",
       "      <td>232</td>\n",
       "      <td>83</td>\n",
       "      <td>85</td>\n",
       "      <td>1</td>\n",
       "      <td>1</td>\n",
       "    </tr>\n",
       "    <tr>\n",
       "      <th>3</th>\n",
       "      <td>2020-08-14 03:05:00</td>\n",
       "      <td>2020-08-14 11:23:30</td>\n",
       "      <td>2020-08-14</td>\n",
       "      <td>lkkjddam</td>\n",
       "      <td>12</td>\n",
       "      <td>21</td>\n",
       "      <td>1301.449844</td>\n",
       "      <td>7.232700</td>\n",
       "      <td>1.812659</td>\n",
       "      <td>1.592935</td>\n",
       "      <td>25.000000</td>\n",
       "      <td>33.0</td>\n",
       "      <td>1</td>\n",
       "      <td>1</td>\n",
       "      <td>1</td>\n",
       "      <td>1</td>\n",
       "      <td>0</td>\n",
       "      <td>1</td>\n",
       "      <td>2020-08-13</td>\n",
       "      <td>6611</td>\n",
       "      <td>630</td>\n",
       "      <td>225</td>\n",
       "      <td>37</td>\n",
       "      <td>0</td>\n",
       "      <td>1</td>\n",
       "      <td>0</td>\n",
       "    </tr>\n",
       "    <tr>\n",
       "      <th>4</th>\n",
       "      <td>2020-08-15 06:51:30</td>\n",
       "      <td>2020-08-15 11:30:00</td>\n",
       "      <td>2020-08-15</td>\n",
       "      <td>lkkjddam</td>\n",
       "      <td>12</td>\n",
       "      <td>21</td>\n",
       "      <td>1274.110350</td>\n",
       "      <td>10.886100</td>\n",
       "      <td>2.457356</td>\n",
       "      <td>1.606745</td>\n",
       "      <td>23.333333</td>\n",
       "      <td>34.0</td>\n",
       "      <td>1</td>\n",
       "      <td>0</td>\n",
       "      <td>0</td>\n",
       "      <td>0</td>\n",
       "      <td>1</td>\n",
       "      <td>0</td>\n",
       "      <td>2020-08-14</td>\n",
       "      <td>14831</td>\n",
       "      <td>565</td>\n",
       "      <td>292</td>\n",
       "      <td>3</td>\n",
       "      <td>82</td>\n",
       "      <td>1</td>\n",
       "      <td>1</td>\n",
       "    </tr>\n",
       "  </tbody>\n",
       "</table>\n",
       "</div>"
      ],
      "text/plain": [
       "           start_time            end_time   end_date     beiwe  redcap  \\\n",
       "0 2020-08-10 04:42:30 2020-08-10 12:35:30 2020-08-10  lkkjddam      12   \n",
       "1 2020-08-11 03:35:00 2020-08-11 12:36:30 2020-08-11  lkkjddam      12   \n",
       "2 2020-08-12 02:59:30 2020-08-12 10:52:30 2020-08-12  lkkjddam      12   \n",
       "3 2020-08-14 03:05:00 2020-08-14 11:23:30 2020-08-14  lkkjddam      12   \n",
       "4 2020-08-15 06:51:30 2020-08-15 11:30:00 2020-08-15  lkkjddam      12   \n",
       "\n",
       "   beacon   co2_median  co_median  pm2p5_mass_median  no2_median  \\\n",
       "0      21  1600.754959  10.359917           1.848583    1.593768   \n",
       "1      21  1628.474180   6.429275           1.655522    1.597845   \n",
       "2      21  1596.122408  10.271850           2.024990    1.603469   \n",
       "3      21  1301.449844   7.232700           1.812659    1.592935   \n",
       "4      21  1274.110350  10.886100           2.457356    1.606745   \n",
       "\n",
       "   temperature_c_median  rh_median  co2_median_binary  co_median_binary  \\\n",
       "0             23.337500       33.0                  0                 0   \n",
       "1             25.000000       34.0                  0                 1   \n",
       "2             24.000000       33.0                  0                 0   \n",
       "3             25.000000       33.0                  1                 1   \n",
       "4             23.333333       34.0                  1                 0   \n",
       "\n",
       "   pm2p5_mass_median_binary  no2_median_binary  temperature_c_median_binary  \\\n",
       "0                         1                  1                            1   \n",
       "1                         1                  1                            0   \n",
       "2                         1                  0                            1   \n",
       "3                         1                  1                            0   \n",
       "4                         0                  0                            1   \n",
       "\n",
       "   rh_median_binary       date  steps  sedentary_minutes  \\\n",
       "0                 1 2020-08-09   7975                715   \n",
       "1                 0 2020-08-10   6247                656   \n",
       "2                 1 2020-08-11  18556                499   \n",
       "3                 1 2020-08-13   6611                630   \n",
       "4                 0 2020-08-14  14831                565   \n",
       "\n",
       "   lightly_active_minutes  fairly_active_minutes  very_active_minutes  \\\n",
       "0                     320                     13                    0   \n",
       "1                     311                      0                    0   \n",
       "2                     232                     83                   85   \n",
       "3                     225                     37                    0   \n",
       "4                     292                      3                   82   \n",
       "\n",
       "   active_binary  steps_binary  \n",
       "0              0             0  \n",
       "1              0             0  \n",
       "2              1             1  \n",
       "3              1             0  \n",
       "4              1             1  "
      ]
     },
     "execution_count": 29,
     "metadata": {},
     "output_type": "execute_result"
    }
   ],
   "source": [
    "ieq_and_activity = ieq_bi.merge(right=activity,on=[\"end_date\",\"beiwe\"])\n",
    "print(\"Number of observations:\",len(ieq_and_activity))"
   ]
  },
  {
   "cell_type": "markdown",
   "metadata": {},
   "source": [
    "<div class=\"alert alert-block alert-success\">\n",
    " \n",
    "By including activity data, we only lose 21 observations from the original target dataset. This percent loss might even be smaller considering we haven't combined the data with the target datasets yet.\n",
    "    \n",
    "</div>"
   ]
  },
  {
   "cell_type": "markdown",
   "metadata": {},
   "source": [
    "### Mood and IEQ"
   ]
  },
  {
   "cell_type": "code",
   "execution_count": 30,
   "metadata": {},
   "outputs": [
    {
     "name": "stdout",
     "output_type": "stream",
     "text": [
      "Number of observations: 77\n"
     ]
    }
   ],
   "source": [
    "ieq_and_mood = ieq_bi.merge(right=new_mood,on=[\"end_date\",\"beiwe\",\"redcap\",\"beacon\"])\n",
    "print(\"Number of observations:\",len(ieq_and_mood))"
   ]
  },
  {
   "cell_type": "markdown",
   "metadata": {},
   "source": [
    "<div class=\"alert alert-block alert-danger\">\n",
    " \n",
    "Unfortunately the mood data is too sparsely represented and _dramatically_ reduces the amount of observations that we have.\n",
    "    \n",
    "</div>"
   ]
  },
  {
   "cell_type": "markdown",
   "metadata": {},
   "source": [
    "### Activity, Mood, and IEQ"
   ]
  },
  {
   "cell_type": "code",
   "execution_count": 31,
   "metadata": {},
   "outputs": [
    {
     "name": "stdout",
     "output_type": "stream",
     "text": [
      "Number of observations: 70\n"
     ]
    }
   ],
   "source": [
    "features_all = ieq_and_activity.merge(right=new_mood, on=[\"end_date\",\"beiwe\",\"redcap\",\"beacon\"])\n",
    "print(\"Number of observations:\",len(features_all))"
   ]
  },
  {
   "cell_type": "markdown",
   "metadata": {},
   "source": [
    "<div class=\"alert alert-block alert-danger\">\n",
    " \n",
    "Now looping in all three feature sets, we see that we only hae 70 observations to work with and this is before merging with the target datasets which would cut down our dataset even more. \n",
    "    \n",
    "</div>"
   ]
  },
  {
   "cell_type": "markdown",
   "metadata": {},
   "source": [
    "<a id=\"prediction\"></a>"
   ]
  },
  {
   "cell_type": "markdown",
   "metadata": {},
   "source": [
    "# Prediction\n",
    "Now that we have sufficiently explored the features, we can begin to try predicting various components of sleep quality. "
   ]
  },
  {
   "cell_type": "code",
   "execution_count": 69,
   "metadata": {},
   "outputs": [],
   "source": [
    "def get_features_and_targets(feature_set, target_set, target=\"tst\"):\n",
    "    \"\"\"gets feature set and target set for the same observations\"\"\"\n",
    "    # selecting only important target\n",
    "    target_set_reduced = target_set[[\"beiwe\",\"end_date\",f\"{target}_binary\"]]\n",
    "    # combining datasets to get overlapping observations\n",
    "    combined = feature_set.merge(right=target_set_reduced,on=[\"beiwe\",\"end_date\"])\n",
    "    combined_simple = combined[[column for column in combined.columns if column.endswith(\"binary\")]]\n",
    "    # splitting into features and targets\n",
    "    targets = combined_simple[[f\"{target}_binary\"]]\n",
    "    features = combined_simple.drop([f\"{target}_binary\"],axis=\"columns\")\n",
    "    return features, targets"
   ]
  },
  {
   "cell_type": "code",
   "execution_count": 70,
   "metadata": {},
   "outputs": [],
   "source": [
    "X, y = get_features_and_targets(ieq_bi,fbsq)"
   ]
  },
  {
   "cell_type": "markdown",
   "metadata": {},
   "source": [
    "## Model Parameters\n",
    "The majority of our target variables are continuous with the exception of `restful` and `se_rating`. For these variables, we will target a few regressors:\n",
    "* Generalized Linear Regressor\n",
    "* Support Vector Regression\n",
    "* Random Forest Regression"
   ]
  },
  {
   "cell_type": "code",
   "execution_count": 241,
   "metadata": {},
   "outputs": [],
   "source": [
    "from sklearn.linear_model import TweedieRegressor\n",
    "from sklearn.svm import SVR\n",
    "from sklearn.ensemble import RandomForestRegressor"
   ]
  },
  {
   "cell_type": "markdown",
   "metadata": {},
   "source": [
    "For categorical outcomes, we will target three classifiers:\n",
    "* Random Forest\n",
    "* Naive-Bayes"
   ]
  },
  {
   "cell_type": "code",
   "execution_count": 242,
   "metadata": {},
   "outputs": [],
   "source": [
    "from sklearn.ensemble import RandomForestClassifier, AdaBoostClassifier\n",
    "from sklearn.naive_bayes import GaussianNB, BernoulliNB\n",
    "\n",
    "from sklearn import metrics\n",
    "from sklearn.model_selection import train_test_split, GridSearchCV, cross_val_score"
   ]
  },
  {
   "cell_type": "markdown",
   "metadata": {},
   "source": [
    "## Prediction Class"
   ]
  },
  {
   "cell_type": "code",
   "execution_count": 338,
   "metadata": {},
   "outputs": [],
   "source": [
    "class ieq_and_sq_prediction:\n",
    "    \n",
    "    def __init__(self, data, feature_list, target_list):\n",
    "        self.feature_list = feature_list\n",
    "        # definining targets/features\n",
    "        self.data = data\n",
    "        self.features = data[feature_list]\n",
    "        self.targets = data[target_list]\n",
    "        # defining classifier model parameters\n",
    "        self.classifier_model_params = {\n",
    "            \"random_forest\": {\n",
    "                \"model\":RandomForestClassifier(random_state=42),\n",
    "                \"params\": {\n",
    "                    \"n_estimators\":[5,10,15,20,25],\n",
    "                    \"max_depth\":[2,3,4,5],\n",
    "                }\n",
    "            },\n",
    "            \"gnb\": {\n",
    "                \"model\":GaussianNB(),\n",
    "                \"params\": {\n",
    "                }\n",
    "            },\n",
    "            \"bnb\": {\n",
    "                \"model\":BernoulliNB(),\n",
    "                \"params\": {\n",
    "                }\n",
    "            }\n",
    "        }\n",
    "        self.regressor_model_params = {\n",
    "            \"linear\": {\n",
    "                \"model\":TweedieRegressor(max_iter=5000),\n",
    "                \"params\": {\n",
    "                    \"power\":[0,1,2],\n",
    "                }\n",
    "            },\n",
    "            \"svr\": {\n",
    "                \"model\":SVR(),\n",
    "                \"params\":{\n",
    "                    \"kernel\":[\"poly\",\"rbf\"]\n",
    "                }\n",
    "            },\n",
    "            \"random_forest\": {\n",
    "                \"model\":RandomForestRegressor(),\n",
    "                \"params\":{\n",
    "                    \"n_estimators\":[5,10,15,20,25],\n",
    "                    \"max_depth\":[2,3,4]\n",
    "                }\n",
    "            }\n",
    "        }\n",
    "    \n",
    "    def target_summary(self, target):\n",
    "        \"\"\"prints out a summary of the targets\"\"\"\n",
    "        for score in self.targets[target].unique():\n",
    "            print(f\"{score}: {len(self.targets[self.targets[target] == score])}\")\n",
    "            \n",
    "    def split_data(self, target, scale=True):\n",
    "        \"\"\"splits the data into a training and testing set\"\"\"\n",
    "        if scale:\n",
    "            for column in self.features.columns:\n",
    "                self.features[column] = (self.features[column] - self.features[column].min()) / (self.features[column].max() - self.features[column].min())\n",
    "                \n",
    "        try:\n",
    "            self.X_train, self.X_test, self.y_train, self.y_test = train_test_split(self.features, self.targets[target], test_size=0.33, random_state=10, stratify=self.targets[target])\n",
    "        except ValueError:\n",
    "            print(\"Not a classifier\")\n",
    "            self.X_train, self.X_test, self.y_train, self.y_test = train_test_split(self.features, self.targets[target], test_size=0.33, random_state=10)\n",
    "    \n",
    "    def optimize_models(self, model_type=\"classifier\"):\n",
    "        \"\"\"runs gridsearch cv\"\"\"\n",
    "        try:\n",
    "            i = 1\n",
    "            scores = []\n",
    "            if model_type == \"classifier\":\n",
    "                params = self.classifier_model_params\n",
    "            else:\n",
    "                params = self.regressor_model_params\n",
    "            while i < len(self.feature_list)+1:\n",
    "                for model_name, mp in params.items():\n",
    "                    clf = GridSearchCV(mp[\"model\"],mp[\"params\"],cv=5,return_train_score=False)\n",
    "                    clf.fit(self.X_train[self.feature_list[:i]],self.y_train)\n",
    "                    scores.append({\n",
    "                        \"model\":model_name,\n",
    "                        \"best_score\":clf.best_score_,\n",
    "                        \"best_params\":clf.best_params_,\n",
    "                        \"n_features\":i\n",
    "                    })\n",
    "                i+=1\n",
    "\n",
    "            results = pd.DataFrame(scores,columns=[\"model\",\"best_score\",\"best_params\",\"n_features\"])\n",
    "            results.sort_values([\"best_score\"],ascending=False,inplace=True)\n",
    "            print(f\"Highest Scoring Model:\")\n",
    "            best = results.iloc[0,:]\n",
    "            print(f\"\\tModel:\\t{best[0]}\\n\\tScore:\\t{round(best[1],3)}\\n\\tParameters:\\t{best[2]}\\n\\tNumber of Features:\\t{best[3]}\")\n",
    "            return results.sort_values([\"model\",\"n_features\"])\n",
    "        except AttributeError:\n",
    "            print(\"Need to split the data first with split_data()\")\n",
    "    \n",
    "    def train_model(self, model, features_to_include=[]):\n",
    "        \"\"\"trains the specified model\"\"\"\n",
    "        self.model = model\n",
    "        try:\n",
    "            if len(features_to_include) > 0:\n",
    "                self.X_train = self.X_train[features_to_include]\n",
    "                self.X_test = self.X_test[features_to_include]\n",
    "            self.model.fit(self.X_train,self.y_train)\n",
    "        except AttributeError:\n",
    "            print(\"Training data do not exist - run split_data()\")\n",
    "    \n",
    "    def predict(self, model_type=\"classifier\"):\n",
    "        \"\"\"gets the predicted results based on the model provided for the given target\"\"\"\n",
    "        print(self.model)\n",
    "        try:\n",
    "            self.predictions = self.model.predict(self.X_test)\n",
    "            if model_type == \"classifier\":\n",
    "                self.score = metrics.precision_score(self.y_test,self.predictions,average=\"weighted\")\n",
    "\n",
    "                scores = cross_val_score(self.model, self.X_train, self.y_train, cv=5, scoring='precision_weighted')\n",
    "                print(\"Cross Validation Scores:\")\n",
    "                for scr in scores:\n",
    "                    print(f\"\\t{scr}\")\n",
    "                print(f\"Average:{scores.mean()}\")\n",
    "            else:\n",
    "                self.score = metrics.r2_score(self.y_test,self.predictions)\n",
    "\n",
    "            print(f\"Model Score: {self.score}\")\n",
    "                \n",
    "        except AttributeError:\n",
    "            print(\"Missing attributes - make sure you split the data and trained the model\")\n",
    "        \n",
    "    def plot_confusion_matrix(self, save=False, target_label=\"\"):\n",
    "        \"\"\"plots confusion matrix\"\"\"\n",
    "        # get confusion matrix\n",
    "        cm = metrics.confusion_matrix(self.y_test,self.predictions)\n",
    "        cm_df = pd.DataFrame(cm)\n",
    "        # plot confusion matrix as heatmap\n",
    "        fig, ax = plt.subplots(figsize=(5,4))\n",
    "        sns.heatmap(cm_df,annot=True,cmap=\"Blues\",ax=ax)\n",
    "        ax.set_xlabel(\"Predicted Label\",fontsize=16)\n",
    "        ax.set_ylabel(\"True Label\",fontsize=16)\n",
    "        if save:\n",
    "            plt.savefig(f\"../../../Documents/sbac_2021/project/figures/confusion_matrix-{target_label}.pdf\")\n",
    "        plt.show()\n",
    "        plt.close()\n",
    "        \n",
    "    def plot_correlation(self,):\n",
    "        \"\"\"Plots the correlation between prediction and true\"\"\"\n",
    "        fig, ax = plt.subplots(figsize=(4,4))\n",
    "        sns.regplot(x=self.y_test,y=self.predictions,ax=ax)\n",
    "        for loc in [\"top\",\"right\"]:\n",
    "            ax.spines[loc].set_visible(False)\n",
    "\n",
    "        ax.set_xlabel(\"True Values\",fontsize=16)\n",
    "\n",
    "        ax.set_ylabel(\"Predictions\",fontsize=16)\n",
    "\n",
    "        r = np.corrcoef(self.y_test,self.predictions)\n",
    "        ax.set_title(f\"r$^2$: {round(r[1,0],2)}\",fontsize=14)\n",
    "\n",
    "        plt.show()\n",
    "        plt.close()"
   ]
  },
  {
   "cell_type": "markdown",
   "metadata": {},
   "source": [
    "<a id=\"fitbit-sleep-prediction\"></a>"
   ]
  },
  {
   "cell_type": "markdown",
   "metadata": {},
   "source": [
    "## Fitbit Sleep Targets\n",
    "We start by trying to predict some of the Fitbit sleep metrics."
   ]
  },
  {
   "cell_type": "code",
   "execution_count": 244,
   "metadata": {},
   "outputs": [],
   "source": [
    "fb_prediction = ieq_and_sq_prediction(ieq_and_fb,[var for var in ieq_and_fb.columns if var.endswith(\"median\")],[\"rem2nrem\",\"rem2nrem_binary\",\"tst_fb\",\"tst_binary\",\"waso\",\"waso_binary\",\"sol_fb\",\"se_binary\"])"
   ]
  },
  {
   "cell_type": "markdown",
   "metadata": {},
   "source": [
    "### TST - Continuous"
   ]
  },
  {
   "cell_type": "code",
   "execution_count": 245,
   "metadata": {},
   "outputs": [
    {
     "name": "stdout",
     "output_type": "stream",
     "text": [
      "Not a classifier\n",
      "Highest Scoring Model:\n",
      "\tModel:\trandom_forest\n",
      "\tScore:\t0.009\n",
      "\tParameters:\t{'max_depth': 3, 'n_estimators': 20}\n",
      "\tNumber of Features:\t2\n"
     ]
    }
   ],
   "source": [
    "fb_prediction.split_data(\"tst_fb\")\n",
    "res = fb_prediction.optimize_models(model_type=\"reg\")"
   ]
  },
  {
   "cell_type": "code",
   "execution_count": 246,
   "metadata": {},
   "outputs": [
    {
     "name": "stdout",
     "output_type": "stream",
     "text": [
      "RandomForestRegressor(max_depth=2, n_estimators=10)\n",
      "Model Score: 0.002019733256371281\n"
     ]
    },
    {
     "data": {
      "image/png": "[encoded data removed]",
      "text/plain": [
       "<Figure size 288x288 with 1 Axes>"
      ]
     },
     "metadata": {
      "needs_background": "light"
     },
     "output_type": "display_data"
    }
   ],
   "source": [
    "fb_prediction.train_model(RandomForestRegressor(max_depth=2,n_estimators=10),features_to_include=[\"co2_median\",\"rh_median\",\"co_median\",\"temperature_c_median\",\"tvoc_median\"])\n",
    "fb_prediction.predict(model_type=\"reg\")\n",
    "fb_prediction.plot_correlation()"
   ]
  },
  {
   "cell_type": "markdown",
   "metadata": {},
   "source": [
    "### TST - Binned\n",
    "Looking at the TST values after binning into low (0), typical (1), and high (0) categories."
   ]
  },
  {
   "cell_type": "code",
   "execution_count": 247,
   "metadata": {},
   "outputs": [
    {
     "name": "stdout",
     "output_type": "stream",
     "text": [
      "Highest Scoring Model:\n",
      "\tModel:\trandom_forest\n",
      "\tScore:\t0.692\n",
      "\tParameters:\t{'max_depth': 2, 'n_estimators': 20}\n",
      "\tNumber of Features:\t5\n"
     ]
    }
   ],
   "source": [
    "fb_prediction.split_data(\"tst_binary\")\n",
    "res = fb_prediction.optimize_models()"
   ]
  },
  {
   "cell_type": "code",
   "execution_count": 248,
   "metadata": {},
   "outputs": [
    {
     "name": "stdout",
     "output_type": "stream",
     "text": [
      "GaussianNB()\n",
      "Cross Validation Scores:\n",
      "\t0.37345679012345684\n",
      "\t0.6561747506019953\n",
      "\t0.40040876997398744\n",
      "\t0.545578231292517\n",
      "\t0.6488721804511278\n",
      "Average:0.5248981444886168\n",
      "Model Score: 0.569261136676867\n"
     ]
    },
    {
     "data": {
      "image/png": "[encoded data removed]",
      "text/plain": [
       "<Figure size 360x288 with 2 Axes>"
      ]
     },
     "metadata": {
      "needs_background": "light"
     },
     "output_type": "display_data"
    }
   ],
   "source": [
    "#fb_prediction.train_model(RandomForestClassifier(n_estimators=20,max_depth=2),features_to_include=[\"co2_median\",\"rh_median\",\"co_median\",\"temperature_c_median\"])\n",
    "fb_prediction.train_model(GaussianNB(),features_to_include=[\"co2_median\"])\n",
    "fb_prediction.predict()\n",
    "fb_prediction.plot_confusion_matrix()"
   ]
  },
  {
   "cell_type": "markdown",
   "metadata": {},
   "source": [
    "### WASO - Continuous"
   ]
  },
  {
   "cell_type": "code",
   "execution_count": 249,
   "metadata": {},
   "outputs": [
    {
     "name": "stdout",
     "output_type": "stream",
     "text": [
      "Not a classifier\n",
      "Highest Scoring Model:\n",
      "\tModel:\tlinear\n",
      "\tScore:\t0.003\n",
      "\tParameters:\t{'power': 1}\n",
      "\tNumber of Features:\t6\n"
     ]
    }
   ],
   "source": [
    "fb_prediction.split_data(\"waso\")\n",
    "res = fb_prediction.optimize_models(model_type=\"reg\")"
   ]
  },
  {
   "cell_type": "code",
   "execution_count": 250,
   "metadata": {},
   "outputs": [
    {
     "name": "stdout",
     "output_type": "stream",
     "text": [
      "RandomForestRegressor(max_depth=4, n_estimators=25)\n",
      "Model Score: -0.06139176898330878\n"
     ]
    },
    {
     "data": {
      "image/png": "[encoded data removed]",
      "text/plain": [
       "<Figure size 288x288 with 1 Axes>"
      ]
     },
     "metadata": {
      "needs_background": "light"
     },
     "output_type": "display_data"
    }
   ],
   "source": [
    "fb_prediction.train_model(RandomForestRegressor(max_depth=4,n_estimators=25),features_to_include=[\"co2_median\",\"rh_median\",\"co_median\",\"temperature_c_median\",\"tvoc_median\"])\n",
    "fb_prediction.predict(model_type=\"reg\")\n",
    "fb_prediction.plot_correlation()"
   ]
  },
  {
   "cell_type": "markdown",
   "metadata": {},
   "source": [
    "### WASO - Binned"
   ]
  },
  {
   "cell_type": "code",
   "execution_count": 251,
   "metadata": {},
   "outputs": [
    {
     "name": "stdout",
     "output_type": "stream",
     "text": [
      "Highest Scoring Model:\n",
      "\tModel:\trandom_forest\n",
      "\tScore:\t0.607\n",
      "\tParameters:\t{'max_depth': 5, 'n_estimators': 5}\n",
      "\tNumber of Features:\t2\n"
     ]
    }
   ],
   "source": [
    "fb_prediction.split_data(\"waso_binary\")\n",
    "res = fb_prediction.optimize_models()"
   ]
  },
  {
   "cell_type": "code",
   "execution_count": 252,
   "metadata": {},
   "outputs": [
    {
     "name": "stdout",
     "output_type": "stream",
     "text": [
      "RandomForestClassifier(max_depth=3, n_estimators=15)\n",
      "Cross Validation Scores:\n",
      "\t0.40854978354978355\n",
      "\t0.48353909465020567\n",
      "\t0.5063492063492063\n",
      "\t0.6027972027972028\n",
      "\t0.5151260504201681\n",
      "Average:0.5032722675533133\n",
      "Model Score: 0.5341924157303372\n"
     ]
    },
    {
     "data": {
      "image/png": "[encoded data removed]",
      "text/plain": [
       "<Figure size 360x288 with 2 Axes>"
      ]
     },
     "metadata": {
      "needs_background": "light"
     },
     "output_type": "display_data"
    }
   ],
   "source": [
    "fb_prediction.train_model(RandomForestClassifier(max_depth=3,n_estimators=15),features_to_include=[\"co2_median\",\"rh_median\",\"co_median\",\"temperature_c_median\",\"tvoc_median\",\"pm2p5_mass_median\"])\n",
    "fb_prediction.predict()\n",
    "fb_prediction.plot_confusion_matrix()"
   ]
  },
  {
   "cell_type": "markdown",
   "metadata": {},
   "source": [
    "### REM:nREM - Continuous"
   ]
  },
  {
   "cell_type": "code",
   "execution_count": 253,
   "metadata": {},
   "outputs": [
    {
     "name": "stdout",
     "output_type": "stream",
     "text": [
      "Not a classifier\n",
      "Highest Scoring Model:\n",
      "\tModel:\trandom_forest\n",
      "\tScore:\t0.055\n",
      "\tParameters:\t{'max_depth': 3, 'n_estimators': 25}\n",
      "\tNumber of Features:\t6\n"
     ]
    }
   ],
   "source": [
    "fb_prediction.split_data(\"rem2nrem\")\n",
    "res = fb_prediction.optimize_models(model_type=\"reg\")"
   ]
  },
  {
   "cell_type": "code",
   "execution_count": 254,
   "metadata": {},
   "outputs": [
    {
     "name": "stdout",
     "output_type": "stream",
     "text": [
      "SVR()\n",
      "Model Score: 0.17957535546170378\n"
     ]
    },
    {
     "data": {
      "image/png": "[encoded data removed]",
      "text/plain": [
       "<Figure size 288x288 with 1 Axes>"
      ]
     },
     "metadata": {
      "needs_background": "light"
     },
     "output_type": "display_data"
    }
   ],
   "source": [
    "fb_prediction.train_model(SVR(kernel=\"rbf\"),features_to_include=[\"co2_median\",\"rh_median\",\"co_median\",\"temperature_c_median\"])\n",
    "fb_prediction.predict(model_type=\"reg\")\n",
    "fb_prediction.plot_correlation()"
   ]
  },
  {
   "cell_type": "markdown",
   "metadata": {},
   "source": [
    "### REM:nREM - Binary"
   ]
  },
  {
   "cell_type": "code",
   "execution_count": 255,
   "metadata": {},
   "outputs": [
    {
     "name": "stdout",
     "output_type": "stream",
     "text": [
      "Highest Scoring Model:\n",
      "\tModel:\trandom_forest\n",
      "\tScore:\t0.59\n",
      "\tParameters:\t{'max_depth': 5, 'n_estimators': 20}\n",
      "\tNumber of Features:\t3\n"
     ]
    }
   ],
   "source": [
    "fb_prediction.split_data(\"rem2nrem_binary\")\n",
    "res = fb_prediction.optimize_models()"
   ]
  },
  {
   "cell_type": "code",
   "execution_count": 256,
   "metadata": {},
   "outputs": [
    {
     "name": "stdout",
     "output_type": "stream",
     "text": [
      "RandomForestClassifier(max_depth=4, n_estimators=10)\n",
      "Cross Validation Scores:\n",
      "\t0.5\n",
      "\t0.42002063983488136\n",
      "\t0.6510416666666666\n",
      "\t0.5387755102040815\n",
      "\t0.6133333333333334\n",
      "Average:0.5446342300077925\n",
      "Model Score: 0.6044815342568152\n"
     ]
    },
    {
     "data": {
      "image/png": "[encoded data removed]",
      "text/plain": [
       "<Figure size 360x288 with 2 Axes>"
      ]
     },
     "metadata": {
      "needs_background": "light"
     },
     "output_type": "display_data"
    }
   ],
   "source": [
    "fb_prediction.train_model(RandomForestClassifier(max_depth=4,n_estimators=10),features_to_include=[\"co2_median\",\"rh_median\",\"co_median\",\"temperature_c_median\",\"tvoc_median\"])\n",
    "fb_prediction.predict()\n",
    "fb_prediction.plot_confusion_matrix()"
   ]
  },
  {
   "cell_type": "markdown",
   "metadata": {},
   "source": [
    "### Sleep Efficiency - Binned"
   ]
  },
  {
   "cell_type": "code",
   "execution_count": 257,
   "metadata": {},
   "outputs": [
    {
     "name": "stdout",
     "output_type": "stream",
     "text": [
      "Highest Scoring Model:\n",
      "\tModel:\tbnb\n",
      "\tScore:\t0.775\n",
      "\tParameters:\t{}\n",
      "\tNumber of Features:\t3\n"
     ]
    }
   ],
   "source": [
    "fb_prediction.split_data(\"se_binary\")\n",
    "res = fb_prediction.optimize_models()"
   ]
  },
  {
   "cell_type": "code",
   "execution_count": 258,
   "metadata": {},
   "outputs": [
    {
     "name": "stdout",
     "output_type": "stream",
     "text": [
      "RandomForestClassifier(max_depth=3, n_estimators=10)\n",
      "Cross Validation Scores:\n",
      "\t0.6049382716049383\n",
      "\t0.5892255892255892\n",
      "\t0.6631944444444444\n",
      "\t0.5657142857142856\n",
      "\t0.5785714285714286\n",
      "Average:0.6003288039121373\n",
      "Model Score: 0.5990806945863126\n"
     ]
    },
    {
     "data": {
      "image/png": "[encoded data removed]",
      "text/plain": [
       "<Figure size 360x288 with 2 Axes>"
      ]
     },
     "metadata": {
      "needs_background": "light"
     },
     "output_type": "display_data"
    }
   ],
   "source": [
    "fb_prediction.train_model(RandomForestClassifier(n_estimators=10,max_depth=3),features_to_include=[\"co2_median\",\"rh_median\",\"temperature_c_median\"])\n",
    "fb_prediction.predict()\n",
    "fb_prediction.plot_confusion_matrix()"
   ]
  },
  {
   "cell_type": "markdown",
   "metadata": {},
   "source": [
    "<a id=\"self-report-sleep-prediction\"></a>"
   ]
  },
  {
   "cell_type": "markdown",
   "metadata": {},
   "source": [
    "## Self-Reports Sleep Targets"
   ]
  },
  {
   "cell_type": "code",
   "execution_count": 259,
   "metadata": {},
   "outputs": [],
   "source": [
    "bw_prediction = ieq_and_sq_prediction(ieq_and_bw,[var for var in ieq_and_bw.columns if var.endswith(\"median\")],[\"tst\",\"tst_binary\",\"sol\",\"sol_binary\",\"naw_binary\",\"restful_binary\"])"
   ]
  },
  {
   "cell_type": "markdown",
   "metadata": {},
   "source": [
    "### TST - Continuous"
   ]
  },
  {
   "cell_type": "code",
   "execution_count": 260,
   "metadata": {},
   "outputs": [
    {
     "name": "stdout",
     "output_type": "stream",
     "text": [
      "Not a classifier\n",
      "Highest Scoring Model:\n",
      "\tModel:\trandom_forest\n",
      "\tScore:\t0.124\n",
      "\tParameters:\t{'max_depth': 4, 'n_estimators': 25}\n",
      "\tNumber of Features:\t6\n"
     ]
    }
   ],
   "source": [
    "bw_prediction.split_data(\"tst\")\n",
    "res = bw_prediction.optimize_models(model_type=\"reg\")"
   ]
  },
  {
   "cell_type": "code",
   "execution_count": 261,
   "metadata": {},
   "outputs": [
    {
     "name": "stdout",
     "output_type": "stream",
     "text": [
      "RandomForestRegressor(max_depth=3, n_estimators=20)\n",
      "Model Score: -0.025373514811966924\n"
     ]
    },
    {
     "data": {
      "image/png": "[encoded data removed]",
      "text/plain": [
       "<Figure size 288x288 with 1 Axes>"
      ]
     },
     "metadata": {
      "needs_background": "light"
     },
     "output_type": "display_data"
    }
   ],
   "source": [
    "bw_prediction.train_model(RandomForestRegressor(max_depth=3,n_estimators=20),features_to_include=[\"co2_median\",\"rh_median\",\"co_median\",\"temperature_c_median\",\"tvoc_median\",\"pm2p5_mass_median\"])\n",
    "bw_prediction.predict(model_type=\"reg\")\n",
    "bw_prediction.plot_correlation()"
   ]
  },
  {
   "cell_type": "markdown",
   "metadata": {},
   "source": [
    "### TST - Binned"
   ]
  },
  {
   "cell_type": "code",
   "execution_count": 262,
   "metadata": {},
   "outputs": [
    {
     "name": "stdout",
     "output_type": "stream",
     "text": [
      "Highest Scoring Model:\n",
      "\tModel:\tgnb\n",
      "\tScore:\t0.699\n",
      "\tParameters:\t{}\n",
      "\tNumber of Features:\t1\n"
     ]
    }
   ],
   "source": [
    "bw_prediction.split_data(\"tst_binary\")\n",
    "res = bw_prediction.optimize_models()"
   ]
  },
  {
   "cell_type": "code",
   "execution_count": 263,
   "metadata": {},
   "outputs": [
    {
     "name": "stdout",
     "output_type": "stream",
     "text": [
      "RandomForestClassifier(max_depth=4, n_estimators=15)\n",
      "Cross Validation Scores:\n",
      "\t0.6885714285714286\n",
      "\t0.8016666666666667\n",
      "\t0.8016666666666667\n",
      "\t0.47222222222222215\n",
      "\t0.6031746031746031\n",
      "Average:0.6734603174603175\n",
      "Model Score: 0.45491803278688525\n"
     ]
    },
    {
     "data": {
      "image/png": "[encoded data removed]",
      "text/plain": [
       "<Figure size 360x288 with 2 Axes>"
      ]
     },
     "metadata": {
      "needs_background": "light"
     },
     "output_type": "display_data"
    }
   ],
   "source": [
    "bw_prediction.train_model(RandomForestClassifier(max_depth=4,n_estimators=15),features_to_include=[\"co2_median\",\"rh_median\",\"co_median\"])\n",
    "bw_prediction.predict()\n",
    "bw_prediction.plot_confusion_matrix()"
   ]
  },
  {
   "cell_type": "markdown",
   "metadata": {},
   "source": [
    "### SOL - Binned"
   ]
  },
  {
   "cell_type": "code",
   "execution_count": 264,
   "metadata": {},
   "outputs": [
    {
     "name": "stdout",
     "output_type": "stream",
     "text": [
      "Highest Scoring Model:\n",
      "\tModel:\tgnb\n",
      "\tScore:\t0.813\n",
      "\tParameters:\t{}\n",
      "\tNumber of Features:\t6\n"
     ]
    }
   ],
   "source": [
    "bw_prediction.split_data(\"sol_binary\")\n",
    "res = bw_prediction.optimize_models()"
   ]
  },
  {
   "cell_type": "code",
   "execution_count": 265,
   "metadata": {},
   "outputs": [
    {
     "name": "stdout",
     "output_type": "stream",
     "text": [
      "RandomForestClassifier(max_depth=2, n_estimators=15)\n",
      "Cross Validation Scores:\n",
      "\t0.5617391304347826\n",
      "\t0.5776\n",
      "\t0.5776\n",
      "\t0.626736111111111\n",
      "\t0.5625\n",
      "Average:0.5812350483091787\n",
      "Model Score: 0.568664337543671\n"
     ]
    },
    {
     "data": {
      "image/png": "[encoded data removed]",
      "text/plain": [
       "<Figure size 360x288 with 2 Axes>"
      ]
     },
     "metadata": {
      "needs_background": "light"
     },
     "output_type": "display_data"
    }
   ],
   "source": [
    "bw_prediction.train_model(RandomForestClassifier(max_depth=2,n_estimators=15),features_to_include=[\"co2_median\"])\n",
    "bw_prediction.predict()\n",
    "bw_prediction.plot_confusion_matrix()"
   ]
  },
  {
   "cell_type": "markdown",
   "metadata": {},
   "source": [
    "### NAW - Binned"
   ]
  },
  {
   "cell_type": "code",
   "execution_count": 266,
   "metadata": {},
   "outputs": [
    {
     "name": "stdout",
     "output_type": "stream",
     "text": [
      "Highest Scoring Model:\n",
      "\tModel:\tgnb\n",
      "\tScore:\t0.845\n",
      "\tParameters:\t{}\n",
      "\tNumber of Features:\t6\n"
     ]
    }
   ],
   "source": [
    "bw_prediction.split_data(\"naw_binary\")\n",
    "res = bw_prediction.optimize_models()"
   ]
  },
  {
   "cell_type": "code",
   "execution_count": 267,
   "metadata": {},
   "outputs": [
    {
     "name": "stdout",
     "output_type": "stream",
     "text": [
      "GaussianNB()\n",
      "Cross Validation Scores:\n",
      "\t0.9284210526315789\n",
      "\t0.8704761904761905\n",
      "\t0.7952380952380953\n",
      "\t0.8333333333333334\n",
      "\t0.8523809523809524\n",
      "Average:0.8559699248120302\n",
      "Model Score: 0.7081254454739844\n"
     ]
    },
    {
     "data": {
      "image/png": "[encoded data removed]",
      "text/plain": [
       "<Figure size 360x288 with 2 Axes>"
      ]
     },
     "metadata": {
      "needs_background": "light"
     },
     "output_type": "display_data"
    }
   ],
   "source": [
    "bw_prediction.train_model(GaussianNB(),features_to_include=[\"co2_median\",\"rh_median\",\"co_median\",\"temperature_c_median\",\"tvoc_median\",\"pm2p5_mass_median\"])\n",
    "bw_prediction.predict()\n",
    "bw_prediction.plot_confusion_matrix()"
   ]
  },
  {
   "cell_type": "markdown",
   "metadata": {},
   "source": [
    "### Restful"
   ]
  },
  {
   "cell_type": "code",
   "execution_count": 268,
   "metadata": {},
   "outputs": [
    {
     "name": "stdout",
     "output_type": "stream",
     "text": [
      "Highest Scoring Model:\n",
      "\tModel:\trandom_forest\n",
      "\tScore:\t0.878\n",
      "\tParameters:\t{'max_depth': 5, 'n_estimators': 20}\n",
      "\tNumber of Features:\t6\n"
     ]
    }
   ],
   "source": [
    "bw_prediction.split_data(\"restful_binary\")\n",
    "res = bw_prediction.optimize_models()"
   ]
  },
  {
   "cell_type": "code",
   "execution_count": 269,
   "metadata": {},
   "outputs": [
    {
     "name": "stdout",
     "output_type": "stream",
     "text": [
      "RandomForestClassifier(max_depth=2, n_estimators=20)\n",
      "Cross Validation Scores:\n",
      "\t0.7744\n",
      "\t0.7\n",
      "\t0.7056\n",
      "\t0.765625\n",
      "\t0.765625\n",
      "Average:0.74225\n",
      "Model Score: 0.8106418449569326\n"
     ]
    },
    {
     "data": {
      "image/png": "[encoded data removed]",
      "text/plain": [
       "<Figure size 360x288 with 2 Axes>"
      ]
     },
     "metadata": {
      "needs_background": "light"
     },
     "output_type": "display_data"
    }
   ],
   "source": [
    "bw_prediction.train_model(RandomForestClassifier(max_depth=2,n_estimators=20),features_to_include=[\"co2_median\",\"rh_median\",\"co_median\",\"temperature_c_median\"])\n",
    "bw_prediction.predict()\n",
    "bw_prediction.plot_confusion_matrix()"
   ]
  },
  {
   "cell_type": "markdown",
   "metadata": {},
   "source": [
    "<a id=\"prediction_encoded\"></a>"
   ]
  },
  {
   "cell_type": "markdown",
   "metadata": {},
   "source": [
    "# Prediction with Encoded Features\n",
    "Here we repeat a large portion of the analysis, but considering features that have been encoded."
   ]
  },
  {
   "cell_type": "markdown",
   "metadata": {},
   "source": [
    "## Fitbit Sleep Targets"
   ]
  },
  {
   "cell_type": "code",
   "execution_count": 270,
   "metadata": {},
   "outputs": [],
   "source": [
    "fb_prediction = ieq_and_sq_prediction(ieq_and_fb_binned,[var for var in ieq_and_fb_binned.columns if var.endswith(\"median\")],[\"rem2nrem_binary\",\"tst_binary\",\"waso_binary\",\"se_binary\"])"
   ]
  },
  {
   "cell_type": "markdown",
   "metadata": {},
   "source": [
    "### TST"
   ]
  },
  {
   "cell_type": "code",
   "execution_count": 271,
   "metadata": {},
   "outputs": [
    {
     "name": "stdout",
     "output_type": "stream",
     "text": [
      "Highest Scoring Model:\n",
      "\tModel:\tbnb\n",
      "\tScore:\t0.63\n",
      "\tParameters:\t{}\n",
      "\tNumber of Features:\t5\n"
     ]
    }
   ],
   "source": [
    "fb_prediction.split_data(\"tst_binary\")\n",
    "res = fb_prediction.optimize_models()"
   ]
  },
  {
   "cell_type": "code",
   "execution_count": 272,
   "metadata": {},
   "outputs": [
    {
     "name": "stdout",
     "output_type": "stream",
     "text": [
      "RandomForestClassifier(max_depth=4, n_estimators=20, random_state=42)\n",
      "Cross Validation Scores:\n",
      "\t0.6345224823485692\n",
      "\t0.4444444444444444\n",
      "\t0.5301075268817205\n",
      "\t0.5350529100529101\n",
      "\t0.5466666666666666\n",
      "Average:0.5381588060788622\n",
      "Model Score: 0.6408527801786229\n"
     ]
    },
    {
     "data": {
      "image/png": "[encoded data removed]",
      "text/plain": [
       "<Figure size 360x288 with 2 Axes>"
      ]
     },
     "metadata": {
      "needs_background": "light"
     },
     "output_type": "display_data"
    }
   ],
   "source": [
    "fb_prediction.train_model(RandomForestClassifier(max_depth=4,n_estimators=20,random_state=42),features_to_include=[\"co2_median\",\"rh_median\",\"co_median\",\"temperature_c_median\",\"tvoc_median\"])\n",
    "fb_prediction.predict()\n",
    "fb_prediction.plot_confusion_matrix()"
   ]
  },
  {
   "cell_type": "markdown",
   "metadata": {},
   "source": [
    "### REM:nREM"
   ]
  },
  {
   "cell_type": "code",
   "execution_count": 273,
   "metadata": {},
   "outputs": [
    {
     "name": "stdout",
     "output_type": "stream",
     "text": [
      "Highest Scoring Model:\n",
      "\tModel:\trandom_forest\n",
      "\tScore:\t0.601\n",
      "\tParameters:\t{'max_depth': 2, 'n_estimators': 25}\n",
      "\tNumber of Features:\t5\n"
     ]
    }
   ],
   "source": [
    "fb_prediction.split_data(\"rem2nrem_binary\")\n",
    "res = fb_prediction.optimize_models()"
   ]
  },
  {
   "cell_type": "code",
   "execution_count": 274,
   "metadata": {},
   "outputs": [
    {
     "name": "stdout",
     "output_type": "stream",
     "text": [
      "RandomForestClassifier(max_depth=3, n_estimators=10)\n",
      "Cross Validation Scores:\n",
      "\t0.5462962962962963\n",
      "\t0.6172839506172839\n",
      "\t0.49682539682539684\n",
      "\t0.6074074074074074\n",
      "\t0.6674285714285714\n",
      "Average:0.5870483245149911\n",
      "Model Score: 0.5783029833397908\n"
     ]
    },
    {
     "data": {
      "image/png": "[encoded data removed]",
      "text/plain": [
       "<Figure size 360x288 with 2 Axes>"
      ]
     },
     "metadata": {
      "needs_background": "light"
     },
     "output_type": "display_data"
    }
   ],
   "source": [
    "fb_prediction.train_model(RandomForestClassifier(max_depth=3,n_estimators=10),features_to_include=[\"co2_median\",\"rh_median\",\"co_median\",\"temperature_c_median\"])\n",
    "fb_prediction.predict()\n",
    "fb_prediction.plot_confusion_matrix()"
   ]
  },
  {
   "cell_type": "markdown",
   "metadata": {},
   "source": [
    "### WASO"
   ]
  },
  {
   "cell_type": "code",
   "execution_count": 275,
   "metadata": {},
   "outputs": [
    {
     "name": "stdout",
     "output_type": "stream",
     "text": [
      "Highest Scoring Model:\n",
      "\tModel:\trandom_forest\n",
      "\tScore:\t0.562\n",
      "\tParameters:\t{'max_depth': 3, 'n_estimators': 10}\n",
      "\tNumber of Features:\t4\n"
     ]
    }
   ],
   "source": [
    "fb_prediction.split_data(\"waso_binary\")\n",
    "res = fb_prediction.optimize_models()"
   ]
  },
  {
   "cell_type": "code",
   "execution_count": 276,
   "metadata": {},
   "outputs": [
    {
     "name": "stdout",
     "output_type": "stream",
     "text": [
      "RandomForestClassifier(max_depth=3, n_estimators=4)\n",
      "Cross Validation Scores:\n",
      "\t0.4409722222222222\n",
      "\t0.38359788359788355\n",
      "\t0.5727598566308243\n",
      "\t0.5892857142857143\n",
      "\t0.4\n",
      "Average:0.4773231353473289\n",
      "Model Score: 0.4751379854129706\n"
     ]
    },
    {
     "data": {
      "image/png": "[encoded data removed]",
      "text/plain": [
       "<Figure size 360x288 with 2 Axes>"
      ]
     },
     "metadata": {
      "needs_background": "light"
     },
     "output_type": "display_data"
    }
   ],
   "source": [
    "fb_prediction.train_model(RandomForestClassifier(max_depth=3,n_estimators=4),features_to_include=[\"co2_median\",\"rh_median\",\"co_median\",\"temperature_c_median\",\"tvoc_median\"])\n",
    "fb_prediction.predict()\n",
    "fb_prediction.plot_confusion_matrix()"
   ]
  },
  {
   "cell_type": "markdown",
   "metadata": {},
   "source": [
    "### Sleep Efficiency"
   ]
  },
  {
   "cell_type": "code",
   "execution_count": 277,
   "metadata": {},
   "outputs": [
    {
     "name": "stdout",
     "output_type": "stream",
     "text": [
      "Highest Scoring Model:\n",
      "\tModel:\trandom_forest\n",
      "\tScore:\t0.775\n",
      "\tParameters:\t{'max_depth': 2, 'n_estimators': 5}\n",
      "\tNumber of Features:\t1\n"
     ]
    }
   ],
   "source": [
    "fb_prediction.split_data(\"se_binary\")\n",
    "res = fb_prediction.optimize_models()"
   ]
  },
  {
   "cell_type": "code",
   "execution_count": 278,
   "metadata": {},
   "outputs": [
    {
     "name": "stdout",
     "output_type": "stream",
     "text": [
      "RandomForestClassifier(max_depth=4, n_estimators=25)\n",
      "Cross Validation Scores:\n",
      "\t0.785663082437276\n",
      "\t0.8627450980392157\n",
      "\t0.7287581699346405\n",
      "\t0.6543778801843317\n",
      "\t0.6880131362889984\n",
      "Average:0.7439114733768926\n",
      "Model Score: 0.7628255378451354\n"
     ]
    },
    {
     "data": {
      "image/png": "[encoded data removed]",
      "text/plain": [
       "<Figure size 360x288 with 2 Axes>"
      ]
     },
     "metadata": {
      "needs_background": "light"
     },
     "output_type": "display_data"
    }
   ],
   "source": [
    "fb_prediction.train_model(RandomForestClassifier(max_depth=4,n_estimators=25),features_to_include=[\"co2_median\",\"rh_median\",\"co_median\",\"temperature_c_median\"])\n",
    "fb_prediction.predict()\n",
    "fb_prediction.plot_confusion_matrix()"
   ]
  },
  {
   "cell_type": "markdown",
   "metadata": {},
   "source": [
    "## Beiwe Self-Report Sleep"
   ]
  },
  {
   "cell_type": "code",
   "execution_count": 279,
   "metadata": {},
   "outputs": [],
   "source": [
    "bw_prediction = ieq_and_sq_prediction(ieq_and_bw_binned,[var for var in ieq_and_bw_binned.columns if var.endswith(\"median\")],[\"tst_binary\",\"sol_binary\",\"restful_binary\",\"naw_binary\"])"
   ]
  },
  {
   "cell_type": "markdown",
   "metadata": {},
   "source": [
    "### TST"
   ]
  },
  {
   "cell_type": "code",
   "execution_count": 280,
   "metadata": {},
   "outputs": [
    {
     "name": "stdout",
     "output_type": "stream",
     "text": [
      "Highest Scoring Model:\n",
      "\tModel:\trandom_forest\n",
      "\tScore:\t0.699\n",
      "\tParameters:\t{'max_depth': 2, 'n_estimators': 5}\n",
      "\tNumber of Features:\t1\n"
     ]
    }
   ],
   "source": [
    "bw_prediction.split_data(\"tst_binary\")\n",
    "res = bw_prediction.optimize_models()"
   ]
  },
  {
   "cell_type": "code",
   "execution_count": 281,
   "metadata": {},
   "outputs": [
    {
     "name": "stdout",
     "output_type": "stream",
     "text": [
      "RandomForestClassifier(max_depth=2, n_estimators=5, random_state=42)\n",
      "Cross Validation Scores:\n",
      "\t0.5184\n",
      "\t0.46240000000000003\n",
      "\t0.46240000000000003\n",
      "\t0.5017361111111112\n",
      "\t0.5017361111111112\n",
      "Average:0.48933444444444446\n",
      "Model Score: 0.47406611126041387\n"
     ]
    },
    {
     "data": {
      "image/png": "[encoded data removed]",
      "text/plain": [
       "<Figure size 360x288 with 2 Axes>"
      ]
     },
     "metadata": {
      "needs_background": "light"
     },
     "output_type": "display_data"
    }
   ],
   "source": [
    "bw_prediction.train_model(RandomForestClassifier(max_depth=2,n_estimators=5,random_state=42),features_to_include=[\"co2_median\"])\n",
    "bw_prediction.predict()\n",
    "bw_prediction.plot_confusion_matrix()"
   ]
  },
  {
   "cell_type": "markdown",
   "metadata": {},
   "source": [
    "### SOL"
   ]
  },
  {
   "cell_type": "code",
   "execution_count": 282,
   "metadata": {},
   "outputs": [
    {
     "name": "stdout",
     "output_type": "stream",
     "text": [
      "Highest Scoring Model:\n",
      "\tModel:\trandom_forest\n",
      "\tScore:\t0.772\n",
      "\tParameters:\t{'max_depth': 3, 'n_estimators': 10}\n",
      "\tNumber of Features:\t4\n"
     ]
    }
   ],
   "source": [
    "bw_prediction.split_data(\"sol_binary\")\n",
    "res = bw_prediction.optimize_models()"
   ]
  },
  {
   "cell_type": "code",
   "execution_count": 283,
   "metadata": {},
   "outputs": [
    {
     "name": "stdout",
     "output_type": "stream",
     "text": [
      "RandomForestClassifier(max_depth=2, n_estimators=5, random_state=42)\n",
      "Cross Validation Scores:\n",
      "\t0.5776\n",
      "\t0.5776\n",
      "\t0.5776\n",
      "\t0.626736111111111\n",
      "\t0.5625\n",
      "Average:0.5844072222222223\n",
      "Model Score: 0.568664337543671\n"
     ]
    },
    {
     "data": {
      "image/png": "[encoded data removed]",
      "text/plain": [
       "<Figure size 360x288 with 2 Axes>"
      ]
     },
     "metadata": {
      "needs_background": "light"
     },
     "output_type": "display_data"
    }
   ],
   "source": [
    "bw_prediction.train_model(RandomForestClassifier(max_depth=2,n_estimators=5,random_state=42),features_to_include=[\"co2_median\"])\n",
    "bw_prediction.predict()\n",
    "bw_prediction.plot_confusion_matrix()"
   ]
  },
  {
   "cell_type": "markdown",
   "metadata": {},
   "source": [
    "### Restful"
   ]
  },
  {
   "cell_type": "code",
   "execution_count": 284,
   "metadata": {},
   "outputs": [
    {
     "name": "stdout",
     "output_type": "stream",
     "text": [
      "Highest Scoring Model:\n",
      "\tModel:\trandom_forest\n",
      "\tScore:\t0.862\n",
      "\tParameters:\t{'max_depth': 2, 'n_estimators': 5}\n",
      "\tNumber of Features:\t1\n"
     ]
    }
   ],
   "source": [
    "bw_prediction.split_data(\"restful_binary\")\n",
    "res = bw_prediction.optimize_models()"
   ]
  },
  {
   "cell_type": "code",
   "execution_count": 285,
   "metadata": {},
   "outputs": [
    {
     "data": {
      "text/html": [
       "<div>\n",
       "<style scoped>\n",
       "    .dataframe tbody tr th:only-of-type {\n",
       "        vertical-align: middle;\n",
       "    }\n",
       "\n",
       "    .dataframe tbody tr th {\n",
       "        vertical-align: top;\n",
       "    }\n",
       "\n",
       "    .dataframe thead th {\n",
       "        text-align: right;\n",
       "    }\n",
       "</style>\n",
       "<table border=\"1\" class=\"dataframe\">\n",
       "  <thead>\n",
       "    <tr style=\"text-align: right;\">\n",
       "      <th></th>\n",
       "      <th>model</th>\n",
       "      <th>best_score</th>\n",
       "      <th>best_params</th>\n",
       "      <th>n_features</th>\n",
       "    </tr>\n",
       "  </thead>\n",
       "  <tbody>\n",
       "    <tr>\n",
       "      <th>2</th>\n",
       "      <td>bnb</td>\n",
       "      <td>0.862000</td>\n",
       "      <td>{}</td>\n",
       "      <td>1</td>\n",
       "    </tr>\n",
       "    <tr>\n",
       "      <th>5</th>\n",
       "      <td>bnb</td>\n",
       "      <td>0.854000</td>\n",
       "      <td>{}</td>\n",
       "      <td>2</td>\n",
       "    </tr>\n",
       "    <tr>\n",
       "      <th>8</th>\n",
       "      <td>bnb</td>\n",
       "      <td>0.862000</td>\n",
       "      <td>{}</td>\n",
       "      <td>3</td>\n",
       "    </tr>\n",
       "    <tr>\n",
       "      <th>11</th>\n",
       "      <td>bnb</td>\n",
       "      <td>0.854000</td>\n",
       "      <td>{}</td>\n",
       "      <td>4</td>\n",
       "    </tr>\n",
       "    <tr>\n",
       "      <th>14</th>\n",
       "      <td>bnb</td>\n",
       "      <td>0.862000</td>\n",
       "      <td>{}</td>\n",
       "      <td>5</td>\n",
       "    </tr>\n",
       "    <tr>\n",
       "      <th>1</th>\n",
       "      <td>gnb</td>\n",
       "      <td>0.862000</td>\n",
       "      <td>{}</td>\n",
       "      <td>1</td>\n",
       "    </tr>\n",
       "    <tr>\n",
       "      <th>4</th>\n",
       "      <td>gnb</td>\n",
       "      <td>0.853667</td>\n",
       "      <td>{}</td>\n",
       "      <td>2</td>\n",
       "    </tr>\n",
       "    <tr>\n",
       "      <th>7</th>\n",
       "      <td>gnb</td>\n",
       "      <td>0.853667</td>\n",
       "      <td>{}</td>\n",
       "      <td>3</td>\n",
       "    </tr>\n",
       "    <tr>\n",
       "      <th>10</th>\n",
       "      <td>gnb</td>\n",
       "      <td>0.853667</td>\n",
       "      <td>{}</td>\n",
       "      <td>4</td>\n",
       "    </tr>\n",
       "    <tr>\n",
       "      <th>13</th>\n",
       "      <td>gnb</td>\n",
       "      <td>0.853667</td>\n",
       "      <td>{}</td>\n",
       "      <td>5</td>\n",
       "    </tr>\n",
       "    <tr>\n",
       "      <th>0</th>\n",
       "      <td>random_forest</td>\n",
       "      <td>0.862000</td>\n",
       "      <td>{'max_depth': 2, 'n_estimators': 5}</td>\n",
       "      <td>1</td>\n",
       "    </tr>\n",
       "    <tr>\n",
       "      <th>3</th>\n",
       "      <td>random_forest</td>\n",
       "      <td>0.862000</td>\n",
       "      <td>{'max_depth': 2, 'n_estimators': 5}</td>\n",
       "      <td>2</td>\n",
       "    </tr>\n",
       "    <tr>\n",
       "      <th>6</th>\n",
       "      <td>random_forest</td>\n",
       "      <td>0.862000</td>\n",
       "      <td>{'max_depth': 2, 'n_estimators': 15}</td>\n",
       "      <td>3</td>\n",
       "    </tr>\n",
       "    <tr>\n",
       "      <th>9</th>\n",
       "      <td>random_forest</td>\n",
       "      <td>0.862000</td>\n",
       "      <td>{'max_depth': 2, 'n_estimators': 10}</td>\n",
       "      <td>4</td>\n",
       "    </tr>\n",
       "    <tr>\n",
       "      <th>12</th>\n",
       "      <td>random_forest</td>\n",
       "      <td>0.862000</td>\n",
       "      <td>{'max_depth': 2, 'n_estimators': 10}</td>\n",
       "      <td>5</td>\n",
       "    </tr>\n",
       "  </tbody>\n",
       "</table>\n",
       "</div>"
      ],
      "text/plain": [
       "            model  best_score                           best_params  \\\n",
       "2             bnb    0.862000                                    {}   \n",
       "5             bnb    0.854000                                    {}   \n",
       "8             bnb    0.862000                                    {}   \n",
       "11            bnb    0.854000                                    {}   \n",
       "14            bnb    0.862000                                    {}   \n",
       "1             gnb    0.862000                                    {}   \n",
       "4             gnb    0.853667                                    {}   \n",
       "7             gnb    0.853667                                    {}   \n",
       "10            gnb    0.853667                                    {}   \n",
       "13            gnb    0.853667                                    {}   \n",
       "0   random_forest    0.862000   {'max_depth': 2, 'n_estimators': 5}   \n",
       "3   random_forest    0.862000   {'max_depth': 2, 'n_estimators': 5}   \n",
       "6   random_forest    0.862000  {'max_depth': 2, 'n_estimators': 15}   \n",
       "9   random_forest    0.862000  {'max_depth': 2, 'n_estimators': 10}   \n",
       "12  random_forest    0.862000  {'max_depth': 2, 'n_estimators': 10}   \n",
       "\n",
       "    n_features  \n",
       "2            1  \n",
       "5            2  \n",
       "8            3  \n",
       "11           4  \n",
       "14           5  \n",
       "1            1  \n",
       "4            2  \n",
       "7            3  \n",
       "10           4  \n",
       "13           5  \n",
       "0            1  \n",
       "3            2  \n",
       "6            3  \n",
       "9            4  \n",
       "12           5  "
      ]
     },
     "execution_count": 285,
     "metadata": {},
     "output_type": "execute_result"
    }
   ],
   "source": [
    "res"
   ]
  },
  {
   "cell_type": "code",
   "execution_count": 286,
   "metadata": {},
   "outputs": [
    {
     "name": "stdout",
     "output_type": "stream",
     "text": [
      "AdaBoostClassifier()\n",
      "Cross Validation Scores:\n",
      "\t0.7744\n",
      "\t0.7056\n",
      "\t0.7056\n",
      "\t0.7556818181818182\n",
      "\t0.7608695652173912\n",
      "Average:0.7404302766798418\n",
      "Model Score: 0.7266863746304756\n"
     ]
    },
    {
     "data": {
      "image/png": "[encoded data removed]",
      "text/plain": [
       "<Figure size 360x288 with 2 Axes>"
      ]
     },
     "metadata": {
      "needs_background": "light"
     },
     "output_type": "display_data"
    }
   ],
   "source": [
    "bw_prediction.train_model(AdaBoostClassifier(n_estimators=50),features_to_include=[\"co2_median\",\"rh_median\",\"co_median\",\"temperature_c_median\"])\n",
    "bw_prediction.predict()\n",
    "bw_prediction.plot_confusion_matrix()"
   ]
  },
  {
   "cell_type": "markdown",
   "metadata": {},
   "source": [
    "### NAW"
   ]
  },
  {
   "cell_type": "code",
   "execution_count": 287,
   "metadata": {},
   "outputs": [
    {
     "name": "stdout",
     "output_type": "stream",
     "text": [
      "Highest Scoring Model:\n",
      "\tModel:\trandom_forest\n",
      "\tScore:\t0.772\n",
      "\tParameters:\t{'max_depth': 3, 'n_estimators': 5}\n",
      "\tNumber of Features:\t5\n"
     ]
    }
   ],
   "source": [
    "bw_prediction.split_data(\"naw_binary\")\n",
    "res = bw_prediction.optimize_models()"
   ]
  },
  {
   "cell_type": "code",
   "execution_count": 288,
   "metadata": {},
   "outputs": [
    {
     "name": "stdout",
     "output_type": "stream",
     "text": [
      "RandomForestClassifier(max_depth=3, n_estimators=5, random_state=42)\n",
      "Cross Validation Scores:\n",
      "\t0.92\n",
      "\t0.5447619047619047\n",
      "\t0.7353846153846155\n",
      "\t0.7185185185185187\n",
      "\t0.8055555555555555\n",
      "Average:0.7448441188441188\n",
      "Model Score: 0.7225668291242061\n"
     ]
    },
    {
     "data": {
      "image/png": "[encoded data removed]",
      "text/plain": [
       "<Figure size 360x288 with 2 Axes>"
      ]
     },
     "metadata": {
      "needs_background": "light"
     },
     "output_type": "display_data"
    }
   ],
   "source": [
    "bw_prediction.train_model(RandomForestClassifier(max_depth=3,n_estimators=5,random_state=42),features_to_include=[\"co2_median\",\"rh_median\",\"co_median\",\"temperature_c_median\",\"tvoc_median\"])\n",
    "bw_prediction.predict()\n",
    "bw_prediction.plot_confusion_matrix()"
   ]
  },
  {
   "cell_type": "markdown",
   "metadata": {},
   "source": [
    "<a id=\"final_analysis\"></a>"
   ]
  },
  {
   "cell_type": "markdown",
   "metadata": {},
   "source": [
    "# Review on Current Analysis and Next Steps\n",
    "After running curating the features and targets, training and tunining models, and predicting some sleep outcomes, I have come to a conclusion about which data are important to include from the feature and target datasets.\n",
    "\n",
    "## Features\n",
    "For features we will simply include:\n",
    "* CO$_2$\n",
    "* Relative Humidity\n",
    "* Temperature\n",
    "\n",
    "We choose to include these because `co2` will give us an indication of ventilation and therefore other pollutant concentrations while `temperature_c` and `rh` give insight into the thermal conditions in the space. These variables also ranked highly in PCA and we can trust their measurements.\n",
    "\n",
    "## Targets\n",
    "For targets, we will look at:\n",
    "* Sleep Efficiency (Fitbit)\n",
    "* REM:nREM (Fitbit)\n",
    "* SOL (Beiwe)\n",
    "* Restfulness (Beiwe)\n",
    "\n",
    "The other target variables (`tst`, `waso`, and `naw`) are either not heavily affected by IEQ parameters or are more/less incorporated into the other metrics. \n",
    "\n",
    "For both datasets, we will be considering binned values i.e. no continuous measurements will be used, only categorical. \n",
    "\n",
    "## Artificial Weighting\n",
    "Here we will consider weighting the unobserved variables by artificially introducing repeats of those observations. This should help the models predict the unobserved targets with better proficiency.\n",
    "\n",
    "## Process\n",
    "The following process will be conducted as a final analysis on the dataset:\n",
    "1. "
   ]
  },
  {
   "cell_type": "code",
   "execution_count": 289,
   "metadata": {},
   "outputs": [
    {
     "data": {
      "text/html": [
       "<div>\n",
       "<style scoped>\n",
       "    .dataframe tbody tr th:only-of-type {\n",
       "        vertical-align: middle;\n",
       "    }\n",
       "\n",
       "    .dataframe tbody tr th {\n",
       "        vertical-align: top;\n",
       "    }\n",
       "\n",
       "    .dataframe thead th {\n",
       "        text-align: right;\n",
       "    }\n",
       "</style>\n",
       "<table border=\"1\" class=\"dataframe\">\n",
       "  <thead>\n",
       "    <tr style=\"text-align: right;\">\n",
       "      <th></th>\n",
       "      <th>tvoc_median</th>\n",
       "      <th>co_median</th>\n",
       "      <th>co2_median</th>\n",
       "      <th>temperature_c_median</th>\n",
       "      <th>rh_median</th>\n",
       "      <th>efficiency</th>\n",
       "      <th>rem2nrem</th>\n",
       "      <th>tst_fb</th>\n",
       "      <th>waso</th>\n",
       "      <th>sol_fb</th>\n",
       "      <th>wol_fb</th>\n",
       "      <th>se_rating</th>\n",
       "      <th>se_binary</th>\n",
       "      <th>tst_binary</th>\n",
       "      <th>waso_binary</th>\n",
       "      <th>rem2nrem_binary</th>\n",
       "    </tr>\n",
       "  </thead>\n",
       "  <tbody>\n",
       "    <tr>\n",
       "      <th>0</th>\n",
       "      <td>1</td>\n",
       "      <td>0</td>\n",
       "      <td>0</td>\n",
       "      <td>1</td>\n",
       "      <td>0</td>\n",
       "      <td>83.932347</td>\n",
       "      <td>0.217791</td>\n",
       "      <td>6.616667</td>\n",
       "      <td>60.5</td>\n",
       "      <td>0.5</td>\n",
       "      <td>15.0</td>\n",
       "      <td>1</td>\n",
       "      <td>0</td>\n",
       "      <td>0</td>\n",
       "      <td>0</td>\n",
       "      <td>1</td>\n",
       "    </tr>\n",
       "    <tr>\n",
       "      <th>1</th>\n",
       "      <td>0</td>\n",
       "      <td>0</td>\n",
       "      <td>0</td>\n",
       "      <td>1</td>\n",
       "      <td>0</td>\n",
       "      <td>84.103512</td>\n",
       "      <td>0.256906</td>\n",
       "      <td>7.583333</td>\n",
       "      <td>85.0</td>\n",
       "      <td>1.0</td>\n",
       "      <td>0.0</td>\n",
       "      <td>1</td>\n",
       "      <td>0</td>\n",
       "      <td>1</td>\n",
       "      <td>0</td>\n",
       "      <td>1</td>\n",
       "    </tr>\n",
       "    <tr>\n",
       "      <th>2</th>\n",
       "      <td>0</td>\n",
       "      <td>0</td>\n",
       "      <td>0</td>\n",
       "      <td>1</td>\n",
       "      <td>0</td>\n",
       "      <td>86.257928</td>\n",
       "      <td>0.189504</td>\n",
       "      <td>6.800000</td>\n",
       "      <td>59.0</td>\n",
       "      <td>0.0</td>\n",
       "      <td>6.0</td>\n",
       "      <td>2</td>\n",
       "      <td>1</td>\n",
       "      <td>0</td>\n",
       "      <td>0</td>\n",
       "      <td>0</td>\n",
       "    </tr>\n",
       "    <tr>\n",
       "      <th>3</th>\n",
       "      <td>0</td>\n",
       "      <td>0</td>\n",
       "      <td>0</td>\n",
       "      <td>1</td>\n",
       "      <td>0</td>\n",
       "      <td>85.140562</td>\n",
       "      <td>0.218391</td>\n",
       "      <td>7.066667</td>\n",
       "      <td>61.5</td>\n",
       "      <td>1.0</td>\n",
       "      <td>11.5</td>\n",
       "      <td>2</td>\n",
       "      <td>1</td>\n",
       "      <td>1</td>\n",
       "      <td>0</td>\n",
       "      <td>1</td>\n",
       "    </tr>\n",
       "    <tr>\n",
       "      <th>4</th>\n",
       "      <td>0</td>\n",
       "      <td>0</td>\n",
       "      <td>0</td>\n",
       "      <td>1</td>\n",
       "      <td>0</td>\n",
       "      <td>83.093525</td>\n",
       "      <td>0.320000</td>\n",
       "      <td>3.850000</td>\n",
       "      <td>38.5</td>\n",
       "      <td>8.5</td>\n",
       "      <td>0.0</td>\n",
       "      <td>1</td>\n",
       "      <td>0</td>\n",
       "      <td>0</td>\n",
       "      <td>1</td>\n",
       "      <td>1</td>\n",
       "    </tr>\n",
       "  </tbody>\n",
       "</table>\n",
       "</div>"
      ],
      "text/plain": [
       "   tvoc_median  co_median  co2_median  temperature_c_median  rh_median  \\\n",
       "0            1          0           0                     1          0   \n",
       "1            0          0           0                     1          0   \n",
       "2            0          0           0                     1          0   \n",
       "3            0          0           0                     1          0   \n",
       "4            0          0           0                     1          0   \n",
       "\n",
       "   efficiency  rem2nrem    tst_fb  waso  sol_fb  wol_fb  se_rating  se_binary  \\\n",
       "0   83.932347  0.217791  6.616667  60.5     0.5    15.0          1          0   \n",
       "1   84.103512  0.256906  7.583333  85.0     1.0     0.0          1          0   \n",
       "2   86.257928  0.189504  6.800000  59.0     0.0     6.0          2          1   \n",
       "3   85.140562  0.218391  7.066667  61.5     1.0    11.5          2          1   \n",
       "4   83.093525  0.320000  3.850000  38.5     8.5     0.0          1          0   \n",
       "\n",
       "   tst_binary  waso_binary  rem2nrem_binary  \n",
       "0           0            0                1  \n",
       "1           1            0                1  \n",
       "2           0            0                0  \n",
       "3           1            0                1  \n",
       "4           0            1                1  "
      ]
     },
     "execution_count": 289,
     "metadata": {},
     "output_type": "execute_result"
    }
   ],
   "source": [
    "ieq_and_fb_binned.head()"
   ]
  },
  {
   "cell_type": "code",
   "execution_count": 290,
   "metadata": {},
   "outputs": [],
   "source": [
    "def get_artificial(df, target, val, features=[\"co2_median\",\"rh_median\",\"temperature_c_median\"]):\n",
    "    \"\"\"Gets data to add to training set\"\"\"\n",
    "    li = features + [target]\n",
    "    temp = df[li]\n",
    "    temp = temp[temp[target] == val]\n",
    "    return temp"
   ]
  },
  {
   "cell_type": "markdown",
   "metadata": {},
   "source": [
    "## IEQ and Fitbit Sleep Efficiency"
   ]
  },
  {
   "cell_type": "markdown",
   "metadata": {},
   "source": [
    "### Inspecting"
   ]
  },
  {
   "cell_type": "code",
   "execution_count": 339,
   "metadata": {},
   "outputs": [
    {
     "name": "stdout",
     "output_type": "stream",
     "text": [
      "0: 60\n",
      "1: 207\n"
     ]
    }
   ],
   "source": [
    "ieq_and_se = ieq_and_sq_prediction(ieq_and_fb_binned, feature_list=[\"co2_median\",\"rh_median\",\"temperature_c_median\"], target_list=[\"se_binary\"])\n",
    "ieq_and_se.target_summary(\"se_binary\")"
   ]
  },
  {
   "cell_type": "markdown",
   "metadata": {},
   "source": [
    "### Artificially Increasing Low-Observed Target Values"
   ]
  },
  {
   "cell_type": "code",
   "execution_count": 340,
   "metadata": {},
   "outputs": [],
   "source": [
    "add = get_artificial(ieq_and_fb_binned,\"se_binary\",0)\n",
    "ieq_and_se.split_data(\"se_binary\")\n",
    "ieq_and_se.X_train = ieq_and_se.X_train.append(add[[\"co2_median\",\"rh_median\",\"temperature_c_median\"]])\n",
    "ieq_and_se.y_train = ieq_and_se.y_train.append(add[\"se_binary\"])"
   ]
  },
  {
   "cell_type": "markdown",
   "metadata": {},
   "source": [
    "### Modeling and Predicting"
   ]
  },
  {
   "cell_type": "code",
   "execution_count": 341,
   "metadata": {},
   "outputs": [
    {
     "name": "stdout",
     "output_type": "stream",
     "text": [
      "Highest Scoring Model:\n",
      "\tModel:\trandom_forest\n",
      "\tScore:\t0.68\n",
      "\tParameters:\t{'max_depth': 2, 'n_estimators': 5}\n",
      "\tNumber of Features:\t1\n"
     ]
    },
    {
     "data": {
      "text/html": [
       "<div>\n",
       "<style scoped>\n",
       "    .dataframe tbody tr th:only-of-type {\n",
       "        vertical-align: middle;\n",
       "    }\n",
       "\n",
       "    .dataframe tbody tr th {\n",
       "        vertical-align: top;\n",
       "    }\n",
       "\n",
       "    .dataframe thead th {\n",
       "        text-align: right;\n",
       "    }\n",
       "</style>\n",
       "<table border=\"1\" class=\"dataframe\">\n",
       "  <thead>\n",
       "    <tr style=\"text-align: right;\">\n",
       "      <th></th>\n",
       "      <th>model</th>\n",
       "      <th>best_score</th>\n",
       "      <th>best_params</th>\n",
       "      <th>n_features</th>\n",
       "    </tr>\n",
       "  </thead>\n",
       "  <tbody>\n",
       "    <tr>\n",
       "      <th>2</th>\n",
       "      <td>bnb</td>\n",
       "      <td>0.679610</td>\n",
       "      <td>{}</td>\n",
       "      <td>1</td>\n",
       "    </tr>\n",
       "    <tr>\n",
       "      <th>5</th>\n",
       "      <td>bnb</td>\n",
       "      <td>0.662943</td>\n",
       "      <td>{}</td>\n",
       "      <td>2</td>\n",
       "    </tr>\n",
       "    <tr>\n",
       "      <th>8</th>\n",
       "      <td>bnb</td>\n",
       "      <td>0.662677</td>\n",
       "      <td>{}</td>\n",
       "      <td>3</td>\n",
       "    </tr>\n",
       "    <tr>\n",
       "      <th>1</th>\n",
       "      <td>gnb</td>\n",
       "      <td>0.679610</td>\n",
       "      <td>{}</td>\n",
       "      <td>1</td>\n",
       "    </tr>\n",
       "    <tr>\n",
       "      <th>4</th>\n",
       "      <td>gnb</td>\n",
       "      <td>0.679610</td>\n",
       "      <td>{}</td>\n",
       "      <td>2</td>\n",
       "    </tr>\n",
       "    <tr>\n",
       "      <th>7</th>\n",
       "      <td>gnb</td>\n",
       "      <td>0.679610</td>\n",
       "      <td>{}</td>\n",
       "      <td>3</td>\n",
       "    </tr>\n",
       "    <tr>\n",
       "      <th>0</th>\n",
       "      <td>random_forest</td>\n",
       "      <td>0.679610</td>\n",
       "      <td>{'max_depth': 2, 'n_estimators': 5}</td>\n",
       "      <td>1</td>\n",
       "    </tr>\n",
       "    <tr>\n",
       "      <th>3</th>\n",
       "      <td>random_forest</td>\n",
       "      <td>0.679610</td>\n",
       "      <td>{'max_depth': 2, 'n_estimators': 5}</td>\n",
       "      <td>2</td>\n",
       "    </tr>\n",
       "    <tr>\n",
       "      <th>6</th>\n",
       "      <td>random_forest</td>\n",
       "      <td>0.650443</td>\n",
       "      <td>{'max_depth': 2, 'n_estimators': 5}</td>\n",
       "      <td>3</td>\n",
       "    </tr>\n",
       "  </tbody>\n",
       "</table>\n",
       "</div>"
      ],
      "text/plain": [
       "           model  best_score                          best_params  n_features\n",
       "2            bnb    0.679610                                   {}           1\n",
       "5            bnb    0.662943                                   {}           2\n",
       "8            bnb    0.662677                                   {}           3\n",
       "1            gnb    0.679610                                   {}           1\n",
       "4            gnb    0.679610                                   {}           2\n",
       "7            gnb    0.679610                                   {}           3\n",
       "0  random_forest    0.679610  {'max_depth': 2, 'n_estimators': 5}           1\n",
       "3  random_forest    0.679610  {'max_depth': 2, 'n_estimators': 5}           2\n",
       "6  random_forest    0.650443  {'max_depth': 2, 'n_estimators': 5}           3"
      ]
     },
     "execution_count": 341,
     "metadata": {},
     "output_type": "execute_result"
    }
   ],
   "source": [
    "res = ieq_and_se.optimize_models()\n",
    "res"
   ]
  },
  {
   "cell_type": "code",
   "execution_count": 343,
   "metadata": {},
   "outputs": [
    {
     "name": "stdout",
     "output_type": "stream",
     "text": [
      "BernoulliNB()\n",
      "Cross Validation Scores:\n",
      "\t0.7702403542061985\n",
      "\t0.6754385964912281\n",
      "\t0.8333333333333334\n",
      "\t0.5131251726996408\n",
      "\t0.5266924564796905\n",
      "Average:0.6637659826420184\n",
      "Model Score: 0.7369941708203093\n"
     ]
    },
    {
     "data": {
      "image/png": "[encoded data removed]",
      "text/plain": [
       "<Figure size 360x288 with 2 Axes>"
      ]
     },
     "metadata": {
      "needs_background": "light"
     },
     "output_type": "display_data"
    }
   ],
   "source": [
    "#ieq_and_se.train_model(RandomForestClassifier(max_depth=2,n_estimators=5),features_to_include=[\"co2_median\",\"rh_median\",\"temperature_c_median\"])\n",
    "#ieq_and_se.train_model(GaussianNB(),features_to_include=[\"co2_median\",\"rh_median\",\"temperature_c_median\"])\n",
    "ieq_and_se.train_model(BernoulliNB(),features_to_include=[\"co2_median\",\"rh_median\",\"temperature_c_median\"])\n",
    "ieq_and_se.predict()\n",
    "ieq_and_se.plot_confusion_matrix(save=True,target_label=\"fb_se\")"
   ]
  },
  {
   "cell_type": "markdown",
   "metadata": {},
   "source": [
    "## IEQ and Fitbit REM:nREM Ratio"
   ]
  },
  {
   "cell_type": "markdown",
   "metadata": {},
   "source": [
    "### Inspecting"
   ]
  },
  {
   "cell_type": "code",
   "execution_count": 344,
   "metadata": {},
   "outputs": [
    {
     "name": "stdout",
     "output_type": "stream",
     "text": [
      "1: 146\n",
      "0: 121\n"
     ]
    }
   ],
   "source": [
    "ieq_and_r2r = ieq_and_sq_prediction(ieq_and_fb_binned, feature_list=[\"co2_median\",\"rh_median\",\"temperature_c_median\"], target_list=[\"rem2nrem_binary\"])\n",
    "ieq_and_r2r.target_summary(\"rem2nrem_binary\")"
   ]
  },
  {
   "cell_type": "markdown",
   "metadata": {},
   "source": [
    "### Modeling and Predicting"
   ]
  },
  {
   "cell_type": "code",
   "execution_count": 345,
   "metadata": {},
   "outputs": [
    {
     "name": "stdout",
     "output_type": "stream",
     "text": [
      "Highest Scoring Model:\n",
      "\tModel:\trandom_forest\n",
      "\tScore:\t0.618\n",
      "\tParameters:\t{'max_depth': 2, 'n_estimators': 20}\n",
      "\tNumber of Features:\t3\n"
     ]
    },
    {
     "data": {
      "text/html": [
       "<div>\n",
       "<style scoped>\n",
       "    .dataframe tbody tr th:only-of-type {\n",
       "        vertical-align: middle;\n",
       "    }\n",
       "\n",
       "    .dataframe tbody tr th {\n",
       "        vertical-align: top;\n",
       "    }\n",
       "\n",
       "    .dataframe thead th {\n",
       "        text-align: right;\n",
       "    }\n",
       "</style>\n",
       "<table border=\"1\" class=\"dataframe\">\n",
       "  <thead>\n",
       "    <tr style=\"text-align: right;\">\n",
       "      <th></th>\n",
       "      <th>model</th>\n",
       "      <th>best_score</th>\n",
       "      <th>best_params</th>\n",
       "      <th>n_features</th>\n",
       "    </tr>\n",
       "  </thead>\n",
       "  <tbody>\n",
       "    <tr>\n",
       "      <th>2</th>\n",
       "      <td>bnb</td>\n",
       "      <td>0.567937</td>\n",
       "      <td>{}</td>\n",
       "      <td>1</td>\n",
       "    </tr>\n",
       "    <tr>\n",
       "      <th>5</th>\n",
       "      <td>bnb</td>\n",
       "      <td>0.539841</td>\n",
       "      <td>{}</td>\n",
       "      <td>2</td>\n",
       "    </tr>\n",
       "    <tr>\n",
       "      <th>8</th>\n",
       "      <td>bnb</td>\n",
       "      <td>0.585079</td>\n",
       "      <td>{}</td>\n",
       "      <td>3</td>\n",
       "    </tr>\n",
       "    <tr>\n",
       "      <th>1</th>\n",
       "      <td>gnb</td>\n",
       "      <td>0.567937</td>\n",
       "      <td>{}</td>\n",
       "      <td>1</td>\n",
       "    </tr>\n",
       "    <tr>\n",
       "      <th>4</th>\n",
       "      <td>gnb</td>\n",
       "      <td>0.551270</td>\n",
       "      <td>{}</td>\n",
       "      <td>2</td>\n",
       "    </tr>\n",
       "    <tr>\n",
       "      <th>7</th>\n",
       "      <td>gnb</td>\n",
       "      <td>0.590794</td>\n",
       "      <td>{}</td>\n",
       "      <td>3</td>\n",
       "    </tr>\n",
       "    <tr>\n",
       "      <th>0</th>\n",
       "      <td>random_forest</td>\n",
       "      <td>0.567937</td>\n",
       "      <td>{'max_depth': 2, 'n_estimators': 5}</td>\n",
       "      <td>1</td>\n",
       "    </tr>\n",
       "    <tr>\n",
       "      <th>3</th>\n",
       "      <td>random_forest</td>\n",
       "      <td>0.556825</td>\n",
       "      <td>{'max_depth': 2, 'n_estimators': 5}</td>\n",
       "      <td>2</td>\n",
       "    </tr>\n",
       "    <tr>\n",
       "      <th>6</th>\n",
       "      <td>random_forest</td>\n",
       "      <td>0.618095</td>\n",
       "      <td>{'max_depth': 2, 'n_estimators': 20}</td>\n",
       "      <td>3</td>\n",
       "    </tr>\n",
       "  </tbody>\n",
       "</table>\n",
       "</div>"
      ],
      "text/plain": [
       "           model  best_score                           best_params  n_features\n",
       "2            bnb    0.567937                                    {}           1\n",
       "5            bnb    0.539841                                    {}           2\n",
       "8            bnb    0.585079                                    {}           3\n",
       "1            gnb    0.567937                                    {}           1\n",
       "4            gnb    0.551270                                    {}           2\n",
       "7            gnb    0.590794                                    {}           3\n",
       "0  random_forest    0.567937   {'max_depth': 2, 'n_estimators': 5}           1\n",
       "3  random_forest    0.556825   {'max_depth': 2, 'n_estimators': 5}           2\n",
       "6  random_forest    0.618095  {'max_depth': 2, 'n_estimators': 20}           3"
      ]
     },
     "execution_count": 345,
     "metadata": {},
     "output_type": "execute_result"
    }
   ],
   "source": [
    "ieq_and_r2r.split_data(\"rem2nrem_binary\")\n",
    "res = ieq_and_r2r.optimize_models()\n",
    "res"
   ]
  },
  {
   "cell_type": "code",
   "execution_count": 350,
   "metadata": {},
   "outputs": [
    {
     "name": "stdout",
     "output_type": "stream",
     "text": [
      "RandomForestClassifier(max_depth=2, n_estimators=20)\n",
      "Cross Validation Scores:\n",
      "\t0.5462962962962963\n",
      "\t0.462962962962963\n",
      "\t0.7956989247311828\n",
      "\t0.6074074074074074\n",
      "\t0.6674285714285714\n",
      "Average:0.615958832565284\n",
      "Model Score: 0.5663048308258745\n"
     ]
    },
    {
     "data": {
      "image/png": "[encoded data removed]",
      "text/plain": [
       "<Figure size 360x288 with 2 Axes>"
      ]
     },
     "metadata": {
      "needs_background": "light"
     },
     "output_type": "display_data"
    }
   ],
   "source": [
    "ieq_and_r2r.train_model(RandomForestClassifier(max_depth=2,n_estimators=20),features_to_include=[\"co2_median\",\"rh_median\",\"temperature_c_median\"])\n",
    "#ieq_and_r2r.train_model(GaussianNB(),features_to_include=[\"co2_median\",\"rh_median\",\"temperature_c_median\"])\n",
    "#ieq_and_r2r.train_model(BernoulliNB(),features_to_include=[\"co2_median\",\"rh_median\",\"temperature_c_median\"])\n",
    "ieq_and_r2r.predict()\n",
    "ieq_and_r2r.plot_confusion_matrix(save=True,target_label=\"rem2nrem\")"
   ]
  },
  {
   "cell_type": "markdown",
   "metadata": {},
   "source": [
    "## IEQ and BW SOL"
   ]
  },
  {
   "cell_type": "markdown",
   "metadata": {},
   "source": [
    "### Inspection"
   ]
  },
  {
   "cell_type": "code",
   "execution_count": 351,
   "metadata": {},
   "outputs": [
    {
     "name": "stdout",
     "output_type": "stream",
     "text": [
      "1: 140\n",
      "0: 44\n"
     ]
    }
   ],
   "source": [
    "ieq_and_sol = ieq_and_sq_prediction(ieq_and_bw_binned, feature_list=[\"co2_median\",\"rh_median\",\"temperature_c_median\"], target_list=[\"sol_binary\"])\n",
    "ieq_and_sol.target_summary(\"sol_binary\")"
   ]
  },
  {
   "cell_type": "markdown",
   "metadata": {},
   "source": [
    "### Adding Observations"
   ]
  },
  {
   "cell_type": "code",
   "execution_count": 352,
   "metadata": {},
   "outputs": [],
   "source": [
    "add = get_artificial(ieq_and_bw_binned,\"sol_binary\",0)\n",
    "ieq_and_sol.split_data(\"sol_binary\")\n",
    "ieq_and_sol.X_train = ieq_and_sol.X_train.append(add[[\"co2_median\",\"rh_median\",\"temperature_c_median\"]])\n",
    "ieq_and_sol.y_train = ieq_and_sol.y_train.append(add[\"sol_binary\"])"
   ]
  },
  {
   "cell_type": "markdown",
   "metadata": {},
   "source": [
    "### Modeling and Predicting"
   ]
  },
  {
   "cell_type": "code",
   "execution_count": 353,
   "metadata": {},
   "outputs": [
    {
     "name": "stdout",
     "output_type": "stream",
     "text": [
      "Highest Scoring Model:\n",
      "\tModel:\trandom_forest\n",
      "\tScore:\t0.653\n",
      "\tParameters:\t{'max_depth': 4, 'n_estimators': 10}\n",
      "\tNumber of Features:\t3\n"
     ]
    },
    {
     "data": {
      "text/html": [
       "<div>\n",
       "<style scoped>\n",
       "    .dataframe tbody tr th:only-of-type {\n",
       "        vertical-align: middle;\n",
       "    }\n",
       "\n",
       "    .dataframe tbody tr th {\n",
       "        vertical-align: top;\n",
       "    }\n",
       "\n",
       "    .dataframe thead th {\n",
       "        text-align: right;\n",
       "    }\n",
       "</style>\n",
       "<table border=\"1\" class=\"dataframe\">\n",
       "  <thead>\n",
       "    <tr style=\"text-align: right;\">\n",
       "      <th></th>\n",
       "      <th>model</th>\n",
       "      <th>best_score</th>\n",
       "      <th>best_params</th>\n",
       "      <th>n_features</th>\n",
       "    </tr>\n",
       "  </thead>\n",
       "  <tbody>\n",
       "    <tr>\n",
       "      <th>2</th>\n",
       "      <td>bnb</td>\n",
       "      <td>0.527629</td>\n",
       "      <td>{}</td>\n",
       "      <td>1</td>\n",
       "    </tr>\n",
       "    <tr>\n",
       "      <th>5</th>\n",
       "      <td>bnb</td>\n",
       "      <td>0.634938</td>\n",
       "      <td>{}</td>\n",
       "      <td>2</td>\n",
       "    </tr>\n",
       "    <tr>\n",
       "      <th>8</th>\n",
       "      <td>bnb</td>\n",
       "      <td>0.635294</td>\n",
       "      <td>{}</td>\n",
       "      <td>3</td>\n",
       "    </tr>\n",
       "    <tr>\n",
       "      <th>1</th>\n",
       "      <td>gnb</td>\n",
       "      <td>0.509626</td>\n",
       "      <td>{}</td>\n",
       "      <td>1</td>\n",
       "    </tr>\n",
       "    <tr>\n",
       "      <th>4</th>\n",
       "      <td>gnb</td>\n",
       "      <td>0.634938</td>\n",
       "      <td>{}</td>\n",
       "      <td>2</td>\n",
       "    </tr>\n",
       "    <tr>\n",
       "      <th>7</th>\n",
       "      <td>gnb</td>\n",
       "      <td>0.635294</td>\n",
       "      <td>{}</td>\n",
       "      <td>3</td>\n",
       "    </tr>\n",
       "    <tr>\n",
       "      <th>0</th>\n",
       "      <td>random_forest</td>\n",
       "      <td>0.521747</td>\n",
       "      <td>{'max_depth': 2, 'n_estimators': 5}</td>\n",
       "      <td>1</td>\n",
       "    </tr>\n",
       "    <tr>\n",
       "      <th>3</th>\n",
       "      <td>random_forest</td>\n",
       "      <td>0.634938</td>\n",
       "      <td>{'max_depth': 2, 'n_estimators': 15}</td>\n",
       "      <td>2</td>\n",
       "    </tr>\n",
       "    <tr>\n",
       "      <th>6</th>\n",
       "      <td>random_forest</td>\n",
       "      <td>0.652763</td>\n",
       "      <td>{'max_depth': 4, 'n_estimators': 10}</td>\n",
       "      <td>3</td>\n",
       "    </tr>\n",
       "  </tbody>\n",
       "</table>\n",
       "</div>"
      ],
      "text/plain": [
       "           model  best_score                           best_params  n_features\n",
       "2            bnb    0.527629                                    {}           1\n",
       "5            bnb    0.634938                                    {}           2\n",
       "8            bnb    0.635294                                    {}           3\n",
       "1            gnb    0.509626                                    {}           1\n",
       "4            gnb    0.634938                                    {}           2\n",
       "7            gnb    0.635294                                    {}           3\n",
       "0  random_forest    0.521747   {'max_depth': 2, 'n_estimators': 5}           1\n",
       "3  random_forest    0.634938  {'max_depth': 2, 'n_estimators': 15}           2\n",
       "6  random_forest    0.652763  {'max_depth': 4, 'n_estimators': 10}           3"
      ]
     },
     "execution_count": 353,
     "metadata": {},
     "output_type": "execute_result"
    }
   ],
   "source": [
    "res = ieq_and_sol.optimize_models()\n",
    "res"
   ]
  },
  {
   "cell_type": "code",
   "execution_count": 358,
   "metadata": {},
   "outputs": [
    {
     "name": "stdout",
     "output_type": "stream",
     "text": [
      "BernoulliNB()\n",
      "Cross Validation Scores:\n",
      "\t0.5363321799307958\n",
      "\t0.6440422322775264\n",
      "\t0.8511784511784511\n",
      "\t0.5625823451910409\n",
      "\t0.5707070707070708\n",
      "Average:0.632968455856977\n",
      "Model Score: 0.7719509998198523\n"
     ]
    },
    {
     "data": {
      "image/png": "[encoded data removed]",
      "text/plain": [
       "<Figure size 360x288 with 2 Axes>"
      ]
     },
     "metadata": {
      "needs_background": "light"
     },
     "output_type": "display_data"
    }
   ],
   "source": [
    "#ieq_and_sol.train_model(RandomForestClassifier(max_depth=4,n_estimators=10),features_to_include=[\"co2_median\",\"rh_median\",\"temperature_c_median\"])\n",
    "#ieq_and_sol.train_model(GaussianNB(),features_to_include=[\"co2_median\",\"rh_median\",\"temperature_c_median\"])\n",
    "ieq_and_sol.train_model(BernoulliNB(),features_to_include=[\"co2_median\",\"rh_median\",\"temperature_c_median\"])\n",
    "ieq_and_sol.predict()\n",
    "ieq_and_sol.plot_confusion_matrix(save=True,target_label=\"sol_bw\")"
   ]
  },
  {
   "cell_type": "markdown",
   "metadata": {},
   "source": [
    "## IEQ and BW Restfulness"
   ]
  },
  {
   "cell_type": "markdown",
   "metadata": {},
   "source": [
    "### Inspection"
   ]
  },
  {
   "cell_type": "code",
   "execution_count": 364,
   "metadata": {},
   "outputs": [
    {
     "name": "stdout",
     "output_type": "stream",
     "text": [
      "0: 26\n",
      "1: 158\n"
     ]
    }
   ],
   "source": [
    "ieq_and_restful = ieq_and_sq_prediction(ieq_and_bw_binned, feature_list=[\"co2_median\",\"rh_median\",\"temperature_c_median\"], target_list=[\"restful_binary\"])\n",
    "ieq_and_restful.target_summary(\"restful_binary\")"
   ]
  },
  {
   "cell_type": "markdown",
   "metadata": {},
   "source": [
    "### Adding Observations"
   ]
  },
  {
   "cell_type": "code",
   "execution_count": 365,
   "metadata": {},
   "outputs": [],
   "source": [
    "add = get_artificial(ieq_and_bw_binned,\"restful_binary\",0)\n",
    "ieq_and_restful.split_data(\"restful_binary\")\n",
    "ieq_and_restful.X_train = ieq_and_restful.X_train.append(add[[\"co2_median\",\"rh_median\",\"temperature_c_median\"]])\n",
    "ieq_and_restful.y_train = ieq_and_restful.y_train.append(add[\"restful_binary\"])"
   ]
  },
  {
   "cell_type": "markdown",
   "metadata": {},
   "source": [
    "### Modeling and Predicting"
   ]
  },
  {
   "cell_type": "code",
   "execution_count": 366,
   "metadata": {},
   "outputs": [
    {
     "name": "stdout",
     "output_type": "stream",
     "text": [
      "Highest Scoring Model:\n",
      "\tModel:\trandom_forest\n",
      "\tScore:\t0.764\n",
      "\tParameters:\t{'max_depth': 3, 'n_estimators': 10}\n",
      "\tNumber of Features:\t3\n"
     ]
    },
    {
     "data": {
      "text/html": [
       "<div>\n",
       "<style scoped>\n",
       "    .dataframe tbody tr th:only-of-type {\n",
       "        vertical-align: middle;\n",
       "    }\n",
       "\n",
       "    .dataframe tbody tr th {\n",
       "        vertical-align: top;\n",
       "    }\n",
       "\n",
       "    .dataframe thead th {\n",
       "        text-align: right;\n",
       "    }\n",
       "</style>\n",
       "<table border=\"1\" class=\"dataframe\">\n",
       "  <thead>\n",
       "    <tr style=\"text-align: right;\">\n",
       "      <th></th>\n",
       "      <th>model</th>\n",
       "      <th>best_score</th>\n",
       "      <th>best_params</th>\n",
       "      <th>n_features</th>\n",
       "    </tr>\n",
       "  </thead>\n",
       "  <tbody>\n",
       "    <tr>\n",
       "      <th>2</th>\n",
       "      <td>bnb</td>\n",
       "      <td>0.677011</td>\n",
       "      <td>{}</td>\n",
       "      <td>1</td>\n",
       "    </tr>\n",
       "    <tr>\n",
       "      <th>5</th>\n",
       "      <td>bnb</td>\n",
       "      <td>0.683678</td>\n",
       "      <td>{}</td>\n",
       "      <td>2</td>\n",
       "    </tr>\n",
       "    <tr>\n",
       "      <th>8</th>\n",
       "      <td>bnb</td>\n",
       "      <td>0.670345</td>\n",
       "      <td>{}</td>\n",
       "      <td>3</td>\n",
       "    </tr>\n",
       "    <tr>\n",
       "      <th>1</th>\n",
       "      <td>gnb</td>\n",
       "      <td>0.730345</td>\n",
       "      <td>{}</td>\n",
       "      <td>1</td>\n",
       "    </tr>\n",
       "    <tr>\n",
       "      <th>4</th>\n",
       "      <td>gnb</td>\n",
       "      <td>0.710345</td>\n",
       "      <td>{}</td>\n",
       "      <td>2</td>\n",
       "    </tr>\n",
       "    <tr>\n",
       "      <th>7</th>\n",
       "      <td>gnb</td>\n",
       "      <td>0.683678</td>\n",
       "      <td>{}</td>\n",
       "      <td>3</td>\n",
       "    </tr>\n",
       "    <tr>\n",
       "      <th>0</th>\n",
       "      <td>random_forest</td>\n",
       "      <td>0.730345</td>\n",
       "      <td>{'max_depth': 2, 'n_estimators': 10}</td>\n",
       "      <td>1</td>\n",
       "    </tr>\n",
       "    <tr>\n",
       "      <th>3</th>\n",
       "      <td>random_forest</td>\n",
       "      <td>0.683678</td>\n",
       "      <td>{'max_depth': 2, 'n_estimators': 10}</td>\n",
       "      <td>2</td>\n",
       "    </tr>\n",
       "    <tr>\n",
       "      <th>6</th>\n",
       "      <td>random_forest</td>\n",
       "      <td>0.764368</td>\n",
       "      <td>{'max_depth': 3, 'n_estimators': 10}</td>\n",
       "      <td>3</td>\n",
       "    </tr>\n",
       "  </tbody>\n",
       "</table>\n",
       "</div>"
      ],
      "text/plain": [
       "           model  best_score                           best_params  n_features\n",
       "2            bnb    0.677011                                    {}           1\n",
       "5            bnb    0.683678                                    {}           2\n",
       "8            bnb    0.670345                                    {}           3\n",
       "1            gnb    0.730345                                    {}           1\n",
       "4            gnb    0.710345                                    {}           2\n",
       "7            gnb    0.683678                                    {}           3\n",
       "0  random_forest    0.730345  {'max_depth': 2, 'n_estimators': 10}           1\n",
       "3  random_forest    0.683678  {'max_depth': 2, 'n_estimators': 10}           2\n",
       "6  random_forest    0.764368  {'max_depth': 3, 'n_estimators': 10}           3"
      ]
     },
     "execution_count": 366,
     "metadata": {},
     "output_type": "execute_result"
    }
   ],
   "source": [
    "res = ieq_and_restful.optimize_models()\n",
    "res"
   ]
  },
  {
   "cell_type": "code",
   "execution_count": 368,
   "metadata": {},
   "outputs": [
    {
     "name": "stdout",
     "output_type": "stream",
     "text": [
      "RandomForestClassifier(max_depth=3, n_estimators=10)\n",
      "Cross Validation Scores:\n",
      "\t0.7851851851851851\n",
      "\t0.7634615384615384\n",
      "\t0.9076923076923077\n",
      "\t0.49\n",
      "\t0.6551724137931034\n",
      "Average:0.7203022890264268\n",
      "Model Score: 0.8090584279108869\n"
     ]
    },
    {
     "data": {
      "image/png": "[encoded data removed]",
      "text/plain": [
       "<Figure size 360x288 with 2 Axes>"
      ]
     },
     "metadata": {
      "needs_background": "light"
     },
     "output_type": "display_data"
    }
   ],
   "source": [
    "ieq_and_restful.train_model(RandomForestClassifier(max_depth=3,n_estimators=10),features_to_include=[\"co2_median\",\"rh_median\",\"temperature_c_median\"])\n",
    "#ieq_and_restful.train_model(BernoulliNB(),features_to_include=[\"co2_median\",\"rh_median\"])\n",
    "#ieq_and_restful.train_model(GaussianNB(),features_to_include=[\"co2_median\"])\n",
    "ieq_and_restful.predict()\n",
    "ieq_and_restful.plot_confusion_matrix(save=True,target_label=\"restful\")"
   ]
  },
  {
   "cell_type": "markdown",
   "metadata": {},
   "source": [
    "# Bonus Analysis: Fitbit-Measured Sleep on Self-Report Sleep"
   ]
  },
  {
   "cell_type": "code",
   "execution_count": 308,
   "metadata": {},
   "outputs": [
    {
     "data": {
      "text/html": [
       "<div>\n",
       "<style scoped>\n",
       "    .dataframe tbody tr th:only-of-type {\n",
       "        vertical-align: middle;\n",
       "    }\n",
       "\n",
       "    .dataframe tbody tr th {\n",
       "        vertical-align: top;\n",
       "    }\n",
       "\n",
       "    .dataframe thead th {\n",
       "        text-align: right;\n",
       "    }\n",
       "</style>\n",
       "<table border=\"1\" class=\"dataframe\">\n",
       "  <thead>\n",
       "    <tr style=\"text-align: right;\">\n",
       "      <th></th>\n",
       "      <th>end_date</th>\n",
       "      <th>beiwe</th>\n",
       "      <th>efficiency</th>\n",
       "      <th>end_time</th>\n",
       "      <th>start_time</th>\n",
       "      <th>rem2nrem</th>\n",
       "      <th>tst_fb</th>\n",
       "      <th>waso</th>\n",
       "      <th>sol_fb</th>\n",
       "      <th>wol_fb</th>\n",
       "      <th>se_rating</th>\n",
       "      <th>se_binary</th>\n",
       "      <th>tst_binary_fb</th>\n",
       "      <th>waso_binary</th>\n",
       "      <th>rem2nrem_binary</th>\n",
       "      <th>date</th>\n",
       "      <th>tst</th>\n",
       "      <th>sol</th>\n",
       "      <th>naw</th>\n",
       "      <th>tst_binary_bw</th>\n",
       "      <th>restful_binary</th>\n",
       "      <th>sol_binary</th>\n",
       "      <th>naw_binary</th>\n",
       "    </tr>\n",
       "  </thead>\n",
       "  <tbody>\n",
       "    <tr>\n",
       "      <th>0</th>\n",
       "      <td>2020-07-15</td>\n",
       "      <td>hcpu5myv</td>\n",
       "      <td>91.947566</td>\n",
       "      <td>2020-07-15 08:05:00</td>\n",
       "      <td>2020-07-14 23:11:00</td>\n",
       "      <td>0.312834</td>\n",
       "      <td>8.183333</td>\n",
       "      <td>42.5</td>\n",
       "      <td>0.5</td>\n",
       "      <td>0.0</td>\n",
       "      <td>3</td>\n",
       "      <td>1</td>\n",
       "      <td>1</td>\n",
       "      <td>1</td>\n",
       "      <td>1</td>\n",
       "      <td>2020-07-15</td>\n",
       "      <td>9.0</td>\n",
       "      <td>2.0</td>\n",
       "      <td>3.0</td>\n",
       "      <td>1</td>\n",
       "      <td>1</td>\n",
       "      <td>1</td>\n",
       "      <td>0</td>\n",
       "    </tr>\n",
       "    <tr>\n",
       "      <th>1</th>\n",
       "      <td>2020-07-18</td>\n",
       "      <td>hcpu5myv</td>\n",
       "      <td>90.773067</td>\n",
       "      <td>2020-07-18 08:03:00</td>\n",
       "      <td>2020-07-18 01:22:00</td>\n",
       "      <td>0.201320</td>\n",
       "      <td>6.066667</td>\n",
       "      <td>29.0</td>\n",
       "      <td>8.0</td>\n",
       "      <td>0.0</td>\n",
       "      <td>3</td>\n",
       "      <td>1</td>\n",
       "      <td>0</td>\n",
       "      <td>1</td>\n",
       "      <td>1</td>\n",
       "      <td>2020-07-18</td>\n",
       "      <td>7.0</td>\n",
       "      <td>5.0</td>\n",
       "      <td>1.0</td>\n",
       "      <td>0</td>\n",
       "      <td>1</td>\n",
       "      <td>1</td>\n",
       "      <td>1</td>\n",
       "    </tr>\n",
       "    <tr>\n",
       "      <th>2</th>\n",
       "      <td>2020-07-19</td>\n",
       "      <td>hcpu5myv</td>\n",
       "      <td>87.684729</td>\n",
       "      <td>2020-07-19 07:10:30</td>\n",
       "      <td>2020-07-19 00:24:00</td>\n",
       "      <td>0.227586</td>\n",
       "      <td>5.933333</td>\n",
       "      <td>49.5</td>\n",
       "      <td>0.5</td>\n",
       "      <td>0.0</td>\n",
       "      <td>2</td>\n",
       "      <td>1</td>\n",
       "      <td>0</td>\n",
       "      <td>1</td>\n",
       "      <td>1</td>\n",
       "      <td>2020-07-19</td>\n",
       "      <td>6.0</td>\n",
       "      <td>15.0</td>\n",
       "      <td>7.0</td>\n",
       "      <td>0</td>\n",
       "      <td>0</td>\n",
       "      <td>1</td>\n",
       "      <td>0</td>\n",
       "    </tr>\n",
       "    <tr>\n",
       "      <th>3</th>\n",
       "      <td>2020-07-20</td>\n",
       "      <td>hcpu5myv</td>\n",
       "      <td>91.596639</td>\n",
       "      <td>2020-07-20 06:19:30</td>\n",
       "      <td>2020-07-20 00:22:00</td>\n",
       "      <td>0.329268</td>\n",
       "      <td>5.450000</td>\n",
       "      <td>29.5</td>\n",
       "      <td>0.5</td>\n",
       "      <td>0.0</td>\n",
       "      <td>3</td>\n",
       "      <td>1</td>\n",
       "      <td>0</td>\n",
       "      <td>1</td>\n",
       "      <td>1</td>\n",
       "      <td>2020-07-20</td>\n",
       "      <td>6.0</td>\n",
       "      <td>5.0</td>\n",
       "      <td>3.0</td>\n",
       "      <td>0</td>\n",
       "      <td>1</td>\n",
       "      <td>1</td>\n",
       "      <td>0</td>\n",
       "    </tr>\n",
       "    <tr>\n",
       "      <th>4</th>\n",
       "      <td>2020-05-15</td>\n",
       "      <td>lkkjddam</td>\n",
       "      <td>84.630739</td>\n",
       "      <td>2020-05-15 12:53:30</td>\n",
       "      <td>2020-05-15 04:32:30</td>\n",
       "      <td>0.316770</td>\n",
       "      <td>7.066667</td>\n",
       "      <td>71.0</td>\n",
       "      <td>2.5</td>\n",
       "      <td>3.5</td>\n",
       "      <td>1</td>\n",
       "      <td>0</td>\n",
       "      <td>1</td>\n",
       "      <td>0</td>\n",
       "      <td>1</td>\n",
       "      <td>2020-05-15</td>\n",
       "      <td>8.0</td>\n",
       "      <td>60.0</td>\n",
       "      <td>3.0</td>\n",
       "      <td>1</td>\n",
       "      <td>0</td>\n",
       "      <td>0</td>\n",
       "      <td>0</td>\n",
       "    </tr>\n",
       "  </tbody>\n",
       "</table>\n",
       "</div>"
      ],
      "text/plain": [
       "    end_date     beiwe  efficiency            end_time          start_time  \\\n",
       "0 2020-07-15  hcpu5myv   91.947566 2020-07-15 08:05:00 2020-07-14 23:11:00   \n",
       "1 2020-07-18  hcpu5myv   90.773067 2020-07-18 08:03:00 2020-07-18 01:22:00   \n",
       "2 2020-07-19  hcpu5myv   87.684729 2020-07-19 07:10:30 2020-07-19 00:24:00   \n",
       "3 2020-07-20  hcpu5myv   91.596639 2020-07-20 06:19:30 2020-07-20 00:22:00   \n",
       "4 2020-05-15  lkkjddam   84.630739 2020-05-15 12:53:30 2020-05-15 04:32:30   \n",
       "\n",
       "   rem2nrem    tst_fb  waso  sol_fb  wol_fb  se_rating  se_binary  \\\n",
       "0  0.312834  8.183333  42.5     0.5     0.0          3          1   \n",
       "1  0.201320  6.066667  29.0     8.0     0.0          3          1   \n",
       "2  0.227586  5.933333  49.5     0.5     0.0          2          1   \n",
       "3  0.329268  5.450000  29.5     0.5     0.0          3          1   \n",
       "4  0.316770  7.066667  71.0     2.5     3.5          1          0   \n",
       "\n",
       "   tst_binary_fb  waso_binary  rem2nrem_binary       date  tst   sol  naw  \\\n",
       "0              1            1                1 2020-07-15  9.0   2.0  3.0   \n",
       "1              0            1                1 2020-07-18  7.0   5.0  1.0   \n",
       "2              0            1                1 2020-07-19  6.0  15.0  7.0   \n",
       "3              0            1                1 2020-07-20  6.0   5.0  3.0   \n",
       "4              1            0                1 2020-05-15  8.0  60.0  3.0   \n",
       "\n",
       "   tst_binary_bw  restful_binary  sol_binary  naw_binary  \n",
       "0              1               1           1           0  \n",
       "1              0               1           1           1  \n",
       "2              0               0           1           0  \n",
       "3              0               1           1           0  \n",
       "4              1               0           0           0  "
      ]
     },
     "execution_count": 308,
     "metadata": {},
     "output_type": "execute_result"
    }
   ],
   "source": [
    "sleep = fb_targets.merge(right=bw_targets,left_on=[\"beiwe\",\"end_date\"],right_on=[\"beiwe\",\"date\"],suffixes=[\"_fb\",\"_bw\"])\n",
    "sleep.dropna(inplace=True)\n",
    "sleep.head()"
   ]
  },
  {
   "cell_type": "markdown",
   "metadata": {},
   "source": [
    "Now we will see if various components of the Fitbit-measured sleep quality and predict how the participants will respond."
   ]
  },
  {
   "cell_type": "markdown",
   "metadata": {},
   "source": [
    "## TST"
   ]
  },
  {
   "cell_type": "code",
   "execution_count": 373,
   "metadata": {},
   "outputs": [
    {
     "name": "stdout",
     "output_type": "stream",
     "text": [
      "1: 390\n",
      "0: 675\n"
     ]
    }
   ],
   "source": [
    "tst = ieq_and_sq_prediction(sleep, feature_list=[\"tst_binary_fb\",\"rem2nrem_binary\",\"waso_binary\",\"se_binary\"], target_list=[\"tst_binary_bw\"])\n",
    "tst.target_summary(\"tst_binary_bw\")"
   ]
  },
  {
   "cell_type": "code",
   "execution_count": 383,
   "metadata": {},
   "outputs": [
    {
     "name": "stdout",
     "output_type": "stream",
     "text": [
      "Highest Scoring Model:\n",
      "\tModel:\trandom_forest\n",
      "\tScore:\t0.746\n",
      "\tParameters:\t{'max_depth': 4, 'n_estimators': 10}\n",
      "\tNumber of Features:\t4\n"
     ]
    },
    {
     "data": {
      "text/html": [
       "<div>\n",
       "<style scoped>\n",
       "    .dataframe tbody tr th:only-of-type {\n",
       "        vertical-align: middle;\n",
       "    }\n",
       "\n",
       "    .dataframe tbody tr th {\n",
       "        vertical-align: top;\n",
       "    }\n",
       "\n",
       "    .dataframe thead th {\n",
       "        text-align: right;\n",
       "    }\n",
       "</style>\n",
       "<table border=\"1\" class=\"dataframe\">\n",
       "  <thead>\n",
       "    <tr style=\"text-align: right;\">\n",
       "      <th></th>\n",
       "      <th>model</th>\n",
       "      <th>best_score</th>\n",
       "      <th>best_params</th>\n",
       "      <th>n_features</th>\n",
       "    </tr>\n",
       "  </thead>\n",
       "  <tbody>\n",
       "    <tr>\n",
       "      <th>2</th>\n",
       "      <td>bnb</td>\n",
       "      <td>0.729351</td>\n",
       "      <td>{}</td>\n",
       "      <td>1</td>\n",
       "    </tr>\n",
       "    <tr>\n",
       "      <th>5</th>\n",
       "      <td>bnb</td>\n",
       "      <td>0.729351</td>\n",
       "      <td>{}</td>\n",
       "      <td>2</td>\n",
       "    </tr>\n",
       "    <tr>\n",
       "      <th>8</th>\n",
       "      <td>bnb</td>\n",
       "      <td>0.715355</td>\n",
       "      <td>{}</td>\n",
       "      <td>3</td>\n",
       "    </tr>\n",
       "    <tr>\n",
       "      <th>11</th>\n",
       "      <td>bnb</td>\n",
       "      <td>0.729351</td>\n",
       "      <td>{}</td>\n",
       "      <td>4</td>\n",
       "    </tr>\n",
       "    <tr>\n",
       "      <th>1</th>\n",
       "      <td>gnb</td>\n",
       "      <td>0.729351</td>\n",
       "      <td>{}</td>\n",
       "      <td>1</td>\n",
       "    </tr>\n",
       "    <tr>\n",
       "      <th>4</th>\n",
       "      <td>gnb</td>\n",
       "      <td>0.729351</td>\n",
       "      <td>{}</td>\n",
       "      <td>2</td>\n",
       "    </tr>\n",
       "    <tr>\n",
       "      <th>7</th>\n",
       "      <td>gnb</td>\n",
       "      <td>0.729351</td>\n",
       "      <td>{}</td>\n",
       "      <td>3</td>\n",
       "    </tr>\n",
       "    <tr>\n",
       "      <th>10</th>\n",
       "      <td>gnb</td>\n",
       "      <td>0.739151</td>\n",
       "      <td>{}</td>\n",
       "      <td>4</td>\n",
       "    </tr>\n",
       "    <tr>\n",
       "      <th>0</th>\n",
       "      <td>random_forest</td>\n",
       "      <td>0.729351</td>\n",
       "      <td>{'max_depth': 2, 'n_estimators': 5}</td>\n",
       "      <td>1</td>\n",
       "    </tr>\n",
       "    <tr>\n",
       "      <th>3</th>\n",
       "      <td>random_forest</td>\n",
       "      <td>0.729351</td>\n",
       "      <td>{'max_depth': 2, 'n_estimators': 5}</td>\n",
       "      <td>2</td>\n",
       "    </tr>\n",
       "    <tr>\n",
       "      <th>6</th>\n",
       "      <td>random_forest</td>\n",
       "      <td>0.729351</td>\n",
       "      <td>{'max_depth': 3, 'n_estimators': 20}</td>\n",
       "      <td>3</td>\n",
       "    </tr>\n",
       "    <tr>\n",
       "      <th>9</th>\n",
       "      <td>random_forest</td>\n",
       "      <td>0.746164</td>\n",
       "      <td>{'max_depth': 4, 'n_estimators': 10}</td>\n",
       "      <td>4</td>\n",
       "    </tr>\n",
       "  </tbody>\n",
       "</table>\n",
       "</div>"
      ],
      "text/plain": [
       "            model  best_score                           best_params  \\\n",
       "2             bnb    0.729351                                    {}   \n",
       "5             bnb    0.729351                                    {}   \n",
       "8             bnb    0.715355                                    {}   \n",
       "11            bnb    0.729351                                    {}   \n",
       "1             gnb    0.729351                                    {}   \n",
       "4             gnb    0.729351                                    {}   \n",
       "7             gnb    0.729351                                    {}   \n",
       "10            gnb    0.739151                                    {}   \n",
       "0   random_forest    0.729351   {'max_depth': 2, 'n_estimators': 5}   \n",
       "3   random_forest    0.729351   {'max_depth': 2, 'n_estimators': 5}   \n",
       "6   random_forest    0.729351  {'max_depth': 3, 'n_estimators': 20}   \n",
       "9   random_forest    0.746164  {'max_depth': 4, 'n_estimators': 10}   \n",
       "\n",
       "    n_features  \n",
       "2            1  \n",
       "5            2  \n",
       "8            3  \n",
       "11           4  \n",
       "1            1  \n",
       "4            2  \n",
       "7            3  \n",
       "10           4  \n",
       "0            1  \n",
       "3            2  \n",
       "6            3  \n",
       "9            4  "
      ]
     },
     "execution_count": 383,
     "metadata": {},
     "output_type": "execute_result"
    }
   ],
   "source": [
    "tst = ieq_and_sq_prediction(sleep, feature_list=[\"tst_binary_fb\",\"waso_binary\",\"rem2nrem_binary\",\"se_binary\"], target_list=[\"tst_binary_bw\"])\n",
    "tst.split_data(\"tst_binary_bw\")\n",
    "res = tst.optimize_models()\n",
    "res"
   ]
  },
  {
   "cell_type": "code",
   "execution_count": 385,
   "metadata": {},
   "outputs": [
    {
     "name": "stdout",
     "output_type": "stream",
     "text": [
      "BernoulliNB()\n",
      "Cross Validation Scores:\n",
      "\t0.7318729463307777\n",
      "\t0.785515873015873\n",
      "\t0.6726294928542119\n",
      "\t0.7888175829168559\n",
      "\t0.7101310730142545\n",
      "Average:0.7377933936263947\n",
      "Model Score: 0.7450800774401819\n"
     ]
    },
    {
     "data": {
      "image/png": "[encoded data removed]",
      "text/plain": [
       "<Figure size 360x288 with 2 Axes>"
      ]
     },
     "metadata": {
      "needs_background": "light"
     },
     "output_type": "display_data"
    }
   ],
   "source": [
    "#tst.train_model(RandomForestClassifier(max_depth=4,n_estimators=10),features_to_include=[\"tst_binary_fb\",\"rem2nrem_binary\",\"waso_binary\",\"se_binary\"])\n",
    "#tst.train_model(GaussianNB(),features_to_include=[\"tst_binary_fb\",\"rem2nrem_binary\",\"waso_binary\",\"se_binary\"])\n",
    "tst.train_model(BernoulliNB(),features_to_include=[\"tst_binary_fb\"])\n",
    "tst.predict()\n",
    "tst.plot_confusion_matrix(save=True,target_label=\"tst_bw\")"
   ]
  },
  {
   "cell_type": "markdown",
   "metadata": {},
   "source": [
    "## Restful"
   ]
  },
  {
   "cell_type": "code",
   "execution_count": 311,
   "metadata": {},
   "outputs": [
    {
     "name": "stdout",
     "output_type": "stream",
     "text": [
      "1: 841\n",
      "0: 224\n",
      "Highest Scoring Model:\n",
      "\tModel:\trandom_forest\n",
      "\tScore:\t0.609\n",
      "\tParameters:\t{'max_depth': 2, 'n_estimators': 5}\n",
      "\tNumber of Features:\t2\n"
     ]
    },
    {
     "data": {
      "text/html": [
       "<div>\n",
       "<style scoped>\n",
       "    .dataframe tbody tr th:only-of-type {\n",
       "        vertical-align: middle;\n",
       "    }\n",
       "\n",
       "    .dataframe tbody tr th {\n",
       "        vertical-align: top;\n",
       "    }\n",
       "\n",
       "    .dataframe thead th {\n",
       "        text-align: right;\n",
       "    }\n",
       "</style>\n",
       "<table border=\"1\" class=\"dataframe\">\n",
       "  <thead>\n",
       "    <tr style=\"text-align: right;\">\n",
       "      <th></th>\n",
       "      <th>model</th>\n",
       "      <th>best_score</th>\n",
       "      <th>best_params</th>\n",
       "      <th>n_features</th>\n",
       "    </tr>\n",
       "  </thead>\n",
       "  <tbody>\n",
       "    <tr>\n",
       "      <th>2</th>\n",
       "      <td>bnb</td>\n",
       "      <td>0.600853</td>\n",
       "      <td>{}</td>\n",
       "      <td>1</td>\n",
       "    </tr>\n",
       "    <tr>\n",
       "      <th>5</th>\n",
       "      <td>bnb</td>\n",
       "      <td>0.599784</td>\n",
       "      <td>{}</td>\n",
       "      <td>2</td>\n",
       "    </tr>\n",
       "    <tr>\n",
       "      <th>8</th>\n",
       "      <td>bnb</td>\n",
       "      <td>0.599784</td>\n",
       "      <td>{}</td>\n",
       "      <td>3</td>\n",
       "    </tr>\n",
       "    <tr>\n",
       "      <th>11</th>\n",
       "      <td>bnb</td>\n",
       "      <td>0.578393</td>\n",
       "      <td>{}</td>\n",
       "      <td>4</td>\n",
       "    </tr>\n",
       "    <tr>\n",
       "      <th>1</th>\n",
       "      <td>gnb</td>\n",
       "      <td>0.600853</td>\n",
       "      <td>{}</td>\n",
       "      <td>1</td>\n",
       "    </tr>\n",
       "    <tr>\n",
       "      <th>4</th>\n",
       "      <td>gnb</td>\n",
       "      <td>0.570901</td>\n",
       "      <td>{}</td>\n",
       "      <td>2</td>\n",
       "    </tr>\n",
       "    <tr>\n",
       "      <th>7</th>\n",
       "      <td>gnb</td>\n",
       "      <td>0.581585</td>\n",
       "      <td>{}</td>\n",
       "      <td>3</td>\n",
       "    </tr>\n",
       "    <tr>\n",
       "      <th>10</th>\n",
       "      <td>gnb</td>\n",
       "      <td>0.577330</td>\n",
       "      <td>{}</td>\n",
       "      <td>4</td>\n",
       "    </tr>\n",
       "    <tr>\n",
       "      <th>0</th>\n",
       "      <td>random_forest</td>\n",
       "      <td>0.600853</td>\n",
       "      <td>{'max_depth': 2, 'n_estimators': 5}</td>\n",
       "      <td>1</td>\n",
       "    </tr>\n",
       "    <tr>\n",
       "      <th>3</th>\n",
       "      <td>random_forest</td>\n",
       "      <td>0.609404</td>\n",
       "      <td>{'max_depth': 2, 'n_estimators': 5}</td>\n",
       "      <td>2</td>\n",
       "    </tr>\n",
       "    <tr>\n",
       "      <th>6</th>\n",
       "      <td>random_forest</td>\n",
       "      <td>0.606201</td>\n",
       "      <td>{'max_depth': 3, 'n_estimators': 5}</td>\n",
       "      <td>3</td>\n",
       "    </tr>\n",
       "    <tr>\n",
       "      <th>9</th>\n",
       "      <td>random_forest</td>\n",
       "      <td>0.606201</td>\n",
       "      <td>{'max_depth': 2, 'n_estimators': 5}</td>\n",
       "      <td>4</td>\n",
       "    </tr>\n",
       "  </tbody>\n",
       "</table>\n",
       "</div>"
      ],
      "text/plain": [
       "            model  best_score                          best_params  n_features\n",
       "2             bnb    0.600853                                   {}           1\n",
       "5             bnb    0.599784                                   {}           2\n",
       "8             bnb    0.599784                                   {}           3\n",
       "11            bnb    0.578393                                   {}           4\n",
       "1             gnb    0.600853                                   {}           1\n",
       "4             gnb    0.570901                                   {}           2\n",
       "7             gnb    0.581585                                   {}           3\n",
       "10            gnb    0.577330                                   {}           4\n",
       "0   random_forest    0.600853  {'max_depth': 2, 'n_estimators': 5}           1\n",
       "3   random_forest    0.609404  {'max_depth': 2, 'n_estimators': 5}           2\n",
       "6   random_forest    0.606201  {'max_depth': 3, 'n_estimators': 5}           3\n",
       "9   random_forest    0.606201  {'max_depth': 2, 'n_estimators': 5}           4"
      ]
     },
     "execution_count": 311,
     "metadata": {},
     "output_type": "execute_result"
    }
   ],
   "source": [
    "rest = ieq_and_sq_prediction(sleep, feature_list=[\"waso_binary\",\"se_binary\",\"rem2nrem_binary\",\"tst_binary_fb\"], target_list=[\"restful_binary\"])\n",
    "rest.target_summary(\"restful_binary\")\n",
    "rest.split_data(\"restful_binary\")\n",
    "add = get_artificial(sleep,\"restful_binary\",0,features=[\"tst_binary_fb\",\"rem2nrem_binary\",\"waso_binary\",\"se_binary\"])\n",
    "rest.split_data(\"restful_binary\")\n",
    "rest.X_train = rest.X_train.append(add[[\"tst_binary_fb\",\"rem2nrem_binary\",\"waso_binary\",\"se_binary\"]])\n",
    "rest.y_train = rest.y_train.append(add[\"restful_binary\"])\n",
    "res = rest.optimize_models()\n",
    "res"
   ]
  },
  {
   "cell_type": "code",
   "execution_count": 312,
   "metadata": {},
   "outputs": [
    {
     "name": "stdout",
     "output_type": "stream",
     "text": [
      "RandomForestClassifier(max_depth=2, n_estimators=5)\n",
      "Cross Validation Scores:\n",
      "\t0.564887572533849\n",
      "\t0.6298447383553767\n",
      "\t0.6525453941206684\n",
      "\t0.7676280646386723\n",
      "\t0.5191279308926368\n",
      "Average:0.6268067401082407\n",
      "Model Score: 0.7098791695030633\n"
     ]
    },
    {
     "data": {
      "image/png": "[encoded data removed]",
      "text/plain": [
       "<Figure size 360x288 with 2 Axes>"
      ]
     },
     "metadata": {
      "needs_background": "light"
     },
     "output_type": "display_data"
    }
   ],
   "source": [
    "rest.train_model(RandomForestClassifier(max_depth=2,n_estimators=5),features_to_include=[\"waso_binary\",\"se_binary\"])\n",
    "rest.predict()\n",
    "rest.plot_confusion_matrix()"
   ]
  },
  {
   "cell_type": "markdown",
   "metadata": {},
   "source": [
    "## NAW"
   ]
  },
  {
   "cell_type": "code",
   "execution_count": 313,
   "metadata": {},
   "outputs": [
    {
     "name": "stdout",
     "output_type": "stream",
     "text": [
      "0: 517\n",
      "1: 548\n"
     ]
    }
   ],
   "source": [
    "naw = ieq_and_sq_prediction(sleep, feature_list=[\"waso_binary\",\"se_binary\",\"tst_binary_fb\",\"rem2nrem_binary\"], target_list=[\"naw_binary\"])\n",
    "naw.target_summary(\"naw_binary\")"
   ]
  },
  {
   "cell_type": "code",
   "execution_count": 314,
   "metadata": {},
   "outputs": [
    {
     "name": "stdout",
     "output_type": "stream",
     "text": [
      "Highest Scoring Model:\n",
      "\tModel:\trandom_forest\n",
      "\tScore:\t0.579\n",
      "\tParameters:\t{'max_depth': 2, 'n_estimators': 5}\n",
      "\tNumber of Features:\t1\n"
     ]
    },
    {
     "data": {
      "text/html": [
       "<div>\n",
       "<style scoped>\n",
       "    .dataframe tbody tr th:only-of-type {\n",
       "        vertical-align: middle;\n",
       "    }\n",
       "\n",
       "    .dataframe tbody tr th {\n",
       "        vertical-align: top;\n",
       "    }\n",
       "\n",
       "    .dataframe thead th {\n",
       "        text-align: right;\n",
       "    }\n",
       "</style>\n",
       "<table border=\"1\" class=\"dataframe\">\n",
       "  <thead>\n",
       "    <tr style=\"text-align: right;\">\n",
       "      <th></th>\n",
       "      <th>model</th>\n",
       "      <th>best_score</th>\n",
       "      <th>best_params</th>\n",
       "      <th>n_features</th>\n",
       "    </tr>\n",
       "  </thead>\n",
       "  <tbody>\n",
       "    <tr>\n",
       "      <th>2</th>\n",
       "      <td>bnb</td>\n",
       "      <td>0.579248</td>\n",
       "      <td>{}</td>\n",
       "      <td>1</td>\n",
       "    </tr>\n",
       "    <tr>\n",
       "      <th>5</th>\n",
       "      <td>bnb</td>\n",
       "      <td>0.579248</td>\n",
       "      <td>{}</td>\n",
       "      <td>2</td>\n",
       "    </tr>\n",
       "    <tr>\n",
       "      <th>8</th>\n",
       "      <td>bnb</td>\n",
       "      <td>0.579248</td>\n",
       "      <td>{}</td>\n",
       "      <td>3</td>\n",
       "    </tr>\n",
       "    <tr>\n",
       "      <th>11</th>\n",
       "      <td>bnb</td>\n",
       "      <td>0.570797</td>\n",
       "      <td>{}</td>\n",
       "      <td>4</td>\n",
       "    </tr>\n",
       "    <tr>\n",
       "      <th>1</th>\n",
       "      <td>gnb</td>\n",
       "      <td>0.579248</td>\n",
       "      <td>{}</td>\n",
       "      <td>1</td>\n",
       "    </tr>\n",
       "    <tr>\n",
       "      <th>4</th>\n",
       "      <td>gnb</td>\n",
       "      <td>0.579248</td>\n",
       "      <td>{}</td>\n",
       "      <td>2</td>\n",
       "    </tr>\n",
       "    <tr>\n",
       "      <th>7</th>\n",
       "      <td>gnb</td>\n",
       "      <td>0.579248</td>\n",
       "      <td>{}</td>\n",
       "      <td>3</td>\n",
       "    </tr>\n",
       "    <tr>\n",
       "      <th>10</th>\n",
       "      <td>gnb</td>\n",
       "      <td>0.569398</td>\n",
       "      <td>{}</td>\n",
       "      <td>4</td>\n",
       "    </tr>\n",
       "    <tr>\n",
       "      <th>0</th>\n",
       "      <td>random_forest</td>\n",
       "      <td>0.579248</td>\n",
       "      <td>{'max_depth': 2, 'n_estimators': 5}</td>\n",
       "      <td>1</td>\n",
       "    </tr>\n",
       "    <tr>\n",
       "      <th>3</th>\n",
       "      <td>random_forest</td>\n",
       "      <td>0.579248</td>\n",
       "      <td>{'max_depth': 2, 'n_estimators': 10}</td>\n",
       "      <td>2</td>\n",
       "    </tr>\n",
       "    <tr>\n",
       "      <th>6</th>\n",
       "      <td>random_forest</td>\n",
       "      <td>0.579248</td>\n",
       "      <td>{'max_depth': 2, 'n_estimators': 20}</td>\n",
       "      <td>3</td>\n",
       "    </tr>\n",
       "    <tr>\n",
       "      <th>9</th>\n",
       "      <td>random_forest</td>\n",
       "      <td>0.579248</td>\n",
       "      <td>{'max_depth': 2, 'n_estimators': 15}</td>\n",
       "      <td>4</td>\n",
       "    </tr>\n",
       "  </tbody>\n",
       "</table>\n",
       "</div>"
      ],
      "text/plain": [
       "            model  best_score                           best_params  \\\n",
       "2             bnb    0.579248                                    {}   \n",
       "5             bnb    0.579248                                    {}   \n",
       "8             bnb    0.579248                                    {}   \n",
       "11            bnb    0.570797                                    {}   \n",
       "1             gnb    0.579248                                    {}   \n",
       "4             gnb    0.579248                                    {}   \n",
       "7             gnb    0.579248                                    {}   \n",
       "10            gnb    0.569398                                    {}   \n",
       "0   random_forest    0.579248   {'max_depth': 2, 'n_estimators': 5}   \n",
       "3   random_forest    0.579248  {'max_depth': 2, 'n_estimators': 10}   \n",
       "6   random_forest    0.579248  {'max_depth': 2, 'n_estimators': 20}   \n",
       "9   random_forest    0.579248  {'max_depth': 2, 'n_estimators': 15}   \n",
       "\n",
       "    n_features  \n",
       "2            1  \n",
       "5            2  \n",
       "8            3  \n",
       "11           4  \n",
       "1            1  \n",
       "4            2  \n",
       "7            3  \n",
       "10           4  \n",
       "0            1  \n",
       "3            2  \n",
       "6            3  \n",
       "9            4  "
      ]
     },
     "execution_count": 314,
     "metadata": {},
     "output_type": "execute_result"
    }
   ],
   "source": [
    "naw.split_data(\"naw_binary\")\n",
    "naw.split_data(\"naw_binary\")\n",
    "res = naw.optimize_models()\n",
    "res"
   ]
  },
  {
   "cell_type": "code",
   "execution_count": 315,
   "metadata": {},
   "outputs": [
    {
     "name": "stdout",
     "output_type": "stream",
     "text": [
      "BernoulliNB()\n",
      "Cross Validation Scores:\n",
      "\t0.5603798162621692\n",
      "\t0.6235332464146024\n",
      "\t0.5697849320490829\n",
      "\t0.5763199888989108\n",
      "\t0.5962013733890899\n",
      "Average:0.5852438714027711\n",
      "Model Score: 0.5903724747474748\n"
     ]
    },
    {
     "data": {
      "image/png": "[encoded data removed]",
      "text/plain": [
       "<Figure size 360x288 with 2 Axes>"
      ]
     },
     "metadata": {
      "needs_background": "light"
     },
     "output_type": "display_data"
    }
   ],
   "source": [
    "naw.train_model(BernoulliNB(),features_to_include=[\"waso_binary\",\"se_binary\"])\n",
    "naw.predict()\n",
    "naw.plot_confusion_matrix()"
   ]
  }
 ],
 "metadata": {
  "kernelspec": {
   "display_name": "Python 3",
   "language": "python",
   "name": "python3"
  },
  "language_info": {
   "codemirror_mode": {
    "name": "ipython",
    "version": 3
   },
   "file_extension": ".py",
   "mimetype": "text/x-python",
   "name": "python",
   "nbconvert_exporter": "python",
   "pygments_lexer": "ipython3",
   "version": "3.7.0"
  },
  "toc": {
   "base_numbering": 1,
   "nav_menu": {},
   "number_sections": false,
   "sideBar": false,
   "skip_h1_title": false,
   "title_cell": "Table of Contents",
   "title_sidebar": "Contents",
   "toc_cell": false,
   "toc_position": {},
   "toc_section_display": false,
   "toc_window_display": false
  }
 },
 "nbformat": 4,
 "nbformat_minor": 4
}
