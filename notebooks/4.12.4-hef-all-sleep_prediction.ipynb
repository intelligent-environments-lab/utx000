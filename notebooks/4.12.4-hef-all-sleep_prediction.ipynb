{
 "cells": [
  {
   "cell_type": "markdown",
   "metadata": {},
   "source": [
    "# Sleep Prediction\n",
    "Here we try to use environemntal parameter in addition to mood characteristics to see if we are able to predict sleep quality."
   ]
  },
  {
   "cell_type": "code",
   "execution_count": 149,
   "metadata": {},
   "outputs": [
    {
     "name": "stdout",
     "output_type": "stream",
     "text": [
      "The autoreload extension is already loaded. To reload it, use:\n",
      "  %reload_ext autoreload\n"
     ]
    }
   ],
   "source": [
    "import warnings\n",
    "warnings.filterwarnings('ignore')\n",
    "\n",
    "%load_ext autoreload\n",
    "%autoreload 2"
   ]
  },
  {
   "cell_type": "code",
   "execution_count": 150,
   "metadata": {},
   "outputs": [],
   "source": [
    "# general\n",
    "import os\n",
    "import sys\n",
    "sys.path.append('../')\n",
    "# user-defined functions\n",
    "from src.visualization import visualize\n",
    "# basic data science\n",
    "import pandas as pd\n",
    "pd.set_option('display.max_columns', 200)\n",
    "import numpy as np\n",
    "# timeseries\n",
    "from datetime import datetime, timedelta\n",
    "# plotting\n",
    "import matplotlib.pyplot as plt\n",
    "from matplotlib import cm\n",
    "from matplotlib.colors import ListedColormap, LinearSegmentedColormap\n",
    "import seaborn as sns\n",
    "import matplotlib.dates as mdates"
   ]
  },
  {
   "cell_type": "markdown",
   "metadata": {},
   "source": [
    "# Table of Contents\n",
    "1. [Data Import](#data-import)\n",
    "    1. Fitbit Sleep\n",
    "    2. Self-Report Sleep (Beiwe App)\n",
    "    3. IEQ (BEVO Beacon)\n",
    "    4. Mood (Beiwe App)\n",
    "2. [Summary and Feature/Target Identification](#summary)\n",
    "    1. Feature: IEQ\n",
    "    2. Feature: Mood\n",
    "    3. Target: Fitbit Sleep\n",
    "    4. Target: Self-Report Sleep\n",
    "3. [Target Encoding](#encoding)\n",
    "4. [Feature Engineering](#feature_engineering)\n",
    "5. [Prediction](#prediction)\n",
    "    1. Fitbit Sleep Targets\n",
    "        1. TST\n",
    "        2. SOL\n",
    "        3. WASO\n",
    "        4. SE\n",
    "        4. REM:nREM\n",
    "    2. Self-Report Sleep Targets\n",
    "        1. TST\n",
    "        2. SOL\n",
    "        3. NAW\n",
    "        4. Restfulness"
   ]
  },
  {
   "cell_type": "markdown",
   "metadata": {},
   "source": [
    "<a id=\"data-import\"></a>"
   ]
  },
  {
   "cell_type": "markdown",
   "metadata": {},
   "source": [
    "# Data Import\n",
    "For this analysis we need all reports of sleep quality in addition to the IEQ and mood data."
   ]
  },
  {
   "cell_type": "markdown",
   "metadata": {},
   "source": [
    "### Fitbit Sleep Summary\n",
    "The data included are all possible observations of sleep measurements. The data has **not** been altered from its original state recorded by Fitbit, but a few new variables have been defined:\n",
    "\n",
    "* `nrem`: We have defined a aggregated value for `light`+`deep` sleep recorded by Fitbit in order to improve the accuracy of our sleep measurements. We include both a `count`, `minutes`, and `percent` metric for this variable referencing the number of times the participant transitioned into that state, the total amount of minutes per night spent in that state, and the percentage of the TST was spent in the state, respectively.\n",
    "* `rem2nrem`: This new variable represents the ratio of time spent in REM sleep to the newly defined `nrem` sleep. \n",
    "* `waso`: Acronym for Wake After Sleep Onset and refers to the amount of time (in minutes) spent awake after initially falling asleep. Calculated by multiplying the TST by (1 - sleep efficiency) - efficiency does not take the initial sleep period into account. \n",
    "* `sol`: Acronym got Sleep Onset Latency and refers to the amount of time it takes for the participant to fall asleep. Calculated by taking the `wake_minutes` measured by Fitbit and subtracting the newly calculated `waso`. "
   ]
  },
  {
   "cell_type": "code",
   "execution_count": 151,
   "metadata": {},
   "outputs": [
    {
     "data": {
      "text/html": [
       "<div>\n",
       "<style scoped>\n",
       "    .dataframe tbody tr th:only-of-type {\n",
       "        vertical-align: middle;\n",
       "    }\n",
       "\n",
       "    .dataframe tbody tr th {\n",
       "        vertical-align: top;\n",
       "    }\n",
       "\n",
       "    .dataframe thead th {\n",
       "        text-align: right;\n",
       "    }\n",
       "</style>\n",
       "<table border=\"1\" class=\"dataframe\">\n",
       "  <thead>\n",
       "    <tr style=\"text-align: right;\">\n",
       "      <th></th>\n",
       "      <th>start_date</th>\n",
       "      <th>end_date</th>\n",
       "      <th>deep_count</th>\n",
       "      <th>deep_minutes</th>\n",
       "      <th>light_count</th>\n",
       "      <th>light_minutes</th>\n",
       "      <th>rem_count</th>\n",
       "      <th>rem_minutes</th>\n",
       "      <th>wake_count</th>\n",
       "      <th>wake_minutes</th>\n",
       "      <th>beiwe</th>\n",
       "      <th>efficiency</th>\n",
       "      <th>end_time</th>\n",
       "      <th>start_time</th>\n",
       "      <th>redcap</th>\n",
       "      <th>beacon</th>\n",
       "      <th>nrem_count</th>\n",
       "      <th>nrem_minutes</th>\n",
       "      <th>rem2nrem</th>\n",
       "      <th>tst_fb</th>\n",
       "      <th>rem_percent</th>\n",
       "      <th>nrem_percent</th>\n",
       "      <th>waso</th>\n",
       "      <th>sol_fb</th>\n",
       "    </tr>\n",
       "  </thead>\n",
       "  <tbody>\n",
       "    <tr>\n",
       "      <th>0</th>\n",
       "      <td>2020-05-14</td>\n",
       "      <td>2020-05-14</td>\n",
       "      <td>5</td>\n",
       "      <td>84</td>\n",
       "      <td>20</td>\n",
       "      <td>213</td>\n",
       "      <td>10</td>\n",
       "      <td>82</td>\n",
       "      <td>21</td>\n",
       "      <td>27</td>\n",
       "      <td>hfttkth7</td>\n",
       "      <td>97</td>\n",
       "      <td>2020-05-14 07:13:00</td>\n",
       "      <td>2020-05-14 00:27:00</td>\n",
       "      <td>NaN</td>\n",
       "      <td>NaN</td>\n",
       "      <td>25</td>\n",
       "      <td>297</td>\n",
       "      <td>0.276094</td>\n",
       "      <td>6.766667</td>\n",
       "      <td>0.201970</td>\n",
       "      <td>0.731527</td>\n",
       "      <td>12.18</td>\n",
       "      <td>14.82</td>\n",
       "    </tr>\n",
       "    <tr>\n",
       "      <th>1</th>\n",
       "      <td>2020-05-14</td>\n",
       "      <td>2020-05-15</td>\n",
       "      <td>4</td>\n",
       "      <td>95</td>\n",
       "      <td>31</td>\n",
       "      <td>250</td>\n",
       "      <td>6</td>\n",
       "      <td>47</td>\n",
       "      <td>33</td>\n",
       "      <td>101</td>\n",
       "      <td>hfttkth7</td>\n",
       "      <td>87</td>\n",
       "      <td>2020-05-15 08:06:30</td>\n",
       "      <td>2020-05-14 23:53:30</td>\n",
       "      <td>NaN</td>\n",
       "      <td>NaN</td>\n",
       "      <td>35</td>\n",
       "      <td>345</td>\n",
       "      <td>0.136232</td>\n",
       "      <td>8.216667</td>\n",
       "      <td>0.095335</td>\n",
       "      <td>0.699797</td>\n",
       "      <td>64.09</td>\n",
       "      <td>36.91</td>\n",
       "    </tr>\n",
       "    <tr>\n",
       "      <th>2</th>\n",
       "      <td>2020-05-15</td>\n",
       "      <td>2020-05-16</td>\n",
       "      <td>2</td>\n",
       "      <td>47</td>\n",
       "      <td>17</td>\n",
       "      <td>190</td>\n",
       "      <td>8</td>\n",
       "      <td>50</td>\n",
       "      <td>20</td>\n",
       "      <td>42</td>\n",
       "      <td>hfttkth7</td>\n",
       "      <td>95</td>\n",
       "      <td>2020-05-16 04:57:00</td>\n",
       "      <td>2020-05-15 23:28:00</td>\n",
       "      <td>NaN</td>\n",
       "      <td>NaN</td>\n",
       "      <td>19</td>\n",
       "      <td>237</td>\n",
       "      <td>0.210970</td>\n",
       "      <td>5.483333</td>\n",
       "      <td>0.151976</td>\n",
       "      <td>0.720365</td>\n",
       "      <td>16.45</td>\n",
       "      <td>25.55</td>\n",
       "    </tr>\n",
       "    <tr>\n",
       "      <th>3</th>\n",
       "      <td>2020-05-17</td>\n",
       "      <td>2020-05-17</td>\n",
       "      <td>5</td>\n",
       "      <td>78</td>\n",
       "      <td>21</td>\n",
       "      <td>242</td>\n",
       "      <td>11</td>\n",
       "      <td>83</td>\n",
       "      <td>25</td>\n",
       "      <td>44</td>\n",
       "      <td>hfttkth7</td>\n",
       "      <td>96</td>\n",
       "      <td>2020-05-17 09:28:30</td>\n",
       "      <td>2020-05-17 02:01:30</td>\n",
       "      <td>NaN</td>\n",
       "      <td>NaN</td>\n",
       "      <td>26</td>\n",
       "      <td>320</td>\n",
       "      <td>0.259375</td>\n",
       "      <td>7.450000</td>\n",
       "      <td>0.185682</td>\n",
       "      <td>0.715884</td>\n",
       "      <td>17.88</td>\n",
       "      <td>26.12</td>\n",
       "    </tr>\n",
       "    <tr>\n",
       "      <th>4</th>\n",
       "      <td>2020-05-18</td>\n",
       "      <td>2020-05-18</td>\n",
       "      <td>5</td>\n",
       "      <td>96</td>\n",
       "      <td>20</td>\n",
       "      <td>167</td>\n",
       "      <td>14</td>\n",
       "      <td>88</td>\n",
       "      <td>28</td>\n",
       "      <td>65</td>\n",
       "      <td>hfttkth7</td>\n",
       "      <td>92</td>\n",
       "      <td>2020-05-18 07:20:00</td>\n",
       "      <td>2020-05-18 00:24:00</td>\n",
       "      <td>NaN</td>\n",
       "      <td>NaN</td>\n",
       "      <td>25</td>\n",
       "      <td>263</td>\n",
       "      <td>0.334601</td>\n",
       "      <td>6.933333</td>\n",
       "      <td>0.211538</td>\n",
       "      <td>0.632212</td>\n",
       "      <td>33.28</td>\n",
       "      <td>31.72</td>\n",
       "    </tr>\n",
       "  </tbody>\n",
       "</table>\n",
       "</div>"
      ],
      "text/plain": [
       "  start_date   end_date  deep_count  deep_minutes  light_count  light_minutes  \\\n",
       "0 2020-05-14 2020-05-14           5            84           20            213   \n",
       "1 2020-05-14 2020-05-15           4            95           31            250   \n",
       "2 2020-05-15 2020-05-16           2            47           17            190   \n",
       "3 2020-05-17 2020-05-17           5            78           21            242   \n",
       "4 2020-05-18 2020-05-18           5            96           20            167   \n",
       "\n",
       "   rem_count  rem_minutes  wake_count  wake_minutes     beiwe  efficiency  \\\n",
       "0         10           82          21            27  hfttkth7          97   \n",
       "1          6           47          33           101  hfttkth7          87   \n",
       "2          8           50          20            42  hfttkth7          95   \n",
       "3         11           83          25            44  hfttkth7          96   \n",
       "4         14           88          28            65  hfttkth7          92   \n",
       "\n",
       "             end_time          start_time  redcap  beacon  nrem_count  \\\n",
       "0 2020-05-14 07:13:00 2020-05-14 00:27:00     NaN     NaN          25   \n",
       "1 2020-05-15 08:06:30 2020-05-14 23:53:30     NaN     NaN          35   \n",
       "2 2020-05-16 04:57:00 2020-05-15 23:28:00     NaN     NaN          19   \n",
       "3 2020-05-17 09:28:30 2020-05-17 02:01:30     NaN     NaN          26   \n",
       "4 2020-05-18 07:20:00 2020-05-18 00:24:00     NaN     NaN          25   \n",
       "\n",
       "   nrem_minutes  rem2nrem    tst_fb  rem_percent  nrem_percent   waso  sol_fb  \n",
       "0           297  0.276094  6.766667     0.201970      0.731527  12.18   14.82  \n",
       "1           345  0.136232  8.216667     0.095335      0.699797  64.09   36.91  \n",
       "2           237  0.210970  5.483333     0.151976      0.720365  16.45   25.55  \n",
       "3           320  0.259375  7.450000     0.185682      0.715884  17.88   26.12  \n",
       "4           263  0.334601  6.933333     0.211538      0.632212  33.28   31.72  "
      ]
     },
     "execution_count": 151,
     "metadata": {},
     "output_type": "execute_result"
    }
   ],
   "source": [
    "fb_sleep = pd.read_csv(\"../data/processed/fitbit-sleep_summary-ux_s20.csv\",parse_dates=[\"start_time\",\"end_time\",\"start_date\",\"end_date\"],infer_datetime_format=True)#,index_col=[\"beiwe\",\"start_time\"])\n",
    "fb_sleep.head()"
   ]
  },
  {
   "cell_type": "markdown",
   "metadata": {},
   "source": [
    "### Self-Report Sleep\n",
    "Again, all the data from the morning EMA adminisited by Beiwe is included. Since the sleep questions were curated for this study, now new variables are defined from these."
   ]
  },
  {
   "cell_type": "code",
   "execution_count": 152,
   "metadata": {},
   "outputs": [
    {
     "data": {
      "text/html": [
       "<div>\n",
       "<style scoped>\n",
       "    .dataframe tbody tr th:only-of-type {\n",
       "        vertical-align: middle;\n",
       "    }\n",
       "\n",
       "    .dataframe tbody tr th {\n",
       "        vertical-align: top;\n",
       "    }\n",
       "\n",
       "    .dataframe thead th {\n",
       "        text-align: right;\n",
       "    }\n",
       "</style>\n",
       "<table border=\"1\" class=\"dataframe\">\n",
       "  <thead>\n",
       "    <tr style=\"text-align: right;\">\n",
       "      <th></th>\n",
       "      <th>timestamp</th>\n",
       "      <th>beiwe</th>\n",
       "      <th>content</th>\n",
       "      <th>stress</th>\n",
       "      <th>lonely</th>\n",
       "      <th>sad</th>\n",
       "      <th>energy</th>\n",
       "      <th>tst</th>\n",
       "      <th>sol</th>\n",
       "      <th>naw</th>\n",
       "      <th>restful</th>\n",
       "      <th>redcap</th>\n",
       "      <th>beacon</th>\n",
       "      <th>date</th>\n",
       "    </tr>\n",
       "  </thead>\n",
       "  <tbody>\n",
       "    <tr>\n",
       "      <th>0</th>\n",
       "      <td>2020-05-13 09:10:27</td>\n",
       "      <td>qh34m4r9</td>\n",
       "      <td>3</td>\n",
       "      <td>0.0</td>\n",
       "      <td>0.0</td>\n",
       "      <td>0.0</td>\n",
       "      <td>1.0</td>\n",
       "      <td>8.0</td>\n",
       "      <td>20.0</td>\n",
       "      <td>2.0</td>\n",
       "      <td>3.0</td>\n",
       "      <td>68</td>\n",
       "      <td>19.0</td>\n",
       "      <td>2020-05-13</td>\n",
       "    </tr>\n",
       "    <tr>\n",
       "      <th>1</th>\n",
       "      <td>2020-05-13 09:15:49</td>\n",
       "      <td>awa8uces</td>\n",
       "      <td>0.0</td>\n",
       "      <td>2.0</td>\n",
       "      <td>1.0</td>\n",
       "      <td>1.0</td>\n",
       "      <td>1.0</td>\n",
       "      <td>2.0</td>\n",
       "      <td>10.0</td>\n",
       "      <td>3.0</td>\n",
       "      <td>1.0</td>\n",
       "      <td>28</td>\n",
       "      <td>26.0</td>\n",
       "      <td>2020-05-13</td>\n",
       "    </tr>\n",
       "    <tr>\n",
       "      <th>2</th>\n",
       "      <td>2020-05-13 09:42:19</td>\n",
       "      <td>xxvnhauv</td>\n",
       "      <td>1</td>\n",
       "      <td>1.0</td>\n",
       "      <td>1.0</td>\n",
       "      <td>3.0</td>\n",
       "      <td>0.0</td>\n",
       "      <td>6.0</td>\n",
       "      <td>30.0</td>\n",
       "      <td>3.0</td>\n",
       "      <td>1.0</td>\n",
       "      <td>21</td>\n",
       "      <td>22.0</td>\n",
       "      <td>2020-05-13</td>\n",
       "    </tr>\n",
       "    <tr>\n",
       "      <th>3</th>\n",
       "      <td>2020-05-13 09:43:27</td>\n",
       "      <td>rvhdl2la</td>\n",
       "      <td>1</td>\n",
       "      <td>1.0</td>\n",
       "      <td>2.0</td>\n",
       "      <td>3.0</td>\n",
       "      <td>0.0</td>\n",
       "      <td>5.3</td>\n",
       "      <td>5.0</td>\n",
       "      <td>2.0</td>\n",
       "      <td>2.0</td>\n",
       "      <td>29</td>\n",
       "      <td>NaN</td>\n",
       "      <td>2020-05-13</td>\n",
       "    </tr>\n",
       "    <tr>\n",
       "      <th>4</th>\n",
       "      <td>2020-05-13 10:11:51</td>\n",
       "      <td>q5y11ytm</td>\n",
       "      <td>3</td>\n",
       "      <td>1.0</td>\n",
       "      <td>0.0</td>\n",
       "      <td>1.0</td>\n",
       "      <td>2.0</td>\n",
       "      <td>2.0</td>\n",
       "      <td>10.0</td>\n",
       "      <td>0.0</td>\n",
       "      <td>0.0</td>\n",
       "      <td>48</td>\n",
       "      <td>NaN</td>\n",
       "      <td>2020-05-13</td>\n",
       "    </tr>\n",
       "  </tbody>\n",
       "</table>\n",
       "</div>"
      ],
      "text/plain": [
       "            timestamp     beiwe content  stress  lonely  sad  energy  tst  \\\n",
       "0 2020-05-13 09:10:27  qh34m4r9       3     0.0     0.0  0.0     1.0  8.0   \n",
       "1 2020-05-13 09:15:49  awa8uces     0.0     2.0     1.0  1.0     1.0  2.0   \n",
       "2 2020-05-13 09:42:19  xxvnhauv       1     1.0     1.0  3.0     0.0  6.0   \n",
       "3 2020-05-13 09:43:27  rvhdl2la       1     1.0     2.0  3.0     0.0  5.3   \n",
       "4 2020-05-13 10:11:51  q5y11ytm       3     1.0     0.0  1.0     2.0  2.0   \n",
       "\n",
       "    sol  naw  restful  redcap  beacon       date  \n",
       "0  20.0  2.0      3.0      68    19.0 2020-05-13  \n",
       "1  10.0  3.0      1.0      28    26.0 2020-05-13  \n",
       "2  30.0  3.0      1.0      21    22.0 2020-05-13  \n",
       "3   5.0  2.0      2.0      29     NaN 2020-05-13  \n",
       "4  10.0  0.0      0.0      48     NaN 2020-05-13  "
      ]
     },
     "execution_count": 152,
     "metadata": {},
     "output_type": "execute_result"
    }
   ],
   "source": [
    "bw_sleep = pd.read_csv(\"../data/processed/beiwe-morning_ema-ux_s20.csv\",parse_dates=[\"timestamp\"],infer_datetime_format=True)\n",
    "bw_sleep[\"date\"] = pd.to_datetime(bw_sleep[\"timestamp\"].dt.date)\n",
    "bw_sleep.head()"
   ]
  },
  {
   "cell_type": "markdown",
   "metadata": {},
   "source": [
    "### Beacon IAQ\n",
    "The BEVO Beacon data that is included corresponds to nights when Fitbit has detected a sleep event and `gps` data from Beiwe confirms that the participant is home. Since the beacon data is the most restricted and includes all of our (most) relevant features, we can use this dataset to subset the sleep target datasets. "
   ]
  },
  {
   "cell_type": "code",
   "execution_count": 153,
   "metadata": {},
   "outputs": [
    {
     "data": {
      "text/html": [
       "<div>\n",
       "<style scoped>\n",
       "    .dataframe tbody tr th:only-of-type {\n",
       "        vertical-align: middle;\n",
       "    }\n",
       "\n",
       "    .dataframe tbody tr th {\n",
       "        vertical-align: top;\n",
       "    }\n",
       "\n",
       "    .dataframe thead th {\n",
       "        text-align: right;\n",
       "    }\n",
       "</style>\n",
       "<table border=\"1\" class=\"dataframe\">\n",
       "  <thead>\n",
       "    <tr style=\"text-align: right;\">\n",
       "      <th></th>\n",
       "      <th>start_time</th>\n",
       "      <th>end_time</th>\n",
       "      <th>beacon</th>\n",
       "      <th>beiwe</th>\n",
       "      <th>fitbit</th>\n",
       "      <th>redcap</th>\n",
       "      <th>tvoc_median</th>\n",
       "      <th>lux_median</th>\n",
       "      <th>no2_median</th>\n",
       "      <th>co_median</th>\n",
       "      <th>co2_median</th>\n",
       "      <th>pm2p5_number_median</th>\n",
       "      <th>pm2p5_mass_median</th>\n",
       "      <th>temperature_c_median</th>\n",
       "      <th>rh_median</th>\n",
       "      <th>tvoc_delta</th>\n",
       "      <th>lux_delta</th>\n",
       "      <th>no2_delta</th>\n",
       "      <th>co_delta</th>\n",
       "      <th>co2_delta</th>\n",
       "      <th>pm2p5_number_delta</th>\n",
       "      <th>pm2p5_mass_delta</th>\n",
       "      <th>temperature_c_delta</th>\n",
       "      <th>rh_delta</th>\n",
       "      <th>date</th>\n",
       "    </tr>\n",
       "  </thead>\n",
       "  <tbody>\n",
       "    <tr>\n",
       "      <th>0</th>\n",
       "      <td>2020-08-10 04:42:30</td>\n",
       "      <td>2020-08-10 12:35:30</td>\n",
       "      <td>21</td>\n",
       "      <td>lkkjddam</td>\n",
       "      <td>25</td>\n",
       "      <td>12</td>\n",
       "      <td>126.658333</td>\n",
       "      <td>2.040</td>\n",
       "      <td>NaN</td>\n",
       "      <td>10.359917</td>\n",
       "      <td>1600.754959</td>\n",
       "      <td>0.914249</td>\n",
       "      <td>0.895571</td>\n",
       "      <td>23.337500</td>\n",
       "      <td>33.0</td>\n",
       "      <td>91.90</td>\n",
       "      <td>0.136</td>\n",
       "      <td>NaN</td>\n",
       "      <td>0.731650</td>\n",
       "      <td>304.035761</td>\n",
       "      <td>1.960803</td>\n",
       "      <td>0.620298</td>\n",
       "      <td>1.000</td>\n",
       "      <td>0.950</td>\n",
       "      <td>2020-08-10</td>\n",
       "    </tr>\n",
       "    <tr>\n",
       "      <th>1</th>\n",
       "      <td>2020-08-11 03:35:00</td>\n",
       "      <td>2020-08-11 12:36:30</td>\n",
       "      <td>21</td>\n",
       "      <td>lkkjddam</td>\n",
       "      <td>25</td>\n",
       "      <td>12</td>\n",
       "      <td>233.566667</td>\n",
       "      <td>2.040</td>\n",
       "      <td>NaN</td>\n",
       "      <td>6.429275</td>\n",
       "      <td>1628.474180</td>\n",
       "      <td>1.287357</td>\n",
       "      <td>0.847762</td>\n",
       "      <td>25.000000</td>\n",
       "      <td>34.0</td>\n",
       "      <td>160.45</td>\n",
       "      <td>0.204</td>\n",
       "      <td>NaN</td>\n",
       "      <td>5.565250</td>\n",
       "      <td>202.651343</td>\n",
       "      <td>6.086460</td>\n",
       "      <td>0.665257</td>\n",
       "      <td>1.650</td>\n",
       "      <td>2.000</td>\n",
       "      <td>2020-08-11</td>\n",
       "    </tr>\n",
       "    <tr>\n",
       "      <th>2</th>\n",
       "      <td>2020-08-12 02:59:30</td>\n",
       "      <td>2020-08-12 10:52:30</td>\n",
       "      <td>21</td>\n",
       "      <td>lkkjddam</td>\n",
       "      <td>25</td>\n",
       "      <td>12</td>\n",
       "      <td>252.016667</td>\n",
       "      <td>2.040</td>\n",
       "      <td>NaN</td>\n",
       "      <td>10.271850</td>\n",
       "      <td>1596.122408</td>\n",
       "      <td>2.879650</td>\n",
       "      <td>0.939256</td>\n",
       "      <td>24.000000</td>\n",
       "      <td>33.0</td>\n",
       "      <td>108.60</td>\n",
       "      <td>0.204</td>\n",
       "      <td>NaN</td>\n",
       "      <td>0.512533</td>\n",
       "      <td>146.009840</td>\n",
       "      <td>5.472740</td>\n",
       "      <td>0.702017</td>\n",
       "      <td>0.000</td>\n",
       "      <td>1.500</td>\n",
       "      <td>2020-08-12</td>\n",
       "    </tr>\n",
       "    <tr>\n",
       "      <th>3</th>\n",
       "      <td>2020-08-14 03:05:00</td>\n",
       "      <td>2020-08-14 11:23:30</td>\n",
       "      <td>21</td>\n",
       "      <td>lkkjddam</td>\n",
       "      <td>25</td>\n",
       "      <td>12</td>\n",
       "      <td>223.700000</td>\n",
       "      <td>1.938</td>\n",
       "      <td>NaN</td>\n",
       "      <td>7.232700</td>\n",
       "      <td>1301.449844</td>\n",
       "      <td>1.232406</td>\n",
       "      <td>0.886675</td>\n",
       "      <td>25.000000</td>\n",
       "      <td>33.0</td>\n",
       "      <td>81.80</td>\n",
       "      <td>2.040</td>\n",
       "      <td>NaN</td>\n",
       "      <td>5.108383</td>\n",
       "      <td>233.372161</td>\n",
       "      <td>3.742991</td>\n",
       "      <td>0.736714</td>\n",
       "      <td>1.175</td>\n",
       "      <td>1.250</td>\n",
       "      <td>2020-08-14</td>\n",
       "    </tr>\n",
       "    <tr>\n",
       "      <th>4</th>\n",
       "      <td>2020-08-15 06:51:30</td>\n",
       "      <td>2020-08-15 11:30:00</td>\n",
       "      <td>21</td>\n",
       "      <td>lkkjddam</td>\n",
       "      <td>25</td>\n",
       "      <td>12</td>\n",
       "      <td>209.600000</td>\n",
       "      <td>2.040</td>\n",
       "      <td>NaN</td>\n",
       "      <td>10.886100</td>\n",
       "      <td>1274.110350</td>\n",
       "      <td>2.017288</td>\n",
       "      <td>1.046326</td>\n",
       "      <td>23.333333</td>\n",
       "      <td>34.0</td>\n",
       "      <td>149.30</td>\n",
       "      <td>0.136</td>\n",
       "      <td>NaN</td>\n",
       "      <td>0.684917</td>\n",
       "      <td>125.544723</td>\n",
       "      <td>43.415611</td>\n",
       "      <td>2.880943</td>\n",
       "      <td>1.000</td>\n",
       "      <td>2.575</td>\n",
       "      <td>2020-08-15</td>\n",
       "    </tr>\n",
       "  </tbody>\n",
       "</table>\n",
       "</div>"
      ],
      "text/plain": [
       "           start_time            end_time  beacon     beiwe  fitbit  redcap  \\\n",
       "0 2020-08-10 04:42:30 2020-08-10 12:35:30      21  lkkjddam      25      12   \n",
       "1 2020-08-11 03:35:00 2020-08-11 12:36:30      21  lkkjddam      25      12   \n",
       "2 2020-08-12 02:59:30 2020-08-12 10:52:30      21  lkkjddam      25      12   \n",
       "3 2020-08-14 03:05:00 2020-08-14 11:23:30      21  lkkjddam      25      12   \n",
       "4 2020-08-15 06:51:30 2020-08-15 11:30:00      21  lkkjddam      25      12   \n",
       "\n",
       "   tvoc_median  lux_median  no2_median  co_median   co2_median  \\\n",
       "0   126.658333       2.040         NaN  10.359917  1600.754959   \n",
       "1   233.566667       2.040         NaN   6.429275  1628.474180   \n",
       "2   252.016667       2.040         NaN  10.271850  1596.122408   \n",
       "3   223.700000       1.938         NaN   7.232700  1301.449844   \n",
       "4   209.600000       2.040         NaN  10.886100  1274.110350   \n",
       "\n",
       "   pm2p5_number_median  pm2p5_mass_median  temperature_c_median  rh_median  \\\n",
       "0             0.914249           0.895571             23.337500       33.0   \n",
       "1             1.287357           0.847762             25.000000       34.0   \n",
       "2             2.879650           0.939256             24.000000       33.0   \n",
       "3             1.232406           0.886675             25.000000       33.0   \n",
       "4             2.017288           1.046326             23.333333       34.0   \n",
       "\n",
       "   tvoc_delta  lux_delta  no2_delta  co_delta   co2_delta  pm2p5_number_delta  \\\n",
       "0       91.90      0.136        NaN  0.731650  304.035761            1.960803   \n",
       "1      160.45      0.204        NaN  5.565250  202.651343            6.086460   \n",
       "2      108.60      0.204        NaN  0.512533  146.009840            5.472740   \n",
       "3       81.80      2.040        NaN  5.108383  233.372161            3.742991   \n",
       "4      149.30      0.136        NaN  0.684917  125.544723           43.415611   \n",
       "\n",
       "   pm2p5_mass_delta  temperature_c_delta  rh_delta       date  \n",
       "0          0.620298                1.000     0.950 2020-08-10  \n",
       "1          0.665257                1.650     2.000 2020-08-11  \n",
       "2          0.702017                0.000     1.500 2020-08-12  \n",
       "3          0.736714                1.175     1.250 2020-08-14  \n",
       "4          2.880943                1.000     2.575 2020-08-15  "
      ]
     },
     "execution_count": 153,
     "metadata": {},
     "output_type": "execute_result"
    }
   ],
   "source": [
    "ieq_raw = pd.read_csv(\"../data/processed/beacon-fb_and_gps_filtered_summary-ux_s20.csv\",parse_dates=[\"start_time\",\"end_time\",],infer_datetime_format=True)\n",
    "ieq_raw.drop([c for c in ieq_raw.columns if c.endswith(\"percent\") or c.endswith(\"mean\")],axis=\"columns\",inplace=True)\n",
    "for bad_label in [\"long\",\"lat\",\"accuracy\",\"altitude\",\"pm1\",\"number\"]:\n",
    "    ieq_raw.drop([c for c in ieq_raw.columns if c.startswith(bad_label)],axis=\"columns\",inplace=True)\n",
    "\n",
    "ieq = ieq_raw.copy()\n",
    "ieq[\"date\"] = pd.to_datetime(ieq[\"end_time\"].dt.date)\n",
    "ieq.head()"
   ]
  },
  {
   "cell_type": "markdown",
   "metadata": {},
   "source": [
    "### Beiwe Mood\n",
    "Mood data as reported by participants on the EMAs."
   ]
  },
  {
   "cell_type": "code",
   "execution_count": 154,
   "metadata": {},
   "outputs": [
    {
     "data": {
      "text/html": [
       "<div>\n",
       "<style scoped>\n",
       "    .dataframe tbody tr th:only-of-type {\n",
       "        vertical-align: middle;\n",
       "    }\n",
       "\n",
       "    .dataframe tbody tr th {\n",
       "        vertical-align: top;\n",
       "    }\n",
       "\n",
       "    .dataframe thead th {\n",
       "        text-align: right;\n",
       "    }\n",
       "</style>\n",
       "<table border=\"1\" class=\"dataframe\">\n",
       "  <thead>\n",
       "    <tr style=\"text-align: right;\">\n",
       "      <th></th>\n",
       "      <th>timestamp_morning</th>\n",
       "      <th>beiwe</th>\n",
       "      <th>content_morning</th>\n",
       "      <th>stress_morning</th>\n",
       "      <th>lonely_morning</th>\n",
       "      <th>sad_morning</th>\n",
       "      <th>energy_morning</th>\n",
       "      <th>tst</th>\n",
       "      <th>sol</th>\n",
       "      <th>naw</th>\n",
       "      <th>restful</th>\n",
       "      <th>redcap</th>\n",
       "      <th>beacon</th>\n",
       "      <th>date</th>\n",
       "      <th>timestamp_evening</th>\n",
       "      <th>content_evening</th>\n",
       "      <th>stress_evening</th>\n",
       "      <th>lonely_evening</th>\n",
       "      <th>sad_evening</th>\n",
       "      <th>energy_evening</th>\n",
       "      <th>content_mean</th>\n",
       "      <th>stress_mean</th>\n",
       "      <th>lonely_mean</th>\n",
       "      <th>sad_mean</th>\n",
       "      <th>energy_mean</th>\n",
       "    </tr>\n",
       "  </thead>\n",
       "  <tbody>\n",
       "    <tr>\n",
       "      <th>0</th>\n",
       "      <td>2020-05-13 09:10:27</td>\n",
       "      <td>qh34m4r9</td>\n",
       "      <td>3</td>\n",
       "      <td>0.0</td>\n",
       "      <td>0.0</td>\n",
       "      <td>0.0</td>\n",
       "      <td>1.0</td>\n",
       "      <td>8.0</td>\n",
       "      <td>20.0</td>\n",
       "      <td>2.0</td>\n",
       "      <td>3.0</td>\n",
       "      <td>68</td>\n",
       "      <td>19.0</td>\n",
       "      <td>2020-05-13</td>\n",
       "      <td>2020-05-13 21:00:18</td>\n",
       "      <td>3.0</td>\n",
       "      <td>1.0</td>\n",
       "      <td>0.0</td>\n",
       "      <td>0.0</td>\n",
       "      <td>4.0</td>\n",
       "      <td>3.0</td>\n",
       "      <td>0.5</td>\n",
       "      <td>0.0</td>\n",
       "      <td>0.0</td>\n",
       "      <td>2.5</td>\n",
       "    </tr>\n",
       "    <tr>\n",
       "      <th>1</th>\n",
       "      <td>2020-05-13 09:15:49</td>\n",
       "      <td>awa8uces</td>\n",
       "      <td>0.0</td>\n",
       "      <td>2.0</td>\n",
       "      <td>1.0</td>\n",
       "      <td>1.0</td>\n",
       "      <td>1.0</td>\n",
       "      <td>2.0</td>\n",
       "      <td>10.0</td>\n",
       "      <td>3.0</td>\n",
       "      <td>1.0</td>\n",
       "      <td>28</td>\n",
       "      <td>26.0</td>\n",
       "      <td>2020-05-13</td>\n",
       "      <td>2020-05-13 19:00:23</td>\n",
       "      <td>1.0</td>\n",
       "      <td>1.0</td>\n",
       "      <td>1.0</td>\n",
       "      <td>3.0</td>\n",
       "      <td>2.0</td>\n",
       "      <td>1.0</td>\n",
       "      <td>1.5</td>\n",
       "      <td>1.0</td>\n",
       "      <td>2.0</td>\n",
       "      <td>1.5</td>\n",
       "    </tr>\n",
       "    <tr>\n",
       "      <th>2</th>\n",
       "      <td>2020-05-13 09:42:19</td>\n",
       "      <td>xxvnhauv</td>\n",
       "      <td>1</td>\n",
       "      <td>1.0</td>\n",
       "      <td>1.0</td>\n",
       "      <td>3.0</td>\n",
       "      <td>0.0</td>\n",
       "      <td>6.0</td>\n",
       "      <td>30.0</td>\n",
       "      <td>3.0</td>\n",
       "      <td>1.0</td>\n",
       "      <td>21</td>\n",
       "      <td>22.0</td>\n",
       "      <td>2020-05-13</td>\n",
       "      <td>2020-05-13 20:07:04</td>\n",
       "      <td>1.0</td>\n",
       "      <td>3.0</td>\n",
       "      <td>1.0</td>\n",
       "      <td>2.0</td>\n",
       "      <td>0.0</td>\n",
       "      <td>1.0</td>\n",
       "      <td>2.0</td>\n",
       "      <td>1.0</td>\n",
       "      <td>2.5</td>\n",
       "      <td>0.0</td>\n",
       "    </tr>\n",
       "    <tr>\n",
       "      <th>3</th>\n",
       "      <td>2020-05-13 09:43:27</td>\n",
       "      <td>rvhdl2la</td>\n",
       "      <td>1</td>\n",
       "      <td>1.0</td>\n",
       "      <td>2.0</td>\n",
       "      <td>3.0</td>\n",
       "      <td>0.0</td>\n",
       "      <td>5.3</td>\n",
       "      <td>5.0</td>\n",
       "      <td>2.0</td>\n",
       "      <td>2.0</td>\n",
       "      <td>29</td>\n",
       "      <td>NaN</td>\n",
       "      <td>2020-05-13</td>\n",
       "      <td>2020-05-13 19:30:38</td>\n",
       "      <td>2.0</td>\n",
       "      <td>1.0</td>\n",
       "      <td>0.0</td>\n",
       "      <td>0.0</td>\n",
       "      <td>1.0</td>\n",
       "      <td>2.0</td>\n",
       "      <td>1.0</td>\n",
       "      <td>1.0</td>\n",
       "      <td>1.5</td>\n",
       "      <td>0.5</td>\n",
       "    </tr>\n",
       "    <tr>\n",
       "      <th>4</th>\n",
       "      <td>2020-05-13 12:30:38</td>\n",
       "      <td>lkkjddam</td>\n",
       "      <td>1</td>\n",
       "      <td>1.0</td>\n",
       "      <td>3.0</td>\n",
       "      <td>3.0</td>\n",
       "      <td>2.0</td>\n",
       "      <td>7.0</td>\n",
       "      <td>45.0</td>\n",
       "      <td>2.0</td>\n",
       "      <td>1.0</td>\n",
       "      <td>12</td>\n",
       "      <td>21.0</td>\n",
       "      <td>2020-05-13</td>\n",
       "      <td>2020-05-13 19:21:32</td>\n",
       "      <td>0.0</td>\n",
       "      <td>2.0</td>\n",
       "      <td>3.0</td>\n",
       "      <td>1.0</td>\n",
       "      <td>0.0</td>\n",
       "      <td>0.0</td>\n",
       "      <td>1.5</td>\n",
       "      <td>3.0</td>\n",
       "      <td>2.0</td>\n",
       "      <td>1.0</td>\n",
       "    </tr>\n",
       "  </tbody>\n",
       "</table>\n",
       "</div>"
      ],
      "text/plain": [
       "    timestamp_morning     beiwe content_morning  stress_morning  \\\n",
       "0 2020-05-13 09:10:27  qh34m4r9               3             0.0   \n",
       "1 2020-05-13 09:15:49  awa8uces             0.0             2.0   \n",
       "2 2020-05-13 09:42:19  xxvnhauv               1             1.0   \n",
       "3 2020-05-13 09:43:27  rvhdl2la               1             1.0   \n",
       "4 2020-05-13 12:30:38  lkkjddam               1             1.0   \n",
       "\n",
       "   lonely_morning  sad_morning  energy_morning  tst   sol  naw  restful  \\\n",
       "0             0.0          0.0             1.0  8.0  20.0  2.0      3.0   \n",
       "1             1.0          1.0             1.0  2.0  10.0  3.0      1.0   \n",
       "2             1.0          3.0             0.0  6.0  30.0  3.0      1.0   \n",
       "3             2.0          3.0             0.0  5.3   5.0  2.0      2.0   \n",
       "4             3.0          3.0             2.0  7.0  45.0  2.0      1.0   \n",
       "\n",
       "   redcap  beacon       date   timestamp_evening  content_evening  \\\n",
       "0      68    19.0 2020-05-13 2020-05-13 21:00:18              3.0   \n",
       "1      28    26.0 2020-05-13 2020-05-13 19:00:23              1.0   \n",
       "2      21    22.0 2020-05-13 2020-05-13 20:07:04              1.0   \n",
       "3      29     NaN 2020-05-13 2020-05-13 19:30:38              2.0   \n",
       "4      12    21.0 2020-05-13 2020-05-13 19:21:32              0.0   \n",
       "\n",
       "   stress_evening  lonely_evening  sad_evening  energy_evening  content_mean  \\\n",
       "0             1.0             0.0          0.0             4.0           3.0   \n",
       "1             1.0             1.0          3.0             2.0           1.0   \n",
       "2             3.0             1.0          2.0             0.0           1.0   \n",
       "3             1.0             0.0          0.0             1.0           2.0   \n",
       "4             2.0             3.0          1.0             0.0           0.0   \n",
       "\n",
       "   stress_mean  lonely_mean  sad_mean  energy_mean  \n",
       "0          0.5          0.0       0.0          2.5  \n",
       "1          1.5          1.0       2.0          1.5  \n",
       "2          2.0          1.0       2.5          0.0  \n",
       "3          1.0          1.0       1.5          0.5  \n",
       "4          1.5          3.0       2.0          1.0  "
      ]
     },
     "execution_count": 154,
     "metadata": {},
     "output_type": "execute_result"
    }
   ],
   "source": [
    "bw_mood = pd.read_csv(\"../data/processed/beiwe-daily_ema-ux_s20.csv\",parse_dates=[\"date\",\"timestamp_morning\",\"timestamp_evening\"],infer_datetime_format=True)\n",
    "bw_mood.head()"
   ]
  },
  {
   "cell_type": "markdown",
   "metadata": {},
   "source": [
    "<a id=\"summary\"></a>"
   ]
  },
  {
   "cell_type": "markdown",
   "metadata": {},
   "source": [
    "# Data Summary and Feature/Target Identification\n",
    "The primary features are related to the IEQ dataset measured by the BEVO Beacons while the primary targets are both the Fitbit-measured and self-reported sleep quality metrics. However some features might be more or less pertinent than others. In these sections we summarize the data and identify which are the important variables to include in the subsequent analysis."
   ]
  },
  {
   "cell_type": "markdown",
   "metadata": {},
   "source": [
    "## Feature Identification\n",
    "We start with the features which consist primarily from the IEQ dataset, but might also include data from the mood EMAs. "
   ]
  },
  {
   "cell_type": "code",
   "execution_count": 155,
   "metadata": {},
   "outputs": [],
   "source": [
    "def plot_pollutant(df,pollutant=\"co2\"):\n",
    "    \"\"\"plots median and delta concentrations of the given pollutant\"\"\"\n",
    "    fig, axes = plt.subplots(1,2,figsize=(24,3),gridspec_kw={\"wspace\":0.1})\n",
    "    for aggregate, ax in zip([\"median\",\"delta\"],axes.flat):\n",
    "        sns.kdeplot(df[f\"{pollutant}_{aggregate}\"],cut=0,linewidth=2,color=\"black\",ax=ax)\n",
    "        # improving graph\n",
    "        for loc in [\"left\",\"top\",\"right\"]:\n",
    "            ax.spines[loc].set_visible(False)\n",
    "        ax.set_xlabel(aggregate.title() + \" \" + visualize.get_pollutant_label(pollutant))\n",
    "        ax.set_yticks([])\n",
    "        ax.set_ylabel(\"\")\n",
    "\n",
    "    plt.show()\n",
    "    plt.close()"
   ]
  },
  {
   "cell_type": "markdown",
   "metadata": {},
   "source": [
    "### IEQ Data\n",
    "There are a few pollutants and environmental parameters that we can consider:\n",
    "1. CO$_2$\n",
    "2. CO\n",
    "3. PM$_{2.5}$ (mass)\n",
    "3. PM$_{2.5}$ (number)\n",
    "4. NO$_2$\n",
    "5. TVOCs\n",
    "6. Temperature\n",
    "7. RH\n",
    "\n",
    "And two main aggregates to summarize the evening:\n",
    "1. Median (more typical in IAQ field versus mean)\n",
    "2. Delta\n",
    "\n",
    "The following cells will try to determine to what features are good candidates, both aggregates and pollutants."
   ]
  },
  {
   "cell_type": "code",
   "execution_count": 156,
   "metadata": {},
   "outputs": [
    {
     "name": "stdout",
     "output_type": "stream",
     "text": [
      "Number of observations:\n",
      "\tCO$_2$     332\n",
      "\tCO         332\n",
      "\tPM$_{2.5}$ 318\n",
      "\tPM$_{2.5}$ 318\n",
      "\tNO$_2$     139\n",
      "\tTVOC       331\n"
     ]
    }
   ],
   "source": [
    "pollutants_for_consideration = [\"co2\",\"co\",\"pm2p5_mass\",\"pm2p5_number\",\"no2\",\"tvoc\"]\n",
    "print(\"Number of observations:\")\n",
    "for pollutant in pollutants_for_consideration:\n",
    "    print(f\"\\t{visualize.get_pollutant_label(pollutant):<10s} {len(ieq[f'{pollutant}_median'].dropna())}\")"
   ]
  },
  {
   "cell_type": "markdown",
   "metadata": {},
   "source": [
    "#### CO$_2$\n",
    "Carbon dioxide is implicated in nearly all studies relating IAQ and sleep quality, is one of the most robust sensors on the beacon, and can be used as a proxy for other pollutants."
   ]
  },
  {
   "cell_type": "markdown",
   "metadata": {},
   "source": [
    "<div class=\"alert alert-block alert-success\">\n",
    " \n",
    "CO$_2$ is a good candidate pollutant to include because of its history in the field.\n",
    "    \n",
    "</div>"
   ]
  },
  {
   "cell_type": "markdown",
   "metadata": {},
   "source": [
    "#### CO\n",
    "We start by plotting all the measured values."
   ]
  },
  {
   "cell_type": "code",
   "execution_count": 157,
   "metadata": {},
   "outputs": [
    {
     "data": {
      "image/png": "[encoded data removed]",
      "text/plain": [
       "<Figure size 1728x216 with 2 Axes>"
      ]
     },
     "metadata": {
      "needs_background": "light"
     },
     "output_type": "display_data"
    }
   ],
   "source": [
    "plot_pollutant(ieq,\"co\")"
   ]
  },
  {
   "cell_type": "markdown",
   "metadata": {},
   "source": [
    "<div class=\"alert alert-block alert-success\">\n",
    " \n",
    "CO, while the measurements are slightly elevated from what is typically found in apartments (see [Jo and Lee, 2016](https://www.sciencedirect.com/science/article/pii/S1352231006005176?casa_token=htmTQdXyFpYAAAAA:rsTEojfxlUHuYI7AlBt5I16TZSsbc2t2Wyd-Wd9sAg6TR7RGzs1XLeaI50udw1NU10BIUhXA)), is still a good candidate since we are primarily concerned with how changes in concentration might affect sleep quality, not the accuracy of our measurements.\n",
    "    \n",
    "</div>"
   ]
  },
  {
   "cell_type": "markdown",
   "metadata": {},
   "source": [
    "#### PM$_{2.5}$\n",
    "We consider both number and mass here and start by examining the relationship between the two"
   ]
  },
  {
   "cell_type": "code",
   "execution_count": 158,
   "metadata": {},
   "outputs": [],
   "source": [
    "def plot_correlation(df_in,x=\"pm2p5_mass\",x_agg=\"\",y=\"pm2p5_number\",y_agg=\"\"):\n",
    "    \"\"\"Plots the correlation between two measurements\"\"\"\n",
    "    df = df_in[[f\"{x}{x_agg}\",f\"{y}{y_agg}\"]].dropna()\n",
    "    fig, ax = plt.subplots(figsize=(4,4))\n",
    "    sns.regplot(x=f\"{x}{x_agg}\",y=f\"{y}{y_agg}\",data=df,ax=ax)\n",
    "    for loc in [\"top\",\"right\"]:\n",
    "        ax.spines[loc].set_visible(False)\n",
    "\n",
    "    ax.set_xlabel(f\"{visualize.get_label(x)} ({visualize.get_pollutant_units(x)})\")\n",
    "\n",
    "    ax.set_ylabel(f\"{visualize.get_label(y)} ({visualize.get_pollutant_units(y)})\")\n",
    "\n",
    "    r = np.corrcoef(df[f\"{x}{x_agg}\"].values,df[f\"{y}{y_agg}\"].values)\n",
    "    ax.set_title(f\"r$^2$: {round(r[1,0],2)}\")\n",
    "\n",
    "    plt.show()\n",
    "    plt.close()"
   ]
  },
  {
   "cell_type": "code",
   "execution_count": 159,
   "metadata": {},
   "outputs": [
    {
     "data": {
      "image/png": "[encoded data removed]",
      "text/plain": [
       "<Figure size 288x288 with 1 Axes>"
      ]
     },
     "metadata": {
      "needs_background": "light"
     },
     "output_type": "display_data"
    }
   ],
   "source": [
    "plot_correlation(ieq,x=\"pm2p5_mass\",x_agg=\"_median\",y=\"pm2p5_number\",y_agg=\"_median\")"
   ]
  },
  {
   "cell_type": "markdown",
   "metadata": {},
   "source": [
    "<div class=\"alert alert-block alert-success\">\n",
    " \n",
    "PM$_{2.5}$ (mass), like CO$_2$ has been implicated in multiple studies to affect sleep quality and we can also _more_ readily trust the measurements from this sensor therefore this measurement is a good candidate. \n",
    "    \n",
    "</div>"
   ]
  },
  {
   "cell_type": "markdown",
   "metadata": {},
   "source": [
    "<div class=\"alert alert-block alert-danger\">\n",
    " \n",
    "PM$_{2.5}$ (number) is an important variable to measure but has a significant correlation with the mass concentration. Rather than complicate the model with an additional feature, we can remove this one in favor of simplifying the model. The mass concentration is also easier to converse about rather than the number concentration. \n",
    "    \n",
    "</div>"
   ]
  },
  {
   "cell_type": "markdown",
   "metadata": {},
   "source": [
    "#### NO$_2$\n",
    "A promising, new candidate. We start by visualizing the data we have."
   ]
  },
  {
   "cell_type": "code",
   "execution_count": 160,
   "metadata": {},
   "outputs": [
    {
     "data": {
      "image/png": "[encoded data removed]",
      "text/plain": [
       "<Figure size 1728x216 with 2 Axes>"
      ]
     },
     "metadata": {
      "needs_background": "light"
     },
     "output_type": "display_data"
    }
   ],
   "source": [
    "plot_pollutant(ieq,\"no2\")"
   ]
  },
  {
   "cell_type": "markdown",
   "metadata": {},
   "source": [
    "<div class=\"alert alert-block alert-danger\">\n",
    " \n",
    "There are a few reasons not to include the NO$_2$ measurements:\n",
    "* We have a limited number of observations\n",
    "* There are negative values present after calibration\n",
    "* The measured differences are less than 1 ppb. Those different are _highly_ unlikely to be noticed by the human body.\n",
    "    \n",
    "</div>"
   ]
  },
  {
   "cell_type": "markdown",
   "metadata": {},
   "source": [
    "#### TVOC\n",
    "TVOCs are already a controversial pollutant to include, but we can start by visualizing the measured concentrations."
   ]
  },
  {
   "cell_type": "code",
   "execution_count": 161,
   "metadata": {},
   "outputs": [
    {
     "data": {
      "image/png": "[encoded data removed]",
      "text/plain": [
       "<Figure size 1728x216 with 2 Axes>"
      ]
     },
     "metadata": {
      "needs_background": "light"
     },
     "output_type": "display_data"
    }
   ],
   "source": [
    "plot_pollutant(ieq,\"tvoc\")"
   ]
  },
  {
   "cell_type": "markdown",
   "metadata": {},
   "source": [
    "<div class=\"alert alert-block alert-success\">\n",
    " \n",
    "These values seem reasonable given similar measurements made in the literature so we can include TVOCs as a potential candidate. \n",
    "    \n",
    "</div>"
   ]
  },
  {
   "cell_type": "markdown",
   "metadata": {},
   "source": [
    "#### Temperature and Relative Humidity\n",
    "Often taken together, we consider both here."
   ]
  },
  {
   "cell_type": "code",
   "execution_count": 162,
   "metadata": {},
   "outputs": [
    {
     "data": {
      "image/png": "[encoded data removed]",
      "text/plain": [
       "<Figure size 288x288 with 1 Axes>"
      ]
     },
     "metadata": {
      "needs_background": "light"
     },
     "output_type": "display_data"
    }
   ],
   "source": [
    "plot_correlation(ieq,x=\"temperature_c\",x_agg=\"_median\",y=\"rh\",y_agg=\"_median\")"
   ]
  },
  {
   "cell_type": "code",
   "execution_count": 163,
   "metadata": {},
   "outputs": [
    {
     "data": {
      "image/png": "[encoded data removed]",
      "text/plain": [
       "<Figure size 1728x216 with 2 Axes>"
      ]
     },
     "metadata": {
      "needs_background": "light"
     },
     "output_type": "display_data"
    }
   ],
   "source": [
    "plot_pollutant(ieq,\"temperature_c\")"
   ]
  },
  {
   "cell_type": "markdown",
   "metadata": {},
   "source": [
    "<div class=\"alert alert-block alert-success\">\n",
    " \n",
    "Although our temperatures are probably 1 or 2$^\\circ$C higher than normal, they are still in a decent range and temperature is an important component of sleep quality so we should include it. \n",
    "    \n",
    "</div>"
   ]
  },
  {
   "cell_type": "code",
   "execution_count": 164,
   "metadata": {},
   "outputs": [
    {
     "data": {
      "image/png": "[encoded data removed]",
      "text/plain": [
       "<Figure size 1728x216 with 2 Axes>"
      ]
     },
     "metadata": {
      "needs_background": "light"
     },
     "output_type": "display_data"
    }
   ],
   "source": [
    "plot_pollutant(ieq,\"rh\")"
   ]
  },
  {
   "cell_type": "markdown",
   "metadata": {},
   "source": [
    "<div class=\"alert alert-block alert-success\">\n",
    " \n",
    "Relative Humidity, unlike temperature, is a bit lower than expected by 5-10% assuming 50% is common in indoor environments during summer. However, we should also include this metric since it might be key in determining sleep quality.\n",
    "    \n",
    "</div>"
   ]
  },
  {
   "cell_type": "markdown",
   "metadata": {},
   "source": [
    "#### Median vs Delta\n",
    "Both aggregates for pollutant measurements seem viable, but both are not necessary for prediction. While the increase in concentration during the night is likely to induce changes in participant behavior, the median value might capture large deltas."
   ]
  },
  {
   "cell_type": "code",
   "execution_count": 165,
   "metadata": {},
   "outputs": [
    {
     "data": {
      "image/png": "[encoded data removed]",
      "text/plain": [
       "<Figure size 288x288 with 1 Axes>"
      ]
     },
     "metadata": {
      "needs_background": "light"
     },
     "output_type": "display_data"
    }
   ],
   "source": [
    "plot_correlation(ieq,x=\"co2\",x_agg=\"_median\",y=\"co2\",y_agg=\"_delta\")"
   ]
  },
  {
   "cell_type": "markdown",
   "metadata": {},
   "source": [
    "The two aggregates are actually not highly correlated which is surprising."
   ]
  },
  {
   "cell_type": "markdown",
   "metadata": {},
   "source": [
    "<div class=\"alert alert-block alert-danger\">\n",
    " \n",
    "The delta metric, while insightful, has values that seem skewed high so we will not use them. This aggregate needs to be refined a bit more. \n",
    "    \n",
    "</div>"
   ]
  },
  {
   "cell_type": "markdown",
   "metadata": {},
   "source": [
    "<div class=\"alert alert-block alert-success\">\n",
    " \n",
    "Median will be the only aggregate for IEQ parameters that we will consider which will also help simplify our model a bit. \n",
    "    \n",
    "</div>"
   ]
  },
  {
   "cell_type": "markdown",
   "metadata": {},
   "source": [
    "#### Raw Feature Set\n",
    "Based on the commentary above, we will reconfigure the IEQ data set."
   ]
  },
  {
   "cell_type": "code",
   "execution_count": 166,
   "metadata": {},
   "outputs": [
    {
     "data": {
      "text/html": [
       "<div>\n",
       "<style scoped>\n",
       "    .dataframe tbody tr th:only-of-type {\n",
       "        vertical-align: middle;\n",
       "    }\n",
       "\n",
       "    .dataframe tbody tr th {\n",
       "        vertical-align: top;\n",
       "    }\n",
       "\n",
       "    .dataframe thead th {\n",
       "        text-align: right;\n",
       "    }\n",
       "</style>\n",
       "<table border=\"1\" class=\"dataframe\">\n",
       "  <thead>\n",
       "    <tr style=\"text-align: right;\">\n",
       "      <th></th>\n",
       "      <th>start_time</th>\n",
       "      <th>end_time</th>\n",
       "      <th>beiwe</th>\n",
       "      <th>tvoc_median</th>\n",
       "      <th>co_median</th>\n",
       "      <th>co2_median</th>\n",
       "      <th>pm2p5_mass_median</th>\n",
       "      <th>temperature_c_median</th>\n",
       "      <th>rh_median</th>\n",
       "      <th>date</th>\n",
       "    </tr>\n",
       "  </thead>\n",
       "  <tbody>\n",
       "    <tr>\n",
       "      <th>0</th>\n",
       "      <td>2020-08-10 04:42:30</td>\n",
       "      <td>2020-08-10 12:35:30</td>\n",
       "      <td>lkkjddam</td>\n",
       "      <td>126.658333</td>\n",
       "      <td>10.359917</td>\n",
       "      <td>1600.754959</td>\n",
       "      <td>0.895571</td>\n",
       "      <td>23.337500</td>\n",
       "      <td>33.0</td>\n",
       "      <td>2020-08-10</td>\n",
       "    </tr>\n",
       "    <tr>\n",
       "      <th>1</th>\n",
       "      <td>2020-08-11 03:35:00</td>\n",
       "      <td>2020-08-11 12:36:30</td>\n",
       "      <td>lkkjddam</td>\n",
       "      <td>233.566667</td>\n",
       "      <td>6.429275</td>\n",
       "      <td>1628.474180</td>\n",
       "      <td>0.847762</td>\n",
       "      <td>25.000000</td>\n",
       "      <td>34.0</td>\n",
       "      <td>2020-08-11</td>\n",
       "    </tr>\n",
       "    <tr>\n",
       "      <th>2</th>\n",
       "      <td>2020-08-12 02:59:30</td>\n",
       "      <td>2020-08-12 10:52:30</td>\n",
       "      <td>lkkjddam</td>\n",
       "      <td>252.016667</td>\n",
       "      <td>10.271850</td>\n",
       "      <td>1596.122408</td>\n",
       "      <td>0.939256</td>\n",
       "      <td>24.000000</td>\n",
       "      <td>33.0</td>\n",
       "      <td>2020-08-12</td>\n",
       "    </tr>\n",
       "    <tr>\n",
       "      <th>3</th>\n",
       "      <td>2020-08-14 03:05:00</td>\n",
       "      <td>2020-08-14 11:23:30</td>\n",
       "      <td>lkkjddam</td>\n",
       "      <td>223.700000</td>\n",
       "      <td>7.232700</td>\n",
       "      <td>1301.449844</td>\n",
       "      <td>0.886675</td>\n",
       "      <td>25.000000</td>\n",
       "      <td>33.0</td>\n",
       "      <td>2020-08-14</td>\n",
       "    </tr>\n",
       "    <tr>\n",
       "      <th>4</th>\n",
       "      <td>2020-08-15 06:51:30</td>\n",
       "      <td>2020-08-15 11:30:00</td>\n",
       "      <td>lkkjddam</td>\n",
       "      <td>209.600000</td>\n",
       "      <td>10.886100</td>\n",
       "      <td>1274.110350</td>\n",
       "      <td>1.046326</td>\n",
       "      <td>23.333333</td>\n",
       "      <td>34.0</td>\n",
       "      <td>2020-08-15</td>\n",
       "    </tr>\n",
       "  </tbody>\n",
       "</table>\n",
       "</div>"
      ],
      "text/plain": [
       "           start_time            end_time     beiwe  tvoc_median  co_median  \\\n",
       "0 2020-08-10 04:42:30 2020-08-10 12:35:30  lkkjddam   126.658333  10.359917   \n",
       "1 2020-08-11 03:35:00 2020-08-11 12:36:30  lkkjddam   233.566667   6.429275   \n",
       "2 2020-08-12 02:59:30 2020-08-12 10:52:30  lkkjddam   252.016667  10.271850   \n",
       "3 2020-08-14 03:05:00 2020-08-14 11:23:30  lkkjddam   223.700000   7.232700   \n",
       "4 2020-08-15 06:51:30 2020-08-15 11:30:00  lkkjddam   209.600000  10.886100   \n",
       "\n",
       "    co2_median  pm2p5_mass_median  temperature_c_median  rh_median       date  \n",
       "0  1600.754959           0.895571             23.337500       33.0 2020-08-10  \n",
       "1  1628.474180           0.847762             25.000000       34.0 2020-08-11  \n",
       "2  1596.122408           0.939256             24.000000       33.0 2020-08-12  \n",
       "3  1301.449844           0.886675             25.000000       33.0 2020-08-14  \n",
       "4  1274.110350           1.046326             23.333333       34.0 2020-08-15  "
      ]
     },
     "execution_count": 166,
     "metadata": {},
     "output_type": "execute_result"
    }
   ],
   "source": [
    "ieq_features = ieq.copy()\n",
    "# id columns to drop\n",
    "id_cols = [\"redcap\",\"fitbit\",\"beacon\"]\n",
    "# bad ieq params\n",
    "ieq_cols = [\"pm2p5_number_median\",\"lux_median\",\"no2_median\"]\n",
    "# delta agg\n",
    "delta_cols = [column for column in ieq.columns if column.endswith(\"delta\")]\n",
    "# dropping\n",
    "for cols in [id_cols,ieq_cols,delta_cols]:\n",
    "    ieq_features.drop(cols,axis=\"columns\",inplace=True)\n",
    "    \n",
    "ieq_features.head()"
   ]
  },
  {
   "cell_type": "markdown",
   "metadata": {},
   "source": [
    "<div class=\"alert alert-block alert-info\">\n",
    "\n",
    "We are keeping the time and `beiwe` columns so that we can merge datasets later.\n",
    "    \n",
    "</div>"
   ]
  },
  {
   "cell_type": "markdown",
   "metadata": {},
   "source": [
    "### Mood\n",
    "While not the main feature to include, there might be components of mood that are relevant for sleep, primarily:\n",
    "1. content\n",
    "2. stress\n",
    "3. energy\n",
    "4. sad\n",
    "\n",
    "The mood scores we use should be those from the nightly EMAs filled out the night prior to the sleep event. These data have already been processed and are imported here. The process is not as straightforward since the participant might fill the EMA out around 21:00 on Day 1 but sleep at 1:00 on Day 2. That EMA would consist of data relevant for the sleep event that happened in the early morning. The process of investigating situations like these have already been completed and included in the following dataset."
   ]
  },
  {
   "cell_type": "code",
   "execution_count": 167,
   "metadata": {},
   "outputs": [
    {
     "name": "stdout",
     "output_type": "stream",
     "text": [
      "Number of observations: 736\n"
     ]
    }
   ],
   "source": [
    "mood_evening = pd.read_csv(\"../data/processed/beiwe_fitbit-evening_mood_and_sleep-ux_s20.csv\",\n",
    "                          parse_dates=[\"start_time\",\"end_time\",\"end_date\"],infer_datetime_format=True)\n",
    "print(f\"Number of observations:\", len(mood_evening))"
   ]
  },
  {
   "cell_type": "code",
   "execution_count": 168,
   "metadata": {},
   "outputs": [],
   "source": [
    "def plot_mood_bar(df, mood=\"content\",annotate=True):\n",
    "    \"\"\"Creates a bar plot for the given mood\"\"\"\n",
    "    \n",
    "    df_to_plot = df[mood]\n",
    "    fig, ax = plt.subplots(figsize=(8,3))\n",
    "    ns = dict(df[mood].value_counts())\n",
    "    ax.bar(ns.keys(),ns.values(),color=\"cornflowerblue\",edgecolor=\"black\")\n",
    "    # x-axis\n",
    "    ax.set_xticks(list(ns.keys()))\n",
    "    ax.set_xticklabels(list(ns.keys()),fontsize=12)\n",
    "    ax.set_xlabel(mood.title(),fontsize=14)\n",
    "    # y-axis\n",
    "    plt.yticks(fontsize=12)\n",
    "    ax.set_ylabel(\"Count\",fontsize=14)\n",
    "    for loc in [\"top\",\"right\"]:\n",
    "        ax.spines[loc].set_visible(False)\n",
    "    if annotate:\n",
    "        for score, n in ns.items():\n",
    "            ax.text(score,n*1.1,n,ha=\"center\",va=\"bottom\",fontsize=12)"
   ]
  },
  {
   "cell_type": "markdown",
   "metadata": {},
   "source": [
    "#### Content"
   ]
  },
  {
   "cell_type": "code",
   "execution_count": 169,
   "metadata": {},
   "outputs": [
    {
     "data": {
      "image/png": "[encoded data removed]",
      "text/plain": [
       "<Figure size 576x216 with 1 Axes>"
      ]
     },
     "metadata": {
      "needs_background": "light"
     },
     "output_type": "display_data"
    }
   ],
   "source": [
    "plot_mood_bar(mood_evening)"
   ]
  },
  {
   "cell_type": "markdown",
   "metadata": {},
   "source": [
    "#### Stress"
   ]
  },
  {
   "cell_type": "code",
   "execution_count": 170,
   "metadata": {},
   "outputs": [
    {
     "data": {
      "image/png": "[encoded data removed]",
      "text/plain": [
       "<Figure size 576x216 with 1 Axes>"
      ]
     },
     "metadata": {
      "needs_background": "light"
     },
     "output_type": "display_data"
    }
   ],
   "source": [
    "plot_mood_bar(mood_evening,\"stress\")"
   ]
  },
  {
   "cell_type": "markdown",
   "metadata": {},
   "source": [
    "#### Energy"
   ]
  },
  {
   "cell_type": "code",
   "execution_count": 171,
   "metadata": {},
   "outputs": [
    {
     "data": {
      "image/png": "[encoded data removed]",
      "text/plain": [
       "<Figure size 576x216 with 1 Axes>"
      ]
     },
     "metadata": {
      "needs_background": "light"
     },
     "output_type": "display_data"
    }
   ],
   "source": [
    "plot_mood_bar(mood_evening,\"energy\")"
   ]
  },
  {
   "cell_type": "markdown",
   "metadata": {},
   "source": [
    "#### Sad"
   ]
  },
  {
   "cell_type": "code",
   "execution_count": 172,
   "metadata": {},
   "outputs": [
    {
     "data": {
      "image/png": "[encoded data removed]",
      "text/plain": [
       "<Figure size 576x216 with 1 Axes>"
      ]
     },
     "metadata": {
      "needs_background": "light"
     },
     "output_type": "display_data"
    }
   ],
   "source": [
    "plot_mood_bar(mood_evening,\"sad\")"
   ]
  },
  {
   "cell_type": "markdown",
   "metadata": {},
   "source": [
    "<div class=\"alert alert-block alert-success\">\n",
    " \n",
    "There isn't any reason not to include these mood metrics, but we might engineering them slightly in the later cells to get them into a more ueful measure. \n",
    "    \n",
    "</div>"
   ]
  },
  {
   "cell_type": "markdown",
   "metadata": {},
   "source": [
    "#### Raw Feature Set\n",
    "Subsetting the original dataset for the important mood measurements."
   ]
  },
  {
   "cell_type": "code",
   "execution_count": 174,
   "metadata": {},
   "outputs": [
    {
     "data": {
      "text/html": [
       "<div>\n",
       "<style scoped>\n",
       "    .dataframe tbody tr th:only-of-type {\n",
       "        vertical-align: middle;\n",
       "    }\n",
       "\n",
       "    .dataframe tbody tr th {\n",
       "        vertical-align: top;\n",
       "    }\n",
       "\n",
       "    .dataframe thead th {\n",
       "        text-align: right;\n",
       "    }\n",
       "</style>\n",
       "<table border=\"1\" class=\"dataframe\">\n",
       "  <thead>\n",
       "    <tr style=\"text-align: right;\">\n",
       "      <th></th>\n",
       "      <th>start_time</th>\n",
       "      <th>end_time</th>\n",
       "      <th>end_date</th>\n",
       "      <th>beiwe</th>\n",
       "      <th>content</th>\n",
       "      <th>stress</th>\n",
       "      <th>sad</th>\n",
       "      <th>energy</th>\n",
       "    </tr>\n",
       "  </thead>\n",
       "  <tbody>\n",
       "    <tr>\n",
       "      <th>0</th>\n",
       "      <td>2020-07-21 00:20:30</td>\n",
       "      <td>2020-07-21 07:16:00</td>\n",
       "      <td>2020-07-21</td>\n",
       "      <td>hcpu5myv</td>\n",
       "      <td>2.0</td>\n",
       "      <td>2.0</td>\n",
       "      <td>1.0</td>\n",
       "      <td>1.0</td>\n",
       "    </tr>\n",
       "    <tr>\n",
       "      <th>1</th>\n",
       "      <td>2020-05-16 04:35:00</td>\n",
       "      <td>2020-05-16 13:10:00</td>\n",
       "      <td>2020-05-16</td>\n",
       "      <td>lkkjddam</td>\n",
       "      <td>0.0</td>\n",
       "      <td>1.0</td>\n",
       "      <td>3.0</td>\n",
       "      <td>0.0</td>\n",
       "    </tr>\n",
       "    <tr>\n",
       "      <th>2</th>\n",
       "      <td>2020-05-18 03:35:00</td>\n",
       "      <td>2020-05-18 13:12:30</td>\n",
       "      <td>2020-05-18</td>\n",
       "      <td>lkkjddam</td>\n",
       "      <td>0.0</td>\n",
       "      <td>0.0</td>\n",
       "      <td>3.0</td>\n",
       "      <td>0.0</td>\n",
       "    </tr>\n",
       "    <tr>\n",
       "      <th>3</th>\n",
       "      <td>2020-05-19 02:01:00</td>\n",
       "      <td>2020-05-19 09:19:30</td>\n",
       "      <td>2020-05-19</td>\n",
       "      <td>lkkjddam</td>\n",
       "      <td>1.0</td>\n",
       "      <td>1.0</td>\n",
       "      <td>1.0</td>\n",
       "      <td>2.0</td>\n",
       "    </tr>\n",
       "    <tr>\n",
       "      <th>4</th>\n",
       "      <td>2020-05-21 02:32:00</td>\n",
       "      <td>2020-05-21 10:54:30</td>\n",
       "      <td>2020-05-21</td>\n",
       "      <td>lkkjddam</td>\n",
       "      <td>2.0</td>\n",
       "      <td>1.0</td>\n",
       "      <td>2.0</td>\n",
       "      <td>2.0</td>\n",
       "    </tr>\n",
       "  </tbody>\n",
       "</table>\n",
       "</div>"
      ],
      "text/plain": [
       "           start_time            end_time   end_date     beiwe  content  \\\n",
       "0 2020-07-21 00:20:30 2020-07-21 07:16:00 2020-07-21  hcpu5myv      2.0   \n",
       "1 2020-05-16 04:35:00 2020-05-16 13:10:00 2020-05-16  lkkjddam      0.0   \n",
       "2 2020-05-18 03:35:00 2020-05-18 13:12:30 2020-05-18  lkkjddam      0.0   \n",
       "3 2020-05-19 02:01:00 2020-05-19 09:19:30 2020-05-19  lkkjddam      1.0   \n",
       "4 2020-05-21 02:32:00 2020-05-21 10:54:30 2020-05-21  lkkjddam      2.0   \n",
       "\n",
       "   stress  sad  energy  \n",
       "0     2.0  1.0     1.0  \n",
       "1     1.0  3.0     0.0  \n",
       "2     0.0  3.0     0.0  \n",
       "3     1.0  1.0     2.0  \n",
       "4     1.0  2.0     2.0  "
      ]
     },
     "execution_count": 174,
     "metadata": {},
     "output_type": "execute_result"
    }
   ],
   "source": [
    "mood_features = mood_evening.copy()\n",
    "mood_features = mood_features[[\"start_time\",\"end_time\",\"end_date\",\"beiwe\",\"content\",\"stress\",\"sad\",\"energy\"]]\n",
    "mood_features.head()"
   ]
  },
  {
   "cell_type": "markdown",
   "metadata": {},
   "source": [
    "<div class=\"alert alert-block alert-info\">\n",
    "\n",
    "Again we keep some of the time columns and the `beiwe` column for merging with other datasets.\n",
    "    \n",
    "</div>"
   ]
  },
  {
   "cell_type": "markdown",
   "metadata": {},
   "source": [
    "## Target Identification\n",
    "The primary target variables are going to be those associated with sleep. "
   ]
  },
  {
   "cell_type": "markdown",
   "metadata": {},
   "source": [
    "### Fitbit-Monitored Sleep\n",
    "There is quite a bit of sleep-related information from Fitbit, raw or otherwise. Here we look at the various variables to see which is important for sleep prediction. The variables we are interested in, at least initially, are:\n",
    "1. efficiency\n",
    "2. REM:nREM\n",
    "3. TST\n",
    "4. REM\n",
    "5. nREM\n",
    "6. WASO\n",
    "7. SOL\n",
    "\n",
    "We also want to explore this relationship between the `count` and the `minutes` measurements to see how strong the relationship is and whether or not included the `count` measurements make sense."
   ]
  },
  {
   "cell_type": "code",
   "execution_count": 175,
   "metadata": {},
   "outputs": [
    {
     "data": {
      "text/html": [
       "<div>\n",
       "<style scoped>\n",
       "    .dataframe tbody tr th:only-of-type {\n",
       "        vertical-align: middle;\n",
       "    }\n",
       "\n",
       "    .dataframe tbody tr th {\n",
       "        vertical-align: top;\n",
       "    }\n",
       "\n",
       "    .dataframe thead th {\n",
       "        text-align: right;\n",
       "    }\n",
       "</style>\n",
       "<table border=\"1\" class=\"dataframe\">\n",
       "  <thead>\n",
       "    <tr style=\"text-align: right;\">\n",
       "      <th></th>\n",
       "      <th>start_date</th>\n",
       "      <th>end_date</th>\n",
       "      <th>deep_count</th>\n",
       "      <th>deep_minutes</th>\n",
       "      <th>light_count</th>\n",
       "      <th>light_minutes</th>\n",
       "      <th>rem_count</th>\n",
       "      <th>rem_minutes</th>\n",
       "      <th>wake_count</th>\n",
       "      <th>wake_minutes</th>\n",
       "      <th>beiwe</th>\n",
       "      <th>efficiency</th>\n",
       "      <th>end_time</th>\n",
       "      <th>start_time</th>\n",
       "      <th>redcap</th>\n",
       "      <th>beacon</th>\n",
       "      <th>nrem_count</th>\n",
       "      <th>nrem_minutes</th>\n",
       "      <th>rem2nrem</th>\n",
       "      <th>tst_fb</th>\n",
       "      <th>rem_percent</th>\n",
       "      <th>nrem_percent</th>\n",
       "      <th>waso</th>\n",
       "      <th>sol_fb</th>\n",
       "    </tr>\n",
       "  </thead>\n",
       "  <tbody>\n",
       "    <tr>\n",
       "      <th>0</th>\n",
       "      <td>2020-05-14</td>\n",
       "      <td>2020-05-14</td>\n",
       "      <td>5</td>\n",
       "      <td>84</td>\n",
       "      <td>20</td>\n",
       "      <td>213</td>\n",
       "      <td>10</td>\n",
       "      <td>82</td>\n",
       "      <td>21</td>\n",
       "      <td>27</td>\n",
       "      <td>hfttkth7</td>\n",
       "      <td>97</td>\n",
       "      <td>2020-05-14 07:13:00</td>\n",
       "      <td>2020-05-14 00:27:00</td>\n",
       "      <td>NaN</td>\n",
       "      <td>NaN</td>\n",
       "      <td>25</td>\n",
       "      <td>297</td>\n",
       "      <td>0.276094</td>\n",
       "      <td>6.766667</td>\n",
       "      <td>0.201970</td>\n",
       "      <td>0.731527</td>\n",
       "      <td>12.18</td>\n",
       "      <td>14.82</td>\n",
       "    </tr>\n",
       "    <tr>\n",
       "      <th>1</th>\n",
       "      <td>2020-05-14</td>\n",
       "      <td>2020-05-15</td>\n",
       "      <td>4</td>\n",
       "      <td>95</td>\n",
       "      <td>31</td>\n",
       "      <td>250</td>\n",
       "      <td>6</td>\n",
       "      <td>47</td>\n",
       "      <td>33</td>\n",
       "      <td>101</td>\n",
       "      <td>hfttkth7</td>\n",
       "      <td>87</td>\n",
       "      <td>2020-05-15 08:06:30</td>\n",
       "      <td>2020-05-14 23:53:30</td>\n",
       "      <td>NaN</td>\n",
       "      <td>NaN</td>\n",
       "      <td>35</td>\n",
       "      <td>345</td>\n",
       "      <td>0.136232</td>\n",
       "      <td>8.216667</td>\n",
       "      <td>0.095335</td>\n",
       "      <td>0.699797</td>\n",
       "      <td>64.09</td>\n",
       "      <td>36.91</td>\n",
       "    </tr>\n",
       "    <tr>\n",
       "      <th>2</th>\n",
       "      <td>2020-05-15</td>\n",
       "      <td>2020-05-16</td>\n",
       "      <td>2</td>\n",
       "      <td>47</td>\n",
       "      <td>17</td>\n",
       "      <td>190</td>\n",
       "      <td>8</td>\n",
       "      <td>50</td>\n",
       "      <td>20</td>\n",
       "      <td>42</td>\n",
       "      <td>hfttkth7</td>\n",
       "      <td>95</td>\n",
       "      <td>2020-05-16 04:57:00</td>\n",
       "      <td>2020-05-15 23:28:00</td>\n",
       "      <td>NaN</td>\n",
       "      <td>NaN</td>\n",
       "      <td>19</td>\n",
       "      <td>237</td>\n",
       "      <td>0.210970</td>\n",
       "      <td>5.483333</td>\n",
       "      <td>0.151976</td>\n",
       "      <td>0.720365</td>\n",
       "      <td>16.45</td>\n",
       "      <td>25.55</td>\n",
       "    </tr>\n",
       "    <tr>\n",
       "      <th>3</th>\n",
       "      <td>2020-05-17</td>\n",
       "      <td>2020-05-17</td>\n",
       "      <td>5</td>\n",
       "      <td>78</td>\n",
       "      <td>21</td>\n",
       "      <td>242</td>\n",
       "      <td>11</td>\n",
       "      <td>83</td>\n",
       "      <td>25</td>\n",
       "      <td>44</td>\n",
       "      <td>hfttkth7</td>\n",
       "      <td>96</td>\n",
       "      <td>2020-05-17 09:28:30</td>\n",
       "      <td>2020-05-17 02:01:30</td>\n",
       "      <td>NaN</td>\n",
       "      <td>NaN</td>\n",
       "      <td>26</td>\n",
       "      <td>320</td>\n",
       "      <td>0.259375</td>\n",
       "      <td>7.450000</td>\n",
       "      <td>0.185682</td>\n",
       "      <td>0.715884</td>\n",
       "      <td>17.88</td>\n",
       "      <td>26.12</td>\n",
       "    </tr>\n",
       "    <tr>\n",
       "      <th>4</th>\n",
       "      <td>2020-05-18</td>\n",
       "      <td>2020-05-18</td>\n",
       "      <td>5</td>\n",
       "      <td>96</td>\n",
       "      <td>20</td>\n",
       "      <td>167</td>\n",
       "      <td>14</td>\n",
       "      <td>88</td>\n",
       "      <td>28</td>\n",
       "      <td>65</td>\n",
       "      <td>hfttkth7</td>\n",
       "      <td>92</td>\n",
       "      <td>2020-05-18 07:20:00</td>\n",
       "      <td>2020-05-18 00:24:00</td>\n",
       "      <td>NaN</td>\n",
       "      <td>NaN</td>\n",
       "      <td>25</td>\n",
       "      <td>263</td>\n",
       "      <td>0.334601</td>\n",
       "      <td>6.933333</td>\n",
       "      <td>0.211538</td>\n",
       "      <td>0.632212</td>\n",
       "      <td>33.28</td>\n",
       "      <td>31.72</td>\n",
       "    </tr>\n",
       "  </tbody>\n",
       "</table>\n",
       "</div>"
      ],
      "text/plain": [
       "  start_date   end_date  deep_count  deep_minutes  light_count  light_minutes  \\\n",
       "0 2020-05-14 2020-05-14           5            84           20            213   \n",
       "1 2020-05-14 2020-05-15           4            95           31            250   \n",
       "2 2020-05-15 2020-05-16           2            47           17            190   \n",
       "3 2020-05-17 2020-05-17           5            78           21            242   \n",
       "4 2020-05-18 2020-05-18           5            96           20            167   \n",
       "\n",
       "   rem_count  rem_minutes  wake_count  wake_minutes     beiwe  efficiency  \\\n",
       "0         10           82          21            27  hfttkth7          97   \n",
       "1          6           47          33           101  hfttkth7          87   \n",
       "2          8           50          20            42  hfttkth7          95   \n",
       "3         11           83          25            44  hfttkth7          96   \n",
       "4         14           88          28            65  hfttkth7          92   \n",
       "\n",
       "             end_time          start_time  redcap  beacon  nrem_count  \\\n",
       "0 2020-05-14 07:13:00 2020-05-14 00:27:00     NaN     NaN          25   \n",
       "1 2020-05-15 08:06:30 2020-05-14 23:53:30     NaN     NaN          35   \n",
       "2 2020-05-16 04:57:00 2020-05-15 23:28:00     NaN     NaN          19   \n",
       "3 2020-05-17 09:28:30 2020-05-17 02:01:30     NaN     NaN          26   \n",
       "4 2020-05-18 07:20:00 2020-05-18 00:24:00     NaN     NaN          25   \n",
       "\n",
       "   nrem_minutes  rem2nrem    tst_fb  rem_percent  nrem_percent   waso  sol_fb  \n",
       "0           297  0.276094  6.766667     0.201970      0.731527  12.18   14.82  \n",
       "1           345  0.136232  8.216667     0.095335      0.699797  64.09   36.91  \n",
       "2           237  0.210970  5.483333     0.151976      0.720365  16.45   25.55  \n",
       "3           320  0.259375  7.450000     0.185682      0.715884  17.88   26.12  \n",
       "4           263  0.334601  6.933333     0.211538      0.632212  33.28   31.72  "
      ]
     },
     "execution_count": 175,
     "metadata": {},
     "output_type": "execute_result"
    }
   ],
   "source": [
    "fb_sleep.head()"
   ]
  },
  {
   "cell_type": "markdown",
   "metadata": {},
   "source": [
    "#### Efficiency, TST, WASO, SOL\n",
    "These metrics are used time and time again in the sleep literature and help to fully understand multiple aspects of a person's sleep."
   ]
  },
  {
   "cell_type": "markdown",
   "metadata": {},
   "source": [
    "<div class=\"alert alert-block alert-success\">\n",
    " \n",
    "These variables (Efficiency, TST, WASO, SOL) are automatically included because of their relevance in the sleep world.\n",
    "    \n",
    "</div>"
   ]
  },
  {
   "cell_type": "markdown",
   "metadata": {},
   "source": [
    "#### REM, nREM, REM:nREM\n",
    "I think there is merit including all three of these variables since although the ratio might capture a lot of the behavior."
   ]
  },
  {
   "cell_type": "code",
   "execution_count": 176,
   "metadata": {},
   "outputs": [
    {
     "data": {
      "image/png": "[encoded data removed]",
      "text/plain": [
       "<Figure size 288x288 with 1 Axes>"
      ]
     },
     "metadata": {
      "needs_background": "light"
     },
     "output_type": "display_data"
    }
   ],
   "source": [
    "plot_correlation(fb_sleep,x=\"rem2nrem\",y=\"rem_percent\")"
   ]
  },
  {
   "cell_type": "code",
   "execution_count": 177,
   "metadata": {},
   "outputs": [
    {
     "data": {
      "image/png": "[encoded data removed]",
      "text/plain": [
       "<Figure size 288x288 with 1 Axes>"
      ]
     },
     "metadata": {
      "needs_background": "light"
     },
     "output_type": "display_data"
    }
   ],
   "source": [
    "plot_correlation(fb_sleep,x=\"rem2nrem\",y=\"nrem_percent\")"
   ]
  },
  {
   "cell_type": "markdown",
   "metadata": {},
   "source": [
    "<div class=\"alert alert-block alert-danger\">\n",
    " \n",
    "The REM:nREM ratio is heavily correlated with both the REM and nREM percentage. Rather than include all three, we can just consider the ratio.\n",
    "    \n",
    "</div>"
   ]
  },
  {
   "cell_type": "markdown",
   "metadata": {},
   "source": [
    "<div class=\"alert alert-block alert-success\">\n",
    " \n",
    "REM:nREM ratio will help to provide a look at the sleep stages that are often omitted from similar studies. \n",
    "    \n",
    "</div>"
   ]
  },
  {
   "cell_type": "markdown",
   "metadata": {},
   "source": [
    "#### Count vs Minutes\n",
    "There should be a relationship between the `count` and `minutes` for each stage measured by Fitbit, but not necessarily all the time. A participant could have been trasnitioning in and out of different states a lot which would increase the `count`, but not necessarily the `minutes` relative to a normal night."
   ]
  },
  {
   "cell_type": "code",
   "execution_count": 178,
   "metadata": {},
   "outputs": [
    {
     "name": "stdout",
     "output_type": "stream",
     "text": [
      "wake\n"
     ]
    },
    {
     "data": {
      "image/png": "[encoded data removed]",
      "text/plain": [
       "<Figure size 288x288 with 1 Axes>"
      ]
     },
     "metadata": {
      "needs_background": "light"
     },
     "output_type": "display_data"
    },
    {
     "name": "stdout",
     "output_type": "stream",
     "text": [
      "rem\n"
     ]
    },
    {
     "data": {
      "image/png": "[encoded data removed]",
      "text/plain": [
       "<Figure size 288x288 with 1 Axes>"
      ]
     },
     "metadata": {
      "needs_background": "light"
     },
     "output_type": "display_data"
    },
    {
     "name": "stdout",
     "output_type": "stream",
     "text": [
      "nrem\n"
     ]
    },
    {
     "data": {
      "image/png": "[encoded data removed]",
      "text/plain": [
       "<Figure size 288x288 with 1 Axes>"
      ]
     },
     "metadata": {
      "needs_background": "light"
     },
     "output_type": "display_data"
    }
   ],
   "source": [
    "for stage in [\"wake\",\"rem\",\"nrem\"]:\n",
    "    print(stage)\n",
    "    plot_correlation(fb_sleep,x=f\"{stage}_count\",y=f\"{stage}_minutes\")"
   ]
  },
  {
   "cell_type": "markdown",
   "metadata": {},
   "source": [
    "<div class=\"alert alert-block alert-success\">\n",
    " \n",
    "The relationship between count and minutes is not _very_ strong, but still apparent based on the figures above.\n",
    "    \n",
    "</div>"
   ]
  },
  {
   "cell_type": "markdown",
   "metadata": {},
   "source": [
    "<div class=\"alert alert-block alert-danger\">\n",
    " \n",
    "Both `count` and `minutes` are TST-dependent i.e. the longer the participant sleeps, the larger the number of `count` and `minutes` for the various stages (for the most part). The other metrics, for the most part, are not sleep length dependent.  \n",
    "    \n",
    "</div>"
   ]
  },
  {
   "cell_type": "markdown",
   "metadata": {},
   "source": [
    "#### Raw Data Set\n",
    "Lot of variables to remove here."
   ]
  },
  {
   "cell_type": "code",
   "execution_count": 179,
   "metadata": {},
   "outputs": [
    {
     "data": {
      "text/html": [
       "<div>\n",
       "<style scoped>\n",
       "    .dataframe tbody tr th:only-of-type {\n",
       "        vertical-align: middle;\n",
       "    }\n",
       "\n",
       "    .dataframe tbody tr th {\n",
       "        vertical-align: top;\n",
       "    }\n",
       "\n",
       "    .dataframe thead th {\n",
       "        text-align: right;\n",
       "    }\n",
       "</style>\n",
       "<table border=\"1\" class=\"dataframe\">\n",
       "  <thead>\n",
       "    <tr style=\"text-align: right;\">\n",
       "      <th></th>\n",
       "      <th>end_date</th>\n",
       "      <th>beiwe</th>\n",
       "      <th>efficiency</th>\n",
       "      <th>end_time</th>\n",
       "      <th>start_time</th>\n",
       "      <th>rem2nrem</th>\n",
       "      <th>tst_fb</th>\n",
       "      <th>waso</th>\n",
       "      <th>sol_fb</th>\n",
       "    </tr>\n",
       "  </thead>\n",
       "  <tbody>\n",
       "    <tr>\n",
       "      <th>0</th>\n",
       "      <td>2020-05-14</td>\n",
       "      <td>hfttkth7</td>\n",
       "      <td>97</td>\n",
       "      <td>2020-05-14 07:13:00</td>\n",
       "      <td>2020-05-14 00:27:00</td>\n",
       "      <td>0.276094</td>\n",
       "      <td>6.766667</td>\n",
       "      <td>12.18</td>\n",
       "      <td>14.82</td>\n",
       "    </tr>\n",
       "    <tr>\n",
       "      <th>1</th>\n",
       "      <td>2020-05-15</td>\n",
       "      <td>hfttkth7</td>\n",
       "      <td>87</td>\n",
       "      <td>2020-05-15 08:06:30</td>\n",
       "      <td>2020-05-14 23:53:30</td>\n",
       "      <td>0.136232</td>\n",
       "      <td>8.216667</td>\n",
       "      <td>64.09</td>\n",
       "      <td>36.91</td>\n",
       "    </tr>\n",
       "    <tr>\n",
       "      <th>2</th>\n",
       "      <td>2020-05-16</td>\n",
       "      <td>hfttkth7</td>\n",
       "      <td>95</td>\n",
       "      <td>2020-05-16 04:57:00</td>\n",
       "      <td>2020-05-15 23:28:00</td>\n",
       "      <td>0.210970</td>\n",
       "      <td>5.483333</td>\n",
       "      <td>16.45</td>\n",
       "      <td>25.55</td>\n",
       "    </tr>\n",
       "    <tr>\n",
       "      <th>3</th>\n",
       "      <td>2020-05-17</td>\n",
       "      <td>hfttkth7</td>\n",
       "      <td>96</td>\n",
       "      <td>2020-05-17 09:28:30</td>\n",
       "      <td>2020-05-17 02:01:30</td>\n",
       "      <td>0.259375</td>\n",
       "      <td>7.450000</td>\n",
       "      <td>17.88</td>\n",
       "      <td>26.12</td>\n",
       "    </tr>\n",
       "    <tr>\n",
       "      <th>4</th>\n",
       "      <td>2020-05-18</td>\n",
       "      <td>hfttkth7</td>\n",
       "      <td>92</td>\n",
       "      <td>2020-05-18 07:20:00</td>\n",
       "      <td>2020-05-18 00:24:00</td>\n",
       "      <td>0.334601</td>\n",
       "      <td>6.933333</td>\n",
       "      <td>33.28</td>\n",
       "      <td>31.72</td>\n",
       "    </tr>\n",
       "  </tbody>\n",
       "</table>\n",
       "</div>"
      ],
      "text/plain": [
       "    end_date     beiwe  efficiency            end_time          start_time  \\\n",
       "0 2020-05-14  hfttkth7          97 2020-05-14 07:13:00 2020-05-14 00:27:00   \n",
       "1 2020-05-15  hfttkth7          87 2020-05-15 08:06:30 2020-05-14 23:53:30   \n",
       "2 2020-05-16  hfttkth7          95 2020-05-16 04:57:00 2020-05-15 23:28:00   \n",
       "3 2020-05-17  hfttkth7          96 2020-05-17 09:28:30 2020-05-17 02:01:30   \n",
       "4 2020-05-18  hfttkth7          92 2020-05-18 07:20:00 2020-05-18 00:24:00   \n",
       "\n",
       "   rem2nrem    tst_fb   waso  sol_fb  \n",
       "0  0.276094  6.766667  12.18   14.82  \n",
       "1  0.136232  8.216667  64.09   36.91  \n",
       "2  0.210970  5.483333  16.45   25.55  \n",
       "3  0.259375  7.450000  17.88   26.12  \n",
       "4  0.334601  6.933333  33.28   31.72  "
      ]
     },
     "execution_count": 179,
     "metadata": {},
     "output_type": "execute_result"
    }
   ],
   "source": [
    "fb_targets = fb_sleep.copy()\n",
    "# id and time cols\n",
    "id_cols = [\"start_date\",\"redcap\",\"beacon\"]\n",
    "# bad sleep params\n",
    "bad_params = [column for column in fb_sleep.columns if column.endswith(\"count\") or column.endswith(\"percent\") or column.endswith(\"minutes\")]\n",
    "for cols in [id_cols,bad_params]:\n",
    "    fb_targets.drop(cols,axis=\"columns\",inplace=True)\n",
    "\n",
    "fb_targets.head()"
   ]
  },
  {
   "cell_type": "markdown",
   "metadata": {},
   "source": [
    "### Self-Report Sleep\n",
    "The self-report sleep metrics will be easy since we will simply include all of them in the analysis. The sleep metrics that _will_ be used are:\n",
    "1. SOL\n",
    "2. NAW\n",
    "3. TST\n",
    "4. Restfulness"
   ]
  },
  {
   "cell_type": "markdown",
   "metadata": {},
   "source": [
    "#### Raw Data Set\n",
    "The sleep EMA has mood data that we do not need and some id/time columns."
   ]
  },
  {
   "cell_type": "code",
   "execution_count": 180,
   "metadata": {},
   "outputs": [
    {
     "data": {
      "text/html": [
       "<div>\n",
       "<style scoped>\n",
       "    .dataframe tbody tr th:only-of-type {\n",
       "        vertical-align: middle;\n",
       "    }\n",
       "\n",
       "    .dataframe tbody tr th {\n",
       "        vertical-align: top;\n",
       "    }\n",
       "\n",
       "    .dataframe thead th {\n",
       "        text-align: right;\n",
       "    }\n",
       "</style>\n",
       "<table border=\"1\" class=\"dataframe\">\n",
       "  <thead>\n",
       "    <tr style=\"text-align: right;\">\n",
       "      <th></th>\n",
       "      <th>date</th>\n",
       "      <th>beiwe</th>\n",
       "      <th>tst</th>\n",
       "      <th>sol</th>\n",
       "      <th>naw</th>\n",
       "      <th>restful</th>\n",
       "    </tr>\n",
       "  </thead>\n",
       "  <tbody>\n",
       "    <tr>\n",
       "      <th>0</th>\n",
       "      <td>2020-05-13</td>\n",
       "      <td>qh34m4r9</td>\n",
       "      <td>8.0</td>\n",
       "      <td>20.0</td>\n",
       "      <td>2.0</td>\n",
       "      <td>3.0</td>\n",
       "    </tr>\n",
       "    <tr>\n",
       "      <th>1</th>\n",
       "      <td>2020-05-13</td>\n",
       "      <td>awa8uces</td>\n",
       "      <td>2.0</td>\n",
       "      <td>10.0</td>\n",
       "      <td>3.0</td>\n",
       "      <td>1.0</td>\n",
       "    </tr>\n",
       "    <tr>\n",
       "      <th>2</th>\n",
       "      <td>2020-05-13</td>\n",
       "      <td>xxvnhauv</td>\n",
       "      <td>6.0</td>\n",
       "      <td>30.0</td>\n",
       "      <td>3.0</td>\n",
       "      <td>1.0</td>\n",
       "    </tr>\n",
       "    <tr>\n",
       "      <th>3</th>\n",
       "      <td>2020-05-13</td>\n",
       "      <td>rvhdl2la</td>\n",
       "      <td>5.3</td>\n",
       "      <td>5.0</td>\n",
       "      <td>2.0</td>\n",
       "      <td>2.0</td>\n",
       "    </tr>\n",
       "    <tr>\n",
       "      <th>4</th>\n",
       "      <td>2020-05-13</td>\n",
       "      <td>q5y11ytm</td>\n",
       "      <td>2.0</td>\n",
       "      <td>10.0</td>\n",
       "      <td>0.0</td>\n",
       "      <td>0.0</td>\n",
       "    </tr>\n",
       "  </tbody>\n",
       "</table>\n",
       "</div>"
      ],
      "text/plain": [
       "        date     beiwe  tst   sol  naw  restful\n",
       "0 2020-05-13  qh34m4r9  8.0  20.0  2.0      3.0\n",
       "1 2020-05-13  awa8uces  2.0  10.0  3.0      1.0\n",
       "2 2020-05-13  xxvnhauv  6.0  30.0  3.0      1.0\n",
       "3 2020-05-13  rvhdl2la  5.3   5.0  2.0      2.0\n",
       "4 2020-05-13  q5y11ytm  2.0  10.0  0.0      0.0"
      ]
     },
     "execution_count": 180,
     "metadata": {},
     "output_type": "execute_result"
    }
   ],
   "source": [
    "bw_targets = bw_sleep.copy()\n",
    "bw_targets = bw_targets[[\"date\",\"beiwe\",\"tst\",\"sol\",\"naw\",\"restful\"]]\n",
    "bw_targets.head()"
   ]
  },
  {
   "cell_type": "markdown",
   "metadata": {},
   "source": [
    "<a id=\"encoding\" ></a>"
   ]
  },
  {
   "cell_type": "markdown",
   "metadata": {},
   "source": [
    "# Target Encoding\n",
    "A few of the targets could do with a bit of encoding to simplify them. In particular:\n",
    "\n",
    "**Fitbit**\n",
    "* **Efficiency**: A few of the efficiency scores are _very_ low and rather than deal with this metric on a continuous scale, we can define values on a scale based on traditional understanding of sleep efficiency to cope with these disparities.\n",
    "\n",
    "**Beiwe**\n",
    "* **Restful**: Discerning between the scales of the restful score is a bit tricky so we group the restful scores into two categories: 0 for overall negative and 1 for overall positive."
   ]
  },
  {
   "cell_type": "markdown",
   "metadata": {},
   "source": [
    "## Efficiency\n",
    "Based on a discussion with Dr. Schnyer, he suggested this scale (with some minor tweaks in language from me):\n",
    "\n",
    "| SE | Rating | Value |\n",
    "| --- | --- | --- |\n",
    "| >90% | Excellent | 3 |\n",
    "| 85% - 90% | Good | 2 |\n",
    "| 80% - 85% | Typical | 1 |\n",
    "| <80% | Poor | 0 |"
   ]
  },
  {
   "cell_type": "code",
   "execution_count": 182,
   "metadata": {},
   "outputs": [],
   "source": [
    "def rate_se(value):\n",
    "    \"\"\"returns encoded value for se\"\"\"\n",
    "    if value > 90:\n",
    "        return 3\n",
    "    elif value > 85:\n",
    "        return 2\n",
    "    elif value > 80:\n",
    "        return 1\n",
    "    else:\n",
    "        return 0"
   ]
  },
  {
   "cell_type": "code",
   "execution_count": 184,
   "metadata": {},
   "outputs": [
    {
     "data": {
      "text/html": [
       "<div>\n",
       "<style scoped>\n",
       "    .dataframe tbody tr th:only-of-type {\n",
       "        vertical-align: middle;\n",
       "    }\n",
       "\n",
       "    .dataframe tbody tr th {\n",
       "        vertical-align: top;\n",
       "    }\n",
       "\n",
       "    .dataframe thead th {\n",
       "        text-align: right;\n",
       "    }\n",
       "</style>\n",
       "<table border=\"1\" class=\"dataframe\">\n",
       "  <thead>\n",
       "    <tr style=\"text-align: right;\">\n",
       "      <th></th>\n",
       "      <th>end_date</th>\n",
       "      <th>beiwe</th>\n",
       "      <th>end_time</th>\n",
       "      <th>start_time</th>\n",
       "      <th>rem2nrem</th>\n",
       "      <th>tst_fb</th>\n",
       "      <th>waso</th>\n",
       "      <th>sol_fb</th>\n",
       "      <th>se_rating</th>\n",
       "    </tr>\n",
       "  </thead>\n",
       "  <tbody>\n",
       "    <tr>\n",
       "      <th>0</th>\n",
       "      <td>2020-05-14</td>\n",
       "      <td>hfttkth7</td>\n",
       "      <td>2020-05-14 07:13:00</td>\n",
       "      <td>2020-05-14 00:27:00</td>\n",
       "      <td>0.276094</td>\n",
       "      <td>6.766667</td>\n",
       "      <td>12.18</td>\n",
       "      <td>14.82</td>\n",
       "      <td>3</td>\n",
       "    </tr>\n",
       "    <tr>\n",
       "      <th>1</th>\n",
       "      <td>2020-05-15</td>\n",
       "      <td>hfttkth7</td>\n",
       "      <td>2020-05-15 08:06:30</td>\n",
       "      <td>2020-05-14 23:53:30</td>\n",
       "      <td>0.136232</td>\n",
       "      <td>8.216667</td>\n",
       "      <td>64.09</td>\n",
       "      <td>36.91</td>\n",
       "      <td>2</td>\n",
       "    </tr>\n",
       "    <tr>\n",
       "      <th>2</th>\n",
       "      <td>2020-05-16</td>\n",
       "      <td>hfttkth7</td>\n",
       "      <td>2020-05-16 04:57:00</td>\n",
       "      <td>2020-05-15 23:28:00</td>\n",
       "      <td>0.210970</td>\n",
       "      <td>5.483333</td>\n",
       "      <td>16.45</td>\n",
       "      <td>25.55</td>\n",
       "      <td>3</td>\n",
       "    </tr>\n",
       "    <tr>\n",
       "      <th>3</th>\n",
       "      <td>2020-05-17</td>\n",
       "      <td>hfttkth7</td>\n",
       "      <td>2020-05-17 09:28:30</td>\n",
       "      <td>2020-05-17 02:01:30</td>\n",
       "      <td>0.259375</td>\n",
       "      <td>7.450000</td>\n",
       "      <td>17.88</td>\n",
       "      <td>26.12</td>\n",
       "      <td>3</td>\n",
       "    </tr>\n",
       "    <tr>\n",
       "      <th>4</th>\n",
       "      <td>2020-05-18</td>\n",
       "      <td>hfttkth7</td>\n",
       "      <td>2020-05-18 07:20:00</td>\n",
       "      <td>2020-05-18 00:24:00</td>\n",
       "      <td>0.334601</td>\n",
       "      <td>6.933333</td>\n",
       "      <td>33.28</td>\n",
       "      <td>31.72</td>\n",
       "      <td>3</td>\n",
       "    </tr>\n",
       "  </tbody>\n",
       "</table>\n",
       "</div>"
      ],
      "text/plain": [
       "    end_date     beiwe            end_time          start_time  rem2nrem  \\\n",
       "0 2020-05-14  hfttkth7 2020-05-14 07:13:00 2020-05-14 00:27:00  0.276094   \n",
       "1 2020-05-15  hfttkth7 2020-05-15 08:06:30 2020-05-14 23:53:30  0.136232   \n",
       "2 2020-05-16  hfttkth7 2020-05-16 04:57:00 2020-05-15 23:28:00  0.210970   \n",
       "3 2020-05-17  hfttkth7 2020-05-17 09:28:30 2020-05-17 02:01:30  0.259375   \n",
       "4 2020-05-18  hfttkth7 2020-05-18 07:20:00 2020-05-18 00:24:00  0.334601   \n",
       "\n",
       "     tst_fb   waso  sol_fb  se_rating  \n",
       "0  6.766667  12.18   14.82          3  \n",
       "1  8.216667  64.09   36.91          2  \n",
       "2  5.483333  16.45   25.55          3  \n",
       "3  7.450000  17.88   26.12          3  \n",
       "4  6.933333  33.28   31.72          3  "
      ]
     },
     "execution_count": 184,
     "metadata": {},
     "output_type": "execute_result"
    }
   ],
   "source": [
    "try:\n",
    "    fb_targets[\"se_rating\"] = fb_targets.apply(lambda x: rate_se(x[\"efficiency\"]), axis=\"columns\")\n",
    "    fb_targets.drop(\"efficiency\",axis=\"columns\",inplace=True)\n",
    "except KeyError:\n",
    "    print(\"Encoding already complete\")\n",
    "fb_targets.head()"
   ]
  },
  {
   "cell_type": "code",
   "execution_count": 185,
   "metadata": {},
   "outputs": [
    {
     "data": {
      "image/png": "[encoded data removed]",
      "text/plain": [
       "<Figure size 576x216 with 1 Axes>"
      ]
     },
     "metadata": {
      "needs_background": "light"
     },
     "output_type": "display_data"
    }
   ],
   "source": [
    "plot_mood_bar(fb_targets,\"se_rating\")"
   ]
  },
  {
   "cell_type": "markdown",
   "metadata": {},
   "source": [
    "## Restful\n",
    "We will simply take the two lower scores and group into a `0` bin and the two higher scores into a `1` bin."
   ]
  },
  {
   "cell_type": "code",
   "execution_count": 183,
   "metadata": {},
   "outputs": [
    {
     "data": {
      "text/html": [
       "<div>\n",
       "<style scoped>\n",
       "    .dataframe tbody tr th:only-of-type {\n",
       "        vertical-align: middle;\n",
       "    }\n",
       "\n",
       "    .dataframe tbody tr th {\n",
       "        vertical-align: top;\n",
       "    }\n",
       "\n",
       "    .dataframe thead th {\n",
       "        text-align: right;\n",
       "    }\n",
       "</style>\n",
       "<table border=\"1\" class=\"dataframe\">\n",
       "  <thead>\n",
       "    <tr style=\"text-align: right;\">\n",
       "      <th></th>\n",
       "      <th>date</th>\n",
       "      <th>beiwe</th>\n",
       "      <th>tst</th>\n",
       "      <th>sol</th>\n",
       "      <th>naw</th>\n",
       "      <th>restful_binary</th>\n",
       "    </tr>\n",
       "  </thead>\n",
       "  <tbody>\n",
       "    <tr>\n",
       "      <th>0</th>\n",
       "      <td>2020-05-13</td>\n",
       "      <td>qh34m4r9</td>\n",
       "      <td>8.0</td>\n",
       "      <td>20.0</td>\n",
       "      <td>2.0</td>\n",
       "      <td>1</td>\n",
       "    </tr>\n",
       "    <tr>\n",
       "      <th>1</th>\n",
       "      <td>2020-05-13</td>\n",
       "      <td>awa8uces</td>\n",
       "      <td>2.0</td>\n",
       "      <td>10.0</td>\n",
       "      <td>3.0</td>\n",
       "      <td>0</td>\n",
       "    </tr>\n",
       "    <tr>\n",
       "      <th>2</th>\n",
       "      <td>2020-05-13</td>\n",
       "      <td>xxvnhauv</td>\n",
       "      <td>6.0</td>\n",
       "      <td>30.0</td>\n",
       "      <td>3.0</td>\n",
       "      <td>0</td>\n",
       "    </tr>\n",
       "    <tr>\n",
       "      <th>3</th>\n",
       "      <td>2020-05-13</td>\n",
       "      <td>rvhdl2la</td>\n",
       "      <td>5.3</td>\n",
       "      <td>5.0</td>\n",
       "      <td>2.0</td>\n",
       "      <td>1</td>\n",
       "    </tr>\n",
       "    <tr>\n",
       "      <th>4</th>\n",
       "      <td>2020-05-13</td>\n",
       "      <td>q5y11ytm</td>\n",
       "      <td>2.0</td>\n",
       "      <td>10.0</td>\n",
       "      <td>0.0</td>\n",
       "      <td>0</td>\n",
       "    </tr>\n",
       "  </tbody>\n",
       "</table>\n",
       "</div>"
      ],
      "text/plain": [
       "        date     beiwe  tst   sol  naw  restful_binary\n",
       "0 2020-05-13  qh34m4r9  8.0  20.0  2.0               1\n",
       "1 2020-05-13  awa8uces  2.0  10.0  3.0               0\n",
       "2 2020-05-13  xxvnhauv  6.0  30.0  3.0               0\n",
       "3 2020-05-13  rvhdl2la  5.3   5.0  2.0               1\n",
       "4 2020-05-13  q5y11ytm  2.0  10.0  0.0               0"
      ]
     },
     "execution_count": 183,
     "metadata": {},
     "output_type": "execute_result"
    }
   ],
   "source": [
    "try:\n",
    "    bw_targets[\"restful_binary\"] = [0 if score < 2 else 1 for score in bw_targets[\"restful\"]]\n",
    "    bw_targets.drop([\"restful\"],axis=\"columns\",inplace=True)\n",
    "except KeyError:\n",
    "    print(\"Encoding already complete\")\n",
    "bw_targets.head()"
   ]
  },
  {
   "cell_type": "markdown",
   "metadata": {},
   "source": [
    "<a id=\"feature_engineering\"></a>"
   ]
  },
  {
   "cell_type": "markdown",
   "metadata": {},
   "source": [
    "# Feature Engineering\n",
    "In these next cells we will accomplish a few things:\n",
    "* Check how primary IEQ dataset varies when including mood scores\n",
    "* Merge datasets\n",
    "* Principal Component Analysis\n",
    "    1. IEQ and FB sleep dataset\n",
    "    2. IEQ and BW sleep dataset\n",
    "* Clusting \n",
    "    1. IEQ and FB sleep dataset\n",
    "    2. IEQ and BW sleep dataset"
   ]
  },
  {
   "cell_type": "markdown",
   "metadata": {},
   "source": [
    "## Feature Set Inpection\n",
    "We inspect the feature sets to see how they change when we include both the IEQ and mood parameters."
   ]
  },
  {
   "cell_type": "markdown",
   "metadata": {},
   "source": [
    "### IEQ + Mood Feature Sets Only\n",
    "The IEQ dataset includes the primary features, but we might want to include mood because these can be important parameters that affect sleep outcomes. Here we see how the dataset shrinks when merging the two feature sets."
   ]
  },
  {
   "cell_type": "code",
   "execution_count": 189,
   "metadata": {},
   "outputs": [
    {
     "name": "stdout",
     "output_type": "stream",
     "text": [
      "Observations in IEQ dataset:\t 332\n",
      "Observations in Mood dataset:\t 736\n",
      "Observations from combined:\t 101\n"
     ]
    }
   ],
   "source": [
    "ieq_and_mood_features = ieq_features.merge(right=mood_features,on=[\"beiwe\",\"start_time\",\"end_time\"])\n",
    "print(\"Observations in IEQ dataset:\\t\", len(ieq_features))\n",
    "print(\"Observations in Mood dataset:\\t\", len(mood_features))\n",
    "print(\"Observations from combined:\\t\",len(ieq_and_mood_features))"
   ]
  },
  {
   "cell_type": "markdown",
   "metadata": {},
   "source": [
    "<div class=\"alert alert-block alert-warning\">\n",
    " \n",
    "We lose over 1/3 of our dataset when including the mood features, but this is from _just_ the feature sets. The amount of data loss might be considerably less if we look at the feature sets _after_ they have been merged with the target sets. \n",
    "    \n",
    "</div>"
   ]
  },
  {
   "cell_type": "markdown",
   "metadata": {},
   "source": [
    "### Feature Sets + Fitbit Sleep Targets\n",
    "We do the same analysis as above but now after the feature sets have been merged with the Fitbit target set."
   ]
  },
  {
   "cell_type": "code",
   "execution_count": 201,
   "metadata": {},
   "outputs": [
    {
     "name": "stdout",
     "output_type": "stream",
     "text": [
      "Observations in IEQ dataset merged with FB:\t 281\n",
      "Observations in Mood dataset merged with FB:\t 736\n",
      "Observations from combined merged sets:\t\t 101\n"
     ]
    }
   ],
   "source": [
    "ieq_and_fb = ieq_features.merge(right=fb_targets,on=[\"beiwe\",\"start_time\",\"end_time\"])\n",
    "mood_and_fb = mood_features.merge(right=fb_targets,on=[\"beiwe\",\"start_time\",\"end_time\",\"end_date\"])\n",
    "ieq_mood_and_fb = ieq_and_fb.merge(right=mood_and_fb,on=[\"beiwe\",\"start_time\",\"end_time\",\"end_date\"])\n",
    "print(\"Observations in IEQ dataset merged with FB:\\t\", len(ieq_and_fb))\n",
    "print(\"Observations in Mood dataset merged with FB:\\t\", len(mood_and_fb))\n",
    "print(\"Observations from combined merged sets:\\t\\t\",len(ieq_mood_and_fb))"
   ]
  },
  {
   "cell_type": "markdown",
   "metadata": {},
   "source": [
    "<div class=\"alert alert-block alert-warning\">\n",
    " \n",
    "We still lose nearly 1/3 of our feature set when including mood. Perhaps, at least for this initial inspection, we neglect the effects of mood on sleep outcomes. \n",
    "    \n",
    "</div>"
   ]
  },
  {
   "cell_type": "markdown",
   "metadata": {},
   "source": [
    "### Feature Sets + Self-Report Sleep Targets\n",
    "We do the same analysis as above but now after the feature sets have been merged with the Beiwe sleep target set."
   ]
  },
  {
   "cell_type": "code",
   "execution_count": 214,
   "metadata": {},
   "outputs": [
    {
     "name": "stdout",
     "output_type": "stream",
     "text": [
      "Observations in IEQ dataset merged with BW:\t 192\n",
      "Observations in Mood dataset merged with BW:\t 207\n",
      "Observations from combined merged sets:\t\t 32\n"
     ]
    }
   ],
   "source": [
    "ieq_and_bw = ieq_features.merge(right=bw_targets,on=[\"beiwe\",\"date\"])\n",
    "mood_and_bw = mood_features.merge(right=bw_targets,left_on=[\"beiwe\",\"end_date\"],right_on=[\"beiwe\",\"date\"])\n",
    "ieq_mood_and_bw = ieq_and_bw.merge(right=mood_and_bw,left_on=[\"beiwe\",\"date\"],right_on=[\"beiwe\",\"end_date\"])\n",
    "print(\"Observations in IEQ dataset merged with BW:\\t\", len(ieq_and_bw))\n",
    "print(\"Observations in Mood dataset merged with BW:\\t\", len(mood_and_bw))\n",
    "print(\"Observations from combined merged sets:\\t\\t\",len(ieq_mood_and_bw))"
   ]
  },
  {
   "cell_type": "markdown",
   "metadata": {},
   "source": [
    "## Datasets\n",
    "We have two datasets that have already been created in the analysis above:\n",
    "1. IEQ + FB\n",
    "2. IEQ + Beiwe"
   ]
  },
  {
   "cell_type": "markdown",
   "metadata": {},
   "source": [
    "### IEQ + FB"
   ]
  },
  {
   "cell_type": "code",
   "execution_count": 215,
   "metadata": {},
   "outputs": [
    {
     "data": {
      "text/html": [
       "<div>\n",
       "<style scoped>\n",
       "    .dataframe tbody tr th:only-of-type {\n",
       "        vertical-align: middle;\n",
       "    }\n",
       "\n",
       "    .dataframe tbody tr th {\n",
       "        vertical-align: top;\n",
       "    }\n",
       "\n",
       "    .dataframe thead th {\n",
       "        text-align: right;\n",
       "    }\n",
       "</style>\n",
       "<table border=\"1\" class=\"dataframe\">\n",
       "  <thead>\n",
       "    <tr style=\"text-align: right;\">\n",
       "      <th></th>\n",
       "      <th>start_time</th>\n",
       "      <th>end_time</th>\n",
       "      <th>beiwe</th>\n",
       "      <th>tvoc_median</th>\n",
       "      <th>co_median</th>\n",
       "      <th>co2_median</th>\n",
       "      <th>pm2p5_mass_median</th>\n",
       "      <th>temperature_c_median</th>\n",
       "      <th>rh_median</th>\n",
       "      <th>date</th>\n",
       "      <th>end_date</th>\n",
       "      <th>rem2nrem</th>\n",
       "      <th>tst_fb</th>\n",
       "      <th>waso</th>\n",
       "      <th>sol_fb</th>\n",
       "      <th>se_rating</th>\n",
       "    </tr>\n",
       "  </thead>\n",
       "  <tbody>\n",
       "    <tr>\n",
       "      <th>0</th>\n",
       "      <td>2020-08-10 04:42:30</td>\n",
       "      <td>2020-08-10 12:35:30</td>\n",
       "      <td>lkkjddam</td>\n",
       "      <td>126.658333</td>\n",
       "      <td>10.359917</td>\n",
       "      <td>1600.754959</td>\n",
       "      <td>0.895571</td>\n",
       "      <td>23.337500</td>\n",
       "      <td>33.0</td>\n",
       "      <td>2020-08-10</td>\n",
       "      <td>2020-08-10</td>\n",
       "      <td>0.217791</td>\n",
       "      <td>7.883333</td>\n",
       "      <td>42.57</td>\n",
       "      <td>33.43</td>\n",
       "      <td>3</td>\n",
       "    </tr>\n",
       "    <tr>\n",
       "      <th>1</th>\n",
       "      <td>2020-08-11 03:35:00</td>\n",
       "      <td>2020-08-11 12:36:30</td>\n",
       "      <td>lkkjddam</td>\n",
       "      <td>233.566667</td>\n",
       "      <td>6.429275</td>\n",
       "      <td>1628.474180</td>\n",
       "      <td>0.847762</td>\n",
       "      <td>25.000000</td>\n",
       "      <td>34.0</td>\n",
       "      <td>2020-08-11</td>\n",
       "      <td>2020-08-11</td>\n",
       "      <td>0.256906</td>\n",
       "      <td>9.016667</td>\n",
       "      <td>21.64</td>\n",
       "      <td>64.36</td>\n",
       "      <td>3</td>\n",
       "    </tr>\n",
       "    <tr>\n",
       "      <th>2</th>\n",
       "      <td>2020-08-12 02:59:30</td>\n",
       "      <td>2020-08-12 10:52:30</td>\n",
       "      <td>lkkjddam</td>\n",
       "      <td>252.016667</td>\n",
       "      <td>10.271850</td>\n",
       "      <td>1596.122408</td>\n",
       "      <td>0.939256</td>\n",
       "      <td>24.000000</td>\n",
       "      <td>33.0</td>\n",
       "      <td>2020-08-12</td>\n",
       "      <td>2020-08-12</td>\n",
       "      <td>0.189504</td>\n",
       "      <td>7.883333</td>\n",
       "      <td>33.11</td>\n",
       "      <td>31.89</td>\n",
       "      <td>3</td>\n",
       "    </tr>\n",
       "    <tr>\n",
       "      <th>3</th>\n",
       "      <td>2020-08-14 03:05:00</td>\n",
       "      <td>2020-08-14 11:23:30</td>\n",
       "      <td>lkkjddam</td>\n",
       "      <td>223.700000</td>\n",
       "      <td>7.232700</td>\n",
       "      <td>1301.449844</td>\n",
       "      <td>0.886675</td>\n",
       "      <td>25.000000</td>\n",
       "      <td>33.0</td>\n",
       "      <td>2020-08-14</td>\n",
       "      <td>2020-08-14</td>\n",
       "      <td>0.218391</td>\n",
       "      <td>8.300000</td>\n",
       "      <td>49.80</td>\n",
       "      <td>24.20</td>\n",
       "      <td>2</td>\n",
       "    </tr>\n",
       "    <tr>\n",
       "      <th>4</th>\n",
       "      <td>2020-08-15 06:51:30</td>\n",
       "      <td>2020-08-15 11:30:00</td>\n",
       "      <td>lkkjddam</td>\n",
       "      <td>209.600000</td>\n",
       "      <td>10.886100</td>\n",
       "      <td>1274.110350</td>\n",
       "      <td>1.046326</td>\n",
       "      <td>23.333333</td>\n",
       "      <td>34.0</td>\n",
       "      <td>2020-08-15</td>\n",
       "      <td>2020-08-15</td>\n",
       "      <td>0.320000</td>\n",
       "      <td>4.633333</td>\n",
       "      <td>8.34</td>\n",
       "      <td>38.66</td>\n",
       "      <td>3</td>\n",
       "    </tr>\n",
       "  </tbody>\n",
       "</table>\n",
       "</div>"
      ],
      "text/plain": [
       "           start_time            end_time     beiwe  tvoc_median  co_median  \\\n",
       "0 2020-08-10 04:42:30 2020-08-10 12:35:30  lkkjddam   126.658333  10.359917   \n",
       "1 2020-08-11 03:35:00 2020-08-11 12:36:30  lkkjddam   233.566667   6.429275   \n",
       "2 2020-08-12 02:59:30 2020-08-12 10:52:30  lkkjddam   252.016667  10.271850   \n",
       "3 2020-08-14 03:05:00 2020-08-14 11:23:30  lkkjddam   223.700000   7.232700   \n",
       "4 2020-08-15 06:51:30 2020-08-15 11:30:00  lkkjddam   209.600000  10.886100   \n",
       "\n",
       "    co2_median  pm2p5_mass_median  temperature_c_median  rh_median       date  \\\n",
       "0  1600.754959           0.895571             23.337500       33.0 2020-08-10   \n",
       "1  1628.474180           0.847762             25.000000       34.0 2020-08-11   \n",
       "2  1596.122408           0.939256             24.000000       33.0 2020-08-12   \n",
       "3  1301.449844           0.886675             25.000000       33.0 2020-08-14   \n",
       "4  1274.110350           1.046326             23.333333       34.0 2020-08-15   \n",
       "\n",
       "    end_date  rem2nrem    tst_fb   waso  sol_fb  se_rating  \n",
       "0 2020-08-10  0.217791  7.883333  42.57   33.43          3  \n",
       "1 2020-08-11  0.256906  9.016667  21.64   64.36          3  \n",
       "2 2020-08-12  0.189504  7.883333  33.11   31.89          3  \n",
       "3 2020-08-14  0.218391  8.300000  49.80   24.20          2  \n",
       "4 2020-08-15  0.320000  4.633333   8.34   38.66          3  "
      ]
     },
     "execution_count": 215,
     "metadata": {},
     "output_type": "execute_result"
    }
   ],
   "source": [
    "ieq_and_fb.head()"
   ]
  },
  {
   "cell_type": "markdown",
   "metadata": {},
   "source": [
    "### IEQ + BW"
   ]
  },
  {
   "cell_type": "code",
   "execution_count": 216,
   "metadata": {},
   "outputs": [
    {
     "data": {
      "text/html": [
       "<div>\n",
       "<style scoped>\n",
       "    .dataframe tbody tr th:only-of-type {\n",
       "        vertical-align: middle;\n",
       "    }\n",
       "\n",
       "    .dataframe tbody tr th {\n",
       "        vertical-align: top;\n",
       "    }\n",
       "\n",
       "    .dataframe thead th {\n",
       "        text-align: right;\n",
       "    }\n",
       "</style>\n",
       "<table border=\"1\" class=\"dataframe\">\n",
       "  <thead>\n",
       "    <tr style=\"text-align: right;\">\n",
       "      <th></th>\n",
       "      <th>start_time</th>\n",
       "      <th>end_time</th>\n",
       "      <th>beiwe</th>\n",
       "      <th>tvoc_median</th>\n",
       "      <th>co_median</th>\n",
       "      <th>co2_median</th>\n",
       "      <th>pm2p5_mass_median</th>\n",
       "      <th>temperature_c_median</th>\n",
       "      <th>rh_median</th>\n",
       "      <th>date</th>\n",
       "      <th>tst</th>\n",
       "      <th>sol</th>\n",
       "      <th>naw</th>\n",
       "      <th>restful_binary</th>\n",
       "    </tr>\n",
       "  </thead>\n",
       "  <tbody>\n",
       "    <tr>\n",
       "      <th>0</th>\n",
       "      <td>2020-08-10 04:42:30</td>\n",
       "      <td>2020-08-10 12:35:30</td>\n",
       "      <td>lkkjddam</td>\n",
       "      <td>126.658333</td>\n",
       "      <td>10.359917</td>\n",
       "      <td>1600.754959</td>\n",
       "      <td>0.895571</td>\n",
       "      <td>23.337500</td>\n",
       "      <td>33.0</td>\n",
       "      <td>2020-08-10</td>\n",
       "      <td>6.0</td>\n",
       "      <td>15.0</td>\n",
       "      <td>5.0</td>\n",
       "      <td>0</td>\n",
       "    </tr>\n",
       "    <tr>\n",
       "      <th>1</th>\n",
       "      <td>2020-08-12 02:59:30</td>\n",
       "      <td>2020-08-12 10:52:30</td>\n",
       "      <td>lkkjddam</td>\n",
       "      <td>252.016667</td>\n",
       "      <td>10.271850</td>\n",
       "      <td>1596.122408</td>\n",
       "      <td>0.939256</td>\n",
       "      <td>24.000000</td>\n",
       "      <td>33.0</td>\n",
       "      <td>2020-08-12</td>\n",
       "      <td>8.0</td>\n",
       "      <td>10.0</td>\n",
       "      <td>3.0</td>\n",
       "      <td>1</td>\n",
       "    </tr>\n",
       "    <tr>\n",
       "      <th>2</th>\n",
       "      <td>2020-08-14 03:05:00</td>\n",
       "      <td>2020-08-14 11:23:30</td>\n",
       "      <td>lkkjddam</td>\n",
       "      <td>223.700000</td>\n",
       "      <td>7.232700</td>\n",
       "      <td>1301.449844</td>\n",
       "      <td>0.886675</td>\n",
       "      <td>25.000000</td>\n",
       "      <td>33.0</td>\n",
       "      <td>2020-08-14</td>\n",
       "      <td>8.0</td>\n",
       "      <td>10.0</td>\n",
       "      <td>3.0</td>\n",
       "      <td>1</td>\n",
       "    </tr>\n",
       "    <tr>\n",
       "      <th>3</th>\n",
       "      <td>2020-08-16 04:21:30</td>\n",
       "      <td>2020-08-16 11:53:00</td>\n",
       "      <td>lkkjddam</td>\n",
       "      <td>268.650000</td>\n",
       "      <td>10.486333</td>\n",
       "      <td>1319.535880</td>\n",
       "      <td>0.884277</td>\n",
       "      <td>24.000000</td>\n",
       "      <td>34.0</td>\n",
       "      <td>2020-08-16</td>\n",
       "      <td>6.0</td>\n",
       "      <td>20.0</td>\n",
       "      <td>4.0</td>\n",
       "      <td>0</td>\n",
       "    </tr>\n",
       "    <tr>\n",
       "      <th>4</th>\n",
       "      <td>2020-08-17 03:00:00</td>\n",
       "      <td>2020-08-17 11:30:30</td>\n",
       "      <td>lkkjddam</td>\n",
       "      <td>327.166667</td>\n",
       "      <td>11.025200</td>\n",
       "      <td>1412.926806</td>\n",
       "      <td>1.113030</td>\n",
       "      <td>23.333333</td>\n",
       "      <td>33.0</td>\n",
       "      <td>2020-08-17</td>\n",
       "      <td>6.0</td>\n",
       "      <td>25.0</td>\n",
       "      <td>2.0</td>\n",
       "      <td>0</td>\n",
       "    </tr>\n",
       "  </tbody>\n",
       "</table>\n",
       "</div>"
      ],
      "text/plain": [
       "           start_time            end_time     beiwe  tvoc_median  co_median  \\\n",
       "0 2020-08-10 04:42:30 2020-08-10 12:35:30  lkkjddam   126.658333  10.359917   \n",
       "1 2020-08-12 02:59:30 2020-08-12 10:52:30  lkkjddam   252.016667  10.271850   \n",
       "2 2020-08-14 03:05:00 2020-08-14 11:23:30  lkkjddam   223.700000   7.232700   \n",
       "3 2020-08-16 04:21:30 2020-08-16 11:53:00  lkkjddam   268.650000  10.486333   \n",
       "4 2020-08-17 03:00:00 2020-08-17 11:30:30  lkkjddam   327.166667  11.025200   \n",
       "\n",
       "    co2_median  pm2p5_mass_median  temperature_c_median  rh_median       date  \\\n",
       "0  1600.754959           0.895571             23.337500       33.0 2020-08-10   \n",
       "1  1596.122408           0.939256             24.000000       33.0 2020-08-12   \n",
       "2  1301.449844           0.886675             25.000000       33.0 2020-08-14   \n",
       "3  1319.535880           0.884277             24.000000       34.0 2020-08-16   \n",
       "4  1412.926806           1.113030             23.333333       33.0 2020-08-17   \n",
       "\n",
       "   tst   sol  naw  restful_binary  \n",
       "0  6.0  15.0  5.0               0  \n",
       "1  8.0  10.0  3.0               1  \n",
       "2  8.0  10.0  3.0               1  \n",
       "3  6.0  20.0  4.0               0  \n",
       "4  6.0  25.0  2.0               0  "
      ]
     },
     "execution_count": 216,
     "metadata": {},
     "output_type": "execute_result"
    }
   ],
   "source": [
    "ieq_and_bw.head()"
   ]
  },
  {
   "cell_type": "markdown",
   "metadata": {},
   "source": [
    "## PCA\n",
    "The first step towards determining the importance of our pre-determined features. We conduct PCS to see if any of the IEQ parameters explains the variability in the model. "
   ]
  },
  {
   "cell_type": "code",
   "execution_count": 220,
   "metadata": {},
   "outputs": [],
   "source": [
    "from sklearn.decomposition import PCA"
   ]
  },
  {
   "cell_type": "markdown",
   "metadata": {},
   "source": [
    "### PCA Functions\n",
    "Below are a few functions that help construct and visualize the PCA. "
   ]
  },
  {
   "cell_type": "code",
   "execution_count": 217,
   "metadata": {},
   "outputs": [],
   "source": [
    "def features_for_pca(df, feature_labels, scale=True):\n",
    "    \"\"\"\n",
    "    Collects features from the original dataframe and scales them\n",
    "    \n",
    "    Inputs:\n",
    "    - df: dataframe with features\n",
    "    - features_labels: list of strings specifying the columns to pull from df\n",
    "    - scale: whether or not to scale the values\n",
    "    \n",
    "    Returns a dataframe with scaled features\n",
    "    \"\"\"\n",
    "    X = df.copy()\n",
    "    X = X.loc[:, feature_labels]\n",
    "    if scale:\n",
    "        X = (X - X.mean(axis=0)) / X.std(axis=0)\n",
    "        \n",
    "    return X"
   ]
  },
  {
   "cell_type": "code",
   "execution_count": 218,
   "metadata": {},
   "outputs": [],
   "source": [
    "def run_pca(X):\n",
    "    \"\"\"\n",
    "    Take a feature set, performs PCA, and returns the formatted results\n",
    "    \n",
    "    Returns a dataframe of the formatted results from PCA\n",
    "    \"\"\"\n",
    "    pca = PCA()\n",
    "    X_pca = pca.fit_transform(X)\n",
    "    \n",
    "    component_names = [f\"PC{i+1}\" for i in range(X_pca.shape[1])]\n",
    "    \n",
    "    loadings = pd.DataFrame(\n",
    "        pca.components_.T,  # transpose the matrix of loadings\n",
    "        columns=component_names,  # so the columns are the principal components\n",
    "        index=X.columns,  # and the rows are the original features\n",
    "    )\n",
    "    return loadings, pca"
   ]
  },
  {
   "cell_type": "code",
   "execution_count": 245,
   "metadata": {},
   "outputs": [],
   "source": [
    "def visualize_pca(loadings, pca):\n",
    "    \"\"\"plots a bar chart, cumulative plot, heatmap , and scatter (1st and 2nd) of the pca loadings\"\"\"\n",
    "    fig, axes = plt.subplots(1,4,figsize=(20,5))\n",
    "    n = pca.n_components_\n",
    "    grid = np.arange(1, n + 1)\n",
    "    # Explained variance\n",
    "    my_cmap = plt.get_cmap(\"Blues\")\n",
    "    rescale = lambda y: y / np.max(y)\n",
    "    evr = pca.explained_variance_ratio_\n",
    "    axes[0].bar(grid, evr, edgecolor=\"black\",color=my_cmap(rescale(evr)))\n",
    "    axes[0].set(\n",
    "        xlabel=\"Principal Component\", title=\"% Explained Variance\", ylim=(0.0, 1.0)\n",
    "    )\n",
    "    # Cumulative Variance\n",
    "    cv = np.cumsum(evr)\n",
    "    axes[1].plot(np.r_[0, grid], np.r_[0, cv], \"o-\", linewidth=2,color=\"black\")\n",
    "    axes[1].set(\n",
    "        xlabel=\"Principal Component\", title=\"% Cumulative Variance\", ylim=(0.0, 1.0)\n",
    "    )\n",
    "    \n",
    "    # Heatmap\n",
    "    sns.heatmap(loadings,vmin=-1,vmax=1,annot=True,fmt=\".2f\",square=True,\n",
    "                linecolor=\"black\",linewidth=1,cmap=\"coolwarm_r\",\n",
    "                yticklabels=[var.replace(\"_\",\" \").title() for var in loadings.index],cbar_kws={\"ticks\":[-1,-0.5,0,0.5,1]},ax=axes[2])\n",
    "    plt.yticks(rotation=0)\n",
    "    # PC1 and PC2\n",
    "    axes[3].scatter(loadings.iloc[:,0],loadings.iloc[:,1],color=\"black\",s=75)\n",
    "    axes[3].set_xlabel(\"1st Principal Component\")\n",
    "    axes[3].set_xlim([-1,1])\n",
    "    axes[3].set_xticks([-1,-0.5,0,0.5,1])\n",
    "    axes[3].set_ylabel(\"2nd Principal Component\")\n",
    "    axes[3].set_ylim([-1,1])\n",
    "    axes[3].set_yticks([-1,-0.5,0,0.5,1])\n",
    "    axes[3].spines['right'].set_position(('data', 0))\n",
    "    axes[3].spines['top'].set_position(('data', 0))\n",
    "    for loc in [\"bottom\",\"left\"]:\n",
    "        axes[3].spines[loc].set_visible(False)\n",
    "    \n",
    "    for ax in [axes[0],axes[1]]:\n",
    "        for loc in [\"top\",\"right\"]:\n",
    "            ax.spines[loc].set_visible(False)\n",
    "            \n",
    "    plt.subplots_adjust(wspace=0.4)\n",
    "    plt.show()\n",
    "    plt.close()"
   ]
  },
  {
   "cell_type": "markdown",
   "metadata": {},
   "source": [
    "### PCA: IEQ + Fitbit Dataset"
   ]
  },
  {
   "cell_type": "code",
   "execution_count": 257,
   "metadata": {},
   "outputs": [
    {
     "data": {
      "image/png": "[encoded data removed]",
      "text/plain": [
       "<Figure size 1440x360 with 5 Axes>"
      ]
     },
     "metadata": {
      "needs_background": "light"
     },
     "output_type": "display_data"
    }
   ],
   "source": [
    "# getting data\n",
    "feature_labels = [\"tvoc_median\",\"co_median\",\"co2_median\",\"pm2p5_mass_median\",\"temperature_c_median\",\"rh_median\"]\n",
    "X = features_for_pca(ieq_and_fb.dropna(), feature_labels=feature_labels, scale=True)\n",
    "# running pca\n",
    "loadings_ieq_fb, pca_ieq_fb = run_pca(X)\n",
    "# displaying results\n",
    "visualize_pca(loadings_ieq_fb,pca_ieq_fb)"
   ]
  },
  {
   "cell_type": "markdown",
   "metadata": {},
   "source": [
    "<div class=\"alert alert-block alert-info\">\n",
    " \n",
    "PCA tells us that a considerably amount of the variability is explained by the CO$_2$, RH, and CO measurements. The second PC looks to be dominated by the two measurements that are absent from the first PC which are PM$_{2.5}$ and T. \n",
    "    \n",
    "It would be interesting to see if we clustered the data into two groups, would the groups be defined by the strongest loadings in the first two PCs? \n",
    "    \n",
    "</div>"
   ]
  },
  {
   "cell_type": "markdown",
   "metadata": {},
   "source": [
    "### PCA: IEQ + Beiwe Dataset"
   ]
  },
  {
   "cell_type": "code",
   "execution_count": 258,
   "metadata": {},
   "outputs": [
    {
     "data": {
      "image/png": "[encoded data removed]",
      "text/plain": [
       "<Figure size 1440x360 with 5 Axes>"
      ]
     },
     "metadata": {
      "needs_background": "light"
     },
     "output_type": "display_data"
    }
   ],
   "source": [
    "# getting data\n",
    "feature_labels = [\"tvoc_median\",\"co_median\",\"co2_median\",\"pm2p5_mass_median\",\"temperature_c_median\",\"rh_median\"]\n",
    "X = features_for_pca(ieq_and_bw.dropna(), feature_labels=feature_labels, scale=True)\n",
    "# running pca\n",
    "loadings_ieq_bw, pca_ieq_bw = run_pca(X)\n",
    "# displaying results\n",
    "visualize_pca(loadings_ieq_bw,pca_ieq_bw)"
   ]
  },
  {
   "cell_type": "markdown",
   "metadata": {},
   "source": [
    "<div class=\"alert alert-block alert-info\">\n",
    " \n",
    "PCA on this dataset tells us nearly the same story as above with a major caveat in the second PC. The temperature loading was positive and nearly 1 while in this analysis, the loading is negative and nearly -1. \n",
    "    \n",
    "Clustering analysis might not prove to be as apparent as in the previous analysis, however would still be interesting. Even more interesting would be to see how these loadings compare to those in the previous dataset.\n",
    "    \n",
    "</div>"
   ]
  },
  {
   "cell_type": "markdown",
   "metadata": {},
   "source": [
    "### Comparing PCA\n",
    "The target variables are both sleep related but based on two very different types of measurement. Looking at the loadings, there appear to be some similarities and differences that warrant further investigation."
   ]
  },
  {
   "cell_type": "code",
   "execution_count": 285,
   "metadata": {},
   "outputs": [],
   "source": [
    "def compare_loadings(loadings1, loadings2, n_components=6):\n",
    "    \"\"\"scatters loadings from the specified number of PCs\"\"\"\n",
    "    fig, axes = plt.subplots(1,n_components,figsize=(4*n_components,4),sharey=True)\n",
    "    for i, ax in enumerate(axes.flat):\n",
    "        sns.regplot(loadings1.iloc[:,i],loadings2.iloc[:,i],ci=68,ax=ax)\n",
    "        ax.set_xlim([-1,1])\n",
    "        ax.set_xlabel(\"\")\n",
    "        ax.set_ylim([-1,1])\n",
    "        ax.set_ylabel(\"\")\n",
    "        r = np.corrcoef(loadings1.iloc[:,i],loadings2.iloc[:,i])\n",
    "        ax.set_title(f\"PC{i+1} r$^2$: {round(r[1,0],2)}\",fontsize=14)\n",
    "        for loc in [\"top\",\"right\"]:\n",
    "            ax.spines[loc].set_visible(False)\n",
    "        \n",
    "    ax.set_yticks([-1,-0.5,0,0.5,1])\n",
    "    plt.show()\n",
    "    plt.close()"
   ]
  },
  {
   "cell_type": "code",
   "execution_count": 286,
   "metadata": {},
   "outputs": [
    {
     "data": {
      "image/png": "[encoded data removed]",
      "text/plain": [
       "<Figure size 1728x288 with 6 Axes>"
      ]
     },
     "metadata": {
      "needs_background": "light"
     },
     "output_type": "display_data"
    }
   ],
   "source": [
    "compare_loadings(loadings_ieq_fb,loadings_ieq_bw)"
   ]
  },
  {
   "cell_type": "markdown",
   "metadata": {},
   "source": [
    "<div class=\"alert alert-block alert-success\">\n",
    " \n",
    "The PC loadings from the previous analyses have excellent agreement barring PC2 which has good, but _negative_ correlation. This PC, in both analyses, is dominated by temperature so perhaps temperature shows opposing outcomes in our target variables. \n",
    "    \n",
    "</div>"
   ]
  },
  {
   "cell_type": "markdown",
   "metadata": {},
   "source": [
    "## IEQ Clustering\n",
    "It would be interesting to see if there are any clusters that arise from the data by looking at the median concentrations of our key IEQ parameters for both datasets."
   ]
  },
  {
   "cell_type": "code",
   "execution_count": 298,
   "metadata": {},
   "outputs": [],
   "source": [
    "from sklearn.cluster import KMeans"
   ]
  },
  {
   "cell_type": "markdown",
   "metadata": {},
   "source": [
    "### Important Functions\n",
    "Like before, some important functions are defined below to help with the analysis."
   ]
  },
  {
   "cell_type": "code",
   "execution_count": 302,
   "metadata": {},
   "outputs": [],
   "source": [
    "def get_and_scale_features(df,features,scale=True):\n",
    "    \"\"\"gets the features from the df that have a specified aggregate\"\"\"\n",
    "    X = df[features]\n",
    "    X.dropna(inplace=True)\n",
    "    if scale:\n",
    "        return (X-X.min())/(X.max()-X.min())\n",
    "    \n",
    "    return X"
   ]
  },
  {
   "cell_type": "code",
   "execution_count": 303,
   "metadata": {},
   "outputs": [],
   "source": [
    "def elbow(X):\n",
    "    \"\"\"plot of sum of squared differences for different ks for elbow method\"\"\"\n",
    "    # getting sum of squared distance for different k\n",
    "    errors = []\n",
    "    for k in range(2,11,1):\n",
    "        model = KMeans(n_clusters=k)\n",
    "        model.fit(X)\n",
    "        errors.append(model.inertia_)\n",
    "\n",
    "    # plotting\n",
    "    fig, ax = plt.subplots(figsize=(5,5))\n",
    "    ax.plot(range(2,11,1),errors,linewidth=2,color=\"cornflowerblue\")\n",
    "    ## x-axis\n",
    "    ax.set_xlabel(\"Number of Clusters\",fontsize=16)\n",
    "    plt.xticks(fontsize=14)\n",
    "    ## y-axis\n",
    "    ax.set_ylabel(\"Sum of Squared Distance\",fontsize=16)\n",
    "    plt.yticks(fontsize=14)\n",
    "    ## remainder\n",
    "    for loc in [\"top\",\"right\"]:\n",
    "        ax.spines[loc].set_visible(False)\n",
    "\n",
    "    plt.show()\n",
    "    plt.close()"
   ]
  },
  {
   "cell_type": "code",
   "execution_count": 304,
   "metadata": {},
   "outputs": [],
   "source": [
    "def create_model(X, k=3):\n",
    "    kmeans = KMeans(n_clusters=k)\n",
    "    cluster = kmeans.fit(X)\n",
    "    for c in range(k):\n",
    "        n_points = len(cluster.labels_[cluster.labels_ == c])\n",
    "        print(f\"Number of points in Cluster {c}: {n_points}\")\n",
    "        \n",
    "    X[\"cluster\"] = cluster.labels_\n",
    "    return X"
   ]
  },
  {
   "cell_type": "code",
   "execution_count": 317,
   "metadata": {
    "scrolled": true
   },
   "outputs": [],
   "source": [
    "def plot_distributions(X):\n",
    "    \"\"\"plots the distributions from the clusters\"\"\"\n",
    "    for var in X.columns:\n",
    "        if var not in [\"cluster\"]:\n",
    "            fig, ax = plt.subplots(figsize=(12,3))\n",
    "            for c in X_norm[\"cluster\"].unique():\n",
    "                to_plot = X[X[\"cluster\"] == c]\n",
    "                sns.kdeplot(to_plot[var],ax=ax,label=c)\n",
    "            # improving graph\n",
    "            for loc in [\"left\",\"top\",\"right\"]:\n",
    "                ax.spines[loc].set_visible(False)\n",
    "            ax.set_xlabel(\"Normalized \" + visualize.get_pollutant_label(var.split(\"_median\")[0]))\n",
    "            ax.set_yticks([])\n",
    "            ax.set_ylabel(\"\")\n",
    "            ax.legend(title=\"Cluster\",frameon=False,title_fontsize=12,fontsize=10)\n",
    "\n",
    "            plt.show()\n",
    "            plt.close()"
   ]
  },
  {
   "cell_type": "markdown",
   "metadata": {},
   "source": [
    "### Clustering: IEQ + FB"
   ]
  },
  {
   "cell_type": "code",
   "execution_count": 330,
   "metadata": {
    "scrolled": true
   },
   "outputs": [
    {
     "data": {
      "image/png": "[encoded data removed]",
      "text/plain": [
       "<Figure size 360x360 with 1 Axes>"
      ]
     },
     "metadata": {
      "needs_background": "light"
     },
     "output_type": "display_data"
    },
    {
     "name": "stdout",
     "output_type": "stream",
     "text": [
      "Number of points in Cluster 0: 243\n",
      "Number of points in Cluster 1: 24\n"
     ]
    },
    {
     "data": {
      "image/png": "[encoded data removed]",
      "text/plain": [
       "<Figure size 864x216 with 1 Axes>"
      ]
     },
     "metadata": {
      "needs_background": "light"
     },
     "output_type": "display_data"
    },
    {
     "data": {
      "image/png": "[encoded data removed]",
      "text/plain": [
       "<Figure size 864x216 with 1 Axes>"
      ]
     },
     "metadata": {
      "needs_background": "light"
     },
     "output_type": "display_data"
    },
    {
     "data": {
      "image/png": "[encoded data removed]",
      "text/plain": [
       "<Figure size 864x216 with 1 Axes>"
      ]
     },
     "metadata": {
      "needs_background": "light"
     },
     "output_type": "display_data"
    },
    {
     "data": {
      "image/png": "[encoded data removed]",
      "text/plain": [
       "<Figure size 864x216 with 1 Axes>"
      ]
     },
     "metadata": {
      "needs_background": "light"
     },
     "output_type": "display_data"
    },
    {
     "data": {
      "image/png": "[encoded data removed]",
      "text/plain": [
       "<Figure size 864x216 with 1 Axes>"
      ]
     },
     "metadata": {
      "needs_background": "light"
     },
     "output_type": "display_data"
    },
    {
     "data": {
      "image/png": "[encoded data removed]",
      "text/plain": [
       "<Figure size 864x216 with 1 Axes>"
      ]
     },
     "metadata": {
      "needs_background": "light"
     },
     "output_type": "display_data"
    }
   ],
   "source": [
    "features = [column for column in ieq_and_fb.columns if column.endswith(\"median\")]\n",
    "X_norm = get_and_scale_features(ieq_and_fb, features)\n",
    "elbow(X_norm)\n",
    "X = create_model(X_norm,k=2)\n",
    "plot_distributions(X)"
   ]
  },
  {
   "cell_type": "markdown",
   "metadata": {},
   "source": [
    "<div class=\"alert alert-block alert-info\">\n",
    " \n",
    "The clusters seem to be sensitive to the CO concentration primarily and are not evenly split.\n",
    "    \n",
    "</div>"
   ]
  },
  {
   "cell_type": "markdown",
   "metadata": {},
   "source": [
    "### Clustering: IEQ + BW"
   ]
  },
  {
   "cell_type": "code",
   "execution_count": 319,
   "metadata": {
    "scrolled": true
   },
   "outputs": [
    {
     "data": {
      "image/png": "[encoded data removed]",
      "text/plain": [
       "<Figure size 360x360 with 1 Axes>"
      ]
     },
     "metadata": {
      "needs_background": "light"
     },
     "output_type": "display_data"
    },
    {
     "name": "stdout",
     "output_type": "stream",
     "text": [
      "Number of points in Cluster 0: 93\n",
      "Number of points in Cluster 1: 91\n"
     ]
    },
    {
     "data": {
      "image/png": "[encoded data removed]",
      "text/plain": [
       "<Figure size 864x216 with 1 Axes>"
      ]
     },
     "metadata": {
      "needs_background": "light"
     },
     "output_type": "display_data"
    },
    {
     "data": {
      "image/png": "[encoded data removed]",
      "text/plain": [
       "<Figure size 864x216 with 1 Axes>"
      ]
     },
     "metadata": {
      "needs_background": "light"
     },
     "output_type": "display_data"
    },
    {
     "data": {
      "image/png": "[encoded data removed]",
      "text/plain": [
       "<Figure size 864x216 with 1 Axes>"
      ]
     },
     "metadata": {
      "needs_background": "light"
     },
     "output_type": "display_data"
    },
    {
     "data": {
      "image/png": "[encoded data removed]",
      "text/plain": [
       "<Figure size 864x216 with 1 Axes>"
      ]
     },
     "metadata": {
      "needs_background": "light"
     },
     "output_type": "display_data"
    },
    {
     "data": {
      "image/png": "[encoded data removed]",
      "text/plain": [
       "<Figure size 864x216 with 1 Axes>"
      ]
     },
     "metadata": {
      "needs_background": "light"
     },
     "output_type": "display_data"
    },
    {
     "data": {
      "image/png": "[encoded data removed]",
      "text/plain": [
       "<Figure size 864x216 with 1 Axes>"
      ]
     },
     "metadata": {
      "needs_background": "light"
     },
     "output_type": "display_data"
    }
   ],
   "source": [
    "features = [column for column in ieq_and_bw.columns if column.endswith(\"median\")]\n",
    "X_norm = get_and_scale_features(ieq_and_bw, features)\n",
    "elbow(X_norm)\n",
    "X = create_model(X_norm,k=2)\n",
    "plot_distributions(X)"
   ]
  },
  {
   "cell_type": "markdown",
   "metadata": {},
   "source": [
    "<div class=\"alert alert-block alert-info\">\n",
    " \n",
    "These clusters seem to be dictated by the `co2` and `temperature_c`.\n",
    "    \n",
    "</div>"
   ]
  },
  {
   "cell_type": "markdown",
   "metadata": {},
   "source": [
    "<a id=\"prediction\"></a>"
   ]
  },
  {
   "cell_type": "markdown",
   "metadata": {},
   "source": [
    "# Prediction\n",
    "Now that we have sufficiently explored the features, we can begin to try predicting various components of sleep quality. The process will involve an iterative approach where we build a model with one feature, tune the model to get the best accuracy, and then incorporate another feature, re-tune the model, and see if this feature improves the accuracy of the model. We will continue in this way until we arrive at the most accurate model for sleep prediction.\n",
    "\n",
    "The features that seem the most relevant are listed below _in order of importance_ based on the previous analysis:\n",
    "1. CO$_2$: `co2` had the largest loading in both PC1s from the IEQ + Fitbit and IEQ + Beiwe datasets. Additionally, we can trust the measurements from these sensors more since they have been vetted and well-calibrated.\n",
    "2. RH: While `rh` had the third highest loadings in both PC1s, the measurement from these sensors is more reliable than `co` and seems to have a large effect on the clustering analysis for the IEQ + Fitbit dataset.\n",
    "3. CO: `co` had the second highest loadings in both PC1s and a large influence on the clusters in the IEQ + Fitbit dataset. This variable is not higher on the list because measurements from these sensors seem less reliable.\n",
    "4. Temperature: `temperature_c` had zero influence on PC1, but was highly important in PC2 and had equal influence on the clusters for both datasets.\n",
    "5. TVOCs: `tvoc` had somewhat relevant and similar loadings in PC1 for both datasets, but nearly no influence on the clusters for these datasets. Additionally, the measurements from these sensors are suspect which places this variable closer to the bottom.\n",
    "6. PM$_{2.5}$: The final IEQ variable to consider. The measured values from this sensors do not vary by much, had small loadings in PC1, and did not seem to influence the clustering analysis at all. Quite frankly, this variable might be better left outside of the analysis."
   ]
  },
  {
   "cell_type": "markdown",
   "metadata": {},
   "source": [
    "# Predicting Restfulness from IEQ\n",
    "We start with trying to predict `restfulness` by only considering the IEQ data from the BEVO Beacon."
   ]
  },
  {
   "cell_type": "markdown",
   "metadata": {},
   "source": [
    "## Creating the Dataset\n",
    "We start by merging the Fitbit and GPS filtered IEQ data with the EMA data from Beiwe"
   ]
  },
  {
   "cell_type": "code",
   "execution_count": 23,
   "metadata": {},
   "outputs": [
    {
     "data": {
      "text/html": [
       "<div>\n",
       "<style scoped>\n",
       "    .dataframe tbody tr th:only-of-type {\n",
       "        vertical-align: middle;\n",
       "    }\n",
       "\n",
       "    .dataframe tbody tr th {\n",
       "        vertical-align: top;\n",
       "    }\n",
       "\n",
       "    .dataframe thead th {\n",
       "        text-align: right;\n",
       "    }\n",
       "</style>\n",
       "<table border=\"1\" class=\"dataframe\">\n",
       "  <thead>\n",
       "    <tr style=\"text-align: right;\">\n",
       "      <th></th>\n",
       "      <th>start_time</th>\n",
       "      <th>end_time</th>\n",
       "      <th>beacon</th>\n",
       "      <th>beiwe</th>\n",
       "      <th>fitbit</th>\n",
       "      <th>redcap</th>\n",
       "      <th>tvoc_median</th>\n",
       "      <th>co_median</th>\n",
       "      <th>co2_median</th>\n",
       "      <th>pm2p5_number_median</th>\n",
       "      <th>pm2p5_mass_median</th>\n",
       "      <th>temperature_c_median</th>\n",
       "      <th>rh_median</th>\n",
       "      <th>tvoc_delta</th>\n",
       "      <th>co_delta</th>\n",
       "      <th>co2_delta</th>\n",
       "      <th>pm2p5_number_delta</th>\n",
       "      <th>pm2p5_mass_delta</th>\n",
       "      <th>temperature_c_delta</th>\n",
       "      <th>rh_delta</th>\n",
       "      <th>date</th>\n",
       "      <th>timestamp</th>\n",
       "      <th>content</th>\n",
       "      <th>stress</th>\n",
       "      <th>lonely</th>\n",
       "      <th>sad</th>\n",
       "      <th>energy</th>\n",
       "      <th>tst</th>\n",
       "      <th>sol</th>\n",
       "      <th>naw</th>\n",
       "      <th>restful</th>\n",
       "      <th>restful_binary</th>\n",
       "    </tr>\n",
       "  </thead>\n",
       "  <tbody>\n",
       "    <tr>\n",
       "      <th>0</th>\n",
       "      <td>2020-08-10 04:42:30</td>\n",
       "      <td>2020-08-10 12:35:30</td>\n",
       "      <td>21</td>\n",
       "      <td>lkkjddam</td>\n",
       "      <td>25</td>\n",
       "      <td>12</td>\n",
       "      <td>126.658333</td>\n",
       "      <td>10.359917</td>\n",
       "      <td>1600.754959</td>\n",
       "      <td>0.914249</td>\n",
       "      <td>0.895571</td>\n",
       "      <td>23.337500</td>\n",
       "      <td>33.0</td>\n",
       "      <td>91.900000</td>\n",
       "      <td>0.731650</td>\n",
       "      <td>304.035761</td>\n",
       "      <td>1.960803</td>\n",
       "      <td>0.620298</td>\n",
       "      <td>1.000</td>\n",
       "      <td>0.950000</td>\n",
       "      <td>2020-08-10</td>\n",
       "      <td>2020-08-10 12:56:38</td>\n",
       "      <td>1</td>\n",
       "      <td>2.0</td>\n",
       "      <td>0.0</td>\n",
       "      <td>0.0</td>\n",
       "      <td>2.0</td>\n",
       "      <td>6.0</td>\n",
       "      <td>15.0</td>\n",
       "      <td>5.0</td>\n",
       "      <td>0.0</td>\n",
       "      <td>0</td>\n",
       "    </tr>\n",
       "    <tr>\n",
       "      <th>1</th>\n",
       "      <td>2020-08-12 02:59:30</td>\n",
       "      <td>2020-08-12 10:52:30</td>\n",
       "      <td>21</td>\n",
       "      <td>lkkjddam</td>\n",
       "      <td>25</td>\n",
       "      <td>12</td>\n",
       "      <td>252.016667</td>\n",
       "      <td>10.271850</td>\n",
       "      <td>1596.122408</td>\n",
       "      <td>2.879650</td>\n",
       "      <td>0.939256</td>\n",
       "      <td>24.000000</td>\n",
       "      <td>33.0</td>\n",
       "      <td>108.600000</td>\n",
       "      <td>0.512533</td>\n",
       "      <td>146.009840</td>\n",
       "      <td>5.472740</td>\n",
       "      <td>0.702017</td>\n",
       "      <td>0.000</td>\n",
       "      <td>1.500000</td>\n",
       "      <td>2020-08-12</td>\n",
       "      <td>2020-08-12 11:11:42</td>\n",
       "      <td>2</td>\n",
       "      <td>3.0</td>\n",
       "      <td>0.0</td>\n",
       "      <td>0.0</td>\n",
       "      <td>2.0</td>\n",
       "      <td>8.0</td>\n",
       "      <td>10.0</td>\n",
       "      <td>3.0</td>\n",
       "      <td>2.0</td>\n",
       "      <td>1</td>\n",
       "    </tr>\n",
       "    <tr>\n",
       "      <th>2</th>\n",
       "      <td>2020-08-14 03:05:00</td>\n",
       "      <td>2020-08-14 11:23:30</td>\n",
       "      <td>21</td>\n",
       "      <td>lkkjddam</td>\n",
       "      <td>25</td>\n",
       "      <td>12</td>\n",
       "      <td>223.700000</td>\n",
       "      <td>7.232700</td>\n",
       "      <td>1301.449844</td>\n",
       "      <td>1.232406</td>\n",
       "      <td>0.886675</td>\n",
       "      <td>25.000000</td>\n",
       "      <td>33.0</td>\n",
       "      <td>81.800000</td>\n",
       "      <td>5.108383</td>\n",
       "      <td>233.372161</td>\n",
       "      <td>3.742991</td>\n",
       "      <td>0.736714</td>\n",
       "      <td>1.175</td>\n",
       "      <td>1.250000</td>\n",
       "      <td>2020-08-14</td>\n",
       "      <td>2020-08-14 15:02:44</td>\n",
       "      <td>2</td>\n",
       "      <td>3.0</td>\n",
       "      <td>1.0</td>\n",
       "      <td>2.0</td>\n",
       "      <td>3.0</td>\n",
       "      <td>8.0</td>\n",
       "      <td>10.0</td>\n",
       "      <td>3.0</td>\n",
       "      <td>3.0</td>\n",
       "      <td>1</td>\n",
       "    </tr>\n",
       "    <tr>\n",
       "      <th>3</th>\n",
       "      <td>2020-08-16 04:21:30</td>\n",
       "      <td>2020-08-16 11:53:00</td>\n",
       "      <td>21</td>\n",
       "      <td>lkkjddam</td>\n",
       "      <td>25</td>\n",
       "      <td>12</td>\n",
       "      <td>268.650000</td>\n",
       "      <td>10.486333</td>\n",
       "      <td>1319.535880</td>\n",
       "      <td>1.256692</td>\n",
       "      <td>0.884277</td>\n",
       "      <td>24.000000</td>\n",
       "      <td>34.0</td>\n",
       "      <td>88.216667</td>\n",
       "      <td>0.312050</td>\n",
       "      <td>96.153213</td>\n",
       "      <td>3.655915</td>\n",
       "      <td>0.471061</td>\n",
       "      <td>0.500</td>\n",
       "      <td>0.583333</td>\n",
       "      <td>2020-08-16</td>\n",
       "      <td>2020-08-16 12:25:03</td>\n",
       "      <td>1</td>\n",
       "      <td>2.0</td>\n",
       "      <td>1.0</td>\n",
       "      <td>2.0</td>\n",
       "      <td>1.0</td>\n",
       "      <td>6.0</td>\n",
       "      <td>20.0</td>\n",
       "      <td>4.0</td>\n",
       "      <td>1.0</td>\n",
       "      <td>0</td>\n",
       "    </tr>\n",
       "    <tr>\n",
       "      <th>4</th>\n",
       "      <td>2020-08-17 03:00:00</td>\n",
       "      <td>2020-08-17 11:30:30</td>\n",
       "      <td>21</td>\n",
       "      <td>lkkjddam</td>\n",
       "      <td>25</td>\n",
       "      <td>12</td>\n",
       "      <td>327.166667</td>\n",
       "      <td>11.025200</td>\n",
       "      <td>1412.926806</td>\n",
       "      <td>2.952962</td>\n",
       "      <td>1.113030</td>\n",
       "      <td>23.333333</td>\n",
       "      <td>33.0</td>\n",
       "      <td>249.066667</td>\n",
       "      <td>0.819100</td>\n",
       "      <td>331.097623</td>\n",
       "      <td>7.407653</td>\n",
       "      <td>1.358703</td>\n",
       "      <td>1.750</td>\n",
       "      <td>1.500000</td>\n",
       "      <td>2020-08-17</td>\n",
       "      <td>2020-08-17 11:41:47</td>\n",
       "      <td>1</td>\n",
       "      <td>2.0</td>\n",
       "      <td>1.0</td>\n",
       "      <td>1.0</td>\n",
       "      <td>1.0</td>\n",
       "      <td>6.0</td>\n",
       "      <td>25.0</td>\n",
       "      <td>2.0</td>\n",
       "      <td>1.0</td>\n",
       "      <td>0</td>\n",
       "    </tr>\n",
       "  </tbody>\n",
       "</table>\n",
       "</div>"
      ],
      "text/plain": [
       "           start_time            end_time  beacon     beiwe  fitbit  redcap  \\\n",
       "0 2020-08-10 04:42:30 2020-08-10 12:35:30      21  lkkjddam      25      12   \n",
       "1 2020-08-12 02:59:30 2020-08-12 10:52:30      21  lkkjddam      25      12   \n",
       "2 2020-08-14 03:05:00 2020-08-14 11:23:30      21  lkkjddam      25      12   \n",
       "3 2020-08-16 04:21:30 2020-08-16 11:53:00      21  lkkjddam      25      12   \n",
       "4 2020-08-17 03:00:00 2020-08-17 11:30:30      21  lkkjddam      25      12   \n",
       "\n",
       "   tvoc_median  co_median   co2_median  pm2p5_number_median  \\\n",
       "0   126.658333  10.359917  1600.754959             0.914249   \n",
       "1   252.016667  10.271850  1596.122408             2.879650   \n",
       "2   223.700000   7.232700  1301.449844             1.232406   \n",
       "3   268.650000  10.486333  1319.535880             1.256692   \n",
       "4   327.166667  11.025200  1412.926806             2.952962   \n",
       "\n",
       "   pm2p5_mass_median  temperature_c_median  rh_median  tvoc_delta  co_delta  \\\n",
       "0           0.895571             23.337500       33.0   91.900000  0.731650   \n",
       "1           0.939256             24.000000       33.0  108.600000  0.512533   \n",
       "2           0.886675             25.000000       33.0   81.800000  5.108383   \n",
       "3           0.884277             24.000000       34.0   88.216667  0.312050   \n",
       "4           1.113030             23.333333       33.0  249.066667  0.819100   \n",
       "\n",
       "    co2_delta  pm2p5_number_delta  pm2p5_mass_delta  temperature_c_delta  \\\n",
       "0  304.035761            1.960803          0.620298                1.000   \n",
       "1  146.009840            5.472740          0.702017                0.000   \n",
       "2  233.372161            3.742991          0.736714                1.175   \n",
       "3   96.153213            3.655915          0.471061                0.500   \n",
       "4  331.097623            7.407653          1.358703                1.750   \n",
       "\n",
       "   rh_delta       date           timestamp content  stress  lonely  sad  \\\n",
       "0  0.950000 2020-08-10 2020-08-10 12:56:38       1     2.0     0.0  0.0   \n",
       "1  1.500000 2020-08-12 2020-08-12 11:11:42       2     3.0     0.0  0.0   \n",
       "2  1.250000 2020-08-14 2020-08-14 15:02:44       2     3.0     1.0  2.0   \n",
       "3  0.583333 2020-08-16 2020-08-16 12:25:03       1     2.0     1.0  2.0   \n",
       "4  1.500000 2020-08-17 2020-08-17 11:41:47       1     2.0     1.0  1.0   \n",
       "\n",
       "   energy  tst   sol  naw  restful  restful_binary  \n",
       "0     2.0  6.0  15.0  5.0      0.0               0  \n",
       "1     2.0  8.0  10.0  3.0      2.0               1  \n",
       "2     3.0  8.0  10.0  3.0      3.0               1  \n",
       "3     1.0  6.0  20.0  4.0      1.0               0  \n",
       "4     1.0  6.0  25.0  2.0      1.0               0  "
      ]
     },
     "execution_count": 23,
     "metadata": {},
     "output_type": "execute_result"
    }
   ],
   "source": [
    "bw_sleep_and_ieq = ieq.merge(right=bw_sleep,on=[\"beiwe\",\"beacon\",\"redcap\",\"date\"])\n",
    "bw_sleep_and_ieq[\"restful_binary\"] = [1 if score > 1 else 0 for score in bw_sleep_and_ieq[\"restful\"]]\n",
    "bw_sleep_and_ieq.drop([\"no2_median\",\"no2_delta\",\"lux_median\",\"lux_delta\"],axis=\"columns\",inplace=True)\n",
    "bw_sleep_and_ieq.dropna(inplace=True)\n",
    "bw_sleep_and_ieq.head()"
   ]
  },
  {
   "cell_type": "code",
   "execution_count": 24,
   "metadata": {},
   "outputs": [
    {
     "name": "stdout",
     "output_type": "stream",
     "text": [
      "Number of observations: 182\n"
     ]
    }
   ],
   "source": [
    "print(\"Number of observations:\", len(bw_sleep_and_ieq))"
   ]
  },
  {
   "cell_type": "code",
   "execution_count": 25,
   "metadata": {},
   "outputs": [
    {
     "name": "stdout",
     "output_type": "stream",
     "text": [
      "Number of `Positive` restfulness scores: 156\n",
      "Number of `Negative` restfulness scores: 26\n"
     ]
    }
   ],
   "source": [
    "print(\"Number of `Positive` restfulness scores:\", len(bw_sleep_and_ieq[bw_sleep_and_ieq[\"restful_binary\"] == 1]))\n",
    "print(\"Number of `Negative` restfulness scores:\", len(bw_sleep_and_ieq[bw_sleep_and_ieq[\"restful_binary\"] == 0]))"
   ]
  },
  {
   "cell_type": "markdown",
   "metadata": {},
   "source": [
    "## Defining Features and Targets\n",
    "The feature set will include all possible `median` and `delta` measurements for the pollutants while the target value will simply by the `restfulness` score."
   ]
  },
  {
   "cell_type": "code",
   "execution_count": 26,
   "metadata": {},
   "outputs": [
    {
     "data": {
      "text/html": [
       "<div>\n",
       "<style scoped>\n",
       "    .dataframe tbody tr th:only-of-type {\n",
       "        vertical-align: middle;\n",
       "    }\n",
       "\n",
       "    .dataframe tbody tr th {\n",
       "        vertical-align: top;\n",
       "    }\n",
       "\n",
       "    .dataframe thead th {\n",
       "        text-align: right;\n",
       "    }\n",
       "</style>\n",
       "<table border=\"1\" class=\"dataframe\">\n",
       "  <thead>\n",
       "    <tr style=\"text-align: right;\">\n",
       "      <th></th>\n",
       "      <th>tvoc_median</th>\n",
       "      <th>co_median</th>\n",
       "      <th>co2_median</th>\n",
       "      <th>pm2p5_number_median</th>\n",
       "      <th>pm2p5_mass_median</th>\n",
       "      <th>temperature_c_median</th>\n",
       "      <th>rh_median</th>\n",
       "    </tr>\n",
       "  </thead>\n",
       "  <tbody>\n",
       "    <tr>\n",
       "      <th>0</th>\n",
       "      <td>126.658333</td>\n",
       "      <td>10.359917</td>\n",
       "      <td>1600.754959</td>\n",
       "      <td>0.914249</td>\n",
       "      <td>0.895571</td>\n",
       "      <td>23.337500</td>\n",
       "      <td>33.0</td>\n",
       "    </tr>\n",
       "    <tr>\n",
       "      <th>1</th>\n",
       "      <td>252.016667</td>\n",
       "      <td>10.271850</td>\n",
       "      <td>1596.122408</td>\n",
       "      <td>2.879650</td>\n",
       "      <td>0.939256</td>\n",
       "      <td>24.000000</td>\n",
       "      <td>33.0</td>\n",
       "    </tr>\n",
       "    <tr>\n",
       "      <th>2</th>\n",
       "      <td>223.700000</td>\n",
       "      <td>7.232700</td>\n",
       "      <td>1301.449844</td>\n",
       "      <td>1.232406</td>\n",
       "      <td>0.886675</td>\n",
       "      <td>25.000000</td>\n",
       "      <td>33.0</td>\n",
       "    </tr>\n",
       "    <tr>\n",
       "      <th>3</th>\n",
       "      <td>268.650000</td>\n",
       "      <td>10.486333</td>\n",
       "      <td>1319.535880</td>\n",
       "      <td>1.256692</td>\n",
       "      <td>0.884277</td>\n",
       "      <td>24.000000</td>\n",
       "      <td>34.0</td>\n",
       "    </tr>\n",
       "    <tr>\n",
       "      <th>4</th>\n",
       "      <td>327.166667</td>\n",
       "      <td>11.025200</td>\n",
       "      <td>1412.926806</td>\n",
       "      <td>2.952962</td>\n",
       "      <td>1.113030</td>\n",
       "      <td>23.333333</td>\n",
       "      <td>33.0</td>\n",
       "    </tr>\n",
       "  </tbody>\n",
       "</table>\n",
       "</div>"
      ],
      "text/plain": [
       "   tvoc_median  co_median   co2_median  pm2p5_number_median  \\\n",
       "0   126.658333  10.359917  1600.754959             0.914249   \n",
       "1   252.016667  10.271850  1596.122408             2.879650   \n",
       "2   223.700000   7.232700  1301.449844             1.232406   \n",
       "3   268.650000  10.486333  1319.535880             1.256692   \n",
       "4   327.166667  11.025200  1412.926806             2.952962   \n",
       "\n",
       "   pm2p5_mass_median  temperature_c_median  rh_median  \n",
       "0           0.895571             23.337500       33.0  \n",
       "1           0.939256             24.000000       33.0  \n",
       "2           0.886675             25.000000       33.0  \n",
       "3           0.884277             24.000000       34.0  \n",
       "4           1.113030             23.333333       33.0  "
      ]
     },
     "execution_count": 26,
     "metadata": {},
     "output_type": "execute_result"
    }
   ],
   "source": [
    "features = bw_sleep_and_ieq[[column for column in bw_sleep_and_ieq.columns if column.endswith(\"median\")]]\n",
    "features.head()"
   ]
  },
  {
   "cell_type": "code",
   "execution_count": 27,
   "metadata": {},
   "outputs": [
    {
     "data": {
      "text/html": [
       "<div>\n",
       "<style scoped>\n",
       "    .dataframe tbody tr th:only-of-type {\n",
       "        vertical-align: middle;\n",
       "    }\n",
       "\n",
       "    .dataframe tbody tr th {\n",
       "        vertical-align: top;\n",
       "    }\n",
       "\n",
       "    .dataframe thead th {\n",
       "        text-align: right;\n",
       "    }\n",
       "</style>\n",
       "<table border=\"1\" class=\"dataframe\">\n",
       "  <thead>\n",
       "    <tr style=\"text-align: right;\">\n",
       "      <th></th>\n",
       "      <th>restful_binary</th>\n",
       "    </tr>\n",
       "  </thead>\n",
       "  <tbody>\n",
       "    <tr>\n",
       "      <th>0</th>\n",
       "      <td>0</td>\n",
       "    </tr>\n",
       "    <tr>\n",
       "      <th>1</th>\n",
       "      <td>1</td>\n",
       "    </tr>\n",
       "    <tr>\n",
       "      <th>2</th>\n",
       "      <td>1</td>\n",
       "    </tr>\n",
       "    <tr>\n",
       "      <th>3</th>\n",
       "      <td>0</td>\n",
       "    </tr>\n",
       "    <tr>\n",
       "      <th>4</th>\n",
       "      <td>0</td>\n",
       "    </tr>\n",
       "  </tbody>\n",
       "</table>\n",
       "</div>"
      ],
      "text/plain": [
       "   restful_binary\n",
       "0               0\n",
       "1               1\n",
       "2               1\n",
       "3               0\n",
       "4               0"
      ]
     },
     "execution_count": 27,
     "metadata": {},
     "output_type": "execute_result"
    }
   ],
   "source": [
    "target = bw_sleep_and_ieq[[\"restful_binary\"]]\n",
    "target.head()"
   ]
  },
  {
   "cell_type": "markdown",
   "metadata": {},
   "source": [
    "## Testing Different Models\n",
    "Using `GridSearchCV`, we can see which models perform best.\n",
    "\n",
    "The models we will test are:\n",
    "* Multi-Layer Perceptron Neural Network\n",
    "* Random Forest Classifier\n",
    "* K-Nearest Neighbots Classifier\n",
    "\n",
    "The associated models are imported below."
   ]
  },
  {
   "cell_type": "code",
   "execution_count": 28,
   "metadata": {},
   "outputs": [],
   "source": [
    "from sklearn.neural_network import MLPClassifier\n",
    "from sklearn.ensemble import RandomForestClassifier\n",
    "from sklearn.neighbors import KNeighborsClassifier"
   ]
  },
  {
   "cell_type": "markdown",
   "metadata": {},
   "source": [
    "### Definining the Models' Parameters to Test\n",
    "The following cell outlines the hyper-parameters that will be tested. The values have been tuned after a few iterations of `GridSearchCV`."
   ]
  },
  {
   "cell_type": "code",
   "execution_count": 29,
   "metadata": {},
   "outputs": [],
   "source": [
    "model_params = {\n",
    "    \"mlp\": {\n",
    "        \"model\":MLPClassifier(max_iter=10000,activation=\"logistic\",solver=\"sgd\"),\n",
    "        \"params\": {\n",
    "            \"hidden_layer_sizes\": [0,1,2,3,4],\n",
    "        }\n",
    "    },\n",
    "    \"random_forest\": {\n",
    "        \"model\":RandomForestClassifier(),\n",
    "        \"params\": {\n",
    "            \"n_estimators\":[15,20,25],\n",
    "            \"max_depth\":[2,3,4],\n",
    "        }\n",
    "    },\n",
    "    \"knn\": {\n",
    "        \"model\":KNeighborsClassifier(),\n",
    "        \"params\": {\n",
    "            \"n_neighbors\":[3,5,7],\n",
    "        }\n",
    "    }\n",
    "}"
   ]
  },
  {
   "cell_type": "markdown",
   "metadata": {},
   "source": [
    "### Splitting the Data\n",
    "The features and targets are split and stratified to preserve the proportion of `positive` and `negative` `restfulness` scores. This stratification seemed important since there are fewer `negative` scores relative to `positive`. "
   ]
  },
  {
   "cell_type": "code",
   "execution_count": 30,
   "metadata": {},
   "outputs": [],
   "source": [
    "from sklearn.model_selection import train_test_split, cross_val_score, cross_val_predict\n",
    "# getting training and testing data\n",
    "X_train, X_test, y_train, y_test = train_test_split(features, target, test_size=0.33, random_state=10, stratify=target)"
   ]
  },
  {
   "cell_type": "markdown",
   "metadata": {},
   "source": [
    "### Grid Search\n",
    "Now we run the `GridSearchCV` to understand how we can fine-tune some of the more imiportant parameters defined earlier."
   ]
  },
  {
   "cell_type": "code",
   "execution_count": 31,
   "metadata": {},
   "outputs": [
    {
     "data": {
      "text/html": [
       "<div>\n",
       "<style scoped>\n",
       "    .dataframe tbody tr th:only-of-type {\n",
       "        vertical-align: middle;\n",
       "    }\n",
       "\n",
       "    .dataframe tbody tr th {\n",
       "        vertical-align: top;\n",
       "    }\n",
       "\n",
       "    .dataframe thead th {\n",
       "        text-align: right;\n",
       "    }\n",
       "</style>\n",
       "<table border=\"1\" class=\"dataframe\">\n",
       "  <thead>\n",
       "    <tr style=\"text-align: right;\">\n",
       "      <th></th>\n",
       "      <th>model</th>\n",
       "      <th>best_score</th>\n",
       "      <th>best_params</th>\n",
       "    </tr>\n",
       "  </thead>\n",
       "  <tbody>\n",
       "    <tr>\n",
       "      <th>0</th>\n",
       "      <td>mlp</td>\n",
       "      <td>0.859667</td>\n",
       "      <td>{'hidden_layer_sizes': 1}</td>\n",
       "    </tr>\n",
       "    <tr>\n",
       "      <th>1</th>\n",
       "      <td>random_forest</td>\n",
       "      <td>0.851333</td>\n",
       "      <td>{'max_depth': 2, 'n_estimators': 25}</td>\n",
       "    </tr>\n",
       "    <tr>\n",
       "      <th>2</th>\n",
       "      <td>knn</td>\n",
       "      <td>0.851333</td>\n",
       "      <td>{'n_neighbors': 5}</td>\n",
       "    </tr>\n",
       "  </tbody>\n",
       "</table>\n",
       "</div>"
      ],
      "text/plain": [
       "           model  best_score                           best_params\n",
       "0            mlp    0.859667             {'hidden_layer_sizes': 1}\n",
       "1  random_forest    0.851333  {'max_depth': 2, 'n_estimators': 25}\n",
       "2            knn    0.851333                    {'n_neighbors': 5}"
      ]
     },
     "execution_count": 31,
     "metadata": {},
     "output_type": "execute_result"
    }
   ],
   "source": [
    "from sklearn.model_selection import GridSearchCV\n",
    "\n",
    "scores = []\n",
    "\n",
    "for model_name, mp in model_params.items():\n",
    "    clf = GridSearchCV(mp[\"model\"],mp[\"params\"],cv=5,return_train_score=False)\n",
    "    clf.fit(X_train,y_train)\n",
    "    scores.append({\n",
    "        \"model\":model_name,\n",
    "        \"best_score\":clf.best_score_,\n",
    "        \"best_params\":clf.best_params_\n",
    "    })\n",
    "    \n",
    "results = pd.DataFrame(scores,columns=[\"model\",\"best_score\",\"best_params\"])\n",
    "results"
   ]
  },
  {
   "cell_type": "markdown",
   "metadata": {},
   "source": [
    "<div class=\"alert alert-block alert-success\">\n",
    " \n",
    "While there were iterations where the random forest model performed better, the MLP NN was consistent with its results and therefore will be the model that we explore further.\n",
    "    \n",
    "</div>"
   ]
  },
  {
   "cell_type": "markdown",
   "metadata": {},
   "source": [
    "## Multilayer Perceptron NN Classifier\n",
    "Here we use a MLP classifier to understand how well we can predict the restfulness score from IEQ parameters experienced during the night. More on the MLP classifier can be found on SKlearn's documentation:\n",
    "* [General Discussion on MLP](https://scikit-learn.org/stable/modules/neural_networks_supervised.html)\n",
    "* [MLP Documentation](https://scikit-learn.org/stable/modules/generated/sklearn.neural_network.MLPClassifier.html#sklearn.neural_network.MLPClassifier)"
   ]
  },
  {
   "cell_type": "code",
   "execution_count": 32,
   "metadata": {},
   "outputs": [],
   "source": [
    "from sklearn import metrics"
   ]
  },
  {
   "cell_type": "code",
   "execution_count": 33,
   "metadata": {},
   "outputs": [],
   "source": [
    "class restful_mlp():\n",
    "    def __init__(self, features, target):\n",
    "        self.X = features\n",
    "        self.y = target\n",
    "        \n",
    "    def split_data(test_size=0.33):\n",
    "        pass\n",
    "        \n",
    "    def fit_model(self):\n",
    "        pass\n",
    "    \n",
    "    def confusion_matrix(self,y_true,y_pred):\n",
    "        \"\"\"plots confusion matrix\"\"\"\n",
    "        # get confusion matrix\n",
    "        cm = metrics.confusion_matrix(y_true,y_pred)\n",
    "        cm_df = pd.DataFrame(cm)\n",
    "        # plot confusion matrix as heatmap\n",
    "        fig, ax = plt.subplots(figsize=(5,4))\n",
    "        sns.heatmap(cm_df,annot=True,cmap=\"Blues\",ax=ax)\n",
    "        ax.set_xlabel(\"Predicted Label\",fontsize=16)\n",
    "        ax.set_xticklabels([\"Negative\",\"Positive\"],fontsize=14)\n",
    "        ax.set_ylabel(\"True Label\",fontsize=16)\n",
    "        ax.set_yticklabels([\"Negative\",\"Positive\"],fontsize=14)\n",
    "\n",
    "        plt.show()\n",
    "        plt.close()\n",
    "        "
   ]
  },
  {
   "cell_type": "markdown",
   "metadata": {},
   "source": [
    "### Fitting Model\n",
    "We fit the MLP and cross-validate."
   ]
  },
  {
   "cell_type": "code",
   "execution_count": 34,
   "metadata": {},
   "outputs": [
    {
     "name": "stdout",
     "output_type": "stream",
     "text": [
      "Model Score: 0.7697008915731952\n",
      "Cross Validation Scores:\n",
      "\t0.701972242512783\n",
      "\t0.8262133100842778\n",
      "\t0.7175925925925927\n",
      "\t0.738095238095238\n",
      "\t0.7306397306397306\n",
      "Average:0.7429026227849244\n"
     ]
    }
   ],
   "source": [
    "# fitting and reporting weighted score\n",
    "mlp_clf = MLPClassifier(max_iter=500, activation=\"logistic\", random_state=42)\n",
    "model = mlp_clf.fit(X_train, y_train)\n",
    "y_pred = model.predict(X_test)\n",
    "score = metrics.precision_score(y_test,y_pred,average=\"weighted\")\n",
    "print(f\"Model Score: {score}\")\n",
    "\n",
    "scores = cross_val_score(mlp_clf, features, target, cv=5, scoring='precision_weighted')\n",
    "print(\"Cross Validation Scores:\")\n",
    "for scr in scores:\n",
    "    print(f\"\\t{scr}\")\n",
    "print(f\"Average:{scores.mean()}\")"
   ]
  },
  {
   "cell_type": "markdown",
   "metadata": {},
   "source": [
    "### Evaluating the Model"
   ]
  },
  {
   "cell_type": "code",
   "execution_count": 35,
   "metadata": {},
   "outputs": [],
   "source": [
    "def plot_confusion_matrix(y_true,y_pred):\n",
    "    \"\"\"plots confusion matrix\"\"\"\n",
    "    # get confusion matrix\n",
    "    cm = metrics.confusion_matrix(y_true,y_pred)\n",
    "    cm_df = pd.DataFrame(cm)\n",
    "    # plot confusion matrix as heatmap\n",
    "    fig, ax = plt.subplots(figsize=(5,4))\n",
    "    sns.heatmap(cm_df,annot=True,cmap=\"Blues\",ax=ax)\n",
    "    ax.set_xlabel(\"Predicted Label\",fontsize=16)\n",
    "    ax.set_xticklabels([\"Negative\",\"Positive\"],fontsize=14)\n",
    "    ax.set_ylabel(\"True Label\",fontsize=16)\n",
    "    ax.set_yticklabels([\"Negative\",\"Positive\"],fontsize=14)\n",
    "    \n",
    "    plt.show()\n",
    "    plt.close()"
   ]
  },
  {
   "cell_type": "code",
   "execution_count": 36,
   "metadata": {},
   "outputs": [
    {
     "data": {
      "image/png": "[encoded data removed]",
      "text/plain": [
       "<Figure size 360x288 with 2 Axes>"
      ]
     },
     "metadata": {
      "needs_background": "light"
     },
     "output_type": "display_data"
    }
   ],
   "source": [
    "plot_confusion_matrix(y_test,y_pred)"
   ]
  },
  {
   "cell_type": "markdown",
   "metadata": {},
   "source": [
    "More can be found here: https://towardsdatascience.com/introduction-to-decision-tree-classifiers-from-scikit-learn-32cd5d23f4d"
   ]
  },
  {
   "cell_type": "markdown",
   "metadata": {},
   "source": [
    "Next steps:\n",
    "- gridsearchcv to tun hyperparameters\n",
    "- vary the features used to tune the model"
   ]
  },
  {
   "cell_type": "code",
   "execution_count": null,
   "metadata": {},
   "outputs": [],
   "source": []
  }
 ],
 "metadata": {
  "kernelspec": {
   "display_name": "Python 3",
   "language": "python",
   "name": "python3"
  },
  "language_info": {
   "codemirror_mode": {
    "name": "ipython",
    "version": 3
   },
   "file_extension": ".py",
   "mimetype": "text/x-python",
   "name": "python",
   "nbconvert_exporter": "python",
   "pygments_lexer": "ipython3",
   "version": "3.7.0"
  },
  "toc": {
   "base_numbering": 1,
   "nav_menu": {},
   "number_sections": false,
   "sideBar": false,
   "skip_h1_title": false,
   "title_cell": "Table of Contents",
   "title_sidebar": "Contents",
   "toc_cell": false,
   "toc_position": {},
   "toc_section_display": false,
   "toc_window_display": false
  }
 },
 "nbformat": 4,
 "nbformat_minor": 4
}
