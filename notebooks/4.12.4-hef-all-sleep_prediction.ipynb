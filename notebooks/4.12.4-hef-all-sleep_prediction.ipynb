{
 "cells": [
  {
   "cell_type": "markdown",
   "metadata": {},
   "source": [
    "# Sleep Prediction\n",
    "Here we try to use environmental parameters in addition to mood and activity characteristics to see if we are able to predict sleep quality.\n",
    "\n",
    "## Features\n",
    "In this analysis, we are going to consider the following features:\n",
    "1. **Acitivity**: The main metrics for activity that we will use are:\n",
    "    * Daily Steps\n",
    "    * Intensity Levels\n",
    "2. **Mood**: We have five metrics for mood:\n",
    "    * Content\n",
    "    * Lonely\n",
    "    * Sadness\n",
    "    * Stress\n",
    "    * Energy Level \n",
    "3. **IEQ**: There are many measurements of IEQ that we consider:\n",
    "    * CO$_2$\n",
    "    * CO\n",
    "    * PM$_{2.5}$\n",
    "    * NO$_2$\n",
    "    * TVOCs\n",
    "    * Temperature\n",
    "    * Relative Humidity\n",
    "    \n",
    "## Targets\n",
    "The targets will be all metrics related to sleep quality:\n",
    "1. **Self-Report**: There are four metrics for self-report sleep quality reported via EMA:\n",
    "    * TST\n",
    "    * SOL\n",
    "    * NAW\n",
    "    * Restfulness\n",
    "2. **Fitbit-Measured**: There are also four metrics of sleep quality that we can use from Fitbit:\n",
    "    * TST\n",
    "    * SE\n",
    "    * REM Percentage\n",
    "    * Light Percentage\n",
    "    * Deep Percentage"
   ]
  },
  {
   "cell_type": "code",
   "execution_count": 1,
   "metadata": {},
   "outputs": [],
   "source": [
    "import warnings\n",
    "warnings.filterwarnings('ignore')\n",
    "\n",
    "%load_ext autoreload\n",
    "%autoreload 2"
   ]
  },
  {
   "cell_type": "code",
   "execution_count": 2,
   "metadata": {},
   "outputs": [],
   "source": [
    "# general\n",
    "import os\n",
    "import sys\n",
    "sys.path.append('../')\n",
    "# user-defined functions\n",
    "from src.visualization import visualize\n",
    "# basic data science\n",
    "import pandas as pd\n",
    "pd.set_option('display.max_columns', 200)\n",
    "import numpy as np\n",
    "# timeseries\n",
    "from datetime import datetime, timedelta\n",
    "# plottings\n",
    "import matplotlib.pyplot as plt\n",
    "from matplotlib import cm\n",
    "from matplotlib.colors import ListedColormap, LinearSegmentedColormap\n",
    "import seaborn as sns\n",
    "import matplotlib.dates as mdates"
   ]
  },
  {
   "cell_type": "markdown",
   "metadata": {},
   "source": [
    "# Table of Contents\n",
    "1. [Data Import](#data-import)\n",
    "3. [Target Encoding](#encoding)\n",
    "4. [Feature Engineering](#feature_engineering)\n",
    "5. [Prediction](#prediction)\n",
    "    1. [Fitbit Sleep Targets](#fitbit-sleep-prediction)\n",
    "        1. TST\n",
    "        2. SOL\n",
    "        3. WASO\n",
    "        4. REM:nREM\n",
    "        5. SE\n",
    "    2. [Self-Report Sleep Targets](#self-report-sleep-prediction)\n",
    "        1. TST\n",
    "        2. SOL\n",
    "        3. NAW\n",
    "        4. Restfulness\n",
    "6. [Prediction with Encoded Features](#prediction_encoded)\n",
    "7. [Final Analysis](#final_analysis)"
   ]
  },
  {
   "cell_type": "markdown",
   "metadata": {},
   "source": [
    "<a id=\"data-import\"></a>"
   ]
  },
  {
   "cell_type": "markdown",
   "metadata": {},
   "source": [
    "# Data Import\n",
    "For this analysis we want to only consider nights when we have _all_ the available data. These are also the nights that we have confirmed participants are home according to GPS traces. "
   ]
  },
  {
   "cell_type": "markdown",
   "metadata": {},
   "source": [
    "## Feature: IEQ\n",
    "We start with IEQ data beacuse from previous analysis, this dataset has already been curated to include the relevant nights. However, there are quite a few columns that are not necessary for this analysis that have to be removed."
   ]
  },
  {
   "cell_type": "code",
   "execution_count": 3,
   "metadata": {},
   "outputs": [
    {
     "data": {
      "text/html": [
       "<div>\n",
       "<style scoped>\n",
       "    .dataframe tbody tr th:only-of-type {\n",
       "        vertical-align: middle;\n",
       "    }\n",
       "\n",
       "    .dataframe tbody tr th {\n",
       "        vertical-align: top;\n",
       "    }\n",
       "\n",
       "    .dataframe thead th {\n",
       "        text-align: right;\n",
       "    }\n",
       "</style>\n",
       "<table border=\"1\" class=\"dataframe\">\n",
       "  <thead>\n",
       "    <tr style=\"text-align: right;\">\n",
       "      <th></th>\n",
       "      <th>beacon</th>\n",
       "      <th>beiwe</th>\n",
       "      <th>redcap</th>\n",
       "      <th>start_time</th>\n",
       "      <th>end_time</th>\n",
       "      <th>tvoc_median</th>\n",
       "      <th>lux_median</th>\n",
       "      <th>no2_median</th>\n",
       "      <th>co_median</th>\n",
       "      <th>co2_median</th>\n",
       "      <th>pm2p5_mass_median</th>\n",
       "      <th>temperature_c_median</th>\n",
       "      <th>rh_median</th>\n",
       "    </tr>\n",
       "  </thead>\n",
       "  <tbody>\n",
       "    <tr>\n",
       "      <th>0</th>\n",
       "      <td>1</td>\n",
       "      <td>kyj367pi</td>\n",
       "      <td>10</td>\n",
       "      <td>2020-06-10 23:05:00</td>\n",
       "      <td>2020-06-11 09:14:00</td>\n",
       "      <td>71.566667</td>\n",
       "      <td>4.958996e-16</td>\n",
       "      <td>1.123554</td>\n",
       "      <td>1.607322</td>\n",
       "      <td>506.381100</td>\n",
       "      <td>4.176611</td>\n",
       "      <td>28.000000</td>\n",
       "      <td>39.483333</td>\n",
       "    </tr>\n",
       "    <tr>\n",
       "      <th>1</th>\n",
       "      <td>1</td>\n",
       "      <td>kyj367pi</td>\n",
       "      <td>10</td>\n",
       "      <td>2020-06-11 23:12:30</td>\n",
       "      <td>2020-06-12 09:14:30</td>\n",
       "      <td>216.916667</td>\n",
       "      <td>4.958996e-16</td>\n",
       "      <td>1.211445</td>\n",
       "      <td>1.169600</td>\n",
       "      <td>530.170098</td>\n",
       "      <td>10.268426</td>\n",
       "      <td>27.500000</td>\n",
       "      <td>40.436667</td>\n",
       "    </tr>\n",
       "    <tr>\n",
       "      <th>2</th>\n",
       "      <td>1</td>\n",
       "      <td>kyj367pi</td>\n",
       "      <td>10</td>\n",
       "      <td>2020-06-17 22:55:30</td>\n",
       "      <td>2020-06-18 08:51:30</td>\n",
       "      <td>319.646667</td>\n",
       "      <td>4.958996e-16</td>\n",
       "      <td>1.015245</td>\n",
       "      <td>0.591232</td>\n",
       "      <td>515.493173</td>\n",
       "      <td>5.591069</td>\n",
       "      <td>27.588333</td>\n",
       "      <td>45.706667</td>\n",
       "    </tr>\n",
       "    <tr>\n",
       "      <th>3</th>\n",
       "      <td>1</td>\n",
       "      <td>kyj367pi</td>\n",
       "      <td>10</td>\n",
       "      <td>2020-06-18 22:13:30</td>\n",
       "      <td>2020-06-19 08:42:00</td>\n",
       "      <td>309.186667</td>\n",
       "      <td>4.958996e-16</td>\n",
       "      <td>1.422721</td>\n",
       "      <td>0.086787</td>\n",
       "      <td>496.541909</td>\n",
       "      <td>5.670253</td>\n",
       "      <td>28.450000</td>\n",
       "      <td>46.830000</td>\n",
       "    </tr>\n",
       "    <tr>\n",
       "      <th>4</th>\n",
       "      <td>1</td>\n",
       "      <td>kyj367pi</td>\n",
       "      <td>10</td>\n",
       "      <td>2020-06-20 23:06:30</td>\n",
       "      <td>2020-06-21 07:43:00</td>\n",
       "      <td>316.976667</td>\n",
       "      <td>4.958996e-16</td>\n",
       "      <td>1.603600</td>\n",
       "      <td>0.247670</td>\n",
       "      <td>482.574615</td>\n",
       "      <td>3.976247</td>\n",
       "      <td>28.000000</td>\n",
       "      <td>47.862500</td>\n",
       "    </tr>\n",
       "  </tbody>\n",
       "</table>\n",
       "</div>"
      ],
      "text/plain": [
       "   beacon     beiwe  redcap          start_time            end_time  \\\n",
       "0       1  kyj367pi      10 2020-06-10 23:05:00 2020-06-11 09:14:00   \n",
       "1       1  kyj367pi      10 2020-06-11 23:12:30 2020-06-12 09:14:30   \n",
       "2       1  kyj367pi      10 2020-06-17 22:55:30 2020-06-18 08:51:30   \n",
       "3       1  kyj367pi      10 2020-06-18 22:13:30 2020-06-19 08:42:00   \n",
       "4       1  kyj367pi      10 2020-06-20 23:06:30 2020-06-21 07:43:00   \n",
       "\n",
       "   tvoc_median    lux_median  no2_median  co_median  co2_median  \\\n",
       "0    71.566667  4.958996e-16    1.123554   1.607322  506.381100   \n",
       "1   216.916667  4.958996e-16    1.211445   1.169600  530.170098   \n",
       "2   319.646667  4.958996e-16    1.015245   0.591232  515.493173   \n",
       "3   309.186667  4.958996e-16    1.422721   0.086787  496.541909   \n",
       "4   316.976667  4.958996e-16    1.603600   0.247670  482.574615   \n",
       "\n",
       "   pm2p5_mass_median  temperature_c_median  rh_median  \n",
       "0           4.176611             28.000000  39.483333  \n",
       "1          10.268426             27.500000  40.436667  \n",
       "2           5.591069             27.588333  45.706667  \n",
       "3           5.670253             28.450000  46.830000  \n",
       "4           3.976247             28.000000  47.862500  "
      ]
     },
     "execution_count": 3,
     "metadata": {},
     "output_type": "execute_result"
    }
   ],
   "source": [
    "ieq_raw = pd.read_csv(\"../data/processed/beacon_by_night-ux_s20.csv\",parse_dates=[\"start_time\",\"end_time\",],infer_datetime_format=True)\n",
    "ieq_raw = ieq_raw[(ieq_raw[\"home\"] == 1) | (ieq_raw[\"increasing_co2\"] > 0.5)]\n",
    "ieq_raw.drop([\"home\",\"increasing_co2\",\"ema\",\"pm1_number\",\"pm2p5_number\",\"pm10_number\",\"pm1_mass\",\"pm10_mass\"],axis=\"columns\",inplace=True)\n",
    "ieq_raw = ieq_raw.groupby([\"beacon\",\"beiwe\",\"redcap\",\"start_time\",\"end_time\"]).median()\n",
    "ieq_raw = ieq_raw.add_suffix(\"_median\")\n",
    "ieq_raw.reset_index(inplace=True)\n",
    "ieq = ieq_raw.copy()\n",
    "ieq.head()"
   ]
  },
  {
   "cell_type": "markdown",
   "metadata": {},
   "source": [
    "## Feature: Activity\n",
    "Activity data are essentially untouched from the raw format"
   ]
  },
  {
   "cell_type": "code",
   "execution_count": 4,
   "metadata": {},
   "outputs": [
    {
     "data": {
      "text/html": [
       "<div>\n",
       "<style scoped>\n",
       "    .dataframe tbody tr th:only-of-type {\n",
       "        vertical-align: middle;\n",
       "    }\n",
       "\n",
       "    .dataframe tbody tr th {\n",
       "        vertical-align: top;\n",
       "    }\n",
       "\n",
       "    .dataframe thead th {\n",
       "        text-align: right;\n",
       "    }\n",
       "</style>\n",
       "<table border=\"1\" class=\"dataframe\">\n",
       "  <thead>\n",
       "    <tr style=\"text-align: right;\">\n",
       "      <th></th>\n",
       "      <th>date</th>\n",
       "      <th>beiwe</th>\n",
       "      <th>steps</th>\n",
       "      <th>sedentary_minutes</th>\n",
       "      <th>lightly_active_minutes</th>\n",
       "      <th>fairly_active_minutes</th>\n",
       "      <th>very_active_minutes</th>\n",
       "    </tr>\n",
       "  </thead>\n",
       "  <tbody>\n",
       "    <tr>\n",
       "      <th>0</th>\n",
       "      <td>2020-05-13</td>\n",
       "      <td>hfttkth7</td>\n",
       "      <td>9207</td>\n",
       "      <td>1241</td>\n",
       "      <td>70</td>\n",
       "      <td>118</td>\n",
       "      <td>11</td>\n",
       "    </tr>\n",
       "    <tr>\n",
       "      <th>1</th>\n",
       "      <td>2020-05-14</td>\n",
       "      <td>hfttkth7</td>\n",
       "      <td>15207</td>\n",
       "      <td>614</td>\n",
       "      <td>263</td>\n",
       "      <td>134</td>\n",
       "      <td>23</td>\n",
       "    </tr>\n",
       "    <tr>\n",
       "      <th>2</th>\n",
       "      <td>2020-05-15</td>\n",
       "      <td>hfttkth7</td>\n",
       "      <td>14556</td>\n",
       "      <td>577</td>\n",
       "      <td>205</td>\n",
       "      <td>57</td>\n",
       "      <td>108</td>\n",
       "    </tr>\n",
       "    <tr>\n",
       "      <th>3</th>\n",
       "      <td>2020-05-16</td>\n",
       "      <td>hfttkth7</td>\n",
       "      <td>18453</td>\n",
       "      <td>760</td>\n",
       "      <td>176</td>\n",
       "      <td>24</td>\n",
       "      <td>151</td>\n",
       "    </tr>\n",
       "    <tr>\n",
       "      <th>4</th>\n",
       "      <td>2020-05-17</td>\n",
       "      <td>hfttkth7</td>\n",
       "      <td>15425</td>\n",
       "      <td>605</td>\n",
       "      <td>207</td>\n",
       "      <td>50</td>\n",
       "      <td>131</td>\n",
       "    </tr>\n",
       "  </tbody>\n",
       "</table>\n",
       "</div>"
      ],
      "text/plain": [
       "        date     beiwe  steps  sedentary_minutes  lightly_active_minutes  \\\n",
       "0 2020-05-13  hfttkth7   9207               1241                      70   \n",
       "1 2020-05-14  hfttkth7  15207                614                     263   \n",
       "2 2020-05-15  hfttkth7  14556                577                     205   \n",
       "3 2020-05-16  hfttkth7  18453                760                     176   \n",
       "4 2020-05-17  hfttkth7  15425                605                     207   \n",
       "\n",
       "   fairly_active_minutes  very_active_minutes  \n",
       "0                    118                   11  \n",
       "1                    134                   23  \n",
       "2                     57                  108  \n",
       "3                     24                  151  \n",
       "4                     50                  131  "
      ]
     },
     "execution_count": 4,
     "metadata": {},
     "output_type": "execute_result"
    }
   ],
   "source": [
    "activity_raw = pd.read_csv(\"../data/processed/fitbit-daily-ux_s20.csv\",parse_dates=[\"timestamp\"],infer_datetime_format=True)\n",
    "activity = activity_raw[[\"timestamp\",\"beiwe\",\"steps\",\"sedentary_minutes\",\"lightly_active_minutes\",\"fairly_active_minutes\",\"very_active_minutes\"]]\n",
    "activity.rename({\"timestamp\":\"date\"},axis=\"columns\",inplace=True)\n",
    "activity.head()"
   ]
  },
  {
   "cell_type": "markdown",
   "metadata": {},
   "source": [
    "## Feature: Mood\n",
    "We only want to consider mood data from the latest survey prior to the participant going to sleep so we only important the evening EMAs."
   ]
  },
  {
   "cell_type": "code",
   "execution_count": 5,
   "metadata": {},
   "outputs": [
    {
     "data": {
      "text/html": [
       "<div>\n",
       "<style scoped>\n",
       "    .dataframe tbody tr th:only-of-type {\n",
       "        vertical-align: middle;\n",
       "    }\n",
       "\n",
       "    .dataframe tbody tr th {\n",
       "        vertical-align: top;\n",
       "    }\n",
       "\n",
       "    .dataframe thead th {\n",
       "        text-align: right;\n",
       "    }\n",
       "</style>\n",
       "<table border=\"1\" class=\"dataframe\">\n",
       "  <thead>\n",
       "    <tr style=\"text-align: right;\">\n",
       "      <th></th>\n",
       "      <th>timestamp</th>\n",
       "      <th>beiwe</th>\n",
       "      <th>content</th>\n",
       "      <th>stress</th>\n",
       "      <th>lonely</th>\n",
       "      <th>sad</th>\n",
       "      <th>energy</th>\n",
       "      <th>redcap</th>\n",
       "      <th>beacon</th>\n",
       "      <th>date</th>\n",
       "    </tr>\n",
       "  </thead>\n",
       "  <tbody>\n",
       "    <tr>\n",
       "      <th>0</th>\n",
       "      <td>2020-05-13 19:00:23</td>\n",
       "      <td>awa8uces</td>\n",
       "      <td>1.0</td>\n",
       "      <td>1.0</td>\n",
       "      <td>1.0</td>\n",
       "      <td>3.0</td>\n",
       "      <td>2.0</td>\n",
       "      <td>28</td>\n",
       "      <td>26.0</td>\n",
       "      <td>2020-05-13</td>\n",
       "    </tr>\n",
       "    <tr>\n",
       "      <th>1</th>\n",
       "      <td>2020-05-13 19:21:32</td>\n",
       "      <td>lkkjddam</td>\n",
       "      <td>0.0</td>\n",
       "      <td>2.0</td>\n",
       "      <td>3.0</td>\n",
       "      <td>1.0</td>\n",
       "      <td>0.0</td>\n",
       "      <td>12</td>\n",
       "      <td>21.0</td>\n",
       "      <td>2020-05-13</td>\n",
       "    </tr>\n",
       "    <tr>\n",
       "      <th>2</th>\n",
       "      <td>2020-05-13 19:30:38</td>\n",
       "      <td>rvhdl2la</td>\n",
       "      <td>2.0</td>\n",
       "      <td>1.0</td>\n",
       "      <td>0.0</td>\n",
       "      <td>0.0</td>\n",
       "      <td>1.0</td>\n",
       "      <td>29</td>\n",
       "      <td>NaN</td>\n",
       "      <td>2020-05-13</td>\n",
       "    </tr>\n",
       "    <tr>\n",
       "      <th>3</th>\n",
       "      <td>2020-05-13 20:07:04</td>\n",
       "      <td>xxvnhauv</td>\n",
       "      <td>1.0</td>\n",
       "      <td>3.0</td>\n",
       "      <td>1.0</td>\n",
       "      <td>2.0</td>\n",
       "      <td>0.0</td>\n",
       "      <td>21</td>\n",
       "      <td>22.0</td>\n",
       "      <td>2020-05-13</td>\n",
       "    </tr>\n",
       "    <tr>\n",
       "      <th>4</th>\n",
       "      <td>2020-05-13 20:25:07</td>\n",
       "      <td>xdbdrk6e</td>\n",
       "      <td>2.0</td>\n",
       "      <td>1.0</td>\n",
       "      <td>2.0</td>\n",
       "      <td>1.0</td>\n",
       "      <td>3.0</td>\n",
       "      <td>23</td>\n",
       "      <td>24.0</td>\n",
       "      <td>2020-05-13</td>\n",
       "    </tr>\n",
       "  </tbody>\n",
       "</table>\n",
       "</div>"
      ],
      "text/plain": [
       "            timestamp     beiwe  content  stress  lonely  sad  energy  redcap  \\\n",
       "0 2020-05-13 19:00:23  awa8uces      1.0     1.0     1.0  3.0     2.0      28   \n",
       "1 2020-05-13 19:21:32  lkkjddam      0.0     2.0     3.0  1.0     0.0      12   \n",
       "2 2020-05-13 19:30:38  rvhdl2la      2.0     1.0     0.0  0.0     1.0      29   \n",
       "3 2020-05-13 20:07:04  xxvnhauv      1.0     3.0     1.0  2.0     0.0      21   \n",
       "4 2020-05-13 20:25:07  xdbdrk6e      2.0     1.0     2.0  1.0     3.0      23   \n",
       "\n",
       "   beacon       date  \n",
       "0    26.0 2020-05-13  \n",
       "1    21.0 2020-05-13  \n",
       "2     NaN 2020-05-13  \n",
       "3    22.0 2020-05-13  \n",
       "4    24.0 2020-05-13  "
      ]
     },
     "execution_count": 5,
     "metadata": {},
     "output_type": "execute_result"
    }
   ],
   "source": [
    "mood = pd.read_csv(\"../data/processed/beiwe-evening_ema-ux_s20.csv\",parse_dates=[\"timestamp\"],infer_datetime_format=True)\n",
    "mood[\"date\"] = pd.to_datetime(mood[\"timestamp\"].dt.date)\n",
    "mood.head()"
   ]
  },
  {
   "cell_type": "markdown",
   "metadata": {},
   "source": [
    "## Target: Self-Report Sleep Quality (SRSQ)\n",
    "The self-reported sleep quality comes from the morning EMAs."
   ]
  },
  {
   "cell_type": "code",
   "execution_count": 6,
   "metadata": {},
   "outputs": [
    {
     "data": {
      "text/html": [
       "<div>\n",
       "<style scoped>\n",
       "    .dataframe tbody tr th:only-of-type {\n",
       "        vertical-align: middle;\n",
       "    }\n",
       "\n",
       "    .dataframe tbody tr th {\n",
       "        vertical-align: top;\n",
       "    }\n",
       "\n",
       "    .dataframe thead th {\n",
       "        text-align: right;\n",
       "    }\n",
       "</style>\n",
       "<table border=\"1\" class=\"dataframe\">\n",
       "  <thead>\n",
       "    <tr style=\"text-align: right;\">\n",
       "      <th></th>\n",
       "      <th>timestamp</th>\n",
       "      <th>end_date</th>\n",
       "      <th>beiwe</th>\n",
       "      <th>redcap</th>\n",
       "      <th>beacon</th>\n",
       "      <th>tst</th>\n",
       "      <th>sol</th>\n",
       "      <th>naw</th>\n",
       "      <th>restful</th>\n",
       "    </tr>\n",
       "  </thead>\n",
       "  <tbody>\n",
       "    <tr>\n",
       "      <th>0</th>\n",
       "      <td>2020-05-13 09:10:27</td>\n",
       "      <td>2020-05-13</td>\n",
       "      <td>qh34m4r9</td>\n",
       "      <td>68</td>\n",
       "      <td>19.0</td>\n",
       "      <td>8.0</td>\n",
       "      <td>20.0</td>\n",
       "      <td>2.0</td>\n",
       "      <td>3.0</td>\n",
       "    </tr>\n",
       "    <tr>\n",
       "      <th>1</th>\n",
       "      <td>2020-05-13 09:15:49</td>\n",
       "      <td>2020-05-13</td>\n",
       "      <td>awa8uces</td>\n",
       "      <td>28</td>\n",
       "      <td>26.0</td>\n",
       "      <td>2.0</td>\n",
       "      <td>10.0</td>\n",
       "      <td>3.0</td>\n",
       "      <td>1.0</td>\n",
       "    </tr>\n",
       "    <tr>\n",
       "      <th>2</th>\n",
       "      <td>2020-05-13 09:42:19</td>\n",
       "      <td>2020-05-13</td>\n",
       "      <td>xxvnhauv</td>\n",
       "      <td>21</td>\n",
       "      <td>22.0</td>\n",
       "      <td>6.0</td>\n",
       "      <td>30.0</td>\n",
       "      <td>3.0</td>\n",
       "      <td>1.0</td>\n",
       "    </tr>\n",
       "    <tr>\n",
       "      <th>3</th>\n",
       "      <td>2020-05-13 09:43:27</td>\n",
       "      <td>2020-05-13</td>\n",
       "      <td>rvhdl2la</td>\n",
       "      <td>29</td>\n",
       "      <td>NaN</td>\n",
       "      <td>5.3</td>\n",
       "      <td>5.0</td>\n",
       "      <td>2.0</td>\n",
       "      <td>2.0</td>\n",
       "    </tr>\n",
       "    <tr>\n",
       "      <th>4</th>\n",
       "      <td>2020-05-13 10:11:51</td>\n",
       "      <td>2020-05-13</td>\n",
       "      <td>q5y11ytm</td>\n",
       "      <td>48</td>\n",
       "      <td>NaN</td>\n",
       "      <td>2.0</td>\n",
       "      <td>10.0</td>\n",
       "      <td>0.0</td>\n",
       "      <td>0.0</td>\n",
       "    </tr>\n",
       "  </tbody>\n",
       "</table>\n",
       "</div>"
      ],
      "text/plain": [
       "            timestamp   end_date     beiwe  redcap  beacon  tst   sol  naw  \\\n",
       "0 2020-05-13 09:10:27 2020-05-13  qh34m4r9      68    19.0  8.0  20.0  2.0   \n",
       "1 2020-05-13 09:15:49 2020-05-13  awa8uces      28    26.0  2.0  10.0  3.0   \n",
       "2 2020-05-13 09:42:19 2020-05-13  xxvnhauv      21    22.0  6.0  30.0  3.0   \n",
       "3 2020-05-13 09:43:27 2020-05-13  rvhdl2la      29     NaN  5.3   5.0  2.0   \n",
       "4 2020-05-13 10:11:51 2020-05-13  q5y11ytm      48     NaN  2.0  10.0  0.0   \n",
       "\n",
       "   restful  \n",
       "0      3.0  \n",
       "1      1.0  \n",
       "2      1.0  \n",
       "3      2.0  \n",
       "4      0.0  "
      ]
     },
     "execution_count": 6,
     "metadata": {},
     "output_type": "execute_result"
    }
   ],
   "source": [
    "srsq_raw = pd.read_csv(\"../data/processed/beiwe-morning_ema-ux_s20.csv\",parse_dates=[\"timestamp\"],infer_datetime_format=True)\n",
    "srsq_raw[\"date\"] = pd.to_datetime(srsq_raw[\"timestamp\"].dt.date)\n",
    "srsq = srsq_raw[[\"timestamp\",\"date\",\"beiwe\",\"redcap\",\"beacon\",\"tst\",\"sol\",\"naw\",\"restful\"]]\n",
    "srsq.rename({\"date\":\"end_date\"},axis=\"columns\",inplace=True)\n",
    "srsq.head()"
   ]
  },
  {
   "cell_type": "markdown",
   "metadata": {},
   "source": [
    "## Target: Fitbit Sleep Quality (FBSQ)\n",
    "Fitbit sleep summary data is imported below."
   ]
  },
  {
   "cell_type": "code",
   "execution_count": 7,
   "metadata": {},
   "outputs": [
    {
     "data": {
      "text/html": [
       "<div>\n",
       "<style scoped>\n",
       "    .dataframe tbody tr th:only-of-type {\n",
       "        vertical-align: middle;\n",
       "    }\n",
       "\n",
       "    .dataframe tbody tr th {\n",
       "        vertical-align: top;\n",
       "    }\n",
       "\n",
       "    .dataframe thead th {\n",
       "        text-align: right;\n",
       "    }\n",
       "</style>\n",
       "<table border=\"1\" class=\"dataframe\">\n",
       "  <thead>\n",
       "    <tr style=\"text-align: right;\">\n",
       "      <th></th>\n",
       "      <th>start_time</th>\n",
       "      <th>end_time</th>\n",
       "      <th>start_date</th>\n",
       "      <th>end_date</th>\n",
       "      <th>beiwe</th>\n",
       "      <th>redcap</th>\n",
       "      <th>beacon</th>\n",
       "      <th>tst</th>\n",
       "      <th>se</th>\n",
       "      <th>rem_percent</th>\n",
       "      <th>light_percent</th>\n",
       "      <th>deep_percent</th>\n",
       "    </tr>\n",
       "  </thead>\n",
       "  <tbody>\n",
       "    <tr>\n",
       "      <th>0</th>\n",
       "      <td>2020-05-14 00:27:00</td>\n",
       "      <td>2020-05-14 07:13:00</td>\n",
       "      <td>2020-05-14</td>\n",
       "      <td>2020-05-14</td>\n",
       "      <td>hfttkth7</td>\n",
       "      <td>NaN</td>\n",
       "      <td>NaN</td>\n",
       "      <td>6.316667</td>\n",
       "      <td>93.349754</td>\n",
       "      <td>0.216359</td>\n",
       "      <td>0.562005</td>\n",
       "      <td>0.221636</td>\n",
       "    </tr>\n",
       "    <tr>\n",
       "      <th>1</th>\n",
       "      <td>2020-05-14 23:53:30</td>\n",
       "      <td>2020-05-15 08:06:30</td>\n",
       "      <td>2020-05-14</td>\n",
       "      <td>2020-05-15</td>\n",
       "      <td>hfttkth7</td>\n",
       "      <td>NaN</td>\n",
       "      <td>NaN</td>\n",
       "      <td>6.533333</td>\n",
       "      <td>79.513185</td>\n",
       "      <td>0.119898</td>\n",
       "      <td>0.637755</td>\n",
       "      <td>0.242347</td>\n",
       "    </tr>\n",
       "    <tr>\n",
       "      <th>2</th>\n",
       "      <td>2020-05-15 23:28:00</td>\n",
       "      <td>2020-05-16 04:57:00</td>\n",
       "      <td>2020-05-15</td>\n",
       "      <td>2020-05-16</td>\n",
       "      <td>hfttkth7</td>\n",
       "      <td>NaN</td>\n",
       "      <td>NaN</td>\n",
       "      <td>4.783333</td>\n",
       "      <td>87.234043</td>\n",
       "      <td>0.174216</td>\n",
       "      <td>0.662021</td>\n",
       "      <td>0.163763</td>\n",
       "    </tr>\n",
       "    <tr>\n",
       "      <th>3</th>\n",
       "      <td>2020-05-17 02:01:30</td>\n",
       "      <td>2020-05-17 09:28:30</td>\n",
       "      <td>2020-05-17</td>\n",
       "      <td>2020-05-17</td>\n",
       "      <td>hfttkth7</td>\n",
       "      <td>NaN</td>\n",
       "      <td>NaN</td>\n",
       "      <td>6.716667</td>\n",
       "      <td>90.156600</td>\n",
       "      <td>0.205955</td>\n",
       "      <td>0.600496</td>\n",
       "      <td>0.193548</td>\n",
       "    </tr>\n",
       "    <tr>\n",
       "      <th>4</th>\n",
       "      <td>2020-05-18 00:24:00</td>\n",
       "      <td>2020-05-18 07:20:00</td>\n",
       "      <td>2020-05-18</td>\n",
       "      <td>2020-05-18</td>\n",
       "      <td>hfttkth7</td>\n",
       "      <td>NaN</td>\n",
       "      <td>NaN</td>\n",
       "      <td>5.850000</td>\n",
       "      <td>84.375000</td>\n",
       "      <td>0.250712</td>\n",
       "      <td>0.475783</td>\n",
       "      <td>0.273504</td>\n",
       "    </tr>\n",
       "  </tbody>\n",
       "</table>\n",
       "</div>"
      ],
      "text/plain": [
       "           start_time            end_time start_date   end_date     beiwe  \\\n",
       "0 2020-05-14 00:27:00 2020-05-14 07:13:00 2020-05-14 2020-05-14  hfttkth7   \n",
       "1 2020-05-14 23:53:30 2020-05-15 08:06:30 2020-05-14 2020-05-15  hfttkth7   \n",
       "2 2020-05-15 23:28:00 2020-05-16 04:57:00 2020-05-15 2020-05-16  hfttkth7   \n",
       "3 2020-05-17 02:01:30 2020-05-17 09:28:30 2020-05-17 2020-05-17  hfttkth7   \n",
       "4 2020-05-18 00:24:00 2020-05-18 07:20:00 2020-05-18 2020-05-18  hfttkth7   \n",
       "\n",
       "   redcap  beacon       tst         se  rem_percent  light_percent  \\\n",
       "0     NaN     NaN  6.316667  93.349754     0.216359       0.562005   \n",
       "1     NaN     NaN  6.533333  79.513185     0.119898       0.637755   \n",
       "2     NaN     NaN  4.783333  87.234043     0.174216       0.662021   \n",
       "3     NaN     NaN  6.716667  90.156600     0.205955       0.600496   \n",
       "4     NaN     NaN  5.850000  84.375000     0.250712       0.475783   \n",
       "\n",
       "   deep_percent  \n",
       "0      0.221636  \n",
       "1      0.242347  \n",
       "2      0.163763  \n",
       "3      0.193548  \n",
       "4      0.273504  "
      ]
     },
     "execution_count": 7,
     "metadata": {},
     "output_type": "execute_result"
    }
   ],
   "source": [
    "fbsq_raw = pd.read_csv(\"../data/processed/fitbit-sleep_summary-ux_s20.csv\",parse_dates=[\"start_time\",\"end_time\",\"start_date\",\"end_date\"],infer_datetime_format=True)\n",
    "fbsq = fbsq_raw[[\"start_time\",\"end_time\",\"start_date\",\"end_date\",\"beiwe\",\"redcap\",\"beacon\",\"tst_fb\",\"efficiency\",\"rem_percent\",\"light_percent\",\"deep_percent\"]]\n",
    "fbsq.rename({\"tst_fb\":\"tst\",\"efficiency\":\"se\"},axis=\"columns\",inplace=True)\n",
    "fbsq.head()"
   ]
  },
  {
   "cell_type": "markdown",
   "metadata": {},
   "source": [
    "## Target: Combined Sleep Quality (CSQ)\n",
    "The sleep quality dataset has already been created from a previous analysis so we simply just have to import it.\n",
    "\n",
    "I don't think we will be using this dataset, but we might as well keep it here."
   ]
  },
  {
   "cell_type": "code",
   "execution_count": 8,
   "metadata": {},
   "outputs": [
    {
     "data": {
      "text/html": [
       "<div>\n",
       "<style scoped>\n",
       "    .dataframe tbody tr th:only-of-type {\n",
       "        vertical-align: middle;\n",
       "    }\n",
       "\n",
       "    .dataframe tbody tr th {\n",
       "        vertical-align: top;\n",
       "    }\n",
       "\n",
       "    .dataframe thead th {\n",
       "        text-align: right;\n",
       "    }\n",
       "</style>\n",
       "<table border=\"1\" class=\"dataframe\">\n",
       "  <thead>\n",
       "    <tr style=\"text-align: right;\">\n",
       "      <th></th>\n",
       "      <th>start_time</th>\n",
       "      <th>end_time</th>\n",
       "      <th>start_date</th>\n",
       "      <th>end_date</th>\n",
       "      <th>date</th>\n",
       "      <th>beiwe</th>\n",
       "      <th>redcap</th>\n",
       "      <th>beacon</th>\n",
       "      <th>tst_ema</th>\n",
       "      <th>sol_ema</th>\n",
       "      <th>naw_ema</th>\n",
       "      <th>restful_ema</th>\n",
       "      <th>tst_fb</th>\n",
       "      <th>efficiency</th>\n",
       "      <th>rem_percent</th>\n",
       "      <th>nrem_percent</th>\n",
       "    </tr>\n",
       "  </thead>\n",
       "  <tbody>\n",
       "    <tr>\n",
       "      <th>0</th>\n",
       "      <td>2020-05-14 01:06:00</td>\n",
       "      <td>2020-05-14 11:39:30</td>\n",
       "      <td>2020-05-14</td>\n",
       "      <td>2020-05-14</td>\n",
       "      <td>2020-05-14</td>\n",
       "      <td>15tejjtw</td>\n",
       "      <td>45.0</td>\n",
       "      <td>NaN</td>\n",
       "      <td>9.0</td>\n",
       "      <td>30.0</td>\n",
       "      <td>5.0</td>\n",
       "      <td>2.0</td>\n",
       "      <td>8.766667</td>\n",
       "      <td>83.096367</td>\n",
       "      <td>0.231939</td>\n",
       "      <td>0.768061</td>\n",
       "    </tr>\n",
       "    <tr>\n",
       "      <th>1</th>\n",
       "      <td>2020-05-16 02:19:00</td>\n",
       "      <td>2020-05-16 10:00:30</td>\n",
       "      <td>2020-05-16</td>\n",
       "      <td>2020-05-16</td>\n",
       "      <td>2020-05-16</td>\n",
       "      <td>15tejjtw</td>\n",
       "      <td>45.0</td>\n",
       "      <td>NaN</td>\n",
       "      <td>9.0</td>\n",
       "      <td>15.0</td>\n",
       "      <td>2.0</td>\n",
       "      <td>2.0</td>\n",
       "      <td>6.600000</td>\n",
       "      <td>85.900217</td>\n",
       "      <td>0.123737</td>\n",
       "      <td>0.876263</td>\n",
       "    </tr>\n",
       "    <tr>\n",
       "      <th>2</th>\n",
       "      <td>2020-05-17 00:27:00</td>\n",
       "      <td>2020-05-17 10:28:00</td>\n",
       "      <td>2020-05-17</td>\n",
       "      <td>2020-05-17</td>\n",
       "      <td>2020-05-17</td>\n",
       "      <td>15tejjtw</td>\n",
       "      <td>45.0</td>\n",
       "      <td>NaN</td>\n",
       "      <td>9.0</td>\n",
       "      <td>30.0</td>\n",
       "      <td>1.0</td>\n",
       "      <td>2.0</td>\n",
       "      <td>8.850000</td>\n",
       "      <td>88.352745</td>\n",
       "      <td>0.254237</td>\n",
       "      <td>0.745763</td>\n",
       "    </tr>\n",
       "    <tr>\n",
       "      <th>3</th>\n",
       "      <td>2020-05-18 01:37:00</td>\n",
       "      <td>2020-05-18 10:59:30</td>\n",
       "      <td>2020-05-18</td>\n",
       "      <td>2020-05-18</td>\n",
       "      <td>2020-05-18</td>\n",
       "      <td>15tejjtw</td>\n",
       "      <td>45.0</td>\n",
       "      <td>NaN</td>\n",
       "      <td>9.0</td>\n",
       "      <td>25.0</td>\n",
       "      <td>2.0</td>\n",
       "      <td>1.0</td>\n",
       "      <td>7.966667</td>\n",
       "      <td>85.053381</td>\n",
       "      <td>0.207113</td>\n",
       "      <td>0.792887</td>\n",
       "    </tr>\n",
       "    <tr>\n",
       "      <th>4</th>\n",
       "      <td>2020-05-21 23:59:30</td>\n",
       "      <td>2020-05-22 09:27:30</td>\n",
       "      <td>2020-05-21</td>\n",
       "      <td>2020-05-22</td>\n",
       "      <td>2020-05-22</td>\n",
       "      <td>15tejjtw</td>\n",
       "      <td>45.0</td>\n",
       "      <td>NaN</td>\n",
       "      <td>9.0</td>\n",
       "      <td>20.0</td>\n",
       "      <td>2.0</td>\n",
       "      <td>2.0</td>\n",
       "      <td>8.316667</td>\n",
       "      <td>87.852113</td>\n",
       "      <td>0.264529</td>\n",
       "      <td>0.735471</td>\n",
       "    </tr>\n",
       "  </tbody>\n",
       "</table>\n",
       "</div>"
      ],
      "text/plain": [
       "           start_time            end_time start_date   end_date       date  \\\n",
       "0 2020-05-14 01:06:00 2020-05-14 11:39:30 2020-05-14 2020-05-14 2020-05-14   \n",
       "1 2020-05-16 02:19:00 2020-05-16 10:00:30 2020-05-16 2020-05-16 2020-05-16   \n",
       "2 2020-05-17 00:27:00 2020-05-17 10:28:00 2020-05-17 2020-05-17 2020-05-17   \n",
       "3 2020-05-18 01:37:00 2020-05-18 10:59:30 2020-05-18 2020-05-18 2020-05-18   \n",
       "4 2020-05-21 23:59:30 2020-05-22 09:27:30 2020-05-21 2020-05-22 2020-05-22   \n",
       "\n",
       "      beiwe  redcap  beacon  tst_ema  sol_ema  naw_ema  restful_ema    tst_fb  \\\n",
       "0  15tejjtw    45.0     NaN      9.0     30.0      5.0          2.0  8.766667   \n",
       "1  15tejjtw    45.0     NaN      9.0     15.0      2.0          2.0  6.600000   \n",
       "2  15tejjtw    45.0     NaN      9.0     30.0      1.0          2.0  8.850000   \n",
       "3  15tejjtw    45.0     NaN      9.0     25.0      2.0          1.0  7.966667   \n",
       "4  15tejjtw    45.0     NaN      9.0     20.0      2.0          2.0  8.316667   \n",
       "\n",
       "   efficiency  rem_percent  nrem_percent  \n",
       "0   83.096367     0.231939      0.768061  \n",
       "1   85.900217     0.123737      0.876263  \n",
       "2   88.352745     0.254237      0.745763  \n",
       "3   85.053381     0.207113      0.792887  \n",
       "4   87.852113     0.264529      0.735471  "
      ]
     },
     "execution_count": 8,
     "metadata": {},
     "output_type": "execute_result"
    }
   ],
   "source": [
    "sleep_quality = pd.read_csv(\"../data/processed/beiwe_fitbit-sleep_summary-ux_s20.csv\",parse_dates=[\"start_time\",\"end_time\",\"start_date\",\"end_date\",\"date\"],infer_datetime_format=True)\n",
    "csq = sleep_quality[[\"start_time\",\"end_time\",\"start_date\",\"end_date\",\"date\",\"beiwe\",\"redcap\",\"beacon\",\"tst_ema\",\"sol_ema\",\"naw_ema\",\"restful_ema\",\"tst_fb\",\"efficiency\",\"rem_percent\",\"nrem_percent\"]]\n",
    "csq.head() # Combined Sleep Quality (csq)"
   ]
  },
  {
   "cell_type": "markdown",
   "metadata": {},
   "source": [
    "<a id=\"encoding\" ></a>"
   ]
  },
  {
   "cell_type": "markdown",
   "metadata": {},
   "source": [
    "# Target Encoding\n",
    "We will encode all the target sleep quality variables as binary where 0 represents poor/negative outcomes and 1 are good/positive outcomes."
   ]
  },
  {
   "cell_type": "code",
   "execution_count": 9,
   "metadata": {},
   "outputs": [],
   "source": [
    "def plot_distribution(df, variable,**kwargs):\n",
    "    \"\"\"plots distribution of values\"\"\"\n",
    "    fig, ax = plt.subplots(figsize=(12,4))\n",
    "    # density plot\n",
    "    sns.kdeplot(x=variable,cut=0,data=df,zorder=2,\n",
    "                linewidth=3,color=\"black\",ax=ax)\n",
    "    # x-axis\n",
    "    plt.xticks(fontsize=14)\n",
    "    ax.set_xlabel(variable.upper(),fontsize=16)\n",
    "    if \"xlim\" in kwargs.keys():\n",
    "        ax.set_xlim(kwargs[\"xlim\"])\n",
    "    else:\n",
    "        ax.set_xlim([0,max(df[variable])])\n",
    "    # cumulative\n",
    "    ax2 = ax.twinx()\n",
    "    sns.kdeplot(x=variable,cut=0,data=df,cumulative=True,zorder=1,\n",
    "                linewidth=2,color=\"firebrick\",ax=ax2)\n",
    "    # y-axis\n",
    "    ax.set_yticks([])\n",
    "    ax.set_ylabel(\"\")\n",
    "    ax2.set_ylabel(\"\")\n",
    "    ax2.set_ylim([0,1])\n",
    "    ax2.set_yticks([0,0.25,0.5,0.75,1])\n",
    "    plt.yticks(fontsize=14)\n",
    "    # remainder\n",
    "    for loc in [\"left\",\"top\"]:\n",
    "        ax.spines[loc].set_visible(False)\n",
    "        ax2.spines[loc].set_visible(False)\n",
    "    plt.show()\n",
    "    plt.close()"
   ]
  },
  {
   "cell_type": "markdown",
   "metadata": {},
   "source": [
    "## SE\n",
    "Based on a discussion with Dr. Schnyer, he suggested this scale (with some minor tweaks in language from me):\n",
    "\n",
    "| SE | Rating | Value |\n",
    "| --- | --- | --- |\n",
    "| >90% | Excellent | 3 |\n",
    "| 85% - 90% | Good | 2 |\n",
    "| 80% - 85% | Typical | 1 |\n",
    "| <80% | Poor | 0 |\n",
    "\n"
   ]
  },
  {
   "cell_type": "code",
   "execution_count": 10,
   "metadata": {},
   "outputs": [
    {
     "data": {
      "image/png": "[encoded data removed]",
      "text/plain": [
       "<Figure size 864x288 with 2 Axes>"
      ]
     },
     "metadata": {
      "needs_background": "light"
     },
     "output_type": "display_data"
    }
   ],
   "source": [
    "plot_distribution(fbsq,\"se\",xlim=[60,100])"
   ]
  },
  {
   "cell_type": "markdown",
   "metadata": {},
   "source": [
    "Here, we just say the SE is good (1) when above 85%, otherwise it is bad (0)."
   ]
  },
  {
   "cell_type": "code",
   "execution_count": 11,
   "metadata": {},
   "outputs": [],
   "source": [
    "def encode_se(value):\n",
    "    \"\"\"returns encoded value for se\"\"\"\n",
    "    if value >= 85:\n",
    "        return 1\n",
    "    else:\n",
    "        return 0"
   ]
  },
  {
   "cell_type": "markdown",
   "metadata": {},
   "source": [
    "## TST\n",
    "Based on a \"traditional\" recommendations, we can lump `tst` into three categories:\n",
    "\n",
    "| TST | Rating | Value |\n",
    "| --- | --- | --- |\n",
    "| >9 h | High | 0 |\n",
    "| 7-9 h | Typical | 1 |\n",
    "| <7 h | Low | 0 |"
   ]
  },
  {
   "cell_type": "code",
   "execution_count": 12,
   "metadata": {},
   "outputs": [],
   "source": [
    "def encode_tst(value):\n",
    "    \"\"\"returns score of tsts\"\"\"\n",
    "    if value > 9:\n",
    "        return 0\n",
    "    elif value >= 7:\n",
    "        return 1\n",
    "    else:\n",
    "        return 0"
   ]
  },
  {
   "cell_type": "markdown",
   "metadata": {},
   "source": [
    "## REM\n",
    "Ideally you should be spending between 20% and 25% of your night in REM sleep."
   ]
  },
  {
   "cell_type": "code",
   "execution_count": 13,
   "metadata": {},
   "outputs": [],
   "source": [
    "def encode_rem(value):\n",
    "    \"\"\"returns score of REM percent\"\"\"\n",
    "    if value >= 0.2 and value <= 0.25:\n",
    "        return 1\n",
    "    else:\n",
    "        return 0"
   ]
  },
  {
   "cell_type": "markdown",
   "metadata": {},
   "source": [
    "## Light Sleep\n",
    "Light Sleep should be a maximum of about 60% but we also don't want too little. "
   ]
  },
  {
   "cell_type": "code",
   "execution_count": 14,
   "metadata": {},
   "outputs": [],
   "source": [
    "def encode_light(value):\n",
    "    \"\"\"returns score of light percent\"\"\"\n",
    "    if value >= 0.4 and value <= 0.6:\n",
    "        return 1\n",
    "    else:\n",
    "        return 0"
   ]
  },
  {
   "cell_type": "markdown",
   "metadata": {},
   "source": [
    "## Deep Sleep\n",
    "Deep sleep should encompass about 12% to 23% of your night."
   ]
  },
  {
   "cell_type": "code",
   "execution_count": 15,
   "metadata": {},
   "outputs": [],
   "source": [
    "def encode_deep(value):\n",
    "    \"\"\"returns score of deep percent\"\"\"\n",
    "    if value >= 0.12 and value <= 0.23:\n",
    "        return 1\n",
    "    else:\n",
    "        return 0"
   ]
  },
  {
   "cell_type": "markdown",
   "metadata": {},
   "source": [
    "## SOL\n",
    "The National Sleep Foundation says 30 minutes or less is a marker for good sleep quality. However, looking at the distribution of values, perhaps we should alter that threshold since many of the participants fall asleep faster than that."
   ]
  },
  {
   "cell_type": "code",
   "execution_count": 16,
   "metadata": {},
   "outputs": [
    {
     "data": {
      "image/png": "[encoded data removed]",
      "text/plain": [
       "<Figure size 864x288 with 2 Axes>"
      ]
     },
     "metadata": {
      "needs_background": "light"
     },
     "output_type": "display_data"
    }
   ],
   "source": [
    "plot_distribution(srsq,\"sol\")"
   ]
  },
  {
   "cell_type": "code",
   "execution_count": 17,
   "metadata": {},
   "outputs": [],
   "source": [
    "def encode_sol(value):\n",
    "    \"\"\"returns score of sol\"\"\"\n",
    "    if value < 15:\n",
    "        return 1\n",
    "    else:\n",
    "        return 0"
   ]
  },
  {
   "cell_type": "markdown",
   "metadata": {},
   "source": [
    "## NAW\n",
    "We group NAW into a good and bad category based on [Ohayon et al., 2017](https://www.sciencedirect.com/science/article/pii/S2352721816301309?casa_token=56p9duOGsL4AAAAA:tmPWLtzq0Z9zGGq-w0qWBXJT-VEDeoZ0dOwL06G-BwbWMHA3uT_KBjxd08HPyFZWNqIpm_0m).\n",
    "\n",
    "| NAW | Rating | Value |\n",
    "| --- | --- | --- |\n",
    "| 0 or 1 | Good | 1 |\n",
    "| >1 | Bad | 0 |"
   ]
  },
  {
   "cell_type": "code",
   "execution_count": 18,
   "metadata": {},
   "outputs": [],
   "source": [
    "def encode_naw(value):\n",
    "    \"\"\"returns score of naw\"\"\"\n",
    "    if value < 2:\n",
    "        return 1\n",
    "    else:\n",
    "        return 0"
   ]
  },
  {
   "cell_type": "markdown",
   "metadata": {},
   "source": [
    "## Restfulness\n",
    "Restfulness is one of the five metrics that is rated on a 0 to 3 Likert scale. So we can create a more generic function here for later use."
   ]
  },
  {
   "cell_type": "code",
   "execution_count": 19,
   "metadata": {},
   "outputs": [],
   "source": [
    "def encode_likert(value):\n",
    "    \"\"\"returns score for a 0-3 Likert measurement\"\"\"\n",
    "    if value > 1:\n",
    "        return 1\n",
    "    else:\n",
    "        return 0"
   ]
  },
  {
   "cell_type": "markdown",
   "metadata": {},
   "source": [
    "## Encoding Sleep Quality"
   ]
  },
  {
   "cell_type": "markdown",
   "metadata": {},
   "source": [
    "### Self-Report Sleep\n",
    "We start with self-report metrics of sleep quality."
   ]
  },
  {
   "cell_type": "code",
   "execution_count": 20,
   "metadata": {},
   "outputs": [
    {
     "data": {
      "text/html": [
       "<div>\n",
       "<style scoped>\n",
       "    .dataframe tbody tr th:only-of-type {\n",
       "        vertical-align: middle;\n",
       "    }\n",
       "\n",
       "    .dataframe tbody tr th {\n",
       "        vertical-align: top;\n",
       "    }\n",
       "\n",
       "    .dataframe thead th {\n",
       "        text-align: right;\n",
       "    }\n",
       "</style>\n",
       "<table border=\"1\" class=\"dataframe\">\n",
       "  <thead>\n",
       "    <tr style=\"text-align: right;\">\n",
       "      <th></th>\n",
       "      <th>timestamp</th>\n",
       "      <th>end_date</th>\n",
       "      <th>beiwe</th>\n",
       "      <th>redcap</th>\n",
       "      <th>beacon</th>\n",
       "      <th>tst</th>\n",
       "      <th>sol</th>\n",
       "      <th>naw</th>\n",
       "      <th>restful</th>\n",
       "      <th>tst_binary</th>\n",
       "      <th>sol_binary</th>\n",
       "      <th>naw_binary</th>\n",
       "      <th>restful_binary</th>\n",
       "    </tr>\n",
       "  </thead>\n",
       "  <tbody>\n",
       "    <tr>\n",
       "      <th>0</th>\n",
       "      <td>2020-05-13 09:10:27</td>\n",
       "      <td>2020-05-13</td>\n",
       "      <td>qh34m4r9</td>\n",
       "      <td>68</td>\n",
       "      <td>19.0</td>\n",
       "      <td>8.0</td>\n",
       "      <td>20.0</td>\n",
       "      <td>2.0</td>\n",
       "      <td>3.0</td>\n",
       "      <td>1</td>\n",
       "      <td>0</td>\n",
       "      <td>0</td>\n",
       "      <td>1</td>\n",
       "    </tr>\n",
       "    <tr>\n",
       "      <th>1</th>\n",
       "      <td>2020-05-13 09:15:49</td>\n",
       "      <td>2020-05-13</td>\n",
       "      <td>awa8uces</td>\n",
       "      <td>28</td>\n",
       "      <td>26.0</td>\n",
       "      <td>2.0</td>\n",
       "      <td>10.0</td>\n",
       "      <td>3.0</td>\n",
       "      <td>1.0</td>\n",
       "      <td>0</td>\n",
       "      <td>1</td>\n",
       "      <td>0</td>\n",
       "      <td>0</td>\n",
       "    </tr>\n",
       "    <tr>\n",
       "      <th>2</th>\n",
       "      <td>2020-05-13 09:42:19</td>\n",
       "      <td>2020-05-13</td>\n",
       "      <td>xxvnhauv</td>\n",
       "      <td>21</td>\n",
       "      <td>22.0</td>\n",
       "      <td>6.0</td>\n",
       "      <td>30.0</td>\n",
       "      <td>3.0</td>\n",
       "      <td>1.0</td>\n",
       "      <td>0</td>\n",
       "      <td>0</td>\n",
       "      <td>0</td>\n",
       "      <td>0</td>\n",
       "    </tr>\n",
       "    <tr>\n",
       "      <th>3</th>\n",
       "      <td>2020-05-13 09:43:27</td>\n",
       "      <td>2020-05-13</td>\n",
       "      <td>rvhdl2la</td>\n",
       "      <td>29</td>\n",
       "      <td>NaN</td>\n",
       "      <td>5.3</td>\n",
       "      <td>5.0</td>\n",
       "      <td>2.0</td>\n",
       "      <td>2.0</td>\n",
       "      <td>0</td>\n",
       "      <td>1</td>\n",
       "      <td>0</td>\n",
       "      <td>1</td>\n",
       "    </tr>\n",
       "    <tr>\n",
       "      <th>4</th>\n",
       "      <td>2020-05-13 10:11:51</td>\n",
       "      <td>2020-05-13</td>\n",
       "      <td>q5y11ytm</td>\n",
       "      <td>48</td>\n",
       "      <td>NaN</td>\n",
       "      <td>2.0</td>\n",
       "      <td>10.0</td>\n",
       "      <td>0.0</td>\n",
       "      <td>0.0</td>\n",
       "      <td>0</td>\n",
       "      <td>1</td>\n",
       "      <td>1</td>\n",
       "      <td>0</td>\n",
       "    </tr>\n",
       "  </tbody>\n",
       "</table>\n",
       "</div>"
      ],
      "text/plain": [
       "            timestamp   end_date     beiwe  redcap  beacon  tst   sol  naw  \\\n",
       "0 2020-05-13 09:10:27 2020-05-13  qh34m4r9      68    19.0  8.0  20.0  2.0   \n",
       "1 2020-05-13 09:15:49 2020-05-13  awa8uces      28    26.0  2.0  10.0  3.0   \n",
       "2 2020-05-13 09:42:19 2020-05-13  xxvnhauv      21    22.0  6.0  30.0  3.0   \n",
       "3 2020-05-13 09:43:27 2020-05-13  rvhdl2la      29     NaN  5.3   5.0  2.0   \n",
       "4 2020-05-13 10:11:51 2020-05-13  q5y11ytm      48     NaN  2.0  10.0  0.0   \n",
       "\n",
       "   restful  tst_binary  sol_binary  naw_binary  restful_binary  \n",
       "0      3.0           1           0           0               1  \n",
       "1      1.0           0           1           0               0  \n",
       "2      1.0           0           0           0               0  \n",
       "3      2.0           0           1           0               1  \n",
       "4      0.0           0           1           1               0  "
      ]
     },
     "execution_count": 20,
     "metadata": {},
     "output_type": "execute_result"
    }
   ],
   "source": [
    "for sm, f in zip([\"tst\",\"sol\",\"naw\",\"restful\"], [encode_tst,encode_sol,encode_naw,encode_likert]):\n",
    "    srsq[f\"{sm}_binary\"] = srsq.apply(lambda x: f(x[sm]), axis=\"columns\")\n",
    "    \n",
    "srsq.head()"
   ]
  },
  {
   "cell_type": "markdown",
   "metadata": {},
   "source": [
    "### Fitbit Sleep\n",
    "And now Fitbit-measured sleep quality."
   ]
  },
  {
   "cell_type": "code",
   "execution_count": 21,
   "metadata": {},
   "outputs": [
    {
     "data": {
      "text/html": [
       "<div>\n",
       "<style scoped>\n",
       "    .dataframe tbody tr th:only-of-type {\n",
       "        vertical-align: middle;\n",
       "    }\n",
       "\n",
       "    .dataframe tbody tr th {\n",
       "        vertical-align: top;\n",
       "    }\n",
       "\n",
       "    .dataframe thead th {\n",
       "        text-align: right;\n",
       "    }\n",
       "</style>\n",
       "<table border=\"1\" class=\"dataframe\">\n",
       "  <thead>\n",
       "    <tr style=\"text-align: right;\">\n",
       "      <th></th>\n",
       "      <th>start_time</th>\n",
       "      <th>end_time</th>\n",
       "      <th>start_date</th>\n",
       "      <th>end_date</th>\n",
       "      <th>beiwe</th>\n",
       "      <th>redcap</th>\n",
       "      <th>beacon</th>\n",
       "      <th>tst</th>\n",
       "      <th>se</th>\n",
       "      <th>rem_percent</th>\n",
       "      <th>light_percent</th>\n",
       "      <th>deep_percent</th>\n",
       "      <th>tst_binary</th>\n",
       "      <th>se_binary</th>\n",
       "      <th>rem_percent_binary</th>\n",
       "      <th>light_percent_binary</th>\n",
       "      <th>deep_percent_binary</th>\n",
       "    </tr>\n",
       "  </thead>\n",
       "  <tbody>\n",
       "    <tr>\n",
       "      <th>0</th>\n",
       "      <td>2020-05-14 00:27:00</td>\n",
       "      <td>2020-05-14 07:13:00</td>\n",
       "      <td>2020-05-14</td>\n",
       "      <td>2020-05-14</td>\n",
       "      <td>hfttkth7</td>\n",
       "      <td>NaN</td>\n",
       "      <td>NaN</td>\n",
       "      <td>6.316667</td>\n",
       "      <td>93.349754</td>\n",
       "      <td>0.216359</td>\n",
       "      <td>0.562005</td>\n",
       "      <td>0.221636</td>\n",
       "      <td>0</td>\n",
       "      <td>1</td>\n",
       "      <td>1</td>\n",
       "      <td>1</td>\n",
       "      <td>1</td>\n",
       "    </tr>\n",
       "    <tr>\n",
       "      <th>1</th>\n",
       "      <td>2020-05-14 23:53:30</td>\n",
       "      <td>2020-05-15 08:06:30</td>\n",
       "      <td>2020-05-14</td>\n",
       "      <td>2020-05-15</td>\n",
       "      <td>hfttkth7</td>\n",
       "      <td>NaN</td>\n",
       "      <td>NaN</td>\n",
       "      <td>6.533333</td>\n",
       "      <td>79.513185</td>\n",
       "      <td>0.119898</td>\n",
       "      <td>0.637755</td>\n",
       "      <td>0.242347</td>\n",
       "      <td>0</td>\n",
       "      <td>0</td>\n",
       "      <td>0</td>\n",
       "      <td>0</td>\n",
       "      <td>0</td>\n",
       "    </tr>\n",
       "    <tr>\n",
       "      <th>2</th>\n",
       "      <td>2020-05-15 23:28:00</td>\n",
       "      <td>2020-05-16 04:57:00</td>\n",
       "      <td>2020-05-15</td>\n",
       "      <td>2020-05-16</td>\n",
       "      <td>hfttkth7</td>\n",
       "      <td>NaN</td>\n",
       "      <td>NaN</td>\n",
       "      <td>4.783333</td>\n",
       "      <td>87.234043</td>\n",
       "      <td>0.174216</td>\n",
       "      <td>0.662021</td>\n",
       "      <td>0.163763</td>\n",
       "      <td>0</td>\n",
       "      <td>1</td>\n",
       "      <td>0</td>\n",
       "      <td>0</td>\n",
       "      <td>1</td>\n",
       "    </tr>\n",
       "    <tr>\n",
       "      <th>3</th>\n",
       "      <td>2020-05-17 02:01:30</td>\n",
       "      <td>2020-05-17 09:28:30</td>\n",
       "      <td>2020-05-17</td>\n",
       "      <td>2020-05-17</td>\n",
       "      <td>hfttkth7</td>\n",
       "      <td>NaN</td>\n",
       "      <td>NaN</td>\n",
       "      <td>6.716667</td>\n",
       "      <td>90.156600</td>\n",
       "      <td>0.205955</td>\n",
       "      <td>0.600496</td>\n",
       "      <td>0.193548</td>\n",
       "      <td>0</td>\n",
       "      <td>1</td>\n",
       "      <td>1</td>\n",
       "      <td>0</td>\n",
       "      <td>1</td>\n",
       "    </tr>\n",
       "    <tr>\n",
       "      <th>4</th>\n",
       "      <td>2020-05-18 00:24:00</td>\n",
       "      <td>2020-05-18 07:20:00</td>\n",
       "      <td>2020-05-18</td>\n",
       "      <td>2020-05-18</td>\n",
       "      <td>hfttkth7</td>\n",
       "      <td>NaN</td>\n",
       "      <td>NaN</td>\n",
       "      <td>5.850000</td>\n",
       "      <td>84.375000</td>\n",
       "      <td>0.250712</td>\n",
       "      <td>0.475783</td>\n",
       "      <td>0.273504</td>\n",
       "      <td>0</td>\n",
       "      <td>0</td>\n",
       "      <td>0</td>\n",
       "      <td>1</td>\n",
       "      <td>0</td>\n",
       "    </tr>\n",
       "  </tbody>\n",
       "</table>\n",
       "</div>"
      ],
      "text/plain": [
       "           start_time            end_time start_date   end_date     beiwe  \\\n",
       "0 2020-05-14 00:27:00 2020-05-14 07:13:00 2020-05-14 2020-05-14  hfttkth7   \n",
       "1 2020-05-14 23:53:30 2020-05-15 08:06:30 2020-05-14 2020-05-15  hfttkth7   \n",
       "2 2020-05-15 23:28:00 2020-05-16 04:57:00 2020-05-15 2020-05-16  hfttkth7   \n",
       "3 2020-05-17 02:01:30 2020-05-17 09:28:30 2020-05-17 2020-05-17  hfttkth7   \n",
       "4 2020-05-18 00:24:00 2020-05-18 07:20:00 2020-05-18 2020-05-18  hfttkth7   \n",
       "\n",
       "   redcap  beacon       tst         se  rem_percent  light_percent  \\\n",
       "0     NaN     NaN  6.316667  93.349754     0.216359       0.562005   \n",
       "1     NaN     NaN  6.533333  79.513185     0.119898       0.637755   \n",
       "2     NaN     NaN  4.783333  87.234043     0.174216       0.662021   \n",
       "3     NaN     NaN  6.716667  90.156600     0.205955       0.600496   \n",
       "4     NaN     NaN  5.850000  84.375000     0.250712       0.475783   \n",
       "\n",
       "   deep_percent  tst_binary  se_binary  rem_percent_binary  \\\n",
       "0      0.221636           0          1                   1   \n",
       "1      0.242347           0          0                   0   \n",
       "2      0.163763           0          1                   0   \n",
       "3      0.193548           0          1                   1   \n",
       "4      0.273504           0          0                   0   \n",
       "\n",
       "   light_percent_binary  deep_percent_binary  \n",
       "0                     1                    1  \n",
       "1                     0                    0  \n",
       "2                     0                    1  \n",
       "3                     0                    1  \n",
       "4                     1                    0  "
      ]
     },
     "execution_count": 21,
     "metadata": {},
     "output_type": "execute_result"
    }
   ],
   "source": [
    "for sm, f in zip([\"tst\",\"se\",\"rem_percent\",\"light_percent\",\"deep_percent\"], [encode_tst,encode_se,encode_rem,encode_light,encode_deep]):\n",
    "    fbsq[f\"{sm}_binary\"] = fbsq.apply(lambda x: f(x[sm]), axis=\"columns\")\n",
    "    \n",
    "fbsq.head()"
   ]
  },
  {
   "cell_type": "markdown",
   "metadata": {},
   "source": [
    "<a id=\"feature_engineering\" ></a>"
   ]
  },
  {
   "cell_type": "markdown",
   "metadata": {},
   "source": [
    "# Feature Engineering\n",
    "In the following cells, we encode the various features to binary outcomes and combine the features into one dataset. "
   ]
  },
  {
   "cell_type": "markdown",
   "metadata": {},
   "source": [
    "## Encoding\n",
    "We encode each of the features into a binary outcome."
   ]
  },
  {
   "cell_type": "markdown",
   "metadata": {},
   "source": [
    "### Activity\n",
    "\n",
    "#### Activity Level\n",
    "Encoding the activity levels can be accomplished by looking at recommendations from the American College of Sports Medicine. ACSM states that adults should do:\n",
    "* Moderate Intensity: 150 - 300 minutes per week, or\n",
    "* Vigorous: 75 - 150 minutes per week, or\n",
    "* Combination\n",
    "\n",
    "Fitbit divides activity level into multiple categories that are not exactly the same label as what the ACSM states. While the cutoff points are not very clear, they are most likely:\n",
    "* Sedentary: MET < 1\n",
    "* Light: MET < 3\n",
    "* Fairly: MET < 6 (ACSM Moderate)\n",
    "* Very: > 6 (ACSM Vigorous)\n",
    "\n",
    "We look on a per-day basis so the cutoffs discussed above can be altered:\n",
    "* Moderate: 21 - 43 minutes per day\n",
    "* Vigorous: 11 - 21 minutes per day\n",
    "\n",
    "We will start with what seems the most straightforward separation: getting enough moderate and vigorous activity per day. Based on the guidelines, one needs twice as many moderate minutes as vigorous minutes of activity. In order to address the \"combination\" category, we can multiply the number of vigorous minutes by 2 and add this value to the moderately active minutes which will allow us to compare this value to the moderately active minutes threshold. "
   ]
  },
  {
   "cell_type": "code",
   "execution_count": 22,
   "metadata": {},
   "outputs": [],
   "source": [
    "def encode_activity_level(row, moderate_threshold=21):\n",
    "    \"\"\"returns score of activity level\"\"\"\n",
    "    if row[\"fairly_active_minutes\"] + row[\"very_active_minutes\"]*2 > moderate_threshold:\n",
    "        return 1\n",
    "    else:\n",
    "        return 0"
   ]
  },
  {
   "cell_type": "markdown",
   "metadata": {},
   "source": [
    "#### Number of Steps\n",
    "An attainable goal that all adults should strive for is about 10,000 steps a day"
   ]
  },
  {
   "cell_type": "code",
   "execution_count": 23,
   "metadata": {},
   "outputs": [],
   "source": [
    "def econde_steps(value):\n",
    "    if value > 10000:\n",
    "        return 1\n",
    "    else:\n",
    "        return 0"
   ]
  },
  {
   "cell_type": "code",
   "execution_count": 24,
   "metadata": {},
   "outputs": [
    {
     "data": {
      "text/html": [
       "<div>\n",
       "<style scoped>\n",
       "    .dataframe tbody tr th:only-of-type {\n",
       "        vertical-align: middle;\n",
       "    }\n",
       "\n",
       "    .dataframe tbody tr th {\n",
       "        vertical-align: top;\n",
       "    }\n",
       "\n",
       "    .dataframe thead th {\n",
       "        text-align: right;\n",
       "    }\n",
       "</style>\n",
       "<table border=\"1\" class=\"dataframe\">\n",
       "  <thead>\n",
       "    <tr style=\"text-align: right;\">\n",
       "      <th></th>\n",
       "      <th>date</th>\n",
       "      <th>beiwe</th>\n",
       "      <th>steps</th>\n",
       "      <th>sedentary_minutes</th>\n",
       "      <th>lightly_active_minutes</th>\n",
       "      <th>fairly_active_minutes</th>\n",
       "      <th>very_active_minutes</th>\n",
       "      <th>active_binary</th>\n",
       "      <th>steps_binary</th>\n",
       "    </tr>\n",
       "  </thead>\n",
       "  <tbody>\n",
       "    <tr>\n",
       "      <th>0</th>\n",
       "      <td>2020-05-13</td>\n",
       "      <td>hfttkth7</td>\n",
       "      <td>9207</td>\n",
       "      <td>1241</td>\n",
       "      <td>70</td>\n",
       "      <td>118</td>\n",
       "      <td>11</td>\n",
       "      <td>1</td>\n",
       "      <td>0</td>\n",
       "    </tr>\n",
       "    <tr>\n",
       "      <th>1</th>\n",
       "      <td>2020-05-14</td>\n",
       "      <td>hfttkth7</td>\n",
       "      <td>15207</td>\n",
       "      <td>614</td>\n",
       "      <td>263</td>\n",
       "      <td>134</td>\n",
       "      <td>23</td>\n",
       "      <td>1</td>\n",
       "      <td>1</td>\n",
       "    </tr>\n",
       "    <tr>\n",
       "      <th>2</th>\n",
       "      <td>2020-05-15</td>\n",
       "      <td>hfttkth7</td>\n",
       "      <td>14556</td>\n",
       "      <td>577</td>\n",
       "      <td>205</td>\n",
       "      <td>57</td>\n",
       "      <td>108</td>\n",
       "      <td>1</td>\n",
       "      <td>1</td>\n",
       "    </tr>\n",
       "    <tr>\n",
       "      <th>3</th>\n",
       "      <td>2020-05-16</td>\n",
       "      <td>hfttkth7</td>\n",
       "      <td>18453</td>\n",
       "      <td>760</td>\n",
       "      <td>176</td>\n",
       "      <td>24</td>\n",
       "      <td>151</td>\n",
       "      <td>1</td>\n",
       "      <td>1</td>\n",
       "    </tr>\n",
       "    <tr>\n",
       "      <th>4</th>\n",
       "      <td>2020-05-17</td>\n",
       "      <td>hfttkth7</td>\n",
       "      <td>15425</td>\n",
       "      <td>605</td>\n",
       "      <td>207</td>\n",
       "      <td>50</td>\n",
       "      <td>131</td>\n",
       "      <td>1</td>\n",
       "      <td>1</td>\n",
       "    </tr>\n",
       "  </tbody>\n",
       "</table>\n",
       "</div>"
      ],
      "text/plain": [
       "        date     beiwe  steps  sedentary_minutes  lightly_active_minutes  \\\n",
       "0 2020-05-13  hfttkth7   9207               1241                      70   \n",
       "1 2020-05-14  hfttkth7  15207                614                     263   \n",
       "2 2020-05-15  hfttkth7  14556                577                     205   \n",
       "3 2020-05-16  hfttkth7  18453                760                     176   \n",
       "4 2020-05-17  hfttkth7  15425                605                     207   \n",
       "\n",
       "   fairly_active_minutes  very_active_minutes  active_binary  steps_binary  \n",
       "0                    118                   11              1             0  \n",
       "1                    134                   23              1             1  \n",
       "2                     57                  108              1             1  \n",
       "3                     24                  151              1             1  \n",
       "4                     50                  131              1             1  "
      ]
     },
     "execution_count": 24,
     "metadata": {},
     "output_type": "execute_result"
    }
   ],
   "source": [
    "activity[\"active_binary\"] = activity.apply(lambda row: encode_activity_level(row), axis=\"columns\")\n",
    "activity[\"steps_binary\"] = activity.apply(lambda x: econde_steps(x[\"steps\"]), axis=\"columns\")\n",
    "activity.head()"
   ]
  },
  {
   "cell_type": "markdown",
   "metadata": {},
   "source": [
    "### Mood\n",
    "Each of the mood scores (except for `energy`) are on the same Likert scale as `restful` so we can just use that function to encode the mood scores. For `energy`, there are only two negative responses so we will consider the `Neutral` response as a positive score which allows us to use the same function."
   ]
  },
  {
   "cell_type": "code",
   "execution_count": 25,
   "metadata": {},
   "outputs": [
    {
     "data": {
      "text/html": [
       "<div>\n",
       "<style scoped>\n",
       "    .dataframe tbody tr th:only-of-type {\n",
       "        vertical-align: middle;\n",
       "    }\n",
       "\n",
       "    .dataframe tbody tr th {\n",
       "        vertical-align: top;\n",
       "    }\n",
       "\n",
       "    .dataframe thead th {\n",
       "        text-align: right;\n",
       "    }\n",
       "</style>\n",
       "<table border=\"1\" class=\"dataframe\">\n",
       "  <thead>\n",
       "    <tr style=\"text-align: right;\">\n",
       "      <th></th>\n",
       "      <th>timestamp</th>\n",
       "      <th>beiwe</th>\n",
       "      <th>content</th>\n",
       "      <th>stress</th>\n",
       "      <th>lonely</th>\n",
       "      <th>sad</th>\n",
       "      <th>energy</th>\n",
       "      <th>redcap</th>\n",
       "      <th>beacon</th>\n",
       "      <th>date</th>\n",
       "      <th>content_binary</th>\n",
       "      <th>stress_binary</th>\n",
       "      <th>lonely_binary</th>\n",
       "      <th>sad_binary</th>\n",
       "      <th>energy_binary</th>\n",
       "    </tr>\n",
       "  </thead>\n",
       "  <tbody>\n",
       "    <tr>\n",
       "      <th>0</th>\n",
       "      <td>2020-05-13 19:00:23</td>\n",
       "      <td>awa8uces</td>\n",
       "      <td>1.0</td>\n",
       "      <td>1.0</td>\n",
       "      <td>1.0</td>\n",
       "      <td>3.0</td>\n",
       "      <td>2.0</td>\n",
       "      <td>28</td>\n",
       "      <td>26.0</td>\n",
       "      <td>2020-05-13</td>\n",
       "      <td>0</td>\n",
       "      <td>0</td>\n",
       "      <td>0</td>\n",
       "      <td>1</td>\n",
       "      <td>1</td>\n",
       "    </tr>\n",
       "    <tr>\n",
       "      <th>1</th>\n",
       "      <td>2020-05-13 19:21:32</td>\n",
       "      <td>lkkjddam</td>\n",
       "      <td>0.0</td>\n",
       "      <td>2.0</td>\n",
       "      <td>3.0</td>\n",
       "      <td>1.0</td>\n",
       "      <td>0.0</td>\n",
       "      <td>12</td>\n",
       "      <td>21.0</td>\n",
       "      <td>2020-05-13</td>\n",
       "      <td>0</td>\n",
       "      <td>1</td>\n",
       "      <td>1</td>\n",
       "      <td>0</td>\n",
       "      <td>0</td>\n",
       "    </tr>\n",
       "    <tr>\n",
       "      <th>2</th>\n",
       "      <td>2020-05-13 19:30:38</td>\n",
       "      <td>rvhdl2la</td>\n",
       "      <td>2.0</td>\n",
       "      <td>1.0</td>\n",
       "      <td>0.0</td>\n",
       "      <td>0.0</td>\n",
       "      <td>1.0</td>\n",
       "      <td>29</td>\n",
       "      <td>NaN</td>\n",
       "      <td>2020-05-13</td>\n",
       "      <td>1</td>\n",
       "      <td>0</td>\n",
       "      <td>0</td>\n",
       "      <td>0</td>\n",
       "      <td>0</td>\n",
       "    </tr>\n",
       "    <tr>\n",
       "      <th>3</th>\n",
       "      <td>2020-05-13 20:07:04</td>\n",
       "      <td>xxvnhauv</td>\n",
       "      <td>1.0</td>\n",
       "      <td>3.0</td>\n",
       "      <td>1.0</td>\n",
       "      <td>2.0</td>\n",
       "      <td>0.0</td>\n",
       "      <td>21</td>\n",
       "      <td>22.0</td>\n",
       "      <td>2020-05-13</td>\n",
       "      <td>0</td>\n",
       "      <td>1</td>\n",
       "      <td>0</td>\n",
       "      <td>1</td>\n",
       "      <td>0</td>\n",
       "    </tr>\n",
       "    <tr>\n",
       "      <th>4</th>\n",
       "      <td>2020-05-13 20:25:07</td>\n",
       "      <td>xdbdrk6e</td>\n",
       "      <td>2.0</td>\n",
       "      <td>1.0</td>\n",
       "      <td>2.0</td>\n",
       "      <td>1.0</td>\n",
       "      <td>3.0</td>\n",
       "      <td>23</td>\n",
       "      <td>24.0</td>\n",
       "      <td>2020-05-13</td>\n",
       "      <td>1</td>\n",
       "      <td>0</td>\n",
       "      <td>1</td>\n",
       "      <td>0</td>\n",
       "      <td>1</td>\n",
       "    </tr>\n",
       "  </tbody>\n",
       "</table>\n",
       "</div>"
      ],
      "text/plain": [
       "            timestamp     beiwe  content  stress  lonely  sad  energy  redcap  \\\n",
       "0 2020-05-13 19:00:23  awa8uces      1.0     1.0     1.0  3.0     2.0      28   \n",
       "1 2020-05-13 19:21:32  lkkjddam      0.0     2.0     3.0  1.0     0.0      12   \n",
       "2 2020-05-13 19:30:38  rvhdl2la      2.0     1.0     0.0  0.0     1.0      29   \n",
       "3 2020-05-13 20:07:04  xxvnhauv      1.0     3.0     1.0  2.0     0.0      21   \n",
       "4 2020-05-13 20:25:07  xdbdrk6e      2.0     1.0     2.0  1.0     3.0      23   \n",
       "\n",
       "   beacon       date  content_binary  stress_binary  lonely_binary  \\\n",
       "0    26.0 2020-05-13               0              0              0   \n",
       "1    21.0 2020-05-13               0              1              1   \n",
       "2     NaN 2020-05-13               1              0              0   \n",
       "3    22.0 2020-05-13               0              1              0   \n",
       "4    24.0 2020-05-13               1              0              1   \n",
       "\n",
       "   sad_binary  energy_binary  \n",
       "0           1              1  \n",
       "1           0              0  \n",
       "2           0              0  \n",
       "3           1              0  \n",
       "4           0              1  "
      ]
     },
     "execution_count": 25,
     "metadata": {},
     "output_type": "execute_result"
    }
   ],
   "source": [
    "for variable in [\"content\",\"stress\",\"lonely\",\"sad\",\"energy\"]:\n",
    "    mood[f\"{variable}_binary\"] = mood.apply(lambda x: encode_likert(x[variable]), axis=\"columns\")\n",
    "    \n",
    "mood.head()"
   ]
  },
  {
   "cell_type": "markdown",
   "metadata": {},
   "source": [
    "### IEQ\n",
    "For the IEQ data, we want to determine whether the concentrations are low or high depending on the participant's own environment. So the process will involve looking at each of the IEQ measurements from each participant, finding the mean of those nights, and then determining 1 (low) or 0 (high)."
   ]
  },
  {
   "cell_type": "code",
   "execution_count": 26,
   "metadata": {},
   "outputs": [],
   "source": [
    "def encode_ieq(value, threshold):\n",
    "    \"\"\"Scores the IEQ parameter\"\"\"\n",
    "    if value <= threshold:\n",
    "        return 1\n",
    "    else:\n",
    "        return 0"
   ]
  },
  {
   "cell_type": "code",
   "execution_count": 27,
   "metadata": {},
   "outputs": [
    {
     "data": {
      "text/html": [
       "<div>\n",
       "<style scoped>\n",
       "    .dataframe tbody tr th:only-of-type {\n",
       "        vertical-align: middle;\n",
       "    }\n",
       "\n",
       "    .dataframe tbody tr th {\n",
       "        vertical-align: top;\n",
       "    }\n",
       "\n",
       "    .dataframe thead th {\n",
       "        text-align: right;\n",
       "    }\n",
       "</style>\n",
       "<table border=\"1\" class=\"dataframe\">\n",
       "  <thead>\n",
       "    <tr style=\"text-align: right;\">\n",
       "      <th></th>\n",
       "      <th>beacon</th>\n",
       "      <th>beiwe</th>\n",
       "      <th>redcap</th>\n",
       "      <th>start_time</th>\n",
       "      <th>end_time</th>\n",
       "      <th>tvoc_median</th>\n",
       "      <th>lux_median</th>\n",
       "      <th>no2_median</th>\n",
       "      <th>co_median</th>\n",
       "      <th>co2_median</th>\n",
       "      <th>pm2p5_mass_median</th>\n",
       "      <th>temperature_c_median</th>\n",
       "      <th>rh_median</th>\n",
       "      <th>co2_median_binary</th>\n",
       "      <th>co_median_binary</th>\n",
       "      <th>pm2p5_mass_median_binary</th>\n",
       "      <th>no2_median_binary</th>\n",
       "      <th>temperature_c_median_binary</th>\n",
       "      <th>rh_median_binary</th>\n",
       "    </tr>\n",
       "  </thead>\n",
       "  <tbody>\n",
       "    <tr>\n",
       "      <th>0</th>\n",
       "      <td>1</td>\n",
       "      <td>kyj367pi</td>\n",
       "      <td>10</td>\n",
       "      <td>2020-06-10 23:05:00</td>\n",
       "      <td>2020-06-11 09:14:00</td>\n",
       "      <td>71.566667</td>\n",
       "      <td>4.958996e-16</td>\n",
       "      <td>1.123554</td>\n",
       "      <td>1.607322</td>\n",
       "      <td>506.381100</td>\n",
       "      <td>4.176611</td>\n",
       "      <td>28.000000</td>\n",
       "      <td>39.483333</td>\n",
       "      <td>1</td>\n",
       "      <td>0</td>\n",
       "      <td>1</td>\n",
       "      <td>1</td>\n",
       "      <td>0</td>\n",
       "      <td>1</td>\n",
       "    </tr>\n",
       "    <tr>\n",
       "      <th>1</th>\n",
       "      <td>1</td>\n",
       "      <td>kyj367pi</td>\n",
       "      <td>10</td>\n",
       "      <td>2020-06-11 23:12:30</td>\n",
       "      <td>2020-06-12 09:14:30</td>\n",
       "      <td>216.916667</td>\n",
       "      <td>4.958996e-16</td>\n",
       "      <td>1.211445</td>\n",
       "      <td>1.169600</td>\n",
       "      <td>530.170098</td>\n",
       "      <td>10.268426</td>\n",
       "      <td>27.500000</td>\n",
       "      <td>40.436667</td>\n",
       "      <td>1</td>\n",
       "      <td>0</td>\n",
       "      <td>0</td>\n",
       "      <td>1</td>\n",
       "      <td>1</td>\n",
       "      <td>1</td>\n",
       "    </tr>\n",
       "    <tr>\n",
       "      <th>2</th>\n",
       "      <td>1</td>\n",
       "      <td>kyj367pi</td>\n",
       "      <td>10</td>\n",
       "      <td>2020-06-17 22:55:30</td>\n",
       "      <td>2020-06-18 08:51:30</td>\n",
       "      <td>319.646667</td>\n",
       "      <td>4.958996e-16</td>\n",
       "      <td>1.015245</td>\n",
       "      <td>0.591232</td>\n",
       "      <td>515.493173</td>\n",
       "      <td>5.591069</td>\n",
       "      <td>27.588333</td>\n",
       "      <td>45.706667</td>\n",
       "      <td>1</td>\n",
       "      <td>1</td>\n",
       "      <td>1</td>\n",
       "      <td>1</td>\n",
       "      <td>1</td>\n",
       "      <td>1</td>\n",
       "    </tr>\n",
       "    <tr>\n",
       "      <th>3</th>\n",
       "      <td>1</td>\n",
       "      <td>kyj367pi</td>\n",
       "      <td>10</td>\n",
       "      <td>2020-06-18 22:13:30</td>\n",
       "      <td>2020-06-19 08:42:00</td>\n",
       "      <td>309.186667</td>\n",
       "      <td>4.958996e-16</td>\n",
       "      <td>1.422721</td>\n",
       "      <td>0.086787</td>\n",
       "      <td>496.541909</td>\n",
       "      <td>5.670253</td>\n",
       "      <td>28.450000</td>\n",
       "      <td>46.830000</td>\n",
       "      <td>1</td>\n",
       "      <td>1</td>\n",
       "      <td>1</td>\n",
       "      <td>1</td>\n",
       "      <td>0</td>\n",
       "      <td>1</td>\n",
       "    </tr>\n",
       "    <tr>\n",
       "      <th>4</th>\n",
       "      <td>1</td>\n",
       "      <td>kyj367pi</td>\n",
       "      <td>10</td>\n",
       "      <td>2020-06-20 23:06:30</td>\n",
       "      <td>2020-06-21 07:43:00</td>\n",
       "      <td>316.976667</td>\n",
       "      <td>4.958996e-16</td>\n",
       "      <td>1.603600</td>\n",
       "      <td>0.247670</td>\n",
       "      <td>482.574615</td>\n",
       "      <td>3.976247</td>\n",
       "      <td>28.000000</td>\n",
       "      <td>47.862500</td>\n",
       "      <td>1</td>\n",
       "      <td>1</td>\n",
       "      <td>1</td>\n",
       "      <td>0</td>\n",
       "      <td>0</td>\n",
       "      <td>0</td>\n",
       "    </tr>\n",
       "  </tbody>\n",
       "</table>\n",
       "</div>"
      ],
      "text/plain": [
       "   beacon     beiwe  redcap          start_time            end_time  \\\n",
       "0       1  kyj367pi      10 2020-06-10 23:05:00 2020-06-11 09:14:00   \n",
       "1       1  kyj367pi      10 2020-06-11 23:12:30 2020-06-12 09:14:30   \n",
       "2       1  kyj367pi      10 2020-06-17 22:55:30 2020-06-18 08:51:30   \n",
       "3       1  kyj367pi      10 2020-06-18 22:13:30 2020-06-19 08:42:00   \n",
       "4       1  kyj367pi      10 2020-06-20 23:06:30 2020-06-21 07:43:00   \n",
       "\n",
       "   tvoc_median    lux_median  no2_median  co_median  co2_median  \\\n",
       "0    71.566667  4.958996e-16    1.123554   1.607322  506.381100   \n",
       "1   216.916667  4.958996e-16    1.211445   1.169600  530.170098   \n",
       "2   319.646667  4.958996e-16    1.015245   0.591232  515.493173   \n",
       "3   309.186667  4.958996e-16    1.422721   0.086787  496.541909   \n",
       "4   316.976667  4.958996e-16    1.603600   0.247670  482.574615   \n",
       "\n",
       "   pm2p5_mass_median  temperature_c_median  rh_median  co2_median_binary  \\\n",
       "0           4.176611             28.000000  39.483333                  1   \n",
       "1          10.268426             27.500000  40.436667                  1   \n",
       "2           5.591069             27.588333  45.706667                  1   \n",
       "3           5.670253             28.450000  46.830000                  1   \n",
       "4           3.976247             28.000000  47.862500                  1   \n",
       "\n",
       "   co_median_binary  pm2p5_mass_median_binary  no2_median_binary  \\\n",
       "0                 0                         1                  1   \n",
       "1                 0                         0                  1   \n",
       "2                 1                         1                  1   \n",
       "3                 1                         1                  1   \n",
       "4                 1                         1                  0   \n",
       "\n",
       "   temperature_c_median_binary  rh_median_binary  \n",
       "0                            0                 1  \n",
       "1                            1                 1  \n",
       "2                            1                 1  \n",
       "3                            0                 1  \n",
       "4                            0                 0  "
      ]
     },
     "execution_count": 27,
     "metadata": {},
     "output_type": "execute_result"
    }
   ],
   "source": [
    "ieq_bi = pd.DataFrame()\n",
    "stat=\"median\"\n",
    "for pt in ieq[\"beiwe\"].unique():\n",
    "    ieq_pt = ieq[ieq[\"beiwe\"] == pt]\n",
    "    for pollutant in [\"co2\", \"co\",\"pm2p5_mass\",\"no2\",\"temperature_c\",\"rh\"]:\n",
    "        mean_night = np.nanmean(ieq_pt[f\"{pollutant}_{stat}\"])\n",
    "        ieq_pt[f\"{pollutant}_{stat}_binary\"] = ieq_pt.apply(lambda x: encode_ieq(x[f\"{pollutant}_{stat}\"],mean_night), axis=\"columns\")\n",
    "        \n",
    "    ieq_bi = ieq_bi.append(ieq_pt)\n",
    "    \n",
    "ieq_bi.head()"
   ]
  },
  {
   "cell_type": "markdown",
   "metadata": {},
   "source": [
    "## Correcting EMA Timestamp\n",
    "The EMAs are tricky because they can be submitted at any time. So we need to make sure that the `date` column we merge along corresponds to the correct end date of the Fitbit sleep event. "
   ]
  },
  {
   "cell_type": "code",
   "execution_count": 28,
   "metadata": {},
   "outputs": [],
   "source": [
    "def correct_ema_date(ema, fbs, threshold=3, verbose=True):\n",
    "    \"\"\"adds new column corresponding to the day when the participant woke\"\"\"\n",
    "    ema_with_dates = pd.DataFrame()\n",
    "    for pt in ema[\"beiwe\"].unique():\n",
    "        end_dates = []\n",
    "        if verbose:\n",
    "            print(\"Participant:\", pt)\n",
    "        # getting data per participant\n",
    "        ema_pt = ema[ema[\"beiwe\"] == pt]\n",
    "        try:\n",
    "            fb_pt = fbs[fbs[\"beiwe\"] == pt]\n",
    "        except KeyError:\n",
    "            if verbose:\n",
    "                print(\"\\tNo Fitbit Data\")\n",
    "            continue\n",
    "        # looping through submission times\n",
    "        for submission_time in ema_pt[\"timestamp\"]:\n",
    "            end_dates.append(np.nan) # appending to keep same length\n",
    "            fb_since = fb_pt[fb_pt[\"start_time\"] > submission_time] # Fitbit sleep data since the EMA was submitted\n",
    "            try:\n",
    "                dt = fb_since[\"start_time\"].iloc[0] - submission_time # get time difference between when the EMA was submitted and the Fitbit started logging data\n",
    "            except IndexError:\n",
    "                if verbose:\n",
    "                    print(\"\\tNo Fitbit Data after EMA submission of\", submission_time.date())\n",
    "                continue\n",
    "            if dt < timedelta(hours=threshold): # if the EMA was submitted a certain time before the sleep event, add the actual date\n",
    "                if submission_time.hour > 12:\n",
    "                    end_dates[-1] = submission_time.date() + timedelta(days=1)\n",
    "                else:\n",
    "                    end_dates[-1] = submission_time.date()\n",
    "                    \n",
    "        ema_pt[\"end_date\"] = pd.to_datetime(end_dates)\n",
    "        if verbose:\n",
    "            print((ema_pt[\"date\"] == ema_pt[\"end_date\"]).value_counts())\n",
    "            print()\n",
    "        ema_with_dates = ema_with_dates.append(ema_pt)\n",
    "        \n",
    "    return ema_with_dates"
   ]
  },
  {
   "cell_type": "markdown",
   "metadata": {},
   "source": [
    "We get a new mood dataframe with the `end_date` column which we will merge along."
   ]
  },
  {
   "cell_type": "code",
   "execution_count": 29,
   "metadata": {
    "scrolled": false
   },
   "outputs": [],
   "source": [
    "new_mood = correct_ema_date(mood, fbsq, threshold=5, verbose=False)"
   ]
  },
  {
   "cell_type": "markdown",
   "metadata": {},
   "source": [
    "## Correcting Activity Date\n",
    "The activity date corresponds to the day on which the participant was that active. Since all the other dates are relative to when the participant wakes up, we have to add a day to the activity data."
   ]
  },
  {
   "cell_type": "code",
   "execution_count": 30,
   "metadata": {},
   "outputs": [],
   "source": [
    "activity[\"end_date\"] = activity[\"date\"] + timedelta(days=1)"
   ]
  },
  {
   "cell_type": "markdown",
   "metadata": {},
   "source": [
    "## Combining\n",
    "Now that we have encoded all the target variables, we can combine them in different datasets to get a better sense of the available data for prediction. The common link between all the datasets will be the IEQ dataset since we are aiming to use those variables as a novel approach to prediction."
   ]
  },
  {
   "cell_type": "markdown",
   "metadata": {},
   "source": [
    "### IEQ Only\n",
    "Considering the base case: just IEQ observations."
   ]
  },
  {
   "cell_type": "code",
   "execution_count": 31,
   "metadata": {},
   "outputs": [
    {
     "name": "stdout",
     "output_type": "stream",
     "text": [
      "Number of observations: 551\n"
     ]
    }
   ],
   "source": [
    "print(\"Number of observations:\",len(ieq_bi))"
   ]
  },
  {
   "cell_type": "markdown",
   "metadata": {},
   "source": [
    "### Activity and IEQ"
   ]
  },
  {
   "cell_type": "code",
   "execution_count": 32,
   "metadata": {},
   "outputs": [
    {
     "name": "stdout",
     "output_type": "stream",
     "text": [
      "Number of observations: 508\n"
     ]
    }
   ],
   "source": [
    "ieq_bi[\"end_date\"] = pd.to_datetime(ieq_bi[\"end_time\"].dt.date)\n",
    "ieq_and_activity = ieq_bi.merge(right=activity,on=[\"end_date\",\"beiwe\"])\n",
    "print(\"Number of observations:\",len(ieq_and_activity))"
   ]
  },
  {
   "cell_type": "markdown",
   "metadata": {},
   "source": [
    "<div class=\"alert alert-block alert-success\">\n",
    " \n",
    "By including activity data, we lose 43 observations from the original target dataset. This percent loss might even be smaller considering we haven't combined the data with the target datasets yet.\n",
    "    \n",
    "</div>"
   ]
  },
  {
   "cell_type": "markdown",
   "metadata": {},
   "source": [
    "### Mood and IEQ"
   ]
  },
  {
   "cell_type": "code",
   "execution_count": 33,
   "metadata": {},
   "outputs": [
    {
     "name": "stdout",
     "output_type": "stream",
     "text": [
      "Number of observations: 115\n"
     ]
    }
   ],
   "source": [
    "ieq_and_mood = ieq_bi.merge(right=new_mood,on=[\"end_date\",\"beiwe\",\"redcap\",\"beacon\"])\n",
    "print(\"Number of observations:\",len(ieq_and_mood))"
   ]
  },
  {
   "cell_type": "markdown",
   "metadata": {},
   "source": [
    "<div class=\"alert alert-block alert-danger\">\n",
    " \n",
    "Unfortunately the mood data is too sparsely represented and _dramatically_ reduces the amount of observations that we have.\n",
    "    \n",
    "</div>"
   ]
  },
  {
   "cell_type": "markdown",
   "metadata": {},
   "source": [
    "### Activity, Mood, and IEQ"
   ]
  },
  {
   "cell_type": "code",
   "execution_count": 34,
   "metadata": {},
   "outputs": [
    {
     "name": "stdout",
     "output_type": "stream",
     "text": [
      "Number of observations: 103\n"
     ]
    }
   ],
   "source": [
    "features_all = ieq_and_activity.merge(right=new_mood, on=[\"end_date\",\"beiwe\",\"redcap\",\"beacon\"])\n",
    "print(\"Number of observations:\",len(features_all))"
   ]
  },
  {
   "cell_type": "markdown",
   "metadata": {},
   "source": [
    "<div class=\"alert alert-block alert-danger\">\n",
    " \n",
    "Now looping in all three feature sets, we see that we only hae 70 observations to work with and this is before merging with the target datasets which would cut down our dataset even more. \n",
    "    \n",
    "</div>"
   ]
  },
  {
   "cell_type": "markdown",
   "metadata": {},
   "source": [
    "<a id=\"exploration\"></a>"
   ]
  },
  {
   "cell_type": "markdown",
   "metadata": {},
   "source": [
    "# Data Exploration\n",
    "Now that we have our features and targets, we can look at the data to get a better sense of what we can do with it.\n",
    "\n",
    "We have to start by combining the features and targets so that we are looking at the finalized dataset."
   ]
  },
  {
   "cell_type": "code",
   "execution_count": 35,
   "metadata": {},
   "outputs": [],
   "source": [
    "# Fitbit\n",
    "combined_fb = ieq_and_activity.merge(right=fbsq,on=[\"beiwe\",\"end_date\"])\n",
    "combined_fb_simple = combined_fb[[column for column in combined_fb.columns if column.endswith(\"binary\")]]\n",
    "# Beiwe\n",
    "combined_sr = ieq_and_activity.merge(right=srsq,on=[\"beiwe\",\"end_date\"])\n",
    "combined_sr_simple = combined_sr[[column for column in combined_sr.columns if column.endswith(\"binary\")]]"
   ]
  },
  {
   "cell_type": "code",
   "execution_count": 36,
   "metadata": {},
   "outputs": [],
   "source": [
    "def plot_summary_count(df,variable):\n",
    "    \"\"\"plots the stripplot of a binary variable\"\"\"\n",
    "    figure, ax = plt.subplots(figsize=(4,4))\n",
    "    # count\n",
    "    sns.countplot(x=variable,data=df,\n",
    "                  edgecolor=\"black\",ax=ax)\n",
    "    # stats\n",
    "    ax.text(0,len(df),f\"Mean: {round(np.nanmean(df[variable]),2)}\",va=\"top\",ha=\"center\",fontsize=14)\n",
    "    # x-axis\n",
    "    plt.xticks(fontsize=14)\n",
    "    ax.set_xlabel(variable.split(\"_\")[0].upper(),fontsize=16)\n",
    "    # y-axis\n",
    "    plt.yticks(fontsize=14)\n",
    "    ax.set_ylabel(\"Count\",fontsize=16)\n",
    "    ax.set_ylim([0,len(df)])\n",
    "    # remainder\n",
    "    for loc in [\"top\",\"right\"]:\n",
    "        ax.spines[loc].set_visible(False)\n",
    "    plt.show()\n",
    "    plt.close()"
   ]
  },
  {
   "cell_type": "markdown",
   "metadata": {},
   "source": [
    "## Summary of Features\n",
    "We start with the features"
   ]
  },
  {
   "cell_type": "markdown",
   "metadata": {},
   "source": [
    "## Summary of Targets\n",
    "For the targets, our main concern is that we are getting equal representation from each of the responses. A lack of observations might lead to poorly performing models."
   ]
  },
  {
   "cell_type": "markdown",
   "metadata": {},
   "source": [
    "### Fitbit\n",
    "Fitbit sleep targets and distribution of responses."
   ]
  },
  {
   "cell_type": "code",
   "execution_count": 37,
   "metadata": {
    "scrolled": true
   },
   "outputs": [
    {
     "data": {
      "image/png": "[encoded data removed]",
      "text/plain": [
       "<Figure size 288x288 with 1 Axes>"
      ]
     },
     "metadata": {
      "needs_background": "light"
     },
     "output_type": "display_data"
    },
    {
     "data": {
      "image/png": "[encoded data removed]",
      "text/plain": [
       "<Figure size 288x288 with 1 Axes>"
      ]
     },
     "metadata": {
      "needs_background": "light"
     },
     "output_type": "display_data"
    },
    {
     "data": {
      "image/png": "[encoded data removed]",
      "text/plain": [
       "<Figure size 288x288 with 1 Axes>"
      ]
     },
     "metadata": {
      "needs_background": "light"
     },
     "output_type": "display_data"
    },
    {
     "data": {
      "image/png": "[encoded data removed]",
      "text/plain": [
       "<Figure size 288x288 with 1 Axes>"
      ]
     },
     "metadata": {
      "needs_background": "light"
     },
     "output_type": "display_data"
    },
    {
     "data": {
      "image/png": "[encoded data removed]",
      "text/plain": [
       "<Figure size 288x288 with 1 Axes>"
      ]
     },
     "metadata": {
      "needs_background": "light"
     },
     "output_type": "display_data"
    }
   ],
   "source": [
    "for fb_target in [\"se\",\"tst\",\"light_percent\",\"deep_percent\",\"rem_percent\"]:\n",
    "    plot_summary_count(combined_fb_simple,f\"{fb_target}_binary\")"
   ]
  },
  {
   "cell_type": "markdown",
   "metadata": {},
   "source": [
    "### Self-Report\n",
    "And now for the self-report metrics"
   ]
  },
  {
   "cell_type": "code",
   "execution_count": 38,
   "metadata": {
    "scrolled": true
   },
   "outputs": [
    {
     "data": {
      "image/png": "[encoded data removed]",
      "text/plain": [
       "<Figure size 288x288 with 1 Axes>"
      ]
     },
     "metadata": {
      "needs_background": "light"
     },
     "output_type": "display_data"
    },
    {
     "data": {
      "image/png": "[encoded data removed]",
      "text/plain": [
       "<Figure size 288x288 with 1 Axes>"
      ]
     },
     "metadata": {
      "needs_background": "light"
     },
     "output_type": "display_data"
    },
    {
     "data": {
      "image/png": "[encoded data removed]",
      "text/plain": [
       "<Figure size 288x288 with 1 Axes>"
      ]
     },
     "metadata": {
      "needs_background": "light"
     },
     "output_type": "display_data"
    },
    {
     "data": {
      "image/png": "[encoded data removed]",
      "text/plain": [
       "<Figure size 288x288 with 1 Axes>"
      ]
     },
     "metadata": {
      "needs_background": "light"
     },
     "output_type": "display_data"
    }
   ],
   "source": [
    "for sr_target in [\"tst\",\"sol\",\"naw\",\"restful\"]:\n",
    "    plot_summary_count(combined_sr_simple,f\"{sr_target}_binary\")"
   ]
  },
  {
   "cell_type": "markdown",
   "metadata": {},
   "source": [
    "<a id=\"prediction\"></a>"
   ]
  },
  {
   "cell_type": "markdown",
   "metadata": {},
   "source": [
    "# Prediction\n",
    "Now that we have sufficiently explored the features, we can begin to try predicting various components of sleep quality. We will try a wide-variety of classifiers to determine which is the most applicable to solving our problem. The classifiers that we use can be seen in the following cell via the `import` statements."
   ]
  },
  {
   "cell_type": "markdown",
   "metadata": {},
   "source": [
    "## Linear Regression\n",
    "We use linear regression as a first step in the analysis."
   ]
  },
  {
   "cell_type": "code",
   "execution_count": 39,
   "metadata": {},
   "outputs": [],
   "source": [
    "from sklearn.linear_model import LinearRegression"
   ]
  },
  {
   "cell_type": "code",
   "execution_count": 79,
   "metadata": {},
   "outputs": [],
   "source": [
    "class linear_model:\n",
    "    \n",
    "    def __init__(self):\n",
    "        pass\n",
    "    \n",
    "    def set_x_and_y(self, feature_set, target_set, features=[\"co2_median\",\"co_median\",\"pm2p5_mass_median\",\"no2_median\",\"temperature_c_median\",\"rh_median\",\"steps\",\"sedentary_minutes\",\"lightly_active_minutes\",\"fairly_active_minutes\",\"very_active_minutes\"], target=\"tst\"):\n",
    "        \"\"\"sets the x and y parameters\"\"\"\n",
    "        # for reference\n",
    "        self.target_label = target\n",
    "        self.feature_labels = features\n",
    "        combined = feature_set.merge(right=target_set,on=[\"beiwe\",\"end_date\"])\n",
    "        combined_simple = combined[[column for column in combined.columns if not column.endswith(\"binary\") and not column.endswith(\"x\") and not column.endswith(\"y\")]]\n",
    "        combined_simple.dropna(inplace=True)\n",
    "        # getting x and y\n",
    "        self.y = combined_simple[[f\"{target}\"]]\n",
    "        self.X = combined_simple[[column for column in combined.columns if column.endswith(\"median\") or column.endswith(\"minutes\") or column == \"steps\"]]\n",
    "        self.X = self.X[features]\n",
    "\n",
    "    def set_model(self):\n",
    "        \"\"\"runs a linear leasts-squares regression model\"\"\"\n",
    "        self.model = LinearRegression(normalize=True).fit(self.X,self.y)\n",
    "        temp = pd.DataFrame(data={\"feature\":self.feature_labels,\"coefficient\":self.model.coef_[0]})\n",
    "        self.coefficients = temp.sort_values(\"coefficient\")\n",
    "    \n",
    "    def run(self, feature_set, target_set, features=[\"co2_median\",\"co_median\",\"pm2p5_mass_median\",\"no2_median\",\"temperature_c_median\",\"rh_median\",\"steps\",\"sedentary_minutes\",\"lightly_active_minutes\",\"fairly_active_minutes\",\"very_active_minutes\"], target=\"tst\"):\n",
    "        \"\"\"runs the linear model\"\"\"\n",
    "        self.set_x_and_y(feature_set, target_set, features, target)\n",
    "        self.set_model()\n",
    "        print(self)\n",
    "        \n",
    "    def get_r2(self):\n",
    "        \"\"\"gets r2\"\"\"\n",
    "        return round(self.model.score(self.X, self.y),3)\n",
    "    \n",
    "    def get_coefs(self):\n",
    "        \"\"\"gets coefficients of the model\"\"\"\n",
    "        return self.coefficients\n",
    "    \n",
    "    def __str__(self):\n",
    "        \"\"\"output\"\"\"\n",
    "        print(\"Linear Model\")\n",
    "        try:\n",
    "            print(\"Observations:\", len(self.X))\n",
    "            print(\"Score:\", self.get_r2())\n",
    "            print(\"Coefficients:\")\n",
    "            for feature, c in zip(self.get_coefs().iloc[:,0], self.get_coefs().iloc[:,1]):\n",
    "                print(f\"\\t{feature}:\\t{round(c,4)}\")\n",
    "        except AttributeError:\n",
    "            print(\"No Model found\")\n",
    "            \n",
    "        return \"\""
   ]
  },
  {
   "cell_type": "code",
   "execution_count": 80,
   "metadata": {},
   "outputs": [
    {
     "ename": "AttributeError",
     "evalue": "'linear_model' object has no attribute 'X'",
     "output_type": "error",
     "traceback": [
      "\u001b[0;31m---------------------------------------------------------------------------\u001b[0m",
      "\u001b[0;31mAttributeError\u001b[0m                            Traceback (most recent call last)",
      "\u001b[0;32m<ipython-input-80-3db0a043e1d1>\u001b[0m in \u001b[0;36m<module>\u001b[0;34m\u001b[0m\n\u001b[0;32m----> 1\u001b[0;31m \u001b[0mlm\u001b[0m\u001b[0;34m.\u001b[0m\u001b[0mX\u001b[0m\u001b[0;34m\u001b[0m\u001b[0m\n\u001b[0m",
      "\u001b[0;31mAttributeError\u001b[0m: 'linear_model' object has no attribute 'X'"
     ]
    }
   ],
   "source": [
    "lm.X"
   ]
  },
  {
   "cell_type": "code",
   "execution_count": 81,
   "metadata": {},
   "outputs": [
    {
     "ename": "AttributeError",
     "evalue": "'linear_model' object has no attribute 'model'",
     "output_type": "error",
     "traceback": [
      "\u001b[0;31m---------------------------------------------------------------------------\u001b[0m",
      "\u001b[0;31mAttributeError\u001b[0m                            Traceback (most recent call last)",
      "\u001b[0;32m<ipython-input-81-1f0f65adf337>\u001b[0m in \u001b[0;36m<module>\u001b[0;34m\u001b[0m\n\u001b[0;32m----> 1\u001b[0;31m \u001b[0mlm\u001b[0m\u001b[0;34m.\u001b[0m\u001b[0mmodel\u001b[0m\u001b[0;34m.\u001b[0m\u001b[0mcoef_\u001b[0m\u001b[0;34m[\u001b[0m\u001b[0;36m0\u001b[0m\u001b[0;34m]\u001b[0m\u001b[0;34m\u001b[0m\u001b[0m\n\u001b[0m",
      "\u001b[0;31mAttributeError\u001b[0m: 'linear_model' object has no attribute 'model'"
     ]
    }
   ],
   "source": [
    "lm.model.coef_[0]"
   ]
  },
  {
   "cell_type": "code",
   "execution_count": 82,
   "metadata": {},
   "outputs": [
    {
     "name": "stdout",
     "output_type": "stream",
     "text": [
      "Linear Model\n",
      "Observations: 258\n",
      "Score: 0.123\n",
      "Coefficients:\n",
      "\ttemperature_c_median:\t-0.0745\n",
      "\tno2_median:\t-0.0655\n",
      "\tco_median:\t-0.0567\n",
      "\tfairly_active_minutes:\t-0.001\n",
      "\tlightly_active_minutes:\t-0.0006\n",
      "\tsedentary_minutes:\t-0.0002\n",
      "\tsteps:\t-0.0\n",
      "\tco2_median:\t0.0001\n",
      "\tpm2p5_mass_median:\t0.0026\n",
      "\tvery_active_minutes:\t0.0039\n",
      "\trh_median:\t0.0593\n",
      "\n"
     ]
    }
   ],
   "source": [
    "lm = linear_model()\n",
    "lm.run(ieq_and_activity, fbsq)"
   ]
  },
  {
   "cell_type": "markdown",
   "metadata": {},
   "source": [
    "## Classification"
   ]
  },
  {
   "cell_type": "code",
   "execution_count": 83,
   "metadata": {},
   "outputs": [],
   "source": [
    "# Logistic Regressions\n",
    "from sklearn.linear_model import LogisticRegression\n",
    "# Random Forest\n",
    "from sklearn.ensemble import RandomForestClassifier\n",
    "# Bernoulli Naive Bayes\n",
    "from sklearn.naive_bayes import BernoulliNB\n",
    "# KNN\n",
    "from sklearn.neighbors import KNeighborsClassifier\n",
    "# Support Vector\n",
    "from sklearn.svm import SVC\n",
    "# Multi-Layer Perceptron\n",
    "from sklearn.neural_network import MLPClassifier\n",
    "# ADAboost\n",
    "from sklearn.ensemble import AdaBoostClassifier\n",
    "# Gradient Boost\n",
    "from sklearn.ensemble import GradientBoostingClassifier\n",
    "# Bagging\n",
    "from sklearn.ensemble import BaggingClassifier"
   ]
  },
  {
   "cell_type": "markdown",
   "metadata": {},
   "source": [
    "To automate the prediction/evaluation process, we have created the class below that utilizes the following steps:\n",
    "1. Feature and Target Data Split: The feature and target datasets are fed into the program, cross-referenced, and then split.\n",
    "2. Train/Test Split: Data are split into a training and a testing split"
   ]
  },
  {
   "cell_type": "code",
   "execution_count": 94,
   "metadata": {},
   "outputs": [],
   "source": [
    "from sklearn import metrics\n",
    "from sklearn.model_selection import train_test_split, GridSearchCV, cross_val_score\n",
    "\n",
    "class ieq_and_sq_prediction:\n",
    "    \n",
    "    def __init__(self):\n",
    "        \"\"\"initializes the model parameters\"\"\"\n",
    "        self.classifier_model_params = {\n",
    "            \"logistic_regression\": {\n",
    "                \"model\":LogisticRegression(random_state=42,max_iter=500),\n",
    "                \"params\": {\n",
    "                    \"fit_intercept\":[True,False],\n",
    "                    \"solver\":[\"lbfgs\",\"liblinear\"],\n",
    "                }\n",
    "            },\n",
    "            \"random_forest\": {\n",
    "                \"model\":RandomForestClassifier(random_state=42),\n",
    "                \"params\": {\n",
    "                    \"n_estimators\":[10,50,100],\n",
    "                    \"max_depth\":[2,3,4,5],\n",
    "                    \"min_samples_split\":[2,4],\n",
    "                    \"min_samples_leaf\":[1,2],\n",
    "                }\n",
    "            },\n",
    "            \"bernoulli_naive_bayes\": {\n",
    "                \"model\":BernoulliNB(binarize=None),\n",
    "                \"params\": {\n",
    "                    \"alpha\":[0,0.5,1],\n",
    "                }\n",
    "            },\n",
    "            \"k-nearest_neighbor\": {\n",
    "                \"model\":KNeighborsClassifier(),\n",
    "                \"params\": {\n",
    "                    \"n_neighbors\":[3,5,7],\n",
    "                    \"weights\":[\"uniform\",\"distance\"],\n",
    "                    \"p\":[1,2],\n",
    "                }\n",
    "            },\n",
    "            \"support_vector\": {\n",
    "                \"model\":SVC(random_state=42),\n",
    "                \"params\": {\n",
    "                    \"kernel\":[\"linear\",\"poly\",\"sigmoid\",\"rbf\"],\n",
    "                }\n",
    "            },\n",
    "            \"multilayer_perceptron\": {\n",
    "                \"model\":MLPClassifier(random_state=42,solver=\"lbfgs\",max_iter=500),\n",
    "                \"params\": {\n",
    "                    \"hidden_layer_sizes\":[1,10,50,100],\n",
    "                    \"activation\":[\"identity\",\"logistic\"]\n",
    "                }\n",
    "            },\n",
    "            \"adaboost\":{\n",
    "                \"model\": AdaBoostClassifier(random_state=42),\n",
    "                \"params\": {\n",
    "                }\n",
    "            },\n",
    "            \"gradientboost\":{\n",
    "                \"model\": GradientBoostingClassifier(random_state=42),\n",
    "                \"params\": {\n",
    "                    \"max_depth\":[1,2,3],\n",
    "                }\n",
    "            },\n",
    "            \"bagging\":{\n",
    "                \"model\":BaggingClassifier(random_state=42),\n",
    "                \"params\": {\n",
    "                    \"n_estimators\":[5,10,20],\n",
    "                    \"bootstrap_features\":[False,True],\n",
    "                }\n",
    "            }\n",
    "        }\n",
    "    \n",
    "    def get_features_and_targets(self, feature_set, target_set, target=\"tst\"):\n",
    "        \"\"\"gets feature set and target set for the same observations\"\"\"\n",
    "        self.target_label = target\n",
    "        print(f\"Getting Features and Target ({target})...\")\n",
    "        # selecting only important target\n",
    "        target_set_reduced = target_set[[\"beiwe\",\"end_date\",f\"{target}_binary\"]]\n",
    "        # combining datasets to get overlapping observations\n",
    "        combined = feature_set.merge(right=target_set_reduced,on=[\"beiwe\",\"end_date\"])\n",
    "        combined = combined.merge(right=combined[\"beiwe\"].value_counts().rename(\"count\"),left_on=\"beiwe\",right_index=True,how=\"left\")\n",
    "        combined = combined[combined[\"count\"] > 1]\n",
    "        combined_simple = combined[[column for column in combined.columns if column.endswith(\"binary\") or column in [\"count\",\"beiwe\"]]]\n",
    "        # splitting into features and targets\n",
    "        targets = combined_simple[[f\"{target}_binary\"]]\n",
    "        features = combined_simple.drop([f\"{target}_binary\",\"beiwe\"],axis=\"columns\")\n",
    "        self.features = features\n",
    "        self.targets = targets\n",
    "        \n",
    "    def split_data(self, test_size=0.33):\n",
    "        \"\"\"splits data into training and testing\"\"\"\n",
    "        print(\"Splitting Data...\")\n",
    "        self.X_train, self.X_test, self.y_train, self.y_test = train_test_split(self.features, self.targets, test_size=test_size, random_state=10, stratify=self.features[\"count\"])\n",
    "        self.X_train.drop(\"count\",axis=\"columns\",inplace=True)\n",
    "        self.X_test.drop(\"count\",axis=\"columns\",inplace=True)\n",
    "        \n",
    "    def optimize_models(self):\n",
    "        \"\"\"runs gridsearch cv\"\"\"\n",
    "        print(\"Testing Classifiers...\")\n",
    "        try:\n",
    "            scores = []\n",
    "            params = self.classifier_model_params\n",
    "            for model_name, mp in params.items():\n",
    "                s = datetime.now()\n",
    "                print(f\"\\t{model_name.replace('_',' ').title()}\")\n",
    "                clf = GridSearchCV(mp[\"model\"],mp[\"params\"],cv=5,return_train_score=False)\n",
    "                clf.fit(self.X_train,self.y_train)\n",
    "                scores.append({\n",
    "                    \"model\":model_name,\n",
    "                    \"best_score\":clf.best_score_,\n",
    "                    \"best_params\":clf.best_params_\n",
    "                })\n",
    "                print(\"\\t\\tElapsed Time:\\t\", datetime.now() - s)\n",
    "                print(f\"\\t\\tBest Score:\\t{clf.best_score_}\\n\\t\\tBest Params:\\t{clf.best_params_}\")\n",
    "\n",
    "            results = pd.DataFrame(scores,columns=[\"model\",\"best_score\",\"best_params\"])\n",
    "            # getting and saving best model\n",
    "            results.sort_values([\"best_score\"],ascending=False,inplace=True)\n",
    "            self.results = results\n",
    "            best = results.iloc[0,:]\n",
    "            # outputting results\n",
    "            print(f\"\\tBest Scoring Model:\")\n",
    "            print(f\"\\t\\tModel:\\t{best[0].replace('_',' ').title()}\\n\\t\\tScore:\\t{round(best[1],3)}\\n\\t\\tParams:\\t{best[2]}\")\n",
    "        except AttributeError:\n",
    "            print(\"Training data do not exist - run split_data()\")\n",
    "        \n",
    "    def train_model(self, model):\n",
    "        \"\"\"trains the specified model\"\"\"\n",
    "        print(\"Training...\")\n",
    "        self.model = model # necessary if running functions separately\n",
    "        try:\n",
    "            self.X_train = self.X_train\n",
    "            self.X_test = self.X_test\n",
    "            self.model.fit(self.X_train,self.y_train)\n",
    "        except AttributeError:\n",
    "            print(\"Training data do not exist - run split_data()\")\n",
    "    \n",
    "    def predict(self):\n",
    "        \"\"\"gets the predicted results based on the model provided for the given target\"\"\"\n",
    "        print(\"Predicting...\")\n",
    "        try:\n",
    "            self.predictions = self.model.predict(self.X_test)\n",
    "            \n",
    "            self.score = metrics.precision_score(self.y_test,self.predictions,average=\"weighted\")\n",
    "\n",
    "            scores = cross_val_score(self.model, self.X_train, self.y_train, cv=5, scoring='precision_weighted')\n",
    "            print(\"\\tCross Validation Scores:\")\n",
    "            for scr in scores:\n",
    "                print(f\"\\t\\t{round(scr,3)}\")\n",
    "            print(f\"\\tAverage:\\t{round(scores.mean(),3)}\")\n",
    "            print(f\"\\tModel Score: {round(self.score,3)}\")\n",
    "        except AttributeError:\n",
    "            print(\"Missing attributes - make sure you split the data and trained the model\")\n",
    "        \n",
    "    def plot_confusion_matrix(self, save=False, target_label=\"\"):\n",
    "        \"\"\"plots confusion matrix\"\"\"\n",
    "        print(\"Evaluating...\")\n",
    "        # get confusion matrix\n",
    "        cm = metrics.confusion_matrix(self.y_test,self.predictions)\n",
    "        cm_df = pd.DataFrame(cm)\n",
    "        # plot confusion matrix as heatmap\n",
    "        fig, ax = plt.subplots(figsize=(5,4))\n",
    "        sns.heatmap(cm_df,annot=True,cmap=\"Blues\",ax=ax)\n",
    "        ax.set_xlabel(\"Predicted Label\",fontsize=16)\n",
    "        ax.set_ylabel(\"True Label\",fontsize=16)\n",
    "        if save:\n",
    "            plt.savefig(f\"../../../Documents/sbac_2021/project/figures/confusion_matrix-{target_label}.pdf\")\n",
    "        plt.show()\n",
    "        plt.close()\n",
    "        \n",
    "    def set_feature_importance(self,plot=False):\n",
    "        \"\"\"gets feature importance from classifier models\"\"\"\n",
    "        try:\n",
    "            # getting importance df\n",
    "            importance = pd.DataFrame(data={\"feature\":[value.split('_')[0] for value in self.features.columns[:-1]],\"importance\":self.model.feature_importances_})\n",
    "            importance.sort_values(\"importance\",inplace=True)\n",
    "            self.feature_importance = importance\n",
    "            if plot:\n",
    "                # getting color map\n",
    "                my_cmap = plt.get_cmap(\"Blues\")\n",
    "                rescale = lambda y: (y - np.min(y)) / (np.max(y) - np.min(y))\n",
    "                # plotting\n",
    "                fig, ax = plt.subplots(figsize=(6,4))\n",
    "                ax.barh(importance[\"feature\"],importance[\"importance\"],color=my_cmap(rescale(importance[\"importance\"])),edgecolor=\"black\",tick_label=[visualize.get_label(label) for label in importance[\"feature\"]])\n",
    "                # x-axis\n",
    "                plt.xticks(fontsize=12)\n",
    "                ax.set_xlabel(\"Importance\",fontsize=14)\n",
    "                # y-axis\n",
    "                plt.yticks(fontsize=12)\n",
    "                ax.set_ylabel(\"Feature\",fontsize=14)\n",
    "                # remainder\n",
    "                for loc in [\"top\",\"right\"]:\n",
    "                    ax.spines[loc].set_visible(False)\n",
    "                plt.show()\n",
    "                plt.close()\n",
    "        except AttributeError as e:\n",
    "            print(e)\n",
    "            \n",
    "    def run(self, feature_set, target_set, target=\"tst\", test_size=0.33):\n",
    "        \"\"\"runs the class: split, test, predict, evaluate\"\"\"\n",
    "        self.get_features_and_targets(feature_set, target_set, target=target)\n",
    "        self.split_data(test_size=test_size)\n",
    "        # gridsearch on models\n",
    "        self.optimize_models()\n",
    "        # saves the best model, trains on the best model, predicts with the model, and plots the confusion matrix\n",
    "        self.model = self.classifier_model_params[self.results.iloc[0,:][\"model\"]][\"model\"].set_params(**self.results.iloc[0,:][\"best_params\"])\n",
    "        self.train_model(self.model)\n",
    "        self.predict()\n",
    "        self.plot_confusion_matrix()\n",
    "        self.set_feature_importance(plot=True)"
   ]
  },
  {
   "cell_type": "code",
   "execution_count": 95,
   "metadata": {
    "scrolled": true
   },
   "outputs": [
    {
     "name": "stdout",
     "output_type": "stream",
     "text": [
      "Getting Features and Target (se)...\n",
      "Splitting Data...\n",
      "Testing Classifiers...\n",
      "\tLogistic Regression\n",
      "\t\tElapsed Time:\t 0:00:00.125884\n",
      "\t\tBest Score:\t0.8058823529411765\n",
      "\t\tBest Params:\t{'fit_intercept': True, 'solver': 'lbfgs'}\n",
      "\tRandom Forest\n",
      "\t\tElapsed Time:\t 0:00:16.572716\n",
      "\t\tBest Score:\t0.8058823529411765\n",
      "\t\tBest Params:\t{'max_depth': 2, 'min_samples_leaf': 1, 'min_samples_split': 2, 'n_estimators': 10}\n",
      "\tBernoulli Naive Bayes\n",
      "\t\tElapsed Time:\t 0:00:00.063886\n",
      "\t\tBest Score:\t0.8058823529411765\n",
      "\t\tBest Params:\t{'alpha': 0}\n",
      "\tK-Nearest Neighbor\n",
      "\t\tElapsed Time:\t 0:00:00.399975\n",
      "\t\tBest Score:\t0.7882352941176471\n",
      "\t\tBest Params:\t{'n_neighbors': 7, 'p': 1, 'weights': 'uniform'}\n",
      "\tSupport Vector\n",
      "\t\tElapsed Time:\t 0:00:00.113143\n",
      "\t\tBest Score:\t0.8058823529411765\n",
      "\t\tBest Params:\t{'kernel': 'linear'}\n",
      "\tMultilayer Perceptron\n",
      "\t\tElapsed Time:\t 0:00:03.163939\n",
      "\t\tBest Score:\t0.8058823529411765\n",
      "\t\tBest Params:\t{'activation': 'identity', 'hidden_layer_sizes': 1}\n",
      "\tAdaboost\n",
      "\t\tElapsed Time:\t 0:00:00.401046\n",
      "\t\tBest Score:\t0.8058823529411765\n",
      "\t\tBest Params:\t{}\n",
      "\tGradientboost\n",
      "\t\tElapsed Time:\t 0:00:00.713420\n",
      "\t\tBest Score:\t0.8058823529411765\n",
      "\t\tBest Params:\t{'max_depth': 1}\n",
      "\tBagging\n",
      "\t\tElapsed Time:\t 0:00:00.696251\n",
      "\t\tBest Score:\t0.8029411764705883\n",
      "\t\tBest Params:\t{'bootstrap_features': True, 'n_estimators': 10}\n",
      "\tBest Scoring Model:\n",
      "\t\tModel:\tLogistic Regression\n",
      "\t\tScore:\t0.806\n",
      "\t\tParams:\t{'fit_intercept': True, 'solver': 'lbfgs'}\n",
      "Training...\n",
      "Predicting...\n",
      "\tCross Validation Scores:\n",
      "\t\t0.654\n",
      "\t\t0.654\n",
      "\t\t0.654\n",
      "\t\t0.654\n",
      "\t\t0.631\n",
      "\tAverage:\t0.649\n",
      "\tModel Score: 0.608\n",
      "Evaluating...\n"
     ]
    },
    {
     "data": {
      "image/png": "[encoded data removed]",
      "text/plain": [
       "<Figure size 360x288 with 2 Axes>"
      ]
     },
     "metadata": {
      "needs_background": "light"
     },
     "output_type": "display_data"
    },
    {
     "name": "stdout",
     "output_type": "stream",
     "text": [
      "'LogisticRegression' object has no attribute 'feature_importances_'\n",
      "Getting Features and Target (tst)...\n",
      "Splitting Data...\n",
      "Testing Classifiers...\n",
      "\tLogistic Regression\n",
      "\t\tElapsed Time:\t 0:00:00.126078\n",
      "\t\tBest Score:\t0.6823529411764706\n",
      "\t\tBest Params:\t{'fit_intercept': True, 'solver': 'lbfgs'}\n",
      "\tRandom Forest\n",
      "\t\tElapsed Time:\t 0:00:16.384429\n",
      "\t\tBest Score:\t0.6764705882352942\n",
      "\t\tBest Params:\t{'max_depth': 2, 'min_samples_leaf': 1, 'min_samples_split': 2, 'n_estimators': 10}\n",
      "\tBernoulli Naive Bayes\n",
      "\t\tElapsed Time:\t 0:00:00.063601\n",
      "\t\tBest Score:\t0.6705882352941177\n",
      "\t\tBest Params:\t{'alpha': 0}\n",
      "\tK-Nearest Neighbor\n",
      "\t\tElapsed Time:\t 0:00:00.394920\n",
      "\t\tBest Score:\t0.65\n",
      "\t\tBest Params:\t{'n_neighbors': 7, 'p': 1, 'weights': 'uniform'}\n",
      "\tSupport Vector\n",
      "\t\tElapsed Time:\t 0:00:00.122301\n",
      "\t\tBest Score:\t0.6764705882352942\n",
      "\t\tBest Params:\t{'kernel': 'linear'}\n",
      "\tMultilayer Perceptron\n",
      "\t\tElapsed Time:\t 0:00:02.569507\n",
      "\t\tBest Score:\t0.6794117647058824\n",
      "\t\tBest Params:\t{'activation': 'identity', 'hidden_layer_sizes': 1}\n",
      "\tAdaboost\n",
      "\t\tElapsed Time:\t 0:00:00.401633\n",
      "\t\tBest Score:\t0.6647058823529413\n",
      "\t\tBest Params:\t{}\n",
      "\tGradientboost\n",
      "\t\tElapsed Time:\t 0:00:00.712125\n",
      "\t\tBest Score:\t0.6764705882352942\n",
      "\t\tBest Params:\t{'max_depth': 1}\n",
      "\tBagging\n",
      "\t\tElapsed Time:\t 0:00:00.701506\n",
      "\t\tBest Score:\t0.676470588235294\n",
      "\t\tBest Params:\t{'bootstrap_features': True, 'n_estimators': 10}\n",
      "\tBest Scoring Model:\n",
      "\t\tModel:\tLogistic Regression\n",
      "\t\tScore:\t0.682\n",
      "\t\tParams:\t{'fit_intercept': True, 'solver': 'lbfgs'}\n",
      "Training...\n",
      "Predicting...\n",
      "\tCross Validation Scores:\n",
      "\t\t0.788\n",
      "\t\t0.458\n",
      "\t\t0.788\n",
      "\t\t0.458\n",
      "\t\t0.458\n",
      "\tAverage:\t0.59\n",
      "\tModel Score: 0.566\n",
      "Evaluating...\n"
     ]
    },
    {
     "data": {
      "image/png": "[encoded data removed]",
      "text/plain": [
       "<Figure size 360x288 with 2 Axes>"
      ]
     },
     "metadata": {
      "needs_background": "light"
     },
     "output_type": "display_data"
    },
    {
     "name": "stdout",
     "output_type": "stream",
     "text": [
      "'LogisticRegression' object has no attribute 'feature_importances_'\n",
      "Getting Features and Target (light_percent)...\n",
      "Splitting Data...\n",
      "Testing Classifiers...\n",
      "\tLogistic Regression\n",
      "\t\tElapsed Time:\t 0:00:00.122327\n",
      "\t\tBest Score:\t0.511764705882353\n",
      "\t\tBest Params:\t{'fit_intercept': False, 'solver': 'lbfgs'}\n",
      "\tRandom Forest\n",
      "\t\tElapsed Time:\t 0:00:16.373846\n",
      "\t\tBest Score:\t0.5617647058823529\n",
      "\t\tBest Params:\t{'max_depth': 2, 'min_samples_leaf': 1, 'min_samples_split': 2, 'n_estimators': 10}\n",
      "\tBernoulli Naive Bayes\n",
      "\t\tElapsed Time:\t 0:00:00.065123\n",
      "\t\tBest Score:\t0.5029411764705882\n",
      "\t\tBest Params:\t{'alpha': 0}\n",
      "\tK-Nearest Neighbor\n",
      "\t\tElapsed Time:\t 0:00:00.388148\n",
      "\t\tBest Score:\t0.5117647058823529\n",
      "\t\tBest Params:\t{'n_neighbors': 5, 'p': 1, 'weights': 'uniform'}\n",
      "\tSupport Vector\n",
      "\t\tElapsed Time:\t 0:00:00.125536\n",
      "\t\tBest Score:\t0.5558823529411765\n",
      "\t\tBest Params:\t{'kernel': 'sigmoid'}\n",
      "\tMultilayer Perceptron\n",
      "\t\tElapsed Time:\t 0:00:02.460080\n",
      "\t\tBest Score:\t0.5176470588235293\n",
      "\t\tBest Params:\t{'activation': 'identity', 'hidden_layer_sizes': 100}\n",
      "\tAdaboost\n",
      "\t\tElapsed Time:\t 0:00:00.408469\n",
      "\t\tBest Score:\t0.5117647058823529\n",
      "\t\tBest Params:\t{}\n",
      "\tGradientboost\n",
      "\t\tElapsed Time:\t 0:00:00.712116\n",
      "\t\tBest Score:\t0.5\n",
      "\t\tBest Params:\t{'max_depth': 1}\n",
      "\tBagging\n",
      "\t\tElapsed Time:\t 0:00:00.726703\n",
      "\t\tBest Score:\t0.5205882352941177\n",
      "\t\tBest Params:\t{'bootstrap_features': True, 'n_estimators': 10}\n",
      "\tBest Scoring Model:\n",
      "\t\tModel:\tRandom Forest\n",
      "\t\tScore:\t0.562\n",
      "\t\tParams:\t{'max_depth': 2, 'min_samples_leaf': 1, 'min_samples_split': 2, 'n_estimators': 10}\n",
      "Training...\n",
      "Predicting...\n",
      "\tCross Validation Scores:\n",
      "\t\t0.558\n",
      "\t\t0.54\n",
      "\t\t0.649\n",
      "\t\t0.488\n",
      "\t\t0.634\n",
      "\tAverage:\t0.574\n",
      "\tModel Score: 0.542\n",
      "Evaluating...\n"
     ]
    },
    {
     "data": {
      "image/png": "[encoded data removed]",
      "text/plain": [
       "<Figure size 360x288 with 2 Axes>"
      ]
     },
     "metadata": {
      "needs_background": "light"
     },
     "output_type": "display_data"
    },
    {
     "data": {
      "image/png": "[encoded data removed]",
      "text/plain": [
       "<Figure size 432x288 with 1 Axes>"
      ]
     },
     "metadata": {
      "needs_background": "light"
     },
     "output_type": "display_data"
    },
    {
     "name": "stdout",
     "output_type": "stream",
     "text": [
      "Getting Features and Target (deep_percent)...\n",
      "Splitting Data...\n",
      "Testing Classifiers...\n",
      "\tLogistic Regression\n",
      "\t\tElapsed Time:\t 0:00:00.111717\n",
      "\t\tBest Score:\t0.5882352941176471\n",
      "\t\tBest Params:\t{'fit_intercept': False, 'solver': 'lbfgs'}\n",
      "\tRandom Forest\n",
      "\t\tElapsed Time:\t 0:00:16.466901\n",
      "\t\tBest Score:\t0.5941176470588235\n",
      "\t\tBest Params:\t{'max_depth': 2, 'min_samples_leaf': 1, 'min_samples_split': 2, 'n_estimators': 100}\n",
      "\tBernoulli Naive Bayes\n",
      "\t\tElapsed Time:\t 0:00:00.064837\n",
      "\t\tBest Score:\t0.5970588235294118\n",
      "\t\tBest Params:\t{'alpha': 0}\n",
      "\tK-Nearest Neighbor\n",
      "\t\tElapsed Time:\t 0:00:00.388590\n",
      "\t\tBest Score:\t0.5735294117647058\n",
      "\t\tBest Params:\t{'n_neighbors': 7, 'p': 2, 'weights': 'distance'}\n",
      "\tSupport Vector\n",
      "\t\tElapsed Time:\t 0:00:00.123192\n",
      "\t\tBest Score:\t0.5764705882352941\n",
      "\t\tBest Params:\t{'kernel': 'linear'}\n",
      "\tMultilayer Perceptron\n",
      "\t\tElapsed Time:\t 0:00:02.387558\n",
      "\t\tBest Score:\t0.5882352941176471\n",
      "\t\tBest Params:\t{'activation': 'identity', 'hidden_layer_sizes': 10}\n",
      "\tAdaboost\n",
      "\t\tElapsed Time:\t 0:00:00.402430\n",
      "\t\tBest Score:\t0.5823529411764705\n",
      "\t\tBest Params:\t{}\n",
      "\tGradientboost\n",
      "\t\tElapsed Time:\t 0:00:00.712435\n",
      "\t\tBest Score:\t0.5764705882352941\n",
      "\t\tBest Params:\t{'max_depth': 1}\n",
      "\tBagging\n",
      "\t\tElapsed Time:\t 0:00:00.707778\n",
      "\t\tBest Score:\t0.5647058823529412\n",
      "\t\tBest Params:\t{'bootstrap_features': True, 'n_estimators': 10}\n",
      "\tBest Scoring Model:\n",
      "\t\tModel:\tBernoulli Naive Bayes\n",
      "\t\tScore:\t0.597\n",
      "\t\tParams:\t{'alpha': 0}\n",
      "Training...\n",
      "Predicting...\n",
      "\tCross Validation Scores:\n",
      "\t\t0.587\n",
      "\t\t0.559\n",
      "\t\t0.578\n",
      "\t\t0.565\n",
      "\t\t0.578\n",
      "\tAverage:\t0.573\n",
      "\tModel Score: 0.559\n",
      "Evaluating...\n"
     ]
    },
    {
     "data": {
      "image/png": "[encoded data removed]",
      "text/plain": [
       "<Figure size 360x288 with 2 Axes>"
      ]
     },
     "metadata": {
      "needs_background": "light"
     },
     "output_type": "display_data"
    },
    {
     "name": "stdout",
     "output_type": "stream",
     "text": [
      "'BernoulliNB' object has no attribute 'feature_importances_'\n",
      "Getting Features and Target (rem_percent)...\n",
      "Splitting Data...\n",
      "Testing Classifiers...\n",
      "\tLogistic Regression\n",
      "\t\tElapsed Time:\t 0:00:00.123091\n",
      "\t\tBest Score:\t0.661764705882353\n",
      "\t\tBest Params:\t{'fit_intercept': True, 'solver': 'liblinear'}\n",
      "\tRandom Forest\n",
      "\t\tElapsed Time:\t 0:00:16.380670\n",
      "\t\tBest Score:\t0.6676470588235294\n",
      "\t\tBest Params:\t{'max_depth': 5, 'min_samples_leaf': 2, 'min_samples_split': 2, 'n_estimators': 50}\n",
      "\tBernoulli Naive Bayes\n",
      "\t\tElapsed Time:\t 0:00:00.082466\n",
      "\t\tBest Score:\t0.6382352941176471\n",
      "\t\tBest Params:\t{'alpha': 0}\n",
      "\tK-Nearest Neighbor\n",
      "\t\tElapsed Time:\t 0:00:00.408903\n",
      "\t\tBest Score:\t0.6323529411764707\n",
      "\t\tBest Params:\t{'n_neighbors': 7, 'p': 1, 'weights': 'uniform'}\n",
      "\tSupport Vector\n",
      "\t\tElapsed Time:\t 0:00:00.122646\n",
      "\t\tBest Score:\t0.65\n",
      "\t\tBest Params:\t{'kernel': 'linear'}\n",
      "\tMultilayer Perceptron\n",
      "\t\tElapsed Time:\t 0:00:03.163626\n",
      "\t\tBest Score:\t0.6588235294117647\n",
      "\t\tBest Params:\t{'activation': 'identity', 'hidden_layer_sizes': 1}\n",
      "\tAdaboost\n",
      "\t\tElapsed Time:\t 0:00:00.404631\n",
      "\t\tBest Score:\t0.6529411764705882\n",
      "\t\tBest Params:\t{}\n",
      "\tGradientboost\n",
      "\t\tElapsed Time:\t 0:00:00.713131\n",
      "\t\tBest Score:\t0.6647058823529413\n",
      "\t\tBest Params:\t{'max_depth': 1}\n",
      "\tBagging\n",
      "\t\tElapsed Time:\t 0:00:00.702233\n",
      "\t\tBest Score:\t0.6735294117647058\n",
      "\t\tBest Params:\t{'bootstrap_features': True, 'n_estimators': 10}\n",
      "\tBest Scoring Model:\n",
      "\t\tModel:\tBagging\n",
      "\t\tScore:\t0.674\n",
      "\t\tParams:\t{'bootstrap_features': True, 'n_estimators': 10}\n",
      "Training...\n",
      "Predicting...\n",
      "\tCross Validation Scores:\n",
      "\t\t0.675\n",
      "\t\t0.676\n",
      "\t\t0.674\n",
      "\t\t0.616\n",
      "\t\t0.637\n",
      "\tAverage:\t0.655\n",
      "\tModel Score: 0.592\n",
      "Evaluating...\n"
     ]
    },
    {
     "data": {
      "image/png": "[encoded data removed]",
      "text/plain": [
       "<Figure size 360x288 with 2 Axes>"
      ]
     },
     "metadata": {
      "needs_background": "light"
     },
     "output_type": "display_data"
    },
    {
     "name": "stdout",
     "output_type": "stream",
     "text": [
      "'BaggingClassifier' object has no attribute 'feature_importances_'\n"
     ]
    }
   ],
   "source": [
    "trial = ieq_and_sq_prediction()\n",
    "for fb_target in [\"se\",\"tst\",\"light_percent\",\"deep_percent\",\"rem_percent\"]:\n",
    "    trial.run(ieq_and_activity,fbsq,fb_target)"
   ]
  },
  {
   "cell_type": "code",
   "execution_count": 96,
   "metadata": {
    "scrolled": false
   },
   "outputs": [
    {
     "name": "stdout",
     "output_type": "stream",
     "text": [
      "Getting Features and Target (tst)...\n",
      "Splitting Data...\n",
      "Testing Classifiers...\n",
      "\tLogistic Regression\n",
      "\t\tElapsed Time:\t 0:00:00.116323\n",
      "\t\tBest Score:\t0.657397504456328\n",
      "\t\tBest Params:\t{'fit_intercept': False, 'solver': 'lbfgs'}\n",
      "\tRandom Forest\n",
      "\t\tElapsed Time:\t 0:00:16.741163\n",
      "\t\tBest Score:\t0.7224598930481283\n",
      "\t\tBest Params:\t{'max_depth': 5, 'min_samples_leaf': 1, 'min_samples_split': 4, 'n_estimators': 10}\n",
      "\tBernoulli Naive Bayes\n",
      "\t\tElapsed Time:\t 0:00:00.065134\n",
      "\t\tBest Score:\t0.6631016042780749\n",
      "\t\tBest Params:\t{'alpha': 0}\n",
      "\tK-Nearest Neighbor\n",
      "\t\tElapsed Time:\t 0:00:00.372472\n",
      "\t\tBest Score:\t0.6458110516934047\n",
      "\t\tBest Params:\t{'n_neighbors': 3, 'p': 1, 'weights': 'uniform'}\n",
      "\tSupport Vector\n",
      "\t\tElapsed Time:\t 0:00:00.097954\n",
      "\t\tBest Score:\t0.663458110516934\n",
      "\t\tBest Params:\t{'kernel': 'rbf'}\n",
      "\tMultilayer Perceptron\n",
      "\t\tElapsed Time:\t 0:00:03.013795\n",
      "\t\tBest Score:\t0.6688057040998219\n",
      "\t\tBest Params:\t{'activation': 'logistic', 'hidden_layer_sizes': 1}\n",
      "\tAdaboost\n",
      "\t\tElapsed Time:\t 0:00:00.392345\n",
      "\t\tBest Score:\t0.615686274509804\n",
      "\t\tBest Params:\t{}\n",
      "\tGradientboost\n",
      "\t\tElapsed Time:\t 0:00:00.707848\n",
      "\t\tBest Score:\t0.6281639928698752\n",
      "\t\tBest Params:\t{'max_depth': 3}\n",
      "\tBagging\n",
      "\t\tElapsed Time:\t 0:00:00.686629\n",
      "\t\tBest Score:\t0.6336898395721926\n",
      "\t\tBest Params:\t{'bootstrap_features': True, 'n_estimators': 10}\n",
      "\tBest Scoring Model:\n",
      "\t\tModel:\tRandom Forest\n",
      "\t\tScore:\t0.722\n",
      "\t\tParams:\t{'max_depth': 5, 'min_samples_leaf': 1, 'min_samples_split': 4, 'n_estimators': 10}\n",
      "Training...\n",
      "Predicting...\n",
      "\tCross Validation Scores:\n",
      "\t\t0.657\n",
      "\t\t0.624\n",
      "\t\t0.792\n",
      "\t\t0.662\n",
      "\t\t0.824\n",
      "\tAverage:\t0.712\n",
      "\tModel Score: 0.638\n",
      "Evaluating...\n"
     ]
    },
    {
     "data": {
      "image/png": "[encoded data removed]",
      "text/plain": [
       "<Figure size 360x288 with 2 Axes>"
      ]
     },
     "metadata": {
      "needs_background": "light"
     },
     "output_type": "display_data"
    },
    {
     "data": {
      "image/png": "[encoded data removed]",
      "text/plain": [
       "<Figure size 432x288 with 1 Axes>"
      ]
     },
     "metadata": {
      "needs_background": "light"
     },
     "output_type": "display_data"
    },
    {
     "name": "stdout",
     "output_type": "stream",
     "text": [
      "Getting Features and Target (sol)...\n",
      "Splitting Data...\n",
      "Testing Classifiers...\n",
      "\tLogistic Regression\n",
      "\t\tElapsed Time:\t 0:00:00.110134\n",
      "\t\tBest Score:\t0.544741532976827\n",
      "\t\tBest Params:\t{'fit_intercept': True, 'solver': 'liblinear'}\n",
      "\tRandom Forest\n",
      "\t\tElapsed Time:\t 0:00:16.314988\n",
      "\t\tBest Score:\t0.5857397504456329\n",
      "\t\tBest Params:\t{'max_depth': 2, 'min_samples_leaf': 1, 'min_samples_split': 2, 'n_estimators': 10}\n",
      "\tBernoulli Naive Bayes\n",
      "\t\tElapsed Time:\t 0:00:00.064901\n",
      "\t\tBest Score:\t0.5680926916221034\n",
      "\t\tBest Params:\t{'alpha': 0}\n",
      "\tK-Nearest Neighbor\n",
      "\t\tElapsed Time:\t 0:00:00.361592\n",
      "\t\tBest Score:\t0.5499108734402852\n",
      "\t\tBest Params:\t{'n_neighbors': 7, 'p': 1, 'weights': 'uniform'}\n",
      "\tSupport Vector\n",
      "\t\tElapsed Time:\t 0:00:00.098238\n",
      "\t\tBest Score:\t0.5921568627450979\n",
      "\t\tBest Params:\t{'kernel': 'sigmoid'}\n",
      "\tMultilayer Perceptron\n",
      "\t\tElapsed Time:\t 0:00:03.208139\n",
      "\t\tBest Score:\t0.544385026737968\n",
      "\t\tBest Params:\t{'activation': 'identity', 'hidden_layer_sizes': 1}\n",
      "\tAdaboost\n",
      "\t\tElapsed Time:\t 0:00:00.392038\n",
      "\t\tBest Score:\t0.5385026737967914\n",
      "\t\tBest Params:\t{}\n",
      "\tGradientboost\n",
      "\t\tElapsed Time:\t 0:00:00.676211\n",
      "\t\tBest Score:\t0.532620320855615\n",
      "\t\tBest Params:\t{'max_depth': 1}\n",
      "\tBagging\n",
      "\t\tElapsed Time:\t 0:00:00.699443\n",
      "\t\tBest Score:\t0.5500891265597148\n",
      "\t\tBest Params:\t{'bootstrap_features': True, 'n_estimators': 10}\n",
      "\tBest Scoring Model:\n",
      "\t\tModel:\tSupport Vector\n",
      "\t\tScore:\t0.592\n",
      "\t\tParams:\t{'kernel': 'sigmoid'}\n",
      "Training...\n",
      "Predicting...\n",
      "\tCross Validation Scores:\n",
      "\t\t0.458\n",
      "\t\t0.545\n",
      "\t\t0.605\n",
      "\t\t0.653\n",
      "\t\t0.667\n",
      "\tAverage:\t0.586\n",
      "\tModel Score: 0.602\n",
      "Evaluating...\n"
     ]
    },
    {
     "data": {
      "image/png": "[encoded data removed]",
      "text/plain": [
       "<Figure size 360x288 with 2 Axes>"
      ]
     },
     "metadata": {
      "needs_background": "light"
     },
     "output_type": "display_data"
    },
    {
     "name": "stdout",
     "output_type": "stream",
     "text": [
      "'SVC' object has no attribute 'feature_importances_'\n",
      "Getting Features and Target (naw)...\n",
      "Splitting Data...\n",
      "Testing Classifiers...\n",
      "\tLogistic Regression\n",
      "\t\tElapsed Time:\t 0:00:00.126268\n",
      "\t\tBest Score:\t0.5445632798573975\n",
      "\t\tBest Params:\t{'fit_intercept': True, 'solver': 'liblinear'}\n",
      "\tRandom Forest\n",
      "\t\tElapsed Time:\t 0:00:16.476552\n",
      "\t\tBest Score:\t0.586096256684492\n",
      "\t\tBest Params:\t{'max_depth': 4, 'min_samples_leaf': 1, 'min_samples_split': 2, 'n_estimators': 100}\n",
      "\tBernoulli Naive Bayes\n",
      "\t\tElapsed Time:\t 0:00:00.065364\n",
      "\t\tBest Score:\t0.5270944741532977\n",
      "\t\tBest Params:\t{'alpha': 0}\n",
      "\tK-Nearest Neighbor\n",
      "\t\tElapsed Time:\t 0:00:00.362285\n",
      "\t\tBest Score:\t0.6155080213903743\n",
      "\t\tBest Params:\t{'n_neighbors': 7, 'p': 1, 'weights': 'uniform'}\n",
      "\tSupport Vector\n",
      "\t\tElapsed Time:\t 0:00:00.097815\n",
      "\t\tBest Score:\t0.562210338680927\n",
      "\t\tBest Params:\t{'kernel': 'rbf'}\n",
      "\tMultilayer Perceptron\n",
      "\t\tElapsed Time:\t 0:00:02.631184\n",
      "\t\tBest Score:\t0.5563279857397505\n",
      "\t\tBest Params:\t{'activation': 'identity', 'hidden_layer_sizes': 1}\n",
      "\tAdaboost\n",
      "\t\tElapsed Time:\t 0:00:00.392357\n",
      "\t\tBest Score:\t0.5563279857397505\n",
      "\t\tBest Params:\t{}\n",
      "\tGradientboost\n",
      "\t\tElapsed Time:\t 0:00:00.673162\n",
      "\t\tBest Score:\t0.562210338680927\n",
      "\t\tBest Params:\t{'max_depth': 1}\n",
      "\tBagging\n",
      "\t\tElapsed Time:\t 0:00:00.703804\n",
      "\t\tBest Score:\t0.5620320855614973\n",
      "\t\tBest Params:\t{'bootstrap_features': True, 'n_estimators': 20}\n",
      "\tBest Scoring Model:\n",
      "\t\tModel:\tK-Nearest Neighbor\n",
      "\t\tScore:\t0.616\n",
      "\t\tParams:\t{'n_neighbors': 7, 'p': 1, 'weights': 'uniform'}\n",
      "Training...\n",
      "Predicting...\n",
      "\tCross Validation Scores:\n",
      "\t\t0.621\n",
      "\t\t0.587\n",
      "\t\t0.678\n",
      "\t\t0.556\n",
      "\t\t0.636\n",
      "\tAverage:\t0.616\n",
      "\tModel Score: 0.478\n",
      "Evaluating...\n"
     ]
    },
    {
     "data": {
      "image/png": "[encoded data removed]",
      "text/plain": [
       "<Figure size 360x288 with 2 Axes>"
      ]
     },
     "metadata": {
      "needs_background": "light"
     },
     "output_type": "display_data"
    },
    {
     "name": "stdout",
     "output_type": "stream",
     "text": [
      "'KNeighborsClassifier' object has no attribute 'feature_importances_'\n",
      "Getting Features and Target (restful)...\n",
      "Splitting Data...\n",
      "Testing Classifiers...\n",
      "\tLogistic Regression\n",
      "\t\tElapsed Time:\t 0:00:00.118300\n",
      "\t\tBest Score:\t0.8344028520499108\n",
      "\t\tBest Params:\t{'fit_intercept': True, 'solver': 'lbfgs'}\n",
      "\tRandom Forest\n",
      "\t\tElapsed Time:\t 0:00:16.380803\n",
      "\t\tBest Score:\t0.8344028520499108\n",
      "\t\tBest Params:\t{'max_depth': 2, 'min_samples_leaf': 1, 'min_samples_split': 2, 'n_estimators': 10}\n",
      "\tBernoulli Naive Bayes\n",
      "\t\tElapsed Time:\t 0:00:00.065710\n",
      "\t\tBest Score:\t0.8344028520499108\n",
      "\t\tBest Params:\t{'alpha': 0}\n",
      "\tK-Nearest Neighbor\n",
      "\t\tElapsed Time:\t 0:00:00.366171\n",
      "\t\tBest Score:\t0.8108734402852049\n",
      "\t\tBest Params:\t{'n_neighbors': 7, 'p': 1, 'weights': 'uniform'}\n",
      "\tSupport Vector\n",
      "\t\tElapsed Time:\t 0:00:00.095403\n",
      "\t\tBest Score:\t0.8344028520499108\n",
      "\t\tBest Params:\t{'kernel': 'linear'}\n",
      "\tMultilayer Perceptron\n",
      "\t\tElapsed Time:\t 0:00:02.758208\n",
      "\t\tBest Score:\t0.8344028520499108\n",
      "\t\tBest Params:\t{'activation': 'identity', 'hidden_layer_sizes': 1}\n",
      "\tAdaboost\n",
      "\t\tElapsed Time:\t 0:00:00.404989\n",
      "\t\tBest Score:\t0.8344028520499108\n",
      "\t\tBest Params:\t{}\n",
      "\tGradientboost\n",
      "\t\tElapsed Time:\t 0:00:00.699496\n",
      "\t\tBest Score:\t0.8344028520499108\n",
      "\t\tBest Params:\t{'max_depth': 1}\n",
      "\tBagging\n",
      "\t\tElapsed Time:\t 0:00:00.745755\n",
      "\t\tBest Score:\t0.8285204991087344\n",
      "\t\tBest Params:\t{'bootstrap_features': True, 'n_estimators': 10}\n",
      "\tBest Scoring Model:\n",
      "\t\tModel:\tLogistic Regression\n",
      "\t\tScore:\t0.834\n",
      "\t\tParams:\t{'fit_intercept': True, 'solver': 'lbfgs'}\n",
      "Training...\n",
      "Predicting...\n",
      "\tCross Validation Scores:\n",
      "\t\t0.728\n",
      "\t\t0.678\n",
      "\t\t0.678\n",
      "\t\t0.678\n",
      "\t\t0.72\n",
      "\tAverage:\t0.696\n",
      "\tModel Score: 0.714\n",
      "Evaluating...\n"
     ]
    },
    {
     "data": {
      "image/png": "[encoded data removed]",
      "text/plain": [
       "<Figure size 360x288 with 2 Axes>"
      ]
     },
     "metadata": {
      "needs_background": "light"
     },
     "output_type": "display_data"
    },
    {
     "name": "stdout",
     "output_type": "stream",
     "text": [
      "'LogisticRegression' object has no attribute 'feature_importances_'\n"
     ]
    }
   ],
   "source": [
    "trial = ieq_and_sq_prediction()\n",
    "for sr_target in [\"tst\",\"sol\",\"naw\",\"restful\"]:\n",
    "    trial.run(ieq_and_activity,srsq,sr_target)"
   ]
  },
  {
   "cell_type": "markdown",
   "metadata": {},
   "source": [
    "# Model Refinement\n",
    "Now we want to refine the model by considering the best models from each of the targets and looking more in depth at the relevant features and the outcome."
   ]
  },
  {
   "cell_type": "code",
   "execution_count": null,
   "metadata": {},
   "outputs": [],
   "source": [
    "test = ieq_and_sq_prediction()\n",
    "test.get_features_and_targets(ieq_and_activity,fbsq)"
   ]
  },
  {
   "cell_type": "code",
   "execution_count": null,
   "metadata": {},
   "outputs": [],
   "source": [
    "test.split_data()"
   ]
  },
  {
   "cell_type": "code",
   "execution_count": null,
   "metadata": {},
   "outputs": [],
   "source": [
    "X_train, X_test, y_train, y_test = train_test_split(test.features, test.targets, test_size=0.33, random_state=10, stratify=test.features[\"count\"])"
   ]
  },
  {
   "cell_type": "code",
   "execution_count": null,
   "metadata": {},
   "outputs": [],
   "source": [
    "test.X_train"
   ]
  },
  {
   "cell_type": "code",
   "execution_count": null,
   "metadata": {},
   "outputs": [],
   "source": []
  }
 ],
 "metadata": {
  "kernelspec": {
   "display_name": "Python 3",
   "language": "python",
   "name": "python3"
  },
  "language_info": {
   "codemirror_mode": {
    "name": "ipython",
    "version": 3
   },
   "file_extension": ".py",
   "mimetype": "text/x-python",
   "name": "python",
   "nbconvert_exporter": "python",
   "pygments_lexer": "ipython3",
   "version": "3.7.0"
  },
  "toc": {
   "base_numbering": 1,
   "nav_menu": {},
   "number_sections": false,
   "sideBar": false,
   "skip_h1_title": false,
   "title_cell": "Table of Contents",
   "title_sidebar": "Contents",
   "toc_cell": false,
   "toc_position": {},
   "toc_section_display": false,
   "toc_window_display": false
  }
 },
 "nbformat": 4,
 "nbformat_minor": 4
}
