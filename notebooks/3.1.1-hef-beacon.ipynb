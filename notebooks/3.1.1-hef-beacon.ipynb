{
 "cells": [
  {
   "cell_type": "markdown",
   "id": "0461ec6b",
   "metadata": {},
   "source": [
    "# BPEACE Beacon"
   ]
  },
  {
   "cell_type": "code",
   "execution_count": 1,
   "id": "b3698e9a",
   "metadata": {},
   "outputs": [],
   "source": [
    "import warnings\n",
    "warnings.filterwarnings('ignore')"
   ]
  },
  {
   "cell_type": "markdown",
   "id": "c52bc9a9",
   "metadata": {},
   "source": [
    "# Summary of Data\n",
    "The purpose of this notebook is to summarize the data that we collected as part of a test run with the latest and greatest beacons."
   ]
  },
  {
   "cell_type": "code",
   "execution_count": 10,
   "id": "767c3315",
   "metadata": {},
   "outputs": [],
   "source": [
    "import os\n",
    "import sys\n",
    "sys.path.append('../')\n",
    "\n",
    "from src.visualization import visualize\n",
    "\n",
    "import pandas as pd\n",
    "pd.set_option('display.max_columns', 200)\n",
    "import numpy as np\n",
    "\n",
    "from datetime import datetime, timedelta\n",
    "\n",
    "import matplotlib.pyplot as plt\n",
    "import seaborn as sns\n",
    "import matplotlib.dates as mdates"
   ]
  },
  {
   "cell_type": "markdown",
   "id": "ba41325f",
   "metadata": {},
   "source": [
    "# Data Import"
   ]
  },
  {
   "cell_type": "code",
   "execution_count": 20,
   "id": "52d15b00",
   "metadata": {},
   "outputs": [],
   "source": [
    "beacon = pd.read_csv(\"../data/processed/bpeace-beacon.csv\",parse_dates=[\"Timestamp\"],infer_datetime_format=True)\n",
    "beacon.drop([\"PM_N_0p5\",\"PM_N_1\",\"PM_N_2p5\",\"PM_N_4\",\"PM_N_10\",\"PM_C_1\",\"PM_C_4\",\"PM_C_10\",\"z\",\"Fitbit\",\"REDCap\"],axis=\"columns\",inplace=True)\n",
    "beacon.rename({\"CO2\":\"co2\",\"NO2\":\"no2\",\"Beacon\":\"beacon\",\"Beiwe\":\"beiwe\"},axis=\"columns\",inplace=True)\n",
    "beacon.dropna(subset=[\"co2\"],inplace=True)"
   ]
  },
  {
   "cell_type": "markdown",
   "id": "f7f98a08",
   "metadata": {},
   "source": [
    "# Overview\n",
    "We start with the basics."
   ]
  },
  {
   "cell_type": "code",
   "execution_count": 23,
   "id": "ad9a449a",
   "metadata": {},
   "outputs": [
    {
     "name": "stdout",
     "output_type": "stream",
     "text": [
      "Number of devices: 26\n",
      "\t 29\n",
      "\t 28\n",
      "\t 27\n",
      "\t 26\n",
      "\t 25\n",
      "\t 24\n",
      "\t 23\n",
      "\t 22\n",
      "\t 20\n",
      "\t 19\n",
      "\t 18\n",
      "\t 17\n",
      "\t 16\n",
      "\t 15\n",
      "\t 13\n",
      "\t 12\n",
      "\t 11\n",
      "\t 10\n",
      "\t 9\n",
      "\t 7\n",
      "\t 6\n",
      "\t 5\n",
      "\t 4\n",
      "\t 3\n",
      "\t 2\n",
      "\t 1\n"
     ]
    }
   ],
   "source": [
    "print(\"Number of devices:\", len(beacon[\"beacon\"].unique()))\n",
    "for beacon in beacon[\"beacon\"].unique():\n",
    "    print(\"\\t\", beacon)"
   ]
  },
  {
   "cell_type": "code",
   "execution_count": null,
   "id": "5655b400",
   "metadata": {},
   "outputs": [],
   "source": []
  }
 ],
 "metadata": {
  "kernelspec": {
   "display_name": "Python 3",
   "language": "python",
   "name": "python3"
  },
  "language_info": {
   "codemirror_mode": {
    "name": "ipython",
    "version": 3
   },
   "file_extension": ".py",
   "mimetype": "text/x-python",
   "name": "python",
   "nbconvert_exporter": "python",
   "pygments_lexer": "ipython3",
   "version": "3.8.8"
  }
 },
 "nbformat": 4,
 "nbformat_minor": 5
}
