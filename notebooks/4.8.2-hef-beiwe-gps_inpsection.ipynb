{
 "cells": [
  {
   "cell_type": "markdown",
   "metadata": {},
   "source": [
    "# Exploring the UTx000 Extension Beiwe Data\n",
    "(Known as BPEACE2 in the [GH repo](https://github.com/intelligent-environments-lab/utx000))"
   ]
  },
  {
   "cell_type": "markdown",
   "metadata": {},
   "source": [
    "# GPS Inspection\n",
    "The GPS data are a little wonky, so I want to take a closer look."
   ]
  },
  {
   "cell_type": "code",
   "execution_count": 1,
   "metadata": {},
   "outputs": [],
   "source": [
    "import warnings\n",
    "warnings.filterwarnings('ignore')"
   ]
  },
  {
   "cell_type": "markdown",
   "metadata": {},
   "source": [
    "# Package Import"
   ]
  },
  {
   "cell_type": "code",
   "execution_count": 9,
   "metadata": {},
   "outputs": [],
   "source": [
    "import sys\n",
    "sys.path.append('../')\n",
    "\n",
    "from src.features import build_features\n",
    "from src.visualization import visualize\n",
    "from src.reports import make_report\n",
    "\n",
    "import pandas as pd\n",
    "import numpy as np\n",
    "\n",
    "from datetime import datetime, timedelta\n",
    "import math\n",
    "\n",
    "import matplotlib.pyplot as plt\n",
    "\n",
    "import geopy.distance"
   ]
  },
  {
   "cell_type": "markdown",
   "metadata": {},
   "source": [
    "# Data Import\n",
    "\n",
    "## GPS Data\n",
    "The GPS data are available in the ```processed``` directory"
   ]
  },
  {
   "cell_type": "code",
   "execution_count": 5,
   "metadata": {},
   "outputs": [
    {
     "data": {
      "text/html": [
       "<div>\n",
       "<style scoped>\n",
       "    .dataframe tbody tr th:only-of-type {\n",
       "        vertical-align: middle;\n",
       "    }\n",
       "\n",
       "    .dataframe tbody tr th {\n",
       "        vertical-align: top;\n",
       "    }\n",
       "\n",
       "    .dataframe thead th {\n",
       "        text-align: right;\n",
       "    }\n",
       "</style>\n",
       "<table border=\"1\" class=\"dataframe\">\n",
       "  <thead>\n",
       "    <tr style=\"text-align: right;\">\n",
       "      <th></th>\n",
       "      <th>utc</th>\n",
       "      <th>lat</th>\n",
       "      <th>long</th>\n",
       "      <th>altitude</th>\n",
       "      <th>accuracy</th>\n",
       "      <th>beiwe</th>\n",
       "    </tr>\n",
       "    <tr>\n",
       "      <th>timestamp</th>\n",
       "      <th></th>\n",
       "      <th></th>\n",
       "      <th></th>\n",
       "      <th></th>\n",
       "      <th></th>\n",
       "      <th></th>\n",
       "    </tr>\n",
       "  </thead>\n",
       "  <tbody>\n",
       "    <tr>\n",
       "      <th>2020-09-02 04:00:00</th>\n",
       "      <td>2020-09-02T09:04:18.447</td>\n",
       "      <td>30.36724</td>\n",
       "      <td>-97.79323</td>\n",
       "      <td>247.38721</td>\n",
       "      <td>65.00000</td>\n",
       "      <td>zdpffrox</td>\n",
       "    </tr>\n",
       "    <tr>\n",
       "      <th>2020-09-02 04:05:00</th>\n",
       "      <td>2020-09-02T09:05:00.999</td>\n",
       "      <td>30.36724</td>\n",
       "      <td>-97.79323</td>\n",
       "      <td>247.38721</td>\n",
       "      <td>4.97183</td>\n",
       "      <td>zdpffrox</td>\n",
       "    </tr>\n",
       "    <tr>\n",
       "      <th>2020-09-02 04:15:00</th>\n",
       "      <td>2020-09-02T09:15:18.575</td>\n",
       "      <td>30.36721</td>\n",
       "      <td>-97.79321</td>\n",
       "      <td>247.08321</td>\n",
       "      <td>65.00000</td>\n",
       "      <td>zdpffrox</td>\n",
       "    </tr>\n",
       "    <tr>\n",
       "      <th>2020-09-02 04:25:00</th>\n",
       "      <td>2020-09-02T09:26:18.637</td>\n",
       "      <td>30.36725</td>\n",
       "      <td>-97.79324</td>\n",
       "      <td>248.14131</td>\n",
       "      <td>65.00000</td>\n",
       "      <td>zdpffrox</td>\n",
       "    </tr>\n",
       "    <tr>\n",
       "      <th>2020-09-02 04:35:00</th>\n",
       "      <td>2020-09-02T09:37:18.698</td>\n",
       "      <td>30.36718</td>\n",
       "      <td>-97.79324</td>\n",
       "      <td>245.49971</td>\n",
       "      <td>112.29229</td>\n",
       "      <td>zdpffrox</td>\n",
       "    </tr>\n",
       "  </tbody>\n",
       "</table>\n",
       "</div>"
      ],
      "text/plain": [
       "                                         utc       lat      long   altitude  \\\n",
       "timestamp                                                                     \n",
       "2020-09-02 04:00:00  2020-09-02T09:04:18.447  30.36724 -97.79323  247.38721   \n",
       "2020-09-02 04:05:00  2020-09-02T09:05:00.999  30.36724 -97.79323  247.38721   \n",
       "2020-09-02 04:15:00  2020-09-02T09:15:18.575  30.36721 -97.79321  247.08321   \n",
       "2020-09-02 04:25:00  2020-09-02T09:26:18.637  30.36725 -97.79324  248.14131   \n",
       "2020-09-02 04:35:00  2020-09-02T09:37:18.698  30.36718 -97.79324  245.49971   \n",
       "\n",
       "                      accuracy     beiwe  \n",
       "timestamp                                 \n",
       "2020-09-02 04:00:00   65.00000  zdpffrox  \n",
       "2020-09-02 04:05:00    4.97183  zdpffrox  \n",
       "2020-09-02 04:15:00   65.00000  zdpffrox  \n",
       "2020-09-02 04:25:00   65.00000  zdpffrox  \n",
       "2020-09-02 04:35:00  112.29229  zdpffrox  "
      ]
     },
     "execution_count": 5,
     "metadata": {},
     "output_type": "execute_result"
    }
   ],
   "source": [
    "gps = pd.read_csv('../data/processed/beiwe-gps-ux_s20.csv', index_col=\"timestamp\", parse_dates=True, infer_datetime_format=True)\n",
    "gps.tail()"
   ]
  },
  {
   "cell_type": "code",
   "execution_count": 7,
   "metadata": {},
   "outputs": [
    {
     "name": "stdout",
     "output_type": "stream",
     "text": [
      "Number of Beiwe participants: 52\n"
     ]
    }
   ],
   "source": [
    "n = len(gps['beiwe'].unique())\n",
    "print(f'Number of Beiwe participants: {n}')"
   ]
  },
  {
   "cell_type": "markdown",
   "metadata": {},
   "source": [
    "## Address Information\n",
    "We can also take a look at how well the GPS coordinates tend to match up with addresses"
   ]
  },
  {
   "cell_type": "code",
   "execution_count": 8,
   "metadata": {},
   "outputs": [
    {
     "data": {
      "text/html": [
       "<div>\n",
       "<style scoped>\n",
       "    .dataframe tbody tr th:only-of-type {\n",
       "        vertical-align: middle;\n",
       "    }\n",
       "\n",
       "    .dataframe tbody tr th {\n",
       "        vertical-align: top;\n",
       "    }\n",
       "\n",
       "    .dataframe thead th {\n",
       "        text-align: right;\n",
       "    }\n",
       "</style>\n",
       "<table border=\"1\" class=\"dataframe\">\n",
       "  <thead>\n",
       "    <tr style=\"text-align: right;\">\n",
       "      <th></th>\n",
       "      <th>redcap</th>\n",
       "      <th>beiwe</th>\n",
       "      <th>beacon</th>\n",
       "      <th>start_date</th>\n",
       "      <th>end_date</th>\n",
       "      <th>move_date</th>\n",
       "      <th>return_date</th>\n",
       "      <th>lat</th>\n",
       "      <th>long</th>\n",
       "      <th>original_address</th>\n",
       "      <th>volume</th>\n",
       "      <th>housemates</th>\n",
       "      <th>roommates</th>\n",
       "      <th>n_rooms</th>\n",
       "      <th>no2_sensor</th>\n",
       "      <th>original_start</th>\n",
       "      <th>original_end</th>\n",
       "      <th>original_move</th>\n",
       "    </tr>\n",
       "  </thead>\n",
       "  <tbody>\n",
       "    <tr>\n",
       "      <th>0</th>\n",
       "      <td>10</td>\n",
       "      <td>kyj367pi</td>\n",
       "      <td>1</td>\n",
       "      <td>2020-06-08 13:00:00</td>\n",
       "      <td>2020-09-03</td>\n",
       "      <td>2020-07-31</td>\n",
       "      <td>2020-09-02</td>\n",
       "      <td>30.312614</td>\n",
       "      <td>-97.732338</td>\n",
       "      <td>2822 Rio Grande St. Apt 202 Austin, TX, 78705</td>\n",
       "      <td>1080</td>\n",
       "      <td>0</td>\n",
       "      <td>0</td>\n",
       "      <td>1.0</td>\n",
       "      <td>Yes</td>\n",
       "      <td>2020-06-15</td>\n",
       "      <td>NaT</td>\n",
       "      <td>2020-09-14</td>\n",
       "    </tr>\n",
       "    <tr>\n",
       "      <th>1</th>\n",
       "      <td>55</td>\n",
       "      <td>745vq78e</td>\n",
       "      <td>5</td>\n",
       "      <td>2020-06-09 10:21:00</td>\n",
       "      <td>2020-08-23</td>\n",
       "      <td>NaT</td>\n",
       "      <td>2020-09-08</td>\n",
       "      <td>30.288012</td>\n",
       "      <td>-97.751201</td>\n",
       "      <td>18207 Branson Falls San Antonio, TX 78255</td>\n",
       "      <td>1188</td>\n",
       "      <td>0</td>\n",
       "      <td>0</td>\n",
       "      <td>5.0</td>\n",
       "      <td>Yes</td>\n",
       "      <td>2020-06-15</td>\n",
       "      <td>NaT</td>\n",
       "      <td>2020-08-17</td>\n",
       "    </tr>\n",
       "    <tr>\n",
       "      <th>2</th>\n",
       "      <td>61</td>\n",
       "      <td>itmylz3g</td>\n",
       "      <td>6</td>\n",
       "      <td>2020-06-17 14:08:00</td>\n",
       "      <td>2020-09-01</td>\n",
       "      <td>NaT</td>\n",
       "      <td>2020-09-01</td>\n",
       "      <td>29.855371</td>\n",
       "      <td>-95.741200</td>\n",
       "      <td>5403 Dunsmore Harbor Ln, Katy, TX 77449</td>\n",
       "      <td>1188</td>\n",
       "      <td>0</td>\n",
       "      <td>0</td>\n",
       "      <td>5.0</td>\n",
       "      <td>Yes</td>\n",
       "      <td>2020-06-15</td>\n",
       "      <td>2020-09-11</td>\n",
       "      <td>2020-07-03</td>\n",
       "    </tr>\n",
       "    <tr>\n",
       "      <th>3</th>\n",
       "      <td>0</td>\n",
       "      <td>zdpffrox</td>\n",
       "      <td>7</td>\n",
       "      <td>2020-06-01 00:00:00</td>\n",
       "      <td>2020-09-01</td>\n",
       "      <td>NaT</td>\n",
       "      <td>2020-09-01</td>\n",
       "      <td>30.326815</td>\n",
       "      <td>-97.744665</td>\n",
       "      <td>2211 Lawnmont Avenue apt 314 Austin, TX 78756</td>\n",
       "      <td>1365</td>\n",
       "      <td>1</td>\n",
       "      <td>1</td>\n",
       "      <td>NaN</td>\n",
       "      <td>Yes</td>\n",
       "      <td>2020-06-06</td>\n",
       "      <td>2020-09-03</td>\n",
       "      <td>2020-07-31</td>\n",
       "    </tr>\n",
       "    <tr>\n",
       "      <th>4</th>\n",
       "      <td>43</td>\n",
       "      <td>xlw5ntd5</td>\n",
       "      <td>10</td>\n",
       "      <td>2020-06-08 13:19:00</td>\n",
       "      <td>2020-09-11</td>\n",
       "      <td>2020-08-10</td>\n",
       "      <td>2020-09-22</td>\n",
       "      <td>30.351693</td>\n",
       "      <td>-97.614524</td>\n",
       "      <td>6704 bramber ln, austin, tx 78754</td>\n",
       "      <td>1188</td>\n",
       "      <td>0</td>\n",
       "      <td>0</td>\n",
       "      <td>NaN</td>\n",
       "      <td>Yes</td>\n",
       "      <td>2020-06-08</td>\n",
       "      <td>NaT</td>\n",
       "      <td>2020-07-01</td>\n",
       "    </tr>\n",
       "  </tbody>\n",
       "</table>\n",
       "</div>"
      ],
      "text/plain": [
       "   redcap     beiwe  beacon          start_date   end_date  move_date  \\\n",
       "0      10  kyj367pi       1 2020-06-08 13:00:00 2020-09-03 2020-07-31   \n",
       "1      55  745vq78e       5 2020-06-09 10:21:00 2020-08-23        NaT   \n",
       "2      61  itmylz3g       6 2020-06-17 14:08:00 2020-09-01        NaT   \n",
       "3       0  zdpffrox       7 2020-06-01 00:00:00 2020-09-01        NaT   \n",
       "4      43  xlw5ntd5      10 2020-06-08 13:19:00 2020-09-11 2020-08-10   \n",
       "\n",
       "  return_date        lat       long  \\\n",
       "0  2020-09-02  30.312614 -97.732338   \n",
       "1  2020-09-08  30.288012 -97.751201   \n",
       "2  2020-09-01  29.855371 -95.741200   \n",
       "3  2020-09-01  30.326815 -97.744665   \n",
       "4  2020-09-22  30.351693 -97.614524   \n",
       "\n",
       "                                original_address  volume  housemates  \\\n",
       "0  2822 Rio Grande St. Apt 202 Austin, TX, 78705    1080           0   \n",
       "1      18207 Branson Falls San Antonio, TX 78255    1188           0   \n",
       "2        5403 Dunsmore Harbor Ln, Katy, TX 77449    1188           0   \n",
       "3  2211 Lawnmont Avenue apt 314 Austin, TX 78756    1365           1   \n",
       "4              6704 bramber ln, austin, tx 78754    1188           0   \n",
       "\n",
       "   roommates  n_rooms no2_sensor original_start original_end original_move  \n",
       "0          0      1.0        Yes     2020-06-15          NaT    2020-09-14  \n",
       "1          0      5.0        Yes     2020-06-15          NaT    2020-08-17  \n",
       "2          0      5.0        Yes     2020-06-15   2020-09-11    2020-07-03  \n",
       "3          1      NaN        Yes     2020-06-06   2020-09-03    2020-07-31  \n",
       "4          0      NaN        Yes     2020-06-08          NaT    2020-07-01  "
      ]
     },
     "execution_count": 8,
     "metadata": {},
     "output_type": "execute_result"
    }
   ],
   "source": [
    "info = pd.read_excel('../data/raw/utx000/admin/id_crossover.xlsx',sheet_name='beacon')\n",
    "info.head()"
   ]
  },
  {
   "cell_type": "markdown",
   "metadata": {},
   "source": [
    "# Distance Between Measurements\n",
    "There is interest to know when the gps logs a data point and it might be due to the distance between subsequent points i.e. if the distance is greater than 50 meters, Biewe logs the point. "
   ]
  },
  {
   "cell_type": "code",
   "execution_count": 17,
   "metadata": {},
   "outputs": [],
   "source": [
    "def calculate_distance_between_measurements(gps_df, plot=False):\n",
    "    \"\"\"Calculates the distance between subsequent GPS measurements\"\"\"\n",
    "    distances = []\n",
    "    Lat = gps_df['lat'].values\n",
    "    Long = gps_df['long'].values\n",
    "    for i in range(len(gps_df)-1):\n",
    "\n",
    "        coords_1 = (Lat[i], Long[i])\n",
    "        coords_2 = (Lat[i+1], Long[i+1])\n",
    "\n",
    "        distances.append(geopy.distance.distance(coords_1, coords_2).m)\n",
    "\n",
    "    distances.append(0)\n",
    "    print(f'The minimum distance: {np.nanmin(distances)}')\n",
    "    # Plotting\n",
    "    if plot:\n",
    "        fig, ax = plt.subplots(figsize=(12,8))\n",
    "        ax.hist(distances,bins=np.arange(0,205,5),rwidth=0.9,color='black')\n",
    "\n",
    "        plt.show()\n",
    "        plt.close()\n",
    "        \n",
    "    return distances"
   ]
  },
  {
   "cell_type": "code",
   "execution_count": 18,
   "metadata": {},
   "outputs": [
    {
     "name": "stdout",
     "output_type": "stream",
     "text": [
      "The minimum distance: 0.0\n"
     ]
    }
   ],
   "source": [
    "distances = calculate_distance_between_measurements(gps)"
   ]
  },
  {
   "cell_type": "markdown",
   "metadata": {},
   "source": [
    "<div class=\"alert alert-block alert-danger\">\n",
    "\n",
    "Doesn't seem to be any sort of cut-off value for the distances like I was told.\n",
    "\n",
    "        \n",
    "</div>"
   ]
  },
  {
   "cell_type": "markdown",
   "metadata": {},
   "source": [
    "So seems like there might be a combination of distance and timestamp. The next step would be to see what the timesteps between distances would be."
   ]
  },
  {
   "cell_type": "code",
   "execution_count": 15,
   "metadata": {},
   "outputs": [],
   "source": [
    "def compare_distance_and_time_between_measurements(gps_df, distances, plot=False):\n",
    "    \"\"\"Calculates the distances between subsequent measurements and includes consideration for their timestamps\"\"\"\n",
    "    gps = gps_df.copy()\n",
    "    gps['distance'] = distances\n",
    "    # looking at time between measurements\n",
    "    # short distances\n",
    "    gps_short_distance = gps[gps['distance'] < 50]\n",
    "    dt = []\n",
    "    for i in range(len(gps_short_distance)-1):\n",
    "        t = (gps_short_distance.index[i+1] - gps_short_distance.index[i]).total_seconds()\n",
    "        dt.append(t)\n",
    "\n",
    "    # long distances\n",
    "    gps_long_distance = gps[gps['distance'] > 50]\n",
    "    dt_long = []\n",
    "    for i in range(len(gps_long_distance)-1):\n",
    "        t = (gps_long_distance.index[i+1] - gps_long_distance.index[i]).total_seconds()\n",
    "        dt_long.append(t)\n",
    "    \n",
    "    if plot:\n",
    "        fig, axes = plt.subplots(1,2,figsize=(12,8))\n",
    "        ax = axes[0]\n",
    "        ax.hist(dt,bins=np.arange(0,26,1),rwidth=0.9,color='black')\n",
    "\n",
    "        ax = axes[1]\n",
    "        ax.hist(dt_long,bins=np.arange(0,205,5),rwidth=0.9,color='black')\n",
    "\n",
    "        plt.show()\n",
    "        plt.close()\n",
    "    \n",
    "    return dt, gps_short_distance, dt_long, gps_long_distance"
   ]
  },
  {
   "cell_type": "code",
   "execution_count": 16,
   "metadata": {},
   "outputs": [
    {
     "ename": "NameError",
     "evalue": "name 'distances' is not defined",
     "output_type": "error",
     "traceback": [
      "\u001b[0;31m---------------------------------------------------------------------------\u001b[0m",
      "\u001b[0;31mNameError\u001b[0m                                 Traceback (most recent call last)",
      "\u001b[0;32m<ipython-input-16-d27b302866d2>\u001b[0m in \u001b[0;36m<module>\u001b[0;34m\u001b[0m\n\u001b[0;32m----> 1\u001b[0;31m \u001b[0mcompare_distance_and_time_between_measurements\u001b[0m\u001b[0;34m(\u001b[0m\u001b[0mgps\u001b[0m\u001b[0;34m)\u001b[0m\u001b[0;34m\u001b[0m\u001b[0m\n\u001b[0m",
      "\u001b[0;32m<ipython-input-15-b00d20b18ee8>\u001b[0m in \u001b[0;36mcompare_distance_and_time_between_measurements\u001b[0;34m(gps_df, plot)\u001b[0m\n\u001b[1;32m      2\u001b[0m     \u001b[0;34m\"\"\"Calculates the distances between subsequent measurements and includes consideration for their timestamps\"\"\"\u001b[0m\u001b[0;34m\u001b[0m\u001b[0m\n\u001b[1;32m      3\u001b[0m     \u001b[0mgps\u001b[0m \u001b[0;34m=\u001b[0m \u001b[0mgps_df\u001b[0m\u001b[0;34m.\u001b[0m\u001b[0mcopy\u001b[0m\u001b[0;34m(\u001b[0m\u001b[0;34m)\u001b[0m\u001b[0;34m\u001b[0m\u001b[0m\n\u001b[0;32m----> 4\u001b[0;31m     \u001b[0mgps\u001b[0m\u001b[0;34m[\u001b[0m\u001b[0;34m'distance'\u001b[0m\u001b[0;34m]\u001b[0m \u001b[0;34m=\u001b[0m \u001b[0mdistances\u001b[0m\u001b[0;34m\u001b[0m\u001b[0m\n\u001b[0m\u001b[1;32m      5\u001b[0m     \u001b[0;31m# looking at time between measurements\u001b[0m\u001b[0;34m\u001b[0m\u001b[0;34m\u001b[0m\u001b[0m\n\u001b[1;32m      6\u001b[0m     \u001b[0;31m# short distances\u001b[0m\u001b[0;34m\u001b[0m\u001b[0;34m\u001b[0m\u001b[0m\n",
      "\u001b[0;31mNameError\u001b[0m: name 'distances' is not defined"
     ]
    }
   ],
   "source": [
    "compare_distance_and_time_between_measurements(gps, distances)"
   ]
  },
  {
   "cell_type": "markdown",
   "metadata": {},
   "source": [
    "# Individual-Level Inspection\n",
    "We want to look at a few individuals to get a sense of the data and what gaps are present. The entire study period is quite long so we can restrict the time frame if need be to get a better look."
   ]
  },
  {
   "cell_type": "code",
   "execution_count": 19,
   "metadata": {},
   "outputs": [
    {
     "data": {
      "text/plain": [
       "array(['15tejjtw', '1a9udoc5', '2xtqkfz1', '43b1cd5m', '4i7679py',\n",
       "       '5fvmg226', '745vq78e', '789gcb6u', '7dhu3pn7', '8vpj3b9v',\n",
       "       '9jtzsuu8', '9xmhtq74', 'awa8uces', 'axk49ssu', 'cnpj2xu4',\n",
       "       'e73a1pd5', 'e8js2jdf', 'ewvz3zm1', 'eyf8oqwl', 'h8aoiyhv',\n",
       "       'hcpu5myv', 'hfttkth7', 'hrqrneay', 'hxj6brwj', 'i31pt4b4',\n",
       "       'i4w8dx6l', 'idbkjh8u', 'itmylz3g', 'kyj367pi', 'lkkjddam',\n",
       "       'mm69prai', 'mv14b8aj', 'o6xwrota', 'olaxadz5', 'oxcpr7e3',\n",
       "       'pgvvwyvh', 'q5y11ytm', 'qh34m4r9', 'r11k6uxz', 'rnse61g4',\n",
       "       'rvhdl2la', 'shi1ykro', 't4jphih6', 'tlmlq19s', 'tmexej5v',\n",
       "       'vpy1a985', 'vr9j5rry', 'xdbdrk6e', 'xlw5ntd5', 'xxvnhauv',\n",
       "       'y1tvkx14', 'zdpffrox'], dtype=object)"
      ]
     },
     "execution_count": 19,
     "metadata": {},
     "output_type": "execute_result"
    }
   ],
   "source": [
    "gps['beiwe'].unique()"
   ]
  },
  {
   "cell_type": "markdown",
   "metadata": {},
   "source": [
    "Choosing randomly from the list above (first, last, and somewhere in the middle), we can inspect the GPS data. We look at the Lat and Long values for each participant of interest to make sure they match up. "
   ]
  },
  {
   "cell_type": "code",
   "execution_count": 20,
   "metadata": {},
   "outputs": [
    {
     "ename": "KeyError",
     "evalue": "'Beiwe'",
     "output_type": "error",
     "traceback": [
      "\u001b[0;31m---------------------------------------------------------------------------\u001b[0m",
      "\u001b[0;31mKeyError\u001b[0m                                  Traceback (most recent call last)",
      "\u001b[0;32m/Library/Frameworks/Python.framework/Versions/3.7/lib/python3.7/site-packages/pandas/core/indexes/base.py\u001b[0m in \u001b[0;36mget_loc\u001b[0;34m(self, key, method, tolerance)\u001b[0m\n\u001b[1;32m   2897\u001b[0m             \u001b[0;32mtry\u001b[0m\u001b[0;34m:\u001b[0m\u001b[0;34m\u001b[0m\u001b[0m\n\u001b[0;32m-> 2898\u001b[0;31m                 \u001b[0;32mreturn\u001b[0m \u001b[0mself\u001b[0m\u001b[0;34m.\u001b[0m\u001b[0m_engine\u001b[0m\u001b[0;34m.\u001b[0m\u001b[0mget_loc\u001b[0m\u001b[0;34m(\u001b[0m\u001b[0mcasted_key\u001b[0m\u001b[0;34m)\u001b[0m\u001b[0;34m\u001b[0m\u001b[0m\n\u001b[0m\u001b[1;32m   2899\u001b[0m             \u001b[0;32mexcept\u001b[0m \u001b[0mKeyError\u001b[0m \u001b[0;32mas\u001b[0m \u001b[0merr\u001b[0m\u001b[0;34m:\u001b[0m\u001b[0;34m\u001b[0m\u001b[0m\n",
      "\u001b[0;32mpandas/_libs/index.pyx\u001b[0m in \u001b[0;36mpandas._libs.index.IndexEngine.get_loc\u001b[0;34m()\u001b[0m\n",
      "\u001b[0;32mpandas/_libs/index.pyx\u001b[0m in \u001b[0;36mpandas._libs.index.IndexEngine.get_loc\u001b[0;34m()\u001b[0m\n",
      "\u001b[0;32mpandas/_libs/hashtable_class_helper.pxi\u001b[0m in \u001b[0;36mpandas._libs.hashtable.PyObjectHashTable.get_item\u001b[0;34m()\u001b[0m\n",
      "\u001b[0;32mpandas/_libs/hashtable_class_helper.pxi\u001b[0m in \u001b[0;36mpandas._libs.hashtable.PyObjectHashTable.get_item\u001b[0;34m()\u001b[0m\n",
      "\u001b[0;31mKeyError\u001b[0m: 'Beiwe'",
      "\nThe above exception was the direct cause of the following exception:\n",
      "\u001b[0;31mKeyError\u001b[0m                                  Traceback (most recent call last)",
      "\u001b[0;32m<ipython-input-20-78126d81e42f>\u001b[0m in \u001b[0;36m<module>\u001b[0;34m\u001b[0m\n\u001b[1;32m      2\u001b[0m     \u001b[0mfig\u001b[0m\u001b[0;34m,\u001b[0m \u001b[0max_lat\u001b[0m \u001b[0;34m=\u001b[0m \u001b[0mplt\u001b[0m\u001b[0;34m.\u001b[0m\u001b[0msubplots\u001b[0m\u001b[0;34m(\u001b[0m\u001b[0mfigsize\u001b[0m\u001b[0;34m=\u001b[0m\u001b[0;34m(\u001b[0m\u001b[0;36m16\u001b[0m\u001b[0;34m,\u001b[0m\u001b[0;36m4\u001b[0m\u001b[0;34m)\u001b[0m\u001b[0;34m)\u001b[0m\u001b[0;34m\u001b[0m\u001b[0m\n\u001b[1;32m      3\u001b[0m     \u001b[0;31m# gps data per individual\u001b[0m\u001b[0;34m\u001b[0m\u001b[0;34m\u001b[0m\u001b[0m\n\u001b[0;32m----> 4\u001b[0;31m     \u001b[0mgps_pt\u001b[0m \u001b[0;34m=\u001b[0m \u001b[0mgps\u001b[0m\u001b[0;34m[\u001b[0m\u001b[0mgps\u001b[0m\u001b[0;34m[\u001b[0m\u001b[0;34m'Beiwe'\u001b[0m\u001b[0;34m]\u001b[0m \u001b[0;34m==\u001b[0m \u001b[0mpt\u001b[0m\u001b[0;34m]\u001b[0m\u001b[0;34m\u001b[0m\u001b[0m\n\u001b[0m\u001b[1;32m      5\u001b[0m     \u001b[0;31m# restricting again for the date\u001b[0m\u001b[0;34m\u001b[0m\u001b[0;34m\u001b[0m\u001b[0m\n\u001b[1;32m      6\u001b[0m     \u001b[0mgps_pt\u001b[0m \u001b[0;34m=\u001b[0m \u001b[0mgps_pt\u001b[0m\u001b[0;34m[\u001b[0m\u001b[0mdatetime\u001b[0m\u001b[0;34m(\u001b[0m\u001b[0;36m2020\u001b[0m\u001b[0;34m,\u001b[0m\u001b[0;36m6\u001b[0m\u001b[0;34m,\u001b[0m\u001b[0;36m7\u001b[0m\u001b[0;34m)\u001b[0m\u001b[0;34m:\u001b[0m\u001b[0mdatetime\u001b[0m\u001b[0;34m(\u001b[0m\u001b[0;36m2020\u001b[0m\u001b[0;34m,\u001b[0m\u001b[0;36m6\u001b[0m\u001b[0;34m,\u001b[0m\u001b[0;36m9\u001b[0m\u001b[0;34m)\u001b[0m\u001b[0;34m]\u001b[0m\u001b[0;34m\u001b[0m\u001b[0m\n",
      "\u001b[0;32m/Library/Frameworks/Python.framework/Versions/3.7/lib/python3.7/site-packages/pandas/core/frame.py\u001b[0m in \u001b[0;36m__getitem__\u001b[0;34m(self, key)\u001b[0m\n\u001b[1;32m   2904\u001b[0m             \u001b[0;32mif\u001b[0m \u001b[0mself\u001b[0m\u001b[0;34m.\u001b[0m\u001b[0mcolumns\u001b[0m\u001b[0;34m.\u001b[0m\u001b[0mnlevels\u001b[0m \u001b[0;34m>\u001b[0m \u001b[0;36m1\u001b[0m\u001b[0;34m:\u001b[0m\u001b[0;34m\u001b[0m\u001b[0m\n\u001b[1;32m   2905\u001b[0m                 \u001b[0;32mreturn\u001b[0m \u001b[0mself\u001b[0m\u001b[0;34m.\u001b[0m\u001b[0m_getitem_multilevel\u001b[0m\u001b[0;34m(\u001b[0m\u001b[0mkey\u001b[0m\u001b[0;34m)\u001b[0m\u001b[0;34m\u001b[0m\u001b[0m\n\u001b[0;32m-> 2906\u001b[0;31m             \u001b[0mindexer\u001b[0m \u001b[0;34m=\u001b[0m \u001b[0mself\u001b[0m\u001b[0;34m.\u001b[0m\u001b[0mcolumns\u001b[0m\u001b[0;34m.\u001b[0m\u001b[0mget_loc\u001b[0m\u001b[0;34m(\u001b[0m\u001b[0mkey\u001b[0m\u001b[0;34m)\u001b[0m\u001b[0;34m\u001b[0m\u001b[0m\n\u001b[0m\u001b[1;32m   2907\u001b[0m             \u001b[0;32mif\u001b[0m \u001b[0mis_integer\u001b[0m\u001b[0;34m(\u001b[0m\u001b[0mindexer\u001b[0m\u001b[0;34m)\u001b[0m\u001b[0;34m:\u001b[0m\u001b[0;34m\u001b[0m\u001b[0m\n\u001b[1;32m   2908\u001b[0m                 \u001b[0mindexer\u001b[0m \u001b[0;34m=\u001b[0m \u001b[0;34m[\u001b[0m\u001b[0mindexer\u001b[0m\u001b[0;34m]\u001b[0m\u001b[0;34m\u001b[0m\u001b[0m\n",
      "\u001b[0;32m/Library/Frameworks/Python.framework/Versions/3.7/lib/python3.7/site-packages/pandas/core/indexes/base.py\u001b[0m in \u001b[0;36mget_loc\u001b[0;34m(self, key, method, tolerance)\u001b[0m\n\u001b[1;32m   2898\u001b[0m                 \u001b[0;32mreturn\u001b[0m \u001b[0mself\u001b[0m\u001b[0;34m.\u001b[0m\u001b[0m_engine\u001b[0m\u001b[0;34m.\u001b[0m\u001b[0mget_loc\u001b[0m\u001b[0;34m(\u001b[0m\u001b[0mcasted_key\u001b[0m\u001b[0;34m)\u001b[0m\u001b[0;34m\u001b[0m\u001b[0m\n\u001b[1;32m   2899\u001b[0m             \u001b[0;32mexcept\u001b[0m \u001b[0mKeyError\u001b[0m \u001b[0;32mas\u001b[0m \u001b[0merr\u001b[0m\u001b[0;34m:\u001b[0m\u001b[0;34m\u001b[0m\u001b[0m\n\u001b[0;32m-> 2900\u001b[0;31m                 \u001b[0;32mraise\u001b[0m \u001b[0mKeyError\u001b[0m\u001b[0;34m(\u001b[0m\u001b[0mkey\u001b[0m\u001b[0;34m)\u001b[0m \u001b[0;32mfrom\u001b[0m \u001b[0merr\u001b[0m\u001b[0;34m\u001b[0m\u001b[0m\n\u001b[0m\u001b[1;32m   2901\u001b[0m \u001b[0;34m\u001b[0m\u001b[0m\n\u001b[1;32m   2902\u001b[0m         \u001b[0;32mif\u001b[0m \u001b[0mtolerance\u001b[0m \u001b[0;32mis\u001b[0m \u001b[0;32mnot\u001b[0m \u001b[0;32mNone\u001b[0m\u001b[0;34m:\u001b[0m\u001b[0;34m\u001b[0m\u001b[0m\n",
      "\u001b[0;31mKeyError\u001b[0m: 'Beiwe'"
     ]
    },
    {
     "data": {
      "image/png": "[encoded data removed]",
      "text/plain": [
       "<Figure size 1152x288 with 1 Axes>"
      ]
     },
     "metadata": {
      "needs_background": "light"
     },
     "output_type": "display_data"
    }
   ],
   "source": [
    "for pt in ['2xtqkfz1','xxvnhauv','itmylz3g']:\n",
    "    fig, ax_lat = plt.subplots(figsize=(16,4))\n",
    "    # gps data per individual\n",
    "    gps_pt = gps[gps['b'] == pt]\n",
    "    # restricting again for the date\n",
    "    gps_pt = gps_pt[datetime(2020,6,7):datetime(2020,6,9)]\n",
    "    # info per individual\n",
    "    info_pt = info[info['Beiwe'] == pt]\n",
    "\n",
    "    # Plotting Lat\n",
    "    ax_lat.scatter(gps_pt.index,gps_pt['Lat'], color='cornflowerblue', s=5,label='Latitude')\n",
    "    \n",
    "    # Plotting Long on same axis\n",
    "    ax_long = ax_lat.twinx()\n",
    "    ax_long.scatter(gps_pt.index,gps_pt['Long'], color='firebrick', s=5, label='Longitude')\n",
    "    \n",
    "    plt.show()\n",
    "    plt.close()"
   ]
  },
  {
   "cell_type": "markdown",
   "metadata": {},
   "source": [
    "## Address Coordinate Overlap and Move-Out Dates"
   ]
  },
  {
   "cell_type": "code",
   "execution_count": null,
   "metadata": {
    "scrolled": true
   },
   "outputs": [],
   "source": [
    "for coord, color in zip(['Lat','Long'],['cornflowerblue','firebrick']):\n",
    "    print(f'Looking at {coord}:')\n",
    "    for pt in gps['Beiwe'].unique():\n",
    "        if pt in info['Beiwe'].values:\n",
    "            fig, ax = plt.subplots(figsize=(16,4))\n",
    "            # gps data per individual\n",
    "            gps_pt = gps[gps['Beiwe'] == pt]\n",
    "            # info per individual\n",
    "            info_pt = info[info['Beiwe'] == pt]\n",
    "\n",
    "            ax.scatter(gps_pt.index,gps_pt[coord], color=color, s=5,alpha=0.5)\n",
    "            ax.axhline(info_pt[coord].values[0],color='black',linestyle='dashed')\n",
    "            ax.axvline(info_pt['move_date'].values[0],color='black',linestyle='dashed')\n",
    "            ax.set_title(f'Beiwe: {pt}')\n",
    "\n",
    "            plt.show()\n",
    "            plt.close()\n",
    "            \n",
    "        else:\n",
    "            print(f'Patient {pt} not given Beacon')"
   ]
  },
  {
   "cell_type": "markdown",
   "metadata": {},
   "source": [
    "<div class=\"alert alert-block alert-danger\">\n",
    "Initial inspection shows that move-out dates do NOT correspond with the GPS data. "
   ]
  },
  {
   "cell_type": "markdown",
   "metadata": {},
   "source": [
    "## Beacon and GPS Overlap\n",
    "Here we look to see if participants that logged Beacon data also logged GPS data."
   ]
  },
  {
   "cell_type": "code",
   "execution_count": 15,
   "metadata": {},
   "outputs": [],
   "source": [
    "beacon_df = pd.read_csv('../data/processed/bpeace2-beacon.csv',index_col=0)\n",
    "# GPS\n",
    "pt_list = []\n",
    "bb_list = []\n",
    "# info\n",
    "info_pt_list = []\n",
    "info_bb_list = []\n",
    "for pt, bb in zip(beacon_df['Beiwe'].unique(),beacon_df['Beacon'].unique()):\n",
    "    if pt in gps['Beiwe'].unique():\n",
    "        pt_list.append(pt)\n",
    "        bb_list.append(bb)\n",
    "    if pt in info['Beiwe'].unique():\n",
    "        info_pt_list.append(pt)\n",
    "        info_bb_list.append(bb)"
   ]
  },
  {
   "cell_type": "markdown",
   "metadata": {},
   "source": [
    "Comparing the beacons"
   ]
  },
  {
   "cell_type": "code",
   "execution_count": 16,
   "metadata": {},
   "outputs": [
    {
     "name": "stdout",
     "output_type": "stream",
     "text": [
      "Number of Beacon users with GPS logged: 24\n",
      "\tGPS Beacons: [1, 5, 6, 7, 10, 11, 15, 16, 17, 19, 21, 22, 24, 25, 26, 28, 29, 30, 32, 34, 36, 38, 40, 44]\n",
      "\tAll Beacons: [ 1  5  6  7 10 11 15 16 17 19 21 22 24 25 26 28 29 30 32 34 36 38 40 44\n",
      " 46]\n",
      "\tInfo Beacons: [1, 5, 6, 7, 10, 11, 15, 16, 17, 19, 21, 22, 24, 25, 26, 28, 29, 30, 32, 34, 36, 38, 40, 44, 46]\n"
     ]
    },
    {
     "data": {
      "text/plain": [
       "<function print>"
      ]
     },
     "execution_count": 16,
     "metadata": {},
     "output_type": "execute_result"
    }
   ],
   "source": [
    "print('Number of Beacon users with GPS logged:',len(bb_list))\n",
    "print('\\tGPS Beacons:', bb_list)\n",
    "print('\\tAll Beacons:', beacon_df['Beacon'].unique())\n",
    "print('\\tInfo Beacons:', info_bb_list)"
   ]
  },
  {
   "cell_type": "code",
   "execution_count": null,
   "metadata": {},
   "outputs": [],
   "source": []
  }
 ],
 "metadata": {
  "kernelspec": {
   "display_name": "Python 3",
   "language": "python",
   "name": "python3"
  },
  "language_info": {
   "codemirror_mode": {
    "name": "ipython",
    "version": 3
   },
   "file_extension": ".py",
   "mimetype": "text/x-python",
   "name": "python",
   "nbconvert_exporter": "python",
   "pygments_lexer": "ipython3",
   "version": "3.7.0"
  },
  "toc": {
   "base_numbering": 1,
   "nav_menu": {},
   "number_sections": false,
   "sideBar": false,
   "skip_h1_title": false,
   "title_cell": "Table of Contents",
   "title_sidebar": "Contents",
   "toc_cell": false,
   "toc_position": {},
   "toc_section_display": false,
   "toc_window_display": false
  }
 },
 "nbformat": 4,
 "nbformat_minor": 4
}
