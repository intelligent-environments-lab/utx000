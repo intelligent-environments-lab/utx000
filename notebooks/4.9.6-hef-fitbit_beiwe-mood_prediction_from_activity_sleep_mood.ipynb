{
 "cells": [
  {
   "cell_type": "markdown",
   "metadata": {},
   "source": [
    "<a id='top'></a>"
   ]
  },
  {
   "cell_type": "code",
   "execution_count": 1,
   "metadata": {},
   "outputs": [],
   "source": [
    "import warnings\n",
    "warnings.filterwarnings('ignore')"
   ]
  },
  {
   "cell_type": "markdown",
   "metadata": {},
   "source": [
    "# Predicting Nightly Mood Scores from Previously Submitted Mood, Daily Activity, and Sleep\n",
    "Seeing if we can improve our predictive ability by including _all_ data (except for IAQ)\n",
    "\n",
    "Some good information can be found [here](https://towardsdatascience.com/comprehensive-guide-to-multiclass-classification-with-sklearn-127cc500f362) on the general process."
   ]
  },
  {
   "cell_type": "code",
   "execution_count": 2,
   "metadata": {
    "scrolled": true
   },
   "outputs": [],
   "source": [
    "import sys\n",
    "sys.path.append('../')\n",
    "%load_ext autoreload\n",
    "%autoreload 2\n",
    "from src.analysis import mood_prediction\n",
    "from src.visualization import visualize\n",
    "\n",
    "import pandas as pd\n",
    "pd.set_option('display.max_columns', 200)\n",
    "import numpy as np\n",
    "from scipy import stats\n",
    "\n",
    "from datetime import datetime, timedelta\n",
    "\n",
    "import matplotlib.pyplot as plt\n",
    "from matplotlib import cm\n",
    "from matplotlib.colors import ListedColormap, LinearSegmentedColormap\n",
    "import seaborn as sns\n",
    "import matplotlib.dates as mdates"
   ]
  },
  {
   "cell_type": "code",
   "execution_count": 3,
   "metadata": {},
   "outputs": [],
   "source": [
    "from sklearn.ensemble import RandomForestClassifier\n",
    "from sklearn.naive_bayes import GaussianNB\n",
    "from sklearn.neighbors import KNeighborsClassifier\n",
    "from sklearn.svm import SVC\n",
    "from sklearn.ensemble import GradientBoostingClassifier\n",
    "from sklearn.linear_model import LogisticRegression"
   ]
  },
  {
   "cell_type": "markdown",
   "metadata": {},
   "source": [
    "# Table of Contents\n",
    "1. [Data Import](#data_import)\n",
    "2. [Inspection](#inspection)\n",
    "3. [Modeling](#modeling)\n",
    "4. [Evaluation](#evaluation)"
   ]
  },
  {
   "cell_type": "markdown",
   "metadata": {},
   "source": [
    "---"
   ]
  },
  {
   "cell_type": "markdown",
   "metadata": {},
   "source": [
    "<a id='data_import'></a>"
   ]
  },
  {
   "cell_type": "markdown",
   "metadata": {},
   "source": [
    "# Data Import\n",
    "We use the `ImportProcessing` to get the relevant data."
   ]
  },
  {
   "cell_type": "code",
   "execution_count": 4,
   "metadata": {},
   "outputs": [
    {
     "name": "stdout",
     "output_type": "stream",
     "text": [
      "Column timestamp not in DataFrame\n",
      "Column timestamp not in DataFrame\n",
      "Column timestamp_e not in DataFrame\n",
      "Column timestamp_m not in DataFrame\n"
     ]
    },
    {
     "data": {
      "text/html": [
       "<div>\n",
       "<style scoped>\n",
       "    .dataframe tbody tr th:only-of-type {\n",
       "        vertical-align: middle;\n",
       "    }\n",
       "\n",
       "    .dataframe tbody tr th {\n",
       "        vertical-align: top;\n",
       "    }\n",
       "\n",
       "    .dataframe thead th {\n",
       "        text-align: right;\n",
       "    }\n",
       "</style>\n",
       "<table border=\"1\" class=\"dataframe\">\n",
       "  <thead>\n",
       "    <tr style=\"text-align: right;\">\n",
       "      <th></th>\n",
       "      <th>beiwe</th>\n",
       "      <th>content_e</th>\n",
       "      <th>stress_e</th>\n",
       "      <th>lonely_e</th>\n",
       "      <th>sad_e</th>\n",
       "      <th>energy_e</th>\n",
       "      <th>redcap</th>\n",
       "      <th>date</th>\n",
       "      <th>content_m</th>\n",
       "      <th>stress_m</th>\n",
       "      <th>lonely_m</th>\n",
       "      <th>sad_m</th>\n",
       "      <th>energy_m</th>\n",
       "      <th>tst</th>\n",
       "      <th>sol</th>\n",
       "      <th>naw</th>\n",
       "      <th>restful</th>\n",
       "      <th>steps</th>\n",
       "      <th>distance</th>\n",
       "      <th>discontent_m</th>\n",
       "      <th>discontent_e</th>\n",
       "    </tr>\n",
       "  </thead>\n",
       "  <tbody>\n",
       "    <tr>\n",
       "      <th>2</th>\n",
       "      <td>rvhdl2la</td>\n",
       "      <td>2.0</td>\n",
       "      <td>1.0</td>\n",
       "      <td>0.0</td>\n",
       "      <td>0.0</td>\n",
       "      <td>1.0</td>\n",
       "      <td>29</td>\n",
       "      <td>2020-05-13</td>\n",
       "      <td>1.0</td>\n",
       "      <td>1.0</td>\n",
       "      <td>2.0</td>\n",
       "      <td>3.0</td>\n",
       "      <td>0.0</td>\n",
       "      <td>5.3</td>\n",
       "      <td>5.0</td>\n",
       "      <td>2.0</td>\n",
       "      <td>2.0</td>\n",
       "      <td>4722.0</td>\n",
       "      <td>1.853799</td>\n",
       "      <td>2.0</td>\n",
       "      <td>1.0</td>\n",
       "    </tr>\n",
       "    <tr>\n",
       "      <th>4</th>\n",
       "      <td>xdbdrk6e</td>\n",
       "      <td>2.0</td>\n",
       "      <td>1.0</td>\n",
       "      <td>2.0</td>\n",
       "      <td>1.0</td>\n",
       "      <td>3.0</td>\n",
       "      <td>23</td>\n",
       "      <td>2020-05-13</td>\n",
       "      <td>2.0</td>\n",
       "      <td>1.0</td>\n",
       "      <td>2.0</td>\n",
       "      <td>1.0</td>\n",
       "      <td>2.0</td>\n",
       "      <td>8.0</td>\n",
       "      <td>20.0</td>\n",
       "      <td>3.0</td>\n",
       "      <td>2.0</td>\n",
       "      <td>4199.0</td>\n",
       "      <td>1.720204</td>\n",
       "      <td>1.0</td>\n",
       "      <td>1.0</td>\n",
       "    </tr>\n",
       "    <tr>\n",
       "      <th>6</th>\n",
       "      <td>qh34m4r9</td>\n",
       "      <td>3.0</td>\n",
       "      <td>1.0</td>\n",
       "      <td>0.0</td>\n",
       "      <td>0.0</td>\n",
       "      <td>4.0</td>\n",
       "      <td>68</td>\n",
       "      <td>2020-05-13</td>\n",
       "      <td>3.0</td>\n",
       "      <td>0.0</td>\n",
       "      <td>0.0</td>\n",
       "      <td>0.0</td>\n",
       "      <td>1.0</td>\n",
       "      <td>8.0</td>\n",
       "      <td>20.0</td>\n",
       "      <td>2.0</td>\n",
       "      <td>3.0</td>\n",
       "      <td>11632.0</td>\n",
       "      <td>5.302906</td>\n",
       "      <td>0.0</td>\n",
       "      <td>0.0</td>\n",
       "    </tr>\n",
       "    <tr>\n",
       "      <th>8</th>\n",
       "      <td>tmexej5v</td>\n",
       "      <td>2.0</td>\n",
       "      <td>1.0</td>\n",
       "      <td>1.0</td>\n",
       "      <td>0.0</td>\n",
       "      <td>3.0</td>\n",
       "      <td>42</td>\n",
       "      <td>2020-05-13</td>\n",
       "      <td>2.0</td>\n",
       "      <td>1.0</td>\n",
       "      <td>1.0</td>\n",
       "      <td>0.0</td>\n",
       "      <td>3.0</td>\n",
       "      <td>6.0</td>\n",
       "      <td>15.0</td>\n",
       "      <td>0.0</td>\n",
       "      <td>2.0</td>\n",
       "      <td>521.0</td>\n",
       "      <td>0.202008</td>\n",
       "      <td>1.0</td>\n",
       "      <td>1.0</td>\n",
       "    </tr>\n",
       "    <tr>\n",
       "      <th>9</th>\n",
       "      <td>vpy1a985</td>\n",
       "      <td>2.0</td>\n",
       "      <td>1.0</td>\n",
       "      <td>2.0</td>\n",
       "      <td>1.0</td>\n",
       "      <td>2.0</td>\n",
       "      <td>50</td>\n",
       "      <td>2020-05-13</td>\n",
       "      <td>2.0</td>\n",
       "      <td>1.0</td>\n",
       "      <td>2.0</td>\n",
       "      <td>1.0</td>\n",
       "      <td>2.0</td>\n",
       "      <td>7.0</td>\n",
       "      <td>10.0</td>\n",
       "      <td>1.0</td>\n",
       "      <td>2.0</td>\n",
       "      <td>553.0</td>\n",
       "      <td>0.237737</td>\n",
       "      <td>1.0</td>\n",
       "      <td>1.0</td>\n",
       "    </tr>\n",
       "  </tbody>\n",
       "</table>\n",
       "</div>"
      ],
      "text/plain": [
       "      beiwe  content_e  stress_e  lonely_e  sad_e  energy_e  redcap  \\\n",
       "2  rvhdl2la        2.0       1.0       0.0    0.0       1.0      29   \n",
       "4  xdbdrk6e        2.0       1.0       2.0    1.0       3.0      23   \n",
       "6  qh34m4r9        3.0       1.0       0.0    0.0       4.0      68   \n",
       "8  tmexej5v        2.0       1.0       1.0    0.0       3.0      42   \n",
       "9  vpy1a985        2.0       1.0       2.0    1.0       2.0      50   \n",
       "\n",
       "        date  content_m  stress_m  lonely_m  sad_m  energy_m  tst   sol  naw  \\\n",
       "2 2020-05-13        1.0       1.0       2.0    3.0       0.0  5.3   5.0  2.0   \n",
       "4 2020-05-13        2.0       1.0       2.0    1.0       2.0  8.0  20.0  3.0   \n",
       "6 2020-05-13        3.0       0.0       0.0    0.0       1.0  8.0  20.0  2.0   \n",
       "8 2020-05-13        2.0       1.0       1.0    0.0       3.0  6.0  15.0  0.0   \n",
       "9 2020-05-13        2.0       1.0       2.0    1.0       2.0  7.0  10.0  1.0   \n",
       "\n",
       "   restful    steps  distance  discontent_m  discontent_e  \n",
       "2      2.0   4722.0  1.853799           2.0           1.0  \n",
       "4      2.0   4199.0  1.720204           1.0           1.0  \n",
       "6      3.0  11632.0  5.302906           0.0           0.0  \n",
       "8      2.0    521.0  0.202008           1.0           1.0  \n",
       "9      2.0    553.0  0.237737           1.0           1.0  "
      ]
     },
     "execution_count": 4,
     "metadata": {},
     "output_type": "execute_result"
    }
   ],
   "source": [
    "data = mood_prediction.ImportProcessing(data_dir=\"../data/\")\n",
    "data.mood_and_activity = data.remove_participant(data.mood_and_activity,\"oxcpr7e3\")\n",
    "data.mood_and_activity.head()"
   ]
  },
  {
   "cell_type": "markdown",
   "metadata": {},
   "source": [
    "---"
   ]
  },
  {
   "cell_type": "markdown",
   "metadata": {},
   "source": [
    "<a id='inspection'></a>"
   ]
  },
  {
   "cell_type": "markdown",
   "metadata": {},
   "source": [
    "# Inspection\n",
    "Doing some higher-level inspection of the data."
   ]
  },
  {
   "cell_type": "markdown",
   "metadata": {},
   "source": [
    "---"
   ]
  },
  {
   "cell_type": "markdown",
   "metadata": {},
   "source": [
    "<a id='modeling'></a>"
   ]
  },
  {
   "cell_type": "markdown",
   "metadata": {},
   "source": [
    "# Modeling"
   ]
  },
  {
   "cell_type": "code",
   "execution_count": 5,
   "metadata": {},
   "outputs": [],
   "source": [
    "modeling = mood_prediction.Model()"
   ]
  },
  {
   "cell_type": "markdown",
   "metadata": {},
   "source": [
    "## Adding Features\n",
    "We add the `step_goal` feature which determine whether or not the participant was able to reach the 10K (default) step goal."
   ]
  },
  {
   "cell_type": "code",
   "execution_count": 6,
   "metadata": {},
   "outputs": [
    {
     "data": {
      "text/html": [
       "<div>\n",
       "<style scoped>\n",
       "    .dataframe tbody tr th:only-of-type {\n",
       "        vertical-align: middle;\n",
       "    }\n",
       "\n",
       "    .dataframe tbody tr th {\n",
       "        vertical-align: top;\n",
       "    }\n",
       "\n",
       "    .dataframe thead th {\n",
       "        text-align: right;\n",
       "    }\n",
       "</style>\n",
       "<table border=\"1\" class=\"dataframe\">\n",
       "  <thead>\n",
       "    <tr style=\"text-align: right;\">\n",
       "      <th></th>\n",
       "      <th>beiwe</th>\n",
       "      <th>content_e</th>\n",
       "      <th>stress_e</th>\n",
       "      <th>lonely_e</th>\n",
       "      <th>sad_e</th>\n",
       "      <th>energy_e</th>\n",
       "      <th>redcap</th>\n",
       "      <th>date</th>\n",
       "      <th>content_m</th>\n",
       "      <th>stress_m</th>\n",
       "      <th>lonely_m</th>\n",
       "      <th>sad_m</th>\n",
       "      <th>energy_m</th>\n",
       "      <th>tst</th>\n",
       "      <th>sol</th>\n",
       "      <th>naw</th>\n",
       "      <th>restful</th>\n",
       "      <th>steps</th>\n",
       "      <th>distance</th>\n",
       "      <th>discontent_m</th>\n",
       "      <th>discontent_e</th>\n",
       "      <th>step_goal</th>\n",
       "    </tr>\n",
       "  </thead>\n",
       "  <tbody>\n",
       "    <tr>\n",
       "      <th>2</th>\n",
       "      <td>rvhdl2la</td>\n",
       "      <td>2.0</td>\n",
       "      <td>1.0</td>\n",
       "      <td>0.0</td>\n",
       "      <td>0.0</td>\n",
       "      <td>1.0</td>\n",
       "      <td>29</td>\n",
       "      <td>2020-05-13</td>\n",
       "      <td>1.0</td>\n",
       "      <td>1.0</td>\n",
       "      <td>2.0</td>\n",
       "      <td>3.0</td>\n",
       "      <td>0.0</td>\n",
       "      <td>5.3</td>\n",
       "      <td>5.0</td>\n",
       "      <td>2.0</td>\n",
       "      <td>2.0</td>\n",
       "      <td>4722.0</td>\n",
       "      <td>1.853799</td>\n",
       "      <td>2.0</td>\n",
       "      <td>1.0</td>\n",
       "      <td>0</td>\n",
       "    </tr>\n",
       "    <tr>\n",
       "      <th>4</th>\n",
       "      <td>xdbdrk6e</td>\n",
       "      <td>2.0</td>\n",
       "      <td>1.0</td>\n",
       "      <td>2.0</td>\n",
       "      <td>1.0</td>\n",
       "      <td>3.0</td>\n",
       "      <td>23</td>\n",
       "      <td>2020-05-13</td>\n",
       "      <td>2.0</td>\n",
       "      <td>1.0</td>\n",
       "      <td>2.0</td>\n",
       "      <td>1.0</td>\n",
       "      <td>2.0</td>\n",
       "      <td>8.0</td>\n",
       "      <td>20.0</td>\n",
       "      <td>3.0</td>\n",
       "      <td>2.0</td>\n",
       "      <td>4199.0</td>\n",
       "      <td>1.720204</td>\n",
       "      <td>1.0</td>\n",
       "      <td>1.0</td>\n",
       "      <td>0</td>\n",
       "    </tr>\n",
       "    <tr>\n",
       "      <th>6</th>\n",
       "      <td>qh34m4r9</td>\n",
       "      <td>3.0</td>\n",
       "      <td>1.0</td>\n",
       "      <td>0.0</td>\n",
       "      <td>0.0</td>\n",
       "      <td>4.0</td>\n",
       "      <td>68</td>\n",
       "      <td>2020-05-13</td>\n",
       "      <td>3.0</td>\n",
       "      <td>0.0</td>\n",
       "      <td>0.0</td>\n",
       "      <td>0.0</td>\n",
       "      <td>1.0</td>\n",
       "      <td>8.0</td>\n",
       "      <td>20.0</td>\n",
       "      <td>2.0</td>\n",
       "      <td>3.0</td>\n",
       "      <td>11632.0</td>\n",
       "      <td>5.302906</td>\n",
       "      <td>0.0</td>\n",
       "      <td>0.0</td>\n",
       "      <td>1</td>\n",
       "    </tr>\n",
       "    <tr>\n",
       "      <th>8</th>\n",
       "      <td>tmexej5v</td>\n",
       "      <td>2.0</td>\n",
       "      <td>1.0</td>\n",
       "      <td>1.0</td>\n",
       "      <td>0.0</td>\n",
       "      <td>3.0</td>\n",
       "      <td>42</td>\n",
       "      <td>2020-05-13</td>\n",
       "      <td>2.0</td>\n",
       "      <td>1.0</td>\n",
       "      <td>1.0</td>\n",
       "      <td>0.0</td>\n",
       "      <td>3.0</td>\n",
       "      <td>6.0</td>\n",
       "      <td>15.0</td>\n",
       "      <td>0.0</td>\n",
       "      <td>2.0</td>\n",
       "      <td>521.0</td>\n",
       "      <td>0.202008</td>\n",
       "      <td>1.0</td>\n",
       "      <td>1.0</td>\n",
       "      <td>0</td>\n",
       "    </tr>\n",
       "    <tr>\n",
       "      <th>9</th>\n",
       "      <td>vpy1a985</td>\n",
       "      <td>2.0</td>\n",
       "      <td>1.0</td>\n",
       "      <td>2.0</td>\n",
       "      <td>1.0</td>\n",
       "      <td>2.0</td>\n",
       "      <td>50</td>\n",
       "      <td>2020-05-13</td>\n",
       "      <td>2.0</td>\n",
       "      <td>1.0</td>\n",
       "      <td>2.0</td>\n",
       "      <td>1.0</td>\n",
       "      <td>2.0</td>\n",
       "      <td>7.0</td>\n",
       "      <td>10.0</td>\n",
       "      <td>1.0</td>\n",
       "      <td>2.0</td>\n",
       "      <td>553.0</td>\n",
       "      <td>0.237737</td>\n",
       "      <td>1.0</td>\n",
       "      <td>1.0</td>\n",
       "      <td>0</td>\n",
       "    </tr>\n",
       "  </tbody>\n",
       "</table>\n",
       "</div>"
      ],
      "text/plain": [
       "      beiwe  content_e  stress_e  lonely_e  sad_e  energy_e  redcap  \\\n",
       "2  rvhdl2la        2.0       1.0       0.0    0.0       1.0      29   \n",
       "4  xdbdrk6e        2.0       1.0       2.0    1.0       3.0      23   \n",
       "6  qh34m4r9        3.0       1.0       0.0    0.0       4.0      68   \n",
       "8  tmexej5v        2.0       1.0       1.0    0.0       3.0      42   \n",
       "9  vpy1a985        2.0       1.0       2.0    1.0       2.0      50   \n",
       "\n",
       "        date  content_m  stress_m  lonely_m  sad_m  energy_m  tst   sol  naw  \\\n",
       "2 2020-05-13        1.0       1.0       2.0    3.0       0.0  5.3   5.0  2.0   \n",
       "4 2020-05-13        2.0       1.0       2.0    1.0       2.0  8.0  20.0  3.0   \n",
       "6 2020-05-13        3.0       0.0       0.0    0.0       1.0  8.0  20.0  2.0   \n",
       "8 2020-05-13        2.0       1.0       1.0    0.0       3.0  6.0  15.0  0.0   \n",
       "9 2020-05-13        2.0       1.0       2.0    1.0       2.0  7.0  10.0  1.0   \n",
       "\n",
       "   restful    steps  distance  discontent_m  discontent_e  step_goal  \n",
       "2      2.0   4722.0  1.853799           2.0           1.0          0  \n",
       "4      2.0   4199.0  1.720204           1.0           1.0          0  \n",
       "6      3.0  11632.0  5.302906           0.0           0.0          1  \n",
       "8      2.0    521.0  0.202008           1.0           1.0          0  \n",
       "9      2.0    553.0  0.237737           1.0           1.0          0  "
      ]
     },
     "execution_count": 6,
     "metadata": {},
     "output_type": "execute_result"
    }
   ],
   "source": [
    "data.mood_and_activity = modeling.binarize_steps(data.mood_and_activity)\n",
    "data.mood_and_activity.head()"
   ]
  },
  {
   "cell_type": "markdown",
   "metadata": {},
   "source": [
    "## BIinarizing Datasets"
   ]
  },
  {
   "cell_type": "code",
   "execution_count": 7,
   "metadata": {},
   "outputs": [],
   "source": [
    "data_bi = modeling.binarize_mood(data.mood_and_activity)\n",
    "data_bi_targets = modeling.binarize_mood(data.mood_and_activity,binarize_features=False)"
   ]
  },
  {
   "cell_type": "markdown",
   "metadata": {},
   "source": [
    "### Class Ratios\n",
    "Checking to see which the ratio of classes"
   ]
  },
  {
   "cell_type": "code",
   "execution_count": 8,
   "metadata": {},
   "outputs": [
    {
     "name": "stdout",
     "output_type": "stream",
     "text": [
      "\tDiscontent\n",
      "\t\t0.0:\t393\tRatio:\t0.3275\n",
      "\t\t1.0:\t495\tRatio:\t0.4125\n",
      "\t\t2.0:\t265\tRatio:\t0.22083333333333333\n",
      "\t\t3.0:\t35\tRatio:\t0.029166666666666667\n",
      "\t\tnan:\t0\tRatio:\t0.0\n",
      "\tStress\n",
      "\t\t0.0:\t494\tRatio:\t0.4116666666666667\n",
      "\t\t1.0:\t467\tRatio:\t0.38916666666666666\n",
      "\t\t2.0:\t162\tRatio:\t0.135\n",
      "\t\t3.0:\t61\tRatio:\t0.050833333333333335\n",
      "\t\tnan:\t0\tRatio:\t0.0\n",
      "\tSad\n",
      "\t\t0.0:\t820\tRatio:\t0.6833333333333333\n",
      "\t\t1.0:\t286\tRatio:\t0.23833333333333334\n",
      "\t\t2.0:\t57\tRatio:\t0.0475\n",
      "\t\t3.0:\t24\tRatio:\t0.02\n",
      "\t\tnan:\t0\tRatio:\t0.0\n",
      "\tLonely\n",
      "\t\t0.0:\t779\tRatio:\t0.6491666666666667\n",
      "\t\t1.0:\t259\tRatio:\t0.21583333333333332\n",
      "\t\t2.0:\t129\tRatio:\t0.1075\n",
      "\t\t3.0:\t20\tRatio:\t0.016666666666666666\n",
      "\t\tnan:\t0\tRatio:\t0.0\n",
      "\tEnergy\n",
      "\t\t0.0:\t91\tRatio:\t0.07583333333333334\n",
      "\t\t1.0:\t216\tRatio:\t0.18\n",
      "\t\t2.0:\t535\tRatio:\t0.44583333333333336\n",
      "\t\t3.0:\t253\tRatio:\t0.21083333333333334\n",
      "\t\t4.0:\t93\tRatio:\t0.0775\n",
      "\t\tnan:\t0\tRatio:\t0.0\n",
      "\tDiscontent\n",
      "\t\t0:\t393\tRatio:\t0.3275\n",
      "\t\t1:\t807\tRatio:\t0.6725\n",
      "\tStress\n",
      "\t\t0:\t494\tRatio:\t0.4116666666666667\n",
      "\t\t1:\t706\tRatio:\t0.5883333333333334\n",
      "\tSad\n",
      "\t\t0:\t820\tRatio:\t0.6833333333333333\n",
      "\t\t1:\t380\tRatio:\t0.31666666666666665\n",
      "\tLonely\n",
      "\t\t0:\t779\tRatio:\t0.6491666666666667\n",
      "\t\t1:\t421\tRatio:\t0.35083333333333333\n",
      "\tEnergy\n",
      "\t\t0:\t307\tRatio:\t0.25583333333333336\n",
      "\t\t1:\t893\tRatio:\t0.7441666666666666\n"
     ]
    }
   ],
   "source": [
    "for df in [data.mood_and_activity,data_bi_targets]:\n",
    "    for mood in [\"discontent\",\"stress\",\"sad\",\"lonely\",\"energy\"]:\n",
    "        print(f\"\\t{mood.title()}\")\n",
    "        for val in sorted(df[f\"{mood}_e\"].unique()):\n",
    "            n = len(df[df[f\"{mood}_e\"] == val])\n",
    "            print(f\"\\t\\t{val}:\\t{n}\\tRatio:\\t{n/len(df[f'{mood}_e'])}\")"
   ]
  },
  {
   "cell_type": "markdown",
   "metadata": {},
   "source": [
    "## Tuning Models\n",
    "We know we plan to use the `GradientBoostClassifier` so we just have to consider the hyperparameters of this model type. We define an extensive amount just to be sure! We also want to include a `LogisticRegression` classifier as a base case to compare against."
   ]
  },
  {
   "cell_type": "code",
   "execution_count": 9,
   "metadata": {},
   "outputs": [],
   "source": [
    "modeling.set_model_params({\n",
    "        \"gradientboost\":{\n",
    "            \"model\": GradientBoostingClassifier(random_state=42),\n",
    "            \"params\": {\n",
    "                \"n_estimators\":[5,10,20,50],\n",
    "                \"max_depth\":[2],\n",
    "                \"min_samples_split\":[2,3,],\n",
    "                \"min_samples_leaf\":[1,2,3],\n",
    "            }\n",
    "        },\n",
    "        \"logistic_regression\": {\n",
    "            \"model\":LogisticRegression(random_state=42,max_iter=500),\n",
    "            \"params\": {\n",
    "                \"fit_intercept\":[True,False],\n",
    "                \"solver\":[\"lbfgs\",\"liblinear\"],\n",
    "            }\n",
    "        },\n",
    "    })"
   ]
  },
  {
   "cell_type": "markdown",
   "metadata": {},
   "source": [
    "### Grid Search\n",
    "Using our favorite, we examine the scores for using these models using 5-fold cross-validation"
   ]
  },
  {
   "cell_type": "markdown",
   "metadata": {},
   "source": [
    "#### Multi-Class Classification"
   ]
  },
  {
   "cell_type": "code",
   "execution_count": 10,
   "metadata": {
    "scrolled": false
   },
   "outputs": [
    {
     "name": "stdout",
     "output_type": "stream",
     "text": [
      "\tGradientboost\n",
      "\t\tElapsed Time:\t 0:00:10.025576\n",
      "\t\tBest Score:\t66.4\n",
      "\t\tBest Params:\t{'max_depth': 2, 'min_samples_leaf': 1, 'min_samples_split': 2, 'n_estimators': 10}\n",
      "\tLogistic Regression\n",
      "\t\tElapsed Time:\t 0:00:02.106469\n",
      "\t\tBest Score:\t60.4\n",
      "\t\tBest Params:\t{'fit_intercept': True, 'solver': 'liblinear'}\n",
      "\tGradientboost\n",
      "\t\tElapsed Time:\t 0:00:10.645030\n",
      "\t\tBest Score:\t67.4\n",
      "\t\tBest Params:\t{'max_depth': 2, 'min_samples_leaf': 3, 'min_samples_split': 2, 'n_estimators': 20}\n",
      "\tLogistic Regression\n",
      "\t\tElapsed Time:\t 0:00:02.112482\n",
      "\t\tBest Score:\t61.8\n",
      "\t\tBest Params:\t{'fit_intercept': False, 'solver': 'liblinear'}\n",
      "\tGradientboost\n",
      "\t\tElapsed Time:\t 0:00:10.427037\n",
      "\t\tBest Score:\t79.0\n",
      "\t\tBest Params:\t{'max_depth': 2, 'min_samples_leaf': 3, 'min_samples_split': 2, 'n_estimators': 20}\n",
      "\tLogistic Regression\n",
      "\t\tElapsed Time:\t 0:00:02.081671\n",
      "\t\tBest Score:\t73.7\n",
      "\t\tBest Params:\t{'fit_intercept': False, 'solver': 'liblinear'}\n",
      "\tGradientboost\n",
      "\t\tElapsed Time:\t 0:00:10.356553\n",
      "\t\tBest Score:\t78.1\n",
      "\t\tBest Params:\t{'max_depth': 2, 'min_samples_leaf': 2, 'min_samples_split': 2, 'n_estimators': 50}\n",
      "\tLogistic Regression\n",
      "\t\tElapsed Time:\t 0:00:02.021703\n",
      "\t\tBest Score:\t75.1\n",
      "\t\tBest Params:\t{'fit_intercept': True, 'solver': 'liblinear'}\n",
      "\tGradientboost\n",
      "\t\tElapsed Time:\t 0:00:12.642123\n",
      "\t\tBest Score:\t56.2\n",
      "\t\tBest Params:\t{'max_depth': 2, 'min_samples_leaf': 2, 'min_samples_split': 2, 'n_estimators': 20}\n",
      "\tLogistic Regression\n",
      "\t\tElapsed Time:\t 0:00:02.300393\n",
      "\t\tBest Score:\t50.3\n",
      "\t\tBest Params:\t{'fit_intercept': True, 'solver': 'liblinear'}\n"
     ]
    }
   ],
   "source": [
    "opt_res = modeling.optimize_models(data.mood_and_activity,modeling.model_params,additional_features=[\"steps\",\"tst\",\"sol\",\"restful\",\"naw\"])"
   ]
  },
  {
   "cell_type": "code",
   "execution_count": 11,
   "metadata": {},
   "outputs": [
    {
     "data": {
      "text/html": [
       "<div>\n",
       "<style scoped>\n",
       "    .dataframe tbody tr th:only-of-type {\n",
       "        vertical-align: middle;\n",
       "    }\n",
       "\n",
       "    .dataframe tbody tr th {\n",
       "        vertical-align: top;\n",
       "    }\n",
       "\n",
       "    .dataframe thead th {\n",
       "        text-align: right;\n",
       "    }\n",
       "</style>\n",
       "<table border=\"1\" class=\"dataframe\">\n",
       "  <thead>\n",
       "    <tr style=\"text-align: right;\">\n",
       "      <th></th>\n",
       "      <th>mood</th>\n",
       "      <th>model</th>\n",
       "      <th>best_score</th>\n",
       "      <th>best_params</th>\n",
       "    </tr>\n",
       "  </thead>\n",
       "  <tbody>\n",
       "    <tr>\n",
       "      <th>0</th>\n",
       "      <td>content</td>\n",
       "      <td>gradientboost</td>\n",
       "      <td>66.377830</td>\n",
       "      <td>{'max_depth': 2, 'min_samples_leaf': 1, 'min_s...</td>\n",
       "    </tr>\n",
       "    <tr>\n",
       "      <th>1</th>\n",
       "      <td>content</td>\n",
       "      <td>logistic_regression</td>\n",
       "      <td>60.445464</td>\n",
       "      <td>{'fit_intercept': True, 'solver': 'liblinear'}</td>\n",
       "    </tr>\n",
       "    <tr>\n",
       "      <th>2</th>\n",
       "      <td>stress</td>\n",
       "      <td>gradientboost</td>\n",
       "      <td>67.389163</td>\n",
       "      <td>{'max_depth': 2, 'min_samples_leaf': 3, 'min_s...</td>\n",
       "    </tr>\n",
       "    <tr>\n",
       "      <th>3</th>\n",
       "      <td>stress</td>\n",
       "      <td>logistic_regression</td>\n",
       "      <td>61.778997</td>\n",
       "      <td>{'fit_intercept': False, 'solver': 'liblinear'}</td>\n",
       "    </tr>\n",
       "    <tr>\n",
       "      <th>4</th>\n",
       "      <td>lonely</td>\n",
       "      <td>gradientboost</td>\n",
       "      <td>79.001036</td>\n",
       "      <td>{'max_depth': 2, 'min_samples_leaf': 3, 'min_s...</td>\n",
       "    </tr>\n",
       "    <tr>\n",
       "      <th>5</th>\n",
       "      <td>lonely</td>\n",
       "      <td>logistic_regression</td>\n",
       "      <td>73.665828</td>\n",
       "      <td>{'fit_intercept': False, 'solver': 'liblinear'}</td>\n",
       "    </tr>\n",
       "    <tr>\n",
       "      <th>6</th>\n",
       "      <td>sad</td>\n",
       "      <td>gradientboost</td>\n",
       "      <td>78.141187</td>\n",
       "      <td>{'max_depth': 2, 'min_samples_leaf': 2, 'min_s...</td>\n",
       "    </tr>\n",
       "    <tr>\n",
       "      <th>7</th>\n",
       "      <td>sad</td>\n",
       "      <td>logistic_regression</td>\n",
       "      <td>75.129865</td>\n",
       "      <td>{'fit_intercept': True, 'solver': 'liblinear'}</td>\n",
       "    </tr>\n",
       "    <tr>\n",
       "      <th>8</th>\n",
       "      <td>energy</td>\n",
       "      <td>gradientboost</td>\n",
       "      <td>56.185807</td>\n",
       "      <td>{'max_depth': 2, 'min_samples_leaf': 2, 'min_s...</td>\n",
       "    </tr>\n",
       "    <tr>\n",
       "      <th>9</th>\n",
       "      <td>energy</td>\n",
       "      <td>logistic_regression</td>\n",
       "      <td>50.344088</td>\n",
       "      <td>{'fit_intercept': True, 'solver': 'liblinear'}</td>\n",
       "    </tr>\n",
       "  </tbody>\n",
       "</table>\n",
       "</div>"
      ],
      "text/plain": [
       "      mood                model  best_score  \\\n",
       "0  content        gradientboost   66.377830   \n",
       "1  content  logistic_regression   60.445464   \n",
       "2   stress        gradientboost   67.389163   \n",
       "3   stress  logistic_regression   61.778997   \n",
       "4   lonely        gradientboost   79.001036   \n",
       "5   lonely  logistic_regression   73.665828   \n",
       "6      sad        gradientboost   78.141187   \n",
       "7      sad  logistic_regression   75.129865   \n",
       "8   energy        gradientboost   56.185807   \n",
       "9   energy  logistic_regression   50.344088   \n",
       "\n",
       "                                         best_params  \n",
       "0  {'max_depth': 2, 'min_samples_leaf': 1, 'min_s...  \n",
       "1     {'fit_intercept': True, 'solver': 'liblinear'}  \n",
       "2  {'max_depth': 2, 'min_samples_leaf': 3, 'min_s...  \n",
       "3    {'fit_intercept': False, 'solver': 'liblinear'}  \n",
       "4  {'max_depth': 2, 'min_samples_leaf': 3, 'min_s...  \n",
       "5    {'fit_intercept': False, 'solver': 'liblinear'}  \n",
       "6  {'max_depth': 2, 'min_samples_leaf': 2, 'min_s...  \n",
       "7     {'fit_intercept': True, 'solver': 'liblinear'}  \n",
       "8  {'max_depth': 2, 'min_samples_leaf': 2, 'min_s...  \n",
       "9     {'fit_intercept': True, 'solver': 'liblinear'}  "
      ]
     },
     "execution_count": 11,
     "metadata": {},
     "output_type": "execute_result"
    }
   ],
   "source": [
    "opt_res"
   ]
  },
  {
   "cell_type": "markdown",
   "metadata": {},
   "source": [
    "<div class=\"alert alert-block alert-success\">\n",
    "    \n",
    "We will consider the following hyperparameters for the `GradientBoostClassifier`:\n",
    "* `max_depth=2`\n",
    "* `min_samples_leaf=2`\n",
    "* `n_estimators=20`\n",
    "    \n",
    "</div>"
   ]
  },
  {
   "cell_type": "code",
   "execution_count": 12,
   "metadata": {},
   "outputs": [],
   "source": [
    "tuned_models = {\"grad\":GradientBoostingClassifier(random_state=42,n_estimators=20,max_depth=2,min_samples_leaf=2,min_samples_split=2),\n",
    "               \"lr\":LogisticRegression(random_state=42,max_iter=500,fit_intercept=True,solver=\"liblinear\")}\n",
    "modeling.set_tuned_models(tuned_models)"
   ]
  },
  {
   "cell_type": "markdown",
   "metadata": {},
   "source": [
    "#### Binary Classsification\n",
    "We conduct two binary classification models to understand the effect of binarizing the mood features:\n",
    "1. **Binary Targets Only**: Only the targets are binary, not the features\n",
    "2. **Binary Everything**: Name says it all"
   ]
  },
  {
   "cell_type": "code",
   "execution_count": 13,
   "metadata": {
    "scrolled": true
   },
   "outputs": [
    {
     "name": "stdout",
     "output_type": "stream",
     "text": [
      "\tGradientboost\n",
      "\t\tElapsed Time:\t 0:00:02.337238\n",
      "\t\tBest Score:\t81.9\n",
      "\t\tBest Params:\t{'max_depth': 2, 'min_samples_leaf': 1, 'min_samples_split': 2, 'n_estimators': 50}\n",
      "\tLogistic Regression\n",
      "\t\tElapsed Time:\t 0:00:00.383719\n",
      "\t\tBest Score:\t80.7\n",
      "\t\tBest Params:\t{'fit_intercept': True, 'solver': 'lbfgs'}\n",
      "\tGradientboost\n",
      "\t\tElapsed Time:\t 0:00:02.251980\n",
      "\t\tBest Score:\t81.4\n",
      "\t\tBest Params:\t{'max_depth': 2, 'min_samples_leaf': 1, 'min_samples_split': 2, 'n_estimators': 5}\n",
      "\tLogistic Regression\n",
      "\t\tElapsed Time:\t 0:00:00.469935\n",
      "\t\tBest Score:\t80.9\n",
      "\t\tBest Params:\t{'fit_intercept': True, 'solver': 'liblinear'}\n",
      "\tGradientboost\n",
      "\t\tElapsed Time:\t 0:00:02.269644\n",
      "\t\tBest Score:\t86.0\n",
      "\t\tBest Params:\t{'max_depth': 2, 'min_samples_leaf': 1, 'min_samples_split': 2, 'n_estimators': 5}\n",
      "\tLogistic Regression\n",
      "\t\tElapsed Time:\t 0:00:00.713744\n",
      "\t\tBest Score:\t85.4\n",
      "\t\tBest Params:\t{'fit_intercept': True, 'solver': 'lbfgs'}\n",
      "\tGradientboost\n",
      "\t\tElapsed Time:\t 0:00:02.356668\n",
      "\t\tBest Score:\t81.9\n",
      "\t\tBest Params:\t{'max_depth': 2, 'min_samples_leaf': 1, 'min_samples_split': 2, 'n_estimators': 20}\n",
      "\tLogistic Regression\n",
      "\t\tElapsed Time:\t 0:00:00.591615\n",
      "\t\tBest Score:\t81.0\n",
      "\t\tBest Params:\t{'fit_intercept': True, 'solver': 'lbfgs'}\n",
      "\tGradientboost\n",
      "\t\tElapsed Time:\t 0:00:02.275786\n",
      "\t\tBest Score:\t78.3\n",
      "\t\tBest Params:\t{'max_depth': 2, 'min_samples_leaf': 1, 'min_samples_split': 2, 'n_estimators': 20}\n",
      "\tLogistic Regression\n",
      "\t\tElapsed Time:\t 0:00:00.384211\n",
      "\t\tBest Score:\t78.3\n",
      "\t\tBest Params:\t{'fit_intercept': False, 'solver': 'lbfgs'}\n"
     ]
    }
   ],
   "source": [
    "opt_res_binary = modeling.optimize_models(data_bi_targets,modeling.model_params,additional_features=[\"steps\",\"tst\",\"sol\",\"restful\",\"naw\"])"
   ]
  },
  {
   "cell_type": "code",
   "execution_count": 14,
   "metadata": {
    "scrolled": true
   },
   "outputs": [
    {
     "data": {
      "text/html": [
       "<div>\n",
       "<style scoped>\n",
       "    .dataframe tbody tr th:only-of-type {\n",
       "        vertical-align: middle;\n",
       "    }\n",
       "\n",
       "    .dataframe tbody tr th {\n",
       "        vertical-align: top;\n",
       "    }\n",
       "\n",
       "    .dataframe thead th {\n",
       "        text-align: right;\n",
       "    }\n",
       "</style>\n",
       "<table border=\"1\" class=\"dataframe\">\n",
       "  <thead>\n",
       "    <tr style=\"text-align: right;\">\n",
       "      <th></th>\n",
       "      <th>mood</th>\n",
       "      <th>model</th>\n",
       "      <th>best_score</th>\n",
       "      <th>best_params</th>\n",
       "    </tr>\n",
       "  </thead>\n",
       "  <tbody>\n",
       "    <tr>\n",
       "      <th>0</th>\n",
       "      <td>content</td>\n",
       "      <td>gradientboost</td>\n",
       "      <td>81.872340</td>\n",
       "      <td>{'max_depth': 2, 'min_samples_leaf': 1, 'min_s...</td>\n",
       "    </tr>\n",
       "    <tr>\n",
       "      <th>1</th>\n",
       "      <td>content</td>\n",
       "      <td>logistic_regression</td>\n",
       "      <td>80.680851</td>\n",
       "      <td>{'fit_intercept': True, 'solver': 'lbfgs'}</td>\n",
       "    </tr>\n",
       "    <tr>\n",
       "      <th>2</th>\n",
       "      <td>stress</td>\n",
       "      <td>gradientboost</td>\n",
       "      <td>81.361702</td>\n",
       "      <td>{'max_depth': 2, 'min_samples_leaf': 1, 'min_s...</td>\n",
       "    </tr>\n",
       "    <tr>\n",
       "      <th>3</th>\n",
       "      <td>stress</td>\n",
       "      <td>logistic_regression</td>\n",
       "      <td>80.936170</td>\n",
       "      <td>{'fit_intercept': True, 'solver': 'liblinear'}</td>\n",
       "    </tr>\n",
       "    <tr>\n",
       "      <th>4</th>\n",
       "      <td>lonely</td>\n",
       "      <td>gradientboost</td>\n",
       "      <td>85.957447</td>\n",
       "      <td>{'max_depth': 2, 'min_samples_leaf': 1, 'min_s...</td>\n",
       "    </tr>\n",
       "    <tr>\n",
       "      <th>5</th>\n",
       "      <td>lonely</td>\n",
       "      <td>logistic_regression</td>\n",
       "      <td>85.446809</td>\n",
       "      <td>{'fit_intercept': True, 'solver': 'lbfgs'}</td>\n",
       "    </tr>\n",
       "    <tr>\n",
       "      <th>6</th>\n",
       "      <td>sad</td>\n",
       "      <td>gradientboost</td>\n",
       "      <td>81.872340</td>\n",
       "      <td>{'max_depth': 2, 'min_samples_leaf': 1, 'min_s...</td>\n",
       "    </tr>\n",
       "    <tr>\n",
       "      <th>7</th>\n",
       "      <td>sad</td>\n",
       "      <td>logistic_regression</td>\n",
       "      <td>81.021277</td>\n",
       "      <td>{'fit_intercept': True, 'solver': 'lbfgs'}</td>\n",
       "    </tr>\n",
       "    <tr>\n",
       "      <th>8</th>\n",
       "      <td>energy</td>\n",
       "      <td>gradientboost</td>\n",
       "      <td>78.297872</td>\n",
       "      <td>{'max_depth': 2, 'min_samples_leaf': 1, 'min_s...</td>\n",
       "    </tr>\n",
       "    <tr>\n",
       "      <th>9</th>\n",
       "      <td>energy</td>\n",
       "      <td>logistic_regression</td>\n",
       "      <td>78.297872</td>\n",
       "      <td>{'fit_intercept': False, 'solver': 'lbfgs'}</td>\n",
       "    </tr>\n",
       "  </tbody>\n",
       "</table>\n",
       "</div>"
      ],
      "text/plain": [
       "      mood                model  best_score  \\\n",
       "0  content        gradientboost   81.872340   \n",
       "1  content  logistic_regression   80.680851   \n",
       "2   stress        gradientboost   81.361702   \n",
       "3   stress  logistic_regression   80.936170   \n",
       "4   lonely        gradientboost   85.957447   \n",
       "5   lonely  logistic_regression   85.446809   \n",
       "6      sad        gradientboost   81.872340   \n",
       "7      sad  logistic_regression   81.021277   \n",
       "8   energy        gradientboost   78.297872   \n",
       "9   energy  logistic_regression   78.297872   \n",
       "\n",
       "                                         best_params  \n",
       "0  {'max_depth': 2, 'min_samples_leaf': 1, 'min_s...  \n",
       "1         {'fit_intercept': True, 'solver': 'lbfgs'}  \n",
       "2  {'max_depth': 2, 'min_samples_leaf': 1, 'min_s...  \n",
       "3     {'fit_intercept': True, 'solver': 'liblinear'}  \n",
       "4  {'max_depth': 2, 'min_samples_leaf': 1, 'min_s...  \n",
       "5         {'fit_intercept': True, 'solver': 'lbfgs'}  \n",
       "6  {'max_depth': 2, 'min_samples_leaf': 1, 'min_s...  \n",
       "7         {'fit_intercept': True, 'solver': 'lbfgs'}  \n",
       "8  {'max_depth': 2, 'min_samples_leaf': 1, 'min_s...  \n",
       "9        {'fit_intercept': False, 'solver': 'lbfgs'}  "
      ]
     },
     "execution_count": 14,
     "metadata": {},
     "output_type": "execute_result"
    }
   ],
   "source": [
    "opt_res_binary"
   ]
  },
  {
   "cell_type": "markdown",
   "metadata": {},
   "source": [
    "<div class=\"alert alert-block alert-success\">\n",
    "    \n",
    "We will consider the following hyperparameters for the `GradientBoostClassifier`:\n",
    "* `max_depth=2`\n",
    "* `min_samples_leaf=1`\n",
    "* `n_estimators=20`\n",
    "    \n",
    "</div>"
   ]
  },
  {
   "cell_type": "code",
   "execution_count": 15,
   "metadata": {
    "scrolled": true
   },
   "outputs": [
    {
     "name": "stdout",
     "output_type": "stream",
     "text": [
      "\tGradientboost\n",
      "\t\tElapsed Time:\t 0:00:02.135599\n",
      "\t\tBest Score:\t81.3\n",
      "\t\tBest Params:\t{'max_depth': 2, 'min_samples_leaf': 3, 'min_samples_split': 2, 'n_estimators': 50}\n",
      "\tLogistic Regression\n",
      "\t\tElapsed Time:\t 0:00:00.393891\n",
      "\t\tBest Score:\t81.2\n",
      "\t\tBest Params:\t{'fit_intercept': True, 'solver': 'liblinear'}\n",
      "\tGradientboost\n",
      "\t\tElapsed Time:\t 0:00:02.142536\n",
      "\t\tBest Score:\t81.2\n",
      "\t\tBest Params:\t{'max_depth': 2, 'min_samples_leaf': 1, 'min_samples_split': 2, 'n_estimators': 10}\n",
      "\tLogistic Regression\n",
      "\t\tElapsed Time:\t 0:00:00.415572\n",
      "\t\tBest Score:\t81.2\n",
      "\t\tBest Params:\t{'fit_intercept': False, 'solver': 'liblinear'}\n",
      "\tGradientboost\n",
      "\t\tElapsed Time:\t 0:00:02.124784\n",
      "\t\tBest Score:\t85.8\n",
      "\t\tBest Params:\t{'max_depth': 2, 'min_samples_leaf': 1, 'min_samples_split': 2, 'n_estimators': 10}\n",
      "\tLogistic Regression\n",
      "\t\tElapsed Time:\t 0:00:00.527625\n",
      "\t\tBest Score:\t85.7\n",
      "\t\tBest Params:\t{'fit_intercept': False, 'solver': 'lbfgs'}\n",
      "\tGradientboost\n",
      "\t\tElapsed Time:\t 0:00:02.479499\n",
      "\t\tBest Score:\t82.0\n",
      "\t\tBest Params:\t{'max_depth': 2, 'min_samples_leaf': 2, 'min_samples_split': 2, 'n_estimators': 50}\n",
      "\tLogistic Regression\n",
      "\t\tElapsed Time:\t 0:00:00.536036\n",
      "\t\tBest Score:\t81.6\n",
      "\t\tBest Params:\t{'fit_intercept': True, 'solver': 'liblinear'}\n",
      "\tGradientboost\n",
      "\t\tElapsed Time:\t 0:00:02.344634\n",
      "\t\tBest Score:\t77.6\n",
      "\t\tBest Params:\t{'max_depth': 2, 'min_samples_leaf': 3, 'min_samples_split': 2, 'n_estimators': 50}\n",
      "\tLogistic Regression\n",
      "\t\tElapsed Time:\t 0:00:00.372686\n",
      "\t\tBest Score:\t77.2\n",
      "\t\tBest Params:\t{'fit_intercept': False, 'solver': 'liblinear'}\n"
     ]
    }
   ],
   "source": [
    "opt_res_binary_2 = modeling.optimize_models(data_bi,modeling.model_params,additional_features=[\"steps\",\"tst\",\"sol\",\"restful\",\"naw\"])"
   ]
  },
  {
   "cell_type": "code",
   "execution_count": 16,
   "metadata": {},
   "outputs": [
    {
     "data": {
      "text/html": [
       "<div>\n",
       "<style scoped>\n",
       "    .dataframe tbody tr th:only-of-type {\n",
       "        vertical-align: middle;\n",
       "    }\n",
       "\n",
       "    .dataframe tbody tr th {\n",
       "        vertical-align: top;\n",
       "    }\n",
       "\n",
       "    .dataframe thead th {\n",
       "        text-align: right;\n",
       "    }\n",
       "</style>\n",
       "<table border=\"1\" class=\"dataframe\">\n",
       "  <thead>\n",
       "    <tr style=\"text-align: right;\">\n",
       "      <th></th>\n",
       "      <th>mood</th>\n",
       "      <th>model</th>\n",
       "      <th>best_score</th>\n",
       "      <th>best_params</th>\n",
       "    </tr>\n",
       "  </thead>\n",
       "  <tbody>\n",
       "    <tr>\n",
       "      <th>0</th>\n",
       "      <td>content</td>\n",
       "      <td>gradientboost</td>\n",
       "      <td>81.279651</td>\n",
       "      <td>{'max_depth': 2, 'min_samples_leaf': 3, 'min_s...</td>\n",
       "    </tr>\n",
       "    <tr>\n",
       "      <th>1</th>\n",
       "      <td>content</td>\n",
       "      <td>logistic_regression</td>\n",
       "      <td>81.194908</td>\n",
       "      <td>{'fit_intercept': True, 'solver': 'liblinear'}</td>\n",
       "    </tr>\n",
       "    <tr>\n",
       "      <th>2</th>\n",
       "      <td>stress</td>\n",
       "      <td>gradientboost</td>\n",
       "      <td>81.194199</td>\n",
       "      <td>{'max_depth': 2, 'min_samples_leaf': 1, 'min_s...</td>\n",
       "    </tr>\n",
       "    <tr>\n",
       "      <th>3</th>\n",
       "      <td>stress</td>\n",
       "      <td>logistic_regression</td>\n",
       "      <td>81.194554</td>\n",
       "      <td>{'fit_intercept': False, 'solver': 'liblinear'}</td>\n",
       "    </tr>\n",
       "    <tr>\n",
       "      <th>4</th>\n",
       "      <td>lonely</td>\n",
       "      <td>gradientboost</td>\n",
       "      <td>85.833067</td>\n",
       "      <td>{'max_depth': 2, 'min_samples_leaf': 1, 'min_s...</td>\n",
       "    </tr>\n",
       "    <tr>\n",
       "      <th>5</th>\n",
       "      <td>lonely</td>\n",
       "      <td>logistic_regression</td>\n",
       "      <td>85.749034</td>\n",
       "      <td>{'fit_intercept': False, 'solver': 'lbfgs'}</td>\n",
       "    </tr>\n",
       "    <tr>\n",
       "      <th>6</th>\n",
       "      <td>sad</td>\n",
       "      <td>gradientboost</td>\n",
       "      <td>82.038436</td>\n",
       "      <td>{'max_depth': 2, 'min_samples_leaf': 2, 'min_s...</td>\n",
       "    </tr>\n",
       "    <tr>\n",
       "      <th>7</th>\n",
       "      <td>sad</td>\n",
       "      <td>logistic_regression</td>\n",
       "      <td>81.616849</td>\n",
       "      <td>{'fit_intercept': True, 'solver': 'liblinear'}</td>\n",
       "    </tr>\n",
       "    <tr>\n",
       "      <th>8</th>\n",
       "      <td>energy</td>\n",
       "      <td>gradientboost</td>\n",
       "      <td>77.569762</td>\n",
       "      <td>{'max_depth': 2, 'min_samples_leaf': 3, 'min_s...</td>\n",
       "    </tr>\n",
       "    <tr>\n",
       "      <th>9</th>\n",
       "      <td>energy</td>\n",
       "      <td>logistic_regression</td>\n",
       "      <td>77.233982</td>\n",
       "      <td>{'fit_intercept': False, 'solver': 'liblinear'}</td>\n",
       "    </tr>\n",
       "  </tbody>\n",
       "</table>\n",
       "</div>"
      ],
      "text/plain": [
       "      mood                model  best_score  \\\n",
       "0  content        gradientboost   81.279651   \n",
       "1  content  logistic_regression   81.194908   \n",
       "2   stress        gradientboost   81.194199   \n",
       "3   stress  logistic_regression   81.194554   \n",
       "4   lonely        gradientboost   85.833067   \n",
       "5   lonely  logistic_regression   85.749034   \n",
       "6      sad        gradientboost   82.038436   \n",
       "7      sad  logistic_regression   81.616849   \n",
       "8   energy        gradientboost   77.569762   \n",
       "9   energy  logistic_regression   77.233982   \n",
       "\n",
       "                                         best_params  \n",
       "0  {'max_depth': 2, 'min_samples_leaf': 3, 'min_s...  \n",
       "1     {'fit_intercept': True, 'solver': 'liblinear'}  \n",
       "2  {'max_depth': 2, 'min_samples_leaf': 1, 'min_s...  \n",
       "3    {'fit_intercept': False, 'solver': 'liblinear'}  \n",
       "4  {'max_depth': 2, 'min_samples_leaf': 1, 'min_s...  \n",
       "5        {'fit_intercept': False, 'solver': 'lbfgs'}  \n",
       "6  {'max_depth': 2, 'min_samples_leaf': 2, 'min_s...  \n",
       "7     {'fit_intercept': True, 'solver': 'liblinear'}  \n",
       "8  {'max_depth': 2, 'min_samples_leaf': 3, 'min_s...  \n",
       "9    {'fit_intercept': False, 'solver': 'liblinear'}  "
      ]
     },
     "execution_count": 16,
     "metadata": {},
     "output_type": "execute_result"
    }
   ],
   "source": [
    "opt_res_binary_2"
   ]
  },
  {
   "cell_type": "markdown",
   "metadata": {},
   "source": [
    "<div class=\"alert alert-block alert-success\">\n",
    "    \n",
    "We will consider the following hyperparameters for the `GradientBoostClassifier`:\n",
    "* `max_depth=2`\n",
    "* `min_samples_leaf=1`\n",
    "* `n_estimators=50`\n",
    "    \n",
    "</div>"
   ]
  },
  {
   "cell_type": "code",
   "execution_count": 17,
   "metadata": {},
   "outputs": [],
   "source": [
    "tuned_models_bi = {\"grad\":GradientBoostingClassifier(random_state=42,n_estimators=20,max_depth=2,min_samples_leaf=2,min_samples_split=2),\n",
    "                  \"lr\":LogisticRegression(random_state=42,max_iter=500,fit_intercept=True,solver=\"lbfgs\")}\n",
    "modeling.set_tuned_models_bi(tuned_models_bi)"
   ]
  },
  {
   "cell_type": "markdown",
   "metadata": {},
   "source": [
    "## Cross-Validation\n",
    "We will use three different techniques of cross-validation to compare and understand the sensitivity of our models to different sets of the data:\n",
    "1. **Stratified K-Fold**: This method will ensure that the same ratio of the target classes are preserved which is important especially considering we have four classes in this instance compared to our binary evaluations in the past.\n",
    "2. **Group K-Fold**: This method will help test the sensitivity to any particular participant groups."
   ]
  },
  {
   "cell_type": "markdown",
   "metadata": {},
   "source": [
    "### Stratified K-Fold"
   ]
  },
  {
   "cell_type": "markdown",
   "metadata": {},
   "source": [
    "#### Multiclass"
   ]
  },
  {
   "cell_type": "code",
   "execution_count": 18,
   "metadata": {},
   "outputs": [
    {
     "data": {
      "text/html": [
       "<div>\n",
       "<style scoped>\n",
       "    .dataframe tbody tr th:only-of-type {\n",
       "        vertical-align: middle;\n",
       "    }\n",
       "\n",
       "    .dataframe tbody tr th {\n",
       "        vertical-align: top;\n",
       "    }\n",
       "\n",
       "    .dataframe thead th {\n",
       "        text-align: right;\n",
       "    }\n",
       "</style>\n",
       "<table border=\"1\" class=\"dataframe\">\n",
       "  <thead>\n",
       "    <tr style=\"text-align: right;\">\n",
       "      <th></th>\n",
       "      <th>mood</th>\n",
       "      <th>model</th>\n",
       "      <th>split_1</th>\n",
       "      <th>split_2</th>\n",
       "      <th>split_3</th>\n",
       "      <th>split_4</th>\n",
       "      <th>split_5</th>\n",
       "      <th>mean</th>\n",
       "    </tr>\n",
       "  </thead>\n",
       "  <tbody>\n",
       "    <tr>\n",
       "      <th>0</th>\n",
       "      <td>content</td>\n",
       "      <td>grad</td>\n",
       "      <td>0.678112</td>\n",
       "      <td>0.630901</td>\n",
       "      <td>0.708155</td>\n",
       "      <td>0.620690</td>\n",
       "      <td>0.633621</td>\n",
       "      <td>0.654296</td>\n",
       "    </tr>\n",
       "    <tr>\n",
       "      <th>1</th>\n",
       "      <td>content</td>\n",
       "      <td>lr</td>\n",
       "      <td>0.600858</td>\n",
       "      <td>0.579399</td>\n",
       "      <td>0.652361</td>\n",
       "      <td>0.599138</td>\n",
       "      <td>0.590517</td>\n",
       "      <td>0.604455</td>\n",
       "    </tr>\n",
       "    <tr>\n",
       "      <th>2</th>\n",
       "      <td>stress</td>\n",
       "      <td>grad</td>\n",
       "      <td>0.689655</td>\n",
       "      <td>0.637931</td>\n",
       "      <td>0.672414</td>\n",
       "      <td>0.650862</td>\n",
       "      <td>0.714286</td>\n",
       "      <td>0.673030</td>\n",
       "    </tr>\n",
       "    <tr>\n",
       "      <th>3</th>\n",
       "      <td>stress</td>\n",
       "      <td>lr</td>\n",
       "      <td>0.612069</td>\n",
       "      <td>0.612069</td>\n",
       "      <td>0.650862</td>\n",
       "      <td>0.577586</td>\n",
       "      <td>0.632035</td>\n",
       "      <td>0.616924</td>\n",
       "    </tr>\n",
       "    <tr>\n",
       "      <th>4</th>\n",
       "      <td>lonely</td>\n",
       "      <td>grad</td>\n",
       "      <td>0.811159</td>\n",
       "      <td>0.772532</td>\n",
       "      <td>0.754310</td>\n",
       "      <td>0.797414</td>\n",
       "      <td>0.806034</td>\n",
       "      <td>0.788290</td>\n",
       "    </tr>\n",
       "    <tr>\n",
       "      <th>5</th>\n",
       "      <td>lonely</td>\n",
       "      <td>lr</td>\n",
       "      <td>0.742489</td>\n",
       "      <td>0.716738</td>\n",
       "      <td>0.724138</td>\n",
       "      <td>0.750000</td>\n",
       "      <td>0.732759</td>\n",
       "      <td>0.733225</td>\n",
       "    </tr>\n",
       "    <tr>\n",
       "      <th>6</th>\n",
       "      <td>sad</td>\n",
       "      <td>grad</td>\n",
       "      <td>0.793991</td>\n",
       "      <td>0.781116</td>\n",
       "      <td>0.737069</td>\n",
       "      <td>0.797414</td>\n",
       "      <td>0.788793</td>\n",
       "      <td>0.779677</td>\n",
       "    </tr>\n",
       "    <tr>\n",
       "      <th>7</th>\n",
       "      <td>sad</td>\n",
       "      <td>lr</td>\n",
       "      <td>0.751073</td>\n",
       "      <td>0.742489</td>\n",
       "      <td>0.758621</td>\n",
       "      <td>0.780172</td>\n",
       "      <td>0.724138</td>\n",
       "      <td>0.751299</td>\n",
       "    </tr>\n",
       "    <tr>\n",
       "      <th>8</th>\n",
       "      <td>energy</td>\n",
       "      <td>grad</td>\n",
       "      <td>0.579399</td>\n",
       "      <td>0.557940</td>\n",
       "      <td>0.575107</td>\n",
       "      <td>0.532189</td>\n",
       "      <td>0.564655</td>\n",
       "      <td>0.561858</td>\n",
       "    </tr>\n",
       "    <tr>\n",
       "      <th>9</th>\n",
       "      <td>energy</td>\n",
       "      <td>lr</td>\n",
       "      <td>0.519313</td>\n",
       "      <td>0.502146</td>\n",
       "      <td>0.502146</td>\n",
       "      <td>0.484979</td>\n",
       "      <td>0.508621</td>\n",
       "      <td>0.503441</td>\n",
       "    </tr>\n",
       "  </tbody>\n",
       "</table>\n",
       "</div>"
      ],
      "text/plain": [
       "      mood model   split_1   split_2   split_3   split_4   split_5      mean\n",
       "0  content  grad  0.678112  0.630901  0.708155  0.620690  0.633621  0.654296\n",
       "1  content    lr  0.600858  0.579399  0.652361  0.599138  0.590517  0.604455\n",
       "2   stress  grad  0.689655  0.637931  0.672414  0.650862  0.714286  0.673030\n",
       "3   stress    lr  0.612069  0.612069  0.650862  0.577586  0.632035  0.616924\n",
       "4   lonely  grad  0.811159  0.772532  0.754310  0.797414  0.806034  0.788290\n",
       "5   lonely    lr  0.742489  0.716738  0.724138  0.750000  0.732759  0.733225\n",
       "6      sad  grad  0.793991  0.781116  0.737069  0.797414  0.788793  0.779677\n",
       "7      sad    lr  0.751073  0.742489  0.758621  0.780172  0.724138  0.751299\n",
       "8   energy  grad  0.579399  0.557940  0.575107  0.532189  0.564655  0.561858\n",
       "9   energy    lr  0.519313  0.502146  0.502146  0.484979  0.508621  0.503441"
      ]
     },
     "execution_count": 18,
     "metadata": {},
     "output_type": "execute_result"
    }
   ],
   "source": [
    "res_skf_mc = modeling.cross_validate(data.mood_and_activity,tuned_models,cv_label=\"skf\",additional_features=[\"steps\",\"tst\",\"sol\",\"restful\",\"naw\"])\n",
    "res_skf_mc"
   ]
  },
  {
   "cell_type": "markdown",
   "metadata": {},
   "source": [
    "#### Binary Targets"
   ]
  },
  {
   "cell_type": "code",
   "execution_count": 19,
   "metadata": {},
   "outputs": [
    {
     "data": {
      "text/html": [
       "<div>\n",
       "<style scoped>\n",
       "    .dataframe tbody tr th:only-of-type {\n",
       "        vertical-align: middle;\n",
       "    }\n",
       "\n",
       "    .dataframe tbody tr th {\n",
       "        vertical-align: top;\n",
       "    }\n",
       "\n",
       "    .dataframe thead th {\n",
       "        text-align: right;\n",
       "    }\n",
       "</style>\n",
       "<table border=\"1\" class=\"dataframe\">\n",
       "  <thead>\n",
       "    <tr style=\"text-align: right;\">\n",
       "      <th></th>\n",
       "      <th>mood</th>\n",
       "      <th>model</th>\n",
       "      <th>split_1</th>\n",
       "      <th>split_2</th>\n",
       "      <th>split_3</th>\n",
       "      <th>split_4</th>\n",
       "      <th>split_5</th>\n",
       "      <th>mean</th>\n",
       "    </tr>\n",
       "  </thead>\n",
       "  <tbody>\n",
       "    <tr>\n",
       "      <th>0</th>\n",
       "      <td>content</td>\n",
       "      <td>grad</td>\n",
       "      <td>0.821277</td>\n",
       "      <td>0.770213</td>\n",
       "      <td>0.838298</td>\n",
       "      <td>0.812766</td>\n",
       "      <td>0.838298</td>\n",
       "      <td>0.816170</td>\n",
       "    </tr>\n",
       "    <tr>\n",
       "      <th>1</th>\n",
       "      <td>content</td>\n",
       "      <td>lr</td>\n",
       "      <td>0.821277</td>\n",
       "      <td>0.761702</td>\n",
       "      <td>0.812766</td>\n",
       "      <td>0.791489</td>\n",
       "      <td>0.834043</td>\n",
       "      <td>0.804255</td>\n",
       "    </tr>\n",
       "    <tr>\n",
       "      <th>2</th>\n",
       "      <td>stress</td>\n",
       "      <td>grad</td>\n",
       "      <td>0.855319</td>\n",
       "      <td>0.778723</td>\n",
       "      <td>0.817021</td>\n",
       "      <td>0.782979</td>\n",
       "      <td>0.834043</td>\n",
       "      <td>0.813617</td>\n",
       "    </tr>\n",
       "    <tr>\n",
       "      <th>3</th>\n",
       "      <td>stress</td>\n",
       "      <td>lr</td>\n",
       "      <td>0.842553</td>\n",
       "      <td>0.778723</td>\n",
       "      <td>0.821277</td>\n",
       "      <td>0.782979</td>\n",
       "      <td>0.821277</td>\n",
       "      <td>0.809362</td>\n",
       "    </tr>\n",
       "    <tr>\n",
       "      <th>4</th>\n",
       "      <td>lonely</td>\n",
       "      <td>grad</td>\n",
       "      <td>0.880851</td>\n",
       "      <td>0.851064</td>\n",
       "      <td>0.846809</td>\n",
       "      <td>0.855319</td>\n",
       "      <td>0.863830</td>\n",
       "      <td>0.859574</td>\n",
       "    </tr>\n",
       "    <tr>\n",
       "      <th>5</th>\n",
       "      <td>lonely</td>\n",
       "      <td>lr</td>\n",
       "      <td>0.868085</td>\n",
       "      <td>0.834043</td>\n",
       "      <td>0.846809</td>\n",
       "      <td>0.855319</td>\n",
       "      <td>0.863830</td>\n",
       "      <td>0.853617</td>\n",
       "    </tr>\n",
       "    <tr>\n",
       "      <th>6</th>\n",
       "      <td>sad</td>\n",
       "      <td>grad</td>\n",
       "      <td>0.851064</td>\n",
       "      <td>0.800000</td>\n",
       "      <td>0.765957</td>\n",
       "      <td>0.842553</td>\n",
       "      <td>0.834043</td>\n",
       "      <td>0.818723</td>\n",
       "    </tr>\n",
       "    <tr>\n",
       "      <th>7</th>\n",
       "      <td>sad</td>\n",
       "      <td>lr</td>\n",
       "      <td>0.838298</td>\n",
       "      <td>0.778723</td>\n",
       "      <td>0.765957</td>\n",
       "      <td>0.851064</td>\n",
       "      <td>0.804255</td>\n",
       "      <td>0.807660</td>\n",
       "    </tr>\n",
       "    <tr>\n",
       "      <th>8</th>\n",
       "      <td>energy</td>\n",
       "      <td>grad</td>\n",
       "      <td>0.770213</td>\n",
       "      <td>0.774468</td>\n",
       "      <td>0.800000</td>\n",
       "      <td>0.795745</td>\n",
       "      <td>0.774468</td>\n",
       "      <td>0.782979</td>\n",
       "    </tr>\n",
       "    <tr>\n",
       "      <th>9</th>\n",
       "      <td>energy</td>\n",
       "      <td>lr</td>\n",
       "      <td>0.774468</td>\n",
       "      <td>0.770213</td>\n",
       "      <td>0.787234</td>\n",
       "      <td>0.808511</td>\n",
       "      <td>0.753191</td>\n",
       "      <td>0.778723</td>\n",
       "    </tr>\n",
       "  </tbody>\n",
       "</table>\n",
       "</div>"
      ],
      "text/plain": [
       "      mood model   split_1   split_2   split_3   split_4   split_5      mean\n",
       "0  content  grad  0.821277  0.770213  0.838298  0.812766  0.838298  0.816170\n",
       "1  content    lr  0.821277  0.761702  0.812766  0.791489  0.834043  0.804255\n",
       "2   stress  grad  0.855319  0.778723  0.817021  0.782979  0.834043  0.813617\n",
       "3   stress    lr  0.842553  0.778723  0.821277  0.782979  0.821277  0.809362\n",
       "4   lonely  grad  0.880851  0.851064  0.846809  0.855319  0.863830  0.859574\n",
       "5   lonely    lr  0.868085  0.834043  0.846809  0.855319  0.863830  0.853617\n",
       "6      sad  grad  0.851064  0.800000  0.765957  0.842553  0.834043  0.818723\n",
       "7      sad    lr  0.838298  0.778723  0.765957  0.851064  0.804255  0.807660\n",
       "8   energy  grad  0.770213  0.774468  0.800000  0.795745  0.774468  0.782979\n",
       "9   energy    lr  0.774468  0.770213  0.787234  0.808511  0.753191  0.778723"
      ]
     },
     "execution_count": 19,
     "metadata": {},
     "output_type": "execute_result"
    }
   ],
   "source": [
    "res_skf_bt = modeling.cross_validate(data_bi_targets,tuned_models,cv_label=\"skf\",additional_features=[\"steps\",\"tst\",\"sol\",\"restful\",\"naw\"])\n",
    "res_skf_bt"
   ]
  },
  {
   "cell_type": "markdown",
   "metadata": {},
   "source": [
    "#### Binary Everything"
   ]
  },
  {
   "cell_type": "code",
   "execution_count": 20,
   "metadata": {},
   "outputs": [
    {
     "data": {
      "text/html": [
       "<div>\n",
       "<style scoped>\n",
       "    .dataframe tbody tr th:only-of-type {\n",
       "        vertical-align: middle;\n",
       "    }\n",
       "\n",
       "    .dataframe tbody tr th {\n",
       "        vertical-align: top;\n",
       "    }\n",
       "\n",
       "    .dataframe thead th {\n",
       "        text-align: right;\n",
       "    }\n",
       "</style>\n",
       "<table border=\"1\" class=\"dataframe\">\n",
       "  <thead>\n",
       "    <tr style=\"text-align: right;\">\n",
       "      <th></th>\n",
       "      <th>mood</th>\n",
       "      <th>model</th>\n",
       "      <th>split_1</th>\n",
       "      <th>split_2</th>\n",
       "      <th>split_3</th>\n",
       "      <th>split_4</th>\n",
       "      <th>split_5</th>\n",
       "      <th>mean</th>\n",
       "    </tr>\n",
       "  </thead>\n",
       "  <tbody>\n",
       "    <tr>\n",
       "      <th>0</th>\n",
       "      <td>content</td>\n",
       "      <td>grad</td>\n",
       "      <td>0.823529</td>\n",
       "      <td>0.767932</td>\n",
       "      <td>0.835443</td>\n",
       "      <td>0.801688</td>\n",
       "      <td>0.805907</td>\n",
       "      <td>0.806900</td>\n",
       "    </tr>\n",
       "    <tr>\n",
       "      <th>1</th>\n",
       "      <td>content</td>\n",
       "      <td>lr</td>\n",
       "      <td>0.840336</td>\n",
       "      <td>0.780591</td>\n",
       "      <td>0.831224</td>\n",
       "      <td>0.793249</td>\n",
       "      <td>0.814346</td>\n",
       "      <td>0.811949</td>\n",
       "    </tr>\n",
       "    <tr>\n",
       "      <th>2</th>\n",
       "      <td>stress</td>\n",
       "      <td>grad</td>\n",
       "      <td>0.848739</td>\n",
       "      <td>0.784810</td>\n",
       "      <td>0.814346</td>\n",
       "      <td>0.780591</td>\n",
       "      <td>0.831224</td>\n",
       "      <td>0.811942</td>\n",
       "    </tr>\n",
       "    <tr>\n",
       "      <th>3</th>\n",
       "      <td>stress</td>\n",
       "      <td>lr</td>\n",
       "      <td>0.844538</td>\n",
       "      <td>0.780591</td>\n",
       "      <td>0.814346</td>\n",
       "      <td>0.789030</td>\n",
       "      <td>0.827004</td>\n",
       "      <td>0.811102</td>\n",
       "    </tr>\n",
       "    <tr>\n",
       "      <th>4</th>\n",
       "      <td>lonely</td>\n",
       "      <td>grad</td>\n",
       "      <td>0.878151</td>\n",
       "      <td>0.852321</td>\n",
       "      <td>0.843882</td>\n",
       "      <td>0.860759</td>\n",
       "      <td>0.856540</td>\n",
       "      <td>0.858331</td>\n",
       "    </tr>\n",
       "    <tr>\n",
       "      <th>5</th>\n",
       "      <td>lonely</td>\n",
       "      <td>lr</td>\n",
       "      <td>0.865546</td>\n",
       "      <td>0.852321</td>\n",
       "      <td>0.843882</td>\n",
       "      <td>0.860759</td>\n",
       "      <td>0.856540</td>\n",
       "      <td>0.855810</td>\n",
       "    </tr>\n",
       "    <tr>\n",
       "      <th>6</th>\n",
       "      <td>sad</td>\n",
       "      <td>grad</td>\n",
       "      <td>0.844538</td>\n",
       "      <td>0.793249</td>\n",
       "      <td>0.767932</td>\n",
       "      <td>0.848101</td>\n",
       "      <td>0.831224</td>\n",
       "      <td>0.817009</td>\n",
       "    </tr>\n",
       "    <tr>\n",
       "      <th>7</th>\n",
       "      <td>sad</td>\n",
       "      <td>lr</td>\n",
       "      <td>0.840336</td>\n",
       "      <td>0.793249</td>\n",
       "      <td>0.772152</td>\n",
       "      <td>0.835443</td>\n",
       "      <td>0.839662</td>\n",
       "      <td>0.816168</td>\n",
       "    </tr>\n",
       "    <tr>\n",
       "      <th>8</th>\n",
       "      <td>energy</td>\n",
       "      <td>grad</td>\n",
       "      <td>0.789916</td>\n",
       "      <td>0.751055</td>\n",
       "      <td>0.780591</td>\n",
       "      <td>0.784810</td>\n",
       "      <td>0.746835</td>\n",
       "      <td>0.770641</td>\n",
       "    </tr>\n",
       "    <tr>\n",
       "      <th>9</th>\n",
       "      <td>energy</td>\n",
       "      <td>lr</td>\n",
       "      <td>0.777311</td>\n",
       "      <td>0.746835</td>\n",
       "      <td>0.801688</td>\n",
       "      <td>0.759494</td>\n",
       "      <td>0.759494</td>\n",
       "      <td>0.768964</td>\n",
       "    </tr>\n",
       "  </tbody>\n",
       "</table>\n",
       "</div>"
      ],
      "text/plain": [
       "      mood model   split_1   split_2   split_3   split_4   split_5      mean\n",
       "0  content  grad  0.823529  0.767932  0.835443  0.801688  0.805907  0.806900\n",
       "1  content    lr  0.840336  0.780591  0.831224  0.793249  0.814346  0.811949\n",
       "2   stress  grad  0.848739  0.784810  0.814346  0.780591  0.831224  0.811942\n",
       "3   stress    lr  0.844538  0.780591  0.814346  0.789030  0.827004  0.811102\n",
       "4   lonely  grad  0.878151  0.852321  0.843882  0.860759  0.856540  0.858331\n",
       "5   lonely    lr  0.865546  0.852321  0.843882  0.860759  0.856540  0.855810\n",
       "6      sad  grad  0.844538  0.793249  0.767932  0.848101  0.831224  0.817009\n",
       "7      sad    lr  0.840336  0.793249  0.772152  0.835443  0.839662  0.816168\n",
       "8   energy  grad  0.789916  0.751055  0.780591  0.784810  0.746835  0.770641\n",
       "9   energy    lr  0.777311  0.746835  0.801688  0.759494  0.759494  0.768964"
      ]
     },
     "execution_count": 20,
     "metadata": {},
     "output_type": "execute_result"
    }
   ],
   "source": [
    "res_skf_bi = modeling.cross_validate(data_bi,tuned_models,cv_label=\"skf\",additional_features=[\"steps\",\"tst\",\"sol\",\"restful\",\"naw\"])\n",
    "res_skf_bi"
   ]
  },
  {
   "cell_type": "markdown",
   "metadata": {},
   "source": [
    "<div class=\"alert alert-block alert-success\">\n",
    "    \n",
    "Models tend to be rather consistent amongst the various splits\n",
    "    \n",
    "</div>"
   ]
  },
  {
   "cell_type": "markdown",
   "metadata": {},
   "source": [
    "### Group K-Fold"
   ]
  },
  {
   "cell_type": "markdown",
   "metadata": {},
   "source": [
    "#### Multiclass"
   ]
  },
  {
   "cell_type": "code",
   "execution_count": 21,
   "metadata": {},
   "outputs": [
    {
     "data": {
      "text/html": [
       "<div>\n",
       "<style scoped>\n",
       "    .dataframe tbody tr th:only-of-type {\n",
       "        vertical-align: middle;\n",
       "    }\n",
       "\n",
       "    .dataframe tbody tr th {\n",
       "        vertical-align: top;\n",
       "    }\n",
       "\n",
       "    .dataframe thead th {\n",
       "        text-align: right;\n",
       "    }\n",
       "</style>\n",
       "<table border=\"1\" class=\"dataframe\">\n",
       "  <thead>\n",
       "    <tr style=\"text-align: right;\">\n",
       "      <th></th>\n",
       "      <th>mood</th>\n",
       "      <th>model</th>\n",
       "      <th>split_1</th>\n",
       "      <th>split_2</th>\n",
       "      <th>split_3</th>\n",
       "      <th>split_4</th>\n",
       "      <th>split_5</th>\n",
       "      <th>mean</th>\n",
       "    </tr>\n",
       "  </thead>\n",
       "  <tbody>\n",
       "    <tr>\n",
       "      <th>0</th>\n",
       "      <td>content</td>\n",
       "      <td>grad</td>\n",
       "      <td>0.603448</td>\n",
       "      <td>0.660944</td>\n",
       "      <td>0.699571</td>\n",
       "      <td>0.599138</td>\n",
       "      <td>0.643777</td>\n",
       "      <td>0.641376</td>\n",
       "    </tr>\n",
       "    <tr>\n",
       "      <th>1</th>\n",
       "      <td>content</td>\n",
       "      <td>lr</td>\n",
       "      <td>0.543103</td>\n",
       "      <td>0.510730</td>\n",
       "      <td>0.622318</td>\n",
       "      <td>0.495690</td>\n",
       "      <td>0.626609</td>\n",
       "      <td>0.559690</td>\n",
       "    </tr>\n",
       "    <tr>\n",
       "      <th>2</th>\n",
       "      <td>stress</td>\n",
       "      <td>grad</td>\n",
       "      <td>0.630901</td>\n",
       "      <td>0.646552</td>\n",
       "      <td>0.692641</td>\n",
       "      <td>0.724138</td>\n",
       "      <td>0.597403</td>\n",
       "      <td>0.658327</td>\n",
       "    </tr>\n",
       "    <tr>\n",
       "      <th>3</th>\n",
       "      <td>stress</td>\n",
       "      <td>lr</td>\n",
       "      <td>0.506438</td>\n",
       "      <td>0.581897</td>\n",
       "      <td>0.632035</td>\n",
       "      <td>0.693966</td>\n",
       "      <td>0.610390</td>\n",
       "      <td>0.604945</td>\n",
       "    </tr>\n",
       "    <tr>\n",
       "      <th>4</th>\n",
       "      <td>lonely</td>\n",
       "      <td>grad</td>\n",
       "      <td>0.711207</td>\n",
       "      <td>0.845494</td>\n",
       "      <td>0.775862</td>\n",
       "      <td>0.823276</td>\n",
       "      <td>0.716738</td>\n",
       "      <td>0.774515</td>\n",
       "    </tr>\n",
       "    <tr>\n",
       "      <th>5</th>\n",
       "      <td>lonely</td>\n",
       "      <td>lr</td>\n",
       "      <td>0.629310</td>\n",
       "      <td>0.845494</td>\n",
       "      <td>0.681034</td>\n",
       "      <td>0.762931</td>\n",
       "      <td>0.630901</td>\n",
       "      <td>0.709934</td>\n",
       "    </tr>\n",
       "    <tr>\n",
       "      <th>6</th>\n",
       "      <td>sad</td>\n",
       "      <td>grad</td>\n",
       "      <td>0.663793</td>\n",
       "      <td>0.849785</td>\n",
       "      <td>0.818966</td>\n",
       "      <td>0.746781</td>\n",
       "      <td>0.810345</td>\n",
       "      <td>0.777934</td>\n",
       "    </tr>\n",
       "    <tr>\n",
       "      <th>7</th>\n",
       "      <td>sad</td>\n",
       "      <td>lr</td>\n",
       "      <td>0.663793</td>\n",
       "      <td>0.832618</td>\n",
       "      <td>0.827586</td>\n",
       "      <td>0.699571</td>\n",
       "      <td>0.706897</td>\n",
       "      <td>0.746093</td>\n",
       "    </tr>\n",
       "    <tr>\n",
       "      <th>8</th>\n",
       "      <td>energy</td>\n",
       "      <td>grad</td>\n",
       "      <td>0.559829</td>\n",
       "      <td>0.579399</td>\n",
       "      <td>0.616379</td>\n",
       "      <td>0.532189</td>\n",
       "      <td>0.439655</td>\n",
       "      <td>0.545490</td>\n",
       "    </tr>\n",
       "    <tr>\n",
       "      <th>9</th>\n",
       "      <td>energy</td>\n",
       "      <td>lr</td>\n",
       "      <td>0.478632</td>\n",
       "      <td>0.472103</td>\n",
       "      <td>0.431034</td>\n",
       "      <td>0.454936</td>\n",
       "      <td>0.452586</td>\n",
       "      <td>0.457858</td>\n",
       "    </tr>\n",
       "  </tbody>\n",
       "</table>\n",
       "</div>"
      ],
      "text/plain": [
       "      mood model   split_1   split_2   split_3   split_4   split_5      mean\n",
       "0  content  grad  0.603448  0.660944  0.699571  0.599138  0.643777  0.641376\n",
       "1  content    lr  0.543103  0.510730  0.622318  0.495690  0.626609  0.559690\n",
       "2   stress  grad  0.630901  0.646552  0.692641  0.724138  0.597403  0.658327\n",
       "3   stress    lr  0.506438  0.581897  0.632035  0.693966  0.610390  0.604945\n",
       "4   lonely  grad  0.711207  0.845494  0.775862  0.823276  0.716738  0.774515\n",
       "5   lonely    lr  0.629310  0.845494  0.681034  0.762931  0.630901  0.709934\n",
       "6      sad  grad  0.663793  0.849785  0.818966  0.746781  0.810345  0.777934\n",
       "7      sad    lr  0.663793  0.832618  0.827586  0.699571  0.706897  0.746093\n",
       "8   energy  grad  0.559829  0.579399  0.616379  0.532189  0.439655  0.545490\n",
       "9   energy    lr  0.478632  0.472103  0.431034  0.454936  0.452586  0.457858"
      ]
     },
     "execution_count": 21,
     "metadata": {},
     "output_type": "execute_result"
    }
   ],
   "source": [
    "res_gkf_mc = modeling.cross_validate(data.mood_and_activity,tuned_models,cv_label=\"gkf\",additional_features=[\"steps\",\"tst\",\"sol\",\"restful\",\"naw\"])\n",
    "res_gkf_mc"
   ]
  },
  {
   "cell_type": "markdown",
   "metadata": {},
   "source": [
    "#### Binary Targets"
   ]
  },
  {
   "cell_type": "code",
   "execution_count": 22,
   "metadata": {},
   "outputs": [
    {
     "data": {
      "text/html": [
       "<div>\n",
       "<style scoped>\n",
       "    .dataframe tbody tr th:only-of-type {\n",
       "        vertical-align: middle;\n",
       "    }\n",
       "\n",
       "    .dataframe tbody tr th {\n",
       "        vertical-align: top;\n",
       "    }\n",
       "\n",
       "    .dataframe thead th {\n",
       "        text-align: right;\n",
       "    }\n",
       "</style>\n",
       "<table border=\"1\" class=\"dataframe\">\n",
       "  <thead>\n",
       "    <tr style=\"text-align: right;\">\n",
       "      <th></th>\n",
       "      <th>mood</th>\n",
       "      <th>model</th>\n",
       "      <th>split_1</th>\n",
       "      <th>split_2</th>\n",
       "      <th>split_3</th>\n",
       "      <th>split_4</th>\n",
       "      <th>split_5</th>\n",
       "      <th>mean</th>\n",
       "    </tr>\n",
       "  </thead>\n",
       "  <tbody>\n",
       "    <tr>\n",
       "      <th>0</th>\n",
       "      <td>content</td>\n",
       "      <td>grad</td>\n",
       "      <td>0.834746</td>\n",
       "      <td>0.824786</td>\n",
       "      <td>0.762712</td>\n",
       "      <td>0.761702</td>\n",
       "      <td>0.816239</td>\n",
       "      <td>0.800037</td>\n",
       "    </tr>\n",
       "    <tr>\n",
       "      <th>1</th>\n",
       "      <td>content</td>\n",
       "      <td>lr</td>\n",
       "      <td>0.788136</td>\n",
       "      <td>0.837607</td>\n",
       "      <td>0.720339</td>\n",
       "      <td>0.761702</td>\n",
       "      <td>0.837607</td>\n",
       "      <td>0.789078</td>\n",
       "    </tr>\n",
       "    <tr>\n",
       "      <th>2</th>\n",
       "      <td>stress</td>\n",
       "      <td>grad</td>\n",
       "      <td>0.805085</td>\n",
       "      <td>0.794872</td>\n",
       "      <td>0.830508</td>\n",
       "      <td>0.897872</td>\n",
       "      <td>0.739316</td>\n",
       "      <td>0.813531</td>\n",
       "    </tr>\n",
       "    <tr>\n",
       "      <th>3</th>\n",
       "      <td>stress</td>\n",
       "      <td>lr</td>\n",
       "      <td>0.796610</td>\n",
       "      <td>0.777778</td>\n",
       "      <td>0.830508</td>\n",
       "      <td>0.893617</td>\n",
       "      <td>0.739316</td>\n",
       "      <td>0.807566</td>\n",
       "    </tr>\n",
       "    <tr>\n",
       "      <th>4</th>\n",
       "      <td>lonely</td>\n",
       "      <td>grad</td>\n",
       "      <td>0.800847</td>\n",
       "      <td>0.914530</td>\n",
       "      <td>0.843220</td>\n",
       "      <td>0.851064</td>\n",
       "      <td>0.888889</td>\n",
       "      <td>0.859710</td>\n",
       "    </tr>\n",
       "    <tr>\n",
       "      <th>5</th>\n",
       "      <td>lonely</td>\n",
       "      <td>lr</td>\n",
       "      <td>0.805085</td>\n",
       "      <td>0.918803</td>\n",
       "      <td>0.838983</td>\n",
       "      <td>0.846809</td>\n",
       "      <td>0.880342</td>\n",
       "      <td>0.858004</td>\n",
       "    </tr>\n",
       "    <tr>\n",
       "      <th>6</th>\n",
       "      <td>sad</td>\n",
       "      <td>grad</td>\n",
       "      <td>0.737288</td>\n",
       "      <td>0.884615</td>\n",
       "      <td>0.737288</td>\n",
       "      <td>0.876596</td>\n",
       "      <td>0.871795</td>\n",
       "      <td>0.821516</td>\n",
       "    </tr>\n",
       "    <tr>\n",
       "      <th>7</th>\n",
       "      <td>sad</td>\n",
       "      <td>lr</td>\n",
       "      <td>0.716102</td>\n",
       "      <td>0.884615</td>\n",
       "      <td>0.724576</td>\n",
       "      <td>0.885106</td>\n",
       "      <td>0.858974</td>\n",
       "      <td>0.813875</td>\n",
       "    </tr>\n",
       "    <tr>\n",
       "      <th>8</th>\n",
       "      <td>energy</td>\n",
       "      <td>grad</td>\n",
       "      <td>0.622881</td>\n",
       "      <td>0.850427</td>\n",
       "      <td>0.766949</td>\n",
       "      <td>0.859574</td>\n",
       "      <td>0.760684</td>\n",
       "      <td>0.772103</td>\n",
       "    </tr>\n",
       "    <tr>\n",
       "      <th>9</th>\n",
       "      <td>energy</td>\n",
       "      <td>lr</td>\n",
       "      <td>0.656780</td>\n",
       "      <td>0.850427</td>\n",
       "      <td>0.771186</td>\n",
       "      <td>0.863830</td>\n",
       "      <td>0.739316</td>\n",
       "      <td>0.776308</td>\n",
       "    </tr>\n",
       "  </tbody>\n",
       "</table>\n",
       "</div>"
      ],
      "text/plain": [
       "      mood model   split_1   split_2   split_3   split_4   split_5      mean\n",
       "0  content  grad  0.834746  0.824786  0.762712  0.761702  0.816239  0.800037\n",
       "1  content    lr  0.788136  0.837607  0.720339  0.761702  0.837607  0.789078\n",
       "2   stress  grad  0.805085  0.794872  0.830508  0.897872  0.739316  0.813531\n",
       "3   stress    lr  0.796610  0.777778  0.830508  0.893617  0.739316  0.807566\n",
       "4   lonely  grad  0.800847  0.914530  0.843220  0.851064  0.888889  0.859710\n",
       "5   lonely    lr  0.805085  0.918803  0.838983  0.846809  0.880342  0.858004\n",
       "6      sad  grad  0.737288  0.884615  0.737288  0.876596  0.871795  0.821516\n",
       "7      sad    lr  0.716102  0.884615  0.724576  0.885106  0.858974  0.813875\n",
       "8   energy  grad  0.622881  0.850427  0.766949  0.859574  0.760684  0.772103\n",
       "9   energy    lr  0.656780  0.850427  0.771186  0.863830  0.739316  0.776308"
      ]
     },
     "execution_count": 22,
     "metadata": {},
     "output_type": "execute_result"
    }
   ],
   "source": [
    "res_gkf_bt = modeling.cross_validate(data_bi_targets,tuned_models,cv_label=\"gkf\",additional_features=[\"steps\",\"tst\",\"sol\",\"restful\",\"naw\"])\n",
    "res_gkf_bt"
   ]
  },
  {
   "cell_type": "code",
   "execution_count": 23,
   "metadata": {},
   "outputs": [
    {
     "data": {
      "text/html": [
       "<div>\n",
       "<style scoped>\n",
       "    .dataframe tbody tr th:only-of-type {\n",
       "        vertical-align: middle;\n",
       "    }\n",
       "\n",
       "    .dataframe tbody tr th {\n",
       "        vertical-align: top;\n",
       "    }\n",
       "\n",
       "    .dataframe thead th {\n",
       "        text-align: right;\n",
       "    }\n",
       "</style>\n",
       "<table border=\"1\" class=\"dataframe\">\n",
       "  <thead>\n",
       "    <tr style=\"text-align: right;\">\n",
       "      <th></th>\n",
       "      <th>mood</th>\n",
       "      <th>model</th>\n",
       "      <th>split_1</th>\n",
       "      <th>split_2</th>\n",
       "      <th>split_3</th>\n",
       "      <th>split_4</th>\n",
       "      <th>split_5</th>\n",
       "      <th>mean</th>\n",
       "    </tr>\n",
       "  </thead>\n",
       "  <tbody>\n",
       "    <tr>\n",
       "      <th>0</th>\n",
       "      <td>content</td>\n",
       "      <td>grad</td>\n",
       "      <td>0.801688</td>\n",
       "      <td>0.848739</td>\n",
       "      <td>0.771186</td>\n",
       "      <td>0.764706</td>\n",
       "      <td>0.780591</td>\n",
       "      <td>0.793382</td>\n",
       "    </tr>\n",
       "    <tr>\n",
       "      <th>1</th>\n",
       "      <td>content</td>\n",
       "      <td>lr</td>\n",
       "      <td>0.818565</td>\n",
       "      <td>0.836134</td>\n",
       "      <td>0.771186</td>\n",
       "      <td>0.768908</td>\n",
       "      <td>0.780591</td>\n",
       "      <td>0.795077</td>\n",
       "    </tr>\n",
       "    <tr>\n",
       "      <th>2</th>\n",
       "      <td>stress</td>\n",
       "      <td>grad</td>\n",
       "      <td>0.839662</td>\n",
       "      <td>0.831933</td>\n",
       "      <td>0.822034</td>\n",
       "      <td>0.773109</td>\n",
       "      <td>0.776371</td>\n",
       "      <td>0.808622</td>\n",
       "    </tr>\n",
       "    <tr>\n",
       "      <th>3</th>\n",
       "      <td>stress</td>\n",
       "      <td>lr</td>\n",
       "      <td>0.835443</td>\n",
       "      <td>0.831933</td>\n",
       "      <td>0.830508</td>\n",
       "      <td>0.777311</td>\n",
       "      <td>0.767932</td>\n",
       "      <td>0.808626</td>\n",
       "    </tr>\n",
       "    <tr>\n",
       "      <th>4</th>\n",
       "      <td>lonely</td>\n",
       "      <td>grad</td>\n",
       "      <td>0.784810</td>\n",
       "      <td>0.936975</td>\n",
       "      <td>0.813559</td>\n",
       "      <td>0.882353</td>\n",
       "      <td>0.852321</td>\n",
       "      <td>0.854004</td>\n",
       "    </tr>\n",
       "    <tr>\n",
       "      <th>5</th>\n",
       "      <td>lonely</td>\n",
       "      <td>lr</td>\n",
       "      <td>0.780591</td>\n",
       "      <td>0.932773</td>\n",
       "      <td>0.826271</td>\n",
       "      <td>0.878151</td>\n",
       "      <td>0.852321</td>\n",
       "      <td>0.854021</td>\n",
       "    </tr>\n",
       "    <tr>\n",
       "      <th>6</th>\n",
       "      <td>sad</td>\n",
       "      <td>grad</td>\n",
       "      <td>0.717300</td>\n",
       "      <td>0.936975</td>\n",
       "      <td>0.779661</td>\n",
       "      <td>0.815126</td>\n",
       "      <td>0.848101</td>\n",
       "      <td>0.819433</td>\n",
       "    </tr>\n",
       "    <tr>\n",
       "      <th>7</th>\n",
       "      <td>sad</td>\n",
       "      <td>lr</td>\n",
       "      <td>0.679325</td>\n",
       "      <td>0.924370</td>\n",
       "      <td>0.771186</td>\n",
       "      <td>0.819328</td>\n",
       "      <td>0.843882</td>\n",
       "      <td>0.807618</td>\n",
       "    </tr>\n",
       "    <tr>\n",
       "      <th>8</th>\n",
       "      <td>energy</td>\n",
       "      <td>grad</td>\n",
       "      <td>0.729958</td>\n",
       "      <td>0.836134</td>\n",
       "      <td>0.796610</td>\n",
       "      <td>0.781513</td>\n",
       "      <td>0.717300</td>\n",
       "      <td>0.772303</td>\n",
       "    </tr>\n",
       "    <tr>\n",
       "      <th>9</th>\n",
       "      <td>energy</td>\n",
       "      <td>lr</td>\n",
       "      <td>0.734177</td>\n",
       "      <td>0.815126</td>\n",
       "      <td>0.758475</td>\n",
       "      <td>0.760504</td>\n",
       "      <td>0.751055</td>\n",
       "      <td>0.763867</td>\n",
       "    </tr>\n",
       "  </tbody>\n",
       "</table>\n",
       "</div>"
      ],
      "text/plain": [
       "      mood model   split_1   split_2   split_3   split_4   split_5      mean\n",
       "0  content  grad  0.801688  0.848739  0.771186  0.764706  0.780591  0.793382\n",
       "1  content    lr  0.818565  0.836134  0.771186  0.768908  0.780591  0.795077\n",
       "2   stress  grad  0.839662  0.831933  0.822034  0.773109  0.776371  0.808622\n",
       "3   stress    lr  0.835443  0.831933  0.830508  0.777311  0.767932  0.808626\n",
       "4   lonely  grad  0.784810  0.936975  0.813559  0.882353  0.852321  0.854004\n",
       "5   lonely    lr  0.780591  0.932773  0.826271  0.878151  0.852321  0.854021\n",
       "6      sad  grad  0.717300  0.936975  0.779661  0.815126  0.848101  0.819433\n",
       "7      sad    lr  0.679325  0.924370  0.771186  0.819328  0.843882  0.807618\n",
       "8   energy  grad  0.729958  0.836134  0.796610  0.781513  0.717300  0.772303\n",
       "9   energy    lr  0.734177  0.815126  0.758475  0.760504  0.751055  0.763867"
      ]
     },
     "execution_count": 23,
     "metadata": {},
     "output_type": "execute_result"
    }
   ],
   "source": [
    "res_gkf_bi = modeling.cross_validate(data_bi,tuned_models,cv_label=\"gkf\",additional_features=[\"steps\",\"tst\",\"sol\",\"restful\",\"naw\"])\n",
    "res_gkf_bi"
   ]
  },
  {
   "cell_type": "markdown",
   "metadata": {},
   "source": [
    "<div class=\"alert alert-block alert-success\">\n",
    "    \n",
    "Similar results to the stratified split both in terms of variation and average scores.\n",
    "    \n",
    "</div>"
   ]
  },
  {
   "cell_type": "markdown",
   "metadata": {},
   "source": [
    "[Back to Modeling](#modeling)"
   ]
  },
  {
   "cell_type": "markdown",
   "metadata": {},
   "source": [
    "---"
   ]
  },
  {
   "cell_type": "markdown",
   "metadata": {},
   "source": [
    "<a id='prediction'></a>"
   ]
  },
  {
   "cell_type": "markdown",
   "metadata": {},
   "source": [
    "# Prediction\n",
    "Since our models seemed to pass the test with the cross-validation, now we can use them to predict the outcomes. "
   ]
  },
  {
   "cell_type": "code",
   "execution_count": 24,
   "metadata": {},
   "outputs": [],
   "source": [
    "predictor = mood_prediction.Prediction()"
   ]
  },
  {
   "cell_type": "code",
   "execution_count": 25,
   "metadata": {},
   "outputs": [],
   "source": [
    "y_true, y_pred = predictor.get_predictions(data_bi,mood=\"content\",model=modeling.tuned_models[\"grad\"],include_evening=False,additional_features=[\"steps\",\"tst\",\"sol\",\"restful\",\"naw\"])"
   ]
  },
  {
   "cell_type": "markdown",
   "metadata": {},
   "source": [
    "---"
   ]
  },
  {
   "cell_type": "markdown",
   "metadata": {},
   "source": [
    "<a id='evaluation'></a>"
   ]
  },
  {
   "cell_type": "markdown",
   "metadata": {},
   "source": [
    "# Evaluation\n",
    "[Here](https://towardsdatascience.com/comprehensive-guide-on-multiclass-classification-metrics-af94cfb83fbd) is a nice article regarding various metrics to consider for multiclass classification.\n",
    "\n",
    "[Here](https://towardsdatascience.com/understanding-classification-metrics-6b585a6377de) is another that is more general regarding classification."
   ]
  },
  {
   "cell_type": "code",
   "execution_count": 26,
   "metadata": {},
   "outputs": [],
   "source": [
    "evaluator = mood_prediction.Evaluation()"
   ]
  },
  {
   "cell_type": "markdown",
   "metadata": {},
   "source": [
    "## Confusion Matrices\n",
    "We can look at how well our models perform by considering the confusion matrices."
   ]
  },
  {
   "cell_type": "code",
   "execution_count": 27,
   "metadata": {
    "scrolled": true
   },
   "outputs": [
    {
     "data": {
      "image/png": "[encoded data removed]",
      "text/plain": [
       "<Figure size 360x360 with 2 Axes>"
      ]
     },
     "metadata": {
      "needs_background": "light"
     },
     "output_type": "display_data"
    },
    {
     "data": {
      "image/png": "[encoded data removed]",
      "text/plain": [
       "<Figure size 360x360 with 2 Axes>"
      ]
     },
     "metadata": {
      "needs_background": "light"
     },
     "output_type": "display_data"
    },
    {
     "data": {
      "image/png": "[encoded data removed]",
      "text/plain": [
       "<Figure size 360x360 with 2 Axes>"
      ]
     },
     "metadata": {
      "needs_background": "light"
     },
     "output_type": "display_data"
    },
    {
     "data": {
      "image/png": "[encoded data removed]",
      "text/plain": [
       "<Figure size 360x360 with 2 Axes>"
      ]
     },
     "metadata": {
      "needs_background": "light"
     },
     "output_type": "display_data"
    },
    {
     "data": {
      "image/png": "[encoded data removed]",
      "text/plain": [
       "<Figure size 360x360 with 2 Axes>"
      ]
     },
     "metadata": {
      "needs_background": "light"
     },
     "output_type": "display_data"
    }
   ],
   "source": [
    "for mood in [\"content\",\"stress\",\"lonely\",\"sad\",\"energy\"]:\n",
    "    y_true, y_pred = predictor.get_predictions(data_bi,mood,tuned_models[\"grad\"],include_evening=True,additional_features=[\"steps\",\"tst\",\"sol\",\"restful\",\"naw\"])\n",
    "    _ = evaluator.get_cm(y_true, y_pred, plot=True,title=mood.title())"
   ]
  },
  {
   "cell_type": "markdown",
   "metadata": {},
   "source": [
    "## All the metrics\n",
    "Who knew there was a fancy function for all this? In addition, we borrow some advice from the TDS crew.\n",
    "\n",
    "This [post](https://towardsdatascience.com/multi-class-metrics-made-simple-part-ii-the-f1-score-ebe8b2c2ca1) has a nice review of why we were originally getting `accuracy=recall`."
   ]
  },
  {
   "cell_type": "markdown",
   "metadata": {},
   "source": [
    "### Multiclass"
   ]
  },
  {
   "cell_type": "code",
   "execution_count": 28,
   "metadata": {},
   "outputs": [],
   "source": [
    "scores_multi = evaluator.get_scoring_metrics(data.mood_and_activity,tuned_models[\"lr\"],include_evening=False,additional_features=[\"steps\",\"tst\",\"sol\",\"restful\",\"naw\"])"
   ]
  },
  {
   "cell_type": "code",
   "execution_count": 29,
   "metadata": {},
   "outputs": [
    {
     "name": "stdout",
     "output_type": "stream",
     "text": [
      "\\begin{tabular}{lrrrr}\n",
      "\\toprule\n",
      "{} &  accuracy &  precision &  recall &    f1 \\\\\n",
      "mood       &           &            &         &       \\\\\n",
      "\\midrule\n",
      "Discontent &      0.44 &       0.59 &    0.60 &  0.59 \\\\\n",
      "Stress     &      0.43 &       0.59 &    0.62 &  0.58 \\\\\n",
      "Lonely     &      0.41 &       0.69 &    0.73 &  0.70 \\\\\n",
      "Sad        &      0.34 &       0.68 &    0.75 &  0.71 \\\\\n",
      "Energy     &      0.33 &       0.45 &    0.50 &  0.40 \\\\\n",
      "\\bottomrule\n",
      "\\end{tabular}\n",
      "\n"
     ]
    }
   ],
   "source": [
    "print(scores_multi.round(decimals=2).set_index(\"mood\").to_latex())"
   ]
  },
  {
   "cell_type": "markdown",
   "metadata": {},
   "source": [
    "### Binary"
   ]
  },
  {
   "cell_type": "code",
   "execution_count": 30,
   "metadata": {},
   "outputs": [],
   "source": [
    "scores_bi = evaluator.get_scoring_metrics(data_bi_targets,tuned_models[\"grad\"],binary=True,include_evening=False,additional_features=[\"steps\",\"tst\",\"sol\",\"restful\",\"naw\"])"
   ]
  },
  {
   "cell_type": "code",
   "execution_count": 31,
   "metadata": {},
   "outputs": [
    {
     "name": "stdout",
     "output_type": "stream",
     "text": [
      "\\begin{tabular}{lrrrr}\n",
      "\\toprule\n",
      "{} &  accuracy &  precision &  recall &     f1 \\\\\n",
      "mood       &           &            &         &        \\\\\n",
      "\\midrule\n",
      "Discontent &     0.793 &      0.847 &   0.937 &  0.890 \\\\\n",
      "Stress     &     0.799 &      0.821 &   0.879 &  0.848 \\\\\n",
      "Lonely     &     0.836 &      0.831 &   0.756 &  0.791 \\\\\n",
      "Sad        &     0.775 &      0.751 &   0.653 &  0.697 \\\\\n",
      "Energy     &     0.617 &      0.793 &   0.958 &  0.868 \\\\\n",
      "\\bottomrule\n",
      "\\end{tabular}\n",
      "\n"
     ]
    }
   ],
   "source": [
    "print(scores_bi.round(decimals=3).set_index(\"mood\").to_latex())"
   ]
  },
  {
   "cell_type": "code",
   "execution_count": 32,
   "metadata": {},
   "outputs": [],
   "source": [
    "#evaluator.get_scoring_metrics(data_bi,tuned_models[\"grad\"],binary=True,include_evening=False,additional_features=[\"steps\",\"tst\",\"sol\",\"restful\",\"naw\"])"
   ]
  },
  {
   "cell_type": "markdown",
   "metadata": {},
   "source": [
    "## Feature Importances"
   ]
  },
  {
   "cell_type": "markdown",
   "metadata": {},
   "source": [
    "### Multiclass"
   ]
  },
  {
   "cell_type": "code",
   "execution_count": 49,
   "metadata": {},
   "outputs": [
    {
     "data": {
      "image/png": "[encoded data removed]",
      "text/plain": [
       "<Figure size 288x720 with 6 Axes>"
      ]
     },
     "metadata": {
      "needs_background": "light"
     },
     "output_type": "display_data"
    }
   ],
   "source": [
    "res = evaluator.get_feature_importances(data.mood_and_activity,tuned_models[\"grad\"],\n",
    "                                  features=[\"discontent_m\",\"sad_m\",\"lonely_m\",\"stress_m\",\"energy_m\",\"steps\",\"tst\",\"sol\",\"restful\",\"naw\"],save=False)"
   ]
  },
  {
   "cell_type": "code",
   "execution_count": 50,
   "metadata": {},
   "outputs": [
    {
     "data": {
      "image/png": "[encoded data removed]",
      "text/plain": [
       "<Figure size 432x288 with 2 Axes>"
      ]
     },
     "metadata": {
      "needs_background": "light"
     },
     "output_type": "display_data"
    }
   ],
   "source": [
    "fig, ax = plt.subplots()\n",
    "df_to_plot = res.set_index(\"mood\")\n",
    "sns.heatmap(df_to_plot.T,square=True,cmap=\"Blues\",vmin=0,vmax=1,lw=0.5,linecolor=\"black\",\n",
    "            cbar_kws={\"label\":\"Mean Decrease in Impurity\"},\n",
    "            ax=ax)\n",
    "# x-axis\n",
    "xlabels = []\n",
    "for mood in df_to_plot.index:\n",
    "    xlabels.append(mood.title())\n",
    "ax.set_xticklabels(xlabels,fontsize=10,rotation=-30,ha=\"left\")\n",
    "ax.set_xlabel(\"Target Mood\",fontsize=12)\n",
    "# y-axis\n",
    "ylabels = []\n",
    "for col in df_to_plot.columns:\n",
    "    ylabels.append(visualize.get_label(col))\n",
    "ax.set_yticklabels(ylabels,fontsize=10)\n",
    "ax.set_ylabel(\"Feature\",fontsize=12)\n",
    "# remainder\n",
    "\n",
    "plt.savefig(\"../reports/figures/ema_fitbit/feature_importance-mood_sleep_activity_on_mood-heatmap-ux_s20.pdf\",bbox_inches=\"tight\")\n",
    "plt.show()\n",
    "plt.close()"
   ]
  },
  {
   "cell_type": "code",
   "execution_count": 73,
   "metadata": {},
   "outputs": [
    {
     "data": {
      "image/png": "[encoded data removed]",
      "text/plain": [
       "<Figure size 432x288 with 2 Axes>"
      ]
     },
     "metadata": {
      "needs_background": "light"
     },
     "output_type": "display_data"
    }
   ],
   "source": [
    "fig, ax = plt.subplots()\n",
    "df_to_plot = res.set_index(\"mood\")\n",
    "df = df_to_plot.copy()\n",
    "for row in df.index:\n",
    "    for col in df.columns:\n",
    "        if row[:3] == col[:3]:\n",
    "            df.loc[row,col] = np.nan\n",
    "#df = df.div(df.sum(axis=1), axis=0)\n",
    "df.fillna(-10,inplace=True)\n",
    "sns.heatmap(df.T,square=True,cmap=\"Blues\",vmin=0,vmax=0.1,lw=0.5,linecolor=\"black\",\n",
    "            cbar_kws={\"label\":\"Mean Decrease in Impurity\",\"shrink\":0.75},\n",
    "            ax=ax)\n",
    "sns.heatmap(df_to_plot.T, mask=df_to_plot.T < 0.6, cbar=False,lw=0.5,linecolor=\"black\",\n",
    "            annot=True, annot_kws={\"fontsize\":8},cmap=\"binary\",vmin=0,vmax=1,\n",
    "           ax=ax)\n",
    "# x-axis\n",
    "ylabels = []\n",
    "for mood in df.index:\n",
    "    ylabels.append(mood.title())\n",
    "ax.set_xticklabels(ylabels,fontsize=10,rotation=-30,ha=\"left\")\n",
    "ax.set_xlabel(\"Target Evening Mood\",fontsize=12)\n",
    "# y-axis\n",
    "xlabels = []\n",
    "for col in df.columns:\n",
    "    xlabels.append(visualize.get_label(col))\n",
    "ax.set_yticklabels(xlabels,fontsize=10)\n",
    "ax.set_ylabel(\"Feature\",fontsize=12)\n",
    "# remainder\n",
    "\n",
    "plt.savefig(\"../reports/figures/ema_fitbit/feature_importance_multi-mood_sleep_activity_on_mood_scaled-heatmap-ux_s20.pdf\",bbox_inches=\"tight\")\n",
    "plt.show()\n",
    "plt.close()"
   ]
  },
  {
   "cell_type": "markdown",
   "metadata": {},
   "source": [
    "## Binary"
   ]
  },
  {
   "cell_type": "code",
   "execution_count": 46,
   "metadata": {},
   "outputs": [
    {
     "data": {
      "image/png": "[encoded data removed]",
      "text/plain": [
       "<Figure size 288x720 with 6 Axes>"
      ]
     },
     "metadata": {
      "needs_background": "light"
     },
     "output_type": "display_data"
    }
   ],
   "source": [
    "res_bi = evaluator.get_feature_importances(data_bi_targets,tuned_models[\"grad\"],\n",
    "                                  features=[\"discontent_m\",\"sad_m\",\"lonely_m\",\"stress_m\",\"energy_m\",\"steps\",\"tst\",\"sol\",\"restful\",\"naw\"],save=False)"
   ]
  },
  {
   "cell_type": "code",
   "execution_count": 47,
   "metadata": {},
   "outputs": [
    {
     "data": {
      "image/png": "[encoded data removed]",
      "text/plain": [
       "<Figure size 432x288 with 2 Axes>"
      ]
     },
     "metadata": {
      "needs_background": "light"
     },
     "output_type": "display_data"
    }
   ],
   "source": [
    "fig, ax = plt.subplots()\n",
    "df_to_plot = res_bi.set_index(\"mood\")\n",
    "sns.heatmap(df_to_plot.T,square=True,cmap=\"Blues\",vmin=0,vmax=1,lw=0.5,linecolor=\"black\",\n",
    "            cbar_kws={\"label\":\"Mean Decrease in Impurity\"},\n",
    "            ax=ax)\n",
    "# x-axis\n",
    "xlabels = []\n",
    "for mood in df_to_plot.index:\n",
    "    xlabels.append(mood.title())\n",
    "ax.set_xticklabels(xlabels,fontsize=10,rotation=-30,ha=\"left\")\n",
    "ax.set_xlabel(\"Target Mood\",fontsize=12)\n",
    "# y-axis\n",
    "ylabels = []\n",
    "for col in df_to_plot.columns:\n",
    "    ylabels.append(visualize.get_label(col))\n",
    "ax.set_yticklabels(ylabels,fontsize=10)\n",
    "ax.set_ylabel(\"Feature\",fontsize=12)\n",
    "# remainder\n",
    "\n",
    "#plt.savefig(\"../reports/figures/ema_fitbit/feature_importance-mood_sleep_activity_on_mood-heatmap-ux_s20.pdf\",bbox_inches=\"tight\")\n",
    "plt.show()\n",
    "plt.close()"
   ]
  },
  {
   "cell_type": "code",
   "execution_count": 48,
   "metadata": {},
   "outputs": [
    {
     "data": {
      "image/png": "[encoded data removed]",
      "text/plain": [
       "<Figure size 432x288 with 2 Axes>"
      ]
     },
     "metadata": {
      "needs_background": "light"
     },
     "output_type": "display_data"
    }
   ],
   "source": [
    "fig, ax = plt.subplots()\n",
    "df_to_plot = res_bi.set_index(\"mood\")\n",
    "df = df_to_plot.copy()\n",
    "for row in df.index:\n",
    "    for col in df.columns:\n",
    "        if row[:3] == col[:3]:\n",
    "            df.loc[row,col] = np.nan\n",
    "#df = df.div(df.sum(axis=1), axis=0)\n",
    "df.fillna(-10,inplace=True)\n",
    "sns.heatmap(df.T,square=True,cmap=\"Blues\",vmin=0,vmax=0.1,lw=0.5,linecolor=\"black\",\n",
    "            cbar_kws={\"label\":\"Mean Decrease in Impurity\"},\n",
    "            ax=ax)\n",
    "sns.heatmap(df_to_plot.T, mask=df_to_plot.T < 0.7, cbar=False,lw=0.5,linecolor=\"black\",\n",
    "            annot=True, annot_kws={\"fontsize\":8},cmap=\"binary\",vmin=0,vmax=1,\n",
    "           ax=ax)\n",
    "# x-axis\n",
    "xlabels = []\n",
    "for mood in df.index:\n",
    "    xlabels.append(mood.title())\n",
    "ax.set_xticklabels(xlabels,fontsize=10,rotation=-30,ha=\"left\")\n",
    "ax.set_xlabel(\"Target Evening Mood\",fontsize=12)\n",
    "# y-axis\n",
    "ylabels = []\n",
    "for col in df.columns:\n",
    "    ylabels.append(visualize.get_label(col))\n",
    "ax.set_yticklabels(ylabels,fontsize=10)\n",
    "ax.set_ylabel(\"Feature\",fontsize=12)\n",
    "# remainder\n",
    "\n",
    "plt.savefig(\"../reports/figures/ema_fitbit/feature_importance-mood_sleep_activity_on_mood_scaled-heatmap-ux_s20.pdf\",bbox_inches=\"tight\")\n",
    "plt.show()\n",
    "plt.close()"
   ]
  },
  {
   "cell_type": "markdown",
   "metadata": {},
   "source": [
    "[Back to Evaluation](#evaluation)"
   ]
  },
  {
   "cell_type": "markdown",
   "metadata": {},
   "source": [
    "---"
   ]
  },
  {
   "cell_type": "markdown",
   "metadata": {},
   "source": [
    "# Saving"
   ]
  },
  {
   "cell_type": "markdown",
   "metadata": {},
   "source": [
    "## Results"
   ]
  },
  {
   "cell_type": "code",
   "execution_count": 39,
   "metadata": {},
   "outputs": [
    {
     "name": "stdout",
     "output_type": "stream",
     "text": [
      "GRAD - Include Evening: False\n",
      "\tMulticlass\n",
      "\tBinary\n",
      "GRAD - Include Evening: True\n",
      "\tMulticlass\n",
      "\tBinary\n",
      "LR - Include Evening: False\n",
      "\tMulticlass\n",
      "\tBinary\n",
      "LR - Include Evening: True\n",
      "\tMulticlass\n",
      "\tBinary\n"
     ]
    }
   ],
   "source": [
    "with pd.ExcelWriter('../data/interim/mood_prediction/results-mood_and_activity_on_mood.xlsx') as writer:  \n",
    "    for model,model_bi in zip(modeling.tuned_models.keys(),modeling.tuned_models_bi.keys()):\n",
    "        for include_evening in [False,True]:\n",
    "            print(f\"{model.upper()} - Include Evening: {include_evening}\")\n",
    "            print(\"\\tMulticlass\")\n",
    "            res = evaluator.get_scoring_metrics(data.mood_and_activity,modeling.tuned_models[model],include_evening=include_evening,additional_features=[\"step_goal\"])\n",
    "            res.to_excel(writer, sheet_name=f\"{model}-multiclass-evening_{str(include_evening).lower()}\")\n",
    "            print(\"\\tBinary\")\n",
    "            res_bi = evaluator.get_scoring_metrics(data_bi,modeling.tuned_models_bi[model_bi],binary=True,include_evening=include_evening,additional_features=[\"step_goal\"])\n",
    "            res_bi.to_excel(writer, sheet_name=f\"{model}-binary-evening_{str(include_evening).lower()}\")"
   ]
  },
  {
   "cell_type": "markdown",
   "metadata": {},
   "source": [
    "[Back to Top](#top)"
   ]
  }
 ],
 "metadata": {
  "kernelspec": {
   "display_name": "Python 3",
   "language": "python",
   "name": "python3"
  },
  "language_info": {
   "codemirror_mode": {
    "name": "ipython",
    "version": 3
   },
   "file_extension": ".py",
   "mimetype": "text/x-python",
   "name": "python",
   "nbconvert_exporter": "python",
   "pygments_lexer": "ipython3",
   "version": "3.8.8"
  },
  "toc": {
   "base_numbering": 1,
   "nav_menu": {},
   "number_sections": false,
   "sideBar": false,
   "skip_h1_title": false,
   "title_cell": "Table of Contents",
   "title_sidebar": "Contents",
   "toc_cell": false,
   "toc_position": {},
   "toc_section_display": false,
   "toc_window_display": false
  }
 },
 "nbformat": 4,
 "nbformat_minor": 4
}
