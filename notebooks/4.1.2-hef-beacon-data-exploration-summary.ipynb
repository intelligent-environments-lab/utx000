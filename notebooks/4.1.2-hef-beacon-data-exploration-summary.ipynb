{
 "cells": [
  {
   "cell_type": "markdown",
   "metadata": {},
   "source": [
    "# Exploring the UTx000 Extension Beacon Data\n",
    "(Known as BPEACE2 in the [GH repo](https://github.com/intelligent-environments-lab/utx000))"
   ]
  },
  {
   "cell_type": "markdown",
   "metadata": {},
   "source": [
    "# Summary\n",
    "This notebook helps look at the measurements taken during the study period for the various sensors on the beacons."
   ]
  },
  {
   "cell_type": "markdown",
   "metadata": {},
   "source": [
    "# Package Import"
   ]
  },
  {
   "cell_type": "code",
   "execution_count": 2,
   "metadata": {},
   "outputs": [],
   "source": [
    "import sys\n",
    "sys.path.append('../')\n",
    "\n",
    "from src.features import build_features\n",
    "from src.visualization import visualize\n",
    "from src.reports import make_report\n",
    "\n",
    "import pandas as pd\n",
    "import numpy as np\n",
    "\n",
    "from datetime import datetime, timedelta"
   ]
  },
  {
   "cell_type": "markdown",
   "metadata": {},
   "source": [
    "# Data Import"
   ]
  },
  {
   "cell_type": "code",
   "execution_count": 3,
   "metadata": {},
   "outputs": [
    {
     "data": {
      "text/html": [
       "<div>\n",
       "<style scoped>\n",
       "    .dataframe tbody tr th:only-of-type {\n",
       "        vertical-align: middle;\n",
       "    }\n",
       "\n",
       "    .dataframe tbody tr th {\n",
       "        vertical-align: top;\n",
       "    }\n",
       "\n",
       "    .dataframe thead th {\n",
       "        text-align: right;\n",
       "    }\n",
       "</style>\n",
       "<table border=\"1\" class=\"dataframe\">\n",
       "  <thead>\n",
       "    <tr style=\"text-align: right;\">\n",
       "      <th></th>\n",
       "      <th>TVOC</th>\n",
       "      <th>eCO2</th>\n",
       "      <th>Lux</th>\n",
       "      <th>Visible</th>\n",
       "      <th>Infrared</th>\n",
       "      <th>NO2</th>\n",
       "      <th>T_NO2</th>\n",
       "      <th>RH_NO2</th>\n",
       "      <th>CO</th>\n",
       "      <th>T_CO</th>\n",
       "      <th>...</th>\n",
       "      <th>PM_N_4</th>\n",
       "      <th>PM_N_10</th>\n",
       "      <th>PM_C_1</th>\n",
       "      <th>PM_C_2p5</th>\n",
       "      <th>PM_C_4</th>\n",
       "      <th>PM_C_10</th>\n",
       "      <th>Beacon</th>\n",
       "      <th>Beiwe</th>\n",
       "      <th>Fitbit</th>\n",
       "      <th>REDCap</th>\n",
       "    </tr>\n",
       "    <tr>\n",
       "      <th>Timestamp</th>\n",
       "      <th></th>\n",
       "      <th></th>\n",
       "      <th></th>\n",
       "      <th></th>\n",
       "      <th></th>\n",
       "      <th></th>\n",
       "      <th></th>\n",
       "      <th></th>\n",
       "      <th></th>\n",
       "      <th></th>\n",
       "      <th></th>\n",
       "      <th></th>\n",
       "      <th></th>\n",
       "      <th></th>\n",
       "      <th></th>\n",
       "      <th></th>\n",
       "      <th></th>\n",
       "      <th></th>\n",
       "      <th></th>\n",
       "      <th></th>\n",
       "      <th></th>\n",
       "    </tr>\n",
       "  </thead>\n",
       "  <tbody>\n",
       "    <tr>\n",
       "      <th>2020-06-01 17:15:00</th>\n",
       "      <td>0.0</td>\n",
       "      <td>400.0</td>\n",
       "      <td>-100.0</td>\n",
       "      <td>-100.0</td>\n",
       "      <td>-100.0</td>\n",
       "      <td>669362.437500</td>\n",
       "      <td>22.0</td>\n",
       "      <td>55.250000</td>\n",
       "      <td>-0.1</td>\n",
       "      <td>-100.0</td>\n",
       "      <td>...</td>\n",
       "      <td>45.066567</td>\n",
       "      <td>45.351743</td>\n",
       "      <td>5.528357</td>\n",
       "      <td>13.813757</td>\n",
       "      <td>20.262206</td>\n",
       "      <td>21.551901</td>\n",
       "      <td>30</td>\n",
       "      <td>idbkjh8u</td>\n",
       "      <td>22</td>\n",
       "      <td>4</td>\n",
       "    </tr>\n",
       "    <tr>\n",
       "      <th>2020-06-01 17:20:00</th>\n",
       "      <td>0.0</td>\n",
       "      <td>400.0</td>\n",
       "      <td>-100.0</td>\n",
       "      <td>-100.0</td>\n",
       "      <td>-100.0</td>\n",
       "      <td>40906.066667</td>\n",
       "      <td>22.0</td>\n",
       "      <td>54.166667</td>\n",
       "      <td>-0.1</td>\n",
       "      <td>-100.0</td>\n",
       "      <td>...</td>\n",
       "      <td>42.536739</td>\n",
       "      <td>42.735695</td>\n",
       "      <td>5.247584</td>\n",
       "      <td>11.059922</td>\n",
       "      <td>15.519927</td>\n",
       "      <td>16.411934</td>\n",
       "      <td>30</td>\n",
       "      <td>idbkjh8u</td>\n",
       "      <td>22</td>\n",
       "      <td>4</td>\n",
       "    </tr>\n",
       "    <tr>\n",
       "      <th>2020-06-01 17:25:00</th>\n",
       "      <td>0.0</td>\n",
       "      <td>400.0</td>\n",
       "      <td>-100.0</td>\n",
       "      <td>-100.0</td>\n",
       "      <td>-100.0</td>\n",
       "      <td>22156.680000</td>\n",
       "      <td>23.0</td>\n",
       "      <td>53.000000</td>\n",
       "      <td>-0.1</td>\n",
       "      <td>-100.0</td>\n",
       "      <td>...</td>\n",
       "      <td>37.865118</td>\n",
       "      <td>38.020652</td>\n",
       "      <td>4.680348</td>\n",
       "      <td>9.237404</td>\n",
       "      <td>12.707863</td>\n",
       "      <td>13.401960</td>\n",
       "      <td>30</td>\n",
       "      <td>idbkjh8u</td>\n",
       "      <td>22</td>\n",
       "      <td>4</td>\n",
       "    </tr>\n",
       "    <tr>\n",
       "      <th>2020-06-01 17:30:00</th>\n",
       "      <td>0.0</td>\n",
       "      <td>400.0</td>\n",
       "      <td>-100.0</td>\n",
       "      <td>-100.0</td>\n",
       "      <td>-100.0</td>\n",
       "      <td>15907.500000</td>\n",
       "      <td>23.0</td>\n",
       "      <td>52.000000</td>\n",
       "      <td>-0.1</td>\n",
       "      <td>-100.0</td>\n",
       "      <td>...</td>\n",
       "      <td>41.361894</td>\n",
       "      <td>41.520351</td>\n",
       "      <td>5.117388</td>\n",
       "      <td>9.768085</td>\n",
       "      <td>13.294004</td>\n",
       "      <td>13.999194</td>\n",
       "      <td>30</td>\n",
       "      <td>idbkjh8u</td>\n",
       "      <td>22</td>\n",
       "      <td>4</td>\n",
       "    </tr>\n",
       "    <tr>\n",
       "      <th>2020-06-01 17:35:00</th>\n",
       "      <td>0.0</td>\n",
       "      <td>400.0</td>\n",
       "      <td>-100.0</td>\n",
       "      <td>-100.0</td>\n",
       "      <td>-100.0</td>\n",
       "      <td>12495.000000</td>\n",
       "      <td>23.0</td>\n",
       "      <td>51.960000</td>\n",
       "      <td>-0.1</td>\n",
       "      <td>-100.0</td>\n",
       "      <td>...</td>\n",
       "      <td>40.015350</td>\n",
       "      <td>40.204947</td>\n",
       "      <td>4.935506</td>\n",
       "      <td>10.472929</td>\n",
       "      <td>14.724953</td>\n",
       "      <td>15.575364</td>\n",
       "      <td>30</td>\n",
       "      <td>idbkjh8u</td>\n",
       "      <td>22</td>\n",
       "      <td>4</td>\n",
       "    </tr>\n",
       "  </tbody>\n",
       "</table>\n",
       "<p>5 rows × 27 columns</p>\n",
       "</div>"
      ],
      "text/plain": [
       "                     TVOC   eCO2    Lux  Visible  Infrared            NO2  \\\n",
       "Timestamp                                                                   \n",
       "2020-06-01 17:15:00   0.0  400.0 -100.0   -100.0    -100.0  669362.437500   \n",
       "2020-06-01 17:20:00   0.0  400.0 -100.0   -100.0    -100.0   40906.066667   \n",
       "2020-06-01 17:25:00   0.0  400.0 -100.0   -100.0    -100.0   22156.680000   \n",
       "2020-06-01 17:30:00   0.0  400.0 -100.0   -100.0    -100.0   15907.500000   \n",
       "2020-06-01 17:35:00   0.0  400.0 -100.0   -100.0    -100.0   12495.000000   \n",
       "\n",
       "                     T_NO2     RH_NO2   CO   T_CO  ...     PM_N_4    PM_N_10  \\\n",
       "Timestamp                                          ...                         \n",
       "2020-06-01 17:15:00   22.0  55.250000 -0.1 -100.0  ...  45.066567  45.351743   \n",
       "2020-06-01 17:20:00   22.0  54.166667 -0.1 -100.0  ...  42.536739  42.735695   \n",
       "2020-06-01 17:25:00   23.0  53.000000 -0.1 -100.0  ...  37.865118  38.020652   \n",
       "2020-06-01 17:30:00   23.0  52.000000 -0.1 -100.0  ...  41.361894  41.520351   \n",
       "2020-06-01 17:35:00   23.0  51.960000 -0.1 -100.0  ...  40.015350  40.204947   \n",
       "\n",
       "                       PM_C_1   PM_C_2p5     PM_C_4    PM_C_10  Beacon  \\\n",
       "Timestamp                                                                \n",
       "2020-06-01 17:15:00  5.528357  13.813757  20.262206  21.551901      30   \n",
       "2020-06-01 17:20:00  5.247584  11.059922  15.519927  16.411934      30   \n",
       "2020-06-01 17:25:00  4.680348   9.237404  12.707863  13.401960      30   \n",
       "2020-06-01 17:30:00  5.117388   9.768085  13.294004  13.999194      30   \n",
       "2020-06-01 17:35:00  4.935506  10.472929  14.724953  15.575364      30   \n",
       "\n",
       "                        Beiwe  Fitbit  REDCap  \n",
       "Timestamp                                      \n",
       "2020-06-01 17:15:00  idbkjh8u      22       4  \n",
       "2020-06-01 17:20:00  idbkjh8u      22       4  \n",
       "2020-06-01 17:25:00  idbkjh8u      22       4  \n",
       "2020-06-01 17:30:00  idbkjh8u      22       4  \n",
       "2020-06-01 17:35:00  idbkjh8u      22       4  \n",
       "\n",
       "[5 rows x 27 columns]"
      ]
     },
     "execution_count": 3,
     "metadata": {},
     "output_type": "execute_result"
    }
   ],
   "source": [
    "beacon_data = pd.read_csv('../data/processed/bpeace2-beacon.csv',index_col=0,parse_dates=True)\n",
    "# show it off:\n",
    "beacon_data.head()"
   ]
  },
  {
   "cell_type": "markdown",
   "metadata": {},
   "source": [
    "## Base Visualization\n",
    "Here we look at the raw, unaltered data in order to ascertain:\n",
    "- what data are available? (see 4.1.1 notebook to see when participants actually measured data)\n",
    "- what are typical measurements and what does this say?\n",
    "- are their any misbehaving sensors?"
   ]
  },
  {
   "cell_type": "code",
   "execution_count": 14,
   "metadata": {},
   "outputs": [],
   "source": [
    "import matplotlib.pyplot as plt\n",
    "import matplotlib.dates as mdates\n",
    "import seaborn as sns"
   ]
  },
  {
   "cell_type": "code",
   "execution_count": 9,
   "metadata": {},
   "outputs": [],
   "source": [
    "dt = datetime(2020,8,28,11,1) - datetime(2020,8,21,18,31)"
   ]
  },
  {
   "cell_type": "code",
   "execution_count": 10,
   "metadata": {},
   "outputs": [
    {
     "data": {
      "text/plain": [
       "datetime.datetime(2020, 6, 1, 4, 29)"
      ]
     },
     "execution_count": 10,
     "metadata": {},
     "output_type": "execute_result"
    }
   ],
   "source": [
    "datetime(2020,5,25,11,59) + dt"
   ]
  },
  {
   "cell_type": "code",
   "execution_count": 12,
   "metadata": {},
   "outputs": [],
   "source": [
    "test = beacon_data[beacon_data['Beacon'] == 13]"
   ]
  },
  {
   "cell_type": "code",
   "execution_count": 23,
   "metadata": {},
   "outputs": [
    {
     "data": {
      "text/plain": [
       "<matplotlib.collections.PathCollection at 0x7ffe798c66a0>"
      ]
     },
     "execution_count": 23,
     "metadata": {},
     "output_type": "execute_result"
    },
    {
     "data": {
      "image/png": "[encoded data removed]",
      "text/plain": [
       "<Figure size 1152x576 with 1 Axes>"
      ]
     },
     "metadata": {
      "needs_background": "light"
     },
     "output_type": "display_data"
    }
   ],
   "source": [
    "fig, ax = plt.subplots(figsize=(16,8))\n",
    "test = test[datetime(2020,6,3,11,59):datetime(2020,6,4,11,59)]\n",
    "ax.scatter(test.index,test['CO2'])"
   ]
  },
  {
   "cell_type": "code",
   "execution_count": 24,
   "metadata": {},
   "outputs": [
    {
     "data": {
      "text/plain": [
       "datetime.datetime(2020, 6, 10, 6, 29)"
      ]
     },
     "execution_count": 24,
     "metadata": {},
     "output_type": "execute_result"
    }
   ],
   "source": [
    "datetime(2020,6,3,13,59) + dt"
   ]
  },
  {
   "cell_type": "code",
   "execution_count": 30,
   "metadata": {},
   "outputs": [
    {
     "name": "stdout",
     "output_type": "stream",
     "text": [
      "6 days, 22:04:00\n"
     ]
    }
   ],
   "source": [
    "corrected_dt = datetime(2020,6,10,11,21) - datetime(2020,6,3,13,17)\n",
    "print(corrected_dt)"
   ]
  },
  {
   "cell_type": "code",
   "execution_count": 27,
   "metadata": {},
   "outputs": [
    {
     "data": {
      "text/plain": [
       "datetime.datetime(2020, 6, 10, 11, 21)"
      ]
     },
     "execution_count": 27,
     "metadata": {},
     "output_type": "execute_result"
    }
   ],
   "source": [
    "datetime(2020,6,3,13,17) + corrected_dt"
   ]
  },
  {
   "cell_type": "code",
   "execution_count": 31,
   "metadata": {},
   "outputs": [
    {
     "data": {
      "text/plain": [
       "datetime.datetime(2020, 8, 28, 16, 35)"
      ]
     },
     "execution_count": 31,
     "metadata": {},
     "output_type": "execute_result"
    }
   ],
   "source": [
    "datetime(2020,8,21,18,31) + corrected_dt"
   ]
  },
  {
   "cell_type": "code",
   "execution_count": null,
   "metadata": {},
   "outputs": [],
   "source": []
  }
 ],
 "metadata": {
  "kernelspec": {
   "display_name": "Python 3",
   "language": "python",
   "name": "python3"
  },
  "language_info": {
   "codemirror_mode": {
    "name": "ipython",
    "version": 3
   },
   "file_extension": ".py",
   "mimetype": "text/x-python",
   "name": "python",
   "nbconvert_exporter": "python",
   "pygments_lexer": "ipython3",
   "version": "3.7.0"
  }
 },
 "nbformat": 4,
 "nbformat_minor": 4
}
