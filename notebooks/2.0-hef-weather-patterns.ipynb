{
 "cells": [
  {
   "cell_type": "markdown",
   "metadata": {},
   "source": [
    "# UT2000 Weather Patterns\n",
    "This notebook is meant to import weather data from UT's weather station to determine what the conditions in Austin were like during the study. The primary reason for this is to see how the temperature and relative humidty respond on the Beacons in participants' homes.\n",
    "\n",
    "[Data Import and Pre-Processing](#Data-Import)\n",
    "\n",
    "[Data Visualization](#Data-Visualization)"
   ]
  },
  {
   "cell_type": "code",
   "execution_count": 1,
   "metadata": {},
   "outputs": [],
   "source": [
    "import pandas as pd\n",
    "import numpy as np\n",
    "from datetime import datetime"
   ]
  },
  {
   "cell_type": "markdown",
   "metadata": {},
   "source": [
    "# Data Import"
   ]
  },
  {
   "cell_type": "code",
   "execution_count": 24,
   "metadata": {},
   "outputs": [
    {
     "name": "stderr",
     "output_type": "stream",
     "text": [
      "/Library/Frameworks/Python.framework/Versions/3.7/lib/python3.7/site-packages/ipykernel_launcher.py:10: SettingWithCopyWarning: \n",
      "A value is trying to be set on a copy of a slice from a DataFrame.\n",
      "Try using .loc[row_indexer,col_indexer] = value instead\n",
      "\n",
      "See the caveats in the documentation: https://pandas.pydata.org/pandas-docs/stable/user_guide/indexing.html#returning-a-view-versus-a-copy\n",
      "  # Remove the CWD from sys.path while we load stuff.\n"
     ]
    },
    {
     "data": {
      "text/html": [
       "<div>\n",
       "<style scoped>\n",
       "    .dataframe tbody tr th:only-of-type {\n",
       "        vertical-align: middle;\n",
       "    }\n",
       "\n",
       "    .dataframe tbody tr th {\n",
       "        vertical-align: top;\n",
       "    }\n",
       "\n",
       "    .dataframe thead th {\n",
       "        text-align: right;\n",
       "    }\n",
       "</style>\n",
       "<table border=\"1\" class=\"dataframe\">\n",
       "  <thead>\n",
       "    <tr style=\"text-align: right;\">\n",
       "      <th></th>\n",
       "      <th>Out Temp</th>\n",
       "      <th>Out Hum</th>\n",
       "      <th>Dew Pt</th>\n",
       "      <th>Wind Speed</th>\n",
       "      <th>Rain</th>\n",
       "    </tr>\n",
       "    <tr>\n",
       "      <th>Date_        Time</th>\n",
       "      <th></th>\n",
       "      <th></th>\n",
       "      <th></th>\n",
       "      <th></th>\n",
       "      <th></th>\n",
       "    </tr>\n",
       "  </thead>\n",
       "  <tbody>\n",
       "    <tr>\n",
       "      <th>2019-03-16 00:05:00</th>\n",
       "      <td>51.7</td>\n",
       "      <td>45</td>\n",
       "      <td>31.0</td>\n",
       "      <td>2</td>\n",
       "      <td>0.0</td>\n",
       "    </tr>\n",
       "    <tr>\n",
       "      <th>2019-03-16 00:10:00</th>\n",
       "      <td>51.8</td>\n",
       "      <td>44</td>\n",
       "      <td>30.6</td>\n",
       "      <td>2</td>\n",
       "      <td>0.0</td>\n",
       "    </tr>\n",
       "    <tr>\n",
       "      <th>2019-03-16 00:15:00</th>\n",
       "      <td>51.8</td>\n",
       "      <td>44</td>\n",
       "      <td>30.6</td>\n",
       "      <td>2</td>\n",
       "      <td>0.0</td>\n",
       "    </tr>\n",
       "    <tr>\n",
       "      <th>2019-03-16 00:20:00</th>\n",
       "      <td>51.8</td>\n",
       "      <td>43</td>\n",
       "      <td>30.0</td>\n",
       "      <td>1</td>\n",
       "      <td>0.0</td>\n",
       "    </tr>\n",
       "    <tr>\n",
       "      <th>2019-03-16 00:25:00</th>\n",
       "      <td>51.6</td>\n",
       "      <td>44</td>\n",
       "      <td>30.4</td>\n",
       "      <td>1</td>\n",
       "      <td>0.0</td>\n",
       "    </tr>\n",
       "  </tbody>\n",
       "</table>\n",
       "</div>"
      ],
      "text/plain": [
       "                     Out Temp  Out Hum  Dew Pt  Wind Speed  Rain\n",
       "Date_        Time                                               \n",
       "2019-03-16 00:05:00      51.7       45    31.0           2   0.0\n",
       "2019-03-16 00:10:00      51.8       44    30.6           2   0.0\n",
       "2019-03-16 00:15:00      51.8       44    30.6           2   0.0\n",
       "2019-03-16 00:20:00      51.8       43    30.0           1   0.0\n",
       "2019-03-16 00:25:00      51.6       44    30.4           1   0.0"
      ]
     },
     "execution_count": 24,
     "metadata": {},
     "output_type": "execute_result"
    }
   ],
   "source": [
    "# importing and setting datetime index\n",
    "weather_raw = pd.read_csv('/Users/hagenfritz/Projects/utx000/data/external/UTPD_Wx_Station/utweather_5min_12192018-06032020.csv',\n",
    "                         parse_dates = [[0,1]],infer_datetime_format=True,index_col=0)\n",
    "# getting correct timeframe\n",
    "weather_condensed = weather_raw[datetime(2019,3,16):datetime(2019,4,2,23)]\n",
    "# selecing important vars\n",
    "weather_final = weather_condensed[['Out Temp','Out Hum','Dew Pt','Wind Speed','Rain']]\n",
    "# converting all dtypes to numeric\n",
    "for column in weather_final.columns:\n",
    "    weather_final[column] = pd.to_numeric(weather_final[column],errors='coerce')\n",
    "# output of final weather dataframe\n",
    "weather_final.head()\n"
   ]
  },
  {
   "cell_type": "markdown",
   "metadata": {},
   "source": [
    "## Pre-processing\n",
    "Now we have to rearrange the data so that we have it in a format to plot with a heatmap. There are a few weather metrics that we are interested in so we create a function that generates the dataframes for us."
   ]
  },
  {
   "cell_type": "code",
   "execution_count": 29,
   "metadata": {},
   "outputs": [],
   "source": [
    "def get_heatmappable_df(df, var_name):\n",
    "    '''\n",
    "    \n",
    "    '''\n",
    "    # creating day and hour columns to pivot with\n",
    "    df['Day'] = df.index.date\n",
    "    df['Hour'] = df.index.hour\n",
    "    # pivoting and returning\n",
    "    pivot_df = df.pivot_table(index='Day',columns='Hour',values=var_name)\n",
    "    \n",
    "    return pivot_df"
   ]
  },
  {
   "cell_type": "code",
   "execution_count": 32,
   "metadata": {},
   "outputs": [
    {
     "name": "stderr",
     "output_type": "stream",
     "text": [
      "/Library/Frameworks/Python.framework/Versions/3.7/lib/python3.7/site-packages/ipykernel_launcher.py:6: SettingWithCopyWarning: \n",
      "A value is trying to be set on a copy of a slice from a DataFrame.\n",
      "Try using .loc[row_indexer,col_indexer] = value instead\n",
      "\n",
      "See the caveats in the documentation: https://pandas.pydata.org/pandas-docs/stable/user_guide/indexing.html#returning-a-view-versus-a-copy\n",
      "  \n",
      "/Library/Frameworks/Python.framework/Versions/3.7/lib/python3.7/site-packages/ipykernel_launcher.py:7: SettingWithCopyWarning: \n",
      "A value is trying to be set on a copy of a slice from a DataFrame.\n",
      "Try using .loc[row_indexer,col_indexer] = value instead\n",
      "\n",
      "See the caveats in the documentation: https://pandas.pydata.org/pandas-docs/stable/user_guide/indexing.html#returning-a-view-versus-a-copy\n",
      "  import sys\n"
     ]
    }
   ],
   "source": [
    "# getting the dataframes to plot\n",
    "temperature = get_heatmappable_df(weather_final, 'Out Temp')\n",
    "humidity = get_heatmappable_df(weather_final, 'Out Hum')\n",
    "dpt = get_heatmappable_df(weather_final, 'Dew Pt')\n",
    "wind_spd = get_heatmappable_df(weather_final, 'Wind Speed')\n",
    "rain = get_heatmappable_df(weather_final, 'Rain')"
   ]
  },
  {
   "cell_type": "markdown",
   "metadata": {},
   "source": [
    "# Data Visualization\n",
    "Now we visualize the data in a similar manner to how the beacon data are presented so we can easily see the crossover."
   ]
  },
  {
   "cell_type": "code",
   "execution_count": 34,
   "metadata": {},
   "outputs": [],
   "source": [
    "import matplotlib.pyplot as plt\n",
    "import seaborn as sns"
   ]
  },
  {
   "cell_type": "markdown",
   "metadata": {},
   "source": [
    "## Heatmaps"
   ]
  },
  {
   "cell_type": "code",
   "execution_count": 55,
   "metadata": {
    "scrolled": false
   },
   "outputs": [
    {
     "data": {
      "image/png": "[encoded data removed]",
      "text/plain": [
       "<Figure size 1296x288 with 6 Axes>"
      ]
     },
     "metadata": {
      "needs_background": "light"
     },
     "output_type": "display_data"
    }
   ],
   "source": [
    "var_dfs = [temperature,humidity,dpt]\n",
    "fig, ax = plt.subplots(1,3,figsize=(18,4),sharey='row')\n",
    "loc = 0\n",
    "for var_df, label in zip(var_dfs, ['Temperature','RH','DPT']):\n",
    "    sns.heatmap(var_df,cmap='coolwarm',ax=ax[loc])\n",
    "    ax[loc].set_title(label)\n",
    "    ylabels = np.arange(1,len(var_df)+1,1)\n",
    "    #ax[loc].set_yticklabels(ylabels)\n",
    "    \n",
    "    loc += 1\n",
    "    \n",
    "plt.subplots_adjust(wspace=0.05)\n",
    "plt.show()\n",
    "plt.close()\n",
    "    "
   ]
  },
  {
   "cell_type": "code",
   "execution_count": null,
   "metadata": {},
   "outputs": [],
   "source": []
  }
 ],
 "metadata": {
  "kernelspec": {
   "display_name": "Python 3",
   "language": "python",
   "name": "python3"
  },
  "language_info": {
   "codemirror_mode": {
    "name": "ipython",
    "version": 3
   },
   "file_extension": ".py",
   "mimetype": "text/x-python",
   "name": "python",
   "nbconvert_exporter": "python",
   "pygments_lexer": "ipython3",
   "version": "3.7.0"
  }
 },
 "nbformat": 4,
 "nbformat_minor": 4
}
