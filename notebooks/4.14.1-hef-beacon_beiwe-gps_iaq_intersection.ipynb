{
 "cells": [
  {
   "cell_type": "markdown",
   "metadata": {},
   "source": [
    "<div class=\"alert alert-block alert-info\">\n",
    " \n",
    "Code from this notebook has been folded into the `build_features.py` source code under the function name `get_beacon_gps_intersection`.\n",
    "    \n",
    "</div>"
   ]
  },
  {
   "cell_type": "markdown",
   "metadata": {},
   "source": [
    "# Intersection Between Beiwe-Recorded GPS and Beacon-Recorded IAQ\n",
    "This notebook is meant to assess the the amount of data available for the intersection between GPS and IAQ."
   ]
  },
  {
   "cell_type": "code",
   "execution_count": 28,
   "metadata": {},
   "outputs": [
    {
     "name": "stdout",
     "output_type": "stream",
     "text": [
      "The autoreload extension is already loaded. To reload it, use:\n",
      "  %reload_ext autoreload\n"
     ]
    }
   ],
   "source": [
    "import warnings\n",
    "warnings.filterwarnings('ignore')\n",
    "\n",
    "import pandas as pd\n",
    "\n",
    "%load_ext autoreload\n",
    "%autoreload 2"
   ]
  },
  {
   "cell_type": "markdown",
   "metadata": {},
   "source": [
    "# Data Import\n",
    "As always, we start by importing the necessary data from each modality"
   ]
  },
  {
   "cell_type": "markdown",
   "metadata": {},
   "source": [
    "## Beiwe GPS\n",
    "GPS data are downsampled to every minute"
   ]
  },
  {
   "cell_type": "code",
   "execution_count": 34,
   "metadata": {},
   "outputs": [
    {
     "data": {
      "text/html": [
       "<div>\n",
       "<style scoped>\n",
       "    .dataframe tbody tr th:only-of-type {\n",
       "        vertical-align: middle;\n",
       "    }\n",
       "\n",
       "    .dataframe tbody tr th {\n",
       "        vertical-align: top;\n",
       "    }\n",
       "\n",
       "    .dataframe thead th {\n",
       "        text-align: right;\n",
       "    }\n",
       "</style>\n",
       "<table border=\"1\" class=\"dataframe\">\n",
       "  <thead>\n",
       "    <tr style=\"text-align: right;\">\n",
       "      <th></th>\n",
       "      <th>timestamp</th>\n",
       "      <th>utc</th>\n",
       "      <th>lat</th>\n",
       "      <th>long</th>\n",
       "      <th>altitude</th>\n",
       "      <th>accuracy</th>\n",
       "      <th>beiwe</th>\n",
       "    </tr>\n",
       "  </thead>\n",
       "  <tbody>\n",
       "    <tr>\n",
       "      <th>0</th>\n",
       "      <td>2020-05-06 01:00:00</td>\n",
       "      <td>2020-05-06T06:00:05.477</td>\n",
       "      <td>30.23705</td>\n",
       "      <td>-97.71051</td>\n",
       "      <td>135.77695</td>\n",
       "      <td>65.00000</td>\n",
       "      <td>15tejjtw</td>\n",
       "    </tr>\n",
       "    <tr>\n",
       "      <th>1</th>\n",
       "      <td>2020-05-06 02:05:00</td>\n",
       "      <td>2020-05-06T07:05:39.725</td>\n",
       "      <td>30.23706</td>\n",
       "      <td>-97.71049</td>\n",
       "      <td>135.84357</td>\n",
       "      <td>65.00000</td>\n",
       "      <td>15tejjtw</td>\n",
       "    </tr>\n",
       "    <tr>\n",
       "      <th>2</th>\n",
       "      <td>2020-05-06 02:06:00</td>\n",
       "      <td>2020-05-06T07:06:06.808</td>\n",
       "      <td>30.23706</td>\n",
       "      <td>-97.71049</td>\n",
       "      <td>135.84357</td>\n",
       "      <td>65.00000</td>\n",
       "      <td>15tejjtw</td>\n",
       "    </tr>\n",
       "    <tr>\n",
       "      <th>3</th>\n",
       "      <td>2020-05-06 03:01:00</td>\n",
       "      <td>2020-05-06T08:01:07.179</td>\n",
       "      <td>30.23716</td>\n",
       "      <td>-97.71047</td>\n",
       "      <td>139.34561</td>\n",
       "      <td>64.00967</td>\n",
       "      <td>15tejjtw</td>\n",
       "    </tr>\n",
       "    <tr>\n",
       "      <th>4</th>\n",
       "      <td>2020-05-06 03:02:00</td>\n",
       "      <td>2020-05-06T08:02:00.546</td>\n",
       "      <td>30.23716</td>\n",
       "      <td>-97.71047</td>\n",
       "      <td>139.34561</td>\n",
       "      <td>32.00483</td>\n",
       "      <td>15tejjtw</td>\n",
       "    </tr>\n",
       "  </tbody>\n",
       "</table>\n",
       "</div>"
      ],
      "text/plain": [
       "            timestamp                      utc       lat      long   altitude  \\\n",
       "0 2020-05-06 01:00:00  2020-05-06T06:00:05.477  30.23705 -97.71051  135.77695   \n",
       "1 2020-05-06 02:05:00  2020-05-06T07:05:39.725  30.23706 -97.71049  135.84357   \n",
       "2 2020-05-06 02:06:00  2020-05-06T07:06:06.808  30.23706 -97.71049  135.84357   \n",
       "3 2020-05-06 03:01:00  2020-05-06T08:01:07.179  30.23716 -97.71047  139.34561   \n",
       "4 2020-05-06 03:02:00  2020-05-06T08:02:00.546  30.23716 -97.71047  139.34561   \n",
       "\n",
       "   accuracy     beiwe  \n",
       "0  65.00000  15tejjtw  \n",
       "1  65.00000  15tejjtw  \n",
       "2  65.00000  15tejjtw  \n",
       "3  64.00967  15tejjtw  \n",
       "4  32.00483  15tejjtw  "
      ]
     },
     "execution_count": 34,
     "metadata": {},
     "output_type": "execute_result"
    }
   ],
   "source": [
    "gps = pd.read_csv(\"../data/processed/beiwe-gps-ux_s20.csv\",parse_dates=[\"timestamp\"],infer_datetime_format=True)\n",
    "gps.head()"
   ]
  },
  {
   "cell_type": "markdown",
   "metadata": {},
   "source": [
    "## Beacon IAQ\n",
    "Beacon data are downsampled to every 2-minutes given the minimum resolution is just a hair over 1 minute (at least for the utx000 data)."
   ]
  },
  {
   "cell_type": "code",
   "execution_count": 9,
   "metadata": {},
   "outputs": [
    {
     "data": {
      "text/html": [
       "<div>\n",
       "<style scoped>\n",
       "    .dataframe tbody tr th:only-of-type {\n",
       "        vertical-align: middle;\n",
       "    }\n",
       "\n",
       "    .dataframe tbody tr th {\n",
       "        vertical-align: top;\n",
       "    }\n",
       "\n",
       "    .dataframe thead th {\n",
       "        text-align: right;\n",
       "    }\n",
       "</style>\n",
       "<table border=\"1\" class=\"dataframe\">\n",
       "  <thead>\n",
       "    <tr style=\"text-align: right;\">\n",
       "      <th></th>\n",
       "      <th>timestamp</th>\n",
       "      <th>tvoc</th>\n",
       "      <th>lux</th>\n",
       "      <th>no2</th>\n",
       "      <th>co</th>\n",
       "      <th>co2</th>\n",
       "      <th>pm1_number</th>\n",
       "      <th>pm2p5_number</th>\n",
       "      <th>pm10_number</th>\n",
       "      <th>pm1_mass</th>\n",
       "      <th>pm2p5_mass</th>\n",
       "      <th>pm10_mass</th>\n",
       "      <th>temperature_c</th>\n",
       "      <th>rh</th>\n",
       "      <th>beacon</th>\n",
       "      <th>beiwe</th>\n",
       "      <th>redcap</th>\n",
       "    </tr>\n",
       "  </thead>\n",
       "  <tbody>\n",
       "    <tr>\n",
       "      <th>0</th>\n",
       "      <td>2020-06-08 13:00:00</td>\n",
       "      <td>67.766667</td>\n",
       "      <td>3.614880</td>\n",
       "      <td>3.526111</td>\n",
       "      <td>13.922047</td>\n",
       "      <td>NaN</td>\n",
       "      <td>12.081799</td>\n",
       "      <td>11.458559</td>\n",
       "      <td>11.201085</td>\n",
       "      <td>0.744280</td>\n",
       "      <td>0.429834</td>\n",
       "      <td>1.935866</td>\n",
       "      <td>27.383333</td>\n",
       "      <td>46.586667</td>\n",
       "      <td>1</td>\n",
       "      <td>kyj367pi</td>\n",
       "      <td>10</td>\n",
       "    </tr>\n",
       "    <tr>\n",
       "      <th>1</th>\n",
       "      <td>2020-06-08 13:02:00</td>\n",
       "      <td>67.962500</td>\n",
       "      <td>3.643950</td>\n",
       "      <td>3.526111</td>\n",
       "      <td>13.906931</td>\n",
       "      <td>NaN</td>\n",
       "      <td>12.157965</td>\n",
       "      <td>11.542477</td>\n",
       "      <td>11.282880</td>\n",
       "      <td>0.750738</td>\n",
       "      <td>0.402970</td>\n",
       "      <td>1.940782</td>\n",
       "      <td>27.390625</td>\n",
       "      <td>46.581250</td>\n",
       "      <td>1</td>\n",
       "      <td>kyj367pi</td>\n",
       "      <td>10</td>\n",
       "    </tr>\n",
       "    <tr>\n",
       "      <th>2</th>\n",
       "      <td>2020-06-08 13:04:00</td>\n",
       "      <td>68.847059</td>\n",
       "      <td>3.635160</td>\n",
       "      <td>3.529306</td>\n",
       "      <td>13.893371</td>\n",
       "      <td>NaN</td>\n",
       "      <td>12.044653</td>\n",
       "      <td>11.436841</td>\n",
       "      <td>11.182763</td>\n",
       "      <td>0.742682</td>\n",
       "      <td>0.482686</td>\n",
       "      <td>1.937115</td>\n",
       "      <td>27.397059</td>\n",
       "      <td>46.597059</td>\n",
       "      <td>1</td>\n",
       "      <td>kyj367pi</td>\n",
       "      <td>10</td>\n",
       "    </tr>\n",
       "    <tr>\n",
       "      <th>3</th>\n",
       "      <td>2020-06-08 13:06:00</td>\n",
       "      <td>69.788889</td>\n",
       "      <td>3.587340</td>\n",
       "      <td>3.529677</td>\n",
       "      <td>13.874056</td>\n",
       "      <td>NaN</td>\n",
       "      <td>12.019940</td>\n",
       "      <td>11.401453</td>\n",
       "      <td>11.147062</td>\n",
       "      <td>0.739928</td>\n",
       "      <td>0.522020</td>\n",
       "      <td>1.933971</td>\n",
       "      <td>27.402778</td>\n",
       "      <td>46.619444</td>\n",
       "      <td>1</td>\n",
       "      <td>kyj367pi</td>\n",
       "      <td>10</td>\n",
       "    </tr>\n",
       "    <tr>\n",
       "      <th>4</th>\n",
       "      <td>2020-06-08 13:08:00</td>\n",
       "      <td>70.552632</td>\n",
       "      <td>3.582777</td>\n",
       "      <td>3.530139</td>\n",
       "      <td>13.862026</td>\n",
       "      <td>NaN</td>\n",
       "      <td>12.040436</td>\n",
       "      <td>11.431434</td>\n",
       "      <td>11.177380</td>\n",
       "      <td>0.742263</td>\n",
       "      <td>0.494546</td>\n",
       "      <td>1.936699</td>\n",
       "      <td>27.407895</td>\n",
       "      <td>46.639474</td>\n",
       "      <td>1</td>\n",
       "      <td>kyj367pi</td>\n",
       "      <td>10</td>\n",
       "    </tr>\n",
       "  </tbody>\n",
       "</table>\n",
       "</div>"
      ],
      "text/plain": [
       "            timestamp       tvoc       lux       no2         co  co2  \\\n",
       "0 2020-06-08 13:00:00  67.766667  3.614880  3.526111  13.922047  NaN   \n",
       "1 2020-06-08 13:02:00  67.962500  3.643950  3.526111  13.906931  NaN   \n",
       "2 2020-06-08 13:04:00  68.847059  3.635160  3.529306  13.893371  NaN   \n",
       "3 2020-06-08 13:06:00  69.788889  3.587340  3.529677  13.874056  NaN   \n",
       "4 2020-06-08 13:08:00  70.552632  3.582777  3.530139  13.862026  NaN   \n",
       "\n",
       "   pm1_number  pm2p5_number  pm10_number  pm1_mass  pm2p5_mass  pm10_mass  \\\n",
       "0   12.081799     11.458559    11.201085  0.744280    0.429834   1.935866   \n",
       "1   12.157965     11.542477    11.282880  0.750738    0.402970   1.940782   \n",
       "2   12.044653     11.436841    11.182763  0.742682    0.482686   1.937115   \n",
       "3   12.019940     11.401453    11.147062  0.739928    0.522020   1.933971   \n",
       "4   12.040436     11.431434    11.177380  0.742263    0.494546   1.936699   \n",
       "\n",
       "   temperature_c         rh  beacon     beiwe  redcap  \n",
       "0      27.383333  46.586667       1  kyj367pi      10  \n",
       "1      27.390625  46.581250       1  kyj367pi      10  \n",
       "2      27.397059  46.597059       1  kyj367pi      10  \n",
       "3      27.402778  46.619444       1  kyj367pi      10  \n",
       "4      27.407895  46.639474       1  kyj367pi      10  "
      ]
     },
     "execution_count": 9,
     "metadata": {},
     "output_type": "execute_result"
    }
   ],
   "source": [
    "iaq = pd.read_csv(\"../data/processed/beacon-ux_s20.csv\",parse_dates=[\"timestamp\"],infer_datetime_format=True)\n",
    "iaq.head()"
   ]
  },
  {
   "cell_type": "markdown",
   "metadata": {},
   "source": [
    "# Resampling\n",
    "Due to the different sampling rates, we have to downsample the gps data further"
   ]
  },
  {
   "cell_type": "code",
   "execution_count": 46,
   "metadata": {},
   "outputs": [],
   "source": [
    "gps_resampled = pd.DataFrame()\n",
    "for pt in gps[\"beiwe\"].unique():\n",
    "    gps_by_pt = gps[gps[\"beiwe\"] == pt]\n",
    "    gps_by_pt.set_index(\"timestamp\",inplace=True)\n",
    "    gps_by_pt = gps_by_pt.resample('2T').mean()\n",
    "    gps_by_pt.reset_index(inplace=True)\n",
    "    gps_by_pt.dropna(inplace=True)\n",
    "    gps_by_pt[\"beiwe\"] = pt\n",
    "    gps_resampled = gps_resampled.append(gps_by_pt)"
   ]
  },
  {
   "cell_type": "markdown",
   "metadata": {},
   "source": [
    "# Intersection\n",
    "With the data imported, we define a function to handle the intersection between the two datasets based on the timestamp value. "
   ]
  },
  {
   "cell_type": "code",
   "execution_count": 47,
   "metadata": {},
   "outputs": [],
   "source": [
    "def gps_iaq_intersection(df1, df2, byid=\"beiwe\", join_col=\"timestamp\"):\n",
    "    \"\"\"Returns the dataframe of the inner merge of the two datasets\"\"\"\n",
    "    \n",
    "    merged = df1.merge(right=df2,on=[byid,join_col],how=\"inner\")\n",
    "    return merged"
   ]
  },
  {
   "cell_type": "code",
   "execution_count": 48,
   "metadata": {},
   "outputs": [],
   "source": [
    "intersection = gps_iaq_intersection(gps_resampled,iaq)"
   ]
  },
  {
   "cell_type": "markdown",
   "metadata": {},
   "source": [
    "# Comparison\n",
    "Comparing the length and amount of data from the merge to the original datasets."
   ]
  },
  {
   "cell_type": "markdown",
   "metadata": {},
   "source": [
    "## Number of DataPoints"
   ]
  },
  {
   "cell_type": "code",
   "execution_count": 49,
   "metadata": {},
   "outputs": [
    {
     "name": "stdout",
     "output_type": "stream",
     "text": [
      "Number of Datapoints:\n",
      "\tGPS:\t554860\n",
      "\tIAQ:\t1398554\n",
      "\tInt:\t134643\n"
     ]
    }
   ],
   "source": [
    "print(f\"Number of Datapoints:\\n\\tGPS:\\t{len(gps)}\\n\\tIAQ:\\t{len(iaq)}\\n\\tInt:\\t{len(intersection)}\")"
   ]
  },
  {
   "cell_type": "markdown",
   "metadata": {},
   "source": [
    "<div class=\"alert alert-block alert-warning\">\n",
    " \n",
    "Resampling results in 134,643 data points in the intersection while using the raw data results in only 87,189. **Be sure to resample**.\n",
    "    \n",
    "</div>"
   ]
  },
  {
   "cell_type": "markdown",
   "metadata": {},
   "source": [
    "## Number of Participants"
   ]
  },
  {
   "cell_type": "code",
   "execution_count": 40,
   "metadata": {},
   "outputs": [
    {
     "name": "stdout",
     "output_type": "stream",
     "text": [
      "Number of Participants:\n",
      "\tGPS:\t52\n",
      "\tIAQ:\t25\n",
      "\tInt:\t23\n"
     ]
    }
   ],
   "source": [
    "byid=\"beiwe\"\n",
    "print(f\"Number of Participants:\\n\\tGPS:\\t{len(gps[byid].unique())}\\n\\tIAQ:\\t{len(iaq[byid].unique())}\\n\\tInt:\\t{len(intersection[byid].unique())}\")"
   ]
  },
  {
   "cell_type": "markdown",
   "metadata": {},
   "source": [
    "<div class=\"alert alert-block alert-success\">\n",
    " \n",
    "Looks like we only lose two participants from the IEQ dataset.\n",
    "    \n",
    "</div>"
   ]
  },
  {
   "cell_type": "code",
   "execution_count": null,
   "metadata": {},
   "outputs": [],
   "source": []
  }
 ],
 "metadata": {
  "kernelspec": {
   "display_name": "Python 3",
   "language": "python",
   "name": "python3"
  },
  "language_info": {
   "codemirror_mode": {
    "name": "ipython",
    "version": 3
   },
   "file_extension": ".py",
   "mimetype": "text/x-python",
   "name": "python",
   "nbconvert_exporter": "python",
   "pygments_lexer": "ipython3",
   "version": "3.7.0"
  },
  "toc": {
   "base_numbering": 1,
   "nav_menu": {},
   "number_sections": false,
   "sideBar": false,
   "skip_h1_title": false,
   "title_cell": "Table of Contents",
   "title_sidebar": "Contents",
   "toc_cell": false,
   "toc_position": {},
   "toc_section_display": false,
   "toc_window_display": false
  }
 },
 "nbformat": 4,
 "nbformat_minor": 4
}
