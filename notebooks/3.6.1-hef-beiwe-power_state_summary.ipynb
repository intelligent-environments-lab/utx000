{
 "cells": [
  {
   "cell_type": "markdown",
   "metadata": {},
   "source": [
    "# Exploring the UTx000 Dataset\n",
    "From the first cohort in Spring 2020"
   ]
  },
  {
   "cell_type": "code",
   "execution_count": 2,
   "metadata": {},
   "outputs": [],
   "source": [
    "import warnings\n",
    "warnings.filterwarnings('ignore')"
   ]
  },
  {
   "cell_type": "markdown",
   "metadata": {},
   "source": [
    "# Power State Summary\n",
    "An undervalued data set that could provide some valuable insight."
   ]
  },
  {
   "cell_type": "code",
   "execution_count": 1,
   "metadata": {},
   "outputs": [],
   "source": [
    "import os\n",
    "\n",
    "import pandas as pd\n",
    "import numpy as np\n",
    "\n",
    "from datetime import datetime, timedelta\n",
    "\n",
    "import matplotlib.pyplot as plt\n",
    "import seaborn as sns"
   ]
  },
  {
   "cell_type": "markdown",
   "metadata": {},
   "source": [
    "# Data Import\n",
    "Importing the \"processed\" file - really it is just a fille that has all participants aggregated."
   ]
  },
  {
   "cell_type": "code",
   "execution_count": 3,
   "metadata": {},
   "outputs": [
    {
     "data": {
      "text/html": [
       "<div>\n",
       "<style scoped>\n",
       "    .dataframe tbody tr th:only-of-type {\n",
       "        vertical-align: middle;\n",
       "    }\n",
       "\n",
       "    .dataframe tbody tr th {\n",
       "        vertical-align: top;\n",
       "    }\n",
       "\n",
       "    .dataframe thead th {\n",
       "        text-align: right;\n",
       "    }\n",
       "</style>\n",
       "<table border=\"1\" class=\"dataframe\">\n",
       "  <thead>\n",
       "    <tr style=\"text-align: right;\">\n",
       "      <th></th>\n",
       "      <th>timestamp</th>\n",
       "      <th>UTC time</th>\n",
       "      <th>event</th>\n",
       "      <th>Beiwe</th>\n",
       "      <th>level</th>\n",
       "    </tr>\n",
       "    <tr>\n",
       "      <th>Time</th>\n",
       "      <th></th>\n",
       "      <th></th>\n",
       "      <th></th>\n",
       "      <th></th>\n",
       "      <th></th>\n",
       "    </tr>\n",
       "  </thead>\n",
       "  <tbody>\n",
       "    <tr>\n",
       "      <th>2020-01-24 17:40:37.506</th>\n",
       "      <td>1579909237506</td>\n",
       "      <td>2020-01-24 23:40:37.506</td>\n",
       "      <td>Screen turned on</td>\n",
       "      <td>25rlmdr1</td>\n",
       "      <td>NaN</td>\n",
       "    </tr>\n",
       "    <tr>\n",
       "      <th>2020-01-24 17:49:16.138</th>\n",
       "      <td>1579909756138</td>\n",
       "      <td>2020-01-24 23:49:16.138</td>\n",
       "      <td>Screen turned off</td>\n",
       "      <td>25rlmdr1</td>\n",
       "      <td>NaN</td>\n",
       "    </tr>\n",
       "    <tr>\n",
       "      <th>2020-01-24 17:49:57.435</th>\n",
       "      <td>1579909797435</td>\n",
       "      <td>2020-01-24 23:49:57.435</td>\n",
       "      <td>Screen turned on</td>\n",
       "      <td>25rlmdr1</td>\n",
       "      <td>NaN</td>\n",
       "    </tr>\n",
       "    <tr>\n",
       "      <th>2020-01-24 17:50:12.113</th>\n",
       "      <td>1579909812113</td>\n",
       "      <td>2020-01-24 23:50:12.113</td>\n",
       "      <td>Screen turned off</td>\n",
       "      <td>25rlmdr1</td>\n",
       "      <td>NaN</td>\n",
       "    </tr>\n",
       "    <tr>\n",
       "      <th>2020-01-24 17:53:28.486</th>\n",
       "      <td>1579910008486</td>\n",
       "      <td>2020-01-24 23:53:28.486</td>\n",
       "      <td>Screen turned on</td>\n",
       "      <td>25rlmdr1</td>\n",
       "      <td>NaN</td>\n",
       "    </tr>\n",
       "  </tbody>\n",
       "</table>\n",
       "</div>"
      ],
      "text/plain": [
       "                             timestamp                 UTC time  \\\n",
       "Time                                                              \n",
       "2020-01-24 17:40:37.506  1579909237506  2020-01-24 23:40:37.506   \n",
       "2020-01-24 17:49:16.138  1579909756138  2020-01-24 23:49:16.138   \n",
       "2020-01-24 17:49:57.435  1579909797435  2020-01-24 23:49:57.435   \n",
       "2020-01-24 17:50:12.113  1579909812113  2020-01-24 23:50:12.113   \n",
       "2020-01-24 17:53:28.486  1579910008486  2020-01-24 23:53:28.486   \n",
       "\n",
       "                                     event     Beiwe  level  \n",
       "Time                                                         \n",
       "2020-01-24 17:40:37.506   Screen turned on  25rlmdr1    NaN  \n",
       "2020-01-24 17:49:16.138  Screen turned off  25rlmdr1    NaN  \n",
       "2020-01-24 17:49:57.435   Screen turned on  25rlmdr1    NaN  \n",
       "2020-01-24 17:50:12.113  Screen turned off  25rlmdr1    NaN  \n",
       "2020-01-24 17:53:28.486   Screen turned on  25rlmdr1    NaN  "
      ]
     },
     "execution_count": 3,
     "metadata": {},
     "output_type": "execute_result"
    }
   ],
   "source": [
    "ps = pd.read_csv('../data/processed/bpeace1-power_state.csv',parse_dates=True,infer_datetime_format=True,index_col=0)\n",
    "ps.head()"
   ]
  },
  {
   "cell_type": "markdown",
   "metadata": {},
   "source": [
    "# Analysis"
   ]
  },
  {
   "cell_type": "markdown",
   "metadata": {},
   "source": [
    "## By the numbers"
   ]
  },
  {
   "cell_type": "code",
   "execution_count": 4,
   "metadata": {},
   "outputs": [
    {
     "name": "stdout",
     "output_type": "stream",
     "text": [
      "Number of BT users: 74\n"
     ]
    }
   ],
   "source": [
    "n = len(ps['Beiwe'].unique())\n",
    "print(f'Number of BT users: {n}')"
   ]
  },
  {
   "cell_type": "code",
   "execution_count": null,
   "metadata": {},
   "outputs": [],
   "source": []
  }
 ],
 "metadata": {
  "kernelspec": {
   "display_name": "Python 3",
   "language": "python",
   "name": "python3"
  },
  "language_info": {
   "codemirror_mode": {
    "name": "ipython",
    "version": 3
   },
   "file_extension": ".py",
   "mimetype": "text/x-python",
   "name": "python",
   "nbconvert_exporter": "python",
   "pygments_lexer": "ipython3",
   "version": "3.7.0"
  }
 },
 "nbformat": 4,
 "nbformat_minor": 4
}
