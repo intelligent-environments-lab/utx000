{
 "cells": [
  {
   "cell_type": "markdown",
   "metadata": {},
   "source": [
    "# Exploring the UTx000 Extension Beacon Data\n",
    "(See the [GH repo](https://github.com/intelligent-environments-lab/utx000))"
   ]
  },
  {
   "cell_type": "code",
   "execution_count": 71,
   "metadata": {},
   "outputs": [
    {
     "name": "stdout",
     "output_type": "stream",
     "text": [
      "The autoreload extension is already loaded. To reload it, use:\n",
      "  %reload_ext autoreload\n"
     ]
    }
   ],
   "source": [
    "import warnings\n",
    "warnings.filterwarnings('ignore')\n",
    "\n",
    "%load_ext autoreload\n",
    "%autoreload 2"
   ]
  },
  {
   "cell_type": "markdown",
   "metadata": {},
   "source": [
    "# Developing Ventilation \"Base Case\"\n",
    "To illustrate the effectiveness of our methods to determine occupancy and then calculate ventilation rates, we can create a \"base case\" set of ventilation rates that are calculated in a more \"traditional\" manner. By traditional, I am thinking:\n",
    "* steady-state estimates only\n",
    "* only consider weekday measurements during an early morning period i.e. 1:00 - 4:00 am.\n",
    "\n",
    "We might also consider splitting participants into multiple sub-participants and calculating ventilation rates from only a few days which is also a more traditional approach (large number of participants, few ventilation rates per participant). I am not as big a fan of this method since, in the end, we would generater similar results to what we calculated earlier."
   ]
  },
  {
   "cell_type": "markdown",
   "metadata": {},
   "source": [
    "## Package Import"
   ]
  },
  {
   "cell_type": "code",
   "execution_count": 72,
   "metadata": {},
   "outputs": [],
   "source": [
    "import os\n",
    "import sys\n",
    "sys.path.append('../')\n",
    "\n",
    "from src.visualization import visualize\n",
    "from src.analysis import ventilation\n",
    "from src.analysis import occupancy_detection\n",
    "\n",
    "import pandas as pd\n",
    "pd.set_option('display.max_columns', 200)\n",
    "import numpy as np\n",
    "\n",
    "from datetime import datetime, timedelta\n",
    "\n",
    "import math\n",
    "import statsmodels.api as sm\n",
    "\n",
    "import matplotlib.pyplot as plt\n",
    "import seaborn as sns\n",
    "import matplotlib.dates as mdates\n",
    "\n",
    "from sklearn.neural_network import MLPClassifier"
   ]
  },
  {
   "cell_type": "markdown",
   "metadata": {},
   "source": [
    "---"
   ]
  },
  {
   "cell_type": "markdown",
   "metadata": {},
   "source": [
    "<a id=\"toc\"></a>"
   ]
  },
  {
   "cell_type": "markdown",
   "metadata": {},
   "source": [
    "# Table of Contents\n",
    "\n",
    "1. [Data Notes](#data)\n",
    "2. [Analysis Notes](#analysis)\n",
    "    1. [Steady-State Estimation](#steady_state)\n",
    "    2. [Dynamic Estimation](#dynamic)\n",
    "    3. [Sensitivity Analysis](#sa)\n",
    "4. [SA: Steady-State](#ss_sa)\n",
    "5. [SA: Build-Up](#buildup_sa)\n",
    "6. [SA: Decay](#decay_sa)"
   ]
  },
  {
   "cell_type": "markdown",
   "metadata": {},
   "source": [
    "---"
   ]
  },
  {
   "cell_type": "markdown",
   "metadata": {},
   "source": [
    "<a id=\"data\"></a>"
   ]
  },
  {
   "cell_type": "markdown",
   "metadata": {},
   "source": [
    "# Notes on Data Used\n",
    "The necesary data are imported when insantiating a `calculate` object. "
   ]
  },
  {
   "cell_type": "markdown",
   "metadata": {},
   "source": []
  },
  {
   "cell_type": "markdown",
   "metadata": {},
   "source": [
    "---"
   ]
  },
  {
   "cell_type": "markdown",
   "metadata": {},
   "source": [
    "<a id=\"analysis\"></a>"
   ]
  },
  {
   "cell_type": "markdown",
   "metadata": {},
   "source": [
    "# Notes on Analysis\n",
    "We start with a short description on the estimation methods -- for more information on the individual parameters within each method, see the primary notebook [here](https://github.com/intelligent-environments-lab/utx000/blob/master/notebooks/4.1.4-hef-beacon-ventilation_estimation.ipynb)."
   ]
  },
  {
   "cell_type": "markdown",
   "metadata": {},
   "source": [
    "<a id=\"steady_state\"></a>"
   ]
  },
  {
   "cell_type": "markdown",
   "metadata": {},
   "source": [
    "[Back to ToC](#toc)\n",
    "## Ventilation based on constant CO2 concentration\n",
    "We can estimate the ventilation rate of the participants' bedrooms based on a constant CO2 concentration:\n",
    "\n",
    "$$\n",
    "\\lambda = \\frac{E}{V \\left(C - pC_0\\right)}\n",
    "$$\n",
    "\n",
    "In our case we have to make quite a few assumptions:\n",
    "- $E$: Emission rate of CO2 can be estimated for humans to be approximately $30 g/hr$. We can further refine this value by considering the height, weight, sex, and activity level of the participant - all information that we have access to. \n",
    "- $V$: Arguably the most difficult value to track down and the one that could affect the answer the most. We can assume a volume of each of the participants bedrooms, but there is the possiblility of refining this value by cross-referencing the participants' addresses with any known apartment complexes. From there, we can estimate the floor plan based on the number of roommates.\n",
    "- $p$: Penetration factor of background CO2 from into the space - we can safely assume this to be 1.\n",
    "- $C_0$: Background CO2 concentration. While 400 - 450 ppm is the typical assumption, using this value seems to result in very low ventilation rates."
   ]
  },
  {
   "cell_type": "markdown",
   "metadata": {},
   "source": [
    "<a id=\"dynamic\"></a>"
   ]
  },
  {
   "cell_type": "markdown",
   "metadata": {},
   "source": [
    "[Back to Top](#inspecting)"
   ]
  },
  {
   "cell_type": "markdown",
   "metadata": {},
   "source": [
    "---"
   ]
  },
  {
   "cell_type": "markdown",
   "metadata": {},
   "source": [
    "# Base Case: Steady-State Estimates\n",
    "In these cells we estimate the steady-state ventilation rates from weekday carbon dioxide measurements made during 1:00 - 4:00."
   ]
  },
  {
   "cell_type": "code",
   "execution_count": 29,
   "metadata": {},
   "outputs": [],
   "source": [
    "base = ventilation.base_case(data_dir=\"../data\")"
   ]
  },
  {
   "cell_type": "markdown",
   "metadata": {},
   "source": [
    "Looks like we can still use most of the source code that was originally in place, but we just use a different subset of data. So we need to simply create a new function that finds the specified periods for each participant and append them to a dataframe.\n",
    "\n",
    "Since the `ventilaion_ss()` method in the source code relies on the nightly IAQ conditions, I created a subclass to the `steady_state` class which overwrites this method."
   ]
  },
  {
   "cell_type": "code",
   "execution_count": 55,
   "metadata": {},
   "outputs": [
    {
     "data": {
      "text/html": [
       "<div>\n",
       "<style scoped>\n",
       "    .dataframe tbody tr th:only-of-type {\n",
       "        vertical-align: middle;\n",
       "    }\n",
       "\n",
       "    .dataframe tbody tr th {\n",
       "        vertical-align: top;\n",
       "    }\n",
       "\n",
       "    .dataframe thead th {\n",
       "        text-align: right;\n",
       "    }\n",
       "</style>\n",
       "<table border=\"1\" class=\"dataframe\">\n",
       "  <thead>\n",
       "    <tr style=\"text-align: right;\">\n",
       "      <th></th>\n",
       "      <th>start</th>\n",
       "      <th>end</th>\n",
       "      <th>beiwe</th>\n",
       "      <th>beacon</th>\n",
       "      <th>co2_mean</th>\n",
       "      <th>co2_delta</th>\n",
       "      <th>t_mean</th>\n",
       "      <th>t_delta</th>\n",
       "      <th>e</th>\n",
       "      <th>c0</th>\n",
       "      <th>v</th>\n",
       "      <th>ach</th>\n",
       "      <th>method</th>\n",
       "    </tr>\n",
       "  </thead>\n",
       "  <tbody>\n",
       "    <tr>\n",
       "      <th>0</th>\n",
       "      <td>2020-06-08 02:30:00</td>\n",
       "      <td>2020-06-08 03:30:00</td>\n",
       "      <td>vr9j5rry</td>\n",
       "      <td>25.0</td>\n",
       "      <td>662.495040</td>\n",
       "      <td>0.135675</td>\n",
       "      <td>23.320504</td>\n",
       "      <td>-0.003280</td>\n",
       "      <td>0.003250</td>\n",
       "      <td>460.649886</td>\n",
       "      <td>1080.0</td>\n",
       "      <td>1.899589</td>\n",
       "      <td>Base Case</td>\n",
       "    </tr>\n",
       "    <tr>\n",
       "      <th>1</th>\n",
       "      <td>2020-06-09 01:26:00</td>\n",
       "      <td>2020-06-09 02:38:00</td>\n",
       "      <td>vr9j5rry</td>\n",
       "      <td>25.0</td>\n",
       "      <td>627.539293</td>\n",
       "      <td>-0.367786</td>\n",
       "      <td>24.501485</td>\n",
       "      <td>-0.005271</td>\n",
       "      <td>0.003263</td>\n",
       "      <td>460.649886</td>\n",
       "      <td>1080.0</td>\n",
       "      <td>2.306623</td>\n",
       "      <td>Base Case</td>\n",
       "    </tr>\n",
       "    <tr>\n",
       "      <th>2</th>\n",
       "      <td>2020-06-09 01:56:00</td>\n",
       "      <td>2020-06-09 03:56:00</td>\n",
       "      <td>xlw5ntd5</td>\n",
       "      <td>10.0</td>\n",
       "      <td>1172.317192</td>\n",
       "      <td>0.074492</td>\n",
       "      <td>29.664156</td>\n",
       "      <td>-0.011984</td>\n",
       "      <td>0.002675</td>\n",
       "      <td>569.124672</td>\n",
       "      <td>1188.0</td>\n",
       "      <td>0.475572</td>\n",
       "      <td>Base Case</td>\n",
       "    </tr>\n",
       "    <tr>\n",
       "      <th>3</th>\n",
       "      <td>2020-06-12 01:00:00</td>\n",
       "      <td>2020-06-12 03:44:00</td>\n",
       "      <td>idbkjh8u</td>\n",
       "      <td>30.0</td>\n",
       "      <td>1154.529677</td>\n",
       "      <td>0.429204</td>\n",
       "      <td>19.199683</td>\n",
       "      <td>-0.016683</td>\n",
       "      <td>0.003168</td>\n",
       "      <td>236.604189</td>\n",
       "      <td>1080.0</td>\n",
       "      <td>0.407224</td>\n",
       "      <td>Base Case</td>\n",
       "    </tr>\n",
       "    <tr>\n",
       "      <th>4</th>\n",
       "      <td>2020-06-12 01:42:00</td>\n",
       "      <td>2020-06-12 03:56:00</td>\n",
       "      <td>kyj367pi</td>\n",
       "      <td>1.0</td>\n",
       "      <td>632.301088</td>\n",
       "      <td>0.203435</td>\n",
       "      <td>16.455691</td>\n",
       "      <td>0.000000</td>\n",
       "      <td>0.002526</td>\n",
       "      <td>486.795966</td>\n",
       "      <td>1080.0</td>\n",
       "      <td>2.048494</td>\n",
       "      <td>Base Case</td>\n",
       "    </tr>\n",
       "  </tbody>\n",
       "</table>\n",
       "</div>"
      ],
      "text/plain": [
       "                start                 end     beiwe  beacon     co2_mean  \\\n",
       "0 2020-06-08 02:30:00 2020-06-08 03:30:00  vr9j5rry    25.0   662.495040   \n",
       "1 2020-06-09 01:26:00 2020-06-09 02:38:00  vr9j5rry    25.0   627.539293   \n",
       "2 2020-06-09 01:56:00 2020-06-09 03:56:00  xlw5ntd5    10.0  1172.317192   \n",
       "3 2020-06-12 01:00:00 2020-06-12 03:44:00  idbkjh8u    30.0  1154.529677   \n",
       "4 2020-06-12 01:42:00 2020-06-12 03:56:00  kyj367pi     1.0   632.301088   \n",
       "\n",
       "   co2_delta     t_mean   t_delta         e          c0       v       ach  \\\n",
       "0   0.135675  23.320504 -0.003280  0.003250  460.649886  1080.0  1.899589   \n",
       "1  -0.367786  24.501485 -0.005271  0.003263  460.649886  1080.0  2.306623   \n",
       "2   0.074492  29.664156 -0.011984  0.002675  569.124672  1188.0  0.475572   \n",
       "3   0.429204  19.199683 -0.016683  0.003168  236.604189  1080.0  0.407224   \n",
       "4   0.203435  16.455691  0.000000  0.002526  486.795966  1080.0  2.048494   \n",
       "\n",
       "      method  \n",
       "0  Base Case  \n",
       "1  Base Case  \n",
       "2  Base Case  \n",
       "3  Base Case  \n",
       "4  Base Case  "
      ]
     },
     "execution_count": 55,
     "metadata": {},
     "output_type": "execute_result"
    }
   ],
   "source": [
    "base_data = base.get_base_data()\n",
    "estimates_base = base.ventilation_ss(base_data,base.info,constant_c0=False,c0_percentile=0,\n",
    "                                      min_co2_threshold=None,co2_threshold_percentile=50,plot=False)\n",
    "estimates_base[\"method\"] = \"Base Case\"\n",
    "estimates_base.head()"
   ]
  },
  {
   "cell_type": "code",
   "execution_count": 56,
   "metadata": {},
   "outputs": [
    {
     "data": {
      "image/png": "[encoded data removed]",
      "text/plain": [
       "<Figure size 864x288 with 1 Axes>"
      ]
     },
     "metadata": {
      "needs_background": "light"
     },
     "output_type": "display_data"
    },
    {
     "name": "stdout",
     "output_type": "stream",
     "text": [
      "count    148.000000\n",
      "mean       0.795382\n",
      "std        0.732978\n",
      "min        0.173144\n",
      "25%        0.380005\n",
      "50%        0.492237\n",
      "75%        0.790432\n",
      "max        4.278387\n",
      "Name: ach, dtype: float64\n"
     ]
    }
   ],
   "source": [
    "base.summarize_estimates(estimates_base)"
   ]
  },
  {
   "cell_type": "markdown",
   "metadata": {},
   "source": [
    "### Saving"
   ]
  },
  {
   "cell_type": "code",
   "execution_count": 74,
   "metadata": {},
   "outputs": [],
   "source": [
    "estimates_base.to_csv(\"../data/processed/beacon-ventilation_estimates-base_case_ss-ux_s20.csv\",index=False)"
   ]
  },
  {
   "cell_type": "markdown",
   "metadata": {},
   "source": [
    "## Comparing to Other Steady-State Estimates"
   ]
  },
  {
   "cell_type": "markdown",
   "metadata": {},
   "source": [
    "### Information Fusion"
   ]
  },
  {
   "cell_type": "code",
   "execution_count": 57,
   "metadata": {},
   "outputs": [
    {
     "data": {
      "text/html": [
       "<div>\n",
       "<style scoped>\n",
       "    .dataframe tbody tr th:only-of-type {\n",
       "        vertical-align: middle;\n",
       "    }\n",
       "\n",
       "    .dataframe tbody tr th {\n",
       "        vertical-align: top;\n",
       "    }\n",
       "\n",
       "    .dataframe thead th {\n",
       "        text-align: right;\n",
       "    }\n",
       "</style>\n",
       "<table border=\"1\" class=\"dataframe\">\n",
       "  <thead>\n",
       "    <tr style=\"text-align: right;\">\n",
       "      <th></th>\n",
       "      <th>start</th>\n",
       "      <th>end</th>\n",
       "      <th>beiwe</th>\n",
       "      <th>beacon</th>\n",
       "      <th>co2_mean</th>\n",
       "      <th>co2_delta</th>\n",
       "      <th>t_mean</th>\n",
       "      <th>t_delta</th>\n",
       "      <th>e</th>\n",
       "      <th>c0</th>\n",
       "      <th>v</th>\n",
       "      <th>ach</th>\n",
       "      <th>method</th>\n",
       "    </tr>\n",
       "  </thead>\n",
       "  <tbody>\n",
       "    <tr>\n",
       "      <th>0</th>\n",
       "      <td>2020-05-31 23:48:00</td>\n",
       "      <td>2020-06-01 07:47:00</td>\n",
       "      <td>zdpffrox</td>\n",
       "      <td>7.0</td>\n",
       "      <td>1781.098559</td>\n",
       "      <td>-0.034184</td>\n",
       "      <td>23.409050</td>\n",
       "      <td>-0.008173</td>\n",
       "      <td>0.003743</td>\n",
       "      <td>679.678970</td>\n",
       "      <td>1365.0</td>\n",
       "      <td>0.317212</td>\n",
       "      <td>Data Fusion</td>\n",
       "    </tr>\n",
       "    <tr>\n",
       "      <th>1</th>\n",
       "      <td>2020-06-02 23:48:00</td>\n",
       "      <td>2020-06-03 08:11:00</td>\n",
       "      <td>zdpffrox</td>\n",
       "      <td>7.0</td>\n",
       "      <td>1713.431691</td>\n",
       "      <td>-0.054139</td>\n",
       "      <td>25.024248</td>\n",
       "      <td>-0.003633</td>\n",
       "      <td>0.003763</td>\n",
       "      <td>679.678970</td>\n",
       "      <td>1365.0</td>\n",
       "      <td>0.339898</td>\n",
       "      <td>Data Fusion</td>\n",
       "    </tr>\n",
       "    <tr>\n",
       "      <th>2</th>\n",
       "      <td>2020-06-04 23:25:00</td>\n",
       "      <td>2020-06-05 07:18:00</td>\n",
       "      <td>vr9j5rry</td>\n",
       "      <td>25.0</td>\n",
       "      <td>661.261969</td>\n",
       "      <td>0.255968</td>\n",
       "      <td>23.294573</td>\n",
       "      <td>-0.003213</td>\n",
       "      <td>0.003250</td>\n",
       "      <td>460.649886</td>\n",
       "      <td>1080.0</td>\n",
       "      <td>1.911098</td>\n",
       "      <td>Data Fusion</td>\n",
       "    </tr>\n",
       "    <tr>\n",
       "      <th>3</th>\n",
       "      <td>2020-06-06 00:28:00</td>\n",
       "      <td>2020-06-06 07:19:00</td>\n",
       "      <td>vr9j5rry</td>\n",
       "      <td>25.0</td>\n",
       "      <td>674.597049</td>\n",
       "      <td>0.446399</td>\n",
       "      <td>23.272756</td>\n",
       "      <td>-0.004673</td>\n",
       "      <td>0.003249</td>\n",
       "      <td>460.649886</td>\n",
       "      <td>1080.0</td>\n",
       "      <td>1.791849</td>\n",
       "      <td>Data Fusion</td>\n",
       "    </tr>\n",
       "    <tr>\n",
       "      <th>4</th>\n",
       "      <td>2020-06-07 00:46:00</td>\n",
       "      <td>2020-06-07 08:46:00</td>\n",
       "      <td>zdpffrox</td>\n",
       "      <td>7.0</td>\n",
       "      <td>1645.942662</td>\n",
       "      <td>-0.813084</td>\n",
       "      <td>23.867991</td>\n",
       "      <td>-0.008070</td>\n",
       "      <td>0.003749</td>\n",
       "      <td>679.678970</td>\n",
       "      <td>1365.0</td>\n",
       "      <td>0.362142</td>\n",
       "      <td>Data Fusion</td>\n",
       "    </tr>\n",
       "  </tbody>\n",
       "</table>\n",
       "</div>"
      ],
      "text/plain": [
       "                 start                  end     beiwe  beacon     co2_mean  \\\n",
       "0  2020-05-31 23:48:00  2020-06-01 07:47:00  zdpffrox     7.0  1781.098559   \n",
       "1  2020-06-02 23:48:00  2020-06-03 08:11:00  zdpffrox     7.0  1713.431691   \n",
       "2  2020-06-04 23:25:00  2020-06-05 07:18:00  vr9j5rry    25.0   661.261969   \n",
       "3  2020-06-06 00:28:00  2020-06-06 07:19:00  vr9j5rry    25.0   674.597049   \n",
       "4  2020-06-07 00:46:00  2020-06-07 08:46:00  zdpffrox     7.0  1645.942662   \n",
       "\n",
       "   co2_delta     t_mean   t_delta         e          c0       v       ach  \\\n",
       "0  -0.034184  23.409050 -0.008173  0.003743  679.678970  1365.0  0.317212   \n",
       "1  -0.054139  25.024248 -0.003633  0.003763  679.678970  1365.0  0.339898   \n",
       "2   0.255968  23.294573 -0.003213  0.003250  460.649886  1080.0  1.911098   \n",
       "3   0.446399  23.272756 -0.004673  0.003249  460.649886  1080.0  1.791849   \n",
       "4  -0.813084  23.867991 -0.008070  0.003749  679.678970  1365.0  0.362142   \n",
       "\n",
       "        method  \n",
       "0  Data Fusion  \n",
       "1  Data Fusion  \n",
       "2  Data Fusion  \n",
       "3  Data Fusion  \n",
       "4  Data Fusion  "
      ]
     },
     "execution_count": 57,
     "metadata": {},
     "output_type": "execute_result"
    }
   ],
   "source": [
    "estimates_if = pd.read_csv(\"../data/processed/beacon-ventilation_estimates-ss-ux_s20.csv\")\n",
    "estimates_if[\"method\"] = \"Data Fusion\"\n",
    "estimates_if.head()"
   ]
  },
  {
   "cell_type": "markdown",
   "metadata": {},
   "source": [
    "### Model-Detected"
   ]
  },
  {
   "cell_type": "code",
   "execution_count": 67,
   "metadata": {},
   "outputs": [
    {
     "data": {
      "text/html": [
       "<div>\n",
       "<style scoped>\n",
       "    .dataframe tbody tr th:only-of-type {\n",
       "        vertical-align: middle;\n",
       "    }\n",
       "\n",
       "    .dataframe tbody tr th {\n",
       "        vertical-align: top;\n",
       "    }\n",
       "\n",
       "    .dataframe thead th {\n",
       "        text-align: right;\n",
       "    }\n",
       "</style>\n",
       "<table border=\"1\" class=\"dataframe\">\n",
       "  <thead>\n",
       "    <tr style=\"text-align: right;\">\n",
       "      <th></th>\n",
       "      <th>start</th>\n",
       "      <th>end</th>\n",
       "      <th>beiwe</th>\n",
       "      <th>beacon</th>\n",
       "      <th>co2_mean</th>\n",
       "      <th>co2_delta</th>\n",
       "      <th>t_mean</th>\n",
       "      <th>t_delta</th>\n",
       "      <th>e</th>\n",
       "      <th>c0</th>\n",
       "      <th>v</th>\n",
       "      <th>ach</th>\n",
       "      <th>method</th>\n",
       "    </tr>\n",
       "  </thead>\n",
       "  <tbody>\n",
       "    <tr>\n",
       "      <th>742</th>\n",
       "      <td>2020-06-10 04:40:00</td>\n",
       "      <td>2020-06-10 11:10:00</td>\n",
       "      <td>kyj367pi</td>\n",
       "      <td>1.0</td>\n",
       "      <td>636.937418</td>\n",
       "      <td>-1.787027</td>\n",
       "      <td>17.487162</td>\n",
       "      <td>-0.033181</td>\n",
       "      <td>0.002535</td>\n",
       "      <td>486.795966</td>\n",
       "      <td>1080.0</td>\n",
       "      <td>2.004302</td>\n",
       "      <td>90</td>\n",
       "    </tr>\n",
       "    <tr>\n",
       "      <th>743</th>\n",
       "      <td>2020-06-11 02:00:00</td>\n",
       "      <td>2020-06-11 03:30:00</td>\n",
       "      <td>zdpffrox</td>\n",
       "      <td>7.0</td>\n",
       "      <td>1607.359748</td>\n",
       "      <td>6.918521</td>\n",
       "      <td>22.330322</td>\n",
       "      <td>-0.031778</td>\n",
       "      <td>0.003729</td>\n",
       "      <td>679.678970</td>\n",
       "      <td>1365.0</td>\n",
       "      <td>0.375250</td>\n",
       "      <td>90</td>\n",
       "    </tr>\n",
       "    <tr>\n",
       "      <th>744</th>\n",
       "      <td>2020-06-11 04:50:00</td>\n",
       "      <td>2020-06-11 06:10:00</td>\n",
       "      <td>kyj367pi</td>\n",
       "      <td>1.0</td>\n",
       "      <td>676.847147</td>\n",
       "      <td>-2.177107</td>\n",
       "      <td>16.328666</td>\n",
       "      <td>-0.195490</td>\n",
       "      <td>0.002525</td>\n",
       "      <td>486.795966</td>\n",
       "      <td>1080.0</td>\n",
       "      <td>1.567659</td>\n",
       "      <td>90</td>\n",
       "    </tr>\n",
       "    <tr>\n",
       "      <th>745</th>\n",
       "      <td>2020-06-11 07:20:00</td>\n",
       "      <td>2020-06-11 10:00:00</td>\n",
       "      <td>zdpffrox</td>\n",
       "      <td>7.0</td>\n",
       "      <td>1764.858929</td>\n",
       "      <td>1.558950</td>\n",
       "      <td>22.093372</td>\n",
       "      <td>-0.021630</td>\n",
       "      <td>0.003726</td>\n",
       "      <td>679.678970</td>\n",
       "      <td>1365.0</td>\n",
       "      <td>0.320530</td>\n",
       "      <td>90</td>\n",
       "    </tr>\n",
       "    <tr>\n",
       "      <th>746</th>\n",
       "      <td>2020-06-12 21:20:00</td>\n",
       "      <td>2020-06-13 02:20:00</td>\n",
       "      <td>kyj367pi</td>\n",
       "      <td>1.0</td>\n",
       "      <td>633.701219</td>\n",
       "      <td>0.788909</td>\n",
       "      <td>17.361058</td>\n",
       "      <td>-0.000215</td>\n",
       "      <td>0.002534</td>\n",
       "      <td>486.795966</td>\n",
       "      <td>1080.0</td>\n",
       "      <td>2.035316</td>\n",
       "      <td>90</td>\n",
       "    </tr>\n",
       "  </tbody>\n",
       "</table>\n",
       "</div>"
      ],
      "text/plain": [
       "                   start                  end     beiwe  beacon     co2_mean  \\\n",
       "742  2020-06-10 04:40:00  2020-06-10 11:10:00  kyj367pi     1.0   636.937418   \n",
       "743  2020-06-11 02:00:00  2020-06-11 03:30:00  zdpffrox     7.0  1607.359748   \n",
       "744  2020-06-11 04:50:00  2020-06-11 06:10:00  kyj367pi     1.0   676.847147   \n",
       "745  2020-06-11 07:20:00  2020-06-11 10:00:00  zdpffrox     7.0  1764.858929   \n",
       "746  2020-06-12 21:20:00  2020-06-13 02:20:00  kyj367pi     1.0   633.701219   \n",
       "\n",
       "     co2_delta     t_mean   t_delta         e          c0       v       ach  \\\n",
       "742  -1.787027  17.487162 -0.033181  0.002535  486.795966  1080.0  2.004302   \n",
       "743   6.918521  22.330322 -0.031778  0.003729  679.678970  1365.0  0.375250   \n",
       "744  -2.177107  16.328666 -0.195490  0.002525  486.795966  1080.0  1.567659   \n",
       "745   1.558950  22.093372 -0.021630  0.003726  679.678970  1365.0  0.320530   \n",
       "746   0.788909  17.361058 -0.000215  0.002534  486.795966  1080.0  2.035316   \n",
       "\n",
       "    method  \n",
       "742     90  \n",
       "743     90  \n",
       "744     90  \n",
       "745     90  \n",
       "746     90  "
      ]
     },
     "execution_count": 67,
     "metadata": {},
     "output_type": "execute_result"
    }
   ],
   "source": [
    "estimates_model = pd.read_csv(\"../data/processed/beacon-ventilation_estimates-occ-ux_s20.csv\")\n",
    "estimates_model = estimates_model[estimates_model[\"method\"] == 90]\n",
    "estimates_model[\"method\"] = estimates_model['method'].astype(str)\n",
    "estimates_model.head()"
   ]
  },
  {
   "cell_type": "code",
   "execution_count": 73,
   "metadata": {},
   "outputs": [
    {
     "data": {
      "image/png": "[encoded data removed]",
      "text/plain": [
       "<Figure size 1008x432 with 1 Axes>"
      ]
     },
     "metadata": {
      "needs_background": "light"
     },
     "output_type": "display_data"
    }
   ],
   "source": [
    "estimates = pd.concat([estimates_base,estimates_if,estimates_model])\n",
    "ventilation.plot_strip(estimates,save=False,annot=\"-ss_only\")"
   ]
  },
  {
   "cell_type": "markdown",
   "metadata": {},
   "source": [
    "---"
   ]
  }
 ],
 "metadata": {
  "kernelspec": {
   "display_name": "Python 3",
   "language": "python",
   "name": "python3"
  },
  "language_info": {
   "codemirror_mode": {
    "name": "ipython",
    "version": 3
   },
   "file_extension": ".py",
   "mimetype": "text/x-python",
   "name": "python",
   "nbconvert_exporter": "python",
   "pygments_lexer": "ipython3",
   "version": "3.8.8"
  },
  "toc": {
   "base_numbering": 1,
   "nav_menu": {},
   "number_sections": false,
   "sideBar": false,
   "skip_h1_title": false,
   "title_cell": "Table of Contents",
   "title_sidebar": "Contents",
   "toc_cell": false,
   "toc_position": {},
   "toc_section_display": false,
   "toc_window_display": false
  }
 },
 "nbformat": 4,
 "nbformat_minor": 4
}
