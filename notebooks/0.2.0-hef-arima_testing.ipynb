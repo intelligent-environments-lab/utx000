{
 "cells": [
  {
   "cell_type": "markdown",
   "id": "fdac1f9f",
   "metadata": {},
   "source": [
    "# ARIMA Models to Impute Missing Data\n",
    "Univariate approach to fill in gaps in the data"
   ]
  },
  {
   "cell_type": "code",
   "execution_count": null,
   "id": "148d3f2b",
   "metadata": {},
   "outputs": [],
   "source": []
  }
 ],
 "metadata": {
  "kernelspec": {
   "display_name": "Python 3",
   "language": "python",
   "name": "python3"
  },
  "language_info": {
   "codemirror_mode": {
    "name": "ipython",
    "version": 3
   },
   "file_extension": ".py",
   "mimetype": "text/x-python",
   "name": "python",
   "nbconvert_exporter": "python",
   "pygments_lexer": "ipython3",
   "version": "3.8.8"
  }
 },
 "nbformat": 4,
 "nbformat_minor": 5
}
