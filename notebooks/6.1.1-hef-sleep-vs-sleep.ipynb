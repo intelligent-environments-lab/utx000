{
 "cells": [
  {
   "cell_type": "markdown",
   "metadata": {},
   "source": [
    "# Fitbit Exploration\n",
    "For an explanation on the variables, take a look at the [data dictionary created by Fitabase](https://www.fitabase.com/media/1546/fitabasedatadictionary.pdf)."
   ]
  },
  {
   "cell_type": "markdown",
   "metadata": {},
   "source": [
    "## Self-Report vs Measured Sleep\n",
    "In this notebook we take a more in-depth look at self-report vs Fitbit-measure sleep metrics."
   ]
  },
  {
   "cell_type": "code",
   "execution_count": 48,
   "metadata": {},
   "outputs": [],
   "source": [
    "import os\n",
    "import sys\n",
    "sys.path.append('../')\n",
    "\n",
    "from src.features import build_features\n",
    "from src.visualization import visualize\n",
    "from src.reports import make_report\n",
    "\n",
    "import pandas as pd\n",
    "import numpy as np\n",
    "\n",
    "from datetime import datetime, timedelta\n",
    "\n",
    "import matplotlib.pyplot as plt\n",
    "import seaborn as sns\n",
    "import matplotlib.dates as mdates"
   ]
  },
  {
   "cell_type": "markdown",
   "metadata": {},
   "source": [
    "## Data Import\n",
    "Here we import the morning surveys and the daily Fitbit data"
   ]
  },
  {
   "cell_type": "markdown",
   "metadata": {},
   "source": [
    "### Morning Sleep Surveys"
   ]
  },
  {
   "cell_type": "code",
   "execution_count": 49,
   "metadata": {},
   "outputs": [
    {
     "data": {
      "text/html": [
       "<div>\n",
       "<style scoped>\n",
       "    .dataframe tbody tr th:only-of-type {\n",
       "        vertical-align: middle;\n",
       "    }\n",
       "\n",
       "    .dataframe tbody tr th {\n",
       "        vertical-align: top;\n",
       "    }\n",
       "\n",
       "    .dataframe thead th {\n",
       "        text-align: right;\n",
       "    }\n",
       "</style>\n",
       "<table border=\"1\" class=\"dataframe\">\n",
       "  <thead>\n",
       "    <tr style=\"text-align: right;\">\n",
       "      <th></th>\n",
       "      <th>ID</th>\n",
       "      <th>Content</th>\n",
       "      <th>Stress</th>\n",
       "      <th>Lonely</th>\n",
       "      <th>Sad</th>\n",
       "      <th>Energy</th>\n",
       "      <th>TST</th>\n",
       "      <th>SOL</th>\n",
       "      <th>NAW</th>\n",
       "      <th>Restful</th>\n",
       "    </tr>\n",
       "  </thead>\n",
       "  <tbody>\n",
       "    <tr>\n",
       "      <th>2020-07-31 14:25:00</th>\n",
       "      <td>hfttkth7</td>\n",
       "      <td>1</td>\n",
       "      <td>2</td>\n",
       "      <td>1.0</td>\n",
       "      <td>3</td>\n",
       "      <td>0</td>\n",
       "      <td>6.0</td>\n",
       "      <td>10.0</td>\n",
       "      <td>3.0</td>\n",
       "      <td>0</td>\n",
       "    </tr>\n",
       "    <tr>\n",
       "      <th>2020-08-20 03:49:00</th>\n",
       "      <td>hfttkth7</td>\n",
       "      <td>1</td>\n",
       "      <td>1</td>\n",
       "      <td>0.0</td>\n",
       "      <td>1</td>\n",
       "      <td>2</td>\n",
       "      <td>7.0</td>\n",
       "      <td>20.0</td>\n",
       "      <td>1.0</td>\n",
       "      <td>1</td>\n",
       "    </tr>\n",
       "    <tr>\n",
       "      <th>2020-08-23 15:58:00</th>\n",
       "      <td>hfttkth7</td>\n",
       "      <td>1</td>\n",
       "      <td>1</td>\n",
       "      <td>1.0</td>\n",
       "      <td>2</td>\n",
       "      <td>0</td>\n",
       "      <td>6.0</td>\n",
       "      <td>25.0</td>\n",
       "      <td>0.0</td>\n",
       "      <td>0</td>\n",
       "    </tr>\n",
       "    <tr>\n",
       "      <th>2020-07-17 14:52:00</th>\n",
       "      <td>hfttkth7</td>\n",
       "      <td>1</td>\n",
       "      <td>1</td>\n",
       "      <td>0.0</td>\n",
       "      <td>1</td>\n",
       "      <td>2</td>\n",
       "      <td>7.0</td>\n",
       "      <td>20.0</td>\n",
       "      <td>3.0</td>\n",
       "      <td>2</td>\n",
       "    </tr>\n",
       "    <tr>\n",
       "      <th>2020-08-12 17:32:00</th>\n",
       "      <td>hfttkth7</td>\n",
       "      <td>1</td>\n",
       "      <td>3</td>\n",
       "      <td>1.0</td>\n",
       "      <td>2</td>\n",
       "      <td>2</td>\n",
       "      <td>6.0</td>\n",
       "      <td>20.0</td>\n",
       "      <td>0.0</td>\n",
       "      <td>1</td>\n",
       "    </tr>\n",
       "  </tbody>\n",
       "</table>\n",
       "</div>"
      ],
      "text/plain": [
       "                           ID  Content  Stress  Lonely  Sad  Energy  TST  \\\n",
       "2020-07-31 14:25:00  hfttkth7        1       2     1.0    3       0  6.0   \n",
       "2020-08-20 03:49:00  hfttkth7        1       1     0.0    1       2  7.0   \n",
       "2020-08-23 15:58:00  hfttkth7        1       1     1.0    2       0  6.0   \n",
       "2020-07-17 14:52:00  hfttkth7        1       1     0.0    1       2  7.0   \n",
       "2020-08-12 17:32:00  hfttkth7        1       3     1.0    2       2  6.0   \n",
       "\n",
       "                      SOL  NAW  Restful  \n",
       "2020-07-31 14:25:00  10.0  3.0        0  \n",
       "2020-08-20 03:49:00  20.0  1.0        1  \n",
       "2020-08-23 15:58:00  25.0  0.0        0  \n",
       "2020-07-17 14:52:00  20.0  3.0        2  \n",
       "2020-08-12 17:32:00  20.0  0.0        1  "
      ]
     },
     "execution_count": 49,
     "metadata": {},
     "output_type": "execute_result"
    }
   ],
   "source": [
    "sr_sleep = pd.read_csv('../data/processed/bpeace2-morning-survey.csv',index_col=0,parse_dates=True)\n",
    "sr_sleep.head()"
   ]
  },
  {
   "cell_type": "markdown",
   "metadata": {},
   "source": [
    "### Daily Fitbit Metrics"
   ]
  },
  {
   "cell_type": "code",
   "execution_count": 50,
   "metadata": {},
   "outputs": [
    {
     "data": {
      "text/html": [
       "<div>\n",
       "<style scoped>\n",
       "    .dataframe tbody tr th:only-of-type {\n",
       "        vertical-align: middle;\n",
       "    }\n",
       "\n",
       "    .dataframe tbody tr th {\n",
       "        vertical-align: top;\n",
       "    }\n",
       "\n",
       "    .dataframe thead th {\n",
       "        text-align: right;\n",
       "    }\n",
       "</style>\n",
       "<table border=\"1\" class=\"dataframe\">\n",
       "  <thead>\n",
       "    <tr style=\"text-align: right;\">\n",
       "      <th></th>\n",
       "      <th>awakeCount</th>\n",
       "      <th>awakeDuration</th>\n",
       "      <th>awakeningsCount</th>\n",
       "      <th>dateOfSleep</th>\n",
       "      <th>duration</th>\n",
       "      <th>efficiency</th>\n",
       "      <th>endTime</th>\n",
       "      <th>logId</th>\n",
       "      <th>minutesAfterWakeup</th>\n",
       "      <th>minutesAsleep</th>\n",
       "      <th>minutesAwake</th>\n",
       "      <th>minutesToFallAsleep</th>\n",
       "      <th>restlessCount</th>\n",
       "      <th>restlessDuration</th>\n",
       "      <th>startTime</th>\n",
       "      <th>timeInBed</th>\n",
       "      <th>beiwe</th>\n",
       "    </tr>\n",
       "    <tr>\n",
       "      <th>date</th>\n",
       "      <th></th>\n",
       "      <th></th>\n",
       "      <th></th>\n",
       "      <th></th>\n",
       "      <th></th>\n",
       "      <th></th>\n",
       "      <th></th>\n",
       "      <th></th>\n",
       "      <th></th>\n",
       "      <th></th>\n",
       "      <th></th>\n",
       "      <th></th>\n",
       "      <th></th>\n",
       "      <th></th>\n",
       "      <th></th>\n",
       "      <th></th>\n",
       "      <th></th>\n",
       "    </tr>\n",
       "  </thead>\n",
       "  <tbody>\n",
       "    <tr>\n",
       "      <th>2020-05-01</th>\n",
       "      <td>1</td>\n",
       "      <td>3</td>\n",
       "      <td>30</td>\n",
       "      <td>2020-05-01</td>\n",
       "      <td>38400000</td>\n",
       "      <td>92</td>\n",
       "      <td>2020-05-01T12:12:30.000</td>\n",
       "      <td>26980914882</td>\n",
       "      <td>0</td>\n",
       "      <td>590</td>\n",
       "      <td>50</td>\n",
       "      <td>0</td>\n",
       "      <td>29</td>\n",
       "      <td>47</td>\n",
       "      <td>2020-05-01T01:32:30.000</td>\n",
       "      <td>640</td>\n",
       "      <td>15tejjtw</td>\n",
       "    </tr>\n",
       "    <tr>\n",
       "      <th>2020-05-02</th>\n",
       "      <td>3</td>\n",
       "      <td>9</td>\n",
       "      <td>41</td>\n",
       "      <td>2020-05-02</td>\n",
       "      <td>39060000</td>\n",
       "      <td>91</td>\n",
       "      <td>2020-05-02T13:13:00.000</td>\n",
       "      <td>26996086598</td>\n",
       "      <td>0</td>\n",
       "      <td>590</td>\n",
       "      <td>61</td>\n",
       "      <td>0</td>\n",
       "      <td>38</td>\n",
       "      <td>52</td>\n",
       "      <td>2020-05-02T02:21:30.000</td>\n",
       "      <td>651</td>\n",
       "      <td>15tejjtw</td>\n",
       "    </tr>\n",
       "    <tr>\n",
       "      <th>2020-05-03</th>\n",
       "      <td>2</td>\n",
       "      <td>2</td>\n",
       "      <td>21</td>\n",
       "      <td>2020-05-03</td>\n",
       "      <td>21660000</td>\n",
       "      <td>88</td>\n",
       "      <td>2020-05-03T08:01:00.000</td>\n",
       "      <td>27009771663</td>\n",
       "      <td>1</td>\n",
       "      <td>315</td>\n",
       "      <td>45</td>\n",
       "      <td>0</td>\n",
       "      <td>19</td>\n",
       "      <td>44</td>\n",
       "      <td>2020-05-03T01:59:30.000</td>\n",
       "      <td>361</td>\n",
       "      <td>15tejjtw</td>\n",
       "    </tr>\n",
       "    <tr>\n",
       "      <th>2020-05-04</th>\n",
       "      <td>1</td>\n",
       "      <td>2</td>\n",
       "      <td>25</td>\n",
       "      <td>2020-05-04</td>\n",
       "      <td>36480000</td>\n",
       "      <td>89</td>\n",
       "      <td>2020-05-04T14:13:30.000</td>\n",
       "      <td>27022238683</td>\n",
       "      <td>0</td>\n",
       "      <td>541</td>\n",
       "      <td>65</td>\n",
       "      <td>0</td>\n",
       "      <td>24</td>\n",
       "      <td>35</td>\n",
       "      <td>2020-05-04T04:05:00.000</td>\n",
       "      <td>608</td>\n",
       "      <td>15tejjtw</td>\n",
       "    </tr>\n",
       "    <tr>\n",
       "      <th>2020-05-05</th>\n",
       "      <td>1</td>\n",
       "      <td>1</td>\n",
       "      <td>6</td>\n",
       "      <td>2020-05-05</td>\n",
       "      <td>5760000</td>\n",
       "      <td>89</td>\n",
       "      <td>2020-05-05T17:33:30.000</td>\n",
       "      <td>27039089529</td>\n",
       "      <td>1</td>\n",
       "      <td>85</td>\n",
       "      <td>10</td>\n",
       "      <td>0</td>\n",
       "      <td>5</td>\n",
       "      <td>10</td>\n",
       "      <td>2020-05-05T15:57:00.000</td>\n",
       "      <td>96</td>\n",
       "      <td>15tejjtw</td>\n",
       "    </tr>\n",
       "  </tbody>\n",
       "</table>\n",
       "</div>"
      ],
      "text/plain": [
       "            awakeCount  awakeDuration  awakeningsCount dateOfSleep  duration  \\\n",
       "date                                                                           \n",
       "2020-05-01           1              3               30  2020-05-01  38400000   \n",
       "2020-05-02           3              9               41  2020-05-02  39060000   \n",
       "2020-05-03           2              2               21  2020-05-03  21660000   \n",
       "2020-05-04           1              2               25  2020-05-04  36480000   \n",
       "2020-05-05           1              1                6  2020-05-05   5760000   \n",
       "\n",
       "            efficiency                  endTime        logId  \\\n",
       "date                                                           \n",
       "2020-05-01          92  2020-05-01T12:12:30.000  26980914882   \n",
       "2020-05-02          91  2020-05-02T13:13:00.000  26996086598   \n",
       "2020-05-03          88  2020-05-03T08:01:00.000  27009771663   \n",
       "2020-05-04          89  2020-05-04T14:13:30.000  27022238683   \n",
       "2020-05-05          89  2020-05-05T17:33:30.000  27039089529   \n",
       "\n",
       "            minutesAfterWakeup  minutesAsleep  minutesAwake  \\\n",
       "date                                                          \n",
       "2020-05-01                   0            590            50   \n",
       "2020-05-02                   0            590            61   \n",
       "2020-05-03                   1            315            45   \n",
       "2020-05-04                   0            541            65   \n",
       "2020-05-05                   1             85            10   \n",
       "\n",
       "            minutesToFallAsleep  restlessCount  restlessDuration  \\\n",
       "date                                                               \n",
       "2020-05-01                    0             29                47   \n",
       "2020-05-02                    0             38                52   \n",
       "2020-05-03                    0             19                44   \n",
       "2020-05-04                    0             24                35   \n",
       "2020-05-05                    0              5                10   \n",
       "\n",
       "                          startTime  timeInBed     beiwe  \n",
       "date                                                      \n",
       "2020-05-01  2020-05-01T01:32:30.000        640  15tejjtw  \n",
       "2020-05-02  2020-05-02T02:21:30.000        651  15tejjtw  \n",
       "2020-05-03  2020-05-03T01:59:30.000        361  15tejjtw  \n",
       "2020-05-04  2020-05-04T04:05:00.000        608  15tejjtw  \n",
       "2020-05-05  2020-05-05T15:57:00.000         96  15tejjtw  "
      ]
     },
     "execution_count": 50,
     "metadata": {},
     "output_type": "execute_result"
    }
   ],
   "source": [
    "fb_sleep = pd.read_csv(\"../data/processed/bpeace2-fitbit-sleep-daily.csv\",index_col=0,parse_dates=True)\n",
    "fb_sleep.head()"
   ]
  },
  {
   "cell_type": "markdown",
   "metadata": {},
   "source": [
    "## Data Summary and Comparison\n",
    "Since both the survey and fitbit-recorded sleep are on the same resolution, we can easily compare their overall statistics."
   ]
  },
  {
   "cell_type": "markdown",
   "metadata": {},
   "source": [
    "### Aggregate Comparison\n",
    "Here we look at the aggregated data across all participants for the two data modalities."
   ]
  },
  {
   "cell_type": "code",
   "execution_count": 51,
   "metadata": {},
   "outputs": [
    {
     "name": "stdout",
     "output_type": "stream",
     "text": [
      "Number of sleep surveys:\t1682\n",
      "Number of fitbit records:\t2026\n"
     ]
    }
   ],
   "source": [
    "# n\n",
    "print(f'Number of sleep surveys:\\t{len(sr_sleep)}')\n",
    "print(f'Number of fitbit records:\\t{len(fb_sleep)}')"
   ]
  },
  {
   "cell_type": "markdown",
   "metadata": {},
   "source": [
    "<div class=\"alert alert-block alert-warning\">\n",
    "\n",
    "There seem to be quite a few records to look at, however we have to see how many nightly records actually overlap. \n",
    "\n",
    "- The sleep surveys are indexed by the day that the participant woke up.\n",
    "- Fitabase data dictionary does not have a record for ```dateOfSleep``` although they do have ```sleepDate```, however these seem to be different variables. Looking at the data, ```dateOfSleep``` seems to correspond to the date of the ```endTime``` label not the ```startTime``` label which Fitabase suggests.\n",
    "\n",
    "Based on the points above, we just have to check the overlap between the **date of the sleep survey data** and the **date of the fitbit sleep data** per participant to see the combined records that are available.\n",
    "    \n",
    "</div>"
   ]
  },
  {
   "cell_type": "code",
   "execution_count": 52,
   "metadata": {},
   "outputs": [
    {
     "name": "stdout",
     "output_type": "stream",
     "text": [
      "<class 'pandas._libs.tslibs.timestamps.Timestamp'>\n"
     ]
    }
   ],
   "source": [
    "# creating date column\n",
    "sr_sleep['date'] = pd.to_datetime(sr_sleep.index.date)\n",
    "print(type(sr_sleep['date'][0]))"
   ]
  },
  {
   "cell_type": "markdown",
   "metadata": {},
   "source": [
    "First, let's check that we have the same participants for both modalities:"
   ]
  },
  {
   "cell_type": "code",
   "execution_count": 53,
   "metadata": {},
   "outputs": [
    {
     "name": "stdout",
     "output_type": "stream",
     "text": [
      "Number of Fitbit Participants:\t35\n",
      "Number of Survey Participants:\t50\n"
     ]
    }
   ],
   "source": [
    "# Pts with fitbits\n",
    "fb_beiwe = fb_sleep['beiwe'].unique()\n",
    "# Pts who took surveys\n",
    "sr_beiwe = sr_sleep['ID'].unique()\n",
    "print(f'Number of Fitbit Participants:\\t{len(fb_beiwe)}\\nNumber of Survey Participants:\\t{len(sr_beiwe)}')\n"
   ]
  },
  {
   "cell_type": "code",
   "execution_count": 54,
   "metadata": {},
   "outputs": [
    {
     "name": "stdout",
     "output_type": "stream",
     "text": [
      "Length of Intersecting Participants:\t32\n",
      "['15tejjtw' '1a9udoc5' '43b1cd5m' '4i7679py' '745vq78e' '789gcb6u'\n",
      " '9jtzsuu8' '9xmhtq74' 'axk49ssu' 'e73a1pd5' 'ewvz3zm1' 'h8aoiyhv'\n",
      " 'hcpu5myv' 'hxj6brwj' 'itmylz3g' 'kyj367pi' 'lkkjddam' 'o6xwrota'\n",
      " 'olaxadz5' 'oxcpr7e3' 'qh34m4r9' 'rnse61g4' 'rvhdl2la' 't4jphih6'\n",
      " 'tlmlq19s' 'tmexej5v' 'vpy1a985' 'vr9j5rry' 'xdbdrk6e' 'xlw5ntd5'\n",
      " 'y1tvkx14' 'zdpffrox']\n"
     ]
    }
   ],
   "source": [
    "# list of pts from both\n",
    "pt_list = np.intersect1d(fb_beiwe,sr_beiwe)\n",
    "print(f'Length of Intersecting Participants:\\t{len(pt_list)}')\n",
    "print(pt_list)"
   ]
  },
  {
   "cell_type": "markdown",
   "metadata": {},
   "source": [
    "Now we can loop through the participants, combining days of self-report and measured sleep metrics when both records exist. "
   ]
  },
  {
   "cell_type": "code",
   "execution_count": 56,
   "metadata": {},
   "outputs": [],
   "source": [
    "combined_sleep = pd.DataFrame() # dataframe to append to\n",
    "for pt in pt_list:\n",
    "    sr_sleep_beiwe = sr_sleep[sr_sleep['ID'] == pt]\n",
    "    fb_sleep_beiwe = fb_sleep[fb_sleep['beiwe'] == pt]\n",
    "    combined_sleep = combined_sleep.append(pd.merge(left=sr_sleep_beiwe,right=fb_sleep_beiwe,left_on='date',right_index=True,how='inner'))"
   ]
  },
  {
   "cell_type": "markdown",
   "metadata": {},
   "source": [
    "Now we can see how many nights of data we have from both modalities in addition to if we lost any participants due to lack of overlap."
   ]
  },
  {
   "cell_type": "code",
   "execution_count": 60,
   "metadata": {},
   "outputs": [
    {
     "name": "stdout",
     "output_type": "stream",
     "text": [
      "Number of overlapping nights: 621\n",
      "\tFrom 31 participants\n"
     ]
    }
   ],
   "source": [
    "print(f'Number of overlapping nights: {len(combined_sleep)}')\n",
    "n = len(combined_sleep['ID'].unique())\n",
    "print(f'\\tFrom {n} participants')"
   ]
  },
  {
   "cell_type": "markdown",
   "metadata": {},
   "source": [
    "So we have just over 600 nights of data, but we lost one participant from lack of overlap. Now we can start to look at the different metrics recorded by both modalities."
   ]
  },
  {
   "cell_type": "markdown",
   "metadata": {},
   "source": [
    "#### Total Sleep Time\n",
    "Total sleep time (TST) in hours"
   ]
  },
  {
   "cell_type": "code",
   "execution_count": 85,
   "metadata": {},
   "outputs": [
    {
     "data": {
      "image/png": "[encoded data removed]",
      "text/plain": [
       "<Figure size 1152x864 with 4 Axes>"
      ]
     },
     "metadata": {
      "needs_background": "light"
     },
     "output_type": "display_data"
    }
   ],
   "source": [
    "fig, axes = plt.subplots(2,2,figsize=(16,12),sharey='row')\n",
    "# tst from sr\n",
    "axes[0,0].hist(combined_sleep['TST'],bins=np.arange(0,15,1),density=True,rwidth=0.9,color='cornflowerblue',edgecolor='black')\n",
    "axes[0,0].set_title(\"Self-Report\")\n",
    "# tst from fb\n",
    "axes[0,1].hist(combined_sleep['duration']/3600000,bins=np.arange(0,15,1),density=True,rwidth=0.9,color='firebrick',edgecolor='black')\n",
    "axes[0,1].set_title(\"Fitbit-Measured\")\n",
    "# overlaid\n",
    "axes[1,0].hist(combined_sleep['TST'],bins=np.arange(0,15,1),density=True,rwidth=0.9,color='cornflowerblue',edgecolor='black',alpha=0.5)\n",
    "axes[1,0].hist(combined_sleep['duration']/3600000,bins=np.arange(0,15,1),density=True,rwidth=0.9,color='firebrick',edgecolor='black',alpha=0.5)\n",
    "axes[1,0].set_title(\"Overlaid\")\n",
    "# difference\n",
    "n,bins,_ = axes[1,1].hist(combined_sleep['TST']-combined_sleep['duration']/3600000,bins=np.arange(-10,10,1),density=True,rwidth=0.9,color='seagreen',edgecolor='black')\n",
    "axes[1,1].set_xticks(bins)\n",
    "axes[1,1].set_title(\"Difference (Self-Report - Fitbit-Measured)\")\n",
    "\n",
    "plt.subplots_adjust(wspace=0.05,hspace=0.15)\n",
    "plt.show()\n",
    "plt.close()"
   ]
  },
  {
   "cell_type": "markdown",
   "metadata": {},
   "source": [
    "<div class=\"alert alert-block alert-warning\">\n",
    "    \n",
    "Results are interesting particularly when analyzing the difference histrogram in the (2,2) location. \n",
    "\n",
    "The first result can be interpreted one of two ways:\n",
    "1. On average, Fitbit **over-estimates** the TST\n",
    "2. On average, participants **under-estimate** their TST\n",
    "\n",
    "The second result can again be interpreted one of two ways depending on what we think is the more accurate measure:\n",
    "1. Fitbit, in some instances, tends to dramatically under-predict TST\n",
    "2. There are some participants who dramatically over-predict their sleep, or these are simply odd isntances when participants calculated their sleep time incorrectly.\n",
    "\n",
    "For the second observation, I think the latter point is more valid - that some participants poorly gauged their TST and did not account for the time it took them to fall asleep or instances when the woke in the evening. However, I don't think that explains how the differences could be three or more hours different. **Days with a difference of more than 3(?) hours (absolute value) should be removed from the dataset because, in either case, something is amiss.**"
   ]
  },
  {
   "cell_type": "markdown",
   "metadata": {},
   "source": [
    "<div class=\"alert alert-block alert-danger\">\n",
    "What is the best way to deal with TST differences that are so largely negative and/or positive?"
   ]
  },
  {
   "cell_type": "markdown",
   "metadata": {},
   "source": [
    "### Participant Comparison Across Platforms\n",
    "Now we look at individual participants and how they compared across the different modalities."
   ]
  },
  {
   "cell_type": "code",
   "execution_count": null,
   "metadata": {},
   "outputs": [],
   "source": []
  }
 ],
 "metadata": {
  "kernelspec": {
   "display_name": "Python 3",
   "language": "python",
   "name": "python3"
  },
  "language_info": {
   "codemirror_mode": {
    "name": "ipython",
    "version": 3
   },
   "file_extension": ".py",
   "mimetype": "text/x-python",
   "name": "python",
   "nbconvert_exporter": "python",
   "pygments_lexer": "ipython3",
   "version": "3.7.0"
  }
 },
 "nbformat": 4,
 "nbformat_minor": 4
}
