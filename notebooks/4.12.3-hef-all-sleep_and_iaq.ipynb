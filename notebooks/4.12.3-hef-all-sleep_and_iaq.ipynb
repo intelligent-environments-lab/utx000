{
 "cells": [
  {
   "cell_type": "markdown",
   "metadata": {},
   "source": [
    "# IAQ and Fitbit-Measured Sleep Exploration\n",
    "Arguably the main attraction (for me at least), we explore the effect of IAQ parameters on Fitbit-measured sleep parameters."
   ]
  },
  {
   "cell_type": "code",
   "execution_count": 36,
   "metadata": {},
   "outputs": [
    {
     "name": "stdout",
     "output_type": "stream",
     "text": [
      "The autoreload extension is already loaded. To reload it, use:\n",
      "  %reload_ext autoreload\n"
     ]
    }
   ],
   "source": [
    "import warnings\n",
    "warnings.filterwarnings('ignore')\n",
    "\n",
    "%load_ext autoreload\n",
    "%autoreload 2"
   ]
  },
  {
   "cell_type": "markdown",
   "metadata": {},
   "source": [
    "# Nightly Pollutant Exposures and Sleep Quality\n",
    "The purpose of this notebook is to look at the in-depth relationships between IAQ and sleep quality, some of which has already been looked at in another notebook which has been copied here."
   ]
  },
  {
   "cell_type": "code",
   "execution_count": 37,
   "metadata": {},
   "outputs": [],
   "source": [
    "import os\n",
    "import sys\n",
    "sys.path.append('../')\n",
    "\n",
    "from src.visualization import visualize\n",
    "\n",
    "import pandas as pd\n",
    "pd.set_option('display.max_columns', 200)\n",
    "import numpy as np\n",
    "\n",
    "import math\n",
    "from datetime import datetime, timedelta\n",
    "\n",
    "import matplotlib.pyplot as plt\n",
    "from matplotlib import cm\n",
    "from matplotlib.colors import ListedColormap, LinearSegmentedColormap\n",
    "import seaborn as sns\n",
    "import matplotlib.dates as mdates\n",
    "from joypy import joyplot\n",
    "\n",
    "import statsmodels.api as sm\n",
    "from statsmodels.stats.multicomp import pairwise_tukeyhsd\n",
    "from scipy import stats"
   ]
  },
  {
   "cell_type": "markdown",
   "metadata": {},
   "source": [
    "# Data Import\n",
    "For this analysis we need all reports of sleep quality in addition to the IEQ data and ventilation rates"
   ]
  },
  {
   "cell_type": "markdown",
   "metadata": {},
   "source": [
    "### Fitbit Sleep Summary"
   ]
  },
  {
   "cell_type": "code",
   "execution_count": 38,
   "metadata": {},
   "outputs": [
    {
     "data": {
      "text/html": [
       "<div>\n",
       "<style scoped>\n",
       "    .dataframe tbody tr th:only-of-type {\n",
       "        vertical-align: middle;\n",
       "    }\n",
       "\n",
       "    .dataframe tbody tr th {\n",
       "        vertical-align: top;\n",
       "    }\n",
       "\n",
       "    .dataframe thead th {\n",
       "        text-align: right;\n",
       "    }\n",
       "</style>\n",
       "<table border=\"1\" class=\"dataframe\">\n",
       "  <thead>\n",
       "    <tr style=\"text-align: right;\">\n",
       "      <th></th>\n",
       "      <th>start_date</th>\n",
       "      <th>end_date</th>\n",
       "      <th>deep_count</th>\n",
       "      <th>deep_minutes</th>\n",
       "      <th>light_count</th>\n",
       "      <th>light_minutes</th>\n",
       "      <th>rem_count</th>\n",
       "      <th>rem_minutes</th>\n",
       "      <th>wake_count</th>\n",
       "      <th>wake_minutes</th>\n",
       "      <th>beiwe</th>\n",
       "      <th>efficiency</th>\n",
       "      <th>end_time</th>\n",
       "      <th>start_time</th>\n",
       "      <th>redcap</th>\n",
       "      <th>beacon</th>\n",
       "      <th>nrem_count</th>\n",
       "      <th>nrem_minutes</th>\n",
       "      <th>rem2nrem</th>\n",
       "      <th>tst_fb</th>\n",
       "      <th>rem_percent</th>\n",
       "      <th>nrem_percent</th>\n",
       "      <th>light_percent</th>\n",
       "      <th>deep_percent</th>\n",
       "      <th>waso</th>\n",
       "      <th>sol_fb</th>\n",
       "      <th>wol_fb</th>\n",
       "    </tr>\n",
       "  </thead>\n",
       "  <tbody>\n",
       "    <tr>\n",
       "      <th>0</th>\n",
       "      <td>2020-05-14</td>\n",
       "      <td>2020-05-14</td>\n",
       "      <td>5.0</td>\n",
       "      <td>84.0</td>\n",
       "      <td>20.0</td>\n",
       "      <td>213.0</td>\n",
       "      <td>10.0</td>\n",
       "      <td>82.0</td>\n",
       "      <td>21.0</td>\n",
       "      <td>27.0</td>\n",
       "      <td>hfttkth7</td>\n",
       "      <td>93.349754</td>\n",
       "      <td>2020-05-14 07:13:00</td>\n",
       "      <td>2020-05-14 00:27:00</td>\n",
       "      <td>NaN</td>\n",
       "      <td>NaN</td>\n",
       "      <td>25.0</td>\n",
       "      <td>297.0</td>\n",
       "      <td>0.276094</td>\n",
       "      <td>6.316667</td>\n",
       "      <td>0.216359</td>\n",
       "      <td>0.783641</td>\n",
       "      <td>0.562005</td>\n",
       "      <td>0.221636</td>\n",
       "      <td>18.5</td>\n",
       "      <td>8.5</td>\n",
       "      <td>0.0</td>\n",
       "    </tr>\n",
       "    <tr>\n",
       "      <th>1</th>\n",
       "      <td>2020-05-14</td>\n",
       "      <td>2020-05-15</td>\n",
       "      <td>4.0</td>\n",
       "      <td>95.0</td>\n",
       "      <td>31.0</td>\n",
       "      <td>250.0</td>\n",
       "      <td>6.0</td>\n",
       "      <td>47.0</td>\n",
       "      <td>33.0</td>\n",
       "      <td>101.0</td>\n",
       "      <td>hfttkth7</td>\n",
       "      <td>79.513185</td>\n",
       "      <td>2020-05-15 08:06:30</td>\n",
       "      <td>2020-05-14 23:53:30</td>\n",
       "      <td>NaN</td>\n",
       "      <td>NaN</td>\n",
       "      <td>35.0</td>\n",
       "      <td>345.0</td>\n",
       "      <td>0.136232</td>\n",
       "      <td>6.533333</td>\n",
       "      <td>0.119898</td>\n",
       "      <td>0.880102</td>\n",
       "      <td>0.637755</td>\n",
       "      <td>0.242347</td>\n",
       "      <td>68.5</td>\n",
       "      <td>0.0</td>\n",
       "      <td>32.5</td>\n",
       "    </tr>\n",
       "    <tr>\n",
       "      <th>2</th>\n",
       "      <td>2020-05-15</td>\n",
       "      <td>2020-05-16</td>\n",
       "      <td>2.0</td>\n",
       "      <td>47.0</td>\n",
       "      <td>17.0</td>\n",
       "      <td>190.0</td>\n",
       "      <td>8.0</td>\n",
       "      <td>50.0</td>\n",
       "      <td>20.0</td>\n",
       "      <td>42.0</td>\n",
       "      <td>hfttkth7</td>\n",
       "      <td>87.234043</td>\n",
       "      <td>2020-05-16 04:57:00</td>\n",
       "      <td>2020-05-15 23:28:00</td>\n",
       "      <td>NaN</td>\n",
       "      <td>NaN</td>\n",
       "      <td>19.0</td>\n",
       "      <td>237.0</td>\n",
       "      <td>0.210970</td>\n",
       "      <td>4.783333</td>\n",
       "      <td>0.174216</td>\n",
       "      <td>0.825784</td>\n",
       "      <td>0.662021</td>\n",
       "      <td>0.163763</td>\n",
       "      <td>19.5</td>\n",
       "      <td>11.5</td>\n",
       "      <td>11.0</td>\n",
       "    </tr>\n",
       "    <tr>\n",
       "      <th>3</th>\n",
       "      <td>2020-05-17</td>\n",
       "      <td>2020-05-17</td>\n",
       "      <td>5.0</td>\n",
       "      <td>78.0</td>\n",
       "      <td>21.0</td>\n",
       "      <td>242.0</td>\n",
       "      <td>11.0</td>\n",
       "      <td>83.0</td>\n",
       "      <td>25.0</td>\n",
       "      <td>44.0</td>\n",
       "      <td>hfttkth7</td>\n",
       "      <td>90.156600</td>\n",
       "      <td>2020-05-17 09:28:30</td>\n",
       "      <td>2020-05-17 02:01:30</td>\n",
       "      <td>NaN</td>\n",
       "      <td>NaN</td>\n",
       "      <td>26.0</td>\n",
       "      <td>320.0</td>\n",
       "      <td>0.259375</td>\n",
       "      <td>6.716667</td>\n",
       "      <td>0.205955</td>\n",
       "      <td>0.794045</td>\n",
       "      <td>0.600496</td>\n",
       "      <td>0.193548</td>\n",
       "      <td>23.0</td>\n",
       "      <td>12.5</td>\n",
       "      <td>8.5</td>\n",
       "    </tr>\n",
       "    <tr>\n",
       "      <th>4</th>\n",
       "      <td>2020-05-18</td>\n",
       "      <td>2020-05-18</td>\n",
       "      <td>5.0</td>\n",
       "      <td>96.0</td>\n",
       "      <td>20.0</td>\n",
       "      <td>167.0</td>\n",
       "      <td>14.0</td>\n",
       "      <td>88.0</td>\n",
       "      <td>28.0</td>\n",
       "      <td>65.0</td>\n",
       "      <td>hfttkth7</td>\n",
       "      <td>84.375000</td>\n",
       "      <td>2020-05-18 07:20:00</td>\n",
       "      <td>2020-05-18 00:24:00</td>\n",
       "      <td>NaN</td>\n",
       "      <td>NaN</td>\n",
       "      <td>25.0</td>\n",
       "      <td>263.0</td>\n",
       "      <td>0.334601</td>\n",
       "      <td>5.850000</td>\n",
       "      <td>0.250712</td>\n",
       "      <td>0.749288</td>\n",
       "      <td>0.475783</td>\n",
       "      <td>0.273504</td>\n",
       "      <td>53.5</td>\n",
       "      <td>11.5</td>\n",
       "      <td>0.0</td>\n",
       "    </tr>\n",
       "  </tbody>\n",
       "</table>\n",
       "</div>"
      ],
      "text/plain": [
       "  start_date   end_date  deep_count  deep_minutes  light_count  light_minutes  \\\n",
       "0 2020-05-14 2020-05-14         5.0          84.0         20.0          213.0   \n",
       "1 2020-05-14 2020-05-15         4.0          95.0         31.0          250.0   \n",
       "2 2020-05-15 2020-05-16         2.0          47.0         17.0          190.0   \n",
       "3 2020-05-17 2020-05-17         5.0          78.0         21.0          242.0   \n",
       "4 2020-05-18 2020-05-18         5.0          96.0         20.0          167.0   \n",
       "\n",
       "   rem_count  rem_minutes  wake_count  wake_minutes     beiwe  efficiency  \\\n",
       "0       10.0         82.0        21.0          27.0  hfttkth7   93.349754   \n",
       "1        6.0         47.0        33.0         101.0  hfttkth7   79.513185   \n",
       "2        8.0         50.0        20.0          42.0  hfttkth7   87.234043   \n",
       "3       11.0         83.0        25.0          44.0  hfttkth7   90.156600   \n",
       "4       14.0         88.0        28.0          65.0  hfttkth7   84.375000   \n",
       "\n",
       "             end_time          start_time  redcap  beacon  nrem_count  \\\n",
       "0 2020-05-14 07:13:00 2020-05-14 00:27:00     NaN     NaN        25.0   \n",
       "1 2020-05-15 08:06:30 2020-05-14 23:53:30     NaN     NaN        35.0   \n",
       "2 2020-05-16 04:57:00 2020-05-15 23:28:00     NaN     NaN        19.0   \n",
       "3 2020-05-17 09:28:30 2020-05-17 02:01:30     NaN     NaN        26.0   \n",
       "4 2020-05-18 07:20:00 2020-05-18 00:24:00     NaN     NaN        25.0   \n",
       "\n",
       "   nrem_minutes  rem2nrem    tst_fb  rem_percent  nrem_percent  light_percent  \\\n",
       "0         297.0  0.276094  6.316667     0.216359      0.783641       0.562005   \n",
       "1         345.0  0.136232  6.533333     0.119898      0.880102       0.637755   \n",
       "2         237.0  0.210970  4.783333     0.174216      0.825784       0.662021   \n",
       "3         320.0  0.259375  6.716667     0.205955      0.794045       0.600496   \n",
       "4         263.0  0.334601  5.850000     0.250712      0.749288       0.475783   \n",
       "\n",
       "   deep_percent  waso  sol_fb  wol_fb  \n",
       "0      0.221636  18.5     8.5     0.0  \n",
       "1      0.242347  68.5     0.0    32.5  \n",
       "2      0.163763  19.5    11.5    11.0  \n",
       "3      0.193548  23.0    12.5     8.5  \n",
       "4      0.273504  53.5    11.5     0.0  "
      ]
     },
     "execution_count": 38,
     "metadata": {},
     "output_type": "execute_result"
    }
   ],
   "source": [
    "fb_sleep = pd.read_csv(\"../data/processed/fitbit-sleep_summary-ux_s20.csv\",parse_dates=[\"start_time\",\"end_time\",\"start_date\",\"end_date\"],infer_datetime_format=True)#,index_col=[\"beiwe\",\"start_time\"])\n",
    "for stage in [\"rem\",\"nrem\"]:\n",
    "    fb_sleep[f\"{stage}_percent\"] = fb_sleep[f\"{stage}_minutes\"] / (fb_sleep[\"tst_fb\"]*60)\n",
    "fb_sleep.head()"
   ]
  },
  {
   "cell_type": "code",
   "execution_count": 39,
   "metadata": {},
   "outputs": [
    {
     "data": {
      "text/plain": [
       "56"
      ]
     },
     "execution_count": 39,
     "metadata": {},
     "output_type": "execute_result"
    }
   ],
   "source": [
    "len(fb_sleep[\"beiwe\"].unique())"
   ]
  },
  {
   "cell_type": "markdown",
   "metadata": {},
   "source": [
    "### Self-Report Sleep"
   ]
  },
  {
   "cell_type": "code",
   "execution_count": 40,
   "metadata": {},
   "outputs": [
    {
     "data": {
      "text/html": [
       "<div>\n",
       "<style scoped>\n",
       "    .dataframe tbody tr th:only-of-type {\n",
       "        vertical-align: middle;\n",
       "    }\n",
       "\n",
       "    .dataframe tbody tr th {\n",
       "        vertical-align: top;\n",
       "    }\n",
       "\n",
       "    .dataframe thead th {\n",
       "        text-align: right;\n",
       "    }\n",
       "</style>\n",
       "<table border=\"1\" class=\"dataframe\">\n",
       "  <thead>\n",
       "    <tr style=\"text-align: right;\">\n",
       "      <th></th>\n",
       "      <th>timestamp</th>\n",
       "      <th>beiwe</th>\n",
       "      <th>content</th>\n",
       "      <th>stress</th>\n",
       "      <th>lonely</th>\n",
       "      <th>sad</th>\n",
       "      <th>energy</th>\n",
       "      <th>tst</th>\n",
       "      <th>sol</th>\n",
       "      <th>naw</th>\n",
       "      <th>restful</th>\n",
       "      <th>redcap</th>\n",
       "      <th>beacon</th>\n",
       "    </tr>\n",
       "  </thead>\n",
       "  <tbody>\n",
       "    <tr>\n",
       "      <th>0</th>\n",
       "      <td>2020-05-13 09:10:27</td>\n",
       "      <td>qh34m4r9</td>\n",
       "      <td>3</td>\n",
       "      <td>0.0</td>\n",
       "      <td>0.0</td>\n",
       "      <td>0.0</td>\n",
       "      <td>1.0</td>\n",
       "      <td>8.0</td>\n",
       "      <td>20.0</td>\n",
       "      <td>2.0</td>\n",
       "      <td>3.0</td>\n",
       "      <td>68</td>\n",
       "      <td>19.0</td>\n",
       "    </tr>\n",
       "    <tr>\n",
       "      <th>1</th>\n",
       "      <td>2020-05-13 09:15:49</td>\n",
       "      <td>awa8uces</td>\n",
       "      <td>0.0</td>\n",
       "      <td>2.0</td>\n",
       "      <td>1.0</td>\n",
       "      <td>1.0</td>\n",
       "      <td>1.0</td>\n",
       "      <td>2.0</td>\n",
       "      <td>10.0</td>\n",
       "      <td>3.0</td>\n",
       "      <td>1.0</td>\n",
       "      <td>28</td>\n",
       "      <td>26.0</td>\n",
       "    </tr>\n",
       "    <tr>\n",
       "      <th>2</th>\n",
       "      <td>2020-05-13 09:42:19</td>\n",
       "      <td>xxvnhauv</td>\n",
       "      <td>1</td>\n",
       "      <td>1.0</td>\n",
       "      <td>1.0</td>\n",
       "      <td>3.0</td>\n",
       "      <td>0.0</td>\n",
       "      <td>6.0</td>\n",
       "      <td>30.0</td>\n",
       "      <td>3.0</td>\n",
       "      <td>1.0</td>\n",
       "      <td>21</td>\n",
       "      <td>22.0</td>\n",
       "    </tr>\n",
       "    <tr>\n",
       "      <th>3</th>\n",
       "      <td>2020-05-13 09:43:27</td>\n",
       "      <td>rvhdl2la</td>\n",
       "      <td>1</td>\n",
       "      <td>1.0</td>\n",
       "      <td>2.0</td>\n",
       "      <td>3.0</td>\n",
       "      <td>0.0</td>\n",
       "      <td>5.3</td>\n",
       "      <td>5.0</td>\n",
       "      <td>2.0</td>\n",
       "      <td>2.0</td>\n",
       "      <td>29</td>\n",
       "      <td>NaN</td>\n",
       "    </tr>\n",
       "    <tr>\n",
       "      <th>4</th>\n",
       "      <td>2020-05-13 10:11:51</td>\n",
       "      <td>q5y11ytm</td>\n",
       "      <td>3</td>\n",
       "      <td>1.0</td>\n",
       "      <td>0.0</td>\n",
       "      <td>1.0</td>\n",
       "      <td>2.0</td>\n",
       "      <td>2.0</td>\n",
       "      <td>10.0</td>\n",
       "      <td>0.0</td>\n",
       "      <td>0.0</td>\n",
       "      <td>48</td>\n",
       "      <td>NaN</td>\n",
       "    </tr>\n",
       "  </tbody>\n",
       "</table>\n",
       "</div>"
      ],
      "text/plain": [
       "            timestamp     beiwe content  stress  lonely  sad  energy  tst  \\\n",
       "0 2020-05-13 09:10:27  qh34m4r9       3     0.0     0.0  0.0     1.0  8.0   \n",
       "1 2020-05-13 09:15:49  awa8uces     0.0     2.0     1.0  1.0     1.0  2.0   \n",
       "2 2020-05-13 09:42:19  xxvnhauv       1     1.0     1.0  3.0     0.0  6.0   \n",
       "3 2020-05-13 09:43:27  rvhdl2la       1     1.0     2.0  3.0     0.0  5.3   \n",
       "4 2020-05-13 10:11:51  q5y11ytm       3     1.0     0.0  1.0     2.0  2.0   \n",
       "\n",
       "    sol  naw  restful  redcap  beacon  \n",
       "0  20.0  2.0      3.0      68    19.0  \n",
       "1  10.0  3.0      1.0      28    26.0  \n",
       "2  30.0  3.0      1.0      21    22.0  \n",
       "3   5.0  2.0      2.0      29     NaN  \n",
       "4  10.0  0.0      0.0      48     NaN  "
      ]
     },
     "execution_count": 40,
     "metadata": {},
     "output_type": "execute_result"
    }
   ],
   "source": [
    "beiwe_sleep = pd.read_csv(\"../data/processed/beiwe-morning_ema-ux_s20.csv\",parse_dates=[\"timestamp\"],infer_datetime_format=True)\n",
    "beiwe_sleep.head()"
   ]
  },
  {
   "cell_type": "markdown",
   "metadata": {},
   "source": [
    "### Beacon IAQ\n",
    "IAQ measurements courtesy of the beacons"
   ]
  },
  {
   "cell_type": "code",
   "execution_count": 41,
   "metadata": {},
   "outputs": [
    {
     "data": {
      "text/html": [
       "<div>\n",
       "<style scoped>\n",
       "    .dataframe tbody tr th:only-of-type {\n",
       "        vertical-align: middle;\n",
       "    }\n",
       "\n",
       "    .dataframe tbody tr th {\n",
       "        vertical-align: top;\n",
       "    }\n",
       "\n",
       "    .dataframe thead th {\n",
       "        text-align: right;\n",
       "    }\n",
       "</style>\n",
       "<table border=\"1\" class=\"dataframe\">\n",
       "  <thead>\n",
       "    <tr style=\"text-align: right;\">\n",
       "      <th></th>\n",
       "      <th>beacon</th>\n",
       "      <th>beiwe</th>\n",
       "      <th>redcap</th>\n",
       "      <th>start_time</th>\n",
       "      <th>end_time</th>\n",
       "      <th>tvoc_median</th>\n",
       "      <th>lux_median</th>\n",
       "      <th>co_median</th>\n",
       "      <th>co2_median</th>\n",
       "      <th>pm1_number_median</th>\n",
       "      <th>pm2p5_number_median</th>\n",
       "      <th>pm10_number_median</th>\n",
       "      <th>pm1_mass_median</th>\n",
       "      <th>pm2p5_mass_median</th>\n",
       "      <th>pm10_mass_median</th>\n",
       "      <th>temperature_c_median</th>\n",
       "      <th>rh_median</th>\n",
       "    </tr>\n",
       "  </thead>\n",
       "  <tbody>\n",
       "    <tr>\n",
       "      <th>0</th>\n",
       "      <td>1</td>\n",
       "      <td>kyj367pi</td>\n",
       "      <td>10</td>\n",
       "      <td>2020-06-10 23:05:00</td>\n",
       "      <td>2020-06-11 09:14:00</td>\n",
       "      <td>63.508824</td>\n",
       "      <td>0.0</td>\n",
       "      <td>0.000000e+00</td>\n",
       "      <td>607.609765</td>\n",
       "      <td>7.322099</td>\n",
       "      <td>7.641275</td>\n",
       "      <td>27.572210</td>\n",
       "      <td>0.456075</td>\n",
       "      <td>16.515731</td>\n",
       "      <td>1.898475</td>\n",
       "      <td>17.359939</td>\n",
       "      <td>39.483333</td>\n",
       "    </tr>\n",
       "    <tr>\n",
       "      <th>1</th>\n",
       "      <td>1</td>\n",
       "      <td>kyj367pi</td>\n",
       "      <td>10</td>\n",
       "      <td>2020-06-11 23:12:30</td>\n",
       "      <td>2020-06-12 09:14:30</td>\n",
       "      <td>225.128039</td>\n",
       "      <td>0.0</td>\n",
       "      <td>0.000000e+00</td>\n",
       "      <td>630.040491</td>\n",
       "      <td>14.058337</td>\n",
       "      <td>13.393014</td>\n",
       "      <td>62.818538</td>\n",
       "      <td>0.892219</td>\n",
       "      <td>34.128077</td>\n",
       "      <td>2.004953</td>\n",
       "      <td>16.455691</td>\n",
       "      <td>40.436667</td>\n",
       "    </tr>\n",
       "    <tr>\n",
       "      <th>2</th>\n",
       "      <td>1</td>\n",
       "      <td>kyj367pi</td>\n",
       "      <td>10</td>\n",
       "      <td>2020-06-17 22:55:30</td>\n",
       "      <td>2020-06-18 08:51:30</td>\n",
       "      <td>339.356742</td>\n",
       "      <td>0.0</td>\n",
       "      <td>9.251859e-19</td>\n",
       "      <td>616.201568</td>\n",
       "      <td>10.731803</td>\n",
       "      <td>10.305398</td>\n",
       "      <td>43.552369</td>\n",
       "      <td>0.656736</td>\n",
       "      <td>20.605142</td>\n",
       "      <td>1.909191</td>\n",
       "      <td>16.615442</td>\n",
       "      <td>45.706667</td>\n",
       "    </tr>\n",
       "    <tr>\n",
       "      <th>3</th>\n",
       "      <td>1</td>\n",
       "      <td>kyj367pi</td>\n",
       "      <td>10</td>\n",
       "      <td>2020-06-18 22:13:30</td>\n",
       "      <td>2020-06-19 08:42:00</td>\n",
       "      <td>327.725941</td>\n",
       "      <td>0.0</td>\n",
       "      <td>0.000000e+00</td>\n",
       "      <td>598.332358</td>\n",
       "      <td>10.976217</td>\n",
       "      <td>10.498097</td>\n",
       "      <td>44.709340</td>\n",
       "      <td>0.671372</td>\n",
       "      <td>20.834074</td>\n",
       "      <td>1.908418</td>\n",
       "      <td>18.173762</td>\n",
       "      <td>46.830000</td>\n",
       "    </tr>\n",
       "    <tr>\n",
       "      <th>4</th>\n",
       "      <td>1</td>\n",
       "      <td>kyj367pi</td>\n",
       "      <td>10</td>\n",
       "      <td>2020-06-20 23:06:30</td>\n",
       "      <td>2020-06-21 07:43:00</td>\n",
       "      <td>336.387886</td>\n",
       "      <td>0.0</td>\n",
       "      <td>0.000000e+00</td>\n",
       "      <td>585.162549</td>\n",
       "      <td>8.196889</td>\n",
       "      <td>8.283711</td>\n",
       "      <td>31.361368</td>\n",
       "      <td>0.504261</td>\n",
       "      <td>15.928621</td>\n",
       "      <td>1.884694</td>\n",
       "      <td>17.359939</td>\n",
       "      <td>47.862500</td>\n",
       "    </tr>\n",
       "  </tbody>\n",
       "</table>\n",
       "</div>"
      ],
      "text/plain": [
       "   beacon     beiwe  redcap          start_time            end_time  \\\n",
       "0       1  kyj367pi      10 2020-06-10 23:05:00 2020-06-11 09:14:00   \n",
       "1       1  kyj367pi      10 2020-06-11 23:12:30 2020-06-12 09:14:30   \n",
       "2       1  kyj367pi      10 2020-06-17 22:55:30 2020-06-18 08:51:30   \n",
       "3       1  kyj367pi      10 2020-06-18 22:13:30 2020-06-19 08:42:00   \n",
       "4       1  kyj367pi      10 2020-06-20 23:06:30 2020-06-21 07:43:00   \n",
       "\n",
       "   tvoc_median  lux_median     co_median  co2_median  pm1_number_median  \\\n",
       "0    63.508824         0.0  0.000000e+00  607.609765           7.322099   \n",
       "1   225.128039         0.0  0.000000e+00  630.040491          14.058337   \n",
       "2   339.356742         0.0  9.251859e-19  616.201568          10.731803   \n",
       "3   327.725941         0.0  0.000000e+00  598.332358          10.976217   \n",
       "4   336.387886         0.0  0.000000e+00  585.162549           8.196889   \n",
       "\n",
       "   pm2p5_number_median  pm10_number_median  pm1_mass_median  \\\n",
       "0             7.641275           27.572210         0.456075   \n",
       "1            13.393014           62.818538         0.892219   \n",
       "2            10.305398           43.552369         0.656736   \n",
       "3            10.498097           44.709340         0.671372   \n",
       "4             8.283711           31.361368         0.504261   \n",
       "\n",
       "   pm2p5_mass_median  pm10_mass_median  temperature_c_median  rh_median  \n",
       "0          16.515731          1.898475             17.359939  39.483333  \n",
       "1          34.128077          2.004953             16.455691  40.436667  \n",
       "2          20.605142          1.909191             16.615442  45.706667  \n",
       "3          20.834074          1.908418             18.173762  46.830000  \n",
       "4          15.928621          1.884694             17.359939  47.862500  "
      ]
     },
     "execution_count": 41,
     "metadata": {},
     "output_type": "execute_result"
    }
   ],
   "source": [
    "ieq_raw = pd.read_csv(\"../data/processed/beacon_by_night-ux_s20.csv\",parse_dates=[\"start_time\",\"end_time\",],infer_datetime_format=True)\n",
    "ieq_raw = ieq_raw[(ieq_raw[\"home\"] == 1) | (ieq_raw[\"increasing_co2\"] > 0.5)]\n",
    "ieq_raw = ieq_raw.groupby([\"beacon\",\"beiwe\",\"redcap\",\"start_time\",\"end_time\"]).median()\n",
    "ieq_raw = ieq_raw.add_suffix(\"_median\")\n",
    "ieq_raw.reset_index(inplace=True)\n",
    "ieq_raw.dropna(subset=[\"tvoc_median\",\"co_median\",\"co2_median\",\"pm2p5_mass_median\"],how=\"all\",inplace=True)\n",
    "ieq_ema_raw = ieq_raw[ieq_raw[\"ema_median\"] == 1]\n",
    "ieq_raw.drop([\"home_median\",\"increasing_co2_median\",\"ema_median\",\"no2_median\"],axis=\"columns\",inplace=True)\n",
    "ieq_ema_raw.drop([\"home_median\",\"increasing_co2_median\",\"ema_median\",\"no2_median\"],axis=\"columns\",inplace=True)\n",
    "ieq = ieq_raw.copy()\n",
    "ieq_ema = ieq_ema_raw.copy()\n",
    "ieq.head()"
   ]
  },
  {
   "cell_type": "code",
   "execution_count": 42,
   "metadata": {},
   "outputs": [
    {
     "name": "stdout",
     "output_type": "stream",
     "text": [
      "Beacons (20): [ 1  5  6  7 10 11 15 16 19 21 24 25 26 29 30 34 36 38 44 46]\n"
     ]
    }
   ],
   "source": [
    "print(f\"Beacons ({len(ieq['beacon'].unique())}): {ieq['beacon'].unique()}\")"
   ]
  },
  {
   "cell_type": "code",
   "execution_count": 43,
   "metadata": {},
   "outputs": [
    {
     "data": {
      "text/html": [
       "<div>\n",
       "<style scoped>\n",
       "    .dataframe tbody tr th:only-of-type {\n",
       "        vertical-align: middle;\n",
       "    }\n",
       "\n",
       "    .dataframe tbody tr th {\n",
       "        vertical-align: top;\n",
       "    }\n",
       "\n",
       "    .dataframe thead th {\n",
       "        text-align: right;\n",
       "    }\n",
       "</style>\n",
       "<table border=\"1\" class=\"dataframe\">\n",
       "  <thead>\n",
       "    <tr style=\"text-align: right;\">\n",
       "      <th></th>\n",
       "      <th>timestamp</th>\n",
       "      <th>utc</th>\n",
       "      <th>lat</th>\n",
       "      <th>long</th>\n",
       "      <th>altitude</th>\n",
       "      <th>accuracy</th>\n",
       "      <th>beiwe</th>\n",
       "    </tr>\n",
       "  </thead>\n",
       "  <tbody>\n",
       "    <tr>\n",
       "      <th>0</th>\n",
       "      <td>2020-05-06 01:00:00</td>\n",
       "      <td>2020-05-06T06:00:05.477</td>\n",
       "      <td>30.23705</td>\n",
       "      <td>-97.71051</td>\n",
       "      <td>135.77695</td>\n",
       "      <td>65.00000</td>\n",
       "      <td>15tejjtw</td>\n",
       "    </tr>\n",
       "    <tr>\n",
       "      <th>1</th>\n",
       "      <td>2020-05-06 02:05:00</td>\n",
       "      <td>2020-05-06T07:05:39.725</td>\n",
       "      <td>30.23706</td>\n",
       "      <td>-97.71049</td>\n",
       "      <td>135.84357</td>\n",
       "      <td>65.00000</td>\n",
       "      <td>15tejjtw</td>\n",
       "    </tr>\n",
       "    <tr>\n",
       "      <th>2</th>\n",
       "      <td>2020-05-06 02:06:00</td>\n",
       "      <td>2020-05-06T07:06:06.808</td>\n",
       "      <td>30.23706</td>\n",
       "      <td>-97.71049</td>\n",
       "      <td>135.84357</td>\n",
       "      <td>65.00000</td>\n",
       "      <td>15tejjtw</td>\n",
       "    </tr>\n",
       "    <tr>\n",
       "      <th>3</th>\n",
       "      <td>2020-05-06 03:01:00</td>\n",
       "      <td>2020-05-06T08:01:07.179</td>\n",
       "      <td>30.23716</td>\n",
       "      <td>-97.71047</td>\n",
       "      <td>139.34561</td>\n",
       "      <td>64.00967</td>\n",
       "      <td>15tejjtw</td>\n",
       "    </tr>\n",
       "    <tr>\n",
       "      <th>4</th>\n",
       "      <td>2020-05-06 03:02:00</td>\n",
       "      <td>2020-05-06T08:02:00.546</td>\n",
       "      <td>30.23716</td>\n",
       "      <td>-97.71047</td>\n",
       "      <td>139.34561</td>\n",
       "      <td>32.00483</td>\n",
       "      <td>15tejjtw</td>\n",
       "    </tr>\n",
       "  </tbody>\n",
       "</table>\n",
       "</div>"
      ],
      "text/plain": [
       "             timestamp                      utc       lat      long  \\\n",
       "0  2020-05-06 01:00:00  2020-05-06T06:00:05.477  30.23705 -97.71051   \n",
       "1  2020-05-06 02:05:00  2020-05-06T07:05:39.725  30.23706 -97.71049   \n",
       "2  2020-05-06 02:06:00  2020-05-06T07:06:06.808  30.23706 -97.71049   \n",
       "3  2020-05-06 03:01:00  2020-05-06T08:01:07.179  30.23716 -97.71047   \n",
       "4  2020-05-06 03:02:00  2020-05-06T08:02:00.546  30.23716 -97.71047   \n",
       "\n",
       "    altitude  accuracy     beiwe  \n",
       "0  135.77695  65.00000  15tejjtw  \n",
       "1  135.84357  65.00000  15tejjtw  \n",
       "2  135.84357  65.00000  15tejjtw  \n",
       "3  139.34561  64.00967  15tejjtw  \n",
       "4  139.34561  32.00483  15tejjtw  "
      ]
     },
     "execution_count": 43,
     "metadata": {},
     "output_type": "execute_result"
    }
   ],
   "source": [
    "gps = pd.read_csv(\"../data/processed/beiwe-gps-ux_s20.csv\")\n",
    "gps.head()"
   ]
  },
  {
   "cell_type": "code",
   "execution_count": 44,
   "metadata": {},
   "outputs": [
    {
     "data": {
      "text/plain": [
       "19"
      ]
     },
     "execution_count": 44,
     "metadata": {},
     "output_type": "execute_result"
    }
   ],
   "source": [
    "gps_inspection = gps.merge(right=ieq,on=[\"beiwe\"])\n",
    "len(gps_inspection[\"beiwe\"].unique())"
   ]
  },
  {
   "cell_type": "markdown",
   "metadata": {},
   "source": [
    "<div class=\"alert alert-block alert-warning\">\n",
    " \n",
    "**One** participant that we use in the analysis did not provide and GPS data.\n",
    "    \n",
    "</div>"
   ]
  },
  {
   "cell_type": "markdown",
   "metadata": {},
   "source": [
    "### Beacon Ventilation Estimates\n",
    "CO2-based ventilation rates"
   ]
  },
  {
   "cell_type": "code",
   "execution_count": 45,
   "metadata": {},
   "outputs": [
    {
     "data": {
      "text/html": [
       "<div>\n",
       "<style scoped>\n",
       "    .dataframe tbody tr th:only-of-type {\n",
       "        vertical-align: middle;\n",
       "    }\n",
       "\n",
       "    .dataframe tbody tr th {\n",
       "        vertical-align: top;\n",
       "    }\n",
       "\n",
       "    .dataframe thead th {\n",
       "        text-align: right;\n",
       "    }\n",
       "</style>\n",
       "<table border=\"1\" class=\"dataframe\">\n",
       "  <thead>\n",
       "    <tr style=\"text-align: right;\">\n",
       "      <th></th>\n",
       "      <th>beacon</th>\n",
       "      <th>beiwe</th>\n",
       "      <th>start</th>\n",
       "      <th>end</th>\n",
       "      <th>ach</th>\n",
       "      <th>method</th>\n",
       "      <th>end_date</th>\n",
       "    </tr>\n",
       "  </thead>\n",
       "  <tbody>\n",
       "    <tr>\n",
       "      <th>0</th>\n",
       "      <td>46.0</td>\n",
       "      <td>nvtfpaor</td>\n",
       "      <td>2020-07-18 12:42:00</td>\n",
       "      <td>2020-07-18 13:18:00</td>\n",
       "      <td>0.028</td>\n",
       "      <td>decay</td>\n",
       "      <td>2020-07-18</td>\n",
       "    </tr>\n",
       "    <tr>\n",
       "      <th>1</th>\n",
       "      <td>46.0</td>\n",
       "      <td>nvtfpaor</td>\n",
       "      <td>2020-07-18 15:00:00</td>\n",
       "      <td>2020-07-18 15:38:00</td>\n",
       "      <td>0.054</td>\n",
       "      <td>decay</td>\n",
       "      <td>2020-07-18</td>\n",
       "    </tr>\n",
       "    <tr>\n",
       "      <th>2</th>\n",
       "      <td>46.0</td>\n",
       "      <td>nvtfpaor</td>\n",
       "      <td>2020-07-24 11:24:00</td>\n",
       "      <td>2020-07-24 12:14:00</td>\n",
       "      <td>0.025</td>\n",
       "      <td>decay</td>\n",
       "      <td>2020-07-24</td>\n",
       "    </tr>\n",
       "    <tr>\n",
       "      <th>3</th>\n",
       "      <td>46.0</td>\n",
       "      <td>nvtfpaor</td>\n",
       "      <td>2020-07-24 13:06:00</td>\n",
       "      <td>2020-07-24 14:20:00</td>\n",
       "      <td>0.022</td>\n",
       "      <td>decay</td>\n",
       "      <td>2020-07-24</td>\n",
       "    </tr>\n",
       "    <tr>\n",
       "      <th>4</th>\n",
       "      <td>46.0</td>\n",
       "      <td>nvtfpaor</td>\n",
       "      <td>2020-08-14 12:50:00</td>\n",
       "      <td>2020-08-14 13:26:00</td>\n",
       "      <td>0.093</td>\n",
       "      <td>decay</td>\n",
       "      <td>2020-08-14</td>\n",
       "    </tr>\n",
       "  </tbody>\n",
       "</table>\n",
       "</div>"
      ],
      "text/plain": [
       "   beacon     beiwe               start                 end    ach method  \\\n",
       "0    46.0  nvtfpaor 2020-07-18 12:42:00 2020-07-18 13:18:00  0.028  decay   \n",
       "1    46.0  nvtfpaor 2020-07-18 15:00:00 2020-07-18 15:38:00  0.054  decay   \n",
       "2    46.0  nvtfpaor 2020-07-24 11:24:00 2020-07-24 12:14:00  0.025  decay   \n",
       "3    46.0  nvtfpaor 2020-07-24 13:06:00 2020-07-24 14:20:00  0.022  decay   \n",
       "4    46.0  nvtfpaor 2020-08-14 12:50:00 2020-08-14 13:26:00  0.093  decay   \n",
       "\n",
       "    end_date  \n",
       "0 2020-07-18  \n",
       "1 2020-07-18  \n",
       "2 2020-07-24  \n",
       "3 2020-07-24  \n",
       "4 2020-08-14  "
      ]
     },
     "execution_count": 45,
     "metadata": {},
     "output_type": "execute_result"
    }
   ],
   "source": [
    "aer = pd.read_csv(\"../data/processed/beacon-ventilation.csv\",parse_dates=[\"start\",\"end\"],infer_datetime_format=True)\n",
    "aer[\"end_date\"] = pd.to_datetime(aer[\"end\"].dt.date)\n",
    "aer.head()"
   ]
  },
  {
   "cell_type": "markdown",
   "metadata": {},
   "source": [
    "# Fitbit-Measured Sleep\n",
    "We start by looking at the response in Fitbit-measure sleep metrics"
   ]
  },
  {
   "cell_type": "code",
   "execution_count": 46,
   "metadata": {
    "scrolled": false
   },
   "outputs": [],
   "source": [
    "sleep_metrics = [\"efficiency\",\"rem2nrem\",\"tst_fb\",\"waso\",\"rem_percent\",\"nrem_percent\"]\n",
    "ieq_and_fb_sleep = ieq.merge(right=fb_sleep,on=[\"start_time\",\"end_time\",\"beiwe\",\"redcap\",\"beacon\"],how='inner', indicator=False)\n",
    "ieq_and_fb_sleep = ieq_and_fb_sleep[[column for column in ieq_and_fb_sleep.columns if not column.endswith(\"delta\")]]"
   ]
  },
  {
   "cell_type": "markdown",
   "metadata": {},
   "source": [
    "## Summary of Available Data\n",
    "We just look at a few key values from the merged dataset."
   ]
  },
  {
   "cell_type": "code",
   "execution_count": 47,
   "metadata": {},
   "outputs": [
    {
     "name": "stdout",
     "output_type": "stream",
     "text": [
      "Number of Observations: 488\n"
     ]
    }
   ],
   "source": [
    "print(\"Number of Observations:\", len(ieq_and_fb_sleep))"
   ]
  },
  {
   "cell_type": "code",
   "execution_count": 48,
   "metadata": {},
   "outputs": [
    {
     "name": "stdout",
     "output_type": "stream",
     "text": [
      "kyj367pi:\t26\n",
      "745vq78e:\t16\n",
      "itmylz3g:\t26\n",
      "zdpffrox:\t22\n",
      "xlw5ntd5:\t13\n",
      "i31pt4b4:\t23\n",
      "9jtzsuu8:\t25\n",
      "e73a1pd5:\t3\n",
      "qh34m4r9:\t48\n",
      "lkkjddam:\t51\n",
      "xdbdrk6e:\t11\n",
      "vr9j5rry:\t40\n",
      "awa8uces:\t27\n",
      "tmexej5v:\t43\n",
      "idbkjh8u:\t5\n",
      "rnse61g4:\t5\n",
      "tlmlq19s:\t69\n",
      "olaxadz5:\t25\n",
      "4i7679py:\t6\n",
      "nvtfpaor:\t4\n",
      "488\n"
     ]
    }
   ],
   "source": [
    "count = 0\n",
    "for pt in ieq_and_fb_sleep[\"beiwe\"].unique():\n",
    "    print(f\"{pt}:\\t{len(ieq_and_fb_sleep[ieq_and_fb_sleep['beiwe'] == pt])}\")\n",
    "    count += len(ieq_and_fb_sleep[ieq_and_fb_sleep['beiwe'] == pt])\n",
    "    \n",
    "print(count)"
   ]
  },
  {
   "cell_type": "code",
   "execution_count": 49,
   "metadata": {},
   "outputs": [
    {
     "data": {
      "text/plain": [
       "tlmlq19s    69\n",
       "lkkjddam    51\n",
       "qh34m4r9    48\n",
       "tmexej5v    43\n",
       "vr9j5rry    40\n",
       "awa8uces    27\n",
       "kyj367pi    26\n",
       "itmylz3g    26\n",
       "olaxadz5    25\n",
       "9jtzsuu8    25\n",
       "i31pt4b4    23\n",
       "zdpffrox    22\n",
       "745vq78e    16\n",
       "xlw5ntd5    13\n",
       "xdbdrk6e    11\n",
       "4i7679py     6\n",
       "idbkjh8u     5\n",
       "rnse61g4     5\n",
       "nvtfpaor     4\n",
       "e73a1pd5     3\n",
       "Name: beiwe, dtype: int64"
      ]
     },
     "execution_count": 49,
     "metadata": {},
     "output_type": "execute_result"
    }
   ],
   "source": [
    "ieq_and_fb_sleep[\"beiwe\"].value_counts()"
   ]
  },
  {
   "cell_type": "code",
   "execution_count": 50,
   "metadata": {},
   "outputs": [
    {
     "data": {
      "text/html": [
       "<div>\n",
       "<style scoped>\n",
       "    .dataframe tbody tr th:only-of-type {\n",
       "        vertical-align: middle;\n",
       "    }\n",
       "\n",
       "    .dataframe tbody tr th {\n",
       "        vertical-align: top;\n",
       "    }\n",
       "\n",
       "    .dataframe thead th {\n",
       "        text-align: right;\n",
       "    }\n",
       "</style>\n",
       "<table border=\"1\" class=\"dataframe\">\n",
       "  <thead>\n",
       "    <tr style=\"text-align: right;\">\n",
       "      <th></th>\n",
       "      <th>beacon</th>\n",
       "      <th>beiwe</th>\n",
       "      <th>redcap</th>\n",
       "      <th>start_time</th>\n",
       "      <th>end_time</th>\n",
       "      <th>tvoc_median</th>\n",
       "      <th>lux_median</th>\n",
       "      <th>co_median</th>\n",
       "      <th>co2_median</th>\n",
       "      <th>pm1_number_median</th>\n",
       "      <th>pm2p5_number_median</th>\n",
       "      <th>pm10_number_median</th>\n",
       "      <th>pm1_mass_median</th>\n",
       "      <th>pm2p5_mass_median</th>\n",
       "      <th>pm10_mass_median</th>\n",
       "      <th>temperature_c_median</th>\n",
       "      <th>rh_median</th>\n",
       "      <th>start_date</th>\n",
       "      <th>end_date</th>\n",
       "      <th>deep_count</th>\n",
       "      <th>deep_minutes</th>\n",
       "      <th>light_count</th>\n",
       "      <th>light_minutes</th>\n",
       "      <th>rem_count</th>\n",
       "      <th>rem_minutes</th>\n",
       "      <th>wake_count</th>\n",
       "      <th>wake_minutes</th>\n",
       "      <th>efficiency</th>\n",
       "      <th>nrem_count</th>\n",
       "      <th>nrem_minutes</th>\n",
       "      <th>rem2nrem</th>\n",
       "      <th>tst_fb</th>\n",
       "      <th>rem_percent</th>\n",
       "      <th>nrem_percent</th>\n",
       "      <th>light_percent</th>\n",
       "      <th>deep_percent</th>\n",
       "      <th>waso</th>\n",
       "      <th>sol_fb</th>\n",
       "      <th>wol_fb</th>\n",
       "    </tr>\n",
       "  </thead>\n",
       "  <tbody>\n",
       "    <tr>\n",
       "      <th>384</th>\n",
       "      <td>36</td>\n",
       "      <td>tlmlq19s</td>\n",
       "      <td>47</td>\n",
       "      <td>2020-06-18 00:41:30</td>\n",
       "      <td>2020-06-18 09:07:30</td>\n",
       "      <td>360.240851</td>\n",
       "      <td>0.000000e+00</td>\n",
       "      <td>1.497786</td>\n",
       "      <td>1132.266912</td>\n",
       "      <td>4.776011</td>\n",
       "      <td>5.244516</td>\n",
       "      <td>21.529328</td>\n",
       "      <td>0.424301</td>\n",
       "      <td>11.453546</td>\n",
       "      <td>2.132867</td>\n",
       "      <td>24.855975</td>\n",
       "      <td>37.486667</td>\n",
       "      <td>2020-06-18</td>\n",
       "      <td>2020-06-18</td>\n",
       "      <td>2.0</td>\n",
       "      <td>91.0</td>\n",
       "      <td>25.0</td>\n",
       "      <td>253.0</td>\n",
       "      <td>10.0</td>\n",
       "      <td>94.0</td>\n",
       "      <td>31.0</td>\n",
       "      <td>68.0</td>\n",
       "      <td>86.561265</td>\n",
       "      <td>27.0</td>\n",
       "      <td>344.0</td>\n",
       "      <td>0.273256</td>\n",
       "      <td>7.300000</td>\n",
       "      <td>0.214612</td>\n",
       "      <td>0.785388</td>\n",
       "      <td>0.577626</td>\n",
       "      <td>0.207763</td>\n",
       "      <td>49.5</td>\n",
       "      <td>5.5</td>\n",
       "      <td>13.0</td>\n",
       "    </tr>\n",
       "    <tr>\n",
       "      <th>385</th>\n",
       "      <td>36</td>\n",
       "      <td>tlmlq19s</td>\n",
       "      <td>47</td>\n",
       "      <td>2020-06-19 01:02:30</td>\n",
       "      <td>2020-06-19 08:02:00</td>\n",
       "      <td>258.611794</td>\n",
       "      <td>0.000000e+00</td>\n",
       "      <td>0.178302</td>\n",
       "      <td>931.606994</td>\n",
       "      <td>6.910497</td>\n",
       "      <td>7.429648</td>\n",
       "      <td>24.394913</td>\n",
       "      <td>0.559043</td>\n",
       "      <td>13.176838</td>\n",
       "      <td>2.254382</td>\n",
       "      <td>24.855975</td>\n",
       "      <td>38.603333</td>\n",
       "      <td>2020-06-19</td>\n",
       "      <td>2020-06-19</td>\n",
       "      <td>4.0</td>\n",
       "      <td>88.0</td>\n",
       "      <td>21.0</td>\n",
       "      <td>189.0</td>\n",
       "      <td>17.0</td>\n",
       "      <td>104.0</td>\n",
       "      <td>29.0</td>\n",
       "      <td>38.0</td>\n",
       "      <td>90.930788</td>\n",
       "      <td>25.0</td>\n",
       "      <td>277.0</td>\n",
       "      <td>0.375451</td>\n",
       "      <td>6.350000</td>\n",
       "      <td>0.272966</td>\n",
       "      <td>0.727034</td>\n",
       "      <td>0.496063</td>\n",
       "      <td>0.230971</td>\n",
       "      <td>33.5</td>\n",
       "      <td>4.5</td>\n",
       "      <td>0.0</td>\n",
       "    </tr>\n",
       "    <tr>\n",
       "      <th>386</th>\n",
       "      <td>36</td>\n",
       "      <td>tlmlq19s</td>\n",
       "      <td>47</td>\n",
       "      <td>2020-06-20 23:11:00</td>\n",
       "      <td>2020-06-21 09:18:00</td>\n",
       "      <td>71.531182</td>\n",
       "      <td>0.000000e+00</td>\n",
       "      <td>0.000000</td>\n",
       "      <td>584.071172</td>\n",
       "      <td>5.221514</td>\n",
       "      <td>6.041097</td>\n",
       "      <td>22.615977</td>\n",
       "      <td>0.474099</td>\n",
       "      <td>12.610691</td>\n",
       "      <td>2.233171</td>\n",
       "      <td>24.838949</td>\n",
       "      <td>37.938889</td>\n",
       "      <td>2020-06-20</td>\n",
       "      <td>2020-06-21</td>\n",
       "      <td>5.0</td>\n",
       "      <td>82.0</td>\n",
       "      <td>35.0</td>\n",
       "      <td>347.0</td>\n",
       "      <td>16.0</td>\n",
       "      <td>88.0</td>\n",
       "      <td>42.0</td>\n",
       "      <td>90.0</td>\n",
       "      <td>85.172982</td>\n",
       "      <td>40.0</td>\n",
       "      <td>429.0</td>\n",
       "      <td>0.205128</td>\n",
       "      <td>8.616667</td>\n",
       "      <td>0.170213</td>\n",
       "      <td>0.829787</td>\n",
       "      <td>0.671180</td>\n",
       "      <td>0.158607</td>\n",
       "      <td>90.0</td>\n",
       "      <td>0.0</td>\n",
       "      <td>0.0</td>\n",
       "    </tr>\n",
       "    <tr>\n",
       "      <th>387</th>\n",
       "      <td>36</td>\n",
       "      <td>tlmlq19s</td>\n",
       "      <td>47</td>\n",
       "      <td>2020-06-22 00:03:00</td>\n",
       "      <td>2020-06-22 07:37:00</td>\n",
       "      <td>308.519693</td>\n",
       "      <td>0.000000e+00</td>\n",
       "      <td>0.012553</td>\n",
       "      <td>877.197324</td>\n",
       "      <td>7.270339</td>\n",
       "      <td>8.017757</td>\n",
       "      <td>25.213914</td>\n",
       "      <td>0.595754</td>\n",
       "      <td>14.458021</td>\n",
       "      <td>2.375965</td>\n",
       "      <td>24.855975</td>\n",
       "      <td>39.613333</td>\n",
       "      <td>2020-06-22</td>\n",
       "      <td>2020-06-22</td>\n",
       "      <td>4.0</td>\n",
       "      <td>106.0</td>\n",
       "      <td>24.0</td>\n",
       "      <td>182.0</td>\n",
       "      <td>22.0</td>\n",
       "      <td>126.0</td>\n",
       "      <td>38.0</td>\n",
       "      <td>40.0</td>\n",
       "      <td>91.189427</td>\n",
       "      <td>28.0</td>\n",
       "      <td>288.0</td>\n",
       "      <td>0.437500</td>\n",
       "      <td>6.900000</td>\n",
       "      <td>0.304348</td>\n",
       "      <td>0.695652</td>\n",
       "      <td>0.439614</td>\n",
       "      <td>0.256039</td>\n",
       "      <td>31.0</td>\n",
       "      <td>9.0</td>\n",
       "      <td>0.0</td>\n",
       "    </tr>\n",
       "    <tr>\n",
       "      <th>388</th>\n",
       "      <td>36</td>\n",
       "      <td>tlmlq19s</td>\n",
       "      <td>47</td>\n",
       "      <td>2020-06-23 23:56:30</td>\n",
       "      <td>2020-06-24 07:45:00</td>\n",
       "      <td>365.334097</td>\n",
       "      <td>0.000000e+00</td>\n",
       "      <td>0.482662</td>\n",
       "      <td>939.844287</td>\n",
       "      <td>1.688566</td>\n",
       "      <td>2.265625</td>\n",
       "      <td>17.528063</td>\n",
       "      <td>0.236916</td>\n",
       "      <td>9.496766</td>\n",
       "      <td>2.008038</td>\n",
       "      <td>23.703927</td>\n",
       "      <td>36.143333</td>\n",
       "      <td>2020-06-23</td>\n",
       "      <td>2020-06-24</td>\n",
       "      <td>2.0</td>\n",
       "      <td>116.0</td>\n",
       "      <td>21.0</td>\n",
       "      <td>181.0</td>\n",
       "      <td>15.0</td>\n",
       "      <td>118.0</td>\n",
       "      <td>32.0</td>\n",
       "      <td>53.0</td>\n",
       "      <td>88.675214</td>\n",
       "      <td>23.0</td>\n",
       "      <td>297.0</td>\n",
       "      <td>0.397306</td>\n",
       "      <td>6.916667</td>\n",
       "      <td>0.284337</td>\n",
       "      <td>0.715663</td>\n",
       "      <td>0.436145</td>\n",
       "      <td>0.279518</td>\n",
       "      <td>53.0</td>\n",
       "      <td>0.0</td>\n",
       "      <td>0.0</td>\n",
       "    </tr>\n",
       "    <tr>\n",
       "      <th>...</th>\n",
       "      <td>...</td>\n",
       "      <td>...</td>\n",
       "      <td>...</td>\n",
       "      <td>...</td>\n",
       "      <td>...</td>\n",
       "      <td>...</td>\n",
       "      <td>...</td>\n",
       "      <td>...</td>\n",
       "      <td>...</td>\n",
       "      <td>...</td>\n",
       "      <td>...</td>\n",
       "      <td>...</td>\n",
       "      <td>...</td>\n",
       "      <td>...</td>\n",
       "      <td>...</td>\n",
       "      <td>...</td>\n",
       "      <td>...</td>\n",
       "      <td>...</td>\n",
       "      <td>...</td>\n",
       "      <td>...</td>\n",
       "      <td>...</td>\n",
       "      <td>...</td>\n",
       "      <td>...</td>\n",
       "      <td>...</td>\n",
       "      <td>...</td>\n",
       "      <td>...</td>\n",
       "      <td>...</td>\n",
       "      <td>...</td>\n",
       "      <td>...</td>\n",
       "      <td>...</td>\n",
       "      <td>...</td>\n",
       "      <td>...</td>\n",
       "      <td>...</td>\n",
       "      <td>...</td>\n",
       "      <td>...</td>\n",
       "      <td>...</td>\n",
       "      <td>...</td>\n",
       "      <td>...</td>\n",
       "      <td>...</td>\n",
       "    </tr>\n",
       "    <tr>\n",
       "      <th>448</th>\n",
       "      <td>36</td>\n",
       "      <td>tlmlq19s</td>\n",
       "      <td>47</td>\n",
       "      <td>2020-08-30 23:42:30</td>\n",
       "      <td>2020-08-31 07:26:00</td>\n",
       "      <td>13.649851</td>\n",
       "      <td>1.480297e-17</td>\n",
       "      <td>0.000000</td>\n",
       "      <td>634.841645</td>\n",
       "      <td>16.217220</td>\n",
       "      <td>16.413724</td>\n",
       "      <td>36.071167</td>\n",
       "      <td>1.110450</td>\n",
       "      <td>18.517417</td>\n",
       "      <td>2.606521</td>\n",
       "      <td>23.331913</td>\n",
       "      <td>44.200000</td>\n",
       "      <td>2020-08-30</td>\n",
       "      <td>2020-08-31</td>\n",
       "      <td>3.0</td>\n",
       "      <td>67.0</td>\n",
       "      <td>28.0</td>\n",
       "      <td>286.0</td>\n",
       "      <td>9.0</td>\n",
       "      <td>40.0</td>\n",
       "      <td>35.0</td>\n",
       "      <td>70.0</td>\n",
       "      <td>84.881210</td>\n",
       "      <td>31.0</td>\n",
       "      <td>353.0</td>\n",
       "      <td>0.113314</td>\n",
       "      <td>6.550000</td>\n",
       "      <td>0.101781</td>\n",
       "      <td>0.898219</td>\n",
       "      <td>0.727735</td>\n",
       "      <td>0.170483</td>\n",
       "      <td>64.5</td>\n",
       "      <td>0.0</td>\n",
       "      <td>5.5</td>\n",
       "    </tr>\n",
       "    <tr>\n",
       "      <th>449</th>\n",
       "      <td>36</td>\n",
       "      <td>tlmlq19s</td>\n",
       "      <td>47</td>\n",
       "      <td>2020-09-01 00:10:00</td>\n",
       "      <td>2020-09-01 06:59:00</td>\n",
       "      <td>269.353277</td>\n",
       "      <td>0.000000e+00</td>\n",
       "      <td>0.000000</td>\n",
       "      <td>705.238342</td>\n",
       "      <td>30.614872</td>\n",
       "      <td>30.102061</td>\n",
       "      <td>53.790747</td>\n",
       "      <td>1.951972</td>\n",
       "      <td>26.660680</td>\n",
       "      <td>3.117623</td>\n",
       "      <td>26.263403</td>\n",
       "      <td>47.035556</td>\n",
       "      <td>2020-09-01</td>\n",
       "      <td>2020-09-01</td>\n",
       "      <td>4.0</td>\n",
       "      <td>70.0</td>\n",
       "      <td>29.0</td>\n",
       "      <td>217.0</td>\n",
       "      <td>10.0</td>\n",
       "      <td>65.0</td>\n",
       "      <td>33.0</td>\n",
       "      <td>57.0</td>\n",
       "      <td>86.063570</td>\n",
       "      <td>33.0</td>\n",
       "      <td>287.0</td>\n",
       "      <td>0.226481</td>\n",
       "      <td>5.866667</td>\n",
       "      <td>0.184659</td>\n",
       "      <td>0.815341</td>\n",
       "      <td>0.616477</td>\n",
       "      <td>0.198864</td>\n",
       "      <td>57.0</td>\n",
       "      <td>0.0</td>\n",
       "      <td>0.0</td>\n",
       "    </tr>\n",
       "    <tr>\n",
       "      <th>450</th>\n",
       "      <td>36</td>\n",
       "      <td>tlmlq19s</td>\n",
       "      <td>47</td>\n",
       "      <td>2020-09-01 23:15:00</td>\n",
       "      <td>2020-09-02 07:49:30</td>\n",
       "      <td>119.915942</td>\n",
       "      <td>0.000000e+00</td>\n",
       "      <td>0.000000</td>\n",
       "      <td>663.676090</td>\n",
       "      <td>23.698259</td>\n",
       "      <td>24.264266</td>\n",
       "      <td>46.402345</td>\n",
       "      <td>1.593432</td>\n",
       "      <td>25.314300</td>\n",
       "      <td>3.108679</td>\n",
       "      <td>26.223677</td>\n",
       "      <td>47.193333</td>\n",
       "      <td>2020-09-01</td>\n",
       "      <td>2020-09-02</td>\n",
       "      <td>2.0</td>\n",
       "      <td>83.0</td>\n",
       "      <td>29.0</td>\n",
       "      <td>279.0</td>\n",
       "      <td>9.0</td>\n",
       "      <td>56.0</td>\n",
       "      <td>36.0</td>\n",
       "      <td>96.0</td>\n",
       "      <td>81.322957</td>\n",
       "      <td>31.0</td>\n",
       "      <td>362.0</td>\n",
       "      <td>0.154696</td>\n",
       "      <td>6.966667</td>\n",
       "      <td>0.133971</td>\n",
       "      <td>0.866029</td>\n",
       "      <td>0.667464</td>\n",
       "      <td>0.198565</td>\n",
       "      <td>86.5</td>\n",
       "      <td>0.0</td>\n",
       "      <td>9.5</td>\n",
       "    </tr>\n",
       "    <tr>\n",
       "      <th>451</th>\n",
       "      <td>36</td>\n",
       "      <td>tlmlq19s</td>\n",
       "      <td>47</td>\n",
       "      <td>2020-09-03 23:24:00</td>\n",
       "      <td>2020-09-04 08:10:30</td>\n",
       "      <td>330.801031</td>\n",
       "      <td>0.000000e+00</td>\n",
       "      <td>0.000000</td>\n",
       "      <td>1085.883453</td>\n",
       "      <td>6.359062</td>\n",
       "      <td>7.179247</td>\n",
       "      <td>24.159288</td>\n",
       "      <td>0.545154</td>\n",
       "      <td>14.071746</td>\n",
       "      <td>2.341806</td>\n",
       "      <td>25.690216</td>\n",
       "      <td>48.391667</td>\n",
       "      <td>2020-09-03</td>\n",
       "      <td>2020-09-04</td>\n",
       "      <td>2.0</td>\n",
       "      <td>99.0</td>\n",
       "      <td>30.0</td>\n",
       "      <td>281.0</td>\n",
       "      <td>9.0</td>\n",
       "      <td>66.0</td>\n",
       "      <td>36.0</td>\n",
       "      <td>80.0</td>\n",
       "      <td>84.790875</td>\n",
       "      <td>32.0</td>\n",
       "      <td>380.0</td>\n",
       "      <td>0.173684</td>\n",
       "      <td>7.433333</td>\n",
       "      <td>0.147982</td>\n",
       "      <td>0.852018</td>\n",
       "      <td>0.630045</td>\n",
       "      <td>0.221973</td>\n",
       "      <td>72.0</td>\n",
       "      <td>8.0</td>\n",
       "      <td>0.0</td>\n",
       "    </tr>\n",
       "    <tr>\n",
       "      <th>452</th>\n",
       "      <td>36</td>\n",
       "      <td>tlmlq19s</td>\n",
       "      <td>47</td>\n",
       "      <td>2020-09-07 00:46:00</td>\n",
       "      <td>2020-09-07 08:29:30</td>\n",
       "      <td>339.219393</td>\n",
       "      <td>0.000000e+00</td>\n",
       "      <td>0.000000</td>\n",
       "      <td>886.935244</td>\n",
       "      <td>14.181645</td>\n",
       "      <td>14.474800</td>\n",
       "      <td>33.600279</td>\n",
       "      <td>0.991652</td>\n",
       "      <td>17.780187</td>\n",
       "      <td>2.540371</td>\n",
       "      <td>25.616440</td>\n",
       "      <td>43.774444</td>\n",
       "      <td>2020-09-07</td>\n",
       "      <td>2020-09-07</td>\n",
       "      <td>3.0</td>\n",
       "      <td>102.0</td>\n",
       "      <td>23.0</td>\n",
       "      <td>208.0</td>\n",
       "      <td>13.0</td>\n",
       "      <td>94.0</td>\n",
       "      <td>31.0</td>\n",
       "      <td>59.0</td>\n",
       "      <td>87.257019</td>\n",
       "      <td>26.0</td>\n",
       "      <td>310.0</td>\n",
       "      <td>0.303226</td>\n",
       "      <td>6.733333</td>\n",
       "      <td>0.232673</td>\n",
       "      <td>0.767327</td>\n",
       "      <td>0.514851</td>\n",
       "      <td>0.252475</td>\n",
       "      <td>49.0</td>\n",
       "      <td>10.0</td>\n",
       "      <td>0.0</td>\n",
       "    </tr>\n",
       "  </tbody>\n",
       "</table>\n",
       "<p>69 rows × 39 columns</p>\n",
       "</div>"
      ],
      "text/plain": [
       "     beacon     beiwe  redcap          start_time            end_time  \\\n",
       "384      36  tlmlq19s      47 2020-06-18 00:41:30 2020-06-18 09:07:30   \n",
       "385      36  tlmlq19s      47 2020-06-19 01:02:30 2020-06-19 08:02:00   \n",
       "386      36  tlmlq19s      47 2020-06-20 23:11:00 2020-06-21 09:18:00   \n",
       "387      36  tlmlq19s      47 2020-06-22 00:03:00 2020-06-22 07:37:00   \n",
       "388      36  tlmlq19s      47 2020-06-23 23:56:30 2020-06-24 07:45:00   \n",
       "..      ...       ...     ...                 ...                 ...   \n",
       "448      36  tlmlq19s      47 2020-08-30 23:42:30 2020-08-31 07:26:00   \n",
       "449      36  tlmlq19s      47 2020-09-01 00:10:00 2020-09-01 06:59:00   \n",
       "450      36  tlmlq19s      47 2020-09-01 23:15:00 2020-09-02 07:49:30   \n",
       "451      36  tlmlq19s      47 2020-09-03 23:24:00 2020-09-04 08:10:30   \n",
       "452      36  tlmlq19s      47 2020-09-07 00:46:00 2020-09-07 08:29:30   \n",
       "\n",
       "     tvoc_median    lux_median  co_median   co2_median  pm1_number_median  \\\n",
       "384   360.240851  0.000000e+00   1.497786  1132.266912           4.776011   \n",
       "385   258.611794  0.000000e+00   0.178302   931.606994           6.910497   \n",
       "386    71.531182  0.000000e+00   0.000000   584.071172           5.221514   \n",
       "387   308.519693  0.000000e+00   0.012553   877.197324           7.270339   \n",
       "388   365.334097  0.000000e+00   0.482662   939.844287           1.688566   \n",
       "..           ...           ...        ...          ...                ...   \n",
       "448    13.649851  1.480297e-17   0.000000   634.841645          16.217220   \n",
       "449   269.353277  0.000000e+00   0.000000   705.238342          30.614872   \n",
       "450   119.915942  0.000000e+00   0.000000   663.676090          23.698259   \n",
       "451   330.801031  0.000000e+00   0.000000  1085.883453           6.359062   \n",
       "452   339.219393  0.000000e+00   0.000000   886.935244          14.181645   \n",
       "\n",
       "     pm2p5_number_median  pm10_number_median  pm1_mass_median  \\\n",
       "384             5.244516           21.529328         0.424301   \n",
       "385             7.429648           24.394913         0.559043   \n",
       "386             6.041097           22.615977         0.474099   \n",
       "387             8.017757           25.213914         0.595754   \n",
       "388             2.265625           17.528063         0.236916   \n",
       "..                   ...                 ...              ...   \n",
       "448            16.413724           36.071167         1.110450   \n",
       "449            30.102061           53.790747         1.951972   \n",
       "450            24.264266           46.402345         1.593432   \n",
       "451             7.179247           24.159288         0.545154   \n",
       "452            14.474800           33.600279         0.991652   \n",
       "\n",
       "     pm2p5_mass_median  pm10_mass_median  temperature_c_median  rh_median  \\\n",
       "384          11.453546          2.132867             24.855975  37.486667   \n",
       "385          13.176838          2.254382             24.855975  38.603333   \n",
       "386          12.610691          2.233171             24.838949  37.938889   \n",
       "387          14.458021          2.375965             24.855975  39.613333   \n",
       "388           9.496766          2.008038             23.703927  36.143333   \n",
       "..                 ...               ...                   ...        ...   \n",
       "448          18.517417          2.606521             23.331913  44.200000   \n",
       "449          26.660680          3.117623             26.263403  47.035556   \n",
       "450          25.314300          3.108679             26.223677  47.193333   \n",
       "451          14.071746          2.341806             25.690216  48.391667   \n",
       "452          17.780187          2.540371             25.616440  43.774444   \n",
       "\n",
       "    start_date   end_date  deep_count  deep_minutes  light_count  \\\n",
       "384 2020-06-18 2020-06-18         2.0          91.0         25.0   \n",
       "385 2020-06-19 2020-06-19         4.0          88.0         21.0   \n",
       "386 2020-06-20 2020-06-21         5.0          82.0         35.0   \n",
       "387 2020-06-22 2020-06-22         4.0         106.0         24.0   \n",
       "388 2020-06-23 2020-06-24         2.0         116.0         21.0   \n",
       "..         ...        ...         ...           ...          ...   \n",
       "448 2020-08-30 2020-08-31         3.0          67.0         28.0   \n",
       "449 2020-09-01 2020-09-01         4.0          70.0         29.0   \n",
       "450 2020-09-01 2020-09-02         2.0          83.0         29.0   \n",
       "451 2020-09-03 2020-09-04         2.0          99.0         30.0   \n",
       "452 2020-09-07 2020-09-07         3.0         102.0         23.0   \n",
       "\n",
       "     light_minutes  rem_count  rem_minutes  wake_count  wake_minutes  \\\n",
       "384          253.0       10.0         94.0        31.0          68.0   \n",
       "385          189.0       17.0        104.0        29.0          38.0   \n",
       "386          347.0       16.0         88.0        42.0          90.0   \n",
       "387          182.0       22.0        126.0        38.0          40.0   \n",
       "388          181.0       15.0        118.0        32.0          53.0   \n",
       "..             ...        ...          ...         ...           ...   \n",
       "448          286.0        9.0         40.0        35.0          70.0   \n",
       "449          217.0       10.0         65.0        33.0          57.0   \n",
       "450          279.0        9.0         56.0        36.0          96.0   \n",
       "451          281.0        9.0         66.0        36.0          80.0   \n",
       "452          208.0       13.0         94.0        31.0          59.0   \n",
       "\n",
       "     efficiency  nrem_count  nrem_minutes  rem2nrem    tst_fb  rem_percent  \\\n",
       "384   86.561265        27.0         344.0  0.273256  7.300000     0.214612   \n",
       "385   90.930788        25.0         277.0  0.375451  6.350000     0.272966   \n",
       "386   85.172982        40.0         429.0  0.205128  8.616667     0.170213   \n",
       "387   91.189427        28.0         288.0  0.437500  6.900000     0.304348   \n",
       "388   88.675214        23.0         297.0  0.397306  6.916667     0.284337   \n",
       "..          ...         ...           ...       ...       ...          ...   \n",
       "448   84.881210        31.0         353.0  0.113314  6.550000     0.101781   \n",
       "449   86.063570        33.0         287.0  0.226481  5.866667     0.184659   \n",
       "450   81.322957        31.0         362.0  0.154696  6.966667     0.133971   \n",
       "451   84.790875        32.0         380.0  0.173684  7.433333     0.147982   \n",
       "452   87.257019        26.0         310.0  0.303226  6.733333     0.232673   \n",
       "\n",
       "     nrem_percent  light_percent  deep_percent  waso  sol_fb  wol_fb  \n",
       "384      0.785388       0.577626      0.207763  49.5     5.5    13.0  \n",
       "385      0.727034       0.496063      0.230971  33.5     4.5     0.0  \n",
       "386      0.829787       0.671180      0.158607  90.0     0.0     0.0  \n",
       "387      0.695652       0.439614      0.256039  31.0     9.0     0.0  \n",
       "388      0.715663       0.436145      0.279518  53.0     0.0     0.0  \n",
       "..            ...            ...           ...   ...     ...     ...  \n",
       "448      0.898219       0.727735      0.170483  64.5     0.0     5.5  \n",
       "449      0.815341       0.616477      0.198864  57.0     0.0     0.0  \n",
       "450      0.866029       0.667464      0.198565  86.5     0.0     9.5  \n",
       "451      0.852018       0.630045      0.221973  72.0     8.0     0.0  \n",
       "452      0.767327       0.514851      0.252475  49.0    10.0     0.0  \n",
       "\n",
       "[69 rows x 39 columns]"
      ]
     },
     "execution_count": 50,
     "metadata": {},
     "output_type": "execute_result"
    }
   ],
   "source": [
    "ieq_and_fb_sleep[ieq_and_fb_sleep[\"beiwe\"] == \"tlmlq19s\"]"
   ]
  },
  {
   "cell_type": "code",
   "execution_count": 51,
   "metadata": {},
   "outputs": [
    {
     "name": "stdout",
     "output_type": "stream",
     "text": [
      "Number of Participants: 20\n"
     ]
    }
   ],
   "source": [
    "print(\"Number of Participants:\", len(ieq_and_fb_sleep[\"beiwe\"].unique()))"
   ]
  },
  {
   "cell_type": "code",
   "execution_count": 52,
   "metadata": {},
   "outputs": [],
   "source": [
    "def plot_data_availability_heatmap(df, df_filter='not', agg_str = \"\", save=False, save_dir='../reports/figures/'):\n",
    "    '''\n",
    "    Plots a heatmap showing number of nights the various beacons measured for each sensor\n",
    "    \n",
    "    Inputs\n",
    "    - df: dataframe with columns in columns_to_use\n",
    "    - df_filter: the naming convention of the filtering applied to the beacon - used when saving\n",
    "    - savefig: boolean specifying whether or not to save the file\n",
    "    - save_dir: string of the location to save the figure\n",
    "    \n",
    "    Returns the count dataframe used to generate the heatmap\n",
    "    '''\n",
    "    # filtering the dataframe to only include import vars\n",
    "    var_list = ['lux','tvoc','co2','co','pm2p5_mass']\n",
    "    columns_to_use = [column + agg_str for column in var_list] + ['beacon','start_time']\n",
    "    df_filtered = df.copy()[columns_to_use]\n",
    "    # dict to store the values\n",
    "    data = {f'lux{agg_str}':[],f'tvoc{agg_str}':[],f'co2{agg_str}':[],f'co{agg_str}':[],f'pm2p5_mass{agg_str}':[],'beacon':[]}\n",
    "    # looping through the dataframe to get the number of nights each beacon measured\n",
    "    for bb in df_filtered['beacon'].unique():\n",
    "        df_by_bb_by_night = df_filtered[df_filtered['beacon'] == bb]\n",
    "        for var in columns_to_use:\n",
    "            if var == \"start_time\":\n",
    "                pass\n",
    "            elif var == 'beacon':\n",
    "                data['beacon'].append(bb)\n",
    "            else:\n",
    "                data[var].append(df_by_bb_by_night.count()[var])\n",
    "\n",
    "    # formatting dataframe\n",
    "    df_count = pd.DataFrame(data=data,index=data['beacon'])\n",
    "    df_count.drop('beacon',axis=1,inplace=True)\n",
    "    df_count.sort_index(inplace=True)\n",
    "    \n",
    "    # plotting heatmap\n",
    "    fig, ax = plt.subplots(figsize=(12,5))\n",
    "    sns.heatmap(df_count.sort_values(by=f'lux{agg_str}').T,square=True,annot=True,fmt=\"d\",linewidths=.5,cmap=\"Blues\",vmin=0,vmax=70,cbar_kws={\"shrink\":0.5,\"pad\":0.02,\"ticks\":[0,10,20,30,40,50,60,70]},ax=ax)\n",
    "    # reformatting figure labels\n",
    "    ax.set_yticklabels(['Light','TVOC','CO$_2$','CO','PM$_{2.5}$'],rotation=0)\n",
    "    ax.set_xlabel('Beacon Number')\n",
    "    #ax.set_title('Number of Nights Measured by BEVO Beacon')\n",
    "    \n",
    "    # saving and showing\n",
    "    if save:\n",
    "        plt.savefig(f'{save_dir}beacon_{df_filter}_filtered-data_availability-heatmap-ux_s20.pdf',bbox_inches='tight')\n",
    "    plt.show()\n",
    "    plt.close()\n",
    "    \n",
    "    return df_count"
   ]
  },
  {
   "cell_type": "code",
   "execution_count": 53,
   "metadata": {},
   "outputs": [
    {
     "data": {
      "image/png": "[encoded data removed]",
      "text/plain": [
       "<Figure size 864x360 with 2 Axes>"
      ]
     },
     "metadata": {
      "needs_background": "light"
     },
     "output_type": "display_data"
    }
   ],
   "source": [
    "temp = plot_data_availability_heatmap(ieq_and_fb_sleep, agg_str=\"_median\",save=False)"
   ]
  },
  {
   "cell_type": "markdown",
   "metadata": {},
   "source": [
    "## Grouping Nights by Concentration\n",
    "We can group each of the nights based on the median concentration value for each pollutant can compare that to sleep quality. However, to do so requires that we establish thresholds for low and high concentrations:\n",
    "- **TVOCs**: The \"short and long-term\" [recommendation by the WHO](https://iaqscience.lbl.gov/voc-intro) is 100 ppb so `tvoc_threshold=100`\n",
    "- **NO$_2$**: EPA provides outdoor standards where the most strict standard is the annual exposure limit at 53 ppb. The EPA's [discussion on indoor](https://www.epa.gov/indoor-air-quality-iaq/nitrogen-dioxides-impact-indoor-air-quality) NO$_2$ states that indoor concentration \"[are] about half that of outdoors.\" Therefore, we will set `no2_threshold=25`. \n",
    "- **CO**: The WHO published a [study on CO guidelines](https://www.ncbi.nlm.nih.gov/books/NBK138710/) and recommended as low as 7 mg/m$^3$ which is approximately 6 ppm so `co_threshold=6`\n",
    "- **CO$_2$**: [OSHA](https://ohsonline.com/Articles/2016/04/01/Carbon-Dioxide-Detection-and-Indoor-Air-Quality-Control.aspx?m=1&Page=2) and ASHRAE generally agree that concentrations above 1100 ppm tend to create some issues so `co2_threshold=1100`\n",
    "- **PM2.5** (mass): Considering the EPA again, the outdoor annual exposure limit is 12 $\\mu$g/m$^3$ and the [EPA mentions](https://www.epa.gov/indoor-air-quality-iaq/indoor-particulate-matter#Levels_in_Homes) that concentrations indoors would mirror outdoor concentrations absent of any indoor sources. However, that threshold is still too high so we use the median concentration from the study: `pm2p5_mass_threshold=1.5`\n",
    "- **Temperature**: The ideal temperature range is between 60-67F which is lower than the minimum temperature that was measured. So we will use 27/80.6 (median temperature from the study) as a lower threshold and then increase slightly for the extra heat from the sensors so `temperature_c_threshold=27`."
   ]
  },
  {
   "cell_type": "markdown",
   "metadata": {},
   "source": [
    "### Visualizing and Running T-Test on Sleep Metrics\n",
    "Now we can look at the distribution of sleep metrics for each pollutant profile and run a T-Test to see if there are _significant_ differences between the sleep metric results."
   ]
  },
  {
   "cell_type": "code",
   "execution_count": 54,
   "metadata": {},
   "outputs": [],
   "source": [
    "def run_ttest_ieq_and_sleep(df, pollutants=[\"tvoc\",\"no2\",\"co\",\"co2\",\"pm2p5_mass\",\"temperature_c\"], limits=[200,1.5,3.6,1100,6,27], sleep_device=\"fitbit\", sleep_metrics=[\"tst_fb\",\"efficiency\",\"waso\",\"rem2nrem\"], pollutant_metric=\"median\", showfig=True, save=False):\n",
    "    \"\"\"\n",
    "    \n",
    "    \"\"\"\n",
    "    df_to_plot = df.copy()\n",
    "    # adding \"low\"/\"high\" column for each pollutant\n",
    "    thresholds = dict(zip(pollutants,limits))\n",
    "    for pollutant, threshold in thresholds.items():\n",
    "        df_to_plot[f\"{pollutant}_level\"] = np.where(df_to_plot[f\"{pollutant}_{pollutant_metric}\"] < threshold, \"low\",\"high\")\n",
    "    # creating dictionary to store p-values\n",
    "    ttest_results = {}\n",
    "    # looping through sleep metrics\n",
    "    for sleep_metric in sleep_metrics:\n",
    "        print(f\"Running for: {sleep_metric.split('_')[0]}\")\n",
    "        # expanding the df to allow for easier plotting\n",
    "        df_expanded = df_to_plot.melt(id_vars=[c for c in df_to_plot.columns if c.endswith(\"median\") or c == sleep_metric],value_vars=[c for c in df_to_plot.columns if c.endswith(\"level\")],value_name=\"level\")\n",
    "        # plotting\n",
    "        fig,ax = plt.subplots(figsize=(16,6))\n",
    "        sns.violinplot(x=\"variable\",y=sleep_metric,hue=\"level\",data=df_expanded,split=True,hue_order=[\"low\",\"high\"],palette={\"low\":\"white\",\"high\":\"#bf5700\"},inner=\"quartile\",cut=0,ax=ax)\n",
    "        # x-axis\n",
    "        ax.set_xticklabels([pollutant.split(\"_\")[0].upper().replace(\"O2\",\"O$_2$\").replace(\"2P5\",\"$_{2.5}$\").replace(\" C\",\"\").replace(\"TEMPERATURE\",\"T\") for pollutant in pollutants],fontsize=14)\n",
    "        ax.set_xlabel(\"\")\n",
    "        # y-axis\n",
    "        plt.setp(ax.get_yticklabels(), ha=\"right\", rotation=0, fontsize=14)\n",
    "        if sleep_metric not in [\"efficiency\"]:\n",
    "            ax.set_ylabel(sleep_metric.split(\"_\")[0].replace(\"2\",\":\").upper().replace(\"N\",\"n\"),fontsize=16)\n",
    "        else:\n",
    "            ax.set_ylabel(sleep_metric.title(),fontsize=16)\n",
    "        # Modifying Remainder\n",
    "        ax.legend(bbox_to_anchor=(1.1,0.75),frameon=False,ncol=1,fontsize=12,title_fontsize=14,title=\"Median\\nConcentration\")\n",
    "        for loc in [\"top\",\"right\"]:\n",
    "            ax.spines[loc].set_visible(False)\n",
    "\n",
    "        pvals = pd.DataFrame()\n",
    "        for pollutant in pollutants:\n",
    "            df = df_expanded[df_expanded[\"variable\"] == f\"{pollutant}_level\"]\n",
    "            low_vals = df[df[\"level\"] == \"low\"]\n",
    "            high_vals = df[df[\"level\"] == \"high\"]\n",
    "            _, p = stats.ttest_ind(low_vals[sleep_metric],high_vals[sleep_metric], equal_var=True)\n",
    "            pvals = pvals.append(pd.DataFrame({\"pollutant\":[pollutant],\"low\":[len(low_vals)],\"high\":[len(high_vals)],\"p_val\":[p]}))\n",
    "\n",
    "        ttest_results[sleep_metric.split(\"_\")[0]] = pvals.set_index(\"pollutant\")\n",
    "\n",
    "        # Annotating with p-values\n",
    "        xlocs = ax.get_xticks()\n",
    "        ax.text(ax.get_xlim()[0],ax.get_ylim()[1],\"          p:\",ha=\"center\",va=\"bottom\",fontsize=12)\n",
    "        for xloc, p in zip(xlocs,ttest_results[sleep_metric.split(\"_\")[0]][\"p_val\"]):\n",
    "            weight=\"bold\" if p < 0.05 else \"normal\"\n",
    "            val = round(p,3) if p > 0.001 else \"< 0.001\"\n",
    "            ax.text(xloc,ax.get_ylim()[1],val,fontsize=12,ha=\"center\",va=\"bottom\",weight=weight)\n",
    "            \n",
    "        if save:\n",
    "            plt.savefig(f'../../papers/5eea5276044b790001ee5687/figures/beacon-{sleep_device}-{pollutant_metric}_profile-{sleep_metric}-ux_s20.pdf',bbox_inches=\"tight\")\n",
    "            plt.savefig(f'../reports/figures/beacon_{sleep_device}/beacon-{sleep_device}-{pollutant_metric}_profile-{sleep_metric}-ux_s20.png',bbox_inches=\"tight\")\n",
    "\n",
    "        if showfig:\n",
    "            plt.show()\n",
    "            plt.close()\n",
    "            \n",
    "    return ttest_results\n",
    "    "
   ]
  },
  {
   "cell_type": "code",
   "execution_count": 55,
   "metadata": {},
   "outputs": [],
   "source": [
    "def get_night(val,threshold):\n",
    "    if math.isnan(val):\n",
    "        return np.nan\n",
    "    elif val < threshold:\n",
    "        return \"low\"\n",
    "    else:\n",
    "        return \"high\""
   ]
  },
  {
   "cell_type": "code",
   "execution_count": 56,
   "metadata": {},
   "outputs": [],
   "source": [
    "def plot_fb_sq_violins(df, pollutants=[\"tvoc\",\"no2\",\"co\",\"co2\",\"pm2p5_mass\",\"temperature_c\"], limits=[200,1.5,4,1100,6,25.2], sleep_device=\"fitbit\", sleep_metrics=[\"tst_fb\",\"efficiency\",\"waso\",\"rem2nrem\"], pollutant_metric=\"median\", annot=\"all\",save=False):\n",
    "    \"\"\"\n",
    "    \n",
    "    \"\"\"\n",
    "    legend_fs = 22\n",
    "    tick_fs = 24\n",
    "    label_fs = 26\n",
    "    title_fs = 32\n",
    "    df_to_plot = df.copy()\n",
    "    # adding \"low\"/\"high\" column for each pollutant\n",
    "    thresholds = dict(zip(pollutants,limits))\n",
    "    for pollutant, threshold in thresholds.items():\n",
    "        #df_to_plot[f\"{pollutant}_level\"] = np.where(df_to_plot[f\"{pollutant}_{pollutant_metric}\"] < threshold, \"low\",\"high\")\n",
    "        df_to_plot[f\"{pollutant}_level\"] = df_to_plot.apply(lambda x: get_night(x[f\"{pollutant}_{pollutant_metric}\"],threshold),axis=1)\n",
    "\n",
    "    # creating dictionary to store p-values\n",
    "    ttest_results = {}\n",
    "    # looping through sleep metrics\n",
    "    fig,axes = plt.subplots(len(sleep_metrics),1,figsize=(16,5*len(sleep_metrics)),sharex=True)\n",
    "    try:\n",
    "        _ = len(axes)\n",
    "    except TypeError:\n",
    "        axes = [axes]\n",
    "    for sleep_metric, title, ax in zip(sleep_metrics,[\"a\",\"b\",\"c\",\"d\"],axes):\n",
    "        # expanding the df to allow for easier plotting\n",
    "        df_expanded = df_to_plot.melt(id_vars=[c for c in df_to_plot.columns if c.endswith(\"median\") or c == sleep_metric],value_vars=[c for c in df_to_plot.columns if c.endswith(\"level\")],value_name=\"level\")\n",
    "        # plotting\n",
    "        sns.violinplot(x=\"variable\",y=sleep_metric,hue=\"level\",data=df_expanded,split=True,hue_order=[\"low\",\"high\"],palette={\"low\":\"white\",\"high\":\"#bf5700\"},inner=None,cut=0,ax=ax)\n",
    "        # x-axis\n",
    "        ax.set_xticklabels([pollutant.split(\"_\")[0].upper().replace(\"O2\",\"O$_2$\").replace(\"2P5\",\"$_{2.5}$\").replace(\" C\",\"\").replace(\"TEMPERATURE\",\"T\") for pollutant in pollutants],fontsize=tick_fs)\n",
    "        ax.set_xlabel(\"\")\n",
    "        # y-axis\n",
    "        plt.setp(ax.get_yticklabels(), ha=\"right\", rotation=0, fontsize=tick_fs)\n",
    "        ax.set_ylabel(visualize.get_label(sleep_metric),fontsize=label_fs)\n",
    "        # Modifying Remainder\n",
    "        if sleep_metric == \"rem2nrem\":\n",
    "            ax.legend(loc=\"upper center\",bbox_to_anchor=(0.5,-0.075),frameon=False,ncol=2,fontsize=legend_fs,title_fontsize=tick_fs,title=\"Median Concentration\")\n",
    "        else:\n",
    "            ax.get_legend().remove()\n",
    "        for loc in [\"top\",\"right\"]:\n",
    "            ax.spines[loc].set_visible(False)\n",
    "            \n",
    "        ax.text(-0.075,0.95,title,fontsize=title_fs,transform=ax.transAxes)\n",
    "\n",
    "        pvals = pd.DataFrame()\n",
    "        for pollutant in pollutants:\n",
    "            df = df_expanded[df_expanded[\"variable\"] == f\"{pollutant}_level\"]\n",
    "            low_vals = df[df[\"level\"] == \"low\"]\n",
    "            high_vals = df[df[\"level\"] == \"high\"]\n",
    "            #print(f\"Number of high:\\t{len(high_vals)}\\nNumber of low:\\t{len(low_vals)}\")\n",
    "            _, p = stats.ttest_ind(low_vals[sleep_metric],high_vals[sleep_metric], equal_var=True, nan_policy=\"omit\")\n",
    "            pvals = pvals.append(pd.DataFrame({\"pollutant\":[pollutant],\"low\":[len(low_vals)],\"high\":[len(high_vals)],\n",
    "                                               \"mean_low\":[np.nanmean(low_vals[sleep_metric])],\"mean_high\":np.nanmean(high_vals[sleep_metric]),\"p_val\":[p]}))\n",
    "\n",
    "        ttest_results[sleep_metric.split(\"_\")[0]] = pvals.set_index(\"pollutant\")\n",
    "\n",
    "        # Annotating with p-values\n",
    "        xlocs = ax.get_xticks()\n",
    "        ax.text(ax.get_xlim()[0],ax.get_ylim()[1],\"          p:\",ha=\"center\",va=\"bottom\",fontsize=tick_fs)\n",
    "        for xloc, p in zip(xlocs,ttest_results[sleep_metric.split(\"_\")[0]][\"p_val\"]):\n",
    "            weight=\"bold\" if p < 0.05 else \"normal\"\n",
    "            val = round(p,3) if p > 0.001 else \"< 0.001\"\n",
    "            ax.text(xloc,ax.get_ylim()[1],val,fontsize=tick_fs,ha=\"center\",va=\"bottom\",weight=weight)\n",
    "            \n",
    "        if save:\n",
    "            plt.savefig(f'../../papers/5eea5276044b790001ee5687/figures/beacon-{sleep_device}-{pollutant_metric}_profile-{annot}-ux_s20.pdf',bbox_inches=\"tight\")\n",
    "            plt.savefig(f'../reports/figures/beacon_{sleep_device}/beacon-{sleep_device}-{pollutant_metric}_profile-{annot}-ux_s20.pdf',bbox_inches=\"tight\")\n",
    "\n",
    "    plt.show()\n",
    "    plt.close()\n",
    "    \n",
    "    return ttest_results\n",
    "    "
   ]
  },
  {
   "cell_type": "code",
   "execution_count": 57,
   "metadata": {},
   "outputs": [
    {
     "data": {
      "image/png": "[encoded data removed]",
      "text/plain": [
       "<Figure size 1152x360 with 1 Axes>"
      ]
     },
     "metadata": {
      "needs_background": "light"
     },
     "output_type": "display_data"
    }
   ],
   "source": [
    "temp = plot_fb_sq_violins(ieq_and_fb_sleep,pollutants=[\"tvoc\",\"co\",\"co2\",\"pm2p5_mass\",\"temperature_c\"],limits=[200,4,1100,6,25.2],sleep_metrics=[\"efficiency\"],pollutant_metric=\"median\",\n",
    "                          annot=\"se\",save=False)\n"
   ]
  },
  {
   "cell_type": "code",
   "execution_count": 97,
   "metadata": {},
   "outputs": [
    {
     "data": {
      "text/plain": [
       "{'tst':                low  high  mean_low  mean_high     p_val\n",
       " pollutant                                              \n",
       " tvoc            65   192  6.884615   6.878646  0.973156\n",
       " co             236    21  6.865254   7.047619  0.516933\n",
       " co2            172    85  6.985465   6.667059  0.051185\n",
       " pm2p5_mass      55   202  6.654545   6.941584  0.125976\n",
       " temperature_c  129   116  7.141473   6.697845  0.003673}"
      ]
     },
     "execution_count": 97,
     "metadata": {},
     "output_type": "execute_result"
    }
   ],
   "source": [
    "temp"
   ]
  },
  {
   "cell_type": "code",
   "execution_count": 59,
   "metadata": {},
   "outputs": [
    {
     "data": {
      "text/plain": [
       "0.11012290154729953"
      ]
     },
     "execution_count": 59,
     "metadata": {},
     "output_type": "execute_result"
    }
   ],
   "source": [
    "(temp[\"efficiency\"].loc[\"co2\",\"mean_low\"]) - (temp[\"efficiency\"].loc[\"co2\",\"mean_high\"])"
   ]
  },
  {
   "cell_type": "code",
   "execution_count": 60,
   "metadata": {},
   "outputs": [
    {
     "data": {
      "text/plain": [
       "1.6931257786225586"
      ]
     },
     "execution_count": 60,
     "metadata": {},
     "output_type": "execute_result"
    }
   ],
   "source": [
    "(temp[\"efficiency\"].loc[\"co\",\"mean_low\"]) - (temp[\"efficiency\"].loc[\"co\",\"mean_high\"])"
   ]
  },
  {
   "cell_type": "code",
   "execution_count": 61,
   "metadata": {},
   "outputs": [
    {
     "ename": "KeyError",
     "evalue": "'no2'",
     "output_type": "error",
     "traceback": [
      "\u001b[0;31m---------------------------------------------------------------------------\u001b[0m",
      "\u001b[0;31mKeyError\u001b[0m                                  Traceback (most recent call last)",
      "\u001b[0;32m~/opt/anaconda3/lib/python3.8/site-packages/pandas/core/indexes/base.py\u001b[0m in \u001b[0;36mget_loc\u001b[0;34m(self, key, method, tolerance)\u001b[0m\n\u001b[1;32m   3079\u001b[0m             \u001b[0;32mtry\u001b[0m\u001b[0;34m:\u001b[0m\u001b[0;34m\u001b[0m\u001b[0;34m\u001b[0m\u001b[0m\n\u001b[0;32m-> 3080\u001b[0;31m                 \u001b[0;32mreturn\u001b[0m \u001b[0mself\u001b[0m\u001b[0;34m.\u001b[0m\u001b[0m_engine\u001b[0m\u001b[0;34m.\u001b[0m\u001b[0mget_loc\u001b[0m\u001b[0;34m(\u001b[0m\u001b[0mcasted_key\u001b[0m\u001b[0;34m)\u001b[0m\u001b[0;34m\u001b[0m\u001b[0;34m\u001b[0m\u001b[0m\n\u001b[0m\u001b[1;32m   3081\u001b[0m             \u001b[0;32mexcept\u001b[0m \u001b[0mKeyError\u001b[0m \u001b[0;32mas\u001b[0m \u001b[0merr\u001b[0m\u001b[0;34m:\u001b[0m\u001b[0;34m\u001b[0m\u001b[0;34m\u001b[0m\u001b[0m\n",
      "\u001b[0;32mpandas/_libs/index.pyx\u001b[0m in \u001b[0;36mpandas._libs.index.IndexEngine.get_loc\u001b[0;34m()\u001b[0m\n",
      "\u001b[0;32mpandas/_libs/index.pyx\u001b[0m in \u001b[0;36mpandas._libs.index.IndexEngine.get_loc\u001b[0;34m()\u001b[0m\n",
      "\u001b[0;32mpandas/_libs/hashtable_class_helper.pxi\u001b[0m in \u001b[0;36mpandas._libs.hashtable.PyObjectHashTable.get_item\u001b[0;34m()\u001b[0m\n",
      "\u001b[0;32mpandas/_libs/hashtable_class_helper.pxi\u001b[0m in \u001b[0;36mpandas._libs.hashtable.PyObjectHashTable.get_item\u001b[0;34m()\u001b[0m\n",
      "\u001b[0;31mKeyError\u001b[0m: 'no2'",
      "\nThe above exception was the direct cause of the following exception:\n",
      "\u001b[0;31mKeyError\u001b[0m                                  Traceback (most recent call last)",
      "\u001b[0;32m<ipython-input-61-57525de2adc4>\u001b[0m in \u001b[0;36m<module>\u001b[0;34m\u001b[0m\n\u001b[0;32m----> 1\u001b[0;31m \u001b[0;34m(\u001b[0m\u001b[0mtemp\u001b[0m\u001b[0;34m[\u001b[0m\u001b[0;34m\"efficiency\"\u001b[0m\u001b[0;34m]\u001b[0m\u001b[0;34m.\u001b[0m\u001b[0mloc\u001b[0m\u001b[0;34m[\u001b[0m\u001b[0;34m\"no2\"\u001b[0m\u001b[0;34m,\u001b[0m\u001b[0;34m\"mean_low\"\u001b[0m\u001b[0;34m]\u001b[0m\u001b[0;34m)\u001b[0m \u001b[0;34m-\u001b[0m \u001b[0;34m(\u001b[0m\u001b[0mtemp\u001b[0m\u001b[0;34m[\u001b[0m\u001b[0;34m\"efficiency\"\u001b[0m\u001b[0;34m]\u001b[0m\u001b[0;34m.\u001b[0m\u001b[0mloc\u001b[0m\u001b[0;34m[\u001b[0m\u001b[0;34m\"no2\"\u001b[0m\u001b[0;34m,\u001b[0m\u001b[0;34m\"mean_high\"\u001b[0m\u001b[0;34m]\u001b[0m\u001b[0;34m)\u001b[0m\u001b[0;34m\u001b[0m\u001b[0;34m\u001b[0m\u001b[0m\n\u001b[0m",
      "\u001b[0;32m~/opt/anaconda3/lib/python3.8/site-packages/pandas/core/indexing.py\u001b[0m in \u001b[0;36m__getitem__\u001b[0;34m(self, key)\u001b[0m\n\u001b[1;32m    887\u001b[0m                     \u001b[0;31m# AttributeError for IntervalTree get_value\u001b[0m\u001b[0;34m\u001b[0m\u001b[0;34m\u001b[0m\u001b[0;34m\u001b[0m\u001b[0m\n\u001b[1;32m    888\u001b[0m                     \u001b[0;32mreturn\u001b[0m \u001b[0mself\u001b[0m\u001b[0;34m.\u001b[0m\u001b[0mobj\u001b[0m\u001b[0;34m.\u001b[0m\u001b[0m_get_value\u001b[0m\u001b[0;34m(\u001b[0m\u001b[0;34m*\u001b[0m\u001b[0mkey\u001b[0m\u001b[0;34m,\u001b[0m \u001b[0mtakeable\u001b[0m\u001b[0;34m=\u001b[0m\u001b[0mself\u001b[0m\u001b[0;34m.\u001b[0m\u001b[0m_takeable\u001b[0m\u001b[0;34m)\u001b[0m\u001b[0;34m\u001b[0m\u001b[0;34m\u001b[0m\u001b[0m\n\u001b[0;32m--> 889\u001b[0;31m             \u001b[0;32mreturn\u001b[0m \u001b[0mself\u001b[0m\u001b[0;34m.\u001b[0m\u001b[0m_getitem_tuple\u001b[0m\u001b[0;34m(\u001b[0m\u001b[0mkey\u001b[0m\u001b[0;34m)\u001b[0m\u001b[0;34m\u001b[0m\u001b[0;34m\u001b[0m\u001b[0m\n\u001b[0m\u001b[1;32m    890\u001b[0m         \u001b[0;32melse\u001b[0m\u001b[0;34m:\u001b[0m\u001b[0;34m\u001b[0m\u001b[0;34m\u001b[0m\u001b[0m\n\u001b[1;32m    891\u001b[0m             \u001b[0;31m# we by definition only have the 0th axis\u001b[0m\u001b[0;34m\u001b[0m\u001b[0;34m\u001b[0m\u001b[0;34m\u001b[0m\u001b[0m\n",
      "\u001b[0;32m~/opt/anaconda3/lib/python3.8/site-packages/pandas/core/indexing.py\u001b[0m in \u001b[0;36m_getitem_tuple\u001b[0;34m(self, tup)\u001b[0m\n\u001b[1;32m   1058\u001b[0m     \u001b[0;32mdef\u001b[0m \u001b[0m_getitem_tuple\u001b[0m\u001b[0;34m(\u001b[0m\u001b[0mself\u001b[0m\u001b[0;34m,\u001b[0m \u001b[0mtup\u001b[0m\u001b[0;34m:\u001b[0m \u001b[0mTuple\u001b[0m\u001b[0;34m)\u001b[0m\u001b[0;34m:\u001b[0m\u001b[0;34m\u001b[0m\u001b[0;34m\u001b[0m\u001b[0m\n\u001b[1;32m   1059\u001b[0m         \u001b[0;32mwith\u001b[0m \u001b[0msuppress\u001b[0m\u001b[0;34m(\u001b[0m\u001b[0mIndexingError\u001b[0m\u001b[0;34m)\u001b[0m\u001b[0;34m:\u001b[0m\u001b[0;34m\u001b[0m\u001b[0;34m\u001b[0m\u001b[0m\n\u001b[0;32m-> 1060\u001b[0;31m             \u001b[0;32mreturn\u001b[0m \u001b[0mself\u001b[0m\u001b[0;34m.\u001b[0m\u001b[0m_getitem_lowerdim\u001b[0m\u001b[0;34m(\u001b[0m\u001b[0mtup\u001b[0m\u001b[0;34m)\u001b[0m\u001b[0;34m\u001b[0m\u001b[0;34m\u001b[0m\u001b[0m\n\u001b[0m\u001b[1;32m   1061\u001b[0m \u001b[0;34m\u001b[0m\u001b[0m\n\u001b[1;32m   1062\u001b[0m         \u001b[0;31m# no multi-index, so validate all of the indexers\u001b[0m\u001b[0;34m\u001b[0m\u001b[0;34m\u001b[0m\u001b[0;34m\u001b[0m\u001b[0m\n",
      "\u001b[0;32m~/opt/anaconda3/lib/python3.8/site-packages/pandas/core/indexing.py\u001b[0m in \u001b[0;36m_getitem_lowerdim\u001b[0;34m(self, tup)\u001b[0m\n\u001b[1;32m    805\u001b[0m                 \u001b[0;31m# We don't need to check for tuples here because those are\u001b[0m\u001b[0;34m\u001b[0m\u001b[0;34m\u001b[0m\u001b[0;34m\u001b[0m\u001b[0m\n\u001b[1;32m    806\u001b[0m                 \u001b[0;31m#  caught by the _is_nested_tuple_indexer check above.\u001b[0m\u001b[0;34m\u001b[0m\u001b[0;34m\u001b[0m\u001b[0;34m\u001b[0m\u001b[0m\n\u001b[0;32m--> 807\u001b[0;31m                 \u001b[0msection\u001b[0m \u001b[0;34m=\u001b[0m \u001b[0mself\u001b[0m\u001b[0;34m.\u001b[0m\u001b[0m_getitem_axis\u001b[0m\u001b[0;34m(\u001b[0m\u001b[0mkey\u001b[0m\u001b[0;34m,\u001b[0m \u001b[0maxis\u001b[0m\u001b[0;34m=\u001b[0m\u001b[0mi\u001b[0m\u001b[0;34m)\u001b[0m\u001b[0;34m\u001b[0m\u001b[0;34m\u001b[0m\u001b[0m\n\u001b[0m\u001b[1;32m    808\u001b[0m \u001b[0;34m\u001b[0m\u001b[0m\n\u001b[1;32m    809\u001b[0m                 \u001b[0;31m# We should never have a scalar section here, because\u001b[0m\u001b[0;34m\u001b[0m\u001b[0;34m\u001b[0m\u001b[0;34m\u001b[0m\u001b[0m\n",
      "\u001b[0;32m~/opt/anaconda3/lib/python3.8/site-packages/pandas/core/indexing.py\u001b[0m in \u001b[0;36m_getitem_axis\u001b[0;34m(self, key, axis)\u001b[0m\n\u001b[1;32m   1122\u001b[0m         \u001b[0;31m# fall thru to straight lookup\u001b[0m\u001b[0;34m\u001b[0m\u001b[0;34m\u001b[0m\u001b[0;34m\u001b[0m\u001b[0m\n\u001b[1;32m   1123\u001b[0m         \u001b[0mself\u001b[0m\u001b[0;34m.\u001b[0m\u001b[0m_validate_key\u001b[0m\u001b[0;34m(\u001b[0m\u001b[0mkey\u001b[0m\u001b[0;34m,\u001b[0m \u001b[0maxis\u001b[0m\u001b[0;34m)\u001b[0m\u001b[0;34m\u001b[0m\u001b[0;34m\u001b[0m\u001b[0m\n\u001b[0;32m-> 1124\u001b[0;31m         \u001b[0;32mreturn\u001b[0m \u001b[0mself\u001b[0m\u001b[0;34m.\u001b[0m\u001b[0m_get_label\u001b[0m\u001b[0;34m(\u001b[0m\u001b[0mkey\u001b[0m\u001b[0;34m,\u001b[0m \u001b[0maxis\u001b[0m\u001b[0;34m=\u001b[0m\u001b[0maxis\u001b[0m\u001b[0;34m)\u001b[0m\u001b[0;34m\u001b[0m\u001b[0;34m\u001b[0m\u001b[0m\n\u001b[0m\u001b[1;32m   1125\u001b[0m \u001b[0;34m\u001b[0m\u001b[0m\n\u001b[1;32m   1126\u001b[0m     \u001b[0;32mdef\u001b[0m \u001b[0m_get_slice_axis\u001b[0m\u001b[0;34m(\u001b[0m\u001b[0mself\u001b[0m\u001b[0;34m,\u001b[0m \u001b[0mslice_obj\u001b[0m\u001b[0;34m:\u001b[0m \u001b[0mslice\u001b[0m\u001b[0;34m,\u001b[0m \u001b[0maxis\u001b[0m\u001b[0;34m:\u001b[0m \u001b[0mint\u001b[0m\u001b[0;34m)\u001b[0m\u001b[0;34m:\u001b[0m\u001b[0;34m\u001b[0m\u001b[0;34m\u001b[0m\u001b[0m\n",
      "\u001b[0;32m~/opt/anaconda3/lib/python3.8/site-packages/pandas/core/indexing.py\u001b[0m in \u001b[0;36m_get_label\u001b[0;34m(self, label, axis)\u001b[0m\n\u001b[1;32m   1071\u001b[0m     \u001b[0;32mdef\u001b[0m \u001b[0m_get_label\u001b[0m\u001b[0;34m(\u001b[0m\u001b[0mself\u001b[0m\u001b[0;34m,\u001b[0m \u001b[0mlabel\u001b[0m\u001b[0;34m,\u001b[0m \u001b[0maxis\u001b[0m\u001b[0;34m:\u001b[0m \u001b[0mint\u001b[0m\u001b[0;34m)\u001b[0m\u001b[0;34m:\u001b[0m\u001b[0;34m\u001b[0m\u001b[0;34m\u001b[0m\u001b[0m\n\u001b[1;32m   1072\u001b[0m         \u001b[0;31m# GH#5667 this will fail if the label is not present in the axis.\u001b[0m\u001b[0;34m\u001b[0m\u001b[0;34m\u001b[0m\u001b[0;34m\u001b[0m\u001b[0m\n\u001b[0;32m-> 1073\u001b[0;31m         \u001b[0;32mreturn\u001b[0m \u001b[0mself\u001b[0m\u001b[0;34m.\u001b[0m\u001b[0mobj\u001b[0m\u001b[0;34m.\u001b[0m\u001b[0mxs\u001b[0m\u001b[0;34m(\u001b[0m\u001b[0mlabel\u001b[0m\u001b[0;34m,\u001b[0m \u001b[0maxis\u001b[0m\u001b[0;34m=\u001b[0m\u001b[0maxis\u001b[0m\u001b[0;34m)\u001b[0m\u001b[0;34m\u001b[0m\u001b[0;34m\u001b[0m\u001b[0m\n\u001b[0m\u001b[1;32m   1074\u001b[0m \u001b[0;34m\u001b[0m\u001b[0m\n\u001b[1;32m   1075\u001b[0m     \u001b[0;32mdef\u001b[0m \u001b[0m_handle_lowerdim_multi_index_axis0\u001b[0m\u001b[0;34m(\u001b[0m\u001b[0mself\u001b[0m\u001b[0;34m,\u001b[0m \u001b[0mtup\u001b[0m\u001b[0;34m:\u001b[0m \u001b[0mTuple\u001b[0m\u001b[0;34m)\u001b[0m\u001b[0;34m:\u001b[0m\u001b[0;34m\u001b[0m\u001b[0;34m\u001b[0m\u001b[0m\n",
      "\u001b[0;32m~/opt/anaconda3/lib/python3.8/site-packages/pandas/core/generic.py\u001b[0m in \u001b[0;36mxs\u001b[0;34m(self, key, axis, level, drop_level)\u001b[0m\n\u001b[1;32m   3737\u001b[0m                 \u001b[0;32mraise\u001b[0m \u001b[0mTypeError\u001b[0m\u001b[0;34m(\u001b[0m\u001b[0;34mf\"Expected label or tuple of labels, got {key}\"\u001b[0m\u001b[0;34m)\u001b[0m \u001b[0;32mfrom\u001b[0m \u001b[0me\u001b[0m\u001b[0;34m\u001b[0m\u001b[0;34m\u001b[0m\u001b[0m\n\u001b[1;32m   3738\u001b[0m         \u001b[0;32melse\u001b[0m\u001b[0;34m:\u001b[0m\u001b[0;34m\u001b[0m\u001b[0;34m\u001b[0m\u001b[0m\n\u001b[0;32m-> 3739\u001b[0;31m             \u001b[0mloc\u001b[0m \u001b[0;34m=\u001b[0m \u001b[0mindex\u001b[0m\u001b[0;34m.\u001b[0m\u001b[0mget_loc\u001b[0m\u001b[0;34m(\u001b[0m\u001b[0mkey\u001b[0m\u001b[0;34m)\u001b[0m\u001b[0;34m\u001b[0m\u001b[0;34m\u001b[0m\u001b[0m\n\u001b[0m\u001b[1;32m   3740\u001b[0m \u001b[0;34m\u001b[0m\u001b[0m\n\u001b[1;32m   3741\u001b[0m             \u001b[0;32mif\u001b[0m \u001b[0misinstance\u001b[0m\u001b[0;34m(\u001b[0m\u001b[0mloc\u001b[0m\u001b[0;34m,\u001b[0m \u001b[0mnp\u001b[0m\u001b[0;34m.\u001b[0m\u001b[0mndarray\u001b[0m\u001b[0;34m)\u001b[0m\u001b[0;34m:\u001b[0m\u001b[0;34m\u001b[0m\u001b[0;34m\u001b[0m\u001b[0m\n",
      "\u001b[0;32m~/opt/anaconda3/lib/python3.8/site-packages/pandas/core/indexes/base.py\u001b[0m in \u001b[0;36mget_loc\u001b[0;34m(self, key, method, tolerance)\u001b[0m\n\u001b[1;32m   3080\u001b[0m                 \u001b[0;32mreturn\u001b[0m \u001b[0mself\u001b[0m\u001b[0;34m.\u001b[0m\u001b[0m_engine\u001b[0m\u001b[0;34m.\u001b[0m\u001b[0mget_loc\u001b[0m\u001b[0;34m(\u001b[0m\u001b[0mcasted_key\u001b[0m\u001b[0;34m)\u001b[0m\u001b[0;34m\u001b[0m\u001b[0;34m\u001b[0m\u001b[0m\n\u001b[1;32m   3081\u001b[0m             \u001b[0;32mexcept\u001b[0m \u001b[0mKeyError\u001b[0m \u001b[0;32mas\u001b[0m \u001b[0merr\u001b[0m\u001b[0;34m:\u001b[0m\u001b[0;34m\u001b[0m\u001b[0;34m\u001b[0m\u001b[0m\n\u001b[0;32m-> 3082\u001b[0;31m                 \u001b[0;32mraise\u001b[0m \u001b[0mKeyError\u001b[0m\u001b[0;34m(\u001b[0m\u001b[0mkey\u001b[0m\u001b[0;34m)\u001b[0m \u001b[0;32mfrom\u001b[0m \u001b[0merr\u001b[0m\u001b[0;34m\u001b[0m\u001b[0;34m\u001b[0m\u001b[0m\n\u001b[0m\u001b[1;32m   3083\u001b[0m \u001b[0;34m\u001b[0m\u001b[0m\n\u001b[1;32m   3084\u001b[0m         \u001b[0;32mif\u001b[0m \u001b[0mtolerance\u001b[0m \u001b[0;32mis\u001b[0m \u001b[0;32mnot\u001b[0m \u001b[0;32mNone\u001b[0m\u001b[0;34m:\u001b[0m\u001b[0;34m\u001b[0m\u001b[0;34m\u001b[0m\u001b[0m\n",
      "\u001b[0;31mKeyError\u001b[0m: 'no2'"
     ]
    }
   ],
   "source": [
    "(temp[\"efficiency\"].loc[\"no2\",\"mean_low\"]) - (temp[\"efficiency\"].loc[\"no2\",\"mean_high\"])"
   ]
  },
  {
   "cell_type": "code",
   "execution_count": null,
   "metadata": {},
   "outputs": [],
   "source": [
    "(temp[\"rem2nrem\"].loc[\"tvoc\",\"mean_low\"] - temp[\"rem2nrem\"].loc[\"tvoc\",\"mean_high\"]) / temp[\"rem2nrem\"].loc[\"tvoc\",\"mean_low\"]"
   ]
  },
  {
   "cell_type": "code",
   "execution_count": null,
   "metadata": {
    "scrolled": false
   },
   "outputs": [],
   "source": [
    "#ttest_results = run_ttest_ieq_and_sleep(ieq_and_fb_sleep,save=False)"
   ]
  },
  {
   "cell_type": "markdown",
   "metadata": {},
   "source": [
    "## Ventilation\n",
    "Now we look at the relationship between ventilation and Fitbit-measured sleep metrics"
   ]
  },
  {
   "cell_type": "markdown",
   "metadata": {},
   "source": [
    "### Merging Datasets\n",
    "There are sometimes multiple ventilation rates per evening, but merging the datasets perserve these nights and duplicate the Fitbit measurements."
   ]
  },
  {
   "cell_type": "code",
   "execution_count": null,
   "metadata": {},
   "outputs": [],
   "source": [
    "aer_and_fb = aer.merge(right=fb_sleep,on=[\"beiwe\",\"end_date\"])\n",
    "aer_and_fb.head()"
   ]
  },
  {
   "cell_type": "code",
   "execution_count": null,
   "metadata": {},
   "outputs": [],
   "source": [
    "fig, axes = plt.subplots(1,len(sleep_metrics),figsize=(len(sleep_metrics)*6,6))\n",
    "for sleep_metric, ax in zip(sleep_metrics, axes):\n",
    "    sns.scatterplot(x=\"ach\",y=sleep_metric,hue=\"method\",data=aer_and_fb,\n",
    "                    palette=[\"cornflowerblue\",\"firebrick\"],s=50,ax=ax)\n",
    "    for loc in [\"top\",\"right\"]:\n",
    "        ax.spines[loc].set_visible(False)\n",
    "        \n",
    "    \n",
    "    ax.set_xlabel(\"ACH\",fontsize=12)\n",
    "    ax.set_ylabel(sleep_metric.split(\"_\")[0].upper(),fontsize=12)"
   ]
  },
  {
   "cell_type": "markdown",
   "metadata": {},
   "source": [
    "### Examining Distributions of Sleep Metrics Based on Low/High Ventilation Rates\n",
    "We can parse out the ventilation rates into `low` and `high` values by looking at some of the recommendations given by ASHRAE standard 62.2. The standard recommends a ventilation rate of 0.35 ACH per person. Most, if not all of our participants, should be the only occupants of their bedrooms. Therefore, we can use the 0.35 ACH as our cutoff point between the distributions."
   ]
  },
  {
   "cell_type": "code",
   "execution_count": null,
   "metadata": {},
   "outputs": [],
   "source": [
    "def plot_binary_violin(df_in, yvar=\"tst_fb\", binary_var=\"ventilation_quality\", ylabel=\"Sleep Time (h)\", save=False, save_dir=\"../reports/figures/beacon_fitbit\"):\n",
    "    \"\"\"Plots violin plots of concentration distributions for positive and negative restfulness scores\"\"\"\n",
    "    df = df_in.copy()\n",
    "    fig, ax = plt.subplots(figsize=(6,6))\n",
    "    df[\"target\"] = yvar\n",
    "    violin_axes = sns.violinplot(x=\"target\",y=yvar,hue=binary_var,split=True,palette=[\"white\",\"cornflowerblue\"],data=df,ax=ax,cut=0,inner=\"quartile\",)\n",
    "    for loc in [\"right\",\"top\",\"bottom\"]:\n",
    "        ax.spines[loc].set_visible(False)\n",
    "    ax.get_xaxis().set_visible(False)\n",
    "    ax.get_legend().remove()\n",
    "    ax.set_ylabel(ylabel,fontsize=18)\n",
    "    plt.yticks(fontsize=14)\n",
    "    ax.legend(title=\"Ventilation Quality\",ncol=1,frameon=False,title_fontsize=14,fontsize=12)\n",
    "\n",
    "    low_vals = df[df[binary_var] == \"Inadequate\"]\n",
    "    high_vals = df[df[binary_var] == \"Adequate\"]\n",
    "    _, p = stats.ttest_ind(low_vals[yvar],high_vals[yvar], equal_var=True, nan_policy=\"omit\")\n",
    "\n",
    "    if p > 0:\n",
    "        # Annotating with p-values\n",
    "        xloc = ax.get_xticks()\n",
    "        weight=\"bold\" if p < 0.05 else \"normal\"\n",
    "        ax.text(xloc-0.07,ax.get_ylim()[1],\"p: \",fontsize=12,ha=\"center\",va=\"bottom\")\n",
    "        ax.text(xloc,ax.get_ylim()[1],f\"{round(p,3)}\",fontsize=12,ha=\"center\",va=\"bottom\",weight=weight)\n",
    "\n",
    "    if save:\n",
    "        plt.savefig(f\"{save_dir}/{yvar}-{binary_var}-violin.pdf\", bbox_inches=\"tight\")\n",
    "        \n",
    "    plt.show()\n",
    "    plt.close()"
   ]
  },
  {
   "cell_type": "code",
   "execution_count": null,
   "metadata": {
    "scrolled": false
   },
   "outputs": [],
   "source": [
    "aer_and_fb[\"ventilation_quality\"] = [\"Adequate\" if rate >= 0.35 else \"Inadequate\" for rate in aer_and_fb[\"ach\"]]\n",
    "for sleep_metric in sleep_metrics:\n",
    "    plot_binary_violin(aer_and_fb, sleep_metric, ylabel=visualize.get_sleep_label(sleep_metric), save=False)"
   ]
  },
  {
   "cell_type": "markdown",
   "metadata": {},
   "source": [
    "# Self-Report Sleep Metrics\n",
    "Next, we see how the results change if we consider self-report sleep metrics."
   ]
  },
  {
   "cell_type": "markdown",
   "metadata": {},
   "source": [
    "## Pre-Processing\n",
    "There are a few tweaks to the original dataset that we want to make."
   ]
  },
  {
   "cell_type": "markdown",
   "metadata": {},
   "source": [
    "### Removing Outlier\n",
    "There are a few `sol` values that are uncharacteristically high"
   ]
  },
  {
   "cell_type": "code",
   "execution_count": 62,
   "metadata": {},
   "outputs": [],
   "source": [
    "def remove_outlier(df, var, extreme=\"z\",zscore=2.5):\n",
    "    if extreme == \"z\":\n",
    "        df['z'] = abs(df[var] - df[var].mean()) / df[var].std(ddof=0)\n",
    "        df[\"outlier\"] = df['z'] > zscore\n",
    "    else:\n",
    "        Q1 = df[var].quantile(0.25)\n",
    "        Q3 = df[var].quantile(0.75)\n",
    "        IQR = Q3 - Q1\n",
    "        print(\"df\")\n",
    "\n",
    "        # Filtering Values between Q1-1.5IQR and Q3+1.5IQR\n",
    "        df[\"outlier\"] = (df[var]<Q1-1.5*IQR) | (df[var]>Q3+1.5*IQR)\n",
    "        \n",
    "    df = df[df[\"outlier\"] == False]\n",
    "    df.drop([\"z\",\"outlier\"],axis=\"columns\",inplace=True)\n",
    "    return df"
   ]
  },
  {
   "cell_type": "code",
   "execution_count": 63,
   "metadata": {},
   "outputs": [],
   "source": [
    "beiwe_sleep = remove_outlier(beiwe_sleep,\"sol\")"
   ]
  },
  {
   "cell_type": "markdown",
   "metadata": {},
   "source": [
    "### Binary Restful and NAW Score\n",
    "We can group the restfulness score into a binary output:\n",
    "* negative: 0 or 1\n",
    "* positive: 2 or 3\n",
    "\n",
    "Similarly, NAW can be grouped based on:\n",
    "* negative: 2 or more\n",
    "* positive: less than 2"
   ]
  },
  {
   "cell_type": "code",
   "execution_count": 64,
   "metadata": {},
   "outputs": [],
   "source": [
    "beiwe_sleep[\"restful_binary\"] = [\"Positive\" if score > 1 else \"Negative\" for score in beiwe_sleep[\"restful\"]]\n",
    "beiwe_sleep[\"naw_binary\"] = [\"Low\" if n < 2 else \"High\" for n in beiwe_sleep[\"naw\"]]"
   ]
  },
  {
   "cell_type": "markdown",
   "metadata": {},
   "source": [
    "### Three-Point Scale\n",
    "Since the lowest `restful` score has so few respondents, we can group the restfulness scores into three bins which also normalizes the largest bin as the middle score (which is probably more accurate)."
   ]
  },
  {
   "cell_type": "code",
   "execution_count": 65,
   "metadata": {},
   "outputs": [],
   "source": [
    "beiwe_sleep[\"restful_three\"] = [score if score != 0 else 1 for score in beiwe_sleep[\"restful\"]]"
   ]
  },
  {
   "cell_type": "markdown",
   "metadata": {},
   "source": [
    "### Merging Datasets\n",
    "Two datasets need to be created:"
   ]
  },
  {
   "cell_type": "markdown",
   "metadata": {},
   "source": [
    "#### IEQ and and Beiwe"
   ]
  },
  {
   "cell_type": "code",
   "execution_count": 66,
   "metadata": {},
   "outputs": [],
   "source": [
    "beiwe_sleep[\"end_date\"] = pd.to_datetime(beiwe_sleep[\"timestamp\"].dt.date)\n",
    "ieq[\"end_date\"] = pd.to_datetime(ieq[\"end_time\"].dt.date)\n",
    "ieq_and_bw_sleep = ieq.merge(right=beiwe_sleep, on=[\"end_date\",\"beiwe\",\"redcap\",\"beacon\"])"
   ]
  },
  {
   "cell_type": "markdown",
   "metadata": {},
   "source": [
    "#### Ventilation Rates and Beiwe"
   ]
  },
  {
   "cell_type": "code",
   "execution_count": 67,
   "metadata": {},
   "outputs": [],
   "source": [
    "aer_and_bw = aer.merge(right=beiwe_sleep, on=[\"beiwe\",\"end_date\"])\n",
    "# converting to numeric because content was str\n",
    "for likert in [\"content\",\"stress\",\"energy\",\"lonely\",\"sad\",\"restful\"]:\n",
    "    aer_and_bw[likert] = pd.to_numeric(aer_and_bw[likert])"
   ]
  },
  {
   "cell_type": "markdown",
   "metadata": {},
   "source": [
    "#### Summarizing Results"
   ]
  },
  {
   "cell_type": "code",
   "execution_count": 68,
   "metadata": {},
   "outputs": [
    {
     "name": "stdout",
     "output_type": "stream",
     "text": [
      "Number of Observations: 257\n"
     ]
    }
   ],
   "source": [
    "print(\"Number of Observations:\", len(ieq_and_bw_sleep))"
   ]
  },
  {
   "cell_type": "code",
   "execution_count": 69,
   "metadata": {},
   "outputs": [
    {
     "name": "stdout",
     "output_type": "stream",
     "text": [
      "Number of Participants: 18\n"
     ]
    }
   ],
   "source": [
    "print(\"Number of Participants:\", len(ieq_and_bw_sleep[\"beiwe\"].unique()))"
   ]
  },
  {
   "cell_type": "code",
   "execution_count": 70,
   "metadata": {},
   "outputs": [
    {
     "data": {
      "image/png": "[encoded data removed]",
      "text/plain": [
       "<Figure size 864x360 with 2 Axes>"
      ]
     },
     "metadata": {
      "needs_background": "light"
     },
     "output_type": "display_data"
    }
   ],
   "source": [
    "temp = plot_data_availability_heatmap(ieq_and_bw_sleep,agg_str=\"_median\",save=False)"
   ]
  },
  {
   "cell_type": "markdown",
   "metadata": {},
   "source": [
    "## Restfulness Scores\n",
    "Restfulness scores lend themselves to some analysis on the concentrations by grouping by score"
   ]
  },
  {
   "cell_type": "markdown",
   "metadata": {},
   "source": [
    "### Joyplots\n",
    "We can construct some joyplots to get a sense of the data we have."
   ]
  },
  {
   "cell_type": "code",
   "execution_count": 71,
   "metadata": {},
   "outputs": [],
   "source": [
    "def plot_joyplot(df, pollutant_aggregate, by_var=\"restful\", save=False, save_dir=\"../reports/figures/beacon_ema\"):\n",
    "    \"\"\"Joyplot of pollutant aggregate profile for various restful scores\"\"\"\n",
    "    c = df[by_var].value_counts().sort_index()\n",
    "    new_labels = []\n",
    "    for i, count in enumerate(c):\n",
    "        new_labels.append(f\"{i} ({count})\")\n",
    "    fig, axes = joyplot(data=df,by=by_var,column=pollutant_aggregate,\n",
    "                kind='kde',overlap=1,ylim='own',grid=\"y\",labels=[\"\"]*len(c),alpha=1,linewidth=2,colormap=LinearSegmentedColormap.from_list(\"\", [\"white\",\"cornflowerblue\"]),figsize=(8,6))\n",
    "    agg = pollutant_aggregate.split(\"_\")[-1]\n",
    "    axes[-1].set_xlabel(f\"Nightly {pollutant_aggregate.split('_')[-1].title()} {visualize.get_pollutant_label(pollutant_aggregate.split(f'_{agg}')[0])} Concentration ({visualize.get_pollutant_units(pollutant_aggregate.split(f'_{agg}')[0])})\", fontsize=18)\n",
    "    for ax, label in zip(axes, new_labels):\n",
    "        ax.set_ylabel(label, rotation=0, va=\"top\", fontsize=14)\n",
    "        ax.set_xlim(left=0)\n",
    "        \n",
    "    plt.xticks(fontsize=14)\n",
    "    fig.text(-0.1,0.5,\"Restful Score (n)\", va=\"center\",fontsize=18,rotation=90)\n",
    "    if save:\n",
    "        plt.savefig(f\"{save_dir}/{pollutant_aggregate}-{by_var}-joyplot.pdf\", bbox_inches=\"tight\")\n",
    "    plt.show()\n",
    "    plt.close()"
   ]
  },
  {
   "cell_type": "code",
   "execution_count": null,
   "metadata": {
    "scrolled": true
   },
   "outputs": [],
   "source": [
    "for pollutant in [\"co2\",\"pm2p5_mass\",\"no2\",\"tvoc\",\"co\"]:\n",
    "    plot_joyplot(ieq_and_bw_sleep, f\"{pollutant}_median\")"
   ]
  },
  {
   "cell_type": "markdown",
   "metadata": {},
   "source": [
    "<div class=\"alert alert-block alert-success\">\n",
    " \n",
    "It looks like there is a relationship between the `restful` score and `co2` as well as `tvoc`. Rather than looking at the four scores, we could try lumping 0 and 1 together or just doing a positive/negative response.\n",
    "    \n",
    "</div>"
   ]
  },
  {
   "cell_type": "markdown",
   "metadata": {},
   "source": [
    "### Analysis on Three-Point Scale\n",
    "We can do some more interesting ANalaysis Of VAriance (ANOVA) on the three restfulness scores and see if there are significant differences between the distributions."
   ]
  },
  {
   "cell_type": "code",
   "execution_count": 72,
   "metadata": {
    "scrolled": true
   },
   "outputs": [
    {
     "name": "stdout",
     "output_type": "stream",
     "text": [
      "Standard Deviations of Distributions for CO$_2$\n",
      "\t 388.92759300082867\n",
      "\t 348.21925635110995\n",
      "\t 361.91479611415286\n",
      "  Multiple Comparison of Means - Tukey HSD, FWER=0.05   \n",
      "========================================================\n",
      "group1 group2  meandiff p-adj    lower    upper   reject\n",
      "--------------------------------------------------------\n",
      "   1.0    2.0 -157.5719 0.0448 -312.2569  -2.8868   True\n",
      "   1.0    3.0 -206.9776 0.0109 -374.4995 -39.4556   True\n",
      "   2.0    3.0  -49.4057 0.5982 -171.4305  72.6191  False\n",
      "--------------------------------------------------------\n",
      "Standard Deviations of Distributions for PM$_{2.5}$\n",
      "\t 8.37607011173978\n",
      "\t 8.066156314002463\n",
      "\t 6.92781744553562\n",
      "Multiple Comparison of Means - Tukey HSD, FWER=0.05\n",
      "===================================================\n",
      "group1 group2 meandiff p-adj   lower  upper  reject\n",
      "---------------------------------------------------\n",
      "   1.0    2.0   3.3877 0.0516  -0.018 6.7935  False\n",
      "   1.0    3.0    3.033   0.13 -0.6554 6.7213  False\n",
      "   2.0    3.0  -0.3548    0.9 -3.0414 2.3319  False\n",
      "---------------------------------------------------\n"
     ]
    },
    {
     "ename": "KeyError",
     "evalue": "\"['no2_median'] not in index\"",
     "output_type": "error",
     "traceback": [
      "\u001b[0;31m---------------------------------------------------------------------------\u001b[0m",
      "\u001b[0;31mKeyError\u001b[0m                                  Traceback (most recent call last)",
      "\u001b[0;32m<ipython-input-72-492e956e8328>\u001b[0m in \u001b[0;36m<module>\u001b[0;34m\u001b[0m\n\u001b[1;32m      1\u001b[0m \u001b[0;32mfor\u001b[0m \u001b[0mpollutant\u001b[0m \u001b[0;32min\u001b[0m \u001b[0;34m[\u001b[0m\u001b[0;34m\"co2\"\u001b[0m\u001b[0;34m,\u001b[0m\u001b[0;34m\"pm2p5_mass\"\u001b[0m\u001b[0;34m,\u001b[0m\u001b[0;34m\"no2\"\u001b[0m\u001b[0;34m,\u001b[0m\u001b[0;34m\"tvoc\"\u001b[0m\u001b[0;34m,\u001b[0m\u001b[0;34m\"co\"\u001b[0m\u001b[0;34m]\u001b[0m\u001b[0;34m:\u001b[0m\u001b[0;34m\u001b[0m\u001b[0;34m\u001b[0m\u001b[0m\n\u001b[0;32m----> 2\u001b[0;31m     \u001b[0mpollutant_df\u001b[0m \u001b[0;34m=\u001b[0m \u001b[0mieq_and_bw_sleep\u001b[0m\u001b[0;34m[\u001b[0m\u001b[0;34m[\u001b[0m\u001b[0;34mf\"{pollutant}_median\"\u001b[0m\u001b[0;34m,\u001b[0m\u001b[0;34m\"restful_three\"\u001b[0m\u001b[0;34m]\u001b[0m\u001b[0;34m]\u001b[0m\u001b[0;34m\u001b[0m\u001b[0;34m\u001b[0m\u001b[0m\n\u001b[0m\u001b[1;32m      3\u001b[0m     \u001b[0mpollutant_df\u001b[0m\u001b[0;34m.\u001b[0m\u001b[0mdropna\u001b[0m\u001b[0;34m(\u001b[0m\u001b[0msubset\u001b[0m\u001b[0;34m=\u001b[0m\u001b[0;34m[\u001b[0m\u001b[0;34m\"restful_three\"\u001b[0m\u001b[0;34m]\u001b[0m\u001b[0;34m,\u001b[0m\u001b[0minplace\u001b[0m\u001b[0;34m=\u001b[0m\u001b[0;32mTrue\u001b[0m\u001b[0;34m)\u001b[0m\u001b[0;34m\u001b[0m\u001b[0;34m\u001b[0m\u001b[0m\n\u001b[1;32m      4\u001b[0m     \u001b[0mgrps\u001b[0m \u001b[0;34m=\u001b[0m \u001b[0mpd\u001b[0m\u001b[0;34m.\u001b[0m\u001b[0munique\u001b[0m\u001b[0;34m(\u001b[0m\u001b[0mpollutant_df\u001b[0m\u001b[0;34m[\u001b[0m\u001b[0;34m\"restful_three\"\u001b[0m\u001b[0;34m]\u001b[0m\u001b[0;34m.\u001b[0m\u001b[0mvalues\u001b[0m\u001b[0;34m)\u001b[0m\u001b[0;34m\u001b[0m\u001b[0;34m\u001b[0m\u001b[0m\n\u001b[1;32m      5\u001b[0m     \u001b[0md_data\u001b[0m \u001b[0;34m=\u001b[0m \u001b[0;34m{\u001b[0m\u001b[0mgrp\u001b[0m\u001b[0;34m:\u001b[0m\u001b[0mpollutant_df\u001b[0m\u001b[0;34m[\u001b[0m\u001b[0;34mf\"{pollutant}_median\"\u001b[0m\u001b[0;34m]\u001b[0m\u001b[0;34m[\u001b[0m\u001b[0mpollutant_df\u001b[0m\u001b[0;34m[\u001b[0m\u001b[0;34m\"restful_three\"\u001b[0m\u001b[0;34m]\u001b[0m \u001b[0;34m==\u001b[0m \u001b[0mgrp\u001b[0m\u001b[0;34m]\u001b[0m \u001b[0;32mfor\u001b[0m \u001b[0mgrp\u001b[0m \u001b[0;32min\u001b[0m \u001b[0mgrps\u001b[0m\u001b[0;34m}\u001b[0m\u001b[0;34m\u001b[0m\u001b[0;34m\u001b[0m\u001b[0m\n",
      "\u001b[0;32m~/opt/anaconda3/lib/python3.8/site-packages/pandas/core/frame.py\u001b[0m in \u001b[0;36m__getitem__\u001b[0;34m(self, key)\u001b[0m\n\u001b[1;32m   3028\u001b[0m             \u001b[0;32mif\u001b[0m \u001b[0mis_iterator\u001b[0m\u001b[0;34m(\u001b[0m\u001b[0mkey\u001b[0m\u001b[0;34m)\u001b[0m\u001b[0;34m:\u001b[0m\u001b[0;34m\u001b[0m\u001b[0;34m\u001b[0m\u001b[0m\n\u001b[1;32m   3029\u001b[0m                 \u001b[0mkey\u001b[0m \u001b[0;34m=\u001b[0m \u001b[0mlist\u001b[0m\u001b[0;34m(\u001b[0m\u001b[0mkey\u001b[0m\u001b[0;34m)\u001b[0m\u001b[0;34m\u001b[0m\u001b[0;34m\u001b[0m\u001b[0m\n\u001b[0;32m-> 3030\u001b[0;31m             \u001b[0mindexer\u001b[0m \u001b[0;34m=\u001b[0m \u001b[0mself\u001b[0m\u001b[0;34m.\u001b[0m\u001b[0mloc\u001b[0m\u001b[0;34m.\u001b[0m\u001b[0m_get_listlike_indexer\u001b[0m\u001b[0;34m(\u001b[0m\u001b[0mkey\u001b[0m\u001b[0;34m,\u001b[0m \u001b[0maxis\u001b[0m\u001b[0;34m=\u001b[0m\u001b[0;36m1\u001b[0m\u001b[0;34m,\u001b[0m \u001b[0mraise_missing\u001b[0m\u001b[0;34m=\u001b[0m\u001b[0;32mTrue\u001b[0m\u001b[0;34m)\u001b[0m\u001b[0;34m[\u001b[0m\u001b[0;36m1\u001b[0m\u001b[0;34m]\u001b[0m\u001b[0;34m\u001b[0m\u001b[0;34m\u001b[0m\u001b[0m\n\u001b[0m\u001b[1;32m   3031\u001b[0m \u001b[0;34m\u001b[0m\u001b[0m\n\u001b[1;32m   3032\u001b[0m         \u001b[0;31m# take() does not accept boolean indexers\u001b[0m\u001b[0;34m\u001b[0m\u001b[0;34m\u001b[0m\u001b[0;34m\u001b[0m\u001b[0m\n",
      "\u001b[0;32m~/opt/anaconda3/lib/python3.8/site-packages/pandas/core/indexing.py\u001b[0m in \u001b[0;36m_get_listlike_indexer\u001b[0;34m(self, key, axis, raise_missing)\u001b[0m\n\u001b[1;32m   1264\u001b[0m             \u001b[0mkeyarr\u001b[0m\u001b[0;34m,\u001b[0m \u001b[0mindexer\u001b[0m\u001b[0;34m,\u001b[0m \u001b[0mnew_indexer\u001b[0m \u001b[0;34m=\u001b[0m \u001b[0max\u001b[0m\u001b[0;34m.\u001b[0m\u001b[0m_reindex_non_unique\u001b[0m\u001b[0;34m(\u001b[0m\u001b[0mkeyarr\u001b[0m\u001b[0;34m)\u001b[0m\u001b[0;34m\u001b[0m\u001b[0;34m\u001b[0m\u001b[0m\n\u001b[1;32m   1265\u001b[0m \u001b[0;34m\u001b[0m\u001b[0m\n\u001b[0;32m-> 1266\u001b[0;31m         \u001b[0mself\u001b[0m\u001b[0;34m.\u001b[0m\u001b[0m_validate_read_indexer\u001b[0m\u001b[0;34m(\u001b[0m\u001b[0mkeyarr\u001b[0m\u001b[0;34m,\u001b[0m \u001b[0mindexer\u001b[0m\u001b[0;34m,\u001b[0m \u001b[0maxis\u001b[0m\u001b[0;34m,\u001b[0m \u001b[0mraise_missing\u001b[0m\u001b[0;34m=\u001b[0m\u001b[0mraise_missing\u001b[0m\u001b[0;34m)\u001b[0m\u001b[0;34m\u001b[0m\u001b[0;34m\u001b[0m\u001b[0m\n\u001b[0m\u001b[1;32m   1267\u001b[0m         \u001b[0;32mreturn\u001b[0m \u001b[0mkeyarr\u001b[0m\u001b[0;34m,\u001b[0m \u001b[0mindexer\u001b[0m\u001b[0;34m\u001b[0m\u001b[0;34m\u001b[0m\u001b[0m\n\u001b[1;32m   1268\u001b[0m \u001b[0;34m\u001b[0m\u001b[0m\n",
      "\u001b[0;32m~/opt/anaconda3/lib/python3.8/site-packages/pandas/core/indexing.py\u001b[0m in \u001b[0;36m_validate_read_indexer\u001b[0;34m(self, key, indexer, axis, raise_missing)\u001b[0m\n\u001b[1;32m   1314\u001b[0m             \u001b[0;32mif\u001b[0m \u001b[0mraise_missing\u001b[0m\u001b[0;34m:\u001b[0m\u001b[0;34m\u001b[0m\u001b[0;34m\u001b[0m\u001b[0m\n\u001b[1;32m   1315\u001b[0m                 \u001b[0mnot_found\u001b[0m \u001b[0;34m=\u001b[0m \u001b[0mlist\u001b[0m\u001b[0;34m(\u001b[0m\u001b[0mset\u001b[0m\u001b[0;34m(\u001b[0m\u001b[0mkey\u001b[0m\u001b[0;34m)\u001b[0m \u001b[0;34m-\u001b[0m \u001b[0mset\u001b[0m\u001b[0;34m(\u001b[0m\u001b[0max\u001b[0m\u001b[0;34m)\u001b[0m\u001b[0;34m)\u001b[0m\u001b[0;34m\u001b[0m\u001b[0;34m\u001b[0m\u001b[0m\n\u001b[0;32m-> 1316\u001b[0;31m                 \u001b[0;32mraise\u001b[0m \u001b[0mKeyError\u001b[0m\u001b[0;34m(\u001b[0m\u001b[0;34mf\"{not_found} not in index\"\u001b[0m\u001b[0;34m)\u001b[0m\u001b[0;34m\u001b[0m\u001b[0;34m\u001b[0m\u001b[0m\n\u001b[0m\u001b[1;32m   1317\u001b[0m \u001b[0;34m\u001b[0m\u001b[0m\n\u001b[1;32m   1318\u001b[0m             \u001b[0mnot_found\u001b[0m \u001b[0;34m=\u001b[0m \u001b[0mkey\u001b[0m\u001b[0;34m[\u001b[0m\u001b[0mmissing_mask\u001b[0m\u001b[0;34m]\u001b[0m\u001b[0;34m\u001b[0m\u001b[0;34m\u001b[0m\u001b[0m\n",
      "\u001b[0;31mKeyError\u001b[0m: \"['no2_median'] not in index\""
     ]
    }
   ],
   "source": [
    "for pollutant in [\"co2\",\"pm2p5_mass\",\"no2\",\"tvoc\",\"co\"]:\n",
    "    pollutant_df = ieq_and_bw_sleep[[f\"{pollutant}_median\",\"restful_three\"]]\n",
    "    pollutant_df.dropna(subset=[\"restful_three\"],inplace=True)\n",
    "    grps = pd.unique(pollutant_df[\"restful_three\"].values)\n",
    "    d_data = {grp:pollutant_df[f\"{pollutant}_median\"][pollutant_df[\"restful_three\"] == grp] for grp in grps}\n",
    "    f, p = stats.f_oneway(d_data[1],d_data[2],d_data[3])\n",
    "    print(f\"Standard Deviations of Distributions for {visualize.get_pollutant_label(pollutant)}\")\n",
    "    for key in d_data.keys():\n",
    "        li = d_data[key]\n",
    "        print(\"\\t\", np.std(li))\n",
    "\n",
    "    m_comp = pairwise_tukeyhsd(endog=pollutant_df[f'{pollutant}_median'], groups=pollutant_df['restful_three'], alpha=0.05)\n",
    "    print(m_comp)"
   ]
  },
  {
   "cell_type": "markdown",
   "metadata": {},
   "source": [
    "<div class=\"alert alert-block alert-success\">\n",
    " \n",
    "Seems that there are significant differences for the `co2` and `co` concentration profiles between some restfulness scores. We can see better results if we consider only binary outputs for the `restful` score. \n",
    "    \n",
    "</div>"
   ]
  },
  {
   "cell_type": "markdown",
   "metadata": {},
   "source": [
    "### Binary Restfulness Scores\n",
    "By using the binary restfulness scores, we can create distributions of pollutants based on positive and negative restulfness scores."
   ]
  },
  {
   "cell_type": "code",
   "execution_count": 73,
   "metadata": {},
   "outputs": [],
   "source": [
    "def plot_restful_violin(df_in, target=\"co2_median\", save=False, save_dir=\"../reports/figures\", subfolder=\"beacon_ema\"):\n",
    "    \"\"\"Plots violin plots of concentration distributions for positive and negative restfulness scores\"\"\"\n",
    "    df = df_in.copy()\n",
    "    fig, ax = plt.subplots(figsize=(4,4))\n",
    "    df[\"target\"] = target\n",
    "    violin_axes = sns.violinplot(x=\"target\",y=target,hue=\"restful_binary\",hue_order=[\"Negative\",\"Positive\"],split=True,palette=[\"white\",\"seagreen\"],data=df,ax=ax,cut=0,inner=\"quartile\",)\n",
    "    for loc in [\"right\",\"top\",\"bottom\"]:\n",
    "        ax.spines[loc].set_visible(False)\n",
    "    ax.get_xaxis().set_visible(False)\n",
    "    ax.get_legend().remove()\n",
    "    if target.split(\"_\")[-1].lower() == \"median\":\n",
    "        ax.set_ylabel(f\"Nightly Median {visualize.get_pollutant_label(pollutant)} ({visualize.get_pollutant_units(pollutant)})\",fontsize=18)\n",
    "    else:\n",
    "        ax.set_ylabel(\"Ventilation Rate (ACH)\",fontsize=18)\n",
    "    plt.yticks(fontsize=14)\n",
    "    ax.legend(loc=\"center\",bbox_to_anchor=(0.5,-0.1),title=\"Restful Response\",ncol=2,frameon=False,title_fontsize=14,fontsize=12)\n",
    "\n",
    "    low_vals = df[df[\"restful_binary\"] == \"Negative\"]\n",
    "    high_vals = df[df[\"restful_binary\"] == \"Positive\"]\n",
    "    _, p = stats.ttest_ind(low_vals[target],high_vals[target], equal_var=True)\n",
    "\n",
    "    if p > 0:\n",
    "        # Annotating with p-values\n",
    "        xloc = ax.get_xticks()\n",
    "        weight=\"bold\" if p < 0.05 else \"normal\"\n",
    "        val = round(p,3) if p > 0.001 else \"< 0.001\"\n",
    "        ax.text(xloc,ax.get_ylim()[1],f\"p: {val}\",fontsize=12,ha=\"center\",va=\"bottom\",weight=weight)\n",
    "\n",
    "    if save:\n",
    "        plt.savefig(f\"{save_dir}/{subfolder}/{target}-binary_restful-violin.pdf\", bbox_inches=\"tight\")\n",
    "    plt.show()\n",
    "    plt.close()"
   ]
  },
  {
   "cell_type": "code",
   "execution_count": 93,
   "metadata": {},
   "outputs": [],
   "source": [
    "def plot_restful_violin_combined(df_in, sleep_metric=\"restful\", targets=[\"tvoc\",\"no2\",\"co\",\"co2\",\"pm2p5_mass\",\"temperature_c\"], hues=[\"Negative\",\"Positive\"], save=False, save_dir=\"../reports/figures\", subfolder=\"beacon_ema\",**kwargs):\n",
    "    \"\"\"Plots violin plots of concentration distributions for positive and negative restfulness scores\"\"\"\n",
    "    legend_fs = 22\n",
    "    tick_fs = 24\n",
    "    label_fs = 26\n",
    "    title_fs = 32\n",
    "    df = df_in.copy()\n",
    "    #ttest_results = {}\n",
    "    pvals = pd.DataFrame()\n",
    "    fig, axes = plt.subplots(2,3,figsize=(15,8),gridspec_kw={\"wspace\":0.5})\n",
    "    for target, ax in zip(targets,axes.flat):\n",
    "        target = target+\"_median\"\n",
    "        df[\"target\"] = target\n",
    "        violin_axes = sns.violinplot(x=\"target\",y=target,hue=f\"{sleep_metric}_binary\",hue_order=hues,split=True,palette=[\"white\",\"seagreen\"],data=df,ax=ax,cut=0,inner=None,)\n",
    "        for loc in [\"right\",\"top\",\"bottom\"]:\n",
    "            ax.spines[loc].set_visible(False)\n",
    "        ax.get_xaxis().set_visible(False)\n",
    "        ax.get_legend().remove()\n",
    "        ax.set_ylabel(f\"{visualize.get_pollutant_label(target.split('_median')[0])} ({visualize.get_pollutant_units(target.split('_median')[0])})\",fontsize=label_fs)\n",
    "        ax.tick_params(labelsize=tick_fs)\n",
    "        if \"ticks\" in kwargs.keys():\n",
    "            ax.set_yticks(kwargs[\"ticks\"][target.split('_median')[0]])\n",
    "        #if target == \"pm2p5_mass_median\":\n",
    "        #    if sleep_metric == \"restful\":\n",
    "          #      ax.legend(loc=\"center\",bbox_to_anchor=(0.5,-0.1),title=f\"Restfulness Rating\",ncol=2,frameon=False,title_fontsize=tick_fs,fontsize=legend_fs)\n",
    "           # else:\n",
    "            #    ax.legend(loc=\"center\",bbox_to_anchor=(0.5,-0.1),title=f\"Number of Awakenings\",ncol=2,frameon=False,title_fontsize=tick_fs,fontsize=legend_fs)\n",
    "\n",
    "        low_vals = df[df[f\"{sleep_metric}_binary\"] == hues[0]]\n",
    "        high_vals = df[df[f\"{sleep_metric}_binary\"] == hues[1]]\n",
    "        _, p = stats.ttest_ind(low_vals[target],high_vals[target], equal_var=True, nan_policy=\"omit\")\n",
    "        pvals = pvals.append(pd.DataFrame({\"pollutant\":[target],\"low\":[len(low_vals)],\"high\":[len(high_vals)],\n",
    "                                               \"mean_low\":[np.nanmean(low_vals[target])],\"mean_high\":np.nanmean(high_vals[target]),\"p_val\":[p]}))\n",
    "        \n",
    "        if p > 0:\n",
    "            # Annotating with p-values\n",
    "            xloc = ax.get_xticks()\n",
    "            weight=\"bold\" if p < 0.05 else \"normal\"\n",
    "            val = round(p,3) if p > 0.001 else \"< 0.001\"\n",
    "            ax.text(xloc,ax.get_ylim()[1],f\"p: {val}\",fontsize=tick_fs,ha=\"center\",va=\"bottom\",weight=weight)\n",
    "\n",
    "    if save:\n",
    "        plt.savefig(f\"{save_dir}/{subfolder}/all_ieq-binary_{sleep_metric}-violin.pdf\", bbox_inches=\"tight\")\n",
    "        plt.savefig(f'../../papers/5eea5276044b790001ee5687/figures/all_ieq-binary_{sleep_metric}-violin.pdf',bbox_inches=\"tight\")\n",
    "    plt.show()\n",
    "    plt.close()\n",
    "    \n",
    "    return pvals"
   ]
  },
  {
   "cell_type": "markdown",
   "metadata": {},
   "source": [
    "#### Pollutant Concentration Profiles and Restfulness Scores\n",
    "Here we look at the pollutant concentration profiles for `negative` and `positive` `restful` scores."
   ]
  },
  {
   "cell_type": "code",
   "execution_count": 94,
   "metadata": {},
   "outputs": [
    {
     "data": {
      "image/png": "[encoded data removed]",
      "text/plain": [
       "<Figure size 1080x576 with 6 Axes>"
      ]
     },
     "metadata": {
      "needs_background": "light"
     },
     "output_type": "display_data"
    },
    {
     "data": {
      "text/html": [
       "<div>\n",
       "<style scoped>\n",
       "    .dataframe tbody tr th:only-of-type {\n",
       "        vertical-align: middle;\n",
       "    }\n",
       "\n",
       "    .dataframe tbody tr th {\n",
       "        vertical-align: top;\n",
       "    }\n",
       "\n",
       "    .dataframe thead th {\n",
       "        text-align: right;\n",
       "    }\n",
       "</style>\n",
       "<table border=\"1\" class=\"dataframe\">\n",
       "  <thead>\n",
       "    <tr style=\"text-align: right;\">\n",
       "      <th></th>\n",
       "      <th>pollutant</th>\n",
       "      <th>low</th>\n",
       "      <th>high</th>\n",
       "      <th>mean_low</th>\n",
       "      <th>mean_high</th>\n",
       "      <th>p_val</th>\n",
       "    </tr>\n",
       "  </thead>\n",
       "  <tbody>\n",
       "    <tr>\n",
       "      <th>0</th>\n",
       "      <td>tvoc_median</td>\n",
       "      <td>41</td>\n",
       "      <td>216</td>\n",
       "      <td>293.630135</td>\n",
       "      <td>276.857867</td>\n",
       "      <td>0.467178</td>\n",
       "    </tr>\n",
       "    <tr>\n",
       "      <th>0</th>\n",
       "      <td>co_median</td>\n",
       "      <td>41</td>\n",
       "      <td>216</td>\n",
       "      <td>1.671728</td>\n",
       "      <td>0.491603</td>\n",
       "      <td>0.000029</td>\n",
       "    </tr>\n",
       "    <tr>\n",
       "      <th>0</th>\n",
       "      <td>co2_median</td>\n",
       "      <td>41</td>\n",
       "      <td>216</td>\n",
       "      <td>1191.225770</td>\n",
       "      <td>1016.393016</td>\n",
       "      <td>0.005258</td>\n",
       "    </tr>\n",
       "    <tr>\n",
       "      <th>0</th>\n",
       "      <td>pm2p5_mass_median</td>\n",
       "      <td>41</td>\n",
       "      <td>216</td>\n",
       "      <td>9.205152</td>\n",
       "      <td>12.283422</td>\n",
       "      <td>0.025231</td>\n",
       "    </tr>\n",
       "    <tr>\n",
       "      <th>0</th>\n",
       "      <td>temperature_c_median</td>\n",
       "      <td>41</td>\n",
       "      <td>216</td>\n",
       "      <td>25.444721</td>\n",
       "      <td>25.226375</td>\n",
       "      <td>0.671712</td>\n",
       "    </tr>\n",
       "  </tbody>\n",
       "</table>\n",
       "</div>"
      ],
      "text/plain": [
       "              pollutant  low  high     mean_low    mean_high     p_val\n",
       "0           tvoc_median   41   216   293.630135   276.857867  0.467178\n",
       "0             co_median   41   216     1.671728     0.491603  0.000029\n",
       "0            co2_median   41   216  1191.225770  1016.393016  0.005258\n",
       "0     pm2p5_mass_median   41   216     9.205152    12.283422  0.025231\n",
       "0  temperature_c_median   41   216    25.444721    25.226375  0.671712"
      ]
     },
     "execution_count": 94,
     "metadata": {},
     "output_type": "execute_result"
    }
   ],
   "source": [
    "plot_restful_violin_combined(ieq_and_bw_sleep, targets=[\"tvoc\",\"co\",\"co2\",\"pm2p5_mass\",\"temperature_c\"], \n",
    "                             ticks={\"tvoc\":range(0,1200,200),\"co\":range(0,16,4),\"co2\":range(400,3900,700),\"pm2p5_mass\":range(0,50,10),\"temperature_c\":range(18,35,5)},sleep_metric=\"restful\", save=True)\n"
   ]
  },
  {
   "cell_type": "code",
   "execution_count": 91,
   "metadata": {},
   "outputs": [
    {
     "name": "stdout",
     "output_type": "stream",
     "text": [
      "Low:\t41\n",
      "High:\t216\n"
     ]
    }
   ],
   "source": [
    "high = ieq_and_bw_sleep[ieq_and_bw_sleep[\"restful_binary\"] == \"Positive\"]\n",
    "low = ieq_and_bw_sleep[ieq_and_bw_sleep[\"restful_binary\"] == \"Negative\"]\n",
    "print(f\"Low:\\t{len(low)}\\nHigh:\\t{len(high)}\")"
   ]
  },
  {
   "cell_type": "code",
   "execution_count": 96,
   "metadata": {},
   "outputs": [
    {
     "data": {
      "image/png": "[encoded data removed]",
      "text/plain": [
       "<Figure size 1080x576 with 6 Axes>"
      ]
     },
     "metadata": {
      "needs_background": "light"
     },
     "output_type": "display_data"
    },
    {
     "data": {
      "text/html": [
       "<div>\n",
       "<style scoped>\n",
       "    .dataframe tbody tr th:only-of-type {\n",
       "        vertical-align: middle;\n",
       "    }\n",
       "\n",
       "    .dataframe tbody tr th {\n",
       "        vertical-align: top;\n",
       "    }\n",
       "\n",
       "    .dataframe thead th {\n",
       "        text-align: right;\n",
       "    }\n",
       "</style>\n",
       "<table border=\"1\" class=\"dataframe\">\n",
       "  <thead>\n",
       "    <tr style=\"text-align: right;\">\n",
       "      <th></th>\n",
       "      <th>pollutant</th>\n",
       "      <th>low</th>\n",
       "      <th>high</th>\n",
       "      <th>mean_low</th>\n",
       "      <th>mean_high</th>\n",
       "      <th>p_val</th>\n",
       "    </tr>\n",
       "  </thead>\n",
       "  <tbody>\n",
       "    <tr>\n",
       "      <th>0</th>\n",
       "      <td>tvoc_median</td>\n",
       "      <td>121</td>\n",
       "      <td>136</td>\n",
       "      <td>266.867922</td>\n",
       "      <td>290.802325</td>\n",
       "      <td>0.156659</td>\n",
       "    </tr>\n",
       "    <tr>\n",
       "      <th>0</th>\n",
       "      <td>co_median</td>\n",
       "      <td>121</td>\n",
       "      <td>136</td>\n",
       "      <td>1.034949</td>\n",
       "      <td>0.363958</td>\n",
       "      <td>0.001278</td>\n",
       "    </tr>\n",
       "    <tr>\n",
       "      <th>0</th>\n",
       "      <td>co2_median</td>\n",
       "      <td>121</td>\n",
       "      <td>136</td>\n",
       "      <td>1059.518176</td>\n",
       "      <td>1030.731241</td>\n",
       "      <td>0.534030</td>\n",
       "    </tr>\n",
       "    <tr>\n",
       "      <th>0</th>\n",
       "      <td>pm2p5_mass_median</td>\n",
       "      <td>121</td>\n",
       "      <td>136</td>\n",
       "      <td>9.265249</td>\n",
       "      <td>14.040700</td>\n",
       "      <td>0.000001</td>\n",
       "    </tr>\n",
       "    <tr>\n",
       "      <th>0</th>\n",
       "      <td>temperature_c_median</td>\n",
       "      <td>121</td>\n",
       "      <td>136</td>\n",
       "      <td>24.674036</td>\n",
       "      <td>25.744199</td>\n",
       "      <td>0.003586</td>\n",
       "    </tr>\n",
       "  </tbody>\n",
       "</table>\n",
       "</div>"
      ],
      "text/plain": [
       "              pollutant  low  high     mean_low    mean_high     p_val\n",
       "0           tvoc_median  121   136   266.867922   290.802325  0.156659\n",
       "0             co_median  121   136     1.034949     0.363958  0.001278\n",
       "0            co2_median  121   136  1059.518176  1030.731241  0.534030\n",
       "0     pm2p5_mass_median  121   136     9.265249    14.040700  0.000001\n",
       "0  temperature_c_median  121   136    24.674036    25.744199  0.003586"
      ]
     },
     "execution_count": 96,
     "metadata": {},
     "output_type": "execute_result"
    }
   ],
   "source": [
    "plot_restful_violin_combined(ieq_and_bw_sleep,targets=[\"tvoc\",\"co\",\"co2\",\"pm2p5_mass\",\"temperature_c\"],sleep_metric=\"naw\",hues=[\"High\",\"Low\"],\n",
    "                             ticks={\"tvoc\":range(0,1200,200),\"co\":range(0,16,4),\"co2\":range(400,3900,700),\"pm2p5_mass\":range(0,50,10),\"temperature_c\":range(18,35,5)},\n",
    "                             save=True)"
   ]
  },
  {
   "cell_type": "code",
   "execution_count": 78,
   "metadata": {},
   "outputs": [
    {
     "name": "stdout",
     "output_type": "stream",
     "text": [
      "Low:\t136\n",
      "High:\t121\n"
     ]
    }
   ],
   "source": [
    "high = ieq_and_bw_sleep[ieq_and_bw_sleep[\"naw_binary\"] == \"High\"]\n",
    "low = ieq_and_bw_sleep[ieq_and_bw_sleep[\"naw_binary\"] == \"Low\"]\n",
    "print(f\"Low:\\t{len(low)}\\nHigh:\\t{len(high)}\")"
   ]
  },
  {
   "cell_type": "code",
   "execution_count": 79,
   "metadata": {
    "scrolled": false
   },
   "outputs": [
    {
     "data": {
      "image/png": "[encoded data removed]",
      "text/plain": [
       "<Figure size 288x288 with 1 Axes>"
      ]
     },
     "metadata": {
      "needs_background": "light"
     },
     "output_type": "display_data"
    },
    {
     "data": {
      "image/png": "[encoded data removed]",
      "text/plain": [
       "<Figure size 288x288 with 1 Axes>"
      ]
     },
     "metadata": {
      "needs_background": "light"
     },
     "output_type": "display_data"
    },
    {
     "ename": "ValueError",
     "evalue": "Could not interpret input 'no2_median'",
     "output_type": "error",
     "traceback": [
      "\u001b[0;31m---------------------------------------------------------------------------\u001b[0m",
      "\u001b[0;31mValueError\u001b[0m                                Traceback (most recent call last)",
      "\u001b[0;32m<ipython-input-79-c96bf4135f8a>\u001b[0m in \u001b[0;36m<module>\u001b[0;34m\u001b[0m\n\u001b[1;32m      1\u001b[0m \u001b[0;32mfor\u001b[0m \u001b[0mpollutant\u001b[0m \u001b[0;32min\u001b[0m \u001b[0;34m[\u001b[0m\u001b[0;34m\"co2\"\u001b[0m\u001b[0;34m,\u001b[0m\u001b[0;34m\"pm2p5_mass\"\u001b[0m\u001b[0;34m,\u001b[0m\u001b[0;34m\"no2\"\u001b[0m\u001b[0;34m,\u001b[0m\u001b[0;34m\"tvoc\"\u001b[0m\u001b[0;34m,\u001b[0m\u001b[0;34m\"co\"\u001b[0m\u001b[0;34m,\u001b[0m\u001b[0;34m\"temperature_c\"\u001b[0m\u001b[0;34m]\u001b[0m\u001b[0;34m:\u001b[0m\u001b[0;34m\u001b[0m\u001b[0;34m\u001b[0m\u001b[0m\n\u001b[0;32m----> 2\u001b[0;31m     \u001b[0mplot_restful_violin\u001b[0m\u001b[0;34m(\u001b[0m\u001b[0mieq_and_bw_sleep\u001b[0m\u001b[0;34m,\u001b[0m \u001b[0mtarget\u001b[0m\u001b[0;34m=\u001b[0m\u001b[0;34mf\"{pollutant}_median\"\u001b[0m\u001b[0;34m,\u001b[0m \u001b[0msave\u001b[0m\u001b[0;34m=\u001b[0m\u001b[0;32mFalse\u001b[0m\u001b[0;34m,\u001b[0m\u001b[0;34m)\u001b[0m\u001b[0;34m\u001b[0m\u001b[0;34m\u001b[0m\u001b[0m\n\u001b[0m",
      "\u001b[0;32m<ipython-input-73-9eca9366a235>\u001b[0m in \u001b[0;36mplot_restful_violin\u001b[0;34m(df_in, target, save, save_dir, subfolder)\u001b[0m\n\u001b[1;32m      4\u001b[0m     \u001b[0mfig\u001b[0m\u001b[0;34m,\u001b[0m \u001b[0max\u001b[0m \u001b[0;34m=\u001b[0m \u001b[0mplt\u001b[0m\u001b[0;34m.\u001b[0m\u001b[0msubplots\u001b[0m\u001b[0;34m(\u001b[0m\u001b[0mfigsize\u001b[0m\u001b[0;34m=\u001b[0m\u001b[0;34m(\u001b[0m\u001b[0;36m4\u001b[0m\u001b[0;34m,\u001b[0m\u001b[0;36m4\u001b[0m\u001b[0;34m)\u001b[0m\u001b[0;34m)\u001b[0m\u001b[0;34m\u001b[0m\u001b[0;34m\u001b[0m\u001b[0m\n\u001b[1;32m      5\u001b[0m     \u001b[0mdf\u001b[0m\u001b[0;34m[\u001b[0m\u001b[0;34m\"target\"\u001b[0m\u001b[0;34m]\u001b[0m \u001b[0;34m=\u001b[0m \u001b[0mtarget\u001b[0m\u001b[0;34m\u001b[0m\u001b[0;34m\u001b[0m\u001b[0m\n\u001b[0;32m----> 6\u001b[0;31m     \u001b[0mviolin_axes\u001b[0m \u001b[0;34m=\u001b[0m \u001b[0msns\u001b[0m\u001b[0;34m.\u001b[0m\u001b[0mviolinplot\u001b[0m\u001b[0;34m(\u001b[0m\u001b[0mx\u001b[0m\u001b[0;34m=\u001b[0m\u001b[0;34m\"target\"\u001b[0m\u001b[0;34m,\u001b[0m\u001b[0my\u001b[0m\u001b[0;34m=\u001b[0m\u001b[0mtarget\u001b[0m\u001b[0;34m,\u001b[0m\u001b[0mhue\u001b[0m\u001b[0;34m=\u001b[0m\u001b[0;34m\"restful_binary\"\u001b[0m\u001b[0;34m,\u001b[0m\u001b[0mhue_order\u001b[0m\u001b[0;34m=\u001b[0m\u001b[0;34m[\u001b[0m\u001b[0;34m\"Negative\"\u001b[0m\u001b[0;34m,\u001b[0m\u001b[0;34m\"Positive\"\u001b[0m\u001b[0;34m]\u001b[0m\u001b[0;34m,\u001b[0m\u001b[0msplit\u001b[0m\u001b[0;34m=\u001b[0m\u001b[0;32mTrue\u001b[0m\u001b[0;34m,\u001b[0m\u001b[0mpalette\u001b[0m\u001b[0;34m=\u001b[0m\u001b[0;34m[\u001b[0m\u001b[0;34m\"white\"\u001b[0m\u001b[0;34m,\u001b[0m\u001b[0;34m\"seagreen\"\u001b[0m\u001b[0;34m]\u001b[0m\u001b[0;34m,\u001b[0m\u001b[0mdata\u001b[0m\u001b[0;34m=\u001b[0m\u001b[0mdf\u001b[0m\u001b[0;34m,\u001b[0m\u001b[0max\u001b[0m\u001b[0;34m=\u001b[0m\u001b[0max\u001b[0m\u001b[0;34m,\u001b[0m\u001b[0mcut\u001b[0m\u001b[0;34m=\u001b[0m\u001b[0;36m0\u001b[0m\u001b[0;34m,\u001b[0m\u001b[0minner\u001b[0m\u001b[0;34m=\u001b[0m\u001b[0;34m\"quartile\"\u001b[0m\u001b[0;34m,\u001b[0m\u001b[0;34m)\u001b[0m\u001b[0;34m\u001b[0m\u001b[0;34m\u001b[0m\u001b[0m\n\u001b[0m\u001b[1;32m      7\u001b[0m     \u001b[0;32mfor\u001b[0m \u001b[0mloc\u001b[0m \u001b[0;32min\u001b[0m \u001b[0;34m[\u001b[0m\u001b[0;34m\"right\"\u001b[0m\u001b[0;34m,\u001b[0m\u001b[0;34m\"top\"\u001b[0m\u001b[0;34m,\u001b[0m\u001b[0;34m\"bottom\"\u001b[0m\u001b[0;34m]\u001b[0m\u001b[0;34m:\u001b[0m\u001b[0;34m\u001b[0m\u001b[0;34m\u001b[0m\u001b[0m\n\u001b[1;32m      8\u001b[0m         \u001b[0max\u001b[0m\u001b[0;34m.\u001b[0m\u001b[0mspines\u001b[0m\u001b[0;34m[\u001b[0m\u001b[0mloc\u001b[0m\u001b[0;34m]\u001b[0m\u001b[0;34m.\u001b[0m\u001b[0mset_visible\u001b[0m\u001b[0;34m(\u001b[0m\u001b[0;32mFalse\u001b[0m\u001b[0;34m)\u001b[0m\u001b[0;34m\u001b[0m\u001b[0;34m\u001b[0m\u001b[0m\n",
      "\u001b[0;32m~/opt/anaconda3/lib/python3.8/site-packages/seaborn/_decorators.py\u001b[0m in \u001b[0;36minner_f\u001b[0;34m(*args, **kwargs)\u001b[0m\n\u001b[1;32m     44\u001b[0m             )\n\u001b[1;32m     45\u001b[0m         \u001b[0mkwargs\u001b[0m\u001b[0;34m.\u001b[0m\u001b[0mupdate\u001b[0m\u001b[0;34m(\u001b[0m\u001b[0;34m{\u001b[0m\u001b[0mk\u001b[0m\u001b[0;34m:\u001b[0m \u001b[0marg\u001b[0m \u001b[0;32mfor\u001b[0m \u001b[0mk\u001b[0m\u001b[0;34m,\u001b[0m \u001b[0marg\u001b[0m \u001b[0;32min\u001b[0m \u001b[0mzip\u001b[0m\u001b[0;34m(\u001b[0m\u001b[0msig\u001b[0m\u001b[0;34m.\u001b[0m\u001b[0mparameters\u001b[0m\u001b[0;34m,\u001b[0m \u001b[0margs\u001b[0m\u001b[0;34m)\u001b[0m\u001b[0;34m}\u001b[0m\u001b[0;34m)\u001b[0m\u001b[0;34m\u001b[0m\u001b[0;34m\u001b[0m\u001b[0m\n\u001b[0;32m---> 46\u001b[0;31m         \u001b[0;32mreturn\u001b[0m \u001b[0mf\u001b[0m\u001b[0;34m(\u001b[0m\u001b[0;34m**\u001b[0m\u001b[0mkwargs\u001b[0m\u001b[0;34m)\u001b[0m\u001b[0;34m\u001b[0m\u001b[0;34m\u001b[0m\u001b[0m\n\u001b[0m\u001b[1;32m     47\u001b[0m     \u001b[0;32mreturn\u001b[0m \u001b[0minner_f\u001b[0m\u001b[0;34m\u001b[0m\u001b[0;34m\u001b[0m\u001b[0m\n\u001b[1;32m     48\u001b[0m \u001b[0;34m\u001b[0m\u001b[0m\n",
      "\u001b[0;32m~/opt/anaconda3/lib/python3.8/site-packages/seaborn/categorical.py\u001b[0m in \u001b[0;36mviolinplot\u001b[0;34m(x, y, hue, data, order, hue_order, bw, cut, scale, scale_hue, gridsize, width, inner, split, dodge, orient, linewidth, color, palette, saturation, ax, **kwargs)\u001b[0m\n\u001b[1;32m   2395\u001b[0m ):\n\u001b[1;32m   2396\u001b[0m \u001b[0;34m\u001b[0m\u001b[0m\n\u001b[0;32m-> 2397\u001b[0;31m     plotter = _ViolinPlotter(x, y, hue, data, order, hue_order,\n\u001b[0m\u001b[1;32m   2398\u001b[0m                              \u001b[0mbw\u001b[0m\u001b[0;34m,\u001b[0m \u001b[0mcut\u001b[0m\u001b[0;34m,\u001b[0m \u001b[0mscale\u001b[0m\u001b[0;34m,\u001b[0m \u001b[0mscale_hue\u001b[0m\u001b[0;34m,\u001b[0m \u001b[0mgridsize\u001b[0m\u001b[0;34m,\u001b[0m\u001b[0;34m\u001b[0m\u001b[0;34m\u001b[0m\u001b[0m\n\u001b[1;32m   2399\u001b[0m                              \u001b[0mwidth\u001b[0m\u001b[0;34m,\u001b[0m \u001b[0minner\u001b[0m\u001b[0;34m,\u001b[0m \u001b[0msplit\u001b[0m\u001b[0;34m,\u001b[0m \u001b[0mdodge\u001b[0m\u001b[0;34m,\u001b[0m \u001b[0morient\u001b[0m\u001b[0;34m,\u001b[0m \u001b[0mlinewidth\u001b[0m\u001b[0;34m,\u001b[0m\u001b[0;34m\u001b[0m\u001b[0;34m\u001b[0m\u001b[0m\n",
      "\u001b[0;32m~/opt/anaconda3/lib/python3.8/site-packages/seaborn/categorical.py\u001b[0m in \u001b[0;36m__init__\u001b[0;34m(self, x, y, hue, data, order, hue_order, bw, cut, scale, scale_hue, gridsize, width, inner, split, dodge, orient, linewidth, color, palette, saturation)\u001b[0m\n\u001b[1;32m    520\u001b[0m                  color, palette, saturation):\n\u001b[1;32m    521\u001b[0m \u001b[0;34m\u001b[0m\u001b[0m\n\u001b[0;32m--> 522\u001b[0;31m         \u001b[0mself\u001b[0m\u001b[0;34m.\u001b[0m\u001b[0mestablish_variables\u001b[0m\u001b[0;34m(\u001b[0m\u001b[0mx\u001b[0m\u001b[0;34m,\u001b[0m \u001b[0my\u001b[0m\u001b[0;34m,\u001b[0m \u001b[0mhue\u001b[0m\u001b[0;34m,\u001b[0m \u001b[0mdata\u001b[0m\u001b[0;34m,\u001b[0m \u001b[0morient\u001b[0m\u001b[0;34m,\u001b[0m \u001b[0morder\u001b[0m\u001b[0;34m,\u001b[0m \u001b[0mhue_order\u001b[0m\u001b[0;34m)\u001b[0m\u001b[0;34m\u001b[0m\u001b[0;34m\u001b[0m\u001b[0m\n\u001b[0m\u001b[1;32m    523\u001b[0m         \u001b[0mself\u001b[0m\u001b[0;34m.\u001b[0m\u001b[0mestablish_colors\u001b[0m\u001b[0;34m(\u001b[0m\u001b[0mcolor\u001b[0m\u001b[0;34m,\u001b[0m \u001b[0mpalette\u001b[0m\u001b[0;34m,\u001b[0m \u001b[0msaturation\u001b[0m\u001b[0;34m)\u001b[0m\u001b[0;34m\u001b[0m\u001b[0;34m\u001b[0m\u001b[0m\n\u001b[1;32m    524\u001b[0m         \u001b[0mself\u001b[0m\u001b[0;34m.\u001b[0m\u001b[0mestimate_densities\u001b[0m\u001b[0;34m(\u001b[0m\u001b[0mbw\u001b[0m\u001b[0;34m,\u001b[0m \u001b[0mcut\u001b[0m\u001b[0;34m,\u001b[0m \u001b[0mscale\u001b[0m\u001b[0;34m,\u001b[0m \u001b[0mscale_hue\u001b[0m\u001b[0;34m,\u001b[0m \u001b[0mgridsize\u001b[0m\u001b[0;34m)\u001b[0m\u001b[0;34m\u001b[0m\u001b[0;34m\u001b[0m\u001b[0m\n",
      "\u001b[0;32m~/opt/anaconda3/lib/python3.8/site-packages/seaborn/categorical.py\u001b[0m in \u001b[0;36mestablish_variables\u001b[0;34m(self, x, y, hue, data, orient, order, hue_order, units)\u001b[0m\n\u001b[1;32m    151\u001b[0m                 \u001b[0;32mif\u001b[0m \u001b[0misinstance\u001b[0m\u001b[0;34m(\u001b[0m\u001b[0mvar\u001b[0m\u001b[0;34m,\u001b[0m \u001b[0mstr\u001b[0m\u001b[0;34m)\u001b[0m\u001b[0;34m:\u001b[0m\u001b[0;34m\u001b[0m\u001b[0;34m\u001b[0m\u001b[0m\n\u001b[1;32m    152\u001b[0m                     \u001b[0merr\u001b[0m \u001b[0;34m=\u001b[0m \u001b[0;34m\"Could not interpret input '{}'\"\u001b[0m\u001b[0;34m.\u001b[0m\u001b[0mformat\u001b[0m\u001b[0;34m(\u001b[0m\u001b[0mvar\u001b[0m\u001b[0;34m)\u001b[0m\u001b[0;34m\u001b[0m\u001b[0;34m\u001b[0m\u001b[0m\n\u001b[0;32m--> 153\u001b[0;31m                     \u001b[0;32mraise\u001b[0m \u001b[0mValueError\u001b[0m\u001b[0;34m(\u001b[0m\u001b[0merr\u001b[0m\u001b[0;34m)\u001b[0m\u001b[0;34m\u001b[0m\u001b[0;34m\u001b[0m\u001b[0m\n\u001b[0m\u001b[1;32m    154\u001b[0m \u001b[0;34m\u001b[0m\u001b[0m\n\u001b[1;32m    155\u001b[0m             \u001b[0;31m# Figure out the plotting orientation\u001b[0m\u001b[0;34m\u001b[0m\u001b[0;34m\u001b[0m\u001b[0;34m\u001b[0m\u001b[0m\n",
      "\u001b[0;31mValueError\u001b[0m: Could not interpret input 'no2_median'"
     ]
    },
    {
     "data": {
      "image/png": "[encoded data removed]",
      "text/plain": [
       "<Figure size 288x288 with 1 Axes>"
      ]
     },
     "metadata": {
      "needs_background": "light"
     },
     "output_type": "display_data"
    }
   ],
   "source": [
    "for pollutant in [\"co2\",\"pm2p5_mass\",\"no2\",\"tvoc\",\"co\",\"temperature_c\"]:\n",
    "    plot_restful_violin(ieq_and_bw_sleep, target=f\"{pollutant}_median\", save=False,)"
   ]
  },
  {
   "cell_type": "markdown",
   "metadata": {},
   "source": [
    "#### Ventilation and Restfulness Scores\n",
    "Similar to above, but now looking at `ach` for `negative` and `positive` `restful` scores."
   ]
  },
  {
   "cell_type": "code",
   "execution_count": null,
   "metadata": {},
   "outputs": [],
   "source": [
    "def plot_restful_swarm(df_in, feature=\"restful\", target=\"co2_median\", save=False, save_dir=\"../reports/figures\", subfolder=\"beacon_ema\"):\n",
    "    \"\"\"Plots violin plots of concentration distributions for positive and negative restfulness scores\"\"\"\n",
    "    df = df_in.copy()\n",
    "    # adding binary score\n",
    "    df[f\"{feature}_binary\"] = [\"Positive\" if score > 1 else \"Negative\" for score in df[feature]]\n",
    "    fig, ax = plt.subplots(figsize=(6,6))\n",
    "    df[\"target\"] = target\n",
    "    violin_axes = sns.swarmplot(x=\"target\",y=target,hue=f\"{feature}_binary\",hue_order=[\"Negative\",\"Positive\"],split=True,palette=[\"black\",\"cornflowerblue\"],size=10,data=df,ax=ax)\n",
    "    for loc in [\"right\",\"top\",\"bottom\"]:\n",
    "        ax.spines[loc].set_visible(False)\n",
    "    ax.get_xaxis().set_visible(False)\n",
    "    ax.get_legend().remove()\n",
    "    if target.split(\"_\")[-1].lower() == \"median\":\n",
    "        ax.set_ylabel(f\"Nightly Median {visualize.get_pollutant_label(pollutant)} Concentration ({visualize.get_pollutant_units(pollutant)})\",fontsize=18)\n",
    "    else:\n",
    "        ax.set_ylabel(\"Ventilation Rate (ACH)\",fontsize=18)\n",
    "    plt.yticks(fontsize=14)\n",
    "    ax.legend(loc=\"center\",bbox_to_anchor=(0.5,-0.1),title=f\"{feature.title()} Response\",ncol=2,frameon=False,title_fontsize=14,fontsize=12)\n",
    "\n",
    "    low_vals = df[df[f\"{feature}_binary\"] == \"Negative\"]\n",
    "    high_vals = df[df[f\"{feature}_binary\"] == \"Positive\"]\n",
    "    _, p = stats.ttest_ind(low_vals[target],high_vals[target], equal_var=True)\n",
    "\n",
    "    if p > 0:\n",
    "        # Annotating with p-values\n",
    "        xloc = ax.get_xticks()\n",
    "        weight=\"bold\" if p < 0.05 else \"normal\"\n",
    "        ax.text(xloc-0.07,ax.get_ylim()[1],\"p: \",fontsize=12,ha=\"center\",va=\"bottom\")\n",
    "        ax.text(xloc,ax.get_ylim()[1],f\"{round(p,3)}\",fontsize=12,ha=\"center\",va=\"bottom\",weight=weight)\n",
    "\n",
    "    if save:\n",
    "        plt.savefig(f\"{save_dir}/{subfolder}/{target}-binary_{feature}-swarm.pdf\", bbox_inches=\"tight\")\n",
    "    plt.show()\n",
    "    plt.close()"
   ]
  },
  {
   "cell_type": "code",
   "execution_count": null,
   "metadata": {
    "scrolled": false
   },
   "outputs": [],
   "source": [
    "for likert in [\"content\",\"stress\",\"energy\",\"lonely\",\"sad\",\"restful\"]:\n",
    "    plot_restful_swarm(aer_and_bw, feature=likert, target=\"ach\", save=False)"
   ]
  },
  {
   "cell_type": "markdown",
   "metadata": {},
   "source": [
    "## Sleep Onset Latency"
   ]
  },
  {
   "cell_type": "code",
   "execution_count": 84,
   "metadata": {},
   "outputs": [],
   "source": [
    "def plot_bw_sq_violins(df, pollutants=[\"tvoc\",\"no2\",\"co\",\"co2\",\"pm2p5_mass\",\"temperature_c\"], limits=[200,1.5,4,1100,6,25.2], sleep_device=\"fitbit\", sleep_metrics=[\"tst\",\"sol\"], pollutant_metric=\"median\", annot=\"all\",save=False):\n",
    "    \"\"\"\n",
    "    \n",
    "    \"\"\"\n",
    "    legend_fs = 22\n",
    "    tick_fs = 24\n",
    "    label_fs = 26\n",
    "    title_fs = 32\n",
    "    df_to_plot = df.copy()\n",
    "    # adding \"low\"/\"high\" column for each pollutant\n",
    "    thresholds = dict(zip(pollutants,limits))\n",
    "    for pollutant, threshold in thresholds.items():\n",
    "        df_to_plot[f\"{pollutant}_level\"] = df_to_plot.apply(lambda x: get_night(x[f\"{pollutant}_{pollutant_metric}\"],threshold),axis=1)\n",
    "\n",
    "    # creating dictionary to store p-values\n",
    "    ttest_results = {}\n",
    "    # looping through sleep metrics\n",
    "    fig,axes = plt.subplots(len(sleep_metrics),1,figsize=(16,5*len(sleep_metrics)),sharex=True)\n",
    "    try:\n",
    "        _ = len(axes)\n",
    "    except TypeError:\n",
    "        axes = [axes]\n",
    "    for sleep_metric, title, ax in zip(sleep_metrics,[\"a\",\"b\"],axes):\n",
    "        # expanding the df to allow for easier plotting\n",
    "        df_expanded = df_to_plot.melt(id_vars=[c for c in df_to_plot.columns if c.endswith(\"median\") or c == sleep_metric],value_vars=[c for c in df_to_plot.columns if c.endswith(\"level\")],value_name=\"level\")\n",
    "        # plotting\n",
    "        sns.violinplot(x=\"variable\",y=sleep_metric,hue=\"level\",data=df_expanded,split=True,hue_order=[\"low\",\"high\"],palette={\"low\":\"white\",\"high\":\"#bf5700\"},inner=None,cut=0,ax=ax)\n",
    "        # x-axis\n",
    "        ax.set_xticklabels([pollutant.split(\"_\")[0].upper().replace(\"O2\",\"O$_2$\").replace(\"2P5\",\"$_{2.5}$\").replace(\" C\",\"\").replace(\"TEMPERATURE\",\"T\") for pollutant in pollutants],fontsize=tick_fs)\n",
    "        ax.set_xlabel(\"\")\n",
    "        # y-axis\n",
    "        plt.setp(ax.get_yticklabels(), ha=\"right\", rotation=0, fontsize=tick_fs)\n",
    "        ax.set_ylabel(visualize.get_label(sleep_metric),fontsize=label_fs)\n",
    "        # Modifying Remainder\n",
    "        if sleep_metric == \"sol\":\n",
    "            ax.legend(loc=\"upper center\",bbox_to_anchor=(0.5,-0.075),frameon=False,ncol=2,fontsize=legend_fs,title_fontsize=tick_fs,title=\"Median Concentration\")\n",
    "        else:\n",
    "            ax.get_legend().remove()\n",
    "        for loc in [\"top\",\"right\"]:\n",
    "            ax.spines[loc].set_visible(False)\n",
    "            \n",
    "        ax.text(-0.075,0.95,title,fontsize=title_fs,transform=ax.transAxes)\n",
    "\n",
    "        pvals = pd.DataFrame()\n",
    "        for pollutant in pollutants:\n",
    "            df = df_expanded[df_expanded[\"variable\"] == f\"{pollutant}_level\"]\n",
    "            low_vals = df[df[\"level\"] == \"low\"]\n",
    "            high_vals = df[df[\"level\"] == \"high\"]\n",
    "            _, p = stats.ttest_ind(low_vals[sleep_metric],high_vals[sleep_metric], equal_var=True, nan_policy=\"omit\")\n",
    "            pvals = pvals.append(pd.DataFrame({\"pollutant\":[pollutant],\"low\":[len(low_vals)],\"high\":[len(high_vals)],\n",
    "                                               \"mean_low\":[np.nanmean(low_vals[sleep_metric])],\"mean_high\":np.nanmean(high_vals[sleep_metric]),\"p_val\":[p]}))\n",
    "\n",
    "        ttest_results[sleep_metric.split(\"_\")[0]] = pvals.set_index(\"pollutant\")\n",
    "\n",
    "        # Annotating with p-values\n",
    "        xlocs = ax.get_xticks()\n",
    "        ax.text(ax.get_xlim()[0],ax.get_ylim()[1],\"          p:\",ha=\"center\",va=\"bottom\",fontsize=tick_fs)\n",
    "        for xloc, p in zip(xlocs,ttest_results[sleep_metric.split(\"_\")[0]][\"p_val\"]):\n",
    "            weight=\"bold\" if p < 0.05 else \"normal\"\n",
    "            val = round(p,3) if p > 0.001 else \"< 0.001\"\n",
    "            ax.text(xloc,ax.get_ylim()[1],val,fontsize=tick_fs,ha=\"center\",va=\"bottom\",weight=weight)\n",
    "            \n",
    "        if save:\n",
    "            plt.savefig(f'../../papers/5eea5276044b790001ee5687/figures/beacon-{sleep_device}-{pollutant_metric}_profile-{annot}-ux_s20.pdf',bbox_inches=\"tight\")\n",
    "            plt.savefig(f'../reports/figures/beacon_{sleep_device}/beacon-{sleep_device}-{pollutant_metric}_profile-{annot}-ux_s20.pdf',bbox_inches=\"tight\")\n",
    "\n",
    "    plt.show()\n",
    "    plt.close()\n",
    "    \n",
    "    return ttest_results\n",
    "    "
   ]
  },
  {
   "cell_type": "code",
   "execution_count": 85,
   "metadata": {},
   "outputs": [
    {
     "data": {
      "image/png": "[encoded data removed]",
      "text/plain": [
       "<Figure size 1152x360 with 1 Axes>"
      ]
     },
     "metadata": {
      "needs_background": "light"
     },
     "output_type": "display_data"
    }
   ],
   "source": [
    "temp = plot_bw_sq_violins(ieq_and_bw_sleep, pollutants=[\"tvoc\",\"co\",\"co2\",\"pm2p5_mass\",\"temperature_c\"], \n",
    "                          limits=[200,4,1100,6,25.2], sleep_metrics=[\"tst\"], sleep_device=\"ema\", annot=\"tst\",save=True)\n"
   ]
  },
  {
   "cell_type": "code",
   "execution_count": null,
   "metadata": {},
   "outputs": [],
   "source": [
    "(temp[\"tst\"].loc[\"temperature_c\",\"mean_low\"] - temp[\"tst\"].loc[\"temperature_c\",\"mean_high\"])*60"
   ]
  },
  {
   "cell_type": "code",
   "execution_count": null,
   "metadata": {},
   "outputs": [],
   "source": [
    "def test_for_outlier(df, var, extreme=\"z\",zscore=2.5):\n",
    "    \"\"\"checks values\"\"\"\n",
    "    if extreme == \"z\":\n",
    "        df['z'] = abs(df[var] - df[var].mean()) / df[var].std(ddof=0)\n",
    "        df[\"outlier\"] = df['z'] > zscore\n",
    "    else:\n",
    "        Q1 = df[var].quantile(0.25)\n",
    "        Q3 = df[var].quantile(0.75)\n",
    "        IQR = Q3 - Q1\n",
    "\n",
    "        # Filtering Values between Q1-1.5IQR and Q3+1.5IQR\n",
    "        df[\"outlier\"] = (df[var]<Q1-1.5*IQR) | (df[var]>Q3+1.5*IQR)\n",
    "        \n",
    "    fig, ax = plt.subplots(figsize=(4,4))\n",
    "    sns.stripplot(x=\"outlier\",y=var,data=df,ax=ax)"
   ]
  },
  {
   "cell_type": "code",
   "execution_count": null,
   "metadata": {},
   "outputs": [],
   "source": [
    "test_for_outlier(ieq_and_bw_sleep,\"sol\",extreme=\"z\")"
   ]
  },
  {
   "cell_type": "code",
   "execution_count": null,
   "metadata": {},
   "outputs": [],
   "source": []
  }
 ],
 "metadata": {
  "kernelspec": {
   "display_name": "Python 3",
   "language": "python",
   "name": "python3"
  },
  "language_info": {
   "codemirror_mode": {
    "name": "ipython",
    "version": 3
   },
   "file_extension": ".py",
   "mimetype": "text/x-python",
   "name": "python",
   "nbconvert_exporter": "python",
   "pygments_lexer": "ipython3",
   "version": "3.8.8"
  },
  "toc": {
   "base_numbering": 1,
   "nav_menu": {},
   "number_sections": false,
   "sideBar": false,
   "skip_h1_title": false,
   "title_cell": "Table of Contents",
   "title_sidebar": "Contents",
   "toc_cell": false,
   "toc_position": {},
   "toc_section_display": false,
   "toc_window_display": false
  }
 },
 "nbformat": 4,
 "nbformat_minor": 4
}
