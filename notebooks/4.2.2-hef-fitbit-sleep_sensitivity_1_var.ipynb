{
 "cells": [
  {
   "cell_type": "markdown",
   "metadata": {},
   "source": [
    "# Fitbit Exploration\n",
    "For an explanation on the variables, take a look at the [data dictionary created by Fitabase](https://www.fitabase.com/media/1546/fitabasedatadictionary.pdf)."
   ]
  },
  {
   "cell_type": "markdown",
   "metadata": {},
   "source": [
    "## Sleep Sensitivity - 1 Variable\n",
    "In this notebook we take a look at the individual variables that might be affecting sleep"
   ]
  },
  {
   "cell_type": "code",
   "execution_count": 1,
   "metadata": {},
   "outputs": [],
   "source": [
    "import os\n",
    "import sys\n",
    "sys.path.append('../')\n",
    "\n",
    "import pandas as pd\n",
    "import numpy as np\n",
    "\n",
    "from datetime import datetime, timedelta\n",
    "\n",
    "import matplotlib.pyplot as plt\n",
    "import seaborn as sns\n",
    "import matplotlib.dates as mdates\n",
    "from matplotlib import cm\n",
    "from matplotlib.colors import ListedColormap, LinearSegmentedColormap\n",
    "\n",
    "from joypy import joyplot"
   ]
  },
  {
   "cell_type": "markdown",
   "metadata": {},
   "source": [
    "# Data Import\n",
    "Sleep data are divided into two primary datasets:\n",
    "\n",
    "1. Sleep Summaries by Day (daily sleep)\n",
    "2. Sleep Data by Minute (sleep stages)"
   ]
  },
  {
   "cell_type": "code",
   "execution_count": 8,
   "metadata": {},
   "outputs": [
    {
     "data": {
      "text/html": [
       "<div>\n",
       "<style scoped>\n",
       "    .dataframe tbody tr th:only-of-type {\n",
       "        vertical-align: middle;\n",
       "    }\n",
       "\n",
       "    .dataframe tbody tr th {\n",
       "        vertical-align: top;\n",
       "    }\n",
       "\n",
       "    .dataframe thead th {\n",
       "        text-align: right;\n",
       "    }\n",
       "</style>\n",
       "<table border=\"1\" class=\"dataframe\">\n",
       "  <thead>\n",
       "    <tr style=\"text-align: right;\">\n",
       "      <th></th>\n",
       "      <th>beiwe</th>\n",
       "      <th>start_time</th>\n",
       "      <th>end_time</th>\n",
       "      <th>date</th>\n",
       "      <th>tst</th>\n",
       "      <th>duration_ms</th>\n",
       "      <th>minutes_after_wakeup</th>\n",
       "      <th>minutes_asleep</th>\n",
       "      <th>minutes_awake</th>\n",
       "      <th>time_in_bed</th>\n",
       "      <th>efficiency</th>\n",
       "    </tr>\n",
       "  </thead>\n",
       "  <tbody>\n",
       "    <tr>\n",
       "      <th>0</th>\n",
       "      <td>hfttkth7</td>\n",
       "      <td>2020-05-14 00:27:00</td>\n",
       "      <td>2020-05-14 07:13:00</td>\n",
       "      <td>2020-05-14</td>\n",
       "      <td>6.766667</td>\n",
       "      <td>24360000</td>\n",
       "      <td>0</td>\n",
       "      <td>379</td>\n",
       "      <td>27</td>\n",
       "      <td>406</td>\n",
       "      <td>97</td>\n",
       "    </tr>\n",
       "    <tr>\n",
       "      <th>1</th>\n",
       "      <td>hfttkth7</td>\n",
       "      <td>2020-05-14 23:53:30</td>\n",
       "      <td>2020-05-15 08:06:30</td>\n",
       "      <td>2020-05-15</td>\n",
       "      <td>8.216667</td>\n",
       "      <td>29580000</td>\n",
       "      <td>8</td>\n",
       "      <td>392</td>\n",
       "      <td>101</td>\n",
       "      <td>493</td>\n",
       "      <td>87</td>\n",
       "    </tr>\n",
       "    <tr>\n",
       "      <th>2</th>\n",
       "      <td>hfttkth7</td>\n",
       "      <td>2020-05-15 23:28:00</td>\n",
       "      <td>2020-05-16 04:57:00</td>\n",
       "      <td>2020-05-16</td>\n",
       "      <td>5.483333</td>\n",
       "      <td>19740000</td>\n",
       "      <td>7</td>\n",
       "      <td>287</td>\n",
       "      <td>42</td>\n",
       "      <td>329</td>\n",
       "      <td>95</td>\n",
       "    </tr>\n",
       "    <tr>\n",
       "      <th>3</th>\n",
       "      <td>hfttkth7</td>\n",
       "      <td>2020-05-17 02:01:30</td>\n",
       "      <td>2020-05-17 09:28:30</td>\n",
       "      <td>2020-05-17</td>\n",
       "      <td>7.450000</td>\n",
       "      <td>26820000</td>\n",
       "      <td>8</td>\n",
       "      <td>403</td>\n",
       "      <td>44</td>\n",
       "      <td>447</td>\n",
       "      <td>96</td>\n",
       "    </tr>\n",
       "    <tr>\n",
       "      <th>4</th>\n",
       "      <td>hfttkth7</td>\n",
       "      <td>2020-05-18 00:24:00</td>\n",
       "      <td>2020-05-18 07:20:00</td>\n",
       "      <td>2020-05-18</td>\n",
       "      <td>6.933333</td>\n",
       "      <td>24960000</td>\n",
       "      <td>0</td>\n",
       "      <td>351</td>\n",
       "      <td>65</td>\n",
       "      <td>416</td>\n",
       "      <td>92</td>\n",
       "    </tr>\n",
       "  </tbody>\n",
       "</table>\n",
       "</div>"
      ],
      "text/plain": [
       "      beiwe          start_time            end_time       date       tst  \\\n",
       "0  hfttkth7 2020-05-14 00:27:00 2020-05-14 07:13:00 2020-05-14  6.766667   \n",
       "1  hfttkth7 2020-05-14 23:53:30 2020-05-15 08:06:30 2020-05-15  8.216667   \n",
       "2  hfttkth7 2020-05-15 23:28:00 2020-05-16 04:57:00 2020-05-16  5.483333   \n",
       "3  hfttkth7 2020-05-17 02:01:30 2020-05-17 09:28:30 2020-05-17  7.450000   \n",
       "4  hfttkth7 2020-05-18 00:24:00 2020-05-18 07:20:00 2020-05-18  6.933333   \n",
       "\n",
       "   duration_ms  minutes_after_wakeup  minutes_asleep  minutes_awake  \\\n",
       "0     24360000                     0             379             27   \n",
       "1     29580000                     8             392            101   \n",
       "2     19740000                     7             287             42   \n",
       "3     26820000                     8             403             44   \n",
       "4     24960000                     0             351             65   \n",
       "\n",
       "   time_in_bed  efficiency  \n",
       "0          406          97  \n",
       "1          493          87  \n",
       "2          329          95  \n",
       "3          447          96  \n",
       "4          416          92  "
      ]
     },
     "execution_count": 8,
     "metadata": {},
     "output_type": "execute_result"
    }
   ],
   "source": [
    "daily_sleep = pd.read_csv(\"../data/processed/fitbit-sleep_daily-ux_s20.csv\",parse_dates=[\"date\",\"start_time\",\"end_time\"],infer_datetime_format=True)\n",
    "# converting duration to something that makes more sense...\n",
    "daily_sleep['tst'] = daily_sleep['duration_ms'] / 3600000\n",
    "daily_sleep = daily_sleep[daily_sleep[\"main_sleep\"] == True]\n",
    "daily_sleep.drop([\"minutes_to_sleep\",\"main_sleep\"],axis=1,inplace=True)\n",
    "daily_sleep = daily_sleep[['beiwe', 'start_time', 'end_time', 'date','tst','duration_ms','minutes_after_wakeup', 'minutes_asleep', 'minutes_awake', 'time_in_bed', 'efficiency']]\n",
    "daily_sleep.head()"
   ]
  },
  {
   "cell_type": "code",
   "execution_count": 9,
   "metadata": {},
   "outputs": [
    {
     "data": {
      "text/html": [
       "<div>\n",
       "<style scoped>\n",
       "    .dataframe tbody tr th:only-of-type {\n",
       "        vertical-align: middle;\n",
       "    }\n",
       "\n",
       "    .dataframe tbody tr th {\n",
       "        vertical-align: top;\n",
       "    }\n",
       "\n",
       "    .dataframe thead th {\n",
       "        text-align: right;\n",
       "    }\n",
       "</style>\n",
       "<table border=\"1\" class=\"dataframe\">\n",
       "  <thead>\n",
       "    <tr style=\"text-align: right;\">\n",
       "      <th></th>\n",
       "      <th>start_date</th>\n",
       "      <th>end_date</th>\n",
       "      <th>time</th>\n",
       "      <th>stage</th>\n",
       "      <th>time_at_stage</th>\n",
       "      <th>beiwe</th>\n",
       "      <th>value</th>\n",
       "    </tr>\n",
       "  </thead>\n",
       "  <tbody>\n",
       "    <tr>\n",
       "      <th>0</th>\n",
       "      <td>2020-05-14</td>\n",
       "      <td>2020-05-14</td>\n",
       "      <td>2020-05-14 00:27:00</td>\n",
       "      <td>wake</td>\n",
       "      <td>510</td>\n",
       "      <td>hfttkth7</td>\n",
       "      <td>0</td>\n",
       "    </tr>\n",
       "    <tr>\n",
       "      <th>1</th>\n",
       "      <td>2020-05-14</td>\n",
       "      <td>2020-05-14</td>\n",
       "      <td>2020-05-14 00:35:30</td>\n",
       "      <td>light</td>\n",
       "      <td>420</td>\n",
       "      <td>hfttkth7</td>\n",
       "      <td>1</td>\n",
       "    </tr>\n",
       "    <tr>\n",
       "      <th>2</th>\n",
       "      <td>2020-05-14</td>\n",
       "      <td>2020-05-14</td>\n",
       "      <td>2020-05-14 00:42:30</td>\n",
       "      <td>deep</td>\n",
       "      <td>1590</td>\n",
       "      <td>hfttkth7</td>\n",
       "      <td>2</td>\n",
       "    </tr>\n",
       "    <tr>\n",
       "      <th>3</th>\n",
       "      <td>2020-05-14</td>\n",
       "      <td>2020-05-14</td>\n",
       "      <td>2020-05-14 01:09:00</td>\n",
       "      <td>light</td>\n",
       "      <td>1290</td>\n",
       "      <td>hfttkth7</td>\n",
       "      <td>1</td>\n",
       "    </tr>\n",
       "    <tr>\n",
       "      <th>4</th>\n",
       "      <td>2020-05-14</td>\n",
       "      <td>2020-05-14</td>\n",
       "      <td>2020-05-14 01:30:30</td>\n",
       "      <td>rem</td>\n",
       "      <td>840</td>\n",
       "      <td>hfttkth7</td>\n",
       "      <td>3</td>\n",
       "    </tr>\n",
       "  </tbody>\n",
       "</table>\n",
       "</div>"
      ],
      "text/plain": [
       "  start_date   end_date                time  stage  time_at_stage     beiwe  \\\n",
       "0 2020-05-14 2020-05-14 2020-05-14 00:27:00   wake            510  hfttkth7   \n",
       "1 2020-05-14 2020-05-14 2020-05-14 00:35:30  light            420  hfttkth7   \n",
       "2 2020-05-14 2020-05-14 2020-05-14 00:42:30   deep           1590  hfttkth7   \n",
       "3 2020-05-14 2020-05-14 2020-05-14 01:09:00  light           1290  hfttkth7   \n",
       "4 2020-05-14 2020-05-14 2020-05-14 01:30:30    rem            840  hfttkth7   \n",
       "\n",
       "   value  \n",
       "0      0  \n",
       "1      1  \n",
       "2      2  \n",
       "3      1  \n",
       "4      3  "
      ]
     },
     "execution_count": 9,
     "metadata": {},
     "output_type": "execute_result"
    }
   ],
   "source": [
    "sleep_stages = pd.read_csv(\"../data/processed/fitbit-sleep_stages-ux_s20.csv\",parse_dates=[\"start_date\",\"end_date\",\"time\"],infer_datetime_format=True)\n",
    "sleep_stages.head()"
   ]
  },
  {
   "cell_type": "markdown",
   "metadata": {},
   "source": [
    "The [data dictionary](https://www.fitabase.com/media/1546/fitabasedatadictionary.pdf) for these variables can be quite enlightening as many of these variables are useless."
   ]
  },
  {
   "cell_type": "markdown",
   "metadata": {},
   "source": [
    "# Getting Features\n",
    "Here we combine datasets across the Fitbit, EMAs, and Beacon"
   ]
  },
  {
   "cell_type": "code",
   "execution_count": 21,
   "metadata": {},
   "outputs": [
    {
     "data": {
      "text/plain": [
       "Index(['lat', 'long', 'altitude', 'accuracy', 'tvoc', 'lux', 'no2', 'co',\n",
       "       'co2', 'pm1_number', 'pm2p5_number', 'pm10_number', 'pm1_mass',\n",
       "       'pm2p5_mass', 'pm10_mass', 'temperature_c', 'rh', 'beacon', 'beiwe',\n",
       "       'fitbit', 'redcap', 'start_time', 'end_time'],\n",
       "      dtype='object')"
      ]
     },
     "execution_count": 21,
     "metadata": {},
     "output_type": "execute_result"
    }
   ],
   "source": [
    "beacon = pd.read_csv(\"../data/processed/beacon-fb_ema_and_gps_filtered-ux_s20.csv\",index_col=0,parse_dates=True,infer_datetime_format=True)\n",
    "beacon.columns"
   ]
  },
  {
   "cell_type": "code",
   "execution_count": 28,
   "metadata": {},
   "outputs": [
    {
     "ename": "NameError",
     "evalue": "name 'mean' is not defined",
     "output_type": "error",
     "traceback": [
      "\u001b[0;31m---------------------------------------------------------------------------\u001b[0m",
      "\u001b[0;31mNameError\u001b[0m                                 Traceback (most recent call last)",
      "\u001b[0;32m<ipython-input-28-f122754b39c9>\u001b[0m in \u001b[0;36m<module>\u001b[0;34m\u001b[0m\n\u001b[1;32m      1\u001b[0m \u001b[0mbeacon_mean\u001b[0m \u001b[0;34m=\u001b[0m \u001b[0mpd\u001b[0m\u001b[0;34m.\u001b[0m\u001b[0mDataFrame\u001b[0m\u001b[0;34m(\u001b[0m\u001b[0;34m)\u001b[0m\u001b[0;34m\u001b[0m\u001b[0m\n\u001b[0;32m----> 2\u001b[0;31m \u001b[0;32mfor\u001b[0m \u001b[0mf\u001b[0m \u001b[0;32min\u001b[0m \u001b[0;34m[\u001b[0m\u001b[0mmean\u001b[0m\u001b[0;34m,\u001b[0m\u001b[0mmedian\u001b[0m\u001b[0;34m]\u001b[0m\u001b[0;34m:\u001b[0m\u001b[0;34m\u001b[0m\u001b[0m\n\u001b[0m\u001b[1;32m      3\u001b[0m     \u001b[0;32mfor\u001b[0m \u001b[0mpt\u001b[0m \u001b[0;32min\u001b[0m \u001b[0mbeacon\u001b[0m\u001b[0;34m[\u001b[0m\u001b[0;34m\"beiwe\"\u001b[0m\u001b[0;34m]\u001b[0m\u001b[0;34m.\u001b[0m\u001b[0munique\u001b[0m\u001b[0;34m(\u001b[0m\u001b[0;34m)\u001b[0m\u001b[0;34m:\u001b[0m\u001b[0;34m\u001b[0m\u001b[0m\n\u001b[1;32m      4\u001b[0m         \u001b[0mbeacon_by_pt\u001b[0m \u001b[0;34m=\u001b[0m \u001b[0mbeacon\u001b[0m\u001b[0;34m[\u001b[0m\u001b[0mbeacon\u001b[0m\u001b[0;34m[\u001b[0m\u001b[0;34m\"beiwe\"\u001b[0m\u001b[0;34m]\u001b[0m \u001b[0;34m==\u001b[0m \u001b[0mpt\u001b[0m\u001b[0;34m]\u001b[0m\u001b[0;34m\u001b[0m\u001b[0m\n\u001b[1;32m      5\u001b[0m         \u001b[0mids\u001b[0m \u001b[0;34m=\u001b[0m \u001b[0mbeacon_by_pt\u001b[0m\u001b[0;34m[\u001b[0m\u001b[0;34m[\u001b[0m\u001b[0;34m\"end_time\"\u001b[0m\u001b[0;34m,\u001b[0m\u001b[0;34m\"beacon\"\u001b[0m\u001b[0;34m,\u001b[0m\u001b[0;34m\"beiwe\"\u001b[0m\u001b[0;34m,\u001b[0m\u001b[0;34m\"fitbit\"\u001b[0m\u001b[0;34m,\u001b[0m\u001b[0;34m\"redcap\"\u001b[0m\u001b[0;34m]\u001b[0m\u001b[0;34m]\u001b[0m\u001b[0;34m\u001b[0m\u001b[0m\n",
      "\u001b[0;31mNameError\u001b[0m: name 'mean' is not defined"
     ]
    }
   ],
   "source": [
    "beacon_mean = pd.DataFrame()\n",
    "for pt in beacon[\"beiwe\"].unique():\n",
    "    beacon_by_pt = beacon[beacon[\"beiwe\"] == pt]\n",
    "    ids = beacon_by_pt[[\"end_time\",\"beacon\",\"beiwe\",\"fitbit\",\"redcap\"]]\n",
    "    beacon_mean_by_pt = beacon_by_pt.groupby(\"start_time\").mean()\n",
    "    beacon_mean_by_pt[\"end_time\"] = ids[\"end_time\"].unique()\n",
    "    for col in ids.columns[1:]:\n",
    "        beacon_mean_by_pt[col] = ids[col][0]\n",
    "    beacon_mean = beacon_mean.append(beacon_mean_by_pt)\n",
    "    \n",
    "beacon_mean"
   ]
  },
  {
   "cell_type": "code",
   "execution_count": 11,
   "metadata": {},
   "outputs": [
    {
     "data": {
      "text/plain": [
       "Index(['date', 'duration_ms', 'efficiency', 'end_time', 'main_sleep',\n",
       "       'minutes_after_wakeup', 'minutes_asleep', 'minutes_awake',\n",
       "       'minutes_to_sleep', 'start_time', 'time_in_bed', 'content', 'stress',\n",
       "       'lonely', 'sad', 'energy', 'tst', 'sol', 'naw', 'restful', 'beiwe',\n",
       "       'beacon', 'fitbit', 'redcap'],\n",
       "      dtype='object')"
      ]
     },
     "execution_count": 11,
     "metadata": {},
     "output_type": "execute_result"
    }
   ],
   "source": [
    "beacon = pd.read_csv(\"../data/processed/fitbit_beiwe_beacon-sleep_summary-ux_s20.csv\")\n",
    "beacon.columns"
   ]
  },
  {
   "cell_type": "code",
   "execution_count": 12,
   "metadata": {},
   "outputs": [],
   "source": [
    "beacon = pd.read_csv(\"../data/processed/beacon-fb_ema_and_gps_filtered-ux_s20.csv\")"
   ]
  },
  {
   "cell_type": "code",
   "execution_count": 15,
   "metadata": {},
   "outputs": [
    {
     "data": {
      "text/plain": [
       "Index(['timestamp', 'lat', 'long', 'altitude', 'accuracy', 'tvoc', 'lux',\n",
       "       'no2', 'co', 'co2', 'pm1_number', 'pm2p5_number', 'pm10_number',\n",
       "       'pm1_mass', 'pm2p5_mass', 'pm10_mass', 'temperature_c', 'rh', 'beacon',\n",
       "       'beiwe', 'fitbit', 'redcap', 'start_time', 'end_time'],\n",
       "      dtype='object')"
      ]
     },
     "execution_count": 15,
     "metadata": {},
     "output_type": "execute_result"
    }
   ],
   "source": [
    "beacon.columns"
   ]
  },
  {
   "cell_type": "code",
   "execution_count": null,
   "metadata": {},
   "outputs": [],
   "source": []
  }
 ],
 "metadata": {
  "kernelspec": {
   "display_name": "Python 3",
   "language": "python",
   "name": "python3"
  },
  "language_info": {
   "codemirror_mode": {
    "name": "ipython",
    "version": 3
   },
   "file_extension": ".py",
   "mimetype": "text/x-python",
   "name": "python",
   "nbconvert_exporter": "python",
   "pygments_lexer": "ipython3",
   "version": "3.7.0"
  },
  "toc": {
   "base_numbering": 1,
   "nav_menu": {},
   "number_sections": false,
   "sideBar": false,
   "skip_h1_title": false,
   "title_cell": "Table of Contents",
   "title_sidebar": "Contents",
   "toc_cell": false,
   "toc_position": {},
   "toc_section_display": false,
   "toc_window_display": false
  }
 },
 "nbformat": 4,
 "nbformat_minor": 4
}
