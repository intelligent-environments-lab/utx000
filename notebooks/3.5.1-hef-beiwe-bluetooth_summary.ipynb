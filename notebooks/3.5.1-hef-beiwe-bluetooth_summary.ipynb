{
 "cells": [
  {
   "cell_type": "markdown",
   "metadata": {},
   "source": [
    "# Exploring the UTx000 Dataset\n",
    "From the first cohort in Spring 2020"
   ]
  },
  {
   "cell_type": "code",
   "execution_count": 2,
   "metadata": {},
   "outputs": [],
   "source": [
    "import warnings\n",
    "warnings.filterwarnings('ignore')"
   ]
  },
  {
   "cell_type": "markdown",
   "metadata": {},
   "source": [
    "# Bluetooth Summary\n",
    "I don't even know what to expect with this dataset nor do I know what to do with it, but at least we have it."
   ]
  },
  {
   "cell_type": "code",
   "execution_count": 3,
   "metadata": {},
   "outputs": [],
   "source": [
    "import os\n",
    "\n",
    "import pandas as pd\n",
    "import numpy as np\n",
    "\n",
    "from datetime import datetime, timedelta\n",
    "\n",
    "import matplotlib.pyplot as plt\n",
    "import seaborn as sns"
   ]
  },
  {
   "cell_type": "markdown",
   "metadata": {},
   "source": [
    "# Data Import\n",
    "Importing the \"processed\" file - really it is just a fille that has all participants aggregated."
   ]
  },
  {
   "cell_type": "code",
   "execution_count": 4,
   "metadata": {},
   "outputs": [
    {
     "data": {
      "text/html": [
       "<div>\n",
       "<style scoped>\n",
       "    .dataframe tbody tr th:only-of-type {\n",
       "        vertical-align: middle;\n",
       "    }\n",
       "\n",
       "    .dataframe tbody tr th {\n",
       "        vertical-align: top;\n",
       "    }\n",
       "\n",
       "    .dataframe thead th {\n",
       "        text-align: right;\n",
       "    }\n",
       "</style>\n",
       "<table border=\"1\" class=\"dataframe\">\n",
       "  <thead>\n",
       "    <tr style=\"text-align: right;\">\n",
       "      <th></th>\n",
       "      <th>timestamp</th>\n",
       "      <th>UTC time</th>\n",
       "      <th>hashed MAC</th>\n",
       "      <th>RSSI</th>\n",
       "      <th>Beiwe</th>\n",
       "    </tr>\n",
       "    <tr>\n",
       "      <th>Time</th>\n",
       "      <th></th>\n",
       "      <th></th>\n",
       "      <th></th>\n",
       "      <th></th>\n",
       "      <th></th>\n",
       "    </tr>\n",
       "  </thead>\n",
       "  <tbody>\n",
       "    <tr>\n",
       "      <th>2020-01-24 17:55:40.611</th>\n",
       "      <td>1579910140611</td>\n",
       "      <td>2020-01-24 23:55:40.611</td>\n",
       "      <td>73cZ5pb4-8mNifVfF2Gx3j9MfKnzAU8iqlU_2YIJgcZ9jN...</td>\n",
       "      <td>-63</td>\n",
       "      <td>25rlmdr1</td>\n",
       "    </tr>\n",
       "    <tr>\n",
       "      <th>2020-01-24 17:55:40.628</th>\n",
       "      <td>1579910140628</td>\n",
       "      <td>2020-01-24 23:55:40.628</td>\n",
       "      <td>B2WF8gAcWO3tdIThKp9OJ4TTNKs9QgYNE5TqV3XUgahEOJ...</td>\n",
       "      <td>-75</td>\n",
       "      <td>25rlmdr1</td>\n",
       "    </tr>\n",
       "    <tr>\n",
       "      <th>2020-01-24 17:55:40.654</th>\n",
       "      <td>1579910140654</td>\n",
       "      <td>2020-01-24 23:55:40.654</td>\n",
       "      <td>ae3cw_kBKVrrusCFKPGkda5FGFA83A7WlLdT32m38lzdQH...</td>\n",
       "      <td>-95</td>\n",
       "      <td>25rlmdr1</td>\n",
       "    </tr>\n",
       "    <tr>\n",
       "      <th>2020-01-24 17:55:40.663</th>\n",
       "      <td>1579910140663</td>\n",
       "      <td>2020-01-24 23:55:40.663</td>\n",
       "      <td>0osgqY-O4Mduw-qC5ngxdGOwWv0hlRXoOBzFeZQWyZFlHY...</td>\n",
       "      <td>-77</td>\n",
       "      <td>25rlmdr1</td>\n",
       "    </tr>\n",
       "    <tr>\n",
       "      <th>2020-01-24 17:55:40.686</th>\n",
       "      <td>1579910140686</td>\n",
       "      <td>2020-01-24 23:55:40.686</td>\n",
       "      <td>sOtvApjVl7yKK94lnUFWyFhTQPdGTT7ZthQcjB-U3tMUhY...</td>\n",
       "      <td>-60</td>\n",
       "      <td>25rlmdr1</td>\n",
       "    </tr>\n",
       "  </tbody>\n",
       "</table>\n",
       "</div>"
      ],
      "text/plain": [
       "                             timestamp                 UTC time  \\\n",
       "Time                                                              \n",
       "2020-01-24 17:55:40.611  1579910140611  2020-01-24 23:55:40.611   \n",
       "2020-01-24 17:55:40.628  1579910140628  2020-01-24 23:55:40.628   \n",
       "2020-01-24 17:55:40.654  1579910140654  2020-01-24 23:55:40.654   \n",
       "2020-01-24 17:55:40.663  1579910140663  2020-01-24 23:55:40.663   \n",
       "2020-01-24 17:55:40.686  1579910140686  2020-01-24 23:55:40.686   \n",
       "\n",
       "                                                                hashed MAC  \\\n",
       "Time                                                                         \n",
       "2020-01-24 17:55:40.611  73cZ5pb4-8mNifVfF2Gx3j9MfKnzAU8iqlU_2YIJgcZ9jN...   \n",
       "2020-01-24 17:55:40.628  B2WF8gAcWO3tdIThKp9OJ4TTNKs9QgYNE5TqV3XUgahEOJ...   \n",
       "2020-01-24 17:55:40.654  ae3cw_kBKVrrusCFKPGkda5FGFA83A7WlLdT32m38lzdQH...   \n",
       "2020-01-24 17:55:40.663  0osgqY-O4Mduw-qC5ngxdGOwWv0hlRXoOBzFeZQWyZFlHY...   \n",
       "2020-01-24 17:55:40.686  sOtvApjVl7yKK94lnUFWyFhTQPdGTT7ZthQcjB-U3tMUhY...   \n",
       "\n",
       "                         RSSI     Beiwe  \n",
       "Time                                     \n",
       "2020-01-24 17:55:40.611   -63  25rlmdr1  \n",
       "2020-01-24 17:55:40.628   -75  25rlmdr1  \n",
       "2020-01-24 17:55:40.654   -95  25rlmdr1  \n",
       "2020-01-24 17:55:40.663   -77  25rlmdr1  \n",
       "2020-01-24 17:55:40.686   -60  25rlmdr1  "
      ]
     },
     "execution_count": 4,
     "metadata": {},
     "output_type": "execute_result"
    }
   ],
   "source": [
    "bt = pd.read_csv('../data/processed/bpeace1-bt.csv',parse_dates=True,infer_datetime_format=True,index_col=0)\n",
    "bt.head()"
   ]
  },
  {
   "cell_type": "markdown",
   "metadata": {},
   "source": [
    "# Analysis"
   ]
  },
  {
   "cell_type": "markdown",
   "metadata": {},
   "source": [
    "## By the numbers"
   ]
  },
  {
   "cell_type": "code",
   "execution_count": 6,
   "metadata": {},
   "outputs": [
    {
     "name": "stdout",
     "output_type": "stream",
     "text": [
      "Number of BT users: 16\n"
     ]
    }
   ],
   "source": [
    "n = len(bt['Beiwe'].unique())\n",
    "print(f'Number of BT users: {n}')"
   ]
  },
  {
   "cell_type": "code",
   "execution_count": null,
   "metadata": {},
   "outputs": [],
   "source": []
  }
 ],
 "metadata": {
  "kernelspec": {
   "display_name": "Python 3",
   "language": "python",
   "name": "python3"
  },
  "language_info": {
   "codemirror_mode": {
    "name": "ipython",
    "version": 3
   },
   "file_extension": ".py",
   "mimetype": "text/x-python",
   "name": "python",
   "nbconvert_exporter": "python",
   "pygments_lexer": "ipython3",
   "version": "3.7.0"
  }
 },
 "nbformat": 4,
 "nbformat_minor": 4
}
