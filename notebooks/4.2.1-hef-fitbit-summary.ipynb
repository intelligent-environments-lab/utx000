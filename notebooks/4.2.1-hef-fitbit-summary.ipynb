{
 "cells": [
  {
   "cell_type": "markdown",
   "metadata": {},
   "source": [
    "# Fitbit Exploration\n",
    "For an explanation on the variables, take a look at the [data dictionary created by Fitabase](https://www.fitabase.com/media/1546/fitabasedatadictionary.pdf)."
   ]
  },
  {
   "cell_type": "code",
   "execution_count": 1,
   "metadata": {},
   "outputs": [],
   "source": [
    "import warnings\n",
    "warnings.filterwarnings('ignore')\n",
    "\n",
    "%load_ext autoreload\n",
    "%autoreload 2"
   ]
  },
  {
   "cell_type": "markdown",
   "metadata": {},
   "source": [
    "## Summary Notebook\n",
    "In this notebook we take a look at the available data focusing on sleep parameters primarily."
   ]
  },
  {
   "cell_type": "code",
   "execution_count": 2,
   "metadata": {},
   "outputs": [],
   "source": [
    "import os\n",
    "import sys\n",
    "sys.path.append('../')\n",
    "\n",
    "from src.features import build_features\n",
    "from src.visualization import visualize\n",
    "from src.reports import make_report\n",
    "\n",
    "import pandas as pd\n",
    "pd.set_option('display.max_columns', 200)\n",
    "import numpy as np\n",
    "\n",
    "from datetime import datetime, timedelta\n",
    "\n",
    "import matplotlib.pyplot as plt\n",
    "import seaborn as sns\n",
    "import matplotlib.dates as mdates\n",
    "from matplotlib import cm\n",
    "from matplotlib.colors import ListedColormap, LinearSegmentedColormap\n",
    "\n",
    "from joypy import joyplot"
   ]
  },
  {
   "cell_type": "markdown",
   "metadata": {},
   "source": [
    "# Daily Data\n",
    "We start by looking at the largest averaging window: daily recorded events."
   ]
  },
  {
   "cell_type": "code",
   "execution_count": 3,
   "metadata": {},
   "outputs": [
    {
     "data": {
      "text/html": [
       "<div>\n",
       "<style scoped>\n",
       "    .dataframe tbody tr th:only-of-type {\n",
       "        vertical-align: middle;\n",
       "    }\n",
       "\n",
       "    .dataframe tbody tr th {\n",
       "        vertical-align: top;\n",
       "    }\n",
       "\n",
       "    .dataframe thead th {\n",
       "        text-align: right;\n",
       "    }\n",
       "</style>\n",
       "<table border=\"1\" class=\"dataframe\">\n",
       "  <thead>\n",
       "    <tr style=\"text-align: right;\">\n",
       "      <th></th>\n",
       "      <th>calories</th>\n",
       "      <th>bmr</th>\n",
       "      <th>steps</th>\n",
       "      <th>distance</th>\n",
       "      <th>sedentary_minutes</th>\n",
       "      <th>lightly_active_minutes</th>\n",
       "      <th>fairly_active_minutes</th>\n",
       "      <th>very_active_minutes</th>\n",
       "      <th>calories_from_activities</th>\n",
       "      <th>bmi</th>\n",
       "      <th>fat</th>\n",
       "      <th>weight</th>\n",
       "      <th>food_calories_logged</th>\n",
       "      <th>water_logged</th>\n",
       "      <th>beiwe</th>\n",
       "    </tr>\n",
       "    <tr>\n",
       "      <th>timestamp</th>\n",
       "      <th></th>\n",
       "      <th></th>\n",
       "      <th></th>\n",
       "      <th></th>\n",
       "      <th></th>\n",
       "      <th></th>\n",
       "      <th></th>\n",
       "      <th></th>\n",
       "      <th></th>\n",
       "      <th></th>\n",
       "      <th></th>\n",
       "      <th></th>\n",
       "      <th></th>\n",
       "      <th></th>\n",
       "      <th></th>\n",
       "    </tr>\n",
       "  </thead>\n",
       "  <tbody>\n",
       "    <tr>\n",
       "      <th>2020-05-13</th>\n",
       "      <td>2781.0</td>\n",
       "      <td>1876.0</td>\n",
       "      <td>9207</td>\n",
       "      <td>4.396294</td>\n",
       "      <td>1241</td>\n",
       "      <td>70</td>\n",
       "      <td>118</td>\n",
       "      <td>11</td>\n",
       "      <td>1097.0</td>\n",
       "      <td>23.754</td>\n",
       "      <td>0.0</td>\n",
       "      <td>180.0</td>\n",
       "      <td>0.0</td>\n",
       "      <td>0.0</td>\n",
       "      <td>hfttkth7</td>\n",
       "    </tr>\n",
       "    <tr>\n",
       "      <th>2020-05-14</th>\n",
       "      <td>3727.0</td>\n",
       "      <td>1876.0</td>\n",
       "      <td>15207</td>\n",
       "      <td>7.261114</td>\n",
       "      <td>614</td>\n",
       "      <td>263</td>\n",
       "      <td>134</td>\n",
       "      <td>23</td>\n",
       "      <td>2234.0</td>\n",
       "      <td>23.754</td>\n",
       "      <td>0.0</td>\n",
       "      <td>180.0</td>\n",
       "      <td>0.0</td>\n",
       "      <td>0.0</td>\n",
       "      <td>hfttkth7</td>\n",
       "    </tr>\n",
       "    <tr>\n",
       "      <th>2020-05-15</th>\n",
       "      <td>3909.0</td>\n",
       "      <td>1876.0</td>\n",
       "      <td>14556</td>\n",
       "      <td>8.028501</td>\n",
       "      <td>577</td>\n",
       "      <td>205</td>\n",
       "      <td>57</td>\n",
       "      <td>108</td>\n",
       "      <td>2381.0</td>\n",
       "      <td>23.754</td>\n",
       "      <td>0.0</td>\n",
       "      <td>180.0</td>\n",
       "      <td>0.0</td>\n",
       "      <td>0.0</td>\n",
       "      <td>hfttkth7</td>\n",
       "    </tr>\n",
       "    <tr>\n",
       "      <th>2020-05-16</th>\n",
       "      <td>3927.0</td>\n",
       "      <td>1876.0</td>\n",
       "      <td>18453</td>\n",
       "      <td>8.748670</td>\n",
       "      <td>760</td>\n",
       "      <td>176</td>\n",
       "      <td>24</td>\n",
       "      <td>151</td>\n",
       "      <td>2364.0</td>\n",
       "      <td>23.754</td>\n",
       "      <td>0.0</td>\n",
       "      <td>180.0</td>\n",
       "      <td>0.0</td>\n",
       "      <td>0.0</td>\n",
       "      <td>hfttkth7</td>\n",
       "    </tr>\n",
       "    <tr>\n",
       "      <th>2020-05-17</th>\n",
       "      <td>4180.0</td>\n",
       "      <td>1876.0</td>\n",
       "      <td>15425</td>\n",
       "      <td>7.973149</td>\n",
       "      <td>605</td>\n",
       "      <td>207</td>\n",
       "      <td>50</td>\n",
       "      <td>131</td>\n",
       "      <td>2652.0</td>\n",
       "      <td>23.754</td>\n",
       "      <td>0.0</td>\n",
       "      <td>180.0</td>\n",
       "      <td>0.0</td>\n",
       "      <td>0.0</td>\n",
       "      <td>hfttkth7</td>\n",
       "    </tr>\n",
       "  </tbody>\n",
       "</table>\n",
       "</div>"
      ],
      "text/plain": [
       "            calories     bmr  steps  distance  sedentary_minutes  \\\n",
       "timestamp                                                          \n",
       "2020-05-13    2781.0  1876.0   9207  4.396294               1241   \n",
       "2020-05-14    3727.0  1876.0  15207  7.261114                614   \n",
       "2020-05-15    3909.0  1876.0  14556  8.028501                577   \n",
       "2020-05-16    3927.0  1876.0  18453  8.748670                760   \n",
       "2020-05-17    4180.0  1876.0  15425  7.973149                605   \n",
       "\n",
       "            lightly_active_minutes  fairly_active_minutes  \\\n",
       "timestamp                                                   \n",
       "2020-05-13                      70                    118   \n",
       "2020-05-14                     263                    134   \n",
       "2020-05-15                     205                     57   \n",
       "2020-05-16                     176                     24   \n",
       "2020-05-17                     207                     50   \n",
       "\n",
       "            very_active_minutes  calories_from_activities     bmi  fat  \\\n",
       "timestamp                                                                \n",
       "2020-05-13                   11                    1097.0  23.754  0.0   \n",
       "2020-05-14                   23                    2234.0  23.754  0.0   \n",
       "2020-05-15                  108                    2381.0  23.754  0.0   \n",
       "2020-05-16                  151                    2364.0  23.754  0.0   \n",
       "2020-05-17                  131                    2652.0  23.754  0.0   \n",
       "\n",
       "            weight  food_calories_logged  water_logged     beiwe  \n",
       "timestamp                                                         \n",
       "2020-05-13   180.0                   0.0           0.0  hfttkth7  \n",
       "2020-05-14   180.0                   0.0           0.0  hfttkth7  \n",
       "2020-05-15   180.0                   0.0           0.0  hfttkth7  \n",
       "2020-05-16   180.0                   0.0           0.0  hfttkth7  \n",
       "2020-05-17   180.0                   0.0           0.0  hfttkth7  "
      ]
     },
     "execution_count": 3,
     "metadata": {},
     "output_type": "execute_result"
    }
   ],
   "source": [
    "daily_fitbit = pd.read_csv(\"../data/processed/fitbit-daily-ux_s20.csv\",index_col=0,parse_dates=True)\n",
    "daily_fitbit.head()"
   ]
  },
  {
   "cell_type": "markdown",
   "metadata": {},
   "source": [
    "Adding a column for total active minutes which should give us a picture of whether or not their device was on the entire day."
   ]
  },
  {
   "cell_type": "code",
   "execution_count": 4,
   "metadata": {},
   "outputs": [
    {
     "name": "stdout",
     "output_type": "stream",
     "text": [
      "Max number of activity minutes: 1440\n",
      "Max number of steps taken (for visualizing purposes): 37485\n",
      "Max number of calories burned (for visualizing purposes): 6089.0\n"
     ]
    }
   ],
   "source": [
    "daily_fitbit[\"activities_minutes\"] = daily_fitbit[[\"sedentary_minutes\",\"lightly_active_minutes\",\n",
    "                                                \"fairly_active_minutes\",\"very_active_minutes\"]].sum(axis=1)\n",
    "daily_fitbit[\"activities_percentage\"] = daily_fitbit[\"activities_minutes\"] / 1440 * 100\n",
    "# checking to see if it makes sense - should be 1440\n",
    "print(\"Max number of activity minutes:\",np.max(daily_fitbit[\"activities_minutes\"]))\n",
    "# finding cutoffs for other variables\n",
    "print(\"Max number of steps taken (for visualizing purposes):\",np.max(daily_fitbit[\"steps\"]))\n",
    "print(\"Max number of calories burned (for visualizing purposes):\",np.max(daily_fitbit[\"calories\"]))"
   ]
  },
  {
   "cell_type": "code",
   "execution_count": 5,
   "metadata": {},
   "outputs": [],
   "source": [
    "def limit_dataset(df,byvar=\"beacon\",id_list=range(0,51,1)):\n",
    "    \"\"\"limits datasets to only including observations from certain participants\"\"\"\n",
    "    return df[df[byvar].isin(id_list)]"
   ]
  },
  {
   "cell_type": "markdown",
   "metadata": {},
   "source": [
    "## Data Availability\n",
    "\n",
    "### Heatmaps\n",
    "Looking at heatmaps per participant to see logged data"
   ]
  },
  {
   "cell_type": "code",
   "execution_count": 6,
   "metadata": {
    "scrolled": true
   },
   "outputs": [],
   "source": [
    "def heatmaps_by_pt(df=daily_fitbit,var_list=['calories','steps','activities_minutes','activities_percentage'],limit_list = [[0,4000],[0,35000],[0,1440],[0,100]],save=False):\n",
    "    \"\"\"\n",
    "    \n",
    "    \"\"\"\n",
    "    fig, axes = plt.subplots(2,2,figsize=(24,14),sharey=\"row\",sharex=\"col\")\n",
    "    for variable, limits, ax in zip(var_list, limit_list,axes.flat):\n",
    "        heatmap_df = pd.DataFrame()\n",
    "        for beiwe in daily_fitbit['beiwe'].unique():\n",
    "            daily_fitbit_by_beacon = daily_fitbit[daily_fitbit['beiwe'] == beiwe]\n",
    "            sdate = datetime(2020,6,1)\n",
    "            edate = datetime(2020,10,1)\n",
    "            daily_fitbit_by_beacon = daily_fitbit_by_beacon[sdate:edate]\n",
    "            heatmap_df = pd.concat([heatmap_df,daily_fitbit_by_beacon[variable]],axis=1)\n",
    "            heatmap_df.rename(columns={variable:beiwe}, inplace=True)\n",
    "\n",
    "        df_to_plot = heatmap_df.T\n",
    "        sns.heatmap(df_to_plot,vmin=limits[0],vmax=limits[1],cmap='Greens',ax=ax)\n",
    "        # x-axis\n",
    "        xlabels = ax.get_xticklabels()\n",
    "        new_xlabels = []\n",
    "        for label in xlabels:\n",
    "            new_xlabels.append(label.get_text()[5:11])\n",
    "        ax.set_xticklabels(new_xlabels)\n",
    "        # y-axis\n",
    "        ax.set_ylabel(\"Participant Beiwe ID\")\n",
    "        # remaining\n",
    "        ax.set_title(variable)\n",
    "    \n",
    "    plt.subplots_adjust(hspace=0.1,wspace=0)\n",
    "    if save:\n",
    "        plt.savefig(f'../reports/figures/fitbit_summary/fitbit-{variable}-heatmap.pdf',bbox_inches=\"tight\")\n",
    "    plt.show()\n",
    "    plt.close()"
   ]
  },
  {
   "cell_type": "code",
   "execution_count": 7,
   "metadata": {},
   "outputs": [
    {
     "data": {
      "image/png": "[encoded data removed]",
      "text/plain": [
       "<Figure size 1728x1008 with 8 Axes>"
      ]
     },
     "metadata": {
      "needs_background": "light"
     },
     "output_type": "display_data"
    }
   ],
   "source": [
    "heatmaps_by_pt()"
   ]
  },
  {
   "cell_type": "markdown",
   "metadata": {},
   "source": [
    "<div class=\"alert alert-block alert-warning\">\n",
    "\n",
    "The last figure gives the best insight into the available data from each participant. Cells with the lightest color correspond to 1440 minutes (1 day) meaning the Fitbit recorded data all day. \n",
    "    \n",
    "</div>"
   ]
  },
  {
   "cell_type": "markdown",
   "metadata": {},
   "source": [
    "<div class=\"alert alert-block alert-success\">\n",
    "We can improve upon the last figure, but converting the sum of minutes to a percentage and then plotting a heatmap of that!"
   ]
  },
  {
   "cell_type": "markdown",
   "metadata": {},
   "source": [
    "More analysis on the completeness of Fitbit data is warranted. Here we look at the overall completeness of the participants' data collection and the number of days above a certain percentage of data collection."
   ]
  },
  {
   "cell_type": "markdown",
   "metadata": {},
   "source": [
    "### Number of Participants"
   ]
  },
  {
   "cell_type": "markdown",
   "metadata": {},
   "source": [
    "Checking participants for each metric in ```daily_fitbit```"
   ]
  },
  {
   "cell_type": "code",
   "execution_count": 8,
   "metadata": {},
   "outputs": [
    {
     "name": "stdout",
     "output_type": "stream",
     "text": [
      "Number of Overall Participants: 59\n",
      "calories:\n",
      "\tNumber of participants: 59\n",
      "bmr:\n",
      "\tNumber of participants: 59\n",
      "steps:\n",
      "\tNumber of participants: 59\n",
      "distance:\n",
      "\tNumber of participants: 59\n",
      "sedentary_minutes:\n",
      "\tNumber of participants: 59\n",
      "lightly_active_minutes:\n",
      "\tNumber of participants: 59\n",
      "fairly_active_minutes:\n",
      "\tNumber of participants: 59\n",
      "very_active_minutes:\n",
      "\tNumber of participants: 59\n",
      "calories_from_activities:\n",
      "\tNumber of participants: 59\n",
      "bmi:\n",
      "\tNumber of participants: 59\n",
      "fat:\n",
      "\tNumber of participants: 59\n",
      "weight:\n",
      "\tNumber of participants: 59\n",
      "food_calories_logged:\n",
      "\tNumber of participants: 59\n",
      "water_logged:\n",
      "\tNumber of participants: 59\n",
      "activities_minutes:\n",
      "\tNumber of participants: 59\n",
      "activities_percentage:\n",
      "\tNumber of participants: 59\n"
     ]
    }
   ],
   "source": [
    "n_pts = len(daily_fitbit['beiwe'].unique())\n",
    "print(f'Number of Overall Participants: {n_pts}')\n",
    "pts_daily = np.sort(daily_fitbit['beiwe'].unique())\n",
    "for col in daily_fitbit.columns:\n",
    "    if col != 'beiwe':\n",
    "        print(f'{col}:')\n",
    "        temp_fitbit = daily_fitbit[[col,'beiwe']].dropna()\n",
    "        n = len(temp_fitbit['beiwe'].unique())\n",
    "        print(f'\\tNumber of participants: {n}')"
   ]
  },
  {
   "cell_type": "code",
   "execution_count": 9,
   "metadata": {},
   "outputs": [],
   "source": [
    "# ids\n",
    "bid = []\n",
    "for beiwe in daily_fitbit['beiwe'].unique():\n",
    "    bid.append(beiwe)"
   ]
  },
  {
   "cell_type": "markdown",
   "metadata": {},
   "source": [
    "### Number of Hours\n",
    "We can use the activity minutes to get a sense of the number of minutes that were collected by the fitbit."
   ]
  },
  {
   "cell_type": "code",
   "execution_count": 10,
   "metadata": {},
   "outputs": [
    {
     "name": "stdout",
     "output_type": "stream",
     "text": [
      "Number of hours of data collected: 92271.86666666667\n",
      "Number of days of data collected: 3844.661111111111\n"
     ]
    }
   ],
   "source": [
    "n_hours = np.sum(daily_fitbit['activities_minutes'] / 60)\n",
    "print(f'Number of hours of data collected: {n_hours}')\n",
    "print(f'Number of days of data collected: {n_hours / 24}')"
   ]
  },
  {
   "cell_type": "markdown",
   "metadata": {},
   "source": [
    "### Average completeness when wearing the Fitbit"
   ]
  },
  {
   "cell_type": "markdown",
   "metadata": {},
   "source": [
    "And with that, now we plot with number of days and percetnage"
   ]
  },
  {
   "cell_type": "code",
   "execution_count": 11,
   "metadata": {},
   "outputs": [],
   "source": [
    "def get_completness_cutoffs():\n",
    "    fig, ax = plt.subplots(figsize=(8,4))\n",
    "    for i in range(len(cutoffs.columns)):\n",
    "        ax.scatter(i,cutoffs.sum().iloc[i],color='cornflowerblue',zorder=4,s=80)\n",
    "        #ax.text(i,cutoffs.sum().iloc[i],f'{cutoffs.sum().iloc[i]}',ha='left',va='top',zorder=10)\n",
    "\n",
    "    ax.set_xlim([-0.5,4.5])\n",
    "    ax.set_xticks(np.arange(0,5,1))\n",
    "    ax.set_xticklabels(['Total','>50','>75','>85','>95'])\n",
    "    ax.set_ylabel('Number of Days')\n",
    "\n",
    "    ax2 = ax.twinx()\n",
    "    for i in range(len(cutoffs.columns)):\n",
    "        ax2.scatter(i,cutoffs.sum().iloc[i]/cutoffs.sum().iloc[0]*100,color='cornflowerblue',zorder=2,alpha=0,s=125)\n",
    "\n",
    "    ax2.set_ylabel('Percentage')\n",
    "    ax.grid('both',zorder=1)\n",
    "\n",
    "    #plt.savefig(f'../reports/utx000_initial_update/figures/fitbit-fitbit-daily-completeness-combined.pdf')\n",
    "    #plt.savefig(f'../reports/BuildSys2020/fitbit-fitbit-daily-completeness-combined.pdf')\n",
    "    plt.show()\n",
    "    plt.close()"
   ]
  },
  {
   "cell_type": "markdown",
   "metadata": {},
   "source": [
    "## Sleep Data\n",
    "Sleep data is a subset of the daily data and we can check to see how many nights of data we have available at least from the current dataset.\n"
   ]
  },
  {
   "cell_type": "code",
   "execution_count": 182,
   "metadata": {},
   "outputs": [
    {
     "data": {
      "text/html": [
       "<div>\n",
       "<style scoped>\n",
       "    .dataframe tbody tr th:only-of-type {\n",
       "        vertical-align: middle;\n",
       "    }\n",
       "\n",
       "    .dataframe tbody tr th {\n",
       "        vertical-align: top;\n",
       "    }\n",
       "\n",
       "    .dataframe thead th {\n",
       "        text-align: right;\n",
       "    }\n",
       "</style>\n",
       "<table border=\"1\" class=\"dataframe\">\n",
       "  <thead>\n",
       "    <tr style=\"text-align: right;\">\n",
       "      <th></th>\n",
       "      <th>duration_ms</th>\n",
       "      <th>efficiency</th>\n",
       "      <th>end_time</th>\n",
       "      <th>main_sleep</th>\n",
       "      <th>minutes_after_wakeup</th>\n",
       "      <th>minutes_asleep</th>\n",
       "      <th>minutes_awake</th>\n",
       "      <th>minutes_to_sleep</th>\n",
       "      <th>start_time</th>\n",
       "      <th>time_in_bed</th>\n",
       "      <th>date</th>\n",
       "      <th>beiwe</th>\n",
       "      <th>redcap</th>\n",
       "      <th>beacon</th>\n",
       "      <th>sol</th>\n",
       "      <th>wol</th>\n",
       "      <th>hours_asleep</th>\n",
       "    </tr>\n",
       "  </thead>\n",
       "  <tbody>\n",
       "    <tr>\n",
       "      <th>1197</th>\n",
       "      <td>38400000</td>\n",
       "      <td>88.593750</td>\n",
       "      <td>2020-05-01 12:12:30</td>\n",
       "      <td>True</td>\n",
       "      <td>0</td>\n",
       "      <td>567</td>\n",
       "      <td>73</td>\n",
       "      <td>0</td>\n",
       "      <td>2020-05-01 01:32:30</td>\n",
       "      <td>640</td>\n",
       "      <td>2020-05-01</td>\n",
       "      <td>15tejjtw</td>\n",
       "      <td>45.0</td>\n",
       "      <td>NaN</td>\n",
       "      <td>0.5</td>\n",
       "      <td>0.0</td>\n",
       "      <td>10.666667</td>\n",
       "    </tr>\n",
       "    <tr>\n",
       "      <th>1198</th>\n",
       "      <td>39060000</td>\n",
       "      <td>85.560676</td>\n",
       "      <td>2020-05-02 13:13:00</td>\n",
       "      <td>True</td>\n",
       "      <td>0</td>\n",
       "      <td>557</td>\n",
       "      <td>94</td>\n",
       "      <td>0</td>\n",
       "      <td>2020-05-02 02:21:30</td>\n",
       "      <td>651</td>\n",
       "      <td>2020-05-02</td>\n",
       "      <td>15tejjtw</td>\n",
       "      <td>45.0</td>\n",
       "      <td>NaN</td>\n",
       "      <td>16.5</td>\n",
       "      <td>0.0</td>\n",
       "      <td>10.850000</td>\n",
       "    </tr>\n",
       "    <tr>\n",
       "      <th>1199</th>\n",
       "      <td>21660000</td>\n",
       "      <td>83.379501</td>\n",
       "      <td>2020-05-03 08:01:00</td>\n",
       "      <td>True</td>\n",
       "      <td>1</td>\n",
       "      <td>301</td>\n",
       "      <td>60</td>\n",
       "      <td>0</td>\n",
       "      <td>2020-05-03 01:59:30</td>\n",
       "      <td>361</td>\n",
       "      <td>2020-05-03</td>\n",
       "      <td>15tejjtw</td>\n",
       "      <td>45.0</td>\n",
       "      <td>NaN</td>\n",
       "      <td>0.5</td>\n",
       "      <td>5.0</td>\n",
       "      <td>6.016667</td>\n",
       "    </tr>\n",
       "    <tr>\n",
       "      <th>1200</th>\n",
       "      <td>36480000</td>\n",
       "      <td>84.703947</td>\n",
       "      <td>2020-05-04 14:13:30</td>\n",
       "      <td>True</td>\n",
       "      <td>0</td>\n",
       "      <td>515</td>\n",
       "      <td>93</td>\n",
       "      <td>0</td>\n",
       "      <td>2020-05-04 04:05:00</td>\n",
       "      <td>608</td>\n",
       "      <td>2020-05-04</td>\n",
       "      <td>15tejjtw</td>\n",
       "      <td>45.0</td>\n",
       "      <td>NaN</td>\n",
       "      <td>0.5</td>\n",
       "      <td>4.0</td>\n",
       "      <td>10.133333</td>\n",
       "    </tr>\n",
       "    <tr>\n",
       "      <th>1201</th>\n",
       "      <td>30420000</td>\n",
       "      <td>85.404339</td>\n",
       "      <td>2020-05-06 10:24:00</td>\n",
       "      <td>True</td>\n",
       "      <td>0</td>\n",
       "      <td>433</td>\n",
       "      <td>74</td>\n",
       "      <td>0</td>\n",
       "      <td>2020-05-06 01:56:30</td>\n",
       "      <td>507</td>\n",
       "      <td>2020-05-06</td>\n",
       "      <td>15tejjtw</td>\n",
       "      <td>45.0</td>\n",
       "      <td>NaN</td>\n",
       "      <td>0.5</td>\n",
       "      <td>0.0</td>\n",
       "      <td>8.450000</td>\n",
       "    </tr>\n",
       "  </tbody>\n",
       "</table>\n",
       "</div>"
      ],
      "text/plain": [
       "      duration_ms  efficiency            end_time main_sleep  \\\n",
       "1197     38400000   88.593750 2020-05-01 12:12:30       True   \n",
       "1198     39060000   85.560676 2020-05-02 13:13:00       True   \n",
       "1199     21660000   83.379501 2020-05-03 08:01:00       True   \n",
       "1200     36480000   84.703947 2020-05-04 14:13:30       True   \n",
       "1201     30420000   85.404339 2020-05-06 10:24:00       True   \n",
       "\n",
       "      minutes_after_wakeup  minutes_asleep  minutes_awake  minutes_to_sleep  \\\n",
       "1197                     0             567             73                 0   \n",
       "1198                     0             557             94                 0   \n",
       "1199                     1             301             60                 0   \n",
       "1200                     0             515             93                 0   \n",
       "1201                     0             433             74                 0   \n",
       "\n",
       "              start_time  time_in_bed       date     beiwe  redcap  beacon  \\\n",
       "1197 2020-05-01 01:32:30          640 2020-05-01  15tejjtw    45.0     NaN   \n",
       "1198 2020-05-02 02:21:30          651 2020-05-02  15tejjtw    45.0     NaN   \n",
       "1199 2020-05-03 01:59:30          361 2020-05-03  15tejjtw    45.0     NaN   \n",
       "1200 2020-05-04 04:05:00          608 2020-05-04  15tejjtw    45.0     NaN   \n",
       "1201 2020-05-06 01:56:30          507 2020-05-06  15tejjtw    45.0     NaN   \n",
       "\n",
       "       sol  wol  hours_asleep  \n",
       "1197   0.5  0.0     10.666667  \n",
       "1198  16.5  0.0     10.850000  \n",
       "1199   0.5  5.0      6.016667  \n",
       "1200   0.5  4.0     10.133333  \n",
       "1201   0.5  0.0      8.450000  "
      ]
     },
     "execution_count": 182,
     "metadata": {},
     "output_type": "execute_result"
    }
   ],
   "source": [
    "daily_sleep = pd.read_csv(\"../data/processed/fitbit-sleep_daily-ux_s20.csv\",parse_dates=[\"date\",\"start_time\",\"end_time\"],infer_datetime_format=True)\n",
    "# converting duration to something that makes more sense...\n",
    "daily_sleep['hours_asleep'] = daily_sleep['duration_ms'] / 3600000\n",
    "daily_sleep.sort_values([\"beiwe\",\"start_time\"]).head()"
   ]
  },
  {
   "cell_type": "markdown",
   "metadata": {},
   "source": [
    "The [data dictionary](https://www.fitabase.com/media/1546/fitabasedatadictionary.pdf) for these variables can be quite enlightening as many of these variables are useless."
   ]
  },
  {
   "cell_type": "code",
   "execution_count": 183,
   "metadata": {},
   "outputs": [],
   "source": [
    "daily_sleep = limit_dataset(daily_sleep,id_list=[1, 5, 6, 7, 10, 11, 15, 16, 17, 19, 21, 24, 25, 26, 28, 29, 34, 36, 38, 44])"
   ]
  },
  {
   "cell_type": "markdown",
   "metadata": {},
   "source": [
    "### Summary of Data Collected\n",
    "We start with a look at the data that have been collected."
   ]
  },
  {
   "cell_type": "code",
   "execution_count": 184,
   "metadata": {},
   "outputs": [
    {
     "name": "stdout",
     "output_type": "stream",
     "text": [
      "Number of participants with sleep data: 20\n",
      "\n",
      "First submmission: 2020-04-30 22:29:30\n",
      "Last submmission: 2020-10-01 00:21:00\n"
     ]
    }
   ],
   "source": [
    "n_sleep = len(daily_sleep[\"beiwe\"].unique())\n",
    "print(\"Number of participants with sleep data:\",n_sleep)\n",
    "print()\n",
    "daily_sleep_by_time = daily_sleep.sort_values(\"start_time\")\n",
    "print(\"First submmission:\",daily_sleep_by_time.iloc[0][\"start_time\"])\n",
    "print(\"Last submmission:\",daily_sleep_by_time.iloc[-1,:][\"start_time\"])"
   ]
  },
  {
   "cell_type": "markdown",
   "metadata": {},
   "source": [
    "### Scatter of Number of Nights\n",
    "Here we look at how many nights of data each participant recorded"
   ]
  },
  {
   "cell_type": "code",
   "execution_count": 219,
   "metadata": {},
   "outputs": [],
   "source": [
    "def get_number_nights_by_pt(df=daily_sleep, by_id=\"beiwe\",start_date=datetime(2020,5,1), end_date=datetime(2020,10,1), save=False):\n",
    "    \"\"\"\n",
    "    \n",
    "    \"\"\"\n",
    "    # Number of nights recorded\n",
    "    pids = []\n",
    "    sleep_recorded = []\n",
    "    # Looping through beiwe participants\n",
    "    for pt in df[by_id].unique():\n",
    "        sleep_by_pt = df[df[by_id] == pt]\n",
    "        sleep_by_pt.set_index(\"date\",inplace=True)\n",
    "        sleep_by_pt = sleep_by_pt[start_date:end_date]\n",
    "        if len(sleep_by_pt) > 0:\n",
    "            pids.append(pt)\n",
    "            sleep_recorded.append(len(sleep_by_pt))\n",
    "\n",
    "    fig, ax = plt.subplots(figsize=(16,5))\n",
    "    df_to_plot = pd.DataFrame(data={\"id\":pids,\"nights\":sleep_recorded})\n",
    "    df_to_plot[\"id\"] = df_to_plot[\"id\"].astype(int).astype(str)\n",
    "    df_to_plot.sort_values([\"nights\"],ascending=False,inplace=True)\n",
    "    # scattering number of nights recorded eper participant\n",
    "    ax.scatter(df_to_plot[\"id\"],df_to_plot[\"nights\"],s=125,color=\"black\", zorder=10)\n",
    "    # average line\n",
    "    ax.axhline(np.mean(df_to_plot[\"nights\"]),color=\"black\",linewidth=2,linestyle=\"dashed\")\n",
    "    # x-axis\n",
    "    ax.set_xlabel(\"Participant ID\",fontsize=15)\n",
    "    plt.setp(ax.get_xticklabels(), ha=\"center\", rotation=0, fontsize=14)\n",
    "    # y-axis\n",
    "    ax.set_ylabel(\"Number of Nights Recorded\",fontsize=16)\n",
    "    plt.setp(ax.get_yticklabels(), ha=\"right\", rotation=0, fontsize=14)\n",
    "    ax.set_yticks(np.arange(0,170,20))\n",
    "    # remaining\n",
    "    for loc in [\"top\",\"right\"]:\n",
    "        ax.spines[loc].set_visible(False)\n",
    "    \n",
    "    if save:\n",
    "        plt.savefig(\"../reports/figures/fitbit_summary/fitbit-number_nights_recorded-ux_s20.png\",bbox_inches=\"tight\")\n",
    "        plt.savefig('../../papers/5eea5276044b790001ee5687/figures/fitbit-number_nights_recorded-ux_s20.pdf',bbox_inches=\"tight\")\n",
    "    plt.show()\n",
    "    plt.close()\n",
    "    \n",
    "    return df_to_plot"
   ]
  },
  {
   "cell_type": "code",
   "execution_count": 221,
   "metadata": {},
   "outputs": [
    {
     "data": {
      "image/png": "[encoded data removed]",
      "text/plain": [
       "<Figure size 1152x360 with 1 Axes>"
      ]
     },
     "metadata": {
      "needs_background": "light"
     },
     "output_type": "display_data"
    }
   ],
   "source": [
    "temp = get_number_nights_by_pt(by_id=\"beacon\",save=True)"
   ]
  },
  {
   "cell_type": "code",
   "execution_count": 218,
   "metadata": {},
   "outputs": [
    {
     "name": "stdout",
     "output_type": "stream",
     "text": [
      "Maximum number of days: 122\n",
      "Maximum number of nights recorded: 148\n",
      "Average number of nights recorded: 73.05\n",
      "Minimum number of nights recorded: 17\n",
      "Number of total nights recorded: 1461\n",
      "Number of participants: 20\n"
     ]
    }
   ],
   "source": [
    "days = (datetime(2020,10,1) - datetime(2020,6,1)).days\n",
    "print(f'Maximum number of days: {days}')\n",
    "print(f\"Maximum number of nights recorded:\", np.max(temp[\"nights\"]))\n",
    "print(f\"Average number of nights recorded:\", np.mean(temp[\"nights\"]))\n",
    "print(f\"Minimum number of nights recorded:\", np.min(temp[\"nights\"]))\n",
    "print(f'Number of total nights recorded: {np.sum(temp[\"nights\"])}')\n",
    "print(f\"Number of participants: {len(temp['id'].unique())}\")"
   ]
  },
  {
   "cell_type": "markdown",
   "metadata": {},
   "source": [
    "### Getting Sleep Metric DataFrame\n",
    "We need to get a dataframe that summarizes the sleep metrics we want to include"
   ]
  },
  {
   "cell_type": "code",
   "execution_count": 195,
   "metadata": {},
   "outputs": [
    {
     "data": {
      "text/html": [
       "<div>\n",
       "<style scoped>\n",
       "    .dataframe tbody tr th:only-of-type {\n",
       "        vertical-align: middle;\n",
       "    }\n",
       "\n",
       "    .dataframe tbody tr th {\n",
       "        vertical-align: top;\n",
       "    }\n",
       "\n",
       "    .dataframe thead th {\n",
       "        text-align: right;\n",
       "    }\n",
       "</style>\n",
       "<table border=\"1\" class=\"dataframe\">\n",
       "  <thead>\n",
       "    <tr style=\"text-align: right;\">\n",
       "      <th></th>\n",
       "      <th>start_date</th>\n",
       "      <th>end_date</th>\n",
       "      <th>deep_count</th>\n",
       "      <th>deep_minutes</th>\n",
       "      <th>light_count</th>\n",
       "      <th>light_minutes</th>\n",
       "      <th>rem_count</th>\n",
       "      <th>rem_minutes</th>\n",
       "      <th>wake_count</th>\n",
       "      <th>wake_minutes</th>\n",
       "      <th>beiwe</th>\n",
       "      <th>efficiency</th>\n",
       "      <th>end_time</th>\n",
       "      <th>start_time</th>\n",
       "      <th>redcap</th>\n",
       "      <th>beacon</th>\n",
       "      <th>nrem_count</th>\n",
       "      <th>nrem_minutes</th>\n",
       "      <th>rem2nrem</th>\n",
       "      <th>tst_fb</th>\n",
       "      <th>rem_percent</th>\n",
       "      <th>nrem_percent</th>\n",
       "      <th>waso</th>\n",
       "      <th>sol_fb</th>\n",
       "      <th>wol_fb</th>\n",
       "    </tr>\n",
       "  </thead>\n",
       "  <tbody>\n",
       "    <tr>\n",
       "      <th>1185</th>\n",
       "      <td>2020-05-01</td>\n",
       "      <td>2020-05-01</td>\n",
       "      <td>5.0</td>\n",
       "      <td>119.0</td>\n",
       "      <td>43.0</td>\n",
       "      <td>313.0</td>\n",
       "      <td>18.0</td>\n",
       "      <td>135.0</td>\n",
       "      <td>53.0</td>\n",
       "      <td>73.0</td>\n",
       "      <td>15tejjtw</td>\n",
       "      <td>88.593750</td>\n",
       "      <td>2020-05-01 12:12:30</td>\n",
       "      <td>2020-05-01 01:32:30</td>\n",
       "      <td>45.0</td>\n",
       "      <td>NaN</td>\n",
       "      <td>48.0</td>\n",
       "      <td>432.0</td>\n",
       "      <td>0.312500</td>\n",
       "      <td>9.450000</td>\n",
       "      <td>0.238095</td>\n",
       "      <td>0.761905</td>\n",
       "      <td>72.5</td>\n",
       "      <td>0.5</td>\n",
       "      <td>0.0</td>\n",
       "    </tr>\n",
       "    <tr>\n",
       "      <th>1186</th>\n",
       "      <td>2020-05-02</td>\n",
       "      <td>2020-05-02</td>\n",
       "      <td>4.0</td>\n",
       "      <td>115.0</td>\n",
       "      <td>46.0</td>\n",
       "      <td>336.0</td>\n",
       "      <td>12.0</td>\n",
       "      <td>106.0</td>\n",
       "      <td>47.0</td>\n",
       "      <td>94.0</td>\n",
       "      <td>15tejjtw</td>\n",
       "      <td>85.560676</td>\n",
       "      <td>2020-05-02 13:13:00</td>\n",
       "      <td>2020-05-02 02:21:30</td>\n",
       "      <td>45.0</td>\n",
       "      <td>NaN</td>\n",
       "      <td>50.0</td>\n",
       "      <td>451.0</td>\n",
       "      <td>0.235033</td>\n",
       "      <td>9.283333</td>\n",
       "      <td>0.190305</td>\n",
       "      <td>0.809695</td>\n",
       "      <td>77.5</td>\n",
       "      <td>16.5</td>\n",
       "      <td>0.0</td>\n",
       "    </tr>\n",
       "    <tr>\n",
       "      <th>1187</th>\n",
       "      <td>2020-05-03</td>\n",
       "      <td>2020-05-03</td>\n",
       "      <td>4.0</td>\n",
       "      <td>90.0</td>\n",
       "      <td>22.0</td>\n",
       "      <td>157.0</td>\n",
       "      <td>5.0</td>\n",
       "      <td>54.0</td>\n",
       "      <td>20.0</td>\n",
       "      <td>60.0</td>\n",
       "      <td>15tejjtw</td>\n",
       "      <td>83.379501</td>\n",
       "      <td>2020-05-03 08:01:00</td>\n",
       "      <td>2020-05-03 01:59:30</td>\n",
       "      <td>45.0</td>\n",
       "      <td>NaN</td>\n",
       "      <td>26.0</td>\n",
       "      <td>247.0</td>\n",
       "      <td>0.218623</td>\n",
       "      <td>5.016667</td>\n",
       "      <td>0.179402</td>\n",
       "      <td>0.820598</td>\n",
       "      <td>54.5</td>\n",
       "      <td>0.5</td>\n",
       "      <td>5.0</td>\n",
       "    </tr>\n",
       "    <tr>\n",
       "      <th>1188</th>\n",
       "      <td>2020-05-04</td>\n",
       "      <td>2020-05-04</td>\n",
       "      <td>5.0</td>\n",
       "      <td>104.0</td>\n",
       "      <td>40.0</td>\n",
       "      <td>323.0</td>\n",
       "      <td>8.0</td>\n",
       "      <td>88.0</td>\n",
       "      <td>37.0</td>\n",
       "      <td>93.0</td>\n",
       "      <td>15tejjtw</td>\n",
       "      <td>84.703947</td>\n",
       "      <td>2020-05-04 14:13:30</td>\n",
       "      <td>2020-05-04 04:05:00</td>\n",
       "      <td>45.0</td>\n",
       "      <td>NaN</td>\n",
       "      <td>45.0</td>\n",
       "      <td>427.0</td>\n",
       "      <td>0.206089</td>\n",
       "      <td>8.583333</td>\n",
       "      <td>0.170874</td>\n",
       "      <td>0.829126</td>\n",
       "      <td>88.5</td>\n",
       "      <td>0.5</td>\n",
       "      <td>4.0</td>\n",
       "    </tr>\n",
       "    <tr>\n",
       "      <th>1189</th>\n",
       "      <td>2020-05-06</td>\n",
       "      <td>2020-05-06</td>\n",
       "      <td>4.0</td>\n",
       "      <td>101.0</td>\n",
       "      <td>30.0</td>\n",
       "      <td>211.0</td>\n",
       "      <td>19.0</td>\n",
       "      <td>121.0</td>\n",
       "      <td>34.0</td>\n",
       "      <td>74.0</td>\n",
       "      <td>15tejjtw</td>\n",
       "      <td>85.404339</td>\n",
       "      <td>2020-05-06 10:24:00</td>\n",
       "      <td>2020-05-06 01:56:30</td>\n",
       "      <td>45.0</td>\n",
       "      <td>NaN</td>\n",
       "      <td>34.0</td>\n",
       "      <td>312.0</td>\n",
       "      <td>0.387821</td>\n",
       "      <td>7.216667</td>\n",
       "      <td>0.279446</td>\n",
       "      <td>0.720554</td>\n",
       "      <td>73.5</td>\n",
       "      <td>0.5</td>\n",
       "      <td>0.0</td>\n",
       "    </tr>\n",
       "  </tbody>\n",
       "</table>\n",
       "</div>"
      ],
      "text/plain": [
       "     start_date   end_date  deep_count  deep_minutes  light_count  \\\n",
       "1185 2020-05-01 2020-05-01         5.0         119.0         43.0   \n",
       "1186 2020-05-02 2020-05-02         4.0         115.0         46.0   \n",
       "1187 2020-05-03 2020-05-03         4.0          90.0         22.0   \n",
       "1188 2020-05-04 2020-05-04         5.0         104.0         40.0   \n",
       "1189 2020-05-06 2020-05-06         4.0         101.0         30.0   \n",
       "\n",
       "      light_minutes  rem_count  rem_minutes  wake_count  wake_minutes  \\\n",
       "1185          313.0       18.0        135.0        53.0          73.0   \n",
       "1186          336.0       12.0        106.0        47.0          94.0   \n",
       "1187          157.0        5.0         54.0        20.0          60.0   \n",
       "1188          323.0        8.0         88.0        37.0          93.0   \n",
       "1189          211.0       19.0        121.0        34.0          74.0   \n",
       "\n",
       "         beiwe  efficiency            end_time          start_time  redcap  \\\n",
       "1185  15tejjtw   88.593750 2020-05-01 12:12:30 2020-05-01 01:32:30    45.0   \n",
       "1186  15tejjtw   85.560676 2020-05-02 13:13:00 2020-05-02 02:21:30    45.0   \n",
       "1187  15tejjtw   83.379501 2020-05-03 08:01:00 2020-05-03 01:59:30    45.0   \n",
       "1188  15tejjtw   84.703947 2020-05-04 14:13:30 2020-05-04 04:05:00    45.0   \n",
       "1189  15tejjtw   85.404339 2020-05-06 10:24:00 2020-05-06 01:56:30    45.0   \n",
       "\n",
       "      beacon  nrem_count  nrem_minutes  rem2nrem    tst_fb  rem_percent  \\\n",
       "1185     NaN        48.0         432.0  0.312500  9.450000     0.238095   \n",
       "1186     NaN        50.0         451.0  0.235033  9.283333     0.190305   \n",
       "1187     NaN        26.0         247.0  0.218623  5.016667     0.179402   \n",
       "1188     NaN        45.0         427.0  0.206089  8.583333     0.170874   \n",
       "1189     NaN        34.0         312.0  0.387821  7.216667     0.279446   \n",
       "\n",
       "      nrem_percent  waso  sol_fb  wol_fb  \n",
       "1185      0.761905  72.5     0.5     0.0  \n",
       "1186      0.809695  77.5    16.5     0.0  \n",
       "1187      0.820598  54.5     0.5     5.0  \n",
       "1188      0.829126  88.5     0.5     4.0  \n",
       "1189      0.720554  73.5     0.5     0.0  "
      ]
     },
     "execution_count": 195,
     "metadata": {},
     "output_type": "execute_result"
    }
   ],
   "source": [
    "fitbit_sleep_summary = pd.read_csv(\"../data/processed/fitbit-sleep_summary-ux_s20.csv\",parse_dates=[\"start_date\",\"end_date\",\"start_time\",\"end_time\"],infer_datetime_format=True)\n",
    "fitbit_sleep_summary.sort_values([\"beiwe\",\"start_time\"]).head()"
   ]
  },
  {
   "cell_type": "markdown",
   "metadata": {},
   "source": [
    "Getting important columns i.e. metrics to consider and IDs"
   ]
  },
  {
   "cell_type": "code",
   "execution_count": 210,
   "metadata": {},
   "outputs": [],
   "source": [
    "fitbit_sleep_summary = limit_dataset(fitbit_sleep_summary,id_list=[1, 5, 6, 7, 10, 11, 15, 16, 17, 19, 21, 24, 25, 26, 28, 29, 34, 36, 38, 44])"
   ]
  },
  {
   "cell_type": "code",
   "execution_count": 211,
   "metadata": {},
   "outputs": [
    {
     "data": {
      "text/html": [
       "<div>\n",
       "<style scoped>\n",
       "    .dataframe tbody tr th:only-of-type {\n",
       "        vertical-align: middle;\n",
       "    }\n",
       "\n",
       "    .dataframe tbody tr th {\n",
       "        vertical-align: top;\n",
       "    }\n",
       "\n",
       "    .dataframe thead th {\n",
       "        text-align: right;\n",
       "    }\n",
       "</style>\n",
       "<table border=\"1\" class=\"dataframe\">\n",
       "  <thead>\n",
       "    <tr style=\"text-align: right;\">\n",
       "      <th></th>\n",
       "      <th>beiwe</th>\n",
       "      <th>redcap</th>\n",
       "      <th>tst</th>\n",
       "      <th>se</th>\n",
       "      <th>rem_to_nrem</th>\n",
       "      <th>waso</th>\n",
       "    </tr>\n",
       "  </thead>\n",
       "  <tbody>\n",
       "    <tr>\n",
       "      <th>1982</th>\n",
       "      <td>vr9j5rry</td>\n",
       "      <td>34.0</td>\n",
       "      <td>6.483333</td>\n",
       "      <td>74.095238</td>\n",
       "      <td>0.242812</td>\n",
       "      <td>136.0</td>\n",
       "    </tr>\n",
       "    <tr>\n",
       "      <th>2714</th>\n",
       "      <td>xdbdrk6e</td>\n",
       "      <td>23.0</td>\n",
       "      <td>8.033333</td>\n",
       "      <td>79.276316</td>\n",
       "      <td>0.245478</td>\n",
       "      <td>126.0</td>\n",
       "    </tr>\n",
       "    <tr>\n",
       "      <th>2698</th>\n",
       "      <td>xdbdrk6e</td>\n",
       "      <td>23.0</td>\n",
       "      <td>7.016667</td>\n",
       "      <td>77.532228</td>\n",
       "      <td>0.213256</td>\n",
       "      <td>122.0</td>\n",
       "    </tr>\n",
       "    <tr>\n",
       "      <th>1947</th>\n",
       "      <td>vr9j5rry</td>\n",
       "      <td>34.0</td>\n",
       "      <td>7.433333</td>\n",
       "      <td>78.659612</td>\n",
       "      <td>0.307918</td>\n",
       "      <td>121.0</td>\n",
       "    </tr>\n",
       "    <tr>\n",
       "      <th>139</th>\n",
       "      <td>lkkjddam</td>\n",
       "      <td>12.0</td>\n",
       "      <td>9.583333</td>\n",
       "      <td>82.614943</td>\n",
       "      <td>0.252723</td>\n",
       "      <td>121.0</td>\n",
       "    </tr>\n",
       "  </tbody>\n",
       "</table>\n",
       "</div>"
      ],
      "text/plain": [
       "         beiwe  redcap       tst         se  rem_to_nrem   waso\n",
       "1982  vr9j5rry    34.0  6.483333  74.095238     0.242812  136.0\n",
       "2714  xdbdrk6e    23.0  8.033333  79.276316     0.245478  126.0\n",
       "2698  xdbdrk6e    23.0  7.016667  77.532228     0.213256  122.0\n",
       "1947  vr9j5rry    34.0  7.433333  78.659612     0.307918  121.0\n",
       "139   lkkjddam    12.0  9.583333  82.614943     0.252723  121.0"
      ]
     },
     "execution_count": 211,
     "metadata": {},
     "output_type": "execute_result"
    }
   ],
   "source": [
    "fitbit_sleep_metrics = fitbit_sleep_summary[[\"beiwe\",\"redcap\",\"tst_fb\",\"efficiency\",\"rem2nrem\",\"waso\"]]\n",
    "fitbit_sleep_metrics.columns = [\"beiwe\",\"redcap\",\"tst\",\"se\",\"rem_to_nrem\",\"waso\"]\n",
    "fitbit_sleep_metrics.sort_values(\"waso\",ascending=False).head()"
   ]
  },
  {
   "cell_type": "markdown",
   "metadata": {},
   "source": [
    "### Histograms\n",
    "Now we take a look at the typical values recorded for various components of sleep."
   ]
  },
  {
   "cell_type": "code",
   "execution_count": 212,
   "metadata": {},
   "outputs": [],
   "source": [
    "def plot_sleep_histogram(df,max_freq=400,save=False):\n",
    "    \"\"\"\n",
    "    \n",
    "    \"\"\"\n",
    "    questions = ['tst','se','waso','rem_to_nrem']\n",
    "    xlabels = [\"TST (hours)\",\"SE (%)\",\"WASO (minutes)\",\"REM:nREM\"]\n",
    "    bin_list = [np.arange(0,15,1),\n",
    "               np.arange(70,102.5,2.5),\n",
    "               np.arange(0,160,10),\n",
    "               np.arange(0,0.7,0.05)]\n",
    "    titles = [\"a\",\"b\",\"c\",\"d\"]\n",
    "\n",
    "    fig, axes = plt.subplots(1,4,figsize=(20,4),sharey=\"row\")#,gridspec_kw={'width_ratios': [5,5,5,4]})\n",
    "    for question, bins, ax, xlabel, title in zip(questions, bin_list, axes.flat, xlabels, titles):\n",
    "        n,bins,patches = ax.hist(df[question],bins=bins,color=\"black\", rwidth=0.9,align='mid')\n",
    "        \n",
    "        # x-axis\n",
    "        ax.set_xlabel(xlabel,fontsize=16)\n",
    "        plt.setp(ax.get_xticklabels(), ha=\"center\", rotation=0, fontsize=14)\n",
    "        # y-axis\n",
    "        ax.set_ylim([0,max_freq])\n",
    "        plt.setp(ax.get_yticklabels(), ha=\"right\", rotation=0, fontsize=14)\n",
    "\n",
    "        #ax.set_title(f'Median Response for {question}: {np.nanmedian(morning[question])}')\n",
    "\n",
    "        #label_hist(n, bins, ax)\n",
    "        for loc in [\"top\",\"right\"]:\n",
    "            ax.spines[loc].set_visible(False)\n",
    "        ax.set_title(title,fontsize=16,pad=0)\n",
    "        \n",
    "    axes[0].set_ylabel('Count',fontsize=16)\n",
    "    #axes[1,0].set_ylabel('Frequency',fontsize=15)\n",
    "    plt.subplots_adjust(wspace=0.05)\n",
    "    if save:\n",
    "        plt.savefig(\"../../papers/5eea5276044b790001ee5687/figures/fitbit-sleep_metrics-histogram-ux_s20.pdf\",bbox_inches=\"tight\")\n",
    "        plt.savefig(\"../reports/figures/fitbit_summary/fitbit-sleep_metrics-histogram-ux_s20.pdf\",bbox_inches=\"tight\")\n",
    "    plt.show()\n",
    "    plt.close()"
   ]
  },
  {
   "cell_type": "code",
   "execution_count": 213,
   "metadata": {},
   "outputs": [
    {
     "data": {
      "image/png": "[encoded data removed]",
      "text/plain": [
       "<Figure size 1440x288 with 4 Axes>"
      ]
     },
     "metadata": {
      "needs_background": "light"
     },
     "output_type": "display_data"
    }
   ],
   "source": [
    "plot_sleep_histogram(fitbit_sleep_metrics,max_freq=500,save=True)"
   ]
  },
  {
   "cell_type": "code",
   "execution_count": 215,
   "metadata": {},
   "outputs": [
    {
     "data": {
      "text/plain": [
       "1402"
      ]
     },
     "execution_count": 215,
     "metadata": {},
     "output_type": "execute_result"
    }
   ],
   "source": [
    "len(fitbit_sleep_metrics)"
   ]
  },
  {
   "cell_type": "markdown",
   "metadata": {},
   "source": [
    "#### TST"
   ]
  },
  {
   "cell_type": "code",
   "execution_count": 23,
   "metadata": {},
   "outputs": [
    {
     "name": "stdout",
     "output_type": "stream",
     "text": [
      "Number of nights between 7 and 9 hours of sleep:\t 34.62214411247803\n",
      "Number of nights greater than 7 hours of sleep:\t\t 36.90685413005272\n"
     ]
    }
   ],
   "source": [
    "p_7to9 = len(fitbit_sleep_metrics[(fitbit_sleep_metrics['tst'] >= 7) & (fitbit_sleep_metrics['tst'] <= 9)])/len(fitbit_sleep_metrics['tst'])\n",
    "print('Number of nights between 7 and 9 hours of sleep:\\t', p_7to9*100)\n",
    "p_7toInf = len(fitbit_sleep_metrics[(fitbit_sleep_metrics['tst'] >= 7)])/len(fitbit_sleep_metrics['tst'])\n",
    "print('Number of nights greater than 7 hours of sleep:\\t\\t', p_7toInf*100)"
   ]
  },
  {
   "cell_type": "markdown",
   "metadata": {},
   "source": [
    "#### SE"
   ]
  },
  {
   "cell_type": "code",
   "execution_count": 24,
   "metadata": {},
   "outputs": [
    {
     "name": "stdout",
     "output_type": "stream",
     "text": [
      "Minimum Sleep Efficiency: 76.60550458715595\n",
      "Maximum Sleep Efficiency: 94.11764705882351\n"
     ]
    }
   ],
   "source": [
    "print(\"Minimum Sleep Efficiency:\",min(fitbit_sleep_metrics['se']))\n",
    "print(\"Maximum Sleep Efficiency:\",max(fitbit_sleep_metrics['se']))"
   ]
  },
  {
   "cell_type": "code",
   "execution_count": 25,
   "metadata": {},
   "outputs": [
    {
     "data": {
      "text/plain": [
       "0"
      ]
     },
     "execution_count": 25,
     "metadata": {},
     "output_type": "execute_result"
    }
   ],
   "source": [
    "len(fitbit_sleep_metrics[fitbit_sleep_metrics['se'] < 75])"
   ]
  },
  {
   "cell_type": "code",
   "execution_count": 26,
   "metadata": {},
   "outputs": [
    {
     "name": "stdout",
     "output_type": "stream",
     "text": [
      "Number of nights we se greater than 65%:\t\t 100.0\n",
      "Number of nights we se greater than 75%:\t\t 100.0\n",
      "Number of nights we se greater than 85%:\t\t 75.7469244288225\n",
      "Number of nights we se greater than 90%:\t\t 11.247803163444638\n",
      "Number of nights we se greater than 95%:\t\t 0.0\n"
     ]
    }
   ],
   "source": [
    "p_gt_65 = len(fitbit_sleep_metrics[(fitbit_sleep_metrics['se'] >= 65)])/len(fitbit_sleep_metrics['se'])\n",
    "print('Number of nights we se greater than 65%:\\t\\t', p_gt_65*100)\n",
    "p_gt_75 = len(fitbit_sleep_metrics[(fitbit_sleep_metrics['se'] >= 75)])/len(fitbit_sleep_metrics['se'])\n",
    "print('Number of nights we se greater than 75%:\\t\\t', p_gt_75*100)\n",
    "p_gt_85 = len(fitbit_sleep_metrics[(fitbit_sleep_metrics['se'] >= 85)])/len(fitbit_sleep_metrics['se'])\n",
    "print('Number of nights we se greater than 85%:\\t\\t', p_gt_85*100)\n",
    "p_gt_90 = len(fitbit_sleep_metrics[(fitbit_sleep_metrics['se'] >= 90)])/len(fitbit_sleep_metrics['se'])\n",
    "print('Number of nights we se greater than 90%:\\t\\t', p_gt_90*100)\n",
    "p_gt_95 = len(fitbit_sleep_metrics[(fitbit_sleep_metrics['se'] >= 95)])/len(fitbit_sleep_metrics['se'])\n",
    "print('Number of nights we se greater than 95%:\\t\\t', p_gt_95*100)"
   ]
  },
  {
   "cell_type": "markdown",
   "metadata": {},
   "source": [
    "#### WASO"
   ]
  },
  {
   "cell_type": "code",
   "execution_count": 27,
   "metadata": {},
   "outputs": [
    {
     "name": "stdout",
     "output_type": "stream",
     "text": [
      "Percent of nights with WASO less than 20:\t\t 2.460456942003515\n",
      "Percent of nights with WASO greater than 40:\t\t 76.6256590509666\n"
     ]
    }
   ],
   "source": [
    "p_lt_20 = len(fitbit_sleep_metrics[(fitbit_sleep_metrics['waso'] <= 20)])/len(fitbit_sleep_metrics['waso'])\n",
    "print('Percent of nights with WASO less than 20:\\t\\t', p_lt_20*100)\n",
    "p_gt_40 = len(fitbit_sleep_metrics[(fitbit_sleep_metrics['waso'] > 40)])/len(fitbit_sleep_metrics['waso'])\n",
    "print('Percent of nights with WASO greater than 40:\\t\\t', p_gt_40*100)"
   ]
  },
  {
   "cell_type": "markdown",
   "metadata": {},
   "source": [
    "#### REM:nREM"
   ]
  },
  {
   "cell_type": "code",
   "execution_count": 28,
   "metadata": {},
   "outputs": [
    {
     "name": "stdout",
     "output_type": "stream",
     "text": [
      "Percentrage of nights between 20 and 33 REM:nREM:\t 37.609841827768015\n"
     ]
    }
   ],
   "source": [
    "p_25to33 = len(fitbit_sleep_metrics[(fitbit_sleep_metrics['rem_to_nrem'] >= 0.25) & (fitbit_sleep_metrics['rem_to_nrem'] < 0.34)])/len(fitbit_sleep_metrics['rem_to_nrem'])\n",
    "print('Percentrage of nights between 20 and 33 REM:nREM:\\t', p_25to33*100)"
   ]
  },
  {
   "cell_type": "markdown",
   "metadata": {},
   "source": [
    "#### Minute Recordings\n",
    "These histograms summarize some of the (what look like) important data that are on similar minute-scales."
   ]
  },
  {
   "cell_type": "code",
   "execution_count": 29,
   "metadata": {
    "scrolled": false
   },
   "outputs": [
    {
     "name": "stdout",
     "output_type": "stream",
     "text": [
      "Working for minutes summary\n",
      "\tPlotting\n",
      "Working for minutes summary\n",
      "\tPlotting\n",
      "Working for minutes summary\n",
      "\tPlotting\n"
     ]
    },
    {
     "data": {
      "image/png": "[encoded data removed]",
      "text/plain": [
       "<Figure size 1080x720 with 3 Axes>"
      ]
     },
     "metadata": {
      "needs_background": "light"
     },
     "output_type": "display_data"
    }
   ],
   "source": [
    "var_list = ['minutes_after_wakeup','minutes_awake','minutes_to_sleep']\n",
    "colors= [\"cornflowerblue\",\"seagreen\",\"firebrick\"]\n",
    "fig, axes = plt.subplots(3,1,figsize=(15,10),sharex=True)\n",
    "bins = np.arange(0,105,5)\n",
    "for i in range(len(var_list)):\n",
    "    print(f'Working for minutes summary')\n",
    "    print(f'\\tPlotting')\n",
    "        \n",
    "    axes[i].hist(daily_sleep[var_list[i]],color=colors[i],edgecolor=\"black\",rwidth=0.9,bins=bins)\n",
    "    axes[i].set_xticks(bins)\n",
    "    axes[i].set_xlim([bins[0],bins[-1]])\n",
    "    axes[i].set_ylim([0,2000])\n",
    "    \n",
    "    axes[i].text(80,1500,var_list[i])\n",
    "    \n",
    "plt.subplots_adjust(hspace=0.1)\n",
    "plt.show()\n",
    "plt.close()"
   ]
  },
  {
   "cell_type": "markdown",
   "metadata": {},
   "source": [
    "<div class=\"alert alert-block alert-info\">\n",
    "These variables provide us with some potential links to explore:\n",
    "    <ul>\n",
    "        <li>TST and IAQ</li>\n",
    "        <li>Efficiency and IAQ</li>\n",
    "        <li>Minutes Awake and IAQ</li>\n",
    "        <li>Awake Count and IAQ</li>\n",
    "        <li>Awakenings Count and IAQ</li>\n",
    "        <li>Restless Count and IAQ (might be similar to previous point)</li>  \n",
    "    </ul>\n",
    "</div>"
   ]
  },
  {
   "cell_type": "markdown",
   "metadata": {},
   "source": [
    "### Heatmaps\n",
    "Heatmaps will show gaps and give us a decent idea of the values measured."
   ]
  },
  {
   "cell_type": "code",
   "execution_count": 30,
   "metadata": {},
   "outputs": [
    {
     "name": "stdout",
     "output_type": "stream",
     "text": [
      "1.1333333333333333\n",
      "11.933333333333334\n",
      "73.58490566037736\n",
      "98.93617021276596\n"
     ]
    }
   ],
   "source": [
    "# Getting extreme values\n",
    "print(np.min(daily_sleep['hours_asleep']))\n",
    "print(np.max(daily_sleep['hours_asleep']))\n",
    "print(np.min(daily_sleep['efficiency']))\n",
    "print(np.max(daily_sleep['efficiency']))"
   ]
  },
  {
   "cell_type": "code",
   "execution_count": 31,
   "metadata": {
    "scrolled": true
   },
   "outputs": [
    {
     "name": "stdout",
     "output_type": "stream",
     "text": [
      "Working for hours_asleep\n",
      "\tData collected\n",
      "\tPlotting\n"
     ]
    },
    {
     "data": {
      "image/png": "[encoded data removed]",
      "text/plain": [
       "<Figure size 1440x1080 with 2 Axes>"
      ]
     },
     "metadata": {
      "needs_background": "light"
     },
     "output_type": "display_data"
    },
    {
     "name": "stdout",
     "output_type": "stream",
     "text": [
      "Working for efficiency\n",
      "\tData collected\n",
      "\tPlotting\n"
     ]
    },
    {
     "data": {
      "image/png": "[encoded data removed]",
      "text/plain": [
       "<Figure size 1440x1080 with 2 Axes>"
      ]
     },
     "metadata": {
      "needs_background": "light"
     },
     "output_type": "display_data"
    }
   ],
   "source": [
    "var_list = ['hours_asleep','efficiency',]\n",
    "limit_list = [[0,15],[25,100]]\n",
    "for variable, limits in zip(var_list, limit_list):\n",
    "    print(f'Working for {variable}')\n",
    "    heatmap_df = pd.DataFrame()\n",
    "    for beiwe in daily_sleep['beiwe'].unique():\n",
    "        daily_fitbit_by_beacon = daily_sleep[daily_sleep['beiwe'] == beiwe]\n",
    "        daily_fitbit_by_beacon.set_index(\"date\",inplace=True)\n",
    "        sdate = datetime(2020,6,10)\n",
    "        edate = datetime(2020,10,20)\n",
    "        daily_fitbit_by_beacon = daily_fitbit_by_beacon[sdate:edate]\n",
    "        heatmap_df = pd.concat([heatmap_df,daily_fitbit_by_beacon[variable]],axis=1)\n",
    "        heatmap_df.rename(columns={variable:beiwe}, inplace=True)\n",
    "\n",
    "    print(f'\\tData collected')\n",
    "    fig, ax = plt.subplots(figsize=(20,15))\n",
    "    df_to_plot = heatmap_df.T\n",
    "    print(f'\\tPlotting')\n",
    "    sns.heatmap(df_to_plot,vmin=limits[0],vmax=limits[1])\n",
    "        \n",
    "    #x_labels = []\n",
    "    #for d in pd.date_range(sdate,edate-timedelta(days=1),freq='d'):\n",
    "    #    x_labels.append(d.strftime('%m-%d'))\n",
    "        \n",
    "    #ax.set_xticklabels(x_labels)\n",
    "    \n",
    "    plt.show()\n",
    "    plt.close()"
   ]
  },
  {
   "cell_type": "markdown",
   "metadata": {},
   "source": [
    "### Fitbit Sleep Data for Beacon-Holders at Home\n",
    "These next few sections consider only the sleep data from participants who also received a BEVO Beacon and were at their residences."
   ]
  },
  {
   "cell_type": "markdown",
   "metadata": {},
   "source": [
    "Getting beacon data restricted beacon data just to determine the nights to use."
   ]
  },
  {
   "cell_type": "code",
   "execution_count": 32,
   "metadata": {},
   "outputs": [],
   "source": [
    "# partially filtered beacon data with sleep start times\n",
    "partial_beacon_df = pd.read_csv('../data/processed/beacon-fb_and_gps_filtered-ux_s20.csv',\n",
    "                        index_col=0,parse_dates=[0,-2,-1],infer_datetime_format=True)\n",
    "\n",
    "partial_sleep_df = pd.DataFrame() # dataframe to hold the relevant sleep data\n",
    "# looping through partially filtered data and merging dataframes on common start times\n",
    "for pt in partial_beacon_df['beiwe'].unique():\n",
    "    daily_sleep_pt = daily_sleep[daily_sleep['beiwe'] == pt]\n",
    "    partial_beacon_pt = partial_beacon_df[partial_beacon_df['beiwe'] == pt]\n",
    "    if len(partial_beacon_pt) > 0:\n",
    "        partial_beacon_pt_summary = partial_beacon_pt.groupby('start_time').mean()\n",
    "        partial_sleep_df = partial_sleep_df.append(pd.merge(left=partial_beacon_pt_summary,right=daily_sleep_pt,left_on='start_time',right_on='start_time',how='inner'))\n",
    "        \n",
    "partial_sleep_df.drop([\"lat\",\"long\",\"altitude\",\"accuracy\",\n",
    "                       \"tvoc\",\"lux\",\"no2\",\"co\",\"co2\",\"pm1_mass\",\"pm2p5_mass\",\"pm10_mass\",\"pm1_number\",\"pm2p5_number\",\"pm10_number\",\"temperature_c\",\"rh\"],\n",
    "                      axis=1,inplace=True)\n",
    "    "
   ]
  },
  {
   "cell_type": "markdown",
   "metadata": {},
   "source": [
    "The length of this dataframe should correspond to 318 nights."
   ]
  },
  {
   "cell_type": "code",
   "execution_count": 33,
   "metadata": {},
   "outputs": [
    {
     "name": "stdout",
     "output_type": "stream",
     "text": [
      "Number of nights: 407\n"
     ]
    }
   ],
   "source": [
    "print('Number of nights:', len(partial_sleep_df))"
   ]
  },
  {
   "cell_type": "code",
   "execution_count": 34,
   "metadata": {},
   "outputs": [],
   "source": [
    "def plot_stacked_hist(df,var,limits,width=1,cmap='coolwarm',by_var='beiwe',save=False,save_dir='../reports/figures/',study_suffix=\"ux_s20\"):\n",
    "    '''\n",
    "    Plots a stacked histogram with each color representing a unique individual.\n",
    "    \n",
    "    Inputs:\n",
    "    - df: dataframe of the data\n",
    "    - var: string specifying the column in the dataframe to plot\n",
    "    - limits: tuple representing the lower and upper bound on the x-axis\n",
    "    - width: integer/float for the width of each bin\n",
    "    - by_var: string specifying the column to color the stacks by\n",
    "    - save: boolean to save or not\n",
    "    - save_dr: string representing the location to save the figure if save is True\n",
    "    \n",
    "    Returns the axes with the histogram\n",
    "    '''\n",
    "    list_to_plot = []\n",
    "    for pt in df[by_var].unique():\n",
    "        temp_df = df[df[by_var] == pt]\n",
    "        list_to_plot.append(temp_df[var].to_list())\n",
    "    \n",
    "    colors = cm.get_cmap(cmap, len(list_to_plot))\n",
    "    fig, ax = plt.subplots(figsize=(8,4))\n",
    "    n, bins, _ = ax.hist(list_to_plot,bins=np.arange(limits[0],limits[1]+width,width),stacked=True,rwidth=0.9,\n",
    "            color=colors(np.linspace(0, 1, len(list_to_plot))),edgecolor='black')\n",
    "\n",
    "    if save == True:\n",
    "        plt.savefig(f'{save_dir}/{var}-stacked_hist-{study_suffix}.pdf')\n",
    "        \n",
    "    return ax\n",
    "    "
   ]
  },
  {
   "cell_type": "markdown",
   "metadata": {},
   "source": [
    "#### TST"
   ]
  },
  {
   "cell_type": "code",
   "execution_count": 35,
   "metadata": {},
   "outputs": [
    {
     "data": {
      "image/png": "[encoded data removed]",
      "text/plain": [
       "<Figure size 576x288 with 1 Axes>"
      ]
     },
     "metadata": {
      "needs_background": "light"
     },
     "output_type": "display_data"
    }
   ],
   "source": [
    "ax = plot_stacked_hist(partial_sleep_df,'hours_asleep',[2,12])\n",
    "ax.set_ylabel('Count')\n",
    "ax.set_ylim([0,120])\n",
    "ax.set_xlabel('Number of Hours')\n",
    "for loc in ['right','top']:\n",
    "    ax.spines[loc].set_visible(False)\n",
    "    \n",
    "ax.axvline(7,color='black',linestyle='dashed',linewidth=2)\n",
    "ax.axvline(9,color='black',linestyle='dashed',linewidth=2)\n",
    "ax.text(8,110,\"Recommended\",ha='center',va='center')\n",
    "\n",
    "#plt.savefig('../reports/figures/fitbit_sleep_duration-stacked_hist-ux_s20.pdf')\n",
    "plt.show()\n",
    "plt.close()"
   ]
  },
  {
   "cell_type": "code",
   "execution_count": 36,
   "metadata": {},
   "outputs": [
    {
     "name": "stdout",
     "output_type": "stream",
     "text": [
      "Number of nights between 7 and 9 hours of sleep:\t 52.33415233415234\n",
      "Number of nights greater than 7 hours of sleep:\t\t 65.84766584766585\n",
      "Number of nights greater than 9 hours of sleep:\t\t 13.513513513513514\n",
      "Number of nights less than 7 hours of sleep:\t\t 34.15233415233415\n"
     ]
    }
   ],
   "source": [
    "p_7to9 = len(partial_sleep_df[(partial_sleep_df['hours_asleep'] >= 7) & (partial_sleep_df['hours_asleep'] <= 9)])/len(partial_sleep_df['hours_asleep'])\n",
    "print('Number of nights between 7 and 9 hours of sleep:\\t', p_7to9*100)\n",
    "\n",
    "p_7toInf = len(partial_sleep_df[(partial_sleep_df['hours_asleep'] >= 7)])/len(partial_sleep_df['hours_asleep'])\n",
    "print('Number of nights greater than 7 hours of sleep:\\t\\t', p_7toInf*100)\n",
    "\n",
    "p_gt_9 = len(partial_sleep_df[(partial_sleep_df['hours_asleep'] > 9)])/len(partial_sleep_df['hours_asleep'])\n",
    "print('Number of nights greater than 9 hours of sleep:\\t\\t', p_gt_9*100)\n",
    "\n",
    "p_lt_6 = len(partial_sleep_df[(partial_sleep_df['hours_asleep'] < 7)])/len(partial_sleep_df['hours_asleep'])\n",
    "print('Number of nights less than 7 hours of sleep:\\t\\t', p_lt_6*100)\n"
   ]
  },
  {
   "cell_type": "markdown",
   "metadata": {},
   "source": [
    "#### Sleep Efficiency"
   ]
  },
  {
   "cell_type": "code",
   "execution_count": 37,
   "metadata": {},
   "outputs": [
    {
     "data": {
      "image/png": "[encoded data removed]",
      "text/plain": [
       "<Figure size 576x288 with 1 Axes>"
      ]
     },
     "metadata": {
      "needs_background": "light"
     },
     "output_type": "display_data"
    }
   ],
   "source": [
    "ax = plot_stacked_hist(partial_sleep_df,'efficiency',[80,100],width=2.5)\n",
    "ax.set_ylabel('Count')\n",
    "ax.set_ylim([0,120])\n",
    "ax.set_xlabel('Percentage')\n",
    "for loc in ['right','top']:\n",
    "    ax.spines[loc].set_visible(False)\n",
    "    \n",
    "ax.axvline(85,color='black',linestyle='dashed',linewidth=2)\n",
    "ax.axvline(95,color='black',linestyle='dashed',linewidth=2)\n",
    "ax.text(82.5,100,\"Typical\",ha='center',va='center')\n",
    "ax.text(90,100,\"Good\",ha='center',va='center')\n",
    "    \n",
    "#plt.savefig('../reports/figures/fitbit_sleep_efficiency-stacked_hist-ux_s20.pdf')\n",
    "plt.show()\n",
    "plt.close()"
   ]
  },
  {
   "cell_type": "code",
   "execution_count": 38,
   "metadata": {},
   "outputs": [
    {
     "name": "stdout",
     "output_type": "stream",
     "text": [
      "The lowest measured SE: 73.58490566037736\n"
     ]
    }
   ],
   "source": [
    "lowest_se = np.nanmin(partial_sleep_df[partial_sleep_df['efficiency']>70]['efficiency'].to_list())\n",
    "print('The lowest measured SE:',lowest_se)"
   ]
  },
  {
   "cell_type": "markdown",
   "metadata": {},
   "source": [
    "#### WASO\n",
    "We need the breakdown of stages for each night since we have to exclude the wake periods at the beginning and end of the sleep episode."
   ]
  },
  {
   "cell_type": "code",
   "execution_count": 39,
   "metadata": {},
   "outputs": [
    {
     "data": {
      "text/html": [
       "<div>\n",
       "<style scoped>\n",
       "    .dataframe tbody tr th:only-of-type {\n",
       "        vertical-align: middle;\n",
       "    }\n",
       "\n",
       "    .dataframe tbody tr th {\n",
       "        vertical-align: top;\n",
       "    }\n",
       "\n",
       "    .dataframe thead th {\n",
       "        text-align: right;\n",
       "    }\n",
       "</style>\n",
       "<table border=\"1\" class=\"dataframe\">\n",
       "  <thead>\n",
       "    <tr style=\"text-align: right;\">\n",
       "      <th></th>\n",
       "      <th>end_date</th>\n",
       "      <th>time</th>\n",
       "      <th>stage</th>\n",
       "      <th>time_at_stage</th>\n",
       "      <th>beiwe</th>\n",
       "      <th>value</th>\n",
       "    </tr>\n",
       "    <tr>\n",
       "      <th>start_date</th>\n",
       "      <th></th>\n",
       "      <th></th>\n",
       "      <th></th>\n",
       "      <th></th>\n",
       "      <th></th>\n",
       "      <th></th>\n",
       "    </tr>\n",
       "  </thead>\n",
       "  <tbody>\n",
       "    <tr>\n",
       "      <th>2020-05-14</th>\n",
       "      <td>2020-05-14</td>\n",
       "      <td>2020-05-14 00:27:00</td>\n",
       "      <td>wake</td>\n",
       "      <td>510</td>\n",
       "      <td>hfttkth7</td>\n",
       "      <td>0</td>\n",
       "    </tr>\n",
       "    <tr>\n",
       "      <th>2020-05-14</th>\n",
       "      <td>2020-05-14</td>\n",
       "      <td>2020-05-14 00:35:30</td>\n",
       "      <td>light</td>\n",
       "      <td>420</td>\n",
       "      <td>hfttkth7</td>\n",
       "      <td>1</td>\n",
       "    </tr>\n",
       "    <tr>\n",
       "      <th>2020-05-14</th>\n",
       "      <td>2020-05-14</td>\n",
       "      <td>2020-05-14 00:42:30</td>\n",
       "      <td>deep</td>\n",
       "      <td>1590</td>\n",
       "      <td>hfttkth7</td>\n",
       "      <td>2</td>\n",
       "    </tr>\n",
       "    <tr>\n",
       "      <th>2020-05-14</th>\n",
       "      <td>2020-05-14</td>\n",
       "      <td>2020-05-14 01:09:00</td>\n",
       "      <td>light</td>\n",
       "      <td>1290</td>\n",
       "      <td>hfttkth7</td>\n",
       "      <td>1</td>\n",
       "    </tr>\n",
       "    <tr>\n",
       "      <th>2020-05-14</th>\n",
       "      <td>2020-05-14</td>\n",
       "      <td>2020-05-14 01:30:30</td>\n",
       "      <td>rem</td>\n",
       "      <td>840</td>\n",
       "      <td>hfttkth7</td>\n",
       "      <td>3</td>\n",
       "    </tr>\n",
       "  </tbody>\n",
       "</table>\n",
       "</div>"
      ],
      "text/plain": [
       "             end_date                time  stage  time_at_stage     beiwe  \\\n",
       "start_date                                                                  \n",
       "2020-05-14 2020-05-14 2020-05-14 00:27:00   wake            510  hfttkth7   \n",
       "2020-05-14 2020-05-14 2020-05-14 00:35:30  light            420  hfttkth7   \n",
       "2020-05-14 2020-05-14 2020-05-14 00:42:30   deep           1590  hfttkth7   \n",
       "2020-05-14 2020-05-14 2020-05-14 01:09:00  light           1290  hfttkth7   \n",
       "2020-05-14 2020-05-14 2020-05-14 01:30:30    rem            840  hfttkth7   \n",
       "\n",
       "            value  \n",
       "start_date         \n",
       "2020-05-14      0  \n",
       "2020-05-14      1  \n",
       "2020-05-14      2  \n",
       "2020-05-14      1  \n",
       "2020-05-14      3  "
      ]
     },
     "execution_count": 39,
     "metadata": {},
     "output_type": "execute_result"
    }
   ],
   "source": [
    "sleep_stages = pd.read_csv(\"../data/processed/fitbit-sleep_stages-ux_s20.csv\",index_col=\"start_date\",parse_dates=[\"start_date\",\"end_date\",\"time\"])\n",
    "sleep_stages.head()"
   ]
  },
  {
   "cell_type": "markdown",
   "metadata": {},
   "source": [
    "Now we create a function that determines WASO for each night and each participant."
   ]
  },
  {
   "cell_type": "code",
   "execution_count": 40,
   "metadata": {},
   "outputs": [],
   "source": [
    "def get_waso_and_sol(df, by_var='beiwe'):\n",
    "    '''\n",
    "    Determines the minutes awake after sleep onset (waso) and sleep onset latency (sol)\n",
    "    \n",
    "    Inputs:\n",
    "    - df: dataframe with sleep data\n",
    "    - by_var: string specifying what id to parse by\n",
    "    \n",
    "    Returns dataframe with night, waso, sol, and by_var id\n",
    "    '''\n",
    "    waso_dict={'night':[],'waso':[],'sol':[],'beiwe':[]}\n",
    "    for pt in df[by_var].unique():\n",
    "        df_pt = df[df[by_var] == pt]\n",
    "        for night in df_pt['end_date'].unique():\n",
    "            # dropping first and last entries regardless of what they are\n",
    "            df_pt_night = df_pt[df_pt['end_date'] == night]\n",
    "            # df of wake periods\n",
    "            df_pt_night_limited = df_pt_night[1:-1]\n",
    "            df_pt_wake = df_pt_night_limited[df_pt_night_limited['stage'] == 'wake']\n",
    "            # getting sol\n",
    "            sol = 0\n",
    "            if df_pt_night['stage'].iloc[0] == 'wake':\n",
    "                sol = df_pt_night['time_at_stage'].iloc[0]/60\n",
    "                \n",
    "            waso_dict['night'].append(night)\n",
    "            waso_dict['waso'].append(df_pt_wake['time_at_stage'].sum()/60)\n",
    "            waso_dict['sol'].append(sol)\n",
    "            waso_dict['beiwe'].append(pt)\n",
    "            \n",
    "    return pd.DataFrame(waso_dict)"
   ]
  },
  {
   "cell_type": "markdown",
   "metadata": {},
   "source": [
    "Now we get that WASO information and cross reference the nights with the partially filtered data so that we are only including the 318 nights for analysis."
   ]
  },
  {
   "cell_type": "code",
   "execution_count": 41,
   "metadata": {},
   "outputs": [
    {
     "name": "stdout",
     "output_type": "stream",
     "text": [
      "Number of nights of WASO measurements: 357\n"
     ]
    }
   ],
   "source": [
    "sleep_metric_df = get_waso_and_sol(sleep_stages)\n",
    "partial_sleep_metric_df = pd.DataFrame() # dataframe to hold the relevant sleep data\n",
    "# looping through partially filtered data and merging dataframes on common start times\n",
    "for pt in partial_sleep_df['beiwe'].unique():\n",
    "    partial_sleep_pt = partial_sleep_df[partial_sleep_df['beiwe'] == pt]\n",
    "    sm_pt = sleep_metric_df[sleep_metric_df['beiwe'] == pt]\n",
    "    sm_pt.drop(['beiwe'],axis=1,inplace=True)\n",
    "    \n",
    "    partial_sleep_metric_df = partial_sleep_metric_df.append(pd.merge(left=partial_sleep_pt,right=sm_pt,left_on=\"date\",right_on='night',how='inner'))\n",
    "\n",
    "print('Number of nights of WASO measurements:', len(partial_sleep_metric_df))"
   ]
  },
  {
   "cell_type": "markdown",
   "metadata": {},
   "source": [
    "Now that we filtered the dataset, we plot."
   ]
  },
  {
   "cell_type": "code",
   "execution_count": 42,
   "metadata": {},
   "outputs": [
    {
     "data": {
      "image/png": "[encoded data removed]",
      "text/plain": [
       "<Figure size 576x288 with 1 Axes>"
      ]
     },
     "metadata": {
      "needs_background": "light"
     },
     "output_type": "display_data"
    }
   ],
   "source": [
    "ax = plot_stacked_hist(partial_sleep_metric_df,'waso',[0,100],width=10)\n",
    "ax.set_ylabel('Count')\n",
    "ax.set_ylim([0,120])\n",
    "ax.set_xlabel('Minutes')\n",
    "for loc in ['right','top']:\n",
    "    ax.spines[loc].set_visible(False)\n",
    "    \n",
    "ax.axvline(20,color='black',linestyle='dashed',linewidth=2)\n",
    "ax.axvline(40,color='black',linestyle='dashed',linewidth=2)\n",
    "ax.text(10,100,\"Good\",ha='center',va='center')\n",
    "ax.text(30,100,\"Typical\",ha='center',va='center')\n",
    "ax.text(50,100,\"Poor\",ha='center',va='center')\n",
    "    \n",
    "#plt.savefig('../reports/figures/fitbit_sleep_waso-stacked_hist-ux_s20.pdf')\n",
    "plt.show()\n",
    "plt.close()"
   ]
  },
  {
   "cell_type": "code",
   "execution_count": 43,
   "metadata": {},
   "outputs": [
    {
     "name": "stdout",
     "output_type": "stream",
     "text": [
      "Percentage of nights with WASO less than 20 minutes: 33.6\n",
      "Percentage of nights with WASO less than 40 minutes: 77.9\n"
     ]
    }
   ],
   "source": [
    "for cutoff in [20,40]:\n",
    "    waso_lt_cutoff = partial_sleep_metric_df[partial_sleep_metric_df['waso'] < cutoff]\n",
    "    print(f'Percentage of nights with WASO less than {cutoff} minutes:', round(len(waso_lt_cutoff)/len(partial_sleep_metric_df),3)*100)"
   ]
  },
  {
   "cell_type": "markdown",
   "metadata": {},
   "source": [
    "#### SOL\n",
    "When we determined WASO, we also got SOL so all we need to do is plot with the same dataframe but a different value column."
   ]
  },
  {
   "cell_type": "code",
   "execution_count": 44,
   "metadata": {},
   "outputs": [
    {
     "ename": "KeyError",
     "evalue": "'sol'",
     "output_type": "error",
     "traceback": [
      "\u001b[0;31m---------------------------------------------------------------------------\u001b[0m",
      "\u001b[0;31mKeyError\u001b[0m                                  Traceback (most recent call last)",
      "\u001b[0;32m/Library/Frameworks/Python.framework/Versions/3.7/lib/python3.7/site-packages/pandas/core/indexes/base.py\u001b[0m in \u001b[0;36mget_loc\u001b[0;34m(self, key, method, tolerance)\u001b[0m\n\u001b[1;32m   2897\u001b[0m             \u001b[0;32mtry\u001b[0m\u001b[0;34m:\u001b[0m\u001b[0;34m\u001b[0m\u001b[0m\n\u001b[0;32m-> 2898\u001b[0;31m                 \u001b[0;32mreturn\u001b[0m \u001b[0mself\u001b[0m\u001b[0;34m.\u001b[0m\u001b[0m_engine\u001b[0m\u001b[0;34m.\u001b[0m\u001b[0mget_loc\u001b[0m\u001b[0;34m(\u001b[0m\u001b[0mcasted_key\u001b[0m\u001b[0;34m)\u001b[0m\u001b[0;34m\u001b[0m\u001b[0m\n\u001b[0m\u001b[1;32m   2899\u001b[0m             \u001b[0;32mexcept\u001b[0m \u001b[0mKeyError\u001b[0m \u001b[0;32mas\u001b[0m \u001b[0merr\u001b[0m\u001b[0;34m:\u001b[0m\u001b[0;34m\u001b[0m\u001b[0m\n",
      "\u001b[0;32mpandas/_libs/index.pyx\u001b[0m in \u001b[0;36mpandas._libs.index.IndexEngine.get_loc\u001b[0;34m()\u001b[0m\n",
      "\u001b[0;32mpandas/_libs/index.pyx\u001b[0m in \u001b[0;36mpandas._libs.index.IndexEngine.get_loc\u001b[0;34m()\u001b[0m\n",
      "\u001b[0;32mpandas/_libs/hashtable_class_helper.pxi\u001b[0m in \u001b[0;36mpandas._libs.hashtable.PyObjectHashTable.get_item\u001b[0;34m()\u001b[0m\n",
      "\u001b[0;32mpandas/_libs/hashtable_class_helper.pxi\u001b[0m in \u001b[0;36mpandas._libs.hashtable.PyObjectHashTable.get_item\u001b[0;34m()\u001b[0m\n",
      "\u001b[0;31mKeyError\u001b[0m: 'sol'",
      "\nThe above exception was the direct cause of the following exception:\n",
      "\u001b[0;31mKeyError\u001b[0m                                  Traceback (most recent call last)",
      "\u001b[0;32m<ipython-input-44-2f4b164875f0>\u001b[0m in \u001b[0;36m<module>\u001b[0;34m\u001b[0m\n\u001b[0;32m----> 1\u001b[0;31m \u001b[0max\u001b[0m \u001b[0;34m=\u001b[0m \u001b[0mplot_stacked_hist\u001b[0m\u001b[0;34m(\u001b[0m\u001b[0mpartial_sleep_metric_df\u001b[0m\u001b[0;34m,\u001b[0m\u001b[0;34m'sol'\u001b[0m\u001b[0;34m,\u001b[0m\u001b[0;34m[\u001b[0m\u001b[0;36m0\u001b[0m\u001b[0;34m,\u001b[0m\u001b[0;36m40\u001b[0m\u001b[0;34m]\u001b[0m\u001b[0;34m,\u001b[0m\u001b[0mwidth\u001b[0m\u001b[0;34m=\u001b[0m\u001b[0;36m2\u001b[0m\u001b[0;34m)\u001b[0m\u001b[0;34m\u001b[0m\u001b[0m\n\u001b[0m\u001b[1;32m      2\u001b[0m \u001b[0max\u001b[0m\u001b[0;34m.\u001b[0m\u001b[0mset_ylabel\u001b[0m\u001b[0;34m(\u001b[0m\u001b[0;34m'Count'\u001b[0m\u001b[0;34m)\u001b[0m\u001b[0;34m\u001b[0m\u001b[0m\n\u001b[1;32m      3\u001b[0m \u001b[0max\u001b[0m\u001b[0;34m.\u001b[0m\u001b[0mset_ylim\u001b[0m\u001b[0;34m(\u001b[0m\u001b[0;34m[\u001b[0m\u001b[0;36m0\u001b[0m\u001b[0;34m,\u001b[0m\u001b[0;36m120\u001b[0m\u001b[0;34m]\u001b[0m\u001b[0;34m)\u001b[0m\u001b[0;34m\u001b[0m\u001b[0m\n\u001b[1;32m      4\u001b[0m \u001b[0max\u001b[0m\u001b[0;34m.\u001b[0m\u001b[0mset_xlabel\u001b[0m\u001b[0;34m(\u001b[0m\u001b[0;34m'Minutes'\u001b[0m\u001b[0;34m)\u001b[0m\u001b[0;34m\u001b[0m\u001b[0m\n\u001b[1;32m      5\u001b[0m \u001b[0;32mfor\u001b[0m \u001b[0mloc\u001b[0m \u001b[0;32min\u001b[0m \u001b[0;34m[\u001b[0m\u001b[0;34m'right'\u001b[0m\u001b[0;34m,\u001b[0m\u001b[0;34m'top'\u001b[0m\u001b[0;34m]\u001b[0m\u001b[0;34m:\u001b[0m\u001b[0;34m\u001b[0m\u001b[0m\n",
      "\u001b[0;32m<ipython-input-34-b6b14d78363b>\u001b[0m in \u001b[0;36mplot_stacked_hist\u001b[0;34m(df, var, limits, width, cmap, by_var, save, save_dir, study_suffix)\u001b[0m\n\u001b[1;32m     17\u001b[0m     \u001b[0;32mfor\u001b[0m \u001b[0mpt\u001b[0m \u001b[0;32min\u001b[0m \u001b[0mdf\u001b[0m\u001b[0;34m[\u001b[0m\u001b[0mby_var\u001b[0m\u001b[0;34m]\u001b[0m\u001b[0;34m.\u001b[0m\u001b[0munique\u001b[0m\u001b[0;34m(\u001b[0m\u001b[0;34m)\u001b[0m\u001b[0;34m:\u001b[0m\u001b[0;34m\u001b[0m\u001b[0m\n\u001b[1;32m     18\u001b[0m         \u001b[0mtemp_df\u001b[0m \u001b[0;34m=\u001b[0m \u001b[0mdf\u001b[0m\u001b[0;34m[\u001b[0m\u001b[0mdf\u001b[0m\u001b[0;34m[\u001b[0m\u001b[0mby_var\u001b[0m\u001b[0;34m]\u001b[0m \u001b[0;34m==\u001b[0m \u001b[0mpt\u001b[0m\u001b[0;34m]\u001b[0m\u001b[0;34m\u001b[0m\u001b[0m\n\u001b[0;32m---> 19\u001b[0;31m         \u001b[0mlist_to_plot\u001b[0m\u001b[0;34m.\u001b[0m\u001b[0mappend\u001b[0m\u001b[0;34m(\u001b[0m\u001b[0mtemp_df\u001b[0m\u001b[0;34m[\u001b[0m\u001b[0mvar\u001b[0m\u001b[0;34m]\u001b[0m\u001b[0;34m.\u001b[0m\u001b[0mto_list\u001b[0m\u001b[0;34m(\u001b[0m\u001b[0;34m)\u001b[0m\u001b[0;34m)\u001b[0m\u001b[0;34m\u001b[0m\u001b[0m\n\u001b[0m\u001b[1;32m     20\u001b[0m \u001b[0;34m\u001b[0m\u001b[0m\n\u001b[1;32m     21\u001b[0m     \u001b[0mcolors\u001b[0m \u001b[0;34m=\u001b[0m \u001b[0mcm\u001b[0m\u001b[0;34m.\u001b[0m\u001b[0mget_cmap\u001b[0m\u001b[0;34m(\u001b[0m\u001b[0mcmap\u001b[0m\u001b[0;34m,\u001b[0m \u001b[0mlen\u001b[0m\u001b[0;34m(\u001b[0m\u001b[0mlist_to_plot\u001b[0m\u001b[0;34m)\u001b[0m\u001b[0;34m)\u001b[0m\u001b[0;34m\u001b[0m\u001b[0m\n",
      "\u001b[0;32m/Library/Frameworks/Python.framework/Versions/3.7/lib/python3.7/site-packages/pandas/core/frame.py\u001b[0m in \u001b[0;36m__getitem__\u001b[0;34m(self, key)\u001b[0m\n\u001b[1;32m   2904\u001b[0m             \u001b[0;32mif\u001b[0m \u001b[0mself\u001b[0m\u001b[0;34m.\u001b[0m\u001b[0mcolumns\u001b[0m\u001b[0;34m.\u001b[0m\u001b[0mnlevels\u001b[0m \u001b[0;34m>\u001b[0m \u001b[0;36m1\u001b[0m\u001b[0;34m:\u001b[0m\u001b[0;34m\u001b[0m\u001b[0m\n\u001b[1;32m   2905\u001b[0m                 \u001b[0;32mreturn\u001b[0m \u001b[0mself\u001b[0m\u001b[0;34m.\u001b[0m\u001b[0m_getitem_multilevel\u001b[0m\u001b[0;34m(\u001b[0m\u001b[0mkey\u001b[0m\u001b[0;34m)\u001b[0m\u001b[0;34m\u001b[0m\u001b[0m\n\u001b[0;32m-> 2906\u001b[0;31m             \u001b[0mindexer\u001b[0m \u001b[0;34m=\u001b[0m \u001b[0mself\u001b[0m\u001b[0;34m.\u001b[0m\u001b[0mcolumns\u001b[0m\u001b[0;34m.\u001b[0m\u001b[0mget_loc\u001b[0m\u001b[0;34m(\u001b[0m\u001b[0mkey\u001b[0m\u001b[0;34m)\u001b[0m\u001b[0;34m\u001b[0m\u001b[0m\n\u001b[0m\u001b[1;32m   2907\u001b[0m             \u001b[0;32mif\u001b[0m \u001b[0mis_integer\u001b[0m\u001b[0;34m(\u001b[0m\u001b[0mindexer\u001b[0m\u001b[0;34m)\u001b[0m\u001b[0;34m:\u001b[0m\u001b[0;34m\u001b[0m\u001b[0m\n\u001b[1;32m   2908\u001b[0m                 \u001b[0mindexer\u001b[0m \u001b[0;34m=\u001b[0m \u001b[0;34m[\u001b[0m\u001b[0mindexer\u001b[0m\u001b[0;34m]\u001b[0m\u001b[0;34m\u001b[0m\u001b[0m\n",
      "\u001b[0;32m/Library/Frameworks/Python.framework/Versions/3.7/lib/python3.7/site-packages/pandas/core/indexes/base.py\u001b[0m in \u001b[0;36mget_loc\u001b[0;34m(self, key, method, tolerance)\u001b[0m\n\u001b[1;32m   2898\u001b[0m                 \u001b[0;32mreturn\u001b[0m \u001b[0mself\u001b[0m\u001b[0;34m.\u001b[0m\u001b[0m_engine\u001b[0m\u001b[0;34m.\u001b[0m\u001b[0mget_loc\u001b[0m\u001b[0;34m(\u001b[0m\u001b[0mcasted_key\u001b[0m\u001b[0;34m)\u001b[0m\u001b[0;34m\u001b[0m\u001b[0m\n\u001b[1;32m   2899\u001b[0m             \u001b[0;32mexcept\u001b[0m \u001b[0mKeyError\u001b[0m \u001b[0;32mas\u001b[0m \u001b[0merr\u001b[0m\u001b[0;34m:\u001b[0m\u001b[0;34m\u001b[0m\u001b[0m\n\u001b[0;32m-> 2900\u001b[0;31m                 \u001b[0;32mraise\u001b[0m \u001b[0mKeyError\u001b[0m\u001b[0;34m(\u001b[0m\u001b[0mkey\u001b[0m\u001b[0;34m)\u001b[0m \u001b[0;32mfrom\u001b[0m \u001b[0merr\u001b[0m\u001b[0;34m\u001b[0m\u001b[0m\n\u001b[0m\u001b[1;32m   2901\u001b[0m \u001b[0;34m\u001b[0m\u001b[0m\n\u001b[1;32m   2902\u001b[0m         \u001b[0;32mif\u001b[0m \u001b[0mtolerance\u001b[0m \u001b[0;32mis\u001b[0m \u001b[0;32mnot\u001b[0m \u001b[0;32mNone\u001b[0m\u001b[0;34m:\u001b[0m\u001b[0;34m\u001b[0m\u001b[0m\n",
      "\u001b[0;31mKeyError\u001b[0m: 'sol'"
     ]
    }
   ],
   "source": [
    "ax = plot_stacked_hist(partial_sleep_metric_df,'sol',[0,40],width=2)\n",
    "ax.set_ylabel('Count')\n",
    "ax.set_ylim([0,120])\n",
    "ax.set_xlabel('Minutes')\n",
    "for loc in ['right','top']:\n",
    "    ax.spines[loc].set_visible(False)\n",
    "    \n",
    "ax.axvline(20,color='black',linestyle='dashed',linewidth=2)\n",
    "ax.axvline(40,color='black',linestyle='dashed',linewidth=2)\n",
    "ax.text(10,100,\"Good\",ha='center',va='center')\n",
    "ax.text(30,100,\"Typical\",ha='center',va='center')\n",
    "ax.text(50,100,\"Poor\",ha='center',va='center')\n",
    "    \n",
    "plt.savefig('../reports/figures/fitbit_sleep_sol-stacked_hist-ux_s20.pdf')\n",
    "plt.show()\n",
    "plt.close()"
   ]
  },
  {
   "cell_type": "markdown",
   "metadata": {},
   "source": [
    "Upon inspection, there appears to be quite a few of nights with SOL less than 2 minutes which makes me not trust this metric."
   ]
  },
  {
   "cell_type": "code",
   "execution_count": null,
   "metadata": {},
   "outputs": [],
   "source": [
    "sol_lt_2 = len(partial_sleep_metric_df[partial_sleep_metric_df['sol'] < 2])\n",
    "print('Number of nights with SOL less than 2 minutes:', sol_lt_2)"
   ]
  },
  {
   "cell_type": "markdown",
   "metadata": {},
   "source": [
    "#### REM:non-REM\n",
    "To get this ratio, we have to use the sleep minute data and cross-reference it with the partially filtered sleep data from above. "
   ]
  },
  {
   "cell_type": "code",
   "execution_count": null,
   "metadata": {},
   "outputs": [],
   "source": [
    "sleep_stages_summary = pd.read_csv(\"../data/processed/fitbit-sleep_stages_summary-ux_s20.csv\",index_col=\"start_date\",parse_dates=[\"start_date\",\"end_date\"])\n",
    "\n",
    "partial_sleep_stages_df = pd.DataFrame() # dataframe to hold the relevant sleep data\n",
    "# looping through partially filtered data and merging dataframes on common start times\n",
    "for pt in partial_sleep_df['beiwe'].unique():\n",
    "    partial_sleep_pt = partial_sleep_df[partial_sleep_df['beiwe'] == pt]\n",
    "    sleep_stages_pt = sleep_stages_summary[sleep_stages_summary['beiwe'] == pt]\n",
    "    sleep_stages_pt.drop(['beiwe'],axis=1,inplace=True)\n",
    "    \n",
    "    partial_sleep_stages_df = partial_sleep_stages_df.append(pd.merge(left=partial_sleep_pt,right=sleep_stages_pt,left_on='date',right_on='end_date',how='inner'))\n"
   ]
  },
  {
   "cell_type": "markdown",
   "metadata": {},
   "source": [
    "Creating the REM:non-REM column"
   ]
  },
  {
   "cell_type": "code",
   "execution_count": null,
   "metadata": {},
   "outputs": [],
   "source": [
    "partial_sleep_stages_df['rem2nrem'] = partial_sleep_stages_df['rem_minutes'] / (partial_sleep_stages_df['light_minutes'] + partial_sleep_stages_df['deep_minutes'])                                                                         "
   ]
  },
  {
   "cell_type": "markdown",
   "metadata": {},
   "source": [
    "Plotting the resultant data."
   ]
  },
  {
   "cell_type": "code",
   "execution_count": null,
   "metadata": {},
   "outputs": [],
   "source": [
    "ax = plot_stacked_hist(partial_sleep_stages_df,'rem2nrem',[0,0.6],width=.05)\n",
    "ax.set_ylabel('Count')\n",
    "ax.set_ylim([0,120])\n",
    "ax.set_xlabel('Ratio')\n",
    "for loc in ['right','top']:\n",
    "    ax.spines[loc].set_visible(False)\n",
    "    \n",
    "ax.axvline(0.2,color='black',linestyle='dashed',linewidth=2)\n",
    "ax.axvline(0.4,color='black',linestyle='dashed',linewidth=2)\n",
    "ax.text(0.3,100,\"Recommended\",ha='center',va='center')\n",
    "    \n",
    "#plt.savefig('../reports/figures/fitbit_sleep_rem2nrem-stacked_hist-ux_s20.pdf')\n",
    "plt.show()\n",
    "plt.close()"
   ]
  },
  {
   "cell_type": "markdown",
   "metadata": {},
   "source": [
    "#### Combined Plot\n",
    "Now we subplot each of the \"good\" sleep metric figures together."
   ]
  },
  {
   "cell_type": "code",
   "execution_count": null,
   "metadata": {},
   "outputs": [],
   "source": [
    "partial_sleep_params_df = pd.DataFrame()\n",
    "for pt in partial_sleep_metric_df[\"beiwe\"].unique():\n",
    "    df_pt = partial_sleep_metric_df[partial_sleep_metric_df[\"beiwe\"] == pt]\n",
    "    ss_pt = partial_sleep_stages_df[partial_sleep_stages_df[\"beiwe\"] == pt]\n",
    "    df_pt[\"rem2nrem\"] = ss_pt[\"rem2nrem\"]\n",
    "    n = len(df_pt)\n",
    "    df_pt[\"n\"] = n\n",
    "    partial_sleep_params_df = partial_sleep_params_df.append(df_pt)\n",
    "\n",
    "partial_sleep_params_df.sort_values(\"n\",inplace=True,ascending=False)"
   ]
  },
  {
   "cell_type": "code",
   "execution_count": null,
   "metadata": {},
   "outputs": [],
   "source": [
    "fig, axes = plt.subplots(len(partial_sleep_params_df[\"beiwe\"].unique())+1,5,figsize=(17,15),sharex=\"col\")#,sharey=\"row\")\n",
    "for i, pt in enumerate(partial_sleep_params_df[\"beiwe\"].unique()):\n",
    "    # getting sleep metrics per pt\n",
    "    df_pt = partial_sleep_params_df[partial_sleep_params_df[\"beiwe\"] == pt]\n",
    "    # plotting each histogram per pt\n",
    "    for j, metric, xlimits, width in zip(np.arange(5),[\"hours_asleep\",\"efficiency\",\"waso\",\"sol\",\"rem2nrem\"],[[3,12],[80,100],[0,100],[0,40],[0,0.6]],[1,2.5,10,2,0.05]):\n",
    "        n, bins, _ = axes[i,j].hist(df_pt[metric],bins=np.arange(xlimits[0],xlimits[1]+width,width),rwidth=0.9,color=\"cornflowerblue\",edgecolor='black')\n",
    "            \n",
    "        axes[i,j].set_ylim([0,20])\n",
    "        for loc in [\"top\",\"right\"]:\n",
    "            axes[i,j].spines[loc].set_visible(False)\n",
    "        if j != 0:\n",
    "            axes[i,j].spines[\"left\"].set_visible(False)\n",
    "            axes[i,j].set_yticks([])\n",
    "    \n",
    "for j, metric, xlimits, width in zip(np.arange(5),[\"hours_asleep\",\"efficiency\",\"waso\",\"sol\",\"rem2nrem\"],[[3,12],[80,100],[0,100],[0,40],[0,0.6]],[1,2.5,10,2,0.05]):\n",
    "    n, bins, _ = axes[len(partial_sleep_params_df[\"beiwe\"].unique()),j].hist(partial_sleep_params_df[metric],bins=np.arange(xlimits[0],xlimits[1]+width,width),rwidth=0.9,color=\"navy\",edgecolor='black')\n",
    "    axes[len(partial_sleep_params_df[\"beiwe\"].unique()),j].set_ylim([0,120])\n",
    "    for loc in [\"top\",\"right\"]:\n",
    "        axes[len(partial_sleep_params_df[\"beiwe\"].unique()),j].spines[loc].set_visible(False)\n",
    "    if j != 0:\n",
    "        axes[len(partial_sleep_params_df[\"beiwe\"].unique()),j].spines[\"left\"].set_visible(False)\n",
    "        axes[len(partial_sleep_params_df[\"beiwe\"].unique()),j].set_yticks([])\n",
    "    \n",
    "    \n",
    "for k, label in enumerate([\"TST (hours)\",\"Efficiency (%)\",\"WASO (minutes)\",\"SOL (minutes)\",\"REM:nREM\"]):\n",
    "    axes[len(partial_sleep_params_df[\"beiwe\"].unique()),k].set_xlabel(label)\n",
    "    \n",
    "plt.subplots_adjust(hspace=0.225,wspace=0.075)\n",
    "plt.savefig(\"../reports/figures/fitbit-sleep_metrics-histogram_by_pt-ux_s20.pdf\")\n",
    "plt.show()\n",
    "plt.close()"
   ]
  },
  {
   "cell_type": "markdown",
   "metadata": {},
   "source": [
    "## Sleep Minute Data\n",
    "In addition to nightly summaries, we also have the minute data corresponding to the sleep stages recorded by Fitbit."
   ]
  },
  {
   "cell_type": "code",
   "execution_count": null,
   "metadata": {},
   "outputs": [],
   "source": [
    "sleep_stages = pd.read_csv(\"../data/processed/fitbit-sleep_stages-ux_s20.csv\",index_col=\"start_date\",parse_dates=[\"start_date\",\"end_date\",\"time\"],infer_datetime_format=True)\n",
    "sleep_stages.head()"
   ]
  },
  {
   "cell_type": "markdown",
   "metadata": {},
   "source": [
    "### Number of Participants\n",
    "Trying to see if there is a disconnect between the daily and the intra-day stats."
   ]
  },
  {
   "cell_type": "code",
   "execution_count": null,
   "metadata": {},
   "outputs": [],
   "source": [
    "n_pts_ss = len(sleep_stages['beiwe'].unique())\n",
    "print(f'Number of Participants: {n_pts_ss}')\n",
    "pts_ss = sleep_stages['beiwe'].unique()"
   ]
  },
  {
   "cell_type": "markdown",
   "metadata": {},
   "source": [
    "There **is** a disconnect. Let's look at these participants:"
   ]
  },
  {
   "cell_type": "code",
   "execution_count": null,
   "metadata": {},
   "outputs": [],
   "source": [
    "np.sort(pts_daily)"
   ]
  },
  {
   "cell_type": "code",
   "execution_count": null,
   "metadata": {},
   "outputs": [],
   "source": [
    "np.sort(pts_ss)"
   ]
  },
  {
   "cell_type": "markdown",
   "metadata": {},
   "source": [
    "#### Participants with Beacons\n",
    "From this list of participants, we see how many of them had beacons."
   ]
  },
  {
   "cell_type": "code",
   "execution_count": null,
   "metadata": {},
   "outputs": [],
   "source": [
    "beacon_df = pd.read_csv('../data/processed/beacon-ux_s20.csv',index_col=0)\n",
    "# GPS\n",
    "pt_list = []\n",
    "bb_list = []\n",
    "# info\n",
    "info_pt_list = []\n",
    "info_bb_list = []\n",
    "for pt, bb in zip(beacon_df['beiwe'].unique(),beacon_df['beacon'].unique()):\n",
    "    if pt in sleep_stages['beiwe'].unique():\n",
    "        pt_list.append(pt)\n",
    "        bb_list.append(bb)"
   ]
  },
  {
   "cell_type": "markdown",
   "metadata": {},
   "source": [
    "Output"
   ]
  },
  {
   "cell_type": "code",
   "execution_count": null,
   "metadata": {},
   "outputs": [],
   "source": [
    "print('Number of Beacon users with Fitbit sleep logged:',len(bb_list))\n",
    "print('\\tFitbit Beacons:', bb_list)\n",
    "print('\\tAll Beacons:', beacon_df['beacon'].unique())"
   ]
  },
  {
   "cell_type": "markdown",
   "metadata": {},
   "source": [
    "### Histogram of Values\n",
    "We can look at the values to see the relative abundance of each type of sleep parameter."
   ]
  },
  {
   "cell_type": "markdown",
   "metadata": {},
   "source": [
    "### Sleep Times\n",
    "Unfortunately the data from the minute sleep dataframe is rather useless since it does not supply us with anything more important than the daily summary other than the start and stop times of sleep. Below is a simple figure that shows the periods when participants went to sleep and woke up. "
   ]
  },
  {
   "cell_type": "markdown",
   "metadata": {},
   "source": [
    "## Heart Rate\n",
    "Now we look at the heart rate data"
   ]
  },
  {
   "cell_type": "code",
   "execution_count": null,
   "metadata": {},
   "outputs": [],
   "source": [
    "fitbit_intra = pd.read_csv('../data/processed/fitbit-intraday-ux_s20.csv',\n",
    "            index_col=0, parse_dates=True, infer_datetime_format=True)\n",
    "fitbit_intra[:10]"
   ]
  },
  {
   "cell_type": "markdown",
   "metadata": {},
   "source": [
    "### Number of Participants"
   ]
  },
  {
   "cell_type": "code",
   "execution_count": null,
   "metadata": {},
   "outputs": [],
   "source": [
    "n_pts = len(fitbit_intra['beiwe'].unique())\n",
    "print(f'Number of participants: {n_pts}')\n",
    "pts_hourly = np.sort(fitbit_intra['beiwe'].unique())"
   ]
  },
  {
   "cell_type": "code",
   "execution_count": null,
   "metadata": {},
   "outputs": [],
   "source": [
    "daily_but_no_hourly = daily_fitbit[daily_fitbit['beiwe'] == '5fvmg226']\n",
    "daily_but_no_hourly"
   ]
  }
 ],
 "metadata": {
  "kernelspec": {
   "display_name": "Python 3",
   "language": "python",
   "name": "python3"
  },
  "language_info": {
   "codemirror_mode": {
    "name": "ipython",
    "version": 3
   },
   "file_extension": ".py",
   "mimetype": "text/x-python",
   "name": "python",
   "nbconvert_exporter": "python",
   "pygments_lexer": "ipython3",
   "version": "3.7.0"
  },
  "toc": {
   "base_numbering": 1,
   "nav_menu": {},
   "number_sections": false,
   "sideBar": false,
   "skip_h1_title": false,
   "title_cell": "Table of Contents",
   "title_sidebar": "Contents",
   "toc_cell": false,
   "toc_position": {},
   "toc_section_display": false,
   "toc_window_display": false
  }
 },
 "nbformat": 4,
 "nbformat_minor": 4
}
