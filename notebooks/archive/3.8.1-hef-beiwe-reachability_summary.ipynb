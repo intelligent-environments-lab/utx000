{
 "cells": [
  {
   "cell_type": "markdown",
   "metadata": {},
   "source": [
    "# Exploring the UTx000 Dataset\n",
    "From the first cohort in Spring 2020"
   ]
  },
  {
   "cell_type": "code",
   "execution_count": 2,
   "metadata": {},
   "outputs": [],
   "source": [
    "import warnings\n",
    "warnings.filterwarnings('ignore')"
   ]
  },
  {
   "cell_type": "markdown",
   "metadata": {},
   "source": [
    "# Reachability Summary\n",
    "The reachability summary"
   ]
  },
  {
   "cell_type": "code",
   "execution_count": 2,
   "metadata": {},
   "outputs": [],
   "source": [
    "import os\n",
    "\n",
    "import pandas as pd\n",
    "import numpy as np\n",
    "\n",
    "from datetime import datetime, timedelta\n",
    "\n",
    "import matplotlib.pyplot as plt\n",
    "import seaborn as sns"
   ]
  },
  {
   "cell_type": "markdown",
   "metadata": {},
   "source": [
    "# Data Import\n",
    "Importing the \"processed\" file - really it is just a fille that has all participants aggregated."
   ]
  },
  {
   "cell_type": "code",
   "execution_count": 3,
   "metadata": {},
   "outputs": [
    {
     "data": {
      "text/html": [
       "<div>\n",
       "<style scoped>\n",
       "    .dataframe tbody tr th:only-of-type {\n",
       "        vertical-align: middle;\n",
       "    }\n",
       "\n",
       "    .dataframe tbody tr th {\n",
       "        vertical-align: top;\n",
       "    }\n",
       "\n",
       "    .dataframe thead th {\n",
       "        text-align: right;\n",
       "    }\n",
       "</style>\n",
       "<table border=\"1\" class=\"dataframe\">\n",
       "  <thead>\n",
       "    <tr style=\"text-align: right;\">\n",
       "      <th></th>\n",
       "      <th>timestamp</th>\n",
       "      <th>UTC time</th>\n",
       "      <th>event</th>\n",
       "      <th>Beiwe</th>\n",
       "    </tr>\n",
       "    <tr>\n",
       "      <th>Time</th>\n",
       "      <th></th>\n",
       "      <th></th>\n",
       "      <th></th>\n",
       "      <th></th>\n",
       "    </tr>\n",
       "  </thead>\n",
       "  <tbody>\n",
       "    <tr>\n",
       "      <th>2020-01-24 14:55:24.612</th>\n",
       "      <td>1579899324612</td>\n",
       "      <td>2020-01-24 20:55:24.612</td>\n",
       "      <td>cellular</td>\n",
       "      <td>286vqdjn</td>\n",
       "    </tr>\n",
       "    <tr>\n",
       "      <th>2020-01-24 14:55:27.680</th>\n",
       "      <td>1579899327680</td>\n",
       "      <td>2020-01-24 20:55:27.680</td>\n",
       "      <td>wifi</td>\n",
       "      <td>286vqdjn</td>\n",
       "    </tr>\n",
       "    <tr>\n",
       "      <th>2020-01-24 14:57:45.587</th>\n",
       "      <td>1579899465587</td>\n",
       "      <td>2020-01-24 20:57:45.587</td>\n",
       "      <td>cellular</td>\n",
       "      <td>286vqdjn</td>\n",
       "    </tr>\n",
       "    <tr>\n",
       "      <th>2020-01-24 14:58:01.614</th>\n",
       "      <td>1579899481614</td>\n",
       "      <td>2020-01-24 20:58:01.614</td>\n",
       "      <td>wifi</td>\n",
       "      <td>286vqdjn</td>\n",
       "    </tr>\n",
       "    <tr>\n",
       "      <th>2020-01-24 15:01:33.948</th>\n",
       "      <td>1579899693948</td>\n",
       "      <td>2020-01-24 21:01:33.948</td>\n",
       "      <td>cellular</td>\n",
       "      <td>286vqdjn</td>\n",
       "    </tr>\n",
       "  </tbody>\n",
       "</table>\n",
       "</div>"
      ],
      "text/plain": [
       "                             timestamp                 UTC time     event  \\\n",
       "Time                                                                        \n",
       "2020-01-24 14:55:24.612  1579899324612  2020-01-24 20:55:24.612  cellular   \n",
       "2020-01-24 14:55:27.680  1579899327680  2020-01-24 20:55:27.680      wifi   \n",
       "2020-01-24 14:57:45.587  1579899465587  2020-01-24 20:57:45.587  cellular   \n",
       "2020-01-24 14:58:01.614  1579899481614  2020-01-24 20:58:01.614      wifi   \n",
       "2020-01-24 15:01:33.948  1579899693948  2020-01-24 21:01:33.948  cellular   \n",
       "\n",
       "                            Beiwe  \n",
       "Time                               \n",
       "2020-01-24 14:55:24.612  286vqdjn  \n",
       "2020-01-24 14:55:27.680  286vqdjn  \n",
       "2020-01-24 14:57:45.587  286vqdjn  \n",
       "2020-01-24 14:58:01.614  286vqdjn  \n",
       "2020-01-24 15:01:33.948  286vqdjn  "
      ]
     },
     "execution_count": 3,
     "metadata": {},
     "output_type": "execute_result"
    }
   ],
   "source": [
    "reach = pd.read_csv('../data/processed/bpeace1-reachability.csv',parse_dates=True,infer_datetime_format=True,index_col=0)\n",
    "reach.head()"
   ]
  },
  {
   "cell_type": "markdown",
   "metadata": {},
   "source": [
    "# Analysis"
   ]
  },
  {
   "cell_type": "markdown",
   "metadata": {},
   "source": [
    "## By the numbers"
   ]
  },
  {
   "cell_type": "code",
   "execution_count": 1,
   "metadata": {},
   "outputs": [
    {
     "ename": "NameError",
     "evalue": "name 'reach' is not defined",
     "output_type": "error",
     "traceback": [
      "\u001b[0;31m---------------------------------------------------------------------------\u001b[0m",
      "\u001b[0;31mNameError\u001b[0m                                 Traceback (most recent call last)",
      "\u001b[0;32m<ipython-input-1-a49be118a08b>\u001b[0m in \u001b[0;36m<module>\u001b[0;34m\u001b[0m\n\u001b[0;32m----> 1\u001b[0;31m \u001b[0mn\u001b[0m \u001b[0;34m=\u001b[0m \u001b[0mlen\u001b[0m\u001b[0;34m(\u001b[0m\u001b[0mreach\u001b[0m\u001b[0;34m[\u001b[0m\u001b[0;34m'Beiwe'\u001b[0m\u001b[0;34m]\u001b[0m\u001b[0;34m.\u001b[0m\u001b[0munique\u001b[0m\u001b[0;34m(\u001b[0m\u001b[0;34m)\u001b[0m\u001b[0;34m)\u001b[0m\u001b[0;34m\u001b[0m\u001b[0m\n\u001b[0m\u001b[1;32m      2\u001b[0m \u001b[0mprint\u001b[0m\u001b[0;34m(\u001b[0m\u001b[0;34mf'Number of reachability users: {n}'\u001b[0m\u001b[0;34m)\u001b[0m\u001b[0;34m\u001b[0m\u001b[0m\n",
      "\u001b[0;31mNameError\u001b[0m: name 'reach' is not defined"
     ]
    }
   ],
   "source": [
    "n = len(reach['Beiwe'].unique())\n",
    "print(f'Number of reachability users: {n}')"
   ]
  },
  {
   "cell_type": "code",
   "execution_count": null,
   "metadata": {},
   "outputs": [],
   "source": []
  }
 ],
 "metadata": {
  "kernelspec": {
   "display_name": "Python 3",
   "language": "python",
   "name": "python3"
  },
  "language_info": {
   "codemirror_mode": {
    "name": "ipython",
    "version": 3
   },
   "file_extension": ".py",
   "mimetype": "text/x-python",
   "name": "python",
   "nbconvert_exporter": "python",
   "pygments_lexer": "ipython3",
   "version": "3.7.0"
  }
 },
 "nbformat": 4,
 "nbformat_minor": 4
}
