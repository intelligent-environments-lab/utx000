{
 "cells": [
  {
   "cell_type": "markdown",
   "metadata": {},
   "source": [
    "# Exploring the UTx000 Dataset\n",
    "From the first cohort in Spring 2020"
   ]
  },
  {
   "cell_type": "code",
   "execution_count": 3,
   "metadata": {},
   "outputs": [],
   "source": [
    "import warnings\n",
    "warnings.filterwarnings('ignore')"
   ]
  },
  {
   "cell_type": "markdown",
   "metadata": {},
   "source": [
    "# Accelerometer Summary\n",
    "The largest dataset by far that contains the highest resolution of data. This data can be used a proxy for Beiwe/phone operation - at least as a preliminary thought."
   ]
  },
  {
   "cell_type": "code",
   "execution_count": 4,
   "metadata": {},
   "outputs": [],
   "source": [
    "import os\n",
    "\n",
    "import pandas as pd\n",
    "import numpy as np\n",
    "\n",
    "from datetime import datetime, timedelta\n",
    "\n",
    "import matplotlib.pyplot as plt\n",
    "import seaborn as sns"
   ]
  },
  {
   "cell_type": "markdown",
   "metadata": {},
   "source": [
    "# Data Import\n",
    "We want to import some data from participants so that we can understand it a little bit more."
   ]
  },
  {
   "cell_type": "code",
   "execution_count": 8,
   "metadata": {},
   "outputs": [
    {
     "data": {
      "text/html": [
       "<div>\n",
       "<style scoped>\n",
       "    .dataframe tbody tr th:only-of-type {\n",
       "        vertical-align: middle;\n",
       "    }\n",
       "\n",
       "    .dataframe tbody tr th {\n",
       "        vertical-align: top;\n",
       "    }\n",
       "\n",
       "    .dataframe thead th {\n",
       "        text-align: right;\n",
       "    }\n",
       "</style>\n",
       "<table border=\"1\" class=\"dataframe\">\n",
       "  <thead>\n",
       "    <tr style=\"text-align: right;\">\n",
       "      <th></th>\n",
       "      <th>timestamp</th>\n",
       "      <th>accuracy</th>\n",
       "      <th>x</th>\n",
       "      <th>y</th>\n",
       "      <th>z</th>\n",
       "      <th>Beiwe</th>\n",
       "    </tr>\n",
       "    <tr>\n",
       "      <th>Time</th>\n",
       "      <th></th>\n",
       "      <th></th>\n",
       "      <th></th>\n",
       "      <th></th>\n",
       "      <th></th>\n",
       "      <th></th>\n",
       "    </tr>\n",
       "  </thead>\n",
       "  <tbody>\n",
       "    <tr>\n",
       "      <th>2020-01-24 17:09:00.500</th>\n",
       "      <td>1.579907e+12</td>\n",
       "      <td>3.0</td>\n",
       "      <td>-0.589397</td>\n",
       "      <td>6.408553</td>\n",
       "      <td>8.307074</td>\n",
       "      <td>25rlmdr1</td>\n",
       "    </tr>\n",
       "    <tr>\n",
       "      <th>2020-01-24 17:09:00.600</th>\n",
       "      <td>1.579907e+12</td>\n",
       "      <td>3.0</td>\n",
       "      <td>0.317697</td>\n",
       "      <td>6.457363</td>\n",
       "      <td>8.652752</td>\n",
       "      <td>25rlmdr1</td>\n",
       "    </tr>\n",
       "    <tr>\n",
       "      <th>2020-01-24 17:09:00.700</th>\n",
       "      <td>1.579907e+12</td>\n",
       "      <td>3.0</td>\n",
       "      <td>2.435653</td>\n",
       "      <td>5.860412</td>\n",
       "      <td>6.722800</td>\n",
       "      <td>25rlmdr1</td>\n",
       "    </tr>\n",
       "    <tr>\n",
       "      <th>2020-01-24 17:09:00.900</th>\n",
       "      <td>1.579907e+12</td>\n",
       "      <td>3.0</td>\n",
       "      <td>4.351601</td>\n",
       "      <td>5.880342</td>\n",
       "      <td>5.957606</td>\n",
       "      <td>25rlmdr1</td>\n",
       "    </tr>\n",
       "    <tr>\n",
       "      <th>2020-01-24 17:09:01.100</th>\n",
       "      <td>1.579907e+12</td>\n",
       "      <td>3.0</td>\n",
       "      <td>3.631967</td>\n",
       "      <td>6.610585</td>\n",
       "      <td>6.287502</td>\n",
       "      <td>25rlmdr1</td>\n",
       "    </tr>\n",
       "  </tbody>\n",
       "</table>\n",
       "</div>"
      ],
      "text/plain": [
       "                            timestamp  accuracy         x         y         z  \\\n",
       "Time                                                                            \n",
       "2020-01-24 17:09:00.500  1.579907e+12       3.0 -0.589397  6.408553  8.307074   \n",
       "2020-01-24 17:09:00.600  1.579907e+12       3.0  0.317697  6.457363  8.652752   \n",
       "2020-01-24 17:09:00.700  1.579907e+12       3.0  2.435653  5.860412  6.722800   \n",
       "2020-01-24 17:09:00.900  1.579907e+12       3.0  4.351601  5.880342  5.957606   \n",
       "2020-01-24 17:09:01.100  1.579907e+12       3.0  3.631967  6.610585  6.287502   \n",
       "\n",
       "                            Beiwe  \n",
       "Time                               \n",
       "2020-01-24 17:09:00.500  25rlmdr1  \n",
       "2020-01-24 17:09:00.600  25rlmdr1  \n",
       "2020-01-24 17:09:00.700  25rlmdr1  \n",
       "2020-01-24 17:09:00.900  25rlmdr1  \n",
       "2020-01-24 17:09:01.100  25rlmdr1  "
      ]
     },
     "execution_count": 8,
     "metadata": {},
     "output_type": "execute_result"
    }
   ],
   "source": [
    "a = pd.read_csv('../data/processed/bpeace1-accelerometer.csv',index_col=0,parse_dates=[0],infer_datetime_format=True)\n",
    "a.head()"
   ]
  },
  {
   "cell_type": "code",
   "execution_count": 11,
   "metadata": {},
   "outputs": [
    {
     "name": "stdout",
     "output_type": "stream",
     "text": [
      "Number of participants: 75\n"
     ]
    }
   ],
   "source": [
    "n = len(a['Beiwe'].unique())\n",
    "print(f'Number of participants: {n}')"
   ]
  },
  {
   "cell_type": "code",
   "execution_count": null,
   "metadata": {},
   "outputs": [],
   "source": []
  }
 ],
 "metadata": {
  "kernelspec": {
   "display_name": "Python 3",
   "language": "python",
   "name": "python3"
  },
  "language_info": {
   "codemirror_mode": {
    "name": "ipython",
    "version": 3
   },
   "file_extension": ".py",
   "mimetype": "text/x-python",
   "name": "python",
   "nbconvert_exporter": "python",
   "pygments_lexer": "ipython3",
   "version": "3.7.0"
  }
 },
 "nbformat": 4,
 "nbformat_minor": 4
}
