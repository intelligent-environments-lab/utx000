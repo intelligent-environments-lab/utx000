{
 "cells": [
  {
   "cell_type": "markdown",
   "metadata": {},
   "source": [
    "# Exploring the UTx000 Dataset\n",
    "From the first cohort in Spring 2020, which has implications for the second cohort."
   ]
  },
  {
   "cell_type": "code",
   "execution_count": 2,
   "metadata": {},
   "outputs": [],
   "source": [
    "import warnings\n",
    "warnings.filterwarnings('ignore')"
   ]
  },
  {
   "cell_type": "markdown",
   "metadata": {},
   "source": [
    "# Power State Processing\n",
    "A more straight-forward dataset that could give a glimpse into phone usage."
   ]
  },
  {
   "cell_type": "code",
   "execution_count": 3,
   "metadata": {},
   "outputs": [],
   "source": [
    "import os\n",
    "\n",
    "import pandas as pd\n",
    "import numpy as np\n",
    "\n",
    "from datetime import datetime, timedelta\n",
    "\n",
    "import matplotlib.pyplot as plt\n",
    "import seaborn as sns"
   ]
  },
  {
   "cell_type": "markdown",
   "metadata": {},
   "source": [
    "# Test Data Import\n",
    "We want to import some data from participants so that we can understand it a little bit more."
   ]
  },
  {
   "cell_type": "markdown",
   "metadata": {},
   "source": [
    "## One datafile"
   ]
  },
  {
   "cell_type": "code",
   "execution_count": 6,
   "metadata": {},
   "outputs": [
    {
     "data": {
      "text/html": [
       "<div>\n",
       "<style scoped>\n",
       "    .dataframe tbody tr th:only-of-type {\n",
       "        vertical-align: middle;\n",
       "    }\n",
       "\n",
       "    .dataframe tbody tr th {\n",
       "        vertical-align: top;\n",
       "    }\n",
       "\n",
       "    .dataframe thead th {\n",
       "        text-align: right;\n",
       "    }\n",
       "</style>\n",
       "<table border=\"1\" class=\"dataframe\">\n",
       "  <thead>\n",
       "    <tr style=\"text-align: right;\">\n",
       "      <th></th>\n",
       "      <th>timestamp</th>\n",
       "      <th>UTC time</th>\n",
       "      <th>event</th>\n",
       "      <th>level</th>\n",
       "    </tr>\n",
       "  </thead>\n",
       "  <tbody>\n",
       "    <tr>\n",
       "      <th>0</th>\n",
       "      <td>1579314058057</td>\n",
       "      <td>2020-01-18T02:20:58.057</td>\n",
       "      <td>Unplugged</td>\n",
       "      <td>0.63</td>\n",
       "    </tr>\n",
       "    <tr>\n",
       "      <th>1</th>\n",
       "      <td>1579316238100</td>\n",
       "      <td>2020-01-18T02:57:18.100</td>\n",
       "      <td>Unplugged</td>\n",
       "      <td>0.62</td>\n",
       "    </tr>\n",
       "  </tbody>\n",
       "</table>\n",
       "</div>"
      ],
      "text/plain": [
       "       timestamp                 UTC time      event  level\n",
       "0  1579314058057  2020-01-18T02:20:58.057  Unplugged   0.63\n",
       "1  1579316238100  2020-01-18T02:57:18.100  Unplugged   0.62"
      ]
     },
     "execution_count": 6,
     "metadata": {},
     "output_type": "execute_result"
    }
   ],
   "source": [
    "raw = pd.read_csv('/Volumes/HEF_Dissertation_Research/utx000/bpeace1/beiwe/power_state/2ulkphrb/power_state/2020-01-18 02_00_00.csv')\n",
    "raw"
   ]
  },
  {
   "cell_type": "markdown",
   "metadata": {},
   "source": [
    "## One participant"
   ]
  },
  {
   "cell_type": "code",
   "execution_count": 7,
   "metadata": {},
   "outputs": [
    {
     "data": {
      "text/html": [
       "<div>\n",
       "<style scoped>\n",
       "    .dataframe tbody tr th:only-of-type {\n",
       "        vertical-align: middle;\n",
       "    }\n",
       "\n",
       "    .dataframe tbody tr th {\n",
       "        vertical-align: top;\n",
       "    }\n",
       "\n",
       "    .dataframe thead th {\n",
       "        text-align: right;\n",
       "    }\n",
       "</style>\n",
       "<table border=\"1\" class=\"dataframe\">\n",
       "  <thead>\n",
       "    <tr style=\"text-align: right;\">\n",
       "      <th></th>\n",
       "      <th>timestamp</th>\n",
       "      <th>event</th>\n",
       "      <th>level</th>\n",
       "    </tr>\n",
       "    <tr>\n",
       "      <th>UTC time</th>\n",
       "      <th></th>\n",
       "      <th></th>\n",
       "      <th></th>\n",
       "    </tr>\n",
       "  </thead>\n",
       "  <tbody>\n",
       "    <tr>\n",
       "      <th>2020-01-17 14:58:18.092</th>\n",
       "      <td>1579273098092</td>\n",
       "      <td>Charging</td>\n",
       "      <td>0.70</td>\n",
       "    </tr>\n",
       "    <tr>\n",
       "      <th>2020-01-17 14:59:18.132</th>\n",
       "      <td>1579273158132</td>\n",
       "      <td>Charging</td>\n",
       "      <td>0.71</td>\n",
       "    </tr>\n",
       "    <tr>\n",
       "      <th>2020-01-17 14:59:19.420</th>\n",
       "      <td>1579273159420</td>\n",
       "      <td>Unlocked</td>\n",
       "      <td>0.71</td>\n",
       "    </tr>\n",
       "    <tr>\n",
       "      <th>2020-01-17 15:00:18.098</th>\n",
       "      <td>1579273218098</td>\n",
       "      <td>Charging</td>\n",
       "      <td>0.72</td>\n",
       "    </tr>\n",
       "    <tr>\n",
       "      <th>2020-01-17 15:01:18.171</th>\n",
       "      <td>1579273278171</td>\n",
       "      <td>Charging</td>\n",
       "      <td>0.73</td>\n",
       "    </tr>\n",
       "  </tbody>\n",
       "</table>\n",
       "</div>"
      ],
      "text/plain": [
       "                             timestamp     event  level\n",
       "UTC time                                               \n",
       "2020-01-17 14:58:18.092  1579273098092  Charging   0.70\n",
       "2020-01-17 14:59:18.132  1579273158132  Charging   0.71\n",
       "2020-01-17 14:59:19.420  1579273159420  Unlocked   0.71\n",
       "2020-01-17 15:00:18.098  1579273218098  Charging   0.72\n",
       "2020-01-17 15:01:18.171  1579273278171  Charging   0.73"
      ]
     },
     "execution_count": 7,
     "metadata": {},
     "output_type": "execute_result"
    }
   ],
   "source": [
    "pt_dir = '/Volumes/HEF_Dissertation_Research/utx000/bpeace1/beiwe/power_state/2ulkphrb/power_state/'\n",
    "pt_df = pd.DataFrame()\n",
    "for file in os.listdir(pt_dir):\n",
    "    temp = pd.read_csv(f'{pt_dir}{file}',parse_dates = [1],infer_datetime_format=True,index_col=1)\n",
    "    pt_df = pt_df.append(temp)\n",
    "    \n",
    "pt_df.head()"
   ]
  },
  {
   "cell_type": "markdown",
   "metadata": {},
   "source": [
    "### Visualizing to see gaps"
   ]
  },
  {
   "cell_type": "code",
   "execution_count": 9,
   "metadata": {},
   "outputs": [
    {
     "data": {
      "image/png": "[encoded data removed]",
      "text/plain": [
       "<Figure size 1152x288 with 1 Axes>"
      ]
     },
     "metadata": {
      "needs_background": "light"
     },
     "output_type": "display_data"
    }
   ],
   "source": [
    "fig, ax = plt.subplots(figsize=(16,4))\n",
    "ax.scatter(pt_df.index, pt_df['level'],s=10,color='black')\n",
    "plt.show()\n",
    "plt.close()"
   ]
  },
  {
   "cell_type": "markdown",
   "metadata": {},
   "source": [
    "### Downsampling analysis"
   ]
  },
  {
   "cell_type": "markdown",
   "metadata": {},
   "source": [
    "Can't really do any downsampling because it only adds data for the file when something new happens (or so the beiwe platform wiki tells us)"
   ]
  },
  {
   "cell_type": "markdown",
   "metadata": {},
   "source": [
    "# Processing Pipeline"
   ]
  },
  {
   "cell_type": "code",
   "execution_count": 10,
   "metadata": {},
   "outputs": [
    {
     "name": "stdout",
     "output_type": "stream",
     "text": [
      "\t\tWorking for participant 25rlmdr1\n",
      "\t\tWorking for participant 286vqdjn\n",
      "\t\tWorking for participant 2ulkphrb\n"
     ]
    },
    {
     "data": {
      "text/html": [
       "<div>\n",
       "<style scoped>\n",
       "    .dataframe tbody tr th:only-of-type {\n",
       "        vertical-align: middle;\n",
       "    }\n",
       "\n",
       "    .dataframe tbody tr th {\n",
       "        vertical-align: top;\n",
       "    }\n",
       "\n",
       "    .dataframe thead th {\n",
       "        text-align: right;\n",
       "    }\n",
       "</style>\n",
       "<table border=\"1\" class=\"dataframe\">\n",
       "  <thead>\n",
       "    <tr style=\"text-align: right;\">\n",
       "      <th></th>\n",
       "      <th>timestamp</th>\n",
       "      <th>UTC time</th>\n",
       "      <th>event</th>\n",
       "      <th>Beiwe</th>\n",
       "      <th>level</th>\n",
       "    </tr>\n",
       "    <tr>\n",
       "      <th>Time</th>\n",
       "      <th></th>\n",
       "      <th></th>\n",
       "      <th></th>\n",
       "      <th></th>\n",
       "      <th></th>\n",
       "    </tr>\n",
       "  </thead>\n",
       "  <tbody>\n",
       "    <tr>\n",
       "      <th>2020-01-24 17:40:37.506</th>\n",
       "      <td>1579909237506</td>\n",
       "      <td>2020-01-24 23:40:37.506</td>\n",
       "      <td>Screen turned on</td>\n",
       "      <td>25rlmdr1</td>\n",
       "      <td>NaN</td>\n",
       "    </tr>\n",
       "    <tr>\n",
       "      <th>2020-01-24 17:49:16.138</th>\n",
       "      <td>1579909756138</td>\n",
       "      <td>2020-01-24 23:49:16.138</td>\n",
       "      <td>Screen turned off</td>\n",
       "      <td>25rlmdr1</td>\n",
       "      <td>NaN</td>\n",
       "    </tr>\n",
       "    <tr>\n",
       "      <th>2020-01-24 17:49:57.435</th>\n",
       "      <td>1579909797435</td>\n",
       "      <td>2020-01-24 23:49:57.435</td>\n",
       "      <td>Screen turned on</td>\n",
       "      <td>25rlmdr1</td>\n",
       "      <td>NaN</td>\n",
       "    </tr>\n",
       "    <tr>\n",
       "      <th>2020-01-24 17:50:12.113</th>\n",
       "      <td>1579909812113</td>\n",
       "      <td>2020-01-24 23:50:12.113</td>\n",
       "      <td>Screen turned off</td>\n",
       "      <td>25rlmdr1</td>\n",
       "      <td>NaN</td>\n",
       "    </tr>\n",
       "    <tr>\n",
       "      <th>2020-01-24 17:53:28.486</th>\n",
       "      <td>1579910008486</td>\n",
       "      <td>2020-01-24 23:53:28.486</td>\n",
       "      <td>Screen turned on</td>\n",
       "      <td>25rlmdr1</td>\n",
       "      <td>NaN</td>\n",
       "    </tr>\n",
       "  </tbody>\n",
       "</table>\n",
       "</div>"
      ],
      "text/plain": [
       "                             timestamp                UTC time  \\\n",
       "Time                                                             \n",
       "2020-01-24 17:40:37.506  1579909237506 2020-01-24 23:40:37.506   \n",
       "2020-01-24 17:49:16.138  1579909756138 2020-01-24 23:49:16.138   \n",
       "2020-01-24 17:49:57.435  1579909797435 2020-01-24 23:49:57.435   \n",
       "2020-01-24 17:50:12.113  1579909812113 2020-01-24 23:50:12.113   \n",
       "2020-01-24 17:53:28.486  1579910008486 2020-01-24 23:53:28.486   \n",
       "\n",
       "                                     event     Beiwe  level  \n",
       "Time                                                         \n",
       "2020-01-24 17:40:37.506   Screen turned on  25rlmdr1    NaN  \n",
       "2020-01-24 17:49:16.138  Screen turned off  25rlmdr1    NaN  \n",
       "2020-01-24 17:49:57.435   Screen turned on  25rlmdr1    NaN  \n",
       "2020-01-24 17:50:12.113  Screen turned off  25rlmdr1    NaN  \n",
       "2020-01-24 17:53:28.486   Screen turned on  25rlmdr1    NaN  "
      ]
     },
     "execution_count": 10,
     "metadata": {},
     "output_type": "execute_result"
    }
   ],
   "source": [
    "data_dir = '/Volumes/HEF_Dissertation_Research/utx000/bpeace1/beiwe/power_state/'\n",
    "ps_df = pd.DataFrame()\n",
    "for pt in os.listdir(data_dir)[:4]:\n",
    "    if len(pt) == 8:\n",
    "        print(f'\\t\\tWorking for participant {pt}')\n",
    "        pt_df = pd.DataFrame()\n",
    "        for file in os.listdir(f'{data_dir}{pt}/power_state/'):\n",
    "            if file[-1] == 'v':\n",
    "                temp = pd.read_csv(f'{data_dir}{pt}/power_state/{file}',parse_dates=[1],infer_datetime_format=True,engine='python')\n",
    "                pt_df = pt_df.append(temp)\n",
    "            \n",
    "        pt_df['UTC time'] = pd.to_datetime(pt_df['UTC time'])\n",
    "        pt_df['Time'] = pt_df['UTC time'] - timedelta(hours=6)\n",
    "        pt_df.set_index('Time',inplace=True)\n",
    "        pt_df['Beiwe'] = pt\n",
    "        \n",
    "        ps_df = ps_df.append(pt_df)\n",
    "    \n",
    "ps_df.head()"
   ]
  },
  {
   "cell_type": "code",
   "execution_count": null,
   "metadata": {},
   "outputs": [],
   "source": []
  }
 ],
 "metadata": {
  "kernelspec": {
   "display_name": "Python 3",
   "language": "python",
   "name": "python3"
  },
  "language_info": {
   "codemirror_mode": {
    "name": "ipython",
    "version": 3
   },
   "file_extension": ".py",
   "mimetype": "text/x-python",
   "name": "python",
   "nbconvert_exporter": "python",
   "pygments_lexer": "ipython3",
   "version": "3.7.0"
  }
 },
 "nbformat": 4,
 "nbformat_minor": 4
}
