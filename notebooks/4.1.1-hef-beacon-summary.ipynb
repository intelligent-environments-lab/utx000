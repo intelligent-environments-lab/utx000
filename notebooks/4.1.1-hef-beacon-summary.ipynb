{
 "cells": [
  {
   "cell_type": "markdown",
   "metadata": {},
   "source": [
    "# Exploring the UTx000 Extension Beacon Data\n",
    "(Known as BPEACE2 in the [GH repo](https://github.com/intelligent-environments-lab/utx000))"
   ]
  },
  {
   "cell_type": "markdown",
   "metadata": {},
   "source": [
    "# Summary\n",
    "This notebook helps look at the measurements taken during the study period for the various sensors on the beacons."
   ]
  },
  {
   "cell_type": "code",
   "execution_count": 1,
   "metadata": {},
   "outputs": [],
   "source": [
    "import warnings\n",
    "warnings.filterwarnings('ignore')"
   ]
  },
  {
   "cell_type": "markdown",
   "metadata": {},
   "source": [
    "# Package Import"
   ]
  },
  {
   "cell_type": "code",
   "execution_count": 2,
   "metadata": {},
   "outputs": [],
   "source": [
    "import sys\n",
    "sys.path.append('../')\n",
    "\n",
    "from src.features import build_features\n",
    "from src.visualization import visualize\n",
    "from src.reports import make_report\n",
    "\n",
    "import pandas as pd\n",
    "import numpy as np\n",
    "import scipy\n",
    "\n",
    "from datetime import datetime, timedelta"
   ]
  },
  {
   "cell_type": "markdown",
   "metadata": {},
   "source": [
    "# Data Import"
   ]
  },
  {
   "cell_type": "code",
   "execution_count": 3,
   "metadata": {},
   "outputs": [
    {
     "data": {
      "text/html": [
       "<div>\n",
       "<style scoped>\n",
       "    .dataframe tbody tr th:only-of-type {\n",
       "        vertical-align: middle;\n",
       "    }\n",
       "\n",
       "    .dataframe tbody tr th {\n",
       "        vertical-align: top;\n",
       "    }\n",
       "\n",
       "    .dataframe thead th {\n",
       "        text-align: right;\n",
       "    }\n",
       "</style>\n",
       "<table border=\"1\" class=\"dataframe\">\n",
       "  <thead>\n",
       "    <tr style=\"text-align: right;\">\n",
       "      <th></th>\n",
       "      <th>TVOC</th>\n",
       "      <th>eCO2</th>\n",
       "      <th>Lux</th>\n",
       "      <th>Visible</th>\n",
       "      <th>Infrared</th>\n",
       "      <th>NO2</th>\n",
       "      <th>T_NO2</th>\n",
       "      <th>RH_NO2</th>\n",
       "      <th>CO</th>\n",
       "      <th>T_CO</th>\n",
       "      <th>...</th>\n",
       "      <th>PM_N_4</th>\n",
       "      <th>PM_N_10</th>\n",
       "      <th>PM_C_1</th>\n",
       "      <th>PM_C_2p5</th>\n",
       "      <th>PM_C_4</th>\n",
       "      <th>PM_C_10</th>\n",
       "      <th>Beacon</th>\n",
       "      <th>Beiwe</th>\n",
       "      <th>Fitbit</th>\n",
       "      <th>REDCap</th>\n",
       "    </tr>\n",
       "    <tr>\n",
       "      <th>Timestamp</th>\n",
       "      <th></th>\n",
       "      <th></th>\n",
       "      <th></th>\n",
       "      <th></th>\n",
       "      <th></th>\n",
       "      <th></th>\n",
       "      <th></th>\n",
       "      <th></th>\n",
       "      <th></th>\n",
       "      <th></th>\n",
       "      <th></th>\n",
       "      <th></th>\n",
       "      <th></th>\n",
       "      <th></th>\n",
       "      <th></th>\n",
       "      <th></th>\n",
       "      <th></th>\n",
       "      <th></th>\n",
       "      <th></th>\n",
       "      <th></th>\n",
       "      <th></th>\n",
       "    </tr>\n",
       "  </thead>\n",
       "  <tbody>\n",
       "    <tr>\n",
       "      <th>2020-06-13 20:00:00</th>\n",
       "      <td>537.88</td>\n",
       "      <td>990.12</td>\n",
       "      <td>0.0</td>\n",
       "      <td>0.0</td>\n",
       "      <td>0.0</td>\n",
       "      <td>74.64</td>\n",
       "      <td>28.0</td>\n",
       "      <td>36.80</td>\n",
       "      <td>0.0</td>\n",
       "      <td>28.0</td>\n",
       "      <td>...</td>\n",
       "      <td>39.961129</td>\n",
       "      <td>40.164481</td>\n",
       "      <td>4.925515</td>\n",
       "      <td>11.135812</td>\n",
       "      <td>15.932873</td>\n",
       "      <td>16.892285</td>\n",
       "      <td>1</td>\n",
       "      <td>kyj367pi</td>\n",
       "      <td>24</td>\n",
       "      <td>10</td>\n",
       "    </tr>\n",
       "    <tr>\n",
       "      <th>2020-06-13 20:05:00</th>\n",
       "      <td>537.70</td>\n",
       "      <td>1006.65</td>\n",
       "      <td>0.0</td>\n",
       "      <td>0.0</td>\n",
       "      <td>0.0</td>\n",
       "      <td>75.85</td>\n",
       "      <td>28.0</td>\n",
       "      <td>37.00</td>\n",
       "      <td>0.0</td>\n",
       "      <td>28.0</td>\n",
       "      <td>...</td>\n",
       "      <td>32.546536</td>\n",
       "      <td>32.691019</td>\n",
       "      <td>4.020243</td>\n",
       "      <td>8.442126</td>\n",
       "      <td>11.833886</td>\n",
       "      <td>12.512238</td>\n",
       "      <td>1</td>\n",
       "      <td>kyj367pi</td>\n",
       "      <td>24</td>\n",
       "      <td>10</td>\n",
       "    </tr>\n",
       "    <tr>\n",
       "      <th>2020-06-13 20:10:00</th>\n",
       "      <td>537.64</td>\n",
       "      <td>1020.24</td>\n",
       "      <td>0.0</td>\n",
       "      <td>0.0</td>\n",
       "      <td>0.0</td>\n",
       "      <td>76.56</td>\n",
       "      <td>28.0</td>\n",
       "      <td>37.00</td>\n",
       "      <td>0.0</td>\n",
       "      <td>28.0</td>\n",
       "      <td>...</td>\n",
       "      <td>34.809603</td>\n",
       "      <td>34.927838</td>\n",
       "      <td>4.314605</td>\n",
       "      <td>7.951792</td>\n",
       "      <td>10.694790</td>\n",
       "      <td>11.243390</td>\n",
       "      <td>1</td>\n",
       "      <td>kyj367pi</td>\n",
       "      <td>24</td>\n",
       "      <td>10</td>\n",
       "    </tr>\n",
       "    <tr>\n",
       "      <th>2020-06-13 20:15:00</th>\n",
       "      <td>542.40</td>\n",
       "      <td>1080.52</td>\n",
       "      <td>0.0</td>\n",
       "      <td>0.0</td>\n",
       "      <td>0.0</td>\n",
       "      <td>74.52</td>\n",
       "      <td>28.0</td>\n",
       "      <td>36.28</td>\n",
       "      <td>0.0</td>\n",
       "      <td>28.0</td>\n",
       "      <td>...</td>\n",
       "      <td>40.619122</td>\n",
       "      <td>40.779581</td>\n",
       "      <td>5.025503</td>\n",
       "      <td>9.946487</td>\n",
       "      <td>13.695432</td>\n",
       "      <td>14.445220</td>\n",
       "      <td>1</td>\n",
       "      <td>kyj367pi</td>\n",
       "      <td>24</td>\n",
       "      <td>10</td>\n",
       "    </tr>\n",
       "    <tr>\n",
       "      <th>2020-06-13 20:20:00</th>\n",
       "      <td>541.04</td>\n",
       "      <td>1093.04</td>\n",
       "      <td>0.0</td>\n",
       "      <td>0.0</td>\n",
       "      <td>0.0</td>\n",
       "      <td>74.92</td>\n",
       "      <td>28.0</td>\n",
       "      <td>36.40</td>\n",
       "      <td>0.0</td>\n",
       "      <td>28.0</td>\n",
       "      <td>...</td>\n",
       "      <td>37.065600</td>\n",
       "      <td>37.242149</td>\n",
       "      <td>4.573548</td>\n",
       "      <td>9.970680</td>\n",
       "      <td>14.125998</td>\n",
       "      <td>14.957063</td>\n",
       "      <td>1</td>\n",
       "      <td>kyj367pi</td>\n",
       "      <td>24</td>\n",
       "      <td>10</td>\n",
       "    </tr>\n",
       "  </tbody>\n",
       "</table>\n",
       "<p>5 rows × 27 columns</p>\n",
       "</div>"
      ],
      "text/plain": [
       "                       TVOC     eCO2  Lux  Visible  Infrared    NO2  T_NO2  \\\n",
       "Timestamp                                                                    \n",
       "2020-06-13 20:00:00  537.88   990.12  0.0      0.0       0.0  74.64   28.0   \n",
       "2020-06-13 20:05:00  537.70  1006.65  0.0      0.0       0.0  75.85   28.0   \n",
       "2020-06-13 20:10:00  537.64  1020.24  0.0      0.0       0.0  76.56   28.0   \n",
       "2020-06-13 20:15:00  542.40  1080.52  0.0      0.0       0.0  74.52   28.0   \n",
       "2020-06-13 20:20:00  541.04  1093.04  0.0      0.0       0.0  74.92   28.0   \n",
       "\n",
       "                     RH_NO2   CO  T_CO  ...     PM_N_4    PM_N_10    PM_C_1  \\\n",
       "Timestamp                               ...                                   \n",
       "2020-06-13 20:00:00   36.80  0.0  28.0  ...  39.961129  40.164481  4.925515   \n",
       "2020-06-13 20:05:00   37.00  0.0  28.0  ...  32.546536  32.691019  4.020243   \n",
       "2020-06-13 20:10:00   37.00  0.0  28.0  ...  34.809603  34.927838  4.314605   \n",
       "2020-06-13 20:15:00   36.28  0.0  28.0  ...  40.619122  40.779581  5.025503   \n",
       "2020-06-13 20:20:00   36.40  0.0  28.0  ...  37.065600  37.242149  4.573548   \n",
       "\n",
       "                      PM_C_2p5     PM_C_4    PM_C_10  Beacon     Beiwe  \\\n",
       "Timestamp                                                                \n",
       "2020-06-13 20:00:00  11.135812  15.932873  16.892285       1  kyj367pi   \n",
       "2020-06-13 20:05:00   8.442126  11.833886  12.512238       1  kyj367pi   \n",
       "2020-06-13 20:10:00   7.951792  10.694790  11.243390       1  kyj367pi   \n",
       "2020-06-13 20:15:00   9.946487  13.695432  14.445220       1  kyj367pi   \n",
       "2020-06-13 20:20:00   9.970680  14.125998  14.957063       1  kyj367pi   \n",
       "\n",
       "                     Fitbit  REDCap  \n",
       "Timestamp                            \n",
       "2020-06-13 20:00:00      24      10  \n",
       "2020-06-13 20:05:00      24      10  \n",
       "2020-06-13 20:10:00      24      10  \n",
       "2020-06-13 20:15:00      24      10  \n",
       "2020-06-13 20:20:00      24      10  \n",
       "\n",
       "[5 rows x 27 columns]"
      ]
     },
     "execution_count": 3,
     "metadata": {},
     "output_type": "execute_result"
    }
   ],
   "source": [
    "beacon_data = pd.read_csv('../data/processed/bpeace2-beacon.csv',index_col=0,parse_dates=True)\n",
    "# show it off:\n",
    "beacon_data.head()"
   ]
  },
  {
   "cell_type": "markdown",
   "metadata": {},
   "source": [
    "We also need some important information regarding shipment dates to calculate completeness. So we import the beacon-specific ```id_crossover``` file."
   ]
  },
  {
   "cell_type": "code",
   "execution_count": 4,
   "metadata": {},
   "outputs": [
    {
     "data": {
      "text/html": [
       "<div>\n",
       "<style scoped>\n",
       "    .dataframe tbody tr th:only-of-type {\n",
       "        vertical-align: middle;\n",
       "    }\n",
       "\n",
       "    .dataframe tbody tr th {\n",
       "        vertical-align: top;\n",
       "    }\n",
       "\n",
       "    .dataframe thead th {\n",
       "        text-align: right;\n",
       "    }\n",
       "</style>\n",
       "<table border=\"1\" class=\"dataframe\">\n",
       "  <thead>\n",
       "    <tr style=\"text-align: right;\">\n",
       "      <th></th>\n",
       "      <th>REDCap</th>\n",
       "      <th>Beacon</th>\n",
       "      <th>start_date</th>\n",
       "      <th>end_date</th>\n",
       "      <th>move_date</th>\n",
       "      <th>return_date</th>\n",
       "      <th>Lat</th>\n",
       "      <th>Long</th>\n",
       "      <th>Original Address</th>\n",
       "      <th>Volume</th>\n",
       "      <th>Housemates</th>\n",
       "      <th>Roommates</th>\n",
       "      <th>Number of Rooms</th>\n",
       "      <th>original_start</th>\n",
       "      <th>original_end</th>\n",
       "      <th>original_move</th>\n",
       "    </tr>\n",
       "    <tr>\n",
       "      <th>Beiwe</th>\n",
       "      <th></th>\n",
       "      <th></th>\n",
       "      <th></th>\n",
       "      <th></th>\n",
       "      <th></th>\n",
       "      <th></th>\n",
       "      <th></th>\n",
       "      <th></th>\n",
       "      <th></th>\n",
       "      <th></th>\n",
       "      <th></th>\n",
       "      <th></th>\n",
       "      <th></th>\n",
       "      <th></th>\n",
       "      <th></th>\n",
       "      <th></th>\n",
       "    </tr>\n",
       "  </thead>\n",
       "  <tbody>\n",
       "    <tr>\n",
       "      <th>zdpffrox</th>\n",
       "      <td>0</td>\n",
       "      <td>7</td>\n",
       "      <td>2020-06-01</td>\n",
       "      <td>2020-09-01</td>\n",
       "      <td>NaT</td>\n",
       "      <td>2020-09-01</td>\n",
       "      <td>30.326815</td>\n",
       "      <td>-97.744665</td>\n",
       "      <td>2211 Lawnmont Avenue apt 314 Austin, TX 78756</td>\n",
       "      <td>1365</td>\n",
       "      <td>1</td>\n",
       "      <td>1</td>\n",
       "      <td>NaN</td>\n",
       "      <td>2020-06-06</td>\n",
       "      <td>2020-09-03</td>\n",
       "      <td>2020-07-31</td>\n",
       "    </tr>\n",
       "    <tr>\n",
       "      <th>idbkjh8u</th>\n",
       "      <td>4</td>\n",
       "      <td>30</td>\n",
       "      <td>2020-06-11</td>\n",
       "      <td>2020-09-18</td>\n",
       "      <td>2020-08-15</td>\n",
       "      <td>2020-09-25</td>\n",
       "      <td>30.284625</td>\n",
       "      <td>-97.749419</td>\n",
       "      <td>1301 Crossing Pl apt 1513, Austin, TX 78741</td>\n",
       "      <td>1080</td>\n",
       "      <td>0</td>\n",
       "      <td>0</td>\n",
       "      <td>4.0</td>\n",
       "      <td>2020-06-08</td>\n",
       "      <td>2020-09-09</td>\n",
       "      <td>2020-09-09</td>\n",
       "    </tr>\n",
       "    <tr>\n",
       "      <th>kyj367pi</th>\n",
       "      <td>10</td>\n",
       "      <td>1</td>\n",
       "      <td>2020-06-08</td>\n",
       "      <td>2020-09-03</td>\n",
       "      <td>2020-07-31</td>\n",
       "      <td>2020-09-02</td>\n",
       "      <td>30.312614</td>\n",
       "      <td>-97.732338</td>\n",
       "      <td>2822 Rio Grande St. Apt 202 Austin, TX, 78705</td>\n",
       "      <td>1080</td>\n",
       "      <td>0</td>\n",
       "      <td>0</td>\n",
       "      <td>1.0</td>\n",
       "      <td>2020-06-15</td>\n",
       "      <td>NaT</td>\n",
       "      <td>2020-09-14</td>\n",
       "    </tr>\n",
       "    <tr>\n",
       "      <th>lkkjddam</th>\n",
       "      <td>12</td>\n",
       "      <td>21</td>\n",
       "      <td>2020-06-10</td>\n",
       "      <td>2020-09-16</td>\n",
       "      <td>2020-08-02</td>\n",
       "      <td>2020-09-15</td>\n",
       "      <td>30.588384</td>\n",
       "      <td>-97.428051</td>\n",
       "      <td>806 East High St. Grand Saline TX 75140</td>\n",
       "      <td>1188</td>\n",
       "      <td>0</td>\n",
       "      <td>0</td>\n",
       "      <td>3.0</td>\n",
       "      <td>2020-06-02</td>\n",
       "      <td>2020-09-14</td>\n",
       "      <td>2020-09-14</td>\n",
       "    </tr>\n",
       "    <tr>\n",
       "      <th>rnse61g4</th>\n",
       "      <td>15</td>\n",
       "      <td>34</td>\n",
       "      <td>2020-06-11</td>\n",
       "      <td>2020-08-22</td>\n",
       "      <td>2020-08-08</td>\n",
       "      <td>2020-08-21</td>\n",
       "      <td>30.290757</td>\n",
       "      <td>-97.745684</td>\n",
       "      <td>600 W. 26th St APT 3106 Austin TX 78705</td>\n",
       "      <td>1080</td>\n",
       "      <td>2</td>\n",
       "      <td>0</td>\n",
       "      <td>4.0</td>\n",
       "      <td>2020-06-06</td>\n",
       "      <td>NaT</td>\n",
       "      <td>2020-08-10</td>\n",
       "    </tr>\n",
       "  </tbody>\n",
       "</table>\n",
       "</div>"
      ],
      "text/plain": [
       "          REDCap  Beacon start_date   end_date  move_date return_date  \\\n",
       "Beiwe                                                                   \n",
       "zdpffrox       0       7 2020-06-01 2020-09-01        NaT  2020-09-01   \n",
       "idbkjh8u       4      30 2020-06-11 2020-09-18 2020-08-15  2020-09-25   \n",
       "kyj367pi      10       1 2020-06-08 2020-09-03 2020-07-31  2020-09-02   \n",
       "lkkjddam      12      21 2020-06-10 2020-09-16 2020-08-02  2020-09-15   \n",
       "rnse61g4      15      34 2020-06-11 2020-08-22 2020-08-08  2020-08-21   \n",
       "\n",
       "                Lat       Long                               Original Address  \\\n",
       "Beiwe                                                                           \n",
       "zdpffrox  30.326815 -97.744665  2211 Lawnmont Avenue apt 314 Austin, TX 78756   \n",
       "idbkjh8u  30.284625 -97.749419    1301 Crossing Pl apt 1513, Austin, TX 78741   \n",
       "kyj367pi  30.312614 -97.732338  2822 Rio Grande St. Apt 202 Austin, TX, 78705   \n",
       "lkkjddam  30.588384 -97.428051        806 East High St. Grand Saline TX 75140   \n",
       "rnse61g4  30.290757 -97.745684        600 W. 26th St APT 3106 Austin TX 78705   \n",
       "\n",
       "          Volume  Housemates  Roommates  Number of Rooms original_start  \\\n",
       "Beiwe                                                                     \n",
       "zdpffrox    1365           1          1              NaN     2020-06-06   \n",
       "idbkjh8u    1080           0          0              4.0     2020-06-08   \n",
       "kyj367pi    1080           0          0              1.0     2020-06-15   \n",
       "lkkjddam    1188           0          0              3.0     2020-06-02   \n",
       "rnse61g4    1080           2          0              4.0     2020-06-06   \n",
       "\n",
       "         original_end original_move  \n",
       "Beiwe                                \n",
       "zdpffrox   2020-09-03    2020-07-31  \n",
       "idbkjh8u   2020-09-09    2020-09-09  \n",
       "kyj367pi          NaT    2020-09-14  \n",
       "lkkjddam   2020-09-14    2020-09-14  \n",
       "rnse61g4          NaT    2020-08-10  "
      ]
     },
     "execution_count": 4,
     "metadata": {},
     "output_type": "execute_result"
    }
   ],
   "source": [
    "details = pd.read_excel('../data/raw/bpeace2/admin/id_crossover.xlsx',sheet_name='beacon',index_col=1,\n",
    "                       parse_dates=['start_date','end_date','move_date'],infer_datetime_format=True)\n",
    "details.head()"
   ]
  },
  {
   "cell_type": "markdown",
   "metadata": {},
   "source": [
    "# Base Analysis\n",
    "Here we look at the raw, unaltered data in order to understand:\n",
    "- what data are available? (see 4.1.1 notebook to see when participants actually measured data)\n",
    "- how much data were collected?\n",
    "- what are typical measurements and what does this say?\n",
    "- are there any misbehaving sensors?"
   ]
  },
  {
   "cell_type": "code",
   "execution_count": 5,
   "metadata": {},
   "outputs": [],
   "source": [
    "import matplotlib.pyplot as plt\n",
    "import matplotlib.dates as mdates\n",
    "import seaborn as sns\n",
    "from matplotlib.colors import LogNorm"
   ]
  },
  {
   "cell_type": "markdown",
   "metadata": {},
   "source": [
    "## What data are available?\n",
    "Here we look at some basic visualizations to get a sense of the data collected"
   ]
  },
  {
   "cell_type": "markdown",
   "metadata": {},
   "source": [
    "### Heatmaps by Sensor\n",
    "These heatmaps show the values measured by a specific sensor on all of the beacons, but are more useful for determining when data are available."
   ]
  },
  {
   "cell_type": "code",
   "execution_count": null,
   "metadata": {
    "scrolled": true
   },
   "outputs": [
    {
     "name": "stdout",
     "output_type": "stream",
     "text": [
      "Working for PM_C_2p5\n",
      "\tData collected\n",
      "\tPlotting\n"
     ]
    },
    {
     "data": {
      "image/png": "[encoded data removed]",
      "text/plain": [
       "<Figure size 1440x1080 with 2 Axes>"
      ]
     },
     "metadata": {
      "needs_background": "light"
     },
     "output_type": "display_data"
    },
    {
     "name": "stdout",
     "output_type": "stream",
     "text": [
      "Working for CO2\n",
      "\tData collected\n",
      "\tPlotting\n"
     ]
    }
   ],
   "source": [
    "var_list = ['PM_C_2p5','CO2','CO','NO2','T_NO2','Lux']\n",
    "limit_list = [[1,75],[1,2000],[1,20],[1,100],[1,50],[0,600000]]\n",
    "for variable, limits in zip(var_list, limit_list):\n",
    "    print(f'Working for {variable}')\n",
    "    heatmap_df = pd.DataFrame()\n",
    "    for beacon in beacon_data['Beacon'].unique():\n",
    "        data_by_beacon = beacon_data[beacon_data['Beacon'] == beacon]\n",
    "        data_by_beacon = data_by_beacon[data_by_beacon[variable] > 1]\n",
    "        data_by_beacon = data_by_beacon.resample('1h').mean()\n",
    "        sdate = datetime(2020,6,1)\n",
    "        edate = datetime(2020,9,1)\n",
    "        data_by_beacon = data_by_beacon[sdate:edate]\n",
    "        heatmap_df = pd.concat([heatmap_df,data_by_beacon[variable]],axis=1)\n",
    "        heatmap_df.rename(columns={variable:beacon}, inplace=True)\n",
    "\n",
    "    print(f'\\tData collected')\n",
    "    fig, ax = plt.subplots(figsize=(20,15))\n",
    "    df_to_plot = heatmap_df.T\n",
    "    print(f'\\tPlotting')\n",
    "    if variable[0] in ['T','L']:\n",
    "        sns.heatmap(df_to_plot,vmin=np.nanmin(df_to_plot),vmax=np.nanmax(df_to_plot))\n",
    "    else:\n",
    "        sns.heatmap(df_to_plot,norm=LogNorm(vmin=np.nanmin(df_to_plot),vmax=np.nanmax(df_to_plot)))\n",
    "        \n",
    "    x_labels = []\n",
    "    for d in pd.date_range(sdate,edate-timedelta(days=1),freq='d'):\n",
    "        x_labels.append(d.strftime('%m-%d'))\n",
    "        \n",
    "    ax.set_xticklabels(x_labels)\n",
    "    \n",
    "    plt.show()\n",
    "    plt.close()"
   ]
  },
  {
   "cell_type": "markdown",
   "metadata": {},
   "source": [
    "### Time Series Sensor Operation\n",
    "Now we show individual beacons as a simplified time series to see that the sensors were operating."
   ]
  },
  {
   "cell_type": "code",
   "execution_count": null,
   "metadata": {
    "scrolled": false
   },
   "outputs": [],
   "source": [
    "fig, axes = plt.subplots(6,5,figsize=(16,12),sharex=True,sharey='row')\n",
    "rows = [0,0,0,0,0,1,1,1,1,1,2,2,2,2,2,3,3,3,3,3,4,4,4,4,4,5,5,5,5,5]\n",
    "cols = [0,1,2,3,4]*6\n",
    "sensors = ['CO2','PM_C_2p5','Lux','NO2','CO','TVOC']\n",
    "sensor_datapoints_dict = {'CO2':0,'PM_C_2p5':0,'Lux':0,'NO2':0,'CO':0,'TVOC':0}\n",
    "for beiwe, r, c in zip(beacon_data['Beiwe'].unique(),rows,cols):\n",
    "    # restricting to participant\n",
    "    beacon_by_beiwe = beacon_data[beacon_data['Beiwe'] == beiwe]\n",
    "    beacon_by_beiwe = beacon_by_beiwe[details.loc[beiwe,'start_date']:details.loc[beiwe,'end_date']]\n",
    "    beacon = beacon_by_beiwe['Beacon'][0]\n",
    "    limits = [-50,0,-10,-1000,-1000,-50]\n",
    "    # Getting overall percentage of data completion\n",
    "    total_datapoints = (details.loc[beiwe,'return_date'] - details.loc[beiwe,'start_date'] + timedelta(days=1)).days\n",
    "    # x24 x60 to get into minutes, /5 for interverals, x6 for number of sensors\n",
    "    total_datapoints = total_datapoints * 24 * 60 / 5 * len(sensors)\n",
    "    available_datapoints = 0\n",
    "    for sensor in sensors:\n",
    "        available_datapoints += np.count_nonzero(~np.isnan(beacon_by_beiwe[sensor]))\n",
    "        sensor_datapoints_dict[sensor] += np.count_nonzero(~np.isnan(beacon_by_beiwe[sensor]))\n",
    "    total_percent = round(available_datapoints / total_datapoints * 100,1)\n",
    "    \n",
    "    i = 1\n",
    "    ax = axes[r,c]\n",
    "    for sensor, limit in zip(sensors,limits):\n",
    "        beacon_by_beiwe[f'{sensor}_op'] = np.select([pd.to_numeric(beacon_by_beiwe[sensor],errors='coerce') > limit],[i])\n",
    "        ax.scatter(beacon_by_beiwe.index,beacon_by_beiwe[f'{sensor}_op'],s=5,marker='s')\n",
    "        i += 1\n",
    "    # plotting start and stop dates\n",
    "    ax.plot([details.loc[beiwe,'start_date'],details.loc[beiwe,'start_date']],[0,6],color='black',linestyle='dashed')\n",
    "    ax.plot([details.loc[beiwe,'return_date']+timedelta(days=1),details.loc[beiwe,'return_date']+timedelta(days=1)],[0,6],color='black',linestyle='dashed')\n",
    "    ax.text(datetime(2020,6,10),7,f'{beiwe}, B{beacon}: {total_percent}% Complete',va='center',ha='left')\n",
    "    ax.set_ylim([0.5,7.5])\n",
    "    ax.set_xlim([datetime(2020,6,1),datetime(2020,9,1)])\n",
    "    ax.xaxis.set_major_formatter(mdates.DateFormatter('%m/%d'))\n",
    "    ax.xaxis.set_major_locator(mdates.MonthLocator(bymonth=[6,7,8]))\n",
    "    ax.set_yticks(np.arange(1,7,1))\n",
    "    ax.set_yticklabels(['CO$_2$','PM$_{2.5}$','Lux','NO$_2$','CO','TVOC'])\n",
    "    \n",
    "plt.subplots_adjust(hspace=0,wspace=0)\n",
    "plt.savefig('../reports/utx000_initial_update/figures/time-beacon-sensor-operation-comprehensive.pdf')\n",
    "plt.show()\n",
    "plt.close()"
   ]
  },
  {
   "cell_type": "markdown",
   "metadata": {},
   "source": [
    "### Heatmap per beacon\n",
    "Now we can look at individual beacons and see how well they recorded during a specific time period. "
   ]
  },
  {
   "cell_type": "code",
   "execution_count": null,
   "metadata": {},
   "outputs": [],
   "source": [
    "from matplotlib.colors import ListedColormap, LinearSegmentedColormap\n",
    "\n",
    "def create_cmap(colors,nodes):\n",
    "    cmap = LinearSegmentedColormap.from_list(\"mycmap\", list(zip(nodes, colors)))\n",
    "    return cmap"
   ]
  },
  {
   "cell_type": "markdown",
   "metadata": {},
   "source": [
    "<div class=\"alert alert-block alert-success\">\n",
    "    We are looking for a good summary of a week's worth of data. Looks:\n",
    "    <ul>\n",
    "        <li>week of July 6 is a good place to start</li>\n",
    "        <li>Beacon 19</li>\n",
    "    </ul>\n",
    "    </div>"
   ]
  },
  {
   "cell_type": "code",
   "execution_count": null,
   "metadata": {
    "scrolled": true
   },
   "outputs": [],
   "source": [
    "for bb in beacon_data['Beacon'].unique():\n",
    "    beacon_bb = beacon_data[beacon_data['Beacon'] == bb][datetime(2020,7,6):datetime(2020,7,14)]\n",
    "    if len(beacon_bb['NO2']) > 10:\n",
    "        print(f'{bb}:')\n",
    "        beacon_bb = beacon_bb.resample('60T').mean()\n",
    "        beacon_bb_pollutants = beacon_bb[['CO2','PM_C_2p5','NO2','CO','TVOC','Lux','T_CO']]\n",
    "        fig, axes = plt.subplots(7,1,figsize=(12,8),sharex=True)\n",
    "        ylabels = ['CO$_2$',\n",
    "                   'PM$_{2.5}$',\n",
    "                   'NO$_2$',\n",
    "                   'CO',\n",
    "                   'TVOC',\n",
    "                   'Light',\n",
    "                   'T']\n",
    "        cbar_ticks = [np.arange(400,1200,200),\n",
    "                      np.arange(0,40,10),\n",
    "                      np.arange(0,120,50),\n",
    "                      np.arange(0,15,4),\n",
    "                      np.arange(0,800,100),\n",
    "                      np.arange(0,250,50),\n",
    "                      np.arange(18,32,4)]\n",
    "        cmaps = [create_cmap([\"green\", \"yellow\", \"orange\", \"red\",],[0.0, 0.33, 0.66, 1]),\n",
    "                 create_cmap([\"green\", \"yellow\", \"orange\", \"red\"],[0.0, 0.2, 0.4, 1]),\n",
    "                 create_cmap([\"green\", \"yellow\", \"orange\", \"red\"],[0.0, 0.33, 0.66, 1]),\n",
    "                 create_cmap([\"green\", \"yellow\", \"orange\", \"red\"],[0.0, 0.375, 0.75, 1]),\n",
    "                 create_cmap([\"green\", \"yellow\", \"orange\", \"red\"],[0.0, 0.1, 0.31, 1]),\n",
    "                 create_cmap([\"black\",\"purple\",\"red\",\"orange\",\"yellow\",\"green\"],[0.0, 0.1, 0.16, 0.2, 0.64, 1]),\n",
    "                 create_cmap([\"cyan\",\"blue\",\"green\",\"orange\",\"red\"],[0.0, 0.2, 0.4, 0.7, 1])]\n",
    "        for ax, var, low, high, ylabel, ticks, cmap in zip(axes,beacon_bb_pollutants.columns,[400,0,0,0,0,0,18],[1000,30,100,12,700,200,30],ylabels,cbar_ticks,cmaps):\n",
    "            sns.heatmap(beacon_bb_pollutants[[var]].T,vmin=low,vmax=high,ax=ax,cbar_kws={'ticks':ticks},cmap=cmap)\n",
    "            ax.set_ylabel(ylabel)\n",
    "            ax.set_yticklabels([''])\n",
    "            ax.set_xlabel('')\n",
    "\n",
    "        xlabels = ax.get_xticklabels()\n",
    "        new_xlabels = []\n",
    "        for label in xlabels:\n",
    "            new_xlabels.append(label.get_text()[11:16])\n",
    "\n",
    "        ax.set_xticklabels(new_xlabels)\n",
    "        plt.subplots_adjust(hspace=0.1)\n",
    "        plt.savefig('../reports/BuildSys2020/beacon_example.pdf')\n",
    "        plt.show()\n",
    "        plt.close()"
   ]
  },
  {
   "cell_type": "markdown",
   "metadata": {},
   "source": [
    "### Time Series per Beacon\n",
    "Well, just checking a few."
   ]
  },
  {
   "cell_type": "code",
   "execution_count": null,
   "metadata": {},
   "outputs": [],
   "source": [
    "for bb in [25,36]:\n",
    "    beacon_bb = beacon_data[beacon_data['Beacon'] == bb][datetime(2020,7,6):datetime(2020,7,14)]\n",
    "    fig, ax = plt.subplots(figsize=(16,6))\n",
    "    ax.plot(beacon_bb.index,beacon_bb['CO2'])"
   ]
  },
  {
   "cell_type": "markdown",
   "metadata": {},
   "source": [
    "## How much data were collected?\n",
    "Given the study period, we want to know how much of the possible data were collected"
   ]
  },
  {
   "cell_type": "markdown",
   "metadata": {},
   "source": [
    "### Number of Hours\n",
    "A nice metric would to be to see how many hours of data were collected. \n",
    "\n",
    "The number of hours is calculated as the sum of the hours each sensor on each beacon was operational."
   ]
  },
  {
   "cell_type": "code",
   "execution_count": null,
   "metadata": {},
   "outputs": [],
   "source": [
    "# Getting number of datapoints\n",
    "n_datapoints = 0\n",
    "for sensor in ['TVOC','Lux','NO2','CO','CO2','PM_C_2p5']:\n",
    "    data_per_sensor = beacon_data.loc[:,sensor]\n",
    "    data_per_sensor.dropna(inplace=True)\n",
    "    if sensor in ['NO2','CO']:\n",
    "        t = len(beacon_data.loc[:,f'T_{sensor}'].dropna())\n",
    "        rh = len(beacon_data.loc[:,f'RH_{sensor}'].dropna())\n",
    "        print('Comparing DGS sensor readings:')\n",
    "        print(f'\\tT: {t}')\n",
    "        print(f'\\tRH: {rh}')\n",
    "        print(f'\\t{sensor}: {len(data_per_sensor)}')\n",
    "        n_datapoints += max([t,rh,len(data_per_sensor)])\n",
    "    else:\n",
    "        print(f'{sensor}: {len(data_per_sensor)}')\n",
    "        n_datapoints += len(data_per_sensor)\n",
    "        \n",
    "# datapoints are collected every five minutes, so we multiply the number of datapoints by 5 to get the minutes\n",
    "n_hours = n_datapoints * 5 / 60\n",
    "print(f'Number of hours of data collected: {n_hours}')\n",
    "print(f'Number of days of data collected: {n_hours / 24}')"
   ]
  },
  {
   "cell_type": "code",
   "execution_count": null,
   "metadata": {},
   "outputs": [],
   "source": [
    "total_sensor_datapoints = total_datapoints / len(sensors) * len(beacon_data['Beiwe'].unique())\n",
    "total_no2_datapoints = total_datapoints / len(sensors) * 13\n",
    "for key in sensor_datapoints_dict.keys():\n",
    "    if key == 'NO2':\n",
    "        percentage_complete = round(sensor_datapoints_dict[key] / total_no2_datapoints * 100,1)\n",
    "    else:\n",
    "        percentage_complete = round(sensor_datapoints_dict[key] / total_sensor_datapoints * 100,1)\n",
    "    print(f'{key}: {percentage_complete}')"
   ]
  },
  {
   "cell_type": "markdown",
   "metadata": {},
   "source": [
    "## What are typical measurements?"
   ]
  },
  {
   "cell_type": "markdown",
   "metadata": {},
   "source": [
    "### Histograms\n",
    "These plots help show typical measurements by the sensors which we can use to refine our raw values"
   ]
  },
  {
   "cell_type": "markdown",
   "metadata": {},
   "source": [
    "#### Raw Data\n",
    "Here we summarize the distributions of values for the raw data. This helps us see what values we are measuring."
   ]
  },
  {
   "cell_type": "code",
   "execution_count": null,
   "metadata": {
    "scrolled": false
   },
   "outputs": [],
   "source": [
    "for pollutant in sensors:\n",
    "    fig, ax = plt.subplots(figsize=(10,4))\n",
    "    ax.hist(beacon_data[pollutant],bins=100)\n",
    "    ax.set_title(pollutant)"
   ]
  },
  {
   "cell_type": "markdown",
   "metadata": {},
   "source": [
    "Perhaps a certain participant has bad values, now we check the distributions of all the beacons still considering the raw values."
   ]
  },
  {
   "cell_type": "code",
   "execution_count": null,
   "metadata": {},
   "outputs": [],
   "source": [
    "for pollutant in sensors:\n",
    "    print(pollutant)\n",
    "    for pt in beacon_data['Beiwe'].unique():\n",
    "        beacon_pt = beacon_data[beacon_data['Beiwe'] == pt]\n",
    "        if len(beacon_pt[pollutant].dropna()) > 0:\n",
    "            fig, ax = plt.subplots(figsize=(6,2))\n",
    "            ax.hist(beacon_pt[pollutant],bins=100)\n",
    "            ax.set_title(f'{pollutant} - {pt}')\n",
    "\n",
    "            plt.show()\n",
    "            plt.close()"
   ]
  },
  {
   "cell_type": "markdown",
   "metadata": {},
   "source": [
    "#### Notes\n",
    "Some thoughts regarding the pre-processing\n",
    "\n",
    "##### Carbon Dioxide\n",
    "Shows that pre-processing cannot be done in bulk. Extreme values for one device might not be extreme for another device so each device should be processed separately before combining. \n",
    "\n",
    "##### Lux\n",
    "We need to remove values that are -100 since those correspond to errors.\n"
   ]
  },
  {
   "cell_type": "markdown",
   "metadata": {},
   "source": [
    "<div class=\"alert alert-block alert-success\">\n",
    "    Completed the above notes\n",
    "</div>"
   ]
  },
  {
   "cell_type": "markdown",
   "metadata": {},
   "source": [
    "# Example Figures\n",
    "These figures are meant to give a few examples of the processed data."
   ]
  },
  {
   "cell_type": "code",
   "execution_count": null,
   "metadata": {},
   "outputs": [],
   "source": [
    "SMALL_SIZE = 12\n",
    "MEDIUM_SIZE = 14\n",
    "BIGGER_SIZE = 16\n",
    "\n",
    "#plt.rc('font', size=SMALL_SIZE)          # controls default text sizes\n",
    "#plt.rc('axes', titlesize=SMALL_SIZE)     # fontsize of the axes title\n",
    "plt.rc('axes', labelsize=BIGGER_SIZE)    # fontsize of the x and y labels\n",
    "plt.rc('xtick', labelsize=SMALL_SIZE)    # fontsize of the tick labels\n",
    "plt.rc('ytick', labelsize=MEDIUM_SIZE)    # fontsize of the tick labels\n",
    "#plt.rc('legend', fontsize=SMALL_SIZE)    # legend fontsize\n",
    "#plt.rc('figure', titlesize=BIGGER_SIZE)  # fontsize of the figure title"
   ]
  },
  {
   "cell_type": "markdown",
   "metadata": {},
   "source": [
    "## CO2\n",
    "We want to look at CO2 concentrations over a short time interval from a variety of the participants."
   ]
  },
  {
   "cell_type": "code",
   "execution_count": null,
   "metadata": {
    "scrolled": false
   },
   "outputs": [],
   "source": [
    "sdate = datetime(2020,6,25)\n",
    "edate = datetime(2020,7,24)\n",
    "good_CO2_sensors = [5,7,10,15,21,24,25,26,30,34] # beacon with properly operating CO2 sensors\n",
    "beacon_CO2 = beacon_data[beacon_data['Beacon'].isin(good_CO2_sensors)]\n",
    "beacon_CO2 = beacon_CO2[['CO2','Beacon']]\n",
    "heatmap_df = pd.DataFrame()\n",
    "for beacon in beacon_CO2['Beacon'].unique():\n",
    "    df = beacon_CO2[beacon_CO2['Beacon'] == beacon]\n",
    "    df = df.resample('60T').mean()\n",
    "    df = df[sdate:edate]\n",
    "    df.columns = [beacon,'Beacon']\n",
    "    heatmap_df = heatmap_df.append(df[[beacon]].T)\n",
    "    \n",
    "heatmap_df.sort_index(inplace=True)\n",
    "fig, axes = plt.subplots(1,2,figsize=(12,6),gridspec_kw={'width_ratios': [40, 1]})\n",
    "sns.heatmap(heatmap_df, vmin=400, vmax=2500, cbar_kws={'ticks':np.arange(400,2800,400),'label':'Concentration (ppm)'}, cmap=create_cmap([\"green\", \"yellow\", \"orange\", \"red\",],[0.0, 0.33, 0.66, 1]), cbar_ax=axes[1], ax=axes[0])\n",
    "\n",
    "ax = axes[0]\n",
    "xlabels = ax.get_xticklabels()\n",
    "new_xlabels = []\n",
    "for label in xlabels:\n",
    "    if label.get_text()[11:13] == \"00\":\n",
    "        new_xlabels.append(label.get_text()[5:10])\n",
    "    else:\n",
    "        new_xlabels.append('')\n",
    "\n",
    "ax.set_xticklabels(new_xlabels,rotation=-45)\n",
    "ax.set_xlabel('')\n",
    "\n",
    "ax.set_yticklabels(ax.get_yticklabels(),rotation=0)\n",
    "ax.set_ylabel('Beacon Number')\n",
    "\n",
    "plt.savefig(\"../reports/UTx000_COVID/beacon-co2-heatmap-reduced.pdf\")\n",
    "plt.subplots_adjust(wspace=0.05)\n",
    "plt.show()\n",
    "plt.close()"
   ]
  },
  {
   "cell_type": "markdown",
   "metadata": {},
   "source": [
    "# Filtered Data Summary\n",
    "Borrowing from other research, we can create a table of values for each of the variables measured by the beacon."
   ]
  },
  {
   "cell_type": "code",
   "execution_count": null,
   "metadata": {},
   "outputs": [],
   "source": [
    "beacon_filtered = pd.read_csv('../data/processed/bpeace2-beacon-fb_ema_and_gps_restricted.csv',\n",
    "                             index_col=0)\n",
    "beacon_filtered.head()"
   ]
  },
  {
   "cell_type": "markdown",
   "metadata": {},
   "source": [
    "Combining T and RH columns from CO and NO2 sensors - averaging where both measured a value and using the single value if only one measured T or RH."
   ]
  },
  {
   "cell_type": "code",
   "execution_count": null,
   "metadata": {},
   "outputs": [],
   "source": [
    "beacon_filtered['T'] = beacon_filtered[['T_CO','T_NO2']].mean(axis=1)\n",
    "beacon_filtered['RH'] = beacon_filtered[['RH_CO','RH_NO2']].mean(axis=1)"
   ]
  },
  {
   "cell_type": "markdown",
   "metadata": {},
   "source": [
    "Dropping all unecessary columns"
   ]
  },
  {
   "cell_type": "code",
   "execution_count": null,
   "metadata": {},
   "outputs": [],
   "source": [
    "variables = ['Lux','T','RH','TVOC','CO2','CO','NO2','PM_C_1','PM_C_2p5','PM_C_10']\n",
    "beacon_important = beacon_filtered[variables]\n",
    "beacon_important.columns"
   ]
  },
  {
   "cell_type": "markdown",
   "metadata": {},
   "source": [
    "Getting descriptive stats"
   ]
  },
  {
   "cell_type": "code",
   "execution_count": null,
   "metadata": {},
   "outputs": [],
   "source": [
    "stats = {'n':[],'avg':[],'med':[],'min':[],'25%':[],'75%':[],'max':[],'skewness':[],'kurtosis':[]}\n",
    "precision = 2\n",
    "for variable in variables:\n",
    "    li = beacon_filtered[variable].dropna().values\n",
    "    stats['n'].append(len(li))\n",
    "    stats['avg'].append(round(np.nanmean(li),precision))\n",
    "    stats['med'].append(round(np.nanmedian(li),precision))\n",
    "    stats['min'].append(round(np.nanmin(li),precision))\n",
    "    stats['25%'].append(round(np.nanpercentile(li,25),precision))\n",
    "    stats['75%'].append(round(np.nanpercentile(li,75),precision))\n",
    "    stats['max'].append(round(np.nanmax(li),precision))\n",
    "    stats['skewness'].append(round(scipy.stats.skew(li),precision))\n",
    "    stats['kurtosis'].append(round(scipy.stats.kurtosis(li),precision))"
   ]
  },
  {
   "cell_type": "markdown",
   "metadata": {},
   "source": [
    "Creating a stats dataframe and outputting the results"
   ]
  },
  {
   "cell_type": "code",
   "execution_count": null,
   "metadata": {},
   "outputs": [],
   "source": [
    "stats_df = pd.DataFrame(data=stats)\n",
    "stats_df.index = variables\n",
    "stats_df"
   ]
  },
  {
   "cell_type": "markdown",
   "metadata": {},
   "source": [
    "Formatting the dataframe nicely"
   ]
  },
  {
   "cell_type": "code",
   "execution_count": null,
   "metadata": {},
   "outputs": [],
   "source": [
    "beacon_important.columns = ['TVOC','Light','NO$_2$','CO','T','RH','CO$_2$','PM$_1$','PM$_{2.5}$','PM$_{10}$']"
   ]
  },
  {
   "cell_type": "markdown",
   "metadata": {},
   "source": [
    "Creating a correlation matrix"
   ]
  },
  {
   "cell_type": "code",
   "execution_count": null,
   "metadata": {},
   "outputs": [],
   "source": [
    "corr = beacon_important.corr()\n",
    "corr = round(corr,2)\n",
    "mask = np.triu(np.ones_like(corr, dtype=bool))\n",
    "fig, ax = plt.subplots(figsize=(9, 7))\n",
    "sns.heatmap(corr, mask=mask, \n",
    "                 vmin=-1, vmax=1, center=0, \n",
    "                 cmap=sns.diverging_palette(20, 220, n=200),cbar_kws={'ticks':[-1,-0.5,0,0.5,1]},\n",
    "                 square=True,linewidths=0.5,annot=True,ax=ax)\n",
    "\n",
    "yticklabels = ax.get_yticklabels()\n",
    "yticklabels[0] = ' '\n",
    "ax.set_yticklabels(yticklabels,rotation=0,ha='right')\n",
    "\n",
    "xticklabels = ax.get_xticklabels()\n",
    "xticklabels[-1] = ' '\n",
    "ax.set_xticklabels(xticklabels,rotation=0,ha='center')\n",
    "\n",
    "plt.show()\n",
    "plt.close()"
   ]
  },
  {
   "cell_type": "markdown",
   "metadata": {},
   "source": [
    "# Filtered Data Completeness\n",
    "We can also look at how complete the datasets are. There are two ways to summarize the completeness:\n",
    "1. Percent of possible data collected over the study period i.e. while the participants had their respective devices\n",
    "2. Percent of possible data collected while the beacon was actually operating. \n"
   ]
  },
  {
   "cell_type": "markdown",
   "metadata": {},
   "source": [
    "## Percent of Possible Data During Study Period\n",
    "We first need to ensure that we have the correct start and stop periods for each individual. This information is housed in the ```details``` dataframe. "
   ]
  },
  {
   "cell_type": "code",
   "execution_count": null,
   "metadata": {
    "scrolled": false
   },
   "outputs": [],
   "source": [
    "details"
   ]
  },
  {
   "cell_type": "code",
   "execution_count": null,
   "metadata": {},
   "outputs": [],
   "source": [
    "len(details['Beacon'].unique())"
   ]
  },
  {
   "cell_type": "code",
   "execution_count": null,
   "metadata": {},
   "outputs": [],
   "source": []
  }
 ],
 "metadata": {
  "kernelspec": {
   "display_name": "Python 3",
   "language": "python",
   "name": "python3"
  },
  "language_info": {
   "codemirror_mode": {
    "name": "ipython",
    "version": 3
   },
   "file_extension": ".py",
   "mimetype": "text/x-python",
   "name": "python",
   "nbconvert_exporter": "python",
   "pygments_lexer": "ipython3",
   "version": "3.7.0"
  }
 },
 "nbformat": 4,
 "nbformat_minor": 4
}
